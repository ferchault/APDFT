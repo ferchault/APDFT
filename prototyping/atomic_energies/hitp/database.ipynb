{
 "cells": [
  {
   "cell_type": "code",
   "execution_count": 14,
   "metadata": {},
   "outputs": [],
   "source": [
    "#import find_converged as fc\n",
    "import os\n",
    "import glob\n",
    "import pandas as pd\n",
    "\n",
    "import shutil"
   ]
  },
  {
   "cell_type": "code",
   "execution_count": 15,
   "metadata": {},
   "outputs": [],
   "source": [
    "def initialize_database(workdirs):\n",
    "    workdirs.sort()\n",
    "    indices = []\n",
    "    comps = []\n",
    "    lam_vals = []\n",
    "    for wd in workdirs:\n",
    "        splitted = wd.split('/')\n",
    "        comp = splitted[-2]\n",
    "        lam_val = splitted[-1]\n",
    "        comps.append(comp)\n",
    "        lam_vals.append(lam_val)\n",
    "        indices.append(f'{comp}:{lam_val}')\n",
    "\n",
    "    database = pd.DataFrame(index = indices, columns=['comp_name', 'lam_val', 'status', 'restart', 'workdir'])\n",
    "    database['comp_name'] = comps\n",
    "    database['lam_val'] = lam_vals\n",
    "    database['workdir'] = workdirs\n",
    "    database['restart'] = len(workdirs)*[False]\n",
    "    return(database)\n",
    "\n",
    "def add_columns(col_workdir, col2add='all'):\n",
    "    \"\"\"\n",
    "    adds colums to database\n",
    "    \"\"\"\n",
    "    if col2add=='all':\n",
    "        lam_val = []\n",
    "        comp_name = []\n",
    "        for i in col_workdir:\n",
    "            splitted = i.split('/')\n",
    "            lam_val.append(splitted[-1])\n",
    "            comp_name.append(splitted[-2])\n",
    "        status = len(col_workdir)*['']\n",
    "        cols = comp_name, lam_val, status\n",
    "        \n",
    "    return(cols)"
   ]
  },
  {
   "cell_type": "code",
   "execution_count": 16,
   "metadata": {},
   "outputs": [],
   "source": [
    "# first initialization\n",
    "paths = glob.glob('/scicore/home/lilienfeld/sahre0000/projects/atomic_energies/results/amons/amons_38/amon*/ve*')\n",
    "database = initialize_database(paths)\n",
    "database.to_pickle('/scicore/home/lilienfeld/sahre0000/projects/atomic_energies/results/amons/amons_38/calculation_manager.pd')\n",
    "# database = pd.DataFrame(data = paths, columns=['workdir'])\n",
    "\n",
    "# # make new cols\n",
    "# colwd = list(database['workdir'])\n",
    "# cols = add_columns(colwd)\n",
    "# # add cols\n",
    "# database['comp_name'] = cols[0]\n",
    "# database['lam_val'] = cols[1]\n",
    "# database['status'] = cols[2]"
   ]
  },
  {
   "cell_type": "code",
   "execution_count": 19,
   "metadata": {},
   "outputs": [],
   "source": [
    "with open('/scicore/home/lilienfeld/sahre0000/projects/atomic_energies/results/amons/amons_38/second_submission', 'w') as f:\n",
    "    for line in list(database['workdir'][2000:4000]):\n",
    "        f.write(line+'\\n')"
   ]
  },
  {
   "cell_type": "code",
   "execution_count": 10,
   "metadata": {},
   "outputs": [
    {
     "data": {
      "text/plain": [
       "['/scicore/home/lilienfeld/sahre0000/projects/atomic_energies/results/amons/amon_000212/ve_28',\n",
       " '/scicore/home/lilienfeld/sahre0000/projects/atomic_energies/results/amons/amon_000212/ve_11',\n",
       " '/scicore/home/lilienfeld/sahre0000/projects/atomic_energies/results/amons/amon_000212/ve_06',\n",
       " '/scicore/home/lilienfeld/sahre0000/projects/atomic_energies/results/amons/amon_000212/ve_22',\n",
       " '/scicore/home/lilienfeld/sahre0000/projects/atomic_energies/results/amons/amon_000212/ve_17']"
      ]
     },
     "execution_count": 10,
     "metadata": {},
     "output_type": "execute_result"
    }
   ],
   "source": [
    "list(database['workdir'])[200:5]"
   ]
  },
  {
   "cell_type": "code",
   "execution_count": 18,
   "metadata": {},
   "outputs": [
    {
     "data": {
      "text/plain": [
       "13436"
      ]
     },
     "execution_count": 18,
     "metadata": {},
     "output_type": "execute_result"
    }
   ],
   "source": [
    "len(database['workdir'])"
   ]
  }
 ],
 "metadata": {
  "kernelspec": {
   "display_name": "Python [conda env:.conda-qm-tools] *",
   "language": "python",
   "name": "conda-env-.conda-qm-tools-py"
  },
  "language_info": {
   "codemirror_mode": {
    "name": "ipython",
    "version": 3
   },
   "file_extension": ".py",
   "mimetype": "text/x-python",
   "name": "python",
   "nbconvert_exporter": "python",
   "pygments_lexer": "ipython3",
   "version": "3.7.9"
  }
 },
 "nbformat": 4,
 "nbformat_minor": 4
}
