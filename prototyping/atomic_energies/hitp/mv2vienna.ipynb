{
 "cells": [
  {
   "cell_type": "code",
   "execution_count": null,
   "id": "1bf38c3e-d065-4e9c-af0c-11b9084570f0",
   "metadata": {},
   "outputs": [],
   "source": [
    "rfiles = glob.glob('dsgdb9nsd_*/*/*/RESTART.1') # list of restart files\n",
    "lam_val = dest.split('/')[-2] # lambda value\n",
    "comp_name = dest.split('/')[-4] # comp name\n",
    "# dest = os.path.join(.../comp_name, lam_val + 'RESTART.1')\n",
    "# mv(path, dest)\n",
    "\n",
    "# tar and scp to vienna"
   ]
  }
 ],
 "metadata": {
  "kernelspec": {
   "display_name": "Python 3",
   "language": "python",
   "name": "python3"
  },
  "language_info": {
   "codemirror_mode": {
    "name": "ipython",
    "version": 3
   },
   "file_extension": ".py",
   "mimetype": "text/x-python",
   "name": "python",
   "nbconvert_exporter": "python",
   "pygments_lexer": "ipython3",
   "version": "3.9.5"
  }
 },
 "nbformat": 4,
 "nbformat_minor": 5
}
