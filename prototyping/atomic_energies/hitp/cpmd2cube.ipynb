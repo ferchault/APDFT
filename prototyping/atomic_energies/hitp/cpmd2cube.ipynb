{
 "cells": [
  {
   "cell_type": "code",
   "execution_count": null,
   "metadata": {},
   "outputs": [],
   "source": [
    "# execute cpm2cube.x while error message\n",
    "# check output if sum > 1? -> give warning"
   ]
  },
  {
   "cell_type": "code",
   "execution_count": 1,
   "metadata": {},
   "outputs": [],
   "source": [
    "import subprocess\n",
    "import os\n",
    "import shutil"
   ]
  },
  {
   "cell_type": "code",
   "execution_count": 2,
   "metadata": {},
   "outputs": [],
   "source": [
    "def run_cpmp2cube(cpmd2cube_exe, work_dir):\n",
    "    os.chdir(work_dir)\n",
    "    cpmd2cube_exe = '/home/misa/opt/cpmd2cube/cpmd2cube.x'\n",
    "    process = subprocess.run([cpmd2cube_exe, 'DENSITY'], capture_output = True,text=True)\n",
    "    return(process)\n",
    "\n",
    "def check_conversion(stdout, stderr):\n",
    "    if stderr == 'STOP read_density_file, c0 incorrectly sized\\n':\n",
    "        return('c0 error')\n",
    "    elif len(stdout) > 2 and len(stderr)==0:\n",
    "        lines = stdout.split('\\n')\n",
    "        sum_squared = float(lines[2].split()[-1][:-1])\n",
    "        if sum_squared < 1:\n",
    "            return('reasonable density')\n",
    "        else:\n",
    "            return('sum^2 to large')\n",
    "    else:\n",
    "        return('unexpected event occured')"
   ]
  },
  {
   "cell_type": "code",
   "execution_count": 11,
   "metadata": {},
   "outputs": [],
   "source": [
    "density_dirs = '/home/misa/projects/atomic-energies/data/ueg_reference/amons/geometry/dihedrals/ethane/density_dirs'#'/home/misa/projects/atomic-energies/data/ueg_reference/amons/geometry/angles/density_dirs'\n",
    "workdirs = []\n",
    "with open(density_dirs, 'r') as f:\n",
    "    for line in f:\n",
    "        workdirs.append(line.strip('\\n'))"
   ]
  },
  {
   "cell_type": "code",
   "execution_count": 15,
   "metadata": {},
   "outputs": [
    {
     "name": "stdout",
     "output_type": "stream",
     "text": [
      "Try 0\n",
      "Try 0\n",
      "Try 0\n",
      "Try 0\n",
      "Try 1\n",
      "Try 0\n",
      "Try 1\n"
     ]
    }
   ],
   "source": [
    "#workdirs = ['/home/misa/projects/atomic-energies/data/ueg_reference/amons/geometry/angles/ethene_HCH/ang_2/ve_02','/home/misa/projects/atomic-energies/data/ueg_reference/amons/geometry/angles/ethene_HCH/ang_2/ve_05']\n",
    "cpmd2cube_exe = '/home/misa/opt/cpmd2cube/cpmd2cube.x'\n",
    "run_info = dict()\n",
    "for wd in workdirs[:5]:\n",
    "    # make cube file\n",
    "    i = 0\n",
    "    success = 'c0 error'\n",
    "    while success == 'c0 error':\n",
    "        print(f'Try {i}')\n",
    "        process = run_cpmp2cube(cpmd2cube_exe, wd)\n",
    "        success = check_conversion(process.stdout, process.stderr)\n",
    "        run_info[wd] = success\n",
    "        i += 1\n",
    "    # move cube file\n",
    "    if success == 'reasonable density':\n",
    "        src = os.path.join(wd, 'DENSITY.cube') # cube path source\n",
    "\n",
    "        # make cube dir if not existing\n",
    "        cube_dir = os.path.join('/'.join(wd.split('/')[:-1]), 'cube-files')\n",
    "        os.makedirs(cube_dir, exist_ok=True)\n",
    "\n",
    "        lam_val = wd.split('/')[-1]\n",
    "        cube_name = f'{lam_val}.cube' # new cube name\n",
    "        dest = os.path.join(cube_dir, cube_name) # cube path destination\n",
    "        \n",
    "        shutil.move(src, dest)\n",
    "        \n",
    "        # delete DENSITY.pdb file\n",
    "        density_pdb = os.path.join(wd, 'DENSITY.pdb')\n",
    "        os.remove(density_pdb)\n",
    "        "
   ]
  },
  {
   "cell_type": "code",
   "execution_count": 13,
   "metadata": {},
   "outputs": [],
   "source": [
    "for k in run_info.keys():\n",
    "    if not run_info[k] == 'reasonable density':\n",
    "        print(k)"
   ]
  },
  {
   "cell_type": "code",
   "execution_count": 16,
   "metadata": {},
   "outputs": [
    {
     "data": {
      "text/plain": [
       "{'/home/misa/projects/atomic-energies/data/ueg_reference/amons/geometry/dihedrals/ethane/dihe_10.0/ve_03': 'reasonable density',\n",
       " '/home/misa/projects/atomic-energies/data/ueg_reference/amons/geometry/dihedrals/ethane/dihe_10.0/ve_06': 'reasonable density',\n",
       " '/home/misa/projects/atomic-energies/data/ueg_reference/amons/geometry/dihedrals/ethane/dihe_10.0/ve_08': 'reasonable density',\n",
       " '/home/misa/projects/atomic-energies/data/ueg_reference/amons/geometry/dihedrals/ethane/dihe_10.0/ve_11': 'reasonable density',\n",
       " '/home/misa/projects/atomic-energies/data/ueg_reference/amons/geometry/dihedrals/ethane/dihe_10.0/ve_14': 'reasonable density'}"
      ]
     },
     "execution_count": 16,
     "metadata": {},
     "output_type": "execute_result"
    }
   ],
   "source": [
    "run_info"
   ]
  }
 ],
 "metadata": {
  "kernelspec": {
   "display_name": "Python [conda env:qm-tools] *",
   "language": "python",
   "name": "conda-env-qm-tools-py"
  },
  "language_info": {
   "codemirror_mode": {
    "name": "ipython",
    "version": 3
   },
   "file_extension": ".py",
   "mimetype": "text/x-python",
   "name": "python",
   "nbconvert_exporter": "python",
   "pygments_lexer": "ipython3",
   "version": "3.8.5"
  }
 },
 "nbformat": 4,
 "nbformat_minor": 4
}
