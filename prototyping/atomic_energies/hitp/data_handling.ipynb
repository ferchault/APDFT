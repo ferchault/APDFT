{
 "cells": [
  {
   "cell_type": "code",
   "execution_count": 1,
   "metadata": {},
   "outputs": [],
   "source": [
    "import os\n",
    "\n",
    "import sys\n",
    "sys.path.insert(0, '/home/misa/git_repositories/APDFT/prototyping/atomic_energies/hitp')\n",
    "sys.path.insert(0, '/home/misa/git_repositories/APDFT/prototyping/atomic_energies')\n",
    "import utils_qm as uqm"
   ]
  },
  {
   "cell_type": "code",
   "execution_count": 3,
   "metadata": {},
   "outputs": [],
   "source": [
    "dirs = uqm.read_list('/home/misa/projects/atomic-energies/data/ueg_reference/amons/geometry/bond_stretch/butanol/cubes2')"
   ]
  },
  {
   "cell_type": "code",
   "execution_count": 4,
   "metadata": {},
   "outputs": [],
   "source": [
    "new_dirs = []\n",
    "for d in dirs:\n",
    "    d2 = []\n",
    "    for ve in ['ve_13', 've_19', 've_26', 've_32']:\n",
    "        d2.append(d+'/'+ve)\n",
    "    new_dirs.extend(d2)"
   ]
  },
  {
   "cell_type": "code",
   "execution_count": 6,
   "metadata": {},
   "outputs": [],
   "source": [
    "with open('/home/misa/projects/atomic-energies/data/ueg_reference/amons/geometry/bond_stretch/butanol/cubes2', 'w') as f:\n",
    "    for line in new_dirs:\n",
    "        f.write(line+'\\n')"
   ]
  },
  {
   "cell_type": "code",
   "execution_count": 7,
   "metadata": {},
   "outputs": [
    {
     "data": {
      "text/plain": [
       "{'/home/misa/projects/atomic-energies/data/ueg_reference/amons/geometry/bond_stretch/butanol/dist_-0.5/ve_13': 'reasonable density',\n",
       " '/home/misa/projects/atomic-energies/data/ueg_reference/amons/geometry/bond_stretch/butanol/dist_-0.5/ve_19': 'reasonable density',\n",
       " '/home/misa/projects/atomic-energies/data/ueg_reference/amons/geometry/bond_stretch/butanol/dist_-0.5/ve_26': 'reasonable density',\n",
       " '/home/misa/projects/atomic-energies/data/ueg_reference/amons/geometry/bond_stretch/butanol/dist_-0.5/ve_32': 'reasonable density',\n",
       " '/home/misa/projects/atomic-energies/data/ueg_reference/amons/geometry/bond_stretch/butanol/dist_0.5/ve_13': 'reasonable density',\n",
       " '/home/misa/projects/atomic-energies/data/ueg_reference/amons/geometry/bond_stretch/butanol/dist_0.5/ve_19': 'reasonable density',\n",
       " '/home/misa/projects/atomic-energies/data/ueg_reference/amons/geometry/bond_stretch/butanol/dist_0.5/ve_26': 'reasonable density',\n",
       " '/home/misa/projects/atomic-energies/data/ueg_reference/amons/geometry/bond_stretch/butanol/dist_0.5/ve_32': 'reasonable density',\n",
       " '/home/misa/projects/atomic-energies/data/ueg_reference/amons/geometry/bond_stretch/butanol/dist_0.75/ve_13': 'reasonable density',\n",
       " '/home/misa/projects/atomic-energies/data/ueg_reference/amons/geometry/bond_stretch/butanol/dist_0.75/ve_19': 'reasonable density',\n",
       " '/home/misa/projects/atomic-energies/data/ueg_reference/amons/geometry/bond_stretch/butanol/dist_0.75/ve_26': 'reasonable density',\n",
       " '/home/misa/projects/atomic-energies/data/ueg_reference/amons/geometry/bond_stretch/butanol/dist_0.75/ve_32': 'reasonable density',\n",
       " '/home/misa/projects/atomic-energies/data/ueg_reference/amons/geometry/bond_stretch/butanol/dist_1.0/ve_13': 'reasonable density',\n",
       " '/home/misa/projects/atomic-energies/data/ueg_reference/amons/geometry/bond_stretch/butanol/dist_1.0/ve_19': 'reasonable density',\n",
       " '/home/misa/projects/atomic-energies/data/ueg_reference/amons/geometry/bond_stretch/butanol/dist_1.0/ve_26': 'reasonable density',\n",
       " '/home/misa/projects/atomic-energies/data/ueg_reference/amons/geometry/bond_stretch/butanol/dist_1.0/ve_32': 'reasonable density'}"
      ]
     },
     "execution_count": 7,
     "metadata": {},
     "output_type": "execute_result"
    }
   ],
   "source": [
    "uqm.load_obj('/home/misa/projects/atomic-energies/data/ueg_reference/amons/geometry/bond_stretch/butanol/cube_info')"
   ]
  },
  {
   "cell_type": "code",
   "execution_count": null,
   "metadata": {},
   "outputs": [],
   "source": []
  }
 ],
 "metadata": {
  "kernelspec": {
   "display_name": "Python 3 (ipykernel)",
   "language": "python",
   "name": "python3"
  },
  "language_info": {
   "codemirror_mode": {
    "name": "ipython",
    "version": 3
   },
   "file_extension": ".py",
   "mimetype": "text/x-python",
   "name": "python",
   "nbconvert_exporter": "python",
   "pygments_lexer": "ipython3",
   "version": "3.9.10"
  }
 },
 "nbformat": 4,
 "nbformat_minor": 4
}
