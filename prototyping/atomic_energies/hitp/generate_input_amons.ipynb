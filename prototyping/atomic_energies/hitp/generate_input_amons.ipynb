{
 "cells": [
  {
   "cell_type": "code",
   "execution_count": 6,
   "metadata": {},
   "outputs": [],
   "source": [
    "import pandas as pd\n",
    "import sys\n",
    "import numpy as np\n",
    "import os\n",
    "sys.path.insert(0, '/home/misa/git_repositories/APDFT/prototyping/atomic_energies/hitp/')\n",
    "sys.path.insert(0, '/home/misa/git_repositories/APDFT/prototyping/atomic_energies/')\n",
    "import prepare_calculations\n",
    "import explore_qml_data as eqd\n",
    "import utils_qm as uqm"
   ]
  },
  {
   "cell_type": "code",
   "execution_count": 7,
   "metadata": {},
   "outputs": [],
   "source": [
    "def read_xyz_data(data, look_for_charge=True):\n",
    "    \"\"\"\n",
    "    xyz data already as list where every item is a line of xyz-file\n",
    "    \"\"\"\n",
    "\n",
    "    atomic_symbols = []\n",
    "    xyz_coordinates = []\n",
    "    charge = 0\n",
    "    title = \"\"\n",
    "\n",
    "\n",
    "    for line_number, line in enumerate(data):\n",
    "        if line_number == 0:\n",
    "            num_atoms = int(line)\n",
    "        elif line_number == 1:\n",
    "            title = line\n",
    "            if \"charge=\" in line:\n",
    "                charge = int(line.split(\"=\")[1])\n",
    "        elif str.isalpha(line[0]):\n",
    "            atomic_symbol, x, y, z = line.split()\n",
    "            atomic_symbols.append(atomic_symbol)\n",
    "            xyz_coordinates.append([float(x), float(y), float(z)])\n",
    "        else:\n",
    "            break\n",
    "\n",
    "    atoms = [atom.upper() for atom in atomic_symbols]\n",
    "\n",
    "    return atoms, charge, xyz_coordinates"
   ]
  },
  {
   "cell_type": "code",
   "execution_count": 8,
   "metadata": {},
   "outputs": [],
   "source": [
    "num_ve = 38\n",
    "amons_db = pd.read_pickle('/home/misa/datasets/amons_qm9_11k/amons_database.pd')\n",
    "smiles_list = list(amons_db.loc[amons_db['num_ve'] == num_ve, 'smiles'])"
   ]
  },
  {
   "cell_type": "code",
   "execution_count": 4,
   "metadata": {},
   "outputs": [
    {
     "data": {
      "text/plain": [
       "3359"
      ]
     },
     "execution_count": 4,
     "metadata": {},
     "output_type": "execute_result"
    }
   ],
   "source": [
    "len(smiles_list)"
   ]
  },
  {
   "cell_type": "code",
   "execution_count": 5,
   "metadata": {},
   "outputs": [
    {
     "name": "stdout",
     "output_type": "stream",
     "text": [
      "Generating input files for 3359 compounds\n"
     ]
    }
   ],
   "source": [
    "print(f'Generating input files for {len(smiles_list)} compounds')\n",
    "amons_dict = uqm.load_obj('/home/misa/datasets/amons_qm9_11k/unique_amons_dict')\n",
    "\n",
    "template_inp = '/home/misa/projects/atomic-energies/data/cpmd_params_template_pbe.inp'\n",
    "template_inp_small_lambda ='/home/misa/projects/atomic-energies/data/cpmd_params_template_pbe_small_lambda.inp'\n",
    "batch_no = f'amons_{num_ve}'\n",
    "\n",
    "\n",
    "for i, smiles in enumerate(smiles_list):\n",
    "        \n",
    "    xyz_data = amons_dict[smiles]\n",
    "    \n",
    "    num_digits_i = len(str(i+1))\n",
    "    leading_zeros = (6 - num_digits_i)*'0'\n",
    "    compound_name = f'amon_{leading_zeros}{i+1}'\n",
    "    compound_path = f'/home/misa/projects/atomic-energies/data/ueg_reference/amons/{batch_no}/{compound_name}'\n",
    "\n",
    "    lambda_values = np.array([0.2, 0.6, 0.8, 1.0])\n",
    "    atom_symbols, charge, coords_initial = read_xyz_data(xyz_data)\n",
    "    \n",
    "    elements = {'H':1, 'C':6, 'N':7, 'O':8, 'F':9}\n",
    "    nuc_charges = []\n",
    "    for a in atom_symbols:\n",
    "        nuc_charges.append(elements[a])\n",
    "\n",
    "    # calculation parameters (independent of lambda value)\n",
    "    num_ve = eqd.get_num_val_elec(nuc_charges) # get number of ve\n",
    "    boxsize = prepare_calculations.get_boxsize(num_ve) # get boxsize\n",
    "    num_gpts_lower, num_gpts_higher = prepare_calculations.get_gpts(num_ve) # get gridpoints\n",
    "    num_gpts = num_gpts_higher\n",
    "\n",
    "    # shift molecule to center of box\n",
    "    coords_final = eqd.shift2center(coords_initial, np.array([boxsize, boxsize, boxsize])/2)\n",
    "\n",
    "    # get correct lambda value\n",
    "    for lam_val in lambda_values:\n",
    "        new_lambda, scaled_ve = prepare_calculations.get_lambda(lam_val, num_ve)\n",
    "        # scaled_ve is number of electrons added from pseudopotential file, the remaining electrons must be added in form of a negative charge\n",
    "        charge = scaled_ve - num_ve # write input\n",
    "\n",
    "        # create directory if necessary\n",
    "        if scaled_ve < 10:\n",
    "            scaled_ve_str = '0'+str(scaled_ve)\n",
    "        else:\n",
    "            scaled_ve_str = str(scaled_ve)\n",
    "        work_dir = os.path.join(compound_path, f've_{scaled_ve_str}/')\n",
    "        os.makedirs(work_dir, exist_ok=True)\n",
    "\n",
    "        # generate input file\n",
    "        input_path = os.path.join(work_dir, 'run.inp')\n",
    "        if new_lambda > 0.5:\n",
    "            prepare_calculations.write_input(atom_symbols, charge, coords_final, num_gpts, boxsize, input_path, template_inp, debug = False)\n",
    "        else:\n",
    "            prepare_calculations.write_input(atom_symbols, charge, coords_final, num_gpts, boxsize, input_path, template_inp_small_lambda, debug = False)\n",
    "        # generate pp-files\n",
    "        prepare_calculations.write_pp_files_compound(atom_symbols, new_lambda, work_dir, pp_dir='/home/misa/PP_LIBRARY', pp_type='_GH_PBE')\n",
    "        \n",
    "        # write smiles\n",
    "        with open(f'/home/misa/projects/atomic-energies/data/ueg_reference/amons/{batch_no}/{compound_name}/smiles', 'w') as f:\n",
    "            f.write(smiles+'\\n')"
   ]
  },
  {
   "cell_type": "code",
   "execution_count": null,
   "metadata": {},
   "outputs": [],
   "source": []
  }
 ],
 "metadata": {
  "kernelspec": {
   "display_name": "Python [conda env:qm-tools] *",
   "language": "python",
   "name": "conda-env-qm-tools-py"
  },
  "language_info": {
   "codemirror_mode": {
    "name": "ipython",
    "version": 3
   },
   "file_extension": ".py",
   "mimetype": "text/x-python",
   "name": "python",
   "nbconvert_exporter": "python",
   "pygments_lexer": "ipython3",
   "version": "3.8.5"
  }
 },
 "nbformat": 4,
 "nbformat_minor": 4
}
