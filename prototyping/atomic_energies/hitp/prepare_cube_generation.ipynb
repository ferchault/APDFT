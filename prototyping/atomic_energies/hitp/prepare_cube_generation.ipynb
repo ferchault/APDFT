{
 "cells": [
  {
   "cell_type": "code",
   "execution_count": 6,
   "metadata": {},
   "outputs": [],
   "source": [
    "import pandas as pd\n",
    "import numpy as np\n",
    "import os\n",
    "import shutil"
   ]
  },
  {
   "cell_type": "code",
   "execution_count": null,
   "metadata": {},
   "outputs": [],
   "source": [
    "def write_to_file(l, number):\n",
    "    with open(f\"/scicore/home/lilienfeld/sahre0000/projects/atomic_energies/results/slice_ve38/split_cube/part-{number}\", 'w') as f:\n",
    "        for item in l:\n",
    "            f.write(item+'\\n')"
   ]
  },
  {
   "cell_type": "markdown",
   "metadata": {},
   "source": [
    "### Find files that must be cubed"
   ]
  },
  {
   "cell_type": "code",
   "execution_count": 2,
   "metadata": {},
   "outputs": [],
   "source": [
    "db = pd.read_pickle(\"/scicore/home/lilienfeld/sahre0000/projects/atomic_energies/results/slice_ve38/calculations_databse\")\n"
   ]
  },
  {
   "cell_type": "code",
   "execution_count": null,
   "metadata": {},
   "outputs": [],
   "source": [
    "workdirs = db.loc[db['status'] == 'converged', 'workdir']"
   ]
  },
  {
   "cell_type": "code",
   "execution_count": null,
   "metadata": {},
   "outputs": [],
   "source": [
    "dde = []\n",
    "for w in workdirs:\n",
    "    dens_file = os.path.join(w, 'DENSITY')\n",
    "    if not os.path.isfile(dens_file):\n",
    "        dde.append(w)"
   ]
  },
  {
   "cell_type": "code",
   "execution_count": null,
   "metadata": {},
   "outputs": [],
   "source": [
    "cube = []\n",
    "to_cube = []\n",
    "for w in workdirs:\n",
    "    cube_file = os.path.join(w, 'DENSITY.cube')\n",
    "    if os.path.isfile(cube_file):\n",
    "        cube.append(w)\n",
    "    else:\n",
    "        to_cube.append(w)"
   ]
  },
  {
   "cell_type": "markdown",
   "metadata": {},
   "source": [
    "### divide in small packages that fit in 30 min qos"
   ]
  },
  {
   "cell_type": "code",
   "execution_count": null,
   "metadata": {},
   "outputs": [],
   "source": [
    "start = 6\n",
    "for i in range(26):\n",
    "    part = to_cube[start:start+20]\n",
    "    write_to_file(part, i)\n",
    "    start += 20"
   ]
  },
  {
   "cell_type": "code",
   "execution_count": null,
   "metadata": {},
   "outputs": [],
   "source": [
    "len(to_cube[6:])/20"
   ]
  },
  {
   "cell_type": "code",
   "execution_count": null,
   "metadata": {},
   "outputs": [],
   "source": [
    "write_to_file(to_cube[519+7:], 26)"
   ]
  },
  {
   "cell_type": "markdown",
   "metadata": {},
   "source": [
    "### Move to cube-files directory"
   ]
  },
  {
   "cell_type": "code",
   "execution_count": 10,
   "metadata": {},
   "outputs": [],
   "source": [
    "fde = []\n",
    "for comp in list(set(db['comp_name'])):\n",
    "    # make cube-files directory\n",
    "    cube_path = os.path.join(\"/scicore/home/lilienfeld/sahre0000/projects/atomic_energies/results/slice_ve38\", f\"{comp}/cube-files\")\n",
    "    \n",
    "    os.makedirs(cube_path, exist_ok=True)\n",
    "    \n",
    "    # move cube-files\n",
    "    comp_wds = db.loc[db['comp_name'] == comp, 'workdir'] # list of all directories for each compound\n",
    "    lam_vals = db.loc[db['comp_name'] == comp, 'lam_val']\n",
    "    for l, wd in zip(lam_vals, comp_wds):\n",
    "        source = os.path.join(wd, \"DENSITY.cube\")\n",
    "        dest = os.path.join(cube_path, f\"{l}.cube\")\n",
    "        if os.path.isfile(source):\n",
    "            shutil.move(source, dest)\n",
    "        else:\n",
    "            fde.append(wd)\n",
    "        #print(source)\n",
    "        #print(dest)"
   ]
  },
  {
   "cell_type": "markdown",
   "metadata": {},
   "source": [
    "### Make list of cube-dirs to tar"
   ]
  },
  {
   "cell_type": "code",
   "execution_count": 15,
   "metadata": {},
   "outputs": [],
   "source": [
    "cube_dirs = []\n",
    "for comp in list(set(db['comp_name'])):\n",
    "    # make cube-files directory\n",
    "    cube_path = os.path.join(\".\", f\"{comp}/cube-files\")\n",
    "    cube_dirs.append(cube_path)"
   ]
  },
  {
   "cell_type": "code",
   "execution_count": 17,
   "metadata": {},
   "outputs": [],
   "source": [
    "with open(f\"/scicore/home/lilienfeld/sahre0000/projects/atomic_energies/results/slice_ve38/cubes2tar\", 'w') as f:\n",
    "    for item in cube_dirs:\n",
    "        f.write(item+'\\n')"
   ]
  },
  {
   "cell_type": "code",
   "execution_count": null,
   "metadata": {},
   "outputs": [],
   "source": []
  }
 ],
 "metadata": {
  "kernelspec": {
   "display_name": "Python [conda env:.conda-qm-tools] *",
   "language": "python",
   "name": "conda-env-.conda-qm-tools-py"
  },
  "language_info": {
   "codemirror_mode": {
    "name": "ipython",
    "version": 3
   },
   "file_extension": ".py",
   "mimetype": "text/x-python",
   "name": "python",
   "nbconvert_exporter": "python",
   "pygments_lexer": "ipython3",
   "version": "3.7.9"
  }
 },
 "nbformat": 4,
 "nbformat_minor": 4
}
