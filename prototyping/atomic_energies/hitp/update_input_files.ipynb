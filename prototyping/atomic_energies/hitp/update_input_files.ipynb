{
 "cells": [
  {
   "cell_type": "code",
   "execution_count": 1,
   "metadata": {},
   "outputs": [],
   "source": [
    "#import find_converged as fc\n",
    "import os\n",
    "import glob\n",
    "import pandas as pd\n",
    "\n",
    "import shutil"
   ]
  },
  {
   "cell_type": "code",
   "execution_count": 3,
   "metadata": {},
   "outputs": [],
   "source": [
    "def check_input(p, restart_corrupted=False):\n",
    "# read input file\n",
    "    inp_file = []\n",
    "    with open(os.path.join(p, 'run.inp'), 'r') as f:\n",
    "        for line in f:\n",
    "            inp_file.append(line)\n",
    "    # set restart option correctly\n",
    "    restart_file = os.path.join(p, 'RESTART.1')\n",
    "    restart_exists = os.path.isfile(restart_file)\n",
    "    found_restart_option = False\n",
    "    for i, line in enumerate(inp_file):\n",
    "        if 'RESTART WAVEFUNCTION LATEST' in line and restart_exists and not restart_corrupted:\n",
    "            found_restart_option = True # everything is ok\n",
    "            print('Everything ok')\n",
    "        # disable restart if there is no restart file\n",
    "        if 'RESTART WAVEFUNCTION LATEST' in line and not restart_exists:\n",
    "            inp_file[i] = '  rESTART WAVEFUNCTION LATEST\\n'\n",
    "            found_restart_option = True\n",
    "            print('Disabled restart because couldnt find a restart file. I hope you dont mind.')\n",
    "        # disable restart if there is restart file that is corrupted\n",
    "        if 'RESTART WAVEFUNCTION LATEST' in line and restart_corrupted:\n",
    "            inp_file[i] = '  rESTART WAVEFUNCTION LATEST\\n'\n",
    "            found_restart_option = True\n",
    "            print('Disabled restart because restart file is corrupted. Is that ok with you?')\n",
    "        # enable restart if there is a restart file that is not corrupted\n",
    "        elif 'rESTART WAVEFUNCTION LATEST' in line and restart_exists and not restart_corrupted:\n",
    "            inp_file[i] = '  RESTART WAVEFUNCTION LATEST\\n'\n",
    "            found_restart_option = True\n",
    "            print('Enabled restart (from rESTART) because there is an intact restart file. Isnt that great, sunshine?')\n",
    "    # enable restart if there is a restart file that is not corrupted and restart not added yet\n",
    "    if not found_restart_option and restart_exists and not restart_corrupted:\n",
    "        for i, line in enumerate(inp_file):\n",
    "            if 'OPTIMIZE WAVEFUNCTION' in line:\n",
    "                print(f'Added the restart option because there is an intact restart file. This should help you to finish your PhD in time.')\n",
    "                inp_file.insert(i+1, '  RESTART WAVEFUNCTION LATEST\\n')\n",
    "                break\n",
    "    \n",
    "    # check that PCG MINIMIZE is used\n",
    "    # change TIMESTEP to 5 if necessary\n",
    "    timestep = False\n",
    "    for i, line in enumerate(inp_file):\n",
    "        if 'TIMESTEP' in line:\n",
    "            timestep = True\n",
    "            inp_file[i+1] = '    5\\n'\n",
    "            print('Set timestep back to 5.')\n",
    "            if not 'PCG MINIMIZE' in inp_file[i-1]:\n",
    "                inp_file.insert(i, '  PCG MINIMIZE\\n')\n",
    "                print('I think you forgot to use the PCG minimizer instead of DIIS. I changed that for you. Aint I a nice program?')\n",
    "    assert timestep\n",
    "    return(inp_file)"
   ]
  },
  {
   "cell_type": "code",
   "execution_count": 4,
   "metadata": {},
   "outputs": [
    {
     "data": {
      "text/plain": [
       "['/scicore/home/lilienfeld/sahre0000/projects/atomic_energies/results/slice_ve38/dsgdb9nsd_000230/run0/ve_30',\n",
       " '/scicore/home/lilienfeld/sahre0000/projects/atomic_energies/results/slice_ve38/dsgdb9nsd_002118/run5/ve_30',\n",
       " '/scicore/home/lilienfeld/sahre0000/projects/atomic_energies/results/slice_ve38/dsgdb9nsd_002132/run5/ve_30',\n",
       " '/scicore/home/lilienfeld/sahre0000/projects/atomic_energies/results/slice_ve38/dsgdb9nsd_002141/run0/ve_30',\n",
       " '/scicore/home/lilienfeld/sahre0000/projects/atomic_energies/results/slice_ve38/dsgdb9nsd_002231/run4/ve_8',\n",
       " '/scicore/home/lilienfeld/sahre0000/projects/atomic_energies/results/slice_ve38/dsgdb9nsd_002455/run0/ve_30',\n",
       " '/scicore/home/lilienfeld/sahre0000/projects/atomic_energies/results/slice_ve38/dsgdb9nsd_002491/run2/ve_15',\n",
       " '/scicore/home/lilienfeld/sahre0000/projects/atomic_energies/results/slice_ve38/dsgdb9nsd_002675/run5/ve_8',\n",
       " '/scicore/home/lilienfeld/sahre0000/projects/atomic_energies/results/slice_ve38/dsgdb9nsd_003037/run2/ve_15',\n",
       " '/scicore/home/lilienfeld/sahre0000/projects/atomic_energies/results/slice_ve38/dsgdb9nsd_003251/run2/ve_30',\n",
       " '/scicore/home/lilienfeld/sahre0000/projects/atomic_energies/results/slice_ve38/dsgdb9nsd_003253/run4/ve_8',\n",
       " '/scicore/home/lilienfeld/sahre0000/projects/atomic_energies/results/slice_ve38/dsgdb9nsd_003274/run2/ve_30',\n",
       " '/scicore/home/lilienfeld/sahre0000/projects/atomic_energies/results/slice_ve38/dsgdb9nsd_003426/run0/ve_30',\n",
       " '/scicore/home/lilienfeld/sahre0000/projects/atomic_energies/results/slice_ve38/dsgdb9nsd_003705/run0/ve_8',\n",
       " '/scicore/home/lilienfeld/sahre0000/projects/atomic_energies/results/slice_ve38/dsgdb9nsd_005341/run5/ve_8',\n",
       " '/scicore/home/lilienfeld/sahre0000/projects/atomic_energies/results/slice_ve38/dsgdb9nsd_009974/run5/ve_15',\n",
       " '/scicore/home/lilienfeld/sahre0000/projects/atomic_energies/results/slice_ve38/dsgdb9nsd_014565/run0/ve_8',\n",
       " '/scicore/home/lilienfeld/sahre0000/projects/atomic_energies/results/slice_ve38/dsgdb9nsd_014633/run4/ve_15',\n",
       " '/scicore/home/lilienfeld/sahre0000/projects/atomic_energies/results/slice_ve38/dsgdb9nsd_014659/run0/ve_8',\n",
       " '/scicore/home/lilienfeld/sahre0000/projects/atomic_energies/results/slice_ve38/dsgdb9nsd_020310/run5/ve_15']"
      ]
     },
     "execution_count": 4,
     "metadata": {},
     "output_type": "execute_result"
    }
   ],
   "source": [
    "paths = []\n",
    "with open('/scicore/home/lilienfeld/sahre0000/projects/atomic_energies/results/slice_ve38/not_converged', 'r') as f:\n",
    "    for line in f:\n",
    "        paths.append(line.strip('\\n'))\n",
    "paths"
   ]
  },
  {
   "cell_type": "code",
   "execution_count": 7,
   "metadata": {},
   "outputs": [
    {
     "name": "stdout",
     "output_type": "stream",
     "text": [
      "Everything ok\n",
      "Set timestep back to 5.\n",
      "Everything ok\n",
      "Set timestep back to 5.\n",
      "Everything ok\n",
      "Set timestep back to 5.\n",
      "Added the restart option because there is an intact restart file. This should help you to finish your PhD in time.\n",
      "Set timestep back to 5.\n",
      "Everything ok\n",
      "Set timestep back to 5.\n",
      "Added the restart option because there is an intact restart file. This should help you to finish your PhD in time.\n",
      "Set timestep back to 5.\n",
      "Everything ok\n",
      "Set timestep back to 5.\n",
      "Everything ok\n",
      "Set timestep back to 5.\n",
      "Everything ok\n",
      "Set timestep back to 5.\n",
      "Everything ok\n",
      "Set timestep back to 5.\n",
      "Everything ok\n",
      "Set timestep back to 5.\n",
      "Everything ok\n",
      "Set timestep back to 5.\n",
      "Added the restart option because there is an intact restart file. This should help you to finish your PhD in time.\n",
      "Set timestep back to 5.\n",
      "Added the restart option because there is an intact restart file. This should help you to finish your PhD in time.\n",
      "Set timestep back to 5.\n",
      "Everything ok\n",
      "Set timestep back to 5.\n",
      "Everything ok\n",
      "Set timestep back to 5.\n",
      "Added the restart option because there is an intact restart file. This should help you to finish your PhD in time.\n",
      "Set timestep back to 5.\n",
      "Everything ok\n",
      "Set timestep back to 5.\n",
      "Added the restart option because there is an intact restart file. This should help you to finish your PhD in time.\n",
      "Set timestep back to 5.\n",
      "Everything ok\n",
      "Set timestep back to 5.\n"
     ]
    }
   ],
   "source": [
    "for p in paths:\n",
    "    fix_input_file(p)\n",
    "    #print(p)\n",
    "    #check_input(p)"
   ]
  },
  {
   "cell_type": "code",
   "execution_count": null,
   "metadata": {},
   "outputs": [],
   "source": []
  }
 ],
 "metadata": {
  "kernelspec": {
   "display_name": "Python [conda env:.conda-qm-tools] *",
   "language": "python",
   "name": "conda-env-.conda-qm-tools-py"
  },
  "language_info": {
   "codemirror_mode": {
    "name": "ipython",
    "version": 3
   },
   "file_extension": ".py",
   "mimetype": "text/x-python",
   "name": "python",
   "nbconvert_exporter": "python",
   "pygments_lexer": "ipython3",
   "version": "3.7.9"
  }
 },
 "nbformat": 4,
 "nbformat_minor": 4
}
