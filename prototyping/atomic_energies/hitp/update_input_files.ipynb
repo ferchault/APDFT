{
 "cells": [
  {
   "cell_type": "code",
   "execution_count": 1,
   "metadata": {},
   "outputs": [],
   "source": [
    "#import find_converged as fc\n",
    "import os\n",
    "import glob\n",
    "import pandas as pd\n",
    "\n",
    "import shutil\n",
    "\n",
    "import sys\n",
    "sys.path.insert(0, '/home/misa/git_repositories/APDFT/prototyping/atomic_energies/hitp/')\n",
    "import cpmd_io"
   ]
  },
  {
   "cell_type": "markdown",
   "metadata": {},
   "source": [
    "### Enable restart"
   ]
  },
  {
   "cell_type": "code",
   "execution_count": 5,
   "metadata": {},
   "outputs": [],
   "source": [
    "paths = []\n",
    "with open('/home/misa/projects/atomic-energies/data/ueg_reference/amons/geometry/angles/butanol/results', 'r') as f:\n",
    "    for line in f:\n",
    "        if 'not converged' in line:\n",
    "            paths.append(line.split()[0].strip(':'))\n",
    "#aths"
   ]
  },
  {
   "cell_type": "code",
   "execution_count": 6,
   "metadata": {},
   "outputs": [
    {
     "name": "stdout",
     "output_type": "stream",
     "text": [
      "Enabled restart (from rESTART) in /home/misa/projects/atomic-energies/data/ueg_reference/amons/geometry/angles/butanol/ang_0.0/ve_13 because there is an intact restart file. Isn't that great, sunshine?\n",
      "Enabled restart (from rESTART) in /home/misa/projects/atomic-energies/data/ueg_reference/amons/geometry/angles/butanol/ang_0.0/ve_19 because there is an intact restart file. Isn't that great, sunshine?\n",
      "Enabled restart (from rESTART) in /home/misa/projects/atomic-energies/data/ueg_reference/amons/geometry/angles/butanol/ang_0.0/ve_26 because there is an intact restart file. Isn't that great, sunshine?\n",
      "Enabled restart (from rESTART) in /home/misa/projects/atomic-energies/data/ueg_reference/amons/geometry/angles/butanol/ang_-12.5/ve_06 because there is an intact restart file. Isn't that great, sunshine?\n",
      "Enabled restart (from rESTART) in /home/misa/projects/atomic-energies/data/ueg_reference/amons/geometry/angles/butanol/ang_12.5/ve_06 because there is an intact restart file. Isn't that great, sunshine?\n",
      "Enabled restart (from rESTART) in /home/misa/projects/atomic-energies/data/ueg_reference/amons/geometry/angles/butanol/ang_-12.5/ve_13 because there is an intact restart file. Isn't that great, sunshine?\n",
      "Enabled restart (from rESTART) in /home/misa/projects/atomic-energies/data/ueg_reference/amons/geometry/angles/butanol/ang_12.5/ve_13 because there is an intact restart file. Isn't that great, sunshine?\n",
      "Enabled restart (from rESTART) in /home/misa/projects/atomic-energies/data/ueg_reference/amons/geometry/angles/butanol/ang_-12.5/ve_19 because there is an intact restart file. Isn't that great, sunshine?\n",
      "Enabled restart (from rESTART) in /home/misa/projects/atomic-energies/data/ueg_reference/amons/geometry/angles/butanol/ang_12.5/ve_19 because there is an intact restart file. Isn't that great, sunshine?\n",
      "Enabled restart (from rESTART) in /home/misa/projects/atomic-energies/data/ueg_reference/amons/geometry/angles/butanol/ang_-12.5/ve_26 because there is an intact restart file. Isn't that great, sunshine?\n",
      "Enabled restart (from rESTART) in /home/misa/projects/atomic-energies/data/ueg_reference/amons/geometry/angles/butanol/ang_12.5/ve_26 because there is an intact restart file. Isn't that great, sunshine?\n",
      "Enabled restart (from rESTART) in /home/misa/projects/atomic-energies/data/ueg_reference/amons/geometry/angles/butanol/ang_-25.0/ve_06 because there is an intact restart file. Isn't that great, sunshine?\n",
      "Enabled restart (from rESTART) in /home/misa/projects/atomic-energies/data/ueg_reference/amons/geometry/angles/butanol/ang_25.0/ve_06 because there is an intact restart file. Isn't that great, sunshine?\n",
      "Enabled restart (from rESTART) in /home/misa/projects/atomic-energies/data/ueg_reference/amons/geometry/angles/butanol/ang_-25.0/ve_13 because there is an intact restart file. Isn't that great, sunshine?\n",
      "Enabled restart (from rESTART) in /home/misa/projects/atomic-energies/data/ueg_reference/amons/geometry/angles/butanol/ang_25.0/ve_13 because there is an intact restart file. Isn't that great, sunshine?\n",
      "Enabled restart (from rESTART) in /home/misa/projects/atomic-energies/data/ueg_reference/amons/geometry/angles/butanol/ang_-25.0/ve_19 because there is an intact restart file. Isn't that great, sunshine?\n",
      "Enabled restart (from rESTART) in /home/misa/projects/atomic-energies/data/ueg_reference/amons/geometry/angles/butanol/ang_25.0/ve_19 because there is an intact restart file. Isn't that great, sunshine?\n",
      "Enabled restart (from rESTART) in /home/misa/projects/atomic-energies/data/ueg_reference/amons/geometry/angles/butanol/ang_-25.0/ve_26 because there is an intact restart file. Isn't that great, sunshine?\n",
      "Enabled restart (from rESTART) in /home/misa/projects/atomic-energies/data/ueg_reference/amons/geometry/angles/butanol/ang_25.0/ve_26 because there is an intact restart file. Isn't that great, sunshine?\n",
      "Enabled restart (from rESTART) in /home/misa/projects/atomic-energies/data/ueg_reference/amons/geometry/angles/butanol/ang_-37.5/ve_06 because there is an intact restart file. Isn't that great, sunshine?\n",
      "Enabled restart (from rESTART) in /home/misa/projects/atomic-energies/data/ueg_reference/amons/geometry/angles/butanol/ang_37.5/ve_06 because there is an intact restart file. Isn't that great, sunshine?\n",
      "Enabled restart (from rESTART) in /home/misa/projects/atomic-energies/data/ueg_reference/amons/geometry/angles/butanol/ang_-37.5/ve_13 because there is an intact restart file. Isn't that great, sunshine?\n",
      "Enabled restart (from rESTART) in /home/misa/projects/atomic-energies/data/ueg_reference/amons/geometry/angles/butanol/ang_37.5/ve_13 because there is an intact restart file. Isn't that great, sunshine?\n",
      "Enabled restart (from rESTART) in /home/misa/projects/atomic-energies/data/ueg_reference/amons/geometry/angles/butanol/ang_-37.5/ve_19 because there is an intact restart file. Isn't that great, sunshine?\n",
      "Enabled restart (from rESTART) in /home/misa/projects/atomic-energies/data/ueg_reference/amons/geometry/angles/butanol/ang_37.5/ve_19 because there is an intact restart file. Isn't that great, sunshine?\n",
      "Enabled restart (from rESTART) in /home/misa/projects/atomic-energies/data/ueg_reference/amons/geometry/angles/butanol/ang_-37.5/ve_26 because there is an intact restart file. Isn't that great, sunshine?\n",
      "Enabled restart (from rESTART) in /home/misa/projects/atomic-energies/data/ueg_reference/amons/geometry/angles/butanol/ang_37.5/ve_26 because there is an intact restart file. Isn't that great, sunshine?\n",
      "Enabled restart (from rESTART) in /home/misa/projects/atomic-energies/data/ueg_reference/amons/geometry/angles/butanol/ang_-50.0/ve_06 because there is an intact restart file. Isn't that great, sunshine?\n",
      "Enabled restart (from rESTART) in /home/misa/projects/atomic-energies/data/ueg_reference/amons/geometry/angles/butanol/ang_50.0/ve_06 because there is an intact restart file. Isn't that great, sunshine?\n",
      "Enabled restart (from rESTART) in /home/misa/projects/atomic-energies/data/ueg_reference/amons/geometry/angles/butanol/ang_-50.0/ve_13 because there is an intact restart file. Isn't that great, sunshine?\n",
      "Enabled restart (from rESTART) in /home/misa/projects/atomic-energies/data/ueg_reference/amons/geometry/angles/butanol/ang_50.0/ve_13 because there is an intact restart file. Isn't that great, sunshine?\n",
      "Enabled restart (from rESTART) in /home/misa/projects/atomic-energies/data/ueg_reference/amons/geometry/angles/butanol/ang_-50.0/ve_19 because there is an intact restart file. Isn't that great, sunshine?\n"
     ]
    }
   ],
   "source": [
    "for p in paths:\n",
    "    cpmd_io.fix_input_file(p)"
   ]
  },
  {
   "cell_type": "markdown",
   "metadata": {},
   "source": [
    "### Disable random initialize"
   ]
  },
  {
   "cell_type": "code",
   "execution_count": 13,
   "metadata": {},
   "outputs": [],
   "source": [
    "paths = []\n",
    "with open('/home/misa/projects/atomic-energies/data/ueg_reference/amons/geometry/angles/butanol/results', 'r') as f:\n",
    "    for line in f:\n",
    "        if 'not converged' in line:\n",
    "            paths.append(line.split()[0].strip(':'))\n",
    "            \n",
    "with open('/home/misa/projects/atomic-energies/data/ueg_reference/amons/geometry/angles/butanol/resubmit', 'w') as f:\n",
    "    for p in paths:\n",
    "        f.write(p+'\\n')"
   ]
  },
  {
   "cell_type": "code",
   "execution_count": 12,
   "metadata": {},
   "outputs": [],
   "source": [
    "for p in paths:\n",
    "    with open(os.path.join(p, 'run.inp'), 'r') as f:\n",
    "        file = f.readlines()\n",
    "    file = cpmd_io.disable_initialize_random(file)\n",
    "    with open(os.path.join(p, 'run.inp'), 'w') as f:\n",
    "        f.writelines(file)"
   ]
  },
  {
   "cell_type": "code",
   "execution_count": 10,
   "metadata": {},
   "outputs": [
    {
     "data": {
      "text/plain": [
       "['&CPMD\\n',\n",
       " '  OPTIMIZE WAVEFUNCTION\\n',\n",
       " '  RESTART WAVEFUNCTION LATEST\\n',\n",
       " '  PCG MINIMIZE\\n',\n",
       " '  TIMESTEP\\n',\n",
       " '    5\\n',\n",
       " '  CONVERGENCE ORBITALS\\n',\n",
       " '    1e-6\\n',\n",
       " '  PRINT ON FORCES\\n',\n",
       " '  MIRROR\\n',\n",
       " '  CENTER MOLECULE OFF\\n',\n",
       " '  RHOOUT\\n',\n",
       " '  MAXITER\\n',\n",
       " '    100000\\n',\n",
       " '  MAXRUNTIME\\n',\n",
       " '    21300\\n',\n",
       " '  STORE\\n',\n",
       " '   50\\n',\n",
       " '&END\\n',\n",
       " '\\n',\n",
       " '&DFT\\n',\n",
       " '  FUNCTIONAL PBE\\n',\n",
       " '&END\\n',\n",
       " '\\n',\n",
       " '&SYSTEM\\n',\n",
       " '  ANGSTROM\\n',\n",
       " '  SYMMETRY\\n',\n",
       " '   CUBIC\\n',\n",
       " '  pOISSON SOLVER TUCKERMAN\\n',\n",
       " '  CUTOFF\\n',\n",
       " '   200.000000\\n',\n",
       " '  CELL ABSOLUTE\\n',\n",
       " '        18.886527828347333 18.886527828347333 18.886527828347333 0.0 0.0 0.0\\n',\n",
       " '  CHARGE\\n',\n",
       " '        -13\\n',\n",
       " '  MESH\\n',\n",
       " '    336 336 336\\n',\n",
       " '&END\\n',\n",
       " '\\n',\n",
       " '&ATOMS\\n',\n",
       " '*C_GH_PBE FRAC\\n',\n",
       " ' LMAX=S\\n',\n",
       " ' 1\\n',\n",
       " ' 8.502650923507002 9.530240618173666 10.027842468173667\\n',\n",
       " '*C_GH_PBE FRAC\\n',\n",
       " ' LMAX=S\\n',\n",
       " ' 1\\n',\n",
       " ' 9.927868563507001 10.033243618173666 9.751951298173665\\n',\n",
       " '*C_GH_PBE FRAC\\n',\n",
       " ' LMAX=S\\n',\n",
       " ' 1\\n',\n",
       " ' 10.914679953507001 8.939634038173665 9.357255368173666\\n',\n",
       " '*C_GH_PBE FRAC\\n',\n",
       " ' LMAX=S\\n',\n",
       " ' 1\\n',\n",
       " ' 7.775392393507 8.963683008173666 8.801762858173666\\n',\n",
       " '*O_GH_PBE FRAC\\n',\n",
       " ' LMAX=S\\n',\n",
       " ' 1\\n',\n",
       " ' 11.307418423507 10.298607908173667 9.523226538173667\\n',\n",
       " '*H_GH_PBE FRAC\\n',\n",
       " ' LMAX=S\\n',\n",
       " ' 1\\n',\n",
       " ' 7.916275353507 10.364396328173665 10.434493238173665\\n',\n",
       " '*H_GH_PBE FRAC\\n',\n",
       " ' LMAX=S\\n',\n",
       " ' 1\\n',\n",
       " ' 8.531522193507001 8.768684318173666 10.820712618173665\\n',\n",
       " '*H_GH_PBE FRAC\\n',\n",
       " ' LMAX=S\\n',\n",
       " ' 1\\n',\n",
       " ' 9.913103583507 10.790301668173665 8.956310738173666\\n',\n",
       " '*H_GH_PBE FRAC\\n',\n",
       " ' LMAX=S\\n',\n",
       " ' 1\\n',\n",
       " ' 10.323505703507001 10.528615978173665 10.647512118173665\\n',\n",
       " '*H_GH_PBE FRAC\\n',\n",
       " ' LMAX=S\\n',\n",
       " ' 1\\n',\n",
       " ' 10.601072523507 8.455797688173666 8.418314528173665\\n',\n",
       " '*H_GH_PBE FRAC\\n',\n",
       " ' LMAX=S\\n',\n",
       " ' 1\\n',\n",
       " ' 10.932971453507001 8.157869648173666 10.136636658173666\\n',\n",
       " '*H_GH_PBE FRAC\\n',\n",
       " ' LMAX=S\\n',\n",
       " ' 1\\n',\n",
       " ' 7.732163253507 9.703408818173665 7.992586218173666\\n',\n",
       " '*H_GH_PBE FRAC\\n',\n",
       " ' LMAX=S\\n',\n",
       " ' 1\\n',\n",
       " ' 6.745739953507001 8.683082178173667 9.051182658173666\\n',\n",
       " '*H_GH_PBE FRAC\\n',\n",
       " ' LMAX=S\\n',\n",
       " ' 1\\n',\n",
       " ' 8.271121233507001 8.070070348173665 8.405550788173667\\n',\n",
       " '*H_GH_PBE FRAC\\n',\n",
       " ' LMAX=S\\n',\n",
       " ' 1\\n',\n",
       " ' 12.253473203507001 10.361322548173666 9.323620618173667\\n',\n",
       " '&END']"
      ]
     },
     "execution_count": 10,
     "metadata": {},
     "output_type": "execute_result"
    }
   ],
   "source": [
    "file"
   ]
  },
  {
   "cell_type": "code",
   "execution_count": null,
   "metadata": {},
   "outputs": [],
   "source": []
  },
  {
   "cell_type": "code",
   "execution_count": 4,
   "metadata": {},
   "outputs": [
    {
     "data": {
      "text/plain": [
       "['/scicore/home/lilienfeld/sahre0000/projects/atomic_energies/results/slice_ve38/dsgdb9nsd_000230/run0/ve_30',\n",
       " '/scicore/home/lilienfeld/sahre0000/projects/atomic_energies/results/slice_ve38/dsgdb9nsd_002118/run5/ve_30',\n",
       " '/scicore/home/lilienfeld/sahre0000/projects/atomic_energies/results/slice_ve38/dsgdb9nsd_002132/run5/ve_30',\n",
       " '/scicore/home/lilienfeld/sahre0000/projects/atomic_energies/results/slice_ve38/dsgdb9nsd_002141/run0/ve_30',\n",
       " '/scicore/home/lilienfeld/sahre0000/projects/atomic_energies/results/slice_ve38/dsgdb9nsd_002231/run4/ve_8',\n",
       " '/scicore/home/lilienfeld/sahre0000/projects/atomic_energies/results/slice_ve38/dsgdb9nsd_002455/run0/ve_30',\n",
       " '/scicore/home/lilienfeld/sahre0000/projects/atomic_energies/results/slice_ve38/dsgdb9nsd_002491/run2/ve_15',\n",
       " '/scicore/home/lilienfeld/sahre0000/projects/atomic_energies/results/slice_ve38/dsgdb9nsd_002675/run5/ve_8',\n",
       " '/scicore/home/lilienfeld/sahre0000/projects/atomic_energies/results/slice_ve38/dsgdb9nsd_003037/run2/ve_15',\n",
       " '/scicore/home/lilienfeld/sahre0000/projects/atomic_energies/results/slice_ve38/dsgdb9nsd_003251/run2/ve_30',\n",
       " '/scicore/home/lilienfeld/sahre0000/projects/atomic_energies/results/slice_ve38/dsgdb9nsd_003253/run4/ve_8',\n",
       " '/scicore/home/lilienfeld/sahre0000/projects/atomic_energies/results/slice_ve38/dsgdb9nsd_003274/run2/ve_30',\n",
       " '/scicore/home/lilienfeld/sahre0000/projects/atomic_energies/results/slice_ve38/dsgdb9nsd_003426/run0/ve_30',\n",
       " '/scicore/home/lilienfeld/sahre0000/projects/atomic_energies/results/slice_ve38/dsgdb9nsd_003705/run0/ve_8',\n",
       " '/scicore/home/lilienfeld/sahre0000/projects/atomic_energies/results/slice_ve38/dsgdb9nsd_005341/run5/ve_8',\n",
       " '/scicore/home/lilienfeld/sahre0000/projects/atomic_energies/results/slice_ve38/dsgdb9nsd_009974/run5/ve_15',\n",
       " '/scicore/home/lilienfeld/sahre0000/projects/atomic_energies/results/slice_ve38/dsgdb9nsd_014565/run0/ve_8',\n",
       " '/scicore/home/lilienfeld/sahre0000/projects/atomic_energies/results/slice_ve38/dsgdb9nsd_014633/run4/ve_15',\n",
       " '/scicore/home/lilienfeld/sahre0000/projects/atomic_energies/results/slice_ve38/dsgdb9nsd_014659/run0/ve_8',\n",
       " '/scicore/home/lilienfeld/sahre0000/projects/atomic_energies/results/slice_ve38/dsgdb9nsd_020310/run5/ve_15']"
      ]
     },
     "execution_count": 4,
     "metadata": {},
     "output_type": "execute_result"
    }
   ],
   "source": [
    "paths = []\n",
    "with open('/scicore/home/lilienfeld/sahre0000/projects/atomic_energies/results/slice_ve38/not_converged', 'r') as f:\n",
    "    for line in f:\n",
    "        paths.append(line.strip('\\n'))\n",
    "paths"
   ]
  },
  {
   "cell_type": "code",
   "execution_count": 7,
   "metadata": {},
   "outputs": [
    {
     "name": "stdout",
     "output_type": "stream",
     "text": [
      "Everything ok\n",
      "Set timestep back to 5.\n",
      "Everything ok\n",
      "Set timestep back to 5.\n",
      "Everything ok\n",
      "Set timestep back to 5.\n",
      "Added the restart option because there is an intact restart file. This should help you to finish your PhD in time.\n",
      "Set timestep back to 5.\n",
      "Everything ok\n",
      "Set timestep back to 5.\n",
      "Added the restart option because there is an intact restart file. This should help you to finish your PhD in time.\n",
      "Set timestep back to 5.\n",
      "Everything ok\n",
      "Set timestep back to 5.\n",
      "Everything ok\n",
      "Set timestep back to 5.\n",
      "Everything ok\n",
      "Set timestep back to 5.\n",
      "Everything ok\n",
      "Set timestep back to 5.\n",
      "Everything ok\n",
      "Set timestep back to 5.\n",
      "Everything ok\n",
      "Set timestep back to 5.\n",
      "Added the restart option because there is an intact restart file. This should help you to finish your PhD in time.\n",
      "Set timestep back to 5.\n",
      "Added the restart option because there is an intact restart file. This should help you to finish your PhD in time.\n",
      "Set timestep back to 5.\n",
      "Everything ok\n",
      "Set timestep back to 5.\n",
      "Everything ok\n",
      "Set timestep back to 5.\n",
      "Added the restart option because there is an intact restart file. This should help you to finish your PhD in time.\n",
      "Set timestep back to 5.\n",
      "Everything ok\n",
      "Set timestep back to 5.\n",
      "Added the restart option because there is an intact restart file. This should help you to finish your PhD in time.\n",
      "Set timestep back to 5.\n",
      "Everything ok\n",
      "Set timestep back to 5.\n"
     ]
    }
   ],
   "source": [
    "for p in paths:\n",
    "    fix_input_file(p)\n",
    "    #print(p)\n",
    "    #check_input(p)"
   ]
  },
  {
   "cell_type": "code",
   "execution_count": null,
   "metadata": {},
   "outputs": [],
   "source": []
  }
 ],
 "metadata": {
  "kernelspec": {
   "display_name": "Python [conda env:qm-tools] *",
   "language": "python",
   "name": "conda-env-qm-tools-py"
  },
  "language_info": {
   "codemirror_mode": {
    "name": "ipython",
    "version": 3
   },
   "file_extension": ".py",
   "mimetype": "text/x-python",
   "name": "python",
   "nbconvert_exporter": "python",
   "pygments_lexer": "ipython3",
   "version": "3.8.5"
  }
 },
 "nbformat": 4,
 "nbformat_minor": 4
}
