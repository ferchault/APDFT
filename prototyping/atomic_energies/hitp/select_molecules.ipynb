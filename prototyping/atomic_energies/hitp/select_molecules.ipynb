{
 "cells": [
  {
   "cell_type": "code",
   "execution_count": 1,
   "metadata": {},
   "outputs": [],
   "source": [
    "from rdkit import Chem\n",
    "from rdkit.Chem.Draw import IPythonConsole\n",
    "import glob\n",
    "import pandas as pd\n",
    "import numpy as np\n",
    "\n",
    "import sys\n",
    "sys.path.insert(0, '/home/misa/git_repositories/APDFT/prototyping/atomic_energies')\n",
    "import explore_qml_data as eqd"
   ]
  },
  {
   "cell_type": "markdown",
   "metadata": {},
   "source": [
    "### Define smiles strings for selected molecules"
   ]
  },
  {
   "cell_type": "code",
   "execution_count": 2,
   "metadata": {},
   "outputs": [],
   "source": [
    "# get smiles string for structure -> make canonical\n",
    "\n",
    "# benzene derivates\n",
    "benzene_derivates = ['Cc1ccccc1', 'Nc1ccccc1', 'Oc1ccccc1']\n",
    "\n",
    "# cyclohexane derivatives\n",
    "cyclohexane_derivates = ['CC1CCCCC1', 'OC1CCCCC1']\n",
    "\n",
    "# conjugated vs saturated\n",
    "#conj_sat = ['C=C/C=C/C', 'C=C/C=C/N', 'C=C/C=C/O'] # , 'CCCCC', 'CCCCN', 'CCCCO'\n",
    "\n",
    "# change in number of electrons\n",
    "changing_Ne = ['C', 'CC', 'CCC', 'CCCC', 'CCCCC', 'CCCCCC']"
   ]
  },
  {
   "cell_type": "markdown",
   "metadata": {},
   "source": [
    "### Make database with all canonical smiles strings"
   ]
  },
  {
   "cell_type": "code",
   "execution_count": 3,
   "metadata": {},
   "outputs": [],
   "source": [
    "# get smiles strings for all molecules in qm9 -> make canonical\n",
    "files = glob.glob('/home/misa/datasets/qm9/dsgdb9nsd_*')\n",
    "files.sort()\n",
    "data = pd.DataFrame(index=np.arange(len(files)), columns=['name', 'smiles canonical', 'path'])"
   ]
  },
  {
   "cell_type": "code",
   "execution_count": 4,
   "metadata": {},
   "outputs": [
    {
     "name": "stdout",
     "output_type": "stream",
     "text": [
      "0\n",
      "13388\n",
      "26776\n",
      "40164\n",
      "53552\n",
      "66940\n",
      "80328\n",
      "93716\n",
      "107104\n"
     ]
    }
   ],
   "source": [
    "canonical_smiles = []\n",
    "names = []\n",
    "for i, f in enumerate(files):\n",
    "    # get smiles\n",
    "    if i in 13388*np.arange(0, 9):\n",
    "        print(i)\n",
    "    smiles = eqd.get_smiles(f)\n",
    "    canonical_smiles.append(Chem.MolToSmiles(Chem.MolFromSmiles(smiles)))\n",
    "#     if smiles != Chem.MolToSmiles(Chem.MolFromSmiles(smiles)):\n",
    "#         print(f)\n",
    "    #get name\n",
    "    names.append(f.split('/')[-1].split('.')[0])"
   ]
  },
  {
   "cell_type": "code",
   "execution_count": 5,
   "metadata": {},
   "outputs": [],
   "source": [
    "data['name'] = names\n",
    "data['smiles canonical'] = canonical_smiles\n",
    "data['path'] = files"
   ]
  },
  {
   "cell_type": "markdown",
   "metadata": {},
   "source": [
    "### Find path to smiles in database"
   ]
  },
  {
   "cell_type": "code",
   "execution_count": 6,
   "metadata": {},
   "outputs": [],
   "source": [
    "molecule_paths = []\n",
    "# benzene\n",
    "for mol in benzene_derivates:\n",
    "    canonical_smile = Chem.MolToSmiles(Chem.MolFromSmiles(mol))\n",
    "    molecule_paths.append(data.loc[data['smiles canonical'] == canonical_smile, 'path'].item())\n",
    "    \n",
    "for mol in cyclohexane_derivates:\n",
    "    canonical_smile = Chem.MolToSmiles(Chem.MolFromSmiles(mol))\n",
    "    molecule_paths.append(data.loc[data['smiles canonical'] == canonical_smile, 'path'].item())\n",
    "    \n",
    "# for mol in conj_sat:\n",
    "#     canonical_smile = Chem.MolToSmiles(Chem.MolFromSmiles(mol)).capitalize()\n",
    "#     molecule_paths.append(data.loc[data['smiles canonical'] == canonical_smile, 'path'].item())\n",
    "    \n",
    "for mol in changing_Ne:\n",
    "    canonical_smile = Chem.MolToSmiles(Chem.MolFromSmiles(mol))\n",
    "    molecule_paths.append(data.loc[data['smiles canonical'] == canonical_smile, 'path'].item())"
   ]
  },
  {
   "cell_type": "code",
   "execution_count": 7,
   "metadata": {},
   "outputs": [
    {
     "data": {
      "text/plain": [
       "['/home/misa/datasets/qm9/dsgdb9nsd_000930.xyz',\n",
       " '/home/misa/datasets/qm9/dsgdb9nsd_000940.xyz',\n",
       " '/home/misa/datasets/qm9/dsgdb9nsd_000949.xyz',\n",
       " '/home/misa/datasets/qm9/dsgdb9nsd_002102.xyz',\n",
       " '/home/misa/datasets/qm9/dsgdb9nsd_002110.xyz',\n",
       " '/home/misa/datasets/qm9/dsgdb9nsd_000001.xyz',\n",
       " '/home/misa/datasets/qm9/dsgdb9nsd_000007.xyz',\n",
       " '/home/misa/datasets/qm9/dsgdb9nsd_000013.xyz',\n",
       " '/home/misa/datasets/qm9/dsgdb9nsd_000039.xyz',\n",
       " '/home/misa/datasets/qm9/dsgdb9nsd_000133.xyz',\n",
       " '/home/misa/datasets/qm9/dsgdb9nsd_000543.xyz']"
      ]
     },
     "execution_count": 7,
     "metadata": {},
     "output_type": "execute_result"
    }
   ],
   "source": [
    "molecule_paths"
   ]
  },
  {
   "cell_type": "code",
   "execution_count": 8,
   "metadata": {},
   "outputs": [],
   "source": [
    "mols_selected = []\n",
    "for m in molecule_paths:\n",
    "    s = eqd.get_smiles(m)\n",
    "    mols_selected.append(Chem.MolFromSmiles(s))"
   ]
  },
  {
   "cell_type": "code",
   "execution_count": 9,
   "metadata": {},
   "outputs": [
    {
     "data": {
      "image/png": "[encoded data removed]",
      "text/plain": [
       "<PIL.PngImagePlugin.PngImageFile image mode=RGB size=2000x400 at 0x7FB9DC3F4080>"
      ]
     },
     "execution_count": 9,
     "metadata": {},
     "output_type": "execute_result"
    }
   ],
   "source": [
    "Chem.Draw.MolsToGridImage(mols_selected,molsPerRow=10,subImgSize=(200,200), maxMols=1000)    "
   ]
  },
  {
   "cell_type": "code",
   "execution_count": null,
   "metadata": {},
   "outputs": [],
   "source": []
  },
  {
   "cell_type": "code",
   "execution_count": null,
   "metadata": {},
   "outputs": [],
   "source": [
    "smiles = []\n",
    "with open('/home/misa/datasets/qm9/correct_smiles.txt') as f:\n",
    "    for line in f:\n",
    "        smiles.append(line.split()[0])"
   ]
  },
  {
   "cell_type": "code",
   "execution_count": null,
   "metadata": {},
   "outputs": [],
   "source": [
    "c5 = []\n",
    "for s in smiles:\n",
    "    upper = s.upper()\n",
    "    if upper.count('C') == 5 and not 'O' in upper and not 'N' in upper and not 'F' in upper:\n",
    "        c5.append(s)"
   ]
  },
  {
   "cell_type": "code",
   "execution_count": null,
   "metadata": {},
   "outputs": [],
   "source": [
    "c5"
   ]
  }
 ],
 "metadata": {
  "kernelspec": {
   "display_name": "Python [conda env:atomic-energies]",
   "language": "python",
   "name": "conda-env-atomic-energies-py"
  },
  "language_info": {
   "codemirror_mode": {
    "name": "ipython",
    "version": 3
   },
   "file_extension": ".py",
   "mimetype": "text/x-python",
   "name": "python",
   "nbconvert_exporter": "python",
   "pygments_lexer": "ipython3",
   "version": "3.7.3"
  }
 },
 "nbformat": 4,
 "nbformat_minor": 4
}
