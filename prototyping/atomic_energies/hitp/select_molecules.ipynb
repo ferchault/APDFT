{
 "cells": [
  {
   "cell_type": "code",
   "execution_count": 15,
   "metadata": {},
   "outputs": [],
   "source": [
    "from rdkit import Chem\n",
    "from rdkit.Chem.Draw import IPythonConsole\n",
    "import glob\n",
    "import pandas as pd\n",
    "import numpy as np\n",
    "\n",
    "import sys\n",
    "sys.path.insert(0, '/home/misa/git_repositories/APDFT/prototyping/atomic_energies')\n",
    "import explore_qml_data as eqd"
   ]
  },
  {
   "cell_type": "markdown",
   "metadata": {},
   "source": [
    "### Define smiles strings for selected molecules"
   ]
  },
  {
   "cell_type": "code",
   "execution_count": 16,
   "metadata": {},
   "outputs": [],
   "source": [
    "# get smiles string for structure -> make canonical\n",
    "\n",
    "# benzene derivates\n",
    "benzene_derivates = ['Cc1ccccc1', 'Nc1ccccc1', 'Oc1ccccc1']\n",
    "\n",
    "# cyclohexane derivatives\n",
    "cyclohexane_derivates = ['CC1CCCCC1', 'OC1CCCCC1']\n",
    "\n",
    "# conjugated vs saturated\n",
    "#conj_sat = ['C=C/C=C/C', 'C=C/C=C/N', 'C=C/C=C/O'] # , 'CCCCC', 'CCCCN', 'CCCCO'\n",
    "\n",
    "# change in number of electrons\n",
    "changing_Ne = ['C', 'CC', 'CCC', 'CCCC', 'CCCCC', 'CCCCCC']"
   ]
  },
  {
   "cell_type": "code",
   "execution_count": 19,
   "metadata": {},
   "outputs": [
    {
     "data": {
      "image/png": "[encoded data removed]",
      "text/plain": [
       "<rdkit.Chem.rdchem.Mol at 0x7fbcb2462580>"
      ]
     },
     "execution_count": 19,
     "metadata": {},
     "output_type": "execute_result"
    }
   ],
   "source": [
    "Chem.MolFromSmiles('Oc1ccccc1')"
   ]
  },
  {
   "cell_type": "markdown",
   "metadata": {},
   "source": [
    "### Make database with all canonical smiles strings"
   ]
  },
  {
   "cell_type": "code",
   "execution_count": null,
   "metadata": {},
   "outputs": [],
   "source": [
    "# get smiles strings for all molecules in qm9 -> make canonical\n",
    "files = glob.glob('/home/misa/datasets/qm9/dsgdb9nsd_*')\n",
    "files.sort()\n",
    "data = pd.DataFrame(index=np.arange(len(files)), columns=['name', 'smiles canonical', 'path'])"
   ]
  },
  {
   "cell_type": "code",
   "execution_count": null,
   "metadata": {},
   "outputs": [],
   "source": [
    "canonical_smiles = []\n",
    "names = []\n",
    "for i, f in enumerate(files):\n",
    "    # get smiles\n",
    "    if i in 13388*np.arange(0, 9):\n",
    "        print(i)\n",
    "    smiles = eqd.get_smiles(f)\n",
    "    canonical_smiles.append(Chem.MolToSmiles(Chem.MolFromSmiles(smiles)))\n",
    "#     if smiles != Chem.MolToSmiles(Chem.MolFromSmiles(smiles)):\n",
    "#         print(f)\n",
    "    #get name\n",
    "    names.append(f.split('/')[-1].split('.')[0])"
   ]
  },
  {
   "cell_type": "code",
   "execution_count": null,
   "metadata": {},
   "outputs": [],
   "source": [
    "data['name'] = names\n",
    "data['smiles canonical'] = canonical_smiles\n",
    "data['path'] = files"
   ]
  },
  {
   "cell_type": "code",
   "execution_count": null,
   "metadata": {},
   "outputs": [],
   "source": [
    "molecule_paths = []\n",
    "\n",
    "for mol in ['c1ccccc1']:\n",
    "    canonical_smile = Chem.MolToSmiles(Chem.MolFromSmiles(mol))\n",
    "    molecule_paths.append(data.loc[data['smiles canonical'] == canonical_smile, 'path'].item())"
   ]
  },
  {
   "cell_type": "code",
   "execution_count": null,
   "metadata": {},
   "outputs": [],
   "source": [
    "molecule_paths"
   ]
  },
  {
   "cell_type": "markdown",
   "metadata": {},
   "source": [
    "### Find path to smiles in database"
   ]
  },
  {
   "cell_type": "code",
   "execution_count": null,
   "metadata": {},
   "outputs": [],
   "source": [
    "molecule_paths = []\n",
    "\n",
    "for smile in ['CC(C)CCO', 'CCCC(C)C']:\n",
    "    canonical_smile = Chem.MolToSmiles(Chem.MolFromSmiles(smile))\n",
    "    molecule_paths.append(data.loc[data['smiles canonical'] == canonical_smile, 'path'].item())"
   ]
  },
  {
   "cell_type": "code",
   "execution_count": null,
   "metadata": {},
   "outputs": [],
   "source": [
    "molecule_paths"
   ]
  },
  {
   "cell_type": "code",
   "execution_count": null,
   "metadata": {},
   "outputs": [],
   "source": [
    "molecule_paths = []\n",
    "# benzene\n",
    "for mol in benzene_derivates:\n",
    "    canonical_smile = Chem.MolToSmiles(Chem.MolFromSmiles(mol))\n",
    "    molecule_paths.append(data.loc[data['smiles canonical'] == canonical_smile, 'path'].item())\n",
    "    \n",
    "for mol in cyclohexane_derivates:\n",
    "    canonical_smile = Chem.MolToSmiles(Chem.MolFromSmiles(mol))\n",
    "    molecule_paths.append(data.loc[data['smiles canonical'] == canonical_smile, 'path'].item())\n",
    "    \n",
    "# for mol in conj_sat:\n",
    "#     canonical_smile = Chem.MolToSmiles(Chem.MolFromSmiles(mol)).capitalize()\n",
    "#     molecule_paths.append(data.loc[data['smiles canonical'] == canonical_smile, 'path'].item())\n",
    "    \n",
    "for mol in changing_Ne:\n",
    "    canonical_smile = Chem.MolToSmiles(Chem.MolFromSmiles(mol))\n",
    "    molecule_paths.append(data.loc[data['smiles canonical'] == canonical_smile, 'path'].item())"
   ]
  },
  {
   "cell_type": "code",
   "execution_count": null,
   "metadata": {},
   "outputs": [],
   "source": [
    "molecule_paths = ['/home/misa/datasets/qm9/dsgdb9nsd_000930.xyz',\n",
    " '/home/misa/datasets/qm9/dsgdb9nsd_000940.xyz',\n",
    " '/home/misa/datasets/qm9/dsgdb9nsd_000949.xyz',\n",
    " '/home/misa/datasets/qm9/dsgdb9nsd_002102.xyz',\n",
    " '/home/misa/datasets/qm9/dsgdb9nsd_002110.xyz',\n",
    " '/home/misa/datasets/qm9/dsgdb9nsd_000001.xyz',\n",
    " '/home/misa/datasets/qm9/dsgdb9nsd_000007.xyz',\n",
    " '/home/misa/datasets/qm9/dsgdb9nsd_000013.xyz',\n",
    " '/home/misa/datasets/qm9/dsgdb9nsd_000039.xyz',\n",
    " '/home/misa/datasets/qm9/dsgdb9nsd_000133.xyz',\n",
    " '/home/misa/datasets/qm9/dsgdb9nsd_000543.xyz']"
   ]
  },
  {
   "cell_type": "code",
   "execution_count": null,
   "metadata": {},
   "outputs": [],
   "source": [
    "molecule_paths = ['/home/misa/datasets/qm9/dsgdb9nsd_000272.xyz']"
   ]
  },
  {
   "cell_type": "code",
   "execution_count": null,
   "metadata": {},
   "outputs": [],
   "source": [
    "mols_selected = []\n",
    "for m in molecule_paths:\n",
    "    s = eqd.get_smiles(m)\n",
    "    mols_selected.append(Chem.MolFromSmiles(s))"
   ]
  },
  {
   "cell_type": "code",
   "execution_count": null,
   "metadata": {},
   "outputs": [],
   "source": [
    "Chem.Draw.MolsToGridImage(mols_selected,molsPerRow=10,subImgSize=(200,200), maxMols=1000)    "
   ]
  },
  {
   "cell_type": "code",
   "execution_count": null,
   "metadata": {},
   "outputs": [],
   "source": [
    "smiles = []\n",
    "with open('/home/misa/datasets/qm9/correct_smiles.txt') as f:\n",
    "    for line in f:\n",
    "        smiles.append(line.split()[0])"
   ]
  },
  {
   "cell_type": "code",
   "execution_count": null,
   "metadata": {},
   "outputs": [],
   "source": [
    "c5 = []\n",
    "for s in smiles:\n",
    "    upper = s.upper()\n",
    "    if \"C=C\" in s and not 'O' in upper and not 'N' in upper and not 'F' in upper:\n",
    "        c5.append(s)"
   ]
  },
  {
   "cell_type": "code",
   "execution_count": null,
   "metadata": {},
   "outputs": [],
   "source": [
    "db = []\n",
    "for s in smiles:\n",
    "    upper = s.upper()\n",
    "    if \"C=C\" in s and not \"1\" in s:\n",
    "        db.append(s)"
   ]
  },
  {
   "cell_type": "code",
   "execution_count": null,
   "metadata": {},
   "outputs": [],
   "source": [
    "mols = [Chem.MolFromSmiles(s) for s in db]"
   ]
  },
  {
   "cell_type": "code",
   "execution_count": null,
   "metadata": {},
   "outputs": [],
   "source": [
    "Chem.Draw.MolsToGridImage(mols,molsPerRow=10,subImgSize=(200,200), maxMols=1000)    "
   ]
  },
  {
   "cell_type": "markdown",
   "metadata": {},
   "source": [
    "# Select molecules representative of QM9 with respect to local environments"
   ]
  },
  {
   "cell_type": "code",
   "execution_count": null,
   "metadata": {},
   "outputs": [],
   "source": [
    "from rdkit import Chem\n",
    "from rdkit.Chem import Descriptors\n",
    "\n",
    "from rdkit.Chem.Draw import IPythonConsole\n",
    "import glob\n",
    "import pandas as pd\n",
    "import numpy as np\n",
    "\n",
    "import sys\n",
    "sys.path.insert(0, '/home/misa/git_repositories/APDFT/prototyping/atomic_energies')\n",
    "import explore_qml_data as eqd\n",
    "\n",
    "from matplotlib import pyplot as plt"
   ]
  },
  {
   "cell_type": "markdown",
   "metadata": {},
   "source": [
    "### Make database"
   ]
  },
  {
   "cell_type": "code",
   "execution_count": null,
   "metadata": {},
   "outputs": [],
   "source": [
    "def get_nn(atom):\n",
    "    \"\"\"\n",
    "    returns ist with items = (bond order, element), where items are nearest neighbours\n",
    "    \"\"\"\n",
    "    nn = []\n",
    "    for n, b in zip(atom.GetNeighbors(), atom.GetBonds()):\n",
    "        el = n.GetSymbol()\n",
    "        bo = b.GetBondTypeAsDouble()\n",
    "        nn.append((bo, el))\n",
    "    return(nn)\n",
    "def get_local_rep(atom):\n",
    "    \"\"\"\n",
    "    make local rep of atom\n",
    "    \"\"\"\n",
    "    atomtype = atom.GetSymbol() # element type of atom\n",
    "    nn = get_nn(atom)\n",
    "    nn.sort() # sort by bond order\n",
    "    \n",
    "    bo1 = ''\n",
    "    bo1p5 = ''\n",
    "    bo2 = ''\n",
    "    bo3 = ''\n",
    "    for n in nn:\n",
    "        if n[0] == 1.0:\n",
    "            bo1 += n[1]\n",
    "        elif n[0] == 1.5:\n",
    "            bo1p5 += n[1]\n",
    "        elif n[0] == 2:\n",
    "            bo2 += n[1]\n",
    "        elif n[0] == 3:\n",
    "            bo3 += n[1]\n",
    "        else:\n",
    "            raise Exception('Something went wrong.')\n",
    "    bo1 = ''.join(sorted(bo1))\n",
    "    bo1p5 = ''.join(sorted(bo1p5))\n",
    "    bo2 = ''.join(sorted(bo2))\n",
    "    bo3 = ''.join(sorted(bo3))\n",
    "    local_rep = f'{atomtype}|{bo1}|{bo1p5}|{bo2}|{bo3}'\n",
    "    return(local_rep)\n",
    "\n",
    "smiles = []\n",
    "smiles_path = []\n",
    "dissociated = []\n",
    "error = []\n",
    "with open('/home/misa/datasets/qm9/correct_smiles.txt') as f:\n",
    "    for line in f:\n",
    "        if '.' in line.split()[0]:\n",
    "            dissociated.append(line)\n",
    "        elif 'error' in line:\n",
    "            error.append(line)\n",
    "        else:\n",
    "            smiles.append(line.split()[0])\n",
    "            smiles_path.append(line.split()[1])\n",
    "mols = []\n",
    "\n",
    "for s in smiles:\n",
    "    mols.append(Chem.MolFromSmiles(s))\n",
    "    \n",
    "reps = []\n",
    "smiles_again = []\n",
    "num_ve = []\n",
    "for mol, s in zip(mols, smiles):\n",
    "    for atom in mol.GetAtoms():\n",
    "        reps.append(get_local_rep(atom))\n",
    "        num_ve.append(Descriptors.NumValenceElectrons(mol))\n",
    "        smiles_again.append(s)\n",
    "        \n",
    "database = pd.DataFrame(data = {'rep':reps, 'num ve': num_ve, 'smiles':smiles_again}, index=np.arange(len(reps)), columns=['rep', 'num ve', 'smiles'])\n",
    "database.to_pickle('/home/misa/projects/Atomic-Energies/data/diversity_loc_env.pd')"
   ]
  },
  {
   "cell_type": "markdown",
   "metadata": {},
   "source": [
    "### Make distributions"
   ]
  },
  {
   "cell_type": "code",
   "execution_count": null,
   "metadata": {},
   "outputs": [],
   "source": [
    "database = pd.read_pickle('/home/misa/projects/Atomic-Energies/data/diversity_loc_env.pd')\n",
    "\n",
    "reps = database['rep']\n",
    "unique_reps = set(reps)\n",
    "unique_ve = set(database['num ve'])\n",
    "\n",
    "repname = []\n",
    "num_ve = []\n",
    "num_reps = []\n",
    "max_it = len(unique_reps)*len(unique_ve)\n",
    "counter = 0\n",
    "pr_m = True\n",
    "for ur in unique_reps:\n",
    "    for uv in unique_ve:\n",
    "        repname.append(ur)\n",
    "        num_ve.append(uv)\n",
    "        num_reps.append(len(database.loc[(database['rep'] == ur) & (database['num ve'] == uv), 'rep']))\n",
    "        \n",
    "        counter += 1\n",
    "        if counter/max_it > 0.25 and counter/max_it < 0.5:\n",
    "            if pr_m: \n",
    "                print('25% done')\n",
    "                pr_m = False\n",
    "        elif counter/max_it > 0.5 and counter/max_it < 0.75:\n",
    "            if not pr_m:\n",
    "                print('50% done')\n",
    "                pr_m = True\n",
    "        elif counter/max_it > 0.75 and counter/max_it < 1.0:\n",
    "            if pr_m: \n",
    "                print('75% done')\n",
    "                pr_m = False\n",
    "        elif counter/max_it > 0.95:\n",
    "            if not pr_m:\n",
    "                print('Almost there')\n",
    "                pr_m = True\n",
    "#     for ve in unique_slice['num ve']:\n",
    "#         num_reps.append(len(unique_slice.loc[unique_slice['num ve'] == ve, ['rep']]))\n",
    "\n",
    "rep_distribution = pd.DataFrame(data={'rep':repname, 'num_ve': num_ve, 'num_reps':num_reps})\n",
    "rep_distribution.to_pickle('/home/misa/projects/Atomic-Energies/data/local_env_distribution.pd')"
   ]
  },
  {
   "cell_type": "code",
   "execution_count": null,
   "metadata": {},
   "outputs": [],
   "source": [
    "rep_distribution = pd.DataFrame(data={'rep':repname, 'num_ve': num_ve, 'num_reps':num_reps})\n",
    "rep_distribution.to_pickle('/home/misa/projects/Atomic-Energies/data/local_env_distribution.pd')"
   ]
  },
  {
   "cell_type": "markdown",
   "metadata": {},
   "source": [
    "### Analyse data"
   ]
  },
  {
   "cell_type": "code",
   "execution_count": 1,
   "metadata": {},
   "outputs": [],
   "source": [
    "import pandas as pd\n",
    "import numpy as np\n",
    "import random\n",
    "from matplotlib import pyplot as plt"
   ]
  },
  {
   "cell_type": "code",
   "execution_count": 2,
   "metadata": {},
   "outputs": [],
   "source": [
    "database = pd.read_pickle('/home/misa/projects/Atomic-Energies/data/diversity_loc_env.pd')\n",
    "rep_distribution = pd.read_pickle('/home/misa/projects/Atomic-Energies/data/local_env_distribution.pd')"
   ]
  },
  {
   "cell_type": "code",
   "execution_count": 3,
   "metadata": {},
   "outputs": [],
   "source": [
    "reps = database['rep']\n",
    "unique_reps = set(reps)\n",
    "unique_ve = list(set(database['num ve']))\n",
    "unique_ve.sort()\n",
    "num_reps_matrix = np.reshape(np.array(rep_distribution['num_reps']), (len(unique_reps), len(unique_ve)))\n"
   ]
  },
  {
   "cell_type": "markdown",
   "metadata": {},
   "source": [
    "### slice with fixed number of valence electrons with most unique environments"
   ]
  },
  {
   "cell_type": "code",
   "execution_count": 9,
   "metadata": {},
   "outputs": [
    {
     "name": "stdout",
     "output_type": "stream",
     "text": [
      "Number of valence elctrons = 48\n"
     ]
    }
   ],
   "source": [
    "# slice with most unique environments\n",
    "ur_vs_uve = []\n",
    "for ve in unique_ve:\n",
    "    ur_vs_uve.append(len(rep_distribution.loc[(rep_distribution['num_ve']==ve) & (rep_distribution['num_reps'] > 0), 'rep']))\n",
    "ur_vs_uve = np.array(ur_vs_uve)\n",
    "print(f\"Number of valence elctrons = {np.array(unique_ve)[np.where(np.amax(ur_vs_uve) == ur_vs_uve)][0]}\")"
   ]
  },
  {
   "cell_type": "code",
   "execution_count": 14,
   "metadata": {},
   "outputs": [
    {
     "data": {
      "text/plain": [
       "Text(0, 0.5, 'num unique local envs')"
      ]
     },
     "execution_count": 14,
     "metadata": {},
     "output_type": "execute_result"
    },
    {
     "data": {
      "image/png": "[encoded data removed]",
      "text/plain": [
       "<Figure size 432x288 with 1 Axes>"
      ]
     },
     "metadata": {
      "needs_background": "light"
     },
     "output_type": "display_data"
    }
   ],
   "source": [
    "plt.rcParams['font.size'] = 15\n",
    "plt.plot(unique_ve, ur_vs_uve, '-o')\n",
    "plt.xlabel('num VE')\n",
    "plt.ylabel('num unique local envs')"
   ]
  },
  {
   "cell_type": "code",
   "execution_count": 5,
   "metadata": {},
   "outputs": [],
   "source": [
    "# How often should every environment occur in the subset selected for SCF calculations?\n",
    "def get_ideal_num_reps(total_num_reps):\n",
    "    ideal_num = 0\n",
    "    if total_num_reps < 10: # for reps with occurence < 10 pick only 1 molecule each\n",
    "        ideal_num = 1\n",
    "    elif total_num_reps > 9 and total_num_reps < 1000: # for reps with occurence 10 <= occ < 1000\n",
    "        ideal_num = int(np.round(total_num_reps*0.1))\n",
    "    return(ideal_num)\n",
    "\n",
    "def remove_smiles_duplicates(selected_smiles, smiles_tmp):\n",
    "    new_smiles = set(smiles_tmp) - set(selected_smiles)\n",
    "    return(list(new_smiles))\n",
    "\n",
    "def select_smiles(database, distribution_48, lenv):\n",
    "    \"\"\"\n",
    "    selects smiles depending on desired occurences of local environment lenv and number of times lenv was already selected\n",
    "    \"\"\"\n",
    "    \n",
    "    # how many smiles to select; number of occurences ideally - number of actual occurences (from selection of other smiles before)\n",
    "    num_smiles = distribution_48.loc[distribution_48['rep'] == lenv, 'ideal_num_reps'].item() \n",
    "    - distribution_48.loc[distribution_48['rep'] == lenv, 'actual_num_reps'].item()\n",
    "\n",
    "    # selection procedure\n",
    "    if num_smiles > 0:\n",
    "        selected_smiles = []\n",
    "        smiles_lenv = list(database.loc[(database['rep']==lenv) & (database['num ve']==48), 'smiles'])\n",
    "        if len(smiles_lenv) > num_smiles:\n",
    "            selected_smiles = random.sample(smiles_lenv, int(num_smiles))\n",
    "        else:\n",
    "            selected_smiles = smiles_lenv\n",
    "    return(selected_smiles)\n",
    "\n",
    "def select_additional_smiles(database, lenv, num_smiles):\n",
    "    \"\"\"\n",
    "    selects smiles depending on desired occurences of local environment lenv and number of times lenv was already selected\n",
    "    \"\"\"\n",
    "    \n",
    "    # selection procedure\n",
    "    if num_smiles > 0:\n",
    "        selected_smiles = []\n",
    "        smiles_lenv = list(database.loc[(database['rep']==lenv) & (database['num ve']==48), 'smiles'])\n",
    "        if len(smiles_lenv) > num_smiles:\n",
    "            selected_smiles = random.sample(smiles_lenv, int(num_smiles))\n",
    "        else:\n",
    "            selected_smiles = smiles_lenv\n",
    "    return(selected_smiles)\n",
    "\n",
    "def update(database, distribution_48, selected_smiles):\n",
    "    local_envs = [] # local environments in selected smiles\n",
    "    for s in selected_smiles:\n",
    "        local_envs.extend(list(database.loc[(database['smiles']==s) & (database['num ve']==48), 'rep']))\n",
    "\n",
    "    for lenv in local_envs: # count how often each local env is now present in distribution_48\n",
    "        distribution_48.loc[distribution_48['rep']==lenv, 'actual_num_reps'] = distribution_48.loc[distribution_48['rep']==lenv, 'actual_num_reps'].item() + 1"
   ]
  },
  {
   "cell_type": "code",
   "execution_count": 6,
   "metadata": {},
   "outputs": [],
   "source": [
    "reps_48 = list(rep_distribution.loc[(rep_distribution['num_ve']==48) & (rep_distribution['num_reps'] > 0), 'rep']) # representations with 48 ve\n",
    "\n",
    "# number of times these representations occur in molecules with 48 ve\n",
    "num_rep_48 = np.array(rep_distribution.loc[(rep_distribution['num_ve']==48) & (rep_distribution['num_reps'] > 0), 'num_reps']) \n",
    "\n",
    "# sort representation by increasing order of occurence\n",
    "table = []\n",
    "for n, r in zip(num_rep_48, reps_48):\n",
    "    table.append([n, r])\n",
    "table.sort()\n",
    "num_rep_48 = []\n",
    "reps_48 = []\n",
    "for n in table:\n",
    "    num_rep_48.append(n[0])\n",
    "    reps_48.append(n[1])\n",
    "\n",
    "# make dataframe with reps and occurences sorted by increasing occurence\n",
    "distribution_48 = pd.DataFrame(data={'rep': reps_48, 'tot_num_reps': num_rep_48})\n",
    "\n",
    "# set ideal number of reps\n",
    "# get ideal occurence for all environments that occure less than 1000 times\n",
    "ideal_occ = np.zeros(len(num_rep_48))\n",
    "ideal_occ[:] = np.nan\n",
    "\n",
    "for i, tnr in enumerate(distribution_48.loc[distribution_48['tot_num_reps'] < 1000, 'tot_num_reps']):\n",
    "    ideal_occ[i] = get_ideal_num_reps(tnr)\n",
    "\n",
    "distribution_48['ideal_num_reps'] = ideal_occ\n",
    "distribution_48['actual_num_reps']= np.zeros(len(num_rep_48))"
   ]
  },
  {
   "cell_type": "code",
   "execution_count": 7,
   "metadata": {},
   "outputs": [],
   "source": [
    "# all envs for which I want to select smiles\n",
    "selected_smiles = []\n",
    "local_envs = distribution_48.loc[distribution_48['tot_num_reps'] < 1000, 'rep']\n",
    "for lenv in local_envs:\n",
    "    # find smiles that contain local env lenv\n",
    "    smiles_tmp = select_smiles(database, distribution_48, lenv)\n",
    "    # remove duplicates if smiles in smiles_tmp was selected in previous iteration\n",
    "    smiles_tmp = remove_smiles_duplicates(selected_smiles, smiles_tmp)\n",
    "    \n",
    "    # update occurence of local envs\n",
    "    update(database, distribution_48, smiles_tmp)\n",
    "    selected_smiles.extend(smiles_tmp)"
   ]
  },
  {
   "cell_type": "code",
   "execution_count": 8,
   "metadata": {},
   "outputs": [
    {
     "data": {
      "image/png": "[encoded data removed]",
      "text/plain": [
       "<Figure size 432x288 with 1 Axes>"
      ]
     },
     "metadata": {
      "needs_background": "light"
     },
     "output_type": "display_data"
    }
   ],
   "source": [
    "plt.plot(distribution_48['actual_num_reps']/max(distribution_48['actual_num_reps']))\n",
    "\n",
    "plt.plot(distribution_48['tot_num_reps']/max(distribution_48['tot_num_reps']))\n",
    "\n",
    "under_sampled = distribution_48.loc[distribution_48['actual_num_reps']/max(distribution_48['actual_num_reps']) - distribution_48['tot_num_reps']/max(distribution_48['tot_num_reps']) < 0]"
   ]
  },
  {
   "cell_type": "code",
   "execution_count": 9,
   "metadata": {},
   "outputs": [
    {
     "data": {
      "text/plain": [
       "[<matplotlib.lines.Line2D at 0x7f97c3b4ce80>]"
      ]
     },
     "execution_count": 9,
     "metadata": {},
     "output_type": "execute_result"
    },
    {
     "data": {
      "image/png": "[encoded data removed]",
      "text/plain": [
       "<Figure size 432x288 with 1 Axes>"
      ]
     },
     "metadata": {
      "needs_background": "light"
     },
     "output_type": "display_data"
    }
   ],
   "source": [
    "plt.plot(np.array(under_sampled['tot_num_reps']), '-o')"
   ]
  },
  {
   "cell_type": "code",
   "execution_count": 10,
   "metadata": {},
   "outputs": [],
   "source": [
    "tot_num_additional_smiles = 3000 - len(selected_smiles)\n",
    "num_additional_smiles = np.round(under_sampled['tot_num_reps']/under_sampled['tot_num_reps'].sum()*tot_num_additional_smiles)\n",
    "add_lenvs = distribution_48.loc[distribution_48['actual_num_reps']/max(distribution_48['actual_num_reps']) - distribution_48['tot_num_reps']/max(distribution_48['tot_num_reps']) < 0, 'rep']\n",
    "\n"
   ]
  },
  {
   "cell_type": "code",
   "execution_count": 11,
   "metadata": {},
   "outputs": [
    {
     "data": {
      "text/plain": [
       "99       9.0\n",
       "100     10.0\n",
       "109     17.0\n",
       "114     29.0\n",
       "116     31.0\n",
       "117     31.0\n",
       "121     35.0\n",
       "122     36.0\n",
       "124     38.0\n",
       "125     38.0\n",
       "126     44.0\n",
       "127     45.0\n",
       "129     48.0\n",
       "131     65.0\n",
       "133     69.0\n",
       "135    103.0\n",
       "136    105.0\n",
       "137    111.0\n",
       "140    169.0\n",
       "141    225.0\n",
       "Name: tot_num_reps, dtype: float64"
      ]
     },
     "execution_count": 11,
     "metadata": {},
     "output_type": "execute_result"
    }
   ],
   "source": [
    "num_additional_smiles"
   ]
  },
  {
   "cell_type": "code",
   "execution_count": 16,
   "metadata": {},
   "outputs": [],
   "source": [
    "# all envs for which I want to select smiles\n",
    "additional_smiles = []\n",
    "for lenv, nums in zip(add_lenvs, num_additional_smiles):\n",
    "    # find smiles that contain local env lenv\n",
    "    smiles_tmp = select_additional_smiles(database, lenv, nums)\n",
    "    # remove duplicates if smiles in smiles_tmp was selected in previous iteration\n",
    "    smiles_tmp = remove_smiles_duplicates(additional_smiles, smiles_tmp)\n",
    "    smiles_tmp = remove_smiles_duplicates(selected_smiles, smiles_tmp)\n",
    "    \n",
    "    # update occurence of local envs\n",
    "    update(database, distribution_48, smiles_tmp)\n",
    "    additional_smiles.extend(smiles_tmp)"
   ]
  },
  {
   "cell_type": "code",
   "execution_count": 18,
   "metadata": {},
   "outputs": [
    {
     "data": {
      "text/plain": [
       "1213"
      ]
     },
     "execution_count": 18,
     "metadata": {},
     "output_type": "execute_result"
    }
   ],
   "source": [
    "len(set(additional_smiles) - set(selected_smiles))"
   ]
  },
  {
   "cell_type": "code",
   "execution_count": 20,
   "metadata": {},
   "outputs": [
    {
     "data": {
      "text/plain": [
       "1213"
      ]
     },
     "execution_count": 20,
     "metadata": {},
     "output_type": "execute_result"
    }
   ],
   "source": [
    "len(additional_smiles)"
   ]
  },
  {
   "cell_type": "code",
   "execution_count": 21,
   "metadata": {},
   "outputs": [],
   "source": [
    "new_smiles = list(set(additional_smiles) - set(selected_smiles) )\n",
    "selected_smiles.extend(new_smiles)"
   ]
  },
  {
   "cell_type": "code",
   "execution_count": 24,
   "metadata": {},
   "outputs": [
    {
     "data": {
      "text/plain": [
       "[<matplotlib.lines.Line2D at 0x7f97c39bf3c8>]"
      ]
     },
     "execution_count": 24,
     "metadata": {},
     "output_type": "execute_result"
    },
    {
     "data": {
      "image/png": "[encoded data removed]",
      "text/plain": [
       "<Figure size 432x288 with 1 Axes>"
      ]
     },
     "metadata": {
      "needs_background": "light"
     },
     "output_type": "display_data"
    }
   ],
   "source": [
    "plt.plot(distribution_48['actual_num_reps']/max(distribution_48['actual_num_reps']), '-o')\n",
    "\n",
    "plt.plot(distribution_48['tot_num_reps']/max(distribution_48['tot_num_reps']), '-o')"
   ]
  },
  {
   "cell_type": "code",
   "execution_count": 26,
   "metadata": {},
   "outputs": [],
   "source": [
    "with open('/home/misa/projects/Atomic-Energies/data/ueg_reference/data_selection/smiles_ve_48.txt', 'w') as f:\n",
    "    for i in selected_smiles:\n",
    "        f.write(i+'\\n')"
   ]
  }
 ],
 "metadata": {
  "kernelspec": {
   "display_name": "Python [conda env:atomic-energies]",
   "language": "python",
   "name": "conda-env-atomic-energies-py"
  },
  "language_info": {
   "codemirror_mode": {
    "name": "ipython",
    "version": 3
   },
   "file_extension": ".py",
   "mimetype": "text/x-python",
   "name": "python",
   "nbconvert_exporter": "python",
   "pygments_lexer": "ipython3",
   "version": "3.7.3"
  }
 },
 "nbformat": 4,
 "nbformat_minor": 4
}
