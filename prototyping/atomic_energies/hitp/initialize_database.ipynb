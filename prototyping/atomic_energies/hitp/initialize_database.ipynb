{
 "cells": [
  {
   "cell_type": "code",
   "execution_count": 1,
   "metadata": {},
   "outputs": [],
   "source": [
    "#import find_converged as fc\n",
    "import os\n",
    "import glob\n",
    "import pandas as pd\n",
    "\n",
    "import shutil"
   ]
  },
  {
   "cell_type": "code",
   "execution_count": 6,
   "metadata": {},
   "outputs": [],
   "source": [
    "def initialize_database(workdirs):\n",
    "    workdirs.sort()\n",
    "    indices = []\n",
    "    comps = []\n",
    "    lam_vals = []\n",
    "    for wd in workdirs:\n",
    "        splitted = wd.split('/')\n",
    "        comp = splitted[-2]\n",
    "        lam_val = splitted[-1]\n",
    "        comps.append(comp)\n",
    "        lam_vals.append(lam_val)\n",
    "        indices.append(f'{comp}:{lam_val}')\n",
    "\n",
    "    database = pd.DataFrame(index = indices, columns=['comp_name', 'lam_val', 'status', 'restart', 'time', 'workdir'])\n",
    "    database['comp_name'] = comps\n",
    "    database['lam_val'] = lam_vals\n",
    "    database['workdir'] = workdirs\n",
    "    database['restart'] = len(workdirs)*[False]\n",
    "    return(database)"
   ]
  },
  {
   "cell_type": "code",
   "execution_count": 7,
   "metadata": {},
   "outputs": [],
   "source": [
    "workdirs = glob.glob('/scicore/home/lilienfeld/sahre0000/projects/atomic_energies/results/other_slices/dsgdb9nsd_*/ve*')\n",
    "\n",
    "database = initialize_database(workdirs)\n",
    "database.to_pickle('/scicore/home/lilienfeld/sahre0000/projects/atomic_energies/results/other_slices/calculation_database.pd')"
   ]
  }
 ],
 "metadata": {
  "kernelspec": {
   "display_name": "Python [conda env:.conda-qm-tools] *",
   "language": "python",
   "name": "conda-env-.conda-qm-tools-py"
  },
  "language_info": {
   "codemirror_mode": {
    "name": "ipython",
    "version": 3
   },
   "file_extension": ".py",
   "mimetype": "text/x-python",
   "name": "python",
   "nbconvert_exporter": "python",
   "pygments_lexer": "ipython3",
   "version": "3.7.9"
  }
 },
 "nbformat": 4,
 "nbformat_minor": 4
}
