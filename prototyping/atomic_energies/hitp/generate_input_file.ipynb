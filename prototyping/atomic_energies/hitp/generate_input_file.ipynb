{
 "cells": [
  {
   "cell_type": "code",
   "execution_count": 1,
   "metadata": {},
   "outputs": [],
   "source": [
    "import os\n",
    "import numpy as np\n",
    "import qml\n",
    "import ase\n",
    "import sys\n",
    "sys.path.insert(0, '/home/misa/git_repositories/APDFT/prototyping/atomic_energies/hitp/')\n",
    "sys.path.insert(0, '/home/misa/git_repositories/APDFT/prototyping/atomic_energies/')\n",
    "import prepare_calculations\n",
    "import explore_qml_data as eqd\n",
    "import utils_qm as uqm\n",
    "import glob\n",
    "\n",
    "#sys.path.insert(0, '/home/misa/git_repositories/xyz2mol_modified/')\n",
    "#import xyz2mol"
   ]
  },
  {
   "cell_type": "markdown",
   "metadata": {},
   "source": [
    "# Input from ase atoms object"
   ]
  },
  {
   "cell_type": "code",
   "execution_count": 2,
   "metadata": {},
   "outputs": [],
   "source": [
    "paths = glob.glob('/home/misa/projects/atomic-energies/data/ueg_reference/amons/geometry/angles/water/ang_*/*.xyz')\n",
    "paths.sort()"
   ]
  },
  {
   "cell_type": "code",
   "execution_count": 3,
   "metadata": {},
   "outputs": [
    {
     "data": {
      "text/plain": [
       "['/home/misa/projects/atomic-energies/data/ueg_reference/amons/geometry/angles/water/ang_-2/water_ang_-2.xyz',\n",
       " '/home/misa/projects/atomic-energies/data/ueg_reference/amons/geometry/angles/water/ang_-4/water_ang_-4.xyz',\n",
       " '/home/misa/projects/atomic-energies/data/ueg_reference/amons/geometry/angles/water/ang_-6/water_ang_-6.xyz',\n",
       " '/home/misa/projects/atomic-energies/data/ueg_reference/amons/geometry/angles/water/ang_2/water_ang_2.xyz',\n",
       " '/home/misa/projects/atomic-energies/data/ueg_reference/amons/geometry/angles/water/ang_4/water_ang_4.xyz',\n",
       " '/home/misa/projects/atomic-energies/data/ueg_reference/amons/geometry/angles/water/ang_6/water_ang_6.xyz']"
      ]
     },
     "execution_count": 3,
     "metadata": {},
     "output_type": "execute_result"
    }
   ],
   "source": [
    "paths"
   ]
  },
  {
   "cell_type": "code",
   "execution_count": 8,
   "metadata": {},
   "outputs": [
    {
     "name": "stdout",
     "output_type": "stream",
     "text": [
      "114.80768458417147\n",
      "112.80768482787337\n",
      "118.80768467785084\n",
      "120.80768471341182\n"
     ]
    }
   ],
   "source": [
    "# paths to atoms objects\n",
    "paths = glob.glob('/home/misa/projects/atomic-energies/data/ueg_reference/amons/geometry/angles/ethene_HCH/ang_*/*.xyz')\n",
    "paths.sort()\n",
    "\n",
    "# define parameters\n",
    "pp_dir = '/home/misa/PP_LIBRARY'\n",
    "pp_type = '_GH_PBE'\n",
    "template_inp = '/home/misa/projects/atomic-energies/data/cpmd_params_template_pbe.inp'\n",
    "template_inp_small_lambda = '/home/misa/projects/atomic-energies/data/cpmd_params_template_pbe_small_lambda.inp'\n",
    "\n",
    "# generate input files for all atoms objects\n",
    "for p in paths:\n",
    "    atoms = ase.io.read(p)\n",
    "    print(atoms.get_angle(2,0,3))\n",
    "    compound_path = os.path.dirname(p)\n",
    "    prepare_calculations.wrapper_ase(atoms, compound_path, pp_dir, pp_type, template_inp, template_inp_small_lambda)"
   ]
  },
  {
   "cell_type": "code",
   "execution_count": null,
   "metadata": {},
   "outputs": [],
   "source": [
    "atoms.get_dihedral(2,0,1,7)"
   ]
  },
  {
   "cell_type": "code",
   "execution_count": null,
   "metadata": {},
   "outputs": [],
   "source": []
  },
  {
   "cell_type": "markdown",
   "metadata": {},
   "source": [
    "# Amons - Generate Input"
   ]
  },
  {
   "cell_type": "markdown",
   "metadata": {},
   "source": [
    "### Amons < 32 VE"
   ]
  },
  {
   "cell_type": "code",
   "execution_count": null,
   "metadata": {},
   "outputs": [],
   "source": [
    "amons_dict = uqm.load_obj('/home/misa/datasets/amons_qm9_11k/unique_amons_dict')\n",
    "smiles_upto_30ve = []\n",
    "with open('/home/misa/projects/Atomic-Energies/data/ueg_reference/amons/batch1_up_to_30_ve.txt', 'r') as f:\n",
    "    for line in f:\n",
    "        smiles_upto_30ve.append(line.rstrip('\\n'))"
   ]
  },
  {
   "cell_type": "code",
   "execution_count": null,
   "metadata": {},
   "outputs": [],
   "source": [
    "#smiles = smiles_upto_30ve[1]\n",
    "\n",
    "template_inp = \n",
    "template_inp_small_lambda =\n",
    "\n",
    "for i, smiles in enumerate(smiles_upto_30ve):\n",
    "    if smiles == 'C':\n",
    "        print(i+1)\n",
    "        \n",
    "    xyz_data = amons_dict[smiles]\n",
    "    \n",
    "    num_digits_i = len(str(i+1))\n",
    "    leading_zeros = (6 - num_digits_i)*'0'\n",
    "    compound_name = f'amon_{leading_zeros}{i+1}'\n",
    "    compound_path = f'/home/misa/projects/Atomic-Energies/data/ueg_reference/amons/{compound_name}'\n",
    "\n",
    "    lambda_values = np.array([0.2, 0.4, 0.6, 0.8, 1.0])\n",
    "    nuc_charges, charge, coords_initial = xyz2mol.read_xyz_data(xyz_data)\n",
    "    atom_symbols = []\n",
    "    for n in nuc_charges:\n",
    "        atom_symbols.append(xyz2mol.str_atom(n).upper())\n",
    "\n",
    "    # calculation parameters (independent of lambda value)\n",
    "    num_ve = eqd.get_num_val_elec(nuc_charges) # get number of ve\n",
    "    boxsize = prepare_calculations.get_boxsize(num_ve) # get boxsize\n",
    "    num_gpts_lower, num_gpts_higher = prepare_calculations.get_gpts(num_ve) # get gridpoints\n",
    "    num_gpts = num_gpts_higher\n",
    "\n",
    "    # shift molecule to center of box\n",
    "    coords = eqd.shift2center(coords_initial, np.array([boxsize, boxsize, boxsize])/2)\n",
    "\n",
    "    # get correct lambda value\n",
    "    for lam_val in lambda_values:\n",
    "        new_lambda, scaled_ve = prepare_calculations.get_lambda(lam_val, num_ve)\n",
    "        # scaled_ve is number of electrons added from pseudopotential file, the remaining electrons must be added in form of a negative charge\n",
    "        charge = scaled_ve - num_ve # write input\n",
    "\n",
    "        # create directory if necessary\n",
    "        if scaled_ve < 10:\n",
    "            scaled_ve_str = '0'+str(scaled_ve)\n",
    "        else:\n",
    "            scaled_ve_str = str(scaled_ve)\n",
    "        work_dir = os.path.join(compound_path, f've_{scaled_ve_str}/')\n",
    "        os.makedirs(work_dir, exist_ok=True)\n",
    "\n",
    "        # generate input file\n",
    "        input_path = os.path.join(work_dir, 'run.inp')\n",
    "        if new_lambda > 0.5:\n",
    "            prepare_calculations.write_input(atom_symbols, charge, coords_final, num_gpts, boxsize, input_path, template_inp, debug = False)\n",
    "        else:\n",
    "            prepare_calculations.write_input(atom_symbols, charge, coords_final, num_gpts, boxsize, input_path, template_inp_small_lambda, debug = False)\n",
    "        # generate pp-files\n",
    "        prepare_calculations.write_pp_files_compound(atom_symbols, new_lambda, work_dir, pp_dir='/home/misa/software/Goedecker/library/pbe', pp_type='_GH_PBE')\n",
    "        \n",
    "        # write smiles\n",
    "        with open(f'/home/misa/projects/Atomic-Energies/data/ueg_reference/amons/{compound_name}/smiles', 'w') as f:\n",
    "            f.write(smiles+'\\n')"
   ]
  },
  {
   "cell_type": "code",
   "execution_count": null,
   "metadata": {},
   "outputs": [],
   "source": [
    "len(smiles_upto_30ve)"
   ]
  },
  {
   "cell_type": "markdown",
   "metadata": {},
   "source": [
    "### Ethane geometry"
   ]
  },
  {
   "cell_type": "code",
   "execution_count": null,
   "metadata": {},
   "outputs": [],
   "source": [
    "amons_dict = uqm.load_obj('/home/misa/datasets/amons_qm9_11k/unique_amons_dict')\n",
    "ethane_text = amons_dict['CC']\n",
    "\n",
    "coords = []\n",
    "elements = ''\n",
    "for line in ethane_text[2:]:\n",
    "    el, x, y, z = line.split()\n",
    "    coords.append([float(x),float(y),float(z)])\n",
    "    elements += el\n",
    "\n",
    "ethane = ase.Atoms(elements, coords)\n",
    "vec_CC = ethane.get_positions()[1] - ethane.get_positions()[0]\n",
    "stretch_percentage = np.array([0.85, 1.2, 1.5, 2])\n",
    "shift_vecs = []\n",
    "for sp in stretch_percentage:\n",
    "    shift_vec = vec_CC*sp - vec_CC\n",
    "    #print(np.linalg.norm(vec_CC*sp)/d_CC)\n",
    "    shift_vecs.append(shift_vec)\n",
    "    \n",
    "def shift_coords(coords, sv):\n",
    "    new_coords = coords.copy()\n",
    "    new_coords[1] += sv\n",
    "    new_coords[5] += sv\n",
    "    new_coords[6] += sv\n",
    "    new_coords[7] += sv\n",
    "    return(new_coords)"
   ]
  },
  {
   "cell_type": "code",
   "execution_count": null,
   "metadata": {},
   "outputs": [],
   "source": [
    "np.linalg.norm(shift_coords(ethane.get_positions(), shift_vecs[1])[0]-shift_coords(ethane.get_positions(), shift_vecs[1])[1])"
   ]
  },
  {
   "cell_type": "code",
   "execution_count": null,
   "metadata": {},
   "outputs": [],
   "source": []
  },
  {
   "cell_type": "code",
   "execution_count": null,
   "metadata": {},
   "outputs": [],
   "source": [
    "#smiles = smiles_upto_30ve[1]\n",
    "base_path = f'/home/misa/projects/Atomic-Energies/data/ueg_reference/amons/geometry/bond_stretch/ethane_cc'\n",
    "\n",
    "geometries = []\n",
    "for sv in shift_vecs:\n",
    "\n",
    "    # calculation parameters (independent of lambda value)\n",
    "    atom_symbols = ethane.get_chemical_symbols()\n",
    "    nuc_charges = ethane.get_atomic_numbers()\n",
    "    num_ve = eqd.get_num_val_elec(nuc_charges) # get number of ve\n",
    "    boxsize = prepare_calculations.get_boxsize(num_ve) # get boxsize\n",
    "    num_gpts_lower, num_gpts_higher = prepare_calculations.get_gpts(num_ve) # get gridpoints\n",
    "    num_gpts = num_gpts_higher\n",
    "\n",
    "    # stretch C-C bond\n",
    "    coords_initial = shift_coords(ethane.get_positions(), sv)\n",
    "    # shift molecule to center of box\n",
    "    coords_final = eqd.shift2center(coords_initial, np.array([boxsize, boxsize, boxsize])/2)\n",
    "    \n",
    "\n",
    "    geometries.append(coords_final)\n",
    "    \n",
    "    # path to geometry\n",
    "    d_final = np.linalg.norm(coords_final[1]-coords_final[0])\n",
    "    d_eq = np.linalg.norm(ethane.get_positions()[1]-ethane.get_positions()[0])\n",
    "    stretching_percentage = np.round(d_final/d_eq, 1)\n",
    "    geom_path = os.path.join(base_path, f\"d_{stretching_percentage}\")\n",
    "    \n",
    "    # get correct lambda value\n",
    "    lambda_values = np.array([0.2, 0.4, 0.6, 0.8, 1.0])\n",
    "    for lam_val in lambda_values:\n",
    "        new_lambda, scaled_ve = prepare_calculations.get_lambda(lam_val, num_ve)\n",
    "        # scaled_ve is number of electrons added from pseudopotential file, the remaining electrons must be added in form of a negative charge\n",
    "        charge = scaled_ve - num_ve # write input\n",
    "\n",
    "        # create directory if necessary\n",
    "        if scaled_ve < 10:\n",
    "            scaled_ve_str = '0'+str(scaled_ve)\n",
    "        else:\n",
    "            scaled_ve_str = str(scaled_ve)\n",
    "        work_dir = os.path.join(geom_path, f've_{scaled_ve_str}/')\n",
    "        os.makedirs(work_dir, exist_ok=True)\n",
    "\n",
    "        # generate input file\n",
    "        input_path = os.path.join(work_dir, 'run.inp')\n",
    "        prepare_calculations.write_input(atom_symbols, charge, coords_final, num_gpts, boxsize, input_path, '/home/misa/projects/Atomic-Energies/data/cpmd_params_template_pbe.inp', debug = False)\n",
    "\n",
    "        # generate pp-files\n",
    "        prepare_calculations.write_pp_files_compound(atom_symbols, new_lambda, work_dir, pp_dir='/home/misa/software/Goedecker/library/pbe', pp_type='_GH_PBE')\n"
   ]
  },
  {
   "cell_type": "code",
   "execution_count": null,
   "metadata": {},
   "outputs": [],
   "source": [
    "d = 0\n",
    "for g in geometries:\n",
    "    atom_symbols = ethane.get_chemical_symbols()\n",
    "    atoms_objects = ase.Atoms(atom_symbols, g)\n",
    "    \n",
    "    ase.io.write(f'/home/misa/projects/Atomic-Energies/data/ueg_reference/amons/geometry/bond_stretch/ethane_cc/geom_ethane_cc_{d}', atoms_objects, format='xyz')\n",
    "    d += 1"
   ]
  },
  {
   "cell_type": "code",
   "execution_count": null,
   "metadata": {},
   "outputs": [],
   "source": [
    "len(geometries)"
   ]
  },
  {
   "cell_type": "markdown",
   "metadata": {},
   "source": [
    "## Add INITIALIZE WAVEFUNCTION RANDOM "
   ]
  },
  {
   "cell_type": "code",
   "execution_count": null,
   "metadata": {},
   "outputs": [],
   "source": [
    "import glob"
   ]
  },
  {
   "cell_type": "code",
   "execution_count": null,
   "metadata": {},
   "outputs": [],
   "source": [
    "paths = glob.glob('/home/misa/projects/Atomic-Energies/data/ueg_reference/amons/geometry/bond_stretch/ethane_cc/d*/ve_03')\n",
    "paths.extend(glob.glob('/home/misa/projects/Atomic-Energies/data/ueg_reference/amons/geometry/bond_stretch/ethane_cc/d*/ve_06'))\n",
    "paths"
   ]
  },
  {
   "cell_type": "code",
   "execution_count": null,
   "metadata": {},
   "outputs": [],
   "source": [
    "for p in paths:\n",
    "    inp_file_path = os.path.join(p, 'run.inp')\n",
    "    with open(inp_file_path, 'r') as f:\n",
    "        file = f.readlines()\n",
    "    file.insert(2, '  INITIALIZE WAVEFUNCTION RANDOM\\n')\n",
    "    with open(inp_file_path, 'w') as f:\n",
    "        f.writelines(file)"
   ]
  },
  {
   "cell_type": "code",
   "execution_count": null,
   "metadata": {},
   "outputs": [],
   "source": [
    "glob.glob('/home/misa/projects/Atomic-Energies/data/ueg_reference/amons/geometry/bond_stretch/ethane_cc/d*/ve_*')"
   ]
  },
  {
   "cell_type": "markdown",
   "metadata": {},
   "source": [
    "# QM9"
   ]
  },
  {
   "cell_type": "code",
   "execution_count": null,
   "metadata": {},
   "outputs": [],
   "source": [
    "comp = qml.Compound(xyz='/home/misa/datasets/qm9/dsgdb9nsd_000930.xyz')\n",
    "charge = 0\n",
    "box = 20.0\n",
    "gpts = 350\n",
    "els = comp.atomtypes\n",
    "coords = comp.coordinates\n",
    "write_path = '/home/misa/projects/Atomic-Energies/data/test.inp'\n",
    "prepare_calculations.write_input(els, charge, coords, gpts, box, write_path, template_path='/home/misa/projects/Atomic-Energies/data/cpmd_params_template.inp', debug = False)"
   ]
  },
  {
   "cell_type": "code",
   "execution_count": null,
   "metadata": {},
   "outputs": [],
   "source": [
    "selected_molecules = [\n",
    " '/home/misa/datasets/qm9/dsgdb9nsd_000940.xyz',\n",
    " '/home/misa/datasets/qm9/dsgdb9nsd_000949.xyz',\n",
    " '/home/misa/datasets/qm9/dsgdb9nsd_002102.xyz',\n",
    " '/home/misa/datasets/qm9/dsgdb9nsd_002110.xyz',\n",
    " '/home/misa/datasets/qm9/dsgdb9nsd_000001.xyz',\n",
    " '/home/misa/datasets/qm9/dsgdb9nsd_000007.xyz',\n",
    " '/home/misa/datasets/qm9/dsgdb9nsd_000013.xyz',\n",
    " '/home/misa/datasets/qm9/dsgdb9nsd_000039.xyz',\n",
    " '/home/misa/datasets/qm9/dsgdb9nsd_000133.xyz',\n",
    " '/home/misa/datasets/qm9/dsgdb9nsd_000543.xyz']"
   ]
  },
  {
   "cell_type": "code",
   "execution_count": null,
   "metadata": {},
   "outputs": [],
   "source": [
    "for s in selected_molecules:\n",
    "    s.split('.')[0].split('/')[-1]"
   ]
  },
  {
   "cell_type": "code",
   "execution_count": null,
   "metadata": {},
   "outputs": [],
   "source": [
    "for s in selected_molecules:\n",
    "    path_to_xyz = s#'/home/misa/datasets/qm9/dsgdb9nsd_000930.xyz'\n",
    "    compound = s.split('.')[0].split('/')[-1]\n",
    "    compound_path = f'/home/misa/projects/Atomic-Energies/data/ueg_reference/SCF_calculations/{compound}/'\n",
    "    lambda_values = np.array([0.2, 0.4, 0.6, 0.8, 1.0])\n",
    "\n",
    "    comp = qml.Compound(xyz=path_to_xyz)\n",
    "    atomsymbols = comp.atomtypes\n",
    "    nuc_charges = comp.nuclear_charges\n",
    "\n",
    "    # calculation parameters (independent of lambda value)\n",
    "    num_ve = eqd.get_num_val_elec(nuc_charges) # get number of ve\n",
    "    boxsize = prepare_calculations.get_boxsize(num_ve) # get boxsize\n",
    "    num_gpts_lower, num_gpts_higher = prepare_calculations.get_gpts(num_ve) # get gridpoints\n",
    "    num_gpts = num_gpts_higher\n",
    "\n",
    "    # shift molecule to center of the box\n",
    "    coords_initial = comp.coordinates\n",
    "    coords = eqd.shift2center(coords_initial, np.array([boxsize, boxsize, boxsize])/2)\n",
    "\n",
    "    # get correct lambda value\n",
    "    for lam_val in lambda_values:\n",
    "        new_lambda, scaled_ve = prepare_calculations.get_lambda(lam_val, num_ve)\n",
    "        # scaled_ve is number of electrons added from pseudopotential file, the remaining electrons must be added in form of a negative charge\n",
    "        charge = scaled_ve - num_ve # write input\n",
    "\n",
    "        # create directory if necessary\n",
    "        if scaled_ve < 10:\n",
    "            scaled_ve_str = '0'+str(scaled_ve)\n",
    "        else:\n",
    "            scaled_ve_str = str(scaled_ve)\n",
    "        work_dir = os.path.join(compound_path, f've_{scaled_ve_str}/')\n",
    "        os.makedirs(work_dir, exist_ok=True)\n",
    "\n",
    "        # generate input file\n",
    "        input_path = os.path.join(work_dir, 'run.inp')\n",
    "        prepare_calculations.write_input(atomsymbols, charge, coords, num_gpts, boxsize, input_path, '/home/misa/projects/Atomic-Energies/data/cpmd_params_template.inp', debug = False)\n",
    "\n",
    "        # generate pp-files\n",
    "        prepare_calculations.write_pp_files_compound(comp, new_lambda, work_dir, pp_dir='/home/misa/software/PP_LIBRARY/', pp_type='_SG_LDA')"
   ]
  },
  {
   "cell_type": "code",
   "execution_count": null,
   "metadata": {},
   "outputs": [],
   "source": [
    "comp.natypes.keys()"
   ]
  },
  {
   "cell_type": "markdown",
   "metadata": {},
   "source": [
    "# Calculation of Density Slices"
   ]
  },
  {
   "cell_type": "code",
   "execution_count": null,
   "metadata": {},
   "outputs": [],
   "source": [
    "import os\n",
    "import numpy as np\n",
    "import qml\n",
    "import sys\n",
    "sys.path.insert(0, '/home/misa/git_repositories/APDFT/prototyping/atomic_energies/hitp/')\n",
    "sys.path.insert(0, '/home/misa/git_repositories/APDFT/prototyping/atomic_energies/')\n",
    "import prepare_calculations\n",
    "import explore_qml_data as eqd\n",
    "\n",
    "import ase"
   ]
  },
  {
   "cell_type": "code",
   "execution_count": null,
   "metadata": {},
   "outputs": [],
   "source": [
    "\n",
    "\n",
    "# get position of grid points\n",
    "\n",
    "# move to closest grid point"
   ]
  },
  {
   "cell_type": "code",
   "execution_count": null,
   "metadata": {},
   "outputs": [],
   "source": [
    "compound = 'dsgdb9nsd_000930'\n",
    "compound_path = f'/home/misa/projects/Atomic-Energies/data/ueg_reference/effect_heteroatoms/{compound}/'\n",
    "lambda_values = np.array([0.2, 0.4, 0.6, 0.8, 1.0])\n",
    "\n",
    "atoms = ase.io.read('/home/misa/projects/Atomic-Energies/data/ueg_reference/effect_heteroatoms/dsgdb9nsd_000930/dsgdb9nsd_000930_atoms.xyz')\n",
    "#shift1 = atoms.get_positions()+np.array([24,4,20])\n",
    "#print(shift1)\n",
    "\n",
    "atomsymbols = atoms.get_chemical_symbols()\n",
    "nuc_charges = atoms.get_atomic_numbers()\n",
    "\n",
    "# calculation parameters (independent of lambda value)\n",
    "num_ve = eqd.get_num_val_elec(nuc_charges) # get number of ve\n",
    "boxsize = prepare_calculations.get_boxsize(num_ve) # get boxsize\n",
    "num_gpts_lower, num_gpts_higher = prepare_calculations.get_gpts(num_ve) # get gridpoints\n",
    "num_gpts = num_gpts_higher\n",
    "\n",
    "# shift molecule to center of box\n",
    "coords_initial = atoms.get_positions()\n",
    "coords = eqd.shift2center(coords_initial, np.array([boxsize, boxsize, boxsize])/2)\n",
    "# shift molecule such that atom closest to heteroatom is at gpt\n",
    "index = 1\n",
    "pos_gpts = np.arange(num_gpts)*boxsize/num_gpts\n",
    "shift_z = pos_gpts[np.where(np.abs(coords[1,2]-pos_gpts) == np.amin(np.abs(coords[1,2]-pos_gpts)))] - coords[index, 2]\n",
    "shift_vector = np.array([0, 0, shift_z[0]])\n",
    "shifted_coords = coords+shift_vector\n",
    "\n",
    "\n",
    "# get correct lambda value\n",
    "for lam_val in lambda_values:\n",
    "    new_lambda, scaled_ve = prepare_calculations.get_lambda(lam_val, num_ve)\n",
    "    # scaled_ve is number of electrons added from pseudopotential file, the remaining electrons must be added in form of a negative charge\n",
    "    charge = scaled_ve - num_ve # write input\n",
    "\n",
    "    # create directory if necessary\n",
    "    if scaled_ve < 10:\n",
    "        scaled_ve_str = '0'+str(scaled_ve)\n",
    "    else:\n",
    "        scaled_ve_str = str(scaled_ve)\n",
    "    work_dir = os.path.join(compound_path, f've_{scaled_ve_str}/')\n",
    "    os.makedirs(work_dir, exist_ok=True)\n",
    "\n",
    "    # generate input file\n",
    "    input_path = os.path.join(work_dir, 'run.inp')\n",
    "    prepare_calculations.write_input(atomsymbols, charge, coords, num_gpts, boxsize, input_path, '/home/misa/projects/Atomic-Energies/data/cpmd_params_template.inp', debug = False)\n",
    "\n",
    "    # generate pp-files\n",
    "    #prepare_calculations.write_pp_files_compound(comp, new_lambda, work_dir, pp_dir='/home/misa/software/PP_LIBRARY/', pp_type='_SG_LDA')"
   ]
  },
  {
   "cell_type": "code",
   "execution_count": null,
   "metadata": {},
   "outputs": [],
   "source": []
  },
  {
   "cell_type": "code",
   "execution_count": null,
   "metadata": {},
   "outputs": [],
   "source": [
    "shifted_coords"
   ]
  },
  {
   "cell_type": "code",
   "execution_count": null,
   "metadata": {},
   "outputs": [],
   "source": [
    "np.amin(np.abs(coords[1,2]+shift_vector[2]-pos_gpts))"
   ]
  },
  {
   "cell_type": "code",
   "execution_count": null,
   "metadata": {},
   "outputs": [],
   "source": [
    "(coords+shift_vector)[:,2]"
   ]
  }
 ],
 "metadata": {
  "kernelspec": {
   "display_name": "Python [conda env:qm-tools] *",
   "language": "python",
   "name": "conda-env-qm-tools-py"
  },
  "language_info": {
   "codemirror_mode": {
    "name": "ipython",
    "version": 3
   },
   "file_extension": ".py",
   "mimetype": "text/x-python",
   "name": "python",
   "nbconvert_exporter": "python",
   "pygments_lexer": "ipython3",
   "version": "3.8.5"
  }
 },
 "nbformat": 4,
 "nbformat_minor": 4
}
