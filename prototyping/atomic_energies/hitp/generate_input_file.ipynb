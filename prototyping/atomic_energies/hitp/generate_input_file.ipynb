{
 "cells": [
  {
   "cell_type": "code",
   "execution_count": 1,
   "metadata": {},
   "outputs": [],
   "source": [
    "def write_params(L, charge, gpts, template_path='/home/misa/projects/Atomic-Energies/data/cpmd_params_template.inp'):\n",
    "    \"\"\"\n",
    "    add correct parameters for boxsize L, charge and gpts to template\n",
    "    \"\"\"\n",
    "    with open(template_path, 'r') as f:\n",
    "        template_params = f.readlines()\n",
    "\n",
    "    for i, line in enumerate(template_params):\n",
    "        if 'CELL ABSOLUTE' in line:\n",
    "            template_params[i+1] = f'        {L} {L} {L} 0.0 0.0 0.0\\n'\n",
    "        elif 'CHARGE' in line:\n",
    "            template_params[i+1] = f'        {charge}\\n'\n",
    "        elif 'MESH' in line:\n",
    "            template_params[i+1] = f'    {gpts} {gpts} {gpts}\\n'\n",
    "    return(template_params)"
   ]
  },
  {
   "cell_type": "code",
   "execution_count": null,
   "metadata": {},
   "outputs": [],
   "source": [
    "write_params(20.0, 0.0, 350)"
   ]
  },
  {
   "cell_type": "code",
   "execution_count": 2,
   "metadata": {},
   "outputs": [],
   "source": [
    "def write_atom(atomsym, coordinates):\n",
    "    \"\"\"\n",
    "    prepare the input for one atom:\n",
    "    the name of the pp is 'element_name' + idx of atom in Compound object + '_SG_LDA'\n",
    "    the coordinates are read from Compund as well (must be shifted to center before)\n",
    "    \"\"\"\n",
    "    line1 = f'*{atomsym}_SG_LDA FRAC\\n'\n",
    "    line2 = ' LMAX=S\\n'\n",
    "    line3 = ' 1\\n'\n",
    "    line4 = ' ' + str(coordinates[0]) + ' ' + str(coordinates[1]) + ' ' + str(coordinates[2]) + '\\n'\n",
    "    return( [line1, line2, line3, line4] )\n",
    "    \n",
    "def write_atom_section(atomsymbols, coordinates):\n",
    "    \"\"\"\n",
    "    atomsymbols: list of element names\n",
    "    coordinates: list of coordinates\n",
    "    concantenates inputs for individual atoms to one list where each element is one line of the input file\n",
    "    \"\"\"\n",
    "    atom_section = ['&ATOMS']\n",
    "    for atsym, c in zip(atomsymbols, coordinates):\n",
    "        atom = write_atom(atsym, c)\n",
    "        atom_section.extend(atom)\n",
    "    atom_section.append('&END')\n",
    "    return(atom_section)"
   ]
  },
  {
   "cell_type": "code",
   "execution_count": 3,
   "metadata": {},
   "outputs": [],
   "source": [
    "import qml"
   ]
  },
  {
   "cell_type": "code",
   "execution_count": null,
   "metadata": {},
   "outputs": [],
   "source": [
    "comp = qml.Compound(xyz='/home/misa/datasets/qm9/dsgdb9nsd_000930.xyz')\n",
    "write_atom_section(comp.atomtypes, comp.coordinates)\n"
   ]
  },
  {
   "cell_type": "code",
   "execution_count": 6,
   "metadata": {},
   "outputs": [],
   "source": [
    "def write_input(atomsymbols, charge, coordinates, gpts, L, write_path, template_path='/home/misa/projects/Atomic-Energies/data/cpmd_params_template.inp'):\n",
    "    \"\"\"\n",
    "    writes input file for molecule with specified parameters boxisze L, charge, number of gpts for mesh\n",
    "    \"\"\"\n",
    "    param_section = write_params(L, charge, gpts, template_path='/home/misa/projects/Atomic-Energies/data/cpmd_params_template.inp')\n",
    "    atom_section = write_atom_section(atomsymbols, coordinates)\n",
    "    with open(write_path, 'w') as f:\n",
    "        f.writelines(param_section+['\\n']+atom_section)"
   ]
  },
  {
   "cell_type": "code",
   "execution_count": 7,
   "metadata": {},
   "outputs": [],
   "source": [
    "comp = qml.Compound(xyz='/home/misa/datasets/qm9/dsgdb9nsd_000930.xyz')\n",
    "ch = 0\n",
    "b = 20.0\n",
    "gpts = 350\n",
    "els = comp.atomtypes\n",
    "coords = comp.coordinates\n",
    "\n",
    "write_input(els, ch, coords, gpts, b, '/home/misa/projects/Atomic-Energies/data/test.inp', template_path='/home/misa/projects/Atomic-Energies/data/cpmd_params_template.inp')"
   ]
  },
  {
   "cell_type": "code",
   "execution_count": 9,
   "metadata": {},
   "outputs": [],
   "source": [
    "import sys\n",
    "sys.path.insert(0, '/home/misa/git_repositories/APDFT/prototyping/atomic_energies/hitp/')\n",
    "import generate_input_file"
   ]
  }
 ],
 "metadata": {
  "kernelspec": {
   "display_name": "Python [conda env:atomic-energies]",
   "language": "python",
   "name": "conda-env-atomic-energies-py"
  },
  "language_info": {
   "codemirror_mode": {
    "name": "ipython",
    "version": 3
   },
   "file_extension": ".py",
   "mimetype": "text/x-python",
   "name": "python",
   "nbconvert_exporter": "python",
   "pygments_lexer": "ipython3",
   "version": "3.7.3"
  }
 },
 "nbformat": 4,
 "nbformat_minor": 4
}
