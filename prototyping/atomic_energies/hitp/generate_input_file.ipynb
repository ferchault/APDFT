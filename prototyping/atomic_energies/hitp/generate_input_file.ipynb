{
 "cells": [
  {
   "cell_type": "code",
   "execution_count": 1,
   "metadata": {},
   "outputs": [],
   "source": [
    "import os\n",
    "import numpy as np\n",
    "import qml\n",
    "import sys\n",
    "sys.path.insert(0, '/home/misa/git_repositories/APDFT/prototyping/atomic_energies/hitp/')\n",
    "sys.path.insert(0, '/home/misa/git_repositories/APDFT/prototyping/atomic_energies/')\n",
    "import prepare_calculations\n",
    "import explore_qml_data as eqd\n",
    "import utils_qm as uqm\n",
    "\n",
    "sys.path.insert(0, '/home/misa/git_repositories/xyz2mol_modified/')\n",
    "import xyz2mol"
   ]
  },
  {
   "cell_type": "markdown",
   "metadata": {},
   "source": [
    "# Amons - Generate Input"
   ]
  },
  {
   "cell_type": "code",
   "execution_count": 2,
   "metadata": {},
   "outputs": [],
   "source": [
    "amons_dict = uqm.load_obj('/home/misa/datasets/amons_qm9_11k/unique_amons_dict')\n",
    "smiles_upto_30ve = []\n",
    "with open('/home/misa/projects/Atomic-Energies/data/ueg_reference/amons/batch1_up_to_30_ve.txt') as f:\n",
    "    for line in f:\n",
    "        smiles_upto_30ve.append(line.rstrip('\\n'))"
   ]
  },
  {
   "cell_type": "code",
   "execution_count": 7,
   "metadata": {},
   "outputs": [
    {
     "name": "stdout",
     "output_type": "stream",
     "text": [
      "1\n"
     ]
    }
   ],
   "source": [
    "#smiles = smiles_upto_30ve[1]\n",
    "\n",
    "for i, smiles in enumerate(smiles_upto_30ve):\n",
    "    if smiles == 'C':\n",
    "        print(i+1)\n",
    "        \n",
    "    xyz_data = amons_dict[smiles]\n",
    "    \n",
    "    num_digits_i = len(str(i+1))\n",
    "    leading_zeros = (6 - num_digits_i)*'0'\n",
    "    compound_name = f'amon_{leading_zeros}{i+1}'\n",
    "    compound_path = f'/home/misa/projects/Atomic-Energies/data/ueg_reference/amons/{compound_name}'\n",
    "\n",
    "    lambda_values = np.array([0.2, 0.4, 0.6, 0.8, 1.0])\n",
    "    nuc_charges, charge, coords_initial = xyz2mol.read_xyz_data(xyz_data)\n",
    "    atom_symbols = []\n",
    "    for n in nuc_charges:\n",
    "        atom_symbols.append(xyz2mol.str_atom(n).upper())\n",
    "\n",
    "    # calculation parameters (independent of lambda value)\n",
    "    num_ve = eqd.get_num_val_elec(nuc_charges) # get number of ve\n",
    "    boxsize = prepare_calculations.get_boxsize(num_ve) # get boxsize\n",
    "    num_gpts_lower, num_gpts_higher = prepare_calculations.get_gpts(num_ve) # get gridpoints\n",
    "    num_gpts = num_gpts_higher\n",
    "\n",
    "    # shift molecule to center of box\n",
    "    coords = eqd.shift2center(coords_initial, np.array([boxsize, boxsize, boxsize])/2)\n",
    "\n",
    "    # get correct lambda value\n",
    "    for lam_val in lambda_values:\n",
    "        new_lambda, scaled_ve = prepare_calculations.get_lambda(lam_val, num_ve)\n",
    "        # scaled_ve is number of electrons added from pseudopotential file, the remaining electrons must be added in form of a negative charge\n",
    "        charge = scaled_ve - num_ve # write input\n",
    "\n",
    "        # create directory if necessary\n",
    "        if scaled_ve < 10:\n",
    "            scaled_ve_str = '0'+str(scaled_ve)\n",
    "        else:\n",
    "            scaled_ve_str = str(scaled_ve)\n",
    "        work_dir = os.path.join(compound_path, f've_{scaled_ve_str}/')\n",
    "        os.makedirs(work_dir, exist_ok=True)\n",
    "\n",
    "        # generate input file\n",
    "        input_path = os.path.join(work_dir, 'run.inp')\n",
    "        prepare_calculations.write_input(atom_symbols, charge, coords, num_gpts, boxsize, input_path, '/home/misa/projects/Atomic-Energies/data/cpmd_params_template_pbe.inp', debug = False)\n",
    "\n",
    "        # generate pp-files\n",
    "        prepare_calculations.write_pp_files_compound(atom_symbols, new_lambda, work_dir, pp_dir='/home/misa/software/Goedecker/library/pbe', pp_type='_GH_PBE')\n",
    "        \n",
    "        # write smiles\n",
    "        with open(f'/home/misa/projects/Atomic-Energies/data/ueg_reference/amons/{compound_name}/smiles', 'w') as f:\n",
    "            f.write(smiles+'\\n')"
   ]
  },
  {
   "cell_type": "code",
   "execution_count": 8,
   "metadata": {},
   "outputs": [
    {
     "data": {
      "text/plain": [
       "801"
      ]
     },
     "execution_count": 8,
     "metadata": {},
     "output_type": "execute_result"
    }
   ],
   "source": [
    "len(smiles_upto_30ve)"
   ]
  },
  {
   "cell_type": "markdown",
   "metadata": {},
   "source": [
    "# QM9"
   ]
  },
  {
   "cell_type": "code",
   "execution_count": null,
   "metadata": {},
   "outputs": [],
   "source": [
    "comp = qml.Compound(xyz='/home/misa/datasets/qm9/dsgdb9nsd_000930.xyz')\n",
    "charge = 0\n",
    "box = 20.0\n",
    "gpts = 350\n",
    "els = comp.atomtypes\n",
    "coords = comp.coordinates\n",
    "write_path = '/home/misa/projects/Atomic-Energies/data/test.inp'\n",
    "prepare_calculations.write_input(els, charge, coords, gpts, box, write_path, template_path='/home/misa/projects/Atomic-Energies/data/cpmd_params_template.inp', debug = False)"
   ]
  },
  {
   "cell_type": "code",
   "execution_count": null,
   "metadata": {},
   "outputs": [],
   "source": [
    "selected_molecules = [\n",
    " '/home/misa/datasets/qm9/dsgdb9nsd_000940.xyz',\n",
    " '/home/misa/datasets/qm9/dsgdb9nsd_000949.xyz',\n",
    " '/home/misa/datasets/qm9/dsgdb9nsd_002102.xyz',\n",
    " '/home/misa/datasets/qm9/dsgdb9nsd_002110.xyz',\n",
    " '/home/misa/datasets/qm9/dsgdb9nsd_000001.xyz',\n",
    " '/home/misa/datasets/qm9/dsgdb9nsd_000007.xyz',\n",
    " '/home/misa/datasets/qm9/dsgdb9nsd_000013.xyz',\n",
    " '/home/misa/datasets/qm9/dsgdb9nsd_000039.xyz',\n",
    " '/home/misa/datasets/qm9/dsgdb9nsd_000133.xyz',\n",
    " '/home/misa/datasets/qm9/dsgdb9nsd_000543.xyz']"
   ]
  },
  {
   "cell_type": "code",
   "execution_count": null,
   "metadata": {},
   "outputs": [],
   "source": [
    "for s in selected_molecules:\n",
    "    s.split('.')[0].split('/')[-1]"
   ]
  },
  {
   "cell_type": "code",
   "execution_count": null,
   "metadata": {},
   "outputs": [],
   "source": [
    "for s in selected_molecules:\n",
    "    path_to_xyz = s#'/home/misa/datasets/qm9/dsgdb9nsd_000930.xyz'\n",
    "    compound = s.split('.')[0].split('/')[-1]\n",
    "    compound_path = f'/home/misa/projects/Atomic-Energies/data/ueg_reference/SCF_calculations/{compound}/'\n",
    "    lambda_values = np.array([0.2, 0.4, 0.6, 0.8, 1.0])\n",
    "\n",
    "    comp = qml.Compound(xyz=path_to_xyz)\n",
    "    atomsymbols = comp.atomtypes\n",
    "    nuc_charges = comp.nuclear_charges\n",
    "\n",
    "    # calculation parameters (independent of lambda value)\n",
    "    num_ve = eqd.get_num_val_elec(nuc_charges) # get number of ve\n",
    "    boxsize = prepare_calculations.get_boxsize(num_ve) # get boxsize\n",
    "    num_gpts_lower, num_gpts_higher = prepare_calculations.get_gpts(num_ve) # get gridpoints\n",
    "    num_gpts = num_gpts_higher\n",
    "\n",
    "    # shift molecule to center of the box\n",
    "    coords_initial = comp.coordinates\n",
    "    coords = eqd.shift2center(coords_initial, np.array([boxsize, boxsize, boxsize])/2)\n",
    "\n",
    "    # get correct lambda value\n",
    "    for lam_val in lambda_values:\n",
    "        new_lambda, scaled_ve = prepare_calculations.get_lambda(lam_val, num_ve)\n",
    "        # scaled_ve is number of electrons added from pseudopotential file, the remaining electrons must be added in form of a negative charge\n",
    "        charge = scaled_ve - num_ve # write input\n",
    "\n",
    "        # create directory if necessary\n",
    "        if scaled_ve < 10:\n",
    "            scaled_ve_str = '0'+str(scaled_ve)\n",
    "        else:\n",
    "            scaled_ve_str = str(scaled_ve)\n",
    "        work_dir = os.path.join(compound_path, f've_{scaled_ve_str}/')\n",
    "        os.makedirs(work_dir, exist_ok=True)\n",
    "\n",
    "        # generate input file\n",
    "        input_path = os.path.join(work_dir, 'run.inp')\n",
    "        prepare_calculations.write_input(atomsymbols, charge, coords, num_gpts, boxsize, input_path, '/home/misa/projects/Atomic-Energies/data/cpmd_params_template.inp', debug = False)\n",
    "\n",
    "        # generate pp-files\n",
    "        prepare_calculations.write_pp_files_compound(comp, new_lambda, work_dir, pp_dir='/home/misa/software/PP_LIBRARY/', pp_type='_SG_LDA')"
   ]
  },
  {
   "cell_type": "code",
   "execution_count": null,
   "metadata": {},
   "outputs": [],
   "source": [
    "comp.natypes.keys()"
   ]
  },
  {
   "cell_type": "markdown",
   "metadata": {},
   "source": [
    "# Calculation of Density Slices"
   ]
  },
  {
   "cell_type": "code",
   "execution_count": null,
   "metadata": {},
   "outputs": [],
   "source": [
    "import os\n",
    "import numpy as np\n",
    "import qml\n",
    "import sys\n",
    "sys.path.insert(0, '/home/misa/git_repositories/APDFT/prototyping/atomic_energies/hitp/')\n",
    "sys.path.insert(0, '/home/misa/git_repositories/APDFT/prototyping/atomic_energies/')\n",
    "import prepare_calculations\n",
    "import explore_qml_data as eqd\n",
    "\n",
    "import ase"
   ]
  },
  {
   "cell_type": "code",
   "execution_count": null,
   "metadata": {},
   "outputs": [],
   "source": [
    "\n",
    "\n",
    "# get position of grid points\n",
    "\n",
    "# move to closest grid point"
   ]
  },
  {
   "cell_type": "code",
   "execution_count": null,
   "metadata": {},
   "outputs": [],
   "source": [
    "compound = 'dsgdb9nsd_000930'\n",
    "compound_path = f'/home/misa/projects/Atomic-Energies/data/ueg_reference/effect_heteroatoms/{compound}/'\n",
    "lambda_values = np.array([0.2, 0.4, 0.6, 0.8, 1.0])\n",
    "\n",
    "atoms = ase.io.read('/home/misa/projects/Atomic-Energies/data/ueg_reference/effect_heteroatoms/dsgdb9nsd_000930/dsgdb9nsd_000930_atoms.xyz')\n",
    "#shift1 = atoms.get_positions()+np.array([24,4,20])\n",
    "#print(shift1)\n",
    "\n",
    "atomsymbols = atoms.get_chemical_symbols()\n",
    "nuc_charges = atoms.get_atomic_numbers()\n",
    "\n",
    "# calculation parameters (independent of lambda value)\n",
    "num_ve = eqd.get_num_val_elec(nuc_charges) # get number of ve\n",
    "boxsize = prepare_calculations.get_boxsize(num_ve) # get boxsize\n",
    "num_gpts_lower, num_gpts_higher = prepare_calculations.get_gpts(num_ve) # get gridpoints\n",
    "num_gpts = num_gpts_higher\n",
    "\n",
    "# shift molecule to center of box\n",
    "coords_initial = atoms.get_positions()\n",
    "coords = eqd.shift2center(coords_initial, np.array([boxsize, boxsize, boxsize])/2)\n",
    "# shift molecule such that atom closest to heteroatom is at gpt\n",
    "index = 1\n",
    "pos_gpts = np.arange(num_gpts)*boxsize/num_gpts\n",
    "shift_z = pos_gpts[np.where(np.abs(coords[1,2]-pos_gpts) == np.amin(np.abs(coords[1,2]-pos_gpts)))] - coords[index, 2]\n",
    "shift_vector = np.array([0, 0, shift_z[0]])\n",
    "shifted_coords = coords+shift_vector\n",
    "\n",
    "\n",
    "# get correct lambda value\n",
    "for lam_val in lambda_values:\n",
    "    new_lambda, scaled_ve = prepare_calculations.get_lambda(lam_val, num_ve)\n",
    "    # scaled_ve is number of electrons added from pseudopotential file, the remaining electrons must be added in form of a negative charge\n",
    "    charge = scaled_ve - num_ve # write input\n",
    "\n",
    "    # create directory if necessary\n",
    "    if scaled_ve < 10:\n",
    "        scaled_ve_str = '0'+str(scaled_ve)\n",
    "    else:\n",
    "        scaled_ve_str = str(scaled_ve)\n",
    "    work_dir = os.path.join(compound_path, f've_{scaled_ve_str}/')\n",
    "    os.makedirs(work_dir, exist_ok=True)\n",
    "\n",
    "    # generate input file\n",
    "    input_path = os.path.join(work_dir, 'run.inp')\n",
    "    prepare_calculations.write_input(atomsymbols, charge, coords, num_gpts, boxsize, input_path, '/home/misa/projects/Atomic-Energies/data/cpmd_params_template.inp', debug = False)\n",
    "\n",
    "    # generate pp-files\n",
    "    #prepare_calculations.write_pp_files_compound(comp, new_lambda, work_dir, pp_dir='/home/misa/software/PP_LIBRARY/', pp_type='_SG_LDA')"
   ]
  },
  {
   "cell_type": "code",
   "execution_count": null,
   "metadata": {},
   "outputs": [],
   "source": []
  },
  {
   "cell_type": "code",
   "execution_count": null,
   "metadata": {},
   "outputs": [],
   "source": [
    "shifted_coords"
   ]
  },
  {
   "cell_type": "code",
   "execution_count": null,
   "metadata": {},
   "outputs": [],
   "source": [
    "np.amin(np.abs(coords[1,2]+shift_vector[2]-pos_gpts))"
   ]
  },
  {
   "cell_type": "code",
   "execution_count": null,
   "metadata": {},
   "outputs": [],
   "source": [
    "(coords+shift_vector)[:,2]"
   ]
  }
 ],
 "metadata": {
  "kernelspec": {
   "display_name": "Python [conda env:atomic-energies]",
   "language": "python",
   "name": "conda-env-atomic-energies-py"
  },
  "language_info": {
   "codemirror_mode": {
    "name": "ipython",
    "version": 3
   },
   "file_extension": ".py",
   "mimetype": "text/x-python",
   "name": "python",
   "nbconvert_exporter": "python",
   "pygments_lexer": "ipython3",
   "version": "3.7.3"
  }
 },
 "nbformat": 4,
 "nbformat_minor": 4
}
