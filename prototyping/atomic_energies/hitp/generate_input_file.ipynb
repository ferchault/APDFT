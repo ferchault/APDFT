{
 "cells": [
  {
   "cell_type": "code",
   "execution_count": 1,
   "metadata": {},
   "outputs": [],
   "source": [
    "import os\n",
    "import numpy as np\n",
    "import qml\n",
    "import sys\n",
    "sys.path.insert(0, '/home/misa/git_repositories/APDFT/prototyping/atomic_energies/hitp/')\n",
    "sys.path.insert(0, '/home/misa/git_repositories/APDFT/prototyping/atomic_energies/')\n",
    "import prepare_calculations\n",
    "import explore_qml_data as eqd"
   ]
  },
  {
   "cell_type": "code",
   "execution_count": null,
   "metadata": {},
   "outputs": [],
   "source": [
    "comp = qml.Compound(xyz='/home/misa/datasets/qm9/dsgdb9nsd_000930.xyz')\n",
    "charge = 0\n",
    "box = 20.0\n",
    "gpts = 350\n",
    "els = comp.atomtypes\n",
    "coords = comp.coordinates\n",
    "write_path = '/home/misa/projects/Atomic-Energies/data/test.inp'\n",
    "prepare_calculations.write_input(els, charge, coords, gpts, box, write_path, template_path='/home/misa/projects/Atomic-Energies/data/cpmd_params_template.inp', debug = False)"
   ]
  },
  {
   "cell_type": "code",
   "execution_count": 4,
   "metadata": {},
   "outputs": [],
   "source": [
    "selected_molecules = [\n",
    " '/home/misa/datasets/qm9/dsgdb9nsd_000940.xyz',\n",
    " '/home/misa/datasets/qm9/dsgdb9nsd_000949.xyz',\n",
    " '/home/misa/datasets/qm9/dsgdb9nsd_002102.xyz',\n",
    " '/home/misa/datasets/qm9/dsgdb9nsd_002110.xyz',\n",
    " '/home/misa/datasets/qm9/dsgdb9nsd_000001.xyz',\n",
    " '/home/misa/datasets/qm9/dsgdb9nsd_000007.xyz',\n",
    " '/home/misa/datasets/qm9/dsgdb9nsd_000013.xyz',\n",
    " '/home/misa/datasets/qm9/dsgdb9nsd_000039.xyz',\n",
    " '/home/misa/datasets/qm9/dsgdb9nsd_000133.xyz',\n",
    " '/home/misa/datasets/qm9/dsgdb9nsd_000543.xyz']"
   ]
  },
  {
   "cell_type": "code",
   "execution_count": 6,
   "metadata": {},
   "outputs": [
    {
     "name": "stdout",
     "output_type": "stream",
     "text": [
      "dsgdb9nsd_000940\n",
      "dsgdb9nsd_000949\n",
      "dsgdb9nsd_002102\n",
      "dsgdb9nsd_002110\n",
      "dsgdb9nsd_000001\n",
      "dsgdb9nsd_000007\n",
      "dsgdb9nsd_000013\n",
      "dsgdb9nsd_000039\n",
      "dsgdb9nsd_000133\n",
      "dsgdb9nsd_000543\n"
     ]
    }
   ],
   "source": [
    "for s in selected_molecules:\n",
    "    s.split('.')[0].split('/')[-1]"
   ]
  },
  {
   "cell_type": "code",
   "execution_count": 7,
   "metadata": {},
   "outputs": [],
   "source": [
    "for s in selected_molecules:\n",
    "    path_to_xyz = s#'/home/misa/datasets/qm9/dsgdb9nsd_000930.xyz'\n",
    "    compound = s.split('.')[0].split('/')[-1]\n",
    "    compound_path = f'/home/misa/projects/Atomic-Energies/data/ueg_reference/SCF_calculations/{compound}/'\n",
    "    lambda_values = np.array([0.2, 0.4, 0.6, 0.8, 1.0])\n",
    "\n",
    "    comp = qml.Compound(xyz=path_to_xyz)\n",
    "    atomsymbols = comp.atomtypes\n",
    "    nuc_charges = comp.nuclear_charges\n",
    "\n",
    "    # calculation parameters (independent of lambda value)\n",
    "    num_ve = eqd.get_num_val_elec(nuc_charges) # get number of ve\n",
    "    boxsize = prepare_calculations.get_boxsize(num_ve) # get boxsize\n",
    "    num_gpts_lower, num_gpts_higher = prepare_calculations.get_gpts(num_ve) # get gridpoints\n",
    "    num_gpts = num_gpts_higher\n",
    "\n",
    "    # shift molecule to center of the box\n",
    "    coords_initial = comp.coordinates\n",
    "    coords = eqd.shift2center(coords_initial, np.array([boxsize, boxsize, boxsize])/2)\n",
    "\n",
    "    # get correct lambda value\n",
    "    for lam_val in lambda_values:\n",
    "        new_lambda, scaled_ve = prepare_calculations.get_lambda(lam_val, num_ve)\n",
    "        # scaled_ve is number of electrons added from pseudopotential file, the remaining electrons must be added in form of a negative charge\n",
    "        charge = scaled_ve - num_ve # write input\n",
    "\n",
    "        # create directory if necessary\n",
    "        if scaled_ve < 10:\n",
    "            scaled_ve_str = '0'+str(scaled_ve)\n",
    "        else:\n",
    "            scaled_ve_str = str(scaled_ve)\n",
    "        work_dir = os.path.join(compound_path, f've_{scaled_ve_str}/')\n",
    "        os.makedirs(work_dir, exist_ok=True)\n",
    "\n",
    "        # generate input file\n",
    "        input_path = os.path.join(work_dir, 'run.inp')\n",
    "        prepare_calculations.write_input(atomsymbols, charge, coords, num_gpts, boxsize, input_path, '/home/misa/projects/Atomic-Energies/data/cpmd_params_template.inp', debug = False)\n",
    "\n",
    "        # generate pp-files\n",
    "        prepare_calculations.write_pp_files_compound(comp, new_lambda, work_dir, pp_dir='/home/misa/software/PP_LIBRARY/', pp_type='_SG_LDA')"
   ]
  },
  {
   "cell_type": "code",
   "execution_count": null,
   "metadata": {},
   "outputs": [],
   "source": [
    "comp.natypes.keys()"
   ]
  }
 ],
 "metadata": {
  "kernelspec": {
   "display_name": "Python [conda env:atomic-energies]",
   "language": "python",
   "name": "conda-env-atomic-energies-py"
  },
  "language_info": {
   "codemirror_mode": {
    "name": "ipython",
    "version": 3
   },
   "file_extension": ".py",
   "mimetype": "text/x-python",
   "name": "python",
   "nbconvert_exporter": "python",
   "pygments_lexer": "ipython3",
   "version": "3.7.3"
  }
 },
 "nbformat": 4,
 "nbformat_minor": 4
}
