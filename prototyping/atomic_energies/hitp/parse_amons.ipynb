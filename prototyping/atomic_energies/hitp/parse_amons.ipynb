{
 "cells": [
  {
   "cell_type": "code",
   "execution_count": 1,
   "metadata": {},
   "outputs": [],
   "source": [
    "import sys\n",
    "sys.path.insert(0, '/home/misa/git_repositories/xyz2mol_modified/')\n",
    "\n",
    "import xyz2mol\n",
    "\n",
    "from rdkit import Chem\n",
    "import glob\n",
    "\n",
    "def get_xyz_list(filepath):\n",
    "    \"\"\"\n",
    "    make list where every item is the xyz data of one amon\n",
    "    \"\"\"\n",
    "    start_index = []\n",
    "    file = []\n",
    "    with open(filepath, 'r') as f:\n",
    "        for i, line in enumerate(f):\n",
    "            if line.strip('\\n').isdigit():\n",
    "                start_index.append(i)\n",
    "            file.append(line.strip('\\n'))\n",
    "\n",
    "    xyz = []\n",
    "\n",
    "    for i in range(len(start_index)):\n",
    "        if i < len(start_index) - 1:\n",
    "            xyz.append(file[start_index[i]:start_index[i+1]])\n",
    "        else:\n",
    "            xyz.append(file[start_index[i]:])\n",
    "    return(xyz)\n",
    "        \n",
    "\n",
    "def generate_smiles(xyz_data):\n",
    "    \"\"\"\n",
    "    make smiles from xyz list\n",
    "    \"\"\"\n",
    "    # read atoms and coordinates. Try to find the charge\n",
    "    atoms, charge, xyz_coordinates = xyz2mol.read_xyz_data(xyz_data)\n",
    "\n",
    "    # huckel uses extended Huckel bond orders to locate bonds (requires RDKit 2019.9.1 or later)\n",
    "    # otherwise van der Waals radii are used\n",
    "    use_huckel = True#args.use_huckel\n",
    "\n",
    "    # if explicit charge from args, set it\n",
    "    # if args.charge is not None:\n",
    "    #     charge = int(args.charge)\n",
    "\n",
    "    # Get the molobjs\n",
    "    mols = xyz2mol.xyz2mol(atoms, xyz_coordinates,\n",
    "        charge=charge,\n",
    "        use_graph=True,\n",
    "        allow_charged_fragments=True,\n",
    "        embed_chiral=False,\n",
    "        use_huckel=False)\n",
    "\n",
    "    assert len(mols) == 1, print('Mols not 1')\n",
    "\n",
    "    # Canonical hack\n",
    "    isomeric_smiles = True\n",
    "    smiles = Chem.MolToSmiles(mols[0], isomericSmiles=isomeric_smiles)\n",
    "    m = Chem.MolFromSmiles(smiles)\n",
    "    smiles = Chem.MolToSmiles(m, isomericSmiles=isomeric_smiles)\n",
    "\n",
    "    return(smiles)"
   ]
  },
  {
   "cell_type": "code",
   "execution_count": 2,
   "metadata": {},
   "outputs": [
    {
     "name": "stdout",
     "output_type": "stream",
     "text": [
      "['/home/misa/git_repositories/aqml-data/qm9_11k/01_amons.xyz', '/home/misa/git_repositories/aqml-data/qm9_11k/02_amons.xyz', '/home/misa/git_repositories/aqml-data/qm9_11k/03_amons.xyz', '/home/misa/git_repositories/aqml-data/qm9_11k/04_amons.xyz', '/home/misa/git_repositories/aqml-data/qm9_11k/05_amons.xyz', '/home/misa/git_repositories/aqml-data/qm9_11k/06_amons.xyz', '/home/misa/git_repositories/aqml-data/qm9_11k/07_amons.xyz', '/home/misa/git_repositories/aqml-data/qm9_11k/08_amons.xyz', '/home/misa/git_repositories/aqml-data/qm9_11k/09_amons.xyz', '/home/misa/git_repositories/aqml-data/qm9_11k/10_amons.xyz', '/home/misa/git_repositories/aqml-data/qm9_11k/11_amons.xyz']\n"
     ]
    }
   ],
   "source": [
    "amons_paths = glob.glob('/home/misa/git_repositories/aqml-data/qm9_11k/*_amons.xyz')\n",
    "amons_paths.sort()\n",
    "print(amons_paths)\n",
    "\n",
    "smiles_dict = dict()\n",
    "\n",
    "for filepath in amons_paths:\n",
    "#filepath = '/home/misa/git_repositories/aqml-data/qm9_11k/01_amons.xyz'\n",
    "    xyz_list = get_xyz_list(filepath)\n",
    "    for xyz in xyz_list:\n",
    "        smiles = generate_smiles(xyz)\n",
    "        smiles_dict[smiles] = xyz"
   ]
  },
  {
   "cell_type": "code",
   "execution_count": 3,
   "metadata": {},
   "outputs": [
    {
     "data": {
      "text/plain": [
       "14354"
      ]
     },
     "execution_count": 3,
     "metadata": {},
     "output_type": "execute_result"
    }
   ],
   "source": [
    "len(smiles_dict)"
   ]
  },
  {
   "cell_type": "code",
   "execution_count": 6,
   "metadata": {},
   "outputs": [],
   "source": [
    "sys.path.insert(0, '/home/misa/git_repositories/APDFT/prototyping/atomic_energies/')\n",
    "import utils_qm as uqm\n",
    "\n",
    "uqm.save_obj(smiles_dict, '/home/misa/datasets/amons_qm9_11k/unique_amons_dict')\n"
   ]
  }
 ],
 "metadata": {
  "kernelspec": {
   "display_name": "Python [conda env:qm-tools] *",
   "language": "python",
   "name": "conda-env-qm-tools-py"
  },
  "language_info": {
   "codemirror_mode": {
    "name": "ipython",
    "version": 3
   },
   "file_extension": ".py",
   "mimetype": "text/x-python",
   "name": "python",
   "nbconvert_exporter": "python",
   "pygments_lexer": "ipython3",
   "version": "3.8.5"
  }
 },
 "nbformat": 4,
 "nbformat_minor": 4
}
