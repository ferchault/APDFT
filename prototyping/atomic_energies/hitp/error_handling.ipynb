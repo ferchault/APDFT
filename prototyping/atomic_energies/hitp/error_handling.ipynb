{
 "cells": [
  {
   "cell_type": "code",
   "execution_count": 1,
   "metadata": {},
   "outputs": [],
   "source": [
    "import os\n",
    "import pathlib\n",
    "import glob"
   ]
  },
  {
   "cell_type": "code",
   "execution_count": null,
   "metadata": {},
   "outputs": [],
   "source": [
    "# analyse error\n",
    "workdir = \n",
    "\n",
    "# does a NEW Local Error log file exists\n",
    "LocalErrorFile = os.path.join(workdir, 'LocalError-0.log')\n",
    "LocalErrorExists = os.path.isfile(LocalErrorFile)\n",
    "fname = pathlib.Path(LocalErrorFile)\n",
    "LocalError_ct = fname.stat().st_mtime\n",
    "LocalErrorNew = \n",
    "\n",
    "        \n",
    "        error_files_ct.append((, fname.stat().st_size))\n",
    "\n",
    "if :\n",
    "    analyse_LocalError"
   ]
  },
  {
   "cell_type": "code",
   "execution_count": 14,
   "metadata": {},
   "outputs": [],
   "source": [
    "def get_last_errorfile(workdir):\n",
    "    error_files = glob.glob(os.path.join(workdir, 'error.*'))\n",
    "    error_files.extend(glob.glob(os.path.join(workdir, 'slurm*')))\n",
    "    error_files_ct = []\n",
    "    for e in error_files:\n",
    "        fname = pathlib.Path(e)\n",
    "        error_files_ct.append((fname.stat().st_mtime, fname.name))\n",
    "    error_files_ct.sort()\n",
    "    lastfile = os.path.join(workdir, error_files_ct[-1][1])\n",
    "    return(lastfile)"
   ]
  },
  {
   "cell_type": "code",
   "execution_count": 2,
   "metadata": {},
   "outputs": [],
   "source": [
    "def error_empty(workdir):\n",
    "    error_files = glob.glob(os.path.join(workdir, 'error.*'))\n",
    "    error_files.extend(glob.glob(os.path.join(workdir, 'slurm*')))\n",
    "    error_files_ct = []\n",
    "    for e in error_files:\n",
    "        fname = pathlib.Path(e)\n",
    "        error_files_ct.append((fname.stat().st_mtime, fname.stat().st_size))\n",
    "    error_files_ct.sort()\n",
    "    is_empty = bool(error_files_ct[-1][1] == 0)\n",
    "    return(is_empty)"
   ]
  },
  {
   "cell_type": "markdown",
   "metadata": {},
   "source": [
    "### Check if error file is not empty"
   ]
  },
  {
   "cell_type": "code",
   "execution_count": 3,
   "metadata": {},
   "outputs": [],
   "source": [
    "dirs = []\n",
    "with open('/scicore/home/lilienfeld/sahre0000/projects/atomic_energies/results/slice_ve38/broken', 'r') as f:\n",
    "    for line in f:\n",
    "        dirs.append(line.strip('\\n'))"
   ]
  },
  {
   "cell_type": "code",
   "execution_count": 4,
   "metadata": {},
   "outputs": [],
   "source": [
    "empty = []\n",
    "not_empty = []\n",
    "for d in dirs:\n",
    "    if error_empty(d):\n",
    "        empty.append(d)\n",
    "    else:\n",
    "        not_empty.append(d)"
   ]
  },
  {
   "cell_type": "code",
   "execution_count": 5,
   "metadata": {},
   "outputs": [
    {
     "data": {
      "text/plain": [
       "['/scicore/home/lilienfeld/sahre0000/projects/atomic_energies/results/slice_ve38/dsgdb9nsd_002137/run0/ve_23',\n",
       " '/scicore/home/lilienfeld/sahre0000/projects/atomic_energies/results/slice_ve38/dsgdb9nsd_002455/run0/ve_30',\n",
       " '/scicore/home/lilienfeld/sahre0000/projects/atomic_energies/results/slice_ve38/dsgdb9nsd_002594/run1/ve_30',\n",
       " '/scicore/home/lilienfeld/sahre0000/projects/atomic_energies/results/slice_ve38/dsgdb9nsd_003088/run0/ve_23',\n",
       " '/scicore/home/lilienfeld/sahre0000/projects/atomic_energies/results/slice_ve38/dsgdb9nsd_003426/run0/ve_30',\n",
       " '/scicore/home/lilienfeld/sahre0000/projects/atomic_energies/results/slice_ve38/dsgdb9nsd_003798/run4/ve_8',\n",
       " '/scicore/home/lilienfeld/sahre0000/projects/atomic_energies/results/slice_ve38/dsgdb9nsd_014565/run0/ve_8',\n",
       " '/scicore/home/lilienfeld/sahre0000/projects/atomic_energies/results/slice_ve38/dsgdb9nsd_014659/run0/ve_8']"
      ]
     },
     "execution_count": 5,
     "metadata": {},
     "output_type": "execute_result"
    }
   ],
   "source": [
    "empty"
   ]
  },
  {
   "cell_type": "code",
   "execution_count": 6,
   "metadata": {},
   "outputs": [
    {
     "data": {
      "text/plain": [
       "['/scicore/home/lilienfeld/sahre0000/projects/atomic_energies/results/slice_ve38/dsgdb9nsd_002118/run5/ve_30',\n",
       " '/scicore/home/lilienfeld/sahre0000/projects/atomic_energies/results/slice_ve38/dsgdb9nsd_002119/run5/ve_30',\n",
       " '/scicore/home/lilienfeld/sahre0000/projects/atomic_energies/results/slice_ve38/dsgdb9nsd_002120/run4/ve_30',\n",
       " '/scicore/home/lilienfeld/sahre0000/projects/atomic_energies/results/slice_ve38/dsgdb9nsd_002132/run5/ve_30',\n",
       " '/scicore/home/lilienfeld/sahre0000/projects/atomic_energies/results/slice_ve38/dsgdb9nsd_002141/run0/ve_30',\n",
       " '/scicore/home/lilienfeld/sahre0000/projects/atomic_energies/results/slice_ve38/dsgdb9nsd_002141/run0/ve_38',\n",
       " '/scicore/home/lilienfeld/sahre0000/projects/atomic_energies/results/slice_ve38/dsgdb9nsd_002256/run4/ve_30',\n",
       " '/scicore/home/lilienfeld/sahre0000/projects/atomic_energies/results/slice_ve38/dsgdb9nsd_002259/run5/ve_8',\n",
       " '/scicore/home/lilienfeld/sahre0000/projects/atomic_energies/results/slice_ve38/dsgdb9nsd_002403/run5/ve_30',\n",
       " '/scicore/home/lilienfeld/sahre0000/projects/atomic_energies/results/slice_ve38/dsgdb9nsd_002479/run4/ve_30',\n",
       " '/scicore/home/lilienfeld/sahre0000/projects/atomic_energies/results/slice_ve38/dsgdb9nsd_002491/run2/ve_15',\n",
       " '/scicore/home/lilienfeld/sahre0000/projects/atomic_energies/results/slice_ve38/dsgdb9nsd_002498/run2/ve_23',\n",
       " '/scicore/home/lilienfeld/sahre0000/projects/atomic_energies/results/slice_ve38/dsgdb9nsd_003037/run2/ve_8',\n",
       " '/scicore/home/lilienfeld/sahre0000/projects/atomic_energies/results/slice_ve38/dsgdb9nsd_003037/run2/ve_15',\n",
       " '/scicore/home/lilienfeld/sahre0000/projects/atomic_energies/results/slice_ve38/dsgdb9nsd_003207/run2/ve_8',\n",
       " '/scicore/home/lilienfeld/sahre0000/projects/atomic_energies/results/slice_ve38/dsgdb9nsd_003226/run2/ve_30',\n",
       " '/scicore/home/lilienfeld/sahre0000/projects/atomic_energies/results/slice_ve38/dsgdb9nsd_003231/run2/ve_30',\n",
       " '/scicore/home/lilienfeld/sahre0000/projects/atomic_energies/results/slice_ve38/dsgdb9nsd_003251/run2/ve_15',\n",
       " '/scicore/home/lilienfeld/sahre0000/projects/atomic_energies/results/slice_ve38/dsgdb9nsd_003251/run2/ve_30',\n",
       " '/scicore/home/lilienfeld/sahre0000/projects/atomic_energies/results/slice_ve38/dsgdb9nsd_003253/run4/ve_8',\n",
       " '/scicore/home/lilienfeld/sahre0000/projects/atomic_energies/results/slice_ve38/dsgdb9nsd_003274/run2/ve_30',\n",
       " '/scicore/home/lilienfeld/sahre0000/projects/atomic_energies/results/slice_ve38/dsgdb9nsd_003705/run0/ve_8',\n",
       " '/scicore/home/lilienfeld/sahre0000/projects/atomic_energies/results/slice_ve38/dsgdb9nsd_010005/run5/ve_30',\n",
       " '/scicore/home/lilienfeld/sahre0000/projects/atomic_energies/results/slice_ve38/dsgdb9nsd_014633/run4/ve_15']"
      ]
     },
     "execution_count": 6,
     "metadata": {},
     "output_type": "execute_result"
    }
   ],
   "source": [
    "not_empty"
   ]
  },
  {
   "cell_type": "markdown",
   "metadata": {},
   "source": [
    "## Parse error file for specific error messages"
   ]
  },
  {
   "cell_type": "markdown",
   "metadata": {},
   "source": [
    "### Force terminated"
   ]
  },
  {
   "cell_type": "code",
   "execution_count": 34,
   "metadata": {},
   "outputs": [],
   "source": [
    "force_terminated = []\n",
    "module_not_found = []\n",
    "for d in not_empty[1:]:\n",
    "    with open(get_last_errorfile(d), 'r') as f:\n",
    "        for line in f:\n",
    "            if 'Force Terminated job' in line:\n",
    "                force_terminated.append(d)\n",
    "                break\n",
    "            elif 'module: command not found' in line:\n",
    "                module_not_found.append(d)"
   ]
  },
  {
   "cell_type": "code",
   "execution_count": 35,
   "metadata": {},
   "outputs": [
    {
     "data": {
      "text/plain": [
       "['/scicore/home/lilienfeld/sahre0000/projects/atomic_energies/results/slice_ve38/dsgdb9nsd_002119/run5/ve_30',\n",
       " '/scicore/home/lilienfeld/sahre0000/projects/atomic_energies/results/slice_ve38/dsgdb9nsd_002120/run4/ve_30',\n",
       " '/scicore/home/lilienfeld/sahre0000/projects/atomic_energies/results/slice_ve38/dsgdb9nsd_002132/run5/ve_30',\n",
       " '/scicore/home/lilienfeld/sahre0000/projects/atomic_energies/results/slice_ve38/dsgdb9nsd_002256/run4/ve_30',\n",
       " '/scicore/home/lilienfeld/sahre0000/projects/atomic_energies/results/slice_ve38/dsgdb9nsd_002259/run5/ve_8',\n",
       " '/scicore/home/lilienfeld/sahre0000/projects/atomic_energies/results/slice_ve38/dsgdb9nsd_002403/run5/ve_30',\n",
       " '/scicore/home/lilienfeld/sahre0000/projects/atomic_energies/results/slice_ve38/dsgdb9nsd_002479/run4/ve_30',\n",
       " '/scicore/home/lilienfeld/sahre0000/projects/atomic_energies/results/slice_ve38/dsgdb9nsd_002491/run2/ve_15',\n",
       " '/scicore/home/lilienfeld/sahre0000/projects/atomic_energies/results/slice_ve38/dsgdb9nsd_002498/run2/ve_23',\n",
       " '/scicore/home/lilienfeld/sahre0000/projects/atomic_energies/results/slice_ve38/dsgdb9nsd_003037/run2/ve_15',\n",
       " '/scicore/home/lilienfeld/sahre0000/projects/atomic_energies/results/slice_ve38/dsgdb9nsd_003037/run2/ve_8',\n",
       " '/scicore/home/lilienfeld/sahre0000/projects/atomic_energies/results/slice_ve38/dsgdb9nsd_003207/run2/ve_8',\n",
       " '/scicore/home/lilienfeld/sahre0000/projects/atomic_energies/results/slice_ve38/dsgdb9nsd_003226/run2/ve_30',\n",
       " '/scicore/home/lilienfeld/sahre0000/projects/atomic_energies/results/slice_ve38/dsgdb9nsd_003231/run2/ve_30',\n",
       " '/scicore/home/lilienfeld/sahre0000/projects/atomic_energies/results/slice_ve38/dsgdb9nsd_003251/run2/ve_15',\n",
       " '/scicore/home/lilienfeld/sahre0000/projects/atomic_energies/results/slice_ve38/dsgdb9nsd_003251/run2/ve_30',\n",
       " '/scicore/home/lilienfeld/sahre0000/projects/atomic_energies/results/slice_ve38/dsgdb9nsd_003253/run4/ve_8',\n",
       " '/scicore/home/lilienfeld/sahre0000/projects/atomic_energies/results/slice_ve38/dsgdb9nsd_003274/run2/ve_30',\n",
       " '/scicore/home/lilienfeld/sahre0000/projects/atomic_energies/results/slice_ve38/dsgdb9nsd_010005/run5/ve_30',\n",
       " '/scicore/home/lilienfeld/sahre0000/projects/atomic_energies/results/slice_ve38/dsgdb9nsd_014633/run4/ve_15']"
      ]
     },
     "execution_count": 35,
     "metadata": {},
     "output_type": "execute_result"
    }
   ],
   "source": [
    "force_terminated.sort()\n",
    "force_terminated"
   ]
  },
  {
   "cell_type": "raw",
   "metadata": {},
   "source": [
    "module_not_found"
   ]
  },
  {
   "cell_type": "code",
   "execution_count": null,
   "metadata": {},
   "outputs": [],
   "source": [
    "'/scicore/home/lilienfeld/sahre0000/projects/atomic_energies/results/slice_ve38/dsgdb9nsd_002141/run0/ve_30'\n",
    "'/scicore/home/lilienfeld/sahre0000/projects/atomic_energies/results/slice_ve38/dsgdb9nsd_002141/run0/ve_38'\n",
    "'/scicore/home/lilienfeld/sahre0000/projects/atomic_energies/results/slice_ve38/dsgdb9nsd_003705/run0/ve_8'"
   ]
  },
  {
   "cell_type": "markdown",
   "metadata": {},
   "source": [
    "### Check if restart file is ok"
   ]
  },
  {
   "cell_type": "code",
   "execution_count": 32,
   "metadata": {},
   "outputs": [],
   "source": [
    "def error_empty(workdir):\n",
    "    error_files = glob.glob(os.path.join(workdir, 'error.*'))\n",
    "    error_files.extend(glob.glob(os.path.join(workdir, 'slurm*')))\n",
    "    error_files_ct = []\n",
    "    for e in error_files:\n",
    "        fname = pathlib.Path(e)\n",
    "        error_files_ct.append((fname.stat().st_mtime, fname.stat().st_size))\n",
    "    error_files_ct.sort()\n",
    "    is_empty = bool(error_files_ct[-1][1] == 0)\n",
    "    return(is_empty)\n",
    "\n",
    "def size_ok(rfile, s=373.76):\n",
    "    fname = pathlib.Path(rfile)\n",
    "    fsize = fname.stat().st_size/(1024*1024)\n",
    "    return(bool(fsize > s))"
   ]
  },
  {
   "cell_type": "code",
   "execution_count": 36,
   "metadata": {},
   "outputs": [
    {
     "name": "stdout",
     "output_type": "stream",
     "text": [
      "/scicore/home/lilienfeld/sahre0000/projects/atomic_energies/results/slice_ve38/dsgdb9nsd_002119/run5/ve_30 True\n",
      "/scicore/home/lilienfeld/sahre0000/projects/atomic_energies/results/slice_ve38/dsgdb9nsd_002120/run4/ve_30 True\n",
      "/scicore/home/lilienfeld/sahre0000/projects/atomic_energies/results/slice_ve38/dsgdb9nsd_002132/run5/ve_30 True\n",
      "/scicore/home/lilienfeld/sahre0000/projects/atomic_energies/results/slice_ve38/dsgdb9nsd_002256/run4/ve_30 True\n",
      "/scicore/home/lilienfeld/sahre0000/projects/atomic_energies/results/slice_ve38/dsgdb9nsd_002259/run5/ve_8 True\n",
      "/scicore/home/lilienfeld/sahre0000/projects/atomic_energies/results/slice_ve38/dsgdb9nsd_002403/run5/ve_30 True\n",
      "/scicore/home/lilienfeld/sahre0000/projects/atomic_energies/results/slice_ve38/dsgdb9nsd_002479/run4/ve_30 True\n",
      "/scicore/home/lilienfeld/sahre0000/projects/atomic_energies/results/slice_ve38/dsgdb9nsd_002491/run2/ve_15 True\n",
      "/scicore/home/lilienfeld/sahre0000/projects/atomic_energies/results/slice_ve38/dsgdb9nsd_002498/run2/ve_23 True\n",
      "/scicore/home/lilienfeld/sahre0000/projects/atomic_energies/results/slice_ve38/dsgdb9nsd_003037/run2/ve_15 True\n",
      "/scicore/home/lilienfeld/sahre0000/projects/atomic_energies/results/slice_ve38/dsgdb9nsd_003037/run2/ve_8 True\n",
      "/scicore/home/lilienfeld/sahre0000/projects/atomic_energies/results/slice_ve38/dsgdb9nsd_003207/run2/ve_8 True\n",
      "/scicore/home/lilienfeld/sahre0000/projects/atomic_energies/results/slice_ve38/dsgdb9nsd_003226/run2/ve_30 True\n",
      "/scicore/home/lilienfeld/sahre0000/projects/atomic_energies/results/slice_ve38/dsgdb9nsd_003231/run2/ve_30 True\n",
      "/scicore/home/lilienfeld/sahre0000/projects/atomic_energies/results/slice_ve38/dsgdb9nsd_003251/run2/ve_15 True\n",
      "/scicore/home/lilienfeld/sahre0000/projects/atomic_energies/results/slice_ve38/dsgdb9nsd_003251/run2/ve_30 True\n",
      "/scicore/home/lilienfeld/sahre0000/projects/atomic_energies/results/slice_ve38/dsgdb9nsd_003253/run4/ve_8 True\n",
      "/scicore/home/lilienfeld/sahre0000/projects/atomic_energies/results/slice_ve38/dsgdb9nsd_003274/run2/ve_30 True\n",
      "/scicore/home/lilienfeld/sahre0000/projects/atomic_energies/results/slice_ve38/dsgdb9nsd_010005/run5/ve_30 True\n",
      "/scicore/home/lilienfeld/sahre0000/projects/atomic_energies/results/slice_ve38/dsgdb9nsd_014633/run4/ve_15 True\n"
     ]
    }
   ],
   "source": [
    "for p in force_terminated:\n",
    "    rfile = os.path.join(p, 'RESTART.1')\n",
    "    print(p, size_ok(rfile))"
   ]
  },
  {
   "cell_type": "markdown",
   "metadata": {},
   "source": [
    "### fixed files"
   ]
  },
  {
   "cell_type": "code",
   "execution_count": 37,
   "metadata": {},
   "outputs": [],
   "source": [
    "with open('/scicore/home/lilienfeld/sahre0000/projects/atomic_energies/results/slice_ve38/ftf', 'w') as f:\n",
    "    for line in force_terminated:\n",
    "        f.write(line+'\\n')"
   ]
  }
 ],
 "metadata": {
  "kernelspec": {
   "display_name": "Python [conda env:.conda-qm-tools] *",
   "language": "python",
   "name": "conda-env-.conda-qm-tools-py"
  },
  "language_info": {
   "codemirror_mode": {
    "name": "ipython",
    "version": 3
   },
   "file_extension": ".py",
   "mimetype": "text/x-python",
   "name": "python",
   "nbconvert_exporter": "python",
   "pygments_lexer": "ipython3",
   "version": "3.7.9"
  }
 },
 "nbformat": 4,
 "nbformat_minor": 4
}
