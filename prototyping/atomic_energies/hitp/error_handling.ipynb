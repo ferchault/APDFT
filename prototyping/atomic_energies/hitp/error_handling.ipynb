{
 "cells": [
  {
   "cell_type": "code",
   "execution_count": 1,
   "metadata": {},
   "outputs": [],
   "source": [
    "import os\n",
    "import pathlib\n",
    "import glob\n",
    "import pandas as pd\n",
    "from rdkit import Chem\n",
    "from rdkit.Chem import Descriptors\n",
    "\n",
    "import sys\n",
    "sys.path.insert(0, '/scicore/home/lilienfeld/sahre0000/APDFT/prototyping/atomic_energies/hitp/')\n",
    "import cpmd_io\n",
    "import get_status_report\n",
    "\n",
    "sys.path.insert(0, '/scicore/home/lilienfeld/sahre0000/APDFT/prototyping/atomic_energies/')\n",
    "import utils_qm as uqm"
   ]
  },
  {
   "cell_type": "code",
   "execution_count": 2,
   "metadata": {},
   "outputs": [],
   "source": [
    "db = pd.read_pickle('/scicore/home/lilienfeld/sahre0000/projects/atomic_energies/results/amons/amons_32/calculation_manager.pd')\n",
    "db_copy = db.copy()\n",
    "\n",
    "#get_status_report.update(db_copy)"
   ]
  },
  {
   "cell_type": "code",
   "execution_count": null,
   "metadata": {},
   "outputs": [],
   "source": []
  },
  {
   "cell_type": "code",
   "execution_count": 6,
   "metadata": {},
   "outputs": [],
   "source": [
    "job_term = []\n",
    "\n",
    "\n",
    "for wd in workdirs:\n",
    "    error_file = cpmd_io.get_last_errorfile(wd)\n",
    "    with open(error_file, 'r') as f:\n",
    "        file_content = f.readlines()\n",
    "    for line in file_content:\n",
    "        if 'forcing job termination' in line:\n",
    "            job_term.append(wd)"
   ]
  },
  {
   "cell_type": "code",
   "execution_count": 12,
   "metadata": {},
   "outputs": [],
   "source": [
    "with open('/scicore/home/lilienfeld/sahre0000/projects/atomic_energies/results/amons/amons_32/broken_fixed', 'w') as f:\n",
    "    for line in job_term:\n",
    "        f.write(line+'\\n')"
   ]
  },
  {
   "cell_type": "code",
   "execution_count": 4,
   "metadata": {},
   "outputs": [],
   "source": [
    "error_code = {k:[] for k in cpmd_io.error_message_lookup.keys()}\n",
    "for wd in workdirs:\n",
    "    error_file = cpmd_io.get_last_errorfile(wd)\n",
    "    with open(error_file, 'r') as f:\n",
    "        file_content = f.readlines()\n",
    "    ec = cpmd_io.parse_error_file(file_content)\n",
    "    \n",
    "    if ec == 'e000':\n",
    "        localerrorfiles = glob.glob(os.path.join(wd, 'LocalError-*'))\n",
    "        if len(localerrorfiles) > 0:\n",
    "            ec = 'e007'\n",
    "    error_code[ec].append(wd)"
   ]
  },
  {
   "cell_type": "code",
   "execution_count": 5,
   "metadata": {},
   "outputs": [
    {
     "name": "stdout",
     "output_type": "stream",
     "text": [
      "e000:1\n",
      "e001:0\n",
      "e002:0\n",
      "e003:126\n",
      "e004:0\n",
      "e005:0\n",
      "e006:0\n",
      "e007:0\n"
     ]
    }
   ],
   "source": [
    "for k in error_code.keys():\n",
    "    print(f'{k}:{len(error_code[k])}')"
   ]
  },
  {
   "cell_type": "code",
   "execution_count": 10,
   "metadata": {},
   "outputs": [
    {
     "data": {
      "text/plain": [
       "['/scicore/home/lilienfeld/sahre0000/projects/atomic_energies/results/amons/amons_32/amon_000001/ve_19']"
      ]
     },
     "execution_count": 10,
     "metadata": {},
     "output_type": "execute_result"
    }
   ],
   "source": [
    "error_code['e000']"
   ]
  },
  {
   "cell_type": "markdown",
   "metadata": {},
   "source": [
    "### Add initialize random"
   ]
  },
  {
   "cell_type": "code",
   "execution_count": 8,
   "metadata": {},
   "outputs": [],
   "source": [
    "def get_tot_num_ve(wd):\n",
    "    smiles_path = os.path.join('/'.join(wd.split('/')[:-1]), 'smiles')\n",
    "    with open(smiles_path, 'r') as f:\n",
    "        smiles = f.readlines()[0].strip('\\n')\n",
    "    mol = Chem.MolFromSmiles(smiles)\n",
    "    num_ve = Descriptors.NumValenceElectrons(mol)\n",
    "    return(num_ve)"
   ]
  },
  {
   "cell_type": "code",
   "execution_count": 10,
   "metadata": {},
   "outputs": [
    {
     "name": "stdout",
     "output_type": "stream",
     "text": [
      "/scicore/home/lilienfeld/sahre0000/projects/atomic_energies/results/amons/amon_000406/ve_06\n",
      "/scicore/home/lilienfeld/sahre0000/projects/atomic_energies/results/amons/amon_000406/ve_11\n"
     ]
    }
   ],
   "source": [
    "error_fix = workdirs\n",
    "for wd in error_fix:\n",
    "    # add random initialize if necessary\n",
    "    tot_num_ve = get_tot_num_ve(wd)\n",
    "    num_ve = int(wd.split('/')[-1].split('_')[1])\n",
    "    lam = num_ve/tot_num_ve\n",
    "\n",
    "    if lam < 0.5:\n",
    "        print(wd)\n",
    "        path_inp = os.path.join(wd, 'run.inp')\n",
    "        with open(path_inp, 'r') as f:\n",
    "            inp_file = f.readlines()\n",
    "        inp_file_modified = cpmd_io.enable_initialize_random(inp_file)\n",
    "        with open(path_inp, 'w') as f:\n",
    "            f.writelines(inp_file_modified)\n",
    "# get lambda value"
   ]
  },
  {
   "cell_type": "code",
   "execution_count": null,
   "metadata": {},
   "outputs": [],
   "source": [
    "with open('/scicore/home/lilienfeld/sahre0000/projects/atomic_energies/results/amons/new_inp', 'w') as f:\n",
    "    for i in new_inp:\n",
    "        f.write(i+'\\n')"
   ]
  },
  {
   "cell_type": "markdown",
   "metadata": {},
   "source": [
    "### Rewrite input"
   ]
  },
  {
   "cell_type": "code",
   "execution_count": 6,
   "metadata": {},
   "outputs": [],
   "source": [
    "import numpy as np\n",
    "def shift2center(coordinates_initial, centroid_final):\n",
    "    \"\"\"\n",
    "    shifts set of coordinates so that centroid is at centroid_final\n",
    "    \"\"\"\n",
    "    centroid_initial = np.mean(coordinates_initial, axis=0)\n",
    "    shift = centroid_final - centroid_initial\n",
    "    return(coordinates_initial+shift)\n",
    "\n",
    "def get_xyz(xyz_data):\n",
    "    elements = []\n",
    "    positions = []\n",
    "    for i, line in enumerate(xyz_data):\n",
    "        if i > 1:\n",
    "            splitted = line.split()\n",
    "            elements.append(splitted[0])\n",
    "            positions.append([float(i) for i in splitted[1:]])\n",
    "    nuc_charges = []      \n",
    "    for el in elements:\n",
    "        if el == 'H':\n",
    "            nuc_charges.append(1)\n",
    "        elif el == 'C':\n",
    "            nuc_charges.append(6)\n",
    "        elif el == 'N':\n",
    "            nuc_charges.append(7)\n",
    "        elif el == 'O':\n",
    "            nuc_charges.append(8)\n",
    "        elif el == 'F':\n",
    "            nuc_charges.append(9)\n",
    "    return(nuc_charges, elements, positions)\n",
    "\n",
    "def get_tot_num_ve(wd):\n",
    "    smiles_path = os.path.join('/'.join(wd.split('/')[:-1]), 'smiles')\n",
    "    with open(smiles_path, 'r') as f:\n",
    "        smiles = f.readlines()[0].strip('\\n')\n",
    "    mol = Chem.MolFromSmiles(smiles)\n",
    "    num_ve = Descriptors.NumValenceElectrons(mol)\n",
    "    return(num_ve)"
   ]
  },
  {
   "cell_type": "code",
   "execution_count": 9,
   "metadata": {},
   "outputs": [],
   "source": [
    "import prepare_calculations"
   ]
  },
  {
   "cell_type": "code",
   "execution_count": 10,
   "metadata": {},
   "outputs": [],
   "source": [
    "# make new input files\n",
    "\n",
    "# get amons dict\n",
    "amons_dict = uqm.load_obj('/scicore/home/lilienfeld/sahre0000/datasets/amons_qm9_11k/unique_amons_dict')\n",
    "\n",
    "# define parameters\n",
    "pp_dir = '/scicore/home/lilienfeld/sahre0000/opt/PP_LIBRARY'\n",
    "pp_type = '_GH_PBE'\n",
    "template_inp = '/scicore/home/lilienfeld/sahre0000/projects/atomic_energies/cpmd_params_template_pbe.inp'\n",
    "template_inp_small_lambda = '/scicore/home/lilienfeld/sahre0000/projects/atomic_energies/cpmd_params_template_pbe_small_lambda.inp'"
   ]
  },
  {
   "cell_type": "code",
   "execution_count": 11,
   "metadata": {},
   "outputs": [],
   "source": [
    "new_inp =workdirs"
   ]
  },
  {
   "cell_type": "code",
   "execution_count": 12,
   "metadata": {},
   "outputs": [],
   "source": [
    "#wd = '/scicore/home/lilienfeld/sahre0000/projects/atomic_energies/results/amons/amon_000644/ve_18'\n",
    "for wd in new_inp:\n",
    "    smiles_path = os.path.join('/'.join(wd.split('/')[:-1]), 'smiles')\n",
    "    with open(smiles_path, 'r') as f:\n",
    "        smiles = f.readlines()[0].strip('\\n')\n",
    "\n",
    "    xyz_data = amons_dict[smiles]\n",
    "\n",
    "    nuc_charges, atom_symbols, coords_initial = get_xyz(xyz_data)\n",
    "\n",
    "    # calculation parameters (independent of lambda value)\n",
    "    num_ve = Descriptors.NumValenceElectrons(Chem.MolFromSmiles(smiles)) # get number of ve # get number of ve\n",
    "    boxsize = prepare_calculations.get_boxsize(num_ve) # get boxsize\n",
    "    num_gpts_lower, num_gpts_higher = prepare_calculations.get_gpts(num_ve) # get gridpoints\n",
    "    num_gpts = num_gpts_higher\n",
    "\n",
    "    # shift molecule to center of box\n",
    "    coords_final = shift2center(coords_initial, np.array([boxsize, boxsize, boxsize])/2)\n",
    "\n",
    "    # get correct lambda value\n",
    "\n",
    "    lam_val = int(wd.split('/')[-1].split('_')[1])/get_tot_num_ve(wd)\n",
    "    new_lambda, scaled_ve = prepare_calculations.get_lambda(lam_val, num_ve)\n",
    "\n",
    "    # scaled_ve is number of electrons added from pseudopotential file, the remaining electrons must be added in form of a negative charge\n",
    "    charge = scaled_ve - num_ve # write input\n",
    "\n",
    "    # create directory if necessary\n",
    "    os.makedirs(wd, exist_ok=True)\n",
    "\n",
    "    # generate input file\n",
    "    input_path = os.path.join(wd, 'run.inp')\n",
    "    if new_lambda > 0.5:\n",
    "        prepare_calculations.write_input(atom_symbols, charge, coords_final, num_gpts, boxsize, input_path, template_inp, debug = False)\n",
    "    else:\n",
    "        print(wd)\n",
    "        prepare_calculations.write_input(atom_symbols, charge, coords_final, num_gpts, boxsize, input_path, template_inp_small_lambda, debug = False)\n",
    "\n",
    "    # generate pp-files\n",
    "    prepare_calculations.write_pp_files_compound(atom_symbols, new_lambda, wd, pp_dir, pp_type)\n"
   ]
  }
 ],
 "metadata": {
  "kernelspec": {
   "display_name": "Python [conda env:.conda-qm-tools] *",
   "language": "python",
   "name": "conda-env-.conda-qm-tools-py"
  },
  "language_info": {
   "codemirror_mode": {
    "name": "ipython",
    "version": 3
   },
   "file_extension": ".py",
   "mimetype": "text/x-python",
   "name": "python",
   "nbconvert_exporter": "python",
   "pygments_lexer": "ipython3",
   "version": "3.7.9"
  }
 },
 "nbformat": 4,
 "nbformat_minor": 4
}
