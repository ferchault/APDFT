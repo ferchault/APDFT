{
 "cells": [
  {
   "cell_type": "code",
   "execution_count": null,
   "metadata": {},
   "outputs": [],
   "source": [
    "import os\n",
    "import pathlib\n",
    "import glob"
   ]
  },
  {
   "cell_type": "code",
   "execution_count": null,
   "metadata": {},
   "outputs": [],
   "source": [
    "# analyse error\n",
    "workdir = \n",
    "\n",
    "# does a NEW Local Error log file exists\n",
    "LocalErrorFile = os.path.join(workdir, 'LocalError-0.log')\n",
    "LocalErrorExists = os.path.isfile(LocalErrorFile)\n",
    "fname = pathlib.Path(LocalErrorFile)\n",
    "LocalError_ct = fname.stat().st_mtime\n",
    "LocalErrorNew = \n",
    "error_files_ct.append((, fname.stat().st_size))\n",
    "\n",
    "if :\n",
    "    analyse_LocalError"
   ]
  },
  {
   "cell_type": "code",
   "execution_count": null,
   "metadata": {},
   "outputs": [],
   "source": [
    "def get_last_errorfile(workdir):\n",
    "    error_files = glob.glob(os.path.join(workdir, 'error.*'))\n",
    "    error_files.extend(glob.glob(os.path.join(workdir, 'slurm*')))\n",
    "    error_files_ct = []\n",
    "    for e in error_files:\n",
    "        fname = pathlib.Path(e)\n",
    "        error_files_ct.append((fname.stat().st_mtime, fname.name))\n",
    "    error_files_ct.sort()\n",
    "    lastfile = os.path.join(workdir, error_files_ct[-1][1])\n",
    "    return(lastfile)"
   ]
  },
  {
   "cell_type": "code",
   "execution_count": null,
   "metadata": {},
   "outputs": [],
   "source": [
    "def error_empty(workdir):\n",
    "    error_files = glob.glob(os.path.join(workdir, 'error.*'))\n",
    "    error_files.extend(glob.glob(os.path.join(workdir, 'slurm*')))\n",
    "    error_files_ct = []\n",
    "    for e in error_files:\n",
    "        fname = pathlib.Path(e)\n",
    "        error_files_ct.append((fname.stat().st_mtime, fname.stat().st_size))\n",
    "    error_files_ct.sort()\n",
    "    is_empty = bool(error_files_ct[-1][1] == 0)\n",
    "    return(is_empty)"
   ]
  },
  {
   "cell_type": "code",
   "execution_count": 10,
   "metadata": {},
   "outputs": [],
   "source": [
    "error_message_lookup = {'e000': 'Unknwon error','e001':'Program received signal SIGSEGV: Segmentation fault - invalid memory reference.', 'e002':'Force Terminated job', 'e003':'module: command not found'}\n",
    "def parse_error_file(file_content):\n",
    "    for line in file_content:\n",
    "        for k in error_message_lookup.keys():\n",
    "            if error_message_lookup[k] in line:\n",
    "                return(k)\n",
    "    return('e000')"
   ]
  },
  {
   "cell_type": "markdown",
   "metadata": {},
   "source": [
    "### Check if error file is not empty"
   ]
  },
  {
   "cell_type": "code",
   "execution_count": null,
   "metadata": {},
   "outputs": [],
   "source": [
    "dirs = []\n",
    "with open('/scicore/home/lilienfeld/sahre0000/projects/atomic_energies/results/slice_ve38/broken', 'r') as f:\n",
    "    for line in f:\n",
    "        dirs.append(line.strip('\\n'))"
   ]
  },
  {
   "cell_type": "code",
   "execution_count": null,
   "metadata": {},
   "outputs": [],
   "source": [
    "empty = []\n",
    "not_empty = []\n",
    "for d in dirs:\n",
    "    if error_empty(d):\n",
    "        empty.append(d)\n",
    "    else:\n",
    "        not_empty.append(d)"
   ]
  },
  {
   "cell_type": "code",
   "execution_count": null,
   "metadata": {},
   "outputs": [],
   "source": [
    "empty"
   ]
  },
  {
   "cell_type": "code",
   "execution_count": null,
   "metadata": {},
   "outputs": [],
   "source": [
    "not_empty"
   ]
  },
  {
   "cell_type": "markdown",
   "metadata": {},
   "source": [
    "## Parse error file for specific error messages"
   ]
  },
  {
   "cell_type": "markdown",
   "metadata": {},
   "source": [
    "### Force terminated"
   ]
  },
  {
   "cell_type": "code",
   "execution_count": null,
   "metadata": {},
   "outputs": [],
   "source": [
    "error_dictionary = {'e000':[], 'e001':[], 'e002':[], 'e003':[]}\n",
    "for d in dirs:\n",
    "    # read content of error file with latest creation date\n",
    "    with open(get_last_errorfile(d), 'r') as f:\n",
    "        error_file = f.readlines()\n",
    "        error_number = parse_error_file(error_file)\n",
    "        error_dictionary[error_number].append(d)\n",
    "#         for line in f:\n",
    "#             if 'Force Terminated job' in line:\n",
    "#                 force_terminated.append(d)\n",
    "#                 break\n",
    "#             elif 'module: command not found' in line:\n",
    "#                 module_not_found.append(d)"
   ]
  },
  {
   "cell_type": "code",
   "execution_count": null,
   "metadata": {},
   "outputs": [],
   "source": [
    "force_terminated.sort()\n",
    "force_terminated"
   ]
  },
  {
   "cell_type": "raw",
   "metadata": {},
   "source": [
    "module_not_found"
   ]
  },
  {
   "cell_type": "code",
   "execution_count": null,
   "metadata": {},
   "outputs": [],
   "source": [
    "'/scicore/home/lilienfeld/sahre0000/projects/atomic_energies/results/slice_ve38/dsgdb9nsd_002141/run0/ve_30'\n",
    "'/scicore/home/lilienfeld/sahre0000/projects/atomic_energies/results/slice_ve38/dsgdb9nsd_002141/run0/ve_38'\n",
    "'/scicore/home/lilienfeld/sahre0000/projects/atomic_energies/results/slice_ve38/dsgdb9nsd_003705/run0/ve_8'"
   ]
  },
  {
   "cell_type": "markdown",
   "metadata": {},
   "source": [
    "### Check if restart file is ok"
   ]
  },
  {
   "cell_type": "code",
   "execution_count": null,
   "metadata": {},
   "outputs": [],
   "source": [
    "def error_empty(workdir):\n",
    "    error_files = glob.glob(os.path.join(workdir, 'error.*'))\n",
    "    error_files.extend(glob.glob(os.path.join(workdir, 'slurm*')))\n",
    "    error_files_ct = []\n",
    "    for e in error_files:\n",
    "        fname = pathlib.Path(e)\n",
    "        error_files_ct.append((fname.stat().st_mtime, fname.stat().st_size))\n",
    "    error_files_ct.sort()\n",
    "    is_empty = bool(error_files_ct[-1][1] == 0)\n",
    "    return(is_empty)\n",
    "\n",
    "def size_ok(rfile, s=373.76):\n",
    "    fname = pathlib.Path(rfile)\n",
    "    fsize = fname.stat().st_size/(1024*1024)\n",
    "    return(bool(fsize > s))"
   ]
  },
  {
   "cell_type": "code",
   "execution_count": null,
   "metadata": {},
   "outputs": [],
   "source": [
    "for p in force_terminated:\n",
    "    rfile = os.path.join(p, 'RESTART.1')\n",
    "    print(p, size_ok(rfile))"
   ]
  },
  {
   "cell_type": "markdown",
   "metadata": {},
   "source": [
    "### fixed files"
   ]
  },
  {
   "cell_type": "code",
   "execution_count": null,
   "metadata": {},
   "outputs": [],
   "source": [
    "with open('/scicore/home/lilienfeld/sahre0000/projects/atomic_energies/results/slice_ve38/ftf', 'w') as f:\n",
    "    for line in force_terminated:\n",
    "        f.write(line+'\\n')"
   ]
  },
  {
   "cell_type": "code",
   "execution_count": null,
   "metadata": {},
   "outputs": [],
   "source": [
    "a = 'abc'\n",
    "a[:2]"
   ]
  },
  {
   "cell_type": "markdown",
   "metadata": {},
   "source": [
    "# Find dumped core-file dirs"
   ]
  },
  {
   "cell_type": "code",
   "execution_count": 1,
   "metadata": {},
   "outputs": [],
   "source": [
    "import os"
   ]
  },
  {
   "cell_type": "code",
   "execution_count": 2,
   "metadata": {},
   "outputs": [],
   "source": [
    "dirs = []\n",
    "basepath = '/scicore/home/lilienfeld/sahre0000/projects/atomic_energies/results/amons'\n",
    "with open('/scicore/home/lilienfeld/sahre0000/projects/atomic_energies/results/amons/core_files', 'r') as f:\n",
    "    for line in f:\n",
    "        path = [basepath]\n",
    "        comp_ve = line.split('/')[:2]\n",
    "        path.extend(comp_ve)\n",
    "        dirs.append('/'.join(path))\n",
    "dirs = list(set(dirs))\n",
    "dirs.sort()\n",
    "#dirs"
   ]
  },
  {
   "cell_type": "code",
   "execution_count": 3,
   "metadata": {},
   "outputs": [],
   "source": [
    "def modify_input(file, modify_option):\n",
    "    if modify_option == 'initialize random':\n",
    "        add_initialize_random(file)\n",
    "    \n",
    "def add_initialize_random(file):\n",
    "    with open(file, 'r') as f:\n",
    "        file_list = f.readlines()\n",
    "    file_list.insert(2, '  INITIALIZE WAVEFUNCTION RANDOM\\n')\n",
    "    with open(file, 'w') as f:\n",
    "        f.writelines(file_list)"
   ]
  },
  {
   "cell_type": "code",
   "execution_count": 5,
   "metadata": {},
   "outputs": [],
   "source": [
    "for d in dirs[1:-2]:\n",
    "    input_file = os.path.join(d, 'run.inp')\n",
    "    modify_input(input_file, 'initialize random')"
   ]
  },
  {
   "cell_type": "code",
   "execution_count": 9,
   "metadata": {},
   "outputs": [],
   "source": [
    "with open('/scicore/home/lilienfeld/sahre0000/projects/atomic_energies/results/amons/ini_random', 'w') as f:\n",
    "    for l in dirs[:-2]:\n",
    "        f.write(l+'\\n')"
   ]
  },
  {
   "cell_type": "code",
   "execution_count": 6,
   "metadata": {},
   "outputs": [
    {
     "data": {
      "text/plain": [
       "'/scicore/home/lilienfeld/sahre0000/projects/atomic_energies/results/amons/amon_000052/ve_10'"
      ]
     },
     "execution_count": 6,
     "metadata": {},
     "output_type": "execute_result"
    }
   ],
   "source": [
    "dirs[100]"
   ]
  }
 ],
 "metadata": {
  "kernelspec": {
   "display_name": "Python [conda env:.conda-qm-tools] *",
   "language": "python",
   "name": "conda-env-.conda-qm-tools-py"
  },
  "language_info": {
   "codemirror_mode": {
    "name": "ipython",
    "version": 3
   },
   "file_extension": ".py",
   "mimetype": "text/x-python",
   "name": "python",
   "nbconvert_exporter": "python",
   "pygments_lexer": "ipython3",
   "version": "3.7.9"
  }
 },
 "nbformat": 4,
 "nbformat_minor": 4
}
