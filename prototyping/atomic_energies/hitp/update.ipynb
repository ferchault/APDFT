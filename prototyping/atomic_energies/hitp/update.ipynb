{
 "cells": [
  {
   "cell_type": "code",
   "execution_count": 1,
   "metadata": {},
   "outputs": [],
   "source": [
    "import pathlib\n",
    "import glob\n",
    "import os\n",
    "import get_status_report\n",
    "\n",
    "import pandas as pd\n",
    "import numpy as np\n"
   ]
  },
  {
   "cell_type": "code",
   "execution_count": 2,
   "metadata": {},
   "outputs": [],
   "source": [
    "# load database\n",
    "#db = pd.read_pickle(\"/scicore/home/lilienfeld/sahre0000/projects/atomic_energies/results/other_slices/calculation_database.pd\")\n",
    "db = pd.read_pickle('/scicore/home/lilienfeld/sahre0000/projects/atomic_energies/results/amons/calculation_manager.pd')\n",
    "db_copy = db.copy()\n",
    "# # update\n",
    "# update(db)\n",
    "# # save results\n",
    "# status_report(db, '/scicore/home/lilienfeld/sahre0000/projects/atomic_energies/results/slice_ve38')"
   ]
  },
  {
   "cell_type": "code",
   "execution_count": 8,
   "metadata": {},
   "outputs": [],
   "source": [
    "workdirs = list(db_copy.loc[(db_copy['status']=='not converged') & (db_copy['restart']==True), 'workdir'])"
   ]
  },
  {
   "cell_type": "code",
   "execution_count": 16,
   "metadata": {},
   "outputs": [
    {
     "data": {
      "text/plain": [
       "['/scicore/home/lilienfeld/sahre0000/projects/atomic_energies/results/amons/amon_000018/ve_07',\n",
       " '/scicore/home/lilienfeld/sahre0000/projects/atomic_energies/results/amons/amon_000041/ve_12',\n",
       " '/scicore/home/lilienfeld/sahre0000/projects/atomic_energies/results/amons/amon_000049/ve_04',\n",
       " '/scicore/home/lilienfeld/sahre0000/projects/atomic_energies/results/amons/amon_000051/ve_05',\n",
       " '/scicore/home/lilienfeld/sahre0000/projects/atomic_energies/results/amons/amon_000052/ve_05',\n",
       " '/scicore/home/lilienfeld/sahre0000/projects/atomic_energies/results/amons/amon_000053/ve_05',\n",
       " '/scicore/home/lilienfeld/sahre0000/projects/atomic_energies/results/amons/amon_000053/ve_14',\n",
       " '/scicore/home/lilienfeld/sahre0000/projects/atomic_energies/results/amons/amon_000054/ve_05',\n",
       " '/scicore/home/lilienfeld/sahre0000/projects/atomic_energies/results/amons/amon_000055/ve_05',\n",
       " '/scicore/home/lilienfeld/sahre0000/projects/atomic_energies/results/amons/amon_000057/ve_05']"
      ]
     },
     "execution_count": 16,
     "metadata": {},
     "output_type": "execute_result"
    }
   ],
   "source": [
    "workdirs[:10]"
   ]
  },
  {
   "cell_type": "code",
   "execution_count": 21,
   "metadata": {},
   "outputs": [],
   "source": [
    "db_copy.to_pickle('/scicore/home/lilienfeld/sahre0000/projects/atomic_energies/results/amons/calculation_manager.pd')"
   ]
  }
 ],
 "metadata": {
  "kernelspec": {
   "display_name": "Python [conda env:.conda-qm-tools] *",
   "language": "python",
   "name": "conda-env-.conda-qm-tools-py"
  },
  "language_info": {
   "codemirror_mode": {
    "name": "ipython",
    "version": 3
   },
   "file_extension": ".py",
   "mimetype": "text/x-python",
   "name": "python",
   "nbconvert_exporter": "python",
   "pygments_lexer": "ipython3",
   "version": "3.7.9"
  }
 },
 "nbformat": 4,
 "nbformat_minor": 4
}
