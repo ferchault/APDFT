{
 "cells": [
  {
   "cell_type": "code",
   "execution_count": 1,
   "metadata": {},
   "outputs": [],
   "source": [
    "import pathlib\n",
    "import glob\n",
    "import os\n",
    "import get_status_report\n",
    "\n",
    "import pandas as pd\n",
    "import numpy as np\n"
   ]
  },
  {
   "cell_type": "code",
   "execution_count": null,
   "metadata": {},
   "outputs": [],
   "source": []
  },
  {
   "cell_type": "code",
   "execution_count": 2,
   "metadata": {},
   "outputs": [],
   "source": [
    "# load database\n",
    "db = pd.read_pickle(\"/scicore/home/lilienfeld/sahre0000/projects/atomic_energies/results/other_slices/calculation_database.pd\")\n",
    "\n",
    "# # update\n",
    "# update(db)\n",
    "# # save results\n",
    "# status_report(db, '/scicore/home/lilienfeld/sahre0000/projects/atomic_energies/results/slice_ve38')"
   ]
  },
  {
   "cell_type": "code",
   "execution_count": 3,
   "metadata": {},
   "outputs": [],
   "source": [
    "db_copy = db.copy()"
   ]
  },
  {
   "cell_type": "code",
   "execution_count": 4,
   "metadata": {},
   "outputs": [],
   "source": [
    "get_status_report.update(db_copy)"
   ]
  },
  {
   "cell_type": "code",
   "execution_count": 5,
   "metadata": {},
   "outputs": [
    {
     "name": "stdout",
     "output_type": "stream",
     "text": [
      "Everything ok in /scicore/home/lilienfeld/sahre0000/projects/atomic_energies/results/other_slices/dsgdb9nsd_000133/ve_06\n",
      "Everything ok in /scicore/home/lilienfeld/sahre0000/projects/atomic_energies/results/other_slices/dsgdb9nsd_000543/ve_08\n",
      "Everything ok in /scicore/home/lilienfeld/sahre0000/projects/atomic_energies/results/other_slices/dsgdb9nsd_000543/ve_15\n",
      "Everything ok in /scicore/home/lilienfeld/sahre0000/projects/atomic_energies/results/other_slices/dsgdb9nsd_000930/ve_07\n",
      "Everything ok in /scicore/home/lilienfeld/sahre0000/projects/atomic_energies/results/other_slices/dsgdb9nsd_000930/ve_14\n",
      "Everything ok in /scicore/home/lilienfeld/sahre0000/projects/atomic_energies/results/other_slices/dsgdb9nsd_000930/ve_29\n",
      "Everything ok in /scicore/home/lilienfeld/sahre0000/projects/atomic_energies/results/other_slices/dsgdb9nsd_000940/ve_07\n",
      "Everything ok in /scicore/home/lilienfeld/sahre0000/projects/atomic_energies/results/other_slices/dsgdb9nsd_000940/ve_14\n",
      "Everything ok in /scicore/home/lilienfeld/sahre0000/projects/atomic_energies/results/other_slices/dsgdb9nsd_000940/ve_29\n",
      "Everything ok in /scicore/home/lilienfeld/sahre0000/projects/atomic_energies/results/other_slices/dsgdb9nsd_000949/ve_07\n",
      "Everything ok in /scicore/home/lilienfeld/sahre0000/projects/atomic_energies/results/other_slices/dsgdb9nsd_000949/ve_14\n",
      "Everything ok in /scicore/home/lilienfeld/sahre0000/projects/atomic_energies/results/other_slices/dsgdb9nsd_000949/ve_29\n",
      "Everything ok in /scicore/home/lilienfeld/sahre0000/projects/atomic_energies/results/other_slices/dsgdb9nsd_002102/ve_08\n",
      "Everything ok in /scicore/home/lilienfeld/sahre0000/projects/atomic_energies/results/other_slices/dsgdb9nsd_002102/ve_17\n",
      "Everything ok in /scicore/home/lilienfeld/sahre0000/projects/atomic_energies/results/other_slices/dsgdb9nsd_002102/ve_25\n",
      "Everything ok in /scicore/home/lilienfeld/sahre0000/projects/atomic_energies/results/other_slices/dsgdb9nsd_002102/ve_34\n",
      "Everything ok in /scicore/home/lilienfeld/sahre0000/projects/atomic_energies/results/other_slices/dsgdb9nsd_002110/ve_08\n",
      "Everything ok in /scicore/home/lilienfeld/sahre0000/projects/atomic_energies/results/other_slices/dsgdb9nsd_002110/ve_17\n",
      "Everything ok in /scicore/home/lilienfeld/sahre0000/projects/atomic_energies/results/other_slices/dsgdb9nsd_002110/ve_25\n",
      "Everything ok in /scicore/home/lilienfeld/sahre0000/projects/atomic_energies/results/other_slices/dsgdb9nsd_002110/ve_34\n"
     ]
    }
   ],
   "source": [
    "get_status_report.enable_restart(db_copy)"
   ]
  },
  {
   "cell_type": "code",
   "execution_count": 7,
   "metadata": {},
   "outputs": [
    {
     "data": {
      "text/plain": [
       "dsgdb9nsd_000133:ve_06    True\n",
       "dsgdb9nsd_000543:ve_08    True\n",
       "dsgdb9nsd_000543:ve_15    True\n",
       "dsgdb9nsd_000930:ve_07    True\n",
       "dsgdb9nsd_000930:ve_14    True\n",
       "dsgdb9nsd_000930:ve_29    True\n",
       "dsgdb9nsd_000940:ve_07    True\n",
       "dsgdb9nsd_000940:ve_14    True\n",
       "dsgdb9nsd_000940:ve_29    True\n",
       "dsgdb9nsd_000949:ve_07    True\n",
       "dsgdb9nsd_000949:ve_14    True\n",
       "dsgdb9nsd_000949:ve_29    True\n",
       "dsgdb9nsd_002102:ve_08    True\n",
       "dsgdb9nsd_002102:ve_17    True\n",
       "dsgdb9nsd_002102:ve_25    True\n",
       "dsgdb9nsd_002102:ve_34    True\n",
       "dsgdb9nsd_002110:ve_08    True\n",
       "dsgdb9nsd_002110:ve_17    True\n",
       "dsgdb9nsd_002110:ve_25    True\n",
       "dsgdb9nsd_002110:ve_34    True\n",
       "Name: restart, dtype: bool"
      ]
     },
     "execution_count": 7,
     "metadata": {},
     "output_type": "execute_result"
    }
   ],
   "source": [
    "db_copy.loc[db_copy['status']=='not converged', 'restart']"
   ]
  },
  {
   "cell_type": "code",
   "execution_count": null,
   "metadata": {},
   "outputs": [],
   "source": []
  }
 ],
 "metadata": {
  "kernelspec": {
   "display_name": "Python [conda env:.conda-qm-tools] *",
   "language": "python",
   "name": "conda-env-.conda-qm-tools-py"
  },
  "language_info": {
   "codemirror_mode": {
    "name": "ipython",
    "version": 3
   },
   "file_extension": ".py",
   "mimetype": "text/x-python",
   "name": "python",
   "nbconvert_exporter": "python",
   "pygments_lexer": "ipython3",
   "version": "3.7.9"
  }
 },
 "nbformat": 4,
 "nbformat_minor": 4
}
