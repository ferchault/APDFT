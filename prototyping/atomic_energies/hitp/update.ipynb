{
 "cells": [
  {
   "cell_type": "code",
   "execution_count": 1,
   "metadata": {},
   "outputs": [],
   "source": [
    "import pathlib\n",
    "import glob\n",
    "import os\n",
    "import get_status_report\n",
    "\n",
    "import pandas as pd\n",
    "import numpy as np\n"
   ]
  },
  {
   "cell_type": "code",
   "execution_count": 2,
   "metadata": {},
   "outputs": [],
   "source": [
    "# load database\n",
    "#db = pd.read_pickle(\"/scicore/home/lilienfeld/sahre0000/projects/atomic_energies/results/other_slices/calculation_database.pd\")\n",
    "db = pd.read_pickle('/scicore/home/lilienfeld/sahre0000/projects/atomic_energies/results/amons/calculation_manager.pd')\n",
    "db_copy = db.copy()\n",
    "# # update\n",
    "# update(db)\n",
    "# # save results\n",
    "# status_report(db, '/scicore/home/lilienfeld/sahre0000/projects/atomic_energies/results/slice_ve38')"
   ]
  },
  {
   "cell_type": "code",
   "execution_count": 3,
   "metadata": {},
   "outputs": [
    {
     "data": {
      "text/plain": [
       "'/scicore/home/lilienfeld/sahre0000/projects/atomic_energies/results/amons/amon_000001/ve_02'"
      ]
     },
     "execution_count": 3,
     "metadata": {},
     "output_type": "execute_result"
    }
   ],
   "source": [
    "db_copy['workdir'][0]"
   ]
  },
  {
   "cell_type": "code",
   "execution_count": null,
   "metadata": {},
   "outputs": [],
   "source": [
    "db_copy.loc[db_copy['workdir'] == '/scicore/home/lilienfeld/sahre0000/projects/atomic_energies/results/amons/amon_000001/ve_02' ,'status']"
   ]
  },
  {
   "cell_type": "code",
   "execution_count": 4,
   "metadata": {},
   "outputs": [
    {
     "data": {
      "text/plain": [
       "'converged'"
      ]
     },
     "execution_count": 4,
     "metadata": {},
     "output_type": "execute_result"
    }
   ],
   "source": [
    "get_status_report.get_status('/scicore/home/lilienfeld/sahre0000/projects/atomic_energies/results/amons/amon_000001/ve_02')"
   ]
  },
  {
   "cell_type": "code",
   "execution_count": null,
   "metadata": {},
   "outputs": [],
   "source": [
    "get_status_report.update(db_copy)"
   ]
  },
  {
   "cell_type": "code",
   "execution_count": 15,
   "metadata": {},
   "outputs": [
    {
     "name": "stdout",
     "output_type": "stream",
     "text": [
      "Everything ok in /scicore/home/lilienfeld/sahre0000/projects/atomic_energies/results/amons/amon_000045/ve_14\n",
      "Everything ok in /scicore/home/lilienfeld/sahre0000/projects/atomic_energies/results/amons/amon_000058/ve_14\n",
      "Everything ok in /scicore/home/lilienfeld/sahre0000/projects/atomic_energies/results/amons/amon_000089/ve_19\n",
      "Enabled restart (from rESTART) in /scicore/home/lilienfeld/sahre0000/projects/atomic_energies/results/amons/amon_000105/ve_18 because there is an intact restart file. Isn't that great, sunshine?\n",
      "Enabled restart (from rESTART) in /scicore/home/lilienfeld/sahre0000/projects/atomic_energies/results/amons/amon_000108/ve_18 because there is an intact restart file. Isn't that great, sunshine?\n",
      "Enabled restart (from rESTART) in /scicore/home/lilienfeld/sahre0000/projects/atomic_energies/results/amons/amon_000109/ve_14 because there is an intact restart file. Isn't that great, sunshine?\n",
      "Enabled restart (from rESTART) in /scicore/home/lilienfeld/sahre0000/projects/atomic_energies/results/amons/amon_000110/ve_19 because there is an intact restart file. Isn't that great, sunshine?\n",
      "Enabled restart (from rESTART) in /scicore/home/lilienfeld/sahre0000/projects/atomic_energies/results/amons/amon_000118/ve_21 because there is an intact restart file. Isn't that great, sunshine?\n",
      "Enabled restart (from rESTART) in /scicore/home/lilienfeld/sahre0000/projects/atomic_energies/results/amons/amon_000123/ve_19 because there is an intact restart file. Isn't that great, sunshine?\n",
      "Enabled restart (from rESTART) in /scicore/home/lilienfeld/sahre0000/projects/atomic_energies/results/amons/amon_000128/ve_19 because there is an intact restart file. Isn't that great, sunshine?\n",
      "Enabled restart (from rESTART) in /scicore/home/lilienfeld/sahre0000/projects/atomic_energies/results/amons/amon_000130/ve_19 because there is an intact restart file. Isn't that great, sunshine?\n",
      "Enabled restart (from rESTART) in /scicore/home/lilienfeld/sahre0000/projects/atomic_energies/results/amons/amon_000138/ve_21 because there is an intact restart file. Isn't that great, sunshine?\n",
      "Enabled restart (from rESTART) in /scicore/home/lilienfeld/sahre0000/projects/atomic_energies/results/amons/amon_000142/ve_19 because there is an intact restart file. Isn't that great, sunshine?\n",
      "Enabled restart (from rESTART) in /scicore/home/lilienfeld/sahre0000/projects/atomic_energies/results/amons/amon_000149/ve_19 because there is an intact restart file. Isn't that great, sunshine?\n",
      "Enabled restart (from rESTART) in /scicore/home/lilienfeld/sahre0000/projects/atomic_energies/results/amons/amon_000176/ve_24 because there is an intact restart file. Isn't that great, sunshine?\n",
      "Enabled restart (from rESTART) in /scicore/home/lilienfeld/sahre0000/projects/atomic_energies/results/amons/amon_000184/ve_16 because there is an intact restart file. Isn't that great, sunshine?\n",
      "Enabled restart (from rESTART) in /scicore/home/lilienfeld/sahre0000/projects/atomic_energies/results/amons/amon_000195/ve_17 because there is an intact restart file. Isn't that great, sunshine?\n",
      "Enabled restart (from rESTART) in /scicore/home/lilienfeld/sahre0000/projects/atomic_energies/results/amons/amon_000203/ve_22 because there is an intact restart file. Isn't that great, sunshine?\n",
      "Enabled restart (from rESTART) in /scicore/home/lilienfeld/sahre0000/projects/atomic_energies/results/amons/amon_000210/ve_17 because there is an intact restart file. Isn't that great, sunshine?\n",
      "Enabled restart (from rESTART) in /scicore/home/lilienfeld/sahre0000/projects/atomic_energies/results/amons/amon_000214/ve_24 because there is an intact restart file. Isn't that great, sunshine?\n",
      "Enabled restart (from rESTART) in /scicore/home/lilienfeld/sahre0000/projects/atomic_energies/results/amons/amon_000226/ve_24 because there is an intact restart file. Isn't that great, sunshine?\n",
      "Enabled restart (from rESTART) in /scicore/home/lilienfeld/sahre0000/projects/atomic_energies/results/amons/amon_000235/ve_18 because there is an intact restart file. Isn't that great, sunshine?\n",
      "Enabled restart (from rESTART) in /scicore/home/lilienfeld/sahre0000/projects/atomic_energies/results/amons/amon_000235/ve_24 because there is an intact restart file. Isn't that great, sunshine?\n",
      "Enabled restart (from rESTART) in /scicore/home/lilienfeld/sahre0000/projects/atomic_energies/results/amons/amon_000245/ve_22 because there is an intact restart file. Isn't that great, sunshine?\n",
      "Enabled restart (from rESTART) in /scicore/home/lilienfeld/sahre0000/projects/atomic_energies/results/amons/amon_000257/ve_24 because there is an intact restart file. Isn't that great, sunshine?\n",
      "Enabled restart (from rESTART) in /scicore/home/lilienfeld/sahre0000/projects/atomic_energies/results/amons/amon_000260/ve_24 because there is an intact restart file. Isn't that great, sunshine?\n",
      "Enabled restart (from rESTART) in /scicore/home/lilienfeld/sahre0000/projects/atomic_energies/results/amons/amon_000265/ve_22 because there is an intact restart file. Isn't that great, sunshine?\n",
      "Enabled restart (from rESTART) in /scicore/home/lilienfeld/sahre0000/projects/atomic_energies/results/amons/amon_000267/ve_24 because there is an intact restart file. Isn't that great, sunshine?\n",
      "Enabled restart (from rESTART) in /scicore/home/lilienfeld/sahre0000/projects/atomic_energies/results/amons/amon_000274/ve_22 because there is an intact restart file. Isn't that great, sunshine?\n",
      "Enabled restart (from rESTART) in /scicore/home/lilienfeld/sahre0000/projects/atomic_energies/results/amons/amon_000276/ve_17 because there is an intact restart file. Isn't that great, sunshine?\n",
      "Enabled restart (from rESTART) in /scicore/home/lilienfeld/sahre0000/projects/atomic_energies/results/amons/amon_000276/ve_22 because there is an intact restart file. Isn't that great, sunshine?\n",
      "Enabled restart (from rESTART) in /scicore/home/lilienfeld/sahre0000/projects/atomic_energies/results/amons/amon_000277/ve_22 because there is an intact restart file. Isn't that great, sunshine?\n",
      "Enabled restart (from rESTART) in /scicore/home/lilienfeld/sahre0000/projects/atomic_energies/results/amons/amon_000279/ve_17 because there is an intact restart file. Isn't that great, sunshine?\n",
      "Enabled restart (from rESTART) in /scicore/home/lilienfeld/sahre0000/projects/atomic_energies/results/amons/amon_000280/ve_21 because there is an intact restart file. Isn't that great, sunshine?\n",
      "Enabled restart (from rESTART) in /scicore/home/lilienfeld/sahre0000/projects/atomic_energies/results/amons/amon_000281/ve_22 because there is an intact restart file. Isn't that great, sunshine?\n",
      "Enabled restart (from rESTART) in /scicore/home/lilienfeld/sahre0000/projects/atomic_energies/results/amons/amon_000285/ve_24 because there is an intact restart file. Isn't that great, sunshine?\n",
      "Enabled restart (from rESTART) in /scicore/home/lilienfeld/sahre0000/projects/atomic_energies/results/amons/amon_000290/ve_24 because there is an intact restart file. Isn't that great, sunshine?\n",
      "Enabled restart (from rESTART) in /scicore/home/lilienfeld/sahre0000/projects/atomic_energies/results/amons/amon_000292/ve_22 because there is an intact restart file. Isn't that great, sunshine?\n",
      "Enabled restart (from rESTART) in /scicore/home/lilienfeld/sahre0000/projects/atomic_energies/results/amons/amon_000293/ve_22 because there is an intact restart file. Isn't that great, sunshine?\n",
      "Enabled restart (from rESTART) in /scicore/home/lilienfeld/sahre0000/projects/atomic_energies/results/amons/amon_000297/ve_24 because there is an intact restart file. Isn't that great, sunshine?\n",
      "Enabled restart (from rESTART) in /scicore/home/lilienfeld/sahre0000/projects/atomic_energies/results/amons/amon_000298/ve_24 because there is an intact restart file. Isn't that great, sunshine?\n",
      "Enabled restart (from rESTART) in /scicore/home/lilienfeld/sahre0000/projects/atomic_energies/results/amons/amon_000302/ve_22 because there is an intact restart file. Isn't that great, sunshine?\n",
      "Enabled restart (from rESTART) in /scicore/home/lilienfeld/sahre0000/projects/atomic_energies/results/amons/amon_000303/ve_22 because there is an intact restart file. Isn't that great, sunshine?\n",
      "Enabled restart (from rESTART) in /scicore/home/lilienfeld/sahre0000/projects/atomic_energies/results/amons/amon_000304/ve_17 because there is an intact restart file. Isn't that great, sunshine?\n",
      "Enabled restart (from rESTART) in /scicore/home/lilienfeld/sahre0000/projects/atomic_energies/results/amons/amon_000327/ve_22 because there is an intact restart file. Isn't that great, sunshine?\n",
      "Enabled restart (from rESTART) in /scicore/home/lilienfeld/sahre0000/projects/atomic_energies/results/amons/amon_000333/ve_22 because there is an intact restart file. Isn't that great, sunshine?\n",
      "Enabled restart (from rESTART) in /scicore/home/lilienfeld/sahre0000/projects/atomic_energies/results/amons/amon_000336/ve_22 because there is an intact restart file. Isn't that great, sunshine?\n",
      "Enabled restart (from rESTART) in /scicore/home/lilienfeld/sahre0000/projects/atomic_energies/results/amons/amon_000339/ve_22 because there is an intact restart file. Isn't that great, sunshine?\n",
      "Enabled restart (from rESTART) in /scicore/home/lilienfeld/sahre0000/projects/atomic_energies/results/amons/amon_000344/ve_17 because there is an intact restart file. Isn't that great, sunshine?\n",
      "Enabled restart (from rESTART) in /scicore/home/lilienfeld/sahre0000/projects/atomic_energies/results/amons/amon_000344/ve_22 because there is an intact restart file. Isn't that great, sunshine?\n",
      "Enabled restart (from rESTART) in /scicore/home/lilienfeld/sahre0000/projects/atomic_energies/results/amons/amon_000348/ve_22 because there is an intact restart file. Isn't that great, sunshine?\n",
      "Enabled restart (from rESTART) in /scicore/home/lilienfeld/sahre0000/projects/atomic_energies/results/amons/amon_000350/ve_22 because there is an intact restart file. Isn't that great, sunshine?\n",
      "Enabled restart (from rESTART) in /scicore/home/lilienfeld/sahre0000/projects/atomic_energies/results/amons/amon_000352/ve_16 because there is an intact restart file. Isn't that great, sunshine?\n",
      "Enabled restart (from rESTART) in /scicore/home/lilienfeld/sahre0000/projects/atomic_energies/results/amons/amon_000355/ve_17 because there is an intact restart file. Isn't that great, sunshine?\n",
      "Enabled restart (from rESTART) in /scicore/home/lilienfeld/sahre0000/projects/atomic_energies/results/amons/amon_000357/ve_18 because there is an intact restart file. Isn't that great, sunshine?\n",
      "Enabled restart (from rESTART) in /scicore/home/lilienfeld/sahre0000/projects/atomic_energies/results/amons/amon_000357/ve_24 because there is an intact restart file. Isn't that great, sunshine?\n",
      "Enabled restart (from rESTART) in /scicore/home/lilienfeld/sahre0000/projects/atomic_energies/results/amons/amon_000359/ve_22 because there is an intact restart file. Isn't that great, sunshine?\n",
      "Enabled restart (from rESTART) in /scicore/home/lilienfeld/sahre0000/projects/atomic_energies/results/amons/amon_000360/ve_22 because there is an intact restart file. Isn't that great, sunshine?\n",
      "Enabled restart (from rESTART) in /scicore/home/lilienfeld/sahre0000/projects/atomic_energies/results/amons/amon_000362/ve_22 because there is an intact restart file. Isn't that great, sunshine?\n",
      "Enabled restart (from rESTART) in /scicore/home/lilienfeld/sahre0000/projects/atomic_energies/results/amons/amon_000364/ve_17 because there is an intact restart file. Isn't that great, sunshine?\n",
      "Enabled restart (from rESTART) in /scicore/home/lilienfeld/sahre0000/projects/atomic_energies/results/amons/amon_000369/ve_22 because there is an intact restart file. Isn't that great, sunshine?\n",
      "Enabled restart (from rESTART) in /scicore/home/lilienfeld/sahre0000/projects/atomic_energies/results/amons/amon_000385/ve_16 because there is an intact restart file. Isn't that great, sunshine?\n",
      "Enabled restart (from rESTART) in /scicore/home/lilienfeld/sahre0000/projects/atomic_energies/results/amons/amon_000386/ve_21 because there is an intact restart file. Isn't that great, sunshine?\n",
      "Enabled restart (from rESTART) in /scicore/home/lilienfeld/sahre0000/projects/atomic_energies/results/amons/amon_000389/ve_24 because there is an intact restart file. Isn't that great, sunshine?\n",
      "Enabled restart (from rESTART) in /scicore/home/lilienfeld/sahre0000/projects/atomic_energies/results/amons/amon_000392/ve_22 because there is an intact restart file. Isn't that great, sunshine?\n",
      "Enabled restart (from rESTART) in /scicore/home/lilienfeld/sahre0000/projects/atomic_energies/results/amons/amon_000397/ve_19 because there is an intact restart file. Isn't that great, sunshine?\n",
      "Enabled restart (from rESTART) in /scicore/home/lilienfeld/sahre0000/projects/atomic_energies/results/amons/amon_000398/ve_19 because there is an intact restart file. Isn't that great, sunshine?\n",
      "Enabled restart (from rESTART) in /scicore/home/lilienfeld/sahre0000/projects/atomic_energies/results/amons/amon_000401/ve_22 because there is an intact restart file. Isn't that great, sunshine?\n",
      "Enabled restart (from rESTART) in /scicore/home/lilienfeld/sahre0000/projects/atomic_energies/results/amons/amon_000408/ve_24 because there is an intact restart file. Isn't that great, sunshine?\n",
      "Enabled restart (from rESTART) in /scicore/home/lilienfeld/sahre0000/projects/atomic_energies/results/amons/amon_000412/ve_24 because there is an intact restart file. Isn't that great, sunshine?\n",
      "Enabled restart (from rESTART) in /scicore/home/lilienfeld/sahre0000/projects/atomic_energies/results/amons/amon_000413/ve_24 because there is an intact restart file. Isn't that great, sunshine?\n",
      "Enabled restart (from rESTART) in /scicore/home/lilienfeld/sahre0000/projects/atomic_energies/results/amons/amon_000414/ve_24 because there is an intact restart file. Isn't that great, sunshine?\n",
      "Enabled restart (from rESTART) in /scicore/home/lilienfeld/sahre0000/projects/atomic_energies/results/amons/amon_000419/ve_22 because there is an intact restart file. Isn't that great, sunshine?\n",
      "Enabled restart (from rESTART) in /scicore/home/lilienfeld/sahre0000/projects/atomic_energies/results/amons/amon_000422/ve_22 because there is an intact restart file. Isn't that great, sunshine?\n",
      "Enabled restart (from rESTART) in /scicore/home/lilienfeld/sahre0000/projects/atomic_energies/results/amons/amon_000423/ve_22 because there is an intact restart file. Isn't that great, sunshine?\n",
      "Enabled restart (from rESTART) in /scicore/home/lilienfeld/sahre0000/projects/atomic_energies/results/amons/amon_000426/ve_24 because there is an intact restart file. Isn't that great, sunshine?\n",
      "Enabled restart (from rESTART) in /scicore/home/lilienfeld/sahre0000/projects/atomic_energies/results/amons/amon_000428/ve_24 because there is an intact restart file. Isn't that great, sunshine?\n",
      "Enabled restart (from rESTART) in /scicore/home/lilienfeld/sahre0000/projects/atomic_energies/results/amons/amon_000440/ve_22 because there is an intact restart file. Isn't that great, sunshine?\n",
      "Enabled restart (from rESTART) in /scicore/home/lilienfeld/sahre0000/projects/atomic_energies/results/amons/amon_000445/ve_22 because there is an intact restart file. Isn't that great, sunshine?\n",
      "Enabled restart (from rESTART) in /scicore/home/lilienfeld/sahre0000/projects/atomic_energies/results/amons/amon_000449/ve_24 because there is an intact restart file. Isn't that great, sunshine?\n",
      "Enabled restart (from rESTART) in /scicore/home/lilienfeld/sahre0000/projects/atomic_energies/results/amons/amon_000450/ve_24 because there is an intact restart file. Isn't that great, sunshine?\n",
      "Enabled restart (from rESTART) in /scicore/home/lilienfeld/sahre0000/projects/atomic_energies/results/amons/amon_000452/ve_24 because there is an intact restart file. Isn't that great, sunshine?\n",
      "Enabled restart (from rESTART) in /scicore/home/lilienfeld/sahre0000/projects/atomic_energies/results/amons/amon_000457/ve_24 because there is an intact restart file. Isn't that great, sunshine?\n",
      "Enabled restart (from rESTART) in /scicore/home/lilienfeld/sahre0000/projects/atomic_energies/results/amons/amon_000459/ve_24 because there is an intact restart file. Isn't that great, sunshine?\n",
      "Enabled restart (from rESTART) in /scicore/home/lilienfeld/sahre0000/projects/atomic_energies/results/amons/amon_000461/ve_24 because there is an intact restart file. Isn't that great, sunshine?\n",
      "Enabled restart (from rESTART) in /scicore/home/lilienfeld/sahre0000/projects/atomic_energies/results/amons/amon_000463/ve_24 because there is an intact restart file. Isn't that great, sunshine?\n",
      "Enabled restart (from rESTART) in /scicore/home/lilienfeld/sahre0000/projects/atomic_energies/results/amons/amon_000485/ve_22 because there is an intact restart file. Isn't that great, sunshine?\n",
      "Enabled restart (from rESTART) in /scicore/home/lilienfeld/sahre0000/projects/atomic_energies/results/amons/amon_000497/ve_24 because there is an intact restart file. Isn't that great, sunshine?\n",
      "Enabled restart (from rESTART) in /scicore/home/lilienfeld/sahre0000/projects/atomic_energies/results/amons/amon_000506/ve_24 because there is an intact restart file. Isn't that great, sunshine?\n",
      "Enabled restart (from rESTART) in /scicore/home/lilienfeld/sahre0000/projects/atomic_energies/results/amons/amon_000518/ve_24 because there is an intact restart file. Isn't that great, sunshine?\n",
      "Enabled restart (from rESTART) in /scicore/home/lilienfeld/sahre0000/projects/atomic_energies/results/amons/amon_000525/ve_24 because there is an intact restart file. Isn't that great, sunshine?\n",
      "Enabled restart (from rESTART) in /scicore/home/lilienfeld/sahre0000/projects/atomic_energies/results/amons/amon_000526/ve_24 because there is an intact restart file. Isn't that great, sunshine?\n",
      "Enabled restart (from rESTART) in /scicore/home/lilienfeld/sahre0000/projects/atomic_energies/results/amons/amon_000544/ve_24 because there is an intact restart file. Isn't that great, sunshine?\n",
      "Enabled restart (from rESTART) in /scicore/home/lilienfeld/sahre0000/projects/atomic_energies/results/amons/amon_000595/ve_24 because there is an intact restart file. Isn't that great, sunshine?\n",
      "Enabled restart (from rESTART) in /scicore/home/lilienfeld/sahre0000/projects/atomic_energies/results/amons/amon_000609/ve_24 because there is an intact restart file. Isn't that great, sunshine?\n",
      "Enabled restart (from rESTART) in /scicore/home/lilienfeld/sahre0000/projects/atomic_energies/results/amons/amon_000612/ve_18 because there is an intact restart file. Isn't that great, sunshine?\n",
      "Enabled restart (from rESTART) in /scicore/home/lilienfeld/sahre0000/projects/atomic_energies/results/amons/amon_000614/ve_18 because there is an intact restart file. Isn't that great, sunshine?\n",
      "Enabled restart (from rESTART) in /scicore/home/lilienfeld/sahre0000/projects/atomic_energies/results/amons/amon_000615/ve_18 because there is an intact restart file. Isn't that great, sunshine?\n",
      "Enabled restart (from rESTART) in /scicore/home/lilienfeld/sahre0000/projects/atomic_energies/results/amons/amon_000617/ve_18 because there is an intact restart file. Isn't that great, sunshine?\n",
      "Enabled restart (from rESTART) in /scicore/home/lilienfeld/sahre0000/projects/atomic_energies/results/amons/amon_000618/ve_18 because there is an intact restart file. Isn't that great, sunshine?\n",
      "Enabled restart (from rESTART) in /scicore/home/lilienfeld/sahre0000/projects/atomic_energies/results/amons/amon_000619/ve_24 because there is an intact restart file. Isn't that great, sunshine?\n",
      "Enabled restart (from rESTART) in /scicore/home/lilienfeld/sahre0000/projects/atomic_energies/results/amons/amon_000620/ve_18 because there is an intact restart file. Isn't that great, sunshine?\n",
      "Enabled restart (from rESTART) in /scicore/home/lilienfeld/sahre0000/projects/atomic_energies/results/amons/amon_000621/ve_24 because there is an intact restart file. Isn't that great, sunshine?\n",
      "Enabled restart (from rESTART) in /scicore/home/lilienfeld/sahre0000/projects/atomic_energies/results/amons/amon_000622/ve_24 because there is an intact restart file. Isn't that great, sunshine?\n",
      "Enabled restart (from rESTART) in /scicore/home/lilienfeld/sahre0000/projects/atomic_energies/results/amons/amon_000623/ve_18 because there is an intact restart file. Isn't that great, sunshine?\n",
      "Enabled restart (from rESTART) in /scicore/home/lilienfeld/sahre0000/projects/atomic_energies/results/amons/amon_000624/ve_18 because there is an intact restart file. Isn't that great, sunshine?\n",
      "Enabled restart (from rESTART) in /scicore/home/lilienfeld/sahre0000/projects/atomic_energies/results/amons/amon_000625/ve_24 because there is an intact restart file. Isn't that great, sunshine?\n",
      "Enabled restart (from rESTART) in /scicore/home/lilienfeld/sahre0000/projects/atomic_energies/results/amons/amon_000626/ve_18 because there is an intact restart file. Isn't that great, sunshine?\n",
      "Enabled restart (from rESTART) in /scicore/home/lilienfeld/sahre0000/projects/atomic_energies/results/amons/amon_000626/ve_24 because there is an intact restart file. Isn't that great, sunshine?\n",
      "Enabled restart (from rESTART) in /scicore/home/lilienfeld/sahre0000/projects/atomic_energies/results/amons/amon_000627/ve_18 because there is an intact restart file. Isn't that great, sunshine?\n",
      "Enabled restart (from rESTART) in /scicore/home/lilienfeld/sahre0000/projects/atomic_energies/results/amons/amon_000630/ve_18 because there is an intact restart file. Isn't that great, sunshine?\n",
      "Enabled restart (from rESTART) in /scicore/home/lilienfeld/sahre0000/projects/atomic_energies/results/amons/amon_000630/ve_24 because there is an intact restart file. Isn't that great, sunshine?\n",
      "Enabled restart (from rESTART) in /scicore/home/lilienfeld/sahre0000/projects/atomic_energies/results/amons/amon_000631/ve_18 because there is an intact restart file. Isn't that great, sunshine?\n",
      "Enabled restart (from rESTART) in /scicore/home/lilienfeld/sahre0000/projects/atomic_energies/results/amons/amon_000632/ve_18 because there is an intact restart file. Isn't that great, sunshine?\n",
      "Enabled restart (from rESTART) in /scicore/home/lilienfeld/sahre0000/projects/atomic_energies/results/amons/amon_000632/ve_24 because there is an intact restart file. Isn't that great, sunshine?\n",
      "Enabled restart (from rESTART) in /scicore/home/lilienfeld/sahre0000/projects/atomic_energies/results/amons/amon_000633/ve_24 because there is an intact restart file. Isn't that great, sunshine?\n",
      "Enabled restart (from rESTART) in /scicore/home/lilienfeld/sahre0000/projects/atomic_energies/results/amons/amon_000671/ve_24 because there is an intact restart file. Isn't that great, sunshine?\n",
      "Enabled restart (from rESTART) in /scicore/home/lilienfeld/sahre0000/projects/atomic_energies/results/amons/amon_000673/ve_22 because there is an intact restart file. Isn't that great, sunshine?\n",
      "Enabled restart (from rESTART) in /scicore/home/lilienfeld/sahre0000/projects/atomic_energies/results/amons/amon_000674/ve_21 because there is an intact restart file. Isn't that great, sunshine?\n",
      "Enabled restart (from rESTART) in /scicore/home/lilienfeld/sahre0000/projects/atomic_energies/results/amons/amon_000681/ve_24 because there is an intact restart file. Isn't that great, sunshine?\n",
      "Enabled restart (from rESTART) in /scicore/home/lilienfeld/sahre0000/projects/atomic_energies/results/amons/amon_000682/ve_18 because there is an intact restart file. Isn't that great, sunshine?\n",
      "Enabled restart (from rESTART) in /scicore/home/lilienfeld/sahre0000/projects/atomic_energies/results/amons/amon_000689/ve_17 because there is an intact restart file. Isn't that great, sunshine?\n",
      "Enabled restart (from rESTART) in /scicore/home/lilienfeld/sahre0000/projects/atomic_energies/results/amons/amon_000692/ve_18 because there is an intact restart file. Isn't that great, sunshine?\n",
      "Enabled restart (from rESTART) in /scicore/home/lilienfeld/sahre0000/projects/atomic_energies/results/amons/amon_000692/ve_24 because there is an intact restart file. Isn't that great, sunshine?\n",
      "Enabled restart (from rESTART) in /scicore/home/lilienfeld/sahre0000/projects/atomic_energies/results/amons/amon_000695/ve_18 because there is an intact restart file. Isn't that great, sunshine?\n",
      "Enabled restart (from rESTART) in /scicore/home/lilienfeld/sahre0000/projects/atomic_energies/results/amons/amon_000695/ve_24 because there is an intact restart file. Isn't that great, sunshine?\n",
      "Enabled restart (from rESTART) in /scicore/home/lilienfeld/sahre0000/projects/atomic_energies/results/amons/amon_000696/ve_18 because there is an intact restart file. Isn't that great, sunshine?\n",
      "Enabled restart (from rESTART) in /scicore/home/lilienfeld/sahre0000/projects/atomic_energies/results/amons/amon_000696/ve_24 because there is an intact restart file. Isn't that great, sunshine?\n",
      "Enabled restart (from rESTART) in /scicore/home/lilienfeld/sahre0000/projects/atomic_energies/results/amons/amon_000697/ve_24 because there is an intact restart file. Isn't that great, sunshine?\n",
      "Enabled restart (from rESTART) in /scicore/home/lilienfeld/sahre0000/projects/atomic_energies/results/amons/amon_000706/ve_22 because there is an intact restart file. Isn't that great, sunshine?\n",
      "Enabled restart (from rESTART) in /scicore/home/lilienfeld/sahre0000/projects/atomic_energies/results/amons/amon_000714/ve_21 because there is an intact restart file. Isn't that great, sunshine?\n",
      "Enabled restart (from rESTART) in /scicore/home/lilienfeld/sahre0000/projects/atomic_energies/results/amons/amon_000722/ve_24 because there is an intact restart file. Isn't that great, sunshine?\n",
      "Enabled restart (from rESTART) in /scicore/home/lilienfeld/sahre0000/projects/atomic_energies/results/amons/amon_000726/ve_22 because there is an intact restart file. Isn't that great, sunshine?\n",
      "Enabled restart (from rESTART) in /scicore/home/lilienfeld/sahre0000/projects/atomic_energies/results/amons/amon_000732/ve_21 because there is an intact restart file. Isn't that great, sunshine?\n",
      "Enabled restart (from rESTART) in /scicore/home/lilienfeld/sahre0000/projects/atomic_energies/results/amons/amon_000735/ve_24 because there is an intact restart file. Isn't that great, sunshine?\n",
      "Enabled restart (from rESTART) in /scicore/home/lilienfeld/sahre0000/projects/atomic_energies/results/amons/amon_000736/ve_24 because there is an intact restart file. Isn't that great, sunshine?\n",
      "Enabled restart (from rESTART) in /scicore/home/lilienfeld/sahre0000/projects/atomic_energies/results/amons/amon_000740/ve_18 because there is an intact restart file. Isn't that great, sunshine?\n",
      "Enabled restart (from rESTART) in /scicore/home/lilienfeld/sahre0000/projects/atomic_energies/results/amons/amon_000740/ve_24 because there is an intact restart file. Isn't that great, sunshine?\n",
      "Enabled restart (from rESTART) in /scicore/home/lilienfeld/sahre0000/projects/atomic_energies/results/amons/amon_000761/ve_21 because there is an intact restart file. Isn't that great, sunshine?\n",
      "Enabled restart (from rESTART) in /scicore/home/lilienfeld/sahre0000/projects/atomic_energies/results/amons/amon_000762/ve_18 because there is an intact restart file. Isn't that great, sunshine?\n",
      "Enabled restart (from rESTART) in /scicore/home/lilienfeld/sahre0000/projects/atomic_energies/results/amons/amon_000762/ve_24 because there is an intact restart file. Isn't that great, sunshine?\n",
      "Enabled restart (from rESTART) in /scicore/home/lilienfeld/sahre0000/projects/atomic_energies/results/amons/amon_000763/ve_24 because there is an intact restart file. Isn't that great, sunshine?\n",
      "Enabled restart (from rESTART) in /scicore/home/lilienfeld/sahre0000/projects/atomic_energies/results/amons/amon_000764/ve_24 because there is an intact restart file. Isn't that great, sunshine?\n",
      "Enabled restart (from rESTART) in /scicore/home/lilienfeld/sahre0000/projects/atomic_energies/results/amons/amon_000766/ve_24 because there is an intact restart file. Isn't that great, sunshine?\n",
      "Enabled restart (from rESTART) in /scicore/home/lilienfeld/sahre0000/projects/atomic_energies/results/amons/amon_000773/ve_17 because there is an intact restart file. Isn't that great, sunshine?\n",
      "Enabled restart (from rESTART) in /scicore/home/lilienfeld/sahre0000/projects/atomic_energies/results/amons/amon_000775/ve_18 because there is an intact restart file. Isn't that great, sunshine?\n",
      "Enabled restart (from rESTART) in /scicore/home/lilienfeld/sahre0000/projects/atomic_energies/results/amons/amon_000775/ve_24 because there is an intact restart file. Isn't that great, sunshine?\n",
      "Enabled restart (from rESTART) in /scicore/home/lilienfeld/sahre0000/projects/atomic_energies/results/amons/amon_000784/ve_22 because there is an intact restart file. Isn't that great, sunshine?\n",
      "Enabled restart (from rESTART) in /scicore/home/lilienfeld/sahre0000/projects/atomic_energies/results/amons/amon_000785/ve_22 because there is an intact restart file. Isn't that great, sunshine?\n",
      "Enabled restart (from rESTART) in /scicore/home/lilienfeld/sahre0000/projects/atomic_energies/results/amons/amon_000786/ve_16 because there is an intact restart file. Isn't that great, sunshine?\n",
      "Everything ok in /scicore/home/lilienfeld/sahre0000/projects/atomic_energies/results/amons/amon_000801/ve_06\n"
     ]
    }
   ],
   "source": [
    "get_status_report.enable_restart(db_copy)"
   ]
  },
  {
   "cell_type": "code",
   "execution_count": 21,
   "metadata": {},
   "outputs": [],
   "source": [
    "db_copy.to_pickle('/scicore/home/lilienfeld/sahre0000/projects/atomic_energies/results/amons/calculation_manager.pd')"
   ]
  }
 ],
 "metadata": {
  "kernelspec": {
   "display_name": "Python [conda env:.conda-qm-tools] *",
   "language": "python",
   "name": "conda-env-.conda-qm-tools-py"
  },
  "language_info": {
   "codemirror_mode": {
    "name": "ipython",
    "version": 3
   },
   "file_extension": ".py",
   "mimetype": "text/x-python",
   "name": "python",
   "nbconvert_exporter": "python",
   "pygments_lexer": "ipython3",
   "version": "3.7.9"
  }
 },
 "nbformat": 4,
 "nbformat_minor": 4
}
