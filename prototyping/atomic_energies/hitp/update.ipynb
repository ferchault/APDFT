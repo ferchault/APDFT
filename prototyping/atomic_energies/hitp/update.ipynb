{
 "cells": [
  {
   "cell_type": "code",
   "execution_count": 1,
   "metadata": {},
   "outputs": [],
   "source": [
    "import pathlib\n",
    "import glob\n",
    "import os\n",
    "import get_status_report\n",
    "\n",
    "import pandas as pd\n",
    "import numpy as np\n"
   ]
  },
  {
   "cell_type": "code",
   "execution_count": 2,
   "metadata": {},
   "outputs": [],
   "source": [
    "# load database\n",
    "#db = pd.read_pickle(\"/scicore/home/lilienfeld/sahre0000/projects/atomic_energies/results/other_slices/calculation_database.pd\")\n",
    "db = pd.read_pickle('/scicore/home/lilienfeld/sahre0000/projects/atomic_energies/results/amons/calculation_manager.pd')\n",
    "db_copy = db.copy()\n",
    "# # update\n",
    "# update(db)\n",
    "# # save results\n",
    "# status_report(db, '/scicore/home/lilienfeld/sahre0000/projects/atomic_energies/results/slice_ve38')"
   ]
  },
  {
   "cell_type": "code",
   "execution_count": null,
   "metadata": {},
   "outputs": [],
   "source": [
    "db_copy['workdir'][0]"
   ]
  },
  {
   "cell_type": "code",
   "execution_count": null,
   "metadata": {},
   "outputs": [],
   "source": [
    "db_copy.loc[db_copy['workdir'] == '/scicore/home/lilienfeld/sahre0000/projects/atomic_energies/results/amons/amon_000001/ve_02' ,'status']"
   ]
  },
  {
   "cell_type": "code",
   "execution_count": 3,
   "metadata": {},
   "outputs": [
    {
     "data": {
      "text/plain": [
       "'broken'"
      ]
     },
     "execution_count": 3,
     "metadata": {},
     "output_type": "execute_result"
    }
   ],
   "source": [
    "get_status_report.get_status('/scicore/home/lilienfeld/sahre0000/projects/atomic_energies/results/amons/amon_000001/ve_02')"
   ]
  },
  {
   "cell_type": "code",
   "execution_count": 4,
   "metadata": {},
   "outputs": [],
   "source": [
    "get_status_report.update(db_copy)"
   ]
  },
  {
   "cell_type": "code",
   "execution_count": null,
   "metadata": {},
   "outputs": [],
   "source": [
    "# load database\n",
    "print('Loading Database...', flush = True)\n",
    "db = pd.read_pickle(\"/scicore/home/lilienfeld/sahre0000/projects/atomic_energies/results/other_slices/calculation_database.pd\")\n",
    "# update\n",
    "print('Updating database...', flush = True)\n",
    "update(db)\n",
    "print('Enabling restart option...', flush = True)\n",
    "enable_restart(db)\n",
    "# save results\n",
    "print('Writing status report...', flush = True)\n",
    "status_report(db, '/scicore/home/lilienfeld/sahre0000/projects/atomic_energies/results/other_slices')\n",
    "print('Saving Database...', flush = True)\n",
    "db.to_pickle(\"/scicore/home/lilienfeld/sahre0000/projects/atomic_energies/results/other_slices/calculation_database.pd\")\n",
    "print('All done! Maybe the restart option should be enabled in some input files.', flush= True)"
   ]
  },
  {
   "cell_type": "code",
   "execution_count": 16,
   "metadata": {},
   "outputs": [
    {
     "data": {
      "text/plain": [
       "'/scicore/home/lilienfeld/sahre0000/projects/atomic_energies/results/amons/amon_000045/ve_14'"
      ]
     },
     "execution_count": 16,
     "metadata": {},
     "output_type": "execute_result"
    }
   ],
   "source": [
    "db_copy.loc[db_copy['status']=='not converged', 'workdir'].item()"
   ]
  }
 ],
 "metadata": {
  "kernelspec": {
   "display_name": "Python [conda env:.conda-qm-tools] *",
   "language": "python",
   "name": "conda-env-.conda-qm-tools-py"
  },
  "language_info": {
   "codemirror_mode": {
    "name": "ipython",
    "version": 3
   },
   "file_extension": ".py",
   "mimetype": "text/x-python",
   "name": "python",
   "nbconvert_exporter": "python",
   "pygments_lexer": "ipython3",
   "version": "3.7.9"
  }
 },
 "nbformat": 4,
 "nbformat_minor": 4
}
