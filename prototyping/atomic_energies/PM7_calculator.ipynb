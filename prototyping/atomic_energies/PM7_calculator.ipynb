{
 "cells": [
  {
   "cell_type": "code",
   "execution_count": 1,
   "id": "2302a682-a5f5-4108-b808-396b176b89db",
   "metadata": {},
   "outputs": [],
   "source": [
    "import sys\n",
    "sys.path.insert(0, '/home/sahre/git_repositories/APDFT/prototyping/atomic_energies/')\n",
    "\n",
    "import PM7_calculator as pm7"
   ]
  },
  {
   "cell_type": "code",
   "execution_count": 2,
   "id": "15df1204-3a4e-4c7a-b5d7-484f75899b41",
   "metadata": {},
   "outputs": [],
   "source": [
    "xyz_filepath = '/data/sahre/projects/atomic-energies/data/bonding_trends/pbe0_data/row_2/fragments_single/NN_opt.xyz'\n",
    "mop_filepath = '/data/sahre/projects/atomic-energies/data/bonding_trends/pm7/test.mop'\n",
    "pm7.generate_input(xyz_filepath, mop_filepath)"
   ]
  },
  {
   "cell_type": "code",
   "execution_count": 3,
   "id": "ea0e5717-2248-4f60-9d89-9296cc8929a4",
   "metadata": {},
   "outputs": [],
   "source": [
    "# fragments\n",
    "for s in ['CC', 'NN', 'OO', 'FF']:\n",
    "    xyz_filepath = f'/data/sahre/projects/atomic-energies/data/bonding_trends/pbe0_data/row_2/fragments_single/{s}_opt.xyz'\n",
    "    mop_filepath = f'/data/sahre/projects/atomic-energies/data/bonding_trends/pm7/{s}_frag.mop'\n",
    "    pm7.generate_input(xyz_filepath, mop_filepath)"
   ]
  },
  {
   "cell_type": "code",
   "execution_count": 4,
   "id": "09e017b2-e049-4a3e-b885-daa3fd3e27c6",
   "metadata": {},
   "outputs": [
    {
     "name": "stdout",
     "output_type": "stream",
     "text": [
      "/data/sahre/projects/atomic-energies/data/bonding_trends/pbe0_data/row_2/diatomics_single/CC_opt.xyz\n",
      "/data/sahre/projects/atomic-energies/data/bonding_trends/pbe0_data/row_2/diatomics_single/CN_opt.xyz\n",
      "/data/sahre/projects/atomic-energies/data/bonding_trends/pbe0_data/row_2/diatomics_single/CO_opt.xyz\n",
      "/data/sahre/projects/atomic-energies/data/bonding_trends/pbe0_data/row_2/diatomics_single/CF_opt.xyz\n",
      "/data/sahre/projects/atomic-energies/data/bonding_trends/pbe0_data/row_2/diatomics_single/NN_opt.xyz\n",
      "/data/sahre/projects/atomic-energies/data/bonding_trends/pbe0_data/row_2/diatomics_single/NO_opt.xyz\n",
      "/data/sahre/projects/atomic-energies/data/bonding_trends/pbe0_data/row_2/diatomics_single/NF_opt.xyz\n",
      "/data/sahre/projects/atomic-energies/data/bonding_trends/pbe0_data/row_2/diatomics_single/OO_opt.xyz\n",
      "/data/sahre/projects/atomic-energies/data/bonding_trends/pbe0_data/row_2/diatomics_single/OF_opt.xyz\n",
      "/data/sahre/projects/atomic-energies/data/bonding_trends/pbe0_data/row_2/diatomics_single/FF_opt.xyz\n"
     ]
    }
   ],
   "source": [
    "# diatomics\n",
    "elements = ['C', 'N', 'O', 'F']\n",
    "for s1 in range(4):\n",
    "    for s2 in range(s1, 4):\n",
    "        smiles = f'{elements[s1]}{elements[s2]}'\n",
    "        xyz_filepath = f'/data/sahre/projects/atomic-energies/data/bonding_trends/pbe0_data/row_2/diatomics_single/{smiles}_opt.xyz'\n",
    "        print(xyz_filepath)\n",
    "        mop_filepath = f'/data/sahre/projects/atomic-energies/data/bonding_trends/pm7/{smiles}.mop'\n",
    "        pm7.generate_input(xyz_filepath, mop_filepath)"
   ]
  },
  {
   "cell_type": "code",
   "execution_count": 12,
   "id": "afc1b774-6be0-4eb7-abd4-4cc3a1c528b7",
   "metadata": {},
   "outputs": [
    {
     "data": {
      "text/plain": [
       "['/data/sahre/projects/atomic-energies/data/bonding_trends/pm7/thermo/CN.mop',\n",
       " '/data/sahre/projects/atomic-energies/data/bonding_trends/pm7/thermo/CC_frag.mop',\n",
       " '/data/sahre/projects/atomic-energies/data/bonding_trends/pm7/thermo/CO.mop',\n",
       " '/data/sahre/projects/atomic-energies/data/bonding_trends/pm7/thermo/NN_frag.mop',\n",
       " '/data/sahre/projects/atomic-energies/data/bonding_trends/pm7/thermo/FF.mop',\n",
       " '/data/sahre/projects/atomic-energies/data/bonding_trends/pm7/thermo/CF.mop',\n",
       " '/data/sahre/projects/atomic-energies/data/bonding_trends/pm7/thermo/test.mop',\n",
       " '/data/sahre/projects/atomic-energies/data/bonding_trends/pm7/thermo/FF_frag.mop',\n",
       " '/data/sahre/projects/atomic-energies/data/bonding_trends/pm7/thermo/OF.mop',\n",
       " '/data/sahre/projects/atomic-energies/data/bonding_trends/pm7/thermo/OO.mop',\n",
       " '/data/sahre/projects/atomic-energies/data/bonding_trends/pm7/thermo/NN.mop',\n",
       " '/data/sahre/projects/atomic-energies/data/bonding_trends/pm7/thermo/CC.mop',\n",
       " '/data/sahre/projects/atomic-energies/data/bonding_trends/pm7/thermo/OO_frag.mop',\n",
       " '/data/sahre/projects/atomic-energies/data/bonding_trends/pm7/thermo/NF.mop',\n",
       " '/data/sahre/projects/atomic-energies/data/bonding_trends/pm7/thermo/NO.mop']"
      ]
     },
     "execution_count": 12,
     "metadata": {},
     "output_type": "execute_result"
    }
   ],
   "source": [
    "# modify mop-files\n",
    "import glob\n",
    "glob.glob('/data/sahre/projects/atomic-energies/data/bonding_trends/pm7/thermo/*.mop')"
   ]
  },
  {
   "cell_type": "code",
   "execution_count": 14,
   "id": "d13feae1-ad33-4b36-a10a-303f8c460bec",
   "metadata": {},
   "outputs": [],
   "source": [
    "paths = ['/data/sahre/projects/atomic-energies/data/bonding_trends/pm7/thermo/CN.mop',\n",
    " '/data/sahre/projects/atomic-energies/data/bonding_trends/pm7/thermo/CO.mop',\n",
    " '/data/sahre/projects/atomic-energies/data/bonding_trends/pm7/thermo/NN_frag.mop',\n",
    " '/data/sahre/projects/atomic-energies/data/bonding_trends/pm7/thermo/FF.mop',\n",
    " '/data/sahre/projects/atomic-energies/data/bonding_trends/pm7/thermo/CF.mop',\n",
    " '/data/sahre/projects/atomic-energies/data/bonding_trends/pm7/thermo/FF_frag.mop',\n",
    " '/data/sahre/projects/atomic-energies/data/bonding_trends/pm7/thermo/OF.mop',\n",
    " '/data/sahre/projects/atomic-energies/data/bonding_trends/pm7/thermo/OO.mop',\n",
    " '/data/sahre/projects/atomic-energies/data/bonding_trends/pm7/thermo/NN.mop',\n",
    " '/data/sahre/projects/atomic-energies/data/bonding_trends/pm7/thermo/CC.mop',\n",
    " '/data/sahre/projects/atomic-energies/data/bonding_trends/pm7/thermo/OO_frag.mop',\n",
    " '/data/sahre/projects/atomic-energies/data/bonding_trends/pm7/thermo/NF.mop',\n",
    " '/data/sahre/projects/atomic-energies/data/bonding_trends/pm7/thermo/NO.mop']"
   ]
  },
  {
   "cell_type": "code",
   "execution_count": 15,
   "id": "d2b79c85-9a9a-4403-ac31-d94ddcd0dfef",
   "metadata": {},
   "outputs": [],
   "source": [
    "#mopfile_path = '/data/sahre/projects/atomic-energies/data/bonding_trends/pm7/thermo/CC_frag.mop'\n",
    "for mopfile_path in paths:\n",
    "    with open(mopfile_path, 'r') as f:\n",
    "        mopfile = f.readlines()\n",
    "        mopfile[0] = 'PRECISE ' + mopfile[0]\n",
    "        append = ['\\n', 'oldgeo Thermo=(100,200)\\n', 'Comment 1\\n', 'Comment 2\\n']\n",
    "        mopfile.extend(append)\n",
    "\n",
    "    with open(mopfile_path, 'w') as f:\n",
    "        f.writelines(mopfile)"
   ]
  },
  {
   "cell_type": "code",
   "execution_count": 5,
   "id": "6c013022-fa33-44e2-abe3-f2766ddfd015",
   "metadata": {},
   "outputs": [],
   "source": [
    "# parse PM7 .arc file for heat of formation\n",
    "\n",
    "import glob\n",
    "\n",
    "# heat of formation\n",
    "hof = dict()\n",
    "hof_frag = dict()\n",
    "\n",
    "arcfiles = glob.glob('/data/sahre/projects/atomic-energies/data/bonding_trends/pm7/*.arc')\n",
    "\n",
    "for a in arcfiles:\n",
    "    name = a.split('/')[-1].split('.')[0]\n",
    "    with open(a, 'r') as f:\n",
    "        for line in f:\n",
    "            if 'HEAT OF FORMATION' in line:\n",
    "                if 'frag' in name:\n",
    "                    hof_frag[name] = float(line.split()[4])\n",
    "                else:\n",
    "                    hof[name] = float(line.split()[4])"
   ]
  },
  {
   "cell_type": "code",
   "execution_count": 6,
   "id": "c40405fe-acfb-46bd-a27c-6429e95efc10",
   "metadata": {},
   "outputs": [],
   "source": [
    "bde = dict()\n",
    "# diatomics\n",
    "elements = ['C', 'N', 'O', 'F']\n",
    "for s1 in range(4):\n",
    "    for s2 in range(s1, 4):\n",
    "        mol = elements[s1] + elements[s2]\n",
    "        e_frag1 = hof_frag[f'{mol[0]*2}_frag']\n",
    "        e_frag2 = hof_frag[f'{mol[1]*2}_frag']\n",
    "\n",
    "        bde[mol] = -(hof[mol] - e_frag1 - e_frag2)"
   ]
  },
  {
   "cell_type": "code",
   "execution_count": 11,
   "id": "1c8a9fe3-eba4-4f24-b716-5c2fea895750",
   "metadata": {},
   "outputs": [],
   "source": [
    "import utils_qm as uqm\n",
    "uqm.save_obj(bde, '/data/sahre/projects/atomic-energies/data/bonding_trends/pm7/bde_pm7')\n"
   ]
  },
  {
   "cell_type": "code",
   "execution_count": 12,
   "id": "bf38a8b1-f44d-489d-96b5-e37fd485155d",
   "metadata": {},
   "outputs": [
    {
     "data": {
      "text/plain": [
       "[<matplotlib.lines.Line2D at 0x7f5b7e6103d0>]"
      ]
     },
     "execution_count": 12,
     "metadata": {},
     "output_type": "execute_result"
    },
    {
     "data": {
      "image/png": "[encoded data removed]",
      "text/plain": [
       "<Figure size 432x288 with 1 Axes>"
      ]
     },
     "metadata": {
      "needs_background": "light"
     },
     "output_type": "display_data"
    }
   ],
   "source": [
    "from matplotlib import pyplot as plt\n",
    "\n",
    "plt.plot(bde.values())"
   ]
  },
  {
   "cell_type": "code",
   "execution_count": 60,
   "id": "64252853-2a1a-4a12-868d-741861661176",
   "metadata": {},
   "outputs": [
    {
     "data": {
      "text/plain": [
       "dict_values([-74.13705999999999, -73.12332, -84.16457, -96.23496, -68.13438000000001, -61.309020000000004, -58.824490000000004, -44.73897, -43.40669, -53.64506])"
      ]
     },
     "execution_count": 60,
     "metadata": {},
     "output_type": "execute_result"
    }
   ],
   "source": []
  },
  {
   "cell_type": "code",
   "execution_count": 44,
   "id": "86262aac-bda7-4eb1-89f0-720b4c3185bd",
   "metadata": {},
   "outputs": [
    {
     "name": "stdout",
     "output_type": "stream",
     "text": [
      "Value error excepted in /data/sahre/projects/atomic-energies/data/bonding_trends/pm7/thermo/CC.out\n"
     ]
    }
   ],
   "source": [
    "# parse PM7 .out file for heat of formation, ZPE and vib+rot\n",
    "\n",
    "import glob\n",
    "\n",
    "# heat of formation\n",
    "properties = dict()\n",
    "\n",
    "outfiles = glob.glob('/data/sahre/projects/atomic-energies/data/bonding_trends/pm7/thermo/*.out')\n",
    "\n",
    "for a in outfiles:\n",
    "    name = a.split('/')[-1].split('.')[0]\n",
    "    prop_dict = {'hof':0, 'ZPE':0, 'enthalpy':0}\n",
    "    with open(a, 'r') as f:\n",
    "        for line in f:\n",
    "            if 'ZERO POINT ENERGY' in line:\n",
    "                try:\n",
    "                    prop_dict['ZPE'] = float(line.split()[3])\n",
    "                except ValueError:\n",
    "                    print(f'Value error excepted in {a}')\n",
    "\n",
    "            if 'CALCULATED THERMODYNAMIC PROPERTIES' in line:\n",
    "                thd_line = ''\n",
    "                for i in range(10):\n",
    "                    thd_line=f.readline()\n",
    "                heat_formation, enthalpy = float(thd_line.split()[1]), float(thd_line.split()[2])/1000\n",
    "                prop_dict['hof'] = heat_formation\n",
    "                prop_dict['enthalpy'] = enthalpy\n",
    "    prop_dict['energy'] = prop_dict['hof'] - prop_dict['enthalpy'] - prop_dict['ZPE']\n",
    "    properties[name] = prop_dict"
   ]
  },
  {
   "cell_type": "code",
   "execution_count": 46,
   "id": "49558c98-9a7a-475f-9989-a18656e5ea64",
   "metadata": {},
   "outputs": [],
   "source": [
    "bde = dict()\n",
    "# diatomics\n",
    "elements = ['C', 'N', 'O', 'F']\n",
    "for s1 in range(4):\n",
    "    for s2 in range(s1, 4):\n",
    "        mol = elements[s1] + elements[s2]\n",
    "        e_frag1 = properties[f'{mol[0]*2}_frag']['energy']\n",
    "        e_frag2 = properties[f'{mol[1]*2}_frag']['energy']\n",
    "\n",
    "        bde[mol] = -(properties[mol]['energy'] - e_frag1 - e_frag2)"
   ]
  },
  {
   "cell_type": "code",
   "execution_count": 51,
   "id": "555c9575-26ed-4069-b19b-c5658773b631",
   "metadata": {},
   "outputs": [
    {
     "data": {
      "text/plain": [
       "[<matplotlib.lines.Line2D at 0x7f6693200160>]"
      ]
     },
     "execution_count": 51,
     "metadata": {},
     "output_type": "execute_result"
    },
    {
     "data": {
      "image/png": "[encoded data removed]",
      "text/plain": [
       "<Figure size 432x288 with 1 Axes>"
      ]
     },
     "metadata": {
      "needs_background": "light"
     },
     "output_type": "display_data"
    }
   ],
   "source": [
    "from matplotlib import pyplot as plt\n",
    "plt.plot(bde.values())"
   ]
  },
  {
   "cell_type": "code",
   "execution_count": 52,
   "id": "41f67f25-d21a-4721-8cd1-66f6cfe0e516",
   "metadata": {},
   "outputs": [],
   "source": [
    "import utils_qm as uqm\n",
    "uqm.save_obj(bde, '/data/sahre/projects/atomic-energies/data/bonding_trends/pm7/bde_pm7_corrected')\n"
   ]
  }
 ],
 "metadata": {
  "kernelspec": {
   "display_name": "Python 3",
   "language": "python",
   "name": "python3"
  },
  "language_info": {
   "codemirror_mode": {
    "name": "ipython",
    "version": 3
   },
   "file_extension": ".py",
   "mimetype": "text/x-python",
   "name": "python",
   "nbconvert_exporter": "python",
   "pygments_lexer": "ipython3",
   "version": "3.9.5"
  }
 },
 "nbformat": 4,
 "nbformat_minor": 5
}
