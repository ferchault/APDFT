{
 "cells": [
  {
   "cell_type": "code",
   "execution_count": 1,
   "id": "a78a45eb-957a-486c-b44b-e2c36400a29a",
   "metadata": {},
   "outputs": [],
   "source": [
    "import pandas as pd\n",
    "import numpy as np\n",
    "from matplotlib import pyplot as plt\n",
    "\n",
    "import sys\n",
    "sys.path.insert(0, '/home/sahre/git_repositories/APDFT/prototyping/atomic_energies/')\n",
    "import utils_qm as uqm\n",
    "import bt_tools as bt\n",
    "\n",
    "from scipy.optimize import curve_fit\n",
    "from scipy.stats import linregress"
   ]
  },
  {
   "cell_type": "code",
   "execution_count": 2,
   "id": "65fdd365-4ab3-40be-86e0-15ab6166a2c3",
   "metadata": {},
   "outputs": [],
   "source": [
    "data = pd.read_csv('/data/sahre/projects/atomic-energies/data/bonding_trends/pbe0_data/energies_homolytic.csv')\n",
    "data_2 = data.loc[(data['Z1'] >= 6) & (data['Z1'] <= 9) & (data['Z2'] >= 6) & (data['Z2'] <= 9)].to_dict('list')\n",
    "data_3 = data.loc[(data['Z1'] >= 14) & (data['Z2'] >= 14) & (data['Z1'] <= 17) & (data['Z2'] <= 17)].to_dict('list')\n",
    "data_4 = data.loc[(data['Z1'] >= 32) & (data['Z2'] >= 32) & (data['Z1'] <= 35) & (data['Z2'] <= 35)].to_dict('list')\n",
    "data_234 = data.loc[(data['Z1'] <= 9) & (data['Z2'] <= 9) | (data['Z1'] >= 14) & (data['Z2'] >= 14) & (data['Z1'] <= 17) & (data['Z2'] <= 17) | (data['Z1'] >= 32) & (data['Z2'] >= 32) & (data['Z1'] <= 35) & (data['Z2'] <= 35)].to_dict('list')\n",
    "\n",
    "for d in [data_2, data_3, data_4, data_234]:\n",
    "    d['unit'] = 630\n",
    "    d['bfe type'] = 'homo'\n",
    "    #d['nbfe'] = np.array(d['Z1'])*np.array(d['Z2'])-(np.array(d['Z1'])+np.array(d['Z2']))"
   ]
  },
  {
   "cell_type": "markdown",
   "id": "2e118a95-8ee8-4954-aa7c-41764aa78100",
   "metadata": {},
   "source": [
    "### one optimized gamma for all rows"
   ]
  },
  {
   "cell_type": "code",
   "execution_count": 40,
   "id": "43249b1b-ecef-470a-97dd-d063e2110844",
   "metadata": {
    "tags": []
   },
   "outputs": [
    {
     "name": "stderr",
     "output_type": "stream",
     "text": [
      "/home/sahre/opt/miniconda3/envs/qm-tools/lib/python3.9/site-packages/scipy/optimize/minpack.py:828: OptimizeWarning: Covariance of the parameters could not be estimated\n",
      "  warnings.warn('Covariance of the parameters could not be estimated',\n"
     ]
    }
   ],
   "source": [
    "# non-linear fits\n",
    "\n",
    "def non_linear_model(var, a, b, c):\n",
    "    Z1, Z2 = var.T\n",
    "#     gamma = 7/3\n",
    "    ebfe = -a**2 - b**2*Z1*Z2 - c**2*(Z1**(gamma)+Z2**(gamma))\n",
    "    return(ebfe)\n",
    "gammas = []\n",
    "MAEs= []\n",
    "# do linear fits\n",
    "b2_nl = bt.BDE_clean.fromdict(data_2)\n",
    "b3_nl = bt.BDE_clean.fromdict(data_3)\n",
    "b4_nl = bt.BDE_clean.fromdict(data_4)\n",
    "for gamma in np.linspace(0.5, 4, 50):\n",
    "    overall_mae = []\n",
    "    \n",
    "    p2 = [14.68820305, 24.89036038,  1.40953664]\n",
    "    p3 = [19.81710356, 24.92342986,  1.22294599]\n",
    "    p4 = [33.3052603 , 24.97639216,  0.90171214]\n",
    "    \n",
    "    for b, p0 in zip([b2_nl, b3_nl, b4_nl], [p2, p3, p4]):\n",
    "\n",
    "        b.fit(non_linear_model, p0=p0)\n",
    "        #print('MAE = ' + str((np.abs(b.bde-b.bde_fitted)).mean()))\n",
    "        rounded_MAE = np.round((np.abs(b.bde-b.bde_fitted)).mean(),2)\n",
    "        rounded_MAE_std = np.round(rounded_MAE/b.bde.std(), 2)\n",
    "#         print(f'MAE = {rounded_MAE} ({rounded_MAE_std})')\n",
    "        overall_mae.append((np.abs(b.bde-b.bde_fitted)).mean())\n",
    "    MAE = (np.array(overall_mae)).mean()\n",
    "    #print(f'gamma = {gamma}, MAE = {MAE}')\n",
    "    \n",
    "    gammas.append(gamma)\n",
    "    MAEs.append(MAE)"
   ]
  },
  {
   "cell_type": "code",
   "execution_count": 4,
   "id": "044ca3ed-57fa-4ef4-a6be-fd605f910bd4",
   "metadata": {},
   "outputs": [
    {
     "data": {
      "text/plain": [
       "(array([29]),)"
      ]
     },
     "execution_count": 4,
     "metadata": {},
     "output_type": "execute_result"
    }
   ],
   "source": [
    "np.where(np.amin(MAEs) == MAEs)"
   ]
  },
  {
   "cell_type": "code",
   "execution_count": 5,
   "id": "d206918f-76aa-4b3f-9a2b-4bdc668965eb",
   "metadata": {},
   "outputs": [
    {
     "data": {
      "text/plain": [
       "2.309183673469388"
      ]
     },
     "execution_count": 5,
     "metadata": {},
     "output_type": "execute_result"
    }
   ],
   "source": [
    "gammas[29]"
   ]
  },
  {
   "cell_type": "code",
   "execution_count": 6,
   "id": "6edebdc8-79b0-4b33-aae5-12e44e699acb",
   "metadata": {},
   "outputs": [
    {
     "data": {
      "text/plain": [
       "1.8339116602291066"
      ]
     },
     "execution_count": 6,
     "metadata": {},
     "output_type": "execute_result"
    }
   ],
   "source": [
    "np.amin(MAEs)"
   ]
  },
  {
   "cell_type": "code",
   "execution_count": 41,
   "id": "b12cee2a-fcee-4287-aa0e-e7ad20e4a271",
   "metadata": {},
   "outputs": [
    {
     "data": {
      "text/plain": [
       "Text(0, 0.5, 'MAE (kcal/mol)')"
      ]
     },
     "execution_count": 41,
     "metadata": {},
     "output_type": "execute_result"
    },
    {
     "data": {
      "image/png": "[encoded data removed]",
      "text/plain": [
       "<Figure size 432x288 with 1 Axes>"
      ]
     },
     "metadata": {
      "needs_background": "light"
     },
     "output_type": "display_data"
    }
   ],
   "source": [
    "plt.rcParams['font.size'] = 18\n",
    "plt.plot(gammas, MAEs, '-')\n",
    "plt.xlabel(r'$\\gamma$')\n",
    "plt.ylabel('MAE (kcal/mol)')\n",
    "\n",
    "# plt.savefig('/home/sahre/work/bonding_trends/figures/results/opt_gamma_close.png')"
   ]
  },
  {
   "cell_type": "markdown",
   "id": "fcf55e53-b0ef-4759-857b-6d417e9f5a89",
   "metadata": {},
   "source": [
    "### optimize gamma for each row"
   ]
  },
  {
   "cell_type": "code",
   "execution_count": 8,
   "id": "ea43983b-44fa-4dc5-ba22-afa3483fab5b",
   "metadata": {},
   "outputs": [
    {
     "name": "stdout",
     "output_type": "stream",
     "text": [
      "1.02\n",
      "[15.07345978 24.89377596  1.27717297  2.40610777]\n",
      "2.23\n",
      "[16.55029921 24.91592806  1.59612864  2.17940637]\n",
      "2.07\n",
      "[39.30814049 24.98342978  0.56041203  2.56082421]\n"
     ]
    }
   ],
   "source": [
    "# non-linear fits\n",
    "\n",
    "def non_linear_model(var, a, b, c, gamma):\n",
    "    Z1, Z2 = var.T\n",
    "#     gamma = 7/3\n",
    "    ebfe = -a**2 - b**2*Z1*Z2 - c**2*(Z1**(gamma)+Z2**(gamma))\n",
    "    return(ebfe)\n",
    "\n",
    "# do linear fits\n",
    "b2_nl = bt.BDE_clean.fromdict(data_2)\n",
    "b3_nl = bt.BDE_clean.fromdict(data_3)\n",
    "b4_nl = bt.BDE_clean.fromdict(data_4)\n",
    "\n",
    "\n",
    "p2 = [1, 1,  1, 1]\n",
    "p3 = [19.81710356, 24.92342986,  1.22294599, 2.17]\n",
    "p4 = [33.3052603 , 24.97639216,  0.90171214, 2.5]\n",
    "\n",
    "for b, p0 in zip([b2_nl, b3_nl, b4_nl], [p2, p3, p4]):\n",
    "\n",
    "    b.fit(non_linear_model, p0=p0)\n",
    "    #print('MAE = ' + str((np.abs(b.bde-b.bde_fitted)).mean()))\n",
    "    rounded_MAE = np.round((np.abs(b.bde-b.bde_fitted)).mean(),2)\n",
    "    rounded_MAE_std = np.round(rounded_MAE/b.bde.std(), 2)\n",
    "    print(rounded_MAE)\n",
    "    print(b.params[0])"
   ]
  },
  {
   "cell_type": "code",
   "execution_count": 9,
   "id": "90f8261d-b197-4e07-809d-bb5e7424ccc4",
   "metadata": {},
   "outputs": [
    {
     "data": {
      "text/plain": [
       "1.7733333333333334"
      ]
     },
     "execution_count": 9,
     "metadata": {},
     "output_type": "execute_result"
    }
   ],
   "source": [
    "(1.02+2.23+2.07)/3"
   ]
  },
  {
   "cell_type": "code",
   "execution_count": 18,
   "id": "9f865a6a-9c4c-4853-a017-a2b07cd42aa2",
   "metadata": {},
   "outputs": [
    {
     "name": "stderr",
     "output_type": "stream",
     "text": [
      "/home/sahre/opt/miniconda3/envs/qm-tools/lib/python3.9/site-packages/scipy/optimize/minpack.py:828: OptimizeWarning: Covariance of the parameters could not be estimated\n",
      "  warnings.warn('Covariance of the parameters could not be estimated',\n"
     ]
    }
   ],
   "source": [
    "# non-linear fits\n",
    "\n",
    "def non_linear_model(var, a, b, c):\n",
    "    Z1, Z2 = var.T\n",
    "#     gamma = 7/3\n",
    "    ebfe = -a**2 - b**2*Z1*Z2 - c**2*(Z1**(gamma)+Z2**(gamma))\n",
    "    return(ebfe)\n",
    "\n",
    "# do linear fits\n",
    "b2_nl = bt.BDE_clean.fromdict(data_2)\n",
    "b3_nl = bt.BDE_clean.fromdict(data_3)\n",
    "b4_nl = bt.BDE_clean.fromdict(data_4)\n",
    "\n",
    "\n",
    "p2 = [15, 24,  1.9]\n",
    "p3 = [19.81710356, 24.92342986,  1.22294599]\n",
    "p4 = [33.3052603 , 24.97639216,  0.90171214]\n",
    "\n",
    "maes = []\n",
    "for gamma in np.linspace(0.5, 4, 50):\n",
    "    mae_row = []\n",
    "    for b, p0 in zip([b2_nl, b3_nl, b4_nl], [p2, p3, p4]):\n",
    "\n",
    "        b.fit(non_linear_model, p0=p0)\n",
    "        #print('MAE = ' + str((np.abs(b.bde-b.bde_fitted)).mean()))\n",
    "        rounded_MAE = np.round((np.abs(b.bde-b.bde_fitted)).mean(),2)\n",
    "        rounded_MAE_std = np.round(rounded_MAE/b.bde.std(), 2)\n",
    "#         print(rounded_MAE)\n",
    "#         print(b.params[0])\n",
    "        mae_row.append((np.abs(b.bde-b.bde_fitted)).mean())\n",
    "    maes.append(mae_row)"
   ]
  },
  {
   "cell_type": "code",
   "execution_count": 50,
   "id": "8e6d9e54-6ce1-4d5f-a30f-2d73382b9433",
   "metadata": {},
   "outputs": [
    {
     "data": {
      "image/png": "[encoded data removed]",
      "text/plain": [
       "<Figure size 432x288 with 1 Axes>"
      ]
     },
     "metadata": {
      "needs_background": "light"
     },
     "output_type": "display_data"
    }
   ],
   "source": [
    "gamma_val = np.linspace(0.5, 4, 50)\n",
    "fig, ax = plt.subplots(1,1)\n",
    "ax.plot(gamma_val, np.array(maes)[:,0], label = 'row 2')\n",
    "ax.plot(gamma_val, np.array(maes)[:,1], label = 'row 3')\n",
    "ax.plot(gamma_val, np.array(maes)[:,2], label = 'row 4')\n",
    "\n",
    "ax.plot(gammas, MAEs, '--', label = 'all rows')\n",
    "\n",
    "ax.vlines(7/3, 0.8, 10, linestyles = '--', linewidth = 1, color= 'tab:gray')\n",
    "ax.legend(frameon= False, bbox_to_anchor = (1.05,1))\n",
    "ax.set_ylim([0.8, 10.4])\n",
    "ax.set_xticks([1,2,7/3,3,4])\n",
    "ax.set_xticklabels(['1','2','7/3','3','4'])\n",
    "ax.set_xlabel(r'$\\gamma$')\n",
    "ax.set_ylabel('MAE (kcal/mol)')\n",
    "\n",
    "plt.savefig('/home/sahre/work/bonding_trends/figures/results/opt_gamma.png', bbox_inches = 'tight', dpi=600)"
   ]
  },
  {
   "cell_type": "code",
   "execution_count": null,
   "id": "b14102f0-864b-4114-b5f2-e986de845b99",
   "metadata": {},
   "outputs": [],
   "source": [
    "plt.rcParams['font.size'] = 18\n",
    "plt.plot(gammas, MAEs, '-')\n",
    "plt.xlabel(r'$\\gamma$')\n",
    "plt.ylabel('MAE (kcal/mol)')"
   ]
  },
  {
   "cell_type": "code",
   "execution_count": null,
   "id": "624bc1da-2aa6-44ba-ac94-a25e93881d79",
   "metadata": {},
   "outputs": [],
   "source": []
  },
  {
   "cell_type": "code",
   "execution_count": null,
   "id": "0b54a9bb-5356-4764-a9fd-caa7037f5c44",
   "metadata": {},
   "outputs": [],
   "source": []
  },
  {
   "cell_type": "code",
   "execution_count": null,
   "id": "4e0d02aa-6834-4bcc-b9d1-c68540899615",
   "metadata": {},
   "outputs": [],
   "source": [
    "def gamma(Z, gamma_exp, a, c):\n",
    "    return(c*np.power(Z, gamma_exp) + a)"
   ]
  },
  {
   "cell_type": "code",
   "execution_count": null,
   "id": "11a447ac-fc54-40f8-8f52-c02ac54429b6",
   "metadata": {},
   "outputs": [],
   "source": [
    "n = 4\n",
    "if n == 2:\n",
    "    Z = np.array([6,7,8,9])\n",
    "    b = b2\n",
    "elif n ==3:\n",
    "    Z = np.array([14,15,16,17])\n",
    "    b = b3\n",
    "\n",
    "elif n == 4:\n",
    "    Z = np.array([32,33,34,35])\n",
    "    b = b4\n",
    "\n",
    "out = linregress(np.power(Z, 7/3), b.linear_params[:4])\n",
    "out_nl = curve_fit(gamma, Z, b.linear_params[:4], p0 = [4, out[1], out[0]], maxfev = 1000000)"
   ]
  },
  {
   "cell_type": "code",
   "execution_count": null,
   "id": "18b71bf4-970e-4c92-8020-407c9f0eabcf",
   "metadata": {},
   "outputs": [],
   "source": [
    "plt.plot(np.power(Z, 7/3), b.linear_params[:4], '-o')\n",
    "plt.plot(np.power(Z, 7/3), out[0]*np.power(Z, 7/3)+out[1], '-o')\n",
    "plt.plot(np.power(Z, 7/3), gamma(Z, out_nl[0][0], out_nl[0][1],  out_nl[0][2]), '-o')"
   ]
  },
  {
   "cell_type": "code",
   "execution_count": null,
   "id": "5ae1bebb-b108-4a43-a70e-53aba1387a1c",
   "metadata": {},
   "outputs": [],
   "source": [
    "out_nl[0]"
   ]
  },
  {
   "cell_type": "code",
   "execution_count": null,
   "id": "b21baff8-8370-4415-8368-4128777b02ac",
   "metadata": {},
   "outputs": [],
   "source": [
    "n = 4\n",
    "gamma_row = []\n",
    "a_row = []\n",
    "c_row = []\n",
    "linear_params = []\n",
    "for n in [2,3,4]:\n",
    "\n",
    "    if n == 2:\n",
    "        Z = np.array([6,7,8,9])\n",
    "        b = b2\n",
    "    elif n ==3:\n",
    "        Z = np.array([14,15,16,17])\n",
    "        b = b3\n",
    "\n",
    "    elif n == 4:\n",
    "        Z = np.array([32,33,34,35])\n",
    "        b = b4\n",
    "\n",
    "    out = linregress(np.power(Z, 7/3), b.linear_params[:4])\n",
    "    out_nl = curve_fit(gamma, Z, b.linear_params[:4], p0 = [4, out[1], out[0]], maxfev = 1000000)\n",
    "    \n",
    "    gamma_row.append(out_nl[0][0])\n",
    "    a_row.append(out[1])\n",
    "    c_row.append(out[0])\n",
    "    linear_params.extend(b.linear_params[:4])"
   ]
  },
  {
   "cell_type": "code",
   "execution_count": null,
   "id": "ebfbe797-cf6d-4383-8e14-16601dcb9811",
   "metadata": {},
   "outputs": [],
   "source": [
    "alphas = []\n",
    "for b in [b2, b3, b4]:\n",
    "    alphas.extend(b.linear_params[:4])\n",
    "    \n",
    "Zs = np.array( [6,7,8,9,14,15,16,17,32,33,34,35] )"
   ]
  },
  {
   "cell_type": "code",
   "execution_count": null,
   "id": "e7cef40e-78e8-49fb-8c0b-3c4cc6256200",
   "metadata": {},
   "outputs": [],
   "source": [
    "def gamma_rows(Z, gamma_exp, a2, a3, a4, c2, c3, c4):\n",
    "    Z2 = Z[:4]\n",
    "    Z3 = Z[4:8]\n",
    "    Z4 = Z[8:]\n",
    "    alpha2 = c2*np.power(Z2, gamma_exp) + a2\n",
    "    alpha3 = c3*np.power(Z3, gamma_exp) + a3\n",
    "    alpha4 = c4*np.power(Z4, gamma_exp) + a4\n",
    "    alphas = []\n",
    "    alphas.extend(alpha2)\n",
    "    alphas.extend(alpha3)\n",
    "    alphas.extend(alpha4)\n",
    "    return(alphas)"
   ]
  },
  {
   "cell_type": "code",
   "execution_count": null,
   "id": "00affbb6-3779-452a-baec-a626c7796c13",
   "metadata": {},
   "outputs": [],
   "source": [
    "a2, a3, a4 = a_row\n",
    "c2, c3, c4 = c_row"
   ]
  },
  {
   "cell_type": "code",
   "execution_count": null,
   "id": "1a69f633-1f66-46df-9faa-86e86d3d0858",
   "metadata": {},
   "outputs": [],
   "source": [
    "out_row = curve_fit(gamma_rows, Zs,linear_params , p0 = [7/3, a2, a3, a4, c2, c3, c4], maxfev = 1000000)"
   ]
  },
  {
   "cell_type": "code",
   "execution_count": null,
   "id": "beea6ee8-b54e-4e5f-b3ea-95710330cd36",
   "metadata": {},
   "outputs": [],
   "source": [
    "gamma_opt = out_row[0][0]"
   ]
  },
  {
   "cell_type": "code",
   "execution_count": null,
   "id": "f6e4066b-385e-459c-bda5-20e7fbdc3bfb",
   "metadata": {},
   "outputs": [],
   "source": [
    "gamma_opt"
   ]
  },
  {
   "cell_type": "code",
   "execution_count": null,
   "id": "4397269f-be22-401c-8d95-038f06dff73f",
   "metadata": {},
   "outputs": [],
   "source": [
    "plt.plot(alphas)\n",
    "plt.plot(gamma_rows(Zs, *out_row[0]))"
   ]
  },
  {
   "cell_type": "code",
   "execution_count": null,
   "id": "9e480a3e-2bbb-4bf3-9634-48a4f2d1dedd",
   "metadata": {},
   "outputs": [],
   "source": []
  },
  {
   "cell_type": "code",
   "execution_count": null,
   "id": "a47b237e-67b0-410f-9601-26e977ff2e28",
   "metadata": {},
   "outputs": [],
   "source": []
  },
  {
   "cell_type": "code",
   "execution_count": null,
   "id": "4e157492-3f6e-4430-960c-052595b85187",
   "metadata": {},
   "outputs": [],
   "source": [
    "bde = {'Li-X':[109.2, 180.4, 188, 193.5, 302.4, 430.3, 572.9],\n",
    "      'BeH-X':[297.7, 342.3, 380.4, 503.1, 613.3, 739],\n",
    "      'BH2-X':[431.6, 426.8, 583.3, 626, 705.4],\n",
    "      'CH3-X':[359.2, 337.7, 370.2, 452],\n",
    "      'NH2-X':[259.6, 253.5, 283.6],\n",
    "      'OH-X':[195.2, 194.9],\n",
    "      'F-X':[151.7]}"
   ]
  },
  {
   "cell_type": "code",
   "execution_count": null,
   "id": "d06f0533-6e98-4307-8a8d-6cf799db56a1",
   "metadata": {},
   "outputs": [],
   "source": [
    "bdes_paper = []\n",
    "for frag in ['CH3-X', 'NH2-X', 'OH-X', 'F-X']:\n",
    "    bdes_paper.extend(bde[frag])"
   ]
  },
  {
   "cell_type": "code",
   "execution_count": null,
   "id": "35bfe6d8-09b5-4a00-8a8f-7be2bc48c5ad",
   "metadata": {},
   "outputs": [],
   "source": [
    "# bfe_paper = -np.array(bdes_paper)*0.00038\n",
    "bfe_paper = -np.array([369.7, 347.3, 378.8, 459.2, 268.4, 261.2, 289.6, 212.5, 199.8, 155.3])*0.00038\n",
    "data_2_paper = data_2.copy()\n",
    "data_2_paper['bfe'] = bfe_paper"
   ]
  },
  {
   "cell_type": "code",
   "execution_count": null,
   "id": "45a04f0e-661e-46df-82de-eaf575b55916",
   "metadata": {},
   "outputs": [],
   "source": [
    "b2_paper = bt.BDE_clean.fromdict(data_2_paper)"
   ]
  },
  {
   "cell_type": "code",
   "execution_count": null,
   "id": "d342ba9e-f89d-40f2-ba57-453403ee011c",
   "metadata": {},
   "outputs": [],
   "source": [
    "b2_paper.linear_fit()"
   ]
  },
  {
   "cell_type": "code",
   "execution_count": null,
   "id": "251a89a3-8987-4fe0-82d2-87c9a6542e59",
   "metadata": {},
   "outputs": [],
   "source": [
    "Z = np.array([6,7,8,9])\n",
    "plt.plot(Z**(7/3), b2_paper.linear_params[:4], '-o')"
   ]
  },
  {
   "cell_type": "code",
   "execution_count": null,
   "id": "a3abc2bf-dc01-45f2-9f02-833e8e1556d7",
   "metadata": {},
   "outputs": [],
   "source": [
    "out_paper = linregress(Z**(7/3), b2_paper.linear_params[:4])"
   ]
  },
  {
   "cell_type": "code",
   "execution_count": null,
   "id": "c99053e8-4fd0-4192-b2eb-253f7c57cc58",
   "metadata": {},
   "outputs": [],
   "source": []
  },
  {
   "cell_type": "code",
   "execution_count": null,
   "id": "b6bffbaa-7f94-464b-9929-6042277906c0",
   "metadata": {},
   "outputs": [],
   "source": [
    "(Z**(7/3)*(out_paper[0])+out_paper[1]) -b2_paper.linear_params[:4]"
   ]
  },
  {
   "cell_type": "code",
   "execution_count": null,
   "id": "946b80a8-591f-438c-a732-6fd233a66109",
   "metadata": {},
   "outputs": [],
   "source": [
    "out_paper_Z = linregress(Z, b2_paper.linear_params[:4])"
   ]
  },
  {
   "cell_type": "code",
   "execution_count": null,
   "id": "c9730533-d426-4e1f-b744-5630cdbe6f0d",
   "metadata": {},
   "outputs": [],
   "source": [
    "(Z*(out_paper_Z[0])+out_paper_Z[1]) -b2_paper.linear_params[:4]"
   ]
  },
  {
   "cell_type": "code",
   "execution_count": null,
   "id": "81a9166a-d06f-4be0-aedc-f65a6a9a86f8",
   "metadata": {},
   "outputs": [],
   "source": []
  },
  {
   "cell_type": "code",
   "execution_count": null,
   "id": "b165c7d5-c655-443a-9e8a-2b329bdda69c",
   "metadata": {},
   "outputs": [],
   "source": [
    "curve_fit(gamma, Z,b2_paper.linear_params[:4] , p0 = [7/3, -1.9007544123454694,-82.88715824487872 ], maxfev = 1000000)"
   ]
  },
  {
   "cell_type": "code",
   "execution_count": null,
   "id": "c29e8dc5-7d12-475e-9303-5036c7bc351a",
   "metadata": {},
   "outputs": [],
   "source": []
  }
 ],
 "metadata": {
  "kernelspec": {
   "display_name": "Python 3",
   "language": "python",
   "name": "python3"
  },
  "language_info": {
   "codemirror_mode": {
    "name": "ipython",
    "version": 3
   },
   "file_extension": ".py",
   "mimetype": "text/x-python",
   "name": "python",
   "nbconvert_exporter": "python",
   "pygments_lexer": "ipython3",
   "version": "3.9.5"
  }
 },
 "nbformat": 4,
 "nbformat_minor": 5
}
