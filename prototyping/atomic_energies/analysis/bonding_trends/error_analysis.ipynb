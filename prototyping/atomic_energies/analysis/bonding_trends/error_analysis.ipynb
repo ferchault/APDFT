{
 "cells": [
  {
   "cell_type": "code",
   "execution_count": 1,
   "id": "b2ca6c81-f0cc-421a-9ebb-6c83c1fa72d8",
   "metadata": {},
   "outputs": [],
   "source": [
    "import pandas as pd\n",
    "import numpy as np\n",
    "from matplotlib import pyplot as plt\n",
    "\n",
    "import sys\n",
    "sys.path.insert(0, '/home/sahre/git_repositories/APDFT/prototyping/atomic_energies/')\n",
    "import utils_qm as uqm\n",
    "import bt_tools as bt\n",
    "\n",
    "from scipy.stats import linregress"
   ]
  },
  {
   "cell_type": "code",
   "execution_count": 2,
   "id": "d4b2cd60-fd9d-4964-bea7-38f8fcd042b7",
   "metadata": {},
   "outputs": [
    {
     "name": "stdout",
     "output_type": "stream",
     "text": [
      "MAE = 0.51 (0.02)\n",
      "MAE = 0.39 (0.03)\n",
      "MAE = 0.33 (0.03)\n"
     ]
    }
   ],
   "source": [
    "data = pd.read_csv('/data/sahre/projects/atomic-energies/data/bonding_trends/pbe0_data/energies_homolytic.csv')\n",
    "data_2 = data.loc[(data['Z1'] >= 6) & (data['Z1'] <= 9) & (data['Z2'] >= 6) & (data['Z2'] <= 9)].to_dict('list')\n",
    "data_3 = data.loc[(data['Z1'] >= 14) & (data['Z2'] >= 14) & (data['Z1'] <= 17) & (data['Z2'] <= 17)].to_dict('list')\n",
    "data_4 = data.loc[(data['Z1'] >= 32) & (data['Z2'] >= 32) & (data['Z1'] <= 35) & (data['Z2'] <= 35)].to_dict('list')\n",
    "data_234 = data.loc[(data['Z1'] <= 9) & (data['Z2'] <= 9) | (data['Z1'] >= 14) & (data['Z2'] >= 14) & (data['Z1'] <= 17) & (data['Z2'] <= 17) | (data['Z1'] >= 32) & (data['Z2'] >= 32) & (data['Z1'] <= 35) & (data['Z2'] <= 35)].to_dict('list')\n",
    "\n",
    "for d in [data_2, data_3, data_4, data_234]:\n",
    "    d['unit'] = 630\n",
    "    d['bfe type'] = 'homo'\n",
    "    \n",
    "# do linear fits\n",
    "b2 = bt.BDE_clean.fromdict(data_2)\n",
    "b3 = bt.BDE_clean.fromdict(data_3)\n",
    "b4 = bt.BDE_clean.fromdict(data_4)\n",
    "for b in [b2, b3, b4]:\n",
    "    b.linear_fit()\n",
    "    rounded_MAE = np.round((np.abs(b.bde-b.bde_fitted)).mean(),2)\n",
    "    rounded_MAE_std = np.round(rounded_MAE/b.bde.std(), 2)\n",
    "    print(f'MAE = {rounded_MAE} ({rounded_MAE_std})')"
   ]
  },
  {
   "cell_type": "markdown",
   "id": "3215799d-fcb0-4676-873d-50c78f743a26",
   "metadata": {},
   "source": [
    "### Why is the MAE of SRL* twice as high for the 3rd/4th row compared to the 2nd row?"
   ]
  },
  {
   "cell_type": "markdown",
   "id": "7bfc865c-09a1-4149-9817-d5c91c6ab1bc",
   "metadata": {},
   "source": [
    "The fit of the intercept n(Z) = -Z^{7/3} * a + b becomes less accurate - No, see below"
   ]
  },
  {
   "cell_type": "code",
   "execution_count": 3,
   "id": "e55670ba-b050-4b31-ac64-ff792087742b",
   "metadata": {},
   "outputs": [],
   "source": [
    "def regression_n(bt_model):\n",
    "    return(linregress(-np.unique(bt_model.Z1)**(7/3), bt_model.linear_params[:4]))\n",
    "\n",
    "def mae_regression_n(bt_model, slope, intercept):\n",
    "    n_pred = -np.unique(bt_model.Z1)**(7/3)*slope + intercept\n",
    "    mae_n = (np.abs(n_pred-bt_model.linear_params[:4])).mean()\n",
    "    return(mae_n)"
   ]
  },
  {
   "cell_type": "code",
   "execution_count": 4,
   "id": "dcb8f2a6-3dae-4df4-8811-fdda18191698",
   "metadata": {},
   "outputs": [
    {
     "name": "stdout",
     "output_type": "stream",
     "text": [
      "MAE_n = 3.235591608419199\n",
      "MAE_n = 6.572313759901554\n",
      "MAE_n = 23.026760898987362\n"
     ]
    }
   ],
   "source": [
    "for bt_model in [b2, b3, b4]:\n",
    "    fit_n = regression_n(bt_model)\n",
    "    mae_n = mae_regression_n(bt_model, fit_n[0], fit_n[1])\n",
    "    print(f'MAE_n = {mae_n}')"
   ]
  },
  {
   "cell_type": "markdown",
   "id": "a1806661-4af2-4c59-afb5-d9422cd6367d",
   "metadata": {},
   "source": [
    "the error in n increases but the total MAE is the same for 3rd and 4th row (even somewhat higher for row 3) but the error in n is significantly\n",
    "higher for row 4."
   ]
  },
  {
   "cell_type": "markdown",
   "id": "6146d4dc-3877-4b80-9cbf-9ab1bd62d360",
   "metadata": {},
   "source": [
    "m is approximated by setting the intercept = 0"
   ]
  },
  {
   "cell_type": "code",
   "execution_count": 3,
   "id": "0892d573-4b9e-454a-9f06-e2a96fbd486c",
   "metadata": {},
   "outputs": [
    {
     "name": "stdout",
     "output_type": "stream",
     "text": [
      "MAE = 1.0 (0.04)\n",
      "MAE = 2.35 (0.17)\n",
      "MAE = 2.17 (0.21)\n"
     ]
    }
   ],
   "source": [
    "# non-linear fits\n",
    "\n",
    "def non_linear_model(var, a, b, c):\n",
    "    Z1, Z2 = var.T\n",
    "    ebfe = -a**2 - b**2*Z1*Z2 -c**2*(Z1**(7/3)+Z2**(7/3))\n",
    "    return(ebfe)\n",
    "\n",
    "def non_linear_model2(var, a, b, c, d):\n",
    "    Z1, Z2 = var.T\n",
    "    ebfe = -a**2 - b**2*Z1*Z2 -c**2*(Z1**(7/3)+Z2**(7/3)) - d**2*(Z1+Z2)\n",
    "    return(ebfe)\n",
    "\n",
    "# do linear fits\n",
    "b2_nl = bt.BDE_clean.fromdict(data_2)\n",
    "b3_nl = bt.BDE_clean.fromdict(data_3)\n",
    "b4_nl = bt.BDE_clean.fromdict(data_4)\n",
    "\n",
    "for b in [b2_nl, b3_nl, b4_nl]:\n",
    "    b.fit(non_linear_model)\n",
    "    #print('MAE = ' + str((np.abs(b.bde-b.bde_fitted)).mean()))\n",
    "    rounded_MAE = np.round((np.abs(b.bde-b.bde_fitted)).mean(),2)\n",
    "    rounded_MAE_std = np.round(rounded_MAE/b.bde.std(), 2)\n",
    "    print(f'MAE = {rounded_MAE} ({rounded_MAE_std})')"
   ]
  },
  {
   "cell_type": "code",
   "execution_count": 8,
   "id": "d6b00271-3fe8-4126-ae94-197e005ddbd8",
   "metadata": {},
   "outputs": [
    {
     "name": "stdout",
     "output_type": "stream",
     "text": [
      "MAE = 1.0 (0.04)\n",
      "MAE = 2.25 (0.16)\n",
      "MAE = 2.17 (0.21)\n"
     ]
    }
   ],
   "source": [
    "for b in [b2_nl, b3_nl, b4_nl]:\n",
    "    p0 = [14.68820343, 24.89036036,  1.40953674, 1.9]\n",
    "    b.fit(non_linear_model2, p0)\n",
    "    #print('MAE = ' + str((np.abs(b.bde-b.bde_fitted)).mean()))\n",
    "    rounded_MAE = np.round((np.abs(b.bde-b.bde_fitted)).mean(),2)\n",
    "    rounded_MAE_std = np.round(rounded_MAE/b.bde.std(), 2)\n",
    "    print(f'MAE = {rounded_MAE} ({rounded_MAE_std})')"
   ]
  },
  {
   "cell_type": "markdown",
   "id": "3f0177e6-7154-47ab-85d9-8e0713bac884",
   "metadata": {},
   "source": [
    "error does not shrink after including intercept"
   ]
  },
  {
   "cell_type": "code",
   "execution_count": null,
   "id": "0fead6a5-ec40-4e22-b3eb-bbce819fb32f",
   "metadata": {},
   "outputs": [],
   "source": []
  },
  {
   "cell_type": "code",
   "execution_count": 50,
   "id": "938e20af-681e-4c29-a3cc-73f46fdbdfdd",
   "metadata": {},
   "outputs": [],
   "source": [
    "def regression_m(bt_model):\n",
    "    return(linregress(np.unique(bt_model.Z1), bt_model.linear_params[4:]))\n",
    "\n",
    "def mae_regression_m(bt_model, slope, intercept):\n",
    "    m_pred = np.unique(bt_model.Z1)*slope\n",
    "    mae_m = (np.abs(m_pred-bt_model.linear_params[4:])).mean()\n",
    "    return(mae_m)"
   ]
  },
  {
   "cell_type": "code",
   "execution_count": 58,
   "id": "723b1cc2-64a1-4c77-8532-0d0186ea8a63",
   "metadata": {},
   "outputs": [
    {
     "name": "stdout",
     "output_type": "stream",
     "text": [
      "MAE = 3.7299474001645763\n",
      "relative MAE = -624.0844877482359\n",
      "MAE = 54.08571975528025\n",
      "relative MAE = -89.95468872693034\n",
      "MAE = 89.55191341561203\n",
      "relative MAE = -117.74423808560603\n"
     ]
    }
   ],
   "source": [
    "for bt_model in [b2, b3, b4]:\n",
    "    fit = regression_m(bt_model)\n",
    "    mae = mae_regression_m(bt_model, fit[0], fit[1])\n",
    "    print(f'MAE = {mae}')\n",
    "    mean_m = (bt_model.linear_params[4:]).mean()\n",
    "    print(f'relative MAE = {mean_m/mae}')"
   ]
  },
  {
   "cell_type": "code",
   "execution_count": 56,
   "id": "bedf55b8-e9ec-4bcb-8fd6-a72e9fa113d6",
   "metadata": {},
   "outputs": [
    {
     "data": {
      "text/plain": [
       "array([-10075.38138735, -10389.11255914, -10700.56311238, -11011.83019805])"
      ]
     },
     "execution_count": 56,
     "metadata": {},
     "output_type": "execute_result"
    }
   ],
   "source": [
    "b4.linear_params[4:]"
   ]
  },
  {
   "cell_type": "code",
   "execution_count": 59,
   "id": "5ca12929-3462-4cbc-8e52-297dae0ae0a9",
   "metadata": {},
   "outputs": [
    {
     "data": {
      "text/plain": [
       "-2327.8023125595737"
      ]
     },
     "execution_count": 59,
     "metadata": {},
     "output_type": "execute_result"
    }
   ],
   "source": [
    "(b2.linear_params[4:]).mean()"
   ]
  },
  {
   "cell_type": "code",
   "execution_count": 60,
   "id": "723abf45-40de-43d3-899b-4b930935ea54",
   "metadata": {},
   "outputs": [
    {
     "data": {
      "text/plain": [
       "array([-1863.63375531, -2171.8344303 , -2482.86217204, -2792.87889258])"
      ]
     },
     "execution_count": 60,
     "metadata": {},
     "output_type": "execute_result"
    }
   ],
   "source": [
    "b2.linear_params[4:]"
   ]
  },
  {
   "cell_type": "code",
   "execution_count": null,
   "id": "dabf139a-0412-4251-8f4a-51b748669e63",
   "metadata": {},
   "outputs": [],
   "source": []
  },
  {
   "cell_type": "code",
   "execution_count": 68,
   "id": "481c691f-fef2-4276-855c-b5778091734a",
   "metadata": {},
   "outputs": [
    {
     "name": "stdout",
     "output_type": "stream",
     "text": [
      "1.4209260451113332\n",
      "0.03951613513788087\n"
     ]
    }
   ],
   "source": [
    "print(np.array(data_2['d']).mean())\n",
    "\n",
    "print(np.array(data_2['d']).std())"
   ]
  },
  {
   "cell_type": "code",
   "execution_count": 70,
   "id": "f0b17504-a979-4b54-9415-7797f1d27113",
   "metadata": {},
   "outputs": [
    {
     "name": "stdout",
     "output_type": "stream",
     "text": [
      "2.1242470361150305\n",
      "0.10957615917580538\n"
     ]
    }
   ],
   "source": [
    "print(np.array(data_3['d']).mean())\n",
    "\n",
    "print(np.array(data_3['d']).std())"
   ]
  },
  {
   "cell_type": "code",
   "execution_count": 71,
   "id": "3fc3eec1-90ff-4ea2-b16c-8cfc1b95fe3c",
   "metadata": {},
   "outputs": [
    {
     "name": "stdout",
     "output_type": "stream",
     "text": [
      "2.3617545069795702\n",
      "0.05459063155952384\n"
     ]
    }
   ],
   "source": [
    "print(np.array(data_4['d']).mean())\n",
    "\n",
    "print(np.array(data_4['d']).std())"
   ]
  },
  {
   "cell_type": "code",
   "execution_count": null,
   "id": "5ec4ee1e-28e8-49d2-b9b6-3aad741de674",
   "metadata": {},
   "outputs": [],
   "source": [
    "row 3 has largest variation in bond length?\n",
    "\n",
    "fit for row 2 fit different bond lengths?"
   ]
  },
  {
   "cell_type": "code",
   "execution_count": 75,
   "id": "dd01a1fb-9002-4451-9d2f-368748aaf8ae",
   "metadata": {},
   "outputs": [
    {
     "data": {
      "text/plain": [
       "[<matplotlib.lines.Line2D at 0x7fb23d92d160>]"
      ]
     },
     "execution_count": 75,
     "metadata": {},
     "output_type": "execute_result"
    },
    {
     "data": {
      "image/png": "[encoded data removed]",
      "text/plain": [
       "<Figure size 432x288 with 1 Axes>"
      ]
     },
     "metadata": {
      "needs_background": "light"
     },
     "output_type": "display_data"
    }
   ],
   "source": [
    "plt.plot(data_2['d'], '-o')\n",
    "plt.plot(np.array(data_3['d'])-0.8, '-o')"
   ]
  },
  {
   "cell_type": "code",
   "execution_count": null,
   "id": "e4d231cf-7c19-4339-b739-a98d260678f2",
   "metadata": {},
   "outputs": [],
   "source": []
  },
  {
   "cell_type": "code",
   "execution_count": 13,
   "id": "83c6b227-b6ef-46cc-87eb-096b1c87f37e",
   "metadata": {},
   "outputs": [
    {
     "data": {
      "text/plain": [
       "array([ -207.46062624,  -269.66896789,  -324.2954636 ,  -398.26655654,\n",
       "       -1863.63375531, -2171.8344303 , -2482.86217204, -2792.87889258])"
      ]
     },
     "execution_count": 13,
     "metadata": {},
     "output_type": "execute_result"
    }
   ],
   "source": [
    "b2.linear_params"
   ]
  },
  {
   "cell_type": "code",
   "execution_count": 15,
   "id": "38459230-83de-4d50-8ab2-a68aeac6d500",
   "metadata": {},
   "outputs": [],
   "source": []
  },
  {
   "cell_type": "code",
   "execution_count": 13,
   "id": "fdde71b7-b233-4603-b2c8-1b412ea7b252",
   "metadata": {},
   "outputs": [
    {
     "name": "stdout",
     "output_type": "stream",
     "text": [
      "MAE = 1.0 (0.04)\n",
      "MAE = 2.35 (0.17)\n",
      "MAE = 2.17 (0.21)\n"
     ]
    }
   ],
   "source": [
    "# non-linear fits\n",
    "\n",
    "def non_linear_model(var, a, b, c):\n",
    "    Z1, Z2 = var.T\n",
    "    ebfe = -a**2 - b**2*Z1*Z2 -c**2*(Z1**(7/3)+Z2**(7/3))\n",
    "    return(ebfe)\n",
    "\n",
    "def non_linear_model2(var, a, b, c, d):\n",
    "    Z1, Z2 = var.T\n",
    "    ebfe = -a**2 - b**2*Z1*Z2 -c**2*(Z1**(7/3)+Z2**(7/3)) - d**2*(Z1+Z2)\n",
    "    return(ebfe)\n",
    "\n",
    "# do linear fits\n",
    "b2_nl = bt.BDE_clean.fromdict(data_2)\n",
    "b3_nl = bt.BDE_clean.fromdict(data_3)\n",
    "b4_nl = bt.BDE_clean.fromdict(data_4)\n",
    "\n",
    "for b in [b2_nl, b3_nl, b4_nl]:\n",
    "    b.fit(non_linear_model)\n",
    "    #print('MAE = ' + str((np.abs(b.bde-b.bde_fitted)).mean()))\n",
    "    rounded_MAE = np.round((np.abs(b.bde-b.bde_fitted)).mean(),2)\n",
    "    rounded_MAE_std = np.round(rounded_MAE/b.bde.std(), 2)\n",
    "    print(f'MAE = {rounded_MAE} ({rounded_MAE_std})')"
   ]
  },
  {
   "cell_type": "code",
   "execution_count": null,
   "id": "7295c066-d62f-4e82-84d6-de9e0c82bece",
   "metadata": {},
   "outputs": [],
   "source": []
  },
  {
   "cell_type": "code",
   "execution_count": 14,
   "id": "f94db861-c495-4699-98fb-5d19be9818f1",
   "metadata": {},
   "outputs": [
    {
     "data": {
      "text/plain": [
       "{32.0: [-10075.381387352314, -183.90347682358447],\n",
       " 33.0: [-10389.112559141588, -221.2149583358041],\n",
       " 34.0: [-10700.563112377517, -350.30570718033823],\n",
       " 35.0: [-11011.830198046187, -488.0425236957225]}"
      ]
     },
     "execution_count": 14,
     "metadata": {},
     "output_type": "execute_result"
    }
   ],
   "source": [
    "reg_dict"
   ]
  },
  {
   "cell_type": "code",
   "execution_count": 31,
   "id": "939a110c-8afb-4bb3-aed5-d7e89abdccc8",
   "metadata": {},
   "outputs": [
    {
     "data": {
      "text/plain": [
       "<matplotlib.legend.Legend at 0x7fb62a6be100>"
      ]
     },
     "execution_count": 31,
     "metadata": {},
     "output_type": "execute_result"
    },
    {
     "data": {
      "image/png": "[encoded data removed]",
      "text/plain": [
       "<Figure size 432x288 with 3 Axes>"
      ]
     },
     "metadata": {
      "needs_background": "light"
     },
     "output_type": "display_data"
    }
   ],
   "source": [
    "fig, ax = plt.subplots(1,3)\n",
    "\n",
    "for row in [2,3,4]:\n",
    "    if row == 2:\n",
    "        bt_model_nl = b2_nl\n",
    "        bt_model = b2\n",
    "    elif row == 3:\n",
    "        bt_model_nl = b3_nl\n",
    "        bt_model = b3\n",
    "    elif row == 4:\n",
    "        bt_model_nl = b4_nl\n",
    "        bt_model = b4\n",
    "        \n",
    "    a, b, c = bt_model_nl.params[0]**2\n",
    "    #a, b, c, d = bt_model_nl.params[0]**2\n",
    "\n",
    "# dict with Z:[m,n]\n",
    "    intercepts = bt_model.linear_params[:4]\n",
    "    slopes = bt_model.linear_params[4:]\n",
    "    unique_charges = np.sort(np.unique(bt_model.Z1))\n",
    "\n",
    "    reg_dict = dict()\n",
    "    for Z, m, n in zip(unique_charges, slopes, intercepts):\n",
    "        reg_dict[Z] = [m,n]\n",
    "\n",
    "    m_contr = []\n",
    "    n_contr = []\n",
    "    m_contr_nl = []\n",
    "    n_contr_nl = []\n",
    "    for ZA, ZB in bt_model.xdata:\n",
    "        # calculate slope contribution SRL\n",
    "        mA = reg_dict[ZA][0]\n",
    "        mB = reg_dict[ZB][0]\n",
    "        m_contr.append(mA*ZB + mB*ZA)\n",
    "\n",
    "        # calculate intercept contribution SRL\n",
    "        nA = reg_dict[ZA][1]\n",
    "        nB = reg_dict[ZB][1]\n",
    "        n_contr.append(nA + nB)\n",
    "\n",
    "        # calculate slope contribution SRL*\n",
    "        m_contr_nl.append(-b*ZA*ZB)\n",
    "        # calculate intercept contribution SRL*\n",
    "        n_contr_nl.append(-c*(ZA**(7/3) + ZB**(7/3)) - a)\n",
    "\n",
    "    m_contr = np.array(m_contr)\n",
    "    n_contr = np.array(n_contr)\n",
    "    m_contr_nl = np.array(m_contr_nl)\n",
    "    n_contr_nl = np.array(n_contr_nl)\n",
    "\n",
    "    ax[0].plot(m_contr-m_contr_nl, label = f'row {row}')\n",
    "    ax[0].set_yscale('symlog')\n",
    "    ax[1].set_yscale('log')\n",
    "    ax[1].plot(n_contr-n_contr_nl)\n",
    "    ax[2].plot(m_contr-m_contr_nl+n_contr-n_contr_nl)\n",
    "\n",
    "    fig.tight_layout()\n",
    "ax[0].legend()"
   ]
  },
  {
   "cell_type": "code",
   "execution_count": 26,
   "id": "d1adb3fb-7248-4573-a0f2-05756955e26b",
   "metadata": {},
   "outputs": [
    {
     "data": {
      "text/plain": [
       "[<matplotlib.lines.Line2D at 0x7fb62ab538b0>]"
      ]
     },
     "execution_count": 26,
     "metadata": {},
     "output_type": "execute_result"
    },
    {
     "data": {
      "image/png": "[encoded data removed]",
      "text/plain": [
       "<Figure size 432x288 with 1 Axes>"
      ]
     },
     "metadata": {
      "needs_background": "light"
     },
     "output_type": "display_data"
    }
   ],
   "source": [
    "plt.plot(n_contr-n_contr_nl)"
   ]
  },
  {
   "cell_type": "code",
   "execution_count": 27,
   "id": "3f8292c7-7e3a-4e29-a1a7-ff0577958551",
   "metadata": {},
   "outputs": [
    {
     "data": {
      "text/plain": [
       "[<matplotlib.lines.Line2D at 0x7fb62ab130a0>]"
      ]
     },
     "execution_count": 27,
     "metadata": {},
     "output_type": "execute_result"
    },
    {
     "data": {
      "image/png": "[encoded data removed]",
      "text/plain": [
       "<Figure size 432x288 with 1 Axes>"
      ]
     },
     "metadata": {
      "needs_background": "light"
     },
     "output_type": "display_data"
    }
   ],
   "source": [
    "plt.plot(m_contr-m_contr_nl)"
   ]
  },
  {
   "cell_type": "code",
   "execution_count": 20,
   "id": "27b72e8b-9427-4542-a25d-935f40120e6a",
   "metadata": {},
   "outputs": [
    {
     "data": {
      "text/plain": [
       "array([  -183.90347682,   -221.21495834,   -350.30570718,   -488.0425237 ,\n",
       "       -10075.38138735, -10389.11255914, -10700.56311238, -11011.83019805])"
      ]
     },
     "execution_count": 20,
     "metadata": {},
     "output_type": "execute_result"
    }
   ],
   "source": [
    "b4.linear_params"
   ]
  },
  {
   "cell_type": "code",
   "execution_count": 21,
   "id": "ebfa1417-6c6f-45f7-b256-bdcdaf004ee0",
   "metadata": {},
   "outputs": [
    {
     "data": {
      "text/plain": [
       "(array([14.68820343, 24.89036036,  1.40953674]),\n",
       " array([[ 1.02136382e-02, -5.04618959e-04,  1.75519773e-03],\n",
       "        [-5.04618959e-04,  4.26183073e-05, -1.63560862e-04],\n",
       "        [ 1.75519773e-03, -1.63560862e-04,  6.36013981e-04]]))"
      ]
     },
     "execution_count": 21,
     "metadata": {},
     "output_type": "execute_result"
    }
   ],
   "source": [
    "b2_nl.params"
   ]
  },
  {
   "cell_type": "code",
   "execution_count": 22,
   "id": "3490580c-3a9a-415e-848e-b14c9f934190",
   "metadata": {},
   "outputs": [
    {
     "data": {
      "text/plain": [
       "(array([ 19.81709891, -24.92342996,   1.22294566]),\n",
       " array([[4.71486215e-01, 1.00419252e-02, 3.44385268e-02],\n",
       "        [1.00419252e-02, 2.40022315e-04, 8.39349025e-04],\n",
       "        [3.44385268e-02, 8.39349025e-04, 2.94426499e-03]]))"
      ]
     },
     "execution_count": 22,
     "metadata": {},
     "output_type": "execute_result"
    }
   ],
   "source": [
    "b3_nl.params"
   ]
  },
  {
   "cell_type": "code",
   "execution_count": 23,
   "id": "e1fefe3d-56ae-46d6-a964-eb8fb2b91081",
   "metadata": {},
   "outputs": [
    {
     "data": {
      "text/plain": [
       "(array([33.30520795, 24.9763926 ,  0.90171052]),\n",
       " array([[ 3.07051975e+00, -2.50972721e-02,  9.20145300e-02],\n",
       "        [-2.50972721e-02,  2.10130729e-04, -7.73508634e-04],\n",
       "        [ 9.20145300e-02, -7.73508634e-04,  2.84923801e-03]]))"
      ]
     },
     "execution_count": 23,
     "metadata": {},
     "output_type": "execute_result"
    }
   ],
   "source": [
    "b4_nl.params"
   ]
  },
  {
   "cell_type": "code",
   "execution_count": 34,
   "id": "bd75dafe-f591-4569-9067-8f76da1b4619",
   "metadata": {},
   "outputs": [
    {
     "data": {
      "text/plain": [
       "35.14433825606829"
      ]
     },
     "execution_count": 34,
     "metadata": {},
     "output_type": "execute_result"
    }
   ],
   "source": [
    "np.amax(b4.bde)-np.amin(b4.bde)"
   ]
  }
 ],
 "metadata": {
  "kernelspec": {
   "display_name": "Python 3",
   "language": "python",
   "name": "python3"
  },
  "language_info": {
   "codemirror_mode": {
    "name": "ipython",
    "version": 3
   },
   "file_extension": ".py",
   "mimetype": "text/x-python",
   "name": "python",
   "nbconvert_exporter": "python",
   "pygments_lexer": "ipython3",
   "version": "3.9.5"
  }
 },
 "nbformat": 4,
 "nbformat_minor": 5
}
