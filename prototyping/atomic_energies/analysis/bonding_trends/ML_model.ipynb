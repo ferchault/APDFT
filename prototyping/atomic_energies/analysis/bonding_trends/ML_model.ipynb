{
 "cells": [
  {
   "cell_type": "markdown",
   "id": "a67c8b0a-f53a-4c39-ada4-6b215f17e4f6",
   "metadata": {},
   "source": [
    "### ML-model"
   ]
  },
  {
   "cell_type": "code",
   "execution_count": 101,
   "id": "f02fe570-aa45-44ae-885a-a678f5574cac",
   "metadata": {},
   "outputs": [],
   "source": [
    "import pandas as pd\n",
    "import numpy as np\n",
    "import qml\n",
    "\n",
    "import sys\n",
    "sys.path.insert(0, '/home/sahre/git_repositories/APDFT/prototyping/atomic_energies')\n",
    "import qml_interface as qmi\n",
    "import utils_qm as uqm\n",
    "import hyperparameter_optimization as hp\n",
    "\n",
    "def split_data_by_index(data, subset1_indices):\n",
    "    subset1 = data[subset1_indices]\n",
    "    \n",
    "    indices = np.arange(len(data))\n",
    "    subset2_indices = indices[[i for i in range(len(data)) if i not in subset1_indices]]\n",
    "    subset2 = data[subset2_indices]\n",
    "    \n",
    "    return(subset1, subset2)\n",
    "\n",
    "# read energies, smiles\n",
    "# data = pd.read_csv('/data/sahre/projects/atomic-energies/data/bonding_trends/pbe0_data/all_energies.csv')\n",
    "# row2 = data.loc[(data['Z1'] >= 6) & (data['Z1'] <= 9) & (data['Z2'] >= 6) & (data['Z2'] <= 9)]\n",
    "# smiles = list(row2['smiles'])\n",
    "# energies = -630*np.array(row2['bfe']) # BDE in kcal/mol\n",
    "\n",
    "data_W4_17 = pd.read_csv('/data/sahre/projects/atomic-energies/data/bonding_trends/other_data/W4-17.csv')\n",
    "smiles = data_W4_17['smiles']\n",
    "energies = -np.array(data_W4_17['bfe']) # BDE in kcal/mol\n",
    "\n",
    "# read structures, make representations\n",
    "reps = []\n",
    "for s in smiles:\n",
    "    p = f'/data/sahre/projects/atomic-energies/data/bonding_trends/pbe0_data/row_2/diatomics_single/{s}_opt.xyz'\n",
    "    comp = qml.Compound(p)\n",
    "    #comp.generate_coulomb_matrix(size=8, sorting=\"row-norm\")\n",
    "    \n",
    "    comp.generate_bob(size=8, asize={\"O\":2, \"C\":2, \"N\":2, \"F\":2,\"H\":6})\n",
    "    \n",
    "    reps.append(comp.representation)\n",
    "\n",
    "reps = np.array(reps)"
   ]
  },
  {
   "cell_type": "code",
   "execution_count": 102,
   "id": "279b485f-8e1d-43fd-b16b-c34f20b4359c",
   "metadata": {},
   "outputs": [
    {
     "data": {
      "text/plain": [
       "array([ 0.        ,  0.        ,  0.        ,  0.        ,  0.        ,\n",
       "        0.        ,  0.        ,  0.        ,  0.        ,  0.        ,\n",
       "        0.        ,  0.        ,  0.        ,  0.        ,  0.        ,\n",
       "        0.        ,  0.        ,  0.        ,  0.        ,  0.        ,\n",
       "        0.        ,  0.        ,  0.        ,  0.        ,  0.        ,\n",
       "        0.        ,  0.        , 36.8581052 , 36.8581052 , 23.70322967,\n",
       "        0.        ,  0.        ,  0.        ,  0.        ,  0.        ,\n",
       "        0.        ,  0.        ,  0.        ,  5.49108811,  5.49108717,\n",
       "        5.49108685,  5.49108541,  5.49108475,  5.49108224,  2.76401913,\n",
       "        2.76401776,  2.76401707,  2.76401421,  2.76401334,  2.76401319,\n",
       "        0.        ,  0.        ,  0.        ,  0.        ,  0.        ,\n",
       "        0.        ,  0.        ,  0.        ,  0.        ,  0.        ,\n",
       "        0.        ,  0.        ,  0.        ,  0.        ,  0.        ,\n",
       "        0.        ,  0.        ,  0.        ,  0.        ,  0.        ,\n",
       "        0.        ,  0.        ,  0.        ,  0.        ,  0.        ,\n",
       "        0.        ,  0.        ,  0.        ,  0.        ,  0.        ,\n",
       "        0.        ,  0.        ,  0.        ,  0.        ,  0.5       ,\n",
       "        0.5       ,  0.5       ,  0.5       ,  0.5       ,  0.5       ,\n",
       "        0.5675426 ,  0.56754258,  0.56753962,  0.5675396 ,  0.56753935,\n",
       "        0.56753922,  0.39552455,  0.39552407,  0.39552295,  0.39498684,\n",
       "        0.39498641,  0.39498639,  0.32434871,  0.32434832,  0.3243482 ])"
      ]
     },
     "execution_count": 102,
     "metadata": {},
     "output_type": "execute_result"
    }
   ],
   "source": [
    "reps[0]"
   ]
  },
  {
   "cell_type": "code",
   "execution_count": 103,
   "id": "f3aeea6e-01d8-4c92-806c-7fbab4dd5689",
   "metadata": {},
   "outputs": [],
   "source": [
    "# from ase.visualize import view\n",
    "# import ase.io as aio\n",
    "# view(aio.read(f'/data/sahre/projects/atomic-energies/data/bonding_trends/pbe0_data/row_2/diatomics_single/CN_opt.xyz'))"
   ]
  },
  {
   "cell_type": "code",
   "execution_count": 110,
   "id": "901751c8-3a53-463c-ab52-5983797493ef",
   "metadata": {},
   "outputs": [
    {
     "name": "stdout",
     "output_type": "stream",
     "text": [
      "88.69431656014709\n",
      "92.45531098233575\n",
      "109.16317341936147\n",
      "100.46250617173413\n",
      "89.93066723187623\n",
      "88.69431656014709\n",
      "88.69431656014709\n",
      "89.93066723187623\n",
      "86.2723729246145\n",
      "88.69431656014709\n"
     ]
    }
   ],
   "source": [
    "test_predictions = []\n",
    "\n",
    "for test_ind in range(len(energies)):\n",
    "    # split into training and test\n",
    "    rep_test, rep_tr = split_data_by_index(reps, [test_ind])\n",
    "    label_test, labels_tr =  split_data_by_index(energies, [test_ind])\n",
    "\n",
    "    all_errors = 0\n",
    "\n",
    "    # for all possible splits of training data\n",
    "    # split in training and validation\n",
    "    \n",
    "    # optimize hyperparameters\n",
    "    sigma_grid = np.logspace(0, 3, 500) #np.logspace(2, 5, 100)\n",
    "    #sigma_grid = np.logspace(2, 5, 100)\n",
    "    lambda_val = 1e-7\n",
    "\n",
    "\n",
    "    possible_splittings = len(labels_tr)\n",
    "    for sigma_ind in range(possible_splittings):\n",
    "        # split training data in coeff_set and validation set\n",
    "        rep_sigma, rep_coeff = split_data_by_index(rep_tr, [sigma_ind])\n",
    "        label_sigma, label_coeff = split_data_by_index(labels_tr, [sigma_ind])\n",
    "\n",
    "        #lambda_grid = [1e-7]#[1e-7, 1e-5, 1e-3, 1e-2, 1e-1, 1, 10]\n",
    "        coeffs, errors = hp.sigma_grid_search(label_coeff, label_sigma, lambda_val, rep_coeff, rep_sigma, sigma_grid, \"gaussian\")\n",
    "        \n",
    "        #print(np.amin(errors))\n",
    "        \n",
    "        all_errors += errors\n",
    "\n",
    "    ind_min = np.where(all_errors == np.amin(all_errors))[0][0]\n",
    "    opt_sigma = sigma_grid[ind_min]\n",
    "    \n",
    "    print(opt_sigma)\n",
    "    #print(np.amin(all_errors/9))\n",
    "\n",
    "    coeffs = qmi.train_kernel(rep_tr, labels_tr, opt_sigma, lambda_val)\n",
    "\n",
    "\n",
    "\n",
    "    prediction_test = qmi.predict_labels(rep_test, rep_tr, opt_sigma, coeffs)[0]\n",
    "\n",
    "    test_predictions.append(prediction_test)\n",
    "\n",
    "    \n",
    "# predictions_cv = []\n",
    "# for k in test_predictions.keys():\n",
    "#     predictions_cv.append([test_predictions[k].mean(), test_predictions[k].std()])\n",
    "# predictions_cv = np.array(predictions_cv)"
   ]
  },
  {
   "cell_type": "code",
   "execution_count": 106,
   "id": "6743c7b1-6868-4e00-a5b9-08b76bbdd1c6",
   "metadata": {},
   "outputs": [
    {
     "data": {
      "text/plain": [
       "12.119324057759789"
      ]
     },
     "execution_count": 106,
     "metadata": {},
     "output_type": "execute_result"
    }
   ],
   "source": []
  },
  {
   "cell_type": "code",
   "execution_count": 66,
   "id": "cac236f8-c50c-467f-a386-a345c12c1a3d",
   "metadata": {},
   "outputs": [],
   "source": [
    "import copy"
   ]
  },
  {
   "cell_type": "code",
   "execution_count": 67,
   "id": "b02b1f6d-7f60-4545-b36c-30ff3ca884a6",
   "metadata": {},
   "outputs": [],
   "source": [
    "gaussian_bob = copy.deepcopy(test_predictions)"
   ]
  },
  {
   "cell_type": "code",
   "execution_count": 72,
   "id": "cb3e1232-c312-4a3d-a5d1-3549fefbc28d",
   "metadata": {},
   "outputs": [],
   "source": [
    "laplacian_bob = copy.deepcopy(test_predictions)"
   ]
  },
  {
   "cell_type": "code",
   "execution_count": 77,
   "id": "842fa3c9-fba9-4d1d-8a7c-b38e4f3b6ce8",
   "metadata": {},
   "outputs": [],
   "source": [
    "laplacian_cm = copy.deepcopy(test_predictions)"
   ]
  },
  {
   "cell_type": "code",
   "execution_count": 82,
   "id": "a909e540-fd59-44e8-ac31-c744890850dc",
   "metadata": {},
   "outputs": [],
   "source": [
    "gaussian_cm = copy.deepcopy(test_predictions)"
   ]
  },
  {
   "cell_type": "code",
   "execution_count": 68,
   "id": "7c6e6563-d105-4401-acfb-77aa39ce4237",
   "metadata": {},
   "outputs": [],
   "source": [
    "from matplotlib import pyplot as plt"
   ]
  },
  {
   "cell_type": "code",
   "execution_count": 90,
   "id": "76f03dc1-561f-423e-9e99-0acb8d9d1318",
   "metadata": {},
   "outputs": [
    {
     "data": {
      "text/plain": [
       "['CC', 'CN', 'CO', 'CF', 'NN', 'NO', 'NF', 'OO', 'OF', 'FF']"
      ]
     },
     "execution_count": 90,
     "metadata": {},
     "output_type": "execute_result"
    }
   ],
   "source": []
  },
  {
   "cell_type": "code",
   "execution_count": null,
   "id": "eacb0fc2-dad8-484f-a131-889ec8072506",
   "metadata": {},
   "outputs": [],
   "source": []
  },
  {
   "cell_type": "code",
   "execution_count": 93,
   "id": "a62450e8-ea01-4e5e-80c9-d84a4ec51cb1",
   "metadata": {},
   "outputs": [
    {
     "data": {
      "text/plain": [
       "Text(0, 0.5, 'BDE (kcal/mol)')"
      ]
     },
     "execution_count": 93,
     "metadata": {},
     "output_type": "execute_result"
    },
    {
     "data": {
      "image/png": "[encoded data removed]",
      "text/plain": [
       "<Figure size 432x288 with 1 Axes>"
      ]
     },
     "metadata": {
      "needs_background": "light"
     },
     "output_type": "display_data"
    }
   ],
   "source": [
    "plt.plot(smiles.to_list(), energies, \"-o\", label = \"ref\")\n",
    "plt.plot(gaussian_bob, '-o', label = 'gaussian_bob')\n",
    "plt.plot(laplacian_bob, '-o', label = 'laplacian_bob')\n",
    "plt.plot(laplacian_cm, '-o', label = 'laplacian_cm')\n",
    "plt.plot(gaussian_cm, '-o', label = 'gaussian_cm')\n",
    "plt.legend(bbox_to_anchor=(1.05,1))\n",
    "plt.xlabel('compound')\n",
    "plt.ylabel('BDE (kcal/mol)')\n"
   ]
  },
  {
   "cell_type": "code",
   "execution_count": 51,
   "id": "ddc6a3d1-f85f-445a-852c-51bae299684d",
   "metadata": {},
   "outputs": [
    {
     "data": {
      "text/plain": [
       "10.441272881324151"
      ]
     },
     "execution_count": 51,
     "metadata": {},
     "output_type": "execute_result"
    }
   ],
   "source": [
    "(np.abs(energies-np.array(test_predictions))).mean()"
   ]
  },
  {
   "cell_type": "code",
   "execution_count": 52,
   "id": "9b67f127-1d30-44c6-856e-375214eaee0b",
   "metadata": {},
   "outputs": [
    {
     "data": {
      "text/plain": [
       "[91.26710581901247,\n",
       " 88.18189047607495,\n",
       " 76.21197231876965,\n",
       " 70.20160155805426,\n",
       " 66.10231461195826,\n",
       " 69.76241876620196,\n",
       " 73.15921638499874,\n",
       " 55.055926236819516,\n",
       " 67.15394704817251,\n",
       " 42.12453793091599]"
      ]
     },
     "execution_count": 52,
     "metadata": {},
     "output_type": "execute_result"
    }
   ],
   "source": [
    "test_predictions"
   ]
  },
  {
   "cell_type": "code",
   "execution_count": 55,
   "id": "faea8c79-b24c-43b8-a805-b45d5d96cbba",
   "metadata": {},
   "outputs": [],
   "source": [
    "qml_dict = {'smiles':smiles.to_list(), 'BDE (kcal/mol)':test_predictions}\n",
    "uqm.save_obj(qml_dict, '/data/sahre/projects/atomic-energies/data/bonding_trends/other_data/bde_ml_W4-17_gaussian_bob')"
   ]
  },
  {
   "cell_type": "code",
   "execution_count": null,
   "id": "5b7410fd-45dd-40fe-88ac-d7dce87340d9",
   "metadata": {},
   "outputs": [],
   "source": []
  },
  {
   "cell_type": "code",
   "execution_count": null,
   "id": "3136c3f1-b39f-4d31-8d02-85b615b41d2b",
   "metadata": {},
   "outputs": [],
   "source": []
  },
  {
   "cell_type": "code",
   "execution_count": null,
   "id": "affa442f-6d96-4702-be10-93f032f24a8a",
   "metadata": {},
   "outputs": [],
   "source": []
  },
  {
   "cell_type": "code",
   "execution_count": null,
   "id": "3f22318e-7804-4b7b-bd9d-90668b627c4a",
   "metadata": {},
   "outputs": [],
   "source": []
  },
  {
   "cell_type": "code",
   "execution_count": null,
   "id": "34183609-05fb-4121-bc46-4a36f3d114f5",
   "metadata": {},
   "outputs": [],
   "source": [
    "test_predictions = {0:[], 1:[], 2:[], 3:[], 4:[], 5:[], 6:[], 7:[], 8:[], 9:[]}\n",
    "\n",
    "for test_ind in range(len(energies)):\n",
    "    # split into training and test\n",
    "    rep_test, rep_tr = split_data_by_index(reps, [test_ind])\n",
    "    label_test, labels_tr =  split_data_by_index(energies, [test_ind])\n",
    "\n",
    "    opt_results = {'simga_ind':[], 'results':[]}\n",
    "\n",
    "    # for all possible splits of training data\n",
    "    # split in training and validation\n",
    "    # optimize hyperparameters\n",
    "    possible_splittings = len(labels_tr)\n",
    "    for sigma_ind in range(possible_splittings):\n",
    "        # split training data in coeff_set and validation set\n",
    "        rep_sigma, rep_coeff = split_data_by_index(rep_tr, [sigma_ind])\n",
    "        label_sigma, label_coeff = split_data_by_index(labels_tr, [sigma_ind])\n",
    "\n",
    "        #lambda_grid = [1e-7]#[1e-7, 1e-5, 1e-3, 1e-2, 1e-1, 1, 10]\n",
    "        lambda_val = 1e-7\n",
    "        sigma_grid = np.logspace(0, 4, 100)\n",
    "        coeffs, errors = hp.sigma_grid_search(label_coeff, label_sigma, lambda_val, rep_coeff, rep_sigma, sigma_grid)\n",
    "        \n",
    "        opt_results['simga_ind'].append(sigma_ind)\n",
    "        opt_results['results'].append({'coeffs':coeffs, 'errors':errors})\n",
    "        \n",
    "#         optimal_values['simga_ind'].append(sigma_ind)\n",
    "#         optimal_values['coeffs_opt'].append(opt_coeffs)\n",
    "#         optimal_values['lambda_opt'].append(opt_lambda)\n",
    "#         optimal_values['sigma_opt'].append(opt_sigma)\n",
    "#         optimal_values['sigma_error_opt'].append(opt_error)\n",
    "\n",
    "    # for every split into training and validation\n",
    "    # predict test point for optimal set of hyperparameters\n",
    "\n",
    "    for i in range(len(labels_tr)):\n",
    "        coeffs_opt = optimal_values['coeffs_opt'][i]\n",
    "        sigma_opt = optimal_values['sigma_opt'][i]\n",
    "        \n",
    "        prediction_test = qmi.predict_labels(rep_test, rep_coeff, sigma_opt, coeffs_opt)[0]\n",
    "        \n",
    "        test_predictions[test_ind].append(prediction_test)\n",
    "        \n",
    "    test_predictions[test_ind] = np.array(test_predictions[test_ind])\n",
    "    \n",
    "predictions_cv = []\n",
    "for k in test_predictions.keys():\n",
    "    predictions_cv.append([test_predictions[k].mean(), test_predictions[k].std()])\n",
    "predictions_cv = np.array(predictions_cv)"
   ]
  },
  {
   "cell_type": "code",
   "execution_count": null,
   "id": "ac1c7ec6-d9b3-4865-8056-d1472768cfde",
   "metadata": {},
   "outputs": [],
   "source": []
  },
  {
   "cell_type": "code",
   "execution_count": null,
   "id": "b0ad1215-9017-4696-9522-2c94ae8a9df9",
   "metadata": {},
   "outputs": [],
   "source": [
    "optimal_values"
   ]
  },
  {
   "cell_type": "code",
   "execution_count": null,
   "id": "5e246a8f-9a34-4af9-9465-0edbe918fdcd",
   "metadata": {},
   "outputs": [],
   "source": [
    "qml_df = pd.DataFrame({'smiles':smiles.to_list(), 'BDE (kcal/mol)':predictions_cv[:,0], 'BDE std':predictions_cv[:,1]})\n",
    "#qml_df.to_csv('/data/sahre/projects/atomic-energies/data/bonding_trends/other_data/bde_ml_W4-17_v2.csv',index=False)\n",
    "\n",
    "qml_dict = {'smiles':smiles.to_list(), 'BDE (kcal/mol)':predictions_cv[:,0], 'BDE std':predictions_cv[:,1]}\n",
    "\n",
    "#uqm.save_obj(qml_dict, '/data/sahre/projects/atomic-energies/data/bonding_trends/other_data/bde_ml_W4-17_v2')"
   ]
  },
  {
   "cell_type": "code",
   "execution_count": null,
   "id": "83cc30fa-f9fe-4ada-88ce-e5a98f9ab33d",
   "metadata": {},
   "outputs": [],
   "source": [
    "from matplotlib import pyplot as plt\n",
    "plt.plot(energies, energies, '--')\n",
    "plt.plot(energies, predictions_cv[:,0], 'o')"
   ]
  },
  {
   "cell_type": "code",
   "execution_count": null,
   "id": "ceee843d-1104-4d32-a277-23a365a3938f",
   "metadata": {},
   "outputs": [],
   "source": [
    "np.abs(predictions_cv[:,0]-energies).mean()"
   ]
  },
  {
   "cell_type": "code",
   "execution_count": null,
   "id": "d72ddb99-144a-46b1-866f-fa46e5f2031a",
   "metadata": {},
   "outputs": [],
   "source": []
  }
 ],
 "metadata": {
  "kernelspec": {
   "display_name": "Python 3",
   "language": "python",
   "name": "python3"
  },
  "language_info": {
   "codemirror_mode": {
    "name": "ipython",
    "version": 3
   },
   "file_extension": ".py",
   "mimetype": "text/x-python",
   "name": "python",
   "nbconvert_exporter": "python",
   "pygments_lexer": "ipython3",
   "version": "3.9.5"
  }
 },
 "nbformat": 4,
 "nbformat_minor": 5
}
