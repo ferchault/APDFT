{
 "cells": [
  {
   "cell_type": "code",
   "execution_count": 1,
   "id": "fa9f62ca-5ca0-4ea7-af76-c0c9921f8245",
   "metadata": {},
   "outputs": [
    {
     "data": {
      "text/plain": [
       "<module 'bt_tools' from '/home/sahre/git_repositories/APDFT/prototyping/atomic_energies/bt_tools.py'>"
      ]
     },
     "execution_count": 1,
     "metadata": {},
     "output_type": "execute_result"
    }
   ],
   "source": [
    "import pandas as pd\n",
    "import numpy as np\n",
    "from matplotlib import pyplot as plt\n",
    "from scipy.optimize import curve_fit\n",
    "\n",
    "import sys\n",
    "sys.path.insert(0, '/home/sahre/git_repositories/APDFT/prototyping/atomic_energies/')\n",
    "import utils_qm as uqm\n",
    "import bt_tools as bt\n",
    "\n",
    "import importlib\n",
    "importlib.reload(bt)"
   ]
  },
  {
   "cell_type": "code",
   "execution_count": 2,
   "id": "92d95553-41a2-4d10-bff3-fb81f345f817",
   "metadata": {},
   "outputs": [],
   "source": [
    "# data_pbe0 = pd.read_csv('/data/sahre/projects/atomic-energies/data/bonding_trends/pbe0_data/all_energies.csv')\n",
    "# data_pbe0 = data_pbe0.loc[(data_pbe0['Z1'] <= 9) & (data_pbe0['Z2'] <= 9)].to_dict('list')\n",
    "# data_pbe0['unit'] = 630\n",
    "# b_pbe0_nl = bt.BDE_clean.fromdict(data_pbe0)\n",
    "\n",
    "data_W4_17 = pd.read_csv('/data/sahre/projects/atomic-energies/data/bonding_trends/other_data/W4-17.csv').to_dict('list')\n",
    "data_W4_17['unit'] = 1\n",
    "data_W4_17['nbfe'] = []\n",
    "for Z1, Z2 in zip(data_W4_17['Z1'], data_W4_17['Z2']):\n",
    "    data_W4_17['nbfe'].append(Z1*Z2*630)\n",
    "\n",
    "b_nl = bt.BDE_clean.fromdict(data_W4_17)"
   ]
  },
  {
   "cell_type": "code",
   "execution_count": 3,
   "id": "908d2b1d-1ac4-4f0d-985d-0a48ec06f955",
   "metadata": {},
   "outputs": [],
   "source": [
    "# leave one out\n",
    "\n",
    "def non_linear_model(var, a, b, c):\n",
    "    Z1, Z2 = var.T\n",
    "    ebfe = -a**2 - b**2*Z1*Z2 -c**2*(Z1**(7/3)+Z2**(7/3))\n",
    "    return(ebfe)\n",
    "\n",
    "def fit_leave_out(model, test_ind, ydata, xdata):\n",
    "\n",
    "    # split in training/test\n",
    "    num_samples = len(ydata)\n",
    "    tr_indices = np.arange(num_samples)\n",
    "    tr_indices = tr_indices[tr_indices != test_ind]\n",
    "\n",
    "    # fit\n",
    "    fit_out = curve_fit(model, xdata[tr_indices], ydata[tr_indices])\n",
    "    coeffs = fit_out[0]\n",
    "    \n",
    "    # predict\n",
    "    predictions = model(xdata, *coeffs)\n",
    "    \n",
    "    return(predictions)"
   ]
  },
  {
   "cell_type": "code",
   "execution_count": 4,
   "id": "866e1261-556d-45e4-bb89-8c9cc3c43da1",
   "metadata": {},
   "outputs": [],
   "source": [
    "bde_fit = dict()\n",
    "\n",
    "for test_ind in range(10):\n",
    "    ebfe_pred = fit_leave_out(non_linear_model, test_ind, b_nl.ebfe, b_nl.xdata)\n",
    "\n",
    "    bde_pred = -(ebfe_pred + b_nl.nbfe)\n",
    "\n",
    "    bde_fit[data_W4_17['smiles'][test_ind]] = bde_pred[test_ind]"
   ]
  },
  {
   "cell_type": "code",
   "execution_count": 5,
   "id": "5f7df156-f7f8-49cd-a353-11f8fa3b7643",
   "metadata": {},
   "outputs": [
    {
     "data": {
      "text/plain": [
       "[<matplotlib.lines.Line2D at 0x7ff1a1729f40>]"
      ]
     },
     "execution_count": 5,
     "metadata": {},
     "output_type": "execute_result"
    },
    {
     "data": {
      "image/png": "[encoded data removed]",
      "text/plain": [
       "<Figure size 432x288 with 1 Axes>"
      ]
     },
     "metadata": {
      "needs_background": "light"
     },
     "output_type": "display_data"
    }
   ],
   "source": [
    "plt.plot(b_nl.bde, b_nl.bde, '--')\n",
    "plt.plot(b_nl.bde,bde_fit.values(), 'o')"
   ]
  },
  {
   "cell_type": "code",
   "execution_count": 6,
   "id": "446e6ca0-b164-4a60-add6-3f69dde53906",
   "metadata": {},
   "outputs": [],
   "source": [
    "# uqm.save_obj(bde_fit, '/data/sahre/projects/atomic-energies/data/bonding_trends/other_data/bde_nlSRL_l1o')"
   ]
  },
  {
   "cell_type": "code",
   "execution_count": null,
   "id": "d2e05c2d-ab13-460d-ad72-01e3ec74c8e6",
   "metadata": {},
   "outputs": [],
   "source": []
  },
  {
   "cell_type": "code",
   "execution_count": null,
   "id": "af2f1000-ab91-4fc7-be50-25144ec26b49",
   "metadata": {},
   "outputs": [],
   "source": []
  }
 ],
 "metadata": {
  "kernelspec": {
   "display_name": "Python 3",
   "language": "python",
   "name": "python3"
  },
  "language_info": {
   "codemirror_mode": {
    "name": "ipython",
    "version": 3
   },
   "file_extension": ".py",
   "mimetype": "text/x-python",
   "name": "python",
   "nbconvert_exporter": "python",
   "pygments_lexer": "ipython3",
   "version": "3.9.5"
  }
 },
 "nbformat": 4,
 "nbformat_minor": 5
}
