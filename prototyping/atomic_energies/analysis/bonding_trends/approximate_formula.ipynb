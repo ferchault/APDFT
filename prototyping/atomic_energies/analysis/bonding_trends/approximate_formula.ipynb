{
 "cells": [
  {
   "cell_type": "code",
   "execution_count": 1,
   "id": "881d9a80-cd75-4112-9f6b-c1ada46fee1e",
   "metadata": {},
   "outputs": [],
   "source": [
    "import pandas as pd\n",
    "import numpy as np\n",
    "from scipy.optimize import curve_fit\n",
    "from matplotlib import pyplot as plt\n",
    "\n",
    "import sys\n",
    "sys.path.insert(0, '/home/sahre/git_repositories/APDFT/prototyping/atomic_energies/')\n",
    "import utils_qm as uqm\n",
    "import bt_tools as bt\n",
    "\n",
    "import importlib\n",
    "importlib.reload(bt)\n",
    "\n",
    "from IPython.display import display, Latex"
   ]
  },
  {
   "cell_type": "code",
   "execution_count": 5,
   "id": "56fd13ad-c78e-4dd9-869d-dc619a57e9ba",
   "metadata": {},
   "outputs": [
    {
     "data": {
      "text/plain": [
       "220"
      ]
     },
     "execution_count": 5,
     "metadata": {},
     "output_type": "execute_result"
    }
   ],
   "source": [
    "490-270"
   ]
  },
  {
   "cell_type": "code",
   "execution_count": 2,
   "id": "86839ec7-9b0f-400a-a8b9-b52149e62255",
   "metadata": {},
   "outputs": [],
   "source": [
    "def predictions_template(data, model, b_param_dict, c_param_dict, Z0_dict, Z_ref_dict):\n",
    "    \"\"\"\n",
    "    test different models\n",
    "    \"\"\"\n",
    "    Z_ABC = {2:[], 3:[], 4:[]}\n",
    "    deltaE_ref = {2:[], 3:[], 4:[]}\n",
    "    deltaE_model = {2:[], 3:[], 4:[]}\n",
    "    \n",
    "    for n in [2,3,4]:\n",
    "\n",
    "        \n",
    "        Z_ref = Z_ref_dict[n]\n",
    "        b = b_param_dict[n]\n",
    "        c = c_param_dict[n]\n",
    "        Z0 = Z0_dict[n]\n",
    "        \n",
    "        for ZA in Z_ref:\n",
    "                for ZB in Z_ref:\n",
    "                    for ZC in Z_ref:\n",
    "                        if ZB<ZC:\n",
    "                            if ZA <= ZB:\n",
    "                                E_AB = -630*data.loc[(data['Z1']==ZA) & (data['Z2']==ZB), 'bfe'].item()\n",
    "                            else:\n",
    "                                E_AB = -630*data.loc[(data['Z1']==ZB) & (data['Z2']==ZA), 'bfe'].item()\n",
    "                            if ZA <= ZC:\n",
    "                                E_AC = -630*data.loc[(data['Z1']==ZA) & (data['Z2']==ZC), 'bfe'].item()\n",
    "                            else:\n",
    "                                E_AC = -630*data.loc[(data['Z1']==ZC) & (data['Z2']==ZA), 'bfe'].item()\n",
    "\n",
    "                            Z_ABC[n].append([ZA, ZB, ZC])\n",
    "                            deltaE_ref[n].append(E_AB - E_AC)\n",
    "                            deltaE_model[n].append(model(ZA, ZB, ZC, b, c, Z0))\n",
    "                            \n",
    "        Z_ABC[n] = np.array(Z_ABC[n])\n",
    "        deltaE_ref[n] = np.array(deltaE_ref[n])\n",
    "        deltaE_model[n] = np.array(deltaE_model[n])\n",
    "                            \n",
    "    return(Z_ABC, deltaE_ref, deltaE_model)\n",
    "\n",
    "def prediction_row(n, data, model, b_param_dict, c_param_dict, Z0_dict, Z_ref_dict):\n",
    "    Z_ref = Z_ref_dict[n]\n",
    "    b = b_param_dict[n]\n",
    "    c = c_param_dict[n]\n",
    "    Z0 = Z0_dict[n]\n",
    "    \n",
    "    Z_ABC = []\n",
    "    deltaE_ref= []\n",
    "    deltaE_model= []\n",
    "\n",
    "    for ZA in Z_ref:\n",
    "            for ZB in Z_ref:\n",
    "                for ZC in Z_ref:\n",
    "                    if ZB<ZC:\n",
    "                        if ZA <= ZB:\n",
    "                            E_AB = -630*data.loc[(data['Z1']==ZA) & (data['Z2']==ZB), 'bfe'].item()\n",
    "                        else:\n",
    "                            E_AB = -630*data.loc[(data['Z1']==ZB) & (data['Z2']==ZA), 'bfe'].item()\n",
    "                        if ZA <= ZC:\n",
    "                            E_AC = -630*data.loc[(data['Z1']==ZA) & (data['Z2']==ZC), 'bfe'].item()\n",
    "                        else:\n",
    "                            E_AC = -630*data.loc[(data['Z1']==ZC) & (data['Z2']==ZA), 'bfe'].item()\n",
    "\n",
    "                        Z_ABC.append([ZA, ZB, ZC])\n",
    "                        deltaE_ref.append(E_AB - E_AC)\n",
    "                        deltaE_model.append(model(ZA, ZB, ZC, b, c, Z0))\n",
    "\n",
    "    Z_ABC = np.array(Z_ABC)\n",
    "    deltaE_ref= np.array(deltaE_ref)\n",
    "    deltaE_model = np.array(deltaE_model)\n",
    "    \n",
    "    return(Z_ABC, deltaE_ref, deltaE_model)"
   ]
  },
  {
   "cell_type": "code",
   "execution_count": 3,
   "id": "7d605816-faf8-486c-bf2d-5db0c17fa070",
   "metadata": {},
   "outputs": [],
   "source": [
    "data = pd.read_csv('/data/sahre/projects/atomic-energies/data/bonding_trends/pbe0_data/energies_homolytic.csv')\n",
    "\n",
    "Z_ref_dict = {2:[6,7,8,9], 3:[14,15,16,17], 4:[32,33,34,35]}\n",
    "b_param_dict = {2:630-619.5300386670592, 3:630-621.177360870767, 4:630-623.8201873437458}\n",
    "c_param_dict = {2:1.9867938212838283, 3:1.4955960933741659, 4:0.8130818647886249}\n",
    "Z0_dict = {2:7.8, 3:14.3, 4:33.9}"
   ]
  },
  {
   "cell_type": "markdown",
   "id": "ed66b186-9a17-443a-8910-3628ab9d7626",
   "metadata": {},
   "source": [
    "## Model 1\n",
    "\n",
    "$\\Delta E_{ABC} = [\\eta - b Z_A + \\mu (Z_B + Z_C) ] \\Delta Z $\n",
    "\n",
    "$\\Delta Z = Z_B - Z_C$\n",
    "\n",
    "$\\eta = -\\frac{7}{9} Z_0^{4/3} c$\n",
    "\n",
    "$\\mu = \\frac{28}{18} Z_0^{1/3} c$"
   ]
  },
  {
   "cell_type": "code",
   "execution_count": 5,
   "id": "ce04d8a4-c9d7-4567-a568-1bd8ec691536",
   "metadata": {},
   "outputs": [],
   "source": [
    "def model_1(ZA, ZB, ZC, b, c, Z0):\n",
    "    deltaZ = ZB - ZC\n",
    "    eta = -7/9*Z0**(4/3)*c\n",
    "    mu = 28/18*Z0**(1/3)*c\n",
    "    \n",
    "    deltaE = (eta-b*ZA + mu*(ZB+ZC))*deltaZ\n",
    "#     E_AB = -b*ZA*ZB + c*(-7/9*Z0**(4/3)*(ZA+ZB)+28/18*Z0**(1/3)*(ZA**2+ZB**2))\n",
    "#     E_AC = -b*ZA*ZC + c*(-7/9*Z0**(4/3)*(ZA+ZC)+28/18*Z0**(1/3)*(ZA**2+ZC**2))\n",
    "# #     E_AC = a  + 4/9*Z0**(7/3)*c - 7/9*Z0**(4/3)*c*(ZA+ZC) - b*ZA*ZC+28/18*Z0**(1/3)*c*(ZA**2+ZC**2)\n",
    "    \n",
    "#     deltaE = E_AB - E_AC\n",
    "    return(deltaE)\n",
    "\n",
    "Z_ABC, deltaE_ref, deltaE_model1 = predictions_template(data, model_1, b_param_dict, c_param_dict, Z0_dict, Z_ref_dict)"
   ]
  },
  {
   "cell_type": "code",
   "execution_count": 6,
   "id": "ae741cb7-b649-407f-9c95-24f5b3a5b591",
   "metadata": {},
   "outputs": [
    {
     "name": "stdout",
     "output_type": "stream",
     "text": [
      "1.7412887965134656\n",
      "2.6908192984059873\n",
      "2.4945183338969374\n"
     ]
    },
    {
     "data": {
      "image/png": "[encoded data removed]",
      "text/plain": [
       "<Figure size 432x288 with 1 Axes>"
      ]
     },
     "metadata": {
      "needs_background": "light"
     },
     "output_type": "display_data"
    }
   ],
   "source": [
    "MAE = 0\n",
    "for n in [2,3,4]:\n",
    "    plt.plot(deltaE_ref[n], deltaE_ref[n], '--')\n",
    "    plt.plot(deltaE_ref[n], deltaE_model1[n], 'o')\n",
    "    \n",
    "    MAE += (np.abs(deltaE_ref[n]-deltaE_model1[n])).mean()\n",
    "    print((np.abs(deltaE_ref[n]-deltaE_model1[n])).mean())"
   ]
  },
  {
   "cell_type": "code",
   "execution_count": 7,
   "id": "c75471f9-bf7d-4444-920c-1a895e6a4a39",
   "metadata": {},
   "outputs": [
    {
     "data": {
      "text/plain": [
       "2.30887547627213"
      ]
     },
     "execution_count": 7,
     "metadata": {},
     "output_type": "execute_result"
    }
   ],
   "source": [
    "MAE/3\n"
   ]
  },
  {
   "cell_type": "markdown",
   "id": "d7b2fa8e-afde-46e0-af6a-154f8becaaba",
   "metadata": {},
   "source": [
    "## Model 2\n",
    "\n",
    "$\\Delta E_{ABC} = \\eta \\Delta Z + (2\\mu - b) Z_A \\Delta Z+ \\mu \\left((Z_A - Z_B)^2  - (Z_A - Z_C)^2 \\right) $\n",
    "\n",
    "$\\Delta Z = Z_B - Z_C$\n",
    "\n",
    "$\\eta = -\\frac{7}{9} Z_0^{4/3} c$\n",
    "\n",
    "$\\mu = \\frac{14}{9} Z_0^{1/3} c$"
   ]
  },
  {
   "cell_type": "code",
   "execution_count": 8,
   "id": "1e818bd6-86c4-466b-816b-54096d03370e",
   "metadata": {},
   "outputs": [],
   "source": [
    "def model_2(ZA, ZB, ZC, b, c, Z0):\n",
    "    deltaZ = ZB - ZC\n",
    "    eta = -7/9*Z0**(4/3)*c\n",
    "    mu = 14/9*Z0**(1/3)*c\n",
    "    \n",
    "    deltaE = eta*deltaZ + (2*mu-b)*ZA*deltaZ + mu*((ZA-ZB)**2 - (ZA-ZC)**2)\n",
    "#     E_AB = -b*ZA*ZB + c*(-7/9*Z0**(4/3)*(ZA+ZB)+28/18*Z0**(1/3)*(ZA**2+ZB**2))\n",
    "#     E_AC = -b*ZA*ZC + c*(-7/9*Z0**(4/3)*(ZA+ZC)+28/18*Z0**(1/3)*(ZA**2+ZC**2))\n",
    "# #     E_AC = a  + 4/9*Z0**(7/3)*c - 7/9*Z0**(4/3)*c*(ZA+ZC) - b*ZA*ZC+28/18*Z0**(1/3)*c*(ZA**2+ZC**2)\n",
    "    \n",
    "#     deltaE = E_AB - E_AC\n",
    "    return(deltaE)\n",
    "\n",
    "Z_ABC, deltaE_ref, deltaE_model2 = predictions_template(data, model_2, b_param_dict, c_param_dict, Z0_dict, Z_ref_dict)"
   ]
  },
  {
   "cell_type": "code",
   "execution_count": 9,
   "id": "530a155b-b7e1-495d-877c-6d6a01480da7",
   "metadata": {},
   "outputs": [
    {
     "name": "stdout",
     "output_type": "stream",
     "text": [
      "1.7412887965134658\n",
      "2.69081929840598\n",
      "2.494518333896942\n"
     ]
    },
    {
     "data": {
      "image/png": "[encoded data removed]",
      "text/plain": [
       "<Figure size 432x288 with 1 Axes>"
      ]
     },
     "metadata": {
      "needs_background": "light"
     },
     "output_type": "display_data"
    }
   ],
   "source": [
    "MAE = 0\n",
    "for n in [2,3,4]:\n",
    "    plt.plot(deltaE_ref[n], deltaE_ref[n], '--')\n",
    "    plt.plot(deltaE_ref[n], deltaE_model2[n], 'o')\n",
    "    \n",
    "    MAE += (np.abs(deltaE_ref[n]-deltaE_model2[n])).mean()\n",
    "    print((np.abs(deltaE_ref[n]-deltaE_model2[n])).mean())"
   ]
  },
  {
   "cell_type": "code",
   "execution_count": 10,
   "id": "31844172-dcce-4622-8ea8-97729b16e745",
   "metadata": {},
   "outputs": [
    {
     "name": "stdout",
     "output_type": "stream",
     "text": [
      "##############################\n",
      "n = 2\n"
     ]
    },
    {
     "data": {
      "text/latex": [
       "$\\eta = 22.7 $"
      ],
      "text/plain": [
       "<IPython.core.display.Latex object>"
      ]
     },
     "metadata": {},
     "output_type": "display_data"
    },
    {
     "data": {
      "text/latex": [
       "$2 \\mu -b = 1.6 $"
      ],
      "text/plain": [
       "<IPython.core.display.Latex object>"
      ]
     },
     "metadata": {},
     "output_type": "display_data"
    },
    {
     "data": {
      "text/latex": [
       "$\\mu = 6.0 $"
      ],
      "text/plain": [
       "<IPython.core.display.Latex object>"
      ]
     },
     "metadata": {},
     "output_type": "display_data"
    },
    {
     "name": "stdout",
     "output_type": "stream",
     "text": [
      "##############################\n",
      "n = 3\n"
     ]
    },
    {
     "data": {
      "text/latex": [
       "$\\eta = 45.0 $"
      ],
      "text/plain": [
       "<IPython.core.display.Latex object>"
      ]
     },
     "metadata": {},
     "output_type": "display_data"
    },
    {
     "data": {
      "text/latex": [
       "$2 \\mu -b = 2.8 $"
      ],
      "text/plain": [
       "<IPython.core.display.Latex object>"
      ]
     },
     "metadata": {},
     "output_type": "display_data"
    },
    {
     "data": {
      "text/latex": [
       "$\\mu = 5.8 $"
      ],
      "text/plain": [
       "<IPython.core.display.Latex object>"
      ]
     },
     "metadata": {},
     "output_type": "display_data"
    },
    {
     "name": "stdout",
     "output_type": "stream",
     "text": [
      "##############################\n",
      "n = 4\n"
     ]
    },
    {
     "data": {
      "text/latex": [
       "$\\eta = 68.3 $"
      ],
      "text/plain": [
       "<IPython.core.display.Latex object>"
      ]
     },
     "metadata": {},
     "output_type": "display_data"
    },
    {
     "data": {
      "text/latex": [
       "$2 \\mu -b = 2.0 $"
      ],
      "text/plain": [
       "<IPython.core.display.Latex object>"
      ]
     },
     "metadata": {},
     "output_type": "display_data"
    },
    {
     "data": {
      "text/latex": [
       "$\\mu = 4.1 $"
      ],
      "text/plain": [
       "<IPython.core.display.Latex object>"
      ]
     },
     "metadata": {},
     "output_type": "display_data"
    }
   ],
   "source": [
    "for n in [2,3,4]:\n",
    "    Z0_dict = {2:7.5, 3:15.5, 4:33.5}\n",
    "    eta = 7/9*Z0_dict[n]**(4/3)*c_param_dict[n]\n",
    "    mu = 14/9*Z0_dict[n]**(1/3)*c_param_dict[n]\n",
    "    kappa = 2*mu - b_param_dict[n]\n",
    "    \n",
    "    print('##############################')\n",
    "    print(f'n = {n}')\n",
    "    \n",
    "    \n",
    "    display(Latex(f'$\\eta = {np.round(eta,1)} $'))\n",
    "    \n",
    "    display(Latex(f'$2 \\mu -b = {np.round(kappa,1)} $'))\n",
    "    \n",
    "    display(Latex(f'$\\mu = {np.round(mu,1)} $'))"
   ]
  },
  {
   "cell_type": "markdown",
   "id": "5792ced5-86eb-4453-afc3-42e3ef02fb68",
   "metadata": {},
   "source": [
    "### optimize $Z_0$"
   ]
  },
  {
   "cell_type": "code",
   "execution_count": null,
   "id": "9fea90c2-e890-459c-829d-329628a61e12",
   "metadata": {},
   "outputs": [],
   "source": [
    "Z0_2 = np.linspace(6, 9, 50)\n",
    "Z0_3 = np.linspace(14, 17, 50)\n",
    "Z0_4 = np.linspace(32, 35, 50)\n",
    "\n",
    "Z0_grid = {2:Z0_2, 3:Z0_3, 4:Z0_4}\n",
    "\n",
    "num_opt = 50\n",
    "for n in [2,3,4]:\n",
    "    MAE = []\n",
    "    for i in range(num_opt):\n",
    "        Z0_dict[n] = Z0_grid[n][i]\n",
    "        ZABC, deltaE_ref, deltaE_model = prediction_row(n, data, model_2, b_param_dict, c_param_dict, Z0_dict, Z_ref_dict)\n",
    "\n",
    "        MAE.append((np.abs(deltaE_ref - deltaE_model)).mean())\n",
    "\n",
    "    plt.plot(Z0_grid[n], MAE)\n",
    "    print(min(MAE))\n",
    "    print( Z0_grid[n][MAE.index(min(MAE))] )"
   ]
  },
  {
   "cell_type": "code",
   "execution_count": null,
   "id": "c31a72b5-b3f6-4641-ad7a-4c65afa8a385",
   "metadata": {},
   "outputs": [],
   "source": []
  },
  {
   "cell_type": "code",
   "execution_count": null,
   "id": "4b8d6aaa-5c3c-43a7-bbbb-3c7d6f151730",
   "metadata": {},
   "outputs": [],
   "source": [
    "for k in Z0_dict.keys():\n",
    "    eta = -7/9*Z0_dict[k]**(4/3)*c_param_dict[k]\n",
    "    mu = 28/18*Z0_dict[k]**(1/3)*c_param_dict[k]\n",
    "    \n",
    "    print('##########################################')\n",
    "    print(f'n = {k}')\n",
    "    display(Latex(f'$\\eta = {np.round(eta,1)} $'))\n",
    "    \n",
    "    display(Latex(f'$2 \\mu -b = {np.round(2*mu-b_param_dict[k],1)} $'))\n",
    "    \n",
    "    display(Latex(f'$\\mu = {np.round(mu,1)} $'))\n"
   ]
  },
  {
   "cell_type": "markdown",
   "id": "b49e6c4e-59a9-44ab-a820-bf177c3e8838",
   "metadata": {},
   "source": [
    "## Model 3 Anatole's version\n",
    "\n",
    "$\\Delta E_{ABC} = -\\eta (n-1) \\Delta Z - (8.5 +(n-3)^2) Z_A \\Delta Z + 6 (Z_B^2 - Z_C^2) $\n",
    "\n",
    "$\\Delta Z = Z_B - Z_C$\n",
    "\n",
    "$\\eta = -\\frac{7}{9} Z_0^{4/3} c$\n",
    "\n",
    "$\\mu = \\frac{14}{9} Z_0^{1/3} c$"
   ]
  },
  {
   "cell_type": "code",
   "execution_count": 17,
   "id": "11e6b102-0f50-43c9-8b9e-a5b2de03df7e",
   "metadata": {},
   "outputs": [],
   "source": [
    "def model_3(ZA, ZB, ZC, n, dummy1, dummy2):\n",
    "    deltaZ = ZB - ZC\n",
    "    eta_tilde = 28\n",
    "    kappa_tilde = (n-3)**2 -3.5\n",
    "    mu_tilde = 6\n",
    "    \n",
    "    #deltaE = -eta_tilde*(n-1)*deltaZ - kappa_tilde*ZA*deltaZ + mu_tilde*((ZA-ZB)**2 - (ZA-ZC)**2)\n",
    "    \n",
    "    deltaE = -eta_tilde*(n-1)*deltaZ - (8.5+(n-3)**2)*ZA*deltaZ+6*(ZB**2-ZC**2)\n",
    "    \n",
    "    return(deltaE)\n",
    "\n",
    "Z_ABC, deltaE_ref, deltaE_model3 = predictions_template(data, model_3, {2:2, 3:3, 4:4}, c_param_dict, Z0_dict, Z_ref_dict)"
   ]
  },
  {
   "cell_type": "code",
   "execution_count": 18,
   "id": "6051c5c7-996f-4c0a-a5c7-a628a7ec4273",
   "metadata": {},
   "outputs": [
    {
     "name": "stdout",
     "output_type": "stream",
     "text": [
      "2.643962676106638\n",
      "3.0391366661022055\n",
      "6.9996662802416365\n"
     ]
    },
    {
     "data": {
      "image/png": "[encoded data removed]",
      "text/plain": [
       "<Figure size 432x288 with 1 Axes>"
      ]
     },
     "metadata": {
      "needs_background": "light"
     },
     "output_type": "display_data"
    }
   ],
   "source": [
    "MAE = 0\n",
    "for n in [2,3,4]:\n",
    "    plt.plot(deltaE_ref[n], deltaE_ref[n], '--')\n",
    "    plt.plot(deltaE_ref[n], deltaE_model3[n], 'o')\n",
    "    \n",
    "    MAE += (np.abs(deltaE_ref[n]-deltaE_model3[n])).mean()\n",
    "    print((np.abs(deltaE_ref[n]-deltaE_model3[n])).mean())"
   ]
  },
  {
   "cell_type": "code",
   "execution_count": 19,
   "id": "a8fcca6c-6b7e-4c78-8bf6-de5c8afd5223",
   "metadata": {},
   "outputs": [
    {
     "data": {
      "text/plain": [
       "4.227588540816826"
      ]
     },
     "execution_count": 19,
     "metadata": {},
     "output_type": "execute_result"
    }
   ],
   "source": [
    "MAE/3"
   ]
  },
  {
   "cell_type": "code",
   "execution_count": 25,
   "id": "0269addb-1cfc-45fb-a450-090ceb459ee7",
   "metadata": {},
   "outputs": [
    {
     "data": {
      "text/plain": [
       "24"
      ]
     },
     "execution_count": 25,
     "metadata": {},
     "output_type": "execute_result"
    }
   ],
   "source": [
    "len(deltaE_ref[4])"
   ]
  },
  {
   "cell_type": "code",
   "execution_count": 26,
   "id": "2c359727-7305-4c70-8962-b70ecc96a997",
   "metadata": {},
   "outputs": [
    {
     "data": {
      "text/plain": [
       "72"
      ]
     },
     "execution_count": 26,
     "metadata": {},
     "output_type": "execute_result"
    }
   ],
   "source": [
    "24*3"
   ]
  },
  {
   "cell_type": "code",
   "execution_count": 19,
   "id": "a2b1fe88-3cf1-41b1-8397-8c6206cb8ce9",
   "metadata": {},
   "outputs": [
    {
     "data": {
      "text/plain": [
       "-42.0"
      ]
     },
     "execution_count": 19,
     "metadata": {},
     "output_type": "execute_result"
    }
   ],
   "source": [
    "model_3(32, 32, 35, 4, 0, 0)"
   ]
  },
  {
   "cell_type": "code",
   "execution_count": 15,
   "id": "87d742c2-a842-4ff3-bb7a-bab36287e7e1",
   "metadata": {},
   "outputs": [
    {
     "data": {
      "text/plain": [
       "array([ -9.75312249, -13.28494897, -25.21961212,  -3.53182648,\n",
       "       -15.46648963, -11.93466315,  -3.11082789,  -1.93111703,\n",
       "        -9.08601979,   1.17971086,  -5.9751919 ,  -7.15490276,\n",
       "         1.60070946,   6.78748848,  -0.58672467,   5.18677903,\n",
       "        -2.18743412,  -7.37421315,   6.38046984,  11.34793848,\n",
       "         8.97686317,   4.96746864,   2.59639333,  -2.37107531])"
      ]
     },
     "execution_count": 15,
     "metadata": {},
     "output_type": "execute_result"
    }
   ],
   "source": [
    "deltaE_model3[4] - deltaE_ref[4]"
   ]
  },
  {
   "cell_type": "code",
   "execution_count": 17,
   "id": "449a1bb9-671c-4f82-ab7a-9bda1320a3db",
   "metadata": {},
   "outputs": [
    {
     "data": {
      "text/plain": [
       "array([[32, 32, 33],\n",
       "       [32, 32, 34],\n",
       "       [32, 32, 35],\n",
       "       [32, 33, 34],\n",
       "       [32, 33, 35],\n",
       "       [32, 34, 35],\n",
       "       [33, 32, 33],\n",
       "       [33, 32, 34],\n",
       "       [33, 32, 35],\n",
       "       [33, 33, 34],\n",
       "       [33, 33, 35],\n",
       "       [33, 34, 35],\n",
       "       [34, 32, 33],\n",
       "       [34, 32, 34],\n",
       "       [34, 32, 35],\n",
       "       [34, 33, 34],\n",
       "       [34, 33, 35],\n",
       "       [34, 34, 35],\n",
       "       [35, 32, 33],\n",
       "       [35, 32, 34],\n",
       "       [35, 32, 35],\n",
       "       [35, 33, 34],\n",
       "       [35, 33, 35],\n",
       "       [35, 34, 35]])"
      ]
     },
     "execution_count": 17,
     "metadata": {},
     "output_type": "execute_result"
    }
   ],
   "source": [
    "Z_ABC[4]"
   ]
  },
  {
   "cell_type": "code",
   "execution_count": null,
   "id": "334bca0c-a55e-4410-b2f9-4c76529632ed",
   "metadata": {},
   "outputs": [],
   "source": []
  },
  {
   "cell_type": "markdown",
   "id": "8adb484b-0314-4be5-a36d-647f1cf774eb",
   "metadata": {},
   "source": [
    "## optimize model 3"
   ]
  },
  {
   "cell_type": "code",
   "execution_count": null,
   "id": "8287f4a9-dd64-4cd8-b969-c3e882ec54a3",
   "metadata": {},
   "outputs": [],
   "source": [
    "data = pd.read_csv('/data/sahre/projects/atomic-energies/data/bonding_trends/pbe0_data/energies_homolytic.csv')\n",
    "\n",
    "Z_ref_dict = {2:[6,7,8,9], 3:[14,15,16,17], 4:[32,33,34,35]}\n",
    "b_param_dict = {2:630-619.5300386670592, 3:630-621.177360870767, 4:630-623.8201873437458}\n",
    "c_param_dict = {2:1.9867938212838283, 3:1.4955960933741659, 4:0.8130818647886249}\n",
    "Z0_dict = {2:7.5, 3:15.5, 4:33.5}\n",
    "\n",
    "Z_ABC = []\n",
    "deltaE_ref = []\n",
    "for n in [2,3,4]:\n",
    "    Z_ref = Z_ref_dict[n]\n",
    "    for ZA in Z_ref:\n",
    "            for ZB in Z_ref:\n",
    "                for ZC in Z_ref:\n",
    "                    if ZB<ZC:\n",
    "                        if ZA <= ZB:\n",
    "                            E_AB = -630*data.loc[(data['Z1']==ZA) & (data['Z2']==ZB), 'bfe'].item()\n",
    "                        else:\n",
    "                            E_AB = -630*data.loc[(data['Z1']==ZB) & (data['Z2']==ZA), 'bfe'].item()\n",
    "                        if ZA <= ZC:\n",
    "                            E_AC = -630*data.loc[(data['Z1']==ZA) & (data['Z2']==ZC), 'bfe'].item()\n",
    "                        else:\n",
    "                            E_AC = -630*data.loc[(data['Z1']==ZC) & (data['Z2']==ZA), 'bfe'].item()\n",
    "\n",
    "                        Z_ABC.append([ZA, ZB, ZC, n])\n",
    "                        deltaE_ref.append(E_AB - E_AC)\n",
    "\n",
    "Z_ABC = np.array(Z_ABC)\n",
    "deltaE_ref = np.array(deltaE_ref)\n",
    "                     \n",
    "def model_3_opt(var, eta, kappa, mu):\n",
    "    ZA, ZB, ZC, n = var.T\n",
    "    deltaZ = ZB - ZC\n",
    "    \n",
    "    deltaE = -eta*(n-1)*deltaZ - ((n-3)**2 - kappa)*ZA*deltaZ + mu*((ZA-ZB)**2 - (ZA-ZC)**2)\n",
    "#     E_AB = -b*ZA*ZB + c*(-7/9*Z0**(4/3)*(ZA+ZB)+28/18*Z0**(1/3)*(ZA**2+ZB**2))\n",
    "#     E_AC = -b*ZA*ZC + c*(-7/9*Z0**(4/3)*(ZA+ZC)+28/18*Z0**(1/3)*(ZA**2+ZC**2))\n",
    "# #     E_AC = a  + 4/9*Z0**(7/3)*c - 7/9*Z0**(4/3)*c*(ZA+ZC) - b*ZA*ZC+28/18*Z0**(1/3)*c*(ZA**2+ZC**2)\n",
    "    \n",
    "#     deltaE = E_AB - E_AC\n",
    "    return(deltaE)\n",
    "\n",
    "# fit\n",
    "p0 = [27.3, 3.4, 6]\n",
    "out = curve_fit(model_3_opt, Z_ABC, deltaE_ref, p0)"
   ]
  },
  {
   "cell_type": "code",
   "execution_count": null,
   "id": "8184d4da-38a3-4d84-9daf-fbe723cd0202",
   "metadata": {},
   "outputs": [],
   "source": [
    "out"
   ]
  },
  {
   "cell_type": "code",
   "execution_count": null,
   "id": "e13b0b87-8445-4e90-a688-89215ed98725",
   "metadata": {},
   "outputs": [],
   "source": [
    "np.abs(model_3_opt(Z_ABC, 28, 3.5, 6) - deltaE_ref).mean()"
   ]
  },
  {
   "cell_type": "code",
   "execution_count": null,
   "id": "2d2c3305-7b08-413c-9f29-c1782f82f0b4",
   "metadata": {},
   "outputs": [],
   "source": [
    "np.abs(model_3_opt(Z_ABC, 27.46471272, 3.40004509, 5.5672527) - deltaE_ref).mean()"
   ]
  },
  {
   "cell_type": "code",
   "execution_count": null,
   "id": "95fb3d3b-1525-48b9-9bf3-b7b72bfa7c6e",
   "metadata": {},
   "outputs": [],
   "source": []
  },
  {
   "cell_type": "code",
   "execution_count": null,
   "id": "0f10e5c5-2f73-4d09-8fba-09ecfc047e89",
   "metadata": {},
   "outputs": [],
   "source": [
    "data = pd.read_csv('/data/sahre/projects/atomic-energies/data/bonding_trends/pbe0_data/energies_homolytic.csv')\n",
    "\n",
    "Z_ref_dict = {2:[6,7,8,9], 3:[14,15,16,17], 4:[32,33,34,35]}\n",
    "b_param_dict = {2:630-619.5300386670592, 3:630-621.177360870767, 4:630-623.8201873437458}\n",
    "c_param_dict = {2:1.9867938212838283, 3:1.4955960933741659, 4:0.8130818647886249}\n",
    "Z0_dict = {2:7.5, 3:15.5, 4:33.5}\n",
    "\n",
    "Z_ABC = []\n",
    "deltaE_ref = []\n",
    "for n in [2,3,4]:\n",
    "    Z_ref = Z_ref_dict[n]\n",
    "    for ZA in Z_ref:\n",
    "            for ZB in Z_ref:\n",
    "                for ZC in Z_ref:\n",
    "                    if ZB<ZC:\n",
    "                        if ZA <= ZB:\n",
    "                            E_AB = -630*data.loc[(data['Z1']==ZA) & (data['Z2']==ZB), 'bfe'].item()\n",
    "                        else:\n",
    "                            E_AB = -630*data.loc[(data['Z1']==ZB) & (data['Z2']==ZA), 'bfe'].item()\n",
    "                        if ZA <= ZC:\n",
    "                            E_AC = -630*data.loc[(data['Z1']==ZA) & (data['Z2']==ZC), 'bfe'].item()\n",
    "                        else:\n",
    "                            E_AC = -630*data.loc[(data['Z1']==ZC) & (data['Z2']==ZA), 'bfe'].item()\n",
    "\n",
    "                        Z_ABC.append([ZA, ZB, ZC, n])\n",
    "                        deltaE_ref.append(E_AB - E_AC)\n",
    "\n",
    "Z_ABC = np.array(Z_ABC)\n",
    "deltaE_ref = np.array(deltaE_ref)\n",
    "                     \n",
    "def model_anatole(var, eta, kappa, mu):\n",
    "    ZA, ZB, ZC, n = var.T\n",
    "    deltaZ = ZB - ZC\n",
    "    \n",
    "    deltaE = -eta*(n-1)*deltaZ - (kappa + (n-3)**2)*ZA*deltaZ + mu*(ZB**2 - ZC**2)\n",
    "#     E_AB = -b*ZA*ZB + c*(-7/9*Z0**(4/3)*(ZA+ZB)+28/18*Z0**(1/3)*(ZA**2+ZB**2))\n",
    "#     E_AC = -b*ZA*ZC + c*(-7/9*Z0**(4/3)*(ZA+ZC)+28/18*Z0**(1/3)*(ZA**2+ZC**2))\n",
    "# #     E_AC = a  + 4/9*Z0**(7/3)*c - 7/9*Z0**(4/3)*c*(ZA+ZC) - b*ZA*ZC+28/18*Z0**(1/3)*c*(ZA**2+ZC**2)\n",
    "    \n",
    "#     deltaE = E_AB - E_AC\n",
    "    return(deltaE)\n",
    "\n",
    "# fit\n",
    "p0 = [27.3, 3.4, 6]\n",
    "out = curve_fit(model_anatole, Z_ABC, deltaE_ref, p0)"
   ]
  },
  {
   "cell_type": "code",
   "execution_count": null,
   "id": "a825be95-a1d2-4207-8c0f-40f4a1b37bce",
   "metadata": {},
   "outputs": [],
   "source": [
    "out"
   ]
  },
  {
   "cell_type": "code",
   "execution_count": null,
   "id": "b9c10971-d43c-45bd-a0e1-c33c894fc822",
   "metadata": {},
   "outputs": [],
   "source": [
    "np.abs(model_anatole(Z_ABC, 27.46471259, 7.73446038, 5.56725267) - deltaE_ref).mean()"
   ]
  },
  {
   "cell_type": "code",
   "execution_count": null,
   "id": "173f1af5-fd04-40d0-9143-1f88d357826b",
   "metadata": {},
   "outputs": [],
   "source": [
    "np.abs(model_anatole(Z_ABC, 28, 8.5, 6) - deltaE_ref).mean()"
   ]
  },
  {
   "cell_type": "code",
   "execution_count": null,
   "id": "198e8891-b61b-4e04-bce1-69d2203c905b",
   "metadata": {},
   "outputs": [],
   "source": [
    "plt.plot(deltaE_ref, deltaE_ref, '--')\n",
    "plt.plot(deltaE_ref, model_anatole(Z_ABC, 28, 8.5, 6), 'o')"
   ]
  },
  {
   "cell_type": "code",
   "execution_count": null,
   "id": "3b76af2c-99a5-496e-89ea-ad326a8706a3",
   "metadata": {},
   "outputs": [],
   "source": [
    "Z_ABC[0]"
   ]
  },
  {
   "cell_type": "code",
   "execution_count": null,
   "id": "39db1ce3-a165-4a1c-9bd4-45ef708d3ac2",
   "metadata": {},
   "outputs": [],
   "source": [
    "model_anatole(Z_ABC[0], 28, 8.5, 6)"
   ]
  },
  {
   "cell_type": "code",
   "execution_count": null,
   "id": "31912a64-5119-4a99-a01e-edf901dbba39",
   "metadata": {},
   "outputs": [],
   "source": [
    "eta = 28\n",
    "kappa = -8.5\n",
    "mu = 6\n",
    "\n",
    "np.abs(model_anatole(Z_ABC, eta, kappa, mu) - deltaE_ref).mean()"
   ]
  },
  {
   "cell_type": "code",
   "execution_count": null,
   "id": "87715977-7fa1-4509-97ea-e0bf33544b2d",
   "metadata": {},
   "outputs": [],
   "source": [
    "-eta*(n-1)*deltaZ - (kappa + (n-3)**2)*ZA*deltaZ + mu*(ZB**2 - ZC**2)"
   ]
  },
  {
   "cell_type": "code",
   "execution_count": 6,
   "id": "5ff06512-3d74-4d7f-bc54-53e711e8e711",
   "metadata": {},
   "outputs": [
    {
     "data": {
      "text/plain": [
       "13.5"
      ]
     },
     "execution_count": 6,
     "metadata": {},
     "output_type": "execute_result"
    }
   ],
   "source": [
    "ZA = 7\n",
    "ZB = 6\n",
    "ZC = 9\n",
    "deltaZ = ZB - ZC\n",
    "\n",
    "n=2\n",
    "-28*(n-1)*deltaZ - (8.5 + (n-3)**2)*ZA*deltaZ + 6*(ZB**2 - ZC**2)"
   ]
  },
  {
   "cell_type": "code",
   "execution_count": null,
   "id": "cfc90b36-e86a-4405-be89-87cd4aee494d",
   "metadata": {},
   "outputs": [],
   "source": [
    "for k in Z0_dict.keys():\n",
    "    \n",
    "    print('##########################################')\n",
    "    print(f'n = {k}')\n",
    "    print(b_param_dict[k]/c_param_dict[k])\n",
    "#     display(Latex(r'$\\frac{b}{c} = $' '{}'))\n",
    "    \n"
   ]
  },
  {
   "cell_type": "code",
   "execution_count": null,
   "id": "d52743b2-d539-4f7b-920a-41a68d2ffda0",
   "metadata": {},
   "outputs": [],
   "source": []
  },
  {
   "cell_type": "code",
   "execution_count": null,
   "id": "4152b31f-0f8f-459c-964c-b969904b7f69",
   "metadata": {},
   "outputs": [],
   "source": [
    "def non_linear_model(var, a, b, c):\n",
    "    Z1, Z2 = var.T\n",
    "    ebfe = -a**2 - b**2*Z1*Z2 - c**2*(Z1**(7/3)+Z2**(7/3))\n",
    "    return(ebfe)\n",
    "\n",
    "def taylor(ZA, ZB, Z0, a, b, c):\n",
    "    \"\"\"\n",
    "    model where Z**(7/3) terms are expanded by second order taylor series\n",
    "    \"\"\"\n",
    "    t0 = Z0**(7/3)\n",
    "    t1 = 7/3*Z0**(4/3)\n",
    "    t2 = 1/2*7/3*4/3*Z0**(1/3)\n",
    "    \n",
    "    const_term = a - 2*t0*c + 2*Z0*t1*c - 2*Z0**2*t2*c\n",
    "    linear_factor = (2*Z0*t2*c - t1*c)\n",
    "    mixed_quad_factor = (630-b)\n",
    "    quad_factor = -t2*c\n",
    "    \n",
    "    const_term = np.round(a - 2*t0*c + 2*Z0*t1*c - 2*Z0**2*t2*c, 0)\n",
    "    linear_factor = np.round((2*Z0*t2*c - t1*c), 0)\n",
    "    mixed_quad_factor = np.round((630-b)-2*t2*c, 0)\n",
    "    quad_factor = np.round(-t2*c, 0)\n",
    "    \n",
    "    bfe = const_term + linear_factor*(ZA + ZB) + mixed_quad_factor*ZA*ZB + quad_factor*(ZA - ZB)**2\n",
    "    \n",
    "    #print(const_term)\n",
    "    #print(linear_factor)\n",
    "    #print(mixed_quad_factor)\n",
    "    #print(quad_factor)\n",
    "    return(-bfe)"
   ]
  },
  {
   "cell_type": "code",
   "execution_count": null,
   "id": "4eb7bdb7-857f-4cd6-b7b7-6286e098da22",
   "metadata": {},
   "outputs": [],
   "source": [
    "ZA = 6\n",
    "ZB = 6\n",
    "E_AA = []\n",
    "for ZA in [6,7,8,9]:\n",
    "    E_AA.append(-630*data.loc[(data['Z1'] == ZA) & (data['Z2'] == ZA), 'bfe'].item())"
   ]
  },
  {
   "cell_type": "code",
   "execution_count": null,
   "id": "3dcbceef-41ee-461c-acc2-c52ede5eaafe",
   "metadata": {},
   "outputs": [],
   "source": [
    "dE_CC = []\n",
    "j = 0\n",
    "for i in range(4):\n",
    "    if i != j:\n",
    "        dE_CC.append(E_AA[j]-E_AA[i])"
   ]
  },
  {
   "cell_type": "code",
   "execution_count": null,
   "id": "1a05dd06-daa1-4e53-832f-95c63bf47e5e",
   "metadata": {},
   "outputs": [],
   "source": [
    "plt.plot([1,2,3],dE_CC, 'o')"
   ]
  },
  {
   "cell_type": "code",
   "execution_count": null,
   "id": "0eea7958-dc33-4eba-840d-2e1da101888b",
   "metadata": {},
   "outputs": [],
   "source": [
    "630-623.8"
   ]
  },
  {
   "cell_type": "code",
   "execution_count": null,
   "id": "180be4cb-9c3e-43a4-b6fc-2fa360b3e88c",
   "metadata": {},
   "outputs": [],
   "source": [
    "28/9*33.5**(1/3)*0.81"
   ]
  },
  {
   "cell_type": "code",
   "execution_count": null,
   "id": "d5e6b21c-6dfe-4a46-ab6a-53d658331195",
   "metadata": {},
   "outputs": [],
   "source": [
    "np.sqrt(7)*np.array([32,33,34,35])"
   ]
  },
  {
   "cell_type": "markdown",
   "id": "c89b1f04-8889-406f-8b52-03bdcafe6fe8",
   "metadata": {},
   "source": [
    "### Taylor approximation and non-linear model together with pbe0 binding energies\n"
   ]
  },
  {
   "cell_type": "code",
   "execution_count": null,
   "id": "14afd351-fa1d-4628-a2c0-441e227b74fd",
   "metadata": {},
   "outputs": [],
   "source": [
    "\n",
    "if n == 2:\n",
    "    Z0 = 8\n",
    "elif n == 3:\n",
    "    Z0 = 16.5\n",
    "elif n == 3:\n",
    "    Z0 = 33.75\n",
    "\n",
    "plt.rcParams['font.size'] = 15\n",
    "\n",
    "plt.plot(b_pbe0_nl.bde, '-o', label = 'exact')\n",
    "plt.plot(b_pbe0_nl.bde_fitted, '-o', label = 'exact fit')\n",
    "plt.plot(taylor(b_pbe0_nl.Z1, b_pbe0_nl.Z2, Z0, a, b, c), '-o',label = 'approx. fit')\n",
    "\n",
    "plt.legend()\n",
    "\n",
    "plt.xlabel('compound')\n",
    "plt.xticks([])\n",
    "plt.ylabel('BDE (kcal/mol)')\n",
    "\n",
    "# plt.savefig('/home/sahre/work/bonding_trends/figures/results/approx_eq/second_row_no_shift.png', bbox_inches = 'tight')"
   ]
  },
  {
   "cell_type": "markdown",
   "id": "27158098-579d-4ac4-8e6f-b36fc35910ce",
   "metadata": {},
   "source": [
    "### Delta binding energies"
   ]
  },
  {
   "cell_type": "code",
   "execution_count": null,
   "id": "1720229c-e3ce-488d-9e21-895b0bedaaf8",
   "metadata": {},
   "outputs": [],
   "source": [
    "def michael_model(n, ZA, ZB, a = 28, b = 3.5, c = 6):\n",
    "    \n",
    "    BDE = -(a*(n-1)*(ZA+ZB)+((n-3)**2-b)*ZA*ZB-c*(ZA-ZB)**2)\n",
    "    return(BDE)\n",
    "\n",
    "def delta_michael_model(n, ZA, ZB, ZC, a = 28, b = 3.5, c = 6):\n",
    "    \n",
    "    dE = a*(n-1)*(ZC-ZB) + ((n-3)**2 - b)*ZA*(ZC-ZB) + c*((ZA-ZB)**2-(ZA-ZC)**2)\n",
    "    return(dE)\n",
    "\n",
    "def guido_model(n, ZA, ZB, a = 25, b = 3, c = 6):\n",
    "    \n",
    "    BDE = a*(n-1)*(ZA+ZB) - b*ZA*ZB + c*(ZA-ZB)**2\n",
    "    return(BDE)\n",
    "\n",
    "def delta_guido_model(n, ZA, ZB, ZC, a = 25, b = 3, c = 6):\n",
    "    dE = -a*(n-1)*(ZC-ZB) + (b+2*c)*ZA*(ZC-ZB) + c*(ZB**2-ZC**2)\n",
    "    return(dE)\n",
    "\n",
    "def delta_anatole_model(n, ZA, ZB, ZC, a = 25, b = 6, c = 6):\n",
    "    E_ABC = (ZB-ZC)*(a*(n-1)+b*(ZB+ZC)) + ZA*(ZB+ZC)*n*(n-c)\n",
    "    return(E_ABC)\n",
    "\n",
    "\n",
    "def delta_abstract_model(n, ZA, ZB, ZC, a = 28, b = 8.5, c = 6):\n",
    "    \n",
    "    dE = -(-28*(n-1)*(ZC-ZB) - ((n-3)**2 + 8.5)*ZA*(ZC-ZB) - c*(ZB**2-ZC**2))\n",
    "    return(dE)"
   ]
  },
  {
   "cell_type": "code",
   "execution_count": null,
   "id": "42bd6438-6f67-49f9-bf43-ac12a5177998",
   "metadata": {},
   "outputs": [],
   "source": [
    "delta_michael_model(2, 6, 6, 9, a = 28, b = 3.5, c = 6)"
   ]
  },
  {
   "cell_type": "code",
   "execution_count": null,
   "id": "8b6d836c-a43b-4e66-a7c1-3a78887ac5aa",
   "metadata": {},
   "outputs": [],
   "source": [
    "delta_anatole_model(2, 6, 6, 7, a = 25, b = 6, c = 3.5)"
   ]
  },
  {
   "cell_type": "code",
   "execution_count": null,
   "id": "44d37c9e-e603-43a3-b61c-164e7eb44094",
   "metadata": {},
   "outputs": [],
   "source": [
    "data = pd.read_csv('/data/sahre/projects/atomic-energies/data/bonding_trends/pbe0_data/energies_homolytic.csv')\n",
    "\n",
    "\n",
    "############\n",
    "n = 2\n",
    "\n",
    "############\n",
    "delta_energy_dict = dict()\n",
    "for n in [2,3,4]:\n",
    "    if n == 2:\n",
    "        Z_ref = [6,7,8,9]\n",
    "        #Z_ref = [5, 6,7,8,9]\n",
    "        b,c = 630-619.5300386670592, 1.9867938212838283\n",
    "        Z0 = 7.5\n",
    "    elif n == 3:\n",
    "        Z_ref = [14,15,16,17]\n",
    "        #Z_ref = [13, 14,15,16,17]\n",
    "        b, c = 630-621.177360870767, 1.4955960933741659\n",
    "        Z0 = 15.5\n",
    "    elif n == 4:\n",
    "        Z_ref = [32,33,34,35]\n",
    "        #Z_ref = [31, 32,33,34,35]\n",
    "        b, c = 630-623.8201873437458, 0.8130818647886249\n",
    "        Z0 = 33.5\n",
    "    delta_energies = []\n",
    "    delta_guido = []\n",
    "    #delta_guido_m = []\n",
    "    delta_michael = []\n",
    "    #delta_michael_m = []\n",
    "    delta_anatole = []\n",
    "    delta_abstract = []\n",
    "\n",
    "\n",
    "    for ZA in Z_ref:\n",
    "        for ZB in Z_ref:\n",
    "            for ZC in Z_ref:\n",
    "                if ZB != ZC and ZB<ZC:\n",
    "                    if ZA <= ZB:\n",
    "                        E_AB = -630*data.loc[(data['Z1']==ZA) & (data['Z2']==ZB), 'bfe'].item()\n",
    "                    else:\n",
    "                        E_AB = -630*data.loc[(data['Z1']==ZB) & (data['Z2']==ZA), 'bfe'].item()\n",
    "                    if ZA <= ZC:\n",
    "                        E_AC = -630*data.loc[(data['Z1']==ZA) & (data['Z2']==ZC), 'bfe'].item()\n",
    "                    else:\n",
    "                        E_AC = -630*data.loc[(data['Z1']==ZC) & (data['Z2']==ZA), 'bfe'].item()\n",
    "                    delta_energies.append([ZA, ZB, ZC, E_AB-E_AC])\n",
    "\n",
    "                    delta_michael.append( delta_michael_model(n, ZA, ZB, ZC, a = 28, b = 3.5, c = 6) )\n",
    "                    #delta_michael_m.append( michael_model(n, ZA, ZB, a = 28, b = 3.5, c = 6) - michael_model(n, ZA, ZC, a = 28, b = 3.5, c = 6) )\n",
    "\n",
    "                    delta_guido.append( delta_guido_model(n, ZA, ZB, ZC, a = 25, b = 3, c = 6) )\n",
    "                    #delta_guido_m.append( guido_model(n, ZA, ZB, a = 25, b = 3, c = 6) - guido_model(n, ZA, ZC, a = 25, b = 3, c = 6) )\n",
    "                    \n",
    "                    delta_anatole.append( delta_anatole_model(n, ZA, ZB, ZC, a = 25, b = 6, c = 6) )\n",
    "                    \n",
    "                    delta_abstract.append( delta_abstract_model(n, ZA, ZB, ZC, a = 28, b = 8.5, c = 6) )\n",
    "    delta_energies = np.array(delta_energies)\n",
    "    \n",
    "    delta_energy_dict[n] = {'ZA':delta_energies[:,0], 'ZB':delta_energies[:,1], 'ZC':delta_energies[:,2], 'delta_ref':delta_energies[:,3],\n",
    "                            'delta_guido':np.array(delta_guido), 'delta_michael':np.array(delta_michael), 'delta_anatole':np.array(delta_anatole)}"
   ]
  },
  {
   "cell_type": "code",
   "execution_count": null,
   "id": "6fa75fdc-b685-4925-b17f-f2300b320f7b",
   "metadata": {},
   "outputs": [],
   "source": [
    "plt.plot(delta_energies[:,-1])\n",
    "plt.plot(delta_michael)\n",
    "plt.plot(delta_abstract)"
   ]
  },
  {
   "cell_type": "code",
   "execution_count": null,
   "id": "0e78700a-ca0d-41a0-b96f-0df7df0ac840",
   "metadata": {},
   "outputs": [],
   "source": [
    "min_n = []\n",
    "max_n = []\n",
    "for n in [2,3,4]:\n",
    "    max_guido = np.amax(delta_energy_dict[n]['delta_guido'])\n",
    "    max_ref = np.amax(delta_energy_dict[n]['delta_ref'])\n",
    "    max_michael = np.amax(delta_energy_dict[n]['delta_michael'])\n",
    "    max_n.append(max([max_ref, max_michael]))\n",
    "    \n",
    "    \n",
    "    min_guido = np.amin(delta_energy_dict[n]['delta_guido'])\n",
    "    min_ref = np.amin(delta_energy_dict[n]['delta_ref'])\n",
    "    min_michael = np.amin(delta_energy_dict[n]['delta_michael'])\n",
    "    min_n.append(min([min_ref, min_michael]))\n",
    "higher_val = max(max_n)+5\n",
    "lower_val = min(min_n)-5"
   ]
  },
  {
   "cell_type": "code",
   "execution_count": null,
   "id": "6c90fc87-199d-4a3d-9068-087339f1553c",
   "metadata": {},
   "outputs": [],
   "source": [
    "# plt.rcParams['figure.figsize'] = [20,5]\n",
    "# plt.rcParams['font.size'] = 14\n",
    "\n",
    "\n",
    "# fig, ax = plt.subplots(1,4)\n",
    "# colors = {2:'tab:blue', 3:'tab:orange', 4:'tab:green'}\n",
    "# for n in [2,3,4]:\n",
    "    \n",
    "#     ax[2].plot([lower_val, higher_val], [lower_val, higher_val], '--', color = 'tab:gray')\n",
    "#     ax[2].plot(delta_energy_dict[n]['delta_ref'], delta_energy_dict[n]['delta_michael'], 'o', color = colors[n])\n",
    "#     ax[2].plot(delta_energy_dict[n]['delta_ref'], delta_energy_dict[n]['delta_guido'], 'v', color = colors[n])\n",
    "\n",
    "    \n",
    "#     MAE = (np.abs(delta_energy_dict[n]['delta_michael'] - delta_energy_dict[n]['delta_ref'])).mean()\n",
    "#     ax[0].plot([lower_val, higher_val], [lower_val, higher_val], '--', color = 'tab:gray')\n",
    "#     ax[0].plot(delta_energy_dict[n]['delta_ref'], delta_energy_dict[n]['delta_michael'], 'o', color = colors[n], label = f'n = {n}, MAE = {np.round(MAE,1)}')\n",
    "#     ax[0].legend(frameon=False)\n",
    "    \n",
    "#     MAE = (np.abs(delta_energy_dict[n]['delta_guido'] - delta_energy_dict[n]['delta_ref'])).mean()\n",
    "#     ax[1].plot([lower_val, higher_val], [lower_val, higher_val], '--', color = 'tab:gray')\n",
    "#     ax[1].plot(delta_energy_dict[n]['delta_ref'], delta_energy_dict[n]['delta_guido'], 'v', color = colors[n], label = f'n = {n}, MAE = {np.round(MAE,1)}')\n",
    "#     ax[1].legend(frameon=False)\n",
    "    \n",
    "#     MAE = (np.abs(delta_energy_dict[n]['delta_anatole'] - delta_energy_dict[n]['delta_ref'])).mean()\n",
    "#     ax[3].plot([lower_val, higher_val], [lower_val, higher_val], '--', color = 'tab:gray')\n",
    "#     ax[3].plot(delta_energy_dict[n]['delta_ref'], delta_energy_dict[n]['delta_anatole'], 'v', color = colors[n], label = f'n = {n}, MAE = {np.round(MAE,1)}')\n",
    "#     ax[3].legend(frameon=False)\n",
    "\n",
    "\n",
    "# for n in range(3):\n",
    "#     ax[n].set_xlabel(r'$\\Delta E_{\\rm{ABC}}^{\\rm{ref}}$ (kcal/mol)')\n",
    "#     ax[n].set_xlim([lower_val, higher_val])\n",
    "#     ax[n].set_ylim([lower_val, higher_val])\n",
    "    \n",
    "\n",
    "# ax[0].set_ylabel(r'$\\Delta E_{\\rm{ABC}}^{\\rm{model}}$')\n",
    "\n",
    "# plt.tight_layout()"
   ]
  },
  {
   "cell_type": "code",
   "execution_count": null,
   "id": "ca99172a-e991-4f97-80e3-2b69dfc3ee71",
   "metadata": {},
   "outputs": [],
   "source": [
    "min_n = []\n",
    "max_n = []\n",
    "for n in [2,3,4]:\n",
    "    max_guido = np.amax(delta_energy_dict[n]['delta_guido'])\n",
    "    max_ref = np.amax(delta_energy_dict[n]['delta_ref'])\n",
    "    max_michael = np.amax(delta_energy_dict[n]['delta_michael'])\n",
    "    max_n.append(max([max_ref, max_michael]))\n",
    "    \n",
    "    min_guido = np.amin(delta_energy_dict[n]['delta_guido'])\n",
    "    min_ref = np.amin(delta_energy_dict[n]['delta_ref'])\n",
    "    min_michael = np.amin(delta_energy_dict[n]['delta_michael'])\n",
    "    min_n.append(min([min_ref, min_michael]))\n",
    "higher_val = max(max_n)+5\n",
    "lower_val = min(min_n)-5\n",
    "\n",
    "plt.rcParams['figure.figsize'] = [6,6]\n",
    "plt.rcParams['font.size'] = 18\n",
    "\n",
    "fig, ax = plt.subplots(1,1)\n",
    "colors = {2:'tab:blue', 3:'tab:orange', 4:'tab:green'}\n",
    "markers = {2:'o', 3:'v', 4:'s'}\n",
    "for n in [2,3,4]:\n",
    "    \n",
    "\n",
    "\n",
    "    \n",
    "    MAE = (np.abs(delta_energy_dict[n]['delta_michael'] - delta_energy_dict[n]['delta_ref'])).mean()\n",
    "    ax.plot([lower_val, higher_val], [lower_val, higher_val], '--', color = 'tab:gray')\n",
    "    ax.plot(delta_energy_dict[n]['delta_ref'], delta_energy_dict[n]['delta_michael'], markers[n], color = colors[n], label = f'row {n}')\n",
    "    ax.legend(frameon=False)\n",
    "    print(MAE)\n",
    "\n",
    "ax.set_xlabel(r'$\\Delta E_{\\rm{ABC}}^{\\rm{ref}}$ (kcal/mol)')\n",
    "ax.set_xlim([lower_val, higher_val])\n",
    "ax.set_ylim([lower_val, higher_val])\n",
    "    \n",
    "ax.set_xticks([-40,-20,0,20,40,60,80])\n",
    "ax.set_yticks([-40,-20,0,20,40,60,80])\n",
    "# ax.set_xticks([-50, -25 ,0, 25, 50, 75])\n",
    "# ax.set_yticks([-50, -25 ,0, 25, 50, 75])\n",
    "\n",
    "ax.set_ylabel(r'$\\Delta E_{\\rm{ABC}}^{\\rm{model}}$')\n",
    "\n",
    "#plt.tight_layout()\n",
    "# plt.savefig('/home/sahre/work/bonding_trends/figures/results/approx_eq.svg', bbox_inches = 'tight')"
   ]
  },
  {
   "cell_type": "code",
   "execution_count": null,
   "id": "a5bd598e-044d-4797-a23e-ec1bde6980c7",
   "metadata": {},
   "outputs": [],
   "source": [
    "higher_val"
   ]
  },
  {
   "cell_type": "code",
   "execution_count": null,
   "id": "3cbceded-9063-4710-ad4c-8fe4fe7e2e66",
   "metadata": {},
   "outputs": [],
   "source": [
    "(2.643962676106638+3.0391366661022055+6.9996662802416365)/3"
   ]
  },
  {
   "cell_type": "code",
   "execution_count": null,
   "id": "82ab231c-3e92-4301-b465-916de4b91525",
   "metadata": {},
   "outputs": [],
   "source": [
    "(21.5+11.7+39.2)/3"
   ]
  },
  {
   "cell_type": "code",
   "execution_count": null,
   "id": "e440e5a0-aaa7-4421-a43b-114b14acbd45",
   "metadata": {},
   "outputs": [],
   "source": [
    "plt.plot([lower_val, higher_val], [lower_val, higher_val], '--', color = 'tab:gray')"
   ]
  },
  {
   "cell_type": "code",
   "execution_count": null,
   "id": "e4842f0f-0fc9-4c29-a7c5-117b0939d59e",
   "metadata": {},
   "outputs": [],
   "source": [
    "np.array_equal(np.array(delta_michael), np.array(delta_michael_m))"
   ]
  },
  {
   "cell_type": "code",
   "execution_count": null,
   "id": "bb0da0d2-73b6-4feb-9472-3a9ae1587cce",
   "metadata": {},
   "outputs": [],
   "source": [
    "plt.plot(delta_energies[:,-1], delta_energies[:,-1], '--', color = 'tab:gray')\n",
    "\n",
    "plt.plot(delta_energies[:,-1], delta_michael, 'o')\n",
    "plt.plot(delta_energies[:,-1], delta_guido, 'o')"
   ]
  },
  {
   "cell_type": "code",
   "execution_count": null,
   "id": "3b688906-5d8b-4283-8e6e-ff3c487fd15f",
   "metadata": {},
   "outputs": [],
   "source": []
  },
  {
   "cell_type": "code",
   "execution_count": null,
   "id": "2f444d3c-0e73-49dd-965c-14bb7709d49b",
   "metadata": {},
   "outputs": [],
   "source": []
  },
  {
   "cell_type": "code",
   "execution_count": null,
   "id": "67ae13c0-33f0-4d4d-a50f-64bdf8f1b727",
   "metadata": {},
   "outputs": [],
   "source": [
    "def get_data_slice(n):\n",
    "    data = pd.read_csv('/data/sahre/projects/atomic-energies/data/bonding_trends/pbe0_data/energies_homolytic.csv')\n",
    "    if n == 2:\n",
    "        data_pbe0 = data.loc[(data['Z1'] >= 6) & (data['Z2'] >= 6) & (data['Z1'] <= 9) & (data['Z2'] <= 9)].to_dict('list')\n",
    "    elif n == 3:\n",
    "        data_pbe0 = data.loc[(data['Z1'] >= 14) & (data['Z2'] >= 14) & (data['Z1'] <= 17) & (data['Z2'] <= 17)].to_dict('list')\n",
    "    elif n == 4:\n",
    "        data_pbe0 = data.loc[(data['Z1'] >= 32) & (data['Z2'] >= 32) & (data['Z1'] <= 35) & (data['Z2'] <= 35)].to_dict('list')\n",
    "    return(data_pbe0)"
   ]
  },
  {
   "cell_type": "code",
   "execution_count": null,
   "id": "85c85eea-72cc-44dc-a14f-864ffff9b063",
   "metadata": {},
   "outputs": [],
   "source": [
    "approx_fit = {2:0, 3:0, 4:0}\n",
    "for n in approx_fit.keys():\n",
    "    d = get_data_slice(n)\n",
    "    energy_pred = []\n",
    "    smiles = []\n",
    "    for ZA, ZB, s in zip(d['Z1'], d['Z2'], d['smiles']):\n",
    "        smiles.append(s)        \n",
    "        energy_pred.append(get_approx_row(n, ZA, ZB))\n",
    "    \n",
    "    dict_tmp = {'smiles':smiles, 'energy_pred':energy_pred}\n",
    "    approx_fit[n] = pd.DataFrame(dict_tmp)"
   ]
  },
  {
   "cell_type": "code",
   "execution_count": null,
   "id": "5d1134f9-28b4-4f14-b59f-b581f36276f8",
   "metadata": {},
   "outputs": [],
   "source": [
    "# delta delta\n",
    "delta_delta = dict()\n",
    "n = 2\n",
    "for n in [2,3,4]:\n",
    "    smiles = approx_fit[n]['smiles']\n",
    "    energies_pbe0 = -630*np.array(get_data_slice(n)['bfe'])\n",
    "    Z1 = get_data_slice(n)['Z1']\n",
    "    Z2 = get_data_slice(n)['Z2']\n",
    "    \n",
    "    energies_pred = approx_fit[n]['energy_pred']\n",
    "    delta_delta_pbe0 = []\n",
    "    delta_delta_pred = []\n",
    "    smiles_combi = []\n",
    "    for i in range(len(energies_pred)-1):\n",
    "        for j in range(i+1, len(energies_pred)):\n",
    "            smiles_combi.append(f'{smiles[i]} - {smiles[j]}')\n",
    "\n",
    "            delta_delta_pbe0.append(energies_pbe0[i]  - energies_pbe0[j])\n",
    "            delta_delta_pred.append(energies_pred[i]  - energies_pred[j])\n",
    "            \n",
    "            ZA = Z1[i]\n",
    "            ZB = Z2[i]\n",
    "            ZC = Z2[j]\n",
    "            \n",
    "    delta_delta[n] = {'smiles':smiles_combi, 'delta_pbe0':np.array(delta_delta_pbe0), 'delta_pred':np.array(delta_delta_pred)}\n"
   ]
  },
  {
   "cell_type": "code",
   "execution_count": null,
   "id": "31fc54f5-d0b4-4678-8f0c-06149c29f400",
   "metadata": {},
   "outputs": [],
   "source": []
  },
  {
   "cell_type": "code",
   "execution_count": null,
   "id": "cd95ec3c-01e1-48c1-a228-4e05e7e84847",
   "metadata": {},
   "outputs": [],
   "source": [
    "plt.rcParams['figure.figsize'] = [4,4]\n",
    "fig, ax = plt.subplots(1,1)\n",
    "\n",
    "n = 2\n",
    "ref = [np.amin(delta_delta[n]['delta_pbe0']), np.amax(delta_delta[n]['delta_pbe0'])]\n",
    "ax.plot(ref, ref, '--')\n",
    "ax.plot(delta_delta[n]['delta_pbe0'], delta_delta[n]['delta_pred'], 'o')"
   ]
  },
  {
   "cell_type": "code",
   "execution_count": null,
   "id": "9eb18cce-b49b-43af-9244-28c46c5c2123",
   "metadata": {},
   "outputs": [],
   "source": [
    "############\n",
    "n = 4\n",
    "############\n",
    "\n",
    "def guido_model(n, ZA, ZB, ZC, a = 25, b = 3, c = 6):\n",
    "    dE = a*(n-1)*(ZB-ZC) + (b+2*c)*ZA*(ZC-ZB) + c*(ZB**2-ZC**2)\n",
    "    return(dE)\n",
    "\n",
    "if n == 2:\n",
    "    Z_ref = [6,7,8,9]\n",
    "elif n == 3:\n",
    "    Z_ref = [14,15,16,17]\n",
    "elif n == 4:\n",
    "    Z_ref = [32,33,34,35]\n",
    "\n",
    "delta_energies_guido = []\n",
    "delta_energies_michael = []\n",
    "    \n",
    "for ZA in Z_ref:\n",
    "    for ZB in Z_ref:\n",
    "        for ZC in Z_ref:\n",
    "            if ZB != ZC and ZB<ZC:\n",
    "                a = 28\n",
    "                b = 3.5\n",
    "                c = 6\n",
    "                E_AB = -(a*(n-1)*(ZA+ZB)+((n-3)**2-b)*ZA*ZB-c*(ZA-ZB)**2)\n",
    "                E_AC = -(a*(n-1)*(ZA+ZC)+((n-3)**2-b)*ZA*ZC-c*(ZA-ZC)**2)\n",
    "                \n",
    "                delta_energies_guido.append(guido_model(n, ZA, ZB, ZC, a = 25, b = 3, c = 6))\n",
    "                \n",
    "                delta_energies_rough2.append(a*(n-1)*(ZC-ZB) + ((n-3)**2 - b)*ZA*(ZC-ZB) + c*((ZA-ZB)**2-(ZA-ZC)**2))\n",
    "                \n",
    "                delta_energies_rough3.append(a*(n-1)*(ZC-ZB) + (n**2-6*n+9 - b + 2*c)*ZA*(ZC-ZB) + c*(ZB**2-ZC**2) )\n",
    "                \n"
   ]
  },
  {
   "cell_type": "code",
   "execution_count": null,
   "id": "b5bf7f39-3f56-4ff4-9aab-3c3420e47b40",
   "metadata": {},
   "outputs": [],
   "source": [
    "plt.rcParams['figure.figsize'] = [4,4]\n",
    "fig, ax = plt.subplots(1,1)\n",
    "\n",
    "n = 2\n",
    "ref = [np.amin(delta_delta[n]['delta_pbe0']), np.amax(delta_delta[n]['delta_pbe0'])]\n",
    "ax.plot(ref, ref, '--')\n",
    "ax.plot(delta_delta[n]['delta_pbe0'], delta_delta[n]['delta_pred'], 'o')\n",
    "\n",
    "plt.plot(delta_energies_guido)"
   ]
  },
  {
   "cell_type": "code",
   "execution_count": null,
   "id": "13b99388-2714-45a4-8bd1-47063e18677d",
   "metadata": {},
   "outputs": [],
   "source": []
  },
  {
   "cell_type": "code",
   "execution_count": null,
   "id": "09b2b9d9-bfb1-42fb-b0b9-8f7643fe311a",
   "metadata": {},
   "outputs": [],
   "source": [
    "delta_delta[n]['delta_pred']"
   ]
  },
  {
   "cell_type": "code",
   "execution_count": null,
   "id": "1fa3b610-e316-4b38-b3f2-558070c6bf75",
   "metadata": {},
   "outputs": [],
   "source": [
    "delta_energies_rough"
   ]
  },
  {
   "cell_type": "code",
   "execution_count": null,
   "id": "a169c111-85a7-4950-946c-cb33f2098a34",
   "metadata": {},
   "outputs": [],
   "source": [
    "plt.rcParams['figure.figsize'] = [4,4]\n",
    "fig, ax = plt.subplots(1,1)\n",
    "\n",
    "n = 3\n",
    "ref = [np.amin(delta_delta[n]['delta_pbe0']), np.amax(delta_delta[n]['delta_pbe0'])]\n",
    "ax.plot(ref, ref, '--')\n",
    "ax.plot(delta_delta[n]['delta_pbe0'], delta_delta[n]['delta_pred'], 'o')\n",
    "\n",
    "(np.abs(delta_delta[n]['delta_pred']-delta_delta[n]['delta_pbe0'])).mean()"
   ]
  },
  {
   "cell_type": "code",
   "execution_count": null,
   "id": "0ce14a76-8141-425d-8dcf-635d056bb205",
   "metadata": {},
   "outputs": [],
   "source": [
    "plt.rcParams['figure.figsize'] = [4,4]\n",
    "fig, ax = plt.subplots(1,1)\n",
    "\n",
    "n = 4\n",
    "ref = [np.amin(delta_delta[n]['delta_pbe0']), np.amax(delta_delta[n]['delta_pbe0'])]\n",
    "ax.plot(ref, ref, '--')\n",
    "ax.plot(delta_delta[n]['delta_pbe0'], delta_delta[n]['delta_pred'], 'o')\n",
    "\n",
    "(np.abs(delta_delta[n]['delta_pred']-delta_delta[n]['delta_pbe0'])).mean()"
   ]
  },
  {
   "cell_type": "markdown",
   "id": "8fc5a42f-0a23-44d5-b2f0-0cc3bdf393b8",
   "metadata": {},
   "source": [
    "### Optimize Delta binding energies"
   ]
  },
  {
   "cell_type": "code",
   "execution_count": null,
   "id": "eb52ba08-a8d1-4adb-9972-7cfc65041d69",
   "metadata": {},
   "outputs": [],
   "source": [
    "# optimize approx formula\n",
    "\n",
    "# x: n, ZA, ZB, ZC, ZD\n",
    "# y: E_AB - E_CD\n",
    "# params a, b, c\n",
    "\n",
    "def delta_binding(var, a, b ,c):\n",
    "    n, ZA, ZB, ZC, ZD = var.T\n",
    "\n",
    "    E_AB = -(a*(n-1)*(ZA+ZB)+((n-3)**2-b)*ZA*ZB-c*(ZA-ZB)**2)\n",
    "    E_CD = -(a*(n-1)*(ZC+ZD)+((n-3)**2-b)*ZC*ZD-c*(ZC-ZD)**2)\n",
    "\n",
    "    return(E_AB - E_CD)\n",
    "\n",
    "def delta_binding2(var, a, b ,c):\n",
    "    n, ZA, ZB, ZC, ZD = var.T\n",
    "    #a, b, c = p\n",
    "    E_AB = -(a*(n-1)*(ZA+ZB)-b*ZA*ZB-c*(ZA-ZB)**2)\n",
    "    E_CD = -(a*(n-1)*(ZC+ZD)-b*ZC*ZD-c*(ZC-ZD)**2)\n",
    "\n",
    "    return(E_AB - E_CD)"
   ]
  },
  {
   "cell_type": "code",
   "execution_count": null,
   "id": "b297b643-0757-41ee-9143-d15742ddd737",
   "metadata": {},
   "outputs": [],
   "source": []
  },
  {
   "cell_type": "code",
   "execution_count": null,
   "id": "b86c7382-e71b-4bd2-bb32-d5af20e6711b",
   "metadata": {},
   "outputs": [],
   "source": [
    "def get_Z_single_row(n):\n",
    "    Z = []\n",
    "\n",
    "    Z1 = get_data_slice(n)['Z1']\n",
    "    Z2 = get_data_slice(n)['Z2']\n",
    "\n",
    "    for i in range(len(Z1)-1):\n",
    "        for j in range(i+1, len(Z1)):\n",
    "            ZA = Z1[i]\n",
    "            ZB = Z2[i]\n",
    "            ZC = Z1[j]\n",
    "            ZD = Z2[j]\n",
    "            Z.append([n, ZA, ZB, ZC, ZD])\n",
    "    Z = np.array(Z)\n",
    "    return(Z)\n",
    "\n",
    "def get_Z():\n",
    "    Z = []\n",
    "    for n in [2,3,4]:\n",
    "\n",
    "        Z1 = get_data_slice(n)['Z1']\n",
    "        Z2 = get_data_slice(n)['Z2']\n",
    "\n",
    "        for i in range(len(Z1)-1):\n",
    "            for j in range(i+1, len(Z1)):\n",
    "                ZA = Z1[i]\n",
    "                ZB = Z2[i]\n",
    "                ZC = Z1[j]\n",
    "                ZD = Z2[j]\n",
    "                Z.append([n, ZA, ZB, ZC, ZD])\n",
    "\n",
    "    Z = np.array(Z)\n",
    "    return(Z)\n"
   ]
  },
  {
   "cell_type": "code",
   "execution_count": null,
   "id": "540694ae-215d-4a76-af63-d6e5cc699341",
   "metadata": {},
   "outputs": [],
   "source": [
    "# delta delta\n",
    "\n",
    "# get data\n",
    "single_row = False\n",
    "n = 4\n",
    "if single_row:\n",
    "    Z = get_Z_single_row(n)\n",
    "    ydata = delta_delta[n]['delta_pbe0']\n",
    "else:\n",
    "    Z = get_Z()\n",
    "    ydata = np.concatenate((delta_delta[2]['delta_pbe0'], delta_delta[3]['delta_pbe0'], delta_delta[4]['delta_pbe0']))\n",
    "\n",
    "\n",
    "\n",
    "#energies_pbe0 = -630*np.array(get_data_slice(n)['bfe'])\n",
    "\n",
    "# fit\n",
    "p0 = [27.3, 3.4, 6]\n",
    "out = curve_fit(delta_binding, Z, ydata, p0)\n",
    "\n",
    "# result\n",
    "a, b, c = out[0]\n",
    "pred_no_opt = delta_binding(Z, 25, 3 ,6)\n",
    "pred_opt = delta_binding(Z, a, b ,c)\n",
    "pred_opt_rounded = delta_binding(Z, np.round(a,1), np.round(b,1) ,np.round(c,0))\n",
    "\n",
    "mae = (np.abs(pred_opt-ydata)).mean()\n",
    "mae_rounded = (np.abs(pred_opt_rounded-ydata)).mean()\n",
    "print(f'MAE = {np.round(mae,2)}')\n",
    "print(f'MAE rounded = {np.round(mae_rounded, 2)}')\n",
    "\n",
    "# second model\n",
    "p0 = [27.3, 3.4, 6]\n",
    "out2 = curve_fit(delta_binding2, Z, ydata, p0)[0]\n",
    "pred_opt2 = delta_binding2(Z, out2[0], out2[1] ,out2[2])\n",
    "mae2 = (np.abs(pred_opt2-ydata)).mean()\n",
    "print(f'MAE2 = {np.round(mae2,2)}')\n",
    "\n",
    "# nicely rounded coefficients\n",
    "pred_opt_nice = delta_binding(Z, 28, 3.5 ,6)\n",
    "mae_nice = (np.abs(pred_opt_nice-ydata)).mean()\n",
    "print(f'MAE nice = {mae_nice}')\n",
    "\n",
    "if single_row:\n",
    "    ref = [np.amin(delta_delta[n]['delta_pbe0']), np.amax(delta_delta[n]['delta_pbe0'])]\n",
    "    plt.plot(ref, ref, '--')\n",
    "    plt.plot(delta_delta[n]['delta_pbe0'], pred, 'o')\n",
    "    plt.plot(delta_delta[n]['delta_pbe0'], pred2, 'o')\n",
    "    plt.plot()\n",
    "    \n",
    "else:\n",
    "    plt.rcParams['figure.figsize'] = [4, 4]\n",
    "    #fig, ax = plt.subplots(1,3)\n",
    "    #n = 4\n",
    "    for n in [2,3,4]:\n",
    "        \n",
    "        fig, ax = plt.subplots(1,1)\n",
    "        \n",
    "        ref = [np.amin(delta_delta[n]['delta_pbe0']), np.amax(delta_delta[n]['delta_pbe0'])]\n",
    "        #ax[n-2].plot(ref, ref, '--', color = 'tab:gray')\n",
    "\n",
    "        if n == 2:\n",
    "            istart = 0\n",
    "            iend = 45\n",
    "\n",
    "        elif n == 3:\n",
    "            istart = 45\n",
    "            iend = 90\n",
    "            \n",
    "        elif n == 4:\n",
    "            istart = 90\n",
    "            iend = 135\n",
    "        \n",
    "        pplot_opt = pred_opt[istart:iend]\n",
    "        pplot_opt_rounded = pred_opt_rounded[istart:iend]\n",
    "        pplot_no_opt = pred_no_opt[istart:iend]\n",
    "        pplot2_opt = pred_opt2[istart:iend]\n",
    "        pplot_opt_nice = pred_opt_nice[istart:iend]\n",
    "        \n",
    "        #ax[n-2].plot(delta_delta[n]['delta_pbe0'], pplot_no_opt, 'o')\n",
    "        #ax[n-2].plot(delta_delta[n]['delta_pbe0'], pplot_opt, 'o')\n",
    "        \n",
    "        #ax[n-2].plot(delta_delta[n]['delta_pbe0'], pplot_opt_rounded, 'o')\n",
    "        \n",
    "        #ax[n-2].plot(delta_delta[n]['delta_pbe0'], pplot_opt_nice, 'o')\n",
    "        \n",
    "        #ax[n-2].plot(delta_delta[n]['delta_pbe0'], pplot2_opt, 'o')\n",
    "        \n",
    "        #ax[n-2].set_xlabel(r'$\\Delta E_{\\rm{AB, CD}}^{\\rm{ref}}$ ref (kcal/mol)')\n",
    "        #ax[n-2].set_ylabel(r'$\\Delta E_{\\rm{AB, CD}}^{\\rm{model}}$  (kcal/mol)')\n",
    "        \n",
    "        ax.plot(ref, ref, '--', color = 'tab:gray')\n",
    "        \n",
    "        color = {2:'tab:blue', 3:'tab:orange', 4:'tab:red'}\n",
    "        ax.plot(delta_delta[n]['delta_pbe0'], pplot_opt_nice, 'o', color = color[n])\n",
    "        ax.set_xlabel(r'$\\Delta E_{\\rm{AB, CD}}^{\\rm{PBE0}}$ ref (kcal/mol)')\n",
    "        ax.set_ylabel(r'$\\Delta E_{\\rm{AB, CD}}^{\\rm{SRL**}}$  (kcal/mol)')\n",
    "        \n",
    "        p = f'/home/sahre/work/bonding_trends/figures/results/delta_AB_CD_nice_{n}.png'\n",
    "        #plt.savefig(p, bbox_inches = 'tight')\n",
    "#plt.tight_layout()"
   ]
  },
  {
   "cell_type": "code",
   "execution_count": null,
   "id": "475d408f-61e6-4d7f-99c9-bafe6c24e226",
   "metadata": {},
   "outputs": [],
   "source": []
  },
  {
   "cell_type": "code",
   "execution_count": null,
   "id": "f682990f-3eac-4fbf-aa27-0268490c7004",
   "metadata": {},
   "outputs": [],
   "source": [
    "data = pd.read_csv('/data/sahre/projects/atomic-energies/data/bonding_trends/pbe0_data/energies_homolytic.csv')\n",
    "# coefficients SRL*\n",
    "\n",
    "def delta_SRL(ZA, ZB, ZC, b, c):\n",
    "    deltaE = b*ZA*(ZC-ZB) + c*(ZB**(7/3)-ZC**(7/3))\n",
    "    #deltaE = c*(ZB**(7/3)-ZC**(7/3))\n",
    "    return(deltaE)\n",
    "\n",
    "def delta_taylor2(ZA, ZB, ZC, Z0, b, c):\n",
    "    deltaE = b*ZA*(ZC-ZB) + c*(-7/9*Z0**(4/3)*(ZB-ZC)) + c*(14/9*Z0**(1/3)*(ZB**2-ZC**2))\n",
    "    #deltaE = c*(ZB**(7/3)-ZC**(7/3))\n",
    "    return(deltaE)\n",
    "\n",
    "def delta_approx1(ZA, ZB, ZC, b, c):\n",
    "    deltaE = b*ZA*(ZC-ZB) + c*((ZB+ZC)/2)**(1/3)*(ZB**2-ZC**2)\n",
    "    #deltaE = c*((ZB+ZC)/2)**(1/3)*(ZB**2-ZC**2)\n",
    "    return(deltaE)\n",
    "\n",
    "def delta_approx2(ZA, ZB, ZC, n, b, c):\n",
    "    deltaE = (10-n)*ZA*(ZC-ZB) + 22*n*(ZB-ZC) + (8-n)*(ZB**2-ZC**2)\n",
    "    #deltaE = c*((ZB+ZC)/2)**(1/3)*(ZB**2-ZC**2)\n",
    "    return(deltaE)\n",
    "\n",
    "def delta_approx2b(ZA, ZB, ZC, Z0, b, c):\n",
    "    deltaE = b*ZA*(ZC-ZB) + 22*n*(ZB-ZC) + c*(14/9*Z0**(1/3)*(ZB**2-ZC**2))\n",
    "    #deltaE = c*(ZB**(7/3)-ZC**(7/3))\n",
    "    return(deltaE)\n",
    "############\n",
    "n = 2\n",
    "\n",
    "############\n",
    "if n == 2:\n",
    "    Z_ref = [6,7,8,9]\n",
    "    b,c = 630-619.5300386670592, 1.9867938212838283\n",
    "    Z0 = 7.5\n",
    "elif n == 3:\n",
    "    Z_ref = [14,15,16,17]\n",
    "    b, c = 630-621.177360870767, 1.4955960933741659\n",
    "    Z0 = 15.5\n",
    "elif n == 4:\n",
    "    Z_ref = [32,33,34,35]\n",
    "    b, c = 630-623.8201873437458, 0.8130818647886249\n",
    "    Z0 = 33.5\n",
    "delta_energies = []\n",
    "dE_SRL = []\n",
    "dE_t2 = []\n",
    "dE1 = []\n",
    "dE2 = []\n",
    "dE2b = []\n",
    "\n",
    "\n",
    "for ZA in Z_ref:\n",
    "    for ZB in Z_ref:\n",
    "        for ZC in Z_ref:\n",
    "            if ZB != ZC and ZB<ZC:\n",
    "                if ZA <= ZB:\n",
    "                    E_AB = -630*data.loc[(data['Z1']==ZA) & (data['Z2']==ZB), 'bfe'].item()\n",
    "                else:\n",
    "                    E_AB = -630*data.loc[(data['Z1']==ZB) & (data['Z2']==ZA), 'bfe'].item()\n",
    "                if ZA <= ZC:\n",
    "                    E_AC = -630*data.loc[(data['Z1']==ZA) & (data['Z2']==ZC), 'bfe'].item()\n",
    "                else:\n",
    "                    E_AC = -630*data.loc[(data['Z1']==ZC) & (data['Z2']==ZA), 'bfe'].item()\n",
    "                delta_energies.append([ZA, ZB, ZC, E_AB-E_AC])\n",
    "                dE_SRL.append(delta_SRL(ZA, ZB, ZC, b, c))\n",
    "                dE1.append(delta_approx1(ZA, ZB, ZC, b, c))\n",
    "                dE_t2.append(delta_taylor2(ZA, ZB, ZC, Z0, b, c))\n",
    "                dE2.append(delta_approx2(ZA, ZB, ZC, n, b, c))\n",
    "                dE2b.append(delta_approx2b(ZA, ZB, ZC, n, b, c))\n",
    "\n",
    "                \n",
    "\n",
    "delta_energies = np.array(delta_energies)\n",
    "dE_SRL = np.array(dE_SRL)\n",
    "dE1 = np.array(dE1)"
   ]
  },
  {
   "cell_type": "code",
   "execution_count": null,
   "id": "13780dab-82f0-4d19-b641-6085f7897ade",
   "metadata": {},
   "outputs": [],
   "source": [
    "plt.plot(delta_energies[:,-1])\n",
    "plt.plot(dE_SRL)\n",
    "plt.plot(dE_t2)\n",
    "#plt.plot(dE1)\n",
    "#plt.plot(dE2)\n",
    "#plt.plot(dE2b)\n",
    "\n",
    "#plt.plot(dE1)"
   ]
  },
  {
   "cell_type": "code",
   "execution_count": null,
   "id": "b8ee4abe-abd6-4e69-a66f-9e094d42152d",
   "metadata": {},
   "outputs": [],
   "source": [
    "(np.abs(delta_energies[:,-1]-dE_SRL)).mean()"
   ]
  },
  {
   "cell_type": "code",
   "execution_count": null,
   "id": "e1076fe8-2137-4b9e-9547-2e33a19df3b2",
   "metadata": {},
   "outputs": [],
   "source": [
    "(np.abs(delta_energies[:,-1]-dE_t2)).mean()"
   ]
  },
  {
   "cell_type": "code",
   "execution_count": null,
   "id": "cb325ba3-9b86-41bd-a6c1-63d1ab22d9ff",
   "metadata": {},
   "outputs": [],
   "source": [
    "lin_factor1 = []\n",
    "lin_factor2 = []\n",
    "quadr_factor = []\n",
    "for n in [2,3,4]:\n",
    "    if n == 2:\n",
    "        Z_ref = [6,7,8,9]\n",
    "        b,c = 630-619.5300386670592, 1.9867938212838283\n",
    "        Z0 = 7.5\n",
    "    elif n == 3:\n",
    "        Z_ref = [14,15,16,17]\n",
    "        b, c = 630-621.177360870767, 1.4955960933741659\n",
    "        Z0 = 15.5\n",
    "    elif n == 4:\n",
    "        Z_ref = [32,33,34,35]\n",
    "        b, c = 630-623.8201873437458, 0.8130818647886249\n",
    "        Z0 = 33.5\n",
    "    lin_factor1.append(b)\n",
    "    lin_factor2.append(7/9*c*Z0**(4/3))\n",
    "    quadr_factor.append(14/9*Z0**(1/3)*c)\n",
    "#     print('####################')\n",
    "#     print(lin_factor1)\n",
    "#     print(lin_factor2)\n",
    "#     print(quadr_factor)"
   ]
  },
  {
   "cell_type": "code",
   "execution_count": null,
   "id": "c4593dfb-bcfc-413a-a654-c0fd68a9152b",
   "metadata": {},
   "outputs": [],
   "source": [
    "lin_factor1"
   ]
  },
  {
   "cell_type": "code",
   "execution_count": null,
   "id": "75a40af4-cddc-4465-bc4c-56a5cad245e3",
   "metadata": {},
   "outputs": [],
   "source": [
    "plt.plot(lin_factor1)"
   ]
  },
  {
   "cell_type": "code",
   "execution_count": null,
   "id": "28e82c16-be7e-4d29-a250-99b1b3938a2c",
   "metadata": {},
   "outputs": [],
   "source": [
    "plt.plot(lin_factor2, '-o')"
   ]
  },
  {
   "cell_type": "code",
   "execution_count": null,
   "id": "43d4ebbc-7138-422b-9185-9ac21f3a856b",
   "metadata": {},
   "outputs": [],
   "source": [
    "plt.plot(quadr_factor, '-o')"
   ]
  },
  {
   "cell_type": "code",
   "execution_count": null,
   "id": "a00fa8a6-eab0-4690-bb29-3eba9b2b59fc",
   "metadata": {},
   "outputs": [],
   "source": [
    "n = 4\n",
    "if n == 2:\n",
    "    ZB = [6,7,8,9]\n",
    "    ZC = [6,7,8,9]\n",
    "elif n == 3:\n",
    "    ZB = [14, 15, 16, 17]\n",
    "    ZC = [14, 15, 16, 17]\n",
    "elif n == 4:\n",
    "    ZB = [32, 33, 34, 35]\n",
    "    ZC = [32, 33, 34, 35] \n",
    "\n",
    "\n",
    "exact_diff = []\n",
    "approx_diff = []\n",
    "approx_diff2 = []\n",
    "approx_diff3 = []\n",
    "approx_diff4 = []\n",
    "\n",
    "for i in ZB:\n",
    "    for j in ZC:\n",
    "        if i != j:\n",
    "            exact_diff.append(i**(7/3) - j**(7/3))\n",
    "            \n",
    "            approx_diff.append( (i-j)**(7/3) )\n",
    "            \n",
    "            approx_diff2.append( ((i+j)/2)**(1/3)*(i**2-j**2) )\n",
    "            \n",
    "            approx_diff3.append( (0.467324290998767*n**3 + 3.4116317303740207)**(1/3)*(i**2-j**2) )\n",
    "            \n",
    "            approx_diff4.append( (0.5*n**3 )**(1/3)*(i**2-j**2) )"
   ]
  },
  {
   "cell_type": "code",
   "execution_count": null,
   "id": "b37e8b37-7d09-46d7-9ace-3503d18a52bc",
   "metadata": {},
   "outputs": [],
   "source": [
    "np.array(approx_diff2)-np.array(exact_diff)"
   ]
  },
  {
   "cell_type": "code",
   "execution_count": null,
   "id": "fbeb6b48-1359-4c4e-8a4a-7400bbe4a06c",
   "metadata": {},
   "outputs": [],
   "source": [
    "plt.plot(exact_diff, '-o')\n",
    "plt.plot(approx_diff, '-o')\n",
    "plt.plot(approx_diff2, '-o')\n",
    "plt.plot(approx_diff3, '-o')\n",
    "plt.plot(approx_diff4, '-o')\n"
   ]
  },
  {
   "cell_type": "code",
   "execution_count": null,
   "id": "3ff3bb3b-e5f7-4bea-8273-a0990954b335",
   "metadata": {},
   "outputs": [],
   "source": [
    "row = np.array([2,3,4])\n",
    "av_Z = np.array([7.5, 15.5, 33.5])\n",
    "\n",
    "plt.plot(row**(3), av_Z, '-o')"
   ]
  },
  {
   "cell_type": "code",
   "execution_count": null,
   "id": "e67a48ad-c714-4834-86b4-d7e80e06e8aa",
   "metadata": {},
   "outputs": [],
   "source": [
    "from scipy.stats import linregress\n",
    "linregress(row**3, av_Z)"
   ]
  },
  {
   "cell_type": "code",
   "execution_count": null,
   "id": "d20bcf37-c252-46f0-8b19-b707b4b4d0ab",
   "metadata": {},
   "outputs": [],
   "source": [
    "Z0 = 33.5\n",
    "taylor1 = lambda Z, Z0:Z0**(7/3)+7/3*Z0**(4/3)*(Z-Z0)\n",
    "\n",
    "taylor2 = lambda Z, Z0:Z0**(7/3)+7/3*Z0**(4/3)*(Z-Z0)+7*4/(2*3*3)*Z0**(1/3)*(Z-Z0)**2\n",
    "\n",
    "Z_exact = []\n",
    "Z_taylor1 = []\n",
    "Z_taylor2 = []\n",
    "#[6,7,8,9]\n",
    "for z in [32,33,34,35]:\n",
    "    Z_exact.append(z**(7/3))\n",
    "    Z_taylor1.append(taylor1(z,Z0))\n",
    "    Z_taylor2.append(taylor2(z,Z0))\n",
    "    \n",
    "plt.plot(Z_exact)\n",
    "plt.plot(Z_taylor1)\n",
    "plt.plot(Z_taylor2)"
   ]
  },
  {
   "cell_type": "code",
   "execution_count": null,
   "id": "90ca4246-af52-4f82-81a0-dbc585de815e",
   "metadata": {},
   "outputs": [],
   "source": []
  },
  {
   "cell_type": "markdown",
   "id": "74056573-436e-4a7c-8802-160aff4eb888",
   "metadata": {},
   "source": [
    "### Taylor-expansion"
   ]
  },
  {
   "cell_type": "code",
   "execution_count": null,
   "id": "773cabfb-9e68-4ffb-aae9-81b8630f5155",
   "metadata": {},
   "outputs": [],
   "source": [
    "def get_data_slice(n):\n",
    "    data = pd.read_csv('/data/sahre/projects/atomic-energies/data/bonding_trends/pbe0_data/energies_homolytic.csv')\n",
    "    if n == 2:\n",
    "        data_pbe0 = data.loc[(data['Z1'] >= 6) & (data['Z2'] >= 6) & (data['Z1'] <= 9) & (data['Z2'] <= 9)].to_dict('list')\n",
    "    elif n == 3:\n",
    "        data_pbe0 = data.loc[(data['Z1'] >= 14) & (data['Z2'] >= 14) & (data['Z1'] <= 17) & (data['Z2'] <= 17)].to_dict('list')\n",
    "    elif n == 4:\n",
    "        data_pbe0 = data.loc[(data['Z1'] >= 32) & (data['Z2'] >= 32) & (data['Z1'] <= 35) & (data['Z2'] <= 35)].to_dict('list')\n",
    "    return(data_pbe0)"
   ]
  },
  {
   "cell_type": "code",
   "execution_count": null,
   "id": "c9a8d70d-60bb-4901-bddb-dc9a9354a134",
   "metadata": {},
   "outputs": [],
   "source": [
    "parameters = {2:[215.74332008284685, 10.469961332940784, 1.9867938212838283], \n",
    "              3:[392.7174091265252, 8.822639129233039, 1.4955960933741659], \n",
    "              4:[1109.2368764409111, 6.179812656254171, 0.8130818647886249]}\n",
    "\n",
    "def SRL_nl(ZA, ZB, a, b, c):\n",
    "    E_AB = a - b*ZA*ZB + c*(np.power(ZA, 7/3)+np.power(ZB, 7/3))\n",
    "    return(E_AB)\n",
    "\n",
    "def taylor2(ZA, ZB, Z0, a, b, c):\n",
    "    #E_AB = a + 4/9*Z0**(7/3)*c - 35/9*Z0**(4/3)*c*(ZA+ZB)-b*ZA*ZB+28/9*Z0**(1/3)*c*(ZA**2+ZB**2)\n",
    "    E_AB = a - b*ZA*ZB + c*(2*Z0**(7/3)+7/3*Z0**(4/3)*(ZA+ZB-2*Z0)+28/18*Z0**(1/3)*((ZA-Z0)**2+(ZB-Z0)**2))\n",
    "    return(E_AB)\n",
    "\n",
    "def taylor2b(ZA, ZB, Z0, a, b, c):\n",
    "    #E_AB = a + 4/9*Z0**(7/3)*c - 35/9*Z0**(4/3)*c*(ZA+ZB)-b*ZA*ZB+28/9*Z0**(1/3)*c*(ZA**2+ZB**2)\n",
    "    E_AB = a  + 4/9*Z0**(7/3)*c - 7/9*Z0**(4/3)*c*(ZA+ZB) - b*ZA*ZB+28/18*Z0**(1/3)*c*(ZA**2+ZB**2)\n",
    "    return(E_AB)\n",
    "\n",
    "def taylor2_diff(ZA, ZB, ZC, Z0, a, b, c):\n",
    "    #E_AB = a + 4/9*Z0**(7/3)*c - 35/9*Z0**(4/3)*c*(ZA+ZB)-b*ZA*ZB+28/9*Z0**(1/3)*c*(ZA**2+ZB**2)\n",
    "    dE_ABC = - 7/9*Z0**(4/3)*c*(ZB-ZC) - b*ZA*(ZB-ZC) + 28/18*Z0**(1/3)*c*(ZB**2 - ZC**2)\n",
    "    return(dE_ABC)"
   ]
  },
  {
   "cell_type": "code",
   "execution_count": null,
   "id": "7b4a1a08-057d-4ced-8c89-b40eb7e77727",
   "metadata": {},
   "outputs": [],
   "source": [
    "\n"
   ]
  },
  {
   "cell_type": "code",
   "execution_count": null,
   "id": "0b33a108-5775-4742-8b21-0929723b265a",
   "metadata": {},
   "outputs": [],
   "source": [
    "ZA = 6\n",
    "ZB = 6\n",
    "parameters[2][2]*(ZA**(7/3)+ZB**(7/3))"
   ]
  },
  {
   "cell_type": "code",
   "execution_count": null,
   "id": "526cbda0-4a3c-45a9-a8c1-75eecd1cd992",
   "metadata": {},
   "outputs": [],
   "source": [
    "get_data_slice(n)['Z1']"
   ]
  },
  {
   "cell_type": "code",
   "execution_count": null,
   "id": "b9236629-5a01-4321-a1bc-3aa4158de70b",
   "metadata": {},
   "outputs": [],
   "source": [
    "n = 2\n",
    "\n",
    "if n == 2:\n",
    "    Z0 = 8\n",
    "elif n == 3:\n",
    "    Z0 = 16\n",
    "elif n == 4:\n",
    "    Z0 = 33.5\n",
    "\n",
    "a = parameters[n][0]\n",
    "b = parameters[n][1]\n",
    "c = parameters[n][2]\n",
    "\n",
    "energy_pbe0 = []\n",
    "energy_SRL = []\n",
    "energy_taylor2 = []\n",
    "energy_taylor2b = []\n",
    "\n",
    "for ZA, ZB, bfe in zip(get_data_slice(n)['Z1'], get_data_slice(n)['Z2'], get_data_slice(n)['bfe']):\n",
    "    energy_pbe0.append(-bfe*630)\n",
    "    energy_SRL.append(SRL_nl(ZA, ZB, a, b, c))\n",
    "    energy_taylor2.append(taylor2(ZA, ZB, Z0, a, b, c))\n",
    "    energy_taylor2b.append(taylor2b(ZA, ZB, Z0, a, b, c))\n",
    "    \n",
    "plt.plot(energy_pbe0)\n",
    "plt.plot(energy_SRL)\n",
    "plt.plot(energy_taylor2)\n",
    "plt.plot(energy_taylor2b)\n"
   ]
  },
  {
   "cell_type": "code",
   "execution_count": null,
   "id": "ea05aff3-0026-4d3f-8397-d61ef54c5ae1",
   "metadata": {},
   "outputs": [],
   "source": [
    "np.array(energy_taylor2)-np.array(energy_SRL)"
   ]
  },
  {
   "cell_type": "code",
   "execution_count": null,
   "id": "396d4e1e-005b-40fe-9c6b-5e2a90b26a4c",
   "metadata": {},
   "outputs": [],
   "source": [
    "data = pd.read_csv('/data/sahre/projects/atomic-energies/data/bonding_trends/pbe0_data/energies_homolytic.csv')\n",
    "############\n",
    "n = 2\n",
    "\n",
    "############\n",
    "\n",
    "a = parameters[n][0]\n",
    "b = parameters[n][1]\n",
    "c = parameters[n][2]\n",
    "\n",
    "if n == 2:\n",
    "    Z_ref = [6,7,8,9]\n",
    "    Z0 = 7.5\n",
    "elif n == 3:\n",
    "    Z_ref = [14,15,16,17]\n",
    "    Z0 = 15.5\n",
    "elif n == 4:\n",
    "    Z_ref = [32,33,34,35]\n",
    "    Z0 = 33.5\n",
    "delta_energies = []\n",
    "dE_SRL = []\n",
    "dE_taylor = []\n",
    "dE_taylorb = []\n",
    "\n",
    "\n",
    "\n",
    "for ZA in Z_ref:\n",
    "    for ZB in Z_ref:\n",
    "        for ZC in Z_ref:\n",
    "            if ZB != ZC and ZB<ZC:\n",
    "                if ZA <= ZB:\n",
    "                    E_AB = -630*data.loc[(data['Z1']==ZA) & (data['Z2']==ZB), 'bfe'].item()\n",
    "                else:\n",
    "                    E_AB = -630*data.loc[(data['Z1']==ZB) & (data['Z2']==ZA), 'bfe'].item()\n",
    "                if ZA <= ZC:\n",
    "                    E_AC = -630*data.loc[(data['Z1']==ZA) & (data['Z2']==ZC), 'bfe'].item()\n",
    "                else:\n",
    "                    E_AC = -630*data.loc[(data['Z1']==ZC) & (data['Z2']==ZA), 'bfe'].item()\n",
    "                    \n",
    "                delta_energies.append([ZA, ZB, ZC, E_AB-E_AC])\n",
    "                \n",
    "                dE_SRL.append( SRL_nl(ZA, ZB, a, b, c) - SRL_nl(ZA, ZC, a, b, c) )\n",
    "                \n",
    "                dE_taylor.append(taylor2(ZA, ZB, Z0, a, b, c) - taylor2(ZA, ZC, Z0, a, b, c))\n",
    "                \n",
    "                dE_taylorb.append(taylor2_diff(ZA, ZB, ZC, Z0, a, b, c))\n",
    "                \n",
    "                \n",
    "\n",
    "delta_energies = np.array(delta_energies)\n",
    "dE_SRL = np.array(dE_SRL)\n"
   ]
  },
  {
   "cell_type": "code",
   "execution_count": null,
   "id": "84d6375d-8122-4ff6-8d39-47fd28e595ce",
   "metadata": {},
   "outputs": [],
   "source": [
    "plt.plot(delta_energies[:,-1], delta_energies[:,-1], \"--\")\n",
    "plt.plot(delta_energies[:,-1], dE_SRL, 'o')\n",
    "plt.plot(delta_energies[:,-1], dE_taylor, 'v')\n",
    "plt.plot(delta_energies[:,-1], dE_taylorb, '^')"
   ]
  },
  {
   "cell_type": "code",
   "execution_count": null,
   "id": "57a93807-da69-4fe2-9e3f-da7a3ef00e9a",
   "metadata": {},
   "outputs": [],
   "source": [
    "coeffs = {'coeff1':[], 'coeff2':[], 'coeff3':[]}\n",
    "for n in [2,3,4]:\n",
    "    if n == 2:\n",
    "        Z_ref = [6,7,8,9]\n",
    "        Z0 = 7.5\n",
    "    elif n == 3:\n",
    "        Z_ref = [14,15,16,17]\n",
    "        Z0 = 16\n",
    "    elif n == 4:\n",
    "        Z_ref = [32,33,34,35]\n",
    "        Z0 = 33.5\n",
    "    a = parameters[n][0]\n",
    "    b = parameters[n][1]\n",
    "    c = parameters[n][2]\n",
    "    coeff1 = - 7/9*Z0**(4/3)*c\n",
    "    coeff2 = b\n",
    "    coeff3 = 28/18*Z0**(1/3)*c\n",
    "\n",
    "    print(f'n = {n}')\n",
    "    print(f'{coeff1} {coeff2} {coeff3}')\n",
    "    print('#############################################')\n",
    "    \n",
    "    coeffs[\"coeff1\"].append(coeff1)\n",
    "    coeffs[\"coeff2\"].append(coeff2)\n",
    "    coeffs[\"coeff3\"].append(coeff3)"
   ]
  },
  {
   "cell_type": "code",
   "execution_count": null,
   "id": "39c8bf1c-1081-41cb-908e-bb2504a164d0",
   "metadata": {},
   "outputs": [],
   "source": [
    "plt.plot(coeffs['coeff1'], \"-o\")\n",
    "plt.plot(coeffs['coeff2'], \"-o\")\n",
    "plt.plot(coeffs['coeff3'], \"-o\")"
   ]
  },
  {
   "cell_type": "code",
   "execution_count": null,
   "id": "8558dc56-6ff6-4f41-9d26-28f603ad9f81",
   "metadata": {},
   "outputs": [],
   "source": []
  }
 ],
 "metadata": {
  "kernelspec": {
   "display_name": "Python 3",
   "language": "python",
   "name": "python3"
  },
  "language_info": {
   "codemirror_mode": {
    "name": "ipython",
    "version": 3
   },
   "file_extension": ".py",
   "mimetype": "text/x-python",
   "name": "python",
   "nbconvert_exporter": "python",
   "pygments_lexer": "ipython3",
   "version": "3.9.5"
  }
 },
 "nbformat": 4,
 "nbformat_minor": 5
}
