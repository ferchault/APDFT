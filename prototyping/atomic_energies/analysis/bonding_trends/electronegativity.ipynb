{
 "cells": [
  {
   "cell_type": "code",
   "execution_count": 1,
   "id": "40935212-c848-466d-8e28-4bdfd9e7dd0b",
   "metadata": {},
   "outputs": [],
   "source": [
    "import numpy as np\n",
    "from matplotlib import pyplot as plt"
   ]
  },
  {
   "cell_type": "code",
   "execution_count": 4,
   "id": "dab9a0a1-ec8e-4c76-b406-7f429556e6d0",
   "metadata": {},
   "outputs": [],
   "source": [
    "# non empirical\n",
    "r2 = np.array([2.53, 3.23, 3.53, 4])\n",
    "r3 = np.array([1.81, 2.34, 2.65, 3.14])\n",
    "r4= np.array([1.74, 2.18, 2.39, 2.78])"
   ]
  },
  {
   "cell_type": "code",
   "execution_count": 12,
   "id": "7af97e21-296c-4b40-992c-890288e27fc2",
   "metadata": {},
   "outputs": [],
   "source": [
    "# Pauling\n",
    "r2 = np.array([2.55, 3.04, 3.44, 3.98])\n",
    "r3 = np.array([1.9, 2.19, 2.58, 3.16])\n",
    "r4= np.array([2.01, 2.18, 2.55, 2.96])"
   ]
  },
  {
   "cell_type": "code",
   "execution_count": 10,
   "id": "e13f6843-e7ad-406d-bd87-6b4898d79fd5",
   "metadata": {},
   "outputs": [],
   "source": [
    "# alfred Rochow\n",
    "r2 = np.array([2.5, 3.07, 3.5, 4.1])\n",
    "r3 = np.array([1.74, 2.06, 2.44, 2.83])\n",
    "r4= np.array([2.02, 2.2, 2.48, 2.74])"
   ]
  },
  {
   "cell_type": "code",
   "execution_count": 13,
   "id": "8156099f-547f-4fcb-897f-0ada9b117073",
   "metadata": {},
   "outputs": [
    {
     "data": {
      "text/plain": [
       "[<matplotlib.lines.Line2D at 0x7f3341ef8cd0>]"
      ]
     },
     "execution_count": 13,
     "metadata": {},
     "output_type": "execute_result"
    },
    {
     "data": {
      "image/png": "[encoded data removed]",
      "text/plain": [
       "<Figure size 432x288 with 1 Axes>"
      ]
     },
     "metadata": {
      "needs_background": "light"
     },
     "output_type": "display_data"
    }
   ],
   "source": [
    "plt.plot(r2, '-o')\n",
    "plt.plot(r3, '-o')\n",
    "plt.plot(r4, '-o')"
   ]
  },
  {
   "cell_type": "code",
   "execution_count": null,
   "id": "fead6ae5-580b-4bfd-981f-8e32da38e6ae",
   "metadata": {},
   "outputs": [],
   "source": [
    "# relation to electronegativity"
   ]
  },
  {
   "cell_type": "code",
   "execution_count": null,
   "id": "3bd1eb2a-c930-4f9e-9864-f61440101b0d",
   "metadata": {},
   "outputs": [],
   "source": [
    "ZA = 6\n",
    "ZB = 7\n",
    "ZC=8\n",
    "ZD=9\n",
    "-(b2_nl.params[0][1]**2-630)*(ZA*(ZB-ZC)+ZD*(ZC-ZB))\n",
    "\n",
    "(b2_nl.bde[2]+b2_nl.bde[6]) - (b2_nl.bde[1]+b2_nl.bde[8])\n",
    "\n",
    "(b2_nl.bde_fitted[2]+b2_nl.bde_fitted[6]) - (b2_nl.bde_fitted[1]+b2_nl.bde_fitted[8])\n",
    "\n",
    "46*(chi[\"C\"]*(chi['N']-chi['O'])+chi['F']*(chi['O']-chi['N']))\n",
    "\n",
    "np.sqrt(-(b2_nl.params[0][1]**2-630)/46)*np.array([6,7,8,9])-0.33\n",
    "\n",
    "np.sqrt(-(b3_nl.params[0][1]**2-630)/46)*np.array([14,15,16,17])\n",
    "\n",
    "np.sqrt(-(b4_nl.params[0][1]**2-630)/46)*np.array([32,33,34,35])"
   ]
  }
 ],
 "metadata": {
  "kernelspec": {
   "display_name": "Python 3",
   "language": "python",
   "name": "python3"
  },
  "language_info": {
   "codemirror_mode": {
    "name": "ipython",
    "version": 3
   },
   "file_extension": ".py",
   "mimetype": "text/x-python",
   "name": "python",
   "nbconvert_exporter": "python",
   "pygments_lexer": "ipython3",
   "version": "3.9.5"
  }
 },
 "nbformat": 4,
 "nbformat_minor": 5
}
