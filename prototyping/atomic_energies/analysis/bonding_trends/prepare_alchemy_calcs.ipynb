{
 "cells": [
  {
   "cell_type": "code",
   "execution_count": null,
   "id": "e2e129af-fad3-4f6f-acdf-4a949a5f8b8f",
   "metadata": {},
   "outputs": [],
   "source": [
    "import pandas as pd\n",
    "\n",
    "import sys\n",
    "sys.path.insert(0, '/home/sahre/git_repositories/APDFT/prototyping/atomic_energies/')\n",
    "import utils_qm as uqm\n",
    "\n",
    "import ase.io as aio\n",
    "from ase.visualize import view\n",
    "\n",
    "import numpy as np"
   ]
  },
  {
   "cell_type": "code",
   "execution_count": null,
   "id": "0a1cd8e7-69af-40ec-816f-2456514e5298",
   "metadata": {},
   "outputs": [],
   "source": [
    "# Which reference bond? -> methanol"
   ]
  },
  {
   "cell_type": "code",
   "execution_count": null,
   "id": "b273a009-054d-4c88-8658-d29cd89d4558",
   "metadata": {},
   "outputs": [],
   "source": [
    "amons_db = pd.read_pickle('/data/sahre/datasets/amons_qm9_11k/amons_database.pd')"
   ]
  },
  {
   "cell_type": "code",
   "execution_count": null,
   "id": "ca354759-5828-4707-8199-a93baa0bd58e",
   "metadata": {},
   "outputs": [],
   "source": [
    "amons_db.loc[amons_db['smiles']=='CO']"
   ]
  },
  {
   "cell_type": "code",
   "execution_count": null,
   "id": "56567486-2c0d-4f25-aa69-4659da657c9c",
   "metadata": {},
   "outputs": [],
   "source": [
    "amons = uqm.load_obj('/data/sahre/datasets/amons_qm9_11k/unique_amons_dict')"
   ]
  },
  {
   "cell_type": "code",
   "execution_count": null,
   "id": "fd28446d-f132-4977-908b-c0173eefc889",
   "metadata": {},
   "outputs": [],
   "source": [
    "smiles = 'CF'"
   ]
  },
  {
   "cell_type": "code",
   "execution_count": null,
   "id": "e5ef002a-f00c-4845-b125-005078932d0f",
   "metadata": {},
   "outputs": [],
   "source": [
    "cx = ['CC', 'CN', 'CO', 'CF']\n",
    "for smiles in cx:\n",
    "    with open (f'/home/sahre/work/scratch/{smiles}.xyz', 'w') as f:\n",
    "        for line in amons[smiles]:\n",
    "            f.write(line+'\\n')"
   ]
  },
  {
   "cell_type": "code",
   "execution_count": null,
   "id": "131e7b56-df85-4a54-a54e-79bf6285ce1e",
   "metadata": {},
   "outputs": [],
   "source": [
    "cx = ['CC', 'CN', 'CO', 'CF', 'NN', 'NO', 'NF', 'OO', 'OF', 'FF']"
   ]
  },
  {
   "cell_type": "code",
   "execution_count": null,
   "id": "d8f69f08-b95c-4b78-a0e5-1223e8a6aabd",
   "metadata": {},
   "outputs": [],
   "source": [
    "d = []\n",
    "for smiles in cx:\n",
    "    structure = aio.read(f'/data/sahre/projects/atomic-energies/data/bonding_trends/{smiles}.xyz')#/data/sahre/projects/atomic-energies/data/bonding_trends     /home/sahre/work/scratch\n",
    "    view(structure)\n",
    "    print(smiles)\n",
    "    print(structure.get_distance(0,1))\n",
    "    d.append(structure.get_distance(0,1))\n",
    "print(np.array(d).mean())"
   ]
  },
  {
   "cell_type": "code",
   "execution_count": null,
   "id": "326123dd-0697-454e-b0bd-b3fa8877366e",
   "metadata": {},
   "outputs": [],
   "source": [
    "# methanol is closest tp equilibrium value"
   ]
  },
  {
   "cell_type": "code",
   "execution_count": null,
   "id": "464d49a8-3f5b-4b80-bf57-0f8f604207b8",
   "metadata": {},
   "outputs": [],
   "source": [
    "# adjust all fragments -> write to new xyz-file"
   ]
  },
  {
   "cell_type": "code",
   "execution_count": null,
   "id": "d9e3a546-dec1-4805-9cc0-a2ad0570ad29",
   "metadata": {},
   "outputs": [],
   "source": [
    "# adjust all fragments -> write to new xyz-file\n",
    "dCO = aio.read(f'/home/sahre/work/scratch/CO.xyz').get_distance(0,1)\n",
    "\n",
    "d = []\n",
    "for smiles in cx:\n",
    "    structure = aio.read(f'/home/sahre/work/scratch/{smiles}.xyz')\n",
    "    if structure.get_chemical_symbols()[0] == 'C':\n",
    "#         structure.set_distance(1,0, dCO, indices=[0, 2, 3, 4], fix = 0)\n",
    "        indices=[0, 2, 3, 4]\n",
    "    elif structure.get_chemical_symbols()[0] == 'N':\n",
    "#         structure.set_distance(0,1, dCO, indices=[0, 2, 3])\n",
    "        indices=[0, 2, 3]\n",
    "    elif structure.get_chemical_symbols()[0] == 'O':\n",
    "#         structure.set_distance(0,1, dCO, indices=[0, 2])\n",
    "        indices=[0, 2]\n",
    "    elif structure.get_chemical_symbols()[0] == 'F':\n",
    "#         structure.set_distance(0,1, dCO)\n",
    "        indices=[0]\n",
    "        \n",
    "    structure.set_distance(1,0, dCO, indices=indices, fix = 0)\n",
    "    view(structure)\n",
    "    aio.write(f'/data/sahre/projects/atomic-energies/data/bonding_trends/{smiles}.xyz', structure)\n"
   ]
  },
  {
   "cell_type": "code",
   "execution_count": null,
   "id": "f6e7b2a3-6fa2-4d54-99ee-7ba3bafdb7bd",
   "metadata": {},
   "outputs": [],
   "source": [
    "aio.read(f'/data/sahre/projects/atomic-energies/data/bonding_trends/CF.xyz').get_all_distances()"
   ]
  },
  {
   "cell_type": "code",
   "execution_count": null,
   "id": "214252a4-ef5d-4795-ac32-e6afd435eb3a",
   "metadata": {},
   "outputs": [],
   "source": [
    "aio.read(f'/home/sahre/work/scratch/CF.xyz').get_all_distances()"
   ]
  },
  {
   "cell_type": "code",
   "execution_count": null,
   "id": "421e2f8d-b895-42b3-9436-47c4031ce994",
   "metadata": {},
   "outputs": [],
   "source": []
  },
  {
   "cell_type": "code",
   "execution_count": null,
   "id": "fde5ee1b-8e54-4ddb-b282-bb1d9b26c5de",
   "metadata": {},
   "outputs": [],
   "source": [
    "import pandas as pd\n",
    "\n",
    "import sys\n",
    "sys.path.insert(0, '/home/sahre/git_repositories/APDFT/prototyping/atomic_energies/')\n",
    "import utils_qm as uqm\n",
    "sys.path.insert(0, '/home/sahre/git_repositories/APDFT/prototyping/atomic_energies/hitp/')\n",
    "import prepare_calculations as prep\n",
    "\n",
    "import ase.io as aio\n",
    "from ase.visualize import view\n",
    "\n",
    "import numpy as np\n"
   ]
  },
  {
   "cell_type": "code",
   "execution_count": null,
   "id": "e79e4e06-e327-4d7f-b768-57eb9aedf1f9",
   "metadata": {},
   "outputs": [],
   "source": [
    "#smiles = 'CF'\n",
    "# prepare input files\n",
    "# cx = ['CC', 'CN', 'CO', 'CF', 'NN', 'NO', 'NF', 'OO', 'OF']\n",
    "#final_mol = []\n",
    "\n",
    "# for smiles in ['OO', 'FF']:\n",
    "\n",
    "for smiles in ['F']:#['C', 'N', 'O', 'F']:\n",
    "    atoms = aio.read(f'/data/sahre/projects/atomic-energies/data/bonding_trends/sat_frags_xyz/{smiles}_opt.xyz')\n",
    "\n",
    "\n",
    "    compound_path = f'/data/sahre/projects/atomic-energies/data/bonding_trends/sat_frags_xyz/{smiles}' #(f'/data/sahre/projects/atomic-energies/data/bonding_trends/{smiles}')\n",
    "\n",
    "    # define parameters\n",
    "    a1 = 0\n",
    "    a2 = 1\n",
    "    a3 = 2\n",
    "    atoms_ref = atoms.copy()\n",
    "\n",
    "    pp_dir = '/data/sahre/PP_LIBRARY/'\n",
    "    pp_type = '_GH_PBE'\n",
    "    template_inp_small_lambda = '/data/sahre/projects/atomic-energies/cpmd_params_template_pbe_small_lambda.inp'\n",
    "    template_inp = '/data/sahre/projects/atomic-energies/cpmd_params_template_pbe.inp'\n",
    "\n",
    "\n",
    "#     prep.wrapper_aligned(a1, a2, a3, atoms, atoms_ref, compound_path, pp_dir, pp_type, template_inp, template_inp_small_lambda)\n",
    "    prep.wrapper_ase(atoms, compound_path, pp_dir, pp_type, template_inp, template_inp_small_lambda)"
   ]
  },
  {
   "cell_type": "code",
   "execution_count": null,
   "id": "c5062b14-4dbe-4e2d-9a1c-58edba984f7a",
   "metadata": {},
   "outputs": [],
   "source": [
    "# F2\n",
    "from prepare_calculations import get_boxsize, get_gpts, align_molecule\n",
    "def get_pos_F2():\n",
    "    a1 = 0\n",
    "    a2 = 1\n",
    "    a3 = 2\n",
    "\n",
    "    atoms = aio.read(f'/data/sahre/projects/atomic-energies/data/bonding_trends/FF_dummy.xyz')\n",
    "    atoms_ref = atoms.copy()\n",
    "    atom_symbols = atoms.get_chemical_symbols()\n",
    "    nuc_charges = atoms.get_atomic_numbers()\n",
    "    num_ve = 14#eqd.get_num_val_elec(nuc_charges) # get number of ve\n",
    "    boxsize = get_boxsize(num_ve) # get boxsize\n",
    "    num_gpts_lower, num_gpts_higher = get_gpts(num_ve) # get gridpoints\n",
    "    num_gpts = num_gpts_higher\n",
    "\n",
    "    # shift/rotate molecule to be in plane of grid points\n",
    "    centroid_initial = np.mean(atoms_ref.get_positions(), axis=0)\n",
    "    shift = np.array([boxsize,boxsize,boxsize])/2 - centroid_initial\n",
    "    atoms.set_positions(atoms.get_positions() + shift)\n",
    "\n",
    "    align_molecule(atoms, np.array([0,0,1]), a2, a3, a1)\n",
    "    pos_z = atoms.get_positions()[a1, 2]\n",
    "    lv = boxsize/num_gpts\n",
    "    final_shift_z = np.array([0,0,int(num_gpts/2)*lv - pos_z])\n",
    "    atoms.set_positions(atoms.get_positions() + final_shift_z)\n",
    "    mean_x = atoms.get_positions()[:,0].mean()\n",
    "    mean_y = atoms.get_positions()[:,1].mean()\n",
    "    shift_xy = np.array([boxsize,boxsize,0])/2 - np.array([mean_x, mean_y, 0])\n",
    "    atoms.set_positions(atoms.get_positions() + shift_xy)\n",
    "\n",
    "    coords_final = atoms.get_positions()\n",
    "    F2_pos = np.array([coords_final[0],coords_final[1]])\n",
    "    return(F2_pos)\n"
   ]
  },
  {
   "cell_type": "code",
   "execution_count": null,
   "id": "80d5a0e6-93c1-4dd6-ad0b-b0d532f807ea",
   "metadata": {},
   "outputs": [],
   "source": []
  },
  {
   "cell_type": "code",
   "execution_count": null,
   "id": "38531a72-9b35-4c0d-b9c8-355f29c8af9e",
   "metadata": {},
   "outputs": [],
   "source": [
    "from prepare_calculations import get_lambda, write_input, write_pp_files_compound\n",
    "import explore_qml_data as eqd\n",
    "import os\n",
    "\n",
    "compound_path = f'/data/sahre/projects/atomic-energies/data/bonding_trends/FF'\n",
    "\n",
    "pp_dir = '/data/sahre/PP_LIBRARY/'\n",
    "pp_type = '_GH_PBE'\n",
    "template_inp_small_lambda = '/data/sahre/projects/atomic-energies/cpmd_params_template_pbe_small_lambda.inp'\n",
    "template_inp = '/data/sahre/projects/atomic-energies/cpmd_params_template_pbe.inp'\n",
    "\n",
    "# calculation parameters (independent of lambda value)\n",
    "atoms = aio.read(f'/data/sahre/projects/atomic-energies/data/bonding_trends/FF.xyz')\n",
    "\n",
    "atom_symbols = atoms.get_chemical_symbols()\n",
    "nuc_charges = atoms.get_atomic_numbers()\n",
    "num_ve = eqd.get_num_val_elec(nuc_charges) # get number of ve\n",
    "boxsize = get_boxsize(num_ve) # get boxsize\n",
    "num_gpts_lower, num_gpts_higher = get_gpts(num_ve) # get gridpoints\n",
    "num_gpts = num_gpts_higher\n",
    "\n",
    "coords_final = get_pos_F2()\n",
    "\n",
    "# get correct lambda value\n",
    "lambda_values = np.array([0.4, 0.6, 0.8, 1.0])\n",
    "for lam_val in lambda_values:\n",
    "    new_lambda, scaled_ve = get_lambda(lam_val, num_ve)\n",
    "    # scaled_ve is number of electrons added from pseudopotential file, the remaining electrons must be added in form of a negative charge\n",
    "    charge = scaled_ve - num_ve # write input\n",
    "\n",
    "    # create directory if necessary\n",
    "    if scaled_ve < 10:\n",
    "        scaled_ve_str = '0'+str(scaled_ve)\n",
    "    else:\n",
    "        scaled_ve_str = str(scaled_ve)\n",
    "    lambda_path = os.path.join(compound_path, f've_{scaled_ve_str}/')\n",
    "    os.makedirs(lambda_path, exist_ok=True)\n",
    "\n",
    "    # generate input file\n",
    "    input_path = os.path.join(lambda_path, 'run.inp')\n",
    "    if new_lambda > 0.5:\n",
    "        write_input(atom_symbols, charge, coords_final, num_gpts, boxsize, input_path, template_inp, debug = False)\n",
    "    else:\n",
    "        write_input(atom_symbols, charge, coords_final, num_gpts, boxsize, input_path, template_inp_small_lambda, debug = False)\n",
    "\n",
    "    # generate pp-files\n",
    "    write_pp_files_compound(atom_symbols, new_lambda, lambda_path, pp_dir, pp_type)"
   ]
  },
  {
   "cell_type": "code",
   "execution_count": null,
   "id": "a5b5922b-efb2-448f-bdcb-0a0cafc7b78e",
   "metadata": {},
   "outputs": [],
   "source": [
    "# submit calcs, all lambda =1, then 0.8, .6,..."
   ]
  },
  {
   "cell_type": "code",
   "execution_count": null,
   "id": "6570c139-435a-4d74-9429-12fe83a2f2ff",
   "metadata": {},
   "outputs": [],
   "source": [
    "# get atomic energies"
   ]
  },
  {
   "cell_type": "code",
   "execution_count": null,
   "id": "839ecd8f-c64c-4ad4-950d-88cbf8ac8964",
   "metadata": {},
   "outputs": [],
   "source": [
    "from natsort import natsorted\n",
    "import os\n",
    "import numpy  as np\n",
    "import glob\n",
    "\n",
    "import sys\n",
    "sys.path.insert(0, '/home/sahre/git_repositories/APDFT/prototyping/atomic_energies/')\n",
    "import alchemy_tools2 as at\n",
    "from parse_density_files import CUBE\n",
    "from explore_qml_data import get_num_val_elec\n",
    "\n",
    "def wrapper_read_data(paths):\n",
    "    # load data, parameters\n",
    "\n",
    "    densities, nuclei, gpts, hmatrix = read_cube_data(paths)\n",
    "    \n",
    "    # get density of ueg\n",
    "    num_ve = get_num_val_elec(nuclei[:, 0])\n",
    "    ueg = np.zeros(gpts[0].shape)\n",
    "    ueg[:] = num_ve/gpts[0].shape[0]**3\n",
    "    assert np.isclose(ueg.sum(), num_ve), 'wrong ueg'\n",
    "    densities.insert(0, ueg)\n",
    "    \n",
    "    return(densities, gpts, hmatrix, nuclei)\n",
    "\n",
    "def wrapper_alchpots(densities, nuclei, meshgrid, h_matrix):\n",
    "    \"\"\"\n",
    "    integrate electron density over r for single lambda values\n",
    "    \"\"\"\n",
    "    alchpots = []\n",
    "    for d in densities:\n",
    "        out = at.calculate_atomic_energies(d, nuclei, meshgrid, h_matrix, intg_method = 'sum')\n",
    "        alchpots.append(out[2])\n",
    "    return(np.array(alchpots))\n",
    "\n",
    "def wrapper_atomic_energy(compound_path, cubes):\n",
    "    # make path to cube files\n",
    "#     cubes = ['ve_06.cube', 've_08.cube', 've_11.cube', 've_14.cube']\n",
    "    paths = []\n",
    "    for c in cubes:\n",
    "        paths.append(os.path.join(compound_path, f'cube-files/{c}'))\n",
    "    \n",
    "    paths = natsorted(paths)\n",
    "    # read cube-files\n",
    "    densities, gpts, hmatrix, nuclei = wrapper_read_data(paths)\n",
    "    # calculate mu tilde\n",
    "    alchpots = wrapper_alchpots(densities, nuclei, gpts, hmatrix)\n",
    "\n",
    "    # get lambda\n",
    "    lam_vals = parse_lambda(cubes)\n",
    "    # integrate over lambda\n",
    "    averaged_alchpots = get_mu_tilde(lam_vals, alchpots)\n",
    "    \n",
    "    # get Z_eff\n",
    "    Z_eff = get_Zeff(nuclei[:,0])\n",
    "    e_el = averaged_alchpots*Z_eff\n",
    "    \n",
    "    return(averaged_alchpots, e_el, nuclei, Z_eff)\n",
    "\n",
    "def write_atomic_energies(averaged_alchpots, e_el, nuclei, Z_eff, path):\n",
    "    file_path = os.path.join(path, 'atomic_energies_sat_frag.txt')\n",
    "    header = 'Z\\t Z_eff\\t x\\t y\\t z\\t mu_tilde\\t e_el'\n",
    "    data = np.array([nuclei[:,0], Z_eff, nuclei[:,1], nuclei[:,2], nuclei[:,3], averaged_alchpots, e_el])\n",
    "    np.savetxt(file_path, data.T, delimiter='\\t', header=header)\n",
    "    \n",
    "def wrapper_write_atomic_energies(compound_path, cubes):\n",
    "    averaged_alchpots, e_el, nuclei, Z_eff = wrapper_atomic_energy(compound_path, cubes)\n",
    "    write_atomic_energies(averaged_alchpots, e_el, nuclei, Z_eff, compound_path)\n",
    "    \n",
    "def read_cube_data(paths_cubes):\n",
    "    \"\"\"\n",
    "    returns the data necessary to calculate the atomic energies from the cube-files\n",
    "    for different lambda values\n",
    "    \n",
    "    paths_cubes: paths to cubes files\n",
    "    densities: densities given in different cube files\n",
    "    lam_vals: lambda value for cube file, obtained by parsing filename\n",
    "    nuclei: charges and coordinates of the nuclei\n",
    "    gpts: the gridpoints where density values are given\n",
    "    \"\"\"\n",
    "    \n",
    "    densities = []\n",
    "    nuclei = None # nuclear charges and their positions\n",
    "    gpts = None # gridpoints where density values are given\n",
    "    h_matrix = np.zeros((3,3)) # needed for the calculation of the distance of the nuclei to the gridpoints with MIC\n",
    "    \n",
    "    for idx, path in enumerate(paths_cubes):\n",
    "        cube = CUBE(path)\n",
    "        \n",
    "        densities.append(cube.data_scaled) # density\n",
    "        \n",
    "        fname = os.path.split(path)[1] # lambda value\n",
    "        fname = fname.split('.')[0]\n",
    "        total_ve = get_num_val_elec(cube.atoms[:, 0])\n",
    "        # check if integrates to correct number of electrons\n",
    "        if not np.isclose(cube.data_scaled.sum(), total_ve):\n",
    "            print(f'{path} does not integrate to correct num_ve')\n",
    "        \n",
    "        if idx==len(paths_cubes)-1:\n",
    "            nuclei = cube.atoms\n",
    "            gpts = cube.get_grid()\n",
    "            h_matrix = [cube.X*cube.NX, cube.Y*cube.NY, cube.Z*cube.NZ]\n",
    "    \n",
    "    return(densities, nuclei, gpts, h_matrix)\n",
    "\n",
    "def get_Zeff(Z):\n",
    "    Zeff = []\n",
    "    for z in Z:\n",
    "        if z < 3:\n",
    "            Zeff.append(z)\n",
    "        elif z > 2 and z < 11:\n",
    "            Zeff.append(z-2)\n",
    "        else:\n",
    "            raise Exception(f\"Zeff not implemented for {z}\")\n",
    "    return(np.array(Zeff))\n",
    "\n",
    "def parse_lambda(cube_files):\n",
    "    \"\"\"\n",
    "    get lamval from ve_xx.cube\n",
    "    \"\"\"\n",
    "    lam_vals = [0.0]\n",
    "    for c in cube_files:\n",
    "        num_val = float(c.split('.')[0].split('_')[-1])\n",
    "        lam_vals.append(num_val)\n",
    "        \n",
    "    lam_vals = np.array(lam_vals)\n",
    "    return(lam_vals/lam_vals[-1])\n",
    "\n",
    "def get_mu_tilde(lam_vals, alchpots):\n",
    "    \"\"\"\n",
    "    inetgrate over tilde rho with respect to lambda\n",
    "    \"\"\"\n",
    "    mu_tilde = []\n",
    "    for i in range(alchpots.shape[1]):\n",
    "        mu_tilde.append(np.trapz(alchpots[:, i], lam_vals))\n",
    "    return(np.array(mu_tilde))"
   ]
  },
  {
   "cell_type": "code",
   "execution_count": null,
   "id": "55943276-92c5-40fb-a443-9528047cd198",
   "metadata": {},
   "outputs": [],
   "source": [
    "glob.glob('/data/sahre/projects/atomic-energies/data/bonding_trends/sat_frags_xyz/C')"
   ]
  },
  {
   "cell_type": "code",
   "execution_count": null,
   "id": "128aecba-2115-48ea-bcbd-a3da43c92fd7",
   "metadata": {},
   "outputs": [],
   "source": [
    "# compound_paths = glob.glob('/data/sahre/projects/atomic-energies/data/bonding_trends/*/')\n",
    "# smiles = ['CC', 'NN', 'OO', 'FF']\n",
    "smiles = ['C', 'N', 'O', 'F']\n",
    "\n",
    "cubes = ['ve_03.cube',  've_05.cube', 've_06.cube', 've_08.cube']\n",
    "for s in smiles:\n",
    "    c = os.path.join(f'/data/sahre/projects/atomic-energies/data/bonding_trends/sat_frags_xyz/{s}')\n",
    "    wrapper_write_atomic_energies(c, cubes)"
   ]
  },
  {
   "cell_type": "code",
   "execution_count": null,
   "id": "1447816a-8280-45ee-b123-374982a99b7a",
   "metadata": {},
   "outputs": [],
   "source": [
    "# get nuclear repulsion"
   ]
  },
  {
   "cell_type": "code",
   "execution_count": null,
   "id": "b725790a-c7df-46c7-9777-47eccd7ddf72",
   "metadata": {},
   "outputs": [],
   "source": [
    "import pymatgen.analysis.ewald\n",
    "import glob\n",
    "import ase.io as aio\n",
    "def ewald_site(a, mol):\n",
    "    \n",
    "    z_eff = get_Zeff(mol.get_atomic_numbers())\n",
    "    s = pymatgen.core.structure.Structure(\n",
    "        [[a, 0, 0], [0, a, 0], [0, 0, a]],\n",
    "        species=z_eff,\n",
    "        coords=mol.get_positions(),\n",
    "        charge=0,\n",
    "        coords_are_cartesian=True,\n",
    "        site_properties={\"charge\": z_eff}\n",
    "    )\n",
    "    e = pymatgen.analysis.ewald.EwaldSummation(s)\n",
    "    \n",
    "    nuc_rep_site = []\n",
    "    for i in range(len(mol.get_atomic_numbers())):\n",
    "        nuc_rep_site.append(e.get_site_energy(i)*0.0367493)\n",
    "    return(np.array(nuc_rep_site))\n",
    "\n",
    "def ewald(a, mol):\n",
    "        \n",
    "    z_eff = get_Zeff(mol.get_atomic_numbers())\n",
    "    s = pymatgen.core.structure.Structure(\n",
    "        [[a, 0, 0], [0, a, 0], [0, 0, a]],\n",
    "        species=z_eff,\n",
    "        coords=mol.get_positions(),\n",
    "        charge=0,\n",
    "        coords_are_cartesian=True,\n",
    "        site_properties={\"charge\": z_eff}\n",
    "    )\n",
    "    e = pymatgen.analysis.ewald.EwaldSummation(s)\n",
    "    return e.total_energy*0.0367493  # Ha"
   ]
  },
  {
   "cell_type": "code",
   "execution_count": null,
   "id": "9dca8163-668a-4acf-9ae3-356c441dad05",
   "metadata": {},
   "outputs": [],
   "source": [
    "# xyz_files = glob.glob('/data/sahre/projects/atomic-energies/data/bonding_trends/*.xyz')"
   ]
  },
  {
   "cell_type": "code",
   "execution_count": null,
   "id": "b59d56b3-a453-427c-99ae-18c958d871a9",
   "metadata": {},
   "outputs": [],
   "source": [
    "# a = 14.33765553014558\n",
    "# nuc_rep = []\n",
    "# for xyz in xyz_files:\n",
    "#     if not 'dummy' in xyz:\n",
    "#         print(xyz.split('/')[-1].split('.')[0])\n",
    "#         mol = aio.read(xyz)\n",
    "#         nuc_rep.append(ewald_site(a, mol))"
   ]
  },
  {
   "cell_type": "code",
   "execution_count": null,
   "id": "82252a67-7867-4f0f-ac9e-eea87ae58011",
   "metadata": {},
   "outputs": [],
   "source": [
    "a = 14.33765553014558\n",
    "comps = ['CC', 'CN', 'CO', 'CF', 'NN', 'NO', 'NF', 'OO', 'OF', 'FF']\n",
    "compound = 'CC'\n",
    "for compound in comps:\n",
    "#     atomic_energies = np.loadtxt(f'/data/sahre/projects/atomic-energies/data/bonding_trends/{compound}/atomic_energies.txt')\n",
    "#     e_el = atomic_energies[:,-3]\n",
    "\n",
    "    mol = aio.read(f'/data/sahre/projects/atomic-energies/data/bonding_trends/{compound}.xyz')\n",
    "    e_nuc = ewald_site(a, mol)\n",
    "#     e_tot = e_nuc + e_el\n",
    "#     atomic_energies_complete = np.concatenate((atomic_energies, np.array([e_nuc, e_tot]).T), axis=1)\n",
    "\n",
    "#     header = 'Z\\t Z_eff\\t x\\t y\\t z\\t mu_tilde\\t e_el (Ha)\\t e_nuc (Ha)\\t e_tot (Ha)'\n",
    "#     np.savetxt(f'/data/sahre/projects/atomic-energies/data/bonding_trends/{compound}/atomic_energies.txt', atomic_energies_complete, delimiter=\" \", header=header)\n",
    "    np.savetxt(f'/data/sahre/projects/atomic-energies/data/bonding_trends/{compound}/nuc_rep.txt', e_nuc, delimiter=\" \", header=header)"
   ]
  },
  {
   "cell_type": "code",
   "execution_count": null,
   "id": "3b7d2251-14ff-4f4a-a884-182c4baa6cfa",
   "metadata": {},
   "outputs": [],
   "source": [
    "atomic_energies_complete[:,-1]-e_tot"
   ]
  },
  {
   "cell_type": "code",
   "execution_count": null,
   "id": "1c3765cb-0c57-4406-a469-7ce582923aaf",
   "metadata": {},
   "outputs": [],
   "source": [
    "# tests"
   ]
  },
  {
   "cell_type": "code",
   "execution_count": null,
   "id": "c0f4c04d-20cc-41f1-9a05-c5e2dc727855",
   "metadata": {},
   "outputs": [],
   "source": [
    "a = 10000\n",
    "for xyz in xyz_files:\n",
    "    if not 'dummy' in xyz:\n",
    "        print(xyz.split('/')[-1].split('.')[0])\n",
    "        mol = aio.read(xyz)\n",
    "        print(ewald(a, mol))"
   ]
  },
  {
   "cell_type": "code",
   "execution_count": null,
   "id": "e38efbec-4cf1-43fd-bbf5-e9b71d6a733a",
   "metadata": {},
   "outputs": [],
   "source": [
    "for n in nuc_rep:\n",
    "    print(n.sum())"
   ]
  },
  {
   "cell_type": "code",
   "execution_count": null,
   "id": "458c4b22-f4c8-4355-850e-1a568b39b7c5",
   "metadata": {},
   "outputs": [],
   "source": [
    "import utils_qm as uqm"
   ]
  },
  {
   "cell_type": "code",
   "execution_count": null,
   "id": "235efd33-5f92-4026-9da6-36ceece36d2b",
   "metadata": {},
   "outputs": [],
   "source": [
    "pyscf_mol = uqm.ase2pyscf(aio.read('/data/sahre/projects/atomic-energies/data/bonding_trends/FF.xyz'))\n",
    "pyscf_mol[0][0] = 'N'\n",
    "pyscf_mol[1][0] = 'N'\n",
    "pyscf_mol"
   ]
  },
  {
   "cell_type": "code",
   "execution_count": null,
   "id": "706a3f79-bff5-4a82-a5bd-7014f0707aec",
   "metadata": {},
   "outputs": [],
   "source": [
    "from pyscf import gto\n",
    "\n",
    "m = gto.Mole()\n",
    "m.atom = pyscf_mol\n",
    "m.build()\n",
    "m.energy_nuc()"
   ]
  },
  {
   "cell_type": "code",
   "execution_count": null,
   "id": "4d0d4c37-79a6-4819-818a-07612c3d3581",
   "metadata": {},
   "outputs": [],
   "source": []
  },
  {
   "cell_type": "markdown",
   "id": "3a02c36e-c603-4a2e-abcc-760f2f60bddf",
   "metadata": {},
   "source": [
    "# get binding energies"
   ]
  },
  {
   "cell_type": "code",
   "execution_count": 1,
   "id": "48468be6-9d09-4969-a4df-b1410c3d7e9c",
   "metadata": {},
   "outputs": [],
   "source": [
    "import numpy as np\n",
    "import glob\n",
    "import os\n",
    "\n",
    "import sys\n",
    "sys.path.insert(0, '/home/sahre/git_repositories/APDFT/prototyping/atomic_energies/')"
   ]
  },
  {
   "cell_type": "code",
   "execution_count": 2,
   "id": "0e796845-ee96-4ea0-8028-cea3df208123",
   "metadata": {},
   "outputs": [],
   "source": [
    "def get_num_H(el):\n",
    "    if el == 'C':\n",
    "        return(3)\n",
    "    elif el == 'N':\n",
    "        return(2)\n",
    "    elif el == 'O':\n",
    "        return(1)\n",
    "    elif el == 'F':\n",
    "        return(0)\n",
    "    \n",
    "def get_fragment(energies, smiles):\n",
    "    # count hydrogens\n",
    "    num_H = len(energies)-2\n",
    "    \n",
    "    # frag 1\n",
    "    frag1 = energies[0, -1]\n",
    "    for i in range(get_num_H(smiles[0])):\n",
    "        frag1 += energies[2+i,-1]\n",
    "        \n",
    "    # frag 2\n",
    "    frag2 = energies[1, -1]\n",
    "    start_idx = get_num_H(smiles[0])+2\n",
    "    for i in range(get_num_H(smiles[1])):\n",
    "        frag2 += energies[start_idx+i,-1]\n",
    "    return(frag1, frag2)"
   ]
  },
  {
   "cell_type": "code",
   "execution_count": 8,
   "id": "402534ff-f038-4219-bc97-90ba390e7860",
   "metadata": {},
   "outputs": [],
   "source": [
    "rad_atomic_C = np.loadtxt(f'/data/sahre/projects/atomic-energies/data/bonding_trends/radical_frags/CC/atomic_energies_rad_frag.txt')\n",
    "rad_atomic_N = np.loadtxt(f'/data/sahre/projects/atomic-energies/data/bonding_trends/radical_frags/NN/atomic_energies_rad_frag.txt')\n",
    "rad_atomic_O = np.loadtxt(f'/data/sahre/projects/atomic-energies/data/bonding_trends/radical_frags/OO/atomic_energies_rad_frag.txt')\n",
    "rad_atomic_F = np.loadtxt(f'/data/sahre/projects/atomic-energies/data/bonding_trends/radical_frags/FF/atomic_energies_rad_frag.txt')\n",
    "rad_atomic_F = rad_atomic_F.reshape((1,rad_atomic_F.shape[0]))\n",
    "rad_dict = {'C':rad_atomic_C, 'N':rad_atomic_N, 'O':rad_atomic_O, 'F':rad_atomic_F}\n",
    "\n",
    "sat_atomic_C = np.loadtxt(f'/data/sahre/projects/atomic-energies/data/bonding_trends/sat_frags/C/atomic_energies_sat_frag.txt')\n",
    "sat_atomic_N = np.loadtxt(f'/data/sahre/projects/atomic-energies/data/bonding_trends/sat_frags/N/atomic_energies_sat_frag.txt')\n",
    "sat_atomic_O = np.loadtxt(f'/data/sahre/projects/atomic-energies/data/bonding_trends/sat_frags/O/atomic_energies_sat_frag.txt')\n",
    "sat_atomic_F = np.loadtxt(f'/data/sahre/projects/atomic-energies/data/bonding_trends/sat_frags/F/atomic_energies_sat_frag.txt')\n",
    "sat_dict = {'C':sat_atomic_C, 'N':sat_atomic_N, 'O':sat_atomic_O, 'F':sat_atomic_F}"
   ]
  },
  {
   "cell_type": "code",
   "execution_count": 10,
   "id": "e4663219-0339-4dff-ab10-b82c5e48f3f4",
   "metadata": {},
   "outputs": [],
   "source": [
    "for h1 in ['C', 'N', 'O', 'F']:\n",
    "    for h2 in ['C','N', 'O', 'F']:\n",
    "        p = f'/data/sahre/projects/atomic-energies/data/bonding_trends/diatomics/{h1}{h2}/atomic_energies.txt'\n",
    "        if os.path.isfile(p):\n",
    "            atomic_energies = np.loadtxt(p)\n",
    "\n",
    "            el1, el2 = atomic_energies[0,0], atomic_energies[1,0]\n",
    "            ae1, ae2 = atomic_energies[0,-1], atomic_energies[1,-1]\n",
    "            \n",
    "            smiles = h1 + h2\n",
    "            sum_frag_diatomic_h1, sum_frag_diatomic_h2 = get_fragment(atomic_energies, smiles)\n",
    "            rad_frac_h1, rad_frag_h2 = rad_dict[h1][0,-1], rad_dict[h2][0,-1]\n",
    "            sum_rad_frac_h1, sum_rad_frac_h2 = rad_dict[h1][:,-1].sum(), rad_dict[h2][:,-1].sum()\n",
    "            \n",
    "            sat_frac_h1, sat_frag_h2 = sat_dict[h1][0,-1], sat_dict[h2][0,-1]\n",
    "            \n",
    "\n",
    "            header = ['el', 'at_en (Ha)', 'at_en with_H', 'rad_frag', 'rad_frag with H', 'at_en_sat_frag']\n",
    "            heavy1 = [str(i) for i in [el1, ae1, sum_frag_diatomic_h1, rad_frac_h1, sum_rad_frac_h1, sat_frac_h1]]\n",
    "            heavy2 = [str(i) for i in [el2, ae2, sum_frag_diatomic_h2, rad_frag_h2, sum_rad_frac_h2, sat_frag_h2]]\n",
    "            save_path = f'/data/sahre/projects/atomic-energies/data/bonding_trends/diatomics/{h1}{h2}/binding_energy.txt'\n",
    "            with open(save_path, 'w') as f:\n",
    "                f.write(' '.join(header)+'\\n')\n",
    "                f.write(' '.join(heavy1)+'\\n')\n",
    "                f.write(' '.join(heavy2)+'\\n')"
   ]
  }
 ],
 "metadata": {
  "kernelspec": {
   "display_name": "Python 3",
   "language": "python",
   "name": "python3"
  },
  "language_info": {
   "codemirror_mode": {
    "name": "ipython",
    "version": 3
   },
   "file_extension": ".py",
   "mimetype": "text/x-python",
   "name": "python",
   "nbconvert_exporter": "python",
   "pygments_lexer": "ipython3",
   "version": "3.9.5"
  }
 },
 "nbformat": 4,
 "nbformat_minor": 5
}
