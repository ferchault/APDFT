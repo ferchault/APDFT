{
 "cells": [
  {
   "cell_type": "code",
   "execution_count": 1,
   "id": "bdc4a66c-adea-45b9-9807-b3a7a7180237",
   "metadata": {},
   "outputs": [],
   "source": [
    "import importlib\n",
    "\n",
    "import ase.io as aio\n",
    "from ase.units import Bohr\n",
    "import numpy as np\n",
    "import glob\n",
    "\n",
    "import sys\n",
    "sys.path.insert(0, '/home/sahre/git_repositories/APDFT/prototyping/atomic_energies/')\n",
    "import bt_tools as bt\n",
    "importlib.reload(bt)\n",
    "\n",
    "from matplotlib import pyplot as plt\n",
    "\n",
    "def ref_scatter(ref):\n",
    "    return(np.linspace(np.amin(ref), np.amax(ref), 3))"
   ]
  },
  {
   "cell_type": "code",
   "execution_count": 2,
   "id": "5190d436-0847-439b-9083-713197b5ad1e",
   "metadata": {},
   "outputs": [],
   "source": [
    "importlib.reload(bt)\n",
    "\n",
    "def comp_dist2(var, alpha, beta, b_prime, a, b):\n",
    "    Z1, Z2, d = var.T\n",
    "    comp = (-beta*(Z1**(7/3)+Z2**(7/3))+alpha+b_prime*Z1*Z2)\n",
    "    dist = a/d+b\n",
    "    return(comp*dist)\n",
    "\n",
    "def comp_gamma_dist2(var, alpha, beta, gamma, b_prime, a, b):\n",
    "    Z1, Z2, d = var.T\n",
    "    comp = -beta**2*(Z1**(gamma**2)+Z2**(gamma**2))+alpha-(b_prime**2)*Z1*Z2\n",
    "    dist = a/d+b\n",
    "    return(comp*dist)\n",
    "\n",
    "comp_gamma_dist2_flexible_zeff_lat = None\n",
    "\n",
    "def comp_gamma_dist2_flexible_zeff(*args):\n",
    "    globals()['comp_gamma_dist2_flexible_zeff_lat'] = args[1:]\n",
    "    var = args[0]\n",
    "    alpha, beta, gamma, b_prime, a, b = args[1:7]\n",
    "    Zeffs = args[7:]\n",
    "    lookup = [6,7,8,9,14,15,16,17,32,33,34,35]\n",
    "    \n",
    "    Z1, Z2, d = var.T\n",
    "    Z1e = np.array([Zeffs[lookup.index(int(_))] for _ in Z1])\n",
    "    Z2e = np.array([Zeffs[lookup.index(int(_))] for _ in Z2])\n",
    "    comp = -beta**2*(Z1e**(gamma**2)+Z2e**(gamma**2))+alpha-(b_prime**2)*Z1e*Z2e\n",
    "    dist = a/d+b\n",
    "    \n",
    "    return(comp*dist)\n",
    "\n",
    "def comp_gamma_flexible_zeff(*args):\n",
    "    globals()['comp_gamma_dist2_flexible_zeff_lat'] = args[1:]\n",
    "    var = args[0]\n",
    "    alpha, beta, gamma, b_prime = args[1:5]\n",
    "    Zeffs = args[5:]\n",
    "    lookup = [6,7,8,9,14,15,16,17,32,33,34,35]\n",
    "    \n",
    "    Z1, Z2, d = var.T\n",
    "    Z1e = np.array([Zeffs[lookup.index(int(_))] for _ in Z1])\n",
    "    Z2e = np.array([Zeffs[lookup.index(int(_))] for _ in Z2])\n",
    "    comp = -beta**2*(Z1e**(gamma**2)+Z2e**(gamma**2))+alpha-(b_prime**2)*Z1e*Z2e\n",
    "    \n",
    "    return(comp)"
   ]
  },
  {
   "cell_type": "code",
   "execution_count": 3,
   "id": "30a0b701-2747-41f0-b0ff-3ba43c5b3d1d",
   "metadata": {},
   "outputs": [],
   "source": [
    "weighted_core = lambda Ne, Zs, Zp: 2*Zs/Ne + (Ne-2)/Ne*Zp\n",
    "\n",
    "zs2 = np.array([3.217, 3.847, 4.492, 5.128])\n",
    "zp2 = np.array([3.136, 3.834, 4.453, 5.100])\n",
    "\n",
    "zs3 = np.array([4.903, \t5.642, \t6.367, \t7.068])\n",
    "zp3 = np.array([4.285, 4.886, 5.482, 6.116])\n",
    "\n",
    "zs4 = np.array([8.044, \t8.944, \t9.758, \t10.553])\n",
    "zp4 = np.array([6.780, 7.449, 8.287, 9.028])\n",
    "\n",
    "zs = [zs2, zs3, zs4]\n",
    "zp = [zp2, zp3, zp4]\n",
    "ne = [4, 5, 6, 7]\n",
    "z_eff = []\n",
    "for rs, rp in zip(zs, zp):\n",
    "    zr = []\n",
    "    for s, p, n in zip(rs, rp, ne):\n",
    "        zr.append(weighted_core(n, s, p))\n",
    "    z_eff.append(zr)"
   ]
  },
  {
   "cell_type": "code",
   "execution_count": 4,
   "id": "70e46915-61c2-4b98-873a-289b3ab809c3",
   "metadata": {},
   "outputs": [],
   "source": [
    "def key2(x):\n",
    "    pattern_list = ['CC', 'CN', 'CO', 'CF', 'NN', 'NO', 'NF', 'OO', 'OF', 'FF']\n",
    "    for i, p in enumerate(pattern_list):\n",
    "        if p in x:\n",
    "            return(i)\n",
    "def key3(x):\n",
    "    pattern_list = ['SiSi', 'SiP','SiS','SiCl','PP','PS','PCl','SS','SCl','ClCl',]\n",
    "    for i, p in enumerate(pattern_list):\n",
    "        if p in x:\n",
    "            return(i)\n",
    "def key4(x):\n",
    "    pattern_list = ['[GeH3][GeH3]', '[GeH3][AsH2]', '[GeH3][SeH]', '[GeH3]Br', '[AsH2][AsH2]', '[AsH2][SeH]', '[AsH2]Br', '[SeH][SeH]', '[SeH]Br', 'BrBr']\n",
    "    for i, p in enumerate(pattern_list):\n",
    "        if p in x:\n",
    "            return(i)\n",
    "\n",
    "dist_exact2 = bt.get_distances('/data/sahre/projects/atomic-energies/data/bonding_trends/pbe0_data/row_2/diatomics_single/*_opt.xyz', key2)\n",
    "dist_exact3 = bt.get_distances('/data/sahre/projects/atomic-energies/data/bonding_trends/pbe0_data/row_3/diatomics_single/*_opt.xyz', key3)\n",
    "dist_exact4 = bt.get_distances('/data/sahre/projects/atomic-energies/data/bonding_trends/pbe0_data/row_4/diatomics_single/*_opt.xyz', key4)\n",
    "dist_exact = np.concatenate((dist_exact2, dist_exact3, dist_exact4))\n",
    "dist_exact = np.reshape(dist_exact, (1,30))"
   ]
  },
  {
   "cell_type": "code",
   "execution_count": 5,
   "id": "a05add0e-d222-4730-b45d-20b8ac93e5b7",
   "metadata": {},
   "outputs": [],
   "source": [
    "e2 = np.loadtxt('/data/sahre/projects/atomic-energies/data/bonding_trends/pbe0_data/row_2/energies_single.txt')\n",
    "e3 = np.loadtxt('/data/sahre/projects/atomic-energies/data/bonding_trends/pbe0_data/row_3/energies_single.txt')\n",
    "e4 = np.loadtxt('/data/sahre/projects/atomic-energies/data/bonding_trends/pbe0_data/row_4/energies_single.txt')\n",
    "\n",
    "nsub = [[0,0,0,0], [0,0,0,0], [0,0,0,0]]\n",
    "\n",
    "for e, z in zip([e2, e3, e4], z_eff):\n",
    "    e_nuc = []\n",
    "    for i in range(len(z)):\n",
    "        for j in range(i, len(z)):\n",
    "            e_nuc.append(z[i]*z[j])\n",
    "#             e_nuc.append(0.0)\n",
    "\n",
    "    e_nuc = np.array(e_nuc)\n",
    "    e_el = (e[:,0] - e_nuc).copy()\n",
    "    e[:,1] = e_el\n",
    "    e[:,2] = e_nuc\n",
    "\n",
    "# distances = np.array([10*[1.42] + 10*[2.12] + 10*[2.36]])\n",
    "distances = dist_exact\n",
    "\n",
    "distances /= Bohr\n",
    "\n",
    "energies = np.concatenate((e2, e3, e4), axis = 0)\n",
    "\n",
    "nuc_charges = [[6, 7, 8, 9], [14, 15, 16, 17], [32, 33, 34, 35]]"
   ]
  },
  {
   "cell_type": "code",
   "execution_count": null,
   "id": "54a97d2a-de90-4aaf-8870-305dcadc457e",
   "metadata": {},
   "outputs": [],
   "source": [
    "# normal nuclear charges and exponent = 7/3\n",
    "b_cd = bt.BDE_dist(energies, z_eff, distances)\n",
    "b_cd.fit(comp_dist2)\n",
    "\n",
    "plt.plot(b_cd.bde)\n",
    "plt.plot(b_cd.bde_fitted)"
   ]
  },
  {
   "cell_type": "code",
   "execution_count": 6,
   "id": "30301122-f866-4962-af85-84ab19c4052b",
   "metadata": {},
   "outputs": [
    {
     "name": "stderr",
     "output_type": "stream",
     "text": [
      "<ipython-input-2-75db1adaf927>:11: RuntimeWarning: overflow encountered in power\n",
      "  comp = -beta**2*(Z1**(gamma**2)+Z2**(gamma**2))+alpha-(b_prime**2)*Z1*Z2\n"
     ]
    },
    {
     "data": {
      "text/plain": [
       "[<matplotlib.lines.Line2D at 0x7fc04afae3a0>]"
      ]
     },
     "execution_count": 6,
     "metadata": {},
     "output_type": "execute_result"
    },
    {
     "data": {
      "image/png": "[encoded data removed]",
      "text/plain": [
       "<Figure size 432x288 with 1 Axes>"
      ]
     },
     "metadata": {
      "needs_background": "light"
     },
     "output_type": "display_data"
    }
   ],
   "source": [
    "# normal nuclear charges and exponent = 7/3\n",
    "b_cdg = bt.BDE_dist(energies, z_eff, distances)\n",
    "b_cdg.fit(comp_gamma_dist2)\n",
    "\n",
    "plt.plot(b_cdg.bde)\n",
    "plt.plot(b_cdg.bde_fitted)"
   ]
  },
  {
   "cell_type": "code",
   "execution_count": 7,
   "id": "3a327e14-3584-4539-b90a-94a7ccd72573",
   "metadata": {},
   "outputs": [
    {
     "data": {
      "text/plain": [
       "array([-5.61579964e+01,  1.88968639e+00,  1.44660413e+00,  1.61740438e+01,\n",
       "       -3.07969736e-02,  2.33371737e+00])"
      ]
     },
     "execution_count": 7,
     "metadata": {},
     "output_type": "execute_result"
    }
   ],
   "source": [
    "b_cdg.params[0]"
   ]
  },
  {
   "cell_type": "code",
   "execution_count": 30,
   "id": "14bcec8c-4d68-4797-9216-31a40ac7cb55",
   "metadata": {},
   "outputs": [
    {
     "name": "stderr",
     "output_type": "stream",
     "text": [
      "<ipython-input-2-75db1adaf927>:42: RuntimeWarning: invalid value encountered in power\n",
      "  comp = -beta**2*(Z1e**(gamma**2)+Z2e**(gamma**2))+alpha-(b_prime**2)*Z1e*Z2e\n"
     ]
    }
   ],
   "source": [
    "alpha, beta, gamma, bprime, a, b = b_cdg.params[0].copy()\n",
    "p0 = np.array((alpha, abs(beta), abs(gamma), abs(bprime)))\n",
    "p0 = np.concatenate((p0, np.array(z_eff).flatten()))\n",
    "# p0[:]=1.0\n",
    "b_cdgzo = bt.BDE_dist(energies, nuc_charges, distances)\n",
    "b_cdgzo.fit(comp_gamma_flexible_zeff, p0)"
   ]
  },
  {
   "cell_type": "code",
   "execution_count": 31,
   "id": "3062f85e-f727-4bf5-84ed-fe5d9023cc1f",
   "metadata": {},
   "outputs": [
    {
     "data": {
      "text/plain": [
       "[<matplotlib.lines.Line2D at 0x7fc04ab091f0>]"
      ]
     },
     "execution_count": 31,
     "metadata": {},
     "output_type": "execute_result"
    },
    {
     "data": {
      "image/png": "[encoded data removed]",
      "text/plain": [
       "<Figure size 432x288 with 1 Axes>"
      ]
     },
     "metadata": {
      "needs_background": "light"
     },
     "output_type": "display_data"
    }
   ],
   "source": [
    "plt.plot(b_cdgzo.bde)\n",
    "plt.plot(b_cdgzo.bde_fitted)"
   ]
  },
  {
   "cell_type": "code",
   "execution_count": 32,
   "id": "735a4ed6-77c9-4389-bac9-8a9c997a2bdd",
   "metadata": {},
   "outputs": [
    {
     "data": {
      "text/plain": [
       "1.5286333020112362"
      ]
     },
     "execution_count": 32,
     "metadata": {},
     "output_type": "execute_result"
    }
   ],
   "source": [
    "b_cdgzo.mae"
   ]
  },
  {
   "cell_type": "code",
   "execution_count": 29,
   "id": "3db75911-3e25-4cc7-baae-46bef6a1c346",
   "metadata": {},
   "outputs": [
    {
     "data": {
      "text/plain": [
       "array([ 3.50147954e+02, -2.18122264e-02,  8.13645211e-01,  1.33268098e+01,\n",
       "        6.18693353e+00,  7.39405475e+00,  8.54530302e+00,  9.73287420e+00,\n",
       "        8.79209897e+00,  9.89097407e+00,  1.09886875e+01,  1.21286952e+01,\n",
       "        1.40453361e+01,  1.52310432e+01,  1.66008846e+01,  1.78885867e+01])"
      ]
     },
     "execution_count": 29,
     "metadata": {},
     "output_type": "execute_result"
    }
   ],
   "source": [
    "b_cdgzo.params[0]"
   ]
  },
  {
   "cell_type": "code",
   "execution_count": 26,
   "id": "c0a74b06-b4c2-4042-a840-893cb9b983a6",
   "metadata": {},
   "outputs": [
    {
     "data": {
      "text/plain": [
       "array([-6.40742873e+03,  3.51900132e+01, -1.00704557e+00,  1.54552201e+01,\n",
       "        2.07957433e-02,  1.07851632e+00,  2.07254048e+00,  3.09263830e+00,\n",
       "        2.28341234e+00,  3.22779889e+00,  4.16909087e+00,  5.14526596e+00,\n",
       "        6.78676113e+00,  7.80352314e+00,  8.97759673e+00,  1.00808996e+01])"
      ]
     },
     "execution_count": 26,
     "metadata": {},
     "output_type": "execute_result"
    }
   ],
   "source": [
    "b_cdgzo.params[0]"
   ]
  },
  {
   "cell_type": "code",
   "execution_count": 33,
   "id": "1b57ba52-4edf-4896-be04-be7f3be98733",
   "metadata": {},
   "outputs": [
    {
     "data": {
      "text/plain": [
       "[<matplotlib.lines.Line2D at 0x7fc04aa6c5e0>]"
      ]
     },
     "execution_count": 33,
     "metadata": {},
     "output_type": "execute_result"
    },
    {
     "data": {
      "image/png": "[encoded data removed]",
      "text/plain": [
       "<Figure size 432x288 with 1 Axes>"
      ]
     },
     "metadata": {
      "needs_background": "light"
     },
     "output_type": "display_data"
    }
   ],
   "source": [
    "plt.plot(np.array(z_eff).flatten())\n",
    "plt.plot(b_cdgzo.params[0][4:], '-o')"
   ]
  },
  {
   "cell_type": "code",
   "execution_count": 34,
   "id": "7299cd06-84c4-4be5-b8ec-2177cc639005",
   "metadata": {},
   "outputs": [
    {
     "data": {
      "text/plain": [
       "[<matplotlib.lines.Line2D at 0x7fc04aa3ed30>]"
      ]
     },
     "execution_count": 34,
     "metadata": {},
     "output_type": "execute_result"
    },
    {
     "data": {
      "image/png": "[encoded data removed]",
      "text/plain": [
       "<Figure size 432x288 with 1 Axes>"
      ]
     },
     "metadata": {
      "needs_background": "light"
     },
     "output_type": "display_data"
    }
   ],
   "source": [
    "plt.plot(b_cdgzo.params[0][4:]/np.array(z_eff).flatten(), '-o')"
   ]
  },
  {
   "cell_type": "code",
   "execution_count": null,
   "id": "f78d67eb-a0e9-4454-b94e-54259af04a80",
   "metadata": {},
   "outputs": [],
   "source": []
  }
 ],
 "metadata": {
  "kernelspec": {
   "display_name": "Python 3",
   "language": "python",
   "name": "python3"
  },
  "language_info": {
   "codemirror_mode": {
    "name": "ipython",
    "version": 3
   },
   "file_extension": ".py",
   "mimetype": "text/x-python",
   "name": "python",
   "nbconvert_exporter": "python",
   "pygments_lexer": "ipython3",
   "version": "3.9.5"
  }
 },
 "nbformat": 4,
 "nbformat_minor": 5
}
