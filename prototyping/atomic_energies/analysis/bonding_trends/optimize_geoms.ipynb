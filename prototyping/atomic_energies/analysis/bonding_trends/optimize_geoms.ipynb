{
 "cells": [
  {
   "cell_type": "code",
   "execution_count": 11,
   "id": "4019f2ea-4310-4e60-86a8-9bb888666c9c",
   "metadata": {
    "collapsed": true,
    "jupyter": {
     "outputs_hidden": true
    },
    "tags": []
   },
   "outputs": [
    {
     "name": "stdout",
     "output_type": "stream",
     "text": [
      "converged SCF energy = -54.5423958298905\n"
     ]
    },
    {
     "name": "stderr",
     "output_type": "stream",
     "text": [
      "\n",
      "                                        \u001b[91m())))))))))))))))/\u001b[0m                     \n",
      "                                    \u001b[91m())))))))))))))))))))))))),\u001b[0m                \n",
      "                                \u001b[91m*)))))))))))))))))))))))))))))))))\u001b[0m             \n",
      "                        \u001b[94m#,\u001b[0m    \u001b[91m()))))))))/\u001b[0m                \u001b[91m.)))))))))),\u001b[0m          \n",
      "                      \u001b[94m#%%%%,\u001b[0m  \u001b[91m())))))\u001b[0m                        \u001b[91m.))))))))*\u001b[0m        \n",
      "                      \u001b[94m*%%%%%%,\u001b[0m  \u001b[91m))\u001b[0m              \u001b[93m..\u001b[0m              \u001b[91m,))))))).\u001b[0m      \n",
      "                        \u001b[94m*%%%%%%,\u001b[0m         \u001b[93m***************/.\u001b[0m        \u001b[91m.)))))))\u001b[0m     \n",
      "                \u001b[94m#%%/\u001b[0m      \u001b[94m(%%%%%%,\u001b[0m    \u001b[93m/*********************.\u001b[0m       \u001b[91m)))))))\u001b[0m    \n",
      "              \u001b[94m.%%%%%%#\u001b[0m      \u001b[94m*%%%%%%,\u001b[0m  \u001b[93m*******/,\u001b[0m     \u001b[93m**********,\u001b[0m      \u001b[91m.))))))\u001b[0m   \n",
      "                \u001b[94m.%%%%%%/\u001b[0m      \u001b[94m*%%%%%%,\u001b[0m  \u001b[93m**\u001b[0m              \u001b[93m********\u001b[0m      \u001b[91m.))))))\u001b[0m  \n",
      "          \u001b[94m##\u001b[0m      \u001b[94m.%%%%%%/\u001b[0m      \u001b[94m(%%%%%%,\u001b[0m                  \u001b[93m,******\u001b[0m      \u001b[91m/)))))\u001b[0m  \n",
      "        \u001b[94m%%%%%%\u001b[0m      \u001b[94m.%%%%%%#\u001b[0m      \u001b[94m*%%%%%%,\u001b[0m    \u001b[92m,/////.\u001b[0m       \u001b[93m******\u001b[0m      \u001b[91m))))))\u001b[0m \n",
      "      \u001b[94m#%\u001b[0m      \u001b[94m%%\u001b[0m      \u001b[94m.%%%%%%/\u001b[0m      \u001b[94m*%%%%%%,\u001b[0m  \u001b[92m////////,\u001b[0m      \u001b[93m*****/\u001b[0m     \u001b[91m,)))))\u001b[0m \n",
      "    \u001b[94m#%%\u001b[0m  \u001b[94m%%%\u001b[0m  \u001b[94m%%%#\u001b[0m      \u001b[94m.%%%%%%/\u001b[0m      \u001b[94m(%%%%%%,\u001b[0m  \u001b[92m///////.\u001b[0m     \u001b[93m/*****\u001b[0m      \u001b[91m))))).\u001b[0m\n",
      "  \u001b[94m#%%%%.\u001b[0m      \u001b[94m%%%%%#\u001b[0m      \u001b[94m/%%%%%%*\u001b[0m      \u001b[94m#%%%%%%\u001b[0m   \u001b[92m/////)\u001b[0m     \u001b[93m******\u001b[0m      \u001b[91m))))),\u001b[0m\n",
      "    \u001b[94m#%%%%##%\u001b[0m  \u001b[94m%%%#\u001b[0m      \u001b[94m.%%%%%%/\u001b[0m      \u001b[94m(%%%%%%,\u001b[0m  \u001b[92m///////.\u001b[0m     \u001b[93m/*****\u001b[0m      \u001b[91m))))).\u001b[0m\n",
      "      \u001b[94m##\u001b[0m     \u001b[94m%%%\u001b[0m      \u001b[94m.%%%%%%/\u001b[0m      \u001b[94m*%%%%%%,\u001b[0m  \u001b[92m////////.\u001b[0m      \u001b[93m*****/\u001b[0m     \u001b[91m,)))))\u001b[0m \n",
      "        \u001b[94m#%%%%#\u001b[0m      \u001b[94m/%%%%%%/\u001b[0m      \u001b[94m(%%%%%%\u001b[0m      \u001b[92m/)/)//\u001b[0m       \u001b[93m******\u001b[0m      \u001b[91m))))))\u001b[0m \n",
      "          \u001b[94m##\u001b[0m      \u001b[94m.%%%%%%/\u001b[0m      \u001b[94m(%%%%%%,\u001b[0m                  \u001b[93m*******\u001b[0m      \u001b[91m))))))\u001b[0m  \n",
      "                \u001b[94m.%%%%%%/\u001b[0m      \u001b[94m*%%%%%%,\u001b[0m  \u001b[93m**.\u001b[0m             \u001b[93m/*******\u001b[0m      \u001b[91m.))))))\u001b[0m  \n",
      "              \u001b[94m*%%%%%%/\u001b[0m      \u001b[94m(%%%%%%\u001b[0m   \u001b[93m********/*..,*/*********\u001b[0m       \u001b[91m*))))))\u001b[0m   \n",
      "                \u001b[94m#%%/\u001b[0m      \u001b[94m(%%%%%%,\u001b[0m    \u001b[93m*********************/\u001b[0m        \u001b[91m)))))))\u001b[0m    \n",
      "                        \u001b[94m*%%%%%%,\u001b[0m         \u001b[93m,**************/\u001b[0m         \u001b[91m,))))))/\u001b[0m     \n",
      "                      \u001b[94m(%%%%%%\u001b[0m   \u001b[91m()\u001b[0m                              \u001b[91m))))))))\u001b[0m       \n",
      "                      \u001b[94m#%%%%,\u001b[0m  \u001b[91m())))))\u001b[0m                        \u001b[91m,)))))))),\u001b[0m        \n",
      "                        \u001b[94m#,\u001b[0m    \u001b[91m())))))))))\u001b[0m                \u001b[91m,)))))))))).\u001b[0m          \n",
      "                                 \u001b[91m()))))))))))))))))))))))))))))))/\u001b[0m             \n",
      "                                    \u001b[91m())))))))))))))))))))))))).\u001b[0m                \n",
      "                                         \u001b[91m())))))))))))))),\u001b[0m                     \n",
      "\n",
      "-=# \u001b[1;94m geomeTRIC started. Version: 0.9.7.2 \u001b[0m #=-\n",
      "geometric-optimize called with the following command line:\n",
      "/home/sahre/opt/miniconda3/envs/qm-tools/lib/python3.9/site-packages/ipykernel_launcher.py -f /home/sahre/.local/share/jupyter/runtime/kernel-64e4c848-639b-438d-9c0b-53129668c662.json\n",
      "3 internal coordinates being used (instead of 3 Cartesians)\n",
      "Internal coordinate system (atoms numbered from 1):\n",
      "Cartesian-X 1\n",
      "Cartesian-Y 1\n",
      "Cartesian-Z 1\n",
      "<class 'geometric.internal.CartesianX'> : 1\n",
      "<class 'geometric.internal.CartesianY'> : 1\n",
      "<class 'geometric.internal.CartesianZ'> : 1\n"
     ]
    },
    {
     "name": "stdout",
     "output_type": "stream",
     "text": [
      "-54.542395829890495\n",
      "\n",
      "Geometry optimization cycle 1\n",
      "Cartesian coordinates (Angstrom)\n",
      " Atom        New coordinates             dX        dY        dZ\n",
      "   N   0.544743   0.000000   0.000000    0.000000  0.000000  0.000000\n",
      "converged SCF energy = -54.5423958298907\n",
      "--------------- SCF_Scanner gradients ---------------\n",
      "         x                y                z\n",
      "0 N     0.0000000000    -0.0000000000     0.0000000000\n",
      "----------------------------------------------\n",
      "cycle 1: E = -54.5423958299  dE = -54.5424  norm(grad) = 9.17703e-15\n"
     ]
    },
    {
     "name": "stderr",
     "output_type": "stream",
     "text": [
      "Step    0 : Gradient = 9.177e-15/9.177e-15 (rms/max) Energy = -54.5423958299\n",
      "Hessian Eigenvalues: 5.00000e-02 5.00000e-02 5.00000e-02\n"
     ]
    },
    {
     "name": "stdout",
     "output_type": "stream",
     "text": [
      "\n",
      "Geometry optimization cycle 2\n",
      "Cartesian coordinates (Angstrom)\n",
      " Atom        New coordinates             dX        dY        dZ\n",
      "   N   0.544743   0.000000  -0.000000   -0.000000  0.000000 -0.000000\n",
      "converged SCF energy = -54.5423958298908\n",
      "--------------- SCF_Scanner gradients ---------------\n",
      "         x                y                z\n",
      "0 N     0.0000000000     0.0000000000    -0.0000000000\n",
      "----------------------------------------------\n",
      "cycle 2: E = -54.5423958299  dE = -1.20792e-13  norm(grad) = 1.00199e-13\n"
     ]
    },
    {
     "name": "stderr",
     "output_type": "stream",
     "text": [
      "Step    1 : Displace = \u001b[92m0.000e+00\u001b[0m/\u001b[92m0.000e+00\u001b[0m (rms/max) Trust = 1.000e-01 (=) Grad = \u001b[92m1.002e-13\u001b[0m/\u001b[92m1.002e-13\u001b[0m (rms/max) E (change) = -54.5423958299 (\u001b[92m-1.208e-13\u001b[0m) Quality = \u001b[0m143428334861169.156\u001b[0m\n",
      "Converged! =D\n",
      "\n",
      "    #==========================================================================#\n",
      "    #| If this code has benefited your research, please support us by citing: |#\n",
      "    #|                                                                        |#\n",
      "    #| Wang, L.-P.; Song, C.C. (2016) \"Geometry optimization made simple with |#\n",
      "    #| translation and rotation coordinates\", J. Chem, Phys. 144, 214108.     |#\n",
      "    #| http://dx.doi.org/10.1063/1.4952956                                    |#\n",
      "    #==========================================================================#\n",
      "    \n",
      "Time elapsed since start of run_optimizer: 0.461 seconds\n"
     ]
    },
    {
     "name": "stdout",
     "output_type": "stream",
     "text": [
      "converged SCF energy = -54.5423958298904\n",
      "-54.54239582989044\n"
     ]
    }
   ],
   "source": [
    "import ase.io as aio\n",
    "from ase.units import Bohr\n",
    "import sys\n",
    "sys.path.insert(0, '/home/sahre/git_repositories/APDFT/prototyping/atomic_energies/')\n",
    "import utils_qm as uqm\n",
    "\n",
    "from pyscf import gto, dft, scf\n",
    "\n",
    "# geometric\n",
    "from pyscf.geomopt.geometric_solver import optimize\n",
    "\n",
    "# comps = ['CC','CN','CO','CF','NN','NO','NF','OO', 'OF', 'FF']\n",
    "bond_type = 'triple'\n",
    "system = 'fragments'\n",
    "spin = 3\n",
    "c = 'tNN'\n",
    "atoms = aio.read(f'/data/sahre/projects/atomic-energies/data/bonding_trends/pbe0_data/{system}_{bond_type}/{c}.xyz')\n",
    "\n",
    "pyscf_atoms = uqm.ase2pyscf(atoms)\n",
    "basis = 'def2-tzvp'\n",
    "mol = gto.Mole()\n",
    "mol.atom = pyscf_atoms\n",
    "mol.basis = basis\n",
    "mol.spin = spin\n",
    "mol.build()\n",
    "\n",
    "if spin != 0:\n",
    "    mf = dft.ROKS(mol)\n",
    "else:\n",
    "    mf = dft.RKS(mol)\n",
    "mf.xc = 'pbe0'\n",
    "mf.kernel()\n",
    "print(mf.e_tot)\n",
    "\n",
    "conv_params = { # These are the default settings\n",
    "    'convergence_energy': 1e-8,  # Eh\n",
    "    'convergence_grms': 3e-5,    # Eh/Bohr\n",
    "    'convergence_gmax': 1e-5,  # Eh/Bohr\n",
    "    'convergence_drms': 1.2e-5,  # Angstrom\n",
    "    'convergence_dmax': 1.8e-5,  # Angstrom\n",
    "}\n",
    "\n",
    "mol_eq = optimize(mf, maxsteps=100, **conv_params)\n",
    "\n",
    "new_pos = mol_eq.atom_coords()*Bohr\n",
    "atoms.set_positions(new_pos)\n",
    "\n",
    "aio.write(f'/data/sahre/projects/atomic-energies/data/bonding_trends/pbe0_data/{system}_{bond_type}/{c}_opt.xyz', atoms)\n",
    "\n",
    "pyscf_atoms = uqm.ase2pyscf(atoms)\n",
    "mol = gto.Mole()\n",
    "mol.atom = pyscf_atoms\n",
    "mol.basis = basis\n",
    "mol.spin = spin\n",
    "mol.build()\n",
    "\n",
    "if spin != 0:\n",
    "    mf = dft.ROKS(mol)\n",
    "else:\n",
    "    mf = dft.RKS(mol)\n",
    "mf.xc = 'pbe0'\n",
    "mf.kernel()\n",
    "print(mf.e_tot)\n",
    "\n",
    "with open(f'/data/sahre/projects/atomic-energies/data/bonding_trends/pbe0_data/{system}_{bond_type}/{c}_energy', 'w') as f:\n",
    "    f.write(str(mf.e_tot)+'\\n')"
   ]
  },
  {
   "cell_type": "markdown",
   "id": "fae15fb3-69c5-4aab-b7d0-54f3425f1704",
   "metadata": {},
   "source": [
    "# BSSE"
   ]
  },
  {
   "cell_type": "code",
   "execution_count": null,
   "id": "085ee023-f77a-4936-8ea4-5d5e851fb3c8",
   "metadata": {},
   "outputs": [],
   "source": []
  },
  {
   "cell_type": "code",
   "execution_count": 53,
   "id": "b08e34d9-e05d-4389-8692-a739bf3ed161",
   "metadata": {
    "tags": []
   },
   "outputs": [
    {
     "name": "stdout",
     "output_type": "stream",
     "text": [
      "converged SCF energy = -459.995312104145\n",
      "-459.9953121041448\n"
     ]
    }
   ],
   "source": [
    "import ase.io as aio\n",
    "from ase.units import Bohr\n",
    "import sys\n",
    "sys.path.insert(0, '/home/sahre/git_repositories/APDFT/prototyping/atomic_energies/')\n",
    "import utils_qm as uqm\n",
    "\n",
    "from pyscf import gto, dft, scf\n",
    "\n",
    "# geometric\n",
    "from pyscf.geomopt.geometric_solver import optimize\n",
    "\n",
    "# comps = ['CC','CN','CO','CF','NN','NO','NF','OO', 'OF', 'FF']\n",
    "bond_type = 'single'\n",
    "system = 'fragments'\n",
    "row = 'row_3'\n",
    "spin = 1\n",
    "c = 'ClCl_opt'\n",
    "# ghost = ['ghost-Si', (1.124012, -0.00809671, 0.01892673)]\n",
    "# ghost = ['ghost-P', (-0.96852899, -0.55016469, -0.00293903)]\n",
    "# ghost = ['ghost-S', (0.89537907, 0.45336758, 0.50867668)]\n",
    "ghost = ['ghost-Cl', (-0.99124176, 0.00000000, 0.00000000)]\n",
    "\n",
    "atoms = aio.read(f'/data/sahre/projects/atomic-energies/data/bonding_trends/pbe0_data/{row}/{system}_{bond_type}/{c}.xyz')\n",
    "\n",
    "pyscf_atoms = uqm.ase2pyscf(atoms)\n",
    "pyscf_atoms.append(ghost)\n",
    "basis = 'def2-tzvp'\n",
    "mol = gto.Mole()\n",
    "mol.atom = pyscf_atoms\n",
    "mol.basis = basis\n",
    "mol.spin = spin\n",
    "mol.build()\n",
    "\n",
    "if spin != 0:\n",
    "    mf = dft.ROKS(mol)\n",
    "else:\n",
    "    mf = dft.RKS(mol)\n",
    "mf.xc = 'pbe0'\n",
    "mf.kernel()\n",
    "print(mf.e_tot)"
   ]
  },
  {
   "cell_type": "code",
   "execution_count": 54,
   "id": "79db399d-067b-42cb-a15c-2c3183c19b8d",
   "metadata": {},
   "outputs": [
    {
     "data": {
      "text/plain": [
       "-0.00019479351499285258"
      ]
     },
     "execution_count": 54,
     "metadata": {},
     "output_type": "execute_result"
    }
   ],
   "source": [
    "mf.e_tot--459.9951173106298"
   ]
  },
  {
   "cell_type": "code",
   "execution_count": 52,
   "id": "4c1febd0-0c4a-4a9e-b9c1-ef9d7176e4f0",
   "metadata": {},
   "outputs": [
    {
     "data": {
      "text/plain": [
       "-398.61035651125843"
      ]
     },
     "execution_count": 52,
     "metadata": {},
     "output_type": "execute_result"
    }
   ],
   "source": [
    "mf.e_tot"
   ]
  },
  {
   "cell_type": "code",
   "execution_count": null,
   "id": "8bf9f933-89f2-4236-8559-75cd5fc23157",
   "metadata": {},
   "outputs": [],
   "source": [
    "-291.1079104299862\n",
    "-342.3787823295063\n",
    "-398.61035651125843\n",
    "-459.9953121041448"
   ]
  },
  {
   "cell_type": "code",
   "execution_count": 40,
   "id": "69dc7026-4ac1-4899-bdde-05b7d7a86c9b",
   "metadata": {},
   "outputs": [
    {
     "data": {
      "text/plain": [
       "<pyscf.gto.mole.Mole at 0x7fc24d8e4b80>"
      ]
     },
     "execution_count": 40,
     "metadata": {},
     "output_type": "execute_result"
    }
   ],
   "source": [
    "# comps = ['CC','CN','CO','CF','NN','NO','NF','OO', 'OF', 'FF']\n",
    "bond_type = 'single'\n",
    "system = 'fragments'\n",
    "row = 'row_3'\n",
    "spin = 1\n",
    "c = 'SiSi_opt'\n",
    "ghost = ['ghost-Si', (1.124012, -0.00809671, 0.01892673)]\n",
    "atoms = aio.read(f'/data/sahre/projects/atomic-energies/data/bonding_trends/pbe0_data/{row}/{system}_{bond_type}/{c}.xyz')\n",
    "\n",
    "pyscf_atoms = uqm.ase2pyscf(atoms)\n",
    "pyscf_atoms.append(ghost)\n",
    "basis = 'def2-tzvp'\n",
    "mol = gto.Mole()\n",
    "mol.atom = pyscf_atoms\n",
    "mol.basis = basis\n",
    "mol.spin = spin\n",
    "mol.build()"
   ]
  },
  {
   "cell_type": "code",
   "execution_count": 42,
   "id": "9c5dafc2-6c15-4793-a80e-822e3d6529f3",
   "metadata": {},
   "outputs": [
    {
     "data": {
      "text/plain": [
       "[['Si', (-1.21562791, 0.00809671, -0.01892673)],\n",
       " ['H', (-1.69350988, -0.12419117, 1.38215208)],\n",
       " ['H', (-1.6528047, 1.29851308, -0.61272885)],\n",
       " ['H', (-1.66572464, -1.14075827, -0.84744183)],\n",
       " ['ghost-Si', (1.124012, -0.00809671, 0.01892673)]]"
      ]
     },
     "execution_count": 42,
     "metadata": {},
     "output_type": "execute_result"
    }
   ],
   "source": [
    "mol.atom"
   ]
  }
 ],
 "metadata": {
  "kernelspec": {
   "display_name": "Python 3",
   "language": "python",
   "name": "python3"
  },
  "language_info": {
   "codemirror_mode": {
    "name": "ipython",
    "version": 3
   },
   "file_extension": ".py",
   "mimetype": "text/x-python",
   "name": "python",
   "nbconvert_exporter": "python",
   "pygments_lexer": "ipython3",
   "version": "3.9.5"
  }
 },
 "nbformat": 4,
 "nbformat_minor": 5
}
