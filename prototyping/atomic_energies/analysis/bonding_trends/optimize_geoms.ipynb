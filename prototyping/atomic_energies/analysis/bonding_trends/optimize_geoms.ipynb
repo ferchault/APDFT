{
 "cells": [
  {
   "cell_type": "code",
   "execution_count": 1,
   "id": "4019f2ea-4310-4e60-86a8-9bb888666c9c",
   "metadata": {
    "tags": []
   },
   "outputs": [
    {
     "name": "stderr",
     "output_type": "stream",
     "text": [
      "/home/sahre/opt/miniconda3/envs/qm-tools/lib/python3.9/site-packages/pyscf/lib/misc.py:46: H5pyDeprecationWarning: Using default_file_mode other than 'r' is deprecated. Pass the mode to h5py.File() instead.\n",
      "  h5py.get_config().default_file_mode = 'a'\n"
     ]
    },
    {
     "name": "stdout",
     "output_type": "stream",
     "text": [
      "converged SCF energy = -79.7499700518821\n"
     ]
    },
    {
     "name": "stderr",
     "output_type": "stream",
     "text": [
      "\n",
      "                                        \u001b[91m())))))))))))))))/\u001b[0m                     \n",
      "                                    \u001b[91m())))))))))))))))))))))))),\u001b[0m                \n",
      "                                \u001b[91m*)))))))))))))))))))))))))))))))))\u001b[0m             \n",
      "                        \u001b[94m#,\u001b[0m    \u001b[91m()))))))))/\u001b[0m                \u001b[91m.)))))))))),\u001b[0m          \n",
      "                      \u001b[94m#%%%%,\u001b[0m  \u001b[91m())))))\u001b[0m                        \u001b[91m.))))))))*\u001b[0m        \n",
      "                      \u001b[94m*%%%%%%,\u001b[0m  \u001b[91m))\u001b[0m              \u001b[93m..\u001b[0m              \u001b[91m,))))))).\u001b[0m      \n",
      "                        \u001b[94m*%%%%%%,\u001b[0m         \u001b[93m***************/.\u001b[0m        \u001b[91m.)))))))\u001b[0m     \n",
      "                \u001b[94m#%%/\u001b[0m      \u001b[94m(%%%%%%,\u001b[0m    \u001b[93m/*********************.\u001b[0m       \u001b[91m)))))))\u001b[0m    \n",
      "              \u001b[94m.%%%%%%#\u001b[0m      \u001b[94m*%%%%%%,\u001b[0m  \u001b[93m*******/,\u001b[0m     \u001b[93m**********,\u001b[0m      \u001b[91m.))))))\u001b[0m   \n",
      "                \u001b[94m.%%%%%%/\u001b[0m      \u001b[94m*%%%%%%,\u001b[0m  \u001b[93m**\u001b[0m              \u001b[93m********\u001b[0m      \u001b[91m.))))))\u001b[0m  \n",
      "          \u001b[94m##\u001b[0m      \u001b[94m.%%%%%%/\u001b[0m      \u001b[94m(%%%%%%,\u001b[0m                  \u001b[93m,******\u001b[0m      \u001b[91m/)))))\u001b[0m  \n",
      "        \u001b[94m%%%%%%\u001b[0m      \u001b[94m.%%%%%%#\u001b[0m      \u001b[94m*%%%%%%,\u001b[0m    \u001b[92m,/////.\u001b[0m       \u001b[93m******\u001b[0m      \u001b[91m))))))\u001b[0m \n",
      "      \u001b[94m#%\u001b[0m      \u001b[94m%%\u001b[0m      \u001b[94m.%%%%%%/\u001b[0m      \u001b[94m*%%%%%%,\u001b[0m  \u001b[92m////////,\u001b[0m      \u001b[93m*****/\u001b[0m     \u001b[91m,)))))\u001b[0m \n",
      "    \u001b[94m#%%\u001b[0m  \u001b[94m%%%\u001b[0m  \u001b[94m%%%#\u001b[0m      \u001b[94m.%%%%%%/\u001b[0m      \u001b[94m(%%%%%%,\u001b[0m  \u001b[92m///////.\u001b[0m     \u001b[93m/*****\u001b[0m      \u001b[91m))))).\u001b[0m\n",
      "  \u001b[94m#%%%%.\u001b[0m      \u001b[94m%%%%%#\u001b[0m      \u001b[94m/%%%%%%*\u001b[0m      \u001b[94m#%%%%%%\u001b[0m   \u001b[92m/////)\u001b[0m     \u001b[93m******\u001b[0m      \u001b[91m))))),\u001b[0m\n",
      "    \u001b[94m#%%%%##%\u001b[0m  \u001b[94m%%%#\u001b[0m      \u001b[94m.%%%%%%/\u001b[0m      \u001b[94m(%%%%%%,\u001b[0m  \u001b[92m///////.\u001b[0m     \u001b[93m/*****\u001b[0m      \u001b[91m))))).\u001b[0m\n",
      "      \u001b[94m##\u001b[0m     \u001b[94m%%%\u001b[0m      \u001b[94m.%%%%%%/\u001b[0m      \u001b[94m*%%%%%%,\u001b[0m  \u001b[92m////////.\u001b[0m      \u001b[93m*****/\u001b[0m     \u001b[91m,)))))\u001b[0m \n",
      "        \u001b[94m#%%%%#\u001b[0m      \u001b[94m/%%%%%%/\u001b[0m      \u001b[94m(%%%%%%\u001b[0m      \u001b[92m/)/)//\u001b[0m       \u001b[93m******\u001b[0m      \u001b[91m))))))\u001b[0m \n",
      "          \u001b[94m##\u001b[0m      \u001b[94m.%%%%%%/\u001b[0m      \u001b[94m(%%%%%%,\u001b[0m                  \u001b[93m*******\u001b[0m      \u001b[91m))))))\u001b[0m  \n",
      "                \u001b[94m.%%%%%%/\u001b[0m      \u001b[94m*%%%%%%,\u001b[0m  \u001b[93m**.\u001b[0m             \u001b[93m/*******\u001b[0m      \u001b[91m.))))))\u001b[0m  \n",
      "              \u001b[94m*%%%%%%/\u001b[0m      \u001b[94m(%%%%%%\u001b[0m   \u001b[93m********/*..,*/*********\u001b[0m       \u001b[91m*))))))\u001b[0m   \n",
      "                \u001b[94m#%%/\u001b[0m      \u001b[94m(%%%%%%,\u001b[0m    \u001b[93m*********************/\u001b[0m        \u001b[91m)))))))\u001b[0m    \n",
      "                        \u001b[94m*%%%%%%,\u001b[0m         \u001b[93m,**************/\u001b[0m         \u001b[91m,))))))/\u001b[0m     \n",
      "                      \u001b[94m(%%%%%%\u001b[0m   \u001b[91m()\u001b[0m                              \u001b[91m))))))))\u001b[0m       \n",
      "                      \u001b[94m#%%%%,\u001b[0m  \u001b[91m())))))\u001b[0m                        \u001b[91m,)))))))),\u001b[0m        \n",
      "                        \u001b[94m#,\u001b[0m    \u001b[91m())))))))))\u001b[0m                \u001b[91m,)))))))))).\u001b[0m          \n",
      "                                 \u001b[91m()))))))))))))))))))))))))))))))/\u001b[0m             \n",
      "                                    \u001b[91m())))))))))))))))))))))))).\u001b[0m                \n",
      "                                         \u001b[91m())))))))))))))),\u001b[0m                     \n",
      "\n",
      "-=# \u001b[1;94m geomeTRIC started. Version: 0.9.7.2 \u001b[0m #=-\n",
      "geometric-optimize called with the following command line:\n",
      "/home/sahre/opt/miniconda3/envs/qm-tools/lib/python3.9/site-packages/ipykernel_launcher.py -f /home/sahre/.local/share/jupyter/runtime/kernel-7e033332-19d3-443c-95ff-380baae3ffb2.json\n",
      "24 internal coordinates being used (instead of 24 Cartesians)\n",
      "Internal coordinate system (atoms numbered from 1):\n",
      "Distance 1-2\n",
      "Distance 1-3\n",
      "Distance 1-4\n",
      "Distance 1-5\n",
      "Distance 2-6\n",
      "Distance 2-7\n",
      "Distance 2-8\n",
      "Angle 2-1-3\n",
      "Angle 2-1-4\n",
      "Angle 2-1-5\n",
      "Angle 3-1-4\n",
      "Angle 3-1-5\n",
      "Angle 4-1-5\n",
      "Angle 1-2-6\n",
      "Angle 1-2-7\n",
      "Angle 1-2-8\n",
      "Angle 6-2-7\n",
      "Angle 6-2-8\n",
      "Angle 7-2-8\n",
      "Dihedral 3-1-2-6\n",
      "Dihedral 3-1-2-7\n",
      "Dihedral 3-1-2-8\n",
      "Dihedral 4-1-2-6\n",
      "Dihedral 4-1-2-7\n",
      "Dihedral 4-1-2-8\n",
      "Dihedral 5-1-2-6\n",
      "Dihedral 5-1-2-7\n",
      "Dihedral 5-1-2-8\n",
      "Translation-X 1-8\n",
      "Translation-Y 1-8\n",
      "Translation-Z 1-8\n",
      "Rotation-A 1-8\n",
      "Rotation-B 1-8\n",
      "Rotation-C 1-8\n",
      "<class 'geometric.internal.Distance'> : 7\n",
      "<class 'geometric.internal.Angle'> : 12\n",
      "<class 'geometric.internal.Dihedral'> : 9\n",
      "<class 'geometric.internal.TranslationX'> : 1\n",
      "<class 'geometric.internal.TranslationY'> : 1\n",
      "<class 'geometric.internal.TranslationZ'> : 1\n",
      "<class 'geometric.internal.RotationA'> : 1\n",
      "<class 'geometric.internal.RotationB'> : 1\n",
      "<class 'geometric.internal.RotationC'> : 1\n"
     ]
    },
    {
     "name": "stdout",
     "output_type": "stream",
     "text": [
      "-79.74997005188209\n",
      "\n",
      "Geometry optimization cycle 1\n",
      "Cartesian coordinates (Angstrom)\n",
      " Atom        New coordinates             dX        dY        dZ\n",
      "   C  -0.760533   0.007919  -0.015721    0.000000  0.000000  0.000000\n",
      "   C   0.760576  -0.007841   0.015817    0.000000  0.000000  0.000000\n",
      "   H  -1.165540  -0.103362   0.987711    0.000000  0.000000  0.000000\n",
      "   H  -1.125366   0.945420  -0.429900    0.000000  0.000000  0.000000\n",
      "   H  -1.138716  -0.806793  -0.629293    0.000000  0.000000  0.000000\n",
      "   H   1.139098   0.811020   0.623672    0.000000  0.000000  0.000000\n",
      "   H   1.165434   0.096153  -0.988452    0.000000  0.000000  0.000000\n",
      "   H   1.125047  -0.942515   0.436166    0.000000  0.000000 -0.000000\n",
      "converged SCF energy = -79.7499700518715\n",
      "--------------- SCF_Scanner gradients ---------------\n",
      "         x                y                z\n",
      "0 C    -0.0065606124     0.0000586839    -0.0000524513\n",
      "1 C     0.0066077809    -0.0001448441     0.0001109801\n",
      "2 H     0.0027622884     0.0001695717    -0.0020374746\n",
      "3 H     0.0026460136    -0.0018919435     0.0008683382\n",
      "4 H     0.0027496417     0.0016963715     0.0012923302\n",
      "5 H    -0.0027433468    -0.0016563654    -0.0013088417\n",
      "6 H    -0.0027653270    -0.0002335250     0.0020362240\n",
      "7 H    -0.0026967368     0.0020022002    -0.0009091348\n",
      "----------------------------------------------\n",
      "cycle 1: E = -79.7499700519  dE = -79.75  norm(grad) = 0.0125672\n"
     ]
    },
    {
     "name": "stderr",
     "output_type": "stream",
     "text": [
      "Step    0 : Gradient = 4.443e-03/6.610e-03 (rms/max) Energy = -79.7499700519\n",
      "Hessian Eigenvalues: 2.30000e-02 5.00000e-02 5.00000e-02 ... 3.50696e-01 3.50713e-01 3.50768e-01\n"
     ]
    },
    {
     "name": "stdout",
     "output_type": "stream",
     "text": [
      "\n",
      "Geometry optimization cycle 2\n",
      "Cartesian coordinates (Angstrom)\n",
      " Atom        New coordinates             dX        dY        dZ\n",
      "   C  -0.761943   0.007797  -0.015878   -0.001411 -0.000122 -0.000158\n",
      "   C   0.761962  -0.007762   0.015914    0.001385  0.000079  0.000097\n",
      "   H  -1.179762  -0.102857   0.987165   -0.014222  0.000505 -0.000546\n",
      "   H  -1.139485   0.945119  -0.430390   -0.014118 -0.000301 -0.000490\n",
      "   H  -1.153240  -0.806813  -0.629284   -0.014524 -0.000021  0.000009\n",
      "   H   1.153453   0.810586   0.624179    0.014354 -0.000433  0.000507\n",
      "   H   1.179688   0.096511  -0.987857    0.014254  0.000358  0.000595\n",
      "   H   1.139353  -0.942593   0.436153    0.014306 -0.000077 -0.000012\n",
      "converged SCF energy = -79.7501858875772\n",
      "--------------- SCF_Scanner gradients ---------------\n",
      "         x                y                z\n",
      "0 C    -0.0033518256     0.0000411415    -0.0000525531\n",
      "1 C     0.0033575275    -0.0000280704     0.0000680326\n",
      "2 H     0.0002960769    -0.0000199830    -0.0000832162\n",
      "3 H     0.0002900189    -0.0000757197     0.0000504326\n",
      "4 H     0.0002815096     0.0000747697     0.0000318858\n",
      "5 H    -0.0002832058    -0.0000506647    -0.0000702837\n",
      "6 H    -0.0002966813    -0.0000292320     0.0000751034\n",
      "7 H    -0.0002936667     0.0000878886    -0.0000194494\n",
      "----------------------------------------------\n",
      "cycle 2: E = -79.7501858876  dE = -0.000215836  norm(grad) = 0.00480285\n"
     ]
    },
    {
     "name": "stderr",
     "output_type": "stream",
     "text": [
      "Step    1 : Displace = \u001b[0m1.241e-02\u001b[0m/\u001b[0m1.457e-02\u001b[0m (rms/max) Trust = 1.000e-01 (=) Grad = \u001b[0m1.698e-03\u001b[0m/\u001b[0m3.358e-03\u001b[0m (rms/max) E (change) = -79.7501858876 (\u001b[0m-2.158e-04\u001b[0m) Quality = \u001b[0m1.065\u001b[0m\n",
      "Hessian Eigenvalues: 2.29884e-02 4.99998e-02 5.00000e-02 ... 3.50707e-01 3.50755e-01 3.87651e-01\n"
     ]
    },
    {
     "name": "stdout",
     "output_type": "stream",
     "text": [
      "\n",
      "Geometry optimization cycle 3\n",
      "Cartesian coordinates (Angstrom)\n",
      " Atom        New coordinates             dX        dY        dZ\n",
      "   C  -0.759697   0.007740  -0.015868    0.002247 -0.000056  0.000010\n",
      "   C   0.759709  -0.007738   0.015878   -0.002252  0.000025 -0.000036\n",
      "   H  -1.180089  -0.102479   0.986801   -0.000326  0.000378 -0.000364\n",
      "   H  -1.139802   0.944635  -0.430551   -0.000317 -0.000484 -0.000161\n",
      "   H  -1.153514  -0.806773  -0.628824   -0.000274  0.000041  0.000460\n",
      "   H   1.153666   0.810103   0.624285    0.000213 -0.000483  0.000106\n",
      "   H   1.180045   0.096873  -0.987418    0.000357  0.000362  0.000439\n",
      "   H   1.139731  -0.942388   0.435704    0.000378  0.000205 -0.000449\n",
      "converged SCF energy = -79.7502029855121\n",
      "--------------- SCF_Scanner gradients ---------------\n",
      "         x                y                z\n",
      "0 C    -0.0005130351     0.0000107023    -0.0000082254\n",
      "1 C     0.0005115327     0.0000003752     0.0000102700\n",
      "2 H     0.0000153119    -0.0000339921     0.0001251362\n",
      "3 H     0.0000214050     0.0001207483    -0.0000331064\n",
      "4 H     0.0000156303    -0.0000928167    -0.0000929480\n",
      "5 H    -0.0000160331     0.0001139940     0.0000585635\n",
      "6 H    -0.0000156070    -0.0000060386    -0.0001307373\n",
      "7 H    -0.0000194184    -0.0001128561     0.0000709967\n",
      "----------------------------------------------\n",
      "cycle 3: E = -79.7502029855  dE = -1.70979e-05  norm(grad) = 0.000792495\n"
     ]
    },
    {
     "name": "stderr",
     "output_type": "stream",
     "text": [
      "Step    2 : Displace = \u001b[0m1.238e-03\u001b[0m/\u001b[0m2.256e-03\u001b[0m (rms/max) Trust = 1.414e-01 (\u001b[92m+\u001b[0m) Grad = \u001b[0m2.802e-04\u001b[0m/\u001b[0m5.132e-04\u001b[0m (rms/max) E (change) = -79.7502029855 (\u001b[0m-1.710e-05\u001b[0m) Quality = \u001b[0m1.167\u001b[0m\n",
      "Hessian Eigenvalues: 2.28384e-02 4.99973e-02 5.00000e-02 ... 3.50707e-01 3.50755e-01 3.66452e-01\n"
     ]
    },
    {
     "name": "stdout",
     "output_type": "stream",
     "text": [
      "\n",
      "Geometry optimization cycle 4\n",
      "Cartesian coordinates (Angstrom)\n",
      " Atom        New coordinates             dX        dY        dZ\n",
      "   C  -0.759176   0.007708  -0.015881    0.000520 -0.000033 -0.000012\n",
      "   C   0.759194  -0.007717   0.015884   -0.000516  0.000020  0.000006\n",
      "   H  -1.180217  -0.102138   0.986421   -0.000128  0.000341 -0.000380\n",
      "   H  -1.139942   0.944122  -0.430724   -0.000140 -0.000513 -0.000173\n",
      "   H  -1.153596  -0.806698  -0.628356   -0.000082  0.000075  0.000468\n",
      "   H   1.153728   0.809611   0.624380    0.000062 -0.000492  0.000094\n",
      "   H   1.180194   0.097220  -0.986960    0.000149  0.000347  0.000458\n",
      "   H   1.139888  -0.942146   0.435248    0.000157  0.000242 -0.000456\n",
      "converged SCF energy = -79.7502038166626\n",
      "--------------- SCF_Scanner gradients ---------------\n",
      "         x                y                z\n",
      "0 C     0.0000160805     0.0000004764     0.0000004966\n",
      "1 C    -0.0000166804     0.0000002758    -0.0000005485\n",
      "2 H    -0.0000049655    -0.0000167275     0.0000036045\n",
      "3 H    -0.0000047385     0.0000117261     0.0000135141\n",
      "4 H    -0.0000049929     0.0000060664    -0.0000163498\n",
      "5 H     0.0000058041     0.0000139376    -0.0000111904\n",
      "6 H     0.0000046992    -0.0000171836    -0.0000074175\n",
      "7 H     0.0000046074     0.0000015319     0.0000178450\n",
      "----------------------------------------------\n",
      "cycle 4: E = -79.7502038167  dE = -8.3115e-07  norm(grad) = 5.09345e-05\n"
     ]
    },
    {
     "name": "stderr",
     "output_type": "stream",
     "text": [
      "Step    3 : Displace = \u001b[0m5.288e-04\u001b[0m/\u001b[0m5.373e-04\u001b[0m (rms/max) Trust = 2.000e-01 (\u001b[92m+\u001b[0m) Grad = \u001b[92m1.801e-05\u001b[0m/\u001b[0m1.930e-05\u001b[0m (rms/max) E (change) = -79.7502038167 (\u001b[0m-8.312e-07\u001b[0m) Quality = \u001b[0m0.998\u001b[0m\n",
      "Hessian Eigenvalues: 2.09741e-02 4.99651e-02 5.00000e-02 ... 3.50707e-01 3.50755e-01 3.62227e-01\n"
     ]
    },
    {
     "name": "stdout",
     "output_type": "stream",
     "text": [
      "\n",
      "Geometry optimization cycle 5\n",
      "Cartesian coordinates (Angstrom)\n",
      " Atom        New coordinates             dX        dY        dZ\n",
      "   C  -0.759159   0.007687  -0.015897    0.000017 -0.000021 -0.000016\n",
      "   C   0.759181  -0.007699   0.015901   -0.000012  0.000018  0.000016\n",
      "   H  -1.180215  -0.101922   0.986410    0.000001  0.000215 -0.000011\n",
      "   H  -1.139936   0.943980  -0.430968    0.000005 -0.000142 -0.000244\n",
      "   H  -1.153551  -0.806864  -0.628173    0.000046 -0.000166  0.000183\n",
      "   H   1.153674   0.809469   0.624615   -0.000054 -0.000142  0.000235\n",
      "   H   1.180202   0.097517  -0.986891    0.000008  0.000297  0.000069\n",
      "   H   1.139894  -0.942214   0.435020    0.000005 -0.000068 -0.000228\n",
      "converged SCF energy = -79.7502038625066\n",
      "--------------- SCF_Scanner gradients ---------------\n",
      "         x                y                z\n",
      "0 C     0.0000219644    -0.0000000156     0.0000006174\n",
      "1 C    -0.0000221309    -0.0000001057    -0.0000006575\n",
      "2 H    -0.0000014959    -0.0000140217    -0.0000041799\n",
      "3 H    -0.0000017600     0.0000038586     0.0000150958\n",
      "4 H    -0.0000017601     0.0000115695    -0.0000099347\n",
      "5 H     0.0000024804     0.0000064800    -0.0000145344\n",
      "6 H     0.0000012383    -0.0000162038     0.0000008271\n",
      "7 H     0.0000012971     0.0000085309     0.0000127248\n",
      "----------------------------------------------\n",
      "cycle 5: E = -79.7502038625  dE = -4.5844e-08  norm(grad) = 4.93094e-05\n"
     ]
    },
    {
     "name": "stderr",
     "output_type": "stream",
     "text": [
      "Step    4 : Displace = \u001b[0m2.248e-04\u001b[0m/\u001b[0m2.597e-04\u001b[0m (rms/max) Trust = 2.828e-01 (\u001b[92m+\u001b[0m) Grad = \u001b[92m1.743e-05\u001b[0m/\u001b[0m2.214e-05\u001b[0m (rms/max) E (change) = -79.7502038625 (\u001b[0m-4.584e-08\u001b[0m) Quality = \u001b[0m1.793\u001b[0m\n",
      "Hessian Eigenvalues: 2.50954e-03 4.97815e-02 5.00000e-02 ... 3.50707e-01 3.50756e-01 4.50114e-01\n"
     ]
    },
    {
     "name": "stdout",
     "output_type": "stream",
     "text": [
      "\n",
      "Geometry optimization cycle 6\n",
      "Cartesian coordinates (Angstrom)\n",
      " Atom        New coordinates             dX        dY        dZ\n",
      "   C  -0.759126   0.007516  -0.016029    0.000034 -0.000171 -0.000132\n",
      "   C   0.759182  -0.007548   0.016039    0.000001  0.000151  0.000139\n",
      "   H  -1.180301  -0.100321   0.986393   -0.000086  0.001602 -0.000018\n",
      "   H  -1.139981   0.942963  -0.432872   -0.000045 -0.001018 -0.001904\n",
      "   H  -1.153259  -0.808211  -0.626858    0.000292 -0.001347  0.001316\n",
      "   H   1.153321   0.808469   0.626480   -0.000353 -0.001000  0.001865\n",
      "   H   1.180356   0.099811  -0.986433    0.000154  0.002295  0.000458\n",
      "   H   1.140025  -0.942797   0.433328    0.000132 -0.000583 -0.001691\n",
      "converged SCF energy = -79.7502040399525\n",
      "--------------- SCF_Scanner gradients ---------------\n",
      "         x                y                z\n",
      "0 C     0.0000199099    -0.0000013011     0.0000004658\n",
      "1 C    -0.0000184418    -0.0000014973    -0.0000006588\n",
      "2 H     0.0000068352     0.0000011581    -0.0000172071\n",
      "3 H     0.0000055664    -0.0000144405     0.0000086321\n",
      "4 H     0.0000058965     0.0000158110     0.0000102091\n",
      "5 H    -0.0000059033    -0.0000131253    -0.0000124765\n",
      "6 H    -0.0000070571    -0.0000041537     0.0000171484\n",
      "7 H    -0.0000068239     0.0000175590    -0.0000061175\n",
      "----------------------------------------------\n",
      "cycle 6: E = -79.75020404  dE = -1.77446e-07  norm(grad) = 5.38931e-05\n"
     ]
    },
    {
     "name": "stderr",
     "output_type": "stream",
     "text": [
      "Step    5 : Displace = \u001b[0m1.705e-03\u001b[0m/\u001b[0m1.970e-03\u001b[0m (rms/max) Trust = 3.000e-01 (\u001b[92m+\u001b[0m) Grad = \u001b[92m1.905e-05\u001b[0m/\u001b[0m1.996e-05\u001b[0m (rms/max) E (change) = -79.7502040400 (\u001b[0m-1.774e-07\u001b[0m) Quality = \u001b[0m1.038\u001b[0m\n",
      "Hessian Eigenvalues: 2.24404e-03 4.97722e-02 5.00000e-02 ... 3.50707e-01 3.50756e-01 4.56609e-01\n"
     ]
    },
    {
     "name": "stdout",
     "output_type": "stream",
     "text": [
      "\n",
      "Geometry optimization cycle 7\n",
      "Cartesian coordinates (Angstrom)\n",
      " Atom        New coordinates             dX        dY        dZ\n",
      "   C  -0.759150   0.007478  -0.016060   -0.000025 -0.000038 -0.000031\n",
      "   C   0.759210  -0.007511   0.016072    0.000027  0.000037  0.000033\n",
      "   H  -1.180355  -0.100157   0.986392   -0.000054  0.000164 -0.000001\n",
      "   H  -1.140023   0.942834  -0.433138   -0.000042 -0.000128 -0.000265\n",
      "   H  -1.153216  -0.808423  -0.626736    0.000043 -0.000212  0.000122\n",
      "   H   1.153272   0.808381   0.626763   -0.000049 -0.000088  0.000283\n",
      "   H   1.180415   0.100143  -0.986377    0.000059  0.000331  0.000057\n",
      "   H   1.140081  -0.942873   0.433136    0.000055 -0.000076 -0.000193\n",
      "converged SCF energy = -79.7502040462625\n",
      "--------------- SCF_Scanner gradients ---------------\n",
      "         x                y                z\n",
      "0 C     0.0000040677    -0.0000001330     0.0000002202\n",
      "1 C    -0.0000035163    -0.0000006372    -0.0000003317\n",
      "2 H     0.0000022857     0.0000014413    -0.0000045269\n",
      "3 H     0.0000018945    -0.0000041555     0.0000020307\n",
      "4 H     0.0000014417     0.0000042564     0.0000037183\n",
      "5 H    -0.0000015491    -0.0000041774    -0.0000035472\n",
      "6 H    -0.0000023550    -0.0000011120     0.0000046450\n",
      "7 H    -0.0000022684     0.0000045170    -0.0000022083\n",
      "----------------------------------------------\n",
      "cycle 7: E = -79.7502040463  dE = -6.31002e-09  norm(grad) = 1.44051e-05\n"
     ]
    },
    {
     "name": "stderr",
     "output_type": "stream",
     "text": [
      "Step    6 : Displace = \u001b[0m2.191e-04\u001b[0m/\u001b[0m2.530e-04\u001b[0m (rms/max) Trust = 3.000e-01 (=) Grad = \u001b[92m5.093e-06\u001b[0m/\u001b[92m5.833e-06\u001b[0m (rms/max) E (change) = -79.7502040463 (\u001b[92m-6.310e-09\u001b[0m) Quality = \u001b[0m0.930\u001b[0m\n",
      "Hessian Eigenvalues: 2.34392e-03 4.75802e-02 4.99996e-02 ... 3.50708e-01 3.50753e-01 3.69871e-01\n"
     ]
    },
    {
     "name": "stdout",
     "output_type": "stream",
     "text": [
      "\n",
      "Geometry optimization cycle 8\n",
      "Cartesian coordinates (Angstrom)\n",
      " Atom        New coordinates             dX        dY        dZ\n",
      "   C  -0.759160   0.007453  -0.016081   -0.000009 -0.000025 -0.000021\n",
      "   C   0.759219  -0.007485   0.016094    0.000009  0.000025  0.000021\n",
      "   H  -1.180388  -0.100191   0.986369   -0.000033 -0.000034 -0.000023\n",
      "   H  -1.140050   0.942802  -0.433179   -0.000027 -0.000032 -0.000041\n",
      "   H  -1.153180  -0.808472  -0.626768    0.000035 -0.000049 -0.000032\n",
      "   H   1.153238   0.808404   0.626830   -0.000035  0.000023  0.000067\n",
      "   H   1.180448   0.100219  -0.986349    0.000033  0.000076  0.000028\n",
      "   H   1.140110  -0.942859   0.433137    0.000029  0.000015  0.000001\n",
      "converged SCF energy = -79.7502040455867\n",
      "--------------- SCF_Scanner gradients ---------------\n",
      "         x                y                z\n",
      "0 C     0.0000004113     0.0000002260     0.0000001885\n",
      "1 C    -0.0000003217    -0.0000003038    -0.0000002410\n",
      "2 H     0.0000002856     0.0000009967     0.0000001046\n",
      "3 H     0.0000002288    -0.0000000946    -0.0000000193\n",
      "4 H    -0.0000004592     0.0000003359     0.0000009512\n",
      "5 H     0.0000004223    -0.0000005799    -0.0000006193\n",
      "6 H    -0.0000003078    -0.0000005389    -0.0000000225\n",
      "7 H    -0.0000002569    -0.0000000426    -0.0000003417\n",
      "----------------------------------------------\n",
      "cycle 8: E = -79.7502040456  dE = 6.75868e-10  norm(grad) = 2.08667e-06\n"
     ]
    },
    {
     "name": "stderr",
     "output_type": "stream",
     "text": [
      "Step    7 : Displace = \u001b[0m2.217e-05\u001b[0m/\u001b[0m2.543e-05\u001b[0m (rms/max) Trust = 3.000e-01 (=) Grad = \u001b[92m7.377e-07\u001b[0m/\u001b[92m1.108e-06\u001b[0m (rms/max) E (change) = -79.7502040456 (\u001b[91m+6.759e-10\u001b[0m) Quality = \u001b[91m-1.006\u001b[0m\n",
      "Hessian Eigenvalues: 2.34392e-03 4.75802e-02 4.99996e-02 ... 3.50708e-01 3.50753e-01 3.69871e-01\n"
     ]
    },
    {
     "name": "stdout",
     "output_type": "stream",
     "text": [
      "\n",
      "Geometry optimization cycle 9\n",
      "Cartesian coordinates (Angstrom)\n",
      " Atom        New coordinates             dX        dY        dZ\n",
      "   C  -0.759159   0.007460  -0.016075    0.000001  0.000007  0.000006\n",
      "   C   0.759218  -0.007493   0.016088   -0.000001 -0.000007 -0.000006\n",
      "   H  -1.180381  -0.100194   0.986376    0.000007 -0.000003  0.000007\n",
      "   H  -1.140045   0.942819  -0.433156    0.000006  0.000016  0.000023\n",
      "   H  -1.153193  -0.808452  -0.626770   -0.000012  0.000021 -0.000002\n",
      "   H   1.153250   0.808407   0.626801    0.000013  0.000003 -0.000029\n",
      "   H   1.180440   0.100184  -0.986361   -0.000008 -0.000035 -0.000011\n",
      "   H   1.140104  -0.942859   0.433149   -0.000006 -0.000001  0.000012\n",
      "converged SCF energy = -79.7502040457214\n",
      "--------------- SCF_Scanner gradients ---------------\n",
      "         x                y                z\n",
      "0 C    -0.0000010099     0.0000002293     0.0000001448\n",
      "1 C     0.0000010505    -0.0000003335    -0.0000002135\n",
      "2 H     0.0000001612     0.0000007903     0.0000008968\n",
      "3 H     0.0000001258     0.0000007128    -0.0000002067\n",
      "4 H    -0.0000005676    -0.0000002378     0.0000003607\n",
      "5 H     0.0000005483     0.0000001801    -0.0000002405\n",
      "6 H    -0.0000001576    -0.0000005766    -0.0000008773\n",
      "7 H    -0.0000001498    -0.0000007652     0.0000001359\n",
      "----------------------------------------------\n",
      "cycle 9: E = -79.7502040457  dE = -1.34747e-10  norm(grad) = 2.6511e-06\n"
     ]
    },
    {
     "name": "stderr",
     "output_type": "stream",
     "text": [
      "Step    8 : Displace = \u001b[92m1.142e-05\u001b[0m/\u001b[92m1.268e-05\u001b[0m (rms/max) Trust = 1.200e-05 (\u001b[1;91mx\u001b[0m) Grad = \u001b[92m9.373e-07\u001b[0m/\u001b[92m1.206e-06\u001b[0m (rms/max) E (change) = -79.7502040457 (\u001b[91m+5.411e-10\u001b[0m) Quality = \u001b[91m-0.844\u001b[0m\n",
      "Converged! =D\n",
      "\n",
      "    #==========================================================================#\n",
      "    #| If this code has benefited your research, please support us by citing: |#\n",
      "    #|                                                                        |#\n",
      "    #| Wang, L.-P.; Song, C.C. (2016) \"Geometry optimization made simple with |#\n",
      "    #| translation and rotation coordinates\", J. Chem, Phys. 144, 214108.     |#\n",
      "    #| http://dx.doi.org/10.1063/1.4952956                                    |#\n",
      "    #==========================================================================#\n",
      "    \n",
      "Time elapsed since start of run_optimizer: 24.703 seconds\n"
     ]
    },
    {
     "name": "stdout",
     "output_type": "stream",
     "text": [
      "converged SCF energy = -79.7502040460286\n",
      "-79.75020404602864\n"
     ]
    }
   ],
   "source": [
    "import ase.io as aio\n",
    "from ase.units import Bohr\n",
    "import sys\n",
    "sys.path.insert(0, '/home/sahre/git_repositories/APDFT/prototyping/atomic_energies/')\n",
    "import utils_qm as uqm\n",
    "\n",
    "from pyscf import gto, dft, scf\n",
    "\n",
    "# geometric\n",
    "from pyscf.geomopt.geometric_solver import optimize\n",
    "\n",
    "# comps = ['CC','CN','CO','CF','NN','NO','NF','OO', 'OF', 'FF']\n",
    "bond_type = 'single'\n",
    "system = 'diatomics'\n",
    "spin = 0\n",
    "c = 'CC'\n",
    "atoms = aio.read(f'/data/sahre/projects/atomic-energies/data/bonding_trends/pbe0_data/row_2/{system}_{bond_type}/{c}.xyz')\n",
    "\n",
    "pyscf_atoms = uqm.ase2pyscf(atoms)\n",
    "basis = 'def2-tzvp'\n",
    "mol = gto.Mole()\n",
    "mol.atom = pyscf_atoms\n",
    "mol.basis = basis\n",
    "mol.spin = spin\n",
    "mol.build()\n",
    "\n",
    "if spin != 0:\n",
    "    mf = dft.ROKS(mol)\n",
    "else:\n",
    "    mf = dft.RKS(mol)\n",
    "mf.xc = 'pbe0'\n",
    "mf.kernel()\n",
    "print(mf.e_tot)\n",
    "\n",
    "conv_params = { # These are the default settings\n",
    "    'convergence_energy': 1e-8,  # Eh\n",
    "    'convergence_grms': 3e-5,    # Eh/Bohr\n",
    "    'convergence_gmax': 1e-5,  # Eh/Bohr\n",
    "    'convergence_drms': 1.2e-5,  # Angstrom\n",
    "    'convergence_dmax': 1.8e-5,  # Angstrom\n",
    "}\n",
    "\n",
    "mol_eq = optimize(mf, maxsteps=100, **conv_params)\n",
    "\n",
    "new_pos = mol_eq.atom_coords()*Bohr\n",
    "atoms.set_positions(new_pos)\n",
    "\n",
    "#aio.write(f'/data/sahre/projects/atomic-energies/data/bonding_trends/pbe0_data/{system}_{bond_type}/{c}_opt.xyz', atoms)\n",
    "\n",
    "pyscf_atoms = uqm.ase2pyscf(atoms)\n",
    "mol = gto.Mole()\n",
    "mol.atom = pyscf_atoms\n",
    "mol.basis = basis\n",
    "mol.spin = spin\n",
    "mol.build()\n",
    "\n",
    "if spin != 0:\n",
    "    mf = dft.ROKS(mol)\n",
    "else:\n",
    "    mf = dft.RKS(mol)\n",
    "mf.xc = 'pbe0'\n",
    "mf.kernel()\n",
    "print(mf.e_tot)\n",
    "\n",
    "#with open(f'/data/sahre/projects/atomic-energies/data/bonding_trends/pbe0_data/{system}_{bond_type}/{c}_energy', 'w') as f:\n",
    "    #f.write(str(mf.e_tot)+'\\n')"
   ]
  },
  {
   "cell_type": "code",
   "execution_count": 1,
   "id": "47b91bad-6b09-4026-986a-a44efbd4da29",
   "metadata": {
    "collapsed": true,
    "jupyter": {
     "outputs_hidden": true
    },
    "tags": []
   },
   "outputs": [
    {
     "name": "stderr",
     "output_type": "stream",
     "text": [
      "/home/sahre/opt/miniconda3/envs/qm-tools/lib/python3.9/site-packages/pyscf/lib/misc.py:46: H5pyDeprecationWarning: Using default_file_mode other than 'r' is deprecated. Pass the mode to h5py.File() instead.\n",
      "  h5py.get_config().default_file_mode = 'a'\n"
     ]
    },
    {
     "name": "stdout",
     "output_type": "stream",
     "text": [
      "converged SCF energy = -107.347447918268\n"
     ]
    },
    {
     "name": "stderr",
     "output_type": "stream",
     "text": [
      "\n",
      "                                        \u001b[91m())))))))))))))))/\u001b[0m                     \n",
      "                                    \u001b[91m())))))))))))))))))))))))),\u001b[0m                \n",
      "                                \u001b[91m*)))))))))))))))))))))))))))))))))\u001b[0m             \n",
      "                        \u001b[94m#,\u001b[0m    \u001b[91m()))))))))/\u001b[0m                \u001b[91m.)))))))))),\u001b[0m          \n",
      "                      \u001b[94m#%%%%,\u001b[0m  \u001b[91m())))))\u001b[0m                        \u001b[91m.))))))))*\u001b[0m        \n",
      "                      \u001b[94m*%%%%%%,\u001b[0m  \u001b[91m))\u001b[0m              \u001b[93m..\u001b[0m              \u001b[91m,))))))).\u001b[0m      \n",
      "                        \u001b[94m*%%%%%%,\u001b[0m         \u001b[93m***************/.\u001b[0m        \u001b[91m.)))))))\u001b[0m     \n",
      "                \u001b[94m#%%/\u001b[0m      \u001b[94m(%%%%%%,\u001b[0m    \u001b[93m/*********************.\u001b[0m       \u001b[91m)))))))\u001b[0m    \n",
      "              \u001b[94m.%%%%%%#\u001b[0m      \u001b[94m*%%%%%%,\u001b[0m  \u001b[93m*******/,\u001b[0m     \u001b[93m**********,\u001b[0m      \u001b[91m.))))))\u001b[0m   \n",
      "                \u001b[94m.%%%%%%/\u001b[0m      \u001b[94m*%%%%%%,\u001b[0m  \u001b[93m**\u001b[0m              \u001b[93m********\u001b[0m      \u001b[91m.))))))\u001b[0m  \n",
      "          \u001b[94m##\u001b[0m      \u001b[94m.%%%%%%/\u001b[0m      \u001b[94m(%%%%%%,\u001b[0m                  \u001b[93m,******\u001b[0m      \u001b[91m/)))))\u001b[0m  \n",
      "        \u001b[94m%%%%%%\u001b[0m      \u001b[94m.%%%%%%#\u001b[0m      \u001b[94m*%%%%%%,\u001b[0m    \u001b[92m,/////.\u001b[0m       \u001b[93m******\u001b[0m      \u001b[91m))))))\u001b[0m \n",
      "      \u001b[94m#%\u001b[0m      \u001b[94m%%\u001b[0m      \u001b[94m.%%%%%%/\u001b[0m      \u001b[94m*%%%%%%,\u001b[0m  \u001b[92m////////,\u001b[0m      \u001b[93m*****/\u001b[0m     \u001b[91m,)))))\u001b[0m \n",
      "    \u001b[94m#%%\u001b[0m  \u001b[94m%%%\u001b[0m  \u001b[94m%%%#\u001b[0m      \u001b[94m.%%%%%%/\u001b[0m      \u001b[94m(%%%%%%,\u001b[0m  \u001b[92m///////.\u001b[0m     \u001b[93m/*****\u001b[0m      \u001b[91m))))).\u001b[0m\n",
      "  \u001b[94m#%%%%.\u001b[0m      \u001b[94m%%%%%#\u001b[0m      \u001b[94m/%%%%%%*\u001b[0m      \u001b[94m#%%%%%%\u001b[0m   \u001b[92m/////)\u001b[0m     \u001b[93m******\u001b[0m      \u001b[91m))))),\u001b[0m\n",
      "    \u001b[94m#%%%%##%\u001b[0m  \u001b[94m%%%#\u001b[0m      \u001b[94m.%%%%%%/\u001b[0m      \u001b[94m(%%%%%%,\u001b[0m  \u001b[92m///////.\u001b[0m     \u001b[93m/*****\u001b[0m      \u001b[91m))))).\u001b[0m\n",
      "      \u001b[94m##\u001b[0m     \u001b[94m%%%\u001b[0m      \u001b[94m.%%%%%%/\u001b[0m      \u001b[94m*%%%%%%,\u001b[0m  \u001b[92m////////.\u001b[0m      \u001b[93m*****/\u001b[0m     \u001b[91m,)))))\u001b[0m \n",
      "        \u001b[94m#%%%%#\u001b[0m      \u001b[94m/%%%%%%/\u001b[0m      \u001b[94m(%%%%%%\u001b[0m      \u001b[92m/)/)//\u001b[0m       \u001b[93m******\u001b[0m      \u001b[91m))))))\u001b[0m \n",
      "          \u001b[94m##\u001b[0m      \u001b[94m.%%%%%%/\u001b[0m      \u001b[94m(%%%%%%,\u001b[0m                  \u001b[93m*******\u001b[0m      \u001b[91m))))))\u001b[0m  \n",
      "                \u001b[94m.%%%%%%/\u001b[0m      \u001b[94m*%%%%%%,\u001b[0m  \u001b[93m**.\u001b[0m             \u001b[93m/*******\u001b[0m      \u001b[91m.))))))\u001b[0m  \n",
      "              \u001b[94m*%%%%%%/\u001b[0m      \u001b[94m(%%%%%%\u001b[0m   \u001b[93m********/*..,*/*********\u001b[0m       \u001b[91m*))))))\u001b[0m   \n",
      "                \u001b[94m#%%/\u001b[0m      \u001b[94m(%%%%%%,\u001b[0m    \u001b[93m*********************/\u001b[0m        \u001b[91m)))))))\u001b[0m    \n",
      "                        \u001b[94m*%%%%%%,\u001b[0m         \u001b[93m,**************/\u001b[0m         \u001b[91m,))))))/\u001b[0m     \n",
      "                      \u001b[94m(%%%%%%\u001b[0m   \u001b[91m()\u001b[0m                              \u001b[91m))))))))\u001b[0m       \n",
      "                      \u001b[94m#%%%%,\u001b[0m  \u001b[91m())))))\u001b[0m                        \u001b[91m,)))))))),\u001b[0m        \n",
      "                        \u001b[94m#,\u001b[0m    \u001b[91m())))))))))\u001b[0m                \u001b[91m,)))))))))).\u001b[0m          \n",
      "                                 \u001b[91m()))))))))))))))))))))))))))))))/\u001b[0m             \n",
      "                                    \u001b[91m())))))))))))))))))))))))).\u001b[0m                \n",
      "                                         \u001b[91m())))))))))))))),\u001b[0m                     \n",
      "\n",
      "-=# \u001b[1;94m geomeTRIC started. Version: 0.9.7.2 \u001b[0m #=-\n",
      "geometric-optimize called with the following command line:\n",
      "/home/sahre/opt/miniconda3/envs/qm-tools/lib/python3.9/site-packages/ipykernel_launcher.py -f /home/sahre/.local/share/jupyter/runtime/kernel-94f99e49-ed30-41eb-9def-1fabb331847a.json\n",
      "6 internal coordinates being used (instead of 6 Cartesians)\n",
      "Internal coordinate system (atoms numbered from 1):\n",
      "Distance 1-2\n",
      "Translation-X 1-2\n",
      "Translation-Y 1-2\n",
      "Translation-Z 1-2\n",
      "Rotation-A 1-2\n",
      "Rotation-B 1-2\n",
      "Rotation-C 1-2\n",
      "<class 'geometric.internal.Distance'> : 1\n",
      "<class 'geometric.internal.TranslationX'> : 1\n",
      "<class 'geometric.internal.TranslationY'> : 1\n",
      "<class 'geometric.internal.TranslationZ'> : 1\n",
      "<class 'geometric.internal.RotationA'> : 1\n",
      "<class 'geometric.internal.RotationB'> : 1\n",
      "<class 'geometric.internal.RotationC'> : 1\n"
     ]
    },
    {
     "name": "stdout",
     "output_type": "stream",
     "text": [
      "-107.3474479182683\n",
      "\n",
      "Geometry optimization cycle 1\n",
      "Cartesian coordinates (Angstrom)\n",
      " Atom        New coordinates             dX        dY        dZ\n",
      "  Li   0.760859   0.000000   0.000000    0.000000  0.000000  0.000000\n",
      "   F  -0.760859   0.000000   0.000000    0.000000  0.000000  0.000000\n",
      "converged SCF energy = -107.347447918261\n",
      "--------------- SCF_Scanner gradients ---------------\n",
      "         x                y                z\n",
      "0 Li    -0.0130726163    -0.0000000000    -0.0000000000\n",
      "1 F     0.0135503647     0.0000000000     0.0000000000\n",
      "----------------------------------------------\n",
      "cycle 1: E = -107.347447918  dE = -107.347  norm(grad) = 0.0188283\n"
     ]
    },
    {
     "name": "stderr",
     "output_type": "stream",
     "text": [
      "Step    0 : Gradient = 1.331e-02/1.355e-02 (rms/max) Energy = -107.3474479183\n",
      "Hessian Eigenvalues: 5.00000e-02 5.00000e-02 5.00000e-02 ... 5.00000e-02 5.00000e-02 3.02018e-01\n"
     ]
    },
    {
     "name": "stdout",
     "output_type": "stream",
     "text": [
      "\n",
      "Geometry optimization cycle 2\n",
      "Cartesian coordinates (Angstrom)\n",
      " Atom        New coordinates             dX        dY        dZ\n",
      "  Li   0.767464   0.000000   0.000000    0.006606  0.000000  0.000000\n",
      "   F  -0.777577  -0.000000  -0.000000   -0.016718 -0.000000 -0.000000\n",
      "\n",
      "WARN: Large deviations found between the input molecule and the molecule from chkfile\n",
      "Initial guess density matrix may have large error.\n",
      "\n",
      "converged SCF energy = -107.347848191433\n",
      "--------------- SCF_Scanner gradients ---------------\n",
      "         x                y                z\n",
      "0 Li    -0.0047057859     0.0000000000     0.0000000000\n",
      "1 F     0.0049379772     0.0000000000     0.0000000000\n",
      "----------------------------------------------\n",
      "cycle 2: E = -107.347848191  dE = -0.000400273  norm(grad) = 0.00682115\n"
     ]
    },
    {
     "name": "stderr",
     "output_type": "stream",
     "text": [
      "Step    1 : Displace = \u001b[0m1.166e-02\u001b[0m/\u001b[0m1.166e-02\u001b[0m (rms/max) Trust = 1.000e-01 (=) Grad = \u001b[0m4.823e-03\u001b[0m/\u001b[0m4.938e-03\u001b[0m (rms/max) E (change) = -107.3478481914 (\u001b[0m-4.003e-04\u001b[0m) Quality = \u001b[0m1.354\u001b[0m\n",
      "Hessian Eigenvalues: 4.95852e-02 5.00000e-02 5.00000e-02 ... 5.00000e-02 5.00000e-02 1.93937e-01\n"
     ]
    },
    {
     "name": "stdout",
     "output_type": "stream",
     "text": [
      "\n",
      "Geometry optimization cycle 3\n",
      "Cartesian coordinates (Angstrom)\n",
      " Atom        New coordinates             dX        dY        dZ\n",
      "  Li   0.770241  -0.000000   0.000000    0.002777 -0.000000 -0.000000\n",
      "   F  -0.788074  -0.000000  -0.000000   -0.010497 -0.000000 -0.000000\n",
      "\n",
      "WARN: Large deviations found between the input molecule and the molecule from chkfile\n",
      "Initial guess density matrix may have large error.\n",
      "\n",
      "converged SCF energy = -107.347915863498\n",
      "--------------- SCF_Scanner gradients ---------------\n",
      "         x                y                z\n",
      "0 Li    -0.0003715228    -0.0000000000    -0.0000000000\n",
      "1 F     0.0004942741     0.0000000000     0.0000000000\n",
      "----------------------------------------------\n",
      "cycle 3: E = -107.347915863  dE = -6.76721e-05  norm(grad) = 0.000618333\n"
     ]
    },
    {
     "name": "stderr",
     "output_type": "stream",
     "text": [
      "Step    2 : Displace = \u001b[0m6.637e-03\u001b[0m/\u001b[0m6.637e-03\u001b[0m (rms/max) Trust = 1.414e-01 (\u001b[92m+\u001b[0m) Grad = \u001b[0m4.372e-04\u001b[0m/\u001b[0m4.943e-04\u001b[0m (rms/max) E (change) = -107.3479158635 (\u001b[0m-6.767e-05\u001b[0m) Quality = \u001b[0m1.104\u001b[0m\n",
      "Hessian Eigenvalues: 4.86661e-02 5.00000e-02 5.00000e-02 ... 5.00000e-02 5.00000e-02 1.78662e-01\n"
     ]
    },
    {
     "name": "stdout",
     "output_type": "stream",
     "text": [
      "\n",
      "Geometry optimization cycle 4\n",
      "Cartesian coordinates (Angstrom)\n",
      " Atom        New coordinates             dX        dY        dZ\n",
      "  Li   0.769336  -0.000000   0.000000   -0.000904  0.000000  0.000000\n",
      "   F  -0.790355  -0.000000  -0.000000   -0.002282 -0.000000 -0.000000\n",
      "converged SCF energy = -107.347916650253\n",
      "--------------- SCF_Scanner gradients ---------------\n",
      "         x                y                z\n",
      "0 Li     0.0000615580    -0.0000000000     0.0000000000\n",
      "1 F     0.0000512530     0.0000000000    -0.0000000000\n",
      "----------------------------------------------\n",
      "cycle 4: E = -107.34791665  dE = -7.86755e-07  norm(grad) = 8.01015e-05\n"
     ]
    },
    {
     "name": "stderr",
     "output_type": "stream",
     "text": [
      "Step    3 : Displace = \u001b[0m6.887e-04\u001b[0m/\u001b[0m6.887e-04\u001b[0m (rms/max) Trust = 2.000e-01 (\u001b[92m+\u001b[0m) Grad = \u001b[0m5.664e-05\u001b[0m/\u001b[0m6.156e-05\u001b[0m (rms/max) E (change) = -107.3479166503 (\u001b[0m-7.868e-07\u001b[0m) Quality = \u001b[0m1.052\u001b[0m\n",
      "Hessian Eigenvalues: 3.00873e-02 5.00000e-02 5.00000e-02 ... 5.00000e-02 5.00000e-02 2.25996e-01\n"
     ]
    },
    {
     "name": "stdout",
     "output_type": "stream",
     "text": [
      "\n",
      "Geometry optimization cycle 5\n",
      "Cartesian coordinates (Angstrom)\n",
      " Atom        New coordinates             dX        dY        dZ\n",
      "  Li   0.767627  -0.000000   0.000000   -0.001709  0.000000 -0.000000\n",
      "   F  -0.792416  -0.000000  -0.000000   -0.002061 -0.000000  0.000000\n",
      "converged SCF energy = -107.347916668024\n",
      "--------------- SCF_Scanner gradients ---------------\n",
      "         x                y                z\n",
      "0 Li     0.0001715161     0.0000000000    -0.0000000000\n",
      "1 F    -0.0000611959     0.0000000000     0.0000000000\n",
      "----------------------------------------------\n",
      "cycle 5: E = -107.347916668  dE = -1.7771e-08  norm(grad) = 0.000182106\n"
     ]
    },
    {
     "name": "stderr",
     "output_type": "stream",
     "text": [
      "Step    4 : Displace = \u001b[0m1.756e-04\u001b[0m/\u001b[0m1.756e-04\u001b[0m (rms/max) Trust = 2.828e-01 (\u001b[92m+\u001b[0m) Grad = \u001b[0m1.288e-04\u001b[0m/\u001b[0m1.715e-04\u001b[0m (rms/max) E (change) = -107.3479166680 (\u001b[0m-1.777e-08\u001b[0m) Quality = \u001b[0m0.089\u001b[0m\n",
      "Hessian Eigenvalues: 3.81443e-03 5.00000e-02 5.00000e-02 ... 5.00000e-02 5.00000e-02 3.69903e-01\n"
     ]
    },
    {
     "name": "stdout",
     "output_type": "stream",
     "text": [
      "\n",
      "Geometry optimization cycle 6\n",
      "Cartesian coordinates (Angstrom)\n",
      " Atom        New coordinates             dX        dY        dZ\n",
      "  Li   0.754693  -0.000000   0.000000   -0.012934 -0.000000  0.000000\n",
      "   F  -0.806550  -0.000000  -0.000000   -0.014134 -0.000000 -0.000000\n",
      "converged SCF energy = -107.347916171467\n",
      "--------------- SCF_Scanner gradients ---------------\n",
      "         x                y                z\n",
      "0 Li     0.0005454142    -0.0000000000     0.0000000000\n",
      "1 F    -0.0004434606     0.0000000000     0.0000000000\n",
      "----------------------------------------------\n",
      "cycle 6: E = -107.347916171  dE = 4.96557e-07  norm(grad) = 0.000702947\n"
     ]
    },
    {
     "name": "stderr",
     "output_type": "stream",
     "text": [
      "Step    5 : Displace = \u001b[0m5.997e-04\u001b[0m/\u001b[0m5.997e-04\u001b[0m (rms/max) Trust = 1.414e-01 (\u001b[91m-\u001b[0m) Grad = \u001b[0m4.971e-04\u001b[0m/\u001b[0m5.454e-04\u001b[0m (rms/max) E (change) = -107.3479161715 (\u001b[91m+4.966e-07\u001b[0m) Quality = \u001b[91m-0.388\u001b[0m\n",
      "Hessian Eigenvalues: 1.19110e-03 5.00000e-02 5.00000e-02 ... 5.00000e-02 5.00000e-02 4.96012e-01\n"
     ]
    },
    {
     "name": "stdout",
     "output_type": "stream",
     "text": [
      "\n",
      "Geometry optimization cycle 7\n",
      "Cartesian coordinates (Angstrom)\n",
      " Atom        New coordinates             dX        dY        dZ\n",
      "  Li   0.723091   0.000000   0.000000   -0.031601  0.000000  0.000000\n",
      "   F  -0.839518  -0.000000  -0.000000   -0.032968 -0.000000 -0.000000\n",
      "converged SCF energy = -107.347914560495\n",
      "--------------- SCF_Scanner gradients ---------------\n",
      "         x                y                z\n",
      "0 Li     0.0009685895     0.0000000000     0.0000000000\n",
      "1 F    -0.0008759083     0.0000000000     0.0000000000\n",
      "----------------------------------------------\n",
      "cycle 7: E = -107.34791456  dE = 1.61097e-06  norm(grad) = 0.0013059\n"
     ]
    },
    {
     "name": "stderr",
     "output_type": "stream",
     "text": [
      "Step    6 : Displace = \u001b[0m6.832e-04\u001b[0m/\u001b[0m6.832e-04\u001b[0m (rms/max) Trust = 7.071e-02 (\u001b[91m-\u001b[0m) Grad = \u001b[0m9.234e-04\u001b[0m/\u001b[0m9.686e-04\u001b[0m (rms/max) E (change) = -107.3479145605 (\u001b[91m+1.611e-06\u001b[0m) Quality = \u001b[91m-0.652\u001b[0m\n",
      "Hessian Eigenvalues: 3.59778e-04 5.00000e-02 5.00000e-02 ... 5.00000e-02 5.00000e-02 5.54904e-01\n"
     ]
    },
    {
     "name": "stdout",
     "output_type": "stream",
     "text": [
      "\n",
      "Geometry optimization cycle 8\n",
      "Cartesian coordinates (Angstrom)\n",
      " Atom        New coordinates             dX        dY        dZ\n",
      "  Li   0.628098   0.000000   0.000000   -0.094993  0.000000  0.000000\n",
      "   F  -0.936479  -0.000000  -0.000000   -0.096961 -0.000000 -0.000000\n",
      "converged SCF energy = -107.347910298942\n",
      "--------------- SCF_Scanner gradients ---------------\n",
      "         x                y                z\n",
      "0 Li     0.0015728785     0.0000000000     0.0000000000\n",
      "1 F    -0.0014930640    -0.0000000000    -0.0000000000\n",
      "----------------------------------------------\n",
      "cycle 8: E = -107.347910299  dE = 4.26155e-06  norm(grad) = 0.00216868\n"
     ]
    },
    {
     "name": "stderr",
     "output_type": "stream",
     "text": [
      "Step    7 : Displace = \u001b[0m9.841e-04\u001b[0m/\u001b[0m9.841e-04\u001b[0m (rms/max) Trust = 3.536e-02 (\u001b[91m-\u001b[0m) Grad = \u001b[0m1.533e-03\u001b[0m/\u001b[0m1.573e-03\u001b[0m (rms/max) E (change) = -107.3479102989 (\u001b[91m+4.262e-06\u001b[0m) Quality = \u001b[91m-0.637\u001b[0m\n",
      "Hessian Eigenvalues: 1.20139e-04 5.00000e-02 5.00000e-02 ... 5.00000e-02 5.00000e-02 5.71960e-01\n"
     ]
    },
    {
     "name": "stdout",
     "output_type": "stream",
     "text": [
      "\n",
      "Geometry optimization cycle 9\n",
      "Cartesian coordinates (Angstrom)\n",
      " Atom        New coordinates             dX        dY        dZ\n",
      "  Li   0.376438   0.000000   0.000000   -0.251661  0.000000  0.000000\n",
      "   F  -1.190416  -0.000000  -0.000000   -0.253938 -0.000000 -0.000000\n",
      "converged SCF energy = -107.347902537798\n",
      "--------------- SCF_Scanner gradients ---------------\n",
      "         x                y                z\n",
      "0 Li     0.0022642919     0.0000000000     0.0000000000\n",
      "1 F    -0.0021986395    -0.0000000000     0.0000000000\n",
      "----------------------------------------------\n",
      "cycle 9: E = -107.347902538  dE = 7.76114e-06  norm(grad) = 0.00315611\n"
     ]
    },
    {
     "name": "stderr",
     "output_type": "stream",
     "text": [
      "Step    8 : Displace = \u001b[0m1.138e-03\u001b[0m/\u001b[0m1.138e-03\u001b[0m (rms/max) Trust = 1.768e-02 (\u001b[91m-\u001b[0m) Grad = \u001b[0m2.232e-03\u001b[0m/\u001b[0m2.264e-03\u001b[0m (rms/max) E (change) = -107.3479025378 (\u001b[91m+7.761e-06\u001b[0m) Quality = \u001b[91m-0.492\u001b[0m\n",
      "Hessian Eigenvalues: 3.89059e-05 5.00000e-02 5.00000e-02 ... 5.00000e-02 5.00000e-02 5.47269e-01\n"
     ]
    },
    {
     "name": "stdout",
     "output_type": "stream",
     "text": [
      "\n",
      "Geometry optimization cycle 10\n",
      "Cartesian coordinates (Angstrom)\n",
      " Atom        New coordinates             dX        dY        dZ\n",
      "  Li  -0.323096   0.000000   0.000000   -0.699533  0.000000  0.000000\n",
      "   F  -1.892231  -0.000000  -0.000000   -0.701814 -0.000000 -0.000000\n",
      "converged SCF energy = -107.34789175244\n",
      "--------------- SCF_Scanner gradients ---------------\n",
      "         x                y                z\n",
      "0 Li     0.0029488849     0.0000000000     0.0000000000\n",
      "1 F    -0.0028966424    -0.0000000000     0.0000000000\n",
      "----------------------------------------------\n",
      "cycle 10: E = -107.347891752  dE = 1.07854e-05  norm(grad) = 0.00413358\n"
     ]
    },
    {
     "name": "stderr",
     "output_type": "stream",
     "text": [
      "Step    9 : Displace = \u001b[0m1.140e-03\u001b[0m/\u001b[0m1.140e-03\u001b[0m (rms/max) Trust = 8.839e-03 (\u001b[91m-\u001b[0m) Grad = \u001b[0m2.923e-03\u001b[0m/\u001b[0m2.949e-03\u001b[0m (rms/max) E (change) = -107.3478917524 (\u001b[91m+1.079e-05\u001b[0m) Quality = \u001b[91m-0.279\u001b[0m\n",
      "Hessian Eigenvalues: 1.12883e-05 5.00000e-02 5.00000e-02 ... 5.00000e-02 5.00000e-02 5.05889e-01\n"
     ]
    },
    {
     "name": "stdout",
     "output_type": "stream",
     "text": [
      "\n",
      "Geometry optimization cycle 11\n",
      "Cartesian coordinates (Angstrom)\n",
      " Atom        New coordinates             dX        dY        dZ\n",
      "  Li  -2.466680   0.000000   0.000000   -2.143584  0.000000  0.000000\n",
      "   F  -4.037525  -0.000000  -0.000000   -2.145294 -0.000000 -0.000000\n",
      "converged SCF energy = -107.34788171127\n",
      "--------------- SCF_Scanner gradients ---------------\n",
      "         x                y                z\n",
      "0 Li     0.0034566873     0.0000000000     0.0000000000\n",
      "1 F    -0.0034139855    -0.0000000000    -0.0000000000\n",
      "----------------------------------------------\n",
      "cycle 11: E = -107.347881711  dE = 1.00412e-05  norm(grad) = 0.00485839\n"
     ]
    },
    {
     "name": "stderr",
     "output_type": "stream",
     "text": [
      "Step   10 : Displace = \u001b[0m8.550e-04\u001b[0m/\u001b[0m8.550e-04\u001b[0m (rms/max) Trust = 4.419e-03 (\u001b[91m-\u001b[0m) Grad = \u001b[0m3.435e-03\u001b[0m/\u001b[0m3.457e-03\u001b[0m (rms/max) E (change) = -107.3478817113 (\u001b[91m+1.004e-05\u001b[0m) Quality = \u001b[91m-0.099\u001b[0m\n",
      "Eigenvalues below 1.0000e-05 (2.4212e-06) - returning guess\n",
      "Hessian Eigenvalues: 5.00000e-02 5.00000e-02 5.00000e-02 ... 5.00000e-02 5.00000e-02 3.02018e-01\n"
     ]
    },
    {
     "name": "stdout",
     "output_type": "stream",
     "text": [
      "\n",
      "Geometry optimization cycle 12\n",
      "Cartesian coordinates (Angstrom)\n",
      " Atom        New coordinates             dX        dY        dZ\n",
      "  Li  -2.469037   0.000000   0.000000   -0.002357 -0.000000 -0.000000\n",
      "   F  -4.035453  -0.000000  -0.000000    0.002072  0.000000 -0.000000\n",
      "converged SCF energy = -107.347904268329\n",
      "--------------- SCF_Scanner gradients ---------------\n",
      "         x                y                z\n",
      "0 Li     0.0021316116     0.0000000000     0.0000000000\n",
      "1 F    -0.0020632912    -0.0000000000    -0.0000000000\n",
      "----------------------------------------------\n",
      "cycle 12: E = -107.347904268  dE = -2.25571e-05  norm(grad) = 0.00296664\n"
     ]
    },
    {
     "name": "stderr",
     "output_type": "stream",
     "text": [
      "Step   11 : Displace = \u001b[0m2.215e-03\u001b[0m/\u001b[0m2.215e-03\u001b[0m (rms/max) Trust = 2.210e-03 (\u001b[91m-\u001b[0m) Grad = \u001b[0m2.098e-03\u001b[0m/\u001b[0m2.132e-03\u001b[0m (rms/max) E (change) = -107.3479042683 (\u001b[0m-2.256e-05\u001b[0m) Quality = \u001b[0m1.240\u001b[0m\n",
      "Hessian Eigenvalues: 4.98518e-02 5.00000e-02 5.00000e-02 ... 5.00000e-02 5.00000e-02 1.60179e-01\n"
     ]
    },
    {
     "name": "stdout",
     "output_type": "stream",
     "text": [
      "\n",
      "Geometry optimization cycle 13\n",
      "Cartesian coordinates (Angstrom)\n",
      " Atom        New coordinates             dX        dY        dZ\n",
      "  Li  -2.473161   0.000000   0.000000   -0.004124 -0.000000 -0.000000\n",
      "   F  -4.033282  -0.000000  -0.000000    0.002171  0.000000  0.000000\n",
      "converged SCF energy = -107.34791666198\n",
      "--------------- SCF_Scanner gradients ---------------\n",
      "         x                y                z\n",
      "0 Li     0.0001956768     0.0000000000    -0.0000000000\n",
      "1 F    -0.0000859036    -0.0000000000     0.0000000000\n",
      "----------------------------------------------\n",
      "cycle 13: E = -107.347916662  dE = -1.23937e-05  norm(grad) = 0.000213703\n"
     ]
    },
    {
     "name": "stderr",
     "output_type": "stream",
     "text": [
      "Step   12 : Displace = \u001b[0m3.147e-03\u001b[0m/\u001b[0m3.147e-03\u001b[0m (rms/max) Trust = 3.125e-03 (\u001b[92m+\u001b[0m) Grad = \u001b[0m1.511e-04\u001b[0m/\u001b[0m1.957e-04\u001b[0m (rms/max) E (change) = -107.3479166620 (\u001b[0m-1.239e-05\u001b[0m) Quality = \u001b[0m0.900\u001b[0m\n",
      "Hessian Eigenvalues: 4.89841e-02 5.00000e-02 5.00000e-02 ... 5.00000e-02 5.00000e-02 1.67319e-01\n"
     ]
    },
    {
     "name": "stdout",
     "output_type": "stream",
     "text": [
      "\n",
      "Geometry optimization cycle 14\n",
      "Cartesian coordinates (Angstrom)\n",
      " Atom        New coordinates             dX        dY        dZ\n",
      "  Li  -2.474709   0.000000   0.000000   -0.001548 -0.000000  0.000000\n",
      "   F  -4.034295  -0.000000  -0.000000   -0.001013 -0.000000 -0.000000\n",
      "converged SCF energy = -107.347916630235\n",
      "--------------- SCF_Scanner gradients ---------------\n",
      "         x                y                z\n",
      "0 Li     0.0000282366     0.0000000000     0.0000000000\n",
      "1 F     0.0000853285     0.0000000000    -0.0000000000\n",
      "----------------------------------------------\n",
      "cycle 14: E = -107.34791663  dE = 3.17452e-08  norm(grad) = 8.98792e-05\n"
     ]
    },
    {
     "name": "stderr",
     "output_type": "stream",
     "text": [
      "Step   13 : Displace = \u001b[0m2.674e-04\u001b[0m/\u001b[0m2.674e-04\u001b[0m (rms/max) Trust = 4.419e-03 (\u001b[92m+\u001b[0m) Grad = \u001b[0m6.355e-05\u001b[0m/\u001b[0m8.533e-05\u001b[0m (rms/max) E (change) = -107.3479166302 (\u001b[91m+3.175e-08\u001b[0m) Quality = \u001b[91m-0.156\u001b[0m\n",
      "Hessian Eigenvalues: 1.06837e-02 5.00000e-02 5.00000e-02 ... 5.00000e-02 5.00000e-02 3.04607e-01\n"
     ]
    },
    {
     "name": "stdout",
     "output_type": "stream",
     "text": [
      "\n",
      "Geometry optimization cycle 15\n",
      "Cartesian coordinates (Angstrom)\n",
      " Atom        New coordinates             dX        dY        dZ\n",
      "  Li  -2.480347   0.000000   0.000000   -0.005638 -0.000000 -0.000000\n",
      "   F  -4.039048  -0.000000  -0.000000   -0.004753 -0.000000  0.000000\n",
      "converged SCF energy = -107.347916199799\n",
      "--------------- SCF_Scanner gradients ---------------\n",
      "         x                y                z\n",
      "0 Li    -0.0002497844    -0.0000000000    -0.0000000000\n",
      "1 F     0.0003697189     0.0000000000     0.0000000000\n",
      "----------------------------------------------\n",
      "cycle 15: E = -107.3479162  dE = 4.30436e-07  norm(grad) = 0.000446189\n"
     ]
    },
    {
     "name": "stderr",
     "output_type": "stream",
     "text": [
      "Step   14 : Displace = \u001b[0m4.425e-04\u001b[0m/\u001b[0m4.425e-04\u001b[0m (rms/max) Trust = 2.210e-03 (\u001b[91m-\u001b[0m) Grad = \u001b[0m3.155e-04\u001b[0m/\u001b[0m3.697e-04\u001b[0m (rms/max) E (change) = -107.3479161998 (\u001b[91m+4.304e-07\u001b[0m) Quality = \u001b[91m-0.807\u001b[0m\n",
      "Hessian Eigenvalues: 2.51716e-03 5.00000e-02 5.00000e-02 ... 5.00000e-02 5.00000e-02 4.93965e-01\n"
     ]
    },
    {
     "name": "stdout",
     "output_type": "stream",
     "text": [
      "\n",
      "Geometry optimization cycle 16\n",
      "Cartesian coordinates (Angstrom)\n",
      " Atom        New coordinates             dX        dY        dZ\n",
      "  Li  -2.498891   0.000000   0.000000   -0.018544 -0.000000 -0.000000\n",
      "   F  -4.055949  -0.000000  -0.000000   -0.016901 -0.000000 -0.000000\n",
      "converged SCF energy = -107.347914145138\n",
      "--------------- SCF_Scanner gradients ---------------\n",
      "         x                y                z\n",
      "0 Li    -0.0007691382    -0.0000000000    -0.0000000000\n",
      "1 F     0.0009011930     0.0000000000    -0.0000000000\n",
      "----------------------------------------------\n",
      "cycle 16: E = -107.347914145  dE = 2.05466e-06  norm(grad) = 0.00118479\n"
     ]
    },
    {
     "name": "stderr",
     "output_type": "stream",
     "text": [
      "Step   15 : Displace = \u001b[0m8.212e-04\u001b[0m/\u001b[0m8.212e-04\u001b[0m (rms/max) Trust = 1.105e-03 (\u001b[91m-\u001b[0m) Grad = \u001b[0m8.378e-04\u001b[0m/\u001b[0m9.012e-04\u001b[0m (rms/max) E (change) = -107.3479141451 (\u001b[91m+2.055e-06\u001b[0m) Quality = \u001b[91m-1.345\u001b[0m\n",
      "\u001b[93mNot rejecting step - trust below 1.000e-02\u001b[0m\n",
      "Hessian Eigenvalues: 7.27462e-04 5.00000e-02 5.00000e-02 ... 5.00000e-02 5.00000e-02 6.85161e-01\n"
     ]
    },
    {
     "name": "stdout",
     "output_type": "stream",
     "text": [
      "\n",
      "Geometry optimization cycle 17\n",
      "Cartesian coordinates (Angstrom)\n",
      " Atom        New coordinates             dX        dY        dZ\n",
      "  Li  -2.524626   0.000000   0.000000   -0.025735 -0.000000  0.000000\n",
      "   F  -4.080579  -0.000000  -0.000000   -0.024630 -0.000000 -0.000000\n",
      "converged SCF energy = -107.347911839114\n",
      "--------------- SCF_Scanner gradients ---------------\n",
      "         x                y                z\n",
      "0 Li    -0.0011209493    -0.0000000000    -0.0000000000\n",
      "1 F     0.0012613765     0.0000000000     0.0000000000\n",
      "----------------------------------------------\n",
      "cycle 17: E = -107.347911839  dE = 2.30602e-06  norm(grad) = 0.00168748\n"
     ]
    },
    {
     "name": "stderr",
     "output_type": "stream",
     "text": [
      "Step   16 : Displace = \u001b[0m5.524e-04\u001b[0m/\u001b[0m5.524e-04\u001b[0m (rms/max) Trust = 5.524e-04 (\u001b[91m-\u001b[0m) Grad = \u001b[0m1.193e-03\u001b[0m/\u001b[0m1.261e-03\u001b[0m (rms/max) E (change) = -107.3479118391 (\u001b[91m+2.306e-06\u001b[0m) Quality = \u001b[91m-0.721\u001b[0m\n",
      "Hessian Eigenvalues: 8.11719e-05 5.00000e-02 5.00000e-02 ... 5.00000e-02 5.00000e-02 7.89256e-01\n"
     ]
    },
    {
     "name": "stdout",
     "output_type": "stream",
     "text": [
      "\n",
      "Geometry optimization cycle 18\n",
      "Cartesian coordinates (Angstrom)\n",
      " Atom        New coordinates             dX        dY        dZ\n",
      "  Li  -2.565412   0.000000   0.000000   -0.040787 -0.000000  0.000000\n",
      "   F  -4.120774  -0.000000  -0.000000   -0.040195 -0.000000 -0.000000\n",
      "converged SCF energy = -107.347910296881\n",
      "--------------- SCF_Scanner gradients ---------------\n",
      "         x                y                z\n",
      "0 Li    -0.0013102193    -0.0000000000    -0.0000000000\n",
      "1 F     0.0014552016     0.0000000000     0.0000000000\n",
      "----------------------------------------------\n",
      "cycle 18: E = -107.347910297  dE = 1.54223e-06  norm(grad) = 0.00195813\n"
     ]
    },
    {
     "name": "stderr",
     "output_type": "stream",
     "text": [
      "Step   17 : Displace = \u001b[0m2.958e-04\u001b[0m/\u001b[0m2.958e-04\u001b[0m (rms/max) Trust = 2.762e-04 (\u001b[91m-\u001b[0m) Grad = \u001b[0m1.385e-03\u001b[0m/\u001b[0m1.455e-03\u001b[0m (rms/max) E (change) = -107.3479102969 (\u001b[91m+1.542e-06\u001b[0m) Quality = \u001b[91m-0.186\u001b[0m\n",
      "Eigenvalues below 1.0000e-05 (-1.0867e-01) - returning guess\n",
      "Hessian Eigenvalues: 5.00000e-02 5.00000e-02 5.00000e-02 ... 5.00000e-02 5.00000e-02 3.02018e-01\n"
     ]
    },
    {
     "name": "stdout",
     "output_type": "stream",
     "text": [
      "\n",
      "Geometry optimization cycle 19\n",
      "Cartesian coordinates (Angstrom)\n",
      " Atom        New coordinates             dX        dY        dZ\n",
      "  Li  -2.565306   0.000000   0.000000    0.000106  0.000000  0.000000\n",
      "   F  -4.120944  -0.000000  -0.000000   -0.000170 -0.000000 -0.000000\n",
      "converged SCF energy = -107.347911043733\n",
      "--------------- SCF_Scanner gradients ---------------\n",
      "         x                y                z\n",
      "0 Li    -0.0012216636    -0.0000000000    -0.0000000000\n",
      "1 F     0.0013645126     0.0000000000     0.0000000000\n",
      "----------------------------------------------\n",
      "cycle 19: E = -107.347911044  dE = -7.46851e-07  norm(grad) = 0.00183149\n"
     ]
    },
    {
     "name": "stderr",
     "output_type": "stream",
     "text": [
      "Step   18 : Displace = \u001b[0m1.381e-04\u001b[0m/\u001b[0m1.381e-04\u001b[0m (rms/max) Trust = 1.381e-04 (\u001b[91m-\u001b[0m) Grad = \u001b[0m1.295e-03\u001b[0m/\u001b[0m1.365e-03\u001b[0m (rms/max) E (change) = -107.3479110437 (\u001b[0m-7.469e-07\u001b[0m) Quality = \u001b[0m1.083\u001b[0m\n",
      "Hessian Eigenvalues: 4.99622e-02 5.00000e-02 5.00000e-02 ... 5.00000e-02 5.00000e-02 1.71892e-01\n"
     ]
    },
    {
     "name": "stdout",
     "output_type": "stream",
     "text": [
      "\n",
      "Geometry optimization cycle 20\n",
      "Cartesian coordinates (Angstrom)\n",
      " Atom        New coordinates             dX        dY        dZ\n",
      "  Li  -2.565147   0.000000   0.000000    0.000159  0.000000  0.000000\n",
      "   F  -4.121205  -0.000000  -0.000000   -0.000260 -0.000000 -0.000000\n",
      "converged SCF energy = -107.347912088239\n",
      "--------------- SCF_Scanner gradients ---------------\n",
      "         x                y                z\n",
      "0 Li    -0.0010875780    -0.0000000000    -0.0000000000\n",
      "1 F     0.0012272079     0.0000000000     0.0000000000\n",
      "----------------------------------------------\n",
      "cycle 20: E = -107.347912088  dE = -1.04451e-06  norm(grad) = 0.00163978\n"
     ]
    },
    {
     "name": "stderr",
     "output_type": "stream",
     "text": [
      "Step   19 : Displace = \u001b[0m2.098e-04\u001b[0m/\u001b[0m2.098e-04\u001b[0m (rms/max) Trust = 1.953e-04 (\u001b[92m+\u001b[0m) Grad = \u001b[0m1.159e-03\u001b[0m/\u001b[0m1.227e-03\u001b[0m (rms/max) E (change) = -107.3479120882 (\u001b[0m-1.045e-06\u001b[0m) Quality = \u001b[0m1.061\u001b[0m\n",
      "Hessian Eigenvalues: 4.99422e-02 5.00000e-02 5.00000e-02 ... 5.00000e-02 5.00000e-02 1.71436e-01\n"
     ]
    },
    {
     "name": "stdout",
     "output_type": "stream",
     "text": [
      "\n",
      "Geometry optimization cycle 21\n",
      "Cartesian coordinates (Angstrom)\n",
      " Atom        New coordinates             dX        dY        dZ\n",
      "  Li  -2.564930   0.000000   0.000000    0.000217  0.000000 -0.000000\n",
      "   F  -4.121588  -0.000000  -0.000000   -0.000384 -0.000000 -0.000000\n",
      "converged SCF energy = -107.347913395484\n",
      "--------------- SCF_Scanner gradients ---------------\n",
      "         x                y                z\n",
      "0 Li    -0.0008963549    -0.0000000000    -0.0000000000\n",
      "1 F     0.0010314245     0.0000000000     0.0000000000\n",
      "----------------------------------------------\n",
      "cycle 21: E = -107.347913395  dE = -1.30725e-06  norm(grad) = 0.00136649\n"
     ]
    },
    {
     "name": "stderr",
     "output_type": "stream",
     "text": [
      "Step   20 : Displace = \u001b[0m3.001e-04\u001b[0m/\u001b[0m3.001e-04\u001b[0m (rms/max) Trust = 2.762e-04 (\u001b[92m+\u001b[0m) Grad = \u001b[0m9.663e-04\u001b[0m/\u001b[0m1.031e-03\u001b[0m (rms/max) E (change) = -107.3479133955 (\u001b[0m-1.307e-06\u001b[0m) Quality = \u001b[0m1.068\u001b[0m\n",
      "Hessian Eigenvalues: 4.98530e-02 5.00000e-02 5.00000e-02 ... 5.00000e-02 5.00000e-02 1.71073e-01\n"
     ]
    },
    {
     "name": "stdout",
     "output_type": "stream",
     "text": [
      "\n",
      "Geometry optimization cycle 22\n",
      "Cartesian coordinates (Angstrom)\n",
      " Atom        New coordinates             dX        dY        dZ\n",
      "  Li  -2.564678   0.000000   0.000000    0.000252  0.000000  0.000000\n",
      "   F  -4.122118  -0.000000  -0.000000   -0.000530 -0.000000 -0.000000\n",
      "converged SCF energy = -107.347914768183\n",
      "--------------- SCF_Scanner gradients ---------------\n",
      "         x                y                z\n",
      "0 Li    -0.0006479002    -0.0000000000    -0.0000000000\n",
      "1 F     0.0007771028     0.0000000000     0.0000000000\n",
      "----------------------------------------------\n",
      "cycle 22: E = -107.347914768  dE = -1.3727e-06  norm(grad) = 0.00101176\n"
     ]
    },
    {
     "name": "stderr",
     "output_type": "stream",
     "text": [
      "Step   21 : Displace = \u001b[0m3.910e-04\u001b[0m/\u001b[0m3.910e-04\u001b[0m (rms/max) Trust = 3.906e-04 (\u001b[92m+\u001b[0m) Grad = \u001b[0m7.154e-04\u001b[0m/\u001b[0m7.771e-04\u001b[0m (rms/max) E (change) = -107.3479147682 (\u001b[0m-1.373e-06\u001b[0m) Quality = \u001b[0m1.079\u001b[0m\n",
      "Hessian Eigenvalues: 4.96155e-02 5.00000e-02 5.00000e-02 ... 5.00000e-02 5.00000e-02 1.71183e-01\n"
     ]
    },
    {
     "name": "stdout",
     "output_type": "stream",
     "text": [
      "\n",
      "Geometry optimization cycle 23\n",
      "Cartesian coordinates (Angstrom)\n",
      " Atom        New coordinates             dX        dY        dZ\n",
      "  Li  -2.564458   0.000000   0.000000    0.000220  0.000000 -0.000000\n",
      "   F  -4.123013  -0.000000  -0.000000   -0.000895 -0.000000  0.000000\n",
      "converged SCF energy = -107.347916083272\n",
      "--------------- SCF_Scanner gradients ---------------\n",
      "         x                y                z\n",
      "0 Li    -0.0002957266    -0.0000000000    -0.0000000000\n",
      "1 F     0.0004167235     0.0000000000     0.0000000000\n",
      "----------------------------------------------\n",
      "cycle 23: E = -107.347916083  dE = -1.31509e-06  norm(grad) = 0.000510992\n"
     ]
    },
    {
     "name": "stderr",
     "output_type": "stream",
     "text": [
      "Step   22 : Displace = \u001b[0m5.574e-04\u001b[0m/\u001b[0m5.574e-04\u001b[0m (rms/max) Trust = 5.524e-04 (\u001b[92m+\u001b[0m) Grad = \u001b[0m3.613e-04\u001b[0m/\u001b[0m4.167e-04\u001b[0m (rms/max) E (change) = -107.3479160833 (\u001b[0m-1.315e-06\u001b[0m) Quality = \u001b[0m1.096\u001b[0m\n",
      "Hessian Eigenvalues: 4.83128e-02 5.00000e-02 5.00000e-02 ... 5.00000e-02 5.00000e-02 1.73451e-01\n"
     ]
    },
    {
     "name": "stdout",
     "output_type": "stream",
     "text": [
      "\n",
      "Geometry optimization cycle 24\n",
      "Cartesian coordinates (Angstrom)\n",
      " Atom        New coordinates             dX        dY        dZ\n",
      "  Li  -2.565428   0.000000   0.000000   -0.000969 -0.000000 -0.000000\n",
      "   F  -4.125176  -0.000000  -0.000000   -0.002163 -0.000000 -0.000000\n",
      "converged SCF energy = -107.347916658062\n",
      "--------------- SCF_Scanner gradients ---------------\n",
      "         x                y                z\n",
      "0 Li     0.0000791118     0.0000000000     0.0000000000\n",
      "1 F     0.0000333005     0.0000000000     0.0000000000\n",
      "----------------------------------------------\n",
      "cycle 24: E = -107.347916658  dE = -5.7479e-07  norm(grad) = 8.58347e-05\n"
     ]
    },
    {
     "name": "stderr",
     "output_type": "stream",
     "text": [
      "Step   23 : Displace = \u001b[0m5.966e-04\u001b[0m/\u001b[0m5.966e-04\u001b[0m (rms/max) Trust = 7.813e-04 (\u001b[92m+\u001b[0m) Grad = \u001b[0m6.069e-05\u001b[0m/\u001b[0m7.911e-05\u001b[0m (rms/max) E (change) = -107.3479166581 (\u001b[0m-5.748e-07\u001b[0m) Quality = \u001b[0m0.990\u001b[0m\n",
      "Hessian Eigenvalues: 2.68710e-02 5.00000e-02 5.00000e-02 ... 5.00000e-02 5.00000e-02 2.36389e-01\n"
     ]
    },
    {
     "name": "stdout",
     "output_type": "stream",
     "text": [
      "\n",
      "Geometry optimization cycle 25\n",
      "Cartesian coordinates (Angstrom)\n",
      " Atom        New coordinates             dX        dY        dZ\n",
      "  Li  -2.567291   0.000000   0.000000   -0.001863 -0.000000  0.000000\n",
      "   F  -4.127385  -0.000000  -0.000000   -0.002209 -0.000000 -0.000000\n",
      "converged SCF energy = -107.347916664458\n",
      "--------------- SCF_Scanner gradients ---------------\n",
      "         x                y                z\n",
      "0 Li     0.0001874451     0.0000000000     0.0000000000\n",
      "1 F    -0.0000774846     0.0000000000     0.0000000000\n",
      "----------------------------------------------\n",
      "cycle 25: E = -107.347916664  dE = -6.39628e-09  norm(grad) = 0.000202829\n"
     ]
    },
    {
     "name": "stderr",
     "output_type": "stream",
     "text": [
      "Step   24 : Displace = \u001b[0m1.731e-04\u001b[0m/\u001b[0m1.731e-04\u001b[0m (rms/max) Trust = 1.105e-03 (\u001b[92m+\u001b[0m) Grad = \u001b[0m1.434e-04\u001b[0m/\u001b[0m1.874e-04\u001b[0m (rms/max) E (change) = -107.3479166645 (\u001b[92m-6.396e-09\u001b[0m) Quality = \u001b[0m0.031\u001b[0m\n",
      "Hessian Eigenvalues: 3.27635e-03 5.00000e-02 5.00000e-02 ... 5.00000e-02 5.00000e-02 3.76544e-01\n"
     ]
    },
    {
     "name": "stdout",
     "output_type": "stream",
     "text": [
      "\n",
      "Geometry optimization cycle 26\n",
      "Cartesian coordinates (Angstrom)\n",
      " Atom        New coordinates             dX        dY        dZ\n",
      "  Li  -2.580280   0.000000   0.000000   -0.012989 -0.000000 -0.000000\n",
      "   F  -4.141452  -0.000000  -0.000000   -0.014067 -0.000000 -0.000000\n",
      "converged SCF energy = -107.347916224115\n",
      "--------------- SCF_Scanner gradients ---------------\n",
      "         x                y                z\n",
      "0 Li     0.0005236329     0.0000000000     0.0000000000\n",
      "1 F    -0.0004211965    -0.0000000000    -0.0000000000\n",
      "----------------------------------------------\n",
      "cycle 26: E = -107.347916224  dE = 4.40343e-07  norm(grad) = 0.00067201\n"
     ]
    },
    {
     "name": "stderr",
     "output_type": "stream",
     "text": [
      "Step   25 : Displace = \u001b[0m5.392e-04\u001b[0m/\u001b[0m5.392e-04\u001b[0m (rms/max) Trust = 5.524e-04 (\u001b[91m-\u001b[0m) Grad = \u001b[0m4.752e-04\u001b[0m/\u001b[0m5.236e-04\u001b[0m (rms/max) E (change) = -107.3479162241 (\u001b[91m+4.403e-07\u001b[0m) Quality = \u001b[91m-0.306\u001b[0m\n",
      "Hessian Eigenvalues: 9.94932e-04 5.00000e-02 5.00000e-02 ... 5.00000e-02 5.00000e-02 4.97116e-01\n"
     ]
    },
    {
     "name": "stdout",
     "output_type": "stream",
     "text": [
      "\n",
      "Geometry optimization cycle 27\n",
      "Cartesian coordinates (Angstrom)\n",
      " Atom        New coordinates             dX        dY        dZ\n",
      "  Li  -2.599997  -0.000000   0.000000   -0.019717 -0.000000 -0.000000\n",
      "   F  -4.161722  -0.000000  -0.000000   -0.020269 -0.000000 -0.000000\n",
      "converged SCF energy = -107.347915729896\n",
      "--------------- SCF_Scanner gradients ---------------\n",
      "         x                y                z\n",
      "0 Li     0.0006950507     0.0000000000     0.0000000000\n",
      "1 F    -0.0005963991    -0.0000000000    -0.0000000000\n",
      "----------------------------------------------\n",
      "cycle 27: E = -107.34791573  dE = 4.94218e-07  norm(grad) = 0.000915853\n"
     ]
    },
    {
     "name": "stderr",
     "output_type": "stream",
     "text": [
      "Step   26 : Displace = \u001b[0m2.760e-04\u001b[0m/\u001b[0m2.760e-04\u001b[0m (rms/max) Trust = 2.762e-04 (\u001b[91m-\u001b[0m) Grad = \u001b[0m6.476e-04\u001b[0m/\u001b[0m6.951e-04\u001b[0m (rms/max) E (change) = -107.3479157299 (\u001b[91m+4.942e-07\u001b[0m) Quality = \u001b[91m-0.203\u001b[0m\n",
      "Hessian Eigenvalues: 1.81920e-04 5.00000e-02 5.00000e-02 ... 5.00000e-02 5.00000e-02 4.69150e-01\n"
     ]
    },
    {
     "name": "stdout",
     "output_type": "stream",
     "text": [
      "\n",
      "Geometry optimization cycle 28\n",
      "Cartesian coordinates (Angstrom)\n",
      " Atom        New coordinates             dX        dY        dZ\n",
      "  Li  -2.600828  -0.000000   0.000000   -0.000831 -0.000000 -0.000000\n",
      "   F  -4.161948  -0.000000  -0.000000   -0.000226 -0.000000  0.000000\n",
      "converged SCF energy = -107.347916261394\n",
      "--------------- SCF_Scanner gradients ---------------\n",
      "         x                y                z\n",
      "0 Li     0.0005071558     0.0000000000     0.0000000000\n",
      "1 F    -0.0004043555    -0.0000000000     0.0000000000\n",
      "----------------------------------------------\n",
      "cycle 28: E = -107.347916261  dE = -5.31498e-07  norm(grad) = 0.000648622\n"
     ]
    },
    {
     "name": "stderr",
     "output_type": "stream",
     "text": [
      "Step   27 : Displace = \u001b[0m3.023e-04\u001b[0m/\u001b[0m3.023e-04\u001b[0m (rms/max) Trust = 1.381e-04 (\u001b[91m-\u001b[0m) Grad = \u001b[0m4.586e-04\u001b[0m/\u001b[0m5.072e-04\u001b[0m (rms/max) E (change) = -107.3479162614 (\u001b[0m-5.315e-07\u001b[0m) Quality = \u001b[0m1.021\u001b[0m\n",
      "Hessian Eigenvalues: 1.69494e-04 5.00000e-02 5.00000e-02 ... 5.00000e-02 5.00000e-02 1.69741e-01\n"
     ]
    },
    {
     "name": "stdout",
     "output_type": "stream",
     "text": [
      "\n",
      "Geometry optimization cycle 29\n",
      "Cartesian coordinates (Angstrom)\n",
      " Atom        New coordinates             dX        dY        dZ\n",
      "  Li  -2.602618  -0.000000   0.000000   -0.001790 -0.000000  0.000000\n",
      "   F  -4.162607  -0.000000  -0.000000   -0.000659 -0.000000 -0.000000\n",
      "converged SCF energy = -107.347916670125\n",
      "--------------- SCF_Scanner gradients ---------------\n",
      "         x                y                z\n",
      "0 Li     0.0001544606     0.0000000000     0.0000000000\n",
      "1 F    -0.0000437572     0.0000000000     0.0000000000\n",
      "----------------------------------------------\n",
      "cycle 29: E = -107.34791667  dE = -4.08731e-07  norm(grad) = 0.000160539\n"
     ]
    },
    {
     "name": "stderr",
     "output_type": "stream",
     "text": [
      "Step   28 : Displace = \u001b[0m5.656e-04\u001b[0m/\u001b[0m5.656e-04\u001b[0m (rms/max) Trust = 1.953e-04 (\u001b[92m+\u001b[0m) Grad = \u001b[0m1.135e-04\u001b[0m/\u001b[0m1.545e-04\u001b[0m (rms/max) E (change) = -107.3479166701 (\u001b[0m-4.087e-07\u001b[0m) Quality = \u001b[0m0.485\u001b[0m\n",
      "Hessian Eigenvalues: 1.69289e-04 5.00000e-02 5.00000e-02 ... 5.00000e-02 5.00000e-02 1.71249e-01\n"
     ]
    },
    {
     "name": "stdout",
     "output_type": "stream",
     "text": [
      "\n",
      "Geometry optimization cycle 30\n",
      "Cartesian coordinates (Angstrom)\n",
      " Atom        New coordinates             dX        dY        dZ\n",
      "  Li  -2.608494  -0.000000   0.000000   -0.005877 -0.000000 -0.000000\n",
      "   F  -4.168070  -0.000000  -0.000000   -0.005464 -0.000000 -0.000000\n",
      "converged SCF energy = -107.347916628016\n",
      "--------------- SCF_Scanner gradients ---------------\n",
      "         x                y                z\n",
      "0 Li     0.0000250570     0.0000000000    -0.0000000000\n",
      "1 F     0.0000885810     0.0000000000     0.0000000000\n",
      "----------------------------------------------\n",
      "cycle 30: E = -107.347916628  dE = 4.21088e-08  norm(grad) = 9.20567e-05\n"
     ]
    },
    {
     "name": "stderr",
     "output_type": "stream",
     "text": [
      "Step   29 : Displace = \u001b[0m2.066e-04\u001b[0m/\u001b[0m2.066e-04\u001b[0m (rms/max) Trust = 1.953e-04 (=) Grad = \u001b[0m6.509e-05\u001b[0m/\u001b[0m8.858e-05\u001b[0m (rms/max) E (change) = -107.3479166280 (\u001b[91m+4.211e-08\u001b[0m) Quality = \u001b[91m-0.034\u001b[0m\n",
      "Hessian Eigenvalues: 1.03778e-04 5.00000e-02 5.00000e-02 ... 5.00000e-02 5.00000e-02 2.91363e-01\n"
     ]
    },
    {
     "name": "stdout",
     "output_type": "stream",
     "text": [
      "\n",
      "Geometry optimization cycle 31\n",
      "Cartesian coordinates (Angstrom)\n",
      " Atom        New coordinates             dX        dY        dZ\n",
      "  Li  -2.616925  -0.000000   0.000000   -0.008431 -0.000000 -0.000000\n",
      "   F  -4.176306  -0.000000  -0.000000   -0.008236 -0.000000 -0.000000\n",
      "converged SCF energy = -107.347916572435\n",
      "--------------- SCF_Scanner gradients ---------------\n",
      "         x                y                z\n",
      "0 Li    -0.0000361606    -0.0000000000    -0.0000000000\n",
      "1 F     0.0001511947     0.0000000000    -0.0000000000\n",
      "----------------------------------------------\n",
      "cycle 31: E = -107.347916572  dE = 5.55812e-08  norm(grad) = 0.000155459\n"
     ]
    },
    {
     "name": "stderr",
     "output_type": "stream",
     "text": [
      "Step   30 : Displace = \u001b[0m9.763e-05\u001b[0m/\u001b[0m9.763e-05\u001b[0m (rms/max) Trust = 9.766e-05 (\u001b[91m-\u001b[0m) Grad = \u001b[0m1.099e-04\u001b[0m/\u001b[0m1.512e-04\u001b[0m (rms/max) E (change) = -107.3479165724 (\u001b[91m+5.558e-08\u001b[0m) Quality = \u001b[91m-0.032\u001b[0m\n",
      "Eigenvalues below 1.0000e-05 (1.8596e-07) - returning guess\n",
      "Hessian Eigenvalues: 5.00000e-02 5.00000e-02 5.00000e-02 ... 5.00000e-02 5.00000e-02 3.02018e-01\n"
     ]
    },
    {
     "name": "stdout",
     "output_type": "stream",
     "text": [
      "\n",
      "Geometry optimization cycle 32\n",
      "Cartesian coordinates (Angstrom)\n",
      " Atom        New coordinates             dX        dY        dZ\n",
      "  Li  -2.617125  -0.000000   0.000000   -0.000200 -0.000000 -0.000000\n",
      "   F  -4.176605  -0.000000  -0.000000   -0.000300 -0.000000  0.000000\n",
      "converged SCF energy = -107.347916603641\n",
      "--------------- SCF_Scanner gradients ---------------\n",
      "         x                y                z\n",
      "0 Li    -0.0000048324    -0.0000000000    -0.0000000000\n",
      "1 F     0.0001191531     0.0000000000     0.0000000000\n",
      "----------------------------------------------\n",
      "cycle 32: E = -107.347916604  dE = -3.12065e-08  norm(grad) = 0.000119251\n"
     ]
    },
    {
     "name": "stderr",
     "output_type": "stream",
     "text": [
      "Step   31 : Displace = \u001b[0m4.999e-05\u001b[0m/\u001b[0m4.999e-05\u001b[0m (rms/max) Trust = 4.883e-05 (\u001b[91m-\u001b[0m) Grad = \u001b[0m8.432e-05\u001b[0m/\u001b[0m1.192e-04\u001b[0m (rms/max) E (change) = -107.3479166036 (\u001b[0m-3.121e-08\u001b[0m) Quality = \u001b[0m0.511\u001b[0m\n",
      "Hessian Eigenvalues: 1.34761e-02 5.00000e-02 5.00000e-02 ... 5.00000e-02 5.00000e-02 3.23407e-01\n"
     ]
    },
    {
     "name": "stdout",
     "output_type": "stream",
     "text": [
      "\n",
      "Geometry optimization cycle 33\n",
      "Cartesian coordinates (Angstrom)\n",
      " Atom        New coordinates             dX        dY        dZ\n",
      "  Li  -2.617400  -0.000000   0.000000   -0.000275 -0.000000  0.000000\n",
      "   F  -4.176986  -0.000000  -0.000000   -0.000380 -0.000000 -0.000000\n",
      "converged SCF energy = -107.34791663031\n",
      "--------------- SCF_Scanner gradients ---------------\n",
      "         x                y                z\n",
      "0 Li     0.0000282841     0.0000000000    -0.0000000000\n",
      "1 F     0.0000852823     0.0000000000     0.0000000000\n",
      "----------------------------------------------\n",
      "cycle 33: E = -107.34791663  dE = -2.66683e-08  norm(grad) = 8.98502e-05\n"
     ]
    },
    {
     "name": "stderr",
     "output_type": "stream",
     "text": [
      "Step   32 : Displace = \u001b[0m5.272e-05\u001b[0m/\u001b[0m5.272e-05\u001b[0m (rms/max) Trust = 4.883e-05 (=) Grad = \u001b[0m6.353e-05\u001b[0m/\u001b[0m8.528e-05\u001b[0m (rms/max) E (change) = -107.3479166303 (\u001b[0m-2.667e-08\u001b[0m) Quality = \u001b[0m0.336\u001b[0m\n",
      "Hessian Eigenvalues: 1.05344e-02 5.00000e-02 5.00000e-02 ... 5.00000e-02 5.00000e-02 3.89753e-01\n"
     ]
    },
    {
     "name": "stdout",
     "output_type": "stream",
     "text": [
      "\n",
      "Geometry optimization cycle 34\n",
      "Cartesian coordinates (Angstrom)\n",
      " Atom        New coordinates             dX        dY        dZ\n",
      "  Li  -2.617873  -0.000000   0.000000   -0.000473 -0.000000  0.000000\n",
      "   F  -4.177563  -0.000000  -0.000000   -0.000578 -0.000000 -0.000000\n",
      "converged SCF energy = -107.34791665002\n",
      "--------------- SCF_Scanner gradients ---------------\n",
      "         x                y                z\n",
      "0 Li     0.0000610621     0.0000000000     0.0000000000\n",
      "1 F     0.0000517593     0.0000000000    -0.0000000000\n",
      "----------------------------------------------\n",
      "cycle 34: E = -107.34791665  dE = -1.97103e-08  norm(grad) = 8.00475e-05\n"
     ]
    },
    {
     "name": "stderr",
     "output_type": "stream",
     "text": [
      "Step   33 : Displace = \u001b[0m5.232e-05\u001b[0m/\u001b[0m5.232e-05\u001b[0m (rms/max) Trust = 4.883e-05 (=) Grad = \u001b[0m5.660e-05\u001b[0m/\u001b[0m6.106e-05\u001b[0m (rms/max) E (change) = -107.3479166500 (\u001b[0m-1.971e-08\u001b[0m) Quality = \u001b[0m0.175\u001b[0m\n",
      "Hessian Eigenvalues: 5.17373e-03 5.00000e-02 5.00000e-02 ... 5.00000e-02 5.00000e-02 5.32161e-01\n"
     ]
    },
    {
     "name": "stdout",
     "output_type": "stream",
     "text": [
      "\n",
      "Geometry optimization cycle 35\n",
      "Cartesian coordinates (Angstrom)\n",
      " Atom        New coordinates             dX        dY        dZ\n",
      "  Li  -2.618325  -0.000000   0.000000   -0.000452 -0.000000 -0.000000\n",
      "   F  -4.178064  -0.000000  -0.000000   -0.000501 -0.000000  0.000000\n",
      "converged SCF energy = -107.347916656773\n",
      "--------------- SCF_Scanner gradients ---------------\n",
      "         x                y                z\n",
      "0 Li     0.0000764179     0.0000000000     0.0000000000\n",
      "1 F     0.0000360543     0.0000000000     0.0000000000\n",
      "----------------------------------------------\n",
      "cycle 35: E = -107.347916657  dE = -6.75257e-09  norm(grad) = 8.44962e-05\n"
     ]
    },
    {
     "name": "stderr",
     "output_type": "stream",
     "text": [
      "Step   34 : Displace = \u001b[0m2.439e-05\u001b[0m/\u001b[0m2.439e-05\u001b[0m (rms/max) Trust = 2.441e-05 (\u001b[91m-\u001b[0m) Grad = \u001b[0m5.975e-05\u001b[0m/\u001b[0m7.642e-05\u001b[0m (rms/max) E (change) = -107.3479166568 (\u001b[92m-6.753e-09\u001b[0m) Quality = \u001b[0m0.068\u001b[0m\n",
      "Hessian Eigenvalues: 1.65643e-03 5.00000e-02 5.00000e-02 ... 5.00000e-02 5.00000e-02 6.13244e-01\n"
     ]
    },
    {
     "name": "stdout",
     "output_type": "stream",
     "text": [
      "\n",
      "Geometry optimization cycle 36\n",
      "Cartesian coordinates (Angstrom)\n",
      " Atom        New coordinates             dX        dY        dZ\n",
      "  Li  -2.618926  -0.000000   0.000000   -0.000602 -0.000000 -0.000000\n",
      "   F  -4.178690  -0.000000  -0.000000   -0.000626 -0.000000 -0.000000\n",
      "converged SCF energy = -107.34791665989\n",
      "--------------- SCF_Scanner gradients ---------------\n",
      "         x                y                z\n",
      "0 Li     0.0000839275     0.0000000000     0.0000000000\n",
      "1 F     0.0000283744     0.0000000000    -0.0000000000\n",
      "----------------------------------------------\n",
      "cycle 36: E = -107.34791666  dE = -3.11734e-09  norm(grad) = 8.85942e-05\n"
     ]
    },
    {
     "name": "stderr",
     "output_type": "stream",
     "text": [
      "Step   35 : Displace = \u001b[0m1.211e-05\u001b[0m/\u001b[92m1.211e-05\u001b[0m (rms/max) Trust = 1.221e-05 (\u001b[91m-\u001b[0m) Grad = \u001b[0m6.265e-05\u001b[0m/\u001b[0m8.393e-05\u001b[0m (rms/max) E (change) = -107.3479166599 (\u001b[92m-3.117e-09\u001b[0m) Quality = \u001b[0m0.024\u001b[0m\n",
      "Hessian Eigenvalues: 3.24218e-04 5.00000e-02 5.00000e-02 ... 5.00000e-02 5.00000e-02 5.30166e-01\n"
     ]
    },
    {
     "name": "stdout",
     "output_type": "stream",
     "text": [
      "\n",
      "Geometry optimization cycle 37\n",
      "Cartesian coordinates (Angstrom)\n",
      " Atom        New coordinates             dX        dY        dZ\n",
      "  Li  -2.620783  -0.000000   0.000000   -0.001857 -0.000000 -0.000000\n",
      "   F  -4.180568  -0.000000  -0.000000   -0.001878 -0.000000  0.000000\n",
      "converged SCF energy = -107.347916662194\n",
      "--------------- SCF_Scanner gradients ---------------\n",
      "         x                y                z\n",
      "0 Li     0.0000906940     0.0000000000     0.0000000000\n",
      "1 F     0.0000214545     0.0000000000     0.0000000000\n",
      "----------------------------------------------\n",
      "cycle 37: E = -107.347916662  dE = -2.30364e-09  norm(grad) = 9.31971e-05\n"
     ]
    },
    {
     "name": "stderr",
     "output_type": "stream",
     "text": [
      "Step   36 : Displace = \u001b[92m1.080e-05\u001b[0m/\u001b[92m1.080e-05\u001b[0m (rms/max) Trust = 1.200e-05 (\u001b[91m-\u001b[0m) Grad = \u001b[0m6.590e-05\u001b[0m/\u001b[0m9.069e-05\u001b[0m (rms/max) E (change) = -107.3479166622 (\u001b[92m-2.304e-09\u001b[0m) Quality = \u001b[0m0.006\u001b[0m\n",
      "Hessian Eigenvalues: 5.73143e-05 5.00000e-02 5.00000e-02 ... 5.00000e-02 5.00000e-02 4.37006e-01\n"
     ]
    },
    {
     "name": "stdout",
     "output_type": "stream",
     "text": [
      "\n",
      "Geometry optimization cycle 38\n",
      "Cartesian coordinates (Angstrom)\n",
      " Atom        New coordinates             dX        dY        dZ\n",
      "  Li  -2.629537  -0.000000   0.000000   -0.008754 -0.000000 -0.000000\n",
      "   F  -4.189343  -0.000000  -0.000000   -0.008775 -0.000000  0.000000\n",
      "converged SCF energy = -107.3479166641\n",
      "--------------- SCF_Scanner gradients ---------------\n",
      "         x                y                z\n",
      "0 Li     0.0000970556     0.0000000000     0.0000000000\n",
      "1 F     0.0000149486     0.0000000000     0.0000000000\n",
      "----------------------------------------------\n",
      "cycle 38: E = -107.347916664  dE = -1.906e-09  norm(grad) = 9.82e-05\n"
     ]
    },
    {
     "name": "stderr",
     "output_type": "stream",
     "text": [
      "Step   37 : Displace = \u001b[92m1.014e-05\u001b[0m/\u001b[92m1.014e-05\u001b[0m (rms/max) Trust = 1.200e-05 (\u001b[91m-\u001b[0m) Grad = \u001b[0m6.944e-05\u001b[0m/\u001b[0m9.706e-05\u001b[0m (rms/max) E (change) = -107.3479166641 (\u001b[92m-1.906e-09\u001b[0m) Quality = \u001b[0m0.001\u001b[0m\n",
      "Eigenvalues below 1.0000e-05 (9.2217e-06) - returning guess\n",
      "Hessian Eigenvalues: 5.00000e-02 5.00000e-02 5.00000e-02 ... 5.00000e-02 5.00000e-02 3.02018e-01\n"
     ]
    },
    {
     "name": "stdout",
     "output_type": "stream",
     "text": [
      "\n",
      "Geometry optimization cycle 39\n",
      "Cartesian coordinates (Angstrom)\n",
      " Atom        New coordinates             dX        dY        dZ\n",
      "  Li  -2.629634  -0.000000   0.000000   -0.000097 -0.000000 -0.000000\n",
      "   F  -4.189416  -0.000000  -0.000000   -0.000074 -0.000000 -0.000000\n",
      "converged SCF energy = -107.347916661889\n",
      "--------------- SCF_Scanner gradients ---------------\n",
      "         x                y                z\n",
      "0 Li     0.0000898348     0.0000000000    -0.0000000000\n",
      "1 F     0.0000223331     0.0000000000    -0.0000000000\n",
      "----------------------------------------------\n",
      "cycle 39: E = -107.347916662  dE = 2.21038e-09  norm(grad) = 9.25692e-05\n"
     ]
    },
    {
     "name": "stderr",
     "output_type": "stream",
     "text": [
      "Step   38 : Displace = \u001b[92m1.146e-05\u001b[0m/\u001b[92m1.146e-05\u001b[0m (rms/max) Trust = 1.200e-05 (\u001b[91m-\u001b[0m) Grad = \u001b[0m6.546e-05\u001b[0m/\u001b[0m8.983e-05\u001b[0m (rms/max) E (change) = -107.3479166619 (\u001b[91m+2.210e-09\u001b[0m) Quality = \u001b[91m-0.117\u001b[0m\n",
      "Hessian Eigenvalues: 5.82710e-03 5.00000e-02 5.00000e-02 ... 5.00000e-02 5.00000e-02 4.03535e-01\n"
     ]
    },
    {
     "name": "stdout",
     "output_type": "stream",
     "text": [
      "\n",
      "Geometry optimization cycle 40\n",
      "Cartesian coordinates (Angstrom)\n",
      " Atom        New coordinates             dX        dY        dZ\n",
      "  Li  -2.629751  -0.000000   0.000000   -0.000118 -0.000000  0.000000\n",
      "   F  -4.189509  -0.000000  -0.000000   -0.000092 -0.000000  0.000000\n",
      "converged SCF energy = -107.347916659167\n",
      "--------------- SCF_Scanner gradients ---------------\n",
      "         x                y                z\n",
      "0 Li     0.0000819551     0.0000000000    -0.0000000000\n",
      "1 F     0.0000303915     0.0000000000     0.0000000000\n",
      "----------------------------------------------\n",
      "cycle 40: E = -107.347916659  dE = 2.72229e-09  norm(grad) = 8.74087e-05\n"
     ]
    },
    {
     "name": "stderr",
     "output_type": "stream",
     "text": [
      "Step   39 : Displace = \u001b[0m1.263e-05\u001b[0m/\u001b[92m1.263e-05\u001b[0m (rms/max) Trust = 1.200e-05 (\u001b[91m-\u001b[0m) Grad = \u001b[0m6.181e-05\u001b[0m/\u001b[0m8.196e-05\u001b[0m (rms/max) E (change) = -107.3479166592 (\u001b[91m+2.722e-09\u001b[0m) Quality = \u001b[91m-0.115\u001b[0m\n",
      "Hessian Eigenvalues: 5.04642e-03 5.00000e-02 5.00000e-02 ... 5.00000e-02 5.00000e-02 4.57542e-01\n"
     ]
    },
    {
     "name": "stdout",
     "output_type": "stream",
     "text": [
      "\n",
      "Geometry optimization cycle 41\n",
      "Cartesian coordinates (Angstrom)\n",
      " Atom        New coordinates             dX        dY        dZ\n",
      "  Li  -2.629892  -0.000000   0.000000   -0.000140 -0.000000  0.000000\n",
      "   F  -4.189624  -0.000000  -0.000000   -0.000116 -0.000000 -0.000000\n",
      "converged SCF energy = -107.347916656125\n",
      "--------------- SCF_Scanner gradients ---------------\n",
      "         x                y                z\n",
      "0 Li     0.0000742992     0.0000000000    -0.0000000000\n",
      "1 F     0.0000382211     0.0000000000    -0.0000000000\n",
      "----------------------------------------------\n",
      "cycle 41: E = -107.347916656  dE = 3.04168e-09  norm(grad) = 8.35537e-05\n"
     ]
    },
    {
     "name": "stderr",
     "output_type": "stream",
     "text": [
      "Step   40 : Displace = \u001b[0m1.223e-05\u001b[0m/\u001b[92m1.223e-05\u001b[0m (rms/max) Trust = 1.200e-05 (\u001b[91m-\u001b[0m) Grad = \u001b[0m5.908e-05\u001b[0m/\u001b[0m7.430e-05\u001b[0m (rms/max) E (change) = -107.3479166561 (\u001b[91m+3.042e-09\u001b[0m) Quality = \u001b[91m-0.108\u001b[0m\n",
      "Hessian Eigenvalues: 3.58326e-03 5.00000e-02 5.00000e-02 ... 5.00000e-02 5.00000e-02 5.91934e-01\n"
     ]
    },
    {
     "name": "stdout",
     "output_type": "stream",
     "text": [
      "\n",
      "Geometry optimization cycle 42\n",
      "Cartesian coordinates (Angstrom)\n",
      " Atom        New coordinates             dX        dY        dZ\n",
      "  Li  -2.630079  -0.000000   0.000000   -0.000187 -0.000000 -0.000000\n",
      "   F  -4.189786  -0.000000  -0.000000   -0.000162 -0.000000  0.000000\n",
      "converged SCF energy = -107.347916652551\n",
      "--------------- SCF_Scanner gradients ---------------\n",
      "         x                y                z\n",
      "0 Li     0.0000662967     0.0000000000     0.0000000000\n",
      "1 F     0.0000464054     0.0000000000     0.0000000000\n",
      "----------------------------------------------\n",
      "cycle 42: E = -107.347916653  dE = 3.57387e-09  norm(grad) = 8.09241e-05\n"
     ]
    },
    {
     "name": "stderr",
     "output_type": "stream",
     "text": [
      "Step   41 : Displace = \u001b[0m1.272e-05\u001b[0m/\u001b[92m1.272e-05\u001b[0m (rms/max) Trust = 1.200e-05 (\u001b[91m-\u001b[0m) Grad = \u001b[0m5.722e-05\u001b[0m/\u001b[0m6.630e-05\u001b[0m (rms/max) E (change) = -107.3479166526 (\u001b[91m+3.574e-09\u001b[0m) Quality = \u001b[91m-0.095\u001b[0m\n",
      "Hessian Eigenvalues: 2.21301e-03 5.00000e-02 5.00000e-02 ... 5.00000e-02 5.00000e-02 7.82253e-01\n"
     ]
    },
    {
     "name": "stdout",
     "output_type": "stream",
     "text": [
      "\n",
      "Geometry optimization cycle 43\n",
      "Cartesian coordinates (Angstrom)\n",
      " Atom        New coordinates             dX        dY        dZ\n",
      "  Li  -2.630301  -0.000000   0.000000   -0.000222 -0.000000 -0.000000\n",
      "   F  -4.189985  -0.000000  -0.000000   -0.000199 -0.000000 -0.000000\n",
      "converged SCF energy = -107.347916649116\n",
      "--------------- SCF_Scanner gradients ---------------\n",
      "         x                y                z\n",
      "0 Li     0.0000592533     0.0000000000     0.0000000000\n",
      "1 F     0.0000536087     0.0000000000     0.0000000000\n",
      "----------------------------------------------\n",
      "cycle 43: E = -107.347916649  dE = 3.43537e-09  norm(grad) = 7.99052e-05\n"
     ]
    },
    {
     "name": "stderr",
     "output_type": "stream",
     "text": [
      "Step   42 : Displace = \u001b[92m1.129e-05\u001b[0m/\u001b[92m1.129e-05\u001b[0m (rms/max) Trust = 1.200e-05 (\u001b[91m-\u001b[0m) Grad = \u001b[0m5.650e-05\u001b[0m/\u001b[0m5.925e-05\u001b[0m (rms/max) E (change) = -107.3479166491 (\u001b[91m+3.435e-09\u001b[0m) Quality = \u001b[91m-0.076\u001b[0m\n",
      "Hessian Eigenvalues: 1.18006e-03 5.00000e-02 5.00000e-02 ... 5.00000e-02 5.00000e-02 9.79643e-01\n"
     ]
    },
    {
     "name": "stdout",
     "output_type": "stream",
     "text": [
      "\n",
      "Geometry optimization cycle 44\n",
      "Cartesian coordinates (Angstrom)\n",
      " Atom        New coordinates             dX        dY        dZ\n",
      "  Li  -2.630624  -0.000000   0.000000   -0.000323 -0.000000  0.000000\n",
      "   F  -4.190284  -0.000000  -0.000000   -0.000299 -0.000000 -0.000000\n",
      "converged SCF energy = -107.347916645021\n",
      "--------------- SCF_Scanner gradients ---------------\n",
      "         x                y                z\n",
      "0 Li     0.0000516163     0.0000000000     0.0000000000\n",
      "1 F     0.0000614192     0.0000000000     0.0000000000\n",
      "----------------------------------------------\n",
      "cycle 44: E = -107.347916645  dE = 4.09543e-09  norm(grad) = 8.02282e-05\n"
     ]
    },
    {
     "name": "stderr",
     "output_type": "stream",
     "text": [
      "Step   43 : Displace = \u001b[0m1.220e-05\u001b[0m/\u001b[92m1.220e-05\u001b[0m (rms/max) Trust = 1.200e-05 (\u001b[91m-\u001b[0m) Grad = \u001b[0m5.673e-05\u001b[0m/\u001b[0m6.142e-05\u001b[0m (rms/max) E (change) = -107.3479166450 (\u001b[91m+4.095e-09\u001b[0m) Quality = \u001b[91m-0.062\u001b[0m\n",
      "Hessian Eigenvalues: 5.80330e-04 5.00000e-02 5.00000e-02 ... 5.00000e-02 5.00000e-02 1.13286e+00\n"
     ]
    },
    {
     "name": "stdout",
     "output_type": "stream",
     "text": [
      "\n",
      "Geometry optimization cycle 45\n",
      "Cartesian coordinates (Angstrom)\n",
      " Atom        New coordinates             dX        dY        dZ\n",
      "  Li  -2.631091  -0.000000   0.000000   -0.000468 -0.000000  0.000000\n",
      "   F  -4.190727  -0.000000  -0.000000   -0.000443 -0.000000  0.000000\n",
      "converged SCF energy = -107.347916640389\n",
      "--------------- SCF_Scanner gradients ---------------\n",
      "         x                y                z\n",
      "0 Li     0.0000436866     0.0000000000     0.0000000000\n",
      "1 F     0.0000695292     0.0000000000     0.0000000000\n",
      "----------------------------------------------\n",
      "cycle 45: E = -107.34791664  dE = 4.63136e-09  norm(grad) = 8.21148e-05\n"
     ]
    },
    {
     "name": "stderr",
     "output_type": "stream",
     "text": [
      "Step   44 : Displace = \u001b[0m1.260e-05\u001b[0m/\u001b[92m1.260e-05\u001b[0m (rms/max) Trust = 1.200e-05 (\u001b[91m-\u001b[0m) Grad = \u001b[0m5.806e-05\u001b[0m/\u001b[0m6.953e-05\u001b[0m (rms/max) E (change) = -107.3479166404 (\u001b[91m+4.631e-09\u001b[0m) Quality = \u001b[91m-0.048\u001b[0m\n",
      "Hessian Eigenvalues: 2.32639e-04 5.00000e-02 5.00000e-02 ... 5.00000e-02 5.00000e-02 1.18638e+00\n"
     ]
    },
    {
     "name": "stdout",
     "output_type": "stream",
     "text": [
      "\n",
      "Geometry optimization cycle 46\n",
      "Cartesian coordinates (Angstrom)\n",
      " Atom        New coordinates             dX        dY        dZ\n",
      "  Li  -2.631768  -0.000000   0.000000   -0.000677 -0.000000 -0.000000\n",
      "   F  -4.191379  -0.000000  -0.000000   -0.000653 -0.000000 -0.000000\n",
      "converged SCF energy = -107.347916635681\n",
      "--------------- SCF_Scanner gradients ---------------\n",
      "         x                y                z\n",
      "0 Li     0.0000361966     0.0000000000    -0.0000000000\n",
      "1 F     0.0000771895     0.0000000000     0.0000000000\n",
      "----------------------------------------------\n",
      "cycle 46: E = -107.347916636  dE = 4.70826e-09  norm(grad) = 8.5255e-05\n"
     ]
    },
    {
     "name": "stderr",
     "output_type": "stream",
     "text": [
      "Step   45 : Displace = \u001b[92m1.199e-05\u001b[0m/\u001b[92m1.199e-05\u001b[0m (rms/max) Trust = 1.200e-05 (\u001b[91m-\u001b[0m) Grad = \u001b[0m6.028e-05\u001b[0m/\u001b[0m7.719e-05\u001b[0m (rms/max) E (change) = -107.3479166357 (\u001b[91m+4.708e-09\u001b[0m) Quality = \u001b[91m-0.033\u001b[0m\n",
      "Hessian Eigenvalues: 5.05394e-05 5.00000e-02 5.00000e-02 ... 5.00000e-02 5.00000e-02 1.15696e+00\n"
     ]
    },
    {
     "name": "stdout",
     "output_type": "stream",
     "text": [
      "\n",
      "Geometry optimization cycle 47\n",
      "Cartesian coordinates (Angstrom)\n",
      " Atom        New coordinates             dX        dY        dZ\n",
      "  Li  -2.632897  -0.000000   0.000000   -0.001128 -0.000000  0.000000\n",
      "   F  -4.192484  -0.000000  -0.000000   -0.001104 -0.000000 -0.000000\n",
      "converged SCF energy = -107.347916630601\n",
      "--------------- SCF_Scanner gradients ---------------\n",
      "         x                y                z\n",
      "0 Li     0.0000286921     0.0000000000     0.0000000000\n",
      "1 F     0.0000848646     0.0000000000     0.0000000000\n",
      "----------------------------------------------\n",
      "cycle 47: E = -107.347916631  dE = 5.08045e-09  norm(grad) = 8.95837e-05\n"
     ]
    },
    {
     "name": "stderr",
     "output_type": "stream",
     "text": [
      "Step   46 : Displace = \u001b[92m1.198e-05\u001b[0m/\u001b[92m1.198e-05\u001b[0m (rms/max) Trust = 1.200e-05 (\u001b[91m-\u001b[0m) Grad = \u001b[0m6.335e-05\u001b[0m/\u001b[0m8.486e-05\u001b[0m (rms/max) E (change) = -107.3479166306 (\u001b[91m+5.080e-09\u001b[0m) Quality = \u001b[91m-0.021\u001b[0m\n",
      "Eigenvalues below 1.0000e-05 (-3.1604e+00) - returning guess\n",
      "Hessian Eigenvalues: 5.00000e-02 5.00000e-02 5.00000e-02 ... 5.00000e-02 5.00000e-02 3.02018e-01\n"
     ]
    },
    {
     "name": "stdout",
     "output_type": "stream",
     "text": [
      "\n",
      "Geometry optimization cycle 48\n",
      "Cartesian coordinates (Angstrom)\n",
      " Atom        New coordinates             dX        dY        dZ\n",
      "  Li  -2.633053  -0.000000   0.000000   -0.000157 -0.000000 -0.000000\n",
      "   F  -4.192665  -0.000000  -0.000000   -0.000181 -0.000000 -0.000000\n",
      "converged SCF energy = -107.347916635739\n",
      "--------------- SCF_Scanner gradients ---------------\n",
      "         x                y                z\n",
      "0 Li     0.0000363277     0.0000000000    -0.0000000000\n",
      "1 F     0.0000770556     0.0000000000    -0.0000000000\n",
      "----------------------------------------------\n",
      "cycle 48: E = -107.347916636  dE = -5.13816e-09  norm(grad) = 8.51896e-05\n"
     ]
    },
    {
     "name": "stderr",
     "output_type": "stream",
     "text": [
      "Step   47 : Displace = \u001b[0m1.223e-05\u001b[0m/\u001b[92m1.223e-05\u001b[0m (rms/max) Trust = 1.200e-05 (\u001b[91m-\u001b[0m) Grad = \u001b[0m6.024e-05\u001b[0m/\u001b[0m7.706e-05\u001b[0m (rms/max) E (change) = -107.3479166357 (\u001b[92m-5.138e-09\u001b[0m) Quality = \u001b[0m0.148\u001b[0m\n",
      "Hessian Eigenvalues: 2.60532e-03 5.00000e-02 5.00000e-02 ... 5.00000e-02 5.00000e-02 4.15766e-01\n"
     ]
    },
    {
     "name": "stdout",
     "output_type": "stream",
     "text": [
      "\n",
      "Geometry optimization cycle 49\n",
      "Cartesian coordinates (Angstrom)\n",
      " Atom        New coordinates             dX        dY        dZ\n",
      "  Li  -2.633243  -0.000000   0.000000   -0.000189 -0.000000  0.000000\n",
      "   F  -4.192880  -0.000000  -0.000000   -0.000215 -0.000000  0.000000\n",
      "converged SCF energy = -107.34791664077\n",
      "--------------- SCF_Scanner gradients ---------------\n",
      "         x                y                z\n",
      "0 Li     0.0000443011     0.0000000000     0.0000000000\n",
      "1 F     0.0000689008     0.0000000000     0.0000000000\n",
      "----------------------------------------------\n",
      "cycle 49: E = -107.347916641  dE = -5.0309e-09  norm(grad) = 8.1914e-05\n"
     ]
    },
    {
     "name": "stderr",
     "output_type": "stream",
     "text": [
      "Step   48 : Displace = \u001b[0m1.267e-05\u001b[0m/\u001b[92m1.267e-05\u001b[0m (rms/max) Trust = 1.200e-05 (\u001b[91m-\u001b[0m) Grad = \u001b[0m5.792e-05\u001b[0m/\u001b[0m6.890e-05\u001b[0m (rms/max) E (change) = -107.3479166408 (\u001b[92m-5.031e-09\u001b[0m) Quality = \u001b[0m0.114\u001b[0m\n",
      "Hessian Eigenvalues: 2.17253e-03 5.00000e-02 5.00000e-02 ... 5.00000e-02 5.00000e-02 4.77868e-01\n"
     ]
    },
    {
     "name": "stdout",
     "output_type": "stream",
     "text": [
      "\n",
      "Geometry optimization cycle 50\n",
      "Cartesian coordinates (Angstrom)\n",
      " Atom        New coordinates             dX        dY        dZ\n",
      "  Li  -2.633524  -0.000000   0.000000   -0.000281 -0.000000 -0.000000\n",
      "   F  -4.193187  -0.000000  -0.000000   -0.000308 -0.000000 -0.000000\n",
      "converged SCF energy = -107.347916645545\n",
      "--------------- SCF_Scanner gradients ---------------\n",
      "         x                y                z\n",
      "0 Li     0.0000525545     0.0000000000     0.0000000000\n",
      "1 F     0.0000604599     0.0000000000     0.0000000000\n",
      "----------------------------------------------\n",
      "cycle 50: E = -107.347916646  dE = -4.7756e-09  norm(grad) = 8.01085e-05\n"
     ]
    },
    {
     "name": "stderr",
     "output_type": "stream",
     "text": [
      "Step   49 : Displace = \u001b[0m1.318e-05\u001b[0m/\u001b[92m1.318e-05\u001b[0m (rms/max) Trust = 1.200e-05 (\u001b[91m-\u001b[0m) Grad = \u001b[0m5.665e-05\u001b[0m/\u001b[0m6.046e-05\u001b[0m (rms/max) E (change) = -107.3479166455 (\u001b[92m-4.776e-09\u001b[0m) Quality = \u001b[0m0.076\u001b[0m\n",
      "Hessian Eigenvalues: 1.30037e-03 5.00000e-02 5.00000e-02 ... 5.00000e-02 5.00000e-02 6.03806e-01\n"
     ]
    },
    {
     "name": "stdout",
     "output_type": "stream",
     "text": [
      "\n",
      "Geometry optimization cycle 51\n",
      "Cartesian coordinates (Angstrom)\n",
      " Atom        New coordinates             dX        dY        dZ\n",
      "  Li  -2.633884  -0.000000   0.000000   -0.000361 -0.000000 -0.000000\n",
      "   F  -4.193569  -0.000000  -0.000000   -0.000382 -0.000000  0.000000\n",
      "converged SCF energy = -107.347916649146\n",
      "--------------- SCF_Scanner gradients ---------------\n",
      "         x                y                z\n",
      "0 Li     0.0000593815     0.0000000000    -0.0000000000\n",
      "1 F     0.0000534777     0.0000000000     0.0000000000\n",
      "----------------------------------------------\n",
      "cycle 51: E = -107.347916649  dE = -3.6012e-09  norm(grad) = 7.99126e-05\n"
     ]
    },
    {
     "name": "stderr",
     "output_type": "stream",
     "text": [
      "Step   50 : Displace = \u001b[92m1.085e-05\u001b[0m/\u001b[92m1.085e-05\u001b[0m (rms/max) Trust = 1.200e-05 (\u001b[91m-\u001b[0m) Grad = \u001b[0m5.651e-05\u001b[0m/\u001b[0m5.938e-05\u001b[0m (rms/max) E (change) = -107.3479166491 (\u001b[92m-3.601e-09\u001b[0m) Quality = \u001b[0m0.045\u001b[0m\n",
      "Hessian Eigenvalues: 6.58897e-04 5.00000e-02 5.00000e-02 ... 5.00000e-02 5.00000e-02 7.14057e-01\n"
     ]
    },
    {
     "name": "stdout",
     "output_type": "stream",
     "text": [
      "\n",
      "Geometry optimization cycle 52\n",
      "Cartesian coordinates (Angstrom)\n",
      " Atom        New coordinates             dX        dY        dZ\n",
      "  Li  -2.634555  -0.000000   0.000000   -0.000670 -0.000000  0.000000\n",
      "   F  -4.194265  -0.000000  -0.000000   -0.000695 -0.000000 -0.000000\n",
      "converged SCF energy = -107.347916653018\n",
      "--------------- SCF_Scanner gradients ---------------\n",
      "         x                y                z\n",
      "0 Li     0.0000672602     0.0000000000    -0.0000000000\n",
      "1 F     0.0000454201     0.0000000000    -0.0000000000\n",
      "----------------------------------------------\n",
      "cycle 52: E = -107.347916653  dE = -3.87112e-09  norm(grad) = 8.11598e-05\n"
     ]
    },
    {
     "name": "stderr",
     "output_type": "stream",
     "text": [
      "Step   51 : Displace = \u001b[0m1.261e-05\u001b[0m/\u001b[92m1.261e-05\u001b[0m (rms/max) Trust = 1.200e-05 (\u001b[91m-\u001b[0m) Grad = \u001b[0m5.739e-05\u001b[0m/\u001b[0m6.726e-05\u001b[0m (rms/max) E (change) = -107.3479166530 (\u001b[92m-3.871e-09\u001b[0m) Quality = \u001b[0m0.027\u001b[0m\n",
      "Hessian Eigenvalues: 3.17166e-04 5.00000e-02 5.00000e-02 ... 5.00000e-02 5.00000e-02 7.74444e-01\n"
     ]
    },
    {
     "name": "stdout",
     "output_type": "stream",
     "text": [
      "\n",
      "Geometry optimization cycle 53\n",
      "Cartesian coordinates (Angstrom)\n",
      " Atom        New coordinates             dX        dY        dZ\n",
      "  Li  -2.635684  -0.000000   0.000000   -0.001129 -0.000000  0.000000\n",
      "   F  -4.195418  -0.000000  -0.000000   -0.001153 -0.000000  0.000000\n",
      "converged SCF energy = -107.347916656322\n",
      "--------------- SCF_Scanner gradients ---------------\n",
      "         x                y                z\n",
      "0 Li     0.0000747620     0.0000000000    -0.0000000000\n",
      "1 F     0.0000377481     0.0000000000     0.0000000000\n",
      "----------------------------------------------\n",
      "cycle 53: E = -107.347916656  dE = -3.30419e-09  norm(grad) = 8.37512e-05\n"
     ]
    },
    {
     "name": "stderr",
     "output_type": "stream",
     "text": [
      "Step   52 : Displace = \u001b[92m1.199e-05\u001b[0m/\u001b[92m1.199e-05\u001b[0m (rms/max) Trust = 1.200e-05 (\u001b[91m-\u001b[0m) Grad = \u001b[0m5.922e-05\u001b[0m/\u001b[0m7.476e-05\u001b[0m (rms/max) E (change) = -107.3479166563 (\u001b[92m-3.304e-09\u001b[0m) Quality = \u001b[0m0.014\u001b[0m\n",
      "Hessian Eigenvalues: 1.36341e-04 5.00000e-02 5.00000e-02 ... 5.00000e-02 5.00000e-02 7.51696e-01\n"
     ]
    },
    {
     "name": "stdout",
     "output_type": "stream",
     "text": [
      "\n",
      "Geometry optimization cycle 54\n",
      "Cartesian coordinates (Angstrom)\n",
      " Atom        New coordinates             dX        dY        dZ\n",
      "  Li  -2.638096  -0.000000   0.000000   -0.002412 -0.000000  0.000000\n",
      "   F  -4.197856  -0.000000  -0.000000   -0.002438 -0.000000 -0.000000\n",
      "converged SCF energy = -107.34791665945\n",
      "--------------- SCF_Scanner gradients ---------------\n",
      "         x                y                z\n",
      "0 Li     0.0000828556     0.0000000000     0.0000000000\n",
      "1 F     0.0000294706     0.0000000000     0.0000000000\n",
      "----------------------------------------------\n",
      "cycle 54: E = -107.347916659  dE = -3.12863e-09  norm(grad) = 8.79407e-05\n"
     ]
    },
    {
     "name": "stderr",
     "output_type": "stream",
     "text": [
      "Step   53 : Displace = \u001b[0m1.286e-05\u001b[0m/\u001b[92m1.286e-05\u001b[0m (rms/max) Trust = 1.200e-05 (\u001b[91m-\u001b[0m) Grad = \u001b[0m6.218e-05\u001b[0m/\u001b[0m8.286e-05\u001b[0m (rms/max) E (change) = -107.3479166595 (\u001b[92m-3.129e-09\u001b[0m) Quality = \u001b[0m0.006\u001b[0m\n",
      "Hessian Eigenvalues: 5.44326e-05 5.00000e-02 5.00000e-02 ... 5.00000e-02 5.00000e-02 6.90855e-01\n"
     ]
    },
    {
     "name": "stdout",
     "output_type": "stream",
     "text": [
      "\n",
      "Geometry optimization cycle 55\n",
      "Cartesian coordinates (Angstrom)\n",
      " Atom        New coordinates             dX        dY        dZ\n",
      "  Li  -2.643663  -0.000000   0.000000   -0.005566 -0.000000 -0.000000\n",
      "   F  -4.203446  -0.000000  -0.000000   -0.005590 -0.000000 -0.000000\n",
      "converged SCF energy = -107.347916662073\n",
      "--------------- SCF_Scanner gradients ---------------\n",
      "         x                y                z\n",
      "0 Li     0.0000903206     0.0000000000     0.0000000000\n",
      "1 F     0.0000218363     0.0000000000    -0.0000000000\n",
      "----------------------------------------------\n",
      "cycle 55: E = -107.347916662  dE = -2.62295e-09  norm(grad) = 9.29227e-05\n"
     ]
    },
    {
     "name": "stderr",
     "output_type": "stream",
     "text": [
      "Step   54 : Displace = \u001b[92m1.197e-05\u001b[0m/\u001b[92m1.197e-05\u001b[0m (rms/max) Trust = 1.200e-05 (\u001b[91m-\u001b[0m) Grad = \u001b[0m6.571e-05\u001b[0m/\u001b[0m9.032e-05\u001b[0m (rms/max) E (change) = -107.3479166621 (\u001b[92m-2.623e-09\u001b[0m) Quality = \u001b[0m0.002\u001b[0m\n",
      "Hessian Eigenvalues: 1.82957e-05 5.00000e-02 5.00000e-02 ... 5.00000e-02 5.00000e-02 6.13908e-01\n"
     ]
    },
    {
     "name": "stdout",
     "output_type": "stream",
     "text": [
      "\n",
      "Geometry optimization cycle 56\n",
      "Cartesian coordinates (Angstrom)\n",
      " Atom        New coordinates             dX        dY        dZ\n",
      "  Li  -2.660822  -0.000000   0.000000   -0.017160 -0.000000 -0.000000\n",
      "   F  -4.220630  -0.000000  -0.000000   -0.017184 -0.000000 -0.000000\n",
      "converged SCF energy = -107.347916664319\n",
      "--------------- SCF_Scanner gradients ---------------\n",
      "         x                y                z\n",
      "0 Li     0.0000978276     0.0000000000     0.0000000000\n",
      "1 F     0.0000141592     0.0000000000     0.0000000000\n",
      "----------------------------------------------\n",
      "cycle 56: E = -107.347916664  dE = -2.24554e-09  norm(grad) = 9.8847e-05\n"
     ]
    },
    {
     "name": "stderr",
     "output_type": "stream",
     "text": [
      "Step   55 : Displace = \u001b[92m1.200e-05\u001b[0m/\u001b[92m1.200e-05\u001b[0m (rms/max) Trust = 1.200e-05 (\u001b[91m-\u001b[0m) Grad = \u001b[0m6.990e-05\u001b[0m/\u001b[0m9.783e-05\u001b[0m (rms/max) E (change) = -107.3479166643 (\u001b[92m-2.246e-09\u001b[0m) Quality = \u001b[0m0.001\u001b[0m\n",
      "Eigenvalues below 1.0000e-05 (5.4754e-06) - returning guess\n",
      "Hessian Eigenvalues: 5.00000e-02 5.00000e-02 5.00000e-02 ... 5.00000e-02 5.00000e-02 3.02018e-01\n"
     ]
    },
    {
     "name": "stdout",
     "output_type": "stream",
     "text": [
      "\n",
      "Geometry optimization cycle 57\n",
      "Cartesian coordinates (Angstrom)\n",
      " Atom        New coordinates             dX        dY        dZ\n",
      "  Li  -2.660916  -0.000000   0.000000   -0.000094 -0.000000 -0.000000\n",
      "   F  -4.220701  -0.000000  -0.000000   -0.000071 -0.000000 -0.000000\n",
      "converged SCF energy = -107.34791666215\n",
      "--------------- SCF_Scanner gradients ---------------\n",
      "         x                y                z\n",
      "0 Li     0.0000907190     0.0000000000     0.0000000000\n",
      "1 F     0.0000214287     0.0000000000    -0.0000000000\n",
      "----------------------------------------------\n",
      "cycle 57: E = -107.347916662  dE = 2.16926e-09  norm(grad) = 9.32155e-05\n"
     ]
    },
    {
     "name": "stderr",
     "output_type": "stream",
     "text": [
      "Step   56 : Displace = \u001b[92m1.140e-05\u001b[0m/\u001b[92m1.140e-05\u001b[0m (rms/max) Trust = 1.200e-05 (\u001b[91m-\u001b[0m) Grad = \u001b[0m6.591e-05\u001b[0m/\u001b[0m9.072e-05\u001b[0m (rms/max) E (change) = -107.3479166621 (\u001b[91m+2.169e-09\u001b[0m) Quality = \u001b[91m-0.118\u001b[0m\n",
      "Hessian Eigenvalues: 6.08843e-03 5.00000e-02 5.00000e-02 ... 5.00000e-02 5.00000e-02 3.97866e-01\n"
     ]
    },
    {
     "name": "stdout",
     "output_type": "stream",
     "text": [
      "\n",
      "Geometry optimization cycle 58\n",
      "Cartesian coordinates (Angstrom)\n",
      " Atom        New coordinates             dX        dY        dZ\n",
      "  Li  -2.661030  -0.000000   0.000000   -0.000114 -0.000000 -0.000000\n",
      "   F  -4.220790  -0.000000  -0.000000   -0.000089 -0.000000  0.000000\n",
      "converged SCF energy = -107.347916659471\n",
      "--------------- SCF_Scanner gradients ---------------\n",
      "         x                y                z\n",
      "0 Li     0.0000827747     0.0000000000    -0.0000000000\n",
      "1 F     0.0000295533     0.0000000000     0.0000000000\n",
      "----------------------------------------------\n",
      "cycle 58: E = -107.347916659  dE = 2.67865e-09  norm(grad) = 8.78923e-05\n"
     ]
    },
    {
     "name": "stderr",
     "output_type": "stream",
     "text": [
      "Step   57 : Displace = \u001b[0m1.263e-05\u001b[0m/\u001b[92m1.263e-05\u001b[0m (rms/max) Trust = 1.200e-05 (\u001b[91m-\u001b[0m) Grad = \u001b[0m6.215e-05\u001b[0m/\u001b[0m8.277e-05\u001b[0m (rms/max) E (change) = -107.3479166595 (\u001b[91m+2.679e-09\u001b[0m) Quality = \u001b[91m-0.116\u001b[0m\n",
      "Hessian Eigenvalues: 5.37106e-03 5.00000e-02 5.00000e-02 ... 5.00000e-02 5.00000e-02 4.51632e-01\n"
     ]
    },
    {
     "name": "stdout",
     "output_type": "stream",
     "text": [
      "\n",
      "Geometry optimization cycle 59\n",
      "Cartesian coordinates (Angstrom)\n",
      " Atom        New coordinates             dX        dY        dZ\n",
      "  Li  -2.661167  -0.000000   0.000000   -0.000136 -0.000000  0.000000\n",
      "   F  -4.220902  -0.000000  -0.000000   -0.000112 -0.000000 -0.000000\n",
      "converged SCF energy = -107.347916656464\n",
      "--------------- SCF_Scanner gradients ---------------\n",
      "         x                y                z\n",
      "0 Li     0.0000751065     0.0000000000    -0.0000000000\n",
      "1 F     0.0000373955     0.0000000000     0.0000000000\n",
      "----------------------------------------------\n",
      "cycle 59: E = -107.347916656  dE = 3.0071e-09  norm(grad) = 8.39012e-05\n"
     ]
    },
    {
     "name": "stderr",
     "output_type": "stream",
     "text": [
      "Step   58 : Displace = \u001b[0m1.225e-05\u001b[0m/\u001b[92m1.225e-05\u001b[0m (rms/max) Trust = 1.200e-05 (\u001b[91m-\u001b[0m) Grad = \u001b[0m5.933e-05\u001b[0m/\u001b[0m7.511e-05\u001b[0m (rms/max) E (change) = -107.3479166565 (\u001b[91m+3.007e-09\u001b[0m) Quality = \u001b[91m-0.110\u001b[0m\n",
      "Hessian Eigenvalues: 3.80692e-03 5.00000e-02 5.00000e-02 ... 5.00000e-02 5.00000e-02 5.82397e-01\n"
     ]
    },
    {
     "name": "stdout",
     "output_type": "stream",
     "text": [
      "\n",
      "Geometry optimization cycle 60\n",
      "Cartesian coordinates (Angstrom)\n",
      " Atom        New coordinates             dX        dY        dZ\n",
      "  Li  -2.661350  -0.000000   0.000000   -0.000183 -0.000000  0.000000\n",
      "   F  -4.221059  -0.000000  -0.000000   -0.000157 -0.000000  0.000000\n",
      "converged SCF energy = -107.347916652911\n",
      "--------------- SCF_Scanner gradients ---------------\n",
      "         x                y                z\n",
      "0 Li     0.0000670410     0.0000000000     0.0000000000\n",
      "1 F     0.0000456441     0.0000000000    -0.0000000000\n",
      "----------------------------------------------\n",
      "cycle 60: E = -107.347916653  dE = 3.55247e-09  norm(grad) = 8.11042e-05\n"
     ]
    },
    {
     "name": "stderr",
     "output_type": "stream",
     "text": [
      "Step   59 : Displace = \u001b[0m1.283e-05\u001b[0m/\u001b[92m1.283e-05\u001b[0m (rms/max) Trust = 1.200e-05 (\u001b[91m-\u001b[0m) Grad = \u001b[0m5.735e-05\u001b[0m/\u001b[0m6.704e-05\u001b[0m (rms/max) E (change) = -107.3479166529 (\u001b[91m+3.552e-09\u001b[0m) Quality = \u001b[91m-0.096\u001b[0m\n",
      "Hessian Eigenvalues: 2.37356e-03 5.00000e-02 5.00000e-02 ... 5.00000e-02 5.00000e-02 7.69117e-01\n"
     ]
    },
    {
     "name": "stdout",
     "output_type": "stream",
     "text": [
      "\n",
      "Geometry optimization cycle 61\n",
      "Cartesian coordinates (Angstrom)\n",
      " Atom        New coordinates             dX        dY        dZ\n",
      "  Li  -2.661565  -0.000000   0.000000   -0.000216 -0.000000 -0.000000\n",
      "   F  -4.221252  -0.000000  -0.000000   -0.000193 -0.000000  0.000000\n",
      "converged SCF energy = -107.347916649074\n",
      "--------------- SCF_Scanner gradients ---------------\n",
      "         x                y                z\n",
      "0 Li     0.0000600346     0.0000000000     0.0000000000\n",
      "1 F     0.0000528094     0.0000000000     0.0000000000\n",
      "----------------------------------------------\n",
      "cycle 61: E = -107.347916649  dE = 3.8375e-09  norm(grad) = 7.99561e-05\n"
     ]
    },
    {
     "name": "stderr",
     "output_type": "stream",
     "text": [
      "Step   60 : Displace = \u001b[92m1.137e-05\u001b[0m/\u001b[92m1.137e-05\u001b[0m (rms/max) Trust = 1.200e-05 (\u001b[91m-\u001b[0m) Grad = \u001b[0m5.654e-05\u001b[0m/\u001b[0m6.003e-05\u001b[0m (rms/max) E (change) = -107.3479166491 (\u001b[91m+3.837e-09\u001b[0m) Quality = \u001b[91m-0.088\u001b[0m\n",
      "Hessian Eigenvalues: 1.27178e-03 5.00000e-02 5.00000e-02 ... 5.00000e-02 5.00000e-02 9.64811e-01\n"
     ]
    },
    {
     "name": "stdout",
     "output_type": "stream",
     "text": [
      "\n",
      "Geometry optimization cycle 62\n",
      "Cartesian coordinates (Angstrom)\n",
      " Atom        New coordinates             dX        dY        dZ\n",
      "  Li  -2.661875  -0.000000   0.000000   -0.000309 -0.000000 -0.000000\n",
      "   F  -4.221537  -0.000000  -0.000000   -0.000285 -0.000000 -0.000000\n",
      "converged SCF energy = -107.347916645411\n",
      "--------------- SCF_Scanner gradients ---------------\n",
      "         x                y                z\n",
      "0 Li     0.0000523102     0.0000000000     0.0000000000\n",
      "1 F     0.0000607096     0.0000000000    -0.0000000000\n",
      "----------------------------------------------\n",
      "cycle 62: E = -107.347916645  dE = 3.66296e-09  norm(grad) = 8.01375e-05\n"
     ]
    },
    {
     "name": "stderr",
     "output_type": "stream",
     "text": [
      "Step   61 : Displace = \u001b[0m1.217e-05\u001b[0m/\u001b[92m1.217e-05\u001b[0m (rms/max) Trust = 1.200e-05 (\u001b[91m-\u001b[0m) Grad = \u001b[0m5.667e-05\u001b[0m/\u001b[0m6.071e-05\u001b[0m (rms/max) E (change) = -107.3479166454 (\u001b[91m+3.663e-09\u001b[0m) Quality = \u001b[91m-0.058\u001b[0m\n",
      "Hessian Eigenvalues: 6.50792e-04 5.00000e-02 5.00000e-02 ... 5.00000e-02 5.00000e-02 1.12607e+00\n"
     ]
    },
    {
     "name": "stdout",
     "output_type": "stream",
     "text": [
      "\n",
      "Geometry optimization cycle 63\n",
      "Cartesian coordinates (Angstrom)\n",
      " Atom        New coordinates             dX        dY        dZ\n",
      "  Li  -2.662321  -0.000000   0.000000   -0.000446 -0.000000  0.000000\n",
      "   F  -4.221958  -0.000000  -0.000000   -0.000421 -0.000000  0.000000\n",
      "converged SCF energy = -107.347916640858\n",
      "--------------- SCF_Scanner gradients ---------------\n",
      "         x                y                z\n",
      "0 Li     0.0000444426     0.0000000000     0.0000000000\n",
      "1 F     0.0000687560     0.0000000000     0.0000000000\n",
      "----------------------------------------------\n",
      "cycle 63: E = -107.347916641  dE = 4.55339e-09  norm(grad) = 8.1869e-05\n"
     ]
    },
    {
     "name": "stderr",
     "output_type": "stream",
     "text": [
      "Step   62 : Displace = \u001b[0m1.255e-05\u001b[0m/\u001b[92m1.255e-05\u001b[0m (rms/max) Trust = 1.200e-05 (\u001b[91m-\u001b[0m) Grad = \u001b[0m5.789e-05\u001b[0m/\u001b[0m6.876e-05\u001b[0m (rms/max) E (change) = -107.3479166409 (\u001b[91m+4.553e-09\u001b[0m) Quality = \u001b[91m-0.049\u001b[0m\n",
      "Hessian Eigenvalues: 2.63847e-04 5.00000e-02 5.00000e-02 ... 5.00000e-02 5.00000e-02 1.18702e+00\n"
     ]
    },
    {
     "name": "stdout",
     "output_type": "stream",
     "text": [
      "\n",
      "Geometry optimization cycle 64\n",
      "Cartesian coordinates (Angstrom)\n",
      " Atom        New coordinates             dX        dY        dZ\n",
      "  Li  -2.662963  -0.000000   0.000000   -0.000642 -0.000000 -0.000000\n",
      "   F  -4.222577  -0.000000  -0.000000   -0.000618 -0.000000 -0.000000\n",
      "converged SCF energy = -107.347916636151\n",
      "--------------- SCF_Scanner gradients ---------------\n",
      "         x                y                z\n",
      "0 Li     0.0000369143     0.0000000000     0.0000000000\n",
      "1 F     0.0000764554     0.0000000000     0.0000000000\n",
      "----------------------------------------------\n",
      "cycle 64: E = -107.347916636  dE = 4.70666e-09  norm(grad) = 8.49005e-05\n"
     ]
    },
    {
     "name": "stderr",
     "output_type": "stream",
     "text": [
      "Step   63 : Displace = \u001b[92m1.199e-05\u001b[0m/\u001b[92m1.199e-05\u001b[0m (rms/max) Trust = 1.200e-05 (\u001b[91m-\u001b[0m) Grad = \u001b[0m6.003e-05\u001b[0m/\u001b[0m7.646e-05\u001b[0m (rms/max) E (change) = -107.3479166362 (\u001b[91m+4.707e-09\u001b[0m) Quality = \u001b[91m-0.035\u001b[0m\n",
      "Hessian Eigenvalues: 6.38637e-05 5.00000e-02 5.00000e-02 ... 5.00000e-02 5.00000e-02 1.14856e+00\n"
     ]
    },
    {
     "name": "stdout",
     "output_type": "stream",
     "text": [
      "\n",
      "Geometry optimization cycle 65\n",
      "Cartesian coordinates (Angstrom)\n",
      " Atom        New coordinates             dX        dY        dZ\n",
      "  Li  -2.664030  -0.000000   0.000000   -0.001067 -0.000000 -0.000000\n",
      "   F  -4.223619  -0.000000  -0.000000   -0.001043 -0.000000  0.000000\n",
      "converged SCF energy = -107.347916631036\n",
      "--------------- SCF_Scanner gradients ---------------\n",
      "         x                y                z\n",
      "0 Li     0.0000294539     0.0000000000     0.0000000000\n",
      "1 F     0.0000840854     0.0000000000     0.0000000000\n",
      "----------------------------------------------\n",
      "cycle 65: E = -107.347916631  dE = 5.11474e-09  norm(grad) = 8.90948e-05\n"
     ]
    },
    {
     "name": "stderr",
     "output_type": "stream",
     "text": [
      "Step   64 : Displace = \u001b[92m1.198e-05\u001b[0m/\u001b[92m1.198e-05\u001b[0m (rms/max) Trust = 1.200e-05 (\u001b[91m-\u001b[0m) Grad = \u001b[0m6.300e-05\u001b[0m/\u001b[0m8.409e-05\u001b[0m (rms/max) E (change) = -107.3479166310 (\u001b[91m+5.115e-09\u001b[0m) Quality = \u001b[91m-0.023\u001b[0m\n",
      "Eigenvalues below 1.0000e-05 (2.6061e-08) - returning guess\n",
      "Hessian Eigenvalues: 5.00000e-02 5.00000e-02 5.00000e-02 ... 5.00000e-02 5.00000e-02 3.02018e-01\n"
     ]
    },
    {
     "name": "stdout",
     "output_type": "stream",
     "text": [
      "\n",
      "Geometry optimization cycle 66\n",
      "Cartesian coordinates (Angstrom)\n",
      " Atom        New coordinates             dX        dY        dZ\n",
      "  Li  -2.664168  -0.000000   0.000000   -0.000138 -0.000000 -0.000000\n",
      "   F  -4.223779  -0.000000  -0.000000   -0.000160 -0.000000 -0.000000\n",
      "converged SCF energy = -107.347916635768\n",
      "--------------- SCF_Scanner gradients ---------------\n",
      "         x                y                z\n",
      "0 Li     0.0000363362     0.0000000000    -0.0000000000\n",
      "1 F     0.0000770468     0.0000000000     0.0000000000\n",
      "----------------------------------------------\n",
      "cycle 66: E = -107.347916636  dE = -4.73155e-09  norm(grad) = 8.51853e-05\n"
     ]
    },
    {
     "name": "stderr",
     "output_type": "stream",
     "text": [
      "Step   65 : Displace = \u001b[92m1.104e-05\u001b[0m/\u001b[92m1.104e-05\u001b[0m (rms/max) Trust = 1.200e-05 (\u001b[91m-\u001b[0m) Grad = \u001b[0m6.024e-05\u001b[0m/\u001b[0m7.705e-05\u001b[0m (rms/max) E (change) = -107.3479166358 (\u001b[92m-4.732e-09\u001b[0m) Quality = \u001b[0m0.153\u001b[0m\n",
      "Hessian Eigenvalues: 2.70682e-03 5.00000e-02 5.00000e-02 ... 5.00000e-02 5.00000e-02 4.14829e-01\n"
     ]
    },
    {
     "name": "stdout",
     "output_type": "stream",
     "text": [
      "\n",
      "Geometry optimization cycle 67\n",
      "Cartesian coordinates (Angstrom)\n",
      " Atom        New coordinates             dX        dY        dZ\n",
      "  Li  -2.664354  -0.000000   0.000000   -0.000186 -0.000000  0.000000\n",
      "   F  -4.223991  -0.000000  -0.000000   -0.000212 -0.000000 -0.000000\n",
      "converged SCF energy = -107.34791664074\n",
      "--------------- SCF_Scanner gradients ---------------\n",
      "         x                y                z\n",
      "0 Li     0.0000442479     0.0000000000    -0.0000000000\n",
      "1 F     0.0000689553     0.0000000000     0.0000000000\n",
      "----------------------------------------------\n",
      "cycle 67: E = -107.347916641  dE = -4.97214e-09  norm(grad) = 8.19311e-05\n"
     ]
    },
    {
     "name": "stderr",
     "output_type": "stream",
     "text": [
      "Step   66 : Displace = \u001b[0m1.263e-05\u001b[0m/\u001b[92m1.263e-05\u001b[0m (rms/max) Trust = 1.200e-05 (\u001b[91m-\u001b[0m) Grad = \u001b[0m5.793e-05\u001b[0m/\u001b[0m6.896e-05\u001b[0m (rms/max) E (change) = -107.3479166407 (\u001b[92m-4.972e-09\u001b[0m) Quality = \u001b[0m0.115\u001b[0m\n",
      "Hessian Eigenvalues: 2.21516e-03 5.00000e-02 5.00000e-02 ... 5.00000e-02 5.00000e-02 4.80661e-01\n"
     ]
    },
    {
     "name": "stdout",
     "output_type": "stream",
     "text": [
      "\n",
      "Geometry optimization cycle 68\n",
      "Cartesian coordinates (Angstrom)\n",
      " Atom        New coordinates             dX        dY        dZ\n",
      "  Li  -2.664631  -0.000000   0.000000   -0.000276 -0.000000  0.000000\n",
      "   F  -4.224294  -0.000000  -0.000000   -0.000303 -0.000000 -0.000000\n",
      "converged SCF energy = -107.347916645476\n",
      "--------------- SCF_Scanner gradients ---------------\n",
      "         x                y                z\n",
      "0 Li     0.0000525063     0.0000000000     0.0000000000\n",
      "1 F     0.0000605091     0.0000000000     0.0000000000\n",
      "----------------------------------------------\n",
      "cycle 68: E = -107.347916645  dE = -4.73605e-09  norm(grad) = 8.01141e-05\n"
     ]
    },
    {
     "name": "stderr",
     "output_type": "stream",
     "text": [
      "Step   67 : Displace = \u001b[0m1.313e-05\u001b[0m/\u001b[92m1.313e-05\u001b[0m (rms/max) Trust = 1.200e-05 (\u001b[91m-\u001b[0m) Grad = \u001b[0m5.665e-05\u001b[0m/\u001b[0m6.051e-05\u001b[0m (rms/max) E (change) = -107.3479166455 (\u001b[92m-4.736e-09\u001b[0m) Quality = \u001b[0m0.076\u001b[0m\n",
      "Hessian Eigenvalues: 1.33768e-03 5.00000e-02 5.00000e-02 ... 5.00000e-02 5.00000e-02 6.07908e-01\n"
     ]
    },
    {
     "name": "stdout",
     "output_type": "stream",
     "text": [
      "\n",
      "Geometry optimization cycle 69\n",
      "Cartesian coordinates (Angstrom)\n",
      " Atom        New coordinates             dX        dY        dZ\n",
      "  Li  -2.664986  -0.000000   0.000000   -0.000355 -0.000000 -0.000000\n",
      "   F  -4.224671  -0.000000  -0.000000   -0.000377 -0.000000 -0.000000\n",
      "converged SCF energy = -107.347916649123\n",
      "--------------- SCF_Scanner gradients ---------------\n",
      "         x                y                z\n",
      "0 Li     0.0000592742     0.0000000000     0.0000000000\n",
      "1 F     0.0000535875     0.0000000000    -0.0000000000\n",
      "----------------------------------------------\n",
      "cycle 69: E = -107.347916649  dE = -3.64713e-09  norm(grad) = 7.99065e-05\n"
     ]
    },
    {
     "name": "stderr",
     "output_type": "stream",
     "text": [
      "Step   68 : Displace = \u001b[92m1.084e-05\u001b[0m/\u001b[92m1.084e-05\u001b[0m (rms/max) Trust = 1.200e-05 (\u001b[91m-\u001b[0m) Grad = \u001b[0m5.650e-05\u001b[0m/\u001b[0m5.927e-05\u001b[0m (rms/max) E (change) = -107.3479166491 (\u001b[92m-3.647e-09\u001b[0m) Quality = \u001b[0m0.047\u001b[0m\n",
      "Hessian Eigenvalues: 6.69773e-04 5.00000e-02 5.00000e-02 ... 5.00000e-02 5.00000e-02 7.17353e-01\n"
     ]
    },
    {
     "name": "stdout",
     "output_type": "stream",
     "text": [
      "\n",
      "Geometry optimization cycle 70\n",
      "Cartesian coordinates (Angstrom)\n",
      " Atom        New coordinates             dX        dY        dZ\n",
      "  Li  -2.665643  -0.000000   0.000000   -0.000657 -0.000000 -0.000000\n",
      "   F  -4.225353  -0.000000  -0.000000   -0.000682 -0.000000  0.000000\n",
      "converged SCF energy = -107.347916652973\n",
      "--------------- SCF_Scanner gradients ---------------\n",
      "         x                y                z\n",
      "0 Li     0.0000671603     0.0000000000     0.0000000000\n",
      "1 F     0.0000455223     0.0000000000     0.0000000000\n",
      "----------------------------------------------\n",
      "cycle 70: E = -107.347916653  dE = -3.84954e-09  norm(grad) = 8.11344e-05\n"
     ]
    },
    {
     "name": "stderr",
     "output_type": "stream",
     "text": [
      "Step   69 : Displace = \u001b[0m1.260e-05\u001b[0m/\u001b[92m1.260e-05\u001b[0m (rms/max) Trust = 1.200e-05 (\u001b[91m-\u001b[0m) Grad = \u001b[0m5.737e-05\u001b[0m/\u001b[0m6.716e-05\u001b[0m (rms/max) E (change) = -107.3479166530 (\u001b[92m-3.850e-09\u001b[0m) Quality = \u001b[0m0.027\u001b[0m\n",
      "Hessian Eigenvalues: 3.27234e-04 5.00000e-02 5.00000e-02 ... 5.00000e-02 5.00000e-02 7.78085e-01\n"
     ]
    },
    {
     "name": "stdout",
     "output_type": "stream",
     "text": [
      "\n",
      "Geometry optimization cycle 71\n",
      "Cartesian coordinates (Angstrom)\n",
      " Atom        New coordinates             dX        dY        dZ\n",
      "  Li  -2.666748  -0.000000   0.000000   -0.001105 -0.000000  0.000000\n",
      "   F  -4.226482  -0.000000  -0.000000   -0.001129 -0.000000 -0.000000\n",
      "converged SCF energy = -107.347916656256\n",
      "--------------- SCF_Scanner gradients ---------------\n",
      "         x                y                z\n",
      "0 Li     0.0000747029     0.0000000000     0.0000000000\n",
      "1 F     0.0000378084     0.0000000000    -0.0000000000\n",
      "----------------------------------------------\n",
      "cycle 71: E = -107.347916656  dE = -3.28329e-09  norm(grad) = 8.37257e-05\n"
     ]
    },
    {
     "name": "stderr",
     "output_type": "stream",
     "text": [
      "Step   70 : Displace = \u001b[92m1.199e-05\u001b[0m/\u001b[92m1.199e-05\u001b[0m (rms/max) Trust = 1.200e-05 (\u001b[91m-\u001b[0m) Grad = \u001b[0m5.920e-05\u001b[0m/\u001b[0m7.470e-05\u001b[0m (rms/max) E (change) = -107.3479166563 (\u001b[92m-3.283e-09\u001b[0m) Quality = \u001b[0m0.014\u001b[0m\n",
      "Hessian Eigenvalues: 1.41423e-04 5.00000e-02 5.00000e-02 ... 5.00000e-02 5.00000e-02 7.56196e-01\n"
     ]
    },
    {
     "name": "stdout",
     "output_type": "stream",
     "text": [
      "\n",
      "Geometry optimization cycle 72\n",
      "Cartesian coordinates (Angstrom)\n",
      " Atom        New coordinates             dX        dY        dZ\n",
      "  Li  -2.669092  -0.000000   0.000000   -0.002344 -0.000000  0.000000\n",
      "   F  -4.228851  -0.000000  -0.000000   -0.002369 -0.000000 -0.000000\n",
      "converged SCF energy = -107.347916659433\n",
      "--------------- SCF_Scanner gradients ---------------\n",
      "         x                y                z\n",
      "0 Li     0.0000826799     0.0000000000    -0.0000000000\n",
      "1 F     0.0000296504     0.0000000000     0.0000000000\n",
      "----------------------------------------------\n",
      "cycle 72: E = -107.347916659  dE = -3.17763e-09  norm(grad) = 8.78357e-05\n"
     ]
    },
    {
     "name": "stderr",
     "output_type": "stream",
     "text": [
      "Step   71 : Displace = \u001b[0m1.278e-05\u001b[0m/\u001b[92m1.278e-05\u001b[0m (rms/max) Trust = 1.200e-05 (\u001b[91m-\u001b[0m) Grad = \u001b[0m6.211e-05\u001b[0m/\u001b[0m8.268e-05\u001b[0m (rms/max) E (change) = -107.3479166594 (\u001b[92m-3.178e-09\u001b[0m) Quality = \u001b[0m0.006\u001b[0m\n",
      "Hessian Eigenvalues: 5.55463e-05 5.00000e-02 5.00000e-02 ... 5.00000e-02 5.00000e-02 6.93974e-01\n"
     ]
    },
    {
     "name": "stdout",
     "output_type": "stream",
     "text": [
      "\n",
      "Geometry optimization cycle 73\n",
      "Cartesian coordinates (Angstrom)\n",
      " Atom        New coordinates             dX        dY        dZ\n",
      "  Li  -2.674490  -0.000000   0.000000   -0.005398 -0.000000  0.000000\n",
      "   F  -4.234273  -0.000000  -0.000000   -0.005422 -0.000000 -0.000000\n",
      "converged SCF energy = -107.347916662025\n",
      "--------------- SCF_Scanner gradients ---------------\n",
      "         x                y                z\n",
      "0 Li     0.0000901700     0.0000000000     0.0000000000\n",
      "1 F     0.0000219904     0.0000000000    -0.0000000000\n",
      "----------------------------------------------\n",
      "cycle 73: E = -107.347916662  dE = -2.59131e-09  norm(grad) = 9.28128e-05\n"
     ]
    },
    {
     "name": "stderr",
     "output_type": "stream",
     "text": [
      "Step   72 : Displace = \u001b[92m1.197e-05\u001b[0m/\u001b[92m1.197e-05\u001b[0m (rms/max) Trust = 1.200e-05 (\u001b[91m-\u001b[0m) Grad = \u001b[0m6.563e-05\u001b[0m/\u001b[0m9.017e-05\u001b[0m (rms/max) E (change) = -107.3479166620 (\u001b[92m-2.591e-09\u001b[0m) Quality = \u001b[0m0.002\u001b[0m\n",
      "Hessian Eigenvalues: 1.90050e-05 5.00000e-02 5.00000e-02 ... 5.00000e-02 5.00000e-02 6.15139e-01\n"
     ]
    },
    {
     "name": "stdout",
     "output_type": "stream",
     "text": [
      "\n",
      "Geometry optimization cycle 74\n",
      "Cartesian coordinates (Angstrom)\n",
      " Atom        New coordinates             dX        dY        dZ\n",
      "  Li  -2.691074  -0.000000   0.000000   -0.016584 -0.000000  0.000000\n",
      "   F  -4.250881  -0.000000  -0.000000   -0.016608 -0.000000 -0.000000\n",
      "converged SCF energy = -107.347916664245\n",
      "--------------- SCF_Scanner gradients ---------------\n",
      "         x                y                z\n",
      "0 Li     0.0000977204     0.0000000000     0.0000000000\n",
      "1 F     0.0000142687     0.0000000000     0.0000000000\n",
      "----------------------------------------------\n",
      "cycle 74: E = -107.347916664  dE = -2.22006e-09  norm(grad) = 9.87566e-05\n"
     ]
    },
    {
     "name": "stderr",
     "output_type": "stream",
     "text": [
      "Step   73 : Displace = \u001b[92m1.200e-05\u001b[0m/\u001b[92m1.200e-05\u001b[0m (rms/max) Trust = 1.200e-05 (\u001b[91m-\u001b[0m) Grad = \u001b[0m6.983e-05\u001b[0m/\u001b[0m9.772e-05\u001b[0m (rms/max) E (change) = -107.3479166642 (\u001b[92m-2.220e-09\u001b[0m) Quality = \u001b[0m0.001\u001b[0m\n",
      "Eigenvalues below 1.0000e-05 (5.7110e-06) - returning guess\n",
      "Hessian Eigenvalues: 5.00000e-02 5.00000e-02 5.00000e-02 ... 5.00000e-02 5.00000e-02 3.02018e-01\n"
     ]
    },
    {
     "name": "stdout",
     "output_type": "stream",
     "text": [
      "\n",
      "Geometry optimization cycle 75\n",
      "Cartesian coordinates (Angstrom)\n",
      " Atom        New coordinates             dX        dY        dZ\n",
      "  Li  -2.691168  -0.000000   0.000000   -0.000094 -0.000000 -0.000000\n",
      "   F  -4.250952  -0.000000  -0.000000   -0.000071 -0.000000 -0.000000\n",
      "converged SCF energy = -107.347916662145\n",
      "--------------- SCF_Scanner gradients ---------------\n",
      "         x                y                z\n",
      "0 Li     0.0000905381     0.0000000000     0.0000000000\n",
      "1 F     0.0000216138     0.0000000000     0.0000000000\n",
      "----------------------------------------------\n",
      "cycle 75: E = -107.347916662  dE = 2.09938e-09  norm(grad) = 9.30822e-05\n"
     ]
    },
    {
     "name": "stderr",
     "output_type": "stream",
     "text": [
      "Step   74 : Displace = \u001b[92m1.141e-05\u001b[0m/\u001b[92m1.141e-05\u001b[0m (rms/max) Trust = 1.200e-05 (\u001b[91m-\u001b[0m) Grad = \u001b[0m6.582e-05\u001b[0m/\u001b[0m9.054e-05\u001b[0m (rms/max) E (change) = -107.3479166621 (\u001b[91m+2.099e-09\u001b[0m) Quality = \u001b[91m-0.114\u001b[0m\n",
      "Hessian Eigenvalues: 6.07832e-03 5.00000e-02 5.00000e-02 ... 5.00000e-02 5.00000e-02 4.00131e-01\n"
     ]
    },
    {
     "name": "stdout",
     "output_type": "stream",
     "text": [
      "\n",
      "Geometry optimization cycle 76\n",
      "Cartesian coordinates (Angstrom)\n",
      " Atom        New coordinates             dX        dY        dZ\n",
      "  Li  -2.691283  -0.000000   0.000000   -0.000115 -0.000000 -0.000000\n",
      "   F  -4.251042  -0.000000  -0.000000   -0.000090 -0.000000 -0.000000\n",
      "converged SCF energy = -107.347916659415\n",
      "--------------- SCF_Scanner gradients ---------------\n",
      "         x                y                z\n",
      "0 Li     0.0000826295     0.0000000000     0.0000000000\n",
      "1 F     0.0000297018     0.0000000000     0.0000000000\n",
      "----------------------------------------------\n",
      "cycle 76: E = -107.347916659  dE = 2.73083e-09  norm(grad) = 8.78056e-05\n"
     ]
    },
    {
     "name": "stderr",
     "output_type": "stream",
     "text": [
      "Step   75 : Displace = \u001b[0m1.263e-05\u001b[0m/\u001b[92m1.263e-05\u001b[0m (rms/max) Trust = 1.200e-05 (\u001b[91m-\u001b[0m) Grad = \u001b[0m6.209e-05\u001b[0m/\u001b[0m8.263e-05\u001b[0m (rms/max) E (change) = -107.3479166594 (\u001b[91m+2.731e-09\u001b[0m) Quality = \u001b[91m-0.118\u001b[0m\n",
      "Hessian Eigenvalues: 5.29266e-03 5.00000e-02 5.00000e-02 ... 5.00000e-02 5.00000e-02 4.53380e-01\n"
     ]
    },
    {
     "name": "stdout",
     "output_type": "stream",
     "text": [
      "\n",
      "Geometry optimization cycle 77\n",
      "Cartesian coordinates (Angstrom)\n",
      " Atom        New coordinates             dX        dY        dZ\n",
      "  Li  -2.691420  -0.000000   0.000000   -0.000137 -0.000000  0.000000\n",
      "   F  -4.251154  -0.000000  -0.000000   -0.000112 -0.000000  0.000000\n",
      "converged SCF energy = -107.347916656387\n",
      "--------------- SCF_Scanner gradients ---------------\n",
      "         x                y                z\n",
      "0 Li     0.0000749336     0.0000000000     0.0000000000\n",
      "1 F     0.0000375724     0.0000000000     0.0000000000\n",
      "----------------------------------------------\n",
      "cycle 77: E = -107.347916656  dE = 3.02744e-09  norm(grad) = 8.38256e-05\n"
     ]
    },
    {
     "name": "stderr",
     "output_type": "stream",
     "text": [
      "Step   76 : Displace = \u001b[0m1.225e-05\u001b[0m/\u001b[92m1.225e-05\u001b[0m (rms/max) Trust = 1.200e-05 (\u001b[91m-\u001b[0m) Grad = \u001b[0m5.927e-05\u001b[0m/\u001b[0m7.493e-05\u001b[0m (rms/max) E (change) = -107.3479166564 (\u001b[91m+3.027e-09\u001b[0m) Quality = \u001b[91m-0.110\u001b[0m\n",
      "Hessian Eigenvalues: 3.78060e-03 5.00000e-02 5.00000e-02 ... 5.00000e-02 5.00000e-02 5.85440e-01\n"
     ]
    },
    {
     "name": "stdout",
     "output_type": "stream",
     "text": [
      "\n",
      "Geometry optimization cycle 78\n",
      "Cartesian coordinates (Angstrom)\n",
      " Atom        New coordinates             dX        dY        dZ\n",
      "  Li  -2.691603  -0.000000   0.000000   -0.000184 -0.000000 -0.000000\n",
      "   F  -4.251313  -0.000000  -0.000000   -0.000158 -0.000000 -0.000000\n",
      "converged SCF energy = -107.347916652498\n",
      "--------------- SCF_Scanner gradients ---------------\n",
      "         x                y                z\n",
      "0 Li     0.0000670280     0.0000000000     0.0000000000\n",
      "1 F     0.0000456571     0.0000000000     0.0000000000\n",
      "----------------------------------------------\n",
      "cycle 78: E = -107.347916652  dE = 3.88867e-09  norm(grad) = 8.11007e-05\n"
     ]
    },
    {
     "name": "stderr",
     "output_type": "stream",
     "text": [
      "Step   77 : Displace = \u001b[0m1.280e-05\u001b[0m/\u001b[92m1.280e-05\u001b[0m (rms/max) Trust = 1.200e-05 (\u001b[91m-\u001b[0m) Grad = \u001b[0m5.735e-05\u001b[0m/\u001b[0m6.703e-05\u001b[0m (rms/max) E (change) = -107.3479166525 (\u001b[91m+3.889e-09\u001b[0m) Quality = \u001b[91m-0.105\u001b[0m\n",
      "Hessian Eigenvalues: 2.31089e-03 5.00000e-02 5.00000e-02 ... 5.00000e-02 5.00000e-02 7.69390e-01\n"
     ]
    },
    {
     "name": "stdout",
     "output_type": "stream",
     "text": [
      "\n",
      "Geometry optimization cycle 79\n",
      "Cartesian coordinates (Angstrom)\n",
      " Atom        New coordinates             dX        dY        dZ\n",
      "  Li  -2.691819  -0.000000   0.000000   -0.000216 -0.000000 -0.000000\n",
      "   F  -4.251506  -0.000000  -0.000000   -0.000193 -0.000000 -0.000000\n",
      "converged SCF energy = -107.347916649397\n",
      "--------------- SCF_Scanner gradients ---------------\n",
      "         x                y                z\n",
      "0 Li     0.0000598072     0.0000000000     0.0000000000\n",
      "1 F     0.0000530423     0.0000000000     0.0000000000\n",
      "----------------------------------------------\n",
      "cycle 79: E = -107.347916649  dE = 3.10109e-09  norm(grad) = 7.99399e-05\n"
     ]
    },
    {
     "name": "stderr",
     "output_type": "stream",
     "text": [
      "Step   78 : Displace = \u001b[92m1.138e-05\u001b[0m/\u001b[92m1.138e-05\u001b[0m (rms/max) Trust = 1.200e-05 (\u001b[91m-\u001b[0m) Grad = \u001b[0m5.653e-05\u001b[0m/\u001b[0m5.981e-05\u001b[0m (rms/max) E (change) = -107.3479166494 (\u001b[91m+3.101e-09\u001b[0m) Quality = \u001b[91m-0.071\u001b[0m\n",
      "Hessian Eigenvalues: 1.29495e-03 5.00000e-02 5.00000e-02 ... 5.00000e-02 5.00000e-02 9.71552e-01\n"
     ]
    },
    {
     "name": "stdout",
     "output_type": "stream",
     "text": [
      "\n",
      "Geometry optimization cycle 80\n",
      "Cartesian coordinates (Angstrom)\n",
      " Atom        New coordinates             dX        dY        dZ\n",
      "  Li  -2.692132  -0.000000   0.000000   -0.000312 -0.000000  0.000000\n",
      "   F  -4.251794  -0.000000  -0.000000   -0.000288 -0.000000 -0.000000\n",
      "converged SCF energy = -107.347916645335\n",
      "--------------- SCF_Scanner gradients ---------------\n",
      "         x                y                z\n",
      "0 Li     0.0000521733     0.0000000000    -0.0000000000\n",
      "1 F     0.0000608495     0.0000000000    -0.0000000000\n",
      "----------------------------------------------\n",
      "cycle 80: E = -107.347916645  dE = 4.06247e-09  norm(grad) = 8.01543e-05\n"
     ]
    },
    {
     "name": "stderr",
     "output_type": "stream",
     "text": [
      "Step   79 : Displace = \u001b[0m1.218e-05\u001b[0m/\u001b[92m1.218e-05\u001b[0m (rms/max) Trust = 1.200e-05 (\u001b[91m-\u001b[0m) Grad = \u001b[0m5.668e-05\u001b[0m/\u001b[0m6.085e-05\u001b[0m (rms/max) E (change) = -107.3479166453 (\u001b[91m+4.062e-09\u001b[0m) Quality = \u001b[91m-0.064\u001b[0m\n",
      "Hessian Eigenvalues: 6.32379e-04 5.00000e-02 5.00000e-02 ... 5.00000e-02 5.00000e-02 1.12934e+00\n"
     ]
    },
    {
     "name": "stdout",
     "output_type": "stream",
     "text": [
      "\n",
      "Geometry optimization cycle 81\n",
      "Cartesian coordinates (Angstrom)\n",
      " Atom        New coordinates             dX        dY        dZ\n",
      "  Li  -2.692581  -0.000000   0.000000   -0.000449 -0.000000  0.000000\n",
      "   F  -4.252218  -0.000000  -0.000000   -0.000424 -0.000000  0.000000\n",
      "converged SCF energy = -107.34791664077\n",
      "--------------- SCF_Scanner gradients ---------------\n",
      "         x                y                z\n",
      "0 Li     0.0000442901     0.0000000000    -0.0000000000\n",
      "1 F     0.0000689120     0.0000000000     0.0000000000\n",
      "----------------------------------------------\n",
      "cycle 81: E = -107.347916641  dE = 4.56511e-09  norm(grad) = 8.19175e-05\n"
     ]
    },
    {
     "name": "stderr",
     "output_type": "stream",
     "text": [
      "Step   80 : Displace = \u001b[0m1.256e-05\u001b[0m/\u001b[92m1.256e-05\u001b[0m (rms/max) Trust = 1.200e-05 (\u001b[91m-\u001b[0m) Grad = \u001b[0m5.792e-05\u001b[0m/\u001b[0m6.891e-05\u001b[0m (rms/max) E (change) = -107.3479166408 (\u001b[91m+4.565e-09\u001b[0m) Quality = \u001b[91m-0.049\u001b[0m\n",
      "Hessian Eigenvalues: 2.58857e-04 5.00000e-02 5.00000e-02 ... 5.00000e-02 5.00000e-02 1.18642e+00\n"
     ]
    },
    {
     "name": "stdout",
     "output_type": "stream",
     "text": [
      "\n",
      "Geometry optimization cycle 82\n",
      "Cartesian coordinates (Angstrom)\n",
      " Atom        New coordinates             dX        dY        dZ\n",
      "  Li  -2.693229  -0.000000   0.000000   -0.000648 -0.000000  0.000000\n",
      "   F  -4.252842  -0.000000  -0.000000   -0.000624 -0.000000 -0.000000\n",
      "converged SCF energy = -107.347916635996\n",
      "--------------- SCF_Scanner gradients ---------------\n",
      "         x                y                z\n",
      "0 Li     0.0000368218     0.0000000000    -0.0000000000\n",
      "1 F     0.0000765499     0.0000000000     0.0000000000\n",
      "----------------------------------------------\n",
      "cycle 82: E = -107.347916636  dE = 4.77337e-09  norm(grad) = 8.49455e-05\n"
     ]
    },
    {
     "name": "stderr",
     "output_type": "stream",
     "text": [
      "Step   81 : Displace = \u001b[92m1.199e-05\u001b[0m/\u001b[92m1.199e-05\u001b[0m (rms/max) Trust = 1.200e-05 (\u001b[91m-\u001b[0m) Grad = \u001b[0m6.007e-05\u001b[0m/\u001b[0m7.655e-05\u001b[0m (rms/max) E (change) = -107.3479166360 (\u001b[91m+4.773e-09\u001b[0m) Quality = \u001b[91m-0.035\u001b[0m\n",
      "Hessian Eigenvalues: 6.12997e-05 5.00000e-02 5.00000e-02 ... 5.00000e-02 5.00000e-02 1.14521e+00\n"
     ]
    },
    {
     "name": "stdout",
     "output_type": "stream",
     "text": [
      "\n",
      "Geometry optimization cycle 83\n",
      "Cartesian coordinates (Angstrom)\n",
      " Atom        New coordinates             dX        dY        dZ\n",
      "  Li  -2.694306  -0.000000   0.000000   -0.001077 -0.000000 -0.000000\n",
      "   F  -4.253895  -0.000000  -0.000000   -0.001053 -0.000000 -0.000000\n",
      "converged SCF energy = -107.34791663101\n",
      "--------------- SCF_Scanner gradients ---------------\n",
      "         x                y                z\n",
      "0 Li     0.0000292703     0.0000000000     0.0000000000\n",
      "1 F     0.0000842733     0.0000000000     0.0000000000\n",
      "----------------------------------------------\n",
      "cycle 83: E = -107.347916631  dE = 4.98629e-09  norm(grad) = 8.92118e-05\n"
     ]
    },
    {
     "name": "stderr",
     "output_type": "stream",
     "text": [
      "Step   82 : Displace = \u001b[92m1.198e-05\u001b[0m/\u001b[92m1.198e-05\u001b[0m (rms/max) Trust = 1.200e-05 (\u001b[91m-\u001b[0m) Grad = \u001b[0m6.308e-05\u001b[0m/\u001b[0m8.427e-05\u001b[0m (rms/max) E (change) = -107.3479166310 (\u001b[91m+4.986e-09\u001b[0m) Quality = \u001b[91m-0.022\u001b[0m\n",
      "Eigenvalues below 1.0000e-05 (-3.9884e+02) - returning guess\n",
      "Hessian Eigenvalues: 5.00000e-02 5.00000e-02 5.00000e-02 ... 5.00000e-02 5.00000e-02 3.02018e-01\n"
     ]
    },
    {
     "name": "stdout",
     "output_type": "stream",
     "text": [
      "\n",
      "Geometry optimization cycle 84\n",
      "Cartesian coordinates (Angstrom)\n",
      " Atom        New coordinates             dX        dY        dZ\n",
      "  Li  -2.694470  -0.000000   0.000000   -0.000163 -0.000000 -0.000000\n",
      "   F  -4.254083  -0.000000  -0.000000   -0.000188 -0.000000 -0.000000\n",
      "converged SCF energy = -107.347916636171\n",
      "--------------- SCF_Scanner gradients ---------------\n",
      "         x                y                z\n",
      "0 Li     0.0000369560     0.0000000000     0.0000000000\n",
      "1 F     0.0000764130     0.0000000000    -0.0000000000\n",
      "----------------------------------------------\n",
      "cycle 84: E = -107.347916636  dE = -5.16049e-09  norm(grad) = 8.48804e-05\n"
     ]
    },
    {
     "name": "stderr",
     "output_type": "stream",
     "text": [
      "Step   83 : Displace = \u001b[0m1.225e-05\u001b[0m/\u001b[92m1.225e-05\u001b[0m (rms/max) Trust = 1.200e-05 (\u001b[91m-\u001b[0m) Grad = \u001b[0m6.002e-05\u001b[0m/\u001b[0m7.641e-05\u001b[0m (rms/max) E (change) = -107.3479166362 (\u001b[92m-5.160e-09\u001b[0m) Quality = \u001b[0m0.144\u001b[0m\n",
      "Hessian Eigenvalues: 2.45270e-03 5.00000e-02 5.00000e-02 ... 5.00000e-02 5.00000e-02 4.17738e-01\n"
     ]
    },
    {
     "name": "stdout",
     "output_type": "stream",
     "text": [
      "\n",
      "Geometry optimization cycle 85\n",
      "Cartesian coordinates (Angstrom)\n",
      " Atom        New coordinates             dX        dY        dZ\n",
      "  Li  -2.694667  -0.000000   0.000000   -0.000198 -0.000000 -0.000000\n",
      "   F  -4.254306  -0.000000  -0.000000   -0.000223 -0.000000  0.000000\n",
      "converged SCF energy = -107.347916641125\n",
      "--------------- SCF_Scanner gradients ---------------\n",
      "         x                y                z\n",
      "0 Li     0.0000448896     0.0000000000     0.0000000000\n",
      "1 F     0.0000682989     0.0000000000     0.0000000000\n",
      "----------------------------------------------\n",
      "cycle 85: E = -107.347916641  dE = -4.95459e-09  norm(grad) = 8.17302e-05\n"
     ]
    },
    {
     "name": "stderr",
     "output_type": "stream",
     "text": [
      "Step   84 : Displace = \u001b[0m1.266e-05\u001b[0m/\u001b[92m1.266e-05\u001b[0m (rms/max) Trust = 1.200e-05 (\u001b[91m-\u001b[0m) Grad = \u001b[0m5.779e-05\u001b[0m/\u001b[0m6.830e-05\u001b[0m (rms/max) E (change) = -107.3479166411 (\u001b[92m-4.955e-09\u001b[0m) Quality = \u001b[0m0.108\u001b[0m\n",
      "Hessian Eigenvalues: 2.01487e-03 5.00000e-02 5.00000e-02 ... 5.00000e-02 5.00000e-02 4.80602e-01\n"
     ]
    },
    {
     "name": "stdout",
     "output_type": "stream",
     "text": [
      "\n",
      "Geometry optimization cycle 86\n",
      "Cartesian coordinates (Angstrom)\n",
      " Atom        New coordinates             dX        dY        dZ\n",
      "  Li  -2.694960  -0.000000   0.000000   -0.000292 -0.000000 -0.000000\n",
      "   F  -4.254625  -0.000000  -0.000000   -0.000319 -0.000000 -0.000000\n",
      "converged SCF energy = -107.347916645836\n",
      "--------------- SCF_Scanner gradients ---------------\n",
      "         x                y                z\n",
      "0 Li     0.0000531062     0.0000000000     0.0000000000\n",
      "1 F     0.0000598956     0.0000000000     0.0000000000\n",
      "----------------------------------------------\n",
      "cycle 86: E = -107.347916646  dE = -4.71084e-09  norm(grad) = 8.00484e-05\n"
     ]
    },
    {
     "name": "stderr",
     "output_type": "stream",
     "text": [
      "Step   85 : Displace = \u001b[0m1.309e-05\u001b[0m/\u001b[92m1.309e-05\u001b[0m (rms/max) Trust = 1.200e-05 (\u001b[91m-\u001b[0m) Grad = \u001b[0m5.660e-05\u001b[0m/\u001b[0m5.990e-05\u001b[0m (rms/max) E (change) = -107.3479166458 (\u001b[92m-4.711e-09\u001b[0m) Quality = \u001b[0m0.072\u001b[0m\n",
      "Hessian Eigenvalues: 1.20879e-03 5.00000e-02 5.00000e-02 ... 5.00000e-02 5.00000e-02 6.06662e-01\n"
     ]
    },
    {
     "name": "stdout",
     "output_type": "stream",
     "text": [
      "\n",
      "Geometry optimization cycle 87\n",
      "Cartesian coordinates (Angstrom)\n",
      " Atom        New coordinates             dX        dY        dZ\n",
      "  Li  -2.695380  -0.000000   0.000000   -0.000420 -0.000000 -0.000000\n",
      "   F  -4.255070  -0.000000  -0.000000   -0.000445 -0.000000 -0.000000\n",
      "converged SCF energy = -107.347916649716\n",
      "--------------- SCF_Scanner gradients ---------------\n",
      "         x                y                z\n",
      "0 Li     0.0000606309     0.0000000000     0.0000000000\n",
      "1 F     0.0000522001     0.0000000000     0.0000000000\n",
      "----------------------------------------------\n",
      "cycle 87: E = -107.34791665  dE = -3.87962e-09  norm(grad) = 8.0006e-05\n"
     ]
    },
    {
     "name": "stderr",
     "output_type": "stream",
     "text": [
      "Step   86 : Displace = \u001b[0m1.212e-05\u001b[0m/\u001b[92m1.212e-05\u001b[0m (rms/max) Trust = 1.200e-05 (\u001b[91m-\u001b[0m) Grad = \u001b[0m5.657e-05\u001b[0m/\u001b[0m6.063e-05\u001b[0m (rms/max) E (change) = -107.3479166497 (\u001b[92m-3.880e-09\u001b[0m) Quality = \u001b[0m0.042\u001b[0m\n",
      "Hessian Eigenvalues: 6.07927e-04 5.00000e-02 5.00000e-02 ... 5.00000e-02 5.00000e-02 7.14326e-01\n"
     ]
    },
    {
     "name": "stdout",
     "output_type": "stream",
     "text": [
      "\n",
      "Geometry optimization cycle 88\n",
      "Cartesian coordinates (Angstrom)\n",
      " Atom        New coordinates             dX        dY        dZ\n",
      "  Li  -2.696105  -0.000000   0.000000   -0.000724 -0.000000  0.000000\n",
      "   F  -4.255820  -0.000000  -0.000000   -0.000750 -0.000000 -0.000000\n",
      "converged SCF energy = -107.34791665369\n",
      "--------------- SCF_Scanner gradients ---------------\n",
      "         x                y                z\n",
      "0 Li     0.0000687251     0.0000000000     0.0000000000\n",
      "1 F     0.0000439219     0.0000000000     0.0000000000\n",
      "----------------------------------------------\n",
      "cycle 88: E = -107.347916654  dE = -3.97415e-09  norm(grad) = 8.15615e-05\n"
     ]
    },
    {
     "name": "stderr",
     "output_type": "stream",
     "text": [
      "Step   87 : Displace = \u001b[0m1.283e-05\u001b[0m/\u001b[92m1.283e-05\u001b[0m (rms/max) Trust = 1.200e-05 (\u001b[91m-\u001b[0m) Grad = \u001b[0m5.767e-05\u001b[0m/\u001b[0m6.873e-05\u001b[0m (rms/max) E (change) = -107.3479166537 (\u001b[92m-3.974e-09\u001b[0m) Quality = \u001b[0m0.025\u001b[0m\n",
      "Hessian Eigenvalues: 2.91287e-04 5.00000e-02 5.00000e-02 ... 5.00000e-02 5.00000e-02 7.64616e-01\n"
     ]
    },
    {
     "name": "stdout",
     "output_type": "stream",
     "text": [
      "\n",
      "Geometry optimization cycle 89\n",
      "Cartesian coordinates (Angstrom)\n",
      " Atom        New coordinates             dX        dY        dZ\n",
      "  Li  -2.697347  -0.000000   0.000000   -0.001243 -0.000000 -0.000000\n",
      "   F  -4.257086  -0.000000  -0.000000   -0.001267 -0.000000  0.000000\n",
      "converged SCF energy = -107.347916656926\n",
      "--------------- SCF_Scanner gradients ---------------\n",
      "         x                y                z\n",
      "0 Li     0.0000762253     0.0000000000     0.0000000000\n",
      "1 F     0.0000362515     0.0000000000     0.0000000000\n",
      "----------------------------------------------\n",
      "cycle 89: E = -107.347916657  dE = -3.23615e-09  norm(grad) = 8.44066e-05\n"
     ]
    },
    {
     "name": "stderr",
     "output_type": "stream",
     "text": [
      "Step   88 : Displace = \u001b[92m1.198e-05\u001b[0m/\u001b[92m1.198e-05\u001b[0m (rms/max) Trust = 1.200e-05 (\u001b[91m-\u001b[0m) Grad = \u001b[0m5.968e-05\u001b[0m/\u001b[0m7.623e-05\u001b[0m (rms/max) E (change) = -107.3479166569 (\u001b[92m-3.236e-09\u001b[0m) Quality = \u001b[0m0.012\u001b[0m\n",
      "Hessian Eigenvalues: 1.18875e-04 5.00000e-02 5.00000e-02 ... 5.00000e-02 5.00000e-02 7.30942e-01\n"
     ]
    },
    {
     "name": "stdout",
     "output_type": "stream",
     "text": [
      "\n",
      "Geometry optimization cycle 90\n",
      "Cartesian coordinates (Angstrom)\n",
      " Atom        New coordinates             dX        dY        dZ\n",
      "  Li  -2.698976  -0.000000   0.000000   -0.001629 -0.000000 -0.000000\n",
      "   F  -4.258724  -0.000000  -0.000000   -0.001638 -0.000000 -0.000000\n",
      "converged SCF energy = -107.347916658045\n",
      "--------------- SCF_Scanner gradients ---------------\n",
      "         x                y                z\n",
      "0 Li     0.0000791109     0.0000000000     0.0000000000\n",
      "1 F     0.0000333002     0.0000000000    -0.0000000000\n",
      "----------------------------------------------\n",
      "cycle 90: E = -107.347916658  dE = -1.11908e-09  norm(grad) = 8.58338e-05\n"
     ]
    },
    {
     "name": "stderr",
     "output_type": "stream",
     "text": [
      "Step   89 : Displace = \u001b[92m4.563e-06\u001b[0m/\u001b[92m4.563e-06\u001b[0m (rms/max) Trust = 1.200e-05 (\u001b[91m-\u001b[0m) Grad = \u001b[0m6.069e-05\u001b[0m/\u001b[0m7.911e-05\u001b[0m (rms/max) E (change) = -107.3479166580 (\u001b[92m-1.119e-09\u001b[0m) Quality = \u001b[0m0.003\u001b[0m\n",
      "Hessian Eigenvalues: 2.48138e-05 5.00000e-02 5.00000e-02 ... 5.00000e-02 5.00000e-02 5.16671e-01\n"
     ]
    },
    {
     "name": "stdout",
     "output_type": "stream",
     "text": [
      "\n",
      "Geometry optimization cycle 91\n",
      "Cartesian coordinates (Angstrom)\n",
      " Atom        New coordinates             dX        dY        dZ\n",
      "  Li  -2.711651  -0.000000   0.000000   -0.012675 -0.000000 -0.000000\n",
      "   F  -4.271423  -0.000000  -0.000000   -0.012699 -0.000000  0.000000\n",
      "converged SCF energy = -107.347916660832\n",
      "--------------- SCF_Scanner gradients ---------------\n",
      "         x                y                z\n",
      "0 Li     0.0000865975     0.0000000000    -0.0000000000\n",
      "1 F     0.0000256439     0.0000000000     0.0000000000\n",
      "----------------------------------------------\n",
      "cycle 91: E = -107.347916661  dE = -2.78648e-09  norm(grad) = 9.03147e-05\n"
     ]
    },
    {
     "name": "stderr",
     "output_type": "stream",
     "text": [
      "Step   90 : Displace = \u001b[92m1.199e-05\u001b[0m/\u001b[92m1.199e-05\u001b[0m (rms/max) Trust = 1.200e-05 (\u001b[91m-\u001b[0m) Grad = \u001b[0m6.386e-05\u001b[0m/\u001b[0m8.660e-05\u001b[0m (rms/max) E (change) = -107.3479166608 (\u001b[92m-2.786e-09\u001b[0m) Quality = \u001b[0m0.001\u001b[0m\n",
      "Eigenvalues below 1.0000e-05 (7.4764e-06) - returning guess\n",
      "Hessian Eigenvalues: 5.00000e-02 5.00000e-02 5.00000e-02 ... 5.00000e-02 5.00000e-02 3.02018e-01\n"
     ]
    },
    {
     "name": "stdout",
     "output_type": "stream",
     "text": [
      "\n",
      "Geometry optimization cycle 92\n",
      "Cartesian coordinates (Angstrom)\n",
      " Atom        New coordinates             dX        dY        dZ\n",
      "  Li  -2.711827  -0.000000   0.000000   -0.000176 -0.000000  0.000000\n",
      "   F  -4.271573  -0.000000  -0.000000   -0.000150 -0.000000 -0.000000\n",
      "converged SCF energy = -107.347916657801\n",
      "--------------- SCF_Scanner gradients ---------------\n",
      "         x                y                z\n",
      "0 Li     0.0000783973     0.0000000000     0.0000000000\n",
      "1 F     0.0000340300     0.0000000000     0.0000000000\n",
      "----------------------------------------------\n",
      "cycle 92: E = -107.347916658  dE = 3.03039e-09  norm(grad) = 8.54645e-05\n"
     ]
    },
    {
     "name": "stderr",
     "output_type": "stream",
     "text": [
      "Step   91 : Displace = \u001b[0m1.308e-05\u001b[0m/\u001b[92m1.308e-05\u001b[0m (rms/max) Trust = 1.200e-05 (\u001b[91m-\u001b[0m) Grad = \u001b[0m6.043e-05\u001b[0m/\u001b[0m7.840e-05\u001b[0m (rms/max) E (change) = -107.3479166578 (\u001b[91m+3.030e-09\u001b[0m) Quality = \u001b[91m-0.091\u001b[0m\n",
      "Hessian Eigenvalues: 2.10891e-03 5.00000e-02 5.00000e-02 ... 5.00000e-02 5.00000e-02 4.61069e-01\n"
     ]
    },
    {
     "name": "stdout",
     "output_type": "stream",
     "text": [
      "\n",
      "Geometry optimization cycle 93\n",
      "Cartesian coordinates (Angstrom)\n",
      " Atom        New coordinates             dX        dY        dZ\n",
      "  Li  -2.712016  -0.000000   0.000000   -0.000189 -0.000000 -0.000000\n",
      "   F  -4.271737  -0.000000  -0.000000   -0.000164 -0.000000 -0.000000\n",
      "converged SCF energy = -107.347916654502\n",
      "--------------- SCF_Scanner gradients ---------------\n",
      "         x                y                z\n",
      "0 Li     0.0000705470     0.0000000000     0.0000000000\n",
      "1 F     0.0000420585     0.0000000000    -0.0000000000\n",
      "----------------------------------------------\n",
      "cycle 93: E = -107.347916655  dE = 3.29901e-09  norm(grad) = 8.21328e-05\n"
     ]
    },
    {
     "name": "stderr",
     "output_type": "stream",
     "text": [
      "Step   92 : Displace = \u001b[0m1.255e-05\u001b[0m/\u001b[92m1.255e-05\u001b[0m (rms/max) Trust = 1.200e-05 (\u001b[91m-\u001b[0m) Grad = \u001b[0m5.808e-05\u001b[0m/\u001b[0m7.055e-05\u001b[0m (rms/max) E (change) = -107.3479166545 (\u001b[91m+3.299e-09\u001b[0m) Quality = \u001b[91m-0.086\u001b[0m\n",
      "Hessian Eigenvalues: 1.77718e-03 5.00000e-02 5.00000e-02 ... 5.00000e-02 5.00000e-02 5.40480e-01\n"
     ]
    },
    {
     "name": "stdout",
     "output_type": "stream",
     "text": [
      "\n",
      "Geometry optimization cycle 94\n",
      "Cartesian coordinates (Angstrom)\n",
      " Atom        New coordinates             dX        dY        dZ\n",
      "  Li  -2.712273  -0.000000   0.000000   -0.000257 -0.000000  0.000000\n",
      "   F  -4.271968  -0.000000  -0.000000   -0.000231 -0.000000  0.000000\n",
      "converged SCF energy = -107.347916650603\n",
      "--------------- SCF_Scanner gradients ---------------\n",
      "         x                y                z\n",
      "0 Li     0.0000623137     0.0000000000     0.0000000000\n",
      "1 F     0.0000504789     0.0000000000     0.0000000000\n",
      "----------------------------------------------\n",
      "cycle 94: E = -107.347916651  dE = 3.89922e-09  norm(grad) = 8.01942e-05\n"
     ]
    },
    {
     "name": "stderr",
     "output_type": "stream",
     "text": [
      "Step   93 : Displace = \u001b[0m1.306e-05\u001b[0m/\u001b[92m1.306e-05\u001b[0m (rms/max) Trust = 1.200e-05 (\u001b[91m-\u001b[0m) Grad = \u001b[0m5.671e-05\u001b[0m/\u001b[0m6.231e-05\u001b[0m (rms/max) E (change) = -107.3479166506 (\u001b[91m+3.899e-09\u001b[0m) Quality = \u001b[91m-0.074\u001b[0m\n",
      "Hessian Eigenvalues: 1.07476e-03 5.00000e-02 5.00000e-02 ... 5.00000e-02 5.00000e-02 7.40851e-01\n"
     ]
    },
    {
     "name": "stdout",
     "output_type": "stream",
     "text": [
      "\n",
      "Geometry optimization cycle 95\n",
      "Cartesian coordinates (Angstrom)\n",
      " Atom        New coordinates             dX        dY        dZ\n",
      "  Li  -2.712575  -0.000000   0.000000   -0.000302 -0.000000 -0.000000\n",
      "   F  -4.272248  -0.000000  -0.000000   -0.000280 -0.000000 -0.000000\n",
      "converged SCF energy = -107.34791664711\n",
      "--------------- SCF_Scanner gradients ---------------\n",
      "         x                y                z\n",
      "0 Li     0.0000554256     0.0000000000     0.0000000000\n",
      "1 F     0.0000575234     0.0000000000     0.0000000000\n",
      "----------------------------------------------\n",
      "cycle 95: E = -107.347916647  dE = 3.49247e-09  norm(grad) = 7.98808e-05\n"
     ]
    },
    {
     "name": "stderr",
     "output_type": "stream",
     "text": [
      "Step   94 : Displace = \u001b[92m1.106e-05\u001b[0m/\u001b[92m1.106e-05\u001b[0m (rms/max) Trust = 1.200e-05 (\u001b[91m-\u001b[0m) Grad = \u001b[0m5.648e-05\u001b[0m/\u001b[0m5.752e-05\u001b[0m (rms/max) E (change) = -107.3479166471 (\u001b[91m+3.492e-09\u001b[0m) Quality = \u001b[91m-0.056\u001b[0m\n",
      "Hessian Eigenvalues: 5.08099e-04 5.00000e-02 5.00000e-02 ... 5.00000e-02 5.00000e-02 9.56010e-01\n"
     ]
    },
    {
     "name": "stdout",
     "output_type": "stream",
     "text": [
      "\n",
      "Geometry optimization cycle 96\n",
      "Cartesian coordinates (Angstrom)\n",
      " Atom        New coordinates             dX        dY        dZ\n",
      "  Li  -2.713043  -0.000000   0.000000   -0.000468 -0.000000 -0.000000\n",
      "   F  -4.272691  -0.000000  -0.000000   -0.000444 -0.000000 -0.000000\n",
      "converged SCF energy = -107.347916642791\n",
      "--------------- SCF_Scanner gradients ---------------\n",
      "         x                y                z\n",
      "0 Li     0.0000477094     0.0000000000     0.0000000000\n",
      "1 F     0.0000654149     0.0000000000     0.0000000000\n",
      "----------------------------------------------\n",
      "cycle 96: E = -107.347916643  dE = 4.31965e-09  norm(grad) = 8.09648e-05\n"
     ]
    },
    {
     "name": "stderr",
     "output_type": "stream",
     "text": [
      "Step   95 : Displace = \u001b[0m1.232e-05\u001b[0m/\u001b[92m1.232e-05\u001b[0m (rms/max) Trust = 1.200e-05 (\u001b[91m-\u001b[0m) Grad = \u001b[0m5.725e-05\u001b[0m/\u001b[0m6.541e-05\u001b[0m (rms/max) E (change) = -107.3479166428 (\u001b[91m+4.320e-09\u001b[0m) Quality = \u001b[91m-0.045\u001b[0m\n",
      "Hessian Eigenvalues: 2.12585e-04 5.00000e-02 5.00000e-02 ... 5.00000e-02 5.00000e-02 1.12434e+00\n"
     ]
    },
    {
     "name": "stdout",
     "output_type": "stream",
     "text": [
      "\n",
      "Geometry optimization cycle 97\n",
      "Cartesian coordinates (Angstrom)\n",
      " Atom        New coordinates             dX        dY        dZ\n",
      "  Li  -2.713752  -0.000000   0.000000   -0.000709 -0.000000  0.000000\n",
      "   F  -4.273374  -0.000000  -0.000000   -0.000683 -0.000000  0.000000\n",
      "converged SCF energy = -107.347916637845\n",
      "--------------- SCF_Scanner gradients ---------------\n",
      "         x                y                z\n",
      "0 Li     0.0000395784     0.0000000000    -0.0000000000\n",
      "1 F     0.0000737308     0.0000000000     0.0000000000\n",
      "----------------------------------------------\n",
      "cycle 97: E = -107.347916638  dE = 4.94593e-09  norm(grad) = 8.36821e-05\n"
     ]
    },
    {
     "name": "stderr",
     "output_type": "stream",
     "text": [
      "Step   96 : Displace = \u001b[0m1.292e-05\u001b[0m/\u001b[92m1.292e-05\u001b[0m (rms/max) Trust = 1.200e-05 (\u001b[91m-\u001b[0m) Grad = \u001b[0m5.917e-05\u001b[0m/\u001b[0m7.373e-05\u001b[0m (rms/max) E (change) = -107.3479166378 (\u001b[91m+4.946e-09\u001b[0m) Quality = \u001b[91m-0.033\u001b[0m\n",
      "Hessian Eigenvalues: 5.96450e-05 5.00000e-02 5.00000e-02 ... 5.00000e-02 5.00000e-02 1.22324e+00\n"
     ]
    },
    {
     "name": "stdout",
     "output_type": "stream",
     "text": [
      "\n",
      "Geometry optimization cycle 98\n",
      "Cartesian coordinates (Angstrom)\n",
      " Atom        New coordinates             dX        dY        dZ\n",
      "  Li  -2.714779  -0.000000   0.000000   -0.001027 -0.000000  0.000000\n",
      "   F  -4.274377  -0.000000  -0.000000   -0.001003 -0.000000 -0.000000\n",
      "converged SCF energy = -107.347916632945\n",
      "--------------- SCF_Scanner gradients ---------------\n",
      "         x                y                z\n",
      "0 Li     0.0000320872     0.0000000000    -0.0000000000\n",
      "1 F     0.0000813924     0.0000000000     0.0000000000\n",
      "----------------------------------------------\n",
      "cycle 98: E = -107.347916633  dE = 4.8995e-09  norm(grad) = 8.74889e-05\n"
     ]
    },
    {
     "name": "stderr",
     "output_type": "stream",
     "text": [
      "Step   97 : Displace = \u001b[92m1.199e-05\u001b[0m/\u001b[92m1.199e-05\u001b[0m (rms/max) Trust = 1.200e-05 (\u001b[91m-\u001b[0m) Grad = \u001b[0m6.186e-05\u001b[0m/\u001b[0m8.139e-05\u001b[0m (rms/max) E (change) = -107.3479166329 (\u001b[91m+4.900e-09\u001b[0m) Quality = \u001b[91m-0.023\u001b[0m\n",
      "Eigenvalues below 1.0000e-05 (5.6499e-07) - returning guess\n",
      "Hessian Eigenvalues: 5.00000e-02 5.00000e-02 5.00000e-02 ... 5.00000e-02 5.00000e-02 3.02018e-01\n"
     ]
    },
    {
     "name": "stdout",
     "output_type": "stream",
     "text": [
      "\n",
      "Geometry optimization cycle 99\n",
      "Cartesian coordinates (Angstrom)\n",
      " Atom        New coordinates             dX        dY        dZ\n",
      "  Li  -2.714985  -0.000000   0.000000   -0.000205 -0.000000  0.000000\n",
      "   F  -4.274607  -0.000000  -0.000000   -0.000230 -0.000000 -0.000000\n",
      "converged SCF energy = -107.347916638013\n",
      "--------------- SCF_Scanner gradients ---------------\n",
      "         x                y                z\n",
      "0 Li     0.0000398367     0.0000000000    -0.0000000000\n",
      "1 F     0.0000734667     0.0000000000     0.0000000000\n",
      "----------------------------------------------\n",
      "cycle 99: E = -107.347916638  dE = -5.06724e-09  norm(grad) = 8.35723e-05\n"
     ]
    },
    {
     "name": "stderr",
     "output_type": "stream",
     "text": [
      "Step   98 : Displace = \u001b[0m1.235e-05\u001b[0m/\u001b[92m1.235e-05\u001b[0m (rms/max) Trust = 1.200e-05 (\u001b[91m-\u001b[0m) Grad = \u001b[0m5.909e-05\u001b[0m/\u001b[0m7.347e-05\u001b[0m (rms/max) E (change) = -107.3479166380 (\u001b[92m-5.067e-09\u001b[0m) Quality = \u001b[0m0.117\u001b[0m\n",
      "Hessian Eigenvalues: 1.72168e-03 5.00000e-02 5.00000e-02 ... 5.00000e-02 5.00000e-02 4.22340e-01\n"
     ]
    },
    {
     "name": "stdout",
     "output_type": "stream",
     "text": [
      "\n",
      "Geometry optimization cycle 100\n",
      "Cartesian coordinates (Angstrom)\n",
      " Atom        New coordinates             dX        dY        dZ\n",
      "  Li  -2.715234  -0.000000   0.000000   -0.000249 -0.000000 -0.000000\n",
      "   F  -4.274882  -0.000000  -0.000000   -0.000274 -0.000000 -0.000000\n",
      "converged SCF energy = -107.347916642817\n",
      "--------------- SCF_Scanner gradients ---------------\n",
      "         x                y                z\n",
      "0 Li     0.0000477496     0.0000000000    -0.0000000000\n",
      "1 F     0.0000653740     0.0000000000     0.0000000000\n",
      "----------------------------------------------\n",
      "cycle 100: E = -107.347916643  dE = -4.80388e-09  norm(grad) = 8.09554e-05\n"
     ]
    },
    {
     "name": "stderr",
     "output_type": "stream",
     "text": [
      "Step   99 : Displace = \u001b[0m1.264e-05\u001b[0m/\u001b[92m1.264e-05\u001b[0m (rms/max) Trust = 1.200e-05 (\u001b[91m-\u001b[0m) Grad = \u001b[0m5.724e-05\u001b[0m/\u001b[0m6.537e-05\u001b[0m (rms/max) E (change) = -107.3479166428 (\u001b[92m-4.804e-09\u001b[0m) Quality = \u001b[0m0.085\u001b[0m\n",
      "Hessian Eigenvalues: 1.38452e-03 5.00000e-02 5.00000e-02 ... 5.00000e-02 5.00000e-02 4.89206e-01\n"
     ]
    },
    {
     "name": "stdout",
     "output_type": "stream",
     "text": [
      "Geometry optimization is not converged in 100 iterations\n",
      "converged SCF energy = -107.347916642823\n",
      "-107.34791664282267\n"
     ]
    }
   ],
   "source": [
    "import ase.io as aio\n",
    "from ase.units import Bohr\n",
    "import sys\n",
    "sys.path.insert(0, '/home/sahre/git_repositories/APDFT/prototyping/atomic_energies/')\n",
    "import utils_qm as uqm\n",
    "\n",
    "from pyscf import gto, dft, scf\n",
    "\n",
    "# geometric\n",
    "from pyscf.geomopt.geometric_solver import optimize\n",
    "\n",
    "# comps = ['CC','CN','CO','CF','NN','NO','NF','OO', 'OF', 'FF']\n",
    "path = '/data/sahre/projects/atomic-energies/data/bonding_trends/pbe0_data/tmp/LiF.xyz'\n",
    "atoms = aio.read(path)\n",
    "spin = 0\n",
    "\n",
    "pyscf_atoms = uqm.ase2pyscf(atoms)\n",
    "basis = 'def2-tzvp'\n",
    "mol = gto.Mole()\n",
    "mol.atom = pyscf_atoms\n",
    "mol.basis = basis\n",
    "mol.spin = spin\n",
    "mol.build()\n",
    "\n",
    "if spin != 0:\n",
    "    mf = dft.ROKS(mol)\n",
    "else:\n",
    "    mf = dft.RKS(mol)\n",
    "mf.xc = 'pbe0'\n",
    "mf.kernel()\n",
    "print(mf.e_tot)\n",
    "\n",
    "conv_params = { # These are the default settings\n",
    "    'convergence_energy': 1e-8,  # Eh\n",
    "    'convergence_grms': 3e-5,    # Eh/Bohr\n",
    "    'convergence_gmax': 1e-5,  # Eh/Bohr\n",
    "    'convergence_drms': 1.2e-5,  # Angstrom\n",
    "    'convergence_dmax': 1.8e-5,  # Angstrom\n",
    "}\n",
    "\n",
    "mol_eq = optimize(mf, maxsteps=100, **conv_params)\n",
    "\n",
    "new_pos = mol_eq.atom_coords()*Bohr\n",
    "atoms.set_positions(new_pos)\n",
    "\n",
    "#aio.write(f'/data/sahre/projects/atomic-energies/data/bonding_trends/pbe0_data/{system}_{bond_type}/{c}_opt.xyz', atoms)\n",
    "\n",
    "pyscf_atoms = uqm.ase2pyscf(atoms)\n",
    "mol = gto.Mole()\n",
    "mol.atom = pyscf_atoms\n",
    "mol.basis = basis\n",
    "mol.spin = spin\n",
    "mol.build()\n",
    "\n",
    "if spin != 0:\n",
    "    mf = dft.ROKS(mol)\n",
    "else:\n",
    "    mf = dft.RKS(mol)\n",
    "mf.xc = 'pbe0'\n",
    "mf.kernel()\n",
    "print(mf.e_tot)\n",
    "\n",
    "#with open(f'/data/sahre/projects/atomic-energies/data/bonding_trends/pbe0_data/{system}_{bond_type}/{c}_energy', 'w') as f:\n",
    "#    f.write(str(mf.e_tot)+'\\n')"
   ]
  },
  {
   "cell_type": "code",
   "execution_count": 2,
   "id": "c15595aa-288a-4c68-b500-72725e18e6c2",
   "metadata": {},
   "outputs": [
    {
     "name": "stdout",
     "output_type": "stream",
     "text": [
      "-107.34791664282267\n"
     ]
    }
   ],
   "source": [
    "print(mf.e_tot)"
   ]
  },
  {
   "cell_type": "markdown",
   "id": "fae15fb3-69c5-4aab-b7d0-54f3425f1704",
   "metadata": {},
   "source": [
    "# BSSE"
   ]
  },
  {
   "cell_type": "code",
   "execution_count": null,
   "id": "085ee023-f77a-4936-8ea4-5d5e851fb3c8",
   "metadata": {},
   "outputs": [],
   "source": []
  },
  {
   "cell_type": "code",
   "execution_count": 53,
   "id": "b08e34d9-e05d-4389-8692-a739bf3ed161",
   "metadata": {
    "tags": []
   },
   "outputs": [
    {
     "name": "stdout",
     "output_type": "stream",
     "text": [
      "converged SCF energy = -459.995312104145\n",
      "-459.9953121041448\n"
     ]
    }
   ],
   "source": [
    "import ase.io as aio\n",
    "from ase.units import Bohr\n",
    "import sys\n",
    "sys.path.insert(0, '/home/sahre/git_repositories/APDFT/prototyping/atomic_energies/')\n",
    "import utils_qm as uqm\n",
    "\n",
    "from pyscf import gto, dft, scf\n",
    "\n",
    "# geometric\n",
    "from pyscf.geomopt.geometric_solver import optimize\n",
    "\n",
    "# comps = ['CC','CN','CO','CF','NN','NO','NF','OO', 'OF', 'FF']\n",
    "bond_type = 'single'\n",
    "system = 'fragments'\n",
    "row = 'row_3'\n",
    "spin = 1\n",
    "c = 'ClCl_opt'\n",
    "# ghost = ['ghost-Si', (1.124012, -0.00809671, 0.01892673)]\n",
    "# ghost = ['ghost-P', (-0.96852899, -0.55016469, -0.00293903)]\n",
    "# ghost = ['ghost-S', (0.89537907, 0.45336758, 0.50867668)]\n",
    "ghost = ['ghost-Cl', (-0.99124176, 0.00000000, 0.00000000)]\n",
    "\n",
    "atoms = aio.read(f'/data/sahre/projects/atomic-energies/data/bonding_trends/pbe0_data/{row}/{system}_{bond_type}/{c}.xyz')\n",
    "\n",
    "pyscf_atoms = uqm.ase2pyscf(atoms)\n",
    "pyscf_atoms.append(ghost)\n",
    "basis = 'def2-tzvp'\n",
    "mol = gto.Mole()\n",
    "mol.atom = pyscf_atoms\n",
    "mol.basis = basis\n",
    "mol.spin = spin\n",
    "mol.build()\n",
    "\n",
    "if spin != 0:\n",
    "    mf = dft.ROKS(mol)\n",
    "else:\n",
    "    mf = dft.RKS(mol)\n",
    "mf.xc = 'pbe0'\n",
    "mf.kernel()\n",
    "print(mf.e_tot)"
   ]
  },
  {
   "cell_type": "code",
   "execution_count": 54,
   "id": "79db399d-067b-42cb-a15c-2c3183c19b8d",
   "metadata": {},
   "outputs": [
    {
     "data": {
      "text/plain": [
       "-0.00019479351499285258"
      ]
     },
     "execution_count": 54,
     "metadata": {},
     "output_type": "execute_result"
    }
   ],
   "source": [
    "mf.e_tot--459.9951173106298"
   ]
  },
  {
   "cell_type": "code",
   "execution_count": 52,
   "id": "4c1febd0-0c4a-4a9e-b9c1-ef9d7176e4f0",
   "metadata": {},
   "outputs": [
    {
     "data": {
      "text/plain": [
       "-398.61035651125843"
      ]
     },
     "execution_count": 52,
     "metadata": {},
     "output_type": "execute_result"
    }
   ],
   "source": [
    "mf.e_tot"
   ]
  },
  {
   "cell_type": "code",
   "execution_count": null,
   "id": "8bf9f933-89f2-4236-8559-75cd5fc23157",
   "metadata": {},
   "outputs": [],
   "source": [
    "-291.1079104299862\n",
    "-342.3787823295063\n",
    "-398.61035651125843\n",
    "-459.9953121041448"
   ]
  },
  {
   "cell_type": "code",
   "execution_count": 40,
   "id": "69dc7026-4ac1-4899-bdde-05b7d7a86c9b",
   "metadata": {},
   "outputs": [
    {
     "data": {
      "text/plain": [
       "<pyscf.gto.mole.Mole at 0x7fc24d8e4b80>"
      ]
     },
     "execution_count": 40,
     "metadata": {},
     "output_type": "execute_result"
    }
   ],
   "source": [
    "# comps = ['CC','CN','CO','CF','NN','NO','NF','OO', 'OF', 'FF']\n",
    "bond_type = 'single'\n",
    "system = 'fragments'\n",
    "row = 'row_3'\n",
    "spin = 1\n",
    "c = 'SiSi_opt'\n",
    "ghost = ['ghost-Si', (1.124012, -0.00809671, 0.01892673)]\n",
    "atoms = aio.read(f'/data/sahre/projects/atomic-energies/data/bonding_trends/pbe0_data/{row}/{system}_{bond_type}/{c}.xyz')\n",
    "\n",
    "pyscf_atoms = uqm.ase2pyscf(atoms)\n",
    "pyscf_atoms.append(ghost)\n",
    "basis = 'def2-tzvp'\n",
    "mol = gto.Mole()\n",
    "mol.atom = pyscf_atoms\n",
    "mol.basis = basis\n",
    "mol.spin = spin\n",
    "mol.build()"
   ]
  },
  {
   "cell_type": "code",
   "execution_count": 42,
   "id": "9c5dafc2-6c15-4793-a80e-822e3d6529f3",
   "metadata": {},
   "outputs": [
    {
     "data": {
      "text/plain": [
       "[['Si', (-1.21562791, 0.00809671, -0.01892673)],\n",
       " ['H', (-1.69350988, -0.12419117, 1.38215208)],\n",
       " ['H', (-1.6528047, 1.29851308, -0.61272885)],\n",
       " ['H', (-1.66572464, -1.14075827, -0.84744183)],\n",
       " ['ghost-Si', (1.124012, -0.00809671, 0.01892673)]]"
      ]
     },
     "execution_count": 42,
     "metadata": {},
     "output_type": "execute_result"
    }
   ],
   "source": [
    "mol.atom"
   ]
  }
 ],
 "metadata": {
  "kernelspec": {
   "display_name": "Python 3 (ipykernel)",
   "language": "python",
   "name": "python3"
  },
  "language_info": {
   "codemirror_mode": {
    "name": "ipython",
    "version": 3
   },
   "file_extension": ".py",
   "mimetype": "text/x-python",
   "name": "python",
   "nbconvert_exporter": "python",
   "pygments_lexer": "ipython3",
   "version": "3.9.10"
  }
 },
 "nbformat": 4,
 "nbformat_minor": 5
}
