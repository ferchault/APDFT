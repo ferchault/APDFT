{
 "cells": [
  {
   "cell_type": "code",
   "execution_count": 1,
   "id": "d464c43e-3983-45e1-984c-7f410aecad00",
   "metadata": {},
   "outputs": [],
   "source": [
    "import numpy as np\n",
    "from scipy.optimize import curve_fit\n",
    "from matplotlib import pyplot as plt\n",
    "import pandas as pd\n",
    "\n",
    "import sys\n",
    "sys.path.insert(0, '/home/sahre/git_repositories/APDFT/prototyping/atomic_energies/')\n",
    "import utils_qm as uqm\n",
    "import bt_tools as bt"
   ]
  },
  {
   "cell_type": "code",
   "execution_count": 2,
   "id": "d8827ca8-757d-4dcd-89f6-7a99df3d3222",
   "metadata": {},
   "outputs": [],
   "source": [
    "def non_linear_model_bde(var, a, b, c):\n",
    "    Z1, Z2 = var.T\n",
    "    bde = a**2 - b**2*Z1*Z2 +c**2*(Z1**(7/3)+Z2**(7/3))\n",
    "    return(bde)"
   ]
  },
  {
   "cell_type": "code",
   "execution_count": 3,
   "id": "34bfe709-6420-4718-b2d9-52b0808a84c5",
   "metadata": {},
   "outputs": [],
   "source": [
    "data = pd.read_csv('/data/sahre/projects/atomic-energies/data/bonding_trends/pbe0_data/energies_homolytic.csv')\n",
    "data_2 = data.loc[(data['Z1'] >= 5) & (data['Z2'] >= 5) & (data['Z1'] <= 9) & (data['Z2'] <= 9)].to_dict('list')\n",
    "data_3 = data.loc[(data['Z1'] >= 13) & (data['Z2'] >= 13) & (data['Z1'] <= 17) & (data['Z2'] <= 17)].to_dict('list')\n",
    "data_4 = data.loc[(data['Z1'] >= 31) & (data['Z2'] >= 31) & (data['Z1'] <= 35) & (data['Z2'] <= 35)].to_dict('list')\n",
    "\n",
    "for d in [data_2, data_3, data_4]:\n",
    "    d['unit'] = 630\n",
    "    #d['bfe type'] = 'homo'\n",
    "    #d['nbfe'] = np.array(d['Z1'])*np.array(d['Z2'])-(np.array(d['Z1'])+np.array(d['Z2']))"
   ]
  },
  {
   "cell_type": "markdown",
   "id": "55b5fcbc-0832-49ec-ab91-3e5ee9321e09",
   "metadata": {},
   "source": [
    "### SRL"
   ]
  },
  {
   "cell_type": "code",
   "execution_count": 4,
   "id": "44cc87c9-849f-4fa2-a576-88b7b1f82c8e",
   "metadata": {},
   "outputs": [
    {
     "name": "stdout",
     "output_type": "stream",
     "text": [
      "MAE = 3.76 (0.1)\n",
      "MAE = 0.59 (0.03)\n",
      "MAE = 0.67 (0.05)\n"
     ]
    }
   ],
   "source": [
    "# do linear fits\n",
    "b2 = bt.BDE_clean.fromdict(data_2)\n",
    "b3 = bt.BDE_clean.fromdict(data_3)\n",
    "b4 = bt.BDE_clean.fromdict(data_4)\n",
    "for b in [b2, b3, b4]:\n",
    "    b.linear_fit()\n",
    "    rounded_MAE = np.round((np.abs(b.bde-b.bde_fitted)).mean(),2)\n",
    "    rounded_MAE_std = np.round(rounded_MAE/b.bde.std(), 2)\n",
    "    print(f'MAE = {rounded_MAE} ({rounded_MAE_std})')"
   ]
  },
  {
   "cell_type": "code",
   "execution_count": 5,
   "id": "2d9939ee-6ee2-4807-b643-f6e9d832467c",
   "metadata": {},
   "outputs": [
    {
     "data": {
      "text/plain": [
       "1.6733333333333331"
      ]
     },
     "execution_count": 5,
     "metadata": {},
     "output_type": "execute_result"
    }
   ],
   "source": [
    "(3.76+0.59+0.67)/3"
   ]
  },
  {
   "cell_type": "markdown",
   "id": "60df5705-98ba-4008-a60e-ab94172e8d01",
   "metadata": {},
   "source": [
    "### SRL*"
   ]
  },
  {
   "cell_type": "code",
   "execution_count": 6,
   "id": "83c6d156-178d-4b56-9a52-a7f9619bb195",
   "metadata": {},
   "outputs": [
    {
     "name": "stdout",
     "output_type": "stream",
     "text": [
      "MAE = 5.86 (0.15)\n",
      "MAE = 5.94 (0.34)\n",
      "MAE = 3.57 (0.28)\n"
     ]
    }
   ],
   "source": [
    "# non-linear fits\n",
    "\n",
    "def non_linear_model(var, a, b, c):\n",
    "    Z1, Z2 = var.T\n",
    "    ebfe = -a**2 - b**2*Z1*Z2 -c**2*(Z1**(7/3)+Z2**(7/3))#(-beta*(Z1**(7/3)+Z2**(7/3))+alpha-b_prime*Z1*Z2)\n",
    "    return(ebfe)\n",
    "\n",
    "# do linear fits\n",
    "b2_nl = bt.BDE_clean.fromdict(data_2)\n",
    "b3_nl = bt.BDE_clean.fromdict(data_3)\n",
    "b4_nl = bt.BDE_clean.fromdict(data_4)\n",
    "\n",
    "for b in [b2_nl, b3_nl, b4_nl]:\n",
    "    b.fit(non_linear_model)\n",
    "    #print('MAE = ' + str((np.abs(b.bde-b.bde_fitted)).mean()))\n",
    "    rounded_MAE = np.round((np.abs(b.bde-b.bde_fitted)).mean(),2)\n",
    "    rounded_MAE_std = np.round(rounded_MAE/b.bde.std(), 2)\n",
    "    print(f'MAE = {rounded_MAE} ({rounded_MAE_std})')"
   ]
  },
  {
   "cell_type": "code",
   "execution_count": 7,
   "id": "bfd57dcb-92d9-4aca-b960-119d3aa2fee3",
   "metadata": {},
   "outputs": [
    {
     "data": {
      "text/plain": [
       "5.123333333333334"
      ]
     },
     "execution_count": 7,
     "metadata": {},
     "output_type": "execute_result"
    }
   ],
   "source": [
    "(5.86+5.94+3.57)/3"
   ]
  },
  {
   "cell_type": "markdown",
   "id": "6d27ab42-e950-4243-8798-4a5da99bb446",
   "metadata": {},
   "source": [
    "### Pauling"
   ]
  },
  {
   "cell_type": "code",
   "execution_count": 8,
   "id": "cb39875a-188d-4e17-9826-4a31b77bf0ab",
   "metadata": {},
   "outputs": [
    {
     "name": "stdout",
     "output_type": "stream",
     "text": [
      "MAE = 5.13 (0.13)\n",
      "MAE = 2.94 (0.17)\n",
      "MAE = 1.66 (0.13)\n"
     ]
    }
   ],
   "source": [
    "chi = {'H':2.1, 'Li':1.0, 'B':2.0, 'C':2.5, 'N':3.0, 'O':3.5, 'F':4.0, \n",
    "       'Al':1.5, 'Si':1.8, 'P':2.1, 'S':2.5, 'Cl':3.0,\n",
    "       'Ga':1.6, 'Ge':1.8, 'As':2.0, 'Se':2.4, 'Br':2.8, 'I':2.5}\n",
    "\n",
    "Z2el = {5:'B', 6:'C', 7:'N', 8:'O', 9:'F', 13:'Al', 14:'Si', 15:'P', 16:'S', 17:'Cl', 31:'Ga', 32:'Ge', 33:'As', 34:'Se', 35:'Br'}\n",
    "\n",
    "def pauling_model(data):\n",
    "    energies_pauling = []\n",
    "    for ZA, ZB in zip(data['Z1'],data['Z2']):\n",
    "\n",
    "        # get energy ZAZA and ZBZB\n",
    "        E_AA = -data.loc[(data['Z1']==ZA) & (data['Z2']==ZA), 'bfe'].item()*630\n",
    "        E_BB = -data.loc[(data['Z1']==ZB) & (data['Z2']==ZB), 'bfe'].item()*630\n",
    "        # get chi_A, B\n",
    "        el_A = Z2el[ZA]\n",
    "        el_B = Z2el[ZB]\n",
    "\n",
    "        chi_A = chi[el_A]\n",
    "        chi_B = chi[el_B]\n",
    "        # calculate bond energy\n",
    "        E_AB = (E_AA + E_BB)/2 + 23*(chi_A - chi_B)**2\n",
    "        energies_pauling.append(E_AB)\n",
    "    energies_pauling = np.array(energies_pauling)\n",
    "    return(energies_pauling)\n",
    "\n",
    "def get_error(pred, ref, digits=2):\n",
    "    MAE = np.round(np.abs(pred-ref).mean(), digits)\n",
    "    MAE_std = np.round(np.abs(pred-ref).mean()/ref.std(), digits)\n",
    "    return(MAE, MAE_std)\n",
    "\n",
    "pauling_2 = pauling_model(pd.DataFrame(data_2))\n",
    "MAE_2, MAE_std_2 = get_error(pauling_2, b2_nl.bde, digits=2)\n",
    "print(f'MAE = {MAE_2} ({MAE_std_2})')\n",
    "\n",
    "pauling_3 = pauling_model(pd.DataFrame(data_3))\n",
    "MAE_3, MAE_std_3 = get_error(pauling_3, b3_nl.bde, digits=2)\n",
    "print(f'MAE = {MAE_3} ({MAE_std_3})')\n",
    "\n",
    "pauling_4 = pauling_model(pd.DataFrame(data_4))\n",
    "MAE_4, MAE_std_4 = get_error(pauling_4, b4_nl.bde, digits=2)\n",
    "print(f'MAE = {MAE_4} ({MAE_std_4})')"
   ]
  },
  {
   "cell_type": "code",
   "execution_count": 9,
   "id": "804b4526-c976-4c7d-8899-4a9b2813fa62",
   "metadata": {},
   "outputs": [
    {
     "data": {
      "text/plain": [
       "3.2433333333333336"
      ]
     },
     "execution_count": 9,
     "metadata": {},
     "output_type": "execute_result"
    }
   ],
   "source": [
    "(5.13+2.94+1.66)/3"
   ]
  },
  {
   "cell_type": "code",
   "execution_count": 10,
   "id": "5ee95d97-b4f1-4fcc-a6cd-32cacb10f7d6",
   "metadata": {},
   "outputs": [],
   "source": [
    "### redundant figure\n",
    "\n",
    "def ref_bde_redundant(data, Z):\n",
    "    \"\"\"\n",
    "    Z: list of nuclear charges\n",
    "    data: pandas dataframe with bde's\n",
    "    \"\"\"\n",
    "    Z_dict = dict()\n",
    "    for ZA in Z:\n",
    "        bde = []\n",
    "        for ZB in Z:\n",
    "            if ZA <= ZB:\n",
    "                bfe = data.loc[(data['Z1']==ZA) & (data['Z2']==ZB), 'bfe'].item()\n",
    "            else:\n",
    "                bfe = data.loc[(data['Z1']==ZB) & (data['Z2']==ZA), 'bfe'].item()        \n",
    "            bde.append(-630*bfe)\n",
    "        Z_dict[ZA] = [Z ,bde]\n",
    "    return(Z_dict)\n",
    "\n",
    "def linear_bde_redundant(bt_model):\n",
    "    Z = list(set(bt_model.Z1))\n",
    "    Z = sorted(Z)\n",
    "\n",
    "    Z_dict = dict()\n",
    "    for ZA in Z:\n",
    "        bde = []\n",
    "        for ZB in Z:\n",
    "            nA = bt_model.linear_params[Z.index(ZA)]\n",
    "            nB = bt_model.linear_params[Z.index(ZB)]\n",
    "\n",
    "            mA = bt_model.linear_params[Z.index(ZA)+len(Z)]\n",
    "            mB = bt_model.linear_params[Z.index(ZB)+len(Z)]\n",
    "            \n",
    "            ebfe = nA + mA*ZB + nB + mB*ZA\n",
    "            \n",
    "            # get index of nbfe entry\n",
    "            # ask where xdata == ZA, ZB and sum up the bool return\n",
    "            # must be equal to 2\n",
    "            try:\n",
    "                nbfe_index = np.where(np.sum(bt_model.xdata == [ZA,ZB], axis = 1) == 2)[0][0]\n",
    "            except IndexError:\n",
    "                nbfe_index = np.where(np.sum(bt_model.xdata == [ZB, ZA], axis = 1) == 2)[0][0]\n",
    "            nbfe = bt_model.nbfe[nbfe_index]\n",
    "            \n",
    "            bfe = ebfe + nbfe\n",
    "            bde.append(-bfe)\n",
    "            \n",
    "        Z_dict[ZA] = [Z ,bde]\n",
    "    return(Z_dict)\n",
    "\n",
    "def nonlinear_bde_redundant(bt_model):\n",
    "    Z = list(set(bt_model.Z1))\n",
    "    Z = sorted(Z)\n",
    "\n",
    "    Z_dict = dict()\n",
    "    for ZA in Z:\n",
    "        bde = []\n",
    "        for ZB in Z:\n",
    "            var = np.array([ZA, ZB])\n",
    "            ebfe = non_linear_model(var, *bt_model.params[0])\n",
    "            \n",
    "            # get index of nbfe entry\n",
    "            # ask where xdata == ZA, ZB and sum up the bool return\n",
    "            # must be equal to 2\n",
    "            try:\n",
    "                nbfe_index = np.where(np.sum(bt_model.xdata == [ZA,ZB], axis = 1) == 2)[0][0]\n",
    "            except IndexError:\n",
    "                nbfe_index = np.where(np.sum(bt_model.xdata == [ZB, ZA], axis = 1) == 2)[0][0]\n",
    "            nbfe = bt_model.nbfe[nbfe_index]\n",
    "            \n",
    "            bfe = ebfe + nbfe\n",
    "            bde.append(-bfe)\n",
    "            \n",
    "        Z_dict[ZA] = [Z ,bde]\n",
    "    return(Z_dict)\n",
    "\n",
    "def pauling_model_redundant(data, Z):\n",
    "    Z_dict = dict()\n",
    "    for ZA in Z:\n",
    "        bde = []\n",
    "        for ZB in Z:\n",
    "            # get energy ZAZA and ZBZB\n",
    "            E_AA = -data.loc[(data['Z1']==ZA) & (data['Z2']==ZA), 'bfe'].item()*630\n",
    "            E_BB = -data.loc[(data['Z1']==ZB) & (data['Z2']==ZB), 'bfe'].item()*630\n",
    "            # get chi_A, B\n",
    "            el_A = Z2el[ZA]\n",
    "            el_B = Z2el[ZB]\n",
    "\n",
    "            chi_A = chi[el_A]\n",
    "            chi_B = chi[el_B]\n",
    "            # calculate bond energy\n",
    "            E_AB = (E_AA + E_BB)/2 + 23*(chi_A - chi_B)**2\n",
    "            bde.append(E_AB)\n",
    "            \n",
    "        Z_dict[ZA] = [Z ,bde]\n",
    "    return(Z_dict)\n",
    "\n",
    "def deri_non_linear_model(var, a, b, c):\n",
    "    Z1, Z2 = var.T\n",
    "    bde = (b**2-630)*Z1 + 7/3*c**2*Z2**(4/3)\n",
    "    return(bde)   \n",
    "\n",
    "def nonlinear_derivative(bt_model):\n",
    "    Z = list(set(bt_model.Z1))\n",
    "    Z = sorted(Z)\n",
    "\n",
    "    Z_dict = dict()\n",
    "    for ZA in Z:\n",
    "        bde = []\n",
    "        for ZB in Z:\n",
    "            var = np.array([ZA, ZB])\n",
    "            bde.append(deri_non_linear_model(var, *bt_model.params[0]))\n",
    "            \n",
    "        Z_dict[ZA] = [Z ,bde]\n",
    "    return(Z_dict)\n",
    "\n",
    " "
   ]
  },
  {
   "cell_type": "code",
   "execution_count": 11,
   "id": "821368ef-0d9b-414e-b366-0549d3eb398f",
   "metadata": {},
   "outputs": [],
   "source": [
    "def test_bde(var, a, b, c):\n",
    "    Z1, Z2 = var.T\n",
    "    bde = a - b*Z1*Z2 + c*(Z1**(7/3)+Z2**(7/3))\n",
    "    return(bde)"
   ]
  },
  {
   "cell_type": "code",
   "execution_count": 12,
   "id": "a4dd9754-d6cc-48d7-9583-af8b55577be6",
   "metadata": {},
   "outputs": [
    {
     "name": "stdout",
     "output_type": "stream",
     "text": [
      "5.862524533541517\n",
      "5.932985420907894\n",
      "3.553115493814344\n"
     ]
    }
   ],
   "source": [
    "sd = 4\n",
    "params = []\n",
    "for bt_model in [b2_nl, b3_nl, b4_nl]:\n",
    "    var = bt_model.xdata\n",
    "    a, b, c = np.round(bt_model.params[0]**2, sd)\n",
    "    b = 630 - b\n",
    "    print((np.abs(test_bde(var, a, b, c) - bt_model.bde)).mean())\n",
    "    \n",
    "    params.append([a,b,c])"
   ]
  },
  {
   "cell_type": "code",
   "execution_count": 13,
   "id": "c59bc9d6-a9fc-48c2-8358-af2aa48ade56",
   "metadata": {},
   "outputs": [
    {
     "name": "stdout",
     "output_type": "stream",
     "text": [
      "2 & 227.7548 & 12.089799999999968 & 2.3403 \\\\\n",
      "3 & 271.1576 & 6.475000000000023 & 1.1266 \\\\\n",
      "4 & 826.6759 & 4.685600000000022 & 0.6205 \\\\\n"
     ]
    }
   ],
   "source": [
    "for n, p in zip([2,3,4], params):\n",
    "    print(f'{n} & {p[0]} & {p[1]} & {p[2]} \\\\\\\\')"
   ]
  },
  {
   "cell_type": "code",
   "execution_count": 14,
   "id": "e9cc58fb-8c28-4ee5-9d68-ce924348770b",
   "metadata": {},
   "outputs": [
    {
     "data": {
      "image/png": "[encoded data removed]",
      "text/plain": [
       "<Figure size 432x288 with 1 Axes>"
      ]
     },
     "metadata": {
      "needs_background": "light"
     },
     "output_type": "display_data"
    }
   ],
   "source": [
    "row = 2\n",
    "\n",
    "\n",
    "if row == 2:\n",
    "    Z = [5,6,7,8,9]\n",
    "    b_linear = b2\n",
    "    b_nl = b2_nl\n",
    "    color = ['#db9c9cff','#7f7f7fff', '#1f77b4ff', '#d62728ff', '#2ca02cff']\n",
    "elif row == 3:\n",
    "    Z = [13, 14, 15, 16, 17]\n",
    "    b_linear = b3\n",
    "    b_nl = b3_nl\n",
    "    color = ['#bba2a2ff', '#ecbe90ff', '#df770eff', '#d5d528ff', '#1ca01cff']\n",
    "elif row == 4:\n",
    "    Z = [31, 32, 33, 34, 35]\n",
    "    b_linear = b4\n",
    "    b_nl = b4_nl\n",
    "    color = ['#cc9797ff', '#567676ff', '#a977c8ff', '#f4a51dff', '#942a2aff']\n",
    "    \n",
    "    \n",
    "Z_dict_ref = ref_bde_redundant(data, Z)\n",
    "Z_dict_linear = linear_bde_redundant(b_linear)\n",
    "Z_dict_nonlinear = nonlinear_bde_redundant(b_nl)\n",
    "Z_dict_nonlinear_pauling = pauling_model_redundant(data, Z)\n",
    "\n",
    "derivative = nonlinear_derivative(b_nl)\n",
    "\n",
    "\n",
    "#color = ['#ecbe90ff', 'tab:gray', 'tab:blue', 'tab:red', 'tab:green']\n",
    "plt.rcParams['font.size'] = 16\n",
    "fig, ax = plt.subplots(1,1)\n",
    "for ZA, c in zip(Z, color):\n",
    "    ax.plot(Z_dict_ref[ZA][0], Z_dict_ref[ZA][1], '-o', label = f'ZA = {ZA}', color = c)\n",
    "    #ax.plot(Z_dict_linear[ZA][0], Z_dict_linear[ZA][1], '--v', color = c)\n",
    "    ax.plot(Z_dict_nonlinear[ZA][0], Z_dict_nonlinear[ZA][1], '-.^', color = c)\n",
    "    #ax.plot(Z_dict_nonlinear_pauling[ZA][0], Z_dict_nonlinear_pauling[ZA][1], '--s', color = c)\n",
    "    \n",
    "ax.set_xlabel(r'$Z_{\\rm{B}}$')\n",
    "ax.set_ylabel(r'$E_{\\rm{AB}}$ (kcal/mol)')\n",
    "ax.spines['right'].set_visible(False)\n",
    "ax.spines['top'].set_visible(False)\n",
    "ax.set_xlim([min(Z)-0.5, max(Z)+0.5])\n",
    "\n",
    "plt.savefig(f'/home/sahre/work/bonding_trends/figures/results/row{row}_red.svg', bbox_inches = 'tight')"
   ]
  },
  {
   "cell_type": "code",
   "execution_count": 15,
   "id": "2866afd9-dbf5-4348-8d5b-05b762958520",
   "metadata": {},
   "outputs": [
    {
     "data": {
      "text/plain": [
       "(4.5, 9.5)"
      ]
     },
     "execution_count": 15,
     "metadata": {},
     "output_type": "execute_result"
    },
    {
     "data": {
      "image/png": "[encoded data removed]",
      "text/plain": [
       "<Figure size 432x288 with 1 Axes>"
      ]
     },
     "metadata": {
      "needs_background": "light"
     },
     "output_type": "display_data"
    }
   ],
   "source": [
    "row = 2\n",
    "\n",
    "if row == 2:\n",
    "    Z = [5,6,7,8,9]\n",
    "    b_linear = b2\n",
    "    b_nl = b2_nl\n",
    "    color = ['#db9c9cff','#7f7f7fff', '#1f77b4ff', '#d62728ff', '#2ca02cff']\n",
    "elif row == 3:\n",
    "    Z = [13, 14, 15, 16, 17]\n",
    "    b_linear = b3\n",
    "    b_nl = b3_nl\n",
    "    color = ['#bba2a2ff', '#ecbe90ff', '#df770eff', '#d5d528ff', '#1ca01cff']\n",
    "elif row == 4:\n",
    "    Z = [31, 32, 33, 34, 35]\n",
    "    b_linear = b4\n",
    "    b_nl = b4_nl\n",
    "    color = ['#cc9797ff', '#567676ff', '#a977c8ff', '#f4a51dff', '#942a2aff']\n",
    "    \n",
    "Z_dict_ref = ref_bde_redundant(data, Z)\n",
    "\n",
    "Z_dict_deri_nl = nonlinear_derivative(b_nl)\n",
    "Z_dict_deri_ref = dict()\n",
    "\n",
    "for k in Z:\n",
    "    deri_x = []\n",
    "    deri_y = []\n",
    "    for i in range(len(Z_dict_ref[k][0])-1):\n",
    "        deri_x.append( (Z_dict_ref[k][0][i]+ Z_dict_ref[k][0][i+1])/2 )\n",
    "        deri_y.append(  (Z_dict_ref[k][1][i+1] - Z_dict_ref[k][1][i] ) / (Z_dict_ref[k][0][i+1] - Z_dict_ref[k][0][i]) )\n",
    "    Z_dict_deri_ref[k] = [deri_x, deri_y]\n",
    "    \n",
    "for k in Z:\n",
    "    deri_x = []\n",
    "    deri_y = []\n",
    "    for i in range(1, len(Z_dict_ref[k][0])-1):\n",
    "        deri_x.append(Z_dict_ref[k][0][i])\n",
    "        deri_y.append(  (Z_dict_ref[k][1][i+1] - Z_dict_ref[k][1][i-1] ) / (Z_dict_ref[k][0][i+1] - Z_dict_ref[k][0][i-1]) )\n",
    "    Z_dict_deri_ref[k] = [deri_x, deri_y]\n",
    "\n",
    "\n",
    "#color = ['#ecbe90ff', 'tab:gray', 'tab:blue', 'tab:red', 'tab:green']\n",
    "plt.rcParams['font.size'] = 16\n",
    "fig, ax = plt.subplots(1,1)\n",
    "for ZA, c in zip(Z, color):\n",
    "\n",
    "    \n",
    "    ax.plot([min(Z)-0.5, max(Z)+0.5], [0,0], '--', color = 'tab:gray')\n",
    "    \n",
    "    #ax.plot(Z_dict_deri_ref[ZA][0], Z_dict_deri_ref[ZA][1], '-o', color = c)\n",
    "    ax.plot(Z_dict_deri_nl[ZA][0], Z_dict_deri_nl[ZA][1], '--v', color = c)\n",
    "    \n",
    "ax.set_xlabel(r'$Z_{\\rm{B}}$')\n",
    "ax.set_ylabel(r'$E_{\\rm{AB}}$ (kcal/mol)')\n",
    "ax.spines['right'].set_visible(False)\n",
    "ax.spines['top'].set_visible(False)\n",
    "ax.set_xlim([min(Z)-0.5, max(Z)+0.5])\n",
    "\n",
    "#plt.savefig(f'/home/sahre/work/bonding_trends/figures/results/row{row}_red_deri_nl.svg', bbox_inches = 'tight')"
   ]
  },
  {
   "cell_type": "code",
   "execution_count": 21,
   "id": "7703683b-e4be-4b4e-8cc4-47952f3c46d8",
   "metadata": {},
   "outputs": [
    {
     "data": {
      "text/plain": [
       "{5.0: [[5.0, 6.0, 7.0, 8.0, 9.0],\n",
       "  [-13.761621249721664,\n",
       "   -0.9136858154036958,\n",
       "   12.671162293374778,\n",
       "   26.920494240866518,\n",
       "   41.777441654464866]],\n",
       " 6.0: [[5.0, 6.0, 7.0, 8.0, 9.0],\n",
       "  [-25.851437574867425,\n",
       "   -13.003502140549458,\n",
       "   0.5813459682290159,\n",
       "   14.830677915720756,\n",
       "   29.687625329319104]],\n",
       " 7.0: [[5.0, 6.0, 7.0, 8.0, 9.0],\n",
       "  [-37.94125390001319,\n",
       "   -25.09331846569522,\n",
       "   -11.508470356916746,\n",
       "   2.740861590574994,\n",
       "   17.597809004173342]],\n",
       " 8.0: [[5.0, 6.0, 7.0, 8.0, 9.0],\n",
       "  [-50.03107022515895,\n",
       "   -37.18313479084098,\n",
       "   -23.598286682062508,\n",
       "   -9.348954734570768,\n",
       "   5.507992679027581]],\n",
       " 9.0: [[5.0, 6.0, 7.0, 8.0, 9.0],\n",
       "  [-62.12088655030471,\n",
       "   -49.27295111598674,\n",
       "   -35.68810300720827,\n",
       "   -21.43877105971653,\n",
       "   -6.581823646118181]]}"
      ]
     },
     "execution_count": 21,
     "metadata": {},
     "output_type": "execute_result"
    }
   ],
   "source": [
    "Z_dict_deri_nl"
   ]
  },
  {
   "cell_type": "code",
   "execution_count": 16,
   "id": "748c3da1-61ef-49bd-a11e-fcebfcc6e3d4",
   "metadata": {},
   "outputs": [
    {
     "data": {
      "text/plain": [
       "[-48.40559309473285, -31.745648264666638, -18.504666777566026]"
      ]
     },
     "execution_count": 16,
     "metadata": {},
     "output_type": "execute_result"
    }
   ],
   "source": [
    "deri_y"
   ]
  },
  {
   "cell_type": "code",
   "execution_count": 17,
   "id": "99357996-089d-4014-af3d-55d5e1ea9453",
   "metadata": {},
   "outputs": [],
   "source": [
    "import pandas as pd\n",
    "data = pd.read_csv('/data/sahre/projects/atomic-energies/data/bonding_trends/pbe0_data/energies_homolytic.csv')\n",
    "data_2 = data.loc[(data['Z1'] <= 9) & (data['Z2'] <= 9)].to_dict('list')\n"
   ]
  },
  {
   "cell_type": "code",
   "execution_count": 18,
   "id": "0450a9e3-887b-4881-b0e3-904a0bd86beb",
   "metadata": {},
   "outputs": [
    {
     "data": {
      "text/plain": [
       "array([ 98.49528829,  93.20659964,  98.91705917, 115.21436085,\n",
       "        75.66071618,  67.20964411,  75.14743054,  54.47427191,\n",
       "        51.72306432,  38.13809699, 110.49385254, 110.93407811,\n",
       "       149.27676277, 157.11721558, 171.95861673])"
      ]
     },
     "execution_count": 18,
     "metadata": {},
     "output_type": "execute_result"
    }
   ],
   "source": [
    "-630*np.array(data_2['bfe'])"
   ]
  },
  {
   "cell_type": "code",
   "execution_count": null,
   "id": "43473e2a-a568-4d10-b139-712ce4caffbb",
   "metadata": {},
   "outputs": [],
   "source": [
    "# row 2\n",
    "Z1 = [5, 5, 5, 5, 5, 6, 6, 6, 6, 7, 7, 7, 8, 8, 9]\n",
    "Z2 = [5, 6, 7 ,8 , 9, 6, 7, 8, 9, 7, 8, 9, 8, 9, 9]\n",
    "xdata = np.array([Z1, Z2]).T\n",
    "bde = 0.24*np.array([431.6, 426.8, 583.3, 626, 705.4, 359.2, 337.7, 370.2, 452, 259.6, 253.5, 283.6, 195.2, 194.9, 151.7])\n",
    "\n",
    "#bde = np.array([110.49385254, 110.93407811, 149.27676277, 157.11721558, 171.95861673,  98.49528829,  93.20659964,  98.91705917, 115.21436085, 75.66071618,  67.20964411,  75.14743054,  54.47427191,51.72306432,  38.13809699])\n",
    "\n",
    "bde_homo = bde[[0, 5, 9, 12, 14]]#np.array([103.584, 86.208,  62.304, 46.848, 36.408])\n",
    "\n",
    "elements = ['B', 'C', 'N', 'O', 'F']\n",
    "bde_homo = dict(zip(elements, bde_homo))"
   ]
  },
  {
   "cell_type": "code",
   "execution_count": null,
   "id": "e3713e80-66c0-44e9-bcf0-7fc24840ad55",
   "metadata": {},
   "outputs": [],
   "source": [
    "# row 3\n",
    "Z1 = [13, 13, 13, 13, 13, 14, 14, 14, 14, 15, 15, 15, 16, 16, 17]\n",
    "Z2 = [13, 14, 15, 16, 17, 14, 15, 16, 17, 15, 16, 17, 16, 17, 17]\n",
    "xdata = np.array([Z1, Z2]).T\n",
    "#bde = 0.24*np.array([257.9, 289.4, 294.5, 402.5, 502.5, 313.2, 287.3, 357.4, 448.4, 225.8, 263.7, 315.1, 252, 258.3, 234.6])\n",
    "\n",
    "bde_pbe = np.array([ 59.79920224,  69.86379766,  73.47519514,  98.90234845,\n",
    "       121.12181215, 77.25620984,  74.02914862,  90.49612881, 110.73043846,\n",
    "        62.75882065,  71.1649616 ,  82.8305566 ,  70.27237772,\n",
    "        69.51302798,  62.47957441])\n",
    "\n",
    "bde_homo = bde[[0, 5, 9, 12, 14]]\n",
    "elements = ['Al', 'Si', 'P', 'S', 'Cl']\n",
    "\n",
    "bde_homo = dict(zip(elements, bde_homo))"
   ]
  },
  {
   "cell_type": "code",
   "execution_count": null,
   "id": "ad072757-cbc2-41ff-8c50-108a0dc8a794",
   "metadata": {},
   "outputs": [],
   "source": [
    "# row 4\n",
    "Z1 = [31.0, 31.0, 31.0, 31.0, 31.0, 32, 32, 32, 32, 33, 33, 33, 34, 34, 35]\n",
    "Z2 = [31.0, 32.0, 33.0, 34.0, 35.0, 32, 33, 34, 35, 33, 34, 35, 34, 35, 35]\n",
    "xdata = np.array([Z1, Z2]).T\n",
    "\n",
    "bde = np.array([65.14864892, 69.02427881, 66.26409022, 85.56362194, 99.50397576,72.21042554, 64.45730305, 74.92547657, 88.99081342, 53.84647516,\n",
    "       59.52618602, 68.87128326, 59.71296505, 59.3387519 , 54.46767659])\n",
    "\n",
    "bde_homo = bde[[0, 5, 9, 12, 14]]\n",
    "elements = ['Ga', 'Ge', 'As', 'Se', 'Br']\n",
    "\n",
    "bde_homo = dict(zip(elements, bde_homo))"
   ]
  },
  {
   "cell_type": "code",
   "execution_count": null,
   "id": "556280de-0bea-43b6-a761-9e6c55072312",
   "metadata": {},
   "outputs": [],
   "source": [
    "plt.plot(bde)"
   ]
  },
  {
   "cell_type": "code",
   "execution_count": null,
   "id": "a5bedb2d-8e18-4a52-9436-82688155006e",
   "metadata": {},
   "outputs": [],
   "source": [
    "a = np.sqrt(215)\n",
    "b = -np.sqrt(10)\n",
    "c = np.sqrt(2)\n",
    "\n",
    "af, bf, cf = curve_fit(non_linear_model_bde, xdata, ydata=bde, p0=[a,b,c])[0]"
   ]
  },
  {
   "cell_type": "code",
   "execution_count": null,
   "id": "f684b6a6-2783-4f40-9e80-48075fb16922",
   "metadata": {},
   "outputs": [],
   "source": [
    "mae = np.abs(bde-non_linear_model_bde(xdata, af, bf, cf)).mean()"
   ]
  },
  {
   "cell_type": "code",
   "execution_count": null,
   "id": "0b610cb1-4d7d-4197-8dc5-f6d8c6f68957",
   "metadata": {},
   "outputs": [],
   "source": [
    "np.abs(bde[5:]-non_linear_model_bde(xdata, af, bf, cf)[5:]).mean()"
   ]
  },
  {
   "cell_type": "code",
   "execution_count": null,
   "id": "ca1defe4-75b1-49d9-bbd0-a86de66e952e",
   "metadata": {},
   "outputs": [],
   "source": [
    "# Pauling\n",
    "chi = {'H':2.1, 'Li':1.0, 'B':2,'C':2.5, 'N':3.0, 'O':3.5, 'F':4.0, \n",
    "       'Al':1.5, 'Si':1.8, 'P':2.1, 'S':2.5, 'Cl':3.0,\n",
    "       'Ga':1.6, 'Ge':1.8, 'As':2.0, 'Se':2.4, 'Br':2.8}\n",
    "\n",
    "bde_pauling = []\n",
    "for i in range(5):\n",
    "    for j in range(i, 5):\n",
    "        el_A = elements[i]\n",
    "        el_B = elements[j]\n",
    "        \n",
    "        chi_A = chi[el_A]\n",
    "        chi_B = chi[el_B]\n",
    "        E_AA = bde_homo[el_A]\n",
    "        E_BB = bde_homo[el_B]\n",
    "        \n",
    "        E_AB = (E_AA + E_BB)/2 + 23*(chi_A - chi_B)**2\n",
    "        bde_pauling.append(E_AB)\n",
    "        \n",
    "bde_pauling = np.array(bde_pauling)\n",
    "mae_pauling = np.abs(bde_pauling-bde).mean()"
   ]
  },
  {
   "cell_type": "code",
   "execution_count": null,
   "id": "783845f2-e13a-4f3c-a514-8220f6dfb5b6",
   "metadata": {},
   "outputs": [],
   "source": []
  },
  {
   "cell_type": "code",
   "execution_count": null,
   "id": "f80b971c-87a4-4904-a3a5-27e3d23db684",
   "metadata": {},
   "outputs": [],
   "source": [
    "el_dict = {5:'B', 6:'C', 7:'N', 8:'O', 9:'F', \n",
    "           13:'Al', 14:'Si', 15:'P', 16:'S', 17:'Cl',\n",
    "           31:'Ga', 32:'Ge', 33:'As', 34:'Se', 35:'Br'}"
   ]
  },
  {
   "cell_type": "code",
   "execution_count": null,
   "id": "c90e1506-7ca1-476a-85ee-412d7f69ac25",
   "metadata": {},
   "outputs": [],
   "source": [
    "plt.rcParams['figure.figsize'] = [8,4]\n",
    "plt.rcParams['font.size'] = 14\n",
    "\n",
    "xlabels = []\n",
    "for el1, el2 in xdata:\n",
    "    xlabels.append(el_dict[el1] + el_dict[el2])\n",
    "\n",
    "plt.plot(xlabels, bde, '-o', label = 'ref')\n",
    "plt.plot(non_linear_model_bde(xdata, af, bf, cf), '-o', label = f'fit, MAE = {np.round(mae, 1)} kcal/mol')\n",
    "plt.plot(bde_pauling, '-v', label = f'Pauling, MAE = {np.round(mae_pauling, 1)}')\n",
    "\n",
    "plt.ylabel('BDE (kcal/mol)')\n",
    "plt.legend()"
   ]
  },
  {
   "cell_type": "code",
   "execution_count": null,
   "id": "b5ed9b81-75cd-489b-8640-6aa5a693ec68",
   "metadata": {},
   "outputs": [],
   "source": [
    "plt.rcParams['figure.figsize'] = [4,4]\n",
    "plt.rcParams['font.size'] = 18\n",
    "\n",
    "plt.plot([np.amin(bde), np.amax(bde)], [np.amin(bde), np.amax(bde)], '--', color = 'tab:gray')\n",
    "plt.plot(bde, non_linear_model_bde(xdata, af, bf, cf), 'o')\n",
    "\n",
    "plt.xlabel('BDE ref (kcal/mol)')\n",
    "plt.ylabel('BDE model (kcal/mol)')"
   ]
  }
 ],
 "metadata": {
  "kernelspec": {
   "display_name": "Python 3",
   "language": "python",
   "name": "python3"
  },
  "language_info": {
   "codemirror_mode": {
    "name": "ipython",
    "version": 3
   },
   "file_extension": ".py",
   "mimetype": "text/x-python",
   "name": "python",
   "nbconvert_exporter": "python",
   "pygments_lexer": "ipython3",
   "version": "3.9.5"
  }
 },
 "nbformat": 4,
 "nbformat_minor": 5
}
