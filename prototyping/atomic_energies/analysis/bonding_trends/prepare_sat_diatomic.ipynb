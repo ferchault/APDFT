{
 "cells": [
  {
   "cell_type": "code",
   "execution_count": null,
   "id": "e2e129af-fad3-4f6f-acdf-4a949a5f8b8f",
   "metadata": {},
   "outputs": [],
   "source": [
    "import pandas as pd\n",
    "\n",
    "import sys\n",
    "sys.path.insert(0, '/home/sahre/git_repositories/APDFT/prototyping/atomic_energies/')\n",
    "import utils_qm as uqm\n",
    "\n",
    "import ase.io as aio\n",
    "from ase.visualize import view\n",
    "\n",
    "import numpy as np"
   ]
  },
  {
   "cell_type": "code",
   "execution_count": null,
   "id": "0a1cd8e7-69af-40ec-816f-2456514e5298",
   "metadata": {},
   "outputs": [],
   "source": [
    "# Which reference bond? -> methanol"
   ]
  },
  {
   "cell_type": "code",
   "execution_count": null,
   "id": "b273a009-054d-4c88-8658-d29cd89d4558",
   "metadata": {},
   "outputs": [],
   "source": [
    "amons_db = pd.read_pickle('/data/sahre/datasets/amons_qm9_11k/amons_database.pd')"
   ]
  },
  {
   "cell_type": "code",
   "execution_count": null,
   "id": "ca354759-5828-4707-8199-a93baa0bd58e",
   "metadata": {},
   "outputs": [],
   "source": [
    "amons_db.loc[amons_db['smiles']=='CO']"
   ]
  },
  {
   "cell_type": "code",
   "execution_count": null,
   "id": "56567486-2c0d-4f25-aa69-4659da657c9c",
   "metadata": {},
   "outputs": [],
   "source": [
    "amons = uqm.load_obj('/data/sahre/datasets/amons_qm9_11k/unique_amons_dict')"
   ]
  },
  {
   "cell_type": "code",
   "execution_count": null,
   "id": "fd28446d-f132-4977-908b-c0173eefc889",
   "metadata": {},
   "outputs": [],
   "source": [
    "smiles = 'CF'"
   ]
  },
  {
   "cell_type": "code",
   "execution_count": null,
   "id": "e5ef002a-f00c-4845-b125-005078932d0f",
   "metadata": {},
   "outputs": [],
   "source": [
    "cx = ['CC', 'CN', 'CO', 'CF']\n",
    "for smiles in cx:\n",
    "    with open (f'/home/sahre/work/scratch/{smiles}.xyz', 'w') as f:\n",
    "        for line in amons[smiles]:\n",
    "            f.write(line+'\\n')"
   ]
  },
  {
   "cell_type": "code",
   "execution_count": null,
   "id": "131e7b56-df85-4a54-a54e-79bf6285ce1e",
   "metadata": {},
   "outputs": [],
   "source": [
    "cx = ['CC', 'CN', 'CO', 'CF', 'NN', 'NO', 'NF', 'OO', 'OF', 'FF']"
   ]
  },
  {
   "cell_type": "code",
   "execution_count": null,
   "id": "d8f69f08-b95c-4b78-a0e5-1223e8a6aabd",
   "metadata": {},
   "outputs": [],
   "source": [
    "d = []\n",
    "for smiles in cx:\n",
    "    structure = aio.read(f'/data/sahre/projects/atomic-energies/data/bonding_trends/{smiles}.xyz')#/data/sahre/projects/atomic-energies/data/bonding_trends     /home/sahre/work/scratch\n",
    "    view(structure)\n",
    "    print(smiles)\n",
    "    print(structure.get_distance(0,1))\n",
    "    d.append(structure.get_distance(0,1))\n",
    "print(np.array(d).mean())"
   ]
  },
  {
   "cell_type": "code",
   "execution_count": null,
   "id": "326123dd-0697-454e-b0bd-b3fa8877366e",
   "metadata": {},
   "outputs": [],
   "source": [
    "# methanol is closest tp equilibrium value"
   ]
  },
  {
   "cell_type": "code",
   "execution_count": null,
   "id": "464d49a8-3f5b-4b80-bf57-0f8f604207b8",
   "metadata": {},
   "outputs": [],
   "source": [
    "# adjust all fragments -> write to new xyz-file"
   ]
  },
  {
   "cell_type": "code",
   "execution_count": null,
   "id": "d9e3a546-dec1-4805-9cc0-a2ad0570ad29",
   "metadata": {},
   "outputs": [],
   "source": [
    "# adjust all fragments -> write to new xyz-file\n",
    "dCO = aio.read(f'/home/sahre/work/scratch/CO.xyz').get_distance(0,1)\n",
    "\n",
    "d = []\n",
    "for smiles in cx:\n",
    "    structure = aio.read(f'/home/sahre/work/scratch/{smiles}.xyz')\n",
    "    if structure.get_chemical_symbols()[0] == 'C':\n",
    "#         structure.set_distance(1,0, dCO, indices=[0, 2, 3, 4], fix = 0)\n",
    "        indices=[0, 2, 3, 4]\n",
    "    elif structure.get_chemical_symbols()[0] == 'N':\n",
    "#         structure.set_distance(0,1, dCO, indices=[0, 2, 3])\n",
    "        indices=[0, 2, 3]\n",
    "    elif structure.get_chemical_symbols()[0] == 'O':\n",
    "#         structure.set_distance(0,1, dCO, indices=[0, 2])\n",
    "        indices=[0, 2]\n",
    "    elif structure.get_chemical_symbols()[0] == 'F':\n",
    "#         structure.set_distance(0,1, dCO)\n",
    "        indices=[0]\n",
    "        \n",
    "    structure.set_distance(1,0, dCO, indices=indices, fix = 0)\n",
    "    view(structure)\n",
    "    aio.write(f'/data/sahre/projects/atomic-energies/data/bonding_trends/{smiles}.xyz', structure)\n"
   ]
  },
  {
   "cell_type": "code",
   "execution_count": null,
   "id": "f6e7b2a3-6fa2-4d54-99ee-7ba3bafdb7bd",
   "metadata": {},
   "outputs": [],
   "source": [
    "aio.read(f'/data/sahre/projects/atomic-energies/data/bonding_trends/CF.xyz').get_all_distances()"
   ]
  },
  {
   "cell_type": "code",
   "execution_count": null,
   "id": "214252a4-ef5d-4795-ac32-e6afd435eb3a",
   "metadata": {},
   "outputs": [],
   "source": [
    "aio.read(f'/home/sahre/work/scratch/CF.xyz').get_all_distances()"
   ]
  },
  {
   "cell_type": "code",
   "execution_count": null,
   "id": "421e2f8d-b895-42b3-9436-47c4031ce994",
   "metadata": {},
   "outputs": [],
   "source": []
  },
  {
   "cell_type": "code",
   "execution_count": 1,
   "id": "fde5ee1b-8e54-4ddb-b282-bb1d9b26c5de",
   "metadata": {},
   "outputs": [],
   "source": [
    "import pandas as pd\n",
    "\n",
    "import sys\n",
    "sys.path.insert(0, '/home/sahre/git_repositories/APDFT/prototyping/atomic_energies/')\n",
    "import utils_qm as uqm\n",
    "sys.path.insert(0, '/home/sahre/git_repositories/APDFT/prototyping/atomic_energies/hitp/')\n",
    "import prepare_calculations as prep\n",
    "\n",
    "import ase.io as aio\n",
    "from ase.visualize import view\n",
    "\n",
    "import numpy as np\n"
   ]
  },
  {
   "cell_type": "code",
   "execution_count": 5,
   "id": "e79e4e06-e327-4d7f-b768-57eb9aedf1f9",
   "metadata": {},
   "outputs": [],
   "source": [
    "smiles = 'CF'\n",
    "# prepare input files\n",
    "cx = ['CC', 'CN', 'CO', 'CF', 'NN', 'NO', 'NF', 'OO', 'OF']\n",
    "final_mol = []\n",
    "for smiles in ['FF']:#cx:\n",
    "\n",
    "    compound_path = (f'/data/sahre/projects/atomic-energies/data/bonding_trends/{smiles}')\n",
    "\n",
    "    # define parameters\n",
    "    a1 = 0\n",
    "    a2 = 1\n",
    "    a3 = 2\n",
    "\n",
    "    atoms = aio.read(f'/data/sahre/projects/atomic-energies/data/bonding_trends/{smiles}.xyz')\n",
    "    atoms_ref = atoms.copy()\n",
    "\n",
    "    pp_dir = '/data/sahre/PP_LIBRARY/'\n",
    "    pp_type = '_GH_PBE'\n",
    "    template_inp_small_lambda = '/data/sahre/projects/atomic-energies/cpmd_params_template_pbe_small_lambda.inp'\n",
    "    template_inp = '/data/sahre/projects/atomic-energies/cpmd_params_template_pbe.inp'\n",
    "\n",
    "\n",
    "    prep.wrapper_aligned(a1, a2, a3, atoms, atoms_ref, compound_path, pp_dir, pp_type, template_inp, template_inp_small_lambda)"
   ]
  },
  {
   "cell_type": "code",
   "execution_count": 12,
   "id": "c5062b14-4dbe-4e2d-9a1c-58edba984f7a",
   "metadata": {},
   "outputs": [],
   "source": [
    "# F2\n",
    "from prepare_calculations import get_boxsize, get_gpts, align_molecule\n",
    "def get_pos_F2():\n",
    "    a1 = 0\n",
    "    a2 = 1\n",
    "    a3 = 2\n",
    "\n",
    "    atoms = aio.read(f'/data/sahre/projects/atomic-energies/data/bonding_trends/FF_dummy.xyz')\n",
    "    atoms_ref = atoms.copy()\n",
    "    atom_symbols = atoms.get_chemical_symbols()\n",
    "    nuc_charges = atoms.get_atomic_numbers()\n",
    "    num_ve = 14#eqd.get_num_val_elec(nuc_charges) # get number of ve\n",
    "    boxsize = get_boxsize(num_ve) # get boxsize\n",
    "    num_gpts_lower, num_gpts_higher = get_gpts(num_ve) # get gridpoints\n",
    "    num_gpts = num_gpts_higher\n",
    "\n",
    "    # shift/rotate molecule to be in plane of grid points\n",
    "    centroid_initial = np.mean(atoms_ref.get_positions(), axis=0)\n",
    "    shift = np.array([boxsize,boxsize,boxsize])/2 - centroid_initial\n",
    "    atoms.set_positions(atoms.get_positions() + shift)\n",
    "\n",
    "    align_molecule(atoms, np.array([0,0,1]), a2, a3, a1)\n",
    "    pos_z = atoms.get_positions()[a1, 2]\n",
    "    lv = boxsize/num_gpts\n",
    "    final_shift_z = np.array([0,0,int(num_gpts/2)*lv - pos_z])\n",
    "    atoms.set_positions(atoms.get_positions() + final_shift_z)\n",
    "    mean_x = atoms.get_positions()[:,0].mean()\n",
    "    mean_y = atoms.get_positions()[:,1].mean()\n",
    "    shift_xy = np.array([boxsize,boxsize,0])/2 - np.array([mean_x, mean_y, 0])\n",
    "    atoms.set_positions(atoms.get_positions() + shift_xy)\n",
    "\n",
    "    coords_final = atoms.get_positions()\n",
    "    F2_pos = np.array([coords_final[0],coords_final[1]])\n",
    "    return(F2_pos)\n"
   ]
  },
  {
   "cell_type": "code",
   "execution_count": 14,
   "id": "80d5a0e6-93c1-4dd6-ad0b-b0d532f807ea",
   "metadata": {},
   "outputs": [
    {
     "data": {
      "text/plain": [
       "array([[6.45539155, 7.0021611 , 7.16882777],\n",
       "       [7.87654265, 7.0021611 , 7.16882777]])"
      ]
     },
     "execution_count": 14,
     "metadata": {},
     "output_type": "execute_result"
    }
   ],
   "source": []
  },
  {
   "cell_type": "code",
   "execution_count": 20,
   "id": "38531a72-9b35-4c0d-b9c8-355f29c8af9e",
   "metadata": {},
   "outputs": [],
   "source": [
    "from prepare_calculations import get_lambda, write_input, write_pp_files_compound\n",
    "import explore_qml_data as eqd\n",
    "import os\n",
    "\n",
    "compound_path = f'/data/sahre/projects/atomic-energies/data/bonding_trends/FF'\n",
    "\n",
    "pp_dir = '/data/sahre/PP_LIBRARY/'\n",
    "pp_type = '_GH_PBE'\n",
    "template_inp_small_lambda = '/data/sahre/projects/atomic-energies/cpmd_params_template_pbe_small_lambda.inp'\n",
    "template_inp = '/data/sahre/projects/atomic-energies/cpmd_params_template_pbe.inp'\n",
    "\n",
    "# calculation parameters (independent of lambda value)\n",
    "atoms = aio.read(f'/data/sahre/projects/atomic-energies/data/bonding_trends/FF.xyz')\n",
    "\n",
    "atom_symbols = atoms.get_chemical_symbols()\n",
    "nuc_charges = atoms.get_atomic_numbers()\n",
    "num_ve = eqd.get_num_val_elec(nuc_charges) # get number of ve\n",
    "boxsize = get_boxsize(num_ve) # get boxsize\n",
    "num_gpts_lower, num_gpts_higher = get_gpts(num_ve) # get gridpoints\n",
    "num_gpts = num_gpts_higher\n",
    "\n",
    "coords_final = get_pos_F2()\n",
    "\n",
    "# get correct lambda value\n",
    "lambda_values = np.array([0.4, 0.6, 0.8, 1.0])\n",
    "for lam_val in lambda_values:\n",
    "    new_lambda, scaled_ve = get_lambda(lam_val, num_ve)\n",
    "    # scaled_ve is number of electrons added from pseudopotential file, the remaining electrons must be added in form of a negative charge\n",
    "    charge = scaled_ve - num_ve # write input\n",
    "\n",
    "    # create directory if necessary\n",
    "    if scaled_ve < 10:\n",
    "        scaled_ve_str = '0'+str(scaled_ve)\n",
    "    else:\n",
    "        scaled_ve_str = str(scaled_ve)\n",
    "    lambda_path = os.path.join(compound_path, f've_{scaled_ve_str}/')\n",
    "    os.makedirs(lambda_path, exist_ok=True)\n",
    "\n",
    "    # generate input file\n",
    "    input_path = os.path.join(lambda_path, 'run.inp')\n",
    "    if new_lambda > 0.5:\n",
    "        write_input(atom_symbols, charge, coords_final, num_gpts, boxsize, input_path, template_inp, debug = False)\n",
    "    else:\n",
    "        write_input(atom_symbols, charge, coords_final, num_gpts, boxsize, input_path, template_inp_small_lambda, debug = False)\n",
    "\n",
    "    # generate pp-files\n",
    "    write_pp_files_compound(atom_symbols, new_lambda, lambda_path, pp_dir, pp_type)"
   ]
  },
  {
   "cell_type": "code",
   "execution_count": null,
   "id": "a5b5922b-efb2-448f-bdcb-0a0cafc7b78e",
   "metadata": {},
   "outputs": [],
   "source": [
    "# submit calcs, all lambda =1, then 0.8, .6,..."
   ]
  },
  {
   "cell_type": "code",
   "execution_count": null,
   "id": "6570c139-435a-4d74-9429-12fe83a2f2ff",
   "metadata": {},
   "outputs": [],
   "source": [
    "# get atomic energies"
   ]
  },
  {
   "cell_type": "code",
   "execution_count": null,
   "id": "15fe4f74-b588-4c08-bb90-ca618e1daeb1",
   "metadata": {},
   "outputs": [],
   "source": [
    "import glob"
   ]
  },
  {
   "cell_type": "code",
   "execution_count": null,
   "id": "839ecd8f-c64c-4ad4-950d-88cbf8ac8964",
   "metadata": {},
   "outputs": [],
   "source": [
    "from natsort import natsorted\n",
    "import os\n",
    "\n",
    "\n",
    "import sys\n",
    "sys.path.insert(0, '/home/sahre/git_repositories/APDFT/prototyping/atomic_energies/')\n",
    "import alchemy_tools2 as at\n",
    "from parse_density_files import CUBE\n",
    "from explore_qml_data import get_num_val_elec\n",
    "\n",
    "def wrapper_read_data(paths):\n",
    "    # load data, parameters\n",
    "\n",
    "    densities, nuclei, gpts, hmatrix = read_cube_data(paths)\n",
    "    \n",
    "    # get density of ueg\n",
    "    num_ve = get_num_val_elec(nuclei[:, 0])\n",
    "    ueg = np.zeros(gpts[0].shape)\n",
    "    ueg[:] = num_ve/gpts[0].shape[0]**3\n",
    "    assert np.isclose(ueg.sum(), num_ve), 'wrong ueg'\n",
    "    densities.insert(0, ueg)\n",
    "    \n",
    "    return(densities, gpts, hmatrix, nuclei)\n",
    "\n",
    "def wrapper_alchpots(densities, nuclei, meshgrid, h_matrix):\n",
    "    \"\"\"\n",
    "    integrate electron density over r for single lambda values\n",
    "    \"\"\"\n",
    "    alchpots = []\n",
    "    for d in densities:\n",
    "        out = at.calculate_atomic_energies(d, nuclei, meshgrid, h_matrix, intg_method = 'sum')\n",
    "        alchpots.append(out[2])\n",
    "    return(np.array(alchpots))\n",
    "\n",
    "def wrapper_atomic_energy(compound_path):\n",
    "    # make path to cube files\n",
    "    cubes = ['ve_06.cube', 've_08.cube', 've_11.cube', 've_14.cube']\n",
    "    paths = []\n",
    "    for c in cubes:\n",
    "        paths.append(os.path.join(compound_path, f'cube-files/{c}'))\n",
    "    \n",
    "    paths = natsorted(paths)\n",
    "    # read cube-files\n",
    "    densities, gpts, hmatrix, nuclei = wrapper_read_data(paths)\n",
    "    # calculate mu tilde\n",
    "    alchpots = wrapper_alchpots(densities, nuclei, gpts, hmatrix)\n",
    "\n",
    "    # get lambda\n",
    "    lam_vals = parse_lambda(cubes)\n",
    "    # integrate over lambda\n",
    "    averaged_alchpots = get_mu_tilde(lam_vals, alchpots)\n",
    "    \n",
    "    # get Z_eff\n",
    "    Z_eff = get_Zeff(nuclei[:,0])\n",
    "    e_el = averaged_alchpots*Z_eff\n",
    "    \n",
    "    return(averaged_alchpots, e_el, nuclei, Z_eff)\n",
    "\n",
    "def write_atomic_energies(averaged_alchpots, e_el, nuclei, Z_eff, path):\n",
    "    file_path = os.path.join(path, 'atomic_energies.txt')\n",
    "    header = 'Z\\t Z_eff\\t x\\t y\\t z\\t mu_tilde\\t e_el'\n",
    "    data = np.array([nuclei[:,0], Z_eff, nuclei[:,1], nuclei[:,2], nuclei[:,3], averaged_alchpots, e_el])\n",
    "    np.savetxt(file_path, data.T, delimiter='\\t', header=header)\n",
    "    \n",
    "def wrapper_write_atomic_energies(compound_path):\n",
    "    averaged_alchpots, e_el, nuclei, Z_eff = wrapper_atomic_energy(compound_path)\n",
    "    write_atomic_energies(averaged_alchpots, e_el, nuclei, Z_eff, compound_path)\n",
    "    \n",
    "def read_cube_data(paths_cubes):\n",
    "    \"\"\"\n",
    "    returns the data necessary to calculate the atomic energies from the cube-files\n",
    "    for different lambda values\n",
    "    \n",
    "    paths_cubes: paths to cubes files\n",
    "    densities: densities given in different cube files\n",
    "    lam_vals: lambda value for cube file, obtained by parsing filename\n",
    "    nuclei: charges and coordinates of the nuclei\n",
    "    gpts: the gridpoints where density values are given\n",
    "    \"\"\"\n",
    "    \n",
    "    densities = []\n",
    "    nuclei = None # nuclear charges and their positions\n",
    "    gpts = None # gridpoints where density values are given\n",
    "    h_matrix = np.zeros((3,3)) # needed for the calculation of the distance of the nuclei to the gridpoints with MIC\n",
    "    \n",
    "    for idx, path in enumerate(paths_cubes):\n",
    "        cube = CUBE(path)\n",
    "        \n",
    "        densities.append(cube.data_scaled) # density\n",
    "        \n",
    "        fname = os.path.split(path)[1] # lambda value\n",
    "        fname = fname.split('.')[0]\n",
    "        total_ve = get_num_val_elec(cube.atoms[:, 0])\n",
    "        # check if integrates to correct number of electrons\n",
    "        if not np.isclose(cube.data_scaled.sum(), total_ve):\n",
    "            print(f'{path} does not integrate to correct num_ve')\n",
    "        \n",
    "        if idx==len(paths_cubes)-1:\n",
    "            nuclei = cube.atoms\n",
    "            gpts = cube.get_grid()\n",
    "            h_matrix = [cube.X*cube.NX, cube.Y*cube.NY, cube.Z*cube.NZ]\n",
    "    \n",
    "    return(densities, nuclei, gpts, h_matrix)\n",
    "\n",
    "def get_Zeff(Z):\n",
    "    Zeff = []\n",
    "    for z in Z:\n",
    "        if z < 3:\n",
    "            Zeff.append(z)\n",
    "        elif z > 2 and z < 11:\n",
    "            Zeff.append(z-2)\n",
    "        else:\n",
    "            raise Exception(f\"Zeff not implemented for {z}\")\n",
    "    return(np.array(Zeff))\n",
    "\n",
    "def parse_lambda(cube_files):\n",
    "    \"\"\"\n",
    "    get lamval from ve_xx.cube\n",
    "    \"\"\"\n",
    "    lam_vals = [0.0]\n",
    "    for c in cube_files:\n",
    "        num_val = float(c.split('.')[0].split('_')[-1])\n",
    "        lam_vals.append(num_val)\n",
    "        \n",
    "    lam_vals = np.array(lam_vals)\n",
    "    return(lam_vals/lam_vals[-1])\n",
    "\n",
    "def get_mu_tilde(lam_vals, alchpots):\n",
    "    \"\"\"\n",
    "    inetgrate over tilde rho with respect to lambda\n",
    "    \"\"\"\n",
    "    mu_tilde = []\n",
    "    for i in range(alchpots.shape[1]):\n",
    "        mu_tilde.append(np.trapz(alchpots[:, i], lam_vals))\n",
    "    return(np.array(mu_tilde))"
   ]
  },
  {
   "cell_type": "code",
   "execution_count": null,
   "id": "55943276-92c5-40fb-a443-9528047cd198",
   "metadata": {},
   "outputs": [],
   "source": []
  },
  {
   "cell_type": "code",
   "execution_count": null,
   "id": "128aecba-2115-48ea-bcbd-a3da43c92fd7",
   "metadata": {},
   "outputs": [],
   "source": [
    "# compound_path = '/data/sahre/projects/atomic-energies/data/bonding_trends/OO'\n",
    "compound_paths = glob.glob('/data/sahre/projects/atomic-energies/data/bonding_trends/*/')\n",
    "\n",
    "for c in compound_paths:\n",
    "    wrapper_write_atomic_energies(c)"
   ]
  }
 ],
 "metadata": {
  "kernelspec": {
   "display_name": "Python 3",
   "language": "python",
   "name": "python3"
  },
  "language_info": {
   "codemirror_mode": {
    "name": "ipython",
    "version": 3
   },
   "file_extension": ".py",
   "mimetype": "text/x-python",
   "name": "python",
   "nbconvert_exporter": "python",
   "pygments_lexer": "ipython3",
   "version": "3.9.5"
  }
 },
 "nbformat": 4,
 "nbformat_minor": 5
}
