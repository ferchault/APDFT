{
 "cells": [
  {
   "cell_type": "code",
   "execution_count": 1,
   "id": "73f1aa46-e846-411f-8422-25aed8f5122b",
   "metadata": {},
   "outputs": [],
   "source": [
    "import pandas as pd\n",
    "import numpy as np\n",
    "from matplotlib import pyplot as plt\n",
    "\n",
    "import sys\n",
    "sys.path.insert(0, '/home/sahre/git_repositories/APDFT/prototyping/atomic_energies/')\n",
    "import utils_qm as uqm\n",
    "import bt_tools as bt"
   ]
  },
  {
   "cell_type": "code",
   "execution_count": 2,
   "id": "c4498c5a-bac5-4424-8327-cad64b018e0b",
   "metadata": {},
   "outputs": [],
   "source": [
    "data = pd.read_csv('/data/sahre/projects/atomic-energies/data/bonding_trends/pbe0_data/energies_homolytic.csv')\n",
    "data_2 = data.loc[(data['Z1'] >= 6) & (data['Z1'] <= 9) & (data['Z2'] >= 6) & (data['Z2'] <= 9)].to_dict('list')\n",
    "data_3 = data.loc[(data['Z1'] >= 14) & (data['Z2'] >= 14) & (data['Z1'] <= 17) & (data['Z2'] <= 17)].to_dict('list')\n",
    "data_4 = data.loc[(data['Z1'] >= 32) & (data['Z2'] >= 32) & (data['Z1'] <= 35) & (data['Z2'] <= 35)].to_dict('list')\n",
    "data_234 = data.loc[(data['Z1'] <= 9) & (data['Z2'] <= 9) | (data['Z1'] >= 14) & (data['Z2'] >= 14) & (data['Z1'] <= 17) & (data['Z2'] <= 17) | (data['Z1'] >= 32) & (data['Z2'] >= 32) & (data['Z1'] <= 35) & (data['Z2'] <= 35)].to_dict('list')\n",
    "\n",
    "for d in [data_2, data_3, data_4, data_234]:\n",
    "    d['unit'] = 630\n",
    "    d['bfe type'] = 'homo'\n",
    "    #d['nbfe'] = np.array(d['Z1'])*np.array(d['Z2'])-(np.array(d['Z1'])+np.array(d['Z2']))\n",
    "    \n",
    "bde_ref_2 = -630*np.array(data_2['bfe'])\n",
    "bde_ref_3 = -630*np.array(data_3['bfe'])\n",
    "bde_ref_4 = -630*np.array(data_4['bfe'])"
   ]
  },
  {
   "cell_type": "code",
   "execution_count": null,
   "id": "6bf10021-7a52-4db0-a3a9-e525dec176bb",
   "metadata": {},
   "outputs": [],
   "source": []
  },
  {
   "cell_type": "code",
   "execution_count": 10,
   "id": "250477ff-0cc9-4632-bd5e-13e443bc1d79",
   "metadata": {},
   "outputs": [
    {
     "name": "stdout",
     "output_type": "stream",
     "text": [
      "MAE = 1.11 (0.05)\n",
      "MAE = 1.97 (0.14)\n",
      "MAE = 1.07 (0.1)\n"
     ]
    }
   ],
   "source": [
    "# # original data from Paulin\n",
    "# chi = {'H':2.1, 'Li':1.0, 'B':2.0, 'C':2.5, 'N':3.0, 'O':3.5, 'F':4.0, 'Si':1.8, 'P':2.1, 'S':2.5, 'Cl':3.0,\n",
    "#       'Ge':1.8, 'As':2.0, 'Se':2.4, 'Br':2.8, 'I':2.5}\n",
    "\n",
    "# revised by Allred\n",
    "chi = {'H':2.2, 'Li':0.98, 'B':2.04, 'C':2.5, 'N':3.04, 'O':3.44, 'F':3.98, 'Si':1.9, 'P':2.19, 'S':2.58, 'Cl':3.16,\n",
    "      'Ge':2.01, 'As':2.18, 'Se':2.55, 'Br':2.96, 'I':2.66}\n",
    "\n",
    "Z2el = {5:'B', 6:'C', 7:'N', 8:'O', 9:'F', 14:'Si', 15:'P', 16:'S', 17:'Cl', 32:'Ge', 33:'As', 34:'Se', 35:'Br'}\n",
    "\n",
    "def pauling_model(data):\n",
    "    energies_pauling = []\n",
    "    for ZA, ZB in zip(data['Z1'],data['Z2']):\n",
    "\n",
    "        # get energy ZAZA and ZBZB\n",
    "        E_AA = -data.loc[(data['Z1']==ZA) & (data['Z2']==ZA), 'bfe'].item()*630\n",
    "        E_BB = -data.loc[(data['Z1']==ZB) & (data['Z2']==ZB), 'bfe'].item()*630\n",
    "        # get chi_A, B\n",
    "        el_A = Z2el[ZA]\n",
    "        el_B = Z2el[ZB]\n",
    "\n",
    "        chi_A = chi[el_A]\n",
    "        chi_B = chi[el_B]\n",
    "        # calculate bond energy\n",
    "        E_AB = (E_AA + E_BB)/2 + 23*(chi_A - chi_B)**2\n",
    "        energies_pauling.append(E_AB)\n",
    "    energies_pauling = np.array(energies_pauling)\n",
    "    return(energies_pauling)\n",
    "\n",
    "def get_error(pred, ref, digits=2):\n",
    "    MAE = np.round(np.abs(pred-ref).mean(), digits)\n",
    "    MAE_std = np.round(np.abs(pred-ref).mean()/ref.std(), digits)\n",
    "    return(MAE, MAE_std)\n",
    "\n",
    "pauling_2 = pauling_model(pd.DataFrame(data_2))\n",
    "MAE_2, MAE_std_2 = get_error(pauling_2, bde_ref_2, digits=2)\n",
    "print(f'MAE = {MAE_2} ({MAE_std_2})')\n",
    "\n",
    "pauling_3 = pauling_model(pd.DataFrame(data_3))\n",
    "MAE_3, MAE_std_3 = get_error(pauling_3, bde_ref_3, digits=2)\n",
    "print(f'MAE = {MAE_3} ({MAE_std_3})')\n",
    "\n",
    "pauling_4 = pauling_model(pd.DataFrame(data_4))\n",
    "MAE_4, MAE_std_4 = get_error(pauling_4, bde_ref_4, digits=2)\n",
    "print(f'MAE = {MAE_4} ({MAE_std_4})')"
   ]
  },
  {
   "cell_type": "code",
   "execution_count": 4,
   "id": "7b0ed40b-0a57-440f-9d87-3dca948962f4",
   "metadata": {},
   "outputs": [
    {
     "data": {
      "text/plain": [
       "1.3833333333333335"
      ]
     },
     "execution_count": 4,
     "metadata": {},
     "output_type": "execute_result"
    }
   ],
   "source": [
    "(1.11+1.97+1.07)/3"
   ]
  },
  {
   "cell_type": "code",
   "execution_count": 5,
   "id": "a95c61c0-c779-42f7-afe7-30ed828fc37f",
   "metadata": {},
   "outputs": [
    {
     "data": {
      "text/plain": [
       "1.3666666666666665"
      ]
     },
     "execution_count": 5,
     "metadata": {},
     "output_type": "execute_result"
    }
   ],
   "source": [
    "(1.45+2.03+0.62)/3"
   ]
  },
  {
   "cell_type": "code",
   "execution_count": 11,
   "id": "13fc8ac9-db5a-4637-8bc6-d0931ff88abe",
   "metadata": {},
   "outputs": [],
   "source": [
    "def pauling_delta_chi(data):\n",
    "    delta_chi = []\n",
    "    for ZA, ZB in zip(data['Z1'],data['Z2']):\n",
    "\n",
    "        # get chi_A, B\n",
    "        el_A = Z2el[ZA]\n",
    "        el_B = Z2el[ZB]\n",
    "\n",
    "        chi_A = chi[el_A]\n",
    "        chi_B = chi[el_B]\n",
    "        # calculate bond energy\n",
    "\n",
    "        delta_chi.append(np.abs(chi_A-chi_B))\n",
    "    delta_chi = np.array(delta_chi)\n",
    "    return(delta_chi)\n"
   ]
  },
  {
   "cell_type": "code",
   "execution_count": 12,
   "id": "ee4bf479-280a-49f7-b161-fc2cd1b71920",
   "metadata": {},
   "outputs": [],
   "source": [
    "chi_2 = pauling_delta_chi(pd.DataFrame(data_2))\n",
    "chi_3 = pauling_delta_chi(pd.DataFrame(data_3))\n",
    "chi_4 = pauling_delta_chi(pd.DataFrame(data_4))"
   ]
  },
  {
   "cell_type": "code",
   "execution_count": 14,
   "id": "11899030-e328-4faf-88c7-c84ea751de12",
   "metadata": {},
   "outputs": [
    {
     "data": {
      "text/plain": [
       "<matplotlib.legend.Legend at 0x7f9f2afecc10>"
      ]
     },
     "execution_count": 14,
     "metadata": {},
     "output_type": "execute_result"
    },
    {
     "data": {
      "image/png": "[encoded data removed]",
      "text/plain": [
       "<Figure size 432x432 with 1 Axes>"
      ]
     },
     "metadata": {
      "needs_background": "light"
     },
     "output_type": "display_data"
    }
   ],
   "source": [
    "plt.rcParams['figure.figsize'] = [6,6]\n",
    "plt.rcParams['font.size'] = 16\n",
    "plt.plot(chi_2, np.abs(pauling_2-bde_ref_2), 'o', label = 'row 2')\n",
    "plt.plot(chi_3, np.abs(pauling_3-bde_ref_3), 'o', label = 'row 3')\n",
    "plt.plot(chi_4, np.abs(pauling_4-bde_ref_4), 'o', label = 'row 4')\n",
    "\n",
    "plt.xlabel(r'$\\Delta \\chi$')\n",
    "plt.ylabel(r'MAE (kcal/mol)')\n",
    "plt.legend(frameon = False)\n",
    "\n",
    "# plt.savefig(f'/home/sahre/work/bonding_trends/figures/results/chi_vs_MAE.png', bbox_inches = 'tight')"
   ]
  },
  {
   "cell_type": "code",
   "execution_count": null,
   "id": "7c383f54-de24-4aa5-87ce-211c6683a21a",
   "metadata": {},
   "outputs": [],
   "source": []
  }
 ],
 "metadata": {
  "kernelspec": {
   "display_name": "Python 3",
   "language": "python",
   "name": "python3"
  },
  "language_info": {
   "codemirror_mode": {
    "name": "ipython",
    "version": 3
   },
   "file_extension": ".py",
   "mimetype": "text/x-python",
   "name": "python",
   "nbconvert_exporter": "python",
   "pygments_lexer": "ipython3",
   "version": "3.9.5"
  }
 },
 "nbformat": 4,
 "nbformat_minor": 5
}
