{
 "cells": [
  {
   "cell_type": "code",
   "execution_count": null,
   "id": "d464c43e-3983-45e1-984c-7f410aecad00",
   "metadata": {},
   "outputs": [],
   "source": [
    "import numpy as np\n",
    "from scipy.optimize import curve_fit\n",
    "from matplotlib import pyplot as plt\n",
    "import pandas as pd\n",
    "\n",
    "import sys\n",
    "sys.path.insert(0, '/home/sahre/git_repositories/APDFT/prototyping/atomic_energies/')\n",
    "import utils_qm as uqm\n",
    "import bt_tools as bt"
   ]
  },
  {
   "cell_type": "code",
   "execution_count": null,
   "id": "d8827ca8-757d-4dcd-89f6-7a99df3d3222",
   "metadata": {},
   "outputs": [],
   "source": [
    "def non_linear_model_bde(var, a, b, c):\n",
    "    Z1, Z2 = var.T\n",
    "    bde = a**2 - b**2*Z1*Z2 +c**2*(Z1**(7/3)+Z2**(7/3))\n",
    "    return(bde)"
   ]
  },
  {
   "cell_type": "code",
   "execution_count": null,
   "id": "34bfe709-6420-4718-b2d9-52b0808a84c5",
   "metadata": {},
   "outputs": [],
   "source": [
    "data = pd.read_csv('/data/sahre/projects/atomic-energies/data/bonding_trends/pbe0_data/energies_homolytic.csv')\n",
    "data_2 = data.loc[(data['Z1'] >= 6) & (data['Z2'] >= 6) & (data['Z1'] <= 9) & (data['Z2'] <= 9)].to_dict('list')\n",
    "data_3 = data.loc[(data['Z1'] >= 14) & (data['Z2'] >= 14) & (data['Z1'] <= 17) & (data['Z2'] <= 17)].to_dict('list')\n",
    "data_4 = data.loc[(data['Z1'] >= 32) & (data['Z2'] >= 32) & (data['Z1'] <= 35) & (data['Z2'] <= 35)].to_dict('list')\n",
    "\n",
    "for d in [data_2, data_3, data_4]:\n",
    "    d['unit'] = 630\n",
    "    #d['bfe type'] = 'homo'\n",
    "    #d['nbfe'] = np.array(d['Z1'])*np.array(d['Z2'])-(np.array(d['Z1'])+np.array(d['Z2']))"
   ]
  },
  {
   "cell_type": "markdown",
   "id": "60df5705-98ba-4008-a60e-ab94172e8d01",
   "metadata": {},
   "source": [
    "### SRL*"
   ]
  },
  {
   "cell_type": "code",
   "execution_count": null,
   "id": "83c6d156-178d-4b56-9a52-a7f9619bb195",
   "metadata": {},
   "outputs": [],
   "source": [
    "# non-linear fits\n",
    "\n",
    "def non_linear_model(var, a, b, c):\n",
    "    Z1, Z2 = var.T\n",
    "    ebfe = -a**2 - b**2*Z1*Z2 -c**2*(Z1**(7/3)+Z2**(7/3))#(-beta*(Z1**(7/3)+Z2**(7/3))+alpha-b_prime*Z1*Z2)\n",
    "    return(ebfe)\n",
    "\n",
    "# do linear fits\n",
    "b2_nl = bt.BDE_clean.fromdict(data_2)\n",
    "b3_nl = bt.BDE_clean.fromdict(data_3)\n",
    "b4_nl = bt.BDE_clean.fromdict(data_4)\n",
    "\n",
    "for b in [b2_nl, b3_nl, b4_nl]:\n",
    "    b.fit(non_linear_model)\n",
    "    #print('MAE = ' + str((np.abs(b.bde-b.bde_fitted)).mean()))\n",
    "    rounded_MAE = np.round((np.abs(b.bde-b.bde_fitted)).mean(),2)\n",
    "    rounded_MAE_std = np.round(rounded_MAE/b.bde.std(), 2)\n",
    "    print(f'MAE = {rounded_MAE} ({rounded_MAE_std})')"
   ]
  },
  {
   "cell_type": "code",
   "execution_count": null,
   "id": "bfd57dcb-92d9-4aca-b960-119d3aa2fee3",
   "metadata": {},
   "outputs": [],
   "source": [
    "(5.86+5.94+3.57)/3"
   ]
  },
  {
   "cell_type": "code",
   "execution_count": null,
   "id": "5ee95d97-b4f1-4fcc-a6cd-32cacb10f7d6",
   "metadata": {},
   "outputs": [],
   "source": [
    "### redundant figure\n",
    "\n",
    "def ref_bde_redundant(data, Z):\n",
    "    \"\"\"\n",
    "    Z: list of nuclear charges\n",
    "    data: pandas dataframe with bde's\n",
    "    \"\"\"\n",
    "    Z_dict = dict()\n",
    "    for ZA in Z:\n",
    "        bde = []\n",
    "        for ZB in Z:\n",
    "            if ZA <= ZB:\n",
    "                bfe = data.loc[(data['Z1']==ZA) & (data['Z2']==ZB), 'bfe'].item()\n",
    "            else:\n",
    "                bfe = data.loc[(data['Z1']==ZB) & (data['Z2']==ZA), 'bfe'].item()        \n",
    "            bde.append(-630*bfe)\n",
    "        Z_dict[ZA] = [Z ,bde]\n",
    "    return(Z_dict)\n",
    "\n",
    "\n",
    "def nonlinear_bde_redundant(bt_model):\n",
    "    Z = list(set(bt_model.Z1))\n",
    "    Z = sorted(Z)\n",
    "\n",
    "    Z_dict = dict()\n",
    "    for ZA in Z:\n",
    "        bde = []\n",
    "        for ZB in Z:\n",
    "            var = np.array([ZA, ZB])\n",
    "            ebfe = non_linear_model(var, *bt_model.params[0])\n",
    "            \n",
    "            # get index of nbfe entry\n",
    "            # ask where xdata == ZA, ZB and sum up the bool return\n",
    "            # must be equal to 2\n",
    "            try:\n",
    "                nbfe_index = np.where(np.sum(bt_model.xdata == [ZA,ZB], axis = 1) == 2)[0][0]\n",
    "            except IndexError:\n",
    "                nbfe_index = np.where(np.sum(bt_model.xdata == [ZB, ZA], axis = 1) == 2)[0][0]\n",
    "            nbfe = bt_model.nbfe[nbfe_index]\n",
    "            \n",
    "            bfe = ebfe + nbfe\n",
    "            bde.append(-bfe)\n",
    "            \n",
    "        Z_dict[ZA] = [Z ,bde]\n",
    "    return(Z_dict)\n",
    "\n",
    "\n",
    "def deri_non_linear_model(var, a, b, c):\n",
    "    Z1, Z2 = var.T\n",
    "    bde = (b**2-630)*Z1 + 7/3*c**2*Z2**(4/3)\n",
    "    return(bde)   \n",
    "\n",
    "def nonlinear_derivative(bt_model):\n",
    "    Z = list(set(bt_model.Z1))\n",
    "    Z = sorted(Z)\n",
    "\n",
    "    Z_dict = dict()\n",
    "    for ZA in Z:\n",
    "        bde = []\n",
    "        for ZB in Z:\n",
    "            var = np.array([ZA, ZB])\n",
    "            bde.append(deri_non_linear_model(var, *bt_model.params[0]))\n",
    "            \n",
    "        Z_dict[ZA] = [Z ,bde]\n",
    "    return(Z_dict)\n",
    "\n",
    " "
   ]
  },
  {
   "cell_type": "code",
   "execution_count": null,
   "id": "821368ef-0d9b-414e-b366-0549d3eb398f",
   "metadata": {},
   "outputs": [],
   "source": [
    "def test_bde(var, a, b, c):\n",
    "    Z1, Z2 = var.T\n",
    "    bde = a - b*Z1*Z2 + c*(Z1**(7/3)+Z2**(7/3))\n",
    "    return(bde)"
   ]
  },
  {
   "cell_type": "code",
   "execution_count": null,
   "id": "a4dd9754-d6cc-48d7-9583-af8b55577be6",
   "metadata": {},
   "outputs": [],
   "source": [
    "sd = 4\n",
    "params = []\n",
    "for bt_model in [b2_nl, b3_nl, b4_nl]:\n",
    "    var = bt_model.xdata\n",
    "    a, b, c = np.round(bt_model.params[0]**2, sd)\n",
    "    b = 630 - b\n",
    "    print((np.abs(test_bde(var, a, b, c) - bt_model.bde)).mean())\n",
    "    \n",
    "    params.append([a,b,c])"
   ]
  },
  {
   "cell_type": "code",
   "execution_count": null,
   "id": "c59bc9d6-a9fc-48c2-8358-af2aa48ade56",
   "metadata": {},
   "outputs": [],
   "source": [
    "for n, p in zip([2,3,4], params):\n",
    "    print(f'{n} & {p[0]} & {p[1]} & {p[2]} \\\\\\\\')"
   ]
  },
  {
   "cell_type": "code",
   "execution_count": null,
   "id": "08753b77-88bf-4025-a320-caca941e2bbf",
   "metadata": {},
   "outputs": [],
   "source": [
    "hammett_params_dict = dict()"
   ]
  },
  {
   "cell_type": "code",
   "execution_count": null,
   "id": "e9cc58fb-8c28-4ee5-9d68-ce924348770b",
   "metadata": {},
   "outputs": [],
   "source": [
    "row = 4\n",
    "\n",
    "\n",
    "if row == 2:\n",
    "    #Z = [5,6,7,8,9]\n",
    "    Z = [6,7,8,9]\n",
    "    b_linear = b2\n",
    "    b_nl = b2_nl\n",
    "    color = dict(zip([5,6,7,8,9], ['#db9c9cff','#7f7f7fff', '#1f77b4ff', '#d62728ff', '#2ca02cff']))\n",
    "elif row == 3:\n",
    "    #Z = [13, 14, 15, 16, 17]\n",
    "    Z = [14, 15, 16, 17]\n",
    "    b_linear = b3\n",
    "    b_nl = b3_nl\n",
    "    color = dict(zip([13, 14, 15, 16, 17], ['#bba2a2ff', '#ecbe90ff', '#df770eff', '#d5d528ff', '#1ca01cff']))\n",
    "elif row == 4:\n",
    "    #Z = [31, 32, 33, 34, 35]\n",
    "    Z = [32, 33, 34, 35]\n",
    "    b_nl = b4_nl\n",
    "    color = dict(zip([31, 32, 33, 34, 35], ['#cc9797ff', '#567676ff', '#a977c8ff', '#f4a51dff', '#942a2aff']))\n",
    "    \n",
    "    \n",
    "Z_dict_ref = ref_bde_redundant(data, Z)\n",
    "Z_dict_nonlinear = nonlinear_bde_redundant(b_nl)\n",
    "derivative = nonlinear_derivative(b_nl)\n",
    "\n",
    "\n",
    "#color = ['#ecbe90ff', 'tab:gray', 'tab:blue', 'tab:red', 'tab:green']\n",
    "plt.rcParams['font.size'] = 16\n",
    "fig, ax = plt.subplots(1,1)\n",
    "for ZA, c in zip(Z, color):\n",
    "    ax.plot(Z_dict_ref[ZA][0], Z_dict_ref[ZA][1], '-o', label = f'ZA = {ZA}', color = color[ZA])\n",
    "    ax.plot(Z_dict_nonlinear[ZA][0], Z_dict_nonlinear[ZA][1], '-.^', color = color[ZA])\n",
    "    \n",
    "ax.set_xlabel(r'$Z_{\\rm{B}}$')\n",
    "ax.set_ylabel(r'$E_{\\rm{AB}}$ (kcal/mol)')\n",
    "ax.spines['right'].set_visible(False)\n",
    "ax.spines['top'].set_visible(False)\n",
    "ax.set_xlim([min(Z)-0.5, max(Z)+0.5])\n",
    "\n",
    "plt.savefig(f'/home/sahre/work/bonding_trends/figures/results/row{row}_red.svg', bbox_inches = 'tight')"
   ]
  },
  {
   "cell_type": "code",
   "execution_count": null,
   "id": "eeaf91b6-8322-4899-a129-cfe507e6870d",
   "metadata": {},
   "outputs": [],
   "source": [
    "nonlinear_derivative(b_nl) "
   ]
  },
  {
   "cell_type": "code",
   "execution_count": null,
   "id": "2866afd9-dbf5-4348-8d5b-05b762958520",
   "metadata": {},
   "outputs": [],
   "source": [
    "row = 3\n",
    "Z_dict_deri_nl = dict()\n",
    "for row in [3]:\n",
    "    if row == 2:\n",
    "        #Z = [5,6,7,8,9]\n",
    "        Z = [6,7,8,9]\n",
    "        b_nl = b2_nl\n",
    "        color = dict(zip([5,6,7,8,9], ['#db9c9cff','#7f7f7fff', '#1f77b4ff', '#d62728ff', '#2ca02cff']))\n",
    "    elif row == 3:\n",
    "        #Z = [13, 14, 15, 16, 17]\n",
    "        Z = [14, 15, 16, 17]\n",
    "        b_nl = b3_nl\n",
    "        color = dict(zip([13, 14, 15, 16, 17], ['#bba2a2ff', '#ecbe90ff', '#df770eff', '#d5d528ff', '#1ca01cff']))\n",
    "    elif row == 4:\n",
    "        #Z = [31, 32, 33, 34, 35]\n",
    "        Z = [32, 33, 34, 35]\n",
    "        b_nl = b4_nl\n",
    "        color = dict(zip([31, 32, 33, 34, 35], ['#cc9797ff', '#567676ff', '#a977c8ff', '#f4a51dff', '#942a2aff']))\n",
    "    \n",
    "\n",
    "    Z_dict_deri_nl.update(nonlinear_derivative(b_nl))\n",
    "\n",
    "plt.rcParams['font.size'] = 16\n",
    "fig, ax = plt.subplots(1,1)\n",
    "for ZA, c in zip(Z, color):\n",
    "\n",
    "    \n",
    "    ax.plot([min(Z)-0.5, max(Z)+0.5], [0,0], '--', color = 'tab:gray')\n",
    "    \n",
    "    #ax.plot(Z_dict_deri_ref[ZA][0], Z_dict_deri_ref[ZA][1], '-o', color = color[ZA])\n",
    "    ax.plot(Z_dict_deri_nl[ZA][0], Z_dict_deri_nl[ZA][1], '--v', color = color[ZA], label = f'ZA = {ZA}')\n",
    "    \n",
    "ax.set_xlabel(r'$Z_{\\rm{B}}$')\n",
    "ax.set_ylabel(r'$\\frac{\\partial E_{\\rm{AB}}}{\\partial Z_{\\rm{B}}}$ (kcal/mol)')\n",
    "ax.spines['right'].set_visible(False)\n",
    "ax.spines['top'].set_visible(False)\n",
    "ax.set_xlim([min(Z)-0.5, max(Z)+0.5])\n",
    "ax.legend()\n",
    "\n",
    "#uqm.save_obj(Z_dict_deri_nl, f'/data/sahre/projects/atomic-energies/data/bonding_trends/other_data/derivatives/deri_row{row}')\n",
    "\n",
    "#plt.savefig(f'/home/sahre/work/bonding_trends/figures/results/row{row}_red_deri_nl.svg', bbox_inches = 'tight')"
   ]
  },
  {
   "cell_type": "code",
   "execution_count": null,
   "id": "86f81535-4c18-4308-8f9d-3af91b87fe2e",
   "metadata": {},
   "outputs": [],
   "source": [
    "Z_dict_deri_nl"
   ]
  },
  {
   "cell_type": "code",
   "execution_count": null,
   "id": "2edc560b-4e64-4f42-a7d1-a71546b303f2",
   "metadata": {},
   "outputs": [],
   "source": [
    "deri_group = {'IV':[], 'V':[], 'VI':[], 'VII':[]}\n",
    "for k in Z_dict_deri_nl.keys():\n",
    "    \n",
    "    dE = Z_dict_deri_nl[k][1]\n",
    "    deri_group['IV'].append(dE[0])\n",
    "    deri_group['V'].append(dE[1])\n",
    "    deri_group['VI'].append(dE[2])\n",
    "    deri_group['VII'].append(dE[3])\n",
    "    \n",
    "#     if k in [6,14,32]:\n",
    "#         deri_group['IV'].extend(dE)\n",
    "#     elif k in [7,15,33]:\n",
    "#         deri_group['V'].extend(dE)\n",
    "#     elif k in [8,16,34]:\n",
    "#         deri_group['VI'].extend(dE)\n",
    "#     elif k in [9,17,35]:\n",
    "#         deri_group['VII'].extend(dE)"
   ]
  },
  {
   "cell_type": "code",
   "execution_count": null,
   "id": "931d8555-54c0-4aa7-bc76-63313a6c2e7b",
   "metadata": {},
   "outputs": [],
   "source": [
    "import sys\n",
    "sys.path.insert(0, '/home/sahre/git_repositories')\n",
    "from Hammett.core import get_params as hammett_params\n",
    "from Hammett.core import prediction as hammett_prediction"
   ]
  },
  {
   "cell_type": "code",
   "execution_count": null,
   "id": "0dbe04f0-ab49-4904-9b02-61e02df5d679",
   "metadata": {},
   "outputs": [],
   "source": [
    "df_deri = dict()\n",
    "for ZA in Z:\n",
    "    df_deri[ZA] = Z_dict_deri_nl[ZA][1]\n",
    "df_deri = pd.DataFrame(df_deri).T\n",
    "params = hammett_params(df_deri)\n",
    "df_deri_pred = hammett_prediction(df_deri, params)"
   ]
  },
  {
   "cell_type": "code",
   "execution_count": null,
   "id": "0a9f2033-958d-4afc-a59d-2d32268568ee",
   "metadata": {},
   "outputs": [],
   "source": [
    "df_deri_pred.to_csv('/data/sahre/projects/atomic-energies/data/bonding_trends/other_data/hammett/predictions_row3')"
   ]
  },
  {
   "cell_type": "code",
   "execution_count": null,
   "id": "33d3df9e-04fc-4b70-9645-0aab357a1b46",
   "metadata": {},
   "outputs": [],
   "source": [
    "df_deri_pred"
   ]
  },
  {
   "cell_type": "code",
   "execution_count": null,
   "id": "ea1bd90f-a5ea-4ed4-9915-32e74e8128c7",
   "metadata": {},
   "outputs": [],
   "source": [
    "# uqm.save_obj(params, '/data/sahre/projects/atomic-energies/data/bonding_trends/other_data/hammett/params_row4')"
   ]
  },
  {
   "cell_type": "code",
   "execution_count": null,
   "id": "35b08e3f-728e-49bb-b28e-182aba9ea071",
   "metadata": {},
   "outputs": [],
   "source": [
    "# df_deri = pd.DataFrame(deri_group)\n",
    "# params = hammett_params(df_deri)\n",
    "# df_deri_pred = hammett_prediction(df_deri, params)"
   ]
  },
  {
   "cell_type": "code",
   "execution_count": null,
   "id": "5e394d7d-4014-4dad-ba04-62de1aa52721",
   "metadata": {},
   "outputs": [],
   "source": [
    "df_deri"
   ]
  },
  {
   "cell_type": "code",
   "execution_count": null,
   "id": "5a80aad8-3b0a-407e-9f8c-f8b39c698aec",
   "metadata": {},
   "outputs": [],
   "source": [
    "np.array(df_deri_pred)-np.array(df_deri)"
   ]
  },
  {
   "cell_type": "code",
   "execution_count": 1,
   "id": "0aac42c2-8a77-4528-b4ed-df5ed3d1ced6",
   "metadata": {},
   "outputs": [],
   "source": [
    "import sys\n",
    "sys.path.insert(0, '/home/sahre/git_repositories')\n",
    "sys.path.insert(0, '/home/sahre/git_repositories/APDFT/prototyping/atomic_energies/')\n",
    "import utils_qm as uqm\n",
    "\n",
    "from Hammett.core import get_params as hammett_params\n",
    "from Hammett.core import prediction as hammett_prediction\n",
    "\n",
    "import pandas as pd\n",
    "import numpy as np\n",
    "from matplotlib import pyplot as plt"
   ]
  },
  {
   "cell_type": "code",
   "execution_count": 2,
   "id": "674dc5be-284d-486a-86a1-d17439438db2",
   "metadata": {},
   "outputs": [],
   "source": [
    "# plot sigmas correctly\n",
    "param_dict = dict()\n",
    "deri_dict = dict()\n",
    "for r in [2,3,4]:\n",
    "    param_dict[r] = uqm.load_obj(f'/data/sahre/projects/atomic-energies/data/bonding_trends/other_data/hammett/params_row{r}')\n",
    "    \n",
    "    # load derivatives\n",
    "    deri_dict[r] = uqm.load_obj(f'/data/sahre/projects/atomic-energies/data/bonding_trends/other_data/derivatives/deri_row{r}')"
   ]
  },
  {
   "cell_type": "code",
   "execution_count": 23,
   "id": "12781c94-668e-436b-9238-844aa0130a47",
   "metadata": {},
   "outputs": [
    {
     "data": {
      "text/html": [
       "<div>\n",
       "<style scoped>\n",
       "    .dataframe tbody tr th:only-of-type {\n",
       "        vertical-align: middle;\n",
       "    }\n",
       "\n",
       "    .dataframe tbody tr th {\n",
       "        vertical-align: top;\n",
       "    }\n",
       "\n",
       "    .dataframe thead th {\n",
       "        text-align: right;\n",
       "    }\n",
       "</style>\n",
       "<table border=\"1\" class=\"dataframe\">\n",
       "  <thead>\n",
       "    <tr style=\"text-align: right;\">\n",
       "      <th></th>\n",
       "      <th>0</th>\n",
       "      <th>1</th>\n",
       "      <th>2</th>\n",
       "      <th>3</th>\n",
       "    </tr>\n",
       "  </thead>\n",
       "  <tbody>\n",
       "    <tr>\n",
       "      <th>14.0</th>\n",
       "      <td>-5.766702</td>\n",
       "      <td>5.579052</td>\n",
       "      <td>17.179916</td>\n",
       "      <td>29.025134</td>\n",
       "    </tr>\n",
       "    <tr>\n",
       "      <th>15.0</th>\n",
       "      <td>-14.589341</td>\n",
       "      <td>-3.243587</td>\n",
       "      <td>8.357277</td>\n",
       "      <td>20.202495</td>\n",
       "    </tr>\n",
       "    <tr>\n",
       "      <th>16.0</th>\n",
       "      <td>-23.411980</td>\n",
       "      <td>-12.066226</td>\n",
       "      <td>-0.465362</td>\n",
       "      <td>11.379856</td>\n",
       "    </tr>\n",
       "    <tr>\n",
       "      <th>17.0</th>\n",
       "      <td>-32.234620</td>\n",
       "      <td>-20.888865</td>\n",
       "      <td>-9.288001</td>\n",
       "      <td>2.557217</td>\n",
       "    </tr>\n",
       "  </tbody>\n",
       "</table>\n",
       "</div>"
      ],
      "text/plain": [
       "              0          1          2          3\n",
       "14.0  -5.766702   5.579052  17.179916  29.025134\n",
       "15.0 -14.589341  -3.243587   8.357277  20.202495\n",
       "16.0 -23.411980 -12.066226  -0.465362  11.379856\n",
       "17.0 -32.234620 -20.888865  -9.288001   2.557217"
      ]
     },
     "execution_count": 23,
     "metadata": {},
     "output_type": "execute_result"
    }
   ],
   "source": [
    "df_deri"
   ]
  },
  {
   "cell_type": "markdown",
   "id": "0ba0a84a-e64f-439e-b3d9-03989a79de23",
   "metadata": {},
   "source": [
    "### predictions"
   ]
  },
  {
   "cell_type": "code",
   "execution_count": 49,
   "id": "4cf55eee-0f93-4c52-8cca-4d3205b225e9",
   "metadata": {},
   "outputs": [
    {
     "data": {
      "image/png": "[encoded data removed]",
      "text/plain": [
       "<Figure size 288x432 with 1 Axes>"
      ]
     },
     "metadata": {
      "needs_background": "light"
     },
     "output_type": "display_data"
    }
   ],
   "source": [
    "r = 2\n",
    "row = r\n",
    "df_deri = dict()\n",
    "for k in deri_dict[r].keys():\n",
    "    df_deri[k] = deri_dict[r][k][1]\n",
    "df_deri = pd.DataFrame(df_deri).T\n",
    "\n",
    "plt.rcParams['font.size'] = 18\n",
    "plt.rcParams['figure.figsize'] = [4,6]\n",
    "fig, ax = plt.subplots(1,1)\n",
    "\n",
    "\n",
    "if row == 2:\n",
    "    #Z = [5,6,7,8,9]\n",
    "    Z = [6,7,8,9]\n",
    "    color = dict(zip([5,6,7,8,9], ['#db9c9cff','#7f7f7fff', '#1f77b4ff', '#d62728ff', '#2ca02cff']))\n",
    "elif row == 3:\n",
    "    #Z = [13, 14, 15, 16, 17]\n",
    "    Z = [14, 15, 16, 17]\n",
    "    color = dict(zip([13, 14, 15, 16, 17], ['#bba2a2ff', '#ecbe90ff', '#df770eff', '#d5d528ff', '#1ca01cff']))\n",
    "elif row == 4:\n",
    "    #Z = [31, 32, 33, 34, 35]\n",
    "    Z = [32, 33, 34, 35]\n",
    "    color = dict(zip([31, 32, 33, 34, 35], ['#cc9797ff', '#567676ff', '#a977c8ff', '#f4a51dff', '#942a2aff']))\n",
    "\n",
    "for i in df_deri.index:\n",
    "    plt.plot(list(df_deri.index), df_deri.T[i], '--v', color = color[i])\n",
    "    plt.plot(list(df_deri.index), hammett_prediction(df_deri, param_dict[r]).T[i], '^', color = color[i])\n",
    "        \n",
    "\n",
    "\n",
    "if r == 3 or r == 4:\n",
    "    ax.spines['left'].set_visible(False)\n",
    "    ax.set_yticks([])\n",
    "    pass\n",
    "else:\n",
    "    #ax.set_xlabel(r'$Z_{\\rm{B}}$')\n",
    "    ax.set_ylabel(r'$\\frac{\\partial E_{\\rm{AB}}}{\\partial Z_{\\rm{B}}}$')\n",
    "ax.spines['right'].set_visible(False)\n",
    "ax.spines['top'].set_visible(False)\n",
    "\n",
    "ax.set_ylim([-45, 30])\n",
    "#ax.set_xlim([min(Z)-0.5, max(Z)+0.5])\n",
    "#ax.legend()\n",
    "plt.savefig(f'/home/sahre/work/bonding_trends/figures/results/hammett_pred_row{r}.svg', bbox_inches = 'tight')"
   ]
  },
  {
   "cell_type": "code",
   "execution_count": 10,
   "id": "fbc0be9d-52a6-4af1-a89d-fb171ebca5b8",
   "metadata": {},
   "outputs": [
    {
     "data": {
      "text/plain": [
       "{13: '#bba2a2ff',\n",
       " 14: '#ecbe90ff',\n",
       " 15: '#df770eff',\n",
       " 16: '#d5d528ff',\n",
       " 17: '#1ca01cff'}"
      ]
     },
     "execution_count": 10,
     "metadata": {},
     "output_type": "execute_result"
    }
   ],
   "source": [
    "color"
   ]
  },
  {
   "cell_type": "code",
   "execution_count": 48,
   "id": "87d90703-6eb5-4833-abe0-7076dbb4bd5c",
   "metadata": {},
   "outputs": [],
   "source": [
    "sigmas = np.array([ param_dict[r].dicsigmas[_] for _ in df_deri.index ])\n",
    "\n",
    "x0 = np.array([ param_dict[r].dicx0[_] for _ in df_deri.columns ]) \n",
    "\n",
    "rhos = np.array([ param_dict[r].dicrho[_] for _ in df_deri.columns ])"
   ]
  },
  {
   "cell_type": "code",
   "execution_count": 62,
   "id": "71420edd-9513-4bcb-b1e4-6dc6f5d34c31",
   "metadata": {},
   "outputs": [
    {
     "data": {
      "text/plain": [
       "[<matplotlib.lines.Line2D at 0x7f9237caf7f0>]"
      ]
     },
     "execution_count": 62,
     "metadata": {},
     "output_type": "execute_result"
    },
    {
     "data": {
      "image/png": "[encoded data removed]",
      "text/plain": [
       "<Figure size 432x288 with 1 Axes>"
      ]
     },
     "metadata": {
      "needs_background": "light"
     },
     "output_type": "display_data"
    }
   ],
   "source": [
    "\n",
    "\n"
   ]
  },
  {
   "cell_type": "markdown",
   "id": "1262c385-2135-4e36-afb6-1b405aa04946",
   "metadata": {},
   "source": [
    "### $\\sigma$ and $x_0$"
   ]
  },
  {
   "cell_type": "code",
   "execution_count": 67,
   "id": "f084cb4b-1b81-4a2a-9588-bf415f110290",
   "metadata": {},
   "outputs": [
    {
     "data": {
      "text/plain": [
       "<matplotlib.legend.Legend at 0x7f9237bce3a0>"
      ]
     },
     "execution_count": 67,
     "metadata": {},
     "output_type": "execute_result"
    },
    {
     "data": {
      "image/png": "[encoded data removed]",
      "text/plain": [
       "<Figure size 432x432 with 1 Axes>"
      ]
     },
     "metadata": {
      "needs_background": "light"
     },
     "output_type": "display_data"
    }
   ],
   "source": [
    "plt.rcParams['figure.figsize'] = [6,6]\n",
    "plt.rcParams['font.size'] = 18\n",
    "for r in [2,3,4]:\n",
    "    #plt.plot(param_dict[r].dicsigmas.keys(), param_dict[r].dicsigmas.values(), '-o')\n",
    "    plt.plot([4,5,6,7], param_dict[r].dicsigmas.values(), '-o', label = f'row {r}')\n",
    "plt.xlabel(r'$N_{\\rm{VE}}$')\n",
    "plt.ylabel(r'$\\sigma$')\n",
    "plt.legend(frameon= False)\n",
    "\n",
    "# plt.savefig('/home/sahre/work/bonding_trends/figures/results/hammett_sigma.svg', bbox_inches = 'tight')"
   ]
  },
  {
   "cell_type": "code",
   "execution_count": 68,
   "id": "58379e12-eb48-4862-9d08-46cb16ca582d",
   "metadata": {},
   "outputs": [
    {
     "data": {
      "text/plain": [
       "<matplotlib.legend.Legend at 0x7f9237b36e50>"
      ]
     },
     "execution_count": 68,
     "metadata": {},
     "output_type": "execute_result"
    },
    {
     "data": {
      "image/png": "[encoded data removed]",
      "text/plain": [
       "<Figure size 432x432 with 1 Axes>"
      ]
     },
     "metadata": {
      "needs_background": "light"
     },
     "output_type": "display_data"
    }
   ],
   "source": [
    "plt.rcParams['figure.figsize'] = [6,6]\n",
    "plt.rcParams['font.size'] = 18\n",
    "for r in [2,3,4]:\n",
    "    plt.plot([4,5,6,7], param_dict[r].dicx0.values(), '-o', label = f'row {r}')\n",
    "    \n",
    "plt.xlabel(r'$N_{\\rm{VE}}$')\n",
    "plt.ylabel(r'$x_0$')\n",
    "plt.legend(frameon = False)\n",
    "\n",
    "# plt.savefig('/home/sahre/work/bonding_trends/figures/results/hammett_x0.svg', bbox_inches = 'tight')"
   ]
  },
  {
   "cell_type": "code",
   "execution_count": null,
   "id": "3cb4eca4-96b2-4ee4-a550-ba3abbf1c38a",
   "metadata": {},
   "outputs": [],
   "source": [
    "param_dict[2].dicsigmas - param_dict[2].x0[6]"
   ]
  },
  {
   "cell_type": "code",
   "execution_count": null,
   "id": "7eff4a86-d868-4b62-b569-b3f5e28230ee",
   "metadata": {},
   "outputs": [],
   "source": [
    "hammett_prediction(df_deri, params)"
   ]
  },
  {
   "cell_type": "code",
   "execution_count": null,
   "id": "a412553c-2371-4f96-8a49-ebf2e1dafd0a",
   "metadata": {},
   "outputs": [],
   "source": [
    "row = 4\n",
    "uqm.load_obj(f'/data/sahre/projects/atomic-energies/data/bonding_trends/other_data/derivatives/deri_row{row}')\n"
   ]
  },
  {
   "cell_type": "code",
   "execution_count": null,
   "id": "2935dbe8-aa29-494d-b468-86a9b50ba170",
   "metadata": {},
   "outputs": [],
   "source": []
  },
  {
   "cell_type": "code",
   "execution_count": null,
   "id": "aec08a23-c8ac-439a-80c7-a2ee63dc39af",
   "metadata": {},
   "outputs": [],
   "source": []
  },
  {
   "cell_type": "code",
   "execution_count": null,
   "id": "0ffa0f93-470b-461c-b9c7-37168865d1db",
   "metadata": {},
   "outputs": [],
   "source": []
  },
  {
   "cell_type": "code",
   "execution_count": null,
   "id": "68b8d4a2-607c-4bd9-b3f4-ce577a0e2418",
   "metadata": {},
   "outputs": [],
   "source": [
    "# multiple predictions"
   ]
  },
  {
   "cell_type": "code",
   "execution_count": null,
   "id": "657ebb51-0bd1-4a7d-bd25-3eb1f8058d10",
   "metadata": {},
   "outputs": [],
   "source": [
    "for i in range(8, 12):#range(len(deri_group['IV'])):\n",
    "    ref = []\n",
    "    for k in deri_group.keys():\n",
    "        ref.append(deri_group[k][i])\n",
    "    plt.plot(ref)\n",
    "    plt.plot(df_deri_pred.loc[df_deri_pred.index == i].T, '--')"
   ]
  },
  {
   "cell_type": "code",
   "execution_count": null,
   "id": "d152b57c-8c34-481c-8ea5-d3afb1fab500",
   "metadata": {},
   "outputs": [],
   "source": [
    "\n"
   ]
  },
  {
   "cell_type": "code",
   "execution_count": null,
   "id": "69b1263c-65d2-4e31-8b38-8cc5559f4c51",
   "metadata": {},
   "outputs": [],
   "source": [
    "plt.rcParams['font.size'] = 16\n",
    "plt.rcParams['figure.figsize'] = [16,4]\n",
    "fig, ax = plt.subplots(1,4)\n",
    "pos_E = 0\n",
    "pos_dE = 1\n",
    "pos_sig = 2\n",
    "pos_x0 = 3\n",
    "for ZA, c in zip(Z, color):\n",
    "    # plot of binding energy\n",
    "    ax[pos_E].plot(Z_dict_ref[ZA][0], Z_dict_ref[ZA][1], '-o', label = f'ZA = {ZA}', color = color[ZA])\n",
    "    ax[pos_E].plot(Z_dict_nonlinear[ZA][0], Z_dict_nonlinear[ZA][1], '-.^', color = color[ZA])\n",
    "    \n",
    "    # plot of derivative\n",
    "    ax[pos_dE].plot([min(Z)-0.5, max(Z)+0.5], [0,0], '--', color = 'tab:gray')\n",
    "    ax[pos_dE].plot(Z_dict_deri_nl[ZA][0], Z_dict_deri_nl[ZA][1], '--v', color = color[ZA], label = f'ZA = {ZA}')\n",
    "\n",
    "ax[pos_E].set_xlabel(r'$Z_{\\rm{B}}$')\n",
    "ax[pos_E].set_ylabel(r'$ E_{\\rm{AB}}$ (kcal/mol)')\n",
    "    \n",
    "ax[pos_dE].set_xlabel(r'$Z_{\\rm{B}}$')\n",
    "ax[pos_dE].set_ylabel(r'$\\frac{\\partial E_{\\rm{AB}}}{\\partial Z_{\\rm{B}}}$')\n",
    "ax[pos_dE].spines['right'].set_visible(False)\n",
    "ax[pos_dE].spines['top'].set_visible(False)\n",
    "ax[pos_dE].set_xlim([min(Z)-0.5, max(Z)+0.5])\n",
    "#ax[0].legend()\n",
    "\n",
    "ax[pos_sig].plot(Z, params.sigmas, '-o')\n",
    "ax[pos_sig].set_xlabel(r'$Z_{\\rm{B}}$')\n",
    "ax[pos_sig].set_ylabel(r'$\\sigma$')\n",
    "\n",
    "ax[pos_x0].plot(Z, params.x0, '-o')\n",
    "ax[pos_x0].set_xlabel(r'$Z_{\\rm{A}}$')\n",
    "ax[pos_x0].set_ylabel(r'$x_0$')\n",
    "\n",
    "for i in range(4):\n",
    "    ax[i].spines['right'].set_visible(False)\n",
    "    ax[i].spines['top'].set_visible(False)\n",
    "\n",
    "fig.tight_layout()\n",
    "#plt.savefig(f'/home/sahre/work/bonding_trends/figures/results/hammett_row{row}', bbox_inches = 'tight')"
   ]
  },
  {
   "cell_type": "code",
   "execution_count": null,
   "id": "461ebef3-7ea6-4627-9a86-1a05ded6d5e6",
   "metadata": {},
   "outputs": [],
   "source": [
    "hammett_params_dict[row] = {'sigma':params.sigmas, 'x0':params.x0}"
   ]
  },
  {
   "cell_type": "code",
   "execution_count": null,
   "id": "c7b28795-1c25-4700-ad31-607e219b6f3d",
   "metadata": {},
   "outputs": [],
   "source": [
    "hammett_params_dict"
   ]
  },
  {
   "cell_type": "code",
   "execution_count": null,
   "id": "a30f51c7-29fa-4d24-b7ff-7a9eda362083",
   "metadata": {},
   "outputs": [],
   "source": [
    "plt.rcParams['figure.figsize'] = [8,4]\n",
    "gig, ax = plt.subplots(1,2)\n",
    "main_group = [4,5,6,7]\n",
    "for k in hammett_params_dict.keys():\n",
    "    ax[0].plot(main_group, hammett_params_dict[k]['sigma'], '-o', label = f'row = {k}')\n",
    "    ax[1].plot(main_group, hammett_params_dict[k]['x0'], '-o')\n",
    "    \n",
    "ax[0].set_xlabel(r'main group')\n",
    "ax[0].set_ylabel(r'$\\sigma$')\n",
    "ax[0].legend(frameon = False)\n",
    "ax[1].set_xlabel(r'main group')\n",
    "ax[1].set_ylabel(r'$x_0$')\n",
    "\n",
    "for i in range(2):\n",
    "    ax[i].spines['right'].set_visible(False)\n",
    "    ax[i].spines['top'].set_visible(False)\n",
    "plt.savefig(f'/home/sahre/work/bonding_trends/figures/results/hammett_sigma_x0', bbox_inches = 'tight')"
   ]
  },
  {
   "cell_type": "code",
   "execution_count": null,
   "id": "23e063da-d1d3-4f42-a9f2-561e48cf612a",
   "metadata": {},
   "outputs": [],
   "source": [
    "main_group = [4,5,6,7]\n",
    "for k in hammett_params_dict.keys():\n",
    "    plt.plot(main_group, hammett_params_dict[k]['x0'], '-o')"
   ]
  },
  {
   "cell_type": "code",
   "execution_count": null,
   "id": "99357996-089d-4014-af3d-55d5e1ea9453",
   "metadata": {},
   "outputs": [],
   "source": [
    "import pandas as pd\n",
    "data = pd.read_csv('/data/sahre/projects/atomic-energies/data/bonding_trends/pbe0_data/energies_homolytic.csv')\n",
    "data_2 = data.loc[(data['Z1'] <= 9) & (data['Z2'] <= 9)].to_dict('list')\n"
   ]
  },
  {
   "cell_type": "code",
   "execution_count": null,
   "id": "0450a9e3-887b-4881-b0e3-904a0bd86beb",
   "metadata": {},
   "outputs": [],
   "source": [
    "-630*np.array(data_2['bfe'])"
   ]
  },
  {
   "cell_type": "code",
   "execution_count": null,
   "id": "43473e2a-a568-4d10-b139-712ce4caffbb",
   "metadata": {},
   "outputs": [],
   "source": [
    "# row 2\n",
    "Z1 = [5, 5, 5, 5, 5, 6, 6, 6, 6, 7, 7, 7, 8, 8, 9]\n",
    "Z2 = [5, 6, 7 ,8 , 9, 6, 7, 8, 9, 7, 8, 9, 8, 9, 9]\n",
    "xdata = np.array([Z1, Z2]).T\n",
    "bde = 0.24*np.array([431.6, 426.8, 583.3, 626, 705.4, 359.2, 337.7, 370.2, 452, 259.6, 253.5, 283.6, 195.2, 194.9, 151.7])\n",
    "\n",
    "#bde = np.array([110.49385254, 110.93407811, 149.27676277, 157.11721558, 171.95861673,  98.49528829,  93.20659964,  98.91705917, 115.21436085, 75.66071618,  67.20964411,  75.14743054,  54.47427191,51.72306432,  38.13809699])\n",
    "\n",
    "bde_homo = bde[[0, 5, 9, 12, 14]]#np.array([103.584, 86.208,  62.304, 46.848, 36.408])\n",
    "\n",
    "elements = ['B', 'C', 'N', 'O', 'F']\n",
    "bde_homo = dict(zip(elements, bde_homo))"
   ]
  },
  {
   "cell_type": "code",
   "execution_count": null,
   "id": "e3713e80-66c0-44e9-bcf0-7fc24840ad55",
   "metadata": {},
   "outputs": [],
   "source": [
    "# row 3\n",
    "Z1 = [13, 13, 13, 13, 13, 14, 14, 14, 14, 15, 15, 15, 16, 16, 17]\n",
    "Z2 = [13, 14, 15, 16, 17, 14, 15, 16, 17, 15, 16, 17, 16, 17, 17]\n",
    "xdata = np.array([Z1, Z2]).T\n",
    "#bde = 0.24*np.array([257.9, 289.4, 294.5, 402.5, 502.5, 313.2, 287.3, 357.4, 448.4, 225.8, 263.7, 315.1, 252, 258.3, 234.6])\n",
    "\n",
    "bde_pbe = np.array([ 59.79920224,  69.86379766,  73.47519514,  98.90234845,\n",
    "       121.12181215, 77.25620984,  74.02914862,  90.49612881, 110.73043846,\n",
    "        62.75882065,  71.1649616 ,  82.8305566 ,  70.27237772,\n",
    "        69.51302798,  62.47957441])\n",
    "\n",
    "bde_homo = bde[[0, 5, 9, 12, 14]]\n",
    "elements = ['Al', 'Si', 'P', 'S', 'Cl']\n",
    "\n",
    "bde_homo = dict(zip(elements, bde_homo))"
   ]
  },
  {
   "cell_type": "code",
   "execution_count": null,
   "id": "ad072757-cbc2-41ff-8c50-108a0dc8a794",
   "metadata": {},
   "outputs": [],
   "source": [
    "# row 4\n",
    "Z1 = [31.0, 31.0, 31.0, 31.0, 31.0, 32, 32, 32, 32, 33, 33, 33, 34, 34, 35]\n",
    "Z2 = [31.0, 32.0, 33.0, 34.0, 35.0, 32, 33, 34, 35, 33, 34, 35, 34, 35, 35]\n",
    "xdata = np.array([Z1, Z2]).T\n",
    "\n",
    "bde = np.array([65.14864892, 69.02427881, 66.26409022, 85.56362194, 99.50397576,72.21042554, 64.45730305, 74.92547657, 88.99081342, 53.84647516,\n",
    "       59.52618602, 68.87128326, 59.71296505, 59.3387519 , 54.46767659])\n",
    "\n",
    "bde_homo = bde[[0, 5, 9, 12, 14]]\n",
    "elements = ['Ga', 'Ge', 'As', 'Se', 'Br']\n",
    "\n",
    "bde_homo = dict(zip(elements, bde_homo))"
   ]
  },
  {
   "cell_type": "code",
   "execution_count": null,
   "id": "556280de-0bea-43b6-a761-9e6c55072312",
   "metadata": {},
   "outputs": [],
   "source": [
    "plt.plot(bde)"
   ]
  },
  {
   "cell_type": "code",
   "execution_count": null,
   "id": "a5bedb2d-8e18-4a52-9436-82688155006e",
   "metadata": {},
   "outputs": [],
   "source": [
    "a = np.sqrt(215)\n",
    "b = -np.sqrt(10)\n",
    "c = np.sqrt(2)\n",
    "\n",
    "af, bf, cf = curve_fit(non_linear_model_bde, xdata, ydata=bde, p0=[a,b,c])[0]"
   ]
  },
  {
   "cell_type": "code",
   "execution_count": null,
   "id": "f684b6a6-2783-4f40-9e80-48075fb16922",
   "metadata": {},
   "outputs": [],
   "source": [
    "mae = np.abs(bde-non_linear_model_bde(xdata, af, bf, cf)).mean()"
   ]
  },
  {
   "cell_type": "code",
   "execution_count": null,
   "id": "0b610cb1-4d7d-4197-8dc5-f6d8c6f68957",
   "metadata": {},
   "outputs": [],
   "source": [
    "np.abs(bde[5:]-non_linear_model_bde(xdata, af, bf, cf)[5:]).mean()"
   ]
  },
  {
   "cell_type": "code",
   "execution_count": null,
   "id": "ca1defe4-75b1-49d9-bbd0-a86de66e952e",
   "metadata": {},
   "outputs": [],
   "source": [
    "# Pauling\n",
    "chi = {'H':2.1, 'Li':1.0, 'B':2,'C':2.5, 'N':3.0, 'O':3.5, 'F':4.0, \n",
    "       'Al':1.5, 'Si':1.8, 'P':2.1, 'S':2.5, 'Cl':3.0,\n",
    "       'Ga':1.6, 'Ge':1.8, 'As':2.0, 'Se':2.4, 'Br':2.8}\n",
    "\n",
    "bde_pauling = []\n",
    "for i in range(5):\n",
    "    for j in range(i, 5):\n",
    "        el_A = elements[i]\n",
    "        el_B = elements[j]\n",
    "        \n",
    "        chi_A = chi[el_A]\n",
    "        chi_B = chi[el_B]\n",
    "        E_AA = bde_homo[el_A]\n",
    "        E_BB = bde_homo[el_B]\n",
    "        \n",
    "        E_AB = (E_AA + E_BB)/2 + 23*(chi_A - chi_B)**2\n",
    "        bde_pauling.append(E_AB)\n",
    "        \n",
    "bde_pauling = np.array(bde_pauling)\n",
    "mae_pauling = np.abs(bde_pauling-bde).mean()"
   ]
  },
  {
   "cell_type": "code",
   "execution_count": null,
   "id": "783845f2-e13a-4f3c-a514-8220f6dfb5b6",
   "metadata": {},
   "outputs": [],
   "source": []
  },
  {
   "cell_type": "code",
   "execution_count": null,
   "id": "f80b971c-87a4-4904-a3a5-27e3d23db684",
   "metadata": {},
   "outputs": [],
   "source": [
    "el_dict = {5:'B', 6:'C', 7:'N', 8:'O', 9:'F', \n",
    "           13:'Al', 14:'Si', 15:'P', 16:'S', 17:'Cl',\n",
    "           31:'Ga', 32:'Ge', 33:'As', 34:'Se', 35:'Br'}"
   ]
  },
  {
   "cell_type": "code",
   "execution_count": null,
   "id": "c90e1506-7ca1-476a-85ee-412d7f69ac25",
   "metadata": {},
   "outputs": [],
   "source": [
    "plt.rcParams['figure.figsize'] = [8,4]\n",
    "plt.rcParams['font.size'] = 14\n",
    "\n",
    "xlabels = []\n",
    "for el1, el2 in xdata:\n",
    "    xlabels.append(el_dict[el1] + el_dict[el2])\n",
    "\n",
    "plt.plot(xlabels, bde, '-o', label = 'ref')\n",
    "plt.plot(non_linear_model_bde(xdata, af, bf, cf), '-o', label = f'fit, MAE = {np.round(mae, 1)} kcal/mol')\n",
    "plt.plot(bde_pauling, '-v', label = f'Pauling, MAE = {np.round(mae_pauling, 1)}')\n",
    "\n",
    "plt.ylabel('BDE (kcal/mol)')\n",
    "plt.legend()"
   ]
  },
  {
   "cell_type": "code",
   "execution_count": null,
   "id": "b5ed9b81-75cd-489b-8640-6aa5a693ec68",
   "metadata": {},
   "outputs": [],
   "source": [
    "plt.rcParams['figure.figsize'] = [4,4]\n",
    "plt.rcParams['font.size'] = 18\n",
    "\n",
    "plt.plot([np.amin(bde), np.amax(bde)], [np.amin(bde), np.amax(bde)], '--', color = 'tab:gray')\n",
    "plt.plot(bde, non_linear_model_bde(xdata, af, bf, cf), 'o')\n",
    "\n",
    "plt.xlabel('BDE ref (kcal/mol)')\n",
    "plt.ylabel('BDE model (kcal/mol)')"
   ]
  }
 ],
 "metadata": {
  "kernelspec": {
   "display_name": "Python 3",
   "language": "python",
   "name": "python3"
  },
  "language_info": {
   "codemirror_mode": {
    "name": "ipython",
    "version": 3
   },
   "file_extension": ".py",
   "mimetype": "text/x-python",
   "name": "python",
   "nbconvert_exporter": "python",
   "pygments_lexer": "ipython3",
   "version": "3.9.5"
  }
 },
 "nbformat": 4,
 "nbformat_minor": 5
}
