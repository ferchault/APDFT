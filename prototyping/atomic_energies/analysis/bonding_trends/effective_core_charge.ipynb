{
 "cells": [
  {
   "cell_type": "code",
   "execution_count": 1,
   "id": "fc1f5d09-e0d0-4921-ac16-4eadccb359d9",
   "metadata": {},
   "outputs": [],
   "source": [
    "import importlib\n",
    "\n",
    "import ase.io as aio\n",
    "from ase.units import Bohr\n",
    "import numpy as np\n",
    "import glob\n",
    "\n",
    "import sys\n",
    "sys.path.insert(0, '/home/sahre/git_repositories/APDFT/prototyping/atomic_energies/')\n",
    "import bt_tools as bt\n",
    "importlib.reload(bt)\n",
    "\n",
    "from matplotlib import pyplot as plt"
   ]
  },
  {
   "cell_type": "markdown",
   "id": "e3730645-941c-489e-a486-46ddacb07b66",
   "metadata": {},
   "source": [
    "### calculate effective core charge"
   ]
  },
  {
   "cell_type": "code",
   "execution_count": 2,
   "id": "89accf35-b88b-4da9-92e7-4edd7ac34b15",
   "metadata": {},
   "outputs": [],
   "source": [
    "weighted_core = lambda Ne, Zs, Zp: 2*Zs/Ne + (Ne-2)/Ne*Zp\n",
    "\n",
    "zs2 = np.array([3.217, 3.847, 4.492, 5.128])\n",
    "zp2 = np.array([3.136, 3.834, 4.453, 5.100])\n",
    "\n",
    "zs3 = np.array([4.903, \t5.642, \t6.367, \t7.068])\n",
    "zp3 = np.array([4.285, 4.886, 5.482, 6.116])\n",
    "\n",
    "zs4 = np.array([8.044, \t8.944, \t9.758, \t10.553])\n",
    "zp4 = np.array([6.780, 7.449, 8.287, 9.028])\n",
    "\n",
    "zs = [zs2, zs3, zs4]\n",
    "zp = [zp2, zp3, zp4]\n",
    "ne = [4, 5, 6, 7]\n",
    "z_eff = []\n",
    "for rs, rp in zip(zs, zp):\n",
    "    zr = []\n",
    "    for s, p, n in zip(rs, rp, ne):\n",
    "        zr.append(weighted_core(n, s, p))\n",
    "    z_eff.append(zr)\n",
    "    \n",
    "# z_eff = [[6, 7, 8, 9], [14, 15, 16, 17], [32, 33, 34, 35]]\n",
    "# z_eff = [zp2, zp3, zp4]"
   ]
  },
  {
   "cell_type": "code",
   "execution_count": 3,
   "id": "1fb2c27e-f515-4708-a2b6-295ea778dabf",
   "metadata": {},
   "outputs": [
    {
     "data": {
      "text/plain": [
       "[[3.1765, 3.8392, 4.466, 5.108],\n",
       " [4.593999999999999, 5.1884, 5.776999999999999, 6.388],\n",
       " [7.412000000000001, 8.047, 8.777333333333333, 9.463714285714287]]"
      ]
     },
     "execution_count": 3,
     "metadata": {},
     "output_type": "execute_result"
    }
   ],
   "source": [
    "z_eff"
   ]
  },
  {
   "cell_type": "markdown",
   "id": "d1492b21-de5c-48e4-9340-26f66f460f5a",
   "metadata": {},
   "source": [
    "## optimize with effective core charges"
   ]
  },
  {
   "cell_type": "code",
   "execution_count": 4,
   "id": "423401c7-18bf-40fc-9c08-5e2e57d972ae",
   "metadata": {},
   "outputs": [],
   "source": [
    "importlib.reload(bt)\n",
    "\n",
    "def comp_dist2(var, alpha, beta, b_prime, a, b):\n",
    "    Z1, Z2, d = var.T\n",
    "    comp = (-beta*(Z1**(7/3)+Z2**(7/3))+alpha+b_prime*Z1*Z2)\n",
    "    dist = a/d+b#+b/d+c\n",
    "    return(comp*dist)\n",
    "\n",
    "def comp_gamma_dist2(var, alpha, beta, gamma, b_prime, a, b):\n",
    "    Z1, Z2, d = var.T\n",
    "    comp = -beta**2*(Z1**(gamma**2)+Z2**(gamma**2))+alpha-(b_prime**2)*Z1*Z2\n",
    "    dist = a/d+b#/d+c\n",
    "    return(comp*dist)"
   ]
  },
  {
   "cell_type": "code",
   "execution_count": 5,
   "id": "f8ac4281-b289-4a3d-b86c-1d9062b0b472",
   "metadata": {},
   "outputs": [
    {
     "ename": "OSError",
     "evalue": "/data/sahre/projects/atomic-energies/data/bonding_trends/pbe0_data/row_2/energies_single.txt not found.",
     "output_type": "error",
     "traceback": [
      "\u001b[0;31m---------------------------------------------------------------------------\u001b[0m",
      "\u001b[0;31mOSError\u001b[0m                                   Traceback (most recent call last)",
      "\u001b[0;32m<ipython-input-5-fbea03180a31>\u001b[0m in \u001b[0;36m<module>\u001b[0;34m\u001b[0m\n\u001b[0;32m----> 1\u001b[0;31m \u001b[0me2\u001b[0m \u001b[0;34m=\u001b[0m \u001b[0mnp\u001b[0m\u001b[0;34m.\u001b[0m\u001b[0mloadtxt\u001b[0m\u001b[0;34m(\u001b[0m\u001b[0;34m'/data/sahre/projects/atomic-energies/data/bonding_trends/pbe0_data/row_2/energies_single.txt'\u001b[0m\u001b[0;34m)\u001b[0m\u001b[0;34m\u001b[0m\u001b[0;34m\u001b[0m\u001b[0m\n\u001b[0m\u001b[1;32m      2\u001b[0m \u001b[0me3\u001b[0m \u001b[0;34m=\u001b[0m \u001b[0mnp\u001b[0m\u001b[0;34m.\u001b[0m\u001b[0mloadtxt\u001b[0m\u001b[0;34m(\u001b[0m\u001b[0;34m'/data/sahre/projects/atomic-energies/data/bonding_trends/pbe0_data/row_3/energies_single.txt'\u001b[0m\u001b[0;34m)\u001b[0m\u001b[0;34m\u001b[0m\u001b[0;34m\u001b[0m\u001b[0m\n\u001b[1;32m      3\u001b[0m \u001b[0me4\u001b[0m \u001b[0;34m=\u001b[0m \u001b[0mnp\u001b[0m\u001b[0;34m.\u001b[0m\u001b[0mloadtxt\u001b[0m\u001b[0;34m(\u001b[0m\u001b[0;34m'/data/sahre/projects/atomic-energies/data/bonding_trends/pbe0_data/row_4/energies_single.txt'\u001b[0m\u001b[0;34m)\u001b[0m\u001b[0;34m\u001b[0m\u001b[0;34m\u001b[0m\u001b[0m\n\u001b[1;32m      4\u001b[0m \u001b[0;34m\u001b[0m\u001b[0m\n\u001b[1;32m      5\u001b[0m \u001b[0;32mfor\u001b[0m \u001b[0me\u001b[0m\u001b[0;34m,\u001b[0m \u001b[0mz\u001b[0m \u001b[0;32min\u001b[0m \u001b[0mzip\u001b[0m\u001b[0;34m(\u001b[0m\u001b[0;34m[\u001b[0m\u001b[0me2\u001b[0m\u001b[0;34m,\u001b[0m \u001b[0me3\u001b[0m\u001b[0;34m,\u001b[0m \u001b[0me4\u001b[0m\u001b[0;34m]\u001b[0m\u001b[0;34m,\u001b[0m \u001b[0mz_eff\u001b[0m\u001b[0;34m)\u001b[0m\u001b[0;34m:\u001b[0m\u001b[0;34m\u001b[0m\u001b[0;34m\u001b[0m\u001b[0m\n",
      "\u001b[0;32m~/opt/miniconda3/envs/qm-tools/lib/python3.9/site-packages/numpy/lib/npyio.py\u001b[0m in \u001b[0;36mloadtxt\u001b[0;34m(fname, dtype, comments, delimiter, converters, skiprows, usecols, unpack, ndmin, encoding, max_rows, like)\u001b[0m\n\u001b[1;32m   1063\u001b[0m             \u001b[0mfname\u001b[0m \u001b[0;34m=\u001b[0m \u001b[0mos_fspath\u001b[0m\u001b[0;34m(\u001b[0m\u001b[0mfname\u001b[0m\u001b[0;34m)\u001b[0m\u001b[0;34m\u001b[0m\u001b[0;34m\u001b[0m\u001b[0m\n\u001b[1;32m   1064\u001b[0m         \u001b[0;32mif\u001b[0m \u001b[0m_is_string_like\u001b[0m\u001b[0;34m(\u001b[0m\u001b[0mfname\u001b[0m\u001b[0;34m)\u001b[0m\u001b[0;34m:\u001b[0m\u001b[0;34m\u001b[0m\u001b[0;34m\u001b[0m\u001b[0m\n\u001b[0;32m-> 1065\u001b[0;31m             \u001b[0mfh\u001b[0m \u001b[0;34m=\u001b[0m \u001b[0mnp\u001b[0m\u001b[0;34m.\u001b[0m\u001b[0mlib\u001b[0m\u001b[0;34m.\u001b[0m\u001b[0m_datasource\u001b[0m\u001b[0;34m.\u001b[0m\u001b[0mopen\u001b[0m\u001b[0;34m(\u001b[0m\u001b[0mfname\u001b[0m\u001b[0;34m,\u001b[0m \u001b[0;34m'rt'\u001b[0m\u001b[0;34m,\u001b[0m \u001b[0mencoding\u001b[0m\u001b[0;34m=\u001b[0m\u001b[0mencoding\u001b[0m\u001b[0;34m)\u001b[0m\u001b[0;34m\u001b[0m\u001b[0;34m\u001b[0m\u001b[0m\n\u001b[0m\u001b[1;32m   1066\u001b[0m             \u001b[0mfencoding\u001b[0m \u001b[0;34m=\u001b[0m \u001b[0mgetattr\u001b[0m\u001b[0;34m(\u001b[0m\u001b[0mfh\u001b[0m\u001b[0;34m,\u001b[0m \u001b[0;34m'encoding'\u001b[0m\u001b[0;34m,\u001b[0m \u001b[0;34m'latin1'\u001b[0m\u001b[0;34m)\u001b[0m\u001b[0;34m\u001b[0m\u001b[0;34m\u001b[0m\u001b[0m\n\u001b[1;32m   1067\u001b[0m             \u001b[0mfh\u001b[0m \u001b[0;34m=\u001b[0m \u001b[0miter\u001b[0m\u001b[0;34m(\u001b[0m\u001b[0mfh\u001b[0m\u001b[0;34m)\u001b[0m\u001b[0;34m\u001b[0m\u001b[0;34m\u001b[0m\u001b[0m\n",
      "\u001b[0;32m~/opt/miniconda3/envs/qm-tools/lib/python3.9/site-packages/numpy/lib/_datasource.py\u001b[0m in \u001b[0;36mopen\u001b[0;34m(path, mode, destpath, encoding, newline)\u001b[0m\n\u001b[1;32m    192\u001b[0m \u001b[0;34m\u001b[0m\u001b[0m\n\u001b[1;32m    193\u001b[0m     \u001b[0mds\u001b[0m \u001b[0;34m=\u001b[0m \u001b[0mDataSource\u001b[0m\u001b[0;34m(\u001b[0m\u001b[0mdestpath\u001b[0m\u001b[0;34m)\u001b[0m\u001b[0;34m\u001b[0m\u001b[0;34m\u001b[0m\u001b[0m\n\u001b[0;32m--> 194\u001b[0;31m     \u001b[0;32mreturn\u001b[0m \u001b[0mds\u001b[0m\u001b[0;34m.\u001b[0m\u001b[0mopen\u001b[0m\u001b[0;34m(\u001b[0m\u001b[0mpath\u001b[0m\u001b[0;34m,\u001b[0m \u001b[0mmode\u001b[0m\u001b[0;34m,\u001b[0m \u001b[0mencoding\u001b[0m\u001b[0;34m=\u001b[0m\u001b[0mencoding\u001b[0m\u001b[0;34m,\u001b[0m \u001b[0mnewline\u001b[0m\u001b[0;34m=\u001b[0m\u001b[0mnewline\u001b[0m\u001b[0;34m)\u001b[0m\u001b[0;34m\u001b[0m\u001b[0;34m\u001b[0m\u001b[0m\n\u001b[0m\u001b[1;32m    195\u001b[0m \u001b[0;34m\u001b[0m\u001b[0m\n\u001b[1;32m    196\u001b[0m \u001b[0;34m\u001b[0m\u001b[0m\n",
      "\u001b[0;32m~/opt/miniconda3/envs/qm-tools/lib/python3.9/site-packages/numpy/lib/_datasource.py\u001b[0m in \u001b[0;36mopen\u001b[0;34m(self, path, mode, encoding, newline)\u001b[0m\n\u001b[1;32m    529\u001b[0m                                       encoding=encoding, newline=newline)\n\u001b[1;32m    530\u001b[0m         \u001b[0;32melse\u001b[0m\u001b[0;34m:\u001b[0m\u001b[0;34m\u001b[0m\u001b[0;34m\u001b[0m\u001b[0m\n\u001b[0;32m--> 531\u001b[0;31m             \u001b[0;32mraise\u001b[0m \u001b[0mIOError\u001b[0m\u001b[0;34m(\u001b[0m\u001b[0;34m\"%s not found.\"\u001b[0m \u001b[0;34m%\u001b[0m \u001b[0mpath\u001b[0m\u001b[0;34m)\u001b[0m\u001b[0;34m\u001b[0m\u001b[0;34m\u001b[0m\u001b[0m\n\u001b[0m\u001b[1;32m    532\u001b[0m \u001b[0;34m\u001b[0m\u001b[0m\n\u001b[1;32m    533\u001b[0m \u001b[0;34m\u001b[0m\u001b[0m\n",
      "\u001b[0;31mOSError\u001b[0m: /data/sahre/projects/atomic-energies/data/bonding_trends/pbe0_data/row_2/energies_single.txt not found."
     ]
    }
   ],
   "source": [
    "e2 = np.loadtxt('/data/sahre/projects/atomic-energies/data/bonding_trends/pbe0_data/row_2/energies_single.txt')\n",
    "e3 = np.loadtxt('/data/sahre/projects/atomic-energies/data/bonding_trends/pbe0_data/row_3/energies_single.txt')\n",
    "e4 = np.loadtxt('/data/sahre/projects/atomic-energies/data/bonding_trends/pbe0_data/row_4/energies_single.txt')\n",
    "\n",
    "for e, z in zip([e2, e3, e4], z_eff):\n",
    "    e_nuc = []\n",
    "    for i in range(len(z)):\n",
    "        for j in range(i, len(z)):\n",
    "            e_nuc.append(z[i]*z[j])\n",
    "    e_nuc = np.array(e_nuc)\n",
    "    e_el = (e[:,0] - e_nuc).copy()\n",
    "    e[:,1] = e_el\n",
    "    e[:,2] = e_nuc\n",
    "\n",
    "distances = np.array([10*[1.42] + 10*[2.12] + 10*[2.36]])\n",
    "distances /= Bohr\n",
    "\n",
    "energies = np.concatenate((e2, e3, e4), axis = 0)\n",
    "\n",
    "b_zeff = bt.BDE_dist(energies, z_eff, distances)\n",
    "\n",
    "b_zeff.fit(comp_dist2)\n",
    "cd_mae = b_zeff.mae.copy()\n",
    "bde_cd = b_zeff.bde_fitted.copy()\n",
    "\n",
    "b_zeff.fit(comp_gamma_dist2)\n",
    "cd_gamma_mae = b_zeff.mae.copy()\n",
    "bde_cd_gamma = b_zeff.bde_fitted.copy()\n",
    "\n",
    "plt.plot(b_zeff.bde, label = 'ref')\n",
    "plt.plot(bde_cd, label = f'cd, MAE = {np.round(cd_mae, 1)}')\n",
    "plt.plot(bde_cd_gamma, label = f'cd gamma, MAE = {np.round(cd_gamma_mae, 1)}')\n",
    "plt.legend()"
   ]
  },
  {
   "cell_type": "markdown",
   "id": "38534429-a72c-48dd-a154-563a99d6ee36",
   "metadata": {},
   "source": [
    "## optimize $Z_\\text{eff}$"
   ]
  },
  {
   "cell_type": "code",
   "execution_count": 11,
   "id": "df5f1e57-24b4-4273-9ad4-13189ad08e43",
   "metadata": {},
   "outputs": [],
   "source": [
    "comp_gamma_dist2_flexible_zeff_lat = None\n",
    "\n",
    "def comp_gamma_dist2_flexible_zeff(*args):\n",
    "    globals()['comp_gamma_dist2_flexible_zeff_lat'] = args[1:]\n",
    "    var = args[0]\n",
    "    alpha, beta, gamma, b_prime, a, b = args[1:7]\n",
    "    Zeffs = args[7:]\n",
    "    lookup = [6,7,8,9,14,15,16,17,32,33,34,35]\n",
    "    \n",
    "    Z1, Z2, d = var.T\n",
    "    Z1e = np.array([Zeffs[lookup.index(int(_))] for _ in Z1])\n",
    "    Z2e = np.array([Zeffs[lookup.index(int(_))] for _ in Z2])\n",
    "    comp = -beta**2*(Z1e**(gamma**2)+Z2e**(gamma**2))+alpha-(b_prime**2)*Z1e*Z2e\n",
    "    dist = a/d+b#/d+c\n",
    "    \n",
    "    #print(args[1:])\n",
    "    return(comp*dist)"
   ]
  },
  {
   "cell_type": "code",
   "execution_count": 8,
   "id": "a61b40ed-a9e6-49d2-9160-7375275753f1",
   "metadata": {
    "tags": []
   },
   "outputs": [
    {
     "name": "stderr",
     "output_type": "stream",
     "text": [
      "<ipython-input-7-c053d4e68801>:13: RuntimeWarning: invalid value encountered in power\n",
      "  comp = -beta**2*(Z1e**(gamma**2)+Z2e**(gamma**2))+alpha-(b_prime**2)*Z1e*Z2e\n"
     ]
    },
    {
     "ename": "RuntimeError",
     "evalue": "Optimal parameters not found: Number of calls to function has reached maxfev = 100000.",
     "output_type": "error",
     "traceback": [
      "\u001b[0;31m---------------------------------------------------------------------------\u001b[0m",
      "\u001b[0;31mRuntimeError\u001b[0m                              Traceback (most recent call last)",
      "\u001b[0;32m<ipython-input-8-4e6c636a6213>\u001b[0m in \u001b[0;36m<module>\u001b[0;34m\u001b[0m\n\u001b[1;32m     29\u001b[0m \u001b[0;31m# fitoptimizeoptimize\u001b[0m\u001b[0;34m\u001b[0m\u001b[0;34m\u001b[0m\u001b[0;34m\u001b[0m\u001b[0m\n\u001b[1;32m     30\u001b[0m \u001b[0mb_flexi_zeff\u001b[0m \u001b[0;34m=\u001b[0m \u001b[0mbt\u001b[0m\u001b[0;34m.\u001b[0m\u001b[0mBDE_dist\u001b[0m\u001b[0;34m(\u001b[0m\u001b[0menergies\u001b[0m\u001b[0;34m,\u001b[0m \u001b[0mnuc_charges\u001b[0m\u001b[0;34m,\u001b[0m \u001b[0mdistances\u001b[0m\u001b[0;34m)\u001b[0m\u001b[0;34m\u001b[0m\u001b[0;34m\u001b[0m\u001b[0m\n\u001b[0;32m---> 31\u001b[0;31m \u001b[0mb_flexi_zeff\u001b[0m\u001b[0;34m.\u001b[0m\u001b[0mfit\u001b[0m\u001b[0;34m(\u001b[0m\u001b[0mcomp_gamma_dist2_flexible_zeff\u001b[0m\u001b[0;34m,\u001b[0m \u001b[0mp0\u001b[0m\u001b[0;34m)\u001b[0m\u001b[0;34m\u001b[0m\u001b[0;34m\u001b[0m\u001b[0m\n\u001b[0m\u001b[1;32m     32\u001b[0m \u001b[0;34m\u001b[0m\u001b[0m\n\u001b[1;32m     33\u001b[0m \u001b[0mplt\u001b[0m\u001b[0;34m.\u001b[0m\u001b[0mrcParams\u001b[0m\u001b[0;34m[\u001b[0m\u001b[0;34m'font.size'\u001b[0m\u001b[0;34m]\u001b[0m \u001b[0;34m=\u001b[0m \u001b[0;36m15\u001b[0m\u001b[0;34m\u001b[0m\u001b[0;34m\u001b[0m\u001b[0m\n",
      "\u001b[0;32m~/git_repositories/APDFT/prototyping/atomic_energies/bt_tools.py\u001b[0m in \u001b[0;36mfit\u001b[0;34m(self, model, p0)\u001b[0m\n\u001b[1;32m     94\u001b[0m     \u001b[0;32mdef\u001b[0m \u001b[0mfit\u001b[0m\u001b[0;34m(\u001b[0m\u001b[0mself\u001b[0m\u001b[0;34m,\u001b[0m \u001b[0mmodel\u001b[0m\u001b[0;34m,\u001b[0m \u001b[0mp0\u001b[0m \u001b[0;34m=\u001b[0m \u001b[0;32mNone\u001b[0m\u001b[0;34m)\u001b[0m\u001b[0;34m:\u001b[0m\u001b[0;34m\u001b[0m\u001b[0;34m\u001b[0m\u001b[0m\n\u001b[1;32m     95\u001b[0m         \u001b[0;32mif\u001b[0m \u001b[0mp0\u001b[0m \u001b[0;32mis\u001b[0m \u001b[0;32mnot\u001b[0m \u001b[0;32mNone\u001b[0m\u001b[0;34m:\u001b[0m\u001b[0;34m\u001b[0m\u001b[0;34m\u001b[0m\u001b[0m\n\u001b[0;32m---> 96\u001b[0;31m             \u001b[0mself\u001b[0m\u001b[0;34m.\u001b[0m\u001b[0mparams\u001b[0m \u001b[0;34m=\u001b[0m \u001b[0mcurve_fit\u001b[0m\u001b[0;34m(\u001b[0m\u001b[0mmodel\u001b[0m\u001b[0;34m,\u001b[0m \u001b[0mself\u001b[0m\u001b[0;34m.\u001b[0m\u001b[0mxdata\u001b[0m\u001b[0;34m,\u001b[0m \u001b[0mself\u001b[0m\u001b[0;34m.\u001b[0m\u001b[0mebfe\u001b[0m\u001b[0;34m,\u001b[0m \u001b[0mp0\u001b[0m\u001b[0;34m,\u001b[0m \u001b[0mmaxfev\u001b[0m\u001b[0;34m=\u001b[0m\u001b[0;36m100000\u001b[0m\u001b[0;34m)\u001b[0m\u001b[0;34m\u001b[0m\u001b[0;34m\u001b[0m\u001b[0m\n\u001b[0m\u001b[1;32m     97\u001b[0m         \u001b[0;32melse\u001b[0m\u001b[0;34m:\u001b[0m\u001b[0;34m\u001b[0m\u001b[0;34m\u001b[0m\u001b[0m\n\u001b[1;32m     98\u001b[0m             \u001b[0mself\u001b[0m\u001b[0;34m.\u001b[0m\u001b[0mparams\u001b[0m \u001b[0;34m=\u001b[0m \u001b[0mcurve_fit\u001b[0m\u001b[0;34m(\u001b[0m\u001b[0mmodel\u001b[0m\u001b[0;34m,\u001b[0m \u001b[0mself\u001b[0m\u001b[0;34m.\u001b[0m\u001b[0mxdata\u001b[0m\u001b[0;34m,\u001b[0m \u001b[0mself\u001b[0m\u001b[0;34m.\u001b[0m\u001b[0mebfe\u001b[0m\u001b[0;34m)\u001b[0m\u001b[0;34m\u001b[0m\u001b[0;34m\u001b[0m\u001b[0m\n",
      "\u001b[0;32m~/opt/miniconda3/envs/qm-tools/lib/python3.9/site-packages/scipy/optimize/minpack.py\u001b[0m in \u001b[0;36mcurve_fit\u001b[0;34m(f, xdata, ydata, p0, sigma, absolute_sigma, check_finite, bounds, method, jac, **kwargs)\u001b[0m\n\u001b[1;32m    787\u001b[0m         \u001b[0mcost\u001b[0m \u001b[0;34m=\u001b[0m \u001b[0mnp\u001b[0m\u001b[0;34m.\u001b[0m\u001b[0msum\u001b[0m\u001b[0;34m(\u001b[0m\u001b[0minfodict\u001b[0m\u001b[0;34m[\u001b[0m\u001b[0;34m'fvec'\u001b[0m\u001b[0;34m]\u001b[0m \u001b[0;34m**\u001b[0m \u001b[0;36m2\u001b[0m\u001b[0;34m)\u001b[0m\u001b[0;34m\u001b[0m\u001b[0;34m\u001b[0m\u001b[0m\n\u001b[1;32m    788\u001b[0m         \u001b[0;32mif\u001b[0m \u001b[0mier\u001b[0m \u001b[0;32mnot\u001b[0m \u001b[0;32min\u001b[0m \u001b[0;34m[\u001b[0m\u001b[0;36m1\u001b[0m\u001b[0;34m,\u001b[0m \u001b[0;36m2\u001b[0m\u001b[0;34m,\u001b[0m \u001b[0;36m3\u001b[0m\u001b[0;34m,\u001b[0m \u001b[0;36m4\u001b[0m\u001b[0;34m]\u001b[0m\u001b[0;34m:\u001b[0m\u001b[0;34m\u001b[0m\u001b[0;34m\u001b[0m\u001b[0m\n\u001b[0;32m--> 789\u001b[0;31m             \u001b[0;32mraise\u001b[0m \u001b[0mRuntimeError\u001b[0m\u001b[0;34m(\u001b[0m\u001b[0;34m\"Optimal parameters not found: \"\u001b[0m \u001b[0;34m+\u001b[0m \u001b[0merrmsg\u001b[0m\u001b[0;34m)\u001b[0m\u001b[0;34m\u001b[0m\u001b[0;34m\u001b[0m\u001b[0m\n\u001b[0m\u001b[1;32m    790\u001b[0m     \u001b[0;32melse\u001b[0m\u001b[0;34m:\u001b[0m\u001b[0;34m\u001b[0m\u001b[0;34m\u001b[0m\u001b[0m\n\u001b[1;32m    791\u001b[0m         \u001b[0;31m# Rename maxfev (leastsq) to max_nfev (least_squares), if specified.\u001b[0m\u001b[0;34m\u001b[0m\u001b[0;34m\u001b[0m\u001b[0;34m\u001b[0m\u001b[0m\n",
      "\u001b[0;31mRuntimeError\u001b[0m: Optimal parameters not found: Number of calls to function has reached maxfev = 100000."
     ]
    }
   ],
   "source": [
    "e2 = np.loadtxt('/data/sahre/projects/atomic-energies/data/bonding_trends/pbe0_data/row_2/energies_single.txt')\n",
    "e3 = np.loadtxt('/data/sahre/projects/atomic-energies/data/bonding_trends/pbe0_data/row_3/energies_single.txt')\n",
    "e4 = np.loadtxt('/data/sahre/projects/atomic-energies/data/bonding_trends/pbe0_data/row_4/energies_single.txt')\n",
    "\n",
    "for e, z in zip([e2, e3, e4], z_eff):\n",
    "    e_nuc = []\n",
    "    for i in range(len(z)):\n",
    "        for j in range(i, len(z)):\n",
    "            e_nuc.append(z[i]*z[j])\n",
    "    e_nuc = np.array(e_nuc)\n",
    "    e_el = (e[:,0] - e_nuc).copy()\n",
    "    e[:,1] = e_el\n",
    "    e[:,2] = e_nuc\n",
    "\n",
    "distances = np.array([10*[1.42] + 10*[2.12] + 10*[2.36]])\n",
    "distances /= Bohr\n",
    "\n",
    "energies = np.concatenate((e2, e3, e4), axis = 0)\n",
    "\n",
    "nuc_charges = [[6, 7, 8, 9], [14, 15, 16, 17], [32, 33, 34, 35]]\n",
    "\n",
    "# initial parameters\n",
    "b_ini = bt.BDE_dist(energies, z_eff, distances)\n",
    "b_ini.fit(comp_gamma_dist2)\n",
    "alpha, beta, gamma, bprime, a, b = b_ini.params[0].copy()\n",
    "p0 = np.array((alpha, np.sqrt(abs(beta)), np.sqrt(abs(gamma)), np.sqrt(abs(bprime)), a, b))\n",
    "p0 = np.concatenate((p0, np.array(z_eff).flatten()))\n",
    "\n",
    "# fitoptimizeoptimize\n",
    "b_flexi_zeff = bt.BDE_dist(energies, nuc_charges, distances)\n",
    "b_flexi_zeff.fit(comp_gamma_dist2_flexible_zeff, p0)\n",
    "\n",
    "plt.rcParams['font.size'] = 15\n",
    "plt.plot(b_flexi_zeff.bde)\n",
    "plt.plot(b_flexi_zeff.bde_fitted, label = r'$Z_{\\rm{eff, opt}}$, MAE = ' + str(np.round(b_flexi_zeff.mae, 2)))\n",
    "plt.legend()"
   ]
  },
  {
   "cell_type": "code",
   "execution_count": 9,
   "id": "bfa37651-3f89-4364-9355-36596358a835",
   "metadata": {},
   "outputs": [
    {
     "data": {
      "text/plain": [
       "<matplotlib.legend.Legend at 0x7f01f5733490>"
      ]
     },
     "execution_count": 9,
     "metadata": {},
     "output_type": "execute_result"
    },
    {
     "data": {
      "image/png": "[encoded data removed]",
      "text/plain": [
       "<Figure size 432x288 with 1 Axes>"
      ]
     },
     "metadata": {
      "needs_background": "light"
     },
     "output_type": "display_data"
    }
   ],
   "source": [
    "params = comp_gamma_dist2_flexible_zeff_lat\n",
    "ebfe_flexi = comp_gamma_dist2_flexible_zeff(*(b_flexi_zeff.xdata, *params))\n",
    "bde_flexi = -(ebfe_flexi+b_flexi_zeff.nbfe)\n",
    "\n",
    "mae_flexi = np.abs(bde_flexi-b_flexi_zeff.bde).mean()\n",
    "\n",
    "plt.rcParams['font.size'] = 15\n",
    "plt.plot(b_flexi_zeff.bde)\n",
    "plt.plot(bde_flexi, label = r'$Z_{\\rm{eff, opt}}$, MAE = ' + str(np.round(mae_flexi, 2)))\n",
    "plt.legend()"
   ]
  },
  {
   "cell_type": "code",
   "execution_count": null,
   "id": "4c0f334a-a175-4162-9247-c40574ed8af9",
   "metadata": {},
   "outputs": [],
   "source": []
  },
  {
   "cell_type": "markdown",
   "id": "c990113b-358f-4e6d-a705-48537ed9260c",
   "metadata": {},
   "source": [
    "## optimize $Z_\\text{eff}$ a la Guido"
   ]
  },
  {
   "cell_type": "code",
   "execution_count": null,
   "id": "79694646-e2ef-4314-b0f5-7b095b6bab17",
   "metadata": {},
   "outputs": [],
   "source": [
    "def comp_gamma_dist2_flexible_zeff2(*args):\n",
    "    globals()['comp_gamma_dist2_flexible_zeff_lat'] = args[1:]\n",
    "    var = args[0]\n",
    "    alpha, beta, gamma, b_prime, a, b = args[1:7]\n",
    "    Zeffs = args[7:]\n",
    "    lookup = [6,7,8,9,14,15,16,17,32,33,34,35]\n",
    "    \n",
    "    Z1, Z2, d = var.T\n",
    "    Z1e = np.array([Zeffs[lookup.index(int(_))] for _ in Z1])\n",
    "    Z2e = np.array([Zeffs[lookup.index(int(_))] for _ in Z2])\n",
    "    comp = -beta**2*(Z1**(gamma**2)+Z2**(gamma**2))+alpha-(b_prime**2)*Z1e*Z2e\n",
    "    dist = a/d+b#/d+c\n",
    "    \n",
    "    #print(args[1:])\n",
    "    return(comp*dist)"
   ]
  },
  {
   "cell_type": "code",
   "execution_count": 12,
   "id": "b23744c6-700f-4369-8a32-ed93bc2fbbc8",
   "metadata": {},
   "outputs": [
    {
     "data": {
      "text/plain": [
       "<matplotlib.legend.Legend at 0x7f01f4624c10>"
      ]
     },
     "execution_count": 12,
     "metadata": {},
     "output_type": "execute_result"
    },
    {
     "data": {
      "image/png": "[encoded data removed]",
      "text/plain": [
       "<Figure size 432x288 with 1 Axes>"
      ]
     },
     "metadata": {
      "needs_background": "light"
     },
     "output_type": "display_data"
    }
   ],
   "source": [
    "e2 = np.loadtxt('/data/sahre/projects/atomic-energies/data/bonding_trends/pbe0_data/row_2/energies_single.txt')\n",
    "e3 = np.loadtxt('/data/sahre/projects/atomic-energies/data/bonding_trends/pbe0_data/row_3/energies_single.txt')\n",
    "e4 = np.loadtxt('/data/sahre/projects/atomic-energies/data/bonding_trends/pbe0_data/row_4/energies_single.txt')\n",
    "\n",
    "for e, z in zip([e2, e3, e4], z_eff):\n",
    "    e_nuc = []\n",
    "    for i in range(len(z)):\n",
    "        for j in range(i, len(z)):\n",
    "            e_nuc.append(z[i]*z[j])\n",
    "    e_nuc = np.array(e_nuc)\n",
    "    e_el = (e[:,0] - e_nuc).copy()\n",
    "    e[:,1] = e_el\n",
    "    e[:,2] = e_nuc\n",
    "\n",
    "distances = np.array([10*[1.42] + 10*[2.12] + 10*[2.36]])\n",
    "distances /= Bohr\n",
    "\n",
    "energies = np.concatenate((e2, e3, e4), axis = 0)\n",
    "\n",
    "nuc_charges = [[6, 7, 8, 9], [14, 15, 16, 17], [32, 33, 34, 35]]\n",
    "\n",
    "# initial parameters\n",
    "b_ini = bt.BDE_dist(energies, z_eff, distances)\n",
    "b_ini.fit(comp_gamma_dist2)\n",
    "alpha, beta, gamma, bprime, a, b = b_ini.params[0].copy()\n",
    "p0 = np.array((alpha, np.sqrt(abs(beta)), np.sqrt(abs(gamma)), np.sqrt(abs(bprime)), a, b))\n",
    "p0 = np.concatenate((p0, np.array(z_eff).flatten()))\n",
    "\n",
    "# fitoptimizeoptimize\n",
    "b_flexi_zeff = bt.BDE_dist(energies, nuc_charges, distances)\n",
    "b_flexi_zeff.fit(comp_gamma_dist2_flexible_zeff2, p0)\n",
    "\n",
    "plt.rcParams['font.size'] = 15\n",
    "plt.plot(b_flexi_zeff.bde)\n",
    "plt.plot(b_flexi_zeff.bde_fitted, label = r'$Z_{\\rm{eff, opt}}$, MAE = ' + str(np.round(b_flexi_zeff.mae, 2)))\n",
    "plt.legend()"
   ]
  },
  {
   "cell_type": "code",
   "execution_count": 16,
   "id": "97b58fbb-2e7b-4144-94ea-09a66295f9c8",
   "metadata": {},
   "outputs": [
    {
     "data": {
      "text/plain": [
       "array([3.33725603, 4.0076001 , 4.64483852, 5.30042163, 4.70682271,\n",
       "       5.30895647, 5.90801237, 6.5286305 , 6.96949018, 7.61779197,\n",
       "       8.37295719, 9.07446037])"
      ]
     },
     "execution_count": 16,
     "metadata": {},
     "output_type": "execute_result"
    }
   ],
   "source": []
  },
  {
   "cell_type": "code",
   "execution_count": 18,
   "id": "6af49d6a-37a2-423f-8485-3c950cede896",
   "metadata": {},
   "outputs": [
    {
     "data": {
      "text/plain": [
       "<matplotlib.legend.Legend at 0x7f01d871b130>"
      ]
     },
     "execution_count": 18,
     "metadata": {},
     "output_type": "execute_result"
    },
    {
     "data": {
      "image/png": "[encoded data removed]",
      "text/plain": [
       "<Figure size 432x288 with 2 Axes>"
      ]
     },
     "metadata": {
      "needs_background": "light"
     },
     "output_type": "display_data"
    }
   ],
   "source": [
    "z_eff_optimized = b_flexi_zeff.params[0][6:]\n",
    "z_efff = np.array(z_eff).flatten()\n",
    "nuc_chargesf = np.array(nuc_charges).flatten()\n",
    "\n",
    "fig, ax = plt.subplots(1,2)\n",
    "# ax[0].plot(nuc_chargesf, 'o', label = 'Z')\n",
    "\n",
    "ax[0].plot(z_efff, 'o', label = r'$Z_{\\rm{eff}}$')\n",
    "ax[0].plot(z_eff_optimized, 'o', label = r'$Z_{\\rm{eff, opt}}$')\n",
    "ax[1].plot(z_eff_optimized, z_efff, 'o')\n",
    "\n",
    "ax[0].legend()"
   ]
  },
  {
   "cell_type": "markdown",
   "id": "470c7647-0ab7-43e5-97c3-7e1a6f223ad3",
   "metadata": {},
   "source": [
    "## fixed Zeff only in b'"
   ]
  },
  {
   "cell_type": "code",
   "execution_count": 47,
   "id": "39b216e2-df27-412e-b45f-162a0cfb774c",
   "metadata": {},
   "outputs": [],
   "source": [
    "def comp_gamma_dist2_flexible_zeff3(*args):\n",
    "\n",
    "    Z1, Z2, d, Z1e, Z2e = args[0].T\n",
    "    alpha, beta, gamma, b_prime, a, b = args[1:]\n",
    "    comp = -beta**2*(Z1**(gamma**2)+Z2**(gamma**2))+alpha-(b_prime**2)*Z1e*Z2e\n",
    "    dist = a/d+b#/d+c\n",
    "    \n",
    "    #print(args[1:])\n",
    "    return(comp*dist)"
   ]
  },
  {
   "cell_type": "code",
   "execution_count": 48,
   "id": "3d5a6bff-04c3-43b8-8a67-1bce1380c906",
   "metadata": {
    "tags": []
   },
   "outputs": [
    {
     "name": "stderr",
     "output_type": "stream",
     "text": [
      "<ipython-input-46-8ead18c3c0d9>:11: RuntimeWarning: overflow encountered in power\n",
      "  comp = -beta**2*(Z1**(gamma**2)+Z2**(gamma**2))+alpha-(b_prime**2)*Z1*Z2\n"
     ]
    }
   ],
   "source": [
    "e2 = np.loadtxt('/data/sahre/projects/atomic-energies/data/bonding_trends/pbe0_data/row_2/energies_single.txt')\n",
    "e3 = np.loadtxt('/data/sahre/projects/atomic-energies/data/bonding_trends/pbe0_data/row_3/energies_single.txt')\n",
    "e4 = np.loadtxt('/data/sahre/projects/atomic-energies/data/bonding_trends/pbe0_data/row_4/energies_single.txt')\n",
    "\n",
    "for e, z in zip([e2, e3, e4], z_eff):\n",
    "    e_nuc = []\n",
    "    for i in range(len(z)):\n",
    "        for j in range(i, len(z)):\n",
    "            e_nuc.append(z[i]*z[j])\n",
    "    e_nuc = np.array(e_nuc)\n",
    "    e_el = (e[:,0] - e_nuc).copy()\n",
    "    e[:,1] = e_el\n",
    "    e[:,2] = e_nuc\n",
    "\n",
    "distances = np.array([10*[1.42] + 10*[2.12] + 10*[2.36]])\n",
    "distances /= Bohr\n",
    "\n",
    "energies = np.concatenate((e2, e3, e4), axis = 0)\n",
    "\n",
    "nuc_charges = [[6, 7, 8, 9], [14, 15, 16, 17], [32, 33, 34, 35]]\n",
    "\n",
    "# initial parameters\n",
    "b_ini = bt.BDE_dist(energies, z_eff, distances)\n",
    "b_ini.fit(comp_gamma_dist2)\n",
    "alpha, beta, gamma, bprime, a, b = b_ini.params[0].copy()\n",
    "p0 = np.array((alpha, np.sqrt(abs(beta)), np.sqrt(abs(gamma)), np.sqrt(abs(bprime)), a, b))\n",
    "\n",
    "# initial parameters\n",
    "b_zeff3 = bt.BDE_dist(energies, nuc_charges, distances)\n",
    "\n",
    "# add Z_eff variable\n",
    "z_eff_data = []\n",
    "for z in z_eff:\n",
    "    for i in range(len(z)):\n",
    "        for j in range(i, len(z)):\n",
    "            z_eff_data.append([z[i], z[j]])\n",
    "z_eff_data = np.array(z_eff_data)\n",
    "\n",
    "b_zeff3.xdata = np.concatenate((b_ini.xdata, z_eff_data), axis=1)\n",
    "\n",
    "b_zeff3.fit(comp_gamma_dist2_flexible_zeff3, p0)"
   ]
  },
  {
   "cell_type": "code",
   "execution_count": 62,
   "id": "734aeb1e-53a0-455d-a1e1-33b5b90ef36f",
   "metadata": {},
   "outputs": [
    {
     "data": {
      "text/plain": [
       "<matplotlib.legend.Legend at 0x7f01d8244610>"
      ]
     },
     "execution_count": 62,
     "metadata": {},
     "output_type": "execute_result"
    },
    {
     "data": {
      "image/png": "[encoded data removed]",
      "text/plain": [
       "<Figure size 432x288 with 1 Axes>"
      ]
     },
     "metadata": {
      "needs_background": "light"
     },
     "output_type": "display_data"
    }
   ],
   "source": [
    "plt.rcParams['font.size'] = 15\n",
    "plt.plot(b_zeff3.bde)\n",
    "plt.plot(b_ini.bde_fitted, label = r'$Z_{\\rm{eff, all}}$, MAE = ' + str(np.round(b_ini.mae, 2)))\n",
    "\n",
    "plt.plot(b_zeff3.bde_fitted, label = r'$Z_{\\rm{eff, b}}$, MAE = ' + str(np.round(b_zeff3.mae, 2)))\n",
    "plt.legend()"
   ]
  },
  {
   "cell_type": "code",
   "execution_count": 53,
   "id": "13273974-de9e-4ff6-a888-69f09026fe9f",
   "metadata": {},
   "outputs": [
    {
     "data": {
      "text/plain": [
       "array([-29.88184975,   1.26748243,   1.45130605,  11.34040107,\n",
       "        -0.0846019 ,   4.7596156 ])"
      ]
     },
     "execution_count": 53,
     "metadata": {},
     "output_type": "execute_result"
    }
   ],
   "source": [
    "b_zeff3.params[0]"
   ]
  },
  {
   "cell_type": "code",
   "execution_count": 54,
   "id": "409d9b2e-bc6b-4e79-a6f7-cc417b4e680c",
   "metadata": {},
   "outputs": [
    {
     "data": {
      "text/plain": [
       "array([-6.10130279e+01,  1.81113479e+00,  1.45130580e+00,  1.62045286e+01,\n",
       "       -4.14345132e-02,  2.33107298e+00])"
      ]
     },
     "execution_count": 54,
     "metadata": {},
     "output_type": "execute_result"
    }
   ],
   "source": [
    "b_ini.params[0]"
   ]
  },
  {
   "cell_type": "code",
   "execution_count": 56,
   "id": "c5abb5d4-4a4d-4cba-891e-90bf0165ec3c",
   "metadata": {},
   "outputs": [
    {
     "data": {
      "text/plain": [
       "4.571839990603621e-05"
      ]
     },
     "execution_count": 56,
     "metadata": {},
     "output_type": "execute_result"
    }
   ],
   "source": [
    "np.abs(b_ini.bde_fitted-b_zeff3.bde_fitted).mean()"
   ]
  },
  {
   "cell_type": "code",
   "execution_count": null,
   "id": "bac2cea7-a509-4ab2-8b5a-5dd1c9899519",
   "metadata": {},
   "outputs": [],
   "source": [
    "plt.plot(b2.bde)\n",
    "plt.plot(b2.bde_fitted/100)"
   ]
  },
  {
   "cell_type": "code",
   "execution_count": null,
   "id": "a1b54d73-aaa8-4971-aa33-1d5be2b987f7",
   "metadata": {},
   "outputs": [],
   "source": []
  },
  {
   "cell_type": "code",
   "execution_count": null,
   "id": "b32d2d8d-6b5a-45ce-9e5d-4ffe4252508a",
   "metadata": {},
   "outputs": [],
   "source": []
  },
  {
   "cell_type": "code",
   "execution_count": null,
   "id": "b9742ed9-765a-40c3-b1fb-e2dd97a26938",
   "metadata": {},
   "outputs": [],
   "source": []
  },
  {
   "cell_type": "code",
   "execution_count": null,
   "id": "2120aae6-0394-46e0-b453-61d81731d24d",
   "metadata": {},
   "outputs": [],
   "source": []
  },
  {
   "cell_type": "code",
   "execution_count": null,
   "id": "75ae9c32-829c-495f-91d5-9850f911e9aa",
   "metadata": {},
   "outputs": [],
   "source": [
    "p0[6:]"
   ]
  },
  {
   "cell_type": "code",
   "execution_count": null,
   "id": "e6cf6393-e9b9-4c52-84d2-ee6b7f97fe57",
   "metadata": {},
   "outputs": [],
   "source": [
    "b.xdata[:,2]"
   ]
  },
  {
   "cell_type": "code",
   "execution_count": null,
   "id": "f407c46c-4913-4ef6-8399-ce71cfd6286b",
   "metadata": {
    "tags": []
   },
   "outputs": [],
   "source": [
    "b = bt.BDE_dist(energies, nuc_charges, distances)\n",
    "xd2 = b.xdata[:10].copy()\n",
    "xd3 = b.xdata[40:50].copy()\n",
    "xd4 = b.xdata[80:].copy()\n",
    "b.xdata = xdata = np.concatenate((xd2, xd3, xd4), axis = 0)\n",
    "\n",
    "b.fit(comp_gamma_dist2)\n",
    "\n",
    "\n",
    "z_i = []\n",
    "z_j = []\n",
    "\n",
    "for z in [[6, 7, 8, 9], [14, 15, 16, 17], [32, 33, 34, 35]]:\n",
    "    for i in range(4):\n",
    "        \n",
    "        for j in range(i, 4):\n",
    "            z_i.append(z[i])\n",
    "            z_j.append(z[j])\n",
    "b.xdata[:,0] = z_i\n",
    "b.xdata[:,1] = z_j\n",
    "alpha, beta, gamma, bprime, a, bp = b.params[0]\n",
    "prefix = np.array((alpha, np.sqrt(abs(beta)), np.sqrt(abs(gamma)), np.sqrt(abs(bprime)), a, bp))\n",
    "p0 = np.concatenate((prefix,np.array(z_eff).flatten()))\n",
    "b.fit(comp_gamma_dist2_flexible_zeff, p0)\n"
   ]
  },
  {
   "cell_type": "code",
   "execution_count": null,
   "id": "2514f0fe-fc32-466d-86fd-3e514ef79c94",
   "metadata": {},
   "outputs": [],
   "source": [
    "3.1295663072497493, 3.7916066250891007, 4.420174281025148, 5.066213799617203, 4.55022756654616, 5.147345117460224, 5.7424579052713645, 6.359301847358291, 7.393705208597591, 8.034710012356197, 8.774410041073597, 9.469070944311039"
   ]
  },
  {
   "cell_type": "code",
   "execution_count": null,
   "id": "18a3ad58-f985-4538-b5ad-6614390f30e9",
   "metadata": {},
   "outputs": [],
   "source": [
    "args = (49.25133105892532, 1.0280124769188075, 1.1883677921301086, 11.419005390666927, -15.06356150603029, -1.1362304178839835, 2.7396865604667586, 3.2681554845384313, 3.772782598034162, 4.293313677822285, 4.565594205684395, 5.129663090661089, 5.693289823386943, 6.278528359706928, 7.627517948186812, 8.257668556849111, 8.985125317168567, 9.669564954616824)\n",
    "np.abs(comp_gamma_dist2_flexible_zeff(b.xdata, *comp_gamma_dist2_flexible_zeff_lat) - b.ebfe).mean(), comp_gamma_dist2_flexible_zeff_lat"
   ]
  },
  {
   "cell_type": "code",
   "execution_count": null,
   "id": "8f2ab6ea-3752-4f85-831e-7a5e1339ccda",
   "metadata": {},
   "outputs": [],
   "source": [
    "plt.scatter(np.array(z_eff).flatten(), comp_gamma_dist2_flexible_zeff_lat[6:])\n",
    "plt.plot((3,10), (3,10))"
   ]
  },
  {
   "cell_type": "code",
   "execution_count": null,
   "id": "cbf7f066-b428-403f-ad1e-4e28985a39ac",
   "metadata": {},
   "outputs": [],
   "source": [
    "plt.plot(-(comp_gamma_dist2_flexible_zeff(b.xdata, *comp_gamma_dist2_flexible_zeff_lat) + b.nbfe), label=\"relaxed zeff\")\n",
    "plt.plot(-(comp_gamma_dist2(np.concatenate((xd2, xd3, xd4), axis = 0), alpha, beta, gamma, bprime, a, bp) + b.nbfe), label=\"literature zeff\")\n",
    "plt.plot(b.bde, label=\"truth\")\n",
    "plt.legend()"
   ]
  },
  {
   "cell_type": "markdown",
   "id": "80605593-c060-4685-83a8-f9e02a1ef8c9",
   "metadata": {},
   "source": [
    "### fit"
   ]
  },
  {
   "cell_type": "code",
   "execution_count": null,
   "id": "9ff440ca-1386-4a85-9937-e349e953a48a",
   "metadata": {},
   "outputs": [],
   "source": [
    "b.fit(comp_gamma_dist2_flexible_zeff)\n",
    "# b.fit(comp_gamma_nobprime_dist2)\n",
    "\n",
    "\n",
    "print(b.params[0])\n",
    "\n",
    "el1 = ['C', 'N', 'O', 'F']\n",
    "el2 = ['Si', 'P', 'S', 'Cl']\n",
    "el3 = ['Ge', 'As', 'Se', 'Br']\n",
    "comps = []\n",
    "for el in [el1, el2, el3]:\n",
    "    for i in range(len(el)):\n",
    "        for j in range(i, len(el)):\n",
    "            comps.append(f'{el[i]}{el[j]}')\n",
    "\n",
    "plt.rcParams['font.size'] = 10\n",
    "plt.rcParams['figure.figsize'] = [16,4]\n",
    "plt.plot(comps, b.bde, '-o', label = 'ref')\n",
    "plt.plot(b.bde_fitted, '-o', label = f'pred MAE = {np.round(b.mae,1)}')\n",
    "plt.ylabel('BDE (kcal/mol)')\n",
    "plt.legend()"
   ]
  },
  {
   "cell_type": "code",
   "execution_count": null,
   "id": "facde005-8356-4b19-8e2a-e31d7d31e3dd",
   "metadata": {},
   "outputs": [],
   "source": [
    "plt.rcParams['figure.figsize'] = [6,6]\n",
    "fig,ax = plt.subplots(1,1)\n",
    "ax.plot(b.bde_fitted, b.bde, 'o')\n",
    "\n",
    "ax.set_xlim([np.amin([b.bde_fitted, b.bde])-1, np.amax([b.bde_fitted, b.bde])+1])\n",
    "ax.set_ylim([np.amin([b.bde_fitted, b.bde])-1, np.amax([b.bde_fitted, b.bde])+1])\n",
    "\n",
    "ax.set_aspect('equal', adjustable='box')"
   ]
  },
  {
   "cell_type": "code",
   "execution_count": null,
   "id": "51aa1262-4074-4efc-bc6a-b6d1e918a3ef",
   "metadata": {},
   "outputs": [],
   "source": [
    "b.xdata"
   ]
  },
  {
   "cell_type": "code",
   "execution_count": null,
   "id": "a7efbb0b-f8a1-4907-aab8-42362dc8bb41",
   "metadata": {},
   "outputs": [],
   "source": [
    "b.mae"
   ]
  },
  {
   "cell_type": "code",
   "execution_count": null,
   "id": "dc601c88-c87f-471a-a67a-738ebe324589",
   "metadata": {},
   "outputs": [],
   "source": [
    "b.params[0]"
   ]
  },
  {
   "cell_type": "markdown",
   "id": "ded029ef-a9ea-4b98-afd4-93529f034a79",
   "metadata": {},
   "source": [
    "### dont subtract Z1*Z2"
   ]
  },
  {
   "cell_type": "code",
   "execution_count": null,
   "id": "72b1b8d1-8a5d-447c-bb74-109a0355e129",
   "metadata": {},
   "outputs": [],
   "source": [
    "b.nbfe[:] = 0\n",
    "b.ebfe = b.bfe"
   ]
  },
  {
   "cell_type": "markdown",
   "id": "e79710ec-cc9b-4591-a99f-32889f6559ab",
   "metadata": {},
   "source": [
    "### random numbers for Z"
   ]
  },
  {
   "cell_type": "code",
   "execution_count": null,
   "id": "56480302-c533-4123-b892-3136faf551ab",
   "metadata": {},
   "outputs": [],
   "source": [
    "dZ = (np.amax(z_eff)-np.amin(z_eff))\n",
    "Z_random = np.random.rand(2, 30)*dZ + np.amin(z_eff)\n",
    "\n",
    "b.xdata[:,0] = Z_random[0]\n",
    "b.xdata[:,1] = Z_random[1]"
   ]
  },
  {
   "cell_type": "markdown",
   "id": "12ddcd6d-4fe3-4ef5-98e4-12e68d18fe2b",
   "metadata": {},
   "source": [
    "### exact distance instead of average per row"
   ]
  },
  {
   "cell_type": "code",
   "execution_count": null,
   "id": "215e54c3-339b-4781-b62f-35a6234b8605",
   "metadata": {},
   "outputs": [],
   "source": [
    "def key2(x):\n",
    "    pattern_list = ['CC', 'CN', 'CO', 'CF', 'NN', 'NO', 'NF', 'OO', 'OF', 'FF']\n",
    "    for i, p in enumerate(pattern_list):\n",
    "        if p in x:\n",
    "            return(i)\n",
    "def key3(x):\n",
    "    pattern_list = ['SiSi', 'SiP','SiS','SiCl','PP','PS','PCl','SS','SCl','ClCl',]\n",
    "    for i, p in enumerate(pattern_list):\n",
    "        if p in x:\n",
    "            return(i)\n",
    "def key4(x):\n",
    "    pattern_list = ['[GeH3][GeH3]', '[GeH3][AsH2]', '[GeH3][SeH]', '[GeH3]Br', '[AsH2][AsH2]', '[AsH2][SeH]', '[AsH2]Br', '[SeH][SeH]', '[SeH]Br', 'BrBr']\n",
    "    for i, p in enumerate(pattern_list):\n",
    "        if p in x:\n",
    "            return(i)\n",
    "\n",
    "dist_exact2 = bt.get_distances('/data/sahre/projects/atomic-energies/data/bonding_trends/pbe0_data/row_2/diatomics_single/*_opt.xyz', key2)\n",
    "dist_exact3 = bt.get_distances('/data/sahre/projects/atomic-energies/data/bonding_trends/pbe0_data/row_3/diatomics_single/*_opt.xyz', key3)\n",
    "dist_exact4 = bt.get_distances('/data/sahre/projects/atomic-energies/data/bonding_trends/pbe0_data/row_4/diatomics_single/*_opt.xyz', key4)\n",
    "dist_exact = np.concatenate((dist_exact2, dist_exact3, dist_exact4))\n",
    "\n",
    "b.xdata[:,2] = dist_exact/Bohr"
   ]
  }
 ],
 "metadata": {
  "kernelspec": {
   "display_name": "Python 3",
   "language": "python",
   "name": "python3"
  },
  "language_info": {
   "codemirror_mode": {
    "name": "ipython",
    "version": 3
   },
   "file_extension": ".py",
   "mimetype": "text/x-python",
   "name": "python",
   "nbconvert_exporter": "python",
   "pygments_lexer": "ipython3",
   "version": "3.9.5"
  }
 },
 "nbformat": 4,
 "nbformat_minor": 5
}
