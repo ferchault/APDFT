{
 "cells": [
  {
   "cell_type": "code",
   "execution_count": 1,
   "id": "fc1f5d09-e0d0-4921-ac16-4eadccb359d9",
   "metadata": {},
   "outputs": [],
   "source": [
    "import importlib\n",
    "\n",
    "import ase.io as aio\n",
    "from ase.units import Bohr\n",
    "import numpy as np\n",
    "import glob\n",
    "\n",
    "import sys\n",
    "sys.path.insert(0, '/home/sahre/git_repositories/APDFT/prototyping/atomic_energies/')\n",
    "import bt_tools as bt\n",
    "importlib.reload(bt)\n",
    "\n",
    "import utils_qm as uqm\n",
    "\n",
    "from matplotlib import pyplot as plt\n",
    "\n",
    "def ref_scatter(ref):\n",
    "    return(np.linspace(np.amin(ref), np.amax(ref), 3))"
   ]
  },
  {
   "cell_type": "markdown",
   "id": "e3730645-941c-489e-a486-46ddacb07b66",
   "metadata": {},
   "source": [
    "### calculate effective core charge"
   ]
  },
  {
   "cell_type": "code",
   "execution_count": 2,
   "id": "89accf35-b88b-4da9-92e7-4edd7ac34b15",
   "metadata": {},
   "outputs": [],
   "source": [
    "weighted_core = lambda Ne, Zs, Zp: 2*Zs/Ne + (Ne-2)/Ne*Zp\n",
    "\n",
    "zs2 = np.array([3.217, 3.847, 4.492, 5.128])\n",
    "zp2 = np.array([3.136, 3.834, 4.453, 5.100])\n",
    "\n",
    "zs3 = np.array([4.903, \t5.642, \t6.367, \t7.068])\n",
    "zp3 = np.array([4.285, 4.886, 5.482, 6.116])\n",
    "\n",
    "zs4 = np.array([8.044, \t8.944, \t9.758, \t10.553])\n",
    "zp4 = np.array([6.780, 7.449, 8.287, 9.028])\n",
    "\n",
    "zs = [zs2, zs3, zs4]\n",
    "zp = [zp2, zp3, zp4]\n",
    "ne = [4, 5, 6, 7]\n",
    "z_eff = []\n",
    "for rs, rp in zip(zs, zp):\n",
    "    zr = []\n",
    "    for s, p, n in zip(rs, rp, ne):\n",
    "        zr.append(weighted_core(n, s, p))\n",
    "    z_eff.append(zr)\n",
    "    \n",
    "# z_eff = [[6, 7, 8, 9], [14, 15, 16, 17], [32, 33, 34, 35]]\n",
    "# z_eff = [zp2, zp3, zp4]"
   ]
  },
  {
   "cell_type": "code",
   "execution_count": null,
   "id": "1fb2c27e-f515-4708-a2b6-295ea778dabf",
   "metadata": {},
   "outputs": [],
   "source": [
    "z_eff"
   ]
  },
  {
   "cell_type": "markdown",
   "id": "d1492b21-de5c-48e4-9340-26f66f460f5a",
   "metadata": {},
   "source": [
    "## optimize with effective core charges"
   ]
  },
  {
   "cell_type": "code",
   "execution_count": null,
   "id": "423401c7-18bf-40fc-9c08-5e2e57d972ae",
   "metadata": {
    "jupyter": {
     "source_hidden": true
    },
    "tags": []
   },
   "outputs": [],
   "source": [
    "importlib.reload(bt)\n",
    "\n",
    "def comp_dist2(var, alpha, beta, b_prime, a, b):\n",
    "    Z1, Z2, d = var.T\n",
    "    comp = (-beta*(Z1**(7/3)+Z2**(7/3))+alpha-b_prime*Z1*Z2)\n",
    "    dist = a/d+b#+b/d+c\n",
    "    return(comp*dist)\n",
    "\n",
    "def comp_gamma_dist2(var, alpha, beta, gamma, b_prime, a, b):\n",
    "    Z1, Z2, d = var.T\n",
    "    comp = -beta**2*(Z1**(gamma**2)+Z2**(gamma**2))+alpha-(b_prime**2)*Z1*Z2\n",
    "    dist = a/d+b#/d+c\n",
    "    return(comp*dist)\n",
    "\n",
    "def comp_dist3(var, alpha, beta, gamma, b_prime, a, b):\n",
    "    Z1, Z2, d = var.T\n",
    "    comp = alpha-(b_prime**2)*Z1*Z2\n",
    "    dist = a/d+b#/d+c\n",
    "    return(comp*dist)"
   ]
  },
  {
   "cell_type": "code",
   "execution_count": null,
   "id": "f8ac4281-b289-4a3d-b86c-1d9062b0b472",
   "metadata": {
    "jupyter": {
     "source_hidden": true
    },
    "tags": []
   },
   "outputs": [],
   "source": [
    "e2 = np.loadtxt('/data/sahre/projects/atomic-energies/data/bonding_trends/pbe0_data/row_2/energies_single.txt')\n",
    "e3 = np.loadtxt('/data/sahre/projects/atomic-energies/data/bonding_trends/pbe0_data/row_3/energies_single.txt')\n",
    "e4 = np.loadtxt('/data/sahre/projects/atomic-energies/data/bonding_trends/pbe0_data/row_4/energies_single.txt')\n",
    "\n",
    "for e, z in zip([e2, e3, e4], z_eff):\n",
    "    e_nuc = []\n",
    "    for i in range(len(z)):\n",
    "        for j in range(i, len(z)):\n",
    "            e_nuc.append(z[i]*z[j])\n",
    "#             e_nuc.append(0.0)\n",
    "\n",
    "    e_nuc = np.array(e_nuc)\n",
    "    e_el = (e[:,0] - e_nuc).copy()\n",
    "    e[:,1] = e_el\n",
    "    e[:,2] = e_nuc\n",
    "\n",
    "distances = np.array([10*[1.42] + 10*[2.12] + 10*[2.36]])\n",
    "distances /= Bohr\n",
    "\n",
    "energies = np.concatenate((e2, e3, e4), axis = 0)\n",
    "\n",
    "b_zeff = bt.BDE_dist(energies, z_eff, distances)\n",
    "\n",
    "b_zeff.fit(comp_dist2)\n",
    "cd_mae = b_zeff.mae.copy()\n",
    "bde_cd = b_zeff.bde_fitted.copy()\n",
    "\n",
    "b_zeff.fit(comp_gamma_dist2)\n",
    "# b_zeff.fit(comp_dist3)\n",
    "\n",
    "cd_gamma_mae = b_zeff.mae.copy()\n",
    "bde_cd_gamma = b_zeff.bde_fitted.copy()\n",
    "\n",
    "plt.plot(b_zeff.bde, label = 'ref', color = 'tab:grey')\n",
    "plt.plot(bde_cd, label = f'cd, MAE = {np.round(cd_mae, 1)}')\n",
    "plt.plot(bde_cd_gamma, label = f'cd gamma, MAE = {np.round(cd_gamma_mae, 1)}')\n",
    "plt.legend(bbox_to_anchor=(1.05, 1))"
   ]
  },
  {
   "cell_type": "code",
   "execution_count": null,
   "id": "2d81ea21-223d-442a-b1ae-79961c051297",
   "metadata": {
    "jupyter": {
     "source_hidden": true
    },
    "tags": []
   },
   "outputs": [],
   "source": [
    "coeffs['alpha'] = b_zeff.params[0][0]\n",
    "coeffs['beta'] = b_zeff.params[0][1]\n",
    "coeffs['gamma'] = 7/3\n",
    "coeffs['bprime'] = b_zeff.params[0][2]\n",
    "coeffs['a'] = b_zeff.params[0][3]\n",
    "coeffs['b'] = b_zeff.params[0][4]"
   ]
  },
  {
   "cell_type": "code",
   "execution_count": null,
   "id": "0cc02799-0f94-4c8f-a410-e0a4066fb195",
   "metadata": {
    "jupyter": {
     "source_hidden": true
    },
    "tags": []
   },
   "outputs": [],
   "source": [
    "coeffs = {'alpha':0, 'beta':0, 'gamma':0, 'bprime':0, 'a':0, 'b':0}\n",
    "for k, p in zip(coeffs.keys(), b_zeff.params[0]):\n",
    "    coeffs[k] = p\n",
    "    \n",
    "coeffs['beta'] = coeffs['beta']**2\n",
    "coeffs['gamma'] = coeffs['gamma']**2\n",
    "coeffs['bprime'] = coeffs['bprime']**2\n",
    "\n",
    "# uqm.save_obj(coeffs, '/data/sahre/projects/atomic-energies/data/bonding_trends/pbe0_data/modelA2')"
   ]
  },
  {
   "cell_type": "code",
   "execution_count": null,
   "id": "0b94a7a0-cb52-4f8f-9ef6-485ef2ff0894",
   "metadata": {
    "jupyter": {
     "source_hidden": true
    },
    "tags": []
   },
   "outputs": [],
   "source": [
    "plt.rcParams['font.size'] = 15\n",
    "plt.plot(b_zeff.bde, label = 'ref', color = 'tab:grey')\n",
    "plt.plot(bde_cd, label = f'$\\gamma = 7/3$, MAE = {np.round(cd_mae, 1)}')\n",
    "plt.plot(bde_cd_gamma, label = r'$\\gamma = \\gamma_{\\rm{opt}}$, MAE = ' + str(np.round(cd_gamma_mae, 1)))\n",
    "plt.xticks([])\n",
    "plt.ylabel(r'BDE (kcal/mol)')\n",
    "plt.legend(bbox_to_anchor=(1.05, 1))\n",
    "plt.savefig('/home/sahre/work/bonding_trends/figures/zeff/model1ab.png', bbox_inches = 'tight')"
   ]
  },
  {
   "cell_type": "code",
   "execution_count": null,
   "id": "a8c13d1c-a6db-4c05-8e84-e01d649fc817",
   "metadata": {
    "jupyter": {
     "source_hidden": true
    },
    "tags": []
   },
   "outputs": [],
   "source": [
    "plt.rcParams['font.size'] = 15\n",
    "\n",
    "plt.plot(ref_scatter(b_zeff.bde), ref_scatter(b_zeff.bde), '--', color = 'tab:grey')\n",
    "# plt.plot(bde_cd, b_zeff.bde, 'o')\n",
    "plt.plot(b_zeff.bde, bde_cd, 'o', label = '$\\gamma = 7/3$')\n",
    "plt.plot(bde_cd_gamma, b_zeff.bde, '^', label = r'$\\gamma = \\gamma_{\\rm{opt}}$')\n",
    "\n",
    "plt.xlabel(r'BDE$_{\\rm{ref}}$ (kcal/mol)')\n",
    "plt.ylabel(r'BDE$_{\\rm{pred}}$ (kcal/mol)')\n",
    "plt.legend()\n",
    "plt.savefig('/home/sahre/work/bonding_trends/figures/zeff/model1ab_scatter.png', bbox_inches = 'tight')"
   ]
  },
  {
   "cell_type": "markdown",
   "id": "38534429-a72c-48dd-a154-563a99d6ee36",
   "metadata": {},
   "source": [
    "## optimize $Z_\\text{eff}$"
   ]
  },
  {
   "cell_type": "code",
   "execution_count": null,
   "id": "df5f1e57-24b4-4273-9ad4-13189ad08e43",
   "metadata": {
    "jupyter": {
     "source_hidden": true
    },
    "tags": []
   },
   "outputs": [],
   "source": [
    "comp_gamma_dist2_flexible_zeff_lat = None\n",
    "\n",
    "def comp_gamma_dist2_flexible_zeff(*args):\n",
    "    globals()['comp_gamma_dist2_flexible_zeff_lat'] = args[1:]\n",
    "    var = args[0]\n",
    "    alpha, beta, gamma, b_prime, a, b = args[1:7]\n",
    "    Zeffs = args[7:]\n",
    "    lookup = [6,7,8,9,14,15,16,17,32,33,34,35]\n",
    "    \n",
    "    Z1, Z2, d = var.T\n",
    "    Z1e = np.array([Zeffs[lookup.index(int(_))] for _ in Z1])\n",
    "    Z2e = np.array([Zeffs[lookup.index(int(_))] for _ in Z2])\n",
    "    comp = -beta**2*(Z1e**(gamma**2)+Z2e**(gamma**2))+alpha-(b_prime**2)*Z1e*Z2e\n",
    "    dist = a/d+b#/d+c\n",
    "    \n",
    "    #print(args[1:])\n",
    "    return(comp*dist)"
   ]
  },
  {
   "cell_type": "code",
   "execution_count": null,
   "id": "a61b40ed-a9e6-49d2-9160-7375275753f1",
   "metadata": {
    "jupyter": {
     "source_hidden": true
    },
    "tags": []
   },
   "outputs": [],
   "source": [
    "e2 = np.loadtxt('/data/sahre/projects/atomic-energies/data/bonding_trends/pbe0_data/row_2/energies_single.txt')\n",
    "e3 = np.loadtxt('/data/sahre/projects/atomic-energies/data/bonding_trends/pbe0_data/row_3/energies_single.txt')\n",
    "e4 = np.loadtxt('/data/sahre/projects/atomic-energies/data/bonding_trends/pbe0_data/row_4/energies_single.txt')\n",
    "\n",
    "nuc_charges = [[6, 7, 8, 9], [14, 15, 16, 17], [32, 33, 34, 35]]\n",
    "\n",
    "\n",
    "for e, z in zip([e2, e3, e4], z_eff):\n",
    "    e_nuc = []\n",
    "    for i in range(len(z)):\n",
    "        for j in range(i, len(z)):\n",
    "            e_nuc.append(z[i]*z[j])\n",
    "    e_nuc = np.array(e_nuc)\n",
    "    e_el = (e[:,0] - e_nuc).copy()\n",
    "    e[:,1] = e_el\n",
    "    e[:,2] = e_nuc\n",
    "\n",
    "distances = np.array([10*[1.42] + 10*[2.12] + 10*[2.36]])\n",
    "distances /= Bohr\n",
    "\n",
    "energies = np.concatenate((e2, e3, e4), axis = 0)\n",
    "\n",
    "nuc_charges = [[6, 7, 8, 9], [14, 15, 16, 17], [32, 33, 34, 35]]\n",
    "\n",
    "# initial parameters\n",
    "b_ini = bt.BDE_dist(energies, z_eff, distances)\n",
    "b_ini.fit(comp_gamma_dist2)\n",
    "alpha, beta, gamma, bprime, a, b = b_ini.params[0].copy()\n",
    "p0 = np.array((alpha, np.sqrt(abs(beta)), np.sqrt(abs(gamma)), np.sqrt(abs(bprime)), a, b))\n",
    "p0 = np.concatenate((p0, np.array(z_eff).flatten()))\n",
    "\n",
    "# fitoptimizeoptimize\n",
    "b_flexi_zeff = bt.BDE_dist(energies, nuc_charges, distances)\n",
    "b_flexi_zeff.fit(comp_gamma_dist2_flexible_zeff, p0)\n",
    "\n",
    "plt.rcParams['font.size'] = 15\n",
    "plt.plot(b_flexi_zeff.bde)\n",
    "plt.plot(b_flexi_zeff.bde_fitted, label = r'$Z_{\\rm{eff, opt}}$, MAE = ' + str(np.round(b_flexi_zeff.mae, 2)))\n",
    "plt.legend()"
   ]
  },
  {
   "cell_type": "code",
   "execution_count": null,
   "id": "bfa37651-3f89-4364-9355-36596358a835",
   "metadata": {
    "jupyter": {
     "source_hidden": true
    },
    "tags": []
   },
   "outputs": [],
   "source": [
    "plt.rcParams['font.size'] = 20\n",
    "params = comp_gamma_dist2_flexible_zeff_lat\n",
    "ebfe_flexi = comp_gamma_dist2_flexible_zeff(*(b_flexi_zeff.xdata, *params))\n",
    "bde_flexi = -(ebfe_flexi+b_flexi_zeff.nbfe)\n",
    "\n",
    "mae_flexi = np.abs(bde_flexi-b_flexi_zeff.bde).mean()\n",
    "\n",
    "plt.rcParams['font.size'] = 15\n",
    "plt.plot(b_flexi_zeff.bde, color = 'tab:grey', label = 'ref')\n",
    "plt.plot(bde_flexi, label = r'$Z_{\\rm{eff, opt}}$, MAE = ' + str(np.round(mae_flexi, 2)))\n",
    "# plt.legend(loc = 'lower right', framealpha = 0.0)\n",
    "plt.xticks([])\n",
    "plt.ylabel(r'BDE (kcal/mol)')\n",
    "# plt.legend(bbox_to_anchor=(1.05, 1))\n",
    "plt.legend(edgecolor=(0, 0, 0, 1.), framealpha = 0.0, loc = 'lower right')\n",
    "# plt.savefig('/home/sahre/work/bonding_trends/figures/zeff/model2a.png', bbox_inches = 'tight')"
   ]
  },
  {
   "cell_type": "code",
   "execution_count": null,
   "id": "f3934670-9487-48f6-9fe3-7b430aa96f8d",
   "metadata": {
    "jupyter": {
     "source_hidden": true
    },
    "tags": []
   },
   "outputs": [],
   "source": [
    "plt.plot(np.array(nuc_charges).flatten(), params[6:], '-o')\n",
    "plt.xlabel(r'$Z$')\n",
    "plt.ylabel(r'$Z_{\\rm{opt}}$')\n",
    "# plt.plot(np.array(nuc_charges).flatten(), params[6:], '-o')\n",
    "\n",
    "plt.savefig('/home/sahre/work/bonding_trends/figures/zeff/Z_ZeffB.png', bbox_inches = 'tight')"
   ]
  },
  {
   "cell_type": "code",
   "execution_count": null,
   "id": "f1475863-f9e7-4930-9ea7-6d1d5ed2a99b",
   "metadata": {
    "jupyter": {
     "source_hidden": true
    },
    "tags": []
   },
   "outputs": [],
   "source": [
    "# coeffs = {'alpha':0, 'beta':0, 'gamma':0, 'bprime':0, 'a':0, 'b':0}\n",
    "# for k, p in zip(coeffs.keys(), params[:6]):\n",
    "#     coeffs[k] = p\n",
    "    \n",
    "# coeffs['beta'] = coeffs['beta']**2\n",
    "# coeffs['gamma'] = coeffs['gamma']**2\n",
    "# coeffs['bprime'] = coeffs['bprime']**2\n",
    "\n",
    "# uqm.save_obj(coeffs, '/data/sahre/projects/atomic-energies/data/bonding_trends/pbe0_data/modelB')"
   ]
  },
  {
   "cell_type": "code",
   "execution_count": null,
   "id": "e43e4d9e-6055-4c89-9a7a-d02856ab9daf",
   "metadata": {
    "jupyter": {
     "source_hidden": true
    },
    "tags": []
   },
   "outputs": [],
   "source": [
    "plt.rcParams['font.size'] = 20\n",
    "\n",
    "plt.plot(ref_scatter(b_flexi_zeff.bde), ref_scatter(b_flexi_zeff.bde), '--', color = 'tab:grey')\n",
    "\n",
    "plt.plot(b_flexi_zeff.bde, bde_flexi, 'o')\n",
    "\n",
    "\n",
    "plt.xlabel(r'BDE$_{\\rm{ref}}$ (kcal/mol)')\n",
    "plt.ylabel(r'BDE$_{\\rm{pred}}$ (kcal/mol)')\n",
    "plt.savefig('/home/sahre/work/bonding_trends/figures/zeff/model2a_scatter.png', bbox_inches = 'tight')"
   ]
  },
  {
   "cell_type": "markdown",
   "id": "c990113b-358f-4e6d-a705-48537ed9260c",
   "metadata": {},
   "source": [
    "## optimize $Z_\\text{eff}$ a la Guido"
   ]
  },
  {
   "cell_type": "code",
   "execution_count": null,
   "id": "79694646-e2ef-4314-b0f5-7b095b6bab17",
   "metadata": {
    "jupyter": {
     "source_hidden": true
    },
    "tags": []
   },
   "outputs": [],
   "source": [
    "def comp_gamma_dist2(var, alpha, beta, gamma, b_prime, a, b):\n",
    "    Z1, Z2, d = var.T\n",
    "    comp = -beta**2*(Z1**(gamma**2)+Z2**(gamma**2))+alpha-(b_prime**2)*Z1*Z2\n",
    "    dist = a/d+b#/d+c\n",
    "    return(comp*dist)\n",
    "\n",
    "# def comp_gamma_dist2(var, alpha, beta, gamma, b_prime, a, b):\n",
    "#     Z1, Z2, d = var.T\n",
    "#     comp = -beta*(Z1**(gamma)+Z2**(gamma))+alpha-(b_prime)*Z1*Z2\n",
    "#     dist = a/d+b#/d+c\n",
    "#     return(comp*dist)\n",
    "\n",
    "def comp_gamma_dist2_flexible_zeff2(*args):\n",
    "    globals()['comp_gamma_dist2_flexible_zeff_lat'] = args[1:]\n",
    "    var = args[0]\n",
    "    alpha, beta, gamma, b_prime, a, b = args[1:7]\n",
    "    Zeffs = args[7:]\n",
    "    lookup = [6,7,8,9,14,15,16,17,32,33,34,35]\n",
    "    \n",
    "    Z1, Z2, d = var.T\n",
    "    Z1e = np.array([Zeffs[lookup.index(int(_))] for _ in Z1])\n",
    "    Z2e = np.array([Zeffs[lookup.index(int(_))] for _ in Z2])\n",
    "    comp = -beta**2*(Z1**(gamma**2)+Z2**(gamma**2))+alpha-(b_prime**2)*Z1e*Z2e\n",
    "    dist = a/d+b#/d+c\n",
    "    \n",
    "    #print(args[1:])\n",
    "    return(comp*dist)"
   ]
  },
  {
   "cell_type": "code",
   "execution_count": null,
   "id": "dc36e9c1-7d33-4b13-9c42-8f029a3cdabd",
   "metadata": {
    "tags": []
   },
   "outputs": [],
   "source": [
    "def key2(x):\n",
    "    pattern_list = ['CC', 'CN', 'CO', 'CF', 'NN', 'NO', 'NF', 'OO', 'OF', 'FF']\n",
    "    for i, p in enumerate(pattern_list):\n",
    "        if p in x:\n",
    "            return(i)\n",
    "def key3(x):\n",
    "    pattern_list = ['SiSi', 'SiP','SiS','SiCl','PP','PS','PCl','SS','SCl','ClCl',]\n",
    "    for i, p in enumerate(pattern_list):\n",
    "        if p in x:\n",
    "            return(i)\n",
    "def key4(x):\n",
    "    pattern_list = ['[GeH3][GeH3]', '[GeH3][AsH2]', '[GeH3][SeH]', '[GeH3]Br', '[AsH2][AsH2]', '[AsH2][SeH]', '[AsH2]Br', '[SeH][SeH]', '[SeH]Br', 'BrBr']\n",
    "    for i, p in enumerate(pattern_list):\n",
    "        if p in x:\n",
    "            return(i)\n",
    "\n",
    "dist_exact2 = bt.get_distances('/data/sahre/projects/atomic-energies/data/bonding_trends/pbe0_data/row_2/diatomics_single/*_opt.xyz', key2)\n",
    "dist_exact3 = bt.get_distances('/data/sahre/projects/atomic-energies/data/bonding_trends/pbe0_data/row_3/diatomics_single/*_opt.xyz', key3)\n",
    "dist_exact4 = bt.get_distances('/data/sahre/projects/atomic-energies/data/bonding_trends/pbe0_data/row_4/diatomics_single/*_opt.xyz', key4)\n",
    "dist_exact = np.concatenate((dist_exact2, dist_exact3, dist_exact4))\n",
    "dist_exact = np.reshape(dist_exact, (1,30))"
   ]
  },
  {
   "cell_type": "code",
   "execution_count": null,
   "id": "b23744c6-700f-4369-8a32-ed93bc2fbbc8",
   "metadata": {
    "jupyter": {
     "source_hidden": true
    },
    "tags": []
   },
   "outputs": [],
   "source": [
    "e2 = np.loadtxt('/data/sahre/projects/atomic-energies/data/bonding_trends/pbe0_data/row_2/energies_single.txt')\n",
    "e3 = np.loadtxt('/data/sahre/projects/atomic-energies/data/bonding_trends/pbe0_data/row_3/energies_single.txt')\n",
    "e4 = np.loadtxt('/data/sahre/projects/atomic-energies/data/bonding_trends/pbe0_data/row_4/energies_single.txt')\n",
    "\n",
    "nuc_charges = [[6, 7, 8, 9], [14, 15, 16, 17], [32, 33, 34, 35]]\n",
    "\n",
    "for e, z in zip([e2, e3, e4], nuc_charges):\n",
    "    e_nuc = []\n",
    "    for i in range(len(z)):\n",
    "        for j in range(i, len(z)):\n",
    "            e_nuc.append(z[i]*z[j])\n",
    "    e_nuc = np.array(e_nuc)\n",
    "    e_el = (e[:,0] - e_nuc).copy()\n",
    "    e[:,1] = e_el\n",
    "    e[:,2] = e_nuc\n",
    "\n",
    "# for e, d, z in zip([e2, e3, e4], [dist_exact2, dist_exact3, dist_exact4], z_eff):\n",
    "#     e_nuc = []\n",
    "#     for i in range(len(z)):\n",
    "#         for j in range(i, len(z)):\n",
    "#             e_nuc.append(z[i]*z[j])\n",
    "#     e_nuc = np.array(e_nuc)/d\n",
    "#     e_el = (e[:,0] - e_nuc).copy()\n",
    "#     e[:,1] = e_el\n",
    "#     e[:,2] = e_nuc\n",
    "\n",
    "distances = dist_exact\n",
    "# distances = np.array([10*[1.42] + 10*[2.12] + 10*[2.36]])\n",
    "distances /= Bohr\n",
    "\n",
    "energies = np.concatenate((e2, e3, e4), axis = 0)\n",
    "\n",
    "\n",
    "# initial parameters\n",
    "b_ini = bt.BDE_dist(energies, z_eff, distances)\n",
    "b_ini.fit(comp_gamma_dist2)\n",
    "alpha, beta, gamma, bprime, a, b = b_ini.params[0].copy()\n",
    "# p0 = np.array((alpha, np.sqrt(abs(beta)), np.sqrt(abs(gamma)), np.sqrt(abs(bprime)), a, b))\n",
    "p0 = np.array((alpha, beta, gamma, bprime, a, b))\n",
    "\n",
    "p0 = np.concatenate((p0, np.array(z_eff).flatten()))\n",
    "\n",
    "# fit optimize\n",
    "b_flexi_zeff = bt.BDE_dist(energies, nuc_charges, distances)\n",
    "b_flexi_zeff.fit(comp_gamma_dist2_flexible_zeff2, p0)\n",
    "\n",
    "plt.rcParams['font.size'] = 15\n",
    "plt.plot(b_flexi_zeff.bde)\n",
    "plt.plot(b_flexi_zeff.bde_fitted, label = r'$Z_{\\rm{eff, opt}}$, MAE = ' + str(np.round(b_flexi_zeff.mae, 2)))\n",
    "plt.legend()\n",
    "\n"
   ]
  },
  {
   "cell_type": "code",
   "execution_count": null,
   "id": "2ce214da-0f3a-4f08-9f4b-bcfff6ff8b55",
   "metadata": {
    "jupyter": {
     "source_hidden": true
    },
    "tags": []
   },
   "outputs": [],
   "source": [
    "b_flexi_zeff.params[0]"
   ]
  },
  {
   "cell_type": "code",
   "execution_count": null,
   "id": "9e273b13-2e5d-48e9-a97e-6267356f417f",
   "metadata": {
    "jupyter": {
     "source_hidden": true
    },
    "tags": []
   },
   "outputs": [],
   "source": [
    "# coeffs = {'alpha':0, 'beta':0, 'gamma':0, 'bprime':0, 'a':0, 'b':0}\n",
    "# for k, p in zip(coeffs.keys(), b_flexi_zeff.params[0]):\n",
    "#     coeffs[k] = p\n",
    "    \n",
    "# coeffs['beta'] = coeffs['beta']**2\n",
    "# coeffs['gamma'] = coeffs['gamma']**2\n",
    "# coeffs['bprime'] = coeffs['bprime']**2\n",
    "\n",
    "# uqm.save_obj(coeffs, '/data/sahre/projects/atomic-energies/data/bonding_trends/pbe0_data/modelC')"
   ]
  },
  {
   "cell_type": "code",
   "execution_count": null,
   "id": "5c3b1d31-5bee-4464-8f6e-ab9391413443",
   "metadata": {
    "jupyter": {
     "source_hidden": true
    },
    "tags": []
   },
   "outputs": [],
   "source": [
    "plt.rcParams['font.size'] = 15\n",
    "plt.plot(b_flexi_zeff.bde, color = 'tab:grey', label = 'ref')\n",
    "plt.plot(b_flexi_zeff.bde_fitted, label = r'$Z_{\\rm{eff, opt}}$, MAE = ' + str(np.round(b_flexi_zeff.mae, 2)))\n",
    "# plt.legend(loc = 'lower right', framealpha = 0.0)\n",
    "plt.xticks([])\n",
    "plt.ylabel(r'BDE (kcal/mol)')\n",
    "# plt.legend(bbox_to_anchor=(1.05, 1))\n",
    "plt.legend(edgecolor=(0, 0, 0, 1.), framealpha = 0.0, loc = 'lower right')\n",
    "\n",
    "# plt.savefig('/home/sahre/work/bonding_trends/figures/zeff/model3a.png', bbox_inches = 'tight')"
   ]
  },
  {
   "cell_type": "code",
   "execution_count": null,
   "id": "270a5fa6-a185-4c2a-aab4-bca064ca24a7",
   "metadata": {
    "jupyter": {
     "source_hidden": true
    },
    "tags": []
   },
   "outputs": [],
   "source": [
    "# params = comp_gamma_dist2_flexible_zeff_lat\n",
    "# ebfe_flexi = comp_gamma_dist2_flexible_zeff2(*(b_flexi_zeff.xdata, *params))\n",
    "# bde_flexi = -(ebfe_flexi+b_flexi_zeff.nbfe)\n",
    "\n",
    "# mae_flexi = np.abs(bde_flexi-b_flexi_zeff.bde).mean()\n",
    "\n",
    "# plt.rcParams['font.size'] = 15\n",
    "# plt.plot(b_flexi_zeff.bde)\n",
    "# plt.plot(bde_flexi, label = r'$Z_{\\rm{eff, opt}}$, MAE = ' + str(np.round(mae_flexi, 2)))\n",
    "# plt.legend()"
   ]
  },
  {
   "cell_type": "code",
   "execution_count": null,
   "id": "8f040a20-d4f8-4c00-bfd1-bba651ff0547",
   "metadata": {
    "jupyter": {
     "source_hidden": true
    },
    "tags": []
   },
   "outputs": [],
   "source": [
    "plt.rcParams['font.size'] = 20\n",
    "\n",
    "plt.plot(ref_scatter(b_flexi_zeff.bde), ref_scatter(b_flexi_zeff.bde), '--', color = 'tab:grey')\n",
    "\n",
    "plt.plot(b_flexi_zeff.bde, b_flexi_zeff.bde_fitted, 'o')\n",
    "\n",
    "\n",
    "plt.xlabel(r'BDE$_{\\rm{ref}}$ (kcal/mol)')\n",
    "plt.ylabel(r'BDE$_{\\rm{pred}}$ (kcal/mol)')\n",
    "# plt.savefig('/home/sahre/work/bonding_trends/figures/zeff/model3a_scatter.png', bbox_inches = 'tight')"
   ]
  },
  {
   "cell_type": "code",
   "execution_count": null,
   "id": "d791a6b1-2b37-4a51-bd70-652ddd3ba41c",
   "metadata": {
    "jupyter": {
     "source_hidden": true
    },
    "tags": []
   },
   "outputs": [],
   "source": [
    "plt.plot(np.array(nuc_charges).flatten(), b_flexi_zeff.params[0][6:], '-o')\n",
    "# plt.plot(np.array(nuc_charges).flatten(), params[6:], '-o')\n",
    "\n",
    "plt.xlabel(r'$Z$')\n",
    "plt.ylabel(r'$Z_{\\rm{opt}}$')\n",
    "# plt.plot(np.array(nuc_charges).flatten(), params[6:], '-o')\n",
    "\n",
    "# plt.savefig('/home/sahre/work/bonding_trends/figures/zeff/Z_ZeffC.png', bbox_inches = 'tight')"
   ]
  },
  {
   "cell_type": "code",
   "execution_count": null,
   "id": "15867107-a3c7-430b-addc-e73f2218dc6d",
   "metadata": {
    "jupyter": {
     "source_hidden": true
    },
    "tags": []
   },
   "outputs": [],
   "source": [
    "b_flexi_zeff.params[0]"
   ]
  },
  {
   "cell_type": "code",
   "execution_count": null,
   "id": "1db946d9-0691-4e55-911d-68d25bab09cb",
   "metadata": {
    "jupyter": {
     "source_hidden": true
    },
    "tags": []
   },
   "outputs": [],
   "source": [
    "n_core = [2,2,2,2,10, 10, 10, 10, 28, 28, 28, 28]\n",
    "n_val = [4, 5, 6, 7, 4, 5, 6, 7, 4, 5, 6, 7]\n",
    "# def z_eff_fit(*args):\n",
    "#     nc, nv = args[0]\n",
    "#     bprime, q, p = args[1:]\n",
    "#     return(bprime*(p*nc + q*nv))\n",
    "\n",
    "def z_eff_fit(*args):\n",
    "    nc, nv = args[0]\n",
    "    q, p = args[1:]\n",
    "    return((p*nc + q*nv))\n",
    "\n",
    "from scipy.optimize import curve_fit\n",
    "\n",
    "xdata = np.array([n_core, n_val])\n",
    "param, qof = curve_fit(f=z_eff_fit,xdata=xdata, ydata=b_flexi_zeff.params[0][6:], p0=[1,1])"
   ]
  },
  {
   "cell_type": "code",
   "execution_count": null,
   "id": "be27337b-0e79-47cc-8066-8e9b30e296c4",
   "metadata": {
    "jupyter": {
     "source_hidden": true
    },
    "tags": []
   },
   "outputs": [],
   "source": [
    "args = (xdata, *param)\n",
    "# args = (xdata, 0.1944911 , 0.19331392)"
   ]
  },
  {
   "cell_type": "code",
   "execution_count": null,
   "id": "83e313be-1c44-46eb-bfbf-e7f8bb85b337",
   "metadata": {
    "jupyter": {
     "source_hidden": true
    },
    "tags": []
   },
   "outputs": [],
   "source": [
    "from scipy.stats import linregress\n",
    "linregress(np.array(nuc_charges).flatten(), b_flexi_zeff.params[0][6:])"
   ]
  },
  {
   "cell_type": "code",
   "execution_count": null,
   "id": "6ca57fb9-85ee-40f0-ae2d-2a2234393e7f",
   "metadata": {
    "jupyter": {
     "source_hidden": true
    },
    "tags": []
   },
   "outputs": [],
   "source": [
    "plt.plot(np.array(nuc_charges).flatten(), z_eff_fit(*args), '-o')"
   ]
  },
  {
   "cell_type": "code",
   "execution_count": null,
   "id": "b7618c40-163e-4dc4-a897-764fad799013",
   "metadata": {
    "jupyter": {
     "source_hidden": true
    },
    "tags": []
   },
   "outputs": [],
   "source": [
    "plt.plot(b_flexi_zeff.params[0][6:], 'o')\n",
    "\n",
    "plt.plot(z_eff_fit(*args), 'o')\n",
    "\n",
    "plt.plot(np.array(nuc_charges).flatten()*0.19374316270721906+0.007939353154243545, 'o')"
   ]
  },
  {
   "cell_type": "code",
   "execution_count": null,
   "id": "6e58ff02-122f-41ab-9492-890fe712797c",
   "metadata": {
    "jupyter": {
     "source_hidden": true
    },
    "tags": []
   },
   "outputs": [],
   "source": [
    "b_flexi_zeff.params[0][6:]-z_eff_fit(*args)"
   ]
  },
  {
   "cell_type": "markdown",
   "id": "90f1178e-9f69-47ad-9011-b6a10848fd4d",
   "metadata": {},
   "source": [
    "### Fit for $Z_\\text{eff}$"
   ]
  },
  {
   "cell_type": "code",
   "execution_count": 29,
   "id": "324c40dd-41e5-43b2-86d8-51fadb63c4c5",
   "metadata": {},
   "outputs": [],
   "source": [
    "def comp_gamma_dist2(var, alpha, beta, gamma, b_prime, a, b):\n",
    "    Z1, Z2, d = var.T\n",
    "    comp = -beta**2*(Z1**(gamma**2)+Z2**(gamma**2))+alpha-(b_prime**2)*Z1*Z2\n",
    "    dist = a/d+b\n",
    "    return(comp*dist)\n",
    "\n",
    "# def comp_gamma_dist2(var, alpha, beta, gamma, b_prime, a, b):\n",
    "#     Z1, Z2, d = var.T\n",
    "#     comp = -beta*(Z1**(gamma)+Z2**(gamma))+alpha-(b_prime)*Z1*Z2\n",
    "#     dist = a/d+b#/d+c\n",
    "#     return(comp*dist)\n",
    "\n",
    "def comp_gamma_dist2_flexible_zeff2(*args):\n",
    "    globals()['comp_gamma_dist2_flexible_zeff_lat'] = args[1:]\n",
    "    var = args[0]\n",
    "    alpha, beta, gamma, b_prime, a, b = args[1:7]\n",
    "    Zeffs = args[7:]\n",
    "    lookup = [6,7,8,9,14,15,16,17,32,33,34,35]\n",
    "    \n",
    "    Z1, Z2, d = var.T\n",
    "    Z1e = np.array([Zeffs[lookup.index(int(_))] for _ in Z1])\n",
    "    Z2e = np.array([Zeffs[lookup.index(int(_))] for _ in Z2])\n",
    "    comp = -beta**2*(Z1**(gamma**2)+Z2**(gamma**2))+alpha-(b_prime**2)*Z1e*Z2e\n",
    "    dist = a/d+b\n",
    "    return(comp*dist)\n",
    "\n",
    "def comp_gamma_dist2_ncnv(*args):\n",
    "    globals()['comp_gamma_dist2_flexible_zeff_lat'] = args[1:]\n",
    "    var = args[0]\n",
    "    alpha, beta, gamma, bprime, p, q, a, b = args[1:]\n",
    "    \n",
    "    Z1, Z2, d = var.T\n",
    "    \n",
    "    lookup = [6,7,8,9,14,15,16,17,32,33,34,35]\n",
    "    n_core = [2,2,2,2,10, 10, 10, 10, 28, 28, 28, 28]\n",
    "    n_val = [4, 5, 6, 7, 4, 5, 6, 7, 4, 5, 6, 7]\n",
    "    \n",
    "#     nc1 = np.array([n_core[lookup.index(int(_))] for _ in Z1])\n",
    "#     nv1 = np.array([n_val[lookup.index(int(_))] for _ in Z2])\n",
    "    \n",
    "#     nc2 = np.array([n_core[lookup.index(int(_))] for _ in Z1])\n",
    "#     nv2 = np.array([n_val[lookup.index(int(_))] for _ in Z2])\n",
    "        \n",
    "    comp = -beta**2*(Z1**(gamma**2)+Z2**(gamma**2))+alpha-bprime**2*(p*Z1+q)*(p*Z2+q)\n",
    "    dist = a/d+b\n",
    "    return(comp*dist)"
   ]
  },
  {
   "cell_type": "code",
   "execution_count": 30,
   "id": "72360cd1-ff4c-40a9-b30b-ce5e7c56e012",
   "metadata": {},
   "outputs": [],
   "source": [
    "def key2(x):\n",
    "    pattern_list = ['CC', 'CN', 'CO', 'CF', 'NN', 'NO', 'NF', 'OO', 'OF', 'FF']\n",
    "    for i, p in enumerate(pattern_list):\n",
    "        if p in x:\n",
    "            return(i)\n",
    "def key3(x):\n",
    "    pattern_list = ['SiSi', 'SiP','SiS','SiCl','PP','PS','PCl','SS','SCl','ClCl',]\n",
    "    for i, p in enumerate(pattern_list):\n",
    "        if p in x:\n",
    "            return(i)\n",
    "def key4(x):\n",
    "    pattern_list = ['[GeH3][GeH3]', '[GeH3][AsH2]', '[GeH3][SeH]', '[GeH3]Br', '[AsH2][AsH2]', '[AsH2][SeH]', '[AsH2]Br', '[SeH][SeH]', '[SeH]Br', 'BrBr']\n",
    "    for i, p in enumerate(pattern_list):\n",
    "        if p in x:\n",
    "            return(i)\n",
    "\n",
    "dist_exact2 = bt.get_distances('/data/sahre/projects/atomic-energies/data/bonding_trends/pbe0_data/row_2/diatomics_single/*_opt.xyz', key2)\n",
    "dist_exact3 = bt.get_distances('/data/sahre/projects/atomic-energies/data/bonding_trends/pbe0_data/row_3/diatomics_single/*_opt.xyz', key3)\n",
    "dist_exact4 = bt.get_distances('/data/sahre/projects/atomic-energies/data/bonding_trends/pbe0_data/row_4/diatomics_single/*_opt.xyz', key4)\n",
    "dist_exact = np.concatenate((dist_exact2, dist_exact3, dist_exact4))\n",
    "dist_exact = np.reshape(dist_exact, (1,30))"
   ]
  },
  {
   "cell_type": "code",
   "execution_count": 31,
   "id": "b07eb29f-fcb7-4c86-9e20-ba0dc22f5dee",
   "metadata": {},
   "outputs": [
    {
     "name": "stderr",
     "output_type": "stream",
     "text": [
      "<ipython-input-29-116a0f3dc819>:3: RuntimeWarning: overflow encountered in power\n",
      "  comp = -beta**2*(Z1**(gamma**2)+Z2**(gamma**2))+alpha-(b_prime**2)*Z1*Z2\n"
     ]
    }
   ],
   "source": [
    "e2 = np.loadtxt('/data/sahre/projects/atomic-energies/data/bonding_trends/pbe0_data/row_2/energies_single.txt')\n",
    "e3 = np.loadtxt('/data/sahre/projects/atomic-energies/data/bonding_trends/pbe0_data/row_3/energies_single.txt')\n",
    "e4 = np.loadtxt('/data/sahre/projects/atomic-energies/data/bonding_trends/pbe0_data/row_4/energies_single.txt')\n",
    "\n",
    "nuc_charges = np.array([[6, 7, 8, 9], [14, 15, 16, 17], [32, 33, 34, 35]])\n",
    "\n",
    "for e, z in zip([e2, e3, e4], z_eff):\n",
    "    e_nuc = []\n",
    "    for i in range(len(z)):\n",
    "        for j in range(i, len(z)):\n",
    "            e_nuc.append(z[i]*z[j])\n",
    "    e_nuc = np.array(e_nuc)\n",
    "    e_el = (e[:,0] - e_nuc).copy()\n",
    "    e[:,1] = e_el\n",
    "    e[:,2] = e_nuc\n",
    "\n",
    "distances = dist_exact\n",
    "# distances = np.array([10*[1.42] + 10*[2.12] + 10*[2.36]])\n",
    "distances /= Bohr\n",
    "\n",
    "energies = np.concatenate((e2, e3, e4), axis = 0)\n",
    "\n",
    "\n",
    "# initial parameters\n",
    "b_ini = bt.BDE_dist(energies, z_eff, distances)\n",
    "b_ini.fit(comp_gamma_dist2)\n",
    "alpha, beta, gamma, bprime, a, b = b_ini.params[0].copy()\n",
    "# p0 = np.array((alpha, np.sqrt(abs(beta)), np.sqrt(abs(gamma)), np.sqrt(abs(bprime)), a, b))\n",
    "p0 = np.array((alpha, beta, gamma, bprime, a, b))\n",
    "\n",
    "p0 = np.concatenate((p0, np.array(z_eff).flatten()))\n",
    "\n",
    "# fit optimize\n",
    "\n",
    "b_flexi_zeff = bt.BDE_dist(energies, nuc_charges, distances)\n",
    "\n",
    "# p0 = (b_flexi_zeff.xdata, 6.63789067e+01, -6.89399512e-05,  2.11811554e+00,  -9.54267972e+01, 0.19332623842045737, 0.006242525668592069,\n",
    "#         4.88038233e-02,  4.91408751e+00)\n",
    "# p0 = (6.63789067e+01, -6.89399512e-05,  2.11811554e+00,  -9.54267972e+01, 4.88038233e-02,  4.91408751e+00)\n",
    "# p0 = np.concatenate((p0, np.array(z_eff).flatten()))\n",
    "\n",
    "b_flexi_zeff.fit(comp_gamma_dist2_flexible_zeff2, p0)"
   ]
  },
  {
   "cell_type": "code",
   "execution_count": 32,
   "id": "5c37e055-0f46-4591-855d-1488fd8493e3",
   "metadata": {},
   "outputs": [
    {
     "data": {
      "text/plain": [
       "array([4.06542610e+01, 1.73141091e-01, 1.75357211e+00, 1.63285734e+01,\n",
       "       7.88236150e-03, 2.44911290e+00, 3.15769966e+00, 3.79226558e+00,\n",
       "       4.39554437e+00, 5.01606049e+00, 4.45689565e+00, 5.02714200e+00,\n",
       "       5.59436902e+00, 6.18208296e+00, 6.60832652e+00, 7.22244499e+00,\n",
       "       7.93747794e+00, 8.60187337e+00])"
      ]
     },
     "execution_count": 32,
     "metadata": {},
     "output_type": "execute_result"
    }
   ],
   "source": [
    "b_flexi_zeff.params[0]"
   ]
  },
  {
   "cell_type": "code",
   "execution_count": 33,
   "id": "5994e9ac-fbe5-4515-ace4-2b9cc619fa38",
   "metadata": {},
   "outputs": [
    {
     "data": {
      "text/plain": [
       "[<matplotlib.lines.Line2D at 0x7f6acea72b20>]"
      ]
     },
     "execution_count": 33,
     "metadata": {},
     "output_type": "execute_result"
    },
    {
     "data": {
      "image/png": "[encoded data removed]",
      "text/plain": [
       "<Figure size 432x288 with 1 Axes>"
      ]
     },
     "metadata": {
      "needs_background": "light"
     },
     "output_type": "display_data"
    }
   ],
   "source": [
    "plt.plot(b_flexi_zeff.bde, '-o')\n",
    "plt.plot(b_flexi_zeff.bde_fitted, '-o')"
   ]
  },
  {
   "cell_type": "code",
   "execution_count": 8,
   "id": "44b091c7-77de-4d03-a876-b316911c2212",
   "metadata": {},
   "outputs": [
    {
     "data": {
      "text/plain": [
       "[<matplotlib.lines.Line2D at 0x7f6b2c4770d0>]"
      ]
     },
     "execution_count": 8,
     "metadata": {},
     "output_type": "execute_result"
    },
    {
     "data": {
      "image/png": "[encoded data removed]",
      "text/plain": [
       "<Figure size 432x288 with 1 Axes>"
      ]
     },
     "metadata": {
      "needs_background": "light"
     },
     "output_type": "display_data"
    }
   ],
   "source": [
    "plt.plot(nuc_charges.flatten(), b_flexi_zeff.params[0][6:], '-o')"
   ]
  },
  {
   "cell_type": "markdown",
   "id": "344284f6-ea2a-4bec-8bce-9a9de74c062f",
   "metadata": {},
   "source": [
    "#### fit Z to Z_eff"
   ]
  },
  {
   "cell_type": "code",
   "execution_count": 21,
   "id": "0a6d9681-c5f5-4849-b5c7-b9141faf901d",
   "metadata": {},
   "outputs": [],
   "source": [
    "from scipy.optimize import curve_fit\n",
    "from scipy.stats import linregress"
   ]
  },
  {
   "cell_type": "code",
   "execution_count": 15,
   "id": "1224f9ed-a063-415a-bfea-8430f40603f2",
   "metadata": {},
   "outputs": [],
   "source": [
    "n_core = np.array([2, 2, 2, 2, 10, 10, 10, 10, 28, 28, 28, 28])\n",
    "n_val = np.array([4, 5, 6, 7, 4, 5, 6, 7, 4, 5, 6, 7])\n",
    "\n",
    "def z_eff_fit(*args):\n",
    "    nc, nv = args[0]\n",
    "    q, p = args[1:]\n",
    "    return((p*nc + q*nv))\n",
    "\n",
    "\n",
    "xdata = np.array([n_core, n_val])\n",
    "param, qof = curve_fit(f=z_eff_fit, xdata=xdata, ydata=b_flexi_zeff.params[0][6:], p0=[1,1])"
   ]
  },
  {
   "cell_type": "code",
   "execution_count": 22,
   "id": "bb7a952a-41ca-45fa-8c18-58f63fcb4ae1",
   "metadata": {},
   "outputs": [
    {
     "data": {
      "text/plain": [
       "LinregressResult(slope=0.617836129618967, intercept=-0.5433784484652229, rvalue=0.9999562326382998, pvalue=4.376736170019768e-05, stderr=0.004087546832774631, intercept_stderr=0.03099535850465744)"
      ]
     },
     "execution_count": 22,
     "metadata": {},
     "output_type": "execute_result"
    }
   ],
   "source": [
    "linregress(nuc_charges[0], b_flexi_zeff.params[0][6:10])"
   ]
  },
  {
   "cell_type": "code",
   "execution_count": 23,
   "id": "e9bc253d-e5d0-4e60-8d22-469bc397c4d8",
   "metadata": {},
   "outputs": [
    {
     "data": {
      "text/plain": [
       "LinregressResult(slope=0.5742788956973375, intercept=-3.586200474554393, rvalue=0.9999684952553282, pvalue=3.150474467183974e-05, stderr=0.003223451206447706, intercept_stderr=0.05009330294365032)"
      ]
     },
     "execution_count": 23,
     "metadata": {},
     "output_type": "execute_result"
    }
   ],
   "source": [
    "linregress(nuc_charges[1], b_flexi_zeff.params[0][10:14])"
   ]
  },
  {
   "cell_type": "code",
   "execution_count": 26,
   "id": "81d2d3fe-4dd7-4eb4-9792-453de6b1036a",
   "metadata": {},
   "outputs": [
    {
     "data": {
      "text/plain": [
       "LinregressResult(slope=0.6695673512584187, intercept=-14.837975561353968, rvalue=0.9996031222289564, pvalue=0.0003968777710435799, stderr=0.013342953043645142, intercept_stderr=0.44723779337355507)"
      ]
     },
     "execution_count": 26,
     "metadata": {},
     "output_type": "execute_result"
    }
   ],
   "source": [
    "linregress(nuc_charges[2], b_flexi_zeff.params[0][14:18])"
   ]
  },
  {
   "cell_type": "code",
   "execution_count": 28,
   "id": "25066229-d9fb-4f5d-8383-009b3c7da266",
   "metadata": {},
   "outputs": [
    {
     "data": {
      "text/plain": [
       "[<matplotlib.lines.Line2D at 0x7f6aceaac3d0>]"
      ]
     },
     "execution_count": 28,
     "metadata": {},
     "output_type": "execute_result"
    },
    {
     "data": {
      "image/png": "[encoded data removed]",
      "text/plain": [
       "<Figure size 432x288 with 1 Axes>"
      ]
     },
     "metadata": {
      "needs_background": "light"
     },
     "output_type": "display_data"
    }
   ],
   "source": [
    "plt.plot([0.617836129618967, 0.5742788956973375, 0.6695673512584187])\n",
    "\n",
    "plt.plot([-0.5433784484652229, -3.586200474554393, -14.837975561353968])"
   ]
  },
  {
   "cell_type": "code",
   "execution_count": null,
   "id": "f3384205-d214-4005-a1f8-89f3880de0b7",
   "metadata": {},
   "outputs": [],
   "source": [
    "def comp_gamma_dist2_flexible_zeff2(*args):\n",
    "    globals()['comp_gamma_dist2_flexible_zeff_lat'] = args[1:]\n",
    "    var = args[0]\n",
    "    alpha, beta, gamma, b_prime, a, b = args[1:7]\n",
    "    Zeffs = args[7:]\n",
    "    lookup = [6,7,8,9,14,15,16,17,32,33,34,35]\n",
    "    \n",
    "    Z1, Z2, d = var.T\n",
    "    Z1e = np.array([Zeffs[lookup.index(int(_))] for _ in Z1])\n",
    "    Z2e = np.array([Zeffs[lookup.index(int(_))] for _ in Z2])\n",
    "    comp = -beta**2*(Z1**(gamma**2)+Z2**(gamma**2))+alpha-(b_prime**2)*Z1e*Z2e\n",
    "    dist = a/d+b\n",
    "\n",
    "    return(comp*dist)\n",
    "\n",
    "p0 = (b_flexi_zeff.xdata, 6.63789067e+01, -6.89399512e-05,  2.11811554e+00,  5.83172093e+01,\n",
    "        4.88038233e-02,  4.91408751e+00,  1.17371392e+00,  1.36540376e+00,\n",
    "        1.55771761e+00,  1.75033771e+00,  2.71963807e+00,  2.91292869e+00,\n",
    "        3.10635172e+00,  3.29988289e+00,  6.20818002e+00,  6.40208393e+00,\n",
    "        6.59563487e+00,  6.78935382e+00)\n",
    "\n",
    "p1 = (b_flexi_zeff.xdata, 6.63789067e+01, -6.89399512e-05,  2.11811554e+00,  5.83172093e+01,\n",
    "        4.88038233e-02,  4.91408751e+00,  1.16619996, 1.35952619, 1.55285243, 1.74617867, 2.71280986,\n",
    "       2.9061361 , 3.09946234, 3.29278858, 6.19268216, 6.38600839,\n",
    "       6.57933463, 6.77266087)"
   ]
  },
  {
   "cell_type": "code",
   "execution_count": null,
   "id": "9bf1c354-d9f1-461b-90b8-d98b1cfb5b08",
   "metadata": {},
   "outputs": [],
   "source": [
    "plt.plot(-(comp_gamma_dist2_flexible_zeff2(*p0)+b_flexi_zeff.nbfe))\n",
    "\n",
    "# plt.plot(-(comp_gamma_dist2_flexible_zeff2(*p1)+b_flexi_zeff.nbfe))"
   ]
  },
  {
   "cell_type": "code",
   "execution_count": null,
   "id": "6e6c27e4-d936-45fa-90c4-c0abc59c2e3e",
   "metadata": {},
   "outputs": [],
   "source": []
  }
 ],
 "metadata": {
  "kernelspec": {
   "display_name": "Python 3",
   "language": "python",
   "name": "python3"
  },
  "language_info": {
   "codemirror_mode": {
    "name": "ipython",
    "version": 3
   },
   "file_extension": ".py",
   "mimetype": "text/x-python",
   "name": "python",
   "nbconvert_exporter": "python",
   "pygments_lexer": "ipython3",
   "version": "3.9.5"
  }
 },
 "nbformat": 4,
 "nbformat_minor": 5
}
