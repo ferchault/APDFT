{
 "cells": [
  {
   "cell_type": "code",
   "execution_count": null,
   "id": "d3e8a05c-b0f8-4566-a7f7-44d6eef16aaa",
   "metadata": {},
   "outputs": [],
   "source": [
    "# generate structures using leruli\n",
    "# choose a fancy basis set\n",
    "# optimize with pbe0\n",
    "# generate fragments\n",
    "# calculate frag without optimization\n",
    "# with optimization\n",
    "\n",
    "# collect energies into one file\n",
    "# energy energy_frag energy_ BDE BDE_relaxed"
   ]
  },
  {
   "cell_type": "code",
   "execution_count": null,
   "id": "08d6ac1d-1743-426e-82cc-449c2bcbb88a",
   "metadata": {},
   "outputs": [],
   "source": [
    "import ase.io as aio\n",
    "from ase.units import Bohr\n",
    "from ase import Atoms\n",
    "import sys\n",
    "sys.path.insert(0, '/home/sahre/git_repositories/APDFT/prototyping/atomic_energies/')\n",
    "import utils_qm as uqm\n",
    "\n",
    "from pyscf import gto, dft, scf\n",
    "\n",
    "# geometric\n",
    "from pyscf.geomopt.geometric_solver import optimize\n",
    "\n",
    "from ase.visualize import view"
   ]
  },
  {
   "cell_type": "markdown",
   "id": "de250ce4-e365-42d2-a064-722682b44df7",
   "metadata": {},
   "source": [
    "## Look at structures"
   ]
  },
  {
   "cell_type": "code",
   "execution_count": null,
   "id": "3c1d5a31-b028-443b-b6ab-36f8d02e90a5",
   "metadata": {
    "tags": []
   },
   "outputs": [],
   "source": [
    "comps = ['CC','CN','CO','CF','NN','NO','NF','OO', 'OF', 'FF']\n",
    "\n",
    "for c in comps:\n",
    "    #c = 'FF'\n",
    "    p = f'/data/sahre/projects/atomic-energies/data/bonding_trends/pbe0_data/diatomics_single/{c}_opt.xyz'\n",
    "    atoms = aio.read(p)\n",
    "    p2 = f'/data/sahre/projects/atomic-energies/data/bonding_trends/pbe0_data/diatomics_single/{c}.xyz'\n",
    "    atoms2 = aio.read(p2)\n",
    "    print(atoms.get_distance(0,1)-atoms2.get_distance(0,1))\n",
    "#view(atoms, viewer='x3d')"
   ]
  },
  {
   "cell_type": "markdown",
   "id": "d52e7891-e9b2-4965-9c9c-ab1ce0cfa7f3",
   "metadata": {},
   "source": [
    "### Fragments"
   ]
  },
  {
   "cell_type": "code",
   "execution_count": null,
   "id": "13d74dfb-a385-4786-907e-afd0c871817e",
   "metadata": {
    "tags": []
   },
   "outputs": [],
   "source": [
    "# for c in ['CC', 'NN', 'OO', 'FF']:\n",
    "#     #c = 'FF'\n",
    "#     p = f'/data/sahre/projects/atomic-energies/data/bonding_trends/pbe0_data/fragments/{c}_opt.xyz'\n",
    "#     atoms = aio.read(p)\n",
    "#     p2 = f'/data/sahre/projects/atomic-energies/data/bonding_trends/pbe0_data/fragments/{c}.xyz'\n",
    "#     atoms2 = aio.read(p2)\n",
    "#     print(atoms.get_distance(0,1)-atoms2.get_distance(0,1))\n",
    "c = 'FF' \n",
    "p = f'/data/sahre/projects/atomic-energies/data/bonding_trends/pbe0_data/fragments/{c}_opt.xyz'\n",
    "# p = f'/data/sahre/projects/atomic-energies/data/bonding_trends/pbe0_data/fragments/{c}.xyz'\n",
    "\n",
    "atoms = aio.read(p)\n",
    "#print(atoms.get_distance(0,1))\n",
    "view(atoms, viewer='x3d')"
   ]
  },
  {
   "cell_type": "markdown",
   "id": "5fa9114a-08fc-46ad-aa46-999f6e9a37bf",
   "metadata": {},
   "source": [
    "# Prepare calculations"
   ]
  },
  {
   "cell_type": "code",
   "execution_count": null,
   "id": "5fe68018-b23d-4d30-a58d-93dbddb808eb",
   "metadata": {
    "tags": []
   },
   "outputs": [],
   "source": [
    "# comps = ['CC','CN','CO','CF','NN','NO','NF','OO', 'OF', 'FF']\n",
    "c = 'CC' #sys.argv[1]\n",
    "atoms = aio.read(f'/data/sahre/projects/atomic-energies/data/bonding_trends/pbe0_data/diatomics_single/{c}.xyz')\n",
    "\n",
    "pyscf_atoms = uqm.ase2pyscf(atoms)\n",
    "basis = 'def2-tzvp'\n",
    "mol = gto.Mole()\n",
    "mol.atom = pyscf_atoms\n",
    "mol.basis = basis\n",
    "mol.build()\n",
    "\n",
    "mf = dft.RKS(mol)\n",
    "mf.xc = 'pbe0'\n",
    "mol_eq = optimize(mf, maxsteps=100)\n",
    "\n",
    "mf = dft.RKS(mol)\n",
    "mf.kernel()\n",
    "\n",
    "new_pos = mol_eq.atom_coords()*Bohr\n",
    "\n",
    "atoms.set_positions(new_pos)\n",
    "aio.write(f'/data/sahre/projects/atomic-energies/data/bonding_trends/pbe0_data/diatomics_single/{c}_opt.xyz', atoms)\n",
    "\n",
    "with open(f'/data/sahre/projects/atomic-energies/data/bonding_trends/pbe0_data/diatomics_single/{c}_energy', 'w') as f:\n",
    "    f.write(str(mf.e_tot)+'\\n')"
   ]
  },
  {
   "cell_type": "markdown",
   "id": "badb7ff2-1853-4d03-9974-024f22b4b4e1",
   "metadata": {},
   "source": [
    "# fragment calculations"
   ]
  },
  {
   "cell_type": "code",
   "execution_count": null,
   "id": "dc89d35f-7f71-42d9-b31c-189278d77fe3",
   "metadata": {},
   "outputs": [],
   "source": [
    "comps = ['CC','NN', 'OO', 'FF']\n",
    "for smiles in comps:\n",
    "    structure = aio.read(f'/data/sahre/projects/atomic-energies/data/bonding_trends/pbe0_data/diatomics_single/{smiles}_opt.xyz')\n",
    "    if structure.get_chemical_symbols()[0] == 'C':\n",
    "#         structure.set_distance(1,0, dCO, indices=[0, 2, 3, 4], fix = 0)\n",
    "        indices=[0, 2, 3, 4]\n",
    "    elif structure.get_chemical_symbols()[0] == 'N':\n",
    "#         structure.set_distance(0,1, dCO, indices=[0, 2, 3])\n",
    "        indices=[0, 2, 3]\n",
    "    elif structure.get_chemical_symbols()[0] == 'O':\n",
    "#         structure.set_distance(0,1, dCO, indices=[0, 2])\n",
    "        indices=[0, 2]\n",
    "    elif structure.get_chemical_symbols()[0] == 'F':\n",
    "#         structure.set_distance(0,1, dCO)\n",
    "        indices=[0]\n",
    "        \n",
    "    frag = Atoms(numbers = structure.get_atomic_numbers()[indices], positions=structure.get_positions()[indices])\n",
    "    aio.write(f'/data/sahre/projects/atomic-energies/data/bonding_trends/pbe0_data/fragments/{smiles}.xyz', frag)\n"
   ]
  },
  {
   "cell_type": "code",
   "execution_count": null,
   "id": "f943d52f-0c20-4c82-9fa6-844794ef31ad",
   "metadata": {},
   "outputs": [],
   "source": []
  },
  {
   "cell_type": "markdown",
   "id": "fe74fd6d-c249-4f85-a08b-6ea2f78b067f",
   "metadata": {},
   "source": [
    "# collect data"
   ]
  },
  {
   "cell_type": "code",
   "execution_count": null,
   "id": "52697b39-bade-490f-ba4c-bbdfed7cc990",
   "metadata": {},
   "outputs": [],
   "source": [
    "import glob\n",
    "from matplotlib import pyplot as plt\n",
    "import numpy as np\n",
    "import ase.io as aio\n",
    "from pyscf import gto\n",
    "\n",
    "import sys\n",
    "sys.path.insert(0, '/home/sahre/git_repositories/APDFT/prototyping/atomic_energies/')\n",
    "import utils_qm as uqm"
   ]
  },
  {
   "cell_type": "code",
   "execution_count": null,
   "id": "11d42360-de1d-40cb-aa92-8ed5ca8cde54",
   "metadata": {},
   "outputs": [],
   "source": [
    "# total energy of diatomics\n",
    "energies_diatomics = dict()\n",
    "efiles = glob.glob('/data/sahre/projects/atomic-energies/data/bonding_trends/pbe0_data/diatomics_single/*_energy')\n",
    "for file in efiles:\n",
    "    with open(file, 'r') as f:\n",
    "        k = file.split('/')[-1].split('_')[0]\n",
    "        energies_diatomics[k] = float(f.readline().strip('\\n'))\n",
    "\n",
    "# total energy of relaxed fragments\n",
    "energies_frags = dict()\n",
    "efiles = glob.glob('/data/sahre/projects/atomic-energies/data/bonding_trends/pbe0_data/fragments/*_energy_relaxed')\n",
    "for file in efiles:\n",
    "    with open(file, 'r') as f:\n",
    "        k = file.split('/')[-1].split('_')[0][0]\n",
    "        energies_frags[k] = float(f.readline().strip('\\n'))\n",
    "\n",
    "# bfe\n",
    "bfe = dict()\n",
    "for k in energies_diatomics.keys():\n",
    "    bfe[k] = energies_diatomics[k] - (energies_frags[k[0]]+energies_frags[k[1]])\n",
    "\n",
    "# nuc repulsion for fixed distance and only contribution of heteroatoms\n",
    "structures = glob.glob(\"/data/sahre/projects/atomic-energies/data/bonding_trends/pbe0_data/diatomics_single/*_opt.xyz\")\n",
    "e_nuc = dict()\n",
    "from ase.units import Bohr\n",
    "d = 1.421151094407886/Bohr\n",
    "\n",
    "for s in structures:\n",
    "    mol = aio.read(s)\n",
    "    k = s.split('/')[-1].split('_')[0]\n",
    "    \n",
    "    fixed = mol.get_atomic_numbers()[0]*mol.get_atomic_numbers()[1]/d\n",
    "    relaxed = mol.get_atomic_numbers()[0]*mol.get_atomic_numbers()[1]/(mol.get_distance(0, 1)/Bohr)\n",
    "    e_nuc[k] = [fixed]\n",
    "# bfe, bfe_el, bfe_nuc \n",
    "energies = dict()\n",
    "for k in bfe.keys():\n",
    "    bfe_el = bfe[k] - e_nuc[k][0]\n",
    "    #bfe_elr = bfe[k] - e_nuc[k][1]\n",
    "    \n",
    "    energies[k] = [bfe[k], bfe_el, e_nuc[k][0]]\n",
    "    \n",
    "# save data\n",
    "path = '/data/sahre/projects/atomic-energies/data/bonding_trends/pbe0_data/energies_dict'\n",
    "uqm.save_obj(energies, path)\n",
    "\n",
    "comps = ['CC','CN','CO','CF','NN','NO','NF','OO', 'OF', 'FF']\n",
    "energies_ordered = []\n",
    "for c in comps:\n",
    "    energies_ordered.append(energies[c])\n",
    "energies_ordered = np.array(energies_ordered)\n",
    "np.savetxt('/data/sahre/projects/atomic-energies/data/bonding_trends/pbe0_data/energies.txt', energies_ordered)"
   ]
  },
  {
   "cell_type": "code",
   "execution_count": null,
   "id": "ab855ab8-3ec8-462a-a125-d2d85c1d9c10",
   "metadata": {},
   "outputs": [],
   "source": [
    "energies"
   ]
  },
  {
   "cell_type": "code",
   "execution_count": null,
   "id": "93547f3d-a422-4d0e-ab35-27be9cad59f9",
   "metadata": {},
   "outputs": [],
   "source": [
    "energies_ordered"
   ]
  },
  {
   "cell_type": "code",
   "execution_count": null,
   "id": "7ab51fcc-26fc-4198-9873-c0d9a790126f",
   "metadata": {},
   "outputs": [],
   "source": [
    "comps = ['CC','CN','CO','CF','NN','NO','NF','OO', 'OF', 'FF']\n",
    "bde_ordered = []\n",
    "for c in comps:\n",
    "    bde_ordered.append(-energies[c][0]*2600)"
   ]
  },
  {
   "cell_type": "code",
   "execution_count": null,
   "id": "e3bf2ac9-1fb0-487e-8705-5143f71d19e6",
   "metadata": {},
   "outputs": [],
   "source": [
    "ref_bde = np.array([359.2, 337.7, 370.2, 452, 259.6, 253.5, 283.6, 195.2, 194.9, 151.7])\n",
    "\n",
    "plt.plot(comps, bde_ordered, '-o')\n",
    "plt.plot(comps, ref_bde, '-o')"
   ]
  },
  {
   "cell_type": "code",
   "execution_count": null,
   "id": "5108fe1c-70cd-49b4-9c94-d2cbcbfa6c77",
   "metadata": {},
   "outputs": [],
   "source": []
  },
  {
   "cell_type": "markdown",
   "id": "6034c290-a9a1-4cc4-a00b-447e8fd3c6b4",
   "metadata": {},
   "source": [
    "# Double bonds"
   ]
  },
  {
   "cell_type": "code",
   "execution_count": null,
   "id": "d9a83799-dedb-4c75-b428-f1360d77a891",
   "metadata": {},
   "outputs": [],
   "source": [
    "from ase.visualize import view\n",
    "import ase.io as aio"
   ]
  },
  {
   "cell_type": "code",
   "execution_count": null,
   "id": "81239d38-86b0-4989-b18d-a7ca9dfaac60",
   "metadata": {},
   "outputs": [],
   "source": [
    "comps = ['dCC','dCN', 'dCO', 'dNN', 'dNO', 'dOO']\n",
    "for c in comps:\n",
    "    mol = aio.read(f'/data/sahre/projects/atomic-energies/data/bonding_trends/pbe0_data/diatomics_double/{c}_opt.xyz')\n",
    "    view(mol)"
   ]
  },
  {
   "cell_type": "code",
   "execution_count": null,
   "id": "ddd1eaed-6443-4801-8e8f-634bce3b5232",
   "metadata": {},
   "outputs": [],
   "source": [
    "comps = ['dCC','dCN', 'dCO', 'dNN', 'dNO', 'dOO']\n",
    "for c in comps:\n",
    "    with open(f'/data/sahre/projects/atomic-energies/data/bonding_trends/pbe0_data/diatomics_double/{c}_energy') as f:\n",
    "        print(c, f.readline().strip('\\n'))"
   ]
  },
  {
   "cell_type": "code",
   "execution_count": null,
   "id": "e189a9a3-c0a4-40e7-8b7d-4ab53873f145",
   "metadata": {},
   "outputs": [],
   "source": [
    "# mean distance between heavy atoms\n",
    "# needed for nuclear repulsion calculation\n",
    "\n",
    "bond_type = 'double'\n",
    "\n",
    "structures = glob.glob(f\"/data/sahre/projects/atomic-energies/data/bonding_trends/pbe0_data/diatomics_{bond_type}/*_opt.xyz\")\n",
    "from ase.units import Bohr\n",
    "dist = []\n",
    "for s in structures:\n",
    "    mol = aio.read(s)\n",
    "    dist.append(mol.get_distance(0, 1))\n",
    "dist = np.array(dist)\n",
    "mean_dist = dist.mean()\n"
   ]
  },
  {
   "cell_type": "code",
   "execution_count": null,
   "id": "510262c2-7c62-4ae7-bbb1-99ed9528081d",
   "metadata": {},
   "outputs": [],
   "source": [
    "bfe"
   ]
  },
  {
   "cell_type": "code",
   "execution_count": null,
   "id": "f7a68dc1-c3d3-4a82-94b7-a290ccb49c0f",
   "metadata": {},
   "outputs": [],
   "source": [
    "bond_type = 'double'\n",
    "# total energy of diatomics\n",
    "energies_diatomics = dict()\n",
    "efiles = glob.glob(f'/data/sahre/projects/atomic-energies/data/bonding_trends/pbe0_data/diatomics_{bond_type}/*_energy')\n",
    "for file in efiles:\n",
    "    with open(file, 'r') as f:\n",
    "        k = file.split('/')[-1].split('_')[0]\n",
    "        energies_diatomics[k] = float(f.readline().strip('\\n'))\n",
    "\n",
    "# total energy of relaxed fragments\n",
    "energies_frags = dict()\n",
    "efiles = glob.glob(f'/data/sahre/projects/atomic-energies/data/bonding_trends/pbe0_data/fragments_{bond_type}/*_energy_relaxed')\n",
    "for file in efiles:\n",
    "    with open(file, 'r') as f:\n",
    "        k = file.split('/')[-1].split('_')[0][0:2]\n",
    "        energies_frags[k] = float(f.readline().strip('\\n'))\n",
    "\n",
    "# bfe\n",
    "bfe = dict()\n",
    "for k in energies_diatomics.keys():\n",
    "    bfe[k] = energies_diatomics[k] - (energies_frags[k[0:2]]+energies_frags['d'+k[2]])\n",
    "\n",
    "# nuc repulsion for fixed distance and only contribution of heteroatoms\n",
    "structures = glob.glob(f\"/data/sahre/projects/atomic-energies/data/bonding_trends/pbe0_data/diatomics_{bond_type}/*_opt.xyz\")\n",
    "e_nuc = dict()\n",
    "from ase.units import Bohr\n",
    "d = mean_dist/Bohr\n",
    "\n",
    "for s in structures:\n",
    "    mol = aio.read(s)\n",
    "    k = s.split('/')[-1].split('_')[0]\n",
    "    \n",
    "    fixed = mol.get_atomic_numbers()[0]*mol.get_atomic_numbers()[1]/d\n",
    "    relaxed = mol.get_atomic_numbers()[0]*mol.get_atomic_numbers()[1]/(mol.get_distance(0, 1)/Bohr)\n",
    "    e_nuc[k] = [fixed]\n",
    "# bfe, bfe_el, bfe_nuc \n",
    "energies = dict()\n",
    "for k in bfe.keys():\n",
    "    bfe_el = bfe[k] - e_nuc[k][0]\n",
    "    #bfe_elr = bfe[k] - e_nuc[k][1]\n",
    "    \n",
    "    energies[k] = [bfe[k], bfe_el, e_nuc[k][0]]\n",
    "    \n",
    "# save data\n",
    "path = '/data/sahre/projects/atomic-energies/data/bonding_trends/pbe0_data/energies_double_dict'\n",
    "uqm.save_obj(energies, path)\n",
    "\n",
    "comps = ['dCC','dCN','dCO','dNN','dNO','dOO']\n",
    "energies_ordered = []\n",
    "for c in comps:\n",
    "    energies_ordered.append(energies[c])\n",
    "energies_ordered = np.array(energies_ordered)\n",
    "np.savetxt('/data/sahre/projects/atomic-energies/data/bonding_trends/pbe0_data/energies_double_singlet.txt', energies_ordered)"
   ]
  },
  {
   "cell_type": "code",
   "execution_count": null,
   "id": "02d830d8-e8ff-4916-930d-81fe6574b6d8",
   "metadata": {},
   "outputs": [],
   "source": []
  },
  {
   "cell_type": "markdown",
   "id": "ab2452d7-75d8-4a36-a7a9-30fa072f2ed1",
   "metadata": {},
   "source": [
    "# third/fourth row"
   ]
  },
  {
   "cell_type": "code",
   "execution_count": 1,
   "id": "d979f1f3-3f98-4928-8e99-622ffc59eb53",
   "metadata": {},
   "outputs": [],
   "source": [
    "import glob\n",
    "import ase.io as aio\n",
    "from ase.visualize import view\n",
    "import numpy as np\n",
    "\n",
    "import re\n",
    "import sys\n",
    "sys.path.insert(0, '/home/sahre/git_repositories/APDFT/prototyping/atomic_energies/')\n",
    "import utils_qm as uqm"
   ]
  },
  {
   "cell_type": "code",
   "execution_count": 2,
   "id": "0dd5056e-2f89-4c2c-be6a-7c9a6d5477ff",
   "metadata": {},
   "outputs": [],
   "source": [
    "# elements = ['[SiH3]', 'P', 'S', 'Cl']\n",
    "\n",
    "elements = ['[GeH3]', '[AsH2]', '[SeH]', 'Br']\n",
    "\n",
    "\n",
    "smiles = []\n",
    "for i in range(len(elements)):\n",
    "    for j in range(i, len(elements)):\n",
    "        smiles.append(elements[i]+elements[j])\n",
    "with open('/data/sahre/projects/atomic-energies/data/bonding_trends/pbe0_data/row_4/diatomics_single/smiles', 'w') as f:\n",
    "    for e in smiles:\n",
    "        f.write(e+'\\n')"
   ]
  },
  {
   "cell_type": "code",
   "execution_count": null,
   "id": "81a2e0b7-1f62-4070-aee5-233d34a11b9e",
   "metadata": {},
   "outputs": [],
   "source": [
    "paths = glob.glob('/data/sahre/projects/atomic-energies/data/bonding_trends/pbe0_data/row_4/diatomics_single/*.xyz')\n",
    "for p in paths:\n",
    "    view(aio.read(p))"
   ]
  },
  {
   "cell_type": "markdown",
   "id": "d3b35317-e412-41e2-83f4-235c0fe32b59",
   "metadata": {},
   "source": [
    "### collect data"
   ]
  },
  {
   "cell_type": "code",
   "execution_count": 12,
   "id": "47ef7205-57e8-4630-a01d-767d488cdb6c",
   "metadata": {},
   "outputs": [
    {
     "name": "stdout",
     "output_type": "stream",
     "text": [
      "1.4209260468449116\n",
      "2.8562629038867276e-09\n"
     ]
    }
   ],
   "source": [
    "# mean distance between heavy atoms\n",
    "# needed for nuclear repulsion calculation\n",
    "\n",
    "row = 'row_4'\n",
    "system = 'diatomics'\n",
    "bond_type = 'single'\n",
    "\n",
    "structures = glob.glob(f'/data/sahre/projects/atomic-energies/data/bonding_trends/pbe0_data/{row}/{system}_{bond_type}/*_d2.xyz')\n",
    "from ase.units import Bohr\n",
    "dist = []\n",
    "for s in structures:\n",
    "    mol = aio.read(s)\n",
    "    dist.append(mol.get_distance(0, 1))\n",
    "dist = np.array(dist)\n",
    "mean_dist = dist.mean()\n",
    "print(mean_dist)\n",
    "print(dist.std())"
   ]
  },
  {
   "cell_type": "code",
   "execution_count": 13,
   "id": "82a5771a-cb92-4303-9aa3-d41101ad95c7",
   "metadata": {},
   "outputs": [
    {
     "data": {
      "text/plain": [
       "1.4209260468449116"
      ]
     },
     "execution_count": 13,
     "metadata": {},
     "output_type": "execute_result"
    }
   ],
   "source": [
    "mean_dist"
   ]
  },
  {
   "cell_type": "code",
   "execution_count": 10,
   "id": "5de727b6-9e39-4207-9696-316c8de5a89d",
   "metadata": {},
   "outputs": [
    {
     "data": {
      "text/plain": [
       "{'[GeH3][SeH]': -4479.517384608777,\n",
       " '[SeH]Br': -4974.712661479157,\n",
       " '[AsH2][AsH2]': -4472.613351241432,\n",
       " '[SeH][SeH]': -4802.766304718052,\n",
       " '[AsH2]Br': -4809.688472274245,\n",
       " '[GeH3]Br': -4651.5284174848075,\n",
       " '[GeH3][AsH2]': -4314.432478937179,\n",
       " '[GeH3][GeH3]': -4156.231445105399,\n",
       " '[AsH2][SeH]': -4637.697878035026,\n",
       " 'BrBr': -5146.677996650496}"
      ]
     },
     "execution_count": 10,
     "metadata": {},
     "output_type": "execute_result"
    }
   ],
   "source": [
    "energies_diatomics"
   ]
  },
  {
   "cell_type": "code",
   "execution_count": 9,
   "id": "1558eee2-6279-4a59-84e2-a39aa3dd70d1",
   "metadata": {},
   "outputs": [
    {
     "data": {
      "text/plain": [
       "{'[GeH3][SeH]': 0.7887252104201252,\n",
       " '[SeH]Br': 0.9246257048953339,\n",
       " '[AsH2][AsH2]': 0.9066537273711219,\n",
       " '[SeH][SeH]': 0.8880106086535307,\n",
       " '[AsH2]Br': 0.8816597308550627,\n",
       " '[GeH3]Br': 0.7606641917354864,\n",
       " '[GeH3][AsH2]': 0.8064757030660985,\n",
       " '[GeH3][GeH3]': 0.7264592062892916,\n",
       " '[AsH2][SeH]': 0.8892821127274146,\n",
       " 'BrBr': 0.9422623909013055}"
      ]
     },
     "execution_count": 9,
     "metadata": {},
     "output_type": "execute_result"
    }
   ],
   "source": [
    "bfe"
   ]
  },
  {
   "cell_type": "code",
   "execution_count": 23,
   "id": "0077d9ad-bdb8-4780-9e68-7ad6ebacf8c9",
   "metadata": {},
   "outputs": [],
   "source": [
    "row = 'row_3'\n",
    "system = 'diatomics'\n",
    "bond_type = 'single'\n",
    "\n",
    "# if row == 'row_3':\n",
    "#     frag_types = ['Si', 'P', 'S', 'Cl']\n",
    "# elif row == 'row_4':\n",
    "#     frag_types = ['[GeH3]', '[AsH2]', '[SeH]', 'Br']\n",
    "\n",
    "# total energy of diatomics\n",
    "energies_diatomics = dict()\n",
    "efiles = glob.glob(f'/data/sahre/projects/atomic-energies/data/bonding_trends/pbe0_data/{row}/{system}_{bond_type}/*d2_energy')\n",
    "for file in efiles:\n",
    "    with open(file, 'r') as f:\n",
    "        k = file.split('/')[-1].split('_')[0]\n",
    "        energies_diatomics[k] = float(f.readline().strip('\\n'))\n",
    "\n",
    "# total energy of relaxed fragments\n",
    "# row = 'row_3'\n",
    "system = 'fragments'\n",
    "# bond_type = 'single'\n",
    "                   \n",
    "energies_frags = dict()\n",
    "efiles = glob.glob(f'/data/sahre/projects/atomic-energies/data/bonding_trends/pbe0_data/{row}/{system}_{bond_type}/*_energy_relaxed')\n",
    "for file in efiles:\n",
    "    with open(file, 'r') as f:\n",
    "        smiles = file.split('/')[-1].split('_')[0]\n",
    "        frags = uqm.fragmentize_smiles(smiles)\n",
    "        frag_name = frags[0]\n",
    "#         if len(re.findall(r\"\\[.*?\\]\", smiles)) > 0:\n",
    "#             frag_name = re.findall(r\"\\[.*?\\]\", smiles)[0]\n",
    "#         else:\n",
    "#             frag_name = re.sub( r\"([A-Z])\", r\" \\1\", smiles).split()[0]\n",
    "\n",
    "        energies_frags[frag_name] = float(f.readline().strip('\\n'))\n",
    "\n",
    "# bfe\n",
    "bfe = dict()\n",
    "for smiles in energies_diatomics.keys():\n",
    "#     if len(re.findall(r\"\\[.*?\\]\", smiles)) > 0:\n",
    "#         frags = re.findall(r\"\\[.*?\\]\", smiles)\n",
    "#     else:\n",
    "#         frags = re.sub( r\"([A-Z])\", r\" \\1\", smiles).split()\n",
    "    frags = uqm.fragmentize_smiles(smiles)\n",
    "    assert len(frags) == 2\n",
    "    \n",
    "    bfe[smiles] = energies_diatomics[smiles] - (energies_frags[frags[0]]+energies_frags[frags[1]])\n",
    "\n",
    "# nuc repulsion for fixed distance and only contribution of heteroatoms\n",
    "structures = glob.glob(f\"/data/sahre/projects/atomic-energies/data/bonding_trends/pbe0_data/{row}/diatomics_{bond_type}/*_d2.xyz\")\n",
    "e_nuc = dict()\n",
    "from ase.units import Bohr\n",
    "d = mean_dist/Bohr\n",
    "\n",
    "for s in structures:\n",
    "    mol = aio.read(s)\n",
    "    k = s.split('/')[-1].split('_')[0]\n",
    "    \n",
    "    fixed = mol.get_atomic_numbers()[0]*mol.get_atomic_numbers()[1]/d\n",
    "    relaxed = mol.get_atomic_numbers()[0]*mol.get_atomic_numbers()[1]/(mol.get_distance(0, 1)/Bohr)\n",
    "    e_nuc[k] = [fixed]\n",
    "# bfe, bfe_el, bfe_nuc \n",
    "energies = dict()\n",
    "for k in bfe.keys():\n",
    "    bfe_el = bfe[k] - e_nuc[k][0]\n",
    "    #bfe_elr = bfe[k] - e_nuc[k][1]\n",
    "    \n",
    "    energies[k] = [bfe[k], bfe_el, e_nuc[k][0]]\n",
    "    \n",
    "# save data\n",
    "path = f'/data/sahre/projects/atomic-energies/data/bonding_trends/pbe0_data/{row}/energies_{bond_type}_dict'\n",
    "# uqm.save_obj(energies, path)\n",
    "\n",
    "comps = ['[SiH3][SiH3]', '[SiH3]P', '[SiH3]S', '[SiH3]Cl', 'PP', 'PS', 'PCl', 'SS', 'SCl', 'ClCl']\n",
    "# comps = ['[GeH3][GeH3]','[GeH3][AsH2]','[GeH3][SeH]','[GeH3]Br','[AsH2][AsH2]','[AsH2][SeH]','[AsH2]Br','[SeH][SeH]','[SeH]Br','BrBr']\n",
    "energies_ordered = []\n",
    "for c in comps:\n",
    "    energies_ordered.append(energies[c])\n",
    "energies_ordered = np.array(energies_ordered)\n",
    "np.savetxt(f'/data/sahre/projects/atomic-energies/data/bonding_trends/pbe0_data/{row}/energies_{bond_type}_d2.txt', energies_ordered)"
   ]
  },
  {
   "cell_type": "code",
   "execution_count": 24,
   "id": "7dc84b4b-e4f3-4648-8fc0-09bcd7cc7cca",
   "metadata": {},
   "outputs": [
    {
     "data": {
      "text/plain": [
       "array([[   0.49818519,  -72.4955737 ,   72.99375889],\n",
       "       [   0.45915656,  -77.74844226,   78.20759882],\n",
       "       [   0.34671651,  -83.07472223,   83.42143874],\n",
       "       [   0.23782636,  -88.3974523 ,   88.63527866],\n",
       "       [   0.45625246,  -83.33760341,   83.79385587],\n",
       "       [   0.34912217,  -89.03099076,   89.38011293],\n",
       "       [   0.28147925,  -94.68489074,   94.96636999],\n",
       "       [   0.2919887 ,  -95.04679843,   95.33878713],\n",
       "       [   0.27224768, -101.02521365,  101.29746132],\n",
       "       [   0.24909027, -107.37946239,  107.62855266]])"
      ]
     },
     "execution_count": 24,
     "metadata": {},
     "output_type": "execute_result"
    }
   ],
   "source": [
    "energies_ordered"
   ]
  },
  {
   "cell_type": "code",
   "execution_count": 17,
   "id": "0ef99c2d-8b30-443c-bb31-2433bb509611",
   "metadata": {},
   "outputs": [
    {
     "data": {
      "text/plain": [
       "array([[   0.72645921, -380.6286893 ,  381.35514851],\n",
       "       [   0.8064757 , -392.4660212 ,  393.2724969 ],\n",
       "       [   0.78872521, -404.40112008,  405.18984529],\n",
       "       [   0.76066419, -416.34652949,  417.10719368],\n",
       "       [   0.90665373, -404.6556087 ,  405.56226243],\n",
       "       [   0.88928211, -416.96274585,  417.85202796],\n",
       "       [   0.88165973, -429.26013376,  430.14179349],\n",
       "       [   0.88801061, -429.62620001,  430.51421062],\n",
       "       [   0.9246257 , -442.25176758,  443.17639329],\n",
       "       [   0.94226239, -455.2687307 ,  456.21099309]])"
      ]
     },
     "execution_count": 17,
     "metadata": {},
     "output_type": "execute_result"
    }
   ],
   "source": [
    "energies_ordered"
   ]
  },
  {
   "cell_type": "code",
   "execution_count": 25,
   "id": "2c67f66d-0ab1-4437-a8f7-2d4ca3b2d640",
   "metadata": {},
   "outputs": [
    {
     "data": {
      "text/plain": [
       "[<matplotlib.lines.Line2D at 0x7f992b9b7b50>]"
      ]
     },
     "execution_count": 25,
     "metadata": {},
     "output_type": "execute_result"
    },
    {
     "data": {
      "image/png": "[encoded data removed]",
      "text/plain": [
       "<Figure size 432x288 with 1 Axes>"
      ]
     },
     "metadata": {
      "needs_background": "light"
     },
     "output_type": "display_data"
    }
   ],
   "source": [
    "from matplotlib import pyplot as plt\n",
    "plt.plot(energies_ordered[:,1], '-o')"
   ]
  },
  {
   "cell_type": "code",
   "execution_count": null,
   "id": "6ec083a3-0701-43b1-b5dc-06e3753da674",
   "metadata": {},
   "outputs": [],
   "source": [
    "# frag_types = ['[GeH3]', '[AsH2]', '[SeH]', 'Br']\n",
    "# comps = []\n",
    "# for i in range(len(frag_types)):\n",
    "#     for j in range(i, len(frag_types)):\n",
    "#         comps.append(frag_types[i]+ frag_types[j])"
   ]
  },
  {
   "cell_type": "code",
   "execution_count": null,
   "id": "9c899371-b651-49d2-b1dd-db06a3871232",
   "metadata": {},
   "outputs": [],
   "source": [
    "energies_ordered"
   ]
  },
  {
   "cell_type": "markdown",
   "id": "ae009b1a-96c3-4e0c-b779-0d8179cd52c0",
   "metadata": {},
   "source": [
    "# Mixed rows"
   ]
  },
  {
   "cell_type": "code",
   "execution_count": null,
   "id": "9665517a-7666-4dc4-82af-fe7e24cd6da7",
   "metadata": {},
   "outputs": [],
   "source": [
    "import glob\n",
    "import ase.io as aio\n",
    "from ase.visualize import view\n",
    "import numpy as np\n",
    "\n",
    "import re\n",
    "import sys\n",
    "sys.path.insert(0, '/home/sahre/git_repositories/APDFT/prototyping/atomic_energies/')\n",
    "import utils_qm as uqm"
   ]
  },
  {
   "cell_type": "code",
   "execution_count": null,
   "id": "5dcb0566-c05e-4a3c-b313-d0620818ffb4",
   "metadata": {},
   "outputs": [],
   "source": [
    "frags_row_2 = ['C', 'N', 'O', 'F']\n",
    "frags_row_3 = ['[SiH3]', '[PH2]', '[SH]', 'Cl']\n",
    "frags_row_4 = ['[GeH3]', '[AsH2]', '[SeH]', 'Br']\n",
    "\n",
    "row = 'mixed_3_4'\n",
    "if row ==  'mixed_2_3':\n",
    "    frags_row_i = frags_row_2\n",
    "    frags_row_j = frags_row_3\n",
    "elif row ==  'mixed_2_4':\n",
    "    frags_row_i = frags_row_2\n",
    "    frags_row_j = frags_row_4\n",
    "elif row ==  'mixed_3_4':\n",
    "    frags_row_i = frags_row_3\n",
    "    frags_row_j = frags_row_4\n",
    "\n",
    "smiles = []\n",
    "for i in frags_row_i:\n",
    "    for j in frags_row_j:\n",
    "        smiles.append(i+j)\n",
    "with open(f'/data/sahre/projects/atomic-energies/data/bonding_trends/pbe0_data/{row}/smiles', 'w') as f:\n",
    "    for e in smiles:\n",
    "        f.write(e+'\\n')"
   ]
  },
  {
   "cell_type": "code",
   "execution_count": null,
   "id": "eb6c43f1-20c4-49ba-9cbb-cb0b88a2fc17",
   "metadata": {},
   "outputs": [],
   "source": [
    "row = 'mixed_2_3'\n",
    "\n",
    "paths = glob.glob(f'/data/sahre/projects/atomic-energies/data/bonding_trends/pbe0_data/{row}/*.xyz')\n",
    "for p in paths:\n",
    "    view(aio.read(p))"
   ]
  },
  {
   "cell_type": "code",
   "execution_count": null,
   "id": "6bdde409-c6f3-46a3-ab28-4ff139ee7b52",
   "metadata": {},
   "outputs": [],
   "source": []
  },
  {
   "cell_type": "markdown",
   "id": "691c225e-3ba6-4129-a584-77a5bfb1f006",
   "metadata": {},
   "source": [
    "# same distance for all atoms"
   ]
  },
  {
   "cell_type": "code",
   "execution_count": null,
   "id": "8fca3306-53d3-49de-8205-c5fb9605a8e4",
   "metadata": {},
   "outputs": [],
   "source": [
    "# identify second group\n",
    "# set distance second group\n"
   ]
  },
  {
   "cell_type": "code",
   "execution_count": 66,
   "id": "53dc06a2-9fe6-4a83-b29b-0e169cf06497",
   "metadata": {},
   "outputs": [],
   "source": [
    "import pysmiles as ps\n",
    "import glob\n",
    "import ase.io as aio\n",
    "from ase.visualize import view\n",
    "\n",
    "import sys\n",
    "sys.path.insert(0, '/home/sahre/git_repositories/APDFT/prototyping/atomic_energies/')\n",
    "import utils_qm as uqm\n",
    "\n",
    "import numpy as np\n",
    "from matplotlib import pyplot as plt"
   ]
  },
  {
   "cell_type": "code",
   "execution_count": 86,
   "id": "7a3010c7-9bfc-425d-8771-74e7e7434042",
   "metadata": {},
   "outputs": [],
   "source": [
    "# row = 'row_4'\n",
    "dist = 1.42\n",
    "\n",
    "xyz_files_new = []\n",
    "\n",
    "for row in ['row_2', 'row_3', 'row_4']:\n",
    "    xyz_files = glob.glob(f'/data/sahre/projects/atomic-energies/data/bonding_trends/pbe0_data/{row}/diatomics_single/*_opt.xyz')\n",
    "    smiles = []\n",
    "    for f in xyz_files:\n",
    "        s = f.split('/')[-1].split('_')[0]\n",
    "#         print(s)\n",
    "        if 'Si' in s:\n",
    "            s = s.replace('Si', '[SiH3]')\n",
    "        smiles.append(s)\n",
    "\n",
    "\n",
    "    for s, f in zip(smiles, xyz_files):\n",
    "        atoms = aio.read(f)\n",
    "        num_atoms = atoms.get_global_number_of_atoms()\n",
    "\n",
    "        graph = ps.read_smiles(s)\n",
    "        num_h1 = graph.nodes(data='hcount')[1]\n",
    "        indices = [1] # second heavy atom\n",
    "        indices.extend(list(range(num_atoms-num_h1, num_atoms))) # hydrogens attached to second heavy atom\n",
    "\n",
    "        atoms_new = atoms.copy()\n",
    "        atoms_new.set_distance(0, 1, dist, indices=indices, fix = 0)\n",
    "\n",
    "        file_new = f'/data/sahre/projects/atomic-energies/data/bonding_trends/pbe0_data/distance/{s}_d{str(dist)}.xyz'\n",
    "        aio.write(file_new, images=atoms_new)\n",
    "#         xyz_name.append(f'{s}_d{str(dist)}.xyz')\n",
    "        xyz_files_new.append(file_new)\n",
    "\n",
    "with open(f'/data/sahre/projects/atomic-energies/data/bonding_trends/pbe0_data/distance/gnu_para_{dist}', 'w') as fs:\n",
    "    for line in xyz_files_new:\n",
    "        name = line.split('/')[-1]\n",
    "        fs.write(f'python /home/sahre/git_repositories/APDFT/prototyping/atomic_energies/analysis/bonding_trends/singlepoint.py \\'{name}\\'\\n')"
   ]
  },
  {
   "cell_type": "code",
   "execution_count": 22,
   "id": "303ec279-491f-4005-b0af-597ce7d0c15a",
   "metadata": {},
   "outputs": [],
   "source": []
  },
  {
   "cell_type": "code",
   "execution_count": 35,
   "id": "e10cf738-3af6-4240-a7db-e20a256839e4",
   "metadata": {},
   "outputs": [],
   "source": [
    "# total energy of relaxed fragments\n",
    "energies_frags = dict()\n",
    "\n",
    "for row in ['row_2', 'row_3', 'row_4']:\n",
    "    system = 'fragments'\n",
    "    bond_type = 'single'\n",
    "\n",
    "    efiles = glob.glob(f'/data/sahre/projects/atomic-energies/data/bonding_trends/pbe0_data/{row}/{system}_{bond_type}/*_energy_relaxed')\n",
    "    for file in efiles:\n",
    "        with open(file, 'r') as f:\n",
    "            smiles = file.split('/')[-1].split('_')[0]\n",
    "            frags = uqm.fragmentize_smiles(smiles)\n",
    "            frag_name = frags[0]\n",
    "    #         if len(re.findall(r\"\\[.*?\\]\", smiles)) > 0:\n",
    "    #             frag_name = re.findall(r\"\\[.*?\\]\", smiles)[0]\n",
    "    #         else:\n",
    "    #             frag_name = re.sub( r\"([A-Z])\", r\" \\1\", smiles).split()[0]\n",
    "\n",
    "            energies_frags[frag_name] = float(f.readline().strip('\\n'))"
   ]
  },
  {
   "cell_type": "code",
   "execution_count": 87,
   "id": "9937572d-db4e-4d22-afd9-ebcb52b80e43",
   "metadata": {},
   "outputs": [],
   "source": [
    "# total energy of diatomics\n",
    "energies_diatomics = dict()\n",
    "efiles = glob.glob(f'/data/sahre/projects/atomic-energies/data/bonding_trends/pbe0_data/distance/*{str(dist)}_energy')\n",
    "for file in efiles:\n",
    "    with open(file, 'r') as f:\n",
    "        k = file.split('/')[-1].split('_')[0]\n",
    "        energies_diatomics[k] = float(f.readline().strip('\\n'))\n",
    "\n",
    "# bfe\n",
    "bfe = dict()\n",
    "for smiles in energies_diatomics.keys():\n",
    "    frags = uqm.fragmentize_smiles(smiles)\n",
    "    assert len(frags) == 2\n",
    "    \n",
    "    bfe[smiles] = energies_diatomics[smiles] - (energies_frags[frags[0]]+energies_frags[frags[1]])\n",
    "\n",
    "# nuc repulsion for fixed distance and only contribution of heteroatoms\n",
    "structures = glob.glob(f\"/data/sahre/projects/atomic-energies/data/bonding_trends/pbe0_data/distance/*_d{dist}.xyz\")\n",
    "e_nuc = dict()\n",
    "from ase.units import Bohr\n",
    "d = dist/Bohr\n",
    "\n",
    "for s in structures:\n",
    "    mol = aio.read(s)\n",
    "    k = s.split('/')[-1].split('_')[0]\n",
    "    \n",
    "    fixed = mol.get_atomic_numbers()[0]*mol.get_atomic_numbers()[1]/d\n",
    "    relaxed = mol.get_atomic_numbers()[0]*mol.get_atomic_numbers()[1]/(mol.get_distance(0, 1)/Bohr)\n",
    "    e_nuc[k] = [fixed]\n",
    "# bfe, bfe_el, bfe_nuc \n",
    "energies = dict()\n",
    "for k in bfe.keys():\n",
    "    bfe_el = bfe[k] - e_nuc[k][0]\n",
    "    #bfe_elr = bfe[k] - e_nuc[k][1]\n",
    "    \n",
    "    energies[k] = [bfe[k], bfe_el, e_nuc[k][0]]\n",
    "    \n",
    "# # save data\n",
    "# path = f'/data/sahre/projects/atomic-energies/data/bonding_trends/pbe0_data/{row}/energies_{bond_type}_dict'\n",
    "# # uqm.save_obj(energies, path)\n",
    "\n",
    "comps = ['CC', 'CN', 'CO', 'CF', 'NN', 'NO', 'NF', 'OO', 'OF', 'FF', '[SiH3][SiH3]', '[SiH3]P', '[SiH3]S', '[SiH3]Cl', 'PP', 'PS', 'PCl', 'SS', 'SCl', 'ClCl', '[GeH3][GeH3]','[GeH3][AsH2]','[GeH3][SeH]','[GeH3]Br','[AsH2][AsH2]','[AsH2][SeH]','[AsH2]Br','[SeH][SeH]','[SeH]Br','BrBr']\n",
    "# comps = ['[SiH3][SiH3]', '[SiH3]P', '[SiH3]S', '[SiH3]Cl', 'PP', 'PS', 'PCl', 'SS', 'SCl', 'ClCl']\n",
    "# comps = ['[GeH3][GeH3]','[GeH3][AsH2]','[GeH3][SeH]','[GeH3]Br','[AsH2][AsH2]','[AsH2][SeH]','[AsH2]Br','[SeH][SeH]','[SeH]Br','BrBr']\n",
    "energies_ordered = []\n",
    "for c in comps:\n",
    "    energies_ordered.append(energies[c])\n",
    "energies_ordered = np.array(energies_ordered)\n",
    "np.savetxt(f'/data/sahre/projects/atomic-energies/data/bonding_trends/pbe0_data/distance/energies_d{dist}.txt', energies_ordered)"
   ]
  },
  {
   "cell_type": "code",
   "execution_count": 88,
   "id": "11978b1a-ebd1-4954-ba5c-d1714bdebfff",
   "metadata": {},
   "outputs": [
    {
     "data": {
      "text/plain": [
       "[<matplotlib.lines.Line2D at 0x7fa20b165490>]"
      ]
     },
     "execution_count": 88,
     "metadata": {},
     "output_type": "execute_result"
    },
    {
     "data": {
      "image/png": "[encoded data removed]",
      "text/plain": [
       "<Figure size 432x288 with 1 Axes>"
      ]
     },
     "metadata": {
      "needs_background": "light"
     },
     "output_type": "display_data"
    }
   ],
   "source": [
    "plt.plot(energies_ordered[:,1][20:30])"
   ]
  },
  {
   "cell_type": "code",
   "execution_count": 55,
   "id": "26d0e09e-517c-4889-b1ac-f5aabbaf60fa",
   "metadata": {},
   "outputs": [
    {
     "data": {
      "text/plain": [
       "59.267847583150214"
      ]
     },
     "execution_count": 55,
     "metadata": {},
     "output_type": "execute_result"
    }
   ],
   "source": [
    "14**2/d"
   ]
  },
  {
   "cell_type": "code",
   "execution_count": null,
   "id": "826f5443-9daf-4bec-9647-74dcc06974cd",
   "metadata": {},
   "outputs": [],
   "source": [
    "atoms = ['Si', 'Cl', 'H', 'H', 'H']"
   ]
  },
  {
   "cell_type": "code",
   "execution_count": null,
   "id": "3c47c64f-a748-490b-9731-77a103ca7ed8",
   "metadata": {},
   "outputs": [],
   "source": [
    "atoms[len(atoms)-num_hydrogens:]"
   ]
  },
  {
   "cell_type": "code",
   "execution_count": null,
   "id": "cada9dee-2c0e-4e0b-96c9-e40bc6a3a2bc",
   "metadata": {},
   "outputs": [],
   "source": [
    "for f in glob.glob('/data/sahre/projects/atomic-energies/data/bonding_trends/pbe0_data/row_3/diatomics_single/*d2.xyz'):\n",
    "    view(aio.read(f))"
   ]
  }
 ],
 "metadata": {
  "kernelspec": {
   "display_name": "Python 3",
   "language": "python",
   "name": "python3"
  },
  "language_info": {
   "codemirror_mode": {
    "name": "ipython",
    "version": 3
   },
   "file_extension": ".py",
   "mimetype": "text/x-python",
   "name": "python",
   "nbconvert_exporter": "python",
   "pygments_lexer": "ipython3",
   "version": "3.9.5"
  }
 },
 "nbformat": 4,
 "nbformat_minor": 5
}
