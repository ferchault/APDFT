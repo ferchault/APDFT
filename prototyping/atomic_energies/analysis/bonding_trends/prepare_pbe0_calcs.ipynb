{
 "cells": [
  {
   "cell_type": "code",
   "execution_count": 1,
   "id": "d3e8a05c-b0f8-4566-a7f7-44d6eef16aaa",
   "metadata": {},
   "outputs": [],
   "source": [
    "# generate structures using leruli\n",
    "# choose a fancy basis set\n",
    "# optimize with pbe0\n",
    "# generate fragments\n",
    "# calculate frag without optimization\n",
    "# with optimization\n",
    "\n",
    "# collect energies into one file\n",
    "# energy energy_frag energy_ BDE BDE_relaxed"
   ]
  },
  {
   "cell_type": "code",
   "execution_count": null,
   "id": "1fa2d4b6-54f9-4c38-914e-a113b9114445",
   "metadata": {},
   "outputs": [],
   "source": []
  },
  {
   "cell_type": "code",
   "execution_count": 1,
   "id": "08d6ac1d-1743-426e-82cc-449c2bcbb88a",
   "metadata": {},
   "outputs": [
    {
     "name": "stderr",
     "output_type": "stream",
     "text": [
      "/home/sahre/opt/miniconda3/envs/qm-tools/lib/python3.9/site-packages/pyscf/lib/misc.py:46: H5pyDeprecationWarning: Using default_file_mode other than 'r' is deprecated. Pass the mode to h5py.File() instead.\n",
      "  h5py.get_config().default_file_mode = 'a'\n"
     ]
    }
   ],
   "source": [
    "import ase.io as aio\n",
    "from ase.units import Bohr\n",
    "from ase import Atoms\n",
    "import sys\n",
    "sys.path.insert(0, '/home/sahre/git_repositories/APDFT/prototyping/atomic_energies/')\n",
    "import utils_qm as uqm\n",
    "\n",
    "from pyscf import gto, dft, scf\n",
    "\n",
    "# geometric\n",
    "from pyscf.geomopt.geometric_solver import optimize\n",
    "\n",
    "from ase.visualize import view"
   ]
  },
  {
   "cell_type": "code",
   "execution_count": 2,
   "id": "cb8805a3-6010-4b40-9192-62f3942aeea5",
   "metadata": {},
   "outputs": [
    {
     "data": {
      "text/plain": [
       "<Popen: returncode: None args: ['/home/sahre/opt/miniconda3/envs/qm-tools/bi...>"
      ]
     },
     "execution_count": 2,
     "metadata": {},
     "output_type": "execute_result"
    }
   ],
   "source": [
    "c = 'CC'\n",
    "p = f'/data/sahre/projects/atomic-energies/data/bonding_trends/pbe0_data/row_2/fragments_single/{c}_opt.xyz'\n",
    "atoms = aio.read(p)\n",
    "view(atoms)"
   ]
  },
  {
   "cell_type": "markdown",
   "id": "de250ce4-e365-42d2-a064-722682b44df7",
   "metadata": {},
   "source": [
    "## Look at structures"
   ]
  },
  {
   "cell_type": "code",
   "execution_count": 22,
   "id": "3c1d5a31-b028-443b-b6ab-36f8d02e90a5",
   "metadata": {
    "tags": []
   },
   "outputs": [
    {
     "name": "stdout",
     "output_type": "stream",
     "text": [
      "1.962869066225505\n",
      "1.7233025736609238\n",
      "1.5707648699439576\n",
      "1.55986243\n"
     ]
    }
   ],
   "source": [
    "comps = ['[Li]C', '[Li]N','[Li]O', '[Li]F']\n",
    "#comps = ['[BeH]C', '[BeH]N','[BeH]O', '[BeH]F']\n",
    "\n",
    "for c in comps:\n",
    "    #c = 'FF'\n",
    "    p = f'/data/sahre/projects/atomic-energies/data/bonding_trends/pbe0_data/row_2/diatomics_single/{c}_opt.xyz'\n",
    "    atoms = aio.read(p)\n",
    "    p2 = f'/data/sahre/projects/atomic-energies/data/bonding_trends/pbe0_data/row_2/diatomics_single/{c}.xyz'\n",
    "    atoms2 = aio.read(p2)\n",
    "    #print(atoms.get_distance(0,1)-atoms2.get_distance(0,1))\n",
    "    #view(atoms, viewer='ngl')\n",
    "    view(atoms)"
   ]
  },
  {
   "cell_type": "code",
   "execution_count": 34,
   "id": "8257a5e7-ec16-4e49-b833-c80b868e4b1d",
   "metadata": {},
   "outputs": [
    {
     "data": {
      "text/plain": [
       "122.10555798801741"
      ]
     },
     "execution_count": 34,
     "metadata": {},
     "output_type": "execute_result"
    }
   ],
   "source": [
    "atoms.get_angle(a1=1, a2 = 0, a3=2)"
   ]
  },
  {
   "cell_type": "code",
   "execution_count": 6,
   "id": "ba0520f6-deb4-469e-9265-f64fb312cde6",
   "metadata": {},
   "outputs": [
    {
     "data": {
      "text/plain": [
       "1.5205183326747493"
      ]
     },
     "execution_count": 6,
     "metadata": {},
     "output_type": "execute_result"
    }
   ],
   "source": [
    "atoms.get_distance(0,1)"
   ]
  },
  {
   "cell_type": "code",
   "execution_count": 70,
   "id": "bac76e7e-6741-40bd-9f22-213722585b24",
   "metadata": {},
   "outputs": [
    {
     "data": {
      "application/vnd.jupyter.widget-view+json": {
       "model_id": "63a0bf9919254d64a0e822a8c5607caa",
       "version_major": 2,
       "version_minor": 0
      },
      "text/plain": [
       "HBox(children=(NGLWidget(), VBox(children=(Dropdown(description='Show', options=('All', 'Ga', 'H'), value='All…"
      ]
     },
     "metadata": {},
     "output_type": "display_data"
    }
   ],
   "source": [
    "c = '[GaH2][GaH2]'\n",
    "\n",
    "#c = '[BH2][BH2]'\n",
    "\n",
    "p = f'/data/sahre/projects/atomic-energies/data/bonding_trends/pbe0_data/row_4/fragments_single/{c}_opt.xyz'\n",
    "atoms = aio.read(p)\n",
    "view(atoms, viewer='ngl')"
   ]
  },
  {
   "cell_type": "code",
   "execution_count": 35,
   "id": "f5e36eae-7bf8-4d60-be6b-f49b00c261a7",
   "metadata": {},
   "outputs": [
    {
     "data": {
      "application/vnd.jupyter.widget-view+json": {
       "model_id": "3c4e088f217643b4809da9e1043212ab",
       "version_major": 2,
       "version_minor": 0
      },
      "text/plain": [
       "HBox(children=(NGLWidget(), VBox(children=(Dropdown(description='Show', options=('All', 'B', 'H'), value='All'…"
      ]
     },
     "metadata": {},
     "output_type": "display_data"
    }
   ],
   "source": [
    "c = 'BB'\n",
    "p = f'/data/sahre/projects/atomic-energies/data/bonding_trends/pbe0_data/row_2/fragments_single/{c}_opt.xyz'\n",
    "atoms = aio.read(p)\n",
    "view(atoms, viewer='ngl')"
   ]
  },
  {
   "cell_type": "code",
   "execution_count": 36,
   "id": "5a34844a-5fa5-4f58-9232-126480697be9",
   "metadata": {},
   "outputs": [
    {
     "data": {
      "text/plain": [
       "128.97151216296135"
      ]
     },
     "execution_count": 36,
     "metadata": {},
     "output_type": "execute_result"
    }
   ],
   "source": [
    "atoms.get_angle(a1=1, a2 = 0, a3=2)"
   ]
  },
  {
   "cell_type": "code",
   "execution_count": 37,
   "id": "82705998-cfa9-4371-bc2e-b6594fd15668",
   "metadata": {},
   "outputs": [
    {
     "data": {
      "text/plain": [
       "1.1915088648624514"
      ]
     },
     "execution_count": 37,
     "metadata": {},
     "output_type": "execute_result"
    }
   ],
   "source": [
    "atoms.get_distance(0,1)"
   ]
  },
  {
   "cell_type": "markdown",
   "id": "d52e7891-e9b2-4965-9c9c-ab1ce0cfa7f3",
   "metadata": {},
   "source": [
    "### Fragments"
   ]
  },
  {
   "cell_type": "code",
   "execution_count": null,
   "id": "13d74dfb-a385-4786-907e-afd0c871817e",
   "metadata": {
    "tags": []
   },
   "outputs": [],
   "source": [
    "# for c in ['CC', 'NN', 'OO', 'FF']:\n",
    "#     #c = 'FF'\n",
    "#     p = f'/data/sahre/projects/atomic-energies/data/bonding_trends/pbe0_data/fragments/{c}_opt.xyz'\n",
    "#     atoms = aio.read(p)\n",
    "#     p2 = f'/data/sahre/projects/atomic-energies/data/bonding_trends/pbe0_data/fragments/{c}.xyz'\n",
    "#     atoms2 = aio.read(p2)\n",
    "#     print(atoms.get_distance(0,1)-atoms2.get_distance(0,1))\n",
    "c = 'FF' \n",
    "p = f'/data/sahre/projects/atomic-energies/data/bonding_trends/pbe0_data/fragments/{c}_opt.xyz'\n",
    "# p = f'/data/sahre/projects/atomic-energies/data/bonding_trends/pbe0_data/fragments/{c}.xyz'\n",
    "\n",
    "atoms = aio.read(p)\n",
    "#print(atoms.get_distance(0,1))\n",
    "view(atoms, viewer='x3d')"
   ]
  },
  {
   "cell_type": "markdown",
   "id": "5fa9114a-08fc-46ad-aa46-999f6e9a37bf",
   "metadata": {},
   "source": [
    "# Prepare calculations"
   ]
  },
  {
   "cell_type": "code",
   "execution_count": null,
   "id": "5fe68018-b23d-4d30-a58d-93dbddb808eb",
   "metadata": {
    "tags": []
   },
   "outputs": [],
   "source": [
    "# comps = ['CC','CN','CO','CF','NN','NO','NF','OO', 'OF', 'FF']\n",
    "c = 'CC' #sys.argv[1]\n",
    "atoms = aio.read(f'/data/sahre/projects/atomic-energies/data/bonding_trends/pbe0_data/diatomics_single/{c}.xyz')\n",
    "\n",
    "pyscf_atoms = uqm.ase2pyscf(atoms)\n",
    "basis = 'def2-tzvp'\n",
    "mol = gto.Mole()\n",
    "mol.atom = pyscf_atoms\n",
    "mol.basis = basis\n",
    "mol.build()\n",
    "\n",
    "mf = dft.RKS(mol)\n",
    "mf.xc = 'pbe0'\n",
    "mol_eq = optimize(mf, maxsteps=100)\n",
    "\n",
    "mf = dft.RKS(mol)\n",
    "mf.kernel()\n",
    "\n",
    "new_pos = mol_eq.atom_coords()*Bohr\n",
    "\n",
    "atoms.set_positions(new_pos)\n",
    "aio.write(f'/data/sahre/projects/atomic-energies/data/bonding_trends/pbe0_data/diatomics_single/{c}_opt.xyz', atoms)\n",
    "\n",
    "with open(f'/data/sahre/projects/atomic-energies/data/bonding_trends/pbe0_data/diatomics_single/{c}_energy', 'w') as f:\n",
    "    f.write(str(mf.e_tot)+'\\n')"
   ]
  },
  {
   "cell_type": "markdown",
   "id": "badb7ff2-1853-4d03-9974-024f22b4b4e1",
   "metadata": {},
   "source": [
    "# fragment calculations"
   ]
  },
  {
   "cell_type": "code",
   "execution_count": null,
   "id": "dc89d35f-7f71-42d9-b31c-189278d77fe3",
   "metadata": {},
   "outputs": [],
   "source": [
    "comps = ['CC','NN', 'OO', 'FF']\n",
    "for smiles in comps:\n",
    "    structure = aio.read(f'/data/sahre/projects/atomic-energies/data/bonding_trends/pbe0_data/diatomics_single/{smiles}_opt.xyz')\n",
    "    if structure.get_chemical_symbols()[0] == 'C':\n",
    "#         structure.set_distance(1,0, dCO, indices=[0, 2, 3, 4], fix = 0)\n",
    "        indices=[0, 2, 3, 4]\n",
    "    elif structure.get_chemical_symbols()[0] == 'N':\n",
    "#         structure.set_distance(0,1, dCO, indices=[0, 2, 3])\n",
    "        indices=[0, 2, 3]\n",
    "    elif structure.get_chemical_symbols()[0] == 'O':\n",
    "#         structure.set_distance(0,1, dCO, indices=[0, 2])\n",
    "        indices=[0, 2]\n",
    "    elif structure.get_chemical_symbols()[0] == 'F':\n",
    "#         structure.set_distance(0,1, dCO)\n",
    "        indices=[0]\n",
    "        \n",
    "    frag = Atoms(numbers = structure.get_atomic_numbers()[indices], positions=structure.get_positions()[indices])\n",
    "    aio.write(f'/data/sahre/projects/atomic-energies/data/bonding_trends/pbe0_data/fragments/{smiles}.xyz', frag)\n"
   ]
  },
  {
   "cell_type": "code",
   "execution_count": null,
   "id": "f943d52f-0c20-4c82-9fa6-844794ef31ad",
   "metadata": {},
   "outputs": [],
   "source": []
  },
  {
   "cell_type": "markdown",
   "id": "fe74fd6d-c249-4f85-a08b-6ea2f78b067f",
   "metadata": {},
   "source": [
    "# collect data"
   ]
  },
  {
   "cell_type": "code",
   "execution_count": null,
   "id": "52697b39-bade-490f-ba4c-bbdfed7cc990",
   "metadata": {},
   "outputs": [],
   "source": [
    "import glob\n",
    "from matplotlib import pyplot as plt\n",
    "import numpy as np\n",
    "import ase.io as aio\n",
    "from pyscf import gto\n",
    "\n",
    "import sys\n",
    "sys.path.insert(0, '/home/sahre/git_repositories/APDFT/prototyping/atomic_energies/')\n",
    "import utils_qm as uqm"
   ]
  },
  {
   "cell_type": "code",
   "execution_count": null,
   "id": "11d42360-de1d-40cb-aa92-8ed5ca8cde54",
   "metadata": {},
   "outputs": [],
   "source": [
    "# total energy of diatomics\n",
    "energies_diatomics = dict()\n",
    "efiles = glob.glob('/data/sahre/projects/atomic-energies/data/bonding_trends/pbe0_data/diatomics_single/*_energy')\n",
    "for file in efiles:\n",
    "    with open(file, 'r') as f:\n",
    "        k = file.split('/')[-1].split('_')[0]\n",
    "        energies_diatomics[k] = float(f.readline().strip('\\n'))\n",
    "\n",
    "# total energy of relaxed fragments\n",
    "energies_frags = dict()\n",
    "efiles = glob.glob('/data/sahre/projects/atomic-energies/data/bonding_trends/pbe0_data/fragments/*_energy_relaxed')\n",
    "for file in efiles:\n",
    "    with open(file, 'r') as f:\n",
    "        k = file.split('/')[-1].split('_')[0][0]\n",
    "        energies_frags[k] = float(f.readline().strip('\\n'))\n",
    "\n",
    "# bfe\n",
    "bfe = dict()\n",
    "for k in energies_diatomics.keys():\n",
    "    bfe[k] = energies_diatomics[k] - (energies_frags[k[0]]+energies_frags[k[1]])\n",
    "\n",
    "# nuc repulsion for fixed distance and only contribution of heteroatoms\n",
    "structures = glob.glob(\"/data/sahre/projects/atomic-energies/data/bonding_trends/pbe0_data/diatomics_single/*_opt.xyz\")\n",
    "e_nuc = dict()\n",
    "from ase.units import Bohr\n",
    "d = 1.421151094407886/Bohr\n",
    "\n",
    "for s in structures:\n",
    "    mol = aio.read(s)\n",
    "    k = s.split('/')[-1].split('_')[0]\n",
    "    \n",
    "    fixed = mol.get_atomic_numbers()[0]*mol.get_atomic_numbers()[1]/d\n",
    "    relaxed = mol.get_atomic_numbers()[0]*mol.get_atomic_numbers()[1]/(mol.get_distance(0, 1)/Bohr)\n",
    "    e_nuc[k] = [fixed]\n",
    "# bfe, bfe_el, bfe_nuc \n",
    "energies = dict()\n",
    "for k in bfe.keys():\n",
    "    bfe_el = bfe[k] - e_nuc[k][0]\n",
    "    #bfe_elr = bfe[k] - e_nuc[k][1]\n",
    "    \n",
    "    energies[k] = [bfe[k], bfe_el, e_nuc[k][0]]\n",
    "    \n",
    "# save data\n",
    "path = '/data/sahre/projects/atomic-energies/data/bonding_trends/pbe0_data/energies_dict'\n",
    "uqm.save_obj(energies, path)\n",
    "\n",
    "comps = ['CC','CN','CO','CF','NN','NO','NF','OO', 'OF', 'FF']\n",
    "energies_ordered = []\n",
    "for c in comps:\n",
    "    energies_ordered.append(energies[c])\n",
    "energies_ordered = np.array(energies_ordered)\n",
    "np.savetxt('/data/sahre/projects/atomic-energies/data/bonding_trends/pbe0_data/energies.txt', energies_ordered)"
   ]
  },
  {
   "cell_type": "code",
   "execution_count": null,
   "id": "ab855ab8-3ec8-462a-a125-d2d85c1d9c10",
   "metadata": {},
   "outputs": [],
   "source": [
    "energies"
   ]
  },
  {
   "cell_type": "code",
   "execution_count": null,
   "id": "93547f3d-a422-4d0e-ab35-27be9cad59f9",
   "metadata": {},
   "outputs": [],
   "source": [
    "energies_ordered"
   ]
  },
  {
   "cell_type": "code",
   "execution_count": null,
   "id": "7ab51fcc-26fc-4198-9873-c0d9a790126f",
   "metadata": {},
   "outputs": [],
   "source": [
    "comps = ['CC','CN','CO','CF','NN','NO','NF','OO', 'OF', 'FF']\n",
    "bde_ordered = []\n",
    "for c in comps:\n",
    "    bde_ordered.append(-energies[c][0]*2600)"
   ]
  },
  {
   "cell_type": "code",
   "execution_count": null,
   "id": "e3bf2ac9-1fb0-487e-8705-5143f71d19e6",
   "metadata": {},
   "outputs": [],
   "source": [
    "ref_bde = np.array([359.2, 337.7, 370.2, 452, 259.6, 253.5, 283.6, 195.2, 194.9, 151.7])\n",
    "\n",
    "plt.plot(comps, bde_ordered, '-o')\n",
    "plt.plot(comps, ref_bde, '-o')"
   ]
  },
  {
   "cell_type": "code",
   "execution_count": null,
   "id": "5108fe1c-70cd-49b4-9c94-d2cbcbfa6c77",
   "metadata": {},
   "outputs": [],
   "source": []
  },
  {
   "cell_type": "markdown",
   "id": "6034c290-a9a1-4cc4-a00b-447e8fd3c6b4",
   "metadata": {},
   "source": [
    "# Double bonds"
   ]
  },
  {
   "cell_type": "code",
   "execution_count": null,
   "id": "d9a83799-dedb-4c75-b428-f1360d77a891",
   "metadata": {},
   "outputs": [],
   "source": [
    "from ase.visualize import view\n",
    "import ase.io as aio"
   ]
  },
  {
   "cell_type": "code",
   "execution_count": null,
   "id": "81239d38-86b0-4989-b18d-a7ca9dfaac60",
   "metadata": {},
   "outputs": [],
   "source": [
    "comps = ['dCC','dCN', 'dCO', 'dNN', 'dNO', 'dOO']\n",
    "for c in comps:\n",
    "    mol = aio.read(f'/data/sahre/projects/atomic-energies/data/bonding_trends/pbe0_data/diatomics_double/{c}_opt.xyz')\n",
    "    view(mol)"
   ]
  },
  {
   "cell_type": "code",
   "execution_count": null,
   "id": "ddd1eaed-6443-4801-8e8f-634bce3b5232",
   "metadata": {},
   "outputs": [],
   "source": [
    "comps = ['dCC','dCN', 'dCO', 'dNN', 'dNO', 'dOO']\n",
    "for c in comps:\n",
    "    with open(f'/data/sahre/projects/atomic-energies/data/bonding_trends/pbe0_data/diatomics_double/{c}_energy') as f:\n",
    "        print(c, f.readline().strip('\\n'))"
   ]
  },
  {
   "cell_type": "code",
   "execution_count": null,
   "id": "e189a9a3-c0a4-40e7-8b7d-4ab53873f145",
   "metadata": {},
   "outputs": [],
   "source": [
    "# mean distance between heavy atoms\n",
    "# needed for nuclear repulsion calculation\n",
    "\n",
    "bond_type = 'double'\n",
    "\n",
    "structures = glob.glob(f\"/data/sahre/projects/atomic-energies/data/bonding_trends/pbe0_data/diatomics_{bond_type}/*_opt.xyz\")\n",
    "from ase.units import Bohr\n",
    "dist = []\n",
    "for s in structures:\n",
    "    mol = aio.read(s)\n",
    "    dist.append(mol.get_distance(0, 1))\n",
    "dist = np.array(dist)\n",
    "mean_dist = dist.mean()\n"
   ]
  },
  {
   "cell_type": "code",
   "execution_count": null,
   "id": "510262c2-7c62-4ae7-bbb1-99ed9528081d",
   "metadata": {},
   "outputs": [],
   "source": [
    "bfe"
   ]
  },
  {
   "cell_type": "code",
   "execution_count": null,
   "id": "f7a68dc1-c3d3-4a82-94b7-a290ccb49c0f",
   "metadata": {},
   "outputs": [],
   "source": [
    "bond_type = 'double'\n",
    "# total energy of diatomics\n",
    "energies_diatomics = dict()\n",
    "efiles = glob.glob(f'/data/sahre/projects/atomic-energies/data/bonding_trends/pbe0_data/diatomics_{bond_type}/*_energy')\n",
    "for file in efiles:\n",
    "    with open(file, 'r') as f:\n",
    "        k = file.split('/')[-1].split('_')[0]\n",
    "        energies_diatomics[k] = float(f.readline().strip('\\n'))\n",
    "\n",
    "# total energy of relaxed fragments\n",
    "energies_frags = dict()\n",
    "efiles = glob.glob(f'/data/sahre/projects/atomic-energies/data/bonding_trends/pbe0_data/fragments_{bond_type}/*_energy_relaxed')\n",
    "for file in efiles:\n",
    "    with open(file, 'r') as f:\n",
    "        k = file.split('/')[-1].split('_')[0][0:2]\n",
    "        energies_frags[k] = float(f.readline().strip('\\n'))\n",
    "\n",
    "# bfe\n",
    "bfe = dict()\n",
    "for k in energies_diatomics.keys():\n",
    "    bfe[k] = energies_diatomics[k] - (energies_frags[k[0:2]]+energies_frags['d'+k[2]])\n",
    "\n",
    "# nuc repulsion for fixed distance and only contribution of heteroatoms\n",
    "structures = glob.glob(f\"/data/sahre/projects/atomic-energies/data/bonding_trends/pbe0_data/diatomics_{bond_type}/*_opt.xyz\")\n",
    "e_nuc = dict()\n",
    "from ase.units import Bohr\n",
    "d = mean_dist/Bohr\n",
    "\n",
    "for s in structures:\n",
    "    mol = aio.read(s)\n",
    "    k = s.split('/')[-1].split('_')[0]\n",
    "    \n",
    "    fixed = mol.get_atomic_numbers()[0]*mol.get_atomic_numbers()[1]/d\n",
    "    relaxed = mol.get_atomic_numbers()[0]*mol.get_atomic_numbers()[1]/(mol.get_distance(0, 1)/Bohr)\n",
    "    e_nuc[k] = [fixed]\n",
    "# bfe, bfe_el, bfe_nuc \n",
    "energies = dict()\n",
    "for k in bfe.keys():\n",
    "    bfe_el = bfe[k] - e_nuc[k][0]\n",
    "    #bfe_elr = bfe[k] - e_nuc[k][1]\n",
    "    \n",
    "    energies[k] = [bfe[k], bfe_el, e_nuc[k][0]]\n",
    "    \n",
    "# save data\n",
    "path = '/data/sahre/projects/atomic-energies/data/bonding_trends/pbe0_data/energies_double_dict'\n",
    "uqm.save_obj(energies, path)\n",
    "\n",
    "comps = ['dCC','dCN','dCO','dNN','dNO','dOO']\n",
    "energies_ordered = []\n",
    "for c in comps:\n",
    "    energies_ordered.append(energies[c])\n",
    "energies_ordered = np.array(energies_ordered)\n",
    "np.savetxt('/data/sahre/projects/atomic-energies/data/bonding_trends/pbe0_data/energies_double_singlet.txt', energies_ordered)"
   ]
  },
  {
   "cell_type": "code",
   "execution_count": null,
   "id": "02d830d8-e8ff-4916-930d-81fe6574b6d8",
   "metadata": {},
   "outputs": [],
   "source": []
  },
  {
   "cell_type": "markdown",
   "id": "ab2452d7-75d8-4a36-a7a9-30fa072f2ed1",
   "metadata": {},
   "source": [
    "# third/fourth row"
   ]
  },
  {
   "cell_type": "code",
   "execution_count": null,
   "id": "d979f1f3-3f98-4928-8e99-622ffc59eb53",
   "metadata": {},
   "outputs": [],
   "source": [
    "import glob\n",
    "import ase.io as aio\n",
    "from ase.visualize import view\n",
    "import numpy as np\n",
    "\n",
    "import re\n",
    "import sys\n",
    "sys.path.insert(0, '/home/sahre/git_repositories/APDFT/prototyping/atomic_energies/')\n",
    "import utils_qm as uqm"
   ]
  },
  {
   "cell_type": "code",
   "execution_count": null,
   "id": "0dd5056e-2f89-4c2c-be6a-7c9a6d5477ff",
   "metadata": {},
   "outputs": [],
   "source": [
    "# elements = ['[SiH3]', 'P', 'S', 'Cl']\n",
    "\n",
    "elements = ['[GeH3]', '[AsH2]', '[SeH]', 'Br']\n",
    "\n",
    "\n",
    "smiles = []\n",
    "for i in range(len(elements)):\n",
    "    for j in range(i, len(elements)):\n",
    "        smiles.append(elements[i]+elements[j])\n",
    "with open('/data/sahre/projects/atomic-energies/data/bonding_trends/pbe0_data/row_4/diatomics_single/smiles', 'w') as f:\n",
    "    for e in smiles:\n",
    "        f.write(e+'\\n')"
   ]
  },
  {
   "cell_type": "code",
   "execution_count": null,
   "id": "81a2e0b7-1f62-4070-aee5-233d34a11b9e",
   "metadata": {},
   "outputs": [],
   "source": [
    "paths = glob.glob('/data/sahre/projects/atomic-energies/data/bonding_trends/pbe0_data/row_4/diatomics_single/*.xyz')\n",
    "for p in paths:\n",
    "    view(aio.read(p))"
   ]
  },
  {
   "cell_type": "markdown",
   "id": "d3b35317-e412-41e2-83f4-235c0fe32b59",
   "metadata": {},
   "source": [
    "### collect data"
   ]
  },
  {
   "cell_type": "code",
   "execution_count": null,
   "id": "47ef7205-57e8-4630-a01d-767d488cdb6c",
   "metadata": {},
   "outputs": [],
   "source": [
    "# mean distance between heavy atoms\n",
    "# needed for nuclear repulsion calculation\n",
    "\n",
    "row = 'row_4'\n",
    "system = 'diatomics'\n",
    "bond_type = 'single'\n",
    "\n",
    "structures = glob.glob(f'/data/sahre/projects/atomic-energies/data/bonding_trends/pbe0_data/{row}/{system}_{bond_type}/*_d2.xyz')\n",
    "from ase.units import Bohr\n",
    "dist = []\n",
    "for s in structures:\n",
    "    mol = aio.read(s)\n",
    "    dist.append(mol.get_distance(0, 1))\n",
    "dist = np.array(dist)\n",
    "mean_dist = dist.mean()\n",
    "print(mean_dist)\n",
    "print(dist.std())"
   ]
  },
  {
   "cell_type": "code",
   "execution_count": null,
   "id": "82a5771a-cb92-4303-9aa3-d41101ad95c7",
   "metadata": {},
   "outputs": [],
   "source": [
    "mean_dist"
   ]
  },
  {
   "cell_type": "code",
   "execution_count": null,
   "id": "5de727b6-9e39-4207-9696-316c8de5a89d",
   "metadata": {},
   "outputs": [],
   "source": [
    "energies_diatomics"
   ]
  },
  {
   "cell_type": "code",
   "execution_count": null,
   "id": "1558eee2-6279-4a59-84e2-a39aa3dd70d1",
   "metadata": {},
   "outputs": [],
   "source": [
    "bfe"
   ]
  },
  {
   "cell_type": "code",
   "execution_count": null,
   "id": "0077d9ad-bdb8-4780-9e68-7ad6ebacf8c9",
   "metadata": {},
   "outputs": [],
   "source": [
    "row = 'row_3'\n",
    "system = 'diatomics'\n",
    "bond_type = 'single'\n",
    "\n",
    "# if row == 'row_3':\n",
    "#     frag_types = ['Si', 'P', 'S', 'Cl']\n",
    "# elif row == 'row_4':\n",
    "#     frag_types = ['[GeH3]', '[AsH2]', '[SeH]', 'Br']\n",
    "\n",
    "# total energy of diatomics\n",
    "energies_diatomics = dict()\n",
    "efiles = glob.glob(f'/data/sahre/projects/atomic-energies/data/bonding_trends/pbe0_data/{row}/{system}_{bond_type}/*d2_energy')\n",
    "for file in efiles:\n",
    "    with open(file, 'r') as f:\n",
    "        k = file.split('/')[-1].split('_')[0]\n",
    "        energies_diatomics[k] = float(f.readline().strip('\\n'))\n",
    "\n",
    "# total energy of relaxed fragments\n",
    "# row = 'row_3'\n",
    "system = 'fragments'\n",
    "# bond_type = 'single'\n",
    "                   \n",
    "energies_frags = dict()\n",
    "efiles = glob.glob(f'/data/sahre/projects/atomic-energies/data/bonding_trends/pbe0_data/{row}/{system}_{bond_type}/*_energy_relaxed')\n",
    "for file in efiles:\n",
    "    with open(file, 'r') as f:\n",
    "        smiles = file.split('/')[-1].split('_')[0]\n",
    "        frags = uqm.fragmentize_smiles(smiles)\n",
    "        frag_name = frags[0]\n",
    "#         if len(re.findall(r\"\\[.*?\\]\", smiles)) > 0:\n",
    "#             frag_name = re.findall(r\"\\[.*?\\]\", smiles)[0]\n",
    "#         else:\n",
    "#             frag_name = re.sub( r\"([A-Z])\", r\" \\1\", smiles).split()[0]\n",
    "\n",
    "        energies_frags[frag_name] = float(f.readline().strip('\\n'))\n",
    "\n",
    "# bfe\n",
    "bfe = dict()\n",
    "for smiles in energies_diatomics.keys():\n",
    "#     if len(re.findall(r\"\\[.*?\\]\", smiles)) > 0:\n",
    "#         frags = re.findall(r\"\\[.*?\\]\", smiles)\n",
    "#     else:\n",
    "#         frags = re.sub( r\"([A-Z])\", r\" \\1\", smiles).split()\n",
    "    frags = uqm.fragmentize_smiles(smiles)\n",
    "    assert len(frags) == 2\n",
    "    \n",
    "    bfe[smiles] = energies_diatomics[smiles] - (energies_frags[frags[0]]+energies_frags[frags[1]])\n",
    "\n",
    "# nuc repulsion for fixed distance and only contribution of heteroatoms\n",
    "structures = glob.glob(f\"/data/sahre/projects/atomic-energies/data/bonding_trends/pbe0_data/{row}/diatomics_{bond_type}/*_d2.xyz\")\n",
    "e_nuc = dict()\n",
    "from ase.units import Bohr\n",
    "d = mean_dist/Bohr\n",
    "\n",
    "for s in structures:\n",
    "    mol = aio.read(s)\n",
    "    k = s.split('/')[-1].split('_')[0]\n",
    "    \n",
    "    fixed = mol.get_atomic_numbers()[0]*mol.get_atomic_numbers()[1]/d\n",
    "    relaxed = mol.get_atomic_numbers()[0]*mol.get_atomic_numbers()[1]/(mol.get_distance(0, 1)/Bohr)\n",
    "    e_nuc[k] = [fixed]\n",
    "# bfe, bfe_el, bfe_nuc \n",
    "energies = dict()\n",
    "for k in bfe.keys():\n",
    "    bfe_el = bfe[k] - e_nuc[k][0]\n",
    "    #bfe_elr = bfe[k] - e_nuc[k][1]\n",
    "    \n",
    "    energies[k] = [bfe[k], bfe_el, e_nuc[k][0]]\n",
    "    \n",
    "# save data\n",
    "path = f'/data/sahre/projects/atomic-energies/data/bonding_trends/pbe0_data/{row}/energies_{bond_type}_dict'\n",
    "# uqm.save_obj(energies, path)\n",
    "\n",
    "comps = ['[SiH3][SiH3]', '[SiH3]P', '[SiH3]S', '[SiH3]Cl', 'PP', 'PS', 'PCl', 'SS', 'SCl', 'ClCl']\n",
    "# comps = ['[GeH3][GeH3]','[GeH3][AsH2]','[GeH3][SeH]','[GeH3]Br','[AsH2][AsH2]','[AsH2][SeH]','[AsH2]Br','[SeH][SeH]','[SeH]Br','BrBr']\n",
    "energies_ordered = []\n",
    "for c in comps:\n",
    "    energies_ordered.append(energies[c])\n",
    "energies_ordered = np.array(energies_ordered)\n",
    "np.savetxt(f'/data/sahre/projects/atomic-energies/data/bonding_trends/pbe0_data/{row}/energies_{bond_type}_d2.txt', energies_ordered)"
   ]
  },
  {
   "cell_type": "code",
   "execution_count": null,
   "id": "7dc84b4b-e4f3-4648-8fc0-09bcd7cc7cca",
   "metadata": {},
   "outputs": [],
   "source": [
    "energies_ordered"
   ]
  },
  {
   "cell_type": "code",
   "execution_count": null,
   "id": "0ef99c2d-8b30-443c-bb31-2433bb509611",
   "metadata": {},
   "outputs": [],
   "source": [
    "energies_ordered"
   ]
  },
  {
   "cell_type": "code",
   "execution_count": null,
   "id": "2c67f66d-0ab1-4437-a8f7-2d4ca3b2d640",
   "metadata": {},
   "outputs": [],
   "source": [
    "from matplotlib import pyplot as plt\n",
    "plt.plot(energies_ordered[:,1], '-o')"
   ]
  },
  {
   "cell_type": "code",
   "execution_count": null,
   "id": "6ec083a3-0701-43b1-b5dc-06e3753da674",
   "metadata": {},
   "outputs": [],
   "source": [
    "# frag_types = ['[GeH3]', '[AsH2]', '[SeH]', 'Br']\n",
    "# comps = []\n",
    "# for i in range(len(frag_types)):\n",
    "#     for j in range(i, len(frag_types)):\n",
    "#         comps.append(frag_types[i]+ frag_types[j])"
   ]
  },
  {
   "cell_type": "code",
   "execution_count": null,
   "id": "9c899371-b651-49d2-b1dd-db06a3871232",
   "metadata": {},
   "outputs": [],
   "source": [
    "energies_ordered"
   ]
  },
  {
   "cell_type": "markdown",
   "id": "ae009b1a-96c3-4e0c-b779-0d8179cd52c0",
   "metadata": {},
   "source": [
    "# Mixed rows"
   ]
  },
  {
   "cell_type": "code",
   "execution_count": null,
   "id": "9665517a-7666-4dc4-82af-fe7e24cd6da7",
   "metadata": {},
   "outputs": [],
   "source": [
    "import glob\n",
    "import ase.io as aio\n",
    "from ase.visualize import view\n",
    "import numpy as np\n",
    "\n",
    "import re\n",
    "import sys\n",
    "sys.path.insert(0, '/home/sahre/git_repositories/APDFT/prototyping/atomic_energies/')\n",
    "import utils_qm as uqm"
   ]
  },
  {
   "cell_type": "code",
   "execution_count": null,
   "id": "5dcb0566-c05e-4a3c-b313-d0620818ffb4",
   "metadata": {},
   "outputs": [],
   "source": [
    "frags_row_2 = ['C', 'N', 'O', 'F']\n",
    "frags_row_3 = ['[SiH3]', '[PH2]', '[SH]', 'Cl']\n",
    "frags_row_4 = ['[GeH3]', '[AsH2]', '[SeH]', 'Br']\n",
    "\n",
    "row = 'mixed_3_4'\n",
    "if row ==  'mixed_2_3':\n",
    "    frags_row_i = frags_row_2\n",
    "    frags_row_j = frags_row_3\n",
    "elif row ==  'mixed_2_4':\n",
    "    frags_row_i = frags_row_2\n",
    "    frags_row_j = frags_row_4\n",
    "elif row ==  'mixed_3_4':\n",
    "    frags_row_i = frags_row_3\n",
    "    frags_row_j = frags_row_4\n",
    "\n",
    "smiles = []\n",
    "for i in frags_row_i:\n",
    "    for j in frags_row_j:\n",
    "        smiles.append(i+j)\n",
    "with open(f'/data/sahre/projects/atomic-energies/data/bonding_trends/pbe0_data/{row}/smiles', 'w') as f:\n",
    "    for e in smiles:\n",
    "        f.write(e+'\\n')"
   ]
  },
  {
   "cell_type": "code",
   "execution_count": null,
   "id": "eb6c43f1-20c4-49ba-9cbb-cb0b88a2fc17",
   "metadata": {},
   "outputs": [],
   "source": [
    "row = 'mixed_2_3'\n",
    "\n",
    "paths = glob.glob(f'/data/sahre/projects/atomic-energies/data/bonding_trends/pbe0_data/{row}/*.xyz')\n",
    "for p in paths:\n",
    "    view(aio.read(p))"
   ]
  },
  {
   "cell_type": "code",
   "execution_count": null,
   "id": "6bdde409-c6f3-46a3-ab28-4ff139ee7b52",
   "metadata": {},
   "outputs": [],
   "source": []
  },
  {
   "cell_type": "markdown",
   "id": "691c225e-3ba6-4129-a584-77a5bfb1f006",
   "metadata": {},
   "source": [
    "# same distance for all atoms"
   ]
  },
  {
   "cell_type": "code",
   "execution_count": null,
   "id": "8fca3306-53d3-49de-8205-c5fb9605a8e4",
   "metadata": {},
   "outputs": [],
   "source": [
    "# identify second group\n",
    "# set distance second group\n"
   ]
  },
  {
   "cell_type": "code",
   "execution_count": null,
   "id": "53dc06a2-9fe6-4a83-b29b-0e169cf06497",
   "metadata": {},
   "outputs": [],
   "source": [
    "import pysmiles as ps\n",
    "import glob\n",
    "import ase.io as aio\n",
    "from ase.visualize import view\n",
    "\n",
    "import sys\n",
    "sys.path.insert(0, '/home/sahre/git_repositories/APDFT/prototyping/atomic_energies/')\n",
    "import utils_qm as uqm\n",
    "\n",
    "import numpy as np\n",
    "from matplotlib import pyplot as plt"
   ]
  },
  {
   "cell_type": "code",
   "execution_count": null,
   "id": "7a3010c7-9bfc-425d-8771-74e7e7434042",
   "metadata": {},
   "outputs": [],
   "source": [
    "# row = 'row_4'\n",
    "dist = 1.42\n",
    "\n",
    "xyz_files_new = []\n",
    "\n",
    "for row in ['row_2', 'row_3', 'row_4']:\n",
    "    xyz_files = glob.glob(f'/data/sahre/projects/atomic-energies/data/bonding_trends/pbe0_data/{row}/diatomics_single/*_opt.xyz')\n",
    "    smiles = []\n",
    "    for f in xyz_files:\n",
    "        s = f.split('/')[-1].split('_')[0]\n",
    "#         print(s)\n",
    "        if 'Si' in s:\n",
    "            s = s.replace('Si', '[SiH3]')\n",
    "        smiles.append(s)\n",
    "\n",
    "\n",
    "    for s, f in zip(smiles, xyz_files):\n",
    "        atoms = aio.read(f)\n",
    "        num_atoms = atoms.get_global_number_of_atoms()\n",
    "\n",
    "        graph = ps.read_smiles(s)\n",
    "        num_h1 = graph.nodes(data='hcount')[1]\n",
    "        indices = [1] # second heavy atom\n",
    "        indices.extend(list(range(num_atoms-num_h1, num_atoms))) # hydrogens attached to second heavy atom\n",
    "\n",
    "        atoms_new = atoms.copy()\n",
    "        atoms_new.set_distance(0, 1, dist, indices=indices, fix = 0)\n",
    "\n",
    "        file_new = f'/data/sahre/projects/atomic-energies/data/bonding_trends/pbe0_data/distance/{s}_d{str(dist)}.xyz'\n",
    "        aio.write(file_new, images=atoms_new)\n",
    "#         xyz_name.append(f'{s}_d{str(dist)}.xyz')\n",
    "        xyz_files_new.append(file_new)\n",
    "\n",
    "with open(f'/data/sahre/projects/atomic-energies/data/bonding_trends/pbe0_data/distance/gnu_para_{dist}', 'w') as fs:\n",
    "    for line in xyz_files_new:\n",
    "        name = line.split('/')[-1]\n",
    "        fs.write(f'python /home/sahre/git_repositories/APDFT/prototyping/atomic_energies/analysis/bonding_trends/singlepoint.py \\'{name}\\'\\n')"
   ]
  },
  {
   "cell_type": "code",
   "execution_count": null,
   "id": "303ec279-491f-4005-b0af-597ce7d0c15a",
   "metadata": {},
   "outputs": [],
   "source": []
  },
  {
   "cell_type": "code",
   "execution_count": null,
   "id": "e10cf738-3af6-4240-a7db-e20a256839e4",
   "metadata": {},
   "outputs": [],
   "source": [
    "# total energy of relaxed fragments\n",
    "energies_frags = dict()\n",
    "\n",
    "for row in ['row_2', 'row_3', 'row_4']:\n",
    "    system = 'fragments'\n",
    "    bond_type = 'single'\n",
    "\n",
    "    efiles = glob.glob(f'/data/sahre/projects/atomic-energies/data/bonding_trends/pbe0_data/{row}/{system}_{bond_type}/*_energy_relaxed')\n",
    "    for file in efiles:\n",
    "        with open(file, 'r') as f:\n",
    "            smiles = file.split('/')[-1].split('_')[0]\n",
    "            frags = uqm.fragmentize_smiles(smiles)\n",
    "            frag_name = frags[0]\n",
    "    #         if len(re.findall(r\"\\[.*?\\]\", smiles)) > 0:\n",
    "    #             frag_name = re.findall(r\"\\[.*?\\]\", smiles)[0]\n",
    "    #         else:\n",
    "    #             frag_name = re.sub( r\"([A-Z])\", r\" \\1\", smiles).split()[0]\n",
    "\n",
    "            energies_frags[frag_name] = float(f.readline().strip('\\n'))"
   ]
  },
  {
   "cell_type": "code",
   "execution_count": null,
   "id": "9937572d-db4e-4d22-afd9-ebcb52b80e43",
   "metadata": {},
   "outputs": [],
   "source": [
    "# total energy of diatomics\n",
    "energies_diatomics = dict()\n",
    "efiles = glob.glob(f'/data/sahre/projects/atomic-energies/data/bonding_trends/pbe0_data/distance/*{str(dist)}_energy')\n",
    "for file in efiles:\n",
    "    with open(file, 'r') as f:\n",
    "        k = file.split('/')[-1].split('_')[0]\n",
    "        energies_diatomics[k] = float(f.readline().strip('\\n'))\n",
    "\n",
    "# bfe\n",
    "bfe = dict()\n",
    "for smiles in energies_diatomics.keys():\n",
    "    frags = uqm.fragmentize_smiles(smiles)\n",
    "    assert len(frags) == 2\n",
    "    \n",
    "    bfe[smiles] = energies_diatomics[smiles] - (energies_frags[frags[0]]+energies_frags[frags[1]])\n",
    "\n",
    "# nuc repulsion for fixed distance and only contribution of heteroatoms\n",
    "structures = glob.glob(f\"/data/sahre/projects/atomic-energies/data/bonding_trends/pbe0_data/distance/*_d{dist}.xyz\")\n",
    "e_nuc = dict()\n",
    "from ase.units import Bohr\n",
    "d = dist/Bohr\n",
    "\n",
    "for s in structures:\n",
    "    mol = aio.read(s)\n",
    "    k = s.split('/')[-1].split('_')[0]\n",
    "    \n",
    "    fixed = mol.get_atomic_numbers()[0]*mol.get_atomic_numbers()[1]/d\n",
    "    relaxed = mol.get_atomic_numbers()[0]*mol.get_atomic_numbers()[1]/(mol.get_distance(0, 1)/Bohr)\n",
    "    e_nuc[k] = [fixed]\n",
    "# bfe, bfe_el, bfe_nuc \n",
    "energies = dict()\n",
    "for k in bfe.keys():\n",
    "    bfe_el = bfe[k] - e_nuc[k][0]\n",
    "    #bfe_elr = bfe[k] - e_nuc[k][1]\n",
    "    \n",
    "    energies[k] = [bfe[k], bfe_el, e_nuc[k][0]]\n",
    "    \n",
    "# # save data\n",
    "# path = f'/data/sahre/projects/atomic-energies/data/bonding_trends/pbe0_data/{row}/energies_{bond_type}_dict'\n",
    "# # uqm.save_obj(energies, path)\n",
    "\n",
    "comps = ['CC', 'CN', 'CO', 'CF', 'NN', 'NO', 'NF', 'OO', 'OF', 'FF', '[SiH3][SiH3]', '[SiH3]P', '[SiH3]S', '[SiH3]Cl', 'PP', 'PS', 'PCl', 'SS', 'SCl', 'ClCl', '[GeH3][GeH3]','[GeH3][AsH2]','[GeH3][SeH]','[GeH3]Br','[AsH2][AsH2]','[AsH2][SeH]','[AsH2]Br','[SeH][SeH]','[SeH]Br','BrBr']\n",
    "# comps = ['[SiH3][SiH3]', '[SiH3]P', '[SiH3]S', '[SiH3]Cl', 'PP', 'PS', 'PCl', 'SS', 'SCl', 'ClCl']\n",
    "# comps = ['[GeH3][GeH3]','[GeH3][AsH2]','[GeH3][SeH]','[GeH3]Br','[AsH2][AsH2]','[AsH2][SeH]','[AsH2]Br','[SeH][SeH]','[SeH]Br','BrBr']\n",
    "energies_ordered = []\n",
    "for c in comps:\n",
    "    energies_ordered.append(energies[c])\n",
    "energies_ordered = np.array(energies_ordered)\n",
    "np.savetxt(f'/data/sahre/projects/atomic-energies/data/bonding_trends/pbe0_data/distance/energies_d{dist}.txt', energies_ordered)"
   ]
  },
  {
   "cell_type": "code",
   "execution_count": null,
   "id": "11978b1a-ebd1-4954-ba5c-d1714bdebfff",
   "metadata": {},
   "outputs": [],
   "source": [
    "plt.plot(energies_ordered[:,1][20:30])"
   ]
  },
  {
   "cell_type": "code",
   "execution_count": null,
   "id": "26d0e09e-517c-4889-b1ac-f5aabbaf60fa",
   "metadata": {},
   "outputs": [],
   "source": [
    "14**2/d"
   ]
  },
  {
   "cell_type": "code",
   "execution_count": null,
   "id": "826f5443-9daf-4bec-9647-74dcc06974cd",
   "metadata": {},
   "outputs": [],
   "source": [
    "atoms = ['Si', 'Cl', 'H', 'H', 'H']"
   ]
  },
  {
   "cell_type": "code",
   "execution_count": null,
   "id": "3c47c64f-a748-490b-9731-77a103ca7ed8",
   "metadata": {},
   "outputs": [],
   "source": [
    "atoms[len(atoms)-num_hydrogens:]"
   ]
  },
  {
   "cell_type": "code",
   "execution_count": null,
   "id": "cada9dee-2c0e-4e0b-96c9-e40bc6a3a2bc",
   "metadata": {},
   "outputs": [],
   "source": [
    "for f in glob.glob('/data/sahre/projects/atomic-energies/data/bonding_trends/pbe0_data/row_3/diatomics_single/*d2.xyz'):\n",
    "    view(aio.read(f))"
   ]
  },
  {
   "cell_type": "code",
   "execution_count": null,
   "id": "4a5d7444-816a-415e-a076-edff352581a5",
   "metadata": {},
   "outputs": [],
   "source": []
  },
  {
   "cell_type": "markdown",
   "id": "1cf2af0d-7aab-4452-b836-4019b743bb2a",
   "metadata": {},
   "source": [
    "### Make a table with all energies"
   ]
  },
  {
   "cell_type": "code",
   "execution_count": 38,
   "id": "7302c751-7120-4cb0-8886-faae37eab150",
   "metadata": {},
   "outputs": [],
   "source": [
    "import pandas as pd\n",
    "import pysmiles\n",
    "import numpy as np\n",
    "import glob\n",
    "import os\n",
    "import sys\n",
    "import ase.io as aio\n",
    "\n",
    "sys.path.insert(0, '/home/sahre/git_repositories/APDFT/prototyping/atomic_energies/')\n",
    "import utils_qm as uqm"
   ]
  },
  {
   "cell_type": "code",
   "execution_count": 45,
   "id": "b076c96d-8799-48f3-842d-654299919d61",
   "metadata": {},
   "outputs": [],
   "source": [
    "def key2(x):\n",
    "    pattern_list = ['CC', 'CN', 'CO', 'CF', 'NN', 'NO', 'NF', 'OO', 'OF', 'FF']\n",
    "    for i, p in enumerate(pattern_list):\n",
    "        if p in x:\n",
    "            return(i)\n",
    "def key3(x):\n",
    "    pattern_list = ['[SiH3][SiH3]', '[SiH3]P','[SiH3]S','[SiH3]Cl','PP','PS','PCl','SS','SCl','ClCl',]\n",
    "    for i, p in enumerate(pattern_list):\n",
    "        if p in x:\n",
    "            return(i)\n",
    "def key4(x):\n",
    "    pattern_list = ['[GeH3][GeH3]', '[GeH3][AsH2]', '[GeH3][SeH]', '[GeH3]Br', '[AsH2][AsH2]', '[AsH2][SeH]', '[AsH2]Br', '[SeH][SeH]', '[SeH]Br', 'BrBr']\n",
    "    for i, p in enumerate(pattern_list):\n",
    "        if p in x:\n",
    "            return(i)"
   ]
  },
  {
   "cell_type": "code",
   "execution_count": 46,
   "id": "84332f35-425e-4452-a613-2d2ead004c0f",
   "metadata": {},
   "outputs": [],
   "source": [
    "# get file paths\n",
    "\n",
    "# row 2\n",
    "paths2 = glob.glob('/data/sahre/projects/atomic-energies/data/bonding_trends/pbe0_data/row_2/diatomics_single/*_energy')\n",
    "paths2.sort(key=key2)\n",
    "# row 3\n",
    "basepath3 = '/data/sahre/projects/atomic-energies/data/bonding_trends/pbe0_data/row_3/diatomics_single/'\n",
    "frags3 = ['[SiH3]', 'P', 'S', 'Cl']\n",
    "paths3 = []\n",
    "for i in range(4):\n",
    "    for j in range(i, 4):\n",
    "        paths3.append(f'{basepath3}{frags3[i]}{frags3[j]}_energy')\n",
    "paths3.sort(key=key3)\n",
    "# row 4\n",
    "basepath4 = '/data/sahre/projects/atomic-energies/data/bonding_trends/pbe0_data/row_4/diatomics_single/'\n",
    "frags4 = ['[GeH3]', '[AsH2]', '[SeH]', 'Br']\n",
    "paths4 = []\n",
    "for i in range(4):\n",
    "    for j in range(i, 4):\n",
    "        paths4.append(f'{basepath4}{frags4[i]}{frags4[j]}_energy')\n",
    "paths4.sort(key=key4)\n",
    "# misxed\n",
    "paths23 = glob.glob('/data/sahre/projects/atomic-energies/data/bonding_trends/pbe0_data/mixed_2_3/diatomics_single/*_energy')\n",
    "paths24 = glob.glob('/data/sahre/projects/atomic-energies/data/bonding_trends/pbe0_data/mixed_2_4/diatomics_single/*_energy')\n",
    "paths34 = glob.glob('/data/sahre/projects/atomic-energies/data/bonding_trends/pbe0_data/mixed_3_4/diatomics_single/*_energy')\n",
    "\n",
    "files = paths2 + paths3 + paths4 + paths23 + paths24 + paths34"
   ]
  },
  {
   "cell_type": "code",
   "execution_count": 47,
   "id": "91cc16e9-9c92-476a-b7c7-6dacc189ad53",
   "metadata": {},
   "outputs": [],
   "source": [
    "# read information for each compound\n",
    "\n",
    "data = {'smiles':[], 'Z1':[], 'Z2':[], 'd':[], 'energy':[]}\n",
    "\n",
    "for f in files:\n",
    "    # get smiles\n",
    "    smiles = f.split('/')[-1].split('_')[0]\n",
    "    data['smiles'].append(smiles)\n",
    "    # get nuclear charges\n",
    "    pes = {'C':6, 'N':7, 'O':8, 'F':9, 'Si':14, 'P':15, 'S':16, 'Cl':17, 'Ge':32, 'As':33, 'Se':34, 'Br':35}\n",
    "    mol = pysmiles.read_smiles(smiles)\n",
    "    Z1, Z2 = pes[mol.nodes.data('element')[0]], pes[mol.nodes.data('element')[1]]\n",
    "    data['Z1'].append(Z1)\n",
    "    data['Z2'].append(Z2)\n",
    "    # get bond length\n",
    "    xyz_path = os.path.join(os.path.split(f)[0], f'{smiles}_opt.xyz')\n",
    "    ase_atoms = aio.read(xyz_path)\n",
    "    dist = ase_atoms.get_distance(0,1)\n",
    "    data['d'].append(dist)\n",
    "    # get energy\n",
    "    with open(f, 'r') as fs:\n",
    "        energy = float(fs.readline().strip('\\n'))\n",
    "    data['energy'].append(energy)"
   ]
  },
  {
   "cell_type": "code",
   "execution_count": 48,
   "id": "5f0740d2-fbd4-4b17-8cd6-e087f761fe93",
   "metadata": {},
   "outputs": [
    {
     "name": "stdout",
     "output_type": "stream",
     "text": [
      "[SiH3][AsH2]\n",
      "14 33\n",
      "2.3665182255125545\n",
      "-2527.976080967731\n"
     ]
    }
   ],
   "source": [
    "print(smiles)\n",
    "print(Z1, Z2)\n",
    "print(dist)\n",
    "print(energy)"
   ]
  },
  {
   "cell_type": "code",
   "execution_count": 49,
   "id": "d949a46c-5603-452d-b364-5efd0a61b754",
   "metadata": {},
   "outputs": [],
   "source": [
    "# save in dataframe\n",
    "all_energies = pd.DataFrame(data)\n",
    "all_energies.to_csv('/data/sahre/projects/atomic-energies/data/bonding_trends/pbe0_data/all_energies.csv', index=False)"
   ]
  },
  {
   "cell_type": "markdown",
   "id": "664b5923-3d0d-4408-98fe-d24c657c79cc",
   "metadata": {},
   "source": [
    "### Dataframe fragments"
   ]
  },
  {
   "cell_type": "code",
   "execution_count": 6,
   "id": "4f4f72a7-85cd-42fa-aac2-d584335de9e7",
   "metadata": {},
   "outputs": [
    {
     "name": "stdout",
     "output_type": "stream",
     "text": [
      "[GeH3][GeH3]_energy_relaxed\n",
      "-2078.478952155844\n",
      "[AsH2][AsH2]_energy_relaxed\n",
      "-2236.7600024844014\n",
      "BrBr_energy_relaxed\n",
      "-2573.810129520699\n",
      "[SeH][SeH]_energy_relaxed\n",
      "-2401.827157663353\n"
     ]
    }
   ],
   "source": [
    "for f in glob.glob('/data/sahre/projects/atomic-energies/data/bonding_trends/pbe0_data/row_4/fragments_single/*_energy_relaxed'):\n",
    "    with open(f, 'r') as fs:\n",
    "        energy = float(fs.readline().strip('\\n'))\n",
    "    print(f.split('/')[-1])\n",
    "    print(energy)"
   ]
  },
  {
   "cell_type": "code",
   "execution_count": 50,
   "id": "20b619d2-56c9-48f6-8d24-20a2d804f2ca",
   "metadata": {},
   "outputs": [],
   "source": [
    "smiles = ['C', 'N', 'O', 'F'] + ['[SiH3]', 'P', 'S', 'Cl'] + ['[GeH3]', '[AsH2]', '[SeH]', 'Br']\n",
    "energies = [-39.796931044615306, -55.832412853830284, -75.68331959286338, -99.67399914281202, -291.1078115883832, -342.37848151179224, -398.60997253542075, -459.9951173106298, -2078.478952155844, -2236.7600024844014, -2401.827157663353, -2573.810129520699]\n",
    "pes = {'C':6, 'N':7, 'O':8, 'F':9, 'Si':14, 'P':15, 'S':16, 'Cl':17, 'Ge':32, 'As':33, 'Se':34, 'Br':35}\n",
    "Z = list(pes.values())"
   ]
  },
  {
   "cell_type": "code",
   "execution_count": 51,
   "id": "bca1fee3-7e06-40b9-95d6-70c1962810cd",
   "metadata": {},
   "outputs": [],
   "source": [
    "# save in dataframe\n",
    "all_energies = pd.DataFrame({'smiles':smiles, 'Z':Z, 'energy':energies})\n",
    "all_energies.to_csv('/data/sahre/projects/atomic-energies/data/bonding_trends/pbe0_data/all_energies_frags.csv', index=False)"
   ]
  },
  {
   "cell_type": "markdown",
   "id": "ed2cc188-3266-494a-ac2e-15f8362af26b",
   "metadata": {},
   "source": [
    "### BFE"
   ]
  },
  {
   "cell_type": "code",
   "execution_count": 52,
   "id": "a3ec26f3-a362-4966-87f9-4b3a86e0fa86",
   "metadata": {},
   "outputs": [],
   "source": [
    "data = pd.read_csv('/data/sahre/projects/atomic-energies/data/bonding_trends/pbe0_data/all_energies.csv')\n",
    "data_frags = pd.read_csv('/data/sahre/projects/atomic-energies/data/bonding_trends/pbe0_data/all_energies_frags.csv')"
   ]
  },
  {
   "cell_type": "code",
   "execution_count": 53,
   "id": "9a9390e6-e7ba-460c-a50e-9d01a5db8a28",
   "metadata": {},
   "outputs": [],
   "source": [
    "energy_frags = []\n",
    "for Z1, Z2 in zip(data['Z1'], data['Z2']):\n",
    "    e1 = data_frags.loc[data_frags['Z']==Z1, 'energy'].item()\n",
    "    e2 = data_frags.loc[data_frags['Z']==Z2, 'energy'].item()\n",
    "    energy_frags.append(e1+e2)\n",
    "data['bfe'] = data['energy']-energy_frags"
   ]
  },
  {
   "cell_type": "code",
   "execution_count": 54,
   "id": "af6a7e84-dabd-4411-af12-67a664eccb23",
   "metadata": {},
   "outputs": [],
   "source": [
    "data.to_csv('/data/sahre/projects/atomic-energies/data/bonding_trends/pbe0_data/all_energies.csv', index=False)"
   ]
  },
  {
   "cell_type": "code",
   "execution_count": null,
   "id": "dc0ad5eb-3427-4c5d-b62b-f08b72ef7d29",
   "metadata": {},
   "outputs": [],
   "source": []
  }
 ],
 "metadata": {
  "kernelspec": {
   "display_name": "Python 3",
   "language": "python",
   "name": "python3"
  },
  "language_info": {
   "codemirror_mode": {
    "name": "ipython",
    "version": 3
   },
   "file_extension": ".py",
   "mimetype": "text/x-python",
   "name": "python",
   "nbconvert_exporter": "python",
   "pygments_lexer": "ipython3",
   "version": "3.9.5"
  }
 },
 "nbformat": 4,
 "nbformat_minor": 5
}
