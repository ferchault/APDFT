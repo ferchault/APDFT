{
 "cells": [
  {
   "cell_type": "code",
   "execution_count": 1,
   "id": "b2366ad0-0b14-473e-8ad8-b4f64eb61613",
   "metadata": {},
   "outputs": [],
   "source": [
    "import pandas as pd\n",
    "import numpy as np\n",
    "from matplotlib import pyplot as plt\n",
    "\n",
    "import sys\n",
    "sys.path.insert(0, '/home/sahre/git_repositories/APDFT/prototyping/atomic_energies/')\n",
    "import utils_qm as uqm\n",
    "import bt_tools as bt"
   ]
  },
  {
   "cell_type": "code",
   "execution_count": 26,
   "id": "a511d1e9-9d33-4d08-b817-9a202f666e15",
   "metadata": {},
   "outputs": [],
   "source": [
    "bde_homo = [-0.156342,\n",
    "-0.120096,\n",
    "-0.086467,\n",
    "-0.060537]\n",
    "\n",
    "[-0.122629,\n",
    " -0.085471,\n",
    " -0.094782,\n",
    " -0.086457"
   ]
  },
  {
   "cell_type": "code",
   "execution_count": 27,
   "id": "3f69f7d1-9e52-4e2a-8288-5d5a9c935727",
   "metadata": {},
   "outputs": [
    {
     "data": {
      "text/plain": [
       "[<matplotlib.lines.Line2D at 0x7f9f443db1c0>]"
      ]
     },
     "execution_count": 27,
     "metadata": {},
     "output_type": "execute_result"
    },
    {
     "data": {
      "image/png": "[encoded data removed]",
      "text/plain": [
       "<Figure size 288x288 with 1 Axes>"
      ]
     },
     "metadata": {
      "needs_background": "light"
     },
     "output_type": "display_data"
    }
   ],
   "source": [
    "plt.plot(bde_homo, '-o')\n",
    "plt.plot()"
   ]
  },
  {
   "cell_type": "code",
   "execution_count": 31,
   "id": "6054f975-077b-4eb0-91a9-e2d4cd176af5",
   "metadata": {},
   "outputs": [
    {
     "data": {
      "text/html": [
       "<div>\n",
       "<style scoped>\n",
       "    .dataframe tbody tr th:only-of-type {\n",
       "        vertical-align: middle;\n",
       "    }\n",
       "\n",
       "    .dataframe tbody tr th {\n",
       "        vertical-align: top;\n",
       "    }\n",
       "\n",
       "    .dataframe thead th {\n",
       "        text-align: right;\n",
       "    }\n",
       "</style>\n",
       "<table border=\"1\" class=\"dataframe\">\n",
       "  <thead>\n",
       "    <tr style=\"text-align: right;\">\n",
       "      <th></th>\n",
       "      <th>smiles</th>\n",
       "      <th>Z1</th>\n",
       "      <th>Z2</th>\n",
       "      <th>d</th>\n",
       "      <th>energy</th>\n",
       "      <th>bfe</th>\n",
       "    </tr>\n",
       "  </thead>\n",
       "  <tbody>\n",
       "    <tr>\n",
       "      <th>29</th>\n",
       "      <td>BrBr</td>\n",
       "      <td>35</td>\n",
       "      <td>35</td>\n",
       "      <td>2.281337</td>\n",
       "      <td>-5147.706716</td>\n",
       "      <td>-0.086457</td>\n",
       "    </tr>\n",
       "  </tbody>\n",
       "</table>\n",
       "</div>"
      ],
      "text/plain": [
       "   smiles  Z1  Z2         d       energy       bfe\n",
       "29   BrBr  35  35  2.281337 -5147.706716 -0.086457"
      ]
     },
     "execution_count": 31,
     "metadata": {},
     "output_type": "execute_result"
    }
   ],
   "source": [
    "data.loc[data['smiles'] == 'BrBr']"
   ]
  },
  {
   "cell_type": "code",
   "execution_count": 2,
   "id": "a4f9e375-bb70-439a-9c05-662fc7db24c5",
   "metadata": {},
   "outputs": [],
   "source": [
    "weighted_core = lambda Ne, Zs, Zp: 2*Zs/Ne + (Ne-2)/Ne*Zp\n",
    "\n",
    "zs2 = np.array([3.217, 3.847, 4.492, 5.128])\n",
    "zp2 = np.array([3.136, 3.834, 4.453, 5.100])\n",
    "\n",
    "zs3 = np.array([4.903, \t5.642, \t6.367, \t7.068])\n",
    "zp3 = np.array([4.285, 4.886, 5.482, 6.116])\n",
    "\n",
    "zs4 = np.array([8.044, \t8.944, \t9.758, \t10.553])\n",
    "zp4 = np.array([6.780, 7.449, 8.287, 9.028])\n",
    "\n",
    "zs = [zs2, zs3, zs4]\n",
    "zp = [zp2, zp3, zp4]\n",
    "ne = [4, 5, 6, 7]\n",
    "z_eff = []\n",
    "for rs, rp in zip(zs, zp):\n",
    "    zr = []\n",
    "    for s, p, n in zip(rs, rp, ne):\n",
    "        zr.append(weighted_core(n, s, p))\n",
    "    z_eff.extend(zr)\n",
    "    \n",
    "Z2Zeff = dict()\n",
    "for Z, Zeff in zip([6,7,8,9,14,15,16,17,32,33,34,35], z_eff):\n",
    "    Z2Zeff[Z] = Zeff"
   ]
  },
  {
   "cell_type": "code",
   "execution_count": 3,
   "id": "68c21938-86a1-40a2-9747-34d2ff12fd4a",
   "metadata": {},
   "outputs": [],
   "source": [
    "be = {'H-H':104.2, 'Li-Li':26.5, 'C-C':83.1, 'N-N':38.4, 'O-O':33.2, 'F-F':36.6,\n",
    "     'C-H':98.8, 'N-H':93.4, 'O-H':110.6, 'F-H':134.6}\n",
    "\n",
    "chi = {'H':2.1, 'Li':1.0, 'C':2.5, 'N':3.0, 'O':3.5, 'F':4.0}\n",
    "\n",
    "def get_EAB(A, B):\n",
    "    E_AB = (be[f'{A}-{A}'] + be[f'{B}-{B}'])/2 + 23*(chi[A]-chi[B])**2\n",
    "    return(E_AB)"
   ]
  },
  {
   "cell_type": "code",
   "execution_count": 4,
   "id": "719af893-4bf2-49b4-abf1-8efa3f5eecfb",
   "metadata": {},
   "outputs": [
    {
     "name": "stdout",
     "output_type": "stream",
     "text": [
      "MAE = 0.5134766712980074\n",
      "MAE = 0.38930744595067424\n",
      "MAE = 0.3274963089508717\n",
      "MAE = 0.9976124613595921\n",
      "MAE = 2.346632511294735\n",
      "MAE = 2.172271601444673\n"
     ]
    }
   ],
   "source": [
    "data = pd.read_csv('/data/sahre/projects/atomic-energies/data/bonding_trends/pbe0_data/all_energies.csv')\n",
    "data_2 = data.loc[(data['Z1'] <= 9) & (data['Z2'] <= 9)].to_dict('list')\n",
    "data_3 = data.loc[(data['Z1'] >= 14) & (data['Z2'] >= 14) & (data['Z1'] <= 17) & (data['Z2'] <= 17)].to_dict('list')\n",
    "data_4 = data.loc[(data['Z1'] >= 32) & (data['Z2'] >= 32) & (data['Z1'] <= 35) & (data['Z2'] <= 35)].to_dict('list')\n",
    "data_234 = data.loc[(data['Z1'] <= 9) & (data['Z2'] <= 9) | (data['Z1'] >= 14) & (data['Z2'] >= 14) & (data['Z1'] <= 17) & (data['Z2'] <= 17) | (data['Z1'] >= 32) & (data['Z2'] >= 32) & (data['Z1'] <= 35) & (data['Z2'] <= 35)].to_dict('list')\n",
    "\n",
    "for d in [data_2, data_3, data_4, data_234]:\n",
    "    d['unit'] = 630\n",
    "    d['bfe type'] = 'homo'\n",
    "    \n",
    "    Z1_eff = []\n",
    "    Z2_eff = []\n",
    "    for Z1, Z2 in zip(d['Z1'], d['Z2']):\n",
    "        Z1_eff.append(Z2Zeff[Z1])\n",
    "        Z2_eff.append(Z2Zeff[Z2])\n",
    "        \n",
    "    #d['Z1'] = Z1_eff\n",
    "    #d['Z2'] = Z2_eff\n",
    "    #d['nbfe'] = np.array(d['Z1'])*np.array(d['Z2'])-(np.array(d['Z1'])+np.array(d['Z2']))\n",
    "    \n",
    "# do linear fits\n",
    "b2 = bt.BDE_clean.fromdict(data_2)\n",
    "b3 = bt.BDE_clean.fromdict(data_3)\n",
    "b4 = bt.BDE_clean.fromdict(data_4)\n",
    "for b in [b2, b3, b4]:\n",
    "    b.linear_fit()\n",
    "    print('MAE = ' + str((np.abs(b.bde-b.bde_fitted)).mean()))\n",
    "    \n",
    "# non-linear fits\n",
    "\n",
    "def non_linear_model(var, a, b, c):\n",
    "    Z1, Z2 = var.T\n",
    "    ebfe = -a**2 - b**2*Z1*Z2 -c**2*(Z1**(7/3)+Z2**(7/3))#(-beta*(Z1**(7/3)+Z2**(7/3))+alpha-b_prime*Z1*Z2)\n",
    "    return(ebfe)\n",
    "\n",
    "# do linear fits\n",
    "b2_nl = bt.BDE_clean.fromdict(data_2)\n",
    "b3_nl = bt.BDE_clean.fromdict(data_3)\n",
    "b4_nl = bt.BDE_clean.fromdict(data_4)\n",
    "\n",
    "for b in [b2_nl, b3_nl, b4_nl]:\n",
    "    b.fit(non_linear_model)\n",
    "    print('MAE = ' + str((np.abs(b.bde-b.bde_fitted)).mean()))"
   ]
  },
  {
   "cell_type": "code",
   "execution_count": 5,
   "id": "68be6aba-3d39-4119-92c1-78f729954765",
   "metadata": {},
   "outputs": [
    {
     "data": {
      "text/plain": [
       "<matplotlib.legend.Legend at 0x7f9f4910d730>"
      ]
     },
     "execution_count": 5,
     "metadata": {},
     "output_type": "execute_result"
    },
    {
     "data": {
      "image/png": "[encoded data removed]",
      "text/plain": [
       "<Figure size 288x288 with 1 Axes>"
      ]
     },
     "metadata": {
      "needs_background": "light"
     },
     "output_type": "display_data"
    }
   ],
   "source": [
    "bd_nl = b2_nl\n",
    "\n",
    "H_bond_exp={'H-H':436, 'C-H':410, 'H-NH2':435, 'H-OH':498, 'H-F':569}\n",
    "\n",
    "H_bond_exp_Pauling={'H-H':104.2, 'C-H':410, 'H-NH2':435, 'H-OH':498, 'H-F':569}\n",
    "\n",
    "for k in H_bond_exp.keys():\n",
    "    H_bond_exp[k] = H_bond_exp[k]*0.24\n",
    "H_bond_model = dict()\n",
    "\n",
    "# BDE from SRL\n",
    "for k, ZB in zip(H_bond_exp.keys(), [1,6,7,8,9]):\n",
    "    ZA = 1\n",
    "    E_AB = -(-bd_nl.params[0][0]**2 -bd_nl.params[0][1]**2*ZA*ZB -bd_nl.params[0][2]**2*(ZA**(7/3)+ZB**(7/3)) + ZA*ZB*630)\n",
    "    H_bond_model[k] = E_AB\n",
    "    \n",
    "# BDE from Pauling\n",
    "H_bond_Pauling = dict()\n",
    "ref_pauling = dict()\n",
    "for el in ['H', 'C', 'N', 'O', 'F']:\n",
    "    H_bond_Pauling[f'H-{el}'] = get_EAB('H', el)\n",
    "    ref_pauling[f'{el}-H'] = be[f'{el}-H']\n",
    "\n",
    "plt.rcParams['font.size'] = 16\n",
    "plt.rcParams['figure.figsize'] = [4,4]\n",
    "plt.title('H-X bond energy')\n",
    "plt.plot([1,6,7,8,9], list(H_bond_exp.values()), '-o', color = 'tab:gray', label= 'ref')\n",
    "plt.plot([1,6,7,8,9], list(H_bond_model.values()), '-v', color = 'tab:blue', label = 'SRL')\n",
    "#plt.plot([1,6,7,8,9], list(ref_pauling.values()), '--d', color = 'tab:orange', label = 'ref Pauling')\n",
    "plt.plot([1,6,7,8,9], list(H_bond_Pauling.values()), '-d', color = 'tab:orange', label = 'Pauling')\n",
    "plt.xlabel('ZB')\n",
    "plt.ylabel('E_HX (kcal/mol)')\n",
    "plt.legend(frameon = False)\n",
    "#plt.savefig('/home/sahre/work/bonding_trends/figures/results/HX_bonds.png', bbox_inches='tight')"
   ]
  },
  {
   "cell_type": "code",
   "execution_count": 6,
   "id": "451ce10f-f485-40c1-abeb-86a4ab790396",
   "metadata": {},
   "outputs": [
    {
     "data": {
      "text/plain": [
       "Text(0, 0.5, 'E_LiX (kcal/mol)')"
      ]
     },
     "execution_count": 6,
     "metadata": {},
     "output_type": "execute_result"
    },
    {
     "data": {
      "image/png": "[encoded data removed]",
      "text/plain": [
       "<Figure size 288x288 with 1 Axes>"
      ]
     },
     "metadata": {
      "needs_background": "light"
     },
     "output_type": "display_data"
    }
   ],
   "source": [
    "Li_bond_exp={'Li-Li':106, 'Li-OH':427, 'Li-F':577}\n",
    "for k in Li_bond_exp.keys():\n",
    "    Li_bond_exp[k] = Li_bond_exp[k]*0.24\n",
    "Li_bond_model = dict()\n",
    "for k, ZB in zip(Li_bond_exp.keys(), [3,8,9]):\n",
    "    ZA = 3\n",
    "    E_AB = -(-bd_nl.params[0][0]**2 -bd_nl.params[0][1]**2*ZA*ZB -bd_nl.params[0][2]**2*(ZA**(7/3)+ZB**(7/3)) + ZA*ZB*630)\n",
    "    Li_bond_model[k] = E_AB\n",
    "\n",
    "    \n",
    "# BDE from Pauling\n",
    "Li_bond_Pauling = dict()\n",
    "for el in ['Li', 'O', 'F']:\n",
    "    Li_bond_Pauling[f'Li-{el}'] = get_EAB('Li', el)\n",
    "\n",
    "plt.rcParams['font.size'] = 16\n",
    "plt.rcParams['figure.figsize'] = [4,4]\n",
    "\n",
    "plt.title('Li-X bond energy')\n",
    "plt.plot([3,8,9], list(Li_bond_exp.values()), '-o', color = 'tab:gray', label= 'ref')\n",
    "plt.plot([3,8,9], list(Li_bond_model.values()), '-v', color = 'tab:blue', label = 'SRL')\n",
    "plt.plot([3,8,9], list(Li_bond_Pauling.values()), '-d', color = 'tab:orange', label = 'Pauling')\n",
    "plt.xlabel('ZB')\n",
    "plt.ylabel('E_LiX (kcal/mol)')\n",
    "#plt.legend(frameon = False)\n",
    "#plt.savefig('/home/sahre/work/bonding_trends/figures/results/LiX_bonds.png', bbox_inches='tight')"
   ]
  },
  {
   "cell_type": "code",
   "execution_count": null,
   "id": "0ddfa612-002c-4f09-a9e9-7e04b44e180d",
   "metadata": {},
   "outputs": [],
   "source": []
  },
  {
   "cell_type": "code",
   "execution_count": 7,
   "id": "b4f80e99-48f8-4763-8528-39f4b350666a",
   "metadata": {},
   "outputs": [
    {
     "data": {
      "text/plain": [
       "89.92999999999999"
      ]
     },
     "execution_count": 7,
     "metadata": {},
     "output_type": "execute_result"
    }
   ],
   "source": [
    "get_EAB('H', 'N')"
   ]
  },
  {
   "cell_type": "code",
   "execution_count": 8,
   "id": "272da78d-3232-4163-8866-18cd158e3196",
   "metadata": {},
   "outputs": [
    {
     "data": {
      "text/plain": [
       "{'H-H': 104.2, 'C-C': 83.1, 'N-N': 38.4, 'O-O': 33.2, 'F-F': 36.6}"
      ]
     },
     "execution_count": 8,
     "metadata": {},
     "output_type": "execute_result"
    }
   ],
   "source": [
    "{'H-H':104.2, 'C-C':83.1, 'N-N':38.4, 'O-O':33.2, 'F-F':36.6}"
   ]
  },
  {
   "cell_type": "code",
   "execution_count": 9,
   "id": "30ceb676-35a6-47c5-9252-95ee8f9a341d",
   "metadata": {},
   "outputs": [],
   "source": [
    "be = {'H-H':104.2, 'Li-Li':26.5, 'C-C':83.1, 'N-N':38.4, 'O-O':33.2, 'F-F':36.6,\n",
    "     'C-H':98.8, 'N-H':93.4, 'O-H':110.6, 'F-H':134.6,\n",
    "     'C-N':69.7, 'C-O':84.0, 'C-F':105.4, \n",
    "     'N-F':64.5, 'O-F':44.2}"
   ]
  },
  {
   "cell_type": "markdown",
   "id": "3fdbba7a-7023-4ddb-98bf-151e08b78300",
   "metadata": {},
   "source": [
    "# mixed compounds with pauling"
   ]
  },
  {
   "cell_type": "code",
   "execution_count": 10,
   "id": "117c1b40-3da8-4c52-aee6-fec710c43c0b",
   "metadata": {},
   "outputs": [],
   "source": [
    "data = pd.read_csv('/data/sahre/projects/atomic-energies/data/bonding_trends/pbe0_data/energies_homolytic.csv')\n",
    "datadict = data.to_dict('list')\n",
    "datadict['bfe type'] = 'homo'\n",
    "\n",
    "energies_ref = -630*np.array(datadict['bfe'])"
   ]
  },
  {
   "cell_type": "markdown",
   "id": "a8f91f10-9a27-4417-ae41-5054c940ef46",
   "metadata": {},
   "source": [
    "### SRL"
   ]
  },
  {
   "cell_type": "code",
   "execution_count": 11,
   "id": "5666761d-82ee-47d1-a0ca-0f89060c2579",
   "metadata": {
    "tags": []
   },
   "outputs": [],
   "source": [
    "def model_dbar(*args):\n",
    "    globals()['model_dbar_lat'] = args[1:]\n",
    "    var = args[0]\n",
    "    alpha2, beta2, dbar2, alpha3, beta3, dbar3, alpha4, beta4, dbar4, b_prime = args[1:11]\n",
    "    y_vec = []\n",
    "    for x in var:\n",
    "        Z1, Z2= x[0], x[1]\n",
    "        \n",
    "        if Z1 >= 6 and Z1 <= 9:\n",
    "            y = -beta2**2*(Z1**(7/3)+Z2**(7/3))-alpha2**2-(b_prime**2+1/dbar2**2)*Z1*Z2\n",
    "        elif Z1 >= 14 and Z1 <= 17:\n",
    "            y = -beta3**2*(Z1**(7/3)+Z2**(7/3))-alpha3**2-(b_prime**2+1/dbar3**2)*Z1*Z2\n",
    "        elif Z1 >= 32 and Z1 <= 35:\n",
    "            y = -beta4**2*(Z1**(7/3)+Z2**(7/3))-alpha4**2-(b_prime**2+1/dbar4**2)*Z1*Z2\n",
    "        y_vec.append(y)\n",
    "\n",
    "    return(y_vec)\n",
    "\n",
    "def model_mixed(*args):\n",
    "    globals()['model_dbar_lat'] = args[1:]\n",
    "    var = args[0]\n",
    "    alpha2, beta2, dbar2, alpha3, beta3, dbar3, alpha4, beta4, dbar4, b_prime = args[1:11]\n",
    "    y_vec = []\n",
    "    for x in var:\n",
    "        Z1, Z2= x[0], x[1]\n",
    "            \n",
    "        if Z1 >= 6 and Z1 <= 9:\n",
    "            alpha_1 = alpha2\n",
    "            beta_1 = beta2\n",
    "            dbar_1 = dbar2\n",
    "        elif Z1 >= 14 and Z1 <= 17:\n",
    "            alpha_1 = alpha3\n",
    "            beta_1 = beta3\n",
    "            dbar_1 = dbar3\n",
    "        elif Z1 >= 32 and Z1 <= 35:\n",
    "            alpha_1 = alpha4\n",
    "            beta_1 = beta4\n",
    "            dbar_1 = dbar4\n",
    "            \n",
    "        if Z2 >= 6 and Z2 <= 9:\n",
    "            alpha_2 = alpha2\n",
    "            beta_2 = beta2\n",
    "            dbar_2 = dbar2\n",
    "        elif Z2 >= 14 and Z2 <= 17:\n",
    "            alpha_2 = alpha3\n",
    "            beta_2 = beta3\n",
    "            dbar_2 = dbar3\n",
    "        elif Z2 >= 32 and Z2 <= 35:\n",
    "            alpha_2 = alpha4\n",
    "            beta_2 = beta4\n",
    "            dbar_2 = dbar4\n",
    "            \n",
    "        alpha_term = -(alpha_1**2 + alpha_2**2)/2\n",
    "        \n",
    "        beta_term = -(beta_1**2*Z1**(7/3) + beta_2**2*Z2**(7/3))\n",
    "        \n",
    "        dbar_term = -(1/dbar_1**2 + 1/dbar_2**2)/2*Z1*Z2\n",
    "        \n",
    "        b_prime_term = -b_prime*Z1*Z2\n",
    "        \n",
    "        y = alpha_term + beta_term + dbar_term + b_prime_term\n",
    "        \n",
    "        y_vec.append(y)\n",
    "\n",
    "    return(y_vec)"
   ]
  },
  {
   "cell_type": "code",
   "execution_count": 12,
   "id": "18a41feb-eb99-4884-aec5-4716a87fa4f7",
   "metadata": {
    "tags": []
   },
   "outputs": [
    {
     "name": "stderr",
     "output_type": "stream",
     "text": [
      "/home/sahre/opt/miniconda3/envs/qm-tools/lib/python3.9/site-packages/scipy/optimize/minpack.py:828: OptimizeWarning: Covariance of the parameters could not be estimated\n",
      "  warnings.warn('Covariance of the parameters could not be estimated',\n"
     ]
    }
   ],
   "source": [
    "b_mixed = bt.BDE_clean.fromdict(datadict)\n",
    "\n",
    "b_mixed.linear_fit()\n",
    "energies_lSRL = 630*b_mixed.bde_fitted\n",
    "mae_lSRL = b_mixed.linear_mae*630\n",
    "\n",
    "\n",
    "# non-linear model\n",
    "\n",
    "#p0 = [alpha2, beta2, dbar2_ini, alpha3, beta3, dbar3_ini, alpha4, beta4, dbar4_ini, b_prime_ini]\n",
    "\n",
    "p0 = np.array([0.58519201, 0.05615728, 4.        , 0.78953269, 0.04872337,\n",
    "       4.        , 1.32691723, 0.03592518, 4.        , 0.37126436])\n",
    "\n",
    "b_mixed_nl = bt.BDE_clean.fromdict(datadict)\n",
    "\n",
    "b_mixed_nl.fit(model_mixed, p0)\n",
    "mae_nlSRL = b_mixed_nl.mae*630\n",
    "energies_nlSRL = b_mixed_nl.bde_fitted*630"
   ]
  },
  {
   "cell_type": "code",
   "execution_count": 13,
   "id": "794837bd-b3f2-47ae-8f41-a5caab67e833",
   "metadata": {},
   "outputs": [
    {
     "data": {
      "text/plain": [
       "13.496423686373243"
      ]
     },
     "execution_count": 13,
     "metadata": {},
     "output_type": "execute_result"
    }
   ],
   "source": [
    "np.abs(b_mixed_nl.bde_fitted[:30]-b_mixed_nl.bde[:30]).mean()*630"
   ]
  },
  {
   "cell_type": "code",
   "execution_count": 14,
   "id": "c8260c5f-d8bb-4e3f-b94f-c7c308dbed56",
   "metadata": {},
   "outputs": [
    {
     "data": {
      "text/plain": [
       "10.180593058811962"
      ]
     },
     "execution_count": 14,
     "metadata": {},
     "output_type": "execute_result"
    }
   ],
   "source": [
    "np.abs(b_mixed.bde_fitted[:30]-b_mixed.bde[:30]).mean()*630"
   ]
  },
  {
   "cell_type": "markdown",
   "id": "445d8b8b-bb99-4205-97a8-21b0f146afb8",
   "metadata": {},
   "source": [
    "### Pauling"
   ]
  },
  {
   "cell_type": "code",
   "execution_count": 15,
   "id": "65906e8c-29c7-4e48-95bb-9e4a2e23fc02",
   "metadata": {},
   "outputs": [],
   "source": [
    "chi = {'H':2.1, 'Li':1.0, 'C':2.5, 'N':3.0, 'O':3.5, 'F':4.0, 'Si':1.8, 'P':2.1, 'S':2.5, 'Cl':3.0,\n",
    "      'Ge':1.8, 'As':2.0, 'Se':2.4, 'Br':2.8, 'I':2.5}\n",
    "\n",
    "Z2el = {6:'C', 7:'N', 8:'O', 9:'F', 14:'Si', 15:'P', 16:'S', 17:'Cl', 32:'Ge', 33:'As', 34:'Se', 35:'Br'}\n",
    "\n",
    "def get_EAB(A, B):\n",
    "    E_AB = (be[f'{A}-{A}'] + be[f'{B}-{B}'])/2 + 23*(chi[A]-chi[B])**2\n",
    "    return(E_AB)"
   ]
  },
  {
   "cell_type": "code",
   "execution_count": 16,
   "id": "f308c650-429f-47bf-884f-892469d477c1",
   "metadata": {},
   "outputs": [],
   "source": [
    "energies_pauling = []\n",
    "for ZA, ZB in zip(datadict['Z1'],datadict['Z2']):\n",
    "\n",
    "    # get energy ZAZA and ZBZB\n",
    "    E_AA = -data.loc[(data['Z1']==ZA) & (data['Z2']==ZA), 'bfe'].item()*630\n",
    "    E_BB = -data.loc[(data['Z1']==ZB) & (data['Z2']==ZB), 'bfe'].item()*630\n",
    "    # get chi_A, B\n",
    "    el_A = Z2el[ZA]\n",
    "    el_B = Z2el[ZB]\n",
    "    \n",
    "    chi_A = chi[el_A]\n",
    "    chi_B = chi[el_B]\n",
    "    # calculate bond energy\n",
    "    E_AB = (E_AA + E_BB)/2 + 23*(chi_A - chi_B)**2\n",
    "    energies_pauling.append(E_AB)\n",
    "energies_pauling = np.array(energies_pauling)\n",
    "\n",
    "mae_pauling = (np.abs(energies_pauling-energies_ref)).mean()"
   ]
  },
  {
   "cell_type": "code",
   "execution_count": 48,
   "id": "62240f97-a231-4027-b944-a91275667bb6",
   "metadata": {},
   "outputs": [
    {
     "data": {
      "text/plain": [
       "6.337749831896299"
      ]
     },
     "execution_count": 48,
     "metadata": {},
     "output_type": "execute_result"
    }
   ],
   "source": [
    "mae_pauling"
   ]
  },
  {
   "cell_type": "code",
   "execution_count": 47,
   "id": "44edab04-9a82-4000-bdad-cea9bb7d18ec",
   "metadata": {},
   "outputs": [
    {
     "data": {
      "text/plain": [
       "1.3675524158612453"
      ]
     },
     "execution_count": 47,
     "metadata": {},
     "output_type": "execute_result"
    }
   ],
   "source": [
    "(np.abs(energies_pauling[:30]-energies_ref[:30])).mean()"
   ]
  },
  {
   "cell_type": "markdown",
   "id": "3b0dd929-9474-4790-8727-443ce105f35d",
   "metadata": {},
   "source": [
    "#### Pauling for individual rows"
   ]
  },
  {
   "cell_type": "code",
   "execution_count": 18,
   "id": "4f325691-d985-430d-a03d-a29ef6cedd8d",
   "metadata": {},
   "outputs": [],
   "source": [
    "import pandas as pd\n",
    "import numpy as np\n",
    "from matplotlib import pyplot as plt\n",
    "\n",
    "import sys\n",
    "sys.path.insert(0, '/home/sahre/git_repositories/APDFT/prototyping/atomic_energies/')\n",
    "import utils_qm as uqm\n",
    "import bt_tools as bt"
   ]
  },
  {
   "cell_type": "code",
   "execution_count": 30,
   "id": "8d7d6e0b-cb5f-4efa-a240-da78c81bb8e9",
   "metadata": {},
   "outputs": [],
   "source": [
    "def pauling_model(data, unit = 630):\n",
    "    energies_pauling = []\n",
    "    for ZA, ZB in zip(data['Z1'],data['Z2']):\n",
    "\n",
    "        # get energy ZAZA and ZBZB\n",
    "        E_AA = -data.loc[(data['Z1']==ZA) & (data['Z2']==ZA), 'bfe'].item()*unit\n",
    "        E_BB = -data.loc[(data['Z1']==ZB) & (data['Z2']==ZB), 'bfe'].item()*unit\n",
    "        # get chi_A, B\n",
    "        el_A = Z2el[ZA]\n",
    "        el_B = Z2el[ZB]\n",
    "\n",
    "        chi_A = chi[el_A]\n",
    "        chi_B = chi[el_B]\n",
    "        # calculate bond energy\n",
    "        E_AB = (E_AA + E_BB)/2 + 23*(chi_A - chi_B)**2\n",
    "        energies_pauling.append(E_AB)\n",
    "    energies_pauling = np.array(energies_pauling)\n",
    "    return(energies_pauling)"
   ]
  },
  {
   "cell_type": "code",
   "execution_count": 38,
   "id": "cf88147a-875e-420f-a9a2-1c055eb92bec",
   "metadata": {},
   "outputs": [],
   "source": [
    "# Pauling with W4-17 energies\n",
    "data_W4_17 = pd.read_csv('/data/sahre/projects/atomic-energies/data/bonding_trends/other_data/W4-17.csv')\n",
    "pauling_2_W4_17 = pauling_model(data_W4_17, 1)\n",
    "#uqm.save_obj(dict(zip(list(data_W4_17['smiles']), pauling_2_W4_17)), '/data/sahre/projects/atomic-energies/data/bonding_trends/other_data/pauling_2_W4-17')"
   ]
  },
  {
   "cell_type": "code",
   "execution_count": 27,
   "id": "861f0272-3f4c-4c15-9af7-eda04d1bff5e",
   "metadata": {},
   "outputs": [],
   "source": [
    "data = pd.read_csv('/data/sahre/projects/atomic-energies/data/bonding_trends/pbe0_data/all_energies.csv')\n",
    "data_2 = data.loc[(data['Z1'] <= 9) & (data['Z2'] <= 9)]\n",
    "data_3 = data.loc[(data['Z1'] >= 14) & (data['Z2'] >= 14) & (data['Z1'] <= 17) & (data['Z2'] <= 17)]\n",
    "data_4 = data.loc[(data['Z1'] >= 32) & (data['Z2'] >= 32) & (data['Z1'] <= 35) & (data['Z2'] <= 35)]"
   ]
  },
  {
   "cell_type": "code",
   "execution_count": 28,
   "id": "b4afafee-95c6-4a82-9661-35b31c4eeae4",
   "metadata": {},
   "outputs": [
    {
     "name": "stdout",
     "output_type": "stream",
     "text": [
      "1.4491596221812835\n",
      "2.0319684307167507\n",
      "0.6215291946857022\n"
     ]
    }
   ],
   "source": [
    "pauling_2 = pauling_model(data_2)\n",
    "bde_2 = -np.array(data_2['bfe'])*630\n",
    "print(np.abs(pauling_2-bde_2).mean())\n",
    "\n",
    "pauling_3 = pauling_model(data_3)\n",
    "bde_3 = -np.array(data_3['bfe'])*630\n",
    "print(np.abs(pauling_3-bde_3).mean())\n",
    "\n",
    "pauling_4 = pauling_model(data_4)\n",
    "bde_4 = -np.array(data_4['bfe'])*630\n",
    "print(np.abs(pauling_4-bde_4).mean())"
   ]
  },
  {
   "cell_type": "code",
   "execution_count": 29,
   "id": "aa670f19-bac9-4e2e-9cd5-0addc5aafb75",
   "metadata": {},
   "outputs": [
    {
     "data": {
      "text/plain": [
       "array([72.21042554, 63.94845035, 74.24169529, 86.33905106, 53.84647516,\n",
       "       60.4597201 , 68.87707587, 59.71296505, 60.77032082, 54.46767659])"
      ]
     },
     "execution_count": 29,
     "metadata": {},
     "output_type": "execute_result"
    }
   ],
   "source": [
    "pauling_4"
   ]
  },
  {
   "cell_type": "code",
   "execution_count": 22,
   "id": "ee0a862e-cb26-4f69-a400-24986bace0da",
   "metadata": {},
   "outputs": [
    {
     "data": {
      "text/plain": [
       "[<matplotlib.lines.Line2D at 0x7f6fe45dbac0>]"
      ]
     },
     "execution_count": 22,
     "metadata": {},
     "output_type": "execute_result"
    },
    {
     "data": {
      "image/png": "[encoded data removed]",
      "text/plain": [
       "<Figure size 432x288 with 1 Axes>"
      ]
     },
     "metadata": {
      "needs_background": "light"
     },
     "output_type": "display_data"
    }
   ],
   "source": [
    "plt.plot(bde_2)\n",
    "plt.plot(pauling_2)"
   ]
  },
  {
   "cell_type": "code",
   "execution_count": 23,
   "id": "30e718b2-99d5-49dc-af51-13b78103541d",
   "metadata": {},
   "outputs": [
    {
     "data": {
      "text/plain": [
       "[<matplotlib.lines.Line2D at 0x7f6fe45afb80>]"
      ]
     },
     "execution_count": 23,
     "metadata": {},
     "output_type": "execute_result"
    },
    {
     "data": {
      "image/png": "[encoded data removed]",
      "text/plain": [
       "<Figure size 432x288 with 1 Axes>"
      ]
     },
     "metadata": {
      "needs_background": "light"
     },
     "output_type": "display_data"
    }
   ],
   "source": [
    "plt.plot(bde_3)\n",
    "plt.plot(pauling_3)"
   ]
  },
  {
   "cell_type": "code",
   "execution_count": 22,
   "id": "b13cbf64-b65b-4dae-bf20-2a49ba299a8a",
   "metadata": {},
   "outputs": [
    {
     "data": {
      "text/plain": [
       "[<matplotlib.lines.Line2D at 0x7f3be4549c10>]"
      ]
     },
     "execution_count": 22,
     "metadata": {},
     "output_type": "execute_result"
    },
    {
     "data": {
      "image/png": "[encoded data removed]",
      "text/plain": [
       "<Figure size 432x288 with 1 Axes>"
      ]
     },
     "metadata": {
      "needs_background": "light"
     },
     "output_type": "display_data"
    }
   ],
   "source": [
    "plt.plot(bde_4)\n",
    "plt.plot(pauling_4)"
   ]
  },
  {
   "cell_type": "markdown",
   "id": "f34b1858-ac08-4016-9cbe-be27bdd8d383",
   "metadata": {},
   "source": [
    "### compare models"
   ]
  },
  {
   "cell_type": "code",
   "execution_count": 56,
   "id": "61cced36-d912-40b0-b31d-b9b01c66400c",
   "metadata": {},
   "outputs": [
    {
     "data": {
      "image/png": "[encoded data removed]",
      "text/plain": [
       "<Figure size 360x360 with 1 Axes>"
      ]
     },
     "metadata": {
      "needs_background": "light"
     },
     "output_type": "display_data"
    }
   ],
   "source": [
    "ref_line = [np.amin(energies_ref), np.amax(energies_ref)]\n",
    "\n",
    "plt.rcParams['figure.figsize'] = [5,5]\n",
    "\n",
    "plt.plot(ref_line, ref_line, '--',color = 'tab:gray')\n",
    "\n",
    "plt.plot(energies_ref, energies_lSRL, 'v', label = 'lSRL')\n",
    "\n",
    "plt.plot(energies_ref, energies_nlSRL, '^', label = 'nlSRL')\n",
    "\n",
    "plt.plot(energies_ref, energies_pauling, 's', label = 'Pauling')\n",
    "plt.legend(frameon = False)\n",
    "\n",
    "plt.xlabel(r'$E_{\\rm{AB}}^{\\rm{ref}}$ (kcal/mol)')\n",
    "plt.ylabel(r'$E_{\\rm{AB}}^{\\rm{fit}}$ (kcal/mol)')\n",
    "\n",
    "#plt.savefig('/home/sahre/work/bonding_trends/figures/results/mixed_rows.png', bbox_inches='tight')"
   ]
  },
  {
   "cell_type": "code",
   "execution_count": 24,
   "id": "a9862a66-6f40-423f-8107-6e9476276478",
   "metadata": {},
   "outputs": [
    {
     "name": "stdout",
     "output_type": "stream",
     "text": [
      "MAE lSRL = 9.887231181562077\n",
      "MAE nlSRL = 13.2959820114382\n",
      "MAE pauling = 6.337749831896299\n"
     ]
    }
   ],
   "source": [
    "print(f'MAE lSRL = {mae_lSRL}')\n",
    "print(f'MAE nlSRL = {mae_nlSRL}')\n",
    "print(f'MAE pauling = {mae_pauling}')"
   ]
  },
  {
   "cell_type": "code",
   "execution_count": 50,
   "id": "7b53bfdb-9b8d-4789-981d-b2ab7cd3dc8c",
   "metadata": {},
   "outputs": [
    {
     "name": "stdout",
     "output_type": "stream",
     "text": [
      "MAE lSRL = 0.5198081125872297\n",
      "MAE nlSRL = 0.6990186825253871\n",
      "MAE pauling = 0.33319882155800523\n"
     ]
    }
   ],
   "source": [
    "# error relative to std; value greater than one means that using the average energy will yield a lower MAE\n",
    "# than the model\n",
    "\n",
    "print(f'MAE lSRL = {mae_lSRL/energies_ref.std()}')\n",
    "print(f'MAE nlSRL = {mae_nlSRL/energies_ref.std()}')\n",
    "print(f'MAE pauling = {mae_pauling/energies_ref.std()}')"
   ]
  },
  {
   "cell_type": "code",
   "execution_count": 2,
   "id": "12a44478-95ab-4fe5-a931-fc2fb59b8a5c",
   "metadata": {},
   "outputs": [],
   "source": []
  },
  {
   "cell_type": "code",
   "execution_count": null,
   "id": "ceea9a2a-197d-45b8-b262-d369a69ad2c9",
   "metadata": {},
   "outputs": [],
   "source": []
  }
 ],
 "metadata": {
  "kernelspec": {
   "display_name": "Python 3",
   "language": "python",
   "name": "python3"
  },
  "language_info": {
   "codemirror_mode": {
    "name": "ipython",
    "version": 3
   },
   "file_extension": ".py",
   "mimetype": "text/x-python",
   "name": "python",
   "nbconvert_exporter": "python",
   "pygments_lexer": "ipython3",
   "version": "3.9.5"
  }
 },
 "nbformat": 4,
 "nbformat_minor": 5
}
