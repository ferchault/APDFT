{
 "cells": [
  {
   "cell_type": "markdown",
   "id": "7b1afdf1-faa3-47b5-bc08-61885cb79902",
   "metadata": {},
   "source": [
    "# Alchemical Energies"
   ]
  },
  {
   "cell_type": "code",
   "execution_count": 7,
   "id": "76db9b24-ad9e-407e-971a-191b8f235efa",
   "metadata": {},
   "outputs": [],
   "source": [
    "import sys\n",
    "sys.path.insert(0, '/home/sahre/git_repositories/APDFT/prototyping/atomic_energies/')\n",
    "import utils_qm as uqm\n",
    "import numpy as np\n",
    "from matplotlib import pyplot as plt"
   ]
  },
  {
   "cell_type": "code",
   "execution_count": 12,
   "id": "890dbbba-5fbb-4d3f-a65f-2dc0ae926319",
   "metadata": {},
   "outputs": [],
   "source": [
    "# energy in diatomic\n",
    "eH_H2 = (-1.029154884995695962e+00 + -1.029154960269883290e+00)/2\n",
    "comps = ['CC', 'CN', 'CO', 'CF', 'NN', 'NO', 'NF', 'OO', 'OF', 'FF']\n",
    "energies_diatomics = dict()\n",
    "for c in comps:\n",
    "    num_h1, num_h2 = uqm.hcount_smiles(c)\n",
    "    en = np.loadtxt(f'/data/sahre/projects/atomic-energies/data/bonding_trends/alchemy/diatomics/{c}/atomic_energies.txt')[:,-1]\n",
    "    if c[0] == c[1]: # homo diatomics\n",
    "        energies_diatomics[f'{c[0]}_{c}'] = (en[0] + en[1])/2 # energy heavy atom A\n",
    "        energies_diatomics[f'{c[0]}H_{c}'] = (en[2:].sum() + 2*eH_H2)/2#/(2*num_h1+2) # average energy of H's attached to A\n",
    "        \n",
    "    else:\n",
    "        energies_diatomics[f'{c[0]}_{c}'] = en[0] # energy heavy atom A\n",
    "        energies_diatomics[f'{c[1]}_{c}'] = en[1] # energy heavy atom B\n",
    "        energies_diatomics[f'{c[0]}H_{c}'] = (en[2:2+num_h1].sum() + eH_H2)#/(num_h1+1) # average energy of H's attached to A\n",
    "        energies_diatomics[f'{c[1]}H_{c}'] = (en[2+num_h1:].sum() + eH_H2)#/(num_h2+1) # average energy of H's attached to B \n",
    "# energy in fragment\n",
    "energies_fragments = dict()\n",
    "for c in ['C', 'N', 'O', 'F']:\n",
    "    en = np.loadtxt(f'/data/sahre/projects/atomic-energies/data/bonding_trends/alchemy/sat_frags/{c}/atomic_energies_sat_frag.txt')[:,-1]\n",
    "    energies_fragments[c] = en[0] # energy heavy atom A\n",
    "    energies_fragments[c+'H'] = en[1:].sum()#en[1:].mean() # average energy of H's attached to A\n",
    "# binding energy\n",
    "energies_bind = dict()\n",
    "for k in energies_diatomics.keys():\n",
    "    frag = k.split('_')[0]\n",
    "    energies_bind[k] = energies_diatomics[k] - energies_fragments[frag]"
   ]
  },
  {
   "cell_type": "code",
   "execution_count": 14,
   "id": "4d2cad2a-aff9-4525-94ff-26b88bb663d8",
   "metadata": {},
   "outputs": [],
   "source": [
    "def key2(x):\n",
    "    pattern_list = ['CC', 'CN', 'CO', 'CF', 'NN', 'NO', 'NF', 'OO', 'OF', 'FF']\n",
    "    for i, p in enumerate(pattern_list):\n",
    "        if p in x:\n",
    "            return(i)\n",
    "        \n",
    "energies_bind_sorted = dict()\n",
    "\n",
    "for el in ['C', 'N', 'O', 'F']:\n",
    "    el_list = []\n",
    "    el_list_H = []\n",
    "    for k in energies_bind.keys():\n",
    "        if k.split('_')[0] == el:\n",
    "            el_list.append(k)\n",
    "        elif k.split('_')[0] == el+'H':\n",
    "            el_list_H.append(k)\n",
    "    \n",
    "    el_list = sorted(el_list, key=key2)\n",
    "    el_list_H = sorted(el_list_H, key=key2)\n",
    "    \n",
    "    energies_bind_sorted[el] = []\n",
    "    for k in el_list:\n",
    "         energies_bind_sorted[el].append(energies_bind[k])\n",
    "            \n",
    "    energies_bind_sorted[el+'H'] = []\n",
    "    for k in el_list_H:\n",
    "         energies_bind_sorted[el+'H'].append(energies_bind[k]) "
   ]
  },
  {
   "cell_type": "code",
   "execution_count": 32,
   "id": "7627b243-2272-496e-a6c0-0a049559e9d9",
   "metadata": {},
   "outputs": [
    {
     "data": {
      "image/png": "[encoded data removed]",
      "text/plain": [
       "<Figure size 288x288 with 1 Axes>"
      ]
     },
     "metadata": {
      "needs_background": "light"
     },
     "output_type": "display_data"
    }
   ],
   "source": [
    "plt.rcParams['font.size'] = 15\n",
    "plt.rcParams['figure.figsize'] = [4,4]\n",
    "\n",
    "fig, ax = plt.subplots(1,1)\n",
    "Z = [6,7,8,9]\n",
    "el = ['C', 'N', 'O', 'F']\n",
    "color = ['tab:gray', 'tab:blue', 'tab:red', 'tab:green']\n",
    "for i in range(4):\n",
    "    ax.plot(Z, energies_bind_sorted[el[i]], '-o', color = color[i], label = el[i])\n",
    "    ax.plot(Z, energies_bind_sorted[el[i]+'H'], '--o', color = color[i], label = el[i]+'H')\n",
    "    \n",
    "ax.set_xlabel(r'$Z_{\\rm{B}}$')\n",
    "ax.set_ylabel(r'$E_{\\rm{A}}^{\\rm{el, b}}$ (Ha)')\n",
    "ax.legend(bbox_to_anchor = [1.05, 1])\n",
    "plt.savefig('/home/sahre/work/bonding_trends/figures/results/alchemical_binding_energies.svg', bbox_inches = 'tight')"
   ]
  },
  {
   "cell_type": "code",
   "execution_count": null,
   "id": "09a0846e-5016-4d2d-bd44-2f28348818b6",
   "metadata": {},
   "outputs": [],
   "source": [
    "\n",
    "\n",
    "\n",
    "\n",
    "sorted(test_list, key = key2)"
   ]
  },
  {
   "cell_type": "markdown",
   "id": "d79fe55c-3f69-4e23-8081-3d8c997942e9",
   "metadata": {},
   "source": [
    "# Fit of binding energy"
   ]
  },
  {
   "cell_type": "code",
   "execution_count": null,
   "id": "665ba17a-e949-43ba-af27-cccb1bcf3674",
   "metadata": {},
   "outputs": [],
   "source": [
    "import pandas as pd\n",
    "import numpy as np\n",
    "from matplotlib import pyplot as plt\n",
    "\n",
    "import sys\n",
    "sys.path.insert(0, '/home/sahre/git_repositories/APDFT/prototyping/atomic_energies/')\n",
    "import utils_qm as uqm\n",
    "import bt_tools as bt"
   ]
  },
  {
   "cell_type": "code",
   "execution_count": null,
   "id": "e5fb5190-be55-4e3a-bb8a-bc8b2af970e4",
   "metadata": {},
   "outputs": [],
   "source": [
    "# load data"
   ]
  },
  {
   "cell_type": "code",
   "execution_count": null,
   "id": "8b7140f3-2ecc-43c5-a633-6f4215aac8bc",
   "metadata": {},
   "outputs": [],
   "source": [
    "data = pd.read_csv('/data/sahre/projects/atomic-energies/data/bonding_trends/pbe0_data/all_energies.csv')\n",
    "data_2 = data.loc[(data['Z1'] <= 9) & (data['Z2'] <= 9)].to_dict('list')\n",
    "data_3 = data.loc[(data['Z1'] >= 14) & (data['Z2'] >= 14) & (data['Z1'] <= 17) & (data['Z2'] <= 17)].to_dict('list')\n",
    "data_4 = data.loc[(data['Z1'] >= 32) & (data['Z2'] >= 32) & (data['Z1'] <= 35) & (data['Z2'] <= 35)].to_dict('list')\n",
    "data_234 = data.loc[(data['Z1'] <= 9) & (data['Z2'] <= 9) | (data['Z1'] >= 14) & (data['Z2'] >= 14) & (data['Z1'] <= 17) & (data['Z2'] <= 17) | (data['Z1'] >= 32) & (data['Z2'] >= 32) & (data['Z1'] <= 35) & (data['Z2'] <= 35)].to_dict('list')\n",
    "\n",
    "for d in [data_2, data_3, data_4, data_234]:\n",
    "    d['unit'] = 630"
   ]
  },
  {
   "cell_type": "code",
   "execution_count": null,
   "id": "f3ca04ed-eacb-41ab-86dd-136b5d415e56",
   "metadata": {},
   "outputs": [],
   "source": [
    "# do linear fits\n",
    "b2 = bt.BDE_clean.fromdict(data_2)\n",
    "b3 = bt.BDE_clean.fromdict(data_3)\n",
    "b4 = bt.BDE_clean.fromdict(data_4)\n",
    "for b in [b2, b3, b4]:\n",
    "    b.linear_fit()\n",
    "    print('MAE = ' + str((np.abs(b.bde-b.bde_fitted)).mean()))"
   ]
  },
  {
   "cell_type": "code",
   "execution_count": null,
   "id": "e204e505-d133-48b6-beb6-b2993718b47e",
   "metadata": {},
   "outputs": [],
   "source": [
    "b3.linear_mae"
   ]
  },
  {
   "cell_type": "code",
   "execution_count": null,
   "id": "d74d7797-c5fe-44c9-81ee-f35bdaf592fa",
   "metadata": {},
   "outputs": [],
   "source": [
    "# non-linear fits\n",
    "\n",
    "def non_linear_model(var, alpha, beta, b_prime, a, b):\n",
    "    Z1, Z2 = var.T\n",
    "    ebfe = (-beta*(Z1**(7/3)+Z2**(7/3))+alpha-b_prime*Z1*Z2)\n",
    "    return(ebfe)\n",
    "\n",
    "# do linear fits\n",
    "b2_nl = bt.BDE_clean.fromdict(data_2)\n",
    "b3_nl = bt.BDE_clean.fromdict(data_3)\n",
    "b4_nl = bt.BDE_clean.fromdict(data_4)\n",
    "\n",
    "for b in [b2_nl, b3_nl, b4_nl]:\n",
    "    b.fit(non_linear_model)\n",
    "    print('MAE = ' + str((np.abs(b.bde-b.bde_fitted)).mean()))"
   ]
  },
  {
   "cell_type": "code",
   "execution_count": null,
   "id": "512d576c-fd01-4774-a0fc-e5a624c608e6",
   "metadata": {},
   "outputs": [],
   "source": [
    "comp = ['Ge', 'As', 'Se', 'Br']\n",
    "labels = []\n",
    "for i in range(4):\n",
    "    for j in range(i, 4):\n",
    "        labels.append(comp[i]+comp[j])"
   ]
  },
  {
   "cell_type": "code",
   "execution_count": null,
   "id": "6b4a8ccc-99cd-4a2b-8f0e-0203e2631ccc",
   "metadata": {},
   "outputs": [],
   "source": [
    "bd = b4\n",
    "bd_nl = b4_nl\n",
    "\n",
    "plt.rcParams['figure.figsize'] = [10,5]\n",
    "plt.rcParams['font.size'] = 18\n",
    "\n",
    "fig, ax = plt.subplots(1,1)\n",
    "\n",
    "ax.plot(bd.bde, '-o', label = 'PBE0') # refernce data\n",
    "\n",
    "ax.plot(bd.bde_fitted, '--v', label = f'linear, MAE = {np.round(bd.linear_mae, 1)}') # linear fit\n",
    "\n",
    "ax.plot(bd_nl.bde_fitted, '--x', label = f'non-linear, MAE = {np.round(bd_nl.mae, 1)}') # non-linear fit\n",
    "\n",
    "\n",
    "# ax.set_xticks([])\n",
    "# ax.set_xlabel('compound')\n",
    "ax.set_ylabel('BDE (kcal/mol)')\n",
    "\n",
    "ax.spines['right'].set_visible(False)\n",
    "ax.spines['top'].set_visible(False)\n",
    "ax.legend(frameon = False)\n",
    "\n",
    "# plt.savefig('/home/sahre/work/bonding_trends/figures/results/r4_non_linear_fit.svg', bbox_inches = 'tight')"
   ]
  },
  {
   "cell_type": "code",
   "execution_count": null,
   "id": "f5ce8eab-0396-4f34-89e7-24b7dad46960",
   "metadata": {},
   "outputs": [],
   "source": [
    "emin = []\n",
    "emax = []\n",
    "for b in [b2, b3, b4]:\n",
    "    emin.append(np.amin(b.bde) )\n",
    "    emax.append(np.amax(b.bde))\n",
    "emin = min(emin)\n",
    "emax = max(emax)\n",
    "\n",
    "ref_pts = [emin, emax]"
   ]
  },
  {
   "cell_type": "code",
   "execution_count": null,
   "id": "48252e4f-3483-42a6-86fc-57bea7127905",
   "metadata": {},
   "outputs": [],
   "source": []
  },
  {
   "cell_type": "code",
   "execution_count": null,
   "id": "fd0881ff-cf95-44f9-b4d7-d821c90d0e61",
   "metadata": {},
   "outputs": [],
   "source": [
    "\n",
    "\n",
    "plt.rcParams['figure.figsize'] = [5,5]\n",
    "plt.rcParams['font.size'] = 18\n",
    "fig, ax = plt.subplots(1,1)\n",
    "\n",
    "# row 2\n",
    "bd = b2\n",
    "bd_nl = b2_nl\n",
    "ax.plot(bd.bde, bd.bde_fitted, 'o', label = 'row 2')\n",
    "\n",
    "# row 3\n",
    "bd = b3\n",
    "bd_nl = b3_nl\n",
    "ax.plot(bd.bde, bd.bde_fitted, 'v', label = 'row 3')\n",
    "\n",
    "# row 4\n",
    "bd = b4\n",
    "bd_nl = b4_nl\n",
    "ax.plot(bd.bde, bd.bde_fitted, 'x', label = 'row 4')\n",
    "\n",
    "ax.plot(ref_pts, ref_pts, '--', color = 'tab:gray', linewidth = 1)\n",
    "\n",
    "# ax.plot(bd.bde_fitted, '--v', label = f'linear, MAE = {np.round(bd.linear_mae, 1)}') # linear fit\n",
    "\n",
    "# ax.plot(bd_nl.bde_fitted, '--x', label = f'non-linear, MAE = {np.round(bd_nl.mae, 1)}') # non-linear fit\n",
    "\n",
    "\n",
    "ax.set_xlabel('BDE ref (kcal/mol)')\n",
    "ax.set_ylabel('BDE fit (kcal/mol)')\n",
    "\n",
    "ax.spines['right'].set_visible(False)\n",
    "ax.spines['top'].set_visible(False)\n",
    "ax.legend(frameon = False)\n",
    "ax.axis('square')\n",
    "\n",
    "\n",
    "# plt.savefig('/home/sahre/work/bonding_trends/figures/results/scatter_non_linear_fit.svg', bbox_inches = 'tight')"
   ]
  },
  {
   "cell_type": "markdown",
   "id": "51e5ffef-7195-483e-a96b-a6f3d4241b7f",
   "metadata": {},
   "source": [
    "# Scatter Plot"
   ]
  },
  {
   "cell_type": "markdown",
   "id": "fb6a8411-a0e8-410f-9e2b-b82bdee4afba",
   "metadata": {},
   "source": [
    "# Molecular structures"
   ]
  },
  {
   "cell_type": "code",
   "execution_count": null,
   "id": "b8467c39-dd2d-4e6b-8e47-946581a0a13a",
   "metadata": {},
   "outputs": [],
   "source": [
    "import ase.io as aio\n",
    "from ase.visualize import view"
   ]
  },
  {
   "cell_type": "code",
   "execution_count": null,
   "id": "da618d53-f82e-4470-80f8-34627dd6565b",
   "metadata": {},
   "outputs": [],
   "source": [
    "\n",
    "comps = ['CC', 'CN', 'CO', 'CF', 'NN', 'NO', 'NF', 'OO', 'OF', 'FF']\n",
    "\n",
    "for c in comps:\n",
    "    view(aio.read(f'/data/sahre/projects/atomic-energies/data/bonding_trends/pbe0_data/row_2/diatomics_single/{c}_opt.xyz'))"
   ]
  },
  {
   "cell_type": "markdown",
   "id": "70a61ef1-d24e-4c14-9800-c436e2940e02",
   "metadata": {},
   "source": [
    "# Plot of slope m vs Z and intercept n vs Z"
   ]
  },
  {
   "cell_type": "code",
   "execution_count": null,
   "id": "c06f4af1-8487-475f-899c-fa23b7a32f0c",
   "metadata": {},
   "outputs": [],
   "source": [
    "import pandas as pd\n",
    "import numpy as np\n",
    "from matplotlib import pyplot as plt\n",
    "from ase.units import Bohr\n",
    "from scipy.stats import linregress\n",
    "\n",
    "import sys\n",
    "sys.path.insert(0, '/home/sahre/git_repositories/APDFT/prototyping/atomic_energies/')\n",
    "import utils_qm as uqm\n",
    "import bt_tools as bt"
   ]
  },
  {
   "cell_type": "code",
   "execution_count": null,
   "id": "de3b5acb-d255-471a-bd31-2b8ada031612",
   "metadata": {},
   "outputs": [],
   "source": [
    "def get_nbfe(charges):\n",
    "    nbfe = []\n",
    "    for i in range(len(charges)):\n",
    "        for j in range(i, len(charges)):\n",
    "            nbfe.append(charges[i]*charges[j])\n",
    "            \n",
    "    return(np.array(nbfe))\n",
    "\n",
    "def linear_fit(b):\n",
    "    charges = sorted(list(set(b.Z1)))\n",
    "    m = b.linear_params[4:]\n",
    "\n",
    "    out = linregress(charges, m)\n",
    "    x = np.linspace(0, 36, 10)\n",
    "    linf = out[0]*x+out[1]\n",
    "    return(x, linf)\n",
    "\n"
   ]
  },
  {
   "cell_type": "code",
   "execution_count": null,
   "id": "33d49923-1858-45ad-8d69-3f361cabf88d",
   "metadata": {},
   "outputs": [],
   "source": [
    "data = pd.read_csv('/data/sahre/projects/atomic-energies/data/bonding_trends/pbe0_data/all_energies.csv')\n",
    "data_2 = data.loc[(data['Z1'] <= 9) & (data['Z2'] <= 9)].to_dict('list')\n",
    "data_3 = data.loc[(data['Z1'] >= 14) & (data['Z2'] >= 14) & (data['Z1'] <= 17) & (data['Z2'] <= 17)].to_dict('list')\n",
    "data_4 = data.loc[(data['Z1'] >= 32) & (data['Z2'] >= 32) & (data['Z1'] <= 35) & (data['Z2'] <= 35)].to_dict('list')\n",
    "data_234 = data.loc[(data['Z1'] <= 9) & (data['Z2'] <= 9) | (data['Z1'] >= 14) & (data['Z2'] >= 14) & (data['Z1'] <= 17) & (data['Z2'] <= 17) | (data['Z1'] >= 32) & (data['Z2'] >= 32) & (data['Z1'] <= 35) & (data['Z2'] <= 35)].to_dict('list')\n",
    "\n",
    "for d in [data_2, data_3, data_4, data_234]:\n",
    "    d['unit'] = 630\n",
    "\n",
    "for d, s in zip([data_2, data_3, data_4, data_234], [1.42, 2.12, 2.36, Bohr]):\n",
    "    charges = sorted(list(set(d['Z1'])))\n",
    "    d['nbfe'] = get_nbfe(charges)/(s/Bohr)\n",
    "# do linear fits\n",
    "b2 = bt.BDE_clean.fromdict(data_2)\n",
    "b3 = bt.BDE_clean.fromdict(data_3)\n",
    "b4 = bt.BDE_clean.fromdict(data_4)\n",
    "for b in [b2, b3, b4]:\n",
    "    b.linear_fit()"
   ]
  },
  {
   "cell_type": "code",
   "execution_count": null,
   "id": "e1cc570e-86ab-4470-bf41-737a0e6616db",
   "metadata": {},
   "outputs": [],
   "source": [
    "plt.rcParams['figure.figsize'] = [6,4]\n",
    "plt.rcParams['font.size'] = 18\n",
    "fig, ax = plt.subplots(1,1)\n",
    "plot_info = {'row':[b2, b3, b4], 'color':['tab:blue', 'tab:orange', 'tab:red'], 'row_number':['row 2', 'row 3', 'row 4']}\n",
    "for i in range(3):\n",
    "\n",
    "    charges = sorted(list(set(plot_info['row'][i].Z1)))\n",
    "    ax.plot(charges, plot_info['row'][i].linear_params[4:], 'o', color = plot_info['color'][i], label = plot_info['row_number'][i])\n",
    "    \n",
    "    x, y = linear_fit(plot_info['row'][i])\n",
    "    ax.plot(x, y, '--', color = plot_info['color'][i])\n",
    "\n",
    "ax.plot([0, 36], [0,0], '--', color = 'tab:gray', linewidth = 1)\n",
    "ax.set_xlim([0, 36])\n",
    "\n",
    "ax.set_xlabel(r'$Z$')\n",
    "ax.legend(frameon = False)\n",
    "\n",
    "ax.set_yticks([0,-1000,-2000,-3000,-4000])\n",
    "ax.set_yticklabels(['0','','','', ''])\n",
    "\n",
    "ax.set_ylabel(r'$m(Z)$ (a.u.)')\n",
    "\n",
    "ax.spines['right'].set_visible(False)\n",
    "ax.spines['top'].set_visible(False)\n",
    "\n",
    "plt.savefig('/home/sahre/work/bonding_trends/figures/results/slopes.svg', bbox_inches = 'tight')"
   ]
  },
  {
   "cell_type": "code",
   "execution_count": null,
   "id": "a459968d-689e-463f-9a50-35fe332e255f",
   "metadata": {},
   "outputs": [],
   "source": [
    "def linear_fit_n(b):\n",
    "    charges = np.array(sorted(list(set(b.Z1))))\n",
    "    m = b.linear_params[:4]\n",
    "\n",
    "    out = linregress(-(charges)**(7/3), m)\n",
    "    x0 = np.amin(-(charges)**(7/3)) - 100*charges.mean()/30#+ np.amin(-(charges)**(7/3))*0.1\n",
    "    x1 = np.amax(-(charges)**(7/3)) + 75*charges.mean()/30#- np.amax(-(charges)**(7/3))*0.1\n",
    "    x = np.linspace(x0, x1, 10000)\n",
    "    linf = out[0]*x+out[1]\n",
    "    return(x, linf)"
   ]
  },
  {
   "cell_type": "code",
   "execution_count": null,
   "id": "e4d797cf-0ca5-43d6-864e-184b4c0dd101",
   "metadata": {},
   "outputs": [],
   "source": [
    "plt.rcParams['figure.figsize'] = [6,4]\n",
    "plt.rcParams['font.size'] = 18\n",
    "fig, ax = plt.subplots(1,1)\n",
    "plot_info = {'row':[b2, b3, b4], 'color':['tab:blue', 'tab:orange', 'tab:red'], 'row_number':['row 2', 'row 3', 'row 4']}\n",
    "\n",
    "\n",
    "# ylim\n",
    "y0 = np.amin(plot_info['row'][2].linear_params[:4]) - 10\n",
    "y1 = np.amax(plot_info['row'][2].linear_params[:4]) + 10\n",
    "ax.set_ylim([y0, y1])\n",
    "\n",
    "# row 2\n",
    "i = 0\n",
    "charges = np.array(sorted(list(set(plot_info['row'][i].Z1))))\n",
    "ax.plot(-(charges)**(7/3), plot_info['row'][i].linear_params[:4], 'o', color = plot_info['color'][i], label = plot_info['row_number'][i])\n",
    "\n",
    "# linregress\n",
    "out = linregress(-(charges)**(7/3), plot_info['row'][i].linear_params[:4])\n",
    "x0 = (y0 - out[1])/out[0] #np.amin(-(charges)**(7/3)) - 20\n",
    "x1 = (y1 - out[1])/out[0] #np.amax(-(charges)**(7/3)) + 20\n",
    "x = np.linspace(x0, x1, 1000)\n",
    "linf = out[0]*x+out[1]\n",
    "ax.plot(x, linf, '--', color = plot_info['color'][i])\n",
    "\n",
    "# row 3\n",
    "i = 1\n",
    "charges = np.array(sorted(list(set(plot_info['row'][i].Z1))))\n",
    "ax.plot(-(charges)**(7/3), plot_info['row'][i].linear_params[:4], 'o', color = plot_info['color'][i], label = plot_info['row_number'][i])\n",
    "\n",
    "# linregress\n",
    "out = linregress(-(charges)**(7/3), plot_info['row'][i].linear_params[:4])\n",
    "x0 = (y0 - out[1])/out[0] #np.amin(-(charges)**(7/3)) - 20\n",
    "x1 = (y1 - out[1])/out[0] #np.amax(-(charges)**(7/3)) + 20\n",
    "x = np.linspace(x0, x1, 1000)\n",
    "linf = out[0]*x+out[1]\n",
    "ax.plot(x, linf, '--', color = plot_info['color'][i])\n",
    "\n",
    "# row 4\n",
    "i = 2\n",
    "charges = np.array(sorted(list(set(plot_info['row'][i].Z1))))\n",
    "ax.plot(-(charges)**(7/3), plot_info['row'][i].linear_params[:4], 'o', color = plot_info['color'][i], label = plot_info['row_number'][i])\n",
    "\n",
    "# linregress\n",
    "out = linregress(-(charges)**(7/3), plot_info['row'][i].linear_params[:4])\n",
    "x0 = (y0 - out[1])/out[0] #np.amin(-(charges)**(7/3)) - 20\n",
    "x1 = (y1 - out[1])/out[0] #np.amax(-(charges)**(7/3)) + 20\n",
    "x = np.linspace(x0, x1, 1000)\n",
    "linf = out[0]*x+out[1]\n",
    "ax.plot(x, linf, '--', color = plot_info['color'][i])\n",
    "\n",
    "ax.set_xlabel(r'$-Z^{7/3}$')\n",
    "\n",
    "ax.legend(frameon = False)\n",
    "\n",
    "ax.set_ylabel(r'$n(Z)$ (a.u.)')\n",
    "\n",
    "ax.set_yticks([0,-100, -200])\n",
    "ax.set_yticklabels([])\n",
    "\n",
    "ax.spines['right'].set_visible(False)\n",
    "ax.spines['top'].set_visible(False)\n",
    "\n",
    "plt.savefig('/home/sahre/work/bonding_trends/figures/results/intercepts.svg', bbox_inches = 'tight')"
   ]
  },
  {
   "cell_type": "code",
   "execution_count": null,
   "id": "b4c0ee9a-5daa-4284-b455-a3f7efef7550",
   "metadata": {},
   "outputs": [],
   "source": []
  },
  {
   "cell_type": "code",
   "execution_count": null,
   "id": "3a6b2f67-adcb-4438-9f3f-4915d6b64657",
   "metadata": {},
   "outputs": [],
   "source": [
    "from matplotlib import pyplot as plt\n",
    "import numpy as np"
   ]
  },
  {
   "cell_type": "code",
   "execution_count": null,
   "id": "67357f2a-7a71-483b-b6c7-59eb58fbafb9",
   "metadata": {},
   "outputs": [],
   "source": [
    "x = np.linspace(0, 20, 20)\n",
    "plt.plot(x, -x+-x**(7/3))"
   ]
  },
  {
   "cell_type": "code",
   "execution_count": null,
   "id": "408f8440-a67e-461c-8dad-6a4ec546033b",
   "metadata": {},
   "outputs": [],
   "source": [
    "x = np.linspace(-10, 10, 10000000)\n",
    "f1 = lambda x: (x**2-4)/(x**4-5*x**2+4)+(2*x**2-8)/(x**4-5*x**2+4)\n",
    "\n",
    "plt.plot(x, f1(x))"
   ]
  },
  {
   "cell_type": "code",
   "execution_count": null,
   "id": "3713a7d4-c4a8-4402-a6bd-7f1f97f4f131",
   "metadata": {},
   "outputs": [],
   "source": []
  },
  {
   "cell_type": "code",
   "execution_count": null,
   "id": "e2428521-e251-4c90-b9a6-114baac91ba3",
   "metadata": {},
   "outputs": [],
   "source": [
    "for xp in x:\n",
    "    \n",
    "    if np.abs(f1(xp) - 1) < 1e-5:\n",
    "        print(xp)"
   ]
  }
 ],
 "metadata": {
  "kernelspec": {
   "display_name": "Python 3",
   "language": "python",
   "name": "python3"
  },
  "language_info": {
   "codemirror_mode": {
    "name": "ipython",
    "version": 3
   },
   "file_extension": ".py",
   "mimetype": "text/x-python",
   "name": "python",
   "nbconvert_exporter": "python",
   "pygments_lexer": "ipython3",
   "version": "3.9.5"
  }
 },
 "nbformat": 4,
 "nbformat_minor": 5
}
