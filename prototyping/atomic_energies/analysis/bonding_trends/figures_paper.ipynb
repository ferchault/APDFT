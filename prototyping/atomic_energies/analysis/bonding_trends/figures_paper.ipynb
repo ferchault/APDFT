{
 "cells": [
  {
   "cell_type": "markdown",
   "id": "7b1afdf1-faa3-47b5-bc08-61885cb79902",
   "metadata": {},
   "source": [
    "# Alchemical Energies"
   ]
  },
  {
   "cell_type": "code",
   "execution_count": 49,
   "id": "76db9b24-ad9e-407e-971a-191b8f235efa",
   "metadata": {},
   "outputs": [],
   "source": [
    "import sys\n",
    "sys.path.insert(0, '/home/sahre/git_repositories/APDFT/prototyping/atomic_energies/')\n",
    "import utils_qm as uqm\n",
    "import numpy as np\n",
    "from matplotlib import pyplot as plt\n",
    "\n",
    "import pandas as pd"
   ]
  },
  {
   "cell_type": "code",
   "execution_count": 50,
   "id": "48eb1def-61e2-408b-b16d-57b47f291b09",
   "metadata": {},
   "outputs": [],
   "source": [
    "def get_EZ(element, E1, E2):\n",
    "    comps = ['CC', 'CN', 'CO', 'CF', 'NN', 'NO', 'NF', 'OO', 'OF', 'FF']\n",
    "    energies = []\n",
    "    for i in range(len(comps)):\n",
    "        if element == comps[i][0] and element == comps[i][1]:\n",
    "            energies.append((E1[i]+E2[i])/2)\n",
    "        elif element == comps[i][0]:\n",
    "            energies.append(E1[i])\n",
    "        elif element == comps[i][1]:\n",
    "            energies.append(E2[i])\n",
    "    return(np.array(energies))   "
   ]
  },
  {
   "cell_type": "code",
   "execution_count": 51,
   "id": "0fa16b3d-8348-4b5b-bf10-35fe4b787c99",
   "metadata": {},
   "outputs": [],
   "source": [
    "atomic_energies = pd.read_csv('/data/sahre/projects/atomic-energies/data/bonding_trends/alchemy/atomic_energies.csv')\n",
    "\n",
    "energies_Z = []\n",
    "for el in ['C', 'N', 'O', 'F']:\n",
    "    energies_Z.append(get_EZ(el, atomic_energies['Eb_homo_Z1'], atomic_energies['Eb_homo_Z2']))\n",
    "    \n",
    "energies_ZH = []\n",
    "for el in ['C', 'N', 'O', 'F']:\n",
    "    energies_ZH.append(get_EZ(el, atomic_energies['Eb_homo_Z1_H'], atomic_energies['Eb_homo_Z2_H']))\n"
   ]
  },
  {
   "cell_type": "code",
   "execution_count": 52,
   "id": "83561d83-52f6-456a-b1d6-d15ffb66f092",
   "metadata": {},
   "outputs": [
    {
     "data": {
      "image/png": "[encoded data removed]",
      "text/plain": [
       "<Figure size 288x144 with 1 Axes>"
      ]
     },
     "metadata": {
      "needs_background": "light"
     },
     "output_type": "display_data"
    }
   ],
   "source": [
    "elements = 'heavy'\n",
    "\n",
    "plt.rcParams['font.size'] = 15\n",
    "plt.rcParams['figure.figsize'] = [4,2]\n",
    "\n",
    "fig, ax = plt.subplots(1,1)\n",
    "Z = [6,7,8,9]\n",
    "el = ['C', 'N', 'O', 'F']\n",
    "color = ['tab:gray', 'tab:blue', 'tab:red', 'tab:green']\n",
    "symbol = ['o', 'v', 's', 'D']\n",
    "\n",
    "\n",
    "if elements == 'hydrogen':\n",
    "    for i in range(4):\n",
    "        ax.plot(Z, energies_ZH[i], '--'+symbol[i], color = color[i], label = el[i]+'H')\n",
    "    \n",
    "    ax.spines['bottom'].set_visible(False)\n",
    "    ax.set_xticks([])\n",
    "    ax.set_xticklabels([])\n",
    "else:\n",
    "    for i in range(4):\n",
    "        ax.plot(Z, energies_Z[i], '-'+symbol[i], color = color[i], label = el[i])\n",
    "    ax.set_xlabel(r'$Z_{\\rm{B}}$')\n",
    "    #ax.set_ylabel(r'$E_{\\rm{A}}^{\\rm{el, b}}$ (Ha)')\n",
    "\n",
    "ax.spines['top'].set_visible(False)\n",
    "#plt.savefig('/home/sahre/work/bonding_trends/figures/results/alchemical_binding_energies_heavy_homo_b.svg', bbox_inches = 'tight')"
   ]
  },
  {
   "cell_type": "code",
   "execution_count": 53,
   "id": "890dbbba-5fbb-4d3f-a65f-2dc0ae926319",
   "metadata": {
    "tags": []
   },
   "outputs": [],
   "source": [
    "# energy in diatomic\n",
    "eH_H2 = (-1.029154884995695962e+00 + -1.029154960269883290e+00)/2\n",
    "comps = ['CC', 'CN', 'CO', 'CF', 'NN', 'NO', 'NF', 'OO', 'OF', 'FF']\n",
    "energies_diatomics = dict()\n",
    "for c in comps:\n",
    "    num_h1, num_h2 = uqm.hcount_smiles(c)\n",
    "    en = np.loadtxt(f'/data/sahre/projects/atomic-energies/data/bonding_trends/alchemy/diatomics/{c}/atomic_energies.txt')[:,-1]\n",
    "    if c[0] == c[1]: # homo diatomics\n",
    "        energies_diatomics[f'{c[0]}_{c}'] = (en[0] + en[1])/2 # energy heavy atom A\n",
    "        energies_diatomics[f'{c[0]}H_{c}'] = (en[2:].sum() + 2*eH_H2)/2#/(2*num_h1+2) # average energy of H's attached to A\n",
    "        \n",
    "    else:\n",
    "        energies_diatomics[f'{c[0]}_{c}'] = en[0] # energy heavy atom A\n",
    "        energies_diatomics[f'{c[1]}_{c}'] = en[1] # energy heavy atom B\n",
    "        energies_diatomics[f'{c[0]}H_{c}'] = (en[2:2+num_h1].sum() + eH_H2)#/(num_h1+1) # average energy of H's attached to A\n",
    "        energies_diatomics[f'{c[1]}H_{c}'] = (en[2+num_h1:].sum() + eH_H2)#/(num_h2+1) # average energy of H's attached to B \n",
    "# energy in fragment\n",
    "energies_fragments = dict()\n",
    "for c in ['C', 'N', 'O', 'F']:\n",
    "    en = np.loadtxt(f'/data/sahre/projects/atomic-energies/data/bonding_trends/alchemy/sat_frags/{c}/atomic_energies_sat_frag.txt')[:,-1]\n",
    "    energies_fragments[c] = en[0] # energy heavy atom A\n",
    "    energies_fragments[c+'H'] = en[1:].sum()#en[1:].mean() # average energy of H's attached to A\n",
    "# binding energy\n",
    "energies_bind = dict()\n",
    "for k in energies_diatomics.keys():\n",
    "    frag = k.split('_')[0]\n",
    "    energies_bind[k] = energies_diatomics[k] - energies_fragments[frag]\n",
    "    \n",
    "# get atomic electronic binding energy sorted by nuclear charge of binding partner for all heavy atoms and hydrogens\n",
    "def key2(x):\n",
    "    pattern_list = ['CC', 'CN', 'CO', 'CF', 'NN', 'NO', 'NF', 'OO', 'OF', 'FF']\n",
    "    for i, p in enumerate(pattern_list):\n",
    "        if p in x:\n",
    "            return(i)\n",
    "        \n",
    "energies_bind_sorted = dict()\n",
    "\n",
    "for el in ['C', 'N', 'O', 'F']:\n",
    "    el_list = []\n",
    "    el_list_H = []\n",
    "    for k in energies_bind.keys():\n",
    "        if k.split('_')[0] == el:\n",
    "            el_list.append(k)\n",
    "        elif k.split('_')[0] == el+'H':\n",
    "            el_list_H.append(k)\n",
    "    \n",
    "    el_list = sorted(el_list, key=key2)\n",
    "    el_list_H = sorted(el_list_H, key=key2)\n",
    "    \n",
    "    energies_bind_sorted[el] = []\n",
    "    for k in el_list:\n",
    "         energies_bind_sorted[el].append(energies_bind[k])\n",
    "            \n",
    "    energies_bind_sorted[el+'H'] = []\n",
    "    for k in el_list_H:\n",
    "         energies_bind_sorted[el+'H'].append(energies_bind[k]) "
   ]
  },
  {
   "cell_type": "code",
   "execution_count": 54,
   "id": "7627b243-2272-496e-a6c0-0a049559e9d9",
   "metadata": {
    "tags": []
   },
   "outputs": [
    {
     "data": {
      "text/plain": [
       "Text(0, 0.5, '$E_{\\\\rm{A}}^{\\\\rm{el, b}}$ (Ha)')"
      ]
     },
     "execution_count": 54,
     "metadata": {},
     "output_type": "execute_result"
    },
    {
     "data": {
      "image/png": "[encoded data removed]",
      "text/plain": [
       "<Figure size 288x288 with 1 Axes>"
      ]
     },
     "metadata": {
      "needs_background": "light"
     },
     "output_type": "display_data"
    }
   ],
   "source": [
    "plt.rcParams['font.size'] = 15\n",
    "plt.rcParams['figure.figsize'] = [4,4]\n",
    "\n",
    "fig, ax = plt.subplots(1,1)\n",
    "Z = [6,7,8,9]\n",
    "el = ['C', 'N', 'O', 'F']\n",
    "color = ['tab:gray', 'tab:blue', 'tab:red', 'tab:green']\n",
    "symbol = ['o', 'v', 's', 'D']\n",
    "for i in range(4):\n",
    "    ax.plot(Z, energies_bind_sorted[el[i]], '-'+symbol[i], color = color[i], label = el[i])\n",
    "    ax.plot(Z, energies_bind_sorted[el[i]+'H'], '--'+symbol[i], color = color[i], label = el[i]+'H')\n",
    "    \n",
    "ax.set_xlabel(r'$Z_{\\rm{B}}$')\n",
    "ax.set_ylabel(r'$E_{\\rm{A}}^{\\rm{el, b}}$ (Ha)')\n",
    "#ax.legend(bbox_to_anchor = [1.05, 1])\n",
    "#plt.savefig('/home/sahre/work/bonding_trends/figures/results/alchemical_binding_energies_heavy.svg', bbox_inches = 'tight')"
   ]
  },
  {
   "cell_type": "markdown",
   "id": "d79fe55c-3f69-4e23-8081-3d8c997942e9",
   "metadata": {},
   "source": [
    "# Fit of binding energy"
   ]
  },
  {
   "cell_type": "code",
   "execution_count": 75,
   "id": "665ba17a-e949-43ba-af27-cccb1bcf3674",
   "metadata": {},
   "outputs": [],
   "source": [
    "import pandas as pd\n",
    "import numpy as np\n",
    "from matplotlib import pyplot as plt\n",
    "\n",
    "import sys\n",
    "sys.path.insert(0, '/home/sahre/git_repositories/APDFT/prototyping/atomic_energies/')\n",
    "import utils_qm as uqm\n",
    "import bt_tools as bt"
   ]
  },
  {
   "cell_type": "code",
   "execution_count": 76,
   "id": "e5fb5190-be55-4e3a-bb8a-bc8b2af970e4",
   "metadata": {},
   "outputs": [],
   "source": [
    "# load data"
   ]
  },
  {
   "cell_type": "code",
   "execution_count": 87,
   "id": "8b7140f3-2ecc-43c5-a633-6f4215aac8bc",
   "metadata": {},
   "outputs": [],
   "source": [
    "data = pd.read_csv('/data/sahre/projects/atomic-energies/data/bonding_trends/pbe0_data/energies_homolytic.csv')\n",
    "data_2 = data.loc[(data['Z1'] >= 6) & (data['Z1'] <= 9) & (data['Z2'] >= 6) & (data['Z2'] <= 9)].to_dict('list')\n",
    "data_3 = data.loc[(data['Z1'] >= 14) & (data['Z2'] >= 14) & (data['Z1'] <= 17) & (data['Z2'] <= 17)].to_dict('list')\n",
    "data_4 = data.loc[(data['Z1'] >= 32) & (data['Z2'] >= 32) & (data['Z1'] <= 35) & (data['Z2'] <= 35)].to_dict('list')\n",
    "data_234 = data.loc[(data['Z1'] <= 9) & (data['Z2'] <= 9) | (data['Z1'] >= 14) & (data['Z2'] >= 14) & (data['Z1'] <= 17) & (data['Z2'] <= 17) | (data['Z1'] >= 32) & (data['Z2'] >= 32) & (data['Z1'] <= 35) & (data['Z2'] <= 35)].to_dict('list')\n",
    "\n",
    "for d in [data_2, data_3, data_4, data_234]:\n",
    "    d['unit'] = 630\n",
    "    d['bfe type'] = 'homo'\n",
    "    #d['nbfe'] = np.array(d['Z1'])*np.array(d['Z2'])-(np.array(d['Z1'])+np.array(d['Z2']))"
   ]
  },
  {
   "cell_type": "code",
   "execution_count": 88,
   "id": "f3ca04ed-eacb-41ab-86dd-136b5d415e56",
   "metadata": {},
   "outputs": [
    {
     "name": "stdout",
     "output_type": "stream",
     "text": [
      "MAE = 0.51 (0.02)\n",
      "MAE = 0.39 (0.03)\n",
      "MAE = 0.33 (0.03)\n"
     ]
    }
   ],
   "source": [
    "# do linear fits\n",
    "b2 = bt.BDE_clean.fromdict(data_2)\n",
    "b3 = bt.BDE_clean.fromdict(data_3)\n",
    "b4 = bt.BDE_clean.fromdict(data_4)\n",
    "for b in [b2, b3, b4]:\n",
    "    b.linear_fit()\n",
    "    rounded_MAE = np.round((np.abs(b.bde-b.bde_fitted)).mean(),2)\n",
    "    rounded_MAE_std = np.round(rounded_MAE/b.bde.std(), 2)\n",
    "    print(f'MAE = {rounded_MAE} ({rounded_MAE_std})')"
   ]
  },
  {
   "cell_type": "code",
   "execution_count": 89,
   "id": "7acea333-5a4e-412a-83bd-25f339206c2a",
   "metadata": {},
   "outputs": [
    {
     "data": {
      "text/plain": [
       "0.41"
      ]
     },
     "execution_count": 89,
     "metadata": {},
     "output_type": "execute_result"
    }
   ],
   "source": [
    "(0.51+0.39+0.33)/3"
   ]
  },
  {
   "cell_type": "code",
   "execution_count": 90,
   "id": "febe9faf-2ced-43f7-88a1-fdc4579d7736",
   "metadata": {},
   "outputs": [
    {
     "name": "stdout",
     "output_type": "stream",
     "text": [
      "0.5\n",
      "0.4\n",
      "0.4\n",
      "MAE 0.43333333333333335\n"
     ]
    }
   ],
   "source": [
    "# rounding of paramenters for table in paper\n",
    "for b in [b2, b3, b4]:\n",
    "    print(np.round(np.abs((np.round(b.linear_params, 2)@b.coeff_mat.T + b.nbfe) - b.bfe).mean(),1))\n",
    "    \n",
    "print(\"MAE\", (0.5+0.4+0.4)/3)"
   ]
  },
  {
   "cell_type": "code",
   "execution_count": null,
   "id": "f427992d-f735-4ea9-a44f-55901f82fb9c",
   "metadata": {},
   "outputs": [],
   "source": []
  },
  {
   "cell_type": "code",
   "execution_count": 91,
   "id": "0e352a6b-b570-4823-a799-7dd4fcb24ba0",
   "metadata": {},
   "outputs": [
    {
     "name": "stdout",
     "output_type": "stream",
     "text": [
      "2 & (-207.46, -1863.63) & (-269.67, -2171.83) & (-324.3, -2482.86) & (-398.27, -2792.88) \\\\\n",
      "3 & (-188.96, -4399.26) & (-246.49, -4710.67) & (-347.19, -5020.47) & (-444.91, -5330.66) \\\\\n",
      "4 & (-183.9, -10075.38) & (-221.21, -10389.11) & (-350.31, -10700.56) & (-488.04, -11011.83) \\\\\n"
     ]
    }
   ],
   "source": [
    "for n, b in zip([2,3,4], [b2, b3, b4]):\n",
    "    rounded_params = np.round(b.linear_params, 2)\n",
    "    row_vals = f\"{n} & \"\n",
    "    for i in range(4):\n",
    "        if i < 3:\n",
    "            row_vals += f'({rounded_params[i]}, {rounded_params[i+4]}) & '\n",
    "        else:\n",
    "            row_vals += f'({rounded_params[i]}, {rounded_params[i+4]}) \\\\\\\\'\n",
    "    print(row_vals)"
   ]
  },
  {
   "cell_type": "code",
   "execution_count": 92,
   "id": "d2eb0b78-4885-4028-a224-fd2b28c7ebac",
   "metadata": {},
   "outputs": [
    {
     "data": {
      "text/plain": [
       "'4 & (-183.9, -10075.38) & (-221.21, -10389.11) & (-350.31, -10700.56) & (-488.04, -11011.83) \\\\\\\\'"
      ]
     },
     "execution_count": 92,
     "metadata": {},
     "output_type": "execute_result"
    }
   ],
   "source": [
    "row_vals"
   ]
  },
  {
   "cell_type": "code",
   "execution_count": null,
   "id": "85189e7d-99b9-4d52-840f-9af6cdf857cc",
   "metadata": {},
   "outputs": [],
   "source": []
  },
  {
   "cell_type": "code",
   "execution_count": 93,
   "id": "d74d7797-c5fe-44c9-81ee-f35bdaf592fa",
   "metadata": {},
   "outputs": [
    {
     "name": "stdout",
     "output_type": "stream",
     "text": [
      "MAE = 1.0 (0.04)\n",
      "MAE = 2.35 (0.17)\n",
      "MAE = 2.17 (0.21)\n"
     ]
    }
   ],
   "source": [
    "# non-linear fits\n",
    "\n",
    "def non_linear_model(var, a, b, c):\n",
    "    Z1, Z2 = var.T\n",
    "    gamma = 7/3\n",
    "    ebfe = -a**2 - b**2*Z1*Z2 - c**2*(Z1**(gamma)+Z2**(gamma))\n",
    "    return(ebfe)\n",
    "\n",
    "# do linear fits\n",
    "b2_nl = bt.BDE_clean.fromdict(data_2)\n",
    "b3_nl = bt.BDE_clean.fromdict(data_3)\n",
    "b4_nl = bt.BDE_clean.fromdict(data_4)\n",
    "\n",
    "for b in [b2_nl, b3_nl, b4_nl]:\n",
    "    b.fit(non_linear_model, p0 = [33.3052603 , 24.97639216,  0.90171214])\n",
    "    #print('MAE = ' + str((np.abs(b.bde-b.bde_fitted)).mean()))\n",
    "    rounded_MAE = np.round((np.abs(b.bde-b.bde_fitted)).mean(),2)\n",
    "    rounded_MAE_std = np.round(rounded_MAE/b.bde.std(), 2)\n",
    "    print(f'MAE = {rounded_MAE} ({rounded_MAE_std})')"
   ]
  },
  {
   "cell_type": "code",
   "execution_count": 94,
   "id": "8fe98d85-65c4-43a8-a05c-f0bbd287fbed",
   "metadata": {},
   "outputs": [
    {
     "data": {
      "text/plain": [
       "1.8399999999999999"
      ]
     },
     "execution_count": 94,
     "metadata": {},
     "output_type": "execute_result"
    }
   ],
   "source": [
    "(1+2.35+2.17)/3"
   ]
  },
  {
   "cell_type": "code",
   "execution_count": 96,
   "id": "06469abd-f656-4fa1-8a6a-4bfb7de15e6f",
   "metadata": {},
   "outputs": [
    {
     "data": {
      "text/plain": [
       "5.123333333333334"
      ]
     },
     "execution_count": 96,
     "metadata": {},
     "output_type": "execute_result"
    }
   ],
   "source": [
    "# error including III main group\n",
    "(5.86+5.94+3.57)/3"
   ]
  },
  {
   "cell_type": "code",
   "execution_count": 11,
   "id": "a8c3e866-5a30-4718-a562-88dfdf506e89",
   "metadata": {},
   "outputs": [],
   "source": [
    "# a = []\n",
    "# b_param = []\n",
    "# c = []\n",
    "# for b in [b2_nl, b3_nl, b4_nl]:\n",
    "#     a.append((b.params[0]**2)[0])\n",
    "#     b_param.append((b.params[0]**2)[1]-630)\n",
    "#     c.append((b.params[0]**2)[2])\n",
    "    \n",
    "# parameter_table = pd.DataFrame({'a':a, 'b':b_param, 'c':c})\n",
    "# parameter_table.to_csv('/data/sahre/projects/atomic-energies/data/bonding_trends/other_data/params_nl.csv')"
   ]
  },
  {
   "cell_type": "markdown",
   "id": "97b7401c-60e0-4f90-b2cc-6fe349d0cd54",
   "metadata": {},
   "source": [
    "#### Pauling"
   ]
  },
  {
   "cell_type": "code",
   "execution_count": 19,
   "id": "9c4efbe0-46d4-4f17-ae73-de25a95871e8",
   "metadata": {},
   "outputs": [
    {
     "name": "stdout",
     "output_type": "stream",
     "text": [
      "MAE = 1.45 (0.06)\n",
      "MAE = 2.03 (0.15)\n",
      "MAE = 0.62 (0.06)\n"
     ]
    }
   ],
   "source": [
    "chi = {'H':2.1, 'Li':1.0, 'B':2.0, 'C':2.5, 'N':3.0, 'O':3.5, 'F':4.0, 'Si':1.8, 'P':2.1, 'S':2.5, 'Cl':3.0,\n",
    "      'Ge':1.8, 'As':2.0, 'Se':2.4, 'Br':2.8, 'I':2.5}\n",
    "\n",
    "Z2el = {5:'B', 6:'C', 7:'N', 8:'O', 9:'F', 14:'Si', 15:'P', 16:'S', 17:'Cl', 32:'Ge', 33:'As', 34:'Se', 35:'Br'}\n",
    "\n",
    "def pauling_model(data):\n",
    "    energies_pauling = []\n",
    "    for ZA, ZB in zip(data['Z1'],data['Z2']):\n",
    "\n",
    "        # get energy ZAZA and ZBZB\n",
    "        E_AA = -data.loc[(data['Z1']==ZA) & (data['Z2']==ZA), 'bfe'].item()*630\n",
    "        E_BB = -data.loc[(data['Z1']==ZB) & (data['Z2']==ZB), 'bfe'].item()*630\n",
    "        # get chi_A, B\n",
    "        el_A = Z2el[ZA]\n",
    "        el_B = Z2el[ZB]\n",
    "\n",
    "        chi_A = chi[el_A]\n",
    "        chi_B = chi[el_B]\n",
    "        # calculate bond energy\n",
    "        E_AB = (E_AA + E_BB)/2 + 23*(chi_A - chi_B)**2\n",
    "        energies_pauling.append(E_AB)\n",
    "    energies_pauling = np.array(energies_pauling)\n",
    "    return(energies_pauling)\n",
    "\n",
    "def get_error(pred, ref, digits=2):\n",
    "    MAE = np.round(np.abs(pred-ref).mean(), digits)\n",
    "    MAE_std = np.round(np.abs(pred-ref).mean()/ref.std(), digits)\n",
    "    return(MAE, MAE_std)\n",
    "\n",
    "pauling_2 = pauling_model(pd.DataFrame(data_2))\n",
    "MAE_2, MAE_std_2 = get_error(pauling_2, b2_nl.bde, digits=2)\n",
    "print(f'MAE = {MAE_2} ({MAE_std_2})')\n",
    "\n",
    "pauling_3 = pauling_model(pd.DataFrame(data_3))\n",
    "MAE_3, MAE_std_3 = get_error(pauling_3, b3_nl.bde, digits=2)\n",
    "print(f'MAE = {MAE_3} ({MAE_std_3})')\n",
    "\n",
    "pauling_4 = pauling_model(pd.DataFrame(data_4))\n",
    "MAE_4, MAE_std_4 = get_error(pauling_4, b4_nl.bde, digits=2)\n",
    "print(f'MAE = {MAE_4} ({MAE_std_4})')"
   ]
  },
  {
   "cell_type": "code",
   "execution_count": 21,
   "id": "ce63de81-e1b2-4b2e-8d3f-0b5cc1f111b6",
   "metadata": {},
   "outputs": [],
   "source": [
    "def pauling_delta_chi(data):\n",
    "    delta_chi = []\n",
    "    for ZA, ZB in zip(data['Z1'],data['Z2']):\n",
    "\n",
    "        # get chi_A, B\n",
    "        el_A = Z2el[ZA]\n",
    "        el_B = Z2el[ZB]\n",
    "\n",
    "        chi_A = chi[el_A]\n",
    "        chi_B = chi[el_B]\n",
    "        # calculate bond energy\n",
    "\n",
    "        delta_chi.append(np.abs(chi_A-chi_B))\n",
    "    delta_chi = np.array(delta_chi)\n",
    "    return(delta_chi)\n"
   ]
  },
  {
   "cell_type": "code",
   "execution_count": 30,
   "id": "842bd864-d9d7-46cd-a876-2b51a6e6e57f",
   "metadata": {},
   "outputs": [],
   "source": [
    "chi_2 = pauling_delta_chi(pd.DataFrame(data_2))\n",
    "chi_3 = pauling_delta_chi(pd.DataFrame(data_3))\n",
    "chi_4 = pauling_delta_chi(pd.DataFrame(data_4))"
   ]
  },
  {
   "cell_type": "code",
   "execution_count": 40,
   "id": "8c650269-c59f-4384-99c7-c2f3e2d4170b",
   "metadata": {},
   "outputs": [
    {
     "data": {
      "image/png": "[encoded data removed]",
      "text/plain": [
       "<Figure size 432x432 with 1 Axes>"
      ]
     },
     "metadata": {
      "needs_background": "light"
     },
     "output_type": "display_data"
    }
   ],
   "source": [
    "plt.rcParams['figure.figsize'] = [6,6]\n",
    "plt.rcParams['font.size'] = 16\n",
    "plt.plot(chi_2, np.abs(pauling_2-b2_nl.bde), 'o', label = 'row 2')\n",
    "plt.plot(chi_3, np.abs(pauling_3-b3_nl.bde), 'o', label = 'row 3')\n",
    "plt.plot(chi_4, np.abs(pauling_4-b4_nl.bde), 'o', label = 'row 4')\n",
    "\n",
    "plt.xlabel(r'$\\Delta \\chi$')\n",
    "plt.ylabel(r'MAE (kcal/mol)')\n",
    "plt.legend(frameon = False)\n",
    "\n",
    "plt.savefig(f'/home/sahre/work/bonding_trends/figures/results/chi_vs_MAE.png', bbox_inches = 'tight')"
   ]
  },
  {
   "cell_type": "code",
   "execution_count": 18,
   "id": "2b34c8df-07b7-4958-a912-2d6243a1590f",
   "metadata": {
    "tags": []
   },
   "outputs": [
    {
     "data": {
      "image/png": "[encoded data removed]",
      "text/plain": [
       "<Figure size 432x648 with 1 Axes>"
      ]
     },
     "metadata": {
      "needs_background": "light"
     },
     "output_type": "display_data"
    }
   ],
   "source": [
    "row = 2\n",
    "\n",
    "if row == 2:\n",
    "    bd = b2\n",
    "    bd_nl = b2_nl\n",
    "    ZB = [6,7,8,9]\n",
    "#     ZB = [5, 6,7,8,9]\n",
    "    color = ['#7f7f7fff', '#1f77b4ff', '#d62728ff', '#2ca02cff']\n",
    "    pauling = pauling_2\n",
    "    xlabel = ['C', 'N', 'O', 'F']\n",
    "elif row == 3:\n",
    "    bd = b3\n",
    "    bd_nl = b3_nl\n",
    "    ZB = [14, 15, 16, 17]\n",
    "    pauling = pauling_3\n",
    "    color = ['#ecbe90ff', '#df770eff', '#d5d528ff', '#1ca01cff']\n",
    "    xlabel = ['Si', 'P', 'S', 'Cl']\n",
    "elif row == 4:\n",
    "    bd = b4\n",
    "    bd_nl = b4_nl\n",
    "    ZB = [32, 33, 34, 35]\n",
    "    pauling = pauling_4\n",
    "    color = ['#567676ff', '#a977c8ff', '#f4a51dff', '#942a2aff']\n",
    "    xlabel = ['Ge', 'As', 'Se', 'Br']\n",
    "    \n",
    "\n",
    "plt.rcParams['figure.figsize'] = [6,9]\n",
    "plt.rcParams['font.size'] = 25\n",
    "\n",
    "fig, ax = plt.subplots(1,1)\n",
    "\n",
    "\n",
    "ax.plot(ZB,bd.bde[0:4], '-o', color = color[0], label = 'DFT')\n",
    "# ax.plot(ZB,bd.bde_fitted[0:4], '--v', color = color[0], label = 'Model 1')\n",
    "ax.plot(ZB,bd_nl.bde_fitted[0:4], '-.^', color = color[0], label = 'our model')\n",
    "ax.plot(ZB,pauling[0:4], '--s', color = color[0], label = 'Pauling')\n",
    "\n",
    "ax.plot(ZB[1:],bd.bde[4:7], '-o', color = color[1])\n",
    "# ax.plot(ZB[1:],bd.bde_fitted[4:7], '--v', color = color[1])\n",
    "ax.plot(ZB[1:],bd_nl.bde_fitted[4:7], '-.^', color = color[1])\n",
    "ax.plot(ZB[1:],pauling[4:7], '--s', color = color[1])\n",
    "\n",
    "ax.plot(ZB[2:],bd.bde[7:9], '-o', color = color[2])\n",
    "# ax.plot(ZB[2:],bd.bde_fitted[7:9], '--v', color = color[2])\n",
    "ax.plot(ZB[2:],bd_nl.bde_fitted[7:9], '-.^', color = color[2])\n",
    "ax.plot(ZB[2:],pauling[7:9], '--s', color = color[2])\n",
    "\n",
    "ax.plot(ZB[3:],bd.bde[9:10], '-o', color = color[3])\n",
    "# ax.plot(ZB[3:],bd.bde_fitted[9:10], '--s', color = color[3])\n",
    "ax.plot(ZB[3:],bd_nl.bde_fitted[9:10], '-.^', color = color[3])\n",
    "ax.plot(ZB[3:],pauling[9:10], '--s', color = color[3])\n",
    "\n",
    "# ax.set_xlabel(r'$Z_{\\rm{B}}$')\n",
    "ax.set_xticks(ZB)\n",
    "ax.set_xticklabels(xlabel)\n",
    "\n",
    "ax.spines['right'].set_visible(False)\n",
    "ax.spines['top'].set_visible(False)\n",
    "\n",
    "if row > 2:\n",
    "    ax.spines['left'].set_visible(False)\n",
    "    ax.set_yticklabels([])\n",
    "    ax.set_yticks([])\n",
    "else:\n",
    "    ax.set_ylabel(r'$E_{\\rm{AB}}$ (kcal/mol)')\n",
    "#ax.legend(frameon = False)\n",
    "\n",
    "ax.set_ylim([23, 123])\n",
    "# plt.savefig(f'/home/sahre/work/bonding_trends/figures/results/r{row}_nl_pauling_pbe0_models_5.0.svg', bbox_inches = 'tight')\n",
    "\n",
    "# ax.legend(frameon = False)\n",
    "# plt.savefig(f'/home/sahre/work/bonding_trends/figures/results/legend.svg', bbox_inches = 'tight')"
   ]
  },
  {
   "cell_type": "code",
   "execution_count": null,
   "id": "bafff758-709c-49ae-9f55-c11f1d30807b",
   "metadata": {
    "tags": []
   },
   "outputs": [],
   "source": [
    "row = 2\n",
    "\n",
    "if row == 2:\n",
    "    bd = b2\n",
    "    bd_nl = b2_nl\n",
    "    ZB = [6,7,8,9]\n",
    "    color = ['tab:gray', 'tab:blue', 'tab:red', 'tab:green']\n",
    "elif row == 3:\n",
    "    bd = b3\n",
    "    bd_nl = b3_nl\n",
    "    ZB = [14, 15, 16, 17]\n",
    "    color = ['#ecbe90ff', '#df770eff', '#d5d528ff', '#1ca01cff']\n",
    "elif row == 4:\n",
    "    bd = b4\n",
    "    bd_nl = b4_nl\n",
    "    ZB = [32, 33, 34, 35]\n",
    "    color = ['#567676ff', '#a977c8ff', '#f4a51dff', '#942a2aff']\n",
    "    \n",
    "\n",
    "plt.rcParams['figure.figsize'] = [6,6]\n",
    "plt.rcParams['font.size'] = 18\n",
    "\n",
    "fig, ax = plt.subplots(1,1)\n",
    "\n",
    "\n",
    "ax.plot(ZB,bd.bde[0:4], '-o', color = color[0], label = 'Truth', fillstyle='full')\n",
    "ax.plot(ZB,bd.bde_fitted[0:4], '--v', color = color[0], label = 'Model 1', fillstyle='full')\n",
    "ax.plot(ZB,bd_nl.bde_fitted[0:4], '-.^', color = color[0], label = 'Model 2', fillstyle='full')\n",
    "\n",
    "ax.plot(ZB[1:],bd.bde[4:7], '-o', color = color[1])\n",
    "ax.plot(ZB[1:],bd.bde_fitted[4:7], '--v', color = color[1])\n",
    "ax.plot(ZB[1:],bd_nl.bde_fitted[4:7], '-.^', color = color[1])\n",
    "\n",
    "ax.plot(ZB[2:],bd.bde[7:9], '-o', color = color[2])\n",
    "ax.plot(ZB[2:],bd.bde_fitted[7:9], '--v', color = color[2])\n",
    "ax.plot(ZB[2:],bd.bde_fitted[7:9], '-.^', color = color[2])\n",
    "\n",
    "ax.plot(ZB[3:],bd.bde[9:10], '-o', color = color[3], fillstyle='full')\n",
    "ax.plot(ZB[3:],bd_nl.bde_fitted[9:10], '--v', color = color[3], fillstyle='full')\n",
    "ax.plot(ZB[3:],bd_nl.bde_fitted[9:10], '-.^', color = color[3], fillstyle='full')\n",
    "\n",
    "#ax.set_ylim([35, 117])\n",
    "\n",
    "ax.set_xlabel(r'$Z_{\\rm{B}}$')\n",
    "ax.set_ylabel(r'$E_{\\rm{AB}}$ (kcal/mol)')\n",
    "\n",
    "ax.spines['right'].set_visible(False)\n",
    "ax.spines['top'].set_visible(False)\n",
    "ax.legend(frameon = False)\n",
    "ax.set_ylim([23, 123])\n",
    "\n",
    "# plt.savefig('/home/sahre/work/bonding_trends/figures/results/r3_all_models_fixed_y_narrow.svg', bbox_inches = 'tight')"
   ]
  },
  {
   "cell_type": "code",
   "execution_count": null,
   "id": "78cb6244-6c6b-41cb-a08c-3e3f3007b8e9",
   "metadata": {},
   "outputs": [],
   "source": [
    "row = 3\n",
    "\n",
    "if row == 2:\n",
    "    bd = b2\n",
    "    bd_nl = b2_nl\n",
    "    ZB = [6,7,8,9]\n",
    "    color = ['tab:gray', 'tab:blue', 'tab:red', 'tab:green']\n",
    "elif row == 3:\n",
    "    bd = b3\n",
    "    bd_nl = b3_nl\n",
    "    ZB = [14, 15, 16, 17]\n",
    "    color = ['#ecbe90ff', '#df770eff', '#d5d528ff', '#1ca01cff']\n",
    "elif row == 4:\n",
    "    bd = b4\n",
    "    bd_nl = b4_nl\n",
    "    ZB = [32, 33, 34, 35]\n",
    "    color = ['#567676ff', '#a977c8ff', '#f4a51dff', '#942a2aff']\n",
    "    \n",
    "\n",
    "plt.rcParams['figure.figsize'] = [6,6]\n",
    "plt.rcParams['font.size'] = 18\n",
    "\n",
    "fig, ax = plt.subplots(1,1)\n",
    "\n",
    "\n",
    "ax.plot(ZB,bd.bde[0:4], '-o', color = color[0], label = 'Truth', fillstyle='full')\n",
    "ax.plot(ZB,bd.bde_fitted[0:4], '--v', color = color[0], label = 'Model 1', fillstyle='full')\n",
    "#ax.plot(ZB,bd_nl.bde_fitted[0:4], '-.^', color = color[0], label = 'Model 2', fillstyle='full')\n",
    "\n",
    "ax.plot(ZB[1:],bd.bde[4:7], '-o', color = color[1])\n",
    "ax.plot(ZB[1:],bd.bde_fitted[4:7], '--v', color = color[1])\n",
    "#ax.plot(ZB[1:],bd_nl.bde_fitted[4:7], '-.^', color = color[1])\n",
    "\n",
    "ax.plot(ZB[2:],bd.bde[7:9], '-o', color = color[2])\n",
    "ax.plot(ZB[2:],bd.bde_fitted[7:9], '--v', color = color[2])\n",
    "#ax.plot(ZB[2:],bd.bde_fitted[7:9], '-.^', color = color[2])\n",
    "\n",
    "ax.plot(ZB[3:],bd.bde[9:10], '-o', color = color[3], fillstyle='full')\n",
    "ax.plot(ZB[3:],bd_nl.bde_fitted[9:10], '--v', color = color[3], fillstyle='full')\n",
    "#ax.plot(ZB[3:],bd_nl.bde_fitted[9:10], '-.^', color = color[3], fillstyle='full')\n",
    "\n",
    "#ax.set_ylim([35, 117])\n",
    "\n",
    "ax.set_xlabel(r'$Z_{\\rm{B}}$')\n",
    "ax.set_ylabel(r'$E_{\\rm{AB}}$ (kcal/mol)')\n",
    "\n",
    "ax.spines['right'].set_visible(False)\n",
    "ax.spines['top'].set_visible(False)\n",
    "ax.legend(frameon = False)\n",
    "ax.set_ylim([23, 123])\n",
    "\n",
    "#plt.savefig(f'/home/sahre/work/bonding_trends/figures/results/blm_{row}.svg', bbox_inches = 'tight')"
   ]
  },
  {
   "cell_type": "markdown",
   "id": "51e5ffef-7195-483e-a96b-a6f3d4241b7f",
   "metadata": {},
   "source": [
    "# Compare Models"
   ]
  },
  {
   "cell_type": "code",
   "execution_count": 41,
   "id": "bf78fb1a-96b6-4a3c-9611-d52edaba10ff",
   "metadata": {},
   "outputs": [
    {
     "data": {
      "text/plain": [
       "<module 'bt_tools' from '/home/sahre/git_repositories/APDFT/prototyping/atomic_energies/bt_tools.py'>"
      ]
     },
     "execution_count": 41,
     "metadata": {},
     "output_type": "execute_result"
    }
   ],
   "source": [
    "import pandas as pd\n",
    "import numpy as np\n",
    "from matplotlib import pyplot as plt\n",
    "\n",
    "import sys\n",
    "sys.path.insert(0, '/home/sahre/git_repositories/APDFT/prototyping/atomic_energies/')\n",
    "import utils_qm as uqm\n",
    "import bt_tools as bt\n",
    "\n",
    "import importlib\n",
    "importlib.reload(bt)"
   ]
  },
  {
   "cell_type": "code",
   "execution_count": 42,
   "id": "825ab994-fe87-49a9-a578-2a3f8e80c757",
   "metadata": {},
   "outputs": [],
   "source": [
    "W4_17 = pd.read_csv('/data/sahre/projects/atomic-energies/data/bonding_trends/other_data/W4-17.csv')\n",
    "bde_W4_17 = -np.array(W4_17['bfe'])\n",
    "\n",
    "G2 = pd.read_csv('/data/sahre/projects/atomic-energies/data/bonding_trends/other_data/G2.csv')\n",
    "bde_G2 = -np.array(G2['bfe'])\n",
    "\n",
    "data_pbe0 = pd.read_csv('/data/sahre/projects/atomic-energies/data/bonding_trends/pbe0_data/energies_homolytic.csv')\n",
    "data_pbe0 = data_pbe0.loc[(data_pbe0['Z1'] >= 6) & (data_pbe0['Z2'] >= 6) & (data_pbe0['Z1'] <= 9) & (data_pbe0['Z2'] <= 9)].to_dict('list')\n",
    "bde_pbe0 = -630*np.array(data_pbe0['bfe'])\n",
    "\n",
    "data_pm7 = uqm.load_obj('/data/sahre/projects/atomic-energies/data/bonding_trends/pm7/bde_pm7_corrected')\n",
    "bde_pm7 = np.array(list(data_pm7.values()))\n",
    "\n",
    "data_pauling = uqm.load_obj('/data/sahre/projects/atomic-energies/data/bonding_trends/other_data/pauling_2_W4-17')\n",
    "bde_pauling = np.array(list(data_pauling.values()))\n",
    "\n",
    "data_ml = uqm.load_obj('/data/sahre/projects/atomic-energies/data/bonding_trends/other_data/bde_ml_W4-17_gaussian_bob')\n",
    "bde_ml = data_ml['BDE (kcal/mol)']\n",
    "\n",
    "data_nlSRL = uqm.load_obj('/data/sahre/projects/atomic-energies/data/bonding_trends/other_data/bde_nlSRL_l1o')\n",
    "bde_nlSRL = np.array(list(data_nlSRL.values()))\n"
   ]
  },
  {
   "cell_type": "code",
   "execution_count": 43,
   "id": "c515213e-4075-4a13-a943-90cb6c0f3a70",
   "metadata": {},
   "outputs": [],
   "source": [
    "mae_g2 = np.nanmean(np.abs(bde_W4_17-bde_G2))\n",
    "mae_pbe0 = (np.abs(bde_W4_17-bde_pbe0)).mean()\n",
    "mae_pm7 = (np.abs(bde_W4_17-bde_pm7)).mean()\n",
    "\n",
    "mae_pauling = (np.abs(bde_W4_17-bde_pauling)).mean()\n",
    "mae_ml = (np.abs(bde_W4_17-bde_ml)).mean()\n",
    "mae_nlSRL = (np.abs(bde_W4_17-bde_nlSRL)).mean()\n"
   ]
  },
  {
   "cell_type": "code",
   "execution_count": 47,
   "id": "782f5274-dc5f-481e-afc1-66430ecc38e0",
   "metadata": {},
   "outputs": [
    {
     "data": {
      "image/png": "[encoded data removed]",
      "text/plain": [
       "<Figure size 360x360 with 1 Axes>"
      ]
     },
     "metadata": {
      "needs_background": "light"
     },
     "output_type": "display_data"
    }
   ],
   "source": [
    "plt.rcParams['font.size'] = 18\n",
    "plt.rcParams['figure.figsize'] = [5,5]\n",
    "\n",
    "fig, ax = plt.subplots(1,1)\n",
    "\n",
    "ref = [25, 150]#np.linspace(np.amin(bde_W4_17), np.amax(bde_W4_17), 3)\n",
    "\n",
    "ax.plot(ref, ref, '--', color = 'tab:gray', linewidth= 1)\n",
    "\n",
    "ax.plot(bde_W4_17, bde_nlSRL, 'd', color = 'tab:red', label = f'our model, MAE = {np.round(mae_nlSRL,1)}')\n",
    "ax.plot(bde_W4_17, bde_pauling, 'v', color = 'tab:blue', label = f'Pauling, MAE = {np.round(mae_pauling,1)}')\n",
    "ax.plot(bde_W4_17, bde_ml, '^', color = 'tab:orange', label = f'ML, MAE = {np.round(mae_ml,1)}')\n",
    "ax.plot(bde_W4_17, bde_pm7, 's', color = 'tab:green', label = f'PM7, MAE = {np.round(mae_pm7,1)}')\n",
    "ax.plot(bde_W4_17, bde_pbe0, 'o', color = 'tab:gray', label = f'PBE0, MAE = {np.round(mae_pbe0,1)}')\n",
    "ax.plot(bde_W4_17, bde_G2, 'o', color = 'black', label = f'G2, MAE = {np.round(mae_g2,1)}')\n",
    "\n",
    "\n",
    "ax.set_xlabel(r'$E_{\\rm{AB}}^{\\rm{W4-17}}$ (kcal/mol)')\n",
    "ax.set_ylabel(r'$E_{\\rm{AB}}^{\\rm{Model}}$ (kcal/mol)')\n",
    "\n",
    "ax.set_xlim([25,150])\n",
    "ax.set_ylim([25,150])\n",
    "\n",
    "ax.legend(bbox_to_anchor=(1.05, 1.0), frameon = False)\n",
    "\n",
    "# plt.savefig('/home/sahre/work/bonding_trends/figures/results/comparison_row2.png', bbox_inches = 'tight')"
   ]
  },
  {
   "cell_type": "code",
   "execution_count": null,
   "id": "82ab23f7-dfaa-4fb8-9a7c-0d03d06add59",
   "metadata": {},
   "outputs": [],
   "source": [
    "bde_ml"
   ]
  },
  {
   "cell_type": "markdown",
   "id": "e6016b4b-5dd1-4f22-9e34-4bea5613b44f",
   "metadata": {},
   "source": [
    "## Robustness of fit"
   ]
  },
  {
   "cell_type": "code",
   "execution_count": null,
   "id": "229ffc85-9da4-4ba1-b1d7-d82a7a3a6541",
   "metadata": {},
   "outputs": [],
   "source": [
    "import pandas as pd\n",
    "import numpy as np\n",
    "from matplotlib import pyplot as plt\n",
    "\n",
    "import sys\n",
    "sys.path.insert(0, '/home/sahre/git_repositories/APDFT/prototyping/atomic_energies/')\n",
    "import utils_qm as uqm\n",
    "import bt_tools as bt\n",
    "\n",
    "import importlib\n",
    "importlib.reload(bt)"
   ]
  },
  {
   "cell_type": "code",
   "execution_count": null,
   "id": "05e4c70b-a5b7-4de8-b845-3d690772f27b",
   "metadata": {},
   "outputs": [],
   "source": [
    "data_pbe0 = pd.read_csv('/data/sahre/projects/atomic-energies/data/bonding_trends/pbe0_data/all_energies.csv')\n",
    "data_pbe0 = data_pbe0.loc[(data_pbe0['Z1'] <= 9) & (data_pbe0['Z2'] <= 9)].to_dict('list')\n",
    "data_pbe0['unit'] = 630\n",
    "b_pbe0_nl = bt.BDE_clean.fromdict(data_pbe0)\n",
    "# data_W4_17 = pd.read_csv('/data/sahre/projects/atomic-energies/data/bonding_trends/other_data/W4-17.csv').to_dict('list')\n",
    "# data_G2 = pd.read_csv('/data/sahre/projects/atomic-energies/data/bonding_trends/other_data/G2.csv').to_dict('list')\n",
    "# data_W4_17['unit'] = 1\n",
    "# data_G2['unit'] = 1\n"
   ]
  },
  {
   "cell_type": "code",
   "execution_count": null,
   "id": "98179cea-bca5-4ccb-af1d-b895f3cf643b",
   "metadata": {},
   "outputs": [],
   "source": [
    "def train(self, tr_ind, model, p0 = None):\n",
    "    if p0 is not None:\n",
    "        self.params_tr = curve_fit(model, self.xdata[tr_ind], self.ebfe[tr_ind], p0, maxfev=100000)\n",
    "    else:\n",
    "        self.params_tr = curve_fit(model, self.xdata[tr_ind], self.ebfe[tr_ind])\n",
    "\n",
    "    self.ebfe_fitted_tr = model(self.xdata[tr_ind], *self.params_tr[0])\n",
    "    self.bde_fitted_tr = -(self.ebfe_fitted_tr + self.nbfe[tr_ind])\n",
    "    self.mae_tr = np.abs(self.bde_fitted_tr-self.bde[tr_ind]).mean()\n",
    "    \n",
    "def predict(self, test_ind, model):\n",
    "    self.ebfe_fitted_test = model(self.xdata[test_ind], *self.params_tr[0])\n",
    "    self.bde_fitted_test = -(self.ebfe_fitted_test + self.nbfe[test_ind])\n",
    "    self.mae_test = np.abs(self.bde_fitted_test-self.bde[test_ind]).mean()\n",
    "    \n",
    "def get_cv(num_cv, tr_size, data):\n",
    "    mae_tr = []\n",
    "    mae_test = []\n",
    "    for i in range(num_cv):\n",
    "        all_ind = np.arange(10)\n",
    "        np.random.shuffle(all_ind)\n",
    "        tr_ind, test_ind = np.sort(all_ind[:tr_size]), np.sort(all_ind[tr_size:])\n",
    "\n",
    "        data.train(tr_ind, non_linear_model)\n",
    "        data.predict(test_ind, non_linear_model)\n",
    "\n",
    "        mae_tr.append(data.mae_tr)\n",
    "        mae_test.append(data.mae_test)\n",
    "\n",
    "    return(np.array(mae_tr).mean(), np.array(mae_test).mean(), np.array(mae_tr).std(), np.array(mae_test).std())"
   ]
  },
  {
   "cell_type": "code",
   "execution_count": null,
   "id": "239b925e-748f-4695-a1bf-83aa46b891b6",
   "metadata": {},
   "outputs": [],
   "source": [
    "mae_tr = []\n",
    "mae_test = []\n",
    "\n",
    "std_tr = []\n",
    "std_test = []\n",
    "\n",
    "for tr_size in [3, 4, 5, 6, 7, 8, 9, 10]:\n",
    "    tr, test, trs, tests = get_cv(10, tr_size, b_pbe0_nl)\n",
    "    mae_tr.append(tr)\n",
    "    mae_test.append(test)\n",
    "    \n",
    "    std_tr.append(trs)\n",
    "    std_test.append(tests)"
   ]
  },
  {
   "cell_type": "code",
   "execution_count": null,
   "id": "bb312df5-a418-4229-a6bc-9a47e640a0ef",
   "metadata": {},
   "outputs": [],
   "source": [
    "plt.rcParams['font.size'] = 15\n",
    "plt.errorbar([3, 4, 5, 6, 7, 8, 9, 10], mae_tr,std_tr, x_err = None, marker = 'o', label = 'training')\n",
    "plt.errorbar([3, 4, 5, 6, 7, 8, 9, 10], mae_test,std_test, x_err = None, marker = 'o', label = 'test')\n",
    "plt.xlabel(r'$N$')\n",
    "plt.ylabel('MAE (kcal/mol)')\n",
    "plt.legend(frameon = False)\n",
    "\n",
    "# plt.savefig('/home/sahre/work/bonding_trends/figures/results/robustness.svg', bbox_inches = 'tight')"
   ]
  },
  {
   "cell_type": "markdown",
   "id": "fb6a8411-a0e8-410f-9e2b-b82bdee4afba",
   "metadata": {},
   "source": [
    "# Molecular structures"
   ]
  },
  {
   "cell_type": "code",
   "execution_count": null,
   "id": "b8467c39-dd2d-4e6b-8e47-946581a0a13a",
   "metadata": {},
   "outputs": [],
   "source": [
    "import ase.io as aio\n",
    "from ase.visualize import view"
   ]
  },
  {
   "cell_type": "code",
   "execution_count": null,
   "id": "da618d53-f82e-4470-80f8-34627dd6565b",
   "metadata": {},
   "outputs": [],
   "source": [
    "\n",
    "comps = ['CC', 'CN', 'CO', 'CF', 'NN', 'NO', 'NF', 'OO', 'OF', 'FF']\n",
    "\n",
    "for c in comps:\n",
    "    view(aio.read(f'/data/sahre/projects/atomic-energies/data/bonding_trends/pbe0_data/row_2/diatomics_single/{c}_opt.xyz'))"
   ]
  },
  {
   "cell_type": "markdown",
   "id": "70a61ef1-d24e-4c14-9800-c436e2940e02",
   "metadata": {},
   "source": [
    "# Plot of slope m vs Z and intercept n vs Z"
   ]
  },
  {
   "cell_type": "code",
   "execution_count": 1,
   "id": "c06f4af1-8487-475f-899c-fa23b7a32f0c",
   "metadata": {},
   "outputs": [],
   "source": [
    "import pandas as pd\n",
    "import numpy as np\n",
    "from matplotlib import pyplot as plt\n",
    "from ase.units import Bohr\n",
    "from scipy.stats import linregress\n",
    "\n",
    "import sys\n",
    "sys.path.insert(0, '/home/sahre/git_repositories/APDFT/prototyping/atomic_energies/')\n",
    "import utils_qm as uqm\n",
    "import bt_tools as bt"
   ]
  },
  {
   "cell_type": "code",
   "execution_count": 9,
   "id": "de3b5acb-d255-471a-bd31-2b8ada031612",
   "metadata": {},
   "outputs": [],
   "source": [
    "def get_nbfe(charges):\n",
    "    nbfe = []\n",
    "    for i in range(len(charges)):\n",
    "        for j in range(i, len(charges)):\n",
    "            nbfe.append(charges[i]*charges[j])\n",
    "            \n",
    "    return(np.array(nbfe))\n",
    "\n",
    "def linear_fit(b):\n",
    "    charges = sorted(list(set(b.Z1)))\n",
    "    m = b.linear_params[4:]\n",
    "\n",
    "    out = linregress(charges, m)\n",
    "    x = np.linspace(0, 36, 10)\n",
    "    linf = out[0]*x+out[1]\n",
    "    return(x, linf)\n",
    "\n"
   ]
  },
  {
   "cell_type": "code",
   "execution_count": 10,
   "id": "33d49923-1858-45ad-8d69-3f361cabf88d",
   "metadata": {},
   "outputs": [],
   "source": [
    "data = pd.read_csv('/data/sahre/projects/atomic-energies/data/bonding_trends/pbe0_data/all_energies.csv')\n",
    "data_2 = data.loc[(data['Z1'] <= 9) & (data['Z2'] <= 9)].to_dict('list')\n",
    "data_3 = data.loc[(data['Z1'] >= 14) & (data['Z2'] >= 14) & (data['Z1'] <= 17) & (data['Z2'] <= 17)].to_dict('list')\n",
    "data_4 = data.loc[(data['Z1'] >= 32) & (data['Z2'] >= 32) & (data['Z1'] <= 35) & (data['Z2'] <= 35)].to_dict('list')\n",
    "data_234 = data.loc[(data['Z1'] <= 9) & (data['Z2'] <= 9) | (data['Z1'] >= 14) & (data['Z2'] >= 14) & (data['Z1'] <= 17) & (data['Z2'] <= 17) | (data['Z1'] >= 32) & (data['Z2'] >= 32) & (data['Z1'] <= 35) & (data['Z2'] <= 35)].to_dict('list')\n",
    "\n",
    "for d in [data_2, data_3, data_4, data_234]:\n",
    "    d['unit'] = 630\n",
    "    d['bfe type'] = 'isodesmic'\n",
    "\n",
    "for d, s in zip([data_2, data_3, data_4, data_234], [1.42, 2.12, 2.36, Bohr]):\n",
    "    charges = sorted(list(set(d['Z1'])))\n",
    "    d['nbfe'] = get_nbfe(charges)/(s/Bohr)\n",
    "# do linear fits\n",
    "b2 = bt.BDE_clean.fromdict(data_2)\n",
    "b3 = bt.BDE_clean.fromdict(data_3)\n",
    "b4 = bt.BDE_clean.fromdict(data_4)\n",
    "for b in [b2, b3, b4]:\n",
    "    b.linear_fit()"
   ]
  },
  {
   "cell_type": "code",
   "execution_count": 19,
   "id": "ce15c58b-27ca-4735-9d83-e31921a80f4f",
   "metadata": {},
   "outputs": [
    {
     "data": {
      "text/plain": [
       "[<matplotlib.lines.Line2D at 0x7f8a87131760>]"
      ]
     },
     "execution_count": 19,
     "metadata": {},
     "output_type": "execute_result"
    },
    {
     "data": {
      "image/png": "[encoded data removed]",
      "text/plain": [
       "<Figure size 576x288 with 1 Axes>"
      ]
     },
     "metadata": {
      "needs_background": "light"
     },
     "output_type": "display_data"
    }
   ],
   "source": [
    "plt.plot(b4.linear_params[:4], '-o')"
   ]
  },
  {
   "cell_type": "code",
   "execution_count": 5,
   "id": "c48b31e3-7320-4a31-892c-00a601671da6",
   "metadata": {},
   "outputs": [
    {
     "data": {
      "text/plain": [
       "array([144653.72969447, 149174.15874742, 153694.58780037, 158215.01685332,\n",
       "       153835.85120828, 158497.54366913, 163159.23612999, 163300.4995379 ,\n",
       "       168103.45540666, 173047.67468332])"
      ]
     },
     "execution_count": 5,
     "metadata": {},
     "output_type": "execute_result"
    }
   ],
   "source": [
    "b.nbfe"
   ]
  },
  {
   "cell_type": "code",
   "execution_count": 20,
   "id": "e3e8fee3-d11b-4d0e-b5fa-e1e61bdce711",
   "metadata": {},
   "outputs": [
    {
     "name": "stdout",
     "output_type": "stream",
     "text": [
      "3.4898271499872475\n",
      "10.047810996997374\n",
      "25.106333750225808\n"
     ]
    },
    {
     "data": {
      "image/png": "[encoded data removed]",
      "text/plain": [
       "<Figure size 576x288 with 1 Axes>"
      ]
     },
     "metadata": {
      "needs_background": "light"
     },
     "output_type": "display_data"
    }
   ],
   "source": [
    "# plot alpha for bond dissociation energy\n",
    "color = {6:'tab:blue', 14:'tab:orange', 32:'tab:green'}\n",
    "label = {6:'row 2', 14:'row 3', 32:'row 4'}\n",
    "marker = {6:'o', 14:'v', 32:'s'}\n",
    "plt.rcParams['figure.figsize'] = [8,4]\n",
    "\n",
    "plt.rcParams['font.size'] = 18\n",
    "fig, ax = plt.subplots(1,1)\n",
    "for b in [b2, b3, b4]:\n",
    "\n",
    "\n",
    "    gamma = 1\n",
    "    alpha = np.linalg.lstsq(b.get_coeff_mat(), -b.ebfe, rcond=None)[0][:4]\n",
    "    beta = np.linalg.lstsq(b.get_coeff_mat(), -b.ebfe, rcond=None)[0][4:]\n",
    "    \n",
    "    Z = np.sort(np.unique(b.Z1))\n",
    "    \n",
    "    ax.scatter(Z**(gamma), alpha, color = color[Z[0]], label = label[Z[0]], marker = f'{marker[Z[0]]}')\n",
    "#     print(alpha)\n",
    "    \n",
    "    # linregress\n",
    "    \n",
    "    # ylim\n",
    "    y0 = np.amin(alpha) - 10\n",
    "    y1 = np.amax(alpha) + 10\n",
    "    \n",
    "    \n",
    "    out = linregress(Z**gamma, alpha)\n",
    "    x0 = (y0 - out[1])/out[0] #np.amin(-(charges)**(7/3)) - 20\n",
    "    x1 = (y1 - out[1])/out[0] #np.amax(-(charges)**(7/3)) + 20\n",
    "#     print(x0, x1)\n",
    "    x = np.linspace(x0, x1, 1000)\n",
    "    linf = out[0]*x+out[1]\n",
    "    ax.plot(x, linf, '--', color = color[Z[0]])\n",
    "    \n",
    "    errors = np.abs((out[0]*Z**gamma+out[1] - alpha)).mean()\n",
    "    print(errors)\n",
    "\n",
    "# ax.set_xlim([0,4200])\n",
    "# ax.set_xticks([0, 500, 3500, 4000])\n",
    "# ax.set_xticklabels(['0','500','3500', '4000'])\n",
    "\n",
    "# ax.set_yticks([0, 100, 200])\n",
    "# ax.set_yticklabels(['','',''])\n",
    "# ax.set_ylabel(r'$\\alpha(Z)$')\n",
    "\n",
    "# ax.spines['right'].set_visible(False)\n",
    "# ax.spines['top'].set_visible(False)\n",
    "\n",
    "# ax.legend(frameon = False)\n",
    "# plt.savefig('/home/sahre/work/bonding_trends/figures/results/alpha_bde_legend.svg')"
   ]
  },
  {
   "cell_type": "markdown",
   "id": "06be189a-5945-4f02-ba50-48645127b357",
   "metadata": {},
   "source": [
    "### plot of $\\alpha$ vs $Z$ individual rows"
   ]
  },
  {
   "cell_type": "code",
   "execution_count": 71,
   "id": "cbd66c7c-76f7-49e4-8033-9a7c9eab6499",
   "metadata": {},
   "outputs": [
    {
     "name": "stdout",
     "output_type": "stream",
     "text": [
      "3.4898271499872475\n"
     ]
    },
    {
     "data": {
      "image/png": "[encoded data removed]",
      "text/plain": [
       "<Figure size 96x288 with 1 Axes>"
      ]
     },
     "metadata": {
      "needs_background": "light"
     },
     "output_type": "display_data"
    }
   ],
   "source": [
    "# plot alpha for bond dissociation energy\n",
    "color = {6:'tab:blue', 14:'tab:orange', 32:'tab:green'}\n",
    "label = {6:'row 2', 14:'row 3', 32:'row 4'}\n",
    "marker = {6:'o', 14:'v', 32:'s'}\n",
    "plt.rcParams['figure.figsize'] = [4/3,4]\n",
    "\n",
    "plt.rcParams['font.size'] = 16\n",
    "fig, ax = plt.subplots(1,1)\n",
    "r=2\n",
    "\n",
    "if r == 2:\n",
    "    b = b2\n",
    "elif r == 3:\n",
    "    b = b3\n",
    "elif r ==4:\n",
    "    b = b4\n",
    "\n",
    "\n",
    "gamma = 1\n",
    "alpha = np.linalg.lstsq(b.get_coeff_mat(), -b.ebfe, rcond=None)[0][:4]\n",
    "beta = np.linalg.lstsq(b.get_coeff_mat(), -b.ebfe, rcond=None)[0][4:]\n",
    "\n",
    "Z = np.sort(np.unique(b.Z1))\n",
    "\n",
    "ax.scatter(Z**(gamma), alpha, color = color[Z[0]], label = label[Z[0]], marker = f'{marker[Z[0]]}')\n",
    "ax.plot(Z**(gamma), alpha, '-', color = color[Z[0]])\n",
    "#     print(alpha)\n",
    "\n",
    "# linregress\n",
    "\n",
    "# ylim\n",
    "y0 = np.amin(alpha) - 10\n",
    "y1 = np.amax(alpha) + 10\n",
    "\n",
    "\n",
    "out = linregress(Z**gamma, alpha)\n",
    "x0 = (y0 - out[1])/out[0] #np.amin(-(charges)**(7/3)) - 20\n",
    "x1 = (y1 - out[1])/out[0] #np.amax(-(charges)**(7/3)) + 20\n",
    "#     print(x0, x1)\n",
    "x = np.linspace(x0, x1, 1000)\n",
    "linf = out[0]*x+out[1]\n",
    "#     ax.plot(x, linf, '--', color = color[Z[0]])\n",
    "\n",
    "errors = np.abs((out[0]*Z**gamma+out[1] - alpha)).mean()\n",
    "print(errors)\n",
    "\n",
    "# ax.set_xlim([0,4200])\n",
    "ax.set_xticks(Z)\n",
    "# ax.set_xticklabels(['0','500','3500', '4000'])\n",
    "\n",
    "if r == 2:\n",
    "    ax.set_ylabel(r'$\\alpha(Z)$')\n",
    "    ax.set_yticklabels([])\n",
    "else:\n",
    "    ax.set_yticks([])\n",
    "    ax.spines['left'].set_visible(False)\n",
    "\n",
    "ax.spines['right'].set_visible(False)\n",
    "ax.spines['top'].set_visible(False)\n",
    "\n",
    "ax.set_ylim([-55, 240])\n",
    "# ax.legend(frameon = False)\n",
    "plt.savefig(f'/home/sahre/work/bonding_trends/figures/results/alpha_bde_row{r}.svg')"
   ]
  },
  {
   "cell_type": "code",
   "execution_count": 50,
   "id": "bdb2db79-8faf-4538-ac90-bfc550f0182b",
   "metadata": {},
   "outputs": [
    {
     "data": {
      "text/plain": [
       "array([-49.05589478, -19.02439362, 102.78637486, 233.24321101])"
      ]
     },
     "execution_count": 50,
     "metadata": {},
     "output_type": "execute_result"
    }
   ],
   "source": [
    "alpha"
   ]
  },
  {
   "cell_type": "code",
   "execution_count": 40,
   "id": "d00bee68-b2a9-4de6-a7f2-4493605998a5",
   "metadata": {},
   "outputs": [
    {
     "name": "stdout",
     "output_type": "stream",
     "text": [
      "0.5148622887490149\n",
      "0.3037233313241927\n",
      "0.6160215301357539\n"
     ]
    },
    {
     "data": {
      "image/png": "[encoded data removed]",
      "text/plain": [
       "<Figure size 288x288 with 1 Axes>"
      ]
     },
     "metadata": {
      "needs_background": "light"
     },
     "output_type": "display_data"
    }
   ],
   "source": [
    "color = {6:'tab:blue', 14:'tab:orange', 32:'tab:green'}\n",
    "label = {6:'row 2', 14:'row 3', 32:'row 4'}\n",
    "marker = {6:'o', 14:'v', 32:'s'}\n",
    "\n",
    "plt.rcParams['font.size'] = 18\n",
    "\n",
    "plt.rcParams['figure.figsize'] = [4,4]\n",
    "\n",
    "fig, ax = plt.subplots(1,1)\n",
    "\n",
    "for b in [b2, b3, b4]:\n",
    "    gamma = 1\n",
    "    alpha = np.linalg.lstsq(b.get_coeff_mat(), -b.ebfe, rcond=None)[0][:4]\n",
    "    beta = np.linalg.lstsq(b.get_coeff_mat(), -b.ebfe, rcond=None)[0][4:]\n",
    "    \n",
    "    Z = np.sort(np.unique(b.Z1))\n",
    "    \n",
    "    ax.scatter(Z**(gamma), beta, color = color[Z[0]], label = label[Z[0]], marker = f'{marker[Z[0]]}')\n",
    "    \n",
    "    \n",
    "    # linregress\n",
    "    \n",
    "    # ylim\n",
    "    y0 = np.amin(beta) - 10\n",
    "    y1 = np.amax(beta) + 10\n",
    "    \n",
    "    out = linregress(Z**gamma, beta)\n",
    "    x0 = 0 #np.amin(-(charges)**(7/3)) - 20\n",
    "    x1 = (y1 - out[1])/out[0] #np.amax(-(charges)**(7/3)) + 20\n",
    "    x = np.linspace(x0, x1, 1000)\n",
    "    linf = out[0]*x+out[1]\n",
    "    ax.plot(x, linf, '--', color = color[Z[0]])\n",
    "    \n",
    "    errors = np.abs((out[0]*Z**gamma+out[1] - beta)).mean()\n",
    "    print(errors)\n",
    "# ax.plot('')\n",
    "ax.set_xlim([0, 36])\n",
    "ax.set_ylim([0, 2550])\n",
    "ax.set_yticks([0, 500, 1000, 1500, 2000, 2500])\n",
    "ax.set_yticklabels(['0','','', '', '', ''])\n",
    "ax.set_ylabel(r'$\\beta(Z)$')\n",
    "ax.spines['right'].set_visible(False)\n",
    "ax.spines['top'].set_visible(False)\n",
    "plt.savefig('/home/sahre/work/bonding_trends/figures/results/beta_bde.svg')"
   ]
  },
  {
   "cell_type": "code",
   "execution_count": 29,
   "id": "e1cc570e-86ab-4470-bf41-737a0e6616db",
   "metadata": {},
   "outputs": [
    {
     "data": {
      "image/png": "[encoded data removed]",
      "text/plain": [
       "<Figure size 288x288 with 1 Axes>"
      ]
     },
     "metadata": {
      "needs_background": "light"
     },
     "output_type": "display_data"
    }
   ],
   "source": [
    "plt.rcParams['figure.figsize'] = [4,4]\n",
    "plt.rcParams['font.size'] = 18\n",
    "fig, ax = plt.subplots(1,1)\n",
    "plot_info = {'row':[b2, b3, b4], 'color':['tab:blue', 'tab:orange', 'tab:red'], 'row_number':['row 2', 'row 3', 'row 4']}\n",
    "\n",
    "symbol = ['o', 'v', 's', 'D']\n",
    "for i in range(3):\n",
    "\n",
    "    charges = sorted(list(set(plot_info['row'][i].Z1)))\n",
    "    ax.plot(charges, plot_info['row'][i].linear_params[4:], symbol[i], color = plot_info['color'][i], label = plot_info['row_number'][i])\n",
    "    \n",
    "    x, y = linear_fit(plot_info['row'][i])\n",
    "    ax.plot(x, y, '--', color = plot_info['color'][i])\n",
    "\n",
    "ax.plot([0, 36], [0,0], '--', color = 'tab:gray', linewidth = 1)\n",
    "ax.set_xlim([0, 36])\n",
    "\n",
    "x,y = linear_fit(plot_info['row'][2])\n",
    "ax.set_ylim([np.amin(y),0])\n",
    "\n",
    "ax.set_xlabel(r'$Z$')\n",
    "ax.legend(frameon = False)\n",
    "\n",
    "ax.set_yticks([0,-500,-1000,-1500,-2000, -2500])\n",
    "ax.set_yticklabels(['0','','','', '', ''])\n",
    "\n",
    "ax.set_ylabel(r'$m(Z)$ (a.u.)')\n",
    "\n",
    "ax.spines['right'].set_visible(False)\n",
    "ax.spines['top'].set_visible(False)\n",
    "\n",
    "#plt.savefig('/home/sahre/work/bonding_trends/figures/results/slopes2.svg', bbox_inches = 'tight')"
   ]
  },
  {
   "cell_type": "code",
   "execution_count": null,
   "id": "7f72adb9-d904-40b0-81af-5bee7dbd04dc",
   "metadata": {},
   "outputs": [],
   "source": [
    "-y"
   ]
  },
  {
   "cell_type": "code",
   "execution_count": 30,
   "id": "abc5b3ba-1142-4d03-bf2c-3739182eeb8c",
   "metadata": {},
   "outputs": [
    {
     "data": {
      "image/png": "[encoded data removed]",
      "text/plain": [
       "<Figure size 288x288 with 1 Axes>"
      ]
     },
     "metadata": {
      "needs_background": "light"
     },
     "output_type": "display_data"
    }
   ],
   "source": [
    "plt.rcParams['figure.figsize'] = [4,4]\n",
    "plt.rcParams['font.size'] = 18\n",
    "fig, ax = plt.subplots(1,1)\n",
    "plot_info = {'row':[b2, b3, b4], 'color':['tab:blue', 'tab:orange', 'tab:red'], 'row_number':['row 2', 'row 3', 'row 4']}\n",
    "\n",
    "symbol = ['o', 'v', 's', 'D']\n",
    "for i in range(3):\n",
    "\n",
    "    charges = sorted(list(set(plot_info['row'][i].Z1)))\n",
    "    ax.plot(charges, -plot_info['row'][i].linear_params[4:], symbol[i], color = plot_info['color'][i], label = plot_info['row_number'][i])\n",
    "    \n",
    "    x, y = linear_fit(plot_info['row'][i])\n",
    "    ax.plot(x, -y, '--', color = plot_info['color'][i])\n",
    "\n",
    "ax.plot([0, 36], [0,0], '--', color = 'tab:gray', linewidth = 1)\n",
    "ax.set_xlim([0, 36])\n",
    "\n",
    "#x,y = linear_fit(plot_info['row'][2])\n",
    "ax.set_ylim([0, np.amax(-y)])\n",
    "\n",
    "ax.set_xlabel(r'$Z$')\n",
    "ax.legend(frameon = False)\n",
    "\n",
    "ax.set_yticks(-np.array([0,-500,-1000,-1500,-2000, -2500]))\n",
    "ax.set_yticklabels(['0','','','', '', ''])\n",
    "\n",
    "ax.set_ylabel(r'$\\beta(Z)$ (a.u.)')\n",
    "\n",
    "ax.spines['right'].set_visible(False)\n",
    "ax.spines['top'].set_visible(False)\n",
    "\n",
    "#plt.savefig('/home/sahre/work/bonding_trends/figures/results/slopes2.svg', bbox_inches = 'tight')"
   ]
  },
  {
   "cell_type": "code",
   "execution_count": 33,
   "id": "5d89ea0d-2894-4fcf-b02f-e6152e05ccd5",
   "metadata": {
    "tags": []
   },
   "outputs": [
    {
     "data": {
      "image/png": "[encoded data removed]",
      "text/plain": [
       "<Figure size 432x288 with 1 Axes>"
      ]
     },
     "metadata": {
      "needs_background": "light"
     },
     "output_type": "display_data"
    }
   ],
   "source": [
    "\"\"\"\n",
    "Broken axis manually\n",
    "\"\"\"\n",
    "settings = 'r3'\n",
    "\n",
    "if settings == 'origin':\n",
    "    xlim = [0,1]\n",
    "    xsize = 0.4\n",
    "elif settings == 'r2':\n",
    "    xlim = [5,10]\n",
    "    xsize = 1.2\n",
    "elif settings == 'r3':\n",
    "    xlim = [13, 18]\n",
    "    xsize = 1.2\n",
    "elif settings == 'r4':\n",
    "    xlim = [31,36]\n",
    "    xsize = 1.2\n",
    "\n",
    "plt.rcParams['figure.figsize'] = [6,4]\n",
    "plt.rcParams['font.size'] = 18\n",
    "fig, ax = plt.subplots(1,1)\n",
    "plot_info = {'row':[b2, b3, b4], 'color':['tab:blue', 'tab:orange', 'tab:red'], 'row_number':['row 2', 'row 3', 'row 4']}\n",
    "\n",
    "symbol = ['o', 'v', 's', 'D']\n",
    "for i in range(1,2):\n",
    "\n",
    "    charges = sorted(list(set(plot_info['row'][i].Z1)))\n",
    "    ax.plot(charges, plot_info['row'][i].linear_params[4:], symbol[i], color = plot_info['color'][i], label = plot_info['row_number'][i])\n",
    "    \n",
    "    x, y = linear_fit(plot_info['row'][i])\n",
    "    ax.plot(x, y, '--', color = plot_info['color'][i])\n",
    "\n",
    "ax.plot([0, 36], [0,0], '--', color = 'tab:gray', linewidth = 1)\n",
    "ax.set_xlim(xlim)\n",
    "\n",
    "\n",
    "if settings == 'origin':\n",
    "    ax.set_yticks([0,-1000,-2000,-3000,-4000])\n",
    "    ax.set_yticklabels(['0','','','', ''])\n",
    "    ax.set_xticks([0])\n",
    "    ax.set_xticklabels([0])\n",
    "    ax.set_ylabel(r'$m(Z)$ (a.u.)')\n",
    "else:\n",
    "    ax.set_yticks([])\n",
    "    ax.set_yticklabels([])\n",
    "    ax.spines['left'].set_visible(False)\n",
    "    xticks = np.linspace(xlim[0], xlim[1], 6, dtype=int)\n",
    "    ax.set_xticks(xticks[1:-1])\n",
    "    ax.set_xticklabels([str(xticks[1]), '', '', str(xticks[-2])])\n",
    "    \n",
    "# if settings == 'r2':\n",
    "#     xticks = np.linspace(xlim[0], xlim[1], 6, dtype=int)\n",
    "#     ax.set_xticks(xticks[1:-1])\n",
    "#     ax.set_xticklabels([str(xticks[1]), '', '', str(xticks[-2])])\n",
    "\n",
    "ax.spines['right'].set_visible(False)\n",
    "ax.spines['top'].set_visible(False)\n",
    "\n",
    "#plt.savefig('/home/sahre/work/bonding_trends/figures/results/slopes_r2.svg', bbox_inches = 'tight')"
   ]
  },
  {
   "cell_type": "code",
   "execution_count": 34,
   "id": "fa67c46d-8092-4cfc-9a94-a7c965acee57",
   "metadata": {
    "tags": []
   },
   "outputs": [
    {
     "data": {
      "image/png": "[encoded data removed]",
      "text/plain": [
       "<Figure size 432x288 with 2 Axes>"
      ]
     },
     "metadata": {},
     "output_type": "display_data"
    }
   ],
   "source": [
    "\"\"\"\n",
    "Broken axis example, where the x-axis will have a portion cut out.\n",
    "\"\"\"\n",
    "import matplotlib.pylab as plt\n",
    "import numpy as np\n",
    "\n",
    "\n",
    "x = np.linspace(0,10,100)\n",
    "x[75:] = np.linspace(40,42.5,25)\n",
    "\n",
    "y = np.sin(x)\n",
    "\n",
    "f,(ax,ax2) = plt.subplots(1,2,sharey=True, facecolor='w')\n",
    "\n",
    "# plot the same data on both axes\n",
    "ax.plot(x, y)\n",
    "ax2.plot(x, y)\n",
    "\n",
    "\n",
    "\n",
    "plot_info = {'row':[b2, b3, b4], 'color':['tab:blue', 'tab:orange', 'tab:red'], 'row_number':['row 2', 'row 3', 'row 4']}\n",
    "\n",
    "symbol = ['o', 'v', 's', 'D']\n",
    "for i in range(3):\n",
    "\n",
    "    charges = sorted(list(set(plot_info['row'][i].Z1)))\n",
    "    ax.plot(charges, plot_info['row'][i].linear_params[4:], symbol[i], color = plot_info['color'][i], label = plot_info['row_number'][i])\n",
    "    ax2.plot(charges, plot_info['row'][i].linear_params[4:], symbol[i], color = plot_info['color'][i], label = plot_info['row_number'][i])\n",
    "    \n",
    "    x, y = linear_fit(plot_info['row'][i])\n",
    "    ax.plot(x, y, '--', color = plot_info['color'][i])\n",
    "    ax2.plot(x, y, '--', color = plot_info['color'][i])\n",
    "\n",
    "ax.set_xlim(0,20)\n",
    "ax2.set_xlim(32,38)\n",
    "\n",
    "# hide the spines between ax and ax2\n",
    "ax.spines['right'].set_visible(False)\n",
    "ax2.spines['left'].set_visible(False)\n",
    "ax.yaxis.tick_left()\n",
    "ax.tick_params(labelright='off')\n",
    "ax2.yaxis.tick_right()\n",
    "\n",
    "ax2.get_yaxis().set_ticks([])\n",
    "\n",
    "# This looks pretty good, and was fairly painless, but you can get that\n",
    "# cut-out diagonal lines look with just a bit more work. The important\n",
    "# thing to know here is that in axes coordinates, which are always\n",
    "# between 0-1, spine endpoints are at these locations (0,0), (0,1),\n",
    "# (1,0), and (1,1).  Thus, we just need to put the diagonals in the\n",
    "# appropriate corners of each of our axes, and so long as we use the\n",
    "# right transform and disable clipping.\n",
    "\n",
    "d = .015 # how big to make the diagonal lines in axes coordinates\n",
    "# arguments to pass plot, just so we don't keep repeating them\n",
    "kwargs = dict(transform=ax.transAxes, color='k', clip_on=False)\n",
    "ax.plot((1-d,1+d), (-d,+d), **kwargs)\n",
    "ax.plot((1-d,1+d),(1-d,1+d), **kwargs)\n",
    "\n",
    "kwargs.update(transform=ax2.transAxes)  # switch to the bottom axes\n",
    "ax2.plot((-d,+d), (1-d,1+d), **kwargs)\n",
    "ax2.plot((-d,+d), (-d,+d), **kwargs)\n",
    "\n",
    "# What's cool about this is that now if we vary the distance between\n",
    "# ax and ax2 via f.subplots_adjust(hspace=...) or plt.subplot_tool(),\n",
    "# the diagonal lines will move accordingly, and stay right at the tips\n",
    "# of the spines they are 'breaking'\n",
    "\n",
    "plt.show()"
   ]
  },
  {
   "cell_type": "code",
   "execution_count": 35,
   "id": "a459968d-689e-463f-9a50-35fe332e255f",
   "metadata": {},
   "outputs": [],
   "source": [
    "def linear_fit_n(b):\n",
    "    charges = np.array(sorted(list(set(b.Z1))))\n",
    "    m = b.linear_params[:4]\n",
    "\n",
    "    out = linregress(-(charges)**(7/3), m)\n",
    "    x0 = np.amin(-(charges)**(7/3)) - 100*charges.mean()/30#+ np.amin(-(charges)**(7/3))*0.1\n",
    "    x1 = np.amax(-(charges)**(7/3)) + 75*charges.mean()/30#- np.amax(-(charges)**(7/3))*0.1\n",
    "    x = np.linspace(x0, x1, 10000)\n",
    "    linf = out[0]*x+out[1]\n",
    "    return(x, linf)"
   ]
  },
  {
   "cell_type": "code",
   "execution_count": 141,
   "id": "e4d797cf-0ca5-43d6-864e-184b4c0dd101",
   "metadata": {},
   "outputs": [
    {
     "name": "stdout",
     "output_type": "stream",
     "text": [
      "-236.5381418791018 41.49443327385869\n",
      "-4080.816924200968 -3297.3447046543365\n"
     ]
    },
    {
     "data": {
      "image/png": "[encoded data removed]",
      "text/plain": [
       "<Figure size 432x288 with 1 Axes>"
      ]
     },
     "metadata": {
      "needs_background": "light"
     },
     "output_type": "display_data"
    }
   ],
   "source": [
    "plt.rcParams['figure.figsize'] = [6,4]\n",
    "plt.rcParams['font.size'] = 18\n",
    "fig, ax = plt.subplots(1,1)\n",
    "plot_info = {'row':[b2, b3, b4], 'color':['tab:blue', 'tab:orange', 'tab:red'], 'row_number':['row 2', 'row 3', 'row 4'], 'symbol':['o', 'v', 's', 'D']}\n",
    "\n",
    "\n",
    "# ylim\n",
    "y0 = np.amin(plot_info['row'][2].linear_params[:4]) - 10\n",
    "y1 = np.amax(plot_info['row'][2].linear_params[:4]) + 10\n",
    "ax.set_ylim([y0, y1])\n",
    "\n",
    "# row 2\n",
    "i = 0\n",
    "charges = np.array(sorted(list(set(plot_info['row'][i].Z1))))\n",
    "ax.plot(-(charges)**(7/3), plot_info['row'][i].linear_params[:4], plot_info['symbol'][i], color = plot_info['color'][i], label = plot_info['row_number'][i])\n",
    "\n",
    "# linregress\n",
    "out = linregress(-(charges)**(7/3), plot_info['row'][i].linear_params[:4])\n",
    "x0 = (y0 - out[1])/out[0] #np.amin(-(charges)**(7/3)) - 20\n",
    "x1 = (y1 - out[1])/out[0] #np.amax(-(charges)**(7/3)) + 20\n",
    "x = np.linspace(x0, x1, 1000)\n",
    "linf = out[0]*x+out[1]\n",
    "ax.plot(x, linf, '--', color = plot_info['color'][i])\n",
    "print(x0, x1)\n",
    "# row 3\n",
    "i = 1\n",
    "charges = np.array(sorted(list(set(plot_info['row'][i].Z1))))\n",
    "ax.plot(-(charges)**(7/3), plot_info['row'][i].linear_params[:4], plot_info['symbol'][i], color = plot_info['color'][i], label = plot_info['row_number'][i])\n",
    "\n",
    "# linregress\n",
    "out = linregress(-(charges)**(7/3), plot_info['row'][i].linear_params[:4])\n",
    "x0 = (y0 - out[1])/out[0] #np.amin(-(charges)**(7/3)) - 20\n",
    "x1 = (y1 - out[1])/out[0] #np.amax(-(charges)**(7/3)) + 20\n",
    "x = np.linspace(x0, x1, 1000)\n",
    "linf = out[0]*x+out[1]\n",
    "ax.plot(x, linf, '--', color = plot_info['color'][i])\n",
    "\n",
    "# row 4\n",
    "i = 2\n",
    "charges = np.array(sorted(list(set(plot_info['row'][i].Z1))))\n",
    "ax.plot(-(charges)**(7/3), plot_info['row'][i].linear_params[:4], plot_info['symbol'][i], color = plot_info['color'][i], label = plot_info['row_number'][i])\n",
    "\n",
    "# linregress\n",
    "out = linregress(-(charges)**(7/3), plot_info['row'][i].linear_params[:4])\n",
    "x0 = (y0 - out[1])/out[0] #np.amin(-(charges)**(7/3)) - 20\n",
    "x1 = (y1 - out[1])/out[0] #np.amax(-(charges)**(7/3)) + 20\n",
    "\n",
    "print(x0, x1)\n",
    "x = np.linspace(x0, x1, 1000)\n",
    "linf = out[0]*x+out[1]\n",
    "ax.plot(x, linf, '--', color = plot_info['color'][i])\n",
    "\n",
    "ax.set_xlabel(r'$-Z^{7/3}$')\n",
    "\n",
    "ax.legend(frameon = False)\n",
    "\n",
    "ax.set_ylabel(r'$n(Z)$ (a.u.)')\n",
    "\n",
    "ax.set_yticks([0,-100, -200])\n",
    "ax.set_yticklabels([])\n",
    "\n",
    "ax.spines['right'].set_visible(False)\n",
    "ax.spines['top'].set_visible(False)\n",
    "\n",
    "# plt.savefig('/home/sahre/work/bonding_trends/figures/results/intercepts.svg', bbox_inches = 'tight')"
   ]
  },
  {
   "cell_type": "code",
   "execution_count": null,
   "id": "b4c0ee9a-5daa-4284-b455-a3f7efef7550",
   "metadata": {},
   "outputs": [],
   "source": [
    "plt.rcParams['figure.figsize'] = [2,4]\n",
    "plt.rcParams['font.size'] = 18\n",
    "fig, ax = plt.subplots(1,1)\n",
    "plot_info = {'row':[b2, b3, b4], 'color':['tab:blue', 'tab:orange', 'tab:red'], 'row_number':['row 2', 'row 3', 'row 4'], 'symbol':['o', 'v', 's', 'D']}\n",
    "\n",
    "\n",
    "# ylim\n",
    "y0 = np.amin(plot_info['row'][2].linear_params[:4]) - 10\n",
    "y1 = np.amax(plot_info['row'][2].linear_params[:4]) + 10\n",
    "ax.set_ylim([y0, y1])\n",
    "\n",
    "# row 2\n",
    "i = 0\n",
    "charges = np.array(sorted(list(set(plot_info['row'][i].Z1))))\n",
    "ax.plot(-(charges)**(7/3), plot_info['row'][i].linear_params[:4], plot_info['symbol'][i], color = plot_info['color'][i], label = plot_info['row_number'][i])\n",
    "\n",
    "# linregress\n",
    "out = linregress(-(charges)**(7/3), plot_info['row'][i].linear_params[:4])\n",
    "x0 = (y0 - out[1])/out[0] #np.amin(-(charges)**(7/3)) - 20\n",
    "x1 = (y1 - out[1])/out[0] #np.amax(-(charges)**(7/3)) + 20\n",
    "x = np.linspace(x0, x1, 1000)\n",
    "linf = out[0]*x+out[1]\n",
    "ax.plot(x, linf, '--', color = plot_info['color'][i])\n",
    "\n",
    "# row 3\n",
    "i = 1\n",
    "charges = np.array(sorted(list(set(plot_info['row'][i].Z1))))\n",
    "ax.plot(-(charges)**(7/3), plot_info['row'][i].linear_params[:4], plot_info['symbol'][i], color = plot_info['color'][i], label = plot_info['row_number'][i])\n",
    "\n",
    "# linregress\n",
    "out = linregress(-(charges)**(7/3), plot_info['row'][i].linear_params[:4])\n",
    "x0 = (y0 - out[1])/out[0] #np.amin(-(charges)**(7/3)) - 20\n",
    "x1 = (y1 - out[1])/out[0] #np.amax(-(charges)**(7/3)) + 20\n",
    "x = np.linspace(x0, x1, 1000)\n",
    "linf = out[0]*x+out[1]\n",
    "ax.plot(x, linf, '--', color = plot_info['color'][i])\n",
    "\n",
    "# row 4\n",
    "i = 2\n",
    "charges = np.array(sorted(list(set(plot_info['row'][i].Z1))))\n",
    "ax.plot(-(charges)**(7/3), plot_info['row'][i].linear_params[:4], plot_info['symbol'][i], color = plot_info['color'][i], label = plot_info['row_number'][i])\n",
    "\n",
    "# linregress\n",
    "out = linregress(-(charges)**(7/3), plot_info['row'][i].linear_params[:4])\n",
    "x0 = (y0 - out[1])/out[0] #np.amin(-(charges)**(7/3)) - 20\n",
    "x1 = (y1 - out[1])/out[0] #np.amax(-(charges)**(7/3)) + 20\n",
    "x = np.linspace(x0, x1, 1000)\n",
    "linf = out[0]*x+out[1]\n",
    "ax.plot(x, linf, '--', color = plot_info['color'][i])\n",
    "\n",
    "#ax.set_xlabel(r'$-Z^{7/3}$')\n",
    "ax.set_xlim([-4250, -3000])\n",
    "ax.set_xticks([-4000, -3750, -3500, -3250])\n",
    "ax.set_xticklabels(['-4000','','','-3250'])\n",
    "ax.set_ylabel(r'$n(Z)$ (a.u.)')\n",
    "ax.set_yticks([0,-100, -200])\n",
    "ax.set_yticklabels([])\n",
    "\n",
    "# ax.set_xlim([-1000, 250])\n",
    "# ax.set_xticks([0, -250, -500, -750])\n",
    "# ax.set_xticklabels(['0','','-500',''])\n",
    "# ax.spines['left'].set_visible(False)\n",
    "# ax.set_yticks([])\n",
    "# ax.set_yticklabels([])\n",
    "\n",
    "\n",
    "\n",
    "\n",
    "ax.spines['right'].set_visible(False)\n",
    "ax.spines['top'].set_visible(False)\n",
    "\n",
    "#plt.savefig('/home/sahre/work/bonding_trends/figures/results/intercepts_r4.svg', bbox_inches = 'tight')"
   ]
  },
  {
   "cell_type": "code",
   "execution_count": null,
   "id": "3997ceb3-2b09-4147-9187-77a8d8fee5d3",
   "metadata": {},
   "outputs": [],
   "source": [
    "plt.rcParams['figure.figsize'] = [6,4]\n",
    "plt.rcParams['font.size'] = 18\n",
    "fig, ax = plt.subplots(1,1)\n",
    "plot_info = {'row':[b2, b3, b4], 'color':['tab:blue', 'tab:orange', 'tab:red'], 'row_number':['row 2', 'row 3', 'row 4'], 'symbol':['o', 'v', 's', 'D']}\n",
    "\n",
    "\n",
    "# ylim\n",
    "y0 = np.amin(-plot_info['row'][2].linear_params[:4]) - 10\n",
    "y1 = np.amax(-plot_info['row'][2].linear_params[:4]) + 10\n",
    "ax.set_ylim([y0, y1])\n",
    "\n",
    "# row 2\n",
    "i = 0\n",
    "charges = np.array(sorted(list(set(plot_info['row'][i].Z1))))\n",
    "ax.plot((charges)**(7/3), -plot_info['row'][i].linear_params[:4], plot_info['symbol'][i], color = plot_info['color'][i], label = plot_info['row_number'][i])\n",
    "\n",
    "# linregress\n",
    "out = linregress((charges)**(7/3), -plot_info['row'][i].linear_params[:4])\n",
    "x0 = (y0 - out[1])/out[0] #np.amin(-(charges)**(7/3)) - 20\n",
    "x1 = (y1 - out[1])/out[0] #np.amax(-(charges)**(7/3)) + 20\n",
    "x = np.linspace(x0, x1, 1000)\n",
    "linf = out[0]*x+out[1]\n",
    "ax.plot(x, linf, '--', color = plot_info['color'][i])\n",
    "\n",
    "# row 3\n",
    "i = 1\n",
    "charges = np.array(sorted(list(set(plot_info['row'][i].Z1))))\n",
    "ax.plot((charges)**(7/3), -plot_info['row'][i].linear_params[:4], plot_info['symbol'][i], color = plot_info['color'][i], label = plot_info['row_number'][i])\n",
    "\n",
    "# linregress\n",
    "out = linregress((charges)**(7/3), -plot_info['row'][i].linear_params[:4])\n",
    "x0 = (y0 - out[1])/out[0] #np.amin(-(charges)**(7/3)) - 20\n",
    "x1 = (y1 - out[1])/out[0] #np.amax(-(charges)**(7/3)) + 20\n",
    "x = np.linspace(x0, x1, 1000)\n",
    "linf = out[0]*x+out[1]\n",
    "ax.plot(x, linf, '--', color = plot_info['color'][i])\n",
    "\n",
    "# row 4\n",
    "i = 2\n",
    "charges = np.array(sorted(list(set(plot_info['row'][i].Z1))))\n",
    "ax.plot((charges)**(7/3), -plot_info['row'][i].linear_params[:4], plot_info['symbol'][i], color = plot_info['color'][i], label = plot_info['row_number'][i])\n",
    "\n",
    "# linregress\n",
    "out = linregress((charges)**(7/3), -plot_info['row'][i].linear_params[:4])\n",
    "x0 = (y0 - out[1])/out[0] #np.amin(-(charges)**(7/3)) - 20\n",
    "x1 = (y1 - out[1])/out[0] #np.amax(-(charges)**(7/3)) + 20\n",
    "x = np.linspace(x0, x1, 1000)\n",
    "linf = out[0]*x+out[1]\n",
    "ax.plot(x, linf, '--', color = plot_info['color'][i])\n",
    "\n",
    "ax.set_yticklabels([])\n",
    "ax.set_xticklabels([])\n",
    "\n",
    "ax.spines['right'].set_visible(False)\n",
    "ax.spines['top'].set_visible(False)\n",
    "\n",
    "ax.set_xlabel(r'$Z^{7/3}$')\n",
    "\n",
    "ax.legend(frameon = False)\n",
    "\n",
    "ax.set_ylabel(r'$\\alpha(Z)$ (a.u.)')"
   ]
  },
  {
   "cell_type": "markdown",
   "id": "9f1be8d1-62a2-4de2-a2ad-e0b820db74a2",
   "metadata": {},
   "source": [
    "## Rounded Parameters"
   ]
  },
  {
   "cell_type": "code",
   "execution_count": 1,
   "id": "f1a6f493-e211-4433-a190-b44585bffc3c",
   "metadata": {},
   "outputs": [],
   "source": [
    "import pandas as pd\n",
    "import numpy as np\n",
    "from matplotlib import pyplot as plt\n",
    "\n",
    "import sys\n",
    "sys.path.insert(0, '/home/sahre/git_repositories/APDFT/prototyping/atomic_energies/')\n",
    "import utils_qm as uqm\n",
    "import bt_tools as bt"
   ]
  },
  {
   "cell_type": "code",
   "execution_count": 2,
   "id": "bd248b7d-3f48-40b0-b088-36eb40966114",
   "metadata": {},
   "outputs": [],
   "source": [
    "data = pd.read_csv('/data/sahre/projects/atomic-energies/data/bonding_trends/pbe0_data/energies_homolytic.csv')\n",
    "data_2 = data.loc[(data['Z1'] >= 6) & (data['Z1'] <= 9) & (data['Z2'] >= 6) & (data['Z2'] <= 9)].to_dict('list')\n",
    "data_3 = data.loc[(data['Z1'] >= 14) & (data['Z2'] >= 14) & (data['Z1'] <= 17) & (data['Z2'] <= 17)].to_dict('list')\n",
    "data_4 = data.loc[(data['Z1'] >= 32) & (data['Z2'] >= 32) & (data['Z1'] <= 35) & (data['Z2'] <= 35)].to_dict('list')\n",
    "data_234 = data.loc[(data['Z1'] <= 9) & (data['Z2'] <= 9) | (data['Z1'] >= 14) & (data['Z2'] >= 14) & (data['Z1'] <= 17) & (data['Z2'] <= 17) | (data['Z1'] >= 32) & (data['Z2'] >= 32) & (data['Z1'] <= 35) & (data['Z2'] <= 35)].to_dict('list')\n",
    "\n",
    "for d in [data_2, data_3, data_4, data_234]:\n",
    "    d['unit'] = 630\n",
    "    d['bfe type'] = 'homo'\n",
    "    #d['nbfe'] = np.array(d['Z1'])*np.array(d['Z2'])-(np.array(d['Z1'])+np.array(d['Z2']))"
   ]
  },
  {
   "cell_type": "code",
   "execution_count": 5,
   "id": "8280118a-81e9-42db-9e39-eb107a4f452e",
   "metadata": {},
   "outputs": [],
   "source": [
    "def binding_model(ZA, ZB, a, b, c):\n",
    "    E_AB = a - b*ZA*ZB + c*(ZA**(7/3) + ZB**(7/3))\n",
    "    return(E_AB)"
   ]
  },
  {
   "cell_type": "code",
   "execution_count": 6,
   "id": "39a41409-7e66-4b29-a63e-0b15bcc16eb0",
   "metadata": {},
   "outputs": [
    {
     "data": {
      "text/plain": [
       "(215.7, 10.5, 2.0)"
      ]
     },
     "execution_count": 6,
     "metadata": {},
     "output_type": "execute_result"
    }
   ],
   "source": []
  },
  {
   "cell_type": "code",
   "execution_count": 28,
   "id": "5b7b3dca-40cd-4079-ad89-b1869132bb83",
   "metadata": {},
   "outputs": [
    {
     "data": {
      "text/plain": [
       "1.0"
      ]
     },
     "execution_count": 28,
     "metadata": {},
     "output_type": "execute_result"
    }
   ],
   "source": [
    "data_dict = data_2\n",
    "a, b, c =  np.round(215.743, 1), np.round(10.470, 2), np.round(1.987, 2)\n",
    "E_AB = []\n",
    "for ZA, ZB in zip(data_dict['Z1'], data_dict['Z2']):\n",
    "    E_AB.append(binding_model(ZA, ZB, a, b, c))\n",
    "    \n",
    "E_AB = np.array(E_AB)\n",
    "E_AB_ref = -630*np.array(data_dict['bfe'])\n",
    "\n",
    "np.round((np.abs(E_AB - E_AB_ref)).mean(),1)"
   ]
  },
  {
   "cell_type": "code",
   "execution_count": 54,
   "id": "68713ca4-688b-4d97-882b-969828c60743",
   "metadata": {},
   "outputs": [
    {
     "name": "stdout",
     "output_type": "stream",
     "text": [
      "2.6\n",
      "392.7 8.82 1.496\n"
     ]
    }
   ],
   "source": [
    "data_dict = data_3\n",
    "a, b, c =  np.round(392.717, 1), np.round(8.823, 2), np.round(1.496 , 3)\n",
    "E_AB = []\n",
    "for ZA, ZB in zip(data_dict['Z1'], data_dict['Z2']):\n",
    "    E_AB.append(binding_model(ZA, ZB, a, b, c))\n",
    "    \n",
    "E_AB = np.array(E_AB)\n",
    "E_AB_ref = -630*np.array(data_dict['bfe'])\n",
    "\n",
    "print(np.round((np.abs(E_AB - E_AB_ref)).mean(),1))\n",
    "\n",
    "print(a, b, c)\n",
    "\n"
   ]
  },
  {
   "cell_type": "code",
   "execution_count": 51,
   "id": "25a57409-b3fb-417b-b66e-7306ec1048a1",
   "metadata": {},
   "outputs": [
    {
     "name": "stdout",
     "output_type": "stream",
     "text": [
      "2.2\n",
      "1109.2 6.18 0.813\n"
     ]
    }
   ],
   "source": [
    "data_dict = data_4\n",
    "a, b, c =  np.round(1109.237, 1), np.round(6.180, 2), np.round(0.813 , 3)\n",
    "E_AB = []\n",
    "for ZA, ZB in zip(data_dict['Z1'], data_dict['Z2']):\n",
    "    E_AB.append(binding_model(ZA, ZB, a, b, c))\n",
    "    \n",
    "E_AB = np.array(E_AB)\n",
    "E_AB_ref = -630*np.array(data_dict['bfe'])\n",
    "\n",
    "print(np.round((np.abs(E_AB - E_AB_ref)).mean(),1))\n",
    "\n",
    "print(a, b, c)"
   ]
  }
 ],
 "metadata": {
  "kernelspec": {
   "display_name": "Python 3",
   "language": "python",
   "name": "python3"
  },
  "language_info": {
   "codemirror_mode": {
    "name": "ipython",
    "version": 3
   },
   "file_extension": ".py",
   "mimetype": "text/x-python",
   "name": "python",
   "nbconvert_exporter": "python",
   "pygments_lexer": "ipython3",
   "version": "3.9.5"
  }
 },
 "nbformat": 4,
 "nbformat_minor": 5
}
