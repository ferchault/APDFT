{
 "cells": [
  {
   "cell_type": "code",
   "execution_count": 1,
   "id": "12dadff9-5471-4f5d-99fb-664911740baf",
   "metadata": {},
   "outputs": [],
   "source": [
    "import numpy as np\n",
    "from matplotlib import pyplot as plt\n",
    "from scipy.optimize import curve_fit"
   ]
  },
  {
   "cell_type": "code",
   "execution_count": 51,
   "id": "2ea87471-1b74-4203-b666-5a0d5c47d328",
   "metadata": {},
   "outputs": [],
   "source": [
    "def ebfe_fit(Zs, beta, alpha, b_prime):\n",
    "    Z1, Z2 = Zs.T\n",
    "    return(-beta/2*(Z1**(7/3)+Z2**(7/3))+2*alpha+2*b_prime*Z1*Z2)\n",
    "\n",
    "# # def ebfe_fit_gamma(Zs, beta, alpha, gamma, b_prime):\n",
    "def ebfe_fit_gamma(Zs, beta, gamma, b_prime):\n",
    "    Z1, Z2 = Zs.T\n",
    "    return(-beta/2*(np.power(Z1, gamma)+np.power(Z2, gamma))+2*b_prime*Z1*Z2)\n",
    "\n",
    "def get_r2(predicted, ref):\n",
    "    return(1 - ((predicted-ref)**2).sum()/((ref-ref.mean())**2).sum())"
   ]
  },
  {
   "cell_type": "code",
   "execution_count": null,
   "id": "ea718a54-8fd1-4f97-ae88-5d2825d4481f",
   "metadata": {},
   "outputs": [],
   "source": [
    "def ebfe_fit_gamma(Zs, *args):\n",
    "    Z1, Z2 = Zs.T\n",
    "    return(- args[0] /2*(np.power(Z1, args[1])+np.power(Z2, args[1]))+2*args[2]*Z1*Z2)"
   ]
  },
  {
   "cell_type": "code",
   "execution_count": 45,
   "id": "eb322c25-fc82-41c9-bd16-de07d717f353",
   "metadata": {},
   "outputs": [],
   "source": [
    "class BDE():\n",
    "    def __init__(self, energies, nuc_charges):\n",
    "        # define energies\n",
    "        self.bde = -energies[:,0]*2600\n",
    "        self.bfe = energies[:,0]*2600\n",
    "        self.ebfe = energies[:,1]*2600\n",
    "        self.nbfe = energies[:,2]*2600\n",
    "        \n",
    "        # define charge combinations Z1, Z2\n",
    "        self.nuc_charges = nuc_charges\n",
    "#         if row == 2:\n",
    "#             self.nuc_charges = [6, 7, 8, 9]\n",
    "#         elif row == 3:\n",
    "#             self.nuc_charges = [14, 15, 16, 17]\n",
    "#         elif row == 4:\n",
    "#             self.nuc_charges = [32, 33, 34, 35]\n",
    "        \n",
    "        self.xdata = []\n",
    "        for i in range(len(self.nuc_charges)):\n",
    "            for j in range(i, len(self.nuc_charges)):\n",
    "                self.xdata.append([self.nuc_charges[i], self.nuc_charges[j]])\n",
    "        self.xdata = np.array(self.xdata)\n",
    "        \n",
    "    def fit(self, model):\n",
    "        self.param = curve_fit(model, self.xdata, self.ebfe)\n",
    "        self.ebfe_fitted = model(self.xdata, self.param[0][0], self.param[0][1], self.param[0][2])\n",
    "        self.bde_fitted = -(self.ebfe_fitted + self.nbfe)\n",
    "        self.mae = np.abs(self.bde_fitted-self.bde).mean()\n",
    "        "
   ]
  },
  {
   "cell_type": "code",
   "execution_count": 63,
   "id": "f37b26a9-744d-4440-8e2e-11742696a0d8",
   "metadata": {},
   "outputs": [],
   "source": [
    "efiles = ['/data/sahre/projects/atomic-energies/data/bonding_trends/pbe0_data/row_2/energies_single.txt', \n",
    "          '/data/sahre/projects/atomic-energies/data/bonding_trends/pbe0_data/row_3/energies_single.txt',\n",
    "          '/data/sahre/projects/atomic-energies/data/bonding_trends/pbe0_data/row_4/energies_single.txt']\n",
    "\n",
    "nuc_charges = [[6, 7, 8, 9], [14, 15, 16, 17], [32, 33, 34, 35]]\n",
    "systems = {'row_2':0, 'row_3':0,'row_4':0,'all':0,}\n",
    "\n",
    "for ef, nc, k in zip(efiles, nuc_charges, systems.keys()):\n",
    "    systems[k] = BDE(np.loadtxt(ef), nc)\n",
    "    \n"
   ]
  },
  {
   "cell_type": "code",
   "execution_count": 65,
   "id": "5874761f-9d46-42c6-b9a3-b63e030279a2",
   "metadata": {},
   "outputs": [
    {
     "name": "stdout",
     "output_type": "stream",
     "text": [
      "84.8349424639253\n",
      "47.20717302347666\n",
      "11.55127369426773\n"
     ]
    },
    {
     "name": "stderr",
     "output_type": "stream",
     "text": [
      "<ipython-input-51-de48ccb101c0>:8: RuntimeWarning: overflow encountered in power\n",
      "  return(-beta/2*(np.power(Z1, gamma)+np.power(Z2, gamma))+2*b_prime*Z1*Z2)\n"
     ]
    },
    {
     "ename": "AttributeError",
     "evalue": "'int' object has no attribute 'fit'",
     "output_type": "error",
     "traceback": [
      "\u001b[0;31m---------------------------------------------------------------------------\u001b[0m",
      "\u001b[0;31mAttributeError\u001b[0m                            Traceback (most recent call last)",
      "\u001b[0;32m<ipython-input-65-d75c1e160845>\u001b[0m in \u001b[0;36m<module>\u001b[0;34m\u001b[0m\n\u001b[1;32m      1\u001b[0m \u001b[0;32mfor\u001b[0m \u001b[0mk\u001b[0m \u001b[0;32min\u001b[0m \u001b[0msystems\u001b[0m\u001b[0;34m.\u001b[0m\u001b[0mkeys\u001b[0m\u001b[0;34m(\u001b[0m\u001b[0;34m)\u001b[0m\u001b[0;34m:\u001b[0m\u001b[0;34m\u001b[0m\u001b[0;34m\u001b[0m\u001b[0m\n\u001b[0;32m----> 2\u001b[0;31m     \u001b[0msystems\u001b[0m\u001b[0;34m[\u001b[0m\u001b[0mk\u001b[0m\u001b[0;34m]\u001b[0m\u001b[0;34m.\u001b[0m\u001b[0mfit\u001b[0m\u001b[0;34m(\u001b[0m\u001b[0mebfe_fit_gamma\u001b[0m\u001b[0;34m)\u001b[0m\u001b[0;34m\u001b[0m\u001b[0;34m\u001b[0m\u001b[0m\n\u001b[0m\u001b[1;32m      3\u001b[0m     \u001b[0mprint\u001b[0m\u001b[0;34m(\u001b[0m\u001b[0msystems\u001b[0m\u001b[0;34m[\u001b[0m\u001b[0mk\u001b[0m\u001b[0;34m]\u001b[0m\u001b[0;34m.\u001b[0m\u001b[0mmae\u001b[0m\u001b[0;34m)\u001b[0m\u001b[0;34m\u001b[0m\u001b[0;34m\u001b[0m\u001b[0m\n\u001b[1;32m      4\u001b[0m \u001b[0;31m#     plt.plot()\u001b[0m\u001b[0;34m\u001b[0m\u001b[0;34m\u001b[0m\u001b[0;34m\u001b[0m\u001b[0m\n",
      "\u001b[0;31mAttributeError\u001b[0m: 'int' object has no attribute 'fit'"
     ]
    }
   ],
   "source": [
    "for k in systems.keys():\n",
    "    systems[k].fit(ebfe_fit_gamma)\n",
    "    print(systems[k].mae)\n",
    "#     plt.plot()"
   ]
  },
  {
   "cell_type": "code",
   "execution_count": 70,
   "id": "9d28e976-d525-4013-850c-e1dd332e7ead",
   "metadata": {},
   "outputs": [
    {
     "data": {
      "text/plain": [
       "[<matplotlib.lines.Line2D at 0x7f0407ed6e20>]"
      ]
     },
     "execution_count": 70,
     "metadata": {},
     "output_type": "execute_result"
    },
    {
     "data": {
      "image/png": "[encoded data removed]",
      "text/plain": [
       "<Figure size 432x288 with 1 Axes>"
      ]
     },
     "metadata": {
      "needs_background": "light"
     },
     "output_type": "display_data"
    }
   ],
   "source": [
    "plt.plot(systems['row_2'].bde)\n",
    "plt.plot(systems['row_2'].bde_fitted)"
   ]
  },
  {
   "cell_type": "code",
   "execution_count": 71,
   "id": "baf9a85d-41c9-4dc1-9ea6-93d0aa2a994e",
   "metadata": {},
   "outputs": [
    {
     "data": {
      "text/plain": [
       "(array([-7.02951801e-02,  4.33172426e+00, -4.91254115e+02]),\n",
       " array([[  1.1974545 ,   6.85129878,  12.11361059],\n",
       "        [  6.85129878,  39.21912216,  69.12077278],\n",
       "        [ 12.11361059,  69.12077278, 124.51470763]]))"
      ]
     },
     "execution_count": 71,
     "metadata": {},
     "output_type": "execute_result"
    }
   ],
   "source": [
    "systems['row_2'].param"
   ]
  },
  {
   "cell_type": "code",
   "execution_count": 68,
   "id": "8cc6e622-c7c2-4148-94f6-eb8c6bd19dd3",
   "metadata": {},
   "outputs": [
    {
     "data": {
      "text/plain": [
       "[<matplotlib.lines.Line2D at 0x7f04081c9d00>]"
      ]
     },
     "execution_count": 68,
     "metadata": {},
     "output_type": "execute_result"
    },
    {
     "data": {
      "image/png": "[encoded data removed]",
      "text/plain": [
       "<Figure size 432x288 with 1 Axes>"
      ]
     },
     "metadata": {
      "needs_background": "light"
     },
     "output_type": "display_data"
    }
   ],
   "source": [
    "plt.plot(systems['row_4'].bde)\n",
    "plt.plot(systems['row_4'].bde_fitted)"
   ]
  },
  {
   "cell_type": "code",
   "execution_count": 72,
   "id": "e74b8374-5cad-4ba0-8af8-db74b1d7d60b",
   "metadata": {},
   "outputs": [
    {
     "data": {
      "text/plain": [
       "(array([  30.80294176,    1.96529294, -277.75437389]),\n",
       " array([[1.76460345e+01, 1.68369944e-02, 8.62419793e+00],\n",
       "        [1.68369944e-02, 8.34820368e-05, 1.14617961e-02],\n",
       "        [8.62419793e+00, 1.14617961e-02, 4.36997564e+00]]))"
      ]
     },
     "execution_count": 72,
     "metadata": {},
     "output_type": "execute_result"
    }
   ],
   "source": [
    "systems['row_4'].param"
   ]
  },
  {
   "cell_type": "code",
   "execution_count": 53,
   "id": "8f355089-a12e-4e0c-8a35-6757cd6a6d84",
   "metadata": {},
   "outputs": [
    {
     "data": {
      "text/plain": [
       "4.117130841252345"
      ]
     },
     "execution_count": 53,
     "metadata": {},
     "output_type": "execute_result"
    }
   ],
   "source": [
    "BDE_2.mae"
   ]
  },
  {
   "cell_type": "code",
   "execution_count": 54,
   "id": "71f74601-f8ea-4dbf-a759-a89baf616ee4",
   "metadata": {},
   "outputs": [
    {
     "data": {
      "text/plain": [
       "[<matplotlib.lines.Line2D at 0x7f0408691730>]"
      ]
     },
     "execution_count": 54,
     "metadata": {},
     "output_type": "execute_result"
    },
    {
     "data": {
      "image/png": "[encoded data removed]",
      "text/plain": [
       "<Figure size 432x288 with 1 Axes>"
      ]
     },
     "metadata": {
      "needs_background": "light"
     },
     "output_type": "display_data"
    }
   ],
   "source": [
    "plt.plot(BDE_2.bde)\n",
    "plt.plot(BDE_2.bde_fitted)"
   ]
  },
  {
   "cell_type": "code",
   "execution_count": null,
   "id": "8c0d4fbd-dd1f-415d-bab7-e4437da7889b",
   "metadata": {},
   "outputs": [],
   "source": [
    "out_all"
   ]
  },
  {
   "cell_type": "code",
   "execution_count": null,
   "id": "c8584f65-6e83-4b24-a609-53542b133698",
   "metadata": {},
   "outputs": [],
   "source": [
    "frag_types_2 = ['C', 'N', 'O', 'F']\n",
    "comps_2 = []\n",
    "for i in range(len(frag_types_2)):\n",
    "    for j in range(i, len(frag_types_2)):\n",
    "        comps_2.append(frag_types_2[i]+ frag_types_2[j])\n",
    "\n",
    "frag_types_3 = ['Si', 'P', 'S', 'Cl']\n",
    "comps_3 = []\n",
    "for i in range(len(frag_types_3)):\n",
    "    for j in range(i, len(frag_types_3)):\n",
    "        comps_3.append(frag_types_3[i]+ frag_types_3[j])\n",
    "\n",
    "frag_types_4 = ['Ge', 'As', 'Se', 'Br']\n",
    "comps_4 = []\n",
    "for i in range(len(frag_types_4)):\n",
    "    for j in range(i, len(frag_types_4)):\n",
    "        comps_4.append(frag_types_4[i]+ frag_types_4[j])"
   ]
  },
  {
   "cell_type": "code",
   "execution_count": null,
   "id": "f09f0c82-4942-4daf-bef1-11ba6b2b6179",
   "metadata": {},
   "outputs": [],
   "source": [
    "frag_types_2 = ['C', 'N', 'O', 'F']\n",
    "comps_2 = []\n",
    "for i in range(len(frag_types_2)):\n",
    "    for j in range(i, len(frag_types_2)):\n",
    "        comps_2.append(frag_types_2[i]+ frag_types_2[j])\n",
    "\n",
    "frag_types_3 = ['Si', 'P', 'S', 'Cl']\n",
    "comps_3 = []\n",
    "for i in range(len(frag_types_3)):\n",
    "    for j in range(i, len(frag_types_3)):\n",
    "        comps_3.append(frag_types_3[i]+ frag_types_3[j])\n",
    "\n",
    "frag_types_4 = ['Ge', 'As', 'Se', 'Br']\n",
    "comps_4 = []\n",
    "for i in range(len(frag_types_4)):\n",
    "    for j in range(i, len(frag_types_4)):\n",
    "        comps_4.append(frag_types_4[i]+ frag_types_4[j])"
   ]
  },
  {
   "cell_type": "code",
   "execution_count": null,
   "id": "a91d7123-14be-4cf5-b539-73448ccbb5ad",
   "metadata": {},
   "outputs": [],
   "source": [
    "plt.rcParams['font.size'] = 12\n",
    "plt.rcParams[\"figure.figsize\"] = [15,4]\n",
    "\n",
    "fig, ax = plt.subplots(1,3)\n",
    "\n",
    "ax[0].plot(comps_2, ref_bde_2, '-o', label = 'ref')\n",
    "# ax[0].plot(comps_2, fit_2, '-o', label = f'fit MAE {np.round(mae_2,2)}\\n$r^2$ = {np.round(r2_2,8)}')\n",
    "ax[0].plot(comps_2, fit_2, '-o', label = f'fit MAE {np.round(mae_2,2)}')\n",
    "ax[0].legend()\n",
    "\n",
    "\n",
    "ax[1].plot(comps_3, ref_bde_3, '-o', label = 'ref')\n",
    "ax[1].plot(comps_3, fit_3, '-o', label = f'fit MAE {np.round(mae_3,2)}')\n",
    "# ax[1].plot(comps_3, fit_3, '-o', label = f'fit MAE {np.round(mae_3,2)}\\n$r^2$ = {np.round(r2_3,8)}')\n",
    "ax[1].legend()\n",
    "\n",
    "ax[2].plot(comps_4, ref_bde_4, '-o', label = 'ref')\n",
    "ax[2].plot(comps_4, fit_4, '-o', label = f'fit MAE {np.round(mae_4,2)}')\n",
    "# ax[2].plot(comps_4, fit_4, '-o', label = f'fit MAE {np.round(mae_4,2)}\\n$r^2$ = {np.round(r2_4,8)}')\n",
    "ax[2].legend()\n",
    "\n",
    "ax[0].set_ylabel('BDE (kJ/mol)')\n",
    "plt.tight_layout()"
   ]
  },
  {
   "cell_type": "code",
   "execution_count": null,
   "id": "d0b1ccd1-9800-4274-ab31-7ec1f1044354",
   "metadata": {},
   "outputs": [],
   "source": []
  },
  {
   "cell_type": "code",
   "execution_count": null,
   "id": "cacceb0d-b73c-4340-a5c6-0a08ead22d00",
   "metadata": {},
   "outputs": [],
   "source": []
  },
  {
   "cell_type": "code",
   "execution_count": null,
   "id": "3fccd472-b3af-4fc0-b8c5-5e2a2186bfff",
   "metadata": {},
   "outputs": [],
   "source": [
    "ref_bde_236"
   ]
  },
  {
   "cell_type": "code",
   "execution_count": null,
   "id": "02575659-21e7-4a57-b284-353f4d72b2b1",
   "metadata": {},
   "outputs": [],
   "source": [
    "plt.plot([1.42, 1.75, 2, 2.12, 2.25, 2.36], mae_all, '-o')"
   ]
  },
  {
   "cell_type": "code",
   "execution_count": null,
   "id": "a96969c5-8c94-4ca6-ba94-fa37f4062c6a",
   "metadata": {},
   "outputs": [],
   "source": [
    "out_all = curve_fit(ebfe_fit, xdata_all, ebfe_exp_all)\n",
    "fit_all = -(ebfe_fit(xdata_all, out_all[0][0], out_all[0][1], out_all[0][2]) + nbfe_all)\n",
    "mae_all = np.abs(fit_all-ref_bde_all).mean()\n",
    "\n",
    "plt.plot(ref_bde_all)\n",
    "plt.plot(fit_all)"
   ]
  },
  {
   "cell_type": "code",
   "execution_count": null,
   "id": "7daa1929-4c1b-453c-9eda-f7b97484b108",
   "metadata": {},
   "outputs": [],
   "source": [
    "mae_all"
   ]
  },
  {
   "cell_type": "code",
   "execution_count": null,
   "id": "b3493994-2440-44ba-8cc7-08182c6f34fb",
   "metadata": {},
   "outputs": [],
   "source": [
    "plt.plot(ebfe_exp_all, '-o')\n",
    "plt.plot(ebfe_fit(xdata_all, out_all[0][0], out_all[0][1], out_all[0][2]), '-o')"
   ]
  },
  {
   "cell_type": "code",
   "execution_count": null,
   "id": "1fd3d4c0-2ca6-483b-8755-f3c61a316cf2",
   "metadata": {},
   "outputs": [],
   "source": [
    "# mean distance between heavy atoms\n",
    "# needed for nuclear repulsion calculation\n",
    "import glob\n",
    "from ase.units import Bohr\n",
    "import ase.io as aio\n",
    "\n",
    "system = 'diatomics'\n",
    "bond_type = 'single'\n",
    "\n",
    "structures = []\n",
    "for row in ['row_2', 'row_3', 'row_4']:\n",
    "    structures.extend(glob.glob(f'/data/sahre/projects/atomic-energies/data/bonding_trends/pbe0_data/{row}/{system}_{bond_type}/*_opt.xyz'))\n",
    "dist = []\n",
    "for s in structures:\n",
    "    mol = aio.read(s)\n",
    "    dist.append(mol.get_distance(0, 1))\n",
    "dist = np.array(dist)\n",
    "mean_dist = dist.mean()/Bohr\n",
    "\n",
    "e_nuc = []\n",
    "for x in xdata_all:\n",
    "    e_nuc.append(x[0]*x[1]/mean_dist)\n",
    "e_nuc = np.array(e_nuc)"
   ]
  },
  {
   "cell_type": "code",
   "execution_count": null,
   "id": "9096e0e5-3fec-45cf-beeb-63d24448add7",
   "metadata": {},
   "outputs": [],
   "source": [
    "mean_dist*Bohr"
   ]
  },
  {
   "cell_type": "code",
   "execution_count": null,
   "id": "dc37f3fc-1264-46ed-ac3b-38c9a5f1fd61",
   "metadata": {},
   "outputs": [],
   "source": [
    "bfe = energies_all[:,0].copy()\n",
    "\n",
    "ebfe_adjusted = (bfe-e_nuc)*2600\n",
    "nbfe_adjusted = e_nuc*2600\n",
    "ref_bde_adjusted = -bfe*2600"
   ]
  },
  {
   "cell_type": "code",
   "execution_count": null,
   "id": "4284e656-3c72-4a8e-bef5-8e0a98662af5",
   "metadata": {},
   "outputs": [],
   "source": [
    "fig, ax = plt.subplots(1,3)\n",
    "ax[0].plot(ref_bde_all)\n",
    "ax[0].plot(ref_bde_adjusted)\n",
    "\n",
    "ax[1].plot(ebfe_exp_all)\n",
    "ax[1].plot(ebfe_adjusted)\n",
    "\n",
    "ax[2].plot(nbfe_all)\n",
    "ax[2].plot(nbfe_adjusted)"
   ]
  },
  {
   "cell_type": "code",
   "execution_count": null,
   "id": "a0c09d49-5964-4d11-9f07-79f915a70f9f",
   "metadata": {},
   "outputs": [],
   "source": [
    "out_all = curve_fit(ebfe_fit, xdata_all, ebfe_adjusted)\n",
    "fit_all = -(ebfe_fit(xdata_all, out_all[0][0], out_all[0][1], out_all[0][2]) + nbfe_adjusted)\n",
    "mae_all = np.abs(fit_all-ref_bde_adjusted).mean()\n",
    "\n",
    "comps_all = comps_2.copy()\n",
    "comps_all.extend(comps_3)\n",
    "comps_all.extend(comps_4)\n",
    "plt.rcParams['figure.figsize'] = [20,6]\n",
    "plt.plot(comps_all, ref_bde_adjusted, label = 'ref')\n",
    "plt.plot(comps_all, fit_all, '-o', label = f'fit MAE = {np.round(mae_all, 2)}')\n",
    "plt.ylabel('BDE (kJ/mol)')\n",
    "plt.legend()"
   ]
  },
  {
   "cell_type": "code",
   "execution_count": null,
   "id": "25467f38-a51a-416e-8cf4-b5904b8a5d8e",
   "metadata": {},
   "outputs": [],
   "source": [
    "n = 10\n",
    "plt.plot(ebfe_adjusted[:n])\n",
    "plt.plot(ebfe_fit(xdata_all, out_all[0][0], out_all[0][1], out_all[0][2])[:n])\n",
    "\n"
   ]
  },
  {
   "cell_type": "code",
   "execution_count": null,
   "id": "6137fe9a-22ce-4aad-a725-5a2d4f6acc70",
   "metadata": {},
   "outputs": [],
   "source": [
    "beta = []\n",
    "alpha = []\n",
    "b_prime = []\n",
    "for i in [out_2, out_3, out_4]:\n",
    "    beta.append(i[0][0])\n",
    "    alpha.append(i[0][1])\n",
    "    b_prime.append(i[0][2])"
   ]
  },
  {
   "cell_type": "code",
   "execution_count": null,
   "id": "2ee2262b-6119-4e5e-87e6-c8d3d3358b9c",
   "metadata": {},
   "outputs": [],
   "source": [
    "plt.plot(b_prime, '-o')"
   ]
  },
  {
   "cell_type": "code",
   "execution_count": null,
   "id": "9931c351-b47e-4fed-a2d6-809ed24147c4",
   "metadata": {},
   "outputs": [],
   "source": [
    "ebfe_fit(xdata_all, out_all[0][0], out_all[0][1], out_all[0][2])[:n]-ebfe_adjusted[:n]"
   ]
  },
  {
   "cell_type": "code",
   "execution_count": null,
   "id": "e112d15b-3d83-4fc4-a997-54784a5c10a1",
   "metadata": {},
   "outputs": [],
   "source": [
    "out_all_gamma = curve_fit(ebfe_fit_gamma, xdata_all, ebfe_adjusted)\n",
    "\n",
    "fit_all_gamma = -(ebfe_fit_gamma(xdata_all, out_all_gamma[0][0], out_all_gamma[0][1], out_all_gamma[0][2], out_all_gamma[0][3]) + nbfe_adjusted)\n",
    "mae_all_gamma = np.abs(fit_all_gamma-ref_bde_adjusted).mean()"
   ]
  },
  {
   "cell_type": "code",
   "execution_count": null,
   "id": "de814a2e-26ec-48ff-a471-052a8b8c435f",
   "metadata": {},
   "outputs": [],
   "source": [
    "out_all_gamma"
   ]
  },
  {
   "cell_type": "code",
   "execution_count": null,
   "id": "f1521268-62a6-4dc3-a536-157d71ddb2e3",
   "metadata": {},
   "outputs": [],
   "source": [
    "comps_all = comps_2.copy()\n",
    "comps_all.extend(comps_3)\n",
    "comps_all.extend(comps_4)\n",
    "plt.rcParams['figure.figsize'] = [20,6]\n",
    "plt.plot(ref_bde_adjusted, label = 'ref')\n",
    "\n",
    "plt.plot(comps_all, fit_all, '-o', label = f'fit MAE = {np.round(mae_all, 2)}')\n",
    "\n",
    "\n",
    "plt.plot(fit_all_gamma, '-o', label = f'fit2 MAE = {np.round(mae_all_gamma, 2)}')\n",
    "plt.legend()\n",
    "plt.ylabel('BDE (kJ/mol)')\n"
   ]
  },
  {
   "cell_type": "code",
   "execution_count": null,
   "id": "78e8d2d5-9460-492b-b03d-b926df2c3497",
   "metadata": {},
   "outputs": [],
   "source": [
    "mae_all_gamma"
   ]
  },
  {
   "cell_type": "code",
   "execution_count": null,
   "id": "4fea2678-91b4-468b-b1cd-6000f733c6b4",
   "metadata": {},
   "outputs": [],
   "source": [
    "p0 = [36.66033465, -146.85897595, 2.00090536, -330.96945723, 1.0]\n",
    "out_all_cprime = curve_fit(ebfe_fit_cprime, xdata_all, ebfe_adjusted, p0=p0)\n",
    "\n",
    "fit_all_cprime = -(ebfe_fit_cprime(xdata_all, out_all_cprime[0][0], out_all_cprime[0][1], out_all_cprime[0][2], out_all_cprime[0][3], out_all_cprime[0][4]) + nbfe_adjusted)\n",
    "mae_all_cprime = np.abs(fit_all_cprime-ref_bde_adjusted).mean()"
   ]
  },
  {
   "cell_type": "code",
   "execution_count": null,
   "id": "faabcf77-8c16-4087-8510-ba3575aa2588",
   "metadata": {},
   "outputs": [],
   "source": [
    "out_all_gamma[0]"
   ]
  },
  {
   "cell_type": "code",
   "execution_count": null,
   "id": "81b16744-bf9e-4019-98fb-5de4049e543e",
   "metadata": {},
   "outputs": [],
   "source": [
    "out_all_cprime[0]"
   ]
  },
  {
   "cell_type": "code",
   "execution_count": null,
   "id": "e2e47953-780b-4c38-ae78-3eca4cf44f4c",
   "metadata": {},
   "outputs": [],
   "source": [
    "plt.plot(ref_bde_adjusted)\n",
    "plt.plot(fit_all_cprime, '-o')"
   ]
  },
  {
   "cell_type": "code",
   "execution_count": null,
   "id": "17517cef-c683-4152-98dd-6cc57c0f87b5",
   "metadata": {},
   "outputs": [],
   "source": [
    "ve = [4, 5, 6, 7]\n",
    "ve_pairs = []\n",
    "for i in range(len(ve)):\n",
    "    for j in range(len(ve)):\n",
    "        ve_pairs.append(f'{ve[i]}, {ve[j]}')"
   ]
  },
  {
   "cell_type": "code",
   "execution_count": null,
   "id": "0e5f19b2-c64f-4c8b-9a87-0e704baacba3",
   "metadata": {},
   "outputs": [],
   "source": [
    "ve_pairs"
   ]
  },
  {
   "cell_type": "code",
   "execution_count": null,
   "id": "468d6d85-b57d-4615-9195-31d7ced88e4a",
   "metadata": {},
   "outputs": [],
   "source": [
    "def get_electronic_trends(energy):\n",
    "    concat_en = np.concatenate((energy[:,1][[0, 1, 2, 3]],\n",
    "        energy[:,1][[1, 4, 5, 6]],\n",
    "        energy[:,1][[2, 5, 7, 8]],\n",
    "        energy[:,1][[3, 6, 8, 9]]))\n",
    "    return(concat_en)\n",
    "plt.rcParams['font.size']=18\n",
    "plt.plot(ve_pairs, get_electronic_trends(energies_2), '-o', label = 'row 2')\n",
    "plt.plot(get_electronic_trends(energies_3), '-o', label = 'row 3')\n",
    "plt.plot(get_electronic_trends(energies_4), '-o', label = 'row 4')\n",
    "plt.xlabel(r'$N_{\\rm{ve}, 1}, N_{\\rm{ve}, 2}$')\n",
    "plt.ylabel('EBFE (Ha)')\n",
    "plt.legend()"
   ]
  },
  {
   "cell_type": "code",
   "execution_count": null,
   "id": "9ba925f1-96e0-4463-b5a8-7a613e83bbb5",
   "metadata": {},
   "outputs": [],
   "source": [
    "plt.plot(ref_bde_2, '-o', label = 'row 2')\n",
    "plt.plot(ref_bde_3, '-o', label = 'row 3')\n",
    "plt.plot(ref_bde_4, '-o', label = 'row 4')\n",
    "plt.legend()"
   ]
  },
  {
   "cell_type": "code",
   "execution_count": null,
   "id": "a2b223e2-c8cf-4580-8072-8e4a3aa6d845",
   "metadata": {},
   "outputs": [],
   "source": [
    "fig, ax = plt.subplots(1,3)\n",
    "ax[0].plot([2,3,4], [out_2[0][0], out_3[0][0], out_4[0][0]], '-o')\n",
    "ax[1].plot([2,3,4], [out_2[0][1], out_3[0][1], out_4[0][1]], '-o')\n",
    "ax[2].plot([2,3,4], [out_2[0][2], out_3[0][2], out_4[0][2]], '-o')\n",
    "fig.tight_layout()"
   ]
  },
  {
   "cell_type": "code",
   "execution_count": null,
   "id": "f6731b7f-2576-4bc8-b540-95f21d2a704d",
   "metadata": {},
   "outputs": [],
   "source": [
    "out_4[0][0]"
   ]
  },
  {
   "cell_type": "code",
   "execution_count": null,
   "id": "7632d1c6-b9e0-4d66-a9b9-d241dbe8cc00",
   "metadata": {},
   "outputs": [],
   "source": [
    "out_2[0][1]"
   ]
  },
  {
   "cell_type": "code",
   "execution_count": null,
   "id": "73b4ab5e-dc74-4830-86e4-24df1755b76e",
   "metadata": {},
   "outputs": [],
   "source": [
    "out_3[0][1]"
   ]
  },
  {
   "cell_type": "code",
   "execution_count": null,
   "id": "35dc8afb-4d51-4664-883b-6dbd192fe543",
   "metadata": {},
   "outputs": [],
   "source": [
    "out_4[0][1]"
   ]
  },
  {
   "cell_type": "code",
   "execution_count": null,
   "id": "38797da0-dc4e-4242-93df-134f1bd25854",
   "metadata": {},
   "outputs": [],
   "source": [
    "out_2[0][2]"
   ]
  },
  {
   "cell_type": "code",
   "execution_count": null,
   "id": "9ba2edbc-7627-4333-8d3f-59cf6f0954f3",
   "metadata": {},
   "outputs": [],
   "source": [
    "out_3[0][2]"
   ]
  },
  {
   "cell_type": "code",
   "execution_count": null,
   "id": "667ee6be-380a-451c-81a2-c0f8fb4572e1",
   "metadata": {},
   "outputs": [],
   "source": [
    "out_4[0][2]"
   ]
  },
  {
   "cell_type": "code",
   "execution_count": null,
   "id": "33630953-50bc-4bf9-aed7-7ea16de428c7",
   "metadata": {},
   "outputs": [],
   "source": [
    "P2H4 = -685.169956, b3lyp/cc-pVTZ"
   ]
  },
  {
   "cell_type": "code",
   "execution_count": null,
   "id": "16ea10cb-7add-4ef1-865e-282043ae1eaf",
   "metadata": {},
   "outputs": [],
   "source": []
  },
  {
   "cell_type": "code",
   "execution_count": null,
   "id": "5c990645-a4e2-45b7-b949-6afe448715e5",
   "metadata": {},
   "outputs": [],
   "source": []
  },
  {
   "cell_type": "code",
   "execution_count": null,
   "id": "6df1e3be-a639-42ee-abea-fb584cbaf00d",
   "metadata": {},
   "outputs": [],
   "source": [
    "import glob\n",
    "import ase.io as aio"
   ]
  },
  {
   "cell_type": "code",
   "execution_count": null,
   "id": "14084cec-c61a-4023-943d-4afa795c2550",
   "metadata": {},
   "outputs": [],
   "source": [
    "row = 'row_4'\n",
    "system = 'diatomics'\n",
    "bond_type = 'single'\n",
    "\n",
    "distances = dict()\n",
    "rows = ['row_2', 'row_3', 'row_4']\n",
    "for row in rows:\n",
    "\n",
    "    structures = glob.glob(f'/data/sahre/projects/atomic-energies/data/bonding_trends/pbe0_data/{row}/{system}_{bond_type}/*_opt.xyz')\n",
    "    from ase.units import Bohr\n",
    "    dist = []\n",
    "    for s in structures:\n",
    "        mol = aio.read(s)\n",
    "        dist.append(mol.get_distance(0, 1))\n",
    "    dist = np.array(dist)\n",
    "    mean_dist = dist.mean()\n",
    "    \n",
    "    distances[row] = dist\n",
    "\n",
    "homo2 = [1.518780, 1.437014, 1.453213, 1.375981]\n",
    "homo3 = [2.137693, 2.227767, 1.982484, 2.062116]\n",
    "homo4 = [2.421583, 2.381642, 2.346513, 2.357309]\n",
    "homos = [homo2, homo3, homo4]\n",
    "for k,h  in zip(distances.keys(), homos):\n",
    "    tmp = distances[k]\n",
    "    distances[k] = [tmp, h]"
   ]
  },
  {
   "cell_type": "code",
   "execution_count": null,
   "id": "a4e494e8-ad3c-4e4e-a3aa-47806e4c3757",
   "metadata": {},
   "outputs": [],
   "source": [
    "for h in [homo2, homo3, homo4]:\n",
    "    plt.plot(h, '-o')"
   ]
  },
  {
   "cell_type": "code",
   "execution_count": null,
   "id": "03010a27-b961-4f45-8140-3a5f1c4c8848",
   "metadata": {},
   "outputs": [],
   "source": [
    "for k in distances.keys():\n",
    "    plt.plot(distances[k][1]-distances[k][0].mean(), label = k)\n",
    "plt.legend()"
   ]
  },
  {
   "cell_type": "code",
   "execution_count": null,
   "id": "ea9bb699-5d78-4fd4-926a-8ea7bb0a89de",
   "metadata": {},
   "outputs": [],
   "source": [
    "distances[k][0].mean()"
   ]
  },
  {
   "cell_type": "code",
   "execution_count": null,
   "id": "9ee5c414-bc10-4cb9-81f3-cd0274da44f5",
   "metadata": {},
   "outputs": [],
   "source": [
    "for k in distances.keys():\n",
    "    plt.plot(comps_3, distances[k], '-o',label = k)\n",
    "plt.legend()"
   ]
  },
  {
   "cell_type": "code",
   "execution_count": null,
   "id": "a9693027-c115-4f57-b01f-8a7935585a6a",
   "metadata": {},
   "outputs": [],
   "source": [
    "for k in distances.keys():\n",
    "    plt.plot(comps_3, distances[k]-distances[k].mean(), '-o',label = k)\n",
    "plt.legend()"
   ]
  },
  {
   "cell_type": "code",
   "execution_count": null,
   "id": "d2394a1b-e0bb-4914-970d-6ed47bf6dc04",
   "metadata": {},
   "outputs": [],
   "source": [
    "import pandas as pd\n",
    "\n",
    "df2 = pd.DataFrame({'comps':comps_2, 'd0':distances['row_2']})\n",
    "df3 = pd.DataFrame({'comps':comps_3, 'd0':distances['row_3']})\n",
    "df4 = pd.DataFrame({'comps':comps_4, 'd0':distances['row_4']})\n",
    "\n",
    "df = pd.concat((df2,df3,df4))\n",
    "\n",
    "df.to_csv(f'/data/sahre/projects/atomic-energies/data/bonding_trends/pbe0_data/d0.csv')"
   ]
  },
  {
   "cell_type": "code",
   "execution_count": null,
   "id": "48cf7a5a-a56e-4a48-8646-b8d5d213f004",
   "metadata": {},
   "outputs": [],
   "source": []
  }
 ],
 "metadata": {
  "kernelspec": {
   "display_name": "Python 3",
   "language": "python",
   "name": "python3"
  },
  "language_info": {
   "codemirror_mode": {
    "name": "ipython",
    "version": 3
   },
   "file_extension": ".py",
   "mimetype": "text/x-python",
   "name": "python",
   "nbconvert_exporter": "python",
   "pygments_lexer": "ipython3",
   "version": "3.9.5"
  }
 },
 "nbformat": 4,
 "nbformat_minor": 5
}
