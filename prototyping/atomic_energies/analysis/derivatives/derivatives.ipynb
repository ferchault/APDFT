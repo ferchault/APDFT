{
 "cells": [
  {
   "cell_type": "code",
   "execution_count": 28,
   "id": "4e1b4ad3-9948-4f9c-9fe6-c2ff91a57a19",
   "metadata": {
    "tags": []
   },
   "outputs": [],
   "source": [
    "import ase.io as aio\n",
    "\n",
    "import os\n",
    "import numpy as np\n",
    "import qml\n",
    "import ase\n",
    "import sys\n",
    "sys.path.insert(0, '/home/sahre/git_repositories/APDFT/prototyping/atomic_energies/hitp/')\n",
    "sys.path.insert(0, '/home/sahre/git_repositories/APDFT/prototyping/atomic_energies/')\n",
    "from prepare_calculations import *\n",
    "# import importlib\n",
    "# importlib.reload()\n",
    "import explore_qml_data as eqd\n",
    "import utils_qm as uqm\n",
    "import glob\n",
    "import cpmd_io"
   ]
  },
  {
   "cell_type": "code",
   "execution_count": null,
   "id": "ae076e57-b6a3-42c5-893d-8042118a156e",
   "metadata": {},
   "outputs": [],
   "source": [
    "cpmd_io.fix_input_file()"
   ]
  },
  {
   "cell_type": "code",
   "execution_count": 2,
   "id": "dc6a16a2-ffb7-477e-806e-c5de8dd851c9",
   "metadata": {},
   "outputs": [],
   "source": [
    "def create_run_dir(path, atom_symbols, nuc_charges, positions, lambda_value, valence_charges = None, integer_electrons = False):\n",
    "\n",
    "    # create directory if not exists\n",
    "    os.makedirs(path, exist_ok=True)\n",
    "\n",
    "    # set parameters independent of lambda value\n",
    "    num_ve = eqd.get_num_val_elec(nuc_charges) # get number of ve\n",
    "    boxsize = get_boxsize(num_ve) # get boxsize\n",
    "    num_gpts_lower, num_gpts_higher = get_gpts(num_ve) # get gridpoints\n",
    "    num_gpts = num_gpts_higher\n",
    "    # shift molecule to center of box\n",
    "    coords_final = eqd.shift2center(positions, np.array([boxsize, boxsize, boxsize])/2)\n",
    "\n",
    "    # lambda dependent quantities\n",
    "\n",
    "    # add correct number of electrons such that system stays isoelectronic to target molecule\\\n",
    "    charge = calculate_charge(lambda_value, num_ve, valence_charges, integer_electrons)\n",
    "\n",
    "    # generate input file\n",
    "    input_path = os.path.join(path, 'run.inp')\n",
    "    \n",
    "    # start from random wavefunction as initial guess if lambda < 0.5 otherwise the calculation will crash\n",
    "    if type(lambda_value) == float:\n",
    "        lam_min = lambda_value\n",
    "    else:\n",
    "        lam_min = np.amin(lambda_value)\n",
    "        \n",
    "    if lam_min > 0.501:\n",
    "        write_input(atom_symbols['elIdx'], charge, coords_final, num_gpts, boxsize, input_path, pp_type, template_inp, debug = False)\n",
    "    else:\n",
    "        write_input(atom_symbols['elIdx'], charge, coords_final, num_gpts, boxsize, input_path, pp_type, template_inp_small_lambda, debug = False)\n",
    "\n",
    "    # generate pp-files\n",
    "    if type(lambda_value) == float:\n",
    "        write_pp_files_compound(atom_symbols, lambda_value, path, pp_dir, pp_type)\n",
    "    else:\n",
    "        write_pp_files_compound_partial(atom_symbols, lambda_value, path, pp_dir, pp_type)\n",
    "        \n",
    "def parse_xyz_for_CPMD_input(path2xyz):\n",
    "    # get structure information from xyz file\n",
    "    molecule = aio.read(path2xyz)\n",
    "\n",
    "    atom_symbolsEl = []\n",
    "    atom_symbolsIdx = []\n",
    "    for i, el in enumerate(molecule.get_chemical_symbols()):\n",
    "        atom_symbolsEl.append(el)\n",
    "        atom_symbolsIdx.append(el + str(i+1))\n",
    "    atom_symbols = {'el':atom_symbolsEl, 'elIdx':atom_symbolsIdx}\n",
    "    nuc_charges = molecule.get_atomic_numbers()\n",
    "    valence_charges = eqd.get_val_charges(nuc_charges)\n",
    "    positions = molecule.get_positions()\n",
    "    return(atom_symbols, nuc_charges, positions, valence_charges)"
   ]
  },
  {
   "cell_type": "code",
   "execution_count": 33,
   "id": "681b6274-0084-472b-968a-e759efc8e728",
   "metadata": {},
   "outputs": [
    {
     "name": "stdout",
     "output_type": "stream",
     "text": [
      "Enabled restart (from rESTART) in /data/sahre/projects/atomic-energies/amons/amon_000004/ve_02/dE_dlam_bw because there is an intact restart file. Isn't that great, sunshine?\n",
      "Enabled restart (from rESTART) in /data/sahre/projects/atomic-energies/amons/amon_000004/ve_02/dE_dlam_fw because there is an intact restart file. Isn't that great, sunshine?\n",
      "Enabled restart (from rESTART) in /data/sahre/projects/atomic-energies/amons/amon_000004/ve_02/dE_dH1_bw because there is an intact restart file. Isn't that great, sunshine?\n",
      "Enabled restart (from rESTART) in /data/sahre/projects/atomic-energies/amons/amon_000004/ve_02/dE_dH1_fw because there is an intact restart file. Isn't that great, sunshine?\n",
      "Enabled restart (from rESTART) in /data/sahre/projects/atomic-energies/amons/amon_000004/ve_02/dE_dH2_bw because there is an intact restart file. Isn't that great, sunshine?\n",
      "Enabled restart (from rESTART) in /data/sahre/projects/atomic-energies/amons/amon_000004/ve_02/dE_dH2_fw because there is an intact restart file. Isn't that great, sunshine?\n",
      "Enabled restart (from rESTART) in /data/sahre/projects/atomic-energies/amons/amon_000004/ve_02/dE_dO3_bw because there is an intact restart file. Isn't that great, sunshine?\n",
      "Enabled restart (from rESTART) in /data/sahre/projects/atomic-energies/amons/amon_000004/ve_02/dE_dO3_fw because there is an intact restart file. Isn't that great, sunshine?\n",
      "Enabled restart (from rESTART) in /data/sahre/projects/atomic-energies/amons/amon_000004/ve_03/dE_dlam_bw because there is an intact restart file. Isn't that great, sunshine?\n",
      "Enabled restart (from rESTART) in /data/sahre/projects/atomic-energies/amons/amon_000004/ve_03/dE_dlam_fw because there is an intact restart file. Isn't that great, sunshine?\n",
      "Enabled restart (from rESTART) in /data/sahre/projects/atomic-energies/amons/amon_000004/ve_03/dE_dH1_bw because there is an intact restart file. Isn't that great, sunshine?\n",
      "Enabled restart (from rESTART) in /data/sahre/projects/atomic-energies/amons/amon_000004/ve_03/dE_dH1_fw because there is an intact restart file. Isn't that great, sunshine?\n",
      "Enabled restart (from rESTART) in /data/sahre/projects/atomic-energies/amons/amon_000004/ve_03/dE_dH2_bw because there is an intact restart file. Isn't that great, sunshine?\n",
      "Enabled restart (from rESTART) in /data/sahre/projects/atomic-energies/amons/amon_000004/ve_03/dE_dH2_fw because there is an intact restart file. Isn't that great, sunshine?\n",
      "Enabled restart (from rESTART) in /data/sahre/projects/atomic-energies/amons/amon_000004/ve_03/dE_dO3_bw because there is an intact restart file. Isn't that great, sunshine?\n",
      "Enabled restart (from rESTART) in /data/sahre/projects/atomic-energies/amons/amon_000004/ve_03/dE_dO3_fw because there is an intact restart file. Isn't that great, sunshine?\n",
      "Enabled restart (from rESTART) in /data/sahre/projects/atomic-energies/amons/amon_000004/ve_05/dE_dlam_bw because there is an intact restart file. Isn't that great, sunshine?\n",
      "Enabled restart (from rESTART) in /data/sahre/projects/atomic-energies/amons/amon_000004/ve_05/dE_dlam_fw because there is an intact restart file. Isn't that great, sunshine?\n",
      "Enabled restart (from rESTART) in /data/sahre/projects/atomic-energies/amons/amon_000004/ve_05/dE_dH1_bw because there is an intact restart file. Isn't that great, sunshine?\n",
      "Enabled restart (from rESTART) in /data/sahre/projects/atomic-energies/amons/amon_000004/ve_05/dE_dH1_fw because there is an intact restart file. Isn't that great, sunshine?\n",
      "Enabled restart (from rESTART) in /data/sahre/projects/atomic-energies/amons/amon_000004/ve_05/dE_dH2_bw because there is an intact restart file. Isn't that great, sunshine?\n",
      "Enabled restart (from rESTART) in /data/sahre/projects/atomic-energies/amons/amon_000004/ve_05/dE_dH2_fw because there is an intact restart file. Isn't that great, sunshine?\n",
      "Enabled restart (from rESTART) in /data/sahre/projects/atomic-energies/amons/amon_000004/ve_05/dE_dO3_bw because there is an intact restart file. Isn't that great, sunshine?\n",
      "Enabled restart (from rESTART) in /data/sahre/projects/atomic-energies/amons/amon_000004/ve_05/dE_dO3_fw because there is an intact restart file. Isn't that great, sunshine?\n",
      "Enabled restart (from rESTART) in /data/sahre/projects/atomic-energies/amons/amon_000004/ve_06/dE_dlam_bw because there is an intact restart file. Isn't that great, sunshine?\n",
      "Enabled restart (from rESTART) in /data/sahre/projects/atomic-energies/amons/amon_000004/ve_06/dE_dlam_fw because there is an intact restart file. Isn't that great, sunshine?\n",
      "Enabled restart (from rESTART) in /data/sahre/projects/atomic-energies/amons/amon_000004/ve_06/dE_dH1_bw because there is an intact restart file. Isn't that great, sunshine?\n",
      "Enabled restart (from rESTART) in /data/sahre/projects/atomic-energies/amons/amon_000004/ve_06/dE_dH1_fw because there is an intact restart file. Isn't that great, sunshine?\n",
      "Enabled restart (from rESTART) in /data/sahre/projects/atomic-energies/amons/amon_000004/ve_06/dE_dH2_bw because there is an intact restart file. Isn't that great, sunshine?\n",
      "Enabled restart (from rESTART) in /data/sahre/projects/atomic-energies/amons/amon_000004/ve_06/dE_dH2_fw because there is an intact restart file. Isn't that great, sunshine?\n",
      "Enabled restart (from rESTART) in /data/sahre/projects/atomic-energies/amons/amon_000004/ve_06/dE_dO3_bw because there is an intact restart file. Isn't that great, sunshine?\n",
      "Enabled restart (from rESTART) in /data/sahre/projects/atomic-energies/amons/amon_000004/ve_06/dE_dO3_fw because there is an intact restart file. Isn't that great, sunshine?\n"
     ]
    }
   ],
   "source": [
    "for ve, base_lambda in zip(['ve_02', 've_03', 've_05', 've_06'], np.array([2,3,5,6])/8):\n",
    "\n",
    "    xyz_path = f'/data/sahre/projects/atomic-energies/amons/amon_000004/{ve}/GEOMETRY.xyz'\n",
    "    atom_symbols, nuc_charges, positions, valence_charges = parse_xyz_for_CPMD_input(xyz_path)\n",
    "    \n",
    "    dlambda = 1e-5 # finite difference\n",
    "    increments = np.array([[dlambda, dlambda, dlambda], [dlambda, 0, 0], [0,dlambda,0], [0,0,dlambda]])\n",
    "    \n",
    "    for derivative, lambdas in zip(['lam', 'H1', 'H2', 'O3'], increments):\n",
    "        for sign, label in zip([-1, 1], ['bw', 'fw']):\n",
    "            path = f'/data/sahre/projects/atomic-energies/amons/amon_000004/{ve}/dE_d{derivative}_{label}' # path to directory where run.inp and pseudopotentials will be written to\n",
    "            lambda_value = sign*lambdas + base_lambda# lambda value can be a single value (for full derivative) or list with len == number of atoms for partial derivatives\n",
    "            # print(lambda_value)\n",
    "    \n",
    "            atom_symbols = atom_symbols # string element + integer index\n",
    "            nuc_charges = nuc_charges# list of nuclear charges\n",
    "            valence_charges = valence_charges\n",
    "            positions = positions# atom positions\n",
    "\n",
    "\n",
    "            integer_electrons = False# rescales lambda value such that number of electrons from nuclei is an integer only kept for backwards compability\n",
    "\n",
    "            pp_dir = '/data/sahre/PP_LIBRARY'\n",
    "            pp_type = 'GH_PBE'\n",
    "            template_inp = '/data/sahre/projects/atomic-energies/cpmd_params_template_pbe.inp'\n",
    "            template_inp_small_lambda = '/data/sahre/projects/atomic-energies/cpmd_params_template_pbe_small_lambda.inp'\n",
    "\n",
    "            create_run_dir(path, atom_symbols, nuc_charges, positions, lambda_value, valence_charges, integer_electrons)\n",
    "            \n",
    "            # copy RESTART.1 and LATEST from base directory\n",
    "            restart_path_source = f'/data/sahre/projects/atomic-energies/amons/amon_000004/{ve}/RESTART.1'\n",
    "            restart_path_dest = f'/data/sahre/projects/atomic-energies/amons/amon_000004/{ve}/dE_d{derivative}_{label}/RESTART.1'\n",
    "            shutil.copy(restart_path_source, restart_path_dest)\n",
    "            \n",
    "            latest_path_source = f'/data/sahre/projects/atomic-energies/amons/amon_000004/{ve}/LATEST'\n",
    "            latest_path_dest = f'/data/sahre/projects/atomic-energies/amons/amon_000004/{ve}/dE_d{derivative}_{label}/LATEST'\n",
    "            shutil.copy(latest_path_source, latest_path_dest)\n",
    "            \n",
    "            # add restart option\n",
    "            input_dir = f'/data/sahre/projects/atomic-energies/amons/amon_000004/{ve}/dE_d{derivative}_{label}'\n",
    "            cpmd_io.fix_input_file(input_dir)"
   ]
  },
  {
   "cell_type": "code",
   "execution_count": 27,
   "id": "353d090f-1a44-44f5-84d5-56db978cf79f",
   "metadata": {},
   "outputs": [],
   "source": [
    "import shutil\n",
    "shutil.collections"
   ]
  },
  {
   "cell_type": "code",
   "execution_count": 26,
   "id": "8844c17c-ca17-4c5a-a353-f40dcde7dbb9",
   "metadata": {},
   "outputs": [
    {
     "data": {
      "text/plain": [
       "-4.1669703721480005"
      ]
     },
     "execution_count": 26,
     "metadata": {},
     "output_type": "execute_result"
    }
   ],
   "source": [
    "(2/8+1e-5)*-16.667214800000000\n"
   ]
  },
  {
   "cell_type": "code",
   "execution_count": 6,
   "id": "4f01be3d-5f16-42c7-ad5b-772f3333ef79",
   "metadata": {},
   "outputs": [
    {
     "data": {
      "text/plain": [
       "-9.949999999037118e-06"
      ]
     },
     "execution_count": 6,
     "metadata": {},
     "output_type": "execute_result"
    }
   ],
   "source": [
    "-17.21915193--17.21914198"
   ]
  },
  {
   "cell_type": "code",
   "execution_count": 13,
   "id": "12f5091e-3963-43aa-8c9e-9e62a1c2b425",
   "metadata": {},
   "outputs": [],
   "source": [
    "e_ref = -17.21914198"
   ]
  },
  {
   "cell_type": "code",
   "execution_count": 15,
   "id": "c1143171-d9f4-4b96-8f12-fb148ec54425",
   "metadata": {},
   "outputs": [
    {
     "data": {
      "text/plain": [
       "-42.244999999851984"
      ]
     },
     "execution_count": 15,
     "metadata": {},
     "output_type": "execute_result"
    }
   ],
   "source": [
    "eo = -17.21954453\n",
    "eh1 = -17.21915193\n",
    "eh2 = -17.21915193\n",
    "elam = -17.21956442\n",
    "\n",
    "(eo-e_ref)/dlambda+(eh1-e_ref)/dlambda+(eh2-e_ref)/dlambda"
   ]
  },
  {
   "cell_type": "code",
   "execution_count": 17,
   "id": "64877508-209f-4aa9-b0a2-342904b578de",
   "metadata": {},
   "outputs": [
    {
     "data": {
      "text/plain": [
       "0.0009999997274690031"
      ]
     },
     "execution_count": 17,
     "metadata": {},
     "output_type": "execute_result"
    }
   ],
   "source": [
    "(elam - e_ref)/dlambda - ((eo-e_ref)/dlambda+(eh1-e_ref)/dlambda+(eh2-e_ref)/dlambda)"
   ]
  },
  {
   "cell_type": "code",
   "execution_count": null,
   "id": "a0dabefa-74d5-4856-8668-168bec42fddd",
   "metadata": {},
   "outputs": [],
   "source": [
    "    # get correct lambda value\n",
    "    for lam_val in lambda_values:\n",
    "        #print(lam_val)\n",
    "        elec_pp = np.round(lam_val*num_ve) # electrons coming from pseudopotentials\n",
    "        charge = elec_pp-num_ve # electrons added to conserve total number of electrons\n",
    "\n",
    "        lambda_path = os.path.join(compound_path, f'lam_{lam_val}/')\n",
    "        os.makedirs(lambda_path, exist_ok=True)\n",
    "\n",
    "        # generate input file\n",
    "        input_path = os.path.join(lambda_path, 'run.inp')\n",
    "        if lam_val > 0.501:\n",
    "            write_input(atom_symbols, charge, coords_final, num_gpts, boxsize, input_path, pp_type, template_inp, debug = False)\n",
    "        else:\n",
    "            write_input(atom_symbols, charge, coords_final, num_gpts, boxsize, input_path, pp_type, template_inp_small_lambda, debug = False)\n",
    "\n",
    "        # generate pp-files\n",
    "        write_pp_files_compound(atom_symbols, lam_val, lambda_path, pp_dir, pp_type)\n",
    "        write_pp_files_compound_partial(atom_symbols, [lam_val1, lam_val2], lambda_path, pp_dir, pp_type)\n",
    "        \n",
    "        print(lambda_path)"
   ]
  },
  {
   "cell_type": "code",
   "execution_count": null,
   "id": "0c5c9c95-ac7e-4a5d-aafb-42754afc3477",
   "metadata": {
    "tags": []
   },
   "outputs": [],
   "source": [
    "def wrapper_ase2(atoms, compound_path, lambda_values, pp_dir, pp_type, template_inp, template_inp_small_lambda):\n",
    "    \"\"\"\n",
    "    generates all necessary files for a cpmd calculation using an atoms object from ase as input\n",
    "    \"\"\"\n",
    "    # calculation parameters (independent of lambda value)\n",
    "    atom_symbols = atoms.get_chemical_symbols()\n",
    "    nuc_charges = atoms.get_atomic_numbers()\n",
    "    num_ve = eqd.get_num_val_elec(nuc_charges) # get number of ve\n",
    "    boxsize = get_boxsize(num_ve) # get boxsize\n",
    "    num_gpts_lower, num_gpts_higher = get_gpts(num_ve/2) # get gridpoints\n",
    "    num_gpts = num_gpts_higher\n",
    "    # shift molecule to center of box\n",
    "    coords_final = eqd.shift2center(atoms.get_positions(), np.array([boxsize, boxsize, boxsize])/2)\n",
    "\n",
    "    # get correct lambda value\n",
    "    for lam_val in lambda_values:\n",
    "        #print(lam_val)\n",
    "        elec_pp = np.round(lam_val*num_ve) # electrons coming from pseudopotentials\n",
    "        charge = elec_pp-num_ve # electrons added to conserve total number of electrons\n",
    "\n",
    "        lambda_path = os.path.join(compound_path, f'lam_{lam_val}/')\n",
    "        os.makedirs(lambda_path, exist_ok=True)\n",
    "\n",
    "        # generate input file\n",
    "        input_path = os.path.join(lambda_path, 'run.inp')\n",
    "        if lam_val > 0.501:\n",
    "            write_input(atom_symbols, charge, coords_final, num_gpts, boxsize, input_path, pp_type, template_inp, debug = False)\n",
    "        else:\n",
    "            write_input(atom_symbols, charge, coords_final, num_gpts, boxsize, input_path, pp_type, template_inp_small_lambda, debug = False)\n",
    "\n",
    "        # generate pp-files\n",
    "        write_pp_files_compound(atom_symbols, lam_val, lambda_path, pp_dir, pp_type)\n",
    "        \n",
    "        print(lambda_path)\n",
    "        \n",
    "def wrapper_ase3(atoms, compound_path, lambda_values, pp_dir, pp_type, template_inp, template_inp_small_lambda):\n",
    "    \"\"\"\n",
    "    generates all necessary files for a cpmd calculation using an atoms object from ase as input\n",
    "    \"\"\"\n",
    "    # calculation parameters (independent of lambda value)\n",
    "    atom_symbols = ['H1', 'H2']#atoms.get_chemical_symbols()\n",
    "    nuc_charges = atoms.get_atomic_numbers()\n",
    "    num_ve = eqd.get_num_val_elec(nuc_charges) # get number of ve\n",
    "    boxsize = get_boxsize(num_ve) # get boxsize\n",
    "    num_gpts_lower, num_gpts_higher = get_gpts(num_ve/2) # get gridpoints\n",
    "    num_gpts = num_gpts_higher\n",
    "    # shift molecule to center of box\n",
    "    coords_final = eqd.shift2center(atoms.get_positions(), np.array([boxsize, boxsize, boxsize])/2)\n",
    "\n",
    "    # get correct lambda value\n",
    "    for lam_val1, lam_val2 in lambda_values:\n",
    "        #print(lam_val)\n",
    "        elec_pp = int(np.round(lam_val1 + lam_val2)) # electrons coming from pseudopotentials\n",
    "        charge = elec_pp-num_ve # electrons added to conserve total number of electrons\n",
    "        lambda_path = os.path.join(compound_path, f'H2_lam_{lam_val2}/')\n",
    "        os.makedirs(lambda_path, exist_ok=True)\n",
    "\n",
    "        # generate input file\n",
    "        input_path = os.path.join(lambda_path, 'run.inp')\n",
    "        if lam_val1 > 0.501:\n",
    "            write_input(atom_symbols, charge, coords_final, num_gpts, boxsize, input_path, pp_type, template_inp, debug = False)\n",
    "        else:\n",
    "            write_input(atom_symbols, charge, coords_final, num_gpts, boxsize, input_path, pp_type, template_inp_small_lambda, debug = False)\n",
    "\n",
    "        # generate pp-files\n",
    "        #write_pp_files_compound(atom_symbols, lam_val, lambda_path, pp_dir, pp_type)\n",
    "        write_pp_files_compound_partial(atom_symbols, [lam_val1, lam_val2], lambda_path, pp_dir, pp_type)\n",
    "        print(lambda_path)"
   ]
  },
  {
   "cell_type": "code",
   "execution_count": null,
   "id": "fbde59b2-37ac-45cd-b01e-b4212af9adfd",
   "metadata": {
    "tags": []
   },
   "outputs": [],
   "source": [
    "# define parameters\n",
    "pp_dir = '/data/sahre/PP_LIBRARY'\n",
    "pp_type = 'SG_LDA'\n",
    "template_inp = '/data/sahre/projects/atomic-energies/cpmd_params_template_lda_cutoff.inp'\n",
    "template_inp_small_lambda = '/data/sahre/projects/atomic-energies/cpmd_params_template_lda_small_lambda_cutoff.inp'\n",
    "compound_path = '/data/sahre/projects/atomic-energies/derivatives/H2/H2_stretched'\n",
    "dlam = 0.00001\n",
    "#lambda_values = np.array([0.11, 0.31, 0.41, 0.51, 0.71, 0.91]) + dlam\n",
    "\n",
    "lambda_values = np.sort(np.concatenate((np.arange(0.0, 1.05, 0.05), np.arange(0.0, 1.05, 0.05)+dlam)))\n",
    "\n",
    "atoms = aio.read('/data/sahre/projects/atomic-energies/derivatives/H2/H2_stretched.xyz')\n",
    "\n",
    "wrapper_ase2(atoms, compound_path, lambda_values, pp_dir, pp_type, template_inp, template_inp_small_lambda)"
   ]
  },
  {
   "cell_type": "code",
   "execution_count": null,
   "id": "a27b1c38-0a91-4339-b2cb-735486553ff0",
   "metadata": {},
   "outputs": [],
   "source": []
  },
  {
   "cell_type": "code",
   "execution_count": null,
   "id": "90f306d0-d621-488b-84cc-5cb2e80f3d40",
   "metadata": {
    "tags": []
   },
   "outputs": [],
   "source": [
    "# define parameters\n",
    "pp_dir = '/data/sahre/PP_LIBRARY'\n",
    "pp_type = 'SG_LDA'\n",
    "template_inp = '/data/sahre/projects/atomic-energies/cpmd_params_template_lda_cutoff.inp'\n",
    "template_inp_small_lambda = '/data/sahre/projects/atomic-energies/cpmd_params_template_lda_small_lambda_cutoff.inp'\n",
    "compound_path = '/data/sahre/projects/atomic-energies/derivatives/H2/partial_derivatives_stretched/'\n",
    "dlam = 0.00001\n",
    "\n",
    "lam = np.arange(0.0, 1.05, 0.05)\n",
    "\n",
    "lambda_values = np.array([lam, lam+dlam]).T\n",
    "\n",
    "atoms = aio.read('/data/sahre/projects/atomic-energies/derivatives/H2/H2_stretched.xyz')\n",
    "\n",
    "wrapper_ase3(atoms, compound_path, lambda_values, pp_dir, pp_type, template_inp, template_inp_small_lambda)"
   ]
  },
  {
   "cell_type": "code",
   "execution_count": null,
   "id": "c39abd46-adb5-4133-85c1-eec120901198",
   "metadata": {},
   "outputs": [],
   "source": [
    "np.arange(0.0, 1.05, 0.05)"
   ]
  }
 ],
 "metadata": {
  "kernelspec": {
   "display_name": "Python 3 (ipykernel)",
   "language": "python",
   "name": "python3"
  },
  "language_info": {
   "codemirror_mode": {
    "name": "ipython",
    "version": 3
   },
   "file_extension": ".py",
   "mimetype": "text/x-python",
   "name": "python",
   "nbconvert_exporter": "python",
   "pygments_lexer": "ipython3",
   "version": "3.9.10"
  }
 },
 "nbformat": 4,
 "nbformat_minor": 5
}
