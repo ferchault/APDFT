{
 "cells": [
  {
   "cell_type": "code",
   "execution_count": 1,
   "id": "4e1b4ad3-9948-4f9c-9fe6-c2ff91a57a19",
   "metadata": {
    "tags": []
   },
   "outputs": [
    {
     "name": "stderr",
     "output_type": "stream",
     "text": [
      "In /home/sahre/opt/miniconda3/envs/qm-tools/lib/python3.9/site-packages/matplotlib/mpl-data/stylelib/_classic_test.mplstyle: \n",
      "The text.latex.preview rcparam was deprecated in Matplotlib 3.3 and will be removed two minor releases later.\n",
      "In /home/sahre/opt/miniconda3/envs/qm-tools/lib/python3.9/site-packages/matplotlib/mpl-data/stylelib/_classic_test.mplstyle: \n",
      "The mathtext.fallback_to_cm rcparam was deprecated in Matplotlib 3.3 and will be removed two minor releases later.\n",
      "In /home/sahre/opt/miniconda3/envs/qm-tools/lib/python3.9/site-packages/matplotlib/mpl-data/stylelib/_classic_test.mplstyle: Support for setting the 'mathtext.fallback_to_cm' rcParam is deprecated since 3.3 and will be removed two minor releases later; use 'mathtext.fallback : 'cm' instead.\n",
      "In /home/sahre/opt/miniconda3/envs/qm-tools/lib/python3.9/site-packages/matplotlib/mpl-data/stylelib/_classic_test.mplstyle: \n",
      "The validate_bool_maybe_none function was deprecated in Matplotlib 3.3 and will be removed two minor releases later.\n",
      "In /home/sahre/opt/miniconda3/envs/qm-tools/lib/python3.9/site-packages/matplotlib/mpl-data/stylelib/_classic_test.mplstyle: \n",
      "The savefig.jpeg_quality rcparam was deprecated in Matplotlib 3.3 and will be removed two minor releases later.\n",
      "In /home/sahre/opt/miniconda3/envs/qm-tools/lib/python3.9/site-packages/matplotlib/mpl-data/stylelib/_classic_test.mplstyle: \n",
      "The keymap.all_axes rcparam was deprecated in Matplotlib 3.3 and will be removed two minor releases later.\n",
      "In /home/sahre/opt/miniconda3/envs/qm-tools/lib/python3.9/site-packages/matplotlib/mpl-data/stylelib/_classic_test.mplstyle: \n",
      "The animation.avconv_path rcparam was deprecated in Matplotlib 3.3 and will be removed two minor releases later.\n",
      "In /home/sahre/opt/miniconda3/envs/qm-tools/lib/python3.9/site-packages/matplotlib/mpl-data/stylelib/_classic_test.mplstyle: \n",
      "The animation.avconv_args rcparam was deprecated in Matplotlib 3.3 and will be removed two minor releases later.\n"
     ]
    }
   ],
   "source": [
    "import importlib\n",
    "\n",
    "import ase.io as aio\n",
    "\n",
    "import os\n",
    "import numpy as np\n",
    "import qml\n",
    "import ase\n",
    "import sys\n",
    "sys.path.insert(0, '/home/sahre/git_repositories/APDFT/prototyping/atomic_energies/hitp/')\n",
    "sys.path.insert(0, '/home/sahre/git_repositories/APDFT/prototyping/atomic_energies/')\n",
    "import prepare_calculations as pc\n",
    "importlib.reload(pc)\n",
    "\n",
    "import explore_qml_data as eqd\n",
    "import utils_qm as uqm\n",
    "import glob\n",
    "import cpmd_io\n",
    "importlib.reload(cpmd_io)\n",
    "import shutil\n",
    "import collections"
   ]
  },
  {
   "cell_type": "code",
   "execution_count": 2,
   "id": "8a4de9a6-5ea1-4a09-b42d-f110c9e1f031",
   "metadata": {
    "tags": []
   },
   "outputs": [],
   "source": [
    "def parse_xyz_for_CPMD_input(path2xyz):\n",
    "    # get structure information from xyz file\n",
    "    molecule = aio.read(path2xyz)\n",
    "\n",
    "    atom_symbolsEl = []\n",
    "    atom_symbolsIdx = []\n",
    "    for i, el in enumerate(molecule.get_chemical_symbols()):\n",
    "        atom_symbolsEl.append(el)\n",
    "        atom_symbolsIdx.append(el + str(i+1))\n",
    "    atom_symbols = {'el':atom_symbolsEl, 'elIdx':atom_symbolsIdx}\n",
    "    nuc_charges = molecule.get_atomic_numbers()\n",
    "    valence_charges = eqd.get_val_charges(nuc_charges)\n",
    "    positions = molecule.get_positions()\n",
    "    return(atom_symbols, nuc_charges, positions, valence_charges)\n",
    "\n",
    "def check_correct_charge():\n",
    "    compounds = ['CH4', 'H2O', 'NH3', 'HF', 'ethane', 'ethene', 'ethyne', 'HCN']\n",
    "\n",
    "    lambda_values = np.arange(0.05, 1.05, 0.05)#np.linspace(0, 0.9, 10)\n",
    "    for comp in compounds:\n",
    "        for lam in lambda_values:\n",
    "\n",
    "            # path to PP-files and type of PP (pbe)\n",
    "            pp_dir = '/data/sahre/PP_LIBRARY'\n",
    "            pp_type = 'GH_PBE'\n",
    "\n",
    "            # input templates\n",
    "            template_inp = '/data/sahre/projects/atomic-energies/templates_inp/cpmd_template.inp'\n",
    "            template_inp_small_lambda = '/data/sahre/projects/atomic-energies/templates_inp/cpmd_template_small_lambda.inp'\n",
    "\n",
    "            # read optimized geometry and extract molecule specific parameters\n",
    "            xyz_path = f'/data/sahre/projects/finite_differences/small_molecules/{comp}/GEOMETRY.xyz'\n",
    "            atom_symbols, nuc_charges, positions, valence_charges = parse_xyz_for_CPMD_input(xyz_path)\n",
    "            # define the array of lambda values\n",
    "            lambda_value = np.full_like(valence_charges, fill_value=lam, dtype='float')\n",
    "            # calculate correct boxsize\n",
    "            num_ve = valence_charges.sum()\n",
    "            reference_density = 8/(15**3) # density of UEG for a boxlength of 15 Ang and 8 valence electrons\n",
    "            boxsize = (num_ve/reference_density)**(1/3)\n",
    "\n",
    "            shift2center = True\n",
    "\n",
    "            path = f'/data/sahre/projects/finite_differences/small_molecules/{comp}/lam_{np.round(lam, 3)}'\n",
    "\n",
    "            pp_files = glob.glob(path+'/*_GH_PBE')\n",
    "            num_ve = 0\n",
    "            for p in pp_files:\n",
    "                with open(p, 'r') as f:\n",
    "                    for line in f:\n",
    "                        if 'ZV' in line:\n",
    "                            num_ve += float(line.split()[-1])\n",
    "\n",
    "            # if np.abs(np.floor(num_ve) +0.5 - num_ve) < 0.1:\n",
    "            #     print(path)\n",
    "            num_ve = np.round(num_ve,0)\n",
    "\n",
    "            with open(path+'/run.inp', 'r') as f:\n",
    "                for line in f:\n",
    "                    if 'CHARGE' in line:\n",
    "                        charge = float(f.readline().strip('\\n'))\n",
    "            if (-charge + num_ve) - valence_charges.sum() > 1e-10:\n",
    "                print(path)"
   ]
  },
  {
   "cell_type": "markdown",
   "id": "842ca1ad-0a92-4f7c-aba4-960336f04e1e",
   "metadata": {},
   "source": [
    "# debug wrong number of electrons"
   ]
  },
  {
   "cell_type": "code",
   "execution_count": 112,
   "id": "c90610a7-4071-492e-9e05-6b54f3fccb95",
   "metadata": {},
   "outputs": [],
   "source": [
    "compounds = [\"HCN\"]#['CH4', 'H2O', 'NH3', 'HF', 'ethane', 'ethene', 'ethyne', 'HCN']\n",
    "paths_tar=[]\n",
    "lambda_values = np.array([0.05, 0.25, 0.45, 0.65, 0.85])\n",
    "for comp in compounds:\n",
    "    for lam in lambda_values:\n",
    "        \n",
    "        # path to PP-files and type of PP (pbe)\n",
    "        pp_dir = '/data/sahre/PP_LIBRARY'\n",
    "        pp_type = 'GH_PBE'\n",
    "        \n",
    "        # input templates\n",
    "        template_inp = '/data/sahre/projects/atomic-energies/templates_inp/cpmd_template.inp'\n",
    "        template_inp_small_lambda = '/data/sahre/projects/atomic-energies/templates_inp/cpmd_template_small_lambda.inp'\n",
    "        \n",
    "        # read optimized geometry and extract molecule specific parameters\n",
    "        xyz_path = f'/data/sahre/projects/finite_differences/small_molecules/{comp}/GEOMETRY.xyz'\n",
    "        atom_symbols, nuc_charges, positions, valence_charges = parse_xyz_for_CPMD_input(xyz_path)\n",
    "        # define the array of lambda values\n",
    "        lambda_value = np.full_like(valence_charges, fill_value=lam, dtype='float')\n",
    "        # calculate correct boxsize\n",
    "        num_ve = valence_charges.sum()\n",
    "        reference_density = 8/(15**3) # density of UEG for a boxlength of 15 Ang and 8 valence electrons\n",
    "        boxsize = (num_ve/reference_density)**(1/3)\n",
    "\n",
    "        shift2center = True\n",
    "\n",
    "        path = f'/data/sahre/projects/finite_differences/small_molecules/{comp}/debug/lam_{np.round(lam, 3)}'\n",
    "        \n",
    "        # paths_tar.append(f'./{comp}/lam_{np.round(lam, 3)}\\n')\n",
    "        pc.create_run_dir(atom_symbols, boxsize, nuc_charges, positions, lambda_value, path, pp_dir, pp_type, shift2center, template_inp, template_inp_small_lambda, valence_charges)"
   ]
  },
  {
   "cell_type": "code",
   "execution_count": 107,
   "id": "b3c4296a-5951-4fc5-af77-d8d3a50dec00",
   "metadata": {},
   "outputs": [],
   "source": [
    "\n",
    "compounds = ['CH4', 'H2O', 'NH3', 'HF', 'ethane', 'ethene', 'ethyne', 'HCN']\n",
    "lambda_values = np.arange(0.0, 1.05, 0.05)\n",
    "for comp in compounds:\n",
    "    for lam in lambda_values:\n",
    "        xyz_path = f'/data/sahre/projects/finite_differences/small_molecules/{comp}/GEOMETRY.xyz'\n",
    "        atom_symbols, nuc_charges, positions, valence_charges = pc.parse_xyz_for_CPMD_input(xyz_path)\n",
    "        # define the array of lambda values\n",
    "        lambda_value = np.full_like(valence_charges, fill_value=lam, dtype='float')\n",
    "        # calculate correct boxsize\n",
    "        num_ve = valence_charges.sum()\n",
    "        pc.calculate_charge(lambda_value, num_ve, valence_charges)"
   ]
  },
  {
   "cell_type": "code",
   "execution_count": 106,
   "id": "98879585-b4d6-421b-90d6-a7be9b46ec45",
   "metadata": {},
   "outputs": [
    {
     "data": {
      "text/plain": [
       "2.7755575615628914e-17"
      ]
     },
     "execution_count": 106,
     "metadata": {},
     "output_type": "execute_result"
    }
   ],
   "source": [
    "lambda_values[3]-0.15"
   ]
  },
  {
   "cell_type": "code",
   "execution_count": 101,
   "id": "34228edb-1e6d-4d25-bc6a-bc0067864952",
   "metadata": {},
   "outputs": [
    {
     "data": {
      "text/plain": [
       "array([0.  , 0.05, 0.1 , 0.15, 0.2 , 0.25, 0.3 , 0.35, 0.4 , 0.45, 0.5 ,\n",
       "       0.55, 0.6 , 0.65, 0.7 , 0.75, 0.8 , 0.85, 0.9 , 0.95, 1.  ])"
      ]
     },
     "execution_count": 101,
     "metadata": {},
     "output_type": "execute_result"
    }
   ],
   "source": [
    "lambda_values"
   ]
  },
  {
   "cell_type": "markdown",
   "id": "d4c0862b-a541-4e93-bd4b-954d60c3fc47",
   "metadata": {},
   "source": [
    "## finite difference calculations for small molecules"
   ]
  },
  {
   "cell_type": "code",
   "execution_count": null,
   "id": "7f2cb530-f439-465e-9ab0-ce8991666ce2",
   "metadata": {},
   "outputs": [],
   "source": [
    "base_lambda = np.arange(0.05, 1.05, 0.05)\n",
    "compounds = ['CH4', 'NH3', 'HF', 'ethane', 'ethene', 'ethyne', 'HCN']\n",
    "delta_lambda = 5e-5\n",
    "paths = collections.defaultdict(list)\n",
    "for comp in compounds:\n",
    "    for lam in base_lambda:\n",
    "        paths[comp].extend(pc.finite_difference_directories(comp, delta_lambda, lam))"
   ]
  },
  {
   "cell_type": "code",
   "execution_count": null,
   "id": "56f49079-112a-4683-b8c9-6466ff3aa664",
   "metadata": {},
   "outputs": [],
   "source": [
    "for c in compounds:\n",
    "    uqm.write_list(f'/data/sahre/projects/finite_differences/small_molecules/{c}/run_dirs_fd', paths[c])"
   ]
  },
  {
   "cell_type": "code",
   "execution_count": null,
   "id": "b71675da-78ef-49f8-b9b4-1b7f4dbdc483",
   "metadata": {
    "tags": []
   },
   "outputs": [],
   "source": [
    "paths['ethene']"
   ]
  },
  {
   "cell_type": "code",
   "execution_count": null,
   "id": "bfd82d1a-2835-4129-a564-f8d8ded82991",
   "metadata": {},
   "outputs": [],
   "source": [
    "uqm.write_list('/data/sahre/projects/finite_differences/small_molecules/H2O/run_dirs_fd', paths['H2O'])"
   ]
  },
  {
   "cell_type": "markdown",
   "id": "031b0816-67c9-4fb9-86a8-86ff33e58797",
   "metadata": {},
   "source": [
    "### finite differences for additional systems"
   ]
  },
  {
   "cell_type": "code",
   "execution_count": 12,
   "id": "a2107a78-d8a1-498f-8e2f-9d0dd4fa164c",
   "metadata": {},
   "outputs": [],
   "source": [
    "system_paths = uqm.read_list('/data/sahre/projects/finite_differences/small_molecules/dirs')\n",
    "systems = []\n",
    "for s in system_paths:\n",
    "    comp = s.split('/')[-2]\n",
    "    lam = float(s.split('/')[-1].split('_')[-1])\n",
    "    systems.append([comp,lam])"
   ]
  },
  {
   "cell_type": "code",
   "execution_count": 13,
   "id": "7a5d9270-1fb1-407c-8d3a-21da94e6a4ce",
   "metadata": {},
   "outputs": [
    {
     "data": {
      "text/plain": [
       "[['ethene', 0.45]]"
      ]
     },
     "execution_count": 13,
     "metadata": {},
     "output_type": "execute_result"
    }
   ],
   "source": [
    "systems"
   ]
  },
  {
   "cell_type": "code",
   "execution_count": 14,
   "id": "6b6ba338-34e4-4736-8d05-0e9e2a57558a",
   "metadata": {},
   "outputs": [],
   "source": [
    "delta_lambda = 5e-5\n",
    "paths = []\n",
    "for comp, lam in systems:\n",
    "    paths.extend(pc.finite_difference_directories(comp, delta_lambda, lam))"
   ]
  },
  {
   "cell_type": "code",
   "execution_count": 15,
   "id": "d494cfce-e0ec-46d2-870d-5b8bc62c5e60",
   "metadata": {},
   "outputs": [],
   "source": [
    "uqm.write_list('/data/sahre/projects/finite_differences/small_molecules/fd_rest',paths)"
   ]
  },
  {
   "cell_type": "markdown",
   "id": "38f7edc8-0bd4-487f-a172-4b35a68741ce",
   "metadata": {},
   "source": [
    "# prepare base directories for small molecules with fd"
   ]
  },
  {
   "cell_type": "code",
   "execution_count": null,
   "id": "50bc44ef-4fc2-4b8e-ac73-b74584a00f10",
   "metadata": {},
   "outputs": [],
   "source": [
    "compounds = ['CH4', 'H2O', 'NH3', 'HF', 'ethane', 'ethene', 'ethyne', 'HCN']\n",
    "paths_tar=[]\n",
    "lambda_values = np.linspace(0.05, 0.95, 10)#np.linspace(0, 0.9, 10)\n",
    "for comp in compounds:\n",
    "    for lam in lambda_values:\n",
    "        \n",
    "        # path to PP-files and type of PP (pbe)\n",
    "        pp_dir = '/data/sahre/PP_LIBRARY'\n",
    "        pp_type = 'GH_PBE'\n",
    "        \n",
    "        # input templates\n",
    "        template_inp = '/data/sahre/projects/atomic-energies/templates_inp/cpmd_template.inp'\n",
    "        template_inp_small_lambda = '/data/sahre/projects/atomic-energies/templates_inp/cpmd_template_small_lambda.inp'\n",
    "        \n",
    "        # read optimized geometry and extract molecule specific parameters\n",
    "        xyz_path = f'/data/sahre/projects/finite_differences/small_molecules/{comp}/GEOMETRY.xyz'\n",
    "        atom_symbols, nuc_charges, positions, valence_charges = parse_xyz_for_CPMD_input(xyz_path)\n",
    "        # define the array of lambda values\n",
    "        lambda_value = np.full_like(valence_charges, fill_value=lam, dtype='float')\n",
    "        # calculate correct boxsize\n",
    "        num_ve = valence_charges.sum()\n",
    "        reference_density = 8/(15**3) # density of UEG for a boxlength of 15 Ang and 8 valence electrons\n",
    "        boxsize = (num_ve/reference_density)**(1/3)\n",
    "\n",
    "        shift2center = True\n",
    "\n",
    "        path = f'/data/sahre/projects/finite_differences/small_molecules/{comp}/lam_{np.round(lam, 3)}'\n",
    "        \n",
    "        # paths_tar.append(f'./{comp}/lam_{np.round(lam, 3)}\\n')\n",
    "        pc.create_run_dir(atom_symbols, boxsize, nuc_charges, positions, lambda_value, path, pp_dir, pp_type, shift2center, template_inp, template_inp_small_lambda, valence_charges)"
   ]
  },
  {
   "cell_type": "code",
   "execution_count": null,
   "id": "3975a2c6-23d3-46fc-bb2e-a64bc90bb8ff",
   "metadata": {
    "tags": []
   },
   "outputs": [],
   "source": [
    "paths_tar\n",
    "with open('/data/sahre/projects/finite_differences/small_molecules/sm2', 'w') as f:\n",
    "    for p in paths_tar:\n",
    "        f.write(p)"
   ]
  },
  {
   "cell_type": "markdown",
   "id": "cc27a7f1-3665-4978-b5db-ff5b546b494f",
   "metadata": {},
   "source": [
    "# GEOMETRY OPTIMIZATION"
   ]
  },
  {
   "cell_type": "code",
   "execution_count": null,
   "id": "5bd34a85-2be5-4bec-a11b-e1b2808f79dc",
   "metadata": {
    "jupyter": {
     "source_hidden": true
    },
    "tags": []
   },
   "outputs": [],
   "source": [
    "def create_run_dir_boxsize(path, atom_symbols, boxsize, nuc_charges, positions, lambda_value, shift2center, valence_charges):\n",
    "\n",
    "    # create directory if not exists\n",
    "    os.makedirs(path, exist_ok=True)\n",
    "    num_gpts = 0\n",
    "\n",
    "    # shift molecule to center of box\n",
    "    if shift2center:\n",
    "        coords_final = eqd.shift2center(positions, np.array([boxsize, boxsize, boxsize])/2)\n",
    "    else:\n",
    "        coords_final = positions\n",
    "        \n",
    "    # lambda dependent quantities\n",
    "\n",
    "    # add correct number of electrons such that system stays isoelectronic to target molecule\n",
    "    num_ve = valence_charges.sum()\n",
    "    charge = calculate_charge(lambda_value, num_ve, valence_charges, integer_electrons=False)\n",
    "\n",
    "    # generate input file\n",
    "    input_path = os.path.join(path, 'run.inp')\n",
    "    \n",
    "    # start from random wavefunction as initial guess if lambda < 0.5 otherwise the calculation will crash\n",
    "    if type(lambda_value) == float:\n",
    "        lam_min = lambda_value\n",
    "    else:\n",
    "        lam_min = np.amin(lambda_value)\n",
    "        \n",
    "    if lam_min > 0.501:\n",
    "        write_input(atom_symbols['elIdx'], charge, coords_final, num_gpts, boxsize, input_path, pp_type, template_inp, debug = False)\n",
    "    else:\n",
    "        write_input(atom_symbols['elIdx'], charge, coords_final, num_gpts, boxsize, input_path, pp_type, template_inp_small_lambda, debug = False)\n",
    "\n",
    "    # generate pp-files\n",
    "    if type(lambda_value) == float:\n",
    "        write_pp_files_compound(atom_symbols, lambda_value, path, pp_dir, pp_type)\n",
    "    else:\n",
    "        write_pp_files_compound_partial(atom_symbols, lambda_value, path, pp_dir, pp_type)"
   ]
  },
  {
   "cell_type": "code",
   "execution_count": null,
   "id": "f86d6b8d-ee0c-4f93-8f07-4ee18e9d4fd7",
   "metadata": {},
   "outputs": [],
   "source": [
    "compounds = ['CH4', 'H2O', 'NH3', 'HF', 'ethane', 'ethene', 'ethyne', 'HCN']\n",
    "\n",
    "comp = 'HCN'\n",
    "\n",
    "for comp in compounds:\n",
    "    pp_dir = '/data/sahre/PP_LIBRARY'\n",
    "    pp_type = 'GH_PBE'\n",
    "\n",
    "    template_inp = '/data/sahre/projects/atomic-energies/templates_inp/cpmd_template_geom.inp'\n",
    "\n",
    "    xyz_path = f'/data/sahre/projects/finite_differences/small_molecules/{comp}/GEOMETRY.xyz'\n",
    "    atom_symbols, nuc_charges, positions, valence_charges = parse_xyz_for_CPMD_input(xyz_path)\n",
    "    lambda_value = np.full_like(valence_charges, fill_value=1.0, dtype='float')\n",
    "    # calculate correct boxsize\n",
    "    num_ve = valence_charges.sum()\n",
    "    reference_density = 8/(15**3) # density of UEG for a boxlength of 15 Ang and 8 valence electrons\n",
    "    boxsize = (num_ve/reference_density)**(1/3)\n",
    "    shift2center = True\n",
    "\n",
    "    path = f'/data/sahre/projects/finite_differences/small_molecules/{comp}'\n",
    "\n",
    "    create_run_dir_boxsize(path, atom_symbols, boxsize, nuc_charges, positions, lambda_value, shift2center, valence_charges)"
   ]
  },
  {
   "cell_type": "markdown",
   "id": "9f12014f-fb64-4481-ad51-e800ed4a0c35",
   "metadata": {},
   "source": [
    "# Boxsize convergence studies"
   ]
  },
  {
   "cell_type": "code",
   "execution_count": null,
   "id": "caed8478-49df-45d0-b77a-dec61be9fcb0",
   "metadata": {},
   "outputs": [],
   "source": [
    "# optimize geometry (at lambda = 1)\n",
    "\n",
    "# create input for different boxsizes\n",
    "## remove MESH key and get grid points directly from PW CUTOFF"
   ]
  },
  {
   "cell_type": "code",
   "execution_count": null,
   "id": "b93e70fc-42a4-4685-b50e-b39a059a7cdd",
   "metadata": {
    "tags": []
   },
   "outputs": [],
   "source": [
    "def create_run_dir_boxsize(path, atom_symbols, boxsize, nuc_charges, positions, lambda_value, shift2center, valence_charges):\n",
    "\n",
    "    # create directory if not exists\n",
    "    os.makedirs(path, exist_ok=True)\n",
    "    num_gpts = 0\n",
    "\n",
    "    # shift molecule to center of box\n",
    "    if shift2center:\n",
    "        coords_final = eqd.shift2center(positions, np.array([boxsize, boxsize, boxsize])/2)\n",
    "    else:\n",
    "        coords_final = positions\n",
    "        \n",
    "    # lambda dependent quantities\n",
    "\n",
    "    # add correct number of electrons such that system stays isoelectronic to target molecule\n",
    "    num_ve = valence_charges.sum()\n",
    "    charge = calculate_charge(lambda_value, num_ve, valence_charges, integer_electrons=False)\n",
    "\n",
    "    # generate input file\n",
    "    input_path = os.path.join(path, 'run.inp')\n",
    "    \n",
    "    # start from random wavefunction as initial guess if lambda < 0.5 otherwise the calculation will crash\n",
    "    if type(lambda_value) == float:\n",
    "        lam_min = lambda_value\n",
    "    else:\n",
    "        lam_min = np.amin(lambda_value)\n",
    "        \n",
    "    if lam_min > 0.501:\n",
    "        write_input(atom_symbols['elIdx'], charge, coords_final, num_gpts, boxsize, input_path, pp_type, template_inp, debug = False)\n",
    "    else:\n",
    "        write_input(atom_symbols['elIdx'], charge, coords_final, num_gpts, boxsize, input_path, pp_type, template_inp_small_lambda, debug = False)\n",
    "\n",
    "    # generate pp-files\n",
    "    if type(lambda_value) == float:\n",
    "        write_pp_files_compound(atom_symbols, lambda_value, path, pp_dir, pp_type)\n",
    "    else:\n",
    "        write_pp_files_compound_partial(atom_symbols, lambda_value, path, pp_dir, pp_type)"
   ]
  },
  {
   "cell_type": "code",
   "execution_count": null,
   "id": "f7448307-c222-4f16-b321-7c1b98e736c8",
   "metadata": {},
   "outputs": [],
   "source": [
    "comp = 'H2O'\n",
    "boxsize = 20\n",
    "\n",
    "\n",
    "pp_dir = '/data/sahre/PP_LIBRARY'\n",
    "pp_type = 'GH_PBE'\n",
    "template_inp = '/data/sahre/projects/atomic-energies/templates_inp/cpmd_template.inp'\n",
    "template_inp_small_lambda = '/data/sahre/projects/atomic-energies/templates_inp/cpmd_template_small_lambda.inp'\n",
    "\n",
    "xyz_path = f'/data/sahre/projects/finite_differences/boxsize/{comp}_{boxsize}/GEOMETRY.xyz'\n",
    "atom_symbols, nuc_charges, positions, valence_charges = parse_xyz_for_CPMD_input(xyz_path)\n",
    "lambda_value = np.full_like(valence_charges, fill_value=0.0, dtype='float')\n",
    "\n",
    "shift2center = True\n",
    "path = f'/data/sahre/projects/finite_differences/boxsize/{comp}_{boxsize}_lam{lambda_value[0]}'"
   ]
  },
  {
   "cell_type": "code",
   "execution_count": null,
   "id": "c1fe87b1-9515-40e1-b1d7-d2152bd5b860",
   "metadata": {},
   "outputs": [],
   "source": [
    "create_run_dir_boxsize(path, atom_symbols, boxsize, nuc_charges, positions, lambda_value, shift2center, valence_charges)"
   ]
  },
  {
   "cell_type": "markdown",
   "id": "9a633b82-dc6d-41e3-b6de-406ef8ee9bbd",
   "metadata": {},
   "source": [
    "### UEG vs NVE"
   ]
  },
  {
   "cell_type": "code",
   "execution_count": null,
   "id": "2455fd1c-b679-499a-8567-3d6d696b938c",
   "metadata": {},
   "outputs": [],
   "source": [
    "# compounds = ['ethane', 'ethene', 'ethyne']\n",
    "compounds = ['H2O']\n",
    "boxsizes = [20, 22.5, 25]\n",
    "\n",
    "\n",
    "for comp in compounds:\n",
    "    for boxsize in boxsizes:\n",
    "        pp_dir = '/data/sahre/PP_LIBRARY'\n",
    "        pp_type = 'GH_PBE'\n",
    "        template_inp = '/data/sahre/projects/atomic-energies/templates_inp/cpmd_template.inp'\n",
    "        template_inp_small_lambda = '/data/sahre/projects/atomic-energies/templates_inp/cpmd_template_small_lambda.inp'\n",
    "\n",
    "        xyz_path = f'/data/sahre/projects/finite_differences/small_molecules/{comp}/GEOMETRY.xyz'\n",
    "        atom_symbols, nuc_charges, positions, valence_charges = parse_xyz_for_CPMD_input(xyz_path)\n",
    "        lambda_value = np.full_like(valence_charges, fill_value=0.0, dtype='float')\n",
    "        num_ve = valence_charges.sum()\n",
    "        shift2center = True\n",
    "        path = f'/data/sahre/projects/finite_differences/boxsize/UEG/ve_{num_ve}/a_{boxsize}'\n",
    "        pc.create_run_dir(atom_symbols, boxsize, nuc_charges, positions, lambda_value, path, pp_dir, pp_type, shift2center, template_inp, template_inp_small_lambda, valence_charges)"
   ]
  },
  {
   "cell_type": "code",
   "execution_count": null,
   "id": "407401bd-be3a-45cd-8758-39617e348448",
   "metadata": {},
   "outputs": [],
   "source": []
  },
  {
   "cell_type": "markdown",
   "id": "86b27f16-e8b2-482f-b248-38f30b9caf99",
   "metadata": {},
   "source": [
    "# central differences butanol"
   ]
  },
  {
   "cell_type": "code",
   "execution_count": null,
   "id": "eb96698e-a0cd-445c-a731-6822909b6122",
   "metadata": {
    "tags": []
   },
   "outputs": [],
   "source": [
    "def create_run_dir(path, atom_symbols, nuc_charges, positions, lambda_value, valence_charges = None, integer_electrons = False):\n",
    "\n",
    "    # create directory if not exists\n",
    "    os.makedirs(path, exist_ok=True)\n",
    "\n",
    "    # set parameters independent of lambda value\n",
    "    num_ve = eqd.get_num_val_elec(nuc_charges) # get number of ve\n",
    "    boxsize = get_boxsize(num_ve) # get boxsize\n",
    "    num_gpts_lower, num_gpts_higher = get_gpts(num_ve) # get gridpoints\n",
    "    num_gpts = num_gpts_higher\n",
    "    # shift molecule to center of box\n",
    "    # coords_final = eqd.shift2center(positions, np.array([boxsize, boxsize, boxsize])/2)\n",
    "    coords_final = positions\n",
    "    # lambda dependent quantities\n",
    "\n",
    "    # add correct number of electrons such that system stays isoelectronic to target molecule\\\n",
    "    charge = calculate_charge(lambda_value, num_ve, valence_charges, integer_electrons)\n",
    "\n",
    "    # generate input file\n",
    "    input_path = os.path.join(path, 'run.inp')\n",
    "    \n",
    "    # start from random wavefunction as initial guess if lambda < 0.5 otherwise the calculation will crash\n",
    "    if type(lambda_value) == float:\n",
    "        lam_min = lambda_value\n",
    "    else:\n",
    "        lam_min = np.amin(lambda_value)\n",
    "        \n",
    "    if lam_min > 0.501:\n",
    "        write_input(atom_symbols['elIdx'], charge, coords_final, num_gpts, boxsize, input_path, pp_type, template_inp, debug = False)\n",
    "    else:\n",
    "        write_input(atom_symbols['elIdx'], charge, coords_final, num_gpts, boxsize, input_path, pp_type, template_inp_small_lambda, debug = False)\n",
    "\n",
    "    # generate pp-files\n",
    "    if type(lambda_value) == float:\n",
    "        write_pp_files_compound(atom_symbols, lambda_value, path, pp_dir, pp_type)\n",
    "    else:\n",
    "        write_pp_files_compound_partial(atom_symbols, lambda_value, path, pp_dir, pp_type)\n",
    "        \n"
   ]
  },
  {
   "cell_type": "markdown",
   "id": "2c4e928b-a390-4f7e-a191-e65b13e67052",
   "metadata": {},
   "source": [
    "### calculation of finite differences"
   ]
  },
  {
   "cell_type": "code",
   "execution_count": null,
   "id": "aa780864-bd3f-4332-bb62-230dd4a88289",
   "metadata": {},
   "outputs": [],
   "source": [
    "compound_directory = '/data/sahre/projects/atomic_force_field/bond_stretch/butanol/dist_0.0'\n",
    "lambda_directories_names = ['ve_06',  've_13',  've_19',  've_26',  've_32']\n",
    "base_lambda_values = np.array([6,13,19,26,32])/32\n",
    "dlambda = 1e-5 # finite difference\n"
   ]
  },
  {
   "cell_type": "code",
   "execution_count": null,
   "id": "f873bf78-310f-48d7-a283-495d48e9a24e",
   "metadata": {
    "tags": []
   },
   "outputs": [],
   "source": [
    "for ve, base_lambda in zip(lambda_directories_names, base_lambda_values):\n",
    "\n",
    "    xyz_path = f'{compound_directory}/{ve}/GEOMETRY.xyz'\n",
    "    atom_symbols, nuc_charges, positions, valence_charges = parse_xyz_for_CPMD_input(xyz_path)\n",
    "    \n",
    "    \n",
    "    for idx, derivative in enumerate(atom_symbols['elIdx']):\n",
    "        \n",
    "        for sign, label in zip([-1, 1], ['bw', 'fw']):\n",
    "            \n",
    "            path = f'{compound_directory}/{ve}/dE_d{derivative}_{label}' # path to directory where run.inp and pseudopotentials will be written to\n",
    "            lambda_value = [base_lambda]*len(atom_symbols['elIdx'])\n",
    "            lambda_value[idx] = lambda_value[idx] + sign*dlambda\n",
    "            # print(lambda_value)\n",
    "    \n",
    "            atom_symbols = atom_symbols # string element + integer index\n",
    "            nuc_charges = nuc_charges# list of nuclear charges\n",
    "            valence_charges = valence_charges\n",
    "            positions = positions# atom positions\n",
    "\n",
    "\n",
    "            integer_electrons = False# rescales lambda value such that number of electrons from nuclei is an integer only kept for backwards compability\n",
    "\n",
    "            pp_dir = '/data/sahre/PP_LIBRARY'\n",
    "            pp_type = 'GH_PBE'\n",
    "            template_inp = '/data/sahre/projects/atomic-energies/cpmd_params_template_pbe.inp'\n",
    "            template_inp_small_lambda = '/data/sahre/projects/atomic-energies/cpmd_params_template_pbe_small_lambda.inp'\n",
    "\n",
    "            create_run_dir(path, atom_symbols, nuc_charges, positions, lambda_value, valence_charges, integer_electrons)\n",
    "            \n",
    "            # copy RESTART.1 and LATEST from base directory\n",
    "#             restart_path_source = f'{compound_directory}/{ve}/RESTART.1'\n",
    "#             restart_path_dest = f'{compound_directory}/{ve}/dE_d{derivative}_{label}/RESTART.1'\n",
    "#             shutil.copy(restart_path_source, restart_path_dest)\n",
    "            \n",
    "#             latest_path_source = f'{compound_directory}/{ve}/LATEST'\n",
    "#             latest_path_dest = f'{compound_directory}/{ve}/dE_d{derivative}_{label}/LATEST'\n",
    "#             shutil.copy(latest_path_source, latest_path_dest)\n",
    "            \n",
    "            # add restart option\n",
    "            input_dir = f'{compound_directory}/{ve}/dE_d{derivative}_{label}'\n",
    "            cpmd_io.fix_input_file(input_dir)"
   ]
  },
  {
   "cell_type": "markdown",
   "id": "b4c4d754-d11a-49b8-875f-cb7a5735673b",
   "metadata": {},
   "source": [
    "### Hellmann-Feynman derivatives"
   ]
  },
  {
   "cell_type": "code",
   "execution_count": null,
   "id": "cbff59aa-31ec-43af-b671-f9dfa2a2ac1d",
   "metadata": {
    "tags": []
   },
   "outputs": [],
   "source": [
    "for ve, base_lambda in zip(['ve_02', 've_03', 've_05', 've_06', 've_08'], np.array([2,3,5,6,8])/8):\n",
    "\n",
    "    xyz_path = f'/data/sahre/projects/atomic-energies/amons/amon_000004/{ve}/GEOMETRY.xyz'\n",
    "    atom_symbols, nuc_charges, positions, valence_charges = parse_xyz_for_CPMD_input(xyz_path)\n",
    "    \n",
    "    masks = [[1,1,1], [1,0,0], [0,1,0], [0,0,1]]\n",
    "    \n",
    "    for derivative, mask in zip(['lam', 'H1', 'H2', 'O3'], masks):\n",
    "        for label in ['lam_r', 'lam_t']:\n",
    "            lambda_value = []\n",
    "            path = f'/data/sahre/projects/atomic-energies/amons/amon_000004/{ve}/dE_d{derivative}_{label}' # path to directory where run.inp and pseudopotentials will be written to\n",
    "            if label == 'lam_r':\n",
    "                for m in mask:\n",
    "                    if m == 1:\n",
    "                        lambda_value.append(0)\n",
    "                    else:\n",
    "                        lambda_value.append(base_lambda)\n",
    "            elif label == 'lam_t':\n",
    "                for m in mask:\n",
    "                    if m == 1:\n",
    "                        lambda_value.append(1)\n",
    "                    else:\n",
    "                        lambda_value.append(base_lambda)\n",
    "    \n",
    "            atom_symbols = atom_symbols # string element + integer index\n",
    "            nuc_charges = nuc_charges# list of nuclear charges\n",
    "            valence_charges = valence_charges\n",
    "            positions = positions# atom positions\n",
    "\n",
    "\n",
    "            integer_electrons = False# rescales lambda value such that number of electrons from nuclei is an integer only kept for backwards compability\n",
    "\n",
    "            pp_dir = '/data/sahre/PP_LIBRARY'\n",
    "            pp_type = 'GH_PBE'\n",
    "            template_inp = '/data/sahre/projects/atomic-energies/cpmd_params_template_pbe.inp'\n",
    "            template_inp_small_lambda = '/data/sahre/projects/atomic-energies/cpmd_params_template_pbe_small_lambda.inp'\n",
    "\n",
    "            create_run_dir(path, atom_symbols, nuc_charges, positions, lambda_value, valence_charges, integer_electrons)\n",
    "            \n",
    "            # copy RESTART.1 and LATEST from base directory\n",
    "            restart_path_source = f'/data/sahre/projects/atomic-energies/amons/amon_000004/{ve}/RESTART.1'\n",
    "            restart_path_dest = f'/data/sahre/projects/atomic-energies/amons/amon_000004/{ve}/dE_d{derivative}_{label}/RESTART.1'\n",
    "            shutil.copy(restart_path_source, restart_path_dest)\n",
    "            \n",
    "            latest_path_source = f'/data/sahre/projects/atomic-energies/amons/amon_000004/{ve}/LATEST'\n",
    "            latest_path_dest = f'/data/sahre/projects/atomic-energies/amons/amon_000004/{ve}/dE_d{derivative}_{label}/LATEST'\n",
    "            shutil.copy(latest_path_source, latest_path_dest)\n",
    "            \n",
    "            # add restart option\n",
    "            input_dir = f'/data/sahre/projects/atomic-energies/amons/amon_000004/{ve}/dE_d{derivative}_{label}'\n",
    "            cpmd_io.fix_input_file(input_dir)\n",
    "            \n",
    "            input_file_path = os.path.join(input_dir, 'run.inp')\n",
    "            cpmd_io.modify_input_parameter(input_file_path, 'MAXITER', 1)"
   ]
  },
  {
   "cell_type": "code",
   "execution_count": null,
   "id": "4fe7bfa9-0697-45f4-84d9-79e4ebd6db19",
   "metadata": {},
   "outputs": [],
   "source": [
    "-17.21914198-8.96085551"
   ]
  },
  {
   "cell_type": "markdown",
   "id": "ed9d6574-c438-4576-a3a7-838467d1a3e0",
   "metadata": {},
   "source": [
    "### prepare forward and backward calculations"
   ]
  },
  {
   "cell_type": "code",
   "execution_count": null,
   "id": "681b6274-0084-472b-968a-e759efc8e728",
   "metadata": {
    "tags": []
   },
   "outputs": [],
   "source": [
    "for ve, base_lambda in zip(['ve_02', 've_03', 've_05', 've_06'], np.array([2,3,5,6])/8):\n",
    "\n",
    "    xyz_path = f'/data/sahre/projects/atomic-energies/amons/amon_000004/{ve}/GEOMETRY.xyz'\n",
    "    atom_symbols, nuc_charges, positions, valence_charges = parse_xyz_for_CPMD_input(xyz_path)\n",
    "    \n",
    "    dlambda = 1e-5 # finite difference\n",
    "    increments = np.array([[dlambda, dlambda, dlambda], [dlambda, 0, 0], [0,dlambda,0], [0,0,dlambda]])\n",
    "    \n",
    "    for derivative, lambdas in zip(['lam', 'H1', 'H2', 'O3'], increments):\n",
    "        for sign, label in zip([-1, 1], ['bw', 'fw']):\n",
    "            path = f'/data/sahre/projects/atomic-energies/amons/amon_000004/{ve}/dE_d{derivative}_{label}' # path to directory where run.inp and pseudopotentials will be written to\n",
    "            lambda_value = sign*lambdas + base_lambda# lambda value can be a single value (for full derivative) or list with len == number of atoms for partial derivatives\n",
    "            # print(lambda_value)\n",
    "    \n",
    "            atom_symbols = atom_symbols # string element + integer index\n",
    "            nuc_charges = nuc_charges# list of nuclear charges\n",
    "            valence_charges = valence_charges\n",
    "            positions = positions# atom positions\n",
    "\n",
    "\n",
    "            integer_electrons = False# rescales lambda value such that number of electrons from nuclei is an integer only kept for backwards compability\n",
    "\n",
    "            pp_dir = '/data/sahre/PP_LIBRARY'\n",
    "            pp_type = 'GH_PBE'\n",
    "            template_inp = '/data/sahre/projects/atomic-energies/cpmd_params_template_pbe.inp'\n",
    "            template_inp_small_lambda = '/data/sahre/projects/atomic-energies/cpmd_params_template_pbe_small_lambda.inp'\n",
    "\n",
    "            create_run_dir(path, atom_symbols, nuc_charges, positions, lambda_value, valence_charges, integer_electrons)\n",
    "            \n",
    "            # copy RESTART.1 and LATEST from base directory\n",
    "            restart_path_source = f'/data/sahre/projects/atomic-energies/amons/amon_000004/{ve}/RESTART.1'\n",
    "            restart_path_dest = f'/data/sahre/projects/atomic-energies/amons/amon_000004/{ve}/dE_d{derivative}_{label}/RESTART.1'\n",
    "            shutil.copy(restart_path_source, restart_path_dest)\n",
    "            \n",
    "            latest_path_source = f'/data/sahre/projects/atomic-energies/amons/amon_000004/{ve}/LATEST'\n",
    "            latest_path_dest = f'/data/sahre/projects/atomic-energies/amons/amon_000004/{ve}/dE_d{derivative}_{label}/LATEST'\n",
    "            shutil.copy(latest_path_source, latest_path_dest)\n",
    "            \n",
    "            # add restart option\n",
    "            input_dir = f'/data/sahre/projects/atomic-energies/amons/amon_000004/{ve}/dE_d{derivative}_{label}'\n",
    "            cpmd_io.fix_input_file(input_dir)"
   ]
  },
  {
   "cell_type": "markdown",
   "id": "26efd074-9781-42e8-b72a-c711468eb838",
   "metadata": {},
   "source": [
    "### for lambda value paths"
   ]
  },
  {
   "cell_type": "code",
   "execution_count": null,
   "id": "0c5c9c95-ac7e-4a5d-aafb-42754afc3477",
   "metadata": {
    "tags": []
   },
   "outputs": [],
   "source": [
    "def wrapper_ase2(atoms, compound_path, lambda_values, pp_dir, pp_type, template_inp, template_inp_small_lambda):\n",
    "    \"\"\"\n",
    "    generates all necessary files for a cpmd calculation using an atoms object from ase as input\n",
    "    \"\"\"\n",
    "    # calculation parameters (independent of lambda value)\n",
    "    atom_symbols = atoms.get_chemical_symbols()\n",
    "    nuc_charges = atoms.get_atomic_numbers()\n",
    "    num_ve = eqd.get_num_val_elec(nuc_charges) # get number of ve\n",
    "    boxsize = get_boxsize(num_ve) # get boxsize\n",
    "    num_gpts_lower, num_gpts_higher = get_gpts(num_ve/2) # get gridpoints\n",
    "    num_gpts = num_gpts_higher\n",
    "    # shift molecule to center of box\n",
    "    coords_final = eqd.shift2center(atoms.get_positions(), np.array([boxsize, boxsize, boxsize])/2)\n",
    "\n",
    "    # get correct lambda value\n",
    "    for lam_val in lambda_values:\n",
    "        #print(lam_val)\n",
    "        elec_pp = np.round(lam_val*num_ve) # electrons coming from pseudopotentials\n",
    "        charge = elec_pp-num_ve # electrons added to conserve total number of electrons\n",
    "\n",
    "        lambda_path = os.path.join(compound_path, f'lam_{lam_val}/')\n",
    "        os.makedirs(lambda_path, exist_ok=True)\n",
    "\n",
    "        # generate input file\n",
    "        input_path = os.path.join(lambda_path, 'run.inp')\n",
    "        if lam_val > 0.501:\n",
    "            write_input(atom_symbols, charge, coords_final, num_gpts, boxsize, input_path, pp_type, template_inp, debug = False)\n",
    "        else:\n",
    "            write_input(atom_symbols, charge, coords_final, num_gpts, boxsize, input_path, pp_type, template_inp_small_lambda, debug = False)\n",
    "\n",
    "        # generate pp-files\n",
    "        write_pp_files_compound(atom_symbols, lam_val, lambda_path, pp_dir, pp_type)\n",
    "        \n",
    "        print(lambda_path)\n",
    "        \n",
    "def wrapper_ase3(atoms, compound_path, lambda_values, pp_dir, pp_type, template_inp, template_inp_small_lambda):\n",
    "    \"\"\"\n",
    "    generates all necessary files for a cpmd calculation using an atoms object from ase as input\n",
    "    \"\"\"\n",
    "    # calculation parameters (independent of lambda value)\n",
    "    atom_symbols = ['H1', 'H2']#atoms.get_chemical_symbols()\n",
    "    nuc_charges = atoms.get_atomic_numbers()\n",
    "    num_ve = eqd.get_num_val_elec(nuc_charges) # get number of ve\n",
    "    boxsize = get_boxsize(num_ve) # get boxsize\n",
    "    num_gpts_lower, num_gpts_higher = get_gpts(num_ve/2) # get gridpoints\n",
    "    num_gpts = num_gpts_higher\n",
    "    # shift molecule to center of box\n",
    "    coords_final = eqd.shift2center(atoms.get_positions(), np.array([boxsize, boxsize, boxsize])/2)\n",
    "\n",
    "    # get correct lambda value\n",
    "    for lam_val1, lam_val2 in lambda_values:\n",
    "        #print(lam_val)\n",
    "        elec_pp = int(np.round(lam_val1 + lam_val2)) # electrons coming from pseudopotentials\n",
    "        charge = elec_pp-num_ve # electrons added to conserve total number of electrons\n",
    "        lambda_path = os.path.join(compound_path, f'H2_lam_{lam_val2}/')\n",
    "        os.makedirs(lambda_path, exist_ok=True)\n",
    "\n",
    "        # generate input file\n",
    "        input_path = os.path.join(lambda_path, 'run.inp')\n",
    "        if lam_val1 > 0.501:\n",
    "            write_input(atom_symbols, charge, coords_final, num_gpts, boxsize, input_path, pp_type, template_inp, debug = False)\n",
    "        else:\n",
    "            write_input(atom_symbols, charge, coords_final, num_gpts, boxsize, input_path, pp_type, template_inp_small_lambda, debug = False)\n",
    "\n",
    "        # generate pp-files\n",
    "        #write_pp_files_compound(atom_symbols, lam_val, lambda_path, pp_dir, pp_type)\n",
    "        write_pp_files_compound_partial(atom_symbols, [lam_val1, lam_val2], lambda_path, pp_dir, pp_type)\n",
    "        print(lambda_path)"
   ]
  },
  {
   "cell_type": "code",
   "execution_count": null,
   "id": "fbde59b2-37ac-45cd-b01e-b4212af9adfd",
   "metadata": {
    "tags": []
   },
   "outputs": [],
   "source": [
    "# define parameters\n",
    "pp_dir = '/data/sahre/PP_LIBRARY'\n",
    "pp_type = 'SG_LDA'\n",
    "template_inp = '/data/sahre/projects/atomic-energies/cpmd_params_template_lda_cutoff.inp'\n",
    "template_inp_small_lambda = '/data/sahre/projects/atomic-energies/cpmd_params_template_lda_small_lambda_cutoff.inp'\n",
    "compound_path = '/data/sahre/projects/atomic-energies/derivatives/H2/H2_stretched'\n",
    "dlam = 0.00001\n",
    "#lambda_values = np.array([0.11, 0.31, 0.41, 0.51, 0.71, 0.91]) + dlam\n",
    "\n",
    "lambda_values = np.sort(np.concatenate((np.arange(0.0, 1.05, 0.05), np.arange(0.0, 1.05, 0.05)+dlam)))\n",
    "\n",
    "atoms = aio.read('/data/sahre/projects/atomic-energies/derivatives/H2/H2_stretched.xyz')\n",
    "\n",
    "wrapper_ase2(atoms, compound_path, lambda_values, pp_dir, pp_type, template_inp, template_inp_small_lambda)"
   ]
  },
  {
   "cell_type": "code",
   "execution_count": null,
   "id": "a27b1c38-0a91-4339-b2cb-735486553ff0",
   "metadata": {},
   "outputs": [],
   "source": []
  },
  {
   "cell_type": "code",
   "execution_count": null,
   "id": "90f306d0-d621-488b-84cc-5cb2e80f3d40",
   "metadata": {
    "tags": []
   },
   "outputs": [],
   "source": [
    "# define parameters\n",
    "pp_dir = '/data/sahre/PP_LIBRARY'\n",
    "pp_type = 'SG_LDA'\n",
    "template_inp = '/data/sahre/projects/atomic-energies/cpmd_params_template_lda_cutoff.inp'\n",
    "template_inp_small_lambda = '/data/sahre/projects/atomic-energies/cpmd_params_template_lda_small_lambda_cutoff.inp'\n",
    "compound_path = '/data/sahre/projects/atomic-energies/derivatives/H2/partial_derivatives_stretched/'\n",
    "dlam = 0.00001\n",
    "\n",
    "lam = np.arange(0.0, 1.05, 0.05)\n",
    "\n",
    "lambda_values = np.array([lam, lam+dlam]).T\n",
    "\n",
    "atoms = aio.read('/data/sahre/projects/atomic-energies/derivatives/H2/H2_stretched.xyz')\n",
    "\n",
    "wrapper_ase3(atoms, compound_path, lambda_values, pp_dir, pp_type, template_inp, template_inp_small_lambda)"
   ]
  },
  {
   "cell_type": "code",
   "execution_count": null,
   "id": "c39abd46-adb5-4133-85c1-eec120901198",
   "metadata": {},
   "outputs": [],
   "source": [
    "np.arange(0.0, 1.05, 0.05)"
   ]
  }
 ],
 "metadata": {
  "kernelspec": {
   "display_name": "Python 3 (ipykernel)",
   "language": "python",
   "name": "python3"
  },
  "language_info": {
   "codemirror_mode": {
    "name": "ipython",
    "version": 3
   },
   "file_extension": ".py",
   "mimetype": "text/x-python",
   "name": "python",
   "nbconvert_exporter": "python",
   "pygments_lexer": "ipython3",
   "version": "3.9.10"
  }
 },
 "nbformat": 4,
 "nbformat_minor": 5
}
