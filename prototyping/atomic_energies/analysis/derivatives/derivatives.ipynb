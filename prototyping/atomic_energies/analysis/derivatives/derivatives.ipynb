{
 "cells": [
  {
   "cell_type": "code",
   "execution_count": 1,
   "id": "4e1b4ad3-9948-4f9c-9fe6-c2ff91a57a19",
   "metadata": {
    "collapsed": true,
    "jupyter": {
     "outputs_hidden": true
    },
    "tags": []
   },
   "outputs": [
    {
     "name": "stderr",
     "output_type": "stream",
     "text": [
      "In /home/sahre/opt/miniconda3/envs/qm-tools/lib/python3.9/site-packages/matplotlib/mpl-data/stylelib/_classic_test.mplstyle: \n",
      "The text.latex.preview rcparam was deprecated in Matplotlib 3.3 and will be removed two minor releases later.\n",
      "In /home/sahre/opt/miniconda3/envs/qm-tools/lib/python3.9/site-packages/matplotlib/mpl-data/stylelib/_classic_test.mplstyle: \n",
      "The mathtext.fallback_to_cm rcparam was deprecated in Matplotlib 3.3 and will be removed two minor releases later.\n",
      "In /home/sahre/opt/miniconda3/envs/qm-tools/lib/python3.9/site-packages/matplotlib/mpl-data/stylelib/_classic_test.mplstyle: Support for setting the 'mathtext.fallback_to_cm' rcParam is deprecated since 3.3 and will be removed two minor releases later; use 'mathtext.fallback : 'cm' instead.\n",
      "In /home/sahre/opt/miniconda3/envs/qm-tools/lib/python3.9/site-packages/matplotlib/mpl-data/stylelib/_classic_test.mplstyle: \n",
      "The validate_bool_maybe_none function was deprecated in Matplotlib 3.3 and will be removed two minor releases later.\n",
      "In /home/sahre/opt/miniconda3/envs/qm-tools/lib/python3.9/site-packages/matplotlib/mpl-data/stylelib/_classic_test.mplstyle: \n",
      "The savefig.jpeg_quality rcparam was deprecated in Matplotlib 3.3 and will be removed two minor releases later.\n",
      "In /home/sahre/opt/miniconda3/envs/qm-tools/lib/python3.9/site-packages/matplotlib/mpl-data/stylelib/_classic_test.mplstyle: \n",
      "The keymap.all_axes rcparam was deprecated in Matplotlib 3.3 and will be removed two minor releases later.\n",
      "In /home/sahre/opt/miniconda3/envs/qm-tools/lib/python3.9/site-packages/matplotlib/mpl-data/stylelib/_classic_test.mplstyle: \n",
      "The animation.avconv_path rcparam was deprecated in Matplotlib 3.3 and will be removed two minor releases later.\n",
      "In /home/sahre/opt/miniconda3/envs/qm-tools/lib/python3.9/site-packages/matplotlib/mpl-data/stylelib/_classic_test.mplstyle: \n",
      "The animation.avconv_args rcparam was deprecated in Matplotlib 3.3 and will be removed two minor releases later.\n"
     ]
    }
   ],
   "source": [
    "import ase.io as aio\n",
    "\n",
    "import os\n",
    "import numpy as np\n",
    "import qml\n",
    "import ase\n",
    "import sys\n",
    "sys.path.insert(0, '/home/sahre/git_repositories/APDFT/prototyping/atomic_energies/hitp/')\n",
    "sys.path.insert(0, '/home/sahre/git_repositories/APDFT/prototyping/atomic_energies/')\n",
    "from prepare_calculations import *\n",
    "import explore_qml_data as eqd\n",
    "import utils_qm as uqm\n",
    "import glob"
   ]
  },
  {
   "cell_type": "code",
   "execution_count": 43,
   "id": "0c5c9c95-ac7e-4a5d-aafb-42754afc3477",
   "metadata": {
    "tags": []
   },
   "outputs": [],
   "source": [
    "def wrapper_ase2(atoms, compound_path, lambda_values, pp_dir, pp_type, template_inp, template_inp_small_lambda):\n",
    "    \"\"\"\n",
    "    generates all necessary files for a cpmd calculation using an atoms object from ase as input\n",
    "    \"\"\"\n",
    "    # calculation parameters (independent of lambda value)\n",
    "    atom_symbols = atoms.get_chemical_symbols()\n",
    "    nuc_charges = atoms.get_atomic_numbers()\n",
    "    num_ve = eqd.get_num_val_elec(nuc_charges) # get number of ve\n",
    "    boxsize = get_boxsize(num_ve) # get boxsize\n",
    "    num_gpts_lower, num_gpts_higher = get_gpts(num_ve/2) # get gridpoints\n",
    "    num_gpts = num_gpts_higher\n",
    "    # shift molecule to center of box\n",
    "    coords_final = eqd.shift2center(atoms.get_positions(), np.array([boxsize, boxsize, boxsize])/2)\n",
    "\n",
    "    # get correct lambda value\n",
    "    for lam_val in lambda_values:\n",
    "        #print(lam_val)\n",
    "        elec_pp = np.round(lam_val*num_ve) # electrons coming from pseudopotentials\n",
    "        charge = elec_pp-num_ve # electrons added to conserve total number of electrons\n",
    "\n",
    "        lambda_path = os.path.join(compound_path, f'lam_{lam_val}/')\n",
    "        os.makedirs(lambda_path, exist_ok=True)\n",
    "\n",
    "        # generate input file\n",
    "        input_path = os.path.join(lambda_path, 'run.inp')\n",
    "        if lam_val > 0.501:\n",
    "            write_input(atom_symbols, charge, coords_final, num_gpts, boxsize, input_path, pp_type, template_inp, debug = False)\n",
    "        else:\n",
    "            write_input(atom_symbols, charge, coords_final, num_gpts, boxsize, input_path, pp_type, template_inp_small_lambda, debug = False)\n",
    "\n",
    "        # generate pp-files\n",
    "        write_pp_files_compound(atom_symbols, lam_val, lambda_path, pp_dir, pp_type)\n",
    "        \n",
    "        print(lambda_path)\n",
    "        \n",
    "def wrapper_ase3(atoms, compound_path, lambda_values, pp_dir, pp_type, template_inp, template_inp_small_lambda):\n",
    "    \"\"\"\n",
    "    generates all necessary files for a cpmd calculation using an atoms object from ase as input\n",
    "    \"\"\"\n",
    "    # calculation parameters (independent of lambda value)\n",
    "    atom_symbols = ['H1', 'H2']#atoms.get_chemical_symbols()\n",
    "    nuc_charges = atoms.get_atomic_numbers()\n",
    "    num_ve = eqd.get_num_val_elec(nuc_charges) # get number of ve\n",
    "    boxsize = get_boxsize(num_ve) # get boxsize\n",
    "    num_gpts_lower, num_gpts_higher = get_gpts(num_ve/2) # get gridpoints\n",
    "    num_gpts = num_gpts_higher\n",
    "    # shift molecule to center of box\n",
    "    coords_final = eqd.shift2center(atoms.get_positions(), np.array([boxsize, boxsize, boxsize])/2)\n",
    "\n",
    "    # get correct lambda value\n",
    "    for lam_val1, lam_val2 in lambda_values:\n",
    "        #print(lam_val)\n",
    "        elec_pp = int(np.round(lam_val1 + lam_val2)) # electrons coming from pseudopotentials\n",
    "        charge = elec_pp-num_ve # electrons added to conserve total number of electrons\n",
    "        lambda_path = os.path.join(compound_path, f'H2_lam_{lam_val2}/')\n",
    "        os.makedirs(lambda_path, exist_ok=True)\n",
    "\n",
    "        # generate input file\n",
    "        input_path = os.path.join(lambda_path, 'run.inp')\n",
    "        if lam_val1 > 0.501:\n",
    "            write_input(atom_symbols, charge, coords_final, num_gpts, boxsize, input_path, pp_type, template_inp, debug = False)\n",
    "        else:\n",
    "            write_input(atom_symbols, charge, coords_final, num_gpts, boxsize, input_path, pp_type, template_inp_small_lambda, debug = False)\n",
    "\n",
    "        # generate pp-files\n",
    "        #write_pp_files_compound(atom_symbols, lam_val, lambda_path, pp_dir, pp_type)\n",
    "        write_pp_files_compound_partial(atom_symbols, [lam_val1, lam_val2], lambda_path, pp_dir, pp_type)\n",
    "        print(lambda_path)"
   ]
  },
  {
   "cell_type": "code",
   "execution_count": 48,
   "id": "fbde59b2-37ac-45cd-b01e-b4212af9adfd",
   "metadata": {
    "collapsed": true,
    "jupyter": {
     "outputs_hidden": true
    },
    "tags": []
   },
   "outputs": [
    {
     "name": "stdout",
     "output_type": "stream",
     "text": [
      "/data/sahre/projects/atomic-energies/derivatives/H2/H2_stretched/lam_0.0/\n",
      "/data/sahre/projects/atomic-energies/derivatives/H2/H2_stretched/lam_1e-05/\n",
      "/data/sahre/projects/atomic-energies/derivatives/H2/H2_stretched/lam_0.05/\n",
      "/data/sahre/projects/atomic-energies/derivatives/H2/H2_stretched/lam_0.050010000000000006/\n",
      "/data/sahre/projects/atomic-energies/derivatives/H2/H2_stretched/lam_0.1/\n",
      "/data/sahre/projects/atomic-energies/derivatives/H2/H2_stretched/lam_0.10001/\n",
      "/data/sahre/projects/atomic-energies/derivatives/H2/H2_stretched/lam_0.15000000000000002/\n",
      "/data/sahre/projects/atomic-energies/derivatives/H2/H2_stretched/lam_0.15001000000000003/\n",
      "/data/sahre/projects/atomic-energies/derivatives/H2/H2_stretched/lam_0.2/\n",
      "/data/sahre/projects/atomic-energies/derivatives/H2/H2_stretched/lam_0.20001000000000002/\n",
      "/data/sahre/projects/atomic-energies/derivatives/H2/H2_stretched/lam_0.25/\n",
      "/data/sahre/projects/atomic-energies/derivatives/H2/H2_stretched/lam_0.25001/\n",
      "/data/sahre/projects/atomic-energies/derivatives/H2/H2_stretched/lam_0.30000000000000004/\n",
      "/data/sahre/projects/atomic-energies/derivatives/H2/H2_stretched/lam_0.30001000000000005/\n",
      "/data/sahre/projects/atomic-energies/derivatives/H2/H2_stretched/lam_0.35000000000000003/\n",
      "/data/sahre/projects/atomic-energies/derivatives/H2/H2_stretched/lam_0.35001000000000004/\n",
      "/data/sahre/projects/atomic-energies/derivatives/H2/H2_stretched/lam_0.4/\n",
      "/data/sahre/projects/atomic-energies/derivatives/H2/H2_stretched/lam_0.40001000000000003/\n",
      "/data/sahre/projects/atomic-energies/derivatives/H2/H2_stretched/lam_0.45/\n",
      "/data/sahre/projects/atomic-energies/derivatives/H2/H2_stretched/lam_0.45001/\n",
      "/data/sahre/projects/atomic-energies/derivatives/H2/H2_stretched/lam_0.5/\n",
      "/data/sahre/projects/atomic-energies/derivatives/H2/H2_stretched/lam_0.50001/\n",
      "/data/sahre/projects/atomic-energies/derivatives/H2/H2_stretched/lam_0.55/\n",
      "/data/sahre/projects/atomic-energies/derivatives/H2/H2_stretched/lam_0.55001/\n",
      "/data/sahre/projects/atomic-energies/derivatives/H2/H2_stretched/lam_0.6000000000000001/\n",
      "/data/sahre/projects/atomic-energies/derivatives/H2/H2_stretched/lam_0.60001/\n",
      "/data/sahre/projects/atomic-energies/derivatives/H2/H2_stretched/lam_0.65/\n",
      "/data/sahre/projects/atomic-energies/derivatives/H2/H2_stretched/lam_0.65001/\n",
      "/data/sahre/projects/atomic-energies/derivatives/H2/H2_stretched/lam_0.7000000000000001/\n",
      "/data/sahre/projects/atomic-energies/derivatives/H2/H2_stretched/lam_0.70001/\n",
      "/data/sahre/projects/atomic-energies/derivatives/H2/H2_stretched/lam_0.75/\n",
      "/data/sahre/projects/atomic-energies/derivatives/H2/H2_stretched/lam_0.75001/\n",
      "/data/sahre/projects/atomic-energies/derivatives/H2/H2_stretched/lam_0.8/\n",
      "/data/sahre/projects/atomic-energies/derivatives/H2/H2_stretched/lam_0.80001/\n",
      "/data/sahre/projects/atomic-energies/derivatives/H2/H2_stretched/lam_0.8500000000000001/\n",
      "/data/sahre/projects/atomic-energies/derivatives/H2/H2_stretched/lam_0.85001/\n",
      "/data/sahre/projects/atomic-energies/derivatives/H2/H2_stretched/lam_0.9/\n",
      "/data/sahre/projects/atomic-energies/derivatives/H2/H2_stretched/lam_0.90001/\n",
      "/data/sahre/projects/atomic-energies/derivatives/H2/H2_stretched/lam_0.9500000000000001/\n",
      "/data/sahre/projects/atomic-energies/derivatives/H2/H2_stretched/lam_0.95001/\n",
      "/data/sahre/projects/atomic-energies/derivatives/H2/H2_stretched/lam_1.0/\n",
      "/data/sahre/projects/atomic-energies/derivatives/H2/H2_stretched/lam_1.00001/\n"
     ]
    }
   ],
   "source": [
    "# define parameters\n",
    "pp_dir = '/data/sahre/PP_LIBRARY'\n",
    "pp_type = 'SG_LDA'\n",
    "template_inp = '/data/sahre/projects/atomic-energies/cpmd_params_template_lda_cutoff.inp'\n",
    "template_inp_small_lambda = '/data/sahre/projects/atomic-energies/cpmd_params_template_lda_small_lambda_cutoff.inp'\n",
    "compound_path = '/data/sahre/projects/atomic-energies/derivatives/H2/H2_stretched'\n",
    "dlam = 0.00001\n",
    "#lambda_values = np.array([0.11, 0.31, 0.41, 0.51, 0.71, 0.91]) + dlam\n",
    "\n",
    "lambda_values = np.sort(np.concatenate((np.arange(0.0, 1.05, 0.05), np.arange(0.0, 1.05, 0.05)+dlam)))\n",
    "\n",
    "atoms = aio.read('/data/sahre/projects/atomic-energies/derivatives/H2/H2_stretched.xyz')\n",
    "\n",
    "wrapper_ase2(atoms, compound_path, lambda_values, pp_dir, pp_type, template_inp, template_inp_small_lambda)"
   ]
  },
  {
   "cell_type": "code",
   "execution_count": 4,
   "id": "a27b1c38-0a91-4339-b2cb-735486553ff0",
   "metadata": {},
   "outputs": [],
   "source": []
  },
  {
   "cell_type": "code",
   "execution_count": 52,
   "id": "90f306d0-d621-488b-84cc-5cb2e80f3d40",
   "metadata": {
    "tags": []
   },
   "outputs": [
    {
     "name": "stdout",
     "output_type": "stream",
     "text": [
      "/data/sahre/projects/atomic-energies/derivatives/H2/partial_derivatives_stretched/H2_lam_1e-05/\n",
      "/data/sahre/projects/atomic-energies/derivatives/H2/partial_derivatives_stretched/H2_lam_0.050010000000000006/\n",
      "/data/sahre/projects/atomic-energies/derivatives/H2/partial_derivatives_stretched/H2_lam_0.10001/\n",
      "/data/sahre/projects/atomic-energies/derivatives/H2/partial_derivatives_stretched/H2_lam_0.15001000000000003/\n",
      "/data/sahre/projects/atomic-energies/derivatives/H2/partial_derivatives_stretched/H2_lam_0.20001000000000002/\n",
      "/data/sahre/projects/atomic-energies/derivatives/H2/partial_derivatives_stretched/H2_lam_0.25001/\n",
      "/data/sahre/projects/atomic-energies/derivatives/H2/partial_derivatives_stretched/H2_lam_0.30001000000000005/\n",
      "/data/sahre/projects/atomic-energies/derivatives/H2/partial_derivatives_stretched/H2_lam_0.35001000000000004/\n",
      "/data/sahre/projects/atomic-energies/derivatives/H2/partial_derivatives_stretched/H2_lam_0.40001000000000003/\n",
      "/data/sahre/projects/atomic-energies/derivatives/H2/partial_derivatives_stretched/H2_lam_0.45001/\n",
      "/data/sahre/projects/atomic-energies/derivatives/H2/partial_derivatives_stretched/H2_lam_0.50001/\n",
      "/data/sahre/projects/atomic-energies/derivatives/H2/partial_derivatives_stretched/H2_lam_0.55001/\n",
      "/data/sahre/projects/atomic-energies/derivatives/H2/partial_derivatives_stretched/H2_lam_0.60001/\n",
      "/data/sahre/projects/atomic-energies/derivatives/H2/partial_derivatives_stretched/H2_lam_0.65001/\n",
      "/data/sahre/projects/atomic-energies/derivatives/H2/partial_derivatives_stretched/H2_lam_0.70001/\n",
      "/data/sahre/projects/atomic-energies/derivatives/H2/partial_derivatives_stretched/H2_lam_0.75001/\n",
      "/data/sahre/projects/atomic-energies/derivatives/H2/partial_derivatives_stretched/H2_lam_0.80001/\n",
      "/data/sahre/projects/atomic-energies/derivatives/H2/partial_derivatives_stretched/H2_lam_0.85001/\n",
      "/data/sahre/projects/atomic-energies/derivatives/H2/partial_derivatives_stretched/H2_lam_0.90001/\n",
      "/data/sahre/projects/atomic-energies/derivatives/H2/partial_derivatives_stretched/H2_lam_0.95001/\n",
      "/data/sahre/projects/atomic-energies/derivatives/H2/partial_derivatives_stretched/H2_lam_1.00001/\n"
     ]
    }
   ],
   "source": [
    "# define parameters\n",
    "pp_dir = '/data/sahre/PP_LIBRARY'\n",
    "pp_type = 'SG_LDA'\n",
    "template_inp = '/data/sahre/projects/atomic-energies/cpmd_params_template_lda_cutoff.inp'\n",
    "template_inp_small_lambda = '/data/sahre/projects/atomic-energies/cpmd_params_template_lda_small_lambda_cutoff.inp'\n",
    "compound_path = '/data/sahre/projects/atomic-energies/derivatives/H2/partial_derivatives_stretched/'\n",
    "dlam = 0.00001\n",
    "\n",
    "lam = np.arange(0.0, 1.05, 0.05)\n",
    "\n",
    "lambda_values = np.array([lam, lam+dlam]).T\n",
    "\n",
    "atoms = aio.read('/data/sahre/projects/atomic-energies/derivatives/H2/H2_stretched.xyz')\n",
    "\n",
    "wrapper_ase3(atoms, compound_path, lambda_values, pp_dir, pp_type, template_inp, template_inp_small_lambda)"
   ]
  },
  {
   "cell_type": "code",
   "execution_count": 49,
   "id": "c39abd46-adb5-4133-85c1-eec120901198",
   "metadata": {},
   "outputs": [
    {
     "data": {
      "text/plain": [
       "array([0.  , 0.05, 0.1 , 0.15, 0.2 , 0.25, 0.3 , 0.35, 0.4 , 0.45, 0.5 ,\n",
       "       0.55, 0.6 , 0.65, 0.7 , 0.75, 0.8 , 0.85, 0.9 , 0.95, 1.  ])"
      ]
     },
     "execution_count": 49,
     "metadata": {},
     "output_type": "execute_result"
    }
   ],
   "source": [
    "np.arange(0.0, 1.05, 0.05)"
   ]
  }
 ],
 "metadata": {
  "kernelspec": {
   "display_name": "Python 3 (ipykernel)",
   "language": "python",
   "name": "python3"
  },
  "language_info": {
   "codemirror_mode": {
    "name": "ipython",
    "version": 3
   },
   "file_extension": ".py",
   "mimetype": "text/x-python",
   "name": "python",
   "nbconvert_exporter": "python",
   "pygments_lexer": "ipython3",
   "version": "3.9.10"
  }
 },
 "nbformat": 4,
 "nbformat_minor": 5
}
