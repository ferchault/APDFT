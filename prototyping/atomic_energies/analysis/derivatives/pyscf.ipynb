{
 "cells": [
  {
   "cell_type": "code",
   "execution_count": 2,
   "id": "b6cd4d45-d844-4a4c-9424-83e21eac4ea8",
   "metadata": {},
   "outputs": [],
   "source": [
    "from pyscf.pbc import gto\n",
    "from pyscf.pbc import dft\n",
    "import numpy as np\n",
    "\n",
    "from matplotlib import pyplot as plt"
   ]
  },
  {
   "cell_type": "code",
   "execution_count": 3,
   "id": "4e637a3a-20e7-46cf-bf4c-63c862fb077b",
   "metadata": {},
   "outputs": [
    {
     "name": "stdout",
     "output_type": "stream",
     "text": [
      "converged SCF energy = -0.909354787577666\n",
      "converged SCF energy = -0.909354788453977\n",
      "converged SCF energy = -0.912860033464789\n",
      "converged SCF energy = -0.912863539586988\n",
      "converged SCF energy = -0.923375771126158\n",
      "converged SCF energy = -0.923382782494244\n",
      "converged SCF energy = -0.940902000561776\n",
      "converged SCF energy = -0.940912517175747\n",
      "converged SCF energy = -0.965438721771637\n",
      "converged SCF energy = -0.965452743631495\n",
      "converged SCF energy = -0.99698593475574\n",
      "converged SCF energy = -0.997003461861491\n"
     ]
    }
   ],
   "source": [
    "enuc = []\n",
    "e_tot = []\n",
    "for lam in [0.0, 0.2, 0.4, 0.6, 0.8, 1.0]:\n",
    "    for dlam in [0, 1e-4]:\n",
    "        cell = gto.Cell()\n",
    "        cell.atom = '''H  0 0 0; H 1 1 1'''\n",
    "        cell.basis = 'gth-dzvp'\n",
    "        cell.pseudo = 'gth-pade'\n",
    "        cell.a = np.eye(3) * 7.495123535686308\n",
    "        # cell.ke_cutoff = 100\n",
    "        cell.build()\n",
    "        cell.lam_val = lam + dlam\n",
    "        \n",
    "        kpts = cell.make_kpts([1,1,1])\n",
    "        enuc.append(cell.energy_nuc())\n",
    "        mf = dft.RKS(cell, kpts)\n",
    "        mf.kernel()\n",
    "        e_tot.append(mf.e_tot)"
   ]
  },
  {
   "cell_type": "code",
   "execution_count": 10,
   "id": "42b330bb-a1a9-43cd-b050-6c392a58e316",
   "metadata": {},
   "outputs": [],
   "source": [
    "dlam = 1e-4\n",
    "lam = [0.0, 0.2, 0.4, 0.6, 0.8, 1.0]\n",
    "dE = []\n",
    "for i in range(0, len(e_tot), 2):\n",
    "    dE.append((e_tot[i+1]-e_tot[i])/dlam)\n",
    "ddlam = []\n",
    "for i in lam:\n",
    "    ddlam.append((i+dlam/2))"
   ]
  },
  {
   "cell_type": "code",
   "execution_count": 12,
   "id": "888de5b3-ff2a-4bd2-afd5-04d436912f27",
   "metadata": {},
   "outputs": [
    {
     "data": {
      "text/plain": [
       "-0.08763991028903909"
      ]
     },
     "execution_count": 12,
     "metadata": {},
     "output_type": "execute_result"
    }
   ],
   "source": [
    "np.trapz(dE, ddlam)"
   ]
  },
  {
   "cell_type": "code",
   "execution_count": 13,
   "id": "217ce2ba-cfa1-45ad-be19-451befec0256",
   "metadata": {},
   "outputs": [
    {
     "data": {
      "text/plain": [
       "-0.08764867428382506"
      ]
     },
     "execution_count": 13,
     "metadata": {},
     "output_type": "execute_result"
    }
   ],
   "source": [
    "-0.997003461861491--0.909354787577666"
   ]
  },
  {
   "cell_type": "code",
   "execution_count": 14,
   "id": "6254e1e7-81f6-4563-9044-baf4a54315d4",
   "metadata": {},
   "outputs": [
    {
     "name": "stdout",
     "output_type": "stream",
     "text": [
      "0.0\n",
      "converged SCF energy = -21.9814007598151\n",
      "-21.981400759815124\n"
     ]
    }
   ],
   "source": [
    "\n",
    "cell = gto.Cell()\n",
    "cell.atom = '''H  0 0 0; F 1 1 1'''\n",
    "cell.basis = 'gth-dzvp'\n",
    "cell.pseudo = 'gth-pade'\n",
    "cell.a = np.eye(3) * 10\n",
    "# cell.ke_cutoff = 100\n",
    "cell.build()\n",
    "cell.lam_val = 0\n",
    "\n",
    "kpts = cell.make_kpts([1,1,1])\n",
    "print(cell.energy_nuc())\n",
    "mf = dft.RKS(cell, kpts)\n",
    "mf.kernel()\n",
    "print(mf.e_tot)\n"
   ]
  },
  {
   "cell_type": "code",
   "execution_count": 15,
   "id": "291fa0e7-cad8-41a7-b3f9-ed81a529f704",
   "metadata": {},
   "outputs": [
    {
     "name": "stdout",
     "output_type": "stream",
     "text": [
      "0.0\n",
      "SCF not converged.\n",
      "SCF energy = -15.7601664912187\n",
      "-15.760166491218722\n"
     ]
    }
   ],
   "source": [
    "cell = gto.Cell()\n",
    "cell.atom = '''H  0 0 0; O 1 1 1; H 2 2 2'''\n",
    "cell.basis = 'gth-dzvp'\n",
    "cell.pseudo = 'gth-pade'\n",
    "cell.a = np.eye(3) * 10\n",
    "# cell.ke_cutoff = 100\n",
    "cell.build()\n",
    "cell.lam_val = 0\n",
    "\n",
    "kpts = cell.make_kpts([1,1,1])\n",
    "print(cell.energy_nuc())\n",
    "mf = dft.RKS(cell, kpts)\n",
    "mf.kernel()\n",
    "print(mf.e_tot)"
   ]
  },
  {
   "cell_type": "code",
   "execution_count": null,
   "id": "f2966a7e-8beb-4fa1-874e-0526a5de87a7",
   "metadata": {},
   "outputs": [],
   "source": []
  }
 ],
 "metadata": {
  "kernelspec": {
   "display_name": "Python 3 (ipykernel)",
   "language": "python",
   "name": "python3"
  },
  "language_info": {
   "codemirror_mode": {
    "name": "ipython",
    "version": 3
   },
   "file_extension": ".py",
   "mimetype": "text/x-python",
   "name": "python",
   "nbconvert_exporter": "python",
   "pygments_lexer": "ipython3",
   "version": "3.9.10"
  }
 },
 "nbformat": 4,
 "nbformat_minor": 5
}
