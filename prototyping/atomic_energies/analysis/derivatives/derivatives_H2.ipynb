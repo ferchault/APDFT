{
 "cells": [
  {
   "cell_type": "code",
   "execution_count": 109,
   "id": "bbddce44-2713-435b-9742-fae9686fe238",
   "metadata": {},
   "outputs": [
    {
     "data": {
      "text/plain": [
       "<module 'alchemical_derivatives' from '/home/sahre/git_repositories/APDFT/prototyping/atomic_energies/analysis/derivatives/alchemical_derivatives.py'>"
      ]
     },
     "execution_count": 109,
     "metadata": {},
     "output_type": "execute_result"
    }
   ],
   "source": [
    "import importlib\n",
    "import ase.io as aio\n",
    "\n",
    "import os\n",
    "import numpy as np\n",
    "import qml\n",
    "import ase\n",
    "import sys\n",
    "sys.path.insert(0, '/home/sahre/git_repositories/APDFT/prototyping/atomic_energies/hitp/')\n",
    "sys.path.insert(0, '/home/sahre/git_repositories/APDFT/prototyping/atomic_energies/')\n",
    "sys.path.insert(0, '/home/sahre/git_repositories/APDFT/prototyping/atomic_energies/analysis/derivatives/')\n",
    "from prepare_calculations import *\n",
    "import explore_qml_data as eqd\n",
    "import utils_qm as uqm\n",
    "import glob\n",
    "import cpmd_io\n",
    "\n",
    "from matplotlib import pyplot as plt\n",
    "import alchemical_derivatives as ad\n",
    "import scipy.interpolate as si\n",
    "importlib.reload(ad)"
   ]
  },
  {
   "cell_type": "code",
   "execution_count": 122,
   "id": "7bea2b18-2e13-419f-9f5f-72db0bb8ff93",
   "metadata": {},
   "outputs": [],
   "source": [
    "import numpy as np\n",
    "def find_nearest_idx(array, value):\n",
    "    array = np.asarray(array)\n",
    "    idx = (np.abs(array - value)).argmin()\n",
    "    return idx\n",
    "\n",
    "# def pick_derivative(lam, ddlam, dE_dlam):\n",
    "#     lam_val = ddlam[np.where(ddlam==lam)]\n",
    "#     dE_val = dE_dlam[np.where(lam == ddlam)]\n",
    "#     return(lam_val[0], dE_val[0])\n",
    "\n",
    "def pick_derivative(lam_arr, dE_dlam_arr, lam):\n",
    "    idx = find_nearest_idx(lam_arr, lam)\n",
    "    return(lam_arr[idx], dE_dlam_arr[idx])\n",
    "\n",
    "def pick_derivatives(lam_arr, dE_dlam_arr, lams):\n",
    "    ddlam = []\n",
    "    dE_dlam = []\n",
    "    for l in lams:\n",
    "        out = pick_derivative(lam_arr, dE_dlam_arr, l)\n",
    "        ddlam.append(out[0])\n",
    "        dE_dlam.append(out[1])\n",
    "    return(ddlam, dE_dlam)"
   ]
  },
  {
   "cell_type": "code",
   "execution_count": 123,
   "id": "01fdee0d-6bd0-4f62-9fb6-83c2944432e8",
   "metadata": {},
   "outputs": [],
   "source": [
    "lambda_values, logfile_paths = ad.sort_lambda_logfiles('/data/sahre/projects/atomic-energies/derivatives/H2/small_dlambda/lam_*')\n",
    "energy_contributions, e_el_cpmd, nuc_rep_cpmd = ad.get_energy_contributions(logfile_paths)\n",
    "e_el_exact = e_el_cpmd[-2] - e_el_cpmd[0]\n",
    "\n",
    "lambda_values_part, logfile_paths_part = ad.sort_lambda_logfiles('/data/sahre/projects/atomic-energies/derivatives/H2/partial_derivatives/H2_lam_*')\n",
    "energy_contributions_part, e_el_cpmd_part, nuc_rep_cpmd_part = ad.get_energy_contributions(logfile_paths_part)"
   ]
  },
  {
   "cell_type": "code",
   "execution_count": 155,
   "id": "39a6319f-0399-40a1-9499-e8531b5534d7",
   "metadata": {
    "collapsed": true,
    "jupyter": {
     "outputs_hidden": true
    },
    "tags": []
   },
   "outputs": [
    {
     "data": {
      "text/plain": [
       "{'TOTAL ENERGY =': array([-0.17800565, -0.17800565, -0.17813645, -0.17813652, -0.17902278,\n",
       "        -0.17902309, -0.18161163, -0.1816124 , -0.18704929, -0.18705074,\n",
       "        -0.19730251, -0.1973049 , -0.21197614, -0.21197964, -0.23256039,\n",
       "        -0.23256515, -0.25973012, -0.25973625, -0.29400352, -0.29401112,\n",
       "        -0.33579735, -0.33580647, -0.38524802, -0.38525868, -0.44240224,\n",
       "        -0.44241443, -0.5070669 , -0.50708056, -0.57886568, -0.57888072,\n",
       "        -0.65971003, -0.65972638, -0.7444845 , -0.74450204, -0.83496612,\n",
       "        -0.83498476, -0.93075476, -0.93077443, -1.03150072, -1.03152134,\n",
       "        -1.13689618, -1.1369177 ]),\n",
       " 'KINETIC ENERGY =': array([0.00000000e+00, 0.00000000e+00, 8.77280000e-04, 8.77680000e-04,\n",
       "        4.50096000e-03, 4.50208000e-03, 1.27234200e-02, 1.27256500e-02,\n",
       "        2.73330200e-02, 2.73366600e-02, 4.93827100e-02, 4.93879000e-02,\n",
       "        7.91363300e-02, 7.91430500e-02, 1.16446660e-01, 1.16454860e-01,\n",
       "        1.61043360e-01, 1.61052990e-01, 2.12631170e-01, 2.12642160e-01,\n",
       "        2.71016090e-01, 2.71025480e-01, 3.35474860e-01, 3.35488320e-01,\n",
       "        4.05294240e-01, 4.05308670e-01, 4.79388390e-01, 4.79403560e-01,\n",
       "        5.56643140e-01, 5.56658850e-01, 6.36261120e-01, 6.36277250e-01,\n",
       "        7.17854870e-01, 7.17871380e-01, 8.01298560e-01, 8.01315430e-01,\n",
       "        8.86566060e-01, 8.86583300e-01, 9.73649290e-01, 9.73666890e-01,\n",
       "        1.06252537e+00, 1.06254333e+00]),\n",
       " 'ELECTROSTATIC ENERGY =': array([ 0.0000000e+00,  6.0000000e-08, -1.4800000e-06, -1.5800000e-06,\n",
       "        -1.2439800e-03, -1.2444200e-03, -4.6672800e-03, -4.6682400e-03,\n",
       "        -1.0970990e-02, -1.0972560e-02, -2.1202560e-02, -2.1204790e-02,\n",
       "        -3.3847580e-02, -3.3850410e-02, -4.9347530e-02, -4.9350900e-02,\n",
       "        -6.7525420e-02, -6.7529320e-02, -8.8287000e-02, -8.8291410e-02,\n",
       "        -1.1166100e-01, -1.1166427e-01, -1.3781763e-01, -1.3782316e-01,\n",
       "        -1.6704974e-01, -1.6705592e-01, -1.9960262e-01, -1.9960947e-01,\n",
       "        -2.3548553e-01, -2.3549303e-01, -2.7678826e-01, -2.7679635e-01,\n",
       "        -3.1840964e-01, -3.1841818e-01, -3.6208450e-01, -3.6209341e-01,\n",
       "        -4.0737866e-01, -4.0738786e-01, -4.5393422e-01, -4.5394364e-01,\n",
       "        -5.0145804e-01, -5.0146762e-01]),\n",
       " '(E+I)-(E+I) HARTREE ENERGY =': array([0.        , 0.        , 0.0009747 , 0.00097507, 0.00329829,\n",
       "        0.00329883, 0.00603098, 0.00603152, 0.00847317, 0.00847361,\n",
       "        0.0103743 , 0.01037463, 0.01181436, 0.01181461, 0.01298939,\n",
       "        0.01298962, 0.01407639, 0.0140766 , 0.0151696 , 0.01516982,\n",
       "        0.01624028, 0.01624216, 0.01711824, 0.01711838, 0.01751062,\n",
       "        0.01751063, 0.01717213, 0.01717199, 0.01609352, 0.01609325,\n",
       "        0.01457573, 0.01457541, 0.01309784, 0.01309758, 0.01215635,\n",
       "        0.01215625, 0.01218548, 0.01218561, 0.01354311, 0.01354354,\n",
       "        0.01652239, 0.01652317]),\n",
       " '(PSEUDO CHARGE I-I) ENERGY =': array([ 0.0000000e+00, -6.0000000e-08,  1.6837800e-03,  1.6845200e-03,\n",
       "         7.3726500e-03,  7.3741900e-03,  1.7066610e-02,  1.7068950e-02,\n",
       "         3.0765660e-02,  3.0768800e-02,  4.8469800e-02,  4.8473740e-02,\n",
       "         7.0179020e-02,  7.0183770e-02,  9.5893340e-02,  9.5898890e-02,\n",
       "         1.2561275e-01,  1.2561909e-01,  1.5933725e-01,  1.5934439e-01,\n",
       "         1.9706683e-01,  1.9707478e-01,  2.3880151e-01,  2.3881026e-01,\n",
       "         2.8454128e-01,  2.8455082e-01,  3.3428613e-01,  3.3429648e-01,\n",
       "         3.8803608e-01,  3.8804723e-01,  4.4579111e-01,  4.4580306e-01,\n",
       "         5.0755124e-01,  5.0756399e-01,  5.7331645e-01,  5.7333000e-01,\n",
       "         6.4308675e-01,  6.4310111e-01,  7.1686215e-01,  7.1687730e-01,\n",
       "         7.9464263e-01,  7.9465859e-01]),\n",
       " '(E-E) HARTREE ENERGY =': array([0.0000000e+00, 0.0000000e+00, 5.4139000e-04, 5.4163000e-04,\n",
       "        2.8550200e-03, 2.8557500e-03, 8.4338300e-03, 8.4354000e-03,\n",
       "        1.9156450e-02, 1.9159230e-02, 3.6754930e-02, 3.6759230e-02,\n",
       "        6.2442340e-02, 6.2448340e-02, 9.6900760e-02, 9.6908550e-02,\n",
       "        1.4034496e-01, 1.4035454e-01, 1.9250790e-01, 1.9251916e-01,\n",
       "        2.5258605e-01, 2.5260307e-01, 3.1883837e-01, 3.1885208e-01,\n",
       "        3.8874951e-01, 3.8876366e-01, 4.5936098e-01, 4.5937498e-01,\n",
       "        5.2816112e-01, 5.2817459e-01, 5.9381131e-01, 5.9382409e-01,\n",
       "        6.5602068e-01, 6.5603279e-01, 7.1501262e-01, 7.1502412e-01,\n",
       "        7.7113796e-01, 7.7114892e-01, 8.2470993e-01, 8.2472040e-01,\n",
       "        8.7597956e-01, 8.7598959e-01]),\n",
       " 'ESELF =': array([ 0.0000000e+00, -6.0000000e-08,  1.3434900e-03,  1.3441000e-03,\n",
       "         6.0115100e-03,  6.0127700e-03,  1.4004040e-02,  1.4005970e-02,\n",
       "         2.5321090e-02,  2.5323690e-02,  4.0759580e-02,  4.0762870e-02,\n",
       "         5.8885050e-02,  5.8889010e-02,  8.0335040e-02,  8.0339660e-02,\n",
       "         1.0510955e-01,  1.0511484e-01,  1.3320858e-01,  1.3321453e-01,\n",
       "         1.6463213e-01,  1.6463874e-01,  1.9938019e-01,  1.9938748e-01,\n",
       "         2.3745278e-01,  2.3746073e-01,  2.7884988e-01,  2.7885850e-01,\n",
       "         3.2357151e-01,  3.2358079e-01,  3.7400839e-01,  3.7401836e-01,\n",
       "         4.2553843e-01,  4.2554907e-01,  4.8039300e-01,  4.8040430e-01,\n",
       "         5.3857208e-01,  5.3858405e-01,  6.0007568e-01,  6.0008831e-01,\n",
       "         6.6490380e-01,  6.6491710e-01]),\n",
       " 'ESR =': array([0.        , 0.        , 0.00036731, 0.00036746, 0.00146923,\n",
       "        0.00146953, 0.00330578, 0.00330622, 0.00587693, 0.00587752,\n",
       "        0.00918271, 0.00918345, 0.0132231 , 0.01322399, 0.01799811,\n",
       "        0.01799914, 0.02350774, 0.02350892, 0.02975198, 0.02975331,\n",
       "        0.03673084, 0.03673231, 0.04444432, 0.04444594, 0.05289241,\n",
       "        0.05289418, 0.06207513, 0.06207704, 0.07199245, 0.07199451,\n",
       "        0.0826444 , 0.0826466 , 0.09403096, 0.09403331, 0.10615214,\n",
       "        0.10615464, 0.11900793, 0.11901058, 0.13259834, 0.13260114,\n",
       "        0.14692337, 0.14692631]),\n",
       " 'LOCAL PSEUDOPOTENTIAL ENERGY =': array([ 0.00000000e+00, -6.00000000e-08, -5.38080000e-04, -5.38240000e-04,\n",
       "        -1.84788000e-03, -1.84826000e-03, -4.70749000e-03, -4.70829000e-03,\n",
       "        -1.02308200e-02, -1.02322800e-02, -1.96675200e-02, -1.96698800e-02,\n",
       "        -3.41994600e-02, -3.42029500e-02, -5.48725600e-02, -5.48773700e-02,\n",
       "        -8.26000000e-02, -8.26063100e-02, -1.18170640e-01, -1.18178580e-01,\n",
       "        -1.62389970e-01, -1.62396620e-01, -2.15457490e-01, -2.15469010e-01,\n",
       "        -2.77603830e-01, -2.77617160e-01, -3.48603440e-01, -3.48618490e-01,\n",
       "        -4.27979150e-01, -4.27995830e-01, -5.15215000e-01, -5.15233210e-01,\n",
       "        -6.09904360e-01, -6.09924020e-01, -7.11755460e-01, -7.11776530e-01,\n",
       "        -8.20540350e-01, -8.20562790e-01, -9.36063020e-01, -9.36086780e-01,\n",
       "        -1.05813383e+00, -1.05815889e+00]),\n",
       " 'N-L PSEUDOPOTENTIAL ENERGY =': array([0., 0., 0., 0., 0., 0., 0., 0., 0., 0., 0., 0., 0., 0., 0., 0., 0.,\n",
       "        0., 0., 0., 0., 0., 0., 0., 0., 0., 0., 0., 0., 0., 0., 0., 0., 0.,\n",
       "        0., 0., 0., 0., 0., 0., 0., 0.]),\n",
       " 'EXCHANGE-CORRELATION ENERGY =': array([-0.17800565, -0.17800565, -0.17847417, -0.17847438, -0.18043188,\n",
       "        -0.18043249, -0.18496028, -0.18496152, -0.19318049, -0.19318256,\n",
       "        -0.20581514, -0.20581814, -0.22306542, -0.22306933, -0.24478696,\n",
       "        -0.24479173, -0.27064806, -0.27065362, -0.30017706, -0.30018329,\n",
       "        -0.33276246, -0.33277106, -0.36744776, -0.36745483, -0.4030429 ,\n",
       "        -0.40305002, -0.43824923, -0.43825615, -0.47204414, -0.47205071,\n",
       "        -0.50396788, -0.50397407, -0.53402537, -0.53403121, -0.56242472,\n",
       "        -0.56243025, -0.58940181, -0.58940707, -0.61515277, -0.61515781,\n",
       "        -0.63982968, -0.63983452]),\n",
       " 'GRADIENT CORRECTION ENERGY =': array([0, 0, 0, 0, 0, 0, 0, 0, 0, 0, 0, 0, 0, 0, 0, 0, 0, 0, 0, 0, 0, 0,\n",
       "        0, 0, 0, 0, 0, 0, 0, 0, 0, 0, 0, 0, 0, 0, 0, 0, 0, 0, 0, 0])}"
      ]
     },
     "execution_count": 155,
     "metadata": {},
     "output_type": "execute_result"
    }
   ],
   "source": [
    "energy_contributions"
   ]
  },
  {
   "cell_type": "code",
   "execution_count": 143,
   "id": "79422b8b-73f6-46ca-9fee-e9ede65508a8",
   "metadata": {},
   "outputs": [],
   "source": [
    "# e_el_cpmd = energy_contributions['TOTAL ENERGY =']\n",
    "# e_el_exact = e_el_cpmd[-2] - e_el_cpmd[0]\n",
    "# e_el_cpmd_part = energy_contributions_part['TOTAL ENERGY =']\n",
    "\n",
    "e_el_cpmd = nuc_rep_cpmd\n",
    "e_el_exact = nuc_rep_cpmd[-2] - nuc_rep_cpmd[0]\n",
    "e_el_cpmd_part = nuc_rep_cpmd_part"
   ]
  },
  {
   "cell_type": "code",
   "execution_count": 149,
   "id": "94cf452a-355c-482c-9368-8f843b78c4ed",
   "metadata": {},
   "outputs": [
    {
     "data": {
      "text/plain": [
       "0.27666219999999997"
      ]
     },
     "execution_count": 149,
     "metadata": {},
     "output_type": "execute_result"
    }
   ],
   "source": [
    "nuc_rep_cpmd[-2]"
   ]
  },
  {
   "cell_type": "code",
   "execution_count": 144,
   "id": "0ed9ae39-8487-4331-b9c4-ee5df5c6b8ce",
   "metadata": {},
   "outputs": [
    {
     "data": {
      "text/plain": [
       "<matplotlib.legend.Legend at 0x7f4814d90910>"
      ]
     },
     "execution_count": 144,
     "metadata": {},
     "output_type": "execute_result"
    },
    {
     "data": {
      "image/png": "[encoded data removed]",
      "text/plain": [
       "<Figure size 432x288 with 1 Axes>"
      ]
     },
     "metadata": {
      "needs_background": "light"
     },
     "output_type": "display_data"
    }
   ],
   "source": [
    "plt.plot(lambda_values, e_el_cpmd, '-o', label = r'$E_{el}$')\n",
    "\n",
    "plt.plot(lambda_values, energy_contributions['TOTAL ENERGY ='], '-o')\n",
    "plt.legend()"
   ]
  },
  {
   "cell_type": "code",
   "execution_count": 145,
   "id": "cbff6586-6356-4b44-a1ea-22eb8f75fd79",
   "metadata": {},
   "outputs": [],
   "source": [
    "derivatives = {'lam':[], 'H':[]}\n",
    "\n",
    "dE_dlam = []\n",
    "ddlam = []\n",
    "for i in range(0, len(lambda_values), 2):\n",
    "    dE_dlam.append((e_el_cpmd[i+1]-e_el_cpmd[i])/(lambda_values[i+1]-lambda_values[i]))\n",
    "    ddlam.append((lambda_values[i+1]+lambda_values[i])/2)\n",
    "derivatives['lam'] = np.array(dE_dlam)\n",
    "ddlam = np.array(ddlam)\n",
    "\n",
    "for e_el_d, e_el in zip(e_el_cpmd_part, e_el_cpmd[::2]):\n",
    "    derivatives['H'].append((e_el_d-e_el)/1e-5)\n",
    "derivatives['H'] = np.array(derivatives['H'])"
   ]
  },
  {
   "cell_type": "code",
   "execution_count": 146,
   "id": "355d3ce3-7a49-4700-82cd-3f4b9fa9afcc",
   "metadata": {},
   "outputs": [],
   "source": [
    "ngpts = [3,5,10,21]\n",
    "errors = {'lam':[], 'H':[]}\n",
    "\n",
    "for n in ngpts:\n",
    "    lamvals = np.linspace(0, 1, n)\n",
    "    int_x, int_y = pick_derivatives(ddlam, derivatives['lam'], lamvals)\n",
    "    errors['lam'].append(np.trapz(int_y, int_x)-e_el_exact)\n",
    "    \n",
    "    int_x, int_y = pick_derivatives(ddlam, derivatives['H'], lamvals)\n",
    "    errors['H'].append(2*np.trapz(int_y, int_x)-e_el_exact)"
   ]
  },
  {
   "cell_type": "code",
   "execution_count": 156,
   "id": "3dbe70c3-dafd-45e5-afe1-cb868f2742f8",
   "metadata": {},
   "outputs": [
    {
     "data": {
      "image/png": "[encoded data removed]",
      "text/plain": [
       "<Figure size 576x288 with 2 Axes>"
      ]
     },
     "metadata": {
      "needs_background": "light"
     },
     "output_type": "display_data"
    }
   ],
   "source": [
    "plt.rcParams['font.size'] = 15\n",
    "fig, ax = plt.subplots(1,2)\n",
    "fig.set_figwidth(8)\n",
    "fig.tight_layout()\n",
    "\n",
    "ax[0].plot(ddlam, derivatives['lam'], '-o', label = r'$\\frac{\\partial E}{\\partial \\lambda}$')\n",
    "# ax[0].plot(ddlam, derivatives['H'], '-o', label = r'$\\frac{\\partial E}{\\partial H}$' )\n",
    "# ax[0].plot(ddlam, 2*derivatives['H'], '--')\n",
    "ax[0].set_xlabel(r'$\\lambda$')\n",
    "ax[0].set_ylabel(r'$\\frac{\\partial E}{\\partial q} (Ha)$')\n",
    "\n",
    "ax[1].plot(ngpts, 1000*np.array(errors['lam']), '-o')\n",
    "# ax[1].plot(ngpts, 1000*np.array(errors['H']), '-o')\n",
    "ax[1].plot(ngpts, len(ngpts)*[0], '--', color = 'tab:gray')\n",
    "ax[1].set_xlabel(r'$N$')\n",
    "ax[1].set_ylabel(r'$E-E_{exact}$ (mHa)')\n",
    "ax[0].legend()\n",
    "\n",
    "# plt.savefig('/home/sahre/projects/derivatives/figures/H2_e_nuc_convergence.png', bbox_inches = 'tight', dpi = 300)"
   ]
  },
  {
   "cell_type": "code",
   "execution_count": 150,
   "id": "be9611f4-a1d0-4689-80b6-ea11a024bc2d",
   "metadata": {},
   "outputs": [],
   "source": [
    "ppoly = si.CubicSpline(ddlam, derivatives['lam'], axis=0, bc_type='not-a-knot', extrapolate=None)"
   ]
  },
  {
   "cell_type": "code",
   "execution_count": 151,
   "id": "76437012-2db3-47e2-8c66-89f41a361c5a",
   "metadata": {},
   "outputs": [
    {
     "data": {
      "text/plain": [
       "[<matplotlib.lines.Line2D at 0x7f4819a25f40>]"
      ]
     },
     "execution_count": 151,
     "metadata": {},
     "output_type": "execute_result"
    },
    {
     "data": {
      "image/png": "[encoded data removed]",
      "text/plain": [
       "<Figure size 432x288 with 1 Axes>"
      ]
     },
     "metadata": {
      "needs_background": "light"
     },
     "output_type": "display_data"
    }
   ],
   "source": [
    "# plt.plot(ddlam, derivatives['lam'])\n",
    "plt.plot(np.linspace(0,1,20), ppoly(np.linspace(0,1,20)))"
   ]
  },
  {
   "cell_type": "code",
   "execution_count": 154,
   "id": "9d0dd499-3de0-4613-b864-33b6f6638c52",
   "metadata": {},
   "outputs": [
    {
     "data": {
      "text/plain": [
       "0.0032673068886490686"
      ]
     },
     "execution_count": 154,
     "metadata": {},
     "output_type": "execute_result"
    }
   ],
   "source": [
    "ppoly.integrate(0,1)-nuc_rep_cpmd[-2]"
   ]
  },
  {
   "cell_type": "code",
   "execution_count": 141,
   "id": "98db4cf4-af66-4197-a129-82b535bfb181",
   "metadata": {},
   "outputs": [
    {
     "data": {
      "text/plain": [
       "{'lam': [-0.035109469999933474,\n",
       "  -0.006609470002194251,\n",
       "  0.0012655299976428447,\n",
       "  0.00274052999636476],\n",
       " 'H': [-0.035109470004158316,\n",
       "  -0.006609470006669338,\n",
       "  0.0013905300002219345,\n",
       "  0.0027905299980972575]}"
      ]
     },
     "execution_count": 141,
     "metadata": {},
     "output_type": "execute_result"
    }
   ],
   "source": [
    "errors"
   ]
  }
 ],
 "metadata": {
  "kernelspec": {
   "display_name": "Python 3 (ipykernel)",
   "language": "python",
   "name": "python3"
  },
  "language_info": {
   "codemirror_mode": {
    "name": "ipython",
    "version": 3
   },
   "file_extension": ".py",
   "mimetype": "text/x-python",
   "name": "python",
   "nbconvert_exporter": "python",
   "pygments_lexer": "ipython3",
   "version": "3.9.10"
  }
 },
 "nbformat": 4,
 "nbformat_minor": 5
}
