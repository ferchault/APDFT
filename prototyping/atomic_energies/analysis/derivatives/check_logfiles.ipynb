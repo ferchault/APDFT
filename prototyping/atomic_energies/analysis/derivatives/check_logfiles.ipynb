{
 "cells": [
  {
   "cell_type": "code",
   "execution_count": null,
   "id": "294c51e9-f9b8-4aa0-a3f7-6bd5cce9a999",
   "metadata": {},
   "outputs": [],
   "source": [
    "# check for convergence\n",
    "\n",
    "# calculate single derivative\n",
    "\n",
    "# calculate all derivatives for one atom\n",
    "\n",
    "# calculate derivatives for whole molecule"
   ]
  },
  {
   "cell_type": "code",
   "execution_count": null,
   "id": "325abec6-438c-46f8-af91-b3e043ec3b1b",
   "metadata": {},
   "outputs": [],
   "source": [
    "# check number of electrons "
   ]
  },
  {
   "cell_type": "code",
   "execution_count": null,
   "id": "327aaafe-906e-41a3-aba5-c707054102ca",
   "metadata": {},
   "outputs": [],
   "source": [
    "# error for all points?\n",
    "# error as function of gpts\n",
    "# energy UEG as function of boxsize/volume"
   ]
  },
  {
   "cell_type": "code",
   "execution_count": 35,
   "id": "79f7ece0-dfa6-4621-938c-574fd7e35cac",
   "metadata": {},
   "outputs": [],
   "source": [
    "import sys\n",
    "sys.path.insert(0, '/home/sahre/git_repositories/APDFT/prototyping/atomic_energies/hitp/')\n",
    "sys.path.insert(0, '/home/sahre/git_repositories/APDFT/prototyping/atomic_energies/')\n",
    "\n",
    "import cpmd_io\n",
    "import prepare_calculations as pc\n",
    "\n",
    "import numpy as np\n",
    "import collections\n",
    "import os"
   ]
  },
  {
   "cell_type": "code",
   "execution_count": 12,
   "id": "e008e084-5de3-49da-a6bb-ce143d6cb825",
   "metadata": {},
   "outputs": [],
   "source": [
    "def paths2logfiles(comp, delta_lambda, lam):\n",
    "    \"\"\"\n",
    "    prepare the run dirs for finite difference partial derivatives for small molecules\n",
    "    comp: name of compound\n",
    "    delta_lambda: delta for finite difference\n",
    "    lam: lambda_value for which derivatives will be calculated\n",
    "    \"\"\"\n",
    "    all_paths = [] # paths to run dirs\n",
    "    # read optimized geometry and extract molecule specific parameters\n",
    "    xyz_path = f'/data/sahre/projects/finite_differences/small_molecules/{comp}/GEOMETRY.xyz'\n",
    "    atom_symbols, nuc_charges, positions, valence_charges = pc.parse_xyz_for_CPMD_input(xyz_path)\n",
    "\n",
    "\n",
    "    for i, atom in enumerate(atom_symbols['elIdx']):\n",
    "        for fd in ['bw', 'fw']:\n",
    "            path = f'/data/sahre/projects/finite_differences/small_molecules/{comp}/lam_{np.round(lam, 3)}/{atom}/{fd}/run.log'\n",
    "            all_paths.append(path)\n",
    "            # define the array of lambda values\n",
    "            lambda_values = np.full_like(valence_charges, fill_value=lam, dtype='float')\n",
    "            if fd == 'bw':\n",
    "                lambda_values[i] -= delta_lambda\n",
    "            elif fd == 'fw':\n",
    "                lambda_values[i] += delta_lambda\n",
    "            else:\n",
    "                raise ValueError('Unknown finite difference operation')\n",
    "    return(all_paths)\n",
    "\n",
    "\n",
    "def check_convergence(logfile, conv_thresh):\n",
    "    status = 'not converged'\n",
    "    iteration_start = 0\n",
    "    for i, line in enumerate(logfile):\n",
    "        if 'NFI' in line:\n",
    "            iteration_start = i +1\n",
    "            break\n",
    "\n",
    "    j = 0\n",
    "\n",
    "    for line in logfile[iteration_start:]:\n",
    "        line_splitted = line.split()\n",
    "\n",
    "        try:\n",
    "            gemax = float(line_splitted[1])\n",
    "        except:\n",
    "            gemax = conv_thresh + 10\n",
    "\n",
    "        if gemax < conv_thresh:\n",
    "            status = 'converged'\n",
    "            break\n",
    "    return(status)\n",
    "\n",
    "def get_num_ve(logfile):\n",
    "    ve_g = 0\n",
    "    ve_r = 0\n",
    "    for line in logfile:\n",
    "        if \"IN G-SPACE =\" in line:\n",
    "            ve_g = float(line.strip('\\n').split()[-1])\n",
    "        elif \"IN R-SPACE =\" in line:\n",
    "            ve_r = float(line.strip('\\n').split()[-1])\n",
    "    \n",
    "    return(ve_g, ve_r)"
   ]
  },
  {
   "cell_type": "code",
   "execution_count": 13,
   "id": "08565793-1b4d-4acd-860d-f5d5f0d1ca15",
   "metadata": {},
   "outputs": [],
   "source": [
    "conv_thresh = 1e-6\n",
    "lambda_values = np.round(np.arange(0, 1.05, 0.05), 3)\n",
    "compounds = ['CH4', 'H2O','NH3', 'HF', 'ethane', 'ethene', 'ethyne', 'HCN']\n",
    "status = {k:[] for k in compounds}\n",
    "num_ve = {k:[] for k in compounds}\n",
    "for comp in compounds:\n",
    "    for lam in lambda_values:\n",
    "        path = f'/data/sahre/projects/finite_differences/small_molecules/{comp}/lam_{lam}/run.log'\n",
    "        with open(path, 'r') as f:\n",
    "            logfile = f.readlines()\n",
    "        status[comp].append([lam, check_convergence(logfile, conv_thresh)])\n",
    "        \n",
    "        ve_g, ve_r = get_num_ve(logfile)\n",
    "        num_ve[comp].append([ve_g, ve_r])"
   ]
  },
  {
   "cell_type": "code",
   "execution_count": 24,
   "id": "ce30ee45-8088-4f23-b637-c57f1b78bf26",
   "metadata": {},
   "outputs": [
    {
     "name": "stdout",
     "output_type": "stream",
     "text": [
      "ethane 0.75\n",
      "ethyne 0.05\n",
      "ethyne 0.15\n",
      "ethyne 0.25\n",
      "ethyne 0.45\n",
      "ethyne 0.85\n",
      "HCN 0.05\n",
      "HCN 0.25\n",
      "HCN 0.45\n",
      "HCN 0.65\n",
      "HCN 0.85\n"
     ]
    }
   ],
   "source": [
    "correct_ve = []\n",
    "for k in num_ve.keys():\n",
    "    correct_ve.append(num_ve[k][-1][0])\n",
    "    \n",
    "for k, cve in zip(num_ve.keys(), correct_ve):\n",
    "    for l, l1 in zip(num_ve[k], lambda_values):\n",
    "        if np.isclose(l[0], cve) and np.isclose(l[1], cve):\n",
    "            pass\n",
    "        else:\n",
    "            print(k +\" \" + str(l1))"
   ]
  },
  {
   "cell_type": "code",
   "execution_count": 25,
   "id": "a5d5a831-498c-4f4d-b151-5cd7609972a1",
   "metadata": {},
   "outputs": [
    {
     "data": {
      "text/plain": [
       "6.5"
      ]
     },
     "execution_count": 25,
     "metadata": {},
     "output_type": "execute_result"
    }
   ],
   "source": [
    "ethane 0.75\n",
    "ethyne 0.05\n",
    "ethyne 0.15\n",
    "ethyne 0.25\n",
    "ethyne 0.45\n",
    "ethyne 0.85\n",
    "HCN 0.05\n",
    "HCN 0.25\n",
    "HCN 0.45\n",
    "HCN 0.65\n",
    "HCN 0.85"
   ]
  },
  {
   "cell_type": "code",
   "execution_count": 26,
   "id": "c663934b-325f-4660-914c-42871070051a",
   "metadata": {},
   "outputs": [
    {
     "name": "stdout",
     "output_type": "stream",
     "text": [
      "/data/sahre/projects/finite_differences/small_molecules/ethane/lam_0.75\n",
      "/data/sahre/projects/finite_differences/small_molecules/ethyne/lam_0.05\n",
      "/data/sahre/projects/finite_differences/small_molecules/ethyne/lam_0.15\n",
      "/data/sahre/projects/finite_differences/small_molecules/ethyne/lam_0.25\n",
      "/data/sahre/projects/finite_differences/small_molecules/ethyne/lam_0.45\n",
      "/data/sahre/projects/finite_differences/small_molecules/ethyne/lam_0.85\n",
      "/data/sahre/projects/finite_differences/small_molecules/HCN/lam_0.05\n",
      "/data/sahre/projects/finite_differences/small_molecules/HCN/lam_0.25\n",
      "/data/sahre/projects/finite_differences/small_molecules/HCN/lam_0.45\n",
      "/data/sahre/projects/finite_differences/small_molecules/HCN/lam_0.65\n",
      "/data/sahre/projects/finite_differences/small_molecules/HCN/lam_0.85\n"
     ]
    }
   ],
   "source": [
    "for c, l in zip(['ethane', 'ethyne', 'ethyne', 'ethyne', 'ethyne', 'ethyne', 'HCN', 'HCN', 'HCN', 'HCN', 'HCN'],[0.75, 0.05,0.15,0.25,0.45,0.85,0.05,0.25,0.45,0.65,0.85]):\n",
    "    print(f'/data/sahre/projects/finite_differences/small_molecules/{c}/lam_{l}')"
   ]
  },
  {
   "cell_type": "code",
   "execution_count": 19,
   "id": "95aacd66-0f61-4ce6-bb3e-aa83f481a5d6",
   "metadata": {},
   "outputs": [
    {
     "data": {
      "text/plain": [
       "[8.0, 8.0, 8.0, 8.0, 14.0, 12.0, 10.0, 10.0]"
      ]
     },
     "execution_count": 19,
     "metadata": {},
     "output_type": "execute_result"
    }
   ],
   "source": [
    "correct_ve"
   ]
  },
  {
   "cell_type": "code",
   "execution_count": null,
   "id": "56d4c8a4-af92-43e0-8a3c-8a54f6fc3eca",
   "metadata": {},
   "outputs": [],
   "source": [
    "correct_ve = [8,8,8,8, 'ethane', 'ethene', 'ethyne', 'HCN']"
   ]
  },
  {
   "cell_type": "code",
   "execution_count": 9,
   "id": "02313e9d-2d31-46b9-85a9-cf71cf59d944",
   "metadata": {},
   "outputs": [
    {
     "name": "stdout",
     "output_type": "stream",
     "text": [
      "ethene 0.45 not converged\n",
      "ethyne 0.25 not converged\n"
     ]
    }
   ],
   "source": [
    "for k in status.keys():\n",
    "    for i in status[k]:\n",
    "        if i[1] == 'not converged':\n",
    "            print(f'{k} {i[0]} {i[1]}')"
   ]
  },
  {
   "cell_type": "markdown",
   "id": "a483e5f0-48fc-4056-905f-9bd087ee3ac8",
   "metadata": {},
   "source": [
    "ethene 0.45 not converged\n",
    "\n",
    "ethyne 0.25 not converged\n"
   ]
  },
  {
   "cell_type": "code",
   "execution_count": 5,
   "id": "cfb60451-6023-44d7-85d1-b426b8a119b6",
   "metadata": {},
   "outputs": [],
   "source": [
    "comp = 'H2O'\n",
    "delta_lambda = 5e-5\n",
    "logfiles = []\n",
    "for lam in np.round(np.arange(0.05, 1.05, 0.05),3):\n",
    "    logfiles.extend(paths2logfiles(comp, delta_lambda, lam))\n",
    "    \n",
    "status = {comp:[]}#{k:[] for k in compounds}\n",
    "for path in logfiles:    \n",
    "    with open(path, 'r') as f:\n",
    "        logfile = f.readlines()\n",
    "    status[comp].append([lam, check_convergence(logfile, conv_thresh)])"
   ]
  },
  {
   "cell_type": "code",
   "execution_count": 6,
   "id": "4223c6aa-d121-4ff6-bfb5-b8fb2afb089c",
   "metadata": {
    "collapsed": true,
    "jupyter": {
     "outputs_hidden": true
    },
    "tags": []
   },
   "outputs": [
    {
     "data": {
      "text/plain": [
       "['/data/sahre/projects/finite_differences/small_molecules/H2O/lam_0.05/H1/bw/run.log',\n",
       " '/data/sahre/projects/finite_differences/small_molecules/H2O/lam_0.05/H1/fw/run.log',\n",
       " '/data/sahre/projects/finite_differences/small_molecules/H2O/lam_0.05/H2/bw/run.log',\n",
       " '/data/sahre/projects/finite_differences/small_molecules/H2O/lam_0.05/H2/fw/run.log',\n",
       " '/data/sahre/projects/finite_differences/small_molecules/H2O/lam_0.05/O3/bw/run.log',\n",
       " '/data/sahre/projects/finite_differences/small_molecules/H2O/lam_0.05/O3/fw/run.log',\n",
       " '/data/sahre/projects/finite_differences/small_molecules/H2O/lam_0.1/H1/bw/run.log',\n",
       " '/data/sahre/projects/finite_differences/small_molecules/H2O/lam_0.1/H1/fw/run.log',\n",
       " '/data/sahre/projects/finite_differences/small_molecules/H2O/lam_0.1/H2/bw/run.log',\n",
       " '/data/sahre/projects/finite_differences/small_molecules/H2O/lam_0.1/H2/fw/run.log',\n",
       " '/data/sahre/projects/finite_differences/small_molecules/H2O/lam_0.1/O3/bw/run.log',\n",
       " '/data/sahre/projects/finite_differences/small_molecules/H2O/lam_0.1/O3/fw/run.log',\n",
       " '/data/sahre/projects/finite_differences/small_molecules/H2O/lam_0.15/H1/bw/run.log',\n",
       " '/data/sahre/projects/finite_differences/small_molecules/H2O/lam_0.15/H1/fw/run.log',\n",
       " '/data/sahre/projects/finite_differences/small_molecules/H2O/lam_0.15/H2/bw/run.log',\n",
       " '/data/sahre/projects/finite_differences/small_molecules/H2O/lam_0.15/H2/fw/run.log',\n",
       " '/data/sahre/projects/finite_differences/small_molecules/H2O/lam_0.15/O3/bw/run.log',\n",
       " '/data/sahre/projects/finite_differences/small_molecules/H2O/lam_0.15/O3/fw/run.log',\n",
       " '/data/sahre/projects/finite_differences/small_molecules/H2O/lam_0.2/H1/bw/run.log',\n",
       " '/data/sahre/projects/finite_differences/small_molecules/H2O/lam_0.2/H1/fw/run.log',\n",
       " '/data/sahre/projects/finite_differences/small_molecules/H2O/lam_0.2/H2/bw/run.log',\n",
       " '/data/sahre/projects/finite_differences/small_molecules/H2O/lam_0.2/H2/fw/run.log',\n",
       " '/data/sahre/projects/finite_differences/small_molecules/H2O/lam_0.2/O3/bw/run.log',\n",
       " '/data/sahre/projects/finite_differences/small_molecules/H2O/lam_0.2/O3/fw/run.log',\n",
       " '/data/sahre/projects/finite_differences/small_molecules/H2O/lam_0.25/H1/bw/run.log',\n",
       " '/data/sahre/projects/finite_differences/small_molecules/H2O/lam_0.25/H1/fw/run.log',\n",
       " '/data/sahre/projects/finite_differences/small_molecules/H2O/lam_0.25/H2/bw/run.log',\n",
       " '/data/sahre/projects/finite_differences/small_molecules/H2O/lam_0.25/H2/fw/run.log',\n",
       " '/data/sahre/projects/finite_differences/small_molecules/H2O/lam_0.25/O3/bw/run.log',\n",
       " '/data/sahre/projects/finite_differences/small_molecules/H2O/lam_0.25/O3/fw/run.log',\n",
       " '/data/sahre/projects/finite_differences/small_molecules/H2O/lam_0.3/H1/bw/run.log',\n",
       " '/data/sahre/projects/finite_differences/small_molecules/H2O/lam_0.3/H1/fw/run.log',\n",
       " '/data/sahre/projects/finite_differences/small_molecules/H2O/lam_0.3/H2/bw/run.log',\n",
       " '/data/sahre/projects/finite_differences/small_molecules/H2O/lam_0.3/H2/fw/run.log',\n",
       " '/data/sahre/projects/finite_differences/small_molecules/H2O/lam_0.3/O3/bw/run.log',\n",
       " '/data/sahre/projects/finite_differences/small_molecules/H2O/lam_0.3/O3/fw/run.log',\n",
       " '/data/sahre/projects/finite_differences/small_molecules/H2O/lam_0.35/H1/bw/run.log',\n",
       " '/data/sahre/projects/finite_differences/small_molecules/H2O/lam_0.35/H1/fw/run.log',\n",
       " '/data/sahre/projects/finite_differences/small_molecules/H2O/lam_0.35/H2/bw/run.log',\n",
       " '/data/sahre/projects/finite_differences/small_molecules/H2O/lam_0.35/H2/fw/run.log',\n",
       " '/data/sahre/projects/finite_differences/small_molecules/H2O/lam_0.35/O3/bw/run.log',\n",
       " '/data/sahre/projects/finite_differences/small_molecules/H2O/lam_0.35/O3/fw/run.log',\n",
       " '/data/sahre/projects/finite_differences/small_molecules/H2O/lam_0.4/H1/bw/run.log',\n",
       " '/data/sahre/projects/finite_differences/small_molecules/H2O/lam_0.4/H1/fw/run.log',\n",
       " '/data/sahre/projects/finite_differences/small_molecules/H2O/lam_0.4/H2/bw/run.log',\n",
       " '/data/sahre/projects/finite_differences/small_molecules/H2O/lam_0.4/H2/fw/run.log',\n",
       " '/data/sahre/projects/finite_differences/small_molecules/H2O/lam_0.4/O3/bw/run.log',\n",
       " '/data/sahre/projects/finite_differences/small_molecules/H2O/lam_0.4/O3/fw/run.log',\n",
       " '/data/sahre/projects/finite_differences/small_molecules/H2O/lam_0.45/H1/bw/run.log',\n",
       " '/data/sahre/projects/finite_differences/small_molecules/H2O/lam_0.45/H1/fw/run.log',\n",
       " '/data/sahre/projects/finite_differences/small_molecules/H2O/lam_0.45/H2/bw/run.log',\n",
       " '/data/sahre/projects/finite_differences/small_molecules/H2O/lam_0.45/H2/fw/run.log',\n",
       " '/data/sahre/projects/finite_differences/small_molecules/H2O/lam_0.45/O3/bw/run.log',\n",
       " '/data/sahre/projects/finite_differences/small_molecules/H2O/lam_0.45/O3/fw/run.log',\n",
       " '/data/sahre/projects/finite_differences/small_molecules/H2O/lam_0.5/H1/bw/run.log',\n",
       " '/data/sahre/projects/finite_differences/small_molecules/H2O/lam_0.5/H1/fw/run.log',\n",
       " '/data/sahre/projects/finite_differences/small_molecules/H2O/lam_0.5/H2/bw/run.log',\n",
       " '/data/sahre/projects/finite_differences/small_molecules/H2O/lam_0.5/H2/fw/run.log',\n",
       " '/data/sahre/projects/finite_differences/small_molecules/H2O/lam_0.5/O3/bw/run.log',\n",
       " '/data/sahre/projects/finite_differences/small_molecules/H2O/lam_0.5/O3/fw/run.log',\n",
       " '/data/sahre/projects/finite_differences/small_molecules/H2O/lam_0.55/H1/bw/run.log',\n",
       " '/data/sahre/projects/finite_differences/small_molecules/H2O/lam_0.55/H1/fw/run.log',\n",
       " '/data/sahre/projects/finite_differences/small_molecules/H2O/lam_0.55/H2/bw/run.log',\n",
       " '/data/sahre/projects/finite_differences/small_molecules/H2O/lam_0.55/H2/fw/run.log',\n",
       " '/data/sahre/projects/finite_differences/small_molecules/H2O/lam_0.55/O3/bw/run.log',\n",
       " '/data/sahre/projects/finite_differences/small_molecules/H2O/lam_0.55/O3/fw/run.log',\n",
       " '/data/sahre/projects/finite_differences/small_molecules/H2O/lam_0.6/H1/bw/run.log',\n",
       " '/data/sahre/projects/finite_differences/small_molecules/H2O/lam_0.6/H1/fw/run.log',\n",
       " '/data/sahre/projects/finite_differences/small_molecules/H2O/lam_0.6/H2/bw/run.log',\n",
       " '/data/sahre/projects/finite_differences/small_molecules/H2O/lam_0.6/H2/fw/run.log',\n",
       " '/data/sahre/projects/finite_differences/small_molecules/H2O/lam_0.6/O3/bw/run.log',\n",
       " '/data/sahre/projects/finite_differences/small_molecules/H2O/lam_0.6/O3/fw/run.log',\n",
       " '/data/sahre/projects/finite_differences/small_molecules/H2O/lam_0.65/H1/bw/run.log',\n",
       " '/data/sahre/projects/finite_differences/small_molecules/H2O/lam_0.65/H1/fw/run.log',\n",
       " '/data/sahre/projects/finite_differences/small_molecules/H2O/lam_0.65/H2/bw/run.log',\n",
       " '/data/sahre/projects/finite_differences/small_molecules/H2O/lam_0.65/H2/fw/run.log',\n",
       " '/data/sahre/projects/finite_differences/small_molecules/H2O/lam_0.65/O3/bw/run.log',\n",
       " '/data/sahre/projects/finite_differences/small_molecules/H2O/lam_0.65/O3/fw/run.log',\n",
       " '/data/sahre/projects/finite_differences/small_molecules/H2O/lam_0.7/H1/bw/run.log',\n",
       " '/data/sahre/projects/finite_differences/small_molecules/H2O/lam_0.7/H1/fw/run.log',\n",
       " '/data/sahre/projects/finite_differences/small_molecules/H2O/lam_0.7/H2/bw/run.log',\n",
       " '/data/sahre/projects/finite_differences/small_molecules/H2O/lam_0.7/H2/fw/run.log',\n",
       " '/data/sahre/projects/finite_differences/small_molecules/H2O/lam_0.7/O3/bw/run.log',\n",
       " '/data/sahre/projects/finite_differences/small_molecules/H2O/lam_0.7/O3/fw/run.log',\n",
       " '/data/sahre/projects/finite_differences/small_molecules/H2O/lam_0.75/H1/bw/run.log',\n",
       " '/data/sahre/projects/finite_differences/small_molecules/H2O/lam_0.75/H1/fw/run.log',\n",
       " '/data/sahre/projects/finite_differences/small_molecules/H2O/lam_0.75/H2/bw/run.log',\n",
       " '/data/sahre/projects/finite_differences/small_molecules/H2O/lam_0.75/H2/fw/run.log',\n",
       " '/data/sahre/projects/finite_differences/small_molecules/H2O/lam_0.75/O3/bw/run.log',\n",
       " '/data/sahre/projects/finite_differences/small_molecules/H2O/lam_0.75/O3/fw/run.log',\n",
       " '/data/sahre/projects/finite_differences/small_molecules/H2O/lam_0.8/H1/bw/run.log',\n",
       " '/data/sahre/projects/finite_differences/small_molecules/H2O/lam_0.8/H1/fw/run.log',\n",
       " '/data/sahre/projects/finite_differences/small_molecules/H2O/lam_0.8/H2/bw/run.log',\n",
       " '/data/sahre/projects/finite_differences/small_molecules/H2O/lam_0.8/H2/fw/run.log',\n",
       " '/data/sahre/projects/finite_differences/small_molecules/H2O/lam_0.8/O3/bw/run.log',\n",
       " '/data/sahre/projects/finite_differences/small_molecules/H2O/lam_0.8/O3/fw/run.log',\n",
       " '/data/sahre/projects/finite_differences/small_molecules/H2O/lam_0.85/H1/bw/run.log',\n",
       " '/data/sahre/projects/finite_differences/small_molecules/H2O/lam_0.85/H1/fw/run.log',\n",
       " '/data/sahre/projects/finite_differences/small_molecules/H2O/lam_0.85/H2/bw/run.log',\n",
       " '/data/sahre/projects/finite_differences/small_molecules/H2O/lam_0.85/H2/fw/run.log',\n",
       " '/data/sahre/projects/finite_differences/small_molecules/H2O/lam_0.85/O3/bw/run.log',\n",
       " '/data/sahre/projects/finite_differences/small_molecules/H2O/lam_0.85/O3/fw/run.log',\n",
       " '/data/sahre/projects/finite_differences/small_molecules/H2O/lam_0.9/H1/bw/run.log',\n",
       " '/data/sahre/projects/finite_differences/small_molecules/H2O/lam_0.9/H1/fw/run.log',\n",
       " '/data/sahre/projects/finite_differences/small_molecules/H2O/lam_0.9/H2/bw/run.log',\n",
       " '/data/sahre/projects/finite_differences/small_molecules/H2O/lam_0.9/H2/fw/run.log',\n",
       " '/data/sahre/projects/finite_differences/small_molecules/H2O/lam_0.9/O3/bw/run.log',\n",
       " '/data/sahre/projects/finite_differences/small_molecules/H2O/lam_0.9/O3/fw/run.log',\n",
       " '/data/sahre/projects/finite_differences/small_molecules/H2O/lam_0.95/H1/bw/run.log',\n",
       " '/data/sahre/projects/finite_differences/small_molecules/H2O/lam_0.95/H1/fw/run.log',\n",
       " '/data/sahre/projects/finite_differences/small_molecules/H2O/lam_0.95/H2/bw/run.log',\n",
       " '/data/sahre/projects/finite_differences/small_molecules/H2O/lam_0.95/H2/fw/run.log',\n",
       " '/data/sahre/projects/finite_differences/small_molecules/H2O/lam_0.95/O3/bw/run.log',\n",
       " '/data/sahre/projects/finite_differences/small_molecules/H2O/lam_0.95/O3/fw/run.log',\n",
       " '/data/sahre/projects/finite_differences/small_molecules/H2O/lam_1.0/H1/bw/run.log',\n",
       " '/data/sahre/projects/finite_differences/small_molecules/H2O/lam_1.0/H1/fw/run.log',\n",
       " '/data/sahre/projects/finite_differences/small_molecules/H2O/lam_1.0/H2/bw/run.log',\n",
       " '/data/sahre/projects/finite_differences/small_molecules/H2O/lam_1.0/H2/fw/run.log',\n",
       " '/data/sahre/projects/finite_differences/small_molecules/H2O/lam_1.0/O3/bw/run.log',\n",
       " '/data/sahre/projects/finite_differences/small_molecules/H2O/lam_1.0/O3/fw/run.log']"
      ]
     },
     "execution_count": 6,
     "metadata": {},
     "output_type": "execute_result"
    }
   ],
   "source": [
    "logfiles"
   ]
  },
  {
   "cell_type": "code",
   "execution_count": 7,
   "id": "d4fecb46-fbee-486a-8187-270b232beb54",
   "metadata": {},
   "outputs": [],
   "source": [
    "for k in status.keys():\n",
    "    for i in status[k]:\n",
    "        if i[1] == 'not converged':\n",
    "            print(f'{k} {i[0]} {i[1]}')"
   ]
  },
  {
   "cell_type": "code",
   "execution_count": 29,
   "id": "2dd83182-a24f-420a-89c5-4b7e2723d157",
   "metadata": {},
   "outputs": [],
   "source": [
    "def df_paths(comp, delta_lambda, lam):\n",
    "    \"\"\"\n",
    "    prepare the run dirs for finite difference partial derivatives for small molecules\n",
    "    comp: name of compound\n",
    "    delta_lambda: delta for finite difference\n",
    "    lam: lambda_value for which derivatives will be calculated\n",
    "    \"\"\"\n",
    "    all_paths = [] # paths to run dirs\n",
    "    # path to PP-files and type of PP (pbe)\n",
    "    pp_dir = '/data/sahre/PP_LIBRARY'\n",
    "    pp_type = 'GH_PBE'\n",
    "\n",
    "    # input templates\n",
    "    template_inp = '/data/sahre/projects/atomic-energies/templates_inp/cpmd_template_restart.inp'\n",
    "    template_inp_small_lambda = '/data/sahre/projects/atomic-energies/templates_inp/cpmd_template_small_lambda_restart.inp'\n",
    "\n",
    "    # read optimized geometry and extract molecule specific parameters\n",
    "    xyz_path = f'/data/sahre/projects/finite_differences/small_molecules/{comp}/GEOMETRY.xyz'\n",
    "    atom_symbols, nuc_charges, positions, valence_charges = pc.parse_xyz_for_CPMD_input(xyz_path)\n",
    "\n",
    "    # calculate correct boxsize\n",
    "    num_ve = valence_charges.sum()\n",
    "    reference_density = 8/(15**3) # density of UEG for a boxlength of 15 Ang and 8 valence electrons\n",
    "    boxsize = (num_ve/reference_density)**(1/3)\n",
    "    shift2center = True\n",
    "\n",
    "    for i, atom in enumerate(atom_symbols['elIdx']):\n",
    "        for fd in ['bw', 'fw']:\n",
    "            path = f'/data/sahre/projects/finite_differences/small_molecules/{comp}/lam_{np.round(lam, 3)}/{atom}/{fd}'\n",
    "            all_paths.append(path)\n",
    "    return(all_paths)"
   ]
  },
  {
   "cell_type": "code",
   "execution_count": 41,
   "id": "dca64015-699a-4fb7-919a-10cd96fd7522",
   "metadata": {},
   "outputs": [],
   "source": [
    "base_lambda = np.arange(0.05, 1.05, 0.05)\n",
    "compounds = ['CH4', 'NH3', \"H2O\",'HF', 'ethane', 'ethene', 'ethyne', 'HCN']\n",
    "delta_lambda = 5e-5\n",
    "paths = collections.defaultdict(list)\n",
    "for comp in compounds:\n",
    "    for lam in base_lambda:\n",
    "        paths[comp].extend(df_paths(comp, delta_lambda, lam))"
   ]
  },
  {
   "cell_type": "code",
   "execution_count": 46,
   "id": "653e2b25-b5d8-4c4d-afd1-f32e07ba30c1",
   "metadata": {
    "tags": []
   },
   "outputs": [
    {
     "name": "stdout",
     "output_type": "stream",
     "text": [
      "Missing /data/sahre/projects/finite_differences/small_molecules/ethene/lam_0.45/C1/bw\n",
      "Missing /data/sahre/projects/finite_differences/small_molecules/ethene/lam_0.45/C1/fw\n",
      "Missing /data/sahre/projects/finite_differences/small_molecules/ethene/lam_0.45/C2/bw\n",
      "Missing /data/sahre/projects/finite_differences/small_molecules/ethene/lam_0.45/C2/fw\n",
      "Missing /data/sahre/projects/finite_differences/small_molecules/ethene/lam_0.45/H3/bw\n",
      "Missing /data/sahre/projects/finite_differences/small_molecules/ethene/lam_0.45/H3/fw\n",
      "Missing /data/sahre/projects/finite_differences/small_molecules/ethene/lam_0.45/H4/bw\n",
      "Missing /data/sahre/projects/finite_differences/small_molecules/ethene/lam_0.45/H4/fw\n",
      "Missing /data/sahre/projects/finite_differences/small_molecules/ethene/lam_0.45/H5/bw\n",
      "Missing /data/sahre/projects/finite_differences/small_molecules/ethene/lam_0.45/H5/fw\n",
      "Missing /data/sahre/projects/finite_differences/small_molecules/ethene/lam_0.45/H6/bw\n",
      "Missing /data/sahre/projects/finite_differences/small_molecules/ethene/lam_0.45/H6/fw\n"
     ]
    }
   ],
   "source": [
    "for k, nve in zip(paths.keys(),[8,8,8,8,14,12,10,10]):\n",
    "    for p in paths[k]:\n",
    "        logpath = os.path.join(p, 'run.log')\n",
    "        if os.path.isfile(logpath):\n",
    "            with open(logpath, 'r') as f:\n",
    "                logfile = f.readlines()\n",
    "            conv_thresh = 1e-6\n",
    "            if not check_convergence(logfile, conv_thresh) == 'converged':\n",
    "                print(f'Not converged {p}')\n",
    "                \n",
    "            g, r = get_num_ve(logfile)\n",
    "            if not np.isclose(nve, g) and not np.isclose(nve,r):\n",
    "                print(f'Wrong num elec {p}')\n",
    "        else:\n",
    "            print(f'Missing {p}')\n",
    "    \n",
    "        "
   ]
  },
  {
   "cell_type": "code",
   "execution_count": 8,
   "id": "2ea8826f-8777-4697-b76e-283f6af395a5",
   "metadata": {},
   "outputs": [],
   "source": [
    "from matplotlib import pyplot as plt\n",
    "import scipy.interpolate as si\n"
   ]
  },
  {
   "cell_type": "code",
   "execution_count": 9,
   "id": "4087692e-c401-4a83-869d-f6a223b3f15c",
   "metadata": {},
   "outputs": [],
   "source": [
    "def calculate_partial_derivatives(atom, comp, delta_lambda, energy_contr, lambda_values):\n",
    "    \"\"\"\n",
    "    prepare the run dirs for finite difference partial derivatives for small molecules\n",
    "    comp: name of compound\n",
    "    delta_lambda: delta for finite difference\n",
    "    lam: lambda_value for which derivatives will be calculated\n",
    "    \"\"\"\n",
    "\n",
    "    partial_derivatives = []\n",
    "\n",
    "    for lam in lambda_values:\n",
    "        energies = []\n",
    "        for fd in ['bw', 'fw']:\n",
    "            logfile_path = f'/data/sahre/projects/finite_differences/small_molecules/{comp}/lam_{np.round(lam, 3)}/{atom}/{fd}/run.log'\n",
    "            with open(logfile_path, 'r') as f:\n",
    "                logfile = f.readlines()\n",
    "            # get energy\n",
    "            if energy_contr == 'TOTAL ENERGY =':\n",
    "                energies.append(cpmd_io.get_energy_contribution(logfile, energy_contr))\n",
    "            elif energy_contr == 'ELECTRONIC ENERGY':\n",
    "                \n",
    "                e_el_parts = []\n",
    "                for e in ['TOTAL ENERGY =','(PSEUDO CHARGE I-I) ENERGY =', 'ESR =','ESELF =']:\n",
    "                    e_el_parts.append(cpmd_io.get_energy_contribution(logfile, e))\n",
    "                e_nuc = e_el_parts[1]+e_el_parts[2]-e_el_parts[3]\n",
    "                e_el = e_el_parts[0]-e_nuc\n",
    "                energies.append(e_el)\n",
    "        partial_derivatives.append((energies[1]-energies[0])/(2*delta_lambda))\n",
    "    return(partial_derivatives)"
   ]
  },
  {
   "cell_type": "code",
   "execution_count": 146,
   "id": "13606c3d-50cc-4e88-91bb-69b22b41526e",
   "metadata": {},
   "outputs": [],
   "source": [
    "from scipy.integrate import simpson"
   ]
  },
  {
   "cell_type": "code",
   "execution_count": 153,
   "id": "4e82256d-b95e-4965-9806-efc01dd06c7a",
   "metadata": {},
   "outputs": [
    {
     "data": {
      "image/png": "[encoded data removed]",
      "text/plain": [
       "<Figure size 432x288 with 2 Axes>"
      ]
     },
     "metadata": {
      "needs_background": "light"
     },
     "output_type": "display_data"
    }
   ],
   "source": [
    "comp = 'HF'\n",
    "delta_lambda = 5e-5\n",
    "\n",
    "# read optimized geometry and extract molecule specific parameters\n",
    "xyz_path = f'/data/sahre/projects/finite_differences/small_molecules/{comp}/GEOMETRY.xyz'\n",
    "atom_symbols, nuc_charges, positions, valence_charges = pc.parse_xyz_for_CPMD_input(xyz_path)\n",
    "\n",
    "energy_contr = 'TOTAL ENERGY ='\n",
    "e_tot_trapz = 0\n",
    "e_tot_splines = 0\n",
    "e_tot_simps = 0\n",
    "\n",
    "fig, ax = plt.subplots(1,2)\n",
    "\n",
    "for atom in atom_symbols['elIdx']:\n",
    "    lambda_values = np.arange(0.05, 1.05, 0.05)\n",
    "    partial_derivatives = [0.0]\n",
    "    partial_derivatives.extend(calculate_partial_derivatives(atom, comp, delta_lambda, energy_contr, lambda_values))\n",
    "\n",
    "    lambda_values = np.arange(0.0, 1.05, 0.05)\n",
    "    e_tot_trapz += np.trapz(partial_derivatives, lambda_values)\n",
    "    e_tot_simps += simpson(partial_derivatives, lambda_values)\n",
    "    spline = si.CubicSpline(lambda_values, partial_derivatives)\n",
    "    spline_lam = np.linspace(0,1, 50)\n",
    "    spline_fit = spline(np.linspace(0,1, 50))\n",
    "    e_tot_splines += spline.integrate(0,1)\n",
    "    if 'H' in atom:\n",
    "        ax[0].plot(lambda_values, partial_derivatives, '-o')\n",
    "        ax[0].plot(spline_lam, spline_fit)\n",
    "        #ax[0].set_xlim([0,0.5])\n",
    "    else:\n",
    "        ax[1].plot(lambda_values, partial_derivatives, '-o')\n",
    "        ax[1].plot(spline_lam, spline_fit)"
   ]
  },
  {
   "cell_type": "code",
   "execution_count": 154,
   "id": "f6ce652f-a47a-4b6e-8610-78c99ee1af85",
   "metadata": {},
   "outputs": [],
   "source": [
    "logfile_path1 = f'/data/sahre/projects/finite_differences/small_molecules/{comp}/lam_1.0/run.log'\n",
    "with open(logfile_path1, 'r') as f:\n",
    "    logfile1 = f.readlines()\n",
    "\n",
    "logfile_path0 = f'/data/sahre/projects/finite_differences/small_molecules/{comp}/lam_0.0/run.log'\n",
    "with open(logfile_path0, 'r') as f:\n",
    "    logfile0 = f.readlines()\n",
    "\n",
    "e_tot_ref = cpmd_io.get_energy_contribution(logfile1, energy_contr)-cpmd_io.get_energy_contribution(logfile0, energy_contr)"
   ]
  },
  {
   "cell_type": "code",
   "execution_count": 155,
   "id": "5709d20b-714f-4179-9426-a606a603b3e2",
   "metadata": {},
   "outputs": [
    {
     "name": "stdout",
     "output_type": "stream",
     "text": [
      "-0.03350830283958217\n",
      "-0.0477095599951447\n",
      "-0.03466039332776205\n"
     ]
    }
   ],
   "source": [
    "print(e_tot_splines-e_tot_ref)\n",
    "print(e_tot_trapz-e_tot_ref)\n",
    "print(e_tot_simps-e_tot_ref)"
   ]
  },
  {
   "cell_type": "code",
   "execution_count": 156,
   "id": "62047148-5b62-40bf-9c81-54d912c2831a",
   "metadata": {},
   "outputs": [
    {
     "data": {
      "image/png": "[encoded data removed]",
      "text/plain": [
       "<Figure size 432x288 with 2 Axes>"
      ]
     },
     "metadata": {
      "needs_background": "light"
     },
     "output_type": "display_data"
    }
   ],
   "source": [
    "comp = 'HF'\n",
    "delta_lambda = 5e-5\n",
    "energy_contr = 'ELECTRONIC ENERGY'\n",
    "e_el_trapz = 0\n",
    "e_el_splines = 0\n",
    "fig, ax = plt.subplots(1,2)\n",
    "\n",
    "for atom in atom_symbols['elIdx']:\n",
    "    lambda_values = np.arange(0.05, 1.05, 0.05)\n",
    "    partial_derivatives = [0.0]\n",
    "    partial_derivatives.extend(calculate_partial_derivatives(atom, comp, delta_lambda, energy_contr, lambda_values))\n",
    "\n",
    "    lambda_values = np.arange(0.0, 1.05, 0.05)\n",
    "    e_el_trapz += np.trapz(partial_derivatives, lambda_values)\n",
    "    spline = si.CubicSpline(lambda_values, partial_derivatives)\n",
    "    e_el_splines += spline.integrate(0,1)\n",
    "    \n",
    "    if 'H' in atom:\n",
    "        ax[0].plot(lambda_values, partial_derivatives, '-o')\n",
    "    else:\n",
    "        ax[1].plot(lambda_values, partial_derivatives, '-o')"
   ]
  },
  {
   "cell_type": "code",
   "execution_count": 115,
   "id": "80cc6cab-3d21-4369-b207-282d11244814",
   "metadata": {},
   "outputs": [],
   "source": [
    "logfile_path1 = f'/data/sahre/projects/finite_differences/small_molecules/{comp}/lam_1.0/run.log'\n",
    "with open(logfile_path1, 'r') as f:\n",
    "    logfile1 = f.readlines()\n",
    "\n",
    "logfile_path0 = f'/data/sahre/projects/finite_differences/small_molecules/{comp}/lam_0.0/run.log'\n",
    "with open(logfile_path0, 'r') as f:\n",
    "    logfile0 = f.readlines()\n",
    "\n",
    "def get_e_el(logfile):\n",
    "    e_el_parts = []\n",
    "    for e in ['TOTAL ENERGY =','(PSEUDO CHARGE I-I) ENERGY =', 'ESR =','ESELF =']:\n",
    "        e_el_parts.append(cpmd_io.get_energy_contribution(logfile, e))\n",
    "    e_nuc = e_el_parts[1]+e_el_parts[2]-e_el_parts[3]\n",
    "    e_el = e_el_parts[0]-e_nuc\n",
    "    return(e_el)\n",
    "    \n",
    "e_el_ref = get_e_el(logfile1)-get_e_el(logfile0)"
   ]
  },
  {
   "cell_type": "code",
   "execution_count": 116,
   "id": "7ab15036-24a5-4e2a-8ea2-c99d2383dd07",
   "metadata": {},
   "outputs": [
    {
     "name": "stdout",
     "output_type": "stream",
     "text": [
      "0.005647817880809924\n",
      "0.0011009899972727055\n"
     ]
    }
   ],
   "source": [
    "print(e_el_splines-e_el_ref)\n",
    "print(e_el_trapz-e_el_ref)"
   ]
  },
  {
   "cell_type": "code",
   "execution_count": 65,
   "id": "9de03b7f-099a-4817-94fd-1c01f2e995db",
   "metadata": {},
   "outputs": [
    {
     "data": {
      "text/plain": [
       "-25.20150123110003"
      ]
     },
     "execution_count": 65,
     "metadata": {},
     "output_type": "execute_result"
    }
   ],
   "source": [
    "e_el_splines"
   ]
  },
  {
   "cell_type": "markdown",
   "id": "6d07f31e-cce8-4c2c-85d2-22225de9551d",
   "metadata": {},
   "source": [
    "# UEG"
   ]
  },
  {
   "cell_type": "code",
   "execution_count": 70,
   "id": "767ad393-c199-446f-a2a9-5e2c2a656b2e",
   "metadata": {},
   "outputs": [],
   "source": [
    "ves = ['ve_8', 've_10', 've_12', 've_14']\n",
    "boxsizes = [15, 20, 22.5, 25]\n",
    "energy_ve = dict()\n",
    "for ve in ves:\n",
    "    energy_ve[ve] = []\n",
    "    for boxsize in boxsizes:\n",
    "        path_log = f'/data/sahre/projects/finite_differences/small_molecules/UEG/{ve}/a_{boxsize}/run.log'\n",
    "        with open(path_log, 'r') as f:\n",
    "            logfile = f.readlines()\n",
    "        conv_thresh = 1e-6\n",
    "        status = check_convergence(logfile, conv_thresh)\n",
    "        if status == 'not converged':\n",
    "            print(path_log)\n",
    "        energy_ve[ve].append(cpmd_io.get_energy_contribution(logfile, 'TOTAL ENERGY ='))"
   ]
  },
  {
   "cell_type": "code",
   "execution_count": 119,
   "id": "711e7d14-3e97-4776-a3a7-2371120a2360",
   "metadata": {},
   "outputs": [
    {
     "data": {
      "text/plain": [
       "14.0"
      ]
     },
     "execution_count": 119,
     "metadata": {},
     "output_type": "execute_result"
    }
   ],
   "source": []
  },
  {
   "cell_type": "code",
   "execution_count": 120,
   "id": "43b41324-18b3-49d2-a904-3ecd19a3567c",
   "metadata": {},
   "outputs": [
    {
     "data": {
      "text/plain": [
       "Text(0, 0.5, 'E UEG (Ha)')"
      ]
     },
     "execution_count": 120,
     "metadata": {},
     "output_type": "execute_result"
    },
    {
     "data": {
      "image/png": "[encoded data removed]",
      "text/plain": [
       "<Figure size 432x288 with 1 Axes>"
      ]
     },
     "metadata": {
      "needs_background": "light"
     },
     "output_type": "display_data"
    }
   ],
   "source": [
    "plt.rcParams['font.size'] = 15\n",
    "for k in energy_ve.keys():\n",
    "    plt.plot(boxsizes, np.array(energy_ve[k])/float(k.split('_')[1]), '-o',label = k)\n",
    "plt.legend(bbox_to_anchor = (1.05,1))\n",
    "plt.xlabel(r'a (Ang)')\n",
    "plt.ylabel(r'E UEG (Ha)')"
   ]
  },
  {
   "cell_type": "code",
   "execution_count": 121,
   "id": "f1aba8e8-646e-4d40-ac0b-f21ca1899276",
   "metadata": {},
   "outputs": [
    {
     "data": {
      "text/plain": [
       "array([-0.06441372, -0.0541697 , -0.05001709, -0.04641746])"
      ]
     },
     "execution_count": 121,
     "metadata": {},
     "output_type": "execute_result"
    }
   ],
   "source": [
    "np.array(energy_ve[k])/float(k.split('_')[1])"
   ]
  },
  {
   "cell_type": "code",
   "execution_count": 126,
   "id": "fdf4ec7e-378b-4274-990c-5985800c614e",
   "metadata": {},
   "outputs": [
    {
     "data": {
      "text/plain": [
       "0.00047073400000000043"
      ]
     },
     "execution_count": 126,
     "metadata": {},
     "output_type": "execute_result"
    }
   ],
   "source": [
    "-0.41775901/10 - (-0.33797308/8)\n",
    "\n"
   ]
  },
  {
   "cell_type": "code",
   "execution_count": 125,
   "id": "a4df2b07-5289-49a6-941c-fe7003323b48",
   "metadata": {},
   "outputs": [
    {
     "data": {
      "text/plain": [
       "{'ve_8': [-0.43341627, -0.36427149, -0.33797308, -0.31388198],\n",
       " 've_10': [-0.57679979, -0.48622342, -0.44983357, -0.41775901],\n",
       " 've_12': [-0.73362695, -0.61814481, -0.57106732, -0.53018061],\n",
       " 've_14': [-0.90179203, -0.75837586, -0.70023922, -0.64984451]}"
      ]
     },
     "execution_count": 125,
     "metadata": {},
     "output_type": "execute_result"
    }
   ],
   "source": [
    "energy_ve"
   ]
  },
  {
   "cell_type": "code",
   "execution_count": 124,
   "id": "92697651-dbdf-450c-8852-c9326b43fbb8",
   "metadata": {},
   "outputs": [
    {
     "data": {
      "text/plain": [
       "Text(0, 0.5, 'E UEG (Ha)')"
      ]
     },
     "execution_count": 124,
     "metadata": {},
     "output_type": "execute_result"
    },
    {
     "data": {
      "image/png": "[encoded data removed]",
      "text/plain": [
       "<Figure size 432x288 with 1 Axes>"
      ]
     },
     "metadata": {
      "needs_background": "light"
     },
     "output_type": "display_data"
    }
   ],
   "source": [
    "plt.rcParams['font.size'] = 15\n",
    "for k in energy_ve.keys():\n",
    "    plt.plot(float(k.split('_')[1])/np.array(boxsizes)**3, np.array(energy_ve[k])/float(k.split('_')[1]), '-o',label = k)\n",
    "plt.legend(bbox_to_anchor = (1.05,1))\n",
    "plt.xlabel(r'a (Ang)')\n",
    "plt.ylabel(r'E UEG (Ha)')"
   ]
  },
  {
   "cell_type": "code",
   "execution_count": 127,
   "id": "5a68b7e5-b2f7-4568-9fc1-b61444d0d902",
   "metadata": {},
   "outputs": [
    {
     "data": {
      "text/plain": [
       "3.5140532"
      ]
     },
     "execution_count": 127,
     "metadata": {},
     "output_type": "execute_result"
    }
   ],
   "source": [
    "0.2510038*14"
   ]
  }
 ],
 "metadata": {
  "kernelspec": {
   "display_name": "Python 3 (ipykernel)",
   "language": "python",
   "name": "python3"
  },
  "language_info": {
   "codemirror_mode": {
    "name": "ipython",
    "version": 3
   },
   "file_extension": ".py",
   "mimetype": "text/x-python",
   "name": "python",
   "nbconvert_exporter": "python",
   "pygments_lexer": "ipython3",
   "version": "3.9.10"
  }
 },
 "nbformat": 4,
 "nbformat_minor": 5
}
