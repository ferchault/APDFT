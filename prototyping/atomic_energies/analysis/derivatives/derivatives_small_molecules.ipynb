{
 "cells": [
  {
   "cell_type": "code",
   "execution_count": 2,
   "id": "79f7ece0-dfa6-4621-938c-574fd7e35cac",
   "metadata": {},
   "outputs": [],
   "source": [
    "import sys\n",
    "sys.path.insert(0, '/home/sahre/git_repositories/APDFT/prototyping/atomic_energies/hitp/')\n",
    "sys.path.insert(0, '/home/sahre/git_repositories/APDFT/prototyping/atomic_energies/')\n",
    "\n",
    "import cpmd_io\n",
    "import prepare_calculations as pc\n",
    "import utils_qm as uqm\n",
    "import numpy as np\n",
    "import collections\n",
    "import os\n",
    "\n",
    "from scipy.integrate import simpson\n",
    "from matplotlib import pyplot as plt\n",
    "import scipy.interpolate as si"
   ]
  },
  {
   "cell_type": "code",
   "execution_count": 12,
   "id": "4087692e-c401-4a83-869d-f6a223b3f15c",
   "metadata": {},
   "outputs": [],
   "source": [
    "# def calculate_partial_derivatives(atom, comp, delta_lambda, energy_contr, lambda_values):\n",
    "#     \"\"\"\n",
    "#     prepare the run dirs for finite difference partial derivatives for small molecules\n",
    "#     comp: name of compound\n",
    "#     delta_lambda: delta for finite difference\n",
    "#     lam: lambda_value for which derivatives will be calculated\n",
    "#     \"\"\"\n",
    "\n",
    "#     partial_derivatives = []\n",
    "\n",
    "#     for lam in lambda_values:\n",
    "#         energies = []\n",
    "#         for fd in ['bw', 'fw']:\n",
    "#             logfile_path = f'/data/sahre/projects/finite_differences/small_molecules/{comp}/lam_{np.round(lam, 3)}/{atom}/{fd}/run.log'\n",
    "#             with open(logfile_path, 'r') as f:\n",
    "#                 logfile = f.readlines()\n",
    "#             # get energy\n",
    "#             if energy_contr == 'TOTAL ENERGY =':\n",
    "#                 energies.append(cpmd_io.get_energy_contribution(logfile, energy_contr))\n",
    "#             elif energy_contr == 'ELECTRONIC ENERGY':\n",
    "                \n",
    "#                 e_el_parts = []\n",
    "#                 for e in ['TOTAL ENERGY =','(PSEUDO CHARGE I-I) ENERGY =', 'ESR =','ESELF =']:\n",
    "#                     e_el_parts.append(cpmd_io.get_energy_contribution(logfile, e))\n",
    "#                 e_nuc = e_el_parts[1]+e_el_parts[2]-e_el_parts[3]\n",
    "#                 e_el = e_el_parts[0]-e_nuc\n",
    "#                 energies.append(e_el)\n",
    "#         partial_derivatives.append((energies[1]-energies[0])/(2*delta_lambda))\n",
    "#     return(partial_derivatives)\n",
    "\n",
    "\n",
    "def get_energy_contribution_wrapper(logfile_path, energy_contr):\n",
    "    \"\"\"\n",
    "    prepare the run dirs for finite difference partial derivatives for small molecules\n",
    "    comp: name of compound\n",
    "    delta_lambda: delta for finite difference\n",
    "    lam: lambda_value for which derivatives will be calculated\n",
    "    \"\"\"\n",
    "    energy = None\n",
    "    with open(logfile_path, 'r') as f:\n",
    "        logfile = f.readlines()\n",
    "            # get energy\n",
    "    if energy_contr == 'total':\n",
    "        energy = cpmd_io.get_energy_contribution(logfile, 'TOTAL ENERGY =')\n",
    "    elif energy_contr == 'ion_pseudo':\n",
    "        energy = cpmd_io.get_energy_contribution(logfile, '(PSEUDO CHARGE I-I) ENERGY =')\n",
    "    elif energy_contr == 'ion_self':\n",
    "        energy = cpmd_io.get_energy_contribution(logfile, 'ESELF =')\n",
    "    elif energy_contr == 'ion_esr':\n",
    "        energy = cpmd_io.get_energy_contribution(logfile, 'ESR =')\n",
    "    elif energy_contr == 'kinetic':\n",
    "        energy = cpmd_io.get_energy_contribution(logfile, 'KINETIC ENERGY =')\n",
    "    elif energy_contr == 'xc_corr':\n",
    "        energy = cpmd_io.get_energy_contribution(logfile, 'EXCHANGE-CORRELATION ENERGY =') \n",
    "    elif energy_contr == 'local_pp':\n",
    "        energy = cpmd_io.get_energy_contribution(logfile, 'LOCAL PSEUDOPOTENTIAL ENERGY')\n",
    "    elif energy_contr == 'nonlocal_pp':\n",
    "        energy = cpmd_io.get_energy_contribution(logfile, 'N-L PSEUDOPOTENTIAL ENERGY =')\n",
    "    elif energy_contr == 'electrostatic':\n",
    "        energy = cpmd_io.get_energy_contribution(logfile, 'ELECTROSTATIC ENERGY =')\n",
    "    elif energy_contr == 'electronic':\n",
    "        e_el_parts = []\n",
    "        for e in ['TOTAL ENERGY =','(PSEUDO CHARGE I-I) ENERGY =', 'ESR =','ESELF =']:\n",
    "            e_el_parts.append(cpmd_io.get_energy_contribution(logfile, e))\n",
    "        e_nuc = e_el_parts[1]+e_el_parts[2]-e_el_parts[3]\n",
    "        e_el = e_el_parts[0]-e_nuc\n",
    "        energy = e_el\n",
    "    elif energy_contr == 'potential':\n",
    "        e_pot_parts = []\n",
    "        for e in ['TOTAL ENERGY =','(PSEUDO CHARGE I-I) ENERGY =', 'ESR =','ESELF =','KINETIC ENERGY =']:\n",
    "            e_pot_parts.append(cpmd_io.get_energy_contribution(logfile, e))\n",
    "        epot = e_pot_parts[0] - (e_pot_parts[1]+e_pot_parts[2]-e_pot_parts[3]) - e_pot_parts[4]\n",
    "        energy = epot\n",
    "    elif energy_contr == 'nuclear':\n",
    "        e_nuc_parts = []\n",
    "        for e in ['(PSEUDO CHARGE I-I) ENERGY =', 'ESR =','ESELF =']:\n",
    "            e_nuc_parts.append(cpmd_io.get_energy_contribution(logfile, e))\n",
    "        e_nuc = e_nuc_parts[0]+e_nuc_parts[1]-e_nuc_parts[2]\n",
    "        energy = e_nuc\n",
    "    assert energy != None, f'Could not extract {energy_contr} from {logfile_path}'\n",
    "    return(energy)\n",
    "\n",
    "def calculate_partial_derivatives(atom, comp, delta_lambda, energy_contr, lambda_values):\n",
    "    \"\"\"\n",
    "    prepare the run dirs for finite difference partial derivatives for small molecules\n",
    "    comp: name of compound\n",
    "    delta_lambda: delta for finite difference\n",
    "    lam: lambda_value for which derivatives will be calculated\n",
    "    \"\"\"\n",
    "\n",
    "    partial_derivatives = []\n",
    "\n",
    "    for lam in lambda_values:\n",
    "        energies = []\n",
    "        for fd in ['bw', 'fw']:\n",
    "            logfile_path = f'/data/sahre/projects/finite_differences/small_molecules/{comp}/lam_{np.round(lam, 3)}/{atom}/{fd}/run.log'\n",
    "            with open(logfile_path, 'r') as f:\n",
    "                logfile = f.readlines()\n",
    "            # get energy\n",
    "            energies.append(get_energy_contribution_wrapper(logfile_path, energy_contr))\n",
    "        partial_derivatives.append((energies[1]-energies[0])/(2*delta_lambda))\n",
    "    return(partial_derivatives)"
   ]
  },
  {
   "cell_type": "code",
   "execution_count": 4,
   "id": "daf98784-d0b6-4569-8558-b0f0fdd6724e",
   "metadata": {},
   "outputs": [],
   "source": []
  },
  {
   "cell_type": "markdown",
   "id": "60d975d6-ec78-4ffb-a2a2-27949b632ae0",
   "metadata": {},
   "source": [
    "# derivatives"
   ]
  },
  {
   "cell_type": "code",
   "execution_count": 52,
   "id": "4e82256d-b95e-4965-9806-efc01dd06c7a",
   "metadata": {},
   "outputs": [
    {
     "data": {
      "image/png": "[encoded data removed]",
      "text/plain": [
       "<Figure size 432x288 with 2 Axes>"
      ]
     },
     "metadata": {
      "needs_background": "light"
     },
     "output_type": "display_data"
    }
   ],
   "source": [
    "comp = 'HF'\n",
    "delta_lambda = 5e-5\n",
    "\n",
    "# read optimized geometry and extract molecule specific parameters\n",
    "xyz_path = f'/data/sahre/projects/finite_differences/small_molecules/{comp}/GEOMETRY.xyz'\n",
    "atom_symbols, nuc_charges, positions, valence_charges = pc.parse_xyz_for_CPMD_input(xyz_path)\n",
    "\n",
    "energy_contr = 'ion_pseudo'\n",
    "e_tot_trapz = 0\n",
    "e_tot_splines = 0\n",
    "e_tot_simps = 0\n",
    "e_fit = 0\n",
    "fig, ax = plt.subplots(1,2)\n",
    "\n",
    "for atom in atom_symbols['elIdx']:\n",
    "    lambda_values = np.arange(0.05, 1.05, 0.05)\n",
    "    partial_derivatives = [0.0]\n",
    "    partial_derivatives.extend(calculate_partial_derivatives(atom, comp, delta_lambda, energy_contr, lambda_values))\n",
    "\n",
    "    lambda_values = np.arange(0.0, 1.05, 0.05)\n",
    "    e_tot_trapz += np.trapz(partial_derivatives, lambda_values)\n",
    "    e_tot_simps += simpson(partial_derivatives, lambda_values)\n",
    "    spline = si.CubicSpline(lambda_values, partial_derivatives)\n",
    "    spline_lam = np.linspace(0,1, 50)\n",
    "    spline_fit = spline(np.linspace(0,1, 50))\n",
    "    e_tot_splines += spline.integrate(0,1)\n",
    "    \n",
    "    nuc_fit = partial_derivatives[-1]*spline_lam\n",
    "    \n",
    "    e_fit += partial_derivatives[-1]/2\n",
    "    \n",
    "    if 'H' in atom:\n",
    "        ax[0].plot(lambda_values, partial_derivatives, '-o')\n",
    "        ax[0].plot(spline_lam, spline_fit)\n",
    "        ax[0].plot(spline_lam, nuc_fit, '--')\n",
    "        #ax[0].set_xlim([0,0.5])\n",
    "    else:\n",
    "        ax[1].plot(lambda_values, partial_derivatives, '-o')\n",
    "        ax[1].plot(spline_lam, spline_fit)\n",
    "        ax[1].plot(spline_lam, nuc_fit, '--')"
   ]
  },
  {
   "cell_type": "code",
   "execution_count": null,
   "id": "f6ce652f-a47a-4b6e-8610-78c99ee1af85",
   "metadata": {},
   "outputs": [],
   "source": [
    "logfile_path1 = f'/data/sahre/projects/finite_differences/small_molecules/{comp}/lam_1.0/run.log'\n",
    "with open(logfile_path1, 'r') as f:\n",
    "    logfile1 = f.readlines()\n",
    "\n",
    "logfile_path0 = f'/data/sahre/projects/finite_differences/small_molecules/{comp}/lam_0.0/run.log'\n",
    "with open(logfile_path0, 'r') as f:\n",
    "    logfile0 = f.readlines()\n",
    "energy_contr = 'TOTAL ENERGY ='\n",
    "e_tot_ref = cpmd_io.get_energy_contribution(logfile1, energy_contr)-cpmd_io.get_energy_contribution(logfile0, energy_contr)"
   ]
  },
  {
   "cell_type": "code",
   "execution_count": null,
   "id": "5709d20b-714f-4179-9426-a606a603b3e2",
   "metadata": {},
   "outputs": [],
   "source": [
    "print(e_tot_splines-e_tot_ref)\n",
    "print(e_tot_trapz-e_tot_ref)\n",
    "print(e_tot_simps-e_tot_ref)"
   ]
  },
  {
   "cell_type": "code",
   "execution_count": null,
   "id": "62047148-5b62-40bf-9c81-54d912c2831a",
   "metadata": {},
   "outputs": [],
   "source": [
    "# comp = 'HCN'\n",
    "delta_lambda = 5e-5\n",
    "energy_contr = 'electronic'\n",
    "e_el_trapz = 0\n",
    "e_el_simps = 0\n",
    "e_el_splines = 0\n",
    "\n",
    "plt.rcParams['font.size'] = 15\n",
    "fig, ax = plt.subplots(1,2)\n",
    "\n",
    "for atom in atom_symbols['elIdx']:\n",
    "    lambda_values = np.arange(0.05, 1.05, 0.05)\n",
    "    partial_derivatives = [0.0]\n",
    "    partial_derivatives.extend(calculate_partial_derivatives(atom, comp, delta_lambda, energy_contr, lambda_values))\n",
    "\n",
    "    lambda_values = np.arange(0.0, 1.05, 0.05)\n",
    "    e_el_trapz += np.trapz(partial_derivatives, lambda_values)\n",
    "    e_el_simps += simpson(partial_derivatives, lambda_values)\n",
    "    spline = si.CubicSpline(lambda_values, partial_derivatives)\n",
    "    e_el_splines += spline.integrate(0,1)\n",
    "    \n",
    "    if 'H' in atom:\n",
    "        ax[0].plot(lambda_values, partial_derivatives, '-o')\n",
    "        ax[0].set_xlabel(r'$\\lambda$')\n",
    "        ax[0].set_ylabel(r'$\\frac{\\partial E}{\\partial V_I^{PP}}$')\n",
    "        ax[0].set_title('Hydrogen')\n",
    "    else:\n",
    "        ax[1].plot(lambda_values, partial_derivatives, '-o', label = atom)\n",
    "        ax[1].set_xlabel(r'$\\lambda$')\n",
    "        ax[1].set_title('No Hydrogen')\n",
    "        ax[1].legend(frameon = False)"
   ]
  },
  {
   "cell_type": "code",
   "execution_count": null,
   "id": "80cc6cab-3d21-4369-b207-282d11244814",
   "metadata": {},
   "outputs": [],
   "source": [
    "logfile_path1 = f'/data/sahre/projects/finite_differences/small_molecules/{comp}/lam_1.0/run.log'\n",
    "with open(logfile_path1, 'r') as f:\n",
    "    logfile1 = f.readlines()\n",
    "\n",
    "logfile_path0 = f'/data/sahre/projects/finite_differences/small_molecules/{comp}/lam_0.0/run.log'\n",
    "with open(logfile_path0, 'r') as f:\n",
    "    logfile0 = f.readlines()\n",
    "\n",
    "def get_e_el(logfile):\n",
    "    e_el_parts = []\n",
    "    for e in ['TOTAL ENERGY =','(PSEUDO CHARGE I-I) ENERGY =', 'ESR =','ESELF =']:\n",
    "        e_el_parts.append(cpmd_io.get_energy_contribution(logfile, e))\n",
    "    e_nuc = e_el_parts[1]+e_el_parts[2]-e_el_parts[3]\n",
    "    e_el = e_el_parts[0]-e_nuc\n",
    "    return(e_el)\n",
    "    \n",
    "e_el_ref = get_e_el(logfile1)-get_e_el(logfile0)"
   ]
  },
  {
   "cell_type": "code",
   "execution_count": null,
   "id": "7ab15036-24a5-4e2a-8ea2-c99d2383dd07",
   "metadata": {},
   "outputs": [],
   "source": [
    "print(f'Trapezoidal = {e_el_trapz-e_el_ref}')\n",
    "print(f'Simpson = {e_el_simps-e_el_ref}')\n",
    "print(f'Cubic splines = {e_el_splines-e_el_ref}')\n"
   ]
  },
  {
   "cell_type": "markdown",
   "id": "de95b017-3087-4f96-b788-ba87dc721c8c",
   "metadata": {},
   "source": [
    "### Compare atomic energies"
   ]
  },
  {
   "cell_type": "code",
   "execution_count": 71,
   "id": "a5084d68-6c28-4974-967d-f6d8286ae87b",
   "metadata": {},
   "outputs": [],
   "source": [
    "def calculate_atomic_energies(atom_symbols, comp, delta_lambda, energy_contr, method):\n",
    "    atomic_energies = dict()\n",
    "    for atom in atom_symbols['elIdx']:\n",
    "        lambda_values = np.arange(0.05, 1.05, 0.05)\n",
    "        partial_derivatives = [0.0]\n",
    "        partial_derivatives.extend(calculate_partial_derivatives(atom, comp, delta_lambda, energy_contr, lambda_values))\n",
    "        lambda_values = np.arange(0.0, 1.05, 0.05)\n",
    "\n",
    "        if method == 'trapz':\n",
    "            atomic_energies[atom] = np.trapz(partial_derivatives, lambda_values)\n",
    "        elif method == 'simpson':\n",
    "            atomic_energies[atom] = simpson(partial_derivatives, lambda_values)\n",
    "        elif method == 'cubic_splines':\n",
    "            spline = si.CubicSpline(lambda_values, partial_derivatives)\n",
    "            atomic_energies[atom] = spline.integrate(0,1)\n",
    "\n",
    "    return(atomic_energies)\n",
    "\n",
    "def calculate_atomic_nuclear_repulsion(atom_symbols, comp, delta_lambda, method):\n",
    "    atomic_energies = dict()\n",
    "    for atom in atom_symbols['elIdx']:\n",
    "        nuclear_parts = 0\n",
    "        for energy_contr in ['ion_pseudo', 'ion_esr', 'ion_self']:\n",
    "            lambda_values = np.arange(0.05, 1.05, 0.05)\n",
    "            partial_derivatives = [0.0]\n",
    "            partial_derivatives.extend(calculate_partial_derivatives(atom, comp, delta_lambda, energy_contr, lambda_values))\n",
    "            lambda_values = np.arange(0.0, 1.05, 0.05)\n",
    "\n",
    "            if energy_contr == 'ion_pseudo':\n",
    "                if method == 'trapz':\n",
    "                    nuclear_parts += np.trapz(partial_derivatives, lambda_values)\n",
    "                elif method == 'simpson':\n",
    "                    nuclear_parts += simpson(partial_derivatives, lambda_values)\n",
    "                elif method == 'cubic_splines':\n",
    "                    spline = si.CubicSpline(lambda_values, partial_derivatives)\n",
    "                    nuclear_parts += spline.integrate(0,1)\n",
    "            elif energy_contr == 'ion_esr':\n",
    "                nuclear_parts += partial_derivatives[-1]/2\n",
    "            elif energy_contr == 'ion_self':\n",
    "                nuclear_parts -= partial_derivatives[-1]/2\n",
    "        atomic_energies[atom] = nuclear_parts\n",
    "    return(atomic_energies)\n",
    "\n",
    "def calculate_atomic_energies_tot(atom_symbols, comp, delta_lambda, energy_contr, method):\n",
    "    e_el = calculate_atomic_energies(atom_symbols, comp, delta_lambda, energy_contr, method)\n",
    "    e_nuc = calculate_atomic_nuclear_repulsion(atom_symbols, comp, delta_lambda, method)\n",
    "    e_tot = dict()\n",
    "    for k in e_el.keys():\n",
    "        e_tot[k] = e_el[k] + e_nuc[k]\n",
    "    return(e_tot)\n"
   ]
  },
  {
   "cell_type": "code",
   "execution_count": 87,
   "id": "38ed3caa-ef27-4ab9-9b3c-4693414ead19",
   "metadata": {},
   "outputs": [],
   "source": [
    "compounds = ['CH4', 'H2O','NH3', 'HF', 'ethane', 'ethene', 'ethyne', 'HCN']\n",
    "delta_lambda = 5e-5\n",
    "method = 'simpson'\n",
    "atomic_energies = {'electronic':[], 'nuclear':[],'total':[]}\n",
    "for comp in compounds:\n",
    "    # read optimized geometry and extract molecule specific parameters\n",
    "    xyz_path = f'/data/sahre/projects/finite_differences/small_molecules/{comp}/GEOMETRY.xyz'\n",
    "    atom_symbols, nuc_charges, positions, valence_charges = pc.parse_xyz_for_CPMD_input(xyz_path)\n",
    "    \n",
    "    # electronic part\n",
    "    energy_contr = 'electronic'\n",
    "    atomic_energies_el = calculate_atomic_energies(atom_symbols, comp, delta_lambda, energy_contr, method)\n",
    "    atomic_energies['electronic'].append(atomic_energies_el)\n",
    "    # nuclear repulsion\n",
    "    atomic_energies_nuc = calculate_atomic_nuclear_repulsion(atom_symbols, comp, delta_lambda, method)\n",
    "    atomic_energies['nuclear'].append(atomic_energies_nuc)\n",
    "    # total energy\n",
    "    atomic_energies_tot = calculate_atomic_energies_tot(atom_symbols, comp, delta_lambda, energy_contr, method)\n",
    "    atomic_energies['total'].append(atomic_energies_tot)"
   ]
  },
  {
   "cell_type": "code",
   "execution_count": 103,
   "id": "b04dd1c9-7ec1-44ed-a9f6-a6e44b0cf8dc",
   "metadata": {},
   "outputs": [],
   "source": [
    "atomic_energies_element = {'H':[], 'C':[], 'N':[], 'O':[], 'F':[]}\n",
    "for comp_dict in atomic_energies['total']:\n",
    "    for k in comp_dict:\n",
    "        for k_el in atomic_energies_element:\n",
    "            if k_el in k:\n",
    "                atomic_energies_element[k_el].append(comp_dict[k])"
   ]
  },
  {
   "cell_type": "code",
   "execution_count": 111,
   "id": "a6d09cdb-213d-46d5-b42a-c5b3491b17f8",
   "metadata": {},
   "outputs": [
    {
     "data": {
      "text/plain": [
       "[<matplotlib.lines.Line2D at 0x7f4dfe71ae80>]"
      ]
     },
     "execution_count": 111,
     "metadata": {},
     "output_type": "execute_result"
    },
    {
     "data": {
      "image/png": "[encoded data removed]",
      "text/plain": [
       "<Figure size 432x288 with 1 Axes>"
      ]
     },
     "metadata": {
      "needs_background": "light"
     },
     "output_type": "display_data"
    }
   ],
   "source": [
    "plt.plot(atomic_energies_element['C'], '-o')"
   ]
  },
  {
   "cell_type": "code",
   "execution_count": 96,
   "id": "f67eddc5-1719-48c4-be28-0a7550ddf2eb",
   "metadata": {},
   "outputs": [
    {
     "data": {
      "text/plain": [
       "[-5.555546666671601,\n",
       " -5.546680000001977,\n",
       " -5.546680000001977,\n",
       " -5.486093333333395,\n",
       " -5.486093333333395,\n",
       " -5.4360299999981905,\n",
       " -5.4360299999981905,\n",
       " -5.431088333327265]"
      ]
     },
     "execution_count": 96,
     "metadata": {},
     "output_type": "execute_result"
    }
   ],
   "source": [
    "[-5.555546666671601,\n",
    " -5.546680000001977,\n",
    " -5.486093333333395,\n",
    " -5.4360299999981905,\n",
    " -5.431088333327265]"
   ]
  },
  {
   "cell_type": "markdown",
   "id": "6b4115f8-da44-40d5-800d-d7a7d1f09cb9",
   "metadata": {},
   "source": [
    "### Mean error of different integration methods"
   ]
  },
  {
   "cell_type": "code",
   "execution_count": 78,
   "id": "fcd93dee-4ada-4bd0-a12b-f480929b704b",
   "metadata": {
    "tags": []
   },
   "outputs": [],
   "source": [
    "def calculate_error(atomic_dict, energy_contr, comp):\n",
    "    logfile_path1 = f'/data/sahre/projects/finite_differences/small_molecules/{comp}/lam_1.0/run.log'\n",
    "    logfile_path0 = f'/data/sahre/projects/finite_differences/small_molecules/{comp}/lam_0.0/run.log'\n",
    "    ref = get_energy_contribution_wrapper(logfile_path1, energy_contr)-get_energy_contribution_wrapper(logfile_path0, energy_contr)\n",
    "    e_sum = 0\n",
    "    for k in atomic_dict.keys():\n",
    "        e_sum += atomic_dict[k] \n",
    "        \n",
    "    return(np.abs(e_sum - ref))"
   ]
  },
  {
   "cell_type": "code",
   "execution_count": 86,
   "id": "3be9b05a-a737-42c6-9953-410f20d83292",
   "metadata": {},
   "outputs": [
    {
     "name": "stdout",
     "output_type": "stream",
     "text": [
      "##################################\n",
      "Integration method: trapz\n",
      "electronic 0.014255411247598104\n",
      "nuclear 0.0003308150008683175\n",
      "total 0.014135318743985548\n",
      "##################################\n",
      "Integration method: simpson\n",
      "electronic 0.01115608458445072\n",
      "nuclear 0.00019935666809267616\n",
      "total 0.011174158750085872\n",
      "##################################\n",
      "Integration method: cubic_splines\n",
      "electronic 0.01178819438344969\n",
      "nuclear 0.00020598204508046059\n",
      "total 0.01171152695856248\n"
     ]
    }
   ],
   "source": [
    "for method in ['trapz', 'simpson', 'cubic_splines']:\n",
    "    compounds = ['CH4', 'H2O','NH3', 'HF', 'ethane', 'ethene', 'ethyne', 'HCN']\n",
    "    delta_lambda = 5e-5\n",
    "    errors = {'electronic':[], 'nuclear':[],'total':[]}\n",
    "    for comp in compounds:\n",
    "        # read optimized geometry and extract molecule specific parameters\n",
    "        xyz_path = f'/data/sahre/projects/finite_differences/small_molecules/{comp}/GEOMETRY.xyz'\n",
    "        atom_symbols, nuc_charges, positions, valence_charges = pc.parse_xyz_for_CPMD_input(xyz_path)\n",
    "\n",
    "        # electronic part\n",
    "        energy_contr = 'electronic'\n",
    "        atomic_energies_el = calculate_atomic_energies(atom_symbols, comp, delta_lambda, energy_contr, method)\n",
    "        err_el = calculate_error(atomic_energies_el, 'electronic', comp)\n",
    "        errors['electronic'].append(err_el)\n",
    "        # nuclear repulsion\n",
    "        atomic_energies_nuc = calculate_atomic_nuclear_repulsion(atom_symbols, comp, delta_lambda, method)\n",
    "        err_nuc = calculate_error(atomic_energies_nuc, 'nuclear', comp)\n",
    "        errors['nuclear'].append(err_nuc)\n",
    "        # total energy\n",
    "        atomic_energies_tot = calculate_atomic_energies_tot(atom_symbols, comp, delta_lambda, energy_contr, method)\n",
    "        err_tot = calculate_error(atomic_energies_tot, 'total', comp)\n",
    "        errors['total'].append(err_tot)\n",
    "    \n",
    "    print('##################################')\n",
    "    print(f'Integration method: {method}')\n",
    "    for k in errors:\n",
    "        print(f'{k} {np.array(errors[k]).mean()}')"
   ]
  },
  {
   "cell_type": "markdown",
   "id": "6d07f31e-cce8-4c2c-85d2-22225de9551d",
   "metadata": {},
   "source": [
    "# UEG"
   ]
  },
  {
   "cell_type": "code",
   "execution_count": null,
   "id": "767ad393-c199-446f-a2a9-5e2c2a656b2e",
   "metadata": {},
   "outputs": [],
   "source": [
    "ves = ['ve_8', 've_10', 've_12', 've_14']\n",
    "boxsizes = [15, 20, 22.5, 25]\n",
    "energy_ve = dict()\n",
    "for ve in ves:\n",
    "    energy_ve[ve] = []\n",
    "    for boxsize in boxsizes:\n",
    "        path_log = f'/data/sahre/projects/finite_differences/small_molecules/UEG/{ve}/a_{boxsize}/run.log'\n",
    "        with open(path_log, 'r') as f:\n",
    "            logfile = f.readlines()\n",
    "        conv_thresh = 1e-6\n",
    "        # status = check_convergence(logfile, conv_thresh)\n",
    "        status = 'converged'\n",
    "        if status == 'not converged':\n",
    "            print(path_log)\n",
    "        energy_ve[ve].append(cpmd_io.get_energy_contribution(logfile, 'TOTAL ENERGY ='))"
   ]
  },
  {
   "cell_type": "code",
   "execution_count": null,
   "id": "711e7d14-3e97-4776-a3a7-2371120a2360",
   "metadata": {},
   "outputs": [],
   "source": []
  },
  {
   "cell_type": "code",
   "execution_count": null,
   "id": "43b41324-18b3-49d2-a904-3ecd19a3567c",
   "metadata": {},
   "outputs": [],
   "source": [
    "plt.rcParams['font.size'] = 15\n",
    "for k in energy_ve.keys():\n",
    "    plt.plot(boxsizes, np.array(energy_ve[k])/float(k.split('_')[1]), '-o',label = k)\n",
    "plt.legend(bbox_to_anchor = (1.05,1))\n",
    "plt.xlabel(r'a (Ang)')\n",
    "plt.ylabel(r'E UEG (Ha)')"
   ]
  },
  {
   "cell_type": "code",
   "execution_count": null,
   "id": "92697651-dbdf-450c-8852-c9326b43fbb8",
   "metadata": {},
   "outputs": [],
   "source": [
    "plt.rcParams['font.size'] = 15\n",
    "for k in energy_ve.keys():\n",
    "    plt.plot(float(k.split('_')[1])/np.array(boxsizes)**3, np.array(energy_ve[k])/float(k.split('_')[1]), '-o',label = k)\n",
    "plt.legend(bbox_to_anchor = (1.05,1))\n",
    "plt.xlabel(r'$\\rho$ (1/Ang^3)')\n",
    "plt.ylabel(r'E UEG (Ha/e)')"
   ]
  },
  {
   "cell_type": "code",
   "execution_count": null,
   "id": "5a68b7e5-b2f7-4568-9fc1-b61444d0d902",
   "metadata": {},
   "outputs": [],
   "source": [
    "boxsizes"
   ]
  }
 ],
 "metadata": {
  "kernelspec": {
   "display_name": "Python 3 (ipykernel)",
   "language": "python",
   "name": "python3"
  },
  "language_info": {
   "codemirror_mode": {
    "name": "ipython",
    "version": 3
   },
   "file_extension": ".py",
   "mimetype": "text/x-python",
   "name": "python",
   "nbconvert_exporter": "python",
   "pygments_lexer": "ipython3",
   "version": "3.9.10"
  }
 },
 "nbformat": 4,
 "nbformat_minor": 5
}
