{
 "cells": [
  {
   "cell_type": "code",
   "execution_count": null,
   "id": "294c51e9-f9b8-4aa0-a3f7-6bd5cce9a999",
   "metadata": {},
   "outputs": [],
   "source": [
    "# check for convergence\n",
    "\n",
    "# calculate single derivative\n",
    "\n",
    "# calculate all derivatives for one atom\n",
    "\n",
    "# calculate derivatives for whole molecule"
   ]
  },
  {
   "cell_type": "code",
   "execution_count": null,
   "id": "325abec6-438c-46f8-af91-b3e043ec3b1b",
   "metadata": {},
   "outputs": [],
   "source": [
    "# check number of electrons "
   ]
  },
  {
   "cell_type": "code",
   "execution_count": null,
   "id": "327aaafe-906e-41a3-aba5-c707054102ca",
   "metadata": {},
   "outputs": [],
   "source": [
    "# error for all points?\n",
    "# error as function of gpts\n",
    "# energy UEG as function of boxsize/volume"
   ]
  },
  {
   "cell_type": "code",
   "execution_count": 1,
   "id": "79f7ece0-dfa6-4621-938c-574fd7e35cac",
   "metadata": {},
   "outputs": [
    {
     "name": "stderr",
     "output_type": "stream",
     "text": [
      "In /home/sahre/opt/miniconda3/envs/qm-tools/lib/python3.9/site-packages/matplotlib/mpl-data/stylelib/_classic_test.mplstyle: \n",
      "The text.latex.preview rcparam was deprecated in Matplotlib 3.3 and will be removed two minor releases later.\n",
      "In /home/sahre/opt/miniconda3/envs/qm-tools/lib/python3.9/site-packages/matplotlib/mpl-data/stylelib/_classic_test.mplstyle: \n",
      "The mathtext.fallback_to_cm rcparam was deprecated in Matplotlib 3.3 and will be removed two minor releases later.\n",
      "In /home/sahre/opt/miniconda3/envs/qm-tools/lib/python3.9/site-packages/matplotlib/mpl-data/stylelib/_classic_test.mplstyle: Support for setting the 'mathtext.fallback_to_cm' rcParam is deprecated since 3.3 and will be removed two minor releases later; use 'mathtext.fallback : 'cm' instead.\n",
      "In /home/sahre/opt/miniconda3/envs/qm-tools/lib/python3.9/site-packages/matplotlib/mpl-data/stylelib/_classic_test.mplstyle: \n",
      "The validate_bool_maybe_none function was deprecated in Matplotlib 3.3 and will be removed two minor releases later.\n",
      "In /home/sahre/opt/miniconda3/envs/qm-tools/lib/python3.9/site-packages/matplotlib/mpl-data/stylelib/_classic_test.mplstyle: \n",
      "The savefig.jpeg_quality rcparam was deprecated in Matplotlib 3.3 and will be removed two minor releases later.\n",
      "In /home/sahre/opt/miniconda3/envs/qm-tools/lib/python3.9/site-packages/matplotlib/mpl-data/stylelib/_classic_test.mplstyle: \n",
      "The keymap.all_axes rcparam was deprecated in Matplotlib 3.3 and will be removed two minor releases later.\n",
      "In /home/sahre/opt/miniconda3/envs/qm-tools/lib/python3.9/site-packages/matplotlib/mpl-data/stylelib/_classic_test.mplstyle: \n",
      "The animation.avconv_path rcparam was deprecated in Matplotlib 3.3 and will be removed two minor releases later.\n",
      "In /home/sahre/opt/miniconda3/envs/qm-tools/lib/python3.9/site-packages/matplotlib/mpl-data/stylelib/_classic_test.mplstyle: \n",
      "The animation.avconv_args rcparam was deprecated in Matplotlib 3.3 and will be removed two minor releases later.\n"
     ]
    }
   ],
   "source": [
    "import sys\n",
    "sys.path.insert(0, '/home/sahre/git_repositories/APDFT/prototyping/atomic_energies/hitp/')\n",
    "sys.path.insert(0, '/home/sahre/git_repositories/APDFT/prototyping/atomic_energies/')\n",
    "\n",
    "import cpmd_io\n",
    "import prepare_calculations as pc\n",
    "import utils_qm as uqm\n",
    "import numpy as np\n",
    "import collections\n",
    "import os"
   ]
  },
  {
   "cell_type": "code",
   "execution_count": 2,
   "id": "e008e084-5de3-49da-a6bb-ce143d6cb825",
   "metadata": {},
   "outputs": [],
   "source": [
    "def paths2logfiles(comp, delta_lambda, lam):\n",
    "    \"\"\"\n",
    "    prepare the run dirs for finite difference partial derivatives for small molecules\n",
    "    comp: name of compound\n",
    "    delta_lambda: delta for finite difference\n",
    "    lam: lambda_value for which derivatives will be calculated\n",
    "    \"\"\"\n",
    "    all_paths = [] # paths to run dirs\n",
    "    # read optimized geometry and extract molecule specific parameters\n",
    "    xyz_path = f'/data/sahre/projects/finite_differences/small_molecules/{comp}/GEOMETRY.xyz'\n",
    "    atom_symbols, nuc_charges, positions, valence_charges = pc.parse_xyz_for_CPMD_input(xyz_path)\n",
    "\n",
    "\n",
    "    for i, atom in enumerate(atom_symbols['elIdx']):\n",
    "        for fd in ['bw', 'fw']:\n",
    "            path = f'/data/sahre/projects/finite_differences/small_molecules/{comp}/lam_{np.round(lam, 3)}/{atom}/{fd}/run.log'\n",
    "            all_paths.append(path)\n",
    "            # define the array of lambda values\n",
    "            lambda_values = np.full_like(valence_charges, fill_value=lam, dtype='float')\n",
    "            if fd == 'bw':\n",
    "                lambda_values[i] -= delta_lambda\n",
    "            elif fd == 'fw':\n",
    "                lambda_values[i] += delta_lambda\n",
    "            else:\n",
    "                raise ValueError('Unknown finite difference operation')\n",
    "    return(all_paths)\n",
    "\n",
    "\n",
    "def check_convergence(logfile, conv_thresh):\n",
    "    status = 'not converged'\n",
    "    iteration_start = 0\n",
    "    for i, line in enumerate(logfile):\n",
    "        if 'NFI' in line:\n",
    "            iteration_start = i +1\n",
    "            break\n",
    "\n",
    "    j = 0\n",
    "\n",
    "    for line in logfile[iteration_start:]:\n",
    "        line_splitted = line.split()\n",
    "\n",
    "        try:\n",
    "            gemax = float(line_splitted[1])\n",
    "        except:\n",
    "            gemax = conv_thresh + 10\n",
    "\n",
    "        if gemax < conv_thresh:\n",
    "            status = 'converged'\n",
    "            break\n",
    "    return(status)\n",
    "\n",
    "def get_num_ve(logfile):\n",
    "    ve_g = 0\n",
    "    ve_r = 0\n",
    "    for line in logfile:\n",
    "        if \"IN G-SPACE =\" in line:\n",
    "            ve_g = float(line.strip('\\n').split()[-1])\n",
    "        elif \"IN R-SPACE =\" in line:\n",
    "            ve_r = float(line.strip('\\n').split()[-1])\n",
    "    \n",
    "    return(ve_g, ve_r)"
   ]
  },
  {
   "cell_type": "code",
   "execution_count": 3,
   "id": "08565793-1b4d-4acd-860d-f5d5f0d1ca15",
   "metadata": {},
   "outputs": [],
   "source": [
    "conv_thresh = 1e-6\n",
    "lambda_values = np.round(np.arange(0, 1.05, 0.05), 3)\n",
    "compounds = ['CH4', 'H2O','NH3', 'HF', 'ethane', 'ethene', 'ethyne', 'HCN']\n",
    "status = {k:[] for k in compounds}\n",
    "num_ve = {k:[] for k in compounds}\n",
    "for comp in compounds:\n",
    "    for lam in lambda_values:\n",
    "        path = f'/data/sahre/projects/finite_differences/small_molecules/{comp}/lam_{lam}/run.log'\n",
    "        with open(path, 'r') as f:\n",
    "            logfile = f.readlines()\n",
    "        status[comp].append([lam, check_convergence(logfile, conv_thresh)])\n",
    "        \n",
    "        ve_g, ve_r = get_num_ve(logfile)\n",
    "        num_ve[comp].append([ve_g, ve_r])"
   ]
  },
  {
   "cell_type": "code",
   "execution_count": 4,
   "id": "ce30ee45-8088-4f23-b637-c57f1b78bf26",
   "metadata": {},
   "outputs": [],
   "source": [
    "correct_ve = []\n",
    "for k in num_ve.keys():\n",
    "    correct_ve.append(num_ve[k][-1][0])\n",
    "    \n",
    "for k, cve in zip(num_ve.keys(), correct_ve):\n",
    "    for l, l1 in zip(num_ve[k], lambda_values):\n",
    "        if np.isclose(l[0], cve) and np.isclose(l[1], cve):\n",
    "            pass\n",
    "        else:\n",
    "            print(k +\" \" + str(l1))"
   ]
  },
  {
   "cell_type": "code",
   "execution_count": null,
   "id": "56d4c8a4-af92-43e0-8a3c-8a54f6fc3eca",
   "metadata": {},
   "outputs": [],
   "source": [
    "correct_ve = [8,8,8,8, 'ethane', 'ethene', 'ethyne', 'HCN']"
   ]
  },
  {
   "cell_type": "code",
   "execution_count": 6,
   "id": "02313e9d-2d31-46b9-85a9-cf71cf59d944",
   "metadata": {},
   "outputs": [],
   "source": [
    "for k in status.keys():\n",
    "    for i in status[k]:\n",
    "        if i[1] == 'not converged':\n",
    "            print(f'{k} {i[0]} {i[1]}')"
   ]
  },
  {
   "cell_type": "code",
   "execution_count": null,
   "id": "e72c54af-97e5-4ae3-aa39-29347c702a9f",
   "metadata": {},
   "outputs": [],
   "source": [
    "paths = uqm.read_list('/data/sahre/projects/finite_differences/small_molecules/fd_rest')"
   ]
  },
  {
   "cell_type": "code",
   "execution_count": null,
   "id": "cfb60451-6023-44d7-85d1-b426b8a119b6",
   "metadata": {
    "jupyter": {
     "source_hidden": true
    },
    "tags": []
   },
   "outputs": [],
   "source": [
    "for p in paths:\n",
    "    logpath = os.path.join(p, 'run.log')\n",
    "    if os.path.isfile(logpath):\n",
    "        with open(logpath, 'r') as f:\n",
    "            logfile = f.readlines()\n",
    "        conv_thresh = 1e-6\n",
    "        if not check_convergence(logfile, conv_thresh) == 'converged':\n",
    "            print(f'Not converged {p}')\n",
    "\n",
    "        g, r = get_num_ve(logfile)\n",
    "        assert np.isclose(g,r)\n",
    "        if 'ethane' in p:\n",
    "            assert np.isclose(g, 14)\n",
    "        elif 'ethyne' in p:\n",
    "            assert np.isclose(g, 10)\n",
    "        elif 'HCN' in p:\n",
    "            assert np.isclose(g, 10)\n",
    "        elif 'ethene' in p:\n",
    "            assert np.isclose(g, 12)\n",
    "        # if not np.isclose(nve, g) and not np.isclose(nve,r):\n",
    "        #     print(f'Wrong num elec {p}')\n",
    "    else:\n",
    "        print(f'Missing {p}')"
   ]
  },
  {
   "cell_type": "code",
   "execution_count": null,
   "id": "ae8d5464-78b8-4685-8137-f7ac321ee17f",
   "metadata": {
    "tags": []
   },
   "outputs": [],
   "source": [
    "paths"
   ]
  },
  {
   "cell_type": "code",
   "execution_count": null,
   "id": "4223c6aa-d121-4ff6-bfb5-b8fb2afb089c",
   "metadata": {
    "tags": []
   },
   "outputs": [],
   "source": [
    "num_ve"
   ]
  },
  {
   "cell_type": "code",
   "execution_count": 7,
   "id": "d4fecb46-fbee-486a-8187-270b232beb54",
   "metadata": {},
   "outputs": [],
   "source": [
    "for k in status.keys():\n",
    "    for i in status[k]:\n",
    "        if i[1] == 'not converged':\n",
    "            print(f'{k} {i[0]} {i[1]}')"
   ]
  },
  {
   "cell_type": "code",
   "execution_count": 8,
   "id": "2dd83182-a24f-420a-89c5-4b7e2723d157",
   "metadata": {},
   "outputs": [],
   "source": [
    "def df_paths(comp, delta_lambda, lam):\n",
    "    \"\"\"\n",
    "    prepare the run dirs for finite difference partial derivatives for small molecules\n",
    "    comp: name of compound\n",
    "    delta_lambda: delta for finite difference\n",
    "    lam: lambda_value for which derivatives will be calculated\n",
    "    \"\"\"\n",
    "    all_paths = [] # paths to run dirs\n",
    "    # path to PP-files and type of PP (pbe)\n",
    "    pp_dir = '/data/sahre/PP_LIBRARY'\n",
    "    pp_type = 'GH_PBE'\n",
    "\n",
    "    # input templates\n",
    "    template_inp = '/data/sahre/projects/atomic-energies/templates_inp/cpmd_template_restart.inp'\n",
    "    template_inp_small_lambda = '/data/sahre/projects/atomic-energies/templates_inp/cpmd_template_small_lambda_restart.inp'\n",
    "\n",
    "    # read optimized geometry and extract molecule specific parameters\n",
    "    xyz_path = f'/data/sahre/projects/finite_differences/small_molecules/{comp}/GEOMETRY.xyz'\n",
    "    atom_symbols, nuc_charges, positions, valence_charges = pc.parse_xyz_for_CPMD_input(xyz_path)\n",
    "\n",
    "    # calculate correct boxsize\n",
    "    num_ve = valence_charges.sum()\n",
    "    reference_density = 8/(15**3) # density of UEG for a boxlength of 15 Ang and 8 valence electrons\n",
    "    boxsize = (num_ve/reference_density)**(1/3)\n",
    "    shift2center = True\n",
    "\n",
    "    for i, atom in enumerate(atom_symbols['elIdx']):\n",
    "        for fd in ['bw', 'fw']:\n",
    "            path = f'/data/sahre/projects/finite_differences/small_molecules/{comp}/lam_{np.round(lam, 3)}/{atom}/{fd}'\n",
    "            all_paths.append(path)\n",
    "    return(all_paths)"
   ]
  },
  {
   "cell_type": "code",
   "execution_count": 9,
   "id": "dca64015-699a-4fb7-919a-10cd96fd7522",
   "metadata": {},
   "outputs": [],
   "source": [
    "base_lambda = np.arange(0.05, 1.05, 0.05)\n",
    "compounds = ['CH4', 'NH3', \"H2O\",'HF', 'ethane', 'ethene', 'ethyne', 'HCN']\n",
    "delta_lambda = 5e-5\n",
    "paths = collections.defaultdict(list)\n",
    "for comp in compounds:\n",
    "    for lam in base_lambda:\n",
    "        paths[comp].extend(df_paths(comp, delta_lambda, lam))"
   ]
  },
  {
   "cell_type": "code",
   "execution_count": 10,
   "id": "653e2b25-b5d8-4c4d-afd1-f32e07ba30c1",
   "metadata": {
    "tags": []
   },
   "outputs": [],
   "source": [
    "for k, nve in zip(paths.keys(),[8,8,8,8,14,12,10,10]):\n",
    "    for p in paths[k]:\n",
    "        logpath = os.path.join(p, 'run.log')\n",
    "        if os.path.isfile(logpath):\n",
    "            with open(logpath, 'r') as f:\n",
    "                logfile = f.readlines()\n",
    "            conv_thresh = 1e-6\n",
    "            if not check_convergence(logfile, conv_thresh) == 'converged':\n",
    "                print(f'Not converged {p}')\n",
    "                \n",
    "            g, r = get_num_ve(logfile)\n",
    "            if not np.isclose(nve, g) and not np.isclose(nve,r):\n",
    "                print(f'Wrong num elec {p}')\n",
    "        else:\n",
    "            print(f'Missing {p}')\n",
    "    \n",
    "        "
   ]
  },
  {
   "cell_type": "markdown",
   "id": "6d07f31e-cce8-4c2c-85d2-22225de9551d",
   "metadata": {},
   "source": [
    "# UEG"
   ]
  },
  {
   "cell_type": "code",
   "execution_count": null,
   "id": "767ad393-c199-446f-a2a9-5e2c2a656b2e",
   "metadata": {},
   "outputs": [],
   "source": [
    "ves = ['ve_8', 've_10', 've_12', 've_14']\n",
    "boxsizes = [15, 20, 22.5, 25]\n",
    "energy_ve = dict()\n",
    "for ve in ves:\n",
    "    energy_ve[ve] = []\n",
    "    for boxsize in boxsizes:\n",
    "        path_log = f'/data/sahre/projects/finite_differences/small_molecules/UEG/{ve}/a_{boxsize}/run.log'\n",
    "        with open(path_log, 'r') as f:\n",
    "            logfile = f.readlines()\n",
    "        conv_thresh = 1e-6\n",
    "        status = check_convergence(logfile, conv_thresh)\n",
    "        if status == 'not converged':\n",
    "            print(path_log)\n",
    "        energy_ve[ve].append(cpmd_io.get_energy_contribution(logfile, 'TOTAL ENERGY ='))"
   ]
  },
  {
   "cell_type": "code",
   "execution_count": null,
   "id": "711e7d14-3e97-4776-a3a7-2371120a2360",
   "metadata": {},
   "outputs": [],
   "source": []
  },
  {
   "cell_type": "code",
   "execution_count": null,
   "id": "43b41324-18b3-49d2-a904-3ecd19a3567c",
   "metadata": {},
   "outputs": [],
   "source": [
    "plt.rcParams['font.size'] = 15\n",
    "for k in energy_ve.keys():\n",
    "    plt.plot(boxsizes, np.array(energy_ve[k])/float(k.split('_')[1]), '-o',label = k)\n",
    "plt.legend(bbox_to_anchor = (1.05,1))\n",
    "plt.xlabel(r'a (Ang)')\n",
    "plt.ylabel(r'E UEG (Ha)')"
   ]
  },
  {
   "cell_type": "code",
   "execution_count": null,
   "id": "f1aba8e8-646e-4d40-ac0b-f21ca1899276",
   "metadata": {},
   "outputs": [],
   "source": [
    "np.array(energy_ve[k])/float(k.split('_')[1])"
   ]
  },
  {
   "cell_type": "code",
   "execution_count": null,
   "id": "fdf4ec7e-378b-4274-990c-5985800c614e",
   "metadata": {},
   "outputs": [],
   "source": [
    "-0.41775901/10 - (-0.33797308/8)\n",
    "\n"
   ]
  },
  {
   "cell_type": "code",
   "execution_count": null,
   "id": "a4df2b07-5289-49a6-941c-fe7003323b48",
   "metadata": {},
   "outputs": [],
   "source": [
    "energy_ve"
   ]
  },
  {
   "cell_type": "code",
   "execution_count": null,
   "id": "92697651-dbdf-450c-8852-c9326b43fbb8",
   "metadata": {},
   "outputs": [],
   "source": [
    "plt.rcParams['font.size'] = 15\n",
    "for k in energy_ve.keys():\n",
    "    plt.plot(float(k.split('_')[1])/np.array(boxsizes)**3, np.array(energy_ve[k])/float(k.split('_')[1]), '-o',label = k)\n",
    "plt.legend(bbox_to_anchor = (1.05,1))\n",
    "plt.xlabel(r'$\\rho$ (1/Ang^3)')\n",
    "plt.ylabel(r'E UEG (Ha/e)')"
   ]
  },
  {
   "cell_type": "code",
   "execution_count": null,
   "id": "5a68b7e5-b2f7-4568-9fc1-b61444d0d902",
   "metadata": {},
   "outputs": [],
   "source": [
    "boxsizes"
   ]
  }
 ],
 "metadata": {
  "kernelspec": {
   "display_name": "Python 3 (ipykernel)",
   "language": "python",
   "name": "python3"
  },
  "language_info": {
   "codemirror_mode": {
    "name": "ipython",
    "version": 3
   },
   "file_extension": ".py",
   "mimetype": "text/x-python",
   "name": "python",
   "nbconvert_exporter": "python",
   "pygments_lexer": "ipython3",
   "version": "3.9.10"
  }
 },
 "nbformat": 4,
 "nbformat_minor": 5
}
