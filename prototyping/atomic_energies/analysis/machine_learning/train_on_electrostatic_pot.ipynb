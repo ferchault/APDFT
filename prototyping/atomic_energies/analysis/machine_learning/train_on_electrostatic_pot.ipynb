{
 "cells": [
  {
   "cell_type": "code",
   "execution_count": 1,
   "metadata": {},
   "outputs": [],
   "source": [
    "import numpy as np\n",
    "import sklearn.model_selection as sk\n",
    "\n",
    "import os\n",
    "import pandas as pd\n",
    "import qml\n",
    "import sys\n",
    "sys.path.insert(0, '/home/misa/git_repositories/APDFT/prototyping/atomic_energies/')\n",
    "import qml_interface as qmi\n",
    "import scipy as sc\n",
    "import itertools as it\n",
    "\n",
    "from matplotlib import pyplot as plt"
   ]
  },
  {
   "cell_type": "code",
   "execution_count": 2,
   "metadata": {},
   "outputs": [],
   "source": [
    "# data preparation\n",
    "paths = qmi.wrapper_alch_data()\n",
    "exclude='/home/misa/APDFT/prototyping/atomic_energies/results/slice_ve38/dsgdb9nsd_000829/atomic_energies_with_mic.txt'\n",
    "paths.remove(exclude)\n",
    "data, molecule_sizes = qmi.load_alchemy_data(paths)\n",
    "labels = qmi.generate_label_vector(data, molecule_sizes.sum(), value='atomic')\n",
    "charges = qmi.generate_label_vector(data, molecule_sizes.sum(), value='charge')\n",
    "estpot = qmi.alchpot_lam1('pyscf')"
   ]
  },
  {
   "cell_type": "code",
   "execution_count": 3,
   "metadata": {},
   "outputs": [],
   "source": [
    "idc_by_charge = qmi.partition_idx_by_charge(charges)\n",
    "\n",
    "atomic_C = labels[idc_by_charge[6.0]]\n",
    "estpot_C = estpot[idc_by_charge[6.0]]\n",
    "reps = estpot_C.reshape((len(estpot_C), 1))\n",
    "labels = atomic_C"
   ]
  },
  {
   "cell_type": "code",
   "execution_count": 4,
   "metadata": {},
   "outputs": [],
   "source": [
    "def train_test_cycle(labels, lam, reps, sigma, tr_size):\n",
    "    # split data in training and test\n",
    "    reps_tr, reps_test, labels_tr, labels_test = sk.train_test_split(reps,labels,train_size=tr_size)\n",
    "\n",
    "    # train\n",
    "    coeffs = qmi.train_kernel(reps_tr, labels_tr, sigma, lam)\n",
    "    # predict\n",
    "    labels_predicted = qmi.predict_labels(reps_test, reps_tr, sigma, coeffs)\n",
    "    #print(labels_predicted)\n",
    "    mae = (np.abs(labels_predicted - labels_test)).mean()\n",
    "    return(mae)"
   ]
  },
  {
   "cell_type": "code",
   "execution_count": 5,
   "metadata": {},
   "outputs": [],
   "source": [
    "def crossvalidate(labels, lam, num_cv, reps, sigma, tr_size):\n",
    "    error = []\n",
    "    for cv in range(num_cv):\n",
    "        error.append(train_test_cycle(labels, lam, reps, sigma, tr_size))\n",
    "    error = np.array(error)\n",
    "    return(error.mean(), error.std())"
   ]
  },
  {
   "cell_type": "code",
   "execution_count": null,
   "metadata": {},
   "outputs": [],
   "source": [
    "sigmas = 1#np.logspace(-8, 5, base = 2)\n",
    "lam_val = 1e-5\n",
    "num_cv = 3\n",
    "#sigmas = np.linspace()"
   ]
  },
  {
   "cell_type": "code",
   "execution_count": null,
   "metadata": {},
   "outputs": [],
   "source": [
    "error_sigma = []\n",
    "for s in sigmas:\n",
    "    mae, std = crossvalidate(labels, lam_val, num_cv, reps, s, int(0.7*len(atomic_C)))\n",
    "    error_sigma.append([s, mae, std])"
   ]
  },
  {
   "cell_type": "code",
   "execution_count": null,
   "metadata": {},
   "outputs": [],
   "source": [
    "error_sigma = np.array(error_sigma)"
   ]
  },
  {
   "cell_type": "code",
   "execution_count": null,
   "metadata": {},
   "outputs": [],
   "source": [
    "plt.plot(error_sigma[6:,0], error_sigma[6:,1])"
   ]
  },
  {
   "cell_type": "code",
   "execution_count": null,
   "metadata": {},
   "outputs": [],
   "source": [
    "error_sigma[np.where(error_sigma[:,1] == np.amin(error_sigma[:,1]))]"
   ]
  },
  {
   "cell_type": "code",
   "execution_count": null,
   "metadata": {},
   "outputs": [],
   "source": [
    "error_lambda = []\n",
    "lam_vals = [1e-3, 1e-5, 1e-7, 1e-9]\n",
    "\n",
    "for l in lam_vals:\n",
    "    mae, std = crossvalidate(labels, l, num_cv, reps, 1.0, int(0.7*len(atomic_C)))\n",
    "    error_lambda.append([l, mae, std])"
   ]
  },
  {
   "cell_type": "code",
   "execution_count": null,
   "metadata": {},
   "outputs": [],
   "source": [
    "error_lambda"
   ]
  },
  {
   "cell_type": "code",
   "execution_count": null,
   "metadata": {},
   "outputs": [],
   "source": []
  },
  {
   "cell_type": "code",
   "execution_count": 15,
   "metadata": {},
   "outputs": [],
   "source": [
    "error = []\n",
    "set_sizes = np.logspace(0, 12, base = 2)\n",
    "sigma= 1\n",
    "lam_val = 1e-7\n",
    "num_cv = 10\n",
    "#sigmas = np.l\n",
    "for tr in set_sizes:\n",
    "    mae, std = crossvalidate(labels, lam_val, num_cv, reps, sigma, int(tr))\n",
    "    error.append([tr, mae, std])"
   ]
  },
  {
   "cell_type": "code",
   "execution_count": 16,
   "metadata": {},
   "outputs": [],
   "source": [
    "error = np.array(error)"
   ]
  },
  {
   "cell_type": "code",
   "execution_count": 17,
   "metadata": {},
   "outputs": [
    {
     "data": {
      "image/png": "[encoded data removed]",
      "text/plain": [
       "<Figure size 432x288 with 1 Axes>"
      ]
     },
     "metadata": {
      "needs_background": "light"
     },
     "output_type": "display_data"
    }
   ],
   "source": [
    "plt.plot(error[:,0], error[:,1], '-o')\n",
    "plt.xscale('log')\n",
    "plt.yscale('log')"
   ]
  },
  {
   "cell_type": "code",
   "execution_count": 18,
   "metadata": {},
   "outputs": [
    {
     "data": {
      "text/plain": [
       "array([[1.00000000e+00, 2.06824639e+01, 7.47015780e+00],\n",
       "       [1.18500895e+00, 2.01524490e+01, 4.47295814e+00],\n",
       "       [1.40424622e+00, 1.91996265e+01, 4.15512213e+00],\n",
       "       [1.66404434e+00, 2.03272182e+01, 4.70226890e+00],\n",
       "       [1.97190744e+00, 1.99251667e+01, 3.71236220e+00],\n",
       "       [2.33672798e+00, 1.43228532e+01, 4.53522059e+00],\n",
       "       [2.76904357e+00, 1.43030742e+01, 5.55329016e+00],\n",
       "       [3.28134142e+00, 8.79258783e+00, 3.31195737e+00],\n",
       "       [3.88841897e+00, 1.07017694e+01, 2.56418649e+00],\n",
       "       [4.60781129e+00, 1.68353933e+01, 3.06809635e+01],\n",
       "       [5.46029763e+00, 2.27954678e+01, 3.57668086e+01],\n",
       "       [6.47050158e+00, 3.25906833e+01, 4.42790405e+01],\n",
       "       [7.66760230e+00, 1.38246719e+01, 1.44261027e+01],\n",
       "       [9.08617738e+00, 1.81103395e+01, 1.98572158e+01],\n",
       "       [1.07672015e+01, 1.91455378e+01, 1.89591689e+01],\n",
       "       [1.27592302e+01, 1.05511100e+01, 8.54619378e+00],\n",
       "       [1.51198021e+01, 9.57856486e+00, 6.37160224e+00],\n",
       "       [1.79171008e+01, 6.15288032e+00, 6.11617598e+00],\n",
       "       [2.12319249e+01, 7.22470102e+00, 6.31895038e+00],\n",
       "       [2.51600211e+01, 3.34653393e+00, 2.62362173e+00],\n",
       "       [2.98148502e+01, 1.68130312e+00, 1.02141231e+00],\n",
       "       [3.53308644e+01, 1.36945337e+00, 8.93098490e-01],\n",
       "       [4.18673907e+01, 1.24706854e+00, 1.22165178e+00],\n",
       "       [4.96132328e+01, 1.84679514e+00, 2.33564633e+00],\n",
       "       [5.87921251e+01, 7.63961561e-01, 3.66712076e-01],\n",
       "       [6.96691946e+01, 6.75030137e-01, 4.06248928e-01],\n",
       "       [8.25586193e+01, 8.17908445e-01, 5.28362391e-01],\n",
       "       [9.78327031e+01, 4.43315351e-01, 1.28052043e-01],\n",
       "       [1.15932629e+02, 8.31136768e-01, 1.08034839e+00],\n",
       "       [1.37381203e+02, 3.67284499e-01, 4.05988387e-02],\n",
       "       [1.62797956e+02, 4.25013489e-01, 9.47476643e-02],\n",
       "       [1.92917035e+02, 3.89312873e-01, 5.94123136e-02],\n",
       "       [2.28608414e+02, 3.84144700e-01, 7.83242411e-02],\n",
       "       [2.70903017e+02, 3.82717510e-01, 7.55590238e-02],\n",
       "       [3.21022501e+02, 3.62453105e-01, 3.57994680e-02],\n",
       "       [3.80414538e+02, 3.84465916e-01, 1.02723612e-01],\n",
       "       [4.50794633e+02, 3.58765520e-01, 8.01391025e-02],\n",
       "       [5.34195677e+02, 3.33284115e-01, 9.92218866e-03],\n",
       "       [6.33026660e+02, 3.30779076e-01, 1.17031266e-02],\n",
       "       [7.50142259e+02, 3.20647912e-01, 1.23653152e-02],\n",
       "       [8.88925293e+02, 3.22242241e-01, 8.66180369e-03],\n",
       "       [1.05338443e+03, 3.19633975e-01, 8.09960516e-03],\n",
       "       [1.24826998e+03, 3.17385007e-01, 4.98184639e-03],\n",
       "       [1.47921110e+03, 3.15758303e-01, 2.27406540e-03],\n",
       "       [1.75287840e+03, 3.16138110e-01, 7.83495298e-03],\n",
       "       [2.07717660e+03, 3.15029925e-01, 4.73107393e-03],\n",
       "       [2.46147287e+03, 3.11117489e-01, 5.94041661e-03],\n",
       "       [2.91686739e+03, 3.13107951e-01, 7.83942694e-03],\n",
       "       [3.45651397e+03, 3.10924380e-01, 5.72105329e-03],\n",
       "       [4.09600000e+03, 3.11869130e-01, 6.98929011e-03]])"
      ]
     },
     "execution_count": 18,
     "metadata": {},
     "output_type": "execute_result"
    }
   ],
   "source": [
    "error"
   ]
  },
  {
   "cell_type": "code",
   "execution_count": null,
   "metadata": {},
   "outputs": [],
   "source": []
  }
 ],
 "metadata": {
  "kernelspec": {
   "display_name": "Python [conda env:atomic-energies]",
   "language": "python",
   "name": "conda-env-atomic-energies-py"
  },
  "language_info": {
   "codemirror_mode": {
    "name": "ipython",
    "version": 3
   },
   "file_extension": ".py",
   "mimetype": "text/x-python",
   "name": "python",
   "nbconvert_exporter": "python",
   "pygments_lexer": "ipython3",
   "version": "3.7.3"
  }
 },
 "nbformat": 4,
 "nbformat_minor": 4
}
