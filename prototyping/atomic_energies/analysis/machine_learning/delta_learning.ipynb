{
 "cells": [
  {
   "cell_type": "code",
   "execution_count": 1,
   "metadata": {},
   "outputs": [],
   "source": [
    "import numpy as np\n",
    "from scipy.stats import linregress\n",
    "import sys\n",
    "sys.path.insert(0, '/home/misa/git_repositories/APDFT/prototyping/atomic_energies/')\n",
    "import qml_interface as qmi\n",
    "from utils_qm import save_obj, load_obj\n",
    "\n",
    "import sklearn.model_selection as sk\n",
    "\n",
    "import pandas as pd\n",
    "import explore_qml_data as eqd\n",
    "from rdkit import Chem\n",
    "\n",
    "from matplotlib import pyplot as plt"
   ]
  },
  {
   "cell_type": "markdown",
   "metadata": {},
   "source": [
    "# Energy of first coordination sphere as baseline"
   ]
  },
  {
   "cell_type": "markdown",
   "metadata": {},
   "source": [
    "### Initialize database"
   ]
  },
  {
   "cell_type": "code",
   "execution_count": 2,
   "metadata": {},
   "outputs": [],
   "source": [
    "# data preparation\n",
    "paths = qmi.wrapper_alch_data()\n",
    "exclude='/home/misa/APDFT/prototyping/atomic_energies/results/slice_ve38/dsgdb9nsd_000829/atomic_energies_with_mic.txt'\n",
    "paths.remove(exclude)\n",
    "paths.remove('/home/misa/APDFT/prototyping/atomic_energies/results/slice_ve38/dsgdb9nsd_001265/atomic_energies_with_mic.txt')\n",
    "data, molecule_sizes = qmi.load_alchemy_data(paths)\n",
    "\n",
    "all_local_reps = qmi.generate_atomic_representations(data, molecule_sizes)\n",
    "\n",
    "atomic_database = pd.DataFrame(index=np.arange(molecule_sizes.sum()), columns=['mol_id', 'smiles', 'Z', 'atomic energy', 'atomisation energy', 'charge NN'])\n",
    "# make a database\n",
    "index_database = 0\n",
    "for i, p in enumerate(paths):\n",
    "    data = np.loadtxt(p)\n",
    "    # get smiles\n",
    "    comp = p.split('/')[-2]\n",
    "    xyz_path = f'/home/misa/datasets/qm9/{comp}.xyz'\n",
    "    smiles = eqd.get_smiles(xyz_path)\n",
    "    mol = Chem.MolFromSmiles(smiles)\n",
    "    mol = Chem.AddHs(mol)\n",
    "    cnn = eqd.get_charge_neighbours(mol)\n",
    "    for d, c in zip(data, cnn):\n",
    "        atomic_database.at[index_database, 'mol_id'] = i\n",
    "        atomic_database.at[index_database, 'smiles'] = smiles\n",
    "        atomic_database.at[index_database, 'Z'] = d[0]\n",
    "        atomic_database.at[index_database, 'atomic energy'] = d[5]\n",
    "        atomic_database.at[index_database, 'atomisation energy'] = d[6]\n",
    "        atomic_database.at[index_database, 'charge NN'] = c\n",
    "        index_database += 1"
   ]
  },
  {
   "cell_type": "code",
   "execution_count": 3,
   "metadata": {},
   "outputs": [],
   "source": [
    "def add_baseline(data, tr_data, baseline_model):\n",
    "    \"\"\"\n",
    "    adds a column with the baseline to the data set, the baseline is generated from the training data\n",
    "    \"\"\"\n",
    "    \n",
    "    if baseline_model == 'none':\n",
    "        data['baseline'] = len(data)*[0.0]\n",
    "    \n",
    "    elif baseline_model == 'mee':\n",
    "        baseline_mee(data, tr_data)\n",
    "    elif baseline_model == 'cnn':\n",
    "        baseline_cnn(data, tr_data)\n",
    "    else:\n",
    "        raise Exception('Undefined baseline model')\n",
    "def baseline_cnn(data, tr_data):\n",
    "    \"\"\"\n",
    "    baseline is linear fit of atomic energy vs total nuclear charge of nn\n",
    "    \"\"\"\n",
    "    nuc_charges = set(tr_data['Z'])\n",
    "    baseline_models = dict()\n",
    "    for Z in nuc_charges:\n",
    "        slope, intercept = get_linear_baseline_model_cs1(tr_data, Z)\n",
    "        baseline_models[Z] = (slope, intercept)\n",
    "\n",
    "    # calculate baseline value for every atom\n",
    "    data['baseline'] = len(data)*[0.0]\n",
    "    for k in baseline_models.keys():\n",
    "        data.loc[data['Z']==k, 'baseline'] = data.loc[data['Z']==k, 'charge NN']*baseline_models[k][0]+baseline_models[k][1]\n",
    "        \n",
    "def baseline_mee(data, tr_data):\n",
    "    nuc_charges = set(tr_data['Z'])\n",
    "    nuc_charges = list(nuc_charges)\n",
    "    nuc_charges.sort()\n",
    "    \n",
    "    # ensure that baseline value can be created for all atoms\n",
    "    nuc_charges_all = set(data['Z'])\n",
    "    nuc_charges_all = list(nuc_charges_all)\n",
    "    nuc_charges_all.sort()\n",
    "    assert nuc_charges == nuc_charges_all, \"Print not all elements in training data\"\n",
    "    \n",
    "    # create baseline\n",
    "    data['baseline'] = len(data)*[0.0]\n",
    "    for n in nuc_charges:\n",
    "        mean_val = tr_data.loc[tr_data['Z'] == n, 'atomic energy'].mean()\n",
    "        data.loc[data['Z'] == n, 'baseline'] = mean_val\n",
    "    \n",
    "def get_mean_cs1(data, Z):\n",
    "    \"\"\"\n",
    "    for element with charge Z get charge of NN and mean atomic energy at this charge\n",
    "    \"\"\"\n",
    "    unique_nn = list(set(data.loc[(data['Z'] == Z), 'charge NN']))\n",
    "    unique_nn.sort()\n",
    "    mean_energy = []\n",
    "    for u in unique_nn:\n",
    "        mean = data.loc[(data['Z'] == Z) & (data['charge NN'] == u), 'atomic energy'].mean()\n",
    "        mean_energy.append(mean)\n",
    "    return(np.array([unique_nn, mean_energy]))\n",
    "\n",
    "def get_linear_baseline_model_cs1(data, Z):\n",
    "    \"\"\"\n",
    "    get mean atomic energy for every set of nearest neighbours and make linear fit to charge of NN vs mean atomic energy\n",
    "    \"\"\"\n",
    "    mean_cs1 = get_mean_cs1(data, Z)\n",
    "    lm = linregress(mean_cs1[0], mean_cs1[1])\n",
    "    return(lm[0], lm[1])\n",
    "\n",
    "def split_molecule_indices(num_data_pts, tr_size):\n",
    "    molecule_indices = np.arange(num_data_pts)\n",
    "    tr_indices_mol, test_indices_mol, dummy1, dummy2 = sk.train_test_split(molecule_indices,molecule_indices,train_size=tr_size)\n",
    "    return(tr_indices_mol, test_indices_mol)\n",
    "\n",
    "def train_test_cycle(baseline_model, data, lam, reps, sigma, tr_size):\n",
    "    # split data in training and test\n",
    "    num_mols = len(set(data['mol_id']))\n",
    "    tr_indices_mol, test_indices_mol = split_molecule_indices(num_mols, tr_size)\n",
    "    \n",
    "    tr_data = data[data['mol_id'].isin(tr_indices_mol)]\n",
    "    reps_tr = reps[tr_data.index]   \n",
    "    test_data = data[data['mol_id'].isin(test_indices_mol)]\n",
    "    reps_test = reps[test_data.index]\n",
    "\n",
    "    # add baseline to dataset\n",
    "    add_baseline(data, tr_data, baseline_model)\n",
    "\n",
    "\n",
    "    # calculate delta\n",
    "    data['delta'] = data['atomic energy'] - data['baseline']\n",
    "    delta_tr = data.loc[data.index.isin(tr_data.index), 'delta']\n",
    "\n",
    "    coeffs = qmi.train_kernel(reps_tr, delta_tr, sigma, lam)\n",
    "    delta_predicted = qmi.predict_labels(reps_test, reps_tr, sigma, coeffs)\n",
    "    baseline_test =  data.loc[data.index.isin(test_data.index), 'baseline']\n",
    "\n",
    "    labels_predicted = delta_predicted + baseline_test\n",
    "    labels_test = data.loc[data.index.isin(test_data.index), 'atomic energy']\n",
    "\n",
    "\n",
    "    #print(labels_predicted)\n",
    "    mae = (np.abs(labels_predicted - labels_test)).mean()\n",
    "    return(mae)\n",
    "\n",
    "def crossvalidate(baseline_model, data, lam, reps, sigma, tr_size, num_cv):\n",
    "    mae = []\n",
    "    for n in range(num_cv):\n",
    "        mae.append(train_test_cycle(baseline_model, data, lam, reps, sigma, tr_size))\n",
    "    mae = np.array(mae)\n",
    "    return(mae.mean(), mae.std())"
   ]
  },
  {
   "cell_type": "code",
   "execution_count": 14,
   "metadata": {},
   "outputs": [],
   "source": [
    "tr_size = 100\n",
    "data = atomic_database.copy()\n",
    "\n",
    "num_mols = len(set(data['mol_id']))\n",
    "tr_indices_mol, test_indices_mol = split_molecule_indices(num_mols, tr_size)\n",
    "\n",
    "tr_data = data[data['mol_id'].isin(tr_indices_mol)]\n",
    "\n",
    "u, e = get_mean_cs1(tr_data, 6)"
   ]
  },
  {
   "cell_type": "code",
   "execution_count": 17,
   "metadata": {},
   "outputs": [],
   "source": [
    "m,b = get_linear_baseline_model_cs1(tr_data, 6)"
   ]
  },
  {
   "cell_type": "code",
   "execution_count": 19,
   "metadata": {},
   "outputs": [
    {
     "data": {
      "text/plain": [
       "Text(0, 0.5, '$E_I$ (kcal/mol)')"
      ]
     },
     "execution_count": 19,
     "metadata": {},
     "output_type": "execute_result"
    },
    {
     "data": {
      "image/png": "[encoded data removed]",
      "text/plain": [
       "<Figure size 432x288 with 1 Axes>"
      ]
     },
     "metadata": {
      "needs_background": "light"
     },
     "output_type": "display_data"
    }
   ],
   "source": [
    "plt.rcParams['font.size'] = 20\n",
    "x = np.linspace(np.amin(u), np.amax(u), 100)\n",
    "plt.plot(u,e*627, 'o')\n",
    "plt.plot(x, 627*(x*m+b), '--', color='tab:blue')\n",
    "plt.xlabel(r'$\\sum_I Z_I^{(1)}$')\n",
    "plt.ylabel(r'$E_I$ (kcal/mol)')"
   ]
  },
  {
   "cell_type": "markdown",
   "metadata": {},
   "source": [
    "# No baseline"
   ]
  },
  {
   "cell_type": "code",
   "execution_count": null,
   "metadata": {},
   "outputs": [],
   "source": [
    "data = atomic_database.copy()\n",
    "reps = all_local_reps\n",
    "baseline_model = 'none'\n",
    "\n",
    "sigmas = np.logspace(-1, 10, 11, base=2)\n",
    "lam_val = 1e-5\n",
    "num_cv = 3\n",
    "\n",
    "lcurves = dict()\n",
    "\n",
    "# define number of training points for which MAE is calculated\n",
    "#set_sizes = np.concatenate((np.logspace(0, 13, 14, base=2).astype(int), np.array([12000])))\n",
    "set_sizes = [900]\n",
    "for sigma in sigmas:\n",
    "    error_cv = []\n",
    "    error_std = []\n",
    "    # calculate error for every training point size\n",
    "    for idx, tr_size in enumerate(set_sizes):\n",
    "        err, err_std = crossvalidate(baseline_model, data, lam_val, reps, sigma, tr_size, num_cv)\n",
    "        error_cv.append(err)\n",
    "        error_std.append(err_std)\n",
    "    \n",
    "    lcurves[f'sig_{sigma}'] = np.array([set_sizes, error_cv, error_std]).T"
   ]
  },
  {
   "cell_type": "code",
   "execution_count": null,
   "metadata": {},
   "outputs": [],
   "source": [
    "save_obj(lcurves, '/home/misa/projects/Atomic-Energies/data/lcurves/lcurves_atomic/delta_learning/no_baseline_coarse_grid')"
   ]
  },
  {
   "cell_type": "code",
   "execution_count": null,
   "metadata": {},
   "outputs": [],
   "source": [
    "lcurves_sigma = {'sig_22.627416997969522': np.array([[9.00000000e+02, 2.52051450e-01, 6.33494288e-02]]),\n",
    " 'sig_48.50293012833276': np.array([[9.00000000e+02, 4.86423195e-02, 3.55630091e-03]]),\n",
    " 'sig_103.96830673359823': np.array([[9.00000000e+02, 1.98577554e-02, 7.99814413e-04]]),\n",
    " 'sig_222.8609442038079': np.array([[9.00000000e+02, 1.97048111e-02, 3.18936804e-04]]),\n",
    " 'sig_477.7128916668455': np.array([[9.00000000e+02, 2.36696070e-02, 1.83672148e-03]])}"
   ]
  },
  {
   "cell_type": "code",
   "execution_count": null,
   "metadata": {},
   "outputs": [],
   "source": [
    "data = atomic_database.copy()\n",
    "reps = all_local_reps\n",
    "baseline_model = 'none'\n",
    "\n",
    "lambdas = [1e-1, 1e-3, 1e-5, 1e-7]\n",
    "num_cv = 3\n",
    "\n",
    "lcurves_opt = dict()\n",
    "\n",
    "# define number of training points for which MAE is calculated\n",
    "set_sizes = np.concatenate((np.logspace(7, 9, 3, base=2).astype(int), np.array([900])))\n",
    "\n",
    "for sigma_k in lcurves_sigma.keys():\n",
    "    sigma = float(sigma_k.split('_')[1])\n",
    "\n",
    "    # calculate error for every training point size\n",
    "    for lam in lambdas:\n",
    "        print(sigma, lam)\n",
    "        error_cv = []\n",
    "        error_std = []\n",
    "        for idx, tr_size in enumerate(set_sizes):\n",
    "            err, err_std = crossvalidate(baseline_model, data, lam, reps, sigma, tr_size, num_cv)\n",
    "            error_cv.append(err)\n",
    "            error_std.append(err_std)\n",
    "    \n",
    "        lcurves_opt[f'sig_{sigma}_lambda_{lam}'] = np.array([set_sizes, error_cv, error_std]).T\n",
    "save_obj(lcurves_opt, '/home/misa/projects/Atomic-Energies/data/lcurves/lcurves_atomic/delta_learning/no_baseline_lcurves_opt' )"
   ]
  },
  {
   "cell_type": "code",
   "execution_count": null,
   "metadata": {},
   "outputs": [],
   "source": [
    "lcurves_opt = load_obj('/home/misa/projects/Atomic-Energies/data/lcurves/lcurves_atomic/delta_learning/no_baseline_lcurves_opt')\n",
    "\n",
    "fig, ax = plt.subplots(1,1)\n",
    "for k in lcurves_opt.keys():\n",
    "    s, l = np.round(float(k.split('_')[1])), float(k.split('_')[-1])\n",
    "    N = lcurves_opt[k][:,0]\n",
    "    MAE = lcurves_opt[k][:,1]\n",
    "    ax.plot(N, MAE, '-o', label = f'$\\sigma = {s}$, $\\lambda = {l}$')\n",
    "ax.legend(bbox_to_anchor = (1.05, 1.0))\n",
    "ax.set_xscale('log')\n",
    "ax.set_yscale('log')\n",
    "ax.set_xlabel('N')\n",
    "ax.set_ylabel('MAE (Ha)')"
   ]
  },
  {
   "cell_type": "code",
   "execution_count": null,
   "metadata": {},
   "outputs": [],
   "source": [
    "fig, ax = plt.subplots(1,1)\n",
    "ax.plot(lcurves_opt['sig_222.8609442038079_lambda_1e-05'][:,0], lcurves_opt['sig_222.8609442038079_lambda_1e-05'][:,1], '-o')\n",
    "#ax.plot(lcurves_opt['sig_477.7128916668455_lambda_1e-07'][:,0], lcurves_opt['sig_477.7128916668455_lambda_1e-07'][:,1], '-o')\n",
    "\n",
    "ax.set_xscale('log')\n",
    "ax.set_yscale('log')\n",
    "ax.set_xlabel('N')\n",
    "ax.set_ylabel('MAE (Ha)')"
   ]
  },
  {
   "cell_type": "code",
   "execution_count": null,
   "metadata": {},
   "outputs": [],
   "source": []
  },
  {
   "cell_type": "code",
   "execution_count": null,
   "metadata": {},
   "outputs": [],
   "source": [
    "data = atomic_database.copy()\n",
    "reps = all_local_reps\n",
    "baseline_model = 'none'\n",
    "\n",
    "lam = 1e-7\n",
    "sigma = 222.8609442038079\n",
    "num_cv = 10\n",
    "\n",
    "# define number of training points for which MAE is calculated\n",
    "set_sizes = np.concatenate((np.logspace(1, 9, 11, base=2).astype(int), np.array([900])))\n",
    "\n",
    "error_cv = []\n",
    "error_std = []\n",
    "for idx, tr_size in enumerate(set_sizes):\n",
    "    err, err_std = crossvalidate(baseline_model, data, lam, reps, sigma, tr_size, num_cv)\n",
    "    error_cv.append(err)\n",
    "    error_std.append(err_std)\n",
    "    "
   ]
  },
  {
   "cell_type": "code",
   "execution_count": null,
   "metadata": {},
   "outputs": [],
   "source": []
  },
  {
   "cell_type": "code",
   "execution_count": null,
   "metadata": {},
   "outputs": [],
   "source": [
    "best_lcuvrve = np.array([set_sizes, error_cv, error_std]).T\n",
    "np.savetxt('/home/misa/projects/Atomic-Energies/data/lcurves/lcurves_atomic/delta_learning/best_no_baseline.txt', best_lcuvrve )"
   ]
  },
  {
   "cell_type": "markdown",
   "metadata": {},
   "source": [
    "# Baseline mean atomic energy per element"
   ]
  },
  {
   "cell_type": "code",
   "execution_count": null,
   "metadata": {},
   "outputs": [],
   "source": [
    "data = atomic_database.copy()\n",
    "reps = all_local_reps\n",
    "baseline_model = 'mee'\n",
    "\n",
    "sigmas = np.logspace(-1, 10, 11, base=2)\n",
    "lam_val = 1e-5\n",
    "num_cv = 3\n",
    "\n",
    "lcurves = dict()\n",
    "\n",
    "# define number of training points for which MAE is calculated\n",
    "#set_sizes = np.concatenate((np.logspace(0, 13, 14, base=2).astype(int), np.array([12000])))\n",
    "set_sizes = [900]\n",
    "for sigma in sigmas:\n",
    "    error_cv = []\n",
    "    error_std = []\n",
    "    # calculate error for every training point size\n",
    "    for idx, tr_size in enumerate(set_sizes):\n",
    "        err, err_std = crossvalidate(baseline_model, data, lam_val, reps, sigma, tr_size, num_cv)\n",
    "        error_cv.append(err)\n",
    "        error_std.append(err_std)\n",
    "    \n",
    "    lcurves[f'sig_{sigma}'] = np.array([set_sizes, error_cv, error_std]).T"
   ]
  },
  {
   "cell_type": "code",
   "execution_count": null,
   "metadata": {},
   "outputs": [],
   "source": [
    "lcurves"
   ]
  },
  {
   "cell_type": "code",
   "execution_count": null,
   "metadata": {},
   "outputs": [],
   "source": [
    "lcurves_sigma = {'sig_22.627416997969522': np.array([[9.00000000e+02, 9.39391919e-02, 1.21955844e-02]]),\n",
    " 'sig_48.50293012833276': np.array([[9.00000000e+02, 2.97992703e-02, 3.46011400e-03]]),\n",
    " 'sig_103.96830673359823': np.array([[9.00000000e+02, 2.25059742e-02, 3.10376644e-03]]),\n",
    " 'sig_222.8609442038079': np.array([[9.00000000e+02, 5.30568600e-02, 1.38223282e-02]])}"
   ]
  },
  {
   "cell_type": "code",
   "execution_count": null,
   "metadata": {},
   "outputs": [],
   "source": [
    "data = atomic_database.copy()\n",
    "reps = all_local_reps\n",
    "baseline_model = 'mee'\n",
    "\n",
    "lambdas = [1e-1, 1e-3, 1e-5, 1e-7]\n",
    "num_cv = 3\n",
    "\n",
    "lcurves_opt = dict()\n",
    "\n",
    "# define number of training points for which MAE is calculated\n",
    "set_sizes = np.concatenate((np.logspace(7, 9, 3, base=2).astype(int), np.array([900])))\n",
    "\n",
    "for sigma_k in lcurves_sigma.keys():\n",
    "    sigma = float(sigma_k.split('_')[1])\n",
    "\n",
    "    # calculate error for every training point size\n",
    "    for lam in lambdas:\n",
    "        print(sigma, lam)\n",
    "        error_cv = []\n",
    "        error_std = []\n",
    "        for idx, tr_size in enumerate(set_sizes):\n",
    "            err, err_std = crossvalidate(baseline_model, data, lam, reps, sigma, tr_size, num_cv)\n",
    "            error_cv.append(err)\n",
    "            error_std.append(err_std)\n",
    "    \n",
    "        lcurves_opt[f'sig_{sigma}_lambda_{lam}'] = np.array([set_sizes, error_cv, error_std]).T\n",
    "save_obj(lcurves_opt, '/home/misa/projects/Atomic-Energies/data/lcurves/lcurves_atomic/delta_learning/mean_energy_element/lcurves_opt' )"
   ]
  },
  {
   "cell_type": "code",
   "execution_count": null,
   "metadata": {},
   "outputs": [],
   "source": [
    "lcurves_opt"
   ]
  },
  {
   "cell_type": "code",
   "execution_count": null,
   "metadata": {},
   "outputs": [],
   "source": [
    "fig, ax = plt.subplots(1,1)\n",
    "for k in lcurves_opt.keys():\n",
    "    s, l = np.round(float(k.split('_')[1])), float(k.split('_')[-1])\n",
    "    N = lcurves_opt[k][:,0]\n",
    "    MAE = lcurves_opt[k][:,1]\n",
    "    ax.plot(N, MAE, '-o', label = f'$\\sigma = {s}$, $\\lambda = {l}$')\n",
    "ax.legend(bbox_to_anchor = (1.05, 1.0))\n",
    "ax.set_xscale('log')\n",
    "ax.set_yscale('log')\n",
    "ax.set_xlabel('N')\n",
    "ax.set_ylabel('MAE (Ha)')"
   ]
  },
  {
   "cell_type": "code",
   "execution_count": null,
   "metadata": {},
   "outputs": [],
   "source": [
    "#lcurves['sig_103.96830673359823_lambda_1e-07']\n",
    "plt.rcParams['font.size'] = 15\n",
    "N = lcurves_opt['sig_103.96830673359823_lambda_1e-05'][:,0]\n",
    "MAE = lcurves_opt['sig_103.96830673359823_lambda_1e-05'][:,1]\n",
    "\n",
    "N = lcurves_opt['sig_222.8609442038079_lambda_1e-07'][:,0]\n",
    "MAE = lcurves_opt['sig_222.8609442038079_lambda_1e-07'][:,1]\n",
    "\n",
    "\n",
    "fig, ax = plt.subplots(1,1)\n",
    "#ax.plot(set_sizes, np.array(error_cv)*627, '-o', label = 'new model')\n",
    "\n",
    "ax.plot(N, MAE*627, '-o', label = '$\\sigma = 23$, $\\lambda = 10^{-3}$')\n",
    "\n",
    "ax.set_xscale('log')\n",
    "ax.set_yscale('log')\n",
    "ax.legend()\n",
    "ax.set_xlabel('N')\n",
    "ax.set_ylabel('MAE (kcal/mol)')"
   ]
  },
  {
   "cell_type": "code",
   "execution_count": null,
   "metadata": {},
   "outputs": [],
   "source": [
    "### more cv's"
   ]
  },
  {
   "cell_type": "code",
   "execution_count": null,
   "metadata": {},
   "outputs": [],
   "source": [
    "data = atomic_database.copy()\n",
    "reps = all_local_reps\n",
    "baseline_model = 'mee'\n",
    "\n",
    "lam = 1e-5\n",
    "sigma = 103.96830673359823\n",
    "num_cv = 10\n",
    "\n",
    "# define number of training points for which MAE is calculated\n",
    "set_sizes = np.concatenate((np.logspace(4, 9, 6, base=2).astype(int), np.array([900])))\n",
    "\n",
    "error_cv = []\n",
    "error_std = []\n",
    "for idx, tr_size in enumerate(set_sizes):\n",
    "    err, err_std = crossvalidate(baseline_model, data, lam, reps, sigma, tr_size, num_cv)\n",
    "    error_cv.append(err)\n",
    "    error_std.append(err_std)\n",
    "    "
   ]
  },
  {
   "cell_type": "code",
   "execution_count": null,
   "metadata": {},
   "outputs": [],
   "source": [
    "error_cv"
   ]
  },
  {
   "cell_type": "code",
   "execution_count": null,
   "metadata": {},
   "outputs": [],
   "source": [
    "lcurve2 = np.array([set_sizes, error_cv, error_std]).copy()\n",
    "np.savetxt('/home/misa/projects/Atomic-Energies/data/lcurves/lcurves_atomic/delta_learning/mean_energy_element/best3.txt', lcurve2.T)"
   ]
  },
  {
   "cell_type": "code",
   "execution_count": null,
   "metadata": {},
   "outputs": [],
   "source": [
    "plt.plot(set_sizes, error_cv, '-o')\n",
    "plt.xscale('log')\n",
    "plt.yscale('log')"
   ]
  },
  {
   "cell_type": "code",
   "execution_count": null,
   "metadata": {},
   "outputs": [],
   "source": [
    "error_cv"
   ]
  },
  {
   "cell_type": "markdown",
   "metadata": {},
   "source": [
    "# Baseline atomic energy as linear function of total nuclear charge of nearest neighbours"
   ]
  },
  {
   "cell_type": "markdown",
   "metadata": {},
   "source": [
    "### Hyperparameter optimization"
   ]
  },
  {
   "cell_type": "code",
   "execution_count": null,
   "metadata": {},
   "outputs": [],
   "source": [
    "data = atomic_database.copy()\n",
    "reps = all_local_reps\n",
    "baseline_model = 'cnn'\n",
    "\n",
    "sigmas = np.logspace(-1, 10, 11, base=2)\n",
    "lam_val = 1e-5\n",
    "num_cv = 3\n",
    "\n",
    "lcurves = dict()\n",
    "\n",
    "# define number of training points for which MAE is calculated\n",
    "#set_sizes = np.concatenate((np.logspace(0, 13, 14, base=2).astype(int), np.array([12000])))\n",
    "set_sizes = [900]\n",
    "for sigma in sigmas:\n",
    "    error_cv = []\n",
    "    error_std = []\n",
    "    # calculate error for every training point size\n",
    "    for idx, tr_size in enumerate(set_sizes):\n",
    "        err, err_std = crossvalidate(baseline_model, data, lam, reps, sigma, tr_size, num_cv)\n",
    "        error_cv.append(err)\n",
    "        error_std.append(err_std)\n",
    "    \n",
    "    lcurves[f'sig_{sigma}'] = np.array([set_sizes, error_cv, error_std]).T"
   ]
  },
  {
   "cell_type": "code",
   "execution_count": null,
   "metadata": {},
   "outputs": [],
   "source": [
    "lcurves = {'sig_0.5': np.array([[9.00000000e+02, 6.27782830e-01, 2.43970829e-02]]),\n",
    " 'sig_1.0717734625362931': np.array([[9.00000000e+02, 6.42303877e-01, 6.05471595e-03]]),\n",
    " 'sig_2.29739670999407': np.array([[9.00000000e+02, 6.45152778e-01, 2.29544455e-02]]),\n",
    " 'sig_4.924577653379666': np.array([[9.00000000e+02, 5.52601535e-01, 2.72803974e-02]]),\n",
    " 'sig_10.556063286183157': np.array([[9.00000000e+02, 3.45912824e-01, 4.16990484e-02]]),\n",
    " 'sig_22.627416997969522': np.array([[9.00000000e+02, 2.52586836e-01, 2.45607081e-03]]),\n",
    " 'sig_48.50293012833276': np.array([[9.00000000e+02, 3.04478830e-01, 4.14522064e-03]]),\n",
    " 'sig_103.96830673359823': np.array([[9.00000000e+02, 3.39552622e-01, 2.52160219e-02]]),\n",
    " 'sig_222.8609442038079': np.array([[9.00000000e+02, 3.26107723e-01, 2.22827951e-02]]),\n",
    " 'sig_477.7128916668455': np.array([[9.00000000e+02, 3.89872913e-01, 1.26347927e-02]]),\n",
    " 'sig_1024.0': np.array([[9.00000000e+02, 4.45090081e-01, 1.12745219e-02]])}"
   ]
  },
  {
   "cell_type": "code",
   "execution_count": null,
   "metadata": {},
   "outputs": [],
   "source": [
    "lcurves_sigma = {'sig_10.556063286183157': np.array([[9.00000000e+02, 3.45912824e-01, 4.16990484e-02]]),\n",
    " 'sig_22.627416997969522': np.array([[9.00000000e+02, 2.52586836e-01, 2.45607081e-03]]),\n",
    " 'sig_48.50293012833276': np.array([[9.00000000e+02, 3.04478830e-01, 4.14522064e-03]]),\n",
    " 'sig_103.96830673359823': np.array([[9.00000000e+02, 3.39552622e-01, 2.52160219e-02]]),\n",
    " 'sig_222.8609442038079': np.array([[9.00000000e+02, 3.26107723e-01, 2.22827951e-02]])}"
   ]
  },
  {
   "cell_type": "code",
   "execution_count": null,
   "metadata": {},
   "outputs": [],
   "source": [
    "data = atomic_database.copy()\n",
    "reps = all_local_reps\n",
    "baseline_model = 'cnn'\n",
    "\n",
    "lambdas = [1e-1, 1e-3, 1e-5, 1e-7]\n",
    "num_cv = 3\n",
    "\n",
    "lcurves_opt = dict()\n",
    "\n",
    "# define number of training points for which MAE is calculated\n",
    "set_sizes = np.concatenate((np.logspace(7, 9, 3, base=2).astype(int), np.array([900])))\n",
    "\n",
    "for sigma_k in lcurves_sigma.keys():\n",
    "    sigma = float(sigma_k.split('_')[1])\n",
    "\n",
    "    # calculate error for every training point size\n",
    "    for lam in lambdas:\n",
    "        print(sigma, lam)\n",
    "        error_cv = []\n",
    "        error_std = []\n",
    "        for idx, tr_size in enumerate(set_sizes):\n",
    "            err, err_std = crossvalidate(baseline_model, data, lam, reps, sigma, tr_size, num_cv)\n",
    "            error_cv.append(err)\n",
    "            error_std.append(err_std)\n",
    "    \n",
    "        lcurves_opt[f'sig_{sigma}_lambda_{lam}'] = np.array([set_sizes, error_cv, error_std]).T\n",
    "save_obj(lcurves_opt, '/home/misa/projects/Atomic-Energies/data/lcurves/lcurves_atomic/delta_learning/nearest_neighbour/lcurves_opt' )"
   ]
  },
  {
   "cell_type": "code",
   "execution_count": null,
   "metadata": {},
   "outputs": [],
   "source": [
    "lcurves_opt"
   ]
  },
  {
   "cell_type": "code",
   "execution_count": 8,
   "metadata": {},
   "outputs": [],
   "source": [
    "lcurves = load_obj('/home/misa/projects/Atomic-Energies/data/lcurves/lcurves_atomic/delta_learning/nearest_neighbour/lcurves_opt')"
   ]
  },
  {
   "cell_type": "code",
   "execution_count": 9,
   "metadata": {},
   "outputs": [
    {
     "data": {
      "text/plain": [
       "Text(0, 0.5, 'MAE (Ha)')"
      ]
     },
     "execution_count": 9,
     "metadata": {},
     "output_type": "execute_result"
    },
    {
     "data": {
      "image/png": "[encoded data removed]",
      "text/plain": [
       "<Figure size 432x288 with 1 Axes>"
      ]
     },
     "metadata": {
      "needs_background": "light"
     },
     "output_type": "display_data"
    }
   ],
   "source": [
    "fig, ax = plt.subplots(1,1)\n",
    "for k in lcurves:\n",
    "    s, l = np.round(float(k.split('_')[1])), float(k.split('_')[-1])\n",
    "    N = lcurves[k][:,0]\n",
    "    MAE = lcurves[k][:,1]\n",
    "    ax.plot(N, MAE, '-o', label = f'$\\sigma = {s}$, $\\lambda = {l}$')\n",
    "ax.legend(bbox_to_anchor = (1.05, 1.0))\n",
    "ax.set_xscale('log')\n",
    "ax.set_yscale('log')\n",
    "ax.set_xlabel('N')\n",
    "ax.set_ylabel('MAE (Ha)')"
   ]
  },
  {
   "cell_type": "code",
   "execution_count": null,
   "metadata": {},
   "outputs": [],
   "source": [
    "#lcurves['sig_103.96830673359823_lambda_1e-07']\n",
    "plt.rcParams['font.size'] = 15\n",
    "N = lcurves['sig_22.627416997969522_lambda_0.001'][:,0]\n",
    "MAE = lcurves['sig_22.627416997969522_lambda_0.001'][:,1]\n",
    "\n",
    "fig, ax = plt.subplots(1,1)\n",
    "ax.plot(set_sizes, np.array(error_cv)*627, '-o', label = 'new model')\n",
    "\n",
    "ax.plot(N, MAE*627, '-o', label = '$\\sigma = 23$, $\\lambda = 10^{-3}$')\n",
    "\n",
    "ax.set_xscale('log')\n",
    "ax.set_yscale('log')\n",
    "ax.legend()\n",
    "ax.set_xlabel('N')\n",
    "ax.set_ylabel('MAE (kcal/mol)')"
   ]
  },
  {
   "cell_type": "code",
   "execution_count": 4,
   "metadata": {},
   "outputs": [],
   "source": [
    "data = atomic_database.copy()\n",
    "reps = all_local_reps\n",
    "baseline_model = 'cnn'\n",
    "\n",
    "lam = 1e-3\n",
    "sigma = 22.627416997969522\n",
    "num_cv = 10\n",
    "\n",
    "lcurves_opt = dict()\n",
    "\n",
    "# define number of training points for which MAE is calculated\n",
    "set_sizes = np.concatenate((np.logspace(4, 9, 6, base=2).astype(int), np.array([900])))\n",
    "\n",
    "error_cv = []\n",
    "error_std = []\n",
    "for idx, tr_size in enumerate(set_sizes):\n",
    "    err, err_std = crossvalidate(baseline_model, data, lam, reps, sigma, tr_size, num_cv)\n",
    "    error_cv.append(err)\n",
    "    error_std.append(err_std)\n",
    "    "
   ]
  },
  {
   "cell_type": "code",
   "execution_count": 6,
   "metadata": {},
   "outputs": [
    {
     "data": {
      "text/plain": [
       "array([[1.60000000e+01, 3.20000000e+01, 6.40000000e+01, 1.28000000e+02,\n",
       "        2.56000000e+02, 5.12000000e+02, 9.00000000e+02],\n",
       "       [6.13671205e-01, 5.71026221e-01, 5.24133036e-01, 4.66110817e-01,\n",
       "        3.89824527e-01, 3.08413002e-01, 2.45915157e-01],\n",
       "       [3.02689409e-02, 2.08533740e-02, 1.19955240e-02, 1.07741817e-02,\n",
       "        4.98642117e-03, 5.39630240e-03, 1.09196943e-02]])"
      ]
     },
     "execution_count": 6,
     "metadata": {},
     "output_type": "execute_result"
    }
   ],
   "source": [
    "lcurve = np.array([set_sizes, error_cv, error_std]).copy()\n",
    "lcurve"
   ]
  },
  {
   "cell_type": "code",
   "execution_count": 7,
   "metadata": {},
   "outputs": [],
   "source": [
    "np.savetxt('/home/misa/projects/Atomic-Energies/data/lcurves/lcurves_atomic/delta_learning/nearest_neighbour/best2.txt', lcurve.T)"
   ]
  },
  {
   "cell_type": "markdown",
   "metadata": {},
   "source": [
    "# Atomisation energy of whole molecule as $\\Delta$ "
   ]
  },
  {
   "cell_type": "code",
   "execution_count": 20,
   "metadata": {},
   "outputs": [],
   "source": [
    "def crossvalidate(atomic_labels, charges, data, labels, lam, molecule_sizes, reps, sigma, tr_size, num_cv):\n",
    "    error = []\n",
    "    for cv in range(num_cv):\n",
    "        error.append(train_test_cycle(atomic_labels, charges, data, labels, lam, molecule_sizes, reps, sigma, tr_size))\n",
    "    error = np.array(error)\n",
    "    return(error.mean(), error.std())\n",
    "\n",
    "def get_mean_labels(tr_indices_mol, labels, molecule_sizes, charges):\n",
    "    # get atom indices from molecule indices\n",
    "    tr_indices_atom = qmi.get_local_idx(tr_indices_mol, molecule_sizes)\n",
    "    # split atomic indices by charge\n",
    "    tr_indices_by_charge = sort_indices_by_element(tr_indices_atom, charges)\n",
    "    # get mean label value split up by element\n",
    "    mean_labels = dict()\n",
    "    for k in tr_indices_by_charge.keys():\n",
    "        mean_labels[k] = (labels[tr_indices_by_charge[k]]).mean()\n",
    "    return(mean_labels)\n",
    "\n",
    "def energy_cs0(mol, mean_labels):\n",
    "    \"\"\"\n",
    "    multiply mean value of atomic energy for certain element with number of atoms of this element type and sum everything up\n",
    "    \"\"\"\n",
    "    energy_estimate = 0\n",
    "    nuclear_charges = mol[:,0]\n",
    "    for z in np.unique(nuclear_charges):\n",
    "        # number of atoms of each element\n",
    "        num_nucs = np.count_nonzero(nuclear_charges == z)\n",
    "        energy_estimate += mean_labels[z]*num_nucs\n",
    "    return(energy_estimate)\n",
    "\n",
    "def get_baseline(data, mol_indices, mean_labels):\n",
    "    \"\"\"\n",
    "    calculate baseline energy\n",
    "    \"\"\"\n",
    "    energy_baseline = []\n",
    "    for m in mol_indices:\n",
    "        # coordination sphere 0; count nuclear charges\n",
    "        energy_baseline.append(energy_cs0(data[m], mean_labels))\n",
    "    return(np.array(energy_baseline))\n",
    "\n",
    "def sort_indices_by_element(indices, charges):\n",
    "    \"\"\"\n",
    "    list of charges; charges[i] is the charge of the atom with index i\n",
    "    \"\"\"\n",
    "    unique_charges = list(set(charges))\n",
    "    unique_charges.sort()\n",
    "    indices_by_charge = {k: [] for k in unique_charges}\n",
    "\n",
    "    for index in indices:\n",
    "        ch = charges[index]\n",
    "        indices_by_charge[ch].append(index)\n",
    "    return(indices_by_charge)\n",
    "\n",
    "def split_molecule_indices(num_data_pts, tr_size):\n",
    "    molecule_indices = np.arange(num_data_pts)\n",
    "    tr_indices_mol, test_indices_mol, dummy1, dummy2 = sk.train_test_split(molecule_indices,molecule_indices,train_size=tr_size)\n",
    "    return(tr_indices_mol, test_indices_mol)\n",
    "\n",
    "def train_test_cycle(atomic_labels, charges, data, labels, lam, molecule_sizes, reps, sigma, tr_size):\n",
    "    # split data in training and test\n",
    "    data_size = len(molecule_sizes)\n",
    "    tr_indices_mol, test_indices_mol = split_molecule_indices(data_size, tr_size)\n",
    "    reps_tr = reps[tr_indices_mol]\n",
    "    reps_test = reps[test_indices_mol]\n",
    "    labels_tr = labels[tr_indices_mol]\n",
    "    labels_test = labels[test_indices_mol]\n",
    "\n",
    "    # prepare baseline\n",
    "    mean_labels = get_mean_labels(tr_indices_mol, atomic_labels, molecule_sizes, charges)\n",
    "    baseline_tr = get_baseline(data, tr_indices_mol, mean_labels)\n",
    "    baseline_test = get_baseline(data, test_indices_mol, mean_labels)\n",
    "\n",
    "    # train\n",
    "    delta_tr = labels_tr-baseline_tr\n",
    "    coeffs = qmi.train_kernel(reps_tr, delta_tr, sigma, lam)\n",
    "    # predict\n",
    "    delta_predicted = qmi.predict_labels(reps_test, reps_tr, sigma, coeffs)\n",
    "    labels_predicted = delta_predicted + baseline_test\n",
    "    #print(labels_predicted)\n",
    "    mae = (np.abs(labels_predicted - labels_test)).mean()\n",
    "    return(mae)"
   ]
  },
  {
   "cell_type": "code",
   "execution_count": 21,
   "metadata": {},
   "outputs": [],
   "source": [
    "# data preparation\n",
    "# data preparation\n",
    "paths = qmi.wrapper_alch_data()\n",
    "exclude='/home/misa/APDFT/prototyping/atomic_energies/results/slice_ve38/dsgdb9nsd_000829/atomic_energies_with_mic.txt'\n",
    "paths.remove(exclude)\n",
    "data, molecule_sizes = qmi.load_alchemy_data(paths)\n",
    "global_reps = qmi.wrapper_global_representations(data, molecule_sizes) # all global representations\n",
    "\n",
    "global_labels = np.zeros(len(global_reps)) # all global labels\n",
    "for idx, mol in enumerate(data):\n",
    "    global_labels[idx] = data[idx][:,6].sum()\n",
    "    \n",
    "charges = qmi.generate_label_vector(data, molecule_sizes.sum(), value='charge')\n",
    "atomic_labels = qmi.generate_label_vector(data, molecule_sizes.sum(), value='atomisation')"
   ]
  },
  {
   "cell_type": "markdown",
   "metadata": {},
   "source": [
    "### Optimize sigma"
   ]
  },
  {
   "cell_type": "code",
   "execution_count": null,
   "metadata": {},
   "outputs": [],
   "source": [
    "sigmas = np.logspace(3, 16, 13, base=2)\n",
    "lam_val = 1e-7\n",
    "num_cv = 10\n",
    "\n",
    "# define number of training points for which MAE is calculated\n",
    "#set_sizes = np.logspace(4, 9, 10, base=2).astype(int)\n",
    "#set_sizes = np.concatenate((set_sizes, np.array([900])))\n",
    "tr_size = np.array([900])\n",
    "\n",
    "error_sigma = []\n",
    "# calculate error for every training point size\n",
    "for s in sigmas:\n",
    "    err, err_std = crossvalidate(atomic_labels, charges, data, global_labels, lam_val, molecule_sizes, global_reps, s, tr_size, num_cv)\n",
    "    #print(s, err)\n",
    "    error_sigma.append([s, err, err_std])\n",
    "    \n",
    "error_sigma = np.array(error_sigma)"
   ]
  },
  {
   "cell_type": "code",
   "execution_count": null,
   "metadata": {},
   "outputs": [],
   "source": [
    "error_sigma"
   ]
  },
  {
   "cell_type": "markdown",
   "metadata": {},
   "source": [
    "### Learning curve"
   ]
  },
  {
   "cell_type": "code",
   "execution_count": 22,
   "metadata": {},
   "outputs": [],
   "source": [
    "opt_sigma = 1.53426645e+03\n",
    "lam_val = 1e-5\n",
    "num_cv = 10\n",
    "\n",
    "# define number of training points for which MAE is calculated\n",
    "set_sizes = np.logspace(4, 9, 10, base=2).astype(int)\n",
    "set_sizes = np.concatenate((set_sizes, np.array([900])))\n",
    "\n",
    "error_cv = []\n",
    "error_std = []\n",
    "# calculate error for every training point size\n",
    "for idx, tr_size in enumerate(set_sizes):\n",
    "    err, err_std = crossvalidate(atomic_labels, charges, data, global_labels, lam_val, molecule_sizes, global_reps, opt_sigma, tr_size, num_cv)\n",
    "    error_cv.append(err)\n",
    "    error_std.append(err_std)\n",
    "    \n",
    "lcurve = np.array([set_sizes, error_cv, error_std]).T"
   ]
  },
  {
   "cell_type": "code",
   "execution_count": null,
   "metadata": {},
   "outputs": [],
   "source": [
    "lcurve"
   ]
  },
  {
   "cell_type": "code",
   "execution_count": 23,
   "metadata": {},
   "outputs": [],
   "source": [
    "from matplotlib import pyplot as plt"
   ]
  },
  {
   "cell_type": "code",
   "execution_count": 24,
   "metadata": {},
   "outputs": [],
   "source": [
    "mol_ae_global = np.loadtxt('/home/misa/projects/Atomic-Energies/data/lcurves/lcurves_atomisation/learning_curve_global_label.txt')\n",
    "at_ae_per_mol = np.loadtxt('/home/misa/projects/Atomic-Energies/data/lcurves/lcurves_atomisation/opt_sigma_all_atomic_atomisation_per_molecule.txt')"
   ]
  },
  {
   "cell_type": "code",
   "execution_count": 25,
   "metadata": {},
   "outputs": [
    {
     "data": {
      "text/plain": [
       "<matplotlib.legend.Legend at 0x7f0f05c4f6d8>"
      ]
     },
     "execution_count": 25,
     "metadata": {},
     "output_type": "execute_result"
    },
    {
     "data": {
      "image/png": "[encoded data removed]",
      "text/plain": [
       "<Figure size 432x288 with 1 Axes>"
      ]
     },
     "metadata": {
      "needs_background": "light"
     },
     "output_type": "display_data"
    }
   ],
   "source": [
    "plt.rcParams['font.size']=20\n",
    "fig,ax = plt.subplots(1,1)\n",
    "ax.plot(lcurve[:,0], lcurve[:,1]*627, '-o', label = r'$\\Delta$')\n",
    "\n",
    "ax.plot(at_ae_per_mol[:,0], at_ae_per_mol[:,1]*627.5, '-o', label = r'$\\sum_I E_I^{\\rm at}$ CM')\n",
    "ax.plot(mol_ae_global[:,0], mol_ae_global[:,1]*627.5, '-o',label = r'$E^{\\rm mol} $')\n",
    "\n",
    "ax.set_xscale('log')\n",
    "ax.set_yscale('log')\n",
    "ax.set_xlabel(r'$N$')\n",
    "ax.set_ylabel('MAE (kcal/mol)')\n",
    "ax.legend(bbox_to_anchor=(1.05, 1))"
   ]
  },
  {
   "cell_type": "code",
   "execution_count": null,
   "metadata": {},
   "outputs": [],
   "source": []
  }
 ],
 "metadata": {
  "kernelspec": {
   "display_name": "Python [conda env:atomic-energies]",
   "language": "python",
   "name": "conda-env-atomic-energies-py"
  },
  "language_info": {
   "codemirror_mode": {
    "name": "ipython",
    "version": 3
   },
   "file_extension": ".py",
   "mimetype": "text/x-python",
   "name": "python",
   "nbconvert_exporter": "python",
   "pygments_lexer": "ipython3",
   "version": "3.7.3"
  }
 },
 "nbformat": 4,
 "nbformat_minor": 4
}
