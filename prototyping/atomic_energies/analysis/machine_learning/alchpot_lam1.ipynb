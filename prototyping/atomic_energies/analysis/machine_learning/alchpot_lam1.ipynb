{
 "cells": [
  {
   "cell_type": "markdown",
   "metadata": {},
   "source": [
    "# Atomic atomisation energies"
   ]
  },
  {
   "cell_type": "markdown",
   "metadata": {},
   "source": [
    "## CM - without splitting by element"
   ]
  },
  {
   "cell_type": "code",
   "execution_count": 1,
   "metadata": {},
   "outputs": [],
   "source": [
    "import numpy as np\n",
    "import qml\n",
    "import sys\n",
    "sys.path.insert(0, '/home/misa/git_repositories/APDFT/prototyping/atomic_energies/')\n",
    "import qml_interface as qmi\n",
    "import utils_qm as uq\n",
    "\n",
    "import sklearn.model_selection as sk\n",
    "import pickle\n",
    "\n",
    "from matplotlib import pyplot as plt\n"
   ]
  },
  {
   "cell_type": "code",
   "execution_count": 2,
   "metadata": {},
   "outputs": [],
   "source": [
    "def wrapper_local_idx(global_idx, molecule_sizes):\n",
    "    item = qmi.get_local_idx([global_idx], molecule_sizes)\n",
    "    return item\n",
    "\n",
    "def get_mol_atom_map(molecule_sizes):\n",
    "    mol_atom_map = dict()\n",
    "    mol_ids = np.arange(len(molecule_sizes))\n",
    "    for mid in mol_ids:\n",
    "        item = wrapper_local_idx(mid, molecule_sizes)\n",
    "        mol_atom_map[mid] = item\n",
    "    return(mol_atom_map)\n",
    "\n",
    "def split_train_test_indices(molecule_sizes, tr_size):\n",
    "    \"\"\"\n",
    "    split indices of atoms in training and test, such that all atoms of a molecule are either in training or test set\n",
    "    \"\"\"\n",
    "    # split molecules by index\n",
    "    mol_ids = np.arange(len(molecule_sizes))\n",
    "    splitted_mol_ids = sk.train_test_split(mol_ids,mol_ids,train_size=tr_size)\n",
    "    mol_id_tr = splitted_mol_ids[0]\n",
    "    mol_id_test = splitted_mol_ids[1]\n",
    "    \n",
    "    # dictionary key:mol index, item:atom indices\n",
    "    mol_atom_map = get_mol_atom_map(molecule_sizes)\n",
    "    \n",
    "    indices_tr = []\n",
    "    for idx in mol_id_tr:\n",
    "        indices_tr.extend(mol_atom_map[idx])\n",
    "        \n",
    "    indices_test = []\n",
    "    for idx in mol_id_test:\n",
    "        indices_test.extend(mol_atom_map[idx])\n",
    "    return(indices_tr, indices_test, mol_id_test)\n",
    "\n",
    "def split_molecule_wise(reps, labels, tr_size, molecule_sizes):\n",
    "    \"\"\"\n",
    "    molecules_sizes: numpy 1D-array; contains the lengths of the molecules in the training data\n",
    "    \"\"\"\n",
    "    \n",
    "    # split only atomic indices\n",
    "    indices_tr, indices_test, mol_id_test = split_train_test_indices(molecule_sizes, tr_size)\n",
    "    \n",
    "    # split reps, labels into training/test using indices\n",
    "    reps_tr = reps[indices_tr]\n",
    "    reps_test = reps[indices_test]\n",
    "    labels_tr = labels[indices_tr]\n",
    "    labels_test = labels[indices_test]\n",
    "    \n",
    "    return(reps_tr, reps_test, labels_tr, labels_test, mol_id_test)\n",
    "\n",
    "def predict_labels_mol(reps_tr,sigma, coeffs, mol_id_test, mol_atom_map, reps):\n",
    "    labels = []\n",
    "    for i in mol_id_test:\n",
    "        reps_test_mol = reps[mol_atom_map[i]]\n",
    "        labels_in_mol = qmi.predict_labels(reps_test_mol, reps_tr, sigma, coeffs)\n",
    "        labels.append(labels_in_mol.sum())\n",
    "    return(labels)\n",
    "        \n",
    "def get_labels_mol_test(labels, mol_id_test, mol_atom_map):\n",
    "    # per molecule\n",
    "\n",
    "    labels_mol_test = []\n",
    "    for idx in mol_id_test:\n",
    "        idc = mol_atom_map[idx]\n",
    "        labels_mol_test.append(labels[idc].sum())\n",
    "    \n",
    "    return(np.array(labels_mol_test) )\n",
    "        \n",
    "\n",
    "def crossvalidate_moleculewise(reps, labels, tr_size, sigma, lam, num_cv, molecule_sizes):\n",
    "    errors = []\n",
    "    errors_per_mol = []\n",
    "    for cv in range(num_cv):\n",
    "        reps_tr, reps_test, labels_tr, labels_test, mol_id_test = split_molecule_wise(reps, labels, tr_size, molecule_sizes)\n",
    "        \n",
    "        coeffs = qmi.train_kernel(reps_tr, labels_tr, sigma, lam_val)\n",
    "        labels_predicted = qmi.predict_labels(reps_test, reps_tr, sigma, coeffs)\n",
    "        errors.append((np.abs(labels_predicted - labels_test)).mean())\n",
    "\n",
    "        \n",
    "        mol_atom_map = get_mol_atom_map(molecule_sizes)\n",
    "        labels_predicted_mol = predict_labels_mol(reps_tr,sigma, coeffs, mol_id_test, mol_atom_map, reps)\n",
    "        labels_mol_test = get_labels_mol_test(labels, mol_id_test, mol_atom_map)\n",
    "        errors_per_mol.append( (np.abs(labels_predicted_mol-labels_mol_test)).mean() )\n",
    "\n",
    "    errors = np.array(errors)\n",
    "    errors_per_mol = np.array(errors_per_mol)\n",
    "    return(errors.mean(), errors.std(), errors_per_mol.mean(), errors_per_mol.std())"
   ]
  },
  {
   "cell_type": "markdown",
   "metadata": {},
   "source": [
    "### Learning curves calculation"
   ]
  },
  {
   "cell_type": "code",
   "execution_count": 3,
   "metadata": {},
   "outputs": [],
   "source": [
    "# data preparation\n",
    "data, molecule_sizes = qmi.load_alchemy_data(qmi.wrapper_alch_data())\n",
    "labels = qmi.generate_label_vector(data, molecule_sizes.sum(), value='alch_pot')\n",
    "\n",
    "all_local_reps = qmi.generate_atomic_representations(data, molecule_sizes)"
   ]
  },
  {
   "cell_type": "code",
   "execution_count": 4,
   "metadata": {},
   "outputs": [],
   "source": [
    "### Labels = $\\mu(\\lambda = 1)$ from pyscf"
   ]
  },
  {
   "cell_type": "code",
   "execution_count": 5,
   "metadata": {},
   "outputs": [],
   "source": [
    "files_alch = []\n",
    "with open('/home/misa/projects/Atomic-Energies/data/vacuum_reference/qm9_data/alchpots_lam1.txt', 'r') as f:\n",
    "    for l in f:\n",
    "        files_alch.append(l.strip('\\n'))\n",
    "labels = []\n",
    "for p in files_alch:\n",
    "    labels.extend(np.load(p))\n",
    "labels = np.array(labels)"
   ]
  },
  {
   "cell_type": "code",
   "execution_count": 6,
   "metadata": {},
   "outputs": [],
   "source": [
    "# for mu opt sigma = 48.50293012833276\n",
    "# for atomic opt sigma = 222.8609442038079\n",
    "# for atomic atomisation opt sigma = 222.8609442038079\n",
    "\n",
    "opt_sigma = 48.50293012833276 # best sigma from hyperparameter optimization\n",
    "lam_val = 1e-5\n",
    "num_cv = 3\n",
    "\n",
    "# define number of training points for which MAE is calculated\n",
    "set_sizes = np.logspace(0, 9, 10, base=2).astype(int)\n",
    "set_sizes = np.concatenate((set_sizes, np.array([900])))\n",
    "\n",
    "error_cv = []\n",
    "error_std = []\n",
    "\n",
    "error_cv_mol = []\n",
    "error_std_mol = []\n",
    "\n",
    "# calculate error for every training point size\n",
    "for idx, tr_size in enumerate(set_sizes):\n",
    "    err, err_std, err_mol, err_std_mol = crossvalidate_moleculewise(all_local_reps, labels, tr_size, opt_sigma, lam_val, num_cv, molecule_sizes)\n",
    "    error_cv.append(err)\n",
    "    error_std.append(err_std)\n",
    "    error_cv_mol.append(err_mol)\n",
    "    error_std_mol.append(err_std_mol)\n",
    "    \n",
    "lcurves = np.array([set_sizes, error_cv, error_std]).T\n",
    "lcurves_mol = np.array([set_sizes, error_cv_mol, error_std_mol]).T"
   ]
  },
  {
   "cell_type": "code",
   "execution_count": 7,
   "metadata": {},
   "outputs": [],
   "source": [
    "np.savetxt('/home/misa/projects/Atomic-Energies/data/lcurves/lcurves_alch_pot/only_lambda1/pyscf.txt', lcurves)\n",
    "np.savetxt('/home/misa/projects/Atomic-Energies/data/lcurves/lcurves_alch_pot/only_lambda1/pyscf_per_mol.txt', lcurves_mol)"
   ]
  },
  {
   "cell_type": "code",
   "execution_count": 9,
   "metadata": {},
   "outputs": [
    {
     "data": {
      "image/png": "[encoded data removed]",
      "text/plain": [
       "<Figure size 432x288 with 1 Axes>"
      ]
     },
     "metadata": {
      "needs_background": "light"
     },
     "output_type": "display_data"
    }
   ],
   "source": [
    "plt.plot(lcurves[:,0], lcurves[:,1])\n",
    "plt.plot(lcurves_mol[:,0], lcurves_mol[:,1])\n",
    "\n",
    "plt.xscale('log')\n",
    "plt.yscale('log')"
   ]
  },
  {
   "cell_type": "code",
   "execution_count": null,
   "metadata": {},
   "outputs": [],
   "source": [
    "lcurves[:,1]"
   ]
  },
  {
   "cell_type": "markdown",
   "metadata": {},
   "source": [
    "### Hyperparameter optimization"
   ]
  },
  {
   "cell_type": "code",
   "execution_count": null,
   "metadata": {},
   "outputs": [],
   "source": [
    "# data preparation\n",
    "data, molecule_sizes = qmi.load_alchemy_data(qmi.wrapper_alch_data())\n",
    "#labels = qmi.generate_label_vector(data, molecule_sizes.sum(), value='atomisation')\n",
    "\n",
    "all_local_reps = qmi.generate_atomic_representations(data, molecule_sizes)"
   ]
  },
  {
   "cell_type": "code",
   "execution_count": null,
   "metadata": {},
   "outputs": [],
   "source": [
    "files_alch = []\n",
    "with open('/home/misa/projects/Atomic-Energies/data/vacuum_reference/qm9_data/alchpots_lam1.txt', 'r') as f:\n",
    "    for l in f:\n",
    "        files_alch.append(l.strip('\\n'))\n",
    "labels = []\n",
    "for p in files_alch:\n",
    "    labels.extend(np.load(p))\n",
    "labels = np.array(labels)"
   ]
  },
  {
   "cell_type": "code",
   "execution_count": null,
   "metadata": {},
   "outputs": [],
   "source": [
    "sigmas = np.logspace(-1, 10, 11, base=2)\n",
    "lam_val = 1e-5\n",
    "num_cv = 3\n",
    "\n",
    "lcurves = dict()\n",
    "lcurves_mol = dict()\n",
    "\n",
    "# define number of training points for which MAE is calculated\n",
    "#set_sizes = #np.logspace(0, 9, 10, base=2).astype(int)\n",
    "set_sizes = [900]#np.concatenate((set_sizes, np.array([900])))\n",
    "\n",
    "for sigma in sigmas:\n",
    "    error_cv = []\n",
    "    error_std = []\n",
    "    \n",
    "    error_cv_mol = []\n",
    "    error_std_mol = []\n",
    "    \n",
    "    # calculate error for every training point size\n",
    "    for idx, tr_size in enumerate(set_sizes):\n",
    "        err, err_std, err_mol, err_std_mol = crossvalidate_moleculewise(all_local_reps, labels, tr_size, sigma, lam_val, num_cv, molecule_sizes)\n",
    "        error_cv.append(err)\n",
    "        error_std.append(err_std)\n",
    "        error_cv_mol.append(err_mol)\n",
    "        error_std_mol.append(err_std_mol)\n",
    "    \n",
    "    lcurves[f'sig_{sigma}'] = np.array([set_sizes, error_cv, error_std]).T\n",
    "    lcurves_mol[f'sig_{sigma}'] = np.array([set_sizes, error_cv_mol, error_std_mol]).T"
   ]
  },
  {
   "cell_type": "code",
   "execution_count": null,
   "metadata": {},
   "outputs": [],
   "source": [
    "fname = '/home/misa/projects/Atomic-Energies/data/lcurves/lcurves_atomisation/opt_sigma_all_atomic_atomisation.txt'\n",
    "np.savetxt(fname, lcurves)\n",
    "fname_mol = '/home/misa/projects/Atomic-Energies/data/lcurves/lcurves_atomisation/opt_sigma_all_atomic_atomisation_per_molecule.txt'\n",
    "np.savetxt(fname_mol, lcurves_mol)"
   ]
  },
  {
   "cell_type": "code",
   "execution_count": null,
   "metadata": {},
   "outputs": [],
   "source": [
    "fname = '/home/misa/projects/Atomic-Energies/data/lcurves/lcurves_atomisation/all_sigmas_all_atomic_atomisation'\n",
    "uq.save_obj(lcurves, fname)\n",
    "\n",
    "fname_mol = '/home/misa/projects/Atomic-Energies/data/lcurves/lcurves_atomisation/all_sigmas_all_atomic_atomisation_per_molecule'\n",
    "uq.save_obj(lcurves_mol, fname_mol)"
   ]
  },
  {
   "cell_type": "markdown",
   "metadata": {},
   "source": [
    "## Elementwise learning"
   ]
  },
  {
   "cell_type": "code",
   "execution_count": null,
   "metadata": {},
   "outputs": [],
   "source": [
    "import numpy as np\n",
    "import sklearn.model_selection as sk\n",
    "\n",
    "import sys\n",
    "sys.path.insert(0, '/home/misa/git_repositories/APDFT/prototyping/atomic_energies/')\n",
    "\n",
    "import qml_interface as qmi"
   ]
  },
  {
   "cell_type": "code",
   "execution_count": null,
   "metadata": {},
   "outputs": [],
   "source": [
    "def split_molecule_indices(num_data_pts, tr_size):\n",
    "    molecule_indices = np.arange(num_data_pts)\n",
    "    tr_indices_mol, test_indices_mol, dummy1, dummy2 = sk.train_test_split(molecule_indices,molecule_indices,train_size=tr_size)\n",
    "    return(tr_indices_mol, test_indices_mol)\n",
    "\n",
    "def sort_indices_by_element(indices, charges):\n",
    "    \"\"\"\n",
    "    list of charges; charges[i] is the charge of the atom with index i\n",
    "    \"\"\"\n",
    "    unique_charges = list(set(charges))\n",
    "    unique_charges.sort()\n",
    "    indices_by_charge = {k: [] for k in unique_charges}\n",
    "\n",
    "    for index in indices:\n",
    "        ch = charges[index]\n",
    "        indices_by_charge[ch].append(index)\n",
    "    return(indices_by_charge)\n",
    "\n",
    "def get_error_per_molecule(charges, labels_test_by_charge, molecule_sizes, prediction_by_charge, test_indices_by_charge, test_indices_mol):\n",
    "    # error per molecule\n",
    "    prediction_per_molecule = []\n",
    "    label_per_molecule = []\n",
    "\n",
    "    # get the predictions molecule wise\n",
    "    for mol_id in test_indices_mol:\n",
    "        # atomic indices for atoms in test molecule\n",
    "        atomic_indices_molecule = qmi.get_local_idx([mol_id], molecule_sizes)\n",
    "        # sort atomic indices of test molecule by charge (then I know where to look for position of index after splitting by charge)\n",
    "        atomic_indices_molecule_splitted_by_charge = sort_indices_by_element(atomic_indices_molecule, charges)\n",
    "        # find position of atomic indices in the *_by_charge lists\n",
    "        unique_charges = list(set(charges))\n",
    "        unique_charges.sort()\n",
    "        final_atomic_indices_by_charge = {k: [] for k in unique_charges}\n",
    "        for k in atomic_indices_molecule_splitted_by_charge.keys():\n",
    "            tmp_list = atomic_indices_molecule_splitted_by_charge[k]\n",
    "            for index in tmp_list:\n",
    "                final_atomic_indices_by_charge[k].append(test_indices_by_charge[k].index(index))\n",
    "        # get the prediction and the label\n",
    "        atomic_atomisation_energies_predicted = []\n",
    "        atomic_atomisation_energies_true = []\n",
    "        for k in final_atomic_indices_by_charge.keys():\n",
    "            tmp_list = final_atomic_indices_by_charge[k]\n",
    "            atomic_atomisation_energies_predicted.extend(prediction_by_charge[k][tmp_list])\n",
    "            atomic_atomisation_energies_true.extend(labels_test_by_charge[k][tmp_list])\n",
    "\n",
    "        atomic_atomisation_energies_predicted = np.array(atomic_atomisation_energies_predicted)\n",
    "        prediction_per_molecule.append(atomic_atomisation_energies_predicted)\n",
    "\n",
    "        atomic_atomisation_energies_true = np.array(atomic_atomisation_energies_true)\n",
    "        label_per_molecule.append(atomic_atomisation_energies_true)\n",
    "    return(prediction_per_molecule, label_per_molecule)\n",
    "\n",
    "def train_test_cycle_by_charge(all_local_reps, charges, labels, lam_val_by_charge, molecule_sizes, sigma_by_charge, tr_size):\n",
    "    \"\"\"\n",
    "    calculate MAE for a randomly selected training set for given hyperparameters\n",
    "    \"\"\"\n",
    "    ####################################\n",
    "    # split data in test and training\n",
    "    ####################################\n",
    "    \n",
    "    # first split molecules\n",
    "    data_size = len(molecule_sizes)\n",
    "    tr_indices_mol, test_indices_mol = split_molecule_indices(data_size, tr_size)\n",
    "    \n",
    "    # get atom indices from molecule indices\n",
    "    tr_indices_atom = qmi.get_local_idx(tr_indices_mol, molecule_sizes)\n",
    "    test_indices_atom = qmi.get_local_idx(test_indices_mol, molecule_sizes)\n",
    "    \n",
    "    # split atomic indices by charge\n",
    "    tr_indices_by_charge = sort_indices_by_element(tr_indices_atom, charges)\n",
    "    test_indices_by_charge = sort_indices_by_element(test_indices_atom, charges)\n",
    "    \n",
    "#     # debug\n",
    "#     for k in tr_indices_by_charge.keys():\n",
    "#         print(len(tr_indices_by_charge[k]))\n",
    "    \n",
    "    # sort training and test atomic representations by charge\n",
    "    reps_tr_by_charge = dict()\n",
    "    for k in tr_indices_by_charge.keys():\n",
    "        reps_tr_by_charge[k] = all_local_reps[tr_indices_by_charge[k]]\n",
    "\n",
    "    reps_test_by_charge = dict()\n",
    "    for k in test_indices_by_charge.keys():\n",
    "        reps_test_by_charge[k] = all_local_reps[test_indices_by_charge[k]]\n",
    "        \n",
    "    # sort training and test atomic labels by charge\n",
    "    labels_tr_by_charge = dict()\n",
    "    for k in tr_indices_by_charge.keys():\n",
    "        labels_tr_by_charge[k] = labels[tr_indices_by_charge[k]]\n",
    "\n",
    "    labels_test_by_charge = dict()\n",
    "    for k in test_indices_by_charge.keys():\n",
    "        labels_test_by_charge[k] = labels[test_indices_by_charge[k]]\n",
    "        \n",
    "        \n",
    "    ####################################\n",
    "    # train and test individual elements\n",
    "    ####################################\n",
    "    \n",
    "    # train elementwise\n",
    "    coeffs_by_charge = dict()\n",
    "    for k in reps_tr_by_charge.keys():\n",
    "        coeffs_by_charge[k] = qmi.train_kernel(reps_tr_by_charge[k], labels_tr_by_charge[k], sigma_by_charge[k], lam_val_by_charge[k])\n",
    "        \n",
    "    # predict elementwise\n",
    "    prediction_by_charge = dict()\n",
    "    for k in reps_tr_by_charge.keys():\n",
    "        prediction_by_charge[k] = qmi.predict_labels(reps_test_by_charge[k], reps_tr_by_charge[k], sigma_by_charge[k], coeffs_by_charge[k])\n",
    "        \n",
    "    # test error per atom\n",
    "    error_by_charge = dict()\n",
    "    for k in labels_test_by_charge.keys():\n",
    "        error_by_charge[k] = (np.abs(prediction_by_charge[k]-labels_test_by_charge[k])).mean()\n",
    "    \n",
    "    ####################################\n",
    "    # test per molecule\n",
    "    ####################################\n",
    "    # get moleculewise prediction\n",
    "    prediction_per_molecule, label_per_molecule = get_error_per_molecule(charges, labels_test_by_charge, molecule_sizes, prediction_by_charge, test_indices_by_charge, test_indices_mol)\n",
    "    # calculate error\n",
    "    error_per_molecule = []\n",
    "    for p, t in zip(prediction_per_molecule, label_per_molecule):\n",
    "        error_per_molecule.append((p-t).sum())\n",
    "    error_per_molecule = np.array(error_per_molecule)\n",
    "    mae_molecule = np.abs(error_per_molecule).mean()\n",
    "    \n",
    "    return(mae_molecule, error_by_charge)\n",
    "    "
   ]
  },
  {
   "cell_type": "code",
   "execution_count": null,
   "metadata": {},
   "outputs": [],
   "source": [
    "# data preparation\n",
    "paths = qmi.wrapper_alch_data()\n",
    "exclude='/home/misa/APDFT/prototyping/atomic_energies/results/slice_ve38/dsgdb9nsd_000829/atomic_energies_with_mic.txt'\n",
    "paths.remove(exclude)\n",
    "data, molecule_sizes = qmi.load_alchemy_data(paths)\n",
    "labels = qmi.generate_label_vector(data, molecule_sizes.sum(), value='atomisation')\n",
    "charges = qmi.generate_label_vector(data, molecule_sizes.sum(), value='charge')\n",
    "\n",
    "all_local_reps = qmi.generate_atomic_representations(data, molecule_sizes)"
   ]
  },
  {
   "cell_type": "code",
   "execution_count": null,
   "metadata": {},
   "outputs": [],
   "source": [
    "lam_val_by_charge = {1.0:1e-5, 6.0:1e-5, 7.0:1e-5, 8.0:1e-5}\n",
    "sigma_by_charge = {1.0:223, 6.0:223, 7.0:223, 8.0:223}\n",
    "tr_sizes = [64, 128, 256, 512, 900]\n",
    "num_cv = 3"
   ]
  },
  {
   "cell_type": "code",
   "execution_count": null,
   "metadata": {},
   "outputs": [],
   "source": [
    "lcurve_mol = []\n",
    "\n",
    "unique_charges = list(set(charges))\n",
    "unique_charges.sort()\n",
    "lcurve_by_charge = {k: [] for k in unique_charges}\n",
    "\n",
    "for tr_size in tr_sizes:\n",
    "    error_mol = []\n",
    "    unique_charges = list(set(charges))\n",
    "    unique_charges.sort()\n",
    "    error_by_charge = {k: [] for k in unique_charges}\n",
    "\n",
    "    for cv in range(num_cv):\n",
    "        error_mol_tmp, error_by_charge_tmp = train_test_cycle_by_charge(all_local_reps, charges, labels, lam_val_by_charge, molecule_sizes, sigma_by_charge, tr_size)\n",
    "        error_mol.append(error_mol_tmp)\n",
    "        for k in error_by_charge_tmp.keys():\n",
    "            error_by_charge[k].append(error_by_charge_tmp[k])\n",
    "\n",
    "    mae_mol = (np.array(error_mol)).mean()\n",
    "    std_mol = (np.array(error_mol)).std()\n",
    "    mae_by_charge = dict()\n",
    "    std_by_charge = dict()\n",
    "    for k in error_by_charge.keys():\n",
    "        mae_by_charge[k] = (np.array(error_by_charge[k])).mean()\n",
    "        std_by_charge[k] = (np.array(error_by_charge[k])).std()\n",
    "        \n",
    "    lcurve_mol.append([tr_size, mae_mol, std_mol])\n",
    "    for k in lcurve_by_charge.keys():\n",
    "        lcurve_by_charge[k].append([tr_size, mae_by_charge[k], std_by_charge[k]])"
   ]
  },
  {
   "cell_type": "code",
   "execution_count": null,
   "metadata": {
    "jupyter": {
     "source_hidden": true
    }
   },
   "outputs": [],
   "source": [
    "path_mol = '/home/misa/projects/Atomic-Energies/data/lcurves/lcurves_atomisation/atomic_atomisation_elementwise_per_molecule.txt'\n",
    "np.savetxt(path_mol, lcurve_mol)\n",
    "\n",
    "for k in lcurve_by_charge.keys():\n",
    "    path_atomic = f'/home/misa/projects/Atomic-Energies/data/lcurves/lcurves_atomisation/atomic_atomisation_elementwise_Z_{k}.txt'\n",
    "    np.savetxt(path_atomic, lcurve_by_charge[k])"
   ]
  },
  {
   "cell_type": "markdown",
   "metadata": {},
   "source": [
    "### Optimize hyperparameters"
   ]
  },
  {
   "cell_type": "code",
   "execution_count": null,
   "metadata": {},
   "outputs": [],
   "source": [
    "# data preparation\n",
    "paths = qmi.wrapper_alch_data()\n",
    "exclude='/home/misa/APDFT/prototyping/atomic_energies/results/slice_ve38/dsgdb9nsd_000829/atomic_energies_with_mic.txt'\n",
    "paths.remove(exclude)\n",
    "data, molecule_sizes = qmi.load_alchemy_data(paths)\n",
    "labels = qmi.generate_label_vector(data, molecule_sizes.sum(), value='atomisation')\n",
    "charges = qmi.generate_label_vector(data, molecule_sizes.sum(), value='charge')\n",
    "\n",
    "all_local_reps = qmi.generate_atomic_representations(data, molecule_sizes)"
   ]
  },
  {
   "cell_type": "code",
   "execution_count": null,
   "metadata": {},
   "outputs": [],
   "source": [
    "lam_val_by_charge = {1.0:1e-5, 6.0:1e-5, 7.0:1e-5, 8.0:1e-5}\n",
    "sigmas = np.logspace(-1, 10, 11, base=2)\n",
    "tr_size = 900\n",
    "num_cv = 3"
   ]
  },
  {
   "cell_type": "code",
   "execution_count": null,
   "metadata": {
    "jupyter": {
     "source_hidden": true
    }
   },
   "outputs": [],
   "source": [
    "lcurve_mol = []\n",
    "\n",
    "unique_charges = list(set(charges))\n",
    "unique_charges.sort()\n",
    "mae_sigma_by_charge = {k: [] for k in unique_charges}\n",
    "\n",
    "for s in sigmas:\n",
    "    sigma_by_charge = {1.0:s, 6.0:s, 7.0:s, 8.0:s}\n",
    "    error_mol = []\n",
    "    error_by_charge = {k: [] for k in unique_charges}\n",
    "\n",
    "    for cv in range(num_cv):\n",
    "        error_mol_tmp, error_by_charge_tmp = train_test_cycle_by_charge(all_local_reps, charges, labels, lam_val_by_charge, molecule_sizes, sigma_by_charge, tr_size)\n",
    "        error_mol.append(error_mol_tmp)\n",
    "        for k in error_by_charge_tmp.keys():\n",
    "            error_by_charge[k].append(error_by_charge_tmp[k])\n",
    "\n",
    "    mae_mol = (np.array(error_mol)).mean()\n",
    "    std_mol = (np.array(error_mol)).std()\n",
    "    mae_by_charge = dict()\n",
    "    std_by_charge = dict()\n",
    "    for k in error_by_charge.keys():\n",
    "        mae_by_charge[k] = (np.array(error_by_charge[k])).mean()\n",
    "        std_by_charge[k] = (np.array(error_by_charge[k])).std()\n",
    "        \n",
    "    lcurve_mol.append([s, mae_mol, std_mol])\n",
    "    for k in mae_sigma_by_charge.keys():\n",
    "        mae_sigma_by_charge[k].append([s, mae_by_charge[k], std_by_charge[k]])"
   ]
  },
  {
   "cell_type": "markdown",
   "metadata": {},
   "source": [
    "## FCHL - Without splitting by element"
   ]
  },
  {
   "cell_type": "code",
   "execution_count": null,
   "metadata": {
    "jupyter": {
     "source_hidden": true
    }
   },
   "outputs": [],
   "source": [
    "import numpy as np\n",
    "import glob\n",
    "import qml\n",
    "import sys\n",
    "sys.path.insert(0, '/home/misa/git_repositories/APDFT/prototyping/atomic_energies/')\n",
    "import qml_interface as qmi\n",
    "import qml_interface2 as qmi2\n",
    "import utils_qm as uq\n",
    "\n",
    "import sklearn.model_selection as sk\n",
    "import pickle\n",
    "\n",
    "from matplotlib import pyplot as plt"
   ]
  },
  {
   "cell_type": "code",
   "execution_count": null,
   "metadata": {
    "jupyter": {
     "source_hidden": true
    }
   },
   "outputs": [],
   "source": [
    "def wrapper_local_idx(global_idx, molecule_sizes):\n",
    "    item = qmi.get_local_idx([global_idx], molecule_sizes)\n",
    "    return item\n",
    "\n",
    "def get_mol_atom_map(molecule_sizes):\n",
    "    mol_atom_map = dict()\n",
    "    mol_ids = np.arange(len(molecule_sizes))\n",
    "    for mid in mol_ids:\n",
    "        item = wrapper_local_idx(mid, molecule_sizes)\n",
    "        mol_atom_map[mid] = item\n",
    "    return(mol_atom_map)\n",
    "\n",
    "def split_train_test_indices(molecule_sizes, tr_size):\n",
    "    \"\"\"\n",
    "    split indices of atoms in training and test, such that all atoms of a molecule are either in training or test set\n",
    "    \"\"\"\n",
    "    # split molecules by index\n",
    "    mol_ids = np.arange(len(molecule_sizes))\n",
    "    splitted_mol_ids = sk.train_test_split(mol_ids,mol_ids,train_size=tr_size)\n",
    "    mol_id_tr = splitted_mol_ids[0]\n",
    "    mol_id_test = splitted_mol_ids[1]\n",
    "    \n",
    "    # dictionary key:mol index, item:atom indices\n",
    "    mol_atom_map = get_mol_atom_map(molecule_sizes)\n",
    "    \n",
    "    indices_tr = []\n",
    "    for idx in mol_id_tr:\n",
    "        indices_tr.extend(mol_atom_map[idx])\n",
    "        \n",
    "    indices_test = []\n",
    "    for idx in mol_id_test:\n",
    "        indices_test.extend(mol_atom_map[idx])\n",
    "    return(indices_tr, indices_test, mol_id_test)\n",
    "\n",
    "def split_molecule_wise(reps, labels, tr_size, molecule_sizes):\n",
    "    \"\"\"\n",
    "    molecules_sizes: numpy 1D-array; contains the lengths of the molecules in the training data\n",
    "    \"\"\"\n",
    "    \n",
    "    # split only atomic indices\n",
    "    indices_tr, indices_test, mol_id_test = split_train_test_indices(molecule_sizes, tr_size)\n",
    "    \n",
    "    # split reps, labels into training/test using indices\n",
    "    reps_tr = reps[indices_tr]\n",
    "    reps_test = reps[indices_test]\n",
    "    labels_tr = labels[indices_tr]\n",
    "    labels_test = labels[indices_test]\n",
    "    \n",
    "    return(reps_tr, reps_test, labels_tr, labels_test, mol_id_test)\n",
    "\n",
    "def predict_labels_mol(reps_tr,sigma, coeffs, mol_id_test, mol_atom_map, reps):\n",
    "    labels = []\n",
    "    for i in mol_id_test:\n",
    "        reps_test_mol = reps[mol_atom_map[i]]\n",
    "        labels_in_mol = qmi.predict_labels(reps_test_mol, reps_tr, sigma, coeffs)\n",
    "        labels.append(labels_in_mol.sum())\n",
    "    return(labels)\n",
    "        \n",
    "def get_labels_mol_test(labels, mol_id_test, mol_atom_map):\n",
    "    # per molecule\n",
    "\n",
    "    labels_mol_test = []\n",
    "    for idx in mol_id_test:\n",
    "        idc = mol_atom_map[idx]\n",
    "        labels_mol_test.append(labels[idc].sum())\n",
    "    \n",
    "    return(np.array(labels_mol_test) )\n",
    "        \n",
    "\n",
    "def crossvalidate_moleculewise(reps, labels, tr_size, sigma, lam, num_cv, molecule_sizes):\n",
    "    errors = []\n",
    "    errors_per_mol = []\n",
    "    for cv in range(num_cv):\n",
    "        reps_tr, reps_test, labels_tr, labels_test, mol_id_test = split_molecule_wise(reps, labels, tr_size, molecule_sizes)\n",
    "        \n",
    "        coeffs = qmi.train_kernel(reps_tr, labels_tr, sigma, lam_val)\n",
    "        labels_predicted = qmi.predict_labels(reps_test, reps_tr, sigma, coeffs)\n",
    "        errors.append((np.abs(labels_predicted - labels_test)).mean())\n",
    "\n",
    "        \n",
    "        mol_atom_map = get_mol_atom_map(molecule_sizes)\n",
    "        labels_predicted_mol = predict_labels_mol(reps_tr,sigma, coeffs, mol_id_test, mol_atom_map, reps)\n",
    "        labels_mol_test = get_labels_mol_test(labels, mol_id_test, mol_atom_map)\n",
    "        errors_per_mol.append( (np.abs(labels_predicted_mol-labels_mol_test)).mean() )\n",
    "\n",
    "    errors = np.array(errors)\n",
    "    errors_per_mol = np.array(errors_per_mol)\n",
    "    return(errors.mean(), errors.std(), errors_per_mol.mean(), errors_per_mol.std())\n",
    "\n",
    "def predict_error_mol(labels_predicted, labels_test, mol_id_test, molecule_sizes):\n",
    "    \"\"\"\n",
    "    sums up the predicted atomic energies per molecule and calculates the difference to the true value for the atomisation energy per molecule\n",
    "    \"\"\"\n",
    "    error_mol = []\n",
    "    start = 0 # position in the arrray of all predicted labels\n",
    "    for i in mol_id_test:\n",
    "        length_mol = molecule_sizes[i] # length of test molecule\n",
    "        end = start + length_mol # index of last atomic energy that belongs to molecule i\n",
    "        energy_mol_predicted = labels_predicted[start:end].sum()\n",
    "        energy_mol_true = labels_test[start:end].sum()\n",
    "        error_mol.append(energy_mol_predicted - energy_mol_true)\n",
    "        start = end # move index to next molecule\n",
    "    return(np.array(error_mol))\n",
    "        \n",
    "def crossvalidate_fchl(full_kernel, labels, lam, molecule_sizes, num_cv, tr_size):\n",
    "    error_atomic = []\n",
    "    error_mol = []\n",
    "    for cv in range(num_cv):\n",
    "        # select random indices for training/testing\n",
    "        indices_tr, indices_test, mol_id_test = split_train_test_indices(molecule_sizes, tr_size)\n",
    "        \n",
    "        # use this if data is not separated into training and test molecules but atoms in training and test can belong to same molecule\n",
    "        #all_indices = np.arange(molecule_sizes.sum())\n",
    "        #splitted_atomic_ids = sk.train_test_split(all_indices,all_indices,train_size=tr_size)\n",
    "        #indices_tr = splitted_atomic_ids[0]\n",
    "        #indices_test = splitted_atomic_ids[1]\n",
    "        \n",
    "        # split labels\n",
    "        labels_tr = labels[indices_tr]\n",
    "        labels_test = labels[indices_test]\n",
    "        # pick sub kernel for training/testing\n",
    "        tr_kernel, test_kernel = qmi.split_kernel(full_kernel, indices_tr, indices_test)\n",
    "        # calculate coefficients\n",
    "        reg_kernel = tr_kernel + np.identity(len(tr_kernel))*lam_val\n",
    "        coeffs = qml.math.cho_solve(reg_kernel, labels_tr)\n",
    "        # predict labels\n",
    "        labels_predicted = np.dot(test_kernel, coeffs)\n",
    "        error_atomic.append((np.abs(labels_predicted - labels_test)).mean())\n",
    "        \n",
    "        # predicition per molecule\n",
    "        mae_mol = (np.abs(predict_error_mol(labels_predicted, labels_test, mol_id_test, molecule_sizes))).mean()\n",
    "        error_mol.append(mae_mol)\n",
    "        #error_mol.append(0.0)\n",
    "        \n",
    "    error_atomic = np.array(error_atomic)\n",
    "    error_mol = np.array(error_mol)\n",
    "    return(error_atomic.mean(), error_atomic.std(), error_mol.mean(), error_mol.std()) # return mean error after cv"
   ]
  },
  {
   "cell_type": "markdown",
   "metadata": {},
   "source": [
    "### Learning curves"
   ]
  },
  {
   "cell_type": "code",
   "execution_count": null,
   "metadata": {
    "jupyter": {
     "source_hidden": true
    }
   },
   "outputs": [],
   "source": [
    "# data preparation\n",
    "data, molecule_sizes = qmi.load_alchemy_data(qmi.wrapper_alch_data())\n",
    "labels = qmi.generate_label_vector(data, molecule_sizes.sum(), value='atomic')\n",
    "\n",
    "lam_val = 1e-5\n",
    "sigma = 0.05\n",
    "num_cv = 10\n",
    "\n",
    "kernel = np.load(f'/home/misa/APDFT/prototyping/atomic_energies/results/analyse_learning/FCHL/kernels_batch2/full_kernel_sig_{sigma}.npy')"
   ]
  },
  {
   "cell_type": "code",
   "execution_count": null,
   "metadata": {
    "jupyter": {
     "source_hidden": true
    }
   },
   "outputs": [],
   "source": [
    "# define number of training points for which MAE is calculated\n",
    "set_sizes = np.logspace(0, 9, 10, base=2).astype(int)\n",
    "set_sizes = np.concatenate((set_sizes, np.array([900])))\n",
    "\n",
    "error_cv_atomic = []\n",
    "error_cv_std_atomic = []\n",
    "\n",
    "error_cv_mol = []\n",
    "error_cv_std_mol = []\n",
    "\n",
    "for tr_size in set_sizes:\n",
    "    # calculate error for every training point size\n",
    "    error_atomic, error_std_atomic, error_mol, error_std_mol = crossvalidate_fchl(kernel, labels, lam_val, molecule_sizes, num_cv, tr_size)\n",
    "    \n",
    "    error_cv_atomic.append(error_atomic)\n",
    "    error_cv_std_atomic.append(error_std_atomic)\n",
    "    error_cv_mol.append(error_mol)\n",
    "    error_cv_std_mol.append(error_std_mol)\n",
    "    \n",
    "lcurves = np.array([set_sizes, error_cv_atomic, error_cv_std_atomic]).T\n",
    "lcurves_mol = np.array([set_sizes, error_cv_mol, error_cv_std_mol]).T"
   ]
  },
  {
   "cell_type": "code",
   "execution_count": null,
   "metadata": {
    "jupyter": {
     "source_hidden": true
    }
   },
   "outputs": [],
   "source": [
    "np.savetxt('/home/misa/projects/Atomic-Energies/data/lcurves/lcurves_atomic/fchl/lcurve_mol_fchl.txt', lcurves_mol)\n",
    "np.savetxt('/home/misa/projects/Atomic-Energies/data/lcurves/lcurves_atomic/fchl/lcurve_atomic_fchl.txt', lcurves)"
   ]
  },
  {
   "cell_type": "markdown",
   "metadata": {},
   "source": [
    "### Hyperparameter Optimization"
   ]
  },
  {
   "cell_type": "code",
   "execution_count": null,
   "metadata": {
    "jupyter": {
     "source_hidden": true
    }
   },
   "outputs": [],
   "source": [
    "# data preparation\n",
    "#\"/home/misa/APDFT/prototyping/atomic_energies/results/slice_ve38/batch1_paths_atomic_energies_files\"\n",
    "data, molecule_sizes = qmi.load_alchemy_data(qmi.wrapper_alch_data())\n",
    "labels = qmi.generate_label_vector(data, molecule_sizes.sum(), value='atomisation')"
   ]
  },
  {
   "cell_type": "markdown",
   "metadata": {},
   "source": [
    "#### Caculate kernels"
   ]
  },
  {
   "cell_type": "code",
   "execution_count": null,
   "metadata": {
    "jupyter": {
     "source_hidden": true
    }
   },
   "outputs": [],
   "source": [
    "# calculates full atomic kernel\n",
    "reps =[]\n",
    "for i in zip(data, molecule_sizes):\n",
    "    rep_fchl = qml.fchl.generate_representation(i[0][:, 1:4], i[0][:,0], max_size=i[1])\n",
    "    reps.append(rep_fchl)"
   ]
  },
  {
   "cell_type": "code",
   "execution_count": null,
   "metadata": {
    "jupyter": {
     "source_hidden": true
    }
   },
   "outputs": [],
   "source": [
    "sigma = 1.0\n",
    "out = qmi2.generate_fchl_atomic_kernel(reps, molecule_sizes, [sigma])\n",
    "np.save(f'/home/misa/APDFT/prototyping/atomic_energies/results/analyse_learning/FCHL/kernels_batch2/full_kernel_sig_{sigma}.npy', out)"
   ]
  },
  {
   "cell_type": "markdown",
   "metadata": {},
   "source": [
    "#### Calculate ML Error"
   ]
  },
  {
   "cell_type": "code",
   "execution_count": null,
   "metadata": {
    "jupyter": {
     "source_hidden": true
    }
   },
   "outputs": [],
   "source": [
    "# find best sigma\n",
    "sigmas = [0.01, 0.05, 0.1, 1.0]\n",
    "\n",
    "lam_val = 1e-5\n",
    "num_cv = 3\n",
    "\n",
    "# define number of training points for which MAE is calculated\n",
    "tr_size = 900\n",
    "\n",
    "mae_sigma = []\n",
    "\n",
    "for sigma in sigmas:#sigmas:\n",
    "    # load kernel\n",
    "    #kernel = np.loadtxt('/home/misa/APDFT/prototyping/atomic_energies/results/analyse_learning/FCHL/kernels/full_kernel_sig0.1')\n",
    "    kernel = np.load(f'/home/misa/APDFT/prototyping/atomic_energies/results/analyse_learning/FCHL/kernels_batch2/full_kernel_sig_{sigma}.npy')\n",
    "    # calculate error for every training point size\n",
    "    error_atomic, error_mol = crossvalidate_fchl(kernel, labels, lam_val, molecule_sizes, num_cv, tr_size)\n",
    "    mae_sigma.append(np.array([sigma, error_atomic, error_mol]).T)"
   ]
  },
  {
   "cell_type": "code",
   "execution_count": null,
   "metadata": {
    "jupyter": {
     "source_hidden": true
    }
   },
   "outputs": [],
   "source": [
    "mae_sigma"
   ]
  },
  {
   "cell_type": "code",
   "execution_count": null,
   "metadata": {
    "jupyter": {
     "source_hidden": true
    }
   },
   "outputs": [],
   "source": [
    "# alchpot\n",
    "[array([0.01     , 0.0611338, 0.       ]),\n",
    " array([0.05      , 0.05766966, 0.        ]),\n",
    " array([0.1      , 0.0623095, 0.       ]),\n",
    " array([1.        , 0.07633467, 0.        ])]"
   ]
  },
  {
   "cell_type": "code",
   "execution_count": null,
   "metadata": {
    "jupyter": {
     "source_hidden": true
    }
   },
   "outputs": [],
   "source": [
    "# atomic\n",
    "[array([0.01      , 0.22631897, 0.        ]),\n",
    " array([0.05      , 0.18427488, 0.        ]),\n",
    " array([0.1       , 0.19909724, 0.        ]),\n",
    " array([1.        , 0.25608059, 0.        ])]"
   ]
  },
  {
   "cell_type": "code",
   "execution_count": null,
   "metadata": {
    "jupyter": {
     "source_hidden": true
    }
   },
   "outputs": [],
   "source": [
    "# atomic atomisation no splitting of molecules\n",
    "[array([0.01      , 0.78148736, 0.        ]),\n",
    " array([0.05      , 0.69312457, 0.        ]),\n",
    " array([0.1       , 0.71856729, 0.        ]),\n",
    " array([1.        , 0.78396907, 0.        ])]"
   ]
  },
  {
   "cell_type": "code",
   "execution_count": null,
   "metadata": {
    "jupyter": {
     "source_hidden": true
    }
   },
   "outputs": [],
   "source": [
    "# split molecules"
   ]
  },
  {
   "cell_type": "code",
   "execution_count": null,
   "metadata": {
    "jupyter": {
     "source_hidden": true
    }
   },
   "outputs": [],
   "source": [
    "# alchpot\n",
    "[array([0.01      , 0.06103243, 0.38511186]),\n",
    " array([0.05      , 0.05869055, 0.40297199]),\n",
    " array([0.1       , 0.07368742, 0.61798139]),\n",
    " array([1.        , 0.0799395 , 0.66399722])]"
   ]
  },
  {
   "cell_type": "code",
   "execution_count": null,
   "metadata": {
    "jupyter": {
     "source_hidden": true
    }
   },
   "outputs": [],
   "source": [
    "# atomic\n",
    "[array([0.01      , 0.25415568, 1.6960752 ]),\n",
    " array([0.05      , 0.17782118, 1.30324611]),\n",
    " array([0.1       , 0.19927951, 1.63771204]),\n",
    " array([1.        , 0.25477233, 2.10446111])]"
   ]
  },
  {
   "cell_type": "code",
   "execution_count": null,
   "metadata": {
    "jupyter": {
     "source_hidden": true
    }
   },
   "outputs": [],
   "source": [
    "# atomisation\n",
    "[array([0.01      , 0.80012732, 5.31276355]),\n",
    " array([0.05      , 0.68532098, 5.60913916]),\n",
    " array([0.1       , 0.79855564, 6.43504276]),\n",
    " array([1.        , 0.75896304, 6.82049388])]"
   ]
  }
 ],
 "metadata": {
  "kernelspec": {
   "display_name": "Python [conda env:atomic-energies]",
   "language": "python",
   "name": "conda-env-atomic-energies-py"
  },
  "language_info": {
   "codemirror_mode": {
    "name": "ipython",
    "version": 3
   },
   "file_extension": ".py",
   "mimetype": "text/x-python",
   "name": "python",
   "nbconvert_exporter": "python",
   "pygments_lexer": "ipython3",
   "version": "3.7.3"
  }
 },
 "nbformat": 4,
 "nbformat_minor": 4
}
