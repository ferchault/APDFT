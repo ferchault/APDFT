{
 "cells": [
  {
   "cell_type": "markdown",
   "metadata": {},
   "source": [
    "# Analysis of the atomic properties\n",
    "- Distribution of atomic properties (alchemical potential, atomic energy, atomisation energy after shifting, rescaling to B3LYP values)\n",
    "- Atomic distributions split up by element\n",
    "- Comparison of atomic distributions to distribution of atomisation energies of the full molecules \n",
    "- Relation between distribution and structural environment"
   ]
  },
  {
   "cell_type": "code",
   "execution_count": null,
   "metadata": {},
   "outputs": [],
   "source": [
    "import numpy as np\n",
    "import qml\n",
    "import sys\n",
    "sys.path.insert(0, '/home/misa/APDFT/prototyping/atomic_energies/')\n",
    "import qml_interface as qmi\n",
    "import scipy as sc\n",
    "import itertools as it\n",
    "\n",
    "from matplotlib import pyplot as plt\n",
    "\n",
    "# %matplotlib notebook\n",
    "def normalization_factors(dict_split):\n",
    "    norm_factors = dict()\n",
    "    total_length = 0\n",
    "    for k in dict_split.keys():\n",
    "        norm_factors[k] = len(dict_split[k][0])\n",
    "        total_length += len(dict_split[k][0])\n",
    "        \n",
    "    for k in norm_factors.keys():\n",
    "        norm_factors[k] /= total_length\n",
    "    return(norm_factors)"
   ]
  },
  {
   "cell_type": "code",
   "execution_count": null,
   "metadata": {},
   "outputs": [],
   "source": [
    "plt.rcParams['font.size'] = 20"
   ]
  },
  {
   "cell_type": "markdown",
   "metadata": {},
   "source": [
    "## Distribution of atomic properties - $\\mu, E_I, E_I^{\\rm{at}}$"
   ]
  },
  {
   "cell_type": "code",
   "execution_count": null,
   "metadata": {},
   "outputs": [],
   "source": [
    "# labels\n",
    "data, molecule_size = qmi.load_alchemy_data(qmi.wrapper_alch_data())\n",
    "\n",
    "atomisation_en = qmi.generate_label_vector(data, molecule_size.sum(), value='atomisation')\n",
    "atomic_en = qmi.generate_label_vector(data, molecule_size.sum(), value='atomic')\n",
    "alch_pot = qmi.generate_label_vector(data, molecule_size.sum(), value='alch_pot')\n",
    "charges = qmi.generate_label_vector(data, molecule_size.sum(), value='charge')"
   ]
  },
  {
   "cell_type": "code",
   "execution_count": null,
   "metadata": {},
   "outputs": [],
   "source": [
    "kde_atomic_atomisation_all = sc.stats.gaussian_kde(atomisation_en)\n",
    "x_atomic_atomisation_all = np.linspace(np.amin(atomisation_en)-2.5, np.amax(atomisation_en)+2.5, 500)\n",
    "\n",
    "kde_atomic_all = sc.stats.gaussian_kde(atomic_en)\n",
    "x_atomic_all = np.linspace(np.amin(atomic_en)-2.5, np.amax(atomic_en)+10.0, 1000)\n",
    "\n",
    "kde_alch_all = sc.stats.gaussian_kde(alch_pot)\n",
    "x_alch_all = np.linspace(np.amin(alch_pot)-0.5, np.amax(alch_pot)+0.5, 500)"
   ]
  },
  {
   "cell_type": "code",
   "execution_count": null,
   "metadata": {},
   "outputs": [],
   "source": [
    "# histograms\n",
    "alchpot_hist = np.histogram(alch_pot, bins='auto')\n",
    "atomic_hist = np.histogram(atomic_en, bins=1000)\n",
    "atomic_atomisation_hist = np.histogram(atomisation_en, bins='fd')"
   ]
  },
  {
   "cell_type": "code",
   "execution_count": null,
   "metadata": {},
   "outputs": [],
   "source": [
    "fig, ax = plt.subplots(1,3)\n",
    "plt.rcParams['font.size'] = 15\n",
    "ax[0].plot(x_atomic_atomisation_all, kde_atomic_atomisation_all.evaluate(x_atomic_atomisation_all))\n",
    "ax[1].plot(x_atomic_all, kde_atomic_all.evaluate(x_atomic_all))\n",
    "ax[2].plot(x_alch_all, kde_alch_all.evaluate(x_alch_all))\n",
    "\n",
    "ax[0].set_ylabel('KDE')\n",
    "ax[0].set_xlabel(r'$E_{I}^{\\rm{at}}$ (Ha)')\n",
    "ax[1].set_xlabel(r'$E_{I}$ (Ha)')\n",
    "ax[2].set_xlabel(r'$\\mu$ (Ha)')\n",
    "\n",
    "for i in range(3):#it.product(it.product(range(3), range(4))):\n",
    "    ax[i].set_yticks([],[])\n",
    "\n",
    "directory = '/home/misa/projects/Atomic-Energies/figures/machine_learning/analysis_atomic_properties/'\n",
    "# plt.savefig(directory+'kdes_all_elements_atomic_props.png', bbox_inches='tight')"
   ]
  },
  {
   "cell_type": "code",
   "execution_count": null,
   "metadata": {},
   "outputs": [],
   "source": [
    "fig, ax = plt.subplots(1,3)\n",
    "plt.rcParams['font.size'] = 15\n",
    "ax[0].plot(alchpot_hist[1][:-1], alchpot_hist[0])\n",
    "ax[1].plot(atomic_hist[1][:-1], atomic_hist[0])\n",
    "ax[2].plot(atomic_atomisation_hist[1][:-1], atomic_atomisation_hist[0])\n",
    "\n",
    "ax[0].set_ylabel('Distribution')\n",
    "ax[0].set_xlabel(r'$\\mu$ (Ha)')\n",
    "ax[1].set_xlabel(r'$E_{I}$ (Ha)')\n",
    "ax[2].set_xlabel(r'$E_{I}^{\\rm{at}}$ (Ha)')\n",
    "\n",
    "for i in range(3):#it.product(it.product(range(3), range(4))):\n",
    "    ax[i].set_yticks([],[])\n",
    "\n",
    "directory = '/home/misa/projects/Atomic-Energies/figures/machine_learning/analysis_atomic_properties/'\n",
    "# plt.savefig(directory+'kdes_all_elements_atomic_props.png', bbox_inches='tight')"
   ]
  },
  {
   "cell_type": "markdown",
   "metadata": {},
   "source": [
    "### Distributions split up by element"
   ]
  },
  {
   "cell_type": "code",
   "execution_count": null,
   "metadata": {},
   "outputs": [],
   "source": [
    "idc_by_charge = qmi.partition_idx_by_charge(charges)\n",
    "kdes_atomic = {1:0, 6:0, 7:0, 8:0}\n",
    "kdes_alch_pot = {1:0, 6:0, 7:0, 8:0}\n",
    "kdes_atomic_atomisation = {1:0, 6:0, 7:0, 8:0}\n",
    "\n",
    "\n",
    "\n",
    "for k in kdes_atomic.keys():\n",
    "    kdes_atomic[k] = sc.stats.gaussian_kde(atomic_en[idc_by_charge[k]])\n",
    "    kdes_alch_pot[k] = sc.stats.gaussian_kde(alch_pot[idc_by_charge[k]])\n",
    "    kdes_atomic_atomisation[k] = sc.stats.gaussian_kde(atomisation_en[idc_by_charge[k]])\n",
    "\n",
    "x_alch = {1:0, 6:0, 7:0, 8:0}\n",
    "x_atomic = {1:0, 6:0, 7:0, 8:0}\n",
    "x_atomic_atomisation = {1:0, 6:0, 7:0, 8:0}\n",
    "for k in x_atomic.keys():\n",
    "    if k == 1:\n",
    "        x_alch[k] = np.linspace(np.amin(alch_pot[idc_by_charge[k]])-0.5, np.amax(alch_pot[idc_by_charge[k]])+0.5, 500)\n",
    "        x_atomic[k] = np.linspace(np.amin(atomic_en[idc_by_charge[k]])-0.5, np.amax(atomic_en[idc_by_charge[k]])+0.5, 500)\n",
    "        x_atomic_atomisation[k] = np.linspace(np.amin(atomisation_en[idc_by_charge[k]])-0.5, np.amax(atomisation_en[idc_by_charge[k]])+1.0, 500)\n",
    "    else:\n",
    "        x_atomic[k] = np.linspace(np.amin(atomic_en[idc_by_charge[k]])-2.5, np.amax(atomic_en[idc_by_charge[k]])+2.5, 500)\n",
    "        x_atomic_atomisation[k] = np.linspace(np.amin(atomisation_en[idc_by_charge[k]])-2.5, np.amax(atomisation_en[idc_by_charge[k]])+2.5, 500)\n",
    "        x_alch[k] = np.linspace(np.amin(alch_pot[idc_by_charge[k]])-0.5, np.amax(alch_pot[idc_by_charge[k]])+0.5, 500)"
   ]
  },
  {
   "cell_type": "code",
   "execution_count": null,
   "metadata": {},
   "outputs": [],
   "source": [
    "plt.rcParams['figure.figsize'] = [18.0, 10.0]\n",
    "plt.rcParams['font.size'] = 14\n",
    "\n",
    "fig, ax = plt.subplots(3,4)\n",
    "\n",
    "\n",
    "# ax[0,0].plot(x_alch[1], kdes_alch_pot[1].evaluate(x_alch[1]), label=r'H $\\mu$', color='tab:blue' )\n",
    "ax[0,0].plot(x_alch[1], kdes_alch_pot[1].evaluate(x_alch[1]), label=r'H', color='tab:blue' )\n",
    "\n",
    "ax[0,1].plot(x_alch[6], kdes_alch_pot[6].evaluate(x_alch[6]), label='C', color='tab:orange' )\n",
    "ax[0,2].plot(x_alch[7], kdes_alch_pot[7].evaluate(x_alch[7]), label='N', color='tab:green' )\n",
    "ax[0,3].plot(x_alch[8], kdes_alch_pot[8].evaluate(x_alch[8]), label='O', color='tab:red' )\n",
    "\n",
    "# ax[1,0].plot(x_atomic[1], kdes_atomic[1].evaluate(x_atomic[1]), label=r'H $E_I$', color='tab:blue' )\n",
    "ax[1,0].plot(x_atomic[1], kdes_atomic[1].evaluate(x_atomic[1]), label=r'H', color='tab:blue' )\n",
    "\n",
    "ax[1,1].plot(x_atomic[6], kdes_atomic[6].evaluate(x_atomic[6]), label='C', color='tab:orange' )\n",
    "ax[1,2].plot(x_atomic[7], kdes_atomic[7].evaluate(x_atomic[7]), label='N', color='tab:green' )\n",
    "ax[1,3].plot(x_atomic[8], kdes_atomic[8].evaluate(x_atomic[8]), label='O', color='tab:red' )\n",
    "\n",
    "\n",
    "# ax[2,0].plot(x_atomic_atomisation[1], kdes_atomic_atomisation[1].evaluate(x_atomic_atomisation[1]), label=r'H $E_I^{\\rm{at}}$', color='tab:blue')\n",
    "ax[2,0].plot(x_atomic_atomisation[1], kdes_atomic_atomisation[1].evaluate(x_atomic_atomisation[1]), label=r'H', color='tab:blue')\n",
    "\n",
    "ax[2,1].plot(x_atomic_atomisation[6], kdes_atomic_atomisation[6].evaluate(x_atomic_atomisation[6]), label='C', color='tab:orange')\n",
    "ax[2,2].plot(x_atomic_atomisation[7], kdes_atomic_atomisation[7].evaluate(x_atomic_atomisation[7]), label='N', color='tab:green')\n",
    "ax[2,3].plot(x_atomic_atomisation[8], kdes_atomic_atomisation[8].evaluate(x_atomic_atomisation[8]), label='O', color='tab:red')\n",
    "\n",
    "for i in list(it.product(range(3), range(4))):#it.product(it.product(range(3), range(4))):\n",
    "    ax[i].set_yticks([],[])\n",
    "    \n",
    "for i in it.product(range(3), range(4)):#it.product(it.product(range(3), range(4))):\n",
    "    ax[i].legend()"
   ]
  },
  {
   "cell_type": "markdown",
   "metadata": {},
   "source": [
    "## Histograms"
   ]
  },
  {
   "cell_type": "code",
   "execution_count": null,
   "metadata": {},
   "outputs": [],
   "source": [
    "# histograms\n",
    "bins_alchpot = 100\n",
    "bin_mode = 500\n",
    "bins_at_at = 100\n",
    "# all elements together\n",
    "hist_alchpot = np.histogram(alch_pot, bins=bins_alchpot, range=(np.amin(alch_pot[idc_by_charge[8]]), np.amax(alch_pot[idc_by_charge[1]])))\n",
    "hist_atomic = np.histogram(atomic_en, bins=bin_mode)\n",
    "hist_atomic_atomisation = np.histogram(atomisation_en, bins='auto')\n",
    "\n",
    "# split by element\n",
    "hist_alchpot_split = {1:0, 6:0, 7:0, 8:0}\n",
    "hist_atomic_split = {1:0, 6:0, 7:0, 8:0}\n",
    "hist_atomic_atomisation_split = {1:0, 6:0, 7:0, 8:0}\n",
    "\n",
    "for k in hist_atomic_split.keys():\n",
    "    hist_alchpot_split[k] = np.histogram(alch_pot[idc_by_charge[k]], bins=bins_alchpot, range=(np.amin(alch_pot[idc_by_charge[8]]), np.amax(alch_pot[idc_by_charge[1]])))\n",
    "    hist_atomic_split[k] = np.histogram(atomic_en[idc_by_charge[k]], bins=bin_mode, range=(np.amin(atomic_en[idc_by_charge[8]]), np.amax(atomic_en[idc_by_charge[1]])))\n",
    "    hist_atomic_atomisation_split[k] = np.histogram(atomisation_en[idc_by_charge[k]], bins=bins_at_at, range=(np.amin(atomisation_en), np.amax(atomisation_en)) )"
   ]
  },
  {
   "cell_type": "markdown",
   "metadata": {},
   "source": [
    "#### Only all elements together"
   ]
  },
  {
   "cell_type": "code",
   "execution_count": null,
   "metadata": {},
   "outputs": [],
   "source": [
    "plt.rcParams['font.size'] = 15\n",
    "plt.rcParams['figure.figsize'] = [12,4]\n",
    "fig, ax = plt.subplots(1,3)\n",
    "\n",
    "ax[0].plot(hist_alchpot[1][:-1], hist_alchpot[0], color='black')\n",
    "ax[1].plot(atomic_hist[1][:-1], atomic_hist[0], color='black')\n",
    "ax[2].plot(hist_atomic_atomisation[1][:-1], hist_atomic_atomisation[0], color='black')\n",
    "\n",
    "ax[0].set_ylabel('Counts')\n",
    "ax[0].set_xlabel(r'$E_{I}^{\\rm{at}}$ (Ha)')\n",
    "ax[1].set_xlabel(r'$E_{I}$ (Ha)')\n",
    "ax[2].set_xlabel(r'$\\mu$ (Ha)')\n",
    "\n",
    "for i in range(3):#it.product(it.product(range(3), range(4))):\n",
    "    ax[i].set_yticks([],[])\n",
    "\n",
    "directory = '/home/misa/projects/Atomic-Energies/figures/machine_learning/analysis_atomic_properties/'\n",
    "# plt.savefig(directory+'kdes_all_elements_atomic_props.png', bbox_inches='tight')\n",
    "plt.savefig('/home/misa/projects/phd_symposium_2021/figures/atomic_property_distributions_no_splitting.png', bbox_inches='tight')"
   ]
  },
  {
   "cell_type": "code",
   "execution_count": null,
   "metadata": {},
   "outputs": [],
   "source": [
    "plt.rcParams['font.size'] = 15\n",
    "plt.rcParams['figure.figsize'] = [3,4]\n",
    "fig, ax = plt.subplots(1,1)\n",
    "\n",
    "ax.plot(hist_alchpot[1][:-1], hist_alchpot[0], color='black')\n",
    "\n",
    "ax.set_ylabel('Counts')\n",
    "ax.set_xlabel(r'$\\mu$ (Ha)')\n",
    "\n",
    "for i in range(3):#it.product(it.product(range(3), range(4))):\n",
    "    ax.set_yticks([],[])\n",
    "\n",
    "# plt.savefig(directory+'kdes_all_elements_atomic_props.png', bbox_inches='tight')\n",
    "plt.savefig('/home/misa/projects/phd_symposium_2021/figures/alchpot_distributions_no_splitting.png', bbox_inches='tight')"
   ]
  },
  {
   "cell_type": "code",
   "execution_count": null,
   "metadata": {},
   "outputs": [],
   "source": [
    "plt.rcParams['font.size'] = 15\n",
    "plt.rcParams['figure.figsize'] = [3,4]\n",
    "fig, ax = plt.subplots(2,1, sharex=True)\n",
    "\n",
    "fig.subplots_adjust(hspace=0.1)\n",
    "\n",
    "ax[0].plot(hist_atomic[1][:-1], hist_atomic[0], color='black')\n",
    "\n",
    "ax[1].plot(hist_atomic[1][:-1], hist_atomic[0], color='black')\n",
    "\n",
    "\n",
    "ax[0].set_ylim((1200, np.amax(hist_atomic_split[1][0]*1.2)*1.1))\n",
    "ax[1].set_ylim((0, 150))\n",
    "# hide the spines between ax and ax2\n",
    "ax[0].spines['bottom'].set_visible(False)\n",
    "ax[1].spines['top'].set_visible(False)\n",
    "ax[0].xaxis.tick_top()\n",
    "ax[0].tick_params(labeltop=False)  # don't put tick labels at the top\n",
    "ax[1].xaxis.tick_bottom()\n",
    "d = .015  # how big to make the diagonal lines in axes coordinates\n",
    "# arguments to pass to plot, just so we don't keep repeating them\n",
    "kwargs = dict(transform=ax[0].transAxes, color='k', clip_on=False)\n",
    "ax[0].plot((-d, +d), (-d, +d), **kwargs)        # top-left diagonal\n",
    "ax[0].plot((1 - d, 1 + d), (-d, +d), **kwargs)  # top-right diagonal\n",
    "\n",
    "kwargs.update(transform=ax[1].transAxes)  # switch to the bottom axes\n",
    "ax[1].plot((-d, +d), (1 - d, 1 + d), **kwargs)  # bottom-left diagonal\n",
    "ax[1].plot((1 - d, 1 + d), (1 - d, 1 + d), **kwargs)  # bottom-right diagonal\n",
    "\n",
    "ax[0].set_yticks([])\n",
    "ax[1].set_yticks([])\n",
    "\n",
    "# formatting\n",
    "ax[1].set_xlim((-65,-4))\n",
    "    \n",
    "#ax[1].set_ylabel('Counts', ha='left')\n",
    "\n",
    "ax[1].set_xlabel(r'$E_{I}$ (Ha)')\n",
    "plt.savefig('/home/misa/projects/phd_symposium_2021/figures/atomic_en_distributions_no_splitting.png', bbox_inches='tight')"
   ]
  },
  {
   "cell_type": "code",
   "execution_count": null,
   "metadata": {},
   "outputs": [],
   "source": [
    "plt.rcParams['font.size'] = 15\n",
    "plt.rcParams['figure.figsize'] = [3,4]\n",
    "fig, ax = plt.subplots(1,1)\n",
    "\n",
    "ax.plot(hist_atomic_atomisation[1][:-1]*627.5, hist_atomic_atomisation[0], color='black')\n",
    "\n",
    "ax.set_ylabel('Counts')\n",
    "ax.set_xlabel(r'$E^{\\rm at}_I$ (Ha)')\n",
    "\n",
    "for i in range(3):#it.product(it.product(range(3), range(4))):\n",
    "    ax.set_yticks([],[])\n",
    "\n",
    "# plt.savefig(directory+'kdes_all_elements_atomic_props.png', bbox_inches='tight')\n",
    "#plt.savefig('/home/misa/projects/phd_symposium_2021/figures/atomic_atomisation_distributions_no_splitting.png', bbox_inches='tight')"
   ]
  },
  {
   "cell_type": "code",
   "execution_count": null,
   "metadata": {},
   "outputs": [],
   "source": [
    "plt.rcParams['font.size'] = 15\n",
    "plt.rcParams['figure.figsize'] = [12,4]\n",
    "fig, ax = plt.subplots(1,3)\n",
    "\n",
    "ax[0].plot(hist_alchpot_split[1][1][:-1], hist_alchpot_split[1][0], label=r'H', color='tab:blue' )\n",
    "ax[0].plot(hist_alchpot_split[6][1][:-1], hist_alchpot_split[6][0], label=r'C', color='tab:orange' )\n",
    "ax[0].plot(hist_alchpot_split[7][1][:-1], hist_alchpot_split[7][0], label=r'N', color='tab:green' )\n",
    "ax[0].plot(hist_alchpot_split[8][1][:-1], hist_alchpot_split[8][0], label=r'N', color='tab:red' )\n",
    "ax[0].plot(hist_alchpot[1][:-1], hist_alchpot[0], '--', color='black')\n",
    "# formatting\n",
    "ax[0].set_xticks(np.arange(-8, -4, 1))\n",
    "\n",
    "ax[1].plot(hist_atomic_split[1][1][:-1], hist_atomic_split[1][0]*1.2, label=r'H', color='tab:blue' )\n",
    "ax[1].plot(hist_atomic_split[6][1][:-1], hist_atomic_split[6][0], label=r'C', color='tab:orange' )\n",
    "ax[1].plot(hist_atomic_split[7][1][:-1], hist_atomic_split[7][0], label=r'N', color='tab:green' )\n",
    "ax[1].plot(hist_atomic_split[8][1][:-1], hist_atomic_split[8][0], label=r'N', color='tab:red' )\n",
    "ax[1].plot(hist_atomic[1][:-1], hist_atomic[0], '--', color='black')\n",
    "# formatting\n",
    "#ax[1].set_xticks(np.arange(-8, -4, 1))\n",
    "ax[1].set_xlim((-70,0))\n",
    "\n",
    "ax[2].plot(hist_atomic_atomisation_split[1][1][:-1], hist_atomic_atomisation_split[1][0], label=r'H', color='tab:blue' )\n",
    "ax[2].plot(hist_atomic_atomisation_split[6][1][:-1], hist_atomic_atomisation_split[6][0], label=r'C', color='tab:orange' )\n",
    "ax[2].plot(hist_atomic_atomisation_split[7][1][:-1], hist_atomic_atomisation_split[7][0], label=r'N', color='tab:green' )\n",
    "ax[2].plot(hist_atomic_atomisation_split[8][1][:-1], hist_atomic_atomisation_split[8][0], label=r'N', color='tab:red' )\n",
    "ax[2].plot(hist_atomic_atomisation[1][:-1], hist_atomic_atomisation[0], '--', color='black')\n",
    "\n",
    "for i in range(3):\n",
    "    ax[i].set_yticklabels([])\n",
    "    \n",
    "ax[0].set_ylabel('Counts')\n",
    "ax[0].set_xlabel(r'$\\mu$ (Ha)')\n",
    "ax[1].set_xlabel(r'$E_{I}$ (Ha)')\n",
    "ax[2].set_xlabel(r'$E_{I}^{\\rm{at}}$ (Ha)')\n",
    "plt.savefig('/home/misa/projects/phd_symposium_2021/figures/atomic_property_distributions.png', bbox_inches='tight')"
   ]
  },
  {
   "cell_type": "code",
   "execution_count": null,
   "metadata": {},
   "outputs": [],
   "source": [
    "plt.rcParams['font.size'] = 15\n",
    "plt.rcParams['figure.figsize'] = [4,4]\n",
    "fig, ax = plt.subplots(2,1, sharex=True)\n",
    "\n",
    "fig.subplots_adjust(hspace=0.1)\n",
    "\n",
    "ax[0].plot(hist_atomic_split[1][1][:-1], hist_atomic_split[1][0]*1.2, label=r'H', color='tab:blue' )\n",
    "ax[0].plot(hist_atomic[1][:-1], hist_atomic[0], '--', color='black')\n",
    "\n",
    "\n",
    "ax[1].plot(hist_atomic_split[1][1][:-1], hist_atomic_split[1][0]*1.2, label=r'H', color='tab:blue' )\n",
    "ax[1].plot(hist_atomic_split[6][1][:-1], hist_atomic_split[6][0], label=r'C', color='tab:orange' )\n",
    "ax[1].plot(hist_atomic_split[7][1][:-1], hist_atomic_split[7][0], label=r'N', color='tab:green' )\n",
    "ax[1].plot(hist_atomic_split[8][1][:-1], hist_atomic_split[8][0], label=r'N', color='tab:red' )\n",
    "ax[1].plot(hist_atomic[1][:-1], hist_atomic[0], '--', color='black')\n",
    "\n",
    "\n",
    "ax[0].set_ylim((1200, np.amax(hist_atomic_split[1][0]*1.2)*1.1))\n",
    "ax[1].set_ylim((0, 150))\n",
    "# hide the spines between ax and ax2\n",
    "ax[0].spines['bottom'].set_visible(False)\n",
    "ax[1].spines['top'].set_visible(False)\n",
    "ax[0].xaxis.tick_top()\n",
    "ax[0].tick_params(labeltop=False)  # don't put tick labels at the top\n",
    "ax[1].xaxis.tick_bottom()\n",
    "d = .015  # how big to make the diagonal lines in axes coordinates\n",
    "# arguments to pass to plot, just so we don't keep repeating them\n",
    "kwargs = dict(transform=ax[0].transAxes, color='k', clip_on=False)\n",
    "ax[0].plot((-d, +d), (-d, +d), **kwargs)        # top-left diagonal\n",
    "ax[0].plot((1 - d, 1 + d), (-d, +d), **kwargs)  # top-right diagonal\n",
    "\n",
    "kwargs.update(transform=ax[1].transAxes)  # switch to the bottom axes\n",
    "ax[1].plot((-d, +d), (1 - d, 1 + d), **kwargs)  # bottom-left diagonal\n",
    "ax[1].plot((1 - d, 1 + d), (1 - d, 1 + d), **kwargs)  # bottom-right diagonal\n",
    "\n",
    "ax[0].set_yticks([])\n",
    "ax[1].set_yticks([])\n",
    "\n",
    "# formatting\n",
    "ax[1].set_xlim((-65,-4))\n",
    "    \n",
    "#ax[1].set_ylabel('Counts', ha='left')\n",
    "\n",
    "ax[1].set_xlabel(r'$E_{I}$ (Ha)')\n",
    "plt.savefig('/home/misa/projects/phd_symposium_2021/figures/atomic_energy_distribution.png', bbox_inches='tight')"
   ]
  },
  {
   "cell_type": "markdown",
   "metadata": {},
   "source": [
    "### Histogram atomic atomisation energy split up"
   ]
  },
  {
   "cell_type": "code",
   "execution_count": null,
   "metadata": {},
   "outputs": [],
   "source": [
    "plt.rcParams['font.size'] = 15\n",
    "plt.rcParams['figure.figsize'] = [4,4]\n",
    "fig, ax = plt.subplots(2,1, sharex=True)\n",
    "\n",
    "fig.subplots_adjust(hspace=0.1)\n",
    "\n",
    "ax[0].plot(hist_atomic_atomisation_split[1][1][:-1], hist_atomic_atomisation_split[1][0]*1.2, label=r'H', color='tab:blue' )\n",
    "ax[0].plot(hist_atomic_atomisation[1][:-1], hist_atomic_atomisation[0], '--', color='black')\n",
    "\n",
    "\n",
    "ax[1].plot(hist_atomic_atomisation_split[1][1][:-1], hist_atomic_atomisation_split[1][0]*1.2, label=r'H', color='tab:blue' )\n",
    "ax[1].plot(hist_atomic_atomisation_split[6][1][:-1], hist_atomic_atomisation_split[6][0], label=r'C', color='tab:orange' )\n",
    "ax[1].plot(hist_atomic_atomisation_split[7][1][:-1], hist_atomic_atomisation_split[7][0], label=r'N', color='tab:green' )\n",
    "ax[1].plot(hist_atomic_atomisation_split[8][1][:-1], hist_atomic_atomisation_split[8][0], label=r'N', color='tab:red' )\n",
    "ax[1].plot(hist_atomic_atomisation[1][:-1], hist_atomic_atomisation[0], '--', color='black')\n",
    "\n",
    "\n",
    "ax[0].set_ylim((1200, np.amax(hist_atomic_atomisation_split[1][0]*1.2)*1.1))\n",
    "ax[1].set_ylim((0, 150))\n",
    "# hide the spines between ax and ax2\n",
    "ax[0].spines['bottom'].set_visible(False)\n",
    "ax[1].spines['top'].set_visible(False)\n",
    "ax[0].xaxis.tick_top()\n",
    "ax[0].tick_params(labeltop=False)  # don't put tick labels at the top\n",
    "ax[1].xaxis.tick_bottom()\n",
    "d = .015  # how big to make the diagonal lines in axes coordinates\n",
    "# arguments to pass to plot, just so we don't keep repeating them\n",
    "kwargs = dict(transform=ax[0].transAxes, color='k', clip_on=False)\n",
    "ax[0].plot((-d, +d), (-d, +d), **kwargs)        # top-left diagonal\n",
    "ax[0].plot((1 - d, 1 + d), (-d, +d), **kwargs)  # top-right diagonal\n",
    "\n",
    "kwargs.update(transform=ax[1].transAxes)  # switch to the bottom axes\n",
    "ax[1].plot((-d, +d), (1 - d, 1 + d), **kwargs)  # bottom-left diagonal\n",
    "ax[1].plot((1 - d, 1 + d), (1 - d, 1 + d), **kwargs)  # bottom-right diagonal\n",
    "\n",
    "ax[0].set_yticks([])\n",
    "ax[1].set_yticks([])\n",
    "\n",
    "# formatting\n",
    "#ax[1].set_xlim((-65,-4))\n",
    "    \n",
    "#ax[1].set_ylabel('Counts', ha='left')\n",
    "\n",
    "ax[1].set_xlabel(r'$E_{I}$ (Ha)')\n",
    "#plt.savefig('/home/misa/projects/phd_symposium_2021/figures/atomic_energy_distribution.png', bbox_inches='tight')"
   ]
  },
  {
   "cell_type": "code",
   "execution_count": null,
   "metadata": {},
   "outputs": [],
   "source": [
    "plt.rcParams['font.size'] = 15\n",
    "plt.rcParams['figure.figsize'] = [6,4]\n",
    "fig, ax = plt.subplots(1,1)\n",
    "\n",
    "\n",
    "\n",
    "\n",
    "ax.plot(hist_atomic_atomisation_split[1][1][:-1]*627.5, hist_atomic_atomisation_split[1][0], label=r'H', color='tab:blue' )\n",
    "ax.plot(hist_atomic_atomisation_split[6][1][:-1]*627.5, hist_atomic_atomisation_split[6][0], label=r'C', color='tab:orange' )\n",
    "ax.plot(hist_atomic_atomisation_split[7][1][:-1]*627.5, hist_atomic_atomisation_split[7][0], label=r'N', color='tab:green' )\n",
    "ax.plot(hist_atomic_atomisation_split[8][1][:-1]*627.5, hist_atomic_atomisation_split[8][0], label=r'O', color='tab:red' )\n",
    "ax.plot(hist_atomic_atomisation[1][:-1]*627.5, hist_atomic_atomisation[0], '--', color='black')\n",
    "ax.legend()\n",
    "ax.set_xlabel(r'$E_{I}$ (kcal/mol)')\n",
    "ax.set_yticks([])\n",
    "ax.set_ylabel('Counts')\n",
    "#plt.savefig('/home/misa/projects/phd_symposium_2021/figures/atomic_atomisation_energy_distribution.png', bbox_inches='tight')"
   ]
  },
  {
   "cell_type": "code",
   "execution_count": null,
   "metadata": {},
   "outputs": [],
   "source": []
  },
  {
   "cell_type": "code",
   "execution_count": null,
   "metadata": {},
   "outputs": [],
   "source": []
  },
  {
   "cell_type": "code",
   "execution_count": null,
   "metadata": {},
   "outputs": [],
   "source": []
  },
  {
   "cell_type": "code",
   "execution_count": null,
   "metadata": {},
   "outputs": [],
   "source": [
    "import matplotlib.pyplot as plt\n",
    "\n",
    "fig, ax = plt.subplots()\n",
    "\n",
    "sc = ax.scatter([1, 2], [1, 2], c=[1, 2])\n",
    "ax.set_ylabel('YLabel', loc='top')\n",
    "ax.set_xlabel('XLabel', loc='left')\n",
    "cbar = fig.colorbar(sc)\n",
    "cbar.set_label(\"ZLabel\", ma='left')\n",
    "\n",
    "plt.show()\n"
   ]
  },
  {
   "cell_type": "code",
   "execution_count": null,
   "metadata": {},
   "outputs": [],
   "source": [
    "percentage_el = dict()\n",
    "total_length = molecule_size.sum()\n",
    "for k in idc_by_charge.keys():\n",
    "    percentage_el[k] = len(idc_by_charge[k][0])/total_length\n",
    "percentage_el"
   ]
  },
  {
   "cell_type": "code",
   "execution_count": null,
   "metadata": {},
   "outputs": [],
   "source": [
    "np.trapz(kdes_atomic_atomisation[1].evaluate(x_atomic_atomisation[1])*percentage_el[1], x_atomic_atomisation[1])"
   ]
  },
  {
   "cell_type": "code",
   "execution_count": null,
   "metadata": {},
   "outputs": [],
   "source": [
    "fig, ax = plt.subplots(1,3)\n",
    "plt.rcParams['font.size'] = 15\n",
    "\n",
    "# alchemical potential\n",
    "ax[0].plot(x_alch_all, kde_alch_all.evaluate(x_alch_all), color='black')\n",
    "ax[0].plot(x_alch[1], kdes_alch_pot[1].evaluate(x_alch[1])*percentage_el[1], label=r'H', color='tab:blue' )\n",
    "ax[0].plot(x_alch[6], kdes_alch_pot[6].evaluate(x_alch[6])*percentage_el[6], label='C', color='tab:orange' )\n",
    "ax[0].plot(x_alch[7], kdes_alch_pot[7].evaluate(x_alch[7])*percentage_el[7], label='N', color='tab:green' )\n",
    "ax[0].plot(x_alch[8], kdes_alch_pot[8].evaluate(x_alch[8])*percentage_el[8], label='O', color='tab:red' )\n",
    "\n",
    "# atomic energy\n",
    "ax[1].plot(x_atomic_all, kde_atomic_all.evaluate(x_atomic_all), color='black')\n",
    "ax[1].plot(x_atomic[1], kdes_atomic[1].evaluate(x_atomic[1])*percentage_el[1], label=r'H', color='tab:blue' )\n",
    "ax[1].plot(x_atomic[6], kdes_atomic[6].evaluate(x_atomic[6])*percentage_el[6], label='C', color='tab:orange' )\n",
    "ax[1].plot(x_atomic[7], kdes_atomic[7].evaluate(x_atomic[7])*percentage_el[7], label='N', color='tab:green' )\n",
    "ax[1].plot(x_atomic[8], kdes_atomic[8].evaluate(x_atomic[8])*percentage_el[8], label='O', color='tab:red' )\n",
    "\n",
    "# atomic atomisation\n",
    "ax[2].plot(x_atomic_atomisation_all, kde_atomic_atomisation_all.evaluate(x_atomic_atomisation_all), color='black')\n",
    "ax[2].plot(x_atomic_atomisation[1], kdes_atomic_atomisation[1].evaluate(x_atomic_atomisation[1])*percentage_el[1], label=r'H', color='tab:blue')\n",
    "ax[2].plot(x_atomic_atomisation[6], kdes_atomic_atomisation[6].evaluate(x_atomic_atomisation[6])*percentage_el[6], label='C', color='tab:orange')\n",
    "ax[2].plot(x_atomic_atomisation[7], kdes_atomic_atomisation[7].evaluate(x_atomic_atomisation[7])*percentage_el[7], label='N', color='tab:green')\n",
    "ax[2].plot(x_atomic_atomisation[8], kdes_atomic_atomisation[8].evaluate(x_atomic_atomisation[8])*percentage_el[8], label='O', color='tab:red')\n"
   ]
  },
  {
   "cell_type": "markdown",
   "metadata": {},
   "source": [
    "#### Alchemical potentials split up by element"
   ]
  },
  {
   "cell_type": "code",
   "execution_count": null,
   "metadata": {},
   "outputs": [],
   "source": [
    "fig, ax = plt.subplots(1,1)\n",
    "norms = normalization_factors(idc_by_charge)\n",
    "plt.rcParams['font.size'] = 20\n",
    "\n",
    "ax.plot(x_alch[1], kdes_alch_pot[1].evaluate(x_alch[1])*norms[1.0], label=r'$\\mu_{\\rm{H}}$', color='tab:blue' )\n",
    "ax.plot(x_alch[6], kdes_alch_pot[6].evaluate(x_alch[6])*norms[6.0], label=r'$\\mu_{\\rm{C}}$', color='tab:orange' )\n",
    "ax.plot(x_alch[7], kdes_alch_pot[7].evaluate(x_alch[7])*norms[7.0], label=r'$\\mu_{\\rm{N}}$', color='tab:green' )\n",
    "ax.plot(x_alch[8], kdes_alch_pot[8].evaluate(x_alch[8])*norms[8.0], label=r'$\\mu_{\\rm{O}}$', color='tab:red' )\n",
    "# ax.plot(x_alch_all, 2.5*kde_alch_all.evaluate(x_alch_all), \"--\")\n",
    "\n",
    "ax.set_xlabel(r'$\\mu$ (Ha)')\n",
    "ax.set_ylabel('KDE')\n",
    "ax.legend()\n",
    "directory = '/home/misa/projects/Atomic-Energies/figures/machine_learning/analysis_atomic_properties/'\n",
    "# plt.savefig(directory+'kdes_alchpots_split_up.png', bbox_inches='tight')"
   ]
  },
  {
   "cell_type": "markdown",
   "metadata": {},
   "source": [
    "split- spread of alchemical potentials similiar to atomisation energy of molecule\n",
    "- a lot of structure in distribution -> exploration (functional groups...)\n",
    "- would a representation that has a similar distribution for the distances perform better?\n",
    "\n",
    "\n",
    "- atomic energies -> rescaling, wide range of energies harder to learn?\n",
    "\n",
    "\n",
    "- shift to B3LYP leads to change of distribution\n",
    "- double, triple bonds $\\rightarrow$ less hydrogens, energy is partitioned among less atoms \n",
    "\n",
    "$\\rightarrow$ absolute of atomic energy per atom is higher after shifting to B3LYP values\n",
    "\n",
    "$\\rightarrow$ atomic atomisation energy profile is different than atomic energy profile"
   ]
  },
  {
   "cell_type": "markdown",
   "metadata": {},
   "source": [
    "#### Structure of alchemical potential distribution"
   ]
  },
  {
   "cell_type": "code",
   "execution_count": null,
   "metadata": {},
   "outputs": [],
   "source": [
    "def get_type_closest_neighbour(coords, charges):\n",
    "    distances = sc.spatial.distance.cdist(coords, coords)\n",
    "    charge_closest_neighbour = []\n",
    "    for i in range(len(distances)):\n",
    "        min_dist = np.amin(distances[i][np.where(distances[i] > 1e-5)])\n",
    "        charge_closest_neighbour.append(charges[np.where(distances[i]==min_dist)][0])\n",
    "    return(charge_closest_neighbour)"
   ]
  },
  {
   "cell_type": "code",
   "execution_count": null,
   "metadata": {},
   "outputs": [],
   "source": [
    "charge_closest_neighbour = []\n",
    "for mol in data:\n",
    "    charge_closest_neighbour.extend(get_type_closest_neighbour(mol[:,1:4], mol[:,0]))\n",
    "charge_closest_neighbour = np.array(charge_closest_neighbour)\n",
    "\n",
    "alchpot_sorted_by_neighbour = dict()\n",
    "for k in idc_by_charge.keys():\n",
    "    alchpot_sorted_by_neighbour[k] = {1.0:[], 6.0:[], 7.0:[], 8.0:[]}\n",
    "    for el, alch in zip(charge_closest_neighbour[idc_by_charge[k]], alch_pot[idc_by_charge[k]]):\n",
    "        alchpot_sorted_by_neighbour[k][el].append(alch)"
   ]
  },
  {
   "cell_type": "code",
   "execution_count": null,
   "metadata": {},
   "outputs": [],
   "source": [
    "# ax[0,0].plot(x_alch[1], kdes_alch_pot[1].evaluate(x_alch[1]), label=r'H $\\mu$', color='tab:blue' )\n",
    "\n",
    "kdes = dict()\n",
    "\n",
    "for k in alchpot_sorted_by_neighbour[1.0].keys():\n",
    "    if len(alchpot_sorted_by_neighbour[1.0][k]) != 0:\n",
    "        kdes[k] = sc.stats.gaussian_kde(alchpot_sorted_by_neighbour[1.0][k])\n",
    "\n",
    "x_kdes = dict()\n",
    "for k in kdes.keys():\n",
    "    if len(alchpot_sorted_by_neighbour[1.0][k]) != 0:\n",
    "        x_kdes[k] = np.linspace(np.amin(alchpot_sorted_by_neighbour[1.0][k])-0.5, np.amax(alchpot_sorted_by_neighbour[1.0][k])+0.5, 500)\n",
    "        \n"
   ]
  },
  {
   "cell_type": "code",
   "execution_count": null,
   "metadata": {},
   "outputs": [],
   "source": [
    "kdes = dict()\n",
    "\n",
    "k1 = 7.0\n",
    "\n",
    "for k in alchpot_sorted_by_neighbour[k1].keys():\n",
    "    if len(alchpot_sorted_by_neighbour[k1][k]) != 0:\n",
    "        kdes[k] = sc.stats.gaussian_kde(alchpot_sorted_by_neighbour[k1][k])\n",
    "\n",
    "x_kdes = dict()\n",
    "for k in kdes.keys():\n",
    "    if len(alchpot_sorted_by_neighbour[k1][k]) != 0:\n",
    "        x_kdes[k] = np.linspace(np.amin(alchpot_sorted_by_neighbour[k1][k])-0.5, np.amax(alchpot_sorted_by_neighbour[k1][k])+0.5, 500)\n",
    "        "
   ]
  },
  {
   "cell_type": "code",
   "execution_count": null,
   "metadata": {},
   "outputs": [],
   "source": [
    "fig, ax = plt.subplots(1,1)\n",
    "for k in kdes.keys():\n",
    "\n",
    "    ax.plot(x_kdes[k], kdes[k].evaluate(x_kdes[k]), label=f'Z={k}')\n",
    "# ax.plot(x_alch[1], kdes_alch_pot[1].evaluate(x_alch[1]), label=r'H $\\mu$')\n",
    "ax.legend()"
   ]
  },
  {
   "cell_type": "markdown",
   "metadata": {},
   "source": [
    "# Atomisation Energy distribution of molecules"
   ]
  },
  {
   "cell_type": "code",
   "execution_count": null,
   "metadata": {},
   "outputs": [],
   "source": [
    "molecule_atomisation = qmi.generate_label_vector(data, len(molecule_size), 'atomisation_global')\n",
    "kde_molecule = sc.stats.gaussian_kde(molecule_atomisation)\n",
    "x_molecule = np.linspace(np.amin(molecule_atomisation)-1, np.amax(molecule_atomisation)+1, 500)\n",
    "fig, ax = plt.subplots(1,1)\n",
    "ax.plot(x_molecule, kde_molecule.evaluate(x_molecule))\n",
    "ax.set_xlim(-3.5, -0.5)\n",
    "ax.set_xlabel('Atomisation Energy per molecule (Ha)')\n",
    "ax.set_ylabel('KDE')\n",
    "# plt.savefig('/home/misa/projects/Atomic-Energies/figures/machine_learning/analysis_atomic_properties/kde_atomisation_energy_molecules.png', bbox_inches='tight')"
   ]
  },
  {
   "cell_type": "code",
   "execution_count": null,
   "metadata": {},
   "outputs": [],
   "source": [
    "len(molecule_atomisation)"
   ]
  },
  {
   "cell_type": "code",
   "execution_count": null,
   "metadata": {},
   "outputs": [],
   "source": [
    "molecule_hist = np.histogram(molecule_atomisation, bins=10)\n",
    "\n",
    "plt.rcParams['figure.figsize'] = [3,4]\n",
    "fig, ax = plt.subplots(1,1)\n",
    "ax.plot(molecule_hist[1][:-1]*627.5, molecule_hist[0])\n",
    "\n",
    "#ax.set_xlim(-3.0, -1.3)\n",
    "ax.set_xlabel(r'$E^{\\rm at, mol}$ (Ha)')\n",
    "#ax.set_ylabel('Counts')\n",
    "ax.set_yticks([])\n",
    "plt.savefig('/home/misa/projects/phd_symposium_2021/figures/atomisation_molecule_hist.png', bbox_inches='tight')"
   ]
  },
  {
   "cell_type": "code",
   "execution_count": null,
   "metadata": {},
   "outputs": [],
   "source": [
    "plt.rcParams['font.size'] = 15\n",
    "plt.rcParams['figure.figsize'] = [6,4]\n",
    "fig, ax = plt.subplots(1,1)\n",
    "\n",
    "\n",
    "\n",
    "\n",
    "# ax.plot(hist_atomic_atomisation_split[1][1][:-1]*627.5, hist_atomic_atomisation_split[1][0], label=r'H', color='tab:blue' )\n",
    "# ax.plot(hist_atomic_atomisation_split[6][1][:-1]*627.5, hist_atomic_atomisation_split[6][0], label=r'C', color='tab:orange' )\n",
    "# ax.plot(hist_atomic_atomisation_split[7][1][:-1]*627.5, hist_atomic_atomisation_split[7][0], label=r'N', color='tab:green' )\n",
    "# ax.plot(hist_atomic_atomisation_split[8][1][:-1]*627.5, hist_atomic_atomisation_split[8][0], label=r'O', color='tab:red' )\n",
    "ax.plot(molecule_hist[1][:-1]*627.5, molecule_hist[0]/np.amax(molecule_hist[0]), color='grey', label = r'$E^{\\rm mol}$')\n",
    "ax.plot(hist_atomic_atomisation[1][:-1]*627.5, hist_atomic_atomisation[0]/np.amax(hist_atomic_atomisation[0]), '-', color='black', label = r'$E_I$')\n",
    "ax.legend()\n",
    "ax.set_xlabel(r'$E_{I}$ (kcal/mol)')\n",
    "ax.set_yticks([])\n",
    "ax.set_ylabel('Counts')\n",
    "plt.savefig('/home/misa/projects/phd_symposium_2021/figures/atomic_atomisation_energy_distribution_comparison.png', bbox_inches='tight')"
   ]
  },
  {
   "cell_type": "code",
   "execution_count": null,
   "metadata": {},
   "outputs": [],
   "source": [
    "molecule_hist[0]/np.amax(molecule_hist[0])"
   ]
  },
  {
   "cell_type": "code",
   "execution_count": null,
   "metadata": {},
   "outputs": [],
   "source": [
    "molecule_hist[1][:-1]*627.5"
   ]
  },
  {
   "cell_type": "markdown",
   "metadata": {},
   "source": [
    "### Atomic energy distribution H vs atomisation energy distribution"
   ]
  },
  {
   "cell_type": "code",
   "execution_count": null,
   "metadata": {},
   "outputs": [],
   "source": [
    "molecule_atomisation = qmi.generate_label_vector(data, len(molecule_size), 'atomisation_global')\n",
    "kde_molecule = sc.stats.gaussian_kde(molecule_atomisation)\n",
    "x_molecule = np.linspace(np.amin(molecule_atomisation)-1, np.amax(molecule_atomisation)+1, 500)"
   ]
  },
  {
   "cell_type": "code",
   "execution_count": null,
   "metadata": {},
   "outputs": [],
   "source": [
    "mean_atomic_h = qmi.get_average_property(idc_by_charge[1][0], data, molecule_size, 'atomic')[1]\n",
    "mean_atomisation_mol = molecule_atomisation.mean()"
   ]
  },
  {
   "cell_type": "code",
   "execution_count": null,
   "metadata": {},
   "outputs": [],
   "source": [
    "x_molecule_shifted = (x_molecule - mean_atomisation_mol)\n",
    "kde_molecule_shifted = sc.stats.gaussian_kde(molecule_atomisation - mean_atomisation_mol)\n",
    "x_h_shifted = (x_atomic[1] - mean_atomic_h)\n",
    "kde_h_shifted = sc.stats.gaussian_kde(atomic_en[idc_by_charge[1]] - mean_atomic_h)"
   ]
  },
  {
   "cell_type": "code",
   "execution_count": null,
   "metadata": {},
   "outputs": [],
   "source": [
    "plt.rcParams['font.size'] = 20\n",
    "plt.rcParams['figure.figsize'] = [10.0, 5.0]\n",
    "fig, ax = plt.subplots(1,1)\n",
    "plt.rcParams['font.size'] = 15\n",
    "ax.plot(x_molecule_shifted, kde_molecule_shifted.evaluate(x_molecule_shifted), label = r'$E_{\\rm{at}}^{\\rm{mol}}$', color='black')\n",
    "ax.plot(x_h_shifted, kde_h_shifted.evaluate(x_h_shifted), label=r'$E_{\\rm{H}}$')\n",
    "ax.set_xlim(-1.5, 1.5)\n",
    "ax.set_xlabel(r'$E$ (Ha)')\n",
    "ax.set_ylabel('KDE')\n",
    "ax.legend()"
   ]
  },
  {
   "cell_type": "markdown",
   "metadata": {},
   "source": [
    "the distributions are similar, can we get similar learning curves?"
   ]
  },
  {
   "cell_type": "markdown",
   "metadata": {},
   "source": [
    "#### comparison including QM7"
   ]
  },
  {
   "cell_type": "code",
   "execution_count": null,
   "metadata": {},
   "outputs": [],
   "source": [
    "# labels\n",
    "p_labels = '/home/misa/datasets/qm7/values.csv'\n",
    "atomisation_energies_unsorted_qm7 = np.loadtxt(p_labels, skiprows=1, delimiter=',', usecols=(0,81))\n",
    "atomisation_energies_sorted_qm7 = atomisation_energies_unsorted_qm7[atomisation_energies_unsorted_qm7[:,0].argsort()].copy()\n",
    "labels_qm7 = atomisation_energies_sorted_qm7[:,1].copy()/630\n",
    "kde_molecule_qm7 = sc.stats.gaussian_kde(labels_qm7)\n",
    "\n",
    "ae_shifted_scaled_qm7 = (atomisation_energies_sorted_qm7[:,1]-atomisation_energies_sorted_qm7[:,1].mean())*0.0016\n",
    "kde_molecule_shifted_qm7 = sc.stats.gaussian_kde(ae_shifted_scaled_qm7)\n",
    "x_molecule_qm7 = np.linspace(np.amin(ae_shifted_scaled_qm7)-1, np.amax(ae_shifted_scaled_qm7)+1, 500)"
   ]
  },
  {
   "cell_type": "code",
   "execution_count": null,
   "metadata": {},
   "outputs": [],
   "source": [
    "fig, ax = plt.subplots(1,1)\n",
    "plt.rcParams[\"font.size\"] = 20\n",
    "ax.plot(x_h_shifted, kde_h_shifted.evaluate(x_h_shifted), label=r'$\\mu_{\\rm{H}}$')\n",
    "ax.plot(x_molecule_qm7, kde_molecule_shifted_qm7.evaluate(x_molecule_qm7), label = r'$E_{\\rm{mol}}^{\\rm{at, QM7}}$', color='black')\n",
    "ax.plot(x_molecule_shifted, kde_molecule_shifted.evaluate(x_molecule_shifted), '--', label = r'$E_{\\rm{mol}}^{\\rm{at, s-QM9}}$', color='black')\n",
    "ax.set_xlim(-1.5, 1.5)\n",
    "ax.set_xlabel(r'$E^{\\rm{at}}$ (Ha)')\n",
    "ax.set_ylabel('KDE')\n",
    "ax.legend()\n",
    "directory = '/home/misa/projects/Atomic-Energies/figures/machine_learning/analysis_atomic_properties/'\n",
    "plt.savefig(directory+'kde_qm7_qm9_muH.png', bbox_inches = 'tight')"
   ]
  },
  {
   "cell_type": "markdown",
   "metadata": {},
   "source": [
    "# Correlation between metric and energy difference"
   ]
  },
  {
   "cell_type": "code",
   "execution_count": 1,
   "metadata": {},
   "outputs": [],
   "source": [
    "import numpy as np\n",
    "import qml\n",
    "import sys\n",
    "sys.path.insert(0, '/home/misa/git_repositories/APDFT/prototyping/atomic_energies/')\n",
    "import qml_interface as qmi\n",
    "from matplotlib import pyplot as plt"
   ]
  },
  {
   "cell_type": "code",
   "execution_count": null,
   "metadata": {
    "jupyter": {
     "source_hidden": true
    }
   },
   "outputs": [],
   "source": [
    "def get_element_symbol(Z):\n",
    "    if int(Z) == 1:\n",
    "        return('H')\n",
    "    elif int(Z) == 6:\n",
    "        return('C')\n",
    "    elif int(Z) == 7:\n",
    "        return('N')\n",
    "    elif int(Z) == 8:\n",
    "        return('O')\n",
    "    else:\n",
    "        raise ValueError('Symbol for given charge not available')\n",
    "        \n",
    "# make distance matrix\n",
    "def get_dmatrix(reps):\n",
    "    num_reps = len(reps)\n",
    "    dmatrix = np.zeros((num_reps, num_reps))\n",
    "    for rows in range(num_reps):\n",
    "        for cols in range(rows, num_reps):\n",
    "            dmatrix[rows, cols] = np.linalg.norm(reps[rows]-reps[cols])\n",
    "            dmatrix[cols, rows] = dmatrix[rows, cols]\n",
    "    return(dmatrix)\n",
    "\n",
    "# make distance matrix\n",
    "def get_property_matrix(labels):\n",
    "    num_labels = len(labels)\n",
    "    prop_matrix = np.zeros((num_labels, num_labels))\n",
    "    for rows in range(num_labels):\n",
    "        for cols in range(rows, num_labels):\n",
    "            prop_matrix[rows, cols] = np.abs(labels[rows]-labels[cols])\n",
    "            prop_matrix[cols, rows] = prop_matrix[rows, cols]\n",
    "    return(prop_matrix)\n",
    "\n",
    "def get_all_matrices(reps, alchpot, atomic, atomisation):\n",
    "    num_reps = len(reps)\n",
    "    dmatrix = np.zeros((num_reps, num_reps))\n",
    "    alchpot_matrix = np.zeros((num_reps, num_reps))\n",
    "    atomic_matrix = np.zeros((num_reps, num_reps))\n",
    "    atomisation_matrix = np.zeros((num_reps, num_reps))\n",
    "    for rows in range(num_reps):\n",
    "        for cols in range(rows, num_reps):\n",
    "            dmatrix[rows, cols] = np.linalg.norm(reps[rows]-reps[cols])\n",
    "            #dmatrix[cols, rows] = dmatrix[rows, cols]\n",
    "            alchpot_matrix[rows, cols] = np.abs(alchpot[rows]-alchpot[cols])\n",
    "            atomic_matrix[rows, cols] = np.abs(atomic[rows]-atomic[cols])\n",
    "            atomisation_matrix[rows, cols] = np.abs(atomisation[rows]-atomisation[cols])\n",
    "    return(dmatrix, alchpot_matrix, atomic_matrix,atomisation_matrix)"
   ]
  },
  {
   "cell_type": "code",
   "execution_count": null,
   "metadata": {},
   "outputs": [],
   "source": [
    "# data preparation\n",
    "data, molecule_size = qmi.load_alchemy_data(qmi.wrapper_alch_data())\n",
    "#all_local_reps = qmi.generate_atomic_representations(data, molecule_size)\n",
    "# split up alchemical potential by element\n",
    "#charges = qmi.generate_label_vector(data, molecule_size.sum(), value='charge')\n",
    "#idc_by_charge = qmi.partition_idx_by_charge(charges)\n",
    "\n",
    "atomisation = qmi.generate_label_vector(data, molecule_size.sum(), value='atomisation')\n",
    "atomic = qmi.generate_label_vector(data, molecule_size.sum(), value='atomic')\n",
    "alchpot = qmi.generate_label_vector(data, molecule_size.sum(), value='alch_pot')\n",
    "dmatrix, alchpot_matrix, atomic_matrix, atomisation_matrix = get_all_matrices(all_local_reps, alchpot, atomic, atomisation)\n",
    "\n",
    "np.save('/home/misa/projects/Atomic-Energies/data/ueg_reference/atomic_properties/cm_dmatrix.npy', dmatrix)\n",
    "np.save('/home/misa/projects/Atomic-Energies/data/ueg_reference/atomic_properties/diff_alchpot_matrix.npy', alchpot_matrix)\n",
    "np.save('/home/misa/projects/Atomic-Energies/data/ueg_reference/atomic_properties/diff_atomic_matrix.npy', atomic_matrix)\n",
    "np.save('/home/misa/projects/Atomic-Energies/data/ueg_reference/atomic_properties/diff_atomisation_matrix.npy', atomisation_matrix)"
   ]
  },
  {
   "cell_type": "code",
   "execution_count": 2,
   "metadata": {},
   "outputs": [],
   "source": [
    "kernel_fchl = np.load('/home/misa/APDFT/prototyping/atomic_energies/results/analyse_learning/FCHL/kernels_batch2/full_kernel_sig_0.05.npy')\n",
    "dsq = np.log(kernel_fchl)*(-2)*0.05\n",
    "dsq[np.where( dsq < 0)] = 0\n",
    "dmatrix = np.sqrt(dsq)\n",
    "#del(dsq)"
   ]
  },
  {
   "cell_type": "code",
   "execution_count": 3,
   "metadata": {},
   "outputs": [],
   "source": [
    "#dmatrix = np.load('/home/misa/projects/Atomic-Energies/data/ueg_reference/atomic_properties/cm_dmatrix.npy')\n",
    "#alchpot_matrix = np.load('/home/misa/projects/Atomic-Energies/data/ueg_reference/atomic_properties/diff_alchpot_matrix.npy')\n",
    "atomic_matrix = np.load('/home/misa/projects/Atomic-Energies/data/ueg_reference/atomic_properties/diff_atomic_matrix.npy')\n",
    "#atomisation_matrix = np.load('/home/misa/projects/Atomic-Energies/data/ueg_reference/atomic_properties/diff_atomisation_matrix.npy')"
   ]
  },
  {
   "cell_type": "code",
   "execution_count": 4,
   "metadata": {},
   "outputs": [],
   "source": [
    "distance = []\n",
    "atomic = []\n",
    "for i in range(dmatrix.shape[0]):\n",
    "    distance.extend(dmatrix[i][i+1:])\n",
    "    atomic.extend(atomic_matrix[i][i+1:])"
   ]
  },
  {
   "cell_type": "code",
   "execution_count": 5,
   "metadata": {},
   "outputs": [],
   "source": [
    "del(atomic_matrix)\n",
    "#del(dmatrix)"
   ]
  },
  {
   "cell_type": "code",
   "execution_count": 6,
   "metadata": {},
   "outputs": [
    {
     "name": "stderr",
     "output_type": "stream",
     "text": [
      "/home/misa/anaconda3/envs/atomic-energies/lib/python3.7/site-packages/ipykernel_launcher.py:10: RuntimeWarning: divide by zero encountered in log10\n",
      "  # Remove the CWD from sys.path while we load stuff.\n"
     ]
    }
   ],
   "source": [
    "x = distance\n",
    "\n",
    "y = atomic\n",
    "\n",
    "gridx = np.linspace(min(x),max(x),11)\n",
    "gridy = np.linspace(min(y),max(y),11)\n",
    "\n",
    "H, xedges, yedges = np.histogram2d(x, y, bins=[gridx, gridy])\n",
    "\n",
    "H_scaled = np.log10(H)\n",
    "H_scaled[np.isneginf(H_scaled)]=0"
   ]
  },
  {
   "cell_type": "code",
   "execution_count": 9,
   "metadata": {},
   "outputs": [
    {
     "data": {
      "image/png": "[encoded data removed]",
      "text/plain": [
       "<Figure size 432x288 with 2 Axes>"
      ]
     },
     "metadata": {
      "needs_background": "light"
     },
     "output_type": "display_data"
    }
   ],
   "source": [
    "plt.rcParams['font.size'] = 20\n",
    "plt.figure()\n",
    "myextent  =[xedges[0],xedges[-1],yedges[0],yedges[-1]]\n",
    "plt.imshow(H_scaled.T,origin='low',extent=myextent,interpolation='bilinear',aspect='auto')\n",
    "plt.colorbar()\n",
    "plt.xlabel(r'$d_{IJ}$')\n",
    "\n",
    "plt.ylabel(r'$|\\mu_I - \\mu_J|$')\n",
    "#plt.ylabel(r'$|E_I^{\\rm at} - E_J^{\\rm at}|$')\n",
    "\n",
    "plt.show()"
   ]
  },
  {
   "cell_type": "code",
   "execution_count": 8,
   "metadata": {},
   "outputs": [
    {
     "data": {
      "image/png": "[encoded data removed]",
      "text/plain": [
       "<Figure size 432x288 with 2 Axes>"
      ]
     },
     "metadata": {
      "needs_background": "light"
     },
     "output_type": "display_data"
    }
   ],
   "source": [
    "plt.rcParams['font.size'] = 20\n",
    "plt.figure()\n",
    "myextent  =[xedges[0],xedges[-1],yedges[0],yedges[-1]]\n",
    "plt.imshow(H.T,origin='low',extent=myextent,interpolation='bilinear',aspect='auto')\n",
    "#plt.plot(x,y,'ro')\n",
    "plt.colorbar()\n",
    "plt.xlabel(r'$d_{IJ}$')\n",
    "#plt.ylabel(r'$|\\mu_I - \\mu_J|$')\n",
    "plt.ylabel(r'$|E_I - E_J|$')\n",
    "plt.ylim(0,10)\n",
    "plt.xlim(0,1)\n",
    "#plt.ylabel(r'$|E_I^{\\rm at} - E_J^{\\rm at}|$')\n",
    "plt.show()"
   ]
  },
  {
   "cell_type": "code",
   "execution_count": null,
   "metadata": {
    "jupyter": {
     "source_hidden": true
    }
   },
   "outputs": [],
   "source": [
    "# data preparation\n",
    "data, molecule_size = qmi.load_alchemy_data(qmi.wrapper_alch_data())\n",
    "all_local_reps = qmi.generate_atomic_representations(data, molecule_size)\n",
    "# split up alchemical potential by element\n",
    "charges = qmi.generate_label_vector(data, molecule_size.sum(), value='charge')\n",
    "idc_by_charge = qmi.partition_idx_by_charge(charges)\n",
    "\n",
    "#atomisation_en = qmi.generate_label_vector(data, molecule_size.sum(), value='atomisation')\n",
    "atomic_en = qmi.generate_label_vector(data, molecule_size.sum(), value='atomic')\n",
    "alch_pots = qmi.generate_label_vector(data, molecule_size.sum(), value='alch_pot')\n",
    "\n",
    "el_reps =dict()\n",
    "el_alch_pots = dict()\n",
    "el_atomic_en = dict()\n",
    "\n",
    "for k in idc_by_charge.keys():\n",
    "    el_reps[k] = all_local_reps[idc_by_charge[k]]\n",
    "    el_alch_pots[k] = alch_pots[idc_by_charge[k]]\n",
    "    el_atomic_en[k] = atomic_en[idc_by_charge[k]]"
   ]
  },
  {
   "cell_type": "code",
   "execution_count": null,
   "metadata": {
    "jupyter": {
     "source_hidden": true
    }
   },
   "outputs": [],
   "source": [
    "dmatrices = dict()\n",
    "for Z in el_reps.keys():\n",
    "    dmatrices[Z] = get_dmatrix(el_reps[Z])"
   ]
  },
  {
   "cell_type": "code",
   "execution_count": null,
   "metadata": {
    "jupyter": {
     "source_hidden": true
    }
   },
   "outputs": [],
   "source": [
    "alch_matrices = dict()\n",
    "for Z in el_reps.keys():\n",
    "    alch_matrices[Z] = get_property_matrix(el_alch_pots[Z])"
   ]
  },
  {
   "cell_type": "code",
   "execution_count": null,
   "metadata": {
    "jupyter": {
     "source_hidden": true
    }
   },
   "outputs": [],
   "source": [
    "atomic_matrices = dict()\n",
    "for Z in el_reps.keys():\n",
    "    atomic_matrices[Z] = get_property_matrix(el_atomic_en[Z])"
   ]
  },
  {
   "cell_type": "code",
   "execution_count": null,
   "metadata": {},
   "outputs": [],
   "source": [
    "ind = dict()\n",
    "for Z in dmatrices.keys():\n",
    "    ind[Z] = np.triu_indices(len(dmatrices[Z]), k=1)"
   ]
  },
  {
   "cell_type": "code",
   "execution_count": null,
   "metadata": {
    "jupyter": {
     "source_hidden": true
    }
   },
   "outputs": [],
   "source": [
    "Z=1.0\n",
    "hist = np.histogram2d(dmatrices[Z][ind[Z]], alch_matrices[Z][ind[Z]], bins=100)"
   ]
  },
  {
   "cell_type": "code",
   "execution_count": null,
   "metadata": {},
   "outputs": [],
   "source": [
    "hist[0].shape"
   ]
  },
  {
   "cell_type": "code",
   "execution_count": null,
   "metadata": {},
   "outputs": [],
   "source": [
    "plt.contour(hist[1][:-1], hist[2][:-1], hist[0])"
   ]
  },
  {
   "cell_type": "code",
   "execution_count": null,
   "metadata": {},
   "outputs": [],
   "source": [
    "hist[2]"
   ]
  },
  {
   "cell_type": "markdown",
   "metadata": {},
   "source": [
    "### Learning curve atomic energy of H only"
   ]
  },
  {
   "cell_type": "code",
   "execution_count": null,
   "metadata": {},
   "outputs": [],
   "source": [
    "import numpy as np\n",
    "import qml\n",
    "import sys\n",
    "sys.path.insert(0, '/home/misa/APDFT/prototyping/atomic_energies/')\n",
    "import qml_interface as qmi\n",
    "import scipy as sc\n",
    "import sklearn.model_selection as sk\n",
    "\n",
    "from matplotlib import pyplot as plt\n",
    "plt.rcParams['font.size'] = 20\n",
    "from matplotlib import cm as cmx\n",
    "import matplotlib.colors as colors"
   ]
  },
  {
   "cell_type": "code",
   "execution_count": null,
   "metadata": {},
   "outputs": [],
   "source": [
    "def crossvalidate(reps, labels, tr_size, sigma, lam, num_cv):\n",
    "    errors = []\n",
    "    for cv in range(num_cv):\n",
    "        reps_tr, reps_test, labels_tr, labels_test = sk.train_test_split(reps,labels,train_size=tr_size)\n",
    "        coeffs = qmi.train_kernel(reps_tr, labels_tr, sigma, lam_val)\n",
    "        labels_predicted = qmi.predict_labels(reps_test, reps_tr, sigma, coeffs)\n",
    "        errors.append((np.abs(labels_predicted - labels_test)).mean())\n",
    "    errors = np.array(errors)\n",
    "    return(errors.mean(), errors.std())"
   ]
  },
  {
   "cell_type": "code",
   "execution_count": null,
   "metadata": {},
   "outputs": [],
   "source": [
    "# data preparation\n",
    "data, molecule_size = qmi.load_alchemy_data(qmi.wrapper_alch_data())\n",
    "\n",
    "atomic_en = qmi.generate_label_vector(data, molecule_size.sum(), value='atomic')\n",
    "charges = qmi.generate_label_vector(data, molecule_size.sum(), value='charge')\n",
    "idc_by_charge = qmi.partition_idx_by_charge(charges)\n",
    "mean_atomic_h = qmi.get_average_property(idc_by_charge[1][0], data, molecule_size, 'atomic')[1]\n",
    "\n",
    "molecule_atomisation = qmi.generate_label_vector(data, len(molecule_size), 'atomisation_global')\n",
    "mean_atomisation_mol = molecule_atomisation.mean()"
   ]
  },
  {
   "cell_type": "code",
   "execution_count": null,
   "metadata": {},
   "outputs": [],
   "source": [
    "all_local_reps = qmi.generate_atomic_representations(data, molecule_size)\n",
    "h_local_reps = all_local_reps[idc_by_charge[1]]\n",
    "h_local_labels = atomic_en[idc_by_charge[1]]"
   ]
  },
  {
   "cell_type": "code",
   "execution_count": null,
   "metadata": {},
   "outputs": [],
   "source": [
    "sigmas = np.logspace(-1, 10, 11, base=2)\n",
    "lam_val = 1e-5\n",
    "num_cv = 3\n",
    "\n",
    "lcurves = dict()\n",
    "\n",
    "# define number of training points for which MAE is calculated\n",
    "set_sizes = np.logspace(0, 11, 12, base=2).astype(int)\n",
    "\n",
    "for sigma in sigmas:\n",
    "    error_cv = []\n",
    "    error_std = []\n",
    "    # calculate error for every training point size\n",
    "    for idx, tr_size in enumerate(set_sizes):\n",
    "        err, err_std = crossvalidate(h_local_reps, h_local_labels, tr_size, sigma, lam_val, num_cv)\n",
    "        error_cv.append(err)\n",
    "        error_std.append(err_std)\n",
    "    \n",
    "    lcurves[f'sig_{sigma}'] = np.array([set_sizes, error_cv, error_std]).T"
   ]
  },
  {
   "cell_type": "code",
   "execution_count": null,
   "metadata": {},
   "outputs": [],
   "source": [
    "lcurves"
   ]
  },
  {
   "cell_type": "code",
   "execution_count": null,
   "metadata": {},
   "outputs": [],
   "source": [
    "NUM_COLORS = len(lcurves.keys())\n",
    "# cm_jet = plt.get_cmap('jet')\n",
    "# cNorm  = colors.Normalize(vmin=0, vmax=NUM_COLORS-1)\n",
    "# scalarMap = cm.ScalarMappable(norm=cNorm, cmap=cm_jet)\n",
    "jet = cm = plt.get_cmap('jet') \n",
    "cNorm  = colors.Normalize(vmin=0, vmax=NUM_COLORS-1)\n",
    "scalarMap = cmx.ScalarMappable(norm=cNorm, cmap=jet)"
   ]
  },
  {
   "cell_type": "code",
   "execution_count": null,
   "metadata": {},
   "outputs": [],
   "source": [
    "fig, ax = plt.subplots(1,1)\n",
    "plt.rcParams['figure.figsize'] = [6.0, 4.0]\n",
    "ax.set_prop_cycle(color=[scalarMap.to_rgba(i) for i in range(NUM_COLORS)])\n",
    "for k in lcurves.keys():\n",
    "    ax.plot(lcurves[k][:,0], lcurves[k][:,1], '-o', label=r'$\\sigma = {}$'.format(np.round( float(k.split('_')[1]), 2 )) )\n",
    "ax.set_xscale('log')\n",
    "ax.set_yscale('log')\n",
    "ax.legend(bbox_to_anchor=(1.05, 1), loc='upper left', borderaxespad=0.)"
   ]
  },
  {
   "cell_type": "code",
   "execution_count": null,
   "metadata": {},
   "outputs": [],
   "source": [
    "fig, ax = plt.subplots(1,1)\n",
    "\n",
    "ax.plot(lcurves['sig_222.8609442038079'][:,0],lcurves['sig_222.8609442038079'][:,1], '-o', label=r'$\\sigma = 222$')\n",
    "ax.plot(lcurves['sig_103.96830673359823'][:,0],lcurves['sig_103.96830673359823'][:,1], '-o', label=r'$\\sigma = 104$')\n",
    "ax.set_xscale('log')\n",
    "ax.set_yscale('log')\n",
    "ax.legend(bbox_to_anchor=(1.05, 1), loc='upper left', borderaxespad=0.)"
   ]
  },
  {
   "cell_type": "markdown",
   "metadata": {},
   "source": [
    "Minimum error for training set size of 2048 atoms = 0.012 Ha = 8 kcal/mol\n",
    "\n",
    "Error in atomisation energy for QM7 molecules with 5000 training points = 5 kcal/mol and 8.5 kcal/mol for 2048 training points (and 5000 test points)\n",
    "\n",
    "The errors are similar (check distribution of QM7 molecules to make sure they are also comparable)\n",
    "suggests, that noise in data is not an issue but spread (shift and rescale)\n",
    "\n",
    "compare to learning curve of 38Ve molecules"
   ]
  },
  {
   "cell_type": "markdown",
   "metadata": {},
   "source": [
    "### Alchemical potentials vs atomisation energy molecule"
   ]
  },
  {
   "cell_type": "code",
   "execution_count": null,
   "metadata": {},
   "outputs": [],
   "source": [
    "molecule_atomisation = qmi.generate_label_vector(data, len(molecule_size), 'atomisation_global')\n",
    "kde_molecule = sc.stats.gaussian_kde(molecule_atomisation)\n",
    "x_molecule = np.linspace(np.amin(molecule_atomisation)-1, np.amax(molecule_atomisation)+1, 500)"
   ]
  },
  {
   "cell_type": "code",
   "execution_count": null,
   "metadata": {},
   "outputs": [],
   "source": [
    "mean_atomisation_mol = molecule_atomisation.mean()\n",
    "\n",
    "mean_alch_h = qmi.get_average_property(idc_by_charge[1][0], data, molecule_size, 'alch_pot')[1]\n",
    "mean_alch_c = qmi.get_average_property(idc_by_charge[6][0], data, molecule_size, 'alch_pot')[6]\n",
    "mean_alch_n = qmi.get_average_property(idc_by_charge[7][0], data, molecule_size, 'alch_pot')[7]\n",
    "mean_alch_o = qmi.get_average_property(idc_by_charge[8][0], data, molecule_size, 'alch_pot')[8]\n",
    "\n",
    "delta_values = np.zeros((len(alch_pot)))\n",
    "delta_values[idc_by_charge[1]] = mean_alch_h\n",
    "delta_values[idc_by_charge[6]] = mean_alch_c\n",
    "delta_values[idc_by_charge[7]] = mean_alch_n\n",
    "delta_values[idc_by_charge[8]] = mean_alch_o\n",
    "\n",
    "labels_shifted = alch_pot - delta_values"
   ]
  },
  {
   "cell_type": "code",
   "execution_count": null,
   "metadata": {},
   "outputs": [],
   "source": [
    "x_molecule_shifted = (x_molecule - mean_atomisation_mol)\n",
    "kde_molecule_shifted = sc.stats.gaussian_kde(molecule_atomisation - mean_atomisation_mol)\n",
    "x_alch_shifted_all = np.linspace(np.amin(labels_shifted)-0.5, np.amax(labels_shifted)+0.5, 500 )\n",
    "kde_alch_shifted = sc.stats.gaussian_kde(labels_shifted)\n",
    "\n",
    "x_alch_shifted = dict()\n",
    "x_alch_shifted[1] = (x_alch[1] - mean_alch_h)\n",
    "x_alch_shifted[6] = (x_alch[6] - mean_alch_c)\n",
    "x_alch_shifted[7] = (x_alch[7] - mean_alch_n)\n",
    "x_alch_shifted[8] = (x_alch[8] - mean_alch_o)\n",
    "\n",
    "kde_h_shifted = sc.stats.gaussian_kde(alch_pot[idc_by_charge[1]] - mean_alch_h)\n",
    "kde_c_shifted = sc.stats.gaussian_kde(alch_pot[idc_by_charge[6]] - mean_alch_c)\n",
    "kde_n_shifted = sc.stats.gaussian_kde(alch_pot[idc_by_charge[7]] - mean_alch_n)\n",
    "kde_o_shifted = sc.stats.gaussian_kde(alch_pot[idc_by_charge[8]] - mean_alch_o)"
   ]
  },
  {
   "cell_type": "code",
   "execution_count": null,
   "metadata": {},
   "outputs": [],
   "source": [
    "fig, ax = plt.subplots(1,1)\n",
    "ax.plot(x_molecule_shifted, kde_molecule_shifted.evaluate(x_molecule_shifted), label = r'$E_{\\rm{at}^{\\rm{mol}}}$')\n",
    "ax.plot(x_alch_shifted_all, kde_alch_shifted.evaluate(x_alch_shifted_all), label=r'$\\mu$')\n",
    "ax.legend()"
   ]
  },
  {
   "cell_type": "code",
   "execution_count": null,
   "metadata": {},
   "outputs": [],
   "source": [
    "fig, ax = plt.subplots(1,1)\n",
    "\n",
    "ax.plot(x_molecule_shifted, kde_molecule_shifted.evaluate(x_molecule_shifted), label = r'$E_{\\rm{at}^{\\rm{mol}}}$')\n",
    "ax.plot(x_alch_shifted_all, kde_alch_shifted.evaluate(x_alch_shifted_all), label=r'$\\mu$')\n",
    "ax.plot(x_alch_shifted[1], kde_h_shifted.evaluate(x_alch_shifted[1]), '--', label=r'$\\mu_H$')\n",
    "ax.plot(x_alch_shifted[6], kde_c_shifted.evaluate(x_alch_shifted[6]), '--',label=r'$\\mu_C$')\n",
    "ax.plot(x_alch_shifted[7], kde_n_shifted.evaluate(x_alch_shifted[7]), '--',label=r'$\\mu_N$')\n",
    "ax.plot(x_alch_shifted[8], kde_o_shifted.evaluate(x_alch_shifted[8]), '--',label=r'$\\mu_O$')\n",
    "# ax.set_xlim(-1.5, 1.5)\n",
    "ax.legend()\n"
   ]
  },
  {
   "cell_type": "code",
   "execution_count": null,
   "metadata": {},
   "outputs": [],
   "source": [
    "fig, ax = plt.subplots(1,1)\n",
    "ax.plot(x_alch_shifted[1], kde_h_shifted.evaluate(x_alch_shifted[1]), label=r'$\\mu_H$')\n",
    "ax.plot(x_alch_shifted[6], kde_c_shifted.evaluate(x_alch_shifted[6]), label=r'$\\mu_C$')\n",
    "ax.plot(x_alch_shifted[7], kde_n_shifted.evaluate(x_alch_shifted[7]), label=r'$\\mu_N$')\n",
    "ax.plot(x_alch_shifted[8], kde_o_shifted.evaluate(x_alch_shifted[8]), label=r'$\\mu_O$')\n",
    "ax.legend()"
   ]
  },
  {
   "cell_type": "markdown",
   "metadata": {},
   "source": [
    "### Learning Alch pot"
   ]
  },
  {
   "cell_type": "code",
   "execution_count": null,
   "metadata": {},
   "outputs": [],
   "source": [
    "all_local_reps = qmi.generate_atomic_representations(data, molecule_size)\n",
    "all_labels = labels_shifted"
   ]
  },
  {
   "cell_type": "code",
   "execution_count": null,
   "metadata": {},
   "outputs": [],
   "source": [
    "sigmas = np.logspace(-1, 10, 11, base=2)\n",
    "lam_val = 1e-5\n",
    "num_cv = 3\n",
    "\n",
    "lcurves = dict()\n",
    "\n",
    "# define number of training points for which MAE is calculated\n",
    "set_sizes = np.logspace(0, 11, 12, base=2).astype(int)\n",
    "\n",
    "for sigma in sigmas:\n",
    "    error_cv = []\n",
    "    error_std = []\n",
    "    # calculate error for every training point size\n",
    "    for idx, tr_size in enumerate(set_sizes):\n",
    "        err, err_std = crossvalidate(all_local_reps, all_labels, tr_size, sigma, lam_val, num_cv)\n",
    "        error_cv.append(err)\n",
    "        error_std.append(err_std)\n",
    "    \n",
    "    lcurves[f'sig_{sigma}'] = np.array([set_sizes, error_cv, error_std]).T"
   ]
  },
  {
   "cell_type": "code",
   "execution_count": null,
   "metadata": {},
   "outputs": [],
   "source": [
    "NUM_COLORS = len(lcurves.keys())\n",
    "# cm_jet = plt.get_cmap('jet')\n",
    "# cNorm  = colors.Normalize(vmin=0, vmax=NUM_COLORS-1)\n",
    "# scalarMap = cm.ScalarMappable(norm=cNorm, cmap=cm_jet)\n",
    "jet = cm = plt.get_cmap('jet') \n",
    "cNorm  = colors.Normalize(vmin=0, vmax=NUM_COLORS-1)\n",
    "scalarMap = cmx.ScalarMappable(norm=cNorm, cmap=jet)"
   ]
  },
  {
   "cell_type": "code",
   "execution_count": null,
   "metadata": {},
   "outputs": [],
   "source": [
    "fig, ax = plt.subplots(1,1)\n",
    "plt.rcParams['figure.figsize'] = [6.0, 4.0]\n",
    "ax.set_prop_cycle(color=[scalarMap.to_rgba(i) for i in range(NUM_COLORS)])\n",
    "for k in lcurves.keys():\n",
    "    ax.plot(lcurves[k][:,0], lcurves[k][:,1], '-o', label=r'$\\sigma = {}$'.format(np.round( float(k.split('_')[1]), 2 )) )\n",
    "ax.set_xscale('log')\n",
    "ax.set_yscale('log')\n",
    "ax.legend(bbox_to_anchor=(1.05, 1), loc='upper left', borderaxespad=0.)"
   ]
  },
  {
   "cell_type": "markdown",
   "metadata": {},
   "source": [
    "- the error is higher than for atomic energies (check for bugs, overwritten variables...)\n",
    "\n",
    "$\\rightarrow$ rescaling and shifting is probably not the issue\n",
    "\n",
    "the surface is non smooth, rescaling does not help makes it even more non smooth\n",
    "\n",
    "$\\rightarrow$ change of representation could help\n",
    "\n",
    "- also learning only H is easier (maybe smoother)\n",
    "$\\rightarrow$ learn all elements individually\n",
    "\n",
    "what is the optimal representation? \n",
    "$\\rightarrow$  investigate label distribution, distance distribution (for all together/single element)\n",
    "\n",
    "deep neural networks are supposed to work better for non smooth systems"
   ]
  },
  {
   "cell_type": "code",
   "execution_count": null,
   "metadata": {},
   "outputs": [],
   "source": [
    "lcurves['sig_48.50293012833276']"
   ]
  }
 ],
 "metadata": {
  "kernelspec": {
   "display_name": "Python [conda env:atomic-energies]",
   "language": "python",
   "name": "conda-env-atomic-energies-py"
  },
  "language_info": {
   "codemirror_mode": {
    "name": "ipython",
    "version": 3
   },
   "file_extension": ".py",
   "mimetype": "text/x-python",
   "name": "python",
   "nbconvert_exporter": "python",
   "pygments_lexer": "ipython3",
   "version": "3.7.3"
  }
 },
 "nbformat": 4,
 "nbformat_minor": 4
}
