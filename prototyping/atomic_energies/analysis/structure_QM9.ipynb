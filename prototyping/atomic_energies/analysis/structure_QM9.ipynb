{
 "cells": [
  {
   "cell_type": "code",
   "execution_count": 11,
   "metadata": {},
   "outputs": [],
   "source": [
    "#import matplotlib\n",
    "##matplotlib.use('Qt5Agg')\n",
    "from matplotlib import pyplot as plt\n",
    "plt.rcParams.update({'font.size': 22})\n",
    "import qml\n",
    "import numpy as np\n",
    "import os\n",
    "\n",
    "import sys\n",
    "sys.path.insert(0, '/home/misa/APDFT/prototyping/atomic_energies/')\n",
    "import explore_qml_data as qt\n",
    "\n",
    "# calculates number of valence electrons based on nuclear charges\n",
    "def get_num_val_elec(nuclear_charges):\n",
    "    num_val = 0\n",
    "    for charge in nuclear_charges:\n",
    "        el = 0\n",
    "        if charge <=2:\n",
    "            num_val += charge\n",
    "        elif charge >= 3 and charge <= 10:\n",
    "            el = charge - 2\n",
    "            num_val += el\n",
    "        elif charge >= 11 and charge <= 18:\n",
    "            el = charge - 10\n",
    "            num_val += el\n",
    "        else:\n",
    "            assert('Cannot calculate number of valence electrons!')\n",
    "    return(num_val)"
   ]
  },
  {
   "cell_type": "code",
   "execution_count": 2,
   "metadata": {},
   "outputs": [],
   "source": [
    "# load qm9 data into qml compounds and count number of valence electrons per compound\n",
    "\n",
    "# build path to data\n",
    "d = '/home/misa/datasets/qm9/'\n",
    "path_list = [os.path.join(d, f) for f in os.listdir(d)]\n",
    "path_list.sort()\n",
    "\n",
    "#calculate number of valence electrons for every compound\n",
    "compounds = []\n",
    "num_val = np.empty(len(path_list), dtype=int)\n",
    "for idx, file in enumerate(path_list):\n",
    "    mol = qml.Compound(xyz=file)\n",
    "    num_val[idx] = get_num_val_elec(mol.nuclear_charges)\n",
    "    \n",
    "    if num_val[idx] == 38:\n",
    "        compounds.append(file)\n",
    "        "
   ]
  },
  {
   "cell_type": "code",
   "execution_count": 12,
   "metadata": {},
   "outputs": [
    {
     "data": {
      "text/plain": [
       "Text(0.5, 0, '# of valence electrons')"
      ]
     },
     "execution_count": 12,
     "metadata": {},
     "output_type": "execute_result"
    },
    {
     "data": {
      "image/png": "[encoded data removed]",
      "text/plain": [
       "<Figure size 432x288 with 1 Axes>"
      ]
     },
     "metadata": {
      "needs_background": "light"
     },
     "output_type": "display_data"
    }
   ],
   "source": [
    "# plot distribution of molecules as a function of number of valence electrons \n",
    "occurences = np.bincount(num_val)\n",
    "electron_number = np.linspace(0, 56, 57)\n",
    "\n",
    "\n",
    "#plt.bar(electron_number, np.log10(occurences))\n",
    "#plt.plot(np.linspace(0, 56,2), np.array([4,4]), color='tab:grey')\n",
    "#plt.ylabel(r'$\\log_{10}$ (# of molecules)')\n",
    "\n",
    "plt.bar(electron_number, occurences)\n",
    "plt.plot(np.linspace(0, 56,2), np.array([10000,10000]), color='tab:grey')\n",
    "plt.ylabel(r'# of molecules')\n",
    "\n",
    "plt.xlabel('# of valence electrons')\n",
    "#plt.show()"
   ]
  },
  {
   "cell_type": "code",
   "execution_count": null,
   "metadata": {},
   "outputs": [],
   "source": [
    "# slice of qm9 with 38 valence electrons\n",
    "# show largest distance of between nucleus and geometric center for every molecule\n",
    "\n",
    "path_list = []\n",
    "with open('/home/misa/APDFT/prototyping/atomic_energies/results/val_el_38.txt') as file:\n",
    "    path_list = [line.rstrip('\\n') for line in file]\n",
    "    \n",
    "compounds = qt.load_compounds(path_list)\n",
    "largest_comp = qt.find_largest_mol(compounds)\n",
    "\n",
    "distances = qt.max_dist_distribution(compounds)\n",
    "x=np.linspace(0, len(distances)-1, len(distances))\n",
    "plt.rcParams.update({'font.size': 18})\n",
    "plt.plot(x, distances, '-o', markersize=2)\n",
    "plt.xlabel('Index of molecules in qm9 with 38 VE')\n",
    "plt.ylabel(r'max$ ||\\vec{R}-\\vec{C}||_F $')"
   ]
  },
  {
   "cell_type": "code",
   "execution_count": null,
   "metadata": {},
   "outputs": [],
   "source": [
    "idx=1250\n",
    "from ase import Atoms\n",
    "from ase.visualize import view\n",
    "molecule = Atoms(compounds[idx].atomtypes, positions=compounds[idx].coordinates)\n",
    "view(molecule, viewer='Avogadro')"
   ]
  },
  {
   "cell_type": "code",
   "execution_count": null,
   "metadata": {},
   "outputs": [],
   "source": [
    "compounds[idx].name"
   ]
  },
  {
   "cell_type": "code",
   "execution_count": null,
   "metadata": {},
   "outputs": [],
   "source": [
    "qt.max_dist_center_nuc(compounds[idx])\n",
    "# np.median(distances)"
   ]
  },
  {
   "cell_type": "code",
   "execution_count": null,
   "metadata": {},
   "outputs": [],
   "source": [
    "fig, ax = plt.subplots(1,1)\n",
    "d_sorted = np.sort(distances)\n",
    "ax.plot(d_sorted, x)"
   ]
  }
 ],
 "metadata": {
  "kernelspec": {
   "display_name": "Python (atmoic-energies)",
   "language": "python",
   "name": "atomic-energies"
  },
  "language_info": {
   "codemirror_mode": {
    "name": "ipython",
    "version": 3
   },
   "file_extension": ".py",
   "mimetype": "text/x-python",
   "name": "python",
   "nbconvert_exporter": "python",
   "pygments_lexer": "ipython3",
   "version": "3.7.3"
  }
 },
 "nbformat": 4,
 "nbformat_minor": 4
}
