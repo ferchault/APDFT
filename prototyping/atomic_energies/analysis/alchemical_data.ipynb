{
 "cells": [
  {
   "cell_type": "code",
   "execution_count": 64,
   "id": "2d7113fb-e9a6-4d9d-821c-5ec16b98d285",
   "metadata": {},
   "outputs": [],
   "source": [
    "import pandas as pd\n",
    "import glob\n",
    "import numpy as np\n",
    "from matplotlib import pyplot as plt\n",
    "\n",
    "import sys\n",
    "sys.path.insert(0, '/home/sahre/git_repositories/APDFT/prototyping/atomic_energies/')\n",
    "import bt_tools as bt"
   ]
  },
  {
   "cell_type": "code",
   "execution_count": 65,
   "id": "b8f442e1-f1ad-41c7-804a-6fb46eb8eb0d",
   "metadata": {},
   "outputs": [],
   "source": [
    "# add the atomic energy of the heavy atom and its hydrogens, e.g. E_C + 4* E_H for CH4\n",
    "e_frags = []\n",
    "for f in ['C', 'N', 'O', 'F']:\n",
    "    e = np.loadtxt(f'/data/sahre/projects/atomic-energies/data/bonding_trends/alchemy/sat_frags/{f}/atomic_energies_sat_frag.txt', skiprows=1)\n",
    "    e_frags.append(e[:,-1].sum())\n",
    "    \n",
    "e_frags = dict(zip(['C', 'N', 'O', 'F'] , e_frags))\n",
    "\n",
    "# atomic energy of hydrogen in H2\n",
    "e_H2 = (-1.029154884995695962e+00+-1.029154960269883290e+00)/2\n",
    "\n",
    "comps = ['CC', 'CN', 'CO', 'CF', 'NN', 'NO', 'NF', 'OO', 'OF', 'FF']\n",
    "energies = []\n",
    "\n",
    "for c in comps:\n",
    "    file = f'/data/sahre/projects/atomic-energies/data/bonding_trends/alchemy/diatomics/{c}/binding_energy.txt'\n",
    "    with open(file, 'r') as f:\n",
    "        f.readline()\n",
    "        e = []\n",
    "        Z = []\n",
    "        \n",
    "\n",
    "        for line, el in zip(f, c):\n",
    "            Z.append(float(line.strip('\\n').split()[0]))\n",
    "            # atomic energy of heavy atom in diatomic plus atomic energy of attached hydrogens + 0.5 atomic energy of H in H2 \n",
    "            # - atomic energy of heavy atom in saturated fragment including atomic energy of attached hydrogens\n",
    "            e.append(float(line.strip('\\n').split()[2])+e_H2-e_frags[el])\n",
    "        if Z[0] == Z[1]:\n",
    "            energies.append([Z[0], Z[0], (e[0]+e[1])/2])\n",
    "        else:\n",
    "            energies.append([Z[0], Z[1], e[0]])\n",
    "            energies.append([Z[1], Z[0], e[1]])\n",
    "            \n",
    "energies = np.array(energies)\n",
    "\n",
    "# for each diatomic there are two energies\n",
    "# e.g. H3CNH2:\n",
    "# 6,7: energy of carbon fragment ( as defined above)\n",
    "# 7, 6: energy of nitrogen fragment\n",
    "# the sum of these energies is the reaction energy for the isodesmic reaction: H3CNH2 + H2 -> CH4 + NH3\n",
    "\n",
    "binding_data = pd.DataFrame(energies, columns=['ZA', 'ZB', 'EA'])"
   ]
  },
  {
   "cell_type": "code",
   "execution_count": 66,
   "id": "130eebba-c0d4-4de4-89f8-b5297cab03da",
   "metadata": {},
   "outputs": [
    {
     "data": {
      "text/html": [
       "<div>\n",
       "<style scoped>\n",
       "    .dataframe tbody tr th:only-of-type {\n",
       "        vertical-align: middle;\n",
       "    }\n",
       "\n",
       "    .dataframe tbody tr th {\n",
       "        vertical-align: top;\n",
       "    }\n",
       "\n",
       "    .dataframe thead th {\n",
       "        text-align: right;\n",
       "    }\n",
       "</style>\n",
       "<table border=\"1\" class=\"dataframe\">\n",
       "  <thead>\n",
       "    <tr style=\"text-align: right;\">\n",
       "      <th></th>\n",
       "      <th>ZA</th>\n",
       "      <th>ZB</th>\n",
       "      <th>EA</th>\n",
       "    </tr>\n",
       "  </thead>\n",
       "  <tbody>\n",
       "    <tr>\n",
       "      <th>0</th>\n",
       "      <td>6.0</td>\n",
       "      <td>6.0</td>\n",
       "      <td>-5.594561</td>\n",
       "    </tr>\n",
       "    <tr>\n",
       "      <th>1</th>\n",
       "      <td>6.0</td>\n",
       "      <td>7.0</td>\n",
       "      <td>-5.952381</td>\n",
       "    </tr>\n",
       "    <tr>\n",
       "      <th>2</th>\n",
       "      <td>7.0</td>\n",
       "      <td>6.0</td>\n",
       "      <td>-5.616472</td>\n",
       "    </tr>\n",
       "    <tr>\n",
       "      <th>3</th>\n",
       "      <td>6.0</td>\n",
       "      <td>8.0</td>\n",
       "      <td>-6.296449</td>\n",
       "    </tr>\n",
       "    <tr>\n",
       "      <th>4</th>\n",
       "      <td>8.0</td>\n",
       "      <td>6.0</td>\n",
       "      <td>-5.487414</td>\n",
       "    </tr>\n",
       "    <tr>\n",
       "      <th>5</th>\n",
       "      <td>6.0</td>\n",
       "      <td>9.0</td>\n",
       "      <td>-6.502801</td>\n",
       "    </tr>\n",
       "    <tr>\n",
       "      <th>6</th>\n",
       "      <td>9.0</td>\n",
       "      <td>6.0</td>\n",
       "      <td>-5.404629</td>\n",
       "    </tr>\n",
       "    <tr>\n",
       "      <th>7</th>\n",
       "      <td>7.0</td>\n",
       "      <td>7.0</td>\n",
       "      <td>-5.969523</td>\n",
       "    </tr>\n",
       "    <tr>\n",
       "      <th>8</th>\n",
       "      <td>7.0</td>\n",
       "      <td>8.0</td>\n",
       "      <td>-6.282718</td>\n",
       "    </tr>\n",
       "    <tr>\n",
       "      <th>9</th>\n",
       "      <td>8.0</td>\n",
       "      <td>7.0</td>\n",
       "      <td>-5.908066</td>\n",
       "    </tr>\n",
       "    <tr>\n",
       "      <th>10</th>\n",
       "      <td>7.0</td>\n",
       "      <td>9.0</td>\n",
       "      <td>-6.640589</td>\n",
       "    </tr>\n",
       "    <tr>\n",
       "      <th>11</th>\n",
       "      <td>9.0</td>\n",
       "      <td>7.0</td>\n",
       "      <td>-5.969177</td>\n",
       "    </tr>\n",
       "    <tr>\n",
       "      <th>12</th>\n",
       "      <td>8.0</td>\n",
       "      <td>8.0</td>\n",
       "      <td>-6.365667</td>\n",
       "    </tr>\n",
       "    <tr>\n",
       "      <th>13</th>\n",
       "      <td>8.0</td>\n",
       "      <td>9.0</td>\n",
       "      <td>-6.558554</td>\n",
       "    </tr>\n",
       "    <tr>\n",
       "      <th>14</th>\n",
       "      <td>9.0</td>\n",
       "      <td>8.0</td>\n",
       "      <td>-6.280559</td>\n",
       "    </tr>\n",
       "    <tr>\n",
       "      <th>15</th>\n",
       "      <td>9.0</td>\n",
       "      <td>9.0</td>\n",
       "      <td>-6.518670</td>\n",
       "    </tr>\n",
       "  </tbody>\n",
       "</table>\n",
       "</div>"
      ],
      "text/plain": [
       "     ZA   ZB        EA\n",
       "0   6.0  6.0 -5.594561\n",
       "1   6.0  7.0 -5.952381\n",
       "2   7.0  6.0 -5.616472\n",
       "3   6.0  8.0 -6.296449\n",
       "4   8.0  6.0 -5.487414\n",
       "5   6.0  9.0 -6.502801\n",
       "6   9.0  6.0 -5.404629\n",
       "7   7.0  7.0 -5.969523\n",
       "8   7.0  8.0 -6.282718\n",
       "9   8.0  7.0 -5.908066\n",
       "10  7.0  9.0 -6.640589\n",
       "11  9.0  7.0 -5.969177\n",
       "12  8.0  8.0 -6.365667\n",
       "13  8.0  9.0 -6.558554\n",
       "14  9.0  8.0 -6.280559\n",
       "15  9.0  9.0 -6.518670"
      ]
     },
     "execution_count": 66,
     "metadata": {},
     "output_type": "execute_result"
    }
   ],
   "source": [
    "binding_data"
   ]
  },
  {
   "cell_type": "code",
   "execution_count": 67,
   "id": "315b508d-8a2a-4f74-80bd-d0bf90a45d02",
   "metadata": {},
   "outputs": [
    {
     "data": {
      "text/plain": [
       "<matplotlib.legend.Legend at 0x7f8ed3468430>"
      ]
     },
     "execution_count": 67,
     "metadata": {},
     "output_type": "execute_result"
    },
    {
     "data": {
      "image/png": "[encoded data removed]",
      "text/plain": [
       "<Figure size 432x288 with 1 Axes>"
      ]
     },
     "metadata": {
      "needs_background": "light"
     },
     "output_type": "display_data"
    }
   ],
   "source": [
    "# the energy of the fragment energy as function of the binding partner\n",
    "for Z in range(6, 10):\n",
    "    plt.plot(binding_data.loc[binding_data['ZA']==Z, 'ZB'], binding_data.loc[binding_data['ZA']==Z, 'EA'], '-o', label = Z)\n",
    "plt.legend()"
   ]
  },
  {
   "cell_type": "code",
   "execution_count": 68,
   "id": "f937b49b-ddb2-48aa-8bf4-d19c495cb17a",
   "metadata": {},
   "outputs": [
    {
     "name": "stdout",
     "output_type": "stream",
     "text": [
      "Error in kcal/mol = 29.369425901347082\n"
     ]
    },
    {
     "data": {
      "image/png": "[encoded data removed]",
      "text/plain": [
       "<Figure size 432x288 with 1 Axes>"
      ]
     },
     "metadata": {
      "needs_background": "light"
     },
     "output_type": "display_data"
    }
   ],
   "source": [
    "# linear model with isodesmic fragment energies\n",
    "ZA = []\n",
    "ZB = []\n",
    "for i in range(6, 10):\n",
    "    for j in range(i, 10):\n",
    "        ZA.append(i)\n",
    "        ZB.append(j)\n",
    "xdata = np.array((ZA, ZB)).T\n",
    "\n",
    "# construct BDE opbject\n",
    "mat_gen = bt.BDE_clean(0,0,0,0, ZA, ZB, xdata)\n",
    "coeff_mat = mat_gen.get_coeff_mat()\n",
    "\n",
    "# sum of fragment energies = reaction energy for isodesmic reaction\n",
    "binding_energies = []\n",
    "for za, zb in xdata:\n",
    "    EA = binding_data.loc[(binding_data['ZA'] == za) & (binding_data['ZB']==zb), 'EA'].item()\n",
    "    EB = binding_data.loc[(binding_data['ZA'] == zb) & (binding_data['ZB']==za), 'EA'].item()\n",
    "    binding_energies.append(EA+EB)\n",
    "# linear model\n",
    "a,b,c,d = np.linalg.lstsq(coeff_mat, binding_energies, rcond=None)\n",
    "bef = a@coeff_mat.T # fitted energies\n",
    "\n",
    "plt.plot(binding_energies, '-o', label = 'ref')\n",
    "plt.plot(bef, '-o', label = 'fit')\n",
    "plt.legend()\n",
    "print('Error in kcal/mol = ' + str(np.abs(binding_energies-bef).mean()*630))"
   ]
  },
  {
   "cell_type": "code",
   "execution_count": 128,
   "id": "900d7249-1127-43d2-8e39-7ab84c621bbd",
   "metadata": {},
   "outputs": [
    {
     "data": {
      "text/plain": [
       "<matplotlib.legend.Legend at 0x7fda44562430>"
      ]
     },
     "execution_count": 128,
     "metadata": {},
     "output_type": "execute_result"
    },
    {
     "data": {
      "image/png": "[encoded data removed]",
      "text/plain": [
       "<Figure size 432x288 with 1 Axes>"
      ]
     },
     "metadata": {
      "needs_background": "light"
     },
     "output_type": "display_data"
    }
   ],
   "source": [
    "# do the alchemical electronic binding energies in isodesmic reaction have same trend as SCF binding energies for homolytic bond dissociation?\n",
    "\n",
    "\n",
    "# electronic energy diatomics\n",
    "e_dia_ele = np.loadtxt('/data/sahre/projects/atomic-energies/data/bonding_trends/diatomics/electronic_energies/e_dia_ele.txt')\n",
    "# electronic energy of radicals including hydrogens\n",
    "e_rad_el =  dict(zip(['C', 'N', 'O', 'F'] , [-49.468519962737474, -63.378335102918356, -80.03487167261326, -99.67399896980169]))\n",
    "\n",
    "comps = ['CC', 'CN', 'CO', 'CF', 'NN', 'NO', 'NF', 'OO', 'OF', 'FF']\n",
    "ebele = []\n",
    "for e, c in zip(e_dia_ele, comps):\n",
    "    ebele.append(e - (e_rad_el[c[0]]+e_rad_el[c[1]]))\n",
    "    \n",
    "plt.plot(ebele, '-o', label = 'homolytic SCF')\n",
    "plt.plot(np.array(binding_energies)*2, '-o', label = 'isodesmic alchemicy scaled')\n",
    "plt.legend()"
   ]
  },
  {
   "cell_type": "code",
   "execution_count": 123,
   "id": "41c20383-ed5c-47ae-a4ce-be24263362ec",
   "metadata": {
    "collapsed": true,
    "jupyter": {
     "outputs_hidden": true
    },
    "tags": []
   },
   "outputs": [
    {
     "name": "stderr",
     "output_type": "stream",
     "text": [
      "\n",
      "                                        \u001b[91m())))))))))))))))/\u001b[0m                     \n",
      "                                    \u001b[91m())))))))))))))))))))))))),\u001b[0m                \n",
      "                                \u001b[91m*)))))))))))))))))))))))))))))))))\u001b[0m             \n",
      "                        \u001b[94m#,\u001b[0m    \u001b[91m()))))))))/\u001b[0m                \u001b[91m.)))))))))),\u001b[0m          \n",
      "                      \u001b[94m#%%%%,\u001b[0m  \u001b[91m())))))\u001b[0m                        \u001b[91m.))))))))*\u001b[0m        \n",
      "                      \u001b[94m*%%%%%%,\u001b[0m  \u001b[91m))\u001b[0m              \u001b[93m..\u001b[0m              \u001b[91m,))))))).\u001b[0m      \n",
      "                        \u001b[94m*%%%%%%,\u001b[0m         \u001b[93m***************/.\u001b[0m        \u001b[91m.)))))))\u001b[0m     \n",
      "                \u001b[94m#%%/\u001b[0m      \u001b[94m(%%%%%%,\u001b[0m    \u001b[93m/*********************.\u001b[0m       \u001b[91m)))))))\u001b[0m    \n",
      "              \u001b[94m.%%%%%%#\u001b[0m      \u001b[94m*%%%%%%,\u001b[0m  \u001b[93m*******/,\u001b[0m     \u001b[93m**********,\u001b[0m      \u001b[91m.))))))\u001b[0m   \n",
      "                \u001b[94m.%%%%%%/\u001b[0m      \u001b[94m*%%%%%%,\u001b[0m  \u001b[93m**\u001b[0m              \u001b[93m********\u001b[0m      \u001b[91m.))))))\u001b[0m  \n",
      "          \u001b[94m##\u001b[0m      \u001b[94m.%%%%%%/\u001b[0m      \u001b[94m(%%%%%%,\u001b[0m                  \u001b[93m,******\u001b[0m      \u001b[91m/)))))\u001b[0m  \n",
      "        \u001b[94m%%%%%%\u001b[0m      \u001b[94m.%%%%%%#\u001b[0m      \u001b[94m*%%%%%%,\u001b[0m    \u001b[92m,/////.\u001b[0m       \u001b[93m******\u001b[0m      \u001b[91m))))))\u001b[0m \n",
      "      \u001b[94m#%\u001b[0m      \u001b[94m%%\u001b[0m      \u001b[94m.%%%%%%/\u001b[0m      \u001b[94m*%%%%%%,\u001b[0m  \u001b[92m////////,\u001b[0m      \u001b[93m*****/\u001b[0m     \u001b[91m,)))))\u001b[0m \n",
      "    \u001b[94m#%%\u001b[0m  \u001b[94m%%%\u001b[0m  \u001b[94m%%%#\u001b[0m      \u001b[94m.%%%%%%/\u001b[0m      \u001b[94m(%%%%%%,\u001b[0m  \u001b[92m///////.\u001b[0m     \u001b[93m/*****\u001b[0m      \u001b[91m))))).\u001b[0m\n",
      "  \u001b[94m#%%%%.\u001b[0m      \u001b[94m%%%%%#\u001b[0m      \u001b[94m/%%%%%%*\u001b[0m      \u001b[94m#%%%%%%\u001b[0m   \u001b[92m/////)\u001b[0m     \u001b[93m******\u001b[0m      \u001b[91m))))),\u001b[0m\n",
      "    \u001b[94m#%%%%##%\u001b[0m  \u001b[94m%%%#\u001b[0m      \u001b[94m.%%%%%%/\u001b[0m      \u001b[94m(%%%%%%,\u001b[0m  \u001b[92m///////.\u001b[0m     \u001b[93m/*****\u001b[0m      \u001b[91m))))).\u001b[0m\n",
      "      \u001b[94m##\u001b[0m     \u001b[94m%%%\u001b[0m      \u001b[94m.%%%%%%/\u001b[0m      \u001b[94m*%%%%%%,\u001b[0m  \u001b[92m////////.\u001b[0m      \u001b[93m*****/\u001b[0m     \u001b[91m,)))))\u001b[0m \n",
      "        \u001b[94m#%%%%#\u001b[0m      \u001b[94m/%%%%%%/\u001b[0m      \u001b[94m(%%%%%%\u001b[0m      \u001b[92m/)/)//\u001b[0m       \u001b[93m******\u001b[0m      \u001b[91m))))))\u001b[0m \n",
      "          \u001b[94m##\u001b[0m      \u001b[94m.%%%%%%/\u001b[0m      \u001b[94m(%%%%%%,\u001b[0m                  \u001b[93m*******\u001b[0m      \u001b[91m))))))\u001b[0m  \n",
      "                \u001b[94m.%%%%%%/\u001b[0m      \u001b[94m*%%%%%%,\u001b[0m  \u001b[93m**.\u001b[0m             \u001b[93m/*******\u001b[0m      \u001b[91m.))))))\u001b[0m  \n",
      "              \u001b[94m*%%%%%%/\u001b[0m      \u001b[94m(%%%%%%\u001b[0m   \u001b[93m********/*..,*/*********\u001b[0m       \u001b[91m*))))))\u001b[0m   \n",
      "                \u001b[94m#%%/\u001b[0m      \u001b[94m(%%%%%%,\u001b[0m    \u001b[93m*********************/\u001b[0m        \u001b[91m)))))))\u001b[0m    \n",
      "                        \u001b[94m*%%%%%%,\u001b[0m         \u001b[93m,**************/\u001b[0m         \u001b[91m,))))))/\u001b[0m     \n",
      "                      \u001b[94m(%%%%%%\u001b[0m   \u001b[91m()\u001b[0m                              \u001b[91m))))))))\u001b[0m       \n",
      "                      \u001b[94m#%%%%,\u001b[0m  \u001b[91m())))))\u001b[0m                        \u001b[91m,)))))))),\u001b[0m        \n",
      "                        \u001b[94m#,\u001b[0m    \u001b[91m())))))))))\u001b[0m                \u001b[91m,)))))))))).\u001b[0m          \n",
      "                                 \u001b[91m()))))))))))))))))))))))))))))))/\u001b[0m             \n",
      "                                    \u001b[91m())))))))))))))))))))))))).\u001b[0m                \n",
      "                                         \u001b[91m())))))))))))))),\u001b[0m                     \n",
      "\n",
      "-=# \u001b[1;94m geomeTRIC started. Version: 0.9.7.2 \u001b[0m #=-\n",
      "geometric-optimize called with the following command line:\n",
      "/home/sahre/opt/miniconda3/envs/qm-tools/lib/python3.9/site-packages/ipykernel_launcher.py -f /home/sahre/.local/share/jupyter/runtime/kernel-e88c688d-eb8e-4eca-a035-2f871d3bc74c.json\n",
      "24 internal coordinates being used (instead of 24 Cartesians)\n",
      "Internal coordinate system (atoms numbered from 1):\n",
      "Distance 1-2\n",
      "Distance 1-3\n",
      "Distance 1-4\n",
      "Distance 1-5\n",
      "Distance 2-6\n",
      "Distance 2-7\n",
      "Distance 2-8\n",
      "Angle 2-1-3\n",
      "Angle 2-1-4\n",
      "Angle 2-1-5\n",
      "Angle 3-1-4\n",
      "Angle 3-1-5\n",
      "Angle 4-1-5\n",
      "Angle 1-2-6\n",
      "Angle 1-2-7\n",
      "Angle 1-2-8\n",
      "Angle 6-2-7\n",
      "Angle 6-2-8\n",
      "Angle 7-2-8\n",
      "Dihedral 3-1-2-6\n",
      "Dihedral 3-1-2-7\n",
      "Dihedral 3-1-2-8\n",
      "Dihedral 4-1-2-6\n",
      "Dihedral 4-1-2-7\n",
      "Dihedral 4-1-2-8\n",
      "Dihedral 5-1-2-6\n",
      "Dihedral 5-1-2-7\n",
      "Dihedral 5-1-2-8\n",
      "Translation-X 1-8\n",
      "Translation-Y 1-8\n",
      "Translation-Z 1-8\n",
      "Rotation-A 1-8\n",
      "Rotation-B 1-8\n",
      "Rotation-C 1-8\n",
      "<class 'geometric.internal.Distance'> : 7\n",
      "<class 'geometric.internal.Angle'> : 12\n",
      "<class 'geometric.internal.Dihedral'> : 9\n",
      "<class 'geometric.internal.TranslationX'> : 1\n",
      "<class 'geometric.internal.TranslationY'> : 1\n",
      "<class 'geometric.internal.TranslationZ'> : 1\n",
      "<class 'geometric.internal.RotationA'> : 1\n",
      "<class 'geometric.internal.RotationB'> : 1\n",
      "<class 'geometric.internal.RotationC'> : 1\n"
     ]
    },
    {
     "name": "stdout",
     "output_type": "stream",
     "text": [
      "\n",
      "Geometry optimization cycle 1\n",
      "Cartesian coordinates (Angstrom)\n",
      " Atom        New coordinates             dX        dY        dZ\n",
      "   C  -0.759176   0.007708  -0.015881    0.000000  0.000000  0.000000\n",
      "   C   0.759194  -0.007717   0.015884    0.000000  0.000000  0.000000\n",
      "   H  -1.180217  -0.102138   0.986421    0.000000  0.000000 -0.000000\n",
      "   H  -1.139942   0.944122  -0.430724    0.000000  0.000000  0.000000\n",
      "   H  -1.153596  -0.806698  -0.628356    0.000000  0.000000  0.000000\n",
      "   H   1.153728   0.809611   0.624380    0.000000  0.000000  0.000000\n",
      "   H   1.180194   0.097220  -0.986960    0.000000  0.000000  0.000000\n",
      "   H   1.139888  -0.942146   0.435248    0.000000  0.000000  0.000000\n",
      "converged SCF energy = -79.7502038166717\n",
      "--------------- SCF_Scanner gradients ---------------\n",
      "         x                y                z\n",
      "0 C     0.0000160184     0.0000004954     0.0000005014\n",
      "1 C    -0.0000166197     0.0000002881    -0.0000005485\n",
      "2 H    -0.0000049492    -0.0000167275     0.0000035285\n",
      "3 H    -0.0000047228     0.0000116527     0.0000135540\n",
      "4 H    -0.0000049828     0.0000061231    -0.0000163169\n",
      "5 H     0.0000057886     0.0000138754    -0.0000112463\n",
      "6 H     0.0000046835    -0.0000172002    -0.0000073438\n",
      "7 H     0.0000045978     0.0000015960     0.0000178256\n",
      "----------------------------------------------\n",
      "cycle 1: E = -79.7502038167  dE = -79.7502  norm(grad) = 5.08573e-05\n"
     ]
    },
    {
     "name": "stderr",
     "output_type": "stream",
     "text": [
      "Step    0 : Gradient = 1.798e-05/1.928e-05 (rms/max) Energy = -79.7502038167\n",
      "Hessian Eigenvalues: 2.30000e-02 5.00000e-02 5.00000e-02 ... 3.45048e-01 3.45048e-01 3.45048e-01\n"
     ]
    },
    {
     "name": "stdout",
     "output_type": "stream",
     "text": [
      "\n",
      "Geometry optimization cycle 2\n",
      "Cartesian coordinates (Angstrom)\n",
      " Atom        New coordinates             dX        dY        dZ\n",
      "   C  -0.759175   0.007688  -0.015896    0.000001 -0.000019 -0.000015\n",
      "   C   0.759197  -0.007700   0.015900    0.000003  0.000017  0.000016\n",
      "   H  -1.180211  -0.101938   0.986421    0.000006  0.000200  0.000000\n",
      "   H  -1.139932   0.943999  -0.430956    0.000010 -0.000123 -0.000232\n",
      "   H  -1.153549  -0.806861  -0.628191    0.000047 -0.000163  0.000165\n",
      "   H   1.153673   0.809486   0.624605   -0.000055 -0.000125  0.000225\n",
      "   H   1.180197   0.097498  -0.986906    0.000003  0.000278  0.000054\n",
      "   H   1.139888  -0.942219   0.435039   -0.000000 -0.000073 -0.000209\n",
      "converged SCF energy = -79.7502038615087\n",
      "--------------- SCF_Scanner gradients ---------------\n",
      "         x                y                z\n",
      "0 C     0.0000058640     0.0000002615     0.0000003559\n",
      "1 C    -0.0000060451    -0.0000001421    -0.0000003328\n",
      "2 H    -0.0000006561    -0.0000145188    -0.0000011697\n",
      "3 H    -0.0000007794     0.0000065862     0.0000139891\n",
      "4 H    -0.0000009085     0.0000091593    -0.0000118733\n",
      "5 H     0.0000016046     0.0000090008    -0.0000128561\n",
      "6 H     0.0000003937    -0.0000159879    -0.0000022398\n",
      "7 H     0.0000003587     0.0000057340     0.0000140851\n",
      "----------------------------------------------\n",
      "cycle 2: E = -79.7502038615  dE = -4.4837e-08  norm(grad) = 3.86041e-05\n"
     ]
    },
    {
     "name": "stderr",
     "output_type": "stream",
     "text": [
      "Step    1 : Displace = \u001b[92m2.097e-04\u001b[0m/\u001b[92m2.422e-04\u001b[0m (rms/max) Trust = 1.000e-01 (=) Grad = \u001b[92m1.365e-05\u001b[0m/\u001b[92m1.615e-05\u001b[0m (rms/max) E (change) = -79.7502038615 (\u001b[92m-4.484e-08\u001b[0m) Quality = \u001b[0m1.856\u001b[0m\n",
      "Converged! =D\n",
      "\n",
      "    #==========================================================================#\n",
      "    #| If this code has benefited your research, please support us by citing: |#\n",
      "    #|                                                                        |#\n",
      "    #| Wang, L.-P.; Song, C.C. (2016) \"Geometry optimization made simple with |#\n",
      "    #| translation and rotation coordinates\", J. Chem, Phys. 144, 214108.     |#\n",
      "    #| http://dx.doi.org/10.1063/1.4952956                                    |#\n",
      "    #==========================================================================#\n",
      "    \n",
      "Time elapsed since start of run_optimizer: 4.450 seconds\n"
     ]
    },
    {
     "name": "stdout",
     "output_type": "stream",
     "text": [
      "converged SCF energy = -79.7502038615218\n",
      "-79.75020386152177\n"
     ]
    },
    {
     "name": "stderr",
     "output_type": "stream",
     "text": [
      "\n",
      "                                        \u001b[91m())))))))))))))))/\u001b[0m                     \n",
      "                                    \u001b[91m())))))))))))))))))))))))),\u001b[0m                \n",
      "                                \u001b[91m*)))))))))))))))))))))))))))))))))\u001b[0m             \n",
      "                        \u001b[94m#,\u001b[0m    \u001b[91m()))))))))/\u001b[0m                \u001b[91m.)))))))))),\u001b[0m          \n",
      "                      \u001b[94m#%%%%,\u001b[0m  \u001b[91m())))))\u001b[0m                        \u001b[91m.))))))))*\u001b[0m        \n",
      "                      \u001b[94m*%%%%%%,\u001b[0m  \u001b[91m))\u001b[0m              \u001b[93m..\u001b[0m              \u001b[91m,))))))).\u001b[0m      \n",
      "                        \u001b[94m*%%%%%%,\u001b[0m         \u001b[93m***************/.\u001b[0m        \u001b[91m.)))))))\u001b[0m     \n",
      "                \u001b[94m#%%/\u001b[0m      \u001b[94m(%%%%%%,\u001b[0m    \u001b[93m/*********************.\u001b[0m       \u001b[91m)))))))\u001b[0m    \n",
      "              \u001b[94m.%%%%%%#\u001b[0m      \u001b[94m*%%%%%%,\u001b[0m  \u001b[93m*******/,\u001b[0m     \u001b[93m**********,\u001b[0m      \u001b[91m.))))))\u001b[0m   \n",
      "                \u001b[94m.%%%%%%/\u001b[0m      \u001b[94m*%%%%%%,\u001b[0m  \u001b[93m**\u001b[0m              \u001b[93m********\u001b[0m      \u001b[91m.))))))\u001b[0m  \n",
      "          \u001b[94m##\u001b[0m      \u001b[94m.%%%%%%/\u001b[0m      \u001b[94m(%%%%%%,\u001b[0m                  \u001b[93m,******\u001b[0m      \u001b[91m/)))))\u001b[0m  \n",
      "        \u001b[94m%%%%%%\u001b[0m      \u001b[94m.%%%%%%#\u001b[0m      \u001b[94m*%%%%%%,\u001b[0m    \u001b[92m,/////.\u001b[0m       \u001b[93m******\u001b[0m      \u001b[91m))))))\u001b[0m \n",
      "      \u001b[94m#%\u001b[0m      \u001b[94m%%\u001b[0m      \u001b[94m.%%%%%%/\u001b[0m      \u001b[94m*%%%%%%,\u001b[0m  \u001b[92m////////,\u001b[0m      \u001b[93m*****/\u001b[0m     \u001b[91m,)))))\u001b[0m \n",
      "    \u001b[94m#%%\u001b[0m  \u001b[94m%%%\u001b[0m  \u001b[94m%%%#\u001b[0m      \u001b[94m.%%%%%%/\u001b[0m      \u001b[94m(%%%%%%,\u001b[0m  \u001b[92m///////.\u001b[0m     \u001b[93m/*****\u001b[0m      \u001b[91m))))).\u001b[0m\n",
      "  \u001b[94m#%%%%.\u001b[0m      \u001b[94m%%%%%#\u001b[0m      \u001b[94m/%%%%%%*\u001b[0m      \u001b[94m#%%%%%%\u001b[0m   \u001b[92m/////)\u001b[0m     \u001b[93m******\u001b[0m      \u001b[91m))))),\u001b[0m\n",
      "    \u001b[94m#%%%%##%\u001b[0m  \u001b[94m%%%#\u001b[0m      \u001b[94m.%%%%%%/\u001b[0m      \u001b[94m(%%%%%%,\u001b[0m  \u001b[92m///////.\u001b[0m     \u001b[93m/*****\u001b[0m      \u001b[91m))))).\u001b[0m\n",
      "      \u001b[94m##\u001b[0m     \u001b[94m%%%\u001b[0m      \u001b[94m.%%%%%%/\u001b[0m      \u001b[94m*%%%%%%,\u001b[0m  \u001b[92m////////.\u001b[0m      \u001b[93m*****/\u001b[0m     \u001b[91m,)))))\u001b[0m \n",
      "        \u001b[94m#%%%%#\u001b[0m      \u001b[94m/%%%%%%/\u001b[0m      \u001b[94m(%%%%%%\u001b[0m      \u001b[92m/)/)//\u001b[0m       \u001b[93m******\u001b[0m      \u001b[91m))))))\u001b[0m \n",
      "          \u001b[94m##\u001b[0m      \u001b[94m.%%%%%%/\u001b[0m      \u001b[94m(%%%%%%,\u001b[0m                  \u001b[93m*******\u001b[0m      \u001b[91m))))))\u001b[0m  \n",
      "                \u001b[94m.%%%%%%/\u001b[0m      \u001b[94m*%%%%%%,\u001b[0m  \u001b[93m**.\u001b[0m             \u001b[93m/*******\u001b[0m      \u001b[91m.))))))\u001b[0m  \n",
      "              \u001b[94m*%%%%%%/\u001b[0m      \u001b[94m(%%%%%%\u001b[0m   \u001b[93m********/*..,*/*********\u001b[0m       \u001b[91m*))))))\u001b[0m   \n",
      "                \u001b[94m#%%/\u001b[0m      \u001b[94m(%%%%%%,\u001b[0m    \u001b[93m*********************/\u001b[0m        \u001b[91m)))))))\u001b[0m    \n",
      "                        \u001b[94m*%%%%%%,\u001b[0m         \u001b[93m,**************/\u001b[0m         \u001b[91m,))))))/\u001b[0m     \n",
      "                      \u001b[94m(%%%%%%\u001b[0m   \u001b[91m()\u001b[0m                              \u001b[91m))))))))\u001b[0m       \n",
      "                      \u001b[94m#%%%%,\u001b[0m  \u001b[91m())))))\u001b[0m                        \u001b[91m,)))))))),\u001b[0m        \n",
      "                        \u001b[94m#,\u001b[0m    \u001b[91m())))))))))\u001b[0m                \u001b[91m,)))))))))).\u001b[0m          \n",
      "                                 \u001b[91m()))))))))))))))))))))))))))))))/\u001b[0m             \n",
      "                                    \u001b[91m())))))))))))))))))))))))).\u001b[0m                \n",
      "                                         \u001b[91m())))))))))))))),\u001b[0m                     \n",
      "\n",
      "-=# \u001b[1;94m geomeTRIC started. Version: 0.9.7.2 \u001b[0m #=-\n",
      "geometric-optimize called with the following command line:\n",
      "/home/sahre/opt/miniconda3/envs/qm-tools/lib/python3.9/site-packages/ipykernel_launcher.py -f /home/sahre/.local/share/jupyter/runtime/kernel-e88c688d-eb8e-4eca-a035-2f871d3bc74c.json\n",
      "21 internal coordinates being used (instead of 21 Cartesians)\n",
      "Internal coordinate system (atoms numbered from 1):\n",
      "Distance 1-2\n",
      "Distance 1-3\n",
      "Distance 1-4\n",
      "Distance 1-5\n",
      "Distance 2-6\n",
      "Distance 2-7\n",
      "Angle 2-1-3\n",
      "Angle 2-1-4\n",
      "Angle 2-1-5\n",
      "Angle 3-1-4\n",
      "Angle 3-1-5\n",
      "Angle 4-1-5\n",
      "Angle 1-2-6\n",
      "Angle 1-2-7\n",
      "Angle 6-2-7\n",
      "Dihedral 3-1-2-6\n",
      "Dihedral 3-1-2-7\n",
      "Dihedral 4-1-2-6\n",
      "Dihedral 4-1-2-7\n",
      "Dihedral 5-1-2-6\n",
      "Dihedral 5-1-2-7\n",
      "Translation-X 1-7\n",
      "Translation-Y 1-7\n",
      "Translation-Z 1-7\n",
      "Rotation-A 1-7\n",
      "Rotation-B 1-7\n",
      "Rotation-C 1-7\n",
      "<class 'geometric.internal.Distance'> : 6\n",
      "<class 'geometric.internal.Angle'> : 9\n",
      "<class 'geometric.internal.Dihedral'> : 6\n",
      "<class 'geometric.internal.TranslationX'> : 1\n",
      "<class 'geometric.internal.TranslationY'> : 1\n",
      "<class 'geometric.internal.TranslationZ'> : 1\n",
      "<class 'geometric.internal.RotationA'> : 1\n",
      "<class 'geometric.internal.RotationB'> : 1\n",
      "<class 'geometric.internal.RotationC'> : 1\n"
     ]
    },
    {
     "name": "stdout",
     "output_type": "stream",
     "text": [
      "\n",
      "Geometry optimization cycle 1\n",
      "Cartesian coordinates (Angstrom)\n",
      " Atom        New coordinates             dX        dY        dZ\n",
      "   C  -0.567955  -0.008812  -0.010995    0.000000  0.000000  0.000000\n",
      "   N   0.840124   0.188314   0.289474    0.000000  0.000000 -0.000000\n",
      "   H  -1.049117  -0.517658   0.827327    0.000000  0.000000 -0.000000\n",
      "   H  -0.778697  -0.589176  -0.921144    0.000000  0.000000  0.000000\n",
      "   H  -1.055345   0.963186  -0.115467    0.000000  0.000000  0.000000\n",
      "   H   1.308111  -0.701744   0.402230    0.000000  0.000000  0.000000\n",
      "   H   1.303306   0.666607  -0.472512    0.000000  0.000000  0.000000\n",
      "converged SCF energy = -95.7772908820019\n",
      "--------------- SCF_Scanner gradients ---------------\n",
      "         x                y                z\n",
      "0 C    -0.0000544824    -0.0000178959    -0.0000271025\n",
      "1 N     0.0000375228     0.0000367802     0.0000443800\n",
      "2 H     0.0000037321    -0.0000037519     0.0000043728\n",
      "3 H     0.0000221622     0.0000082811     0.0000046144\n",
      "4 H     0.0000024342     0.0000047047     0.0000076396\n",
      "5 H    -0.0000089302    -0.0000266524    -0.0000020730\n",
      "6 H    -0.0000039745    -0.0000046633    -0.0000271915\n",
      "----------------------------------------------\n",
      "cycle 1: E = -95.777290882  dE = -95.7773  norm(grad) = 0.000105068\n"
     ]
    },
    {
     "name": "stderr",
     "output_type": "stream",
     "text": [
      "Step    0 : Gradient = 3.971e-05/6.878e-05 (rms/max) Energy = -95.7772908820\n",
      "Hessian Eigenvalues: 2.30000e-02 5.00000e-02 5.00000e-02 ... 3.78272e-01 4.56568e-01 4.56573e-01\n"
     ]
    },
    {
     "name": "stdout",
     "output_type": "stream",
     "text": [
      "\n",
      "Geometry optimization cycle 2\n",
      "Cartesian coordinates (Angstrom)\n",
      " Atom        New coordinates             dX        dY        dZ\n",
      "   C  -0.567940  -0.008835  -0.011053    0.000014 -0.000022 -0.000058\n",
      "   N   0.840120   0.188298   0.289309   -0.000004 -0.000016 -0.000164\n",
      "   H  -1.049076  -0.517595   0.827330    0.000041  0.000063  0.000003\n",
      "   H  -0.778931  -0.589247  -0.921137   -0.000234 -0.000071  0.000007\n",
      "   H  -1.055330   0.963158  -0.115549    0.000016 -0.000029 -0.000082\n",
      "   H   1.308313  -0.701620   0.402139    0.000201  0.000125 -0.000091\n",
      "   H   1.303385   0.666795  -0.472470    0.000079  0.000188  0.000042\n",
      "converged SCF energy = -95.7772908995913\n",
      "--------------- SCF_Scanner gradients ---------------\n",
      "         x                y                z\n",
      "0 C    -0.0000379428    -0.0000109812    -0.0000138617\n",
      "1 N     0.0000242260     0.0000235647     0.0000252160\n",
      "2 H     0.0000020509    -0.0000021565    -0.0000022409\n",
      "3 H     0.0000031621     0.0000057263     0.0000014155\n",
      "4 H     0.0000013029    -0.0000005770     0.0000055280\n",
      "5 H     0.0000006481    -0.0000078680    -0.0000016821\n",
      "6 H     0.0000050141    -0.0000109278    -0.0000097516\n",
      "----------------------------------------------\n",
      "cycle 2: E = -95.7772908996  dE = -1.75895e-08  norm(grad) = 6.26618e-05\n"
     ]
    },
    {
     "name": "stderr",
     "output_type": "stream",
     "text": [
      "Step    1 : Displace = \u001b[92m1.487e-04\u001b[0m/\u001b[92m2.436e-04\u001b[0m (rms/max) Trust = 1.000e-01 (=) Grad = \u001b[92m2.368e-05\u001b[0m/\u001b[92m4.217e-05\u001b[0m (rms/max) E (change) = -95.7772908996 (\u001b[92m-1.759e-08\u001b[0m) Quality = \u001b[0m0.900\u001b[0m\n",
      "Converged! =D\n",
      "\n",
      "    #==========================================================================#\n",
      "    #| If this code has benefited your research, please support us by citing: |#\n",
      "    #|                                                                        |#\n",
      "    #| Wang, L.-P.; Song, C.C. (2016) \"Geometry optimization made simple with |#\n",
      "    #| translation and rotation coordinates\", J. Chem, Phys. 144, 214108.     |#\n",
      "    #| http://dx.doi.org/10.1063/1.4952956                                    |#\n",
      "    #==========================================================================#\n",
      "    \n",
      "Time elapsed since start of run_optimizer: 4.017 seconds\n"
     ]
    },
    {
     "name": "stdout",
     "output_type": "stream",
     "text": [
      "converged SCF energy = -95.7772908996445\n",
      "-95.77729089964447\n"
     ]
    },
    {
     "name": "stderr",
     "output_type": "stream",
     "text": [
      "\n",
      "                                        \u001b[91m())))))))))))))))/\u001b[0m                     \n",
      "                                    \u001b[91m())))))))))))))))))))))))),\u001b[0m                \n",
      "                                \u001b[91m*)))))))))))))))))))))))))))))))))\u001b[0m             \n",
      "                        \u001b[94m#,\u001b[0m    \u001b[91m()))))))))/\u001b[0m                \u001b[91m.)))))))))),\u001b[0m          \n",
      "                      \u001b[94m#%%%%,\u001b[0m  \u001b[91m())))))\u001b[0m                        \u001b[91m.))))))))*\u001b[0m        \n",
      "                      \u001b[94m*%%%%%%,\u001b[0m  \u001b[91m))\u001b[0m              \u001b[93m..\u001b[0m              \u001b[91m,))))))).\u001b[0m      \n",
      "                        \u001b[94m*%%%%%%,\u001b[0m         \u001b[93m***************/.\u001b[0m        \u001b[91m.)))))))\u001b[0m     \n",
      "                \u001b[94m#%%/\u001b[0m      \u001b[94m(%%%%%%,\u001b[0m    \u001b[93m/*********************.\u001b[0m       \u001b[91m)))))))\u001b[0m    \n",
      "              \u001b[94m.%%%%%%#\u001b[0m      \u001b[94m*%%%%%%,\u001b[0m  \u001b[93m*******/,\u001b[0m     \u001b[93m**********,\u001b[0m      \u001b[91m.))))))\u001b[0m   \n",
      "                \u001b[94m.%%%%%%/\u001b[0m      \u001b[94m*%%%%%%,\u001b[0m  \u001b[93m**\u001b[0m              \u001b[93m********\u001b[0m      \u001b[91m.))))))\u001b[0m  \n",
      "          \u001b[94m##\u001b[0m      \u001b[94m.%%%%%%/\u001b[0m      \u001b[94m(%%%%%%,\u001b[0m                  \u001b[93m,******\u001b[0m      \u001b[91m/)))))\u001b[0m  \n",
      "        \u001b[94m%%%%%%\u001b[0m      \u001b[94m.%%%%%%#\u001b[0m      \u001b[94m*%%%%%%,\u001b[0m    \u001b[92m,/////.\u001b[0m       \u001b[93m******\u001b[0m      \u001b[91m))))))\u001b[0m \n",
      "      \u001b[94m#%\u001b[0m      \u001b[94m%%\u001b[0m      \u001b[94m.%%%%%%/\u001b[0m      \u001b[94m*%%%%%%,\u001b[0m  \u001b[92m////////,\u001b[0m      \u001b[93m*****/\u001b[0m     \u001b[91m,)))))\u001b[0m \n",
      "    \u001b[94m#%%\u001b[0m  \u001b[94m%%%\u001b[0m  \u001b[94m%%%#\u001b[0m      \u001b[94m.%%%%%%/\u001b[0m      \u001b[94m(%%%%%%,\u001b[0m  \u001b[92m///////.\u001b[0m     \u001b[93m/*****\u001b[0m      \u001b[91m))))).\u001b[0m\n",
      "  \u001b[94m#%%%%.\u001b[0m      \u001b[94m%%%%%#\u001b[0m      \u001b[94m/%%%%%%*\u001b[0m      \u001b[94m#%%%%%%\u001b[0m   \u001b[92m/////)\u001b[0m     \u001b[93m******\u001b[0m      \u001b[91m))))),\u001b[0m\n",
      "    \u001b[94m#%%%%##%\u001b[0m  \u001b[94m%%%#\u001b[0m      \u001b[94m.%%%%%%/\u001b[0m      \u001b[94m(%%%%%%,\u001b[0m  \u001b[92m///////.\u001b[0m     \u001b[93m/*****\u001b[0m      \u001b[91m))))).\u001b[0m\n",
      "      \u001b[94m##\u001b[0m     \u001b[94m%%%\u001b[0m      \u001b[94m.%%%%%%/\u001b[0m      \u001b[94m*%%%%%%,\u001b[0m  \u001b[92m////////.\u001b[0m      \u001b[93m*****/\u001b[0m     \u001b[91m,)))))\u001b[0m \n",
      "        \u001b[94m#%%%%#\u001b[0m      \u001b[94m/%%%%%%/\u001b[0m      \u001b[94m(%%%%%%\u001b[0m      \u001b[92m/)/)//\u001b[0m       \u001b[93m******\u001b[0m      \u001b[91m))))))\u001b[0m \n",
      "          \u001b[94m##\u001b[0m      \u001b[94m.%%%%%%/\u001b[0m      \u001b[94m(%%%%%%,\u001b[0m                  \u001b[93m*******\u001b[0m      \u001b[91m))))))\u001b[0m  \n",
      "                \u001b[94m.%%%%%%/\u001b[0m      \u001b[94m*%%%%%%,\u001b[0m  \u001b[93m**.\u001b[0m             \u001b[93m/*******\u001b[0m      \u001b[91m.))))))\u001b[0m  \n",
      "              \u001b[94m*%%%%%%/\u001b[0m      \u001b[94m(%%%%%%\u001b[0m   \u001b[93m********/*..,*/*********\u001b[0m       \u001b[91m*))))))\u001b[0m   \n",
      "                \u001b[94m#%%/\u001b[0m      \u001b[94m(%%%%%%,\u001b[0m    \u001b[93m*********************/\u001b[0m        \u001b[91m)))))))\u001b[0m    \n",
      "                        \u001b[94m*%%%%%%,\u001b[0m         \u001b[93m,**************/\u001b[0m         \u001b[91m,))))))/\u001b[0m     \n",
      "                      \u001b[94m(%%%%%%\u001b[0m   \u001b[91m()\u001b[0m                              \u001b[91m))))))))\u001b[0m       \n",
      "                      \u001b[94m#%%%%,\u001b[0m  \u001b[91m())))))\u001b[0m                        \u001b[91m,)))))))),\u001b[0m        \n",
      "                        \u001b[94m#,\u001b[0m    \u001b[91m())))))))))\u001b[0m                \u001b[91m,)))))))))).\u001b[0m          \n",
      "                                 \u001b[91m()))))))))))))))))))))))))))))))/\u001b[0m             \n",
      "                                    \u001b[91m())))))))))))))))))))))))).\u001b[0m                \n",
      "                                         \u001b[91m())))))))))))))),\u001b[0m                     \n",
      "\n",
      "-=# \u001b[1;94m geomeTRIC started. Version: 0.9.7.2 \u001b[0m #=-\n",
      "geometric-optimize called with the following command line:\n",
      "/home/sahre/opt/miniconda3/envs/qm-tools/lib/python3.9/site-packages/ipykernel_launcher.py -f /home/sahre/.local/share/jupyter/runtime/kernel-e88c688d-eb8e-4eca-a035-2f871d3bc74c.json\n",
      "18 internal coordinates being used (instead of 18 Cartesians)\n",
      "Internal coordinate system (atoms numbered from 1):\n",
      "Distance 1-2\n",
      "Distance 1-3\n",
      "Distance 1-4\n",
      "Distance 1-5\n",
      "Distance 2-6\n",
      "Angle 2-1-3\n",
      "Angle 2-1-4\n",
      "Angle 2-1-5\n",
      "Angle 3-1-4\n",
      "Angle 3-1-5\n",
      "Angle 4-1-5\n",
      "Angle 1-2-6\n",
      "Dihedral 3-1-2-6\n",
      "Dihedral 4-1-2-6\n",
      "Dihedral 5-1-2-6\n",
      "Translation-X 1-6\n",
      "Translation-Y 1-6\n",
      "Translation-Z 1-6\n",
      "Rotation-A 1-6\n",
      "Rotation-B 1-6\n",
      "Rotation-C 1-6\n",
      "<class 'geometric.internal.Distance'> : 5\n",
      "<class 'geometric.internal.Angle'> : 7\n",
      "<class 'geometric.internal.Dihedral'> : 3\n",
      "<class 'geometric.internal.TranslationX'> : 1\n",
      "<class 'geometric.internal.TranslationY'> : 1\n",
      "<class 'geometric.internal.TranslationZ'> : 1\n",
      "<class 'geometric.internal.RotationA'> : 1\n",
      "<class 'geometric.internal.RotationB'> : 1\n",
      "<class 'geometric.internal.RotationC'> : 1\n"
     ]
    },
    {
     "name": "stdout",
     "output_type": "stream",
     "text": [
      "\n",
      "Geometry optimization cycle 1\n",
      "Cartesian coordinates (Angstrom)\n",
      " Atom        New coordinates             dX        dY        dZ\n",
      "   C  -0.354264   0.026996  -0.020953    0.000000  0.000000  0.000000\n",
      "   O   0.924789  -0.498935  -0.291222    0.000000  0.000000  0.000000\n",
      "   H  -0.621763  -0.049317   1.040311    0.000000  0.000000  0.000000\n",
      "   H  -0.449823   1.074604  -0.332490    0.000000  0.000000  0.000000\n",
      "   H  -1.070118  -0.563202  -0.593845    0.000000  0.000000  0.000000\n",
      "   H   1.572636   0.007154   0.202965    0.000000  0.000000  0.000000\n",
      "converged SCF energy = -115.637261842516\n",
      "--------------- SCF_Scanner gradients ---------------\n",
      "         x                y                z\n",
      "0 C    -0.0000854727     0.0000234342     0.0000059689\n",
      "1 O     0.0000410618    -0.0000145729    -0.0000291891\n",
      "2 H     0.0000209517    -0.0000064738    -0.0000015760\n",
      "3 H     0.0000133541     0.0000003370    -0.0000002157\n",
      "4 H     0.0000038624     0.0000020421    -0.0000009168\n",
      "5 H    -0.0000013539     0.0000096617     0.0000009803\n",
      "----------------------------------------------\n",
      "cycle 1: E = -115.637261843  dE = -115.637  norm(grad) = 0.000106859\n"
     ]
    },
    {
     "name": "stderr",
     "output_type": "stream",
     "text": [
      "Step    0 : Gradient = 4.362e-05/8.883e-05 (rms/max) Energy = -115.6372618425\n",
      "Hessian Eigenvalues: 2.30000e-02 5.00000e-02 5.00000e-02 ... 3.47658e-01 4.41415e-01 5.56472e-01\n"
     ]
    },
    {
     "name": "stdout",
     "output_type": "stream",
     "text": [
      "\n",
      "Geometry optimization cycle 2\n",
      "Cartesian coordinates (Angstrom)\n",
      " Atom        New coordinates             dX        dY        dZ\n",
      "   C  -0.354123   0.026865  -0.020747    0.000142 -0.000131  0.000207\n",
      "   O   0.924900  -0.499187  -0.290649    0.000111 -0.000253  0.000573\n",
      "   H  -0.622028  -0.049285   1.040433   -0.000265  0.000032  0.000122\n",
      "   H  -0.449684   1.074433  -0.332439    0.000139 -0.000171  0.000051\n",
      "   H  -1.069877  -0.563361  -0.593746    0.000241 -0.000159  0.000099\n",
      "   H   1.572751   0.006920   0.203497    0.000115 -0.000234  0.000532\n",
      "converged SCF energy = -115.637261859483\n",
      "--------------- SCF_Scanner gradients ---------------\n",
      "         x                y                z\n",
      "0 C    -0.0000323405     0.0000174096     0.0000076261\n",
      "1 O     0.0000231866    -0.0000057350    -0.0000234461\n",
      "2 H     0.0000055045    -0.0000030324    -0.0000039287\n",
      "3 H    -0.0000024847     0.0000006930     0.0000014969\n",
      "4 H     0.0000023916     0.0000029111    -0.0000007271\n",
      "5 H    -0.0000036485     0.0000021914    -0.0000061533\n",
      "----------------------------------------------\n",
      "cycle 2: E = -115.637261859  dE = -1.69663e-08  norm(grad) = 5.15937e-05\n"
     ]
    },
    {
     "name": "stderr",
     "output_type": "stream",
     "text": [
      "Step    1 : Displace = \u001b[92m8.286e-05\u001b[0m/\u001b[92m1.174e-04\u001b[0m (rms/max) Trust = 1.000e-01 (=) Grad = \u001b[92m2.106e-05\u001b[0m/\u001b[92m3.751e-05\u001b[0m (rms/max) E (change) = -115.6372618595 (\u001b[92m-1.697e-08\u001b[0m) Quality = \u001b[0m0.641\u001b[0m\n",
      "Converged! =D\n",
      "\n",
      "    #==========================================================================#\n",
      "    #| If this code has benefited your research, please support us by citing: |#\n",
      "    #|                                                                        |#\n",
      "    #| Wang, L.-P.; Song, C.C. (2016) \"Geometry optimization made simple with |#\n",
      "    #| translation and rotation coordinates\", J. Chem, Phys. 144, 214108.     |#\n",
      "    #| http://dx.doi.org/10.1063/1.4952956                                    |#\n",
      "    #==========================================================================#\n",
      "    \n",
      "Time elapsed since start of run_optimizer: 3.573 seconds\n"
     ]
    },
    {
     "name": "stdout",
     "output_type": "stream",
     "text": [
      "converged SCF energy = -115.637261859665\n",
      "-115.63726185966499\n"
     ]
    },
    {
     "name": "stderr",
     "output_type": "stream",
     "text": [
      "\n",
      "                                        \u001b[91m())))))))))))))))/\u001b[0m                     \n",
      "                                    \u001b[91m())))))))))))))))))))))))),\u001b[0m                \n",
      "                                \u001b[91m*)))))))))))))))))))))))))))))))))\u001b[0m             \n",
      "                        \u001b[94m#,\u001b[0m    \u001b[91m()))))))))/\u001b[0m                \u001b[91m.)))))))))),\u001b[0m          \n",
      "                      \u001b[94m#%%%%,\u001b[0m  \u001b[91m())))))\u001b[0m                        \u001b[91m.))))))))*\u001b[0m        \n",
      "                      \u001b[94m*%%%%%%,\u001b[0m  \u001b[91m))\u001b[0m              \u001b[93m..\u001b[0m              \u001b[91m,))))))).\u001b[0m      \n",
      "                        \u001b[94m*%%%%%%,\u001b[0m         \u001b[93m***************/.\u001b[0m        \u001b[91m.)))))))\u001b[0m     \n",
      "                \u001b[94m#%%/\u001b[0m      \u001b[94m(%%%%%%,\u001b[0m    \u001b[93m/*********************.\u001b[0m       \u001b[91m)))))))\u001b[0m    \n",
      "              \u001b[94m.%%%%%%#\u001b[0m      \u001b[94m*%%%%%%,\u001b[0m  \u001b[93m*******/,\u001b[0m     \u001b[93m**********,\u001b[0m      \u001b[91m.))))))\u001b[0m   \n",
      "                \u001b[94m.%%%%%%/\u001b[0m      \u001b[94m*%%%%%%,\u001b[0m  \u001b[93m**\u001b[0m              \u001b[93m********\u001b[0m      \u001b[91m.))))))\u001b[0m  \n",
      "          \u001b[94m##\u001b[0m      \u001b[94m.%%%%%%/\u001b[0m      \u001b[94m(%%%%%%,\u001b[0m                  \u001b[93m,******\u001b[0m      \u001b[91m/)))))\u001b[0m  \n",
      "        \u001b[94m%%%%%%\u001b[0m      \u001b[94m.%%%%%%#\u001b[0m      \u001b[94m*%%%%%%,\u001b[0m    \u001b[92m,/////.\u001b[0m       \u001b[93m******\u001b[0m      \u001b[91m))))))\u001b[0m \n",
      "      \u001b[94m#%\u001b[0m      \u001b[94m%%\u001b[0m      \u001b[94m.%%%%%%/\u001b[0m      \u001b[94m*%%%%%%,\u001b[0m  \u001b[92m////////,\u001b[0m      \u001b[93m*****/\u001b[0m     \u001b[91m,)))))\u001b[0m \n",
      "    \u001b[94m#%%\u001b[0m  \u001b[94m%%%\u001b[0m  \u001b[94m%%%#\u001b[0m      \u001b[94m.%%%%%%/\u001b[0m      \u001b[94m(%%%%%%,\u001b[0m  \u001b[92m///////.\u001b[0m     \u001b[93m/*****\u001b[0m      \u001b[91m))))).\u001b[0m\n",
      "  \u001b[94m#%%%%.\u001b[0m      \u001b[94m%%%%%#\u001b[0m      \u001b[94m/%%%%%%*\u001b[0m      \u001b[94m#%%%%%%\u001b[0m   \u001b[92m/////)\u001b[0m     \u001b[93m******\u001b[0m      \u001b[91m))))),\u001b[0m\n",
      "    \u001b[94m#%%%%##%\u001b[0m  \u001b[94m%%%#\u001b[0m      \u001b[94m.%%%%%%/\u001b[0m      \u001b[94m(%%%%%%,\u001b[0m  \u001b[92m///////.\u001b[0m     \u001b[93m/*****\u001b[0m      \u001b[91m))))).\u001b[0m\n",
      "      \u001b[94m##\u001b[0m     \u001b[94m%%%\u001b[0m      \u001b[94m.%%%%%%/\u001b[0m      \u001b[94m*%%%%%%,\u001b[0m  \u001b[92m////////.\u001b[0m      \u001b[93m*****/\u001b[0m     \u001b[91m,)))))\u001b[0m \n",
      "        \u001b[94m#%%%%#\u001b[0m      \u001b[94m/%%%%%%/\u001b[0m      \u001b[94m(%%%%%%\u001b[0m      \u001b[92m/)/)//\u001b[0m       \u001b[93m******\u001b[0m      \u001b[91m))))))\u001b[0m \n",
      "          \u001b[94m##\u001b[0m      \u001b[94m.%%%%%%/\u001b[0m      \u001b[94m(%%%%%%,\u001b[0m                  \u001b[93m*******\u001b[0m      \u001b[91m))))))\u001b[0m  \n",
      "                \u001b[94m.%%%%%%/\u001b[0m      \u001b[94m*%%%%%%,\u001b[0m  \u001b[93m**.\u001b[0m             \u001b[93m/*******\u001b[0m      \u001b[91m.))))))\u001b[0m  \n",
      "              \u001b[94m*%%%%%%/\u001b[0m      \u001b[94m(%%%%%%\u001b[0m   \u001b[93m********/*..,*/*********\u001b[0m       \u001b[91m*))))))\u001b[0m   \n",
      "                \u001b[94m#%%/\u001b[0m      \u001b[94m(%%%%%%,\u001b[0m    \u001b[93m*********************/\u001b[0m        \u001b[91m)))))))\u001b[0m    \n",
      "                        \u001b[94m*%%%%%%,\u001b[0m         \u001b[93m,**************/\u001b[0m         \u001b[91m,))))))/\u001b[0m     \n",
      "                      \u001b[94m(%%%%%%\u001b[0m   \u001b[91m()\u001b[0m                              \u001b[91m))))))))\u001b[0m       \n",
      "                      \u001b[94m#%%%%,\u001b[0m  \u001b[91m())))))\u001b[0m                        \u001b[91m,)))))))),\u001b[0m        \n",
      "                        \u001b[94m#,\u001b[0m    \u001b[91m())))))))))\u001b[0m                \u001b[91m,)))))))))).\u001b[0m          \n",
      "                                 \u001b[91m()))))))))))))))))))))))))))))))/\u001b[0m             \n",
      "                                    \u001b[91m())))))))))))))))))))))))).\u001b[0m                \n",
      "                                         \u001b[91m())))))))))))))),\u001b[0m                     \n",
      "\n",
      "-=# \u001b[1;94m geomeTRIC started. Version: 0.9.7.2 \u001b[0m #=-\n",
      "geometric-optimize called with the following command line:\n",
      "/home/sahre/opt/miniconda3/envs/qm-tools/lib/python3.9/site-packages/ipykernel_launcher.py -f /home/sahre/.local/share/jupyter/runtime/kernel-e88c688d-eb8e-4eca-a035-2f871d3bc74c.json\n",
      "15 internal coordinates being used (instead of 15 Cartesians)\n",
      "Internal coordinate system (atoms numbered from 1):\n",
      "Distance 1-2\n",
      "Distance 1-3\n",
      "Distance 1-4\n",
      "Distance 1-5\n",
      "Angle 2-1-3\n",
      "Angle 2-1-4\n",
      "Angle 2-1-5\n",
      "Angle 3-1-4\n",
      "Angle 3-1-5\n",
      "Angle 4-1-5\n",
      "Translation-X 1-5\n",
      "Translation-Y 1-5\n",
      "Translation-Z 1-5\n",
      "Rotation-A 1-5\n",
      "Rotation-B 1-5\n",
      "Rotation-C 1-5\n",
      "<class 'geometric.internal.Distance'> : 4\n",
      "<class 'geometric.internal.Angle'> : 6\n",
      "<class 'geometric.internal.TranslationX'> : 1\n",
      "<class 'geometric.internal.TranslationY'> : 1\n",
      "<class 'geometric.internal.TranslationZ'> : 1\n",
      "<class 'geometric.internal.RotationA'> : 1\n",
      "<class 'geometric.internal.RotationB'> : 1\n",
      "<class 'geometric.internal.RotationC'> : 1\n"
     ]
    },
    {
     "name": "stdout",
     "output_type": "stream",
     "text": [
      "\n",
      "Geometry optimization cycle 1\n",
      "Cartesian coordinates (Angstrom)\n",
      " Atom        New coordinates             dX        dY        dZ\n",
      "   C  -0.061495  -0.006399  -0.005029    0.000000  0.000000  0.000000\n",
      "   F   1.303060   0.127755   0.110367    0.000000  0.000000 -0.000000\n",
      "   H  -0.489854  -0.167247   0.986902    0.000000  0.000000  0.000000\n",
      "   H  -0.474316   0.904769  -0.443960    0.000000  0.000000  0.000000\n",
      "   H  -0.283385  -0.861241  -0.647914    0.000000  0.000000  0.000000\n",
      "converged SCF energy = -139.653810125277\n",
      "--------------- SCF_Scanner gradients ---------------\n",
      "         x                y                z\n",
      "0 C     0.0002409773     0.0000241762     0.0000194147\n",
      "1 F    -0.0001736280    -0.0000105565    -0.0000185447\n",
      "2 H    -0.0000071872    -0.0000007972     0.0000110775\n",
      "3 H    -0.0000151752     0.0000111829    -0.0000062900\n",
      "4 H    -0.0000051518    -0.0000088115    -0.0000080083\n",
      "----------------------------------------------\n",
      "cycle 1: E = -139.653810125  dE = -139.654  norm(grad) = 0.000300619\n"
     ]
    },
    {
     "name": "stderr",
     "output_type": "stream",
     "text": [
      "Step    0 : Gradient = 1.344e-04/2.430e-04 (rms/max) Energy = -139.6538101253\n",
      "Hessian Eigenvalues: 5.00000e-02 5.00000e-02 5.00000e-02 ... 3.45391e-01 3.45392e-01 4.98444e-01\n"
     ]
    },
    {
     "name": "stdout",
     "output_type": "stream",
     "text": [
      "\n",
      "Geometry optimization cycle 2\n",
      "Cartesian coordinates (Angstrom)\n",
      " Atom        New coordinates             dX        dY        dZ\n",
      "   C  -0.062010  -0.006560  -0.005017   -0.000515 -0.000162  0.000012\n",
      "   F   1.302746   0.127427   0.110505   -0.000314 -0.000328  0.000138\n",
      "   H  -0.490379  -0.167361   0.986890   -0.000525 -0.000114 -0.000013\n",
      "   H  -0.474576   0.904685  -0.443959   -0.000260 -0.000084  0.000001\n",
      "   H  -0.283878  -0.861357  -0.647928   -0.000493 -0.000115 -0.000014\n",
      "converged SCF energy = -139.653810189158\n",
      "--------------- SCF_Scanner gradients ---------------\n",
      "         x                y                z\n",
      "0 C     0.0001051621     0.0000117278     0.0000079345\n",
      "1 F    -0.0000502254     0.0000021689    -0.0000081179\n",
      "2 H    -0.0000026140     0.0000002733     0.0000024505\n",
      "3 H    -0.0000094676     0.0000026446    -0.0000021325\n",
      "4 H    -0.0000029086    -0.0000017625    -0.0000023926\n",
      "----------------------------------------------\n",
      "cycle 2: E = -139.653810189  dE = -6.3881e-08  norm(grad) = 0.000118255\n"
     ]
    },
    {
     "name": "stderr",
     "output_type": "stream",
     "text": [
      "Step    1 : Displace = \u001b[92m6.164e-05\u001b[0m/\u001b[92m1.001e-04\u001b[0m (rms/max) Trust = 1.000e-01 (=) Grad = \u001b[92m5.289e-05\u001b[0m/\u001b[92m1.061e-04\u001b[0m (rms/max) E (change) = -139.6538101892 (\u001b[92m-6.388e-08\u001b[0m) Quality = \u001b[0m1.089\u001b[0m\n",
      "Converged! =D\n",
      "\n",
      "    #==========================================================================#\n",
      "    #| If this code has benefited your research, please support us by citing: |#\n",
      "    #|                                                                        |#\n",
      "    #| Wang, L.-P.; Song, C.C. (2016) \"Geometry optimization made simple with |#\n",
      "    #| translation and rotation coordinates\", J. Chem, Phys. 144, 214108.     |#\n",
      "    #| http://dx.doi.org/10.1063/1.4952956                                    |#\n",
      "    #==========================================================================#\n",
      "    \n",
      "Time elapsed since start of run_optimizer: 3.177 seconds\n"
     ]
    },
    {
     "name": "stdout",
     "output_type": "stream",
     "text": [
      "converged SCF energy = -139.653810189166\n",
      "-139.65381018916568\n"
     ]
    },
    {
     "name": "stderr",
     "output_type": "stream",
     "text": [
      "\n",
      "                                        \u001b[91m())))))))))))))))/\u001b[0m                     \n",
      "                                    \u001b[91m())))))))))))))))))))))))),\u001b[0m                \n",
      "                                \u001b[91m*)))))))))))))))))))))))))))))))))\u001b[0m             \n",
      "                        \u001b[94m#,\u001b[0m    \u001b[91m()))))))))/\u001b[0m                \u001b[91m.)))))))))),\u001b[0m          \n",
      "                      \u001b[94m#%%%%,\u001b[0m  \u001b[91m())))))\u001b[0m                        \u001b[91m.))))))))*\u001b[0m        \n",
      "                      \u001b[94m*%%%%%%,\u001b[0m  \u001b[91m))\u001b[0m              \u001b[93m..\u001b[0m              \u001b[91m,))))))).\u001b[0m      \n",
      "                        \u001b[94m*%%%%%%,\u001b[0m         \u001b[93m***************/.\u001b[0m        \u001b[91m.)))))))\u001b[0m     \n",
      "                \u001b[94m#%%/\u001b[0m      \u001b[94m(%%%%%%,\u001b[0m    \u001b[93m/*********************.\u001b[0m       \u001b[91m)))))))\u001b[0m    \n",
      "              \u001b[94m.%%%%%%#\u001b[0m      \u001b[94m*%%%%%%,\u001b[0m  \u001b[93m*******/,\u001b[0m     \u001b[93m**********,\u001b[0m      \u001b[91m.))))))\u001b[0m   \n",
      "                \u001b[94m.%%%%%%/\u001b[0m      \u001b[94m*%%%%%%,\u001b[0m  \u001b[93m**\u001b[0m              \u001b[93m********\u001b[0m      \u001b[91m.))))))\u001b[0m  \n",
      "          \u001b[94m##\u001b[0m      \u001b[94m.%%%%%%/\u001b[0m      \u001b[94m(%%%%%%,\u001b[0m                  \u001b[93m,******\u001b[0m      \u001b[91m/)))))\u001b[0m  \n",
      "        \u001b[94m%%%%%%\u001b[0m      \u001b[94m.%%%%%%#\u001b[0m      \u001b[94m*%%%%%%,\u001b[0m    \u001b[92m,/////.\u001b[0m       \u001b[93m******\u001b[0m      \u001b[91m))))))\u001b[0m \n",
      "      \u001b[94m#%\u001b[0m      \u001b[94m%%\u001b[0m      \u001b[94m.%%%%%%/\u001b[0m      \u001b[94m*%%%%%%,\u001b[0m  \u001b[92m////////,\u001b[0m      \u001b[93m*****/\u001b[0m     \u001b[91m,)))))\u001b[0m \n",
      "    \u001b[94m#%%\u001b[0m  \u001b[94m%%%\u001b[0m  \u001b[94m%%%#\u001b[0m      \u001b[94m.%%%%%%/\u001b[0m      \u001b[94m(%%%%%%,\u001b[0m  \u001b[92m///////.\u001b[0m     \u001b[93m/*****\u001b[0m      \u001b[91m))))).\u001b[0m\n",
      "  \u001b[94m#%%%%.\u001b[0m      \u001b[94m%%%%%#\u001b[0m      \u001b[94m/%%%%%%*\u001b[0m      \u001b[94m#%%%%%%\u001b[0m   \u001b[92m/////)\u001b[0m     \u001b[93m******\u001b[0m      \u001b[91m))))),\u001b[0m\n",
      "    \u001b[94m#%%%%##%\u001b[0m  \u001b[94m%%%#\u001b[0m      \u001b[94m.%%%%%%/\u001b[0m      \u001b[94m(%%%%%%,\u001b[0m  \u001b[92m///////.\u001b[0m     \u001b[93m/*****\u001b[0m      \u001b[91m))))).\u001b[0m\n",
      "      \u001b[94m##\u001b[0m     \u001b[94m%%%\u001b[0m      \u001b[94m.%%%%%%/\u001b[0m      \u001b[94m*%%%%%%,\u001b[0m  \u001b[92m////////.\u001b[0m      \u001b[93m*****/\u001b[0m     \u001b[91m,)))))\u001b[0m \n",
      "        \u001b[94m#%%%%#\u001b[0m      \u001b[94m/%%%%%%/\u001b[0m      \u001b[94m(%%%%%%\u001b[0m      \u001b[92m/)/)//\u001b[0m       \u001b[93m******\u001b[0m      \u001b[91m))))))\u001b[0m \n",
      "          \u001b[94m##\u001b[0m      \u001b[94m.%%%%%%/\u001b[0m      \u001b[94m(%%%%%%,\u001b[0m                  \u001b[93m*******\u001b[0m      \u001b[91m))))))\u001b[0m  \n",
      "                \u001b[94m.%%%%%%/\u001b[0m      \u001b[94m*%%%%%%,\u001b[0m  \u001b[93m**.\u001b[0m             \u001b[93m/*******\u001b[0m      \u001b[91m.))))))\u001b[0m  \n",
      "              \u001b[94m*%%%%%%/\u001b[0m      \u001b[94m(%%%%%%\u001b[0m   \u001b[93m********/*..,*/*********\u001b[0m       \u001b[91m*))))))\u001b[0m   \n",
      "                \u001b[94m#%%/\u001b[0m      \u001b[94m(%%%%%%,\u001b[0m    \u001b[93m*********************/\u001b[0m        \u001b[91m)))))))\u001b[0m    \n",
      "                        \u001b[94m*%%%%%%,\u001b[0m         \u001b[93m,**************/\u001b[0m         \u001b[91m,))))))/\u001b[0m     \n",
      "                      \u001b[94m(%%%%%%\u001b[0m   \u001b[91m()\u001b[0m                              \u001b[91m))))))))\u001b[0m       \n",
      "                      \u001b[94m#%%%%,\u001b[0m  \u001b[91m())))))\u001b[0m                        \u001b[91m,)))))))),\u001b[0m        \n",
      "                        \u001b[94m#,\u001b[0m    \u001b[91m())))))))))\u001b[0m                \u001b[91m,)))))))))).\u001b[0m          \n",
      "                                 \u001b[91m()))))))))))))))))))))))))))))))/\u001b[0m             \n",
      "                                    \u001b[91m())))))))))))))))))))))))).\u001b[0m                \n",
      "                                         \u001b[91m())))))))))))))),\u001b[0m                     \n",
      "\n",
      "-=# \u001b[1;94m geomeTRIC started. Version: 0.9.7.2 \u001b[0m #=-\n",
      "geometric-optimize called with the following command line:\n",
      "/home/sahre/opt/miniconda3/envs/qm-tools/lib/python3.9/site-packages/ipykernel_launcher.py -f /home/sahre/.local/share/jupyter/runtime/kernel-e88c688d-eb8e-4eca-a035-2f871d3bc74c.json\n",
      "18 internal coordinates being used (instead of 18 Cartesians)\n",
      "Internal coordinate system (atoms numbered from 1):\n",
      "Distance 1-2\n",
      "Distance 1-3\n",
      "Distance 1-4\n",
      "Distance 2-5\n",
      "Distance 2-6\n",
      "Angle 2-1-3\n",
      "Angle 2-1-4\n",
      "Angle 3-1-4\n",
      "Angle 1-2-5\n",
      "Angle 1-2-6\n",
      "Angle 5-2-6\n",
      "Dihedral 3-1-2-5\n",
      "Dihedral 3-1-2-6\n",
      "Dihedral 4-1-2-5\n",
      "Dihedral 4-1-2-6\n",
      "Translation-X 1-6\n",
      "Translation-Y 1-6\n",
      "Translation-Z 1-6\n",
      "Rotation-A 1-6\n",
      "Rotation-B 1-6\n",
      "Rotation-C 1-6\n",
      "<class 'geometric.internal.Distance'> : 5\n",
      "<class 'geometric.internal.Angle'> : 6\n",
      "<class 'geometric.internal.Dihedral'> : 4\n",
      "<class 'geometric.internal.TranslationX'> : 1\n",
      "<class 'geometric.internal.TranslationY'> : 1\n",
      "<class 'geometric.internal.TranslationZ'> : 1\n",
      "<class 'geometric.internal.RotationA'> : 1\n",
      "<class 'geometric.internal.RotationB'> : 1\n",
      "<class 'geometric.internal.RotationC'> : 1\n"
     ]
    },
    {
     "name": "stdout",
     "output_type": "stream",
     "text": [
      "\n",
      "Geometry optimization cycle 1\n",
      "Cartesian coordinates (Angstrom)\n",
      " Atom        New coordinates             dX        dY        dZ\n",
      "   N  -0.685213   0.174605  -0.220995    0.000000  0.000000  0.000000\n",
      "   N   0.684205  -0.181528  -0.218057    0.000000  0.000000  0.000000\n",
      "   H  -1.225518  -0.647712  -0.451924    0.000000  0.000000  0.000000\n",
      "   H  -1.001994   0.522004   0.677726    0.000000  0.000000  0.000000\n",
      "   H   1.004574  -0.500230   0.689983    0.000000  0.000000  0.000000\n",
      "   H   1.223539   0.633000  -0.477142    0.000000  0.000000  0.000000\n",
      "converged SCF energy = -111.784922082555\n",
      "--------------- SCF_Scanner gradients ---------------\n",
      "         x                y                z\n",
      "0 N     0.0000970560    -0.0000762553    -0.0000121370\n",
      "1 N    -0.0000967745     0.0000768806    -0.0000167718\n",
      "2 H    -0.0000412502    -0.0000338696    -0.0000333208\n",
      "3 H    -0.0000200756     0.0000580386     0.0000466337\n",
      "4 H     0.0000209047    -0.0000579814     0.0000515913\n",
      "5 H     0.0000402752     0.0000320418    -0.0000353473\n",
      "----------------------------------------------\n",
      "cycle 1: E = -111.784922083  dE = -111.785  norm(grad) = 0.000226281\n"
     ]
    },
    {
     "name": "stderr",
     "output_type": "stream",
     "text": [
      "Step    0 : Gradient = 9.238e-05/1.247e-04 (rms/max) Energy = -111.7849220826\n",
      "Hessian Eigenvalues: 2.30000e-02 5.00000e-02 5.00000e-02 ... 4.52656e-01 4.58597e-01 4.58599e-01\n"
     ]
    },
    {
     "name": "stdout",
     "output_type": "stream",
     "text": [
      "\n",
      "Geometry optimization cycle 2\n",
      "Cartesian coordinates (Angstrom)\n",
      " Atom        New coordinates             dX        dY        dZ\n",
      "   N  -0.685199   0.174793  -0.221120    0.000014  0.000187 -0.000124\n",
      "   N   0.684187  -0.181692  -0.218175   -0.000018 -0.000164 -0.000117\n",
      "   H  -1.225402  -0.647567  -0.451851    0.000116  0.000145  0.000073\n",
      "   H  -1.001763   0.521775   0.677750    0.000231 -0.000229  0.000024\n",
      "   H   1.004336  -0.499981   0.689995   -0.000237  0.000249  0.000012\n",
      "   H   1.223426   0.632885  -0.477050   -0.000113 -0.000115  0.000092\n",
      "converged SCF energy = -111.784922174858\n",
      "--------------- SCF_Scanner gradients ---------------\n",
      "         x                y                z\n",
      "0 N     0.0000693966    -0.0000479634     0.0000148945\n",
      "1 N    -0.0000692558     0.0000480225     0.0000136945\n",
      "2 H     0.0000127852     0.0000086022    -0.0000013885\n",
      "3 H     0.0000075389     0.0000121718    -0.0000128575\n",
      "4 H    -0.0000075070    -0.0000125855    -0.0000122556\n",
      "5 H    -0.0000128219    -0.0000093967    -0.0000014381\n",
      "----------------------------------------------\n",
      "cycle 2: E = -111.784922175  dE = -9.23022e-08  norm(grad) = 0.000125927\n"
     ]
    },
    {
     "name": "stderr",
     "output_type": "stream",
     "text": [
      "Step    1 : Displace = \u001b[92m2.534e-04\u001b[0m/\u001b[92m3.462e-04\u001b[0m (rms/max) Trust = 1.000e-01 (=) Grad = \u001b[92m5.141e-05\u001b[0m/\u001b[92m8.566e-05\u001b[0m (rms/max) E (change) = -111.7849221749 (\u001b[92m-9.230e-08\u001b[0m) Quality = \u001b[0m1.228\u001b[0m\n",
      "Converged! =D\n",
      "\n",
      "    #==========================================================================#\n",
      "    #| If this code has benefited your research, please support us by citing: |#\n",
      "    #|                                                                        |#\n",
      "    #| Wang, L.-P.; Song, C.C. (2016) \"Geometry optimization made simple with |#\n",
      "    #| translation and rotation coordinates\", J. Chem, Phys. 144, 214108.     |#\n",
      "    #| http://dx.doi.org/10.1063/1.4952956                                    |#\n",
      "    #==========================================================================#\n",
      "    \n",
      "Time elapsed since start of run_optimizer: 3.552 seconds\n"
     ]
    },
    {
     "name": "stdout",
     "output_type": "stream",
     "text": [
      "converged SCF energy = -111.784922175093\n",
      "-111.78492217509306\n"
     ]
    },
    {
     "name": "stderr",
     "output_type": "stream",
     "text": [
      "\n",
      "                                        \u001b[91m())))))))))))))))/\u001b[0m                     \n",
      "                                    \u001b[91m())))))))))))))))))))))))),\u001b[0m                \n",
      "                                \u001b[91m*)))))))))))))))))))))))))))))))))\u001b[0m             \n",
      "                        \u001b[94m#,\u001b[0m    \u001b[91m()))))))))/\u001b[0m                \u001b[91m.)))))))))),\u001b[0m          \n",
      "                      \u001b[94m#%%%%,\u001b[0m  \u001b[91m())))))\u001b[0m                        \u001b[91m.))))))))*\u001b[0m        \n",
      "                      \u001b[94m*%%%%%%,\u001b[0m  \u001b[91m))\u001b[0m              \u001b[93m..\u001b[0m              \u001b[91m,))))))).\u001b[0m      \n",
      "                        \u001b[94m*%%%%%%,\u001b[0m         \u001b[93m***************/.\u001b[0m        \u001b[91m.)))))))\u001b[0m     \n",
      "                \u001b[94m#%%/\u001b[0m      \u001b[94m(%%%%%%,\u001b[0m    \u001b[93m/*********************.\u001b[0m       \u001b[91m)))))))\u001b[0m    \n",
      "              \u001b[94m.%%%%%%#\u001b[0m      \u001b[94m*%%%%%%,\u001b[0m  \u001b[93m*******/,\u001b[0m     \u001b[93m**********,\u001b[0m      \u001b[91m.))))))\u001b[0m   \n",
      "                \u001b[94m.%%%%%%/\u001b[0m      \u001b[94m*%%%%%%,\u001b[0m  \u001b[93m**\u001b[0m              \u001b[93m********\u001b[0m      \u001b[91m.))))))\u001b[0m  \n",
      "          \u001b[94m##\u001b[0m      \u001b[94m.%%%%%%/\u001b[0m      \u001b[94m(%%%%%%,\u001b[0m                  \u001b[93m,******\u001b[0m      \u001b[91m/)))))\u001b[0m  \n",
      "        \u001b[94m%%%%%%\u001b[0m      \u001b[94m.%%%%%%#\u001b[0m      \u001b[94m*%%%%%%,\u001b[0m    \u001b[92m,/////.\u001b[0m       \u001b[93m******\u001b[0m      \u001b[91m))))))\u001b[0m \n",
      "      \u001b[94m#%\u001b[0m      \u001b[94m%%\u001b[0m      \u001b[94m.%%%%%%/\u001b[0m      \u001b[94m*%%%%%%,\u001b[0m  \u001b[92m////////,\u001b[0m      \u001b[93m*****/\u001b[0m     \u001b[91m,)))))\u001b[0m \n",
      "    \u001b[94m#%%\u001b[0m  \u001b[94m%%%\u001b[0m  \u001b[94m%%%#\u001b[0m      \u001b[94m.%%%%%%/\u001b[0m      \u001b[94m(%%%%%%,\u001b[0m  \u001b[92m///////.\u001b[0m     \u001b[93m/*****\u001b[0m      \u001b[91m))))).\u001b[0m\n",
      "  \u001b[94m#%%%%.\u001b[0m      \u001b[94m%%%%%#\u001b[0m      \u001b[94m/%%%%%%*\u001b[0m      \u001b[94m#%%%%%%\u001b[0m   \u001b[92m/////)\u001b[0m     \u001b[93m******\u001b[0m      \u001b[91m))))),\u001b[0m\n",
      "    \u001b[94m#%%%%##%\u001b[0m  \u001b[94m%%%#\u001b[0m      \u001b[94m.%%%%%%/\u001b[0m      \u001b[94m(%%%%%%,\u001b[0m  \u001b[92m///////.\u001b[0m     \u001b[93m/*****\u001b[0m      \u001b[91m))))).\u001b[0m\n",
      "      \u001b[94m##\u001b[0m     \u001b[94m%%%\u001b[0m      \u001b[94m.%%%%%%/\u001b[0m      \u001b[94m*%%%%%%,\u001b[0m  \u001b[92m////////.\u001b[0m      \u001b[93m*****/\u001b[0m     \u001b[91m,)))))\u001b[0m \n",
      "        \u001b[94m#%%%%#\u001b[0m      \u001b[94m/%%%%%%/\u001b[0m      \u001b[94m(%%%%%%\u001b[0m      \u001b[92m/)/)//\u001b[0m       \u001b[93m******\u001b[0m      \u001b[91m))))))\u001b[0m \n",
      "          \u001b[94m##\u001b[0m      \u001b[94m.%%%%%%/\u001b[0m      \u001b[94m(%%%%%%,\u001b[0m                  \u001b[93m*******\u001b[0m      \u001b[91m))))))\u001b[0m  \n",
      "                \u001b[94m.%%%%%%/\u001b[0m      \u001b[94m*%%%%%%,\u001b[0m  \u001b[93m**.\u001b[0m             \u001b[93m/*******\u001b[0m      \u001b[91m.))))))\u001b[0m  \n",
      "              \u001b[94m*%%%%%%/\u001b[0m      \u001b[94m(%%%%%%\u001b[0m   \u001b[93m********/*..,*/*********\u001b[0m       \u001b[91m*))))))\u001b[0m   \n",
      "                \u001b[94m#%%/\u001b[0m      \u001b[94m(%%%%%%,\u001b[0m    \u001b[93m*********************/\u001b[0m        \u001b[91m)))))))\u001b[0m    \n",
      "                        \u001b[94m*%%%%%%,\u001b[0m         \u001b[93m,**************/\u001b[0m         \u001b[91m,))))))/\u001b[0m     \n",
      "                      \u001b[94m(%%%%%%\u001b[0m   \u001b[91m()\u001b[0m                              \u001b[91m))))))))\u001b[0m       \n",
      "                      \u001b[94m#%%%%,\u001b[0m  \u001b[91m())))))\u001b[0m                        \u001b[91m,)))))))),\u001b[0m        \n",
      "                        \u001b[94m#,\u001b[0m    \u001b[91m())))))))))\u001b[0m                \u001b[91m,)))))))))).\u001b[0m          \n",
      "                                 \u001b[91m()))))))))))))))))))))))))))))))/\u001b[0m             \n",
      "                                    \u001b[91m())))))))))))))))))))))))).\u001b[0m                \n",
      "                                         \u001b[91m())))))))))))))),\u001b[0m                     \n",
      "\n",
      "-=# \u001b[1;94m geomeTRIC started. Version: 0.9.7.2 \u001b[0m #=-\n",
      "geometric-optimize called with the following command line:\n",
      "/home/sahre/opt/miniconda3/envs/qm-tools/lib/python3.9/site-packages/ipykernel_launcher.py -f /home/sahre/.local/share/jupyter/runtime/kernel-e88c688d-eb8e-4eca-a035-2f871d3bc74c.json\n",
      "15 internal coordinates being used (instead of 15 Cartesians)\n",
      "Internal coordinate system (atoms numbered from 1):\n",
      "Distance 1-2\n",
      "Distance 1-3\n",
      "Distance 1-4\n",
      "Distance 2-5\n",
      "Angle 2-1-3\n",
      "Angle 2-1-4\n",
      "Angle 3-1-4\n",
      "Angle 1-2-5\n",
      "Dihedral 3-1-2-5\n",
      "Dihedral 4-1-2-5\n",
      "Translation-X 1-5\n",
      "Translation-Y 1-5\n",
      "Translation-Z 1-5\n",
      "Rotation-A 1-5\n",
      "Rotation-B 1-5\n",
      "Rotation-C 1-5\n",
      "<class 'geometric.internal.Distance'> : 4\n",
      "<class 'geometric.internal.Angle'> : 4\n",
      "<class 'geometric.internal.Dihedral'> : 2\n",
      "<class 'geometric.internal.TranslationX'> : 1\n",
      "<class 'geometric.internal.TranslationY'> : 1\n",
      "<class 'geometric.internal.TranslationZ'> : 1\n",
      "<class 'geometric.internal.RotationA'> : 1\n",
      "<class 'geometric.internal.RotationB'> : 1\n",
      "<class 'geometric.internal.RotationC'> : 1\n"
     ]
    },
    {
     "name": "stdout",
     "output_type": "stream",
     "text": [
      "\n",
      "Geometry optimization cycle 1\n",
      "Cartesian coordinates (Angstrom)\n",
      " Atom        New coordinates             dX        dY        dZ\n",
      "   N  -0.531123  -0.001750   0.339355    0.000000  0.000000  0.000000\n",
      "   O   0.869745  -0.105520   0.460951   -0.000000  0.000000  0.000000\n",
      "   H  -0.745493   0.887522  -0.103387    0.000000  0.000000  0.000000\n",
      "   H  -0.851288  -0.744450  -0.276016    0.000000  0.000000  0.000000\n",
      "   H   1.256749  -0.036619  -0.420164    0.000000  0.000000  0.000000\n",
      "converged SCF energy = -131.622414421478\n",
      "--------------- SCF_Scanner gradients ---------------\n",
      "         x                y                z\n",
      "0 N     0.0000898898     0.0000007738     0.0000367442\n",
      "1 O    -0.0000899717    -0.0000012538    -0.0000247089\n",
      "2 H     0.0000014760     0.0000175708    -0.0000119474\n",
      "3 H     0.0000023644    -0.0000217017    -0.0000103576\n",
      "4 H     0.0000027243     0.0000084350     0.0000070970\n",
      "----------------------------------------------\n",
      "cycle 1: E = -131.622414421  dE = -131.622  norm(grad) = 0.00013894\n"
     ]
    },
    {
     "name": "stderr",
     "output_type": "stream",
     "text": [
      "Step    0 : Gradient = 6.214e-05/9.711e-05 (rms/max) Energy = -131.6224144215\n",
      "Hessian Eigenvalues: 2.30000e-02 5.00000e-02 5.00000e-02 ... 4.49398e-01 4.49406e-01 5.44488e-01\n"
     ]
    },
    {
     "name": "stdout",
     "output_type": "stream",
     "text": [
      "\n",
      "Geometry optimization cycle 2\n",
      "Cartesian coordinates (Angstrom)\n",
      " Atom        New coordinates             dX        dY        dZ\n",
      "   N  -0.531215  -0.001768   0.339351   -0.000092 -0.000018 -0.000004\n",
      "   O   0.869757  -0.105535   0.461021    0.000012 -0.000015  0.000070\n",
      "   H  -0.745626   0.887508  -0.103309   -0.000133 -0.000014  0.000078\n",
      "   H  -0.851420  -0.744401  -0.276036   -0.000132  0.000049 -0.000020\n",
      "   H   1.256750  -0.036823  -0.420120    0.000002 -0.000204  0.000044\n",
      "converged SCF energy = -131.622414437628\n",
      "--------------- SCF_Scanner gradients ---------------\n",
      "         x                y                z\n",
      "0 N     0.0000311837     0.0000045816     0.0000010631\n",
      "1 O    -0.0000112162    -0.0000043335    -0.0000030554\n",
      "2 H    -0.0000111781    -0.0000011332    -0.0000041736\n",
      "3 H    -0.0000083822    -0.0000011431    -0.0000001789\n",
      "4 H     0.0000060778     0.0000058637     0.0000031617\n",
      "----------------------------------------------\n",
      "cycle 2: E = -131.622414438  dE = -1.61506e-08  norm(grad) = 3.80137e-05\n"
     ]
    },
    {
     "name": "stderr",
     "output_type": "stream",
     "text": [
      "Step    1 : Displace = \u001b[92m9.964e-05\u001b[0m/\u001b[92m1.223e-04\u001b[0m (rms/max) Trust = 1.000e-01 (=) Grad = \u001b[92m1.700e-05\u001b[0m/\u001b[92m3.154e-05\u001b[0m (rms/max) E (change) = -131.6224144376 (\u001b[92m-1.615e-08\u001b[0m) Quality = \u001b[0m1.129\u001b[0m\n",
      "Converged! =D\n",
      "\n",
      "    #==========================================================================#\n",
      "    #| If this code has benefited your research, please support us by citing: |#\n",
      "    #|                                                                        |#\n",
      "    #| Wang, L.-P.; Song, C.C. (2016) \"Geometry optimization made simple with |#\n",
      "    #| translation and rotation coordinates\", J. Chem, Phys. 144, 214108.     |#\n",
      "    #| http://dx.doi.org/10.1063/1.4952956                                    |#\n",
      "    #==========================================================================#\n",
      "    \n",
      "Time elapsed since start of run_optimizer: 3.096 seconds\n"
     ]
    },
    {
     "name": "stdout",
     "output_type": "stream",
     "text": [
      "converged SCF energy = -131.622414437741\n",
      "-131.62241443774116\n"
     ]
    },
    {
     "name": "stderr",
     "output_type": "stream",
     "text": [
      "\n",
      "                                        \u001b[91m())))))))))))))))/\u001b[0m                     \n",
      "                                    \u001b[91m())))))))))))))))))))))))),\u001b[0m                \n",
      "                                \u001b[91m*)))))))))))))))))))))))))))))))))\u001b[0m             \n",
      "                        \u001b[94m#,\u001b[0m    \u001b[91m()))))))))/\u001b[0m                \u001b[91m.)))))))))),\u001b[0m          \n",
      "                      \u001b[94m#%%%%,\u001b[0m  \u001b[91m())))))\u001b[0m                        \u001b[91m.))))))))*\u001b[0m        \n",
      "                      \u001b[94m*%%%%%%,\u001b[0m  \u001b[91m))\u001b[0m              \u001b[93m..\u001b[0m              \u001b[91m,))))))).\u001b[0m      \n",
      "                        \u001b[94m*%%%%%%,\u001b[0m         \u001b[93m***************/.\u001b[0m        \u001b[91m.)))))))\u001b[0m     \n",
      "                \u001b[94m#%%/\u001b[0m      \u001b[94m(%%%%%%,\u001b[0m    \u001b[93m/*********************.\u001b[0m       \u001b[91m)))))))\u001b[0m    \n",
      "              \u001b[94m.%%%%%%#\u001b[0m      \u001b[94m*%%%%%%,\u001b[0m  \u001b[93m*******/,\u001b[0m     \u001b[93m**********,\u001b[0m      \u001b[91m.))))))\u001b[0m   \n",
      "                \u001b[94m.%%%%%%/\u001b[0m      \u001b[94m*%%%%%%,\u001b[0m  \u001b[93m**\u001b[0m              \u001b[93m********\u001b[0m      \u001b[91m.))))))\u001b[0m  \n",
      "          \u001b[94m##\u001b[0m      \u001b[94m.%%%%%%/\u001b[0m      \u001b[94m(%%%%%%,\u001b[0m                  \u001b[93m,******\u001b[0m      \u001b[91m/)))))\u001b[0m  \n",
      "        \u001b[94m%%%%%%\u001b[0m      \u001b[94m.%%%%%%#\u001b[0m      \u001b[94m*%%%%%%,\u001b[0m    \u001b[92m,/////.\u001b[0m       \u001b[93m******\u001b[0m      \u001b[91m))))))\u001b[0m \n",
      "      \u001b[94m#%\u001b[0m      \u001b[94m%%\u001b[0m      \u001b[94m.%%%%%%/\u001b[0m      \u001b[94m*%%%%%%,\u001b[0m  \u001b[92m////////,\u001b[0m      \u001b[93m*****/\u001b[0m     \u001b[91m,)))))\u001b[0m \n",
      "    \u001b[94m#%%\u001b[0m  \u001b[94m%%%\u001b[0m  \u001b[94m%%%#\u001b[0m      \u001b[94m.%%%%%%/\u001b[0m      \u001b[94m(%%%%%%,\u001b[0m  \u001b[92m///////.\u001b[0m     \u001b[93m/*****\u001b[0m      \u001b[91m))))).\u001b[0m\n",
      "  \u001b[94m#%%%%.\u001b[0m      \u001b[94m%%%%%#\u001b[0m      \u001b[94m/%%%%%%*\u001b[0m      \u001b[94m#%%%%%%\u001b[0m   \u001b[92m/////)\u001b[0m     \u001b[93m******\u001b[0m      \u001b[91m))))),\u001b[0m\n",
      "    \u001b[94m#%%%%##%\u001b[0m  \u001b[94m%%%#\u001b[0m      \u001b[94m.%%%%%%/\u001b[0m      \u001b[94m(%%%%%%,\u001b[0m  \u001b[92m///////.\u001b[0m     \u001b[93m/*****\u001b[0m      \u001b[91m))))).\u001b[0m\n",
      "      \u001b[94m##\u001b[0m     \u001b[94m%%%\u001b[0m      \u001b[94m.%%%%%%/\u001b[0m      \u001b[94m*%%%%%%,\u001b[0m  \u001b[92m////////.\u001b[0m      \u001b[93m*****/\u001b[0m     \u001b[91m,)))))\u001b[0m \n",
      "        \u001b[94m#%%%%#\u001b[0m      \u001b[94m/%%%%%%/\u001b[0m      \u001b[94m(%%%%%%\u001b[0m      \u001b[92m/)/)//\u001b[0m       \u001b[93m******\u001b[0m      \u001b[91m))))))\u001b[0m \n",
      "          \u001b[94m##\u001b[0m      \u001b[94m.%%%%%%/\u001b[0m      \u001b[94m(%%%%%%,\u001b[0m                  \u001b[93m*******\u001b[0m      \u001b[91m))))))\u001b[0m  \n",
      "                \u001b[94m.%%%%%%/\u001b[0m      \u001b[94m*%%%%%%,\u001b[0m  \u001b[93m**.\u001b[0m             \u001b[93m/*******\u001b[0m      \u001b[91m.))))))\u001b[0m  \n",
      "              \u001b[94m*%%%%%%/\u001b[0m      \u001b[94m(%%%%%%\u001b[0m   \u001b[93m********/*..,*/*********\u001b[0m       \u001b[91m*))))))\u001b[0m   \n",
      "                \u001b[94m#%%/\u001b[0m      \u001b[94m(%%%%%%,\u001b[0m    \u001b[93m*********************/\u001b[0m        \u001b[91m)))))))\u001b[0m    \n",
      "                        \u001b[94m*%%%%%%,\u001b[0m         \u001b[93m,**************/\u001b[0m         \u001b[91m,))))))/\u001b[0m     \n",
      "                      \u001b[94m(%%%%%%\u001b[0m   \u001b[91m()\u001b[0m                              \u001b[91m))))))))\u001b[0m       \n",
      "                      \u001b[94m#%%%%,\u001b[0m  \u001b[91m())))))\u001b[0m                        \u001b[91m,)))))))),\u001b[0m        \n",
      "                        \u001b[94m#,\u001b[0m    \u001b[91m())))))))))\u001b[0m                \u001b[91m,)))))))))).\u001b[0m          \n",
      "                                 \u001b[91m()))))))))))))))))))))))))))))))/\u001b[0m             \n",
      "                                    \u001b[91m())))))))))))))))))))))))).\u001b[0m                \n",
      "                                         \u001b[91m())))))))))))))),\u001b[0m                     \n",
      "\n",
      "-=# \u001b[1;94m geomeTRIC started. Version: 0.9.7.2 \u001b[0m #=-\n",
      "geometric-optimize called with the following command line:\n",
      "/home/sahre/opt/miniconda3/envs/qm-tools/lib/python3.9/site-packages/ipykernel_launcher.py -f /home/sahre/.local/share/jupyter/runtime/kernel-e88c688d-eb8e-4eca-a035-2f871d3bc74c.json\n",
      "12 internal coordinates being used (instead of 12 Cartesians)\n",
      "Internal coordinate system (atoms numbered from 1):\n",
      "Distance 1-2\n",
      "Distance 1-3\n",
      "Distance 1-4\n",
      "Angle 2-1-3\n",
      "Angle 2-1-4\n",
      "Angle 3-1-4\n",
      "Translation-X 1-4\n",
      "Translation-Y 1-4\n",
      "Translation-Z 1-4\n",
      "Rotation-A 1-4\n",
      "Rotation-B 1-4\n",
      "Rotation-C 1-4\n",
      "<class 'geometric.internal.Distance'> : 3\n",
      "<class 'geometric.internal.Angle'> : 3\n",
      "<class 'geometric.internal.TranslationX'> : 1\n",
      "<class 'geometric.internal.TranslationY'> : 1\n",
      "<class 'geometric.internal.TranslationZ'> : 1\n",
      "<class 'geometric.internal.RotationA'> : 1\n",
      "<class 'geometric.internal.RotationB'> : 1\n",
      "<class 'geometric.internal.RotationC'> : 1\n"
     ]
    },
    {
     "name": "stdout",
     "output_type": "stream",
     "text": [
      "\n",
      "Geometry optimization cycle 1\n",
      "Cartesian coordinates (Angstrom)\n",
      " Atom        New coordinates             dX        dY        dZ\n",
      "   N  -0.139062   0.009512   0.353946    0.000000  0.000000  0.000000\n",
      "   F   1.193365  -0.054550  -0.096943    0.000000  0.000000  0.000000\n",
      "   H  -0.564612  -0.784995  -0.123350    0.000000  0.000000  0.000000\n",
      "   H  -0.488745   0.836366  -0.129952    0.000000  0.000000  0.000000\n",
      "converged SCF energy = -155.625693632422\n",
      "--------------- SCF_Scanner gradients ---------------\n",
      "         x                y                z\n",
      "0 N     0.0001044685    -0.0000101249     0.0000107303\n",
      "1 F    -0.0000695004    -0.0000189642     0.0000003907\n",
      "2 H    -0.0000329463    -0.0000385195    -0.0000159571\n",
      "3 H    -0.0000111839     0.0000364176    -0.0000190990\n",
      "----------------------------------------------\n",
      "cycle 1: E = -155.625693632  dE = -155.626  norm(grad) = 0.00014478\n"
     ]
    },
    {
     "name": "stderr",
     "output_type": "stream",
     "text": [
      "Step    0 : Gradient = 7.239e-05/1.055e-04 (rms/max) Energy = -155.6256936324\n",
      "Hessian Eigenvalues: 5.00000e-02 5.00000e-02 5.00000e-02 ... 4.43028e-01 4.43580e-01 4.43598e-01\n"
     ]
    },
    {
     "name": "stdout",
     "output_type": "stream",
     "text": [
      "\n",
      "Geometry optimization cycle 2\n",
      "Cartesian coordinates (Angstrom)\n",
      " Atom        New coordinates             dX        dY        dZ\n",
      "   N  -0.139146   0.009771   0.354153   -0.000084  0.000259  0.000207\n",
      "   F   1.193567  -0.053659  -0.096241    0.000202  0.000891  0.000702\n",
      "   H  -0.564098  -0.784874  -0.123329    0.000514  0.000121  0.000021\n",
      "   H  -0.488990   0.836416  -0.129869   -0.000244  0.000050  0.000083\n",
      "converged SCF energy = -155.62569366466\n",
      "--------------- SCF_Scanner gradients ---------------\n",
      "         x                y                z\n",
      "0 N     0.0000304403    -0.0000072991    -0.0000123641\n",
      "1 F    -0.0000196282    -0.0000213464    -0.0000151878\n",
      "2 H    -0.0000192276     0.0000009299     0.0000029010\n",
      "3 H    -0.0000004429    -0.0000040032    -0.0000002077\n",
      "----------------------------------------------\n",
      "cycle 2: E = -155.625693665  dE = -3.2238e-08  norm(grad) = 5.09864e-05\n"
     ]
    },
    {
     "name": "stderr",
     "output_type": "stream",
     "text": [
      "Step    1 : Displace = \u001b[92m4.789e-05\u001b[0m/\u001b[92m5.371e-05\u001b[0m (rms/max) Trust = 1.000e-01 (=) Grad = \u001b[92m2.549e-05\u001b[0m/\u001b[92m3.366e-05\u001b[0m (rms/max) E (change) = -155.6256936647 (\u001b[92m-3.224e-08\u001b[0m) Quality = \u001b[0m0.581\u001b[0m\n",
      "Converged! =D\n",
      "\n",
      "    #==========================================================================#\n",
      "    #| If this code has benefited your research, please support us by citing: |#\n",
      "    #|                                                                        |#\n",
      "    #| Wang, L.-P.; Song, C.C. (2016) \"Geometry optimization made simple with |#\n",
      "    #| translation and rotation coordinates\", J. Chem, Phys. 144, 214108.     |#\n",
      "    #| http://dx.doi.org/10.1063/1.4952956                                    |#\n",
      "    #==========================================================================#\n",
      "    \n",
      "Time elapsed since start of run_optimizer: 2.715 seconds\n"
     ]
    },
    {
     "name": "stdout",
     "output_type": "stream",
     "text": [
      "converged SCF energy = -155.625693664667\n",
      "-155.62569366466724\n"
     ]
    },
    {
     "name": "stderr",
     "output_type": "stream",
     "text": [
      "\n",
      "                                        \u001b[91m())))))))))))))))/\u001b[0m                     \n",
      "                                    \u001b[91m())))))))))))))))))))))))),\u001b[0m                \n",
      "                                \u001b[91m*)))))))))))))))))))))))))))))))))\u001b[0m             \n",
      "                        \u001b[94m#,\u001b[0m    \u001b[91m()))))))))/\u001b[0m                \u001b[91m.)))))))))),\u001b[0m          \n",
      "                      \u001b[94m#%%%%,\u001b[0m  \u001b[91m())))))\u001b[0m                        \u001b[91m.))))))))*\u001b[0m        \n",
      "                      \u001b[94m*%%%%%%,\u001b[0m  \u001b[91m))\u001b[0m              \u001b[93m..\u001b[0m              \u001b[91m,))))))).\u001b[0m      \n",
      "                        \u001b[94m*%%%%%%,\u001b[0m         \u001b[93m***************/.\u001b[0m        \u001b[91m.)))))))\u001b[0m     \n",
      "                \u001b[94m#%%/\u001b[0m      \u001b[94m(%%%%%%,\u001b[0m    \u001b[93m/*********************.\u001b[0m       \u001b[91m)))))))\u001b[0m    \n",
      "              \u001b[94m.%%%%%%#\u001b[0m      \u001b[94m*%%%%%%,\u001b[0m  \u001b[93m*******/,\u001b[0m     \u001b[93m**********,\u001b[0m      \u001b[91m.))))))\u001b[0m   \n",
      "                \u001b[94m.%%%%%%/\u001b[0m      \u001b[94m*%%%%%%,\u001b[0m  \u001b[93m**\u001b[0m              \u001b[93m********\u001b[0m      \u001b[91m.))))))\u001b[0m  \n",
      "          \u001b[94m##\u001b[0m      \u001b[94m.%%%%%%/\u001b[0m      \u001b[94m(%%%%%%,\u001b[0m                  \u001b[93m,******\u001b[0m      \u001b[91m/)))))\u001b[0m  \n",
      "        \u001b[94m%%%%%%\u001b[0m      \u001b[94m.%%%%%%#\u001b[0m      \u001b[94m*%%%%%%,\u001b[0m    \u001b[92m,/////.\u001b[0m       \u001b[93m******\u001b[0m      \u001b[91m))))))\u001b[0m \n",
      "      \u001b[94m#%\u001b[0m      \u001b[94m%%\u001b[0m      \u001b[94m.%%%%%%/\u001b[0m      \u001b[94m*%%%%%%,\u001b[0m  \u001b[92m////////,\u001b[0m      \u001b[93m*****/\u001b[0m     \u001b[91m,)))))\u001b[0m \n",
      "    \u001b[94m#%%\u001b[0m  \u001b[94m%%%\u001b[0m  \u001b[94m%%%#\u001b[0m      \u001b[94m.%%%%%%/\u001b[0m      \u001b[94m(%%%%%%,\u001b[0m  \u001b[92m///////.\u001b[0m     \u001b[93m/*****\u001b[0m      \u001b[91m))))).\u001b[0m\n",
      "  \u001b[94m#%%%%.\u001b[0m      \u001b[94m%%%%%#\u001b[0m      \u001b[94m/%%%%%%*\u001b[0m      \u001b[94m#%%%%%%\u001b[0m   \u001b[92m/////)\u001b[0m     \u001b[93m******\u001b[0m      \u001b[91m))))),\u001b[0m\n",
      "    \u001b[94m#%%%%##%\u001b[0m  \u001b[94m%%%#\u001b[0m      \u001b[94m.%%%%%%/\u001b[0m      \u001b[94m(%%%%%%,\u001b[0m  \u001b[92m///////.\u001b[0m     \u001b[93m/*****\u001b[0m      \u001b[91m))))).\u001b[0m\n",
      "      \u001b[94m##\u001b[0m     \u001b[94m%%%\u001b[0m      \u001b[94m.%%%%%%/\u001b[0m      \u001b[94m*%%%%%%,\u001b[0m  \u001b[92m////////.\u001b[0m      \u001b[93m*****/\u001b[0m     \u001b[91m,)))))\u001b[0m \n",
      "        \u001b[94m#%%%%#\u001b[0m      \u001b[94m/%%%%%%/\u001b[0m      \u001b[94m(%%%%%%\u001b[0m      \u001b[92m/)/)//\u001b[0m       \u001b[93m******\u001b[0m      \u001b[91m))))))\u001b[0m \n",
      "          \u001b[94m##\u001b[0m      \u001b[94m.%%%%%%/\u001b[0m      \u001b[94m(%%%%%%,\u001b[0m                  \u001b[93m*******\u001b[0m      \u001b[91m))))))\u001b[0m  \n",
      "                \u001b[94m.%%%%%%/\u001b[0m      \u001b[94m*%%%%%%,\u001b[0m  \u001b[93m**.\u001b[0m             \u001b[93m/*******\u001b[0m      \u001b[91m.))))))\u001b[0m  \n",
      "              \u001b[94m*%%%%%%/\u001b[0m      \u001b[94m(%%%%%%\u001b[0m   \u001b[93m********/*..,*/*********\u001b[0m       \u001b[91m*))))))\u001b[0m   \n",
      "                \u001b[94m#%%/\u001b[0m      \u001b[94m(%%%%%%,\u001b[0m    \u001b[93m*********************/\u001b[0m        \u001b[91m)))))))\u001b[0m    \n",
      "                        \u001b[94m*%%%%%%,\u001b[0m         \u001b[93m,**************/\u001b[0m         \u001b[91m,))))))/\u001b[0m     \n",
      "                      \u001b[94m(%%%%%%\u001b[0m   \u001b[91m()\u001b[0m                              \u001b[91m))))))))\u001b[0m       \n",
      "                      \u001b[94m#%%%%,\u001b[0m  \u001b[91m())))))\u001b[0m                        \u001b[91m,)))))))),\u001b[0m        \n",
      "                        \u001b[94m#,\u001b[0m    \u001b[91m())))))))))\u001b[0m                \u001b[91m,)))))))))).\u001b[0m          \n",
      "                                 \u001b[91m()))))))))))))))))))))))))))))))/\u001b[0m             \n",
      "                                    \u001b[91m())))))))))))))))))))))))).\u001b[0m                \n",
      "                                         \u001b[91m())))))))))))))),\u001b[0m                     \n",
      "\n",
      "-=# \u001b[1;94m geomeTRIC started. Version: 0.9.7.2 \u001b[0m #=-\n",
      "geometric-optimize called with the following command line:\n",
      "/home/sahre/opt/miniconda3/envs/qm-tools/lib/python3.9/site-packages/ipykernel_launcher.py -f /home/sahre/.local/share/jupyter/runtime/kernel-e88c688d-eb8e-4eca-a035-2f871d3bc74c.json\n",
      "12 internal coordinates being used (instead of 12 Cartesians)\n",
      "Internal coordinate system (atoms numbered from 1):\n",
      "Distance 1-2\n",
      "Distance 1-3\n",
      "Distance 2-4\n",
      "Angle 2-1-3\n",
      "Angle 1-2-4\n",
      "Dihedral 3-1-2-4\n",
      "Translation-X 1-4\n",
      "Translation-Y 1-4\n",
      "Translation-Z 1-4\n",
      "Rotation-A 1-4\n",
      "Rotation-B 1-4\n",
      "Rotation-C 1-4\n",
      "<class 'geometric.internal.Distance'> : 3\n",
      "<class 'geometric.internal.Angle'> : 2\n",
      "<class 'geometric.internal.Dihedral'> : 1\n",
      "<class 'geometric.internal.TranslationX'> : 1\n",
      "<class 'geometric.internal.TranslationY'> : 1\n",
      "<class 'geometric.internal.TranslationZ'> : 1\n",
      "<class 'geometric.internal.RotationA'> : 1\n",
      "<class 'geometric.internal.RotationB'> : 1\n",
      "<class 'geometric.internal.RotationC'> : 1\n"
     ]
    },
    {
     "name": "stdout",
     "output_type": "stream",
     "text": [
      "\n",
      "Geometry optimization cycle 1\n",
      "Cartesian coordinates (Angstrom)\n",
      " Atom        New coordinates             dX        dY        dZ\n",
      "   O  -0.550619   0.461589  -0.001428    0.000000  0.000000  0.000000\n",
      "   O   0.550623  -0.461591   0.002104    0.000000  0.000000  0.000000\n",
      "   H  -1.280656  -0.166850  -0.000064    0.000000  0.000000  0.000000\n",
      "   H   1.280653   0.166851  -0.000608    0.000000  0.000000  0.000000\n",
      "converged SCF energy = -151.453106283989\n",
      "--------------- SCF_Scanner gradients ---------------\n",
      "         x                y                z\n",
      "0 O     0.0000014421     0.0000044458    -0.0000036651\n",
      "1 O     0.0000001539    -0.0000047322    -0.0000049228\n",
      "2 H    -0.0000032960     0.0000066774     0.0000042399\n",
      "3 H     0.0000016966    -0.0000063857     0.0000042913\n",
      "----------------------------------------------\n",
      "cycle 1: E = -151.453106284  dE = -151.453  norm(grad) = 1.47454e-05\n"
     ]
    },
    {
     "name": "stderr",
     "output_type": "stream",
     "text": [
      "Step    0 : Gradient = 7.373e-06/8.569e-06 (rms/max) Energy = -151.4531062840\n",
      "Hessian Eigenvalues: 2.30000e-02 5.00000e-02 5.00000e-02 ... 3.99979e-01 5.47757e-01 5.47759e-01\n"
     ]
    },
    {
     "name": "stdout",
     "output_type": "stream",
     "text": [
      "\n",
      "Geometry optimization cycle 2\n",
      "Cartesian coordinates (Angstrom)\n",
      " Atom        New coordinates             dX        dY        dZ\n",
      "   O  -0.550721   0.461469  -0.001354   -0.000102 -0.000120  0.000074\n",
      "   O   0.550721  -0.461466   0.002190    0.000097  0.000125  0.000086\n",
      "   H  -1.280608  -0.167142  -0.000149    0.000048 -0.000292 -0.000086\n",
      "   H   1.280610   0.167138  -0.000680   -0.000043  0.000286 -0.000072\n",
      "converged SCF energy = -151.453106296842\n",
      "--------------- SCF_Scanner gradients ---------------\n",
      "         x                y                z\n",
      "0 O     0.0000023295     0.0000050380    -0.0000047003\n",
      "1 O    -0.0000019986    -0.0000050177    -0.0000059057\n",
      "2 H    -0.0000004224     0.0000060629     0.0000052401\n",
      "3 H     0.0000000866    -0.0000060782     0.0000052951\n",
      "----------------------------------------------\n",
      "cycle 2: E = -151.453106297  dE = -1.28529e-08  norm(grad) = 1.56951e-05\n"
     ]
    },
    {
     "name": "stderr",
     "output_type": "stream",
     "text": [
      "Step    1 : Displace = \u001b[92m7.980e-05\u001b[0m/\u001b[92m8.022e-05\u001b[0m (rms/max) Trust = 1.000e-01 (=) Grad = \u001b[92m7.848e-06\u001b[0m/\u001b[92m8.062e-06\u001b[0m (rms/max) E (change) = -151.4531062968 (\u001b[92m-1.285e-08\u001b[0m) Quality = \u001b[0m2.051\u001b[0m\n",
      "Converged! =D\n",
      "\n",
      "    #==========================================================================#\n",
      "    #| If this code has benefited your research, please support us by citing: |#\n",
      "    #|                                                                        |#\n",
      "    #| Wang, L.-P.; Song, C.C. (2016) \"Geometry optimization made simple with |#\n",
      "    #| translation and rotation coordinates\", J. Chem, Phys. 144, 214108.     |#\n",
      "    #| http://dx.doi.org/10.1063/1.4952956                                    |#\n",
      "    #==========================================================================#\n",
      "    \n",
      "Time elapsed since start of run_optimizer: 2.397 seconds\n"
     ]
    },
    {
     "name": "stdout",
     "output_type": "stream",
     "text": [
      "converged SCF energy = -151.45310629687\n",
      "-151.45310629686958\n"
     ]
    },
    {
     "name": "stderr",
     "output_type": "stream",
     "text": [
      "\n",
      "                                        \u001b[91m())))))))))))))))/\u001b[0m                     \n",
      "                                    \u001b[91m())))))))))))))))))))))))),\u001b[0m                \n",
      "                                \u001b[91m*)))))))))))))))))))))))))))))))))\u001b[0m             \n",
      "                        \u001b[94m#,\u001b[0m    \u001b[91m()))))))))/\u001b[0m                \u001b[91m.)))))))))),\u001b[0m          \n",
      "                      \u001b[94m#%%%%,\u001b[0m  \u001b[91m())))))\u001b[0m                        \u001b[91m.))))))))*\u001b[0m        \n",
      "                      \u001b[94m*%%%%%%,\u001b[0m  \u001b[91m))\u001b[0m              \u001b[93m..\u001b[0m              \u001b[91m,))))))).\u001b[0m      \n",
      "                        \u001b[94m*%%%%%%,\u001b[0m         \u001b[93m***************/.\u001b[0m        \u001b[91m.)))))))\u001b[0m     \n",
      "                \u001b[94m#%%/\u001b[0m      \u001b[94m(%%%%%%,\u001b[0m    \u001b[93m/*********************.\u001b[0m       \u001b[91m)))))))\u001b[0m    \n",
      "              \u001b[94m.%%%%%%#\u001b[0m      \u001b[94m*%%%%%%,\u001b[0m  \u001b[93m*******/,\u001b[0m     \u001b[93m**********,\u001b[0m      \u001b[91m.))))))\u001b[0m   \n",
      "                \u001b[94m.%%%%%%/\u001b[0m      \u001b[94m*%%%%%%,\u001b[0m  \u001b[93m**\u001b[0m              \u001b[93m********\u001b[0m      \u001b[91m.))))))\u001b[0m  \n",
      "          \u001b[94m##\u001b[0m      \u001b[94m.%%%%%%/\u001b[0m      \u001b[94m(%%%%%%,\u001b[0m                  \u001b[93m,******\u001b[0m      \u001b[91m/)))))\u001b[0m  \n",
      "        \u001b[94m%%%%%%\u001b[0m      \u001b[94m.%%%%%%#\u001b[0m      \u001b[94m*%%%%%%,\u001b[0m    \u001b[92m,/////.\u001b[0m       \u001b[93m******\u001b[0m      \u001b[91m))))))\u001b[0m \n",
      "      \u001b[94m#%\u001b[0m      \u001b[94m%%\u001b[0m      \u001b[94m.%%%%%%/\u001b[0m      \u001b[94m*%%%%%%,\u001b[0m  \u001b[92m////////,\u001b[0m      \u001b[93m*****/\u001b[0m     \u001b[91m,)))))\u001b[0m \n",
      "    \u001b[94m#%%\u001b[0m  \u001b[94m%%%\u001b[0m  \u001b[94m%%%#\u001b[0m      \u001b[94m.%%%%%%/\u001b[0m      \u001b[94m(%%%%%%,\u001b[0m  \u001b[92m///////.\u001b[0m     \u001b[93m/*****\u001b[0m      \u001b[91m))))).\u001b[0m\n",
      "  \u001b[94m#%%%%.\u001b[0m      \u001b[94m%%%%%#\u001b[0m      \u001b[94m/%%%%%%*\u001b[0m      \u001b[94m#%%%%%%\u001b[0m   \u001b[92m/////)\u001b[0m     \u001b[93m******\u001b[0m      \u001b[91m))))),\u001b[0m\n",
      "    \u001b[94m#%%%%##%\u001b[0m  \u001b[94m%%%#\u001b[0m      \u001b[94m.%%%%%%/\u001b[0m      \u001b[94m(%%%%%%,\u001b[0m  \u001b[92m///////.\u001b[0m     \u001b[93m/*****\u001b[0m      \u001b[91m))))).\u001b[0m\n",
      "      \u001b[94m##\u001b[0m     \u001b[94m%%%\u001b[0m      \u001b[94m.%%%%%%/\u001b[0m      \u001b[94m*%%%%%%,\u001b[0m  \u001b[92m////////.\u001b[0m      \u001b[93m*****/\u001b[0m     \u001b[91m,)))))\u001b[0m \n",
      "        \u001b[94m#%%%%#\u001b[0m      \u001b[94m/%%%%%%/\u001b[0m      \u001b[94m(%%%%%%\u001b[0m      \u001b[92m/)/)//\u001b[0m       \u001b[93m******\u001b[0m      \u001b[91m))))))\u001b[0m \n",
      "          \u001b[94m##\u001b[0m      \u001b[94m.%%%%%%/\u001b[0m      \u001b[94m(%%%%%%,\u001b[0m                  \u001b[93m*******\u001b[0m      \u001b[91m))))))\u001b[0m  \n",
      "                \u001b[94m.%%%%%%/\u001b[0m      \u001b[94m*%%%%%%,\u001b[0m  \u001b[93m**.\u001b[0m             \u001b[93m/*******\u001b[0m      \u001b[91m.))))))\u001b[0m  \n",
      "              \u001b[94m*%%%%%%/\u001b[0m      \u001b[94m(%%%%%%\u001b[0m   \u001b[93m********/*..,*/*********\u001b[0m       \u001b[91m*))))))\u001b[0m   \n",
      "                \u001b[94m#%%/\u001b[0m      \u001b[94m(%%%%%%,\u001b[0m    \u001b[93m*********************/\u001b[0m        \u001b[91m)))))))\u001b[0m    \n",
      "                        \u001b[94m*%%%%%%,\u001b[0m         \u001b[93m,**************/\u001b[0m         \u001b[91m,))))))/\u001b[0m     \n",
      "                      \u001b[94m(%%%%%%\u001b[0m   \u001b[91m()\u001b[0m                              \u001b[91m))))))))\u001b[0m       \n",
      "                      \u001b[94m#%%%%,\u001b[0m  \u001b[91m())))))\u001b[0m                        \u001b[91m,)))))))),\u001b[0m        \n",
      "                        \u001b[94m#,\u001b[0m    \u001b[91m())))))))))\u001b[0m                \u001b[91m,)))))))))).\u001b[0m          \n",
      "                                 \u001b[91m()))))))))))))))))))))))))))))))/\u001b[0m             \n",
      "                                    \u001b[91m())))))))))))))))))))))))).\u001b[0m                \n",
      "                                         \u001b[91m())))))))))))))),\u001b[0m                     \n",
      "\n",
      "-=# \u001b[1;94m geomeTRIC started. Version: 0.9.7.2 \u001b[0m #=-\n",
      "geometric-optimize called with the following command line:\n",
      "/home/sahre/opt/miniconda3/envs/qm-tools/lib/python3.9/site-packages/ipykernel_launcher.py -f /home/sahre/.local/share/jupyter/runtime/kernel-e88c688d-eb8e-4eca-a035-2f871d3bc74c.json\n",
      "9 internal coordinates being used (instead of 9 Cartesians)\n",
      "Internal coordinate system (atoms numbered from 1):\n",
      "Distance 1-2\n",
      "Distance 1-3\n",
      "Angle 2-1-3\n",
      "Translation-X 1-3\n",
      "Translation-Y 1-3\n",
      "Translation-Z 1-3\n",
      "Rotation-A 1-3\n",
      "Rotation-B 1-3\n",
      "Rotation-C 1-3\n",
      "<class 'geometric.internal.Distance'> : 2\n",
      "<class 'geometric.internal.Angle'> : 1\n",
      "<class 'geometric.internal.TranslationX'> : 1\n",
      "<class 'geometric.internal.TranslationY'> : 1\n",
      "<class 'geometric.internal.TranslationZ'> : 1\n",
      "<class 'geometric.internal.RotationA'> : 1\n",
      "<class 'geometric.internal.RotationB'> : 1\n",
      "<class 'geometric.internal.RotationC'> : 1\n"
     ]
    },
    {
     "name": "stdout",
     "output_type": "stream",
     "text": [
      "\n",
      "Geometry optimization cycle 1\n",
      "Cartesian coordinates (Angstrom)\n",
      " Atom        New coordinates             dX        dY        dZ\n",
      "   O  -0.208750   0.480506   0.000000    0.000000  0.000000  0.000000\n",
      "   F   1.018612  -0.206308   0.000000    0.000000  0.000000  0.000000\n",
      "   H  -0.809182  -0.280224   0.000000    0.000000  0.000000  0.000000\n",
      "converged SCF energy = -175.439418837766\n",
      "--------------- SCF_Scanner gradients ---------------\n",
      "         x                y                z\n",
      "0 O    -0.0000422527     0.0000052498    -0.0000000000\n",
      "1 F     0.0000321288     0.0000537870     0.0000000000\n",
      "2 H     0.0000128457     0.0000064737     0.0000000000\n",
      "----------------------------------------------\n",
      "cycle 1: E = -175.439418838  dE = -175.439  norm(grad) = 7.71043e-05\n"
     ]
    },
    {
     "name": "stderr",
     "output_type": "stream",
     "text": [
      "Step    0 : Gradient = 4.452e-05/6.265e-05 (rms/max) Energy = -175.4394188378\n",
      "Hessian Eigenvalues: 5.00000e-02 5.00000e-02 5.00000e-02 ... 1.60000e-01 4.45664e-01 5.35534e-01\n"
     ]
    },
    {
     "name": "stdout",
     "output_type": "stream",
     "text": [
      "\n",
      "Geometry optimization cycle 2\n",
      "Cartesian coordinates (Angstrom)\n",
      " Atom        New coordinates             dX        dY        dZ\n",
      "   O  -0.208194   0.480089   0.000000    0.000556 -0.000417  0.000000\n",
      "   F   1.018292  -0.208232  -0.000000   -0.000321 -0.001924 -0.000000\n",
      "   H  -0.809504  -0.279963   0.000000   -0.000322  0.000261  0.000000\n",
      "converged SCF energy = -175.439418994079\n",
      "--------------- SCF_Scanner gradients ---------------\n",
      "         x                y                z\n",
      "0 O    -0.0000173579     0.0000203439     0.0000000000\n",
      "1 F     0.0000056402     0.0000583253     0.0000000000\n",
      "2 H     0.0000165226    -0.0000129606    -0.0000000000\n",
      "----------------------------------------------\n",
      "cycle 2: E = -175.439418994  dE = -1.56313e-07  norm(grad) = 6.77481e-05\n"
     ]
    },
    {
     "name": "stderr",
     "output_type": "stream",
     "text": [
      "Step    1 : Displace = \u001b[92m4.016e-05\u001b[0m/\u001b[92m4.663e-05\u001b[0m (rms/max) Trust = 1.000e-01 (=) Grad = \u001b[92m3.911e-05\u001b[0m/\u001b[92m5.860e-05\u001b[0m (rms/max) E (change) = -175.4394189941 (\u001b[92m-1.563e-07\u001b[0m) Quality = \u001b[0m1.166\u001b[0m\n",
      "Converged! =D\n",
      "\n",
      "    #==========================================================================#\n",
      "    #| If this code has benefited your research, please support us by citing: |#\n",
      "    #|                                                                        |#\n",
      "    #| Wang, L.-P.; Song, C.C. (2016) \"Geometry optimization made simple with |#\n",
      "    #| translation and rotation coordinates\", J. Chem, Phys. 144, 214108.     |#\n",
      "    #| http://dx.doi.org/10.1063/1.4952956                                    |#\n",
      "    #==========================================================================#\n",
      "    \n",
      "Time elapsed since start of run_optimizer: 2.277 seconds\n"
     ]
    },
    {
     "name": "stdout",
     "output_type": "stream",
     "text": [
      "converged SCF energy = -175.439418994057\n",
      "-175.43941899405732\n"
     ]
    },
    {
     "name": "stderr",
     "output_type": "stream",
     "text": [
      "\n",
      "                                        \u001b[91m())))))))))))))))/\u001b[0m                     \n",
      "                                    \u001b[91m())))))))))))))))))))))))),\u001b[0m                \n",
      "                                \u001b[91m*)))))))))))))))))))))))))))))))))\u001b[0m             \n",
      "                        \u001b[94m#,\u001b[0m    \u001b[91m()))))))))/\u001b[0m                \u001b[91m.)))))))))),\u001b[0m          \n",
      "                      \u001b[94m#%%%%,\u001b[0m  \u001b[91m())))))\u001b[0m                        \u001b[91m.))))))))*\u001b[0m        \n",
      "                      \u001b[94m*%%%%%%,\u001b[0m  \u001b[91m))\u001b[0m              \u001b[93m..\u001b[0m              \u001b[91m,))))))).\u001b[0m      \n",
      "                        \u001b[94m*%%%%%%,\u001b[0m         \u001b[93m***************/.\u001b[0m        \u001b[91m.)))))))\u001b[0m     \n",
      "                \u001b[94m#%%/\u001b[0m      \u001b[94m(%%%%%%,\u001b[0m    \u001b[93m/*********************.\u001b[0m       \u001b[91m)))))))\u001b[0m    \n",
      "              \u001b[94m.%%%%%%#\u001b[0m      \u001b[94m*%%%%%%,\u001b[0m  \u001b[93m*******/,\u001b[0m     \u001b[93m**********,\u001b[0m      \u001b[91m.))))))\u001b[0m   \n",
      "                \u001b[94m.%%%%%%/\u001b[0m      \u001b[94m*%%%%%%,\u001b[0m  \u001b[93m**\u001b[0m              \u001b[93m********\u001b[0m      \u001b[91m.))))))\u001b[0m  \n",
      "          \u001b[94m##\u001b[0m      \u001b[94m.%%%%%%/\u001b[0m      \u001b[94m(%%%%%%,\u001b[0m                  \u001b[93m,******\u001b[0m      \u001b[91m/)))))\u001b[0m  \n",
      "        \u001b[94m%%%%%%\u001b[0m      \u001b[94m.%%%%%%#\u001b[0m      \u001b[94m*%%%%%%,\u001b[0m    \u001b[92m,/////.\u001b[0m       \u001b[93m******\u001b[0m      \u001b[91m))))))\u001b[0m \n",
      "      \u001b[94m#%\u001b[0m      \u001b[94m%%\u001b[0m      \u001b[94m.%%%%%%/\u001b[0m      \u001b[94m*%%%%%%,\u001b[0m  \u001b[92m////////,\u001b[0m      \u001b[93m*****/\u001b[0m     \u001b[91m,)))))\u001b[0m \n",
      "    \u001b[94m#%%\u001b[0m  \u001b[94m%%%\u001b[0m  \u001b[94m%%%#\u001b[0m      \u001b[94m.%%%%%%/\u001b[0m      \u001b[94m(%%%%%%,\u001b[0m  \u001b[92m///////.\u001b[0m     \u001b[93m/*****\u001b[0m      \u001b[91m))))).\u001b[0m\n",
      "  \u001b[94m#%%%%.\u001b[0m      \u001b[94m%%%%%#\u001b[0m      \u001b[94m/%%%%%%*\u001b[0m      \u001b[94m#%%%%%%\u001b[0m   \u001b[92m/////)\u001b[0m     \u001b[93m******\u001b[0m      \u001b[91m))))),\u001b[0m\n",
      "    \u001b[94m#%%%%##%\u001b[0m  \u001b[94m%%%#\u001b[0m      \u001b[94m.%%%%%%/\u001b[0m      \u001b[94m(%%%%%%,\u001b[0m  \u001b[92m///////.\u001b[0m     \u001b[93m/*****\u001b[0m      \u001b[91m))))).\u001b[0m\n",
      "      \u001b[94m##\u001b[0m     \u001b[94m%%%\u001b[0m      \u001b[94m.%%%%%%/\u001b[0m      \u001b[94m*%%%%%%,\u001b[0m  \u001b[92m////////.\u001b[0m      \u001b[93m*****/\u001b[0m     \u001b[91m,)))))\u001b[0m \n",
      "        \u001b[94m#%%%%#\u001b[0m      \u001b[94m/%%%%%%/\u001b[0m      \u001b[94m(%%%%%%\u001b[0m      \u001b[92m/)/)//\u001b[0m       \u001b[93m******\u001b[0m      \u001b[91m))))))\u001b[0m \n",
      "          \u001b[94m##\u001b[0m      \u001b[94m.%%%%%%/\u001b[0m      \u001b[94m(%%%%%%,\u001b[0m                  \u001b[93m*******\u001b[0m      \u001b[91m))))))\u001b[0m  \n",
      "                \u001b[94m.%%%%%%/\u001b[0m      \u001b[94m*%%%%%%,\u001b[0m  \u001b[93m**.\u001b[0m             \u001b[93m/*******\u001b[0m      \u001b[91m.))))))\u001b[0m  \n",
      "              \u001b[94m*%%%%%%/\u001b[0m      \u001b[94m(%%%%%%\u001b[0m   \u001b[93m********/*..,*/*********\u001b[0m       \u001b[91m*))))))\u001b[0m   \n",
      "                \u001b[94m#%%/\u001b[0m      \u001b[94m(%%%%%%,\u001b[0m    \u001b[93m*********************/\u001b[0m        \u001b[91m)))))))\u001b[0m    \n",
      "                        \u001b[94m*%%%%%%,\u001b[0m         \u001b[93m,**************/\u001b[0m         \u001b[91m,))))))/\u001b[0m     \n",
      "                      \u001b[94m(%%%%%%\u001b[0m   \u001b[91m()\u001b[0m                              \u001b[91m))))))))\u001b[0m       \n",
      "                      \u001b[94m#%%%%,\u001b[0m  \u001b[91m())))))\u001b[0m                        \u001b[91m,)))))))),\u001b[0m        \n",
      "                        \u001b[94m#,\u001b[0m    \u001b[91m())))))))))\u001b[0m                \u001b[91m,)))))))))).\u001b[0m          \n",
      "                                 \u001b[91m()))))))))))))))))))))))))))))))/\u001b[0m             \n",
      "                                    \u001b[91m())))))))))))))))))))))))).\u001b[0m                \n",
      "                                         \u001b[91m())))))))))))))),\u001b[0m                     \n",
      "\n",
      "-=# \u001b[1;94m geomeTRIC started. Version: 0.9.7.2 \u001b[0m #=-\n",
      "geometric-optimize called with the following command line:\n",
      "/home/sahre/opt/miniconda3/envs/qm-tools/lib/python3.9/site-packages/ipykernel_launcher.py -f /home/sahre/.local/share/jupyter/runtime/kernel-e88c688d-eb8e-4eca-a035-2f871d3bc74c.json\n",
      "6 internal coordinates being used (instead of 6 Cartesians)\n",
      "Internal coordinate system (atoms numbered from 1):\n",
      "Cartesian-X 1\n",
      "Cartesian-X 2\n",
      "Cartesian-Y 1\n",
      "Cartesian-Y 2\n",
      "Cartesian-Z 1\n",
      "Cartesian-Z 2\n",
      "<class 'geometric.internal.CartesianX'> : 2\n",
      "<class 'geometric.internal.CartesianY'> : 2\n",
      "<class 'geometric.internal.CartesianZ'> : 2\n"
     ]
    },
    {
     "name": "stdout",
     "output_type": "stream",
     "text": [
      "\n",
      "Geometry optimization cycle 1\n",
      "Cartesian coordinates (Angstrom)\n",
      " Atom        New coordinates             dX        dY        dZ\n",
      "   F   0.687825   0.000000   0.000000    0.000000  0.000000  0.000000\n",
      "   F  -0.687825   0.000000   0.000000    0.000000  0.000000  0.000000\n",
      "converged SCF energy = -199.408534947505\n",
      "--------------- SCF_Scanner gradients ---------------\n",
      "         x                y                z\n",
      "0 F    -0.0000002085     0.0000000000    -0.0000000000\n",
      "1 F     0.0000002085    -0.0000000000     0.0000000000\n",
      "----------------------------------------------\n",
      "cycle 1: E = -199.408534948  dE = -199.409  norm(grad) = 2.9489e-07\n"
     ]
    },
    {
     "name": "stderr",
     "output_type": "stream",
     "text": [
      "Step    0 : Gradient = 2.085e-07/2.085e-07 (rms/max) Energy = -199.4085349475\n",
      "Hessian Eigenvalues: 5.00000e-02 5.00000e-02 5.00000e-02 ... 5.00000e-02 5.00000e-02 5.00000e-02\n"
     ]
    },
    {
     "name": "stdout",
     "output_type": "stream",
     "text": [
      "\n",
      "Geometry optimization cycle 2\n",
      "Cartesian coordinates (Angstrom)\n",
      " Atom        New coordinates             dX        dY        dZ\n",
      "   F   0.687827  -0.000000   0.000000    0.000002 -0.000000  0.000000\n",
      "   F  -0.687827   0.000000  -0.000000   -0.000002  0.000000 -0.000000\n",
      "converged SCF energy = -199.408534947409\n",
      "--------------- SCF_Scanner gradients ---------------\n",
      "         x                y                z\n",
      "0 F     0.0000031457    -0.0000000000     0.0000000000\n",
      "1 F    -0.0000031457     0.0000000000    -0.0000000000\n",
      "----------------------------------------------\n",
      "cycle 2: E = -199.408534947  dE = 9.68043e-11  norm(grad) = 4.44868e-06\n"
     ]
    },
    {
     "name": "stderr",
     "output_type": "stream",
     "text": [
      "Step    1 : Displace = \u001b[92m2.207e-06\u001b[0m/\u001b[92m2.207e-06\u001b[0m (rms/max) Trust = 1.000e-01 (=) Grad = \u001b[92m3.146e-06\u001b[0m/\u001b[92m3.146e-06\u001b[0m (rms/max) E (change) = -199.4085349474 (\u001b[91m+9.680e-11\u001b[0m) Quality = \u001b[91m-111.321\u001b[0m\n",
      "Converged! =D\n",
      "\n",
      "    #==========================================================================#\n",
      "    #| If this code has benefited your research, please support us by citing: |#\n",
      "    #|                                                                        |#\n",
      "    #| Wang, L.-P.; Song, C.C. (2016) \"Geometry optimization made simple with |#\n",
      "    #| translation and rotation coordinates\", J. Chem, Phys. 144, 214108.     |#\n",
      "    #| http://dx.doi.org/10.1063/1.4952956                                    |#\n",
      "    #==========================================================================#\n",
      "    \n",
      "Time elapsed since start of run_optimizer: 1.558 seconds\n"
     ]
    },
    {
     "name": "stdout",
     "output_type": "stream",
     "text": [
      "converged SCF energy = -199.408534947409\n",
      "-199.40853494740895\n"
     ]
    }
   ],
   "source": [
    "# code to get electronic energy of the diatomics\n",
    "\n",
    "import os\n",
    "import ase.io as aio\n",
    "from ase.units import Bohr\n",
    "import sys\n",
    "sys.path.insert(0, '/home/sahre/git_repositories/APDFT/prototyping/atomic_energies/')\n",
    "import utils_qm as uqm\n",
    "\n",
    "from pyscf import gto, dft, scf\n",
    "\n",
    "# geometric\n",
    "from pyscf.geomopt.geometric_solver import optimize\n",
    "\n",
    "# \n",
    "\n",
    "\n",
    "\n",
    "spin = 0\n",
    "if spin == 0:\n",
    "    path = '/data/sahre/projects/atomic-energies/data/bonding_trends/pbe0_data/row_2/diatomics_single'\n",
    "    comps = ['CC','CN','CO','CF','NN','NO','NF','OO', 'OF', 'FF']\n",
    "\n",
    "elif spin == 1:\n",
    "    path = '/data/sahre/projects/atomic-energies/data/bonding_trends/pbe0_data/row_2/fragments_single/'\n",
    "    comps = ['CC', 'NN', 'OO', 'FF']\n",
    "\n",
    "e_dia_ele = []\n",
    "for c in comps:\n",
    "\n",
    "\n",
    "    atoms = aio.read(os.path.join(path, f'{c}_opt.xyz'))\n",
    "\n",
    "    pyscf_atoms = uqm.ase2pyscf(atoms)\n",
    "    basis = 'def2-tzvp'\n",
    "    mol = gto.Mole()\n",
    "    mol.atom = pyscf_atoms\n",
    "    mol.spin = spin\n",
    "    mol.basis = basis\n",
    "    mol.build()\n",
    "\n",
    "    if spin != 0:\n",
    "        mf = dft.ROKS(mol)\n",
    "    else:\n",
    "        mf = dft.RKS(mol)\n",
    "    mf.xc = 'pbe0'\n",
    "\n",
    "\n",
    "\n",
    "    mol_eq = optimize(mf, maxsteps=100)\n",
    "\n",
    "    new_pos = mol_eq.atom_coords()*Bohr\n",
    "    atoms.set_positions(new_pos)\n",
    "\n",
    "    pyscf_atoms = uqm.ase2pyscf(atoms)\n",
    "    basis = 'def2-tzvp'\n",
    "    mol = gto.Mole()\n",
    "    mol.atom = pyscf_atoms\n",
    "    mol.basis = basis\n",
    "    mol.spin = spin\n",
    "    mol.build()\n",
    "\n",
    "    if spin != 0:\n",
    "        mf = dft.ROKS(mol)\n",
    "    else:\n",
    "        mf = dft.RKS(mol)\n",
    "    mf.xc = 'pbe0'\n",
    "    mf.kernel()\n",
    "    \n",
    "    print(mf.e_tot)\n",
    "    e_dia_ele.append(mf.e_tot-mol.energy_nuc())\n",
    "# np.savetxt('/data/sahre/projects/atomic-energies/data/bonding_trends/diatomics/electronic_energies/e_dia_ele.txt',e_dia_ele)"
   ]
  },
  {
   "cell_type": "code",
   "execution_count": null,
   "id": "fd190174-a862-4011-b6e6-8fd35ee47aa0",
   "metadata": {},
   "outputs": [],
   "source": []
  },
  {
   "cell_type": "code",
   "execution_count": null,
   "id": "16e94633-cfbd-44fc-8cf0-1cc8a6574cb9",
   "metadata": {},
   "outputs": [],
   "source": [
    "# hydrogen contributions"
   ]
  },
  {
   "cell_type": "code",
   "execution_count": 39,
   "id": "4febb334-dce4-4e49-8a6e-f734bc3ccfd5",
   "metadata": {},
   "outputs": [],
   "source": [
    "import sys\n",
    "sys.path.insert(0, '/home/sahre/git_repositories/APDFT/prototyping/atomic_energies')\n",
    "import utils_qm as uqm\n",
    "\n",
    "import numpy as np\n",
    "from matplotlib import pyplot as plt"
   ]
  },
  {
   "cell_type": "code",
   "execution_count": 40,
   "id": "217074d7-6cd9-4d68-b8f7-a11fe9253dd0",
   "metadata": {},
   "outputs": [],
   "source": [
    "def read_energies(path):\n",
    "    with open(path, 'r') as f:\n",
    "        energies = []\n",
    "        # header\n",
    "        f.readline()\n",
    "        for line in f:\n",
    "            energies.append(float(line.split()[-1]))\n",
    "    return(energies)\n",
    "\n",
    "# fragment\n",
    "def H_frag(path):\n",
    "    energies = read_energies(path)\n",
    "\n",
    "    return(energies[1:])\n",
    "\n",
    "def H_diatomic(path, smiles, heavy):\n",
    "    energies = read_energies(path)\n",
    "    num_h = uqm.hcount_smiles(smiles)\n",
    "    if heavy == 'A':\n",
    "        return(energies[2:2+num_h[0]])\n",
    "    elif heavy == 'B':\n",
    "        return(energies[2+num_h[0]:])\n",
    "    "
   ]
  },
  {
   "cell_type": "code",
   "execution_count": 41,
   "id": "8eca44cf-efe0-4e6c-b069-06f5510dfc3a",
   "metadata": {},
   "outputs": [],
   "source": [
    "e_H2 = (-1.029154884995695962e+00+-1.029154960269883290e+00)/2"
   ]
  },
  {
   "cell_type": "code",
   "execution_count": 42,
   "id": "57c831c5-85cf-4624-acaf-f91c8737ece6",
   "metadata": {},
   "outputs": [],
   "source": [
    "path_frag = '/data/sahre/projects/atomic-energies/data/bonding_trends/alchemy/sat_frags/C/atomic_energies_sat_frag.txt'\n",
    "C_frag = np.array(H_frag(path_frag)).sum()\n",
    "frag_dict = dict()\n",
    "for s in ['C', 'N', 'O', 'F']:\n",
    "    path_frag = f'/data/sahre/projects/atomic-energies/data/bonding_trends/alchemy/sat_frags/{s}/atomic_energies_sat_frag.txt'\n",
    "    frag_dict[s] = np.array(H_frag(path_frag)).sum()"
   ]
  },
  {
   "cell_type": "code",
   "execution_count": 43,
   "id": "943f2715-a170-4fef-92c0-d0c9d5e98ce4",
   "metadata": {},
   "outputs": [
    {
     "data": {
      "text/plain": [
       "['C', 'N']"
      ]
     },
     "execution_count": 43,
     "metadata": {},
     "output_type": "execute_result"
    }
   ],
   "source": [
    "uqm.fragmentize_smiles('CN')"
   ]
  },
  {
   "cell_type": "code",
   "execution_count": 44,
   "id": "8609eab9-250f-43f9-9968-fc2adf9ba508",
   "metadata": {},
   "outputs": [],
   "source": [
    "smiles = ['CC', 'CN', 'CO', 'CF', 'NN', 'NO', 'NF', 'OO', 'OF', 'FF']\n",
    "\n",
    "bH = dict()\n",
    "bH_el = {'C':[], 'N':[], 'O':[], 'F':[]}\n",
    "\n",
    "for s in smiles:\n",
    "    path_dia = f'/data/sahre/projects/atomic-energies/data/bonding_trends/alchemy/diatomics/{s}/atomic_energies.txt'\n",
    "    EA = np.array(H_diatomic(path_dia, s, 'A')).sum()\n",
    "    EB = np.array(H_diatomic(path_dia, s, 'B')).sum()\n",
    "    \n",
    "    fnA, fnB = uqm.fragmentize_smiles(s)\n",
    "    \n",
    "    bEA = EA + e_H2 - frag_dict[fnA]\n",
    "    bEB = EB + e_H2 - frag_dict[fnB]\n",
    "    bH[s] = [bEA, bEB]\n",
    "    \n",
    "    if fnA == fnB:\n",
    "        bH_el[fnA].append(bEA)\n",
    "    else:\n",
    "        bH_el[fnA].append(bEA)\n",
    "        bH_el[fnB].append(bEB)\n",
    "\n",
    "#     CHbB.append(().sum()+e_H2-C_frag))"
   ]
  },
  {
   "cell_type": "code",
   "execution_count": 45,
   "id": "ab6db10d-fb45-400c-b2d7-777bb65924a4",
   "metadata": {},
   "outputs": [],
   "source": [
    "frag_dict_heavy = dict()\n",
    "for s in ['C', 'N', 'O', 'F']:\n",
    "    path_frag = f'/data/sahre/projects/atomic-energies/data/bonding_trends/alchemy/sat_frags/{s}/atomic_energies_sat_frag.txt'\n",
    "    frag_dict_heavy[s] = read_energies(path_frag)[0]"
   ]
  },
  {
   "cell_type": "code",
   "execution_count": 46,
   "id": "6cb5948c-2718-4f59-a9ed-a9ddc2d29bd4",
   "metadata": {},
   "outputs": [],
   "source": [
    "smiles = ['CC', 'CN', 'CO', 'CF', 'NN', 'NO', 'NF', 'OO', 'OF', 'FF']\n",
    "\n",
    "bAB = dict()\n",
    "bAB_el = {'C':[], 'N':[], 'O':[], 'F':[]}\n",
    "\n",
    "for s in smiles:\n",
    "    path_dia = f'/data/sahre/projects/atomic-energies/data/bonding_trends/alchemy/diatomics/{s}/atomic_energies.txt'\n",
    "    EA = read_energies(path_dia)[0]\n",
    "    EB = read_energies(path_dia)[1]\n",
    "    \n",
    "    fnA, fnB = uqm.fragmentize_smiles(s)\n",
    "    \n",
    "    bEA = EA - frag_dict_heavy[fnA]\n",
    "    bEB = EB - frag_dict_heavy[fnB]\n",
    "    bAB[s] = [bEA, bEB]\n",
    "    \n",
    "    if fnA == fnB:\n",
    "        bAB_el[fnA].append(bEA)\n",
    "    else:\n",
    "        bAB_el[fnA].append(bEA)\n",
    "        bAB_el[fnB].append(bEB)"
   ]
  },
  {
   "cell_type": "code",
   "execution_count": 61,
   "id": "fa0c7af7-3efd-490e-a41d-6882fa13cf87",
   "metadata": {},
   "outputs": [],
   "source": [
    "# percentage = dict()\n",
    "# for k in bH.keys():\n",
    "#     percentage[k[0]] += bH[k][0]\n",
    "    "
   ]
  },
  {
   "cell_type": "code",
   "execution_count": 54,
   "id": "bc2d6c1a-02aa-464f-9812-066c77d9824d",
   "metadata": {},
   "outputs": [
    {
     "data": {
      "text/plain": [
       "{'CC': [-1.2679834154591187, -1.2676631079366327],\n",
       " 'CN': [-1.3581224649540697, -0.27626277568835444],\n",
       " 'CO': [-1.4798462164323727, 0.8120765274006052],\n",
       " 'CF': [-1.5141131386829425, 1.8543098039989487],\n",
       " 'NN': [-0.29297678299955443, -0.29970556103650203],\n",
       " 'NO': [-0.3657662259583656, 0.7959643714236275],\n",
       " 'NF': [-0.46169199202925615, 1.8543098039989487],\n",
       " 'OO': [0.7290127825953574, 0.7289803553791634],\n",
       " 'OF': [0.6983727480344459, 1.8543098039989487],\n",
       " 'FF': [1.8543098039989487, 1.8543098039989487]}"
      ]
     },
     "execution_count": 54,
     "metadata": {},
     "output_type": "execute_result"
    }
   ],
   "source": [
    "bH"
   ]
  },
  {
   "cell_type": "code",
   "execution_count": 55,
   "id": "c2790153-1933-460c-bc33-b1a3c71bbe5f",
   "metadata": {},
   "outputs": [
    {
     "data": {
      "text/plain": [
       "{'CC': [-4.326763687539184, -4.326712071703781],\n",
       " 'CN': [-4.594258873734599, -5.340208895567731],\n",
       " 'CO': [-4.8166024151985845, -6.299490810645267],\n",
       " 'CF': [-4.988687810322606, -7.2589384669378845],\n",
       " 'NN': [-5.671557424668009, -5.674806989466795],\n",
       " 'NO': [-5.916951443340125, -6.70403028174929],\n",
       " 'NF': [-6.17889724694496, -7.823486858291226],\n",
       " 'OO': [-7.094596236877869, -7.09473087012535],\n",
       " 'OF': [-7.256926987327951, -8.134868399613097],\n",
       " 'FF': [-8.372725265609901, -8.373234897735806]}"
      ]
     },
     "execution_count": 55,
     "metadata": {},
     "output_type": "execute_result"
    }
   ],
   "source": [
    "bAB"
   ]
  },
  {
   "cell_type": "code",
   "execution_count": 62,
   "id": "60fb15a6-006f-4e5a-a8d7-6a21f5538120",
   "metadata": {},
   "outputs": [],
   "source": [
    "binding_energies2 = []\n",
    "for k in bH.keys():\n",
    "    binding_energies2.append(bH[k][0]+bH[k][1]+bAB[k][0]+bAB[k][1])"
   ]
  },
  {
   "cell_type": "code",
   "execution_count": 63,
   "id": "32306101-6a57-41ab-b79d-5118899efef4",
   "metadata": {},
   "outputs": [
    {
     "data": {
      "text/plain": [
       "[-11.189122282638717,\n",
       " -11.568853009944753,\n",
       " -11.78386291487562,\n",
       " -11.907429611944483,\n",
       " -11.93904675817086,\n",
       " -12.190783579624153,\n",
       " -12.609766293266492,\n",
       " -12.731333969028698,\n",
       " -12.839112834907652,\n",
       " -13.037340555347809]"
      ]
     },
     "execution_count": 63,
     "metadata": {},
     "output_type": "execute_result"
    }
   ],
   "source": [
    "binding_energies2"
   ]
  },
  {
   "cell_type": "code",
   "execution_count": 53,
   "id": "d5e87e11-ee44-4497-837c-511e62b0bfe7",
   "metadata": {},
   "outputs": [
    {
     "data": {
      "image/png": "[encoded data removed]",
      "text/plain": [
       "<Figure size 432x288 with 1 Axes>"
      ]
     },
     "metadata": {
      "needs_background": "light"
     },
     "output_type": "display_data"
    }
   ],
   "source": [
    "plt.rcParams['font.size'] = 15\n",
    "for k, c in zip(bH_el.keys(),['gray', 'blue', 'red', 'green']):\n",
    "#     plt.plot([6,7,8,9], bH_el[k]-bH_el[k][0]+bAB_el[k][0], '-o', label = k)\n",
    "    \n",
    "#     el = 'C'\n",
    "    label_H = r'$E^{\\rm{el, b}}_{\\rm{'+ k + 'H}}$'\n",
    "    label_A = r'$E^{\\rm{el, b}}_{\\rm{'+ k + '}}$'\n",
    "    \n",
    "    plt.plot([6,7,8,9], bH_el[k], '--o', color = f'tab:{c}', label = label_H)\n",
    "    plt.plot([6,7,8,9], bAB_el[k], '-o', color = f'tab:{c}', label = label_A)\n",
    "plt.xlabel(r'$Z_{\\rm{B}}$')\n",
    "plt.ylabel(r'$E_{\\rm{A}}^{\\rm{el, b}}$ (Ha)')\n",
    "plt.legend(bbox_to_anchor = (1.05, 1))\n",
    "plt.savefig('/home/sahre/work/bonding_trends/figures/alch_bind_en.png', bbox_inches = 'tight')"
   ]
  },
  {
   "cell_type": "code",
   "execution_count": 33,
   "id": "6b3830ee-b299-4d41-a2f5-d64c0f2393c5",
   "metadata": {},
   "outputs": [],
   "source": []
  },
  {
   "cell_type": "code",
   "execution_count": null,
   "id": "ed32a22a-db45-46bd-8480-77f1e7994e0c",
   "metadata": {},
   "outputs": [],
   "source": []
  },
  {
   "cell_type": "code",
   "execution_count": 34,
   "id": "2a9024e2-6075-4cec-a382-5417ecdba3f8",
   "metadata": {},
   "outputs": [
    {
     "name": "stdout",
     "output_type": "stream",
     "text": [
      "$E^{\\rm{el, b}}_{\\rm{C}}$\n"
     ]
    }
   ],
   "source": [
    "print(s)"
   ]
  },
  {
   "cell_type": "code",
   "execution_count": 58,
   "id": "fdcd2276-6bb1-4fdb-a945-a04eee7e1b03",
   "metadata": {},
   "outputs": [
    {
     "data": {
      "text/plain": [
       "{'CC': [-1.2679834154591187, -1.2676631079366327],\n",
       " 'CN': [-1.3581224649540697, -0.27626277568835444],\n",
       " 'CO': [-1.4798462164323727, 0.8120765274006052],\n",
       " 'CF': [-1.5141131386829425, 1.8543098039989487],\n",
       " 'NN': [-0.29297678299955443, -0.29970556103650203],\n",
       " 'NO': [-0.3657662259583656, 0.7959643714236275],\n",
       " 'NF': [-0.46169199202925615, 1.8543098039989487],\n",
       " 'OO': [0.7290127825953574, 0.7289803553791634],\n",
       " 'OF': [0.6983727480344459, 1.8543098039989487],\n",
       " 'FF': [1.8543098039989487, 1.8543098039989487]}"
      ]
     },
     "execution_count": 58,
     "metadata": {},
     "output_type": "execute_result"
    }
   ],
   "source": [
    "bH"
   ]
  },
  {
   "cell_type": "code",
   "execution_count": 59,
   "id": "03a7c849-f16c-4718-ba5e-7fa7cda6ba29",
   "metadata": {},
   "outputs": [
    {
     "data": {
      "text/plain": [
       "0.2930558512152706"
      ]
     },
     "execution_count": 59,
     "metadata": {},
     "output_type": "execute_result"
    }
   ],
   "source": [
    "1.2679834154591187/4.326763687539184"
   ]
  },
  {
   "cell_type": "code",
   "execution_count": 54,
   "id": "59446654-2e15-4982-8259-8e52b095faef",
   "metadata": {},
   "outputs": [
    {
     "data": {
      "text/plain": [
       "0.2674951861954149"
      ]
     },
     "execution_count": 54,
     "metadata": {},
     "output_type": "execute_result"
    }
   ],
   "source": [
    "-4.326763687539184--4.594258873734599"
   ]
  },
  {
   "cell_type": "code",
   "execution_count": 56,
   "id": "029e7b8c-be70-412e-aa5e-e843ba34007d",
   "metadata": {},
   "outputs": [
    {
     "data": {
      "text/plain": [
       "0.090139049494951"
      ]
     },
     "execution_count": 56,
     "metadata": {},
     "output_type": "execute_result"
    }
   ],
   "source": [
    "-1.2679834154591187--1.3581224649540697"
   ]
  },
  {
   "cell_type": "code",
   "execution_count": 57,
   "id": "6fffb4f8-1ecd-4064-beaf-8587f50f71bb",
   "metadata": {},
   "outputs": [
    {
     "data": {
      "text/plain": [
       "0.33697447336155484"
      ]
     },
     "execution_count": 57,
     "metadata": {},
     "output_type": "execute_result"
    }
   ],
   "source": [
    "0.090139049494951/0.2674951861954149"
   ]
  },
  {
   "cell_type": "code",
   "execution_count": 55,
   "id": "35c48100-12fd-4566-8743-209b2fdd4ba8",
   "metadata": {},
   "outputs": [
    {
     "data": {
      "text/plain": [
       "{'C': [-1.2679834154591187,\n",
       "  -1.3581224649540697,\n",
       "  -1.4798462164323727,\n",
       "  -1.5141131386829425],\n",
       " 'N': [-0.27626277568835444,\n",
       "  -0.29297678299955443,\n",
       "  -0.3657662259583656,\n",
       "  -0.46169199202925615],\n",
       " 'O': [0.8120765274006052,\n",
       "  0.7959643714236275,\n",
       "  0.7290127825953574,\n",
       "  0.6983727480344459],\n",
       " 'F': [1.8543098039989487,\n",
       "  1.8543098039989487,\n",
       "  1.8543098039989487,\n",
       "  1.8543098039989487]}"
      ]
     },
     "execution_count": 55,
     "metadata": {},
     "output_type": "execute_result"
    }
   ],
   "source": [
    "bH_el"
   ]
  }
 ],
 "metadata": {
  "kernelspec": {
   "display_name": "Python 3",
   "language": "python",
   "name": "python3"
  },
  "language_info": {
   "codemirror_mode": {
    "name": "ipython",
    "version": 3
   },
   "file_extension": ".py",
   "mimetype": "text/x-python",
   "name": "python",
   "nbconvert_exporter": "python",
   "pygments_lexer": "ipython3",
   "version": "3.9.5"
  }
 },
 "nbformat": 4,
 "nbformat_minor": 5
}
