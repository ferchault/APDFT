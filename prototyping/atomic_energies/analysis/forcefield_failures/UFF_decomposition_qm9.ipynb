{
 "cells": [
  {
   "cell_type": "code",
   "execution_count": null,
   "id": "f3209579-0319-4f41-82f8-46db17cf8d47",
   "metadata": {},
   "outputs": [],
   "source": [
    "# create xyz-files for qm9\n",
    "\n",
    "# calculate energy force field decomposition\n",
    "\n",
    "# look at atomic energy distribution"
   ]
  },
  {
   "cell_type": "code",
   "execution_count": null,
   "id": "16a8045b-bdfc-419b-9b6b-15094d5b62f6",
   "metadata": {},
   "outputs": [],
   "source": [
    "import glob"
   ]
  },
  {
   "cell_type": "code",
   "execution_count": null,
   "id": "caf844c8-b87e-413f-b626-393edfe51514",
   "metadata": {},
   "outputs": [],
   "source": [
    "# create xyz-files for qm9\n",
    "def qm9xyz2xyz(file, new_file):\n",
    "    with open(file, 'r') as f:\n",
    "        data = f.readlines()\n",
    "        \n",
    "        natoms = data[0]\n",
    "        xyz_file = [natoms, '\\n']\n",
    "        ln = 0\n",
    "        while not data[2+ln][0].isdigit() and not data[2+ln][0] == '-':\n",
    "            xyz_file.append(' '.join(data[2+ln].strip('\\n').split()[:-1]) + '\\n')\n",
    "            ln += 1\n",
    "        with open(new_file, 'w') as f:\n",
    "            f.writelines(xyz_file)\n",
    "#         return(xyz_file)"
   ]
  },
  {
   "cell_type": "code",
   "execution_count": null,
   "id": "59ac8b13-7d31-4de1-b85e-26cf305e152b",
   "metadata": {},
   "outputs": [],
   "source": [
    "files = glob.glob('/data/sahre/datasets/qm9/dsgdb9nsd_*.xyz')\n",
    "files.sort()\n",
    "for f in files:\n",
    "    path_splitted = f.split('/')\n",
    "    path_splitted[-2] = 'qm9_xyz'\n",
    "    new_file = '/'.join(path_splitted)\n",
    "\n",
    "    qm9xyz2xyz(f, new_file)"
   ]
  },
  {
   "cell_type": "markdown",
   "id": "7e065752-9f2b-41e9-9b18-a13ae5da3a41",
   "metadata": {},
   "source": [
    "# calculate energy force field decomposition\n"
   ]
  },
  {
   "cell_type": "code",
   "execution_count": null,
   "id": "0301e16b-9f1d-4ecb-9352-11f6e8eaecc4",
   "metadata": {},
   "outputs": [],
   "source": [
    "# get file dirs\n",
    "files = glob.glob('/data/sahre/datasets/qm9_xyz/dsgdb9nsd_*.xyz')\n",
    "files.sort()\n",
    "for i, f in enumerate(files):\n",
    "    comp = f.split('/')[-1]\n",
    "    files[i] = comp\n",
    "    \n",
    "with open('/data/sahre/datasets/qm9_xyz/xyz_files', 'w') as f:\n",
    "    for l in files:\n",
    "        f.writelines(l+'\\n')"
   ]
  },
  {
   "cell_type": "markdown",
   "id": "075edea9-2bc8-4788-ae6c-7efb77b371bc",
   "metadata": {},
   "source": [
    "# look at atomic energy distribution"
   ]
  },
  {
   "cell_type": "code",
   "execution_count": 1,
   "id": "c62f68e5-df01-4132-a600-12f73e420cec",
   "metadata": {},
   "outputs": [],
   "source": [
    "import sys\n",
    "sys.path.insert(0, '/home/sahre/git_repositories/APDFT/prototyping/atomic_energies/')\n",
    "import UFF_decomposition as UFFd\n",
    "\n",
    "import glob"
   ]
  },
  {
   "cell_type": "code",
   "execution_count": 3,
   "id": "f3b90276-b957-42c0-81e5-10585d11b5c7",
   "metadata": {},
   "outputs": [],
   "source": [
    "energy_files = glob.glob('/data/sahre/datasets/qm9_UFF_decomposition/out_dsgdb9nsd_*.xyz')"
   ]
  },
  {
   "cell_type": "code",
   "execution_count": 4,
   "id": "9ddb6a03-40b7-4752-b430-cb60c999e86f",
   "metadata": {},
   "outputs": [
    {
     "ename": "ValueError",
     "evalue": "operands could not be broadcast together with shapes (22,) (21,) ",
     "output_type": "error",
     "traceback": [
      "\u001b[0;31m---------------------------------------------------------------------------\u001b[0m",
      "\u001b[0;31mValueError\u001b[0m                                Traceback (most recent call last)",
      "\u001b[0;32m<ipython-input-4-4a1d7ff8f7d7>\u001b[0m in \u001b[0;36m<module>\u001b[0;34m\u001b[0m\n\u001b[1;32m      1\u001b[0m \u001b[0menergies\u001b[0m \u001b[0;34m=\u001b[0m \u001b[0;34m[\u001b[0m\u001b[0;34m]\u001b[0m\u001b[0;34m\u001b[0m\u001b[0;34m\u001b[0m\u001b[0m\n\u001b[1;32m      2\u001b[0m \u001b[0;32mfor\u001b[0m \u001b[0mf\u001b[0m \u001b[0;32min\u001b[0m \u001b[0menergy_files\u001b[0m\u001b[0;34m[\u001b[0m\u001b[0;34m:\u001b[0m\u001b[0;34m-\u001b[0m\u001b[0;36m1\u001b[0m\u001b[0;34m]\u001b[0m\u001b[0;34m:\u001b[0m\u001b[0;34m\u001b[0m\u001b[0;34m\u001b[0m\u001b[0m\n\u001b[0;32m----> 3\u001b[0;31m     \u001b[0menergies\u001b[0m\u001b[0;34m.\u001b[0m\u001b[0mappend\u001b[0m\u001b[0;34m(\u001b[0m\u001b[0mUFFd\u001b[0m\u001b[0;34m.\u001b[0m\u001b[0mget_UFF_decomposition\u001b[0m\u001b[0;34m(\u001b[0m\u001b[0mf\u001b[0m\u001b[0;34m)\u001b[0m\u001b[0;34m)\u001b[0m\u001b[0;34m\u001b[0m\u001b[0;34m\u001b[0m\u001b[0m\n\u001b[0m",
      "\u001b[0;32m~/git_repositories/APDFT/prototyping/atomic_energies/UFF_decomposition.py\u001b[0m in \u001b[0;36mget_UFF_decomposition\u001b[0;34m(ob_output)\u001b[0m\n\u001b[1;32m     14\u001b[0m     \u001b[0me_torsional\u001b[0m \u001b[0;34m=\u001b[0m \u001b[0mparse_e_torsional\u001b[0m\u001b[0;34m(\u001b[0m\u001b[0mfile\u001b[0m\u001b[0;34m)\u001b[0m\u001b[0;34m\u001b[0m\u001b[0;34m\u001b[0m\u001b[0m\n\u001b[1;32m     15\u001b[0m     \u001b[0me_vdw\u001b[0m \u001b[0;34m=\u001b[0m \u001b[0mparse_e_vdw\u001b[0m\u001b[0;34m(\u001b[0m\u001b[0mfile\u001b[0m\u001b[0;34m)\u001b[0m\u001b[0;34m\u001b[0m\u001b[0;34m\u001b[0m\u001b[0m\n\u001b[0;32m---> 16\u001b[0;31m     \u001b[0mUFF_decomposition\u001b[0m \u001b[0;34m=\u001b[0m \u001b[0mset_up_UFF_dict\u001b[0m\u001b[0;34m(\u001b[0m\u001b[0melements\u001b[0m\u001b[0;34m,\u001b[0m \u001b[0mpositions\u001b[0m\u001b[0;34m,\u001b[0m \u001b[0me_bond\u001b[0m\u001b[0;34m,\u001b[0m \u001b[0me_angle\u001b[0m\u001b[0;34m,\u001b[0m \u001b[0me_torsional\u001b[0m\u001b[0;34m,\u001b[0m \u001b[0me_vdw\u001b[0m\u001b[0;34m)\u001b[0m\u001b[0;34m\u001b[0m\u001b[0;34m\u001b[0m\u001b[0m\n\u001b[0m\u001b[1;32m     17\u001b[0m     \u001b[0;32mreturn\u001b[0m\u001b[0;34m(\u001b[0m\u001b[0mUFF_decomposition\u001b[0m\u001b[0;34m)\u001b[0m\u001b[0;34m\u001b[0m\u001b[0;34m\u001b[0m\u001b[0m\n\u001b[1;32m     18\u001b[0m \u001b[0;34m\u001b[0m\u001b[0m\n",
      "\u001b[0;32m~/git_repositories/APDFT/prototyping/atomic_energies/UFF_decomposition.py\u001b[0m in \u001b[0;36mset_up_UFF_dict\u001b[0;34m(elements, positions, e_bond, e_angle, e_torsion, e_vdw)\u001b[0m\n\u001b[1;32m     32\u001b[0m         \u001b[0me_vdw_array\u001b[0m \u001b[0;34m=\u001b[0m \u001b[0mnp\u001b[0m\u001b[0;34m.\u001b[0m\u001b[0marray\u001b[0m\u001b[0;34m(\u001b[0m\u001b[0mlist\u001b[0m\u001b[0;34m(\u001b[0m\u001b[0me_vdw\u001b[0m\u001b[0;34m.\u001b[0m\u001b[0mvalues\u001b[0m\u001b[0;34m(\u001b[0m\u001b[0;34m)\u001b[0m\u001b[0;34m)\u001b[0m\u001b[0;34m)\u001b[0m\u001b[0;34m\u001b[0m\u001b[0;34m\u001b[0m\u001b[0m\n\u001b[1;32m     33\u001b[0m \u001b[0;34m\u001b[0m\u001b[0m\n\u001b[0;32m---> 34\u001b[0;31m     \u001b[0me_atomic_array\u001b[0m \u001b[0;34m=\u001b[0m \u001b[0me_bond_array\u001b[0m\u001b[0;34m+\u001b[0m\u001b[0me_angle_array\u001b[0m\u001b[0;34m+\u001b[0m\u001b[0me_torsion_array\u001b[0m\u001b[0;34m+\u001b[0m\u001b[0me_vdw_array\u001b[0m\u001b[0;34m\u001b[0m\u001b[0;34m\u001b[0m\u001b[0m\n\u001b[0m\u001b[1;32m     35\u001b[0m \u001b[0;34m\u001b[0m\u001b[0m\n\u001b[1;32m     36\u001b[0m     \u001b[0matomic_energies_UFF\u001b[0m \u001b[0;34m=\u001b[0m \u001b[0;34m{\u001b[0m\u001b[0;34m'atom_id_babel'\u001b[0m\u001b[0;34m:\u001b[0m\u001b[0matom_id\u001b[0m\u001b[0;34m,\u001b[0m \u001b[0;34m'element'\u001b[0m\u001b[0;34m:\u001b[0m\u001b[0melements\u001b[0m\u001b[0;34m,\u001b[0m \u001b[0;34m'position'\u001b[0m\u001b[0;34m:\u001b[0m\u001b[0mpositions_array\u001b[0m\u001b[0;34m,\u001b[0m \u001b[0;34m'e_bond'\u001b[0m\u001b[0;34m:\u001b[0m\u001b[0me_bond_array\u001b[0m\u001b[0;34m,\u001b[0m \u001b[0;34m'e_angle'\u001b[0m\u001b[0;34m:\u001b[0m\u001b[0me_angle_array\u001b[0m\u001b[0;34m,\u001b[0m \u001b[0;34m'e_torsion'\u001b[0m\u001b[0;34m:\u001b[0m\u001b[0me_torsion_array\u001b[0m\u001b[0;34m,\u001b[0m \u001b[0;34m'e_vdw'\u001b[0m\u001b[0;34m:\u001b[0m\u001b[0me_vdw_array\u001b[0m\u001b[0;34m,\u001b[0m \u001b[0;34m'e_atomic'\u001b[0m\u001b[0;34m:\u001b[0m\u001b[0me_atomic_array\u001b[0m\u001b[0;34m}\u001b[0m\u001b[0;34m\u001b[0m\u001b[0;34m\u001b[0m\u001b[0m\n",
      "\u001b[0;31mValueError\u001b[0m: operands could not be broadcast together with shapes (22,) (21,) "
     ]
    }
   ],
   "source": [
    "energies = []\n",
    "for f in energy_files[:-1]:\n",
    "    energies.append(UFFd.get_UFF_decomposition(f))\n"
   ]
  },
  {
   "cell_type": "code",
   "execution_count": 5,
   "id": "7a6921d1-5c10-4d25-8f88-e78d88988b1c",
   "metadata": {},
   "outputs": [
    {
     "data": {
      "text/plain": [
       "'/data/sahre/datasets/qm9_UFF_decomposition/out_dsgdb9nsd_061397.xyz'"
      ]
     },
     "execution_count": 5,
     "metadata": {},
     "output_type": "execute_result"
    }
   ],
   "source": [
    "f"
   ]
  },
  {
   "cell_type": "code",
   "execution_count": 6,
   "id": "0bddee82-6f51-4e44-b6de-682cd7f85716",
   "metadata": {},
   "outputs": [],
   "source": [
    "file = []\n",
    "with open('/data/sahre/datasets/qm9_UFF_decomposition/out_dsgdb9nsd_061397.xyz') as f:\n",
    "    file = f.readlines()\n",
    "    "
   ]
  },
  {
   "cell_type": "code",
   "execution_count": 10,
   "id": "6b83fd79-e8f9-4e7c-a7f6-05dfc0568a6c",
   "metadata": {},
   "outputs": [
    {
     "data": {
      "text/plain": [
       "22"
      ]
     },
     "execution_count": 10,
     "metadata": {},
     "output_type": "execute_result"
    }
   ],
   "source": [
    "len(UFFd.parse_e_angle(file))"
   ]
  },
  {
   "cell_type": "code",
   "execution_count": 11,
   "id": "6896d8b5-fc00-4128-b6f3-678d01280ad5",
   "metadata": {},
   "outputs": [
    {
     "data": {
      "text/plain": [
       "22"
      ]
     },
     "execution_count": 11,
     "metadata": {},
     "output_type": "execute_result"
    }
   ],
   "source": [
    "len(UFFd.parse_e_bond(file))"
   ]
  },
  {
   "cell_type": "code",
   "execution_count": 13,
   "id": "593b3ee9-de85-4640-a02f-b1ca85fad431",
   "metadata": {},
   "outputs": [
    {
     "data": {
      "text/plain": [
       "{1: 3.4505,\n",
       " 2: 11.335749999999999,\n",
       " 3: 14.508749999999997,\n",
       " 4: 8.62275,\n",
       " 5: 1.3072500000000002,\n",
       " 6: 1.1472500000000003,\n",
       " 7: 3.8102500000000004,\n",
       " 8: 3.974,\n",
       " 10: 0.020499999999999997,\n",
       " 11: 0.023,\n",
       " 12: 0.02675,\n",
       " 13: 3.401,\n",
       " 14: 3.95,\n",
       " 15: 4.20625,\n",
       " 16: 0.05575,\n",
       " 17: 0.065,\n",
       " 18: 0.0775,\n",
       " 19: 0.00675,\n",
       " 20: 0.0052499999999999995,\n",
       " 21: 0.006500000000000001,\n",
       " 22: 3.1972500000000004}"
      ]
     },
     "execution_count": 13,
     "metadata": {},
     "output_type": "execute_result"
    }
   ],
   "source": [
    "UFFd.parse_e_torsional(file)"
   ]
  },
  {
   "cell_type": "code",
   "execution_count": null,
   "id": "56c6cfc3-5a24-4ef6-8c4b-f1c560cbabca",
   "metadata": {},
   "outputs": [],
   "source": []
  }
 ],
 "metadata": {
  "kernelspec": {
   "display_name": "Python 3",
   "language": "python",
   "name": "python3"
  },
  "language_info": {
   "codemirror_mode": {
    "name": "ipython",
    "version": 3
   },
   "file_extension": ".py",
   "mimetype": "text/x-python",
   "name": "python",
   "nbconvert_exporter": "python",
   "pygments_lexer": "ipython3",
   "version": "3.9.5"
  }
 },
 "nbformat": 4,
 "nbformat_minor": 5
}
