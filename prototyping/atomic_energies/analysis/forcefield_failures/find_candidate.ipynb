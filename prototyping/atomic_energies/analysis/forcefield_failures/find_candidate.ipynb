{
 "cells": [
  {
   "cell_type": "markdown",
   "id": "8b99db54-1d88-437d-b741-cccf99b62a89",
   "metadata": {},
   "source": [
    "# find specific molecule in dataset"
   ]
  },
  {
   "cell_type": "code",
   "execution_count": 28,
   "id": "876629d8-2aa2-49f3-b86e-c49fe2b97dd3",
   "metadata": {},
   "outputs": [],
   "source": [
    "import rdkit.Chem"
   ]
  },
  {
   "cell_type": "code",
   "execution_count": 131,
   "id": "2a9aa87f-c903-4b67-a667-153bd6dc2452",
   "metadata": {},
   "outputs": [
    {
     "data": {
      "image/png": "[encoded data removed]",
      "text/plain": [
       "<rdkit.Chem.rdchem.Mol at 0x7f157a4af460>"
      ]
     },
     "execution_count": 131,
     "metadata": {},
     "output_type": "execute_result"
    }
   ],
   "source": [
    "mol = rdkit.Chem.MolFromSmiles('NC(=O)C1=CN=CC=C1')\n",
    "# mol = rdkit.Chem.MolFromSmiles('C1CCCCN1C(=O)C1=CC=C(N(=O)=O)C=C1')\n",
    "mol"
   ]
  },
  {
   "cell_type": "code",
   "execution_count": 133,
   "id": "29ef1714-ef75-46b1-a407-4c68e3061d9c",
   "metadata": {},
   "outputs": [],
   "source": [
    "mc = rdkit.Chem.MolToSmiles(mol)"
   ]
  },
  {
   "cell_type": "code",
   "execution_count": 134,
   "id": "66b18115-8d9e-4001-8361-f95f40fbc14a",
   "metadata": {},
   "outputs": [
    {
     "data": {
      "text/plain": [
       "'NC(=O)c1cccnc1'"
      ]
     },
     "execution_count": 134,
     "metadata": {},
     "output_type": "execute_result"
    }
   ],
   "source": [
    "mc"
   ]
  },
  {
   "cell_type": "code",
   "execution_count": 135,
   "id": "1cb84afc-dedc-4256-8e1e-a9509c26cea2",
   "metadata": {},
   "outputs": [],
   "source": [
    "smiles = []\n",
    "names = []\n",
    "with open('/home/sahre/git_repositories/conformer-scoring/molecules.smi', 'r') as f:\n",
    "    for line in f:\n",
    "        smiles.append(line.split()[0])\n",
    "        names.append(line.split()[1])"
   ]
  },
  {
   "cell_type": "code",
   "execution_count": 136,
   "id": "5a35377e-63a6-475b-9f1f-51e897bd2ba3",
   "metadata": {},
   "outputs": [],
   "source": [
    "canonical_smiles = []\n",
    "for s in smiles:\n",
    "    mol_tmp = rdkit.Chem.MolFromSmiles(s)\n",
    "    canonical_smiles.append(rdkit.Chem.MolToSmiles(mol_tmp))"
   ]
  },
  {
   "cell_type": "code",
   "execution_count": 137,
   "id": "e60ff4ab-44a8-4e8e-8bc8-58c3ed349c0e",
   "metadata": {},
   "outputs": [
    {
     "name": "stdout",
     "output_type": "stream",
     "text": [
      "omegapdb_1yc5\n"
     ]
    }
   ],
   "source": [
    "for c, n in zip(canonical_smiles, names):\n",
    "    if c == mc:\n",
    "        print(n)"
   ]
  },
  {
   "cell_type": "code",
   "execution_count": 138,
   "id": "039428e9-4bd8-453a-8dc4-73bd12a5fb0f",
   "metadata": {},
   "outputs": [
    {
     "data": {
      "image/png": "[encoded data removed]",
      "text/plain": [
       "<rdkit.Chem.rdchem.Mol at 0x7f157a418640>"
      ]
     },
     "execution_count": 138,
     "metadata": {},
     "output_type": "execute_result"
    }
   ],
   "source": [
    "rdkit.Chem.MolFromSmiles('n1cc(ccc1)C(=O)N')"
   ]
  },
  {
   "cell_type": "markdown",
   "id": "8cad3820-b30d-4dfa-b2a8-7056ec17b72d",
   "metadata": {},
   "source": [
    "# look at conformer structures"
   ]
  },
  {
   "cell_type": "code",
   "execution_count": 152,
   "id": "8e3e46af-c777-4a95-9b23-44099201cfb2",
   "metadata": {},
   "outputs": [],
   "source": [
    "import ase.visualize\n",
    "from ase import Atoms\n",
    "from ase.io import write\n",
    "\n",
    "import pandas as pd\n",
    "\n",
    "from matplotlib import pyplot as plt"
   ]
  },
  {
   "cell_type": "code",
   "execution_count": 141,
   "id": "85964a39-1024-42fd-b851-002241f5e36e",
   "metadata": {},
   "outputs": [],
   "source": [
    "def read_conformer(file):\n",
    "    with open(file, 'r') as f:\n",
    "        for i in range(4):\n",
    "            line = f.readline()\n",
    "        natoms = int(line.split()[0])\n",
    "        elements = []\n",
    "        coords = []\n",
    "        for i in range(natoms):\n",
    "            line = f.readline().split()\n",
    "            coords.append([float(c) for c in line[:3]])\n",
    "            elements.append(line[3])\n",
    "    return(elements, coords)\n",
    "    "
   ]
  },
  {
   "cell_type": "code",
   "execution_count": 142,
   "id": "23876afd-0298-4eb5-bf14-e86631722a1e",
   "metadata": {},
   "outputs": [],
   "source": [
    "name = 'omegapdb_1yc5' # dihe 1 2 6 8\n",
    "# name = 'omegacsd_PNBPIP' # 5 0 9 10"
   ]
  },
  {
   "cell_type": "code",
   "execution_count": 143,
   "id": "1e4cee5e-aa46-4151-a561-3f35c6d722b3",
   "metadata": {},
   "outputs": [],
   "source": [
    "energy_csv = f'/home/sahre/git_repositories/conformer-scoring/data-merge.csv'\n",
    "energies = pd.read_csv(energy_csv)\n",
    "energies_mol = energies.loc[energies['name'] == f'Neutral_jobs/{name}', ['mmff@mmff', 'pm7@pm7', 'dft@dft']]"
   ]
  },
  {
   "cell_type": "code",
   "execution_count": 144,
   "id": "a1e8952f-8596-4563-9dbd-7ec9ef2486cd",
   "metadata": {},
   "outputs": [
    {
     "data": {
      "text/plain": [
       "6551    6.331210\n",
       "6552    7.334992\n",
       "6553    7.349939\n",
       "6554    7.303329\n",
       "6555    6.337004\n",
       "6556    6.380613\n",
       "Name: mmff@mmff, dtype: float64"
      ]
     },
     "execution_count": 144,
     "metadata": {},
     "output_type": "execute_result"
    }
   ],
   "source": [
    "energies_mol['mmff@mmff']"
   ]
  },
  {
   "cell_type": "code",
   "execution_count": 115,
   "id": "0b45c83b-f6d5-4966-a900-753c2fc9f22d",
   "metadata": {},
   "outputs": [],
   "source": [
    "dihe = {'mmff':[], 'pm7':[], 'opt':[]}\n",
    "for i in range(1, 7):\n",
    "    for k in dihe.keys():\n",
    "        el, coords = read_conformer(f'/home/sahre/git_repositories/conformer-scoring/Neutral_jobs/{name}/rmsd{i}-{k}.mol')\n",
    "#         el, coords_opt = read_conformer(f'/home/sahre/git_repositories/conformer-scoring/Neutral_jobs/omegapdb_1yc5/rmsd{i}-{k}.mol')\n",
    "#         el, coords_pm7 = read_conformer(f'/home/sahre/git_repositories/conformer-scoring/Neutral_jobs/omegapdb_1yc5/rmsd{i}-{k}.mol')\n",
    "    \n",
    "        conf = Atoms(''.join(el), positions=coords)\n",
    "        dihe[k].append(conf.get_dihedral(5,0,9, 10))\n",
    "#     for k in dihe:\n",
    "#         conf.get_dihedral(1,2,6,8)\n",
    "#     ase.visualize.view(conf)"
   ]
  },
  {
   "cell_type": "code",
   "execution_count": 116,
   "id": "cdf1ef29-081e-4b6c-bb9b-1c43b1f0c754",
   "metadata": {},
   "outputs": [
    {
     "data": {
      "text/plain": [
       "[<matplotlib.lines.Line2D at 0x7f157a535f10>]"
      ]
     },
     "execution_count": 116,
     "metadata": {},
     "output_type": "execute_result"
    },
    {
     "data": {
      "image/png": "[encoded data removed]",
      "text/plain": [
       "<Figure size 432x288 with 3 Axes>"
      ]
     },
     "metadata": {
      "needs_background": "light"
     },
     "output_type": "display_data"
    }
   ],
   "source": [
    "fig, ax = plt.subplots(3,1, sharex=True)\n",
    "ax[1].plot(dihe['mmff'], energies_mol['mmff@mmff'], 'o', color='tab:blue')\n",
    "ax[0].plot(dihe['opt'], energies_mol['dft@dft'], 'o', color='tab:orange')\n",
    "ax[2].plot(dihe['pm7'], energies_mol['pm7@pm7'], 'o', color='tab:green')"
   ]
  },
  {
   "cell_type": "code",
   "execution_count": 146,
   "id": "06998c9a-67f0-454e-87cf-d72dd12c1093",
   "metadata": {},
   "outputs": [],
   "source": [
    "method = 'opt'\n",
    "for i in range(1, 7):\n",
    "    el, coords = read_conformer(f'/home/sahre/git_repositories/conformer-scoring/Neutral_jobs/{name}/rmsd{i}-{method}.mol')\n",
    "#         el, coords_opt = read_conformer(f'/home/sahre/git_repositories/conformer-scoring/Neutral_jobs/omegapdb_1yc5/rmsd{i}-{k}.mol')\n",
    "#         el, coords_pm7 = read_conformer(f'/home/sahre/git_repositories/conformer-scoring/Neutral_jobs/omegapdb_1yc5/rmsd{i}-{k}.mol')\n",
    "    \n",
    "    conf = Atoms(''.join(el), positions=coords)\n",
    "#         dihe[k].append(conf.get_dihedral(1,2,6,8))\n",
    "#     for k in dihe:\n",
    "#         conf.get_dihedral(1,2,6,8)\n",
    "    ase.visualize.view(conf)"
   ]
  },
  {
   "cell_type": "code",
   "execution_count": 151,
   "id": "8aa03a28-0eca-4247-a0df-d2d33bfac013",
   "metadata": {},
   "outputs": [
    {
     "data": {
      "text/plain": [
       "<Popen: returncode: None args: ['/home/sahre/opt/miniconda3/envs/qm-tools/bi...>"
      ]
     },
     "execution_count": 151,
     "metadata": {},
     "output_type": "execute_result"
    }
   ],
   "source": [
    "el, coords = read_conformer(f'/home/sahre/git_repositories/conformer-scoring/Neutral_jobs/{name}/rmsd{3}-{method}.mol')\n",
    "conf = Atoms(''.join(el), positions=coords)\n",
    "# conf.get_dihedral(5,0,9,10)\n",
    "conf.get_dihedral(1,2,6,8)\n",
    "ase.visualize.view(conf)"
   ]
  },
  {
   "cell_type": "code",
   "execution_count": 153,
   "id": "5dcb4c05-832a-4e06-b574-e78eac21fe91",
   "metadata": {},
   "outputs": [],
   "source": [
    "# write('/data/sahre/projects/atomic-energies/data/nicotinamide/base_structure.xyz', conf)"
   ]
  },
  {
   "cell_type": "code",
   "execution_count": 121,
   "id": "1ee46c00-9ea9-4261-800b-b1bd9266d783",
   "metadata": {},
   "outputs": [
    {
     "data": {
      "text/plain": [
       "46.04842627053967"
      ]
     },
     "execution_count": 121,
     "metadata": {},
     "output_type": "execute_result"
    }
   ],
   "source": [
    "el, coords1 = read_conformer(f'/home/sahre/git_repositories/conformer-scoring/Neutral_jobs/{name}/rmsd{1}-{method}.mol')\n",
    "conf1 = Atoms(''.join(el), positions=coords1)\n",
    "el, coords2 = read_conformer(f'/home/sahre/git_repositories/conformer-scoring/Neutral_jobs/{name}/rmsd{2}-{method}.mol')\n",
    "conf2 = Atoms(''.join(el), positions=coords2)\n"
   ]
  },
  {
   "cell_type": "code",
   "execution_count": 123,
   "id": "41b79daf-55da-452f-a121-dcb2fd5d7775",
   "metadata": {},
   "outputs": [
    {
     "data": {
      "text/plain": [
       "array([[ 0.0117, -0.0025,  0.0013],\n",
       "       [ 0.0467,  0.0162,  0.0146],\n",
       "       [ 0.067 ,  0.0321,  0.0071],\n",
       "       [ 0.052 ,  0.0292, -0.0132],\n",
       "       [ 0.017 ,  0.0102, -0.0259],\n",
       "       [-0.003 , -0.0056, -0.0183],\n",
       "       [ 0.0731,  0.046 , -0.0211],\n",
       "       [ 0.0545,  0.0422, -0.0393],\n",
       "       [ 0.1081,  0.0631, -0.0095],\n",
       "       [-0.0108, -0.0199,  0.0101],\n",
       "       [-0.0368, -0.0413,  0.0241],\n",
       "       [-0.0005, -0.0111,  0.0029],\n",
       "       [-0.02  , -0.0262,  0.0134],\n",
       "       [ 0.0043, -0.0156,  0.0184],\n",
       "       [ 0.022 ,  0.0089, -0.0161],\n",
       "       [ 0.0417,  0.0231, -0.0251],\n",
       "       [ 0.0167,  0.012 , -0.0294],\n",
       "       [ 0.0581,  0.0181,  0.0309],\n",
       "       [ 0.094 ,  0.0465,  0.0176],\n",
       "       [ 0.0051,  0.0076, -0.0412],\n",
       "       [-0.0303, -0.0206, -0.0275],\n",
       "       [-0.0298, -0.0431,  0.0398],\n",
       "       [-0.0439, -0.0292, -0.0092],\n",
       "       [-0.0118, -0.0263,  0.0235],\n",
       "       [ 0.026 , -0.0153,  0.0435],\n",
       "       [ 0.0007,  0.009 , -0.0404],\n",
       "       [ 0.0413,  0.0165, -0.0111],\n",
       "       [ 0.0524,  0.04  , -0.0505],\n",
       "       [ 0.0649,  0.025 , -0.0025],\n",
       "       [-0.0048,  0.0118, -0.0532],\n",
       "       [ 0.0315,  0.0219, -0.0345]])"
      ]
     },
     "execution_count": 123,
     "metadata": {},
     "output_type": "execute_result"
    }
   ],
   "source": [
    "conf1.get_positions() - conf2.get_positions()"
   ]
  },
  {
   "cell_type": "code",
   "execution_count": null,
   "id": "7d898511-0941-4b44-9d92-3250d8b81012",
   "metadata": {
    "jupyter": {
     "source_hidden": true
    },
    "tags": []
   },
   "outputs": [],
   "source": [
    "fig, (ax, ax2) = plt.subplots(2, 1, sharex=True)\n",
    "fig.subplots_adjust(hspace=0.03)  # adjust space between axes\n",
    "\n",
    "plt.rcParams['font.size'] = 20\n",
    "\n",
    "ax2.plot(rcoord_UFF,np.array(atomic_energies)[:,0], '--o',label='0')\n",
    "ax.plot(rcoord_UFF,np.array(atomic_energies)[:,1], '--o',label='1')\n",
    "ax2.plot(rcoord_UFF,np.array(atomic_energies)[:,3], '-o', color = 'tab:red', label='3')\n",
    "    \n",
    "# plt.xlabel('r(CO) (Ang)')\n",
    "# plt.ylabel('E (Ha)')\n",
    "# plt.legend()\n",
    "# plt.legend(bbox_to_anchor=(1.0, 1.05))\n",
    "\n",
    "ax.plot(rcoord_UFF,np.array(atomic_energies)[:,2], '-o', color = 'tab:green', label='2')\n",
    "ax.plot(rcoord_UFF,np.array(atomic_energies)[:,4], '--o', color = 'tab:purple',label='4')\n",
    "ax.set_ylim([0.0025, 0.15])\n",
    "ax2.set_ylim([0.000, 0.0025])\n",
    "\n",
    "# hide the spines between ax and ax2\n",
    "ax.spines['bottom'].set_visible(False)\n",
    "ax2.spines['top'].set_visible(False)\n",
    "ax.xaxis.tick_top()\n",
    "ax.tick_params(labeltop=False)  # don't put tick labels at the top\n",
    "ax2.xaxis.tick_bottom()\n",
    "\n",
    "\n",
    "d = .015  # how big to make the diagonal lines in axes coordinates\n",
    "# arguments to pass to plot, just so we don't keep repeating them\n",
    "kwargs = dict(transform=ax.transAxes, color='k', clip_on=False)\n",
    "ax.plot((-d, +d), (-d, +d), **kwargs)        # top-left diagonal\n",
    "ax.plot((1 - d, 1 + d), (-d, +d), **kwargs)  # top-right diagonal\n",
    "\n",
    "kwargs.update(transform=ax2.transAxes)  # switch to the bottom axes\n",
    "ax2.plot((-d, +d), (1 - d, 1 + d), **kwargs)  # bottom-left diagonal\n",
    "ax2.plot((1 - d, 1 + d), (1 - d, 1 + d), **kwargs)  # bottom-right diagonal\n",
    "\n",
    "ax.legend(bbox_to_anchor=(1.35, 1.0))\n",
    "ax2.legend(bbox_to_anchor=(1.05, 1.0))\n",
    "\n",
    "ax.set_ylabel(r'$E_{\\rm{tot}}$ (Ha)', loc='bottom')\n",
    "ax2.set_xlabel(r'r(CO) $(\\AA)$')"
   ]
  }
 ],
 "metadata": {
  "kernelspec": {
   "display_name": "Python 3",
   "language": "python",
   "name": "python3"
  },
  "language_info": {
   "codemirror_mode": {
    "name": "ipython",
    "version": 3
   },
   "file_extension": ".py",
   "mimetype": "text/x-python",
   "name": "python",
   "nbconvert_exporter": "python",
   "pygments_lexer": "ipython3",
   "version": "3.9.5"
  }
 },
 "nbformat": 4,
 "nbformat_minor": 5
}
