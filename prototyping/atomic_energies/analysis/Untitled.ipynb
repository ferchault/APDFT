{
 "cells": [
  {
   "cell_type": "code",
   "execution_count": 1,
   "id": "230a86f7-8dfd-4bf0-a0bf-2e6413479573",
   "metadata": {},
   "outputs": [],
   "source": [
    "import numpy as np\n",
    "from matplotlib import pyplot as plt"
   ]
  },
  {
   "cell_type": "code",
   "execution_count": 2,
   "id": "0b935156-58bd-4a7f-a45a-a7659524b18a",
   "metadata": {},
   "outputs": [],
   "source": [
    "f = lambda r, rc: np.exp(-0.5*(r/rc)**2)"
   ]
  },
  {
   "cell_type": "code",
   "execution_count": 11,
   "id": "e02d522d-0f9f-410e-bb28-e4e64483e207",
   "metadata": {},
   "outputs": [
    {
     "data": {
      "text/plain": [
       "[<matplotlib.lines.Line2D at 0x7f69379b8310>]"
      ]
     },
     "execution_count": 11,
     "metadata": {},
     "output_type": "execute_result"
    },
    {
     "data": {
      "image/png": "[encoded data removed]",
      "text/plain": [
       "<Figure size 432x288 with 1 Axes>"
      ]
     },
     "metadata": {
      "needs_background": "light"
     },
     "output_type": "display_data"
    }
   ],
   "source": [
    "r = np.linspace(0, 10, 1000)\n",
    "rc = 1\n",
    "lam = 0.5\n",
    "plt.plot(r, f(r, rc))\n",
    "plt.plot(r, lam*f(r, rc))\n",
    "plt.plot(r, f(r, lamprime))"
   ]
  },
  {
   "cell_type": "code",
   "execution_count": 8,
   "id": "43e80b89-1f37-4f56-945a-cee9c9ec7dad",
   "metadata": {},
   "outputs": [
    {
     "data": {
      "text/plain": [
       "[<matplotlib.lines.Line2D at 0x7f69378afee0>]"
      ]
     },
     "execution_count": 8,
     "metadata": {},
     "output_type": "execute_result"
    },
    {
     "data": {
      "image/png": "[encoded data removed]",
      "text/plain": [
       "<Figure size 432x288 with 1 Axes>"
      ]
     },
     "metadata": {
      "needs_background": "light"
     },
     "output_type": "display_data"
    }
   ],
   "source": [
    "lamp = np.linspace(0.05, 2, 100)\n",
    "plt.plot(lamp, np.exp(-0.5*1/lamp**2))"
   ]
  },
  {
   "cell_type": "code",
   "execution_count": 9,
   "id": "9bda516a-f478-48d3-8c57-ae4870450217",
   "metadata": {},
   "outputs": [],
   "source": [
    "lamprime = np.sqrt(-1/(2*np.log(lam)))"
   ]
  },
  {
   "cell_type": "code",
   "execution_count": 10,
   "id": "0b02ad70-40ee-4601-a93c-f44bf25aa540",
   "metadata": {},
   "outputs": [
    {
     "data": {
      "text/plain": [
       "0.8493218002880191"
      ]
     },
     "execution_count": 10,
     "metadata": {},
     "output_type": "execute_result"
    }
   ],
   "source": [
    "lamprime"
   ]
  },
  {
   "cell_type": "code",
   "execution_count": 13,
   "id": "ec330fcb-4603-4c02-a982-cf406523fe82",
   "metadata": {},
   "outputs": [],
   "source": [
    "from scipy.special import erf"
   ]
  },
  {
   "cell_type": "code",
   "execution_count": 28,
   "id": "cabfd708-c5d9-4644-900b-1cd4cddf18f7",
   "metadata": {},
   "outputs": [],
   "source": [
    "def calculate_atomic_energies(density, nuclei, meshgrid, h_matrix, intg_method = 'sum'):\n",
    "    \"\"\"\n",
    "    performs intgegration over electron density with minimum image convention\n",
    "\n",
    "    density: the lambda averaged electron density\n",
    "    nuclei: charge and coordinates of nuclei in compound\n",
    "    meshgrid: rid which contains the coordinates for which the electron densities  are given\n",
    "    h_matrix: H matrix with the cell vectors as columns\n",
    "    return: the alchemical potentials and atomic energies of the compound if the input the lambda averaged density\n",
    "    \"\"\"\n",
    "        \n",
    "    # calculate atomic energies for every atom in compound\n",
    "    atomic_energies_with_repulsion = np.empty(nuclei.shape[0])\n",
    "    atomic_energies_with_repulsion = nuclear_repulsion(nuclei[:,0], nuclei[:, 1:4])\n",
    "    \n",
    "    atomic_energies = np.empty(nuclei.shape[0])\n",
    "    alch_pots = np.empty(nuclei.shape[0])\n",
    "    for idx, nuc in enumerate(nuclei):\n",
    "        distance_nuc_grid = distance_MIC2(nuc[1:4], meshgrid, h_matrix) # calculate distance of gpts to nucleus with MIC\n",
    "        Vloc = get_V_loc(distance_nuc_grid, pp_param)\n",
    "        atomic_energies[idx] = -(density*Vloc).sum() # integrate over position of electron density\n",
    "\n",
    "        alch_pots[idx] = alch_pot\n",
    "        atomic_energies[idx] = nuc[0]*alch_pot\n",
    "        atomic_energies_with_repulsion[idx] += atomic_energies[idx]\n",
    "        \n",
    "    \n",
    "    return(atomic_energies_with_repulsion, atomic_energies, alch_pots)\n",
    "\n",
    "# V_loc = lambda r, pp_param: -pp_param['Z_ion']/r*erf(r/(np.sqrt(2)*pp_param['r_loc'])) + np.exp(-0.5*(r/pp_param['r_loc'])**2)*(pp_param['c1']+pp_param['c2']*(r/pp_param['r_loc'])**2)\n",
    "\n",
    "def get_V_loc(r, pp_param):\n",
    "    \"\"\"\n",
    "    compute potential acting on the valence electrons\n",
    "    \"\"\"\n",
    "    valence = -pp_param['Z_ion']/r*erf(r/(np.sqrt(2)*pp_param['r_loc']))\n",
    "    core_corr = np.exp(-0.5*(r/pp_param['r_loc'])**2)*(pp_param['c1']+pp_param['c2']*(r/pp_param['r_loc'])**2)\n",
    "    return(valence+core_corr)"
   ]
  },
  {
   "cell_type": "code",
   "execution_count": 17,
   "id": "a2eadf2c-59da-4623-b79d-d5868fc45f5d",
   "metadata": {},
   "outputs": [],
   "source": [
    "import sys\n",
    "sys.path.insert(0, '/home/sahre/git_repositories/APDFT/prototyping/atomic_energies/hitp/')\n",
    "from cpmd_io import parse_pp_file"
   ]
  },
  {
   "cell_type": "code",
   "execution_count": 20,
   "id": "28885cda-8f48-44f1-8709-55784b514cbe",
   "metadata": {},
   "outputs": [
    {
     "data": {
      "text/plain": [
       "{'Z_ion': 6.0, 'r_loc': 0.244554298, 'c_0': -16.6672148, 'c_1': 2.487311321}"
      ]
     },
     "execution_count": 20,
     "metadata": {},
     "output_type": "execute_result"
    }
   ],
   "source": [
    "parse_pp_file('/data/sahre/PP_LIBRARY/O_GH_PBE')"
   ]
  },
  {
   "cell_type": "code",
   "execution_count": 26,
   "id": "dfe67a9b-933f-4573-94a7-c0bce162a051",
   "metadata": {},
   "outputs": [
    {
     "ename": "NameError",
     "evalue": "name 'pp_param' is not defined",
     "output_type": "error",
     "traceback": [
      "\u001b[0;31m---------------------------------------------------------------------------\u001b[0m",
      "\u001b[0;31mNameError\u001b[0m                                 Traceback (most recent call last)",
      "\u001b[0;32m<ipython-input-26-b55984b91560>\u001b[0m in \u001b[0;36m<module>\u001b[0;34m\u001b[0m\n\u001b[1;32m      1\u001b[0m \u001b[0mV_loc\u001b[0m \u001b[0;34m=\u001b[0m \u001b[0;32mlambda\u001b[0m \u001b[0mr\u001b[0m\u001b[0;34m,\u001b[0m \u001b[0mpp_param\u001b[0m\u001b[0;34m:\u001b[0m \u001b[0;34m-\u001b[0m\u001b[0mpp_param\u001b[0m\u001b[0;34m[\u001b[0m\u001b[0;34m'Z_ion'\u001b[0m\u001b[0;34m]\u001b[0m\u001b[0;34m/\u001b[0m\u001b[0mr\u001b[0m\u001b[0;34m*\u001b[0m\u001b[0merf\u001b[0m\u001b[0;34m(\u001b[0m\u001b[0mr\u001b[0m\u001b[0;34m/\u001b[0m\u001b[0;34m(\u001b[0m\u001b[0mnp\u001b[0m\u001b[0;34m.\u001b[0m\u001b[0msqrt\u001b[0m\u001b[0;34m(\u001b[0m\u001b[0;36m2\u001b[0m\u001b[0;34m)\u001b[0m\u001b[0;34m*\u001b[0m\u001b[0mpp_param\u001b[0m\u001b[0;34m[\u001b[0m\u001b[0;34m'r_loc'\u001b[0m\u001b[0;34m]\u001b[0m\u001b[0;34m)\u001b[0m\u001b[0;34m)\u001b[0m\u001b[0;34m\u001b[0m\u001b[0;34m\u001b[0m\u001b[0m\n\u001b[0;32m----> 2\u001b[0;31m \u001b[0;34m+\u001b[0m \u001b[0mnp\u001b[0m\u001b[0;34m.\u001b[0m\u001b[0mexp\u001b[0m\u001b[0;34m(\u001b[0m\u001b[0;34m-\u001b[0m\u001b[0;36m0.5\u001b[0m\u001b[0;34m*\u001b[0m\u001b[0;34m(\u001b[0m\u001b[0mr\u001b[0m\u001b[0;34m/\u001b[0m\u001b[0mpp_param\u001b[0m\u001b[0;34m[\u001b[0m\u001b[0;34m'r_loc'\u001b[0m\u001b[0;34m]\u001b[0m\u001b[0;34m)\u001b[0m\u001b[0;34m**\u001b[0m\u001b[0;36m2\u001b[0m\u001b[0;34m)\u001b[0m\u001b[0;34m*\u001b[0m\u001b[0;34m(\u001b[0m\u001b[0mpp_param\u001b[0m\u001b[0;34m[\u001b[0m\u001b[0;34m'c1'\u001b[0m\u001b[0;34m]\u001b[0m\u001b[0;34m+\u001b[0m\u001b[0mpp_param\u001b[0m\u001b[0;34m[\u001b[0m\u001b[0;34m'c2'\u001b[0m\u001b[0;34m]\u001b[0m\u001b[0;34m*\u001b[0m\u001b[0;34m(\u001b[0m\u001b[0mr\u001b[0m\u001b[0;34m/\u001b[0m\u001b[0mpp_param\u001b[0m\u001b[0;34m[\u001b[0m\u001b[0;34m'r_loc'\u001b[0m\u001b[0;34m]\u001b[0m\u001b[0;34m)\u001b[0m\u001b[0;34m**\u001b[0m\u001b[0;36m2\u001b[0m\u001b[0;34m)\u001b[0m\u001b[0;34m\u001b[0m\u001b[0;34m\u001b[0m\u001b[0m\n\u001b[0m",
      "\u001b[0;31mNameError\u001b[0m: name 'pp_param' is not defined"
     ]
    }
   ],
   "source": []
  }
 ],
 "metadata": {
  "kernelspec": {
   "display_name": "Python 3",
   "language": "python",
   "name": "python3"
  },
  "language_info": {
   "codemirror_mode": {
    "name": "ipython",
    "version": 3
   },
   "file_extension": ".py",
   "mimetype": "text/x-python",
   "name": "python",
   "nbconvert_exporter": "python",
   "pygments_lexer": "ipython3",
   "version": "3.9.5"
  }
 },
 "nbformat": 4,
 "nbformat_minor": 5
}
