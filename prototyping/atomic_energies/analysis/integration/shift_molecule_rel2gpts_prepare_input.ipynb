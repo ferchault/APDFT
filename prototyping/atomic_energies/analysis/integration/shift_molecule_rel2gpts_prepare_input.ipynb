{
 "cells": [
  {
   "cell_type": "code",
   "execution_count": 1,
   "metadata": {},
   "outputs": [],
   "source": [
    "import numpy as np\n",
    "import os\n",
    "import qml\n",
    "import sys\n",
    "sys.path.insert(0, '/home/misa/git_repositories/APDFT/prototyping/atomic_energies/')\n",
    "from parse_density_files import CUBE\n",
    "from prepare_input import write_atom_section, shift2center\n"
   ]
  },
  {
   "cell_type": "code",
   "execution_count": 2,
   "metadata": {},
   "outputs": [],
   "source": [
    "template_path = '/home/misa/APDFT/prototyping/atomic_energies/results/slice_ve38/dsgdb9nsd_003700/shift_molecule/run.inp'\n",
    "template = []\n",
    "with open(template_path, 'r') as f:\n",
    "    template = f.readlines()"
   ]
  },
  {
   "cell_type": "code",
   "execution_count": 3,
   "metadata": {},
   "outputs": [],
   "source": [
    "cube38 = CUBE('/home/misa/APDFT/prototyping/atomic_energies/results/slice_ve38/dsgdb9nsd_003700/cube-files/ve_38.cube')"
   ]
  },
  {
   "cell_type": "code",
   "execution_count": 4,
   "metadata": {},
   "outputs": [
    {
     "data": {
      "text/plain": [
       "0.1142858729882622"
      ]
     },
     "execution_count": 4,
     "metadata": {},
     "output_type": "execute_result"
    }
   ],
   "source": [
    "cube38.get_axis('z')[1]"
   ]
  },
  {
   "cell_type": "code",
   "execution_count": 5,
   "metadata": {},
   "outputs": [],
   "source": [
    "axis = 'z'\n",
    "period = cube38.get_axis(axis)[1]\n",
    "shifts = np.linspace(0, period, 10)[1:]\n",
    "secs = []\n",
    "\n",
    "for shift_gpt in shifts:\n",
    "    com = qml.Compound(xyz='/home/misa/datasets/qm9/dsgdb9nsd_003700.xyz')\n",
    "    new_coords  = shift2center(com.coordinates, np.array([10.0, 10, 10]))\n",
    "    if axis == 'x':\n",
    "        new_coords = new_coords + np.array([shift_gpt, 0.0, 0.0])\n",
    "    elif axis == 'y':\n",
    "        new_coords = new_coords + np.array([0.0, shift_gpt, 0.0])\n",
    "    elif axis == 'z':\n",
    "        new_coords = new_coords + np.array([0.0, 0.0, shift_gpt])\n",
    "    com.coordinates = new_coords\n",
    "    secs.append(write_atom_section(com))"
   ]
  },
  {
   "cell_type": "code",
   "execution_count": 6,
   "metadata": {},
   "outputs": [
    {
     "name": "stdout",
     "output_type": "stream",
     "text": [
      "Directory  /home/misa/APDFT/prototyping/atomic_energies/results/slice_ve38/dsgdb9nsd_003700/shift_molecule/shift_z1  Created \n",
      "Directory  /home/misa/APDFT/prototyping/atomic_energies/results/slice_ve38/dsgdb9nsd_003700/shift_molecule/shift_z2  Created \n",
      "Directory  /home/misa/APDFT/prototyping/atomic_energies/results/slice_ve38/dsgdb9nsd_003700/shift_molecule/shift_z3  Created \n",
      "Directory  /home/misa/APDFT/prototyping/atomic_energies/results/slice_ve38/dsgdb9nsd_003700/shift_molecule/shift_z4  Created \n",
      "Directory  /home/misa/APDFT/prototyping/atomic_energies/results/slice_ve38/dsgdb9nsd_003700/shift_molecule/shift_z5  Created \n",
      "Directory  /home/misa/APDFT/prototyping/atomic_energies/results/slice_ve38/dsgdb9nsd_003700/shift_molecule/shift_z6  Created \n",
      "Directory  /home/misa/APDFT/prototyping/atomic_energies/results/slice_ve38/dsgdb9nsd_003700/shift_molecule/shift_z7  Created \n",
      "Directory  /home/misa/APDFT/prototyping/atomic_energies/results/slice_ve38/dsgdb9nsd_003700/shift_molecule/shift_z8  Created \n",
      "Directory  /home/misa/APDFT/prototyping/atomic_energies/results/slice_ve38/dsgdb9nsd_003700/shift_molecule/shift_z9  Created \n"
     ]
    }
   ],
   "source": [
    "base_dir = '/home/misa/APDFT/prototyping/atomic_energies/results/slice_ve38/dsgdb9nsd_003700/shift_molecule/'\n",
    "for i, sec in enumerate(secs):\n",
    "    # make directory\n",
    "    new_dir = base_dir + f'shift_{axis}{i+1}'\n",
    "    try:\n",
    "        os.mkdir(new_dir)    \n",
    "        print(\"Directory \" , new_dir ,  \" Created \")\n",
    "    except FileExistsError:\n",
    "        print(\"Directory \" , new_dir ,  \" already exists\")  \n",
    "    \n",
    "    # write file to directory\n",
    "    fp = new_dir + '/run.inp'\n",
    "    file = template + sec\n",
    "    with open(fp, 'w') as f:\n",
    "        f.writelines(file)"
   ]
  },
  {
   "cell_type": "markdown",
   "metadata": {},
   "source": [
    "#### some stuff"
   ]
  },
  {
   "cell_type": "code",
   "execution_count": null,
   "metadata": {},
   "outputs": [],
   "source": [
    "import numpy as np\n",
    "\n",
    "import sys\n",
    "sys.path.insert(0, '/home/misa/git_repositories/APDFT/prototyping/atomic_energies/')\n",
    "from parse_density_files import CUBE\n",
    "import alchemy_tools2 as at"
   ]
  },
  {
   "cell_type": "code",
   "execution_count": null,
   "metadata": {},
   "outputs": [],
   "source": [
    "cube38 = CUBE('/home/misa/APDFT/prototyping/atomic_energies/results/slice_ve38/dsgdb9nsd_001212/cube-files/ve_38.cube')"
   ]
  },
  {
   "cell_type": "code",
   "execution_count": null,
   "metadata": {},
   "outputs": [],
   "source": [
    "distances = at.distance_MIC2(cube38.atoms[3][1:4], cube38.get_grid(), cube38.get_hmatrix())"
   ]
  },
  {
   "cell_type": "code",
   "execution_count": null,
   "metadata": {},
   "outputs": [],
   "source": [
    "idx = np.where(distances == np.amin(distances))\n",
    "idx"
   ]
  },
  {
   "cell_type": "code",
   "execution_count": null,
   "metadata": {},
   "outputs": [],
   "source": [
    "# check if correct gpt coordinates from meshgrid chosen by calculating there distance to atom should be == min distance\n",
    "x,y,z = cube38.get_grid()\n",
    "np.allclose(np.linalg.norm(np.array([x[idx][0], y[idx][0], z[idx][0]]) - cube38.atoms[3][1:4]), distances[idx][0])"
   ]
  },
  {
   "cell_type": "code",
   "execution_count": null,
   "metadata": {},
   "outputs": [],
   "source": [
    "print(x[84, 87, 88] - x[83, 87, 88])\n",
    "print(x[84, 87, 88] - x[85, 87, 88])"
   ]
  },
  {
   "cell_type": "code",
   "execution_count": null,
   "metadata": {},
   "outputs": [],
   "source": [
    "# find next closest point on x,y,z-axis\n",
    "def get_second_coord(atom_coord, idx, grid_comp):\n",
    "    if atom_coord - grid_comp[idx][0] > 0:\n",
    "        return(1)\n",
    "    else:\n",
    "        return(-1)\n",
    "for i, j in zip([1,2,3], [x,y,z]):\n",
    "    print(get_second_coord(cube38.atoms[3][i], idx, j))"
   ]
  },
  {
   "cell_type": "code",
   "execution_count": null,
   "metadata": {},
   "outputs": [],
   "source": [
    "print(x[85, 87, 88] - cube38.atoms[3][1])\n",
    "print(x[83, 87, 88] - cube38.atoms[3][1])\n",
    "print(x[84, 87, 88] - cube38.atoms[3][1])"
   ]
  },
  {
   "cell_type": "code",
   "execution_count": null,
   "metadata": {},
   "outputs": [],
   "source": [
    "print(y[84, 88, 88] - cube38.atoms[3][2])\n",
    "print(y[84, 86, 88] - cube38.atoms[3][2])\n",
    "print(y[84, 87, 88] - cube38.atoms[3][2])"
   ]
  },
  {
   "cell_type": "code",
   "execution_count": null,
   "metadata": {},
   "outputs": [],
   "source": [
    "print(z[84, 87, 89] - cube38.atoms[3][3])\n",
    "print(z[84, 87, 87] - cube38.atoms[3][3])\n",
    "print(z[84, 87, 88] - cube38.atoms[3][3])"
   ]
  },
  {
   "cell_type": "code",
   "execution_count": null,
   "metadata": {},
   "outputs": [],
   "source": [
    "# shift by one period\n",
    "period = x[85, 87, 88]-x[84, 87, 88]\n",
    "shifts = np.linspace(0, period, 10)[1:]"
   ]
  },
  {
   "cell_type": "code",
   "execution_count": null,
   "metadata": {},
   "outputs": [],
   "source": [
    "period"
   ]
  },
  {
   "cell_type": "code",
   "execution_count": null,
   "metadata": {},
   "outputs": [],
   "source": [
    "shifts"
   ]
  }
 ],
 "metadata": {
  "kernelspec": {
   "display_name": "Python [conda env:qm-tools] *",
   "language": "python",
   "name": "conda-env-qm-tools-py"
  },
  "language_info": {
   "codemirror_mode": {
    "name": "ipython",
    "version": 3
   },
   "file_extension": ".py",
   "mimetype": "text/x-python",
   "name": "python",
   "nbconvert_exporter": "python",
   "pygments_lexer": "ipython3",
   "version": "3.8.5"
  }
 },
 "nbformat": 4,
 "nbformat_minor": 4
}
