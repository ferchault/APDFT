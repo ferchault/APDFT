{
 "cells": [
  {
   "cell_type": "code",
   "execution_count": null,
   "metadata": {},
   "outputs": [],
   "source": [
    "import numpy as np\n",
    "import glob\n",
    "from matplotlib import pyplot as plt\n",
    "\n",
    "import sys\n",
    "sys.path.insert(0, '/home/misa/git_repositories/APDFT/prototyping/atomic_energies')\n",
    "import alchemy_tools2 as at\n",
    "\n",
    "from parse_density_files import CUBE"
   ]
  },
  {
   "cell_type": "code",
   "execution_count": null,
   "metadata": {},
   "outputs": [],
   "source": [
    "#'/home/misa/projects/Atomic-Energies/data/dsgdb9nsd_003664/cube-files'\n",
    "#'/home/misa/projects/Atomic-Energies/data/dsgdb9nsd_003700/cube-files'\n",
    "\n",
    "\n",
    "#'/home/misa/APDFT/prototyping/atomic_energies/results/slice_ve38/dsgdb9nsd_003886'\n",
    "#'/home/misa/projects/Atomic-Energies/data/dsgdb9nsd_003712/cube-files'\n",
    "\n"
   ]
  },
  {
   "cell_type": "code",
   "execution_count": null,
   "metadata": {},
   "outputs": [],
   "source": [
    "files = glob.glob('/home/misa/APDFT/prototyping/atomic_energies/results/slice_ve38/dsgdb9nsd_001212/cube-files/*')\n",
    "files.sort()\n",
    "files.remove('/home/misa/APDFT/prototyping/atomic_energies/results/slice_ve38/dsgdb9nsd_001212/cube-files/ve_8.cube')\n",
    "files"
   ]
  },
  {
   "cell_type": "code",
   "execution_count": null,
   "metadata": {},
   "outputs": [],
   "source": [
    "lam_vals, density, nuclei, gpts, h_matrix = at.load_cube_data(files)"
   ]
  },
  {
   "cell_type": "code",
   "execution_count": null,
   "metadata": {},
   "outputs": [],
   "source": [
    "alchpots_all = []\n",
    "for d in density:\n",
    "    atomic_energies_with_repulsion, atomic_energies, alch_pots = at.calculate_atomic_energies(d, nuclei, gpts, h_matrix, intg_method = 'sum')\n",
    "    alchpots_all.append(alch_pots)\n",
    "alchpots_all = np.array(alchpots_all)\n",
    "np.save('/home/misa/projects/Atomic-Energies/data/ueg_reference/alchpots/dsgdb9nsd_003712_alchpots.npy', alchpots_all)"
   ]
  },
  {
   "cell_type": "code",
   "execution_count": null,
   "metadata": {},
   "outputs": [],
   "source": [
    "plt.rcParams['font.size'] = 20\n",
    "for i in range(alchpots_all.shape[1]):\n",
    "    plt.plot(lam_vals, alchpots_all[:,i], '-o', label = f'Z = {nuclei[:,0][i]}')\n",
    "\n",
    "plt.xlabel(r'$\\lambda$')\n",
    "plt.ylabel(r'$\\mu (\\lambda)$ (Ha)')\n",
    "\n",
    "plt.legend(bbox_to_anchor=(1.05, 1))"
   ]
  },
  {
   "cell_type": "code",
   "execution_count": null,
   "metadata": {},
   "outputs": [],
   "source": [
    "plt.plot(lam_vals, alchpots_all[:,3], '-o')"
   ]
  },
  {
   "cell_type": "code",
   "execution_count": null,
   "metadata": {},
   "outputs": [],
   "source": [
    "coeffs = np.polyfit(lam_vals, alchpots_all[:,3], 3, rcond=None, full=False, w=None, cov=False)\n",
    "coeffs2 = np.polyfit(lam_vals[[2,6,11,15, -1]], alchpots_all[:,3][[2,6,11,15, -1]], 3, rcond=None, full=False, w=None, cov=False)"
   ]
  },
  {
   "cell_type": "code",
   "execution_count": null,
   "metadata": {},
   "outputs": [],
   "source": [
    "plt.plot(lam_vals, alchpots_all[:,3], '-o')\n",
    "plt.plot(np.linspace(0, 1, 100), np.polyval(coeffs, np.linspace(0, 1, 100)))\n",
    "plt.plot(np.linspace(0, 1, 100), np.polyval(coeffs2, np.linspace(0, 1, 100)))"
   ]
  },
  {
   "cell_type": "code",
   "execution_count": null,
   "metadata": {},
   "outputs": [],
   "source": [
    "poly1 = np.poly1d(coeffs)"
   ]
  },
  {
   "cell_type": "markdown",
   "metadata": {},
   "source": [
    "### Integral of alchemical potentials"
   ]
  },
  {
   "cell_type": "code",
   "execution_count": 14,
   "metadata": {},
   "outputs": [],
   "source": [
    "import numpy as np\n",
    "import glob\n",
    "from matplotlib import pyplot as plt\n",
    "\n",
    "import sys\n",
    "sys.path.insert(0, '/home/misa/git_repositories/APDFT/prototyping/atomic_energies')"
   ]
  },
  {
   "cell_type": "code",
   "execution_count": 15,
   "metadata": {},
   "outputs": [],
   "source": [
    "alchpots = np.load('/home/misa/projects/Atomic-Energies/data/ueg_reference/alchpots/dsgdb9nsd_001212_alchpots.npy')"
   ]
  },
  {
   "cell_type": "code",
   "execution_count": 16,
   "metadata": {},
   "outputs": [],
   "source": [
    "alchpots_lam1 = np.loadtxt('/home/misa/APDFT/prototyping/atomic_energies/results/slice_ve38/dsgdb9nsd_001212/alchpot_lam1.txt')"
   ]
  },
  {
   "cell_type": "code",
   "execution_count": 4,
   "metadata": {},
   "outputs": [],
   "source": [
    "lam = np.array([ 0.,  4.,  6.,  8., 10., 12., 14., 15., 16., 18., 20., 22., 23.,\n",
    "       24., 26., 28., 29., 30., 32., 34., 36., 38.])\n",
    "\n",
    "lam_coarse = lam[[0, 3, 7, 12, 17, -1]]/38"
   ]
  },
  {
   "cell_type": "code",
   "execution_count": 23,
   "metadata": {},
   "outputs": [],
   "source": [
    "alch_tilde = []\n",
    "for i in range(alchpots[[0, 3, 7, 12, 17, -1]].shape[1]):\n",
    "    alch_tilde.append(np.trapz(alchpots[[0, 3, 7, 12, 17, -1]][:,i], lam_coarse))"
   ]
  },
  {
   "cell_type": "code",
   "execution_count": 20,
   "metadata": {},
   "outputs": [],
   "source": [
    "mean = alchpots[0].mean()\n",
    "alchpots[0] = mean"
   ]
  },
  {
   "cell_type": "code",
   "execution_count": 25,
   "metadata": {},
   "outputs": [
    {
     "data": {
      "text/plain": [
       "array([-7.13228434e-05, -1.29789771e-03, -5.01491929e-04, -1.62481098e-03,\n",
       "       -5.39916104e-04,  6.43125371e-04,  1.49678645e-03,  9.59557677e-04,\n",
       "        4.39201606e-04,  3.85541857e-04,  5.15724906e-05,  5.96541185e-05])"
      ]
     },
     "execution_count": 25,
     "metadata": {},
     "output_type": "execute_result"
    }
   ],
   "source": [
    "alch_tilde-atomic_data[:,4]"
   ]
  },
  {
   "cell_type": "code",
   "execution_count": 8,
   "metadata": {},
   "outputs": [],
   "source": [
    "atomic_data = np.loadtxt('/home/misa/APDFT/prototyping/atomic_energies/results/slice_ve38/dsgdb9nsd_001212/atomic_energies_with_mic.txt')"
   ]
  },
  {
   "cell_type": "code",
   "execution_count": 11,
   "metadata": {},
   "outputs": [
    {
     "data": {
      "text/plain": [
       "array([-6.20622947, -7.32980863, -7.23264147, -7.85531781, -6.91388678,\n",
       "       -6.41388426, -5.93576637, -5.27404281, -5.39576267, -5.39437558,\n",
       "       -5.91036065, -5.91095847])"
      ]
     },
     "execution_count": 11,
     "metadata": {},
     "output_type": "execute_result"
    }
   ],
   "source": [
    "atomic_data[:,4]"
   ]
  },
  {
   "cell_type": "code",
   "execution_count": 27,
   "metadata": {},
   "outputs": [
    {
     "data": {
      "text/plain": [
       "array([-10.51306256, -12.69052216, -13.48896537, -14.69440176,\n",
       "       -11.87340373, -10.94058547, -10.3957795 ,  -8.24772397,\n",
       "        -8.47002033,  -8.46562752,  -9.52475082,  -9.52861404])"
      ]
     },
     "execution_count": 27,
     "metadata": {},
     "output_type": "execute_result"
    }
   ],
   "source": [
    "alchpots_lam1[:,4]"
   ]
  }
 ],
 "metadata": {
  "kernelspec": {
   "display_name": "Python [conda env:atomic-energies]",
   "language": "python",
   "name": "conda-env-atomic-energies-py"
  },
  "language_info": {
   "codemirror_mode": {
    "name": "ipython",
    "version": 3
   },
   "file_extension": ".py",
   "mimetype": "text/x-python",
   "name": "python",
   "nbconvert_exporter": "python",
   "pygments_lexer": "ipython3",
   "version": "3.7.3"
  }
 },
 "nbformat": 4,
 "nbformat_minor": 4
}
