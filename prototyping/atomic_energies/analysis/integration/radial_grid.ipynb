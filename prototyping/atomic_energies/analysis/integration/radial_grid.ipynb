{
 "cells": [
  {
   "cell_type": "code",
   "execution_count": null,
   "metadata": {},
   "outputs": [],
   "source": [
    "# how big is radial grid?\n",
    "# one grid for all atoms?"
   ]
  },
  {
   "cell_type": "code",
   "execution_count": 1,
   "metadata": {},
   "outputs": [],
   "source": [
    "import sys \n",
    "sys.path.insert(0,'/home/misa/git_repositories/APDFT/prototyping/atomic_energies')\n",
    "import alchemy_tools2 as at\n",
    "import alchemy_tools_pyscf as atp\n",
    "\n",
    "from explore_qml_data import shift2center\n",
    "from parse_pyscf import read_input\n",
    "\n",
    "import pyscf.dft\n",
    "import os\n",
    "import qml\n",
    "import numpy as np\n",
    "import ase.units"
   ]
  },
  {
   "cell_type": "code",
   "execution_count": 2,
   "metadata": {},
   "outputs": [],
   "source": [
    "run_dir = '/home/misa/projects/Atomic-Energies/data/vacuum_reference/qm9_data/dsgdb9nsd_001212'  #os.getcwd()\n",
    "basis = 'def2-qzvp'\n",
    "com = qml.Compound(xyz=os.path.join(run_dir, 'dsgdb9nsd_001212.xyz'))\n",
    "coords_shifted = shift2center(com.coordinates, np.array([10.0, 10, 10]))\n",
    "com.coordinates = coords_shifted"
   ]
  },
  {
   "cell_type": "code",
   "execution_count": 3,
   "metadata": {},
   "outputs": [],
   "source": [
    "num_elec = atp.get_num_elec(1.0, com.nuclear_charges.sum())\n",
    "deltaZ, includeonly, mol = atp.prepare_input(com.coordinates, com.nuclear_charges, num_elec, basis)"
   ]
  },
  {
   "cell_type": "code",
   "execution_count": 4,
   "metadata": {},
   "outputs": [
    {
     "data": {
      "text/plain": [
       "<pyscf.dft.gen_grid.Grids at 0x7fb411af2278>"
      ]
     },
     "execution_count": 4,
     "metadata": {},
     "output_type": "execute_result"
    }
   ],
   "source": [
    "grid = pyscf.dft.gen_grid.Grids(mol)\n",
    "grid.level = 8\n",
    "grid.build()"
   ]
  },
  {
   "cell_type": "markdown",
   "metadata": {},
   "source": [
    "#### Size of grid"
   ]
  },
  {
   "cell_type": "code",
   "execution_count": 5,
   "metadata": {},
   "outputs": [],
   "source": [
    "min_max = dict()\n",
    "for i in range(3):\n",
    "    min_max[i] = (np.amin(grid.coords[:,i]), np.amax(grid.coords[:,i]))"
   ]
  },
  {
   "cell_type": "code",
   "execution_count": 6,
   "metadata": {},
   "outputs": [
    {
     "data": {
      "text/plain": [
       "{0: (-6.23153934849012, 42.31071464666762),\n",
       " 1: (-5.841047830568526, 42.75118229745031),\n",
       " 2: (-1.1032326571954876, 38.88660708691812)}"
      ]
     },
     "execution_count": 6,
     "metadata": {},
     "output_type": "execute_result"
    }
   ],
   "source": [
    "min_max"
   ]
  },
  {
   "cell_type": "markdown",
   "metadata": {},
   "source": [
    "#### Get grid points in unit cell"
   ]
  },
  {
   "cell_type": "code",
   "execution_count": 7,
   "metadata": {},
   "outputs": [],
   "source": [
    "idc_x = np.where((0<grid.coords[:,0]) & (grid.coords[:,0]<20/ase.units.Bohr))\n",
    "idc_y = np.where((0<grid.coords[:,1]) & (grid.coords[:,1]<20/ase.units.Bohr))\n",
    "idc_z = np.where((0<grid.coords[:,2]) & (grid.coords[:,2]<20/ase.units.Bohr))\n",
    "\n",
    "intersection_xy = np.intersect1d(idc_x, idc_y)\n",
    "intersection = np.intersect1d(intersection_xy, idc_z)"
   ]
  },
  {
   "cell_type": "code",
   "execution_count": 8,
   "metadata": {},
   "outputs": [],
   "source": [
    "grid_coords_box = grid.coords[intersection]"
   ]
  },
  {
   "cell_type": "code",
   "execution_count": 9,
   "metadata": {},
   "outputs": [],
   "source": [
    "min_max_box = dict()\n",
    "for i in range(3):\n",
    "    min_max_box[i] = (np.amin(grid_coords_box[:,i]), np.amax(grid_coords_box[:,i]))"
   ]
  },
  {
   "cell_type": "code",
   "execution_count": 10,
   "metadata": {},
   "outputs": [
    {
     "data": {
      "text/plain": [
       "{0: (0.012973391117558464, 37.793849478117515),\n",
       " 1: (0.027765931197146543, 37.78478136156957),\n",
       " 2: (0.1548256840893778, 37.63695150808833)}"
      ]
     },
     "execution_count": 10,
     "metadata": {},
     "output_type": "execute_result"
    }
   ],
   "source": [
    "min_max_box"
   ]
  },
  {
   "cell_type": "markdown",
   "metadata": {},
   "source": [
    "#### wrap up in function and compare result to above"
   ]
  },
  {
   "cell_type": "code",
   "execution_count": 11,
   "metadata": {},
   "outputs": [],
   "source": [
    "bp = [[0, 20/ase.units.Bohr], [0, 20/ase.units.Bohr], [0, 20/ase.units.Bohr]]"
   ]
  },
  {
   "cell_type": "code",
   "execution_count": 12,
   "metadata": {},
   "outputs": [],
   "source": [
    "idc = at.get_idc_bl_grid_in_box(grid.coords, bp)"
   ]
  },
  {
   "cell_type": "code",
   "execution_count": 13,
   "metadata": {},
   "outputs": [
    {
     "data": {
      "text/plain": [
       "True"
      ]
     },
     "execution_count": 13,
     "metadata": {},
     "output_type": "execute_result"
    }
   ],
   "source": [
    "np.array_equal(intersection, idc)"
   ]
  },
  {
   "cell_type": "code",
   "execution_count": 16,
   "metadata": {},
   "outputs": [],
   "source": [
    "grid_coords_box2 = grid.coords[idc]"
   ]
  },
  {
   "cell_type": "code",
   "execution_count": 17,
   "metadata": {},
   "outputs": [],
   "source": [
    "min_max_box2 = dict()\n",
    "for i in range(3):\n",
    "    min_max_box2[i] = (np.amin(grid_coords_box2[:,i]), np.amax(grid_coords_box2[:,i]))"
   ]
  },
  {
   "cell_type": "code",
   "execution_count": 18,
   "metadata": {},
   "outputs": [
    {
     "data": {
      "text/plain": [
       "{0: (0.012973391117558464, 37.793849478117515),\n",
       " 1: (0.027765931197146543, 37.78478136156957),\n",
       " 2: (0.1548256840893778, 37.63695150808833)}"
      ]
     },
     "execution_count": 18,
     "metadata": {},
     "output_type": "execute_result"
    }
   ],
   "source": [
    "min_max_box2"
   ]
  }
 ],
 "metadata": {
  "kernelspec": {
   "display_name": "Python 3 (ipykernel)",
   "language": "python",
   "name": "python3"
  },
  "language_info": {
   "codemirror_mode": {
    "name": "ipython",
    "version": 3
   },
   "file_extension": ".py",
   "mimetype": "text/x-python",
   "name": "python",
   "nbconvert_exporter": "python",
   "pygments_lexer": "ipython3",
   "version": "3.9.13"
  }
 },
 "nbformat": 4,
 "nbformat_minor": 4
}
