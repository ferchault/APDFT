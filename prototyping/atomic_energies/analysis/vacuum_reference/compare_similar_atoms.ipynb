{
 "cells": [
  {
   "cell_type": "code",
   "execution_count": 1,
   "metadata": {},
   "outputs": [],
   "source": [
    "import numpy as np\n",
    "import os\n",
    "from matplotlib import pyplot as plt"
   ]
  },
  {
   "cell_type": "code",
   "execution_count": 2,
   "metadata": {},
   "outputs": [],
   "source": [
    "def get_energy(lam_vals, alchemical_potentials, nuc_rep, e_homos, dZ, dN, int_rule = 'simp'):\n",
    "    if int_rule == 'simp':\n",
    "        mu_I = sc.integrate.simps(alchemical_potentials, lam_vals)\n",
    "    elif int_rule == 'trapz':\n",
    "        mu_I = get_alchpot_int(lam_vals, alchemical_potentials)\n",
    "    e_homo = np.trapz(e_homos, lam_vals)\n",
    "    \n",
    "    return((mu_I * dZ).sum() + e_homo*dN + nuc_rep)\n",
    "\n",
    "def get_alchpot_int(lam_vals, alchpots):\n",
    "    av_alchpots = []\n",
    "    for i in range(alchpots.shape[1]):\n",
    "        mu_I = np.trapz(alchpots[:,i], lam_vals)\n",
    "        av_alchpots.append(mu_I)\n",
    "    return(np.array(av_alchpots))\n",
    "\n",
    "def get_num_occupied(mo_occupancies):\n",
    "    return(np.where(mo_occupancies != 0)[0].shape[0])\n",
    "def get_homo(mo_energies, num_occupied):\n",
    "    mo_energies.sort()\n",
    "    e_homo = mo_energies[num_occupied-1]\n",
    "    return(e_homo)\n",
    "def wrapper_get_e_homos(mo_energies, mo_occupancies):\n",
    "    e_homos = []\n",
    "    for moe, moo in zip (mo_energies, mo_occupancies):\n",
    "        num_occ = get_num_occupied(moo)\n",
    "        ehomo = get_homo(moe, num_occ)\n",
    "        e_homos.append(ehomo)\n",
    "    return(np.array(e_homos))"
   ]
  },
  {
   "cell_type": "code",
   "execution_count": 19,
   "metadata": {},
   "outputs": [],
   "source": [
    "base = '/home/misa/projects/Atomic-Energies/data/vacuum_reference/qm9_data/dsgdb9nsd_003664'\n",
    "\n",
    "lam_vals = np.loadtxt(os.path.join(base, 'lam_vals.txt'))\n",
    "lam_vals = np.concatenate((np.array([0]), lam_vals))\n",
    "\n",
    "lam_vals = np.concatenate((lam_vals[0:-5], lam_vals[-4:]))\n",
    "\n",
    "alchpots = np.load(os.path.join(base, 'alchpots.npy'))\n",
    "zero = np.zeros(shape=(1,alchpots.shape[1]))\n",
    "alchpots = np.concatenate((zero, alchpots), axis = 0)\n",
    "\n",
    "alchpots = np.concatenate((alchpots[0:-5], alchpots[-4:]))\n",
    "\n",
    "mo_energies = np.load(os.path.join(base, 'mo_energies.npy'))\n",
    "mo_occupancies = np.load(os.path.join(base, 'mo_occupancies.npy'))\n",
    "\n",
    "e_homos = wrapper_get_e_homos(mo_energies, mo_occupancies)\n",
    "e_homos = np.concatenate((np.array([0]), e_homos))\n",
    "e_homos = np.concatenate((e_homos[0:-5], e_homos[-4:]))\n",
    "\n",
    "deltaZ = np.array([-6., -6., -6., -8., -6., -7., -7., -1., -1., -1., -1., -1., -1.])*(-1)\n",
    "nuc_rep = 295.8829146919174\n",
    "\n",
    "e_tot = get_energy(lam_vals, alchpots, nuc_rep, e_homos, deltaZ, 52, int_rule = 'trapz')\n",
    "e_tot_ref = -338.832955289696"
   ]
  },
  {
   "cell_type": "code",
   "execution_count": 17,
   "metadata": {},
   "outputs": [
    {
     "data": {
      "text/plain": [
       "(26, 13)"
      ]
     },
     "execution_count": 17,
     "metadata": {},
     "output_type": "execute_result"
    }
   ],
   "source": []
  },
  {
   "cell_type": "code",
   "execution_count": 20,
   "metadata": {},
   "outputs": [],
   "source": [
    "base = '/home/misa/projects/Atomic-Energies/data/vacuum_reference/qm9_data/dsgdb9nsd_003700'\n",
    "\n",
    "lam_vals2 = np.loadtxt(os.path.join(base, 'lam_vals.txt'))\n",
    "lam_vals2 = np.concatenate((np.array([0]), lam_vals2))\n",
    "lam_vals2 = np.concatenate((lam_vals2[0:-5], lam_vals2[-4:]))\n",
    "\n",
    "alchpots2 = np.load(os.path.join(base, 'alchpots.npy'))\n",
    "zero = np.zeros(shape=(1,alchpots2.shape[1]))\n",
    "alchpots2 = np.concatenate((zero, alchpots2), axis = 0)\n",
    "alchpots2 = np.concatenate((alchpots2[0:-5], alchpots2[-4:]))\n",
    "\n",
    "mo_energies2 = np.load(os.path.join(base, 'mo_energies.npy'))\n",
    "mo_occupancies2 = np.load(os.path.join(base, 'mo_occupancies.npy'))\n",
    "\n",
    "e_homos2 = wrapper_get_e_homos(mo_energies2, mo_occupancies2)\n",
    "e_homos2 = np.concatenate((np.array([0]), e_homos2))\n",
    "e_homos2 = np.concatenate((e_homos2[0:-5], e_homos2[-4:]))\n",
    "\n",
    "deltaZ2 = np.array([-6., -6., -7., -7., -6., -6., -8., -1., -1., -1., -1., -1., -1.])*(-1)\n",
    "nuc_rep2 = 296.16228280307075\n",
    "\n",
    "e_tot2 = get_energy(lam_vals2, alchpots2, nuc_rep2, e_homos2, deltaZ2, 52, int_rule = 'trapz')\n",
    "e_tot_ref2 = -338.83313291715"
   ]
  },
  {
   "cell_type": "code",
   "execution_count": 21,
   "metadata": {},
   "outputs": [
    {
     "data": {
      "text/plain": [
       "0.014895348935908714"
      ]
     },
     "execution_count": 21,
     "metadata": {},
     "output_type": "execute_result"
    }
   ],
   "source": [
    "e_tot2-e_tot"
   ]
  },
  {
   "cell_type": "code",
   "execution_count": 22,
   "metadata": {},
   "outputs": [
    {
     "data": {
      "text/plain": [
       "-0.00017762745403615554"
      ]
     },
     "execution_count": 22,
     "metadata": {},
     "output_type": "execute_result"
    }
   ],
   "source": [
    "e_tot_ref2 - e_tot_ref"
   ]
  },
  {
   "cell_type": "code",
   "execution_count": 48,
   "metadata": {},
   "outputs": [
    {
     "data": {
      "text/plain": [
       "array([ 0.        , -0.21315456, -0.21871318, -0.30612959, -0.30467182,\n",
       "       -0.36572967, -0.29421216, -0.29067443, -0.08645424, -0.14804921,\n",
       "       -0.19180091, -0.23348217, -0.24759725, -0.24705073, -0.28929068,\n",
       "       -0.25292794, -0.27014908, -0.30663324, -0.29891229, -0.31755249,\n",
       "       -0.32762148, -0.36366663, -0.35854755, -0.40948008, -0.3295494 ,\n",
       "       -0.31364798])"
      ]
     },
     "execution_count": 48,
     "metadata": {},
     "output_type": "execute_result"
    }
   ],
   "source": [
    "e_homos"
   ]
  },
  {
   "cell_type": "code",
   "execution_count": 52,
   "metadata": {},
   "outputs": [
    {
     "data": {
      "text/plain": [
       "<matplotlib.legend.Legend at 0x7f2ba828fef0>"
      ]
     },
     "execution_count": 52,
     "metadata": {},
     "output_type": "execute_result"
    },
    {
     "data": {
      "image/png": "[encoded data removed]",
      "text/plain": [
       "<Figure size 432x288 with 1 Axes>"
      ]
     },
     "metadata": {
      "needs_background": "light"
     },
     "output_type": "display_data"
    }
   ],
   "source": [
    "plt.rcParams['font.size'] = 20\n",
    "plt.plot(lam_vals,e_homos, label='M1')\n",
    "plt.plot(lam_vals2,e_homos2, label='M2')\n",
    "plt.xlabel(r'$\\lambda$')\n",
    "plt.ylabel(r'$\\varepsilon_{\\rm h}$ (Ha)')\n",
    "plt.legend()"
   ]
  },
  {
   "cell_type": "code",
   "execution_count": 45,
   "metadata": {},
   "outputs": [
    {
     "data": {
      "text/plain": [
       "<matplotlib.legend.Legend at 0x7f2ba86a9940>"
      ]
     },
     "execution_count": 45,
     "metadata": {},
     "output_type": "execute_result"
    },
    {
     "data": {
      "image/png": "[encoded data removed]",
      "text/plain": [
       "<Figure size 432x288 with 1 Axes>"
      ]
     },
     "metadata": {
      "needs_background": "light"
     },
     "output_type": "display_data"
    }
   ],
   "source": [
    "plt.rcParams['font.size'] = 20\n",
    "plt.plot(lam_vals,alchpots[:,3], '-o', label='M1 O')\n",
    "plt.plot(lam_vals2,alchpots2[:,6], '--o', label='M2 O')\n",
    "plt.xlabel(r'$\\lambda$')\n",
    "plt.ylabel(r'$\\mu_I$ (Ha)')\n",
    "plt.legend()"
   ]
  },
  {
   "cell_type": "code",
   "execution_count": null,
   "metadata": {},
   "outputs": [],
   "source": [
    "deltaZ = np.array([-6., -6., -6., -8., -6., -7., -7., -1., -1., -1., -1., -1., -1.])*(-1)\n",
    "deltaZ2 = np.array([-6., -6., -7., -7., -6., -6., -8., -1., -1., -1., -1., -1., -1.])*(-1)\n"
   ]
  }
 ],
 "metadata": {
  "kernelspec": {
   "display_name": "Python [conda env:atomic-energies]",
   "language": "python",
   "name": "conda-env-atomic-energies-py"
  },
  "language_info": {
   "codemirror_mode": {
    "name": "ipython",
    "version": 3
   },
   "file_extension": ".py",
   "mimetype": "text/x-python",
   "name": "python",
   "nbconvert_exporter": "python",
   "pygments_lexer": "ipython3",
   "version": "3.7.3"
  }
 },
 "nbformat": 4,
 "nbformat_minor": 4
}
