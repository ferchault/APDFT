{
 "cells": [
  {
   "cell_type": "markdown",
   "metadata": {},
   "source": [
    "\n",
    "- call run_pyscf for all of them via slurm\n",
    "\n",
    "which python is used?\n",
    "in which directory is python called?\n",
    "\n",
    "sbatch shell-script\n",
    "\n",
    "shell-script:\n",
    "python path_to/run_pyscf.py\n"
   ]
  },
  {
   "cell_type": "code",
   "execution_count": 11,
   "metadata": {},
   "outputs": [
    {
     "name": "stdout",
     "output_type": "stream",
     "text": [
      "Initializing\n"
     ]
    }
   ],
   "source": [
    "import sys\n",
    "sys.path.insert(0,'/home/misa/git_repositories/APDFT/prototyping/atomic_energies')\n",
    "import alchemy_tools_pyscf as atp\n",
    "from parse_pyscf import read_input\n",
    "import qml\n",
    "import numpy as np\n",
    "import os\n",
    "import utils_qm as uqm\n",
    "\n",
    "# get current directory\n",
    "\n",
    "run_dir = '/home/misa/projects/Atomic-Energies/data/vacuum_reference/qm9_data/dsgdb9nsd_003664'\n",
    "#run_dir = '/home/misa/projects/Atomic-Energies/data/vacuum_reference/qm9_data/dsgdb9nsd_001711'  #os.getcwd()\n",
    "os.chdir(run_dir)\n",
    "print('Initializing')\n",
    "input_parameters = read_input(os.path.join(run_dir, 'input_parameters'))\n",
    "inputfile = input_parameters['structure_file']#os.path.join(basepath, com+'.xyz')\n",
    "intg_meth = input_parameters['intg_meth']\n",
    "basis = input_parameters['basis'] # 'def2-qzvp'\n",
    "com = qml.Compound(xyz=inputfile)\n",
    "\n",
    "lam_vals = np.array([2, 27, 54])/54#np.arange(2, 54, 2)/52\n",
    "#lam_vals = np.concatenate((np.zeros(1), lam_vals))\n",
    "alchemical_potentials = []\n",
    "#alchemical_potentials.append(np.zeros(len(com.nuclear_charges)).tolist())\n",
    "mo_energies = []\n",
    "mo_occs = []\n",
    "dm_restart = None"
   ]
  },
  {
   "cell_type": "code",
   "execution_count": 12,
   "metadata": {},
   "outputs": [],
   "source": [
    "deltaZ, includeonly, mol = atp.prepare_input(com.coordinates, com.nuclear_charges, 0, basis)"
   ]
  },
  {
   "cell_type": "code",
   "execution_count": 13,
   "metadata": {},
   "outputs": [
    {
     "data": {
      "text/plain": [
       "295.8829146919174"
      ]
     },
     "execution_count": 13,
     "metadata": {},
     "output_type": "execute_result"
    }
   ],
   "source": [
    "mol.energy_nuc()"
   ]
  },
  {
   "cell_type": "code",
   "execution_count": 1,
   "metadata": {},
   "outputs": [
    {
     "name": "stdout",
     "output_type": "stream",
     "text": [
      "Initializing\n",
      "Doing calculation for lambda = 0.037037037037037035, number of electrons = 2\n",
      "Preparing input\n",
      "Doing SCF calculation\n"
     ]
    },
    {
     "name": "stderr",
     "output_type": "stream",
     "text": [
      "Overwritten attributes  energy_nuc  of <class 'pyscf.qmmm.itrf.qmmm_for_scf.<locals>.QMMM'>\n",
      "/home/misa/anaconda3/envs/atomic-energies/lib/python3.7/site-packages/pyscf/gto/mole.py:1047: UserWarning: Function mol.dumps drops attribute charge because it is not JSON-serializable\n",
      "  warnings.warn(msg)\n"
     ]
    },
    {
     "name": "stdout",
     "output_type": "stream",
     "text": [
      "converged SCF energy = -0.228154223327322\n",
      "Calculating alchemical potentials\n",
      "Doing calculation for lambda = 0.5, number of electrons = 28\n",
      "Preparing input\n",
      "Doing SCF calculation\n",
      "converged SCF energy = -71.089986690246\n",
      "Calculating alchemical potentials\n",
      "Doing calculation for lambda = 1.0, number of electrons = 54\n",
      "Preparing input\n",
      "Doing SCF calculation\n",
      "converged SCF energy = -338.557417346826\n",
      "Calculating alchemical potentials\n",
      "Saving results\n"
     ]
    }
   ],
   "source": [
    "import sys\n",
    "sys.path.insert(0,'/home/misa/git_repositories/APDFT/prototyping/atomic_energies')\n",
    "import alchemy_tools_pyscf as atp\n",
    "from parse_pyscf import read_input\n",
    "import qml\n",
    "import numpy as np\n",
    "import os\n",
    "import utils_qm as uqm\n",
    "\n",
    "# get current directory\n",
    "\n",
    "run_dir = '/home/misa/projects/Atomic-Energies/data/vacuum_reference/qm9_data/dsgdb9nsd_005352'\n",
    "#run_dir = '/home/misa/projects/Atomic-Energies/data/vacuum_reference/qm9_data/dsgdb9nsd_001711'  #os.getcwd()\n",
    "os.chdir(run_dir)\n",
    "print('Initializing')\n",
    "input_parameters = read_input(os.path.join(run_dir, 'input_parameters'))\n",
    "inputfile = input_parameters['structure_file']#os.path.join(basepath, com+'.xyz')\n",
    "intg_meth = input_parameters['intg_meth']\n",
    "basis = input_parameters['basis'] # 'def2-qzvp'\n",
    "com = qml.Compound(xyz=inputfile)\n",
    "\n",
    "lam_vals = np.array([2, 27, 54])/54#np.arange(2, 54, 2)/52\n",
    "#lam_vals = np.concatenate((np.zeros(1), lam_vals))\n",
    "alchemical_potentials = []\n",
    "#alchemical_potentials.append(np.zeros(len(com.nuclear_charges)).tolist())\n",
    "mo_energies = []\n",
    "mo_occs = []\n",
    "dm_restart = None\n",
    "\n",
    "# print('Starting calculations')\n",
    "for lam in lam_vals: #np.flip(lam_vals)[:-1]:\n",
    "    num_elec = atp.get_num_elec(lam, com.nuclear_charges.sum())\n",
    "    print(f'Doing calculation for lambda = {lam}, number of electrons = {num_elec}')\n",
    "    print('Preparing input')\n",
    "    deltaZ, includeonly, mol = atp.prepare_input(com.coordinates, com.nuclear_charges, num_elec, basis)\n",
    "    print('Doing SCF calculation')\n",
    "    dm, e_tot, mo_energy, mo_occ = atp.make_apdft_calc(deltaZ, dm_restart, includeonly, mol, method = \"HF\", **{'max_cycle':300, 'init_guess':'atom'})\n",
    "#     dm_restart = dm\n",
    "    mo_energies.append(mo_energy)\n",
    "    mo_occs.append(mo_occ)\n",
    "    print('Calculating alchemical potentials')\n",
    "    alchpots_lambda = atp.calculate_alchpot(dm, includeonly, mol)\n",
    "    alchemical_potentials.append(alchpots_lambda) \n",
    "#   saving results\n",
    "    uqm.save_obj(alchemical_potentials, os.path.join(run_dir, 'alchemical_potentials_tmp'))\n",
    "    uqm.save_obj(mo_energies, os.path.join(run_dir, 'mo_energies_tmp'))\n",
    "    uqm.save_obj(mo_occs, os.path.join(run_dir, 'mo_occupancies_tmp'))\n",
    "    uqm.save_obj(lam_vals[:np.where(lam_vals==lam)[0][0]+1], os.path.join(run_dir, 'lam_vals_tmp'))\n",
    "    \n",
    "alchemical_potentials = np.array(alchemical_potentials)\n",
    "# average_potentials = atp.calculate_average_alchpots(alchemical_potentials, lam_vals, intg_meth)\n",
    "\n",
    "print('Saving results')\n",
    "# save alchemical_potentials\n",
    "file_raw = os.path.join(run_dir, 'alchpots')\n",
    "np.save(file_raw, alchemical_potentials, allow_pickle=False)\n",
    "# save mo energies\n",
    "file_moen = os.path.join(run_dir, 'mo_energies')\n",
    "np.save(file_moen, mo_energies, allow_pickle=False)\n",
    "# save mo occupancies\n",
    "file_moocc = os.path.join(run_dir, 'mo_occupancies')\n",
    "np.save(file_moocc, mo_occs, allow_pickle=False)\n",
    "# save lam_vals\n",
    "np.savetxt(os.path.join(run_dir, 'lam_vals.txt'),lam_vals)"
   ]
  },
  {
   "cell_type": "code",
   "execution_count": null,
   "metadata": {},
   "outputs": [],
   "source": [
    "alchemical_potentials"
   ]
  },
  {
   "cell_type": "code",
   "execution_count": null,
   "metadata": {},
   "outputs": [],
   "source": [
    "np.load('alchpots.npy')"
   ]
  },
  {
   "cell_type": "code",
   "execution_count": null,
   "metadata": {},
   "outputs": [],
   "source": [
    "# single lambda"
   ]
  },
  {
   "cell_type": "code",
   "execution_count": null,
   "metadata": {},
   "outputs": [],
   "source": [
    "np.where(52*lam_vals==34)"
   ]
  },
  {
   "cell_type": "code",
   "execution_count": null,
   "metadata": {},
   "outputs": [],
   "source": [
    "0.6538461538461539*52"
   ]
  },
  {
   "cell_type": "code",
   "execution_count": null,
   "metadata": {},
   "outputs": [],
   "source": [
    "import sys\n",
    "sys.path.insert(0,'/home/misa/git_repositories/APDFT/prototyping/atomic_energies')\n",
    "import alchemy_tools_pyscf as atp\n",
    "from parse_pyscf import read_input\n",
    "import qml\n",
    "import numpy as np\n",
    "import os\n",
    "\n",
    "# get current directory\n",
    "run_dir = '/home/misa/projects/Atomic-Energies/data/vacuum_reference/qm9_data/dsgdb9nsd_001212'  #os.getcwd()\n",
    "os.chdir(run_dir)\n",
    "#print('Initializing')\n",
    "input_parameters = read_input(os.path.join(run_dir, 'input_parameters'))\n",
    "inputfile = input_parameters['structure_file']#os.path.join(basepath, com+'.xyz')\n",
    "intg_meth = input_parameters['intg_meth']\n",
    "basis = input_parameters['basis'] # 'def2-qzvp'\n",
    "com = qml.Compound(xyz=inputfile)\n",
    "\n",
    "lam_vals = np.arange(2, 54, 2)/52\n",
    "lam_vals = np.concatenate((np.zeros(1), lam_vals))\n",
    "alchemical_potentials = []\n",
    "alchemical_potentials.append(np.zeros(len(com.nuclear_charges)).tolist())\n",
    "mo_energies = []\n",
    "mo_occs = []\n",
    "dm_restart = None\n",
    "\n",
    "#print('Starting calculations')\n",
    "for lam in lam_vals[17:18]: #np.flip(lam_vals)[:-1]:\n",
    "    print(lam)\n",
    "    num_elec = atp.get_num_elec(lam, com.nuclear_charges.sum())\n",
    "    #print('Preparing input')\n",
    "    deltaZ, includeonly, mol = atp.prepare_input(com.coordinates, com.nuclear_charges, num_elec, basis)\n",
    "    #print('Doing SCF calculation')\n",
    "    dm, e_tot, mo_energy, mo_occ = atp.make_apdft_calc(deltaZ, dm_restart, includeonly, mol, method = \"HF\", **{'max_cycle':300, 'diis':True, 'init_guess': '1e'})\n",
    "    #dm_restart = dm\n",
    "    mo_energies.append(mo_energy)\n",
    "    mo_occs.append(mo_occ)\n",
    "    #print('Calculating alchemical potentials')\n",
    "    alchpots_lambda = atp.calculate_alchpot(dm, includeonly, mol)\n",
    "    alchemical_potentials.append(alchpots_lambda)"
   ]
  },
  {
   "cell_type": "code",
   "execution_count": null,
   "metadata": {},
   "outputs": [],
   "source": [
    "# run_dir = '/home/misa/projects/Atomic-Energies/data/vacuum_reference/qm9_data/dsgdb9nsd_001212'"
   ]
  },
  {
   "cell_type": "code",
   "execution_count": null,
   "metadata": {},
   "outputs": [],
   "source": [
    "# file_raw = os.path.join(run_dir, 'alchpots_ig_atom.npy')\n",
    "# alchemical_potentials_loaded = np.load(file_raw)\n",
    "\n",
    "# # save mo energies\n",
    "# file_moen = os.path.join(run_dir, 'mo_energies_ig_atom.npy')\n",
    "# mo_en_loaded = np.load(file_moen)\n",
    "# # save mo occupancies\n",
    "# file_moocc = os.path.join(run_dir, 'mo_occupancies_ig_atom.npy')\n",
    "# mo_occ_loaded = np.load(file_moocc)"
   ]
  },
  {
   "cell_type": "code",
   "execution_count": null,
   "metadata": {},
   "outputs": [],
   "source": [
    "# alchemical_potentials_loaded[17] = alchemical_potentials[1]"
   ]
  },
  {
   "cell_type": "code",
   "execution_count": null,
   "metadata": {},
   "outputs": [],
   "source": [
    "# mo_en_loaded[16] = mo_energies[0]"
   ]
  },
  {
   "cell_type": "code",
   "execution_count": null,
   "metadata": {},
   "outputs": [],
   "source": [
    "# # save alchemical_potentials\n",
    "# file_raw = os.path.join(run_dir, 'alchpots_ig_atom')\n",
    "# np.save(file_raw, alchemical_potentials_loaded, allow_pickle=False)\n",
    "# # save mo energies\n",
    "# file_moen = os.path.join(run_dir, 'mo_energies_ig_atom')\n",
    "# np.save(file_moen, mo_en_loaded, allow_pickle=False)"
   ]
  },
  {
   "cell_type": "code",
   "execution_count": null,
   "metadata": {},
   "outputs": [],
   "source": []
  }
 ],
 "metadata": {
  "kernelspec": {
   "display_name": "Python [conda env:atomic-energies]",
   "language": "python",
   "name": "conda-env-atomic-energies-py"
  },
  "language_info": {
   "codemirror_mode": {
    "name": "ipython",
    "version": 3
   },
   "file_extension": ".py",
   "mimetype": "text/x-python",
   "name": "python",
   "nbconvert_exporter": "python",
   "pygments_lexer": "ipython3",
   "version": "3.7.3"
  }
 },
 "nbformat": 4,
 "nbformat_minor": 4
}
