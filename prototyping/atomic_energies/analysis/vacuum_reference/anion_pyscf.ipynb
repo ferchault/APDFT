{
 "cells": [
  {
   "cell_type": "code",
   "execution_count": 1,
   "metadata": {},
   "outputs": [],
   "source": [
    "import sys\n",
    "sys.path.insert(0,'/home/misa/git_repositories/APDFT/prototyping/atomic_energies')\n",
    "from parse_pyscf import read_input\n",
    "import qml\n",
    "import numpy as np\n",
    "import os\n",
    "import utils_qm as uqm\n",
    "from ase import units\n",
    "import pyscf.qmmm"
   ]
  },
  {
   "cell_type": "code",
   "execution_count": 2,
   "metadata": {},
   "outputs": [],
   "source": [
    "def make_apdft_calc(deltaZ, includeonly, mol, method, **kwargs):\n",
    "    \"\"\"\n",
    "    SCF calculation for fractional charges defined in deltaZ\n",
    "    returns the density matrix and the total energy\n",
    "    \"\"\"\n",
    "    \n",
    "    if 'verbose' in kwargs.keys():\n",
    "        verbose = kwargs['verbose']\n",
    "    else:\n",
    "        verbose = 0\n",
    "    \n",
    "    \n",
    "    if method == \"HF\":\n",
    "        calc = add_qmmm(pyscf.scf.RHF(mol), deltaZ, includeonly, mol)\n",
    "        for k in kwargs.keys():\n",
    "            if k == 'max_cycle':\n",
    "                calc.max_cycle = kwargs[k]\n",
    "            elif k == 'diis':\n",
    "                calc.diis = kwargs[k]\n",
    "            elif k == 'init_guess':\n",
    "                calc.init_guess = kwargs[k]\n",
    "\n",
    "        \n",
    "    elif method == \"DFT\":\n",
    "        calc = add_qmmm(pyscf.dft.RKS(mol), deltaZ, includeonly, mol)\n",
    "        calc.xc = 'lda,vwn'\n",
    "        for k in kwargs.keys():\n",
    "            if k == 'max_cycle':\n",
    "                calc.max_cycle = kwargs[k]\n",
    "            elif k == 'diis':\n",
    "                calc.diis = kwargs[k]\n",
    "            elif k == 'init_guess':\n",
    "                calc.init_guess = kwargs[k]\n",
    "    hfe = calc.kernel(verbose=verbose)\n",
    "    dm1_ao = calc.make_rdm1()\n",
    "    total_energy = calc.e_tot\n",
    "\n",
    "    return(dm1_ao, total_energy, calc.mo_energy, calc.mo_occ)\n",
    "\n",
    "def add_qmmm(calc, deltaZ, includeonly, mol):\n",
    "    \"\"\"\n",
    "    modify hamiltonian such that Z = Z(lambda)\n",
    "    \"\"\"\n",
    "    mf = pyscf.qmmm.mm_charge(calc, mol.atom_coords()[includeonly]*units.Bohr, deltaZ) # add charge dZ at position of nuclei\n",
    "\n",
    "    def energy_nuc(self):\n",
    "        \"\"\"\n",
    "        calculate correct nuclear charge for modified system\n",
    "        \"\"\"\n",
    "        q = mol.atom_charges().astype(np.float)\n",
    "        q[includeonly] += deltaZ\n",
    "        return mol.energy_nuc(q)\n",
    "\n",
    "    mf.energy_nuc = energy_nuc.__get__(mf, mf.__class__)\n",
    "\n",
    "    return mf"
   ]
  },
  {
   "cell_type": "code",
   "execution_count": 3,
   "metadata": {},
   "outputs": [
    {
     "name": "stdout",
     "output_type": "stream",
     "text": [
      "Initializing\n"
     ]
    }
   ],
   "source": [
    "# get current directory\n",
    "run_dir = '/home/misa/projects/Atomic-Energies/data/vacuum_reference/qm9_data/dsgdb9nsd_003664'\n",
    "#run_dir = '/home/misa/projects/Atomic-Energies/data/vacuum_reference/qm9_data/dsgdb9nsd_001711'  #os.getcwd()\n",
    "os.chdir(run_dir)\n",
    "print('Initializing')\n",
    "input_parameters = read_input(os.path.join(run_dir, 'input_parameters'))\n",
    "inputfile = input_parameters['structure_file']#os.path.join(basepath, com+'.xyz')\n",
    "intg_meth = input_parameters['intg_meth']\n",
    "basis = 'augccpvtz'#input_parameters['basis'] # 'def2-qzvp'\n",
    "com = qml.Compound(xyz=inputfile)\n",
    "\n",
    "#lam_vals = np.concatenate((np.zeros(1), lam_vals))\n",
    "alchemical_potentials = []\n",
    "#alchemical_potentials.append(np.zeros(len(com.nuclear_charges)).tolist())\n",
    "mo_energies = []\n",
    "mo_occs = []\n",
    "dm_restart = None"
   ]
  },
  {
   "cell_type": "code",
   "execution_count": 4,
   "metadata": {},
   "outputs": [],
   "source": [
    "mol = pyscf.gto.Mole()\n",
    "for ch, coords_atom in zip(com.nuclear_charges, com.coordinates):\n",
    "    mol.atom.append([ch, coords_atom])\n",
    "mol.basis = basis\n",
    "mol.build()\n",
    "# dZ vector to generate systems for lambda != 1\n",
    "deltaZ = com.nuclear_charges*0.95-com.nuclear_charges\n",
    "includeonly = np.arange(len(mol.atom_coords()))"
   ]
  },
  {
   "cell_type": "code",
   "execution_count": 5,
   "metadata": {},
   "outputs": [
    {
     "name": "stderr",
     "output_type": "stream",
     "text": [
      "Overwritten attributes  energy_nuc  of <class 'pyscf.qmmm.itrf.qmmm_for_scf.<locals>.QMMM'>\n"
     ]
    },
    {
     "name": "stdout",
     "output_type": "stream",
     "text": [
      "SCF not converged.\n",
      "SCF energy = -299.01516389061\n"
     ]
    }
   ],
   "source": [
    "dm1_ao, total_energy, mo_energy, mo_occ = make_apdft_calc(deltaZ, includeonly, mol, \"DFT\", **{'init_guess':'atom'})"
   ]
  },
  {
   "cell_type": "code",
   "execution_count": null,
   "metadata": {},
   "outputs": [],
   "source": [
    "len(np.where(mo_energy < 0)[0])*2"
   ]
  },
  {
   "cell_type": "code",
   "execution_count": null,
   "metadata": {},
   "outputs": [],
   "source": []
  },
  {
   "cell_type": "code",
   "execution_count": null,
   "metadata": {},
   "outputs": [],
   "source": [
    "mo_occ.sum()"
   ]
  },
  {
   "cell_type": "code",
   "execution_count": null,
   "metadata": {},
   "outputs": [],
   "source": [
    "dm1_ao.shape"
   ]
  }
 ],
 "metadata": {
  "kernelspec": {
   "display_name": "Python [conda env:atomic-energies]",
   "language": "python",
   "name": "conda-env-atomic-energies-py"
  },
  "language_info": {
   "codemirror_mode": {
    "name": "ipython",
    "version": 3
   },
   "file_extension": ".py",
   "mimetype": "text/x-python",
   "name": "python",
   "nbconvert_exporter": "python",
   "pygments_lexer": "ipython3",
   "version": "3.7.3"
  }
 },
 "nbformat": 4,
 "nbformat_minor": 4
}
