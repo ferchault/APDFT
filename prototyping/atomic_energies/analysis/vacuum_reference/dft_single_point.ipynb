{
 "cells": [
  {
   "cell_type": "code",
   "execution_count": 13,
   "metadata": {},
   "outputs": [],
   "source": [
    "from pyscf import gto, dft\n",
    "import numpy as np\n",
    "import os\n",
    "import qml\n",
    "\n",
    "import sys\n",
    "sys.path.insert(0, '/home/misa/git_repositories/APDFT/prototyping/atomic_energies/')\n",
    "from alchemy_tools_pyscf import calculate_alchpot\n",
    "from parse_pyscf import read_input"
   ]
  },
  {
   "cell_type": "code",
   "execution_count": 14,
   "metadata": {},
   "outputs": [],
   "source": [
    "os.environ[\"OMP_NUM_THREADS\"] = \"4\" # export OMP_NUM_THREADS=4\n",
    "os.environ[\"OPENBLAS_NUM_THREADS\"] = \"4\" # export OPENBLAS_NUM_THREADS=4 \n",
    "os.environ[\"MKL_NUM_THREADS\"] = \"4\" # export MKL_NUM_THREADS=6\n",
    "os.environ[\"VECLIB_MAXIMUM_THREADS\"] = \"4\" # export VECLIB_MAXIMUM_THREADS=4\n",
    "os.environ[\"NUMEXPR_NUM_THREADS\"] = \"4\" # export NUMEXPR_NUM_THREADS=6"
   ]
  },
  {
   "cell_type": "code",
   "execution_count": 15,
   "metadata": {},
   "outputs": [],
   "source": [
    "# read input file\n",
    "run_dir = '/home/misa/projects/Atomic-Energies/data/vacuum_reference/alchpot_lambda1/dsgdb9nsd_000293/'#sys.argv[1]\n",
    "os.chdir(run_dir)\n",
    "input_parameters = read_input(os.path.join(run_dir, 'input_parameters'))\n",
    "inputfile = input_parameters['structure_file']\n",
    "basis =  'def2tzvp'#input_parameters['basis'] \n",
    "com = qml.Compound(xyz=inputfile)\n",
    "# create mol object and set up calculation\n",
    "mol = gto.Mole()\n",
    "for ch, coords_atom in zip(com.nuclear_charges, com.coordinates):\n",
    "    mol.atom.append([ch, coords_atom])\n",
    "mol.basis = basis\n",
    "mol.verbose = 1\n",
    "mol.build()\n",
    "includeonly = np.arange(len(mol.atom_coords())) # necessary for alchpot function"
   ]
  },
  {
   "cell_type": "code",
   "execution_count": 16,
   "metadata": {},
   "outputs": [
    {
     "data": {
      "text/plain": [
       "-306.45539831479743"
      ]
     },
     "execution_count": 16,
     "metadata": {},
     "output_type": "execute_result"
    }
   ],
   "source": [
    "# run SCF-calculation\n",
    "mf = dft.RKS(mol)\n",
    "mf.xc = 'lda,vwn'\n",
    "mf.kernel()"
   ]
  },
  {
   "cell_type": "code",
   "execution_count": 17,
   "metadata": {},
   "outputs": [],
   "source": [
    "# calculate the alchemical potentials\n",
    "dm1_ao = mf.make_rdm1()\n",
    "alchpots = calculate_alchpot(dm1_ao, includeonly, mol)"
   ]
  },
  {
   "cell_type": "code",
   "execution_count": null,
   "metadata": {},
   "outputs": [],
   "source": []
  },
  {
   "cell_type": "code",
   "execution_count": 18,
   "metadata": {},
   "outputs": [],
   "source": [
    "ap2 = np.load('/home/misa/projects/Atomic-Energies/data/vacuum_reference/alchpot_lambda1/dsgdb9nsd_000293/alchpots.npy')"
   ]
  },
  {
   "cell_type": "code",
   "execution_count": 19,
   "metadata": {},
   "outputs": [
    {
     "data": {
      "text/plain": [
       "array([ 3.55271368e-15,  1.42108547e-14, -1.77635684e-14,  7.10542736e-15,\n",
       "       -5.32907052e-14,  0.00000000e+00,  8.88178420e-15,  1.77635684e-15,\n",
       "       -7.10542736e-15,  1.59872116e-14, -1.95399252e-14,  5.32907052e-15,\n",
       "       -7.10542736e-15, -3.55271368e-15, -3.55271368e-15, -1.24344979e-14])"
      ]
     },
     "execution_count": 19,
     "metadata": {},
     "output_type": "execute_result"
    }
   ],
   "source": [
    "alchpots-ap2"
   ]
  }
 ],
 "metadata": {
  "kernelspec": {
   "display_name": "Python [conda env:qm-tools] *",
   "language": "python",
   "name": "conda-env-qm-tools-py"
  },
  "language_info": {
   "codemirror_mode": {
    "name": "ipython",
    "version": 3
   },
   "file_extension": ".py",
   "mimetype": "text/x-python",
   "name": "python",
   "nbconvert_exporter": "python",
   "pygments_lexer": "ipython3",
   "version": "3.8.5"
  }
 },
 "nbformat": 4,
 "nbformat_minor": 4
}
