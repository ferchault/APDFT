{
 "cells": [
  {
   "cell_type": "code",
   "execution_count": 1,
   "metadata": {},
   "outputs": [],
   "source": [
    "from pyscf import gto, dft\n",
    "import numpy as np\n",
    "import os\n",
    "import qml\n",
    "\n",
    "import sys\n",
    "sys.path.insert(0, '/home/misa/git_repositories/APDFT/prototyping/atomic_energies/')\n",
    "from alchemy_tools_pyscf import calculate_alchpot\n",
    "from parse_pyscf import read_input"
   ]
  },
  {
   "cell_type": "code",
   "execution_count": 2,
   "metadata": {},
   "outputs": [],
   "source": [
    "os.environ[\"OMP_NUM_THREADS\"] = \"4\" # export OMP_NUM_THREADS=4\n",
    "os.environ[\"OPENBLAS_NUM_THREADS\"] = \"4\" # export OPENBLAS_NUM_THREADS=4 \n",
    "os.environ[\"MKL_NUM_THREADS\"] = \"4\" # export MKL_NUM_THREADS=6\n",
    "os.environ[\"VECLIB_MAXIMUM_THREADS\"] = \"4\" # export VECLIB_MAXIMUM_THREADS=4\n",
    "os.environ[\"NUMEXPR_NUM_THREADS\"] = \"4\" # export NUMEXPR_NUM_THREADS=6"
   ]
  },
  {
   "cell_type": "code",
   "execution_count": 6,
   "metadata": {},
   "outputs": [],
   "source": [
    "# read input file\n",
    "run_dir = sys.argv[1]\n",
    "os.chdir(run_dir)\n",
    "input_parameters = read_input(os.path.join(run_dir, 'input_parameters'))\n",
    "inputfile = input_parameters['structure_file']\n",
    "basis =  'def2tzvp'#input_parameters['basis'] \n",
    "com = qml.Compound(xyz=inputfile)\n",
    "# create mol object and set up calculation\n",
    "mol = gto.Mole()\n",
    "for ch, coords_atom in zip(com.nuclear_charges, com.coordinates):\n",
    "    mol.atom.append([ch, coords_atom])\n",
    "mol.basis = basis\n",
    "mol.verbose = 1\n",
    "mol.build()\n",
    "includeonly = np.arange(len(mol.atom_coords())) # necessary for alchpot function"
   ]
  },
  {
   "cell_type": "code",
   "execution_count": 7,
   "metadata": {},
   "outputs": [
    {
     "data": {
      "text/plain": [
       "-337.66688962233036"
      ]
     },
     "execution_count": 7,
     "metadata": {},
     "output_type": "execute_result"
    }
   ],
   "source": [
    "# run SCF-calculation\n",
    "mf = dft.RKS(mol)\n",
    "mf.xc = 'lda,vwn'\n",
    "mf.kernel()"
   ]
  },
  {
   "cell_type": "code",
   "execution_count": 8,
   "metadata": {},
   "outputs": [],
   "source": [
    "# calculate the alchemical potentials\n",
    "dm1_ao = mf.make_rdm1()\n",
    "alchpots = calculate_alchpot(dm1_ao, includeonly, mol)"
   ]
  }
 ],
 "metadata": {
  "kernelspec": {
   "display_name": "Python [conda env:atomic-energies]",
   "language": "python",
   "name": "conda-env-atomic-energies-py"
  },
  "language_info": {
   "codemirror_mode": {
    "name": "ipython",
    "version": 3
   },
   "file_extension": ".py",
   "mimetype": "text/x-python",
   "name": "python",
   "nbconvert_exporter": "python",
   "pygments_lexer": "ipython3",
   "version": "3.7.3"
  }
 },
 "nbformat": 4,
 "nbformat_minor": 4
}
