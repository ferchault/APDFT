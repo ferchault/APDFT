{
 "cells": [
  {
   "cell_type": "code",
   "execution_count": 1,
   "metadata": {},
   "outputs": [
    {
     "name": "stderr",
     "output_type": "stream",
     "text": [
      "In /home/misa/anaconda3/envs/atomic-energies/lib/python3.7/site-packages/matplotlib/mpl-data/stylelib/_classic_test.mplstyle: \n",
      "The text.latex.preview rcparam was deprecated in Matplotlib 3.3 and will be removed two minor releases later.\n",
      "In /home/misa/anaconda3/envs/atomic-energies/lib/python3.7/site-packages/matplotlib/mpl-data/stylelib/_classic_test.mplstyle: \n",
      "The mathtext.fallback_to_cm rcparam was deprecated in Matplotlib 3.3 and will be removed two minor releases later.\n",
      "In /home/misa/anaconda3/envs/atomic-energies/lib/python3.7/site-packages/matplotlib/mpl-data/stylelib/_classic_test.mplstyle: Support for setting the 'mathtext.fallback_to_cm' rcParam is deprecated since 3.3 and will be removed two minor releases later; use 'mathtext.fallback : 'cm' instead.\n",
      "In /home/misa/anaconda3/envs/atomic-energies/lib/python3.7/site-packages/matplotlib/mpl-data/stylelib/_classic_test.mplstyle: \n",
      "The validate_bool_maybe_none function was deprecated in Matplotlib 3.3 and will be removed two minor releases later.\n",
      "In /home/misa/anaconda3/envs/atomic-energies/lib/python3.7/site-packages/matplotlib/mpl-data/stylelib/_classic_test.mplstyle: \n",
      "The savefig.jpeg_quality rcparam was deprecated in Matplotlib 3.3 and will be removed two minor releases later.\n",
      "In /home/misa/anaconda3/envs/atomic-energies/lib/python3.7/site-packages/matplotlib/mpl-data/stylelib/_classic_test.mplstyle: \n",
      "The keymap.all_axes rcparam was deprecated in Matplotlib 3.3 and will be removed two minor releases later.\n",
      "In /home/misa/anaconda3/envs/atomic-energies/lib/python3.7/site-packages/matplotlib/mpl-data/stylelib/_classic_test.mplstyle: \n",
      "The animation.avconv_path rcparam was deprecated in Matplotlib 3.3 and will be removed two minor releases later.\n",
      "In /home/misa/anaconda3/envs/atomic-energies/lib/python3.7/site-packages/matplotlib/mpl-data/stylelib/_classic_test.mplstyle: \n",
      "The animation.avconv_args rcparam was deprecated in Matplotlib 3.3 and will be removed two minor releases later.\n"
     ]
    }
   ],
   "source": [
    "import numpy as np\n",
    "import ase\n",
    "import glob\n",
    "from matplotlib import pyplot as plt\n",
    "\n",
    "import pandas as pd\n",
    "import sys\n",
    "sys.path.insert(0, '/home/misa/git_repositories/APDFT/prototyping/atomic_energies/')\n",
    "import utils_qm as uqm\n",
    "from parse_density_files import CUBE\n",
    "import alchemy_tools2 as at\n",
    "from ase.units import Bohr\n",
    "from explore_qml_data import get_num_val_elec\n",
    "import os\n",
    "from pyscf import gto, scf, mp, cc, dft"
   ]
  },
  {
   "cell_type": "code",
   "execution_count": null,
   "metadata": {},
   "outputs": [],
   "source": [
    "def get_EI_el(lam_vals, alchpots, nuc_charges):\n",
    "    \"\"\"\n",
    "    inetgrate over tilde rho with respect to lambda\n",
    "    \"\"\"\n",
    "    EI_el = []\n",
    "    for i in range(len(nuc_charges)):\n",
    "        EI_el.append(np.trapz(alchpots[:, i], lam_vals)*nuc_charges[i])\n",
    "    return(np.array(EI_el))\n",
    "\n",
    "def get_e_npbc(nuc_charges, positions):\n",
    "    atom = []\n",
    "    for a, c in zip(nuc_charges, positions*Bohr):\n",
    "        atom.append([int(a), tuple(c)])\n",
    "\n",
    "    mol = gto.Mole()\n",
    "    mol.verbose = 0\n",
    "    #mol.output = 'H2_{}.log'.format(d)\n",
    "    mol.atom = atom\n",
    "    mol.basis = 'def2tzvp'\n",
    "    mol.build()\n",
    "\n",
    "    # PBE\n",
    "    mdft = dft.RKS(mol)\n",
    "    mdft.xc = 'pbe'\n",
    "    e_pbe = mdft.kernel()\n",
    "    \n",
    "    return(e_pbe)\n",
    "\n",
    "def get_lambda(paths):\n",
    "    lam_vals = []\n",
    "    for p in paths:\n",
    "        if 'DENSITY' in p:\n",
    "            lam_vals.append(float(p.split('/')[-2][3:]))\n",
    "        else:\n",
    "            lam_vals.append(float(p.split('/')[-1].split('.')[0][3:]))\n",
    "    \n",
    "    lam_vals = np.array(lam_vals)\n",
    "    lam_vals = lam_vals/lam_vals[-1]\n",
    "    return(lam_vals)\n",
    "\n",
    "def read_cube_data(paths_cubes):\n",
    "    \"\"\"\n",
    "    returns the data necessary to calculate the atomic energies from the cube-files\n",
    "    for different lambda values\n",
    "    \n",
    "    paths_cubes: paths to cubes files\n",
    "    densities: densities given in different cube files\n",
    "    lam_vals: lambda value for cube file, obtained by parsing filename\n",
    "    nuclei: charges and coordinates of the nuclei\n",
    "    gpts: the gridpoints where density values are given\n",
    "    \"\"\"\n",
    "    \n",
    "    densities = []\n",
    "    nuclei = None # nuclear charges and their positions\n",
    "    gpts = None # gridpoints where density values are given\n",
    "    h_matrix = np.zeros((3,3)) # needed for the calculation of the distance of the nuclei to the gridpoints with MIC\n",
    "    \n",
    "    for idx, path in enumerate(paths_cubes):\n",
    "        cube = CUBE(path)\n",
    "        \n",
    "        densities.append(cube.data_scaled) # density\n",
    "        \n",
    "        fname = os.path.split(path)[1] # lambda value\n",
    "        fname = fname.split('.')[0]\n",
    "        total_ve = get_num_val_elec(cube.atoms[:, 0])\n",
    "        # check if integrates to correct number of electrons\n",
    "        if not np.isclose(cube.data_scaled.sum(), total_ve):\n",
    "            print(f'{path} does not integrate to correct num_ve')\n",
    "        \n",
    "        if idx==len(paths_cubes)-1:\n",
    "            nuclei = cube.atoms\n",
    "            gpts = cube.get_grid()\n",
    "            h_matrix = [cube.X*cube.NX, cube.Y*cube.NY, cube.Z*cube.NZ]\n",
    "    \n",
    "    return(densities, nuclei, gpts, h_matrix)\n",
    "\n",
    "def save_data(alchpots, densities, e_el, e_tot, e_npbc, e_scaled, fname, lam_vals, nuclei):\n",
    "    \"\"\"\n",
    "        alchpots: 2D array, one row contain alchpots at one lambda value for all atoms in same order as specified in nuclei\n",
    "        the lambda value increases with each row from 0 to 1\n",
    "\n",
    "        e_el: atomic electronic energy obtained by integration along lambda for every atom in nuclei\n",
    "\n",
    "        e_tot: addition of nuclear repulsion to e_el\n",
    "\n",
    "        e_npbc: energy of a single point pbe calculation without pbc for the same configuration as specified in nuclei\n",
    "\n",
    "        e_scaled: shift of e_tot such that the sum of the atomic energies is equal to the energy of e_nbpc\n",
    "    \"\"\"\n",
    "    data = {'alchpots':alchpots, 'densities':densities, 'e_el':e_el, 'e_tot':e_tot, 'e_nbpc':e_npbc, 'e_scaled':e_scaled, 'lam_vals':lam_vals, 'nuclei':nuclei}\n",
    "    uqm.save_obj(data, fname)\n",
    "\n",
    "def scale_EI(e_alch, e_npbc, nuc_charges):\n",
    "    shift = (e_npbc - e_alch.sum())/nuc_charges.sum()\n",
    "    EI_scaled = []\n",
    "    for e, z in zip(e_alch, nuc_charges):\n",
    "        EI_scaled.append(e + z*shift)\n",
    "    return(np.array(EI_scaled))\n",
    "\n",
    "def wrapper_alchpots(densities, nuclei, meshgrid, h_matrix):\n",
    "    \"\"\"\n",
    "    integrate electron density over r for single lambda values\n",
    "    \"\"\"\n",
    "    alchpots = []\n",
    "    for d in densities:\n",
    "        out = at.calculate_atomic_energies(d, nuclei, meshgrid, h_matrix, intg_method = 'sum')\n",
    "        alchpots.append(out[2])\n",
    "    return(np.array(alchpots))\n",
    "\n",
    "def wrapper_read_data(paths):\n",
    "    # load data, parameters\n",
    "\n",
    "    densities, nuclei, gpts, hmatrix = read_cube_data(paths)\n",
    "    \n",
    "    # get density of ueg\n",
    "    num_ve = get_num_val_elec(nuclei[:, 0])\n",
    "    ueg = np.zeros(gpts[0].shape)\n",
    "    ueg[:] = num_ve/gpts[0].shape[0]**3\n",
    "    assert np.isclose(ueg.sum(), num_ve), 'wrong ueg'\n",
    "    densities.insert(0, ueg)\n",
    "\n",
    "\n",
    "    lam_vals = get_lambda(paths)\n",
    "    lam_vals = np.insert(lam_vals, 0, 0.0)\n",
    "    \n",
    "    lamval_copy = lam_vals.copy()\n",
    "    lam_vals.sort()\n",
    "    assert np.array_equal(lamval_copy, lam_vals), 'wrong sorting'\n",
    "    \n",
    "    return(densities, gpts, hmatrix, lam_vals, nuclei)"
   ]
  },
  {
   "cell_type": "code",
   "execution_count": null,
   "metadata": {},
   "outputs": [],
   "source": [
    "def atoms_wrapper(amon):\n",
    "    \"\"\"\n",
    "    item of amon dict\n",
    "    \"\"\"\n",
    "    coords = []\n",
    "    elements = ''\n",
    "    for line in amon[2:]:\n",
    "        el, x, y, z = line.split()\n",
    "        coords.append([float(x),float(y),float(z)])\n",
    "        elements += el\n",
    "    \n",
    "    atoms_object = ase.Atoms(elements, coords)\n",
    "    return(atoms_object)\n",
    "\n",
    "amons_dict = uqm.load_obj('/home/misa/datasets/amons_qm9_11k/unique_amons_dict')\n",
    "butanol_text = amons_dict['CCCCO']\n",
    "butanol = atoms_wrapper(butanol_text)"
   ]
  },
  {
   "cell_type": "code",
   "execution_count": null,
   "metadata": {},
   "outputs": [],
   "source": [
    "basepath = '/home/misa/projects/Atomic-Energies/data/ueg_reference/amons'\n",
    "\n",
    "compounds = ['amon_000001', 'amon_000010', 'amon_000036', 'amon_000138']\n",
    "\n",
    "for comp in compounds:\n",
    "    cube_dir = f'/home/misa/projects/Atomic-Energies/data/ueg_reference/amons/{comp}/cube-files'\n",
    "    fname = f'/home/misa/projects/Atomic-Energies/data/ueg_reference/amons/{comp}/results.dict'\n",
    "    paths = glob.glob(os.path.join(cube_dir, '*.cube'))\n",
    "    paths.sort()\n",
    "    densities, gpts, hmatrix, lam_vals, nuclei = wrapper_read_data(paths)\n",
    "    alchpots = wrapper_alchpots(densities, nuclei, gpts, hmatrix)\n",
    "    e_el = get_EI_el(lam_vals, alchpots, nuclei[:,0])\n",
    "    e_tot = e_el + at.nuclear_repulsion(nuclei[:,0], nuclei[:,1:])\n",
    "    e_npbc = 0 # get_e_npbc(nuclei[:,0], nuclei[:,1:])\n",
    "    e_scaled = scale_EI(e_tot, e_npbc, nuclei[:,0])\n",
    "    save_data(alchpots, densities, e_el, e_tot, e_npbc, e_scaled, fname, lam_vals, nuclei)"
   ]
  },
  {
   "cell_type": "code",
   "execution_count": null,
   "metadata": {},
   "outputs": [],
   "source": [
    "e_el"
   ]
  },
  {
   "cell_type": "code",
   "execution_count": null,
   "metadata": {},
   "outputs": [],
   "source": []
  },
  {
   "cell_type": "markdown",
   "metadata": {},
   "source": [
    "### $\\mu(r)$"
   ]
  },
  {
   "cell_type": "code",
   "execution_count": 2,
   "metadata": {},
   "outputs": [],
   "source": [
    "def get_mu_r(n_pos, grid, hmatrix, rho_tilde, radii):\n",
    "    dist = at.distance_MIC2(n_pos, grid, hmatrix)\n",
    "    \n",
    "    mu_r = []\n",
    "    \n",
    "    g_r = []\n",
    "    for i in radii:\n",
    "        rho_tmp = rho_tilde.copy()\n",
    "        # set dens = 0 if distance > threshold\n",
    "        rho_tmp[np.where(dist>i)] = 0.0\n",
    "        \n",
    "        mu_r.append(-(rho_tmp/dist).sum())\n",
    "        \n",
    "    mu_r = np.array(mu_r)\n",
    "    \n",
    "    return(mu_r)\n",
    "\n",
    "def get_der_mu_r(r, mu_r):\n",
    "    der_y = []\n",
    "    der_x = []\n",
    "    for i in range(1, len(mu_r)):\n",
    "        der_x.append((r[i]+r[i-1])/2)\n",
    "        der_y.append((mu_r[i]-mu_r[i-1])/(r[i]-r[i-1]))\n",
    "    return(der_x, der_y)"
   ]
  },
  {
   "cell_type": "code",
   "execution_count": 43,
   "metadata": {},
   "outputs": [],
   "source": [
    "basepath = '/home/misa/projects/Atomic-Energies/data/ueg_reference/amons/amon_000036'"
   ]
  },
  {
   "cell_type": "code",
   "execution_count": 44,
   "metadata": {},
   "outputs": [],
   "source": [
    "cube = CUBE(f'{basepath}/cube-files/ve_08.cube')"
   ]
  },
  {
   "cell_type": "code",
   "execution_count": 45,
   "metadata": {},
   "outputs": [],
   "source": [
    "results = uqm.load_obj(f'{basepath}/results.dict')"
   ]
  },
  {
   "cell_type": "code",
   "execution_count": 47,
   "metadata": {},
   "outputs": [
    {
     "data": {
      "text/plain": [
       "array([[ 6.      , 12.84911 , 14.820297, 15.406939],\n",
       "       [ 6.      , 15.269319, 16.409079, 15.435377]])"
      ]
     },
     "execution_count": 47,
     "metadata": {},
     "output_type": "execute_result"
    }
   ],
   "source": [
    "results['nuclei'][0:2]"
   ]
  },
  {
   "cell_type": "code",
   "execution_count": 48,
   "metadata": {},
   "outputs": [],
   "source": [
    "# calculate rho tilde\n",
    "rho_tilde = np.trapz(results['densities'], results['lam_vals'], axis=0)\n",
    "\n",
    "# get grid\n",
    "grid = cube.get_grid()\n",
    "hmatrix = cube.get_hmatrix()\n",
    "n_pos = results['nuclei'][1, 1:]\n",
    "\n",
    "r_i = 0.1\n",
    "r_f = 12\n",
    "step = 0.2\n",
    "\n",
    "mus = []\n",
    "ders = []\n",
    "for n in results['nuclei'][0:2]:\n",
    "    pos = n[1:]\n",
    "    radii = np.arange(r_i, r_f, step)\n",
    "\n",
    "    mu = get_mu_r(pos, grid, hmatrix, rho_tilde, radii)\n",
    "    der_x, der_y = get_der_mu_r(radii, mu)\n",
    "    mus.append(mu)\n",
    "    ders.append([der_x, der_y])\n",
    "    \n",
    "uqm.save_obj(mus, os.path.join(basepath, 'mu_r'))\n",
    "uqm.save_obj(ders, os.path.join(basepath, 'd_mu_r'))"
   ]
  },
  {
   "cell_type": "code",
   "execution_count": 49,
   "metadata": {},
   "outputs": [],
   "source": [
    "mus = uqm.load_obj(os.path.join(basepath, 'mu_r'))\n",
    "ders = uqm.load_obj(os.path.join(basepath, 'd_mu_r'))"
   ]
  },
  {
   "cell_type": "code",
   "execution_count": 50,
   "metadata": {},
   "outputs": [
    {
     "data": {
      "image/png": "[encoded data removed]",
      "text/plain": [
       "<Figure size 432x288 with 1 Axes>"
      ]
     },
     "metadata": {
      "needs_background": "light"
     },
     "output_type": "display_data"
    }
   ],
   "source": [
    "#radii = np.arange(0.5, 30, 0.7)\n",
    "radii = np.arange(r_i, r_f, step)\n",
    "\n",
    "for m in mus:\n",
    "    plt.plot(radii, m)"
   ]
  },
  {
   "cell_type": "code",
   "execution_count": 51,
   "metadata": {},
   "outputs": [
    {
     "data": {
      "image/png": "[encoded data removed]",
      "text/plain": [
       "<Figure size 432x288 with 1 Axes>"
      ]
     },
     "metadata": {
      "needs_background": "light"
     },
     "output_type": "display_data"
    }
   ],
   "source": [
    "for d in ders:\n",
    "    plt.plot(d[0], d[1])"
   ]
  }
 ],
 "metadata": {
  "kernelspec": {
   "display_name": "Python [conda env:atomic-energies]",
   "language": "python",
   "name": "conda-env-atomic-energies-py"
  },
  "language_info": {
   "codemirror_mode": {
    "name": "ipython",
    "version": 3
   },
   "file_extension": ".py",
   "mimetype": "text/x-python",
   "name": "python",
   "nbconvert_exporter": "python",
   "pygments_lexer": "ipython3",
   "version": "3.7.10"
  }
 },
 "nbformat": 4,
 "nbformat_minor": 4
}
