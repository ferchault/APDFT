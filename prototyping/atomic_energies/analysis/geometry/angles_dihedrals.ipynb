{
 "cells": [
  {
   "cell_type": "code",
   "execution_count": 2,
   "metadata": {},
   "outputs": [],
   "source": [
    "from pyscf import gto, scf, mp, cc, dft\n",
    "import numpy as np\n",
    "import ase\n",
    "import ase.visualize\n",
    "\n",
    "from matplotlib import pyplot as plt\n",
    "\n",
    "import pandas as pd\n",
    "import os\n",
    "import sys\n",
    "sys.path.insert(0, '/home/misa/git_repositories/APDFT/prototyping/atomic_energies/')\n",
    "import utils_qm as uqm"
   ]
  },
  {
   "cell_type": "code",
   "execution_count": 3,
   "metadata": {},
   "outputs": [],
   "source": [
    "def atoms_wrapper(amon):\n",
    "    \"\"\"\n",
    "    item of amon dict\n",
    "    \"\"\"\n",
    "    coords = []\n",
    "    elements = ''\n",
    "    for line in amon[2:]:\n",
    "        el, x, y, z = line.split()\n",
    "        coords.append([float(x),float(y),float(z)])\n",
    "        elements += el\n",
    "    \n",
    "    atoms_object = ase.Atoms(elements, coords)\n",
    "    return(atoms_object)"
   ]
  },
  {
   "cell_type": "code",
   "execution_count": null,
   "metadata": {},
   "outputs": [],
   "source": [
    "amons_dict = uqm.load_obj('/home/misa/datasets/amons_qm9_11k/unique_amons_dict')\n",
    "ethane_text = amons_dict['CC']\n",
    "ethane = atoms_wrapper(ethane_text)"
   ]
  },
  {
   "cell_type": "markdown",
   "metadata": {},
   "source": [
    "### Dihedrals"
   ]
  },
  {
   "cell_type": "code",
   "execution_count": null,
   "metadata": {},
   "outputs": [],
   "source": [
    "ethane_dihedrals = ethane.copy()"
   ]
  },
  {
   "cell_type": "code",
   "execution_count": null,
   "metadata": {},
   "outputs": [],
   "source": [
    "# HCCH dihedral\n",
    "print(ethane_dihedrals.get_dihedral(2, 0, 1, 7))  # staggered conformation\n",
    "initial_dihedral = ethane_dihedrals.get_dihedral(2, 0, 1, 7)\n",
    "\n",
    "conformers = dict()\n",
    "conformers['angle_0'] = ethane_dihedrals\n",
    "for d in np.linspace(10, 60, 6):\n",
    "    new_conformer = ethane_dihedrals.copy()\n",
    "    new_conformer.set_dihedral(2,0,1,7, initial_dihedral+d, indices=[5,6,7])\n",
    "    conformers[f'angle_{d}'] = new_conformer\n",
    "    print(conformers[f'angle_{d}'].get_dihedral(2, 0, 1, 7))\n",
    "    basepath = '/home/misa/projects/atomic-energies/data/ueg_reference/amons/geometry/dihedrals/ethane'\n",
    "    path = os.path.join(basepath, f'dihe_{d}')\n",
    "    filename = os.path.join(path, f'ethane_dihe_{d}.xyz')\n",
    "    os.makedirs(path, exist_ok=True)\n",
    "    ase.io.write(filename, new_conformer, format='xyz')"
   ]
  },
  {
   "cell_type": "markdown",
   "metadata": {},
   "source": [
    "## Angles"
   ]
  },
  {
   "cell_type": "code",
   "execution_count": 6,
   "metadata": {},
   "outputs": [],
   "source": [
    "def distort_angles(molecule, distortions, angle_indices, basepath, comp_name):\n",
    "    mols = []\n",
    "    for i, d in enumerate(distortions):\n",
    "        mol_distorted = molecule.copy()\n",
    "        mol_distorted.set_angle(angle_indices[0], angle_indices[1],angle_indices[2], angle=d, add = True)\n",
    "        #basepath = '/home/misa/projects/atomic-energies/data/ueg_reference/amons/geometry/angles/water'\n",
    "        path = os.path.join(basepath, f'ang_{d}')\n",
    "        filename = os.path.join(path, f'{comp_name}_ang_{d}.xyz')\n",
    "        os.makedirs(path, exist_ok=True)\n",
    "        print(f'angle = {mol_distorted.get_angle(angle_indices[0], angle_indices[1],angle_indices[2])}')\n",
    "        ase.io.write(filename, mol_distorted, format='xyz')\n",
    "\n",
    "        mols.append(mol_distorted)\n",
    "        if d < 0 and distortions[i+1]>0:\n",
    "            mols.append(molecule)\n",
    "    return(mols)"
   ]
  },
  {
   "cell_type": "markdown",
   "metadata": {},
   "source": [
    "#### water"
   ]
  },
  {
   "cell_type": "code",
   "execution_count": 4,
   "metadata": {},
   "outputs": [],
   "source": [
    "amons_dict = uqm.load_obj('/home/misa/datasets/amons_qm9_11k/unique_amons_dict')\n",
    "H2O_text = amons_dict['O']\n",
    "H2O = atoms_wrapper(H2O_text)"
   ]
  },
  {
   "cell_type": "code",
   "execution_count": 7,
   "metadata": {},
   "outputs": [
    {
     "name": "stdout",
     "output_type": "stream",
     "text": [
      "angle = 97.98244129552215\n",
      "angle = 99.98244129552215\n",
      "angle = 101.98244129552215\n",
      "angle = 105.98244129552216\n",
      "angle = 107.98244129552215\n",
      "angle = 109.98244129552215\n"
     ]
    }
   ],
   "source": [
    "d_angle = np.array([-6,-4,-2,2,4,6]) # angle distortion\n",
    "basepath = '/home/misa/projects/atomic-energies/data/ueg_reference/amons/geometry/angles/water'\n",
    "comp_name = 'water'\n",
    "mols = distort_angles(H2O, d_angle, [0,2,1], basepath, comp_name)"
   ]
  },
  {
   "cell_type": "code",
   "execution_count": 8,
   "metadata": {},
   "outputs": [],
   "source": [
    "e_pbe = []\n",
    "\n",
    "for m in mols:\n",
    "\n",
    "    atom = []\n",
    "    for a, c in zip(m.get_chemical_symbols(), m.get_positions()):\n",
    "        atom.append([a, c])\n",
    "\n",
    "    mol = gto.Mole()\n",
    "    mol.verbose = 0\n",
    "    #mol.output = 'H2_{}.log'.format(d)\n",
    "    mol.atom = atom\n",
    "    mol.basis = 'def2tzvp'\n",
    "    mol.build()\n",
    "\n",
    "    # PBE\n",
    "    mdft = dft.RKS(mol)\n",
    "    mdft.xc = 'pbe'\n",
    "    e_pbe.append(mdft.kernel())"
   ]
  },
  {
   "cell_type": "code",
   "execution_count": 10,
   "metadata": {},
   "outputs": [
    {
     "data": {
      "text/plain": [
       "[-76.37576608662097,\n",
       " -76.37629301790399,\n",
       " -76.37661935499217,\n",
       " -76.3767512383946,\n",
       " -76.37669499330363,\n",
       " -76.37645716303831,\n",
       " -76.37604452653179]"
      ]
     },
     "execution_count": 10,
     "metadata": {},
     "output_type": "execute_result"
    }
   ],
   "source": [
    "e_pbe"
   ]
  },
  {
   "cell_type": "code",
   "execution_count": 9,
   "metadata": {},
   "outputs": [
    {
     "data": {
      "text/plain": [
       "[<matplotlib.lines.Line2D at 0x7f17bb565100>]"
      ]
     },
     "execution_count": 9,
     "metadata": {},
     "output_type": "execute_result"
    },
    {
     "data": {
      "image/png": "[encoded data removed]",
      "text/plain": [
       "<Figure size 432x288 with 1 Axes>"
      ]
     },
     "metadata": {
      "needs_background": "light"
     },
     "output_type": "display_data"
    }
   ],
   "source": [
    "angle=np.array([-6,-4,-2,0,2,4,6])+H2O.get_angle(0,2,1)\n",
    "plt.plot(angle,e_pbe, '-o')"
   ]
  },
  {
   "cell_type": "code",
   "execution_count": 10,
   "metadata": {},
   "outputs": [
    {
     "data": {
      "text/plain": [
       "[<matplotlib.lines.Line2D at 0x7feb647c0340>]"
      ]
     },
     "execution_count": 10,
     "metadata": {},
     "output_type": "execute_result"
    },
    {
     "data": {
      "image/png": "[encoded data removed]",
      "text/plain": [
       "<Figure size 432x288 with 1 Axes>"
      ]
     },
     "metadata": {
      "needs_background": "light"
     },
     "output_type": "display_data"
    }
   ],
   "source": [
    "angle=np.array([-6,-4,-2,0,2,4,6])+H2O.get_angle(0,2,1)\n",
    "plt.plot(angle,e_pbe, '-o')"
   ]
  },
  {
   "cell_type": "markdown",
   "metadata": {},
   "source": [
    "#### ethene"
   ]
  },
  {
   "cell_type": "code",
   "execution_count": 12,
   "metadata": {},
   "outputs": [],
   "source": [
    "amons_dict = uqm.load_obj('/home/misa/datasets/amons_qm9_11k/unique_amons_dict')\n",
    "ethene_text = amons_dict['C=C']\n",
    "ethene = atoms_wrapper(ethene_text)"
   ]
  },
  {
   "cell_type": "markdown",
   "metadata": {},
   "source": [
    "##### HCH"
   ]
  },
  {
   "cell_type": "code",
   "execution_count": 14,
   "metadata": {},
   "outputs": [
    {
     "name": "stdout",
     "output_type": "stream",
     "text": [
      "angle = 112.8076847480316\n",
      "angle = 114.80768474803162\n",
      "angle = 118.80768474803162\n",
      "angle = 120.80768474803162\n"
     ]
    }
   ],
   "source": [
    "#ethene.get_angle(2,0,3)\n",
    "d_angle = np.array([-4,-2,2,4]) # angle distortion\n",
    "basepath = '/home/misa/projects/atomic-energies/data/ueg_reference/amons/geometry/angles/ethene_HCH'\n",
    "comp_name = 'ethene_HCH'\n",
    "mols = distort_angles(ethene, d_angle, [2,0,3], basepath, comp_name)"
   ]
  },
  {
   "cell_type": "code",
   "execution_count": 15,
   "metadata": {},
   "outputs": [],
   "source": [
    "e_pbe = []\n",
    "\n",
    "for m in mols:\n",
    "\n",
    "    atom = []\n",
    "    for a, c in zip(m.get_chemical_symbols(), m.get_positions()):\n",
    "        atom.append([a, c])\n",
    "\n",
    "    mol = gto.Mole()\n",
    "    mol.verbose = 0\n",
    "    #mol.output = 'H2_{}.log'.format(d)\n",
    "    mol.atom = atom\n",
    "    mol.basis = 'def2tzvp'\n",
    "    mol.build()\n",
    "\n",
    "    # PBE\n",
    "    mdft = dft.RKS(mol)\n",
    "    mdft.xc = 'pbe'\n",
    "    e_pbe.append(mdft.kernel())"
   ]
  },
  {
   "cell_type": "code",
   "execution_count": 17,
   "metadata": {},
   "outputs": [
    {
     "data": {
      "text/plain": [
       "[<matplotlib.lines.Line2D at 0x7feaf0223ca0>]"
      ]
     },
     "execution_count": 17,
     "metadata": {},
     "output_type": "execute_result"
    },
    {
     "data": {
      "image/png": "[encoded data removed]",
      "text/plain": [
       "<Figure size 432x288 with 1 Axes>"
      ]
     },
     "metadata": {
      "needs_background": "light"
     },
     "output_type": "display_data"
    }
   ],
   "source": [
    "angle=np.array([-4,-2,0,2,4])+ethene.get_angle(2,0,3)\n",
    "plt.plot(angle,e_pbe, '-o')"
   ]
  },
  {
   "cell_type": "markdown",
   "metadata": {},
   "source": [
    "#### methane"
   ]
  },
  {
   "cell_type": "code",
   "execution_count": 40,
   "metadata": {},
   "outputs": [],
   "source": [
    "amons_dict = uqm.load_obj('/home/misa/datasets/amons_qm9_11k/unique_amons_dict')\n",
    "methane_text = amons_dict['C']\n",
    "methane = atoms_wrapper(methane_text)"
   ]
  },
  {
   "cell_type": "code",
   "execution_count": 45,
   "metadata": {},
   "outputs": [
    {
     "data": {
      "text/plain": [
       "109.46939307262795"
      ]
     },
     "execution_count": 45,
     "metadata": {},
     "output_type": "execute_result"
    }
   ],
   "source": [
    "methane.get_angle(0,4,1)"
   ]
  },
  {
   "cell_type": "code",
   "execution_count": 47,
   "metadata": {},
   "outputs": [
    {
     "name": "stdout",
     "output_type": "stream",
     "text": [
      "angle = 105.46939307262795\n",
      "angle = 107.46939307262795\n",
      "angle = 111.46939307262795\n",
      "angle = 113.46939307262795\n"
     ]
    }
   ],
   "source": [
    "indices = [0,4,1]\n",
    "d_angle = np.array([-4,-2,2,4]) # angle distortion\n",
    "basepath = '/home/misa/projects/atomic-energies/data/ueg_reference/amons/geometry/angles/methane_HCH'\n",
    "comp_name = 'methane_HCH'\n",
    "mols = distort_angles(methane, d_angle, indices, basepath, comp_name)"
   ]
  },
  {
   "cell_type": "code",
   "execution_count": 48,
   "metadata": {},
   "outputs": [],
   "source": [
    "e_pbe = []\n",
    "\n",
    "for m in mols:\n",
    "\n",
    "    atom = []\n",
    "    for a, c in zip(m.get_chemical_symbols(), m.get_positions()):\n",
    "        atom.append([a, c])\n",
    "\n",
    "    mol = gto.Mole()\n",
    "    mol.verbose = 0\n",
    "    #mol.output = 'H2_{}.log'.format(d)\n",
    "    mol.atom = atom\n",
    "    mol.basis = 'def2tzvp'\n",
    "    mol.build()\n",
    "\n",
    "    # PBE\n",
    "    mdft = dft.RKS(mol)\n",
    "    mdft.xc = 'pbe'\n",
    "    e_pbe.append(mdft.kernel())"
   ]
  },
  {
   "cell_type": "code",
   "execution_count": 49,
   "metadata": {},
   "outputs": [
    {
     "data": {
      "text/plain": [
       "[<matplotlib.lines.Line2D at 0x7feb640a3820>]"
      ]
     },
     "execution_count": 49,
     "metadata": {},
     "output_type": "execute_result"
    },
    {
     "data": {
      "image/png": "[encoded data removed]",
      "text/plain": [
       "<Figure size 432x288 with 1 Axes>"
      ]
     },
     "metadata": {
      "needs_background": "light"
     },
     "output_type": "display_data"
    }
   ],
   "source": [
    "angle=np.array([-4,-2,0,2,4])+methane.get_angle(0,4,1)\n",
    "plt.plot(angle,e_pbe, '-o')"
   ]
  }
 ],
 "metadata": {
  "kernelspec": {
   "display_name": "Python [conda env:qm-tools] *",
   "language": "python",
   "name": "conda-env-qm-tools-py"
  },
  "language_info": {
   "codemirror_mode": {
    "name": "ipython",
    "version": 3
   },
   "file_extension": ".py",
   "mimetype": "text/x-python",
   "name": "python",
   "nbconvert_exporter": "python",
   "pygments_lexer": "ipython3",
   "version": "3.8.5"
  }
 },
 "nbformat": 4,
 "nbformat_minor": 4
}
