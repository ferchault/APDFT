{
 "cells": [
  {
   "cell_type": "code",
   "execution_count": 1,
   "metadata": {},
   "outputs": [],
   "source": [
    "import numpy as np\n",
    "import ase\n",
    "import glob\n",
    "from matplotlib import pyplot as plt\n",
    "\n",
    "import pandas as pd\n",
    "import sys\n",
    "sys.path.insert(0, '/home/misa/git_repositories/APDFT/prototyping/atomic_energies/')\n",
    "import utils_qm as uqm\n",
    "from parse_density_files import CUBE\n",
    "import alchemy_tools2 as at\n",
    "from ase.units import Bohr\n"
   ]
  },
  {
   "cell_type": "code",
   "execution_count": 2,
   "metadata": {},
   "outputs": [],
   "source": [
    "def load_cubes(paths):\n",
    "    cubes = dict()\n",
    "    for p in paths:\n",
    "        cube = CUBE(p)\n",
    "        name = p.split('/')[-2]\n",
    "        cubes[name] = cube\n",
    "    return(cubes)\n",
    "def check_cube(cubes, num_ve):\n",
    "    for k in cubes.keys():\n",
    "        if not np.isclose(cubes[k].data_scaled.sum(), num_ve):\n",
    "            print(f'{k} does not integrate to correct num_ve')"
   ]
  },
  {
   "cell_type": "markdown",
   "metadata": {},
   "source": [
    "### Load cube files"
   ]
  },
  {
   "cell_type": "code",
   "execution_count": 3,
   "metadata": {},
   "outputs": [
    {
     "name": "stdout",
     "output_type": "stream",
     "text": [
      "distance = d_0.8\n",
      "distance = d_1.0\n",
      "distance = d_1.2\n",
      "distance = d_1.5\n",
      "distance = d_2.0\n"
     ]
    }
   ],
   "source": [
    "paths08 = glob.glob('/home/misa/projects/atomic-energies/data/ueg_reference/amons/geometry/bond_stretch/ethane_cc/d_0.8/ve_*/DENSITY.cube')\n",
    "paths10 = glob.glob('/home/misa/projects/atomic-energies/data/ueg_reference/amons/geometry/bond_stretch/ethane_cc/d_1.0/ve_*/DENSITY.cube')\n",
    "paths12 = glob.glob('/home/misa/projects/atomic-energies/data/ueg_reference/amons/geometry/bond_stretch/ethane_cc/d_1.2/ve_*/DENSITY.cube')\n",
    "paths15 = glob.glob('/home/misa/projects/atomic-energies/data/ueg_reference/amons/geometry/bond_stretch/ethane_cc/d_1.5/ve_*/DENSITY.cube')\n",
    "paths20 = glob.glob('/home/misa/projects/atomic-energies/data/ueg_reference/amons/geometry/bond_stretch/ethane_cc/d_2.0/ve_*/DENSITY.cube')\n",
    "\n",
    "paths = [paths08, paths10, paths12, paths15, paths20]\n",
    "dcubes = []\n",
    "for p in paths:\n",
    "    p.sort()\n",
    "    dcubes.append(load_cubes(p))\n",
    "    \n",
    "for dc, p in zip(dcubes,paths):\n",
    "    d = p[0].split('/')[-3]\n",
    "    print(f'distance = {d}')\n",
    "    check_cube(dc, 14)"
   ]
  },
  {
   "cell_type": "markdown",
   "metadata": {},
   "source": [
    "#### uniform electron gas electron density"
   ]
  },
  {
   "cell_type": "code",
   "execution_count": 4,
   "metadata": {},
   "outputs": [
    {
     "name": "stdout",
     "output_type": "stream",
     "text": [
      "13.999999999999995\n"
     ]
    }
   ],
   "source": [
    "ueg = np.zeros((126,126,126))\n",
    "ueg[:] = 14/126**3\n",
    "print(ueg.sum())"
   ]
  },
  {
   "cell_type": "markdown",
   "metadata": {},
   "source": [
    "#### nuclei, CC-distance, electron density grid and h-matrix"
   ]
  },
  {
   "cell_type": "code",
   "execution_count": 5,
   "metadata": {},
   "outputs": [],
   "source": [
    "dnuclei = []\n",
    "\n",
    "for cube in dcubes:\n",
    "    dnuclei.append(cube['ve_14'].atoms)\n",
    "\n",
    "hmatrix = dcubes[1]['ve_14'].get_hmatrix()\n",
    "gpts = dcubes[1]['ve_14'].get_grid()\n",
    "\n",
    "dist = np.array([0.85, 1.0, 1.2, 1.5, 2.0])"
   ]
  },
  {
   "cell_type": "markdown",
   "metadata": {},
   "source": [
    "### $\\mu(\\lambda)$ for all distances"
   ]
  },
  {
   "cell_type": "code",
   "execution_count": 6,
   "metadata": {},
   "outputs": [],
   "source": [
    "def get_alchpot(cubes, ueg, nuclei, meshgrid, h_matrix, intg_method = 'sum'):\n",
    "    \"\"\"\n",
    "    \\mu(\\lambda) for one particular C-C distance\n",
    "    \"\"\"\n",
    "    alchpots = []\n",
    "    \n",
    "    alchpots.append(at.calculate_atomic_energies(ueg, nuclei, meshgrid, h_matrix, intg_method)[-1])\n",
    "    for k in cubes:\n",
    "        alch_pots_k = at.calculate_atomic_energies(cubes[k].data_scaled, nuclei, meshgrid, h_matrix, intg_method='sum')[-1]\n",
    "        alchpots.append(alch_pots_k)\n",
    "    alchpots = np.array(alchpots)\n",
    "    return(alchpots)\n",
    "\n",
    "def order_alchpots(alchpots_raw):\n",
    "    \"\"\"\n",
    "    assign alchpots to atoms\n",
    "    \"\"\"\n",
    "    alchpots = dict()\n",
    "    atoms_labels = ['C1', 'C2', 'H11', 'H12', 'H13', 'H21', 'H22', 'H23']\n",
    "    number_atoms = alchpots_raw.shape[1]\n",
    "    for i in range(number_atoms):\n",
    "        alchpots[atoms_labels[i]] = alchpots_raw[:, i]\n",
    "    return(alchpots)"
   ]
  },
  {
   "cell_type": "code",
   "execution_count": 7,
   "metadata": {},
   "outputs": [],
   "source": [
    "mu_lambda = dict()\n",
    "for d, dc, nuc in zip(dist, dcubes, dnuclei):\n",
    "    alchpots_raw = get_alchpot(dc, ueg, nuc, gpts, hmatrix, 'sum') # alchpts for one C-C distance\n",
    "    mu_lambda[f'd_{d}'] = order_alchpots(alchpots_raw)"
   ]
  },
  {
   "cell_type": "markdown",
   "metadata": {},
   "source": [
    "### $\\tilde{\\mu}$ "
   ]
  },
  {
   "cell_type": "code",
   "execution_count": 8,
   "metadata": {},
   "outputs": [],
   "source": [
    "mu_tilde = dict()\n",
    "lambdas = np.array([0, 3,6,8,11,14])/14\n",
    "for k in mu_lambda.keys(): # select one C-C distance\n",
    "    mu_tilde_atom = dict()\n",
    "    for k2 in mu_lambda[k].keys(): # select specific atom at one C-C distance\n",
    "        alchpots = mu_lambda[k][k2] # select alchpots\n",
    "        mu_tilde_atom[k2] = np.trapz(alchpots, lambdas) # integrate over lambda -> mu tilde\n",
    "    mu_tilde[k] = mu_tilde_atom"
   ]
  },
  {
   "cell_type": "markdown",
   "metadata": {},
   "source": [
    "### Electronic energy"
   ]
  },
  {
   "cell_type": "code",
   "execution_count": 9,
   "metadata": {},
   "outputs": [],
   "source": [
    "electronic_energy = dict()\n",
    "for k in mu_tilde.keys(): # select one C-C distance\n",
    "    electronic_energy_atoms = dict()\n",
    "    for k2 in mu_tilde[k].keys(): # select specific atom at one C-C distance\n",
    "        if 'C' in k2:\n",
    "            Z = 6\n",
    "        elif 'H' in k2:\n",
    "            Z = 1\n",
    "        else:\n",
    "            raise 'Unknown element'\n",
    "        electronic_energy_atoms[k2] = mu_tilde[k][k2]*Z # select mu_tilde\n",
    "    electronic_energy[k] = electronic_energy_atoms"
   ]
  },
  {
   "cell_type": "markdown",
   "metadata": {},
   "source": [
    "### Total energy"
   ]
  },
  {
   "cell_type": "code",
   "execution_count": 10,
   "metadata": {},
   "outputs": [],
   "source": [
    "def get_enn(nuclei):\n",
    "    E_NN = []\n",
    "    for n in nuclei:\n",
    "        enn_n = 0\n",
    "        for m in nuclei:\n",
    "            if not np.array_equal(n, m):\n",
    "                enn_n += m[0]/np.linalg.norm(n[1:4]-m[1:4])\n",
    "        E_NN.append(n[0]*enn_n/2)\n",
    "    return(np.array(E_NN))\n",
    "\n",
    "# nuclear repulsion\n",
    "E_NN = dict()\n",
    "for dnuc, k in zip(dnuclei, electronic_energy.keys()):\n",
    "    E_NN[k] = get_enn(dnuc)"
   ]
  },
  {
   "cell_type": "code",
   "execution_count": 11,
   "metadata": {},
   "outputs": [],
   "source": [
    "total_energy = dict()\n",
    "for k in electronic_energy.keys():\n",
    "    total_energy_atoms = dict()\n",
    "    for k2, enn in zip(electronic_energy[k].keys(), E_NN[k]):\n",
    "        total_energy_atoms[k2] = electronic_energy[k][k2] + enn\n",
    "    total_energy[k] = total_energy_atoms"
   ]
  },
  {
   "cell_type": "markdown",
   "metadata": {},
   "source": [
    "### shift"
   ]
  },
  {
   "cell_type": "code",
   "execution_count": 12,
   "metadata": {},
   "outputs": [],
   "source": [
    "shift = lambda e_alch, e_npbc, sum_Z : (e_npbc - e_alch)/sum_Z\n",
    "energy_shifted = lambda E_I, Z_I, shift : E_I + Z_I*shift"
   ]
  },
  {
   "cell_type": "code",
   "execution_count": 13,
   "metadata": {},
   "outputs": [],
   "source": [
    "atomic_energies_sum = dict()\n",
    "for k in total_energy.keys():\n",
    "    sum_energies = 0\n",
    "    for k2 in total_energy[k].keys():\n",
    "        sum_energies += total_energy[k][k2]\n",
    "    atomic_energies_sum[k] = sum_energies\n",
    "e_pbe_def2tzvp = [-79.69169971618916, -79.73090080716617, -79.70186898780051,-79.63264205190806, -79.55480003172102]"
   ]
  },
  {
   "cell_type": "code",
   "execution_count": 14,
   "metadata": {},
   "outputs": [],
   "source": [
    "shifts = dict()\n",
    "\n",
    "for i, k in enumerate(atomic_energies_sum.keys()):\n",
    "    Z_sum = dnuclei[i][:,0].sum()\n",
    "    shifts[k] = shift(atomic_energies_sum[k], e_pbe_def2tzvp[i], Z_sum)\n",
    "\n",
    "corrected_atomic_energies = dict()\n",
    "for k in shifts.keys():\n",
    "    corrected_atomic_energies_dist = dict()\n",
    "    for i, k2 in enumerate(total_energy[k]):\n",
    "        E_I = total_energy[k][k2] # unshifted atomic energy of atom I\n",
    "        Z_I = dnuclei[0][i, 0] # nuclear charge of atom I\n",
    "        d_shift = shifts[k] # shift for specific distance C-C\n",
    "        corrected_atomic_energies_dist[k2] = energy_shifted(E_I, Z_I, d_shift)\n",
    "    corrected_atomic_energies[k] = corrected_atomic_energies_dist"
   ]
  },
  {
   "cell_type": "code",
   "execution_count": 15,
   "metadata": {},
   "outputs": [
    {
     "data": {
      "text/plain": [
       "{'d_0.85': {'C1': -29.03220895367274,\n",
       "  'C2': -29.032134061860408,\n",
       "  'H11': -3.587274895113092,\n",
       "  'H12': -3.6184022607166293,\n",
       "  'H13': -3.608714913411576,\n",
       "  'H21': -3.6092430180617576,\n",
       "  'H22': -3.6165174876162376,\n",
       "  'H23': -3.5872041257367187},\n",
       " 'd_1.0': {'C1': -29.123754713636377,\n",
       "  'C2': -29.123703192760303,\n",
       "  'H11': -3.569759263399324,\n",
       "  'H12': -3.5862355582659013,\n",
       "  'H13': -3.5858181937447697,\n",
       "  'H21': -3.5859749090987516,\n",
       "  'H22': -3.586086774335261,\n",
       "  'H23': -3.569568201925475},\n",
       " 'd_1.2': {'C1': -29.12736732140842,\n",
       "  'C2': -29.12735411866847,\n",
       "  'H11': -3.5734071675348518,\n",
       "  'H12': -3.5791713069158932,\n",
       "  'H13': -3.5704836880422106,\n",
       "  'H21': -3.5701937861149617,\n",
       "  'H22': -3.580600838553756,\n",
       "  'H23': -3.573290760561943},\n",
       " 'd_1.5': {'C1': -29.133548300179122,\n",
       "  'C2': -29.133550689713754,\n",
       "  'H11': -3.559772916167244,\n",
       "  'H12': -3.5625403013386268,\n",
       "  'H13': -3.5607731081647063,\n",
       "  'H21': -3.5607123553213986,\n",
       "  'H22': -3.562247270349596,\n",
       "  'H23': -3.559497110673616},\n",
       " 'd_2.0': {'C1': -29.137269784038764,\n",
       "  'C2': -29.137284741240556,\n",
       "  'H11': -3.5434040792592487,\n",
       "  'H12': -3.5520746625175144,\n",
       "  'H13': -3.5447366238415143,\n",
       "  'H21': -3.5442275837437967,\n",
       "  'H22': -3.5526402722394015,\n",
       "  'H23': -3.543162284840224}}"
      ]
     },
     "execution_count": 15,
     "metadata": {},
     "output_type": "execute_result"
    }
   ],
   "source": [
    "corrected_atomic_energies"
   ]
  },
  {
   "cell_type": "code",
   "execution_count": 16,
   "metadata": {},
   "outputs": [],
   "source": [
    "def get_prop_dist(prop):\n",
    "    atomic_indices = prop[list(prop.keys())[0]].keys()\n",
    "    \n",
    "    prop_dist = {k:[] for k in atomic_indices}\n",
    "\n",
    "    for ai in atomic_indices:\n",
    "        for k in prop.keys():\n",
    "            prop_dist[ai].append(prop[k][ai])\n",
    "    return(prop_dist)"
   ]
  },
  {
   "cell_type": "code",
   "execution_count": 17,
   "metadata": {},
   "outputs": [],
   "source": [
    "e_electronic_atoms = get_prop_dist(electronic_energy)\n",
    "e_tot_atoms = get_prop_dist(total_energy)\n",
    "\n",
    "e_vs_d = get_prop_dist(corrected_atomic_energies)"
   ]
  },
  {
   "cell_type": "code",
   "execution_count": 30,
   "metadata": {},
   "outputs": [
    {
     "data": {
      "image/png": "[encoded data removed]",
      "text/plain": [
       "<Figure size 1152x288 with 2 Axes>"
      ]
     },
     "metadata": {
      "needs_background": "light"
     },
     "output_type": "display_data"
    }
   ],
   "source": [
    "plt.rcParams['figure.figsize'] = [16,4]\n",
    "plt.rcParams['font.size'] = 15\n",
    "fig, ax = plt.subplots(1,2)\n",
    "\n",
    "for k in e_vs_d.keys():\n",
    "    if 'C' in k:\n",
    "        ax[0].plot(dist*1.53, e_vs_d[k], '-o', label=f'E_el {k}')\n",
    "    else:\n",
    "        ax[1].plot(dist*1.53, e_vs_d[k], '-o', label=f'E_el {k}')\n",
    "        \n",
    "for i in range(2):\n",
    "    ax[i].legend()\n",
    "    ax[i].set_xlabel('d (Ang)')\n",
    "    ax[i].set_ylabel('E_I (Ha)')\n",
    "#ax[1].legend()"
   ]
  },
  {
   "cell_type": "code",
   "execution_count": null,
   "metadata": {},
   "outputs": [],
   "source": [
    "-2.58531692 A.U. lambda = 6/14; d =d_eq*0.85\n",
    "\n",
    "-2.62564887 A.U. lambda = 6/14; d =d_eq*1.5"
   ]
  },
  {
   "cell_type": "code",
   "execution_count": 19,
   "metadata": {},
   "outputs": [
    {
     "data": {
      "text/plain": [
       "[<matplotlib.lines.Line2D at 0x7f71d46cd910>]"
      ]
     },
     "execution_count": 19,
     "metadata": {},
     "output_type": "execute_result"
    },
    {
     "data": {
      "image/png": "[encoded data removed]",
      "text/plain": [
       "<Figure size 432x288 with 1 Axes>"
      ]
     },
     "metadata": {
      "needs_background": "light"
     },
     "output_type": "display_data"
    }
   ],
   "source": [
    "total_energy_from_atomic = []\n",
    "for k in corrected_atomic_energies.keys():\n",
    "    summed_energy = 0\n",
    "    for k2 in corrected_atomic_energies[k].keys():\n",
    "        summed_energy += corrected_atomic_energies[k][k2]\n",
    "    total_energy_from_atomic.append(summed_energy)\n",
    "plt.plot(dist*1.53, total_energy_from_atomic, '-o')"
   ]
  },
  {
   "cell_type": "code",
   "execution_count": 20,
   "metadata": {},
   "outputs": [
    {
     "data": {
      "text/plain": [
       "{'d_0.85': {'C1': -29.03220895367274,\n",
       "  'C2': -29.032134061860408,\n",
       "  'H11': -3.587274895113092,\n",
       "  'H12': -3.6184022607166293,\n",
       "  'H13': -3.608714913411576,\n",
       "  'H21': -3.6092430180617576,\n",
       "  'H22': -3.6165174876162376,\n",
       "  'H23': -3.5872041257367187},\n",
       " 'd_1.0': {'C1': -29.123754713636377,\n",
       "  'C2': -29.123703192760303,\n",
       "  'H11': -3.569759263399324,\n",
       "  'H12': -3.5862355582659013,\n",
       "  'H13': -3.5858181937447697,\n",
       "  'H21': -3.5859749090987516,\n",
       "  'H22': -3.586086774335261,\n",
       "  'H23': -3.569568201925475},\n",
       " 'd_1.2': {'C1': -29.12736732140842,\n",
       "  'C2': -29.12735411866847,\n",
       "  'H11': -3.5734071675348518,\n",
       "  'H12': -3.5791713069158932,\n",
       "  'H13': -3.5704836880422106,\n",
       "  'H21': -3.5701937861149617,\n",
       "  'H22': -3.580600838553756,\n",
       "  'H23': -3.573290760561943},\n",
       " 'd_1.5': {'C1': -29.133548300179122,\n",
       "  'C2': -29.133550689713754,\n",
       "  'H11': -3.559772916167244,\n",
       "  'H12': -3.5625403013386268,\n",
       "  'H13': -3.5607731081647063,\n",
       "  'H21': -3.5607123553213986,\n",
       "  'H22': -3.562247270349596,\n",
       "  'H23': -3.559497110673616},\n",
       " 'd_2.0': {'C1': -29.137269784038764,\n",
       "  'C2': -29.137284741240556,\n",
       "  'H11': -3.5434040792592487,\n",
       "  'H12': -3.5520746625175144,\n",
       "  'H13': -3.5447366238415143,\n",
       "  'H21': -3.5442275837437967,\n",
       "  'H22': -3.5526402722394015,\n",
       "  'H23': -3.543162284840224}}"
      ]
     },
     "execution_count": 20,
     "metadata": {},
     "output_type": "execute_result"
    }
   ],
   "source": [
    "corrected_atomic_energies"
   ]
  },
  {
   "cell_type": "code",
   "execution_count": 45,
   "metadata": {},
   "outputs": [],
   "source": [
    "total_energy_molecule = 0\n",
    "for k in e_tot_atoms.keys():\n",
    "    total_energy_molecule += np.array(e_tot_atoms[k])"
   ]
  },
  {
   "cell_type": "code",
   "execution_count": 46,
   "metadata": {},
   "outputs": [
    {
     "data": {
      "text/plain": [
       "[<matplotlib.lines.Line2D at 0x7fdbefe35c70>]"
      ]
     },
     "execution_count": 46,
     "metadata": {},
     "output_type": "execute_result"
    },
    {
     "data": {
      "image/png": "[encoded data removed]",
      "text/plain": [
       "<Figure size 432x288 with 1 Axes>"
      ]
     },
     "metadata": {
      "needs_background": "light"
     },
     "output_type": "display_data"
    }
   ],
   "source": [
    "plt.plot(dist, total_energy_molecule, '-o')"
   ]
  },
  {
   "cell_type": "code",
   "execution_count": 47,
   "metadata": {},
   "outputs": [],
   "source": [
    "energy_d08 = [-1.17019873, -2.58531692, -4.34034164, -8.49083416, -14.91582511]"
   ]
  },
  {
   "cell_type": "code",
   "execution_count": 48,
   "metadata": {},
   "outputs": [
    {
     "data": {
      "text/plain": [
       "[<matplotlib.lines.Line2D at 0x7fdbefca9160>]"
      ]
     },
     "execution_count": 48,
     "metadata": {},
     "output_type": "execute_result"
    },
    {
     "data": {
      "image/png": "[encoded data removed]",
      "text/plain": [
       "<Figure size 432x288 with 1 Axes>"
      ]
     },
     "metadata": {
      "needs_background": "light"
     },
     "output_type": "display_data"
    }
   ],
   "source": [
    "d = np.array([0.85, 1.0, 1.2, 1.5, 2])*1.53\n",
    "energy_pw = np.array([-14.91582511, -14.95472337, -14.92595936, -14.85706745, -14.77976953])\n",
    "\n",
    "plt.plot(d, energy_pw, '-o')"
   ]
  },
  {
   "cell_type": "markdown",
   "metadata": {},
   "source": [
    "#### Energy in Angstrom"
   ]
  },
  {
   "cell_type": "code",
   "execution_count": null,
   "metadata": {},
   "outputs": [],
   "source": [
    "from ase.units import Bohr\n",
    "nuc_Ang = nuclei10.copy()\n",
    "nuc_Ang[:, 1:4] = nuc_Ang[:, 1:4]*Bohr\n",
    "gpt_Ang = [g*Bohr for g in gpts]\n",
    "hmatrix_Ang = hmatrix*Bohr\n",
    "alchpots_ang = get_alchpot(cubes08, ueg, nuc_Ang, gpt_Ang, hmatrix_Ang, intg_method = 'sum')\n",
    "alchpots_ang_ordered = order_alchpots(alchpots_ang)"
   ]
  },
  {
   "cell_type": "code",
   "execution_count": null,
   "metadata": {},
   "outputs": [],
   "source": [
    "lambdas = np.array([0, 3,6,8,11,14])/14\n",
    "(np.trapz(alchpots_ang_ordered['H11'], lambdas))"
   ]
  },
  {
   "cell_type": "markdown",
   "metadata": {},
   "source": [
    "# PYSCF"
   ]
  },
  {
   "cell_type": "code",
   "execution_count": 51,
   "metadata": {},
   "outputs": [],
   "source": [
    "from pyscf import gto, scf, mp, cc, dft\n",
    "import numpy as np\n",
    "import ase\n",
    "\n",
    "from matplotlib import pyplot as plt\n",
    "\n",
    "import pandas as pd\n",
    "import sys\n",
    "sys.path.insert(0, '/home/misa/git_repositories/APDFT/prototyping/atomic_energies/')\n",
    "import utils_qm as uqm"
   ]
  },
  {
   "cell_type": "markdown",
   "metadata": {},
   "source": [
    "### Get Ethane "
   ]
  },
  {
   "cell_type": "code",
   "execution_count": 52,
   "metadata": {},
   "outputs": [],
   "source": [
    "amons_dict = uqm.load_obj('/home/misa/datasets/amons_qm9_11k/unique_amons_dict')"
   ]
  },
  {
   "cell_type": "code",
   "execution_count": 53,
   "metadata": {},
   "outputs": [],
   "source": [
    "ethane_text = amons_dict['CC']"
   ]
  },
  {
   "cell_type": "code",
   "execution_count": 54,
   "metadata": {},
   "outputs": [],
   "source": [
    "coords = []\n",
    "elements = ''\n",
    "for line in ethane_text[2:]:\n",
    "    el, x, y, z = line.split()\n",
    "    coords.append([float(x),float(y),float(z)])\n",
    "    elements += el\n",
    "    \n",
    "ethane = ase.Atoms(elements, coords)\n",
    "coords = ethane.get_positions()\n",
    "vec_CC = coords[1] - coords[0]\n",
    "d_CC = np.linalg.norm(vec_CC)\n",
    "\n",
    "stretch_percentage = np.array([0.85, 1.0, 1.2, 1.5, 2])\n",
    "shift_vecs = []\n",
    "for sp in stretch_percentage:\n",
    "    shift_vec = vec_CC*sp - vec_CC\n",
    "    shift_vecs.append(shift_vec)"
   ]
  },
  {
   "cell_type": "markdown",
   "metadata": {},
   "source": [
    "### Calculate energies"
   ]
  },
  {
   "cell_type": "code",
   "execution_count": 55,
   "metadata": {},
   "outputs": [],
   "source": [
    "e_pbe = []\n",
    "\n",
    "for sv in shift_vecs:\n",
    "    new_coords = ethane.get_positions().copy()\n",
    "    new_coords[1] += sv\n",
    "    new_coords[5] += sv\n",
    "    new_coords[6] += sv\n",
    "    new_coords[7] += sv\n",
    "    \n",
    "    atom = []\n",
    "    for a, c in zip(elements, new_coords):\n",
    "        atom.append([a, (c)])\n",
    "    \n",
    "    \n",
    "    new_coords = ethane.get_positions().copy()\n",
    "    new_coords[1] += sv\n",
    "    new_coords[5] += sv\n",
    "    new_coords[6] += sv\n",
    "    new_coords[7] += sv\n",
    "\n",
    "    atom = []\n",
    "    for a, c in zip(elements, new_coords):\n",
    "        atom.append([a, c])\n",
    "\n",
    "    mol = gto.Mole()\n",
    "    mol.verbose = 0\n",
    "    #mol.output = 'H2_{}.log'.format(d)\n",
    "    mol.atom = atom\n",
    "    mol.basis = 'def2tzvp'\n",
    "    mol.build()\n",
    "\n",
    "    # PBE\n",
    "    mdft = dft.RKS(mol)\n",
    "    mdft.xc = 'pbe'\n",
    "    e_pbe.append(mdft.kernel())"
   ]
  },
  {
   "cell_type": "code",
   "execution_count": 61,
   "metadata": {},
   "outputs": [
    {
     "data": {
      "text/plain": [
       "[<matplotlib.lines.Line2D at 0x7fdbe00adee0>]"
      ]
     },
     "execution_count": 61,
     "metadata": {},
     "output_type": "execute_result"
    },
    {
     "data": {
      "image/png": "[encoded data removed]",
      "text/plain": [
       "<Figure size 432x288 with 1 Axes>"
      ]
     },
     "metadata": {
      "needs_background": "light"
     },
     "output_type": "display_data"
    }
   ],
   "source": [
    "plt.plot(stretch_percentage, e_pbe, '-o')\n",
    "deq = np.linalg.norm(ethane.get_positions()[0]-ethane.get_positions()[1])\n",
    "plt.plot(stretch_percentage*deq, e_pbe, '-o')"
   ]
  },
  {
   "cell_type": "code",
   "execution_count": 69,
   "metadata": {},
   "outputs": [
    {
     "data": {
      "text/plain": [
       "[-79.69169971618916,\n",
       " -79.73090080716617,\n",
       " -79.70186898780051,\n",
       " -79.63264205190806,\n",
       " -79.55480003172102]"
      ]
     },
     "execution_count": 69,
     "metadata": {},
     "output_type": "execute_result"
    }
   ],
   "source": [
    "e_pbe"
   ]
  }
 ],
 "metadata": {
  "kernelspec": {
   "display_name": "Python 3",
   "language": "python",
   "name": "python3"
  },
  "language_info": {
   "codemirror_mode": {
    "name": "ipython",
    "version": 3
   },
   "file_extension": ".py",
   "mimetype": "text/x-python",
   "name": "python",
   "nbconvert_exporter": "python",
   "pygments_lexer": "ipython3",
   "version": "3.9.5"
  }
 },
 "nbformat": 4,
 "nbformat_minor": 4
}
