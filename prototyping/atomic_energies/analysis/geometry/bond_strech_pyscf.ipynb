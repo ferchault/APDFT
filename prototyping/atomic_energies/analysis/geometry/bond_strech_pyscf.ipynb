{
 "cells": [
  {
   "cell_type": "code",
   "execution_count": 22,
   "metadata": {},
   "outputs": [],
   "source": [
    "from pyscf import gto, scf, mp, cc, dft\n",
    "import numpy as np\n",
    "import ase\n",
    "\n",
    "from matplotlib import pyplot as plt\n",
    "\n",
    "import pandas as pd\n",
    "import sys\n",
    "sys.path.insert(0, '/home/misa/git_repositories/APDFT/prototyping/atomic_energies/')\n",
    "import utils_qm as uqm\n",
    "#import warnings\n",
    "#warnings.filterwarnings(\"ignore\")\n",
    "#warnings.filterwarnings( \"ignore\", module = \"/home/misa/anaconda3/envs/atomic-energies/lib/python3.7/site-packages/matplotlib/*\" )"
   ]
  },
  {
   "cell_type": "code",
   "execution_count": 4,
   "metadata": {},
   "outputs": [],
   "source": [
    "amons_db = pd.read_pickle('/home/misa/datasets/amons_qm9_11k/amons_database.pd')"
   ]
  },
  {
   "cell_type": "code",
   "execution_count": 7,
   "metadata": {},
   "outputs": [],
   "source": [
    "amons_dict = uqm.load_obj('/home/misa/datasets/amons_qm9_11k/unique_amons_dict')"
   ]
  },
  {
   "cell_type": "code",
   "execution_count": 24,
   "metadata": {},
   "outputs": [],
   "source": [
    "ethane_text = amons_dict['CC']"
   ]
  },
  {
   "cell_type": "code",
   "execution_count": 25,
   "metadata": {},
   "outputs": [],
   "source": [
    "coords = []\n",
    "elements = ''\n",
    "for line in ethane_text[2:]:\n",
    "    el, x, y, z = line.split()\n",
    "    coords.append([float(x),float(y),float(z)])\n",
    "    elements += el"
   ]
  },
  {
   "cell_type": "code",
   "execution_count": 33,
   "metadata": {},
   "outputs": [],
   "source": [
    "ethane = ase.Atoms(elements, coords)\n",
    "coords = ethane.get_positions()\n",
    "vec_CC = coords[1] - coords[0]\n",
    "d_CC = np.linalg.norm(vec_CC)"
   ]
  },
  {
   "cell_type": "code",
   "execution_count": 73,
   "metadata": {},
   "outputs": [],
   "source": [
    "stretch_percentage = np.array([0.85, 1.0, 1.2, 1.5, 2])\n",
    "shift_vecs = []\n",
    "for sp in stretch_percentage:\n",
    "    shift_vec = vec_CC*sp - vec_CC\n",
    "    #print(np.linalg.norm(vec_CC*sp)/d_CC)\n",
    "    shift_vecs.append(shift_vec)"
   ]
  },
  {
   "cell_type": "code",
   "execution_count": 74,
   "metadata": {},
   "outputs": [],
   "source": [
    "\n",
    "e_pbe = []\n",
    "\n",
    "for sv in shift_vecs:\n",
    "    new_coords = ethane.get_positions().copy()\n",
    "    new_coords[1] += sv\n",
    "    new_coords[5] += sv\n",
    "    new_coords[6] += sv\n",
    "    new_coords[7] += sv\n",
    "    \n",
    "    atom = []\n",
    "    for a, c in zip(elements, new_coords):\n",
    "        atom.append([a, (c)])\n",
    "    \n",
    "    \n",
    "    new_coords = ethane.get_positions().copy()\n",
    "    new_coords[1] += sv\n",
    "    new_coords[5] += sv\n",
    "    new_coords[6] += sv\n",
    "    new_coords[7] += sv\n",
    "\n",
    "    atom = []\n",
    "    for a, c in zip(elements, new_coords):\n",
    "        atom.append([a, c])\n",
    "\n",
    "    mol = gto.Mole()\n",
    "    mol.verbose = 0\n",
    "    #mol.output = 'H2_{}.log'.format(d)\n",
    "    mol.atom = atom\n",
    "    mol.basis = 'def2tzvp'\n",
    "    mol.build()\n",
    "\n",
    "    # PBE\n",
    "    mdft = dft.RKS(mol)\n",
    "    mdft.xc = 'pbe'\n",
    "    e_pbe.append(mdft.kernel())\n",
    "    \n",
    "    "
   ]
  },
  {
   "cell_type": "code",
   "execution_count": 75,
   "metadata": {},
   "outputs": [
    {
     "data": {
      "text/plain": [
       "[<matplotlib.lines.Line2D at 0x7f3911bc3b50>]"
      ]
     },
     "execution_count": 75,
     "metadata": {},
     "output_type": "execute_result"
    },
    {
     "data": {
      "image/png": "[encoded data removed]",
      "text/plain": [
       "<Figure size 432x288 with 1 Axes>"
      ]
     },
     "metadata": {
      "needs_background": "light"
     },
     "output_type": "display_data"
    }
   ],
   "source": [
    "plt.plot(stretch_percentage, e_pbe, '-o')"
   ]
  }
 ],
 "metadata": {
  "kernelspec": {
   "display_name": "Python [conda env:atomic-energies]",
   "language": "python",
   "name": "conda-env-atomic-energies-py"
  },
  "language_info": {
   "codemirror_mode": {
    "name": "ipython",
    "version": 3
   },
   "file_extension": ".py",
   "mimetype": "text/x-python",
   "name": "python",
   "nbconvert_exporter": "python",
   "pygments_lexer": "ipython3",
   "version": "3.7.10"
  }
 },
 "nbformat": 4,
 "nbformat_minor": 4
}
