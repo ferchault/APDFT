{
 "cells": [
  {
   "cell_type": "code",
   "execution_count": 1,
   "metadata": {},
   "outputs": [],
   "source": [
    "from pyscf import gto, scf, mp, cc, dft\n",
    "import numpy as np\n",
    "import ase\n",
    "import ase.visualize\n",
    "\n",
    "from matplotlib import pyplot as plt\n",
    "\n",
    "import pandas as pd\n",
    "import os\n",
    "import sys\n",
    "sys.path.insert(0, '/home/misa/git_repositories/APDFT/prototyping/atomic_energies/')\n",
    "import utils_qm as uqm"
   ]
  },
  {
   "cell_type": "code",
   "execution_count": 2,
   "metadata": {},
   "outputs": [],
   "source": [
    "def atoms_wrapper(amon):\n",
    "    \"\"\"\n",
    "    item of amon dict\n",
    "    \"\"\"\n",
    "    coords = []\n",
    "    elements = ''\n",
    "    for line in amon[2:]:\n",
    "        el, x, y, z = line.split()\n",
    "        coords.append([float(x),float(y),float(z)])\n",
    "        elements += el\n",
    "    \n",
    "    atoms_object = ase.Atoms(elements, coords)\n",
    "    return(atoms_object)\n",
    "\n",
    "def get_e_npbc(nuc_charges, positions):\n",
    "    atom = []\n",
    "    for a, c in zip(nuc_charges, positions):\n",
    "        atom.append([int(a), tuple(c)])\n",
    "\n",
    "    mol = gto.Mole()\n",
    "    mol.verbose = 0\n",
    "    #mol.output = 'H2_{}.log'.format(d)\n",
    "    mol.atom = atom\n",
    "    mol.basis = 'def2tzvp'\n",
    "    mol.build()\n",
    "\n",
    "    # PBE\n",
    "    mdft = dft.RKS(mol)\n",
    "    mdft.xc = 'pbe'\n",
    "    e_pbe = mdft.kernel()\n",
    "    if mdft.converged:\n",
    "        print('converged')\n",
    "    else:\n",
    "        print('not converged')\n",
    "    return(e_pbe)"
   ]
  },
  {
   "cell_type": "code",
   "execution_count": 3,
   "metadata": {},
   "outputs": [],
   "source": [
    "amons_dict = uqm.load_obj('/home/misa/datasets/amons_qm9_11k/unique_amons_dict')\n",
    "butanol_text = amons_dict['CCCCO']\n",
    "butanol = atoms_wrapper(butanol_text)"
   ]
  },
  {
   "cell_type": "code",
   "execution_count": 21,
   "metadata": {},
   "outputs": [],
   "source": [
    "#ase.visualize.view(butanol, viewer='x3d')"
   ]
  },
  {
   "cell_type": "markdown",
   "metadata": {},
   "source": [
    "# Bonds"
   ]
  },
  {
   "cell_type": "code",
   "execution_count": 5,
   "metadata": {},
   "outputs": [],
   "source": [
    "def distort_bond(basepath, comp_name, distant_indices, distortions, group_ind, molecule):\n",
    "    mols = []\n",
    "    for i, d in enumerate(distortions):\n",
    "        mol_distorted = molecule.copy()\n",
    "        mol_distorted.set_distance(distant_indices[0], distant_indices[1], d, fix=0, add = True, indices = group_ind)\n",
    "        path = os.path.join(basepath, f'dist_{d}')\n",
    "        filename = os.path.join(path, f'{comp_name}_dist_{d}.xyz')\n",
    "        os.makedirs(path, exist_ok=True)\n",
    "        print(f'stretching = {mol_distorted.get_distance(distant_indices[0], distant_indices[1])}')\n",
    "        ase.io.write(filename, mol_distorted, format='xyz')\n",
    "\n",
    "        mols.append(mol_distorted)\n",
    "#         if d < 0 and distortions[i+1]>0:\n",
    "#             mols.append(molecule)\n",
    "    return(mols)"
   ]
  },
  {
   "cell_type": "code",
   "execution_count": 6,
   "metadata": {},
   "outputs": [
    {
     "name": "stdout",
     "output_type": "stream",
     "text": [
      "stretching = 0.9242892634731679\n",
      "stretching = 1.0492892634731679\n",
      "stretching = 1.1742892634731679\n",
      "stretching = 1.424289263473168\n",
      "stretching = 1.674289263473168\n",
      "stretching = 1.924289263473168\n",
      "stretching = 2.174289263473168\n",
      "stretching = 2.424289263473167\n"
     ]
    }
   ],
   "source": [
    "basepath = '/home/misa/projects/atomic-energies/data/ueg_reference/amons/geometry/bond_stretch/butanol'\n",
    "comp_name = 'butanol'\n",
    "distant_indices = [2,4]\n",
    "distortions = np.array([-0.5  , -0.375, -0.25 ,  0.   ,  0.25 ,  0.5  ,  0.75 ,  1.   ])\n",
    "group_ind = [4,14]\n",
    "molecules = distort_bond(basepath, comp_name, distant_indices, distortions, group_ind, butanol)"
   ]
  },
  {
   "cell_type": "code",
   "execution_count": null,
   "metadata": {},
   "outputs": [],
   "source": [
    "results = []\n",
    "i = 0\n",
    "for d, e in zip([-0.5,0,0.5]+[-0.25, 0.0,0.25, 0.75, 1.0]+[-0.375], e_pbe+e_pbe2+e_pbe3):\n",
    "    if i != 1:\n",
    "        results.append([d,e])\n",
    "    i += 1\n",
    "results.sort()\n",
    "results = np.array(results)"
   ]
  },
  {
   "cell_type": "code",
   "execution_count": null,
   "metadata": {},
   "outputs": [],
   "source": [
    "plt.plot(results[:,0], results[:,1], '-o')\n",
    "\n",
    "\n",
    "plt.xlabel(r'$\\Delta d_{\\rm{eq}}$')\n",
    "plt.ylabel('energy (Ha)')"
   ]
  },
  {
   "cell_type": "code",
   "execution_count": null,
   "metadata": {},
   "outputs": [],
   "source": [
    "with open('/home/misa/projects/atomic-energies/data/ueg_reference/amons/geometry/bond_stretch//butanol/butanol_npbc_energies.txt', 'w') as f:\n",
    "    for d, e in zip(results[:,0], results[:,1]):\n",
    "        f.write(f'{d} {e}\\n')"
   ]
  },
  {
   "cell_type": "markdown",
   "metadata": {},
   "source": [
    "## Prepare input files - Bonds"
   ]
  },
  {
   "cell_type": "code",
   "execution_count": 22,
   "metadata": {},
   "outputs": [],
   "source": [
    "import explore_qml_data as eqd\n",
    "sys.path.insert(0, '/home/misa/git_repositories/APDFT/prototyping/atomic_energies/hitp')\n",
    "import prepare_calculations\n",
    "import glob\n",
    "\n",
    "def align_molecule(molecule, n_plane, p1, p2, s):\n",
    "    \"\"\"\n",
    "    rotates molecule such that the plane formed by the atoms at positions p1, p2, s is orthogonal to n_plane\n",
    "    \"\"\"\n",
    "    v1 = molecule.get_positions()[s] - molecule.get_positions()[p1]\n",
    "    v2 = molecule.get_positions()[s] - molecule.get_positions()[p2]\n",
    "    n = np.cross(v1, v2)/np.linalg.norm(np.cross(v1, v2))\n",
    "    molecule.rotate(n, n_plane)\n",
    "\n",
    "def wrapper_geometry(atoms, atoms_ref, compound_path, pp_dir, pp_type, template_inp, template_inp_small_lambda):\n",
    "    \"\"\"\n",
    "    generates all necessary files for a cpmd calculation using an atoms object from ase as input\n",
    "    \"\"\"\n",
    "    # calculation parameters (independent of lambda value)\n",
    "    atom_symbols = atoms.get_chemical_symbols()\n",
    "    nuc_charges = atoms.get_atomic_numbers()\n",
    "    num_ve = eqd.get_num_val_elec(nuc_charges) # get number of ve\n",
    "    boxsize = prepare_calculations.get_boxsize(num_ve) # get boxsize\n",
    "    num_gpts_lower, num_gpts_higher = prepare_calculations.get_gpts(num_ve) # get gridpoints\n",
    "    num_gpts = num_gpts_higher\n",
    "\n",
    "    # shift/rotate molecule to be in plane of grid points\n",
    "    centroid_initial = np.mean(atoms_ref.get_positions(), axis=0)\n",
    "    shift = np.array([boxsize,boxsize,boxsize])/2 - centroid_initial\n",
    "    atoms.set_positions(atoms.get_positions() + shift)\n",
    "    \n",
    "    align_molecule(atoms, np.array([0,0,1]), 1, 4, 2)\n",
    "    pos_z = atoms.get_positions()[2,2]\n",
    "    lv = boxsize/num_gpts\n",
    "    final_shift = np.array([0,0,int(num_gpts/2)*lv - pos_z])\n",
    "    atoms.set_positions(atoms.get_positions() + final_shift)\n",
    "    \n",
    "    coords_final = atoms.get_positions()\n",
    "\n",
    "    # get correct lambda value\n",
    "    lambda_values = np.array([0.2, 0.4, 0.6, 0.8, 1.0])\n",
    "    for lam_val in lambda_values:\n",
    "        new_lambda, scaled_ve = prepare_calculations.get_lambda(lam_val, num_ve)\n",
    "        # scaled_ve is number of electrons added from pseudopotential file, the remaining electrons must be added in form of a negative charge\n",
    "        charge = scaled_ve - num_ve # write input\n",
    "\n",
    "        # create directory if necessary\n",
    "        if scaled_ve < 10:\n",
    "            scaled_ve_str = '0'+str(scaled_ve)\n",
    "        else:\n",
    "            scaled_ve_str = str(scaled_ve)\n",
    "        lambda_path = os.path.join(compound_path, f've_{scaled_ve_str}/')\n",
    "        os.makedirs(lambda_path, exist_ok=True)\n",
    "\n",
    "        # generate input file\n",
    "        input_path = os.path.join(lambda_path, 'run.inp')\n",
    "        if new_lambda > 0.5:\n",
    "            prepare_calculations.write_input(atom_symbols, charge, coords_final, num_gpts, boxsize, input_path, template_inp, debug = False)\n",
    "        else:\n",
    "            prepare_calculations.write_input(atom_symbols, charge, coords_final, num_gpts, boxsize, input_path, template_inp_small_lambda, debug = False)\n",
    "\n",
    "        # generate pp-files\n",
    "        prepare_calculations.write_pp_files_compound(atom_symbols, new_lambda, lambda_path, pp_dir, pp_type)"
   ]
  },
  {
   "cell_type": "code",
   "execution_count": 23,
   "metadata": {},
   "outputs": [
    {
     "name": "stdout",
     "output_type": "stream",
     "text": [
      "1.2992892616166043\n",
      "1.1742892640263174\n",
      "1.0492892621697536\n",
      "0.9242892645794665\n",
      "1.424289263473168\n",
      "1.6742892629200186\n",
      "1.924289262366869\n",
      "2.174289266079996\n",
      "2.4242892655268466\n"
     ]
    }
   ],
   "source": [
    "# paths to atoms objects\n",
    "paths = glob.glob('/home/misa/projects/atomic-energies/data/ueg_reference/amons/geometry/bond_stretch//butanol/dist_*/*.xyz')\n",
    "paths.sort()\n",
    "\n",
    "# define parameters\n",
    "pp_dir = '/home/misa/PP_LIBRARY'\n",
    "pp_type = '_GH_PBE'\n",
    "template_inp = '/home/misa/projects/atomic-energies/data/cpmd_params_template_pbe.inp'\n",
    "template_inp_small_lambda = '/home/misa/projects/atomic-energies/data/cpmd_params_template_pbe_small_lambda.inp'\n",
    "\n",
    "# generate input files for all atoms objects\n",
    "for p in paths:\n",
    "    atoms = ase.io.read(p)\n",
    "    print(atoms.get_distance(2,4))\n",
    "    compound_path = os.path.dirname(p)\n",
    "    wrapper_geometry(atoms, butanol, compound_path, pp_dir, pp_type, template_inp, template_inp_small_lambda)"
   ]
  },
  {
   "cell_type": "markdown",
   "metadata": {},
   "source": [
    "# Angles"
   ]
  },
  {
   "cell_type": "code",
   "execution_count": null,
   "metadata": {},
   "outputs": [],
   "source": [
    "def distort_angles(angle_indices, basepath, comp_name, distortions, group_ind, molecule):\n",
    "    mols = []\n",
    "    for i, d in enumerate(distortions):\n",
    "        mol_distorted = molecule.copy()\n",
    "        mol_distorted.set_angle(angle_indices[0], angle_indices[1], angle_indices[2], angle=d, add = True, indices = group_ind)\n",
    "        #basepath = '/home/misa/projects/atomic-energies/data/ueg_reference/amons/geometry/angles/water'\n",
    "        path = os.path.join(basepath, f'ang_{d}')\n",
    "        filename = os.path.join(path, f'{comp_name}_ang_{d}.xyz')\n",
    "        os.makedirs(path, exist_ok=True)\n",
    "        print(f'angle = {mol_distorted.get_angle(angle_indices[0], angle_indices[1],angle_indices[2])}')\n",
    "        ase.io.write(filename, mol_distorted, format='xyz')\n",
    "\n",
    "        mols.append(mol_distorted)\n",
    "        if d < 0 and distortions[i+1]>0:\n",
    "            mols.append(molecule)\n",
    "    return(mols)"
   ]
  },
  {
   "cell_type": "code",
   "execution_count": null,
   "metadata": {},
   "outputs": [],
   "source": [
    "# CCO angle is described by indices 124, H of Oh group is index 14"
   ]
  },
  {
   "cell_type": "code",
   "execution_count": null,
   "metadata": {},
   "outputs": [],
   "source": [
    "basepath = '/home/misa/projects/atomic-energies/data/ueg_reference/amons/geometry/angles/butanol'\n",
    "comp_name = 'butanol'\n",
    "distortions = np.linspace(-50, 50, 9)\n",
    "group_ind = [4, 14]\n",
    "molecules = distort_angles([1,2,4], basepath, comp_name,distortions, group_ind, butanol)"
   ]
  },
  {
   "cell_type": "code",
   "execution_count": null,
   "metadata": {},
   "outputs": [],
   "source": [
    "e_pbe = []\n",
    "for m in molecules:\n",
    "    e_pbe.append(get_e_npbc(m.get_atomic_numbers(), m.get_positions()))"
   ]
  },
  {
   "cell_type": "code",
   "execution_count": null,
   "metadata": {},
   "outputs": [],
   "source": [
    "plt.plot(distortions, e_pbe, '-o')\n",
    "plt.xlabel('angle')\n",
    "plt.ylabel('energy (Ha)')"
   ]
  },
  {
   "cell_type": "code",
   "execution_count": null,
   "metadata": {},
   "outputs": [],
   "source": [
    "with open('/home/misa/projects/atomic-energies/data/ueg_reference/amons/geometry/angles/butanol/butanol_npbc_energies.txt', 'w') as f:\n",
    "    for d, e in zip(distortions, e_pbe):\n",
    "        f.write(f'{d} {e}\\n')"
   ]
  },
  {
   "cell_type": "markdown",
   "metadata": {},
   "source": [
    "## Prepare input files - Angles"
   ]
  },
  {
   "cell_type": "code",
   "execution_count": null,
   "metadata": {},
   "outputs": [],
   "source": [
    "import sys\n",
    "sys.path.insert(0, '/home/misa/git_repositories/APDFT/prototyping/atomic_energies/hitp')\n",
    "import prepare_calculations"
   ]
  },
  {
   "cell_type": "code",
   "execution_count": null,
   "metadata": {},
   "outputs": [],
   "source": [
    "paths = glob.glob('/home/misa/projects/atomic-energies/data/ueg_reference/amons/geometry/angles/butanol/ang_*/*.xyz')\n",
    "paths.sort()"
   ]
  },
  {
   "cell_type": "code",
   "execution_count": null,
   "metadata": {},
   "outputs": [],
   "source": [
    "# paths to atoms objects\n",
    "paths = glob.glob('/home/misa/projects/atomic-energies/data/ueg_reference/amons/geometry/angles/butanol/ang_*/*.xyz')\n",
    "paths.sort()\n",
    "\n",
    "# define parameters\n",
    "pp_dir = '/home/misa/PP_LIBRARY'\n",
    "pp_type = '_GH_PBE'\n",
    "template_inp = '/home/misa/projects/atomic-energies/data/cpmd_params_template_pbe.inp'\n",
    "template_inp_small_lambda = '/home/misa/projects/atomic-energies/data/cpmd_params_template_pbe_small_lambda.inp'\n",
    "\n",
    "# generate input files for all atoms objects\n",
    "for p in paths:\n",
    "    atoms = ase.io.read(p)\n",
    "    print(atoms.get_angle(1,2,4))\n",
    "    compound_path = os.path.dirname(p)\n",
    "    prepare_calculations.wrapper_ase(atoms, compound_path, pp_dir, pp_type, template_inp, template_inp_small_lambda)"
   ]
  }
 ],
 "metadata": {
  "kernelspec": {
   "display_name": "Python [conda env:qm-tools] *",
   "language": "python",
   "name": "conda-env-qm-tools-py"
  },
  "language_info": {
   "codemirror_mode": {
    "name": "ipython",
    "version": 3
   },
   "file_extension": ".py",
   "mimetype": "text/x-python",
   "name": "python",
   "nbconvert_exporter": "python",
   "pygments_lexer": "ipython3",
   "version": "3.8.5"
  }
 },
 "nbformat": 4,
 "nbformat_minor": 4
}
