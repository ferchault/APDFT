{
 "cells": [
  {
   "cell_type": "code",
   "execution_count": 1,
   "metadata": {},
   "outputs": [
    {
     "name": "stderr",
     "output_type": "stream",
     "text": [
      "/home/sahre/opt/miniconda3/envs/qm-tools/lib/python3.9/site-packages/pyscf/lib/misc.py:46: H5pyDeprecationWarning: Using default_file_mode other than 'r' is deprecated. Pass the mode to h5py.File() instead.\n",
      "  h5py.get_config().default_file_mode = 'a'\n"
     ]
    }
   ],
   "source": [
    "import numpy as np\n",
    "from ase import Atoms\n",
    "import ase.visualize\n",
    "from ase.units import Bohr\n",
    "\n",
    "from pyscf import gto, scf, mp, cc, dft\n",
    "import glob\n",
    "from matplotlib import pyplot as plt\n",
    "\n",
    "import pandas as pd\n",
    "import sys\n",
    "sys.path.insert(0, '/home/misa/git_repositories/APDFT/prototyping/atomic_energies/')\n",
    "sys.path.insert(0, '/home/sahre/git_repositories/APDFT/prototyping/atomic_energies/')\n",
    "sys.path.insert(0, '/home/sahre/git_repositories/APDFT/prototyping/atomic_energies/hitp')\n",
    "\n",
    "import utils_qm as uqm\n",
    "from parse_density_files import CUBE\n",
    "import alchemy_tools2 as at\n",
    "import explore_qml_data as eqd\n",
    "import cpmd_io\n",
    "import rdkit.Chem"
   ]
  },
  {
   "cell_type": "code",
   "execution_count": 2,
   "metadata": {},
   "outputs": [],
   "source": [
    "import ase.io"
   ]
  },
  {
   "cell_type": "code",
   "execution_count": 3,
   "metadata": {},
   "outputs": [],
   "source": [
    "def get_data(data):\n",
    "    e_npbc = []\n",
    "    for d in data:\n",
    "        e_npbc.append(d['e_nbpc'])\n",
    "    e_npbc = np.array(e_npbc)\n",
    "    \n",
    "    e_scaled = []\n",
    "    for d in data:\n",
    "        e_scaled.append(d['e_scaled'])\n",
    "    e_scaled = np.array(e_scaled)\n",
    "\n",
    "    e_el = []\n",
    "    for d in data:\n",
    "        e_el.append(d['e_el'])\n",
    "    e_el = np.array(e_el)\n",
    "\n",
    "    e_tot = []\n",
    "    for d in data:\n",
    "        e_tot.append(d['e_tot'])\n",
    "    e_tot = np.array(e_tot)\n",
    "\n",
    "    alchpots = []\n",
    "    for d, e in zip(data, e_el):\n",
    "        alchpots.append(e/d['nuclei'][:,0])\n",
    "    alchpots = np.array(alchpots)\n",
    "    \n",
    "    return(alchpots, e_el, e_npbc, e_scaled, e_tot)\n",
    "\n",
    "def sort_paths(paths, str_pos1, str_pos2, split1, split2):\n",
    "    paths_tuple = []\n",
    "    for p in paths:\n",
    "        sorting_string = p.split(split1)[str_pos1]\n",
    "        value = float(sorting_string.split(split2)[str_pos2])\n",
    "        paths_tuple.append((value, p))\n",
    "    paths_tuple.sort()\n",
    "    paths_sorted = []\n",
    "    for p in paths_tuple:\n",
    "        paths_sorted.append(p[1])\n",
    "    return(paths_sorted)\n",
    "\n",
    "import pymatgen.analysis.ewald\n",
    "def ewald(a, mol):\n",
    "    \n",
    "    #geometries['ang_1.42429'].get_positions(),\n",
    "    \n",
    "    #a = 18.886527828347333\n",
    "    s = pymatgen.core.structure.Structure(\n",
    "        [[a, 0, 0], [0, a, 0], [0, 0, a]],\n",
    "        species=mol.get_chemical_symbols(),\n",
    "        coords=mol.get_positions(),\n",
    "        charge=0,\n",
    "        coords_are_cartesian=True,\n",
    "        site_properties={\"charge\": mol.get_atomic_numbers()}\n",
    "    )\n",
    "    e = pymatgen.analysis.ewald.EwaldSummation(s)\n",
    "    return e.total_energy*0.0367493  # Ha\n",
    "\n",
    "def ewald_site(a, mol):\n",
    "    \n",
    "    #geometries['ang_1.42429'].get_positions(),\n",
    "    \n",
    "    #a = 18.886527828347333\n",
    "    s = pymatgen.core.structure.Structure(\n",
    "        [[a, 0, 0], [0, a, 0], [0, 0, a]],\n",
    "        species=mol.get_chemical_symbols(),\n",
    "        coords=mol.get_positions(),\n",
    "        charge=0,\n",
    "        coords_are_cartesian=True,\n",
    "        site_properties={\"charge\": mol.get_atomic_numbers()}\n",
    "    )\n",
    "    e = pymatgen.analysis.ewald.EwaldSummation(s)\n",
    "    \n",
    "    nuc_rep_site = []\n",
    "    for i in range(len(mol.get_atomic_numbers())):\n",
    "        nuc_rep_site.append(e.get_site_energy(i)*0.0367493)\n",
    "    return(np.array(nuc_rep_site))"
   ]
  },
  {
   "cell_type": "markdown",
   "metadata": {},
   "source": [
    "# Sum of atomic energies vs energy of whole molecule"
   ]
  },
  {
   "cell_type": "code",
   "execution_count": 6,
   "metadata": {},
   "outputs": [],
   "source": [
    "zeff_bool = True\n",
    "geom_type = 'bond'"
   ]
  },
  {
   "cell_type": "code",
   "execution_count": 7,
   "metadata": {},
   "outputs": [],
   "source": [
    "if geom_type == 'bond':\n",
    "# cpmd_bond = np.loadtxt('/home/misa/projects/atomic-energies/data/ueg_reference/amons/geometry/bond_stretch/butanol/cpmd_en.txt')\n",
    "    cpmd_bond = np.loadtxt('/data/sahre/projects/atomic-energies/data/ueg_reference/amons/geometry/bond_stretch/butanol/cpmd_en.txt')\n",
    "\n",
    "# cpmd_angle = np.loadtxt('/home/misa/projects/atomic-energies/data/ueg_reference/amons/geometry/angles/butanol_plane/cpmd_en.txt')\n",
    "# cpmd_dihe = np.loadtxt('/home/misa/projects/atomic-energies/data/ueg_reference/amons/geometry/dihedrals/butanol/cpmd_en.txt')"
   ]
  },
  {
   "cell_type": "code",
   "execution_count": 8,
   "metadata": {},
   "outputs": [],
   "source": [
    "if geom_type == 'bond':\n",
    "    paths_glob = glob.glob('/data/sahre/projects/atomic-energies/data/ueg_reference/amons/geometry/bond_stretch/butanol/dist_*/results.dict')\n",
    "# paths_glob = glob.glob('/data/sahre/projects/atomic-energies/data/ueg_reference/amons/geometry/angles/butanol_plane/ang*/results.dict')\n",
    "\n",
    "paths = sort_paths(paths_glob, -2, -1, '/','_')\n",
    "\n",
    "data = []\n",
    "for p in paths:\n",
    "    data.append(uqm.load_obj(p))\n",
    "    \n",
    "geometries = dict()\n",
    "rcoord = []\n",
    "zeff = np.array([4., 4, 4, 4, 6., 1., 1., 1., 1., 1., 1., 1., 1., 1., 1.])\n",
    "for d in data:\n",
    "    nuc_charges = d['nuclei'][:,0]\n",
    "    pos = d['nuclei'][:,1:]*Bohr\n",
    "    pos = eqd.shift2center(pos, [0,0,0])\n",
    "    if zeff_bool:\n",
    "        molecule = Atoms(numbers=zeff, positions=pos)\n",
    "    else:\n",
    "        molecule = Atoms(numbers=nuc_charges, positions=pos)\n",
    "#     ang = np.round(molecule.get_angle(1, 2,4))\n",
    "    if geom_type == 'bond':\n",
    "        ang = np.round(molecule.get_distance(2,4), 5)\n",
    "    rcoord.append(ang)\n",
    "    geometries[f'd_{ang}'] = molecule\n",
    "\n",
    "alchpots, e_el, e_npbc, e_scaled, e_tot = get_data(data)"
   ]
  },
  {
   "cell_type": "code",
   "execution_count": 9,
   "metadata": {},
   "outputs": [],
   "source": [
    "for k in geometries.keys():\n",
    "    d = np.round(geometries[k].get_distance(2,4), 2)\n",
    "    ase.io.write(f'/data/sahre/projects/atomic-energies/data/UFF_energies/butanol_bond/d_{d}.xyz', geometries[k])\n",
    "#     print(d)"
   ]
  },
  {
   "cell_type": "code",
   "execution_count": 10,
   "metadata": {},
   "outputs": [
    {
     "data": {
      "text/plain": [
       "{'d_0.92429': Atoms(symbols='Be4CH10', pbc=False),\n",
       " 'd_1.04929': Atoms(symbols='Be4CH10', pbc=False),\n",
       " 'd_1.17429': Atoms(symbols='Be4CH10', pbc=False),\n",
       " 'd_1.29929': Atoms(symbols='Be4CH10', pbc=False),\n",
       " 'd_1.42429': Atoms(symbols='Be4CH10', pbc=False),\n",
       " 'd_1.67429': Atoms(symbols='Be4CH10', pbc=False),\n",
       " 'd_1.92429': Atoms(symbols='Be4CH10', pbc=False),\n",
       " 'd_2.17429': Atoms(symbols='Be4CH10', pbc=False),\n",
       " 'd_2.42429': Atoms(symbols='Be4CH10', pbc=False)}"
      ]
     },
     "execution_count": 10,
     "metadata": {},
     "output_type": "execute_result"
    }
   ],
   "source": [
    "geometries"
   ]
  },
  {
   "cell_type": "code",
   "execution_count": 11,
   "metadata": {},
   "outputs": [
    {
     "data": {
      "text/plain": [
       "array([-194.56434576, -192.13806452, -189.96885136, -188.03949728,\n",
       "       -186.32466511, -183.365677  , -180.89051402, -178.80817799,\n",
       "       -177.01692757])"
      ]
     },
     "execution_count": 11,
     "metadata": {},
     "output_type": "execute_result"
    }
   ],
   "source": [
    "e_el_zeff = (alchpots*zeff).sum(axis=1)\n",
    "e_el_zeff"
   ]
  },
  {
   "cell_type": "code",
   "execution_count": 12,
   "metadata": {},
   "outputs": [],
   "source": [
    "# cpmd energy contributions\n",
    "# paths = glob.glob('/data/sahre/projects/atomic-energies/data/ueg_reference/amons/geometry/bond_stretch/butanol/dist_*/ve_32/run.log')\n",
    "paths = glob.glob('/data/sahre/projects/atomic-energies/data/ueg_reference/amons/geometry/angles/butanol_plane/ang*/ve_32/run.log')\n",
    "\n",
    "\n",
    "paths = sort_paths(paths, -3, -1, \"/\", '_')\n",
    "\n",
    "energy_contributions = {'TOTAL ENERGY =':[], 'KINETIC ENERGY =':[], 'ELECTROSTATIC ENERGY =':[], '(E+I)-(E+I) HARTREE ENERGY =':[], \n",
    "                   '(PSEUDO CHARGE I-I) ENERGY =':[], '(E-E) HARTREE ENERGY =':[], 'ESELF =':[], 'ESR =':[], 'LOCAL PSEUDOPOTENTIAL ENERGY =':[],\n",
    "                   'N-L PSEUDOPOTENTIAL ENERGY =':[], 'EXCHANGE-CORRELATION ENERGY =':[], 'GRADIENT CORRECTION ENERGY =':[]}\n",
    "\n",
    "for p in paths:\n",
    "\n",
    "    with open(p, 'r') as f:\n",
    "        logfile = f.readlines()\n",
    "\n",
    "    for k in energy_contributions.keys():\n",
    "        energy_contributions[k].append(cpmd_io.get_energy_contribution(logfile, k))\n",
    "    \n",
    "for k in energy_contributions.keys():\n",
    "    energy_contributions[k] = np.array(energy_contributions[k])\n",
    "    \n",
    "nuc_rep_cpmd = energy_contributions['(PSEUDO CHARGE I-I) ENERGY ='] + energy_contributions['ESR ='] - energy_contributions['ESELF ='] # should be ESR added or subtracted?\n",
    "\n",
    "# if I add up contributions as in log-file I get total energy if ESR is added not subtracted\n",
    "total_energy = energy_contributions['KINETIC ENERGY =']+energy_contributions['(E+I)-(E+I) HARTREE ENERGY =']+energy_contributions['ESR =']-energy_contributions['ESELF =']+energy_contributions['LOCAL PSEUDOPOTENTIAL ENERGY =']+energy_contributions['N-L PSEUDOPOTENTIAL ENERGY =']+energy_contributions['EXCHANGE-CORRELATION ENERGY =']\n"
   ]
  },
  {
   "cell_type": "code",
   "execution_count": 13,
   "metadata": {},
   "outputs": [
    {
     "data": {
      "image/png": "[encoded data removed]",
      "text/plain": [
       "<Figure size 432x288 with 1 Axes>"
      ]
     },
     "metadata": {
      "needs_background": "light"
     },
     "output_type": "display_data"
    }
   ],
   "source": [
    "for k in ['(E+I)-(E+I) HARTREE ENERGY =', 'LOCAL PSEUDOPOTENTIAL ENERGY =', 'N-L PSEUDOPOTENTIAL ENERGY =']:\n",
    "    plt.plot(rcoord, energy_contributions[k])"
   ]
  },
  {
   "cell_type": "code",
   "execution_count": 14,
   "metadata": {},
   "outputs": [
    {
     "data": {
      "image/png": "[encoded data removed]",
      "text/plain": [
       "<Figure size 432x288 with 1 Axes>"
      ]
     },
     "metadata": {
      "needs_background": "light"
     },
     "output_type": "display_data"
    }
   ],
   "source": [
    "for k in ['(E+I)-(E+I) HARTREE ENERGY =', 'N-L PSEUDOPOTENTIAL ENERGY =']:\n",
    "    plt.plot(rcoord, energy_contributions[k])"
   ]
  },
  {
   "cell_type": "code",
   "execution_count": 15,
   "metadata": {},
   "outputs": [
    {
     "data": {
      "text/plain": [
       "{'TOTAL ENERGY =': array([-44.41623595, -44.59671371, -44.68273665, -44.71951074,\n",
       "        -44.72975981, -44.72229476, -44.69995708, -44.66331302,\n",
       "        -44.61232041]),\n",
       " 'KINETIC ENERGY =': array([36.43092357, 36.03113282, 35.8401953 , 35.76710944, 35.75367752,\n",
       "        35.7721212 , 35.81137136, 35.86788857, 35.9398908 ]),\n",
       " 'ELECTROSTATIC ENERGY =': array([-33.21147971, -33.43226418, -33.49163165, -33.50468386,\n",
       "        -33.50383403, -33.49768278, -33.48811001, -33.47480022,\n",
       "        -33.45639294]),\n",
       " '(E+I)-(E+I) HARTREE ENERGY =': array([0, 0, 0, 0, 0, 0, 0, 0, 0]),\n",
       " '(PSEUDO CHARGE I-I) ENERGY =': array([0, 0, 0, 0, 0, 0, 0, 0, 0]),\n",
       " '(E-E) HARTREE ENERGY =': array([0, 0, 0, 0, 0, 0, 0, 0, 0]),\n",
       " 'ESELF =': array([36.56970904, 36.56970904, 36.56970904, 36.56970904, 36.56970904,\n",
       "        36.56970904, 36.56970904, 36.56970904, 36.56970904]),\n",
       " 'ESR =': array([2.65801764, 2.44550308, 2.3908291 , 2.37819039, 2.37618869,\n",
       "        2.37757822, 2.3815639 , 2.38962196, 2.40492491]),\n",
       " 'LOCAL PSEUDOPOTENTIAL ENERGY =': array([-36.3934601 , -35.98192065, -35.82323727, -35.76884061,\n",
       "        -35.75782162, -35.76611485, -35.78515071, -35.81293145,\n",
       "        -35.84944892]),\n",
       " 'N-L PSEUDOPOTENTIAL ENERGY =': array([2.98975678, 2.96228493, 2.93068144, 2.90845513, 2.89383194,\n",
       "        2.88436258, 2.87867414, 2.87622897, 2.87684357]),\n",
       " 'EXCHANGE-CORRELATION ENERGY =': array([-14.23197649, -14.17594663, -14.13874447, -14.12155084,\n",
       "        -14.11561362, -14.11498092, -14.11674186, -14.11969888,\n",
       "        -14.12321292]),\n",
       " 'GRADIENT CORRECTION ENERGY =': array([-0.25446248, -0.25924813, -0.26276657, -0.26513804, -0.2664451 ,\n",
       "        -0.2668731 , -0.26659527, -0.26574482, -0.26440201])}"
      ]
     },
     "execution_count": 15,
     "metadata": {},
     "output_type": "execute_result"
    }
   ],
   "source": [
    "energy_contributions"
   ]
  },
  {
   "cell_type": "code",
   "execution_count": 16,
   "metadata": {},
   "outputs": [],
   "source": [
    "# ewald energies"
   ]
  },
  {
   "cell_type": "code",
   "execution_count": 20,
   "metadata": {},
   "outputs": [],
   "source": [
    "box_length = 18.886527828347333\n",
    "ewald_energies = []\n",
    "ewald_all = []\n",
    "for k in geometries.keys():\n",
    "#     ewald_energies.append(ewald(box_length, geometries[k]))\n",
    "    ewald_energies.append(ewald_site(box_length, geometries[k]))\n",
    "    ewald_all.append(ewald(box_length, geometries[k]))\n",
    "ewald_energies = np.array(ewald_energies)\n",
    "\n",
    "# fig, ax = plt.subplots(1,2)\n",
    "# ax[0].plot(rcoord, ewald_energies, label = 'pymatgen')\n",
    "# ax[0].plot(rcoord, nuc_rep_cpmd, label = 'CPMD')\n",
    "# ax[0].set_xlabel(\"d (Ang)\")\n",
    "# ax[0].set_ylabel('E_NN (Ha)')\n",
    "# ax[1].plot(rcoord, nuc_rep_cpmd-ewald_energies, label = 'CPMD-pymatgen')\n",
    "# ax[1].set_xlabel(\"d (Ang)\")\n",
    "# ax[1].set_ylabel(r'$\\Delta$E_NN (Ha)')\n",
    "# ax[0].legend()\n",
    "# ax[1].legend()\n",
    "# fig.tight_layout()"
   ]
  },
  {
   "cell_type": "code",
   "execution_count": 18,
   "metadata": {},
   "outputs": [
    {
     "data": {
      "text/plain": [
       "[<matplotlib.lines.Line2D at 0x7f02abca6ca0>]"
      ]
     },
     "execution_count": 18,
     "metadata": {},
     "output_type": "execute_result"
    },
    {
     "data": {
      "image/png": "[encoded data removed]",
      "text/plain": [
       "<Figure size 432x288 with 1 Axes>"
      ]
     },
     "metadata": {
      "needs_background": "light"
     },
     "output_type": "display_data"
    }
   ],
   "source": [
    "plt.plot(rcoord, (alchpots*zeff+ewald_energies).sum(axis=1), '-o')"
   ]
  },
  {
   "cell_type": "code",
   "execution_count": 21,
   "metadata": {},
   "outputs": [
    {
     "data": {
      "text/plain": [
       "[83.97832149776869,\n",
       " 81.33533073027911,\n",
       " 79.0955164629232,\n",
       " 77.15726731970335,\n",
       " 75.4534393344074,\n",
       " 72.57573466100816,\n",
       " 70.22055160821375,\n",
       " 68.2475893901379,\n",
       " 66.56748377432845]"
      ]
     },
     "execution_count": 21,
     "metadata": {},
     "output_type": "execute_result"
    }
   ],
   "source": [
    "ewald_all"
   ]
  },
  {
   "cell_type": "code",
   "execution_count": 106,
   "metadata": {},
   "outputs": [
    {
     "data": {
      "text/plain": [
       "[0.92429,\n",
       " 1.04929,\n",
       " 1.17429,\n",
       " 1.29929,\n",
       " 1.42429,\n",
       " 1.67429,\n",
       " 1.92429,\n",
       " 2.17429,\n",
       " 2.42429]"
      ]
     },
     "execution_count": 106,
     "metadata": {},
     "output_type": "execute_result"
    }
   ],
   "source": [
    "plt.plot(rcoord, (alchpots*zeff+ewald_energies), '-o')"
   ]
  },
  {
   "cell_type": "code",
   "execution_count": 23,
   "metadata": {},
   "outputs": [
    {
     "data": {
      "text/plain": [
       "[<matplotlib.lines.Line2D at 0x7f0cfc062fa0>]"
      ]
     },
     "execution_count": 23,
     "metadata": {},
     "output_type": "execute_result"
    },
    {
     "data": {
      "image/png": "[encoded data removed]",
      "text/plain": [
       "<Figure size 432x288 with 1 Axes>"
      ]
     },
     "metadata": {
      "needs_background": "light"
     },
     "output_type": "display_data"
    }
   ],
   "source": [
    "plt.plot(rcoord,ewald_energies+e_el_zeff, '-o')"
   ]
  },
  {
   "cell_type": "code",
   "execution_count": 22,
   "metadata": {},
   "outputs": [
    {
     "data": {
      "text/plain": [
       "[58.0, 70.0, 83.0, 95.0, 108.0, 120.0, 133.0, 145.0, 158.0]"
      ]
     },
     "execution_count": 22,
     "metadata": {},
     "output_type": "execute_result"
    }
   ],
   "source": [
    "rcoord"
   ]
  },
  {
   "cell_type": "code",
   "execution_count": 55,
   "metadata": {},
   "outputs": [
    {
     "data": {
      "text/plain": [
       "[<matplotlib.lines.Line2D at 0x7f0476554e80>]"
      ]
     },
     "execution_count": 55,
     "metadata": {},
     "output_type": "execute_result"
    },
    {
     "data": {
      "image/png": "[encoded data removed]",
      "text/plain": [
       "<Figure size 432x288 with 1 Axes>"
      ]
     },
     "metadata": {
      "needs_background": "light"
     },
     "output_type": "display_data"
    }
   ],
   "source": [
    "plt.plot(rcoord, ewald_energies)"
   ]
  },
  {
   "cell_type": "code",
   "execution_count": 52,
   "metadata": {},
   "outputs": [
    {
     "data": {
      "text/plain": [
       "[<matplotlib.lines.Line2D at 0x7f04765dbac0>]"
      ]
     },
     "execution_count": 52,
     "metadata": {},
     "output_type": "execute_result"
    },
    {
     "data": {
      "image/png": "[encoded data removed]",
      "text/plain": [
       "<Figure size 432x288 with 1 Axes>"
      ]
     },
     "metadata": {
      "needs_background": "light"
     },
     "output_type": "display_data"
    }
   ],
   "source": [
    "plt.plot(rcoord,e_el_zeff)"
   ]
  },
  {
   "cell_type": "code",
   "execution_count": 56,
   "metadata": {},
   "outputs": [
    {
     "data": {
      "text/plain": [
       "array([-110.81441289, -110.91080203, -110.91449435, -110.85732949,\n",
       "       -110.87122578, -110.88245475, -110.89228294, -110.89079012,\n",
       "       -110.84387015])"
      ]
     },
     "execution_count": 56,
     "metadata": {},
     "output_type": "execute_result"
    }
   ],
   "source": [
    "ewald_energies+e_el_zeff"
   ]
  },
  {
   "cell_type": "code",
   "execution_count": 49,
   "metadata": {},
   "outputs": [
    {
     "name": "stderr",
     "output_type": "stream",
     "text": [
      "No handles with labels found to put in legend.\n"
     ]
    },
    {
     "data": {
      "text/plain": [
       "<matplotlib.legend.Legend at 0x7f040f8b7e20>"
      ]
     },
     "execution_count": 49,
     "metadata": {},
     "output_type": "execute_result"
    },
    {
     "data": {
      "image/png": "[encoded data removed]",
      "text/plain": [
       "<Figure size 432x288 with 2 Axes>"
      ]
     },
     "metadata": {
      "needs_background": "light"
     },
     "output_type": "display_data"
    }
   ],
   "source": [
    "fig, (ax, ax2) = plt.subplots(2, 1, sharex=True)\n",
    "fig.subplots_adjust(hspace=0.05)  # adjust space between axes\n",
    "\n",
    "# ax2.plot(rcoord, e_el_zeff+nuc_rep_cpmd, '-o', label=\"alchemy energy + CPMD nuc_rep\") # +2*energy_contributions['ESELF =']\n",
    "ax.plot(rcoord, energy_contributions['TOTAL ENERGY ='], '-o', color = 'tab:orange', label = 'SCF energy')\n",
    "# ax.plot(rcoord, total_energy, '--')\n",
    "\n",
    "# # hide the spines between ax and ax2\n",
    "# ax_cpmd.spines.bottom.set_visible(False)\n",
    "# ax_alch.spines.top.set_visible(False)\n",
    "# ax_cpmd.xaxis.tick_top()\n",
    "# ax_cpmd.tick_params(labeltop=False)  # don't put tick labels at the top\n",
    "# ax_alch.xaxis.tick_bottom()\n",
    "\n",
    "# hide the spines between ax and ax2\n",
    "ax.spines['bottom'].set_visible(False)\n",
    "ax2.spines['top'].set_visible(False)\n",
    "ax.xaxis.tick_top()\n",
    "ax.tick_params(labeltop=False)  # don't put tick labels at the top\n",
    "ax2.xaxis.tick_bottom()\n",
    "\n",
    "\n",
    "d = .015  # how big to make the diagonal lines in axes coordinates\n",
    "# arguments to pass to plot, just so we don't keep repeating them\n",
    "kwargs = dict(transform=ax.transAxes, color='k', clip_on=False)\n",
    "ax.plot((-d, +d), (-d, +d), **kwargs)        # top-left diagonal\n",
    "ax.plot((1 - d, 1 + d), (-d, +d), **kwargs)  # top-right diagonal\n",
    "\n",
    "kwargs.update(transform=ax2.transAxes)  # switch to the bottom axes\n",
    "ax2.plot((-d, +d), (1 - d, 1 + d), **kwargs)  # bottom-left diagonal\n",
    "ax2.plot((1 - d, 1 + d), (1 - d, 1 + d), **kwargs)  # bottom-right diagonal\n",
    "\n",
    "ax.legend()\n",
    "ax2.legend()"
   ]
  },
  {
   "cell_type": "code",
   "execution_count": 51,
   "metadata": {},
   "outputs": [
    {
     "data": {
      "text/plain": [
       "<matplotlib.legend.Legend at 0x7f04765fba90>"
      ]
     },
     "execution_count": 51,
     "metadata": {},
     "output_type": "execute_result"
    },
    {
     "data": {
      "image/png": "[encoded data removed]",
      "text/plain": [
       "<Figure size 432x288 with 2 Axes>"
      ]
     },
     "metadata": {
      "needs_background": "light"
     },
     "output_type": "display_data"
    }
   ],
   "source": [
    "# plt.plot(rcoord, e_el_zeff + ewald_energies, '-o',label=\"alchemy energy ewald\")\n",
    "# plt.plot(rcoord, e_el_zeff+nuc_rep_cpmd, '-o', label=\"alchemy energy\") # +2*energy_contributions['ESELF =']\n",
    "\n",
    "\n",
    "fig, (ax, ax2) = plt.subplots(2, 1, sharex=True)\n",
    "fig.subplots_adjust(hspace=0.05)  # adjust space between axes\n",
    "\n",
    "ax.plot(rcoord, e_el_zeff + ewald_energies, '-o',label=\"alchemy energy ewald\", color='tab:orange') # +2*energy_contributions['ESELF =']\n",
    "ax2.plot(rcoord, e_el_zeff+nuc_rep_cpmd, '-o', label=\"alchemy energy\")\n",
    "\n",
    "# # hide the spines between ax and ax2\n",
    "# ax_cpmd.spines.bottom.set_visible(False)\n",
    "# ax_alch.spines.top.set_visible(False)\n",
    "# ax_cpmd.xaxis.tick_top()\n",
    "# ax_cpmd.tick_params(labeltop=False)  # don't put tick labels at the top\n",
    "# ax_alch.xaxis.tick_bottom()\n",
    "\n",
    "# hide the spines between ax and ax2\n",
    "ax.spines['bottom'].set_visible(False)\n",
    "ax2.spines['top'].set_visible(False)\n",
    "ax.xaxis.tick_top()\n",
    "ax.tick_params(labeltop=False)  # don't put tick labels at the top\n",
    "ax2.xaxis.tick_bottom()\n",
    "\n",
    "\n",
    "d = .015  # how big to make the diagonal lines in axes coordinates\n",
    "# arguments to pass to plot, just so we don't keep repeating them\n",
    "kwargs = dict(transform=ax.transAxes, color='k', clip_on=False)\n",
    "ax.plot((-d, +d), (-d, +d), **kwargs)        # top-left diagonal\n",
    "ax.plot((1 - d, 1 + d), (-d, +d), **kwargs)  # top-right diagonal\n",
    "\n",
    "kwargs.update(transform=ax2.transAxes)  # switch to the bottom axes\n",
    "ax2.plot((-d, +d), (1 - d, 1 + d), **kwargs)  # bottom-left diagonal\n",
    "ax2.plot((1 - d, 1 + d), (1 - d, 1 + d), **kwargs)  # bottom-right diagonal\n",
    "\n",
    "ax.legend()\n",
    "ax2.legend()"
   ]
  },
  {
   "cell_type": "markdown",
   "metadata": {},
   "source": [
    "SCF calculates ion-electron interaction via pseudopotential, we describe interaction with 1/r term\n",
    "valence electron density from PP calculation different from ved from all electron calculation -> PP should be used in principle?\n",
    "\n",
    "non local pseudopotential not scaled\n",
    "\n",
    "numerical errors in integration wrt lambda, r\n",
    "\n",
    "DFT is bad in describing anions bond breaking \n"
   ]
  },
  {
   "cell_type": "code",
   "execution_count": 44,
   "metadata": {},
   "outputs": [
    {
     "data": {
      "text/plain": [
       "<matplotlib.legend.Legend at 0x7f189280c190>"
      ]
     },
     "execution_count": 44,
     "metadata": {},
     "output_type": "execute_result"
    },
    {
     "data": {
      "image/png": "[encoded data removed]",
      "text/plain": [
       "<Figure size 432x288 with 1 Axes>"
      ]
     },
     "metadata": {
      "needs_background": "light"
     },
     "output_type": "display_data"
    }
   ],
   "source": [
    "# energy_contributions['(E+I)-(E+I) HARTREE ENERGY ='] contains hartree energy of electrons and of nuclei repulsion\n",
    "# Why is it so small almost the difference between II and hartree\n",
    "\n",
    "\n",
    "diff_ps_ii_h = energy_contributions['(E-E) HARTREE ENERGY =']-energy_contributions['(PSEUDO CHARGE I-I) ENERGY =']\n",
    "\n",
    "plt.plot(rcoord, energy_contributions['(E+I)-(E+I) HARTREE ENERGY ='], label='EHEP')\n",
    "plt.plot(rcoord, diff_ps_ii_h, label = 'diff')\n",
    "plt.legend()"
   ]
  },
  {
   "cell_type": "markdown",
   "metadata": {},
   "source": [
    "# Energy as function of lambda"
   ]
  },
  {
   "cell_type": "code",
   "execution_count": 26,
   "metadata": {},
   "outputs": [],
   "source": [
    "paths_lambda = glob.glob('/data/sahre/projects/atomic-energies/data/ueg_reference/amons/geometry/bond_stretch/butanol/dist_0.0/ve_*/run.log')\n",
    "paths_lambda = sort_paths(paths_lambda, -2, -1, \"/\", '_')\n",
    "\n",
    "energy_contributions = {'TOTAL ENERGY =':[], 'KINETIC ENERGY =':[], 'ELECTROSTATIC ENERGY =':[], '(E+I)-(E+I) HARTREE ENERGY =':[], \n",
    "                   '(PSEUDO CHARGE I-I) ENERGY =':[], '(E-E) HARTREE ENERGY =':[], 'ESELF =':[], 'ESR =':[], 'LOCAL PSEUDOPOTENTIAL ENERGY =':[],\n",
    "                   'N-L PSEUDOPOTENTIAL ENERGY =':[], 'EXCHANGE-CORRELATION ENERGY =':[], 'GRADIENT CORRECTION ENERGY =':[]}\n",
    "\n",
    "for p in paths_lambda:\n",
    "\n",
    "    with open(p, 'r') as f:\n",
    "        logfile = f.readlines()\n",
    "\n",
    "    for k in energy_contributions.keys():\n",
    "        energy_contributions[k].append(cpmd_io.get_energy_contribution(logfile, k))\n",
    "    \n",
    "for k in energy_contributions.keys():\n",
    "    energy_contributions[k] = np.array(energy_contributions[k])\n",
    "    \n",
    "nuc_rep_cpmd = energy_contributions['ESR =']+energy_contributions['(PSEUDO CHARGE I-I) ENERGY =']-energy_contributions['ESELF =']\n",
    "\n",
    "lam_vals = np.array([0, 13, 19, 26, 32])/32\n",
    "# electronic_interactions = energy_contributions['KINETIC ENERGY =']+energy_contributions['EXCHANGE-CORRELATION ENERGY =']+energy_contributions['GRADIENT CORRECTION ENERGY =']+energy_contributions['(E+I)-(E+I) HARTREE ENERGY =']#+energy_contributions['(E-E) HARTREE ENERGY =']\n",
    "# electron_nuclei_interaction = energy_contributions['LOCAL PSEUDOPOTENTIAL ENERGY =']+energy_contributions['N-L PSEUDOPOTENTIAL ENERGY =']\n",
    "# nuclei_interactions = energy_contributions['ESR ='] - energy_contributions['ESELF =']#+energy_contributions['(PSEUDO CHARGE I-I) ENERGY =']"
   ]
  },
  {
   "cell_type": "code",
   "execution_count": 27,
   "metadata": {},
   "outputs": [
    {
     "data": {
      "text/plain": [
       "[<matplotlib.lines.Line2D at 0x7f5d8dff23d0>]"
      ]
     },
     "execution_count": 27,
     "metadata": {},
     "output_type": "execute_result"
    },
    {
     "data": {
      "image/png": "[encoded data removed]",
      "text/plain": [
       "<Figure size 432x288 with 1 Axes>"
      ]
     },
     "metadata": {
      "needs_background": "light"
     },
     "output_type": "display_data"
    }
   ],
   "source": [
    "plt.plot(lam_vals, nuc_rep_cpmd)"
   ]
  },
  {
   "cell_type": "code",
   "execution_count": 29,
   "metadata": {},
   "outputs": [
    {
     "data": {
      "text/plain": [
       "[<matplotlib.lines.Line2D at 0x7f5d8de84640>]"
      ]
     },
     "execution_count": 29,
     "metadata": {},
     "output_type": "execute_result"
    },
    {
     "data": {
      "image/png": "[encoded data removed]",
      "text/plain": [
       "<Figure size 432x288 with 1 Axes>"
      ]
     },
     "metadata": {
      "needs_background": "light"
     },
     "output_type": "display_data"
    }
   ],
   "source": [
    "plt.plot(lam_vals**2, nuc_rep_cpmd)"
   ]
  },
  {
   "cell_type": "code",
   "execution_count": 28,
   "metadata": {},
   "outputs": [
    {
     "data": {
      "text/plain": [
       "[<matplotlib.lines.Line2D at 0x7f5d8df6d070>]"
      ]
     },
     "execution_count": 28,
     "metadata": {},
     "output_type": "execute_result"
    },
    {
     "data": {
      "image/png": "[encoded data removed]",
      "text/plain": [
       "<Figure size 432x288 with 1 Axes>"
      ]
     },
     "metadata": {
      "needs_background": "light"
     },
     "output_type": "display_data"
    }
   ],
   "source": [
    "plt.plot(lam_vals, energy_contributions['(PSEUDO CHARGE I-I) ENERGY ='])\n",
    "\n",
    "plt.plot(lam_vals, energy_contributions['ESR ='])\n",
    "plt.plot(lam_vals, energy_contributions['ESELF ='])\n",
    "\n",
    "\n"
   ]
  },
  {
   "cell_type": "markdown",
   "metadata": {},
   "source": [
    "# Ewald summation nuclear repulsion"
   ]
  },
  {
   "cell_type": "code",
   "execution_count": 55,
   "metadata": {},
   "outputs": [],
   "source": [
    "import numpy as np\n",
    "from ase import Atoms\n",
    "import ase.visualize\n",
    "from ase.units import Bohr\n",
    "#from pyscf import gto, scf, mp, cc, dft\n",
    "from pyscf.pbc import gto as gto_pbc\n",
    "from pyscf import gto as gto\n",
    "import glob\n",
    "from matplotlib import pyplot as plt\n",
    "\n",
    "import pandas as pd\n",
    "import sys\n",
    "sys.path.insert(0, '/home/misa/git_repositories/APDFT/prototyping/atomic_energies/')\n",
    "sys.path.insert(0, '/home/sahre/git_repositories/APDFT/prototyping/atomic_energies/')\n",
    "\n",
    "import utils_qm as uqm\n",
    "from parse_density_files import CUBE\n",
    "import alchemy_tools2 as at\n",
    "import explore_qml_data as eqd\n"
   ]
  },
  {
   "cell_type": "code",
   "execution_count": 56,
   "metadata": {},
   "outputs": [],
   "source": [
    "import pymatgen\n",
    "import pymatgen.analysis.ewald\n",
    "def ewald(a, mol):\n",
    "    \n",
    "    #geometries['ang_1.42429'].get_positions(),\n",
    "    \n",
    "    #a = 18.886527828347333\n",
    "    s = pymatgen.core.structure.Structure(\n",
    "        [[a, 0, 0], [0, a, 0], [0, 0, a]],\n",
    "        species=mol.get_chemical_symbols(),\n",
    "        coords=mol.get_positions(),\n",
    "        charge=0,\n",
    "        coords_are_cartesian=True,\n",
    "        site_properties={\"charge\": mol.get_atomic_numbers()}\n",
    "    )\n",
    "    e = pymatgen.analysis.ewald.EwaldSummation(s)\n",
    "    return e.total_energy*0.0367493  # Ha"
   ]
  },
  {
   "cell_type": "code",
   "execution_count": 57,
   "metadata": {},
   "outputs": [],
   "source": [
    "data = uqm.load_obj('/data/sahre/projects/atomic-energies/data/ueg_reference/amons/geometry/bond_stretch/butanol/dist_0.0/results.dict')\n",
    "molecule = Atoms(numbers=data['nuclei'][:,0], positions=data['nuclei'][:,1:]*Bohr)\n",
    "\n",
    "molecule = Atoms(numbers=np.array([4., 4., 4., 4., 6., 1., 1., 1., 1., 1., 1., 1., 1., 1., 1.]), positions=data['nuclei'][:,1:]*Bohr)"
   ]
  },
  {
   "cell_type": "code",
   "execution_count": 59,
   "metadata": {},
   "outputs": [
    {
     "data": {
      "text/plain": [
       "75.45343933440739"
      ]
     },
     "execution_count": 59,
     "metadata": {},
     "output_type": "execute_result"
    }
   ],
   "source": [
    "ewald(18.886527828347333, molecule)"
   ]
  },
  {
   "cell_type": "code",
   "execution_count": null,
   "metadata": {},
   "outputs": [],
   "source": [
    "ewald(20, molecule)"
   ]
  },
  {
   "cell_type": "code",
   "execution_count": null,
   "metadata": {},
   "outputs": [],
   "source": [
    "nuc_rep_ewald = []\n",
    "for b in [20, 50, 100, 1000, 10000]:\n",
    "    nuc_rep_ewald.append(ewald(b, molecule))"
   ]
  },
  {
   "cell_type": "code",
   "execution_count": null,
   "metadata": {},
   "outputs": [],
   "source": [
    "plt.plot([20, 50, 100, 1000, 10000], nuc_rep_ewald, '-o')\n",
    "plt.xlabel('boxsize (Ang)')\n",
    "plt.ylabel('Energy (Ha)')"
   ]
  },
  {
   "cell_type": "code",
   "execution_count": null,
   "metadata": {},
   "outputs": [],
   "source": [
    "nuc_rep_ewald"
   ]
  },
  {
   "cell_type": "code",
   "execution_count": null,
   "metadata": {},
   "outputs": [],
   "source": [
    "molecule"
   ]
  },
  {
   "cell_type": "code",
   "execution_count": null,
   "metadata": {},
   "outputs": [],
   "source": [
    "atoms = uqm.ase2pyscf(molecule)"
   ]
  },
  {
   "cell_type": "code",
   "execution_count": null,
   "metadata": {},
   "outputs": [],
   "source": [
    "mol = gto.Mole()\n",
    "mol.atom = atoms\n",
    "mol.unit = \"Angstrom\"\n",
    "mol.build()\n",
    "mol.energy_nuc()"
   ]
  },
  {
   "cell_type": "code",
   "execution_count": null,
   "metadata": {},
   "outputs": [],
   "source": [
    "cell = gto_pbc.Cell()\n",
    "cell.atom = (atoms)\n",
    "# cell.basis = 'gth-dzvp'\n",
    "# cell.pseudo = 'gth-pade'\n",
    "mol.unit = \"Angstrom\"\n",
    "\n",
    "cell.a = np.eye(3) * 20\n",
    "cell.build()\n",
    "cell.energy_nuc()"
   ]
  },
  {
   "cell_type": "code",
   "execution_count": null,
   "metadata": {},
   "outputs": [],
   "source": []
  },
  {
   "cell_type": "code",
   "execution_count": null,
   "metadata": {},
   "outputs": [],
   "source": [
    "ekin = 35.7536775\n",
    "eii = 103.11776806\n",
    "eeehar = 103.70550638\n",
    "eself = 36.56970904\n",
    "esr = 2.37618869\n",
    "eloc = -35.75782162\n",
    "enonloc = 2.89383194\n",
    "exc = -14.11561362\n",
    "egrad = -0.26644510"
   ]
  },
  {
   "cell_type": "code",
   "execution_count": null,
   "metadata": {},
   "outputs": [],
   "source": [
    "eeehar-eii"
   ]
  },
  {
   "cell_type": "code",
   "execution_count": null,
   "metadata": {},
   "outputs": [],
   "source": []
  },
  {
   "cell_type": "code",
   "execution_count": null,
   "metadata": {},
   "outputs": [],
   "source": [
    "cell.atom"
   ]
  },
  {
   "cell_type": "code",
   "execution_count": null,
   "metadata": {},
   "outputs": [],
   "source": [
    ">>> from pyscf.pbc import gto\n",
    ">>> cell = gto.Cell()\n",
    ">>> cell.atom = '''H  0 0 0; H 1 1 1'''\n",
    ">>> cell.basis = 'gth-dzvp'\n",
    ">>> cell.pseudo = 'gth-pade'\n",
    ">>> cell.a = numpy.eye(3) * 2\n",
    ">>> cell.build()\n"
   ]
  }
 ],
 "metadata": {
  "kernelspec": {
   "display_name": "Python 3",
   "language": "python",
   "name": "python3"
  },
  "language_info": {
   "codemirror_mode": {
    "name": "ipython",
    "version": 3
   },
   "file_extension": ".py",
   "mimetype": "text/x-python",
   "name": "python",
   "nbconvert_exporter": "python",
   "pygments_lexer": "ipython3",
   "version": "3.9.5"
  }
 },
 "nbformat": 4,
 "nbformat_minor": 4
}
