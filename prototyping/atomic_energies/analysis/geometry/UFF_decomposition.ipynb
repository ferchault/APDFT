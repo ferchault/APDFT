{
 "cells": [
  {
   "cell_type": "code",
   "execution_count": 1,
   "id": "702db3b5-bc72-412b-8b66-60e22b54a65a",
   "metadata": {},
   "outputs": [],
   "source": [
    "from ase import Atoms\n",
    "import ase.io\n",
    "import ase.visualize\n",
    "import numpy as np\n",
    "from matplotlib import pyplot as plt\n",
    "\n",
    "import openbabel"
   ]
  },
  {
   "cell_type": "code",
   "execution_count": 2,
   "id": "2929a760-06bf-4b63-8be4-599ffd1f9a76",
   "metadata": {},
   "outputs": [
    {
     "ename": "IndentationError",
     "evalue": "expected an indented block (<ipython-input-2-f649107c2301>, line 3)",
     "output_type": "error",
     "traceback": [
      "\u001b[0;36m  File \u001b[0;32m\"<ipython-input-2-f649107c2301>\"\u001b[0;36m, line \u001b[0;32m3\u001b[0m\n\u001b[0;31m    \u001b[0m\n\u001b[0m    ^\u001b[0m\n\u001b[0;31mIndentationError\u001b[0m\u001b[0;31m:\u001b[0m expected an indented block\n"
     ]
    }
   ],
   "source": [
    "# set up table\n",
    "class UFF_Decomposition():\n",
    "    "
   ]
  },
  {
   "cell_type": "code",
   "execution_count": null,
   "id": "ec307ce3-524f-46c9-9bbd-674434ffa995",
   "metadata": {},
   "outputs": [],
   "source": [
    "atomic_energies_UFF = {'atom_id_babel':[], 'atomic_number':[], 'position':[], 'e_bond':[], 'e_angle':[], 'e_torsion':[], 'e_vdw':[], 'e_atomic':[]}"
   ]
  },
  {
   "cell_type": "code",
   "execution_count": 30,
   "id": "31e0f788-a3ed-4b63-876a-eba5b4aae53b",
   "metadata": {},
   "outputs": [],
   "source": [
    "# def get_ob_properties(file_path, properties):\n",
    "    \n",
    "#     with open(file_path, 'r') as f:\n",
    "#         file = f.readlines()\n",
    "        \n",
    "#     for p in properties:\n",
    "\n",
    "def sort_dict(dict_unsorted):\n",
    "    # sort by numerical key\n",
    "    keys_sorted = list(dict_unsorted.keys())\n",
    "    keys_sorted.sort()\n",
    "    dict_sorted = dict()\n",
    "    for ks in keys_sorted:\n",
    "        dict_sorted[ks] = dict_unsorted[ks]\n",
    "    return(dict_sorted)\n",
    "\n",
    "def parse_positions(file):\n",
    "    \"\"\"\n",
    "    get positions from output file\n",
    "    \"\"\"\n",
    "    # find section for bond stretching because here I also write positions\n",
    "    linenumber = 'Nan'\n",
    "    for ln, line in enumerate(file):\n",
    "        if line == 'B O N D   S T R E T C H I N G\\n':\n",
    "            linenumber = ln\n",
    "            break\n",
    "\n",
    "    # parse section for positions\n",
    "    parse = file[linenumber+5:]\n",
    "    i = 0\n",
    "\n",
    "    position_dict = dict()\n",
    "    while '     TOTAL BOND STRETCHING ENERGY' not in parse[i]:\n",
    "        # get index and position of atom i\n",
    "        idx_i = int(parse[i].strip('\\n').split()[-8])\n",
    "        position_i = [float(pos) for pos in parse[i].strip('\\n').split()[-6:-3]]\n",
    "        # sanity check that same index gives alsways same position\n",
    "        if idx_i in position_dict.keys():\n",
    "            assert position_dict[idx_i] == position_i, \"index assigned to different positions\"\n",
    "        else:\n",
    "            position_dict[idx_i] = position_i\n",
    "\n",
    "        # get index and position of atom j\n",
    "        idx_j = int(parse[i].strip('\\n').split()[-7])\n",
    "        position_j = [float(pos) for pos in parse[i].strip('\\n').split()[-3:]]\n",
    "        # sanity check that same index gives alsways same position\n",
    "        if idx_j in position_dict.keys():\n",
    "            assert position_dict[idx_j] == position_j, \"index assigned to different positions\"\n",
    "        else:\n",
    "            position_dict[idx_j] = position_j\n",
    "\n",
    "        i += 1\n",
    "    \n",
    "    # sort by babel atom indices\n",
    "    position_dict_sorted = sort_dict(position_dict)\n",
    "    return(position_dict_sorted)\n",
    "\n",
    "\n",
    "def parse_e_bond(file):\n",
    "    \"\"\"\n",
    "    get bond energies from output file\n",
    "    \"\"\"\n",
    "    # find section for bond stretching because here I also write positions\n",
    "    linenumber = 'Nan'\n",
    "    for ln, line in enumerate(file):\n",
    "        if line == 'B O N D   S T R E T C H I N G\\n':\n",
    "            linenumber = ln\n",
    "            break\n",
    "\n",
    "    # parse section for positions\n",
    "    parse = file[linenumber+5:]\n",
    "    i = 0\n",
    "\n",
    "    prop_dict = dict()\n",
    "    while 'TOTAL BOND STRETCHING ENERGY' not in parse[i]:\n",
    "        # get index of atom i\n",
    "        idx_i = int(parse[i].strip('\\n').split()[-8])\n",
    "        # get index of atom j\n",
    "        idx_j = int(parse[i].strip('\\n').split()[-7])\n",
    "        # get bond energy\n",
    "        e_bond = float(parse[i].strip('\\n').split()[7])\n",
    "        \n",
    "        # add half energy if index already exists otherwise initialize key and assign energy\n",
    "        if idx_i in prop_dict.keys():\n",
    "            prop_dict[idx_i] += e_bond/2\n",
    "        else:\n",
    "            prop_dict[idx_i] = e_bond/2\n",
    "            \n",
    "        if idx_j in prop_dict.keys():\n",
    "            prop_dict[idx_j] += e_bond/2\n",
    "        else:\n",
    "            prop_dict[idx_j] = e_bond/2\n",
    "\n",
    "        i += 1\n",
    "    return(sort_dict(prop_dict))\n",
    "\n",
    "\n",
    "def parse_e_angle(file):\n",
    "    \"\"\"\n",
    "    get angle energies from output file\n",
    "    \"\"\"\n",
    "    # find section for bond stretching because here I also write positions\n",
    "    linenumber = 'Nan'\n",
    "    for ln, line in enumerate(file):\n",
    "        if line == 'A N G L E   B E N D I N G\\n':\n",
    "            linenumber = ln\n",
    "            break\n",
    "\n",
    "    # parse section for positions\n",
    "    parse = file[linenumber+5:]\n",
    "    i = 0\n",
    "\n",
    "    prop_dict = dict()\n",
    "    while 'TOTAL ANGLE BENDING ENERGY' not in parse[i]:\n",
    "        # get atom indices\n",
    "        idx_i = int(parse[i].strip('\\n').split()[-3])\n",
    "        idx_j = int(parse[i].strip('\\n').split()[-2])\n",
    "        idx_k = int(parse[i].strip('\\n').split()[-1])\n",
    "        \n",
    "        # get angle energy\n",
    "        e_angle = float(parse[i].strip('\\n').split()[-4])\n",
    "        \n",
    "        # add 1/3 of energy if index already exists otherwise initialize key and assign energy\n",
    "        if idx_i in prop_dict.keys():\n",
    "            prop_dict[idx_i] += e_angle/3\n",
    "        else:\n",
    "            prop_dict[idx_i] = e_angle/3\n",
    "            \n",
    "        if idx_j in prop_dict.keys():\n",
    "            prop_dict[idx_j] += e_angle/3\n",
    "        else:\n",
    "            prop_dict[idx_j] = e_angle/3\n",
    "            \n",
    "        if idx_k in prop_dict.keys():\n",
    "            prop_dict[idx_k] += e_angle/3\n",
    "        else:\n",
    "            prop_dict[idx_k] = e_angle/3\n",
    "\n",
    "        i += 1\n",
    "    return(sort_dict(prop_dict))\n",
    "\n",
    "def parse_e_torsional(file):\n",
    "    \"\"\"\n",
    "    get torsional energies from output file\n",
    "    \"\"\"\n",
    "    # find section for bond stretching because here I also write positions\n",
    "    linenumber = 'Nan'\n",
    "    for ln, line in enumerate(file):\n",
    "        if line == 'T O R S I O N A L\\n':\n",
    "            linenumber = ln\n",
    "            break\n",
    "\n",
    "    # parse section for positions\n",
    "    parse = file[linenumber+5:]\n",
    "    i = 0\n",
    "\n",
    "    prop_dict = dict()\n",
    "    while 'TOTAL TORSIONAL ENERGY' not in parse[i]:\n",
    "        # get atom indices\n",
    "        idx_i = int(parse[i].strip('\\n').split()[-4])\n",
    "        idx_j = int(parse[i].strip('\\n').split()[-3])\n",
    "        idx_k = int(parse[i].strip('\\n').split()[-2])\n",
    "        idx_l = int(parse[i].strip('\\n').split()[-1])\n",
    "        \n",
    "        # get angle energy\n",
    "        e_torsional = float(parse[i].strip('\\n').split()[-5])/4\n",
    "        \n",
    "        # add 1/4 of energy if index already exists otherwise initialize key and assign energy\n",
    "        if idx_i in prop_dict.keys():\n",
    "            prop_dict[idx_i] += e_torsional\n",
    "        else:\n",
    "            prop_dict[idx_i] = e_torsional\n",
    "            \n",
    "        if idx_j in prop_dict.keys():\n",
    "            prop_dict[idx_j] += e_torsional\n",
    "        else:\n",
    "            prop_dict[idx_j] = e_torsional\n",
    "            \n",
    "        if idx_k in prop_dict.keys():\n",
    "            prop_dict[idx_k] += e_torsional\n",
    "        else:\n",
    "            prop_dict[idx_k] = e_torsional\n",
    "            \n",
    "        if idx_l in prop_dict.keys():\n",
    "            prop_dict[idx_l] += e_torsional\n",
    "        else:\n",
    "            prop_dict[idx_l] = e_torsional\n",
    "\n",
    "        i += 1\n",
    "    return(sort_dict(prop_dict))\n",
    "\n",
    "def parse_e_vdw(file):\n",
    "    \"\"\"\n",
    "    get bond energies from output file\n",
    "    \"\"\"\n",
    "    # find section for bond stretching because here I also write positions\n",
    "    linenumber = 'Nan'\n",
    "    for ln, line in enumerate(file):\n",
    "        if line == 'V A N   D E R   W A A L S\\n':\n",
    "            linenumber = ln\n",
    "            break\n",
    "\n",
    "    # parse section for positions\n",
    "    parse = file[linenumber+5:]\n",
    "    i = 0\n",
    "\n",
    "    prop_dict = dict()\n",
    "    while 'TOTAL VAN DER WAALS ENERGY' not in parse[i]:\n",
    "        # get index of atom i\n",
    "        idx_i = int(parse[i].strip('\\n').split()[-2])\n",
    "        # get index of atom j\n",
    "        idx_j = int(parse[i].strip('\\n').split()[-1])\n",
    "        # get vdw energy\n",
    "        e_vdw = float(parse[i].strip('\\n').split()[-3])/2\n",
    "        \n",
    "        # add half energy if index already exists otherwise initialize key and assign energy\n",
    "        if idx_i in prop_dict.keys():\n",
    "            prop_dict[idx_i] += e_vdw\n",
    "        else:\n",
    "            prop_dict[idx_i] = e_vdw\n",
    "            \n",
    "        if idx_j in prop_dict.keys():\n",
    "            prop_dict[idx_j] += e_vdw\n",
    "        else:\n",
    "            prop_dict[idx_j] = e_vdw\n",
    "\n",
    "        i += 1\n",
    "    return(sort_dict(prop_dict))"
   ]
  },
  {
   "cell_type": "code",
   "execution_count": 11,
   "id": "4328576f-aee6-4639-aa8d-46286ad0443f",
   "metadata": {},
   "outputs": [],
   "source": [
    "with open('/home/sahre/energy_ob', 'r') as f:\n",
    "    file = f.readlines()"
   ]
  },
  {
   "cell_type": "code",
   "execution_count": 25,
   "id": "068ede7f-1b2b-4dc3-8fa0-e96f29c11324",
   "metadata": {},
   "outputs": [
    {
     "data": {
      "text/plain": [
       "{1: [0.445, -1.095, -0.367],\n",
       " 2: [0.758, 0.407, -0.289],\n",
       " 3: [-0.474, 1.307, -0.289],\n",
       " 4: [-0.282, -1.661, 0.859],\n",
       " 5: [-0.021, 2.657, -0.289],\n",
       " 6: [1.39, -1.636, -0.501],\n",
       " 7: [-0.148, -1.297, -1.271],\n",
       " 8: [1.345, 0.624, 0.613],\n",
       " 9: [1.381, 0.699, -1.144],\n",
       " 10: [-1.101, 1.104, 0.594],\n",
       " 11: [-1.088, 1.094, -1.181],\n",
       " 12: [0.288, -1.473, 1.777],\n",
       " 13: [-0.418, -2.745, 0.768],\n",
       " 14: [-1.276, -1.217, 0.99],\n",
       " 15: [-0.8, 3.232, -0.269]}"
      ]
     },
     "execution_count": 25,
     "metadata": {},
     "output_type": "execute_result"
    }
   ],
   "source": [
    "parse_positions(file)"
   ]
  },
  {
   "cell_type": "code",
   "execution_count": 26,
   "id": "4bc14044-9187-4026-8be9-0aca54b26dd4",
   "metadata": {},
   "outputs": [
    {
     "data": {
      "text/plain": [
       "{1: 0.8180000000000001,\n",
       " 2: 0.6415,\n",
       " 3: 1.1945000000000001,\n",
       " 4: 0.6455000000000001,\n",
       " 5: 1.5805,\n",
       " 6: 0.0945,\n",
       " 7: 0.0645,\n",
       " 8: 0.0845,\n",
       " 9: 0.1025,\n",
       " 10: 0.0395,\n",
       " 11: 0.02,\n",
       " 12: 0.1035,\n",
       " 13: 0.125,\n",
       " 14: 0.124,\n",
       " 15: 0.534}"
      ]
     },
     "execution_count": 26,
     "metadata": {},
     "output_type": "execute_result"
    }
   ],
   "source": [
    "parse_e_bond(file)"
   ]
  },
  {
   "cell_type": "code",
   "execution_count": 17,
   "id": "077bf246-ed32-4ab1-bb65-58734f1cc2a6",
   "metadata": {},
   "outputs": [
    {
     "data": {
      "text/plain": [
       "{1: 2.7766666666666664,\n",
       " 2: 2.7816666666666663,\n",
       " 3: 2.066,\n",
       " 4: 1.662,\n",
       " 5: 0.7883333333333333,\n",
       " 6: 0.26033333333333336,\n",
       " 7: 0.21466666666666667,\n",
       " 8: 0.17733333333333332,\n",
       " 9: 0.23166666666666666,\n",
       " 10: 0.17666666666666667,\n",
       " 11: 0.17933333333333334,\n",
       " 12: 0.17666666666666667,\n",
       " 13: 0.18133333333333332,\n",
       " 14: 0.29933333333333334,\n",
       " 15: 0.41300000000000003}"
      ]
     },
     "execution_count": 17,
     "metadata": {},
     "output_type": "execute_result"
    }
   ],
   "source": [
    "parse_e_angle(file)"
   ]
  },
  {
   "cell_type": "code",
   "execution_count": 24,
   "id": "661454c8-1c3e-4798-a122-deb83bafd323",
   "metadata": {},
   "outputs": [
    {
     "data": {
      "text/plain": [
       "{1: 0.63725,\n",
       " 2: 2.8035,\n",
       " 3: 3.592,\n",
       " 4: 0.31425,\n",
       " 5: 3.3207500000000003,\n",
       " 6: 0.357,\n",
       " 7: 0.03,\n",
       " 8: 0.06975,\n",
       " 9: 0.32025000000000003,\n",
       " 10: 0.6465000000000001,\n",
       " 11: 0.5810000000000001,\n",
       " 12: 0.051750000000000004,\n",
       " 13: 0.05875,\n",
       " 14: 0.058249999999999996,\n",
       " 15: 3.265}"
      ]
     },
     "execution_count": 24,
     "metadata": {},
     "output_type": "execute_result"
    }
   ],
   "source": [
    "parse_e_torsional(file)"
   ]
  },
  {
   "cell_type": "code",
   "execution_count": 31,
   "id": "f03c01f6-0914-4fc3-ace3-8e0415cfd708",
   "metadata": {},
   "outputs": [
    {
     "data": {
      "text/plain": [
       "{1: 0.3555,\n",
       " 2: 0.08249999999999999,\n",
       " 3: 0.804,\n",
       " 4: 0.786,\n",
       " 5: 0.7405000000000002,\n",
       " 6: 0.1285,\n",
       " 7: 0.20649999999999996,\n",
       " 8: 0.5255000000000001,\n",
       " 9: 0.6965,\n",
       " 10: 1.113,\n",
       " 11: 0.5675,\n",
       " 12: -0.11800000000000001,\n",
       " 13: -0.10900000000000001,\n",
       " 14: 0.291,\n",
       " 15: 0.749}"
      ]
     },
     "execution_count": 31,
     "metadata": {},
     "output_type": "execute_result"
    }
   ],
   "source": [
    "parse_e_vdw(file)"
   ]
  },
  {
   "cell_type": "code",
   "execution_count": 32,
   "id": "474d6fcb-2b3e-404e-ac9c-c5f99b565cbd",
   "metadata": {},
   "outputs": [],
   "source": [
    "e_bond = parse_e_bond(file)\n",
    "e_angle = parse_e_angle(file)\n",
    "e_torsional = parse_e_torsional(file)\n",
    "e_vdw = parse_e_vdw(file)\n",
    "ebt = 0 \n",
    "eat = 0\n",
    "ett = 0\n",
    "evt = 0\n",
    "for k in e_bond.keys():\n",
    "    ebt += e_bond[k]\n",
    "    eat += e_angle[k]\n",
    "    ett += e_torsional[k]\n",
    "    evt += e_vdw[k]"
   ]
  },
  {
   "cell_type": "code",
   "execution_count": 33,
   "id": "f7499dd4-0834-43f9-adbd-b69d2301c91f",
   "metadata": {},
   "outputs": [
    {
     "name": "stdout",
     "output_type": "stream",
     "text": [
      "6.172 12.384999999999998 16.105999999999998 6.819000000000001\n"
     ]
    }
   ],
   "source": [
    "print(ebt, eat, ett, evt)"
   ]
  },
  {
   "cell_type": "code",
   "execution_count": null,
   "id": "1f7703e9-44b3-4039-abc8-94d2d7743d59",
   "metadata": {},
   "outputs": [],
   "source": []
  },
  {
   "cell_type": "code",
   "execution_count": null,
   "id": "fa6d4ad2-5f3e-48d9-8924-00d4910a8e71",
   "metadata": {},
   "outputs": [],
   "source": []
  },
  {
   "cell_type": "code",
   "execution_count": null,
   "id": "b8530f8d-8f24-4fe2-a1a2-04d9a37f9327",
   "metadata": {},
   "outputs": [],
   "source": []
  },
  {
   "cell_type": "code",
   "execution_count": null,
   "id": "adbcc6cf-8ef3-4aa6-8134-7008ee0c1714",
   "metadata": {},
   "outputs": [],
   "source": []
  },
  {
   "cell_type": "code",
   "execution_count": null,
   "id": "fcc22274-609d-41dd-be2d-777abaeb830d",
   "metadata": {},
   "outputs": [],
   "source": [
    "butanol_example = ase.io.read('/data/sahre/projects/atomic-energies/data/UFF_energies/butanol_ang_1.42429.xyz')"
   ]
  },
  {
   "cell_type": "code",
   "execution_count": null,
   "id": "fbc1a601-4dfc-4a6f-a55f-5df41d472ac9",
   "metadata": {},
   "outputs": [],
   "source": [
    "np.round(np.triu(butanol_example.get_all_distances()), 3)[0]"
   ]
  },
  {
   "cell_type": "code",
   "execution_count": null,
   "id": "12b041cc-15ef-4c5b-a24a-933dd3cd04a4",
   "metadata": {},
   "outputs": [],
   "source": [
    "butanol_example.get_atomic_numbers()"
   ]
  },
  {
   "cell_type": "code",
   "execution_count": null,
   "id": "f309f523-d4c8-429e-bbd0-a0d1e8427074",
   "metadata": {},
   "outputs": [],
   "source": [
    "molecule = butanol_example.copy()    "
   ]
  },
  {
   "cell_type": "code",
   "execution_count": null,
   "id": "3c33e1f8-67ba-421a-851f-690d9a3e02d2",
   "metadata": {},
   "outputs": [],
   "source": [
    "bond_pairs = {}\n",
    "for idx1 in range(len(molecule.get_atomic_numbers())):\n",
    "    for idx2 in range(len(molecule.get_atomic_numbers())):\n",
    "        if idx1 != idx2:\n",
    "            an1 = molecule.get_atomic_numbers()[idx1]\n",
    "            an2 =  molecule.get_atomic_numbers()[idx2]\n",
    "            bond = molecule.get_distance(idx1, idx2)"
   ]
  },
  {
   "cell_type": "code",
   "execution_count": null,
   "id": "9a6a9ef9-c110-40b1-99ad-f112e05ea9cc",
   "metadata": {},
   "outputs": [],
   "source": [
    "def get_r_BO(rI, rJ, n, lambda_=0.1332):\n",
    "    return(lambda_*(rI+rJ)*np.log(n))\n",
    "def get_r_EN(rI, rJ, chiI, chiJ):\n",
    "    return(rI*rJ*(np.sqrt(chiI)-np.sqrt(chiJ))**2/(chiI*rI+chiJ*rJ))\n",
    "\n",
    "def get_r_IJ(rI, rJ, n, chiI, chiJ, lambda_=0.1332):\n",
    "    return(rI + rJ + get_r_BO(rI, rJ, n, lambda_)+get_r_EN(rI, rJ, chiI, chiJ))\n",
    "\n",
    "def get_k_IJ(r_IJ, ZI, ZJ):\n",
    "    return(664.12*ZI*ZJ/r_IJ**3)\n",
    "\n",
    "def get_harmonic_bond(r, r_IJ, k_IJ):\n",
    "    return(0.5*k_IJ*(r-r_IJ)**2)"
   ]
  },
  {
   "cell_type": "code",
   "execution_count": null,
   "id": "1f059dbf-a91c-4763-9e52-06c438d6d979",
   "metadata": {},
   "outputs": [],
   "source": [
    "rC_3 = 0.757\n",
    "rO_3 = 0.658\n",
    "chi_C_3 = 5.343\n",
    "chi_O_3 = 8.741\n",
    "n = 1\n",
    "r_IJ = get_r_IJ(rC_3, rO_3, n, chi_C_3, chi_O_3)\n",
    "print(r_IJ)\n",
    "ZO = 2.3\n",
    "ZC = 1.912\n",
    "k_IJ = get_k_IJ(r_IJ, ZC, ZO)\n",
    "print(k_IJ)"
   ]
  },
  {
   "cell_type": "code",
   "execution_count": null,
   "id": "9fffaf83-52f4-4e59-9465-5436c31b14da",
   "metadata": {},
   "outputs": [],
   "source": [
    "get_r_EN(1.117, 0.528, 4.168, 8.741)"
   ]
  },
  {
   "cell_type": "code",
   "execution_count": null,
   "id": "cd4dcf74-dd6c-4df7-98ea-6ea3fa4d5166",
   "metadata": {},
   "outputs": [],
   "source": [
    "r = []\n",
    "e = []\n",
    "with open('/data/sahre/projects/atomic-energies/data/UFF_energies/CO_bond', 'r') as f:\n",
    "    for line in f:\n",
    "        e.append(float(line.split()[-1]))\n",
    "        r.append(float(line.split()[3]))\n",
    "r = np.array(r)"
   ]
  },
  {
   "cell_type": "code",
   "execution_count": null,
   "id": "0c31158e-d9ef-4469-8cef-aa21eb72bc91",
   "metadata": {},
   "outputs": [],
   "source": []
  },
  {
   "cell_type": "code",
   "execution_count": null,
   "id": "0dc151ea-dba5-4432-82ed-1686bc8dc856",
   "metadata": {},
   "outputs": [],
   "source": [
    "plt.plot(r,get_harmonic_bond(np.array(r), r_IJ, k_IJ))\n",
    "\n",
    "plt.plot(r,e, '-o')"
   ]
  },
  {
   "cell_type": "code",
   "execution_count": null,
   "id": "8b73077e-fd81-4f30-a353-eb8a0fac1ef0",
   "metadata": {},
   "outputs": [],
   "source": [
    "plt.plot(r**2,get_harmonic_bond(np.array(r), r_IJ, k_IJ))"
   ]
  },
  {
   "cell_type": "code",
   "execution_count": null,
   "id": "8e181409-5d0b-454e-8555-bc9d20cdfd5c",
   "metadata": {},
   "outputs": [],
   "source": [
    "plt.plot(r,e)"
   ]
  },
  {
   "cell_type": "code",
   "execution_count": null,
   "id": "185e047a-be10-489b-a39a-144c5cec253b",
   "metadata": {},
   "outputs": [],
   "source": [
    "plt.plot(r**2,e)"
   ]
  },
  {
   "cell_type": "code",
   "execution_count": null,
   "id": "b665b471-72dd-407a-a7c1-d4a7bdd09e93",
   "metadata": {},
   "outputs": [],
   "source": []
  },
  {
   "cell_type": "code",
   "execution_count": null,
   "id": "53b3f8ad-ffe6-4bff-add3-2d10892e7eb7",
   "metadata": {},
   "outputs": [],
   "source": [
    "butanol = ase.io.read('/data/sahre/projects/atomic-energies/data/UFF_energies/butanol_ang_0.92429.xyz')"
   ]
  },
  {
   "cell_type": "code",
   "execution_count": null,
   "id": "0ec3d653-6de1-4c64-ac32-65844063f89d",
   "metadata": {},
   "outputs": [],
   "source": [
    "for i in range(30):\n",
    "    butanol.set_distance(2, 4, 0.05, fix=0, add = True, indices = [4,14])\n",
    "    d = np.round(butanol.get_distance(2,4), 2)\n",
    "    print(d)\n",
    "    ase.io.write(f'/data/sahre/projects/atomic-energies/data/UFF_energies/butanol_d_{d}.xyz', butanol)"
   ]
  },
  {
   "cell_type": "code",
   "execution_count": null,
   "id": "f85bc9c0-d2e4-4be9-8fc8-d47a51c3187b",
   "metadata": {},
   "outputs": [],
   "source": [
    "len(butanol.get_atomic_numbers())"
   ]
  },
  {
   "cell_type": "code",
   "execution_count": null,
   "id": "619a0313-06fb-4938-867f-1eaf859cad83",
   "metadata": {},
   "outputs": [],
   "source": [
    "butanol.get_all_distances()[4]\n"
   ]
  },
  {
   "cell_type": "code",
   "execution_count": null,
   "id": "ac564013-c918-4dc4-b15b-2fb80a7bb3b0",
   "metadata": {},
   "outputs": [],
   "source": [
    "butanol.get_all_distances()[4]\n"
   ]
  },
  {
   "cell_type": "code",
   "execution_count": null,
   "id": "8963fbc5-8b7f-497a-8e3e-7938ae691cf7",
   "metadata": {},
   "outputs": [],
   "source": []
  },
  {
   "cell_type": "code",
   "execution_count": null,
   "id": "69c6da64-7a0a-4dec-a977-7a24ee73c148",
   "metadata": {},
   "outputs": [],
   "source": [
    "ase.visualize.view(butanol)"
   ]
  }
 ],
 "metadata": {
  "kernelspec": {
   "display_name": "Python 3",
   "language": "python",
   "name": "python3"
  },
  "language_info": {
   "codemirror_mode": {
    "name": "ipython",
    "version": 3
   },
   "file_extension": ".py",
   "mimetype": "text/x-python",
   "name": "python",
   "nbconvert_exporter": "python",
   "pygments_lexer": "ipython3",
   "version": "3.9.5"
  }
 },
 "nbformat": 4,
 "nbformat_minor": 5
}
