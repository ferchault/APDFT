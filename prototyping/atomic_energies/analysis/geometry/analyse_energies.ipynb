{
 "cells": [
  {
   "cell_type": "code",
   "execution_count": 1,
   "metadata": {},
   "outputs": [
    {
     "name": "stderr",
     "output_type": "stream",
     "text": [
      "/home/sahre/opt/miniconda3/envs/qm-tools/lib/python3.9/site-packages/pyscf/lib/misc.py:46: H5pyDeprecationWarning: Using default_file_mode other than 'r' is deprecated. Pass the mode to h5py.File() instead.\n",
      "  h5py.get_config().default_file_mode = 'a'\n"
     ]
    }
   ],
   "source": [
    "import numpy as np\n",
    "from ase import Atoms\n",
    "import ase.visualize\n",
    "from ase.units import Bohr\n",
    "from pyscf import gto, scf, mp, cc, dft\n",
    "import glob\n",
    "from matplotlib import pyplot as plt\n",
    "\n",
    "import pandas as pd\n",
    "import sys\n",
    "sys.path.insert(0, '/home/misa/git_repositories/APDFT/prototyping/atomic_energies/')\n",
    "sys.path.insert(0, '/home/sahre/git_repositories/APDFT/prototyping/atomic_energies/')\n",
    "\n",
    "import utils_qm as uqm\n",
    "from parse_density_files import CUBE\n",
    "import alchemy_tools2 as at\n",
    "import explore_qml_data as eqd\n"
   ]
  },
  {
   "cell_type": "code",
   "execution_count": 2,
   "metadata": {},
   "outputs": [],
   "source": [
    "def get_data(data):\n",
    "    e_npbc = []\n",
    "    for d in data:\n",
    "        e_npbc.append(d['e_nbpc'])\n",
    "    e_npbc = np.array(e_npbc)\n",
    "    \n",
    "    e_scaled = []\n",
    "    for d in data:\n",
    "        e_scaled.append(d['e_scaled'])\n",
    "    e_scaled = np.array(e_scaled)\n",
    "\n",
    "    e_el = []\n",
    "    for d in data:\n",
    "        e_el.append(d['e_el'])\n",
    "    e_el = np.array(e_el)\n",
    "\n",
    "    e_tot = []\n",
    "    for d in data:\n",
    "        e_tot.append(d['e_tot'])\n",
    "    e_tot = np.array(e_tot)\n",
    "\n",
    "    alchpots = []\n",
    "    for d, e in zip(data, e_el):\n",
    "        alchpots.append(e/d['nuclei'][:,0])\n",
    "    alchpots = np.array(alchpots)\n",
    "    \n",
    "    return(alchpots, e_el, e_npbc, e_scaled, e_tot)"
   ]
  },
  {
   "cell_type": "markdown",
   "metadata": {},
   "source": [
    "### Angles - butanol CCO"
   ]
  },
  {
   "cell_type": "code",
   "execution_count": 97,
   "metadata": {
    "jupyter": {
     "source_hidden": true
    },
    "tags": []
   },
   "outputs": [],
   "source": [
    "paths_glob = glob.glob('/home/misa/projects/atomic-energies/data/ueg_reference/amons/geometry/angles/butanol_plane/ang_*/results.dict')\n",
    "\n",
    "angle = []\n",
    "for p in paths_glob:\n",
    "    angle.append(float(p.split('/')[-2].split('_')[-1]))\n",
    "paths = []\n",
    "for p,a in zip(paths_glob,angle):\n",
    "    paths.append((a,p))\n",
    "paths.sort()\n",
    "angle.sort()\n",
    "data = []\n",
    "for p in paths:\n",
    "    data.append(uqm.load_obj(p[1]))\n",
    "    \n",
    "geometries = dict()\n",
    "for d in data:\n",
    "    nuc_charges = d['nuclei'][:,0]\n",
    "    pos = d['nuclei'][:,1:]*Bohr\n",
    "    pos = eqd.shift2center(pos, [0,0,0])\n",
    "    molecule = Atoms(numbers=nuc_charges, positions=pos)\n",
    "    ang = np.round(molecule.get_angle(1, 2,4))\n",
    "    geometries[f'ang_{ang}'] = molecule\n",
    "\n",
    "alchpots, e_el, e_npbc, e_scaled, e_tot = get_data(data)\n",
    "\n",
    "nuc_rep = []\n",
    "for et, el in zip(e_tot, e_el):\n",
    "    nuc_rep.append((et-el).sum())\n",
    "nuc_rep = np.array(nuc_rep)"
   ]
  },
  {
   "cell_type": "markdown",
   "metadata": {},
   "source": [
    "#### Pairwise distance vs angle"
   ]
  },
  {
   "cell_type": "code",
   "execution_count": null,
   "metadata": {
    "jupyter": {
     "source_hidden": true
    },
    "tags": []
   },
   "outputs": [],
   "source": [
    "plt.rcParams['font.size'] = 20\n",
    "dist_O = []\n",
    "for i in range(4):\n",
    "    dist = []\n",
    "    for k in geometries.keys():\n",
    "        dist.append(geometries[k].get_distance(i,4))\n",
    "    dist_O.append(dist)\n",
    "    plt.plot(angle, dist, '-o', label=i)\n",
    "plt.xlabel(r'$\\Delta\\theta_{\\rm{CCO}}$ (°)')\n",
    "plt.ylabel(r'$R_{\\rm{CO}}$ ($\\rm{\\AA}$)')\n",
    "plt.savefig('/home/misa/projects/atomic-energies/figures/butanol_geometry/angle_dist_CO.svg', bbox_inches='tight')"
   ]
  },
  {
   "cell_type": "code",
   "execution_count": null,
   "metadata": {
    "jupyter": {
     "source_hidden": true
    },
    "tags": []
   },
   "outputs": [],
   "source": [
    "plt.rcParams['font.size'] = 20\n",
    "\n",
    "for dist in dist_O:\n",
    "    der = []\n",
    "    der_angle = []\n",
    "    for i in range(len(dist)-1):\n",
    "        der.append(dist[i+1] - dist[i])\n",
    "        der_angle.append((angle[i+1] + angle[i])/2)\n",
    "\n",
    "    plt.plot(der_angle, der, '-o')\n",
    "    \n",
    "plt.xlabel(r'$\\Delta\\theta_{\\rm{CCO}}$ (°)')\n",
    "plt.ylabel(r'$\\frac{d R_{\\rm{CO}} }{d\\theta}$ ($\\rm{\\AA}/^\\circ$)')\n",
    "\n",
    "plt.savefig('/home/misa/projects/atomic-energies/figures/butanol_geometry/deri_angle_dist_CO.svg', bbox_inches='tight')"
   ]
  },
  {
   "cell_type": "markdown",
   "metadata": {},
   "source": [
    "#### Total energy molecule"
   ]
  },
  {
   "cell_type": "code",
   "execution_count": null,
   "metadata": {
    "jupyter": {
     "source_hidden": true
    },
    "tags": []
   },
   "outputs": [],
   "source": [
    "plt.rcParams['figure.figsize'] = [6,4]\n",
    "\n",
    "plt.rcParams['font.size'] = 20\n",
    "plt.plot(angle, e_npbc, '-o', color='black')\n",
    "plt.xlabel(r'$\\Delta\\theta_{\\rm{CCO}}$ (°)')\n",
    "plt.ylabel(r'$E$ (Ha)')\n",
    "#plt.savefig('/home/misa/projects/atomic-energies/figures/butanol_geometry/angle_total_energy_mol.png', bbox_inches='tight')"
   ]
  },
  {
   "cell_type": "markdown",
   "metadata": {},
   "source": [
    "#### Electronic energy molecule"
   ]
  },
  {
   "cell_type": "code",
   "execution_count": null,
   "metadata": {
    "jupyter": {
     "source_hidden": true
    },
    "tags": []
   },
   "outputs": [],
   "source": [
    "plt.rcParams['figure.figsize'] = [6,4]\n",
    "plt.rcParams['font.size'] = 20\n",
    "plt.plot(angle, e_npbc-nuc_rep, '-o', color='black')\n",
    "plt.xlabel(r'$\\Delta\\theta_{\\rm{CCO}}$ (°)')\n",
    "plt.ylabel(r'$E_{\\rm{el}}$ (Ha)')\n",
    "#plt.savefig('/home/misa/projects/atomic-energies/figures/butanol_geometry/angle_electronic_energy_mol.png', bbox_inches='tight')"
   ]
  },
  {
   "cell_type": "markdown",
   "metadata": {},
   "source": [
    "#### Alchemical potentials"
   ]
  },
  {
   "cell_type": "code",
   "execution_count": null,
   "metadata": {
    "jupyter": {
     "source_hidden": true
    },
    "tags": []
   },
   "outputs": [],
   "source": [
    "plt.rcParams['figure.figsize'] = [6,4]\n",
    "fig, ax = plt.subplots(1,1)\n",
    "\n",
    "at = 'heavy'\n",
    "#at = 'hydrogens'\n",
    "\n",
    "if at == 'heavy':\n",
    "    ax.plot(angle, alchpots[:,0], '-o',label='C0')\n",
    "    ax.plot(angle, alchpots[:,1], '-o',label='C1')\n",
    "    ax.plot(angle, alchpots[:,2], '-o',label='C2')\n",
    "    ax.plot(angle, alchpots[:,3], '-o',label='C3')\n",
    "    ax.plot(angle, alchpots[:,4], '-o', label='O', color='grey')\n",
    "\n",
    "    \n",
    "# Hydrogens\n",
    "if at == 'hydrogens':\n",
    "    # C0\n",
    "    ax.plot(angle, alchpots[:,5], '-o', color='tab:blue')\n",
    "    ax.plot(angle, alchpots[:,6], '-o', color='tab:blue')\n",
    "    # C1\n",
    "    ax.plot(angle, alchpots[:,7], '-o', color='tab:orange')\n",
    "    ax.plot(angle, alchpots[:,8], '-o', color='tab:orange')\n",
    "    # C2\n",
    "    ax.plot(angle, alchpots[:,9], '-o', color='tab:green')\n",
    "    ax.plot(angle, alchpots[:,10], '-o', color='tab:green')\n",
    "    # C3\n",
    "    ax.plot(angle, alchpots[:,11], '-o', color='tab:red')\n",
    "    ax.plot(angle, alchpots[:,12], '-o', color='tab:red')\n",
    "    ax.plot(angle, alchpots[:,13], '-o', color='tab:red')\n",
    "    # O\n",
    "    ax.plot(angle, alchpots[:,14], '-o', color='tab:grey')\n",
    "\n",
    "ax.set_xlabel(r'$\\Delta\\theta_{\\rm{CCO}}$ (°)')\n",
    "ax.set_ylabel(r'$\\tilde{\\mu}_I$ $\\left(\\frac{E_h}{e}\\right)$')\n",
    "#plt.savefig('/home/misa/projects/atomic-energies/figures/butanol_geometry/angle_mu_hydrogens.png', bbox_inches='tight')\n",
    "plt.savefig('/home/misa/projects/atomic-energies/figures/butanol_geometry/angle_mu_heavy_atoms.png', bbox_inches='tight')"
   ]
  },
  {
   "cell_type": "code",
   "execution_count": null,
   "metadata": {
    "jupyter": {
     "source_hidden": true
    },
    "tags": []
   },
   "outputs": [],
   "source": [
    "plt.rcParams['figure.figsize'] = [14,4]\n",
    "fig, ax = plt.subplots(1,2)\n",
    "ax[0].plot(angle, e_el[:,0], '-o',label='C0')\n",
    "ax[0].plot(angle, e_el[:,1], '-o',label='C1')\n",
    "ax[0].plot(angle, e_el[:,2], '-o',label='C2')\n",
    "ax[0].plot(angle, e_el[:,3], '-o',label='C3')\n",
    "#ax[0].legend(bbox_to_anchor=(1.05,1))\n",
    "#ax[0].legend()\n",
    "ax[0].set_xlabel(r'$\\Delta \\theta$ (°)')\n",
    "\n",
    "ax[0].set_ylabel(r'$-Z_I \\int d\\lambda \\frac{\\tilde{\\rho}}{|\\vec{r}-\\vec{R}_I|}$')\n",
    "\n",
    "\n",
    "ax[1].plot(angle, e_el[:,4], '-o', label='O', color='grey')\n",
    "ax[1].set_xlabel(r'$\\Delta \\theta$ (°)')\n",
    "#ax[1].set_ylabel(r'$Z_I \\int d\\lambda \\frac{\\tilde{\\rho}}{|\\vec{r}-\\vec{R}_I|}$')\n",
    "#ax[1].legend()"
   ]
  },
  {
   "cell_type": "code",
   "execution_count": null,
   "metadata": {
    "jupyter": {
     "source_hidden": true
    },
    "tags": []
   },
   "outputs": [],
   "source": [
    "plt.rcParams['figure.figsize'] = [14,4]\n",
    "fig, ax = plt.subplots(1,2)\n",
    "ax[0].plot(angle, e_tot[:,0], '-o',label='C0')\n",
    "ax[0].plot(angle, e_tot[:,1], '-o',label='C1')\n",
    "ax[0].plot(angle, e_tot[:,2], '-o',label='C2')\n",
    "ax[0].plot(angle, e_tot[:,3], '-o',label='C3')\n",
    "#ax[0].legend(bbox_to_anchor=(1.05,1))\n",
    "ax[0].set_xlabel(r'$\\Delta\\theta$ (°)')\n",
    "\n",
    "#ax[0].set_ylabel(r'$-Z_I \\int d\\lambda \\frac{\\tilde{\\rho}}{|\\vec{r}-\\vec{R}_I|} + E_{\\rm{NN}}$')\n",
    "ax[0].set_ylabel(r'$-Z_I \\tilde{\\mu}_I + E_{I, \\rm{NN}}$ (Ha)')\n",
    "\n",
    "ax[1].plot(angle, e_tot[:,4], '-o', label='O', color='grey')\n",
    "ax[1].set_xlabel(r'$\\Delta\\theta$ (°)')\n",
    "#ax[1].set_ylabel(r'$Z_I \\int d\\lambda \\frac{\\tilde{\\rho}}{|\\vec{r}-\\vec{R}_I|} + E_{\\rm{NN}}$')\n",
    "#ax[1].legend()"
   ]
  },
  {
   "cell_type": "code",
   "execution_count": null,
   "metadata": {
    "jupyter": {
     "source_hidden": true
    },
    "tags": []
   },
   "outputs": [],
   "source": [
    "plt.rcParams['figure.figsize'] = [8,4]\n",
    "fig, ax = plt.subplots(1,2)\n",
    "ax[0].plot(angle, e_tot[:,0], '-o',label='C0')\n",
    "ax[0].plot(angle, e_tot[:,1], '-o',label='C1')\n",
    "ax[0].plot(angle, e_tot[:,2], '-o',label='C2')\n",
    "ax[0].plot(angle, e_tot[:,3], '-o',label='C3')\n",
    "#ax[0].legend(bbox_to_anchor=(1.05,1))\n",
    "ax[0].set_xlabel(r'$\\Delta\\theta$ (°)')\n",
    "\n",
    "#ax[0].set_ylabel(r'$-Z_I \\int d\\lambda \\frac{\\tilde{\\rho}}{|\\vec{r}-\\vec{R}_I|} + E_{\\rm{NN}}$')\n",
    "ax[0].set_ylabel(r'$-Z_I \\tilde{\\mu}_I + E_{I, \\rm{NN}}$ (Ha)')\n",
    "\n",
    "ax[1].set_xlabel(r'$\\Delta\\theta$ (°)')\n",
    "\n",
    "# Carbon\n",
    "ax[1].plot(angle, e_scaled[:,0], '-o',label='C0')\n",
    "ax[1].plot(angle, e_scaled[:,1], '-o',label='C1')\n",
    "ax[1].plot(angle, e_scaled[:,2], '-o',label='C2')\n",
    "ax[1].plot(angle, e_scaled[:,3], '-o',label='C3')\n",
    "\n",
    "ax[1].set_ylabel(r'$E_{I, \\rm{shifted}}$')\n",
    "fig.tight_layout()"
   ]
  },
  {
   "cell_type": "code",
   "execution_count": null,
   "metadata": {
    "jupyter": {
     "source_hidden": true
    },
    "tags": []
   },
   "outputs": [],
   "source": [
    "plt.rcParams['figure.figsize'] = [14,4]\n",
    "fig, ax = plt.subplots(1,2)\n",
    "ax[0].plot(angle, e_scaled[:,0], '-o',label='C0')\n",
    "ax[0].plot(angle, e_scaled[:,1], '-o',label='C1')\n",
    "ax[0].plot(angle, e_scaled[:,2], '-o',label='C2')\n",
    "ax[0].plot(angle, e_scaled[:,3], '-o',label='C3')\n",
    "#ax[0].legend(bbox_to_anchor=(1.05,1))\n",
    "ax[0].set_xlabel(r'$\\Delta\\theta$ (°)')\n",
    "\n",
    "ax[0].set_ylabel(r'$E_{\\rm{scaled}}$')\n",
    "\n",
    "ax[1].plot(angle, e_scaled[:,4], '-o', label='O', color='grey')\n",
    "ax[1].set_xlabel(r'$\\Delta\\theta$ (°)')\n",
    "#ax[1].set_ylabel(r'$E_{\\rm{scaled}}$')\n",
    "#ax[1].legend()"
   ]
  },
  {
   "cell_type": "code",
   "execution_count": null,
   "metadata": {
    "jupyter": {
     "source_hidden": true
    },
    "tags": []
   },
   "outputs": [],
   "source": [
    "plt.rcParams['figure.figsize'] = [18,4]\n",
    "plt.rcParams['font.size'] = 20\n",
    "\n",
    "fig, ax = plt.subplots(1,3)\n",
    "\n",
    "# Hydrogens\n",
    "# C0\n",
    "ax[0].plot(angle, e_scaled[:,5], '-o', color='tab:blue')\n",
    "ax[0].plot(angle, e_scaled[:,6], '-o', color='tab:blue')\n",
    "# C1\n",
    "ax[0].plot(angle, e_scaled[:,7], '-o', color='tab:orange')\n",
    "ax[0].plot(angle, e_scaled[:,8], '-o', color='tab:orange')\n",
    "# C2\n",
    "ax[0].plot(angle, e_scaled[:,9], '-o', color='tab:green')\n",
    "ax[0].plot(angle, e_scaled[:,10], '-o', color='tab:green')\n",
    "# C3\n",
    "ax[0].plot(angle, e_scaled[:,11], '-o', color='tab:red')\n",
    "ax[0].plot(angle, e_scaled[:,12], '-o', color='tab:red')\n",
    "ax[0].plot(angle, e_scaled[:,13], '-o', color='tab:red')\n",
    "# O\n",
    "ax[0].plot(angle, e_scaled[:,14], '-o', color='tab:grey')\n",
    "\n",
    "ax[0].set_xlabel(r'$\\Delta\\theta$ (°)')\n",
    "ax[0].set_ylabel(r'$E_{\\rm{scaled}}$')\n",
    "\n",
    "# Carbon\n",
    "ax[1].plot(angle, e_scaled[:,0], '-o',label='C0')\n",
    "ax[1].plot(angle, e_scaled[:,1], '-o',label='C1')\n",
    "ax[1].plot(angle, e_scaled[:,2], '-o',label='C2')\n",
    "ax[1].plot(angle, e_scaled[:,3], '-o',label='C3')\n",
    "#ax[1].legend(bbox_to_anchor=(1.05,1))\n",
    "ax[1].set_xlabel(r'$\\Delta\\theta$ (°)')\n",
    "\n",
    "# Oxygen\n",
    "ax[2].plot(angle, e_scaled[:,4], '-o', label='O', color='grey')\n",
    "ax[2].set_xlabel(r'$\\Delta\\theta$ (°)')\n",
    "\n",
    "fig.tight_layout()"
   ]
  },
  {
   "cell_type": "markdown",
   "metadata": {},
   "source": [
    "# CO-bond butanol"
   ]
  },
  {
   "cell_type": "code",
   "execution_count": null,
   "metadata": {
    "jupyter": {
     "source_hidden": true
    },
    "tags": []
   },
   "outputs": [],
   "source": [
    "paths_glob = glob.glob('/home/misa/projects/atomic-energies/data/ueg_reference/amons/geometry/bond_stretch/butanol/dist*/results.dict')\n",
    "angle = []\n",
    "for p in paths_glob:\n",
    "    angle.append(float(p.split('/')[-2].split('_')[-1]))\n",
    "paths = []\n",
    "for p,a in zip(paths_glob,angle):\n",
    "    paths.append((a,p))\n",
    "paths.sort()\n",
    "angle.sort()\n",
    "data = []\n",
    "for p in paths:\n",
    "    data.append(uqm.load_obj(p[1]))\n",
    "    \n",
    "geometries = dict()\n",
    "for d in data:\n",
    "    nuc_charges = d['nuclei'][:,0]\n",
    "    pos = d['nuclei'][:,1:]*Bohr\n",
    "    pos = eqd.shift2center(pos, [0,0,0])\n",
    "    molecule = Atoms(numbers=nuc_charges, positions=pos)\n",
    "    ang = np.round(molecule.get_distance(2,4), 3)\n",
    "    geometries[f'ang_{ang}'] = molecule\n",
    "\n",
    "alchpots, e_el, e_npbc, e_scaled, e_tot = get_data(data)\n",
    "\n",
    "nuc_rep = []\n",
    "for et, el in zip(e_tot, e_el):\n",
    "    nuc_rep.append((et-el).sum())\n",
    "nuc_rep = np.array(nuc_rep)"
   ]
  },
  {
   "cell_type": "markdown",
   "metadata": {},
   "source": [
    "### Why are atomic energies non-bonding?"
   ]
  },
  {
   "cell_type": "code",
   "execution_count": null,
   "metadata": {
    "jupyter": {
     "source_hidden": true
    },
    "tags": []
   },
   "outputs": [],
   "source": [
    "e_tot_pbc = [-44.26468902,  -44.53715770, -44.66410095, -44.71612940, -44.72975981, -44.70955433, -44.67218598, -44.63680111, -44.60796255]\n",
    "e_tot_pbc = np.array(e_tot_pbc)\n",
    "e_el_pbc = e_tot_pbc - nuc_rep\n",
    "e_tot_atomic = []\n",
    "for e in e_tot:\n",
    "    e_tot_atomic.append(e.sum())\n",
    "e_tot_atomic = np.array(e_tot_atomic)\n",
    "e_el_atomic = e_tot_atomic - nuc_rep\n",
    "\n",
    "e_el_npbc = e_npbc - nuc_rep"
   ]
  },
  {
   "cell_type": "code",
   "execution_count": null,
   "metadata": {
    "jupyter": {
     "source_hidden": true
    },
    "tags": []
   },
   "outputs": [],
   "source": [
    "# atomic energies with effective charges\n",
    "def get_Z_eff(Z):\n",
    "    if Z == 1:\n",
    "        return(0.7)\n",
    "    else:\n",
    "        n_ve = Z-2 # number valence electrons second shell\n",
    "        S = 2*0.85+(n_ve-1)*0.35 # shielding constant\n",
    "        return(Z-S)\n",
    "# def get_Z_eff(Z):\n",
    "#     if Z == 1:\n",
    "#         return(1)\n",
    "#     elif Z==6:\n",
    "#         return(5.673)\n",
    "#     elif Z == 8:\n",
    "#         return(7.658)\n",
    "    \n",
    "nuclei = data[0]['nuclei'][:,0]\n",
    "e_el_eff = []\n",
    "for energies in e_el:\n",
    "    energies_effective = []\n",
    "    for e, Z in zip(energies, nuclei):\n",
    "        Z_eff = get_Z_eff(Z)\n",
    "        energies_effective.append(Z_eff/Z*e)\n",
    "    e_el_eff.append(energies_effective)\n",
    "e_el_eff = np.array(e_el_eff)\n",
    "\n",
    "# electronic energy\n",
    "e_el_atomic_eff = []\n",
    "for e in e_el_eff:\n",
    "    e_el_atomic_eff.append(e.sum())\n",
    "\n",
    "e_el_atomic_eff = np.array(e_el_atomic_eff)\n",
    "# nuclear repulsion\n",
    "nuc_eff = []\n",
    "for Z in nuclei:\n",
    "    Z_eff = get_Z_eff(Z)\n",
    "    nuc_eff.append(Z_eff)\n",
    "nuc_rep_eff = []\n",
    "for i in range(len(data)):\n",
    "    nuc_rep_eff.append(at.nuclear_repulsion(nuc_eff, data[i]['nuclei'][:,1:]).sum())\n",
    "nuc_rep_eff = np.array(nuc_rep_eff)\n"
   ]
  },
  {
   "cell_type": "markdown",
   "metadata": {},
   "source": [
    "### Total energy SCF"
   ]
  },
  {
   "cell_type": "code",
   "execution_count": 123,
   "metadata": {
    "collapsed": true,
    "jupyter": {
     "outputs_hidden": true,
     "source_hidden": true
    },
    "tags": []
   },
   "outputs": [
    {
     "ename": "NameError",
     "evalue": "name 'e_tot_pbc' is not defined",
     "output_type": "error",
     "traceback": [
      "\u001b[0;31m---------------------------------------------------------------------------\u001b[0m",
      "\u001b[0;31mNameError\u001b[0m                                 Traceback (most recent call last)",
      "\u001b[0;32m<ipython-input-123-2214e91bf3f0>\u001b[0m in \u001b[0;36m<module>\u001b[0;34m\u001b[0m\n\u001b[1;32m      3\u001b[0m \u001b[0mfig\u001b[0m\u001b[0;34m,\u001b[0m \u001b[0max\u001b[0m \u001b[0;34m=\u001b[0m \u001b[0mplt\u001b[0m\u001b[0;34m.\u001b[0m\u001b[0msubplots\u001b[0m\u001b[0;34m(\u001b[0m\u001b[0;36m1\u001b[0m\u001b[0;34m,\u001b[0m\u001b[0;36m4\u001b[0m\u001b[0;34m)\u001b[0m\u001b[0;34m\u001b[0m\u001b[0;34m\u001b[0m\u001b[0m\n\u001b[1;32m      4\u001b[0m \u001b[0max\u001b[0m\u001b[0;34m[\u001b[0m\u001b[0;36m0\u001b[0m\u001b[0;34m]\u001b[0m\u001b[0;34m.\u001b[0m\u001b[0mplot\u001b[0m\u001b[0;34m(\u001b[0m\u001b[0mangle\u001b[0m\u001b[0;34m,\u001b[0m \u001b[0me_npbc\u001b[0m\u001b[0;34m,\u001b[0m \u001b[0;34m'-o'\u001b[0m\u001b[0;34m,\u001b[0m \u001b[0mcolor\u001b[0m\u001b[0;34m=\u001b[0m\u001b[0;34m'black'\u001b[0m\u001b[0;34m,\u001b[0m \u001b[0mlabel\u001b[0m \u001b[0;34m=\u001b[0m \u001b[0;34m'npbc'\u001b[0m\u001b[0;34m)\u001b[0m\u001b[0;34m\u001b[0m\u001b[0;34m\u001b[0m\u001b[0m\n\u001b[0;32m----> 5\u001b[0;31m \u001b[0max\u001b[0m\u001b[0;34m[\u001b[0m\u001b[0;36m1\u001b[0m\u001b[0;34m]\u001b[0m\u001b[0;34m.\u001b[0m\u001b[0mplot\u001b[0m\u001b[0;34m(\u001b[0m\u001b[0mangle\u001b[0m\u001b[0;34m,\u001b[0m \u001b[0me_tot_pbc\u001b[0m\u001b[0;34m,\u001b[0m \u001b[0;34m'-o'\u001b[0m\u001b[0;34m,\u001b[0m \u001b[0mcolor\u001b[0m\u001b[0;34m=\u001b[0m\u001b[0;34m'black'\u001b[0m\u001b[0;34m,\u001b[0m \u001b[0mlabel\u001b[0m \u001b[0;34m=\u001b[0m \u001b[0;34m'pbc'\u001b[0m\u001b[0;34m)\u001b[0m\u001b[0;34m\u001b[0m\u001b[0;34m\u001b[0m\u001b[0m\n\u001b[0m\u001b[1;32m      6\u001b[0m \u001b[0max\u001b[0m\u001b[0;34m[\u001b[0m\u001b[0;36m2\u001b[0m\u001b[0;34m]\u001b[0m\u001b[0;34m.\u001b[0m\u001b[0mplot\u001b[0m\u001b[0;34m(\u001b[0m\u001b[0mangle\u001b[0m\u001b[0;34m,\u001b[0m \u001b[0me_tot_atomic\u001b[0m\u001b[0;34m,\u001b[0m \u001b[0;34m'-o'\u001b[0m\u001b[0;34m,\u001b[0m \u001b[0mcolor\u001b[0m\u001b[0;34m=\u001b[0m\u001b[0;34m'black'\u001b[0m\u001b[0;34m,\u001b[0m \u001b[0mlabel\u001b[0m \u001b[0;34m=\u001b[0m \u001b[0;34m'atomic'\u001b[0m\u001b[0;34m)\u001b[0m\u001b[0;34m\u001b[0m\u001b[0;34m\u001b[0m\u001b[0m\n\u001b[1;32m      7\u001b[0m \u001b[0max\u001b[0m\u001b[0;34m[\u001b[0m\u001b[0;36m3\u001b[0m\u001b[0;34m]\u001b[0m\u001b[0;34m.\u001b[0m\u001b[0mplot\u001b[0m\u001b[0;34m(\u001b[0m\u001b[0mangle\u001b[0m\u001b[0;34m,\u001b[0m \u001b[0me_el_atomic_eff\u001b[0m\u001b[0;34m+\u001b[0m\u001b[0mnuc_rep_eff\u001b[0m\u001b[0;34m,\u001b[0m \u001b[0;34m'-o'\u001b[0m\u001b[0;34m,\u001b[0m \u001b[0mcolor\u001b[0m\u001b[0;34m=\u001b[0m\u001b[0;34m'black'\u001b[0m\u001b[0;34m,\u001b[0m \u001b[0mlabel\u001b[0m \u001b[0;34m=\u001b[0m \u001b[0;34mr'atomic $Z_{\\rm{eff}}$'\u001b[0m\u001b[0;34m)\u001b[0m\u001b[0;34m\u001b[0m\u001b[0;34m\u001b[0m\u001b[0m\n",
      "\u001b[0;31mNameError\u001b[0m: name 'e_tot_pbc' is not defined"
     ]
    },
    {
     "data": {
      "image/png": "[encoded data removed]",
      "text/plain": [
       "<Figure size 1296x288 with 4 Axes>"
      ]
     },
     "metadata": {
      "needs_background": "light"
     },
     "output_type": "display_data"
    }
   ],
   "source": [
    "plt.rcParams['figure.figsize'] = [18,4]\n",
    "plt.rcParams['font.size'] = 18\n",
    "fig, ax = plt.subplots(1,4)\n",
    "ax[0].plot(angle, e_npbc, '-o', color='black', label = 'npbc')\n",
    "ax[1].plot(angle, e_tot_pbc, '-o', color='black', label = 'pbc')\n",
    "ax[2].plot(angle, e_tot_atomic, '-o', color='black', label = 'atomic')\n",
    "ax[3].plot(angle, e_el_atomic_eff+nuc_rep_eff, '-o', color='black', label = r'atomic $Z_{\\rm{eff}}$')\n",
    "\n",
    "\n",
    "ax[0].set_xlabel(r'$\\Delta d_{\\rm{eq}}$ ($\\AA$)')\n",
    "ax[1].set_xlabel(r'$\\Delta d_{\\rm{eq}}$ ($\\AA$)')\n",
    "ax[2].set_xlabel(r'$\\Delta d_{\\rm{eq}}$ ($\\AA$)')\n",
    "ax[3].set_xlabel(r'$\\Delta d_{\\rm{eq}}$ ($\\AA$)')\n",
    "\n",
    "ax[0].legend()\n",
    "ax[1].legend()\n",
    "ax[2].legend()\n",
    "ax[3].legend()\n",
    "\n",
    "ax[0].set_ylabel(r'$E_{\\rm{tot}}$ (Ha)')\n",
    "fig.tight_layout()\n",
    "#plt.savefig('/home/misa/projects/atomic-energies/figures/butanol_geometry/etot_scf_bond.png', bbox_inches='tight')"
   ]
  },
  {
   "cell_type": "code",
   "execution_count": null,
   "metadata": {
    "jupyter": {
     "source_hidden": true
    },
    "tags": []
   },
   "outputs": [],
   "source": [
    "plt.rcParams['figure.figsize'] = [18,4]\n",
    "plt.rcParams['font.size'] = 20\n",
    "fig, ax = plt.subplots(1,3)\n",
    "ax[0].plot(angle, e_el_npbc, '-o', color='black', label = 'E npbc')\n",
    "ax[1].plot(angle, e_el_pbc, '-o', color='black', label = 'E pbc')\n",
    "ax[2].plot(angle, e_el_atomic, '-o', color='black', label = 'E atomic')\n",
    "\n",
    "ax[0].set_xlabel(r'$\\Delta d_{\\rm{eq}}$ ($\\AA$)')\n",
    "ax[1].set_xlabel(r'$\\Delta d_{\\rm{eq}}$ ($\\AA$)')\n",
    "ax[2].set_xlabel(r'$\\Delta d_{\\rm{eq}}$ ($\\AA$)')\n",
    "\n",
    "ax[0].legend()\n",
    "ax[1].legend()\n",
    "ax[2].legend()\n",
    "\n",
    "ax[0].set_ylabel(r'$E_{tot}$ (Ha)')\n",
    "fig.tight_layout()"
   ]
  },
  {
   "cell_type": "code",
   "execution_count": null,
   "metadata": {},
   "outputs": [],
   "source": []
  },
  {
   "cell_type": "code",
   "execution_count": null,
   "metadata": {
    "jupyter": {
     "source_hidden": true
    },
    "tags": []
   },
   "outputs": [],
   "source": [
    "nuc_rep = []\n",
    "for et, el in zip(e_tot, e_el):\n",
    "    nuc_rep.append((et-el).sum())\n",
    "nuc_rep = np.array(nuc_rep)\n",
    "plt.rcParams['figure.figsize'] = [6,4]\n",
    "plt.rcParams['font.size'] = 20\n",
    "plt.plot(angle, e_npbc-nuc_rep, '-o', color='black')\n",
    "plt.xlabel(r'$\\Delta d_{\\rm{eq}}$ ($\\AA$)')\n",
    "plt.ylabel(r'$E_{\\rm{el}}$ (Ha)')\n",
    "\n",
    "#plt.savefig('/home/misa/projects/atomic-energies/figures/butanol_geometry/eel_scf_bond.png', bbox_inches='tight')"
   ]
  },
  {
   "cell_type": "code",
   "execution_count": null,
   "metadata": {
    "jupyter": {
     "source_hidden": true
    },
    "tags": []
   },
   "outputs": [],
   "source": [
    "plt.rcParams['figure.figsize'] = [6,4]\n",
    "plt.rcParams['font.size'] = 20\n",
    "plt.plot(angle, nuc_rep, '-o', color='black')\n",
    "plt.xlabel(r'$\\Delta d_{\\rm{eq}}$ ($\\AA$)')\n",
    "plt.ylabel(r'$E_{\\rm{el}}$ (Ha)')"
   ]
  },
  {
   "cell_type": "code",
   "execution_count": null,
   "metadata": {},
   "outputs": [],
   "source": []
  },
  {
   "cell_type": "markdown",
   "metadata": {},
   "source": [
    "### Alchemical potential"
   ]
  },
  {
   "cell_type": "code",
   "execution_count": null,
   "metadata": {
    "jupyter": {
     "source_hidden": true
    },
    "tags": []
   },
   "outputs": [],
   "source": [
    "plt.rcParams['figure.figsize'] = [6,4]\n",
    "fig, ax = plt.subplots(1,1)\n",
    "\n",
    "at = 'heavy'\n",
    "#at = 'hydrogens'\n",
    "\n",
    "if at == 'heavy':\n",
    "    ax.plot(angle, alchpots[:,0], '-o',label='C0')\n",
    "    ax.plot(angle, alchpots[:,1], '-o',label='C1')\n",
    "    ax.plot(angle, alchpots[:,2], '-o',label='C2')\n",
    "    ax.plot(angle, alchpots[:,3], '-o',label='C3')\n",
    "    ax.plot(angle, alchpots[:,4], '-o', label='O', color='grey')\n",
    "\n",
    "    \n",
    "# Hydrogens\n",
    "if at == 'hydrogens':\n",
    "    # C0\n",
    "    ax.plot(angle, alchpots[:,5], '-o', color='tab:blue')\n",
    "    ax.plot(angle, alchpots[:,6], '-o', color='tab:blue')\n",
    "    # C1\n",
    "    ax.plot(angle, alchpots[:,7], '-o', color='tab:orange')\n",
    "    ax.plot(angle, alchpots[:,8], '-o', color='tab:orange')\n",
    "    # C2\n",
    "    ax.plot(angle, alchpots[:,9], '-o', color='tab:green')\n",
    "    ax.plot(angle, alchpots[:,10], '-o', color='tab:green')\n",
    "    # C3\n",
    "    ax.plot(angle, alchpots[:,11], '-o', color='tab:red')\n",
    "    ax.plot(angle, alchpots[:,12], '-o', color='tab:red')\n",
    "    ax.plot(angle, alchpots[:,13], '-o', color='tab:red')\n",
    "    # O\n",
    "    ax.plot(angle, alchpots[:,14], '-o', color='tab:grey')\n",
    "\n",
    "ax.set_xlabel(r'$\\Delta d_{\\rm{eq}}$ ($\\AA$)')\n",
    "ax.set_ylabel(r'$\\tilde{\\mu}_I$ $\\left(\\frac{E_h}{e}\\right)$')\n",
    "#plt.savefig('/home/misa/projects/atomic-energies/figures/butanol_geometry/mu_heavy_atoms.png', bbox_inches='tight')"
   ]
  },
  {
   "cell_type": "code",
   "execution_count": null,
   "metadata": {
    "jupyter": {
     "source_hidden": true
    },
    "tags": []
   },
   "outputs": [],
   "source": [
    "plt.rcParams['figure.figsize'] = [14,4]\n",
    "fig, ax = plt.subplots(1,2)\n",
    "ax[0].plot(angle, alchpots[:,0], '-o',label='C0')\n",
    "ax[0].plot(angle, alchpots[:,1], '-o',label='C1')\n",
    "ax[0].plot(angle, alchpots[:,2], '-o',label='C2')\n",
    "ax[0].plot(angle, alchpots[:,3], '-o',label='C3')\n",
    "ax[0].plot(angle, alchpots[:,4], '-o', label='O', color='grey')\n",
    "#ax[0].legend(bbox_to_anchor=(1.05,1))\n",
    "#ax[0].legend()\n",
    "ax[0].set_xlabel(r'$\\Delta d_{\\rm{eq}}$ ($\\AA$)')\n",
    "ax[0].set_ylabel(r'$\\tilde{\\mu}_I$ $\\left(\\frac{E_h}{e}\\right)$')\n",
    "\n",
    "# Hydrogens\n",
    "# C0\n",
    "ax[1].plot(angle, alchpots[:,5], '-o', color='tab:blue')\n",
    "ax[1].plot(angle, alchpots[:,6], '-o', color='tab:blue')\n",
    "# C1\n",
    "ax[1].plot(angle, alchpots[:,7], '-o', color='tab:orange')\n",
    "ax[1].plot(angle, alchpots[:,8], '-o', color='tab:orange')\n",
    "# C2\n",
    "ax[1].plot(angle, alchpots[:,9], '-o', color='tab:green')\n",
    "ax[1].plot(angle, alchpots[:,10], '-o', color='tab:green')\n",
    "# C3\n",
    "ax[1].plot(angle, alchpots[:,11], '-o', color='tab:red')\n",
    "ax[1].plot(angle, alchpots[:,12], '-o', color='tab:red')\n",
    "ax[1].plot(angle, alchpots[:,13], '-o', color='tab:red')\n",
    "# O\n",
    "ax[1].plot(angle, alchpots[:,14], '-o', color='tab:grey')\n",
    "\n",
    "ax[1].set_xlabel(r'$\\Delta d_{\\rm{eq}}$ ($\\AA$)')\n",
    "\n",
    "ax[1].set_xlabel(r'$\\Delta d_{\\rm{eq}}$ ($\\AA$)')\n",
    "#ax[1].set_ylabel(r'$Z_I \\int d\\lambda \\frac{\\tilde{\\rho}}{|\\vec{r}-\\vec{R}_I|}$')\n",
    "#ax[1].legend()"
   ]
  },
  {
   "cell_type": "markdown",
   "metadata": {},
   "source": [
    "### Electronic energy"
   ]
  },
  {
   "cell_type": "code",
   "execution_count": null,
   "metadata": {
    "tags": []
   },
   "outputs": [],
   "source": [
    "plt.rcParams['figure.figsize'] = [14,4]\n",
    "fig, ax = plt.subplots(1,2)\n",
    "ax[0].plot(angle, e_el[:,0], '-o',label='C0')\n",
    "ax[0].plot(angle, e_el[:,1], '-o',label='C1')\n",
    "ax[0].plot(angle, e_el[:,2], '-o',label='C2')\n",
    "ax[0].plot(angle, e_el[:,3], '-o',label='C3')\n",
    "#ax[0].legend(bbox_to_anchor=(1.05,1))\n",
    "ax[0].legend()\n",
    "ax[0].set_xlabel(r'$\\Delta d_{\\rm{eq}}$ ($\\AA$)')\n",
    "\n",
    "ax[0].set_ylabel(r'$-Z_I \\int d\\lambda \\frac{\\tilde{\\rho}}{|\\vec{r}-\\vec{R}_I|}$')\n",
    "\n",
    "\n",
    "ax[1].plot(angle, e_el[:,4], '-o', label='O', color='grey')\n",
    "ax[1].set_xlabel(r'$\\Delta d_{\\rm{eq}}$ ($\\AA$)')\n",
    "#ax[1].set_ylabel(r'$Z_I \\int d\\lambda \\frac{\\tilde{\\rho}}{|\\vec{r}-\\vec{R}_I|}$')\n",
    "#ax[1].legend()"
   ]
  },
  {
   "cell_type": "code",
   "execution_count": null,
   "metadata": {
    "tags": []
   },
   "outputs": [],
   "source": [
    "plt.rcParams['figure.figsize'] = [14,4]\n",
    "fig, ax = plt.subplots(1,2)\n",
    "ax[0].plot(angle, e_tot[:,0], '-o',label='C0')\n",
    "ax[0].plot(angle, e_tot[:,1], '-o',label='C1')\n",
    "ax[0].plot(angle, e_tot[:,2], '-o',label='C2')\n",
    "ax[0].plot(angle, e_tot[:,3], '-o',label='C3')\n",
    "#ax[0].legend(bbox_to_anchor=(1.05,1))\n",
    "ax[0].set_xlabel(r'$\\Delta d_{\\rm{eq}}$ ($\\AA$)')\n",
    "\n",
    "ax[0].set_ylabel(r'$-Z_I \\int d\\lambda \\frac{\\tilde{\\rho}}{|\\vec{r}-\\vec{R}_I|} + E_{\\rm{NN}}$')\n",
    "\n",
    "\n",
    "ax[1].plot(angle, e_tot[:,4], '-o', label='O', color='grey')\n",
    "ax[1].set_xlabel(r'$\\Delta d_{\\rm{eq}}$ ($\\AA$)')\n",
    "#ax[1].set_ylabel(r'$Z_I \\int d\\lambda \\frac{\\tilde{\\rho}}{|\\vec{r}-\\vec{R}_I|} + E_{\\rm{NN}}$')\n",
    "#ax[1].legend()"
   ]
  },
  {
   "cell_type": "code",
   "execution_count": null,
   "metadata": {
    "tags": []
   },
   "outputs": [],
   "source": [
    "plt.rcParams['figure.figsize'] = [14,4]\n",
    "fig, ax = plt.subplots(1,2)\n",
    "ax[0].plot(angle, e_scaled[:,0], '-o',label='C0')\n",
    "ax[0].plot(angle, e_scaled[:,1], '-o',label='C1')\n",
    "ax[0].plot(angle, e_scaled[:,2], '-o',label='C2')\n",
    "ax[0].plot(angle, e_scaled[:,3], '-o',label='C3')\n",
    "#ax[0].legend(bbox_to_anchor=(1.05,1))\n",
    "ax[0].set_xlabel(r'$\\Delta d_{\\rm{eq}}$ ($\\AA$)')\n",
    "\n",
    "ax[0].set_ylabel(r'$E_{\\rm{scaled}}$')\n",
    "\n",
    "ax[1].plot(angle, e_scaled[:,4], '-o', label='O', color='grey')\n",
    "ax[1].set_xlabel(r'$\\Delta d_{\\rm{eq}}$ ($\\AA$)')\n",
    "#ax[1].set_ylabel(r'$E_{\\rm{scaled}}$')\n",
    "#ax[1].legend()"
   ]
  },
  {
   "cell_type": "code",
   "execution_count": null,
   "metadata": {
    "tags": []
   },
   "outputs": [],
   "source": [
    "plt.rcParams['figure.figsize'] = [18,4]\n",
    "plt.rcParams['font.size'] = 20\n",
    "\n",
    "fig, ax = plt.subplots(1,3)\n",
    "\n",
    "# Hydrogens\n",
    "# C0\n",
    "ax[0].plot(angle, e_scaled[:,5], '-o', color='tab:blue')\n",
    "ax[0].plot(angle, e_scaled[:,6], '-o', color='tab:blue')\n",
    "# C1\n",
    "ax[0].plot(angle, e_scaled[:,7], '-o', color='tab:orange')\n",
    "ax[0].plot(angle, e_scaled[:,8], '-o', color='tab:orange')\n",
    "# C2\n",
    "ax[0].plot(angle, e_scaled[:,9], '-o', color='tab:green')\n",
    "ax[0].plot(angle, e_scaled[:,10], '-o', color='tab:green')\n",
    "# C3\n",
    "ax[0].plot(angle, e_scaled[:,11], '-o', color='tab:red')\n",
    "ax[0].plot(angle, e_scaled[:,12], '-o', color='tab:red')\n",
    "ax[0].plot(angle, e_scaled[:,13], '-o', color='tab:red')\n",
    "# O\n",
    "ax[0].plot(angle, e_scaled[:,14], '-o', color='tab:grey')\n",
    "\n",
    "ax[0].set_xlabel(r'$\\Delta d_{\\rm{eq}}$ ($\\AA$)')\n",
    "ax[0].set_ylabel(r'$E_{\\rm{scaled}}$')\n",
    "\n",
    "# Carbon\n",
    "ax[1].plot(angle, e_scaled[:,0], '-o',label='C0')\n",
    "ax[1].plot(angle, e_scaled[:,1], '-o',label='C1')\n",
    "ax[1].plot(angle, e_scaled[:,2], '-o',label='C2')\n",
    "ax[1].plot(angle, e_scaled[:,3], '-o',label='C3')\n",
    "#ax[1].legend(bbox_to_anchor=(1.05,1))\n",
    "ax[1].set_xlabel(r'$\\Delta d_{\\rm{eq}}$ ($\\AA$)')\n",
    "\n",
    "# Oxygen\n",
    "ax[2].plot(angle, e_scaled[:,4], '-o', label='O', color='grey')\n",
    "ax[2].set_xlabel(r'$\\Delta d_{\\rm{eq}}$ ($\\AA$)')\n",
    "\n",
    "fig.tight_layout()"
   ]
  },
  {
   "cell_type": "code",
   "execution_count": null,
   "metadata": {
    "jupyter": {
     "source_hidden": true
    },
    "tags": []
   },
   "outputs": [],
   "source": [
    "plt.rcParams['figure.figsize'] = [6,4]\n",
    "fig, ax = plt.subplots(1,1)\n",
    "\n",
    "# C0\n",
    "plt.plot(angle, e_scaled[:,5], '-o', color='tab:blue')\n",
    "plt.plot(angle, e_scaled[:,6], '-o', color='tab:blue')\n",
    "# C1\n",
    "plt.plot(angle, e_scaled[:,7], '-o', color='tab:orange')\n",
    "plt.plot(angle, e_scaled[:,8], '-o', color='tab:orange')\n",
    "# C2\n",
    "plt.plot(angle, e_scaled[:,9], '-o', color='tab:green')\n",
    "plt.plot(angle, e_scaled[:,10], '-o', color='tab:green')\n",
    "# C3\n",
    "plt.plot(angle, e_scaled[:,11], '-o', color='tab:red')\n",
    "plt.plot(angle, e_scaled[:,12], '-o', color='tab:red')\n",
    "plt.plot(angle, e_scaled[:,13], '-o', color='tab:red')\n",
    "# O\n",
    "plt.plot(angle, e_scaled[:,14], '-o', color='tab:grey')\n",
    "\n",
    "#ax[0].legend(bbox_to_anchor=(1.05,1))\n",
    "plt.xlabel(r'$\\Delta d_{\\rm{eq}}$ ($\\AA$)')\n",
    "\n",
    "plt.ylabel(r'$E_{\\rm{scaled}}$')\n"
   ]
  },
  {
   "cell_type": "markdown",
   "metadata": {},
   "source": [
    "# CCCO-dihedral butanol"
   ]
  },
  {
   "cell_type": "code",
   "execution_count": null,
   "metadata": {
    "jupyter": {
     "source_hidden": true
    },
    "tags": []
   },
   "outputs": [],
   "source": [
    "paths_glob = glob.glob('/home/misa/projects/atomic-energies/data/ueg_reference/amons/geometry/dihedrals/butanol/dihe*/results.dict')\n",
    "angle = []\n",
    "for p in paths_glob:\n",
    "    angle.append(float(p.split('/')[-2].split('_')[-1]))\n",
    "paths = []\n",
    "for p,a in zip(paths_glob,angle):\n",
    "    paths.append((a,p))\n",
    "paths.sort()\n",
    "angle.sort()\n",
    "data = []\n",
    "for p in paths:\n",
    "    data.append(uqm.load_obj(p[1]))\n",
    "    \n",
    "geometries = dict()\n",
    "for d in data:\n",
    "    nuc_charges = d['nuclei'][:,0]\n",
    "    pos = d['nuclei'][:,1:]*Bohr\n",
    "    pos = eqd.shift2center(pos, [0,0,0])\n",
    "    molecule = Atoms(numbers=nuc_charges, positions=pos)\n",
    "    ang = np.round(molecule.get_dihedral(0,1,2,4), 3)\n",
    "    geometries[f'ang_{ang}'] = molecule\n",
    "\n",
    "alchpots, e_el, e_npbc, e_scaled, e_tot = get_data(data)\n",
    "\n",
    "nuc_rep = []\n",
    "for et, el in zip(e_tot, e_el):\n",
    "    nuc_rep.append((et-el).sum())\n",
    "nuc_rep = np.array(nuc_rep)"
   ]
  },
  {
   "cell_type": "code",
   "execution_count": null,
   "metadata": {
    "jupyter": {
     "source_hidden": true
    },
    "tags": []
   },
   "outputs": [],
   "source": [
    "but1 = Atoms(numbers = data[1]['nuclei'][:,0], positions=data[1]['nuclei'][:,1:])\n",
    "butm1 = Atoms(numbers = data[-1]['nuclei'][:,0], positions=data[-1]['nuclei'][:,1:])\n"
   ]
  },
  {
   "cell_type": "code",
   "execution_count": null,
   "metadata": {
    "jupyter": {
     "source_hidden": true
    },
    "tags": []
   },
   "outputs": [],
   "source": [
    "butm1.get_all_distances()[3]-but1.get_all_distances()[3]"
   ]
  },
  {
   "cell_type": "markdown",
   "metadata": {},
   "source": [
    "#### Total energy molecule"
   ]
  },
  {
   "cell_type": "code",
   "execution_count": null,
   "metadata": {
    "jupyter": {
     "source_hidden": true
    },
    "tags": []
   },
   "outputs": [],
   "source": [
    "plt.rcParams['figure.figsize'] = [6,4]\n",
    "\n",
    "plt.rcParams['font.size'] = 20\n",
    "plt.plot(angle, e_npbc, '-o', color='black')\n",
    "plt.xlabel(r'$\\alpha_{\\rm{CCCO}}$ (°)')\n",
    "plt.ylabel(r'$E$ (Ha)')\n",
    "plt.savefig('/home/misa/projects/atomic-energies/figures/butanol_geometry/dihedral_total_energy_mol.svg', bbox_inches='tight')"
   ]
  },
  {
   "cell_type": "markdown",
   "metadata": {},
   "source": [
    "#### Electronic energy molecule"
   ]
  },
  {
   "cell_type": "code",
   "execution_count": null,
   "metadata": {
    "jupyter": {
     "source_hidden": true
    },
    "tags": []
   },
   "outputs": [],
   "source": [
    "plt.rcParams['figure.figsize'] = [6,4]\n",
    "plt.rcParams['font.size'] = 20\n",
    "plt.plot(angle, e_npbc-nuc_rep, '-o', color='black')\n",
    "plt.xlabel(r'$\\alpha_{\\rm{CCCO}}$ (°)')\n",
    "plt.ylabel(r'$E_{\\rm{el}}$ (Ha)')\n",
    "plt.savefig('/home/misa/projects/atomic-energies/figures/butanol_geometry/dihedral_electronic_energy_mol.svg', bbox_inches='tight')"
   ]
  },
  {
   "cell_type": "markdown",
   "metadata": {},
   "source": [
    "#### Alchemical Potentials"
   ]
  },
  {
   "cell_type": "code",
   "execution_count": null,
   "metadata": {
    "jupyter": {
     "source_hidden": true
    },
    "tags": []
   },
   "outputs": [],
   "source": [
    "plt.rcParams['figure.figsize'] = [6,4]\n",
    "fig, ax = plt.subplots(1,1)\n",
    "\n",
    "#at = 'heavy'\n",
    "at = 'heavy'\n",
    "\n",
    "if at == 'heavy':\n",
    "    ax.plot(angle, alchpots[:,0], '-o',label='C0')\n",
    "    ax.plot(angle, alchpots[:,1], '-o',label='C1')\n",
    "    ax.plot(angle, alchpots[:,2], '-o',label='C2')\n",
    "    ax.plot(angle, alchpots[:,3], '-o',label='C3')\n",
    "    ax.plot(angle, alchpots[:,4], '-o', label='O', color='grey')\n",
    "\n",
    "    \n",
    "# Hydrogens\n",
    "if at == 'hydrogens':\n",
    "    # C0\n",
    "    ax.plot(angle, alchpots[:,5], '-o', color='tab:blue')\n",
    "    ax.plot(angle, alchpots[:,6], '-o', color='tab:blue')\n",
    "    # C1\n",
    "    ax.plot(angle, alchpots[:,7], '-o', color='tab:orange')\n",
    "    ax.plot(angle, alchpots[:,8], '-o', color='tab:orange')\n",
    "    # C2\n",
    "    ax.plot(angle, alchpots[:,9], '-o', color='tab:green')\n",
    "    ax.plot(angle, alchpots[:,10], '-o', color='tab:green')\n",
    "    # C3\n",
    "    ax.plot(angle, alchpots[:,11], '-o', color='tab:red')\n",
    "    ax.plot(angle, alchpots[:,12], '-o', color='tab:red')\n",
    "    ax.plot(angle, alchpots[:,13], '-o', color='tab:red')\n",
    "    # O\n",
    "    ax.plot(angle, alchpots[:,14], '-o', color='tab:grey')\n",
    "\n",
    "ax.set_xlabel(r'$\\alpha_{\\rm{CCCO}}$ (°)')\n",
    "ax.set_ylabel(r'$\\tilde{\\mu}_I$ $\\left(\\frac{E_h}{e}\\right)$')\n",
    "#plt.savefig('/home/misa/projects/atomic-energies/figures/butanol_geometry/dihedral_mu_hydrogens.svg', bbox_inches='tight')\n",
    "plt.savefig('/home/misa/projects/atomic-energies/figures/butanol_geometry/dihedral_mu_heavy_atoms.svg', bbox_inches='tight')"
   ]
  },
  {
   "cell_type": "code",
   "execution_count": null,
   "metadata": {},
   "outputs": [],
   "source": []
  },
  {
   "cell_type": "code",
   "execution_count": null,
   "metadata": {
    "jupyter": {
     "source_hidden": true
    },
    "tags": []
   },
   "outputs": [],
   "source": [
    "plt.rcParams['figure.figsize'] = [14,4]\n",
    "fig, ax = plt.subplots(1,2)\n",
    "ax[0].plot(angle, e_el[:,0], '-o',label='C0')\n",
    "ax[0].plot(angle, e_el[:,1], '-o',label='C1')\n",
    "ax[0].plot(angle, e_el[:,2], '-o',label='C2')\n",
    "ax[0].plot(angle, e_el[:,3], '-o',label='C3')\n",
    "#ax[0].legend(bbox_to_anchor=(1.05,1))\n",
    "#ax[0].legend()\n",
    "ax[0].set_xlabel(r'$\\alpha$ (°)')\n",
    "\n",
    "ax[0].set_ylabel(r'$-Z_I \\int d\\lambda \\frac{\\tilde{\\rho}}{|\\vec{r}-\\vec{R}_I|}$')\n",
    "\n",
    "\n",
    "ax[1].plot(angle, e_el[:,4], '-o', label='O', color='grey')\n",
    "ax[1].set_xlabel(r'$\\alpha$ (°)')\n",
    "#ax[1].set_ylabel(r'$Z_I \\int d\\lambda \\frac{\\tilde{\\rho}}{|\\vec{r}-\\vec{R}_I|}$')\n",
    "#ax[1].legend()"
   ]
  },
  {
   "cell_type": "code",
   "execution_count": null,
   "metadata": {
    "jupyter": {
     "source_hidden": true
    },
    "tags": []
   },
   "outputs": [],
   "source": [
    "plt.rcParams['figure.figsize'] = [14,4]\n",
    "fig, ax = plt.subplots(1,2)\n",
    "ax[0].plot(angle, e_tot[:,0], '-o',label='C0')\n",
    "ax[0].plot(angle, e_tot[:,1], '-o',label='C1')\n",
    "ax[0].plot(angle, e_tot[:,2], '-o',label='C2')\n",
    "ax[0].plot(angle, e_tot[:,3], '-o',label='C3')\n",
    "#ax[0].legend(bbox_to_anchor=(1.05,1))\n",
    "ax[0].set_xlabel(r'$\\alpha$ (°)')\n",
    "\n",
    "ax[0].set_ylabel(r'$-Z_I \\int d\\lambda \\frac{\\tilde{\\rho}}{|\\vec{r}-\\vec{R}_I|} + E_{\\rm{NN}}$')\n",
    "\n",
    "\n",
    "ax[1].plot(angle, e_tot[:,4], '-o', label='O', color='grey')\n",
    "ax[1].set_xlabel(r'$\\alpha$ (°)')\n",
    "#ax[1].set_ylabel(r'$Z_I \\int d\\lambda \\frac{\\tilde{\\rho}}{|\\vec{r}-\\vec{R}_I|} + E_{\\rm{NN}}$')\n",
    "#ax[1].legend()"
   ]
  },
  {
   "cell_type": "code",
   "execution_count": null,
   "metadata": {
    "jupyter": {
     "source_hidden": true
    },
    "tags": []
   },
   "outputs": [],
   "source": [
    "plt.rcParams['figure.figsize'] = [14,4]\n",
    "fig, ax = plt.subplots(1,2)\n",
    "ax[0].plot(angle, e_scaled[:,0], '-o',label='C0')\n",
    "ax[0].plot(angle, e_scaled[:,1], '-o',label='C1')\n",
    "ax[0].plot(angle, e_scaled[:,2], '-o',label='C2')\n",
    "ax[0].plot(angle, e_scaled[:,3], '-o',label='C3')\n",
    "#ax[0].legend(bbox_to_anchor=(1.05,1))\n",
    "ax[0].set_xlabel(r'$\\alpha$ (°)')\n",
    "\n",
    "ax[0].set_ylabel(r'$E_{\\rm{scaled}}$')\n",
    "\n",
    "ax[1].plot(angle, e_scaled[:,4], '-o', label='O', color='grey')\n",
    "ax[1].set_xlabel(r'$\\alpha$ (°)')\n",
    "#ax[1].set_ylabel(r'$E_{\\rm{scaled}}$')\n",
    "#ax[1].legend()"
   ]
  },
  {
   "cell_type": "code",
   "execution_count": null,
   "metadata": {
    "jupyter": {
     "source_hidden": true
    },
    "tags": []
   },
   "outputs": [],
   "source": [
    "plt.rcParams['figure.figsize'] = [18,4]\n",
    "plt.rcParams['font.size'] = 20\n",
    "\n",
    "fig, ax = plt.subplots(1,3)\n",
    "\n",
    "# Hydrogens\n",
    "# C0\n",
    "ax[0].plot(angle, e_scaled[:,5], '-o', color='tab:blue')\n",
    "ax[0].plot(angle, e_scaled[:,6], '-o', color='tab:blue')\n",
    "# C1\n",
    "ax[0].plot(angle, e_scaled[:,7], '-o', color='tab:orange')\n",
    "ax[0].plot(angle, e_scaled[:,8], '-o', color='tab:orange')\n",
    "# C2\n",
    "ax[0].plot(angle, e_scaled[:,9], '-o', color='tab:green')\n",
    "ax[0].plot(angle, e_scaled[:,10], '-o', color='tab:green')\n",
    "# C3\n",
    "ax[0].plot(angle, e_scaled[:,11], '-o', color='tab:red')\n",
    "ax[0].plot(angle, e_scaled[:,12], '-o', color='tab:red')\n",
    "ax[0].plot(angle, e_scaled[:,13], '-o', color='tab:red')\n",
    "# O\n",
    "ax[0].plot(angle, e_scaled[:,14], '-o', color='tab:grey')\n",
    "\n",
    "ax[0].set_xlabel(r'$\\alpha$ (°)')\n",
    "ax[0].set_ylabel(r'$E_{\\rm{scaled}}$')\n",
    "\n",
    "# Carbon\n",
    "ax[1].plot(angle, e_scaled[:,0], '-o',label='C0')\n",
    "ax[1].plot(angle, e_scaled[:,1], '-o',label='C1')\n",
    "ax[1].plot(angle, e_scaled[:,2], '-o',label='C2')\n",
    "ax[1].plot(angle, e_scaled[:,3], '-o',label='C3')\n",
    "#ax[1].legend(bbox_to_anchor=(1.05,1))\n",
    "ax[1].set_xlabel(r'$\\alpha$ (°)')\n",
    "\n",
    "# Oxygen\n",
    "ax[2].plot(angle, e_scaled[:,4], '-o', label='O', color='grey')\n",
    "ax[2].set_xlabel(r'$\\alpha$ (°)')\n",
    "\n",
    "fig.tight_layout()"
   ]
  },
  {
   "cell_type": "code",
   "execution_count": null,
   "metadata": {},
   "outputs": [],
   "source": []
  },
  {
   "cell_type": "markdown",
   "metadata": {},
   "source": [
    "# Sum of atomic energies vs energy of whole molecule"
   ]
  },
  {
   "cell_type": "code",
   "execution_count": null,
   "metadata": {},
   "outputs": [],
   "source": [
    "cpmd_bond = np.loadtxt('/home/misa/projects/atomic-energies/data/ueg_reference/amons/geometry/bond_stretch/butanol/cpmd_en.txt')\n",
    "cpmd_angle = np.loadtxt('/home/misa/projects/atomic-energies/data/ueg_reference/amons/geometry/angles/butanol_plane/cpmd_en.txt')\n",
    "cpmd_dihe = np.loadtxt('/home/misa/projects/atomic-energies/data/ueg_reference/amons/geometry/dihedrals/butanol/cpmd_en.txt')"
   ]
  },
  {
   "cell_type": "code",
   "execution_count": 3,
   "metadata": {},
   "outputs": [],
   "source": [
    "#paths_glob = glob.glob('/home/misa/projects/atomic-energies/data/ueg_reference/amons/geometry/angles/butanol_plane/ang_*/results.dict')\n",
    "\n",
    "# paths_glob = glob.glob('/data/sahre/projects/atomic-energies/data/ueg_reference/amons/geometry/angles/butanol_plane/ang_*/results.dict')\n",
    "paths_glob = glob.glob('/data/sahre/projects/atomic-energies/data/ueg_reference/amons/geometry/bond_stretch/butanol/dist_*/results.dict')\n",
    "\n",
    "\n",
    "angle = []\n",
    "for p in paths_glob:\n",
    "    angle.append(float(p.split('/')[-2].split('_')[-1]))\n",
    "paths = []\n",
    "for p,a in zip(paths_glob,angle):\n",
    "    paths.append((a,p))\n",
    "paths.sort()\n",
    "angle.sort()\n",
    "data = []\n",
    "for p in paths:\n",
    "    data.append(uqm.load_obj(p[1]))\n",
    "    \n",
    "geometries = dict()\n",
    "for d in data:\n",
    "    nuc_charges = d['nuclei'][:,0]\n",
    "    pos = d['nuclei'][:,1:]*Bohr\n",
    "    pos = eqd.shift2center(pos, [0,0,0])\n",
    "    molecule = Atoms(numbers=nuc_charges, positions=pos)\n",
    "    #ang = np.round(molecule.get_angle(1, 2,4))\n",
    "    ang = np.round(molecule.get_distance(2,4), 5)\n",
    "    geometries[f'ang_{ang}'] = molecule\n",
    "\n",
    "alchpots, e_el, e_npbc, e_scaled, e_tot = get_data(data)\n",
    "\n",
    "nuc_rep = []\n",
    "for et, el in zip(e_tot, e_el):\n",
    "    nuc_rep.append((et-el).sum())\n",
    "nuc_rep = np.array(nuc_rep)"
   ]
  },
  {
   "cell_type": "code",
   "execution_count": 145,
   "metadata": {},
   "outputs": [
    {
     "data": {
      "text/plain": [
       "array([ -89.62660786, -207.89367942, -271.13789221, -355.9159027 ,\n",
       "       -428.36590678])"
      ]
     },
     "execution_count": 145,
     "metadata": {},
     "output_type": "execute_result"
    }
   ],
   "source": []
  },
  {
   "cell_type": "code",
   "execution_count": 146,
   "metadata": {},
   "outputs": [
    {
     "data": {
      "text/plain": [
       "[<matplotlib.lines.Line2D at 0x7f5b5c83f1f0>]"
      ]
     },
     "execution_count": 146,
     "metadata": {},
     "output_type": "execute_result"
    },
    {
     "data": {
      "image/png": "[encoded data removed]",
      "text/plain": [
       "<Figure size 432x288 with 1 Axes>"
      ]
     },
     "metadata": {
      "needs_background": "light"
     },
     "output_type": "display_data"
    }
   ],
   "source": [
    "\n",
    "plt.plot(data[4][\"lam_vals\"], data[4][\"alchpots\"].sum(axis=1), \"-o\")\n",
    "\n",
    "plt.plot(data[4][\"lam_vals\"], (data[4][\"alchpots\"]*data[0][\"nuclei\"][:,0]).sum(axis=1))"
   ]
  },
  {
   "cell_type": "code",
   "execution_count": 138,
   "metadata": {},
   "outputs": [
    {
     "data": {
      "text/plain": [
       "9"
      ]
     },
     "execution_count": 138,
     "metadata": {},
     "output_type": "execute_result"
    }
   ],
   "source": [
    "len(data)"
   ]
  },
  {
   "cell_type": "code",
   "execution_count": 139,
   "metadata": {},
   "outputs": [
    {
     "data": {
      "text/plain": [
       "[0.9242895409159478,\n",
       " 1.0492891301276204,\n",
       " 1.1742892210380302,\n",
       " 1.2992893119484397,\n",
       " 1.4242894028588495,\n",
       " 1.6742890829809514,\n",
       " 1.9242890964957953,\n",
       " 2.1742892783166115,\n",
       " 2.424289460137428]"
      ]
     },
     "execution_count": 139,
     "metadata": {},
     "output_type": "execute_result"
    }
   ],
   "source": [
    "angle_value"
   ]
  },
  {
   "cell_type": "code",
   "execution_count": 6,
   "metadata": {},
   "outputs": [],
   "source": [
    "el_mol = []\n",
    "for e in e_el:\n",
    "    el_mol.append(e.sum())"
   ]
  },
  {
   "cell_type": "code",
   "execution_count": 7,
   "metadata": {},
   "outputs": [
    {
     "ename": "NameError",
     "evalue": "name 'cpmd_angle' is not defined",
     "output_type": "error",
     "traceback": [
      "\u001b[0;31m---------------------------------------------------------------------------\u001b[0m",
      "\u001b[0;31mNameError\u001b[0m                                 Traceback (most recent call last)",
      "\u001b[0;32m<ipython-input-7-a038268f0b79>\u001b[0m in \u001b[0;36m<module>\u001b[0;34m\u001b[0m\n\u001b[0;32m----> 1\u001b[0;31m \u001b[0mplt\u001b[0m\u001b[0;34m.\u001b[0m\u001b[0mplot\u001b[0m\u001b[0;34m(\u001b[0m\u001b[0mcpmd_angle\u001b[0m\u001b[0;34m[\u001b[0m\u001b[0;34m:\u001b[0m\u001b[0;34m,\u001b[0m\u001b[0;36m0\u001b[0m\u001b[0;34m]\u001b[0m\u001b[0;34m,\u001b[0m \u001b[0mcpmd_angle\u001b[0m\u001b[0;34m[\u001b[0m\u001b[0;34m:\u001b[0m\u001b[0;34m,\u001b[0m\u001b[0;36m1\u001b[0m\u001b[0;34m]\u001b[0m\u001b[0;34m,\u001b[0m \u001b[0;34m'-o'\u001b[0m\u001b[0;34m,\u001b[0m \u001b[0mlabel\u001b[0m\u001b[0;34m=\u001b[0m\u001b[0;34m'E el mol'\u001b[0m\u001b[0;34m)\u001b[0m\u001b[0;34m\u001b[0m\u001b[0;34m\u001b[0m\u001b[0m\n\u001b[0m\u001b[1;32m      2\u001b[0m \u001b[0mplt\u001b[0m\u001b[0;34m.\u001b[0m\u001b[0mplot\u001b[0m\u001b[0;34m(\u001b[0m\u001b[0mcpmd_angle\u001b[0m\u001b[0;34m[\u001b[0m\u001b[0;34m:\u001b[0m\u001b[0;34m,\u001b[0m\u001b[0;36m0\u001b[0m\u001b[0;34m]\u001b[0m\u001b[0;34m,\u001b[0m \u001b[0mel_mol\u001b[0m\u001b[0;34m,\u001b[0m \u001b[0;34m'-o'\u001b[0m\u001b[0;34m,\u001b[0m \u001b[0mlabel\u001b[0m\u001b[0;34m=\u001b[0m\u001b[0;34m'E el at'\u001b[0m\u001b[0;34m)\u001b[0m\u001b[0;34m\u001b[0m\u001b[0;34m\u001b[0m\u001b[0m\n\u001b[1;32m      3\u001b[0m \u001b[0;34m\u001b[0m\u001b[0m\n\u001b[1;32m      4\u001b[0m \u001b[0mplt\u001b[0m\u001b[0;34m.\u001b[0m\u001b[0mplot\u001b[0m\u001b[0;34m(\u001b[0m\u001b[0mcpmd_angle\u001b[0m\u001b[0;34m[\u001b[0m\u001b[0;34m:\u001b[0m\u001b[0;34m,\u001b[0m\u001b[0;36m0\u001b[0m\u001b[0;34m]\u001b[0m\u001b[0;34m,\u001b[0m \u001b[0;34m-\u001b[0m\u001b[0mcpmd_angle\u001b[0m\u001b[0;34m[\u001b[0m\u001b[0;34m:\u001b[0m\u001b[0;34m,\u001b[0m\u001b[0;36m2\u001b[0m\u001b[0;34m]\u001b[0m\u001b[0;34m-\u001b[0m\u001b[0;36m45\u001b[0m\u001b[0;34m,\u001b[0m \u001b[0;34m'-o'\u001b[0m\u001b[0;34m,\u001b[0m \u001b[0mlabel\u001b[0m\u001b[0;34m=\u001b[0m\u001b[0;34m'- E nuc'\u001b[0m\u001b[0;34m)\u001b[0m\u001b[0;34m\u001b[0m\u001b[0;34m\u001b[0m\u001b[0m\n\u001b[1;32m      5\u001b[0m \u001b[0mplt\u001b[0m\u001b[0;34m.\u001b[0m\u001b[0mplot\u001b[0m\u001b[0;34m(\u001b[0m\u001b[0mcpmd_angle\u001b[0m\u001b[0;34m[\u001b[0m\u001b[0;34m:\u001b[0m\u001b[0;34m,\u001b[0m\u001b[0;36m0\u001b[0m\u001b[0;34m]\u001b[0m\u001b[0;34m,\u001b[0m\u001b[0mcen\u001b[0m\u001b[0;34m[\u001b[0m\u001b[0;34m:\u001b[0m\u001b[0;34m,\u001b[0m\u001b[0;36m0\u001b[0m\u001b[0;34m]\u001b[0m\u001b[0;34m-\u001b[0m\u001b[0;36m200\u001b[0m\u001b[0;34m,\u001b[0m \u001b[0;34m'-o'\u001b[0m\u001b[0;34m)\u001b[0m\u001b[0;34m\u001b[0m\u001b[0;34m\u001b[0m\u001b[0m\n",
      "\u001b[0;31mNameError\u001b[0m: name 'cpmd_angle' is not defined"
     ]
    }
   ],
   "source": [
    "plt.plot(cpmd_angle[:,0], cpmd_angle[:,1], '-o', label='E el mol')\n",
    "plt.plot(cpmd_angle[:,0], el_mol, '-o', label='E el at')\n",
    "\n",
    "plt.plot(cpmd_angle[:,0], -cpmd_angle[:,2]-45, '-o', label='- E nuc')\n",
    "plt.plot(cpmd_angle[:,0],cen[:,0]-200, '-o')\n",
    "plt.legend()"
   ]
  },
  {
   "cell_type": "code",
   "execution_count": 8,
   "metadata": {},
   "outputs": [
    {
     "ename": "NameError",
     "evalue": "name 'cpmd_angle' is not defined",
     "output_type": "error",
     "traceback": [
      "\u001b[0;31m---------------------------------------------------------------------------\u001b[0m",
      "\u001b[0;31mNameError\u001b[0m                                 Traceback (most recent call last)",
      "\u001b[0;32m<ipython-input-8-8486fc38a85d>\u001b[0m in \u001b[0;36m<module>\u001b[0;34m\u001b[0m\n\u001b[0;32m----> 1\u001b[0;31m \u001b[0mplt\u001b[0m\u001b[0;34m.\u001b[0m\u001b[0mplot\u001b[0m\u001b[0;34m(\u001b[0m\u001b[0mcpmd_angle\u001b[0m\u001b[0;34m[\u001b[0m\u001b[0;34m:\u001b[0m\u001b[0;34m,\u001b[0m\u001b[0;36m0\u001b[0m\u001b[0;34m]\u001b[0m\u001b[0;34m,\u001b[0m\u001b[0mcen\u001b[0m\u001b[0;34m[\u001b[0m\u001b[0;34m:\u001b[0m\u001b[0;34m,\u001b[0m\u001b[0;36m0\u001b[0m\u001b[0;34m]\u001b[0m\u001b[0;34m-\u001b[0m\u001b[0;36m200\u001b[0m\u001b[0;34m,\u001b[0m \u001b[0;34m'-o'\u001b[0m\u001b[0;34m)\u001b[0m\u001b[0;34m\u001b[0m\u001b[0;34m\u001b[0m\u001b[0m\n\u001b[0m",
      "\u001b[0;31mNameError\u001b[0m: name 'cpmd_angle' is not defined"
     ]
    }
   ],
   "source": [
    "plt.plot(cpmd_angle[:,0],cen[:,0]-200, '-o')"
   ]
  },
  {
   "cell_type": "markdown",
   "metadata": {},
   "source": [
    "# Core electron density"
   ]
  },
  {
   "cell_type": "markdown",
   "metadata": {},
   "source": [
    "### Generate core density"
   ]
  },
  {
   "cell_type": "code",
   "execution_count": 4,
   "metadata": {},
   "outputs": [],
   "source": [
    "def generate_core_density(atom_coords, grid_coords, lam_val, Z):\n",
    "    Ne = 2 # number of core electrons\n",
    "    a0 = 1 # Bohr radius\n",
    "    b = 2*Z*lam_val/a0 # exponent of exponential function e^-b*|r-R_J|\n",
    "    A = Ne*b**3/(8*np.pi) # normalization constant\n",
    "    dist = np.linalg.norm(grid_coords-atom_coords, axis = 1) # distance |r-R_J|\n",
    "    n_core = A*np.exp(-b*dist) # A*e^b*|r-R_J|\n",
    "    return(n_core)\n",
    "\n",
    "def get_mu_c_IJ(grid_coords, grid_weights, lam_val, pos_I, pos_J, Z_J):\n",
    "    \"\"\"\n",
    "    evalution of integral \\int dr n_core(r, R_J, lambda)/|r-R_I|\n",
    "    the core density can be centered at position R_J with J \\neq I but the denominator depends on the position of atom I with R_I\n",
    "    \"\"\"\n",
    "    n_core_J = generate_core_density(pos_J, grid_coords, lam_val, Z_J) # density of atom J\n",
    "    dist_I = np.linalg.norm(grid_coords-pos_I, axis = 1) # |r-R_I|\n",
    "    \n",
    "    return((n_core_J/dist_I*grid_weights).sum()) # integrate rho_J/|r-R_I| dr\n",
    "\n",
    "\n",
    "def get_mu_c_IJ_lambda(d_IJ, lam_vals, Z_J):\n",
    "    \"\"\"\n",
    "    integrates first with respect to dr then with respect to d\\lambda\n",
    "    \"\"\"\n",
    "    # generate grid\n",
    "    mol = gto.Mole()\n",
    "    mol.atom = f'''O 0.0 0.0 0.0; O {d_IJ} 0.0 0.0''' # distance between cores I and J\n",
    "    mol.unit = 'AU'\n",
    "    mol.basis = 'def2tzvp'\n",
    "    mol.build()\n",
    "    grid = dft.gen_grid.Grids(mol)\n",
    "    grid.level = 9\n",
    "    grid.build()\n",
    "    mu_c_IJ = []\n",
    "    for lam_val in lam_vals:    \n",
    "        mu_c_IJ.append(get_mu_c_IJ(grid.coords, grid.weights, lam_val, mol.atom_coords()[0], mol.atom_coords()[1], Z_J))\n",
    "    return(mu_c_IJ)\n",
    "\n",
    "def get_mu_I_ueg(num_core_elec):\n",
    "    #generate grid\n",
    "    mol = gto.Mole()\n",
    "    mol.atom = f'''O 0.0 0.0 0.0'''\n",
    "    mol.unit = 'AU'\n",
    "    mol.basis = 'def2tzvp'\n",
    "    mol.build()\n",
    "    grid = dft.gen_grid.Grids(mol)\n",
    "    grid.level = 9\n",
    "    grid.build()\n",
    "\n",
    "    # calculate integral\n",
    "    atom_I = mol.atom_coords()[0]\n",
    "    dist_I = np.linalg.norm(grid.coords-mol.atom_coords()[0], axis = 1) # |r-R_I|\n",
    "    \n",
    "    norm_ueg = num_core_elec/grid.weights.sum() # N*\\int dV rho_core(lambda=0) = 2 -> n = 2/\\int dV rho_core(lambda=0)\n",
    "\n",
    "    integral = norm_ueg*(grid.weights/dist_I).sum() # N \\int dV 1/|r-R_I| = mu_ueg\n",
    "    \n",
    "    # mu_ueg(2) = 0.1279; = -2.4303 for 38 electrons; for cube-files and 38 electrons mu_ueg = -2.1339789\n",
    "    return(integral)"
   ]
  },
  {
   "cell_type": "code",
   "execution_count": 5,
   "metadata": {},
   "outputs": [],
   "source": [
    "mu_ueg = get_mu_I_ueg(2) # mu ueg for 10 core electrons"
   ]
  },
  {
   "cell_type": "code",
   "execution_count": 6,
   "metadata": {},
   "outputs": [],
   "source": [
    "tilde_mu_core_complete = []\n",
    "for atom_index in range(5): # heavy atoms go from 0 to 4\n",
    "    tilde_mu_core = []\n",
    "    for angle in geometries.keys(): # angle scan\n",
    "        #atom_index = 4\n",
    "        lam_vals = np.array([0.2*32, 13, 19, 26, 32])/32\n",
    "\n",
    "        # necessary to generate the core densities rho_c,J\n",
    "        molecule = geometries[angle]\n",
    "        d_IJs = molecule.get_distances(atom_index, np.where(molecule.get_atomic_numbers() > 1)) # distance of atom[atom_index] to all the other heavy atoms\n",
    "        Z_Js = molecule.get_atomic_numbers()[molecule.get_atomic_numbers()>1] # nuclear charges of heavy atoms\n",
    "        \n",
    "\n",
    "        integrals_IJ = {f'd_{atom_index}{J}_{Z_J}':[] for  J, Z_J in zip(range(5), Z_Js)} # dictionary where \\int dr rho_J/|r-R_I| is saved\n",
    "\n",
    "        for J, d_IJ, Z_J in zip(range(5), d_IJs, Z_Js): # iterate over all atom pairs IJ (including I=J) for atom index\n",
    "\n",
    "            mu_IJ_lambda = []\n",
    "\n",
    "            \n",
    "            if np.isclose(d_IJ, 0): # if I = J use analytical solution\n",
    "                for lam_val in lam_vals:\n",
    "                    Ne = 2 # number of core electrons\n",
    "                    a0 = 1 # Bohr radius\n",
    "                    mu_IJ_lambda.append(Ne*Z_J*lam_val/a0)\n",
    "\n",
    "            else: # integration via Becke-Lebedev grid\n",
    "                mu_IJ_lambda = get_mu_c_IJ_lambda(d_IJ, lam_vals, Z_J)\n",
    "\n",
    "            integrals_IJ[f'd_{atom_index}{J}_{Z_J}'] = mu_IJ_lambda\n",
    "\n",
    "        # add mu at lambda = 0\n",
    "        for k in integrals_IJ.keys():\n",
    "            integrals_IJ[k].insert(0, mu_ueg)\n",
    "        # integrate over lambda -> tilde mu_core_IJ\n",
    "        lambdas_complete = np.concatenate((np.array([0.0]), lam_vals))\n",
    "        tilde_mu_IJ = []\n",
    "        for k in integrals_IJ.keys():\n",
    "            tilde_mu_IJ.append(np.trapz(integrals_IJ[k], lambdas_complete))\n",
    "\n",
    "        tilde_mu_core_I = np.array(tilde_mu_IJ).sum() # sum up integrals for all pairwise interactions -> mu_I core for one geometry\n",
    "        tilde_mu_core.append(tilde_mu_core_I) #-> mu_I core for all geometries\n",
    "    tilde_mu_core_complete.append(tilde_mu_core)"
   ]
  },
  {
   "cell_type": "code",
   "execution_count": 50,
   "metadata": {},
   "outputs": [
    {
     "data": {
      "text/plain": [
       "{'d_40_6': [0.12790892054342637,\n",
       "  0.42524938161933695,\n",
       "  0.4252848112746413,\n",
       "  0.42528481186018763,\n",
       "  0.4252848118562831,\n",
       "  0.4252848118540161],\n",
       " 'd_41_6': [0.12790892054342637,\n",
       "  0.6177700269421779,\n",
       "  0.6190649752016999,\n",
       "  0.6190657686699479,\n",
       "  0.6190657694497973,\n",
       "  0.6190657694498477],\n",
       " 'd_42_6': [0.12790892054342637,\n",
       "  0.8153971798967942,\n",
       "  0.8249419978940845,\n",
       "  0.8249837429294913,\n",
       "  0.8249839928336375,\n",
       "  0.8249839934046329],\n",
       " 'd_43_6': [0.12790892054342637,\n",
       "  0.3689128576968622,\n",
       "  0.3689190479766522,\n",
       "  0.36891904799306224,\n",
       "  0.368919047988752,\n",
       "  0.36891904799601977],\n",
       " 'd_44_8': [0.12790892054342637, 3.2, 6.5, 9.5, 13.0, 16.0]}"
      ]
     },
     "execution_count": 50,
     "metadata": {},
     "output_type": "execute_result"
    }
   ],
   "source": [
    "integrals_IJ"
   ]
  },
  {
   "cell_type": "code",
   "execution_count": 76,
   "metadata": {},
   "outputs": [],
   "source": [
    "tilde_mu_core_complete = np.array(tilde_mu_core_complete)"
   ]
  },
  {
   "cell_type": "code",
   "execution_count": 77,
   "metadata": {},
   "outputs": [
    {
     "data": {
      "text/plain": [
       "array([[ 9.6074909 ,  9.59036556,  9.57414829,  9.55878257,  9.54421599,\n",
       "         9.51727749,  9.49296294,  9.47094616,  9.45094667],\n",
       "       [ 9.96640596,  9.92904299,  9.89329293,  9.85928552,  9.82707432,\n",
       "         9.76799528,  9.71565834,  9.66939765,  9.62848051],\n",
       "       [10.37315195, 10.16429534,  9.99565923,  9.85683826,  9.74070473,\n",
       "         9.55772336,  9.42045629,  9.31393429,  9.22901039],\n",
       "       [ 8.92561339,  8.91313842,  8.90128113,  8.8900012 ,  8.87926235,\n",
       "         8.8592698 ,  8.84105716,  8.82441159,  8.80915106],\n",
       "       [11.77069187, 11.51201579, 11.29149994, 11.10058885, 10.93319485,\n",
       "        10.65228771, 10.42468888, 10.23580746, 10.07615527]])"
      ]
     },
     "execution_count": 77,
     "metadata": {},
     "output_type": "execute_result"
    }
   ],
   "source": [
    "tilde_mu_core_complete"
   ]
  },
  {
   "cell_type": "code",
   "execution_count": 78,
   "metadata": {},
   "outputs": [],
   "source": [
    "e_el_core = []\n",
    "for i in range(tilde_mu_core_complete.shape[1]):\n",
    "    e_el_core.append(-(tilde_mu_core_complete[:,i]*molecule.get_atomic_numbers()[molecule.get_atomic_numbers()>1]).sum())"
   ]
  },
  {
   "cell_type": "code",
   "execution_count": 79,
   "metadata": {},
   "outputs": [],
   "source": [
    "e_el_ve = []\n",
    "for i in range(e_el.shape[0]):\n",
    "    e_el_ve.append(e_el[i].sum())"
   ]
  },
  {
   "cell_type": "code",
   "execution_count": 83,
   "metadata": {},
   "outputs": [],
   "source": [
    "angle_value = []\n",
    "for k in geometries.keys():\n",
    "    #angle_value.append(geometries[k].get_angle(1, 2,4))\n",
    "    angle_value.append(geometries[k].get_distance(2,4))\n",
    "    \n",
    "    #ang = np.round(molecule.get_angle(1, 2,4))\n",
    "    #geometries[f'ang_{ang}'] = molecule"
   ]
  },
  {
   "cell_type": "code",
   "execution_count": 84,
   "metadata": {},
   "outputs": [
    {
     "data": {
      "text/plain": [
       "[0.9242895409159478,\n",
       " 1.0492891301276204,\n",
       " 1.1742892210380302,\n",
       " 1.2992893119484397,\n",
       " 1.4242894028588495,\n",
       " 1.6742890829809514,\n",
       " 1.9242890964957953,\n",
       " 2.1742892783166115,\n",
       " 2.424289460137428]"
      ]
     },
     "execution_count": 84,
     "metadata": {},
     "output_type": "execute_result"
    }
   ],
   "source": [
    "angle_value"
   ]
  },
  {
   "cell_type": "code",
   "execution_count": 99,
   "metadata": {},
   "outputs": [
    {
     "data": {
      "text/plain": [
       "[<matplotlib.lines.Line2D at 0x7f5b5cdd0c70>]"
      ]
     },
     "execution_count": 99,
     "metadata": {},
     "output_type": "execute_result"
    },
    {
     "data": {
      "image/png": "[encoded data removed]",
      "text/plain": [
       "<Figure size 432x288 with 1 Axes>"
      ]
     },
     "metadata": {
      "needs_background": "light"
     },
     "output_type": "display_data"
    }
   ],
   "source": [
    "plt.plot(angle_value,np.array(e_el_core)+np.array(e_el_ve)+nuc_rep, \"-o\")\n",
    "#plt.plot(angle_value,np.array(e_el_core)+nuc_rep)\n",
    "\n",
    "#plt.plot(angle_value, np.array(e_el_core)+0.3*np.array(e_el_ve)+nuc_rep, \"-o\")\n",
    "#plt.plot(angle_value, np.array(e_el_core)+0.36*np.array(e_el_ve)+nuc_rep, \"-o\")"
   ]
  },
  {
   "cell_type": "code",
   "execution_count": 106,
   "metadata": {},
   "outputs": [
    {
     "data": {
      "text/plain": [
       "[0.9242895409159478,\n",
       " 1.0492891301276204,\n",
       " 1.1742892210380302,\n",
       " 1.2992893119484397,\n",
       " 1.4242894028588495,\n",
       " 1.6742890829809514,\n",
       " 1.9242890964957953,\n",
       " 2.1742892783166115,\n",
       " 2.424289460137428]"
      ]
     },
     "execution_count": 106,
     "metadata": {},
     "output_type": "execute_result"
    }
   ],
   "source": [
    "angle_value"
   ]
  },
  {
   "cell_type": "code",
   "execution_count": 105,
   "metadata": {},
   "outputs": [
    {
     "data": {
      "text/plain": [
       "<matplotlib.legend.Legend at 0x7f5b5cbcf850>"
      ]
     },
     "execution_count": 105,
     "metadata": {},
     "output_type": "execute_result"
    },
    {
     "data": {
      "image/png": "[encoded data removed]",
      "text/plain": [
       "<Figure size 432x288 with 1 Axes>"
      ]
     },
     "metadata": {
      "needs_background": "light"
     },
     "output_type": "display_data"
    }
   ],
   "source": [
    "plt.plot(angle_value,-np.array(e_el_core)-120, '-o',label=\"-E_c\")\n",
    "plt.plot(angle_value,nuc_rep, '-o',label=\"E_rep\")\n",
    "plt.legend()"
   ]
  },
  {
   "cell_type": "code",
   "execution_count": 103,
   "metadata": {},
   "outputs": [
    {
     "data": {
      "text/plain": [
       "<matplotlib.legend.Legend at 0x7f5b5ccc8f10>"
      ]
     },
     "execution_count": 103,
     "metadata": {},
     "output_type": "execute_result"
    },
    {
     "data": {
      "image/png": "[encoded data removed]",
      "text/plain": [
       "<Figure size 432x288 with 1 Axes>"
      ]
     },
     "metadata": {
      "needs_background": "light"
     },
     "output_type": "display_data"
    }
   ],
   "source": [
    "plt.plot(angle_value,np.array(e_el_ve), label=\"-E_ve\")\n",
    "plt.legend()"
   ]
  },
  {
   "cell_type": "code",
   "execution_count": 113,
   "metadata": {},
   "outputs": [],
   "source": [
    "kinetic=np.array([1.76008348,5.20041231,10.67543727,21.55675885,35.75367752])\n",
    "electrostatic = ([-0.91247967, -5.03547497, -11.40653112, -22.03269063,-33.50383403])\n",
    "local=([-0.34515258,-2.45341035,-6.95979587,-18.15119360,-35.75782162])\n",
    "non_local=np.array([0.15374147,0.60530196,1.16734801,2.00134637,2.89383194])\n",
    "exc = np.array([-3.44961232,-5.11803686,-7.22695228,-10.65023344,-14.11561362])\n",
    "tot = np.array([-2.79341962,-6.80120792,-13.75049400,-27.27601244,-44.72975981])"
   ]
  },
  {
   "cell_type": "code",
   "execution_count": 150,
   "metadata": {},
   "outputs": [
    {
     "data": {
      "text/plain": [
       "<matplotlib.legend.Legend at 0x7f5b5ab55f40>"
      ]
     },
     "execution_count": 150,
     "metadata": {},
     "output_type": "execute_result"
    },
    {
     "data": {
      "image/png": "[encoded data removed]",
      "text/plain": [
       "<Figure size 432x288 with 1 Axes>"
      ]
     },
     "metadata": {
      "needs_background": "light"
     },
     "output_type": "display_data"
    }
   ],
   "source": [
    "lam = np.array([6,13,19,26,32])/32\n",
    "\n",
    "plt.plot(lam, tot, label=\"etot\")\n",
    "plt.plot(lam, kinetic, label=\"kinetic\")\n",
    "plt.plot(lam, electrostatic, label=\"electrostatic\")\n",
    "plt.plot(lam, local, label=\"local\")\n",
    "plt.plot(lam, non_local, label=\"non local\")\n",
    "plt.plot(lam, exc, label=\"exc\")\n",
    "#plt.plot(lam, tot-186.82647289, label=\"etot\")\n",
    "\n",
    "plt.legend()"
   ]
  },
  {
   "cell_type": "code",
   "execution_count": null,
   "metadata": {},
   "outputs": [],
   "source": [
    "def ewald(lval):\n",
    "    a = 20\n",
    "    s = pymatgen.core.structure.Structure(\n",
    "        [[a, 0, 0], [0, a, 0], [0, 0, a]],\n",
    "        species=\"C O\".split(),\n",
    "        coords=[[10, 0, 0], [11.12, 0, 0]],\n",
    "        charge=0,\n",
    "        coords_are_cartesian=True,\n",
    "        site_properties={\"charge\": [7 - lval, 7 + lval]},\n",
    "    )\n",
    "    e = pymatgen.analysis.ewald.EwaldSummation(s)\n",
    "    return e.total_energy  # eV"
   ]
  },
  {
   "cell_type": "code",
   "execution_count": 166,
   "metadata": {},
   "outputs": [
    {
     "data": {
      "text/plain": [
       "[<matplotlib.lines.Line2D at 0x7f5b5a957bb0>]"
      ]
     },
     "execution_count": 166,
     "metadata": {},
     "output_type": "execute_result"
    },
    {
     "data": {
      "image/png": "[encoded data removed]",
      "text/plain": [
       "<Figure size 432x288 with 1 Axes>"
      ]
     },
     "metadata": {
      "needs_background": "light"
     },
     "output_type": "display_data"
    }
   ],
   "source": [
    "plt.plot(data[4][\"lam_vals\"][1:], np.array(cum_int)+186.82647289*data[4][\"lam_vals\"][1:], \"-o\")"
   ]
  },
  {
   "cell_type": "code",
   "execution_count": 169,
   "metadata": {},
   "outputs": [
    {
     "data": {
      "text/plain": [
       "-186.82647288555395"
      ]
     },
     "execution_count": 169,
     "metadata": {},
     "output_type": "execute_result"
    }
   ],
   "source": [
    "(data[4][\"e_el\"]-data[4][\"e_tot\"]).sum()"
   ]
  },
  {
   "cell_type": "code",
   "execution_count": 147,
   "metadata": {},
   "outputs": [
    {
     "data": {
      "text/plain": [
       "[<matplotlib.lines.Line2D at 0x7f5b5c8b6880>]"
      ]
     },
     "execution_count": 147,
     "metadata": {},
     "output_type": "execute_result"
    },
    {
     "data": {
      "image/png": "[encoded data removed]",
      "text/plain": [
       "<Figure size 432x288 with 1 Axes>"
      ]
     },
     "metadata": {
      "needs_background": "light"
     },
     "output_type": "display_data"
    }
   ],
   "source": [
    "\n",
    "plt.plot(data[4][\"lam_vals\"], data[4][\"alchpots\"].sum(axis=1), \"-o\")\n",
    "\n",
    "plt.plot(data[4][\"lam_vals\"], (data[4][\"alchpots\"]*data[0][\"nuclei\"][:,0]).sum(axis=1))"
   ]
  },
  {
   "cell_type": "code",
   "execution_count": 158,
   "metadata": {},
   "outputs": [
    {
     "name": "stdout",
     "output_type": "stream",
     "text": [
      "2\n",
      "3\n",
      "4\n",
      "5\n"
     ]
    }
   ],
   "source": [
    "cum_int = []\n",
    "for i in range(2,6):\n",
    "    print(i)\n",
    "    cum_int.append(np.trapz((data[4][\"alchpots\"]*data[0][\"nuclei\"][:,0]).sum(axis=1)[:i], data[4][\"lam_vals\"][:i]))"
   ]
  },
  {
   "cell_type": "code",
   "execution_count": 170,
   "metadata": {},
   "outputs": [
    {
     "name": "stdout",
     "output_type": "stream",
     "text": [
      "2\n",
      "-0.30609282046875\n",
      "3\n",
      "-1.18858090359375\n",
      "4\n",
      "-3.935095376875\n",
      "5\n",
      "-8.989065553749999\n"
     ]
    }
   ],
   "source": [
    "cum_int = []\n",
    "for i in range(2,6):\n",
    "    print(i)\n",
    "    print(np.trapz(local[:i], lam[:i]))"
   ]
  },
  {
   "cell_type": "code",
   "execution_count": 160,
   "metadata": {},
   "outputs": [
    {
     "data": {
      "text/plain": [
       "array([0.40625, 0.59375, 0.8125 , 1.     ])"
      ]
     },
     "execution_count": 160,
     "metadata": {},
     "output_type": "execute_result"
    }
   ],
   "source": []
  },
  {
   "cell_type": "code",
   "execution_count": 159,
   "metadata": {},
   "outputs": [
    {
     "data": {
      "text/plain": [
       "[-60.43380835326665,\n",
       " -105.3430181938891,\n",
       " -173.92702701219326,\n",
       " -247.45344665046065]"
      ]
     },
     "execution_count": 159,
     "metadata": {},
     "output_type": "execute_result"
    }
   ],
   "source": [
    "cum_int"
   ]
  },
  {
   "cell_type": "markdown",
   "metadata": {},
   "source": [
    "### Angles - methane HCH"
   ]
  },
  {
   "cell_type": "code",
   "execution_count": null,
   "metadata": {},
   "outputs": [],
   "source": [
    "paths_glob = glob.glob('/home/misa/projects/atomic-energies/data/ueg_reference/amons/geometry/angles/methane_HCH/ang*/results2.dict')\n",
    "angle = []\n",
    "for p in paths_glob:\n",
    "    angle.append(float(p.split('/')[-2].split('_')[-1]))\n",
    "paths = []\n",
    "for p,a in zip(paths_glob,angle):\n",
    "    paths.append((a,p))\n",
    "paths.sort()\n",
    "angle.sort()\n",
    "data = []\n",
    "for p in paths:\n",
    "    data.append(uqm.load_obj(p[1]))\n",
    "\n",
    "e_npbc = []\n",
    "for d in data:\n",
    "    e_npbc.append(d['e_nbpc'])\n",
    "    \n",
    "e_scaled = []\n",
    "for d in data:\n",
    "    e_scaled.append(d['e_scaled'])\n",
    "e_scaled = np.array(e_scaled)"
   ]
  },
  {
   "cell_type": "code",
   "execution_count": null,
   "metadata": {},
   "outputs": [],
   "source": [
    "for d in data:\n",
    "    Z = d['nuclei'][:,0]\n",
    "    pos = d['nuclei'][:,1:]\n",
    "    molecule = ase.Atoms(Z, pos)\n",
    "    #print(molecule.get_angle(1,4,0))\n",
    "    print(molecule.get_angle(1,4,2))\n",
    "    #print(molecule.get_angle(1,4,3))"
   ]
  },
  {
   "cell_type": "code",
   "execution_count": null,
   "metadata": {},
   "outputs": [],
   "source": [
    "plt.rcParams['figure.figsize'] = [8,8]\n",
    "plt.rcParams['font.size'] = 15\n",
    "\n",
    "fig, ax = plt.subplots(4)\n",
    "ax[0].plot(angle,e_npbc, '-o', label='npbc')\n",
    "ax[0].set_ylabel('E (Ha)')\n",
    "\n",
    "ax[1].plot(angle, e_scaled[:,0], '-o')\n",
    "ax[1].plot(angle, e_scaled[:,1], '-o')\n",
    "#ax[1].plot(angle, (e_scaled[:,0]+e_scaled[:,1])/2, '--o')\n",
    "\n",
    "#ax[1].plot(angle, e_scaled[:,2], '-o')\n",
    "#ax[1].plot(angle, e_scaled[:,3], '-o')\n",
    "ax[1].set_ylabel('E_I scaled (Ha)')\n",
    "angle2 = np.linspace(2,-2,5)\n",
    "ax[2].plot(angle2, e_scaled[:,2], '-o')\n",
    "ax[2].plot(angle2, e_scaled[:,3], '-o')\n",
    "ax[2].plot(angle2, (e_scaled[:,2]+e_scaled[:,3])/2, '--o')\n",
    "\n",
    "ax[3].plot(angle, e_scaled[:,4], '-o')\n",
    "ax[3].set_ylabel('E_I scaled (Ha)')\n",
    "ax[3].set_xlabel('dev eq (°)')\n",
    "\n",
    "\n",
    "fig.tight_layout()"
   ]
  },
  {
   "cell_type": "markdown",
   "metadata": {},
   "source": [
    "### Angles - ethene HCH"
   ]
  },
  {
   "cell_type": "code",
   "execution_count": null,
   "metadata": {},
   "outputs": [],
   "source": [
    "paths_glob = glob.glob('/home/misa/projects/atomic-energies/data/ueg_reference/amons/geometry/angles/ethene_HCH/ang*/results2.dict')\n",
    "angle = []\n",
    "for p in paths_glob:\n",
    "    angle.append(float(p.split('/')[-2].split('_')[-1]))\n",
    "paths = []\n",
    "for p,a in zip(paths_glob,angle):\n",
    "    paths.append((a,p))\n",
    "paths.sort()\n",
    "angle.sort()\n",
    "data = []\n",
    "for p in paths:\n",
    "    data.append(uqm.load_obj(p[1]))\n",
    "\n",
    "e_npbc = []\n",
    "for d in data:\n",
    "    e_npbc.append(d['e_nbpc'])\n",
    "    \n",
    "e_scaled = []\n",
    "for d in data:\n",
    "    e_scaled.append(d['e_scaled'])\n",
    "e_scaled = np.array(e_scaled)"
   ]
  },
  {
   "cell_type": "code",
   "execution_count": null,
   "metadata": {},
   "outputs": [],
   "source": [
    "for d in data:\n",
    "    Z = d['nuclei'][:,0]\n",
    "    pos = d['nuclei'][:,1:]\n",
    "    molecule = ase.Atoms(Z, pos)\n",
    "    print(molecule.get_angle(3,0,5))\n",
    "    #print(molecule.get_angle(1,4,2))\n",
    "    #print(molecule.get_angle(1,4,3))"
   ]
  },
  {
   "cell_type": "code",
   "execution_count": null,
   "metadata": {},
   "outputs": [],
   "source": [
    "plt.rcParams['figure.figsize'] = [8,8]\n",
    "plt.rcParams['font.size'] = 15\n",
    "\n",
    "fig, ax = plt.subplots(3)\n",
    "ax[0].plot(angle,e_npbc, '-o', label='npbc')\n",
    "ax[0].set_ylabel('E (Ha)')\n",
    "\n",
    "ax[1].plot(angle, e_scaled[:,2], '-o', label='2')\n",
    "ax[1].plot(angle, e_scaled[:,3], '-o', label='3')\n",
    "ax[1].plot(angle, e_scaled[:,4], '-o', label='4')\n",
    "ax[1].plot(angle, e_scaled[:,5], '-o', label='5')\n",
    "ax[1].set_ylabel('E_I scaled (Ha)')\n",
    "ax[1].legend()\n",
    "\n",
    "ax[2].plot(angle, e_scaled[:,0], '-o')\n",
    "ax[2].plot(angle, e_scaled[:,1], '-o')\n",
    "ax[2].set_ylabel('E_I scaled (Ha)')\n",
    "ax[2].set_xlabel('dev eq (°)')\n",
    "\n",
    "\n",
    "fig.tight_layout()"
   ]
  },
  {
   "cell_type": "markdown",
   "metadata": {},
   "source": [
    "### Angles - water"
   ]
  },
  {
   "cell_type": "code",
   "execution_count": null,
   "metadata": {},
   "outputs": [],
   "source": [
    "paths_glob = glob.glob('/home/misa/projects/atomic-energies/data/ueg_reference/amons/geometry/angles/water/ang*/results2.dict')\n",
    "angle = []\n",
    "for p in paths_glob:\n",
    "    angle.append(float(p.split('/')[-2].split('_')[-1]))\n",
    "paths = []\n",
    "for p,a in zip(paths_glob,angle):\n",
    "    paths.append((a,p))\n",
    "paths.sort()\n",
    "angle.sort()\n",
    "data = []\n",
    "for p in paths:\n",
    "    data.append(uqm.load_obj(p[1]))\n",
    "\n",
    "e_npbc = []\n",
    "for d in data:\n",
    "    e_npbc.append(d['e_nbpc'])\n",
    "    \n",
    "e_scaled = []\n",
    "for d in data:\n",
    "    e_scaled.append(d['e_scaled'])\n",
    "e_scaled = np.array(e_scaled)"
   ]
  },
  {
   "cell_type": "code",
   "execution_count": null,
   "metadata": {},
   "outputs": [],
   "source": [
    "plt.rcParams['figure.figsize'] = [8,8]\n",
    "plt.rcParams['font.size'] = 15\n",
    "fig, ax = plt.subplots(3)\n",
    "ax[0].plot(angle, e_npbc, '-o')\n",
    "ax[0].set_ylabel('E (Ha)')\n",
    "#plt.plot(angle,e_npbc, '-o', label='npbc')\n",
    "ax[1].plot(angle, (e_scaled[:,0]+e_scaled[:,1])/2, '-o')\n",
    "ax[1].set_ylabel('E_I scaled (Ha)')\n",
    "ax[2].plot(angle, e_scaled[:,2], '-o')\n",
    "ax[2].set_ylabel('E_I scaled (Ha)')\n",
    "ax[2].set_xlabel('dev eq (°)')\n",
    "fig.tight_layout()"
   ]
  },
  {
   "cell_type": "markdown",
   "metadata": {},
   "source": [
    "### Dihedrals - ethane"
   ]
  },
  {
   "cell_type": "code",
   "execution_count": null,
   "metadata": {},
   "outputs": [],
   "source": [
    "paths_glob = glob.glob('/home/misa/projects/atomic-energies/data/ueg_reference/amons/geometry/dihedrals/ethane/dihe*/results2.dict')\n",
    "angle = []\n",
    "for p in paths_glob:\n",
    "    angle.append(float(p.split('/')[-2].split('_')[-1]))\n",
    "paths = []\n",
    "for p,a in zip(paths_glob,angle):\n",
    "    paths.append((a,p))\n",
    "paths.sort()\n",
    "angle.sort()\n",
    "data = []\n",
    "for p in paths:\n",
    "    data.append(uqm.load_obj(p[1]))\n",
    "\n",
    "e_npbc = []\n",
    "for d in data:\n",
    "    e_npbc.append(d['e_nbpc'])\n",
    "    \n",
    "e_scaled = []\n",
    "for d in data:\n",
    "    e_scaled.append(d['e_scaled'])\n",
    "e_scaled = np.array(e_scaled)"
   ]
  },
  {
   "cell_type": "code",
   "execution_count": null,
   "metadata": {},
   "outputs": [],
   "source": [
    "plt.rcParams['figure.figsize'] = [8,8]\n",
    "plt.rcParams['font.size'] = 15\n",
    "fig, ax = plt.subplots(4)\n",
    "ax[0].plot(angle, e_npbc, '-o')\n",
    "ax[0].set_ylabel('E (Ha)')\n",
    "\n",
    "#plt.plot(angle,e_npbc, '-o', label='npbc')\n",
    "ax[1].plot(angle, e_scaled[:,0], '-o')\n",
    "ax[1].plot(angle, e_scaled[:,1], '-o')\n",
    "\n",
    "ax[1].set_ylabel('E_I scaled (Ha)')\n",
    "\n",
    "ax[2].plot(angle, e_scaled[:,2], '-o')\n",
    "ax[2].plot(angle, e_scaled[:,7], '-o')\n",
    "ax[2].set_ylabel('E_I scaled (Ha)')\n",
    "\n",
    "ax[3].plot(angle, e_scaled[:,3], '-o')\n",
    "ax[3].plot(angle, e_scaled[:,4], '-o')\n",
    "ax[3].plot(angle, e_scaled[:,5], '-o')\n",
    "ax[3].plot(angle, e_scaled[:,6], '-o')\n",
    "ax[3].set_ylabel('E_I scaled (Ha)')\n",
    "ax[3].set_xlabel('dev eq (°)')\n",
    "\n",
    "fig.tight_layout()"
   ]
  }
 ],
 "metadata": {
  "kernelspec": {
   "display_name": "Python 3",
   "language": "python",
   "name": "python3"
  },
  "language_info": {
   "codemirror_mode": {
    "name": "ipython",
    "version": 3
   },
   "file_extension": ".py",
   "mimetype": "text/x-python",
   "name": "python",
   "nbconvert_exporter": "python",
   "pygments_lexer": "ipython3",
   "version": "3.9.5"
  }
 },
 "nbformat": 4,
 "nbformat_minor": 4
}
