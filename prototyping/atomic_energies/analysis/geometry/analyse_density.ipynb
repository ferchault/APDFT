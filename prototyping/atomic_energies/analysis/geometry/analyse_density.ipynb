{
 "cells": [
  {
   "cell_type": "code",
   "execution_count": 1,
   "metadata": {},
   "outputs": [],
   "source": [
    "import sys\n",
    "sys.path.insert(0, '/home/misa/git_repositories/APDFT/prototyping/atomic_energies/')\n",
    "\n",
    "from parse_density_files import CUBE\n",
    "import alchemy_tools2 as at\n",
    "\n",
    "import numpy as np\n",
    "from matplotlib import pyplot as plt\n",
    "\n",
    "import utils_qm as uqm\n",
    "\n",
    "from ase.units import Bohr"
   ]
  },
  {
   "cell_type": "code",
   "execution_count": 24,
   "metadata": {},
   "outputs": [],
   "source": [
    "def get_alchpot(grid, h_matrix, nuc_pos, rho):\n",
    "    distances = at.distance_MIC2(nuc_pos, grid, h_matrix)\n",
    "    return(-rho/distances)\n",
    "\n",
    "def get_plane_idx(coord, grid3d):\n",
    "    plane_idx = np.where(np.isclose(grid3d, coord))[0][0]\n",
    "    return(plane_idx)\n",
    "\n",
    "def get_plane(atoms, config, dens):\n",
    "\n",
    "    atom_index = config['atom_index'] # 2, 4 should be ok as well for bond strech\n",
    "    coord_index = config['coord_index'] # z-coordinate\n",
    "    coord = atoms[atom_index, coord_index] # z-position of molecule\n",
    "    grid = np.load(config['grid'])\n",
    "    plane_idx = get_plane_idx(coord, grid[0]) # xy-plane in which molecule\n",
    "    dens_plane = dens[:,:,plane_idx]\n",
    "    atom_coordinates = atoms[config['atoms']][:,1:3]\n",
    "    \n",
    "    return(atom_coordinates, dens_plane)\n",
    "    \n",
    "def read_config(config_file):\n",
    "    config = dict()\n",
    "    with open(config_file, 'r') as f:\n",
    "        for line in f:\n",
    "            parameter, value = line.split(':')\n",
    "            if parameter == 'grid':\n",
    "                config[parameter] = value.strip('\\n').strip()\n",
    "            elif parameter == 'hmatrix':\n",
    "                config[parameter] = value.strip('\\n').strip()\n",
    "            elif parameter == 'atom_index':\n",
    "                config[parameter] = int(value.strip('\\n'))\n",
    "            elif parameter == 'coord_index':\n",
    "                config[parameter] = int(value.strip('\\n'))\n",
    "            elif parameter == 'atoms':\n",
    "                indices = value.strip('\\n')\n",
    "                indices = [int(i) for i in indices.split(',')]\n",
    "                config[parameter] = indices\n",
    "    return(config)\n",
    "\n",
    "def wrapper_plots(config, results):\n",
    "    # rho at lambda = 1\n",
    "    atom_coordinates, dens_plane = get_plane( results['nuclei'], config, results['densities'][-1])\n",
    "    dens_plane[np.where(dens_plane<0)] = 0.0\n",
    "    \n",
    "    # rho tilde\n",
    "    rho_tilde = np.trapz(results['densities'], results['lam_vals'], axis=0)\n",
    "    atom_coordinates, rho_tilde_plane = get_plane(results['nuclei'], config, rho_tilde)\n",
    "\n",
    "    # alchemical potential\n",
    "    grid = np.load(config['grid'])\n",
    "    pos = results['nuclei'][:,1:]\n",
    "    hmatrix = np.load(config['hmatrix'])\n",
    "\n",
    "    alchpot_planes = []\n",
    "    for i in config['atoms']: # the atoms for which the alchpot is calculated (heavy atoms in the plane)\n",
    "        alchpot = get_alchpot(grid, hmatrix, results['nuclei'][i,1:], rho_tilde)\n",
    "        atom_coordinates, alchpot_plane = get_plane(results['nuclei'], config, alchpot)\n",
    "        alchpot_planes.append([results['nuclei'][i,1:3], atom_coordinates, alchpot_plane])\n",
    "        \n",
    "    return(alchpot_planes, atom_coordinates, dens_plane, rho_tilde_plane)"
   ]
  },
  {
   "cell_type": "code",
   "execution_count": 25,
   "metadata": {},
   "outputs": [],
   "source": [
    "geom = 'dihedral'\n",
    "path_config = '/home/misa/projects/atomic-energies/data/ueg_reference/amons/geometry/bond_stretch/butanol/config.txt'\n",
    "config = read_config(path_config)\n",
    "\n",
    "# bond stretch load stuff\n",
    "if geom == 'bond':\n",
    "    path_results_l = '/home/misa/projects/atomic-energies/data/ueg_reference/amons/geometry/bond_stretch/butanol/dist_-0.5/results.dict'\n",
    "    results_l = uqm.load_obj(path_results_l)\n",
    "    alchpot_planes_l, atom_coordinates_l, dens_plane_l, rho_tilde_plane_l = wrapper_plots(config, results_l)\n",
    "\n",
    "    path_results_h = '/home/misa/projects/atomic-energies/data/ueg_reference/amons/geometry/bond_stretch/butanol/dist_0.5/results.dict'\n",
    "    results_h = uqm.load_obj(path_results_h)\n",
    "    alchpot_planes_h, atom_coordinates_h, dens_plane_h, rho_tilde_plane_h = wrapper_plots(config, results_h)\n",
    "\n",
    "# angles load stuff\n",
    "if geom == 'angle':\n",
    "    path_results_l = '/home/misa/projects/atomic-energies/data/ueg_reference/amons/geometry/angles/butanol_plane/ang_-50.0/results.dict'\n",
    "    results_l = uqm.load_obj(path_results_l)\n",
    "    alchpot_planes_l, atom_coordinates_l, dens_plane_l, rho_tilde_plane_l = wrapper_plots(config, results_l)\n",
    "\n",
    "    path_results_h = '/home/misa/projects/atomic-energies/data/ueg_reference/amons/geometry/angles/butanol_plane/ang_50.0/results.dict'\n",
    "    results_h = uqm.load_obj(path_results_h)\n",
    "    alchpot_planes_h, atom_coordinates_h, dens_plane_h, rho_tilde_plane_h = wrapper_plots(config, results_h)\n",
    "\n",
    "# dihedrals load stuff\n",
    "if geom == 'dihedral':\n",
    "    path_results_l = '/home/misa/projects/atomic-energies/data/ueg_reference/amons/geometry/dihedrals/butanol/dihe_0/results.dict'\n",
    "    results_l = uqm.load_obj(path_results_l)\n",
    "    alchpot_planes_l, atom_coordinates_l, dens_plane_l, rho_tilde_plane_l = wrapper_plots(config, results_l)\n",
    "\n",
    "    path_results_h = '/home/misa/projects/atomic-energies/data/ueg_reference/amons/geometry/dihedrals/butanol/dihe_180/results.dict'\n",
    "    results_h = uqm.load_obj(path_results_h)\n",
    "    alchpot_planes_h, atom_coordinates_h, dens_plane_h, rho_tilde_plane_h = wrapper_plots(config, results_h)"
   ]
  },
  {
   "cell_type": "markdown",
   "metadata": {},
   "source": [
    "### $\\rho(\\lambda = 1)$"
   ]
  },
  {
   "cell_type": "code",
   "execution_count": 5,
   "metadata": {},
   "outputs": [
    {
     "data": {
      "image/png": "[encoded data removed]",
      "text/plain": [
       "<Figure size 432x288 with 1 Axes>"
      ]
     },
     "metadata": {
      "needs_background": "light"
     },
     "output_type": "display_data"
    }
   ],
   "source": [
    "# plot rho at lambda = 1\n",
    "plot='l'\n",
    "plt.rcParams['font.size'] = 20\n",
    "\n",
    "x = np.linspace(0, 18.8, 168)\n",
    "y = np.linspace(0, 18.8, 168)\n",
    "nlevels = 15\n",
    "\n",
    "max_dens = np.amax(np.array([np.amax(dens_plane_l), np.amax(dens_plane_h)]))\n",
    "countor_levels = np.linspace(0, np.amax(max_dens), nlevels)\n",
    "\n",
    "# d = -0.375\n",
    "if plot == 'l':\n",
    "    plt.contourf(x,y, dens_plane_l, countor_levels, cmap=\"Reds\")\n",
    "    plt.scatter(atom_coordinates_l[:,1]*Bohr, atom_coordinates_l[:,0]*Bohr, color='black')\n",
    "\n",
    "# d = 0.0\n",
    "if plot == 'h':\n",
    "    plt.contourf(x,y, dens_plane_h, countor_levels, cmap=\"Reds\")\n",
    "    plt.scatter(atom_coordinates_h[:,1]*Bohr, atom_coordinates_h[:,0]*Bohr, color='black')\n",
    "\n",
    "plt.xlabel(r'y $(\\AA)$')\n",
    "plt.ylabel(r'x $(\\AA)$')\n",
    "# plt.contour(x,y, rho_tilde_plane)\n",
    "# plt.scatter(atom_coordinates[:,1]*Bohr, atom_coordinates[:,0]*Bohr, color='black')\n",
    "\n",
    "if geom == 'bond':\n",
    "    plt.xlim([6.5, 13.5])\n",
    "    plt.ylim([8.5, 12.5])\n",
    "    \n",
    "if geom == 'angle':\n",
    "    plt.xlim([6.5, 12.5])\n",
    "    plt.ylim([7.7, 12.0])\n",
    "\n",
    "if geom == 'dihedral':\n",
    "    plt.xlim([5.5, 12])\n",
    "    plt.ylim([8, 13])"
   ]
  },
  {
   "cell_type": "markdown",
   "metadata": {},
   "source": [
    "### $\\tilde{\\rho}$"
   ]
  },
  {
   "cell_type": "code",
   "execution_count": 11,
   "metadata": {},
   "outputs": [
    {
     "data": {
      "image/png": "[encoded data removed]",
      "text/plain": [
       "<Figure size 432x288 with 1 Axes>"
      ]
     },
     "metadata": {
      "needs_background": "light"
     },
     "output_type": "display_data"
    }
   ],
   "source": [
    "# plot rho tilde\n",
    "plt.rcParams['font.size'] = 20\n",
    "plot='h'\n",
    "x = np.linspace(0, 18.8, 168)\n",
    "y = np.linspace(0, 18.8, 168)\n",
    "nlevels = 15\n",
    "max_dens = np.amax(np.array([np.amax(rho_tilde_plane_l), np.amax(rho_tilde_plane_h)]))\n",
    "countor_levels = np.linspace(0, np.amax(max_dens), nlevels)\n",
    "\n",
    "if plot == 'l':\n",
    "    plt.contourf(x,y, rho_tilde_plane_l, countor_levels, cmap=\"Reds\")\n",
    "    plt.scatter(atom_coordinates_l[:,1]*Bohr, atom_coordinates_l[:,0]*Bohr, color='black')\n",
    "\n",
    "if plot == 'h':\n",
    "    plt.contourf(x,y, rho_tilde_plane_h, countor_levels, cmap=\"Reds\")\n",
    "    plt.scatter(atom_coordinates_h[:,1]*Bohr, atom_coordinates_h[:,0]*Bohr, color='black')\n",
    "\n",
    "plt.xlabel(r'y $(\\AA)$')\n",
    "plt.ylabel(r'x $(\\AA)$')\n",
    "\n",
    "if geom == 'bond':\n",
    "    plt.xlim([6.5, 13.5])\n",
    "    plt.ylim([8.5, 12.5])\n",
    "    #plt.savefig('/home/misa/projects/atomic-energies/figures/butanol_geometry/tilde_rho_bond_-0.5.svg', bbox_inches='tight')\n",
    "    \n",
    "if geom == 'angle':\n",
    "    plt.xlim([6.5, 12.5])\n",
    "    plt.ylim([7.5, 12.5])\n",
    "    plt.savefig('/home/misa/projects/atomic-energies/figures/butanol_geometry/tilde_rho_angle_-50.svg', bbox_inches='tight')\n",
    "    \n",
    "if geom == 'dihedral':\n",
    "    plt.xlim([5.5, 12])\n",
    "    plt.ylim([7.5, 13])\n",
    "    plt.savefig('/home/misa/projects/atomic-energies/figures/butanol_geometry/tilde_rho_dihedral_180.svg', bbox_inches='tight')\n"
   ]
  },
  {
   "cell_type": "markdown",
   "metadata": {},
   "source": [
    "### $\\tilde{\\mu}_I$"
   ]
  },
  {
   "cell_type": "code",
   "execution_count": 33,
   "metadata": {},
   "outputs": [
    {
     "data": {
      "image/png": "[encoded data removed]",
      "text/plain": [
       "<Figure size 432x288 with 1 Axes>"
      ]
     },
     "metadata": {
      "needs_background": "light"
     },
     "output_type": "display_data"
    }
   ],
   "source": [
    "# plot of alchemical potentials\n",
    "plt.rcParams['font.size'] = 20\n",
    "i=0\n",
    "plot='h'\n",
    "x = np.linspace(0, 18.8, 168)\n",
    "y = np.linspace(0, 18.8, 168)\n",
    "\n",
    "nlevels = 15\n",
    "min_val = np.amin(np.array([np.amin(alchpot_planes_h[2][2]), np.amin(alchpot_planes_l[2][2]), np.amin(alchpot_planes_h[0][2]), np.amin(alchpot_planes_l[0][2])]))\n",
    "countor_levels = np.linspace(min_val, 0, nlevels)\n",
    "\n",
    "if plot == 'l':\n",
    "    plt.contourf(x,y, alchpot_planes_l[i][2], countor_levels, cmap=\"Blues_r\")\n",
    "    #plt.contour(x,y, alchpot_planes_l[i][2], countor_levels, cmap=\"gray_r\", linewidths=0.5)\n",
    "    #plt.contour(x,y, alchpot_planes_l[i][2], countor_levels, colors=\"grey\", linewidths=0.1)\n",
    "    \n",
    "    plt.scatter(atom_coordinates_l[:,1]*Bohr, atom_coordinates_l[:,0]*Bohr, s=12, color='black')\n",
    "    plt.scatter(atom_coordinates_l[i,1]*Bohr, atom_coordinates_l[i,0]*Bohr, color='black')\n",
    "\n",
    "if plot == 'h':\n",
    "    plt.contourf(x,y, alchpot_planes_h[i][2], countor_levels, cmap=\"Blues_r\")\n",
    "    #plt.contour(x,y, alchpot_planes_h[i][2], countor_levels, cmap=\"gray_r\", linewidths=0.5)\n",
    "    \n",
    "    plt.scatter(atom_coordinates_h[:,1]*Bohr, atom_coordinates_h[:,0]*Bohr, s=12, color='black')\n",
    "    plt.scatter(atom_coordinates_h[i,1]*Bohr, atom_coordinates_h[i,0]*Bohr, color='black')\n",
    "    \n",
    "\n",
    "\n",
    "plt.xlim([5.5, 12])\n",
    "plt.ylim([8, 13])\n",
    "    \n",
    "# plt.xlim([6.0, 13])\n",
    "# plt.ylim([8.0, 12.0])\n",
    "plt.xlabel(r'y $(\\AA)$')\n",
    "plt.ylabel(r'x $(\\AA)$')\n",
    "\n",
    "if geom == 'bond':\n",
    "    plt.xlim([6.5, 13.5])\n",
    "    plt.ylim([8.0, 12.5])\n",
    "    #plt.savefig('/home/misa/projects/atomic-energies/figures/butanol_geometry/alchpot_0_bond_-0.5.svg', bbox_inches='tight')\n",
    "    \n",
    "if geom == 'angle':\n",
    "    plt.xlim([6.5, 12.5])\n",
    "    plt.ylim([7.5, 12.5])\n",
    "    #plt.savefig(f'/home/misa/projects/atomic-energies/figures/butanol_geometry/alchpot_{i}_angle_-50.svg', bbox_inches='tight')\n",
    "    \n",
    "if geom == 'dihedral':\n",
    "    plt.xlim([5.5, 12])\n",
    "    plt.ylim([7.5, 13])\n",
    "    plt.savefig(f'/home/misa/projects/atomic-energies/figures/butanol_geometry/alchpot_{i}_dihedral_180.png', bbox_inches='tight')\n",
    "\n"
   ]
  },
  {
   "cell_type": "code",
   "execution_count": null,
   "metadata": {},
   "outputs": [],
   "source": []
  },
  {
   "cell_type": "code",
   "execution_count": null,
   "metadata": {},
   "outputs": [],
   "source": [
    "from ase import Atoms\n",
    "from ase.units import Bohr\n",
    "\n",
    "from scipy.spatial.transform import Rotation"
   ]
  },
  {
   "cell_type": "code",
   "execution_count": null,
   "metadata": {},
   "outputs": [],
   "source": [
    "# make plane if not"
   ]
  },
  {
   "cell_type": "code",
   "execution_count": null,
   "metadata": {},
   "outputs": [],
   "source": [
    "def get_plane(molecule, p1, p2, s):\n",
    "    \"\"\"\n",
    "    rotates molecule such that the plane formed by the atoms at positions p1, p2, s is orthogonal to n_plane\n",
    "    \"\"\"\n",
    "    v1 = molecule.get_positions()[s] - molecule.get_positions()[p1]\n",
    "    v2 = molecule.get_positions()[s] - molecule.get_positions()[p2]\n",
    "    n = np.cross(v1, v2)/np.linalg.norm(np.cross(v1, v2))\n",
    "    return(n)"
   ]
  },
  {
   "cell_type": "code",
   "execution_count": null,
   "metadata": {},
   "outputs": [],
   "source": [
    "dens_file = CUBE('/home/misa/projects/atomic-energies/data/ueg_reference/amons/geometry/angles/butanol/ang_0.0/cube-files/ve_32.cube')\n",
    "dens_file2 = CUBE('/home/misa/projects/atomic-energies/data/ueg_reference/amons/geometry/angles/butanol/ang_50.0/cube-files/ve_32.cube')"
   ]
  },
  {
   "cell_type": "code",
   "execution_count": null,
   "metadata": {},
   "outputs": [],
   "source": [
    "mol0 = Atoms(numbers=dens_file.atoms[:,0], positions=dens_file.atoms[:,1:4])\n",
    "mol50 = Atoms(numbers=dens_file2.atoms[:,0], positions=dens_file2.atoms[:,1:4])\n",
    "\n",
    "n = get_plane(mol50, 1,4,2)\n",
    "z = np.array([0,0,1])"
   ]
  },
  {
   "cell_type": "code",
   "execution_count": null,
   "metadata": {},
   "outputs": [],
   "source": [
    "m = Rotation.align_vectors(n.reshape(1,3),z.reshape(1,3))"
   ]
  },
  {
   "cell_type": "code",
   "execution_count": null,
   "metadata": {},
   "outputs": [],
   "source": [
    "gridli = []\n",
    "for i in np.linspace(-5, 7.5, 26):\n",
    "    for j in np.linspace(-2.5, 5, 16):\n",
    "        gridli.append([i,j,0.0])"
   ]
  },
  {
   "cell_type": "code",
   "execution_count": null,
   "metadata": {},
   "outputs": [],
   "source": [
    "transformed_grid = []\n",
    "shift = mol50.get_positions()[2]\n",
    "for p in gridli:\n",
    "    transformed_grid.append(m[0].as_matrix()@p+shift)\n",
    "transformed_grid = np.array(transformed_grid)"
   ]
  },
  {
   "cell_type": "code",
   "execution_count": null,
   "metadata": {},
   "outputs": [],
   "source": [
    "xl, xh = np.amin(dens_file.atoms[:5,1]), np.amax(dens_file.atoms[:5,1])\n",
    "yl, yh = np.amin(dens_file.atoms[:5,2]), np.amax(dens_file.atoms[:5,2])\n",
    "zl, zh = np.amin(dens_file.atoms[:5,3]), np.amax(dens_file.atoms[:5,3])"
   ]
  },
  {
   "cell_type": "code",
   "execution_count": null,
   "metadata": {},
   "outputs": [],
   "source": [
    "print(xl, xh)\n",
    "print(yl, yh)\n",
    "print(zl, zh)"
   ]
  },
  {
   "cell_type": "code",
   "execution_count": null,
   "metadata": {},
   "outputs": [],
   "source": [
    "index = []\n",
    "grid= dens_file2.get_grid()\n",
    "for point in transformed_grid:\n",
    "    dist = np.zeros(len(grid[0].flatten()))\n",
    "    for p, g in zip(point, dens_file2.get_grid()):\n",
    "        dist[:] += (p - g.flatten())**2\n",
    "    index.append(np.where(dist==np.amin(dist)))"
   ]
  },
  {
   "cell_type": "code",
   "execution_count": null,
   "metadata": {},
   "outputs": [],
   "source": [
    "index_clean = []\n",
    "for i in index:\n",
    "    index_clean.append(i[0][0])"
   ]
  },
  {
   "cell_type": "code",
   "execution_count": null,
   "metadata": {},
   "outputs": [],
   "source": [
    "index_reshaped = np.arange(len(grid[0].flatten()))\n",
    "index_reshaped = index_reshaped.reshape(168,168,168)"
   ]
  },
  {
   "cell_type": "code",
   "execution_count": null,
   "metadata": {},
   "outputs": [],
   "source": [
    "density_transformed = []\n",
    "for i in range(len(index_clean)):\n",
    "    density_transformed.append(dens_file.data_scaled[np.where(index_clean[i]==index_reshaped)][0])"
   ]
  },
  {
   "cell_type": "code",
   "execution_count": null,
   "metadata": {},
   "outputs": [],
   "source": [
    "density_transformed = np.array(density_transformed).reshape(26,16)"
   ]
  },
  {
   "cell_type": "code",
   "execution_count": null,
   "metadata": {},
   "outputs": [],
   "source": [
    "plt.contour(density_transformed.T)"
   ]
  },
  {
   "cell_type": "code",
   "execution_count": null,
   "metadata": {},
   "outputs": [],
   "source": [
    "density_transformed.T.shape"
   ]
  },
  {
   "cell_type": "code",
   "execution_count": null,
   "metadata": {},
   "outputs": [],
   "source": [
    "density_transformed = []\n",
    "for i in range(len(index_clean)):\n",
    "    density_transformed.append(dens_file2.data_scaled[np.where(index_clean[i]==index_reshaped)][0])\n",
    "density_transformed = np.array(density_transformed).reshape(26,16)"
   ]
  },
  {
   "cell_type": "code",
   "execution_count": null,
   "metadata": {},
   "outputs": [],
   "source": [
    "plt.contour(density_transformed.T)"
   ]
  },
  {
   "cell_type": "code",
   "execution_count": null,
   "metadata": {},
   "outputs": [],
   "source": []
  }
 ],
 "metadata": {
  "kernelspec": {
   "display_name": "Python [conda env:qm-tools] *",
   "language": "python",
   "name": "conda-env-qm-tools-py"
  },
  "language_info": {
   "codemirror_mode": {
    "name": "ipython",
    "version": 3
   },
   "file_extension": ".py",
   "mimetype": "text/x-python",
   "name": "python",
   "nbconvert_exporter": "python",
   "pygments_lexer": "ipython3",
   "version": "3.8.5"
  }
 },
 "nbformat": 4,
 "nbformat_minor": 4
}
