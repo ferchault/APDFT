{
 "cells": [
  {
   "cell_type": "code",
   "execution_count": 34,
   "id": "fb17390f-6b58-4baa-b1ed-22eee726d465",
   "metadata": {},
   "outputs": [],
   "source": [
    "import sys\n",
    "sys.path.insert(0, '/home/sahre/git_repositories/APDFT/prototyping/atomic_energies/')\n",
    "import UFF_decomposition as UFFd\n",
    "import alchemy_tools2 as at\n",
    "import explore_qml_data as eqd\n",
    "\n",
    "import glob\n",
    "import utils_qm as uqm\n",
    "\n",
    "from matplotlib import pyplot as plt\n",
    "import numpy as np\n",
    "\n",
    "from ase.units import Bohr\n",
    "from ase import Atoms\n",
    "import ase.visualize"
   ]
  },
  {
   "cell_type": "markdown",
   "id": "27da357f-36fe-48d2-83d5-a5c27d41d9ba",
   "metadata": {},
   "source": [
    "# Alchemical Energies"
   ]
  },
  {
   "cell_type": "code",
   "execution_count": 35,
   "id": "be725a1a-28b0-4acf-a255-41072bf02770",
   "metadata": {},
   "outputs": [],
   "source": [
    "def get_data(data):\n",
    "    e_npbc = []\n",
    "    for d in data:\n",
    "        e_npbc.append(d['e_nbpc'])\n",
    "    e_npbc = np.array(e_npbc)\n",
    "    \n",
    "    e_scaled = []\n",
    "    for d in data:\n",
    "        e_scaled.append(d['e_scaled'])\n",
    "    e_scaled = np.array(e_scaled)\n",
    "\n",
    "    e_el = []\n",
    "    for d in data:\n",
    "        e_el.append(d['e_el'])\n",
    "    e_el = np.array(e_el)\n",
    "\n",
    "    e_tot = []\n",
    "    for d in data:\n",
    "        e_tot.append(d['e_tot'])\n",
    "    e_tot = np.array(e_tot)\n",
    "\n",
    "    alchpots = []\n",
    "    for d, e in zip(data, e_el):\n",
    "        alchpots.append(e/d['nuclei'][:,0])\n",
    "    alchpots = np.array(alchpots)\n",
    "    \n",
    "    return(alchpots, e_el, e_npbc, e_scaled, e_tot)"
   ]
  },
  {
   "cell_type": "code",
   "execution_count": 42,
   "id": "a6cb57a6-9576-4dd0-bc70-06baa02d44c2",
   "metadata": {},
   "outputs": [],
   "source": [
    "zeff_bool = False\n",
    "geom_type = 'dihedral'\n",
    "box_length = 18.886527828347333\n",
    "\n",
    "if geom_type == 'bond':\n",
    "    paths_glob = glob.glob('/data/sahre/projects/atomic-energies/data/ueg_reference/amons/geometry/bond_stretch/butanol/dist_*/results.dict')\n",
    "\n",
    "elif geom_type == 'angle':    \n",
    "    paths_glob = glob.glob('/data/sahre/projects/atomic-energies/data/ueg_reference/amons/geometry/angles/butanol_plane/ang*/results_full.dict')\n",
    "#     paths_glob = glob.glob('/data/sahre/projects/atomic-energies/data/ueg_reference/amons/geometry/angles/butanol_plane/ang*/results.dict')\n",
    "    \n",
    "elif geom_type == 'dihedral':    \n",
    "    paths_glob = glob.glob('/data/sahre/projects/atomic-energies/data/ueg_reference/amons/geometry/dihedral/butanol/dihe*/results.dict')\n",
    "\n",
    "paths = uqm.sort_paths(paths_glob, -2, -1, '/','_')\n",
    "\n",
    "data = []\n",
    "for p in paths:\n",
    "    data.append(uqm.load_obj(p))\n",
    "    \n",
    "geometries = dict()\n",
    "nuc_repulsion = []\n",
    "rcoord = []\n",
    "zeff = np.array([4., 4, 4, 4, 6., 1., 1., 1., 1., 1., 1., 1., 1., 1., 1.])\n",
    "for d in data:\n",
    "    nuc_charges = d['nuclei'][:,0]\n",
    "    pos = d['nuclei'][:,1:]*Bohr\n",
    "    pos = eqd.shift2center(pos, [0,0,0])\n",
    "    if zeff_bool:\n",
    "        molecule = Atoms(numbers=zeff, positions=pos)\n",
    "    else:\n",
    "        molecule = Atoms(numbers=nuc_charges, positions=pos)\n",
    "    \n",
    "    if geom_type == 'bond':\n",
    "        ang = np.round(molecule.get_distance(2,4), 5)\n",
    "        geometries[f'd_{ang}'] = molecule\n",
    "    elif geom_type == 'angle':\n",
    "        ang = np.round(molecule.get_angle(1, 2,4))\n",
    "        geometries[f'ang_{ang}'] = molecule\n",
    "    elif geom_type == 'dihedral':\n",
    "        ang = np.round(molecule.get_dihedral(4,2,1,0))\n",
    "        geometries[f'dihe_{ang}'] = molecule\n",
    "    rcoord.append(ang)\n",
    "    \n",
    "    nuc_repulsion.append(at.ewald_site(box_length, molecule))\n",
    "    \n",
    "\n",
    "nuc_repulsion = np.array(nuc_repulsion)\n",
    "alchpots, e_el, e_npbc, e_scaled, e_tot = get_data(data)\n"
   ]
  },
  {
   "cell_type": "code",
   "execution_count": 44,
   "id": "995b0034-c9c5-466b-a8f2-6c77173820ed",
   "metadata": {},
   "outputs": [],
   "source": [
    "# for k in geometries.keys():\n",
    "#     ase.io.write(f'/data/sahre/projects/atomic-energies/data/UFF_energies/butanol_dihedral/{k}.xyz', geometries[k])"
   ]
  },
  {
   "cell_type": "code",
   "execution_count": 43,
   "id": "6190fa28-da6d-4184-a629-57eedb6ed6c6",
   "metadata": {},
   "outputs": [
    {
     "data": {
      "text/plain": [
       "{'dihe_0.0': Atoms(symbols='C4OH10', pbc=False),\n",
       " 'dihe_30.0': Atoms(symbols='C4OH10', pbc=False),\n",
       " 'dihe_60.0': Atoms(symbols='C4OH10', pbc=False),\n",
       " 'dihe_90.0': Atoms(symbols='C4OH10', pbc=False),\n",
       " 'dihe_120.0': Atoms(symbols='C4OH10', pbc=False),\n",
       " 'dihe_150.0': Atoms(symbols='C4OH10', pbc=False),\n",
       " 'dihe_180.0': Atoms(symbols='C4OH10', pbc=False)}"
      ]
     },
     "execution_count": 43,
     "metadata": {},
     "output_type": "execute_result"
    }
   ],
   "source": [
    "geometries"
   ]
  },
  {
   "cell_type": "code",
   "execution_count": null,
   "id": "ff42158e-9a35-4505-9591-ca975b8c1f9d",
   "metadata": {},
   "outputs": [],
   "source": [
    "plt.plot(rcoord, (alchpots*zeff).sum(axis=1)+nuc_repulsion.sum(axis=1), '-o')"
   ]
  },
  {
   "cell_type": "code",
   "execution_count": null,
   "id": "d40dacd0-1d2d-4785-9041-f6adfabca78c",
   "metadata": {},
   "outputs": [],
   "source": [
    "np.amin((alchpots*zeff).sum(axis=1)+nuc_repulsion.sum(axis=1))-np.amax((alchpots*zeff).sum(axis=1)+nuc_repulsion.sum(axis=1))"
   ]
  },
  {
   "cell_type": "code",
   "execution_count": null,
   "id": "fd511004-0816-4c61-9399-5937a50871c7",
   "metadata": {
    "tags": []
   },
   "outputs": [],
   "source": [
    "plt.rcParams['font.size'] = 20\n",
    "plt.rcParams['figure.figsize'] = [10,6]\n",
    "fig, ax = plt.subplots(1,2)\n",
    "for i in range(5):\n",
    "    ax[0].plot(rcoord, (alchpots*zeff)[:,i], '-o', label = i)\n",
    "    ax[1].plot(rcoord, nuc_repulsion[:,i], '-o', label = i)\n",
    "#     ax[2].plot(rcoord, (alchpots*zeff)[:,i]+nuc_repulsion[:,i])\n",
    "#     plt.plot(rcoord, (alchpots*zeff)[:,i])\n",
    "\n",
    "ax[0].set_xlabel(r'r(CO) $(\\AA)$')\n",
    "ax[1].set_xlabel(r'r(CO) $(\\AA)$')\n",
    "\n",
    "ax[0].set_ylabel(r'$E_{\\rm{el}}$ (Ha)')\n",
    "ax[1].set_ylabel(r'$E_{\\rm{nuc}}$ (Ha)')\n",
    "\n",
    "fig.tight_layout()\n",
    "ax[1].legend(bbox_to_anchor=(1.05, 1.0))"
   ]
  },
  {
   "cell_type": "code",
   "execution_count": null,
   "id": "100ca112-a3b3-458d-8863-aa96187adfbd",
   "metadata": {
    "tags": []
   },
   "outputs": [],
   "source": [
    "fig, (ax, ax2) = plt.subplots(2, 1, sharex=True)\n",
    "fig.subplots_adjust(hspace=0.05)  # adjust space between axes\n",
    "\n",
    "for i in range(4):\n",
    "    ax.plot(rcoord, (alchpots*zeff)[:,i]+nuc_repulsion[:,i], '-o',label=i)\n",
    "ax2.plot(rcoord, (alchpots*zeff)[:,4]+nuc_repulsion[:,4], '-o', color='tab:purple',label='4')\n",
    "\n",
    "# hide the spines between ax and ax2\n",
    "ax.spines['bottom'].set_visible(False)\n",
    "ax2.spines['top'].set_visible(False)\n",
    "ax.xaxis.tick_top()\n",
    "ax.tick_params(labeltop=False)  # don't put tick labels at the top\n",
    "ax2.xaxis.tick_bottom()\n",
    "\n",
    "\n",
    "d = .015  # how big to make the diagonal lines in axes coordinates\n",
    "# arguments to pass to plot, just so we don't keep repeating them\n",
    "kwargs = dict(transform=ax.transAxes, color='k', clip_on=False)\n",
    "ax.plot((-d, +d), (-d, +d), **kwargs)        # top-left diagonal\n",
    "ax.plot((1 - d, 1 + d), (-d, +d), **kwargs)  # top-right diagonal\n",
    "\n",
    "kwargs.update(transform=ax2.transAxes)  # switch to the bottom axes\n",
    "ax2.plot((-d, +d), (1 - d, 1 + d), **kwargs)  # bottom-left diagonal\n",
    "ax2.plot((1 - d, 1 + d), (1 - d, 1 + d), **kwargs)  # bottom-right diagonal\n",
    "\n",
    "ax.legend(bbox_to_anchor=(1.05, 1.0))\n",
    "ax2.legend(bbox_to_anchor=(1.25, 1.0))\n",
    "\n",
    "ax.set_ylabel(r'$E_{\\rm{tot}}$ (Ha)', loc='bottom')\n",
    "ax2.set_xlabel(r'r(CO) $(\\AA)$')\n",
    "\n",
    "# ax[1].set_ylabel(r'$E_{\\rm{nuc}}$')"
   ]
  },
  {
   "cell_type": "markdown",
   "id": "834410b8-c384-4b3e-bc86-0192ffa401f3",
   "metadata": {},
   "source": [
    "# UFF energies"
   ]
  },
  {
   "cell_type": "code",
   "execution_count": 84,
   "id": "b0a92f5d-72fc-482d-a29a-1dfa90bb4751",
   "metadata": {},
   "outputs": [],
   "source": [
    "import sys\n",
    "sys.path.insert(0, '/home/sahre/git_repositories/APDFT/prototyping/atomic_energies/')\n",
    "import UFF_decomposition as UFFd\n",
    "\n",
    "import glob\n",
    "import utils_qm as uqm\n",
    "\n",
    "from matplotlib import pyplot as plt\n",
    "import numpy as np\n",
    "\n",
    "import ase\n",
    "import ase.visualize\n",
    "\n",
    "from natsort import natsorted"
   ]
  },
  {
   "cell_type": "code",
   "execution_count": 85,
   "id": "1074816a-0575-4a53-bbae-0e8d449b8630",
   "metadata": {},
   "outputs": [],
   "source": [
    "geom_type = 'angle'\n"
   ]
  },
  {
   "cell_type": "code",
   "execution_count": 86,
   "id": "62a2e051-6214-4941-a716-3df3a324dcc5",
   "metadata": {},
   "outputs": [],
   "source": [
    "if geom_type == 'bond':\n",
    "    outfiles = glob.glob('/data/sahre/projects/atomic-energies/data/UFF_energies/butanol_bond/out*')\n",
    "    outfiles.sort()\n",
    "elif geom_type == 'angle':\n",
    "    outfiles = glob.glob('/data/sahre/projects/atomic-energies/data/UFF_energies/butanol_angle/out*')\n",
    "    outfiles=natsorted(outfiles)\n",
    "elif geom_type == 'dihedral':\n",
    "    outfiles = glob.glob('/data/sahre/projects/atomic-energies/data/UFF_energies/butanol_dihedral/out*')\n",
    "    outfiles=natsorted(outfiles)\n",
    "\n",
    "results = []\n",
    "\n",
    "if geom_type == 'bond':\n",
    "    for of in outfiles[:6]:\n",
    "        results.append(UFFd.get_UFF_decomposition(of))\n",
    "elif geom_type == 'angle':\n",
    "    for of in outfiles[1:]:\n",
    "        results.append(UFFd.get_UFF_decomposition(of))\n",
    "elif geom_type == 'dihedral':\n",
    "    for of in outfiles:\n",
    "        results.append(UFFd.get_UFF_decomposition(of))\n",
    "    \n",
    "etot_UFF = []\n",
    "atomic_energies = []\n",
    "for r in results:\n",
    "    etot_UFF.append(r['e_atomic'].sum())\n",
    "    atomic_energies.append(r['e_atomic'])\n",
    "atomic_energies= np.array(atomic_energies)*0.00038\n",
    "\n",
    "if geom_type == 'bond':\n",
    "    rcoord_UFF = [0.92429,\n",
    "     1.04929,\n",
    "     1.17429,\n",
    "     1.29929,\n",
    "     1.42429,\n",
    "     1.67429]\n",
    "elif geom_type == 'angle':\n",
    "    rcoord_UFF = [70, 83, 95, 108, 120, 133, 145, 158]\n",
    "elif geom_type == 'dihedral':\n",
    "    rcoord_UFF = [0, 30, 60, 90, 120, 150, 180]"
   ]
  },
  {
   "cell_type": "code",
   "execution_count": 87,
   "id": "02049398-1ead-4ae6-8d00-a9564b66f364",
   "metadata": {},
   "outputs": [
    {
     "data": {
      "text/plain": [
       "[742.503, 268.885, 99.093, 41.482, 67.805, 165.727, 321.325, 522.0820000000001]"
      ]
     },
     "execution_count": 87,
     "metadata": {},
     "output_type": "execute_result"
    }
   ],
   "source": [
    "etot_UFF"
   ]
  },
  {
   "cell_type": "code",
   "execution_count": 70,
   "id": "b6a7213a-0444-4533-b77d-ddf82e154fcc",
   "metadata": {},
   "outputs": [
    {
     "data": {
      "text/plain": [
       "<Popen: returncode: None args: ['/home/sahre/opt/miniconda3/envs/qm-tools/bi...>"
      ]
     },
     "execution_count": 70,
     "metadata": {},
     "output_type": "execute_result"
    }
   ],
   "source": [
    "ase.visualize.view(Atoms(numbers=molecule.get_atomic_numbers(), positions=results[0]['position']))"
   ]
  },
  {
   "cell_type": "code",
   "execution_count": 91,
   "id": "5fc8ef77-d5dc-4e33-bb46-db1b42ecb8bb",
   "metadata": {},
   "outputs": [
    {
     "data": {
      "image/png": "[encoded data removed]",
      "text/plain": [
       "<Figure size 432x288 with 1 Axes>"
      ]
     },
     "metadata": {
      "needs_background": "light"
     },
     "output_type": "display_data"
    }
   ],
   "source": [
    "plt.rcParams['figure.figsize'] = [6,4]\n",
    "\n",
    "plt.plot(rcoord_UFF, np.array(etot_UFF)*0.00038, '-o')\n",
    "plt.ylabel(r'$E_{\\rm{tot}}$ (Ha)')\n",
    "\n",
    "if geom_type == 'bond':\n",
    "    plt.xlabel(r'r(CO) $(\\AA)$')\n",
    "\n",
    "elif geom_type == 'angle':\n",
    "    plt.xlabel(r'$\\theta (^\\circ)$')"
   ]
  },
  {
   "cell_type": "markdown",
   "id": "0b72444c-18a7-45cf-b49d-1a4b749bac65",
   "metadata": {},
   "source": [
    "# heavy atoms"
   ]
  },
  {
   "cell_type": "code",
   "execution_count": 95,
   "id": "326316e6-2fa0-436e-95ab-9bf35bb5d5f1",
   "metadata": {},
   "outputs": [
    {
     "data": {
      "image/png": "[encoded data removed]",
      "text/plain": [
       "<Figure size 1008x288 with 2 Axes>"
      ]
     },
     "metadata": {
      "needs_background": "light"
     },
     "output_type": "display_data"
    }
   ],
   "source": [
    "plt.rcParams['figure.figsize'] = [14,4]\n",
    "fig, ax = plt.subplots(1,2)\n",
    "\n",
    "if geom_type == 'bond':\n",
    "    ax[0].plot(rcoord_UFF, atomic_energies[:,0], '-o',label='C0', color='tab:blue')\n",
    "    ax[0].plot(rcoord_UFF, atomic_energies[:,1], '-o',label='C1', color='tab:orange')\n",
    "    ax[0].plot(rcoord_UFF, atomic_energies[:,3], '-o',label='C3', color='tab:red')\n",
    "    #ax[0].legend(bbox_to_anchor=(1.05,1))\n",
    "    ax[0].set_xlabel(r'$d_{\\rm{CO}}$ ($\\AA$)')\n",
    "\n",
    "    ax[0].set_ylabel(r'$E_I (Ha)$')\n",
    "\n",
    "    ax[1].plot(rcoord_UFF, atomic_energies[:,2], '-o',label='C2', color='tab:green')\n",
    "    ax[1].plot(rcoord_UFF, atomic_energies[:,4], '--o', label='O', color='grey')\n",
    "\n",
    "    ax[1].set_xlabel(r'$d_{\\rm{CO}}$ ($\\AA$)')\n",
    "    \n",
    "if geom_type == 'angle':\n",
    "    ax[0].plot(rcoord_UFF, atomic_energies[:,0], '-o',label='C0', color='tab:blue')\n",
    "    ax[0].plot(rcoord_UFF, atomic_energies[:,3], '-o',label='C3', color='tab:red')\n",
    "    #ax[0].legend(bbox_to_anchor=(1.05,1))\n",
    "    ax[0].set_xlabel(r'$\\theta (^\\circ)$')\n",
    "\n",
    "    ax[0].set_ylabel(r'$E_I (Ha)$')\n",
    "    \n",
    "    ax[1].plot(rcoord_UFF, atomic_energies[:,1], '-o',label='C1', color='tab:orange')\n",
    "    ax[1].plot(rcoord_UFF, atomic_energies[:,2], '-o',label='C2', color='tab:green')\n",
    "    ax[1].plot(rcoord_UFF, atomic_energies[:,4], '--o', label='O', color='grey')\n",
    "\n",
    "    ax[1].set_xlabel(r'$\\theta (^\\circ)$')"
   ]
  },
  {
   "cell_type": "code",
   "execution_count": 97,
   "id": "f5e3bcd6-e2ba-4c49-a0af-94ff97ba4a9d",
   "metadata": {},
   "outputs": [
    {
     "data": {
      "image/png": "[encoded data removed]",
      "text/plain": [
       "<Figure size 1008x288 with 2 Axes>"
      ]
     },
     "metadata": {
      "needs_background": "light"
     },
     "output_type": "display_data"
    }
   ],
   "source": [
    "plt.rcParams['figure.figsize'] = [14,4]\n",
    "fig, (ax, ax2) = plt.subplots(1,2)\n",
    "\n",
    "if geom_type == 'bond':\n",
    "    # O\n",
    "    ax.plot(rcoord_UFF, atomic_energies[:,14], '-o', color='tab:grey')\n",
    "\n",
    "    # C1\n",
    "    ax.plot(rcoord_UFF, atomic_energies[:,7], '-o', color='tab:orange')\n",
    "    ax.plot(rcoord_UFF, atomic_energies[:,8], '-o', color='tab:orange')\n",
    "    # C2\n",
    "    ax.plot(rcoord_UFF, atomic_energies[:,9], '-o', color='tab:green')\n",
    "    ax.plot(rcoord_UFF, atomic_energies[:,10], '-o', color='tab:green')\n",
    "\n",
    "    # Hydrogens\n",
    "    # C0\n",
    "    ax2.plot(rcoord_UFF, atomic_energies[:,5], '-o', color='tab:blue')\n",
    "    ax2.plot(rcoord_UFF, atomic_energies[:,6], '-o', color='tab:blue')\n",
    "    # C3\n",
    "    ax2.plot(rcoord_UFF, atomic_energies[:,11], '--o', color='tab:red')\n",
    "    ax2.plot(rcoord_UFF, atomic_energies[:,12], '--o', color='tab:red')\n",
    "    ax2.plot(rcoord_UFF, atomic_energies[:,13], '--o', color='tab:red')\n",
    "    \n",
    "    ax.set_xlabel(r'$d_{\\rm{CO}}$ ($\\AA$)')\n",
    "\n",
    "    ax.set_ylabel(r'$E_I (Ha)$')\n",
    "\n",
    "    ax2.set_xlabel(r'$d_{\\rm{CO}}$ ($\\AA$)')\n",
    "    \n",
    "if geom_type == 'angle':\n",
    "    # O\n",
    "    ax.plot(rcoord_UFF, atomic_energies[:,14], '-o', color='tab:grey')\n",
    "\n",
    "    # C1\n",
    "    ax.plot(rcoord_UFF, atomic_energies[:,7], '-o', color='tab:orange')\n",
    "    ax.plot(rcoord_UFF, atomic_energies[:,8], '-o', color='tab:orange')\n",
    "    # C2\n",
    "    ax.plot(rcoord_UFF, atomic_energies[:,9], '-o', color='tab:green')\n",
    "    ax.plot(rcoord_UFF, atomic_energies[:,10], '-o', color='tab:green')\n",
    "\n",
    "    # Hydrogens\n",
    "    # C0\n",
    "    ax2.plot(rcoord_UFF, atomic_energies[:,5], '-o', color='tab:blue')\n",
    "    ax2.plot(rcoord_UFF, atomic_energies[:,6], '-o', color='tab:blue')\n",
    "    # C3\n",
    "    ax2.plot(rcoord_UFF, atomic_energies[:,11], '--o', color='tab:red')\n",
    "    ax2.plot(rcoord_UFF, atomic_energies[:,12], '--o', color='tab:red')\n",
    "    ax2.plot(rcoord_UFF, atomic_energies[:,13], '--o', color='tab:red')\n",
    "    \n",
    "    ax.set_xlabel(r'$\\theta (^\\circ)$')\n",
    "\n",
    "    ax.set_ylabel(r'$E_I (Ha)$')\n",
    "\n",
    "    ax2.set_xlabel(r'$\\theta (^\\circ)$')\n",
    "fig.tight_layout()\n",
    "\n"
   ]
  },
  {
   "cell_type": "code",
   "execution_count": 57,
   "id": "9e17b0ef-15dc-45c0-821e-4ab9009009b5",
   "metadata": {},
   "outputs": [
    {
     "data": {
      "text/plain": [
       "Text(0.5, 0, 'r(CO) $(\\\\AA)$')"
      ]
     },
     "execution_count": 57,
     "metadata": {},
     "output_type": "execute_result"
    },
    {
     "data": {
      "image/png": "[encoded data removed]",
      "text/plain": [
       "<Figure size 432x288 with 2 Axes>"
      ]
     },
     "metadata": {
      "needs_background": "light"
     },
     "output_type": "display_data"
    }
   ],
   "source": [
    "fig, (ax, ax2) = plt.subplots(2, 1, sharex=True)\n",
    "fig.subplots_adjust(hspace=0.03)  # adjust space between axes\n",
    "\n",
    "plt.rcParams['font.size'] = 20\n",
    "\n",
    "ax2.plot(rcoord_UFF,np.array(atomic_energies)[:,0], '--o',label='0')\n",
    "ax.plot(rcoord_UFF,np.array(atomic_energies)[:,1], '--o',label='1')\n",
    "ax2.plot(rcoord_UFF,np.array(atomic_energies)[:,3], '-o', color = 'tab:red', label='3')\n",
    "    \n",
    "# plt.xlabel('r(CO) (Ang)')\n",
    "# plt.ylabel('E (Ha)')\n",
    "# plt.legend()\n",
    "# plt.legend(bbox_to_anchor=(1.0, 1.05))\n",
    "\n",
    "ax.plot(rcoord_UFF,np.array(atomic_energies)[:,2], '-o', color = 'tab:green', label='2')\n",
    "ax.plot(rcoord_UFF,np.array(atomic_energies)[:,4], '--o', color = 'tab:purple',label='4')\n",
    "ax.set_ylim([0.0025, 0.15])\n",
    "ax2.set_ylim([0.000, 0.0025])\n",
    "\n",
    "# hide the spines between ax and ax2\n",
    "ax.spines['bottom'].set_visible(False)\n",
    "ax2.spines['top'].set_visible(False)\n",
    "ax.xaxis.tick_top()\n",
    "ax.tick_params(labeltop=False)  # don't put tick labels at the top\n",
    "ax2.xaxis.tick_bottom()\n",
    "\n",
    "\n",
    "d = .015  # how big to make the diagonal lines in axes coordinates\n",
    "# arguments to pass to plot, just so we don't keep repeating them\n",
    "kwargs = dict(transform=ax.transAxes, color='k', clip_on=False)\n",
    "ax.plot((-d, +d), (-d, +d), **kwargs)        # top-left diagonal\n",
    "ax.plot((1 - d, 1 + d), (-d, +d), **kwargs)  # top-right diagonal\n",
    "\n",
    "kwargs.update(transform=ax2.transAxes)  # switch to the bottom axes\n",
    "ax2.plot((-d, +d), (1 - d, 1 + d), **kwargs)  # bottom-left diagonal\n",
    "ax2.plot((1 - d, 1 + d), (1 - d, 1 + d), **kwargs)  # bottom-right diagonal\n",
    "\n",
    "ax.legend(bbox_to_anchor=(1.35, 1.0))\n",
    "ax2.legend(bbox_to_anchor=(1.05, 1.0))\n",
    "\n",
    "ax.set_ylabel(r'$E_{\\rm{tot}}$ (Ha)', loc='bottom')\n",
    "ax2.set_xlabel(r'r(CO) $(\\AA)$')\n",
    "\n",
    "# ax[1].set_ylabel(r'$E_{\\rm{nuc}}$')"
   ]
  },
  {
   "cell_type": "code",
   "execution_count": null,
   "id": "77770cff-be87-46c8-a1c4-c8a9ad5cd7a3",
   "metadata": {},
   "outputs": [],
   "source": [
    "\n",
    "plt.rcParams['font.size'] = 20\n",
    "plt.rcParams['figure.figsize'] = [8,6]\n",
    "fig, (ax, ax2) = plt.subplots(2, 1, sharex=True)\n",
    "fig.subplots_adjust(hspace=0.03)  # adjust space between axes\n",
    "\n",
    "\n",
    "# O\n",
    "ax.plot(rcoord_UFF, atomic_energies[:,14], '-o', color='tab:grey')\n",
    "\n",
    "# C1\n",
    "ax.plot(rcoord_UFF, atomic_energies[:,7], '-o', color='tab:orange')\n",
    "ax.plot(rcoord_UFF, atomic_energies[:,8], '-o', color='tab:orange')\n",
    "# C2\n",
    "ax.plot(rcoord_UFF, atomic_energies[:,9], '-o', color='tab:green')\n",
    "ax.plot(rcoord_UFF, atomic_energies[:,10], '-o', color='tab:green')\n",
    "\n",
    "# Hydrogens\n",
    "# C0\n",
    "ax2.plot(rcoord_UFF, atomic_energies[:,5], '-o', color='tab:blue')\n",
    "ax2.plot(rcoord_UFF, atomic_energies[:,6], '-o', color='tab:blue')\n",
    "# C3\n",
    "ax2.plot(rcoord_UFF, atomic_energies[:,11], '--o', color='tab:red')\n",
    "ax2.plot(rcoord_UFF, atomic_energies[:,12], '--o', color='tab:red')\n",
    "ax2.plot(rcoord_UFF, atomic_energies[:,13], '--o', color='tab:red')\n",
    "\n",
    "ax2.set_ylim([0.00005, 0.0003])\n",
    "\n",
    "ax.set_ylim([0.0003, 0.012])\n",
    "ax2.set_xlabel(r'$d_{\\rm{CO}}$ ($\\AA$)')\n",
    "ax2.set_ylabel(r'$E_{\\rm{scaled}}$')\n",
    "\n",
    "# hide the spines between ax and ax2\n",
    "ax.spines['bottom'].set_visible(False)\n",
    "ax2.spines['top'].set_visible(False)\n",
    "ax.xaxis.tick_top()\n",
    "ax.tick_params(labeltop=False)  # don't put tick labels at the top\n",
    "ax2.xaxis.tick_bottom()\n",
    "\n",
    "d = .015  # how big to make the diagonal lines in axes coordinates\n",
    "# arguments to pass to plot, just so we don't keep repeating them\n",
    "kwargs = dict(transform=ax.transAxes, color='k', clip_on=False)\n",
    "ax.plot((-d, +d), (-d, +d), **kwargs)        # top-left diagonal\n",
    "ax.plot((1 - d, 1 + d), (-d, +d), **kwargs)  # top-right diagonal\n",
    "\n",
    "kwargs.update(transform=ax2.transAxes)  # switch to the bottom axes\n",
    "ax2.plot((-d, +d), (1 - d, 1 + d), **kwargs)  # bottom-left diagonal\n",
    "ax2.plot((1 - d, 1 + d), (1 - d, 1 + d), **kwargs)  # bottom-right diagonal\n",
    "\n",
    "# fig.tight_layout()\n",
    "\n",
    "# ax.legend(bbox_to_anchor=(1.25, 1.0))\n",
    "# ax2.legend(bbox_to_anchor=(1.05, 1.0))\n",
    "\n",
    "# ax.set_ylabel(r'$E_{\\rm{tot}}$ (Ha)', loc='bottom')\n",
    "# ax2.set_xlabel(r'r(CO) $(\\AA)$')"
   ]
  },
  {
   "cell_type": "code",
   "execution_count": null,
   "id": "07efd5cf-7469-4cfc-82df-165de063a9d5",
   "metadata": {},
   "outputs": [],
   "source": [
    "fig, (ax, ax2) = plt.subplots(2, 1, sharex=True)\n",
    "fig.subplots_adjust(hspace=0.03)  # adjust space between axes\n",
    "\n",
    "\n",
    "# O\n",
    "ax.plot(rcoord_UFF, atomic_energies[:,14], '-o', color='tab:grey')\n",
    "\n",
    "# C1\n",
    "ax2.plot(rcoord_UFF, atomic_energies[:,7], '-o', color='tab:orange')\n",
    "ax2.plot(rcoord_UFF, atomic_energies[:,8], '-o', color='tab:orange')\n",
    "# C2\n",
    "ax.plot(rcoord_UFF, atomic_energies[:,9], '-o', color='tab:green')\n",
    "ax.plot(rcoord_UFF, atomic_energies[:,10], '-o', color='tab:green')\n",
    "\n",
    "# Hydrogens\n",
    "# C0\n",
    "ax2.plot(rcoord_UFF, atomic_energies[:,5], '-o', color='tab:blue')\n",
    "ax2.plot(rcoord_UFF, atomic_energies[:,6], '-o', color='tab:blue')\n",
    "# C3\n",
    "ax2.plot(rcoord_UFF, atomic_energies[:,11], '--o', color='tab:red')\n",
    "ax2.plot(rcoord_UFF, atomic_energies[:,12], '--o', color='tab:red')\n",
    "ax2.plot(rcoord_UFF, atomic_energies[:,13], '--o', color='tab:red')\n"
   ]
  },
  {
   "cell_type": "code",
   "execution_count": null,
   "id": "7a62362f-e218-486a-9780-d3f897bc3e1a",
   "metadata": {},
   "outputs": [],
   "source": [
    "atomic_energies[:,6]"
   ]
  },
  {
   "cell_type": "code",
   "execution_count": null,
   "id": "e503b18b-b667-4fa4-b099-f55221f76f40",
   "metadata": {},
   "outputs": [],
   "source": [
    "plt.rcParams['font.size'] = 20\n",
    "for i in range(5):\n",
    "    plt.plot(rcoord_UFF,np.array(atomic_energies)[:,i]*0.00038, '-o',label=i)\n",
    "plt.xlabel('r(CO) (Ang)')\n",
    "plt.ylabel('E (Ha)')\n",
    "plt.legend()\n",
    "plt.legend(bbox_to_anchor=(1.0, 1.05))"
   ]
  },
  {
   "cell_type": "code",
   "execution_count": null,
   "id": "3b209e8d-1a24-43d3-8bee-2a08381a0876",
   "metadata": {},
   "outputs": [],
   "source": [
    "plt.rcParams['font.size'] = 20\n",
    "for i in range(5):\n",
    "    if i != 4 and i != 2:\n",
    "        plt.plot(rcoord_UFF,np.array(atomic_energies)[:,i]*0.00038, '-o',label=i)\n",
    "plt.xlabel('r(CO) (Ang)')\n",
    "plt.ylabel('E (Ha)')\n",
    "plt.legend(bbox_to_anchor=(1.0, 1.05))"
   ]
  }
 ],
 "metadata": {
  "kernelspec": {
   "display_name": "Python 3",
   "language": "python",
   "name": "python3"
  },
  "language_info": {
   "codemirror_mode": {
    "name": "ipython",
    "version": 3
   },
   "file_extension": ".py",
   "mimetype": "text/x-python",
   "name": "python",
   "nbconvert_exporter": "python",
   "pygments_lexer": "ipython3",
   "version": "3.9.5"
  }
 },
 "nbformat": 4,
 "nbformat_minor": 5
}
