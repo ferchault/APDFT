{
 "cells": [
  {
   "cell_type": "code",
   "execution_count": 43,
   "metadata": {},
   "outputs": [],
   "source": [
    "import numpy as np\n",
    "import pandas as pd\n",
    "from matplotlib import pyplot as plt\n",
    "\n",
    "from rdkit import Chem\n",
    "from rdkit.Chem import Descriptors\n",
    "from rdkit.Chem.Draw import IPythonConsole\n",
    "\n",
    "import sys\n",
    "sys.path.insert(0, '/home/misa/git_repositories/APDFT/prototyping/atomic_energies/')\n",
    "\n",
    "import utils_qm as uqm\n",
    "\n",
    "def GetTotNumAtoms(mol):\n",
    "    total_num_atoms = 0\n",
    "    for atom in mol.GetAtoms():\n",
    "        total_num_atoms += atom.GetTotalNumHs() + 1\n",
    "    return(total_num_atoms)"
   ]
  },
  {
   "cell_type": "code",
   "execution_count": 50,
   "metadata": {},
   "outputs": [],
   "source": [
    "amons_database = pd.read_pickle('/home/misa/datasets/amons_qm9_11k/amons_database.pd')"
   ]
  },
  {
   "cell_type": "code",
   "execution_count": 51,
   "metadata": {},
   "outputs": [
    {
     "data": {
      "text/plain": [
       "[<matplotlib.lines.Line2D at 0x7f8bc2a6bcc0>]"
      ]
     },
     "execution_count": 51,
     "metadata": {},
     "output_type": "execute_result"
    },
    {
     "data": {
      "image/png": "[encoded data removed]",
      "text/plain": [
       "<Figure size 432x288 with 1 Axes>"
      ]
     },
     "metadata": {
      "needs_background": "light"
     },
     "output_type": "display_data"
    }
   ],
   "source": [
    "num_ve_dist = []\n",
    "for i in np.arange(np.amin(amons_database['num_ve']), np.amax(amons_database['num_ve'])+2, 2):\n",
    "    num_ve_dist.append(len(amons_database.loc[amons_database['num_ve'] == i]))\n",
    "    \n",
    "plt.plot(np.arange(np.amin(amons_database['num_ve']), np.amax(amons_database['num_ve'])+2, 2), num_ve_dist, '-o')"
   ]
  },
  {
   "cell_type": "code",
   "execution_count": 59,
   "metadata": {},
   "outputs": [],
   "source": [
    "smiles_up_to_30_ve = list(amons_database.loc[amons_database['num_ve'] < 32, 'smiles'])\n",
    "\n",
    "with open('/home/misa/projects/Atomic-Energies/data/ueg_reference/amons/batch1_up_to_30_ve.txt', 'w') as f:\n",
    "    for s in smiles_up_to_30:\n",
    "        f.write(s+'\\n')"
   ]
  },
  {
   "cell_type": "markdown",
   "metadata": {},
   "source": [
    "# Make Amons database"
   ]
  },
  {
   "cell_type": "code",
   "execution_count": 49,
   "metadata": {},
   "outputs": [],
   "source": [
    "import numpy as np\n",
    "import pandas as pd\n",
    "from matplotlib import pyplot as plt\n",
    "\n",
    "from rdkit import Chem\n",
    "from rdkit.Chem import Descriptors\n",
    "from rdkit.Chem.Draw import IPythonConsole\n",
    "\n",
    "import sys\n",
    "sys.path.insert(0, '/home/misa/git_repositories/APDFT/prototyping/atomic_energies/')\n",
    "\n",
    "import utils_qm as uqm\n",
    "\n",
    "def GetTotNumAtoms(mol):\n",
    "    total_num_atoms = 0\n",
    "    for atom in mol.GetAtoms():\n",
    "        total_num_atoms += atom.GetTotalNumHs() + 1\n",
    "    return(total_num_atoms)\n",
    "\n",
    "amons_dict = uqm.load_obj('/home/misa/datasets/amons_qm9_11k/unique_amons_dict')\n",
    "amons_database = pd.DataFrame(data=amons_dict.keys(), columns=['smiles'])\n",
    "\n",
    "# add properties\n",
    "\n",
    "mols = []\n",
    "num_ve = []\n",
    "num_atoms = []\n",
    "\n",
    "for s in amons_database['smiles']:\n",
    "    mol = Chem.MolFromSmiles(s)\n",
    "    mols.append(mol)\n",
    "    \n",
    "    num_ve_mol = Descriptors.NumValenceElectrons(mol) # num valence electrons\n",
    "    num_ve.append(num_ve_mol)\n",
    "    \n",
    "    num_atoms_mol = GetTotNumAtoms(mol) # total num atoms\n",
    "    num_atoms.append(num_atoms_mol)\n",
    "    \n",
    "amons_database['num_ve'] = num_ve\n",
    "amons_database['num_atoms'] = num_atoms\n",
    "\n",
    "amons_database.to_pickle('/home/misa/datasets/amons_qm9_11k/amons_database.pd')"
   ]
  }
 ],
 "metadata": {
  "kernelspec": {
   "display_name": "Python [conda env:atomic-energies]",
   "language": "python",
   "name": "conda-env-atomic-energies-py"
  },
  "language_info": {
   "codemirror_mode": {
    "name": "ipython",
    "version": 3
   },
   "file_extension": ".py",
   "mimetype": "text/x-python",
   "name": "python",
   "nbconvert_exporter": "python",
   "pygments_lexer": "ipython3",
   "version": "3.7.3"
  }
 },
 "nbformat": 4,
 "nbformat_minor": 4
}
