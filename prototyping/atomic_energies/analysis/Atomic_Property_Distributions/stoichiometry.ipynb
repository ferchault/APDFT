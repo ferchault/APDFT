{
 "cells": [
  {
   "cell_type": "code",
   "execution_count": null,
   "metadata": {},
   "outputs": [],
   "source": [
    "import sys\n",
    "sys.path.insert(0, '/home/misa/git_repositories/APDFT/prototyping/atomic_energies/')\n",
    "\n",
    "from explore_qml_data import get_smiles\n",
    "from explore_qml_data import moltosvg\n",
    "import explore_qml_data as eqd\n",
    "import numpy as np\n",
    "import os\n",
    "import pandas as pd\n",
    "import qml\n",
    "import qml_interface as qmi\n",
    "import analyse_atomic_data as aad\n",
    "\n",
    "from matplotlib import pyplot as plt\n",
    "\n",
    "from rdkit import Chem\n",
    "from rdkit.Chem.Draw import IPythonConsole\n",
    "from IPython.display import SVG"
   ]
  },
  {
   "cell_type": "code",
   "execution_count": null,
   "metadata": {},
   "outputs": [],
   "source": [
    "# labels\n",
    "paths = qmi.wrapper_alch_data()\n",
    "paths.remove('/home/misa/APDFT/prototyping/atomic_energies/results/slice_ve38/dsgdb9nsd_001265/atomic_energies_with_mic.txt')\n",
    "data, molecule_size = qmi.load_alchemy_data(paths)\n",
    "\n",
    "atomisation_en = qmi.generate_label_vector(data, molecule_size.sum(), value='atomisation')\n",
    "atomic_en = qmi.generate_label_vector(data, molecule_size.sum(), value='atomic')\n",
    "alch_pot = qmi.generate_label_vector(data, molecule_size.sum(), value='alch_pot')\n",
    "charges = qmi.generate_label_vector(data, molecule_size.sum(), value='charge')"
   ]
  },
  {
   "cell_type": "code",
   "execution_count": null,
   "metadata": {},
   "outputs": [],
   "source": [
    "atomic_database = pd.DataFrame(index=np.arange(molecule_size.sum()), columns=['mol_id', 'smiles', 'Z', 'atomic energy', 'atomisation energy', 'xyz_path'])\n",
    "# make a database\n",
    "index_database = 0\n",
    "for i, p in enumerate(paths):\n",
    "    data = np.loadtxt(p)\n",
    "    # get smiles\n",
    "    comp = p.split('/')[-2]\n",
    "    xyz_path = f'/home/misa/datasets/qm9/{comp}.xyz'\n",
    "    smiles = get_smiles(xyz_path)\n",
    "    for d in data:\n",
    "        atomic_database.at[index_database, 'xyz_path'] = xyz_path\n",
    "        atomic_database.at[index_database, 'mol_id'] = i\n",
    "        atomic_database.at[index_database, 'smiles'] = smiles\n",
    "        atomic_database.at[index_database, 'Z'] = d[0]\n",
    "        atomic_database.at[index_database, 'atomic energy'] = d[5]\n",
    "        atomic_database.at[index_database, 'atomisation energy'] = d[6]\n",
    "        \n",
    "        index_database += 1"
   ]
  },
  {
   "cell_type": "code",
   "execution_count": null,
   "metadata": {},
   "outputs": [],
   "source": [
    "nearest_neighbour = []\n",
    "for i, p in enumerate(paths):\n",
    "    # get smiles\n",
    "    comp = p.split('/')[-2]\n",
    "    xyz_path = f'/home/misa/datasets/qm9/{comp}.xyz'\n",
    "    smiles = get_smiles(xyz_path)\n",
    "    mol = Chem.MolFromSmiles(smiles)\n",
    "    mol = Chem.AddHs(mol)\n",
    "    nearest_neighbour.extend(aad.get_charge_neighbours(mol))\n",
    "atomic_database['charge NN'] = nearest_neighbour"
   ]
  },
  {
   "cell_type": "markdown",
   "metadata": {},
   "source": [
    "### Find specific molecules"
   ]
  },
  {
   "cell_type": "code",
   "execution_count": null,
   "metadata": {},
   "outputs": [],
   "source": [
    "smi = atomic_database.loc[(atomic_database['Z']==6), 'xyz_path']\n",
    "for i,s in enumerate(smi):\n",
    "    if i == 10 or i == 15:\n",
    "        print(s)"
   ]
  },
  {
   "cell_type": "code",
   "execution_count": null,
   "metadata": {},
   "outputs": [],
   "source": [
    "#ae_OH = np.array(atomic_database.loc[(atomic_database['smiles']=='CC(C)CCO') & (atomic_database['Z']==6), 'atomic energy'])"
   ]
  },
  {
   "cell_type": "code",
   "execution_count": null,
   "metadata": {},
   "outputs": [],
   "source": [
    "ae_OH = np.array([-37.025341125778674, -37.72615414645493, -41.39719232146205,\n",
    "       -41.41755239475593, -40.51916525252558])"
   ]
  },
  {
   "cell_type": "code",
   "execution_count": null,
   "metadata": {},
   "outputs": [],
   "source": [
    "ae_CH3 = np.array([-36.9364, -37.6107,-41.2111, -40.9553, -39.3028])"
   ]
  },
  {
   "cell_type": "code",
   "execution_count": null,
   "metadata": {},
   "outputs": [],
   "source": [
    "#atomic_database.loc[(atomic_database['smiles']=='CCCC(C)C') & (atomic_database['Z']==6), 'atomic energy']"
   ]
  },
  {
   "cell_type": "code",
   "execution_count": null,
   "metadata": {},
   "outputs": [],
   "source": [
    "x_barOH = np.arange(5)\n",
    "x_barCH3 = np.arange(5)\n",
    "\n",
    "#plt.bar(x_barOH, ae_OH)\n",
    "plt.rcParams['font.size'] = 20\n",
    "plt.bar(x_barCH3, ae_OH-ae_CH3)\n",
    "plt.xlabel('position')\n",
    "plt.ylabel(r'$\\Delta E_I$')"
   ]
  },
  {
   "cell_type": "code",
   "execution_count": null,
   "metadata": {},
   "outputs": [],
   "source": [
    "eqd.mol_with_atom_index(Chem.MolFromSmiles('CC(C)CCO'))"
   ]
  },
  {
   "cell_type": "code",
   "execution_count": null,
   "metadata": {},
   "outputs": [],
   "source": [
    "eqd.mol_with_atom_index(Chem.MolFromSmiles('CCCC(C)C'))"
   ]
  },
  {
   "cell_type": "code",
   "execution_count": null,
   "metadata": {},
   "outputs": [],
   "source": [
    "# is the decay proportional to 1/r?"
   ]
  },
  {
   "cell_type": "code",
   "execution_count": null,
   "metadata": {},
   "outputs": [],
   "source": [
    "#print(atomic_database.loc[(atomic_database['smiles']=='CC(C)CCO'), 'mol_id']) mol_id = 2\n",
    "#print(atomic_database.loc[(atomic_database['smiles']=='CCCC(C)C'), 'mol_id']) mol_id = 3"
   ]
  },
  {
   "cell_type": "code",
   "execution_count": null,
   "metadata": {},
   "outputs": [],
   "source": [
    "paths[2]"
   ]
  },
  {
   "cell_type": "code",
   "execution_count": null,
   "metadata": {},
   "outputs": [],
   "source": [
    "paths[3]"
   ]
  },
  {
   "cell_type": "code",
   "execution_count": null,
   "metadata": {},
   "outputs": [],
   "source": [
    "data_OH = np.loadtxt('/home/misa/APDFT/prototyping/atomic_energies/results/slice_ve38/dsgdb9nsd_000272/atomic_energies_with_mic.txt')\n",
    "data_CH3 = np.loadtxt('/home/misa/APDFT/prototyping/atomic_energies/results/slice_ve38/dsgdb9nsd_000274/atomic_energies_with_mic.txt')"
   ]
  },
  {
   "cell_type": "code",
   "execution_count": null,
   "metadata": {},
   "outputs": [],
   "source": [
    "data_OH[:, 5]"
   ]
  },
  {
   "cell_type": "code",
   "execution_count": null,
   "metadata": {},
   "outputs": [],
   "source": [
    "data_CH3[:, 5]"
   ]
  },
  {
   "cell_type": "code",
   "execution_count": null,
   "metadata": {},
   "outputs": [],
   "source": [
    "pos_O = data_OH[5][1:4]\n",
    "for pos in data_OH[:, 1:4]:\n",
    "    print(np.linalg.norm(pos-pos_O))\n",
    "\n",
    "# pos_tCH3 = data_CH3[0][1:4]\n",
    "# for pos in data_CH3[:, 1:4]:\n",
    "#     print(np.linalg.norm(pos-pos_tCH3))"
   ]
  },
  {
   "cell_type": "code",
   "execution_count": null,
   "metadata": {},
   "outputs": [],
   "source": [
    "pos_OH = np.array([9.229531755776778, 8.398420654569584, 7.1489297404733945, 4.49235305371895, 2.686213530773195])\n",
    "pos_OH.sort()\n",
    "pos_CH3 = np.array([2.894434949818875, 4.823813808707794, 7.467055167751072, 9.576784179654672, 8.654254915913329])\n",
    "pos_CH3.sort()\n",
    "print(pos_OH)\n",
    "print(pos_CH3)"
   ]
  },
  {
   "cell_type": "code",
   "execution_count": null,
   "metadata": {},
   "outputs": [],
   "source": [
    "1/pos_OH"
   ]
  },
  {
   "cell_type": "code",
   "execution_count": null,
   "metadata": {},
   "outputs": [],
   "source": []
  },
  {
   "cell_type": "code",
   "execution_count": null,
   "metadata": {},
   "outputs": [],
   "source": [
    "dE = (ae_OH - ae_CH3)\n",
    "dE.sort()\n",
    "dE"
   ]
  },
  {
   "cell_type": "code",
   "execution_count": null,
   "metadata": {},
   "outputs": [],
   "source": [
    "plt.rcParams['font.size'] = 25\n",
    "\n",
    "plt.plot(1/((0.5*(pos_OH+pos_CH3))), dE, '-o')\n",
    "\n",
    "plt.xlabel(r'$\\frac{1}{R_{JO}}$')\n",
    "plt.ylabel(r'$\\Delta E_I$')"
   ]
  },
  {
   "cell_type": "markdown",
   "metadata": {},
   "source": [
    "### Rotation of molecules\n",
    "Rotate the molecules such that the plane formed by the heteroatom and the closest carbon atoms connected to it (at least if not the whole heavy atom framwork) lie in the x-y plane. Then shift the molecules such that the carbon atom closest to the heteroatom sits on a grid point of the electron density grid."
   ]
  },
  {
   "cell_type": "code",
   "execution_count": null,
   "metadata": {
    "jupyter": {
     "source_hidden": true
    }
   },
   "outputs": [],
   "source": [
    "import sys\n",
    "sys.path.insert(0, '/home/misa/git_repositories/APDFT/prototyping/atomic_energies/')\n",
    "\n",
    "import explore_qml_data as eqd\n",
    "import analyse_atomic_data as aad\n",
    "import qml_interface as qmi\n",
    "from parse_density_files import CUBE\n",
    "import alchemy_tools2 as at\n",
    "\n",
    "import numpy as np\n",
    "import ase.units\n",
    "import os\n",
    "import pandas as pd\n",
    "import qml\n",
    "from matplotlib import pyplot as plt\n",
    "\n",
    "from rdkit import Chem\n",
    "from rdkit.Chem.Draw import IPythonConsole\n",
    "from IPython.display import SVG"
   ]
  },
  {
   "cell_type": "code",
   "execution_count": null,
   "metadata": {
    "jupyter": {
     "source_hidden": true
    }
   },
   "outputs": [],
   "source": [
    "rot_z = lambda alpha: np.array([[np.cos(alpha), -np.sin(alpha), 0], [np.sin(alpha), np.cos(alpha), 0], [0, 0, 1]])\n",
    "rot_x = lambda alpha: np.array([[1, 0, 0], [0, np.cos(alpha), -np.sin(alpha)], [0, np.sin(alpha), np.cos(alpha)]])\n",
    "\n",
    "def get_rotation_matrix(a, b, c):\n",
    "    \"\"\"\n",
    "    rotation matrix such that plane formed by a, b, c is in orthogonal to z-axis\n",
    "    \"\"\"\n",
    "    v1 = a - b\n",
    "    v2 = a -c\n",
    "    \n",
    "    # normal vector of plane through O, C1, C2\n",
    "    n = np.cross(v1, v2)/np.linalg.norm(np.cross(v1, v2))\n",
    "    z = np.array([0,0,1])\n",
    "\n",
    "    # normal vector should be parallel to unit vector along z-axix\n",
    "\n",
    "    # align with y-axis (rotate around z-axis)\n",
    "    n_xy = n.copy() # projection of n on x-y-plane\n",
    "    n_xy[2] = 0.0\n",
    "    n_xy = n_xy/np.linalg.norm(n_xy)\n",
    "    y = np.array([0,1,0])\n",
    "    angle_ny = np.arccos(np.dot(n_xy, y))\n",
    "\n",
    "    n_y = (rot_z(angle_ny)@(n.T)).T # lying in z-y plane\n",
    "    n_y = n_y/np.linalg.norm(n_y)\n",
    "\n",
    "    # align with z-axis\n",
    "    z = np.array([0,0,1])\n",
    "    angle_z = np.arccos(np.dot(n_y, z))\n",
    "    n_rotated = (rot_x(angle_z)@(n_y.T)).T # lying in z-y plane\n",
    "\n",
    "    rotation_matrix = rot_x(angle_z)@rot_z(angle_ny)\n",
    "    \n",
    "    return(rotation_matrix)"
   ]
  },
  {
   "cell_type": "code",
   "execution_count": null,
   "metadata": {
    "jupyter": {
     "source_hidden": true
    }
   },
   "outputs": [],
   "source": [
    "cube = CUBE('/home/misa/APDFT/prototyping/atomic_energies/results/slice_ve38/dsgdb9nsd_000274/cube-files/ve_38.cube')"
   ]
  },
  {
   "cell_type": "code",
   "execution_count": null,
   "metadata": {
    "jupyter": {
     "source_hidden": true
    }
   },
   "outputs": [],
   "source": [
    "data_OH = np.loadtxt('/home/misa/APDFT/prototyping/atomic_energies/results/slice_ve38/dsgdb9nsd_000272/atomic_energies_with_mic.txt')\n",
    "data_CH3 = np.loadtxt('/home/misa/APDFT/prototyping/atomic_energies/results/slice_ve38/dsgdb9nsd_000274/atomic_energies_with_mic.txt')\n",
    "mol = data_CH3\n",
    "coords = mol[:,1:4]*ase.units.Bohr\n",
    "\n",
    "#mol = qml.Compound(xyz='/home/misa/datasets/qm9/dsgdb9nsd_000930.xyz')\n",
    "#mol = qml.Compound(xyz='/home/misa/datasets/qm9/dsgdb9nsd_000949.xyz')\n",
    "\n",
    "#coords = mol.coordinates\n"
   ]
  },
  {
   "cell_type": "code",
   "execution_count": null,
   "metadata": {
    "jupyter": {
     "source_hidden": true
    }
   },
   "outputs": [],
   "source": [
    "rotation_matrix = get_rotation_matrix(coords[0], coords[1], coords[2])\n",
    "coords_rotated = (rotation_matrix@coords.T).T\n",
    "coords_rotated = coords_rotated + np.array([8, 24, 20])"
   ]
  },
  {
   "cell_type": "code",
   "execution_count": null,
   "metadata": {
    "jupyter": {
     "source_hidden": true
    }
   },
   "outputs": [],
   "source": [
    "coords_rotated"
   ]
  },
  {
   "cell_type": "code",
   "execution_count": null,
   "metadata": {
    "jupyter": {
     "source_hidden": true
    }
   },
   "outputs": [],
   "source": [
    "grid = np.array(cube.get_grid())*ase.units.Bohr\n",
    "\n",
    "dist = []\n",
    "for g, c in zip(grid, coords_rotated[4]):\n",
    "    dist.append(g.flatten()-c)\n",
    "#grid[0].shape\n",
    "dist = np.array(dist)"
   ]
  },
  {
   "cell_type": "code",
   "execution_count": null,
   "metadata": {
    "jupyter": {
     "source_hidden": true
    }
   },
   "outputs": [],
   "source": [
    "dist2 = np.reshape(np.sqrt((dist*dist).sum(axis=0)), (175, 175, 175))\n",
    "np.where(dist2 == np.amin(dist2))"
   ]
  },
  {
   "cell_type": "code",
   "execution_count": null,
   "metadata": {
    "jupyter": {
     "source_hidden": true
    }
   },
   "outputs": [],
   "source": [
    "dist2[np.where(dist2 == np.amin(dist2))]"
   ]
  },
  {
   "cell_type": "code",
   "execution_count": null,
   "metadata": {
    "jupyter": {
     "source_hidden": true
    }
   },
   "outputs": [],
   "source": [
    "shift = np.array([grid[0][np.where(dist2 == np.amin(dist2))][0], grid[1][np.where(dist2 == np.amin(dist2))][0], grid[2][np.where(dist2 == np.amin(dist2))][0]]) - coords_rotated[4]"
   ]
  },
  {
   "cell_type": "code",
   "execution_count": null,
   "metadata": {
    "jupyter": {
     "source_hidden": true
    }
   },
   "outputs": [],
   "source": [
    "new_coords = (coords_rotated + shift)"
   ]
  },
  {
   "cell_type": "code",
   "execution_count": null,
   "metadata": {
    "jupyter": {
     "source_hidden": true
    }
   },
   "outputs": [],
   "source": [
    "sys.path.insert(0, '/home/misa/git_repositories/APDFT/prototyping/atomic_energies/hitp')\n",
    "\n",
    "import prepare_calculations"
   ]
  },
  {
   "cell_type": "code",
   "execution_count": null,
   "metadata": {
    "jupyter": {
     "source_hidden": true
    }
   },
   "outputs": [],
   "source": [
    "selected_molecules = ['/home/misa/datasets/qm9/dsgdb9nsd_000949.xyz']\n",
    "for s in selected_molecules:\n",
    "    path_to_xyz = s#'/home/misa/datasets/qm9/dsgdb9nsd_000930.xyz'\n",
    "    compound = s.split('.')[0].split('/')[-1]\n",
    "    compound_path = f'/home/misa/projects/Atomic-Energies/data/ueg_reference/density_slices/{compound}/'\n",
    "    lambda_values = np.array([0.2, 0.4, 0.6, 0.8, 1.0])\n",
    "\n",
    "    comp = qml.Compound(xyz=path_to_xyz)\n",
    "    atomsymbols = comp.atomtypes\n",
    "    nuc_charges = comp.nuclear_charges\n",
    "\n",
    "    # calculation parameters (independent of lambda value)\n",
    "    num_ve = eqd.get_num_val_elec(nuc_charges) # get number of ve\n",
    "    boxsize = prepare_calculations.get_boxsize(num_ve) # get boxsize\n",
    "    num_gpts_lower, num_gpts_higher = prepare_calculations.get_gpts(num_ve) # get gridpoints\n",
    "    num_gpts = num_gpts_higher\n",
    "\n",
    "    # shift molecule to center of the box\n",
    "    #coords_initial = comp.coordinates\n",
    "    coords = new_coords #eqd.shift2center(coords_initial, np.array([boxsize, boxsize, boxsize])/2)\n",
    "\n",
    "    # get correct lambda value\n",
    "    for lam_val in lambda_values:\n",
    "        new_lambda, scaled_ve = prepare_calculations.get_lambda(lam_val, num_ve)\n",
    "        # scaled_ve is number of electrons added from pseudopotential file, the remaining electrons must be added in form of a negative charge\n",
    "        charge = scaled_ve - num_ve # write input\n",
    "\n",
    "        # create directory if necessary\n",
    "        if scaled_ve < 10:\n",
    "            scaled_ve_str = '0'+str(scaled_ve)\n",
    "        else:\n",
    "            scaled_ve_str = str(scaled_ve)\n",
    "        work_dir = os.path.join(compound_path, f've_{scaled_ve_str}/')\n",
    "        os.makedirs(work_dir, exist_ok=True)\n",
    "\n",
    "        # generate input file\n",
    "        input_path = os.path.join(work_dir, 'run.inp')\n",
    "        prepare_calculations.write_input(atomsymbols, charge, coords, num_gpts, boxsize, input_path, '/home/misa/projects/Atomic-Energies/data/cpmd_params_template.inp', debug = False)\n",
    "\n",
    "        # generate pp-files\n",
    "        prepare_calculations.write_pp_files_compound(comp, new_lambda, work_dir, pp_dir='/home/misa/software/PP_LIBRARY/', pp_type='_SG_LDA')"
   ]
  },
  {
   "cell_type": "markdown",
   "metadata": {},
   "source": [
    "### Analyse effect of heteroatom on the atomic properties"
   ]
  },
  {
   "cell_type": "code",
   "execution_count": null,
   "metadata": {},
   "outputs": [],
   "source": [
    "import sys\n",
    "sys.path.insert(0, '/home/misa/git_repositories/APDFT/prototyping/atomic_energies/')\n",
    "\n",
    "import explore_qml_data as eqd\n",
    "import analyse_atomic_data as aad\n",
    "import qml_interface as qmi\n",
    "from parse_density_files import CUBE\n",
    "import alchemy_tools2 as at\n",
    "import utils_qm as uqm\n",
    "\n",
    "import numpy as np\n",
    "import ase.units\n",
    "import os\n",
    "import glob\n",
    "import pandas as pd\n",
    "import qml\n",
    "from matplotlib import pyplot as plt\n",
    "\n",
    "from rdkit import Chem\n",
    "from rdkit.Chem.Draw import IPythonConsole\n",
    "from IPython.display import SVG"
   ]
  },
  {
   "cell_type": "code",
   "execution_count": null,
   "metadata": {},
   "outputs": [],
   "source": [
    "def calculate_integrand_I(pos_nuc, density, meshgrid, h_matrix):\n",
    "    distance_nuc_grid = at.distance_MIC2(pos_nuc, meshgrid, h_matrix) # calculate distance of gpts to nucleus with MIC\n",
    "    return(-density/distance_nuc_grid)\n",
    "\n",
    "def find_plane(z_pos, grid):\n",
    "    #assert np.where(np.isclose(grid[2][0][0], z_pos))[0].shape[0] == 1\n",
    "    #z_index = np.where(np.isclose(grid[2][0][0], z_pos))[0][0]\n",
    "    \n",
    "    z_index = np.where(np.abs(grid[2][0][0] - z_pos) == np.amin(np.abs(grid[2][0][0] - z_pos)))[0][0]\n",
    "    return(z_index)\n",
    "\n",
    "def get_integrands(cube_38, density, hetero_pos, num_heavy_atoms):\n",
    "    \"\"\"\n",
    "    returns \\tilde{rho}/|r - R_I| for all heavy atoms as a dictionary, keys are sorted by increasing distance to heteroatom\n",
    "    \"\"\"\n",
    "    atoms = []\n",
    "    for i in range(num_heavy_atoms):\n",
    "        dist_X = np.linalg.norm(cube_38.atoms[hetero_pos][1:4] - cube_38.atoms[i][1:4])\n",
    "        atoms.append([dist_X, cube_38.atoms[i][1:4]])\n",
    "        atoms.sort()\n",
    "        keys = ['X'] + [f'C{i}' for i in range(1, num_heavy_atoms)]\n",
    "        integrand_dict = dict(zip(keys, atoms))\n",
    "\n",
    "        h_matrix = np.array([cube_38.X*cube_38.NX, cube_38.Y*cube_38.NY, cube_38.Z*cube_38.NZ])#*ase.units.Bohr\n",
    "        meshgrid = cube_38.get_grid()\n",
    "        for k in integrand_dict.keys():\n",
    "            pos_nuc = integrand_dict[k][1]\n",
    "            integrand = calculate_integrand_I(pos_nuc, density, meshgrid, h_matrix)\n",
    "            integrand_dict[k].append(integrand)\n",
    "    return(integrand_dict)\n",
    "\n",
    "def load_data(paths):\n",
    "    \"\"\"\n",
    "    paths: paths to cube files in increasing order in lambda\n",
    "    load cube files\n",
    "    \"\"\"\n",
    "    cube_0 = CUBE('/home/misa/APDFT/prototyping/atomic_energies/results/slice_ve38/ueg/ve_00.cube')\n",
    "    mean = (cube_0.data_scaled).mean()\n",
    "    cube_0.data_scaled[:] = mean\n",
    "\n",
    "    cube_8 = CUBE(paths[0])\n",
    "    cube_15 = CUBE(paths[1])\n",
    "    cube_23 = CUBE(paths[2])\n",
    "    cube_30 = CUBE(paths[3])\n",
    "    cube_38 = CUBE(paths[4])\n",
    "\n",
    "    densities = [cube_0.data_scaled, cube_8.data_scaled, cube_15.data_scaled, cube_23.data_scaled, cube_30.data_scaled, cube_38.data_scaled]\n",
    "    lam_vals = np.array([0, 8, 15, 23, 30, 38])/38\n",
    "    return(cube_38, densities, lam_vals)"
   ]
  },
  {
   "cell_type": "markdown",
   "metadata": {},
   "source": [
    "### Determine parameters"
   ]
  },
  {
   "cell_type": "code",
   "execution_count": null,
   "metadata": {},
   "outputs": [],
   "source": [
    "#cube_38 = CUBE('/home/misa/APDFT/prototyping/atomic_energies/results/slice_ve38/dsgdb9nsd_000272/cube-files/ve_38.cube')\n",
    "\n",
    "cube_38 = CUBE('/home/misa/projects/Atomic-Energies/data/ueg_reference/effect_heteroatoms/dsgdb9nsd_000949/cube-files/ve_36.cube')"
   ]
  },
  {
   "cell_type": "code",
   "execution_count": null,
   "metadata": {},
   "outputs": [],
   "source": [
    "print(len(cube_38.atoms), '\\n')\n",
    "for atom in cube_38.atoms:\n",
    "    if atom[0] == 1:\n",
    "        element = 'H'\n",
    "    elif atom[0] == 6:\n",
    "        element = 'C'\n",
    "    elif atom[0] == 7:\n",
    "        element = 'N'\n",
    "    elif atom[0] == 8:\n",
    "        element = 'O'\n",
    "    print(f'{element}\\t{atom[1]*ase.units.Bohr}\\t{atom[2]*ase.units.Bohr}\\t{atom[3]*ase.units.Bohr}')"
   ]
  },
  {
   "cell_type": "code",
   "execution_count": null,
   "metadata": {},
   "outputs": [],
   "source": [
    "# define input parameters\n",
    "par_dsgdb9nsd_000274 = {'hetero_pos': 0, 'index': 1, 'num_heavy_atoms': 6, 'save_dir':'/home/misa/projects/Atomic-Energies/data/ueg_reference/effect_heteroatoms/dsgdb9nsd_000274'}\n",
    "par_dsgdb9nsd_000272 = {'hetero_pos': 5, 'index': 4, 'num_heavy_atoms': 6, 'save_dir':'/home/misa/projects/Atomic-Energies/data/ueg_reference/effect_heteroatoms/dsgdb9nsd_000272'}\n",
    "par_dsgdb9nsd_000930 = {'hetero_pos': 0, 'index': 1, 'num_heavy_atoms': 7, 'save_dir':'/home/misa/projects/Atomic-Energies/data/ueg_reference/effect_heteroatoms/dsgdb9nsd_000930'}\n",
    "par_dsgdb9nsd_000940 = {'hetero_pos': 0, 'index': 1, 'num_heavy_atoms': 7, 'save_dir':'/home/misa/projects/Atomic-Energies/data/ueg_reference/effect_heteroatoms/dsgdb9nsd_000940'}\n",
    "par_dsgdb9nsd_000949 = {'hetero_pos': 0, 'index': 1, 'num_heavy_atoms': 7, 'save_dir':'/home/misa/projects/Atomic-Energies/data/ueg_reference/effect_heteroatoms/dsgdb9nsd_000949'}\n",
    "\n",
    "\n",
    "par = par_dsgdb9nsd_000949\n",
    "paths = glob.glob(os.path.join(par['save_dir'], 'cube-files/*'))\n",
    "paths.sort()\n",
    "hetero_pos = par['hetero_pos']\n",
    "index = par['index']\n",
    "num_heavy_atoms = par['num_heavy_atoms']\n",
    "\n",
    "# load data\n",
    "print('Loading data...', flush = True)\n",
    "cube_38, densities, lam_vals = load_data(paths)\n",
    "\n",
    "# density at lambda = 1\n",
    "rho = densities[-1]\n",
    "# lambda averaged density\n",
    "rho_tilde = at.integrate_lambda_density(densities, lam_vals)\n",
    "\n",
    "# integrand \\tilde{\\rho}/|r - R_I|\n",
    "print('Calculating integrand...', flush = True)\n",
    "\n",
    "integrand_dict = get_integrands(cube_38, rho_tilde, hetero_pos, num_heavy_atoms)\n",
    "#uqm.save_obj(integrand_dict, '/home/misa/projects/Atomic-Energies/data/ueg_reference/effect_heteroatoms/dsgdb9nsd_000274/coords')\n",
    "print('Done', flush = True)\n",
    "\n",
    "# find plane in which carbon atoms\n",
    "z_pos = cube_38.atoms[index][3]\n",
    "grid = cube_38.get_grid()\n",
    "z_index = find_plane(z_pos, grid)\n",
    "\n",
    "# select slices\n",
    "rho_slice = rho[:,:,z_index]\n",
    "rho_tilde_slice = rho_tilde[:,:,z_index]\n",
    "integrand_slices = dict()\n",
    "for k in integrand_dict.keys():\n",
    "    integrand_slices[k] = integrand_dict[k][2][:,:,z_index] # slice of \\tilde{\\rho}/|r - R_I|\n",
    "    \n",
    "# save data\n",
    "np.save(os.path.join(par['save_dir'], 'rho_slice'), rho_slice)\n",
    "np.save(os.path.join(par['save_dir'], 'rho_tilde_slice'), rho_tilde_slice)\n",
    "for k in integrand_slices.keys():\n",
    "    arr = integrand_slices[k]\n",
    "    np.save(os.path.join(par['save_dir'], f'{k}_integrand_slice'), arr)\n",
    "    \n",
    "print('All Done', flush = True)"
   ]
  },
  {
   "cell_type": "markdown",
   "metadata": {},
   "source": [
    "### Plot results"
   ]
  },
  {
   "cell_type": "code",
   "execution_count": 6,
   "metadata": {},
   "outputs": [],
   "source": [
    "import sys\n",
    "sys.path.insert(0, '/home/misa/git_repositories/APDFT/prototyping/atomic_energies/')\n",
    "\n",
    "import numpy as np\n",
    "from matplotlib import pyplot as plt\n",
    "import utils_qm as uqm\n",
    "import ase.units\n",
    "\n",
    "import glob\n",
    "import os"
   ]
  },
  {
   "cell_type": "code",
   "execution_count": 2,
   "metadata": {},
   "outputs": [],
   "source": [
    "def plot_rho(rho, coords, xlims, ylims):\n",
    "    plt.rcParams['font.size'] = 20\n",
    "    x = np.linspace(0, 20, 175)\n",
    "    plt.contour(x, x, rho)\n",
    "    plt.ylim(ylims)\n",
    "    plt.xlim(xlims)\n",
    "    for k in coords.keys():\n",
    "        x_coord = coords[k][1][0]*ase.units.Bohr\n",
    "        y_coord = coords[k][1][1]*ase.units.Bohr\n",
    "        plt.scatter(y_coord, x_coord, s = 20, color='tab:red')\n",
    "    plt.xlabel('y (Ang)')\n",
    "    plt.ylabel('x (Ang)')\n",
    "    \n",
    "def load_results(path):\n",
    "\n",
    "    integr_paths = glob.glob(os.path.join(path, 'C*_integrand_slice.npy'))\n",
    "    integr_paths.sort()\n",
    "    integrands = []\n",
    "    keys = []\n",
    "    for p in integr_paths:\n",
    "        keys.append(p.split('/')[-1].split('_')[0])\n",
    "        integrands.append(np.load(p))\n",
    "    \n",
    "    results = dict(zip(keys, integrands))\n",
    "    \n",
    "    rho = np.load(os.path.join(path, 'rho_slice.npy'))\n",
    "    rho_tilde = np.load(os.path.join(path, 'rho_tilde_slice.npy'))\n",
    "    results['rho'] = rho\n",
    "    results['rho_tilde'] = rho_tilde\n",
    "    \n",
    "    return(results)"
   ]
  },
  {
   "cell_type": "code",
   "execution_count": 7,
   "metadata": {},
   "outputs": [],
   "source": [
    "rho_272 = np.load('/home/misa/projects/Atomic-Energies/data/ueg_reference/effect_heteroatoms/dsgdb9nsd_000272/rho_slice.npy')\n",
    "rho_tilde_272 = np.load('/home/misa/projects/Atomic-Energies/data/ueg_reference/effect_heteroatoms/dsgdb9nsd_000272/rho_tilde_slice.npy')\n",
    "C1_272 = np.load('/home/misa/projects/Atomic-Energies/data/ueg_reference/effect_heteroatoms/dsgdb9nsd_000272/C1_integrand_slice.npy')\n",
    "C2_272 = np.load('/home/misa/projects/Atomic-Energies/data/ueg_reference/effect_heteroatoms/dsgdb9nsd_000272/C2_integrand_slice.npy')\n",
    "C3_272 = np.load('/home/misa/projects/Atomic-Energies/data/ueg_reference/effect_heteroatoms/dsgdb9nsd_000272/C3_integrand_slice.npy')\n",
    "C4_272 = np.load('/home/misa/projects/Atomic-Energies/data/ueg_reference/effect_heteroatoms/dsgdb9nsd_000272/C4_integrand_slice.npy')\n",
    "C5_272 = np.load('/home/misa/projects/Atomic-Energies/data/ueg_reference/effect_heteroatoms/dsgdb9nsd_000272/C5_integrand_slice.npy')\n",
    "\n",
    "coords_272 = uqm.load_obj('/home/misa/projects/Atomic-Energies/data/ueg_reference/effect_heteroatoms/dsgdb9nsd_000272/coords')\n",
    "\n",
    "rho_274 = np.load('/home/misa/projects/Atomic-Energies/data/ueg_reference/effect_heteroatoms/dsgdb9nsd_000274/rho_slice.npy')\n",
    "rho_tilde_274 = np.load('/home/misa/projects/Atomic-Energies/data/ueg_reference/effect_heteroatoms/dsgdb9nsd_000274/rho_tilde_slice.npy')\n",
    "C1_274 = np.load('/home/misa/projects/Atomic-Energies/data/ueg_reference/effect_heteroatoms/dsgdb9nsd_000274/C1_integrand_slice.npy')\n",
    "C2_274 = np.load('/home/misa/projects/Atomic-Energies/data/ueg_reference/effect_heteroatoms/dsgdb9nsd_000274/C2_integrand_slice.npy')\n",
    "C3_274 = np.load('/home/misa/projects/Atomic-Energies/data/ueg_reference/effect_heteroatoms/dsgdb9nsd_000274/C3_integrand_slice.npy')\n",
    "C4_274 = np.load('/home/misa/projects/Atomic-Energies/data/ueg_reference/effect_heteroatoms/dsgdb9nsd_000274/C4_integrand_slice.npy')\n",
    "C5_274 = np.load('/home/misa/projects/Atomic-Energies/data/ueg_reference/effect_heteroatoms/dsgdb9nsd_000274/C5_integrand_slice.npy')\n",
    "\n",
    "coords_274 = uqm.load_obj('/home/misa/projects/Atomic-Energies/data/ueg_reference/effect_heteroatoms/dsgdb9nsd_000274/coords')\n",
    "\n",
    "results_930 = load_results('/home/misa/projects/Atomic-Energies/data/ueg_reference/effect_heteroatoms/dsgdb9nsd_000930')"
   ]
  },
  {
   "cell_type": "code",
   "execution_count": null,
   "metadata": {},
   "outputs": [],
   "source": [
    "plot_rho(rho_272, coords_272, [6, 14], [9, 12.5])"
   ]
  },
  {
   "cell_type": "code",
   "execution_count": null,
   "metadata": {},
   "outputs": [],
   "source": [
    "plot_rho(rho_274, coords_274, [6, 14.5], [7.5, 12.5])"
   ]
  },
  {
   "cell_type": "code",
   "execution_count": 8,
   "metadata": {},
   "outputs": [
    {
     "data": {
      "text/plain": [
       "array([[2.02084732e-12, 2.02218335e-12, 2.33157073e-12, ...,\n",
       "        2.10559007e-12, 2.15330558e-12, 2.14109041e-12],\n",
       "       [1.73674917e-12, 1.94364362e-12, 2.31009875e-12, ...,\n",
       "        1.41915473e-12, 1.48901023e-12, 1.60810815e-12],\n",
       "       [1.46038093e-12, 2.09948248e-12, 2.60393086e-12, ...,\n",
       "        5.57078590e-13, 6.60373128e-13, 9.29650843e-13],\n",
       "       ...,\n",
       "       [3.53896402e-12, 3.43389446e-12, 3.30830724e-12, ...,\n",
       "        3.69642520e-12, 3.75960054e-12, 3.64078892e-12],\n",
       "       [3.16430182e-12, 3.12107157e-12, 3.15991200e-12, ...,\n",
       "        3.19102251e-12, 3.37329576e-12, 3.28731241e-12],\n",
       "       [2.50783182e-12, 2.46402899e-12, 2.69392232e-12, ...,\n",
       "        2.66414784e-12, 2.76606817e-12, 2.68113456e-12]])"
      ]
     },
     "execution_count": 8,
     "metadata": {},
     "output_type": "execute_result"
    }
   ],
   "source": [
    "plot_rho(results_930['rho']"
   ]
  },
  {
   "cell_type": "code",
   "execution_count": null,
   "metadata": {},
   "outputs": [],
   "source": [
    "plot_rho(rho_tilde_272, coords_272, [6, 14], [9, 12.5])"
   ]
  },
  {
   "cell_type": "code",
   "execution_count": null,
   "metadata": {},
   "outputs": [],
   "source": [
    "plot_rho(rho_tilde_274, coords_274, [6, 14.5], [7.5, 12.5])"
   ]
  },
  {
   "cell_type": "code",
   "execution_count": null,
   "metadata": {},
   "outputs": [],
   "source": [
    "C1_272[np.where(C1_272 == np.amin(C1_272) )]\n",
    "C1_272[np.where(C1_272 == np.amin(C1_272) )] = np.amin(C1_272[np.where(C1_272 > np.amin(C1_272) )])\n",
    "plot_rho(C1_272, coords_272, [6, 14], [9, 12.5])"
   ]
  },
  {
   "cell_type": "code",
   "execution_count": null,
   "metadata": {},
   "outputs": [],
   "source": [
    "plot_rho(C5_272, coords_272, [6, 14], [9, 12.5])"
   ]
  },
  {
   "cell_type": "code",
   "execution_count": null,
   "metadata": {},
   "outputs": [],
   "source": [
    "C1_274[np.where(C1_274 == np.amin(C1_274) )]\n",
    "C1_274[np.where(C1_274 == np.amin(C1_274) )] = np.amin(C1_274[np.where(C1_274 > np.amin(C1_274) )])\n",
    "plot_rho(C1_274, coords_274, [6, 14.5], [7.5, 12.5])"
   ]
  },
  {
   "cell_type": "code",
   "execution_count": null,
   "metadata": {},
   "outputs": [],
   "source": [
    "plot_rho(C3_274, coords_274, [6, 14.5], [7.5, 12.5])"
   ]
  },
  {
   "cell_type": "code",
   "execution_count": null,
   "metadata": {},
   "outputs": [],
   "source": [
    "cube_38_b.atoms[0][1]*ase.units.Bohr"
   ]
  },
  {
   "cell_type": "code",
   "execution_count": null,
   "metadata": {},
   "outputs": [],
   "source": [
    "# get coordinates of nuclei\n",
    "cube_38_b.atoms[0][2]*ase.units.Bohr"
   ]
  },
  {
   "cell_type": "code",
   "execution_count": null,
   "metadata": {},
   "outputs": [],
   "source": []
  },
  {
   "cell_type": "code",
   "execution_count": null,
   "metadata": {},
   "outputs": [],
   "source": []
  },
  {
   "cell_type": "code",
   "execution_count": null,
   "metadata": {},
   "outputs": [],
   "source": [
    "# level_max = np.amax(density_slice)\n",
    "# level_min = np.amin(density_slice)\n",
    "# levels = np.geomspace(level_min, level_max, 50)\n",
    "# x = np.linspace(0, 20, 175)\n",
    "# plt.contour(x, x, density_slice)\n",
    "# for i in range(6):\n",
    "#     x_coord = cube_272.atoms[i][1]*ase.units.Bohr\n",
    "#     y_coord = cube_272.atoms[i][2]*ase.units.Bohr\n",
    "#     plt.scatter(y_coord, x_coord, s = 5, color='red')"
   ]
  },
  {
   "cell_type": "code",
   "execution_count": null,
   "metadata": {},
   "outputs": [],
   "source": [
    "#np.amax(np.abs(cube_272.data_scaled[:,:,102]))"
   ]
  },
  {
   "cell_type": "code",
   "execution_count": null,
   "metadata": {},
   "outputs": [],
   "source": []
  },
  {
   "cell_type": "code",
   "execution_count": null,
   "metadata": {},
   "outputs": [],
   "source": [
    "def get_integrals_box(density, gpts, nuclei, radii):\n",
    "    \"\"\"\n",
    "    return value of integrals for different vdW for one boxsize\n",
    "    \"\"\"\n",
    "    estat_int = []\n",
    "    for r in radii:\n",
    "        estat_int.append( get_integral_radius(density, gpts, nuclei, r) )\n",
    "    return(np.array(estat_int))\n",
    "        \n",
    "def get_integral_radius(density, gpts, nuclei, radius):\n",
    "    \"\"\"\n",
    "    return value of integral for one multiple of the vdW radii\n",
    "    \"\"\"\n",
    "    \n",
    "    # set density to zero outside of integration radius\n",
    "    density_bound = generate_bound_density(density, nuclei, radius, gpts)\n",
    "\n",
    "    # calculate integral for new density\n",
    "    estat_int = at.calculate_atomic_energies(density_bound, nuclei, gpts, h_matrix)\n",
    "    \n",
    "    return(estat_int)\n",
    "    \n",
    "def generate_bound_density(density, nuclei, radius, gpts):\n",
    "    # reshape into vectors\n",
    "    density_flattened = density.flatten()\n",
    "    gpts_flattened = at.meshgrid2vector(gpts)\n",
    "    \n",
    "    # get density grid points lying within the weighted vdW radii\n",
    "    all_idc_in = get_all_idc_in(nuclei, radius, gpts_flattened)\n",
    "    # get indices of all gridpoints as flattened 1D-array\n",
    "    all_idc = np.arange(len(density_flattened))\n",
    "     # get density grid points lying out of the weighted vdW radii\n",
    "    all_idc_out = at.get_all_idc_out(all_idc_in, all_idc)\n",
    "    \n",
    "    # set density out of weighted vdW radii to zero\n",
    "    density_flattened[all_idc_out] = 0.0\n",
    "    # reshape flattened density to grid\n",
    "    density_bound = density_flattened.reshape((density.shape))\n",
    "    return(density_bound)\n",
    "        \n",
    "def get_all_idc_in(nuclei, radius, gpts_flattened):\n",
    "    all_idc_in = []\n",
    "    for n in nuclei:\n",
    "        #r_vdW = lookup_vdW(n[0])\n",
    "        all_idc_in.append(at.get_idc_rvdW(np.array([n[1:4]]), radius, gpts_flattened))\n",
    "    return(all_idc_in)\n",
    "   \n",
    "from ase.units import Bohr\n",
    "def lookup_vdW(Z, unit = 'Bohr'):\n",
    "    \"\"\"\n",
    "    return van der Waals radius for element\n",
    "    from Bondi J. Phys. Chem 68, 1964\n",
    "    \"\"\"\n",
    "    \n",
    "    if Z == 1:\n",
    "        r_w = 1.2\n",
    "    elif Z == 6:\n",
    "        r_w = 1.7\n",
    "    elif Z == 7:\n",
    "        r_w = 1.55\n",
    "    elif Z == 8:\n",
    "        r_w = 1.52\n",
    "    else:\n",
    "        raise Exception(\"r_w not implemented for Z = {}\".format(Z))\n",
    "        \n",
    "    if unit == 'Bohr':\n",
    "        r_w /= Bohr\n",
    "    return(r_w)\n",
    "\n",
    "def get_radial_props(atoms, density, gpts, radii):\n",
    "    dens_sum = []\n",
    "    for r in radii:\n",
    "        tmp = []\n",
    "        for n in atoms*ase.units.Bohr:\n",
    "            dens = generate_bound_density(density, [n], r, gpts)\n",
    "            tmp.append(dens.sum())\n",
    "        dens_sum.append(tmp)\n",
    "    dens_sum = np.array(dens_sum)\n",
    "    return(dens_sum)"
   ]
  },
  {
   "cell_type": "code",
   "execution_count": null,
   "metadata": {},
   "outputs": [],
   "source": [
    "# nucleus3 = cube_272.atoms[0]*ase.units.Bohr\n",
    "# nucleus3 = cube_272.atoms[1]*ase.units.Bohr\n",
    "# nucleus3 = cube_272.atoms[2]*ase.units.Bohr\n",
    "# nucleus3 = cube_272.atoms[3]*ase.units.Bohr\n",
    "# nucleus4 = cube_272.atoms[4]*ase.units.Bohr\n",
    "# nucleus5 = cube_272.atoms[5]*ase.units.Bohr\n",
    "\n",
    "radii = np.linspace(0, 10, 15)\n",
    "\n",
    "#rho_272 = cube_272.data_scaled\n",
    "gpts = cube_38.get_grid()\n",
    "for i, g in enumerate(gpts):\n",
    "    tmp = g*ase.units.Bohr\n",
    "    gpts[i] = tmp\n",
    "\n",
    "densr = get_radial_props(cube_38.atoms[:6], cube_38.data_scaled, gpts, radii)\n",
    "densrt = get_radial_props(cube_38.atoms[:6], rho_tilde, gpts, radii)\n",
    "\n",
    "radii = np.linspace(0, 20, 15)/ase.units.Bohr\n",
    "\n",
    "integrand = get_integrand(cube_38.atoms[:6], rho_tilde, cube_38.get_grid(), radii, h_matrix)"
   ]
  },
  {
   "cell_type": "code",
   "execution_count": null,
   "metadata": {},
   "outputs": [],
   "source": [
    "np.save('/home/misa/projects/Atomic-Energies/data/ueg_reference/atomic_properties/densr_000274.npy', densr)\n",
    "np.save('/home/misa/projects/Atomic-Energies/data/ueg_reference/atomic_properties/denstr_000274.npy', densrt)\n",
    "np.save('/home/misa/projects/Atomic-Energies/data/ueg_reference/atomic_properties/integrand_000274.npy', integrand)"
   ]
  },
  {
   "cell_type": "code",
   "execution_count": null,
   "metadata": {},
   "outputs": [],
   "source": [
    "d272 = np.load('/home/misa/projects/Atomic-Energies/data/ueg_reference/atomic_properties/rho_000272.npy')\n",
    "d272t = np.load('/home/misa/projects/Atomic-Energies/data/ueg_reference/atomic_properties/rho_tilde_000272.npy')\n",
    "d272int = np.load('/home/misa/projects/Atomic-Energies/data/ueg_reference/atomic_properties/integrand_000272.npy')\n",
    "\n",
    "d274 = np.load('/home/misa/projects/Atomic-Energies/data/ueg_reference/atomic_properties/densr_000274.npy')\n",
    "d274t = np.load('/home/misa/projects/Atomic-Energies/data/ueg_reference/atomic_properties/denstr_000274.npy')\n",
    "d274int = np.load('/home/misa/projects/Atomic-Energies/data/ueg_reference/atomic_properties/integrand_000274.npy')\n",
    "\n"
   ]
  },
  {
   "cell_type": "code",
   "execution_count": null,
   "metadata": {},
   "outputs": [],
   "source": [
    "for i, l in zip(range(d272.shape[1]-1), [0,1,2,3,4]):\n",
    "    plt.plot(radii[:-4], d272[:-4, i], label=l)\n",
    "plt.legend()"
   ]
  },
  {
   "cell_type": "code",
   "execution_count": null,
   "metadata": {},
   "outputs": [],
   "source": [
    "for i in range(d272t.shape[1]-1):\n",
    "    plt.plot(radii[:], d272t[:, i], label=i)\n",
    "plt.legend()"
   ]
  },
  {
   "cell_type": "code",
   "execution_count": null,
   "metadata": {},
   "outputs": [],
   "source": [
    "for i in range(d274t.shape[1]-1):\n",
    "    plt.plot(radii[:], d274t[:, i], label=i)\n",
    "plt.legend()"
   ]
  },
  {
   "cell_type": "code",
   "execution_count": null,
   "metadata": {},
   "outputs": [],
   "source": [
    "for i in range(d272int.shape[1]):\n",
    "    plt.plot(radii[:]*ase.units.Bohr, d272int[:, i], '-o',label=i)\n",
    "plt.legend()"
   ]
  },
  {
   "cell_type": "code",
   "execution_count": null,
   "metadata": {},
   "outputs": [],
   "source": [
    "for i in range(d274int.shape[1]):\n",
    "    plt.plot(radii[:]*ase.units.Bohr, d274int[:, i], '-o',label=i)\n",
    "plt.legend()"
   ]
  },
  {
   "cell_type": "code",
   "execution_count": null,
   "metadata": {},
   "outputs": [],
   "source": [
    "d274int[-1]"
   ]
  },
  {
   "cell_type": "code",
   "execution_count": null,
   "metadata": {},
   "outputs": [],
   "source": [
    "d272int[-1]"
   ]
  },
  {
   "cell_type": "code",
   "execution_count": null,
   "metadata": {},
   "outputs": [],
   "source": [
    "\n",
    "for d, dt, i, index in zip(d272[:, :5], d272t[:, :5], d272int[:, :5], index_272):\n",
    "    "
   ]
  },
  {
   "cell_type": "code",
   "execution_count": null,
   "metadata": {},
   "outputs": [],
   "source": [
    "index_272 = [4, 3, 1, 2, 0]"
   ]
  },
  {
   "cell_type": "code",
   "execution_count": null,
   "metadata": {},
   "outputs": [],
   "source": []
  },
  {
   "cell_type": "code",
   "execution_count": null,
   "metadata": {},
   "outputs": [],
   "source": [
    "d272[:, :5]"
   ]
  },
  {
   "cell_type": "code",
   "execution_count": null,
   "metadata": {},
   "outputs": [],
   "source": [
    "plt.plot(radii, d272[:, 4] - d274[:, 1])"
   ]
  },
  {
   "cell_type": "code",
   "execution_count": null,
   "metadata": {},
   "outputs": [],
   "source": []
  },
  {
   "cell_type": "code",
   "execution_count": null,
   "metadata": {},
   "outputs": [],
   "source": []
  },
  {
   "cell_type": "code",
   "execution_count": null,
   "metadata": {},
   "outputs": [],
   "source": [
    "smi = atomic_database.loc[(atomic_database['Z']==6), 'smiles']\n",
    "mols = []\n",
    "for s in smi:\n",
    "    mols.append(Chem.MolFromSmiles(s))\n",
    "print(len(smi), flush=True)\n",
    "Chem.Draw.MolsToGridImage(mols,molsPerRow=6,subImgSize=(200,200))"
   ]
  },
  {
   "cell_type": "code",
   "execution_count": null,
   "metadata": {},
   "outputs": [],
   "source": []
  },
  {
   "cell_type": "code",
   "execution_count": null,
   "metadata": {},
   "outputs": [],
   "source": [
    "smi = atomic_database.loc[(atomic_database['Z']==7), 'smiles']\n",
    "mols = []\n",
    "for s in smi:\n",
    "    mols.append(Chem.MolFromSmiles(s))\n",
    "print(len(smi), flush=True)\n",
    "Chem.Draw.MolsToGridImage(mols,molsPerRow=6,subImgSize=(200,200))"
   ]
  }
 ],
 "metadata": {
  "kernelspec": {
   "display_name": "Python [conda env:atomic-energies]",
   "language": "python",
   "name": "conda-env-atomic-energies-py"
  },
  "language_info": {
   "codemirror_mode": {
    "name": "ipython",
    "version": 3
   },
   "file_extension": ".py",
   "mimetype": "text/x-python",
   "name": "python",
   "nbconvert_exporter": "python",
   "pygments_lexer": "ipython3",
   "version": "3.7.3"
  }
 },
 "nbformat": 4,
 "nbformat_minor": 4
}
