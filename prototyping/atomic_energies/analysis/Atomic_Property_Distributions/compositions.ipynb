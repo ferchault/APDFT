{
 "cells": [
  {
   "cell_type": "code",
   "execution_count": 1,
   "metadata": {},
   "outputs": [
    {
     "name": "stderr",
     "output_type": "stream",
     "text": [
      "In /home/misa/anaconda3/envs/atomic-energies/lib/python3.7/site-packages/matplotlib/mpl-data/stylelib/_classic_test.mplstyle: \n",
      "The text.latex.preview rcparam was deprecated in Matplotlib 3.3 and will be removed two minor releases later.\n",
      "In /home/misa/anaconda3/envs/atomic-energies/lib/python3.7/site-packages/matplotlib/mpl-data/stylelib/_classic_test.mplstyle: \n",
      "The mathtext.fallback_to_cm rcparam was deprecated in Matplotlib 3.3 and will be removed two minor releases later.\n",
      "In /home/misa/anaconda3/envs/atomic-energies/lib/python3.7/site-packages/matplotlib/mpl-data/stylelib/_classic_test.mplstyle: Support for setting the 'mathtext.fallback_to_cm' rcParam is deprecated since 3.3 and will be removed two minor releases later; use 'mathtext.fallback : 'cm' instead.\n",
      "In /home/misa/anaconda3/envs/atomic-energies/lib/python3.7/site-packages/matplotlib/mpl-data/stylelib/_classic_test.mplstyle: \n",
      "The validate_bool_maybe_none function was deprecated in Matplotlib 3.3 and will be removed two minor releases later.\n",
      "In /home/misa/anaconda3/envs/atomic-energies/lib/python3.7/site-packages/matplotlib/mpl-data/stylelib/_classic_test.mplstyle: \n",
      "The savefig.jpeg_quality rcparam was deprecated in Matplotlib 3.3 and will be removed two minor releases later.\n",
      "In /home/misa/anaconda3/envs/atomic-energies/lib/python3.7/site-packages/matplotlib/mpl-data/stylelib/_classic_test.mplstyle: \n",
      "The keymap.all_axes rcparam was deprecated in Matplotlib 3.3 and will be removed two minor releases later.\n",
      "In /home/misa/anaconda3/envs/atomic-energies/lib/python3.7/site-packages/matplotlib/mpl-data/stylelib/_classic_test.mplstyle: \n",
      "The animation.avconv_path rcparam was deprecated in Matplotlib 3.3 and will be removed two minor releases later.\n",
      "In /home/misa/anaconda3/envs/atomic-energies/lib/python3.7/site-packages/matplotlib/mpl-data/stylelib/_classic_test.mplstyle: \n",
      "The animation.avconv_args rcparam was deprecated in Matplotlib 3.3 and will be removed two minor releases later.\n"
     ]
    }
   ],
   "source": [
    "import numpy as np\n",
    "import os\n",
    "import pandas as pd\n",
    "import qml\n",
    "import sys\n",
    "sys.path.insert(0, '/home/misa/git_repositories/APDFT/prototyping/atomic_energies/')\n",
    "import qml_interface as qmi\n",
    "import scipy as sc\n",
    "import itertools as it\n",
    "\n",
    "from matplotlib import pyplot as plt"
   ]
  },
  {
   "cell_type": "code",
   "execution_count": 2,
   "metadata": {},
   "outputs": [],
   "source": [
    "# labels\n",
    "paths = qmi.wrapper_alch_data()\n",
    "data, molecule_size = qmi.load_alchemy_data(qmi.wrapper_alch_data())\n",
    "\n",
    "atomisation_en = qmi.generate_label_vector(data, molecule_size.sum(), value='atomisation')\n",
    "atomic_en = qmi.generate_label_vector(data, molecule_size.sum(), value='atomic')\n",
    "alch_pot = qmi.generate_label_vector(data, molecule_size.sum(), value='alch_pot')\n",
    "charges = qmi.generate_label_vector(data, molecule_size.sum(), value='charge')"
   ]
  },
  {
   "cell_type": "code",
   "execution_count": 3,
   "metadata": {},
   "outputs": [],
   "source": [
    "C = []\n",
    "N = []\n",
    "O = []\n",
    "F = []\n",
    "mixed = []\n",
    "for i, d in enumerate(data):\n",
    "    if not 7 in d[:,0] and not 8 in d[:,0] and not 9 in d[:,0]:\n",
    "        C.append(paths[i])\n",
    "    elif 7 in d[:,0] and not 8 in d[:,0] and not 9 in d[:,0]:\n",
    "        N.append(paths[i])\n",
    "    elif 8 in d[:,0] and not 7 in d[:,0] and not 9 in d[:,0]:\n",
    "        O.append(paths[i])\n",
    "    elif 9 in d[:,0] and not 7 in d[:,0] and not 8 in d[:,0]:\n",
    "        F.append(paths[i])\n",
    "    else:\n",
    "        mixed.append(paths[i])"
   ]
  },
  {
   "cell_type": "code",
   "execution_count": 4,
   "metadata": {},
   "outputs": [
    {
     "data": {
      "text/plain": [
       "['/home/misa/projects/Atomic-Energies/data/ueg_reference/qm9_ve38_lda/dsgdb9nsd_000831/atomic_energies_with_mic.txt']"
      ]
     },
     "execution_count": 4,
     "metadata": {},
     "output_type": "execute_result"
    }
   ],
   "source": [
    "F"
   ]
  },
  {
   "cell_type": "code",
   "execution_count": 5,
   "metadata": {},
   "outputs": [],
   "source": [
    "# split elementwise\n",
    "def split_elementwise(data_group, molecule_sizes_group, prop_name):\n",
    "    \"\"\"\n",
    "    split property specified in propname elementwise for data defined in data_group, molecule_sizes_group is the length of the molecules in data_group\n",
    "    \"\"\"\n",
    "    charges_group = qmi.generate_label_vector(data_group, molecule_sizes_group.sum(), value='charge')\n",
    "    prop = qmi.generate_label_vector(data_group, molecule_sizes_group.sum(), value=prop_name)\n",
    "    idc_by_charge = qmi.partition_idx_by_charge(charges_group)\n",
    "    prop_dict = {k: [] for k in idc_by_charge.keys()}\n",
    "    for k in prop_dict.keys():\n",
    "        prop_dict[k] = prop[idc_by_charge[k]]\n",
    "    return(prop_dict)\n"
   ]
  },
  {
   "cell_type": "code",
   "execution_count": 6,
   "metadata": {},
   "outputs": [],
   "source": [
    "# load the data for every group\n",
    "paths_groups = {'C':C, 'N':N, 'O':O, 'mixed':mixed}\n",
    "groups = {'C':None, 'N':None, 'O':None, 'mixed':None}\n",
    "\n",
    "for k in paths_groups.keys():\n",
    "    groups[k] = qmi.load_alchemy_data(paths_groups[k])"
   ]
  },
  {
   "cell_type": "code",
   "execution_count": 7,
   "metadata": {},
   "outputs": [],
   "source": [
    "# get property distribution split by element for every group\n",
    "prop_name = 'atomic'\n",
    "props = {'C':None, 'N':None, 'O':None, 'mixed':None}\n",
    "for k in groups.keys():\n",
    "    props[k] = split_elementwise(groups[k][0], groups[k][1], prop_name)\n"
   ]
  },
  {
   "cell_type": "code",
   "execution_count": 8,
   "metadata": {},
   "outputs": [],
   "source": [
    "# plot distribution histograms for different groups but always for carbon\n",
    "# histograms\n",
    "bins = 'fd'\n",
    "\n",
    "# split by element\n",
    "hist_carbon = {'C':None, 'N':None, 'O':None, 'mixed':None}\n",
    "\n",
    "for k in props.keys():\n",
    "    hist_carbon[k] = np.histogram(props[k][6.0], bins=bins, range=(np.amin(props[k][6.0]), np.amax(props[k][6.0])))\n"
   ]
  },
  {
   "cell_type": "code",
   "execution_count": 9,
   "metadata": {},
   "outputs": [
    {
     "data": {
      "text/plain": [
       "array([15, 31, 70, 65, 76, 78, 37, 48, 31, 13, 16, 16, 11,  7,  4])"
      ]
     },
     "execution_count": 9,
     "metadata": {},
     "output_type": "execute_result"
    }
   ],
   "source": [
    "hist_carbon['C'][0]"
   ]
  },
  {
   "cell_type": "code",
   "execution_count": 10,
   "metadata": {},
   "outputs": [
    {
     "data": {
      "text/plain": [
       "<matplotlib.legend.Legend at 0x7f093b057a10>"
      ]
     },
     "execution_count": 10,
     "metadata": {},
     "output_type": "execute_result"
    },
    {
     "data": {
      "image/png": "[encoded data removed]",
      "text/plain": [
       "<Figure size 432x288 with 1 Axes>"
      ]
     },
     "metadata": {
      "needs_background": "light"
     },
     "output_type": "display_data"
    }
   ],
   "source": [
    "plt.rcParams['font.size'] = 18\n",
    "fig, ax = plt.subplots(1,1)\n",
    "for k in hist_carbon.keys():\n",
    "    ax.plot(hist_carbon[k][1][:-1], hist_carbon[k][0], label = k)\n",
    "ax.set_xlabel(r'$E_I$')\n",
    "ax.set_ylabel(r'Count')\n",
    "ax.legend()"
   ]
  },
  {
   "cell_type": "code",
   "execution_count": 11,
   "metadata": {},
   "outputs": [
    {
     "data": {
      "image/png": "[encoded data removed]",
      "text/plain": [
       "<Figure size 432x288 with 1 Axes>"
      ]
     },
     "metadata": {
      "needs_background": "light"
     },
     "output_type": "display_data"
    }
   ],
   "source": [
    "fig, ax = plt.subplots(1,1)\n",
    "for k in hist_carbon.keys():\n",
    "    plt.bar(hist_carbon[k][1][:-1], hist_carbon[k][0], label = k)\n",
    "#ax.legend()"
   ]
  },
  {
   "cell_type": "code",
   "execution_count": 12,
   "metadata": {},
   "outputs": [
    {
     "data": {
      "text/plain": [
       "<BarContainer object of 15 artists>"
      ]
     },
     "execution_count": 12,
     "metadata": {},
     "output_type": "execute_result"
    },
    {
     "data": {
      "image/png": "[encoded data removed]",
      "text/plain": [
       "<Figure size 432x288 with 1 Axes>"
      ]
     },
     "metadata": {
      "needs_background": "light"
     },
     "output_type": "display_data"
    }
   ],
   "source": [
    "plt.bar(hist_carbon['C'][1][:-1], hist_carbon['C'][0], label = k)"
   ]
  },
  {
   "cell_type": "code",
   "execution_count": 13,
   "metadata": {},
   "outputs": [
    {
     "data": {
      "text/plain": [
       "<BarContainer object of 22 artists>"
      ]
     },
     "execution_count": 13,
     "metadata": {},
     "output_type": "execute_result"
    },
    {
     "data": {
      "image/png": "[encoded data removed]",
      "text/plain": [
       "<Figure size 432x288 with 1 Axes>"
      ]
     },
     "metadata": {
      "needs_background": "light"
     },
     "output_type": "display_data"
    }
   ],
   "source": [
    "plt.bar(hist_carbon['N'][1][:-1], hist_carbon['N'][0], label = k)"
   ]
  },
  {
   "cell_type": "code",
   "execution_count": 14,
   "metadata": {},
   "outputs": [
    {
     "data": {
      "text/plain": [
       "<BarContainer object of 28 artists>"
      ]
     },
     "execution_count": 14,
     "metadata": {},
     "output_type": "execute_result"
    },
    {
     "data": {
      "image/png": "[encoded data removed]",
      "text/plain": [
       "<Figure size 432x288 with 1 Axes>"
      ]
     },
     "metadata": {
      "needs_background": "light"
     },
     "output_type": "display_data"
    }
   ],
   "source": [
    "plt.bar(hist_carbon['O'][1][:-1], hist_carbon['O'][0], label = k)"
   ]
  },
  {
   "cell_type": "code",
   "execution_count": 15,
   "metadata": {},
   "outputs": [
    {
     "data": {
      "text/plain": [
       "<BarContainer object of 36 artists>"
      ]
     },
     "execution_count": 15,
     "metadata": {},
     "output_type": "execute_result"
    },
    {
     "data": {
      "image/png": "[encoded data removed]",
      "text/plain": [
       "<Figure size 432x288 with 1 Axes>"
      ]
     },
     "metadata": {
      "needs_background": "light"
     },
     "output_type": "display_data"
    }
   ],
   "source": [
    "plt.bar(hist_carbon['mixed'][1][:-1], hist_carbon['mixed'][0], label = k)"
   ]
  },
  {
   "cell_type": "markdown",
   "metadata": {},
   "source": [
    "### Number of H atoms per carbon\n",
    "Is the order of atoms in the SMILES the same as in the .xyz-file/my data-files?\n",
    "I iterated over the mols object and the order of atoms (without hydrogen) in the mol object from the smiles string in the qm9 data is the same as the order of atoms in the xyz-coordinates file for three molecules (dsgdb9nsd_001212, dsgdb9nsd_003664, dsgdb9nsd_003700)"
   ]
  },
  {
   "cell_type": "code",
   "execution_count": null,
   "metadata": {},
   "outputs": [],
   "source": [
    "from rdkit import Chem\n",
    "from IPython.display import SVG\n",
    "#from rdkit.Chem.Draw import IPythonConsole\n",
    "from rdkit.Chem import rdDepictor\n",
    "from rdkit.Chem.Draw import rdMolDraw2D\n",
    "import sys\n",
    "sys.path.insert(0, '/home/misa/git_repositories/APDFT/prototyping/atomic_energies/')\n",
    "from explore_qml_data import get_smiles\n",
    "\n",
    "def moltosvg(mol, molSize = (300,300), kekulize = True):\n",
    "    mc = Chem.Mol(mol.ToBinary())\n",
    "    if kekulize:\n",
    "        try:\n",
    "            Chem.Kekulize(mc)\n",
    "        except:\n",
    "            mc = Chem.Mol(mol.ToBinary())\n",
    "    if not mc.GetNumConformers():\n",
    "        rdDepictor.Compute2DCoords(mc)\n",
    "    drawer = rdMolDraw2D.MolDraw2DSVG(molSize[0],molSize[1])\n",
    "    drawer.DrawMolecule(mc)\n",
    "    drawer.FinishDrawing()\n",
    "    svg = drawer.GetDrawingText()\n",
    "    return svg.replace('svg:','')"
   ]
  },
  {
   "cell_type": "code",
   "execution_count": null,
   "metadata": {},
   "outputs": [],
   "source": [
    "name = 'dsgdb9nsd_000228'\n",
    "mol_003664 = Chem.MolFromSmiles(get_smiles(f'/home/misa/datasets/qm9/{name}.xyz'))\n",
    "SVG(moltosvg(mol_003664))"
   ]
  },
  {
   "cell_type": "code",
   "execution_count": null,
   "metadata": {},
   "outputs": [],
   "source": [
    "for atom in mol_003664.GetAtoms():\n",
    "    print(atom.GetAtomicNum(), atom.GetTotalNumHs(), atom.GetTotalDegree())"
   ]
  },
  {
   "cell_type": "code",
   "execution_count": null,
   "metadata": {},
   "outputs": [],
   "source": [
    "mol_data = qmi.load_alchemy_data([f'/home/misa/APDFT/prototyping/atomic_energies/results/slice_ve38/{name}/atomic_energies_with_mic.txt'])[0][0]"
   ]
  },
  {
   "cell_type": "code",
   "execution_count": null,
   "metadata": {},
   "outputs": [],
   "source": [
    "mol_data[:,0]"
   ]
  },
  {
   "cell_type": "code",
   "execution_count": null,
   "metadata": {},
   "outputs": [],
   "source": [
    "distO1 = []\n",
    "distO2 = []\n",
    "\n",
    "for i in range(len(mol_data)):\n",
    "    distO1.append(np.linalg.norm(mol_data[2][1:4]-mol_data[i][1:4]))\n",
    "    distO2.append(np.linalg.norm(mol_data[3][1:4]-mol_data[i][1:4]))"
   ]
  },
  {
   "cell_type": "code",
   "execution_count": null,
   "metadata": {},
   "outputs": [],
   "source": [
    "distO1"
   ]
  },
  {
   "cell_type": "code",
   "execution_count": null,
   "metadata": {},
   "outputs": [],
   "source": [
    "distO2"
   ]
  },
  {
   "cell_type": "code",
   "execution_count": null,
   "metadata": {},
   "outputs": [],
   "source": []
  },
  {
   "cell_type": "code",
   "execution_count": null,
   "metadata": {},
   "outputs": [],
   "source": []
  },
  {
   "cell_type": "code",
   "execution_count": null,
   "metadata": {},
   "outputs": [],
   "source": [
    "no_heteros = pd.DataFrame(props['C'][6.0], columns = ['E_I'])"
   ]
  },
  {
   "cell_type": "markdown",
   "metadata": {},
   "source": [
    "### make mol objs"
   ]
  },
  {
   "cell_type": "code",
   "execution_count": null,
   "metadata": {},
   "outputs": [],
   "source": [
    "mol_objs = []\n",
    "for c in paths_groups['C']:\n",
    "    smiles_path = os.path.join('/home/misa/datasets/qm9/', c.split('/')[-2]+'.xyz')\n",
    "    mol_objs.append(Chem.MolFromSmiles(get_smiles(smiles_path)))"
   ]
  },
  {
   "cell_type": "markdown",
   "metadata": {},
   "source": [
    "### get number of H-partners"
   ]
  },
  {
   "cell_type": "code",
   "execution_count": null,
   "metadata": {},
   "outputs": [],
   "source": [
    "num_H = []\n",
    "for mol in mol_objs:\n",
    "    for atom in mol.GetAtoms():\n",
    "        num_H.append(atom.GetTotalNumHs())"
   ]
  },
  {
   "cell_type": "code",
   "execution_count": null,
   "metadata": {},
   "outputs": [],
   "source": [
    "no_heteros['num_H'] = num_H"
   ]
  },
  {
   "cell_type": "markdown",
   "metadata": {},
   "source": [
    "### get number of bonding partners"
   ]
  },
  {
   "cell_type": "code",
   "execution_count": null,
   "metadata": {},
   "outputs": [],
   "source": [
    "degree = []\n",
    "for mol in mol_objs:\n",
    "    for atom in mol.GetAtoms():\n",
    "        degree.append(atom.GetTotalDegree())"
   ]
  },
  {
   "cell_type": "code",
   "execution_count": null,
   "metadata": {},
   "outputs": [],
   "source": [
    "no_heteros['degree'] = degree"
   ]
  },
  {
   "cell_type": "markdown",
   "metadata": {},
   "source": [
    "### get average nuclear charge of neighbors"
   ]
  },
  {
   "cell_type": "code",
   "execution_count": null,
   "metadata": {},
   "outputs": [],
   "source": [
    "charge_neighbours = []\n",
    "chN = []\n",
    "chH = []\n",
    "for mol in mol_objs:\n",
    "    for atom in mol.GetAtoms():\n",
    "        degree = atom.GetTotalDegree() # number of binding partners\n",
    "        neighbors = atom.GetNeighbors()\n",
    "        charges_neighbors = 0\n",
    "        for n in neighbors:\n",
    "            charges_neighbors += n.GetAtomicNum()\n",
    "        chN.append(charges_neighbors)\n",
    "        charge_H = degree - len(neighbors) # number of hydrogens bonded that are not explicit; is equal to charge of implicit hydrogens\n",
    "        chH.append(charge_H)\n",
    "        charge = (charges_neighbors + charge_H)\n",
    "        charge_neighbours.append(charge)"
   ]
  },
  {
   "cell_type": "code",
   "execution_count": null,
   "metadata": {},
   "outputs": [],
   "source": [
    "no_heteros['charge_neighbors'] = charge_neighbours"
   ]
  },
  {
   "cell_type": "code",
   "execution_count": null,
   "metadata": {},
   "outputs": [],
   "source": [
    "plt.rcParams['font.size'] = 15\n",
    "fig, ax = plt.subplots(1,1)\n",
    "ax.plot(no_heteros['charge_neighbors'], no_heteros['E_I'], 'o')\n",
    "ax.set_xlabel('$\\sum_I Z_I^{(1)}$')\n",
    "ax.set_ylabel('$E_I$ (Ha)')\n",
    "ax.set_xticks([7,8,9,12,13,14, 18, 19, 24])"
   ]
  },
  {
   "cell_type": "code",
   "execution_count": null,
   "metadata": {},
   "outputs": [],
   "source": [
    "# summarize data"
   ]
  },
  {
   "cell_type": "code",
   "execution_count": null,
   "metadata": {},
   "outputs": [],
   "source": [
    "deg4 = no_heteros.loc[no_heteros['degree'] == 4, ['E_I']]\n",
    "deg3 = no_heteros.loc[no_heteros['degree'] == 3, ['E_I']]\n",
    "deg2 = no_heteros.loc[no_heteros['degree'] == 2, ['E_I']]\n",
    "deg1 = no_heteros.loc[no_heteros['degree'] == 1, ['E_I']]\n",
    "deg_type = [deg1, deg2, deg3, deg4]"
   ]
  },
  {
   "cell_type": "code",
   "execution_count": null,
   "metadata": {},
   "outputs": [],
   "source": [
    "deg_hist = []\n",
    "for d in deg_type:\n",
    "    deg_hist.append(np.histogram(d))"
   ]
  },
  {
   "cell_type": "code",
   "execution_count": null,
   "metadata": {},
   "outputs": [],
   "source": [
    "deg2_hist = np.histogram(deg2)\n",
    "deg3_hist = np.histogram(deg3)\n",
    "deg4_hist = np.histogram(deg4)"
   ]
  },
  {
   "cell_type": "code",
   "execution_count": null,
   "metadata": {},
   "outputs": [],
   "source": [
    "plt.bar(deg2_hist[1][:-1], deg2_hist[0])"
   ]
  },
  {
   "cell_type": "code",
   "execution_count": null,
   "metadata": {},
   "outputs": [],
   "source": [
    "plt.bar(deg3_hist[1][:-1], deg3_hist[0])"
   ]
  },
  {
   "cell_type": "code",
   "execution_count": null,
   "metadata": {},
   "outputs": [],
   "source": [
    "plt.bar(deg4_hist[1][:-1], deg4_hist[0])"
   ]
  },
  {
   "cell_type": "code",
   "execution_count": null,
   "metadata": {},
   "outputs": [],
   "source": [
    "# split by number of H-partners"
   ]
  },
  {
   "cell_type": "code",
   "execution_count": null,
   "metadata": {},
   "outputs": [],
   "source": [
    "prim = no_heteros['num_H'] == 3\n",
    "sec = no_heteros['num_H'] == 2\n",
    "tert = no_heteros['num_H'] == 1\n",
    "quart = no_heteros['num_H'] == 0\n",
    "\n",
    "c_type = [prim, sec, tert, quart]"
   ]
  },
  {
   "cell_type": "code",
   "execution_count": null,
   "metadata": {},
   "outputs": [],
   "source": [
    "no_heteros.loc[prim, ['E_I']].mean()\n",
    "no_heteros.loc[sec, ['E_I']].mean()\n",
    "no_heteros.loc[tert, ['E_I']].mean()\n",
    "no_heteros.loc[quart, ['E_I']].mean()"
   ]
  },
  {
   "cell_type": "code",
   "execution_count": null,
   "metadata": {},
   "outputs": [],
   "source": [
    "hist = []\n",
    "for t in c_type:\n",
    "    hist.append(np.histogram(no_heteros.loc[t, ['E_I']]))"
   ]
  },
  {
   "cell_type": "code",
   "execution_count": null,
   "metadata": {},
   "outputs": [],
   "source": [
    "plt.bar(hist[0][1][:-1], hist[0][0], label = 'prim')"
   ]
  },
  {
   "cell_type": "code",
   "execution_count": null,
   "metadata": {},
   "outputs": [],
   "source": [
    "plt.bar(hist[1][1][:-1], hist[1][0], label = 'prim')"
   ]
  },
  {
   "cell_type": "code",
   "execution_count": null,
   "metadata": {},
   "outputs": [],
   "source": [
    "plt.bar(hist[2][1][:-1], hist[2][0], label = 'prim')"
   ]
  },
  {
   "cell_type": "code",
   "execution_count": null,
   "metadata": {},
   "outputs": [],
   "source": [
    "plt.bar(hist[3][1][:-1], hist[3][0], label = 'prim')"
   ]
  },
  {
   "cell_type": "code",
   "execution_count": null,
   "metadata": {},
   "outputs": [],
   "source": []
  },
  {
   "cell_type": "code",
   "execution_count": null,
   "metadata": {},
   "outputs": [],
   "source": [
    "# split quart, tert by number of bonding partners"
   ]
  },
  {
   "cell_type": "code",
   "execution_count": null,
   "metadata": {},
   "outputs": [],
   "source": [
    "terts = no_heteros.loc[tert]\n",
    "quarts = no_heteros.loc[quart]\n",
    "terts_saturated = terts.loc[terts['degree']>2]\n",
    "terts_saturated_hist = np.histogram(terts_saturated['E_I'])\n",
    "terts_unsaturated = terts.loc[terts['degree']<3]\n",
    "terts_unsaturated_hist = np.histogram(terts_unsaturated['E_I'])"
   ]
  },
  {
   "cell_type": "code",
   "execution_count": null,
   "metadata": {},
   "outputs": [],
   "source": [
    "plt.bar(terts_saturated_hist[1][:-1], terts_saturated_hist[0])\n",
    "plt.bar(terts_unsaturated_hist[1][:-1], terts_unsaturated_hist[0])"
   ]
  },
  {
   "cell_type": "code",
   "execution_count": null,
   "metadata": {},
   "outputs": [],
   "source": []
  },
  {
   "cell_type": "code",
   "execution_count": null,
   "metadata": {},
   "outputs": [],
   "source": [
    "quarts = no_heteros.loc[quart]\n",
    "quarts_saturated = quarts.loc[quarts['degree']>2]\n",
    "quarts_saturated_hist = np.histogram(quarts_saturated['E_I'])\n",
    "quarts_unsaturated = quarts.loc[quarts['degree']<3]\n",
    "quarts_unsaturated_hist = np.histogram(quarts_unsaturated['E_I'])\n",
    "\n",
    "plt.bar(quarts_saturated_hist[1][:-1], quarts_saturated_hist[0])\n",
    "plt.bar(quarts_unsaturated_hist[1][:-1], quarts_unsaturated_hist[0])"
   ]
  },
  {
   "cell_type": "markdown",
   "metadata": {},
   "source": [
    "### split data by binding partner and number of H atoms"
   ]
  },
  {
   "cell_type": "code",
   "execution_count": null,
   "metadata": {},
   "outputs": [],
   "source": [
    "subset = []\n",
    "\n",
    "for degree in range(2, 5):\n",
    "    for num_H in range(0, degree):\n",
    "        print(degree, num_H)\n",
    "        subset_tmp = no_heteros.loc[(no_heteros['degree'] == degree) & (no_heteros['num_H'] == num_H), ['E_I']]\n",
    "        subset.append(subset_tmp)"
   ]
  },
  {
   "cell_type": "code",
   "execution_count": null,
   "metadata": {},
   "outputs": [],
   "source": [
    "hist_bp_nH = []\n",
    "for s in subset:\n",
    "    hist_tmp = np.histogram(s)\n",
    "    hist_bp_nH.append(hist_tmp)\n",
    "    plt.bar(hist_tmp[1][-1], hist_tmp[0])"
   ]
  },
  {
   "cell_type": "code",
   "execution_count": null,
   "metadata": {},
   "outputs": [],
   "source": [
    "hist_bp_nH[0]"
   ]
  },
  {
   "cell_type": "code",
   "execution_count": null,
   "metadata": {},
   "outputs": [],
   "source": [
    "plt.bar(hist_bp_nH[0][1][:-1], hist_bp_nH[0][0])"
   ]
  },
  {
   "cell_type": "code",
   "execution_count": null,
   "metadata": {},
   "outputs": [],
   "source": [
    "plt.bar(hist_bp_nH[1][1][:-1], hist_bp_nH[1][0])"
   ]
  },
  {
   "cell_type": "code",
   "execution_count": null,
   "metadata": {},
   "outputs": [],
   "source": [
    "plt.bar(hist_bp_nH[2][1][:-1], hist_bp_nH[2][0])"
   ]
  },
  {
   "cell_type": "code",
   "execution_count": null,
   "metadata": {},
   "outputs": [],
   "source": [
    "plt.bar(hist_bp_nH[3][1][:-1], hist_bp_nH[3][0])"
   ]
  },
  {
   "cell_type": "code",
   "execution_count": null,
   "metadata": {},
   "outputs": [],
   "source": [
    "plt.bar(hist_bp_nH[4][1][:-1], hist_bp_nH[4][0])"
   ]
  },
  {
   "cell_type": "code",
   "execution_count": null,
   "metadata": {},
   "outputs": [],
   "source": [
    "plt.bar(hist_bp_nH[5][1][:-1], hist_bp_nH[5][0])"
   ]
  },
  {
   "cell_type": "code",
   "execution_count": null,
   "metadata": {},
   "outputs": [],
   "source": [
    "plt.bar(hist_bp_nH[6][1][:-1], hist_bp_nH[6][0])"
   ]
  },
  {
   "cell_type": "code",
   "execution_count": null,
   "metadata": {},
   "outputs": [],
   "source": [
    "plt.bar(hist_bp_nH[7][1][:-1], hist_bp_nH[7][0])"
   ]
  },
  {
   "cell_type": "code",
   "execution_count": null,
   "metadata": {},
   "outputs": [],
   "source": [
    "plt.bar(hist_bp_nH[8][1][:-1], hist_bp_nH[8][0])"
   ]
  },
  {
   "cell_type": "code",
   "execution_count": null,
   "metadata": {},
   "outputs": [],
   "source": []
  },
  {
   "cell_type": "code",
   "execution_count": null,
   "metadata": {},
   "outputs": [],
   "source": [
    "# labels\n",
    "paths = qmi.wrapper_alch_data()\n",
    "data, molecule_size = qmi.load_alchemy_data(qmi.wrapper_alch_data())\n",
    "\n",
    "atomisation_en = qmi.generate_label_vector(data, molecule_size.sum(), value='atomisation')\n",
    "atomic_en = qmi.generate_label_vector(data, molecule_size.sum(), value='atomic')\n",
    "alch_pot = qmi.generate_label_vector(data, molecule_size.sum(), value='alch_pot')\n",
    "charges = qmi.generate_label_vector(data, molecule_size.sum(), value='charge')"
   ]
  },
  {
   "cell_type": "code",
   "execution_count": null,
   "metadata": {},
   "outputs": [],
   "source": [
    "atomic_dict = split_elementwise(data, molecule_size, 'atomic')"
   ]
  },
  {
   "cell_type": "code",
   "execution_count": null,
   "metadata": {},
   "outputs": [],
   "source": [
    "# make mol objects for all molecules\n",
    "mol_objs = []\n",
    "for c in paths:\n",
    "    smiles_path = os.path.join('/home/misa/datasets/qm9/', c.split('/')[-2]+'.xyz')\n",
    "    mol_objs.append(Chem.MolFromSmiles(get_smiles(smiles_path)))"
   ]
  },
  {
   "cell_type": "code",
   "execution_count": null,
   "metadata": {},
   "outputs": [],
   "source": [
    "# get charge in first coordination sphere\n",
    "charge_neighbours = []\n",
    "chN = []\n",
    "chH = []\n",
    "for mol in mol_objs:\n",
    "    for atom in mol.GetAtoms():\n",
    "        if atom.GetAtomicNum() == 6:\n",
    "            degree = atom.GetTotalDegree() # number of binding partners\n",
    "            neighbors = atom.GetNeighbors()\n",
    "            charges_neighbors = 0\n",
    "            for n in neighbors:\n",
    "                charges_neighbors += n.GetAtomicNum()\n",
    "            chN.append(charges_neighbors)\n",
    "            charge_H = degree - len(neighbors) # number of hydrogens bonded that are not explicit; is equal to charge of implicit hydrogens\n",
    "            chH.append(charge_H)\n",
    "            charge = (charges_neighbors + charge_H)\n",
    "            charge_neighbours.append(charge)"
   ]
  },
  {
   "cell_type": "code",
   "execution_count": null,
   "metadata": {},
   "outputs": [],
   "source": [
    "len(atomic_dict[6.0])"
   ]
  },
  {
   "cell_type": "code",
   "execution_count": null,
   "metadata": {},
   "outputs": [],
   "source": [
    "len(np.array(charge_neighbours).T)"
   ]
  },
  {
   "cell_type": "code",
   "execution_count": null,
   "metadata": {},
   "outputs": [],
   "source": [
    "np.array([atomic_dict[6.0], np.array(charge_neighbours)]).T.shape"
   ]
  },
  {
   "cell_type": "code",
   "execution_count": null,
   "metadata": {},
   "outputs": [],
   "source": [
    "all_composition = pd.DataFrame(data = np.array([atomic_dict[6.0], np.array(charge_neighbours)]).T, columns = ['E_I', 'chN'])"
   ]
  },
  {
   "cell_type": "code",
   "execution_count": null,
   "metadata": {},
   "outputs": [],
   "source": [
    "subsets = []\n",
    "chN = []\n",
    "for s in set(all_composition['chN']):\n",
    "    subset_tmp = all_composition.loc[all_composition['chN']==s, ['E_I']]\n",
    "    chN.append(s)\n",
    "    subsets.append(subset_tmp)"
   ]
  },
  {
   "cell_type": "code",
   "execution_count": null,
   "metadata": {},
   "outputs": [],
   "source": [
    "fig, ax = plt.subplots(1,1)\n",
    "ax.plot(all_composition['chN'], all_composition['E_I'], 'o')\n",
    "\n",
    "ax.set_xlabel('$\\sum_I Z_I^{(1)}$')\n",
    "ax.set_ylabel('$E_I$ (Ha)')\n",
    "#ax.set_xticks([7,8,9,12,13,14, 18, 19, 24])\n",
    "#ax.legend()"
   ]
  }
 ],
 "metadata": {
  "kernelspec": {
   "display_name": "Python [conda env:atomic-energies]",
   "language": "python",
   "name": "conda-env-atomic-energies-py"
  },
  "language_info": {
   "codemirror_mode": {
    "name": "ipython",
    "version": 3
   },
   "file_extension": ".py",
   "mimetype": "text/x-python",
   "name": "python",
   "nbconvert_exporter": "python",
   "pygments_lexer": "ipython3",
   "version": "3.7.10"
  }
 },
 "nbformat": 4,
 "nbformat_minor": 4
}
