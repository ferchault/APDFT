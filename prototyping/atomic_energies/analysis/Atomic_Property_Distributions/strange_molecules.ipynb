{
 "cells": [
  {
   "cell_type": "markdown",
   "metadata": {},
   "source": [
    "A carbon seems to have 3 nearest carbon neighbours and one hyrogen from lewis structure but according to my charge_nearest_neighbour code the charge is 24 = 4 carbons. Check 3D structure to see if there is a bug in the code."
   ]
  },
  {
   "cell_type": "code",
   "execution_count": 4,
   "metadata": {},
   "outputs": [],
   "source": [
    "import numpy as np\n",
    "import pandas as pd\n",
    "import qml\n",
    "import sklearn.model_selection as sk\n",
    "from ase import Atoms\n",
    "from ase.visualize import view\n",
    "\n",
    "from matplotlib import pyplot as plt\n",
    "\n",
    "from rdkit import Chem\n",
    "from rdkit.Chem.Draw import IPythonConsole\n",
    "from IPython.display import SVG\n",
    "\n",
    "import sys\n",
    "sys.path.insert(0, '/home/sahre/git_repositories/APDFT/prototyping/atomic_energies/')\n",
    "import qml_interface as qmi\n",
    "import explore_qml_data as eqd"
   ]
  },
  {
   "cell_type": "code",
   "execution_count": 5,
   "metadata": {},
   "outputs": [
    {
     "ename": "FileNotFoundError",
     "evalue": "[Errno 2] No such file or directory: '/home/misa/projects/Atomic-Energies/data/ueg_reference/qm9_ve38_lda/energies_ve38_paths'",
     "output_type": "error",
     "traceback": [
      "\u001b[0;31m---------------------------------------------------------------------------\u001b[0m",
      "\u001b[0;31mFileNotFoundError\u001b[0m                         Traceback (most recent call last)",
      "\u001b[0;32m<ipython-input-5-cec50d55dad5>\u001b[0m in \u001b[0;36m<module>\u001b[0;34m\u001b[0m\n\u001b[1;32m      1\u001b[0m \u001b[0;31m# data preparation\u001b[0m\u001b[0;34m\u001b[0m\u001b[0;34m\u001b[0m\u001b[0;34m\u001b[0m\u001b[0m\n\u001b[0;32m----> 2\u001b[0;31m \u001b[0mpaths\u001b[0m \u001b[0;34m=\u001b[0m \u001b[0mqmi\u001b[0m\u001b[0;34m.\u001b[0m\u001b[0mwrapper_alch_data\u001b[0m\u001b[0;34m(\u001b[0m\u001b[0;34m)\u001b[0m\u001b[0;34m\u001b[0m\u001b[0;34m\u001b[0m\u001b[0m\n\u001b[0m\u001b[1;32m      3\u001b[0m \u001b[0mexclude\u001b[0m\u001b[0;34m=\u001b[0m\u001b[0;34m'/home/misa/APDFT/prototyping/atomic_energies/results/slice_ve38/dsgdb9nsd_000829/atomic_energies_with_mic.txt'\u001b[0m\u001b[0;34m\u001b[0m\u001b[0;34m\u001b[0m\u001b[0m\n\u001b[1;32m      4\u001b[0m \u001b[0mpaths\u001b[0m\u001b[0;34m.\u001b[0m\u001b[0mremove\u001b[0m\u001b[0;34m(\u001b[0m\u001b[0mexclude\u001b[0m\u001b[0;34m)\u001b[0m\u001b[0;34m\u001b[0m\u001b[0;34m\u001b[0m\u001b[0m\n\u001b[1;32m      5\u001b[0m \u001b[0mpaths\u001b[0m\u001b[0;34m.\u001b[0m\u001b[0mremove\u001b[0m\u001b[0;34m(\u001b[0m\u001b[0;34m'/home/misa/APDFT/prototyping/atomic_energies/results/slice_ve38/dsgdb9nsd_001265/atomic_energies_with_mic.txt'\u001b[0m\u001b[0;34m)\u001b[0m\u001b[0;34m\u001b[0m\u001b[0;34m\u001b[0m\u001b[0m\n",
      "\u001b[0;32m~/git_repositories/APDFT/prototyping/atomic_energies/qml_interface.py\u001b[0m in \u001b[0;36mwrapper_alch_data\u001b[0;34m(path)\u001b[0m\n\u001b[1;32m     53\u001b[0m     \u001b[0mpath\u001b[0m \u001b[0;34m=\u001b[0m \u001b[0mpath\u001b[0m\u001b[0;34m\u001b[0m\u001b[0;34m\u001b[0m\u001b[0m\n\u001b[1;32m     54\u001b[0m     \u001b[0mpaths\u001b[0m \u001b[0;34m=\u001b[0m \u001b[0;34m[\u001b[0m\u001b[0;34m]\u001b[0m\u001b[0;34m\u001b[0m\u001b[0;34m\u001b[0m\u001b[0m\n\u001b[0;32m---> 55\u001b[0;31m     \u001b[0;32mwith\u001b[0m \u001b[0mopen\u001b[0m\u001b[0;34m(\u001b[0m\u001b[0mpath\u001b[0m\u001b[0;34m,\u001b[0m \u001b[0;34m'r'\u001b[0m\u001b[0;34m)\u001b[0m \u001b[0;32mas\u001b[0m \u001b[0mf\u001b[0m\u001b[0;34m:\u001b[0m\u001b[0;34m\u001b[0m\u001b[0;34m\u001b[0m\u001b[0m\n\u001b[0m\u001b[1;32m     56\u001b[0m         \u001b[0;32mfor\u001b[0m \u001b[0mline\u001b[0m \u001b[0;32min\u001b[0m \u001b[0mf\u001b[0m\u001b[0;34m:\u001b[0m\u001b[0;34m\u001b[0m\u001b[0;34m\u001b[0m\u001b[0m\n\u001b[1;32m     57\u001b[0m             \u001b[0mfile_path\u001b[0m \u001b[0;34m=\u001b[0m \u001b[0mline\u001b[0m\u001b[0;34m.\u001b[0m\u001b[0mrstrip\u001b[0m\u001b[0;34m(\u001b[0m\u001b[0;34m'\\n'\u001b[0m\u001b[0;34m)\u001b[0m\u001b[0;34m\u001b[0m\u001b[0;34m\u001b[0m\u001b[0m\n",
      "\u001b[0;31mFileNotFoundError\u001b[0m: [Errno 2] No such file or directory: '/home/misa/projects/Atomic-Energies/data/ueg_reference/qm9_ve38_lda/energies_ve38_paths'"
     ]
    }
   ],
   "source": [
    "# data preparation\n",
    "paths = qmi.wrapper_alch_data()\n",
    "exclude='/home/misa/APDFT/prototyping/atomic_energies/results/slice_ve38/dsgdb9nsd_000829/atomic_energies_with_mic.txt'\n",
    "paths.remove(exclude)\n",
    "paths.remove('/home/misa/APDFT/prototyping/atomic_energies/results/slice_ve38/dsgdb9nsd_001265/atomic_energies_with_mic.txt')\n",
    "data, molecule_sizes = qmi.load_alchemy_data(paths)\n",
    "\n",
    "all_local_reps = qmi.generate_atomic_representations(data, molecule_sizes)\n",
    "\n",
    "atomic_database = pd.DataFrame(index=np.arange(molecule_sizes.sum()), columns=['mol_id', 'smiles', 'Z', 'atomic energy', 'atomisation energy', 'charge NN'])\n",
    "# make a database\n",
    "index_database = 0\n",
    "for i, p in enumerate(paths):\n",
    "    data = np.loadtxt(p)\n",
    "    # get smiles\n",
    "    comp = p.split('/')[-2]\n",
    "    xyz_path = f'/home/misa/datasets/qm9/{comp}.xyz'\n",
    "    smiles = eqd.get_smiles(xyz_path)\n",
    "    mol = Chem.MolFromSmiles(smiles)\n",
    "    mol = Chem.AddHs(mol)\n",
    "    cnn = eqd.get_charge_neighbours(mol)\n",
    "    for d, c in zip(data, cnn):\n",
    "        atomic_database.at[index_database, 'mol_id'] = i\n",
    "        atomic_database.at[index_database, 'smiles'] = smiles\n",
    "        atomic_database.at[index_database, 'Z'] = d[0]\n",
    "        atomic_database.at[index_database, 'atomic energy'] = d[5]\n",
    "        atomic_database.at[index_database, 'atomisation energy'] = d[6]\n",
    "        atomic_database.at[index_database, 'charge NN'] = c\n",
    "        index_database += 1"
   ]
  },
  {
   "cell_type": "code",
   "execution_count": 3,
   "metadata": {},
   "outputs": [
    {
     "data": {
      "image/png": "[encoded data removed]",
      "text/plain": [
       "<rdkit.Chem.rdchem.Mol at 0x7f1179845f30>"
      ]
     },
     "execution_count": 3,
     "metadata": {},
     "output_type": "execute_result"
    }
   ],
   "source": [
    "mol = Chem.MolFromSmiles('CC12CC3OC1C23')\n",
    "def mol_with_atom_index(mol):\n",
    "    for atom in mol.GetAtoms():\n",
    "        atom.SetAtomMapNum(atom.GetIdx())\n",
    "    return mol\n",
    "mol_with_atom_index(mol)"
   ]
  },
  {
   "cell_type": "code",
   "execution_count": 4,
   "metadata": {},
   "outputs": [
    {
     "data": {
      "text/html": [
       "<div>\n",
       "<style scoped>\n",
       "    .dataframe tbody tr th:only-of-type {\n",
       "        vertical-align: middle;\n",
       "    }\n",
       "\n",
       "    .dataframe tbody tr th {\n",
       "        vertical-align: top;\n",
       "    }\n",
       "\n",
       "    .dataframe thead th {\n",
       "        text-align: right;\n",
       "    }\n",
       "</style>\n",
       "<table border=\"1\" class=\"dataframe\">\n",
       "  <thead>\n",
       "    <tr style=\"text-align: right;\">\n",
       "      <th></th>\n",
       "      <th>mol_id</th>\n",
       "      <th>smiles</th>\n",
       "      <th>Z</th>\n",
       "      <th>atomic energy</th>\n",
       "      <th>atomisation energy</th>\n",
       "      <th>charge NN</th>\n",
       "    </tr>\n",
       "  </thead>\n",
       "  <tbody>\n",
       "    <tr>\n",
       "      <th>3046</th>\n",
       "      <td>221</td>\n",
       "      <td>CC12CC3OC1C23</td>\n",
       "      <td>6</td>\n",
       "      <td>-37.6636</td>\n",
       "      <td>3.55102</td>\n",
       "      <td>9</td>\n",
       "    </tr>\n",
       "    <tr>\n",
       "      <th>3047</th>\n",
       "      <td>221</td>\n",
       "      <td>CC12CC3OC1C23</td>\n",
       "      <td>6</td>\n",
       "      <td>-44.3531</td>\n",
       "      <td>-3.13851</td>\n",
       "      <td>24</td>\n",
       "    </tr>\n",
       "    <tr>\n",
       "      <th>3048</th>\n",
       "      <td>221</td>\n",
       "      <td>CC12CC3OC1C23</td>\n",
       "      <td>6</td>\n",
       "      <td>-41.487</td>\n",
       "      <td>-0.272373</td>\n",
       "      <td>14</td>\n",
       "    </tr>\n",
       "    <tr>\n",
       "      <th>3049</th>\n",
       "      <td>221</td>\n",
       "      <td>CC12CC3OC1C23</td>\n",
       "      <td>6</td>\n",
       "      <td>-43.1591</td>\n",
       "      <td>-1.94445</td>\n",
       "      <td>21</td>\n",
       "    </tr>\n",
       "    <tr>\n",
       "      <th>3050</th>\n",
       "      <td>221</td>\n",
       "      <td>CC12CC3OC1C23</td>\n",
       "      <td>8</td>\n",
       "      <td>-61.0098</td>\n",
       "      <td>17.4226</td>\n",
       "      <td>12</td>\n",
       "    </tr>\n",
       "    <tr>\n",
       "      <th>3051</th>\n",
       "      <td>221</td>\n",
       "      <td>CC12CC3OC1C23</td>\n",
       "      <td>6</td>\n",
       "      <td>-43.6974</td>\n",
       "      <td>-2.48277</td>\n",
       "      <td>21</td>\n",
       "    </tr>\n",
       "    <tr>\n",
       "      <th>3052</th>\n",
       "      <td>221</td>\n",
       "      <td>CC12CC3OC1C23</td>\n",
       "      <td>6</td>\n",
       "      <td>-42.6288</td>\n",
       "      <td>-1.41421</td>\n",
       "      <td>19</td>\n",
       "    </tr>\n",
       "    <tr>\n",
       "      <th>3053</th>\n",
       "      <td>221</td>\n",
       "      <td>CC12CC3OC1C23</td>\n",
       "      <td>1</td>\n",
       "      <td>-5.39058</td>\n",
       "      <td>-1.52246</td>\n",
       "      <td>6</td>\n",
       "    </tr>\n",
       "    <tr>\n",
       "      <th>3054</th>\n",
       "      <td>221</td>\n",
       "      <td>CC12CC3OC1C23</td>\n",
       "      <td>1</td>\n",
       "      <td>-5.38418</td>\n",
       "      <td>-1.51606</td>\n",
       "      <td>6</td>\n",
       "    </tr>\n",
       "    <tr>\n",
       "      <th>3055</th>\n",
       "      <td>221</td>\n",
       "      <td>CC12CC3OC1C23</td>\n",
       "      <td>1</td>\n",
       "      <td>-5.45468</td>\n",
       "      <td>-1.58655</td>\n",
       "      <td>6</td>\n",
       "    </tr>\n",
       "    <tr>\n",
       "      <th>3056</th>\n",
       "      <td>221</td>\n",
       "      <td>CC12CC3OC1C23</td>\n",
       "      <td>1</td>\n",
       "      <td>-5.76799</td>\n",
       "      <td>-1.89987</td>\n",
       "      <td>6</td>\n",
       "    </tr>\n",
       "    <tr>\n",
       "      <th>3057</th>\n",
       "      <td>221</td>\n",
       "      <td>CC12CC3OC1C23</td>\n",
       "      <td>1</td>\n",
       "      <td>-5.77756</td>\n",
       "      <td>-1.90943</td>\n",
       "      <td>6</td>\n",
       "    </tr>\n",
       "    <tr>\n",
       "      <th>3058</th>\n",
       "      <td>221</td>\n",
       "      <td>CC12CC3OC1C23</td>\n",
       "      <td>1</td>\n",
       "      <td>-5.69598</td>\n",
       "      <td>-1.82786</td>\n",
       "      <td>6</td>\n",
       "    </tr>\n",
       "    <tr>\n",
       "      <th>3059</th>\n",
       "      <td>221</td>\n",
       "      <td>CC12CC3OC1C23</td>\n",
       "      <td>1</td>\n",
       "      <td>-5.82751</td>\n",
       "      <td>-1.95938</td>\n",
       "      <td>6</td>\n",
       "    </tr>\n",
       "    <tr>\n",
       "      <th>3060</th>\n",
       "      <td>221</td>\n",
       "      <td>CC12CC3OC1C23</td>\n",
       "      <td>1</td>\n",
       "      <td>-5.67091</td>\n",
       "      <td>-1.80279</td>\n",
       "      <td>6</td>\n",
       "    </tr>\n",
       "  </tbody>\n",
       "</table>\n",
       "</div>"
      ],
      "text/plain": [
       "     mol_id         smiles  Z atomic energy atomisation energy charge NN\n",
       "3046    221  CC12CC3OC1C23  6      -37.6636            3.55102         9\n",
       "3047    221  CC12CC3OC1C23  6      -44.3531           -3.13851        24\n",
       "3048    221  CC12CC3OC1C23  6       -41.487          -0.272373        14\n",
       "3049    221  CC12CC3OC1C23  6      -43.1591           -1.94445        21\n",
       "3050    221  CC12CC3OC1C23  8      -61.0098            17.4226        12\n",
       "3051    221  CC12CC3OC1C23  6      -43.6974           -2.48277        21\n",
       "3052    221  CC12CC3OC1C23  6      -42.6288           -1.41421        19\n",
       "3053    221  CC12CC3OC1C23  1      -5.39058           -1.52246         6\n",
       "3054    221  CC12CC3OC1C23  1      -5.38418           -1.51606         6\n",
       "3055    221  CC12CC3OC1C23  1      -5.45468           -1.58655         6\n",
       "3056    221  CC12CC3OC1C23  1      -5.76799           -1.89987         6\n",
       "3057    221  CC12CC3OC1C23  1      -5.77756           -1.90943         6\n",
       "3058    221  CC12CC3OC1C23  1      -5.69598           -1.82786         6\n",
       "3059    221  CC12CC3OC1C23  1      -5.82751           -1.95938         6\n",
       "3060    221  CC12CC3OC1C23  1      -5.67091           -1.80279         6"
      ]
     },
     "execution_count": 4,
     "metadata": {},
     "output_type": "execute_result"
    }
   ],
   "source": [
    "atomic_database[atomic_database['smiles']=='CC12CC3OC1C23']"
   ]
  },
  {
   "cell_type": "code",
   "execution_count": 5,
   "metadata": {},
   "outputs": [
    {
     "name": "stdout",
     "output_type": "stream",
     "text": [
      "/home/misa/datasets/qm9/dsgdb9nsd_002432.xyz\n"
     ]
    }
   ],
   "source": [
    "special = None\n",
    "for i, p in enumerate(paths):\n",
    "    data = np.loadtxt(p)\n",
    "    # get smiles\n",
    "    comp = p.split('/')[-2]\n",
    "    xyz_path = f'/home/misa/datasets/qm9/{comp}.xyz'\n",
    "    smiles = eqd.get_smiles(xyz_path)\n",
    "    if smiles == 'CC12CC3OC1C23':\n",
    "        special = data\n",
    "        print(xyz_path)"
   ]
  },
  {
   "cell_type": "code",
   "execution_count": 6,
   "metadata": {},
   "outputs": [],
   "source": [
    "compound = qml.Compound(xyz='/home/misa/datasets/qm9/dsgdb9nsd_002432.xyz')\n",
    "atoms = Atoms(positions=compound.coordinates, symbols=compound.atomtypes)"
   ]
  },
  {
   "cell_type": "code",
   "execution_count": 7,
   "metadata": {},
   "outputs": [
    {
     "data": {
      "application/vnd.jupyter.widget-view+json": {
       "model_id": "328db7869ba1441ba14670c2db0fd263",
       "version_major": 2,
       "version_minor": 0
      },
      "text/plain": []
     },
     "metadata": {},
     "output_type": "display_data"
    },
    {
     "data": {
      "application/vnd.jupyter.widget-view+json": {
       "model_id": "d70ba4d01ddd4df88a5af45d552618a3",
       "version_major": 2,
       "version_minor": 0
      },
      "text/plain": [
       "HBox(children=(NGLWidget(), VBox(children=(Dropdown(description='Show', options=('All', 'H', 'O', 'C'), value=…"
      ]
     },
     "metadata": {},
     "output_type": "display_data"
    }
   ],
   "source": [
    "view(atoms, viewer='ngl')"
   ]
  },
  {
   "cell_type": "code",
   "execution_count": 9,
   "metadata": {},
   "outputs": [],
   "source": [
    "import ase.visualize"
   ]
  },
  {
   "cell_type": "code",
   "execution_count": 10,
   "metadata": {},
   "outputs": [
    {
     "data": {
      "application/vnd.jupyter.widget-view+json": {
       "model_id": "fdb66dea53924e7fa23379835e52cc6a",
       "version_major": 2,
       "version_minor": 0
      },
      "text/plain": [
       "HBox(children=(NGLWidget(), VBox(children=(Dropdown(description='Show', options=('All', 'C', 'H', 'O'), value=…"
      ]
     },
     "metadata": {},
     "output_type": "display_data"
    }
   ],
   "source": [
    "ase.visualize.ngl.view_ngl(atoms, w=500, h=500)"
   ]
  }
 ],
 "metadata": {
  "kernelspec": {
   "display_name": "Python 3",
   "language": "python",
   "name": "python3"
  },
  "language_info": {
   "codemirror_mode": {
    "name": "ipython",
    "version": 3
   },
   "file_extension": ".py",
   "mimetype": "text/x-python",
   "name": "python",
   "nbconvert_exporter": "python",
   "pygments_lexer": "ipython3",
   "version": "3.9.5"
  }
 },
 "nbformat": 4,
 "nbformat_minor": 4
}
