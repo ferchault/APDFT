{
 "cells": [
  {
   "cell_type": "code",
   "execution_count": 1,
   "metadata": {},
   "outputs": [],
   "source": [
    "import sys\n",
    "sys.path.insert(0, '/home/misa/git_repositories/APDFT/prototyping/atomic_energies/')\n",
    "\n",
    "from explore_qml_data import get_smiles\n",
    "from explore_qml_data import moltosvg"
   ]
  },
  {
   "cell_type": "code",
   "execution_count": 2,
   "metadata": {},
   "outputs": [],
   "source": [
    "import numpy as np\n",
    "import os\n",
    "import pandas as pd\n",
    "import qml\n",
    "import qml_interface as qmi\n",
    "import analyse_atomic_data as aad\n",
    "\n",
    "from matplotlib import pyplot as plt\n",
    "\n",
    "from rdkit import Chem\n",
    "from rdkit.Chem.Draw import IPythonConsole\n",
    "from IPython.display import SVG"
   ]
  },
  {
   "cell_type": "code",
   "execution_count": 3,
   "metadata": {},
   "outputs": [],
   "source": [
    "def get_median_var(distribution):\n",
    "    median = np.median(distribution)\n",
    "    var = np.sum((distribution-median)**2)/len(distribution)\n",
    "    return(median, var)"
   ]
  },
  {
   "cell_type": "markdown",
   "metadata": {},
   "source": [
    "'[NH3+]CC#CC([O-])=O' is in '/home/misa/APDFT/prototyping/atomic_energies/results/slice_ve38/dsgdb9nsd_001265/atomic_energies_with_mic.txt' a strange molecule that makes trouble"
   ]
  },
  {
   "cell_type": "code",
   "execution_count": 4,
   "metadata": {},
   "outputs": [],
   "source": [
    "# labels\n",
    "paths = qmi.wrapper_alch_data()\n",
    "paths.remove('/home/misa/APDFT/prototyping/atomic_energies/results/slice_ve38/dsgdb9nsd_001265/atomic_energies_with_mic.txt')\n",
    "data, molecule_size = qmi.load_alchemy_data(paths)\n",
    "\n",
    "atomisation_en = qmi.generate_label_vector(data, molecule_size.sum(), value='atomisation')\n",
    "atomic_en = qmi.generate_label_vector(data, molecule_size.sum(), value='atomic')\n",
    "alch_pot = qmi.generate_label_vector(data, molecule_size.sum(), value='alch_pot')\n",
    "charges = qmi.generate_label_vector(data, molecule_size.sum(), value='charge')"
   ]
  },
  {
   "cell_type": "code",
   "execution_count": 5,
   "metadata": {},
   "outputs": [
    {
     "name": "stdout",
     "output_type": "stream",
     "text": [
      "-35.89220427042424 513.3132648131472\n",
      "-25.881158255819123 413.09222250660605\n"
     ]
    }
   ],
   "source": [
    "median_all = np.median(atomic_en)\n",
    "var_all = np.sum((atomic_en-median_all)**2)/len(atomic_en)\n",
    "\n",
    "mean_all = np.mean(atomic_en)\n",
    "var2_all = np.sum((atomic_en-mean_all)**2)/len(atomic_en)\n",
    "print(median_all, var_all)\n",
    "print(mean_all, var2_all)"
   ]
  },
  {
   "cell_type": "code",
   "execution_count": 6,
   "metadata": {},
   "outputs": [],
   "source": [
    "atomic_element = aad.split_elementwise(data, molecule_size, 'atomic')"
   ]
  },
  {
   "cell_type": "code",
   "execution_count": 7,
   "metadata": {},
   "outputs": [],
   "source": [
    "statistics_element = dict()\n",
    "for k in atomic_element:\n",
    "    med = np.median(atomic_element[k])\n",
    "    var = np.sum((atomic_element[k]-med)**2)/len(atomic_element[k])\n",
    "    \n",
    "    mean = np.mean(atomic_element[k])\n",
    "    var2 = np.sum((atomic_element[k]-mean)**2)/len(atomic_element[k])\n",
    "    \n",
    "    statistics_element[k] = [[med, var], [mean, var2]]"
   ]
  },
  {
   "cell_type": "code",
   "execution_count": 8,
   "metadata": {},
   "outputs": [
    {
     "data": {
      "text/plain": [
       "{1.0: [[-5.627911530565533, 0.07443389455868937],\n",
       "  [-5.601650225465589, 0.07374423841313701]],\n",
       " 6.0: [[-41.14609820464178, 7.612219640873715],\n",
       "  [-40.97490083196727, 7.5829111004630585]],\n",
       " 7.0: [[-50.217831059762524, 13.223975762543198],\n",
       "  [-49.15152796510892, 12.086973472875341]],\n",
       " 8.0: [[-58.23585343215875, 8.29445426445328],\n",
       "  [-58.85887296314879, 7.906300928458222]],\n",
       " 9.0: [[-75.06222975538279, 0.26040257206894174],\n",
       "  [-74.86820899091641, 0.22275851502482782]]}"
      ]
     },
     "execution_count": 8,
     "metadata": {},
     "output_type": "execute_result"
    }
   ],
   "source": [
    "statistics_element"
   ]
  },
  {
   "cell_type": "code",
   "execution_count": 9,
   "metadata": {},
   "outputs": [],
   "source": [
    "atomic_database = pd.DataFrame(index=np.arange(molecule_size.sum()), columns=['mol_id', 'smiles', 'Z', 'atomic energy', 'atomisation energy'])"
   ]
  },
  {
   "cell_type": "code",
   "execution_count": 10,
   "metadata": {},
   "outputs": [],
   "source": [
    "# make a database\n",
    "index_database = 0\n",
    "for i, p in enumerate(paths):\n",
    "    data = np.loadtxt(p)\n",
    "    # get smiles\n",
    "    comp = p.split('/')[-2]\n",
    "    xyz_path = f'/home/misa/datasets/qm9/{comp}.xyz'\n",
    "    smiles = get_smiles(xyz_path)\n",
    "    for d in data:\n",
    "        atomic_database.at[index_database, 'mol_id'] = i\n",
    "        atomic_database.at[index_database, 'smiles'] = smiles\n",
    "        atomic_database.at[index_database, 'Z'] = d[0]\n",
    "        atomic_database.at[index_database, 'atomic energy'] = d[5]\n",
    "        atomic_database.at[index_database, 'atomisation energy'] = d[6]\n",
    "        \n",
    "        index_database += 1"
   ]
  },
  {
   "cell_type": "code",
   "execution_count": 11,
   "metadata": {},
   "outputs": [],
   "source": [
    "### add charge of nearest neighbours"
   ]
  },
  {
   "cell_type": "code",
   "execution_count": 12,
   "metadata": {},
   "outputs": [],
   "source": [
    "nearest_neighbour = []\n",
    "for i, p in enumerate(paths):\n",
    "    # get smiles\n",
    "    comp = p.split('/')[-2]\n",
    "    xyz_path = f'/home/misa/datasets/qm9/{comp}.xyz'\n",
    "    smiles = get_smiles(xyz_path)\n",
    "    mol = Chem.MolFromSmiles(smiles)\n",
    "    mol = Chem.AddHs(mol)\n",
    "    nearest_neighbour.extend(aad.get_charge_neighbours(mol))\n",
    "atomic_database['charge NN'] = nearest_neighbour"
   ]
  },
  {
   "cell_type": "code",
   "execution_count": 13,
   "metadata": {},
   "outputs": [],
   "source": [
    "# sanity check charges from smiles should have same order as from qm9\n",
    "atomic_num = []\n",
    "for i, p in enumerate(paths):\n",
    "    # get smiles\n",
    "    comp = p.split('/')[-2]\n",
    "    xyz_path = f'/home/misa/datasets/qm9/{comp}.xyz'\n",
    "    smiles = get_smiles(xyz_path)\n",
    "    mol = Chem.MolFromSmiles(smiles)\n",
    "    mol = Chem.AddHs(mol)\n",
    "    for atom in mol.GetAtoms():\n",
    "        atomic_num.append(atom.GetAtomicNum())\n",
    "atomic_database['atomic_num'] = atomic_num"
   ]
  },
  {
   "cell_type": "code",
   "execution_count": 14,
   "metadata": {},
   "outputs": [],
   "source": [
    "Zs = atomic_database['Z']\n",
    "atomic_nums = atomic_database['atomic_num']\n",
    "counter = 0\n",
    "for z, a in zip(Zs, atomic_nums):\n",
    "    if z != a:\n",
    "        print(counter)\n",
    "    counter += 1"
   ]
  },
  {
   "cell_type": "code",
   "execution_count": null,
   "metadata": {},
   "outputs": [],
   "source": []
  },
  {
   "cell_type": "code",
   "execution_count": 15,
   "metadata": {},
   "outputs": [
    {
     "data": {
      "text/plain": [
       "40"
      ]
     },
     "execution_count": 15,
     "metadata": {},
     "output_type": "execute_result"
    }
   ],
   "source": [
    "total_length = 0\n",
    "for Z in set(atomic_database['Z']):\n",
    "    # get charge of first coordination sphere for all atoms with same nuclear charge Z\n",
    "    unique_charges = list(set(atomic_database.loc[atomic_database['Z'] == Z, 'charge NN']))\n",
    "    total_length += len(unique_charges)\n",
    "total_length"
   ]
  },
  {
   "cell_type": "code",
   "execution_count": 16,
   "metadata": {},
   "outputs": [],
   "source": [
    "distributions = pd.DataFrame(index=np.arange(total_length), columns=['Z', 'charge NN', 'median', 'var', 'distribution'])"
   ]
  },
  {
   "cell_type": "code",
   "execution_count": 17,
   "metadata": {},
   "outputs": [],
   "source": [
    "index_database = 0\n",
    "for Z in set(atomic_database['Z']):\n",
    "    # get charge of first coordination sphere for all atoms with same nuclear charge Z\n",
    "    unique_charges = list(set(atomic_database.loc[atomic_database['Z'] == Z, 'charge NN']))\n",
    "    unique_charges.sort()\n",
    "    for u in unique_charges:\n",
    "        atomic_energies_z_nn = atomic_database.loc[(atomic_database['Z'] == Z) & (atomic_database['charge NN'] == u), 'atomic energy']\n",
    "        atomic_energies_z_nn = np.array(atomic_database.loc[(atomic_database['Z'] == Z) & (atomic_database['charge NN'] == u), 'atomic energy'], dtype='float64')\n",
    "        med, var = get_median_var(atomic_energies_z_nn)\n",
    "        distributions.at[index_database, 'Z'] = Z\n",
    "        distributions.at[index_database, 'charge NN'] = u\n",
    "        distributions.at[index_database, 'median'] = med\n",
    "        distributions.at[index_database, 'var'] = var\n",
    "        distributions.at[index_database, 'distribution'] = atomic_energies_z_nn\n",
    "        index_database += 1"
   ]
  },
  {
   "cell_type": "markdown",
   "metadata": {},
   "source": [
    "### Plot results"
   ]
  },
  {
   "cell_type": "code",
   "execution_count": 18,
   "metadata": {},
   "outputs": [
    {
     "data": {
      "text/plain": [
       "13108"
      ]
     },
     "execution_count": 18,
     "metadata": {},
     "output_type": "execute_result"
    }
   ],
   "source": [
    "N_tot = len(atomic_en)\n",
    "N_tot"
   ]
  },
  {
   "cell_type": "code",
   "execution_count": 19,
   "metadata": {},
   "outputs": [],
   "source": [
    "variance_el = 0\n",
    "for k in statistics_element.keys():\n",
    "    var_normalized = statistics_element[k][0][1] * len(atomic_element[k])/N_tot\n",
    "    variance_el += var_normalized"
   ]
  },
  {
   "cell_type": "code",
   "execution_count": 20,
   "metadata": {},
   "outputs": [
    {
     "data": {
      "text/plain": [
       "4.509623646990174"
      ]
     },
     "execution_count": 20,
     "metadata": {},
     "output_type": "execute_result"
    }
   ],
   "source": [
    "variance_el"
   ]
  },
  {
   "cell_type": "code",
   "execution_count": 21,
   "metadata": {},
   "outputs": [],
   "source": [
    "tick_label = ['all', 'H', 'C', 'N', 'O', 'F']\n",
    "\n",
    "variance = [var_all]\n",
    "x_bar = [0]\n",
    "\n",
    "for k in statistics_element.keys():\n",
    "    variance.append(statistics_element[k][0][1])\n",
    "xbar_tmp = np.arange(len(statistics_element))+2\n",
    "x_bar.extend(xbar_tmp)"
   ]
  },
  {
   "cell_type": "code",
   "execution_count": 22,
   "metadata": {},
   "outputs": [],
   "source": [
    "var_cs1 = 0\n",
    "for s in set(distributions['Z']):\n",
    "    cNN = distributions.loc[distributions['Z'] == s, 'charge NN']\n",
    "    for c in cNN:\n",
    "        #print(s, c)\n",
    "        N_I = len(distributions.loc[(distributions['Z'] == s) & (distributions['charge NN'] == c), 'distribution'].item())\n",
    "        var = distributions.loc[(distributions['Z'] == int(s)) & (distributions['charge NN'] == c), 'var'].item()\n",
    "        var_cs1 += var*N_I\n",
    "var_cs1 = var_cs1/N_tot"
   ]
  },
  {
   "cell_type": "code",
   "execution_count": 23,
   "metadata": {},
   "outputs": [
    {
     "data": {
      "text/plain": [
       "0.6610912511867718"
      ]
     },
     "execution_count": 23,
     "metadata": {},
     "output_type": "execute_result"
    }
   ],
   "source": [
    "var_cs1"
   ]
  },
  {
   "cell_type": "code",
   "execution_count": 24,
   "metadata": {},
   "outputs": [
    {
     "data": {
      "text/plain": [
       "Text(0, 0.5, '$\\\\sigma^2$')"
      ]
     },
     "execution_count": 24,
     "metadata": {},
     "output_type": "execute_result"
    },
    {
     "data": {
      "image/png": "[encoded data removed]",
      "text/plain": [
       "<Figure size 432x288 with 1 Axes>"
      ]
     },
     "metadata": {
      "needs_background": "light"
     },
     "output_type": "display_data"
    }
   ],
   "source": [
    "plt.rcParams['font.size'] = 20\n",
    "plt.bar([1,2,3], [var_all, variance_el, var_cs1], tick_label=['all', 'el', 'CS 1'])\n",
    "plt.yscale('log')\n",
    "plt.ylabel(r'$\\sigma^2$')"
   ]
  },
  {
   "cell_type": "code",
   "execution_count": null,
   "metadata": {},
   "outputs": [],
   "source": []
  },
  {
   "cell_type": "code",
   "execution_count": 25,
   "metadata": {},
   "outputs": [],
   "source": [
    "H_CS1 = np.array(distributions.loc[distributions['Z'] == 1, ['charge NN', 'var']])\n",
    "C_CS1 = np.array(distributions.loc[distributions['Z'] == 6, ['charge NN', 'var']])\n",
    "N_CS1 = np.array(distributions.loc[distributions['Z'] == 7, ['charge NN', 'var']])\n",
    "O_CS1 = np.array(distributions.loc[distributions['Z'] == 8, ['charge NN', 'var']])"
   ]
  },
  {
   "cell_type": "code",
   "execution_count": 26,
   "metadata": {},
   "outputs": [
    {
     "data": {
      "text/plain": [
       "0    6\n",
       "1    7\n",
       "2    8\n",
       "Name: charge NN, dtype: object"
      ]
     },
     "execution_count": 26,
     "metadata": {},
     "output_type": "execute_result"
    }
   ],
   "source": [
    "distributions.loc[distributions['Z'] == 1, 'charge NN']"
   ]
  },
  {
   "cell_type": "markdown",
   "metadata": {},
   "source": [
    "### Distributions for H"
   ]
  },
  {
   "cell_type": "code",
   "execution_count": 30,
   "metadata": {},
   "outputs": [],
   "source": [
    "dH = distributions.loc[distributions['Z'] == 1]"
   ]
  },
  {
   "cell_type": "code",
   "execution_count": 81,
   "metadata": {},
   "outputs": [],
   "source": [
    "#fig, ax = plt.subplots(1,1)\n",
    "energies_H = []\n",
    "cnn_H = []\n",
    "for cN in dH['charge NN']:\n",
    "    energy = dH.loc[dH['charge NN'] == cN, 'distribution'].item()\n",
    "    energies_H.extend(energy)\n",
    "    cnn_H.extend(np.full_like(energy, cN))\n",
    "    #ax.scatter(np.full_like(energy, cN), energy)"
   ]
  },
  {
   "cell_type": "code",
   "execution_count": 112,
   "metadata": {},
   "outputs": [
    {
     "name": "stderr",
     "output_type": "stream",
     "text": [
      "/home/misa/anaconda3/envs/atomic-energies/lib/python3.7/site-packages/ipykernel_launcher.py:3: RuntimeWarning: divide by zero encountered in log10\n",
      "  This is separate from the ipykernel package so we can avoid doing imports until\n"
     ]
    },
    {
     "data": {
      "image/png": "[encoded data removed]",
      "text/plain": [
       "<Figure size 432x288 with 2 Axes>"
      ]
     },
     "metadata": {
      "needs_background": "light"
     },
     "output_type": "display_data"
    }
   ],
   "source": [
    "#H, xedges, yedges = np.histogram2d(x, y, bins=[gridx, gridy])\n",
    "H, xedges, yedges  = np.histogram2d(cnn_H, energies_H, bins=[5, 5*(np.amax(energies_H)-np.amin(energies_H))])\n",
    "H_scaled = np.log10(H)\n",
    "H_scaled[np.isneginf(H_scaled)]=0\n",
    "plt.rcParams['font.size'] = 20\n",
    "plt.figure()\n",
    "myextent  =[xedges[0],xedges[-1],yedges[0],yedges[-1]]\n",
    "plt.imshow(H_scaled.T,origin='low',extent=myextent,interpolation='none',aspect='auto')\n",
    "#plt.imshow(H_scaled.T,origin='low',extent=myextent,interpolation='bilinear',aspect='auto')\n",
    "\n",
    "plt.colorbar()\n",
    "plt.xlabel(r'$\\sum_I Z_I^{(1)}$')\n",
    "\n",
    "plt.ylabel(r'$E_I$')\n",
    "#plt.ylabel(r'$|E_I^{\\rm at} - E_J^{\\rm at}|$')\n",
    "\n",
    "plt.show()"
   ]
  },
  {
   "cell_type": "markdown",
   "metadata": {},
   "source": [
    "### Distributions for C"
   ]
  },
  {
   "cell_type": "code",
   "execution_count": 117,
   "metadata": {},
   "outputs": [
    {
     "data": {
      "image/png": "[encoded data removed]",
      "text/plain": [
       "<Figure size 432x288 with 1 Axes>"
      ]
     },
     "metadata": {
      "needs_background": "light"
     },
     "output_type": "display_data"
    }
   ],
   "source": [
    "dC = distributions.loc[distributions['Z'] == 6]\n",
    "fig, ax = plt.subplots(1,1)\n",
    "for cN in dC['charge NN']:\n",
    "    energy = dC.loc[dC['charge NN'] == cN, 'distribution'].item()\n",
    "    ax.scatter(np.full_like(energy, cN), energy)"
   ]
  },
  {
   "cell_type": "code",
   "execution_count": 83,
   "metadata": {},
   "outputs": [],
   "source": [
    "dC = distributions.loc[distributions['Z'] == 6]\n",
    "energies_C = []\n",
    "cnn_C = []\n",
    "for cN in dC['charge NN']:\n",
    "    energy = dC.loc[dC['charge NN'] == cN, 'distribution'].item()\n",
    "    energies_C.extend(energy)\n",
    "    cnn_C.extend(np.full_like(energy, cN))\n"
   ]
  },
  {
   "cell_type": "code",
   "execution_count": 113,
   "metadata": {},
   "outputs": [
    {
     "name": "stderr",
     "output_type": "stream",
     "text": [
      "/home/misa/anaconda3/envs/atomic-energies/lib/python3.7/site-packages/ipykernel_launcher.py:3: RuntimeWarning: divide by zero encountered in log10\n",
      "  This is separate from the ipykernel package so we can avoid doing imports until\n"
     ]
    },
    {
     "data": {
      "image/png": "[encoded data removed]",
      "text/plain": [
       "<Figure size 432x288 with 2 Axes>"
      ]
     },
     "metadata": {
      "needs_background": "light"
     },
     "output_type": "display_data"
    }
   ],
   "source": [
    "#H, xedges, yedges = np.histogram2d(x, y, bins=[gridx, gridy])\n",
    "C, xedges, yedges  = np.histogram2d(cnn_C, energies_C, bins=[np.amax(cnn_C)-np.amin(cnn_C), 1.5*(np.amax(energies_C)-np.amin(energies_C))])\n",
    "C_scaled = np.log10(C)\n",
    "C_scaled[np.isneginf(C_scaled)]=0\n",
    "plt.rcParams['font.size'] = 20\n",
    "plt.figure()\n",
    "myextent  =[xedges[0],xedges[-1],yedges[0],yedges[-1]]\n",
    "plt.imshow(C_scaled.T,origin='low',extent=myextent,interpolation='nearest',aspect='auto')\n",
    "#plt.imshow(H_scaled.T,origin='low',extent=myextent,interpolation='bilinear',aspect='auto')\n",
    "\n",
    "plt.colorbar()\n",
    "plt.xlabel(r'$\\sum_I Z_I^{(1)}$')\n",
    "\n",
    "plt.ylabel(r'$E_I$')\n",
    "#plt.ylabel(r'$|E_I^{\\rm at} - E_J^{\\rm at}|$')\n",
    "\n",
    "plt.show()"
   ]
  },
  {
   "cell_type": "code",
   "execution_count": 56,
   "metadata": {},
   "outputs": [
    {
     "data": {
      "image/png": "[encoded data removed]",
      "text/plain": [
       "<Figure size 432x288 with 1 Axes>"
      ]
     },
     "metadata": {
      "needs_background": "light"
     },
     "output_type": "display_data"
    }
   ],
   "source": [
    "dN = distributions.loc[distributions['Z'] == 7]\n",
    "fig, ax = plt.subplots(1,1)\n",
    "for cN in dN['charge NN']:\n",
    "    energy = dN.loc[dN['charge NN'] == cN, 'distribution'].item()\n",
    "    ax.scatter(np.full_like(energy, cN), energy)"
   ]
  },
  {
   "cell_type": "code",
   "execution_count": 107,
   "metadata": {},
   "outputs": [
    {
     "name": "stderr",
     "output_type": "stream",
     "text": [
      "/home/misa/anaconda3/envs/atomic-energies/lib/python3.7/site-packages/ipykernel_launcher.py:9: RuntimeWarning: divide by zero encountered in log10\n",
      "  if __name__ == '__main__':\n"
     ]
    },
    {
     "data": {
      "image/png": "[encoded data removed]",
      "text/plain": [
       "<Figure size 432x288 with 2 Axes>"
      ]
     },
     "metadata": {
      "needs_background": "light"
     },
     "output_type": "display_data"
    }
   ],
   "source": [
    "energies_N = []\n",
    "cnn_N = []\n",
    "for cN in dN['charge NN']:\n",
    "    energy = dN.loc[dN['charge NN'] == cN, 'distribution'].item()\n",
    "    energies_N.extend(energy)\n",
    "    cnn_N.extend(np.full_like(energy, cN))\n",
    "\n",
    "N, xedges, yedges  = np.histogram2d(cnn_N, energies_N, bins=[np.amax(cnn_N)-np.amin(cnn_N), 1.5*(np.amax(energies_N)-np.amin(energies_N))])\n",
    "N_scaled = np.log10(N)\n",
    "N_scaled[np.isneginf(N_scaled)]=0\n",
    "plt.rcParams['font.size'] = 20\n",
    "plt.figure()\n",
    "myextent  =[xedges[0],xedges[-1],yedges[0],yedges[-1]]\n",
    "plt.imshow(N_scaled.T,origin='low',extent=myextent,interpolation='nearest',aspect='auto')\n",
    "#plt.imshow(H_scaled.T,origin='low',extent=myextent,interpolation='bilinear',aspect='auto')\n",
    "\n",
    "plt.colorbar()\n",
    "plt.xlabel(r'$\\sum_I Z_I^{(1)}$')\n",
    "\n",
    "plt.ylabel(r'$E_I$')\n",
    "#plt.ylabel(r'$|E_I^{\\rm at} - E_J^{\\rm at}|$')\n",
    "\n",
    "plt.show()"
   ]
  },
  {
   "cell_type": "code",
   "execution_count": 57,
   "metadata": {},
   "outputs": [
    {
     "data": {
      "image/png": "[encoded data removed]",
      "text/plain": [
       "<Figure size 432x288 with 1 Axes>"
      ]
     },
     "metadata": {
      "needs_background": "light"
     },
     "output_type": "display_data"
    }
   ],
   "source": [
    "dO = distributions.loc[distributions['Z'] == 8]\n",
    "fig, ax = plt.subplots(1,1)\n",
    "for cN in dO['charge NN']:\n",
    "    energy = dO.loc[dO['charge NN'] == cN, 'distribution'].item()\n",
    "    ax.scatter(np.full_like(energy, cN), energy)"
   ]
  },
  {
   "cell_type": "code",
   "execution_count": 116,
   "metadata": {},
   "outputs": [
    {
     "name": "stderr",
     "output_type": "stream",
     "text": [
      "/home/misa/anaconda3/envs/atomic-energies/lib/python3.7/site-packages/ipykernel_launcher.py:9: RuntimeWarning: divide by zero encountered in log10\n",
      "  if __name__ == '__main__':\n"
     ]
    },
    {
     "data": {
      "image/png": "[encoded data removed]",
      "text/plain": [
       "<Figure size 432x288 with 2 Axes>"
      ]
     },
     "metadata": {
      "needs_background": "light"
     },
     "output_type": "display_data"
    }
   ],
   "source": [
    "energies_O = []\n",
    "cnn_O = []\n",
    "for cN in dO['charge NN']:\n",
    "    energy = dO.loc[dO['charge NN'] == cN, 'distribution'].item()\n",
    "    energies_O.extend(energy)\n",
    "    cnn_O.extend(np.full_like(energy, cN))\n",
    "\n",
    "O, xedges, yedges  = np.histogram2d(cnn_O, energies_O, bins=[np.amax(cnn_O)-np.amin(cnn_O), 1.5*(np.amax(energies_O)-np.amin(energies_O))])\n",
    "O_scaled = np.log10(O)\n",
    "O_scaled[np.isneginf(O_scaled)]=0\n",
    "plt.rcParams['font.size'] = 20\n",
    "plt.figure()\n",
    "myextent  =[xedges[0],xedges[-1],yedges[0],yedges[-1]]\n",
    "plt.imshow(O_scaled.T,origin='low',extent=myextent,interpolation='nearest',aspect='auto')\n",
    "#plt.imshow(H_scaled.T,origin='low',extent=myextent,interpolation='bilinear',aspect='auto')\n",
    "\n",
    "plt.colorbar()\n",
    "plt.xlabel(r'$\\sum_I Z_I^{(1)}$')\n",
    "\n",
    "plt.ylabel(r'$E_I$')\n",
    "#plt.ylabel(r'$|E_I^{\\rm at} - E_J^{\\rm at}|$')\n",
    "\n",
    "plt.show()"
   ]
  },
  {
   "cell_type": "code",
   "execution_count": 58,
   "metadata": {},
   "outputs": [
    {
     "data": {
      "image/png": "[encoded data removed]",
      "text/plain": [
       "<Figure size 432x288 with 1 Axes>"
      ]
     },
     "metadata": {
      "needs_background": "light"
     },
     "output_type": "display_data"
    }
   ],
   "source": [
    "dF = distributions.loc[distributions['Z'] == 9]\n",
    "fig, ax = plt.subplots(1,1)\n",
    "for cN in dF['charge NN']:\n",
    "    energy = dF.loc[dF['charge NN'] == cN, 'distribution'].item()\n",
    "    ax.scatter(np.full_like(energy, cN), energy)"
   ]
  },
  {
   "cell_type": "code",
   "execution_count": null,
   "metadata": {},
   "outputs": [],
   "source": []
  }
 ],
 "metadata": {
  "kernelspec": {
   "display_name": "Python [conda env:atomic-energies]",
   "language": "python",
   "name": "conda-env-atomic-energies-py"
  },
  "language_info": {
   "codemirror_mode": {
    "name": "ipython",
    "version": 3
   },
   "file_extension": ".py",
   "mimetype": "text/x-python",
   "name": "python",
   "nbconvert_exporter": "python",
   "pygments_lexer": "ipython3",
   "version": "3.7.3"
  }
 },
 "nbformat": 4,
 "nbformat_minor": 4
}
