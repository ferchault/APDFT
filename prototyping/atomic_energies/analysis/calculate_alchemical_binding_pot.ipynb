{
 "cells": [
  {
   "cell_type": "markdown",
   "metadata": {},
   "source": [
    "# The electrostatic potential of free atoms"
   ]
  },
  {
   "cell_type": "code",
   "execution_count": null,
   "metadata": {},
   "outputs": [],
   "source": [
    "import sys\n",
    "sys.path.insert(0, '/home/misa/git_repositories/APDFT/prototyping/atomic_energies/')\n",
    "\n",
    "import numpy as np\n",
    "import scipy as sc\n",
    "from parse_density_files import CUBE\n",
    "import alchemy_tools2 as at\n",
    "import qml_interface as qmi\n",
    "import utils_qm as uq\n",
    "import glob\n",
    "from matplotlib import pyplot as plt\n",
    "\n",
    "from ase.units import Bohr"
   ]
  },
  {
   "cell_type": "code",
   "execution_count": null,
   "metadata": {},
   "outputs": [],
   "source": [
    "def get_paths():\n",
    "    pass\n",
    "\n",
    "def load_cube_data(paths_cubes):\n",
    "    \"\"\"\n",
    "    returns the data necessary to calculate the atomic energies from the cube-files\n",
    "    for different lambda values\n",
    "    \n",
    "    paths_cubes: paths to cubes files\n",
    "    densities: densities given in different cube files\n",
    "    lam_vals: lambda value for cube file, obtained by parsing filename\n",
    "    nuclei: charges and coordinates of the nuclei\n",
    "    gpts: the gridpoints where density values are given\n",
    "    \"\"\"\n",
    "    \n",
    "    densities = []\n",
    "    nuclei = None # nuclear charges and their positions\n",
    "    gpts = None # gridpoints where density values are given\n",
    "    h_matrix = np.zeros((3,3)) # needed for the calculation of the distance of the nuclei to the gridpoints with MIC\n",
    "    \n",
    "    for idx, path in enumerate(paths_cubes):\n",
    "        cube = CUBE(path)\n",
    "        \n",
    "        densities.append(cube.data_scaled) # density\n",
    "        \n",
    "        if idx==len(paths_cubes)-1:\n",
    "            nuclei = cube.atoms\n",
    "            gpts = cube.get_grid()\n",
    "            h_matrix = [cube.X*cube.NX, cube.Y*cube.NY, cube.Z*cube.NZ]\n",
    "    \n",
    "    return(densities, nuclei, gpts, h_matrix)\n",
    "\n",
    "def generate_ueg(num_elec, shape):\n",
    "    volume = 1\n",
    "    for s in shape:\n",
    "        volume *= s\n",
    "    return(np.full(shape, num_elec/volume))\n",
    "\n",
    "def load_free_atoms_densities(element):\n",
    "    if element == 'H':\n",
    "        #################################\n",
    "        #          HYDROGEN\n",
    "        #################################\n",
    "        # load paths to H\n",
    "        paths = ['/home/misa/APDFT/prototyping/atomic_energies/results/slice_ve38/free_atoms/H/ve_0p6/DENSITY.cube',\n",
    "                 '/home/misa/APDFT/prototyping/atomic_energies/results/slice_ve38/free_atoms/H/ve_0p7/DENSITY.cube',\n",
    "                 '/home/misa/APDFT/prototyping/atomic_energies/results/slice_ve38/free_atoms/H/ve_0p8/DENSITY.cube',\n",
    "                 '/home/misa/APDFT/prototyping/atomic_energies/results/slice_ve38/free_atoms/H/ve_1/DENSITY.cube']\n",
    "        # generate lam_vals H\n",
    "        lam_vals = np.array([0.0, 23/38, 0.7, 30/38, 1])\n",
    "        # load cube files\n",
    "        densities, nuclei, gpts, h_matrix = load_cube_data(paths)\n",
    "        shape = densities[0].shape\n",
    "        # generate cube file for ueg H\n",
    "        ueg = generate_ueg(1, shape)\n",
    "\n",
    "    elif element == 'C':\n",
    "        #################################\n",
    "        #          CARBON\n",
    "        #################################\n",
    "        # load paths to C\n",
    "        paths = ['/home/misa/APDFT/prototyping/atomic_energies/results/slice_ve38/free_atoms/C/ve_0p2/DENSITY.cube',\n",
    "                 '/home/misa/APDFT/prototyping/atomic_energies/results/slice_ve38/free_atoms/C/ve_0p8/DENSITY.cube',\n",
    "                 '/home/misa/APDFT/prototyping/atomic_energies/results/slice_ve38/free_atoms/C/ve_1/DENSITY.cube']\n",
    "        # generate lam_vals C\n",
    "        lam_vals = np.array([0.0, 8/38, 30/38, 1])\n",
    "        # load cube files\n",
    "        densities, nuclei, gpts, h_matrix = load_cube_data(paths)\n",
    "        shape = densities[0].shape\n",
    "        # generate cube file for ueg C\n",
    "        ueg = generate_ueg(4, shape)\n",
    "\n",
    "    elif element == 'N':\n",
    "        #################################\n",
    "        #          NITROGEN\n",
    "        #################################\n",
    "        # load paths to N\n",
    "        paths = ['/home/misa/APDFT/prototyping/atomic_energies/results/slice_ve38/free_atoms/N/ve_0p4/DENSITY.cube',\n",
    "                 '/home/misa/APDFT/prototyping/atomic_energies/results/slice_ve38/free_atoms/N/ve_1/DENSITY.cube']\n",
    "        # generate lam_vals N\n",
    "        lam_vals = np.array([0.0, 15/38, 1])\n",
    "        # load cube files\n",
    "        densities, nuclei, gpts, h_matrix = load_cube_data(paths)\n",
    "        shape = densities[0].shape\n",
    "        # generate cube file for ueg N\n",
    "        ueg = generate_ueg(5, shape)\n",
    "\n",
    "    elif element == 'O':\n",
    "        # load paths to O\n",
    "        paths = ['/home/misa/APDFT/prototyping/atomic_energies/results/slice_ve38/free_atoms/O/ve_0p2/DENSITY.cube',\n",
    "                '/home/misa/APDFT/prototyping/atomic_energies/results/slice_ve38/free_atoms/O/ve_0p4/DENSITY.cube',\n",
    "                '/home/misa/APDFT/prototyping/atomic_energies/results/slice_ve38/free_atoms/O/ve_0p8/DENSITY.cube',\n",
    "                '/home/misa/APDFT/prototyping/atomic_energies/results/slice_ve38/free_atoms/O/ve_1/DENSITY.cube']\n",
    "        # generate lam_vals O\n",
    "        lam_vals = np.array([0.0, 8/38, 15/38, 30/38, 1])\n",
    "        # load cube files\n",
    "        densities, nuclei, gpts, h_matrix = load_cube_data(paths)\n",
    "        shape = densities[0].shape\n",
    "        # generate cube file for ueg O\n",
    "        ueg = generate_ueg(6, shape)\n",
    "\n",
    "    densities.insert(0, ueg)\n",
    "    return(densities, lam_vals)\n",
    "\n",
    "def get_elec_pot(dens, gpts, dist, h_mat):\n",
    "    \"\"\"\n",
    "    # calculate electrostatic potential\n",
    "    \"\"\"\n",
    "    dvecs = dist/np.sqrt(3)\n",
    "    center = 10.0/Bohr\n",
    "    pos_R_I = []\n",
    "\n",
    "    for dvec in dvecs:\n",
    "        pos_R_I.append([center+dvec, center+dvec, center+dvec])\n",
    "    pos_R_I = np.array(pos_R_I)\n",
    "\n",
    "    # calculate integrals\n",
    "    integrals = []\n",
    "    for pos in pos_R_I:\n",
    "        integrals.append(get_alchpot(dens, pos, gpts, h_mat))\n",
    "    return(integrals)\n",
    "\n",
    "def get_alchpot(density, nuc_pos, meshgrid, h_matrix):\n",
    "    dist = at.distance_MIC2(nuc_pos, meshgrid, h_matrix)\n",
    "    alch_pot = -(density/dist).sum()\n",
    "    return(alch_pot)"
   ]
  },
  {
   "cell_type": "markdown",
   "metadata": {},
   "source": [
    "### Maximum distance between two atoms in a molecule"
   ]
  },
  {
   "cell_type": "code",
   "execution_count": null,
   "metadata": {},
   "outputs": [],
   "source": [
    "def get_largest_distance(coords):\n",
    "    distances = sc.spatial.distance.cdist(coords, coords)\n",
    "    max_dist = []\n",
    "    for d in distances:\n",
    "        max_dist.append(np.max(d))\n",
    "    return(np.amax(max_dist))"
   ]
  },
  {
   "cell_type": "code",
   "execution_count": null,
   "metadata": {},
   "outputs": [],
   "source": [
    "paths = qmi.wrapper_alch_data()\n",
    "data, msize = qmi.load_alchemy_data(paths)\n",
    "\n",
    "largest_dist = []\n",
    "for mol in data:\n",
    "    largest_dist.append(get_largest_distance(mol[:,1:4]))"
   ]
  },
  {
   "cell_type": "code",
   "execution_count": null,
   "metadata": {},
   "outputs": [],
   "source": [
    "np.amax(largest_dist)"
   ]
  },
  {
   "cell_type": "code",
   "execution_count": null,
   "metadata": {},
   "outputs": [],
   "source": [
    "np.linalg.norm( np.array([20,20,20])-np.array([10,10,10]) )"
   ]
  },
  {
   "cell_type": "markdown",
   "metadata": {},
   "source": [
    "### Calculate averaged density"
   ]
  },
  {
   "cell_type": "code",
   "execution_count": null,
   "metadata": {},
   "outputs": [],
   "source": [
    "densities, nuclei, gpts, h_matrix = load_cube_data(['/home/misa/APDFT/prototyping/atomic_energies/results/slice_ve38/free_atoms/H/ve_0p6/DENSITY.cube'])\n",
    "\n",
    "densities, lam_vals = load_free_atoms_densities('C')\n",
    "average_density = at.integrate_lambda_density(densities, lam_vals)"
   ]
  },
  {
   "cell_type": "code",
   "execution_count": null,
   "metadata": {},
   "outputs": [],
   "source": [
    "for i in range(len(densities)):\n",
    "    plt.plot(np.linspace(0, 20, densities[i].shape[0]), densities[i].sum((2,0)))"
   ]
  },
  {
   "cell_type": "code",
   "execution_count": null,
   "metadata": {},
   "outputs": [],
   "source": [
    "# # calculate averaged density\n",
    "# elements = ['H', 'C', 'N', 'O']\n",
    "\n",
    "# for el in elements:\n",
    "#     densities, lam_vals = load_free_atoms_densities(el)\n",
    "#     average_density = at.integrate_lambda_density(densities, lam_vals)\n",
    "#     uq.save_obj(average_density, f'/home/misa/APDFT/prototyping/atomic_energies/results/slice_ve38/free_atoms/av_dens_{el}')"
   ]
  },
  {
   "cell_type": "code",
   "execution_count": null,
   "metadata": {},
   "outputs": [],
   "source": [
    "densities, nuclei, gpts, h_matrix = load_cube_data(['/home/misa/APDFT/prototyping/atomic_energies/results/slice_ve38/free_atoms/H/ve_0p6/DENSITY.cube'])\n",
    "\n",
    "dist = np.arange(0, 17.5/Bohr, 0.25)\n",
    "poly_objs = []\n",
    "ints = []\n",
    "for el in ['H', 'C', 'N', 'O']:\n",
    "    av_dens = uq.load_obj(f'/home/misa/APDFT/prototyping/atomic_energies/results/slice_ve38/free_atoms/av_dens_{el}')\n",
    "    integrals = get_elec_pot(av_dens, gpts, dist, h_matrix)\n",
    "    ints.append(integrals)\n",
    "    # fit potential\n",
    "    poly_obj = sc.interpolate.CubicSpline(dist, integrals)\n",
    "    poly_objs.append(poly_obj)\n",
    "    # save result\n",
    "    save_path = f'/home/misa/APDFT/prototyping/atomic_energies/results/slice_ve38/free_atoms/{el}/'\n",
    "    uq.save_obj(poly_obj, save_path+f'poly_{el}_recalculated')"
   ]
  },
  {
   "cell_type": "code",
   "execution_count": null,
   "metadata": {},
   "outputs": [],
   "source": [
    "dens = []\n",
    "for el in ['H', 'C', 'N', 'O']:\n",
    "    dens.append(uq.load_obj(f'/home/misa/APDFT/prototyping/atomic_energies/results/slice_ve38/free_atoms/av_dens_{el}'))"
   ]
  },
  {
   "cell_type": "code",
   "execution_count": null,
   "metadata": {},
   "outputs": [],
   "source": [
    "dens = [average_density]\n",
    "nuc_pos = np.array([10,10,10])/Bohr\n",
    "for d in dens:\n",
    "    print(get_alchpot(d, nuc_pos, gpts, h_matrix))"
   ]
  },
  {
   "cell_type": "code",
   "execution_count": null,
   "metadata": {},
   "outputs": [],
   "source": [
    "average_density.sum()"
   ]
  },
  {
   "cell_type": "code",
   "execution_count": null,
   "metadata": {},
   "outputs": [],
   "source": [
    "# plot fits\n",
    "fig, ax = plt.subplots(1,1)\n",
    "plt.rcParams['font.size'] = 20\n",
    "\n",
    "for el, poly_obj, integrals in zip(['H', 'C', 'N', 'O'], poly_objs, ints):\n",
    "    eval_x = np.arange(0, 21/Bohr, 0.1)\n",
    "    integral_fit = poly_obj.__call__(eval_x)\n",
    "    ax.plot(dist, integrals, '-o', label = el)\n",
    "    ax.plot(eval_x, integral_fit)\n",
    "    \n",
    "ax.set_xlabel(r'$|\\vec{R}_J - \\vec{R}_I|$ (Bohr)')\n",
    "ax.set_ylabel(r'$\\int d\\vec{r} \\frac{\\tilde{\\rho}_{J, \\rm{at}}}{|\\vec{r}-\\vec{R}_I|}$')\n",
    "ax.legend()"
   ]
  },
  {
   "cell_type": "code",
   "execution_count": null,
   "metadata": {},
   "outputs": [],
   "source": [
    "# compare fine grid and recalculated to see if density were switched\n",
    "base_path = f'/home/misa/APDFT/prototyping/atomic_energies/results/slice_ve38/free_atoms/'\n",
    "poly_recalculated = []\n",
    "poly_fine = []\n",
    "\n",
    "elements =  ['H', 'C', 'N', 'O']\n",
    "for el in elements:\n",
    "    poly_recalculated.append(uq.load_obj(base_path+f'{el}/poly_{el}_recalculated'))\n",
    "    poly_fine.append(uq.load_obj(base_path+f'{el}/poly_{el}_fine'))\n",
    "    \n",
    "fig, ax = plt.subplots(2,2)\n",
    "plt.rcParams['figure.figsize'] = [10.0, 10.0]\n",
    "import itertools as it\n",
    "idx = it.product((0,1), (0,1))\n",
    "for i, pr, pf in zip(idx, poly_recalculated, poly_fine):\n",
    "    eval_x = np.arange(0, 21/Bohr, 0.1)\n",
    "    y_recalculated = pr.__call__(eval_x)\n",
    "    y_fine = pf.__call__(eval_x)\n",
    "    ax[i].plot(eval_x, y_recalculated, label = 're')\n",
    "    ax[i].plot(eval_x, y_fine, '--', label = 'old')\n",
    "    ax[i].legend()"
   ]
  },
  {
   "cell_type": "markdown",
   "metadata": {},
   "source": [
    "# Calculate the atomic alchemical binding potential from the fit"
   ]
  },
  {
   "cell_type": "code",
   "execution_count": null,
   "metadata": {},
   "outputs": [],
   "source": [
    "import numpy as np\n",
    "from ase.units import Bohr\n",
    "\n",
    "import sys\n",
    "sys.path.insert(0, '/home/misa/git_repositories/APDFT/prototyping/atomic_energies/')\n",
    "\n",
    "import numpy as np\n",
    "import qml_interface as qmi\n",
    "import utils_qm as uq\n",
    "import geometry_euston as ge\n",
    "import glob"
   ]
  },
  {
   "cell_type": "code",
   "execution_count": null,
   "metadata": {},
   "outputs": [],
   "source": [
    "def get_alchpot_free_fit(molecule, poly_obs):\n",
    "    \"\"\"\n",
    "    calculates the alchemical binding potential for every atom in molecule\n",
    "    \"\"\"\n",
    "    # construct h matrix\n",
    "    h_mat = ge.abc_to_hmatrix(20,20,20,90,90,90)/Bohr\n",
    "    # get alchpot of free atoms\n",
    "    alch_pot_free = []\n",
    "    for atom_I in molecule:\n",
    "        alch_pot_free_I = 0\n",
    "        for atom_J in molecule:\n",
    "            dist = ge.distance_pbc(atom_I[1:4], atom_J[1:4], h_mat)\n",
    "            nuc_charge = atom_J[0]\n",
    "            poly_obj = poly_obs[nuc_charge] # dictionary\n",
    "            elec_pot = poly_obj.__call__([dist])[0]\n",
    "            alch_pot_free_I += elec_pot\n",
    "        alch_pot_free.append(alch_pot_free_I)\n",
    "        \n",
    "    alch_pot_free = np.array(alch_pot_free)\n",
    "#     alch_pot_bind = molecule[:, 4] - alch_pot_free\n",
    "    return(alch_pot_free)\n",
    "\n",
    "def get_alch_bind_pot(molecule, poly_obs):\n",
    "    \"\"\"\n",
    "    calculates the alchemical binding potential for every atom in molecule\n",
    "    \"\"\"\n",
    "    alch_pot_free = get_alchpot_free_fit(molecule, poly_obs)\n",
    "    alch_pot_bind = molecule[:, 4] - alch_pot_free\n",
    "    return(alch_pot_bind)\n",
    "\n",
    "def get_element_charge(el):\n",
    "    if el == 'H':\n",
    "        return(1)\n",
    "    elif el == 'C':\n",
    "        return(6)\n",
    "    elif el == 'N':\n",
    "        return(7)\n",
    "    elif el == 'O':\n",
    "        return(8)\n",
    "    else:\n",
    "        raise ValueError('Symbol for given charge not available')\n",
    "\n",
    "def load_poly_objs(paths_poly):\n",
    "    poly_objs = dict()\n",
    "    for p in paths_poly:\n",
    "        el = p.split('/')[-1].split('_')[-1]\n",
    "        charge = get_element_charge(el)\n",
    "        poly_objs[charge] = uq.load_obj(p)\n",
    "    return(poly_objs)"
   ]
  },
  {
   "cell_type": "code",
   "execution_count": null,
   "metadata": {},
   "outputs": [],
   "source": [
    "# load molecule data and electrostatic potentials\n",
    "paths = qmi.wrapper_alch_data()\n",
    "basepath = [p.strip('atomic_energies_with_mic.txt') for p in paths]\n",
    "data, msize = qmi.load_alchemy_data(paths)\n",
    "\n",
    "# paths_poly = glob.glob('/home/misa/APDFT/prototyping/atomic_energies/results/slice_ve38/free_atoms/*/poly_*_fine')\n",
    "# poly_objs = load_poly_objs(paths_poly)\n",
    "paths_poly = ['/home/misa/APDFT/prototyping/atomic_energies/results/slice_ve38/free_atoms/H/poly_H_fine',\n",
    "              '/home/misa/APDFT/prototyping/atomic_energies/results/slice_ve38/free_atoms/C/poly_C_fine',\n",
    "              '/home/misa/APDFT/prototyping/atomic_energies/results/slice_ve38/free_atoms/N/poly_N_fine',\n",
    "              '/home/misa/APDFT/prototyping/atomic_energies/results/slice_ve38/free_atoms/O/poly_O_fine']\n",
    "\n",
    "poly_objs = dict()\n",
    "for k,p in zip([1.0, 6.0, 7.0, 8.0], paths_poly):\n",
    "    poly_objs[k] = uq.load_obj(p)"
   ]
  },
  {
   "cell_type": "code",
   "execution_count": null,
   "metadata": {},
   "outputs": [],
   "source": [
    "# calculate potentials\n",
    "for molecule, path in zip(data, basepath):\n",
    "    # calculate binding values\n",
    "    alch_pot_bind = get_alch_bind_pot(molecule, poly_objs)\n",
    "    atomic_atomisation = alch_pot_bind*molecule[:,0]\n",
    "    # save data\n",
    "    save_arr = np.concatenate( (molecule[:,0:5], np.array([alch_pot_bind]).T, np.array([atomic_atomisation]).T), axis=1)\n",
    "    h = 'charge\\t x_coord\\t y_coord\\t z_coord\\t alchemical_potential\\t alchemical_binding_potential\\t atomisation_energies'\n",
    "    np.savetxt(path+'atomic_binding_energies2.txt', save_arr, delimiter='\\t', header=h)"
   ]
  },
  {
   "cell_type": "markdown",
   "metadata": {},
   "source": [
    "# Calculate the alchemical potential of the free atoms explicitly"
   ]
  },
  {
   "cell_type": "code",
   "execution_count": 1,
   "metadata": {},
   "outputs": [],
   "source": [
    "import sys\n",
    "sys.path.insert(0, '/home/misa/git_repositories/APDFT/prototyping/atomic_energies/')\n",
    "sys.path.insert(0, '/home/misa/git_repositories/APDFT/prototyping/atomic_energies/hitp')\n",
    "\n",
    "from ase.units import Bohr\n",
    "import numpy as np\n",
    "import qml_interface as qmi\n",
    "import alchemy_tools2 as at\n",
    "import utils_qm as uq\n",
    "from find_converged import concatenate_files\n",
    "import os\n",
    "\n",
    "def get_meshgrid(lx, ly, lz, nx, ny, nz):\n",
    "    \"\"\"\n",
    "    returns the coordinates of the grid points where the density values are given as a meshgrid\n",
    "    works so far only for orthogonal coordinate axes\n",
    "    \"\"\"\n",
    "    # length along the axes\n",
    "    l_x = lx[0]*nx\n",
    "    l_y = ly[1]*ny\n",
    "    l_z = lz[2]*nz\n",
    "    # gpts along every axis\n",
    "    x_coords = np.linspace(0, l_x-lx[0], nx)\n",
    "    y_coords = np.linspace(0, l_y-ly[1], ny)\n",
    "    z_coords = np.linspace(0, l_z-lz[2], nz)\n",
    "    # create gridpoints\n",
    "    meshgrid = np.meshgrid(x_coords, y_coords, z_coords, indexing='ij')\n",
    "    return(meshgrid)\n",
    "\n",
    "def get_alchpot_free(nuclei, densities_free_atoms, meshgrid, h_matrix, pos_free_atom = np.array([10.0, 10, 10])/Bohr):\n",
    "    \"\"\"\n",
    "    calculate alchemical potential of free atoms at position of every nucleus\n",
    "    length units should be given in Bohr\n",
    "    \"\"\"\n",
    "    alch_pot_free = []\n",
    "    for atom_I in nuclei:\n",
    "        alch_pot_free_I = 0\n",
    "        for atom_J in nuclei:\n",
    "            # get density of free atom J\n",
    "            nuc_charge = atom_J[0]\n",
    "            density_fa = densities_free_atoms[nuc_charge]\n",
    "            # calculate distance of R_I to all gridpoints (shift because free J is in center of box)\n",
    "            s = (pos_free_atom - atom_J[1:4])\n",
    "            RI_prime = atom_I[1:4] + s\n",
    "            dist = at.distance_MIC2(RI_prime, meshgrid, h_matrix)\n",
    "            # integrate\n",
    "            elec_pot = -(density_fa/dist).sum()\n",
    "            alch_pot_free_I += elec_pot\n",
    "        alch_pot_free.append(alch_pot_free_I)  \n",
    "    return(np.array(alch_pot_free))"
   ]
  },
  {
   "cell_type": "code",
   "execution_count": 2,
   "metadata": {},
   "outputs": [],
   "source": [
    "# load average density of free atoms\n",
    "base_path = '/home/misa/APDFT/prototyping/atomic_energies/results/slice_ve38/free_atoms/'\n",
    "densities_free_atoms = {1.0:None, 6.0:None, 7.0:None, 8.0:None}\n",
    "elements = ['H', 'C', 'N', 'O']\n",
    "for el, k in zip(elements, densities_free_atoms):\n",
    "    densities_free_atoms[k] = uq.load_obj(base_path + f'av_dens_{el}')\n",
    "\n",
    "# get meshgrid and h_matrix\n",
    "#  cell_parameters\n",
    "nx, ny, nz = densities_free_atoms[1.0].shape\n",
    "lx, ly, lz = np.array([[20/(Bohr*nx), 0 , 0], [0, 20/(Bohr*ny), 0], [0, 0, 20/(Bohr*nz)]])\n",
    "\n",
    "h_matrix = [lx*nx, ly*ny, lz*nz]\n",
    "meshgrid = get_meshgrid(lx, ly, lz, nx, ny, nz)\n",
    "\n",
    "\n",
    "# paths to the compounds\n",
    "dirs = concatenate_files(['/home/misa/APDFT/prototyping/atomic_energies/results/slice_ve38/paths_atomic_energies'])\n",
    "\n",
    "for compound_path in dirs:\n",
    "    # load ml data files instead of cuves\n",
    "    molecule = np.loadtxt(compound_path + 'atomic_energies_with_mic.txt')\n",
    "    alchpot_free = get_alchpot_free(molecule, densities_free_atoms, meshgrid, h_matrix)\n",
    "\n",
    "    alchpot_bind = molecule[:, 4] - alchpot_free\n",
    "    atomic_atomisation_pbc = alchpot_bind*molecule[:,0]\n",
    "    \n",
    "    # write atomic energies and alchemical potentials to file\n",
    "    store = np.array([molecule[:,0], molecule[:,1], molecule[:,2], molecule[:,3], molecule[:, 4], alchpot_free, alchpot_bind, atomic_atomisation_pbc]).T\n",
    "    header = 'charge\\t x_coord\\t y_coord\\t z_coord\\t alchemical_potential\\t alch_pot_free\\t alch_pot_bind\\t atomic_atomisation_pbc'\n",
    "    save_dir = os.path.join(compound_path, 'atomic_binding_energies_explicit.txt')\n",
    "    np.savetxt(save_dir, store, delimiter='\\t', header = header)# "
   ]
  },
  {
   "cell_type": "code",
   "execution_count": 5,
   "metadata": {},
   "outputs": [],
   "source": [
    "explicit = []\n",
    "fit = []\n",
    "for d in dirs[3:6]:\n",
    "    explicit.append(np.loadtxt(d + 'atomic_binding_energies_explicit.txt'))\n",
    "    fit.append(np.loadtxt(d + 'atomic_binding_energies2.txt'))"
   ]
  },
  {
   "cell_type": "code",
   "execution_count": 6,
   "metadata": {},
   "outputs": [
    {
     "name": "stdout",
     "output_type": "stream",
     "text": [
      "[-0.01410313 -0.01669352 -0.01373    -0.02318162 -0.04107668 -0.04622965\n",
      " -0.04136944  0.0411945  -0.05323291 -0.06125237  0.04119506 -0.05851647\n",
      "  0.05515931  0.05280735  0.01387246 -0.01520669 -0.06439466 -0.04929259\n",
      " -0.01230325 -0.00291437]\n",
      "[-0.00593783 -0.00651419 -0.00328647  0.00224592 -0.02010216 -0.02845616\n",
      " -0.03524938  0.0459867  -0.04462704 -0.04675437  0.04729163 -0.05077733\n",
      "  0.0581987   0.05179985  0.03122889 -0.00181674 -0.04965625 -0.06464185]\n",
      "[-0.00066476 -0.00649659 -0.007663   -0.01460567  0.0100618   0.05812744\n",
      " -0.02018221  0.05337136 -0.0383827   0.03793875 -0.0088108  -0.02698075\n",
      " -0.03041611  0.06116724 -0.02232515  0.035696  ]\n"
     ]
    }
   ],
   "source": [
    "for e, f in zip(explicit, fit):\n",
    "    print(e[:,6] - f[:,5])"
   ]
  },
  {
   "cell_type": "code",
   "execution_count": null,
   "metadata": {},
   "outputs": [],
   "source": []
  }
 ],
 "metadata": {
  "kernelspec": {
   "display_name": "Python 3",
   "language": "python",
   "name": "python3"
  },
  "language_info": {
   "codemirror_mode": {
    "name": "ipython",
    "version": 3
   },
   "file_extension": ".py",
   "mimetype": "text/x-python",
   "name": "python",
   "nbconvert_exporter": "python",
   "pygments_lexer": "ipython3",
   "version": "3.9.5"
  }
 },
 "nbformat": 4,
 "nbformat_minor": 4
}
