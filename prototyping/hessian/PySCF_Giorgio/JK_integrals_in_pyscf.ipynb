{
 "cells": [
  {
   "cell_type": "code",
   "execution_count": 68,
   "metadata": {},
   "outputs": [
    {
     "data": {
      "text/plain": [
       "array([[0.95651279, 0.71477176],\n",
       "       [0.86597298, 0.36325793]])"
      ]
     },
     "execution_count": 68,
     "metadata": {},
     "output_type": "execute_result"
    }
   ],
   "source": [
    "import numpy\n",
    "from pyscf import lib\n",
    "from pyscf import gto\n",
    "from pyscf import gto, scf\n",
    "mol = gto.M(atom='H 0 0 0; H 0 0 1.1',basis=\"sto-3g\")\n",
    "dms = numpy.random.random((mol.nao_nr(),mol.nao_nr()))\n",
    "dms"
   ]
  },
  {
   "cell_type": "code",
   "execution_count": 75,
   "metadata": {},
   "outputs": [
    {
     "name": "stdout",
     "output_type": "stream",
     "text": [
      "[[1.32297234 0.5412397 ]\n",
      " [0.5412397  1.12844131]]\n",
      "[[1.20454158 0.77427237]\n",
      " [0.82356758 0.81659528]]\n"
     ]
    }
   ],
   "source": [
    "# call scf \n",
    "J,K = scf.hf.get_jk(mol, dms, hermi=0)\n",
    "print(J)\n",
    "print(K)"
   ]
  },
  {
   "cell_type": "code",
   "execution_count": 70,
   "metadata": {},
   "outputs": [
    {
     "name": "stdout",
     "output_type": "stream",
     "text": [
      "[[1.32297234 0.5412397 ]\n",
      " [0.5412397  1.12844131]]\n",
      "[[1.20454158 0.77427237]\n",
      " [0.82356758 0.81659528]]\n"
     ]
    }
   ],
   "source": [
    "g_ijkl=mol.intor('int2e_sph')\n",
    "print(numpy.einsum('ijkl,kl->ij',mol.intor('int2e_sph'),dms ))\n",
    "print(numpy.einsum('ijkl,jl->ik',mol.intor('int2e_sph'),dms ))"
   ]
  },
  {
   "cell_type": "code",
   "execution_count": 71,
   "metadata": {},
   "outputs": [
    {
     "data": {
      "text/plain": [
       "array([[[[0.77460594, 0.26556095],\n",
       "         [0.26556095, 0.44670128]],\n",
       "\n",
       "        [[0.26556095, 0.12067738],\n",
       "         [0.12067738, 0.26556095]]],\n",
       "\n",
       "\n",
       "       [[[0.26556095, 0.12067738],\n",
       "         [0.12067738, 0.26556095]],\n",
       "\n",
       "        [[0.44670128, 0.26556095],\n",
       "         [0.26556095, 0.77460594]]]])"
      ]
     },
     "execution_count": 71,
     "metadata": {},
     "output_type": "execute_result"
    }
   ],
   "source": [
    "g_ijkl"
   ]
  },
  {
   "cell_type": "code",
   "execution_count": 72,
   "metadata": {},
   "outputs": [
    {
     "data": {
      "text/plain": [
       "array([[[[0.77460594, 0.26556095],\n",
       "         [0.26556095, 0.12067738]],\n",
       "\n",
       "        [[0.26556095, 0.44670128],\n",
       "         [0.12067738, 0.26556095]]],\n",
       "\n",
       "\n",
       "       [[[0.26556095, 0.12067738],\n",
       "         [0.44670128, 0.26556095]],\n",
       "\n",
       "        [[0.12067738, 0.26556095],\n",
       "         [0.26556095, 0.77460594]]]])"
      ]
     },
     "execution_count": 72,
     "metadata": {},
     "output_type": "execute_result"
    }
   ],
   "source": [
    "g2=numpy.swapaxes(g_ijkl,1,2)\n",
    "g2"
   ]
  },
  {
   "cell_type": "code",
   "execution_count": 73,
   "metadata": {},
   "outputs": [],
   "source": [
    "nao=2\n",
    "for i in range(nao):\n",
    "    for j in range(nao):\n",
    "        for k in range(nao):\n",
    "            for l in range(nao):\n",
    "                if not (numpy.allclose(g2[i][k][j][l],g_ijkl[i][j][k][l])):\n",
    "                    print(\"not\")"
   ]
  },
  {
   "cell_type": "code",
   "execution_count": 76,
   "metadata": {},
   "outputs": [
    {
     "name": "stdout",
     "output_type": "stream",
     "text": [
      "[[1.20454158 0.77427237]\n",
      " [0.82356758 0.81659528]]\n"
     ]
    }
   ],
   "source": [
    "print (K)"
   ]
  },
  {
   "cell_type": "code",
   "execution_count": 77,
   "metadata": {},
   "outputs": [
    {
     "data": {
      "text/plain": [
       "array([[1.20454158, 0.77427237],\n",
       "       [0.82356758, 0.81659528]])"
      ]
     },
     "execution_count": 77,
     "metadata": {},
     "output_type": "execute_result"
    }
   ],
   "source": [
    "numpy.einsum('ijkl,kl->ij',g2,dms )"
   ]
  },
  {
   "cell_type": "code",
   "execution_count": 78,
   "metadata": {},
   "outputs": [
    {
     "name": "stdout",
     "output_type": "stream",
     "text": [
      "[[0.72070155 0.15410351]\n",
      " [0.12945591 0.72014367]]\n"
     ]
    }
   ],
   "source": [
    "print (J-K/2)"
   ]
  },
  {
   "cell_type": "code",
   "execution_count": 79,
   "metadata": {},
   "outputs": [
    {
     "data": {
      "text/plain": [
       "array([[0.72070155, 0.15410351],\n",
       "       [0.12945591, 0.72014367]])"
      ]
     },
     "execution_count": 79,
     "metadata": {},
     "output_type": "execute_result"
    }
   ],
   "source": [
    "numpy.einsum('ijkl,kl->ij',g_ijkl-g2/2,dms )"
   ]
  },
  {
   "cell_type": "code",
   "execution_count": null,
   "metadata": {},
   "outputs": [],
   "source": []
  },
  {
   "cell_type": "code",
   "execution_count": 51,
   "metadata": {},
   "outputs": [
    {
     "name": "stderr",
     "output_type": "stream",
     "text": [
      "<class 'pyscf.gto.mole.Mole'> does not have attributes  units\n"
     ]
    }
   ],
   "source": [
    "co=gto.Mole(atom=\"C 0 0 0 ;O 0 0 2.1\", basis= \"sto-3G\",units=\"Bohr\")\n",
    "co.build()\n",
    "g_ijkl=co.intor('int2e_sph')"
   ]
  },
  {
   "cell_type": "code",
   "execution_count": 54,
   "metadata": {},
   "outputs": [],
   "source": [
    "nao=co.nao\n",
    "for i in range(nao):\n",
    "    for j in range(nao):\n",
    "        for k in range(nao):\n",
    "            for l in range(nao):\n",
    "                if not (numpy.allclose(g_ijkl[i][j][k][l],g_ijkl[i][j][k][l])):\n",
    "                    print(\"not\")"
   ]
  },
  {
   "cell_type": "code",
   "execution_count": null,
   "metadata": {},
   "outputs": [],
   "source": []
  }
 ],
 "metadata": {
  "kernelspec": {
   "display_name": "Python 3",
   "language": "python",
   "name": "python3"
  },
  "language_info": {
   "codemirror_mode": {
    "name": "ipython",
    "version": 3
   },
   "file_extension": ".py",
   "mimetype": "text/x-python",
   "name": "python",
   "nbconvert_exporter": "python",
   "pygments_lexer": "ipython3",
   "version": "3.8.8"
  }
 },
 "nbformat": 4,
 "nbformat_minor": 2
}
