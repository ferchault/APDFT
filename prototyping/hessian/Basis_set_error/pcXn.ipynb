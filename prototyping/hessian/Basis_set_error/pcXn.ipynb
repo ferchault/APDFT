{
 "cells": [
  {
   "cell_type": "code",
   "execution_count": 1,
   "metadata": {},
   "outputs": [],
   "source": [
    "import basis_set_exchange as bse\n",
    "import scipy as sp\n",
    "import matplotlib.pyplot as plt\n",
    "from pyscf import gto,scf\n",
    "from FcMole import FcM\n",
    "import copy\n",
    "import numpy as np"
   ]
  },
  {
   "cell_type": "markdown",
   "metadata": {},
   "source": [
    "https://pubs.acs.org/doi/abs/10.1021/ed078p391"
   ]
  },
  {
   "cell_type": "code",
   "execution_count": 2,
   "metadata": {},
   "outputs": [
    {
     "name": "stdout",
     "output_type": "stream",
     "text": [
      "#----------------------------------------------------------------------\n",
      "# Basis Set Exchange\n",
      "# Version v0.8.13\n",
      "# https://www.basissetexchange.org\n",
      "#----------------------------------------------------------------------\n",
      "#   Basis set: pcX-1\n",
      "# Description: Jensen pcX basis set optimized for core-spectroscopy\n",
      "#        Role: orbital\n",
      "#     Version: 1  (Data from Frank Jensen)\n",
      "#----------------------------------------------------------------------\n",
      "\n",
      "\n",
      "BASIS \"ao basis\" PRINT\n",
      "#BASIS SET: (7s,4p,1d) -> [7s,4p,1d]\n",
      "C    S\n",
      "      0.147726E+04           1.0000000\n",
      "C    S\n",
      "      0.222361E+03           1.0000000\n",
      "C    S\n",
      "      0.505229E+02           1.0000000\n",
      "C    S\n",
      "      0.139594E+02           1.0000000\n",
      "C    S\n",
      "      0.421475E+01           1.0000000\n",
      "C    S\n",
      "      0.653345E+00           1.0000000\n",
      "C    S\n",
      "      0.191501E+00           1.0000000\n",
      "C    P\n",
      "      0.109571E+02           1.0000000\n",
      "C    P\n",
      "      0.232904E+01           1.0000000\n",
      "C    P\n",
      "      0.633257E+00           1.0000000\n",
      "C    P\n",
      "      0.163150E+00           1.0000000\n",
      "C    D\n",
      "      0.848528E+00           1.0000000\n",
      "#BASIS SET: (7s,4p,1d) -> [7s,4p,1d]\n",
      "N    S\n",
      "      0.200467E+04           1.0000000\n",
      "N    S\n",
      "      0.301707E+03           1.0000000\n",
      "N    S\n",
      "      0.685611E+02           1.0000000\n",
      "N    S\n",
      "      0.189925E+02           1.0000000\n",
      "N    S\n",
      "      0.576941E+01           1.0000000\n",
      "N    S\n",
      "      0.916175E+00           1.0000000\n",
      "N    S\n",
      "      0.264783E+00           1.0000000\n",
      "N    P\n",
      "      0.149507E+02           1.0000000\n",
      "N    P\n",
      "      0.321784E+01           1.0000000\n",
      "N    P\n",
      "      0.870440E+00           1.0000000\n",
      "N    P\n",
      "      0.218852E+00           1.0000000\n",
      "N    D\n",
      "      0.948683E+00           1.0000000\n",
      "#BASIS SET: (7s,4p,1d) -> [7s,4p,1d]\n",
      "O    S\n",
      "      0.261067E+04           1.0000000\n",
      "O    S\n",
      "      0.392872E+03           1.0000000\n",
      "O    S\n",
      "      0.892838E+02           1.0000000\n",
      "O    S\n",
      "      0.247795E+02           1.0000000\n",
      "O    S\n",
      "      0.756349E+01           1.0000000\n",
      "O    S\n",
      "      0.122156E+01           1.0000000\n",
      "O    S\n",
      "      0.350296E+00           1.0000000\n",
      "O    P\n",
      "      0.193002E+02           1.0000000\n",
      "O    P\n",
      "      0.419491E+01           1.0000000\n",
      "O    P\n",
      "      0.112806E+01           1.0000000\n",
      "O    P\n",
      "      0.276081E+00           1.0000000\n",
      "O    D\n",
      "      0.104881E+01           1.0000000\n",
      "#BASIS SET: (7s,4p,1d) -> [7s,4p,1d]\n",
      "F    S\n",
      "      0.329748E+04           1.0000000\n",
      "F    S\n",
      "      0.496191E+03           1.0000000\n",
      "F    S\n",
      "      0.112776E+03           1.0000000\n",
      "F    S\n",
      "      0.313488E+02           1.0000000\n",
      "F    S\n",
      "      0.960099E+01           1.0000000\n",
      "F    S\n",
      "      0.157305E+01           1.0000000\n",
      "F    S\n",
      "      0.447708E+00           1.0000000\n",
      "F    P\n",
      "      0.245323E+02           1.0000000\n",
      "F    P\n",
      "      0.537133E+01           1.0000000\n",
      "F    P\n",
      "      0.144087E+01           1.0000000\n",
      "F    P\n",
      "      0.348285E+00           1.0000000\n",
      "F    D\n",
      "      0.114891E+01           1.0000000\n",
      "END\n",
      "\n"
     ]
    }
   ],
   "source": [
    "print(bse.get_basis(\"pcX-1\",fmt=\"nwchem\",elements=[\"C\",7,8,9]))"
   ]
  },
  {
   "cell_type": "code",
   "execution_count": 3,
   "metadata": {},
   "outputs": [
    {
     "data": {
      "text/plain": [
       "{'molssi_bse_schema': {'schema_type': 'complete', 'schema_version': '0.1'},\n",
       " 'revision_description': 'Data from the Original Basis Set Exchange',\n",
       " 'revision_date': '2013-01-23',\n",
       " 'elements': {'1': {'electron_shells': [{'function_type': 'gto',\n",
       "     'region': '',\n",
       "     'angular_momentum': [0],\n",
       "     'exponents': ['0.122520E+02',\n",
       "      '0.186870E+01',\n",
       "      '0.418210E+00',\n",
       "      '0.106100E+00'],\n",
       "     'coefficients': [['0.228220E-01',\n",
       "       '0.155640E+00',\n",
       "       '0.488980E+00',\n",
       "       '0.000000E+00'],\n",
       "      ['0.000000E+00', '0.000000E+00', '0.000000E+00', '0.100000E+01']]},\n",
       "    {'function_type': 'gto',\n",
       "     'region': '',\n",
       "     'angular_momentum': [1],\n",
       "     'exponents': ['0.100000E+01'],\n",
       "     'coefficients': [['0.100000E+01']]}],\n",
       "   'references': [{'reference_description': 'pc-1',\n",
       "     'reference_keys': ['jensen2001a', 'jensen2002a']}]}},\n",
       " 'version': '0',\n",
       " 'function_types': ['gto', 'gto_spherical'],\n",
       " 'names': ['pc-1'],\n",
       " 'tags': [],\n",
       " 'family': 'jensen',\n",
       " 'description': 'pc-1',\n",
       " 'role': 'orbital',\n",
       " 'auxiliaries': {},\n",
       " 'name': 'pc-1'}"
      ]
     },
     "execution_count": 3,
     "metadata": {},
     "output_type": "execute_result"
    }
   ],
   "source": [
    "bse.get_basis(\"pc-1\",fmt=None,elements=[\"H\"])"
   ]
  },
  {
   "cell_type": "code",
   "execution_count": 4,
   "metadata": {},
   "outputs": [],
   "source": [
    "mol=gto.M(atom=\"He 0 0 0\",basis=bse.get_basis(\"pc-1\",fmt=\"nwchem\",elements=[\"He\"]))\n",
    "#mol=gto.M(atom=\"He 0 0 0\",basis=\"sto-3g\")"
   ]
  },
  {
   "cell_type": "code",
   "execution_count": 5,
   "metadata": {},
   "outputs": [
    {
     "data": {
      "text/plain": [
       "'#----------------------------------------------------------------------\\n# Basis Set Exchange\\n# Version v0.8.13\\n# https://www.basissetexchange.org\\n#----------------------------------------------------------------------\\n#   Basis set: pc-1\\n# Description: pc-1\\n#        Role: orbital\\n#     Version: 0  (Data from the Original Basis Set Exchange)\\n#----------------------------------------------------------------------\\n\\n\\nBASIS \"ao basis\" PRINT\\n#BASIS SET: (4s,1p) -> [2s,1p]\\nHe    S\\n      0.368650E+02           0.130620E-01           0.000000E+00\\n      0.558020E+01           0.834910E-01           0.000000E+00\\n      0.119170E+01           0.238740E+00           0.000000E+00\\n      0.268920E+00           0.000000E+00           0.100000E+01\\nHe    P\\n      0.145000E+01           0.100000E+01\\nEND\\n'"
      ]
     },
     "execution_count": 5,
     "metadata": {},
     "output_type": "execute_result"
    }
   ],
   "source": [
    "mol.basis"
   ]
  },
  {
   "cell_type": "code",
   "execution_count": 6,
   "metadata": {},
   "outputs": [
    {
     "data": {
      "text/plain": [
       "5"
      ]
     },
     "execution_count": 6,
     "metadata": {},
     "output_type": "execute_result"
    }
   ],
   "source": [
    "mol.nao"
   ]
  },
  {
   "cell_type": "code",
   "execution_count": 7,
   "metadata": {},
   "outputs": [
    {
     "data": {
      "text/plain": [
       "[[0, [2004.67, 1.0]],\n",
       " [0, [301.707, 1.0]],\n",
       " [0, [68.5611, 1.0]],\n",
       " [0, [18.9925, 1.0]],\n",
       " [0, [5.76941, 1.0]],\n",
       " [0, [0.916175, 1.0]],\n",
       " [0, [0.264783, 1.0]],\n",
       " [1, [14.9507, 1.0]],\n",
       " [1, [3.21784, 1.0]],\n",
       " [1, [0.87044, 1.0]],\n",
       " [1, [0.218852, 1.0]],\n",
       " [2, [0.948683, 1.0]]]"
      ]
     },
     "execution_count": 7,
     "metadata": {},
     "output_type": "execute_result"
    }
   ],
   "source": [
    "n_pcx1=gto.basis.load(bse.get_basis(\"pcX-1\",fmt=\"nwchem\",elements=[\"N\"]),\"N\")\n",
    "n_pcx1"
   ]
  },
  {
   "cell_type": "code",
   "execution_count": null,
   "metadata": {},
   "outputs": [],
   "source": [
    "c_pcx1=gto.basis.load(bse.get_basis(\"pcX-1\",fmt=\"nwchem\",elements=[\"C\"]),\"C\")"
   ]
  },
  {
   "cell_type": "code",
   "execution_count": null,
   "metadata": {},
   "outputs": [],
   "source": [
    "o_pcx1=gto.basis.load(bse.get_basis(\"pcX-1\",fmt=\"nwchem\",elements=[\"O\"]),\"O\")\n",
    "f_pcx1=gto.basis.load(bse.get_basis(\"pcX-1\",fmt=\"nwchem\",elements=[\"F\"]),\"F\")"
   ]
  },
  {
   "cell_type": "code",
   "execution_count": null,
   "metadata": {},
   "outputs": [],
   "source": [
    "c=.5\n",
    "mcn_pcx1=copy.deepcopy(n_pcx1)\n",
    "mon_pcx1=copy.deepcopy(n_pcx1)"
   ]
  },
  {
   "cell_type": "code",
   "execution_count": null,
   "metadata": {},
   "outputs": [],
   "source": [
    "for i in range(len(n_pcx1)):\n",
    "    mcn_pcx1[i][1][0]=n_pcx1[i][1][0]*(1-c)+c_pcx1[i][1][0]*c\n",
    "    mon_pcx1[i][1][0]=n_pcx1[i][1][0]*(1-c)+o_pcx1[i][1][0]*c"
   ]
  },
  {
   "cell_type": "code",
   "execution_count": null,
   "metadata": {},
   "outputs": [],
   "source": [
    "n_pcx1,mcn_pcx1,c_pcx1"
   ]
  },
  {
   "cell_type": "code",
   "execution_count": null,
   "metadata": {},
   "outputs": [],
   "source": [
    "#n_pcx1,m_pcx1,c_pcx1"
   ]
  },
  {
   "cell_type": "code",
   "execution_count": null,
   "metadata": {},
   "outputs": [],
   "source": [
    "m1=gto.M(atom=\"N 0 0 0; N 0 0 2.01\",unit=\"Bohrs\",basis={\"N\":n_pcx1})\n",
    "m2=gto.M(atom=\"N1 0 0 0; N2 0 0 2.01\",unit=\"Bohrs\",basis={\"N1\":c_pcx1,\"N2\":o_pcx1})\n",
    "m3=gto.M(atom=\"N1 0 0 0; N2 0 0 2.01\",unit=\"Bohrs\",basis={\"N1\":mcn_pcx1,\"N2\":mcn_pcx1})"
   ]
  },
  {
   "cell_type": "code",
   "execution_count": null,
   "metadata": {},
   "outputs": [],
   "source": [
    "mf1=scf.RHF(m1)\n",
    "mf1.scf()\n",
    "mf2=scf.RHF(m2)\n",
    "mf2.scf()\n",
    "mf3=scf.RHF(m3)\n",
    "mf3.scf()"
   ]
  },
  {
   "cell_type": "code",
   "execution_count": null,
   "metadata": {},
   "outputs": [],
   "source": [
    "plt.matshow(mf1.get_ovlp())"
   ]
  },
  {
   "cell_type": "code",
   "execution_count": null,
   "metadata": {},
   "outputs": [],
   "source": [
    "np.diag(mf1.get_ovlp())"
   ]
  },
  {
   "cell_type": "code",
   "execution_count": null,
   "metadata": {},
   "outputs": [],
   "source": [
    "m_pcx1=copy.deepcopy(n_pcx1)\n",
    "for c in np.linspace(.1,.9,9):\n",
    "    for i in range(len(m_pcx1)):\n",
    "        m_pcx1[i][1][0]=n_pcx1[i][1][0]*(1-c)+c_pcx1[i][1][0]*c\n",
    "    m3=gto.M(atom=\"N1 0 0 0; N2 0 0 2.01\",unit=\"Bohrs\",basis={\"N1\":m_pcx1,\"N2\":m_pcx1})\n",
    "    scf.RHF(m3).scf()"
   ]
  },
  {
   "cell_type": "code",
   "execution_count": null,
   "metadata": {},
   "outputs": [],
   "source": [
    "for c in np.linspace(.1,.9,9):\n",
    "    for i in range(len(n_pcx1)):\n",
    "        m_pcx1[i][1][0]=n_pcx1[i][1][0]*(1-c)+o_pcx1[i][1][0]*c\n",
    "    m3=gto.M(atom=\"N1 0 0 0; N2 0 0 2.01\",unit=\"Bohrs\",basis={\"N1\":m_pcx1,\"N2\":m_pcx1})\n",
    "    scf.RHF(m3).scf()"
   ]
  },
  {
   "cell_type": "code",
   "execution_count": null,
   "metadata": {},
   "outputs": [],
   "source": [
    "(c_pcx1[0][1][0],n_pcx1[0][1][0],o_pcx1[0][1][0],f_pcx1[0][1][0])"
   ]
  },
  {
   "cell_type": "code",
   "execution_count": null,
   "metadata": {},
   "outputs": [],
   "source": [
    "plt.plot([c_pcx1[0][1][0],n_pcx1[0][1][0],o_pcx1[0][1][0],f_pcx1[0][1][0]])"
   ]
  },
  {
   "cell_type": "code",
   "execution_count": null,
   "metadata": {},
   "outputs": [],
   "source": [
    "from scipy.interpolate import interp1d"
   ]
  },
  {
   "cell_type": "code",
   "execution_count": null,
   "metadata": {},
   "outputs": [],
   "source": [
    "ic=interp1d(np.asarray([6,7,8,9]),np.asarray([c_pcx1[0][1][0],n_pcx1[0][1][0],o_pcx1[0][1][0],f_pcx1[0][1][0]]),kind=\"cubic\")"
   ]
  },
  {
   "cell_type": "code",
   "execution_count": null,
   "metadata": {},
   "outputs": [],
   "source": [
    "ic(8.0001)-ic(8),ic(7.9999)-ic(8)"
   ]
  },
  {
   "cell_type": "code",
   "execution_count": null,
   "metadata": {},
   "outputs": [],
   "source": [
    "lsx=np.linspace(6,9,30)\n",
    "plt.plot(lsx,ic(lsx))\n",
    "plt.scatter(np.asarray([6,7,8,9]),np.asarray([c_pcx1[0][1][0],n_pcx1[0][1][0],o_pcx1[0][1][0],f_pcx1[0][1][0]]))"
   ]
  },
  {
   "cell_type": "code",
   "execution_count": null,
   "metadata": {},
   "outputs": [],
   "source": [
    "ics=[]\n",
    "for i in range(len(n_pcx1)):\n",
    "    ic=interp1d(np.asarray([6,7,8,9]),np.asarray([c_pcx1[i][1][0],n_pcx1[i][1][0],o_pcx1[i][1][0],f_pcx1[i][1][0]]),kind=\"cubic\")\n",
    "    ics.append(ic)\n",
    "    plt.plot(lsx,ic(lsx))\n",
    "    plt.scatter(np.asarray([6,7,8,9]),np.asarray([c_pcx1[i][1][0],n_pcx1[i][1][0],o_pcx1[i][1][0],f_pcx1[i][1][0]]))\n",
    "    plt.show()"
   ]
  },
  {
   "cell_type": "code",
   "execution_count": null,
   "metadata": {},
   "outputs": [],
   "source": [
    "def bs(Z):\n",
    "    for i in range(len(ics)):\n",
    "        print(ics[i](Z))"
   ]
  },
  {
   "cell_type": "code",
   "execution_count": null,
   "metadata": {},
   "outputs": [],
   "source": [
    "bs(7.),n_pcx1"
   ]
  },
  {
   "cell_type": "code",
   "execution_count": null,
   "metadata": {},
   "outputs": [],
   "source": [
    "mf1.make_rdm1()"
   ]
  },
  {
   "cell_type": "markdown",
   "metadata": {},
   "source": [
    "## Mixing requirement\n",
    "1) For integer charge return exact basis of the element <br>\n",
    "2) Should be continuos <br>\n",
    "3) should have continuos arbitrary order derivatives <br>\n"
   ]
  },
  {
   "cell_type": "code",
   "execution_count": null,
   "metadata": {},
   "outputs": [],
   "source": [
    "#bs(Z)-> P(Z),->P(AO-target)"
   ]
  },
  {
   "cell_type": "markdown",
   "metadata": {},
   "source": [
    "# Contracted Gaussians"
   ]
  },
  {
   "cell_type": "code",
   "execution_count": 8,
   "metadata": {},
   "outputs": [
    {
     "data": {
      "text/plain": [
       "([[0,\n",
       "   [71.616837, 0.15432897],\n",
       "   [13.045096, 0.53532814],\n",
       "   [3.5305122, 0.44463454]],\n",
       "  [0,\n",
       "   [2.9412494, -0.09996723],\n",
       "   [0.6834831, 0.39951283],\n",
       "   [0.2222899, 0.70011547]],\n",
       "  [1,\n",
       "   [2.9412494, 0.15591627],\n",
       "   [0.6834831, 0.60768372],\n",
       "   [0.2222899, 0.39195739]]],\n",
       " [[0,\n",
       "   [99.106169, 0.15432897],\n",
       "   [18.052312, 0.53532814],\n",
       "   [4.8856602, 0.44463454]],\n",
       "  [0,\n",
       "   [3.7804559, -0.09996723],\n",
       "   [0.8784966, 0.39951283],\n",
       "   [0.2857144, 0.70011547]],\n",
       "  [1,\n",
       "   [3.7804559, 0.15591627],\n",
       "   [0.8784966, 0.60768372],\n",
       "   [0.2857144, 0.39195739]]])"
      ]
     },
     "execution_count": 8,
     "metadata": {},
     "output_type": "execute_result"
    }
   ],
   "source": [
    "gto.basis.load('sto-3g', 'C'),\\\n",
    "gto.basis.load('sto-3g', 'N')"
   ]
  },
  {
   "cell_type": "code",
   "execution_count": 9,
   "metadata": {},
   "outputs": [],
   "source": [
    "# the coefficients are equal, hope for some result, misleading??"
   ]
  },
  {
   "cell_type": "code",
   "execution_count": 10,
   "metadata": {},
   "outputs": [
    {
     "name": "stdout",
     "output_type": "stream",
     "text": [
      "converged SCF energy = -107.481313549373\n",
      "converged SCF energy = -105.429879166583\n"
     ]
    },
    {
     "data": {
      "text/plain": [
       "-105.429879166583"
      ]
     },
     "execution_count": 10,
     "metadata": {},
     "output_type": "execute_result"
    }
   ],
   "source": [
    "m1=gto.M(atom=\"N 0 0 0; N 0 0 2.01\",unit=\"Bohrs\",basis={\"N\":\"sto-3g\"})\n",
    "m2=gto.M(atom=\"N1 0 0 0; N2 0 0 2.01\",unit=\"Bohrs\",basis={\"N1\":gto.basis.load('sto-3g', 'C'),\\\n",
    "                                                       \"N2\":gto.basis.load('sto-3g', 'O')})\n",
    "mf1=scf.RHF(m1)\n",
    "mf1.scf()\n",
    "mf2=scf.RHF(m2)\n",
    "mf2.scf()"
   ]
  },
  {
   "cell_type": "code",
   "execution_count": 11,
   "metadata": {},
   "outputs": [],
   "source": [
    "b_sto=gto.basis.load('sto-3g', 'B')\n",
    "c_sto=gto.basis.load('sto-3g', 'C')\n",
    "n_sto=gto.basis.load('sto-3g', 'N')\n",
    "o_sto=gto.basis.load('sto-3g', 'O')\n",
    "f_sto=gto.basis.load('sto-3g', 'F')"
   ]
  },
  {
   "cell_type": "code",
   "execution_count": null,
   "metadata": {},
   "outputs": [],
   "source": [
    "for i in n_sto:\n",
    "    for j in i[1:]:\n",
    "        print(j[0])"
   ]
  },
  {
   "cell_type": "code",
   "execution_count": null,
   "metadata": {},
   "outputs": [],
   "source": [
    "ics_sto=[]\n",
    "for i in range(len(n_sto)):\n",
    "    icp=[]\n",
    "    for j in range(1,len(n_sto[i])):\n",
    "        ic=interp1d(np.asarray([5,6,7,8,9]),np.asarray([b_sto[i][j][0],c_sto[i][j][0],n_sto[i][j][0],o_sto[i][j][0],f_sto[i][j][0]]),kind=\"cubic\")\n",
    "        icp.append(ic)\n",
    "        plt.plot(lsx,ic(lsx))\n",
    "        plt.scatter(np.asarray([6,7,8,9]),np.asarray([c_sto[i][j][0],n_sto[i][j][0],o_sto[i][j][0],f_sto[i][j][0]]))\n",
    "        plt.show()\n",
    "    ics_sto.append(icp)"
   ]
  },
  {
   "cell_type": "code",
   "execution_count": null,
   "metadata": {},
   "outputs": [],
   "source": [
    "ics_sto"
   ]
  },
  {
   "cell_type": "code",
   "execution_count": null,
   "metadata": {},
   "outputs": [],
   "source": [
    "def sto(z):\n",
    "    r_sto=copy.deepcopy(n_sto)\n",
    "    for i in range(len(r_sto)):\n",
    "        for j in range(1,len(r_sto[i])):\n",
    "            r_sto[i][j][0]=float(ics_sto[i][j-1](z))\n",
    "    return r_sto"
   ]
  },
  {
   "cell_type": "code",
   "execution_count": null,
   "metadata": {},
   "outputs": [],
   "source": [
    "sto(7)"
   ]
  },
  {
   "cell_type": "code",
   "execution_count": null,
   "metadata": {},
   "outputs": [],
   "source": [
    "def E(l):\n",
    "    mol_l=FcM(fcs=[-l,l],atom=\"N1 0 0 0; N2 0 0 2.14\",unit=\"Bohrs\",basis={\"N1\":sto(7-l),\"N2\":sto(7+l)},verbose=1)\n",
    "    mf_l=scf.RHF(mol_l)\n",
    "    e=mf_l.scf(dm0=dm0_nn)\n",
    "    return e"
   ]
  },
  {
   "cell_type": "code",
   "execution_count": null,
   "metadata": {},
   "outputs": [],
   "source": [
    "def E_old(l):\n",
    "    mol_l=FcM(fcs=[-l,l],atom=\"N 0 0 0; N 0 0 2.14\",unit=\"Bohrs\",basis=\"sto-3g\",verbose=1)\n",
    "    mf_l=scf.RHF(mol_l)\n",
    "    e=mf_l.scf(dm0=dm0_nn)\n",
    "    return e"
   ]
  },
  {
   "cell_type": "code",
   "execution_count": null,
   "metadata": {},
   "outputs": [],
   "source": [
    "mf_NN=scf.RHF(gto.M(atom=\"N 0 0 0; N 0 0 2.14\",unit=\"Bohrs\",basis=\"sto-3g\"))\n",
    "e_0=mf_NN.scf()\n",
    "dm0_nn=mf_NN.make_rdm1()"
   ]
  },
  {
   "cell_type": "code",
   "execution_count": null,
   "metadata": {},
   "outputs": [],
   "source": [
    "e_T=scf.RHF(gto.M(atom=\"C 0 0 0; O 0 0 2.14\",unit=\"Bohrs\")).scf()"
   ]
  },
  {
   "cell_type": "code",
   "execution_count": null,
   "metadata": {},
   "outputs": [],
   "source": [
    "e_T_R=E_old(1)"
   ]
  },
  {
   "cell_type": "code",
   "execution_count": null,
   "metadata": {},
   "outputs": [],
   "source": [
    "E(0)"
   ]
  },
  {
   "cell_type": "code",
   "execution_count": null,
   "metadata": {},
   "outputs": [],
   "source": [
    "#finite difference coefficients\n",
    "fd1=np.asarray([1/12,-2/3 ,0,2/3,-1/12])\n",
    "fd2=np.asarray([-1/12,4/3,-5/2,4/3,-1/12])\n",
    "fd3=np.asarray([-1/2,1,0,-1,1/2])\n",
    "fd4=np.asarray([1,-4,6,-4,1])"
   ]
  },
  {
   "cell_type": "code",
   "execution_count": null,
   "metadata": {},
   "outputs": [],
   "source": [
    "fds=[fd1,fd2,fd3,fd4]\n"
   ]
  },
  {
   "cell_type": "code",
   "execution_count": null,
   "metadata": {},
   "outputs": [],
   "source": [
    "dl=.05\n",
    "Es=np.asarray([E(-2*dl),E(-dl),e_0,E(dl),E(2*dl)])\n",
    "Es_old=np.asarray([E_old(-2*dl),E_old(-dl),e_0,E_old(dl),E_old(2*dl)])"
   ]
  },
  {
   "cell_type": "code",
   "execution_count": null,
   "metadata": {},
   "outputs": [],
   "source": [
    "plt.plot(Es_old)\n",
    "plt.plot(Es)"
   ]
  },
  {
   "cell_type": "code",
   "execution_count": null,
   "metadata": {},
   "outputs": [],
   "source": [
    "apdft=[e_0]\n",
    "inc=[]\n",
    "for i in range(4):\n",
    "    inc.append(fds[i].dot(np.asarray(Es))/dl**(i+1)/np.math.factorial(i+1))\n",
    "    apdft.append(apdft[i]+fds[i].dot(np.asarray(Es))/dl**(i+1)/np.math.factorial(i+1) )"
   ]
  },
  {
   "cell_type": "code",
   "execution_count": null,
   "metadata": {},
   "outputs": [],
   "source": [
    "apdft,e_T"
   ]
  },
  {
   "cell_type": "code",
   "execution_count": null,
   "metadata": {},
   "outputs": [],
   "source": [
    "apdft_old=[e_0]\n",
    "inc_old=[]\n",
    "for i in range(4):\n",
    "    inc_old.append(fds[i].dot(np.asarray(Es_old))/dl**(i+1)/np.math.factorial(i+1))\n",
    "    apdft_old.append(apdft_old[i]+fds[i].dot(np.asarray(Es_old))/dl**(i+1)/np.math.factorial(i+1) )"
   ]
  },
  {
   "cell_type": "code",
   "execution_count": null,
   "metadata": {},
   "outputs": [],
   "source": [
    "apdft_old"
   ]
  },
  {
   "cell_type": "code",
   "execution_count": null,
   "metadata": {},
   "outputs": [],
   "source": [
    "e_T_R"
   ]
  },
  {
   "cell_type": "code",
   "execution_count": null,
   "metadata": {},
   "outputs": [],
   "source": [
    "plt.plot([0,1,2,3,4],apdft)\n",
    "plt.plot([0,1,2,3,4],apdft_old)\n",
    "plt.title(\"N2->CO\",size=25)\n",
    "plt.xticks([0,1,2,3,4])\n",
    "plt.xlabel(\"APDFT order\",size=20)\n",
    "plt.axhline(e_0,color=\"black\",ls=\":\",lw=3,label=\"$E_{reference}$\")\n",
    "plt.axhline(e_T_R,color=\"red\",ls=\":\",lw=3,label=\"$E_{T[R]}$\")\n",
    "plt.axhline(e_T,color=\"purple\",ls=\":\",lw=3,label=\"$E_{target}$\")\n",
    "plt.legend()\n",
    "plt.savefig(\"sto-3G.png\")"
   ]
  },
  {
   "cell_type": "code",
   "execution_count": null,
   "metadata": {},
   "outputs": [],
   "source": []
  }
 ],
 "metadata": {
  "kernelspec": {
   "display_name": "Python [conda env:atomic-energies]",
   "language": "python",
   "name": "conda-env-atomic-energies-py"
  },
  "language_info": {
   "codemirror_mode": {
    "name": "ipython",
    "version": 3
   },
   "file_extension": ".py",
   "mimetype": "text/x-python",
   "name": "python",
   "nbconvert_exporter": "python",
   "pygments_lexer": "ipython3",
   "version": "3.7.3"
  }
 },
 "nbformat": 4,
 "nbformat_minor": 4
}
