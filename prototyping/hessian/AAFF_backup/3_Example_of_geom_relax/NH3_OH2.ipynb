{
 "cells": [
  {
   "cell_type": "code",
   "execution_count": 1,
   "metadata": {},
   "outputs": [],
   "source": [
    "from aaff import aaff,alc_deriv_grad_nuc,alc_differential_grad_nuc\n",
    "from FcMole import FcM,FcM_like\n",
    "from alch_deriv import alch_deriv\n",
    "from pyscf import gto,scf\n",
    "import numpy as np \n",
    "from numpy.linalg import norm as norm\n",
    "from scipy.spatial.transform import Rotation as R\n",
    "import matplotlib.pyplot as plt\n",
    "from pyscf.grad import rhf as grhf\n",
    "from pyscf.hessian import rhf as hrhf\n",
    "import basis_set_exchange as bse\n",
    "from FDcoeffs import *\n",
    "from pyscf.geomopt.berny_solver import optimize\n",
    "from berny import Berny, geomlib,Geometry,Math\n",
    "import berny.coords\n",
    "import sys\n",
    "sys.path.append(\"/home/administrator/Documenti/APDFT/prototyping/hessian/AAFF/Libs/\")\n",
    "from Morse import mpa\n",
    "from AP_class import APDFT_perturbator as APP\n",
    "ang2bohr=1.8897261246\n",
    "bohr2ang=.5291772109"
   ]
  },
  {
   "cell_type": "code",
   "execution_count": 2,
   "metadata": {},
   "outputs": [],
   "source": [
    "def anglecenter(coords):\n",
    "    return np.around(np.arccos(coords[1].dot(coords[2])/norm(coords[1])/norm(coords[2]))*180/np.pi,decimals=3)"
   ]
  },
  {
   "cell_type": "code",
   "execution_count": 3,
   "metadata": {},
   "outputs": [],
   "source": [
    "def nr_step(ic,g,h):\n",
    "    ncoords=ic.shape[0]*ic.shape[1]\n",
    "    p1cds=ic-np.linalg.solve((np.swapaxes(h,1,2)).reshape(ncoords,ncoords),g.reshape(-1)).reshape(ic.shape[0],ic.shape[1])\n",
    "    p1cds-=p1cds[0]\n",
    "    print (norm(p1cds[1]))\n",
    "    if p1cds.shape[0]>2:\n",
    "        print (anglecenter(p1cds),anglecenter(p1cds)*np.pi/180)\n",
    "    return(p1cds)"
   ]
  },
  {
   "cell_type": "code",
   "execution_count": 4,
   "metadata": {},
   "outputs": [],
   "source": [
    "def build_h_ic(s,g_ic,h0,B_inv):\n",
    "    geom0=s.geom.copy()\n",
    "    B=s.coords.B_matrix(geom0)\n",
    "    bms=[]\n",
    "    for i in range(geom0.coords.flatten().shape[0]):\n",
    "        a=geom0.coords.flatten()\n",
    "        geom1=geom0.copy()\n",
    "        a[i]+=.001*bohr2ang\n",
    "        a=a.reshape(geom0.coords.shape)\n",
    "        geom1.coords=a\n",
    "        bms.append((s.coords.B_matrix(geom1)-B)*1000)\n",
    "    bms_arr=np.asarray(bms)\n",
    "    BpG2=np.einsum('ijk,j->ik',bms,g_ic)\n",
    "    h_ic=B_inv.T@(h0-BpG2)@B_inv\n",
    "    return h_ic\n",
    "tbbde={\"CH\":105/627.5,\"HC\":105/627.5,\"NH\":110/627.5,\"HN\":110/627.5,\\\n",
    "       \"OH\":119/627.5,\"HO\":119/627.5,\"FH\":136/627.5,\"HF\":136/627.5}\n",
    "def mpa_pb(coords,atoml,g,h,gic=False,solve_ic=False,ghost=[]):\n",
    "    g=np.asarray(g)\n",
    "    if not len(h.shape)==2:\n",
    "        h=h.swapaxes(1,2)\n",
    "        h=h.reshape(g.shape[0]*3,g.shape[0]*3)\n",
    "    geom0=Geometry(atoml,coords*bohr2ang)\n",
    "    bernyobj=Berny(geom0)\n",
    "    s=bernyobj._state\n",
    "    B = s.coords.B_matrix(geom0)\n",
    "    q0=s.coords.eval_geom(geom0)\n",
    "    B_inv = B.T.dot(Math.pinv(np.dot(B, B.T)))\n",
    "    if not gic:\n",
    "        g_ic=np.dot(B_inv.T, (g).reshape(-1))\n",
    "    else:\n",
    "        g_ic=g\n",
    "    print(g_ic)\n",
    "    h_ic=build_h_ic(s,g_ic,h,B_inv)\n",
    "    #print (s.coords._coords)\n",
    "    if not solve_ic:    \n",
    "        return mpa(g_ic[0],h_ic[0,0],q0[0],tbbde[atoml[s.coords._coords[0].i]+atoml[s.coords._coords[0].j]])[0]\\\n",
    "                +g_ic[0]/h_ic[0,0]-q0[0]\n",
    "    bnr=0\n",
    "    ddq_mb=np.zeros_like(q0)\n",
    "    for i in range(len(s.coords._coords)):\n",
    "        if s.coords._coords[i].__class__ is berny.coords.Bond:\n",
    "            bnr+=1\n",
    "            if s.coords._coords[i].i not in ghost and s.coords._coords[i].j not in ghost:\n",
    "                bondatoms=atoml[s.coords._coords[i].i]+atoml[s.coords._coords[i].j]\n",
    "                ddq_mb[i]+=mpa(g_ic[i],h_ic[i,i],q0[i],tbbde[bondatoms])[0]+g_ic[i]/h_ic[i,i]-q0[i]\n",
    "    dq_NR=-np.linalg.solve(h_ic,g_ic)\n",
    "    ddq_mb[bnr:]=np.linalg.solve(h_ic[bnr:,bnr:],-h_ic[bnr:,:]@(ddq_mb))\n",
    "    return q0,dq_NR,q0+dq_NR,q0+dq_NR+ddq_mb"
   ]
  },
  {
   "cell_type": "code",
   "execution_count": 5,
   "metadata": {},
   "outputs": [],
   "source": [
    "nh3optg,oh2optg,fhoptg=np.load(\"optgeoms.npy\")"
   ]
  },
  {
   "cell_type": "code",
   "execution_count": 6,
   "metadata": {},
   "outputs": [],
   "source": [
    "nh3lst=[]\n",
    "for x in range(4):\n",
    "    nh3lst.append(\"NHHH\"[x])\n",
    "    nh3lst.extend(nh3optg[x].tolist())    "
   ]
  },
  {
   "cell_type": "code",
   "execution_count": 7,
   "metadata": {},
   "outputs": [],
   "source": [
    "nh3srt=((\"{} \"*4+\";\")*4)[:-1].format(*nh3lst)"
   ]
  },
  {
   "cell_type": "code",
   "execution_count": 8,
   "metadata": {},
   "outputs": [
    {
     "name": "stdout",
     "output_type": "stream",
     "text": [
      "converged SCF energy = -56.2221835947892\n",
      "--------------- RHF gradients ---------------\n",
      "         x                y                z\n",
      "0 N    -0.0000000000     0.0000180258    -0.0001418121\n",
      "1 H     0.0000000000     0.0000355116     0.0000167973\n",
      "2 H    -0.0000802381    -0.0000267687     0.0000625074\n",
      "3 H     0.0000802381    -0.0000267687     0.0000625074\n",
      "----------------------------------------------\n"
     ]
    }
   ],
   "source": [
    "NH3=gto.M(atom=nh3srt,unit=\"bohr\",basis={\"H\":\"pc-2\",'N':bse.get_basis(\"pcX-2\",fmt=\"nwchem\",elements=[7])})\n",
    "mf = scf.RHF(NH3)\n",
    "mf.scf()\n",
    "g0=mf.Gradients().grad()\n",
    "h0=mf.Hessian().hess()\n",
    "NH3coords=NH3.atom_coords()"
   ]
  },
  {
   "cell_type": "code",
   "execution_count": 9,
   "metadata": {},
   "outputs": [],
   "source": [
    "afN=aaff(mf,[1,0,0,0])+alc_deriv_grad_nuc(NH3,[1,0,0,0])\n",
    "afH1=aaff(mf,[0,0,0,-1])+alc_deriv_grad_nuc(NH3,[0,0,0,-1])"
   ]
  },
  {
   "cell_type": "code",
   "execution_count": 10,
   "metadata": {},
   "outputs": [
    {
     "data": {
      "text/plain": [
       "array([[-0.05145068, -0.04136139, -0.03686892],\n",
       "       [-0.01657235,  0.01318325,  0.06197958],\n",
       "       [ 0.04283018,  0.02991696, -0.03954284],\n",
       "       [ 0.02519284, -0.00173881,  0.01443217]])"
      ]
     },
     "execution_count": 10,
     "metadata": {},
     "output_type": "execute_result"
    }
   ],
   "source": [
    "af_1=afN+afH1\n",
    "af_1"
   ]
  },
  {
   "cell_type": "code",
   "execution_count": 11,
   "metadata": {},
   "outputs": [
    {
     "data": {
      "text/plain": [
       "array([[-0.02625783, -0.04310021, -0.02243675],\n",
       "       [-0.01657235,  0.01318325,  0.06197958],\n",
       "       [ 0.04283018,  0.02991696, -0.03954284],\n",
       "       [ 0.        ,  0.        ,  0.        ]])"
      ]
     },
     "execution_count": 11,
     "metadata": {},
     "output_type": "execute_result"
    }
   ],
   "source": [
    "af_1[0]+=af_1[3]\n",
    "af_1[3]-=af_1[3]\n",
    "af_1"
   ]
  },
  {
   "cell_type": "code",
   "execution_count": 12,
   "metadata": {},
   "outputs": [
    {
     "name": "stdout",
     "output_type": "stream",
     "text": [
      "225.739350786074\n",
      "28.608 0.49930379241053774\n"
     ]
    },
    {
     "data": {
      "text/plain": [
       "array([[   0.        ,    0.        ,    0.        ],\n",
       "       [ -95.05248773,  201.07404107,  -38.63300504],\n",
       "       [ -33.34037338,   36.38047156,  -32.92013828],\n",
       "       [ -36.46263669, -200.82270892, -142.78504398]])"
      ]
     },
     "execution_count": 12,
     "metadata": {},
     "output_type": "execute_result"
    }
   ],
   "source": [
    "nr_step(NH3coords,af_1,h0)"
   ]
  },
  {
   "cell_type": "code",
   "execution_count": 13,
   "metadata": {},
   "outputs": [
    {
     "data": {
      "text/plain": [
       "(1.7756053665813991, 106.393)"
      ]
     },
     "execution_count": 13,
     "metadata": {},
     "output_type": "execute_result"
    }
   ],
   "source": [
    "norm(oh2optg[1]),anglecenter(oh2optg)"
   ]
  },
  {
   "cell_type": "code",
   "execution_count": 14,
   "metadata": {},
   "outputs": [
    {
     "data": {
      "text/plain": [
       "1.8856061076490165"
      ]
     },
     "execution_count": 14,
     "metadata": {},
     "output_type": "execute_result"
    }
   ],
   "source": [
    "norm(NH3coords[1])"
   ]
  },
  {
   "cell_type": "code",
   "execution_count": 15,
   "metadata": {},
   "outputs": [
    {
     "name": "stdout",
     "output_type": "stream",
     "text": [
      "converged SCF energy = -57.9799515117373\n"
     ]
    }
   ],
   "source": [
    "dl=.1\n",
    "NH3_p=FcM(fcs=[dl,0,0,-dl],atom=nh3srt,unit=\"bohr\",basis={\"H\":\"pc-2\",'N':bse.get_basis(\"pcX-2\",fmt=\"nwchem\",elements=[7])})\n",
    "mf_p = scf.RHF(NH3_p)\n",
    "mf_p.scf(dm0=mf_p.init_guess_by_1e())\n",
    "h0_p=mf_p.Hessian().hess()\n",
    "af_p=aaff(mf_p,[1,0,0,-1])+alc_deriv_grad_nuc(NH3_p,[1,0,0,-1])"
   ]
  },
  {
   "cell_type": "code",
   "execution_count": 16,
   "metadata": {},
   "outputs": [
    {
     "name": "stdout",
     "output_type": "stream",
     "text": [
      "converged SCF energy = -54.5169412230639\n"
     ]
    }
   ],
   "source": [
    "NH3_m=FcM(fcs=[-dl,0,0,dl],atom=nh3srt,unit=\"bohr\",basis={\"H\":\"pc-2\",'N':bse.get_basis(\"pcX-2\",fmt=\"nwchem\",elements=[7])})\n",
    "mf_m = scf.RHF(NH3_m)\n",
    "mf_m.scf(dm0=mf_m.init_guess_by_1e())\n",
    "h0_m=mf_m.Hessian().hess()\n",
    "af_m=aaff(mf_m,[1,0,0,-1])+alc_deriv_grad_nuc(NH3_m,[1,0,0,-1])"
   ]
  },
  {
   "cell_type": "code",
   "execution_count": 17,
   "metadata": {},
   "outputs": [],
   "source": [
    "af_2=af_1+(af_p-af_m)/2/dl/2\n",
    "af_3=af_1+(af_p-af_m)/2/dl/2+(af_p-2*af_1+af_m)/6/dl**2\n",
    "ah_1=h0+(h0_p-h0_m)/2/dl\n",
    "ah_2=h0+(h0_p-h0_m)/2/dl+(h0_p-2*h0+h0_m)/2/dl**2\n",
    "af_2[0]+=af_2[3]\n",
    "af_2[3]-=af_2[3]\n",
    "af_3[0]+=af_3[3]\n",
    "af_3[3]-=af_3[3]"
   ]
  },
  {
   "cell_type": "code",
   "execution_count": 20,
   "metadata": {},
   "outputs": [
    {
     "name": "stdout",
     "output_type": "stream",
     "text": [
      "1.7484327450963009\n",
      "107.161 1.8703122797296434\n"
     ]
    },
    {
     "data": {
      "text/plain": [
       "array([[ 0.        ,  0.        ,  0.        ],\n",
       "       [-0.03707925,  0.42658979,  1.69518829],\n",
       "       [ 1.37034458,  0.82215075, -0.70894616],\n",
       "       [-1.53665019,  0.79431216, -0.76821526]])"
      ]
     },
     "execution_count": 20,
     "metadata": {},
     "output_type": "execute_result"
    }
   ],
   "source": [
    "nr_step(nh3optg,af_3,ah_2)"
   ]
  },
  {
   "cell_type": "code",
   "execution_count": 21,
   "metadata": {},
   "outputs": [
    {
     "data": {
      "text/plain": [
       "(1.7756053665813991, 106.393)"
      ]
     },
     "execution_count": 21,
     "metadata": {},
     "output_type": "execute_result"
    }
   ],
   "source": [
    "norm(oh2optg[1]),anglecenter(oh2optg)"
   ]
  },
  {
   "cell_type": "code",
   "execution_count": 22,
   "metadata": {},
   "outputs": [
    {
     "name": "stdout",
     "output_type": "stream",
     "text": [
      "[Bond(0, 1, weak=0), Bond(0, 2, weak=0), Angle(1, 0, 2, weak=0)]\n",
      "[0.05865689 0.05867785 0.01418449]\n"
     ]
    },
    {
     "data": {
      "text/plain": [
       "(array([1.88560611, 1.88534951, 1.88831623]),\n",
       " array([-0.14219389, -0.14210765, -0.03737472]),\n",
       " array([1.74341221, 1.74324186, 1.85094151]),\n",
       " array([1.7755351 , 1.7753401 , 1.83647071]))"
      ]
     },
     "execution_count": 22,
     "metadata": {},
     "output_type": "execute_result"
    }
   ],
   "source": [
    "mpa_pb(NH3coords[:3],[\"O\",\"H\",\"H\"],af_2[:3],ah_2[:3,:3,::],solve_ic=True)"
   ]
  },
  {
   "cell_type": "code",
   "execution_count": 23,
   "metadata": {},
   "outputs": [
    {
     "data": {
      "text/plain": [
       "105.22202088239375"
      ]
     },
     "execution_count": 23,
     "metadata": {},
     "output_type": "execute_result"
    }
   ],
   "source": [
    "1.83647071*180/np.pi"
   ]
  },
  {
   "cell_type": "code",
   "execution_count": 24,
   "metadata": {},
   "outputs": [],
   "source": [
    "oh2lst=[]\n",
    "for x in range(3):\n",
    "    oh2lst.append(\"OHH\"[x])\n",
    "    oh2lst.extend(oh2optg[x].tolist())  \n",
    "oh2srt=((\"{} \"*4+\";\")*3)[:-1].format(*oh2lst)"
   ]
  },
  {
   "cell_type": "code",
   "execution_count": 25,
   "metadata": {},
   "outputs": [
    {
     "name": "stdout",
     "output_type": "stream",
     "text": [
      "converged SCF energy = -76.0633193327808\n",
      "--------------- RHF gradients ---------------\n",
      "         x                y                z\n",
      "0 O    -0.0000165406    -0.0000132324    -0.0000136197\n",
      "1 H     0.0000057480     0.0000045984     0.0000071565\n",
      "2 H     0.0000107925     0.0000086340     0.0000064632\n",
      "----------------------------------------------\n"
     ]
    }
   ],
   "source": [
    "OH2=gto.M(atom=oh2srt,unit=\"bohr\",basis={\"H\":\"pc-2\",'O':bse.get_basis(\"pcX-2\",fmt=\"nwchem\",elements=[8])})\n",
    "mf = scf.RHF(OH2)\n",
    "mf.scf()\n",
    "G0=mf.Gradients().grad()\n",
    "H0=mf.Hessian().hess()\n",
    "OH2coords=OH2.atom_coords()\n",
    "AF_1=aaff(mf,[1,0,-1])+alc_deriv_grad_nuc(OH2,[1,0,-1])"
   ]
  },
  {
   "cell_type": "code",
   "execution_count": 26,
   "metadata": {},
   "outputs": [
    {
     "name": "stdout",
     "output_type": "stream",
     "text": [
      "converged SCF energy = -78.2241681991639\n"
     ]
    }
   ],
   "source": [
    "OH2p=FcM(fcs=[dl,0,-dl],atom=oh2srt,unit=\"bohr\",basis={\"H\":\"pc-2\",'O':bse.get_basis(\"pcX-2\",fmt=\"nwchem\",elements=[8])})\n",
    "mf = scf.RHF(OH2p)\n",
    "mf.scf(dm0=mf.init_guess_by_1e())\n",
    "AF_1p=aaff(mf,[1,0,-1])+alc_deriv_grad_nuc(OH2p,[1,0,-1])\n",
    "H0p=mf.Hessian().hess()"
   ]
  },
  {
   "cell_type": "code",
   "execution_count": 27,
   "metadata": {},
   "outputs": [
    {
     "name": "stdout",
     "output_type": "stream",
     "text": [
      "converged SCF energy = -73.9580532577637\n"
     ]
    }
   ],
   "source": [
    "OH2m=FcM(fcs=[-dl,0,dl],atom=oh2srt,unit=\"bohr\",basis={\"H\":\"pc-2\",'O':bse.get_basis(\"pcX-2\",fmt=\"nwchem\",elements=[8])})\n",
    "mf = scf.RHF(OH2m)\n",
    "mf.scf(dm0=mf.init_guess_by_1e())\n",
    "AF_1m=aaff(mf,[1,0,-1])+alc_deriv_grad_nuc(OH2m,[1,0,-1])\n",
    "H0m=mf.Hessian().hess()"
   ]
  },
  {
   "cell_type": "code",
   "execution_count": 28,
   "metadata": {},
   "outputs": [],
   "source": [
    "AF_2=AF_1+(AF_1p-AF_1m)/dl/2/2\n",
    "AF_3=AF_1+(AF_1p-AF_1m)/2/dl/2+(AF_1p-2*AF_1+AF_1m)/6/dl**2\n",
    "AH_1=H0+(H0p-H0m)/2/dl\n",
    "AH_2=H0+(H0p-H0m)/2/dl+(H0p-2*H0+H0m)/2/dl**2\n",
    "AF_2[0]+=AF_2[2]\n",
    "AF_2[2]-=AF_2[2]\n",
    "AF_3[0]+=AF_3[2]\n",
    "AF_3[2]-=AF_3[2]"
   ]
  },
  {
   "cell_type": "code",
   "execution_count": 29,
   "metadata": {},
   "outputs": [
    {
     "name": "stdout",
     "output_type": "stream",
     "text": [
      "[Bond(0, 1, weak=0)]\n",
      "[0.05309818]\n"
     ]
    },
    {
     "data": {
      "text/plain": [
       "(array([1.77560537]),\n",
       " array([-0.10561262]),\n",
       " array([1.66999274]),\n",
       " array([1.68776093]))"
      ]
     },
     "execution_count": 29,
     "metadata": {},
     "output_type": "execute_result"
    }
   ],
   "source": [
    "mpa_pb(OH2coords[:2],[\"F\",\"H\"],AF_2[:2],AH_2[:2,:2,:,:],solve_ic=True)"
   ]
  },
  {
   "cell_type": "code",
   "execution_count": 30,
   "metadata": {},
   "outputs": [
    {
     "data": {
      "text/plain": [
       "array([[0.        , 0.        , 0.        ],\n",
       "       [0.        , 0.        , 1.69574139]])"
      ]
     },
     "execution_count": 30,
     "metadata": {},
     "output_type": "execute_result"
    }
   ],
   "source": [
    "fhoptg"
   ]
  },
  {
   "cell_type": "code",
   "execution_count": 31,
   "metadata": {},
   "outputs": [
    {
     "name": "stdout",
     "output_type": "stream",
     "text": [
      "1.6965579106093105\n"
     ]
    },
    {
     "data": {
      "text/plain": [
       "array([[ 0.        ,  0.        ,  0.        ],\n",
       "       [-0.41273035, -0.33018417,  1.61212308]])"
      ]
     },
     "execution_count": 31,
     "metadata": {},
     "output_type": "execute_result"
    }
   ],
   "source": [
    "nr_step(OH2coords[:2],AF_1[:2],H0[:2,:2,:,:])"
   ]
  },
  {
   "cell_type": "code",
   "execution_count": null,
   "metadata": {},
   "outputs": [],
   "source": []
  }
 ],
 "metadata": {
  "kernelspec": {
   "display_name": "Python 3",
   "language": "python",
   "name": "python3"
  },
  "language_info": {
   "codemirror_mode": {
    "name": "ipython",
    "version": 3
   },
   "file_extension": ".py",
   "mimetype": "text/x-python",
   "name": "python",
   "nbconvert_exporter": "python",
   "pygments_lexer": "ipython3",
   "version": "3.7.3"
  }
 },
 "nbformat": 4,
 "nbformat_minor": 2
}
