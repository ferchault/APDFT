{
 "cells": [
  {
   "cell_type": "code",
   "execution_count": 178,
   "metadata": {},
   "outputs": [],
   "source": [
    "import inspect\n",
    "from berny import Berny, geomlib, coords,Geometry,Math\n",
    "import berny.coords\n",
    "from aaff import aaff,alc_deriv_grad_nuc,alc_differential_grad_nuc\n",
    "from FcMole import FcM\n",
    "from alch_deriv import alch_deriv\n",
    "from pyscf import gto,scf\n",
    "import numpy as np\n",
    "import ipyvolume as ipv\n",
    "from numpy.linalg import norm as norm\n",
    "from scipy.optimize import  minimize\n",
    "from scipy.spatial.transform import Rotation as R\n",
    "import matplotlib.pyplot as plt\n",
    "from mpl_toolkits import mplot3d\n",
    "from pyscf.grad import rhf as grhf\n",
    "from pyscf.hessian import rhf as hrhf\n",
    "import basis_set_exchange as bse\n",
    "from FDcoeffs import *\n",
    "from pyscf.geomopt.berny_solver import optimize\n",
    "from pyscf.geomopt.berny_solver import to_berny_geom as tbg\n",
    "ang2bohr=1.8897261246\n",
    "bohr2ang=.5291772109\n",
    "np.set_printoptions(precision=3)"
   ]
  },
  {
   "cell_type": "code",
   "execution_count": 179,
   "metadata": {},
   "outputs": [
    {
     "data": {
      "text/plain": [
       "<module 'berny.coords' from '/home/administrator/anaconda3/lib/python3.7/site-packages/berny/coords.py'>"
      ]
     },
     "execution_count": 179,
     "metadata": {},
     "output_type": "execute_result"
    }
   ],
   "source": [
    "berny.coords"
   ]
  },
  {
   "cell_type": "code",
   "execution_count": 180,
   "metadata": {},
   "outputs": [],
   "source": [
    "import sys\n",
    "sys.path.append(\"/home/administrator/Documenti/APDFT/prototyping/hessian/AAFF/Libs/\")"
   ]
  },
  {
   "cell_type": "code",
   "execution_count": 181,
   "metadata": {},
   "outputs": [],
   "source": [
    "from Morse import mpa\n",
    "from AP_class import APDFT_perturbator as APP"
   ]
  },
  {
   "cell_type": "code",
   "execution_count": 182,
   "metadata": {},
   "outputs": [],
   "source": [
    "def anglecenter(coords):\n",
    "    return np.around(np.arccos(coords[1].dot(coords[2])/norm(coords[1])/norm(coords[2])),decimals=3)"
   ]
  },
  {
   "cell_type": "code",
   "execution_count": 183,
   "metadata": {},
   "outputs": [],
   "source": [
    "h2o=gto.M(atom=\"O 0 0 0; H 0 -1.3 1.1; H 0 1.3 1.5\",unit=\"Bohr\",basis=\"def2-TZVP\")"
   ]
  },
  {
   "cell_type": "code",
   "execution_count": 184,
   "metadata": {},
   "outputs": [
    {
     "name": "stdout",
     "output_type": "stream",
     "text": [
      "converged SCF energy = -76.0414421197353\n",
      "--------------- RHF gradients ---------------\n",
      "         x                y                z\n",
      "0 O    -0.0000000000    -0.1009911420    -0.0559574431\n",
      "1 H     0.0000000000     0.0663066454    -0.0200843097\n",
      "2 H     0.0000000000     0.0346844966     0.0760417528\n",
      "----------------------------------------------\n"
     ]
    }
   ],
   "source": [
    "mf=scf.RHF(h2o)\n",
    "E0=mf.scf()\n",
    "g0=mf.Gradients().grad()\n",
    "h0=mf.Hessian().hess()"
   ]
  },
  {
   "cell_type": "code",
   "execution_count": 185,
   "metadata": {},
   "outputs": [],
   "source": [
    "h0=h0.swapaxes(1,2)"
   ]
  },
  {
   "cell_type": "code",
   "execution_count": 186,
   "metadata": {},
   "outputs": [],
   "source": [
    "h0=h0.reshape(9,9)"
   ]
  },
  {
   "cell_type": "code",
   "execution_count": 187,
   "metadata": {},
   "outputs": [
    {
     "name": "stdout",
     "output_type": "stream",
     "text": [
      "\n",
      "Geometry optimization cycle 1\n",
      "Cartesian coordinates (Angstrom)\n",
      " Atom        New coordinates             dX        dY        dZ\n",
      "   O   0.000000   0.000000   0.000000    0.000000  0.000000  0.000000\n",
      "   H   0.000000  -0.687930   0.582095    0.000000  0.000000  0.000000\n",
      "   H   0.000000   0.687930   0.793766    0.000000  0.000000  0.000000\n",
      "converged SCF energy = -76.0414421197384\n",
      "--------------- SCF_Scanner gradients ---------------\n",
      "         x                y                z\n",
      "0 O    -0.0000000000    -0.1009912043    -0.0559579130\n",
      "1 H     0.0000000000     0.0663066114    -0.0200841626\n",
      "2 H     0.0000000000     0.0346845929     0.0760420756\n",
      "----------------------------------------------\n",
      "cycle 1: E = -76.0414421197  dE = -76.0414  norm(grad) = 0.15848\n",
      "\n",
      "Geometry optimization cycle 2\n",
      "Cartesian coordinates (Angstrom)\n",
      " Atom        New coordinates             dX        dY        dZ\n",
      "   O   0.000000   0.046160   0.060851    0.000000  0.046160  0.060851\n",
      "   H   0.000000  -0.770296   0.565628    0.000000 -0.082365 -0.016467\n",
      "   H   0.000000   0.724136   0.749381    0.000000  0.036206 -0.044385\n",
      "\n",
      "WARN: Large deviations found between the input molecule and the molecule from chkfile\n",
      "Initial guess density matrix may have large error.\n",
      "\n",
      "converged SCF energy = -76.0584175250668\n",
      "--------------- SCF_Scanner gradients ---------------\n",
      "         x                y                z\n",
      "0 O    -0.0000000000    -0.0010665294    -0.0342248046\n",
      "1 H    -0.0000000000    -0.0125469608     0.0134925719\n",
      "2 H     0.0000000000     0.0136134902     0.0207322328\n",
      "----------------------------------------------\n",
      "cycle 2: E = -76.0584175251  dE = -0.0169754  norm(grad) = 0.0461205\n",
      "\n",
      "Geometry optimization cycle 3\n",
      "Cartesian coordinates (Angstrom)\n",
      " Atom        New coordinates             dX        dY        dZ\n",
      "   O   0.000000   0.049967   0.087924    0.000000  0.003807  0.027073\n",
      "   H   0.000000  -0.770216   0.555110    0.000000  0.000080 -0.010518\n",
      "   H   0.000000   0.720250   0.732827    0.000000 -0.003887 -0.016554\n",
      "\n",
      "WARN: Large deviations found between the input molecule and the molecule from chkfile\n",
      "Initial guess density matrix may have large error.\n",
      "\n",
      "converged SCF energy = -76.059412321906\n",
      "--------------- SCF_Scanner gradients ---------------\n",
      "         x                y                z\n",
      "0 O     0.0000000000     0.0125494991     0.0083496171\n",
      "1 H    -0.0000000000    -0.0017191036     0.0014701043\n",
      "2 H     0.0000000000    -0.0108303955    -0.0098197214\n",
      "----------------------------------------------\n",
      "cycle 3: E = -76.0594123219  dE = -0.000994797  norm(grad) = 0.0211198\n",
      "\n",
      "Geometry optimization cycle 4\n",
      "Cartesian coordinates (Angstrom)\n",
      " Atom        New coordinates             dX        dY        dZ\n",
      "   O   0.000000   0.044886   0.085690    0.000000 -0.005081 -0.002233\n",
      "   H   0.000000  -0.772497   0.553644    0.000000 -0.002280 -0.001466\n",
      "   H   0.000000   0.727611   0.736526    0.000000  0.007362  0.003700\n",
      "\n",
      "WARN: Large deviations found between the input molecule and the molecule from chkfile\n",
      "Initial guess density matrix may have large error.\n",
      "\n",
      "converged SCF energy = -76.0595770079192\n",
      "--------------- SCF_Scanner gradients ---------------\n",
      "         x                y                z\n",
      "0 O    -0.0000000000    -0.0012381094    -0.0006512342\n",
      "1 H     0.0000000000     0.0000979728    -0.0002290659\n",
      "2 H    -0.0000000000     0.0011401366     0.0008803000\n",
      "----------------------------------------------\n",
      "cycle 4: E = -76.0595770079  dE = -0.000164686  norm(grad) = 0.00202335\n",
      "\n",
      "Geometry optimization cycle 5\n",
      "Cartesian coordinates (Angstrom)\n",
      " Atom        New coordinates             dX        dY        dZ\n",
      "   O   0.000000   0.045372   0.085625    0.000000  0.000486 -0.000066\n",
      "   H   0.000000  -0.772047   0.553940    0.000000  0.000449  0.000296\n",
      "   H   0.000000   0.726676   0.736296    0.000000 -0.000936 -0.000230\n",
      "converged SCF energy = -76.05957881995\n",
      "--------------- SCF_Scanner gradients ---------------\n",
      "         x                y                z\n",
      "0 O     0.0000000000    -0.0000210518    -0.0000457242\n",
      "1 H    -0.0000000000    -0.0000219682     0.0000088961\n",
      "2 H    -0.0000000000     0.0000430200     0.0000368281\n",
      "----------------------------------------------\n",
      "cycle 5: E = -76.0595788199  dE = -1.81203e-06  norm(grad) = 7.93893e-05\n"
     ]
    }
   ],
   "source": [
    "h20_eq_geom=(optimize(mf).atom_coords())"
   ]
  },
  {
   "cell_type": "code",
   "execution_count": 188,
   "metadata": {},
   "outputs": [
    {
     "data": {
      "text/plain": [
       "(1.859, 1.7802514662413118, 1.780307147665229)"
      ]
     },
     "execution_count": 188,
     "metadata": {},
     "output_type": "execute_result"
    }
   ],
   "source": [
    "h20_eq_geom-=h20_eq_geom[0]\n",
    "minimum=norm(h20_eq_geom[1]),anglecenter(h20_eq_geom)\n",
    "anglecenter(h20_eq_geom),norm(h20_eq_geom[1]),norm(h20_eq_geom[2])"
   ]
  },
  {
   "cell_type": "code",
   "execution_count": 189,
   "metadata": {},
   "outputs": [],
   "source": [
    "h2occords=h2o.atom_coords()"
   ]
  },
  {
   "cell_type": "code",
   "execution_count": 190,
   "metadata": {},
   "outputs": [],
   "source": [
    "geom2=tbg(h2o)"
   ]
  },
  {
   "cell_type": "code",
   "execution_count": 191,
   "metadata": {},
   "outputs": [
    {
     "data": {
      "text/plain": [
       "(1.583, 1.7029386365926402)"
      ]
     },
     "execution_count": 191,
     "metadata": {},
     "output_type": "execute_result"
    }
   ],
   "source": [
    "anglecenter(h2occords),norm(h2occords[1])"
   ]
  },
  {
   "cell_type": "code",
   "execution_count": 192,
   "metadata": {},
   "outputs": [],
   "source": [
    "b2=Berny(geom2)\n",
    "s=b2._state"
   ]
  },
  {
   "cell_type": "code",
   "execution_count": 193,
   "metadata": {},
   "outputs": [
    {
     "data": {
      "text/plain": [
       "array([1.703, 1.985, 1.583])"
      ]
     },
     "execution_count": 193,
     "metadata": {},
     "output_type": "execute_result"
    }
   ],
   "source": [
    "b2._state.future.q  # bohr and radians"
   ]
  },
  {
   "cell_type": "code",
   "execution_count": 194,
   "metadata": {},
   "outputs": [],
   "source": [
    "q0=s.future.q"
   ]
  },
  {
   "cell_type": "code",
   "execution_count": 195,
   "metadata": {},
   "outputs": [
    {
     "data": {
      "text/plain": [
       "array([1.703, 1.985, 1.583])"
      ]
     },
     "execution_count": 195,
     "metadata": {},
     "output_type": "execute_result"
    }
   ],
   "source": [
    "s.coords.eval_geom(s.geom)"
   ]
  },
  {
   "cell_type": "markdown",
   "metadata": {},
   "source": [
    "## from dq in internal coords to dq in cartesian coords"
   ]
  },
  {
   "cell_type": "code",
   "execution_count": 196,
   "metadata": {},
   "outputs": [],
   "source": [
    "B = s.coords.B_matrix(s.geom)\n",
    "B_inv = B.T.dot(Math.pinv(np.dot(B, B.T)))\n",
    "g_ic=np.dot(B_inv.T, (g0).reshape(-1))"
   ]
  },
  {
   "cell_type": "code",
   "execution_count": 197,
   "metadata": {},
   "outputs": [
    {
     "data": {
      "text/plain": [
       "(array([-0.064,  0.08 , -0.047]), array([[-3.502e-16, -1.010e-01, -5.596e-02],\n",
       "        [ 1.425e-16,  6.631e-02, -2.008e-02],\n",
       "        [ 2.078e-16,  3.468e-02,  7.604e-02]]))"
      ]
     },
     "execution_count": 197,
     "metadata": {},
     "output_type": "execute_result"
    }
   ],
   "source": [
    "g_ic,g0"
   ]
  },
  {
   "cell_type": "code",
   "execution_count": 198,
   "metadata": {},
   "outputs": [
    {
     "data": {
      "text/plain": [
       "True"
      ]
     },
     "execution_count": 198,
     "metadata": {},
     "output_type": "execute_result"
    }
   ],
   "source": [
    "np.allclose(B.T@g_ic,g0.flatten())"
   ]
  },
  {
   "cell_type": "markdown",
   "metadata": {},
   "source": [
    "$$B_{\\mu i}=\\frac{\\partial q_\\mu}{\\partial x_i}$$"
   ]
  },
  {
   "cell_type": "code",
   "execution_count": 199,
   "metadata": {},
   "outputs": [],
   "source": [
    "############################################\n",
    "geom0=s.geom.copy()\n",
    "bms=[]\n",
    "for i in range(geom0.coords.flatten().shape[0]):\n",
    "    a=geom0.coords.flatten()\n",
    "    geom1=geom0.copy()\n",
    "    a[i]+=.001*bohr2ang\n",
    "    a=a.reshape(3,3)\n",
    "    geom1.coords=a\n",
    "    bms.append((s.coords.B_matrix(geom1)-B)*1000)\n",
    "bms_arr=np.asarray(bms)\n",
    "BpG2=np.einsum('ijk,j->ik',bms,g_ic)\n",
    "h_ic=B_inv.T@(h0-BpG2)@B_inv"
   ]
  },
  {
   "cell_type": "code",
   "execution_count": 200,
   "metadata": {},
   "outputs": [
    {
     "data": {
      "text/plain": [
       "(1.7504429966653323, 6.390084963992308e-05)"
      ]
     },
     "execution_count": 200,
     "metadata": {},
     "output_type": "execute_result"
    }
   ],
   "source": [
    "norm(h0),norm(h0-B.T@h_ic@B-BpG2) #in realtà la traasformazione non è invertibile, ma ci si può avvicinare intorno al minimo."
   ]
  },
  {
   "cell_type": "code",
   "execution_count": 201,
   "metadata": {},
   "outputs": [],
   "source": [
    "dq_pr=-np.linalg.inv(h_ic)@g_ic"
   ]
  },
  {
   "cell_type": "code",
   "execution_count": 202,
   "metadata": {},
   "outputs": [
    {
     "data": {
      "text/plain": [
       "(array([1.771, 1.668, 1.875]), (1.7802514662413118, 1.859))"
      ]
     },
     "execution_count": 202,
     "metadata": {},
     "output_type": "execute_result"
    }
   ],
   "source": [
    "pred_q=q0+dq_pr\n",
    "q0+dq_pr,minimum"
   ]
  },
  {
   "cell_type": "code",
   "execution_count": 203,
   "metadata": {},
   "outputs": [],
   "source": [
    "coords_new = h2occords+B_inv.dot(dq_pr).reshape(-1, 3)\n",
    "coords_new-=coords_new[0]"
   ]
  },
  {
   "cell_type": "code",
   "execution_count": 204,
   "metadata": {},
   "outputs": [
    {
     "data": {
      "text/plain": [
       "(1.809525127906535, 1.877)"
      ]
     },
     "execution_count": 204,
     "metadata": {},
     "output_type": "execute_result"
    }
   ],
   "source": [
    "norm(coords_new[1]),anglecenter(coords_new)"
   ]
  },
  {
   "cell_type": "code",
   "execution_count": 205,
   "metadata": {},
   "outputs": [
    {
     "data": {
      "text/plain": [
       "(2.379773933641184, 1.555)"
      ]
     },
     "execution_count": 205,
     "metadata": {},
     "output_type": "execute_result"
    }
   ],
   "source": [
    "dxcc=-(np.linalg.inv(h0)@g0.flatten()).reshape(3,3)\n",
    "dxcc-=dxcc[0]\n",
    "norm((h2occords+dxcc)[1]),anglecenter(h2occords+dxcc)"
   ]
  },
  {
   "cell_type": "code",
   "execution_count": 206,
   "metadata": {},
   "outputs": [
    {
     "data": {
      "text/plain": [
       "(2.3797738972048603, 1.555)"
      ]
     },
     "execution_count": 206,
     "metadata": {},
     "output_type": "execute_result"
    }
   ],
   "source": [
    "dxcc=-(np.linalg.solve(h0,g0.flatten())).reshape(3,3)\n",
    "dxcc-=dxcc[0]\n",
    "norm((h2occords+dxcc)[1]),anglecenter(h2occords+dxcc)"
   ]
  },
  {
   "cell_type": "code",
   "execution_count": 207,
   "metadata": {},
   "outputs": [],
   "source": [
    "app=APP(mf,sites=[1])\n",
    "app.build_all()"
   ]
  },
  {
   "cell_type": "code",
   "execution_count": 208,
   "metadata": {},
   "outputs": [],
   "source": [
    "depE=app.APDFT3(np.asarray([-1]))-app.mf.e_tot"
   ]
  },
  {
   "cell_type": "code",
   "execution_count": 209,
   "metadata": {},
   "outputs": [
    {
     "data": {
      "text/plain": [
       "(0.08510200589216166, 0.06840963081731409, 0.07799798163649954)"
      ]
     },
     "execution_count": 209,
     "metadata": {},
     "output_type": "execute_result"
    }
   ],
   "source": [
    "mpa(g_ic[0],h_ic[0,0],s.future.q[0],depE)[0]-q0[0],dq_pr[0],-g_ic[0]/h_ic[0,0]"
   ]
  },
  {
   "cell_type": "code",
   "execution_count": 210,
   "metadata": {},
   "outputs": [
    {
     "data": {
      "text/plain": [
       "(array([1.703, 1.985, 1.583]),\n",
       " array([1.771, 1.668, 1.875]),\n",
       " array([1.778, 1.719, 1.875]),\n",
       " (1.7802514662413118, 1.859))"
      ]
     },
     "execution_count": 210,
     "metadata": {},
     "output_type": "execute_result"
    }
   ],
   "source": [
    "ddq_mb=np.asarray([mpa(g_ic[0],h_ic[0,0],q0[0],depE)[0]+g_ic[0]/h_ic[0,0]-s.future.q[0],\\\n",
    "                mpa(g_ic[1],h_ic[1,1],q0[1],depE)[0]+g_ic[1]/h_ic[1,1]-q0[1],0])\n",
    "ddq_mb\n",
    "q0,q0+dq_pr,q0+dq_pr+ddq_mb,minimum"
   ]
  },
  {
   "cell_type": "code",
   "execution_count": 211,
   "metadata": {},
   "outputs": [
    {
     "data": {
      "text/plain": [
       "1.7847215795422742"
      ]
     },
     "execution_count": 211,
     "metadata": {},
     "output_type": "execute_result"
    }
   ],
   "source": [
    "#with tabled BDE\n",
    "mpa(g_ic[0],h_ic[0,0],s.future.q[0],119/627)[0]+g_ic[0]/h_ic[0,0]+dq_pr[0]"
   ]
  },
  {
   "cell_type": "code",
   "execution_count": 212,
   "metadata": {},
   "outputs": [
    {
     "data": {
      "text/plain": [
       "(array([1.703, 1.985, 1.583]),\n",
       " array([1.771, 1.668, 1.875]),\n",
       " array([1.785, 1.761, 1.875]),\n",
       " (1.7802514662413118, 1.859))"
      ]
     },
     "execution_count": 212,
     "metadata": {},
     "output_type": "execute_result"
    }
   ],
   "source": [
    "tbde=119/627\n",
    "ddq_mb=np.asarray([mpa(g_ic[0],h_ic[0,0],q0[0],tbde)[0]+g_ic[0]/h_ic[0,0]-s.future.q[0],\\\n",
    "                mpa(g_ic[1],h_ic[1,1],q0[1],tbde)[0]+g_ic[1]/h_ic[1,1]-q0[1],0])\n",
    "ddq_mb\n",
    "q0,q0+dq_pr,q0+dq_pr+ddq_mb,minimum"
   ]
  },
  {
   "cell_type": "code",
   "execution_count": 213,
   "metadata": {},
   "outputs": [],
   "source": [
    "def build_h_ic(s,g_ic,h0):\n",
    "    geom0=s.geom.copy()\n",
    "    B=s.coords.B_matrix(geom0)\n",
    "    bms=[]\n",
    "    for i in range(geom0.coords.flatten().shape[0]):\n",
    "        a=geom0.coords.flatten()\n",
    "        geom1=geom0.copy()\n",
    "        a[i]+=.001*bohr2ang\n",
    "        a=a.reshape(3,3)\n",
    "        geom1.coords=a\n",
    "        bms.append((s.coords.B_matrix(geom1)-B)*1000)\n",
    "    bms_arr=np.asarray(bms)\n",
    "    BpG2=np.einsum('ijk,j->ik',bms,g_ic)\n",
    "    h_ic=B_inv.T@(h0-BpG2)@B_inv\n",
    "    return h_ic"
   ]
  },
  {
   "cell_type": "code",
   "execution_count": 214,
   "metadata": {},
   "outputs": [],
   "source": [
    "tbbde={\"OH\":119/627,\"HO\":119/627}\n",
    "def mpa_pb(coords,atoml,g,h):\n",
    "    if not len(h.shape)==2:\n",
    "        h=h.swapaxes(1,2)\n",
    "        h=h.reshape(g.shape[0],g.shape[0])\n",
    "    geom0=Geometry(atoml,coords*bohr2ang)\n",
    "    bernyobj=Berny(geom0)\n",
    "    s=bernyobj._state\n",
    "    B = s.coords.B_matrix(geom0)\n",
    "    q0=s.coords.eval_geom(geom0)\n",
    "    B_inv = B.T.dot(Math.pinv(np.dot(B, B.T)))\n",
    "    g_ic=np.dot(B_inv.T, (g).reshape(-1)) \n",
    "    h_ic=build_h_ic(s,g_ic,h)\n",
    "    dq_NR=-np.linalg.inv(h_ic)@g_ic\n",
    "    ddq_mb=np.zeros_like(dq_NR)\n",
    "    bnr=0\n",
    "    for i in range(len(s.coords._coords)):\n",
    "        if s.coords._coords[i].__class__ is berny.coords.Bond:\n",
    "            bondatoms=atoml[s.coords._coords[i].i]+atoml[s.coords._coords[i].j]\n",
    "            ddq_mb[i]+=mpa(g_ic[i],h_ic[i,i],q0[i],tbbde[bondatoms])[0]+g_ic[i]/h_ic[i,i]-q0[i]\n",
    "            bnr+=1\n",
    "    #ddq_mb[bnr:]=np.linalg.solve(h_ic[bnr:,bnr:],g_ic[bnr:]+h_ic[bnr:,:bnr]@(dq_NR)[:bnr])\n",
    "    ddq_mb[bnr:]=np.linalg.solve(h_ic[bnr:,bnr:],-h_ic[bnr:,:]@(ddq_mb))\n",
    "    return q0,q0+dq_NR,q0+dq_NR+ddq_mb,ddq_mb\n",
    "    #ddq_mb=np.asarray([mpa(g_ic[0],h_ic[0,0],q0[0],tbde)[0]+g_ic[0]/h_ic[0,0]"
   ]
  },
  {
   "cell_type": "code",
   "execution_count": 215,
   "metadata": {},
   "outputs": [
    {
     "data": {
      "text/plain": [
       "(array([1.703, 1.985, 1.583]),\n",
       " array([1.771, 1.668, 1.875]),\n",
       " array([1.785, 1.761, 1.852]),\n",
       " array([ 0.013,  0.093, -0.023]))"
      ]
     },
     "execution_count": 215,
     "metadata": {},
     "output_type": "execute_result"
    }
   ],
   "source": [
    "mpa_pb(h2o.atom_coords(),[h2o.atom_symbol(x) for x in range(h2o.natm)],g0,h0)"
   ]
  },
  {
   "cell_type": "code",
   "execution_count": 216,
   "metadata": {},
   "outputs": [
    {
     "data": {
      "text/plain": [
       "(1.7802514662413118, 1.859)"
      ]
     },
     "execution_count": 216,
     "metadata": {},
     "output_type": "execute_result"
    }
   ],
   "source": [
    "minimum\n"
   ]
  },
  {
   "cell_type": "code",
   "execution_count": null,
   "metadata": {},
   "outputs": [],
   "source": []
  }
 ],
 "metadata": {
  "kernelspec": {
   "display_name": "Python 3",
   "language": "python",
   "name": "python3"
  },
  "language_info": {
   "codemirror_mode": {
    "name": "ipython",
    "version": 3
   },
   "file_extension": ".py",
   "mimetype": "text/x-python",
   "name": "python",
   "nbconvert_exporter": "python",
   "pygments_lexer": "ipython3",
   "version": "3.7.3"
  }
 },
 "nbformat": 4,
 "nbformat_minor": 2
}
