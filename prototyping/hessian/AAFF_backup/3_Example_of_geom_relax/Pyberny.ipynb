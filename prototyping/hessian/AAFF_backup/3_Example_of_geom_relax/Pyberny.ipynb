{
 "cells": [
  {
   "cell_type": "code",
   "execution_count": 1,
   "metadata": {},
   "outputs": [],
   "source": [
    "import inspect\n",
    "from berny import Berny, geomlib, coords,Geometry\n",
    "from aaff import aaff,alc_deriv_grad_nuc,alc_differential_grad_nuc\n",
    "from FcMole import FcM\n",
    "from alch_deriv import alch_deriv\n",
    "from pyscf import gto,scf\n",
    "import numpy as np\n",
    "import ipyvolume as ipv\n",
    "from numpy.linalg import norm as norm\n",
    "from scipy.optimize import  minimize\n",
    "from scipy.spatial.transform import Rotation as R\n",
    "import matplotlib.pyplot as plt\n",
    "from mpl_toolkits import mplot3d\n",
    "from pyscf.grad import rhf as grhf\n",
    "from pyscf.hessian import rhf as hrhf\n",
    "import basis_set_exchange as bse\n",
    "from FDcoeffs import *\n",
    "from pyscf.geomopt.berny_solver import optimize\n",
    "ang2bohr=1.8897261246\n",
    "bohr2ang=.5291772109"
   ]
  },
  {
   "cell_type": "code",
   "execution_count": 2,
   "metadata": {},
   "outputs": [
    {
     "name": "stdout",
     "output_type": "stream",
     "text": [
      "Help on class Berny in module berny.berny:\n",
      "\n",
      "class Berny(collections.abc.Generator)\n",
      " |  Berny(geom, debug=False, restart=None, maxsteps=100, logger=None, **params)\n",
      " |  \n",
      " |  Generator that receives energy and gradients and yields the next geometry.\n",
      " |  \n",
      " |  Args:\n",
      " |      geom (:class:`~berny.Geometry`): geometry to start with\n",
      " |      debug (bool): if :data:`True`, the generator yields debug info on receiving\n",
      " |          the energy and gradients, otherwise it yields :data:`None`\n",
      " |      restart (dict): start from a state saved from previous run\n",
      " |          using ``debug=True``\n",
      " |      maxsteps (int): abort after maximum number of steps\n",
      " |      logger (:class:`logging.Logger`): alternative logger to use\n",
      " |      params: parameters that override the :data:`~berny.berny.defaults`\n",
      " |  \n",
      " |  The Berny object is to be used as follows::\n",
      " |  \n",
      " |      optimizer = Berny(geom)\n",
      " |      for geom in optimizer:\n",
      " |          # calculate energy and gradients (as N-by-3 matrix)\n",
      " |          debug = optimizer.send((energy, gradients))\n",
      " |  \n",
      " |  Method resolution order:\n",
      " |      Berny\n",
      " |      collections.abc.Generator\n",
      " |      collections.abc.Iterator\n",
      " |      collections.abc.Iterable\n",
      " |      builtins.object\n",
      " |  \n",
      " |  Methods defined here:\n",
      " |  \n",
      " |  __init__(self, geom, debug=False, restart=None, maxsteps=100, logger=None, **params)\n",
      " |      Initialize self.  See help(type(self)) for accurate signature.\n",
      " |  \n",
      " |  __next__(self)\n",
      " |      Return the next item from the generator.\n",
      " |      When exhausted, raise StopIteration.\n",
      " |  \n",
      " |  send(self, energy_and_gradients)\n",
      " |      Send a value into the generator.\n",
      " |      Return next yielded value or raise StopIteration.\n",
      " |  \n",
      " |  throw(self, *args, **kwargs)\n",
      " |      Raise an exception in the generator.\n",
      " |      Return next yielded value or raise StopIteration.\n",
      " |  \n",
      " |  ----------------------------------------------------------------------\n",
      " |  Data descriptors defined here:\n",
      " |  \n",
      " |  __dict__\n",
      " |      dictionary for instance variables (if defined)\n",
      " |  \n",
      " |  __weakref__\n",
      " |      list of weak references to the object (if defined)\n",
      " |  \n",
      " |  converged\n",
      " |      Whether the optimized has converged.\n",
      " |  \n",
      " |  trust\n",
      " |      Current trust radius.\n",
      " |  \n",
      " |  ----------------------------------------------------------------------\n",
      " |  Data and other attributes defined here:\n",
      " |  \n",
      " |  Point = <class 'berny.berny.Point'>\n",
      " |      Point(q, E, g)\n",
      " |  \n",
      " |  State = <class 'berny.berny.Berny.State'>\n",
      " |  \n",
      " |  \n",
      " |  __abstractmethods__ = frozenset()\n",
      " |  \n",
      " |  ----------------------------------------------------------------------\n",
      " |  Methods inherited from collections.abc.Generator:\n",
      " |  \n",
      " |  close(self)\n",
      " |      Raise GeneratorExit inside generator.\n",
      " |  \n",
      " |  ----------------------------------------------------------------------\n",
      " |  Class methods inherited from collections.abc.Generator:\n",
      " |  \n",
      " |  __subclasshook__(C) from abc.ABCMeta\n",
      " |      Abstract classes can override this to customize issubclass().\n",
      " |      \n",
      " |      This is invoked early on by abc.ABCMeta.__subclasscheck__().\n",
      " |      It should return True, False or NotImplemented.  If it returns\n",
      " |      NotImplemented, the normal algorithm is used.  Otherwise, it\n",
      " |      overrides the normal algorithm (and the outcome is cached).\n",
      " |  \n",
      " |  ----------------------------------------------------------------------\n",
      " |  Methods inherited from collections.abc.Iterator:\n",
      " |  \n",
      " |  __iter__(self)\n",
      "\n"
     ]
    }
   ],
   "source": [
    "help(Berny)"
   ]
  },
  {
   "cell_type": "code",
   "execution_count": 3,
   "metadata": {},
   "outputs": [],
   "source": [
    "#HF=gto.M(atom=\"F 0 0 0;H 0 0 1.695741\",unit=\"bohr\","
   ]
  },
  {
   "cell_type": "code",
   "execution_count": 4,
   "metadata": {},
   "outputs": [
    {
     "name": "stdout",
     "output_type": "stream",
     "text": [
      "converged SCF energy = -100.0577866084\n",
      "--------------- RHF gradients ---------------\n",
      "         x                y                z\n",
      "0 F    -0.0000000000    -0.0000000000    -0.0867765107\n",
      "1 H     0.0000000000     0.0000000000     0.0867765107\n",
      "----------------------------------------------\n"
     ]
    }
   ],
   "source": [
    "HF=gto.M(atom=\"F 0 0 0;H 0 0 1.85741\",unit=\"bohr\",\n",
    "            basis={\"H\":\"pc-2\",'F':bse.get_basis(\"pcX-2\",fmt=\"nwchem\",elements=[9])})\n",
    "mfhf = scf.RHF(HF)\n",
    "mfhf.scf()\n",
    "g=mfhf.Gradients().grad()"
   ]
  },
  {
   "cell_type": "code",
   "execution_count": 5,
   "metadata": {},
   "outputs": [
    {
     "data": {
      "text/plain": [
       "['__add__',\n",
       " '__call__',\n",
       " '__class__',\n",
       " '__delattr__',\n",
       " '__dict__',\n",
       " '__dir__',\n",
       " '__doc__',\n",
       " '__eq__',\n",
       " '__format__',\n",
       " '__ge__',\n",
       " '__getattr__',\n",
       " '__getattribute__',\n",
       " '__getstate__',\n",
       " '__gt__',\n",
       " '__hash__',\n",
       " '__init__',\n",
       " '__init_subclass__',\n",
       " '__le__',\n",
       " '__lt__',\n",
       " '__module__',\n",
       " '__ne__',\n",
       " '__new__',\n",
       " '__reduce__',\n",
       " '__reduce_ex__',\n",
       " '__repr__',\n",
       " '__setattr__',\n",
       " '__sizeof__',\n",
       " '__str__',\n",
       " '__subclasshook__',\n",
       " '__weakref__',\n",
       " '_add_suffix',\n",
       " '_atm',\n",
       " '_atom',\n",
       " '_bas',\n",
       " '_basis',\n",
       " '_build_symmetry',\n",
       " '_built',\n",
       " '_ecp',\n",
       " '_ecpbas',\n",
       " '_enuc',\n",
       " '_env',\n",
       " '_keys',\n",
       " '_libcint_ctr_coeff',\n",
       " '_nao',\n",
       " '_nelectron',\n",
       " '_pseudo',\n",
       " '_symm_axes',\n",
       " '_symm_orig',\n",
       " 'ao2mo',\n",
       " 'ao_labels',\n",
       " 'ao_loc',\n",
       " 'ao_loc_2c',\n",
       " 'ao_loc_nr',\n",
       " 'aoslice_2c_by_atom',\n",
       " 'aoslice_by_atom',\n",
       " 'aoslice_nr_by_atom',\n",
       " 'apply',\n",
       " 'atom',\n",
       " 'atom_charge',\n",
       " 'atom_charges',\n",
       " 'atom_coord',\n",
       " 'atom_coords',\n",
       " 'atom_mass_list',\n",
       " 'atom_nelec_core',\n",
       " 'atom_nshells',\n",
       " 'atom_pure_symbol',\n",
       " 'atom_shell_ids',\n",
       " 'atom_symbol',\n",
       " 'bas_angular',\n",
       " 'bas_atom',\n",
       " 'bas_coord',\n",
       " 'bas_ctr_coeff',\n",
       " 'bas_exp',\n",
       " 'bas_kappa',\n",
       " 'bas_len_cart',\n",
       " 'bas_len_spinor',\n",
       " 'bas_nctr',\n",
       " 'bas_nprim',\n",
       " 'basis',\n",
       " 'build',\n",
       " 'cart',\n",
       " 'cart2sph_coeff',\n",
       " 'cart_labels',\n",
       " 'charge',\n",
       " 'check_sanity',\n",
       " 'condense_to_shell',\n",
       " 'copy',\n",
       " 'dump_input',\n",
       " 'dumps',\n",
       " 'ecp',\n",
       " 'elements',\n",
       " 'energy_nuc',\n",
       " 'etbs',\n",
       " 'eval_ao',\n",
       " 'eval_gto',\n",
       " 'expand_etb',\n",
       " 'expand_etbs',\n",
       " 'format_atom',\n",
       " 'format_basis',\n",
       " 'format_ecp',\n",
       " 'fromfile',\n",
       " 'fromstring',\n",
       " 'get_enuc',\n",
       " 'groupname',\n",
       " 'gto_norm',\n",
       " 'has_ecp',\n",
       " 'incore_anyway',\n",
       " 'inertia_moment',\n",
       " 'intor',\n",
       " 'intor_asymmetric',\n",
       " 'intor_by_shell',\n",
       " 'intor_symmetric',\n",
       " 'irrep_id',\n",
       " 'irrep_name',\n",
       " 'kernel',\n",
       " 'loads',\n",
       " 'loads_',\n",
       " 'make_atm_env',\n",
       " 'make_bas_env',\n",
       " 'make_ecp_env',\n",
       " 'make_env',\n",
       " 'max_memory',\n",
       " 'ms',\n",
       " 'multiplicity',\n",
       " 'nao',\n",
       " 'nao_2c',\n",
       " 'nao_2c_range',\n",
       " 'nao_cart',\n",
       " 'nao_nr',\n",
       " 'nao_nr_range',\n",
       " 'natm',\n",
       " 'nbas',\n",
       " 'nelec',\n",
       " 'nelectron',\n",
       " 'npgto_nr',\n",
       " 'nucmod',\n",
       " 'nucprop',\n",
       " 'offset_2c_by_atom',\n",
       " 'offset_ao_by_atom',\n",
       " 'offset_nr_by_atom',\n",
       " 'omega',\n",
       " 'output',\n",
       " 'pack',\n",
       " 'post_kernel',\n",
       " 'pre_kernel',\n",
       " 'run',\n",
       " 'search_ao_label',\n",
       " 'search_ao_nr',\n",
       " 'search_ao_r',\n",
       " 'search_shell_id',\n",
       " 'set',\n",
       " 'set_common_orig',\n",
       " 'set_common_orig_',\n",
       " 'set_common_origin',\n",
       " 'set_common_origin_',\n",
       " 'set_f12_zeta',\n",
       " 'set_geom_',\n",
       " 'set_nuc_mod',\n",
       " 'set_nuc_mod_',\n",
       " 'set_range_coulomb',\n",
       " 'set_range_coulomb_',\n",
       " 'set_rinv_orig',\n",
       " 'set_rinv_orig_',\n",
       " 'set_rinv_origin',\n",
       " 'set_rinv_origin_',\n",
       " 'set_rinv_zeta',\n",
       " 'set_rinv_zeta_',\n",
       " 'sph2spinor_coeff',\n",
       " 'sph_labels',\n",
       " 'spheric_labels',\n",
       " 'spin',\n",
       " 'spinor_labels',\n",
       " 'stdout',\n",
       " 'symm_orb',\n",
       " 'symmetry',\n",
       " 'symmetry_subgroup',\n",
       " 'time_reversal_map',\n",
       " 'tmap',\n",
       " 'to_uncontracted_cartesian_basis',\n",
       " 'tofile',\n",
       " 'topgroup',\n",
       " 'tostring',\n",
       " 'tot_electrons',\n",
       " 'unit',\n",
       " 'unpack',\n",
       " 'unpack_',\n",
       " 'update',\n",
       " 'update_from_chk',\n",
       " 'verbose',\n",
       " 'view',\n",
       " 'with_common_orig',\n",
       " 'with_common_origin',\n",
       " 'with_integral_screen',\n",
       " 'with_long_range_coulomb',\n",
       " 'with_range_coulomb',\n",
       " 'with_rinv_as_nucleus',\n",
       " 'with_rinv_at_nucleus',\n",
       " 'with_rinv_orig',\n",
       " 'with_rinv_origin',\n",
       " 'with_rinv_zeta',\n",
       " 'with_short_range_coulomb']"
      ]
     },
     "execution_count": 5,
     "metadata": {},
     "output_type": "execute_result"
    }
   ],
   "source": [
    "dir(HF)"
   ]
  },
  {
   "cell_type": "code",
   "execution_count": 6,
   "metadata": {},
   "outputs": [
    {
     "data": {
      "text/plain": [
       "'F'"
      ]
     },
     "execution_count": 6,
     "metadata": {},
     "output_type": "execute_result"
    }
   ],
   "source": [
    "HF.atom_pure_symbol(0)"
   ]
  },
  {
   "cell_type": "code",
   "execution_count": 7,
   "metadata": {},
   "outputs": [
    {
     "data": {
      "text/plain": [
       "'F'"
      ]
     },
     "execution_count": 7,
     "metadata": {},
     "output_type": "execute_result"
    }
   ],
   "source": [
    "HF.atom_symbol(0)"
   ]
  },
  {
   "cell_type": "code",
   "execution_count": 69,
   "metadata": {},
   "outputs": [
    {
     "data": {
      "text/plain": [
       "('F 0 0 0;H 0 0 1.85741', 0.982899043297769)"
      ]
     },
     "execution_count": 69,
     "metadata": {},
     "output_type": "execute_result"
    }
   ],
   "source": [
    "hfc=HF.atom_coords()*bohr2ang\n",
    "HF.atom,1.85741*bohr2ang"
   ]
  },
  {
   "cell_type": "code",
   "execution_count": 70,
   "metadata": {},
   "outputs": [],
   "source": [
    "pbg=Geometry([HF.atom_symbol(x) for x in range(HF.natm)],hfc)"
   ]
  },
  {
   "cell_type": "code",
   "execution_count": 71,
   "metadata": {},
   "outputs": [
    {
     "data": {
      "text/plain": [
       "(array([18.9984,  1.0079]), 'FH', array([[0.        , 0.        , 0.        ],\n",
       "        [0.        , 0.        , 0.98289904]]))"
      ]
     },
     "execution_count": 71,
     "metadata": {},
     "output_type": "execute_result"
    }
   ],
   "source": [
    "pbg.masses,pbg.formula,pbg.coords"
   ]
  },
  {
   "cell_type": "code",
   "execution_count": 72,
   "metadata": {},
   "outputs": [
    {
     "data": {
      "text/plain": [
       "-100.05778660840022"
      ]
     },
     "execution_count": 72,
     "metadata": {},
     "output_type": "execute_result"
    }
   ],
   "source": [
    "b=Berny(pbg,debug=True)\n",
    "mfhf.e_tot"
   ]
  },
  {
   "cell_type": "code",
   "execution_count": 74,
   "metadata": {},
   "outputs": [
    {
     "data": {
      "text/plain": [
       "{'geom': <Geometry 'FH'>,\n",
       " 'params': {'gradientmax': 0.00045,\n",
       "  'gradientrms': 0.00015,\n",
       "  'stepmax': 0.0018,\n",
       "  'steprms': 0.0012,\n",
       "  'trust': 0.3,\n",
       "  'dihedral': True,\n",
       "  'superweakdih': False},\n",
       " 'trust': 0.3,\n",
       " 'coords': <InternalCoords \"bonds: 1, angles: 0, dihedrals: 0\">,\n",
       " 'H': array([[0.4964612]]),\n",
       " 'weights': array([1.10324712]),\n",
       " 'future': Point(q=array([1.68765667]), E=None, g=None),\n",
       " 'first': False,\n",
       " 'interpolated': Point(q=array([1.85741]), E=-100.05778660840022, g=array([0.08677651])),\n",
       " 'predicted': Point(q=array([1.68765667]), E=-100.06536414910714, g=None),\n",
       " 'previous': Point(q=array([1.85741]), E=-100.05778660840022, g=array([0.08677651])),\n",
       " 'best': Point(q=array([1.85741]), E=-100.05778660840022, g=array([0.08677651]))}"
      ]
     },
     "execution_count": 74,
     "metadata": {},
     "output_type": "execute_result"
    }
   ],
   "source": [
    "b.send((mfhf.e_tot,g))"
   ]
  },
  {
   "cell_type": "code",
   "execution_count": 42,
   "metadata": {},
   "outputs": [],
   "source": [
    "l=[x for x in enumerate(b)]"
   ]
  },
  {
   "cell_type": "code",
   "execution_count": 49,
   "metadata": {},
   "outputs": [
    {
     "data": {
      "text/plain": [
       "(array([[0.        , 0.        , 0.0449148 ],\n",
       "        [0.        , 0.        , 0.93798425]]),\n",
       " array([[0.        , 0.        , 0.0449148 ],\n",
       "        [0.        , 0.        , 0.93798425]]))"
      ]
     },
     "execution_count": 49,
     "metadata": {},
     "output_type": "execute_result"
    }
   ],
   "source": [
    "l[-1][1].coords,l[-10][1].coords"
   ]
  },
  {
   "cell_type": "code",
   "execution_count": 27,
   "metadata": {},
   "outputs": [
    {
     "data": {
      "text/plain": [
       "array([[0.        , 0.        , 0.        ],\n",
       "       [0.        , 0.        , 0.98289904]])"
      ]
     },
     "execution_count": 27,
     "metadata": {},
     "output_type": "execute_result"
    }
   ],
   "source": [
    "pbg.coords"
   ]
  },
  {
   "cell_type": "code",
   "execution_count": 32,
   "metadata": {},
   "outputs": [
    {
     "data": {
      "text/plain": [
       "array([[0.        , 0.        , 0.        ],\n",
       "       [0.        , 0.        , 0.98289904]])"
      ]
     },
     "execution_count": 32,
     "metadata": {},
     "output_type": "execute_result"
    }
   ],
   "source": [
    "hfc"
   ]
  },
  {
   "cell_type": "code",
   "execution_count": 33,
   "metadata": {},
   "outputs": [
    {
     "data": {
      "text/plain": [
       "array([[0.        , 0.        , 0.0449148 ],\n",
       "       [0.        , 0.        , 0.93798425]])"
      ]
     },
     "execution_count": 33,
     "metadata": {},
     "output_type": "execute_result"
    }
   ],
   "source": [
    "b._state.geom.coords"
   ]
  },
  {
   "cell_type": "code",
   "execution_count": 35,
   "metadata": {},
   "outputs": [
    {
     "data": {
      "text/plain": [
       "1.6876566707471532"
      ]
     },
     "execution_count": 35,
     "metadata": {},
     "output_type": "execute_result"
    }
   ],
   "source": [
    "(0.93798425-0.0449148)*ang2bohr"
   ]
  },
  {
   "cell_type": "code",
   "execution_count": 67,
   "metadata": {},
   "outputs": [
    {
     "data": {
      "text/plain": [
       "array([[ 0.,  0., -1.,  0.,  0.,  1.]])"
      ]
     },
     "execution_count": 67,
     "metadata": {},
     "output_type": "execute_result"
    }
   ],
   "source": [
    "b._state.coords.B_matrix(pbg)"
   ]
  },
  {
   "cell_type": "code",
   "execution_count": 55,
   "metadata": {},
   "outputs": [
    {
     "name": "stdout",
     "output_type": "stream",
     "text": [
      "['__call__', '__class__', '__delattr__', '__dir__', '__doc__', '__eq__', '__format__', '__func__', '__ge__', '__get__', '__getattribute__', '__gt__', '__hash__', '__init__', '__init_subclass__', '__le__', '__lt__', '__ne__', '__new__', '__reduce__', '__reduce_ex__', '__repr__', '__self__', '__setattr__', '__sizeof__', '__str__', '__subclasshook__']\n"
     ]
    }
   ],
   "source": [
    "print(dir((b._state.coords.hessian_guess)))"
   ]
  },
  {
   "cell_type": "code",
   "execution_count": 51,
   "metadata": {},
   "outputs": [
    {
     "name": "stdout",
     "output_type": "stream",
     "text": [
      "['H', '__class__', '__delattr__', '__dict__', '__dir__', '__doc__', '__eq__', '__format__', '__ge__', '__getattribute__', '__gt__', '__hash__', '__init__', '__init_subclass__', '__le__', '__lt__', '__module__', '__ne__', '__new__', '__reduce__', '__reduce_ex__', '__repr__', '__setattr__', '__sizeof__', '__str__', '__subclasshook__', '__weakref__', 'best', 'coords', 'first', 'future', 'geom', 'interpolated', 'params', 'predicted', 'previous', 'trust', 'weights']\n"
     ]
    }
   ],
   "source": [
    "print(dir(b._state))"
   ]
  },
  {
   "cell_type": "code",
   "execution_count": 75,
   "metadata": {},
   "outputs": [],
   "source": [
    "s=b._state"
   ]
  },
  {
   "cell_type": "code",
   "execution_count": 76,
   "metadata": {},
   "outputs": [
    {
     "data": {
      "text/plain": [
       "-100.06536414910714"
      ]
     },
     "execution_count": 76,
     "metadata": {},
     "output_type": "execute_result"
    }
   ],
   "source": [
    " s.predicted.E"
   ]
  },
  {
   "cell_type": "code",
   "execution_count": 77,
   "metadata": {},
   "outputs": [
    {
     "data": {
      "text/plain": [
       "'FH'"
      ]
     },
     "execution_count": 77,
     "metadata": {},
     "output_type": "execute_result"
    }
   ],
   "source": [
    "pbg.formula"
   ]
  },
  {
   "cell_type": "code",
   "execution_count": 78,
   "metadata": {},
   "outputs": [
    {
     "data": {
      "text/plain": [
       "array([[0.4964612]])"
      ]
     },
     "execution_count": 78,
     "metadata": {},
     "output_type": "execute_result"
    }
   ],
   "source": [
    "s.H"
   ]
  },
  {
   "cell_type": "code",
   "execution_count": 81,
   "metadata": {},
   "outputs": [
    {
     "data": {
      "text/plain": [
       "'Internal coordinates:\\n* Number of fragments: 1\\n* Number of internal coordinates: 1\\n* Number of strong bonds: 1'"
      ]
     },
     "execution_count": 81,
     "metadata": {},
     "output_type": "execute_result"
    }
   ],
   "source": [
    "s.coords.__str__()"
   ]
  },
  {
   "cell_type": "code",
   "execution_count": 82,
   "metadata": {},
   "outputs": [],
   "source": [
    "c=s.coords"
   ]
  },
  {
   "cell_type": "code",
   "execution_count": 83,
   "metadata": {},
   "outputs": [
    {
     "name": "stdout",
     "output_type": "stream",
     "text": [
      "['B_matrix', '__class__', '__delattr__', '__dict__', '__dir__', '__doc__', '__eq__', '__format__', '__ge__', '__getattribute__', '__gt__', '__hash__', '__init__', '__init_subclass__', '__iter__', '__le__', '__len__', '__lt__', '__module__', '__ne__', '__new__', '__reduce__', '__reduce_ex__', '__repr__', '__setattr__', '__sizeof__', '__str__', '__subclasshook__', '__weakref__', '_coords', '_reduce', 'angles', 'append', 'bonds', 'dict', 'dihedrals', 'eval_geom', 'extend', 'fragments', 'hessian_guess', 'update_geom', 'weights']\n"
     ]
    }
   ],
   "source": [
    "print(dir(c))"
   ]
  },
  {
   "cell_type": "code",
   "execution_count": 85,
   "metadata": {},
   "outputs": [
    {
     "data": {
      "text/plain": [
       "[Bond(0, 1, weak=0)]"
      ]
     },
     "execution_count": 85,
     "metadata": {},
     "output_type": "execute_result"
    }
   ],
   "source": [
    "c.bonds"
   ]
  },
  {
   "cell_type": "code",
   "execution_count": 86,
   "metadata": {},
   "outputs": [
    {
     "data": {
      "text/plain": [
       "[[0, 1]]"
      ]
     },
     "execution_count": 86,
     "metadata": {},
     "output_type": "execute_result"
    }
   ],
   "source": [
    "c.fragments"
   ]
  },
  {
   "cell_type": "markdown",
   "metadata": {},
   "source": [
    "$$ \\rho_{ij}:=\\exp\\big(-R_{ij}/(R_i^\\text{cov}+R_j^\\text{cov})+ 1 \\big)$$\n",
    "$\\rho_{ij}=1$ for $R_{ij} = R_i^\\text{cov}+R_j^\\text{cov}$"
   ]
  },
  {
   "cell_type": "code",
   "execution_count": 94,
   "metadata": {},
   "outputs": [
    {
     "data": {
      "text/plain": [
       "[<matplotlib.lines.Line2D at 0x7f8c3025c6d8>]"
      ]
     },
     "execution_count": 94,
     "metadata": {},
     "output_type": "execute_result"
    },
    {
     "data": {
      "image/png": "[encoded data removed]",
      "text/plain": [
       "<Figure size 432x288 with 1 Axes>"
      ]
     },
     "metadata": {
      "needs_background": "light"
     },
     "output_type": "display_data"
    }
   ],
   "source": [
    "plt.plot([x for x in np.linspace(0.5,2,16)],[np.exp(-x+1) for x in np.linspace(0.5,2,16)])"
   ]
  },
  {
   "cell_type": "code",
   "execution_count": 88,
   "metadata": {},
   "outputs": [
    {
     "data": {
      "text/plain": [
       "array([[0.        , 1.10324712],\n",
       "       [1.10324712, 0.        ]])"
      ]
     },
     "execution_count": 88,
     "metadata": {},
     "output_type": "execute_result"
    }
   ],
   "source": [
    "pbg.rho()"
   ]
  },
  {
   "cell_type": "code",
   "execution_count": 98,
   "metadata": {},
   "outputs": [
    {
     "data": {
      "text/plain": [
       "0.49646120400000004"
      ]
     },
     "execution_count": 98,
     "metadata": {},
     "output_type": "execute_result"
    }
   ],
   "source": [
    "0.45*1.10324712"
   ]
  },
  {
   "cell_type": "code",
   "execution_count": 99,
   "metadata": {},
   "outputs": [
    {
     "data": {
      "text/plain": [
       "array([[0.4964612]])"
      ]
     },
     "execution_count": 99,
     "metadata": {},
     "output_type": "execute_result"
    }
   ],
   "source": [
    "s.H"
   ]
  },
  {
   "cell_type": "code",
   "execution_count": 101,
   "metadata": {},
   "outputs": [
    {
     "data": {
      "text/plain": [
       "array([[       inf, 0.98289904],\n",
       "       [0.98289904,        inf]])"
      ]
     },
     "execution_count": 101,
     "metadata": {},
     "output_type": "execute_result"
    }
   ],
   "source": [
    "pbg.dist(pbg)"
   ]
  },
  {
   "cell_type": "code",
   "execution_count": 103,
   "metadata": {},
   "outputs": [
    {
     "data": {
      "text/plain": [
       "array([[0.        , 0.        , 0.        ],\n",
       "       [0.        , 0.        , 0.98289904]])"
      ]
     },
     "execution_count": 103,
     "metadata": {},
     "output_type": "execute_result"
    }
   ],
   "source": [
    "hfc"
   ]
  },
  {
   "cell_type": "code",
   "execution_count": 102,
   "metadata": {},
   "outputs": [
    {
     "data": {
      "text/plain": [
       "array([[ 0.,  0., -1.,  0.,  0.,  1.]])"
      ]
     },
     "execution_count": 102,
     "metadata": {},
     "output_type": "execute_result"
    }
   ],
   "source": [
    "c.B_matrix(pbg)"
   ]
  },
  {
   "cell_type": "code",
   "execution_count": 106,
   "metadata": {},
   "outputs": [
    {
     "data": {
      "text/plain": [
       "(array([1.85741]), array([1.68765667]))"
      ]
     },
     "execution_count": 106,
     "metadata": {},
     "output_type": "execute_result"
    }
   ],
   "source": [
    "s.interpolated.q,s.predicted.q"
   ]
  },
  {
   "cell_type": "markdown",
   "metadata": {},
   "source": [
    "State contains the cool variables printed out after b.send"
   ]
  },
  {
   "cell_type": "code",
   "execution_count": 134,
   "metadata": {},
   "outputs": [],
   "source": [
    "h2o=gto.M(atom=\"O 0 0 0; H 0 -0.6 .3; H 0 0.6 .3\")"
   ]
  },
  {
   "cell_type": "code",
   "execution_count": 153,
   "metadata": {},
   "outputs": [
    {
     "data": {
      "text/plain": [
       "0.6708203932499369"
      ]
     },
     "execution_count": 153,
     "metadata": {},
     "output_type": "execute_result"
    }
   ],
   "source": [
    "np.sqrt(5)*.3"
   ]
  },
  {
   "cell_type": "code",
   "execution_count": null,
   "metadata": {},
   "outputs": [],
   "source": [
    "2.39554311"
   ]
  },
  {
   "cell_type": "code",
   "execution_count": 135,
   "metadata": {},
   "outputs": [],
   "source": [
    "geom2=Geometry([h2o.atom_symbol(x) for x in range(h2o.natm)],h2o.atom_coords())"
   ]
  },
  {
   "cell_type": "code",
   "execution_count": 136,
   "metadata": {},
   "outputs": [],
   "source": [
    "b2=Berny(geom2)"
   ]
  },
  {
   "cell_type": "code",
   "execution_count": 147,
   "metadata": {},
   "outputs": [
    {
     "data": {
      "text/plain": [
       "{'geom': <Geometry 'H2O'>,\n",
       " 'params': {'gradientmax': 0.00045,\n",
       "  'gradientrms': 0.00015,\n",
       "  'stepmax': 0.0018,\n",
       "  'steprms': 0.0012,\n",
       "  'trust': 0.3,\n",
       "  'dihedral': True,\n",
       "  'superweakdih': False},\n",
       " 'trust': 0.3,\n",
       " 'coords': <InternalCoords \"bonds: 2, angles: 1, dihedrals: 0\">,\n",
       " 'H': array([[0.3904131 , 0.        , 0.        ],\n",
       "        [0.        , 0.3904131 , 0.        ],\n",
       "        [0.        , 0.        , 0.11290547]]),\n",
       " 'weights': array([0.86758466, 0.86758466, 0.71488976]),\n",
       " 'future': Point(q=array([2.39554311, 2.39554311, 2.21429744]), E=None, g=None),\n",
       " 'first': True}"
      ]
     },
     "execution_count": 147,
     "metadata": {},
     "output_type": "execute_result"
    }
   ],
   "source": [
    "vars(b2._state)"
   ]
  },
  {
   "cell_type": "code",
   "execution_count": 160,
   "metadata": {},
   "outputs": [
    {
     "name": "stdout",
     "output_type": "stream",
     "text": [
      "['__class__', '__delattr__', '__dict__', '__dir__', '__doc__', '__eq__', '__format__', '__ge__', '__getattribute__', '__gt__', '__hash__', '__init__', '__init_subclass__', '__iter__', '__le__', '__len__', '__lt__', '__module__', '__ne__', '__new__', '__reduce__', '__reduce_ex__', '__repr__', '__setattr__', '__sizeof__', '__str__', '__subclasshook__', '__weakref__', 'bondmatrix', 'cms', 'coords', 'copy', 'dist', 'dist_diff', 'dump', 'dumps', 'formula', 'from_atoms', 'inertia', 'lattice', 'masses', 'rho', 'species', 'super_circum', 'supercell', 'write']\n"
     ]
    }
   ],
   "source": [
    "print(dir(b2._state.geom))"
   ]
  },
  {
   "cell_type": "code",
   "execution_count": 165,
   "metadata": {},
   "outputs": [
    {
     "data": {
      "text/plain": [
       "array([[ 0.        ,  0.        ,  0.        ],\n",
       "       [ 0.        , -1.13383567,  0.56691784],\n",
       "       [ 0.        ,  1.13383567,  0.56691784]])"
      ]
     },
     "execution_count": 165,
     "metadata": {},
     "output_type": "execute_result"
    }
   ],
   "source": [
    "b2._state.geom."
   ]
  },
  {
   "cell_type": "code",
   "execution_count": 140,
   "metadata": {},
   "outputs": [
    {
     "data": {
      "text/plain": [
       "{'_coords': [Bond(0, 1, weak=0), Bond(0, 2, weak=0), Angle(1, 0, 2, weak=0)],\n",
       " 'fragments': [[0, 1, 2]]}"
      ]
     },
     "execution_count": 140,
     "metadata": {},
     "output_type": "execute_result"
    }
   ],
   "source": [
    "vars(b2._state.coords)"
   ]
  },
  {
   "cell_type": "code",
   "execution_count": 155,
   "metadata": {},
   "outputs": [
    {
     "data": {
      "text/plain": [
       "[Bond(0, 1, weak=0), Bond(0, 2, weak=0), Angle(1, 0, 2, weak=0)]"
      ]
     },
     "execution_count": 155,
     "metadata": {},
     "output_type": "execute_result"
    }
   ],
   "source": [
    "b2._state.coords._coords"
   ]
  },
  {
   "cell_type": "code",
   "execution_count": 146,
   "metadata": {},
   "outputs": [
    {
     "data": {
      "text/plain": [
       "{'i': 0, 'j': 1, 'idx': (0, 1), 'weak': 0}"
      ]
     },
     "execution_count": 146,
     "metadata": {},
     "output_type": "execute_result"
    }
   ],
   "source": [
    "vars(b2._state.coords._coords[0])"
   ]
  },
  {
   "cell_type": "code",
   "execution_count": 148,
   "metadata": {},
   "outputs": [
    {
     "data": {
      "text/plain": [
       "array([[0.3904131 , 0.        , 0.        ],\n",
       "       [0.        , 0.3904131 , 0.        ],\n",
       "       [0.        , 0.        , 0.11290547]])"
      ]
     },
     "execution_count": 148,
     "metadata": {},
     "output_type": "execute_result"
    }
   ],
   "source": [
    "b2._state.H"
   ]
  },
  {
   "cell_type": "code",
   "execution_count": 151,
   "metadata": {},
   "outputs": [
    {
     "data": {
      "text/plain": [
       "{'species': ['O', 'H', 'H'],\n",
       " 'coords': array([[ 0.        ,  0.        ,  0.        ],\n",
       "        [ 0.        , -1.13383567,  0.56691784],\n",
       "        [ 0.        ,  1.13383567,  0.56691784]]),\n",
       " 'lattice': None}"
      ]
     },
     "execution_count": 151,
     "metadata": {},
     "output_type": "execute_result"
    }
   ],
   "source": [
    "vars(geom2)"
   ]
  },
  {
   "cell_type": "code",
   "execution_count": null,
   "metadata": {},
   "outputs": [],
   "source": []
  }
 ],
 "metadata": {
  "kernelspec": {
   "display_name": "Python 3",
   "language": "python",
   "name": "python3"
  },
  "language_info": {
   "codemirror_mode": {
    "name": "ipython",
    "version": 3
   },
   "file_extension": ".py",
   "mimetype": "text/x-python",
   "name": "python",
   "nbconvert_exporter": "python",
   "pygments_lexer": "ipython3",
   "version": "3.7.3"
  }
 },
 "nbformat": 4,
 "nbformat_minor": 2
}
