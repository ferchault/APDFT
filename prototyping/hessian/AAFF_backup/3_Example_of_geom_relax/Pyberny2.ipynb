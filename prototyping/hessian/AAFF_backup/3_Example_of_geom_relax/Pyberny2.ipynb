{
 "cells": [
  {
   "cell_type": "code",
   "execution_count": 1,
   "metadata": {},
   "outputs": [],
   "source": [
    "import inspect\n",
    "from berny import Berny, geomlib, coords,Geometry,Math\n",
    "from aaff import aaff,alc_deriv_grad_nuc,alc_differential_grad_nuc\n",
    "from FcMole import FcM\n",
    "from alch_deriv import alch_deriv\n",
    "from pyscf import gto,scf\n",
    "import numpy as np\n",
    "import ipyvolume as ipv\n",
    "from numpy.linalg import norm as norm\n",
    "from scipy.optimize import  minimize\n",
    "from scipy.spatial.transform import Rotation as R\n",
    "import matplotlib.pyplot as plt\n",
    "from mpl_toolkits import mplot3d\n",
    "from pyscf.grad import rhf as grhf\n",
    "from pyscf.hessian import rhf as hrhf\n",
    "import basis_set_exchange as bse\n",
    "from FDcoeffs import *\n",
    "from pyscf.geomopt.berny_solver import optimize\n",
    "from pyscf.geomopt.berny_solver import to_berny_geom as tbg\n",
    "ang2bohr=1.8897261246\n",
    "bohr2ang=.5291772109\n",
    "np.set_printoptions(precision=3)"
   ]
  },
  {
   "cell_type": "code",
   "execution_count": 2,
   "metadata": {},
   "outputs": [],
   "source": [
    "def anglecenter(coords):\n",
    "    return np.around(np.arccos(coords[1].dot(coords[2])/norm(coords[1])/norm(coords[2])),decimals=3)"
   ]
  },
  {
   "cell_type": "code",
   "execution_count": 3,
   "metadata": {},
   "outputs": [],
   "source": [
    "h2o=gto.M(atom=\"O 0 0 0; H 0 -1.3 .4; H 0 1.3 .4\",unit=\"Bohr\",basis=\"def2-TZVP\")"
   ]
  },
  {
   "cell_type": "code",
   "execution_count": 4,
   "metadata": {},
   "outputs": [
    {
     "data": {
      "text/plain": [
       "1.3601470508735443"
      ]
     },
     "execution_count": 4,
     "metadata": {},
     "output_type": "execute_result"
    }
   ],
   "source": [
    "(1.3**2+.16)**.5"
   ]
  },
  {
   "cell_type": "code",
   "execution_count": 5,
   "metadata": {},
   "outputs": [
    {
     "name": "stdout",
     "output_type": "stream",
     "text": [
      "converged SCF energy = -75.8573023860845\n",
      "--------------- RHF gradients ---------------\n",
      "         x                y                z\n",
      "0 O    -0.0000000000    -0.0000000000     0.3969639449\n",
      "1 H     0.0000000000     0.5354215144    -0.1984819725\n",
      "2 H     0.0000000000    -0.5354215144    -0.1984819725\n",
      "----------------------------------------------\n"
     ]
    }
   ],
   "source": [
    "mf=scf.RHF(h2o)\n",
    "E0=mf.scf()\n",
    "g0=mf.Gradients().grad()\n",
    "h0=mf.Hessian().hess()"
   ]
  },
  {
   "cell_type": "code",
   "execution_count": 6,
   "metadata": {},
   "outputs": [],
   "source": [
    "h0=h0.swapaxes(1,2)"
   ]
  },
  {
   "cell_type": "code",
   "execution_count": 7,
   "metadata": {},
   "outputs": [],
   "source": [
    "h0=h0.reshape(9,9)"
   ]
  },
  {
   "cell_type": "code",
   "execution_count": 8,
   "metadata": {},
   "outputs": [],
   "source": [
    "h2occords=h2o.atom_coords()"
   ]
  },
  {
   "cell_type": "code",
   "execution_count": 9,
   "metadata": {},
   "outputs": [],
   "source": [
    "geom2=tbg(h2o)"
   ]
  },
  {
   "cell_type": "code",
   "execution_count": 10,
   "metadata": {},
   "outputs": [
    {
     "data": {
      "text/plain": [
       "(2.545, 1.3601470508735443)"
      ]
     },
     "execution_count": 10,
     "metadata": {},
     "output_type": "execute_result"
    }
   ],
   "source": [
    "anglecenter(h2occords),norm(h2occords[1])"
   ]
  },
  {
   "cell_type": "code",
   "execution_count": 11,
   "metadata": {},
   "outputs": [],
   "source": [
    "b2=Berny(geom2)"
   ]
  },
  {
   "cell_type": "code",
   "execution_count": 12,
   "metadata": {},
   "outputs": [
    {
     "data": {
      "text/plain": [
       "{'geom': <Geometry 'H2O'>,\n",
       " 'params': {'gradientmax': 0.00045,\n",
       "  'gradientrms': 0.00015,\n",
       "  'stepmax': 0.0018,\n",
       "  'steprms': 0.0012,\n",
       "  'trust': 0.3,\n",
       "  'dihedral': True,\n",
       "  'superweakdih': False},\n",
       " 'trust': 0.3,\n",
       " 'coords': <InternalCoords \"bonds: 2, angles: 1, dihedrals: 0\">,\n",
       " 'H': array([[0.64 , 0.   , 0.   ],\n",
       "        [0.   , 0.64 , 0.   ],\n",
       "        [0.   , 0.   , 0.303]]),\n",
       " 'weights': array([1.421, 1.421, 0.874]),\n",
       " 'future': Point(q=array([1.36 , 1.36 , 2.545]), E=None, g=None),\n",
       " 'first': True}"
      ]
     },
     "execution_count": 12,
     "metadata": {},
     "output_type": "execute_result"
    }
   ],
   "source": [
    "s=b2._state\n",
    "vars(s)"
   ]
  },
  {
   "cell_type": "code",
   "execution_count": 13,
   "metadata": {},
   "outputs": [
    {
     "data": {
      "text/plain": [
       "([Bond(0, 1, weak=0), Bond(0, 2, weak=0), Angle(1, 0, 2, weak=0)],\n",
       " {'i': 0, 'j': 1, 'idx': (0, 1), 'weak': 0})"
      ]
     },
     "execution_count": 13,
     "metadata": {},
     "output_type": "execute_result"
    }
   ],
   "source": [
    "s.coords._coords,vars(s.coords._coords[0])"
   ]
  },
  {
   "cell_type": "code",
   "execution_count": 14,
   "metadata": {},
   "outputs": [
    {
     "data": {
      "text/plain": [
       "array([[0.64 , 0.   , 0.   ],\n",
       "       [0.   , 0.64 , 0.   ],\n",
       "       [0.   , 0.   , 0.303]])"
      ]
     },
     "execution_count": 14,
     "metadata": {},
     "output_type": "execute_result"
    }
   ],
   "source": [
    "s.H  #use to get second derivs "
   ]
  },
  {
   "cell_type": "code",
   "execution_count": 15,
   "metadata": {},
   "outputs": [
    {
     "data": {
      "text/plain": [
       "{'species': ['O', 'H', 'H'], 'coords': array([[ 0.   ,  0.   ,  0.   ],\n",
       "        [ 0.   , -0.688,  0.212],\n",
       "        [ 0.   ,  0.688,  0.212]]), 'lattice': None}"
      ]
     },
     "execution_count": 15,
     "metadata": {},
     "output_type": "execute_result"
    }
   ],
   "source": [
    "vars(geom2)   # coords are in angstrom"
   ]
  },
  {
   "cell_type": "code",
   "execution_count": 16,
   "metadata": {},
   "outputs": [
    {
     "data": {
      "text/plain": [
       "array([[ 0. ,  0. ,  0. ],\n",
       "       [ 0. , -1.3,  0.4],\n",
       "       [ 0. ,  1.3,  0.4]])"
      ]
     },
     "execution_count": 16,
     "metadata": {},
     "output_type": "execute_result"
    }
   ],
   "source": [
    "geom2.coords*ang2bohr"
   ]
  },
  {
   "cell_type": "code",
   "execution_count": 17,
   "metadata": {},
   "outputs": [
    {
     "data": {
      "text/plain": [
       "array([1.36 , 1.36 , 2.545])"
      ]
     },
     "execution_count": 17,
     "metadata": {},
     "output_type": "execute_result"
    }
   ],
   "source": [
    "b2._state.future.q  # bohr and radians"
   ]
  },
  {
   "cell_type": "code",
   "execution_count": 18,
   "metadata": {},
   "outputs": [],
   "source": [
    "# get derivatives angles independently\n",
    "# "
   ]
  },
  {
   "cell_type": "code",
   "execution_count": 19,
   "metadata": {},
   "outputs": [
    {
     "data": {
      "text/plain": [
       "array([1.36 , 1.36 , 2.545])"
      ]
     },
     "execution_count": 19,
     "metadata": {},
     "output_type": "execute_result"
    }
   ],
   "source": [
    "s.future.q"
   ]
  },
  {
   "cell_type": "code",
   "execution_count": 20,
   "metadata": {},
   "outputs": [
    {
     "name": "stdout",
     "output_type": "stream",
     "text": [
      "[[ 0.     0.956 -0.294  0.    -0.956  0.294  0.     0.     0.   ]\n",
      " [ 0.    -0.956 -0.294  0.     0.     0.     0.     0.956  0.294]\n",
      " [ 0.     0.     1.405  0.    -0.216 -0.703  0.     0.216 -0.703]]\n"
     ]
    }
   ],
   "source": [
    "print(s.coords.B_matrix(s.geom))"
   ]
  },
  {
   "cell_type": "code",
   "execution_count": 21,
   "metadata": {},
   "outputs": [],
   "source": [
    "gsc=b2._state.geom.supercell()"
   ]
  },
  {
   "cell_type": "code",
   "execution_count": 22,
   "metadata": {},
   "outputs": [
    {
     "data": {
      "text/plain": [
       "({'species': ['O', 'H', 'H'], 'coords': array([[ 0.   ,  0.   ,  0.   ],\n",
       "         [ 0.   , -0.688,  0.212],\n",
       "         [ 0.   ,  0.688,  0.212]]), 'lattice': None},\n",
       " {'species': ['O', 'H', 'H'], 'coords': array([[ 0.   ,  0.   ,  0.   ],\n",
       "         [ 0.   , -0.688,  0.212],\n",
       "         [ 0.   ,  0.688,  0.212]]), 'lattice': None})"
      ]
     },
     "execution_count": 22,
     "metadata": {},
     "output_type": "execute_result"
    }
   ],
   "source": [
    "vars(gsc),vars(s.geom) "
   ]
  },
  {
   "cell_type": "code",
   "execution_count": 23,
   "metadata": {},
   "outputs": [
    {
     "name": "stdout",
     "output_type": "stream",
     "text": [
      "(0, Bond(0, 1, weak=0))\n",
      "(1, Bond(0, 2, weak=0))\n",
      "(2, Angle(1, 0, 2, weak=0))\n"
     ]
    },
    {
     "data": {
      "text/plain": [
       "[None, None, None]"
      ]
     },
     "execution_count": 23,
     "metadata": {},
     "output_type": "execute_result"
    }
   ],
   "source": [
    "[print(x) for x in enumerate(s.coords)]"
   ]
  },
  {
   "cell_type": "code",
   "execution_count": 24,
   "metadata": {},
   "outputs": [],
   "source": [
    "B=s.coords.B_matrix(s.geom)"
   ]
  },
  {
   "cell_type": "code",
   "execution_count": 25,
   "metadata": {},
   "outputs": [
    {
     "name": "stdout",
     "output_type": "stream",
     "text": [
      "[array([ 0.   ,  0.956, -0.294]), array([-0.   , -0.956,  0.294])] \n",
      " \n",
      "\n",
      "[array([ 0.   , -0.956, -0.294]), array([-0.   ,  0.956,  0.294])] \n",
      " \n",
      "\n",
      "[array([-0.   , -0.216, -0.703]), array([0.   , 0.   , 1.405]), array([-0.   ,  0.216, -0.703])] \n",
      " \n",
      "\n"
     ]
    }
   ],
   "source": [
    "for i,x in enumerate(s.coords):\n",
    "    print(x.eval(gsc.coords, grad=True)[1],\"\\n \\n\")"
   ]
  },
  {
   "cell_type": "code",
   "execution_count": 26,
   "metadata": {},
   "outputs": [
    {
     "data": {
      "text/plain": [
       "array([[ 0.   ,  0.956, -0.294,  0.   , -0.956,  0.294,  0.   ,  0.   ,\n",
       "         0.   ],\n",
       "       [ 0.   , -0.956, -0.294,  0.   ,  0.   ,  0.   ,  0.   ,  0.956,\n",
       "         0.294],\n",
       "       [ 0.   ,  0.   ,  1.405,  0.   , -0.216, -0.703,  0.   ,  0.216,\n",
       "        -0.703]])"
      ]
     },
     "execution_count": 26,
     "metadata": {},
     "output_type": "execute_result"
    }
   ],
   "source": [
    "B"
   ]
  },
  {
   "cell_type": "code",
   "execution_count": 27,
   "metadata": {},
   "outputs": [
    {
     "data": {
      "text/plain": [
       "array([1.36 , 1.36 , 2.545])"
      ]
     },
     "execution_count": 27,
     "metadata": {},
     "output_type": "execute_result"
    }
   ],
   "source": [
    "s.coords.eval_geom(s.geom)"
   ]
  },
  {
   "cell_type": "code",
   "execution_count": 28,
   "metadata": {},
   "outputs": [
    {
     "data": {
      "text/plain": [
       "<InternalCoords \"bonds: 2, angles: 1, dihedrals: 0\">"
      ]
     },
     "execution_count": 28,
     "metadata": {},
     "output_type": "execute_result"
    }
   ],
   "source": [
    "s.coords"
   ]
  },
  {
   "cell_type": "code",
   "execution_count": 29,
   "metadata": {},
   "outputs": [
    {
     "data": {
      "text/plain": [
       "{'_coords': [Bond(0, 1, weak=0), Bond(0, 2, weak=0), Angle(1, 0, 2, weak=0)],\n",
       " 'fragments': [[0, 1, 2]]}"
      ]
     },
     "execution_count": 29,
     "metadata": {},
     "output_type": "execute_result"
    }
   ],
   "source": [
    "vars(coords.InternalCoords(s.geom, dihedral=s.params['dihedral'], superweakdih=s.params['superweakdih']))"
   ]
  },
  {
   "cell_type": "code",
   "execution_count": 30,
   "metadata": {},
   "outputs": [
    {
     "data": {
      "text/plain": [
       "{'i': 0, 'j': 1, 'idx': (0, 1), 'weak': 0}"
      ]
     },
     "execution_count": 30,
     "metadata": {},
     "output_type": "execute_result"
    }
   ],
   "source": [
    "vars(coords.InternalCoords(s.geom, dihedral=s.params['dihedral'], superweakdih=s.params['superweakdih'])._coords[0])"
   ]
  },
  {
   "cell_type": "code",
   "execution_count": null,
   "metadata": {},
   "outputs": [],
   "source": []
  },
  {
   "cell_type": "code",
   "execution_count": 31,
   "metadata": {},
   "outputs": [
    {
     "data": {
      "text/plain": [
       "{'species': ['O', 'H', 'H'], 'coords': array([[ 0.   ,  0.   ,  0.   ],\n",
       "        [ 0.   , -0.688,  0.212],\n",
       "        [ 0.   ,  0.688,  0.212]]), 'lattice': None}"
      ]
     },
     "execution_count": 31,
     "metadata": {},
     "output_type": "execute_result"
    }
   ],
   "source": [
    "vars(s.geom)"
   ]
  },
  {
   "cell_type": "code",
   "execution_count": 32,
   "metadata": {},
   "outputs": [
    {
     "data": {
      "text/plain": [
       "array([[ 0.   ,  0.   ,  0.   ],\n",
       "       [ 0.956, -0.956,  0.   ],\n",
       "       [-0.294, -0.294,  1.405],\n",
       "       [ 0.   ,  0.   ,  0.   ],\n",
       "       [-0.956,  0.   , -0.216],\n",
       "       [ 0.294,  0.   , -0.703],\n",
       "       [ 0.   ,  0.   ,  0.   ],\n",
       "       [ 0.   ,  0.956,  0.216],\n",
       "       [ 0.   ,  0.294, -0.703]])"
      ]
     },
     "execution_count": 32,
     "metadata": {},
     "output_type": "execute_result"
    }
   ],
   "source": [
    "B.T"
   ]
  },
  {
   "cell_type": "code",
   "execution_count": 33,
   "metadata": {},
   "outputs": [
    {
     "data": {
      "text/plain": [
       "array([[ 0.   ,  0.   ,  2.776],\n",
       "       [ 0.   , -1.85 , -1.388],\n",
       "       [ 0.   ,  1.85 , -1.388]])"
      ]
     },
     "execution_count": 33,
     "metadata": {},
     "output_type": "execute_result"
    }
   ],
   "source": [
    "s.future.q\n",
    "(B.T@s.future.q).reshape(3,3)#-(B.T@s.future.q).reshape(3,3)[0]"
   ]
  },
  {
   "cell_type": "code",
   "execution_count": 34,
   "metadata": {},
   "outputs": [
    {
     "data": {
      "text/plain": [
       "array([[ 0. ,  0. ,  0. ],\n",
       "       [ 0. , -1.3,  0.4],\n",
       "       [ 0. ,  1.3,  0.4]])"
      ]
     },
     "execution_count": 34,
     "metadata": {},
     "output_type": "execute_result"
    }
   ],
   "source": [
    "s.geom.coords*ang2bohr"
   ]
  },
  {
   "cell_type": "markdown",
   "metadata": {},
   "source": [
    "### praticamente qua mi d una proiezione dei modi normali sulle coordinate cartesiane della molecola, tutti insieme formano la B_matrix"
   ]
  },
  {
   "cell_type": "code",
   "execution_count": 35,
   "metadata": {},
   "outputs": [],
   "source": [
    "a=np.array([-0.        , -0.91914503,  0.3939193 ])"
   ]
  },
  {
   "cell_type": "code",
   "execution_count": 36,
   "metadata": {},
   "outputs": [
    {
     "data": {
      "text/plain": [
       "1.0000000005430953"
      ]
     },
     "execution_count": 36,
     "metadata": {},
     "output_type": "execute_result"
    }
   ],
   "source": [
    "norm(a)"
   ]
  },
  {
   "cell_type": "code",
   "execution_count": 37,
   "metadata": {},
   "outputs": [],
   "source": [
    "B_inv = B.T.dot(Math.pinv(np.dot(B, B.T)))"
   ]
  },
  {
   "cell_type": "code",
   "execution_count": 38,
   "metadata": {},
   "outputs": [
    {
     "data": {
      "text/plain": [
       "(array([[ 0.   ,  0.   ,  0.   ],\n",
       "        [ 0.338, -0.338,  0.   ],\n",
       "        [-0.098, -0.098,  0.433],\n",
       "        [ 0.   ,  0.   ,  0.   ],\n",
       "        [-0.647, -0.309, -0.2  ],\n",
       "        [ 0.101, -0.003, -0.217],\n",
       "        [ 0.   ,  0.   ,  0.   ],\n",
       "        [ 0.309,  0.647,  0.2  ],\n",
       "        [-0.003,  0.101, -0.217]]), (9, 3), (3, 9))"
      ]
     },
     "execution_count": 38,
     "metadata": {},
     "output_type": "execute_result"
    }
   ],
   "source": [
    "B_inv,B_inv.shape,B.shape"
   ]
  },
  {
   "cell_type": "code",
   "execution_count": 39,
   "metadata": {},
   "outputs": [
    {
     "data": {
      "text/plain": [
       "array([-0.57 , -0.57 ,  0.044])"
      ]
     },
     "execution_count": 39,
     "metadata": {},
     "output_type": "execute_result"
    }
   ],
   "source": [
    "np.dot(B_inv.T, g0.reshape(-1))"
   ]
  },
  {
   "cell_type": "code",
   "execution_count": 109,
   "metadata": {},
   "outputs": [
    {
     "data": {
      "text/plain": [
       "array([[0.64 , 0.   , 0.   ],\n",
       "       [0.   , 0.64 , 0.   ],\n",
       "       [0.   , 0.   , 0.303]])"
      ]
     },
     "execution_count": 109,
     "metadata": {},
     "output_type": "execute_result"
    }
   ],
   "source": [
    "s.H"
   ]
  },
  {
   "cell_type": "markdown",
   "metadata": {},
   "source": [
    "I can have the projection of the gradient in the internal coordinates as well as the approximated hessian matrix."
   ]
  },
  {
   "cell_type": "code",
   "execution_count": 41,
   "metadata": {},
   "outputs": [
    {
     "data": {
      "text/plain": [
       "array([[ 1.000e+00, -1.665e-16, -4.163e-17],\n",
       "       [ 4.293e-17,  1.000e+00, -4.163e-17],\n",
       "       [-2.255e-16, -3.331e-16,  1.000e+00]])"
      ]
     },
     "execution_count": 41,
     "metadata": {},
     "output_type": "execute_result"
    }
   ],
   "source": [
    "proj = np.dot(B, B_inv)\n",
    "proj"
   ]
  },
  {
   "cell_type": "code",
   "execution_count": 42,
   "metadata": {},
   "outputs": [
    {
     "data": {
      "text/plain": [
       "array([[ 4.441e-13,  1.665e-13,  4.163e-14],\n",
       "       [-4.293e-14,  0.000e+00,  4.163e-14],\n",
       "       [ 2.255e-13,  3.331e-13, -2.220e-13]])"
      ]
     },
     "execution_count": 42,
     "metadata": {},
     "output_type": "execute_result"
    }
   ],
   "source": [
    "H_proj = proj.dot(s.H).dot(proj) + 1000 * (np.eye(len(s.coords)) - proj)\n",
    "1000 * (np.eye(len(s.coords)) - proj)  #perhaps to avoid zeros in matrix inversion"
   ]
  },
  {
   "cell_type": "code",
   "execution_count": 43,
   "metadata": {},
   "outputs": [
    {
     "data": {
      "text/plain": [
       "(array([[ 6.396e-01,  1.663e-13,  4.159e-14],\n",
       "        [-4.288e-14,  6.396e-01,  4.159e-14],\n",
       "        [ 2.253e-13,  3.328e-13,  3.030e-01]]), array([[0.64 , 0.   , 0.   ],\n",
       "        [0.   , 0.64 , 0.   ],\n",
       "        [0.   , 0.   , 0.303]]))"
      ]
     },
     "execution_count": 43,
     "metadata": {},
     "output_type": "execute_result"
    }
   ],
   "source": [
    "H_proj,s.H #differiscono per una manciata di infinesimi"
   ]
  },
  {
   "cell_type": "code",
   "execution_count": 218,
   "metadata": {},
   "outputs": [],
   "source": [
    "def quadratic_step(g, H, w, trust):\n",
    "    ev = np.linalg.eigvalsh((H + H.T) / 2)\n",
    "    rfo = np.vstack((np.hstack((H, g[:, None])), np.hstack((g, 0))[None, :]))\n",
    "    D, V = np.linalg.eigh((rfo + rfo.T) / 2)\n",
    "    dq = V[:-1, 0] / V[-1, 0]\n",
    "    l = D[0]\n",
    "    print(dq,l,ev)\n",
    "    if norm(dq) <= trust:\n",
    "        print('Pure RFO step was performed:')\n",
    "        on_sphere = False\n",
    "    else:\n",
    "        def steplength(l):\n",
    "            return norm(np.linalg.solve(l * np.eye(H.shape[0]) - H, g)) - trust\n",
    "        l = Math.findroot(steplength, ev[0])  # minimization on sphere\n",
    "        dq = np.linalg.solve(l * np.eye(H.shape[0]) - H, g)\n",
    "        on_sphere = True\n",
    "        print('Minimization on sphere was performed:')\n",
    "    dE = np.dot(g, dq) + 0.5 * dq.dot(H).dot(dq)\n",
    "    return dq, dE, on_sphere"
   ]
  },
  {
   "cell_type": "code",
   "execution_count": 219,
   "metadata": {},
   "outputs": [
    {
     "data": {
      "text/plain": [
       "array([-3.519e-16, -3.553e-15,  3.970e-01,  5.648e-17,  5.354e-01,\n",
       "       -1.985e-01,  2.955e-16, -5.354e-01, -1.985e-01,  0.000e+00])"
      ]
     },
     "execution_count": 219,
     "metadata": {},
     "output_type": "execute_result"
    }
   ],
   "source": [
    "np.hstack((g0.flatten(), 0))"
   ]
  },
  {
   "cell_type": "code",
   "execution_count": 220,
   "metadata": {},
   "outputs": [],
   "source": [
    "current = Berny.Point(s.future.q, mf.e_tot, np.dot(B_inv.T, np.asarray(g0*bohr2ang).reshape(-1)))"
   ]
  },
  {
   "cell_type": "code",
   "execution_count": 221,
   "metadata": {},
   "outputs": [
    {
     "data": {
      "text/plain": [
       "array([-0.302, -0.302,  0.023])"
      ]
     },
     "execution_count": 221,
     "metadata": {},
     "output_type": "execute_result"
    }
   ],
   "source": [
    "current.g # also np.dot(B_inv.T, np.asarray(g0).reshape(-1)) is g in internal coords"
   ]
  },
  {
   "cell_type": "code",
   "execution_count": 222,
   "metadata": {},
   "outputs": [
    {
     "name": "stdout",
     "output_type": "stream",
     "text": [
      "[ 0.353  0.353 -0.045] -0.21424217441427845 [0.303 0.64  0.64 ]\n",
      "Minimization on sphere was performed:\n"
     ]
    }
   ],
   "source": [
    " dq, dE, on_sphere = quadratic_step(np.dot(proj, current.g), H_proj, s.weights, s.trust)"
   ]
  },
  {
   "cell_type": "code",
   "execution_count": 214,
   "metadata": {},
   "outputs": [
    {
     "data": {
      "text/plain": [
       "array([ 0.472,  0.472, -0.077])"
      ]
     },
     "execution_count": 214,
     "metadata": {},
     "output_type": "execute_result"
    }
   ],
   "source": [
    "-np.linalg.inv(H_proj)@(np.dot(proj, current.g))"
   ]
  },
  {
   "cell_type": "code",
   "execution_count": 215,
   "metadata": {},
   "outputs": [
    {
     "data": {
      "text/plain": [
       "array([-0.472, -0.472,  0.077])"
      ]
     },
     "execution_count": 215,
     "metadata": {},
     "output_type": "execute_result"
    }
   ],
   "source": [
    "np.linalg.solve(H_proj,np.dot(proj, current.g))"
   ]
  },
  {
   "cell_type": "code",
   "execution_count": 141,
   "metadata": {},
   "outputs": [
    {
     "data": {
      "text/plain": [
       "array([ 0.096,  0.096, -0.268])"
      ]
     },
     "execution_count": 141,
     "metadata": {},
     "output_type": "execute_result"
    }
   ],
   "source": [
    "dq # change dq to the one from Morse potential fitting "
   ]
  },
  {
   "cell_type": "code",
   "execution_count": 49,
   "metadata": {},
   "outputs": [
    {
     "data": {
      "text/plain": [
       "1.3601470508735443"
      ]
     },
     "execution_count": 49,
     "metadata": {},
     "output_type": "execute_result"
    }
   ],
   "source": [
    "current.q[0]"
   ]
  },
  {
   "cell_type": "markdown",
   "metadata": {},
   "source": [
    "## from dq in internal coords to dq in cartesian coords"
   ]
  },
  {
   "cell_type": "code",
   "execution_count": 50,
   "metadata": {},
   "outputs": [],
   "source": [
    "q, a = s.coords.update_geom(s.geom, current.q, dq, B_inv)"
   ]
  },
  {
   "cell_type": "code",
   "execution_count": 51,
   "metadata": {},
   "outputs": [
    {
     "data": {
      "text/plain": [
       "array([1.572, 1.572, 2.523])"
      ]
     },
     "execution_count": 51,
     "metadata": {},
     "output_type": "execute_result"
    }
   ],
   "source": [
    "q"
   ]
  },
  {
   "cell_type": "code",
   "execution_count": 52,
   "metadata": {},
   "outputs": [
    {
     "data": {
      "text/plain": [
       "array([[ 0.000e+00, -1.729e-14, -2.759e-02],\n",
       "       [ 0.000e+00, -7.923e-01,  2.255e-01],\n",
       "       [ 0.000e+00,  7.923e-01,  2.255e-01]])"
      ]
     },
     "execution_count": 52,
     "metadata": {},
     "output_type": "execute_result"
    }
   ],
   "source": [
    "a.coords"
   ]
  },
  {
   "cell_type": "code",
   "execution_count": 53,
   "metadata": {},
   "outputs": [
    {
     "data": {
      "text/plain": [
       "array([[ 0.000e+00, -9.193e-14,  2.622e+00],\n",
       "       [ 0.000e+00, -2.048e+00, -1.311e+00],\n",
       "       [ 0.000e+00,  2.048e+00, -1.311e+00]])"
      ]
     },
     "execution_count": 53,
     "metadata": {},
     "output_type": "execute_result"
    }
   ],
   "source": [
    "(B.T@q).reshape(3,3)"
   ]
  },
  {
   "cell_type": "code",
   "execution_count": 54,
   "metadata": {},
   "outputs": [
    {
     "data": {
      "text/plain": [
       "0.8317307886818113"
      ]
     },
     "execution_count": 54,
     "metadata": {},
     "output_type": "execute_result"
    }
   ],
   "source": [
    "b=a.coords\n",
    "norm(b[1]-b[0]) #is angstrom"
   ]
  },
  {
   "cell_type": "code",
   "execution_count": 55,
   "metadata": {},
   "outputs": [],
   "source": [
    "B = s.coords.B_matrix(s.geom)\n",
    "B_inv = B.T.dot(Math.pinv(np.dot(B, B.T)))\n",
    "g_ic=np.dot(B_inv.T, (g0).reshape(-1))"
   ]
  },
  {
   "cell_type": "code",
   "execution_count": 56,
   "metadata": {},
   "outputs": [
    {
     "data": {
      "text/plain": [
       "array([-0.57 , -0.57 ,  0.044])"
      ]
     },
     "execution_count": 56,
     "metadata": {},
     "output_type": "execute_result"
    }
   ],
   "source": [
    "g_ic"
   ]
  },
  {
   "cell_type": "code",
   "execution_count": 57,
   "metadata": {},
   "outputs": [
    {
     "data": {
      "text/plain": [
       "array([ 1.360e+00,  1.360e+00, -9.992e-16])"
      ]
     },
     "execution_count": 57,
     "metadata": {},
     "output_type": "execute_result"
    }
   ],
   "source": [
    "B@h2occords.flatten()   # problems with angles"
   ]
  },
  {
   "cell_type": "code",
   "execution_count": 58,
   "metadata": {},
   "outputs": [
    {
     "data": {
      "text/plain": [
       "Point(q=array([1.36 , 1.36 , 2.545]), E=None, g=None)"
      ]
     },
     "execution_count": 58,
     "metadata": {},
     "output_type": "execute_result"
    }
   ],
   "source": [
    "s.future"
   ]
  },
  {
   "cell_type": "code",
   "execution_count": 59,
   "metadata": {},
   "outputs": [
    {
     "data": {
      "text/plain": [
       "array([[ 0.   ,  0.956, -0.294,  0.   , -0.956,  0.294,  0.   ,  0.   ,\n",
       "         0.   ],\n",
       "       [ 0.   , -0.956, -0.294,  0.   ,  0.   ,  0.   ,  0.   ,  0.956,\n",
       "         0.294],\n",
       "       [ 0.   ,  0.   ,  1.405,  0.   , -0.216, -0.703,  0.   ,  0.216,\n",
       "        -0.703]])"
      ]
     },
     "execution_count": 59,
     "metadata": {},
     "output_type": "execute_result"
    }
   ],
   "source": [
    "B"
   ]
  },
  {
   "cell_type": "code",
   "execution_count": 60,
   "metadata": {},
   "outputs": [
    {
     "data": {
      "text/plain": [
       "array([[ 0. ,  0. ,  0. ],\n",
       "       [ 0. , -1.3,  0.4],\n",
       "       [ 0. ,  1.3,  0.4]])"
      ]
     },
     "execution_count": 60,
     "metadata": {},
     "output_type": "execute_result"
    }
   ],
   "source": [
    "h2occords"
   ]
  },
  {
   "cell_type": "code",
   "execution_count": 61,
   "metadata": {},
   "outputs": [
    {
     "data": {
      "text/plain": [
       "(-1.3006802721088437, 1.000372)"
      ]
     },
     "execution_count": 61,
     "metadata": {},
     "output_type": "execute_result"
    }
   ],
   "source": [
    "-0.956/ 0.294*.4,0.956**2+ 0.294**2"
   ]
  },
  {
   "cell_type": "markdown",
   "metadata": {},
   "source": [
    "$$B_{\\mu i}=\\frac{\\partial q_\\mu}{\\partial x_i}$$"
   ]
  },
  {
   "cell_type": "code",
   "execution_count": 62,
   "metadata": {},
   "outputs": [
    {
     "data": {
      "text/plain": [
       "array([-0.57 , -0.57 ,  0.044])"
      ]
     },
     "execution_count": 62,
     "metadata": {},
     "output_type": "execute_result"
    }
   ],
   "source": [
    "g_ic=np.dot(B_inv.T, (g0).reshape(-1))\n",
    "g_ic"
   ]
  },
  {
   "cell_type": "code",
   "execution_count": 177,
   "metadata": {},
   "outputs": [],
   "source": [
    "h_ic=B_inv.T@ h0@B_inv"
   ]
  },
  {
   "cell_type": "code",
   "execution_count": 114,
   "metadata": {},
   "outputs": [
    {
     "data": {
      "text/plain": [
       "array([[ 2.705, -0.015,  0.007],\n",
       "       [-0.015,  2.705,  0.007],\n",
       "       [ 0.007,  0.007, -0.386]])"
      ]
     },
     "execution_count": 114,
     "metadata": {},
     "output_type": "execute_result"
    }
   ],
   "source": [
    "h_ic"
   ]
  },
  {
   "cell_type": "code",
   "execution_count": 117,
   "metadata": {},
   "outputs": [
    {
     "data": {
      "text/plain": [
       "array([[ 6.987e-01,  3.966e-03,  1.206e-02],\n",
       "       [ 3.966e-03,  6.987e-01,  1.206e-02],\n",
       "       [ 1.206e-02,  1.206e-02, -4.896e+00]])"
      ]
     },
     "execution_count": 117,
     "metadata": {},
     "output_type": "execute_result"
    }
   ],
   "source": [
    "np.linalg.inv(h_ic)*ang2bohr"
   ]
  },
  {
   "cell_type": "code",
   "execution_count": 85,
   "metadata": {},
   "outputs": [],
   "source": [
    "dq_pr=-np.linalg.inv(h_ic)@g_ic"
   ]
  },
  {
   "cell_type": "code",
   "execution_count": 120,
   "metadata": {},
   "outputs": [],
   "source": [
    "np.set_printoptions(precision=3)"
   ]
  },
  {
   "cell_type": "code",
   "execution_count": 121,
   "metadata": {},
   "outputs": [
    {
     "data": {
      "text/plain": [
       "(array([ 0.212,  0.212, -0.021]), array([0.212, 0.212, 0.121]))"
      ]
     },
     "execution_count": 121,
     "metadata": {},
     "output_type": "execute_result"
    }
   ],
   "source": [
    "dq,dq_pr"
   ]
  },
  {
   "cell_type": "code",
   "execution_count": 182,
   "metadata": {},
   "outputs": [
    {
     "name": "stdout",
     "output_type": "stream",
     "text": [
      "Minimization on sphere was performed:\n"
     ]
    },
    {
     "data": {
      "text/plain": [
       "array([1.531, 1.531, 2.368])"
      ]
     },
     "execution_count": 182,
     "metadata": {},
     "output_type": "execute_result"
    }
   ],
   "source": [
    "s.future.q+quadratic_step(g_ic, h_ic+np.eye(3)*1e-6, s.weights, s.trust)[0]"
   ]
  },
  {
   "cell_type": "code",
   "execution_count": 183,
   "metadata": {},
   "outputs": [
    {
     "data": {
      "text/plain": [
       "array([1.572, 1.572, 2.665])"
      ]
     },
     "execution_count": 183,
     "metadata": {},
     "output_type": "execute_result"
    }
   ],
   "source": [
    "pred_q=(s.future.q-np.linalg.inv(h_ic)@g_ic)\n",
    "pred_q"
   ]
  },
  {
   "cell_type": "code",
   "execution_count": 123,
   "metadata": {},
   "outputs": [],
   "source": [
    "coords_new = h2occords+B_inv.dot(dq_pr).reshape(-1, 3)\n",
    "coords_new-=coords_new[0]"
   ]
  },
  {
   "cell_type": "code",
   "execution_count": 124,
   "metadata": {},
   "outputs": [
    {
     "data": {
      "text/plain": [
       "(1.5739906405950779, 2.649)"
      ]
     },
     "execution_count": 124,
     "metadata": {},
     "output_type": "execute_result"
    }
   ],
   "source": [
    "norm(coords_new[2]),anglecenter(coords_new)"
   ]
  },
  {
   "cell_type": "code",
   "execution_count": 125,
   "metadata": {},
   "outputs": [
    {
     "data": {
      "text/plain": [
       "(1.5739906405950779, 2.649)"
      ]
     },
     "execution_count": 125,
     "metadata": {},
     "output_type": "execute_result"
    }
   ],
   "source": [
    "norm(coords_new[2]),anglecenter(coords_new)"
   ]
  },
  {
   "cell_type": "code",
   "execution_count": 126,
   "metadata": {},
   "outputs": [
    {
     "data": {
      "text/plain": [
       "array([[ 2.311e-12,  4.624e-02,  4.044e-01],\n",
       "       [ 2.310e-12, -1.480e+00,  7.881e-01],\n",
       "       [ 2.311e-12,  1.573e+00,  7.881e-01]])"
      ]
     },
     "execution_count": 126,
     "metadata": {},
     "output_type": "execute_result"
    }
   ],
   "source": [
    "h2occords-(np.linalg.inv(h0)@g0.flatten()).reshape(3,3)"
   ]
  },
  {
   "cell_type": "code",
   "execution_count": 127,
   "metadata": {},
   "outputs": [
    {
     "data": {
      "text/plain": [
       "array([[ 0. ,  0. ,  0. ],\n",
       "       [ 0. , -1.3,  0.4],\n",
       "       [ 0. ,  1.3,  0.4]])"
      ]
     },
     "execution_count": 127,
     "metadata": {},
     "output_type": "execute_result"
    }
   ],
   "source": [
    "h2occords"
   ]
  },
  {
   "cell_type": "code",
   "execution_count": 102,
   "metadata": {},
   "outputs": [],
   "source": [
    "dxcc=-(np.linalg.inv(h0)@g0.flatten()).reshape(3,3)"
   ]
  },
  {
   "cell_type": "code",
   "execution_count": 103,
   "metadata": {},
   "outputs": [],
   "source": [
    "dxcc-=dxcc[0]"
   ]
  },
  {
   "cell_type": "code",
   "execution_count": 130,
   "metadata": {},
   "outputs": [
    {
     "data": {
      "text/plain": [
       "2.545"
      ]
     },
     "execution_count": 130,
     "metadata": {},
     "output_type": "execute_result"
    }
   ],
   "source": [
    "anglecenter(h2occords)"
   ]
  },
  {
   "cell_type": "code",
   "execution_count": 165,
   "metadata": {},
   "outputs": [
    {
     "data": {
      "text/plain": [
       "85.42800725400575"
      ]
     },
     "execution_count": 165,
     "metadata": {},
     "output_type": "execute_result"
    }
   ],
   "source": [
    "1.491*180/np.pi"
   ]
  },
  {
   "cell_type": "code",
   "execution_count": null,
   "metadata": {},
   "outputs": [],
   "source": []
  }
 ],
 "metadata": {
  "kernelspec": {
   "display_name": "Python 3",
   "language": "python",
   "name": "python3"
  },
  "language_info": {
   "codemirror_mode": {
    "name": "ipython",
    "version": 3
   },
   "file_extension": ".py",
   "mimetype": "text/x-python",
   "name": "python",
   "nbconvert_exporter": "python",
   "pygments_lexer": "ipython3",
   "version": "3.7.3"
  }
 },
 "nbformat": 4,
 "nbformat_minor": 2
}
