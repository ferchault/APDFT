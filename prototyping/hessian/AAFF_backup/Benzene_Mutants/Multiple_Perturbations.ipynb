{
 "cells": [
  {
   "cell_type": "code",
   "execution_count": 54,
   "metadata": {},
   "outputs": [
    {
     "name": "stdout",
     "output_type": "stream",
     "text": [
      "The autoreload extension is already loaded. To reload it, use:\n",
      "  %reload_ext autoreload\n"
     ]
    }
   ],
   "source": [
    "import inspect\n",
    "from aaff import aaff,alc_deriv_grad_nuc,alc_differential_grad_nuc\n",
    "from FcMole import FcM\n",
    "from pyscf import gto,scf\n",
    "import numpy as np \n",
    "from numpy.linalg import norm as norm\n",
    "from scipy.spatial.transform import Rotation as R\n",
    "import matplotlib.pyplot as plt\n",
    "from pyscf.grad import rhf as grhf\n",
    "from pyscf.hessian import rhf as hrhf\n",
    "import basis_set_exchange as bse\n",
    "from FDcoeffs import *\n",
    "from pyscf.geomopt.berny_solver import optimize\n",
    "ang2bohr=1.8897261246\n",
    "bohr2ang=.5291772109\n",
    "%load_ext autoreload\n",
    "%autoreload 2\n",
    "from AP_class import benz_Symm,alch_deriv,first_deriv_nuc_nuc,second_deriv_nuc_nuc"
   ]
  },
  {
   "cell_type": "code",
   "execution_count": 21,
   "metadata": {},
   "outputs": [],
   "source": [
    "benz_atom=\"\"\" \n",
    "C         6.95191249e-13  2.61173060e+00 -1.67580194e-08 ;\n",
    "H         2.83052087e-13  4.63941350e+00 -1.15976219e-08 ;\n",
    "C         2.26182505e+00  1.30586530e+00 -2.37508246e-08 ; \n",
    "H         4.01784995e+00  2.31970675e+00 -9.84687205e-09 ; \n",
    "C         2.26182505e+00 -1.30586530e+00  8.26065094e-09 ; \n",
    "H         4.01784995e+00 -2.31970675e+00  5.83890508e-08 ; \n",
    "C        -8.45954456e-13 -2.61173060e+00 -1.55922267e-08 ; \n",
    "H         1.49445304e-12 -4.63941350e+00 -3.26774154e-08 ; \n",
    "C        -2.26182505e+00 -1.30586530e+00 -8.28266973e-09 ; \n",
    "H        -4.01784995e+00 -2.31970675e+00  1.87236306e-09 ; \n",
    "C        -2.26182505e+00  1.30586530e+00  1.68546675e-08 ; \n",
    "H        -4.01784995e+00  2.31970675e+00  3.31289175e-08 ; \n",
    "\"\"\"\n",
    "Benz = gto.M(atom=benz_atom,unit='bohr',basis='sto-3g',symmetry = 'D6v') #basis={\"H\":\"pc-2\",'C':bse.get_basis(\"pcX-2\",fmt=\"nwchem\",elements=[6])})"
   ]
  },
  {
   "cell_type": "code",
   "execution_count": 22,
   "metadata": {},
   "outputs": [],
   "source": [
    "BenzHF=scf.RHF(Benz)"
   ]
  },
  {
   "cell_type": "code",
   "execution_count": 23,
   "metadata": {},
   "outputs": [
    {
     "name": "stdout",
     "output_type": "stream",
     "text": [
      "converged SCF energy = -227.890711338274\n",
      "CPU times: user 1.44 s, sys: 39.3 ms, total: 1.48 s\n",
      "Wall time: 501 ms\n"
     ]
    },
    {
     "data": {
      "text/plain": [
       "-227.8907113382739"
      ]
     },
     "execution_count": 23,
     "metadata": {},
     "output_type": "execute_result"
    }
   ],
   "source": [
    "%time BenzHF.scf()#dm0=ldm)"
   ]
  },
  {
   "cell_type": "code",
   "execution_count": 52,
   "metadata": {
    "scrolled": true
   },
   "outputs": [
    {
     "name": "stdout",
     "output_type": "stream",
     "text": [
      "[[0], [1]]\n",
      "CPU times: user 383 ms, sys: 28.3 ms, total: 412 ms\n",
      "Wall time: 139 ms\n"
     ]
    },
    {
     "data": {
      "text/plain": [
       "(-14.554808443274148, 1.079627074618514, 0.26021645259667053)"
      ]
     },
     "execution_count": 52,
     "metadata": {},
     "output_type": "execute_result"
    }
   ],
   "source": [
    "%time d1,d2,d3= alch_deriv(BenzHF,[[0],[1]])\n",
    "d1,d2,d3"
   ]
  },
  {
   "cell_type": "code",
   "execution_count": 105,
   "metadata": {},
   "outputs": [
    {
     "name": "stdout",
     "output_type": "stream",
     "text": [
      "converged SCF energy = -227.890711338274\n"
     ]
    }
   ],
   "source": [
    "dl=1e-3\n",
    "fdhf1=scf.RHF(FcM(fcs=[[0,3],[dl,dl]],atom=benz_atom,unit='bohr',basis='sto-3g',verbose=1))\n",
    "e1=fdhf1.scf()\n",
    "fdhf2=scf.RHF(FcM(fcs=[[0,3],[-dl,-dl]],atom=benz_atom,unit='bohr',basis='sto-3g',verbose=1))\n",
    "e2=fdhf2.scf()\n",
    "e0=BenzHF.scf()"
   ]
  },
  {
   "cell_type": "code",
   "execution_count": 106,
   "metadata": {},
   "outputs": [],
   "source": [
    "fdhf3=scf.RHF(FcM(fcs=[[0,3],[2*dl,2*dl]],atom=benz_atom,unit='bohr',basis='sto-3g',verbose=1))\n",
    "e3=fdhf3.scf()\n",
    "fdhf4=scf.RHF(FcM(fcs=[[0,3],[-2*dl,-2*dl]],atom=benz_atom,unit='bohr',basis='sto-3g',verbose=1))\n",
    "e4=fdhf4.scf()"
   ]
  },
  {
   "cell_type": "code",
   "execution_count": 107,
   "metadata": {},
   "outputs": [
    {
     "data": {
      "text/plain": [
       "(-15.697750917468056, -1.208235630656418, 0.1807762828320847)"
      ]
     },
     "execution_count": 107,
     "metadata": {},
     "output_type": "execute_result"
    }
   ],
   "source": [
    "(e1-e2)/2/dl,(e1+e2-2*e0)/dl**2,(e3/2-e1+e2-e4/2)/dl**3"
   ]
  },
  {
   "cell_type": "code",
   "execution_count": 111,
   "metadata": {},
   "outputs": [
    {
     "name": "stdout",
     "output_type": "stream",
     "text": [
      "[[0, 3], [1, 1]]\n",
      "CPU times: user 372 ms, sys: 28 ms, total: 400 ms\n",
      "Wall time: 129 ms\n"
     ]
    },
    {
     "data": {
      "text/plain": [
       "(-15.697750941059958, -1.2082383098489926, 0.1807643237673)"
      ]
     },
     "execution_count": 111,
     "metadata": {},
     "output_type": "execute_result"
    }
   ],
   "source": [
    "%time d1,d2,d3= alch_deriv(BenzHF,[[0,3],[1,1]])\n",
    "d1,d2,d3"
   ]
  },
  {
   "cell_type": "code",
   "execution_count": 8,
   "metadata": {},
   "outputs": [
    {
     "name": "stdout",
     "output_type": "stream",
     "text": [
      "CPU times: user 11.2 s, sys: 247 ms, total: 11.4 s\n",
      "Wall time: 8.53 s\n"
     ]
    }
   ],
   "source": [
    "%time af1= aaff(BenzHF,[1,0,0,0,0,0,0,0,0,0,0,0,0])"
   ]
  },
  {
   "cell_type": "code",
   "execution_count": 9,
   "metadata": {},
   "outputs": [
    {
     "data": {
      "text/plain": [
       "'D6v'"
      ]
     },
     "execution_count": 9,
     "metadata": {},
     "output_type": "execute_result"
    }
   ],
   "source": [
    "Benz.symmetry"
   ]
  },
  {
   "cell_type": "code",
   "execution_count": 10,
   "metadata": {},
   "outputs": [],
   "source": [
    "from AP_class import DeltaV,rotate_matrix,parse_charge,alchemy_cphf_deriv,make_dP"
   ]
  },
  {
   "cell_type": "code",
   "execution_count": 23,
   "metadata": {},
   "outputs": [],
   "source": [
    "from AP_class import rotate_grad,rotate_matrix"
   ]
  },
  {
   "cell_type": "code",
   "execution_count": 24,
   "metadata": {},
   "outputs": [
    {
     "data": {
      "text/plain": [
       "array([[ 2.96057623e-12, -8.58254608e+00,  7.79752832e-08],\n",
       "       [ 2.76043077e-13, -2.54741647e+00, -1.14081458e-09],\n",
       "       [-7.43270294e+00, -4.29127305e+00,  1.21872018e-07],\n",
       "       [-2.20612738e+00, -1.27370824e+00, -7.74666156e-09],\n",
       "       [-7.43270294e+00,  4.29127305e+00, -9.64438761e-08],\n",
       "       [-2.20612738e+00,  1.27370824e+00, -5.62362280e-08],\n",
       "       [-2.33539577e-12,  8.58254608e+00,  6.95524577e-08],\n",
       "       [-1.72069303e-12,  2.54741647e+00,  2.13607535e-08],\n",
       "       [ 7.43270294e+00,  4.29127305e+00,  4.55789859e-08],\n",
       "       [ 2.20612738e+00,  1.27370824e+00, -8.18970519e-09],\n",
       "       [ 7.43270294e+00, -4.29127305e+00, -1.42698422e-07],\n",
       "       [ 2.20612738e+00, -1.27370824e+00, -2.38837909e-08]])"
      ]
     },
     "execution_count": 24,
     "metadata": {},
     "output_type": "execute_result"
    }
   ],
   "source": [
    "g=BenzHF.Gradients().grad_nuc()\n",
    "g"
   ]
  },
  {
   "cell_type": "code",
   "execution_count": 25,
   "metadata": {},
   "outputs": [
    {
     "data": {
      "text/plain": [
       "array([[ 7.43270294e+00, -4.29127305e+00, -1.42698422e-07],\n",
       "       [ 2.20612738e+00, -1.27370824e+00, -2.38837909e-08],\n",
       "       [ 2.96057623e-12, -8.58254608e+00,  7.79752832e-08],\n",
       "       [ 2.76043077e-13, -2.54741647e+00, -1.14081458e-09],\n",
       "       [-7.43270294e+00, -4.29127305e+00,  1.21872018e-07],\n",
       "       [-2.20612738e+00, -1.27370824e+00, -7.74666156e-09],\n",
       "       [-7.43270294e+00,  4.29127305e+00, -9.64438761e-08],\n",
       "       [-2.20612738e+00,  1.27370824e+00, -5.62362280e-08],\n",
       "       [-2.33539577e-12,  8.58254608e+00,  6.95524577e-08],\n",
       "       [-1.72069303e-12,  2.54741647e+00,  2.13607535e-08],\n",
       "       [ 7.43270294e+00,  4.29127305e+00,  4.55789859e-08],\n",
       "       [ 2.20612738e+00,  1.27370824e+00, -8.18970519e-09]])"
      ]
     },
     "execution_count": 25,
     "metadata": {},
     "output_type": "execute_result"
    }
   ],
   "source": [
    "rotate_grad(g,2)"
   ]
  },
  {
   "cell_type": "code",
   "execution_count": 14,
   "metadata": {},
   "outputs": [],
   "source": [
    "from scipy.spatial.transform import Rotation as R"
   ]
  },
  {
   "cell_type": "code",
   "execution_count": 15,
   "metadata": {},
   "outputs": [],
   "source": [
    "rv=-np.asarray([0,0,1])*np.pi*2/3\n",
    "r = R.from_rotvec(rv)"
   ]
  },
  {
   "cell_type": "code",
   "execution_count": 16,
   "metadata": {},
   "outputs": [
    {
     "data": {
      "text/plain": [
       "True"
      ]
     },
     "execution_count": 16,
     "metadata": {},
     "output_type": "execute_result"
    }
   ],
   "source": [
    "np.allclose(rotate_grad(r.apply(g),4),g,atol=1e-6)"
   ]
  },
  {
   "cell_type": "code",
   "execution_count": 17,
   "metadata": {},
   "outputs": [],
   "source": [
    "np.set_printoptions(precision=3,suppress=True)"
   ]
  },
  {
   "cell_type": "markdown",
   "metadata": {},
   "source": [
    "## Symmetry operations for Benzene $D_{6h}$ axis \n",
    "I need to <br>\n",
    "1) dP (i) -> rotate dP (0/1) <br>\n",
    "2) af(i) = rotate af (0/1)<br>\n",
    "3) dV(i) =rotate dV(0/1)<br>"
   ]
  },
  {
   "cell_type": "code",
   "execution_count": 18,
   "metadata": {},
   "outputs": [],
   "source": [
    "import itertools"
   ]
  },
  {
   "cell_type": "code",
   "execution_count": 19,
   "metadata": {},
   "outputs": [],
   "source": [
    "from AP_class import APDFT_perturbator"
   ]
  },
  {
   "cell_type": "code",
   "execution_count": 20,
   "metadata": {},
   "outputs": [],
   "source": [
    "AP=APDFT_perturbator(BenzHF,sites=[1,2,0])"
   ]
  },
  {
   "cell_type": "code",
   "execution_count": 21,
   "metadata": {},
   "outputs": [
    {
     "name": "stdout",
     "output_type": "stream",
     "text": [
      "No AF found for atom 1. Calculating it from code\n"
     ]
    },
    {
     "data": {
      "text/plain": [
       "array([[-0.02 , -0.035, -0.   ],\n",
       "       [-0.003, -0.003, -0.   ],\n",
       "       [ 0.179,  0.103,  0.   ],\n",
       "       [-0.1  , -0.058, -0.   ],\n",
       "       [-0.04 ,  0.   , -0.   ],\n",
       "       [-0.004, -0.001, -0.   ],\n",
       "       [ 0.003, -0.005, -0.   ],\n",
       "       [-0.005, -0.001, -0.   ],\n",
       "       [-0.005, -0.003,  0.   ],\n",
       "       [ 0.003,  0.002, -0.   ],\n",
       "       [-0.003,  0.005, -0.   ],\n",
       "       [-0.004, -0.003, -0.   ]])"
      ]
     },
     "execution_count": 21,
     "metadata": {},
     "output_type": "execute_result"
    }
   ],
   "source": [
    "AP.af(3)"
   ]
  },
  {
   "cell_type": "code",
   "execution_count": 22,
   "metadata": {},
   "outputs": [
    {
     "data": {
      "text/plain": [
       "(array([[-0.   ,  0.206,  0.   ],\n",
       "        [ 0.   , -0.115, -0.   ],\n",
       "        [-0.021, -0.035, -0.   ],\n",
       "        [-0.001, -0.004, -0.   ],\n",
       "        [ 0.005, -0.   , -0.   ],\n",
       "        [-0.001, -0.005, -0.   ],\n",
       "        [-0.   , -0.006,  0.   ],\n",
       "        [-0.   ,  0.003, -0.   ],\n",
       "        [-0.005, -0.   , -0.   ],\n",
       "        [ 0.001, -0.005, -0.   ],\n",
       "        [ 0.021, -0.035, -0.   ],\n",
       "        [ 0.001, -0.004, -0.   ]]), array([[ 0.   ,  0.006,  0.   ],\n",
       "        [ 0.   , -0.003, -0.   ],\n",
       "        [ 0.005,  0.   , -0.   ],\n",
       "        [-0.001,  0.005, -0.   ],\n",
       "        [-0.021,  0.035, -0.   ],\n",
       "        [-0.001,  0.004, -0.   ],\n",
       "        [ 0.   , -0.206,  0.   ],\n",
       "        [-0.   ,  0.115, -0.   ],\n",
       "        [ 0.021,  0.035, -0.   ],\n",
       "        [ 0.001,  0.004, -0.   ],\n",
       "        [-0.005,  0.   , -0.   ],\n",
       "        [ 0.001,  0.005, -0.   ]]))"
      ]
     },
     "execution_count": 22,
     "metadata": {},
     "output_type": "execute_result"
    }
   ],
   "source": [
    "AP.af(1),AP.af(7)"
   ]
  },
  {
   "cell_type": "code",
   "execution_count": 23,
   "metadata": {},
   "outputs": [],
   "source": [
    "AP.sites=[0,1,2,3,4,5,6,7,8,9,10,11]"
   ]
  },
  {
   "cell_type": "code",
   "execution_count": 24,
   "metadata": {},
   "outputs": [],
   "source": [
    "AP.perturb()"
   ]
  },
  {
   "cell_type": "code",
   "execution_count": 25,
   "metadata": {},
   "outputs": [
    {
     "data": {
      "text/plain": [
       "array([[-5.609, -0.699,  0.   , ..., -0.093,  0.   , -0.016],\n",
       "       [-0.699, -0.865, -0.   , ..., -0.153,  0.   , -0.051],\n",
       "       [ 0.   , -0.   , -0.858, ...,  0.153, -0.   ,  0.056],\n",
       "       ...,\n",
       "       [-0.093, -0.153,  0.153, ..., -0.374,  0.   , -0.084],\n",
       "       [ 0.   ,  0.   , -0.   , ...,  0.   , -0.355, -0.   ],\n",
       "       [-0.016, -0.051,  0.056, ..., -0.084, -0.   , -0.248]])"
      ]
     },
     "execution_count": 25,
     "metadata": {},
     "output_type": "execute_result"
    }
   ],
   "source": [
    "AP.dV(0)"
   ]
  },
  {
   "cell_type": "code",
   "execution_count": 26,
   "metadata": {},
   "outputs": [],
   "source": [
    "dV=DeltaV(Benz,[[0],[1]])"
   ]
  },
  {
   "cell_type": "code",
   "execution_count": 27,
   "metadata": {},
   "outputs": [
    {
     "data": {
      "text/plain": [
       "array([[ 0.   ,  0.   ,  0.   ,  0.   ,  0.   ,  0.   ,  0.   ,  0.   ,\n",
       "         0.   ,  0.   ,  0.   ,  0.   ,  0.   ,  0.   ,  0.   ,  0.   ,\n",
       "         0.   ,  0.   ,  0.   ,  0.   ,  0.   ],\n",
       "       [ 0.   ,  0.   ,  0.   ,  0.   ,  0.   ,  0.   ,  0.   ,  0.   ,\n",
       "         0.   ,  0.   ,  0.   ,  0.   ,  0.   ,  0.   ,  0.   ,  0.   ,\n",
       "         0.   ,  0.   ,  0.   ,  0.   ,  0.   ],\n",
       "       [ 0.   ,  0.   ,  0.   ,  0.   ,  0.   ,  0.   ,  0.   ,  0.   ,\n",
       "         0.   ,  0.   ,  0.   ,  0.   ,  0.   ,  0.   ,  0.   ,  0.   ,\n",
       "         0.   ,  0.   ,  0.   ,  0.   ,  0.   ],\n",
       "       [ 0.   ,  0.   ,  0.   ,  0.   ,  0.   ,  0.   ,  0.   ,  0.   ,\n",
       "         0.   ,  0.   ,  0.   ,  0.   ,  0.   ,  0.   ,  0.   ,  0.   ,\n",
       "         0.   ,  0.   ,  0.   ,  0.   ,  0.   ],\n",
       "       [ 0.   ,  0.   ,  0.   ,  0.   ,  0.   ,  0.   ,  0.   ,  0.   ,\n",
       "         0.   ,  0.   ,  0.   ,  0.   ,  0.   ,  0.   ,  0.   ,  0.   ,\n",
       "         0.   ,  0.   ,  0.   ,  0.   ,  0.   ],\n",
       "       [ 0.   ,  0.   ,  0.   ,  0.   ,  0.   ,  0.   ,  0.   ,  0.   ,\n",
       "         0.   ,  0.   ,  0.   ,  0.   ,  0.   ,  0.   ,  0.   ,  0.   ,\n",
       "         0.   ,  0.   ,  0.   ,  0.   ,  0.   ],\n",
       "       [ 0.   ,  0.   ,  0.   ,  0.   ,  0.   ,  0.   ,  0.   ,  0.   ,\n",
       "         0.   ,  0.   ,  0.   ,  0.   ,  0.   ,  0.   ,  0.   ,  0.   ,\n",
       "         0.   ,  0.   ,  0.   ,  0.   ,  0.   ],\n",
       "       [ 0.   ,  0.   ,  0.   ,  0.   ,  0.   ,  0.   ,  0.   ,  0.   ,\n",
       "         0.   ,  0.   ,  0.   ,  0.   ,  0.   ,  0.   ,  0.   ,  0.   ,\n",
       "         0.   ,  0.   ,  0.   ,  0.   ,  0.   ],\n",
       "       [ 0.   ,  0.   ,  0.   ,  0.   ,  0.   ,  0.   ,  0.   ,  0.   ,\n",
       "         0.   ,  0.   ,  0.   ,  0.   ,  0.   ,  0.   ,  0.   ,  0.   ,\n",
       "         0.   ,  0.   ,  0.   ,  0.   ,  0.   ],\n",
       "       [ 0.   ,  0.   ,  0.   ,  0.   ,  0.   ,  0.   ,  0.   ,  0.   ,\n",
       "         0.   ,  0.   ,  0.   ,  0.   ,  0.   ,  0.   ,  0.   ,  0.   ,\n",
       "         0.   ,  0.   ,  0.   ,  0.   ,  0.   ],\n",
       "       [ 0.   ,  0.   ,  0.   ,  0.   ,  0.   ,  0.   ,  0.   ,  0.   ,\n",
       "         0.   ,  0.   ,  0.   ,  0.   ,  0.   ,  0.   ,  0.   ,  0.   ,\n",
       "         0.   ,  0.   ,  0.   ,  0.   ,  0.   ],\n",
       "       [ 0.   ,  0.   ,  0.   ,  0.   ,  0.   ,  0.   ,  0.   ,  0.   ,\n",
       "         0.   ,  0.   ,  0.   ,  0.   ,  0.   ,  0.   ,  0.   ,  0.   ,\n",
       "         0.   ,  0.   ,  0.   ,  0.   ,  0.   ],\n",
       "       [ 0.   ,  0.   ,  0.   ,  0.   ,  0.   ,  0.   ,  0.   ,  0.   ,\n",
       "         0.   ,  0.   ,  0.   ,  0.   ,  0.   ,  0.   ,  0.   ,  0.   ,\n",
       "         0.   ,  0.   ,  0.   ,  0.   ,  0.   ],\n",
       "       [ 0.   ,  0.   ,  0.   ,  0.   ,  0.   ,  0.   ,  0.   ,  0.   ,\n",
       "         0.   ,  0.   ,  0.   ,  0.   ,  0.   ,  0.   ,  0.   ,  0.   ,\n",
       "         0.   ,  0.   ,  0.   ,  0.   ,  0.   ],\n",
       "       [ 0.   ,  0.   ,  0.   ,  0.   ,  0.   ,  0.   ,  0.   ,  0.   ,\n",
       "         0.   ,  0.   ,  0.   ,  0.   ,  0.   ,  0.   ,  0.   ,  0.   ,\n",
       "         0.   ,  0.   ,  0.   ,  0.   ,  0.   ],\n",
       "       [ 0.   ,  0.   ,  0.   ,  0.   ,  0.   ,  0.   ,  0.   ,  0.   ,\n",
       "         0.   ,  0.   ,  0.   ,  0.   ,  0.   ,  0.   ,  0.   ,  0.   ,\n",
       "         0.   ,  0.   ,  0.   ,  0.   ,  0.   ],\n",
       "       [ 0.   ,  0.   ,  0.   ,  0.   ,  0.   ,  0.   ,  0.   ,  0.   ,\n",
       "         0.   ,  0.   ,  0.   ,  0.   ,  0.   ,  0.   ,  0.   ,  0.   ,\n",
       "         0.   ,  0.   ,  0.   ,  0.   ,  0.   ],\n",
       "       [ 0.   ,  0.   ,  0.   ,  0.   ,  0.   ,  0.   ,  0.   ,  0.   ,\n",
       "         0.   ,  0.   ,  0.   ,  0.   ,  0.   ,  0.   ,  0.   ,  0.   ,\n",
       "         0.   ,  0.   ,  0.   ,  0.   ,  0.   ],\n",
       "       [ 0.   ,  0.   ,  0.   ,  0.   ,  0.   ,  0.   ,  0.   ,  0.   ,\n",
       "         0.   ,  0.   ,  0.   ,  0.   ,  0.   ,  0.   ,  0.   ,  0.   ,\n",
       "         0.   ,  0.   ,  0.   ,  0.   ,  0.   ],\n",
       "       [ 0.   ,  0.   ,  0.   ,  0.   ,  0.   ,  0.   ,  0.   ,  0.   ,\n",
       "         0.   ,  0.   ,  0.   ,  0.   ,  0.   ,  0.   ,  0.   ,  0.   ,\n",
       "         0.   ,  0.   ,  0.   ,  0.   ,  0.   ],\n",
       "       [ 0.   ,  0.   ,  0.   ,  0.   ,  0.   ,  0.   ,  0.   ,  0.   ,\n",
       "         0.   ,  0.   ,  0.   ,  0.   ,  0.   ,  0.   ,  0.   ,  0.   ,\n",
       "         0.   ,  0.   ,  0.   ,  0.   ,  0.   ],\n",
       "       [-0.   , -0.   , -0.   ,  0.   , -0.   , -0.   ,  0.   ,  0.   ,\n",
       "         0.   ,  0.   ,  0.   , -0.   ,  0.   ,  0.   , -0.   , -0.   ,\n",
       "        -0.053, -0.   , -0.   , -0.141, -0.044],\n",
       "       [ 0.   ,  0.   ,  0.   , -0.   ,  0.   ,  0.   ,  0.   , -0.   ,\n",
       "         0.   ,  0.   , -0.   ,  0.   ,  0.   ,  0.   ,  0.   ,  0.   ,\n",
       "         0.091,  0.   ,  0.   ,  0.207,  0.141],\n",
       "       [ 0.   ,  0.   ,  0.   , -0.   ,  0.   ,  0.   , -0.   ,  0.   ,\n",
       "        -0.   , -0.   ,  0.   ,  0.   ,  0.   ,  0.   ,  0.   , -0.   ,\n",
       "         0.057,  0.   ,  0.   ,  0.091,  0.052],\n",
       "       [ 0.006,  0.007,  0.004, -0.004,  0.007,  0.005, -0.016, -0.023,\n",
       "        -0.013,  0.013, -0.023, -0.053, -0.02 , -0.   , -0.016,  0.009,\n",
       "         0.   ,  0.008, -0.013,  0.   ,  0.   ],\n",
       "       [ 0.003,  0.003,  0.002, -0.002,  0.003,  0.003, -0.001, -0.015,\n",
       "        -0.001,  0.017, -0.013, -0.027, -0.019, -0.012, -0.063,  0.018,\n",
       "         0.   , -0.001, -0.019,  0.   ,  0.   ],\n",
       "       [ 0.001,  0.002,  0.001, -0.001,  0.002,  0.002, -0.001, -0.001,\n",
       "        -0.014, -0.007, -0.017, -0.016, -0.011,  0.022, -0.018,  0.041,\n",
       "         0.   ,  0.02 ,  0.001, -0.   , -0.   ],\n",
       "       [-0.012, -0.015, -0.009,  0.009, -0.015, -0.013,  0.029,  0.046,\n",
       "         0.027, -0.027,  0.047,  0.004,  0.059, -0.   , -0.011,  0.006,\n",
       "         0.   ,  0.004, -0.007, -0.   , -0.   ],\n",
       "       [ 0.008,  0.01 ,  0.006, -0.006,  0.01 ,  0.008, -0.024, -0.031,\n",
       "        -0.015,  0.014, -0.035, -0.   , -0.021,  0.035,  0.01 , -0.006,\n",
       "        -0.   ,  0.039,  0.019,  0.   , -0.   ],\n",
       "       [-0.015, -0.018, -0.01 ,  0.01 , -0.018, -0.014,  0.042,  0.051,\n",
       "         0.031, -0.035,  0.055,  0.001,  0.037,  0.02 , -0.017,  0.01 ,\n",
       "        -0.   ,  0.019,  0.017,  0.   , -0.   ],\n",
       "       [ 0.002,  0.002,  0.001, -0.001,  0.002,  0.001, -0.008, -0.006,\n",
       "        -0.004, -0.015, -0.006,  0.013,  0.007,  0.017,  0.025, -0.003,\n",
       "        -0.   , -0.025,  0.022, -0.   ,  0.   ],\n",
       "       [ 0.003,  0.003,  0.002, -0.002,  0.003,  0.003, -0.013, -0.012,\n",
       "        -0.006,  0.006,  0.009,  0.023,  0.012, -0.01 ,  0.032, -0.025,\n",
       "        -0.   , -0.022,  0.051,  0.   , -0.   ],\n",
       "       [-0.009, -0.011, -0.006,  0.006, -0.01 , -0.008,  0.025,  0.029,\n",
       "         0.023, -0.   ,  0.023,  0.002,  0.019, -0.024,  0.011,  0.01 ,\n",
       "        -0.   , -0.028,  0.001,  0.   ,  0.   ],\n",
       "       [-0.005, -0.006, -0.004,  0.003, -0.006, -0.005,  0.014,  0.023,\n",
       "         0.002, -0.023,  0.   ,  0.001,  0.011,  0.041, -0.01 , -0.022,\n",
       "        -0.   ,  0.032,  0.028, -0.   , -0.   ],\n",
       "       [-0.   , -0.   ,  0.   ,  0.   ,  0.   , -0.   ,  0.   ,  0.007,\n",
       "        -0.013, -0.02 , -0.012, -0.   ,  0.   ,  0.022, -0.009, -0.015,\n",
       "        -0.   ,  0.032,  0.018, -0.   ,  0.   ],\n",
       "       [ 0.006,  0.008,  0.004, -0.004,  0.008,  0.006, -0.016, -0.022,\n",
       "        -0.013,  0.008, -0.014,  0.011,  0.014, -0.   ,  0.031, -0.018,\n",
       "        -0.   , -0.017,  0.029,  0.   , -0.   ]])"
      ]
     },
     "execution_count": 27,
     "metadata": {},
     "output_type": "execute_result"
    }
   ],
   "source": [
    "AP.mo1(2)"
   ]
  },
  {
   "cell_type": "code",
   "execution_count": 28,
   "metadata": {},
   "outputs": [
    {
     "data": {
      "text/plain": [
       "array([[-5.609, -0.699,  0.   , ..., -0.093,  0.   , -0.016],\n",
       "       [-0.699, -0.865, -0.   , ..., -0.153,  0.   , -0.051],\n",
       "       [ 0.   , -0.   , -0.858, ...,  0.153, -0.   ,  0.056],\n",
       "       ...,\n",
       "       [-0.093, -0.153,  0.153, ..., -0.374,  0.   , -0.084],\n",
       "       [ 0.   ,  0.   , -0.   , ...,  0.   , -0.355, -0.   ],\n",
       "       [-0.016, -0.051,  0.056, ..., -0.084, -0.   , -0.248]])"
      ]
     },
     "execution_count": 28,
     "metadata": {},
     "output_type": "execute_result"
    }
   ],
   "source": [
    "dV"
   ]
  },
  {
   "cell_type": "code",
   "execution_count": 29,
   "metadata": {
    "scrolled": true
   },
   "outputs": [
    {
     "data": {
      "text/plain": [
       "array([[ 0.   ,  0.   ,  0.   , ..., -0.012, -0.   , -0.   ],\n",
       "       [ 0.   ,  0.   ,  0.   , ..., -0.076, -0.   , -0.   ],\n",
       "       [ 0.   ,  0.   ,  0.   , ..., -0.079,  0.   , -0.017],\n",
       "       ...,\n",
       "       [-0.012, -0.076, -0.079, ..., -0.012,  0.   ,  0.075],\n",
       "       [-0.   , -0.   ,  0.   , ...,  0.   , -0.   ,  0.   ],\n",
       "       [-0.   , -0.   , -0.017, ...,  0.075,  0.   , -0.   ]])"
      ]
     },
     "execution_count": 29,
     "metadata": {},
     "output_type": "execute_result"
    }
   ],
   "source": [
    "rotate_matrix(dV,Benz,2,ref_site=0)-DeltaV(Benz,[[2],[1]])"
   ]
  },
  {
   "cell_type": "code",
   "execution_count": 30,
   "metadata": {},
   "outputs": [],
   "source": [
    "from AP_class import old_rotate_matrix"
   ]
  },
  {
   "cell_type": "code",
   "execution_count": 31,
   "metadata": {},
   "outputs": [
    {
     "data": {
      "text/plain": [
       "(array([[-2.262,  1.306,  0.   ],\n",
       "        [-4.018,  2.32 ,  0.   ],\n",
       "        [ 0.   ,  2.612, -0.   ],\n",
       "        [ 0.   ,  4.639, -0.   ],\n",
       "        [ 2.262,  1.306, -0.   ],\n",
       "        [ 4.018,  2.32 , -0.   ],\n",
       "        [ 2.262, -1.306,  0.   ],\n",
       "        [ 4.018, -2.32 ,  0.   ],\n",
       "        [-0.   , -2.612, -0.   ],\n",
       "        [ 0.   , -4.639, -0.   ],\n",
       "        [-2.262, -1.306, -0.   ],\n",
       "        [-4.018, -2.32 ,  0.   ]]), array([[ 0.   ,  2.612, -0.   ],\n",
       "        [ 0.   ,  4.639, -0.   ],\n",
       "        [ 2.262,  1.306, -0.   ],\n",
       "        [ 4.018,  2.32 , -0.   ],\n",
       "        [ 2.262, -1.306,  0.   ],\n",
       "        [ 4.018, -2.32 ,  0.   ],\n",
       "        [-0.   , -2.612, -0.   ],\n",
       "        [ 0.   , -4.639, -0.   ],\n",
       "        [-2.262, -1.306, -0.   ],\n",
       "        [-4.018, -2.32 ,  0.   ],\n",
       "        [-2.262,  1.306,  0.   ],\n",
       "        [-4.018,  2.32 ,  0.   ]]))"
      ]
     },
     "execution_count": 31,
     "metadata": {},
     "output_type": "execute_result"
    }
   ],
   "source": [
    "rotate_grad(Benz.atom_coords(),2,ref_site=0),Benz.atom_coords()"
   ]
  },
  {
   "cell_type": "code",
   "execution_count": 32,
   "metadata": {},
   "outputs": [],
   "source": [
    "np.set_printoptions(precision=4)"
   ]
  },
  {
   "cell_type": "code",
   "execution_count": 33,
   "metadata": {},
   "outputs": [],
   "source": [
    "pt=Benz.aoslice_by_atom()[0,-2]\n",
    "rpt=Benz.aoslice_by_atom()[2,-2]"
   ]
  },
  {
   "cell_type": "code",
   "execution_count": 34,
   "metadata": {
    "scrolled": true
   },
   "outputs": [
    {
     "data": {
      "text/plain": [
       "(array([[ 2.0703, -0.2075, -0.    , -0.0018,  0.    ],\n",
       "        [-0.2075,  0.7836,  0.    ,  0.0191,  0.    ],\n",
       "        [-0.    ,  0.    ,  0.6088,  0.    ,  0.    ],\n",
       "        [-0.0018,  0.0191,  0.    ,  0.6232, -0.    ],\n",
       "        [ 0.    ,  0.    ,  0.    , -0.    ,  0.7854]]),\n",
       " array([[ 2.0703, -0.2075, -0.0016, -0.0009,  0.    ],\n",
       "        [-0.2075,  0.7836,  0.0165,  0.0095, -0.    ],\n",
       "        [-0.0016,  0.0165,  0.6196,  0.0062,  0.    ],\n",
       "        [-0.0009,  0.0095,  0.0062,  0.6124,  0.    ],\n",
       "        [ 0.    , -0.    ,  0.    ,  0.    ,  0.7854]]))"
      ]
     },
     "execution_count": 34,
     "metadata": {},
     "output_type": "execute_result"
    }
   ],
   "source": [
    "BenzHF.make_rdm1()[pt:pt+5,pt:pt+5],BenzHF.make_rdm1()[rpt:rpt+5,rpt:rpt+5]"
   ]
  },
  {
   "cell_type": "code",
   "execution_count": 35,
   "metadata": {},
   "outputs": [
    {
     "data": {
      "text/plain": [
       "(0.009550000000000001, 0.016541085212282775)"
      ]
     },
     "execution_count": 35,
     "metadata": {},
     "output_type": "execute_result"
    }
   ],
   "source": [
    "np.cos(np.pi/3)*0.0191,np.sin(np.pi/3)*0.0191"
   ]
  },
  {
   "cell_type": "code",
   "execution_count": 36,
   "metadata": {},
   "outputs": [
    {
     "data": {
      "text/plain": [
       "array([0, 0, 1])"
      ]
     },
     "execution_count": 36,
     "metadata": {},
     "output_type": "execute_result"
    }
   ],
   "source": [
    "np.array((0,0,1))"
   ]
  },
  {
   "cell_type": "code",
   "execution_count": 37,
   "metadata": {},
   "outputs": [],
   "source": [
    "coords=Benz.atom_coords()"
   ]
  },
  {
   "cell_type": "code",
   "execution_count": 38,
   "metadata": {},
   "outputs": [],
   "source": [
    "#symm.Dmatrix.get_euler_angles(coords[0],coords[2])"
   ]
  },
  {
   "cell_type": "code",
   "execution_count": 39,
   "metadata": {},
   "outputs": [],
   "source": [
    "#symm.geom.detect_symm(Benz.atom_and_coords())"
   ]
  },
  {
   "cell_type": "code",
   "execution_count": 40,
   "metadata": {},
   "outputs": [
    {
     "data": {
      "text/plain": [
       "(36, 21)"
      ]
     },
     "execution_count": 40,
     "metadata": {},
     "output_type": "execute_result"
    }
   ],
   "source": [
    "AP.mo1(2).shape"
   ]
  },
  {
   "cell_type": "code",
   "execution_count": 41,
   "metadata": {},
   "outputs": [],
   "source": [
    "bsym=benz_Symm(Benz)"
   ]
  },
  {
   "cell_type": "code",
   "execution_count": 42,
   "metadata": {},
   "outputs": [
    {
     "data": {
      "text/plain": [
       "{2: {'ref': 0,\n",
       "  'op': <scipy.spatial.transform.rotation.Rotation at 0x7f87c8fd2278>},\n",
       " 3: {'ref': 1,\n",
       "  'op': <scipy.spatial.transform.rotation.Rotation at 0x7f87c8fd22b0>},\n",
       " 4: {'ref': 0,\n",
       "  'op': <scipy.spatial.transform.rotation.Rotation at 0x7f87c8fd22e8>},\n",
       " 5: {'ref': 1,\n",
       "  'op': <scipy.spatial.transform.rotation.Rotation at 0x7f87c8fd2320>},\n",
       " 6: {'ref': 0,\n",
       "  'op': <scipy.spatial.transform.rotation.Rotation at 0x7f87c8fd2358>},\n",
       " 7: {'ref': 1,\n",
       "  'op': <scipy.spatial.transform.rotation.Rotation at 0x7f87c8fd2390>},\n",
       " 8: {'ref': 0,\n",
       "  'op': <scipy.spatial.transform.rotation.Rotation at 0x7f87c8fd23c8>},\n",
       " 9: {'ref': 1,\n",
       "  'op': <scipy.spatial.transform.rotation.Rotation at 0x7f87c8fd2400>},\n",
       " 10: {'ref': 0,\n",
       "  'op': <scipy.spatial.transform.rotation.Rotation at 0x7f87c8fd2438>},\n",
       " 11: {'ref': 1,\n",
       "  'op': <scipy.spatial.transform.rotation.Rotation at 0x7f87c8fd2470>}}"
      ]
     },
     "execution_count": 42,
     "metadata": {},
     "output_type": "execute_result"
    }
   ],
   "source": [
    "bsym.eqs"
   ]
  },
  {
   "cell_type": "code",
   "execution_count": 43,
   "metadata": {},
   "outputs": [],
   "source": [
    "coords=Benz.atom_coords()"
   ]
  },
  {
   "cell_type": "code",
   "execution_count": 44,
   "metadata": {},
   "outputs": [
    {
     "data": {
      "text/plain": [
       "array([[ 0.    ,  2.6117, -0.    ],\n",
       "       [ 0.    ,  4.6394, -0.    ],\n",
       "       [ 2.2618,  1.3059, -0.    ],\n",
       "       [ 4.0178,  2.3197, -0.    ],\n",
       "       [ 2.2618, -1.3059,  0.    ],\n",
       "       [ 4.0178, -2.3197,  0.    ],\n",
       "       [-0.    , -2.6117, -0.    ],\n",
       "       [ 0.    , -4.6394, -0.    ],\n",
       "       [-2.2618, -1.3059, -0.    ],\n",
       "       [-4.0178, -2.3197,  0.    ],\n",
       "       [-2.2618,  1.3059,  0.    ],\n",
       "       [-4.0178,  2.3197,  0.    ]])"
      ]
     },
     "execution_count": 44,
     "metadata": {},
     "output_type": "execute_result"
    }
   ],
   "source": [
    "coords[::]"
   ]
  },
  {
   "cell_type": "code",
   "execution_count": 45,
   "metadata": {},
   "outputs": [
    {
     "data": {
      "text/plain": [
       "array([[ 0.    ,  2.6117, -0.    ],\n",
       "       [ 0.    ,  4.6394,  0.    ],\n",
       "       [ 2.2618,  1.3059,  0.    ],\n",
       "       [ 4.0178,  2.3197,  0.    ],\n",
       "       [ 2.2618, -1.3059, -0.    ],\n",
       "       [ 4.0178, -2.3197, -0.    ],\n",
       "       [-0.    , -2.6117, -0.    ],\n",
       "       [-0.    , -4.6394, -0.    ],\n",
       "       [-2.2618, -1.3059,  0.    ],\n",
       "       [-4.0178, -2.3197,  0.    ],\n",
       "       [-2.2618,  1.3059, -0.    ],\n",
       "       [-4.0178,  2.3197, -0.    ]])"
      ]
     },
     "execution_count": 45,
     "metadata": {},
     "output_type": "execute_result"
    }
   ],
   "source": [
    "rotate_grad(bsym.eqs[4]['op'].apply(coords),4,ref_site=0)"
   ]
  },
  {
   "cell_type": "code",
   "execution_count": 46,
   "metadata": {},
   "outputs": [
    {
     "name": "stdout",
     "output_type": "stream",
     "text": [
      "No AF found for atom 0. Calculating it from code\n"
     ]
    },
    {
     "data": {
      "text/plain": [
       "array([[ 0.    ,  0.0131,  0.    ],\n",
       "       [ 0.    , -0.0046, -0.    ],\n",
       "       [-0.0014, -0.0081, -0.    ],\n",
       "       [-0.0009,  0.0051, -0.    ],\n",
       "       [ 0.0012, -0.0073, -0.    ],\n",
       "       [ 0.0016,  0.0137, -0.    ],\n",
       "       [ 0.    ,  0.0046,  0.    ],\n",
       "       [-0.    , -0.0201, -0.    ],\n",
       "       [-0.0012, -0.0073, -0.    ],\n",
       "       [-0.0016,  0.0137,  0.    ],\n",
       "       [ 0.0014, -0.0081, -0.    ],\n",
       "       [ 0.0009,  0.0051, -0.    ]])"
      ]
     },
     "execution_count": 46,
     "metadata": {},
     "output_type": "execute_result"
    }
   ],
   "source": [
    "rotate_grad(bsym.eqs[6]['op'].apply(AP.af(0)),6)"
   ]
  },
  {
   "cell_type": "code",
   "execution_count": 47,
   "metadata": {},
   "outputs": [
    {
     "data": {
      "text/plain": [
       "array([[ 0.    ,  0.0131,  0.    ],\n",
       "       [ 0.    , -0.0046, -0.    ],\n",
       "       [-0.0014, -0.0081, -0.    ],\n",
       "       [-0.0009,  0.0051, -0.    ],\n",
       "       [ 0.0012, -0.0073, -0.    ],\n",
       "       [ 0.0016,  0.0137, -0.    ],\n",
       "       [ 0.    ,  0.0046,  0.    ],\n",
       "       [-0.    , -0.0201, -0.    ],\n",
       "       [-0.0012, -0.0073, -0.    ],\n",
       "       [-0.0016,  0.0137,  0.    ],\n",
       "       [ 0.0014, -0.0081, -0.    ],\n",
       "       [ 0.0009,  0.0051, -0.    ]])"
      ]
     },
     "execution_count": 47,
     "metadata": {},
     "output_type": "execute_result"
    }
   ],
   "source": [
    "AP.af(6)"
   ]
  },
  {
   "cell_type": "code",
   "execution_count": 48,
   "metadata": {},
   "outputs": [
    {
     "data": {
      "text/plain": [
       "True"
      ]
     },
     "execution_count": 48,
     "metadata": {},
     "output_type": "execute_result"
    }
   ],
   "source": [
    "np.allclose(rotate_grad(bsym.eqs[6]['op'].apply(AP.af(0)),6),AP.af(6))"
   ]
  }
 ],
 "metadata": {
  "kernelspec": {
   "display_name": "Python 3",
   "language": "python",
   "name": "python3"
  },
  "language_info": {
   "codemirror_mode": {
    "name": "ipython",
    "version": 3
   },
   "file_extension": ".py",
   "mimetype": "text/x-python",
   "name": "python",
   "nbconvert_exporter": "python",
   "pygments_lexer": "ipython3",
   "version": "3.7.3"
  }
 },
 "nbformat": 4,
 "nbformat_minor": 2
}
