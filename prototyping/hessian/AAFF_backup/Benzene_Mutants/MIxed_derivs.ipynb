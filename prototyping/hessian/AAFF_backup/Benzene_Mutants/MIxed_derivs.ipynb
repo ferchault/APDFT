{
 "cells": [
  {
   "cell_type": "code",
   "execution_count": 1,
   "metadata": {},
   "outputs": [],
   "source": [
    "import inspect\n",
    "from aaff import aaff,alc_deriv_grad_nuc,alc_differential_grad_nuc\n",
    "from FcMole import FcM,FracMole,FcM_like\n",
    "from pyscf import gto,scf\n",
    "import numpy as np \n",
    "from numpy.linalg import norm as norm\n",
    "from scipy.spatial.transform import Rotation as R\n",
    "import matplotlib.pyplot as plt\n",
    "from pyscf.grad import rhf as grhf\n",
    "from pyscf.hessian import rhf as hrhf\n",
    "import basis_set_exchange as bse\n",
    "from FDcoeffs import *\n",
    "from pyscf.geomopt.berny_solver import optimize\n",
    "ang2bohr=1.8897261246\n",
    "bohr2ang=.5291772109\n",
    "%load_ext autoreload\n",
    "%autoreload 2\n",
    "from AP_class import benz_Symm,APDFT_perturbator,alch_deriv,first_deriv_nuc_nuc,second_deriv_nuc_nuc,DeltaV,alchemy_cphf_deriv\n",
    "from AP_class import first_deriv_elec,second_deriv_elec,third_deriv_elec\n",
    "import AP_class as apc\n",
    "np.set_printoptions(precision=4)"
   ]
  },
  {
   "cell_type": "code",
   "execution_count": 2,
   "metadata": {},
   "outputs": [],
   "source": [
    "benz_atom=\"\"\" \n",
    "C         6.95191249e-13  2.61173060e+00 -1.67580194e-08 ;\n",
    "H         2.83052087e-13  4.63941350e+00 -1.15976219e-08 ;\n",
    "C         2.26182505e+00  1.30586530e+00 -2.37508246e-08 ; \n",
    "H         4.01784995e+00  2.31970675e+00 -9.84687205e-09 ; \n",
    "C         2.26182505e+00 -1.30586530e+00  8.26065094e-09 ; \n",
    "H         4.01784995e+00 -2.31970675e+00  5.83890508e-08 ; \n",
    "C        -8.45954456e-13 -2.61173060e+00 -1.55922267e-08 ; \n",
    "H         1.49445304e-12 -4.63941350e+00 -3.26774154e-08 ; \n",
    "C        -2.26182505e+00 -1.30586530e+00 -8.28266973e-09 ; \n",
    "H        -4.01784995e+00 -2.31970675e+00  1.87236306e-09 ; \n",
    "C        -2.26182505e+00  1.30586530e+00  1.68546675e-08 ; \n",
    "H        -4.01784995e+00  2.31970675e+00  3.31289175e-08 ; \n",
    "\"\"\"\n",
    "Benz = gto.M(atom=benz_atom,unit='bohr',basis='sto-3g',symmetry = 'D6v') #basis={\"H\":\"pc-2\",'C':bse.get_basis(\"pcX-2\",fmt=\"nwchem\",elements=[6])})"
   ]
  },
  {
   "cell_type": "code",
   "execution_count": 3,
   "metadata": {},
   "outputs": [
    {
     "name": "stdout",
     "output_type": "stream",
     "text": [
      "converged SCF energy = -227.890711338273\n"
     ]
    },
    {
     "data": {
      "text/plain": [
       "-227.89071133827343"
      ]
     },
     "execution_count": 3,
     "metadata": {},
     "output_type": "execute_result"
    }
   ],
   "source": [
    "BenzHF=scf.RHF(Benz)\n",
    "BenzHF.scf()"
   ]
  },
  {
   "cell_type": "code",
   "execution_count": 4,
   "metadata": {
    "scrolled": true
   },
   "outputs": [
    {
     "data": {
      "text/plain": [
       "(-14.554808443274133, -1.079627074618511, 0.26021645259666804)"
      ]
     },
     "execution_count": 4,
     "metadata": {},
     "output_type": "execute_result"
    }
   ],
   "source": [
    "d1,d2,d3= alch_deriv(BenzHF,[[0],[1]])\n",
    "d1,d2,d3"
   ]
  },
  {
   "cell_type": "code",
   "execution_count": 5,
   "metadata": {},
   "outputs": [
    {
     "data": {
      "text/plain": [
       "((-433.2936110314304, 282.18849680677613),\n",
       " -227.89071133827343,\n",
       " 205.40289969315694)"
      ]
     },
     "execution_count": 5,
     "metadata": {},
     "output_type": "execute_result"
    }
   ],
   "source": [
    "BenzHF.energy_elec(),BenzHF.e_tot,BenzHF.energy_nuc()"
   ]
  },
  {
   "cell_type": "code",
   "execution_count": 6,
   "metadata": {},
   "outputs": [],
   "source": [
    "dl=1e-3\n",
    "e0=BenzHF.energy_elec()[0]\n",
    "e0n=BenzHF.energy_nuc()\n",
    "fdhf1=scf.RHF(FcM(fcs=[[0,1],[dl,0]],atom=benz_atom,unit='bohr',basis='sto-3g',verbose=1))\n",
    "fdhf1.scf()\n",
    "e1=fdhf1.energy_elec()[0]\n",
    "e1n=fdhf1.energy_nuc()\n",
    "fdhf2=scf.RHF(FcM(fcs=[[0,1],[0,dl]],atom=benz_atom,unit='bohr',basis='sto-3g',verbose=1))\n",
    "fdhf2.scf()\n",
    "e2=fdhf2.energy_elec()[0]\n",
    "e2n=fdhf2.energy_nuc()"
   ]
  },
  {
   "cell_type": "code",
   "execution_count": 7,
   "metadata": {},
   "outputs": [],
   "source": [
    "fdhf3=scf.RHF(FcM(fcs=[[0,1],[dl,dl]],atom=benz_atom,unit='bohr',basis='sto-3g',verbose=1))\n",
    "fdhf3.scf()\n",
    "e3=fdhf3.energy_elec()[0]\n",
    "e3n=fdhf3.energy_nuc()\n",
    "fdhf4=scf.RHF(FcM(fcs=[[0,1],[-2*dl,2*dl]],atom=benz_atom,unit='bohr',basis='sto-3g',verbose=1))\n",
    "fdhf4.scf()\n",
    "e4=fdhf4.energy_elec()[0]\n",
    "e4n=fdhf4.energy_nuc()"
   ]
  },
  {
   "cell_type": "code",
   "execution_count": 8,
   "metadata": {},
   "outputs": [
    {
     "data": {
      "text/plain": [
       "(-0.01704063379293075, 0.4931737294100458)"
      ]
     },
     "execution_count": 8,
     "metadata": {},
     "output_type": "execute_result"
    }
   ],
   "source": [
    "((e3-e2)-(e1-e0))/dl**2 ,((e3n-e2n)-(e1n-e0n))/dl**2# = d/dZ3(dE/dZ0 )"
   ]
  },
  {
   "cell_type": "code",
   "execution_count": 9,
   "metadata": {},
   "outputs": [
    {
     "data": {
      "text/plain": [
       "0.4964690679154011"
      ]
     },
     "execution_count": 9,
     "metadata": {},
     "output_type": "execute_result"
    }
   ],
   "source": [
    "second_deriv_nuc_nuc(Benz,[[0,3],[1,1]])"
   ]
  },
  {
   "cell_type": "code",
   "execution_count": 10,
   "metadata": {},
   "outputs": [
    {
     "data": {
      "text/plain": [
       "-0.01704063379293075"
      ]
     },
     "execution_count": 10,
     "metadata": {},
     "output_type": "execute_result"
    }
   ],
   "source": [
    "((e3-e2)-(e1-e0))/dl**2 # = d/dZ3(dE/dZ0 )"
   ]
  },
  {
   "cell_type": "code",
   "execution_count": 11,
   "metadata": {},
   "outputs": [
    {
     "data": {
      "text/plain": [
       "0.0658700665306905"
      ]
     },
     "execution_count": 11,
     "metadata": {},
     "output_type": "execute_result"
    }
   ],
   "source": [
    "mo1=alchemy_cphf_deriv(BenzHF,DeltaV(Benz,[[3],[1]]))[0]\n",
    "second_deriv_elec(BenzHF,DeltaV(Benz,[[0],[1]]),mo1)"
   ]
  },
  {
   "cell_type": "code",
   "execution_count": 12,
   "metadata": {},
   "outputs": [
    {
     "data": {
      "text/plain": [
       "0.4931737294100458"
      ]
     },
     "execution_count": 12,
     "metadata": {},
     "output_type": "execute_result"
    }
   ],
   "source": [
    "((e3n-e1n)-(e2n-e0n))/dl**2 #= d/dZ0(dE/dZ3 )"
   ]
  },
  {
   "cell_type": "code",
   "execution_count": 13,
   "metadata": {},
   "outputs": [
    {
     "data": {
      "text/plain": [
       "0.4964690679154011"
      ]
     },
     "execution_count": 13,
     "metadata": {},
     "output_type": "execute_result"
    }
   ],
   "source": [
    "second_deriv_nuc_nuc(Benz,[[0,3],[1,1]])"
   ]
  },
  {
   "cell_type": "code",
   "execution_count": 14,
   "metadata": {
    "scrolled": true
   },
   "outputs": [
    {
     "data": {
      "text/plain": [
       "(-14.554808443274133, -1.0796270746185113, 0.2602164525966687)"
      ]
     },
     "execution_count": 14,
     "metadata": {},
     "output_type": "execute_result"
    }
   ],
   "source": [
    "d1,d2,d3= alch_deriv(BenzHF,[[0],[1]])\n",
    "d1,d2,d3"
   ]
  },
  {
   "cell_type": "code",
   "execution_count": 15,
   "metadata": {},
   "outputs": [],
   "source": [
    "AP=APDFT_perturbator(BenzHF,sites=[x for x in range(12)])"
   ]
  },
  {
   "cell_type": "code",
   "execution_count": 16,
   "metadata": {},
   "outputs": [
    {
     "data": {
      "text/plain": [
       "(array([-14.5548,  -1.1429, -14.5548,  -1.1429, -14.5548,  -1.1429,\n",
       "        -14.5548,  -1.1429, -14.5548,  -1.1429, -14.5548,  -1.1429]),\n",
       " array([[-1.0796,  0.4762,  0.4004,  0.3141,  0.2636,  0.2485,  0.296 ,\n",
       "          0.2632,  0.2636,  0.2485,  0.4004,  0.3141],\n",
       "        [ 0.4762, -0.7568,  0.3141,  0.2854,  0.2485,  0.2321,  0.2632,\n",
       "          0.2374,  0.2485,  0.2321,  0.3141,  0.2854],\n",
       "        [ 0.4004,  0.3141, -1.0796,  0.4762,  0.4004,  0.3141,  0.2636,\n",
       "          0.2485,  0.296 ,  0.2632,  0.2636,  0.2485],\n",
       "        [ 0.3141,  0.2854,  0.4762, -0.7568,  0.3141,  0.2854,  0.2485,\n",
       "          0.2321,  0.2632,  0.2374,  0.2485,  0.2321],\n",
       "        [ 0.2636,  0.2485,  0.4004,  0.3141, -1.0796,  0.4762,  0.4004,\n",
       "          0.3141,  0.2636,  0.2485,  0.296 ,  0.2632],\n",
       "        [ 0.2485,  0.2321,  0.3141,  0.2854,  0.4762, -0.7568,  0.3141,\n",
       "          0.2854,  0.2485,  0.2321,  0.2632,  0.2374],\n",
       "        [ 0.296 ,  0.2632,  0.2636,  0.2485,  0.4004,  0.3141, -1.0796,\n",
       "          0.4762,  0.4004,  0.3141,  0.2636,  0.2485],\n",
       "        [ 0.2632,  0.2374,  0.2485,  0.2321,  0.3141,  0.2854,  0.4762,\n",
       "         -0.7568,  0.3141,  0.2854,  0.2485,  0.2321],\n",
       "        [ 0.2636,  0.2485,  0.296 ,  0.2632,  0.2636,  0.2485,  0.4004,\n",
       "          0.3141, -1.0796,  0.4762,  0.4004,  0.3141],\n",
       "        [ 0.2485,  0.2321,  0.2632,  0.2374,  0.2485,  0.2321,  0.3141,\n",
       "          0.2854,  0.4762, -0.7568,  0.3141,  0.2854],\n",
       "        [ 0.4004,  0.3141,  0.2636,  0.2485,  0.296 ,  0.2632,  0.2636,\n",
       "          0.2485,  0.4004,  0.3141, -1.0796,  0.4762],\n",
       "        [ 0.3141,  0.2854,  0.2485,  0.2321,  0.2632,  0.2374,  0.2485,\n",
       "          0.2321,  0.3141,  0.2854,  0.4762, -0.7568]]),\n",
       " array([[[-2.6022e-01,  2.6421e-02,  1.2256e-02, ...,  2.5711e-03,\n",
       "           1.2256e-02, -3.0184e-04],\n",
       "         [ 2.6421e-02,  5.7122e-02, -6.3142e-03, ..., -5.3245e-03,\n",
       "          -6.3142e-03, -6.1583e-03],\n",
       "         [ 1.2256e-02, -6.3142e-03,  1.2256e-02, ...,  2.7780e-04,\n",
       "          -1.8917e-04, -9.0744e-04],\n",
       "         ...,\n",
       "         [ 2.5711e-03, -5.3245e-03,  2.7780e-04, ..., -1.0834e-02,\n",
       "          -9.0744e-04,  6.9185e-03],\n",
       "         [ 1.2256e-02, -6.3142e-03, -1.8917e-04, ..., -9.0744e-04,\n",
       "           1.2256e-02, -6.3142e-03],\n",
       "         [-3.0184e-04, -6.1583e-03, -9.0744e-04, ...,  6.9185e-03,\n",
       "          -6.3142e-03, -1.4116e-02]],\n",
       " \n",
       "        [[ 2.6421e-02,  5.7122e-02, -6.3142e-03, ..., -5.3245e-03,\n",
       "          -6.3142e-03, -6.1583e-03],\n",
       "         [ 5.7122e-02,  1.2271e-01, -1.4116e-02, ..., -9.0877e-03,\n",
       "          -1.4116e-02, -7.5124e-03],\n",
       "         [-6.3142e-03, -1.4116e-02, -3.0184e-04, ...,  2.7555e-03,\n",
       "           5.2100e-03,  6.9185e-03],\n",
       "         ...,\n",
       "         [-5.3245e-03, -9.0877e-03,  2.7555e-03, ..., -9.0877e-03,\n",
       "          -4.5646e-04,  4.6438e-04],\n",
       "         [-6.3142e-03, -1.4116e-02,  5.2100e-03, ..., -4.5646e-04,\n",
       "          -3.0184e-04, -6.1583e-03],\n",
       "         [-6.1583e-03, -7.5124e-03,  6.9185e-03, ...,  4.6438e-04,\n",
       "          -6.1583e-03, -7.5124e-03]],\n",
       " \n",
       "        [[ 1.2256e-02, -6.3142e-03,  1.2256e-02, ...,  2.7780e-04,\n",
       "          -1.8917e-04, -9.0744e-04],\n",
       "         [-6.3142e-03, -1.4116e-02, -3.0184e-04, ...,  2.7555e-03,\n",
       "           5.2100e-03,  6.9185e-03],\n",
       "         [ 1.2256e-02, -3.0184e-04, -2.6022e-01, ..., -6.2904e-03,\n",
       "           3.3835e-03,  2.5711e-03],\n",
       "         ...,\n",
       "         [ 2.7780e-04,  2.7555e-03, -6.2904e-03, ..., -8.0380e-03,\n",
       "           2.1743e-04,  6.9560e-04],\n",
       "         [-1.8917e-04,  5.2100e-03,  3.3835e-03, ...,  2.1743e-04,\n",
       "           3.3835e-03, -5.7376e-03],\n",
       "         [-9.0744e-04,  6.9185e-03,  2.5711e-03, ...,  6.9560e-04,\n",
       "          -5.7376e-03, -1.0834e-02]],\n",
       " \n",
       "        ...,\n",
       " \n",
       "        [[ 2.5711e-03, -5.3245e-03,  2.7780e-04, ..., -1.0834e-02,\n",
       "          -9.0744e-04,  6.9185e-03],\n",
       "         [-5.3245e-03, -9.0877e-03,  2.7555e-03, ..., -9.0877e-03,\n",
       "          -4.5646e-04,  4.6438e-04],\n",
       "         [ 2.7780e-04,  2.7555e-03, -6.2904e-03, ..., -8.0380e-03,\n",
       "           2.1743e-04,  6.9560e-04],\n",
       "         ...,\n",
       "         [-1.0834e-02, -9.0877e-03, -8.0380e-03, ...,  1.2271e-01,\n",
       "          -1.4116e-02, -7.5124e-03],\n",
       "         [-9.0744e-04, -4.5646e-04,  2.1743e-04, ..., -1.4116e-02,\n",
       "          -3.0184e-04, -6.1583e-03],\n",
       "         [ 6.9185e-03,  4.6438e-04,  6.9560e-04, ..., -7.5124e-03,\n",
       "          -6.1583e-03, -7.5124e-03]],\n",
       " \n",
       "        [[ 1.2256e-02, -6.3142e-03, -1.8917e-04, ..., -9.0744e-04,\n",
       "           1.2256e-02, -6.3142e-03],\n",
       "         [-6.3142e-03, -1.4116e-02,  5.2100e-03, ..., -4.5646e-04,\n",
       "          -3.0184e-04, -6.1583e-03],\n",
       "         [-1.8917e-04,  5.2100e-03,  3.3835e-03, ...,  2.1743e-04,\n",
       "           3.3835e-03, -5.7376e-03],\n",
       "         ...,\n",
       "         [-9.0744e-04, -4.5646e-04,  2.1743e-04, ..., -1.4116e-02,\n",
       "          -3.0184e-04, -6.1583e-03],\n",
       "         [ 1.2256e-02, -3.0184e-04,  3.3835e-03, ..., -3.0184e-04,\n",
       "          -2.6022e-01,  2.6421e-02],\n",
       "         [-6.3142e-03, -6.1583e-03, -5.7376e-03, ..., -6.1583e-03,\n",
       "           2.6421e-02,  5.7122e-02]],\n",
       " \n",
       "        [[-3.0184e-04, -6.1583e-03, -9.0744e-04, ...,  6.9185e-03,\n",
       "          -6.3142e-03, -1.4116e-02],\n",
       "         [-6.1583e-03, -7.5124e-03,  6.9185e-03, ...,  4.6438e-04,\n",
       "          -6.1583e-03, -7.5124e-03],\n",
       "         [-9.0744e-04,  6.9185e-03,  2.5711e-03, ...,  6.9560e-04,\n",
       "          -5.7376e-03, -1.0834e-02],\n",
       "         ...,\n",
       "         [ 6.9185e-03,  4.6438e-04,  6.9560e-04, ..., -7.5124e-03,\n",
       "          -6.1583e-03, -7.5124e-03],\n",
       "         [-6.3142e-03, -6.1583e-03, -5.7376e-03, ..., -6.1583e-03,\n",
       "           2.6421e-02,  5.7122e-02],\n",
       "         [-1.4116e-02, -7.5124e-03, -1.0834e-02, ..., -7.5124e-03,\n",
       "           5.7122e-02,  1.2271e-01]]]))"
      ]
     },
     "execution_count": 16,
     "metadata": {},
     "output_type": "execute_result"
    }
   ],
   "source": [
    "AP.build_gradient(*AP.sites),AP.build_hessian(*AP.sites),AP.build_cubic_hessian(*AP.sites)"
   ]
  },
  {
   "cell_type": "code",
   "execution_count": 17,
   "metadata": {},
   "outputs": [],
   "source": [
    "b2p=FcM_like(Benz,[[0,2],[-1,1]])"
   ]
  },
  {
   "cell_type": "code",
   "execution_count": 18,
   "metadata": {},
   "outputs": [],
   "source": [
    "b2mf=scf.RHF(b2p)"
   ]
  },
  {
   "cell_type": "code",
   "execution_count": 19,
   "metadata": {
    "scrolled": true
   },
   "outputs": [
    {
     "name": "stdout",
     "output_type": "stream",
     "text": [
      "converged SCF energy = -229.396518336255\n"
     ]
    },
    {
     "name": "stderr",
     "output_type": "stream",
     "text": [
      "/home/administrator/anaconda3/lib/python3.7/site-packages/pyscf/gto/mole.py:1072: UserWarning: Function mol.dumps drops attribute with_rinv_at_nucleus because it is not JSON-serializable\n",
      "  warnings.warn(msg)\n"
     ]
    },
    {
     "data": {
      "text/plain": [
       "-229.3965183362555"
      ]
     },
     "execution_count": 19,
     "metadata": {},
     "output_type": "execute_result"
    }
   ],
   "source": [
    "b2mf.scf()"
   ]
  },
  {
   "cell_type": "code",
   "execution_count": 20,
   "metadata": {},
   "outputs": [
    {
     "name": "stdout",
     "output_type": "stream",
     "text": [
      "converged SCF energy = -229.396518336226\n"
     ]
    },
    {
     "data": {
      "text/plain": [
       "-229.3965183362256"
      ]
     },
     "execution_count": 20,
     "metadata": {},
     "output_type": "execute_result"
    }
   ],
   "source": [
    "b2mf.max_cycle=50 \n",
    "b2mf.scf(dm0=b2mf.init_guess_by_1e())"
   ]
  },
  {
   "cell_type": "code",
   "execution_count": 21,
   "metadata": {},
   "outputs": [],
   "source": [
    "def targ_energy(pvec):\n",
    "    b2p=FcM_like(Benz,pvec.tolist())\n",
    "    b2mf=scf.RHF(b2p)\n",
    "    return b2mf.scf()"
   ]
  },
  {
   "cell_type": "code",
   "execution_count": 22,
   "metadata": {},
   "outputs": [],
   "source": [
    "pvec21=apc.parse_to_array(12,[[0,2],[1,-1]])\n",
    "pvec22=apc.parse_to_array(12,[[0,3],[1,-1]])\n",
    "pvec23=apc.parse_to_array(12,[[0,6],[1,0]])"
   ]
  },
  {
   "cell_type": "code",
   "execution_count": 23,
   "metadata": {},
   "outputs": [
    {
     "name": "stdout",
     "output_type": "stream",
     "text": [
      "converged SCF energy = -229.396518336244\n"
     ]
    },
    {
     "data": {
      "text/plain": [
       "(-227.89071133829376,\n",
       " -229.37070393795392,\n",
       " -229.3707039379321,\n",
       " -229.39651833624382)"
      ]
     },
     "execution_count": 23,
     "metadata": {},
     "output_type": "execute_result"
    }
   ],
   "source": [
    "AP.APDFT1(pvec21),AP.APDFT2(pvec21),AP.APDFT3(pvec21),AP.targ_energy(pvec21)"
   ]
  },
  {
   "cell_type": "code",
   "execution_count": 24,
   "metadata": {},
   "outputs": [
    {
     "name": "stdout",
     "output_type": "stream",
     "text": [
      "converged SCF energy = -242.434488202582\n"
     ]
    },
    {
     "data": {
      "text/plain": [
       "(-241.30257728376176,\n",
       " -242.53490561942365,\n",
       " -242.46417806683507,\n",
       " -242.43448820258175)"
      ]
     },
     "execution_count": 24,
     "metadata": {},
     "output_type": "execute_result"
    }
   ],
   "source": [
    "AP.APDFT1(pvec22),AP.APDFT2(pvec22),AP.APDFT3(pvec22),targ_energy(pvec22)"
   ]
  },
  {
   "cell_type": "code",
   "execution_count": 25,
   "metadata": {},
   "outputs": [
    {
     "name": "stdout",
     "output_type": "stream",
     "text": [
      "converged SCF energy = -242.951354669314\n"
     ]
    },
    {
     "data": {
      "text/plain": [
       "(-242.44551978154757,\n",
       " -242.98533331885682,\n",
       " -242.9419639100907,\n",
       " -242.95135466931353)"
      ]
     },
     "execution_count": 25,
     "metadata": {},
     "output_type": "execute_result"
    }
   ],
   "source": [
    "AP.APDFT1(pvec23),AP.APDFT2(pvec23),AP.APDFT3(pvec23),targ_energy(pvec23)"
   ]
  },
  {
   "cell_type": "code",
   "execution_count": 26,
   "metadata": {},
   "outputs": [
    {
     "data": {
      "text/plain": [
       "(-2.0364890329638285e-11,\n",
       " -1.479992600277654,\n",
       " 2.1886329554243744e-11,\n",
       " -227.8907113382938,\n",
       " -229.37070393857147,\n",
       " -229.37070393854958)"
      ]
     },
     "execution_count": 26,
     "metadata": {},
     "output_type": "execute_result"
    }
   ],
   "source": [
    "d1,d2,d3= alch_deriv(BenzHF,pvec21.tolist())\n",
    "d1,d2/2,d3/6,AP.mf.e_tot+d1,AP.mf.e_tot+d1+.5*d2,AP.mf.e_tot+d1+d2*.5+1/6*d3"
   ]
  },
  {
   "cell_type": "code",
   "execution_count": 27,
   "metadata": {},
   "outputs": [],
   "source": [
    "import inspect\n",
    "from berny import Berny, geomlib, coords,Geometry"
   ]
  },
  {
   "cell_type": "code",
   "execution_count": 28,
   "metadata": {},
   "outputs": [],
   "source": [
    "m21=AP.targ_mol(pvec21)"
   ]
  },
  {
   "cell_type": "code",
   "execution_count": 29,
   "metadata": {},
   "outputs": [
    {
     "data": {
      "text/plain": [
       "array([7., 1., 5., 1., 6., 1., 6., 1., 6., 1., 6., 1.])"
      ]
     },
     "execution_count": 29,
     "metadata": {},
     "output_type": "execute_result"
    }
   ],
   "source": [
    "m21.atom_charges()"
   ]
  },
  {
   "cell_type": "code",
   "execution_count": 30,
   "metadata": {},
   "outputs": [
    {
     "data": {
      "text/plain": [
       "'B'"
      ]
     },
     "execution_count": 30,
     "metadata": {},
     "output_type": "execute_result"
    }
   ],
   "source": [
    "charge2symbol={1:\"H\",2:\"He\",3:\"Li\",4:\"Be\",5:\"B\",6:\"C\",7:\"N\",8:\"O\",9:\"F\",10:\"Ne\"}\n",
    "\n",
    "charge2symbol[m21.atom_charge(2)]"
   ]
  },
  {
   "cell_type": "code",
   "execution_count": 31,
   "metadata": {},
   "outputs": [],
   "source": [
    "charge2symbol={1:\"H\",2:\"He\",3:\"Li\",4:\"Be\",5:\"B\",6:\"C\",7:\"N\",8:\"O\",9:\"F\",10:\"Ne\"}\n",
    "pbg=Geometry([charge2symbol[x] for x in m21.atom_charges()],m21.atom_coords()*bohr2ang)"
   ]
  },
  {
   "cell_type": "code",
   "execution_count": 32,
   "metadata": {},
   "outputs": [],
   "source": [
    "b=Berny(pbg,debug=True)"
   ]
  },
  {
   "cell_type": "code",
   "execution_count": 33,
   "metadata": {},
   "outputs": [
    {
     "name": "stdout",
     "output_type": "stream",
     "text": [
      "No AF found for atom 0. Calculating it from code\n"
     ]
    },
    {
     "data": {
      "text/plain": [
       "{'geom': <Geometry 'BC4H6N'>,\n",
       " 'params': {'gradientmax': 0.00045,\n",
       "  'gradientrms': 0.00015,\n",
       "  'stepmax': 0.0018,\n",
       "  'steprms': 0.0012,\n",
       "  'trust': 0.3,\n",
       "  'dihedral': True,\n",
       "  'superweakdih': False},\n",
       " 'trust': 0.3,\n",
       " 'coords': <InternalCoords \"bonds: 12, angles: 18, dihedrals: 24\">,\n",
       " 'H': array([[0.4733, 0.    , 0.    , ..., 0.    , 0.    , 0.    ],\n",
       "        [0.    , 0.5072, 0.    , ..., 0.    , 0.    , 0.    ],\n",
       "        [0.    , 0.    , 0.4927, ..., 0.    , 0.    , 0.    ],\n",
       "        ...,\n",
       "        [0.    , 0.    , 0.    , ..., 0.0066, 0.    , 0.    ],\n",
       "        [0.    , 0.    , 0.    , ..., 0.    , 0.0065, 0.    ],\n",
       "        [0.    , 0.    , 0.    , ..., 0.    , 0.    , 0.0063]]),\n",
       " 'weights': array([1.0517, 1.1272, 1.095 , 1.1116, 1.1397, 1.0692, 1.108 , 1.0692,\n",
       "        1.108 , 1.0692, 1.108 , 1.0692, 0.9604, 0.9466, 0.98  , 0.9874,\n",
       "        0.9998, 0.9929, 0.9738, 0.9913, 0.9601, 0.9601, 0.9774, 0.9601,\n",
       "        0.9601, 0.9774, 0.9601, 0.9716, 0.9545, 0.9601, 0.8531, 0.8602,\n",
       "        0.8646, 0.8718, 0.844 , 0.834 , 0.8637, 0.8535, 0.8649, 0.8753,\n",
       "        0.861 , 0.8712, 0.86  , 0.8703, 0.8419, 0.852 , 0.852 , 0.8621,\n",
       "        0.8419, 0.852 , 0.8587, 0.852 , 0.8486, 0.8419]),\n",
       " 'future': Point(q=array([ 1.9752e+00,  2.6117e+00,  2.5914e+00,  2.0774e+00,  2.6313e+00,\n",
       "         2.0131e+00,  2.6244e+00,  2.0405e+00,  2.6118e+00,  2.0148e+00,\n",
       "         2.5992e+00,  2.0423e+00,  2.1315e+00,  1.9941e+00,  2.1575e+00,\n",
       "         2.0620e+00,  2.0323e+00,  2.1889e+00,  2.1384e+00,  2.0877e+00,\n",
       "         2.0571e+00,  2.0938e+00,  2.1479e+00,  2.0415e+00,  2.1474e+00,\n",
       "         2.0407e+00,  2.0951e+00,  2.1003e+00,  2.0500e+00,  2.1329e+00,\n",
       "         2.9802e-08, -3.1416e+00,  3.1416e+00, -1.2014e-07, -3.1416e+00,\n",
       "        -0.0000e+00,  1.0745e-07, -3.1416e+00,  3.1416e+00,  2.5810e-08,\n",
       "        -3.6500e-08,  3.1416e+00, -3.1416e+00,  8.4294e-08,  2.5810e-08,\n",
       "        -3.1416e+00,  3.1416e+00, -1.0106e-07,  0.0000e+00, -3.1416e+00,\n",
       "         0.0000e+00,  3.1416e+00,  3.1416e+00,  0.0000e+00]), E=None, g=None),\n",
       " 'first': False,\n",
       " 'interpolated': Point(q=array([ 2.0277e+00,  2.6117e+00,  2.6117e+00,  2.0277e+00,  2.6117e+00,\n",
       "         2.0277e+00,  2.6117e+00,  2.0277e+00,  2.6117e+00,  2.0277e+00,\n",
       "         2.6117e+00,  2.0277e+00,  2.0944e+00,  2.0944e+00,  2.0944e+00,\n",
       "         2.0944e+00,  2.0944e+00,  2.0944e+00,  2.0944e+00,  2.0944e+00,\n",
       "         2.0944e+00,  2.0944e+00,  2.0944e+00,  2.0944e+00,  2.0944e+00,\n",
       "         2.0944e+00,  2.0944e+00,  2.0944e+00,  2.0944e+00,  2.0944e+00,\n",
       "        -2.5810e-08, -3.1416e+00,  3.1416e+00,  0.0000e+00, -3.1416e+00,\n",
       "        -0.0000e+00,  2.1073e-08, -3.1416e+00,  3.1416e+00, -3.3320e-08,\n",
       "        -1.4901e-08,  3.1416e+00, -3.1416e+00,  2.5810e-08,  2.5810e-08,\n",
       "        -3.1416e+00,  3.1416e+00, -0.0000e+00, -0.0000e+00, -3.1416e+00,\n",
       "        -2.1073e-08,  3.1416e+00,  3.1416e+00,  0.0000e+00]), E=-229.3707039379321, g=array([ 2.5514e-02, -5.5414e-12,  9.3888e-03, -2.5514e-02, -9.3888e-03,\n",
       "         7.2112e-03, -5.5608e-03, -6.3436e-03, -4.2296e-12,  6.3436e-03,\n",
       "         5.5608e-03, -7.2112e-03, -6.1691e-03,  1.9513e-02, -1.3344e-02,\n",
       "         6.1691e-03,  1.3344e-02, -1.9513e-02, -9.3865e-03,  3.0544e-03,\n",
       "         6.3322e-03, -2.1253e-04, -9.5388e-03,  9.7513e-03, -9.7513e-03,\n",
       "         9.5388e-03,  2.1253e-04, -3.0544e-03,  9.3865e-03, -6.3322e-03,\n",
       "        -9.6067e-10,  4.9018e-10,  1.0148e-09,  2.3944e-09, -2.7295e-10,\n",
       "         6.3486e-11, -1.7357e-09, -1.5885e-09, -1.2513e-09, -1.0342e-09,\n",
       "         3.7575e-10,  2.6903e-10, -5.8371e-11, -1.0440e-09, -2.1009e-10,\n",
       "        -1.1629e-09,  8.4703e-10,  1.9046e-09, -3.0545e-10,  7.0295e-10,\n",
       "        -5.7147e-10, -8.9350e-10,  4.8587e-10,  9.1979e-11])),\n",
       " 'predicted': Point(q=array([ 1.9752e+00,  2.6115e+00,  2.5913e+00,  2.0774e+00,  2.6312e+00,\n",
       "         2.0131e+00,  2.6245e+00,  2.0405e+00,  2.6119e+00,  2.0148e+00,\n",
       "         2.5992e+00,  2.0423e+00,  2.1316e+00,  1.9942e+00,  2.1573e+00,\n",
       "         2.0621e+00,  2.0321e+00,  2.1890e+00,  2.1384e+00,  2.0877e+00,\n",
       "         2.0571e+00,  2.0937e+00,  2.1481e+00,  2.0414e+00,  2.1473e+00,\n",
       "         2.0409e+00,  2.0950e+00,  2.1003e+00,  2.0500e+00,  2.1330e+00,\n",
       "         1.3197e-08, -3.1416e+00,  3.1416e+00, -1.2608e-07, -3.1416e+00,\n",
       "        -1.2918e-08,  1.0888e-07, -3.1416e+00,  3.1416e+00,  2.0597e-08,\n",
       "        -3.6092e-08,  3.1416e+00, -3.1416e+00,  8.3083e-08,  2.8058e-08,\n",
       "        -3.1416e+00,  3.1416e+00, -9.6517e-08,  9.9520e-09, -3.1416e+00,\n",
       "         3.1585e-09,  3.1416e+00,  3.1416e+00, -1.2267e-08]), E=-229.3774532923982, g=None),\n",
       " 'previous': Point(q=array([ 2.0277e+00,  2.6117e+00,  2.6117e+00,  2.0277e+00,  2.6117e+00,\n",
       "         2.0277e+00,  2.6117e+00,  2.0277e+00,  2.6117e+00,  2.0277e+00,\n",
       "         2.6117e+00,  2.0277e+00,  2.0944e+00,  2.0944e+00,  2.0944e+00,\n",
       "         2.0944e+00,  2.0944e+00,  2.0944e+00,  2.0944e+00,  2.0944e+00,\n",
       "         2.0944e+00,  2.0944e+00,  2.0944e+00,  2.0944e+00,  2.0944e+00,\n",
       "         2.0944e+00,  2.0944e+00,  2.0944e+00,  2.0944e+00,  2.0944e+00,\n",
       "        -2.5810e-08, -3.1416e+00,  3.1416e+00,  0.0000e+00, -3.1416e+00,\n",
       "        -0.0000e+00,  2.1073e-08, -3.1416e+00,  3.1416e+00, -3.3320e-08,\n",
       "        -1.4901e-08,  3.1416e+00, -3.1416e+00,  2.5810e-08,  2.5810e-08,\n",
       "        -3.1416e+00,  3.1416e+00, -0.0000e+00, -0.0000e+00, -3.1416e+00,\n",
       "        -2.1073e-08,  3.1416e+00,  3.1416e+00,  0.0000e+00]), E=-229.3707039379321, g=array([ 2.5514e-02, -5.5414e-12,  9.3888e-03, -2.5514e-02, -9.3888e-03,\n",
       "         7.2112e-03, -5.5608e-03, -6.3436e-03, -4.2296e-12,  6.3436e-03,\n",
       "         5.5608e-03, -7.2112e-03, -6.1691e-03,  1.9513e-02, -1.3344e-02,\n",
       "         6.1691e-03,  1.3344e-02, -1.9513e-02, -9.3865e-03,  3.0544e-03,\n",
       "         6.3322e-03, -2.1253e-04, -9.5388e-03,  9.7513e-03, -9.7513e-03,\n",
       "         9.5388e-03,  2.1253e-04, -3.0544e-03,  9.3865e-03, -6.3322e-03,\n",
       "        -9.6067e-10,  4.9018e-10,  1.0148e-09,  2.3944e-09, -2.7295e-10,\n",
       "         6.3486e-11, -1.7357e-09, -1.5885e-09, -1.2513e-09, -1.0342e-09,\n",
       "         3.7575e-10,  2.6903e-10, -5.8371e-11, -1.0440e-09, -2.1009e-10,\n",
       "        -1.1629e-09,  8.4703e-10,  1.9046e-09, -3.0545e-10,  7.0295e-10,\n",
       "        -5.7147e-10, -8.9350e-10,  4.8587e-10,  9.1979e-11])),\n",
       " 'best': Point(q=array([ 2.0277e+00,  2.6117e+00,  2.6117e+00,  2.0277e+00,  2.6117e+00,\n",
       "         2.0277e+00,  2.6117e+00,  2.0277e+00,  2.6117e+00,  2.0277e+00,\n",
       "         2.6117e+00,  2.0277e+00,  2.0944e+00,  2.0944e+00,  2.0944e+00,\n",
       "         2.0944e+00,  2.0944e+00,  2.0944e+00,  2.0944e+00,  2.0944e+00,\n",
       "         2.0944e+00,  2.0944e+00,  2.0944e+00,  2.0944e+00,  2.0944e+00,\n",
       "         2.0944e+00,  2.0944e+00,  2.0944e+00,  2.0944e+00,  2.0944e+00,\n",
       "        -2.5810e-08, -3.1416e+00,  3.1416e+00,  0.0000e+00, -3.1416e+00,\n",
       "        -0.0000e+00,  2.1073e-08, -3.1416e+00,  3.1416e+00, -3.3320e-08,\n",
       "        -1.4901e-08,  3.1416e+00, -3.1416e+00,  2.5810e-08,  2.5810e-08,\n",
       "        -3.1416e+00,  3.1416e+00, -0.0000e+00, -0.0000e+00, -3.1416e+00,\n",
       "        -2.1073e-08,  3.1416e+00,  3.1416e+00,  0.0000e+00]), E=-229.3707039379321, g=array([ 2.5514e-02, -5.5414e-12,  9.3888e-03, -2.5514e-02, -9.3888e-03,\n",
       "         7.2112e-03, -5.5608e-03, -6.3436e-03, -4.2296e-12,  6.3436e-03,\n",
       "         5.5608e-03, -7.2112e-03, -6.1691e-03,  1.9513e-02, -1.3344e-02,\n",
       "         6.1691e-03,  1.3344e-02, -1.9513e-02, -9.3865e-03,  3.0544e-03,\n",
       "         6.3322e-03, -2.1253e-04, -9.5388e-03,  9.7513e-03, -9.7513e-03,\n",
       "         9.5388e-03,  2.1253e-04, -3.0544e-03,  9.3865e-03, -6.3322e-03,\n",
       "        -9.6067e-10,  4.9018e-10,  1.0148e-09,  2.3944e-09, -2.7295e-10,\n",
       "         6.3486e-11, -1.7357e-09, -1.5885e-09, -1.2513e-09, -1.0342e-09,\n",
       "         3.7575e-10,  2.6903e-10, -5.8371e-11, -1.0440e-09, -2.1009e-10,\n",
       "        -1.1629e-09,  8.4703e-10,  1.9046e-09, -3.0545e-10,  7.0295e-10,\n",
       "        -5.7147e-10, -8.9350e-10,  4.8587e-10,  9.1979e-11]))}"
      ]
     },
     "execution_count": 33,
     "metadata": {},
     "output_type": "execute_result"
    }
   ],
   "source": [
    "b.send((AP.APDFT3(pvec21),AP.af(0)-AP.af(2)))  #  fcs=[0,2],[1,-1]"
   ]
  },
  {
   "cell_type": "code",
   "execution_count": 42,
   "metadata": {},
   "outputs": [
    {
     "data": {
      "text/plain": [
       "(54,)"
      ]
     },
     "execution_count": 42,
     "metadata": {},
     "output_type": "execute_result"
    }
   ],
   "source": [
    "b._state.previous.g.shape  #len=54 = 12 bonds, 18 angles, 24 dihedrals "
   ]
  },
  {
   "cell_type": "code",
   "execution_count": 73,
   "metadata": {},
   "outputs": [
    {
     "name": "stdout",
     "output_type": "stream",
     "text": [
      "CPU times: user 162 µs, sys: 9 µs, total: 171 µs\n",
      "Wall time: 220 µs\n"
     ]
    },
    {
     "data": {
      "text/plain": [
       "-242.9419639100908"
      ]
     },
     "execution_count": 73,
     "metadata": {},
     "output_type": "execute_result"
    }
   ],
   "source": [
    "%time AP.APDFT3(pvec23)"
   ]
  },
  {
   "cell_type": "code",
   "execution_count": 96,
   "metadata": {},
   "outputs": [
    {
     "data": {
      "text/plain": [
       "['Point',\n",
       " 'State',\n",
       " '__abstractmethods__',\n",
       " '__class__',\n",
       " '__delattr__',\n",
       " '__dict__',\n",
       " '__dir__',\n",
       " '__doc__',\n",
       " '__eq__',\n",
       " '__format__',\n",
       " '__ge__',\n",
       " '__getattribute__',\n",
       " '__gt__',\n",
       " '__hash__',\n",
       " '__init__',\n",
       " '__init_subclass__',\n",
       " '__iter__',\n",
       " '__le__',\n",
       " '__lt__',\n",
       " '__module__',\n",
       " '__ne__',\n",
       " '__new__',\n",
       " '__next__',\n",
       " '__reduce__',\n",
       " '__reduce_ex__',\n",
       " '__repr__',\n",
       " '__setattr__',\n",
       " '__sizeof__',\n",
       " '__slots__',\n",
       " '__str__',\n",
       " '__subclasshook__',\n",
       " '__weakref__',\n",
       " '_abc_impl',\n",
       " '_converged',\n",
       " '_debug',\n",
       " '_log',\n",
       " '_log_extra',\n",
       " '_maxsteps',\n",
       " '_n',\n",
       " '_state',\n",
       " 'close',\n",
       " 'converged',\n",
       " 'send',\n",
       " 'throw',\n",
       " 'trust']"
      ]
     },
     "execution_count": 96,
     "metadata": {},
     "output_type": "execute_result"
    }
   ],
   "source": [
    "dir(b)"
   ]
  },
  {
   "cell_type": "code",
   "execution_count": 100,
   "metadata": {},
   "outputs": [
    {
     "data": {
      "text/plain": [
       "berny.berny.Berny.State"
      ]
     },
     "execution_count": 100,
     "metadata": {},
     "output_type": "execute_result"
    }
   ],
   "source": [
    "b.State"
   ]
  },
  {
   "cell_type": "code",
   "execution_count": 83,
   "metadata": {},
   "outputs": [
    {
     "ename": "TypeError",
     "evalue": "not enough arguments for format string",
     "output_type": "error",
     "traceback": [
      "\u001b[0;31m---------------------------------------------------------------------------\u001b[0m",
      "\u001b[0;31mTypeError\u001b[0m                                 Traceback (most recent call last)",
      "\u001b[0;32m<ipython-input-83-0dfd1445d9df>\u001b[0m in \u001b[0;36m<module>\u001b[0;34m\u001b[0m\n\u001b[0;32m----> 1\u001b[0;31m \u001b[0mb\u001b[0m\u001b[0;34m.\u001b[0m\u001b[0mPoint\u001b[0m\u001b[0;34m.\u001b[0m\u001b[0m__repr__\u001b[0m\u001b[0;34m(\u001b[0m\u001b[0mb\u001b[0m\u001b[0;34m.\u001b[0m\u001b[0mPoint\u001b[0m\u001b[0;34m)\u001b[0m\u001b[0;34m\u001b[0m\u001b[0;34m\u001b[0m\u001b[0m\n\u001b[0m",
      "\u001b[0;32m~/anaconda3/lib/python3.7/collections/__init__.py\u001b[0m in \u001b[0;36m__repr__\u001b[0;34m(self)\u001b[0m\n\u001b[1;32m    422\u001b[0m     \u001b[0;32mdef\u001b[0m \u001b[0m__repr__\u001b[0m\u001b[0;34m(\u001b[0m\u001b[0mself\u001b[0m\u001b[0;34m)\u001b[0m\u001b[0;34m:\u001b[0m\u001b[0;34m\u001b[0m\u001b[0;34m\u001b[0m\u001b[0m\n\u001b[1;32m    423\u001b[0m         \u001b[0;34m'Return a nicely formatted representation string'\u001b[0m\u001b[0;34m\u001b[0m\u001b[0;34m\u001b[0m\u001b[0m\n\u001b[0;32m--> 424\u001b[0;31m         \u001b[0;32mreturn\u001b[0m \u001b[0mself\u001b[0m\u001b[0;34m.\u001b[0m\u001b[0m__class__\u001b[0m\u001b[0;34m.\u001b[0m\u001b[0m__name__\u001b[0m \u001b[0;34m+\u001b[0m \u001b[0mrepr_fmt\u001b[0m \u001b[0;34m%\u001b[0m \u001b[0mself\u001b[0m\u001b[0;34m\u001b[0m\u001b[0;34m\u001b[0m\u001b[0m\n\u001b[0m\u001b[1;32m    425\u001b[0m \u001b[0;34m\u001b[0m\u001b[0m\n\u001b[1;32m    426\u001b[0m     \u001b[0;32mdef\u001b[0m \u001b[0m_asdict\u001b[0m\u001b[0;34m(\u001b[0m\u001b[0mself\u001b[0m\u001b[0;34m)\u001b[0m\u001b[0;34m:\u001b[0m\u001b[0;34m\u001b[0m\u001b[0;34m\u001b[0m\u001b[0m\n",
      "\u001b[0;31mTypeError\u001b[0m: not enough arguments for format string"
     ]
    }
   ],
   "source": [
    "b.Point.__repr__(b.Point)"
   ]
  },
  {
   "cell_type": "code",
   "execution_count": 88,
   "metadata": {},
   "outputs": [
    {
     "ename": "TypeError",
     "evalue": "descriptor '__getitem__' requires a 'tuple' object but received a 'str'",
     "output_type": "error",
     "traceback": [
      "\u001b[0;31m---------------------------------------------------------------------------\u001b[0m",
      "\u001b[0;31mTypeError\u001b[0m                                 Traceback (most recent call last)",
      "\u001b[0;32m<ipython-input-88-4a17b7fd6854>\u001b[0m in \u001b[0;36m<module>\u001b[0;34m\u001b[0m\n\u001b[0;32m----> 1\u001b[0;31m \u001b[0mb\u001b[0m\u001b[0;34m.\u001b[0m\u001b[0mPoint\u001b[0m\u001b[0;34m.\u001b[0m\u001b[0m__getitem__\u001b[0m\u001b[0;34m(\u001b[0m\u001b[0;34m'E'\u001b[0m\u001b[0;34m)\u001b[0m\u001b[0;34m\u001b[0m\u001b[0;34m\u001b[0m\u001b[0m\n\u001b[0m",
      "\u001b[0;31mTypeError\u001b[0m: descriptor '__getitem__' requires a 'tuple' object but received a 'str'"
     ]
    }
   ],
   "source": [
    "b.Point.__getitem__('E')"
   ]
  },
  {
   "cell_type": "code",
   "execution_count": 81,
   "metadata": {},
   "outputs": [
    {
     "name": "stdout",
     "output_type": "stream",
     "text": [
      "Help on class Point in module berny.berny:\n",
      "\n",
      "class Point(builtins.tuple)\n",
      " |  Point(q, E, g)\n",
      " |  \n",
      " |  Point(q, E, g)\n",
      " |  \n",
      " |  Method resolution order:\n",
      " |      Point\n",
      " |      builtins.tuple\n",
      " |      builtins.object\n",
      " |  \n",
      " |  Methods defined here:\n",
      " |  \n",
      " |  __getnewargs__(self)\n",
      " |      Return self as a plain tuple.  Used by copy and pickle.\n",
      " |  \n",
      " |  __repr__(self)\n",
      " |      Return a nicely formatted representation string\n",
      " |  \n",
      " |  _asdict(self)\n",
      " |      Return a new OrderedDict which maps field names to their values.\n",
      " |  \n",
      " |  _replace(_self, **kwds)\n",
      " |      Return a new Point object replacing specified fields with new values\n",
      " |  \n",
      " |  ----------------------------------------------------------------------\n",
      " |  Class methods defined here:\n",
      " |  \n",
      " |  _make(iterable) from builtins.type\n",
      " |      Make a new Point object from a sequence or iterable\n",
      " |  \n",
      " |  ----------------------------------------------------------------------\n",
      " |  Static methods defined here:\n",
      " |  \n",
      " |  __new__(_cls, q, E, g)\n",
      " |      Create new instance of Point(q, E, g)\n",
      " |  \n",
      " |  ----------------------------------------------------------------------\n",
      " |  Data descriptors defined here:\n",
      " |  \n",
      " |  q\n",
      " |      Alias for field number 0\n",
      " |  \n",
      " |  E\n",
      " |      Alias for field number 1\n",
      " |  \n",
      " |  g\n",
      " |      Alias for field number 2\n",
      " |  \n",
      " |  ----------------------------------------------------------------------\n",
      " |  Data and other attributes defined here:\n",
      " |  \n",
      " |  _fields = ('q', 'E', 'g')\n",
      " |  \n",
      " |  _fields_defaults = {}\n",
      " |  \n",
      " |  ----------------------------------------------------------------------\n",
      " |  Methods inherited from builtins.tuple:\n",
      " |  \n",
      " |  __add__(self, value, /)\n",
      " |      Return self+value.\n",
      " |  \n",
      " |  __contains__(self, key, /)\n",
      " |      Return key in self.\n",
      " |  \n",
      " |  __eq__(self, value, /)\n",
      " |      Return self==value.\n",
      " |  \n",
      " |  __ge__(self, value, /)\n",
      " |      Return self>=value.\n",
      " |  \n",
      " |  __getattribute__(self, name, /)\n",
      " |      Return getattr(self, name).\n",
      " |  \n",
      " |  __getitem__(self, key, /)\n",
      " |      Return self[key].\n",
      " |  \n",
      " |  __gt__(self, value, /)\n",
      " |      Return self>value.\n",
      " |  \n",
      " |  __hash__(self, /)\n",
      " |      Return hash(self).\n",
      " |  \n",
      " |  __iter__(self, /)\n",
      " |      Implement iter(self).\n",
      " |  \n",
      " |  __le__(self, value, /)\n",
      " |      Return self<=value.\n",
      " |  \n",
      " |  __len__(self, /)\n",
      " |      Return len(self).\n",
      " |  \n",
      " |  __lt__(self, value, /)\n",
      " |      Return self<value.\n",
      " |  \n",
      " |  __mul__(self, value, /)\n",
      " |      Return self*value.\n",
      " |  \n",
      " |  __ne__(self, value, /)\n",
      " |      Return self!=value.\n",
      " |  \n",
      " |  __rmul__(self, value, /)\n",
      " |      Return value*self.\n",
      " |  \n",
      " |  count(self, value, /)\n",
      " |      Return number of occurrences of value.\n",
      " |  \n",
      " |  index(self, value, start=0, stop=9223372036854775807, /)\n",
      " |      Return first index of value.\n",
      " |      \n",
      " |      Raises ValueError if the value is not present.\n",
      "\n"
     ]
    }
   ],
   "source": [
    "help(b.Point)"
   ]
  },
  {
   "cell_type": "code",
   "execution_count": null,
   "metadata": {},
   "outputs": [],
   "source": []
  }
 ],
 "metadata": {
  "kernelspec": {
   "display_name": "Python 3",
   "language": "python",
   "name": "python3"
  },
  "language_info": {
   "codemirror_mode": {
    "name": "ipython",
    "version": 3
   },
   "file_extension": ".py",
   "mimetype": "text/x-python",
   "name": "python",
   "nbconvert_exporter": "python",
   "pygments_lexer": "ipython3",
   "version": "3.7.3"
  }
 },
 "nbformat": 4,
 "nbformat_minor": 2
}
