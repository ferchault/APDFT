{
 "cells": [
  {
   "cell_type": "code",
   "execution_count": 1,
   "metadata": {},
   "outputs": [],
   "source": [
    "import inspect\n",
    "from pyscf import gto,scf\n",
    "import numpy as np \n",
    "from numpy.linalg import norm as norm\n",
    "from scipy.spatial.transform import Rotation as R\n",
    "import matplotlib.pyplot as plt\n",
    "from pyscf.grad import rhf as grhf\n",
    "from pyscf.hessian import rhf as hrhf\n",
    "import basis_set_exchange as bse\n",
    "from pyscf.geomopt.berny_solver import optimize\n",
    "ang2bohr=1.8897261246\n",
    "bohr2ang=.5291772109\n",
    "np.set_printoptions(precision=4)"
   ]
  },
  {
   "cell_type": "code",
   "execution_count": 7,
   "metadata": {},
   "outputs": [
    {
     "name": "stdout",
     "output_type": "stream",
     "text": [
      "The autoreload extension is already loaded. To reload it, use:\n",
      "  %reload_ext autoreload\n"
     ]
    }
   ],
   "source": [
    "import sys\n",
    "sys.path.append(\"/home/administrator/Documenti/APDFT/prototyping/hessian/AAFF/Libs/\")\n",
    "from alch_deriv_NEW import alch_deriv\n",
    "from aaff import aaff,alc_deriv_grad_nuc,alc_differential_grad_nuc\n",
    "from FDcoeffs import *\n",
    "from FcMole import FcM,FcM_like\n",
    "%load_ext autoreload\n",
    "%autoreload 1\n",
    "import itertools\n",
    "%autoreload from AP_class import DeltaV,rotate_matrix,parse_charge,alchemy_cphf_deriv,make_dP,rotate_grad,rotate_matrix"
   ]
  },
  {
   "cell_type": "code",
   "execution_count": 34,
   "metadata": {},
   "outputs": [],
   "source": [
    "benz_atom=\"\"\" \n",
    "C         6.95191249e-13  2.61173060e+00 -1.67580194e-08 ;\n",
    "H         2.83052087e-13  4.63941350e+00 -1.15976219e-08 ;\n",
    "C         2.26182505e+00  1.30586530e+00 -2.37508246e-08 ; \n",
    "H         4.01784995e+00  2.31970675e+00 -9.84687205e-09 ; \n",
    "C         2.26182505e+00 -1.30586530e+00  8.26065094e-09 ; \n",
    "H         4.01784995e+00 -2.31970675e+00  5.83890508e-08 ; \n",
    "C        -8.45954456e-13 -2.61173060e+00 -1.55922267e-08 ; \n",
    "H         1.49445304e-12 -4.63941350e+00 -3.26774154e-08 ; \n",
    "C        -2.26182505e+00 -1.30586530e+00 -8.28266973e-09 ; \n",
    "H        -4.01784995e+00 -2.31970675e+00  1.87236306e-09 ; \n",
    "C        -2.26182505e+00  1.30586530e+00  1.68546675e-08 ; \n",
    "H        -4.01784995e+00  2.31970675e+00  3.31289175e-08 ; \n",
    "\"\"\"\n",
    "Benz = gto.M(atom=benz_atom,unit='bohr',basis='def2-TZVP',symmetry=True) #basis={\"H\":\"pc-2\",'C':bse.get_basis(\"pcX-2\",fmt=\"nwchem\",elements=[6])})\n",
    "ldm=np.load('./benz_dm.npy')"
   ]
  },
  {
   "cell_type": "code",
   "execution_count": 35,
   "metadata": {},
   "outputs": [
    {
     "name": "stdout",
     "output_type": "stream",
     "text": [
      "converged SCF energy = -230.785209492568\n"
     ]
    },
    {
     "data": {
      "text/plain": [
       "-230.7852094925678"
      ]
     },
     "execution_count": 35,
     "metadata": {},
     "output_type": "execute_result"
    }
   ],
   "source": [
    "BenzHF=scf.RHF(Benz)\n",
    "BenzHF.scf()"
   ]
  },
  {
   "cell_type": "code",
   "execution_count": 36,
   "metadata": {},
   "outputs": [
    {
     "data": {
      "text/plain": [
       "205.40289969315694"
      ]
     },
     "execution_count": 36,
     "metadata": {},
     "output_type": "execute_result"
    }
   ],
   "source": [
    "BenzHF.energy_nuc()"
   ]
  },
  {
   "cell_type": "code",
   "execution_count": 37,
   "metadata": {},
   "outputs": [
    {
     "name": "stdout",
     "output_type": "stream",
     "text": [
      "bubu\n",
      "converged SCF energy = -237.391363973175\n"
     ]
    },
    {
     "data": {
      "text/plain": [
       "-237.39136397317478"
      ]
     },
     "execution_count": 37,
     "metadata": {},
     "output_type": "execute_result"
    }
   ],
   "source": [
    "a1=FcM_like(Benz,fcs=[[0,2,4,6],[1,-1,-1,1]])\n",
    "ae1=scf.RHF(a1)\n",
    "ae1.scf()"
   ]
  },
  {
   "cell_type": "code",
   "execution_count": 38,
   "metadata": {},
   "outputs": [
    {
     "name": "stdout",
     "output_type": "stream",
     "text": [
      "bubu\n",
      "converged SCF energy = -237.402452886355\n"
     ]
    },
    {
     "data": {
      "text/plain": [
       "-237.402452886355"
      ]
     },
     "execution_count": 38,
     "metadata": {},
     "output_type": "execute_result"
    }
   ],
   "source": [
    "a2=FcM_like(Benz,fcs=[[0,2,4,6],[-1,1,1,-1]])\n",
    "ae2=scf.RHF(a2)\n",
    "ae2.scf()"
   ]
  },
  {
   "cell_type": "code",
   "execution_count": null,
   "metadata": {},
   "outputs": [],
   "source": [
    "ae1.energy_nuc(),ae2.energy_nuc()"
   ]
  },
  {
   "cell_type": "code",
   "execution_count": 8,
   "metadata": {},
   "outputs": [
    {
     "name": "stdout",
     "output_type": "stream",
     "text": [
      "CPU times: user 262 ms, sys: 32.5 ms, total: 294 ms\n",
      "Wall time: 109 ms\n"
     ]
    },
    {
     "data": {
      "text/plain": [
       "(-24.392820318889658, -0.0029486757670566057, 0.26021645259666754)"
      ]
     },
     "execution_count": 8,
     "metadata": {},
     "output_type": "execute_result"
    }
   ],
   "source": [
    "%time d1,d2,d3= alch_deriv(BenzHF,[[0],[1]])\n",
    "d1,d2,d3"
   ]
  },
  {
   "cell_type": "code",
   "execution_count": 9,
   "metadata": {},
   "outputs": [
    {
     "data": {
      "text/plain": [
       "True"
      ]
     },
     "execution_count": 9,
     "metadata": {},
     "output_type": "execute_result"
    }
   ],
   "source": [
    "Benz.symmetry"
   ]
  },
  {
   "cell_type": "code",
   "execution_count": 10,
   "metadata": {},
   "outputs": [],
   "source": [
    "from scipy.spatial.transform import Rotation as R\n",
    "rv=-np.asarray([0,0,1])*np.pi*2/3\n",
    "r = R.from_rotvec(rv)"
   ]
  },
  {
   "cell_type": "markdown",
   "metadata": {},
   "source": [
    "## Symmetry operations for Benzene $D_{6h}$ axis \n",
    "I need to <br>\n",
    "1) dP (i) -> rotate dP (0/1) <br>\n",
    "2) af(i) = rotate af (0/1)<br>\n",
    "3) dV(i) =rotate dV(0/1)<br>"
   ]
  },
  {
   "cell_type": "code",
   "execution_count": 11,
   "metadata": {},
   "outputs": [],
   "source": [
    "pt=Benz.aoslice_by_atom()[0,-2]\n",
    "rpt=Benz.aoslice_by_atom()[2,-2]"
   ]
  },
  {
   "cell_type": "code",
   "execution_count": 12,
   "metadata": {
    "scrolled": true
   },
   "outputs": [
    {
     "data": {
      "text/plain": [
       "(array([[ 2.0703e+00, -2.0748e-01, -4.6885e-16, -1.8160e-03,  0.0000e+00],\n",
       "        [-2.0748e-01,  7.8356e-01,  4.9199e-15,  1.9056e-02,  0.0000e+00],\n",
       "        [-4.6885e-16,  4.9199e-15,  6.0881e-01,  3.7133e-15,  0.0000e+00],\n",
       "        [-1.8160e-03,  1.9056e-02,  3.7133e-15,  6.2319e-01,  0.0000e+00],\n",
       "        [ 0.0000e+00,  0.0000e+00,  0.0000e+00,  0.0000e+00,  7.8543e-01]]),\n",
       " array([[ 2.0703e+00, -2.0748e-01, -1.5727e-03, -9.0799e-04,  0.0000e+00],\n",
       "        [-2.0748e-01,  7.8356e-01,  1.6503e-02,  9.5282e-03,  0.0000e+00],\n",
       "        [-1.5727e-03,  1.6503e-02,  6.1959e-01,  6.2279e-03,  0.0000e+00],\n",
       "        [-9.0799e-04,  9.5282e-03,  6.2279e-03,  6.1240e-01,  0.0000e+00],\n",
       "        [ 0.0000e+00,  0.0000e+00,  0.0000e+00,  0.0000e+00,  7.8543e-01]]))"
      ]
     },
     "execution_count": 12,
     "metadata": {},
     "output_type": "execute_result"
    }
   ],
   "source": [
    "P=BenzHF.make_rdm1()\n",
    "P[pt:pt+5,pt:pt+5],P[rpt:rpt+5,rpt:rpt+5]"
   ]
  },
  {
   "cell_type": "code",
   "execution_count": 13,
   "metadata": {},
   "outputs": [
    {
     "data": {
      "text/plain": [
       "(0.009550000000000001, 0.016541085212282775)"
      ]
     },
     "execution_count": 13,
     "metadata": {},
     "output_type": "execute_result"
    }
   ],
   "source": [
    "np.cos(np.pi/3)*0.0191,np.sin(np.pi/3)*0.0191"
   ]
  },
  {
   "cell_type": "code",
   "execution_count": 14,
   "metadata": {},
   "outputs": [],
   "source": [
    "from pyscf import symm"
   ]
  },
  {
   "cell_type": "code",
   "execution_count": 15,
   "metadata": {},
   "outputs": [
    {
     "data": {
      "text/plain": [
       "{'Ag': 12,\n",
       " 'B1g': 6,\n",
       " 'B2g': 2,\n",
       " 'B3g': 2,\n",
       " 'Au': 0,\n",
       " 'B1u': 2,\n",
       " 'B2u': 8,\n",
       " 'B3u': 10}"
      ]
     },
     "execution_count": 15,
     "metadata": {},
     "output_type": "execute_result"
    }
   ],
   "source": [
    "BenzHF.get_irrep_nelec()"
   ]
  },
  {
   "cell_type": "code",
   "execution_count": 16,
   "metadata": {},
   "outputs": [
    {
     "name": "stdout",
     "output_type": "stream",
     "text": [
      "--------------- SymAdaptedRHF gradients ---------------\n",
      "         x                y                z\n",
      "0 C     0.0000000000     0.0029582667     0.0000000000\n",
      "1 H    -0.0000000000    -0.0090174306     0.0000000000\n",
      "2 C     0.0025619354     0.0014791328     0.0000000000\n",
      "3 H    -0.0078093248    -0.0045087158     0.0000000000\n",
      "4 C     0.0025619354    -0.0014791328     0.0000000000\n",
      "5 H    -0.0078093248     0.0045087158     0.0000000000\n",
      "6 C    -0.0000000000    -0.0029582667     0.0000000000\n",
      "7 H     0.0000000000     0.0090174306     0.0000000000\n",
      "8 C    -0.0025619354    -0.0014791328     0.0000000000\n",
      "9 H     0.0078093248     0.0045087158     0.0000000000\n",
      "10 C    -0.0025619354     0.0014791328     0.0000000000\n",
      "11 H     0.0078093248    -0.0045087158     0.0000000000\n",
      "----------------------------------------------\n",
      "CPU times: user 5.28 s, sys: 78.6 ms, total: 5.36 s\n",
      "Wall time: 3.79 s\n"
     ]
    },
    {
     "data": {
      "text/plain": [
       "array([[ 7.6376e-16,  2.9583e-03,  0.0000e+00],\n",
       "       [-2.3281e-15, -9.0174e-03,  0.0000e+00],\n",
       "       [ 2.5619e-03,  1.4791e-03,  0.0000e+00],\n",
       "       [-7.8093e-03, -4.5087e-03,  0.0000e+00],\n",
       "       [ 2.5619e-03, -1.4791e-03,  0.0000e+00],\n",
       "       [-7.8093e-03,  4.5087e-03,  0.0000e+00],\n",
       "       [-7.6376e-16, -2.9583e-03,  0.0000e+00],\n",
       "       [ 2.3281e-15,  9.0174e-03,  0.0000e+00],\n",
       "       [-2.5619e-03, -1.4791e-03,  0.0000e+00],\n",
       "       [ 7.8093e-03,  4.5087e-03,  0.0000e+00],\n",
       "       [-2.5619e-03,  1.4791e-03,  0.0000e+00],\n",
       "       [ 7.8093e-03, -4.5087e-03,  0.0000e+00]])"
      ]
     },
     "execution_count": 16,
     "metadata": {},
     "output_type": "execute_result"
    }
   ],
   "source": [
    "%time BenzHF.Gradients().grad()"
   ]
  },
  {
   "cell_type": "code",
   "execution_count": 17,
   "metadata": {},
   "outputs": [],
   "source": [
    "coords=Benz.atom_coords()"
   ]
  },
  {
   "cell_type": "code",
   "execution_count": 18,
   "metadata": {},
   "outputs": [],
   "source": [
    "#symm.Dmatrix.get_euler_angles(coords[0],coords[2])"
   ]
  },
  {
   "cell_type": "code",
   "execution_count": 19,
   "metadata": {},
   "outputs": [],
   "source": [
    "#symm.geom.detect_symm(Benz.atom_and_coords())"
   ]
  },
  {
   "cell_type": "code",
   "execution_count": 20,
   "metadata": {},
   "outputs": [
    {
     "data": {
      "text/plain": [
       "['__add__',\n",
       " '__call__',\n",
       " '__class__',\n",
       " '__delattr__',\n",
       " '__dict__',\n",
       " '__dir__',\n",
       " '__doc__',\n",
       " '__eq__',\n",
       " '__format__',\n",
       " '__ge__',\n",
       " '__getattr__',\n",
       " '__getattribute__',\n",
       " '__getstate__',\n",
       " '__gt__',\n",
       " '__hash__',\n",
       " '__init__',\n",
       " '__init_subclass__',\n",
       " '__le__',\n",
       " '__lt__',\n",
       " '__module__',\n",
       " '__ne__',\n",
       " '__new__',\n",
       " '__reduce__',\n",
       " '__reduce_ex__',\n",
       " '__repr__',\n",
       " '__setattr__',\n",
       " '__sizeof__',\n",
       " '__str__',\n",
       " '__subclasshook__',\n",
       " '__weakref__',\n",
       " '_add_suffix',\n",
       " '_atm',\n",
       " '_atom',\n",
       " '_bas',\n",
       " '_basis',\n",
       " '_build_symmetry',\n",
       " '_built',\n",
       " '_ecp',\n",
       " '_ecpbas',\n",
       " '_enuc',\n",
       " '_env',\n",
       " '_keys',\n",
       " '_libcint_ctr_coeff',\n",
       " '_nao',\n",
       " '_nelectron',\n",
       " '_pseudo',\n",
       " '_symm_axes',\n",
       " '_symm_orig',\n",
       " 'ao2mo',\n",
       " 'ao_labels',\n",
       " 'ao_loc',\n",
       " 'ao_loc_2c',\n",
       " 'ao_loc_nr',\n",
       " 'aoslice_2c_by_atom',\n",
       " 'aoslice_by_atom',\n",
       " 'aoslice_nr_by_atom',\n",
       " 'apply',\n",
       " 'atom',\n",
       " 'atom_charge',\n",
       " 'atom_charges',\n",
       " 'atom_coord',\n",
       " 'atom_coords',\n",
       " 'atom_mass_list',\n",
       " 'atom_nelec_core',\n",
       " 'atom_nshells',\n",
       " 'atom_pure_symbol',\n",
       " 'atom_shell_ids',\n",
       " 'atom_symbol',\n",
       " 'bas_angular',\n",
       " 'bas_atom',\n",
       " 'bas_coord',\n",
       " 'bas_ctr_coeff',\n",
       " 'bas_exp',\n",
       " 'bas_kappa',\n",
       " 'bas_len_cart',\n",
       " 'bas_len_spinor',\n",
       " 'bas_nctr',\n",
       " 'bas_nprim',\n",
       " 'basis',\n",
       " 'build',\n",
       " 'cart',\n",
       " 'cart2sph_coeff',\n",
       " 'cart_labels',\n",
       " 'charge',\n",
       " 'check_sanity',\n",
       " 'condense_to_shell',\n",
       " 'copy',\n",
       " 'dump_input',\n",
       " 'dumps',\n",
       " 'ecp',\n",
       " 'elements',\n",
       " 'energy_nuc',\n",
       " 'etbs',\n",
       " 'eval_ao',\n",
       " 'eval_gto',\n",
       " 'expand_etb',\n",
       " 'expand_etbs',\n",
       " 'format_atom',\n",
       " 'format_basis',\n",
       " 'format_ecp',\n",
       " 'fromfile',\n",
       " 'fromstring',\n",
       " 'get_enuc',\n",
       " 'groupname',\n",
       " 'gto_norm',\n",
       " 'has_ecp',\n",
       " 'incore_anyway',\n",
       " 'inertia_moment',\n",
       " 'intor',\n",
       " 'intor_asymmetric',\n",
       " 'intor_by_shell',\n",
       " 'intor_symmetric',\n",
       " 'irrep_id',\n",
       " 'irrep_name',\n",
       " 'kernel',\n",
       " 'loads',\n",
       " 'loads_',\n",
       " 'make_atm_env',\n",
       " 'make_bas_env',\n",
       " 'make_ecp_env',\n",
       " 'make_env',\n",
       " 'max_memory',\n",
       " 'ms',\n",
       " 'multiplicity',\n",
       " 'nao',\n",
       " 'nao_2c',\n",
       " 'nao_2c_range',\n",
       " 'nao_cart',\n",
       " 'nao_nr',\n",
       " 'nao_nr_range',\n",
       " 'natm',\n",
       " 'nbas',\n",
       " 'nelec',\n",
       " 'nelectron',\n",
       " 'npgto_nr',\n",
       " 'nucmod',\n",
       " 'nucprop',\n",
       " 'offset_2c_by_atom',\n",
       " 'offset_ao_by_atom',\n",
       " 'offset_nr_by_atom',\n",
       " 'omega',\n",
       " 'output',\n",
       " 'pack',\n",
       " 'post_kernel',\n",
       " 'pre_kernel',\n",
       " 'run',\n",
       " 'search_ao_label',\n",
       " 'search_ao_nr',\n",
       " 'search_ao_r',\n",
       " 'search_shell_id',\n",
       " 'set',\n",
       " 'set_common_orig',\n",
       " 'set_common_orig_',\n",
       " 'set_common_origin',\n",
       " 'set_common_origin_',\n",
       " 'set_f12_zeta',\n",
       " 'set_geom_',\n",
       " 'set_nuc_mod',\n",
       " 'set_nuc_mod_',\n",
       " 'set_range_coulomb',\n",
       " 'set_range_coulomb_',\n",
       " 'set_rinv_orig',\n",
       " 'set_rinv_orig_',\n",
       " 'set_rinv_origin',\n",
       " 'set_rinv_origin_',\n",
       " 'set_rinv_zeta',\n",
       " 'set_rinv_zeta_',\n",
       " 'sph2spinor_coeff',\n",
       " 'sph_labels',\n",
       " 'spheric_labels',\n",
       " 'spin',\n",
       " 'spinor_labels',\n",
       " 'stdout',\n",
       " 'symm_orb',\n",
       " 'symmetry',\n",
       " 'symmetry_subgroup',\n",
       " 'time_reversal_map',\n",
       " 'tmap',\n",
       " 'to_uncontracted_cartesian_basis',\n",
       " 'tofile',\n",
       " 'topgroup',\n",
       " 'tostring',\n",
       " 'tot_electrons',\n",
       " 'unit',\n",
       " 'unpack',\n",
       " 'unpack_',\n",
       " 'update',\n",
       " 'update_from_chk',\n",
       " 'verbose',\n",
       " 'view',\n",
       " 'with_common_orig',\n",
       " 'with_common_origin',\n",
       " 'with_integral_screen',\n",
       " 'with_long_range_coulomb',\n",
       " 'with_range_coulomb',\n",
       " 'with_rinv_as_nucleus',\n",
       " 'with_rinv_at_nucleus',\n",
       " 'with_rinv_orig',\n",
       " 'with_rinv_origin',\n",
       " 'with_rinv_zeta',\n",
       " 'with_short_range_coulomb']"
      ]
     },
     "execution_count": 20,
     "metadata": {},
     "output_type": "execute_result"
    }
   ],
   "source": [
    "dir(Benz)"
   ]
  },
  {
   "cell_type": "code",
   "execution_count": null,
   "metadata": {},
   "outputs": [],
   "source": []
  },
  {
   "cell_type": "code",
   "execution_count": null,
   "metadata": {},
   "outputs": [],
   "source": []
  },
  {
   "cell_type": "code",
   "execution_count": null,
   "metadata": {},
   "outputs": [],
   "source": []
  }
 ],
 "metadata": {
  "kernelspec": {
   "display_name": "Python 3",
   "language": "python",
   "name": "python3"
  },
  "language_info": {
   "codemirror_mode": {
    "name": "ipython",
    "version": 3
   },
   "file_extension": ".py",
   "mimetype": "text/x-python",
   "name": "python",
   "nbconvert_exporter": "python",
   "pygments_lexer": "ipython3",
   "version": "3.7.3"
  }
 },
 "nbformat": 4,
 "nbformat_minor": 2
}
