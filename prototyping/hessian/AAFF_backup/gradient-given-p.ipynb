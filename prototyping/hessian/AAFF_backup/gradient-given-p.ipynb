{
 "cells": [
  {
   "cell_type": "code",
   "execution_count": 1,
   "metadata": {},
   "outputs": [],
   "source": [
    "from pyscf import scf,gto\n",
    "import numpy as np\n",
    "import inspect\n",
    "from FcMole import FcM\n",
    "import matplotlib.pyplot as plt\n",
    "from pyscf.grad import rhf as grhf  #### very important\n",
    "from pyscf.hessian import rhf as hrhf # without those two mf.Gradients() and mf.Hessian() don't work\n",
    "def DeltaV(mol,dL):\n",
    "    mol.set_rinv_orig_(mol.atom_coords()[0])\n",
    "    dV=mol.intor('int1e_rinv')*dL[0]\n",
    "    mol.set_rinv_orig_(mol.atom_coords()[1])\n",
    "    dV+=mol.intor('int1e_rinv')*dL[1]\n",
    "    return -dV"
   ]
  },
  {
   "cell_type": "markdown",
   "metadata": {},
   "source": [
    "First compare gradient analytical from fcm with the one via finite differences on geometry\n"
   ]
  },
  {
   "cell_type": "code",
   "execution_count": 2,
   "metadata": {},
   "outputs": [
    {
     "name": "stdout",
     "output_type": "stream",
     "text": [
      "converged SCF energy = -111.05722603438\n",
      "--------------- RHF gradients ---------------\n",
      "         x                y                z\n",
      "0 C    -0.0000000000     0.0000000000     1.0869705326\n",
      "1 O     0.0000000000    -0.0000000000    -1.0869705326\n",
      "----------------------------------------------\n"
     ]
    },
    {
     "data": {
      "text/plain": [
       "<pyscf.grad.rhf.Gradients at 0x7f37370ee890>"
      ]
     },
     "execution_count": 2,
     "metadata": {},
     "output_type": "execute_result"
    }
   ],
   "source": [
    "mol1=FcM(fcs=[.001,-.001],atom=\"C 0 0 0; O 0 0 1.8\",unit=\"Bohr\",basis=\"STO-3G\")\n",
    "mf1=scf.RHF(mol1)\n",
    "mf1.scf(dm0=mf1.init_guess_by_1e(mol1))\n",
    "g1=mf1.Gradients()\n",
    "g1.run()"
   ]
  },
  {
   "cell_type": "code",
   "execution_count": 3,
   "metadata": {},
   "outputs": [
    {
     "name": "stdout",
     "output_type": "stream",
     "text": [
      "converged SCF energy = -111.064463936466\n",
      "--------------- RHF gradients ---------------\n",
      "         x                y                z\n",
      "0 C    -0.0000000000     0.0000000000     1.0871732099\n",
      "1 O     0.0000000000    -0.0000000000    -1.0871732099\n",
      "----------------------------------------------\n"
     ]
    },
    {
     "data": {
      "text/plain": [
       "array([[-1.27318183e-16,  4.87683781e-16,  1.08717321e+00],\n",
       "       [ 1.27318183e-16, -4.87683781e-16, -1.08717321e+00]])"
      ]
     },
     "execution_count": 3,
     "metadata": {},
     "output_type": "execute_result"
    }
   ],
   "source": [
    "mol0=gto.M(atom=\"C 0 0 0; O 0 0 1.8\",unit=\"Bohr\",basis=\"STO-3G\")\n",
    "mf0=scf.RHF(mol0)\n",
    "mf0.scf()\n",
    "g0=mf0.Gradients()\n",
    "g0.kernel()"
   ]
  },
  {
   "cell_type": "code",
   "execution_count": 4,
   "metadata": {},
   "outputs": [],
   "source": [
    "from alch_deriv import alch_deriv"
   ]
  },
  {
   "cell_type": "markdown",
   "metadata": {},
   "source": [
    "The formula for the gradient is stated in Pople's article (Eq.21) as: \n",
    "$$ \\frac{\\partial E}{\\partial x}= \\sum_{\\mu\\nu}P_{\\mu\\nu}\\frac{\\partial H_{\\mu\\nu}}{\\partial x}+\\frac{1}{2}\\sum_{\\mu\\nu\\lambda\\sigma}\n",
    "P_{\\mu\\nu}P_{\\lambda\\sigma}\\frac{\\partial}{\\partial x}(\\mu \\lambda | | \\nu\\sigma)+\\frac{\\partial V_{nuc}}{\\partial x} \n",
    "-\\sum_{\\mu\\nu}W_{\\mu\\nu}\\frac{\\partial S_{\\mu\\nu}}{\\partial x}\n",
    "$$\n",
    "$W$ is an energy weighted density matrix:\n",
    "$$ W_{\\mu\\nu}= \\sum_i ^{mo.occ.} c_{\\mu i} \\epsilon_i    c_{\\nu i}^\\dagger = S^{-1}FCOC^\\dagger=S^{-1}FP\n",
    "$$"
   ]
  },
  {
   "cell_type": "code",
   "execution_count": 5,
   "metadata": {},
   "outputs": [
    {
     "name": "stdout",
     "output_type": "stream",
     "text": [
      "[[0, 1], [-1, 1]]\n"
     ]
    }
   ],
   "source": [
    "(U,dP)=alch_deriv(mf0,dL=[[0,1],[-1,1]])\n",
    "P=mf0.make_rdm1()\n",
    "P1=mf1.make_rdm1()"
   ]
  },
  {
   "cell_type": "markdown",
   "metadata": {},
   "source": [
    "First piece:\n",
    "$$\\sum_{\\mu\\nu}P_{\\mu\\nu}\\frac{\\partial H_{\\mu\\nu}}{\\partial x}$$\n",
    "\n",
    "$\\frac{\\partial H^{(1)}}{\\partial x }$ is to be update to the new fract charges"
   ]
  },
  {
   "cell_type": "code",
   "execution_count": 6,
   "metadata": {},
   "outputs": [],
   "source": [
    "comp1=np.zeros((2,3,10,10))\n",
    "comp1[0]=g1.hcore_generator()(0)-g0.hcore_generator()(0)\n",
    "comp1[1]=g1.hcore_generator()(1)-g0.hcore_generator()(1)"
   ]
  },
  {
   "cell_type": "code",
   "execution_count": 7,
   "metadata": {},
   "outputs": [],
   "source": [
    "comp2=np.zeros((2,3,10,10))\n",
    "dL=[.001,-.001]\n",
    "for atm_id in [0,1]:\n",
    "    with mol0.with_rinv_at_nucleus(atm_id):\n",
    "        vrinv = -mol0.intor('int1e_iprinv', comp=3)\n",
    "    shl0, shl1, p0, p1 = mol0.aoslice_by_atom()[atm_id]\n",
    "    vrinv*=dL[atm_id]\n",
    "    vrinv[:,p0:p1] += (g1.get_hcore()-g0.get_hcore())[:,p0:p1]\n",
    "    vrinv += vrinv.transpose(0,2,1)\n",
    "    comp2[atm_id]=vrinv"
   ]
  },
  {
   "cell_type": "code",
   "execution_count": 8,
   "metadata": {},
   "outputs": [
    {
     "data": {
      "text/plain": [
       "True"
      ]
     },
     "execution_count": 8,
     "metadata": {},
     "output_type": "execute_result"
    }
   ],
   "source": [
    "np.allclose(comp1,comp2)   #the difference lyes in  g.get_hcore()"
   ]
  },
  {
   "cell_type": "markdown",
   "metadata": {},
   "source": [
    "g0.get_hcore() is the integral $<\\chi_\\mu |\\nabla_r \\hat{H}^{(1)}|\\chi_\\nu> $ is composed by two parts: the first refered to the kintic energy operator which is alchemy invariant, the second which has to be computed is refered to the nuclear electron attraction. <br>\n",
    "To compute this we use moleintor.getints() using as arguments a mol environment (mol._env) with the added fractional charges and a mol._atm desription that show fractional charges.\n",
    "Not forget to put a minus sign !!!! "
   ]
  },
  {
   "cell_type": "code",
   "execution_count": 9,
   "metadata": {},
   "outputs": [],
   "source": [
    "NUC_FRAC_CHARGE=gto.mole.NUC_FRAC_CHARGE\n",
    "NUC_MOD_OF=gto.mole.NUC_MOD_OF\n",
    "PTR_FRAC_CHARGE=gto.mole.PTR_FRAC_CHARGE\n",
    "denv=mol0._env.copy()\n",
    "datm=mol0._atm.copy()\n",
    "fcs=[.001,-.001]\n",
    "datm[:,NUC_MOD_OF] = NUC_FRAC_CHARGE\n",
    "for i in range (mol0.natm):\n",
    "    denv[datm[i,PTR_FRAC_CHARGE]]=fcs[i] \n",
    "dH1=-gto.moleintor.getints('int1e_ipnuc_sph',datm,mol0._bas,denv, None,3,0,'s1')   #minus sign !"
   ]
  },
  {
   "cell_type": "code",
   "execution_count": 10,
   "metadata": {},
   "outputs": [
    {
     "data": {
      "text/plain": [
       "True"
      ]
     },
     "execution_count": 10,
     "metadata": {},
     "output_type": "execute_result"
    }
   ],
   "source": [
    "comp2=np.zeros((2,3,10,10))\n",
    "dL=[.001,-.001]\n",
    "for atm_id in [0,1]:\n",
    "    with mol0.with_rinv_at_nucleus(atm_id):\n",
    "        vrinv = -mol0.intor('int1e_iprinv', comp=3)\n",
    "    shl0, shl1, p0, p1 = mol0.aoslice_by_atom()[atm_id]\n",
    "    vrinv*=dL[atm_id]\n",
    "    vrinv[:,p0:p1] += dH1[:,p0:p1]  #bearbeiten\n",
    "    vrinv += vrinv.transpose(0,2,1)\n",
    "    comp2[atm_id]=vrinv\n",
    "np.allclose(comp1,comp2)"
   ]
  },
  {
   "cell_type": "code",
   "execution_count": 11,
   "metadata": {},
   "outputs": [
    {
     "data": {
      "text/plain": [
       "array([[ 7.59029234e-16, -1.60896510e-14, -5.24349964e-03],\n",
       "       [-7.59029234e-16,  1.60896510e-14,  5.24349964e-03]])"
      ]
     },
     "execution_count": 11,
     "metadata": {},
     "output_type": "execute_result"
    }
   ],
   "source": [
    "fdg=np.zeros((2,3))   #finite difference part 1 gradient\n",
    "fdg[0]+=np.einsum('xij,ij->x', g1.hcore_generator()(0),mf1.make_rdm1())\n",
    "fdg[0]-=np.einsum('xij,ij->x', g0.hcore_generator()(0),mf0.make_rdm1())\n",
    "fdg[1]+=np.einsum('xij,ij->x', g1.hcore_generator()(1),mf1.make_rdm1())\n",
    "fdg[1]-=np.einsum('xij,ij->x', g0.hcore_generator()(1),mf0.make_rdm1())\n",
    "fdg"
   ]
  },
  {
   "cell_type": "code",
   "execution_count": 12,
   "metadata": {},
   "outputs": [
    {
     "name": "stdout",
     "output_type": "stream",
     "text": [
      "[[ 2.00402879e-15 -4.04907388e-15  4.42753694e+00]\n",
      " [-2.00402879e-15  4.04907388e-15 -4.42753694e+00]]\n"
     ]
    }
   ],
   "source": [
    "ga_1=np.zeros((2,3))     # analytical gradient _part 1 \n",
    "ga_1[0]+=np.einsum('xij,ij->x', g0.hcore_generator()(0),dP)\n",
    "ga_1[1]+=np.einsum('xij,ij->x', g0.hcore_generator()(1),dP)\n",
    "#print(ga_1)\n",
    "ga_1[0]+=np.einsum('xij,ij->x', comp2[0],P)\n",
    "ga_1[1]+=np.einsum('xij,ij->x', comp2[1],P)\n",
    "print(ga_1)"
   ]
  },
  {
   "cell_type": "markdown",
   "metadata": {},
   "source": [
    "# Second piece:\n",
    "$$\\frac{\\partial}{\\partial Z} (P_{\\mu\\nu}P_{\\lambda\\sigma}\\frac{\\partial}{\\partial x}(\\mu \\lambda | | \\nu\\sigma) )$$\n",
    "here the two electron integral is invariant to alchemy, therefore is sufficient insert the density matrix derivative $dP$ in the following exression. "
   ]
  },
  {
   "cell_type": "code",
   "execution_count": 13,
   "metadata": {},
   "outputs": [
    {
     "data": {
      "text/plain": [
       "array([[ 6.20787738e-15, -2.73985264e-14,  1.17925050e+01],\n",
       "       [-6.20787738e-15,  2.73985264e-14, -1.17925050e+01]])"
      ]
     },
     "execution_count": 13,
     "metadata": {},
     "output_type": "execute_result"
    }
   ],
   "source": [
    "#for the ref molecule\n",
    "aoslices = mol0.aoslice_by_atom()\n",
    "g2e_part2_0=np.zeros((2,3))\n",
    "for ia in [0,1]:\n",
    "    p0, p1 = aoslices [ia,2:]\n",
    "    vhf = g0.get_veff(mol0, P)\n",
    "    g2e_part2_0[ia]=(np.einsum('xij,ij->x', vhf[:,p0:p1], P[p0:p1]) * 2)        #   P (Pd/dx(ml||ns))\n",
    "g2e_part2_0    "
   ]
  },
  {
   "cell_type": "code",
   "execution_count": 14,
   "metadata": {},
   "outputs": [
    {
     "data": {
      "text/plain": [
       "array([[ 5.61803875e-15, -1.26309668e-14,  1.17969070e+01],\n",
       "       [-5.61803875e-15,  1.26309668e-14, -1.17969070e+01]])"
      ]
     },
     "execution_count": 14,
     "metadata": {},
     "output_type": "execute_result"
    }
   ],
   "source": [
    "aoslices = mol1.aoslice_by_atom()\n",
    "g2e_part2_1=np.zeros((2,3))\n",
    "for ia in [0,1]:\n",
    "    p0, p1 = aoslices [ia,2:]\n",
    "    vhf = g1.get_veff(mol1, P1)\n",
    "    g2e_part2_1[ia]=(np.einsum('xij,ij->x', vhf[:,p0:p1], P1[p0:p1]) * 2) \n",
    "g2e_part2_1"
   ]
  },
  {
   "cell_type": "code",
   "execution_count": 15,
   "metadata": {},
   "outputs": [
    {
     "data": {
      "text/plain": [
       "False"
      ]
     },
     "execution_count": 15,
     "metadata": {},
     "output_type": "execute_result"
    }
   ],
   "source": [
    "#check the invariance:\n",
    "np.allclose(g0.get_veff(mol0, P),g1.get_veff(mol1, P1))"
   ]
  },
  {
   "cell_type": "code",
   "execution_count": 16,
   "metadata": {},
   "outputs": [
    {
     "name": "stdout",
     "output_type": "stream",
     "text": [
      "True\n",
      "False\n"
     ]
    }
   ],
   "source": [
    "print(np.allclose(g0.get_veff(mol0, P1),g1.get_veff(mol1, P1))) #update P\n",
    "print(np.allclose(g0.get_veff(mol0, P+dP),g1.get_veff(mol1, P1))) #update P"
   ]
  },
  {
   "cell_type": "code",
   "execution_count": 17,
   "metadata": {},
   "outputs": [
    {
     "data": {
      "text/plain": [
       "array([[-1.60702648e-15,  4.46525151e-15, -4.40679234e+00],\n",
       "       [ 1.60702648e-15, -4.46525151e-15,  4.40679234e+00]])"
      ]
     },
     "execution_count": 17,
     "metadata": {},
     "output_type": "execute_result"
    }
   ],
   "source": [
    "aoslices = mol0.aoslice_by_atom()\n",
    "ga_2=np.zeros((2,3))\n",
    "for ia in [0,1]:\n",
    "    p0, p1 = aoslices [ia,2:]\n",
    "    vhf = g0.get_veff(mol0, P)\n",
    "    vhf_1 = g0.get_veff(mol0, P+dP)\n",
    "    ga_2[ia]=(np.einsum('xij,ij->x', vhf[:,p0:p1], dP[p0:p1]) * 2)\n",
    "    ga_2[ia]+=(np.einsum('xij,ij->x',vhf_1[:,p0:p1]-vhf[:,p0:p1], P[p0:p1]) * 2)\n",
    "ga_2"
   ]
  },
  {
   "cell_type": "code",
   "execution_count": 18,
   "metadata": {},
   "outputs": [
    {
     "data": {
      "text/plain": [
       "False"
      ]
     },
     "execution_count": 18,
     "metadata": {},
     "output_type": "execute_result"
    }
   ],
   "source": [
    "np.allclose(ga_2,g2e_part2_1-g2e_part2_0,atol=1e-3)"
   ]
  },
  {
   "cell_type": "code",
   "execution_count": 19,
   "metadata": {},
   "outputs": [
    {
     "data": {
      "text/plain": [
       "array([[-5.89838634e-16,  1.47675596e-14,  4.40195061e-03],\n",
       "       [ 5.89838634e-16, -1.47675596e-14, -4.40195061e-03]])"
      ]
     },
     "execution_count": 19,
     "metadata": {},
     "output_type": "execute_result"
    }
   ],
   "source": [
    "g2e_part2_1-g2e_part2_0"
   ]
  },
  {
   "cell_type": "markdown",
   "metadata": {},
   "source": [
    "# Third piece:\n",
    "$$-\\sum_{\\mu\\nu}W_{\\mu\\nu}\\frac{\\partial S_{\\mu\\nu}}{\\partial x}\n",
    "$$\n",
    "Luckily $S$ is invariant in alchemy, therefore the different in gradient is just:$$\n",
    "-\\sum_{\\mu\\nu}\\frac{\\partial W_{\\mu\\nu}}{\\partial Z}\\frac{\\partial S_{\\mu\\nu}}{\\partial x}\n",
    "$$\n",
    "### Obtaining derivatives of W\n",
    "$$W=  \\sum_i ^{mo.occ.} \\epsilon_i C_{\\mu i} C_{\\nu i}^\\dagger \n",
    "$$\n",
    "\n",
    "$$ \\frac{\\partial W}{\\partial Z_I}= \\sum_i ^{mo.occ.} \\left( \\epsilon_i (CU)_{\\mu i} C_{\\nu i}^\\dagger + \n",
    "\\epsilon_i C_{\\mu i} (CU)^\\dagger_{\\nu i}   +\\frac{\\partial \\epsilon_i}{\\partial Z_I} C_{\\mu i} C_{\\nu i}^\\dagger \\right)$$\n",
    "\n",
    "\n",
    "$$ S W= S C\\epsilon C^\\dagger=FCC^\\dagger= FP $$\n",
    "$$W=  S^{-1}FP $$"
   ]
  },
  {
   "cell_type": "code",
   "execution_count": 20,
   "metadata": {},
   "outputs": [],
   "source": [
    "\"\"\"  THE CODE IN g.grad_elec()\n",
    "dme0 = mf_grad.make_rdm1e(mo_energy, mo_coeff, mo_occ)        W\n",
    "s1 = mf_grad.get_ovlp(mol)%autocall                         dS/dx\n",
    "for k, ia in enumerate(atmlst):\n",
    "    de[k] -= numpy.einsum('xij,ij->x', s1[:,p0:p1], dme0[p0:p1]) * 2        W dS/dx\n",
    "\"\"\"\n",
    "pass"
   ]
  },
  {
   "cell_type": "code",
   "execution_count": 21,
   "metadata": {},
   "outputs": [
    {
     "data": {
      "text/plain": [
       "True"
      ]
     },
     "execution_count": 21,
     "metadata": {},
     "output_type": "execute_result"
    }
   ],
   "source": [
    "#verify that s1 is invariant\n",
    "s1=g0.get_ovlp(mol0)\n",
    "np.allclose(g0.get_ovlp(mol0),g1.get_ovlp(mol1))"
   ]
  },
  {
   "cell_type": "code",
   "execution_count": 22,
   "metadata": {},
   "outputs": [],
   "source": [
    "#at first by finite differences \n",
    "W1=g1.make_rdm1e()\n",
    "W0=g0.make_rdm1e()\n",
    "fd_dW=W1-W0"
   ]
  },
  {
   "cell_type": "code",
   "execution_count": 23,
   "metadata": {},
   "outputs": [
    {
     "data": {
      "text/plain": [
       "True"
      ]
     },
     "execution_count": 23,
     "metadata": {},
     "output_type": "execute_result"
    }
   ],
   "source": [
    "# W0 can be constructed via C@np.diag(o*e)@C.T\n",
    "o=mf0.mo_occ\n",
    "O=np.diag(o)\n",
    "e=mf0.mo_energy\n",
    "C=mf0.mo_coeff\n",
    "S=mf0.get_ovlp()\n",
    "F=mf0.get_fock()\n",
    "np.allclose(C@np.diag(e*o)@C.T,W0)"
   ]
  },
  {
   "cell_type": "code",
   "execution_count": 24,
   "metadata": {},
   "outputs": [],
   "source": [
    "#to derive this expression first get dC as \n",
    "dC=C@U\n",
    "#to get d(e) we need to get the fock hamiltonian and than get the new eigenvalues \n",
    "g_ijkl=mol0.intor('int2e_sph')\n",
    "dF2el=np.einsum('ijkl,kl->ij',g_ijkl,dP)-0.5*np.einsum('ijkl,jl->ik',g_ijkl,dP)\n",
    "dV=DeltaV(mol0,[.001,-.001])"
   ]
  },
  {
   "cell_type": "code",
   "execution_count": 25,
   "metadata": {},
   "outputs": [
    {
     "data": {
      "text/plain": [
       "False"
      ]
     },
     "execution_count": 25,
     "metadata": {},
     "output_type": "execute_result"
    }
   ],
   "source": [
    "np.allclose(mf1.get_fock()-F,dV+dF2el,atol=1e-5)"
   ]
  },
  {
   "cell_type": "code",
   "execution_count": 26,
   "metadata": {},
   "outputs": [
    {
     "name": "stdout",
     "output_type": "stream",
     "text": [
      "True\n",
      "True\n"
     ]
    }
   ],
   "source": [
    "#try to get e in another way , using Roothans equations FC=SCe\n",
    "print(np.allclose(np.linalg.inv(S)@F@(C),C@np.diag(e))) # S^-1 F C= C e \n",
    "print(np.allclose(np.linalg.inv(S)@F@P,W0))  #S^-1 F (C O C.T) = S^-1 F P = C e O C.T =W !!!!"
   ]
  },
  {
   "cell_type": "code",
   "execution_count": 27,
   "metadata": {},
   "outputs": [
    {
     "data": {
      "text/plain": [
       "1.7934526535627664"
      ]
     },
     "execution_count": 27,
     "metadata": {},
     "output_type": "execute_result"
    }
   ],
   "source": [
    "dW_a3=np.linalg.inv(S)@(F+dV+dF2el)@(P+dP)-W0\n",
    "np.max(fd_dW-dW_a3)"
   ]
  },
  {
   "cell_type": "code",
   "execution_count": 28,
   "metadata": {},
   "outputs": [
    {
     "data": {
      "text/plain": [
       "(array([[-1.71722452e-15,  4.77857332e-16,  2.88829462e+00],\n",
       "        [ 1.69574284e-15, -9.91737117e-15,  3.27604798e+00]]),\n",
       " array([[-3.24106850e-16,  9.50489581e-16,  2.18963806e-05],\n",
       "        [ 3.24106850e-16, -9.50489581e-16, -2.18963806e-05]]))"
      ]
     },
     "execution_count": 28,
     "metadata": {},
     "output_type": "execute_result"
    }
   ],
   "source": [
    "W1_contr=np.zeros((2,3))\n",
    "ga_3=np.zeros((2,3))\n",
    "W0_contr=np.zeros((2,3))\n",
    "for ia in [0,1]:\n",
    "    p0, p1 = mol0.aoslice_by_atom() [ia,2:]\n",
    "    W1_contr[ia] -= np.einsum('xij,ij->x', s1[:,p0:p1], W1[p0:p1]) * 2\n",
    "    ga_3[ia] -= np.einsum('xij,ij->x', s1[:,p0:p1], dW_a3[p0:p1]) * 2\n",
    "    W0_contr[ia] -= np.einsum('xij,ij->x', s1[:,p0:p1], W0[p0:p1]) * 2\n",
    "(ga_3),W1_contr-W0_contr"
   ]
  },
  {
   "cell_type": "code",
   "execution_count": 29,
   "metadata": {},
   "outputs": [],
   "source": [
    "#W=S^-1F P is the way, cause of the orbital rotation\n",
    "S=mf0.get_ovlp()\n",
    "F=mf0.get_fock()\n",
    "g_ijkl=mol0.intor('int2e_sph')\n",
    "dF2el=np.einsum('ijkl,kl->ij',g_ijkl,dP)-0.5*np.einsum('ijkl,jl->ik',g_ijkl,dP)\n",
    "dV=DeltaV(mol0,[.001,-.001])\n",
    "dW_a3=np.linalg.inv(S)@(F+dV+dF2el)@(P+dP)-W0"
   ]
  },
  {
   "cell_type": "code",
   "execution_count": 30,
   "metadata": {},
   "outputs": [
    {
     "data": {
      "text/plain": [
       "array([[-1.32022221e-15,  8.94034965e-16,  2.90903921e+00],\n",
       "       [ 1.29874053e-15, -1.03335488e-14,  3.25530338e+00]])"
      ]
     },
     "execution_count": 30,
     "metadata": {},
     "output_type": "execute_result"
    }
   ],
   "source": [
    "ga_1+ga_2+ga_3  "
   ]
  },
  {
   "cell_type": "code",
   "execution_count": 31,
   "metadata": {},
   "outputs": [
    {
     "data": {
      "text/plain": [
       "array([[-1.54916250e-16, -3.71601804e-16, -8.19652647e-04],\n",
       "       [ 1.54916250e-16,  3.71601804e-16,  8.19652647e-04]])"
      ]
     },
     "execution_count": 31,
     "metadata": {},
     "output_type": "execute_result"
    }
   ],
   "source": [
    "g1.grad_elec()-g0.grad_elec()"
   ]
  },
  {
   "cell_type": "markdown",
   "metadata": {},
   "source": [
    "## At the end the nuclear nuclear part "
   ]
  },
  {
   "cell_type": "code",
   "execution_count": 32,
   "metadata": {},
   "outputs": [],
   "source": [
    "\"\"\"def grad_nuc(mol, atmlst=None):\n",
    "    gs = numpy.zeros((mol.natm,3))\n",
    "    for j in range(mol.natm):\n",
    "        q2 = mol.atom_charge(j)      <----------------------- derive here\n",
    "        r2 = mol.atom_coord(j)\n",
    "        for i in range(mol.natm):\n",
    "            if i != j:\n",
    "                q1 = mol.atom_charge(i)     <----------------------- and here \n",
    "                r1 = mol.atom_coord(i)      \n",
    "                r = numpy.sqrt(numpy.dot(r1-r2,r1-r2))\n",
    "                gs[j] -= q1 * q2 * (r2-r1) / r**3\n",
    "    if atmlst is not None:\n",
    "        gs = gs[atmlst]\n",
    "    return gs\n",
    "    \"\"\"\n",
    "pass"
   ]
  },
  {
   "cell_type": "code",
   "execution_count": 33,
   "metadata": {},
   "outputs": [],
   "source": [
    "#is now easy to derive this function with respect to the nuclear charges\n",
    "def alc_deriv_grad_nuc(mol,dL, atmlst=None):\n",
    "    gs = np.zeros((mol.natm,3))\n",
    "    for j in range(mol.natm):\n",
    "        q2 =  mol.atom_charge(j) + dL[j]\n",
    "        r2 = mol.atom_coord(j) \n",
    "        for i in range(mol.natm):\n",
    "            if i != j:\n",
    "                q1 = mol.atom_charge(i) +dL[i]\n",
    "                r1 = mol.atom_coord(i)\n",
    "                r = np.sqrt(np.dot(r1-r2,r1-r2))\n",
    "                gs[j] -= q1 * q2 * (r2-r1) / r**3\n",
    "    if atmlst is not None:\n",
    "        gs = gs[atmlst]\n",
    "    return gs"
   ]
  },
  {
   "cell_type": "code",
   "execution_count": 34,
   "metadata": {},
   "outputs": [
    {
     "data": {
      "text/plain": [
       "array([[ 0.        ,  0.        ,  0.00061698],\n",
       "       [ 0.        ,  0.        , -0.00061698]])"
      ]
     },
     "execution_count": 34,
     "metadata": {},
     "output_type": "execute_result"
    }
   ],
   "source": [
    "ga_4=alc_deriv_grad_nuc(mol0,[.001,-.001])-g0.grad_nuc()\n",
    "ga_4"
   ]
  },
  {
   "cell_type": "code",
   "execution_count": 35,
   "metadata": {},
   "outputs": [
    {
     "data": {
      "text/plain": [
       "array([[ 0.        ,  0.        ,  0.00061698],\n",
       "       [ 0.        ,  0.        , -0.00061698]])"
      ]
     },
     "execution_count": 35,
     "metadata": {},
     "output_type": "execute_result"
    }
   ],
   "source": [
    "g1.grad_nuc()-g0.grad_nuc()"
   ]
  },
  {
   "cell_type": "code",
   "execution_count": 36,
   "metadata": {},
   "outputs": [
    {
     "data": {
      "text/plain": [
       "array([[  0.        ,   0.        ,  14.81481481],\n",
       "       [  0.        ,   0.        , -14.81481481]])"
      ]
     },
     "execution_count": 36,
     "metadata": {},
     "output_type": "execute_result"
    }
   ],
   "source": [
    "g0.grad_nuc()"
   ]
  },
  {
   "cell_type": "markdown",
   "metadata": {},
   "source": [
    "## Final comparison "
   ]
  },
  {
   "cell_type": "code",
   "execution_count": 37,
   "metadata": {},
   "outputs": [
    {
     "data": {
      "text/plain": [
       "array([[-1.32022221e-15,  8.94034965e-16,  2.90965619e+00],\n",
       "       [ 1.29874053e-15, -1.03335488e-14,  3.25468641e+00]])"
      ]
     },
     "execution_count": 37,
     "metadata": {},
     "output_type": "execute_result"
    }
   ],
   "source": [
    "ga_1+ga_2+ga_3+ga_4"
   ]
  },
  {
   "cell_type": "code",
   "execution_count": 38,
   "metadata": {},
   "outputs": [
    {
     "name": "stdout",
     "output_type": "stream",
     "text": [
      "--------------- RHF gradients ---------------\n",
      "         x                y                z\n",
      "0 C    -0.0000000000     0.0000000000     1.0869705326\n",
      "1 O     0.0000000000    -0.0000000000    -1.0869705326\n",
      "----------------------------------------------\n",
      "--------------- RHF gradients ---------------\n",
      "         x                y                z\n",
      "0 C    -0.0000000000     0.0000000000     1.0871732099\n",
      "1 O     0.0000000000    -0.0000000000    -1.0871732099\n",
      "----------------------------------------------\n"
     ]
    }
   ],
   "source": [
    "gfd=g1.grad()-g0.grad()"
   ]
  },
  {
   "cell_type": "code",
   "execution_count": 41,
   "metadata": {},
   "outputs": [
    {
     "name": "stdout",
     "output_type": "stream",
     "text": [
      "converged SCF energy = -105.439066087168\n",
      "--------------- RHF gradients ---------------\n",
      "         x                y                z\n",
      "0 C    -0.0000000000     0.0000000000     0.1755432988\n",
      "1 O     0.0000000000    -0.0000000000    -0.1755432988\n",
      "----------------------------------------------\n"
     ]
    },
    {
     "data": {
      "text/plain": [
       "<pyscf.grad.rhf.Gradients at 0x7f3730691110>"
      ]
     },
     "execution_count": 41,
     "metadata": {},
     "output_type": "execute_result"
    }
   ],
   "source": [
    "mol_nn=FcM(fcs=[1,-1],atom=\"C 0 0 0; O 0 0 2.05\",unit=\"Bohr\",basis=\"STO-3G\")\n",
    "mf_nn=scf.RHF(mol_nn)\n",
    "mf_nn.scf(dm0=mf_nn.init_guess_by_1e())\n",
    "g_nn=mf_nn.Gradients()\n",
    "g_nn.run()"
   ]
  },
  {
   "cell_type": "code",
   "execution_count": 44,
   "metadata": {},
   "outputs": [
    {
     "name": "stdout",
     "output_type": "stream",
     "text": [
      "converged SCF energy = -119.891952783638\n",
      "--------------- RHF gradients ---------------\n",
      "         x                y                z\n",
      "0 C    -0.0000000000    -0.0000000000     0.5777073343\n",
      "1 O     0.0000000000     0.0000000000    -0.5777073343\n",
      "----------------------------------------------\n"
     ]
    },
    {
     "data": {
      "text/plain": [
       "<pyscf.grad.rhf.Gradients at 0x7f3768033250>"
      ]
     },
     "execution_count": 44,
     "metadata": {},
     "output_type": "execute_result"
    }
   ],
   "source": [
    "mol_bf=FcM(fcs=[-1,1],atom=\"C 0 0 0; O 0 0 2.05\",unit=\"Bohr\",basis=\"STO-3G\")\n",
    "mf_bf=scf.RHF(mol_bf)\n",
    "mf_bf.scf(dm0=mf_bf.init_guess_by_1e())\n",
    "g_bf=mf_bf.Gradients()\n",
    "g_bf.run()"
   ]
  },
  {
   "cell_type": "code",
   "execution_count": 45,
   "metadata": {},
   "outputs": [
    {
     "name": "stdout",
     "output_type": "stream",
     "text": [
      "converged SCF energy = -111.21367962675\n",
      "--------------- RHF gradients ---------------\n",
      "         x                y                z\n",
      "0 C     0.0000000000     0.0000000000     0.2188666669\n",
      "1 O    -0.0000000000    -0.0000000000    -0.2188666669\n",
      "----------------------------------------------\n"
     ]
    },
    {
     "data": {
      "text/plain": [
       "<pyscf.grad.rhf.Gradients at 0x7f3730656710>"
      ]
     },
     "execution_count": 45,
     "metadata": {},
     "output_type": "execute_result"
    }
   ],
   "source": [
    "mol_bf=FcM(fcs=[0,0],atom=\"C 0 0 0; O 0 0 2.05\",unit=\"Bohr\",basis=\"STO-3G\")\n",
    "mf_bf=scf.RHF(mol_bf)\n",
    "mf_bf.scf(dm0=mf_bf.init_guess_by_1e())\n",
    "g_bf=mf_bf.Gradients()\n",
    "g_bf.run()"
   ]
  },
  {
   "cell_type": "code",
   "execution_count": null,
   "metadata": {},
   "outputs": [],
   "source": []
  },
  {
   "cell_type": "code",
   "execution_count": null,
   "metadata": {},
   "outputs": [],
   "source": []
  }
 ],
 "metadata": {
  "kernelspec": {
   "display_name": "Python 3",
   "language": "python",
   "name": "python3"
  },
  "language_info": {
   "codemirror_mode": {
    "name": "ipython",
    "version": 3
   },
   "file_extension": ".py",
   "mimetype": "text/x-python",
   "name": "python",
   "nbconvert_exporter": "python",
   "pygments_lexer": "ipython3",
   "version": "3.7.6"
  }
 },
 "nbformat": 4,
 "nbformat_minor": 4
}
