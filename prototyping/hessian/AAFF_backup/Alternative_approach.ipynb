{
 "cells": [
  {
   "cell_type": "code",
   "execution_count": 4,
   "metadata": {},
   "outputs": [],
   "source": [
    "from pyscf import scf,gto\n",
    "import numpy as np\n",
    "import inspect\n",
    "from alch_deriv import alch_deriv\n",
    "from FcMole import FcM\n",
    "import matplotlib.pyplot as plt\n",
    "from pyscf.grad import rhf as grhf  #### very important\n",
    "from pyscf.hessian import rhf as hrhf # without those two mf.Gradients() and mf.Hessian() don't work\n",
    "def DeltaV(mol,dL):\n",
    "    mol.set_rinv_orig_(mol.atom_coords()[0])\n",
    "    dV=mol.intor('int1e_rinv')*dL[0]\n",
    "    mol.set_rinv_orig_(mol.atom_coords()[1])\n",
    "    dV+=mol.intor('int1e_rinv')*dL[1]\n",
    "    return -dV"
   ]
  },
  {
   "cell_type": "markdown",
   "metadata": {},
   "source": [
    "The Goal is to show that the mixed derivative can also be computed via:\n",
    "$$\n",
    "\\frac{\\partial}{\\partial x} \\sum_{ij}P_{ij}\\Delta V_{ij} =\\sum_{ij} \\frac{\\partial P_{ij}}{\\partial x}\\Delta V_{ij}+ P_{ij}\\frac{\\partial \\Delta V_{ij}}{\\partial x}\n",
    "$$"
   ]
  },
  {
   "cell_type": "code",
   "execution_count": 5,
   "metadata": {},
   "outputs": [
    {
     "name": "stdout",
     "output_type": "stream",
     "text": [
      "converged SCF energy = -7.78904103070175\n",
      "--------------- RHF gradients ---------------\n",
      "         x                y                z\n",
      "0 H     0.0000000000     0.0000000000     0.2104913783\n",
      "1 Li     0.0000000000     0.0000000000    -0.2104913783\n",
      "----------------------------------------------\n"
     ]
    }
   ],
   "source": [
    "mol1=FcM(fcs=[.001,-.001],atom=\"H 0 0 0; Li 0 0 2.0\",unit=\"Bohr\",basis=\"STO-3G\")\n",
    "mf1=scf.RHF(mol1)\n",
    "mf1.scf(dm0=mf1.init_guess_by_atom())\n",
    "P1=mf1.make_rdm1()\n",
    "g1=mf1.Gradients()\n",
    "g1.run()\n",
    "ge1=g1.grad_elec()"
   ]
  },
  {
   "cell_type": "code",
   "execution_count": 6,
   "metadata": {},
   "outputs": [
    {
     "ename": "NameError",
     "evalue": "name 'mf' is not defined",
     "output_type": "error",
     "traceback": [
      "\u001b[0;31m---------------------------------------------------------------------------\u001b[0m",
      "\u001b[0;31mNameError\u001b[0m                                 Traceback (most recent call last)",
      "\u001b[0;32m<ipython-input-6-def2e3695492>\u001b[0m in \u001b[0;36m<module>\u001b[0;34m\u001b[0m\n\u001b[1;32m      1\u001b[0m \u001b[0mmol0\u001b[0m\u001b[0;34m=\u001b[0m\u001b[0mgto\u001b[0m\u001b[0;34m.\u001b[0m\u001b[0mM\u001b[0m\u001b[0;34m(\u001b[0m\u001b[0matom\u001b[0m\u001b[0;34m=\u001b[0m\u001b[0;34m\"H 0 0 0; Li 0 0 2.0\"\u001b[0m\u001b[0;34m,\u001b[0m\u001b[0munit\u001b[0m\u001b[0;34m=\u001b[0m\u001b[0;34m\"Bohr\"\u001b[0m\u001b[0;34m,\u001b[0m\u001b[0mbasis\u001b[0m\u001b[0;34m=\u001b[0m\u001b[0;34m\"STO-3G\"\u001b[0m\u001b[0;34m)\u001b[0m\u001b[0;34m\u001b[0m\u001b[0;34m\u001b[0m\u001b[0m\n\u001b[1;32m      2\u001b[0m \u001b[0mmf0\u001b[0m\u001b[0;34m=\u001b[0m\u001b[0mscf\u001b[0m\u001b[0;34m.\u001b[0m\u001b[0mRHF\u001b[0m\u001b[0;34m(\u001b[0m\u001b[0mmol0\u001b[0m\u001b[0;34m)\u001b[0m\u001b[0;34m\u001b[0m\u001b[0;34m\u001b[0m\u001b[0m\n\u001b[0;32m----> 3\u001b[0;31m \u001b[0mmf0\u001b[0m\u001b[0;34m.\u001b[0m\u001b[0mscf\u001b[0m\u001b[0;34m(\u001b[0m\u001b[0mdm0\u001b[0m\u001b[0;34m=\u001b[0m\u001b[0mmf\u001b[0m\u001b[0;34m.\u001b[0m\u001b[0minit_guess_by_atom\u001b[0m\u001b[0;34m(\u001b[0m\u001b[0;34m)\u001b[0m\u001b[0;34m)\u001b[0m\u001b[0;34m\u001b[0m\u001b[0;34m\u001b[0m\u001b[0m\n\u001b[0m\u001b[1;32m      4\u001b[0m \u001b[0mP0\u001b[0m\u001b[0;34m=\u001b[0m\u001b[0mmf0\u001b[0m\u001b[0;34m.\u001b[0m\u001b[0mmake_rdm1\u001b[0m\u001b[0;34m(\u001b[0m\u001b[0;34m)\u001b[0m\u001b[0;34m\u001b[0m\u001b[0;34m\u001b[0m\u001b[0m\n\u001b[1;32m      5\u001b[0m \u001b[0mh\u001b[0m\u001b[0;34m=\u001b[0m\u001b[0mmf\u001b[0m\u001b[0;34m.\u001b[0m\u001b[0mHessian\u001b[0m\u001b[0;34m(\u001b[0m\u001b[0;34m)\u001b[0m\u001b[0;34m\u001b[0m\u001b[0;34m\u001b[0m\u001b[0m\n",
      "\u001b[0;31mNameError\u001b[0m: name 'mf' is not defined"
     ]
    }
   ],
   "source": [
    "mol0=gto.M(atom=\"H 0 0 0; Li 0 0 2.0\",unit=\"Bohr\",basis=\"STO-3G\")\n",
    "mf0=scf.RHF(mol0)\n",
    "mf0.scf(dm0=mf.init_guess_by_atom())\n",
    "P0=mf0.make_rdm1()\n",
    "h=mf0.Hessian()\n",
    "g0=mf0.Gradients()\n",
    "g0.run()\n",
    "ge0=g0.grad_elec()"
   ]
  },
  {
   "cell_type": "code",
   "execution_count": null,
   "metadata": {},
   "outputs": [],
   "source": [
    "# now is to understand how Pyscf computes dP/dx\n",
    "h1ao=h.make_h1(mf0.mo_coeff,mf0.mo_occ)"
   ]
  },
  {
   "cell_type": "code",
   "execution_count": null,
   "metadata": {},
   "outputs": [],
   "source": [
    "mo_energy = mf0.mo_energy\n",
    "mo_occ = mf.mo_occ\n",
    "mo_coeff = mf0.mo_coeff\n",
    "atmlst = range(mol.natm)"
   ]
  },
  {
   "cell_type": "code",
   "execution_count": null,
   "metadata": {},
   "outputs": [],
   "source": [
    "mo1_a0,mo1_a1=h.solve_mo1(mo_energy,mo_coeff,mo_occ,h1ao)[0]"
   ]
  },
  {
   "cell_type": "code",
   "execution_count": null,
   "metadata": {},
   "outputs": [],
   "source": [
    "mocc = mo_coeff[:,mo_occ>0]"
   ]
  },
  {
   "cell_type": "code",
   "execution_count": null,
   "metadata": {},
   "outputs": [],
   "source": [
    "dm1_1 = np.einsum('ypi,qi->ypq', mo1_a1, mocc)\n",
    "dm1_1.shape"
   ]
  },
  {
   "cell_type": "code",
   "execution_count": null,
   "metadata": {},
   "outputs": [],
   "source": [
    "dp_cphf=(dm1_1[2]+(dm1_1[2]).T)*2"
   ]
  },
  {
   "cell_type": "code",
   "execution_count": null,
   "metadata": {},
   "outputs": [],
   "source": [
    "dV=DeltaV(mol,[.001,-.001])"
   ]
  },
  {
   "cell_type": "code",
   "execution_count": null,
   "metadata": {},
   "outputs": [],
   "source": [
    "np.einsum('ij,ij',dp_cphf,dV),ge1-ge0"
   ]
  },
  {
   "cell_type": "markdown",
   "metadata": {},
   "source": [
    "Getting the second part P*dH/dZdx"
   ]
  },
  {
   "cell_type": "code",
   "execution_count": null,
   "metadata": {},
   "outputs": [],
   "source": [
    "NUC_FRAC_CHARGE=gto.mole.NUC_FRAC_CHARGE\n",
    "NUC_MOD_OF=gto.mole.NUC_MOD_OF\n",
    "PTR_FRAC_CHARGE=gto.mole.PTR_FRAC_CHARGE\n",
    "denv=mol._env.copy()\n",
    "datm=mol._atm.copy()\n",
    "fcs=[.001,-.001]\n",
    "datm[:,NUC_MOD_OF] = NUC_FRAC_CHARGE\n",
    "for i in range (mol.natm):\n",
    "    denv[datm[i,PTR_FRAC_CHARGE]]=fcs[i] \n",
    "dH1=-gto.moleintor.getints('int1e_ipnuc_sph',datm,mol._bas,denv, None,3,0,'s1')"
   ]
  },
  {
   "cell_type": "code",
   "execution_count": null,
   "metadata": {},
   "outputs": [],
   "source": [
    "comp2=np.zeros((2,3,6,6))  \n",
    "dL=[.001,-.001]\n",
    "for atm_id in [0,1]:\n",
    "    with mol.with_rinv_at_nucleus(atm_id):\n",
    "        vrinv = -mol.intor('int1e_iprinv', comp=3)\n",
    "    shl0, shl1, p0, p1 = mol.aoslice_by_atom()[atm_id]\n",
    "    vrinv*=dL[atm_id]\n",
    "    vrinv[:,p0:p1] += dH1[:,p0:p1] \n",
    "    vrinv += vrinv.transpose(0,2,1)\n",
    "    comp2[atm_id]=vrinv"
   ]
  },
  {
   "cell_type": "code",
   "execution_count": null,
   "metadata": {},
   "outputs": [],
   "source": [
    "np.einsum('xyij,ij->xy',comp2,P) "
   ]
  },
  {
   "cell_type": "code",
   "execution_count": null,
   "metadata": {},
   "outputs": [],
   "source": [
    "0.00035794-0.00040586+4.766111943088071e-05"
   ]
  },
  {
   "cell_type": "code",
   "execution_count": null,
   "metadata": {},
   "outputs": [],
   "source": [
    "#error<0.1%"
   ]
  }
 ],
 "metadata": {
  "kernelspec": {
   "display_name": "Python 3",
   "language": "python",
   "name": "python3"
  },
  "language_info": {
   "codemirror_mode": {
    "name": "ipython",
    "version": 3
   },
   "file_extension": ".py",
   "mimetype": "text/x-python",
   "name": "python",
   "nbconvert_exporter": "python",
   "pygments_lexer": "ipython3",
   "version": "3.7.6"
  }
 },
 "nbformat": 4,
 "nbformat_minor": 4
}
