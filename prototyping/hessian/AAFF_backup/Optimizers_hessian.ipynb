{
 "cells": [
  {
   "cell_type": "code",
   "execution_count": 1,
   "metadata": {},
   "outputs": [],
   "source": [
    "import pyscf\n",
    "import pyscf.qmmm\n",
    "from pyscf import gto, scf\n",
    "import numpy as np\n",
    "import matplotlib.pyplot as plt\n",
    "from pyscf.geomopt.berny_solver import optimize \n",
    "from pyscf.grad import rhf as grhf\n",
    "from pyscf.hessian import rhf as hrhf\n",
    "from pyscf import lib\n",
    "import inspect\n",
    "from functools import reduce\n",
    "from pyscf.scf import cphf\n",
    "angstrom = 1 / 0.52917721067\n",
    "from pyscf.scf._response_functions import _gen_rhf_response \n",
    "#mol_eq = optimize(mf)\n",
    "#print(mol_eq.atom_coords())"
   ]
  },
  {
   "cell_type": "code",
   "execution_count": 2,
   "metadata": {},
   "outputs": [],
   "source": [
    "def DeltaV(mol,dL):\n",
    "    mol.set_rinv_orig_(mol.atom_coords()[0])\n",
    "    dV=mol.intor('int1e_rinv')*dL[0]\n",
    "    mol.set_rinv_orig_(mol.atom_coords()[1])\n",
    "    dV+=mol.intor('int1e_rinv')*dL[1]\n",
    "    return -dV"
   ]
  },
  {
   "cell_type": "code",
   "execution_count": 102,
   "metadata": {},
   "outputs": [
    {
     "name": "stdout",
     "output_type": "stream",
     "text": [
      "converged SCF energy = -1.11022683913526\n",
      "converged SCF energy = -1.11033388268018\n",
      "converged SCF energy = -1.11044001125658\n"
     ]
    }
   ],
   "source": [
    "mol1 = gto.M(atom='H 0 0 0; H 0 0 1.199', unit=\"Bohr\",basis=\"sto-3g\")\n",
    "mf1 = scf.RHF(mol1)\n",
    "e1=mf1.scf()\n",
    "mol = gto.M(atom='H 0 0 0; H 0 0 1.2', unit=\"Bohr\",basis=\"sto-3g\")\n",
    "mf = scf.RHF(mol)\n",
    "e=mf.scf()\n",
    "mol2 = gto.M(atom='H 0 0 0; H 0 0 1.201', unit=\"Bohr\",basis=\"sto-3g\")\n",
    "mf2 = scf.RHF(mol2)\n",
    "e2=mf2.scf()"
   ]
  },
  {
   "cell_type": "code",
   "execution_count": 103,
   "metadata": {},
   "outputs": [],
   "source": [
    "def fc(calc,deltaZ):\n",
    "    mf = pyscf.qmmm.mm_charge(calc, calc.mol.atom_coords(), deltaZ)  # now is add_mm_charge\n",
    "    class NoSelfQMMM(mf.__class__):\n",
    "        def energy_nuc(self):\n",
    "            q = self.mol.atom_charges().astype(np.float).copy()\n",
    "            q1 =q+ np.asarray(deltaZ) \n",
    "            return self.mol.energy_nuc(q1)\n",
    "    return(NoSelfQMMM(mf,mf.mm_mol))"
   ]
  },
  {
   "cell_type": "code",
   "execution_count": 104,
   "metadata": {},
   "outputs": [],
   "source": [
    "C=mf.mo_coeff\n",
    "P=mf.make_rdm1()\n",
    "O=np.diag(mf.mo_occ)\n",
    "mo_coeff=mf.mo_coeff\n",
    "mo_occ=mf.mo_occ\n",
    "mo_energy=mf.mo_energy"
   ]
  },
  {
   "cell_type": "code",
   "execution_count": 105,
   "metadata": {},
   "outputs": [
    {
     "name": "stdout",
     "output_type": "stream",
     "text": [
      "converged SCF energy = -1.11050145845196\n"
     ]
    },
    {
     "data": {
      "text/plain": [
       "array([[   0.78377375, -271.1741901 ],\n",
       "       [  -0.78557085,  271.79596082]])"
      ]
     },
     "execution_count": 105,
     "metadata": {},
     "output_type": "execute_result"
    }
   ],
   "source": [
    "mfa=fc(mf,[.01,-.01])\n",
    "mfa.run()\n",
    "P1=(mfa.make_rdm1()-P)\n",
    "C1=(mfa.mo_coeff-C)/.01\n",
    "C1"
   ]
  },
  {
   "cell_type": "code",
   "execution_count": 106,
   "metadata": {},
   "outputs": [
    {
     "name": "stdout",
     "output_type": "stream",
     "text": [
      "grad= -0.1065860606637159\n",
      "sec_deriv= 0.914968513399117\n"
     ]
    }
   ],
   "source": [
    "print('grad=', (e2-e1)/.002)\n",
    "print('sec_deriv=',(e2+e1-2*e)/.001**2)"
   ]
  },
  {
   "cell_type": "code",
   "execution_count": 107,
   "metadata": {},
   "outputs": [
    {
     "name": "stdout",
     "output_type": "stream",
     "text": [
      "converged SCF energy = -1.11033388268018\n",
      "converged SCF energy = -1.11033388268018\n",
      "[array([[[ 0.        ]],\n",
      "\n",
      "       [[ 0.        ]],\n",
      "\n",
      "       [[-0.01403631]]]), array([[[0.        ]],\n",
      "\n",
      "       [[0.        ]],\n",
      "\n",
      "       [[0.01403631]]])]\n"
     ]
    }
   ],
   "source": [
    "print(hrhf.solve_mo1(mol,mf.mo_energy, mf.mo_coeff, mf.mo_occ,np.zeros((3,3)))[1])"
   ]
  },
  {
   "cell_type": "code",
   "execution_count": 108,
   "metadata": {},
   "outputs": [
    {
     "name": "stdout",
     "output_type": "stream",
     "text": [
      "--------------- RHF gradients ---------------\n",
      "         x                y                z\n",
      "0 H     0.0000000000     0.0000000000     0.1065855689\n",
      "1 H     0.0000000000     0.0000000000    -0.1065855689\n",
      "----------------------------------------------\n"
     ]
    },
    {
     "data": {
      "text/plain": [
       "array([[ 0.        ,  0.        ,  0.10658557],\n",
       "       [ 0.        ,  0.        , -0.10658557]])"
      ]
     },
     "execution_count": 108,
     "metadata": {},
     "output_type": "execute_result"
    }
   ],
   "source": [
    "g = mf.Gradients()\n",
    "g.kernel()\n",
    "#print(lib.finger(g.kernel()) - -0.049887865971659243)"
   ]
  },
  {
   "cell_type": "code",
   "execution_count": 109,
   "metadata": {},
   "outputs": [
    {
     "data": {
      "text/plain": [
       "array([[[[-0.08882131,  0.        ,  0.        ],\n",
       "         [ 0.        , -0.08882131,  0.        ],\n",
       "         [ 0.        ,  0.        ,  0.91496769]],\n",
       "\n",
       "        [[ 0.08882131,  0.        ,  0.        ],\n",
       "         [ 0.        ,  0.08882131,  0.        ],\n",
       "         [ 0.        ,  0.        , -0.91496769]]],\n",
       "\n",
       "\n",
       "       [[[ 0.08882131,  0.        ,  0.        ],\n",
       "         [ 0.        ,  0.08882131,  0.        ],\n",
       "         [ 0.        ,  0.        , -0.91496769]],\n",
       "\n",
       "        [[-0.08882131,  0.        ,  0.        ],\n",
       "         [ 0.        , -0.08882131,  0.        ],\n",
       "         [ 0.        ,  0.        ,  0.91496769]]]])"
      ]
     },
     "execution_count": 109,
     "metadata": {},
     "output_type": "execute_result"
    }
   ],
   "source": [
    "hs=mf.Hessian()\n",
    "hs.kernel()"
   ]
  },
  {
   "cell_type": "code",
   "execution_count": 110,
   "metadata": {},
   "outputs": [
    {
     "data": {
      "text/plain": [
       "array([[-0.08882131,  0.        ,  0.        ],\n",
       "       [ 0.        , -0.08882131,  0.        ],\n",
       "       [ 0.        ,  0.        ,  0.91496769]])"
      ]
     },
     "execution_count": 110,
     "metadata": {},
     "output_type": "execute_result"
    }
   ],
   "source": [
    "hs.kernel()[0][0]"
   ]
  },
  {
   "cell_type": "markdown",
   "metadata": {},
   "source": [
    "Which methods are called by rhf.hessian and which by rhf.grad ?"
   ]
  },
  {
   "cell_type": "code",
   "execution_count": 111,
   "metadata": {},
   "outputs": [
    {
     "data": {
      "text/plain": [
       "array([[[[-0.08882131,  0.        ,  0.        ],\n",
       "         [ 0.        , -0.08882131,  0.        ],\n",
       "         [ 0.        ,  0.        ,  0.91496769]],\n",
       "\n",
       "        [[ 0.08882131,  0.        ,  0.        ],\n",
       "         [ 0.        ,  0.08882131,  0.        ],\n",
       "         [ 0.        ,  0.        , -0.91496769]]],\n",
       "\n",
       "\n",
       "       [[[ 0.08882131,  0.        ,  0.        ],\n",
       "         [ 0.        ,  0.08882131,  0.        ],\n",
       "         [ 0.        ,  0.        , -0.91496769]],\n",
       "\n",
       "        [[-0.08882131,  0.        ,  0.        ],\n",
       "         [ 0.        , -0.08882131,  0.        ],\n",
       "         [ 0.        ,  0.        ,  0.91496769]]]])"
      ]
     },
     "execution_count": 111,
     "metadata": {},
     "output_type": "execute_result"
    }
   ],
   "source": [
    "hs.hess_nuc()+hs.hess_elec()"
   ]
  },
  {
   "cell_type": "code",
   "execution_count": 112,
   "metadata": {},
   "outputs": [
    {
     "data": {
      "text/plain": [
       "array([[[[ 0.4898824 ,  0.        ,  0.        ],\n",
       "         [ 0.        ,  0.4898824 ,  0.        ],\n",
       "         [ 0.        ,  0.        , -0.24243972]],\n",
       "\n",
       "        [[-0.4898824 ,  0.        ,  0.        ],\n",
       "         [ 0.        , -0.4898824 ,  0.        ],\n",
       "         [ 0.        ,  0.        ,  0.24243972]]],\n",
       "\n",
       "\n",
       "       [[[-0.4898824 ,  0.        ,  0.        ],\n",
       "         [ 0.        , -0.4898824 ,  0.        ],\n",
       "         [ 0.        ,  0.        ,  0.24243972]],\n",
       "\n",
       "        [[ 0.4898824 ,  0.        ,  0.        ],\n",
       "         [ 0.        ,  0.4898824 ,  0.        ],\n",
       "         [ 0.        ,  0.        , -0.24243972]]]])"
      ]
     },
     "execution_count": 112,
     "metadata": {},
     "output_type": "execute_result"
    }
   ],
   "source": [
    "hs.hess_elec()"
   ]
  },
  {
   "cell_type": "markdown",
   "metadata": {},
   "source": [
    "Hessian is divided in two part hess_elec()+hess_nuc()\n",
    "<br>\n",
    "<b> hess_elec() </b> calls  <b>solve_mo1() </b>, than <b>cphf.solve</b>(fx, mo_energy, mo_occ, h1vo, s1vo)"
   ]
  },
  {
   "cell_type": "code",
   "execution_count": 113,
   "metadata": {},
   "outputs": [],
   "source": [
    "#fx is a function  fx(dm_mo) => v1_mo.  A function to generate the induced potential.\n",
    "#also passes through  pyscf.scf._response_functions._gen_rhf_response\n",
    "fx=pyscf.hessian.rhf.gen_vind(mf,mf.mo_coeff,mf.mo_occ)\n",
    "#h1vo come from h1ao generated by the function: is a list with an element per each atom\n",
    "h1ao=hs.make_h1(mf.mo_coeff,mf.mo_occ)\n",
    "#s1ao comes from the espextation value of the nabla operator\n",
    "s1ao=mol.intor('int1e_ipovlp', comp=3).shape        "
   ]
  },
  {
   "cell_type": "code",
   "execution_count": 114,
   "metadata": {},
   "outputs": [],
   "source": [
    "#dm1 = numpy.einsum('ypi,qi->ypq', mo1[ja], mocc) #for every mo1[atom_idx]"
   ]
  },
  {
   "cell_type": "code",
   "execution_count": 115,
   "metadata": {},
   "outputs": [],
   "source": [
    "nao, nmo = mo_coeff.shape\n",
    "mocc = mo_coeff[:,mo_occ>0] \n",
    "nocc = mocc.shape[1]\n",
    "vresp = _gen_rhf_response(mf, mo_coeff, mo_occ, hermi=1)"
   ]
  },
  {
   "cell_type": "code",
   "execution_count": 116,
   "metadata": {},
   "outputs": [
    {
     "data": {
      "text/plain": [
       "'nao, nmo = mo_coeff.shape\\nmocc = mo_coeff[:,mo_occ>0]\\nnocc = mocc.shape[1]\\nvresp = _gen_rhf_response(mf, mo_coeff, mo_occ, hermi=1)  ##############################\\ndef fx(mo1):    \\n    mo1 = mo1.reshape(-1,nmo,nocc)\\n    nset = len(mo1)\\n    dm1 = np.empty((nset,nao,nao))\\n    for i, x in enumerate(mo1):\\n        dm = reduce(np.dot, (mo_coeff, x*2, mocc.T)) # *2 for double occupancy\\n        dm1[i] = dm + dm.T\\n    v1 = vresp(dm1)    # M.O.\\n    v1vo = np.empty_like(mo1)\\n    for i, x in enumerate(v1):\\n        v1vo[i] = reduce(np.dot, (mo_coeff.T, x, mocc))\\n    return v1vo'"
      ]
     },
     "execution_count": 116,
     "metadata": {},
     "output_type": "execute_result"
    }
   ],
   "source": [
    "#hs.gen_vind(mf, mo_coeff, mo_occ):\n",
    "\"\"\"nao, nmo = mo_coeff.shape\n",
    "mocc = mo_coeff[:,mo_occ>0]\n",
    "nocc = mocc.shape[1]\n",
    "vresp = _gen_rhf_response(mf, mo_coeff, mo_occ, hermi=1)  ##############################\n",
    "def fx(mo1):    \n",
    "    mo1 = mo1.reshape(-1,nmo,nocc)\n",
    "    nset = len(mo1)\n",
    "    dm1 = np.empty((nset,nao,nao))\n",
    "    for i, x in enumerate(mo1):\n",
    "        dm = reduce(np.dot, (mo_coeff, x*2, mocc.T)) # *2 for double occupancy\n",
    "        dm1[i] = dm + dm.T\n",
    "    v1 = vresp(dm1)    # M.O.\n",
    "    v1vo = np.empty_like(mo1)\n",
    "    for i, x in enumerate(v1):\n",
    "        v1vo[i] = reduce(np.dot, (mo_coeff.T, x, mocc))\n",
    "    return v1vo\"\"\""
   ]
  },
  {
   "cell_type": "code",
   "execution_count": 117,
   "metadata": {},
   "outputs": [
    {
     "data": {
      "text/plain": [
       "array([[[0.81969714, 0.50806081],\n",
       "        [0.50806081, 0.94315408]],\n",
       "\n",
       "       [[0.81969714, 0.50806081],\n",
       "        [0.50806081, 0.94315408]]])"
      ]
     },
     "execution_count": 117,
     "metadata": {},
     "output_type": "execute_result"
    }
   ],
   "source": [
    "mo1=P.copy()\n",
    "mo1 = mo1.reshape(-1,nmo,nocc)\n",
    "nset = len(mo1)\n",
    "dm1 = np.empty((nset,nao,nao))\n",
    "for i, x in enumerate(mo1):\n",
    "    dm = reduce(np.dot, (mo_coeff, x*2, mocc.T)) # *2 for double occupancy\n",
    "    dm1[i] = dm + dm.T\n",
    "v1 = vresp(dm1)\n",
    "v1"
   ]
  },
  {
   "cell_type": "code",
   "execution_count": 118,
   "metadata": {},
   "outputs": [
    {
     "name": "stdout",
     "output_type": "stream",
     "text": [
      "0 [[0.57848631]\n",
      " [0.57848631]]\n",
      "1 [[0.57848631]\n",
      " [0.57848631]]\n"
     ]
    }
   ],
   "source": [
    "for i, x in enumerate(mo1):\n",
    "    print(i,x)"
   ]
  },
  {
   "cell_type": "code",
   "execution_count": 119,
   "metadata": {},
   "outputs": [
    {
     "data": {
      "text/plain": [
       "array([[0.76183791, 0.43912951],\n",
       "       [0.43912951, 0.76183791]])"
      ]
     },
     "execution_count": 119,
     "metadata": {},
     "output_type": "execute_result"
    }
   ],
   "source": [
    "vresp(P)"
   ]
  },
  {
   "cell_type": "code",
   "execution_count": 120,
   "metadata": {},
   "outputs": [
    {
     "data": {
      "text/plain": [
       "array([[[ 0.80379887],\n",
       "        [-0.09012943]],\n",
       "\n",
       "       [[ 0.80379887],\n",
       "        [-0.09012943]]])"
      ]
     },
     "execution_count": 120,
     "metadata": {},
     "output_type": "execute_result"
    }
   ],
   "source": [
    "fx(P)"
   ]
  },
  {
   "cell_type": "code",
   "execution_count": 121,
   "metadata": {},
   "outputs": [
    {
     "data": {
      "text/plain": [
       "array([[0.76183791, 0.43912951],\n",
       "       [0.43912951, 0.76183791]])"
      ]
     },
     "execution_count": 121,
     "metadata": {},
     "output_type": "execute_result"
    }
   ],
   "source": [
    "mf.get_veff()"
   ]
  },
  {
   "cell_type": "code",
   "execution_count": 122,
   "metadata": {},
   "outputs": [
    {
     "data": {
      "text/plain": [
       "array([[-4.13186739,  1.85496905],\n",
       "       [ 1.85496905, -0.95965978]])"
      ]
     },
     "execution_count": 122,
     "metadata": {},
     "output_type": "execute_result"
    }
   ],
   "source": [
    "C@mf.get_hcore()@C.T"
   ]
  },
  {
   "cell_type": "code",
   "execution_count": 123,
   "metadata": {},
   "outputs": [
    {
     "data": {
      "text/plain": [
       "[array([[[ 0.        ,  0.        ],\n",
       "         [ 0.        ,  0.        ]],\n",
       " \n",
       "        [[ 0.        ,  0.        ],\n",
       "         [ 0.        ,  0.        ]],\n",
       " \n",
       "        [[-0.21158437, -0.18574562],\n",
       "         [-0.18574562, -0.21158437]]]), array([[[0.        , 0.        ],\n",
       "         [0.        , 0.        ]],\n",
       " \n",
       "        [[0.        , 0.        ],\n",
       "         [0.        , 0.        ]],\n",
       " \n",
       "        [[0.21158437, 0.18574562],\n",
       "         [0.18574562, 0.21158437]]])]"
      ]
     },
     "execution_count": 123,
     "metadata": {},
     "output_type": "execute_result"
    }
   ],
   "source": [
    "mf.Hessian().make_h1(mf.mo_coeff,mf.mo_occ)"
   ]
  },
  {
   "cell_type": "code",
   "execution_count": 124,
   "metadata": {},
   "outputs": [
    {
     "data": {
      "text/plain": [
       "(3, 2, 2)"
      ]
     },
     "execution_count": 124,
     "metadata": {},
     "output_type": "execute_result"
    }
   ],
   "source": [
    "mol.intor('int1e_ipovlp', comp=3).shape  # nabla operator"
   ]
  },
  {
   "cell_type": "code",
   "execution_count": 125,
   "metadata": {},
   "outputs": [
    {
     "data": {
      "text/plain": [
       "[array([[[ 0.        ]],\n",
       " \n",
       "        [[ 0.        ]],\n",
       " \n",
       "        [[-0.24388626]]]), array([[[0.        ]],\n",
       " \n",
       "        [[0.        ]],\n",
       " \n",
       "        [[0.24388626]]])]"
      ]
     },
     "execution_count": 125,
     "metadata": {},
     "output_type": "execute_result"
    }
   ],
   "source": [
    "hs=mf.Hessian()\n",
    "hs.solve_mo1(mf.mo_energy ,mf.mo_coeff,mf.mo_occ, hs.make_h1(mf.mo_coeff,mf.mo_occ))[1]"
   ]
  },
  {
   "cell_type": "code",
   "execution_count": 126,
   "metadata": {},
   "outputs": [
    {
     "data": {
      "text/plain": [
       "array([[-0.49905405, -0.        ],\n",
       "       [-0.        ,  0.49905405]])"
      ]
     },
     "execution_count": 126,
     "metadata": {},
     "output_type": "execute_result"
    }
   ],
   "source": [
    "DeltaV(mol,[1,-1])"
   ]
  },
  {
   "cell_type": "code",
   "execution_count": 127,
   "metadata": {},
   "outputs": [
    {
     "data": {
      "text/plain": [
       "(array([-0.624462  ,  0.79184861]), array([[ 0.53781331,  1.35743672],\n",
       "        [ 0.53781331, -1.35743672]]))"
      ]
     },
     "execution_count": 127,
     "metadata": {},
     "output_type": "execute_result"
    }
   ],
   "source": [
    "mf.mo_energy ,mf.mo_coeff"
   ]
  },
  {
   "cell_type": "code",
   "execution_count": 128,
   "metadata": {},
   "outputs": [
    {
     "data": {
      "text/plain": [
       "(array([[0.70605981]]), array([0.79184861]), array([-0.624462]))"
      ]
     },
     "execution_count": 128,
     "metadata": {},
     "output_type": "execute_result"
    }
   ],
   "source": [
    "e_a = mo_energy[mo_occ<=0]\n",
    "e_i = mo_energy[mo_occ>0] \n",
    "e_ai = 1 / lib.direct_sum('a-i->ai', e_a, e_i)\n",
    "e_ai,e_a,e_i"
   ]
  },
  {
   "cell_type": "code",
   "execution_count": 129,
   "metadata": {},
   "outputs": [
    {
     "data": {
      "text/plain": [
       "array([[-0.01063922]])"
      ]
     },
     "execution_count": 129,
     "metadata": {},
     "output_type": "execute_result"
    }
   ],
   "source": [
    "C[mo_occ<=0,:]@DeltaV(mol,[.01,-.01])@(C[mo_occ>0,:]).T"
   ]
  },
  {
   "cell_type": "code",
   "execution_count": 163,
   "metadata": {},
   "outputs": [
    {
     "data": {
      "text/plain": [
       "array([[ 0.00775226, -0.01063922],\n",
       "       [-0.01063922,  0.00775226]])"
      ]
     },
     "execution_count": 163,
     "metadata": {},
     "output_type": "execute_result"
    }
   ],
   "source": [
    "C@DeltaV(mol,[.01,-.01])@(C.T)"
   ]
  },
  {
   "cell_type": "code",
   "execution_count": 161,
   "metadata": {
    "scrolled": true
   },
   "outputs": [
    {
     "ename": "ValueError",
     "evalue": "non-broadcastable output operand with shape (2,) doesn't match the broadcast shape (1,2)",
     "output_type": "error",
     "traceback": [
      "\u001b[0;31m---------------------------------------------------------------------------\u001b[0m",
      "\u001b[0;31mValueError\u001b[0m                                Traceback (most recent call last)",
      "\u001b[0;32m<ipython-input-161-f947f82145cb>\u001b[0m in \u001b[0;36m<module>\u001b[0;34m\u001b[0m\n\u001b[1;32m      1\u001b[0m \u001b[0;31m#hs.solve_mo1(mf.mo_energy ,mf.mo_coeff,mf.mo_occ, DeltaV(mol,[1,-1]))\u001b[0m\u001b[0;34m\u001b[0m\u001b[0;34m\u001b[0m\u001b[0;34m\u001b[0m\u001b[0m\n\u001b[0;32m----> 2\u001b[0;31m \u001b[0mdC\u001b[0m\u001b[0;34m=\u001b[0m\u001b[0mcphf\u001b[0m\u001b[0;34m.\u001b[0m\u001b[0msolve_nos1\u001b[0m\u001b[0;34m(\u001b[0m\u001b[0mfx\u001b[0m\u001b[0;34m,\u001b[0m \u001b[0mmf\u001b[0m\u001b[0;34m.\u001b[0m\u001b[0mmo_energy\u001b[0m \u001b[0;34m,\u001b[0m\u001b[0mmf\u001b[0m\u001b[0;34m.\u001b[0m\u001b[0mmo_occ\u001b[0m\u001b[0;34m,\u001b[0m \u001b[0;34m(\u001b[0m\u001b[0mC\u001b[0m\u001b[0;34m@\u001b[0m\u001b[0mDeltaV\u001b[0m\u001b[0;34m(\u001b[0m\u001b[0mmol\u001b[0m\u001b[0;34m,\u001b[0m\u001b[0;34m[\u001b[0m\u001b[0;36m.01\u001b[0m\u001b[0;34m,\u001b[0m\u001b[0;34m-\u001b[0m\u001b[0;36m.01\u001b[0m\u001b[0;34m]\u001b[0m\u001b[0;34m)\u001b[0m\u001b[0;34m@\u001b[0m\u001b[0mC\u001b[0m\u001b[0;34m.\u001b[0m\u001b[0mT\u001b[0m\u001b[0;34m@\u001b[0m\u001b[0mmo_occ\u001b[0m\u001b[0;34m)\u001b[0m\u001b[0;34m.\u001b[0m\u001b[0mT\u001b[0m\u001b[0;34m)\u001b[0m\u001b[0;34m[\u001b[0m\u001b[0;36m0\u001b[0m\u001b[0;34m]\u001b[0m\u001b[0;34m\u001b[0m\u001b[0;34m\u001b[0m\u001b[0m\n\u001b[0m\u001b[1;32m      3\u001b[0m \u001b[0mdC\u001b[0m\u001b[0;34m\u001b[0m\u001b[0;34m\u001b[0m\u001b[0m\n",
      "\u001b[0;32m~/.local/lib/python3.6/site-packages/pyscf/scf/cphf.py\u001b[0m in \u001b[0;36msolve_nos1\u001b[0;34m(fvind, mo_energy, mo_occ, h1, max_cycle, tol, hermi, verbose)\u001b[0m\n\u001b[1;32m     63\u001b[0m         \u001b[0;32mreturn\u001b[0m \u001b[0mv\u001b[0m\u001b[0;34m.\u001b[0m\u001b[0mravel\u001b[0m\u001b[0;34m(\u001b[0m\u001b[0;34m)\u001b[0m\u001b[0;34m\u001b[0m\u001b[0;34m\u001b[0m\u001b[0m\n\u001b[1;32m     64\u001b[0m     mo1 = lib.krylov(vind_vo, mo1base.ravel(),\n\u001b[0;32m---> 65\u001b[0;31m                      tol=tol, max_cycle=max_cycle, hermi=hermi, verbose=log)\n\u001b[0m\u001b[1;32m     66\u001b[0m     \u001b[0mlog\u001b[0m\u001b[0;34m.\u001b[0m\u001b[0mtimer\u001b[0m\u001b[0;34m(\u001b[0m\u001b[0;34m'krylov solver in CPHF'\u001b[0m\u001b[0;34m,\u001b[0m \u001b[0;34m*\u001b[0m\u001b[0mt0\u001b[0m\u001b[0;34m)\u001b[0m\u001b[0;34m\u001b[0m\u001b[0;34m\u001b[0m\u001b[0m\n\u001b[1;32m     67\u001b[0m     \u001b[0;32mreturn\u001b[0m \u001b[0mmo1\u001b[0m\u001b[0;34m.\u001b[0m\u001b[0mreshape\u001b[0m\u001b[0;34m(\u001b[0m\u001b[0mh1\u001b[0m\u001b[0;34m.\u001b[0m\u001b[0mshape\u001b[0m\u001b[0;34m)\u001b[0m\u001b[0;34m,\u001b[0m \u001b[0;32mNone\u001b[0m\u001b[0;34m\u001b[0m\u001b[0;34m\u001b[0m\u001b[0m\n",
      "\u001b[0;32m~/.local/lib/python3.6/site-packages/pyscf/lib/linalg_helper.py\u001b[0m in \u001b[0;36mkrylov\u001b[0;34m(aop, b, x0, tol, max_cycle, dot, lindep, callback, hermi, max_memory, verbose)\u001b[0m\n\u001b[1;32m   1343\u001b[0m     \u001b[0mmax_cycle\u001b[0m \u001b[0;34m=\u001b[0m \u001b[0mmin\u001b[0m\u001b[0;34m(\u001b[0m\u001b[0mmax_cycle\u001b[0m\u001b[0;34m,\u001b[0m \u001b[0mndim\u001b[0m\u001b[0;34m)\u001b[0m\u001b[0;34m\u001b[0m\u001b[0;34m\u001b[0m\u001b[0m\n\u001b[1;32m   1344\u001b[0m     \u001b[0;32mfor\u001b[0m \u001b[0mcycle\u001b[0m \u001b[0;32min\u001b[0m \u001b[0mrange\u001b[0m\u001b[0;34m(\u001b[0m\u001b[0mmax_cycle\u001b[0m\u001b[0;34m)\u001b[0m\u001b[0;34m:\u001b[0m\u001b[0;34m\u001b[0m\u001b[0;34m\u001b[0m\u001b[0m\n\u001b[0;32m-> 1345\u001b[0;31m         \u001b[0maxt\u001b[0m \u001b[0;34m=\u001b[0m \u001b[0maop\u001b[0m\u001b[0;34m(\u001b[0m\u001b[0mx1\u001b[0m\u001b[0;34m)\u001b[0m\u001b[0;34m\u001b[0m\u001b[0;34m\u001b[0m\u001b[0m\n\u001b[0m\u001b[1;32m   1346\u001b[0m         \u001b[0;32mif\u001b[0m \u001b[0maxt\u001b[0m\u001b[0;34m.\u001b[0m\u001b[0mndim\u001b[0m \u001b[0;34m==\u001b[0m \u001b[0;36m1\u001b[0m\u001b[0;34m:\u001b[0m\u001b[0;34m\u001b[0m\u001b[0;34m\u001b[0m\u001b[0m\n\u001b[1;32m   1347\u001b[0m             \u001b[0maxt\u001b[0m \u001b[0;34m=\u001b[0m \u001b[0maxt\u001b[0m\u001b[0;34m.\u001b[0m\u001b[0mreshape\u001b[0m\u001b[0;34m(\u001b[0m\u001b[0;36m1\u001b[0m\u001b[0;34m,\u001b[0m\u001b[0mndim\u001b[0m\u001b[0;34m)\u001b[0m\u001b[0;34m\u001b[0m\u001b[0;34m\u001b[0m\u001b[0m\n",
      "\u001b[0;32m~/.local/lib/python3.6/site-packages/pyscf/scf/cphf.py\u001b[0m in \u001b[0;36mvind_vo\u001b[0;34m(mo1)\u001b[0m\n\u001b[1;32m     60\u001b[0m     \u001b[0;32mdef\u001b[0m \u001b[0mvind_vo\u001b[0m\u001b[0;34m(\u001b[0m\u001b[0mmo1\u001b[0m\u001b[0;34m)\u001b[0m\u001b[0;34m:\u001b[0m\u001b[0;34m\u001b[0m\u001b[0;34m\u001b[0m\u001b[0m\n\u001b[1;32m     61\u001b[0m         \u001b[0mv\u001b[0m \u001b[0;34m=\u001b[0m \u001b[0mfvind\u001b[0m\u001b[0;34m(\u001b[0m\u001b[0mmo1\u001b[0m\u001b[0;34m.\u001b[0m\u001b[0mreshape\u001b[0m\u001b[0;34m(\u001b[0m\u001b[0mh1\u001b[0m\u001b[0;34m.\u001b[0m\u001b[0mshape\u001b[0m\u001b[0;34m)\u001b[0m\u001b[0;34m)\u001b[0m\u001b[0;34m.\u001b[0m\u001b[0mreshape\u001b[0m\u001b[0;34m(\u001b[0m\u001b[0mh1\u001b[0m\u001b[0;34m.\u001b[0m\u001b[0mshape\u001b[0m\u001b[0;34m)\u001b[0m\u001b[0;34m\u001b[0m\u001b[0;34m\u001b[0m\u001b[0m\n\u001b[0;32m---> 62\u001b[0;31m         \u001b[0mv\u001b[0m \u001b[0;34m*=\u001b[0m \u001b[0me_ai\u001b[0m\u001b[0;34m\u001b[0m\u001b[0;34m\u001b[0m\u001b[0m\n\u001b[0m\u001b[1;32m     63\u001b[0m         \u001b[0;32mreturn\u001b[0m \u001b[0mv\u001b[0m\u001b[0;34m.\u001b[0m\u001b[0mravel\u001b[0m\u001b[0;34m(\u001b[0m\u001b[0;34m)\u001b[0m\u001b[0;34m\u001b[0m\u001b[0;34m\u001b[0m\u001b[0m\n\u001b[1;32m     64\u001b[0m     mo1 = lib.krylov(vind_vo, mo1base.ravel(),\n",
      "\u001b[0;31mValueError\u001b[0m: non-broadcastable output operand with shape (2,) doesn't match the broadcast shape (1,2)"
     ]
    }
   ],
   "source": [
    "#hs.solve_mo1(mf.mo_energy ,mf.mo_coeff,mf.mo_occ, DeltaV(mol,[1,-1]))\n",
    "dC=cphf.solve_nos1(fx, mf.mo_energy ,mf.mo_occ, (C@DeltaV(mol,[.01,-.01])@C.T@mo_occ).T)[0]\n",
    "dC"
   ]
  },
  {
   "cell_type": "code",
   "execution_count": 146,
   "metadata": {},
   "outputs": [
    {
     "ename": "IndexError",
     "evalue": "boolean index did not match indexed array along dimension 0; dimension is 1 but corresponding boolean dimension is 2",
     "output_type": "error",
     "traceback": [
      "\u001b[0;31m---------------------------------------------------------------------------\u001b[0m",
      "\u001b[0;31mIndexError\u001b[0m                                Traceback (most recent call last)",
      "\u001b[0;32m<ipython-input-146-845dc4134dd0>\u001b[0m in \u001b[0;36m<module>\u001b[0;34m\u001b[0m\n\u001b[0;32m----> 1\u001b[0;31m \u001b[0mdC\u001b[0m\u001b[0;34m=\u001b[0m\u001b[0mcphf\u001b[0m\u001b[0;34m.\u001b[0m\u001b[0msolve_nos1\u001b[0m\u001b[0;34m(\u001b[0m\u001b[0mfx\u001b[0m\u001b[0;34m,\u001b[0m \u001b[0mmf\u001b[0m\u001b[0;34m.\u001b[0m\u001b[0mmo_energy\u001b[0m \u001b[0;34m,\u001b[0m\u001b[0mmf\u001b[0m\u001b[0;34m.\u001b[0m\u001b[0mmo_occ\u001b[0m\u001b[0;34m,\u001b[0m \u001b[0mC\u001b[0m\u001b[0;34m@\u001b[0m\u001b[0mDeltaV\u001b[0m\u001b[0;34m(\u001b[0m\u001b[0mmol\u001b[0m\u001b[0;34m,\u001b[0m\u001b[0;34m[\u001b[0m\u001b[0;36m.01\u001b[0m\u001b[0;34m,\u001b[0m\u001b[0;34m-\u001b[0m\u001b[0;36m.01\u001b[0m\u001b[0;34m]\u001b[0m\u001b[0;34m)\u001b[0m\u001b[0;34m@\u001b[0m\u001b[0;34m(\u001b[0m\u001b[0mC\u001b[0m\u001b[0;34m.\u001b[0m\u001b[0mT\u001b[0m\u001b[0;34m)\u001b[0m \u001b[0;34m[\u001b[0m\u001b[0mmo_occ\u001b[0m\u001b[0;34m==\u001b[0m\u001b[0;36m0\u001b[0m\u001b[0;34m]\u001b[0m\u001b[0;34m[\u001b[0m\u001b[0mmo_occ\u001b[0m\u001b[0;34m>\u001b[0m\u001b[0;36m0\u001b[0m\u001b[0;34m]\u001b[0m\u001b[0;34m)\u001b[0m\u001b[0;34m[\u001b[0m\u001b[0;36m0\u001b[0m\u001b[0;34m]\u001b[0m\u001b[0;34m\u001b[0m\u001b[0;34m\u001b[0m\u001b[0m\n\u001b[0m\u001b[1;32m      2\u001b[0m \u001b[0mdC\u001b[0m\u001b[0;34m\u001b[0m\u001b[0;34m\u001b[0m\u001b[0m\n",
      "\u001b[0;31mIndexError\u001b[0m: boolean index did not match indexed array along dimension 0; dimension is 1 but corresponding boolean dimension is 2"
     ]
    }
   ],
   "source": [
    "dC=cphf.solve_nos1(fx, mf.mo_energy ,mf.mo_occ, C@DeltaV(mol,[.01,-.01])@(C.T) [mo_occ==0][mo_occ>0])[0]\n",
    "dC"
   ]
  },
  {
   "cell_type": "code",
   "execution_count": 133,
   "metadata": {},
   "outputs": [
    {
     "name": "stdout",
     "output_type": "stream",
     "text": [
      "Help on function direct_sum in module pyscf.lib.numpy_helper:\n",
      "\n",
      "direct_sum(subscripts, *operands)\n",
      "    Apply the summation over many operands with the einsum fashion.\n",
      "    \n",
      "    Examples:\n",
      "    \n",
      "    >>> a = numpy.random.random((6,5))\n",
      "    >>> b = numpy.random.random((4,3,2))\n",
      "    >>> direct_sum('ij,klm->ijklm', a, b).shape\n",
      "    (6, 5, 4, 3, 2)\n",
      "    >>> direct_sum('ij,klm', a, b).shape\n",
      "    (6, 5, 4, 3, 2)\n",
      "    >>> direct_sum('i,j,klm->mjlik', a[0], a[:,0], b).shape\n",
      "    (2, 6, 3, 5, 4)\n",
      "    >>> direct_sum('ij-klm->ijklm', a, b).shape\n",
      "    (6, 5, 4, 3, 2)\n",
      "    >>> direct_sum('ij+klm', a, b).shape\n",
      "    (6, 5, 4, 3, 2)\n",
      "    >>> direct_sum('-i-j+klm->mjlik', a[0], a[:,0], b).shape\n",
      "    (2, 6, 3, 5, 4)\n",
      "    >>> c = numpy.random((3,5))\n",
      "    >>> z = direct_sum('ik+jk->kij', a, c).shape  # This is slow\n",
      "    >>> abs(a.T.reshape(5,6,1) + c.reshape(5,1,3) - z).sum()\n",
      "    0.0\n",
      "\n"
     ]
    }
   ],
   "source": [
    "help(pyscf.lib.direct_sum)"
   ]
  },
  {
   "cell_type": "code",
   "execution_count": 134,
   "metadata": {},
   "outputs": [
    {
     "data": {
      "text/plain": [
       "(array([0.79184861]), array([-0.624462]), array([[0.70605981]]))"
      ]
     },
     "execution_count": 134,
     "metadata": {},
     "output_type": "execute_result"
    }
   ],
   "source": [
    "e_a = mo_energy[mo_occ==0]\n",
    "e_i = mo_energy[mo_occ>0]\n",
    "e_ai = 1 / lib.direct_sum('a-i->ai', e_a, e_i)\n",
    "e_a,e_i,e_ai"
   ]
  },
  {
   "cell_type": "code",
   "execution_count": 143,
   "metadata": {},
   "outputs": [
    {
     "data": {
      "text/plain": [
       "array([2., 0.])"
      ]
     },
     "execution_count": 143,
     "metadata": {},
     "output_type": "execute_result"
    }
   ],
   "source": [
    "mo_occ"
   ]
  },
  {
   "cell_type": "code",
   "execution_count": 135,
   "metadata": {},
   "outputs": [],
   "source": [
    "h1=hs.make_h1(mf.mo_coeff,mf.mo_occ)"
   ]
  },
  {
   "cell_type": "code",
   "execution_count": 136,
   "metadata": {},
   "outputs": [
    {
     "data": {
      "text/plain": [
       "array([[[ 0.00305342,  0.00305342],\n",
       "        [-0.00126829, -0.00126829]]])"
      ]
     },
     "execution_count": 136,
     "metadata": {},
     "output_type": "execute_result"
    }
   ],
   "source": [
    "dm1=np.einsum('ypi,qi->ypq',[dC],mocc)\n",
    "dm1"
   ]
  },
  {
   "cell_type": "code",
   "execution_count": 137,
   "metadata": {},
   "outputs": [
    {
     "data": {
      "text/plain": [
       "-0.8627073149998932"
      ]
     },
     "execution_count": 137,
     "metadata": {},
     "output_type": "execute_result"
    }
   ],
   "source": [
    "#de2[i0,j0] += \n",
    "#np.einsum('xpq,ypq->xy',DeltaV(mol,[.01,-.01]), dm1) * 4 #simile eq. 17 zachara e co.\n",
    "np.trace(DeltaV(mol,[.01,-.01]).dot(dm1[0])) * 4/.01**2"
   ]
  },
  {
   "cell_type": "code",
   "execution_count": 138,
   "metadata": {},
   "outputs": [
    {
     "data": {
      "text/plain": [
       "(-1.1105014584519632, -1.1186164349233907, -1.1103338826801763)"
      ]
     },
     "execution_count": 138,
     "metadata": {},
     "output_type": "execute_result"
    }
   ],
   "source": [
    "mfa.e_tot,mfb.e_tot,mf.e_tot"
   ]
  },
  {
   "cell_type": "code",
   "execution_count": 139,
   "metadata": {},
   "outputs": [
    {
     "name": "stdout",
     "output_type": "stream",
     "text": [
      "converged SCF energy = -1.11034896467033\n"
     ]
    },
    {
     "data": {
      "text/plain": [
       "-3.351553367034496"
      ]
     },
     "execution_count": 139,
     "metadata": {},
     "output_type": "execute_result"
    }
   ],
   "source": [
    "dl=.003\n",
    "mfb=fc(mf,[-dl,dl])\n",
    "mfb.run()\n",
    "(mfb.e_tot-mf.e_tot)/dl**2*2"
   ]
  },
  {
   "cell_type": "code",
   "execution_count": 140,
   "metadata": {},
   "outputs": [
    {
     "data": {
      "text/plain": [
       "(0.8333258333333333, 0.8333333333333334, 0.83325)"
      ]
     },
     "execution_count": 140,
     "metadata": {},
     "output_type": "execute_result"
    }
   ],
   "source": [
    "mfb.energy_nuc(),mf.energy_nuc(),mfa.energy_nuc()"
   ]
  },
  {
   "cell_type": "code",
   "execution_count": 141,
   "metadata": {},
   "outputs": [
    {
     "data": {
      "text/plain": [
       "0.833333325"
      ]
     },
     "execution_count": 141,
     "metadata": {},
     "output_type": "execute_result"
    }
   ],
   "source": [
    "(1.0001*.9999) /1.2"
   ]
  },
  {
   "cell_type": "code",
   "execution_count": 142,
   "metadata": {
    "scrolled": true
   },
   "outputs": [
    {
     "name": "stdout",
     "output_type": "stream",
     "text": [
      "converged SCF energy = -2.63177551899436\n",
      "converged SCF energy = -2.11290381790639\n",
      "converged SCF energy = -1.68953023434824\n",
      "converged SCF energy = -1.37339026749979\n",
      "converged SCF energy = -1.17703581258726\n",
      "converged SCF energy = -1.11033388268018\n",
      "converged SCF energy = -1.17703581258726\n",
      "converged SCF energy = -1.37339026749979\n",
      "converged SCF energy = -1.68953023434824\n",
      "converged SCF energy = -2.11290381790639\n",
      "converged SCF energy = -2.63177551899436\n"
     ]
    },
    {
     "data": {
      "text/plain": [
       "[<matplotlib.lines.Line2D at 0x7fb1f58be278>]"
      ]
     },
     "execution_count": 142,
     "metadata": {},
     "output_type": "execute_result"
    },
    {
     "data": {
      "image/png": "[encoded data removed]",
      "text/plain": [
       "<Figure size 432x288 with 1 Axes>"
      ]
     },
     "metadata": {
      "needs_background": "light"
     },
     "output_type": "display_data"
    }
   ],
   "source": [
    "xp=np.linspace(-1,1,11)\n",
    "yp=[]\n",
    "for dl in xp:\n",
    "    yp.append(fc(mf,[dl,-dl]).kernel())\n",
    "plt.plot(xp,yp)"
   ]
  },
  {
   "cell_type": "code",
   "execution_count": null,
   "metadata": {},
   "outputs": [],
   "source": []
  }
 ],
 "metadata": {
  "kernelspec": {
   "display_name": "Python 3",
   "language": "python",
   "name": "python3"
  },
  "language_info": {
   "codemirror_mode": {
    "name": "ipython",
    "version": 3
   },
   "file_extension": ".py",
   "mimetype": "text/x-python",
   "name": "python",
   "nbconvert_exporter": "python",
   "pygments_lexer": "ipython3",
   "version": "3.7.6"
  }
 },
 "nbformat": 4,
 "nbformat_minor": 2
}
