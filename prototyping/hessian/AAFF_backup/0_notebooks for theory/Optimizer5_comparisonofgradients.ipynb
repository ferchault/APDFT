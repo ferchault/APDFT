{
 "cells": [
  {
   "cell_type": "code",
   "execution_count": 6,
   "metadata": {},
   "outputs": [],
   "source": [
    "from pyscf import scf,gto\n",
    "import numpy as np\n",
    "import inspect\n",
    "from FcMole import FcM\n",
    "import matplotlib.pyplot as plt\n",
    "from pyscf.grad import rhf as grhf  #### very important\n",
    "from pyscf.hessian import rhf as hrhf # without those two mf.Gradients() and mf.Hessian() don't work\n",
    "def DeltaV(mol,dL):\n",
    "    mol.set_rinv_orig_(mol.atom_coords()[0])\n",
    "    dV=mol.intor('int1e_rinv')*dL[0]\n",
    "    mol.set_rinv_orig_(mol.atom_coords()[1])\n",
    "    dV+=mol.intor('int1e_rinv')*dL[1]\n",
    "    return -dV"
   ]
  },
  {
   "cell_type": "markdown",
   "metadata": {},
   "source": [
    "First compare gradient analytical from fcm with the one via finite differences on geometry\n"
   ]
  },
  {
   "cell_type": "code",
   "execution_count": 7,
   "metadata": {},
   "outputs": [],
   "source": [
    "mol1=FcM(fcs=[.001,-.001],atom=\"C 0 0 0; O 0 0 1.8\",unit=\"Bohr\",basis=\"STO-3G\")"
   ]
  },
  {
   "cell_type": "code",
   "execution_count": 8,
   "metadata": {},
   "outputs": [
    {
     "name": "stdout",
     "output_type": "stream",
     "text": [
      "converged SCF energy = -111.05722603438\n"
     ]
    },
    {
     "data": {
      "text/plain": [
       "-111.0572260343799"
      ]
     },
     "execution_count": 8,
     "metadata": {},
     "output_type": "execute_result"
    }
   ],
   "source": [
    "mf1=scf.RHF(mol1)\n",
    "mf1.scf(dm0=mf1.init_guess_by_1e())"
   ]
  },
  {
   "cell_type": "code",
   "execution_count": 14,
   "metadata": {},
   "outputs": [
    {
     "name": "stdout",
     "output_type": "stream",
     "text": [
      "converged SCF energy = -111.067847863603\n",
      "converged SCF energy = -111.046103208766\n"
     ]
    },
    {
     "data": {
      "text/plain": [
       "-111.04610320876631"
      ]
     },
     "execution_count": 14,
     "metadata": {},
     "output_type": "execute_result"
    }
   ],
   "source": [
    "mol2=FcM(fcs=[.001,-.001],atom=\"C 0 0 0; O 0 0 1.81\",unit=\"Bohr\",basis=\"STO-3G\")\n",
    "mol3=FcM(fcs=[.001,-.001],atom=\"C 0 0 0; O 0 0 1.79\",unit=\"Bohr\",basis=\"STO-3G\")\n",
    "mf2=scf.RHF(mol2)\n",
    "mf2.scf(dm0=mf2.init_guess_by_1e())\n",
    "mf3=scf.RHF(mol3)\n",
    "mf3.scf(dm0=mf3.init_guess_by_1e())"
   ]
  },
  {
   "cell_type": "code",
   "execution_count": 15,
   "metadata": {},
   "outputs": [],
   "source": [
    "fdg=(mf2.energy_tot()-mf3.energy_tot())/.02"
   ]
  },
  {
   "cell_type": "code",
   "execution_count": 16,
   "metadata": {},
   "outputs": [
    {
     "data": {
      "text/plain": [
       "-1.0872327418482541"
      ]
     },
     "execution_count": 16,
     "metadata": {},
     "output_type": "execute_result"
    }
   ],
   "source": [
    "fdg"
   ]
  },
  {
   "cell_type": "code",
   "execution_count": 17,
   "metadata": {},
   "outputs": [
    {
     "name": "stdout",
     "output_type": "stream",
     "text": [
      "--------------- RHF gradients ---------------\n",
      "         x                y                z\n",
      "0 C     0.0000000000    -0.0000000000     1.0869705326\n",
      "1 O    -0.0000000000     0.0000000000    -1.0869705326\n",
      "----------------------------------------------\n"
     ]
    },
    {
     "data": {
      "text/plain": [
       "<pyscf.grad.rhf.Gradients at 0x7f9dbff583c8>"
      ]
     },
     "execution_count": 17,
     "metadata": {},
     "output_type": "execute_result"
    }
   ],
   "source": [
    "g1=mf1.Gradients()\n",
    "g1.run()"
   ]
  },
  {
   "cell_type": "code",
   "execution_count": 18,
   "metadata": {},
   "outputs": [
    {
     "data": {
      "text/plain": [
       "5.009963902011805"
      ]
     },
     "execution_count": 18,
     "metadata": {},
     "output_type": "execute_result"
    }
   ],
   "source": [
    "fdh=(mf2.energy_tot()-2*mf1.energy_tot()+mf3.energy_tot())/.01**2\n",
    "fdh"
   ]
  },
  {
   "cell_type": "code",
   "execution_count": 19,
   "metadata": {},
   "outputs": [
    {
     "data": {
      "text/plain": [
       "array([[[[-6.03872360e-01,  2.31465675e-16, -5.89712738e-17],\n",
       "         [ 3.64711498e-16, -6.03872360e-01,  9.21580869e-16],\n",
       "         [-5.89712733e-17,  9.21580869e-16,  5.00953776e+00]],\n",
       "\n",
       "        [[ 6.03872360e-01, -3.57772604e-16,  5.89712733e-17],\n",
       "         [-2.38404569e-16,  6.03872360e-01, -9.21580869e-16],\n",
       "         [ 5.89712738e-17, -9.21580869e-16, -5.00953776e+00]]],\n",
       "\n",
       "\n",
       "       [[[ 6.03872360e-01, -2.38404569e-16,  5.89712738e-17],\n",
       "         [-3.57772604e-16,  6.03872360e-01, -9.21580869e-16],\n",
       "         [ 5.89712733e-17, -9.21580869e-16, -5.00953776e+00]],\n",
       "\n",
       "        [[-6.03872360e-01,  3.21019613e-16, -5.89712738e-17],\n",
       "         [ 4.25704316e-16, -6.03872360e-01,  9.21580869e-16],\n",
       "         [-5.89712733e-17,  9.21580869e-16,  5.00953776e+00]]]])"
      ]
     },
     "execution_count": 19,
     "metadata": {},
     "output_type": "execute_result"
    }
   ],
   "source": [
    "hs1=mf1.Hessian()\n",
    "hs1.kernel()"
   ]
  },
  {
   "cell_type": "code",
   "execution_count": 20,
   "metadata": {},
   "outputs": [
    {
     "name": "stdout",
     "output_type": "stream",
     "text": [
      "converged SCF energy = -111.064463936466\n",
      "--------------- RHF gradients ---------------\n",
      "         x                y                z\n",
      "0 C     0.0000000000     0.0000000000     1.0871732099\n",
      "1 O    -0.0000000000    -0.0000000000    -1.0871732099\n",
      "----------------------------------------------\n"
     ]
    },
    {
     "data": {
      "text/plain": [
       "array([[[[-6.03985104e-01,  2.79792097e-16, -3.19467741e-16],\n",
       "         [ 2.26622883e-16, -6.03985104e-01,  4.17762751e-16],\n",
       "         [-3.19467740e-16,  4.17762750e-16,  5.00937821e+00]],\n",
       "\n",
       "        [[ 6.03985104e-01, -2.26622883e-16,  3.19467740e-16],\n",
       "         [-2.62444862e-16,  6.03985104e-01, -4.17762750e-16],\n",
       "         [ 3.19467741e-16, -4.17762751e-16, -5.00937821e+00]]],\n",
       "\n",
       "\n",
       "       [[[ 6.03985104e-01, -2.62444862e-16,  3.19467741e-16],\n",
       "         [-2.26622883e-16,  6.03985104e-01, -4.17762751e-16],\n",
       "         [ 3.19467740e-16, -4.17762750e-16, -5.00937821e+00]],\n",
       "\n",
       "        [[-6.03985104e-01,  3.25000435e-16, -3.19467741e-16],\n",
       "         [ 2.62431490e-16, -6.03985104e-01,  4.17762751e-16],\n",
       "         [-3.19467740e-16,  4.17762750e-16,  5.00937821e+00]]]])"
      ]
     },
     "execution_count": 20,
     "metadata": {},
     "output_type": "execute_result"
    }
   ],
   "source": [
    "mol0=gto.M(atom=\"C 0 0 0; O 0 0 1.8\",unit=\"Bohr\",basis=\"STO-3G\")\n",
    "mf0=scf.RHF(mol0)\n",
    "mf0.scf()\n",
    "\n",
    "g0=mf0.Gradients()\n",
    "g0.kernel()\n",
    "hs0=mf0.Hessian()\n",
    "hs0.kernel() "
   ]
  },
  {
   "cell_type": "code",
   "execution_count": 21,
   "metadata": {},
   "outputs": [],
   "source": [
    "from alch_deriv import alch_deriv"
   ]
  },
  {
   "cell_type": "markdown",
   "metadata": {},
   "source": [
    "The formula for the gradient is stated in Pople's article (Eq.21) as: \n",
    "$$ \\frac{\\partial E}{\\partial x}= \\sum_{\\mu\\nu}P_{\\mu\\nu}\\frac{\\partial H_{\\mu\\nu}}{\\partial x}+\\frac{1}{2}\\sum_{\\mu\\nu\\lambda\\sigma}\n",
    "P_{\\mu\\nu}P_{\\lambda\\sigma}\\frac{\\partial}{\\partial x}(\\mu \\lambda | | \\nu\\sigma)+\\frac{\\partial V_{nuc}}{\\partial x} \n",
    "-\\sum_{\\mu\\nu}W_{\\mu\\nu}\\frac{\\partial S_{\\mu\\nu}}{\\partial x}\n",
    "$$\n",
    "$W$ is an energy weighted density matrix:\n",
    "$$ W_{\\mu\\nu}= \\sum_i ^{mo.occ.} \\epsilon_i c_{\\mu i} c_{\\nu i}^\\dagger\n",
    "$$"
   ]
  },
  {
   "cell_type": "code",
   "execution_count": 23,
   "metadata": {},
   "outputs": [
    {
     "name": "stdout",
     "output_type": "stream",
     "text": [
      "[[0, 1], [1, -1]]\n"
     ]
    }
   ],
   "source": [
    "(U,dP)=alch_deriv(mf0,[[0,1],[1,-1]])\n",
    "P=mf0.make_rdm1()\n",
    "P1=mf1.make_rdm1()"
   ]
  },
  {
   "cell_type": "code",
   "execution_count": 24,
   "metadata": {},
   "outputs": [
    {
     "data": {
      "text/plain": [
       "1.9248411535202057"
      ]
     },
     "execution_count": 24,
     "metadata": {},
     "output_type": "execute_result"
    }
   ],
   "source": [
    "np.linalg.norm(dP-(P1-P))"
   ]
  },
  {
   "cell_type": "markdown",
   "metadata": {},
   "source": [
    "First piece:\n",
    "$$ \\frac{\\partial}{\\partial Z} ( P \\frac{\\partial H^{(1)}}{\\partial x})= \n",
    "\\frac{\\partial P}{\\partial Z}\\frac{\\partial H^{(1)}}{\\partial x}+ P \\frac{\\partial^2 H^{(1)}}{\\partial x \\partial Z}\n",
    "$$\n",
    "$\\frac{\\partial^2 H^{(1)}}{\\partial x \\partial Z}$ is trivially $\\frac{\\partial H^{(1)}}{\\partial x}$ divided by the atom charge"
   ]
  },
  {
   "cell_type": "code",
   "execution_count": 25,
   "metadata": {},
   "outputs": [
    {
     "name": "stdout",
     "output_type": "stream",
     "text": [
      "[[-5.71945258e-16  5.68731328e-18 -4.42835800e+00]\n",
      " [ 5.71945258e-16 -5.68731328e-18  4.42835800e+00]]\n",
      "[[-5.71781094e-16  5.74498188e-18 -4.42917906e+00]\n",
      " [ 5.71781094e-16 -5.74498188e-18  4.42917906e+00]]\n"
     ]
    }
   ],
   "source": [
    "ga=np.zeros((2,3))\n",
    "ga[0]+=np.einsum('xij,ij->x', g0.hcore_generator()(0),dP)\n",
    "ga[1]+=np.einsum('xij,ij->x', g0.hcore_generator()(1),dP)\n",
    "print(ga)\n",
    "ga[0]+=np.einsum('xij,ij->x', g1.hcore_generator()(0)-g0.hcore_generator()(0),P)\n",
    "ga[1]+=np.einsum('xij,ij->x', g1.hcore_generator()(1)-g0.hcore_generator()(1),P)\n",
    "print(ga)"
   ]
  },
  {
   "cell_type": "code",
   "execution_count": 26,
   "metadata": {},
   "outputs": [
    {
     "data": {
      "text/plain": [
       "array([[ 3.09447720e-15, -1.14090724e-14, -5.24349964e-03],\n",
       "       [-3.09447720e-15,  1.14090724e-14,  5.24349964e-03]])"
      ]
     },
     "execution_count": 26,
     "metadata": {},
     "output_type": "execute_result"
    }
   ],
   "source": [
    "comp1=np.zeros((2,3))\n",
    "comp1[0]+=np.einsum('xij,ij->x', g1.hcore_generator()(0),mf1.make_rdm1())\n",
    "comp1[0]-=np.einsum('xij,ij->x', g0.hcore_generator()(0),mf0.make_rdm1())\n",
    "comp1[1]+=np.einsum('xij,ij->x', g1.hcore_generator()(1),mf1.make_rdm1())\n",
    "comp1[1]-=np.einsum('xij,ij->x', g0.hcore_generator()(1),mf0.make_rdm1())\n",
    "comp1"
   ]
  },
  {
   "cell_type": "code",
   "execution_count": 27,
   "metadata": {},
   "outputs": [],
   "source": [
    "comp1=np.zeros((2,3,10,10))\n",
    "comp1[0]=g1.hcore_generator()(0)-g0.hcore_generator()(0)\n",
    "comp1[1]=g1.hcore_generator()(1)-g0.hcore_generator()(1)"
   ]
  },
  {
   "cell_type": "code",
   "execution_count": 28,
   "metadata": {},
   "outputs": [],
   "source": [
    "comp2=np.zeros((2,3,10,10))\n",
    "dL=[.001,-.001]\n",
    "for atm_id in [0,1]:\n",
    "    with mol0.with_rinv_at_nucleus(atm_id):\n",
    "        vrinv = -mol0.intor('int1e_iprinv', comp=3)\n",
    "    shl0, shl1, p0, p1 = mol0.aoslice_by_atom()[atm_id]\n",
    "    vrinv*=dL[atm_id]\n",
    "    vrinv[:,p0:p1] += (g1.get_hcore()-g0.get_hcore())[:,p0:p1]  #bearbeiten\n",
    "    vrinv += vrinv.transpose(0,2,1)\n",
    "    comp2[atm_id]=vrinv"
   ]
  },
  {
   "cell_type": "code",
   "execution_count": 29,
   "metadata": {},
   "outputs": [
    {
     "data": {
      "text/plain": [
       "True"
      ]
     },
     "execution_count": 29,
     "metadata": {},
     "output_type": "execute_result"
    }
   ],
   "source": [
    "np.allclose(comp1,comp2)"
   ]
  },
  {
   "cell_type": "markdown",
   "metadata": {},
   "source": [
    "g0.get_hcore() is the integral $<\\chi_\\mu |\\nabla_r \\hat{H}^{(1)}|\\chi_\\nu> $ is composed by two parts: the first refered to the kintic energy operator which is alchemy invariant, the second which has to be computed is refered to the nuclear electron attraction. <br>\n",
    "To compute this we use moleintor.getints() using as arguments a mol environment (mol._env) with the added fractional charges and a mol._atm desription that show fractional charges.\n",
    "Not forget to put a minus sign !!!! "
   ]
  },
  {
   "cell_type": "code",
   "execution_count": 30,
   "metadata": {},
   "outputs": [],
   "source": [
    "NUC_FRAC_CHARGE=gto.mole.NUC_FRAC_CHARGE\n",
    "NUC_MOD_OF=gto.mole.NUC_MOD_OF\n",
    "PTR_FRAC_CHARGE=gto.mole.PTR_FRAC_CHARGE\n",
    "denv=mol0._env.copy()\n",
    "datm=mol0._atm.copy()\n",
    "fcs=[.001,-.001]\n",
    "datm[:,NUC_MOD_OF] = NUC_FRAC_CHARGE\n",
    "for i in range (mol0.natm):\n",
    "    denv[datm[i,PTR_FRAC_CHARGE]]=fcs[i] \n",
    "dH1=-gto.moleintor.getints('int1e_ipnuc_sph',datm,mol0._bas,denv, None,3,0,'s1')   #minus sign !"
   ]
  },
  {
   "cell_type": "code",
   "execution_count": 31,
   "metadata": {},
   "outputs": [
    {
     "data": {
      "text/plain": [
       "True"
      ]
     },
     "execution_count": 31,
     "metadata": {},
     "output_type": "execute_result"
    }
   ],
   "source": [
    "np.allclose(dH1,g1.get_hcore()-g0.get_hcore())"
   ]
  },
  {
   "cell_type": "code",
   "execution_count": 32,
   "metadata": {},
   "outputs": [
    {
     "data": {
      "text/plain": [
       "True"
      ]
     },
     "execution_count": 32,
     "metadata": {},
     "output_type": "execute_result"
    }
   ],
   "source": [
    "comp2=np.zeros((2,3,10,10))\n",
    "dL=[.001,-.001]\n",
    "for atm_id in [0,1]:\n",
    "    with mol0.with_rinv_at_nucleus(atm_id):\n",
    "        vrinv = -mol0.intor('int1e_iprinv', comp=3)\n",
    "    shl0, shl1, p0, p1 = mol0.aoslice_by_atom()[atm_id]\n",
    "    vrinv*=dL[atm_id]\n",
    "    vrinv[:,p0:p1] += dH1[:,p0:p1]  #bearbeiten\n",
    "    vrinv += vrinv.transpose(0,2,1)\n",
    "    comp2[atm_id]=vrinv\n",
    "np.allclose(comp1,comp2)"
   ]
  },
  {
   "cell_type": "code",
   "execution_count": 33,
   "metadata": {},
   "outputs": [
    {
     "data": {
      "text/plain": [
       "array([[ 3.09447720e-15, -1.14090724e-14, -5.24349964e-03],\n",
       "       [-3.09447720e-15,  1.14090724e-14,  5.24349964e-03]])"
      ]
     },
     "execution_count": 33,
     "metadata": {},
     "output_type": "execute_result"
    }
   ],
   "source": [
    "fdg=np.zeros((2,3))\n",
    "fdg[0]+=np.einsum('xij,ij->x', g1.hcore_generator()(0),mf1.make_rdm1())\n",
    "fdg[0]-=np.einsum('xij,ij->x', g0.hcore_generator()(0),mf0.make_rdm1())\n",
    "fdg[1]+=np.einsum('xij,ij->x', g1.hcore_generator()(1),mf1.make_rdm1())\n",
    "fdg[1]-=np.einsum('xij,ij->x', g0.hcore_generator()(1),mf0.make_rdm1())\n",
    "fdg"
   ]
  },
  {
   "cell_type": "code",
   "execution_count": 34,
   "metadata": {},
   "outputs": [
    {
     "name": "stdout",
     "output_type": "stream",
     "text": [
      "[[-5.71781094e-16  5.74498188e-18 -4.42917906e+00]\n",
      " [ 5.71781094e-16 -5.74498188e-18  4.42917906e+00]]\n"
     ]
    }
   ],
   "source": [
    "ga=np.zeros((2,3))\n",
    "ga[0]+=np.einsum('xij,ij->x', g0.hcore_generator()(0),dP)\n",
    "ga[1]+=np.einsum('xij,ij->x', g0.hcore_generator()(1),dP)\n",
    "#print(ga)\n",
    "ga[0]+=np.einsum('xij,ij->x', comp2[0],P)\n",
    "ga[1]+=np.einsum('xij,ij->x', comp2[1],P)\n",
    "print(ga)"
   ]
  },
  {
   "cell_type": "markdown",
   "metadata": {},
   "source": [
    "# Second piece:\n",
    "$$\\frac{\\partial}{\\partial Z} (P_{\\mu\\nu}P_{\\lambda\\sigma}\\frac{\\partial}{\\partial x}(\\mu \\lambda | | \\nu\\sigma) )$$\n",
    "here the two electron integral is invariant to alchemy, therefore is sufficient insert the density matrix derivative $dP$ in the following exression. "
   ]
  },
  {
   "cell_type": "code",
   "execution_count": 35,
   "metadata": {},
   "outputs": [
    {
     "data": {
      "text/plain": [
       "array([[ 5.46663623e-15, -1.02543556e-14,  1.17925050e+01],\n",
       "       [-5.46663623e-15,  1.02543556e-14, -1.17925050e+01]])"
      ]
     },
     "execution_count": 35,
     "metadata": {},
     "output_type": "execute_result"
    }
   ],
   "source": [
    "#for the ref molecule\n",
    "aoslices = mol0.aoslice_by_atom()\n",
    "g2e_part2_0=np.zeros((2,3))\n",
    "for ia in [0,1]:\n",
    "    p0, p1 = aoslices [ia,2:]\n",
    "    vhf = g0.get_veff(mol0, P)\n",
    "    g2e_part2_0[ia]=(np.einsum('xij,ij->x', vhf[:,p0:p1], P[p0:p1]) * 2)        #   P (Pd/dx(ml||ns))\n",
    "g2e_part2_0    "
   ]
  },
  {
   "cell_type": "code",
   "execution_count": 36,
   "metadata": {},
   "outputs": [
    {
     "data": {
      "text/plain": [
       "array([[ 2.35242938e-15,  3.10772392e-16,  1.17969070e+01],\n",
       "       [-2.35242938e-15, -3.10772392e-16, -1.17969070e+01]])"
      ]
     },
     "execution_count": 36,
     "metadata": {},
     "output_type": "execute_result"
    }
   ],
   "source": [
    "aoslices = mol1.aoslice_by_atom()\n",
    "g2e_part2_1=np.zeros((2,3))\n",
    "for ia in [0,1]:\n",
    "    p0, p1 = aoslices [ia,2:]\n",
    "    vhf = g1.get_veff(mol1, P1)\n",
    "    g2e_part2_1[ia]=(np.einsum('xij,ij->x', vhf[:,p0:p1], P1[p0:p1]) * 2) \n",
    "g2e_part2_1"
   ]
  },
  {
   "cell_type": "code",
   "execution_count": 37,
   "metadata": {},
   "outputs": [
    {
     "data": {
      "text/plain": [
       "True"
      ]
     },
     "execution_count": 37,
     "metadata": {},
     "output_type": "execute_result"
    }
   ],
   "source": [
    "#check the invariance:\n",
    "np.allclose(g0.get_veff(mol0, P),g1.get_veff(mol1, P1),atol=1e-4*np.max(g0.get_veff(mol0, P)))"
   ]
  },
  {
   "cell_type": "code",
   "execution_count": 38,
   "metadata": {},
   "outputs": [
    {
     "data": {
      "text/plain": [
       "array([[ 1.48376089e-15, -7.10429674e-16,  5.26655872e+00],\n",
       "       [-1.08085479e-15,  8.89969343e-16, -3.84695640e+00]])"
      ]
     },
     "execution_count": 38,
     "metadata": {},
     "output_type": "execute_result"
    }
   ],
   "source": [
    "aoslices = mol0.aoslice_by_atom()\n",
    "g2e_part2_d=np.zeros((2,3))\n",
    "for ia in [0,1]:\n",
    "    p0, p1 = aoslices [ia,2:]\n",
    "    vhf = g0.get_veff(mol0, P)\n",
    "    g2e_part2_d[ia]=(np.einsum('xij,ij->x', vhf[:,p0:p1], dP[p0:p1]) * 2) \n",
    "g2e_part2_d"
   ]
  },
  {
   "cell_type": "code",
   "execution_count": 39,
   "metadata": {},
   "outputs": [
    {
     "data": {
      "text/plain": [
       "array([[-3.11420685e-15,  1.05651280e-14,  4.40195061e-03],\n",
       "       [ 3.11420685e-15, -1.05651280e-14, -4.40195061e-03]])"
      ]
     },
     "execution_count": 39,
     "metadata": {},
     "output_type": "execute_result"
    }
   ],
   "source": [
    "g2e_part2_1-g2e_part2_0"
   ]
  },
  {
   "cell_type": "code",
   "execution_count": 40,
   "metadata": {},
   "outputs": [
    {
     "data": {
      "text/plain": [
       "False"
      ]
     },
     "execution_count": 40,
     "metadata": {},
     "output_type": "execute_result"
    }
   ],
   "source": [
    "np.allclose(g2e_part2_d,g2e_part2_1-g2e_part2_0,atol=1e-5)"
   ]
  },
  {
   "cell_type": "markdown",
   "metadata": {},
   "source": [
    "# Third piece:\n",
    "$$-\\sum_{\\mu\\nu}W_{\\mu\\nu}\\frac{\\partial S_{\\mu\\nu}}{\\partial x}\n",
    "$$\n",
    "Luckily $S$ is invariant in alchemy, therefore the different in gradient is just:$$\n",
    "-\\sum_{\\mu\\nu}\\frac{\\partial W_{\\mu\\nu}}{\\partial Z}\\frac{\\partial S_{\\mu\\nu}}{\\partial x}\n",
    "$$\n",
    "### Obtaining derivatives of W\n",
    "$$W=  \\sum_i ^{mo.occ.} \\epsilon_i C_{\\mu i} C_{\\nu i}^\\dagger \n",
    "$$\n",
    "\n",
    "$$ \\frac{\\partial W}{\\partial Z_I}= \\sum_i ^{mo.occ.} \\left( \\epsilon_i (CU)_{\\mu i} C_{\\nu i}^\\dagger + \n",
    "\\epsilon_i C_{\\mu i} (CU)^\\dagger_{\\nu i}   +\\frac{\\partial \\epsilon_i}{\\partial Z_I} C_{\\mu i} C_{\\nu i}^\\dagger \\right)$$"
   ]
  },
  {
   "cell_type": "code",
   "execution_count": 41,
   "metadata": {},
   "outputs": [
    {
     "data": {
      "text/plain": [
       "\"  THE CODE IN g.grad_elec()\\ndme0 = mf_grad.make_rdm1e(mo_energy, mo_coeff, mo_occ)        W\\ns1 = mf_grad.get_ovlp(mol)%autocall                         dS/dx\\nfor k, ia in enumerate(atmlst):\\n    de[k] -= numpy.einsum('xij,ij->x', s1[:,p0:p1], dme0[p0:p1]) * 2        W dS/dx\\n\""
      ]
     },
     "execution_count": 41,
     "metadata": {},
     "output_type": "execute_result"
    }
   ],
   "source": [
    "\"\"\"  THE CODE IN g.grad_elec()\n",
    "dme0 = mf_grad.make_rdm1e(mo_energy, mo_coeff, mo_occ)        W\n",
    "s1 = mf_grad.get_ovlp(mol)%autocall                         dS/dx\n",
    "for k, ia in enumerate(atmlst):\n",
    "    de[k] -= numpy.einsum('xij,ij->x', s1[:,p0:p1], dme0[p0:p1]) * 2        W dS/dx\n",
    "\"\"\""
   ]
  },
  {
   "cell_type": "code",
   "execution_count": 42,
   "metadata": {},
   "outputs": [
    {
     "data": {
      "text/plain": [
       "True"
      ]
     },
     "execution_count": 42,
     "metadata": {},
     "output_type": "execute_result"
    }
   ],
   "source": [
    "#verify that s1 is invariant\n",
    "s1=g0.get_ovlp(mol0)\n",
    "np.allclose(g0.get_ovlp(mol0),g1.get_ovlp(mol1))"
   ]
  },
  {
   "cell_type": "code",
   "execution_count": 43,
   "metadata": {},
   "outputs": [],
   "source": [
    "#at first by finite differences \n",
    "W1=g1.make_rdm1e()\n",
    "W0=g0.make_rdm1e()\n",
    "fd_dW=W1-W0"
   ]
  },
  {
   "cell_type": "code",
   "execution_count": 44,
   "metadata": {},
   "outputs": [
    {
     "data": {
      "text/plain": [
       "True"
      ]
     },
     "execution_count": 44,
     "metadata": {},
     "output_type": "execute_result"
    }
   ],
   "source": [
    "# W0 can be constructed via C@np.diag(o*e)@C.T\n",
    "o=mf0.mo_occ\n",
    "O=np.diag(o)\n",
    "e=mf0.mo_energy\n",
    "C=mf0.mo_coeff\n",
    "S=mf0.get_ovlp()\n",
    "F=mf0.get_fock()\n",
    "np.allclose(C@np.diag(e*o)@C.T,W0)"
   ]
  },
  {
   "cell_type": "code",
   "execution_count": 45,
   "metadata": {},
   "outputs": [],
   "source": [
    "#to derive this expression first get dC as \n",
    "dC=C@U\n",
    "#to get d(e) we need to get the fock hamiltonian and than get the new eigenvalues \n",
    "g_ijkl=mol0.intor('int2e_sph')\n",
    "dF2el=np.einsum('ijkl,kl->ij',g_ijkl,dP)-0.5*np.einsum('ijkl,jl->ik',g_ijkl,dP)\n",
    "dV=DeltaV(mol0,[.001,-.001])"
   ]
  },
  {
   "cell_type": "code",
   "execution_count": 46,
   "metadata": {},
   "outputs": [
    {
     "data": {
      "text/plain": [
       "False"
      ]
     },
     "execution_count": 46,
     "metadata": {},
     "output_type": "execute_result"
    }
   ],
   "source": [
    "np.allclose(mf1.get_fock()-F,dV+dF2el,atol=1e-5)"
   ]
  },
  {
   "cell_type": "code",
   "execution_count": 47,
   "metadata": {},
   "outputs": [
    {
     "name": "stdout",
     "output_type": "stream",
     "text": [
      "True\n",
      "True\n"
     ]
    }
   ],
   "source": [
    "#try to get e in another way , using Roothans equations FC=SCe\n",
    "print(np.allclose(np.linalg.inv(S)@F@(C),C@np.diag(e))) # S^-1 F C= C e \n",
    "print(np.allclose(np.linalg.inv(S)@F@P,W0))  #S^-1 F (C O C.T) = S^-1 F P = C e O C.T =W !!!!"
   ]
  },
  {
   "cell_type": "code",
   "execution_count": 48,
   "metadata": {},
   "outputs": [
    {
     "data": {
      "text/plain": [
       "array([-21.56594376, -10.63300664,  -1.9112426 ,  -1.22339103,\n",
       "        -0.94096949,  -0.94096949,  -0.19768065,   0.4149169 ,\n",
       "         0.4149169 ,   1.34008879])"
      ]
     },
     "execution_count": 48,
     "metadata": {},
     "output_type": "execute_result"
    }
   ],
   "source": [
    "e1=np.sort(np.linalg.eig(np.linalg.inv(S)@(F+dV+dF2el))[0])\n",
    "c1=np.linalg.eig(np.linalg.inv(S)@(F+dV+dF2el))[1]\n",
    "e1"
   ]
  },
  {
   "cell_type": "code",
   "execution_count": 49,
   "metadata": {},
   "outputs": [
    {
     "data": {
      "text/plain": [
       "False"
      ]
     },
     "execution_count": 49,
     "metadata": {},
     "output_type": "execute_result"
    }
   ],
   "source": [
    "np.allclose(mf1.mo_energy,e1)"
   ]
  },
  {
   "cell_type": "code",
   "execution_count": 50,
   "metadata": {},
   "outputs": [
    {
     "data": {
      "text/plain": [
       "False"
      ]
     },
     "execution_count": 50,
     "metadata": {},
     "output_type": "execute_result"
    }
   ],
   "source": [
    "np.allclose(mf1.mo_coeff,C+dC)"
   ]
  },
  {
   "cell_type": "code",
   "execution_count": 51,
   "metadata": {},
   "outputs": [
    {
     "data": {
      "text/plain": [
       "1.944423475900835"
      ]
     },
     "execution_count": 51,
     "metadata": {},
     "output_type": "execute_result"
    }
   ],
   "source": [
    "# now we derive C@np.diag(o*e)@C.T  in tree pieces:\n",
    "#  dC@np.diag(o*e)@C.T+C@np.diag(o*e)@dC.T+C@np.diag(o*(e1-e))@C.T\n",
    "dW_a=dC@np.diag(o*e)@C.T+C@np.diag(o*e)@dC.T+C@np.diag(o*(e1-e))@C.T\n",
    "np.max(fd_dW-dW_a)"
   ]
  },
  {
   "cell_type": "code",
   "execution_count": 52,
   "metadata": {},
   "outputs": [
    {
     "data": {
      "text/plain": [
       "2.0307343661263775"
      ]
     },
     "execution_count": 52,
     "metadata": {},
     "output_type": "execute_result"
    }
   ],
   "source": [
    "#or equally\n",
    "dW_a1=(C+dC)@np.diag(o*(e1))@(C+dC).T-W0\n",
    "np.max(fd_dW-dW_a1)"
   ]
  },
  {
   "cell_type": "code",
   "execution_count": 53,
   "metadata": {},
   "outputs": [
    {
     "data": {
      "text/plain": [
       "2.0307343661263775"
      ]
     },
     "execution_count": 53,
     "metadata": {},
     "output_type": "execute_result"
    }
   ],
   "source": [
    "np.max(fd_dW-dW_a1)"
   ]
  },
  {
   "cell_type": "code",
   "execution_count": 54,
   "metadata": {},
   "outputs": [
    {
     "data": {
      "text/plain": [
       "2.1179152205054166"
      ]
     },
     "execution_count": 54,
     "metadata": {},
     "output_type": "execute_result"
    }
   ],
   "source": [
    "dW_a2=(mf1.mo_coeff)@np.diag(o*(e1))@(mf1.mo_coeff).T-W0\n",
    "np.max(fd_dW-dW_a2)"
   ]
  },
  {
   "cell_type": "code",
   "execution_count": 55,
   "metadata": {},
   "outputs": [
    {
     "data": {
      "text/plain": [
       "4.000090605794145"
      ]
     },
     "execution_count": 55,
     "metadata": {},
     "output_type": "execute_result"
    }
   ],
   "source": [
    "#the problem is in the C derivatives\n",
    "dW_a3=2*C@U@np.diag(o*e)@C.T+2*C@np.diag(o*e)@U.T@C.T+C@np.diag(o*(e1-e))@C.T\n",
    "np.max(fd_dW-dW_a3)"
   ]
  },
  {
   "cell_type": "code",
   "execution_count": 56,
   "metadata": {},
   "outputs": [
    {
     "data": {
      "text/plain": [
       "2.0246421325155595"
      ]
     },
     "execution_count": 56,
     "metadata": {},
     "output_type": "execute_result"
    }
   ],
   "source": [
    "dW_a3=np.linalg.inv(S)@(F+dV+dF2el)@(P+dP)-W0\n",
    "np.max(fd_dW-dW_a3)"
   ]
  },
  {
   "cell_type": "code",
   "execution_count": 57,
   "metadata": {},
   "outputs": [
    {
     "data": {
      "text/plain": [
       "(array([[ 1.78952357e-18,  3.20948677e-16,  2.18963806e-05],\n",
       "        [-1.78952357e-18, -3.20948677e-16, -2.18963806e-05]]),\n",
       " array([[ 1.78952357e-18,  3.20948677e-16,  2.18963806e-05],\n",
       "        [-1.78952357e-18, -3.20948677e-16, -2.18963806e-05]]))"
      ]
     },
     "execution_count": 57,
     "metadata": {},
     "output_type": "execute_result"
    }
   ],
   "source": [
    "W1_contr=np.zeros((2,3))  #with fd_dW funziona \n",
    "ga_dW_contr=np.zeros((2,3))\n",
    "W0_contr=np.zeros((2,3))\n",
    "for ia in [0,1]:\n",
    "    p0, p1 = mol0.aoslice_by_atom() [ia,2:]\n",
    "    W1_contr[ia] -= np.einsum('xij,ij->x', s1[:,p0:p1], W1[p0:p1]) * 2\n",
    "    ga_dW_contr[ia] -= np.einsum('xij,ij->x', s1[:,p0:p1], fd_dW[p0:p1]) * 2\n",
    "    W0_contr[ia] -= np.einsum('xij,ij->x', s1[:,p0:p1], W0[p0:p1]) * 2\n",
    "ga_dW_contr,W1_contr-W0_contr"
   ]
  },
  {
   "cell_type": "code",
   "execution_count": 58,
   "metadata": {},
   "outputs": [
    {
     "data": {
      "text/plain": [
       "(array([[-9.77971659e-16,  1.23090746e-15, -2.56432512e+00],\n",
       "        [ 2.86120534e-16, -8.53609107e-15, -4.24065362e+00]]),\n",
       " array([[ 1.78952357e-18,  3.20948677e-16,  2.18963806e-05],\n",
       "        [-1.78952357e-18, -3.20948677e-16, -2.18963806e-05]]))"
      ]
     },
     "execution_count": 58,
     "metadata": {},
     "output_type": "execute_result"
    }
   ],
   "source": [
    "W1_contr=np.zeros((2,3))\n",
    "ga_dW_contr=np.zeros((2,3))\n",
    "W0_contr=np.zeros((2,3))\n",
    "for ia in [0,1]:\n",
    "    p0, p1 = mol0.aoslice_by_atom() [ia,2:]\n",
    "    W1_contr[ia] -= np.einsum('xij,ij->x', s1[:,p0:p1], W1[p0:p1]) * 2\n",
    "    ga_dW_contr[ia] -= np.einsum('xij,ij->x', s1[:,p0:p1], dW_a3[p0:p1]) * 2\n",
    "    W0_contr[ia] -= np.einsum('xij,ij->x', s1[:,p0:p1], W0[p0:p1]) * 2\n",
    "(ga_dW_contr),W1_contr-W0_contr"
   ]
  },
  {
   "cell_type": "code",
   "execution_count": 59,
   "metadata": {},
   "outputs": [],
   "source": [
    "#W=S^-1F P is the way, cause of the orbital rotation\n",
    "S=mf0.get_ovlp()\n",
    "F=mf0.get_fock()\n",
    "g_ijkl=mol0.intor('int2e_sph')\n",
    "dF2el=np.einsum('ijkl,kl->ij',g_ijkl,dP)-0.5*np.einsum('ijkl,jl->ik',g_ijkl,dP)\n",
    "dV=DeltaV(mol0,[.001,-.001])\n",
    "dW_a3=np.linalg.inv(S)@(F+dV+dF2el)@(P+dP)-W0"
   ]
  },
  {
   "cell_type": "markdown",
   "metadata": {},
   "source": [
    "## At the end the nuclear nuclear part "
   ]
  },
  {
   "cell_type": "code",
   "execution_count": 60,
   "metadata": {},
   "outputs": [],
   "source": [
    "\"\"\"def grad_nuc(mol, atmlst=None):\n",
    "    gs = numpy.zeros((mol.natm,3))\n",
    "    for j in range(mol.natm):\n",
    "        q2 = mol.atom_charge(j)      <----------------------- derive here\n",
    "        r2 = mol.atom_coord(j)\n",
    "        for i in range(mol.natm):\n",
    "            if i != j:\n",
    "                q1 = mol.atom_charge(i)     <----------------------- and here \n",
    "                r1 = mol.atom_coord(i)      \n",
    "                r = numpy.sqrt(numpy.dot(r1-r2,r1-r2))\n",
    "                gs[j] -= q1 * q2 * (r2-r1) / r**3\n",
    "    if atmlst is not None:\n",
    "        gs = gs[atmlst]\n",
    "    return gs\n",
    "    \"\"\"\n",
    "pass"
   ]
  },
  {
   "cell_type": "code",
   "execution_count": 61,
   "metadata": {},
   "outputs": [],
   "source": [
    "#is now easy to derive this function with respect to the nuclear charges\n",
    "def alc_deriv_grad_nuc(mol,dL, atmlst=None):\n",
    "    gs = np.zeros((mol.natm,3))\n",
    "    for j in range(mol.natm):\n",
    "        q2 =  mol.atom_charge(j) + dL[j]\n",
    "        r2 = mol.atom_coord(j) \n",
    "        for i in range(mol.natm):\n",
    "            if i != j:\n",
    "                q1 = mol.atom_charge(i) +dL[i]\n",
    "                r1 = mol.atom_coord(i)\n",
    "                r = np.sqrt(np.dot(r1-r2,r1-r2))\n",
    "                gs[j] -= q1 * q2 * (r2-r1) / r**3\n",
    "    if atmlst is not None:\n",
    "        gs = gs[atmlst]\n",
    "    return gs"
   ]
  },
  {
   "cell_type": "code",
   "execution_count": null,
   "metadata": {},
   "outputs": [],
   "source": [
    "alc_deriv_grad_nuc(mol0,[.001,-.001])-g0.grad_nuc()"
   ]
  },
  {
   "cell_type": "code",
   "execution_count": null,
   "metadata": {},
   "outputs": [],
   "source": [
    "g1.grad_nuc()-g0.grad_nuc()"
   ]
  },
  {
   "cell_type": "code",
   "execution_count": null,
   "metadata": {},
   "outputs": [],
   "source": [
    "g0.grad_nuc()"
   ]
  },
  {
   "cell_type": "code",
   "execution_count": null,
   "metadata": {},
   "outputs": [],
   "source": []
  }
 ],
 "metadata": {
  "kernelspec": {
   "display_name": "Python 3",
   "language": "python",
   "name": "python3"
  },
  "language_info": {
   "codemirror_mode": {
    "name": "ipython",
    "version": 3
   },
   "file_extension": ".py",
   "mimetype": "text/x-python",
   "name": "python",
   "nbconvert_exporter": "python",
   "pygments_lexer": "ipython3",
   "version": "3.7.3"
  }
 },
 "nbformat": 4,
 "nbformat_minor": 4
}
