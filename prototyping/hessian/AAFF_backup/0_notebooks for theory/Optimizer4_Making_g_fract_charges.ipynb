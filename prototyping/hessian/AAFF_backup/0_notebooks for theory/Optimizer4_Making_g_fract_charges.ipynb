{
 "cells": [
  {
   "cell_type": "code",
   "execution_count": 1,
   "metadata": {},
   "outputs": [],
   "source": [
    "from pyscf import gto, scf\n",
    "import numpy as np\n",
    "#import matplotlib.pyplot as plt\n",
    "# from pyscf.geomopt.berny_solver import optimize\n",
    "from pyscf.grad import rhf as grhf\n",
    "#from pyscf.hessian import rhf as hrhf\n",
    "import pyscf.qmmm  \n",
    "import inspect\n",
    "from functools import reduce\n",
    "from pyscf.scf import cphf\n",
    "angstrom = 1 / 0.52917721067\n",
    "from pyscf.scf._response_functions import _gen_rhf_response \n",
    "def DeltaV(mol,dL):\n",
    "    mol.set_rinv_orig_(mol.atom_coords()[0])\n",
    "    dV=mol.intor('int1e_rinv')*dL[0]\n",
    "    mol.set_rinv_orig_(mol.atom_coords()[1])\n",
    "    dV+=mol.intor('int1e_rinv')*dL[1]\n",
    "    return -dV\n",
    "def fc(calc,deltaZ):\n",
    "    mf = pyscf.qmmm.mm_charge(calc, calc.mol.atom_coords(), deltaZ)  # now is add_mm_charge\n",
    "    class NoSelfQMMM(mf.__class__):\n",
    "        def energy_nuc(self):\n",
    "            q = self.mol.atom_charges().astype(np.float).copy()\n",
    "            q1 =q+ np.asarray(deltaZ) \n",
    "            return self.mol.energy_nuc(q1)\n",
    "    return(NoSelfQMMM(mf,mf.mm_mol))"
   ]
  },
  {
   "cell_type": "code",
   "execution_count": 16,
   "metadata": {},
   "outputs": [
    {
     "name": "stdout",
     "output_type": "stream",
     "text": [
      "converged SCF energy = -108.485919016289\n",
      "--------------- RHF gradients ---------------\n",
      "         x                y                z\n",
      "0 C     0.0000000000    -0.0000000000    10.3428116554\n",
      "1 O    -0.0000000000     0.0000000000   -10.3428116554\n",
      "----------------------------------------------\n"
     ]
    },
    {
     "data": {
      "text/plain": [
       "<pyscf.grad.rhf.Gradients at 0x7fefe8b98550>"
      ]
     },
     "execution_count": 16,
     "metadata": {},
     "output_type": "execute_result"
    }
   ],
   "source": [
    "mol = gto.M(atom='C 0 0 0; O 0 0 1.2', unit=\"Bohr\",basis=\"sto-3g\")\n",
    "mf = scf.RHF(mol)\n",
    "e=mf.scf()"
   ]
  },
  {
   "cell_type": "code",
   "execution_count": 3,
   "metadata": {},
   "outputs": [],
   "source": [
    "mol1 = gto.M(atom='C 0 0 0; O 0 0 1.2', unit=\"Bohr\",basis=\"sto-3g\")"
   ]
  },
  {
   "cell_type": "code",
   "execution_count": 4,
   "metadata": {},
   "outputs": [
    {
     "data": {
      "text/plain": [
       "array([6, 8], dtype=int32)"
      ]
     },
     "execution_count": 4,
     "metadata": {},
     "output_type": "execute_result"
    }
   ],
   "source": [
    "mol.atom_charges()"
   ]
  },
  {
   "cell_type": "code",
   "execution_count": 5,
   "metadata": {},
   "outputs": [
    {
     "name": "stdout",
     "output_type": "stream",
     "text": [
      "    def atom_charges(self):\n",
      "        '''np.asarray([mol.atom_charge(i) for i in range(mol.natm)])'''\n",
      "        z = self._atm[:,CHARGE_OF]\n",
      "        if numpy.any(self._atm[:,NUC_MOD_OF] == NUC_FRAC_CHARGE):\n",
      "            # Create the integer nuclear charges first then replace the MM\n",
      "            # particles with the MM charges that saved in _env[PTR_FRAC_CHARGE]\n",
      "            z = numpy.array(z, dtype=numpy.double)\n",
      "            idx = self._atm[:,NUC_MOD_OF] == NUC_FRAC_CHARGE\n",
      "            # MM fractional charges can be positive or negative\n",
      "            z[idx] = self._env[self._atm[idx,PTR_FRAC_CHARGE]]\n",
      "        return z\n",
      "\n"
     ]
    }
   ],
   "source": [
    "print(inspect.getsource(mol.atom_charges))"
   ]
  },
  {
   "cell_type": "code",
   "execution_count": 6,
   "metadata": {},
   "outputs": [
    {
     "name": "stdout",
     "output_type": "stream",
     "text": [
      "3 3 2 0\n"
     ]
    }
   ],
   "source": [
    "NUC_FRAC_CHARGE=pyscf.gto.mole.NUC_FRAC_CHARGE\n",
    "PTR_FRAC_CHARGE=pyscf.gto.mole.PTR_FRAC_CHARGE\n",
    "NUC_MOD_OF=pyscf.gto.mole.NUC_MOD_OF\n",
    "CHARGE_OF=pyscf.gto.mole.CHARGE_OF\n",
    "PTR_ZETA=pyscf.gto.mole.PTR_ZETA\n",
    "\n",
    "print(NUC_FRAC_CHARGE,PTR_FRAC_CHARGE,NUC_MOD_OF,CHARGE_OF)"
   ]
  },
  {
   "cell_type": "code",
   "execution_count": 7,
   "metadata": {},
   "outputs": [
    {
     "data": {
      "text/plain": [
       "array([[ 6, 20,  1, 23,  0,  0],\n",
       "       [ 8, 24,  1, 27,  0,  0]], dtype=int32)"
      ]
     },
     "execution_count": 7,
     "metadata": {},
     "output_type": "execute_result"
    }
   ],
   "source": [
    "mol._atm"
   ]
  },
  {
   "cell_type": "code",
   "execution_count": 8,
   "metadata": {},
   "outputs": [
    {
     "data": {
      "text/plain": [
       "array([[ 6, 20,  3, 23,  0,  0],\n",
       "       [ 8, 24,  3, 27,  0,  0]], dtype=int32)"
      ]
     },
     "execution_count": 8,
     "metadata": {},
     "output_type": "execute_result"
    }
   ],
   "source": [
    "mol1._atm[:,NUC_MOD_OF] = NUC_FRAC_CHARGE\n",
    "mol1._atm"
   ]
  },
  {
   "cell_type": "code",
   "execution_count": 9,
   "metadata": {},
   "outputs": [],
   "source": [
    "mol1._env[mol1._atm[0,PTR_FRAC_CHARGE]]=6.5\n",
    "mol1._env[mol1._atm[1,PTR_FRAC_CHARGE]]=7.5"
   ]
  },
  {
   "cell_type": "code",
   "execution_count": 10,
   "metadata": {},
   "outputs": [
    {
     "data": {
      "text/plain": [
       "array([6, 8], dtype=int32)"
      ]
     },
     "execution_count": 10,
     "metadata": {},
     "output_type": "execute_result"
    }
   ],
   "source": [
    "mol.atom_charges()"
   ]
  },
  {
   "cell_type": "code",
   "execution_count": 11,
   "metadata": {},
   "outputs": [],
   "source": [
    "# mol1.build()   !!! never do mol.build(), reset charges to the original values "
   ]
  },
  {
   "cell_type": "code",
   "execution_count": 12,
   "metadata": {},
   "outputs": [
    {
     "data": {
      "text/plain": [
       "array([6.5, 7.5])"
      ]
     },
     "execution_count": 12,
     "metadata": {},
     "output_type": "execute_result"
    }
   ],
   "source": [
    "mol1.atom_charges()"
   ]
  },
  {
   "cell_type": "code",
   "execution_count": 13,
   "metadata": {},
   "outputs": [
    {
     "data": {
      "text/plain": [
       "array([ True,  True])"
      ]
     },
     "execution_count": 13,
     "metadata": {},
     "output_type": "execute_result"
    }
   ],
   "source": [
    "mol1._atm[:,NUC_MOD_OF] == NUC_FRAC_CHARGE"
   ]
  },
  {
   "cell_type": "code",
   "execution_count": 14,
   "metadata": {},
   "outputs": [
    {
     "name": "stdout",
     "output_type": "stream",
     "text": [
      "converged SCF energy = -105.282904516428\n"
     ]
    },
    {
     "data": {
      "text/plain": [
       "-105.28290451642843"
      ]
     },
     "execution_count": 14,
     "metadata": {},
     "output_type": "execute_result"
    }
   ],
   "source": [
    "mol1.built=True\n",
    "mf1=scf.RHF(mol1)\n",
    "mf1.scf(dm0=mf.get_init_guess())"
   ]
  },
  {
   "cell_type": "code",
   "execution_count": 15,
   "metadata": {},
   "outputs": [
    {
     "name": "stdout",
     "output_type": "stream",
     "text": [
      "--------------- RHF gradients ---------------\n",
      "         x                y                z\n",
      "0 C     0.0000000000     0.0000000000    10.3428116554\n",
      "1 O    -0.0000000000    -0.0000000000   -10.3428116554\n",
      "----------------------------------------------\n"
     ]
    },
    {
     "data": {
      "text/plain": [
       "<pyscf.grad.rhf.Gradients at 0x7fefe6b39390>"
      ]
     },
     "execution_count": 15,
     "metadata": {},
     "output_type": "execute_result"
    }
   ],
   "source": [
    "g=mf.Gradients()\n",
    "g.run()"
   ]
  },
  {
   "cell_type": "code",
   "execution_count": 16,
   "metadata": {},
   "outputs": [
    {
     "name": "stdout",
     "output_type": "stream",
     "text": [
      "converged SCF energy = -108.485919016289\n",
      "--------------- RHF gradients ---------------\n",
      "         x                y                z\n",
      "0 C     0.0000000000    -0.0000000000    10.1805341297\n",
      "1 O     0.0000000000    -0.0000000000   -10.3548125534\n",
      "----------------------------------------------\n"
     ]
    },
    {
     "data": {
      "text/plain": [
       "<pyscf.grad.rhf.Gradients at 0x7f3bc06f9310>"
      ]
     },
     "execution_count": 16,
     "metadata": {},
     "output_type": "execute_result"
    }
   ],
   "source": [
    "mol1._env[mol1._atm[0,PTR_FRAC_CHARGE]]=6\n",
    "mol1._env[mol1._atm[1,PTR_FRAC_CHARGE]]=8\n",
    "mol1.built=True\n",
    "mf1=scf.RHF(mol1)\n",
    "mf1.scf(dm0=mf.make_rdm1())\n",
    "g1=mf1.Gradients()\n",
    "g1.run()"
   ]
  },
  {
   "cell_type": "code",
   "execution_count": 17,
   "metadata": {},
   "outputs": [
    {
     "name": "stdout",
     "output_type": "stream",
     "text": [
      "converged SCF energy = -108.48591901629\n"
     ]
    },
    {
     "data": {
      "text/plain": [
       "-108.4859190162895"
      ]
     },
     "execution_count": 17,
     "metadata": {},
     "output_type": "execute_result"
    }
   ],
   "source": [
    "mf.scf()"
   ]
  },
  {
   "cell_type": "markdown",
   "metadata": {},
   "source": [
    "Praticamente l'energia è corretta, mi da un gradiente, ma qualcosa si sminchia nel calcolo occorre decomporre g nei vari pezzi e quindi , confrontare con quelli della molecola\n"
   ]
  },
  {
   "cell_type": "code",
   "execution_count": 18,
   "metadata": {},
   "outputs": [
    {
     "data": {
      "text/plain": [
       "(array([[  0.        ,   0.        ,  33.33333333],\n",
       "        [  0.        ,   0.        , -33.33333333]]),\n",
       " array([[  0.        ,   0.        ,  33.33333333],\n",
       "        [  0.        ,   0.        , -33.33333333]]))"
      ]
     },
     "execution_count": 18,
     "metadata": {},
     "output_type": "execute_result"
    }
   ],
   "source": [
    "g.grad_nuc(),g1.grad_nuc()"
   ]
  },
  {
   "cell_type": "code",
   "execution_count": 19,
   "metadata": {},
   "outputs": [
    {
     "data": {
      "text/plain": [
       "array([[ 2.29156261e-16, -2.50547906e-16, -2.31527992e+01],\n",
       "       [ 9.33048392e-17, -9.69739001e-16,  2.29785208e+01]])"
      ]
     },
     "execution_count": 19,
     "metadata": {},
     "output_type": "execute_result"
    }
   ],
   "source": [
    "a=g1.grad_elec()\n",
    "a"
   ]
  },
  {
   "cell_type": "code",
   "execution_count": 20,
   "metadata": {},
   "outputs": [
    {
     "data": {
      "text/plain": [
       "array([[-1.23946665e-15,  7.24698627e-17, -2.29905217e+01],\n",
       "       [ 1.23946665e-15, -7.24698627e-17,  2.29905217e+01]])"
      ]
     },
     "execution_count": 20,
     "metadata": {},
     "output_type": "execute_result"
    }
   ],
   "source": [
    "b=g.grad_elec()\n",
    "b"
   ]
  },
  {
   "cell_type": "code",
   "execution_count": 21,
   "metadata": {},
   "outputs": [],
   "source": [
    "\"\"\"\n",
    "This is the important code ----------------------------------------------------------------\n",
    "\n",
    "hcore_deriv = mf_grad.hcore_generator(mol)                  dH/dx,dy,dz as a function of (at_idx)\n",
    "s1 = mf_grad.get_ovlp(mol)%autocall                         dS/dx   \n",
    "dm0 = mf.make_rdm1(mo_coeff, mo_occ)                          P\n",
    "\n",
    "vhf = mf_grad.get_veff(mol, dm0)                           P ( d/dx(ml) || ns )\n",
    "\n",
    "dme0 = mf_grad.make_rdm1e(mo_energy, mo_coeff, mo_occ)        W\n",
    "\n",
    "atmlst = range(mol.natm)\n",
    "aoslices = mol.aoslice_by_atom()\n",
    "de = numpy.zeros((len(atmlst),3))\n",
    "for k, ia in enumerate(atmlst):\n",
    "    p0, p1 = aoslices [ia,2:]\n",
    "    h1ao = hcore_deriv(ia) \n",
    "    de[k] += numpy.einsum('xij,ij->x', h1ao, dm0)                                    P*dH/dx\n",
    "# nabla was applied on bra in vhf, *2 for the contributions of nabla|ket>\n",
    "    de[k] += numpy.einsum('xij,ij->x', vhf[:,p0:p1], dm0[p0:p1]) * 2           P (Pd/dx(ml||ns))    -as construction on dm0\n",
    "    de[k] -= numpy.einsum('xij,ij->x', s1[:,p0:p1], dme0[p0:p1]) * 2        W dS/dx\n",
    "\n",
    "return de\n",
    "\"\"\" \n",
    "pass"
   ]
  },
  {
   "cell_type": "code",
   "execution_count": 22,
   "metadata": {},
   "outputs": [
    {
     "name": "stdout",
     "output_type": "stream",
     "text": [
      "True\n",
      "True\n",
      "True\n",
      "True\n",
      "True\n",
      "True\n",
      "True\n",
      "True\n",
      "False\n",
      "False\n"
     ]
    }
   ],
   "source": [
    "print(np.allclose(g.get_hcore(),g1.get_hcore()))\n",
    "print(np.allclose(mf.make_rdm1(),mf1.make_rdm1()))\n",
    "(P,P1)=(mf.make_rdm1(),mf1.make_rdm1())\n",
    "print(np.allclose(P,P1))\n",
    "print(np.allclose( mf.make_rdm1(mf.mo_coeff, mf.mo_occ),mf1.make_rdm1(mf1.mo_coeff, mf1.mo_occ)) )\n",
    "print(np.allclose(g.get_veff(mol, P),g1.get_veff(mol1, P1)))\n",
    "print(np.allclose(g.make_rdm1e(mf.mo_energy, mf.mo_coeff, mf.mo_occ),g1.make_rdm1e(mf1.mo_energy, mf1.mo_coeff, mf1.mo_occ) ))\n",
    "print(np.allclose(g.get_ovlp(mol),g1.get_ovlp(mol1)))\n",
    "print(np.allclose(mf.get_hcore(mol),mf1.get_hcore(mol1)))\n",
    "# what else ????????\n",
    "#print(np.allclose(mf.mo_coeff,mf1.mo_coeff))  # Can accur orbital rotation \n",
    "print(np.allclose(g.hcore_generator(mol)(0),g1.hcore_generator(mol1)(0)))\n",
    "print(np.allclose(g.hcore_generator(mol)(1),g1.hcore_generator(mol1)(1)))"
   ]
  },
  {
   "cell_type": "code",
   "execution_count": 23,
   "metadata": {},
   "outputs": [
    {
     "data": {
      "text/plain": [
       "(3, 10, 10)"
      ]
     },
     "execution_count": 23,
     "metadata": {},
     "output_type": "execute_result"
    }
   ],
   "source": [
    "g1.hcore_generator(mol1)(1).shape"
   ]
  },
  {
   "cell_type": "code",
   "execution_count": 24,
   "metadata": {},
   "outputs": [
    {
     "data": {
      "text/plain": [
       "array([ 2.30424570e-14, -1.79665077e-14, -1.62276894e-01])"
      ]
     },
     "execution_count": 24,
     "metadata": {},
     "output_type": "execute_result"
    }
   ],
   "source": [
    "np.einsum('xij,ij->x', g1.hcore_generator(mol1)(0), P1)-np.einsum('xij,ij->x', g.hcore_generator(mol)(0), P)"
   ]
  },
  {
   "cell_type": "code",
   "execution_count": 25,
   "metadata": {},
   "outputs": [
    {
     "data": {
      "text/plain": [
       "array([-2.27199959e-14,  1.67462207e-14, -1.20015298e-02])"
      ]
     },
     "execution_count": 25,
     "metadata": {},
     "output_type": "execute_result"
    }
   ],
   "source": [
    "np.einsum('xij,ij->x', g1.hcore_generator()(1), P1)-np.einsum('xij,ij->x', g.hcore_generator()(1), P)"
   ]
  },
  {
   "cell_type": "code",
   "execution_count": 26,
   "metadata": {},
   "outputs": [
    {
     "data": {
      "text/plain": [
       "array([[ 1.46862291e-15, -3.23017769e-16, -1.62277526e-01],\n",
       "       [-1.14616181e-15, -8.97269138e-16, -1.20008979e-02]])"
      ]
     },
     "execution_count": 26,
     "metadata": {},
     "output_type": "execute_result"
    }
   ],
   "source": [
    "a-b"
   ]
  },
  {
   "cell_type": "code",
   "execution_count": 27,
   "metadata": {},
   "outputs": [
    {
     "data": {
      "text/plain": [
       "\"\\nh1 = mf.get_hcore(mol)\\n        def hcore_deriv(atm_id):\\n            shl0, shl1, p0, p1 = aoslices[atm_id]\\n            with mol.with_rinv_at_nucleus(atm_id):\\n                vrinv = mol.intor('int1e_iprinv', comp=3) # <\\nabla|1/r|>\\n                vrinv *= -mol.atom_charge(atm_id)\\n                if with_ecp and atm_id in ecp_atoms:\\n                    vrinv += mol.intor('ECPscalar_iprinv', comp=3)\\n            vrinv[:,p0:p1] += h1[:,p0:p1]\\n            return vrinv + vrinv.transpose(0,2,1)\\n    return hcore_deriv\\n    \""
      ]
     },
     "execution_count": 27,
     "metadata": {},
     "output_type": "execute_result"
    }
   ],
   "source": [
    "\"\"\"\n",
    "h1 = mf.get_hcore(mol)\n",
    "        def hcore_deriv(atm_id):\n",
    "            shl0, shl1, p0, p1 = aoslices[atm_id]\n",
    "            with mol.with_rinv_at_nucleus(atm_id):\n",
    "                vrinv = mol.intor('int1e_iprinv', comp=3) # <\\nabla|1/r|>\n",
    "                vrinv *= -mol.atom_charge(atm_id)\n",
    "                if with_ecp and atm_id in ecp_atoms:\n",
    "                    vrinv += mol.intor('ECPscalar_iprinv', comp=3)\n",
    "            vrinv[:,p0:p1] += h1[:,p0:p1]\n",
    "            return vrinv + vrinv.transpose(0,2,1)\n",
    "    return hcore_deriv\n",
    "    \"\"\""
   ]
  },
  {
   "cell_type": "code",
   "execution_count": 28,
   "metadata": {},
   "outputs": [
    {
     "name": "stdout",
     "output_type": "stream",
     "text": [
      "True\n"
     ]
    },
    {
     "data": {
      "text/plain": [
       "True"
      ]
     },
     "execution_count": 28,
     "metadata": {},
     "output_type": "execute_result"
    }
   ],
   "source": [
    "print(np.allclose(mol.aoslice_by_atom(),mol1.aoslice_by_atom()))\n",
    "np.allclose(mf.get_hcore(),mf1.get_hcore())"
   ]
  },
  {
   "cell_type": "code",
   "execution_count": 29,
   "metadata": {},
   "outputs": [],
   "source": [
    "mol.aoslice_by_atom()\n",
    "vrinv = mol.intor('int1e_iprinv', comp=3) # <\\nabla|1/r|>\n",
    "vrinv *= -mol.atom_charge(0)\n",
    "vrinv1 = mol1.intor('int1e_iprinv', comp=3) # <\\nabla|1/r|>\n",
    "vrinv1 *= -mol1.atom_charge(0)"
   ]
  },
  {
   "cell_type": "code",
   "execution_count": 30,
   "metadata": {},
   "outputs": [
    {
     "data": {
      "text/plain": [
       "True"
      ]
     },
     "execution_count": 30,
     "metadata": {},
     "output_type": "execute_result"
    }
   ],
   "source": [
    "np.allclose(vrinv,vrinv1)"
   ]
  },
  {
   "cell_type": "code",
   "execution_count": 31,
   "metadata": {},
   "outputs": [
    {
     "data": {
      "text/plain": [
       "False"
      ]
     },
     "execution_count": 31,
     "metadata": {},
     "output_type": "execute_result"
    }
   ],
   "source": [
    "np.allclose(vrinv + vrinv.transpose(0,2,1),g.hcore_generator(mol)(0) )"
   ]
  },
  {
   "cell_type": "code",
   "execution_count": 32,
   "metadata": {},
   "outputs": [],
   "source": [
    "aoslices = mol.aoslice_by_atom()\n",
    "h = mf.get_hcore(mol)\n",
    "shl0, shl1, p0, p1 = aoslices[0]\n",
    "with mol.with_rinv_at_nucleus(0):\n",
    "    vrinv = mol.intor('int1e_iprinv', comp=3) # <\\nabla|1/r|>\n",
    "    vrinv *= -mol.atom_charge(0)\n",
    "vrinv[:,:,p0:p1] += h[:,p0:p1]"
   ]
  },
  {
   "cell_type": "code",
   "execution_count": 33,
   "metadata": {},
   "outputs": [
    {
     "data": {
      "text/plain": [
       "((10, 5), (3, 10, 5))"
      ]
     },
     "execution_count": 33,
     "metadata": {},
     "output_type": "execute_result"
    }
   ],
   "source": [
    " h[:,p0:p1].shape,vrinv[:,:,p0:p1].shape"
   ]
  },
  {
   "cell_type": "code",
   "execution_count": 34,
   "metadata": {},
   "outputs": [
    {
     "data": {
      "text/plain": [
       "False"
      ]
     },
     "execution_count": 34,
     "metadata": {},
     "output_type": "execute_result"
    }
   ],
   "source": [
    "np.allclose(vrinv + vrinv.transpose(0,2,1),g.hcore_generator(mol)(0) )"
   ]
  },
  {
   "cell_type": "code",
   "execution_count": 35,
   "metadata": {},
   "outputs": [
    {
     "data": {
      "text/plain": [
       "<function pyscf.grad.rhf.hcore_generator.<locals>.hcore_deriv(atm_id)>"
      ]
     },
     "execution_count": 35,
     "metadata": {},
     "output_type": "execute_result"
    }
   ],
   "source": [
    "g.hcore_generator(mol)"
   ]
  },
  {
   "cell_type": "code",
   "execution_count": 36,
   "metadata": {},
   "outputs": [
    {
     "name": "stdout",
     "output_type": "stream",
     "text": [
      "[[ 0  3  0  5]\n",
      " [ 3  6  5 10]]\n",
      "[[ 0  3  0  5]\n",
      " [ 3  6  5 10]]\n"
     ]
    }
   ],
   "source": [
    "print( mol.aoslice_by_atom())\n",
    "print( mol1.aoslice_by_atom())"
   ]
  },
  {
   "cell_type": "code",
   "execution_count": 37,
   "metadata": {},
   "outputs": [
    {
     "name": "stdout",
     "output_type": "stream",
     "text": [
      "def hcore_generator(mf, mol=None):\n",
      "    if mol is None: mol = mf.mol\n",
      "    with_x2c = getattr(mf.base, 'with_x2c', None)\n",
      "    if with_x2c:\n",
      "        hcore_deriv = with_x2c.hcore_deriv_generator(deriv=1)\n",
      "    else:\n",
      "        with_ecp = mol.has_ecp()\n",
      "        if with_ecp:\n",
      "            ecp_atoms = set(mol._ecpbas[:,gto.ATOM_OF])\n",
      "        else:\n",
      "            ecp_atoms = ()\n",
      "        aoslices = mol.aoslice_by_atom()\n",
      "        h1 = mf.get_hcore(mol)\n",
      "        def hcore_deriv(atm_id):\n",
      "            shl0, shl1, p0, p1 = aoslices[atm_id]\n",
      "            with mol.with_rinv_at_nucleus(atm_id):\n",
      "                vrinv = mol.intor('int1e_iprinv', comp=3) # <\\nabla|1/r|>\n",
      "                vrinv *= -mol.atom_charge(atm_id)\n",
      "                if with_ecp and atm_id in ecp_atoms:\n",
      "                    vrinv += mol.intor('ECPscalar_iprinv', comp=3)\n",
      "            vrinv[:,p0:p1] += h1[:,p0:p1]\n",
      "            return vrinv + vrinv.transpose(0,2,1)\n",
      "    return hcore_deriv\n",
      "\n"
     ]
    }
   ],
   "source": [
    "print(inspect.getsource(g.hcore_generator))"
   ]
  },
  {
   "cell_type": "code",
   "execution_count": 38,
   "metadata": {},
   "outputs": [],
   "source": [
    "def hcore_deriv(atm_id,mol=mol,grad=g):\n",
    "    shl0, shl1, p0, p1 = aoslices[atm_id]\n",
    "    with mol.with_rinv_at_nucleus(atm_id):\n",
    "        vrinv = mol.intor('int1e_iprinv', comp=3) # <\\nabla|1/r|>\n",
    "        vrinv *= -mol.atom_charge(atm_id)\n",
    "    vrinv[:,p0:p1] += grad.get_hcore()[:,p0:p1]\n",
    "    return vrinv + vrinv.transpose(0,2,1)"
   ]
  },
  {
   "cell_type": "code",
   "execution_count": 39,
   "metadata": {},
   "outputs": [
    {
     "data": {
      "text/plain": [
       "((3, 10, 10), (3, 10, 10))"
      ]
     },
     "execution_count": 39,
     "metadata": {},
     "output_type": "execute_result"
    }
   ],
   "source": [
    "hcore_deriv(0).shape,g.hcore_generator(mol)(0).shape"
   ]
  },
  {
   "cell_type": "code",
   "execution_count": 40,
   "metadata": {},
   "outputs": [
    {
     "data": {
      "text/plain": [
       "(3, 10, 10)"
      ]
     },
     "execution_count": 40,
     "metadata": {},
     "output_type": "execute_result"
    }
   ],
   "source": [
    "g.get_hcore().shape"
   ]
  },
  {
   "cell_type": "code",
   "execution_count": 41,
   "metadata": {},
   "outputs": [
    {
     "data": {
      "text/plain": [
       "True"
      ]
     },
     "execution_count": 41,
     "metadata": {},
     "output_type": "execute_result"
    }
   ],
   "source": [
    "np.allclose(hcore_deriv(0),g.hcore_generator(mol)(0))"
   ]
  },
  {
   "cell_type": "code",
   "execution_count": 42,
   "metadata": {},
   "outputs": [
    {
     "data": {
      "text/plain": [
       "True"
      ]
     },
     "execution_count": 42,
     "metadata": {},
     "output_type": "execute_result"
    }
   ],
   "source": [
    "np.allclose(g.get_hcore(mol),g1.get_hcore(mol1))"
   ]
  },
  {
   "cell_type": "code",
   "execution_count": 43,
   "metadata": {},
   "outputs": [
    {
     "data": {
      "text/plain": [
       "True"
      ]
     },
     "execution_count": 43,
     "metadata": {},
     "output_type": "execute_result"
    }
   ],
   "source": [
    "np.allclose(hcore_deriv(0),hcore_deriv(0,mol=mol))"
   ]
  },
  {
   "cell_type": "code",
   "execution_count": 44,
   "metadata": {},
   "outputs": [
    {
     "data": {
      "text/plain": [
       "6"
      ]
     },
     "execution_count": 44,
     "metadata": {},
     "output_type": "execute_result"
    }
   ],
   "source": [
    "mol.atom_charge(0)\n"
   ]
  },
  {
   "cell_type": "code",
   "execution_count": 45,
   "metadata": {},
   "outputs": [
    {
     "data": {
      "text/plain": [
       "6.0"
      ]
     },
     "execution_count": 45,
     "metadata": {},
     "output_type": "execute_result"
    }
   ],
   "source": [
    "mol1.atom_charge(0)"
   ]
  },
  {
   "cell_type": "code",
   "execution_count": 46,
   "metadata": {},
   "outputs": [],
   "source": [
    "atm_id=1\n",
    "with mol.with_rinv_at_nucleus(atm_id):\n",
    "    vrinv = mol.intor('int1e_iprinv', comp=3) # <\\nabla|1/r|>\n",
    "with mol1.with_rinv_at_nucleus(atm_id):\n",
    "    vrinv1 = mol1.intor('int1e_iprinv', comp=3) # <\\nabla|1/r|>      mol.intor('int1e_iprinv', comp=3) questo differisce fra mol e mol1"
   ]
  },
  {
   "cell_type": "code",
   "execution_count": 47,
   "metadata": {},
   "outputs": [
    {
     "data": {
      "text/plain": [
       "False"
      ]
     },
     "execution_count": 47,
     "metadata": {},
     "output_type": "execute_result"
    }
   ],
   "source": [
    "np.allclose(vrinv,vrinv1)"
   ]
  },
  {
   "cell_type": "code",
   "execution_count": 48,
   "metadata": {},
   "outputs": [
    {
     "data": {
      "text/plain": [
       "(3, 10, 10)"
      ]
     },
     "execution_count": 48,
     "metadata": {},
     "output_type": "execute_result"
    }
   ],
   "source": [
    "np.allclose(mol.intor('int1e_iprinv', comp=3),mol1.intor('int1e_iprinv', comp=3))\n",
    "mol1.intor('int1e_iprinv', comp=3).shape"
   ]
  },
  {
   "cell_type": "code",
   "execution_count": 49,
   "metadata": {},
   "outputs": [
    {
     "name": "stdout",
     "output_type": "stream",
     "text": [
      "False\n"
     ]
    }
   ],
   "source": [
    "with mol1.with_rinv_at_nucleus(atm_id) and mol.with_rinv_at_nucleus(atm_id) :\n",
    "    print(np.allclose(mol.intor('int1e_iprinv', comp=3),mol1.intor('int1e_iprinv', comp=3)))"
   ]
  },
  {
   "cell_type": "code",
   "execution_count": 50,
   "metadata": {},
   "outputs": [
    {
     "data": {
      "text/plain": [
       "False"
      ]
     },
     "execution_count": 50,
     "metadata": {},
     "output_type": "execute_result"
    }
   ],
   "source": [
    "np.allclose(mol1.intor('int1e_iprinv', comp=3),vrinv)"
   ]
  },
  {
   "cell_type": "code",
   "execution_count": 51,
   "metadata": {},
   "outputs": [
    {
     "data": {
      "text/plain": [
       "8.0"
      ]
     },
     "execution_count": 51,
     "metadata": {},
     "output_type": "execute_result"
    }
   ],
   "source": [
    "mol1._env[mol1._atm[atm_id,PTR_ZETA]]"
   ]
  },
  {
   "cell_type": "code",
   "execution_count": 52,
   "metadata": {},
   "outputs": [],
   "source": [
    "class FracMole(gto.Mole):\n",
    "    def with_rinv_at_nucleus(self, atm_id):\n",
    "        rinv = self.atom_coord(atm_id)\n",
    "        self._env[pyscf.gto.mole.AS_RINV_ORIG_ATOM] = atm_id  # required by ecp gradients\n",
    "        return self.with_rinv_origin(rinv)"
   ]
  },
  {
   "cell_type": "code",
   "execution_count": 53,
   "metadata": {},
   "outputs": [
    {
     "data": {
      "text/plain": [
       "<__main__.FracMole at 0x7f3bb9ae4ad0>"
      ]
     },
     "execution_count": 53,
     "metadata": {},
     "output_type": "execute_result"
    }
   ],
   "source": [
    "mol2=FracMole()\n",
    "mol2.build(atom='C 0 0 0; O 0 0 1.2', unit=\"Bohr\",basis=\"sto-3g\")"
   ]
  },
  {
   "cell_type": "code",
   "execution_count": 54,
   "metadata": {},
   "outputs": [
    {
     "data": {
      "text/plain": [
       "array([[ 6, 20,  3, 23,  0,  0],\n",
       "       [ 8, 24,  3, 27,  0,  0]], dtype=int32)"
      ]
     },
     "execution_count": 54,
     "metadata": {},
     "output_type": "execute_result"
    }
   ],
   "source": [
    "mol2._atm[:,NUC_MOD_OF] = NUC_FRAC_CHARGE\n",
    "mol2._atm"
   ]
  },
  {
   "cell_type": "code",
   "execution_count": 55,
   "metadata": {},
   "outputs": [
    {
     "name": "stdout",
     "output_type": "stream",
     "text": [
      "converged SCF energy = -108.48591901629\n"
     ]
    }
   ],
   "source": [
    "mol2._atm[:,NUC_MOD_OF] == NUC_FRAC_CHARGE\n",
    "mol2._env[mol2._atm[0,pyscf.gto.mole.PTR_FRAC_CHARGE]]=6.\n",
    "mol2._env[mol2._atm[1,pyscf.gto.mole.PTR_FRAC_CHARGE]]=8.\n",
    "mf2 = scf.RHF(mol2)\n",
    "e=mf2.scf(dm0=P)"
   ]
  },
  {
   "cell_type": "code",
   "execution_count": 56,
   "metadata": {},
   "outputs": [
    {
     "data": {
      "text/plain": [
       "array([6., 8.])"
      ]
     },
     "execution_count": 56,
     "metadata": {},
     "output_type": "execute_result"
    }
   ],
   "source": [
    "mol2.atom_charges()"
   ]
  },
  {
   "cell_type": "code",
   "execution_count": 57,
   "metadata": {},
   "outputs": [],
   "source": [
    "g2=mf2.Gradients()"
   ]
  },
  {
   "cell_type": "code",
   "execution_count": 58,
   "metadata": {},
   "outputs": [
    {
     "name": "stdout",
     "output_type": "stream",
     "text": [
      "--------------- RHF gradients ---------------\n",
      "         x                y                z\n",
      "0 C    -0.0000000000     0.0000000000    10.3428116496\n",
      "1 O     0.0000000000    -0.0000000000   -10.3428116496\n",
      "----------------------------------------------\n"
     ]
    },
    {
     "data": {
      "text/plain": [
       "<pyscf.grad.rhf.Gradients at 0x7f3bb93cc710>"
      ]
     },
     "execution_count": 58,
     "metadata": {},
     "output_type": "execute_result"
    }
   ],
   "source": [
    "g2.run()"
   ]
  },
  {
   "cell_type": "code",
   "execution_count": 59,
   "metadata": {},
   "outputs": [
    {
     "name": "stdout",
     "output_type": "stream",
     "text": [
      "--------------- RHF gradients ---------------\n",
      "         x                y                z\n",
      "0 C    -0.0000000000     0.0000000000    10.3428116554\n",
      "1 O     0.0000000000    -0.0000000000   -10.3428116554\n",
      "----------------------------------------------\n"
     ]
    },
    {
     "data": {
      "text/plain": [
       "<pyscf.grad.rhf.Gradients at 0x7f3be840b390>"
      ]
     },
     "execution_count": 59,
     "metadata": {},
     "output_type": "execute_result"
    }
   ],
   "source": [
    "g.run()"
   ]
  },
  {
   "cell_type": "code",
   "execution_count": 60,
   "metadata": {},
   "outputs": [
    {
     "name": "stdout",
     "output_type": "stream",
     "text": [
      "converged SCF energy = -106.483078849107\n"
     ]
    }
   ],
   "source": [
    "mol3=FracMole()\n",
    "mol3.build(atom='C 0 0 0; O 0 0 1.2', unit=\"Bohr\",basis=\"sto-3g\")\n",
    "mol3._atm[:,NUC_MOD_OF] = NUC_FRAC_CHARGE\n",
    "mol3._atm[:,NUC_MOD_OF] == NUC_FRAC_CHARGE\n",
    "mol3._env[mol3._atm[0,pyscf.gto.mole.PTR_FRAC_CHARGE]]=6.3\n",
    "mol3._env[mol3._atm[1,pyscf.gto.mole.PTR_FRAC_CHARGE]]=7.7\n",
    "mf3= scf.RHF(mol3)\n",
    "e=mf3.scf(dm0=mf3.init_guess_by_atom()) #SAD guess XD"
   ]
  },
  {
   "cell_type": "code",
   "execution_count": 61,
   "metadata": {},
   "outputs": [
    {
     "name": "stdout",
     "output_type": "stream",
     "text": [
      "--------------- RHF gradients ---------------\n",
      "         x                y                z\n",
      "0 C    -0.0000000000     0.0000000000    10.1915287716\n",
      "1 O     0.0000000000    -0.0000000000   -10.1915287716\n",
      "----------------------------------------------\n"
     ]
    },
    {
     "data": {
      "text/plain": [
       "<pyscf.grad.rhf.Gradients at 0x7f3bb93d5fd0>"
      ]
     },
     "execution_count": 61,
     "metadata": {},
     "output_type": "execute_result"
    }
   ],
   "source": [
    "g3=mf3.Gradients()\n",
    "g3.run()"
   ]
  },
  {
   "cell_type": "code",
   "execution_count": 62,
   "metadata": {},
   "outputs": [
    {
     "name": "stdout",
     "output_type": "stream",
     "text": [
      "converged SCF energy = -106.483078849106\n"
     ]
    },
    {
     "data": {
      "text/plain": [
       "-106.48307884910648"
      ]
     },
     "execution_count": 62,
     "metadata": {},
     "output_type": "execute_result"
    }
   ],
   "source": [
    "compcalc=fc(mf,[.3,-.3])\n",
    "compcalc.scf()"
   ]
  },
  {
   "cell_type": "code",
   "execution_count": 63,
   "metadata": {},
   "outputs": [
    {
     "name": "stdout",
     "output_type": "stream",
     "text": [
      "['__add__', '__call__', '__class__', '__delattr__', '__dict__', '__dir__', '__doc__', '__eq__', '__format__', '__ge__', '__getattr__', '__getattribute__', '__gt__', '__hash__', '__init__', '__init_subclass__', '__le__', '__lt__', '__module__', '__ne__', '__new__', '__reduce__', '__reduce_ex__', '__repr__', '__setattr__', '__sizeof__', '__str__', '__subclasshook__', '__weakref__', '_add_suffix', '_atm', '_atom', '_bas', '_basis', '_built', '_ecp', '_ecpbas', '_env', '_keys', '_libcint_ctr_coeff', '_nelectron', '_pseudo', '_symm_axes', '_symm_orig', 'ao2mo', 'ao_labels', 'ao_loc', 'ao_loc_2c', 'ao_loc_nr', 'aoslice_2c_by_atom', 'aoslice_by_atom', 'aoslice_nr_by_atom', 'apply', 'atom', 'atom_charge', 'atom_charges', 'atom_coord', 'atom_coords', 'atom_mass_list', 'atom_nelec_core', 'atom_nshells', 'atom_pure_symbol', 'atom_shell_ids', 'atom_symbol', 'bas_angular', 'bas_atom', 'bas_coord', 'bas_ctr_coeff', 'bas_exp', 'bas_kappa', 'bas_len_cart', 'bas_len_spinor', 'bas_nctr', 'bas_nprim', 'basis', 'build', 'cart', 'cart2sph_coeff', 'cart_labels', 'charge', 'check_sanity', 'condense_to_shell', 'copy', 'dump_input', 'dumps', 'ecp', 'elements', 'energy_nuc', 'etbs', 'eval_ao', 'eval_gto', 'expand_etb', 'expand_etbs', 'format_atom', 'format_basis', 'format_ecp', 'fromfile', 'fromstring', 'get_enuc', 'groupname', 'gto_norm', 'has_ecp', 'incore_anyway', 'inertia_moment', 'intor', 'intor_asymmetric', 'intor_by_shell', 'intor_symmetric', 'irrep_id', 'irrep_name', 'kernel', 'loads', 'loads_', 'make_atm_env', 'make_bas_env', 'make_ecp_env', 'make_env', 'max_memory', 'ms', 'multiplicity', 'nao', 'nao_2c', 'nao_2c_range', 'nao_cart', 'nao_nr', 'nao_nr_range', 'natm', 'nbas', 'nelec', 'nelectron', 'npgto_nr', 'nucmod', 'nucprop', 'offset_2c_by_atom', 'offset_ao_by_atom', 'offset_nr_by_atom', 'omega', 'output', 'pack', 'post_kernel', 'pre_kernel', 'run', 'search_ao_label', 'search_ao_nr', 'search_ao_r', 'search_shell_id', 'set', 'set_common_orig', 'set_common_orig_', 'set_common_origin', 'set_common_origin_', 'set_f12_zeta', 'set_geom_', 'set_nuc_mod', 'set_nuc_mod_', 'set_range_coulomb', 'set_range_coulomb_', 'set_rinv_orig', 'set_rinv_orig_', 'set_rinv_origin', 'set_rinv_origin_', 'set_rinv_zeta', 'set_rinv_zeta_', 'sph2spinor_coeff', 'sph_labels', 'spheric_labels', 'spin', 'spinor_labels', 'stdout', 'symm_orb', 'symmetry', 'symmetry_subgroup', 'time_reversal_map', 'tmap', 'to_uncontracted_cartesian_basis', 'tofile', 'topgroup', 'tostring', 'tot_electrons', 'unit', 'unpack', 'unpack_', 'update', 'update_from_chk', 'verbose', 'view', 'with_common_orig', 'with_common_origin', 'with_range_coulomb', 'with_rinv_as_nucleus', 'with_rinv_at_nucleus', 'with_rinv_orig', 'with_rinv_origin', 'with_rinv_zeta']\n"
     ]
    }
   ],
   "source": [
    "print(dir(mol))"
   ]
  },
  {
   "cell_type": "code",
   "execution_count": 64,
   "metadata": {},
   "outputs": [
    {
     "data": {
      "text/plain": [
       "2"
      ]
     },
     "execution_count": 64,
     "metadata": {},
     "output_type": "execute_result"
    }
   ],
   "source": [
    "len([[1,2,3,4,5],[1,2,3,4,2]])"
   ]
  },
  {
   "cell_type": "code",
   "execution_count": 65,
   "metadata": {},
   "outputs": [],
   "source": [
    "from FracChargMole import FcM"
   ]
  },
  {
   "cell_type": "code",
   "execution_count": 66,
   "metadata": {},
   "outputs": [
    {
     "name": "stdout",
     "output_type": "stream",
     "text": [
      "[6 8]\n",
      "[6 8]\n"
     ]
    }
   ],
   "source": [
    "fcm=FcM(fcs=[.05,-.05],atom=\"C 0 0 0; O 0 0 1.2\",unit=\"Bohrs\")"
   ]
  },
  {
   "cell_type": "code",
   "execution_count": 67,
   "metadata": {},
   "outputs": [
    {
     "name": "stdout",
     "output_type": "stream",
     "text": [
      "converged SCF energy = -108.135250204437\n"
     ]
    },
    {
     "data": {
      "text/plain": [
       "-108.13525020443662"
      ]
     },
     "execution_count": 67,
     "metadata": {},
     "output_type": "execute_result"
    }
   ],
   "source": [
    "mffc=scf.RHF(fcm)\n",
    "mffc.scf(dm0=mffc.init_guess_by_atom())"
   ]
  },
  {
   "cell_type": "code",
   "execution_count": 68,
   "metadata": {},
   "outputs": [
    {
     "data": {
      "text/plain": [
       "array([6.05, 7.95])"
      ]
     },
     "execution_count": 68,
     "metadata": {},
     "output_type": "execute_result"
    }
   ],
   "source": [
    "fcm.atom_charges()"
   ]
  },
  {
   "cell_type": "code",
   "execution_count": 75,
   "metadata": {},
   "outputs": [],
   "source": [
    "hs=mf.Hessian()"
   ]
  },
  {
   "cell_type": "code",
   "execution_count": 76,
   "metadata": {},
   "outputs": [
    {
     "data": {
      "text/plain": [
       "array([[[[-8.61900970e+00,  7.88956472e-16, -2.27024875e-16],\n",
       "         [ 3.51327825e-16, -8.61900970e+00,  1.76279053e-16],\n",
       "         [-2.27024874e-16,  1.76279050e-16,  3.43907703e+01]],\n",
       "\n",
       "        [[ 8.61900970e+00, -3.23572250e-16,  2.27024874e-16],\n",
       "         [-7.88956472e-16,  8.61900970e+00, -1.76279050e-16],\n",
       "         [ 2.27024875e-16, -1.76279053e-16, -3.43907703e+01]]],\n",
       "\n",
       "\n",
       "       [[[ 8.61900970e+00, -7.88956472e-16,  2.27024875e-16],\n",
       "         [-3.23572250e-16,  8.61900970e+00, -1.76279053e-16],\n",
       "         [ 2.27024874e-16, -1.76279050e-16, -3.43907703e+01]],\n",
       "\n",
       "        [[-8.61900970e+00,  2.40497399e-16, -2.27024875e-16],\n",
       "         [ 7.38931113e-16, -8.61900970e+00,  1.76279053e-16],\n",
       "         [-2.27024874e-16,  1.76279050e-16,  3.43907703e+01]]]])"
      ]
     },
     "execution_count": 76,
     "metadata": {},
     "output_type": "execute_result"
    }
   ],
   "source": [
    "hs.kernel()"
   ]
  },
  {
   "cell_type": "code",
   "execution_count": 73,
   "metadata": {},
   "outputs": [
    {
     "name": "stdout",
     "output_type": "stream",
     "text": [
      "Help on Hessian in module pyscf.hessian.rhf object:\n",
      "\n",
      "class Hessian(pyscf.lib.misc.StreamObject)\n",
      " |  Hessian(scf_method)\n",
      " |  \n",
      " |  Non-relativistic restricted Hartree-Fock hessian\n",
      " |  \n",
      " |  Method resolution order:\n",
      " |      Hessian\n",
      " |      pyscf.lib.misc.StreamObject\n",
      " |      builtins.object\n",
      " |  \n",
      " |  Methods defined here:\n",
      " |  \n",
      " |  __init__(self, scf_method)\n",
      " |      Initialize self.  See help(type(self)) for accurate signature.\n",
      " |  \n",
      " |  gen_hop(hobj, mo_energy=None, mo_coeff=None, mo_occ=None, verbose=None)\n",
      " |  \n",
      " |  get_hcore(self, mol=None)\n",
      " |  \n",
      " |  hcore_generator(self, mol=None)\n",
      " |  \n",
      " |  hess = kernel(self, mo_energy=None, mo_coeff=None, mo_occ=None, atmlst=None)\n",
      " |  \n",
      " |  hess_elec(hessobj, mo_energy=None, mo_coeff=None, mo_occ=None, mo1=None, mo_e1=None, h1ao=None, atmlst=None, max_memory=4000, verbose=None)\n",
      " |  \n",
      " |  hess_nuc(self, mol=None, atmlst=None)\n",
      " |  \n",
      " |  kernel(self, mo_energy=None, mo_coeff=None, mo_occ=None, atmlst=None)\n",
      " |      Kernel function is the main driver of a method.  Every method should\n",
      " |      define the kernel function as the entry of the calculation.  Note the\n",
      " |      return value of kernel function is not strictly defined.  It can be\n",
      " |      anything related to the method (such as the energy, the wave-function,\n",
      " |      the DFT mesh grids etc.).\n",
      " |  \n",
      " |  make_h1(hessobj, mo_coeff, mo_occ, chkfile=None, atmlst=None, verbose=None)\n",
      " |  \n",
      " |  partial_hess_elec(hessobj, mo_energy=None, mo_coeff=None, mo_occ=None, atmlst=None, max_memory=4000, verbose=None)\n",
      " |      Partial derivative\n",
      " |  \n",
      " |  solve_mo1(self, mo_energy, mo_coeff, mo_occ, h1ao_or_chkfile, fx=None, atmlst=None, max_memory=4000, verbose=None)\n",
      " |  \n",
      " |  ----------------------------------------------------------------------\n",
      " |  Methods inherited from pyscf.lib.misc.StreamObject:\n",
      " |  \n",
      " |  __call__ = set(self, *args, **kwargs)\n",
      " |  \n",
      " |  apply(self, fn, *args, **kwargs)\n",
      " |      Apply the fn to rest arguments:  return fn(*args, **kwargs).  The\n",
      " |      return value of method set is the object itself.  This allows a series\n",
      " |      of functions/methods to be executed in pipe.\n",
      " |  \n",
      " |  check_sanity(self)\n",
      " |      Check input of class/object attributes, check whether a class method is\n",
      " |      overwritten.  It does not check the attributes which are prefixed with\n",
      " |      \"_\".  The\n",
      " |      return value of method set is the object itself.  This allows a series\n",
      " |      of functions/methods to be executed in pipe.\n",
      " |  \n",
      " |  post_kernel(self, envs)\n",
      " |      A hook to be run after the main body of the kernel function.  Internal\n",
      " |      variables are exposed to post_kernel through the \"envs\" dictionary.\n",
      " |      Return value of post_kernel function is not required.\n",
      " |  \n",
      " |  pre_kernel(self, envs)\n",
      " |      A hook to be run before the main body of kernel function is executed.\n",
      " |      Internal variables are exposed to pre_kernel through the \"envs\"\n",
      " |      dictionary.  Return value of pre_kernel function is not required.\n",
      " |  \n",
      " |  run(self, *args, **kwargs)\n",
      " |      Call the kernel function of current object.  `args` will be passed\n",
      " |      to kernel function.  `kwargs` will be used to update the attributes of\n",
      " |      current object.  The return value of method run is the object itself.\n",
      " |      This allows a series of functions/methods to be executed in pipe.\n",
      " |  \n",
      " |  set(self, *args, **kwargs)\n",
      " |      Update the attributes of the current object.  The return value of\n",
      " |      method set is the object itself.  This allows a series of\n",
      " |      functions/methods to be executed in pipe.\n",
      " |  \n",
      " |  view(self, cls)\n",
      " |      New view of object with the same attributes.\n",
      " |  \n",
      " |  ----------------------------------------------------------------------\n",
      " |  Data descriptors inherited from pyscf.lib.misc.StreamObject:\n",
      " |  \n",
      " |  __dict__\n",
      " |      dictionary for instance variables (if defined)\n",
      " |  \n",
      " |  __weakref__\n",
      " |      list of weak references to the object (if defined)\n",
      " |  \n",
      " |  ----------------------------------------------------------------------\n",
      " |  Data and other attributes inherited from pyscf.lib.misc.StreamObject:\n",
      " |  \n",
      " |  stdout = <ipykernel.iostream.OutStream object>\n",
      " |  \n",
      " |  verbose = 0\n",
      "\n"
     ]
    }
   ],
   "source": [
    "help(hs)"
   ]
  }
 ],
 "metadata": {
  "kernelspec": {
   "display_name": "Python 3",
   "language": "python",
   "name": "python3"
  },
  "language_info": {
   "codemirror_mode": {
    "name": "ipython",
    "version": 3
   },
   "file_extension": ".py",
   "mimetype": "text/x-python",
   "name": "python",
   "nbconvert_exporter": "python",
   "pygments_lexer": "ipython3",
   "version": "3.7.6"
  }
 },
 "nbformat": 4,
 "nbformat_minor": 4
}
