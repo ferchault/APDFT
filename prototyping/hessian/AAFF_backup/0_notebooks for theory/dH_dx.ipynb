{
 "cells": [
  {
   "cell_type": "code",
   "execution_count": 1,
   "metadata": {},
   "outputs": [],
   "source": [
    "from pyscf import scf,gto\n",
    "import pyscf\n",
    "import numpy as np\n",
    "import inspect\n",
    "from FcMole import FcM\n",
    "from functools import reduce\n",
    "import matplotlib.pyplot as plt\n",
    "from pyscf.scf import cphf\n",
    "from pyscf.grad import rhf as grhf  #### very important\n",
    "from pyscf.hessian import rhf as hrhf # without those two mf.Gradients() and mf.Hessian() don't work\n",
    "def DeltaV(mol,dL):\n",
    "    mol.set_rinv_orig_(mol.atom_coords()[0])\n",
    "    dV=mol.intor('int1e_rinv')*dL[0]\n",
    "    mol.set_rinv_orig_(mol.atom_coords()[1])\n",
    "    dV+=mol.intor('int1e_rinv')*dL[1]\n",
    "    return -dV"
   ]
  },
  {
   "cell_type": "code",
   "execution_count": 2,
   "metadata": {},
   "outputs": [
    {
     "name": "stdout",
     "output_type": "stream",
     "text": [
      "converged SCF energy = -1.11671432506255\n"
     ]
    },
    {
     "name": "stderr",
     "output_type": "stream",
     "text": [
      "/home/giorgiod/miniconda3/lib/python3.7/site-packages/pyscf/lib/chkfile.py:71: H5pyDeprecationWarning: dataset.value has been deprecated. Use dataset[()] instead.\n",
      "  return val.value\n"
     ]
    }
   ],
   "source": [
    "mol=gto.M(atom=\"H 0 0 0; H 0 0 1.4\",unit=\"Bohr\",basis=\"STO-3G\")\n",
    "mf=scf.RHF(mol)\n",
    "mf.scf(dm0=mf.init_guess_by_atom())\n",
    "P=mf.make_rdm1()\n",
    "hcore=mf.get_hcore()\n",
    "h=mf.Hessian()\n",
    "h.kernel()\n",
    "pass"
   ]
  },
  {
   "cell_type": "code",
   "execution_count": 3,
   "metadata": {},
   "outputs": [],
   "source": [
    "\"\"\"def make_h1( mo_coeff, mo_occ, chkfile=None, atmlst=None, verbose=None):\n",
    "  #  mol = hessobj.mol\n",
    "    if atmlst is None:\n",
    "        atmlst = range(mol.natm)\n",
    "    nao, nmo = mo_coeff.shape\n",
    "    mocc = mo_coeff[:,mo_occ>0]\n",
    "    dm0 = numpy.dot(mocc, mocc.T) * 2\n",
    "    hcore_deriv = hessobj.base.nuc_grad_method().hcore_generator(mol)   #dH/dx need to adj for new charges\n",
    "    aoslices = mol.aoslice_by_atom()\n",
    "    h1ao = [None] * mol.natm\n",
    "    for i0, ia in enumerate(atmlst):\n",
    "        shl0, shl1, p0, p1 = aoslices[ia]\n",
    "        shls_slice = (shl0, shl1) + (0, mol.nbas)*3\n",
    "        vj1, vj2, vk1, vk2 = _get_jk(mol, 'int2e_ip1', 3, 's2kl',\n",
    "                                     ['ji->s2kl', -dm0[:,p0:p1],  # vj1\n",
    "                                      'lk->s1ij', -dm0         ,  # vj2\n",
    "                                      'li->s1kj', -dm0[:,p0:p1],  # vk1\n",
    "                                      'jk->s1il', -dm0         ], # vk2\n",
    "                                     shls_slice=shls_slice)\n",
    "        vhf = vj1 - vk1*.5\n",
    "        vhf[:,p0:p1] += vj2 - vk2*.5\n",
    "        h1 = vhf + vhf.transpose(0,2,1)\n",
    "        h1 += hcore_deriv(ia)\n",
    "\"\"\"\n",
    "pass\n",
    "\"\"\"def hcore_generator(mf, mol=None):    # on gradient module \n",
    "    aoslices = mol.aoslice_by_atom()\n",
    "    h1 = mf.get_hcore(mol)   # gradients method : -\\nabla_r (T+V_en)    is different between mol and fmol\n",
    "    def hcore_deriv(atm_id):\n",
    "        shl0, shl1, p0, p1 = aoslices[atm_id]\n",
    "        with mol.with_rinv_at_nucleus(atm_id):\n",
    "            vrinv = mol.intor('int1e_iprinv', comp=3) # <\\nabla|1/r|>    this is equal \n",
    "            vrinv *= -mol.atom_charge(atm_id)        # atom charges should be updated \n",
    "        vrinv[:,p0:p1] += h1[:,p0:p1]\n",
    "        return vrinv + vrinv.transpose(0,2,1)\n",
    "    return hcore_deriv\n",
    "\"\"\"\n",
    "pass\n",
    "\"\"\"def get_hcore(mol):    # on gradient module \n",
    "    '''Part of the nuclear gradients of core Hamiltonian'''\n",
    "    h = mol.intor('int1e_ipkin', comp=3)\n",
    "    h+= mol.intor('int1e_ipnuc', comp=3)\n",
    "    return -h\"\"\"\n",
    "pass"
   ]
  },
  {
   "cell_type": "code",
   "execution_count": 8,
   "metadata": {},
   "outputs": [],
   "source": [
    "\"\"\"def hcore_generator(mf, mol=None):    # on gradient module \n",
    "    aoslices = mol.aoslice_by_atom()\n",
    "    h1 = mf.get_hcore(mol)   # gradients method : -\\nabla_r (T+V_en)    is different between mol and fmol\n",
    "    def hcore_deriv(atm_id):\n",
    "        shl0, shl1, p0, p1 = aoslices[atm_id]\n",
    "        with mol.with_rinv_at_nucleus(atm_id):\n",
    "            vrinv = mol.intor('int1e_iprinv', comp=3) # <\\nabla_R 1/|R-r|>    this is equal \n",
    "            vrinv *= -mol.atom_charge(atm_id)        # atom charges should be updated \n",
    "        vrinv[:,p0:p1] += h1[:,p0:p1]\n",
    "        return vrinv + vrinv.transpose(0,2,1)\n",
    "    return hcore_deriv\n",
    "\"\"\"\n",
    "pass"
   ]
  },
  {
   "cell_type": "markdown",
   "metadata": {},
   "source": [
    "Basically there are three components: the first is when you move the A.O. the nuclear electron attraction integrals change, as well as the kinetic operator (part two). The third part is when you move the nucleus all the electron nuclear integrals,except those amon A.O. placed on the atoms itself are affected    "
   ]
  },
  {
   "cell_type": "code",
   "execution_count": 36,
   "metadata": {},
   "outputs": [
    {
     "data": {
      "text/plain": [
       "array([[0, 1, 0, 1],\n",
       "       [1, 2, 1, 2]])"
      ]
     },
     "execution_count": 36,
     "metadata": {},
     "output_type": "execute_result"
    }
   ],
   "source": [
    "mol.aoslice_by_atom()"
   ]
  },
  {
   "cell_type": "code",
   "execution_count": 37,
   "metadata": {},
   "outputs": [
    {
     "data": {
      "text/plain": [
       "array([[[ 0.        ,  0.        ],\n",
       "        [ 0.        ,  0.        ]],\n",
       "\n",
       "       [[ 0.        ,  0.        ],\n",
       "        [ 0.        ,  0.        ]],\n",
       "\n",
       "       [[ 0.17162944,  0.72602207],\n",
       "        [-0.72602207, -0.17162944]]])"
      ]
     },
     "execution_count": 37,
     "metadata": {},
     "output_type": "execute_result"
    }
   ],
   "source": [
    "mol.intor('int1e_ipnuc', comp=3)"
   ]
  },
  {
   "cell_type": "code",
   "execution_count": 38,
   "metadata": {},
   "outputs": [
    {
     "data": {
      "text/plain": [
       "array([[[ 0.00000000e+00,  0.00000000e+00],\n",
       "        [ 0.00000000e+00,  0.00000000e+00]],\n",
       "\n",
       "       [[ 0.00000000e+00,  0.00000000e+00],\n",
       "        [ 0.00000000e+00,  0.00000000e+00]],\n",
       "\n",
       "       [[ 0.00000000e+00, -3.15282344e-01],\n",
       "        [ 3.15282344e-01, -5.29599004e-17]]])"
      ]
     },
     "execution_count": 38,
     "metadata": {},
     "output_type": "execute_result"
    }
   ],
   "source": [
    "mol.intor('int1e_ipkin', comp=3)"
   ]
  },
  {
   "cell_type": "code",
   "execution_count": 39,
   "metadata": {},
   "outputs": [
    {
     "name": "stdout",
     "output_type": "stream",
     "text": [
      "[[[ 0.          0.        ]\n",
      "  [ 0.          0.        ]]\n",
      "\n",
      " [[ 0.          0.        ]\n",
      "  [ 0.          0.        ]]\n",
      "\n",
      " [[ 0.         -0.25779227]\n",
      "  [ 0.4682298   0.17162944]]]\n"
     ]
    }
   ],
   "source": [
    "atm_id=0\n",
    "with mol.with_rinv_at_nucleus(atm_id):\n",
    "    print(mol.intor('int1e_iprinv', comp=3))"
   ]
  },
  {
   "cell_type": "code",
   "execution_count": 40,
   "metadata": {},
   "outputs": [
    {
     "data": {
      "text/plain": [
       "array([[ 0.        , -0.25779227],\n",
       "       [ 0.4682298 ,  0.17162944]])"
      ]
     },
     "execution_count": 40,
     "metadata": {},
     "output_type": "execute_result"
    }
   ],
   "source": [
    "a=mol.intor('int1e_iprinv', comp=3)[2]\n",
    "a"
   ]
  },
  {
   "cell_type": "code",
   "execution_count": 41,
   "metadata": {},
   "outputs": [
    {
     "data": {
      "text/plain": [
       "array([[-0.17162944],\n",
       "       [ 0.72602207]])"
      ]
     },
     "execution_count": 41,
     "metadata": {},
     "output_type": "execute_result"
    }
   ],
   "source": [
    "-mol.intor('int1e_ipnuc', comp=3)[2][:,0:1]"
   ]
  },
  {
   "cell_type": "code",
   "execution_count": 42,
   "metadata": {},
   "outputs": [
    {
     "data": {
      "text/plain": [
       "array([[ 0.17162944, -0.25779227],\n",
       "       [-0.25779227,  0.17162944]])"
      ]
     },
     "execution_count": 42,
     "metadata": {},
     "output_type": "execute_result"
    }
   ],
   "source": [
    "a[:,0:1]+=mol.intor('int1e_ipnuc', comp=3)[2][:,0:1]\n",
    "a"
   ]
  },
  {
   "cell_type": "code",
   "execution_count": 43,
   "metadata": {},
   "outputs": [
    {
     "data": {
      "text/plain": [
       "array([[ 0.34325889, -0.51558454],\n",
       "       [-0.51558454,  0.34325889]])"
      ]
     },
     "execution_count": 43,
     "metadata": {},
     "output_type": "execute_result"
    }
   ],
   "source": [
    "a+=a.T\n",
    "a"
   ]
  },
  {
   "cell_type": "code",
   "execution_count": null,
   "metadata": {},
   "outputs": [],
   "source": []
  },
  {
   "cell_type": "code",
   "execution_count": null,
   "metadata": {},
   "outputs": [],
   "source": []
  },
  {
   "cell_type": "code",
   "execution_count": null,
   "metadata": {},
   "outputs": [],
   "source": []
  }
 ],
 "metadata": {
  "kernelspec": {
   "display_name": "Python 3",
   "language": "python",
   "name": "python3"
  },
  "language_info": {
   "codemirror_mode": {
    "name": "ipython",
    "version": 3
   },
   "file_extension": ".py",
   "mimetype": "text/x-python",
   "name": "python",
   "nbconvert_exporter": "python",
   "pygments_lexer": "ipython3",
   "version": "3.7.6"
  }
 },
 "nbformat": 4,
 "nbformat_minor": 4
}
