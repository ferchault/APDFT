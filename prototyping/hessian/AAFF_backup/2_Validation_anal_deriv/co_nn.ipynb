{
 "cells": [
  {
   "cell_type": "code",
   "execution_count": 1,
   "metadata": {},
   "outputs": [],
   "source": [
    "from aaff import aaff\n",
    "from FcMole import FcM\n",
    "from alch_deriv import alch_deriv\n",
    "from pyscf import gto,scf\n",
    "import numpy as np \n",
    "import matplotlib.pyplot as plt\n",
    "from pyscf.grad import rhf as grhf\n",
    "import basis_set_exchange as bse"
   ]
  },
  {
   "cell_type": "code",
   "execution_count": 2,
   "metadata": {},
   "outputs": [],
   "source": [
    "mol=gto.M(atom=\"C 0 0 0; O 0 0 2.08272\",unit=\"Bohrs\",basis=bse.get_basis(\"pcX-2\",fmt=\"nwchem\",elements=[5,6,7,8,9]))"
   ]
  },
  {
   "cell_type": "code",
   "execution_count": 3,
   "metadata": {},
   "outputs": [
    {
     "name": "stdout",
     "output_type": "stream",
     "text": [
      "converged SCF energy = -112.786616218695\n"
     ]
    },
    {
     "data": {
      "text/plain": [
       "-112.78661621869524"
      ]
     },
     "execution_count": 3,
     "metadata": {},
     "output_type": "execute_result"
    }
   ],
   "source": [
    "hfCO=scf.RHF(mol)\n",
    "hfCO.scf()"
   ]
  },
  {
   "cell_type": "code",
   "execution_count": 106,
   "metadata": {},
   "outputs": [],
   "source": [
    "U,dP,e1=alch_deriv(hfCO,[[0,1],[1,-1]])"
   ]
  },
  {
   "cell_type": "code",
   "execution_count": 107,
   "metadata": {},
   "outputs": [
    {
     "name": "stdout",
     "output_type": "stream",
     "text": [
      "--------------- RHF gradients ---------------\n",
      "         x                y                z\n",
      "0 C     0.0000000000     0.0000000000    -0.0000019315\n",
      "1 O    -0.0000000000    -0.0000000000     0.0000019315\n",
      "----------------------------------------------\n"
     ]
    },
    {
     "data": {
      "text/plain": [
       "array([[ 1.12940717e-14,  7.03932964e-14, -1.93146126e-06],\n",
       "       [-1.12940717e-14, -7.03932964e-14,  1.93146268e-06]])"
      ]
     },
     "execution_count": 107,
     "metadata": {},
     "output_type": "execute_result"
    }
   ],
   "source": [
    "hfCO.Gradients().grad()"
   ]
  },
  {
   "cell_type": "code",
   "execution_count": 108,
   "metadata": {},
   "outputs": [
    {
     "data": {
      "text/plain": [
       "array([[ 1.12940717e-14,  7.03932964e-14, -1.10657165e+01],\n",
       "       [-1.12940717e-14, -7.03932964e-14,  1.10657165e+01]])"
      ]
     },
     "execution_count": 108,
     "metadata": {},
     "output_type": "execute_result"
    }
   ],
   "source": [
    "hfCO.Gradients().grad_elec()"
   ]
  },
  {
   "cell_type": "code",
   "execution_count": 109,
   "metadata": {},
   "outputs": [],
   "source": [
    "from FDcoeffs import *"
   ]
  },
  {
   "cell_type": "code",
   "execution_count": 110,
   "metadata": {},
   "outputs": [],
   "source": [
    "dl=.5\n",
    "gs=[]\n",
    "ge=[]\n",
    "amds=[]\n",
    "for i in range(-4,5):\n",
    "    fm=FcM(fcs=[i*dl,-i*dl],atom=\"C 0 0 0; O 0 0 2.08272\",unit=\"Bohrs\",basis=bse.get_basis(\"pcX-2\",fmt=\"nwchem\",elements=[5,6,7,8,9]),verbose=0)\n",
    "    mf=scf.RHF(fm)\n",
    "    mf.scf(dm0=mf.init_guess_by_1e(),max_cycle=100)\n",
    "    g=mf.Gradients()\n",
    "    gs.append(g.grad())\n",
    "    ge.append(g.grad_elec())\n",
    "    amds.append(aaff(mf,[1,-1]))"
   ]
  },
  {
   "cell_type": "code",
   "execution_count": 111,
   "metadata": {},
   "outputs": [
    {
     "data": {
      "text/plain": [
       "array([[-6.54751686e-15, -1.59883379e-15, -1.10657172e+01],\n",
       "       [ 6.54751686e-15,  1.59883379e-15,  1.10657172e+01]])"
      ]
     },
     "execution_count": 111,
     "metadata": {},
     "output_type": "execute_result"
    }
   ],
   "source": [
    "ge[4]"
   ]
  },
  {
   "cell_type": "code",
   "execution_count": 112,
   "metadata": {},
   "outputs": [
    {
     "data": {
      "text/plain": [
       "array([[ 9.81206574e-15,  1.69884481e-15, -5.23677703e-01],\n",
       "       [-9.81206574e-15, -1.69884481e-15,  5.23677703e-01]])"
      ]
     },
     "execution_count": 112,
     "metadata": {},
     "output_type": "execute_result"
    }
   ],
   "source": [
    "#forward difference \n",
    "(ge[5]-ge[4])/dl"
   ]
  },
  {
   "cell_type": "code",
   "execution_count": 113,
   "metadata": {},
   "outputs": [
    {
     "name": "stdout",
     "output_type": "stream",
     "text": [
      "2 order finite diff. accuracy:: \n",
      " [[-7.69240108e-14 -4.78306248e-14 -6.77666144e-01]\n",
      " [ 7.69240108e-14  4.78306248e-14  6.77666144e-01]]\n",
      "4 order finite diff. accuracy:: \n",
      " [[-9.65355689e-14 -5.87376648e-14 -6.85183479e-01]\n",
      " [ 9.65355689e-14  5.87376648e-14  6.85183479e-01]]\n",
      "6 order finite diff. accuracy:: \n",
      " [[-1.12443086e-13 -5.84824917e-14 -6.85575233e-01]\n",
      " [ 1.12443086e-13  5.84824917e-14  6.85575233e-01]]\n",
      "8 order finite diff. accuracy:: \n",
      " [[-1.26475518e-13 -5.44491430e-14 -6.85618026e-01]\n",
      " [ 1.26475518e-13  5.44491430e-14  6.85618026e-01]]\n"
     ]
    }
   ],
   "source": [
    "print(\"2 order finite diff. accuracy:: \\n\",np.einsum('i,ijk->jk',fd1_2,(np.asarray(ge)))/dl)\n",
    "print(\"4 order finite diff. accuracy:: \\n\",np.einsum('i,ijk->jk',fd1_4,(np.asarray(ge)))/dl)\n",
    "print(\"6 order finite diff. accuracy:: \\n\",np.einsum('i,ijk->jk',fd1_6,(np.asarray(ge)))/dl)\n",
    "print(\"8 order finite diff. accuracy:: \\n\",np.einsum('i,ijk->jk',fd1_8,(np.asarray(ge)))/dl)"
   ]
  },
  {
   "cell_type": "code",
   "execution_count": 114,
   "metadata": {},
   "outputs": [
    {
     "data": {
      "text/plain": [
       "array([[-4.84788999e-14, -1.58726207e-13, -6.85627204e-01],\n",
       "       [ 4.84788999e-14,  1.58726207e-13,  6.85627204e-01]])"
      ]
     },
     "execution_count": 114,
     "metadata": {},
     "output_type": "execute_result"
    }
   ],
   "source": [
    "aaff(hfCO,[1,-1])"
   ]
  },
  {
   "cell_type": "code",
   "execution_count": 115,
   "metadata": {},
   "outputs": [
    {
     "name": "stdout",
     "output_type": "stream",
     "text": [
      "[[ 5.38800761e-13  2.67006580e-13  6.19053615e-01]\n",
      " [-5.38800761e-13 -2.67006580e-13 -6.19053615e-01]]\n",
      "[[-3.53437475e-13 -3.64653912e-13  6.18863830e-01]\n",
      " [ 3.53437475e-13  3.64653912e-13 -6.18863830e-01]]\n"
     ]
    }
   ],
   "source": [
    "print(np.einsum('i,ijk->jk',fd2_8,(np.asarray(ge)))/dl**2)\n",
    "print(np.einsum('i,ijk->jk',fd1_8,(np.asarray(amds)))/dl)"
   ]
  },
  {
   "cell_type": "code",
   "execution_count": 116,
   "metadata": {},
   "outputs": [
    {
     "name": "stdout",
     "output_type": "stream",
     "text": [
      "[[ 1.40629569e-12  1.22357710e-13  1.93566569e-01]\n",
      " [-1.40629569e-12 -1.22357710e-13 -1.93566569e-01]]\n",
      "[[ 1.53441311e-12  1.28069829e-12  1.93908091e-01]\n",
      " [-1.53441311e-12 -1.28069829e-12 -1.93908091e-01]]\n"
     ]
    }
   ],
   "source": [
    "print(np.einsum('i,ijk->jk',fd3_6,(np.asarray(ge)))/dl**3)\n",
    "print(np.einsum('i,ijk->jk',fd2_6,(np.asarray(amds)))/dl**2)"
   ]
  },
  {
   "cell_type": "code",
   "execution_count": 117,
   "metadata": {
    "scrolled": true
   },
   "outputs": [
    {
     "name": "stdout",
     "output_type": "stream",
     "text": [
      "[[-4.79491070e-12 -2.53470013e-12 -1.36370530e-01]\n",
      " [ 4.79491070e-12  2.53470013e-12  1.36370530e-01]]\n",
      "[[ 1.92570842e-12  4.23547065e-12 -1.47621861e-01]\n",
      " [-1.92570842e-12 -4.23547065e-12  1.47621861e-01]]\n"
     ]
    }
   ],
   "source": [
    "print(np.einsum('i,ijk->jk',fd4_2,(np.asarray(ge)))/dl**4)\n",
    "print(np.einsum('i,ijk->jk',fd3_6,(np.asarray(amds)))/dl**3)"
   ]
  },
  {
   "cell_type": "code",
   "execution_count": 118,
   "metadata": {},
   "outputs": [
    {
     "name": "stdout",
     "output_type": "stream",
     "text": [
      "[[ 1.62199506e-10  2.43917894e-11  4.21289969e-01]\n",
      " [-1.62199506e-10 -2.43917894e-11 -4.21289969e-01]]\n",
      "[[ 6.43215287e-14 -4.59198987e-11  3.43309838e-01]\n",
      " [-6.43215287e-14  4.59198987e-11 -3.43309838e-01]]\n"
     ]
    }
   ],
   "source": [
    "print(np.einsum('i,ijk->jk',fd6_4,(np.asarray(ge)))/dl**6)\n",
    "print(np.einsum('i,ijk->jk',fd5_4,(np.asarray(amds)))/dl**5)\n",
    "#print(np.einsum('i,ijk->jk',fd6_4,(np.asarray(amds)))/dl**6)"
   ]
  },
  {
   "cell_type": "code",
   "execution_count": 119,
   "metadata": {},
   "outputs": [],
   "source": [
    "#with dl=.1  the 4th derivatives are:   only McL expansion of aaff is consistent to obtain APDFT4_g1 derivs\n",
    "#[[-5.43974711e-09 -4.46784523e-09 -8.97038551e-02]\n",
    "# [ 5.43974711e-09  4.46784523e-09  8.97038538e-02]]\n",
    "#[[ 1.04025962e-09  1.59691820e-09 -1.55567761e-01]\n",
    "# [-2.70775954e-08  7.58253933e-09  1.56759171e-01]]"
   ]
  },
  {
   "cell_type": "code",
   "execution_count": 120,
   "metadata": {},
   "outputs": [
    {
     "name": "stdout",
     "output_type": "stream",
     "text": [
      "converged SCF energy = -108.984680830552\n"
     ]
    }
   ],
   "source": [
    "NN=FcM(fcs=[1,-1],atom=\"C 0 0 0; O 0 0 2.08272\",unit=\"Bohrs\",basis=bse.get_basis(\"pcX-2\",fmt=\"nwchem\",elements=[5,6,7,8,9]))\n",
    "hfNN=scf.RHF(NN)\n",
    "hfNN.scf(dm0=hfNN.init_guess_by_1e())\n",
    "gNN=hfNN.Gradients().grad_elec()"
   ]
  },
  {
   "cell_type": "code",
   "execution_count": 121,
   "metadata": {},
   "outputs": [
    {
     "data": {
      "text/plain": [
       "(array([[-4.82991281e-16, -6.88769736e-16, -1.14171161e+01],\n",
       "        [ 4.82991281e-16,  6.88769736e-16,  1.14171161e+01]]),\n",
       " array([[-4.82991281e-16, -6.88769736e-16, -1.20865800e-01],\n",
       "        [ 4.82991281e-16,  6.88769736e-16,  1.20865800e-01]]))"
      ]
     },
     "execution_count": 121,
     "metadata": {},
     "output_type": "execute_result"
    }
   ],
   "source": [
    "gNN,hfNN.Gradients().grad_nuc()+gNN"
   ]
  },
  {
   "cell_type": "code",
   "execution_count": 122,
   "metadata": {},
   "outputs": [
    {
     "data": {
      "text/plain": [
       "array([[-4.17944934e-14, -8.61170009e-15, -1.24588144e-01],\n",
       "       [ 4.17944934e-14,  8.61170009e-15,  1.24588144e-01]])"
      ]
     },
     "execution_count": 122,
     "metadata": {},
     "output_type": "execute_result"
    }
   ],
   "source": [
    "hfNN.Gradients().grad_nuc()+ge[4]+amds[4]+np.einsum('i,ijk->jk',fd1_2,(np.asarray(amds)))/dl/2  \\\n",
    "    +np.einsum('i,ijk->jk',fd2_2,(np.asarray(amds)))/dl**2/6+np.einsum('i,ijk->jk',fd3_6,(np.asarray(amds)))/dl**3/24 \\\n",
    "  +np.einsum('i,ijk->jk',fd4_4,(np.asarray(amds)))/dl**4/120+np.einsum('i,ijk->jk',fd5_4,(np.asarray(amds)))/dl**5/720 \\\n",
    " +np.einsum('i,ijk->jk',fd6_2,(np.asarray(amds)))/dl**6/5040"
   ]
  },
  {
   "cell_type": "code",
   "execution_count": 128,
   "metadata": {},
   "outputs": [
    {
     "data": {
      "text/plain": [
       "(array([[-4.40412411e-15, -4.47724860e-15, -1.12280522e-01],\n",
       "        [ 4.40412411e-15,  4.47724860e-15,  1.12280522e-01]]),\n",
       " array([[ 4.28678551e-15, -5.75682961e-15, -6.85627119e-01],\n",
       "        [-4.28678551e-15,  5.75682961e-15,  6.85627119e-01]]))"
      ]
     },
     "execution_count": 128,
     "metadata": {},
     "output_type": "execute_result"
    }
   ],
   "source": [
    "hfNN.Gradients().grad_nuc()+ge[4]+amds[4]/2,amds[4]"
   ]
  },
  {
   "cell_type": "code",
   "execution_count": 130,
   "metadata": {},
   "outputs": [
    {
     "data": {
      "text/plain": [
       "array([[-0.        , -0.        , -0.11526786],\n",
       "       [-0.        , -0.        ,  0.11526786]])"
      ]
     },
     "execution_count": 130,
     "metadata": {},
     "output_type": "execute_result"
    }
   ],
   "source": [
    "(hfNN.Gradients().grad_nuc()-hfCO.Gradients().grad_nuc())/(-2)"
   ]
  },
  {
   "cell_type": "code",
   "execution_count": 124,
   "metadata": {},
   "outputs": [],
   "source": [
    "aaff_predict=[]\n",
    "aaff_predict.append((hfNN.Gradients().grad_nuc()+ge[4])[1,2])\n",
    "aaff_predict.append(aaff_predict[0]+amds[4][1,2])\n",
    "aaff_predict.append(aaff_predict[1]+np.einsum('i,ijk->jk',fd1_8,(np.asarray(amds)))[1,2]/dl/2)\n",
    "aaff_predict.append(aaff_predict[2]+np.einsum('i,ijk->jk',fd2_6,(np.asarray(amds)))[1,2]/dl**2/6)\n",
    "aaff_predict.append(aaff_predict[3]+np.einsum('i,ijk->jk',fd3_6,(np.asarray(amds)))[1,2]/dl**3/24 )\n",
    "aaff_predict.append(aaff_predict[4]+np.einsum('i,ijk->jk',fd4_4,(np.asarray(amds)))[1,2]/dl**4/120)\n",
    "aaff_predict.append(aaff_predict[5]+np.einsum('i,ijk->jk',fd5_4,(np.asarray(amds)))[1,2]/dl**5/720)\n"
   ]
  },
  {
   "cell_type": "code",
   "execution_count": 125,
   "metadata": {},
   "outputs": [
    {
     "data": {
      "text/plain": [
       "[-0.23053303698926975,\n",
       " 0.45509408197926005,\n",
       " 0.14566216699861612,\n",
       " 0.1133441518937541,\n",
       " 0.11949506276026936,\n",
       " 0.12139314501284991,\n",
       " 0.12091632579319032]"
      ]
     },
     "execution_count": 125,
     "metadata": {},
     "output_type": "execute_result"
    }
   ],
   "source": [
    "aaff_predict"
   ]
  },
  {
   "cell_type": "code",
   "execution_count": 126,
   "metadata": {},
   "outputs": [
    {
     "data": {
      "text/plain": [
       "[-0.23053303698926975,\n",
       " 0.4550849889243995,\n",
       " 0.14558856794563008,\n",
       " 0.11332747303117582,\n",
       " 0.11950464531185602,\n",
       " 0.12133793045596335,\n",
       " 0.12094187695199507]"
      ]
     },
     "execution_count": 126,
     "metadata": {},
     "output_type": "execute_result"
    }
   ],
   "source": [
    "fd_predict=[]\n",
    "fd_predict.append((hfNN.Gradients().grad_nuc()+ge[4])[1,2])\n",
    "fd_predict.append(fd_predict[0]+np.einsum('i,ijk->jk',fd1_8,(np.asarray(ge)))[1,2]/dl)\n",
    "fd_predict.append(fd_predict[1]+np.einsum('i,ijk->jk',fd2_6,(np.asarray(ge)))[1,2]/dl**2/2)\n",
    "fd_predict.append(fd_predict[2]+np.einsum('i,ijk->jk',fd3_6,(np.asarray(ge)))[1,2]/dl**3/6)\n",
    "fd_predict.append(fd_predict[3]+np.einsum('i,ijk->jk',fd4_4,(np.asarray(ge)))[1,2]/dl**4/24 )\n",
    "fd_predict.append(fd_predict[4]+np.einsum('i,ijk->jk',fd5_4,(np.asarray(ge)))[1,2]/dl**5/120)\n",
    "fd_predict.append(fd_predict[5]+np.einsum('i,ijk->jk',fd6_2,(np.asarray(ge)))[1,2]/dl**6/720)\n",
    "fd_predict"
   ]
  },
  {
   "cell_type": "code",
   "execution_count": null,
   "metadata": {},
   "outputs": [],
   "source": [
    "# trget 1.20865800e-01"
   ]
  }
 ],
 "metadata": {
  "kernelspec": {
   "display_name": "Python 3",
   "language": "python",
   "name": "python3"
  },
  "language_info": {
   "codemirror_mode": {
    "name": "ipython",
    "version": 3
   },
   "file_extension": ".py",
   "mimetype": "text/x-python",
   "name": "python",
   "nbconvert_exporter": "python",
   "pygments_lexer": "ipython3",
   "version": "3.7.3"
  }
 },
 "nbformat": 4,
 "nbformat_minor": 2
}
