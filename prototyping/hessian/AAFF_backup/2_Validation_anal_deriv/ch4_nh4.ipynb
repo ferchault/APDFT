{
 "cells": [
  {
   "cell_type": "code",
   "execution_count": 1,
   "metadata": {},
   "outputs": [],
   "source": [
    "from aaff import aaff,alc_deriv_grad_nuc,alc_differential_grad_nuc,g1,g2,g3,NUC_MOD_OF,NUC_FRAC_CHARGE,PTR_FRAC_CHARGE\n",
    "from FcMole import FcM\n",
    "from alch_deriv import alch_deriv\n",
    "from pyscf import gto,scf\n",
    "import numpy as np \n",
    "import matplotlib.pyplot as plt\n",
    "from pyscf.grad import rhf as grhf\n",
    "import basis_set_exchange as bse\n",
    "from FDcoeffs import *\n",
    "from pyscf.geomopt.berny_solver import optimize\n",
    "ang2bohr=1.8897261246\n",
    "bohr2ang=.5291772109"
   ]
  },
  {
   "cell_type": "code",
   "execution_count": 2,
   "metadata": {},
   "outputs": [],
   "source": [
    "l=3.3376\n",
    "x=-(1/24)**.5*l\n",
    "z=(2/3)**.5*l+x"
   ]
  },
  {
   "cell_type": "code",
   "execution_count": 3,
   "metadata": {},
   "outputs": [],
   "source": [
    "ch4str=\"C 0 0 0; H 0 0  {}; H  0  {} {}; H {} {} {}; H {} {} {}\".format(z,l/3**.5,x,l/2,-l*3**.5/6,x,-l/2,-l*3**.5/6,x)"
   ]
  },
  {
   "cell_type": "code",
   "execution_count": 4,
   "metadata": {},
   "outputs": [
    {
     "data": {
      "text/plain": [
       "'C 0 0 0; H 0 0  2.043854241378284; H  0  1.9269642584472952 -0.6812847471260947; H 1.6688 -0.9634821292236474 -0.6812847471260947; H -1.6688 -0.9634821292236474 -0.6812847471260947'"
      ]
     },
     "execution_count": 4,
     "metadata": {},
     "output_type": "execute_result"
    }
   ],
   "source": [
    "ch4str"
   ]
  },
  {
   "cell_type": "code",
   "execution_count": 5,
   "metadata": {},
   "outputs": [
    {
     "name": "stdout",
     "output_type": "stream",
     "text": [
      "converged SCF energy = -40.2151804034984\n"
     ]
    },
    {
     "data": {
      "text/plain": [
       "-40.21518040349844"
      ]
     },
     "execution_count": 5,
     "metadata": {},
     "output_type": "execute_result"
    }
   ],
   "source": [
    "CH4=gto.M(atom=ch4str,unit=\"bohr\",basis={\"H\":\"pc-2\",'C':bse.get_basis(\"pcX-2\",fmt=\"nwchem\",elements=[6])})\n",
    "mf = scf.RHF(CH4)\n",
    "mf.scf()"
   ]
  },
  {
   "cell_type": "code",
   "execution_count": 6,
   "metadata": {},
   "outputs": [],
   "source": [
    "#ad1n,adn2=alc_deriv_grad_nuc(CH4,[1,0,0,0,0]),alc_differential_grad_nuc(CH4,[1,0,0,0,0])"
   ]
  },
  {
   "cell_type": "code",
   "execution_count": 7,
   "metadata": {},
   "outputs": [
    {
     "name": "stdout",
     "output_type": "stream",
     "text": [
      "2.043854241378284\n",
      "2.043854241378284\n",
      "2.0438542413782836\n",
      "2.0438542413782836\n"
     ]
    }
   ],
   "source": [
    "cds=CH4.atom_coords()\n",
    "for i in range(1,5):\n",
    "    print(np.linalg.norm(cds[i]-cds[0]))"
   ]
  },
  {
   "cell_type": "code",
   "execution_count": 8,
   "metadata": {},
   "outputs": [],
   "source": [
    "#np.save(\"ch4_opt_geom_bohr\",CH4.atom_coords())"
   ]
  },
  {
   "cell_type": "code",
   "execution_count": 9,
   "metadata": {},
   "outputs": [
    {
     "name": "stdout",
     "output_type": "stream",
     "text": [
      "(5, 5)\n",
      "(5, 5)\n",
      "(5, 5)\n",
      "(5, 5)\n",
      "(5, 5)\n",
      "(5, 5)\n",
      "(5, 5)\n",
      "(5, 5)\n",
      "(5, 5)\n"
     ]
    }
   ],
   "source": [
    "dl=.05\n",
    "gs=[]\n",
    "ge=[]\n",
    "hs=[]\n",
    "amds=[]\n",
    "for i in range(-4,5):\n",
    "    fm=FcM(fcs=[i*dl,0, 0, 0, 0],atom=ch4str,unit=\"Bohrs\",\\\n",
    "           basis={\"H\":\"pc-2\",'C':bse.get_basis(\"pcX-2\",fmt=\"nwchem\",elements=[6])},verbose=0,charge=i*dl)\n",
    "    mf=scf.RHF(fm)\n",
    "    mf.scf(dm0=mf.init_guess_by_1e(),max_cycle=100)\n",
    "    print(mf.mol.nelec)\n",
    "    g=mf.Gradients()\n",
    "    hs.append(mf.Hessian().hess())\n",
    "    gs.append(g.grad())\n",
    "    ge.append(g.grad_elec())\n",
    "    amds.append(aaff(mf,[1,0,0,0,0]))"
   ]
  },
  {
   "cell_type": "code",
   "execution_count": 10,
   "metadata": {},
   "outputs": [],
   "source": [
    "ch4_gs=np.asarray(gs)\n",
    "ch4_ge=np.asarray(ge)\n",
    "ch4_hs=np.asarray(hs)\n",
    "ch4_amds=np.asarray(amds)"
   ]
  },
  {
   "cell_type": "code",
   "execution_count": 11,
   "metadata": {},
   "outputs": [],
   "source": [
    "#np.save(\"Ch4_grads_9pfd\",ch4_gs),np.save(\"Ch4_g_elec_9pfd\",ch4_ge),np.save(\"Ch4_hess_9pfd\",ch4_hs)\n",
    "#np.save(\"Ch4_aderivs_9pfd\",ch4_amds)"
   ]
  },
  {
   "cell_type": "code",
   "execution_count": 12,
   "metadata": {},
   "outputs": [
    {
     "name": "stdout",
     "output_type": "stream",
     "text": [
      "1 order finite diff. accuracy::  0.3173369154201655\n",
      "2 order finite diff. accuracy::  0.31828841546484465\n",
      "4 order finite diff. accuracy::  0.31830652780148794\n",
      "6 order finite diff. accuracy::  0.3183065009146606\n",
      "8 order finite diff. accuracy::  0.31830646985203304\n",
      "Analytical derivative        ::  0.3183061434326479\n"
     ]
    }
   ],
   "source": [
    "print(\"1 order finite diff. accuracy:: \",(ge[5]-ge[4])[1,2]/dl)\n",
    "print(\"2 order finite diff. accuracy:: \",np.einsum('i,ijk->jk',fd1_2,ge)[1,2]/dl)\n",
    "print(\"4 order finite diff. accuracy:: \",np.einsum('i,ijk->jk',fd1_4,(np.asarray(ge)))[1,2]/dl)\n",
    "print(\"6 order finite diff. accuracy:: \",np.einsum('i,ijk->jk',fd1_6,(np.asarray(ge)))[1,2]/dl)\n",
    "print(\"8 order finite diff. accuracy:: \",np.einsum('i,ijk->jk',fd1_8,(np.asarray(ge)))[1,2]/dl)\n",
    "print(\"Analytical derivative        :: \",amds[4][1,2])"
   ]
  },
  {
   "cell_type": "code",
   "execution_count": 18,
   "metadata": {},
   "outputs": [
    {
     "ename": "NameError",
     "evalue": "name 'ge1' is not defined",
     "output_type": "error",
     "traceback": [
      "\u001b[0;31m---------------------------------------------------------------------------\u001b[0m",
      "\u001b[0;31mNameError\u001b[0m                                 Traceback (most recent call last)",
      "\u001b[0;32m<ipython-input-18-79fa82074633>\u001b[0m in \u001b[0;36m<module>\u001b[0;34m\u001b[0m\n\u001b[1;32m      1\u001b[0m \u001b[0;32mfor\u001b[0m \u001b[0mi\u001b[0m \u001b[0;32min\u001b[0m \u001b[0mrange\u001b[0m\u001b[0;34m(\u001b[0m\u001b[0;36m1\u001b[0m\u001b[0;34m,\u001b[0m\u001b[0;36m5\u001b[0m\u001b[0;34m)\u001b[0m\u001b[0;34m:\u001b[0m\u001b[0;34m\u001b[0m\u001b[0;34m\u001b[0m\u001b[0m\n\u001b[0;32m----> 2\u001b[0;31m     \u001b[0mprint\u001b[0m\u001b[0;34m(\u001b[0m\u001b[0mnp\u001b[0m\u001b[0;34m.\u001b[0m\u001b[0mlinalg\u001b[0m\u001b[0;34m.\u001b[0m\u001b[0mnorm\u001b[0m\u001b[0;34m(\u001b[0m\u001b[0;34m(\u001b[0m\u001b[0mge1\u001b[0m\u001b[0;34m-\u001b[0m\u001b[0mge2\u001b[0m\u001b[0;34m)\u001b[0m\u001b[0;34m[\u001b[0m\u001b[0mi\u001b[0m\u001b[0;34m]\u001b[0m\u001b[0;34m/\u001b[0m\u001b[0;36m2\u001b[0m\u001b[0;34m)\u001b[0m\u001b[0;34m)\u001b[0m\u001b[0;34m\u001b[0m\u001b[0;34m\u001b[0m\u001b[0m\n\u001b[0m",
      "\u001b[0;31mNameError\u001b[0m: name 'ge1' is not defined"
     ]
    }
   ],
   "source": [
    "for i in range(1,5):\n",
    "    print(np.linalg.norm((ge1-ge2)[i]/2))"
   ]
  },
  {
   "cell_type": "code",
   "execution_count": 19,
   "metadata": {},
   "outputs": [
    {
     "data": {
      "text/plain": [
       "array([[ 0.     ,  0.     ,  0.     ],\n",
       "       [ 0.     ,  0.     ,  2.04385],\n",
       "       [ 0.     ,  1.92696, -0.68128],\n",
       "       [ 1.6688 , -0.96348, -0.68128],\n",
       "       [-1.6688 , -0.96348, -0.68128]])"
      ]
     },
     "execution_count": 19,
     "metadata": {},
     "output_type": "execute_result"
    }
   ],
   "source": [
    "np.around(cds-cds[0],decimals=5)"
   ]
  },
  {
   "cell_type": "code",
   "execution_count": 51,
   "metadata": {},
   "outputs": [],
   "source": [
    "NH4=FcM(fcs=[1,0,0,0,0],atom=ch4str,unit=\"bohr\",\\\n",
    "          basis={\"H\":\"pc-2\",'C':bse.get_basis(\"pcX-2\",fmt=\"nwchem\",elements=[6])})\n",
    "NH4.nelectron=10"
   ]
  },
  {
   "cell_type": "code",
   "execution_count": 56,
   "metadata": {},
   "outputs": [
    {
     "name": "stdout",
     "output_type": "stream",
     "text": [
      "converged SCF energy = -56.5506646111421\n"
     ]
    },
    {
     "data": {
      "text/plain": [
       "-56.55066461114214"
      ]
     },
     "execution_count": 56,
     "metadata": {},
     "output_type": "execute_result"
    }
   ],
   "source": [
    "hfnh4=scf.RHF(NH4)\n",
    "hfnh4.scf(dm0=hfnh4.init_guess_by_1e())"
   ]
  },
  {
   "cell_type": "code",
   "execution_count": 55,
   "metadata": {},
   "outputs": [
    {
     "data": {
      "text/plain": [
       "(5, 5)"
      ]
     },
     "execution_count": 55,
     "metadata": {},
     "output_type": "execute_result"
    }
   ],
   "source": [
    "NH4.nelec"
   ]
  },
  {
   "cell_type": "code",
   "execution_count": 57,
   "metadata": {},
   "outputs": [
    {
     "name": "stdout",
     "output_type": "stream",
     "text": [
      "--------------- RHF gradients ---------------\n",
      "         x                y                z\n",
      "0 C     0.0000000000    -0.0000000000     0.0000000000\n",
      "1 H    -0.0000000000    -0.0000000000     0.0534595930\n",
      "2 H    -0.0000000000     0.0504021876    -0.0178198643\n",
      "3 H     0.0436495749    -0.0252010938    -0.0178198643\n",
      "4 H    -0.0436495749    -0.0252010938    -0.0178198643\n",
      "----------------------------------------------\n"
     ]
    }
   ],
   "source": [
    "gnh4,gnh4n=hfnh4.Gradients().grad()[1,2],hfnh4.Gradients().grad_nuc()[1,2]"
   ]
  },
  {
   "cell_type": "code",
   "execution_count": 13,
   "metadata": {},
   "outputs": [
    {
     "data": {
      "text/plain": [
       "-1.8955982396089313"
      ]
     },
     "execution_count": 13,
     "metadata": {},
     "output_type": "execute_result"
    }
   ],
   "source": [
    "gnh4n"
   ]
  },
  {
   "cell_type": "code",
   "execution_count": 15,
   "metadata": {},
   "outputs": [
    {
     "data": {
      "text/plain": [
       "array([[ 0.00000000e+00, -1.11022302e-16, -5.55111512e-17],\n",
       "       [ 0.00000000e+00,  0.00000000e+00, -2.39386778e-01],\n",
       "       [ 0.00000000e+00, -2.25696018e-01,  7.97955925e-02],\n",
       "       [-1.95458485e-01,  1.12848009e-01,  7.97955925e-02],\n",
       "       [ 1.95458485e-01,  1.12848009e-01,  7.97955925e-02]])"
      ]
     },
     "execution_count": 15,
     "metadata": {},
     "output_type": "execute_result"
    }
   ],
   "source": [
    "mf.Gradients().grad_nuc()\n",
    "ad1n"
   ]
  },
  {
   "cell_type": "code",
   "execution_count": 19,
   "metadata": {},
   "outputs": [
    {
     "data": {
      "text/plain": [
       "0.23938677763795033"
      ]
     },
     "execution_count": 19,
     "metadata": {},
     "output_type": "execute_result"
    }
   ],
   "source": [
    "1/2.043854241378284**2"
   ]
  },
  {
   "cell_type": "code",
   "execution_count": 65,
   "metadata": {},
   "outputs": [],
   "source": [
    "hnh4=hfnh4.Hessian().hess()"
   ]
  },
  {
   "cell_type": "code",
   "execution_count": 66,
   "metadata": {},
   "outputs": [
    {
     "data": {
      "text/plain": [
       "(0.0534595930096311, -1.8955982396089313, 0.30360466901718564)"
      ]
     },
     "execution_count": 66,
     "metadata": {},
     "output_type": "execute_result"
    }
   ],
   "source": [
    "gnh4,gnh4n,hnh4[1,1,2,2]"
   ]
  },
  {
   "cell_type": "code",
   "execution_count": 58,
   "metadata": {},
   "outputs": [
    {
     "name": "stdout",
     "output_type": "stream",
     "text": [
      "converged SCF energy = -26.9391542012827\n"
     ]
    },
    {
     "data": {
      "text/plain": [
       "-26.939154201282676"
      ]
     },
     "execution_count": 58,
     "metadata": {},
     "output_type": "execute_result"
    }
   ],
   "source": [
    "BH4=FcM(fcs=[-1,0,0,0,0],atom=ch4str,unit=\"bohr\",\\\n",
    "          basis={\"H\":\"pc-2\",'C':bse.get_basis(\"pcX-2\",fmt=\"nwchem\",elements=[6])})\n",
    "BH4.nelectron=10\n",
    "hfbh4=scf.RHF(BH4)\n",
    "hfbh4.scf(dm0=hfbh4.init_guess_by_1e())"
   ]
  },
  {
   "cell_type": "code",
   "execution_count": 59,
   "metadata": {},
   "outputs": [
    {
     "name": "stdout",
     "output_type": "stream",
     "text": [
      "--------------- RHF gradients ---------------\n",
      "         x                y                z\n",
      "0 C     0.0000000000    -0.0000000000     0.0000000000\n",
      "1 H    -0.0000000000    -0.0000000000    -0.0900956221\n",
      "2 H     0.0000000000    -0.0849429671     0.0300318740\n",
      "3 H    -0.0735627674     0.0424714836     0.0300318740\n",
      "4 H     0.0735627674     0.0424714836     0.0300318740\n",
      "----------------------------------------------\n"
     ]
    }
   ],
   "source": [
    "gbh4,gbh4n=hfbh4.Gradients().grad()[1,2],hfbh4.Gradients().grad_nuc()[1,2]"
   ]
  },
  {
   "cell_type": "code",
   "execution_count": 61,
   "metadata": {},
   "outputs": [],
   "source": [
    "hbh4=hfbh4.Hessian().hess()"
   ]
  },
  {
   "cell_type": "code",
   "execution_count": 64,
   "metadata": {},
   "outputs": [
    {
     "data": {
      "text/plain": [
       "(-0.09009562209189137, -1.4168246843330305, 0.4029575636155609)"
      ]
     },
     "execution_count": 64,
     "metadata": {},
     "output_type": "execute_result"
    }
   ],
   "source": [
    "gbh4,gbh4n,hbh4[1,1,2,2]"
   ]
  },
  {
   "cell_type": "code",
   "execution_count": 63,
   "metadata": {},
   "outputs": [
    {
     "data": {
      "text/plain": [
       "10"
      ]
     },
     "execution_count": 63,
     "metadata": {},
     "output_type": "execute_result"
    }
   ],
   "source": [
    "BH4.nelectron"
   ]
  },
  {
   "cell_type": "code",
   "execution_count": 6,
   "metadata": {},
   "outputs": [
    {
     "data": {
      "text/plain": [
       "(array([[ 0.00000000e+00, -1.11022302e-16, -5.55111512e-17],\n",
       "        [ 0.00000000e+00,  0.00000000e+00, -2.39386778e-01],\n",
       "        [ 0.00000000e+00, -2.25696018e-01,  7.97955925e-02],\n",
       "        [-1.95458485e-01,  1.12848009e-01,  7.97955925e-02],\n",
       "        [ 1.95458485e-01,  1.12848009e-01,  7.97955925e-02]]),\n",
       " array([[ 0.00000000e+00, -1.11022302e-16, -5.55111512e-17],\n",
       "        [ 0.00000000e+00,  0.00000000e+00, -2.39386778e-01],\n",
       "        [ 0.00000000e+00, -2.25696018e-01,  7.97955925e-02],\n",
       "        [-1.95458485e-01,  1.12848009e-01,  7.97955925e-02],\n",
       "        [ 1.95458485e-01,  1.12848009e-01,  7.97955925e-02]]),\n",
       " array([[ 0.00000000e+00,  1.11022302e-16,  5.55111512e-17],\n",
       "        [ 0.00000000e+00,  0.00000000e+00,  2.39386778e-01],\n",
       "        [ 0.00000000e+00,  2.25696018e-01, -7.97955925e-02],\n",
       "        [ 1.95458485e-01, -1.12848009e-01, -7.97955925e-02],\n",
       "        [-1.95458485e-01, -1.12848009e-01, -7.97955925e-02]]),\n",
       " array([[ 0.00000000e+00,  1.11022302e-16,  5.55111512e-17],\n",
       "        [ 0.00000000e+00,  0.00000000e+00,  2.39386778e-01],\n",
       "        [ 0.00000000e+00,  2.25696018e-01, -7.97955925e-02],\n",
       "        [ 1.95458485e-01, -1.12848009e-01, -7.97955925e-02],\n",
       "        [-1.95458485e-01, -1.12848009e-01, -7.97955925e-02]]))"
      ]
     },
     "execution_count": 6,
     "metadata": {},
     "output_type": "execute_result"
    }
   ],
   "source": [
    "alc_deriv_grad_nuc(CH4,[1,0,0,0,0]),alc_differential_grad_nuc(CH4,[1,0,0,0,0]),\\\n",
    "alc_deriv_grad_nuc(CH4,[-1,0,0,0,0]),alc_differential_grad_nuc(CH4,[-1,0,0,0,0])"
   ]
  },
  {
   "cell_type": "code",
   "execution_count": null,
   "metadata": {},
   "outputs": [],
   "source": [
    "1/z"
   ]
  }
 ],
 "metadata": {
  "kernelspec": {
   "display_name": "Python 3",
   "language": "python",
   "name": "python3"
  },
  "language_info": {
   "codemirror_mode": {
    "name": "ipython",
    "version": 3
   },
   "file_extension": ".py",
   "mimetype": "text/x-python",
   "name": "python",
   "nbconvert_exporter": "python",
   "pygments_lexer": "ipython3",
   "version": "3.7.3"
  }
 },
 "nbformat": 4,
 "nbformat_minor": 2
}
