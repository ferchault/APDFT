{
 "cells": [
  {
   "cell_type": "code",
   "execution_count": 1,
   "metadata": {},
   "outputs": [],
   "source": [
    "from aaff import aaff,g1,g2,g3,DeltaV\n",
    "from FcMole import FcM\n",
    "from alch_deriv import alch_deriv\n",
    "from pyscf import gto,scf\n",
    "import numpy as np \n",
    "import matplotlib.pyplot as plt\n",
    "from pyscf.grad import rhf as grhf\n",
    "import basis_set_exchange as bse\n",
    "np.set_printoptions(precision=8)"
   ]
  },
  {
   "cell_type": "code",
   "execution_count": 2,
   "metadata": {},
   "outputs": [
    {
     "name": "stdout",
     "output_type": "stream",
     "text": [
      "converged SCF energy = -112.224652642075\n"
     ]
    },
    {
     "data": {
      "text/plain": [
       "-112.22465264207544"
      ]
     },
     "execution_count": 2,
     "metadata": {},
     "output_type": "execute_result"
    }
   ],
   "source": [
    "fmol=FcM(fcs=[.01,-.01],atom=\"C 0 0 0; O 0 0 2.08272\",unit=\"Bohrs\",basis='sto-6g')\n",
    "fmf=scf.RHF(fmol)\n",
    "fmf.scf(dm0=fmf.init_guess_by_1e())"
   ]
  },
  {
   "cell_type": "code",
   "execution_count": 3,
   "metadata": {},
   "outputs": [
    {
     "name": "stdout",
     "output_type": "stream",
     "text": [
      "converged SCF energy = -112.298401626335\n"
     ]
    }
   ],
   "source": [
    "#mol=gto.M(atom=\"C 0 0 0; O 0 0 2.08272\",unit=\"Bohrs\",basis=bse.get_basis(\"pcX-2\",fmt=\"nwchem\",elements=[5,6,7,8,9]))\n",
    "mol=gto.M(atom=\"C 0 0 0; O 0 0 2.08272\",unit=\"Bohrs\",basis='sto-6g')\n",
    "mf=scf.RHF(mol)\n",
    "mf.scf()\n",
    "C=mf.mo_coeff\n",
    "e=mf.mo_energy"
   ]
  },
  {
   "cell_type": "code",
   "execution_count": 4,
   "metadata": {},
   "outputs": [
    {
     "name": "stdout",
     "output_type": "stream",
     "text": [
      "[[0, 1], [1, -1]]\n"
     ]
    }
   ],
   "source": [
    "DZ=[1,-1]\n",
    "U,dP,e1=alch_deriv(mf,[[0,1],DZ])"
   ]
  },
  {
   "cell_type": "code",
   "execution_count": 5,
   "metadata": {},
   "outputs": [
    {
     "data": {
      "text/plain": [
       "[0, 1]"
      ]
     },
     "execution_count": 5,
     "metadata": {},
     "output_type": "execute_result"
    }
   ],
   "source": [
    "[x for x in range(mol.natm)]"
   ]
  },
  {
   "cell_type": "code",
   "execution_count": 6,
   "metadata": {},
   "outputs": [],
   "source": [
    "mol0=mf.mol\n",
    "g0=mf.Gradients()\n",
    "vresp = mf.gen_response(hermi=1)\n",
    "P=mf.make_rdm1()\n",
    "F=mf.get_fock()"
   ]
  },
  {
   "cell_type": "code",
   "execution_count": 7,
   "metadata": {},
   "outputs": [],
   "source": [
    "#array([[-2.474811e-16,  2.571692e-16, -7.006909e-01],\n",
    "#       [ 4.616225e-15,  2.503433e-15,  7.006912e-01]])"
   ]
  },
  {
   "cell_type": "code",
   "execution_count": 8,
   "metadata": {},
   "outputs": [
    {
     "name": "stdout",
     "output_type": "stream",
     "text": [
      "[[0, 1], [1, -1]]\n"
     ]
    },
    {
     "data": {
      "text/plain": [
       "array([[ 2.08545225e-16,  6.29298468e-16, -7.00690825e-01],\n",
       "       [-2.08545225e-16, -6.29298468e-16,  7.00690825e-01]])"
      ]
     },
     "execution_count": 8,
     "metadata": {},
     "output_type": "execute_result"
    }
   ],
   "source": [
    "aaff(mf,[1, -1])"
   ]
  },
  {
   "cell_type": "code",
   "execution_count": 9,
   "metadata": {},
   "outputs": [
    {
     "data": {
      "text/plain": [
       "array([[-1.56797329e-15, -2.96682233e-15,  3.96493051e+00],\n",
       "       [ 1.56797329e-15,  2.96682233e-15, -3.96493051e+00]])"
      ]
     },
     "execution_count": 9,
     "metadata": {},
     "output_type": "execute_result"
    }
   ],
   "source": [
    "g2(mol0,dP,P,DZ,g0) # risolto problema di chiamata multpla agli integrali JK"
   ]
  },
  {
   "cell_type": "code",
   "execution_count": 10,
   "metadata": {},
   "outputs": [
    {
     "data": {
      "text/plain": [
       "array([[ 1.67324042e-15,  3.63406863e-15, -4.90333540e+00],\n",
       "       [-1.67324042e-15, -3.63406863e-15,  4.90333540e+00]])"
      ]
     },
     "execution_count": 10,
     "metadata": {},
     "output_type": "execute_result"
    }
   ],
   "source": [
    "g1(mol0,dP,P,DZ,g0)"
   ]
  },
  {
   "cell_type": "markdown",
   "metadata": {},
   "source": [
    "$$-\\sum_{\\mu\\nu}W_{\\mu\\nu}\\frac{\\partial S_{\\mu\\nu}}{\\partial x}\n",
    "$$\n",
    "Luckily $S$ is invariant in alchemy, therefore the different in gradient is just:$$\n",
    "-\\sum_{\\mu\\nu}\\frac{\\partial W_{\\mu\\nu}}{\\partial Z}\\frac{\\partial S_{\\mu\\nu}}{\\partial x}\n",
    "$$\n",
    "### Obtaining derivatives of W\n",
    "$$W_{\\mu \\nu}=  \\sum_i ^{mo.occ.} \\epsilon_i C_{\\mu i} C_{\\nu i}^\\dagger , \\ \\ \\ \\ \\ \\ \\ \\ \\ \n",
    " \\frac{\\partial W}{\\partial Z_I}= \\sum_i ^{mo.occ.} \\left( \\epsilon_i (CU)_{\\mu i} C_{\\nu i}^\\dagger + \n",
    "\\epsilon_i C_{\\mu i} (CU)^\\dagger_{\\nu i}   +\\frac{\\partial \\epsilon_i}{\\partial Z_I} C_{\\mu i} C_{\\nu i}^\\dagger \\right)$$\n",
    "or:\n",
    "$$ W= S^{-1} F P, \\ \\ \\ \\ \\  \\ \\ dW= S^{-1}(FdP+PdF)$$ "
   ]
  },
  {
   "cell_type": "code",
   "execution_count": 11,
   "metadata": {},
   "outputs": [],
   "source": [
    "def g3n(mol0,dP,P,DZ,g0,vresp,F): #-dW/dZ *dS/dx\n",
    "    s1=g0.get_ovlp(mol0)\n",
    "    dF=vresp(dP)+DeltaV(mol0,DZ)\n",
    "    S=mol0.intor_symmetric('int1e_ovlp')\n",
    "    dW=np.linalg.inv(S)@((F@dP)+(dF@P))\n",
    "    print(dW.shape)\n",
    "    g3=np.zeros((mol0.natm,3))\n",
    "    for i in range(mol0.natm):\n",
    "        p0, p1 = mol0.aoslice_by_atom() [i,2:]\n",
    "        g3[i] -= np.einsum('xij,ij->x', s1[:,p0:p1], dW[p0:p1]) * 2\n",
    "    return(g3)"
   ]
  },
  {
   "cell_type": "code",
   "execution_count": 12,
   "metadata": {},
   "outputs": [],
   "source": [
    "def dW(mol0,dP,P,DZ,g0,vresp,F): #-dW/dZ *dS/dx\n",
    "    s1=g0.get_ovlp(mol0)\n",
    "    dF=vresp(dP)+DeltaV(mol0,DZ)\n",
    "    S=mol0.intor_symmetric('int1e_ovlp')\n",
    "    dW=np.linalg.inv(S)@((F@dP)+(dF@P))\n",
    "    return(dW)"
   ]
  },
  {
   "cell_type": "code",
   "execution_count": 13,
   "metadata": {
    "scrolled": true
   },
   "outputs": [
    {
     "name": "stdout",
     "output_type": "stream",
     "text": [
      "(10, 10)\n",
      "(10, 10)\n"
     ]
    },
    {
     "data": {
      "text/plain": [
       "array([[ 3.53145721e-16,  8.84947699e-17,  2.37714023e-01],\n",
       "       [ 1.00186036e-15, -7.06385903e-16, -2.37713686e-01]])"
      ]
     },
     "execution_count": 13,
     "metadata": {},
     "output_type": "execute_result"
    }
   ],
   "source": [
    "g3n(mol0,dP,P,DZ,g0,vresp,F)\n",
    "g3n(mol0,dP,P,DZ,g0,vresp,F)"
   ]
  },
  {
   "cell_type": "code",
   "execution_count": 14,
   "metadata": {},
   "outputs": [
    {
     "data": {
      "text/plain": [
       "array([[ 0,  3,  0,  5],\n",
       "       [ 3,  6,  5, 10]])"
      ]
     },
     "execution_count": 14,
     "metadata": {},
     "output_type": "execute_result"
    }
   ],
   "source": [
    "mol0.aoslice_by_atom()"
   ]
  },
  {
   "cell_type": "code",
   "execution_count": 15,
   "metadata": {},
   "outputs": [
    {
     "data": {
      "text/plain": [
       "array([[ 5.94527371e+00,  0.00000000e+00,  0.00000000e+00,\n",
       "         0.00000000e+00,  0.00000000e+00,  0.00000000e+00,\n",
       "         0.00000000e+00],\n",
       "       [ 0.00000000e+00, -2.55123504e-03,  0.00000000e+00,\n",
       "         0.00000000e+00,  0.00000000e+00,  0.00000000e+00,\n",
       "         0.00000000e+00],\n",
       "       [ 0.00000000e+00,  0.00000000e+00, -8.88146992e-01,\n",
       "         0.00000000e+00,  0.00000000e+00,  0.00000000e+00,\n",
       "         0.00000000e+00],\n",
       "       [ 0.00000000e+00,  0.00000000e+00,  0.00000000e+00,\n",
       "        -5.21833744e-01,  0.00000000e+00,  0.00000000e+00,\n",
       "         0.00000000e+00],\n",
       "       [ 0.00000000e+00,  0.00000000e+00,  0.00000000e+00,\n",
       "         0.00000000e+00,  1.38587376e-16,  0.00000000e+00,\n",
       "         0.00000000e+00],\n",
       "       [ 0.00000000e+00,  0.00000000e+00,  0.00000000e+00,\n",
       "         0.00000000e+00,  0.00000000e+00, -8.02697473e-16,\n",
       "         0.00000000e+00],\n",
       "       [ 0.00000000e+00,  0.00000000e+00,  0.00000000e+00,\n",
       "         0.00000000e+00,  0.00000000e+00,  0.00000000e+00,\n",
       "         2.20530408e-02]])"
      ]
     },
     "execution_count": 15,
     "metadata": {},
     "output_type": "execute_result"
    }
   ],
   "source": [
    "np.diag(e1[0])"
   ]
  },
  {
   "cell_type": "code",
   "execution_count": 16,
   "metadata": {},
   "outputs": [
    {
     "data": {
      "text/plain": [
       "(array([[-20.63915104, -11.24580017,  -1.49124071,  -0.70888536,\n",
       "          -0.57292647,  -0.57292647,  -0.45452184],\n",
       "        [-20.69860377, -11.24582569,  -1.49124071,  -0.70888536,\n",
       "          -0.57292647,  -0.57292647,  -0.45452184],\n",
       "        [-20.69860377, -11.24580017,  -1.50012218,  -0.70888536,\n",
       "          -0.57292647,  -0.57292647,  -0.45452184],\n",
       "        [-20.69860377, -11.24580017,  -1.49124071,  -0.7141037 ,\n",
       "          -0.57292647,  -0.57292647,  -0.45452184],\n",
       "        [-20.69860377, -11.24580017,  -1.49124071,  -0.70888536,\n",
       "          -0.57292647,  -0.57292647,  -0.45452184],\n",
       "        [-20.69860377, -11.24580017,  -1.49124071,  -0.70888536,\n",
       "          -0.57292647,  -0.57292647,  -0.45452184],\n",
       "        [-20.69860377, -11.24580017,  -1.49124071,  -0.70888536,\n",
       "          -0.57292647,  -0.57292647,  -0.4543013 ]]),\n",
       " array([-20.63917183, -11.29096405,  -1.48982676,  -0.70895957,\n",
       "         -0.57232687,  -0.57232687,  -0.45596305]))"
      ]
     },
     "execution_count": 16,
     "metadata": {},
     "output_type": "execute_result"
    }
   ],
   "source": [
    "e[:7]+np.diag(e1[0])*.01,fmf.mo_energy[:7]"
   ]
  },
  {
   "cell_type": "code",
   "execution_count": 17,
   "metadata": {},
   "outputs": [
    {
     "ename": "NameError",
     "evalue": "name 'dW2' is not defined",
     "output_type": "error",
     "traceback": [
      "\u001b[0;31m---------------------------------------------------------------------------\u001b[0m",
      "\u001b[0;31mNameError\u001b[0m                                 Traceback (most recent call last)",
      "\u001b[0;32m<ipython-input-17-e1fbb7be764a>\u001b[0m in \u001b[0;36m<module>\u001b[0;34m\u001b[0m\n\u001b[1;32m      1\u001b[0m \u001b[0mplt\u001b[0m\u001b[0;34m.\u001b[0m\u001b[0mmatshow\u001b[0m\u001b[0;34m(\u001b[0m\u001b[0mdW\u001b[0m\u001b[0;34m(\u001b[0m\u001b[0mmol0\u001b[0m\u001b[0;34m,\u001b[0m\u001b[0mdP\u001b[0m\u001b[0;34m,\u001b[0m\u001b[0mP\u001b[0m\u001b[0;34m,\u001b[0m\u001b[0mDZ\u001b[0m\u001b[0;34m,\u001b[0m\u001b[0mg0\u001b[0m\u001b[0;34m,\u001b[0m\u001b[0mvresp\u001b[0m\u001b[0;34m,\u001b[0m\u001b[0mF\u001b[0m\u001b[0;34m)\u001b[0m\u001b[0;34m)\u001b[0m\u001b[0;34m\u001b[0m\u001b[0;34m\u001b[0m\u001b[0m\n\u001b[0;32m----> 2\u001b[0;31m \u001b[0mplt\u001b[0m\u001b[0;34m.\u001b[0m\u001b[0mmatshow\u001b[0m\u001b[0;34m(\u001b[0m\u001b[0mdW2\u001b[0m\u001b[0;34m)\u001b[0m\u001b[0;34m\u001b[0m\u001b[0;34m\u001b[0m\u001b[0m\n\u001b[0m",
      "\u001b[0;31mNameError\u001b[0m: name 'dW2' is not defined"
     ]
    },
    {
     "data": {
      "image/png": "[encoded data removed]",
      "text/plain": [
       "<Figure size 288x288 with 1 Axes>"
      ]
     },
     "metadata": {
      "needs_background": "light"
     },
     "output_type": "display_data"
    }
   ],
   "source": [
    "plt.matshow(dW(mol0,dP,P,DZ,g0,vresp,F))\n",
    "plt.matshow(dW2)"
   ]
  },
  {
   "cell_type": "markdown",
   "metadata": {},
   "source": [
    "$$W_{\\mu \\nu}=  \\sum_i ^{mo.occ.} \\epsilon_i C_{\\mu i} C_{\\nu i}^\\dagger , \\ \\ \\ \\ \\ \\ \\ \\ \\ \n",
    " \\frac{\\partial W}{\\partial Z_I}= \\sum_i ^{mo.occ.} \\left( \\epsilon_i (CU)_{\\mu i} C_{\\nu i}^\\dagger + \n",
    "\\epsilon_i C_{\\mu i} (CU)^\\dagger_{\\nu i}   +\\frac{\\partial \\epsilon_i}{\\partial Z_I} C_{\\mu i} C_{\\nu i}^\\dagger \\right)$$"
   ]
  },
  {
   "cell_type": "code",
   "execution_count": null,
   "metadata": {},
   "outputs": [],
   "source": [
    "dC=C@U"
   ]
  },
  {
   "cell_type": "code",
   "execution_count": null,
   "metadata": {},
   "outputs": [],
   "source": [
    "dW2=np.einsum('i,ji,ki->jk' ,2*e[:7],dC[:,:7],C[:,:7] )+np.einsum('i,ji,ki->jk' ,2*e[:7],C[:,:7],dC[:,:7])+ \\\n",
    "        2*C[:,:7]@e1[0]@C.T[:7,:]\n",
    "#dW2= np.einsum('i,ji,ki->jk' ,2*np.diag(e1[0]), C[:,:7],C.T[:,:7] )\n",
    "dW2"
   ]
  },
  {
   "cell_type": "code",
   "execution_count": null,
   "metadata": {},
   "outputs": [],
   "source": [
    "dW(mol0,dP,P,DZ,g0,vresp,F)"
   ]
  },
  {
   "cell_type": "code",
   "execution_count": null,
   "metadata": {},
   "outputs": [],
   "source": [
    "dW2.shape"
   ]
  },
  {
   "cell_type": "code",
   "execution_count": null,
   "metadata": {},
   "outputs": [],
   "source": [
    "def t3():\n",
    "    s1=g0.get_ovlp(mol0)\n",
    "    t3=np.zeros((mol0.natm,3))\n",
    "    for i in range(mol0.natm):\n",
    "        p0, p1 = mol0.aoslice_by_atom() [i,2:]\n",
    "        t3[i] -= np.einsum('xij,ij->x', s1[:,p0:p1], dW2[p0:p1])*2#(mol0,dP,P,DZ,g0,vresp,F)[p0:p1]) * 2\n",
    "    return t3"
   ]
  },
  {
   "cell_type": "code",
   "execution_count": null,
   "metadata": {},
   "outputs": [],
   "source": [
    "t3()"
   ]
  },
  {
   "cell_type": "code",
   "execution_count": null,
   "metadata": {},
   "outputs": [],
   "source": [
    "g3n(mol0, dP, P, DZ, g0, vresp, F)"
   ]
  },
  {
   "cell_type": "code",
   "execution_count": null,
   "metadata": {},
   "outputs": [],
   "source": [
    "t3()"
   ]
  }
 ],
 "metadata": {
  "kernelspec": {
   "display_name": "Python 3",
   "language": "python",
   "name": "python3"
  },
  "language_info": {
   "codemirror_mode": {
    "name": "ipython",
    "version": 3
   },
   "file_extension": ".py",
   "mimetype": "text/x-python",
   "name": "python",
   "nbconvert_exporter": "python",
   "pygments_lexer": "ipython3",
   "version": "3.7.3"
  }
 },
 "nbformat": 4,
 "nbformat_minor": 2
}
