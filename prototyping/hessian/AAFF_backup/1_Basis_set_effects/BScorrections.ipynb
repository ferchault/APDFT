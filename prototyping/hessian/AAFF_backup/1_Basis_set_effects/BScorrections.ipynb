{
 "cells": [
  {
   "cell_type": "code",
   "execution_count": 1,
   "metadata": {},
   "outputs": [],
   "source": [
    "import pyscf\n",
    "from pyscf.gto import M\n",
    "from pyscf.scf import RHF,UHF\n",
    "from FcMole import FcM\n",
    "import pandas as pd\n",
    "import numpy as np\n",
    "from mixBS import mix_pcvTQ"
   ]
  },
  {
   "cell_type": "code",
   "execution_count": 2,
   "metadata": {},
   "outputs": [],
   "source": [
    "atoms=\"H,He,Li,Be,B,C,N,O,F,Ne,Na,Mg,Al\"\n",
    "atoms=atoms.split(',')\n",
    "for at in atoms:\n",
    "    exec(\"%s=\\'%s\\'\"%(at,at))\n",
    "atoms_mol={'BF':['B','F'],'CO':['C','O'],'NN':['N','N']}"
   ]
  },
  {
   "cell_type": "code",
   "execution_count": 3,
   "metadata": {},
   "outputs": [],
   "source": [
    "atoms_mol={'BF':['B','F'],'CO':['C','O'],'NN':['N','N']}"
   ]
  },
  {
   "cell_type": "code",
   "execution_count": 4,
   "metadata": {},
   "outputs": [],
   "source": [
    "def delta_bs(ref,targ,bs):\n",
    "    charge=atoms.index(targ)-atoms.index(ref)\n",
    "    #print(\"charge=\",charge)\n",
    "    spin=(atoms.index(targ)+1)%2\n",
    "    #print('spin =',spin)\n",
    "    T=M(atom='{} 0 0 0'.format(targ),basis=bs,spin=spin)\n",
    "    TatR=FcM(fcs=[charge], atom='{} 0 0 0'.format(ref),charge=-charge,basis=bs,spin=spin)\n",
    "    TatR.charge=0    #need to reset the charge befor the second mol.build() !!!!!!!!\n",
    "    #print(\"nelec=\",TatR.nelec)\n",
    "    eT=RHF(T).kernel()\n",
    "    mf=RHF(TatR)\n",
    "    eTatR=mf.scf(dm0=mf.init_guess_by_1e())\n",
    "    return eTatR-eT"
   ]
  },
  {
   "cell_type": "code",
   "execution_count": 7,
   "metadata": {},
   "outputs": [],
   "source": [
    "def delta_bs_mol(ref,targ,bs):\n",
    "    return  (delta_bs(atoms_mol[ref][0],atoms_mol[targ][0],bs)+\n",
    "delta_bs(atoms_mol[ref][1],atoms_mol[targ][1],bs))\n",
    "q=[]"
   ]
  },
  {
   "cell_type": "code",
   "execution_count": 6,
   "metadata": {},
   "outputs": [
    {
     "name": "stdout",
     "output_type": "stream",
     "text": [
      "converged SCF energy = -54.2628687014236\n",
      "converged SCF energy = -54.2623098234022\n"
     ]
    },
    {
     "data": {
      "text/plain": [
       "0.0005588780213585665"
      ]
     },
     "execution_count": 6,
     "metadata": {},
     "output_type": "execute_result"
    }
   ],
   "source": [
    "delta_bs(C,N,mix_pcvTQ)"
   ]
  },
  {
   "cell_type": "code",
   "execution_count": 7,
   "metadata": {},
   "outputs": [],
   "source": [
    "bss=[\"cc-pVTZ\",\"def2-TZVP\",\" cc-pCVTZ\",\"cc-pVQZ\",\"def2-QZVPP\",\"pC3\",\"cc-pCVQZ\",\"pC4\"]\n",
    "nao= [60,     62,     86,   110, 114,128,168, 218]"
   ]
  },
  {
   "cell_type": "code",
   "execution_count": 8,
   "metadata": {},
   "outputs": [
    {
     "name": "stdout",
     "output_type": "stream",
     "text": [
      "converged SCF energy = -37.6021903991692\n",
      "converged SCF energy = -37.1159303081161\n",
      "converged SCF energy = -74.6842418256227\n",
      "converged SCF energy = -74.4191933251011\n",
      "converged SCF energy = -37.6021903991692\n",
      "converged SCF energy = -37.3651061761642\n",
      "converged SCF energy = -74.6842418256227\n",
      "converged SCF energy = -74.2297387144861\n",
      "converged SCF energy = -54.2596093799114\n",
      "converged SCF energy = -53.7932985837938\n",
      "converged SCF energy = -54.2596093799114\n",
      "converged SCF energy = -54.0097344541333\n",
      "converged SCF energy = -24.528146568456\n",
      "converged SCF energy = -24.3146036251918\n",
      "converged SCF energy = -99.400935272237\n",
      "converged SCF energy = -98.9559203593882\n",
      "converged SCF energy = -37.603217901997\n",
      "converged SCF energy = -37.5404839731042\n",
      "converged SCF energy = -74.6880466494364\n",
      "converged SCF energy = -74.6384440282483\n",
      "converged SCF energy = -37.603217901997\n",
      "converged SCF energy = -37.5613008133732\n",
      "converged SCF energy = -74.6880466494363\n",
      "converged SCF energy = -74.6246209420405\n",
      "converged SCF energy = -54.2617703401479\n",
      "converged SCF energy = -54.2024596995639\n",
      "converged SCF energy = -54.2617703401479\n",
      "converged SCF energy = -54.2168031515303\n",
      "converged SCF energy = -24.5283903909115\n",
      "converged SCF energy = -24.4908444051499\n",
      "converged SCF energy = -99.4071674662221\n",
      "converged SCF energy = -99.3400321514568\n",
      "converged SCF energy = -37.6022312210273\n",
      "converged SCF energy = -37.5880511608357\n",
      "converged SCF energy = -74.6843487787291\n",
      "converged SCF energy = -74.6721457483791\n",
      "converged SCF energy = -37.6022312210273\n",
      "converged SCF energy = -37.5883892787769\n",
      "converged SCF energy = -74.684348778729\n",
      "converged SCF energy = -74.6715258687212\n",
      "converged SCF energy = -54.2596746385429\n",
      "converged SCF energy = -54.2467024868305\n",
      "converged SCF energy = -54.259674638543\n",
      "converged SCF energy = -54.2477340335488\n",
      "converged SCF energy = -24.5281569031437\n",
      "converged SCF energy = -24.5169642078854\n",
      "converged SCF energy = -99.4010199120785\n",
      "converged SCF energy = -99.3881380000556\n",
      "converged SCF energy = -37.6042655971234\n",
      "converged SCF energy = -37.5691441134052\n",
      "converged SCF energy = -74.6896702173876\n",
      "converged SCF energy = -74.6804169166596\n",
      "converged SCF energy = -37.6042655971234\n",
      "converged SCF energy = -37.5963809874002\n",
      "converged SCF energy = -74.6896702173876\n",
      "converged SCF energy = -74.6733899152055\n",
      "converged SCF energy = -54.2630502067364\n",
      "converged SCF energy = -54.2407800608189\n",
      "converged SCF energy = -54.2630502067363\n",
      "converged SCF energy = -54.2552103559437\n",
      "converged SCF energy = -24.5289644894223\n",
      "converged SCF energy = -24.5233818292171\n",
      "converged SCF energy = -99.4089518519387\n",
      "converged SCF energy = -99.3949548585685\n",
      "converged SCF energy = -37.6046865883457\n",
      "converged SCF energy = -37.5999051309313\n",
      "converged SCF energy = -74.6909868151317\n",
      "converged SCF energy = -74.6871506360025\n",
      "converged SCF energy = -37.6046865883458\n",
      "converged SCF energy = -37.6030637297497\n",
      "converged SCF energy = -74.6909868151318\n",
      "converged SCF energy = -74.6811251543483\n",
      "converged SCF energy = -54.2638653102402\n",
      "converged SCF energy = -54.2568302349993\n",
      "converged SCF energy = -54.2638653102402\n",
      "converged SCF energy = -54.2614560787475\n",
      "converged SCF energy = -24.5290852743884\n",
      "converged SCF energy = -24.5280275927951\n",
      "converged SCF energy = -99.4110540350996\n",
      "converged SCF energy = -99.3979235038228\n",
      "converged SCF energy = -37.6041953959944\n",
      "converged SCF energy = -37.5938421212933\n",
      "converged SCF energy = -74.6906131643669\n",
      "converged SCF energy = -74.6891269010747\n",
      "converged SCF energy = -37.6041953959945\n",
      "converged SCF energy = -37.6038702102282\n",
      "converged SCF energy = -74.6906131643669\n",
      "converged SCF energy = -74.6852545353436\n",
      "converged SCF energy = -54.2634939593362\n",
      "converged SCF energy = -54.2563410576056\n",
      "converged SCF energy = -54.2634939593362\n",
      "converged SCF energy = -54.2625931241178\n",
      "converged SCF energy = -24.5286053089534\n",
      "converged SCF energy = -24.5286210803187\n",
      "converged SCF energy = -99.4107411619872\n",
      "converged SCF energy = -99.4049677584937\n",
      "converged SCF energy = -37.6043011773438\n",
      "converged SCF energy = -37.6035565629605\n",
      "converged SCF energy = -74.6897419636536\n",
      "converged SCF energy = -74.6876846436142\n",
      "converged SCF energy = -37.6043011773437\n",
      "converged SCF energy = -37.6012557575898\n",
      "converged SCF energy = -74.6897419636537\n",
      "converged SCF energy = -74.6891308822877\n",
      "converged SCF energy = -54.263089241898\n",
      "converged SCF energy = -54.2624896011765\n",
      "converged SCF energy = -54.263089241898\n",
      "converged SCF energy = -54.2611084125245\n",
      "converged SCF energy = -24.5289748062679\n",
      "converged SCF energy = -24.527146211285\n",
      "converged SCF energy = -99.4090287913935\n",
      "converged SCF energy = -99.4082954283501\n",
      "converged SCF energy = -37.6048318234978\n",
      "converged SCF energy = -37.6040650160558\n",
      "converged SCF energy = -74.6912528827089\n",
      "converged SCF energy = -74.6912218787267\n",
      "converged SCF energy = -37.6048318234979\n",
      "converged SCF energy = -37.6048061558729\n",
      "converged SCF energy = -74.6912528827087\n",
      "converged SCF energy = -74.6909194441322\n",
      "converged SCF energy = -54.2640801216278\n",
      "converged SCF energy = -54.2636341599821\n",
      "converged SCF energy = -54.2640801216279\n",
      "converged SCF energy = -54.2640502948333\n",
      "converged SCF energy = -24.5291256825902\n",
      "converged SCF energy = -24.5290427622674\n",
      "converged SCF energy = -99.4113510162236\n",
      "converged SCF energy = -99.411080452773\n"
     ]
    }
   ],
   "source": [
    "q=[]\n",
    "i=0\n",
    "for bs in bss:\n",
    "    q.append({\"nAO\":nao[i],\n",
    "            \"basis\":bs,\n",
    "            \"corrCO@BF\":delta_bs_mol(\"BF\",\"CO\",bs),\n",
    "            \"corrCO@NN\":delta_bs_mol(\"NN\",\"CO\",bs),\n",
    "            \"corrNN@CO\":delta_bs_mol(\"CO\",\"NN\",bs),\n",
    "            \"corrBF@CO\":delta_bs_mol(\"CO\",\"BF\",bs)})\n",
    "    i+=1"
   ]
  },
  {
   "cell_type": "code",
   "execution_count": 9,
   "metadata": {},
   "outputs": [
    {
     "name": "stdout",
     "output_type": "stream",
     "text": [
      "converged SCF energy = -37.6040402834379\n",
      "converged SCF energy = -37.6033710414236\n",
      "converged SCF energy = -74.6894477540863\n",
      "converged SCF energy = -74.6873048420298\n",
      "converged SCF energy = -37.6040402834379\n",
      "converged SCF energy = -37.6009083440277\n",
      "converged SCF energy = -74.6894477540864\n",
      "converged SCF energy = -74.6888906695318\n",
      "converged SCF energy = -54.2628687014236\n",
      "converged SCF energy = -54.2623098234022\n",
      "converged SCF energy = -54.2628687014237\n",
      "converged SCF energy = -54.2608127350529\n",
      "converged SCF energy = -24.5289538353644\n",
      "converged SCF energy = -24.5271214238403\n",
      "converged SCF energy = -99.4088762952711\n",
      "converged SCF energy = -99.4081580728706\n"
     ]
    }
   ],
   "source": [
    "q.append({\"nAO\":102,\n",
    "          \"basis\":\"ccpcvTQZmix\",\n",
    "            \"corrCO@BF\":delta_bs_mol(\"BF\",\"CO\",mix_pcvTQ),\n",
    "            \"corrCO@NN\":delta_bs_mol(\"NN\",\"CO\",mix_pcvTQ),\n",
    "            \"corrNN@CO\":delta_bs_mol(\"CO\",\"NN\",mix_pcvTQ),\n",
    "            \"corrBF@CO\":delta_bs_mol(\"CO\",\"BF\",mix_pcvTQ)})"
   ]
  },
  {
   "cell_type": "code",
   "execution_count": 10,
   "metadata": {},
   "outputs": [],
   "source": [
    "#df=pd.DataFrame(q)"
   ]
  },
  {
   "cell_type": "code",
   "execution_count": 11,
   "metadata": {},
   "outputs": [
    {
     "name": "stdout",
     "output_type": "stream",
     "text": [
      "converged SCF energy = -37.6048021438148\n",
      "converged SCF energy = -37.5903342437913\n",
      "converged SCF energy = -74.6911282736955\n",
      "converged SCF energy = -74.6903142457358\n",
      "converged SCF energy = -37.6048021438147\n",
      "converged SCF energy = -37.6037537357912\n",
      "converged SCF energy = -74.6911282736954\n",
      "converged SCF energy = -74.681961497819\n",
      "converged SCF energy = -54.2639845171237\n",
      "converged SCF energy = -54.2527243933914\n",
      "converged SCF energy = -54.2639845171236\n",
      "converged SCF energy = -54.2632626858365\n",
      "converged SCF energy = -24.529109406526\n",
      "converged SCF energy = -24.5282453247618\n",
      "converged SCF energy = -99.4111708318008\n",
      "converged SCF energy = -99.4031457366915\n"
     ]
    }
   ],
   "source": [
    "q.append({\"nAO\":182,\n",
    "          \"basis\":\"cc-pV5Z\",\n",
    "            \"corrCO@BF\":delta_bs_mol(\"BF\",\"CO\",\"ccpv5z\"),\n",
    "            \"corrCO@NN\":delta_bs_mol(\"NN\",\"CO\",\"ccpv5z\"),\n",
    "            \"corrNN@CO\":delta_bs_mol(\"CO\",\"NN\",\"ccpv5z\"),\n",
    "            \"corrBF@CO\":delta_bs_mol(\"CO\",\"BF\",\"ccpv5z\")})"
   ]
  },
  {
   "cell_type": "code",
   "execution_count": 12,
   "metadata": {},
   "outputs": [],
   "source": [
    "df=pd.DataFrame(q)"
   ]
  },
  {
   "cell_type": "code",
   "execution_count": 14,
   "metadata": {},
   "outputs": [],
   "source": [
    "df.to_pickle(\"corrections5z\")\n",
    "df.to_pickle(\"corrections\")"
   ]
  },
  {
   "cell_type": "code",
   "execution_count": 15,
   "metadata": {},
   "outputs": [
    {
     "data": {
      "text/html": [
       "<div>\n",
       "<style scoped>\n",
       "    .dataframe tbody tr th:only-of-type {\n",
       "        vertical-align: middle;\n",
       "    }\n",
       "\n",
       "    .dataframe tbody tr th {\n",
       "        vertical-align: top;\n",
       "    }\n",
       "\n",
       "    .dataframe thead th {\n",
       "        text-align: right;\n",
       "    }\n",
       "</style>\n",
       "<table border=\"1\" class=\"dataframe\">\n",
       "  <thead>\n",
       "    <tr style=\"text-align: right;\">\n",
       "      <th></th>\n",
       "      <th>basis</th>\n",
       "      <th>corrBF@CO</th>\n",
       "      <th>corrCO@BF</th>\n",
       "      <th>corrCO@NN</th>\n",
       "      <th>corrNN@CO</th>\n",
       "      <th>nAO</th>\n",
       "    </tr>\n",
       "  </thead>\n",
       "  <tbody>\n",
       "    <tr>\n",
       "      <th>0</th>\n",
       "      <td>cc-pVTZ</td>\n",
       "      <td>0.658558</td>\n",
       "      <td>0.751309</td>\n",
       "      <td>0.691587</td>\n",
       "      <td>0.716186</td>\n",
       "      <td>60</td>\n",
       "    </tr>\n",
       "    <tr>\n",
       "      <th>1</th>\n",
       "      <td>def2-TZVP</td>\n",
       "      <td>0.104681</td>\n",
       "      <td>0.112337</td>\n",
       "      <td>0.105343</td>\n",
       "      <td>0.104278</td>\n",
       "      <td>62</td>\n",
       "    </tr>\n",
       "    <tr>\n",
       "      <th>2</th>\n",
       "      <td>cc-pCVTZ</td>\n",
       "      <td>0.024075</td>\n",
       "      <td>0.026383</td>\n",
       "      <td>0.026665</td>\n",
       "      <td>0.024913</td>\n",
       "      <td>86</td>\n",
       "    </tr>\n",
       "    <tr>\n",
       "      <th>3</th>\n",
       "      <td>cc-pVQZ</td>\n",
       "      <td>0.019580</td>\n",
       "      <td>0.044375</td>\n",
       "      <td>0.024165</td>\n",
       "      <td>0.030110</td>\n",
       "      <td>110</td>\n",
       "    </tr>\n",
       "    <tr>\n",
       "      <th>4</th>\n",
       "      <td>def2-QZVPP</td>\n",
       "      <td>0.014188</td>\n",
       "      <td>0.008618</td>\n",
       "      <td>0.011485</td>\n",
       "      <td>0.009444</td>\n",
       "      <td>114</td>\n",
       "    </tr>\n",
       "    <tr>\n",
       "      <th>5</th>\n",
       "      <td>pC3</td>\n",
       "      <td>0.005758</td>\n",
       "      <td>0.011840</td>\n",
       "      <td>0.005684</td>\n",
       "      <td>0.008054</td>\n",
       "      <td>128</td>\n",
       "    </tr>\n",
       "    <tr>\n",
       "      <th>6</th>\n",
       "      <td>cc-pCVQZ</td>\n",
       "      <td>0.002562</td>\n",
       "      <td>0.002802</td>\n",
       "      <td>0.003657</td>\n",
       "      <td>0.002580</td>\n",
       "      <td>168</td>\n",
       "    </tr>\n",
       "    <tr>\n",
       "      <th>7</th>\n",
       "      <td>pC4</td>\n",
       "      <td>0.000353</td>\n",
       "      <td>0.000798</td>\n",
       "      <td>0.000359</td>\n",
       "      <td>0.000476</td>\n",
       "      <td>218</td>\n",
       "    </tr>\n",
       "    <tr>\n",
       "      <th>8</th>\n",
       "      <td>ccpcvTQZmix</td>\n",
       "      <td>0.002551</td>\n",
       "      <td>0.002812</td>\n",
       "      <td>0.003689</td>\n",
       "      <td>0.002615</td>\n",
       "      <td>102</td>\n",
       "    </tr>\n",
       "    <tr>\n",
       "      <th>9</th>\n",
       "      <td>cc-pV5Z</td>\n",
       "      <td>0.008889</td>\n",
       "      <td>0.015282</td>\n",
       "      <td>0.010215</td>\n",
       "      <td>0.011982</td>\n",
       "      <td>182</td>\n",
       "    </tr>\n",
       "  </tbody>\n",
       "</table>\n",
       "</div>"
      ],
      "text/plain": [
       "         basis  corrBF@CO  corrCO@BF  corrCO@NN  corrNN@CO  nAO\n",
       "0      cc-pVTZ   0.658558   0.751309   0.691587   0.716186   60\n",
       "1    def2-TZVP   0.104681   0.112337   0.105343   0.104278   62\n",
       "2     cc-pCVTZ   0.024075   0.026383   0.026665   0.024913   86\n",
       "3      cc-pVQZ   0.019580   0.044375   0.024165   0.030110  110\n",
       "4   def2-QZVPP   0.014188   0.008618   0.011485   0.009444  114\n",
       "5          pC3   0.005758   0.011840   0.005684   0.008054  128\n",
       "6     cc-pCVQZ   0.002562   0.002802   0.003657   0.002580  168\n",
       "7          pC4   0.000353   0.000798   0.000359   0.000476  218\n",
       "8  ccpcvTQZmix   0.002551   0.002812   0.003689   0.002615  102\n",
       "9      cc-pV5Z   0.008889   0.015282   0.010215   0.011982  182"
      ]
     },
     "execution_count": 15,
     "metadata": {},
     "output_type": "execute_result"
    }
   ],
   "source": [
    "pd.read_pickle(\"corrections5z\")"
   ]
  },
  {
   "cell_type": "code",
   "execution_count": 9,
   "metadata": {},
   "outputs": [],
   "source": [
    "import basis_set_exchange as bse"
   ]
  },
  {
   "cell_type": "code",
   "execution_count": 12,
   "metadata": {},
   "outputs": [
    {
     "name": "stdout",
     "output_type": "stream",
     "text": [
      "converged SCF energy = -37.6029290136079\n",
      "converged SCF energy = -37.6025006982266\n",
      "converged SCF energy = -74.687723855948\n",
      "converged SCF energy = -74.6847570920605\n",
      "converged SCF energy = -37.6029290136078\n",
      "converged SCF energy = -37.5987959663902\n",
      "converged SCF energy = -74.6877238559482\n",
      "converged SCF energy = -74.6871564090566\n",
      "converged SCF energy = -54.2616567416513\n",
      "converged SCF energy = -54.261169746442\n",
      "converged SCF energy = -54.2616567416513\n",
      "converged SCF energy = -54.2583872293556\n",
      "converged SCF energy = -24.528185922659\n",
      "converged SCF energy = -24.5234817348501\n",
      "converged SCF energy = -99.4065434956606\n",
      "converged SCF energy = -99.4057443875084\n"
     ]
    }
   ],
   "source": [
    "q1=[]\n",
    "q1.append({\"nAO\":90,\n",
    "          \"basis\":\"pcX-2\",\n",
    "            \"corrCO@BF\":delta_bs_mol(\"BF\",\"CO\",bse.get_basis(\"pcX-2\",fmt=\"nwchem\",elements=[5,6,7,8,9])),\n",
    "            \"corrCO@NN\":delta_bs_mol(\"NN\",\"CO\",bse.get_basis(\"pcX-2\",fmt=\"nwchem\",elements=[5,6,7,8,9])),\n",
    "            \"corrNN@CO\":delta_bs_mol(\"CO\",\"NN\",bse.get_basis(\"pcX-2\",fmt=\"nwchem\",elements=[5,6,7,8,9])),\n",
    "            \"corrBF@CO\":delta_bs_mol(\"CO\",\"BF\",bse.get_basis(\"pcX-2\",fmt=\"nwchem\",elements=[5,6,7,8,9]))})"
   ]
  },
  {
   "cell_type": "code",
   "execution_count": 13,
   "metadata": {},
   "outputs": [
    {
     "name": "stdout",
     "output_type": "stream",
     "text": [
      "converged SCF energy = -37.6046779339455\n",
      "converged SCF energy = -37.604670031469\n",
      "converged SCF energy = -74.69108874764\n",
      "converged SCF energy = -74.6910615960793\n",
      "converged SCF energy = -37.6046779339456\n",
      "converged SCF energy = -37.6045618340449\n",
      "converged SCF energy = -74.69108874764\n",
      "converged SCF energy = -74.6910587101229\n",
      "converged SCF energy = -54.2639536297119\n",
      "converged SCF energy = -54.2639220431038\n",
      "converged SCF energy = -54.2639536297119\n",
      "converged SCF energy = -54.2638965445323\n",
      "converged SCF energy = -24.5291029635233\n",
      "converged SCF energy = -24.529053274614\n",
      "converged SCF energy = -99.4112144575403\n",
      "converged SCF energy = -99.4111552787316\n"
     ]
    }
   ],
   "source": [
    "q1.append({\"nAO\":168,\n",
    "          \"basis\":\"pcX-3\",\n",
    "            \"corrCO@BF\":delta_bs_mol(\"BF\",\"CO\",bse.get_basis(\"pcX-3\",fmt=\"nwchem\",elements=[5,6,7,8,9])),\n",
    "            \"corrCO@NN\":delta_bs_mol(\"NN\",\"CO\",bse.get_basis(\"pcX-3\",fmt=\"nwchem\",elements=[5,6,7,8,9])),\n",
    "            \"corrNN@CO\":delta_bs_mol(\"CO\",\"NN\",bse.get_basis(\"pcX-3\",fmt=\"nwchem\",elements=[5,6,7,8,9])),\n",
    "            \"corrBF@CO\":delta_bs_mol(\"CO\",\"BF\",bse.get_basis(\"pcX-3\",fmt=\"nwchem\",elements=[5,6,7,8,9]))})"
   ]
  },
  {
   "cell_type": "code",
   "execution_count": 15,
   "metadata": {},
   "outputs": [],
   "source": [
    "pd.DataFrame(q1).to_pickle(\"pcX_corrections\")"
   ]
  },
  {
   "cell_type": "code",
   "execution_count": null,
   "metadata": {},
   "outputs": [],
   "source": []
  }
 ],
 "metadata": {
  "kernelspec": {
   "display_name": "Python 3",
   "language": "python",
   "name": "python3"
  },
  "language_info": {
   "codemirror_mode": {
    "name": "ipython",
    "version": 3
   },
   "file_extension": ".py",
   "mimetype": "text/x-python",
   "name": "python",
   "nbconvert_exporter": "python",
   "pygments_lexer": "ipython3",
   "version": "3.7.3"
  }
 },
 "nbformat": 4,
 "nbformat_minor": 2
}
