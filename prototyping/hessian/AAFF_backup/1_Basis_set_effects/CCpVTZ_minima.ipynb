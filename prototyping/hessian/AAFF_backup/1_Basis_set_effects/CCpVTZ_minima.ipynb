{
 "cells": [
  {
   "cell_type": "code",
   "execution_count": 1,
   "metadata": {},
   "outputs": [],
   "source": [
    "from pyscf import gto,scf\n",
    "import pyscf\n",
    "from alch_deriv import alch_deriv\n",
    "import matplotlib.pyplot as plt\n",
    "from scipy.interpolate import InterpolatedUnivariateSpline as spl\n",
    "import numpy as np\n",
    "from FcMole import FcM\n",
    "ang2bohr=1.8897261246\n",
    "bohr2ang=.5291772109"
   ]
  },
  {
   "cell_type": "code",
   "execution_count": 2,
   "metadata": {},
   "outputs": [
    {
     "data": {
      "text/plain": [
       "60"
      ]
     },
     "execution_count": 2,
     "metadata": {},
     "output_type": "execute_result"
    }
   ],
   "source": [
    "CO=gto.M(atom=\"C 0 0 0; O 0 0 2.05\",unit='Bohrs',basis=\"ccpvtz\",verbose=0)\n",
    "hfCO=scf.RHF(CO)\n",
    "CO.nao"
   ]
  },
  {
   "cell_type": "code",
   "execution_count": 3,
   "metadata": {},
   "outputs": [],
   "source": [
    "def optimizer2at(a1,a2,fcs=None):\n",
    "    d1=np.linspace(1.9,2.4,9)\n",
    "    es=[]\n",
    "    for d in d1:\n",
    "        if fcs==None:\n",
    "            mol=gto.M(atom=\"{} 0 0 0; {} 0 0 {} \".format(a1,a2,d),unit='Bohrs',basis=\"ccpvtz\",verbose=0)\n",
    "            mf=scf.RHF(mol)\n",
    "            es.append(mf.scf())\n",
    "        else:\n",
    "            mol=FcM(fcs=fcs,atom=\"{} 0 0 0; {} 0 0 {} \".format(a1,a2,d),unit='Bohrs',basis=\"ccpvtz\",verbose=0)\n",
    "            mf=scf.RHF(mol)\n",
    "            es.append(mf.scf(dm0=mf.init_guess_by_1e()))\n",
    "    dspl=np.linspace(1.9,2.4,501)\n",
    "    bspline=spl(d1,es)\n",
    "    bspline(dspl)\n",
    "    dminspline=1.9+.001*(bspline(dspl).argmin())\n",
    "    d2=np.linspace(dminspline-.03,dminspline+.03,7)\n",
    "    es=[]\n",
    "    for d in d2:\n",
    "        if fcs==None:\n",
    "            mol=gto.M(atom=\"{} 0 0 0; {} 0 0 {} \".format(a1,a2,d),unit='Bohrs',basis=\"ccpvtz\",verbose=0)\n",
    "            mf=scf.RHF(mol)\n",
    "            es.append(mf.scf())\n",
    "        else:\n",
    "            mol=FcM(fcs=fcs,atom=\"{} 0 0 0; {} 0 0 {} \".format(a1,a2,d),unit='Bohrs',basis=\"ccpvtz\",verbose=0)\n",
    "            mf=scf.RHF(mol)\n",
    "            es.append(mf.scf(dm0=mf.init_guess_by_1e()))\n",
    "    dspl=np.linspace(dminspline-.03,dminspline+.03,6001)\n",
    "    bspline=spl(d2,es)\n",
    "    #plt.plot(dspl,bspline(dspl))\n",
    "    COmin=dspl[bspline(dspl).argmin()]\n",
    "    return COmin,bspline(dspl).min()"
   ]
  },
  {
   "cell_type": "code",
   "execution_count": 4,
   "metadata": {},
   "outputs": [
    {
     "data": {
      "text/plain": [
       "(2.0871199999999996, -112.78181256089847)"
      ]
     },
     "execution_count": 4,
     "metadata": {},
     "output_type": "execute_result"
    }
   ],
   "source": [
    "optimizer2at(\"C\",\"O\")"
   ]
  },
  {
   "cell_type": "code",
   "execution_count": 5,
   "metadata": {},
   "outputs": [
    {
     "data": {
      "text/plain": [
       "(2.01655, -108.98655719775974)"
      ]
     },
     "execution_count": 5,
     "metadata": {},
     "output_type": "execute_result"
    }
   ],
   "source": [
    "optimizer2at(\"N\",\"N\")"
   ]
  },
  {
   "cell_type": "code",
   "execution_count": 6,
   "metadata": {},
   "outputs": [
    {
     "data": {
      "text/plain": [
       "(2.35927, -124.156059579805)"
      ]
     },
     "execution_count": 6,
     "metadata": {},
     "output_type": "execute_result"
    }
   ],
   "source": [
    "optimizer2at(\"B\",\"F\")"
   ]
  },
  {
   "cell_type": "markdown",
   "metadata": {},
   "source": [
    "# GAUGE THE ERROR DUE TO BASIS SET"
   ]
  },
  {
   "cell_type": "code",
   "execution_count": 7,
   "metadata": {},
   "outputs": [
    {
     "data": {
      "text/plain": [
       "(1.9583599999999999, -112.31317808452918)"
      ]
     },
     "execution_count": 7,
     "metadata": {},
     "output_type": "execute_result"
    }
   ],
   "source": [
    "#CO@NN\n",
    "optimizer2at(\"N\",\"N\",fcs=[-1,1.])"
   ]
  },
  {
   "cell_type": "code",
   "execution_count": 8,
   "metadata": {},
   "outputs": [
    {
     "data": {
      "text/plain": [
       "(1.9796299999999998, -112.27775796619837)"
      ]
     },
     "execution_count": 8,
     "metadata": {},
     "output_type": "execute_result"
    }
   ],
   "source": [
    "#CO@BF\n",
    "optimizer2at(\"B\",\"F\",fcs=[1.,-1.])"
   ]
  },
  {
   "cell_type": "code",
   "execution_count": 9,
   "metadata": {},
   "outputs": [
    {
     "data": {
      "text/plain": [
       "(2.1382, -123.65230488193495)"
      ]
     },
     "execution_count": 9,
     "metadata": {},
     "output_type": "execute_result"
    }
   ],
   "source": [
    "#BF@CO\n",
    "optimizer2at(\"C\",\"O\",fcs=[-1,1])"
   ]
  },
  {
   "cell_type": "code",
   "execution_count": 10,
   "metadata": {},
   "outputs": [
    {
     "data": {
      "text/plain": [
       "(1.93577, -108.50604358405053)"
      ]
     },
     "execution_count": 10,
     "metadata": {},
     "output_type": "execute_result"
    }
   ],
   "source": [
    "#NN@CO\n",
    "optimizer2at(\"C\",\"O\",fcs=[1,-1])"
   ]
  },
  {
   "cell_type": "code",
   "execution_count": null,
   "metadata": {},
   "outputs": [],
   "source": []
  }
 ],
 "metadata": {
  "kernelspec": {
   "display_name": "Python 3",
   "language": "python",
   "name": "python3"
  },
  "language_info": {
   "codemirror_mode": {
    "name": "ipython",
    "version": 3
   },
   "file_extension": ".py",
   "mimetype": "text/x-python",
   "name": "python",
   "nbconvert_exporter": "python",
   "pygments_lexer": "ipython3",
   "version": "3.7.3"
  }
 },
 "nbformat": 4,
 "nbformat_minor": 4
}
