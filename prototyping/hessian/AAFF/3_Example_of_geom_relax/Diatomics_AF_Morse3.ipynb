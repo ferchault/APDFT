{
 "cells": [
  {
   "cell_type": "code",
   "execution_count": 1,
   "metadata": {},
   "outputs": [],
   "source": [
    "from berny import Berny, geomlib, coords,Geometry,Math\n",
    "from pyscf import gto,scf\n",
    "import numpy as np \n",
    "from numpy.linalg import norm as norm\n",
    "import matplotlib.pyplot as plt\n",
    "from pyscf.grad import rhf as grhf\n",
    "from pyscf.hessian import rhf as hrhf\n",
    "import basis_set_exchange as bse\n",
    "from pyscf.geomopt.berny_solver import optimize\n",
    "from scipy.interpolate import spline\n",
    "ang2bohr=1.8897261246\n",
    "bohr2ang=.5291772109\n",
    "hartree2kcal=627.509\n",
    "uffbde=100/hartree2kcal\n",
    "%load_ext autoreload\n",
    "%autoreload 2"
   ]
  },
  {
   "cell_type": "code",
   "execution_count": 2,
   "metadata": {},
   "outputs": [],
   "source": [
    "import sys\n",
    "sys.path.append( '/home/administrator/Documenti/APDFT/prototyping/hessian/AAFF/Libs')\n",
    "from aaff import aaff,alc_deriv_grad_nuc,alc_differential_grad_nuc\n",
    "from Morse import Morse_interpolator,harm_freq,mpa\n",
    "from FDcoeffs import *\n",
    "from FcMole import FcM,FcM_like\n",
    "from AP_class import APDFT_perturbator\n",
    "from ABSE import absec"
   ]
  },
  {
   "cell_type": "code",
   "execution_count": 3,
   "metadata": {},
   "outputs": [],
   "source": [
    "import pyscf.data\n",
    "import pandas as pd"
   ]
  },
  {
   "cell_type": "code",
   "execution_count": 4,
   "metadata": {},
   "outputs": [],
   "source": [
    "def bernyopt(name,mol):\n",
    "    geom=Geometry([name[0],name[1]],mol.atom_coords()*bohr2ang)\n",
    "    return Berny(geom)"
   ]
  },
  {
   "cell_type": "code",
   "execution_count": 5,
   "metadata": {},
   "outputs": [],
   "source": [
    "def appHess(name,mol):\n",
    "    return bernyopt(name,mol)._state.H[0,0]"
   ]
  },
  {
   "cell_type": "code",
   "execution_count": 6,
   "metadata": {},
   "outputs": [],
   "source": [
    "co_min=(2.08272, -112.78661621869807)\n",
    "nn_min=(2.01389, -108.98906407528155)\n",
    "bf_min=(2.35348, -124.16243198073053)\n",
    "pcx2=bse.get_basis(\"pcX-2\",fmt=\"nwchem\",elements=[5,6,7,8,9])"
   ]
  },
  {
   "cell_type": "code",
   "execution_count": 7,
   "metadata": {},
   "outputs": [],
   "source": [
    "CO=gto.M(atom=\"C 0 0 0; O 0 0 2.08272\",unit=\"Bohr\",basis=pcx2)\n",
    "NN=gto.M(atom=\"N 0 0 0; N 0 0 2.01389\",unit=\"Bohr\",basis=pcx2)\n",
    "BF=gto.M(atom=\"B 0 0 0; F 0 0 2.35348\",unit=\"Bohr\",basis=pcx2)"
   ]
  },
  {
   "cell_type": "code",
   "execution_count": 8,
   "metadata": {},
   "outputs": [
    {
     "name": "stdout",
     "output_type": "stream",
     "text": [
      "converged SCF energy = -112.786616218695\n",
      "converged SCF energy = -108.989064075281\n",
      "converged SCF energy = -124.162431980725\n"
     ]
    },
    {
     "data": {
      "text/plain": [
       "-124.16243198072524"
      ]
     },
     "execution_count": 8,
     "metadata": {},
     "output_type": "execute_result"
    }
   ],
   "source": [
    "COhf=scf.RHF(CO)\n",
    "NNhf=scf.RHF(NN)\n",
    "BFhf=scf.RHF(BF)\n",
    "COhf.scf()\n",
    "NNhf.scf()\n",
    "BFhf.scf()"
   ]
  },
  {
   "cell_type": "code",
   "execution_count": 9,
   "metadata": {},
   "outputs": [],
   "source": [
    "#dm01=COhf.make_rdm1()\n",
    "COscanpts=np.linspace(1.8,2.6,31)\n",
    "#COscan=[]\n",
    "#for x in COscanpts:\n",
    "#    mol=gto.M(atom=\"C 0 0 0; O 0 0 {}\".format(x),unit=\"Bohr\",basis=pcx2,verbose=0)\n",
    "#    mf=scf.RHF(mol)\n",
    "#    COscan.append(mf.scf(dm0=dm01))\n",
    "#    dm01=mf.make_rdm1()"
   ]
  },
  {
   "cell_type": "code",
   "execution_count": 10,
   "metadata": {},
   "outputs": [],
   "source": [
    "#dm01=BFhf.make_rdm1()\n",
    "BFscanpts=np.linspace(2.,2.8,31)\n",
    "#BFscan=[]\n",
    "#for x in BFscanpts:\n",
    "#    mol=gto.M(atom=\"B 0 0 0; F 0 0 {}\".format(x),unit=\"Bohr\",basis=pcx2,verbose=0)\n",
    "#    mf=scf.RHF(mol)\n",
    "#    BFscan.append(mf.scf(dm0=dm01))\n",
    "#    dm01=mf.make_rdm1()"
   ]
  },
  {
   "cell_type": "code",
   "execution_count": 11,
   "metadata": {},
   "outputs": [],
   "source": [
    "#dm01=NNhf.make_rdm1()\n",
    "NNscanpts=np.linspace(1.7,2.4,31)\n",
    "#NNscan=[]\n",
    "#for x in NNscanpts:\n",
    "#    mol=gto.M(atom=\"N 0 0 0; N 0 0 {}\".format(x),unit=\"Bohr\",basis=pcx2,verbose=0)\n",
    "#    mf=scf.RHF(mol)\n",
    "#    NNscan.append(mf.scf(dm0=dm01))\n",
    "#    dm01=mf.make_rdm1()"
   ]
  },
  {
   "cell_type": "code",
   "execution_count": 12,
   "metadata": {},
   "outputs": [],
   "source": [
    "#np.save(\"scandiatomics\",np.asarray([NNscan,COscan,BFscan]))\n",
    "NNscan,COscan,BFscan=np.load(\"scandiatomics.npy\")"
   ]
  },
  {
   "cell_type": "code",
   "execution_count": 13,
   "metadata": {},
   "outputs": [],
   "source": [
    "def e_scan(mol,pt):\n",
    "    if mol==\"CO\": return spline(COscanpts,COscan,pt)\n",
    "    if mol==\"BF\": return spline(BFscanpts,BFscan,pt)\n",
    "    if mol==\"NN\": return spline(NNscanpts,NNscan,pt)"
   ]
  },
  {
   "cell_type": "code",
   "execution_count": 14,
   "metadata": {},
   "outputs": [
    {
     "name": "stderr",
     "output_type": "stream",
     "text": [
      "/home/administrator/anaconda3/lib/python3.7/site-packages/ipykernel_launcher.py:1: DeprecationWarning: `spline` is deprecated!\n",
      "spline is deprecated in scipy 0.19.0, use Bspline class instead.\n",
      "  \"\"\"Entry point for launching an IPython kernel.\n"
     ]
    },
    {
     "data": {
      "text/plain": [
       "array(-112.75844033)"
      ]
     },
     "execution_count": 14,
     "metadata": {},
     "output_type": "execute_result"
    }
   ],
   "source": [
    "spline(COscanpts,COscan,2.3)"
   ]
  },
  {
   "cell_type": "code",
   "execution_count": 15,
   "metadata": {},
   "outputs": [],
   "source": [
    "bde={\"bf\":uffbde,\\\n",
    "    \"co_bf\":uffbde*3,\\\n",
    "    \"co_nn\":uffbde*3,\\\n",
    "    \"nn\":uffbde*3,\\\n",
    "}"
   ]
  },
  {
   "cell_type": "code",
   "execution_count": 16,
   "metadata": {},
   "outputs": [],
   "source": [
    "# derivatives of the gradient and the hessian from af and FD\n",
    "dl=0.1\n",
    "c5=get_coeffs(5)\n",
    "def hoad(mol):\n",
    "    afs=[]\n",
    "    hs=[]\n",
    "    for i in range(-2,3):\n",
    "        mol1=FcM_like(mol,fcs=[i*dl,-i*dl])\n",
    "        mf=scf.RHF(mol1)\n",
    "        mf.scf(dm0=mf.init_guess_by_1e())\n",
    "        afs.append(aaff(mf,[1,-1])[1,2])\n",
    "        hs.append(mf.Hessian().hess()[1,1,2,2])\n",
    "    gders=[afs[2],c5[1].dot(afs)/dl,c5[2].dot(afs)/dl**2,c5[3].dot(afs)/dl**3,c5[4].dot(afs)/dl**4]\n",
    "    hders=[hs[2],c5[1].dot(hs)/dl,c5[2].dot(hs)/dl**2,c5[3].dot(hs)/dl**3,c5[4].dot(hs)/dl**4]\n",
    "    return np.asarray(gders),np.asarray(hders)"
   ]
  },
  {
   "cell_type": "code",
   "execution_count": 17,
   "metadata": {},
   "outputs": [],
   "source": [
    "def ep(mol,dz):\n",
    "    dz=np.asarray(dz)\n",
    "    eps=[]\n",
    "    ad=[]\n",
    "    mf=scf.RHF(mol)\n",
    "    mf.scf(dm0=mf.init_guess_by_1e())\n",
    "    ap=APDFT_perturbator(mf,sites=[0,1])\n",
    "    ap.build_all()\n",
    "    eps.append(ap.APDFT1(dz))\n",
    "    eps.append(ap.APDFT2(dz))\n",
    "    eps.append(ap.APDFT3(dz))\n",
    "    ad.append(np.einsum(\"ijk,i,j,k\",ap.cubic_hessian,dz,dz,dz))\n",
    "    for i in [-1,1]:\n",
    "        mol1=FcM_like(mol,fcs=[i*dl,-i*dl])\n",
    "        mf=scf.RHF(mol1)\n",
    "        mf.scf(dm0=mf.init_guess_by_1e())\n",
    "        ap=APDFT_perturbator(mf,sites=[0,1])\n",
    "        ap.build_all()\n",
    "        ad.append(np.einsum(\"ijk,i,j,k\",ap.cubic_hessian,dz,dz,dz))\n",
    "    eps.append(eps[-1]+(ad[2]-ad[1])/2/dl/24)\n",
    "    eps.append(eps[-1]+(ad[2]+ad[1]-2*ad[0])/dl**2/120)\n",
    "    return np.asarray(eps)"
   ]
  },
  {
   "cell_type": "code",
   "execution_count": 18,
   "metadata": {},
   "outputs": [
    {
     "name": "stdout",
     "output_type": "stream",
     "text": [
      "converged SCF energy = -108.989064075282\n"
     ]
    },
    {
     "name": "stderr",
     "output_type": "stream",
     "text": [
      "/home/administrator/anaconda3/lib/python3.7/site-packages/pyscf/gto/mole.py:1072: UserWarning: Function mol.dumps drops attribute with_rinv_at_nucleus because it is not JSON-serializable\n",
      "  warnings.warn(msg)\n"
     ]
    },
    {
     "name": "stdout",
     "output_type": "stream",
     "text": [
      "converged SCF energy = -109.02699241248\n",
      "converged SCF energy = -109.02699241248\n",
      "converged SCF energy = -124.162431980726\n",
      "converged SCF energy = -125.71407409587\n",
      "converged SCF energy = -122.68467322445\n"
     ]
    }
   ],
   "source": [
    "#epco_nn=ep(CO,[1,-1])\n",
    "#epco_bf=ep(CO,[-1,1])\n",
    "#epbf_co=ep(BF,[1,-1])\n",
    "#epnn_co=ep(NN,[1,-1])\n",
    "epnn_bf=ep(NN,[2,-2])\n",
    "epbf_nn=ep(BF,[2,-2])"
   ]
  },
  {
   "cell_type": "code",
   "execution_count": 19,
   "metadata": {},
   "outputs": [
    {
     "data": {
      "text/plain": [
       "array([ -93.86773845, -108.64435069, -108.91767756, -108.92943773,\n",
       "       -108.92678521])"
      ]
     },
     "execution_count": 19,
     "metadata": {},
     "output_type": "execute_result"
    }
   ],
   "source": [
    "epbf_nn"
   ]
  },
  {
   "cell_type": "code",
   "execution_count": 20,
   "metadata": {},
   "outputs": [],
   "source": [
    "#mol1=FcM_like(CO,fcs=[1,-1])\n",
    "#mf=scf.RHF(mol1)\n",
    "#mf.scf(dm0=mf.init_guess_by_1e())"
   ]
  },
  {
   "cell_type": "code",
   "execution_count": 21,
   "metadata": {},
   "outputs": [],
   "source": [
    "#gderCO,hderCO=hoad(CO)\n",
    "#gderBF,hderBF=hoad(BF)\n",
    "#gderNN,hderNN=hoad(NN)\n",
    "#np.save(\"./Diatomics_derivs\",np.asarray([gderCO,hderCO,gderBF,hderBF,gderNN,hderNN]))"
   ]
  },
  {
   "cell_type": "code",
   "execution_count": 22,
   "metadata": {},
   "outputs": [],
   "source": [
    "#gderCO=np.load(\"./Diatomics_derivs.npy\")[0]\n",
    "#hderCO=np.load(\"./Diatomics_derivs.npy\")[1]\n",
    "#gderBF=np.load(\"./Diatomics_derivs.npy\")[2]\n",
    "#hderBF=np.load(\"./Diatomics_derivs.npy\")[3]\n",
    "#gderNN=np.load(\"./Diatomics_derivs.npy\")[4]\n",
    "#hderNN=np.load(\"./Diatomics_derivs.npy\")[5]"
   ]
  },
  {
   "cell_type": "code",
   "execution_count": 23,
   "metadata": {},
   "outputs": [],
   "source": [
    "#gpco_nn=[gderCO[0]+alc_deriv_grad_nuc(CO,[1,-1])[1,2],\n",
    "#        gderCO[0]+gderCO[1]/2+alc_differential_grad_nuc(CO,[1,-1])[1,2],\n",
    "#         gderCO[0]+gderCO[1]/2+gderCO[2]/6+alc_differential_grad_nuc(CO,[1,-1])[1,2],\n",
    "#        gderCO[0]+gderCO[1]/2+gderCO[2]/6+gderCO[3]/24+alc_differential_grad_nuc(CO,[1,-1])[1,2],\n",
    "#        gderCO[0]+gderCO[1]/2+gderCO[2]/6+gderCO[3]/24+gderCO[4]/120+alc_differential_grad_nuc(CO,[1,-1])[1,2]]"
   ]
  },
  {
   "cell_type": "code",
   "execution_count": 24,
   "metadata": {},
   "outputs": [],
   "source": [
    "#hpco_nn=[hderCO[0],\n",
    "#         hderCO[0]+hderCO[1],\n",
    "#         hderCO[0]+hderCO[1]+hderCO[2]/2,\n",
    "#         hderCO[0]+hderCO[1]+hderCO[2]/2+hderCO[3]/6,\n",
    "#         hderCO[0]+hderCO[1]+hderCO[2]/2+hderCO[3]/6+hderCO[4]/24]"
   ]
  },
  {
   "cell_type": "code",
   "execution_count": 26,
   "metadata": {},
   "outputs": [],
   "source": [
    "#gpco_bf=[-gderCO[0]+alc_deriv_grad_nuc(CO,[-1,1])[1,2],\n",
    "#    -gderCO[0]+gderCO[1]/2+alc_differential_grad_nuc(CO,[-1,1])[1,2],\n",
    "#    -gderCO[0]+gderCO[1]/2-gderCO[2]/6+alc_differential_grad_nuc(CO,[-1,1])[1,2],\n",
    "#    -gderCO[0]+gderCO[1]/2-gderCO[2]/6+gderCO[3]/24+alc_differential_grad_nuc(CO,[-1,1])[1,2],\n",
    "#    -gderCO[0]+gderCO[1]/2-gderCO[2]/6+gderCO[3]/24-gderCO[4]/120+alc_differential_grad_nuc(CO,[-1,1])[1,2]]"
   ]
  },
  {
   "cell_type": "code",
   "execution_count": 27,
   "metadata": {},
   "outputs": [],
   "source": [
    "#hpco_bf=[hderCO[0],\n",
    "#         hderCO[0]-hderCO[1],\n",
    "#         hderCO[0]-hderCO[1]+hderCO[2]/2,\n",
    "#         hderCO[0]-hderCO[1]+hderCO[2]/2-hderCO[3]/6,\n",
    "#         hderCO[0]-hderCO[1]+hderCO[2]/2-hderCO[3]/6+hderCO[4]/24]"
   ]
  },
  {
   "cell_type": "code",
   "execution_count": 28,
   "metadata": {},
   "outputs": [],
   "source": [
    "#gpbf_co=[gderBF[0]+alc_deriv_grad_nuc(BF,[1,-1])[1,2],\n",
    "#         gderBF[0]+gderBF[1]/2+alc_differential_grad_nuc(BF,[1,-1])[1,2],\n",
    "#         gderBF[0]+gderBF[1]/2+gderBF[2]/6+alc_differential_grad_nuc(BF,[1,-1])[1,2],\n",
    "#         gderBF[0]+gderBF[1]/2+gderBF[2]/6+gderBF[3]/24+alc_differential_grad_nuc(BF,[1,-1])[1,2],\n",
    "#         gderBF[0]+gderBF[1]/2+gderBF[2]/6+gderBF[3]/24+gderBF[4]/120+alc_differential_grad_nuc(BF,[1,-1])[1,2]]"
   ]
  },
  {
   "cell_type": "code",
   "execution_count": 29,
   "metadata": {},
   "outputs": [],
   "source": [
    "#hpbf_co=[hderBF[0],\n",
    "#         hderBF[0]+hderBF[1],\n",
    "#         hderBF[0]+hderBF[1]+hderBF[2]/2,\n",
    "#         hderBF[0]+hderBF[1]+hderBF[2]/2+hderBF[3]/6,\n",
    "#         hderBF[0]+hderBF[1]+hderBF[2]/2+hderBF[3]/6+hderBF[4]/24]"
   ]
  },
  {
   "cell_type": "code",
   "execution_count": 30,
   "metadata": {},
   "outputs": [],
   "source": [
    "#gpbf_nn=[gderBF[0]*2+alc_deriv_grad_nuc(BF,[2,-2])[1,2],\n",
    "#         gderBF[0]*2+gderBF[1]/2*4+alc_differential_grad_nuc(BF,[2,-2])[1,2],\n",
    "#         gderBF[0]*2+gderBF[1]/2*4+gderBF[2]/6*8+alc_differential_grad_nuc(BF,[2,-2])[1,2],\n",
    "#         gderBF[0]*2+gderBF[1]/2*4+gderBF[2]/6*8+gderBF[3]/24*16+alc_differential_grad_nuc(BF,[2,-2])[1,2],\n",
    "#         gderBF[0]*2+gderBF[1]/2*4+gderBF[2]/6*8+gderBF[3]/24*16+gderBF[4]/120*32+alc_differential_grad_nuc(BF,[2,-2])[1,2]]"
   ]
  },
  {
   "cell_type": "code",
   "execution_count": 31,
   "metadata": {},
   "outputs": [],
   "source": [
    "#hpbf_nn=[hderBF[0],\n",
    "#         hderBF[0]+hderBF[1]*2,\n",
    "#         hderBF[0]+hderBF[1]*2+hderBF[2]/2*4,\n",
    "#         hderBF[0]+hderBF[1]*2+hderBF[2]/2*4+hderBF[3]/6*8,\n",
    "#         hderBF[0]+hderBF[1]*2+hderBF[2]/2*4+hderBF[3]/6*8+hderBF[4]/24*16]"
   ]
  },
  {
   "cell_type": "code",
   "execution_count": 33,
   "metadata": {},
   "outputs": [],
   "source": [
    "#gpnn_co=[gderNN[0]+alc_deriv_grad_nuc(NN,[1,-1])[1,2],\n",
    "#         gderNN[0]+gderNN[1]/2+alc_differential_grad_nuc(NN,[1,-1])[1,2],\n",
    "#         gderNN[0]+gderNN[1]/2+gderNN[2]/6+alc_differential_grad_nuc(NN,[1,-1])[1,2],\n",
    "#         gderNN[0]+gderNN[1]/2+gderNN[2]/6+gderNN[3]/24+alc_differential_grad_nuc(NN,[1,-1])[1,2],\n",
    "#         gderNN[0]+gderNN[1]/2+gderNN[2]/6+gderNN[3]/24+gderNN[4]/120+alc_differential_grad_nuc(NN,[1,-1])[1,2]]"
   ]
  },
  {
   "cell_type": "code",
   "execution_count": 34,
   "metadata": {},
   "outputs": [],
   "source": [
    "#hpnn_co=[hderNN[0],\n",
    "#         hderNN[0]+hderNN[1],\n",
    "#         hderNN[0]+hderNN[1]+hderNN[2]/2,\n",
    "#         hderNN[0]+hderNN[1]+hderNN[2]/2+hderNN[3]/6,\n",
    "#         hderNN[0]+hderNN[1]+hderNN[2]/2+hderNN[3]/6+hderNN[4]/24]"
   ]
  },
  {
   "cell_type": "code",
   "execution_count": 35,
   "metadata": {},
   "outputs": [],
   "source": [
    "#gpnn_bf=[gderNN[0]*2+alc_deriv_grad_nuc(NN,[2,-2])[1,2],\n",
    "#         gderNN[0]*2+gderNN[1]/2*4+alc_differential_grad_nuc(NN,[2,-2])[1,2],\n",
    "#         gderNN[0]*2+gderNN[1]/2*4+gderNN[2]/6*8+alc_differential_grad_nuc(NN,[2,-2])[1,2],\n",
    "#         gderNN[0]*2+gderNN[1]/2*4+gderNN[2]/6*8+gderNN[3]/24*16+alc_differential_grad_nuc(NN,[2,-2])[1,2],\n",
    "#         gderNN[0]*2+gderNN[1]/2*4+gderNN[2]/6*8+gderNN[3]/24*16+gderNN[4]/120*32+alc_differential_grad_nuc(NN,[2,-2])[1,2]]"
   ]
  },
  {
   "cell_type": "code",
   "execution_count": 36,
   "metadata": {},
   "outputs": [],
   "source": [
    "#hpnn_bf=[hderNN[0],\n",
    "#         hderNN[0]+hderNN[1]*2,\n",
    "#         hderNN[0]+hderNN[1]*2+hderNN[2]/2*4,\n",
    "#         hderNN[0]+hderNN[1]*2+hderNN[2]/2*4+hderNN[3]/6*8,\n",
    "#         hderNN[0]+hderNN[1]*2+hderNN[2]/2*4+hderNN[3]/6*8+hderNN[4]/24*16]"
   ]
  },
  {
   "cell_type": "code",
   "execution_count": 68,
   "metadata": {},
   "outputs": [
    {
     "name": "stdout",
     "output_type": "stream",
     "text": [
      "-109.0494 1.761 1490\n"
     ]
    }
   ],
   "source": [
    "def quad_app(e,g,h,m,an):\n",
    "    print(np.round( e-g**2/h/2,decimals=4),np.round(m[0]-g/h,decimals=3),\\\n",
    "               int(np.round(harm_freq(h,*an),decimals=0)))"
   ]
  },
  {
   "cell_type": "code",
   "execution_count": 75,
   "metadata": {},
   "outputs": [],
   "source": [
    "#np.save(\"predictionsdiatomics\",np.asarray([epbf_co,gpbf_co,hpbf_co,epco_nn,gpco_nn,hpco_nn,\\\n",
    "#epco_bf,gpco_bf,hpco_bf,epnn_co,gpnn_co,hpnn_co,epbf_nn,gpbf_nn,hpbf_nn,epnn_bf,gpnn_bf,hpnn_bf]))"
   ]
  },
  {
   "cell_type": "code",
   "execution_count": 76,
   "metadata": {},
   "outputs": [],
   "source": [
    "predictions=np.load(\"predictionsdiatomics.npy\")\n",
    "epbf_co=predictions[0]\n",
    "gpbf_co=predictions[1]\n",
    "hpbf_co=predictions[2]\n",
    "epco_nn=predictions[3]\n",
    "gpco_nn=predictions[4]\n",
    "hpco_nn=predictions[5]\n",
    "epco_bf=predictions[6]\n",
    "gpco_bf=predictions[7]\n",
    "hpco_bf=predictions[8]\n",
    "epnn_co=predictions[9]\n",
    "gpnn_co=predictions[10]\n",
    "hpnn_co=predictions[11]\n",
    "epbf_nn=predictions[12]\n",
    "gpbf_nn=predictions[13]\n",
    "hpbf_nn=predictions[14]\n",
    "epnn_bf=predictions[15]\n",
    "gpnn_bf=predictions[16]\n",
    "pnn_bf=predictions[17]"
   ]
  },
  {
   "cell_type": "code",
   "execution_count": 65,
   "metadata": {},
   "outputs": [
    {
     "name": "stdout",
     "output_type": "stream",
     "text": [
      "APDFT2\n",
      "(2.5432926253791646, -124.29038482116263) 1233.2132826018285\n",
      "(2.132758402823305, -109.03200764643422) 5081.557282537594\n",
      "APDFT3\n",
      "(2.543292626619875, -124.25131293737606) 1233.2132807021903\n",
      "(2.0844411785730887, -109.02205576998445) 3509.75961660511\n",
      "APDFT4\n",
      "(2.3691758223964188, -124.20328369912444) 1440.164890361898\n",
      "(2.109845072968124, -108.99833001421781) 3130.369657869566\n"
     ]
    }
   ],
   "source": [
    "for i in range(1,4):\n",
    "    print(\"APDFT{}\".format(i+1))\n",
    "    mi = Morse_interpolator(gpnn_bf[i],hpnn_bf[i+1],nn_min[0],bde[\"bf\"],epnn_bf[i+1])\n",
    "    print(mi.minimum(),mi.hfd(5,9))\n",
    "    mi = Morse_interpolator(gpbf_nn[i],hpbf_nn[i+1],bf_min[0],bde[\"nn\"],epbf_nn[i+1])\n",
    "    print(mi.minimum(),mi.hfd(7,7))"
   ]
  },
  {
   "cell_type": "code",
   "execution_count": 73,
   "metadata": {},
   "outputs": [
    {
     "name": "stdout",
     "output_type": "stream",
     "text": [
      "APDFT2\n",
      "-124.2586 2.29 2676\n",
      "APDFT3\n",
      "-124.2195 2.29 2676\n",
      "APDFT4\n",
      "-124.1884 2.221 2678\n",
      "APDFT2\n",
      "-109.4238 0.813 1244\n",
      "APDFT3\n",
      "-109.1547 1.375 1274\n",
      "APDFT4\n",
      "-109.0494 1.761 1490\n"
     ]
    }
   ],
   "source": [
    "for i in range(1,4):\n",
    "    print(\"APDFT{}\".format(i+1))\n",
    "    quad_app(epnn_bf[i+1],gpnn_bf[i],hpnn_bf[i+1],nn_min,[5,9])\n",
    "for i in range(1,4):\n",
    "    print(\"APDFT{}\".format(i+1))\n",
    "    quad_app(epbf_nn[i+1],gpbf_nn[i],hpbf_nn[i+1],bf_min,[7,7])\n"
   ]
  },
  {
   "cell_type": "code",
   "execution_count": 58,
   "metadata": {},
   "outputs": [],
   "source": [
    "#for i in range(len(epco_bf)):\n",
    "#    epco_bf[i]+=absec(\"CO\",\"BF\")\n",
    "#for i in range(len(epbf_co)):\n",
    "#    epbf_co[i]+=absec(\"BF\",\"CO\")\n",
    "#for i in range(len(epco_nn)):\n",
    "#    epco_nn[i]+=absec(\"CO\",\"NN\")\n",
    "#for i in range(len(epnn_co)):\n",
    "#    epnn_co[i]+=absec(\"NN\",\"CO\")\n",
    "#for i in range(len(epnn_bf)):\n",
    "#    epnn_bf[i]+=absec(\"NN\",\"BF\")\n",
    "#for i in range(len(epbf_nn)):\n",
    "#    epbf_nn[i]+=absec(\"BF\",\"NN\")"
   ]
  },
  {
   "cell_type": "code",
   "execution_count": 45,
   "metadata": {},
   "outputs": [
    {
     "name": "stderr",
     "output_type": "stream",
     "text": [
      "/home/administrator/anaconda3/lib/python3.7/site-packages/ipykernel_launcher.py:3: DeprecationWarning: `spline` is deprecated!\n",
      "spline is deprecated in scipy 0.19.0, use Bspline class instead.\n",
      "  This is separate from the ipykernel package so we can avoid doing imports until\n",
      "/home/administrator/anaconda3/lib/python3.7/site-packages/ipykernel_launcher.py:2: DeprecationWarning: `spline` is deprecated!\n",
      "spline is deprecated in scipy 0.19.0, use Bspline class instead.\n",
      "  \n",
      "/home/administrator/anaconda3/lib/python3.7/site-packages/ipykernel_launcher.py:4: DeprecationWarning: `spline` is deprecated!\n",
      "spline is deprecated in scipy 0.19.0, use Bspline class instead.\n",
      "  after removing the cwd from sys.path.\n"
     ]
    },
    {
     "data": {
      "text/plain": [
       "<matplotlib.legend.Legend at 0x7fdd9c86ca90>"
      ]
     },
     "execution_count": 45,
     "metadata": {},
     "output_type": "execute_result"
    },
    {
     "data": {
      "image/png": "[encoded data removed]",
      "text/plain": [
       "<Figure size 864x864 with 4 Axes>"
      ]
     },
     "metadata": {
      "needs_background": "light"
     },
     "output_type": "display_data"
    }
   ],
   "source": [
    "fig, ((ax1, ax2), (ax3, ax4)) =plt.subplots(2,2,figsize=(12,12))\n",
    "lss=[\"--\",\":\",]\n",
    "ax1.set_title(\"from CO to BF\")\n",
    "scan=np.linspace(2.18,2.48,51)\n",
    "for i in range(1,4):\n",
    "    mi = Morse_interpolator(gpco_bf[i],hpco_bf[i+1],co_min[0],bde[\"bf\"],epco_bf[i+1])\n",
    "    ax1.scatter(*mi.minimum(),label=\"APF{}\".format(i+1))\n",
    "    ax1.plot(scan,mi.E(scan))\n",
    "ax1.scatter(*bf_min,label=\"BF minimum\")\n",
    "ax1.plot(scan,e_scan(\"BF\",scan))\n",
    "ax1.legend()\n",
    "#ax1.set_xlim(2.25,2.4)\n",
    "#ax1.set_ylim(ax1.get_ylim()[0]+0.009,ax1.get_ylim()[1]-0.008)\n",
    "#print(dir(ax1))\n",
    "#############################\n",
    "ax2.set_title(\"from BF to CO\")\n",
    "ax2.yaxis.set_tick_params(labelleft=False,labelright=True)\n",
    "scan=np.linspace(2.0,2.2,51)\n",
    "for i in range(1,4):\n",
    "    mi = Morse_interpolator(gpbf_co[i],hpbf_co[i+1],bf_min[0],bde[\"co_bf\"],epbf_co[i+1])\n",
    "    ax2.scatter(*mi.minimum(),label=\"APF{}\".format(i+1))\n",
    "    ax2.plot(scan,mi.E(scan))\n",
    "ax2.scatter(*co_min,label=\"CO minimum\")\n",
    "ax2.plot(scan,e_scan(\"CO\",scan))\n",
    "ax2.legend() \n",
    "###############################\n",
    "ax3.set_title(\"from CO to NN\")\n",
    "scan=np.linspace(1.9,2.1,51)\n",
    "for i in range(1,4):\n",
    "    mi = Morse_interpolator(gpco_nn[i],hpco_nn[i+1],co_min[0],bde[\"nn\"],epco_nn[i])\n",
    "    ax3.scatter(*mi.minimum(),label=\"APF{}\".format(i+1))\n",
    "    ax3.plot(scan,mi.E(scan))\n",
    "ax3.scatter(*nn_min,label=\"NN minimum\")\n",
    "ax3.plot(scan,e_scan(\"NN\",scan))\n",
    "ax3.legend() \n",
    "##############################\n",
    "ax4.set_title(\"from NN to CO\")\n",
    "ax4.yaxis.set_tick_params(labelleft=False,labelright=True)\n",
    "scan=np.linspace(2.0,2.2,51)\n",
    "for i in [1,3]:\n",
    "    mi = Morse_interpolator(gpnn_co[i],hpnn_co[i+1],nn_min[0],bde[\"co_nn\"],epnn_co[i])\n",
    "    ax4.scatter(*mi.minimum(),label=\"APF{}\".format(i+1))\n",
    "    ax4.plot(scan,mi.E(scan))\n",
    "ax4.scatter(*co_min,label=\"CO minimum\")\n",
    "ax4.plot(scan,e_scan(\"CO\",scan))\n",
    "ax4.legend()\n",
    "#plt.savefig(\"diatomics.png\",bbox_inches=\"tight\")"
   ]
  },
  {
   "cell_type": "code",
   "execution_count": 46,
   "metadata": {},
   "outputs": [
    {
     "data": {
      "text/plain": [
       "array([-108.99376457, -112.78664718, -112.78664718, -112.78176319,\n",
       "       -112.78176319])"
      ]
     },
     "execution_count": 46,
     "metadata": {},
     "output_type": "execute_result"
    }
   ],
   "source": [
    "epnn_co"
   ]
  },
  {
   "cell_type": "code",
   "execution_count": 47,
   "metadata": {},
   "outputs": [
    {
     "data": {
      "text/plain": [
       "(2.08272, -112.78661621869807)"
      ]
     },
     "execution_count": 47,
     "metadata": {},
     "output_type": "execute_result"
    }
   ],
   "source": [
    "co_min"
   ]
  },
  {
   "cell_type": "code",
   "execution_count": 48,
   "metadata": {},
   "outputs": [
    {
     "name": "stdout",
     "output_type": "stream",
     "text": [
      "converged SCF energy = -112.777015615484\n"
     ]
    },
    {
     "data": {
      "text/plain": [
       "-112.77701561548446"
      ]
     },
     "execution_count": 48,
     "metadata": {},
     "output_type": "execute_result"
    }
   ],
   "source": [
    "thf=scf.RHF(FcM_like(NN,fcs=[1,-1]))\n",
    "thf.scf(dm0=thf.init_guess_by_1e())"
   ]
  },
  {
   "cell_type": "code",
   "execution_count": 49,
   "metadata": {},
   "outputs": [],
   "source": [
    "scanpts2=np.linspace(1.7,2.8,31)\n",
    "#NNscan2=[]\n",
    "#COscan2=[]\n",
    "#BFscan2=[]\n",
    "#for x in scanpts2:\n",
    "#    mol=gto.M(atom=\"N 0 0 0; N 0 0 {}\".format(x),unit=\"Bohr\",basis=pcx2,verbose=0)\n",
    "#    mf=scf.RHF(mol)\n",
    "#    NNscan2.append(mf.scf())\n",
    "#    mol=gto.M(atom=\"C 0 0 0; O 0 0 {}\".format(x),unit=\"Bohr\",basis=pcx2,verbose=0)\n",
    "#    mf=scf.RHF(mol)\n",
    "#    COscan2.append(mf.scf())\n",
    "#    mol=gto.M(atom=\"B 0 0 0; F 0 0 {}\".format(x),unit=\"Bohr\",basis=pcx2,verbose=0)\n",
    "#    mf=scf.RHF(mol)\n",
    "#    BFscan2.append(mf.scf())\n",
    "#np.save(\"scan2diatomics\",np.asarray([NNscan2,COscan2,BFscan2]))"
   ]
  },
  {
   "cell_type": "code",
   "execution_count": 50,
   "metadata": {},
   "outputs": [],
   "source": [
    "NNscan2,COscan2,BFscan2=np.load(\"scan2diatomics.npy\")"
   ]
  },
  {
   "cell_type": "code",
   "execution_count": 51,
   "metadata": {},
   "outputs": [
    {
     "name": "stdout",
     "output_type": "stream",
     "text": [
      "1453.4636273636343 2406.9746499572184 1506.5153811794694\n",
      "2588.813677949486 1418.0780489521078 2429.508265705918\n",
      "2784.7954000771915 2411.4181301563694 2730.3566784452223\n",
      "morse 2388.524522361522 NR 2739.6691755747547 target 2429.508265705918\n"
     ]
    },
    {
     "data": {
      "image/png": "[encoded data removed]",
      "text/plain": [
       "<Figure size 432x432 with 1 Axes>"
      ]
     },
     "metadata": {
      "needs_background": "light"
     },
     "output_type": "display_data"
    }
   ],
   "source": [
    "plt.figure(figsize=(6,6))\n",
    "plt.plot(scanpts2,np.asarray(NNscan2)-min(NNscan2),lw=5,color=\"blue\")\n",
    "plt.plot(scanpts2,np.asarray(COscan2)-min(COscan2)-.15,lw=5,color=\"green\")\n",
    "plt.plot(scanpts2,np.asarray(BFscan2)-min(BFscan2)-.35,lw=5,color=\"C3\")\n",
    "\n",
    "i=2\n",
    "#co->bf\n",
    "mi = Morse_interpolator(gpco_bf[i],hpco_bf[i+1],co_min[0],bde[\"bf\"]\\\n",
    "                        ,epco_bf[i]-min(BFscan2)-.35)\n",
    "print(mi.hfd(5,9),harm_freq(hpco_bf[i+1],5,9),harm_freq(hderBF[0],5,9))\n",
    "plt.plot(scanpts2,mi.E(scanpts2),ls=\"--\",lw=3,color=\"green\")\n",
    "\n",
    "#bf->co\n",
    "mi = Morse_interpolator(gpbf_co[i],hpbf_co[i+1],bf_min[0],bde[\"co_bf\"],\\\n",
    "                        epbf_co[i]-min(COscan2)-.15)\n",
    "plt.plot(scanpts2,mi.E(scanpts2),ls=\"--\",lw=3,color=\"C3\")\n",
    "print(mi.hfd(6,8),harm_freq(hpbf_co[i+1],6,8),harm_freq(hderCO[0],6,8))\n",
    "\n",
    "#  co->nn\n",
    "mi = Morse_interpolator(gpco_nn[i],hpco_nn[i+1],co_min[0],bde[\"nn\"],\\\n",
    "                        epco_nn[i]-min(NNscan2))\n",
    "plt.plot(scanpts2,mi.E(scanpts2),ls=\"--\",lw=3,color=\"green\")\n",
    "print(mi.hfd(7,7),harm_freq(hpco_nn[i+1],7,7),harm_freq(hderNN[0],7,7))\n",
    "\n",
    "# nn->co\n",
    "mi = Morse_interpolator(gpnn_co[i],hpnn_co[i+1],nn_min[0],bde[\"co_nn\"],\\\n",
    "                        epnn_co[i]-min(COscan2)-.15)\n",
    "plt.plot(scanpts2,mi.E(scanpts2),ls=\"--\",lw=3,color=\"blue\")\n",
    "print(\"morse\",mi.hfd(6,8),\"NR\",harm_freq(hpnn_co[i+1],6,8),\"target\",harm_freq(hderCO[0],6,8))\n",
    "\n",
    "plt.arrow(co_min[0],-.15,0,epco_bf[i]-min(BFscan2)-.2 ,length_includes_head=True,\\\n",
    "          color=\"green\",lw=2,head_width=.015)\n",
    "plt.arrow(co_min[0],-.15,0,epco_nn[i]-min(NNscan2)+.15 ,length_includes_head=True,\\\n",
    "          color=\"green\",lw=2,head_width=.015)\n",
    "plt.arrow(nn_min[0],0.,0,epnn_co[i]-min(COscan2)-.15 ,length_includes_head=True,\\\n",
    "          color=\"blue\",lw=2,head_width=.015)\n",
    "plt.arrow(bf_min[0],-.35,0,epbf_co[i]-min(COscan2)+.2 ,length_includes_head=True,\\\n",
    "          color=\"C3\",lw=2,head_width=.015)\n",
    "\n",
    "plt.xlim(1.7,2.8)\n",
    "plt.ylim(-0.4,0.2)\n",
    "plt.text(2.65,0.11,\"N$_2$\",size=25,color=\"blue\")\n",
    "plt.text(2.65,-.1,\"CO\",size=25,color=\"green\")\n",
    "plt.text(2.65,-.38,\"BF\",size=25,color=\"C3\")\n",
    "plt.yticks([])\n",
    "plt.xticks(size=20)\n",
    "plt.xlabel(\"Bond distance [Bohr]\",size=20)\n",
    "plt.title(\"APDFT3 with Morse potential fitting\",size=20)\n",
    "plt.savefig(\"diatomics_scheme.png\",bbox_inc=\"Tight\")"
   ]
  },
  {
   "cell_type": "code",
   "execution_count": 52,
   "metadata": {},
   "outputs": [
    {
     "data": {
      "text/plain": [
       "[array([-109.0184803 , -112.71263336, -112.74679921, -112.74826923,\n",
       "        -112.74793767]),\n",
       " array([0.26677747, 0.29137599, 0.26499772, 0.26048561, 0.25940357]),\n",
       " array([0.59158882, 0.53805323, 0.51945098, 0.5219488 , 0.53185219]),\n",
       " array([-105.20021073, -108.97344318, -108.9934959 , -108.98869125,\n",
       "        -108.98823242]),\n",
       " array([0.22455568, 0.14553084, 0.11321999, 0.11968826, 0.12152897]),\n",
       " array([1.53201985, 1.55370336, 1.54712035, 1.54073842, 1.54492391]),\n",
       " array([-120.38228151, -124.15551397, -124.13546124, -124.1402659 ,\n",
       "        -124.14072472]),\n",
       " array([-0.22455568, -0.30358052, -0.27126967, -0.2648014 , -0.26664211]),\n",
       " array([1.53201985, 1.51033635, 1.50375334, 1.51013527, 1.51432075]),\n",
       " array([-108.99376457, -112.78664718, -112.78664718, -112.78176319,\n",
       "        -112.78176319]),\n",
       " array([-2.86320479e-13, -1.29057851e-01, -1.29057851e-01, -1.21040505e-01,\n",
       "        -1.21040505e-01]),\n",
       " array([1.97525258, 1.97525258, 1.94815667, 1.94815667, 1.94830662])]"
      ]
     },
     "execution_count": 52,
     "metadata": {},
     "output_type": "execute_result"
    }
   ],
   "source": [
    "[epbf_co,gpbf_co,hpbf_co,epco_nn,gpco_nn,hpco_nn,epco_bf,gpco_bf,hpco_bf,epnn_co,gpnn_co,hpnn_co]"
   ]
  },
  {
   "cell_type": "code",
   "execution_count": 53,
   "metadata": {},
   "outputs": [
    {
     "data": {
      "text/plain": [
       "12"
      ]
     },
     "execution_count": 53,
     "metadata": {},
     "output_type": "execute_result"
    }
   ],
   "source": [
    "len(predictions)"
   ]
  },
  {
   "cell_type": "code",
   "execution_count": 54,
   "metadata": {},
   "outputs": [],
   "source": [
    "q=[]\n",
    "#co->bf\n",
    "\n",
    "for i in [1,2,3]:\n",
    "    mi = Morse_interpolator(gpco_bf[i],hpco_bf[i+1],co_min[0],bde[\"bf\"],epco_bf[i])\n",
    "    q.append({\"Molecule\" :\"CO $\\rightarrow$ BF APDFT{}\".format(i+1),\"energy minimum\": np.round(mi.minimum()[1],decimals=4),\\\n",
    "             \"distance minimum\": np.round(mi.minimum()[0],decimals=3),\"harm freq\":int(np.round(mi.hfd(5,9),decimals=0))} )\n",
    "q.append({\"Molecule\" :\"true BF\",\"energy minimum\": np.round(bf_min[1],decimals=4),\"distance minimum\": \\\n",
    "          np.round(bf_min[0],decimals=3),\"harm freq\":int(np.round(harm_freq(hderBF[0],6,8),decimals=0))} )\n",
    "\n",
    "#bf->co\n",
    "for i in [1,2,3]:\n",
    "    mi = Morse_interpolator(gpbf_co[i],hpbf_co[i+1],bf_min[0],bde[\"co_bf\"],epbf_co[i])\n",
    "    q.append({\"Molecule\" :\"BF $\\rightarrow$ CO APDFT{}\".format(i+1),\"energy minimum\": np.round(mi.minimum()[1],decimals=4),\\\n",
    "             \"distance minimum\": np.round(mi.minimum()[0],decimals=3),\"harm freq\":int(np.round(mi.hfd(6,8),decimals=0))} )\n",
    "# nn->co\n",
    "for i in [1,3]:\n",
    "    mi = Morse_interpolator(gpnn_co[i],hpnn_co[i+1],nn_min[0],bde[\"co_nn\"],epnn_co[i])\n",
    "    q.append({\"Molecule\" :\"N$_2$ $\\rightarrow$ CO APDFT{}\".format(i+1),\"energy minimum\": np.round(mi.minimum()[1],decimals=4),\\\n",
    "             \"distance minimum\": np.round(mi.minimum()[0],decimals=3),\"harm freq\":int(np.round(mi.hfd(6,8),decimals=0))})\n",
    "q.append({\"Molecule\" :\"true CO\",\"energy minimum\": np.round(co_min[1],decimals=4),\"distance minimum\": \\\n",
    "          np.round(co_min[0],decimals=3),\"harm freq\":int(np.round(harm_freq(hderCO[0],6,8),decimals=0))} )\n",
    "\n",
    "#  co->nn\n",
    "for i in [1,2,3]:\n",
    "    mi = Morse_interpolator(gpco_nn[i],hpco_nn[i+1],co_min[0],bde[\"nn\"],epco_nn[i])\n",
    "    q.append({\"Molecule\" :\"CO $\\rightarrow$ N$_2$ APDFT{}\".format(i+1),\"energy minimum\": np.round(mi.minimum()[1],decimals=4),\\\n",
    "             \"distance minimum\": np.round(mi.minimum()[0],decimals=3),\"harm freq\":int(np.round(mi.hfd(7,7),decimals=0))})\n",
    "q.append({\"Molecule\" :\"true N$_2$\",\"energy minimum\": np.round(nn_min[1],decimals=4),\"distance minimum\": \\\n",
    "          np.round(nn_min[0],decimals=3),\"harm freq\":int(np.round(harm_freq(hderNN[0],6,8),decimals=0))} )\n"
   ]
  },
  {
   "cell_type": "code",
   "execution_count": 55,
   "metadata": {},
   "outputs": [
    {
     "name": "stdout",
     "output_type": "stream",
     "text": [
      "\\begin{tabular}{llrrr}\n",
      "\\toprule\n",
      "{} &                       Molecule &  distance minimum &  energy minimum &  harm freq \\\\\n",
      "\\midrule\n",
      "0  &     CO \\$\\textbackslash rightarrow\\$ BF APDFT2 &             2.412 &       -124.1965 &       1379 \\\\\n",
      "1  &     CO \\$\\textbackslash rightarrow\\$ BF APDFT3 &             2.364 &       -124.1674 &       1453 \\\\\n",
      "2  &     CO \\$\\textbackslash rightarrow\\$ BF APDFT4 &             2.354 &       -124.1704 &       1471 \\\\\n",
      "3  &                        true BF &             2.353 &       -124.1624 &       1510 \\\\\n",
      "4  &     BF \\$\\textbackslash rightarrow\\$ CO APDFT2 &             2.096 &       -112.7580 &       2744 \\\\\n",
      "5  &     BF \\$\\textbackslash rightarrow\\$ CO APDFT3 &             2.101 &       -112.7867 &       2589 \\\\\n",
      "6  &     BF \\$\\textbackslash rightarrow\\$ CO APDFT4 &             2.104 &       -112.7868 &       2572 \\\\\n",
      "7  &  N\\$\\_2\\$ \\$\\textbackslash rightarrow\\$ CO APDFT2 &             2.090 &       -112.7913 &       2389 \\\\\n",
      "8  &  N\\$\\_2\\$ \\$\\textbackslash rightarrow\\$ CO APDFT4 &             2.084 &       -112.7858 &       2408 \\\\\n",
      "9  &                        true CO &             2.083 &       -112.7866 &       2430 \\\\\n",
      "10 &  CO \\$\\textbackslash rightarrow\\$ N\\$\\_2\\$ APDFT2 &             2.005 &       -108.9794 &       2910 \\\\\n",
      "11 &  CO \\$\\textbackslash rightarrow\\$ N\\$\\_2\\$ APDFT3 &             2.019 &       -108.9973 &       2785 \\\\\n",
      "12 &  CO \\$\\textbackslash rightarrow\\$ N\\$\\_2\\$ APDFT4 &             2.017 &       -108.9929 &       2812 \\\\\n",
      "13 &                     true N\\$\\_2\\$ &             2.014 &       -108.9891 &       2759 \\\\\n",
      "\\bottomrule\n",
      "\\end{tabular}\n",
      "\n"
     ]
    }
   ],
   "source": [
    "pd.DataFrame(q)\n",
    "print(pd.DataFrame(q).to_latex())"
   ]
  },
  {
   "cell_type": "code",
   "execution_count": 56,
   "metadata": {},
   "outputs": [],
   "source": [
    "q2=[]\n",
    "#co->bf\n",
    "for i in [1,2,3]:\n",
    "    mi = Morse_interpolator(gpco_bf[i],hpco_bf[i+1],co_min[0],bde[\"bf\"],epco_bf[i])\n",
    "    q2.append({\"Molecule\" :\"CO $\\rightarrow$ BF APDFT{}\".format(i+1),\\\n",
    "                \"energy minimum\": np.round( epco_bf[i]-gpco_bf[i]**2/hpco_bf[i+1]/2,decimals=4),\\\n",
    "             \"distance minimum\": np.round(co_min[0]-gpco_bf[i]/hpco_bf[i+1],decimals=3),\\\n",
    "               \"harm freq\":int(np.round(harm_freq(hpco_bf[i+1],7,7),decimals=0))})\n",
    "q2.append({\"Molecule\" :\"true BF\",\"energy minimum\": np.round(bf_min[1],decimals=4),\"distance minimum\": \\\n",
    "          np.round(bf_min[0],decimals=3),\"harm freq\":int(np.round(harm_freq(hderBF[0],6,8),decimals=0))} )\n",
    "    \n",
    "\n",
    "#bf->co\n",
    "for i in [1,2,3]:\n",
    "    q2.append({\"Molecule\" :\"BF $\\rightarrow$ CO APDFT{}\".format(i+1),\n",
    "               \"energy minimum\": np.round( epbf_co[i]-gpbf_co[i]**2/hpbf_co[i+1]/2,decimals=4),\\\n",
    "             \"distance minimum\": np.round(bf_min[0]-gpbf_co[i]/hpbf_co[i+1],decimals=3),\\\n",
    "               \"harm freq\":int(np.round(harm_freq(hpbf_co[i+1],7,7),decimals=0))})\n",
    "# nn->co\n",
    "for i in [1,3]:\n",
    "    q2.append({\"Molecule\" :\"N$_2$ $\\rightarrow$ CO APDFT{}\".format(i+1),\\\n",
    "               \"energy minimum\": np.round( epnn_co[i]-gpnn_co[i]**2/hpnn_co[i+1]/2,decimals=4),\\\n",
    "             \"distance minimum\": np.round(nn_min[0]-gpnn_co[i]/hpnn_co[i+1],decimals=3),\\\n",
    "               \"harm freq\":int(np.round(harm_freq(hpnn_co[i+1],7,7),decimals=0))})\n",
    "q2.append({\"Molecule\" :\"true CO\",\"energy minimum\": np.round(co_min[1],decimals=4),\"distance minimum\": \\\n",
    "          np.round(co_min[0],decimals=3),\"harm freq\":int(np.round(harm_freq(hderCO[0],6,8),decimals=0))} )\n",
    "\n",
    "\n",
    "#  co->nn\n",
    "for i in [1,2,3]:\n",
    "    q2.append({\"Molecule\" :\"CO $\\rightarrow$ N$_2$ APDFT{}\".format(i+1),\\\n",
    "               \"energy minimum\": np.round( epco_nn[i]-gpco_nn[i]**2/hpco_nn[i+1]/2,decimals=4),\\\n",
    "             \"distance minimum\": np.round(co_min[0]-gpco_nn[i]/hpco_nn[i+1],decimals=3),\\\n",
    "               \"harm freq\":int(np.round(harm_freq(hpco_nn[i+1],7,7),decimals=0))})\n",
    "q2.append({\"Molecule\" :\"true N$_2$\",\"energy minimum\": np.round(nn_min[1],decimals=4),\"distance minimum\": \\\n",
    "          np.round(nn_min[0],decimals=3),\"harm freq\":int(np.round(harm_freq(hderNN[0],6,8),decimals=0))} )"
   ]
  },
  {
   "cell_type": "code",
   "execution_count": 57,
   "metadata": {},
   "outputs": [
    {
     "name": "stdout",
     "output_type": "stream",
     "text": [
      "\\begin{tabular}{llrrr}\n",
      "\\toprule\n",
      "{} &                       Molecule &  distance minimum &  energy minimum &  harm freq \\\\\n",
      "\\midrule\n",
      "0  &     CO \\$\\textbackslash rightarrow\\$ BF APDFT2 &             2.285 &       -124.1862 &       2382 \\\\\n",
      "1  &     CO \\$\\textbackslash rightarrow\\$ BF APDFT3 &             2.262 &       -124.1598 &       2387 \\\\\n",
      "2  &     CO \\$\\textbackslash rightarrow\\$ BF APDFT4 &             2.258 &       -124.1634 &       2391 \\\\\n",
      "3  &                        true BF &             2.353 &       -124.1624 &       1510 \\\\\n",
      "4  &     BF \\$\\textbackslash rightarrow\\$ CO APDFT2 &             1.793 &       -112.7944 &       1400 \\\\\n",
      "5  &     BF \\$\\textbackslash rightarrow\\$ CO APDFT3 &             1.846 &       -112.8141 &       1404 \\\\\n",
      "6  &     BF \\$\\textbackslash rightarrow\\$ CO APDFT4 &             1.864 &       -112.8121 &       1417 \\\\\n",
      "7  &  N\\$\\_2\\$ \\$\\textbackslash rightarrow\\$ CO APDFT2 &             2.080 &       -112.7909 &       2712 \\\\\n",
      "8  &  N\\$\\_2\\$ \\$\\textbackslash rightarrow\\$ CO APDFT4 &             2.076 &       -112.7855 &       2712 \\\\\n",
      "9  &                        true CO &             2.083 &       -112.7866 &       2430 \\\\\n",
      "10 &  CO \\$\\textbackslash rightarrow\\$ N\\$\\_2\\$ APDFT2 &             1.989 &       -108.9803 &       2416 \\\\\n",
      "11 &  CO \\$\\textbackslash rightarrow\\$ N\\$\\_2\\$ APDFT3 &             2.009 &       -108.9977 &       2411 \\\\\n",
      "12 &  CO \\$\\textbackslash rightarrow\\$ N\\$\\_2\\$ APDFT4 &             2.005 &       -108.9933 &       2415 \\\\\n",
      "13 &                     true N\\$\\_2\\$ &             2.014 &       -108.9891 &       2759 \\\\\n",
      "\\bottomrule\n",
      "\\end{tabular}\n",
      "\n"
     ]
    }
   ],
   "source": [
    "print(pd.DataFrame(q2).to_latex())"
   ]
  },
  {
   "cell_type": "code",
   "execution_count": null,
   "metadata": {},
   "outputs": [],
   "source": []
  }
 ],
 "metadata": {
  "kernelspec": {
   "display_name": "Python 3",
   "language": "python",
   "name": "python3"
  },
  "language_info": {
   "codemirror_mode": {
    "name": "ipython",
    "version": 3
   },
   "file_extension": ".py",
   "mimetype": "text/x-python",
   "name": "python",
   "nbconvert_exporter": "python",
   "pygments_lexer": "ipython3",
   "version": "3.7.3"
  }
 },
 "nbformat": 4,
 "nbformat_minor": 2
}
