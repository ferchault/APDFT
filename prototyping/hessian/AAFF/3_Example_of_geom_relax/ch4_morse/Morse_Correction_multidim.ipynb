{
 "cells": [
  {
   "cell_type": "code",
   "execution_count": 1,
   "metadata": {},
   "outputs": [],
   "source": [
    "from pyscf import gto,scf\n",
    "import numpy as np \n",
    "from numpy.linalg import norm as norm\n",
    "from scipy.spatial.transform import Rotation as R\n",
    "import matplotlib.pyplot as plt\n",
    "from pyscf.grad import rhf as grhf\n",
    "from pyscf.hessian import rhf as hrhf\n",
    "import basis_set_exchange as bse\n",
    "from pyscf.geomopt.berny_solver import optimize\n",
    "from berny import Berny, geomlib,Geometry,Math\n",
    "import berny.coords\n",
    "import sys\n",
    "sys.path.append(\"/home/administrator/Documenti/APDFT/prototyping/hessian/AAFF/Libs/\")\n",
    "from aaff import aaff,alc_deriv_grad_nuc,alc_differential_grad_nuc\n",
    "from FcMole import FcM,FcM_like\n",
    "from alch_deriv import alch_deriv\n",
    "from Morse import mpa, Morse_interpolator\n",
    "from AP_class import APDFT_perturbator as AP\n",
    "from FDcoeffs import *\n",
    "from ABSE import absec\n",
    "ang2bohr=1.8897261246\n",
    "bohr2ang=.5291772109"
   ]
  },
  {
   "cell_type": "code",
   "execution_count": 2,
   "metadata": {},
   "outputs": [],
   "source": [
    "def nr_step(ic,g,h):\n",
    "    ncoords=ic.shape[0]*ic.shape[1]\n",
    "    p1cds=ic-np.linalg.solve((np.swapaxes(h,1,2)).reshape(ncoords,ncoords),g.reshape(-1)).reshape(ic.shape[0],ic.shape[1])\n",
    "    p1cds-=p1cds[0]\n",
    "    print (norm(p1cds[1]))\n",
    "    if p1cds.shape[0]>2:\n",
    "        print (anglecenter(p1cds),anglecenter(p1cds)*np.pi/180)\n",
    "    return(p1cds)"
   ]
  },
  {
   "cell_type": "code",
   "execution_count": 42,
   "metadata": {},
   "outputs": [],
   "source": [
    "def build_h_ic(s,g_ic,h0,B_inv):\n",
    "    geom0=s.geom.copy()\n",
    "    B=s.coords.B_matrix(geom0)\n",
    "    bms=[]\n",
    "    for i in range(geom0.coords.flatten().shape[0]):\n",
    "        a=geom0.coords.flatten()\n",
    "        geom1=geom0.copy()\n",
    "        a[i]+=.001*bohr2ang\n",
    "        a=a.reshape(geom0.coords.shape)\n",
    "        geom1.coords=a\n",
    "        bms.append((s.coords.B_matrix(geom1)-B)*1000)\n",
    "    bms_arr=np.asarray(bms)\n",
    "    BpG2=np.einsum('ijk,j->ik',bms,g_ic)\n",
    "    h_ic=B_inv.T@(h0-BpG2)@B_inv\n",
    "    return h_ic\n",
    "\n",
    "ebde=100/627.5 # empirical bond dissociation energy 100 kcal\n",
    "\n",
    "def mpa_pb(coords,atoml,g,h,e,gic=False,ghost=[]):\n",
    "    g=np.asarray(g)\n",
    "    if not len(h.shape)==2:\n",
    "        h=h.swapaxes(1,2)\n",
    "        h=h.reshape(g.shape[0]*3,g.shape[0]*3)\n",
    "    geom0=Geometry(atoml,coords*bohr2ang)\n",
    "    bernyobj=Berny(geom0)\n",
    "    s=bernyobj._state\n",
    "    B = s.coords.B_matrix(geom0)\n",
    "    q0=s.coords.eval_geom(geom0)\n",
    "    B_inv = B.T.dot(Math.pinv(np.dot(B, B.T)))\n",
    "    if not gic:\n",
    "        g_ic=np.dot(B_inv.T, (g).reshape(-1))\n",
    "    else:\n",
    "        g_ic=g\n",
    "    h_ic=build_h_ic(s,g_ic,h,B_inv)\n",
    "    bnr=0\n",
    "    dde_mb=0\n",
    "    ddq_mb=np.zeros_like(q0)\n",
    "    for i in range(len(s.coords._coords)):\n",
    "        if s.coords._coords[i].__class__ is berny.coords.Bond:\n",
    "            bnr+=1\n",
    "            if s.coords._coords[i].i not in ghost and s.coords._coords[i].j not in ghost:\n",
    "                MorseInt=Morse_interpolator(g_ic[i],h_ic[i,i],q0[i],ebde,e)\n",
    "                ddq_mb[i]+=MorseInt.re+g_ic[i]/h_ic[i,i]-q0[i]\n",
    "                dde_mb+=MorseInt.e_min-e+1/2*h_ic[i,i]*(MorseInt.re-q0[i])**2\n",
    "\n",
    "    dq_NR=-np.linalg.solve(h_ic,g_ic)\n",
    "    ddq_mb[bnr:]=np.linalg.solve(h_ic[bnr:,bnr:],-h_ic[bnr:,:bnr]@(ddq_mb[:bnr]))\n",
    "    dq_tot=dq_NR+ddq_mb\n",
    "    en_MB=(e-1/2*np.einsum(\"i,ij,j\",dq_tot,h_ic,dq_tot)+dde_mb)\n",
    "    e_NR=(e-1/2*np.einsum(\"i,ij,j\",dq_tot,h_ic,dq_tot))\n",
    "    print (s.coords._coords)\n",
    "    return q0,q0+dq_tot,en_MB,e_NR"
   ]
  },
  {
   "cell_type": "code",
   "execution_count": 24,
   "metadata": {},
   "outputs": [],
   "source": [
    "ch4coords,nh3optg,oh2optg,hfoptg=np.load(\"../optgeoms.npy\")\n",
    "nh3=gto.M(atom=\"N \"+str(nh3optg[0])[1:-1]+\";H \"+str(nh3optg[1])[1:-1]+\";H \"+str(nh3optg[2])[1:-1]+\n",
    "          \";H \"+str(nh3optg[3])[1:-1],basis={\"H\":\"pc-2\",'N':bse.get_basis(\"pcX-2\",fmt=\"nwchem\",elements=[7])},unit=\"Bohr\")\n"
   ]
  },
  {
   "cell_type": "code",
   "execution_count": 13,
   "metadata": {},
   "outputs": [
    {
     "name": "stdout",
     "output_type": "stream",
     "text": [
      "converged SCF energy = -56.2221836146944\n"
     ]
    },
    {
     "data": {
      "text/plain": [
       "-56.22218361469435"
      ]
     },
     "execution_count": 13,
     "metadata": {},
     "output_type": "execute_result"
    }
   ],
   "source": [
    "scf.RHF(nh3).scf()"
   ]
  },
  {
   "cell_type": "code",
   "execution_count": 14,
   "metadata": {},
   "outputs": [],
   "source": [
    "nh3_2=gto.M(atom=\"N 0. 0. 0.;H 3.90982817e-13 3.71707821e-01 1.84851805e+00; H  1.52736243  0.80139969 -0.76164836;H -1.52736243  0.80139969 -0.76164836\",\n",
    "          basis={\"H\":\"pc-2\",'N':bse.get_basis(\"pcX-2\",fmt=\"nwchem\",elements=[7])},unit=\"Bohr\")\n",
    "\n",
    "mf=scf.RHF(nh3_2)"
   ]
  },
  {
   "cell_type": "code",
   "execution_count": 15,
   "metadata": {},
   "outputs": [
    {
     "name": "stdout",
     "output_type": "stream",
     "text": [
      "converged SCF energy = -56.2221836146943\n"
     ]
    },
    {
     "data": {
      "text/plain": [
       "-56.22218361469432"
      ]
     },
     "execution_count": 15,
     "metadata": {},
     "output_type": "execute_result"
    }
   ],
   "source": [
    "mf.scf()"
   ]
  },
  {
   "cell_type": "code",
   "execution_count": 34,
   "metadata": {},
   "outputs": [],
   "source": [
    "nh3_2=gto.M(atom=\"N 0. 0. 0.;H 0 3.91707821e-01 2.0e+00; H  2  0.70139969 -0.76164836;H -1.7  0.40139969 -0.56164836\",\n",
    "          basis={\"H\":\"pc-2\",'N':bse.get_basis(\"pcX-2\",fmt=\"nwchem\",elements=[7])},unit=\"Bohr\")\n",
    "\n",
    "mf=scf.RHF(nh3_2)"
   ]
  },
  {
   "cell_type": "code",
   "execution_count": 35,
   "metadata": {},
   "outputs": [
    {
     "name": "stdout",
     "output_type": "stream",
     "text": [
      "converged SCF energy = -56.1794279051978\n",
      "--------------- RHF gradients ---------------\n",
      "         x                y                z\n",
      "0 N    -0.1171399144    -0.0114869805    -0.0684129468\n",
      "1 H    -0.0047093709     0.0120154107     0.0592830557\n",
      "2 H     0.1125993926     0.0216071530    -0.0229335607\n",
      "3 H     0.0092498926    -0.0221355831     0.0320634517\n",
      "----------------------------------------------\n"
     ]
    }
   ],
   "source": [
    "e_0=mf.scf()\n",
    "g_0=mf.Gradients().grad()\n",
    "h_0=mf.Hessian().hess()"
   ]
  },
  {
   "cell_type": "code",
   "execution_count": 40,
   "metadata": {},
   "outputs": [
    {
     "name": "stdout",
     "output_type": "stream",
     "text": [
      "[Bond(0, 1, weak=0), Bond(0, 2, weak=0), Bond(0, 3, weak=0), Angle(1, 0, 2, weak=0), Angle(1, 0, 3, weak=0), Angle(2, 0, 3, weak=0)]\n"
     ]
    },
    {
     "data": {
      "text/plain": [
       "(array([2.0379978 , 2.25212561, 1.83482168, 1.84629428, 1.83211043,\n",
       "        2.27988418]),\n",
       " array([1.88738495, 2.01318295, 1.87306585, 1.84673394, 1.87640548,\n",
       "        1.59337029]),\n",
       " -56.225426356938286,\n",
       " -56.20834670072265)"
      ]
     },
     "execution_count": 40,
     "metadata": {},
     "output_type": "execute_result"
    }
   ],
   "source": [
    "mpa_pb(nh3_2.atom_coords(),['N','H','H','H'],g_0,h_0,e_0)"
   ]
  },
  {
   "cell_type": "code",
   "execution_count": 43,
   "metadata": {},
   "outputs": [
    {
     "name": "stdout",
     "output_type": "stream",
     "text": [
      "[Bond(0, 1, weak=0), Bond(0, 2, weak=0), Bond(0, 3, weak=0), Angle(1, 0, 2, weak=0), Angle(1, 0, 3, weak=0), Angle(2, 0, 3, weak=0)]\n"
     ]
    },
    {
     "data": {
      "text/plain": [
       "(array([2.0379978 , 2.25212561, 1.83482168, 1.84629428, 1.83211043,\n",
       "        2.27988418]),\n",
       " array([1.88738495, 2.01318295, 1.87306585, 1.84673394, 1.87640548,\n",
       "        1.59337029]),\n",
       " -56.225426356938286,\n",
       " -56.2452574991359)"
      ]
     },
     "execution_count": 43,
     "metadata": {},
     "output_type": "execute_result"
    }
   ],
   "source": [
    "mpa_pb(nh3_2.atom_coords(),['N','H','H','H'],g_0,h_0,e_0)"
   ]
  },
  {
   "cell_type": "code",
   "execution_count": 32,
   "metadata": {},
   "outputs": [
    {
     "name": "stdout",
     "output_type": "stream",
     "text": [
      "[Bond(0, 1, weak=0), Bond(0, 2, weak=0), Bond(0, 3, weak=0), Angle(1, 0, 2, weak=0), Angle(1, 0, 3, weak=0), Angle(2, 0, 3, weak=0)]\n"
     ]
    },
    {
     "data": {
      "text/plain": [
       "(array([1.88552   , 1.88552   , 1.88552   , 1.88833539, 1.88833539,\n",
       "        1.88846925]),\n",
       " array([1.76039051, 1.86731482, 2.09824834, 1.76346751, 1.7776079 ,\n",
       "        1.27459116]),\n",
       " -56.226137857055015,\n",
       " -56.22362283186789)"
      ]
     },
     "execution_count": 32,
     "metadata": {},
     "output_type": "execute_result"
    }
   ],
   "source": [
    "mpa_pb(nh3.atom_coords(),['N','H','H','H'],g_0,h_0,e_0)"
   ]
  },
  {
   "cell_type": "code",
   "execution_count": null,
   "metadata": {},
   "outputs": [],
   "source": []
  }
 ],
 "metadata": {
  "kernelspec": {
   "display_name": "Python 3",
   "language": "python",
   "name": "python3"
  },
  "language_info": {
   "codemirror_mode": {
    "name": "ipython",
    "version": 3
   },
   "file_extension": ".py",
   "mimetype": "text/x-python",
   "name": "python",
   "nbconvert_exporter": "python",
   "pygments_lexer": "ipython3",
   "version": "3.7.3"
  }
 },
 "nbformat": 4,
 "nbformat_minor": 2
}
