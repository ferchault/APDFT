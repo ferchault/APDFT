{
 "cells": [
  {
   "cell_type": "code",
   "execution_count": 1,
   "metadata": {},
   "outputs": [],
   "source": [
    "from aaff import aaff,alc_deriv_grad_nuc,alc_differential_grad_nuc\n",
    "from FcMole import FcM\n",
    "from alch_deriv import alch_deriv\n",
    "from pyscf import gto,scf\n",
    "import numpy as np\n",
    "import ipyvolume as ipv\n",
    "from numpy.linalg import norm as norm\n",
    "from scipy.optimize import  minimize\n",
    "from scipy.spatial.transform import Rotation as R\n",
    "import matplotlib.pyplot as plt\n",
    "from mpl_toolkits import mplot3d\n",
    "from pyscf.grad import rhf as grhf\n",
    "from pyscf.hessian import rhf as hrhf\n",
    "import basis_set_exchange as bse\n",
    "from FDcoeffs import *\n",
    "from pyscf.geomopt.berny_solver import optimize\n",
    "ang2bohr=1.8897261246\n",
    "bohr2ang=.5291772109"
   ]
  },
  {
   "cell_type": "code",
   "execution_count": 60,
   "metadata": {},
   "outputs": [],
   "source": [
    "from berny import Berny, geomlib, coords,Geometry"
   ]
  },
  {
   "cell_type": "code",
   "execution_count": 2,
   "metadata": {},
   "outputs": [
    {
     "name": "stdout",
     "output_type": "stream",
     "text": [
      "converged SCF energy = -100.065540168732\n"
     ]
    },
    {
     "data": {
      "text/plain": [
       "-100.06554016873241"
      ]
     },
     "execution_count": 2,
     "metadata": {},
     "output_type": "execute_result"
    }
   ],
   "source": [
    "HF=gto.M(atom=\"F 0 0 0;H 0 0 1.695741\",unit=\"bohr\",\n",
    "            basis={\"H\":\"pc-2\",'F':bse.get_basis(\"pcX-2\",fmt=\"nwchem\",elements=[9])})\n",
    "mfhf = scf.RHF(HF)\n",
    "mfhf.scf()"
   ]
  },
  {
   "cell_type": "code",
   "execution_count": 3,
   "metadata": {},
   "outputs": [],
   "source": [
    "dm=mfhf.make_rdm1()"
   ]
  },
  {
   "cell_type": "code",
   "execution_count": 5,
   "metadata": {},
   "outputs": [],
   "source": [
    "def Vne(coords,mol=HF,dm=dm):\n",
    "    mol.set_rinv_orig_(coords)\n",
    "    dV=mol.intor('int1e_rinv')\n",
    "    return -np.einsum('ij,ij',dV,dm)"
   ]
  },
  {
   "cell_type": "code",
   "execution_count": 69,
   "metadata": {},
   "outputs": [],
   "source": [
    "dL=[-1,0,0,0] #-1 charge central atom\n",
    "def Vnn(coords,mol=HF):\n",
    "    Vnn=0\n",
    "    for i in range (mol.natm):\n",
    "        Vnn+= (mol.atom_charge(i)+dL[i])/np.linalg.norm(coords-mol.atom_coord(i))\n",
    "    return Vnn"
   ]
  },
  {
   "cell_type": "code",
   "execution_count": 7,
   "metadata": {},
   "outputs": [
    {
     "data": {
      "text/plain": [
       "6.072918030765468"
      ]
     },
     "execution_count": 7,
     "metadata": {},
     "output_type": "execute_result"
    }
   ],
   "source": [
    "Vnn([0,.5,-1.3],HF)"
   ]
  },
  {
   "cell_type": "code",
   "execution_count": 9,
   "metadata": {},
   "outputs": [],
   "source": [
    "def Vtot(coords,mol=HF,dm=dm):\n",
    "    return Vnn(coords,mol)+Vne(coords,mol,dm)\n"
   ]
  },
  {
   "cell_type": "code",
   "execution_count": 11,
   "metadata": {},
   "outputs": [],
   "source": [
    "def Vtot_fl(angle,mol=HF,dm=dm):\n",
    "    coords=np.asarray([0,np.sin(angle),np.cos(angle)])*1.695741\n",
    "    return Vtot(coords,mol=HF,dm=dm)"
   ]
  },
  {
   "cell_type": "code",
   "execution_count": 45,
   "metadata": {},
   "outputs": [
    {
     "data": {
      "text/plain": [
       "119.57807446314582"
      ]
     },
     "execution_count": 45,
     "metadata": {},
     "output_type": "execute_result"
    }
   ],
   "source": [
    "prot_angle=minimize(Vtot_fl,1.8).x[0]\n",
    "prot_angle*180/np.pi"
   ]
  },
  {
   "cell_type": "code",
   "execution_count": 46,
   "metadata": {},
   "outputs": [
    {
     "data": {
      "text/plain": [
       "2.0870311125768453"
      ]
     },
     "execution_count": 46,
     "metadata": {},
     "output_type": "execute_result"
    }
   ],
   "source": [
    "prot_angle"
   ]
  },
  {
   "cell_type": "code",
   "execution_count": 47,
   "metadata": {},
   "outputs": [
    {
     "data": {
      "text/plain": [
       "array([ 0.        ,  1.47475862, -0.83703319])"
      ]
     },
     "execution_count": 47,
     "metadata": {},
     "output_type": "execute_result"
    }
   ],
   "source": [
    "prot_site=np.array([0.,np.sin(prot_angle),np.cos(prot_angle)])*1.695741\n",
    "prot_site"
   ]
  },
  {
   "cell_type": "code",
   "execution_count": 139,
   "metadata": {},
   "outputs": [
    {
     "data": {
      "text/plain": [
       "(1.551075762750464, 118.42168311645113)"
      ]
     },
     "execution_count": 139,
     "metadata": {},
     "output_type": "execute_result"
    }
   ],
   "source": [
    "prot_site=minimize(Vtot,[0,.5,-1.3]).x\n",
    "norm(prot_site),np.arccos(prot_site[2]/norm(prot_site))*180/np.pi"
   ]
  },
  {
   "cell_type": "code",
   "execution_count": 140,
   "metadata": {},
   "outputs": [],
   "source": [
    "def dVne(coords,mol=HF,dm=dm):\n",
    "    mol.set_rinv_orig_(coords)\n",
    "    vrinv = -mol.intor('int1e_iprinv', comp=3)\n",
    "    vrinv += vrinv.transpose(0,2,1)\n",
    "    return np.einsum('xij,ij->x',vrinv,dm)"
   ]
  },
  {
   "cell_type": "code",
   "execution_count": 141,
   "metadata": {},
   "outputs": [
    {
     "data": {
      "text/plain": [
       "array([ 9.86049182e-14,  1.38257692e+00, -3.72835980e+00])"
      ]
     },
     "execution_count": 141,
     "metadata": {},
     "output_type": "execute_result"
    }
   ],
   "source": [
    "dVne([0,.5,-1.3])"
   ]
  },
  {
   "cell_type": "code",
   "execution_count": 142,
   "metadata": {},
   "outputs": [
    {
     "data": {
      "text/plain": [
       "-0.0037267647027503514"
      ]
     },
     "execution_count": 142,
     "metadata": {},
     "output_type": "execute_result"
    }
   ],
   "source": [
    "Vne([0,.5,-1.3],HF,dm)-Vne([0.,.5,-1.301],HF,dm)"
   ]
  },
  {
   "cell_type": "code",
   "execution_count": 143,
   "metadata": {},
   "outputs": [],
   "source": [
    "#fig=plt.figure(figsize=(20, 10))\n",
    "##ax = plt.axes(projection=’3d’)\n",
    "#ax =fig.add_subplot(111, projection='3d')\n",
    "#ax.plot_surface(X, Y, Z, rstride=1, cstride=1,cmap=\"terrain\" ,edgecolor=None)\n",
    "#ax.set(xlabel='x', ylabel='y', zlabel='Energy',title=\"Probing PES for protonation\")"
   ]
  },
  {
   "cell_type": "code",
   "execution_count": 144,
   "metadata": {},
   "outputs": [],
   "source": [
    "#from matplotlib import cm\n",
    "#colormap = cm.coolwarm\n",
    "#znorm = Z - Z.min()\n",
    "#znorm /= znorm.ptp()\n",
    "#znorm.min(), znorm.max()\n",
    "#color = colormap(znorm)"
   ]
  },
  {
   "cell_type": "code",
   "execution_count": 145,
   "metadata": {},
   "outputs": [],
   "source": [
    "#ipv.figure()\n",
    "#mesh = ipv.plot_surface(X, Y, 100*Z, color=color[...,:3])\n",
    "#ipv.show()"
   ]
  },
  {
   "cell_type": "code",
   "execution_count": 146,
   "metadata": {},
   "outputs": [
    {
     "data": {
      "text/plain": [
       "array([ 7.47877000e-07,  1.36412230e+00, -7.38245477e-01])"
      ]
     },
     "execution_count": 146,
     "metadata": {},
     "output_type": "execute_result"
    }
   ],
   "source": [
    "prot_site"
   ]
  },
  {
   "cell_type": "markdown",
   "metadata": {},
   "source": [
    "# How to develop the basis functions or do none.\n"
   ]
  },
  {
   "cell_type": "code",
   "execution_count": 147,
   "metadata": {},
   "outputs": [
    {
     "name": "stdout",
     "output_type": "stream",
     "text": [
      "System: uname_result(system='Linux', node='ubuntudesk', release='4.15.0-134-generic', version='#138-Ubuntu SMP Fri Jan 15 10:52:18 UTC 2021', machine='x86_64', processor='x86_64')  Threads 4\n",
      "Python 3.7.3 (default, Mar 27 2019, 22:11:17) \n",
      "[GCC 7.3.0]\n",
      "numpy 1.16.2  scipy 1.2.1\n",
      "Date: Tue Mar 16 17:31:58 2021\n",
      "PySCF version 1.7.5.1\n",
      "PySCF path  /home/administrator/anaconda3/lib/python3.7/site-packages/pyscf\n",
      "\n",
      "[CONFIG] conf_file None\n",
      "[INPUT] verbose = 4\n",
      "[INPUT] num. atoms = 3\n",
      "[INPUT] num. electrons = 10\n",
      "[INPUT] charge = 1\n",
      "[INPUT] spin (= nelec alpha-beta = 2S) = 0\n",
      "[INPUT] symmetry False subgroup None\n",
      "[INPUT] Mole.unit = bohr\n",
      "[INPUT]  1 F      0.000000000000   0.000000000000   0.000000000000 AA    0.000000000000   0.000000000000   0.000000000000 Bohr\n",
      "[INPUT]  2 H      0.000000000000   0.000000000000   0.897347492823 AA    0.000000000000   0.000000000000   1.695741000000 Bohr\n",
      "[INPUT]  3 H      0.000000395759   0.721862431884  -0.390662682271 AA    0.000000747877   1.364122295874  -0.738245476581 Bohr\n",
      "\n",
      "nuclear repulsion = 11.4682382388528\n",
      "number of shells = 25\n",
      "number of NR pGTOs = 79\n",
      "number of NR cGTOs = 73\n",
      "basis = {'H': 'pc-2', 'F': '#----------------------------------------------------------------------\\n# Basis Set Exchange\\n# Version v0.8.13\\n# https://www.basissetexchange.org\\n#----------------------------------------------------------------------\\n#   Basis set: pcX-2\\n# Description: Jensen pcX basis set optimized for core-spectroscopy\\n#        Role: orbital\\n#     Version: 1  (Data from Frank Jensen)\\n#----------------------------------------------------------------------\\n\\n\\nBASIS \"ao basis\" PRINT\\n#BASIS SET: (10s,6p,2d,1f) -> [10s,6p,2d,1f]\\nF    S\\n      0.213716E+05           1.0000000\\nF    S\\n      0.320554E+04           1.0000000\\nF    S\\n      0.729661E+03           1.0000000\\nF    S\\n      0.206541E+03           1.0000000\\nF    S\\n      0.670014E+02           1.0000000\\nF    S\\n      0.237046E+02           1.0000000\\nF    S\\n      0.872059E+01           1.0000000\\nF    S\\n      0.251266E+01           1.0000000\\nF    S\\n      0.957745E+00           1.0000000\\nF    S\\n      0.316719E+00           1.0000000\\nF    P\\n      0.868290E+02           1.0000000\\nF    P\\n      0.201245E+02           1.0000000\\nF    P\\n      0.606765E+01           1.0000000\\nF    P\\n      0.207018E+01           1.0000000\\nF    P\\n      0.690226E+00           1.0000000\\nF    P\\n      0.206329E+00           1.0000000\\nF    D\\n      0.289828E+01           1.0000000\\nF    D\\n      0.824621E+00           1.0000000\\nF    F\\n      0.124900E+01           1.0000000\\nEND\\n'}\n",
      "ecp = {}\n",
      "CPU time:       128.69\n"
     ]
    }
   ],
   "source": [
    "pHF=FcM(fcs=[0,0,-1],atom=\"F 0 0 0;H 0 0 1.695741; H {} {} {}\".format(prot_site[0],prot_site[1],prot_site[2]),unit=\"bohr\",\n",
    "          basis={\"H\":\"pc-2\",'F':bse.get_basis(\"pcX-2\",fmt=\"nwchem\",elements=[9])},charge=1,verbose=4)\n",
    "pHF.charge=0"
   ]
  },
  {
   "cell_type": "code",
   "execution_count": 148,
   "metadata": {},
   "outputs": [
    {
     "data": {
      "text/plain": [
       "(array([9., 1., 0.]), (5, 5))"
      ]
     },
     "execution_count": 148,
     "metadata": {},
     "output_type": "execute_result"
    }
   ],
   "source": [
    "pHF.atom_charges(),pHF.nelec"
   ]
  },
  {
   "cell_type": "code",
   "execution_count": 149,
   "metadata": {},
   "outputs": [],
   "source": [
    "pHFmf=scf.RHF(pHF)\n",
    "#pHFmf.build()"
   ]
  },
  {
   "cell_type": "code",
   "execution_count": 150,
   "metadata": {},
   "outputs": [],
   "source": [
    "pHFmf.mo_occ=np.zeros(pHF.nao)\n",
    "pHFmf.mo_occ[:HF.nao]=mfhf.mo_occ\n",
    "pHFmf.mo_energy=np.zeros(pHF.nao)\n",
    "pHFmf.mo_energy[:HF.nao]=mfhf.mo_energy\n",
    "pHFmf.mo_coeff=np.zeros([pHF.nao,pHF.nao])\n",
    "pHFmf.mo_coeff[:HF.nao,:HF.nao]=mfhf.mo_coeff"
   ]
  },
  {
   "cell_type": "code",
   "execution_count": 151,
   "metadata": {},
   "outputs": [
    {
     "data": {
      "text/plain": [
       "array([[ 0.0000000e+00,  0.0000000e+00,  0.0000000e+00, ...,\n",
       "         0.0000000e+00,  0.0000000e+00,  0.0000000e+00],\n",
       "       [ 0.0000000e+00,  0.0000000e+00,  0.0000000e+00, ...,\n",
       "         0.0000000e+00,  0.0000000e+00,  0.0000000e+00],\n",
       "       [ 0.0000000e+00,  0.0000000e+00,  0.0000000e+00, ...,\n",
       "         0.0000000e+00,  0.0000000e+00,  0.0000000e+00],\n",
       "       ...,\n",
       "       [ 0.0000000e+00,  0.0000000e+00,  0.0000000e+00, ...,\n",
       "         0.0000000e+00,  0.0000000e+00,  0.0000000e+00],\n",
       "       [ 0.0000000e+00,  0.0000000e+00,  0.0000000e+00, ...,\n",
       "         0.0000000e+00,  0.0000000e+00,  0.0000000e+00],\n",
       "       [ 0.0000000e+00,  0.0000000e+00,  0.0000000e+00, ...,\n",
       "         0.0000000e+00,  0.0000000e+00, -4.3790577e-47]])"
      ]
     },
     "execution_count": 151,
     "metadata": {},
     "output_type": "execute_result"
    }
   ],
   "source": [
    "pHFmf.make_rdm1()[:HF.nao,:HF.nao]-dm"
   ]
  },
  {
   "cell_type": "code",
   "execution_count": 152,
   "metadata": {},
   "outputs": [],
   "source": [
    "af=aaff(pHFmf,[-1,0,1])+alc_deriv_grad_nuc(pHF,[-1,0,1])"
   ]
  },
  {
   "cell_type": "code",
   "execution_count": 153,
   "metadata": {},
   "outputs": [],
   "source": [
    "phfc=pHF.atom_coords()*bohr2ang\n",
    "pbg=Geometry(['O','H','H'],phfc)\n",
    "b=Berny(pbg,debug=True)"
   ]
  },
  {
   "cell_type": "code",
   "execution_count": 154,
   "metadata": {},
   "outputs": [
    {
     "data": {
      "text/plain": [
       "{'geom': <Geometry 'H2O'>,\n",
       " 'params': {'gradientmax': 0.00045,\n",
       "  'gradientrms': 0.00015,\n",
       "  'stepmax': 0.0018,\n",
       "  'steprms': 0.0012,\n",
       "  'trust': 0.3,\n",
       "  'dihedral': True,\n",
       "  'superweakdih': False},\n",
       " 'trust': 0.3,\n",
       " 'coords': <InternalCoords \"bonds: 2, angles: 1, dihedrals: 0\">,\n",
       " 'H': array([[0.54502214, 0.        , 0.        ],\n",
       "        [0.        , 0.58393728, 0.        ],\n",
       "        [0.        , 0.        , 0.23574722]]),\n",
       " 'weights': array([1.21116031, 1.2976384 , 1.12068171]),\n",
       " 'future': Point(q=array([1.72184667, 1.84993781, 2.06685717]), E=None, g=None),\n",
       " 'first': False,\n",
       " 'interpolated': Point(q=array([1.695741  , 1.55107576, 2.06684828]), E=-100.06554016873241, g=array([-3.52923448e-02, -4.15661736e-01, -9.46906798e-06])),\n",
       " 'predicted': Point(q=array([1.72184674, 1.84993775, 2.06685736]), E=-100.16442307891194, g=None),\n",
       " 'previous': Point(q=array([1.695741  , 1.55107576, 2.06684828]), E=-100.06554016873241, g=array([-3.52923448e-02, -4.15661736e-01, -9.46906798e-06])),\n",
       " 'best': Point(q=array([1.695741  , 1.55107576, 2.06684828]), E=-100.06554016873241, g=array([-3.52923448e-02, -4.15661736e-01, -9.46906798e-06]))}"
      ]
     },
     "execution_count": 154,
     "metadata": {},
     "output_type": "execute_result"
    }
   ],
   "source": [
    "b.send((mfhf.e_tot,af))"
   ]
  },
  {
   "cell_type": "code",
   "execution_count": 64,
   "metadata": {},
   "outputs": [],
   "source": [
    "q=np.array([1.72184679, 1.84993778, 2.06685607])  # bd H1_O,bd H2_O, angle (H-O-H) -- Bohr,radians"
   ]
  },
  {
   "cell_type": "code",
   "execution_count": 65,
   "metadata": {},
   "outputs": [
    {
     "data": {
      "text/plain": [
       "(1.6957409999672617, 1.6957409999672617, 2.0870311125768453)"
      ]
     },
     "execution_count": 65,
     "metadata": {},
     "output_type": "execute_result"
    }
   ],
   "source": [
    "norm(phfc[1])*ang2bohr,norm(phfc[2])*ang2bohr,np.arccos((phfc[1].dot(phfc[2])/norm(phfc[1])/norm(phfc[2])))"
   ]
  },
  {
   "cell_type": "code",
   "execution_count": 66,
   "metadata": {},
   "outputs": [
    {
     "data": {
      "text/plain": [
       "(array([[ 0.        ,  0.        ,  0.        ],\n",
       "        [ 0.        ,  0.        ,  0.89734749],\n",
       "        [ 0.        ,  0.78040865, -0.44293889]]),\n",
       " array([[ 0.        ,  0.        ,  0.        ],\n",
       "        [ 0.        ,  0.        ,  0.89734749],\n",
       "        [ 0.        ,  0.78040865, -0.44293889]]))"
      ]
     },
     "execution_count": 66,
     "metadata": {},
     "output_type": "execute_result"
    }
   ],
   "source": [
    "pbg.coords,phfc"
   ]
  },
  {
   "cell_type": "markdown",
   "metadata": {},
   "source": [
    "# H$_2$O"
   ]
  },
  {
   "cell_type": "code",
   "execution_count": 67,
   "metadata": {},
   "outputs": [
    {
     "name": "stdout",
     "output_type": "stream",
     "text": [
      "converged SCF energy = -76.0633193329876\n"
     ]
    }
   ],
   "source": [
    "OH2=gto.M(atom=\"O 0 0 0;H 0 -0.15229 1.76907; H 0   1.7401 -0.35319\",unit=\"bohr\",\n",
    "            basis={\"H\":\"pc-2\",'O':bse.get_basis(\"pcX-2\",fmt=\"nwchem\",elements=[8])})\n",
    "mfoh2 = scf.RHF(OH2)\n",
    "mfoh2.scf()\n",
    "dmoh2=mfoh2.make_rdm1()"
   ]
  },
  {
   "cell_type": "code",
   "execution_count": 161,
   "metadata": {},
   "outputs": [],
   "source": [
    "ps_h2o=minimize(Vtot,np.array([1.5,0,0]),args=(OH2,dmoh2)).x"
   ]
  },
  {
   "cell_type": "code",
   "execution_count": 167,
   "metadata": {},
   "outputs": [],
   "source": [
    "pH2O=FcM(fcs=[0,0,0,-1],atom=\"O 0 0 0;H 0 -0.15229 1.76907; H 0 1.7401 -0.35319; H {} {} {}\".format(*ps_h2o),\\\n",
    "         unit=\"bohr\",basis={\"H\":\"pc-2\",'O':bse.get_basis(\"pcX-2\",fmt=\"nwchem\",elements=[8])},charge=1)\n",
    "pH2O.charge=0"
   ]
  },
  {
   "cell_type": "code",
   "execution_count": 125,
   "metadata": {},
   "outputs": [],
   "source": [
    "pH2Omf=scf.RHF(pH2O)\n",
    "pH2Omf.mo_occ=np.zeros(pH2O.nao)\n",
    "pH2Omf.mo_occ[:OH2.nao]=mfoh2.mo_occ\n",
    "pH2Omf.mo_energy=np.zeros(pH2O.nao)\n",
    "pH2Omf.mo_energy[:OH2.nao]=mfoh2.mo_energy\n",
    "pH2Omf.mo_coeff=np.zeros([pH2O.nao,pH2O.nao])\n",
    "pH2Omf.mo_coeff[:OH2.nao,:OH2.nao]=mfoh2.mo_coeff"
   ]
  },
  {
   "cell_type": "code",
   "execution_count": 133,
   "metadata": {},
   "outputs": [],
   "source": [
    "afph2o=aaff(pH2Omf,[-1,0,0,1])+alc_deriv_grad_nuc(pH2O,[-1,0,0,1])"
   ]
  },
  {
   "cell_type": "code",
   "execution_count": 137,
   "metadata": {},
   "outputs": [
    {
     "data": {
      "text/plain": [
       "{'geom': <Geometry 'H3N'>,\n",
       " 'params': {'gradientmax': 0.00045,\n",
       "  'gradientrms': 0.00015,\n",
       "  'stepmax': 0.0018,\n",
       "  'steprms': 0.0012,\n",
       "  'trust': 0.3,\n",
       "  'dihedral': True,\n",
       "  'superweakdih': False},\n",
       " 'trust': 0.3,\n",
       " 'coords': <InternalCoords \"bonds: 3, angles: 3, dihedrals: 0\">,\n",
       " 'H': array([[0.53257882, 0.        , 0.        , 0.        , 0.        ,\n",
       "         0.        ],\n",
       "        [0.        , 0.53258653, 0.        , 0.        , 0.        ,\n",
       "         0.        ],\n",
       "        [0.        , 0.        , 0.57335329, 0.        , 0.        ,\n",
       "         0.        ],\n",
       "        [0.        , 0.        , 0.        , 0.21010689, 0.        ,\n",
       "         0.        ],\n",
       "        [0.        , 0.        , 0.        , 0.        , 0.2261895 ,\n",
       "         0.        ],\n",
       "        [0.        , 0.        , 0.        , 0.        , 0.        ,\n",
       "         0.22619277]]),\n",
       " 'weights': array([1.18350849, 1.18352562, 1.27411843, 1.14117516, 1.09421186,\n",
       "        1.09421435]),\n",
       " 'future': Point(q=array([1.81528413, 1.81525491, 1.91249103, 1.87018295, 2.07364411,\n",
       "        2.07365421]), E=None, g=None),\n",
       " 'first': False,\n",
       " 'interpolated': Point(q=array([1.77561283, 1.77558193, 1.61808254, 1.85692014, 2.07364434,\n",
       "        2.07365476]), E=-76.06331933298765, g=array([-4.98489330e-02, -4.98513472e-02, -3.81942898e-01, -1.23884625e-02,\n",
       "         1.21442915e-07,  4.22834156e-07])),\n",
       " 'predicted': Point(q=array([1.81528414, 1.81525492, 1.91249099, 1.87018293, 2.07364421,\n",
       "        2.07365431]), E=-76.15418139978568, g=None),\n",
       " 'previous': Point(q=array([1.77561283, 1.77558193, 1.61808254, 1.85692014, 2.07364434,\n",
       "        2.07365476]), E=-76.06331933298765, g=array([-4.98489330e-02, -4.98513472e-02, -3.81942898e-01, -1.23884625e-02,\n",
       "         1.21442915e-07,  4.22834156e-07])),\n",
       " 'best': Point(q=array([1.77561283, 1.77558193, 1.61808254, 1.85692014, 2.07364434,\n",
       "        2.07365476]), E=-76.06331933298765, g=array([-4.98489330e-02, -4.98513472e-02, -3.81942898e-01, -1.23884625e-02,\n",
       "         1.21442915e-07,  4.22834156e-07]))}"
      ]
     },
     "execution_count": 137,
     "metadata": {},
     "output_type": "execute_result"
    }
   ],
   "source": [
    "ph2oc=pH2O.atom_coords()*bohr2ang\n",
    "pbg2=Geometry(['N','H','H','H'],ph2oc)\n",
    "b2=Berny(pbg2,debug=True)\n",
    "b2.send((mfoh2.e_tot,afph2o))"
   ]
  },
  {
   "cell_type": "markdown",
   "metadata": {},
   "source": [
    "#     NH$_3$"
   ]
  },
  {
   "cell_type": "code",
   "execution_count": 156,
   "metadata": {},
   "outputs": [
    {
     "name": "stdout",
     "output_type": "stream",
     "text": [
      "converged SCF energy = -56.2221835947889\n"
     ]
    },
    {
     "data": {
      "text/plain": [
       "-56.2221835947889"
      ]
     },
     "execution_count": 156,
     "metadata": {},
     "output_type": "execute_result"
    }
   ],
   "source": [
    "nh3optg,oh2optg,fhoptg=np.load(\"optgeoms.npy\")\n",
    "nh3lst=[]\n",
    "for x in range(4):\n",
    "    nh3lst.append(\"NHHH\"[x])\n",
    "    nh3lst.extend(nh3optg[x].tolist()) \n",
    "nh3srt=((\"{} \"*4+\";\")*4)[:-1].format(*nh3lst)\n",
    "NH3=gto.M(atom=nh3srt,unit=\"bohr\",basis={\"H\":\"pc-2\",'N':bse.get_basis(\"pcX-2\",fmt=\"nwchem\",elements=[7])})\n",
    "mf3 = scf.RHF(NH3)\n",
    "mf3.scf()"
   ]
  },
  {
   "cell_type": "code",
   "execution_count": 157,
   "metadata": {},
   "outputs": [
    {
     "data": {
      "text/plain": [
       "array([[ 0.        ,  0.        ,  0.        ],\n",
       "       [ 0.        ,  0.37164299,  1.84861891],\n",
       "       [ 1.52728421,  0.80129301, -0.76149538],\n",
       "       [-1.52728421,  0.80129301, -0.76149538]])"
      ]
     },
     "execution_count": 157,
     "metadata": {},
     "output_type": "execute_result"
    }
   ],
   "source": [
    "nh3optg"
   ]
  },
  {
   "cell_type": "code",
   "execution_count": 159,
   "metadata": {},
   "outputs": [],
   "source": [
    "nh3dm=mf3.make_rdm1()\n",
    "ps_nh3=minimize(Vtot,np.array([0,-1.5,.3]),args=(NH3,nh3dm)).x"
   ]
  },
  {
   "cell_type": "code",
   "execution_count": 166,
   "metadata": {},
   "outputs": [],
   "source": [
    "pNH3=FcM(fcs=[0,0,0,0,-1],atom=nh3srt+\"; H {} {} {} \".format(*ps_nh3),unit=\"bohr\",\\\n",
    "         basis={\"H\":\"pc-2\",'N':bse.get_basis(\"pcX-2\",fmt=\"nwchem\",elements=[7])},charge=1)\n",
    "pNH3.charge=0"
   ]
  },
  {
   "cell_type": "code",
   "execution_count": 168,
   "metadata": {},
   "outputs": [],
   "source": [
    "pNH3mf=scf.RHF(pNH3)\n",
    "pNH3mf.mo_occ=np.zeros(pNH3.nao)\n",
    "pNH3mf.mo_occ[:NH3.nao]=mf3.mo_occ\n",
    "pNH3mf.mo_energy=np.zeros(pNH3.nao)\n",
    "pNH3mf.mo_energy[:NH3.nao]=mf3.mo_energy\n",
    "pNH3mf.mo_coeff=np.zeros([pNH3.nao,pNH3.nao])\n",
    "pNH3mf.mo_coeff[:NH3.nao,:NH3.nao]=mf3.mo_coeff"
   ]
  },
  {
   "cell_type": "code",
   "execution_count": 169,
   "metadata": {},
   "outputs": [],
   "source": [
    "afpnh3=aaff(pNH3mf,[-1,0,0,0,1])+alc_deriv_grad_nuc(pNH3,[-1,0,0,0,1])"
   ]
  },
  {
   "cell_type": "code",
   "execution_count": 171,
   "metadata": {},
   "outputs": [
    {
     "data": {
      "text/plain": [
       "{'geom': <Geometry 'CH4'>,\n",
       " 'params': {'gradientmax': 0.00045,\n",
       "  'gradientrms': 0.00015,\n",
       "  'stepmax': 0.0018,\n",
       "  'steprms': 0.0012,\n",
       "  'trust': 0.3,\n",
       "  'dihedral': True,\n",
       "  'superweakdih': False},\n",
       " 'trust': 0.3,\n",
       " 'coords': <InternalCoords \"bonds: 4, angles: 6, dihedrals: 0\">,\n",
       " 'H': array([[0.51366855, 0.        , 0.        , 0.        , 0.        ,\n",
       "         0.        , 0.        , 0.        , 0.        , 0.        ],\n",
       "        [0.        , 0.5137292 , 0.        , 0.        , 0.        ,\n",
       "         0.        , 0.        , 0.        , 0.        , 0.        ],\n",
       "        [0.        , 0.        , 0.5137292 , 0.        , 0.        ,\n",
       "         0.        , 0.        , 0.        , 0.        , 0.        ],\n",
       "        [0.        , 0.        , 0.        , 0.55378188, 0.        ,\n",
       "         0.        , 0.        , 0.        , 0.        , 0.        ],\n",
       "        [0.        , 0.        , 0.        , 0.        , 0.19547151,\n",
       "         0.        , 0.        , 0.        , 0.        , 0.        ],\n",
       "        [0.        , 0.        , 0.        , 0.        , 0.        ,\n",
       "         0.19547151, 0.        , 0.        , 0.        , 0.        ],\n",
       "        [0.        , 0.        , 0.        , 0.        , 0.        ,\n",
       "         0.        , 0.21071136, 0.        , 0.        , 0.        ],\n",
       "        [0.        , 0.        , 0.        , 0.        , 0.        ,\n",
       "         0.        , 0.        , 0.19549459, 0.        , 0.        ],\n",
       "        [0.        , 0.        , 0.        , 0.        , 0.        ,\n",
       "         0.        , 0.        , 0.        , 0.21073624, 0.        ],\n",
       "        [0.        , 0.        , 0.        , 0.        , 0.        ,\n",
       "         0.        , 0.        , 0.        , 0.        , 0.21073624]]),\n",
       " 'weights': array([1.14148566, 1.14162045, 1.14162045, 1.23062641, 1.09133743,\n",
       "        1.09133743, 1.11779039, 1.09131985, 1.11784013, 1.11783985]),\n",
       " 'future': Point(q=array([1.94630637, 1.94606151, 1.94606148, 2.00258905, 1.88077489,\n",
       "        1.88077489, 1.93950799, 1.88103787, 1.9395537 , 1.93955429]), E=None, g=None),\n",
       " 'first': False,\n",
       " 'interpolated': Point(q=array([1.88560611, 1.88534951, 1.88534951, 1.72219848, 1.88831623,\n",
       "        1.88831623, 1.93234123, 1.88857761, 1.93238529, 1.93238604]), E=-56.2221835947889, g=array([-0.07055448, -0.0705718 , -0.07057177, -0.33715719,  0.00640009,\n",
       "         0.00640008, -0.00612378,  0.00639891, -0.00612537, -0.00612523])),\n",
       " 'predicted': Point(q=array([1.94630637, 1.9460615 , 1.94606148, 2.00258905, 1.8807994 ,\n",
       "        1.88079941, 1.93953361, 1.88106239, 1.93957932, 1.93957992]), E=-56.3052058899348, g=None),\n",
       " 'previous': Point(q=array([1.88560611, 1.88534951, 1.88534951, 1.72219848, 1.88831623,\n",
       "        1.88831623, 1.93234123, 1.88857761, 1.93238529, 1.93238604]), E=-56.2221835947889, g=array([-0.07055448, -0.0705718 , -0.07057177, -0.33715719,  0.00640009,\n",
       "         0.00640008, -0.00612378,  0.00639891, -0.00612537, -0.00612523])),\n",
       " 'best': Point(q=array([1.88560611, 1.88534951, 1.88534951, 1.72219848, 1.88831623,\n",
       "        1.88831623, 1.93234123, 1.88857761, 1.93238529, 1.93238604]), E=-56.2221835947889, g=array([-0.07055448, -0.0705718 , -0.07057177, -0.33715719,  0.00640009,\n",
       "         0.00640008, -0.00612378,  0.00639891, -0.00612537, -0.00612523]))}"
      ]
     },
     "execution_count": 171,
     "metadata": {},
     "output_type": "execute_result"
    }
   ],
   "source": [
    "pnh3c=pNH3.atom_coords()*bohr2ang\n",
    "pbg3=Geometry(['C','H','H','H','H'],pnh3c)\n",
    "b3=Berny(pbg3,debug=True)\n",
    "b3.send((mf3.e_tot,afpnh3))"
   ]
  },
  {
   "cell_type": "code",
   "execution_count": 175,
   "metadata": {},
   "outputs": [
    {
     "data": {
      "text/plain": [
       "[Bond(0, 1, weak=0),\n",
       " Bond(0, 2, weak=0),\n",
       " Bond(0, 3, weak=0),\n",
       " Bond(0, 4, weak=0),\n",
       " Angle(1, 0, 2, weak=0),\n",
       " Angle(1, 0, 3, weak=0),\n",
       " Angle(1, 0, 4, weak=0),\n",
       " Angle(2, 0, 3, weak=0),\n",
       " Angle(2, 0, 4, weak=0),\n",
       " Angle(3, 0, 4, weak=0)]"
      ]
     },
     "execution_count": 175,
     "metadata": {},
     "output_type": "execute_result"
    }
   ],
   "source": [
    "b3._state.coords._coords"
   ]
  }
 ],
 "metadata": {
  "kernelspec": {
   "display_name": "Python 3",
   "language": "python",
   "name": "python3"
  },
  "language_info": {
   "codemirror_mode": {
    "name": "ipython",
    "version": 3
   },
   "file_extension": ".py",
   "mimetype": "text/x-python",
   "name": "python",
   "nbconvert_exporter": "python",
   "pygments_lexer": "ipython3",
   "version": "3.7.3"
  }
 },
 "nbformat": 4,
 "nbformat_minor": 2
}
