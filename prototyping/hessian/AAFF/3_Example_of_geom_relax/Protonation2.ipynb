{
 "cells": [
  {
   "cell_type": "code",
   "execution_count": 49,
   "metadata": {},
   "outputs": [],
   "source": [
    "import sys\n",
    "sys.path.append(\"/home/administrator/Documenti/APDFT/prototyping/hessian/AAFF/Libs/\")\n",
    "from AP_class import APDFT_perturbator as AP\n",
    "from aaff import aaff,alc_deriv_grad_nuc,alc_differential_grad_nuc\n",
    "from FcMole import FcM\n",
    "from alch_deriv import alch_deriv\n",
    "from pyscf import gto,scf\n",
    "import numpy as np\n",
    "import ipyvolume as ipv\n",
    "from numpy.linalg import norm as norm\n",
    "from scipy.optimize import  minimize\n",
    "from scipy.spatial.transform import Rotation as R\n",
    "import matplotlib.pyplot as plt\n",
    "from mpl_toolkits import mplot3d\n",
    "from pyscf.grad import rhf as grhf\n",
    "from pyscf.hessian import rhf as hrhf\n",
    "import basis_set_exchange as bse\n",
    "from FDcoeffs import *\n",
    "from pyscf.geomopt.berny_solver import optimize\n",
    "ang2bohr=1.8897261246\n",
    "bohr2ang=.5291772109"
   ]
  },
  {
   "cell_type": "code",
   "execution_count": 90,
   "metadata": {},
   "outputs": [
    {
     "name": "stdout",
     "output_type": "stream",
     "text": [
      "The autoreload extension is already loaded. To reload it, use:\n",
      "  %reload_ext autoreload\n"
     ]
    }
   ],
   "source": [
    "%load_ext autoreload\n",
    "%autoreload 2\n",
    "from AP_class import APDFT_perturbator as AP\n",
    "from ABSE import absec"
   ]
  },
  {
   "cell_type": "code",
   "execution_count": 2,
   "metadata": {},
   "outputs": [],
   "source": [
    "from berny import Berny, geomlib, coords,Geometry,Math"
   ]
  },
  {
   "cell_type": "code",
   "execution_count": 3,
   "metadata": {},
   "outputs": [
    {
     "name": "stdout",
     "output_type": "stream",
     "text": [
      "converged SCF energy = -100.065540168732\n"
     ]
    },
    {
     "data": {
      "text/plain": [
       "-100.06554016873231"
      ]
     },
     "execution_count": 3,
     "metadata": {},
     "output_type": "execute_result"
    }
   ],
   "source": [
    "HF=gto.M(atom=\"F 0 0 0;H 0 0 1.695741\",unit=\"bohr\",\n",
    "            basis={\"H\":\"pc-2\",'F':bse.get_basis(\"pcX-2\",fmt=\"nwchem\",elements=[9])})\n",
    "mfhf = scf.RHF(HF)\n",
    "mfhf.scf()"
   ]
  },
  {
   "cell_type": "code",
   "execution_count": 4,
   "metadata": {},
   "outputs": [],
   "source": [
    "dm=mfhf.make_rdm1()"
   ]
  },
  {
   "cell_type": "code",
   "execution_count": 5,
   "metadata": {},
   "outputs": [],
   "source": [
    "def Vne(coords,mol=HF,dm=dm):\n",
    "    mol.set_rinv_orig_(coords)\n",
    "    dV=mol.intor('int1e_rinv')\n",
    "    return -np.einsum('ij,ij',dV,dm)"
   ]
  },
  {
   "cell_type": "code",
   "execution_count": 6,
   "metadata": {},
   "outputs": [],
   "source": [
    "dL=[-1,0,0,0] #-1 charge central atom\n",
    "def Vnn(coords,mol=HF):\n",
    "    Vnn=0\n",
    "    for i in range (mol.natm):\n",
    "        Vnn+= (mol.atom_charge(i)+dL[i])/np.linalg.norm(coords-mol.atom_coord(i))\n",
    "    return Vnn"
   ]
  },
  {
   "cell_type": "code",
   "execution_count": 7,
   "metadata": {},
   "outputs": [
    {
     "data": {
      "text/plain": [
       "6.072918030765468"
      ]
     },
     "execution_count": 7,
     "metadata": {},
     "output_type": "execute_result"
    }
   ],
   "source": [
    "Vnn([0,.5,-1.3],HF)"
   ]
  },
  {
   "cell_type": "code",
   "execution_count": 8,
   "metadata": {},
   "outputs": [],
   "source": [
    "def Vtot(coords,mol=HF,dm=dm):\n",
    "    return Vnn(coords,mol)+Vne(coords,mol,dm)"
   ]
  },
  {
   "cell_type": "code",
   "execution_count": 9,
   "metadata": {},
   "outputs": [],
   "source": [
    "def Vtot_fl(angle,mol=HF,dm=dm):\n",
    "    coords=np.asarray([0,np.sin(angle),np.cos(angle)])*1.695741\n",
    "    return Vtot(coords,mol=HF,dm=dm)"
   ]
  },
  {
   "cell_type": "code",
   "execution_count": 10,
   "metadata": {},
   "outputs": [
    {
     "data": {
      "text/plain": [
       "119.57798490677513"
      ]
     },
     "execution_count": 10,
     "metadata": {},
     "output_type": "execute_result"
    }
   ],
   "source": [
    "prot_angle=minimize(Vtot_fl,1.8).x[0]\n",
    "prot_angle*180/np.pi"
   ]
  },
  {
   "cell_type": "code",
   "execution_count": 11,
   "metadata": {},
   "outputs": [
    {
     "data": {
      "text/plain": [
       "2.0870295495233107"
      ]
     },
     "execution_count": 11,
     "metadata": {},
     "output_type": "execute_result"
    }
   ],
   "source": [
    "prot_angle"
   ]
  },
  {
   "cell_type": "code",
   "execution_count": 12,
   "metadata": {},
   "outputs": [
    {
     "data": {
      "text/plain": [
       "array([ 0.        ,  1.47475993, -0.83703088])"
      ]
     },
     "execution_count": 12,
     "metadata": {},
     "output_type": "execute_result"
    }
   ],
   "source": [
    "prot_site=np.array([0.,np.sin(prot_angle),np.cos(prot_angle)])*1.695741\n",
    "prot_site"
   ]
  },
  {
   "cell_type": "code",
   "execution_count": 13,
   "metadata": {},
   "outputs": [
    {
     "data": {
      "text/plain": [
       "(1.5510757176935956, 118.42150068174293)"
      ]
     },
     "execution_count": 13,
     "metadata": {},
     "output_type": "execute_result"
    }
   ],
   "source": [
    "prot_site=minimize(Vtot,[0,.5,-1.3]).x\n",
    "norm(prot_site),np.arccos(prot_site[2]/norm(prot_site))*180/np.pi"
   ]
  },
  {
   "cell_type": "code",
   "execution_count": 14,
   "metadata": {},
   "outputs": [],
   "source": [
    "def dVne(coords,mol=HF,dm=dm):\n",
    "    mol.set_rinv_orig_(coords)\n",
    "    vrinv = -mol.intor('int1e_iprinv', comp=3)\n",
    "    vrinv += vrinv.transpose(0,2,1)\n",
    "    return np.einsum('xij,ij->x',vrinv,dm)"
   ]
  },
  {
   "cell_type": "code",
   "execution_count": 15,
   "metadata": {},
   "outputs": [
    {
     "data": {
      "text/plain": [
       "array([ 7.46991946e-14,  1.38257692e+00, -3.72835980e+00])"
      ]
     },
     "execution_count": 15,
     "metadata": {},
     "output_type": "execute_result"
    }
   ],
   "source": [
    "dVne([0,.5,-1.3])"
   ]
  },
  {
   "cell_type": "code",
   "execution_count": 16,
   "metadata": {},
   "outputs": [
    {
     "data": {
      "text/plain": [
       "-0.003726764702753016"
      ]
     },
     "execution_count": 16,
     "metadata": {},
     "output_type": "execute_result"
    }
   ],
   "source": [
    "Vne([0,.5,-1.3],HF,dm)-Vne([0.,.5,-1.301],HF,dm)"
   ]
  },
  {
   "cell_type": "code",
   "execution_count": 17,
   "metadata": {},
   "outputs": [],
   "source": [
    "#fig=plt.figure(figsize=(20, 10))\n",
    "##ax = plt.axes(projection=’3d’)\n",
    "#ax =fig.add_subplot(111, projection='3d')\n",
    "#ax.plot_surface(X, Y, Z, rstride=1, cstride=1,cmap=\"terrain\" ,edgecolor=None)\n",
    "#ax.set(xlabel='x', ylabel='y', zlabel='Energy',title=\"Probing PES for protonation\")"
   ]
  },
  {
   "cell_type": "code",
   "execution_count": 18,
   "metadata": {},
   "outputs": [],
   "source": [
    "#from matplotlib import cm\n",
    "#colormap = cm.coolwarm\n",
    "#znorm = Z - Z.min()\n",
    "#znorm /= znorm.ptp()\n",
    "#znorm.min(), znorm.max()\n",
    "#color = colormap(znorm)"
   ]
  },
  {
   "cell_type": "code",
   "execution_count": 19,
   "metadata": {},
   "outputs": [],
   "source": [
    "#ipv.figure()\n",
    "#mesh = ipv.plot_surface(X, Y, 100*Z, color=color[...,:3])\n",
    "#ipv.show()"
   ]
  },
  {
   "cell_type": "code",
   "execution_count": 20,
   "metadata": {},
   "outputs": [
    {
     "data": {
      "text/plain": [
       "array([-7.15031068e-07,  1.36412461e+00, -7.38241112e-01])"
      ]
     },
     "execution_count": 20,
     "metadata": {},
     "output_type": "execute_result"
    }
   ],
   "source": [
    "prot_site"
   ]
  },
  {
   "cell_type": "markdown",
   "metadata": {},
   "source": [
    "# How to develop the basis functions or do none.\n"
   ]
  },
  {
   "cell_type": "code",
   "execution_count": 21,
   "metadata": {},
   "outputs": [],
   "source": [
    "pHF=FcM(fcs=[0,0,-1],atom=\"F 0 0 0;H 0 0 1.695741; H {} {} {}\".format(prot_site[0],prot_site[1],prot_site[2]),unit=\"bohr\",\n",
    "          basis={\"H\":\"pc-2\",'F':bse.get_basis(\"pcX-2\",fmt=\"nwchem\",elements=[9])},charge=1)\n",
    "pHF.charge=0"
   ]
  },
  {
   "cell_type": "code",
   "execution_count": 22,
   "metadata": {},
   "outputs": [
    {
     "data": {
      "text/plain": [
       "(array([9., 1., 0.]), (5, 5))"
      ]
     },
     "execution_count": 22,
     "metadata": {},
     "output_type": "execute_result"
    }
   ],
   "source": [
    "pHF.atom_charges(),pHF.nelec"
   ]
  },
  {
   "cell_type": "code",
   "execution_count": 23,
   "metadata": {},
   "outputs": [],
   "source": [
    "pHFmf=scf.RHF(pHF)"
   ]
  },
  {
   "cell_type": "code",
   "execution_count": 92,
   "metadata": {},
   "outputs": [],
   "source": [
    "pHFmf.mo_occ=np.zeros(pHF.nao)\n",
    "pHFmf.mo_occ[:HF.nao]=mfhf.mo_occ\n",
    "pHFmf.mo_energy=np.zeros(pHF.nao)\n",
    "pHFmf.mo_energy[:HF.nao]=mfhf.mo_energy\n",
    "pHFmf.mo_coeff=np.zeros([pHF.nao,pHF.nao])\n",
    "pHFmf.mo_coeff[:HF.nao,:HF.nao]=mfhf.mo_coeff\n",
    "pHFmf.e_tot=pHFmf.energy_tot()+absec(\"F\",\"O\")"
   ]
  },
  {
   "cell_type": "code",
   "execution_count": 93,
   "metadata": {},
   "outputs": [
    {
     "data": {
      "text/plain": [
       "array([[0., 0., 0., ..., 0., 0., 0.],\n",
       "       [0., 0., 0., ..., 0., 0., 0.],\n",
       "       [0., 0., 0., ..., 0., 0., 0.],\n",
       "       ...,\n",
       "       [0., 0., 0., ..., 0., 0., 0.],\n",
       "       [0., 0., 0., ..., 0., 0., 0.],\n",
       "       [0., 0., 0., ..., 0., 0., 0.]])"
      ]
     },
     "execution_count": 93,
     "metadata": {},
     "output_type": "execute_result"
    }
   ],
   "source": [
    "pHFmf.make_rdm1()[:HF.nao,:HF.nao]-dm"
   ]
  },
  {
   "cell_type": "code",
   "execution_count": 94,
   "metadata": {},
   "outputs": [
    {
     "data": {
      "text/plain": [
       "-100.0685069326202"
      ]
     },
     "execution_count": 94,
     "metadata": {},
     "output_type": "execute_result"
    }
   ],
   "source": [
    "pHFmf.e_tot"
   ]
  },
  {
   "cell_type": "code",
   "execution_count": 95,
   "metadata": {},
   "outputs": [],
   "source": [
    "af=aaff(pHFmf,[-1,0,1])+alc_deriv_grad_nuc(pHF,[-1,0,1])"
   ]
  },
  {
   "cell_type": "code",
   "execution_count": 96,
   "metadata": {},
   "outputs": [],
   "source": [
    "apHF=AP(pHFmf,sites=[0,2])\n",
    "apHF.build_all()"
   ]
  },
  {
   "cell_type": "code",
   "execution_count": 97,
   "metadata": {},
   "outputs": [
    {
     "data": {
      "text/plain": [
       "-75.89809296805801"
      ]
     },
     "execution_count": 97,
     "metadata": {},
     "output_type": "execute_result"
    }
   ],
   "source": [
    "apHF.APDFT3([-1,1])"
   ]
  },
  {
   "cell_type": "code",
   "execution_count": 98,
   "metadata": {},
   "outputs": [],
   "source": [
    "phfc=pHF.atom_coords()*bohr2ang\n",
    "pbg=Geometry(['O','H','H'],phfc)\n",
    "b=Berny(pbg,debug=True)"
   ]
  },
  {
   "cell_type": "code",
   "execution_count": 99,
   "metadata": {},
   "outputs": [
    {
     "data": {
      "text/plain": [
       "{'geom': <Geometry 'H2O'>,\n",
       " 'params': {'gradientmax': 0.00045,\n",
       "  'gradientrms': 0.00015,\n",
       "  'stepmax': 0.0018,\n",
       "  'steprms': 0.0012,\n",
       "  'trust': 0.3,\n",
       "  'dihedral': True,\n",
       "  'superweakdih': False},\n",
       " 'trust': 0.3,\n",
       " 'coords': <InternalCoords \"bonds: 2, angles: 1, dihedrals: 0\">,\n",
       " 'H': array([[0.54502214, 0.        , 0.        ],\n",
       "        [0.        , 0.58393729, 0.        ],\n",
       "        [0.        , 0.        , 0.23574722]]),\n",
       " 'weights': array([1.21116031, 1.29763842, 1.1206834 ]),\n",
       " 'future': Point(q=array([1.72184677, 1.84993775, 2.06685442]), E=None, g=None),\n",
       " 'first': False,\n",
       " 'interpolated': Point(q=array([1.695741  , 1.55107572, 2.06684509]), E=-75.89809296805801, g=array([-3.52924845e-02, -4.15661747e-01, -9.92128299e-06])),\n",
       " 'predicted': Point(q=array([1.72184684, 1.8499377 , 2.06685461]), E=-75.99697588463177, g=None),\n",
       " 'previous': Point(q=array([1.695741  , 1.55107572, 2.06684509]), E=-75.89809296805801, g=array([-3.52924845e-02, -4.15661747e-01, -9.92128299e-06])),\n",
       " 'best': Point(q=array([1.695741  , 1.55107572, 2.06684509]), E=-75.89809296805801, g=array([-3.52924845e-02, -4.15661747e-01, -9.92128299e-06]))}"
      ]
     },
     "execution_count": 99,
     "metadata": {},
     "output_type": "execute_result"
    }
   ],
   "source": [
    "b.send((apHF.APDFT3([-1,1]),af))"
   ]
  },
  {
   "cell_type": "code",
   "execution_count": 112,
   "metadata": {},
   "outputs": [
    {
     "data": {
      "text/plain": [
       "118.4217818866142"
      ]
     },
     "execution_count": 112,
     "metadata": {},
     "output_type": "execute_result"
    }
   ],
   "source": [
    "2.06685*180/np.pi"
   ]
  },
  {
   "cell_type": "code",
   "execution_count": 30,
   "metadata": {},
   "outputs": [],
   "source": [
    "q=np.array([1.72184679, 1.84993778, 2.06685607])  # bd H1_O,bd H2_O, angle (H-O-H) -- Bohr,radians"
   ]
  },
  {
   "cell_type": "code",
   "execution_count": 31,
   "metadata": {},
   "outputs": [
    {
     "data": {
      "text/plain": [
       "(1.6957409999672617, 1.5510757176636505, 2.0668450920491237)"
      ]
     },
     "execution_count": 31,
     "metadata": {},
     "output_type": "execute_result"
    }
   ],
   "source": [
    "norm(phfc[1])*ang2bohr,norm(phfc[2])*ang2bohr,np.arccos((phfc[1].dot(phfc[2])/norm(phfc[1])/norm(phfc[2])))"
   ]
  },
  {
   "cell_type": "code",
   "execution_count": 32,
   "metadata": {},
   "outputs": [
    {
     "data": {
      "text/plain": [
       "(array([[ 0.00000000e+00,  0.00000000e+00,  0.00000000e+00],\n",
       "        [ 0.00000000e+00,  0.00000000e+00,  8.97347493e-01],\n",
       "        [-3.78378146e-07,  7.21863655e-01, -3.90660372e-01]]),\n",
       " array([[ 0.00000000e+00,  0.00000000e+00,  0.00000000e+00],\n",
       "        [ 0.00000000e+00,  0.00000000e+00,  8.97347493e-01],\n",
       "        [-3.78378146e-07,  7.21863655e-01, -3.90660372e-01]]))"
      ]
     },
     "execution_count": 32,
     "metadata": {},
     "output_type": "execute_result"
    }
   ],
   "source": [
    "pbg.coords,phfc"
   ]
  },
  {
   "cell_type": "markdown",
   "metadata": {},
   "source": [
    "# H$_2$O"
   ]
  },
  {
   "cell_type": "code",
   "execution_count": 33,
   "metadata": {},
   "outputs": [
    {
     "name": "stdout",
     "output_type": "stream",
     "text": [
      "converged SCF energy = -76.0633193329876\n"
     ]
    }
   ],
   "source": [
    "OH2=gto.M(atom=\"O 0 0 0;H 0 -0.15229 1.76907; H 0   1.7401 -0.35319\",unit=\"bohr\",\n",
    "            basis={\"H\":\"pc-2\",'O':bse.get_basis(\"pcX-2\",fmt=\"nwchem\",elements=[8])})\n",
    "mfoh2 = scf.RHF(OH2)\n",
    "mfoh2.scf()\n",
    "dmoh2=mfoh2.make_rdm1()"
   ]
  },
  {
   "cell_type": "code",
   "execution_count": 34,
   "metadata": {},
   "outputs": [],
   "source": [
    "ps_h2o=minimize(Vtot,np.array([1.5,0,0]),args=(OH2,dmoh2)).x"
   ]
  },
  {
   "cell_type": "code",
   "execution_count": 35,
   "metadata": {},
   "outputs": [],
   "source": [
    "pH2O=FcM(fcs=[0,0,0,-1],atom=\"O 0 0 0;H 0 -0.15229 1.76907; H 0 1.7401 -0.35319; H {} {} {}\".format(*ps_h2o),\\\n",
    "         unit=\"bohr\",basis={\"H\":\"pc-2\",'O':bse.get_basis(\"pcX-2\",fmt=\"nwchem\",elements=[8])},charge=1)\n",
    "pH2O.charge=0"
   ]
  },
  {
   "cell_type": "code",
   "execution_count": 101,
   "metadata": {},
   "outputs": [],
   "source": [
    "pH2Omf=scf.RHF(pH2O)\n",
    "pH2Omf.mo_occ=np.zeros(pH2O.nao)\n",
    "pH2Omf.mo_occ[:OH2.nao]=mfoh2.mo_occ\n",
    "pH2Omf.mo_energy=np.zeros(pH2O.nao)\n",
    "pH2Omf.mo_energy[:OH2.nao]=mfoh2.mo_energy\n",
    "pH2Omf.mo_coeff=np.zeros([pH2O.nao,pH2O.nao])\n",
    "pH2Omf.mo_coeff[:OH2.nao,:OH2.nao]=mfoh2.mo_coeff\n",
    "pH2Omf.e_tot=pH2Omf.energy_tot()+absec(\"O\",\"N\")"
   ]
  },
  {
   "cell_type": "code",
   "execution_count": 37,
   "metadata": {},
   "outputs": [],
   "source": [
    "afph2o=aaff(pH2Omf,[-1,0,0,1])+alc_deriv_grad_nuc(pH2O,[-1,0,0,1])"
   ]
  },
  {
   "cell_type": "code",
   "execution_count": 102,
   "metadata": {},
   "outputs": [],
   "source": [
    "aph2o=AP(pH2Omf,sites=[0,3])\n",
    "aph2o.build_all()"
   ]
  },
  {
   "cell_type": "code",
   "execution_count": 103,
   "metadata": {},
   "outputs": [
    {
     "data": {
      "text/plain": [
       "{'geom': <Geometry 'H3N'>,\n",
       " 'params': {'gradientmax': 0.00045,\n",
       "  'gradientrms': 0.00015,\n",
       "  'stepmax': 0.0018,\n",
       "  'steprms': 0.0012,\n",
       "  'trust': 0.3,\n",
       "  'dihedral': True,\n",
       "  'superweakdih': False},\n",
       " 'trust': 0.3,\n",
       " 'coords': <InternalCoords \"bonds: 3, angles: 3, dihedrals: 0\">,\n",
       " 'H': array([[0.53257882, 0.        , 0.        , 0.        , 0.        ,\n",
       "         0.        ],\n",
       "        [0.        , 0.53258653, 0.        , 0.        , 0.        ,\n",
       "         0.        ],\n",
       "        [0.        , 0.        , 0.57335339, 0.        , 0.        ,\n",
       "         0.        ],\n",
       "        [0.        , 0.        , 0.        , 0.21010689, 0.        ,\n",
       "         0.        ],\n",
       "        [0.        , 0.        , 0.        , 0.        , 0.22618953,\n",
       "         0.        ],\n",
       "        [0.        , 0.        , 0.        , 0.        , 0.        ,\n",
       "         0.22619281]]),\n",
       " 'weights': array([1.18350849, 1.18352562, 1.27411863, 1.14117516, 1.09421473,\n",
       "        1.0942179 ]),\n",
       " 'future': Point(q=array([1.81528433, 1.81525516, 1.91249063, 1.87018281, 2.07363951,\n",
       "        2.07364852]), E=None, g=None),\n",
       " 'first': False,\n",
       " 'interpolated': Point(q=array([1.77561283, 1.77558193, 1.61808219, 1.85692014, 2.073639  ,\n",
       "        2.07364811]), E=-56.04685534027789, g=array([-4.98492523e-02, -4.98517233e-02, -3.81943307e-01, -1.23883561e-02,\n",
       "        -5.86398167e-07, -4.91482789e-07])),\n",
       " 'predicted': Point(q=array([1.81528434, 1.81525517, 1.91249059, 1.87018279, 2.07363962,\n",
       "        2.07364863]), E=-56.1377175498702, g=None),\n",
       " 'previous': Point(q=array([1.77561283, 1.77558193, 1.61808219, 1.85692014, 2.073639  ,\n",
       "        2.07364811]), E=-56.04685534027789, g=array([-4.98492523e-02, -4.98517233e-02, -3.81943307e-01, -1.23883561e-02,\n",
       "        -5.86398167e-07, -4.91482789e-07])),\n",
       " 'best': Point(q=array([1.77561283, 1.77558193, 1.61808219, 1.85692014, 2.073639  ,\n",
       "        2.07364811]), E=-56.04685534027789, g=array([-4.98492523e-02, -4.98517233e-02, -3.81943307e-01, -1.23883561e-02,\n",
       "        -5.86398167e-07, -4.91482789e-07]))}"
      ]
     },
     "execution_count": 103,
     "metadata": {},
     "output_type": "execute_result"
    }
   ],
   "source": [
    "ph2oc=pH2O.atom_coords()*bohr2ang\n",
    "pbg2=Geometry(['N','H','H','H'],ph2oc)\n",
    "b2=Berny(pbg2,debug=True)\n",
    "b2.send((aph2o.APDFT3([-1,1]),afph2o))"
   ]
  },
  {
   "cell_type": "code",
   "execution_count": 113,
   "metadata": {},
   "outputs": [
    {
     "data": {
      "text/plain": [
       "(107.15358078500114, 118.8107984571118)"
      ]
     },
     "execution_count": 113,
     "metadata": {},
     "output_type": "execute_result"
    }
   ],
   "source": [
    "1.87018279*180/np.pi, 2.07363962*180/np.pi"
   ]
  },
  {
   "cell_type": "markdown",
   "metadata": {},
   "source": [
    "#     NH$_3$"
   ]
  },
  {
   "cell_type": "code",
   "execution_count": 39,
   "metadata": {},
   "outputs": [
    {
     "name": "stdout",
     "output_type": "stream",
     "text": [
      "converged SCF energy = -56.2221836146945\n"
     ]
    },
    {
     "data": {
      "text/plain": [
       "-56.222183614694465"
      ]
     },
     "execution_count": 39,
     "metadata": {},
     "output_type": "execute_result"
    }
   ],
   "source": [
    "ch4optg,nh3optg,oh2optg,fhoptg=np.load(\"optgeoms.npy\")\n",
    "nh3lst=[]\n",
    "for x in range(4):\n",
    "    nh3lst.append(\"NHHH\"[x])\n",
    "    nh3lst.extend(nh3optg[x].tolist()) \n",
    "nh3srt=((\"{} \"*4+\";\")*4)[:-1].format(*nh3lst)\n",
    "NH3=gto.M(atom=nh3srt,unit=\"bohr\",basis={\"H\":\"pc-2\",'N':bse.get_basis(\"pcX-2\",fmt=\"nwchem\",elements=[7])})\n",
    "mf3 = scf.RHF(NH3)\n",
    "mf3.scf()"
   ]
  },
  {
   "cell_type": "code",
   "execution_count": 40,
   "metadata": {},
   "outputs": [
    {
     "data": {
      "text/plain": [
       "array([[ 0.00000000e+00,  0.00000000e+00,  0.00000000e+00],\n",
       "       [ 3.90982817e-13,  3.71707821e-01,  1.84851805e+00],\n",
       "       [ 1.52736243e+00,  8.01399691e-01, -7.61648360e-01],\n",
       "       [-1.52736243e+00,  8.01399691e-01, -7.61648360e-01]])"
      ]
     },
     "execution_count": 40,
     "metadata": {},
     "output_type": "execute_result"
    }
   ],
   "source": [
    "nh3optg"
   ]
  },
  {
   "cell_type": "code",
   "execution_count": 41,
   "metadata": {},
   "outputs": [],
   "source": [
    "nh3dm=mf3.make_rdm1()\n",
    "ps_nh3=minimize(Vtot,np.array([0,-1.5,.3]),args=(NH3,nh3dm)).x"
   ]
  },
  {
   "cell_type": "code",
   "execution_count": 42,
   "metadata": {},
   "outputs": [],
   "source": [
    "pNH3=FcM(fcs=[0,0,0,0,-1],atom=nh3srt+\"; H {} {} {} \".format(*ps_nh3),unit=\"bohr\",\\\n",
    "         basis={\"H\":\"pc-2\",'N':bse.get_basis(\"pcX-2\",fmt=\"nwchem\",elements=[7])},charge=1)\n",
    "pNH3.charge=0"
   ]
  },
  {
   "cell_type": "code",
   "execution_count": 105,
   "metadata": {},
   "outputs": [],
   "source": [
    "pNH3mf=scf.RHF(pNH3)\n",
    "pNH3mf.mo_occ=np.zeros(pNH3.nao)\n",
    "pNH3mf.mo_occ[:NH3.nao]=mf3.mo_occ\n",
    "pNH3mf.mo_energy=np.zeros(pNH3.nao)\n",
    "pNH3mf.mo_energy[:NH3.nao]=mf3.mo_energy\n",
    "pNH3mf.mo_coeff=np.zeros([pNH3.nao,pNH3.nao])\n",
    "pNH3mf.mo_coeff[:NH3.nao,:NH3.nao]=mf3.mo_coeff\n",
    "pNH3mf.e_tot=pNH3mf.energy_tot()+absec(\"N\",\"C\")"
   ]
  },
  {
   "cell_type": "code",
   "execution_count": 44,
   "metadata": {},
   "outputs": [],
   "source": [
    "afpnh3=aaff(pNH3mf,[-1,0,0,0,1])+alc_deriv_grad_nuc(pNH3,[-1,0,0,0,1])"
   ]
  },
  {
   "cell_type": "code",
   "execution_count": 107,
   "metadata": {},
   "outputs": [],
   "source": [
    "apNH3=AP(pNH3mf,sites=[0,4])\n",
    "apNH3.build_all()"
   ]
  },
  {
   "cell_type": "code",
   "execution_count": 109,
   "metadata": {},
   "outputs": [
    {
     "data": {
      "text/plain": [
       "{'geom': <Geometry 'CH4'>,\n",
       " 'params': {'gradientmax': 0.00045,\n",
       "  'gradientrms': 0.00015,\n",
       "  'stepmax': 0.0018,\n",
       "  'steprms': 0.0012,\n",
       "  'trust': 0.3,\n",
       "  'dihedral': True,\n",
       "  'superweakdih': False},\n",
       " 'trust': 0.3,\n",
       " 'coords': <InternalCoords \"bonds: 4, angles: 6, dihedrals: 0\">,\n",
       " 'H': array([[0.5136889 , 0.        , 0.        , 0.        , 0.        ,\n",
       "         0.        , 0.        , 0.        , 0.        , 0.        ],\n",
       "        [0.        , 0.5136889 , 0.        , 0.        , 0.        ,\n",
       "         0.        , 0.        , 0.        , 0.        , 0.        ],\n",
       "        [0.        , 0.        , 0.5136889 , 0.        , 0.        ,\n",
       "         0.        , 0.        , 0.        , 0.        , 0.        ],\n",
       "        [0.        , 0.        , 0.        , 0.55378222, 0.        ,\n",
       "         0.        , 0.        , 0.        , 0.        , 0.        ],\n",
       "        [0.        , 0.        , 0.        , 0.        , 0.19546392,\n",
       "         0.        , 0.        , 0.        , 0.        , 0.        ],\n",
       "        [0.        , 0.        , 0.        , 0.        , 0.        ,\n",
       "         0.19546392, 0.        , 0.        , 0.        , 0.        ],\n",
       "        [0.        , 0.        , 0.        , 0.        , 0.        ,\n",
       "         0.        , 0.21071984, 0.        , 0.        , 0.        ],\n",
       "        [0.        , 0.        , 0.        , 0.        , 0.        ,\n",
       "         0.        , 0.        , 0.19546392, 0.        , 0.        ],\n",
       "        [0.        , 0.        , 0.        , 0.        , 0.        ,\n",
       "         0.        , 0.        , 0.        , 0.21071984, 0.        ],\n",
       "        [0.        , 0.        , 0.        , 0.        , 0.        ,\n",
       "         0.        , 0.        , 0.        , 0.        , 0.21071984]]),\n",
       " 'weights': array([1.14153089, 1.14153089, 1.14153089, 1.23062715, 1.09131023,\n",
       "        1.09131023, 1.11779298, 1.09126824, 1.11779377, 1.11779435]),\n",
       " 'future': Point(q=array([1.94622254, 1.94622248, 1.94622253, 2.00259214, 1.88079947,\n",
       "        1.88079947, 1.9395573 , 1.88093382, 1.93955589, 1.93955464]), E=None, g=None),\n",
       " 'first': False,\n",
       " 'interpolated': Point(q=array([1.88552   , 1.88552   , 1.88552   , 1.72219717, 1.88833539,\n",
       "        1.88833539, 1.93239516, 1.88846925, 1.93239302, 1.93239143]), E=-40.02794038801738, g=array([-0.0705573 , -0.07055723, -0.07055729, -0.3371577 ,  0.00639534,\n",
       "         0.00639534, -0.00611972,  0.00639492, -0.00612035, -0.00612063])),\n",
       " 'predicted': Point(q=array([1.94622254, 1.94622248, 1.94622253, 2.00259214, 1.88082395,\n",
       "        1.88082395, 1.93958288, 1.8809583 , 1.93958147, 1.93958023]), E=-40.1109611326634, g=None),\n",
       " 'previous': Point(q=array([1.88552   , 1.88552   , 1.88552   , 1.72219717, 1.88833539,\n",
       "        1.88833539, 1.93239516, 1.88846925, 1.93239302, 1.93239143]), E=-40.02794038801738, g=array([-0.0705573 , -0.07055723, -0.07055729, -0.3371577 ,  0.00639534,\n",
       "         0.00639534, -0.00611972,  0.00639492, -0.00612035, -0.00612063])),\n",
       " 'best': Point(q=array([1.88552   , 1.88552   , 1.88552   , 1.72219717, 1.88833539,\n",
       "        1.88833539, 1.93239516, 1.88846925, 1.93239302, 1.93239143]), E=-40.02794038801738, g=array([-0.0705573 , -0.07055723, -0.07055729, -0.3371577 ,  0.00639534,\n",
       "         0.00639534, -0.00611972,  0.00639492, -0.00612035, -0.00612063]))}"
      ]
     },
     "execution_count": 109,
     "metadata": {},
     "output_type": "execute_result"
    }
   ],
   "source": [
    "pnh3c=pNH3.atom_coords()*bohr2ang\n",
    "pbg3=Geometry(['C','H','H','H','H'],pnh3c)\n",
    "b3=Berny(pbg3,debug=True)\n",
    "b3.send((apNH3.APDFT3([-1,1]),afpnh3))"
   ]
  },
  {
   "cell_type": "code",
   "execution_count": 114,
   "metadata": {},
   "outputs": [
    {
     "data": {
      "text/plain": [
       "(107.77097203010216, 111.12974802798422)"
      ]
     },
     "execution_count": 114,
     "metadata": {},
     "output_type": "execute_result"
    }
   ],
   "source": [
    "1.8809583*180/np.pi , 1.93958*180/np.pi"
   ]
  },
  {
   "cell_type": "code",
   "execution_count": 110,
   "metadata": {},
   "outputs": [
    {
     "data": {
      "text/plain": [
       "[Bond(0, 1, weak=0),\n",
       " Bond(0, 2, weak=0),\n",
       " Bond(0, 3, weak=0),\n",
       " Bond(0, 4, weak=0),\n",
       " Angle(1, 0, 2, weak=0),\n",
       " Angle(1, 0, 3, weak=0),\n",
       " Angle(1, 0, 4, weak=0),\n",
       " Angle(2, 0, 3, weak=0),\n",
       " Angle(2, 0, 4, weak=0),\n",
       " Angle(3, 0, 4, weak=0)]"
      ]
     },
     "execution_count": 110,
     "metadata": {},
     "output_type": "execute_result"
    }
   ],
   "source": [
    "b3._state.coords._coords"
   ]
  },
  {
   "cell_type": "code",
   "execution_count": 111,
   "metadata": {},
   "outputs": [
    {
     "data": {
      "text/plain": [
       "Point(q=array([2.04385424, 2.04385424, 2.04385424, 2.04385424, 1.91063324,\n",
       "       1.91063324, 1.91063324, 1.91063324, 1.91063324, 1.91063324]), E=None, g=None)"
      ]
     },
     "execution_count": 111,
     "metadata": {},
     "output_type": "execute_result"
    }
   ],
   "source": [
    "pbg4=Geometry(['C','H','H','H','H'],ch4optg*bohr2ang)\n",
    "Berny(pbg4)._state.future"
   ]
  },
  {
   "cell_type": "code",
   "execution_count": null,
   "metadata": {},
   "outputs": [],
   "source": []
  }
 ],
 "metadata": {
  "kernelspec": {
   "display_name": "Python 3",
   "language": "python",
   "name": "python3"
  },
  "language_info": {
   "codemirror_mode": {
    "name": "ipython",
    "version": 3
   },
   "file_extension": ".py",
   "mimetype": "text/x-python",
   "name": "python",
   "nbconvert_exporter": "python",
   "pygments_lexer": "ipython3",
   "version": "3.7.3"
  }
 },
 "nbformat": 4,
 "nbformat_minor": 2
}
