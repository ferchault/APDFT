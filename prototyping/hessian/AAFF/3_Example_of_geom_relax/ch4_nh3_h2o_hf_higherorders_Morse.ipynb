{
 "cells": [
  {
   "cell_type": "code",
   "execution_count": 1,
   "metadata": {},
   "outputs": [],
   "source": [
    "from pyscf import gto,scf\n",
    "import numpy as np \n",
    "from numpy.linalg import norm as norm\n",
    "from scipy.spatial.transform import Rotation as R\n",
    "import matplotlib.pyplot as plt\n",
    "from pyscf.grad import rhf as grhf\n",
    "from pyscf.hessian import rhf as hrhf\n",
    "import basis_set_exchange as bse\n",
    "from pyscf.geomopt.berny_solver import optimize\n",
    "from berny import Berny, geomlib,Geometry,Math\n",
    "import berny.coords\n",
    "import sys\n",
    "sys.path.append(\"/home/administrator/Documenti/APDFT/prototyping/hessian/AAFF/Libs/\")\n",
    "from Morse import mpa\n",
    "from AP_class import APDFT_perturbator as APP\n",
    "from aaff import aaff,alc_deriv_grad_nuc,alc_differential_grad_nuc\n",
    "from FcMole import FcM,FcM_like\n",
    "from alch_deriv import alch_deriv\n",
    "from FDcoeffs import *\n",
    "ang2bohr=1.8897261246\n",
    "bohr2ang=.5291772109"
   ]
  },
  {
   "cell_type": "code",
   "execution_count": 2,
   "metadata": {},
   "outputs": [],
   "source": [
    "l=3.3376\n",
    "x=-(1/24)**.5*l\n",
    "z=(2/3)**.5*l+x\n",
    "ch4str=\"C 0 0 0; H 0 0  {}; H  0  {} {}; H {} {} {}; H {} {} {}\".format(z,l/3**.5,x,l/2,-l*3**.5/6,x,-l/2,-l*3**.5/6,x)"
   ]
  },
  {
   "cell_type": "code",
   "execution_count": 3,
   "metadata": {},
   "outputs": [],
   "source": [
    "def build_h_ic(s,g_ic,h0,B_inv):\n",
    "    geom0=s.geom.copy()\n",
    "    B=s.coords.B_matrix(geom0)\n",
    "    bms=[]\n",
    "    for i in range(geom0.coords.flatten().shape[0]):\n",
    "        a=geom0.coords.flatten()\n",
    "        geom1=geom0.copy()\n",
    "        a[i]+=.001*bohr2ang\n",
    "        a=a.reshape(geom0.coords.shape)\n",
    "        geom1.coords=a\n",
    "        bms.append((s.coords.B_matrix(geom1)-B)*1000)\n",
    "    bms_arr=np.asarray(bms)\n",
    "    BpG2=np.einsum('ijk,j->ik',bms,g_ic)\n",
    "    h_ic=B_inv.T@(h0-BpG2)@B_inv\n",
    "    return h_ic\n",
    "tbbde={\"CH\":105/627.5,\"HC\":105/627.5,\"NH\":110/627.5,\"HN\":110/627.5,\\\n",
    "       \"OH\":119/627.5,\"HO\":119/627.5,\"FH\":136/627.5,\"HF\":136/627.5}"
   ]
  },
  {
   "cell_type": "code",
   "execution_count": 4,
   "metadata": {},
   "outputs": [],
   "source": [
    "def mpa_pb(coords,atoml,g,h,gic=False,solve_ic=False,ghost=[]):\n",
    "    g=np.asarray(g)\n",
    "    if not len(h.shape)==2:\n",
    "        h=h.swapaxes(1,2)\n",
    "        h=h.reshape(g.shape[0]*3,g.shape[0]*3)\n",
    "    geom0=Geometry(atoml,coords*bohr2ang)\n",
    "    bernyobj=Berny(geom0)\n",
    "    s=bernyobj._state\n",
    "    B = s.coords.B_matrix(geom0)\n",
    "    q0=s.coords.eval_geom(geom0)\n",
    "    B_inv = B.T.dot(Math.pinv(np.dot(B, B.T)))\n",
    "    if not gic:\n",
    "        g_ic=np.dot(B_inv.T, (g).reshape(-1))\n",
    "    else:\n",
    "        g_ic=g\n",
    "  #  print (s.coords._coords)\n",
    "   # for c in range(len(s.coords._coords)):\n",
    "   #     if s.coords._coords[c].__class__ is berny.coords.Bond:\n",
    "   #         if s.coords._coords[c].i in ghost or s.coords._coords[c].j in ghost:\n",
    "   #             g_ic[c]=0\n",
    "   #     if s.coords._coords[c].__class__ is berny.coords.Angle:\n",
    "   #         if s.coords._coords[c].i in ghost or s.coords._coords[c].j in ghost or s.coords._coords[c].k in ghost:\n",
    "   #             g_ic[c]=0\n",
    "                \n",
    "    h_ic=build_h_ic(s,g_ic,h,B_inv)\n",
    "    #print (s.coords._coords)\n",
    "    if not solve_ic:    \n",
    "        return mpa(g_ic[0],h_ic[0,0],q0[0],tbbde[atoml[s.coords._coords[0].i]+atoml[s.coords._coords[0].j]])[0]\\\n",
    "                +g_ic[0]/h_ic[0,0]-q0[0]\n",
    "    bnr=0\n",
    "    ddq_mb=np.zeros_like(q0)\n",
    "    for i in range(len(s.coords._coords)):\n",
    "        if s.coords._coords[i].__class__ is berny.coords.Bond:\n",
    "            bnr+=1\n",
    "            if s.coords._coords[i].i not in ghost and s.coords._coords[i].j not in ghost:\n",
    "                bondatoms=atoml[s.coords._coords[i].i]+atoml[s.coords._coords[i].j]\n",
    "                ddq_mb[i]+=mpa(g_ic[i],h_ic[i,i],q0[i],tbbde[bondatoms])[0]+g_ic[i]/h_ic[i,i]-q0[i]\n",
    "    dq_NR=-np.linalg.solve(h_ic,g_ic)\n",
    "    ddq_mb[bnr:]=np.linalg.solve(h_ic[bnr:,bnr:],-h_ic[bnr:,:]@(ddq_mb))\n",
    "    return q0,dq_NR,q0+dq_NR,q0+dq_NR+ddq_mb"
   ]
  },
  {
   "cell_type": "code",
   "execution_count": 5,
   "metadata": {},
   "outputs": [
    {
     "name": "stdout",
     "output_type": "stream",
     "text": [
      "converged SCF energy = -40.2151804034984\n",
      "--------------- RHF gradients ---------------\n",
      "         x                y                z\n",
      "0 C    -0.0000000000     0.0000000000     0.0000000000\n",
      "1 H    -0.0000000000     0.0000000000    -0.0000007926\n",
      "2 H    -0.0000000000    -0.0000007473     0.0000002642\n",
      "3 H    -0.0000006472     0.0000003736     0.0000002642\n",
      "4 H     0.0000006472     0.0000003736     0.0000002642\n",
      "----------------------------------------------\n"
     ]
    }
   ],
   "source": [
    "CH4=gto.M(atom=ch4str,unit=\"bohr\",basis={\"H\":\"pc-2\",'C':bse.get_basis(\"pcX-2\",fmt=\"nwchem\",elements=[6])})\n",
    "mf = scf.RHF(CH4)\n",
    "mf.scf()\n",
    "g0=mf.Gradients().grad()\n",
    "h0=mf.Hessian().hess()\n",
    "ch4coords=CH4.atom_coords()"
   ]
  },
  {
   "cell_type": "code",
   "execution_count": 6,
   "metadata": {},
   "outputs": [],
   "source": [
    "afC=aaff(mf,[1,0,0,0,0])+alc_deriv_grad_nuc(CH4,[1,0,0,0,0])\n",
    "afH1=aaff(mf,[0,0,0,0,-1])+alc_deriv_grad_nuc(CH4,[0,0,0,0,-1])\n",
    "afH2=aaff(mf,[0,0,0,-1,0])+alc_deriv_grad_nuc(CH4,[0,0,0,-1,0])\n",
    "afH3=aaff(mf,[0,0,-1,0,0])+alc_deriv_grad_nuc(CH4,[0,0,-1,0,0])"
   ]
  },
  {
   "cell_type": "code",
   "execution_count": 7,
   "metadata": {},
   "outputs": [],
   "source": [
    "nh3optg,oh2optg,fhoptg=np.load(\"optgeoms.npy\")"
   ]
  },
  {
   "cell_type": "code",
   "execution_count": 8,
   "metadata": {},
   "outputs": [],
   "source": [
    "#getting inverse of the hessian matrix\n",
    "H1=np.linalg.inv((np.swapaxes(h0,1,2)).reshape(15,15))\n",
    "h1=H1.reshape(5,3,5,3)\n",
    "def invhess(h):\n",
    "    H=np.linalg.inv((np.swapaxes(h,1,2)).reshape(h.shape[0]*h.shape[2],h.shape[0]*h.shape[2]))\n",
    "    h1=H.reshape(h.shape[0],h.shape[2],h.shape[1],h.shape[3])\n",
    "    return h1"
   ]
  },
  {
   "cell_type": "code",
   "execution_count": 9,
   "metadata": {},
   "outputs": [],
   "source": [
    "nh3predictg=(ch4coords-np.einsum('ijkl,kl->ij',h1,  afC+afH1))[:4]\n",
    "oh2predictg=(ch4coords-np.einsum('ijkl,kl->ij',h1,  2*afC+afH1+afH2))[:3]\n",
    "fhpredictg=(ch4coords- np.einsum('ijkl,kl->ij',h1,  3*afC+afH1+afH2+afH3))[:2]"
   ]
  },
  {
   "cell_type": "code",
   "execution_count": 10,
   "metadata": {},
   "outputs": [],
   "source": [
    "#place non H atom in the origin\n",
    "nh3predictg-=nh3predictg[0]\n",
    "oh2predictg-=oh2predictg[0]\n",
    "fhpredictg-=fhpredictg[0]\n",
    "nh3optg-=nh3optg[0]\n",
    "oh2optg-=oh2optg[0]\n",
    "fhoptg-=fhoptg[0]"
   ]
  },
  {
   "cell_type": "code",
   "execution_count": 11,
   "metadata": {},
   "outputs": [
    {
     "name": "stdout",
     "output_type": "stream",
     "text": [
      "2.043854241378284\n",
      "1.877102528301789 1.8856061076490165\n",
      "1.7017428542299706 1.7756053665813991\n",
      "1.5148039815344685 1.69574139\n"
     ]
    }
   ],
   "source": [
    "#bond lengths\n",
    "print(norm(ch4coords[1]))\n",
    "print(norm(nh3predictg[1]),norm(nh3optg[1]))\n",
    "print(norm(oh2predictg[1]),norm(oh2optg[1]))\n",
    "print(norm(fhpredictg[1]),norm(fhoptg[1]))"
   ]
  },
  {
   "cell_type": "code",
   "execution_count": 12,
   "metadata": {},
   "outputs": [],
   "source": [
    "def anglecenter(coords):\n",
    "    return np.around(np.arccos(coords[1].dot(coords[2])/norm(coords[1])/norm(coords[2]))*180/np.pi,decimals=3)"
   ]
  },
  {
   "cell_type": "code",
   "execution_count": 13,
   "metadata": {},
   "outputs": [
    {
     "name": "stdout",
     "output_type": "stream",
     "text": [
      "109.471\n",
      "103.102 108.193\n",
      "96.677 106.393\n"
     ]
    }
   ],
   "source": [
    "#angles  \n",
    "print(anglecenter(ch4coords))\n",
    "print(anglecenter(nh3predictg),anglecenter(nh3optg))\n",
    "print(anglecenter(oh2predictg),anglecenter(oh2optg))"
   ]
  },
  {
   "cell_type": "code",
   "execution_count": 14,
   "metadata": {},
   "outputs": [],
   "source": [
    "minimum=(norm(nh3optg[1]),anglecenter(nh3optg)*np.pi/180)"
   ]
  },
  {
   "cell_type": "markdown",
   "metadata": {},
   "source": [
    "## Rotations "
   ]
  },
  {
   "cell_type": "code",
   "execution_count": 15,
   "metadata": {},
   "outputs": [],
   "source": [
    "rv=np.asarray([0,0,1])*np.pi*2/3\n",
    "r = R.from_rotvec(rv)"
   ]
  },
  {
   "cell_type": "code",
   "execution_count": 16,
   "metadata": {},
   "outputs": [],
   "source": [
    "np.set_printoptions(precision=5,suppress=True)"
   ]
  },
  {
   "cell_type": "code",
   "execution_count": 17,
   "metadata": {},
   "outputs": [
    {
     "data": {
      "text/plain": [
       "array([[ 0.02542, -0.01467, -0.01038],\n",
       "       [ 0.0125 , -0.00722, -0.011  ],\n",
       "       [ 0.0125 , -0.01278, -0.00314],\n",
       "       [-0.06774,  0.03911,  0.02766],\n",
       "       [ 0.01732, -0.00444, -0.00314]])"
      ]
     },
     "execution_count": 17,
     "metadata": {},
     "output_type": "execute_result"
    }
   ],
   "source": [
    "afH2"
   ]
  },
  {
   "cell_type": "code",
   "execution_count": 18,
   "metadata": {},
   "outputs": [
    {
     "data": {
      "text/plain": [
       "array([[ 0.02542, -0.01467, -0.01038],\n",
       "       [ 0.0125 , -0.00722, -0.011  ],\n",
       "       [ 0.0125 , -0.01278, -0.00314],\n",
       "       [-0.06774,  0.03911,  0.02766],\n",
       "       [ 0.01732, -0.00444, -0.00314]])"
      ]
     },
     "execution_count": 18,
     "metadata": {},
     "output_type": "execute_result"
    }
   ],
   "source": [
    "b=r.apply(afH1)\n",
    "b[[2,3,4]]=b[[3,4,2]]\n",
    "b #=afH2"
   ]
  },
  {
   "cell_type": "code",
   "execution_count": 19,
   "metadata": {},
   "outputs": [
    {
     "data": {
      "text/plain": [
       "array([[-0.     ,  0.02935, -0.01038],\n",
       "       [-0.     ,  0.01444, -0.011  ],\n",
       "       [ 0.     , -0.07822,  0.02766],\n",
       "       [-0.00481,  0.01722, -0.00314],\n",
       "       [ 0.00481,  0.01722, -0.00314]])"
      ]
     },
     "execution_count": 19,
     "metadata": {},
     "output_type": "execute_result"
    }
   ],
   "source": [
    "afH3"
   ]
  },
  {
   "cell_type": "code",
   "execution_count": 20,
   "metadata": {},
   "outputs": [
    {
     "data": {
      "text/plain": [
       "array([[ 0.     ,  0.02935, -0.01038],\n",
       "       [-0.     ,  0.01444, -0.011  ],\n",
       "       [ 0.     , -0.07822,  0.02766],\n",
       "       [-0.00481,  0.01722, -0.00314],\n",
       "       [ 0.00481,  0.01722, -0.00314]])"
      ]
     },
     "execution_count": 20,
     "metadata": {},
     "output_type": "execute_result"
    }
   ],
   "source": [
    "c=r.apply(r.apply(afH1))\n",
    "c[[2,3,4]]=c[[4,2,3]]\n",
    "c"
   ]
  },
  {
   "cell_type": "code",
   "execution_count": 21,
   "metadata": {},
   "outputs": [
    {
     "data": {
      "text/plain": [
       "(array([[ 0.26311, -0.12201, -0.08627],\n",
       "        [-0.12201,  0.12223,  0.04981],\n",
       "        [-0.08627,  0.04981,  0.087  ]]),\n",
       " array([[ 0.26311, -0.12201, -0.08627],\n",
       "        [-0.12201,  0.12223,  0.04981],\n",
       "        [-0.08627,  0.04981,  0.087  ]]))"
      ]
     },
     "execution_count": 21,
     "metadata": {},
     "output_type": "execute_result"
    }
   ],
   "source": [
    "r.apply(r.apply(h0[4,4]).T),h0[3,3]"
   ]
  },
  {
   "cell_type": "code",
   "execution_count": 22,
   "metadata": {},
   "outputs": [
    {
     "data": {
      "text/plain": [
       "(array([[ 0.00187, -0.02882,  0.01207],\n",
       "        [ 0.00065, -0.01439,  0.00506],\n",
       "        [ 0.00165, -0.01298,  0.0044 ]]),\n",
       " array([[ 0.00187, -0.02882,  0.01207],\n",
       "        [ 0.00065, -0.01439,  0.00506],\n",
       "        [ 0.00165, -0.01298,  0.0044 ]]))"
      ]
     },
     "execution_count": 22,
     "metadata": {},
     "output_type": "execute_result"
    }
   ],
   "source": [
    "r.apply(r.apply(h0[3,2]).T).T,h0[2,4]"
   ]
  },
  {
   "cell_type": "code",
   "execution_count": 23,
   "metadata": {},
   "outputs": [
    {
     "data": {
      "text/plain": [
       "(array([[-0.00119,  0.     ,  0.     ],\n",
       "        [ 0.     ,  0.00289, -0.00007],\n",
       "        [ 0.     ,  0.03602, -0.00982]]),\n",
       " array([[-0.00119,  0.     , -0.     ],\n",
       "        [ 0.     ,  0.00289, -0.00007],\n",
       "        [ 0.     ,  0.03602, -0.00982]]))"
      ]
     },
     "execution_count": 23,
     "metadata": {},
     "output_type": "execute_result"
    }
   ],
   "source": [
    "r.apply(r.apply(h0[3,1]).T).T,h0[2,1]"
   ]
  },
  {
   "cell_type": "code",
   "execution_count": 24,
   "metadata": {},
   "outputs": [
    {
     "data": {
      "text/plain": [
       "(array([[-0.05433,  0.     ,  0.     ],\n",
       "        [ 0.     , -0.30766,  0.08956],\n",
       "        [-0.     ,  0.08956, -0.086  ]]),\n",
       " array([[-0.05433, -0.     ,  0.     ],\n",
       "        [-0.     , -0.30766,  0.08956],\n",
       "        [-0.     ,  0.08956, -0.086  ]]))"
      ]
     },
     "execution_count": 24,
     "metadata": {},
     "output_type": "execute_result"
    }
   ],
   "source": [
    "r.apply(r.apply(h0[0,3]).T).T,h0[0,2]"
   ]
  },
  {
   "cell_type": "code",
   "execution_count": 25,
   "metadata": {},
   "outputs": [
    {
     "data": {
      "text/plain": [
       "(array([[-0.05433, -0.     , -0.     ],\n",
       "        [-0.     , -0.05433, -0.     ],\n",
       "        [-0.     , -0.     , -0.33932]]),\n",
       " array([[-0.05433, -0.     , -0.     ],\n",
       "        [-0.     , -0.05433,  0.     ],\n",
       "        [-0.     ,  0.     , -0.33932]]))"
      ]
     },
     "execution_count": 25,
     "metadata": {},
     "output_type": "execute_result"
    }
   ],
   "source": [
    "r.apply(r.apply(h0[1,0]).T).T,h0[1,0]"
   ]
  },
  {
   "cell_type": "code",
   "execution_count": 26,
   "metadata": {},
   "outputs": [],
   "source": [
    "def rothess(h):\n",
    "    hr=np.zeros_like(h)\n",
    "    ridx={0:0,1:1,2:3,3:4,4:2}\n",
    "    for i in range(5):\n",
    "        for j in range(5):\n",
    "            hr[i,j]=r.apply(r.apply(h[ridx[i],ridx[j]]).T).T\n",
    "    return hr\n",
    "def rot2hess(h):\n",
    "        return rothess(rothess(h))\n",
    "def rotgrad(g):\n",
    "    b=r.apply(g)\n",
    "    b[[2,3,4]]=b[[3,4,2]]\n",
    "    return b \n",
    "def rot2grad(g):\n",
    "        return rotgrad(rotgrad(g))"
   ]
  },
  {
   "cell_type": "code",
   "execution_count": 27,
   "metadata": {},
   "outputs": [
    {
     "data": {
      "text/plain": [
       "True"
      ]
     },
     "execution_count": 27,
     "metadata": {},
     "output_type": "execute_result"
    }
   ],
   "source": [
    "np.allclose(rothess(h0),h0)"
   ]
  },
  {
   "cell_type": "code",
   "execution_count": 28,
   "metadata": {},
   "outputs": [
    {
     "data": {
      "text/plain": [
       "True"
      ]
     },
     "execution_count": 28,
     "metadata": {},
     "output_type": "execute_result"
    }
   ],
   "source": [
    "np.allclose(rot2grad(afH3),afH2)"
   ]
  },
  {
   "cell_type": "code",
   "execution_count": 29,
   "metadata": {},
   "outputs": [],
   "source": [
    "def reflectv(v,i,j):\n",
    "    v1=ch4coords[5-i]\n",
    "    v2=ch4coords[5-j]\n",
    "    vs=v1+v2\n",
    "    vp=np.cross(v1,v2)\n",
    "    vo=np.cross(vs,vp)\n",
    "    vo/=norm(vo)\n",
    "    return v-(v.dot(vo))*2*vo"
   ]
  },
  {
   "cell_type": "code",
   "execution_count": 30,
   "metadata": {},
   "outputs": [],
   "source": [
    "def reflgrad(g,i,j):\n",
    "    if i==j:\n",
    "        return g\n",
    "    gr=np.zeros_like(g)\n",
    "    for k in range(g.shape[0]):\n",
    "        gr[k]=reflectv(g[k],i,j)\n",
    "    gr[[5-i,5-j]]=gr[[5-j,5-i]]\n",
    "    return gr"
   ]
  },
  {
   "cell_type": "code",
   "execution_count": 31,
   "metadata": {},
   "outputs": [
    {
     "data": {
      "text/plain": [
       "array([[-0.02542, -0.01467, -0.01038],\n",
       "       [-0.0125 , -0.00722, -0.011  ],\n",
       "       [-0.0125 , -0.01278, -0.00314],\n",
       "       [-0.01732, -0.00444, -0.00314],\n",
       "       [ 0.06774,  0.03911,  0.02766]])"
      ]
     },
     "execution_count": 31,
     "metadata": {},
     "output_type": "execute_result"
    }
   ],
   "source": [
    "reflgrad(afH1,1,1)"
   ]
  },
  {
   "cell_type": "markdown",
   "metadata": {},
   "source": [
    "## First derivative \n",
    "$$ APDFT1(g)=  \\sum_I\\frac{\\partial g}{\\partial \\lambda_I} =\\sum_I F_I $$\n",
    "all derivative are equal and can be computed analytically , $F$ is the alchemical force. \n",
    "## Second derivative \n",
    "$$ APDFT2(g)= \\sum_I (\\frac{\\partial F_I}{\\partial \\lambda_I} \n",
    "+2 \\frac{\\partial }{\\partial \\lambda_I}\\sum_{J\\ne I} F_J )\n",
    "$$\n",
    "\n",
    "## Third derivative \n",
    "$$ APDFT3(g)= \\sum_K \\frac{\\partial}{\\partial \\lambda_K}\\sum_I (\\frac{\\partial F_I}{\\partial \\lambda_I} \n",
    "+2 \\frac{\\partial }{\\partial \\lambda_I}\\sum_{J\\ne I} F_J )\n",
    "$$ "
   ]
  },
  {
   "cell_type": "code",
   "execution_count": 32,
   "metadata": {},
   "outputs": [
    {
     "name": "stdout",
     "output_type": "stream",
     "text": [
      "converged SCF energy = -56.2053208898248\n"
     ]
    },
    {
     "data": {
      "text/plain": [
       "-56.205320889824826"
      ]
     },
     "execution_count": 32,
     "metadata": {},
     "output_type": "execute_result"
    }
   ],
   "source": [
    "Tm=FcM(fcs=[1,0,0,0,-1],atom=ch4str,unit=\"bohr\",basis={\"H\":\"pc-2\",'C':bse.get_basis(\"pcX-2\",fmt=\"nwchem\",elements=[6])})\n",
    "Tmf = scf.RHF(Tm)\n",
    "Tmf.scf(dm0=Tmf.init_guess_by_1e())"
   ]
  },
  {
   "cell_type": "code",
   "execution_count": 33,
   "metadata": {},
   "outputs": [
    {
     "name": "stdout",
     "output_type": "stream",
     "text": [
      "--------------- RHF gradients ---------------\n",
      "         x                y                z\n",
      "0 C    -0.0379252172    -0.0218961344    -0.0154829051\n",
      "1 H    -0.0052084464    -0.0030070979     0.0634324768\n",
      "2 H    -0.0052084464     0.0588023467    -0.0239792781\n",
      "3 H     0.0483201028    -0.0339118203    -0.0239792781\n",
      "4 H     0.0000220072     0.0000127059     0.0000089844\n",
      "----------------------------------------------\n"
     ]
    }
   ],
   "source": [
    "Tg=Tmf.Gradients().grad()\n",
    "Th=Tmf.Hessian().hess()"
   ]
  },
  {
   "cell_type": "code",
   "execution_count": 34,
   "metadata": {},
   "outputs": [],
   "source": [
    "#p , m , pp, mm\n",
    "dl=.1"
   ]
  },
  {
   "cell_type": "code",
   "execution_count": 35,
   "metadata": {},
   "outputs": [
    {
     "name": "stdout",
     "output_type": "stream",
     "text": [
      "converged SCF energy = -41.6026363391306\n"
     ]
    }
   ],
   "source": [
    "CH4_p=FcM(fcs=[dl,0,0,0,-dl],atom=ch4str,unit=\"bohr\",basis={\"H\":\"pc-2\",'C':bse.get_basis(\"pcX-2\",fmt=\"nwchem\",elements=[6])})\n",
    "mf_p = scf.RHF(CH4_p)\n",
    "mf_p.scf(dm0=mf_p.init_guess_by_1e())\n",
    "af_p1=aaff(mf_p,[1,0,0,0,-1])+alc_deriv_grad_nuc(CH4_p,[1,0,0,0,-1])\n",
    "hp=mf_p.Hessian().hess()"
   ]
  },
  {
   "cell_type": "code",
   "execution_count": 36,
   "metadata": {},
   "outputs": [
    {
     "name": "stdout",
     "output_type": "stream",
     "text": [
      "converged SCF energy = -43.0388427656976\n"
     ]
    }
   ],
   "source": [
    "CH4_p2=FcM(fcs=[2*dl,0,0,0,-2*dl],atom=ch4str,unit=\"bohr\",basis={\"H\":\"pc-2\",'C':bse.get_basis(\"pcX-2\",fmt=\"nwchem\",elements=[6])})\n",
    "mf_p2 = scf.RHF(CH4_p2)\n",
    "mf_p2.scf(dm0=mf_p2.init_guess_by_1e())\n",
    "af_p2=aaff(mf_p2,[1,0,0,0,-1])+alc_deriv_grad_nuc(CH4_p2,[1,0,0,0,-1])\n",
    "hp2=mf_p2.Hessian().hess()"
   ]
  },
  {
   "cell_type": "code",
   "execution_count": 37,
   "metadata": {},
   "outputs": [
    {
     "name": "stdout",
     "output_type": "stream",
     "text": [
      "converged SCF energy = -38.8771643174895\n"
     ]
    }
   ],
   "source": [
    "CH4_m=FcM(fcs=[-dl,0,0,0,dl],atom=ch4str,unit=\"bohr\",basis={\"H\":\"pc-2\",'C':bse.get_basis(\"pcX-2\",fmt=\"nwchem\",elements=[6])})\n",
    "mf_m = scf.RHF(CH4_m)\n",
    "mf_m.scf(dm0=mf_m.init_guess_by_1e())\n",
    "af_m1=aaff(mf_m,[1,0,0,0,-1])+alc_deriv_grad_nuc(CH4_m,[1,0,0,0,-1])\n",
    "hm=mf_m.Hessian().hess()"
   ]
  },
  {
   "cell_type": "code",
   "execution_count": 38,
   "metadata": {},
   "outputs": [
    {
     "name": "stdout",
     "output_type": "stream",
     "text": [
      "converged SCF energy = -37.589225638503\n"
     ]
    }
   ],
   "source": [
    "CH4_m2=FcM(fcs=[-2*dl,0,0,0,2*dl],atom=ch4str,unit=\"bohr\",basis={\"H\":\"pc-2\",'C':bse.get_basis(\"pcX-2\",fmt=\"nwchem\",elements=[6])})\n",
    "mf_m2 = scf.RHF(CH4_m2)\n",
    "mf_m2.scf(dm0=mf_m2.init_guess_by_1e())\n",
    "af_m2=aaff(mf_m2,[1,0,0,0,-1])+alc_deriv_grad_nuc(CH4_m2,[1,0,0,0,-1])\n",
    "hm2=mf_m2.Hessian().hess()"
   ]
  },
  {
   "cell_type": "code",
   "execution_count": 39,
   "metadata": {},
   "outputs": [
    {
     "data": {
      "text/plain": [
       "(array([[ 1.13366,  0.65452,  0.46281],\n",
       "        [ 0.04489,  0.02591, -0.16609],\n",
       "        [ 0.04489, -0.14795,  0.0798 ],\n",
       "        [-0.10569,  0.11285,  0.0798 ],\n",
       "        [-1.11774, -0.64533, -0.45632]]),\n",
       " array([[ 1.09457,  0.63195,  0.44686],\n",
       "        [ 0.04489,  0.02591, -0.16609],\n",
       "        [ 0.04489, -0.14795,  0.0798 ],\n",
       "        [-0.10569,  0.11285,  0.0798 ],\n",
       "        [-1.07865, -0.62276, -0.44036]]))"
      ]
     },
     "execution_count": 39,
     "metadata": {},
     "output_type": "execute_result"
    }
   ],
   "source": [
    "alc_deriv_grad_nuc(CH4_m,[1,0,0,0,-1]),alc_deriv_grad_nuc(CH4_m2,[1,0,0,0,-1])"
   ]
  },
  {
   "cell_type": "code",
   "execution_count": 40,
   "metadata": {},
   "outputs": [],
   "source": [
    "af_1=afH1+afC\n",
    "af_11=(af_m2/12-2/3*af_m1+2/3*af_p1-1/12*af_p2)/dl\n",
    "af_111=(-1/12*af_m2 +4/3*af_m1-5/2*af_1+4/3*af_p1 -1/12*af_p2)/dl**2"
   ]
  },
  {
   "cell_type": "code",
   "execution_count": 41,
   "metadata": {},
   "outputs": [],
   "source": [
    "adh_11=(hp-hm)/2/dl\n",
    "adh_111=(hp+hm-2*h0)/dl**2"
   ]
  },
  {
   "cell_type": "code",
   "execution_count": 42,
   "metadata": {},
   "outputs": [],
   "source": [
    "af_1111=(-1/2*af_m2+af_m1-af_p1+1/2*af_p2)/dl**3\n",
    "af_11111=(af_m2-4*af_m1+6*af_1-4*af_p1+af_p2)/dl**4\n",
    "adh_1111=(-1/2*hm2+hm-hp+1/2*hp2)/dl**3\n",
    "adh_11111=(hm2-4*hm+6*h0-4*hp+hp2)/dl**4"
   ]
  },
  {
   "cell_type": "code",
   "execution_count": 43,
   "metadata": {},
   "outputs": [],
   "source": [
    "ap2_g=af_1+af_11/2\n",
    "ap2_h=h0+adh_11\n",
    "ap3_g=af_1+af_11/2+af_111/6\n",
    "ap3_h=h0+adh_11+adh_111/2\n",
    "ap4_g=af_1+af_11/2+af_111/6+af_1111/24\n",
    "ap4_h=h0+adh_11+adh_111/2+adh_1111/6second\n",
    "ap5_g=af_1+af_11/2+af_111/6+af_1111/24+af_11111/120\n",
    "ap5_h=h0+adh_11+adh_111/2+adh_1111/6+adh_11111/24"
   ]
  },
  {
   "cell_type": "code",
   "execution_count": 44,
   "metadata": {},
   "outputs": [],
   "source": [
    "def nr_step(ic,g,h):\n",
    "    ncoords=ic.shape[0]*ic.shape[1]\n",
    "    p1cds=ic-np.linalg.solve((np.swapaxes(h,1,2)).reshape(ncoords,ncoords),g.reshape(-1)).reshape(ic.shape[0],ic.shape[1])\n",
    "    p1cds-=p1cds[0]\n",
    "    print (norm(p1cds[1]))\n",
    "    if p1cds.shape[0]>2:\n",
    "        print (anglecenter(p1cds),anglecenter(p1cds)*np.pi/180)\n",
    "    return(p1cds)\n",
    "def nr_step3(g,h):\n",
    "    p1cds=ch4coords[:3]-np.linalg.solve((np.swapaxes(h,1,2)).reshape(9,9),g.reshape(-1)).reshape(3,3)\n",
    "    p1cds-=p1cds[0]\n",
    "    print (norm(p1cds[1]),anglecenter(p1cds),anglecenter(p1cds)*np.pi/180)\n",
    "    return(p1cds)"
   ]
  },
  {
   "cell_type": "code",
   "execution_count": 45,
   "metadata": {},
   "outputs": [
    {
     "name": "stdout",
     "output_type": "stream",
     "text": [
      "1.8771028114069646\n",
      "103.102 1.7994693653911935\n"
     ]
    }
   ],
   "source": [
    "p1cds=nr_step(ch4coords,af_1,h0)"
   ]
  },
  {
   "cell_type": "code",
   "execution_count": 46,
   "metadata": {},
   "outputs": [
    {
     "name": "stdout",
     "output_type": "stream",
     "text": [
      "1.8353590585595736\n",
      "104.377 1.8217223133541214\n"
     ]
    },
    {
     "data": {
      "text/plain": [
       "1.9027895830284565"
      ]
     },
     "execution_count": 46,
     "metadata": {},
     "output_type": "execute_result"
    }
   ],
   "source": [
    "norm(nr_step(ch4coords,af_1,ap2_h)[1])+mpa_pb(ch4coords,[\"N\",\"H\",\"H\",\"H\",\"H\"],af_1,ap2_h)"
   ]
  },
  {
   "cell_type": "code",
   "execution_count": 47,
   "metadata": {},
   "outputs": [
    {
     "data": {
      "text/plain": [
       "(array([2.04385, 2.04385, 2.04385, 2.04385, 1.91063, 1.91063, 1.91063,\n",
       "        1.91063, 1.91063, 1.91063]),\n",
       " array([-0.21433, -0.21433, -0.21433,  0.82175, -2.84084, -2.84083,\n",
       "        -2.84151, -2.84082, -2.84129, -2.84104]),\n",
       " array([ 1.82952,  1.82952,  1.82952,  2.8656 , -0.93021, -0.9302 ,\n",
       "        -0.93087, -0.93019, -0.93066, -0.9304 ]),\n",
       " array([ 1.88992,  1.88991,  1.88991,  2.8656 , -0.40588, -0.40587,\n",
       "        -0.35087, -0.40586, -0.35069, -0.35041]))"
      ]
     },
     "execution_count": 47,
     "metadata": {},
     "output_type": "execute_result"
    }
   ],
   "source": [
    "mpa_pb(ch4coords,[\"N\",\"H\",\"H\",\"H\",\"H\"],Tg,Th,ghost=[4],solve_ic=True)"
   ]
  },
  {
   "cell_type": "code",
   "execution_count": 48,
   "metadata": {},
   "outputs": [
    {
     "name": "stdout",
     "output_type": "stream",
     "text": [
      "1.8771028114069646\n",
      "103.102 1.7994693653911935\n"
     ]
    },
    {
     "data": {
      "text/plain": [
       "103.102"
      ]
     },
     "execution_count": 48,
     "metadata": {},
     "output_type": "execute_result"
    }
   ],
   "source": [
    "anglecenter(nr_step(ch4coords,af_1,h0))"
   ]
  },
  {
   "cell_type": "code",
   "execution_count": 49,
   "metadata": {},
   "outputs": [
    {
     "data": {
      "text/plain": [
       "(array([2.04385, 2.04385, 2.04385, 2.04385, 1.91063, 1.91063, 1.91063,\n",
       "        1.91063, 1.91063, 1.91063]),\n",
       " array([-0.21208, -0.21208, -0.21208,  0.07978, -0.0589 , -0.0589 ,\n",
       "        -0.041  , -0.0589 , -0.04101, -0.04103]),\n",
       " array([1.83177, 1.83177, 1.83177, 2.12364, 1.85173, 1.85174, 1.86964,\n",
       "        1.85174, 1.86962, 1.8696 ]),\n",
       " array([1.89164, 1.89165, 1.89165, 2.12364, 2.16243, 2.16243, 2.22797,\n",
       "        2.16243, 2.22796, 2.22794]))"
      ]
     },
     "execution_count": 49,
     "metadata": {},
     "output_type": "execute_result"
    }
   ],
   "source": [
    "mpa_pb(ch4coords,[\"N\",\"H\",\"H\",\"H\",\"H\"],ap5_g,ap5_h,ghost=[4],solve_ic=True)"
   ]
  },
  {
   "cell_type": "code",
   "execution_count": 50,
   "metadata": {},
   "outputs": [],
   "source": [
    "af_1m=af_1.copy()\n",
    "ap2_gm=ap2_g.copy()\n",
    "ap3_gm=ap3_g.copy()\n",
    "ap4_gm=ap4_g.copy()\n",
    "ap5_gm=ap5_g.copy()"
   ]
  },
  {
   "cell_type": "code",
   "execution_count": 51,
   "metadata": {},
   "outputs": [
    {
     "data": {
      "text/plain": [
       "array([[-0.03513, -0.02028, -0.01434],\n",
       "       [-0.00024, -0.00014, -0.0007 ],\n",
       "       [-0.00024, -0.00071,  0.0001 ],\n",
       "       [-0.00073,  0.00015,  0.0001 ],\n",
       "       [ 0.03634,  0.02098,  0.01484]])"
      ]
     },
     "execution_count": 51,
     "metadata": {},
     "output_type": "execute_result"
    }
   ],
   "source": [
    "af_11111/120"
   ]
  },
  {
   "cell_type": "code",
   "execution_count": 52,
   "metadata": {},
   "outputs": [
    {
     "data": {
      "text/plain": [
       "(array([[-0.11953, -0.06901, -0.0488 ],\n",
       "        [-0.00548, -0.00316,  0.06576],\n",
       "        [-0.00548,  0.06095, -0.0249 ],\n",
       "        [ 0.05004, -0.03522, -0.0249 ],\n",
       "        [ 0.08045,  0.04645,  0.03284]]),\n",
       " array([[-0.06049, -0.03493, -0.0247 ],\n",
       "        [-0.00399, -0.0023 ,  0.0639 ],\n",
       "        [-0.00399,  0.05948, -0.02347],\n",
       "        [ 0.04951, -0.0332 , -0.02347],\n",
       "        [ 0.01896,  0.01095,  0.00774]]),\n",
       " array([[-0.004  , -0.00231, -0.00163],\n",
       "        [-0.00539, -0.00311,  0.06381],\n",
       "        [-0.00539,  0.05912, -0.02421],\n",
       "        [ 0.0485 , -0.03423, -0.02421],\n",
       "        [-0.03372, -0.01947, -0.01377]]),\n",
       " array([[-0.03912, -0.02259, -0.01597],\n",
       "        [-0.00563, -0.00325,  0.0631 ],\n",
       "        [-0.00563,  0.05841, -0.0241 ],\n",
       "        [ 0.04777, -0.03408, -0.0241 ],\n",
       "        [ 0.00262,  0.00151,  0.00107]]),\n",
       " array([[-0.03793, -0.0219 , -0.01548],\n",
       "        [-0.00521, -0.00301,  0.06343],\n",
       "        [-0.00521,  0.0588 , -0.02398],\n",
       "        [ 0.04832, -0.03391, -0.02398],\n",
       "        [ 0.00002,  0.00001,  0.00001]]))"
      ]
     },
     "execution_count": 52,
     "metadata": {},
     "output_type": "execute_result"
    }
   ],
   "source": [
    "ap2_g,ap3_g,ap4_g,ap5_g,Tg"
   ]
  },
  {
   "cell_type": "code",
   "execution_count": 53,
   "metadata": {},
   "outputs": [],
   "source": [
    "af_1m[0]+=af_1[4]\n",
    "af_1m[4]-=af_1[4]\n",
    "ap2_gm[0]+=ap2_g[4]\n",
    "ap2_gm[4]-=ap2_g[4]\n",
    "ap3_gm[0]+=ap3_g[4]\n",
    "ap3_gm[4]-=ap3_g[4]\n",
    "ap4_gm[0]+=ap4_g[4]\n",
    "ap4_gm[4]-=ap4_g[4]\n",
    "ap5_gm[0]+=ap5_g[4]\n",
    "ap5_gm[4]-=ap5_g[4]"
   ]
  },
  {
   "cell_type": "code",
   "execution_count": 54,
   "metadata": {},
   "outputs": [
    {
     "name": "stdout",
     "output_type": "stream",
     "text": [
      "0.02546153217188889\n",
      "0.00431670377131287\n",
      "0.005106104162426655\n",
      "0.0007911982465517387\n",
      "0.0020191719939381693\n"
     ]
    },
    {
     "data": {
      "text/plain": [
       "(None, None, None, None, None)"
      ]
     },
     "execution_count": 54,
     "metadata": {},
     "output_type": "execute_result"
    }
   ],
   "source": [
    "print(norm(af_1m-Tg)),print(norm(ap2_gm-Tg)),print(norm(ap3_gm-Tg)),print(norm(ap4_gm-Tg)),print(norm(ap5_gm-Tg))"
   ]
  },
  {
   "cell_type": "code",
   "execution_count": 55,
   "metadata": {},
   "outputs": [
    {
     "name": "stdout",
     "output_type": "stream",
     "text": [
      "1st order [1.89735 1.89735 1.89735 1.84036 1.84036 1.84036]\n",
      "2nd order [1.8829  1.8829  1.8829  1.86955 1.86955 1.86955]\n",
      "3rd order [1.86453 1.86453 1.86453 1.95352 1.95352 1.95352]\n",
      "4th order [1.89015 1.89015 1.89016 1.88495 1.88495 1.88495]\n",
      "with target grad [1.88991 1.88991 1.88992 1.88554 1.88554 1.88554]\n"
     ]
    }
   ],
   "source": [
    "\n",
    "print(\"1st order\" ,mpa_pb(ch4coords[:4],[\"N\",\"H\",\"H\",\"H\"],af_1m[:4],ap2_h[:4,:4,:,:],solve_ic=True,ghost=[4])[3])\n",
    "print(\"2nd order\" ,mpa_pb(ch4coords[:4],[\"N\",\"H\",\"H\",\"H\"],ap2_gm[:4],ap3_h[:4,:4,:,:],solve_ic=True,ghost=[4])[3])\n",
    "print(\"3rd order\" ,mpa_pb(ch4coords[:4],[\"N\",\"H\",\"H\",\"H\"],ap3_gm[:4],ap4_h[:4,:4,:,:],solve_ic=True,ghost=[4])[3])\n",
    "print(\"4th order\" ,mpa_pb(ch4coords[:4],[\"N\",\"H\",\"H\",\"H\"],ap4_gm[:4],ap5_h[:4,:4,:,:],solve_ic=True,ghost=[4])[3])\n",
    "\n",
    "print(\"with target grad\" ,mpa_pb(ch4coords[:4],[\"N\",\"H\",\"H\",\"H\"],Tg[:4],Th[:4,:4,:,:],solve_ic=True,ghost=[4])[3])"
   ]
  },
  {
   "cell_type": "code",
   "execution_count": 56,
   "metadata": {},
   "outputs": [
    {
     "name": "stdout",
     "output_type": "stream",
     "text": [
      "[1.8829  1.8829  1.8829  1.86955 1.86955 1.86955]\n",
      "[1.99274 1.99276 1.99282 1.12369 1.12349 1.12339]\n"
     ]
    }
   ],
   "source": [
    "print(mpa_pb(ch4coords[:4],[\"N\",\"H\",\"H\",\"H\"],ap2_gm[:4],ap3_h[:4,:4,:,:],solve_ic=True,ghost=[4])[3])\n",
    "print(mpa_pb(ch4coords[:4],[\"N\",\"H\",\"H\",\"H\"],ap2_g[:4],ap3_h[:4,:4,:,:],solve_ic=True,ghost=[4])[3])"
   ]
  },
  {
   "cell_type": "code",
   "execution_count": 57,
   "metadata": {},
   "outputs": [
    {
     "name": "stdout",
     "output_type": "stream",
     "text": [
      "1.8196303013134536\n",
      "109.171 1.9053933976947295\n",
      "1.8196303079132299\n",
      "109.171 1.9053933976947295\n",
      "1.8771028114069646\n",
      "103.102 1.7994693653911935\n",
      "1.830545202777996\n",
      "109.12 1.9045032797762123\n"
     ]
    },
    {
     "data": {
      "text/plain": [
       "array([[ 0.     ,  0.     ,  0.     ],\n",
       "       [ 0.00965,  0.00557,  1.83051],\n",
       "       [ 0.00965,  1.72768, -0.60492],\n",
       "       [ 1.50104, -0.85549, -0.60492],\n",
       "       [-2.27065, -1.31096, -0.92699]])"
      ]
     },
     "execution_count": 57,
     "metadata": {},
     "output_type": "execute_result"
    }
   ],
   "source": [
    "nr_step(ch4coords[:4],ap2_gm[:4],ap3_h[:4,:4,:,:])\n",
    "nr_step(ch4coords,ap2_gm,ap3_h)\n",
    "nr_step(ch4coords,af_1,h0)\n",
    "nr_step(ch4coords,Tg,Th)"
   ]
  },
  {
   "cell_type": "code",
   "execution_count": 58,
   "metadata": {},
   "outputs": [
    {
     "data": {
      "text/plain": [
       "(1.8856061076490165, 1.888324077610225)"
      ]
     },
     "execution_count": 58,
     "metadata": {},
     "output_type": "execute_result"
    }
   ],
   "source": [
    "minimum"
   ]
  },
  {
   "cell_type": "code",
   "execution_count": 59,
   "metadata": {},
   "outputs": [
    {
     "name": "stdout",
     "output_type": "stream",
     "text": [
      "[1.91493 1.91493 1.91493 1.83769 1.8377  1.8377 ]\n",
      "[1.89735 1.89735 1.89735 1.84036 1.84036 1.84036]\n",
      "[1.8829  1.8829  1.8829  1.86955 1.86955 1.86955]\n",
      "[1.86453 1.86453 1.86453 1.95352 1.95352 1.95352]\n",
      "[1.89015 1.89015 1.89016 1.88495 1.88495 1.88495]\n",
      "[1.88991 1.88991 1.88992 1.88554 1.88554 1.88554]\n"
     ]
    }
   ],
   "source": [
    "print(mpa_pb(ch4coords[:4],[\"N\",\"H\",\"H\",\"H\"],af_1m[:4],h0[:4,:4,:,:],solve_ic=True,ghost=[4])[3])\n",
    "print(mpa_pb(ch4coords[:4],[\"N\",\"H\",\"H\",\"H\"],af_1m[:4],ap2_h[:4,:4,:,:],solve_ic=True,ghost=[4])[3])\n",
    "print(mpa_pb(ch4coords[:4],[\"N\",\"H\",\"H\",\"H\"],ap2_gm[:4],ap3_h[:4,:4,:,:],solve_ic=True,ghost=[4])[3])\n",
    "print(mpa_pb(ch4coords[:4],[\"N\",\"H\",\"H\",\"H\"],ap3_gm[:4],ap4_h[:4,:4,:,:],solve_ic=True,ghost=[4])[3])\n",
    "print(mpa_pb(ch4coords[:4],[\"N\",\"H\",\"H\",\"H\"],ap4_gm[:4],ap5_h[:4,:4,:,:],solve_ic=True,ghost=[4])[3])\n",
    "print(mpa_pb(ch4coords[:4],[\"N\",\"H\",\"H\",\"H\"],Tg[:4],Th[:4,:4,:,:],solve_ic=True,ghost=[4])[3])"
   ]
  },
  {
   "cell_type": "code",
   "execution_count": 60,
   "metadata": {},
   "outputs": [
    {
     "name": "stdout",
     "output_type": "stream",
     "text": [
      "(array([2.04385, 2.04385, 2.04385, 1.91063, 1.91063, 1.91063]), array([-0.22924, -0.22924, -0.22924,  0.01867,  0.01867,  0.01867]), array([1.81461, 1.81461, 1.81462, 1.9293 , 1.9293 , 1.9293 ]), array([1.8829 , 1.8829 , 1.8829 , 1.86955, 1.86955, 1.86955]))\n",
      "(array([2.04385, 2.04385, 2.04385, 1.91063, 1.91063, 1.91063]), array([-0.13855, -0.13853, -0.13848, -0.86039, -0.8606 , -0.86072]), array([1.9053 , 1.90532, 1.90538, 1.05024, 1.05003, 1.04992]), array([1.99274, 1.99276, 1.99282, 1.12369, 1.12349, 1.12339]))\n"
     ]
    }
   ],
   "source": [
    "print(mpa_pb(ch4coords[:4],[\"N\",\"H\",\"H\",\"H\"],ap2_gm[:4],ap3_h[:4,:4,:,:],solve_ic=True,ghost=[4]))\n",
    "print(mpa_pb(ch4coords[:4],[\"N\",\"H\",\"H\",\"H\"],ap2_g[:4],ap3_h[:4,:4,:,:],solve_ic=True,ghost=[4]))"
   ]
  },
  {
   "cell_type": "code",
   "execution_count": 61,
   "metadata": {},
   "outputs": [
    {
     "data": {
      "text/plain": [
       "(array([[-0.03909, -0.02257, -0.01596],\n",
       "        [-0.00548, -0.00316,  0.06576],\n",
       "        [-0.00548,  0.06095, -0.0249 ],\n",
       "        [ 0.05004, -0.03522, -0.0249 ],\n",
       "        [ 0.     ,  0.     ,  0.     ]]),\n",
       " array([[-0.11953, -0.06901, -0.0488 ],\n",
       "        [-0.00548, -0.00316,  0.06576],\n",
       "        [-0.00548,  0.06095, -0.0249 ],\n",
       "        [ 0.05004, -0.03522, -0.0249 ],\n",
       "        [ 0.08045,  0.04645,  0.03284]]),\n",
       " array([[-0.06049, -0.03493, -0.0247 ],\n",
       "        [-0.00399, -0.0023 ,  0.0639 ],\n",
       "        [-0.00399,  0.05948, -0.02347],\n",
       "        [ 0.04951, -0.0332 , -0.02347],\n",
       "        [ 0.01896,  0.01095,  0.00774]]),\n",
       " array([[-0.004  , -0.00231, -0.00163],\n",
       "        [-0.00539, -0.00311,  0.06381],\n",
       "        [-0.00539,  0.05912, -0.02421],\n",
       "        [ 0.0485 , -0.03423, -0.02421],\n",
       "        [-0.03372, -0.01947, -0.01377]]),\n",
       " array([[-0.03912, -0.02259, -0.01597],\n",
       "        [-0.00563, -0.00325,  0.0631 ],\n",
       "        [-0.00563,  0.05841, -0.0241 ],\n",
       "        [ 0.04777, -0.03408, -0.0241 ],\n",
       "        [ 0.00262,  0.00151,  0.00107]]),\n",
       " array([[-0.03793, -0.0219 , -0.01548],\n",
       "        [-0.00521, -0.00301,  0.06343],\n",
       "        [-0.00521,  0.0588 , -0.02398],\n",
       "        [ 0.04832, -0.03391, -0.02398],\n",
       "        [ 0.00002,  0.00001,  0.00001]]))"
      ]
     },
     "execution_count": 61,
     "metadata": {},
     "output_type": "execute_result"
    }
   ],
   "source": [
    "ap2_gm[:],ap2_g[:],ap3_g,ap4_g,ap5_g,Tg"
   ]
  },
  {
   "cell_type": "code",
   "execution_count": 62,
   "metadata": {},
   "outputs": [
    {
     "name": "stdout",
     "output_type": "stream",
     "text": [
      "[1.91493 1.91493 1.91493 1.83769 1.8377  1.8377 ]\n"
     ]
    }
   ],
   "source": [
    "print(mpa_pb(ch4coords[:4],[\"N\",\"H\",\"H\",\"H\"],af_1m[:4],h0[:4,:4,:,:],solve_ic=True,ghost=[4])[3])"
   ]
  },
  {
   "cell_type": "code",
   "execution_count": 63,
   "metadata": {},
   "outputs": [
    {
     "name": "stdout",
     "output_type": "stream",
     "text": [
      "(array([2.04385, 2.04385, 1.91063]), array([-0.3542 , -0.3542 , -0.33133]), array([1.68965, 1.68965, 1.5793 ]), array([1.86136, 1.86136, 1.5989 ]))\n"
     ]
    }
   ],
   "source": [
    "af_h2o=2*afC+afH1+afH2\n",
    "af_h2o[0]=af_h2o[0]+af_h2o[4]+af_h2o[3]\n",
    "af_h2o[4]-=af_h2o[4]\n",
    "af_h2o[3]-=af_h2o[3]\n",
    "print(mpa_pb(ch4coords[:3],[\"O\",\"H\",\"H\"],af_h2o[:3],h0[:3,:3,:,:],solve_ic=True))"
   ]
  },
  {
   "cell_type": "code",
   "execution_count": 64,
   "metadata": {},
   "outputs": [],
   "source": [
    "af_2=rotgrad(af_1)\n",
    "af_22=rotgrad(af_11)\n",
    "af_222=rotgrad(af_111)"
   ]
  },
  {
   "cell_type": "code",
   "execution_count": 65,
   "metadata": {},
   "outputs": [],
   "source": [
    "af_12=(aaff(mf_p,[1,0,0,-1,0])+alc_deriv_grad_nuc(CH4_p,[1,0,0,-1,0])-aaff(mf_m,[1,0,0,-1,0])-alc_deriv_grad_nuc(CH4_m,[1,0,0,-1,0]))/2/dl"
   ]
  },
  {
   "cell_type": "code",
   "execution_count": 66,
   "metadata": {},
   "outputs": [
    {
     "name": "stdout",
     "output_type": "stream",
     "text": [
      "(array([2.04385, 2.04385, 1.91063]), array([-0.30272, -0.30271, -0.27125]), array([1.74114, 1.74114, 1.63939]), array([1.86966, 1.86966, 1.65165]))\n"
     ]
    }
   ],
   "source": [
    "af_h2o=af_1+af_2+af_11/2+af_22/2+af_12\n",
    "af_h2o[0]=af_h2o[0]+af_h2o[4]+af_h2o[3]\n",
    "af_h2o[4]-=af_h2o[4]\n",
    "af_h2o[3]-=af_h2o[3]\n",
    "print(mpa_pb(ch4coords[:3],[\"O\",\"H\",\"H\"],af_h2o[:3],h0[:3,:3,:,:],solve_ic=True))"
   ]
  },
  {
   "cell_type": "code",
   "execution_count": 69,
   "metadata": {},
   "outputs": [
    {
     "name": "stdout",
     "output_type": "stream",
     "text": [
      "1.7397814314167623 100.758 1.7585588477244465\n"
     ]
    },
    {
     "data": {
      "text/plain": [
       "array([[ 0.     ,  0.     ,  0.     ],\n",
       "       [-0.00047,  0.13214,  1.73476],\n",
       "       [-0.00047,  1.67961, -0.45362]])"
      ]
     },
     "execution_count": 69,
     "metadata": {},
     "output_type": "execute_result"
    }
   ],
   "source": [
    "nr_step3(af_h2o[:3],h0[:3,:3,:,:])"
   ]
  },
  {
   "cell_type": "code",
   "execution_count": 70,
   "metadata": {},
   "outputs": [
    {
     "name": "stdout",
     "output_type": "stream",
     "text": [
      "converged SCF energy = -43.0255810209441\n"
     ]
    }
   ],
   "source": [
    "CH4_pp=FcM(fcs=[2*dl,0,0,-dl,-dl],atom=ch4str,unit=\"bohr\",basis={\"H\":\"pc-2\",'C':bse.get_basis(\"pcX-2\",fmt=\"nwchem\",elements=[6])})\n",
    "mf_pp = scf.RHF(CH4_pp)\n",
    "mf_pp.scf(dm0=mf_pp.init_guess_by_1e())\n",
    "af_pp=aaff(mf_pp,[2,0,0,-1,-1])+alc_deriv_grad_nuc(CH4_pp,[1,0,0,-1,-1])\n",
    "hpp=mf_pp.Hessian().hess()"
   ]
  },
  {
   "cell_type": "code",
   "execution_count": 71,
   "metadata": {},
   "outputs": [
    {
     "name": "stdout",
     "output_type": "stream",
     "text": [
      "converged SCF energy = -37.5739249489244\n"
     ]
    }
   ],
   "source": [
    "CH4_mm=FcM(fcs=[-2*dl,0,0,dl,dl],atom=ch4str,unit=\"bohr\",basis={\"H\":\"pc-2\",'C':bse.get_basis(\"pcX-2\",fmt=\"nwchem\",elements=[6])})\n",
    "mf_mm = scf.RHF(CH4_mm)\n",
    "mf_mm.scf(dm0=mf_mm.init_guess_by_1e())\n",
    "af_mm=aaff(mf_pp,[2,0,0,-1,-1])+alc_deriv_grad_nuc(CH4_mm,[2,0,0,-1,-1])\n",
    "hmm=mf_mm.Hessian().hess()"
   ]
  },
  {
   "cell_type": "code",
   "execution_count": 72,
   "metadata": {},
   "outputs": [],
   "source": [
    "aph_h20=h0+(hpp-hmm)/2/dl+(hpp-2*h0+hmm)/dl**2/2"
   ]
  },
  {
   "cell_type": "code",
   "execution_count": 73,
   "metadata": {},
   "outputs": [],
   "source": [
    "adh_12=hpp+2*h0+hmm-hm-rothess(hm)-hp-rothess(hp)"
   ]
  },
  {
   "cell_type": "code",
   "execution_count": 74,
   "metadata": {},
   "outputs": [
    {
     "name": "stdout",
     "output_type": "stream",
     "text": [
      "1.4346292486304917 103.789 1.8114597773523946\n",
      "1.4427321051513435\n",
      "103.44 1.8053685782629345\n",
      "1.37509711718096\n",
      "111.218 1.9411202874830533\n",
      "(array([2.04385, 2.04385, 1.91063]), array([-0.74952, -0.74953,  0.32804]), array([1.29434, 1.29433, 2.23867]), array([1.69966, 1.69965, 1.87201]))\n"
     ]
    }
   ],
   "source": [
    "nr_step3(af_h2o[:3],aph_h20[:3,:3,:,:])\n",
    "nr_step(ch4coords,af_h2o,aph_h20)\n",
    "nr_step(ch4coords,af_1+af_2+af_11/2+af_22/2+af_12,aph_h20)\n",
    "print(mpa_pb(ch4coords[:3],[\"O\",\"H\",\"H\"],af_h2o[:3],aph_h20[:3,:3,:,:],solve_ic=True))"
   ]
  },
  {
   "cell_type": "code",
   "execution_count": 75,
   "metadata": {},
   "outputs": [
    {
     "name": "stdout",
     "output_type": "stream",
     "text": [
      "(array([2.04385]), array([-0.49554]), array([1.54831]), array([1.8477]))\n"
     ]
    }
   ],
   "source": [
    "af_hf=3*afC+afH1+afH2+afH3\n",
    "af_hf[0]=af_hf[0]+af_hf[4]+af_hf[3]+af_hf[2]\n",
    "af_hf[4]-=af_hf[4]\n",
    "af_hf[3]-=af_hf[3]\n",
    "af_hf[2]-=af_hf[2]\n",
    "print(mpa_pb(ch4coords[:2],[\"F\",\"H\"],af_hf[:2],h0[:2,:2,:,:],solve_ic=True))"
   ]
  },
  {
   "cell_type": "code",
   "execution_count": 76,
   "metadata": {},
   "outputs": [
    {
     "name": "stdout",
     "output_type": "stream",
     "text": [
      "(array([2.04385]), array([-0.28562]), array([1.75823]), array([1.86984]))\n"
     ]
    }
   ],
   "source": [
    "print(mpa_pb(ch4coords[:2],[\"F\",\"H\"],(3*afC+afH1+afH2+afH3)[:2],h0[:2,:2,:,:],solve_ic=True))"
   ]
  },
  {
   "cell_type": "code",
   "execution_count": 77,
   "metadata": {},
   "outputs": [],
   "source": [
    "adh_22=rothess(adh_11)\n",
    "adh_33=rothess(adh_22)"
   ]
  },
  {
   "cell_type": "code",
   "execution_count": 78,
   "metadata": {},
   "outputs": [
    {
     "name": "stdout",
     "output_type": "stream",
     "text": [
      "1.5148044848371924\n",
      "103.079 1.7990679396632347\n",
      "0.8187752076394275\n"
     ]
    },
    {
     "data": {
      "text/plain": [
       "array([[ 0.     ,  0.     ,  0.     ],\n",
       "       [ 0.     , -0.     ,  0.81878]])"
      ]
     },
     "execution_count": 78,
     "metadata": {},
     "output_type": "execute_result"
    }
   ],
   "source": [
    "nr_step(ch4coords,3*afC+afH1+afH2+afH3,h0)\n",
    "nr_step(ch4coords[:2],af_hf[:2],(h0+adh_11+adh_22+adh_33)[:2,:2,:,:])"
   ]
  },
  {
   "cell_type": "code",
   "execution_count": 79,
   "metadata": {},
   "outputs": [
    {
     "name": "stdout",
     "output_type": "stream",
     "text": [
      "(array([2.04385]), array([-1.07866]), array([0.96519]), array([1.7787]))\n",
      "(array([2.04385]), array([-0.62173]), array([1.42213]), array([1.75661]))\n"
     ]
    }
   ],
   "source": [
    "print(mpa_pb(ch4coords[:2],[\"F\",\"H\"],af_hf[:2],(h0+adh_11+adh_22+adh_33)[:2,:2,:,:],solve_ic=True))\n",
    "print(mpa_pb(ch4coords[:2],[\"F\",\"H\"],(3*afC+afH1+afH2+afH3)[:2],(h0+adh_11+adh_22+adh_33)[:2,:2,:,:],solve_ic=True))"
   ]
  },
  {
   "cell_type": "code",
   "execution_count": 80,
   "metadata": {},
   "outputs": [
    {
     "data": {
      "text/plain": [
       "array([[0.     , 0.     , 0.     ],\n",
       "       [0.     , 0.     , 1.69574]])"
      ]
     },
     "execution_count": 80,
     "metadata": {},
     "output_type": "execute_result"
    }
   ],
   "source": [
    "fhoptg"
   ]
  },
  {
   "cell_type": "code",
   "execution_count": null,
   "metadata": {},
   "outputs": [],
   "source": []
  },
  {
   "cell_type": "code",
   "execution_count": null,
   "metadata": {},
   "outputs": [],
   "source": []
  }
 ],
 "metadata": {
  "kernelspec": {
   "display_name": "Python 3",
   "language": "python",
   "name": "python3"
  },
  "language_info": {
   "codemirror_mode": {
    "name": "ipython",
    "version": 3
   },
   "file_extension": ".py",
   "mimetype": "text/x-python",
   "name": "python",
   "nbconvert_exporter": "python",
   "pygments_lexer": "ipython3",
   "version": "3.7.3"
  }
 },
 "nbformat": 4,
 "nbformat_minor": 2
}
