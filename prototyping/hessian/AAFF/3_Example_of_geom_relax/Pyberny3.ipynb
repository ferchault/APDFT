{
 "cells": [
  {
   "cell_type": "code",
   "execution_count": 1,
   "metadata": {},
   "outputs": [],
   "source": [
    "import inspect\n",
    "from berny import Berny, geomlib, coords,Geometry,Math\n",
    "from aaff import aaff,alc_deriv_grad_nuc,alc_differential_grad_nuc\n",
    "from FcMole import FcM\n",
    "from alch_deriv import alch_deriv\n",
    "from pyscf import gto,scf\n",
    "import numpy as np\n",
    "import ipyvolume as ipv\n",
    "from numpy.linalg import norm as norm\n",
    "from scipy.optimize import  minimize\n",
    "from scipy.spatial.transform import Rotation as R\n",
    "import matplotlib.pyplot as plt\n",
    "from mpl_toolkits import mplot3d\n",
    "from pyscf.grad import rhf as grhf\n",
    "from pyscf.hessian import rhf as hrhf\n",
    "import basis_set_exchange as bse\n",
    "from FDcoeffs import *\n",
    "from pyscf.geomopt.berny_solver import optimize\n",
    "from pyscf.geomopt.berny_solver import to_berny_geom as tbg\n",
    "ang2bohr=1.8897261246\n",
    "bohr2ang=.5291772109\n",
    "np.set_printoptions(precision=3)"
   ]
  },
  {
   "cell_type": "code",
   "execution_count": 2,
   "metadata": {},
   "outputs": [],
   "source": [
    "import sys\n",
    "sys.path.append(\"/home/administrator/Documenti/APDFT/prototyping/hessian/AAFF/Libs/\")"
   ]
  },
  {
   "cell_type": "code",
   "execution_count": 3,
   "metadata": {},
   "outputs": [],
   "source": [
    "from Morse import mpa\n",
    "from AP_class import APDFT_perturbator as APP"
   ]
  },
  {
   "cell_type": "code",
   "execution_count": 4,
   "metadata": {},
   "outputs": [],
   "source": [
    "def anglecenter(coords):\n",
    "    return np.around(np.arccos(coords[1].dot(coords[2])/norm(coords[1])/norm(coords[2])),decimals=3)"
   ]
  },
  {
   "cell_type": "code",
   "execution_count": 5,
   "metadata": {},
   "outputs": [],
   "source": [
    "h2o=gto.M(atom=\"O 0 0 0; H 0 -1.4 1.2; H 0 1.4 1.2\",unit=\"Bohr\",basis=\"def2-TZVP\")"
   ]
  },
  {
   "cell_type": "code",
   "execution_count": 6,
   "metadata": {},
   "outputs": [
    {
     "name": "stdout",
     "output_type": "stream",
     "text": [
      "converged SCF energy = -76.0561607707061\n",
      "--------------- RHF gradients ---------------\n",
      "         x                y                z\n",
      "0 O    -0.0000000000    -0.0000000000    -0.0573469482\n",
      "1 H    -0.0000000000    -0.0166425867     0.0286734741\n",
      "2 H     0.0000000000     0.0166425867     0.0286734741\n",
      "----------------------------------------------\n"
     ]
    }
   ],
   "source": [
    "mf=scf.RHF(h2o)\n",
    "E0=mf.scf()\n",
    "g0=mf.Gradients().grad()\n",
    "h0=mf.Hessian().hess()"
   ]
  },
  {
   "cell_type": "code",
   "execution_count": 7,
   "metadata": {},
   "outputs": [],
   "source": [
    "h0=h0.swapaxes(1,2)"
   ]
  },
  {
   "cell_type": "code",
   "execution_count": 8,
   "metadata": {},
   "outputs": [],
   "source": [
    "h0=h0.reshape(9,9)"
   ]
  },
  {
   "cell_type": "code",
   "execution_count": 9,
   "metadata": {},
   "outputs": [
    {
     "name": "stdout",
     "output_type": "stream",
     "text": [
      "\n",
      "Geometry optimization cycle 1\n",
      "Cartesian coordinates (Angstrom)\n",
      " Atom        New coordinates             dX        dY        dZ\n",
      "   O   0.000000   0.000000   0.000000    0.000000  0.000000  0.000000\n",
      "   H   0.000000  -0.740848   0.635013    0.000000  0.000000  0.000000\n",
      "   H   0.000000   0.740848   0.635013    0.000000  0.000000  0.000000\n",
      "converged SCF energy = -76.0561607707072\n",
      "--------------- SCF_Scanner gradients ---------------\n",
      "         x                y                z\n",
      "0 O     0.0000000000    -0.0000000000    -0.0573472742\n",
      "1 H    -0.0000000000    -0.0166426445     0.0286736371\n",
      "2 H     0.0000000000     0.0166426445     0.0286736371\n",
      "----------------------------------------------\n",
      "cycle 1: E = -76.0561607707  dE = -76.0562  norm(grad) = 0.0740744\n",
      "\n",
      "Geometry optimization cycle 2\n",
      "Cartesian coordinates (Angstrom)\n",
      " Atom        New coordinates             dX        dY        dZ\n",
      "   O   0.000000  -0.000000   0.038973    0.000000 -0.000000  0.038973\n",
      "   H   0.000000  -0.746867   0.615526    0.000000 -0.006019 -0.019486\n",
      "   H   0.000000   0.746867   0.615526    0.000000  0.006019 -0.019486\n",
      "\n",
      "WARN: Large deviations found between the input molecule and the molecule from chkfile\n",
      "Initial guess density matrix may have large error.\n",
      "\n",
      "converged SCF energy = -76.0594901982892\n",
      "--------------- SCF_Scanner gradients ---------------\n",
      "         x                y                z\n",
      "0 O    -0.0000000000    -0.0000000000    -0.0057206430\n",
      "1 H     0.0000000000     0.0012607611     0.0028603215\n",
      "2 H     0.0000000000    -0.0012607611     0.0028603215\n",
      "----------------------------------------------\n",
      "cycle 2: E = -76.0594901983  dE = -0.00332943  norm(grad) = 0.00722964\n",
      "\n",
      "Geometry optimization cycle 3\n",
      "Cartesian coordinates (Angstrom)\n",
      " Atom        New coordinates             dX        dY        dZ\n",
      "   O   0.000000   0.000000   0.047805    0.000000  0.000000  0.008832\n",
      "   H   0.000000  -0.755213   0.611110    0.000000 -0.008346 -0.004416\n",
      "   H   0.000000   0.755213   0.611110    0.000000  0.008346 -0.004416\n",
      "\n",
      "WARN: Large deviations found between the input molecule and the molecule from chkfile\n",
      "Initial guess density matrix may have large error.\n",
      "\n",
      "converged SCF energy = -76.0595787080462\n",
      "--------------- SCF_Scanner gradients ---------------\n",
      "         x                y                z\n",
      "0 O     0.0000000000    -0.0000000000    -0.0000265281\n",
      "1 H     0.0000000000    -0.0001822723     0.0000132640\n",
      "2 H    -0.0000000000     0.0001822723     0.0000132640\n",
      "----------------------------------------------\n",
      "cycle 3: E = -76.059578708  dE = -8.85098e-05  norm(grad) = 0.000259811\n",
      "\n",
      "Geometry optimization cycle 4\n",
      "Cartesian coordinates (Angstrom)\n",
      " Atom        New coordinates             dX        dY        dZ\n",
      "   O   0.000000   0.000000   0.047619    0.000000  0.000000 -0.000186\n",
      "   H   0.000000  -0.754841   0.611203    0.000000  0.000373  0.000093\n",
      "   H   0.000000   0.754841   0.611203    0.000000 -0.000373  0.000093\n",
      "converged SCF energy = -76.0595788217955\n",
      "--------------- SCF_Scanner gradients ---------------\n",
      "         x                y                z\n",
      "0 O    -0.0000000000     0.0000000000     0.0000309877\n",
      "1 H     0.0000000000     0.0000231346    -0.0000154939\n",
      "2 H     0.0000000000    -0.0000231346    -0.0000154939\n",
      "----------------------------------------------\n",
      "cycle 4: E = -76.0595788218  dE = -1.13749e-07  norm(grad) = 5.01077e-05\n"
     ]
    }
   ],
   "source": [
    "h20_eq_geom=(optimize(mf).atom_coords())"
   ]
  },
  {
   "cell_type": "code",
   "execution_count": 278,
   "metadata": {},
   "outputs": [
    {
     "data": {
      "text/plain": [
       "(1.859, 1.780170233145828, 1.7801702331458211)"
      ]
     },
     "execution_count": 278,
     "metadata": {},
     "output_type": "execute_result"
    }
   ],
   "source": [
    "h20_eq_geom-=h20_eq_geom[0]\n",
    "minimum=anglecenter(h20_eq_geom),norm(h20_eq_geom[1])\n",
    "anglecenter(h20_eq_geom),norm(h20_eq_geom[1]),norm(h20_eq_geom[2])"
   ]
  },
  {
   "cell_type": "code",
   "execution_count": 11,
   "metadata": {},
   "outputs": [],
   "source": [
    "h2occords=h2o.atom_coords()"
   ]
  },
  {
   "cell_type": "code",
   "execution_count": 12,
   "metadata": {},
   "outputs": [],
   "source": [
    "geom2=tbg(h2o)"
   ]
  },
  {
   "cell_type": "code",
   "execution_count": 13,
   "metadata": {},
   "outputs": [
    {
     "data": {
      "text/plain": [
       "(1.724, 1.8439088914585773)"
      ]
     },
     "execution_count": 13,
     "metadata": {},
     "output_type": "execute_result"
    }
   ],
   "source": [
    "anglecenter(h2occords),norm(h2occords[1])"
   ]
  },
  {
   "cell_type": "code",
   "execution_count": 14,
   "metadata": {},
   "outputs": [],
   "source": [
    "b2=Berny(geom2)\n",
    "s=b2._state"
   ]
  },
  {
   "cell_type": "code",
   "execution_count": 15,
   "metadata": {},
   "outputs": [
    {
     "data": {
      "text/plain": [
       "([Bond(0, 1, weak=0), Bond(0, 2, weak=0), Angle(1, 0, 2, weak=0)],\n",
       " {'i': 0, 'j': 1, 'idx': (0, 1), 'weak': 0})"
      ]
     },
     "execution_count": 15,
     "metadata": {},
     "output_type": "execute_result"
    }
   ],
   "source": [
    "s.coords._coords,vars(s.coords._coords[0])"
   ]
  },
  {
   "cell_type": "code",
   "execution_count": 16,
   "metadata": {},
   "outputs": [
    {
     "data": {
      "text/plain": [
       "array([[0.508, 0.   , 0.   ],\n",
       "       [0.   , 0.508, 0.   ],\n",
       "       [0.   , 0.   , 0.191]])"
      ]
     },
     "execution_count": 16,
     "metadata": {},
     "output_type": "execute_result"
    }
   ],
   "source": [
    "s.H  #use to get second derivs "
   ]
  },
  {
   "cell_type": "code",
   "execution_count": 17,
   "metadata": {},
   "outputs": [
    {
     "data": {
      "text/plain": [
       "array([[ 0. ,  0. ,  0. ],\n",
       "       [ 0. , -1.4,  1.2],\n",
       "       [ 0. ,  1.4,  1.2]])"
      ]
     },
     "execution_count": 17,
     "metadata": {},
     "output_type": "execute_result"
    }
   ],
   "source": [
    "geom2.coords*ang2bohr"
   ]
  },
  {
   "cell_type": "code",
   "execution_count": 18,
   "metadata": {},
   "outputs": [
    {
     "data": {
      "text/plain": [
       "array([1.844, 1.844, 1.724])"
      ]
     },
     "execution_count": 18,
     "metadata": {},
     "output_type": "execute_result"
    }
   ],
   "source": [
    "b2._state.future.q  # bohr and radians"
   ]
  },
  {
   "cell_type": "code",
   "execution_count": 19,
   "metadata": {},
   "outputs": [],
   "source": [
    "q0=s.future.q"
   ]
  },
  {
   "cell_type": "code",
   "execution_count": 20,
   "metadata": {},
   "outputs": [
    {
     "name": "stdout",
     "output_type": "stream",
     "text": [
      "[[ 0.     0.759 -0.651  0.    -0.759  0.651  0.     0.     0.   ]\n",
      " [ 0.    -0.759 -0.651  0.     0.     0.     0.     0.759  0.651]\n",
      " [ 0.     0.     0.824  0.    -0.353 -0.412  0.     0.353 -0.412]]\n"
     ]
    }
   ],
   "source": [
    "print(s.coords.B_matrix(s.geom))"
   ]
  },
  {
   "cell_type": "code",
   "execution_count": 21,
   "metadata": {},
   "outputs": [],
   "source": [
    "gsc=b2._state.geom.supercell()"
   ]
  },
  {
   "cell_type": "code",
   "execution_count": 22,
   "metadata": {},
   "outputs": [
    {
     "data": {
      "text/plain": [
       "({'species': ['O', 'H', 'H'], 'coords': array([[ 0.   ,  0.   ,  0.   ],\n",
       "         [ 0.   , -0.741,  0.635],\n",
       "         [ 0.   ,  0.741,  0.635]]), 'lattice': None},\n",
       " {'species': ['O', 'H', 'H'], 'coords': array([[ 0.   ,  0.   ,  0.   ],\n",
       "         [ 0.   , -0.741,  0.635],\n",
       "         [ 0.   ,  0.741,  0.635]]), 'lattice': None})"
      ]
     },
     "execution_count": 22,
     "metadata": {},
     "output_type": "execute_result"
    }
   ],
   "source": [
    "vars(gsc),vars(s.geom) "
   ]
  },
  {
   "cell_type": "code",
   "execution_count": 23,
   "metadata": {},
   "outputs": [
    {
     "name": "stdout",
     "output_type": "stream",
     "text": [
      "(0, Bond(0, 1, weak=0))\n",
      "(1, Bond(0, 2, weak=0))\n",
      "(2, Angle(1, 0, 2, weak=0))\n"
     ]
    },
    {
     "data": {
      "text/plain": [
       "[None, None, None]"
      ]
     },
     "execution_count": 23,
     "metadata": {},
     "output_type": "execute_result"
    }
   ],
   "source": [
    "[print(x) for x in enumerate(s.coords)]"
   ]
  },
  {
   "cell_type": "code",
   "execution_count": 24,
   "metadata": {},
   "outputs": [],
   "source": [
    "B=s.coords.B_matrix(s.geom)"
   ]
  },
  {
   "cell_type": "code",
   "execution_count": 25,
   "metadata": {},
   "outputs": [
    {
     "name": "stdout",
     "output_type": "stream",
     "text": [
      "[array([ 0.   ,  0.759, -0.651]), array([-0.   , -0.759,  0.651])] \n",
      " \n",
      "\n",
      "[array([ 0.   , -0.759, -0.651]), array([-0.   ,  0.759,  0.651])] \n",
      " \n",
      "\n",
      "[array([-0.   , -0.353, -0.412]), array([0.   , 0.   , 0.824]), array([-0.   ,  0.353, -0.412])] \n",
      " \n",
      "\n"
     ]
    }
   ],
   "source": [
    "for i,x in enumerate(s.coords):\n",
    "    print(x.eval(gsc.coords, grad=True)[1],\"\\n \\n\")"
   ]
  },
  {
   "cell_type": "code",
   "execution_count": 26,
   "metadata": {},
   "outputs": [
    {
     "data": {
      "text/plain": [
       "array([[ 0.   ,  0.759, -0.651,  0.   , -0.759,  0.651,  0.   ,  0.   ,\n",
       "         0.   ],\n",
       "       [ 0.   , -0.759, -0.651,  0.   ,  0.   ,  0.   ,  0.   ,  0.759,\n",
       "         0.651],\n",
       "       [ 0.   ,  0.   ,  0.824,  0.   , -0.353, -0.412,  0.   ,  0.353,\n",
       "        -0.412]])"
      ]
     },
     "execution_count": 26,
     "metadata": {},
     "output_type": "execute_result"
    }
   ],
   "source": [
    "B"
   ]
  },
  {
   "cell_type": "code",
   "execution_count": 27,
   "metadata": {},
   "outputs": [
    {
     "data": {
      "text/plain": [
       "array([1.844, 1.844, 1.724])"
      ]
     },
     "execution_count": 27,
     "metadata": {},
     "output_type": "execute_result"
    }
   ],
   "source": [
    "s.coords.eval_geom(s.geom)"
   ]
  },
  {
   "cell_type": "code",
   "execution_count": 28,
   "metadata": {},
   "outputs": [
    {
     "data": {
      "text/plain": [
       "<InternalCoords \"bonds: 2, angles: 1, dihedrals: 0\">"
      ]
     },
     "execution_count": 28,
     "metadata": {},
     "output_type": "execute_result"
    }
   ],
   "source": [
    "s.coords"
   ]
  },
  {
   "cell_type": "code",
   "execution_count": 29,
   "metadata": {},
   "outputs": [
    {
     "data": {
      "text/plain": [
       "{'_coords': [Bond(0, 1, weak=0), Bond(0, 2, weak=0), Angle(1, 0, 2, weak=0)],\n",
       " 'fragments': [[0, 1, 2]]}"
      ]
     },
     "execution_count": 29,
     "metadata": {},
     "output_type": "execute_result"
    }
   ],
   "source": [
    "vars(coords.InternalCoords(s.geom, dihedral=s.params['dihedral'], superweakdih=s.params['superweakdih']))"
   ]
  },
  {
   "cell_type": "code",
   "execution_count": 30,
   "metadata": {},
   "outputs": [
    {
     "data": {
      "text/plain": [
       "{'i': 0, 'j': 1, 'idx': (0, 1), 'weak': 0}"
      ]
     },
     "execution_count": 30,
     "metadata": {},
     "output_type": "execute_result"
    }
   ],
   "source": [
    "vars(coords.InternalCoords(s.geom, dihedral=s.params['dihedral'], superweakdih=s.params['superweakdih'])._coords[0])"
   ]
  },
  {
   "cell_type": "code",
   "execution_count": null,
   "metadata": {},
   "outputs": [],
   "source": []
  },
  {
   "cell_type": "code",
   "execution_count": 31,
   "metadata": {},
   "outputs": [
    {
     "data": {
      "text/plain": [
       "{'species': ['O', 'H', 'H'], 'coords': array([[ 0.   ,  0.   ,  0.   ],\n",
       "        [ 0.   , -0.741,  0.635],\n",
       "        [ 0.   ,  0.741,  0.635]]), 'lattice': None}"
      ]
     },
     "execution_count": 31,
     "metadata": {},
     "output_type": "execute_result"
    }
   ],
   "source": [
    "vars(s.geom)"
   ]
  },
  {
   "cell_type": "code",
   "execution_count": 32,
   "metadata": {},
   "outputs": [
    {
     "data": {
      "text/plain": [
       "array([[ 0.   ,  0.   ,  0.   ],\n",
       "       [ 0.759, -0.759,  0.   ],\n",
       "       [-0.651, -0.651,  0.824],\n",
       "       [ 0.   ,  0.   ,  0.   ],\n",
       "       [-0.759,  0.   , -0.353],\n",
       "       [ 0.651,  0.   , -0.412],\n",
       "       [ 0.   ,  0.   ,  0.   ],\n",
       "       [ 0.   ,  0.759,  0.353],\n",
       "       [ 0.   ,  0.651, -0.412]])"
      ]
     },
     "execution_count": 32,
     "metadata": {},
     "output_type": "execute_result"
    }
   ],
   "source": [
    "B.T"
   ]
  },
  {
   "cell_type": "code",
   "execution_count": 33,
   "metadata": {},
   "outputs": [
    {
     "data": {
      "text/plain": [
       "array([[ 0.   ,  0.   , -0.98 ],\n",
       "       [ 0.   , -2.009,  0.49 ],\n",
       "       [ 0.   ,  2.009,  0.49 ]])"
      ]
     },
     "execution_count": 33,
     "metadata": {},
     "output_type": "execute_result"
    }
   ],
   "source": [
    "s.future.q\n",
    "(B.T@s.future.q).reshape(3,3)#-(B.T@s.future.q).reshape(3,3)[0]"
   ]
  },
  {
   "cell_type": "code",
   "execution_count": 34,
   "metadata": {},
   "outputs": [
    {
     "data": {
      "text/plain": [
       "array([[ 0. ,  0. ,  0. ],\n",
       "       [ 0. , -1.4,  1.2],\n",
       "       [ 0. ,  1.4,  1.2]])"
      ]
     },
     "execution_count": 34,
     "metadata": {},
     "output_type": "execute_result"
    }
   ],
   "source": [
    "s.geom.coords*ang2bohr"
   ]
  },
  {
   "cell_type": "markdown",
   "metadata": {},
   "source": [
    "### praticamente qua mi d una proiezione dei modi normali sulle coordinate cartesiane della molecola, tutti insieme formano la B_matrix"
   ]
  },
  {
   "cell_type": "code",
   "execution_count": 35,
   "metadata": {},
   "outputs": [],
   "source": [
    "a=np.array([-0.        , -0.91914503,  0.3939193 ])"
   ]
  },
  {
   "cell_type": "code",
   "execution_count": 36,
   "metadata": {},
   "outputs": [
    {
     "data": {
      "text/plain": [
       "1.0000000005430953"
      ]
     },
     "execution_count": 36,
     "metadata": {},
     "output_type": "execute_result"
    }
   ],
   "source": [
    "norm(a)"
   ]
  },
  {
   "cell_type": "code",
   "execution_count": 37,
   "metadata": {},
   "outputs": [],
   "source": [
    "B_inv = B.T.dot(Math.pinv(np.dot(B, B.T)))"
   ]
  },
  {
   "cell_type": "code",
   "execution_count": 38,
   "metadata": {},
   "outputs": [
    {
     "data": {
      "text/plain": [
       "array([ 0.031,  0.031, -0.02 ])"
      ]
     },
     "execution_count": 38,
     "metadata": {},
     "output_type": "execute_result"
    }
   ],
   "source": [
    "np.dot(B_inv.T, g0.reshape(-1))"
   ]
  },
  {
   "cell_type": "code",
   "execution_count": 39,
   "metadata": {},
   "outputs": [
    {
     "data": {
      "text/plain": [
       "array([[0.508, 0.   , 0.   ],\n",
       "       [0.   , 0.508, 0.   ],\n",
       "       [0.   , 0.   , 0.191]])"
      ]
     },
     "execution_count": 39,
     "metadata": {},
     "output_type": "execute_result"
    }
   ],
   "source": [
    "s.H"
   ]
  },
  {
   "cell_type": "markdown",
   "metadata": {},
   "source": [
    "I can have the projection of the gradient in the internal coordinates as well as the approximated hessian matrix."
   ]
  },
  {
   "cell_type": "code",
   "execution_count": 40,
   "metadata": {},
   "outputs": [
    {
     "data": {
      "text/plain": [
       "array([[ 1.000e+00, -3.331e-16,  1.110e-16],\n",
       "       [-4.510e-17,  1.000e+00, -1.110e-16],\n",
       "       [-2.776e-17,  6.939e-17,  1.000e+00]])"
      ]
     },
     "execution_count": 40,
     "metadata": {},
     "output_type": "execute_result"
    }
   ],
   "source": [
    "proj = np.dot(B, B_inv)\n",
    "proj"
   ]
  },
  {
   "cell_type": "code",
   "execution_count": 41,
   "metadata": {},
   "outputs": [
    {
     "data": {
      "text/plain": [
       "array([[-4.441e-13,  3.331e-13, -1.110e-13],\n",
       "       [ 4.510e-14,  0.000e+00,  1.110e-13],\n",
       "       [ 2.776e-14, -6.939e-14,  1.110e-13]])"
      ]
     },
     "execution_count": 41,
     "metadata": {},
     "output_type": "execute_result"
    }
   ],
   "source": [
    "H_proj = proj.dot(s.H).dot(proj) + 1000 * (np.eye(len(s.coords)) - proj)\n",
    "1000 * (np.eye(len(s.coords)) - proj)  #perhaps to avoid zeros in matrix inversion"
   ]
  },
  {
   "cell_type": "code",
   "execution_count": 42,
   "metadata": {},
   "outputs": [
    {
     "data": {
      "text/plain": [
       "(array([[ 5.079e-01,  3.327e-13, -1.109e-13],\n",
       "        [ 4.506e-14,  5.079e-01,  1.109e-13],\n",
       "        [ 2.774e-14, -6.934e-14,  1.910e-01]]), array([[0.508, 0.   , 0.   ],\n",
       "        [0.   , 0.508, 0.   ],\n",
       "        [0.   , 0.   , 0.191]]))"
      ]
     },
     "execution_count": 42,
     "metadata": {},
     "output_type": "execute_result"
    }
   ],
   "source": [
    "H_proj,s.H#differiscono per una manciata di infinesimi"
   ]
  },
  {
   "cell_type": "code",
   "execution_count": 43,
   "metadata": {},
   "outputs": [],
   "source": [
    "def quadratic_step(g, H, w, trust):\n",
    "    ev = np.linalg.eigvalsh((H + H.T) / 2)\n",
    "    rfo = np.vstack((np.hstack((H, g[:, None])), np.hstack((g, 0))[None, :]))\n",
    "    D, V = np.linalg.eigh((rfo + rfo.T) / 2)\n",
    "    dq = V[:-1, 0] / V[-1, 0]\n",
    "    l = D[0]\n",
    "    print(dq,l,ev)\n",
    "    if norm(dq) <= trust:\n",
    "        print('Pure RFO step was performed:')\n",
    "        on_sphere = False\n",
    "    else:\n",
    "        def steplength(l):\n",
    "            return norm(np.linalg.solve(l * np.eye(H.shape[0]) - H, g)) - trust\n",
    "        l = Math.findroot(steplength, ev[0])  # minimization on sphere\n",
    "        dq = np.linalg.solve(l * np.eye(H.shape[0]) - H, g)\n",
    "        on_sphere = True\n",
    "        print('Minimization on sphere was performed:')\n",
    "    dE = np.dot(g, dq) + 0.5 * dq.dot(H).dot(dq)\n",
    "    return dq, dE, on_sphere"
   ]
  },
  {
   "cell_type": "code",
   "execution_count": 44,
   "metadata": {},
   "outputs": [
    {
     "data": {
      "text/plain": [
       "array([-5.608e-17, -3.731e-16, -5.735e-02, -1.943e-16, -1.664e-02,\n",
       "        2.867e-02,  2.504e-16,  1.664e-02,  2.867e-02,  0.000e+00])"
      ]
     },
     "execution_count": 44,
     "metadata": {},
     "output_type": "execute_result"
    }
   ],
   "source": [
    "np.hstack((g0.flatten(), 0))"
   ]
  },
  {
   "cell_type": "code",
   "execution_count": 45,
   "metadata": {},
   "outputs": [],
   "source": [
    "current = Berny.Point(s.future.q, mf.e_tot, np.dot(B_inv.T, np.asarray(g0).reshape(-1)))"
   ]
  },
  {
   "cell_type": "code",
   "execution_count": 46,
   "metadata": {},
   "outputs": [
    {
     "data": {
      "text/plain": [
       "array([ 0.031,  0.031, -0.02 ])"
      ]
     },
     "execution_count": 46,
     "metadata": {},
     "output_type": "execute_result"
    }
   ],
   "source": [
    "current.g # also np.dot(B_inv.T, np.asarray(g0).reshape(-1)) is g in internal coords"
   ]
  },
  {
   "cell_type": "code",
   "execution_count": 47,
   "metadata": {},
   "outputs": [
    {
     "name": "stdout",
     "output_type": "stream",
     "text": [
      "[-0.061 -0.061  0.102] -0.005879406708602918 [0.191 0.508 0.508]\n",
      "Pure RFO step was performed:\n"
     ]
    }
   ],
   "source": [
    " dq, dE, on_sphere = quadratic_step(np.dot(proj, current.g), H_proj, s.weights, s.trust)"
   ]
  },
  {
   "cell_type": "code",
   "execution_count": 48,
   "metadata": {},
   "outputs": [
    {
     "data": {
      "text/plain": [
       "(array([-0.061, -0.061,  0.102]),\n",
       " array([1.844, 1.844, 1.724]),\n",
       " array([1.783, 1.783, 1.827]))"
      ]
     },
     "execution_count": 48,
     "metadata": {},
     "output_type": "execute_result"
    }
   ],
   "source": [
    "dq,current.q,dq+current.q,"
   ]
  },
  {
   "cell_type": "code",
   "execution_count": 49,
   "metadata": {},
   "outputs": [
    {
     "data": {
      "text/plain": [
       "array([-0.062, -0.062,  0.106])"
      ]
     },
     "execution_count": 49,
     "metadata": {},
     "output_type": "execute_result"
    }
   ],
   "source": [
    "-np.linalg.inv(H_proj)@(np.dot(proj, current.g))"
   ]
  },
  {
   "cell_type": "code",
   "execution_count": 50,
   "metadata": {},
   "outputs": [
    {
     "data": {
      "text/plain": [
       "array([ 0.062,  0.062, -0.106])"
      ]
     },
     "execution_count": 50,
     "metadata": {},
     "output_type": "execute_result"
    }
   ],
   "source": [
    "np.linalg.solve(H_proj,np.dot(proj, current.g))"
   ]
  },
  {
   "cell_type": "code",
   "execution_count": 51,
   "metadata": {},
   "outputs": [
    {
     "data": {
      "text/plain": [
       "array([-0.061, -0.061,  0.102])"
      ]
     },
     "execution_count": 51,
     "metadata": {},
     "output_type": "execute_result"
    }
   ],
   "source": [
    "dq # change dq to the one from Morse potential fitting "
   ]
  },
  {
   "cell_type": "code",
   "execution_count": 52,
   "metadata": {},
   "outputs": [
    {
     "data": {
      "text/plain": [
       "1.8439088914585773"
      ]
     },
     "execution_count": 52,
     "metadata": {},
     "output_type": "execute_result"
    }
   ],
   "source": [
    "current.q[0]"
   ]
  },
  {
   "cell_type": "markdown",
   "metadata": {},
   "source": [
    "## from dq in internal coords to dq in cartesian coords"
   ]
  },
  {
   "cell_type": "code",
   "execution_count": 53,
   "metadata": {},
   "outputs": [],
   "source": [
    "q, a = s.coords.update_geom(s.geom, current.q, dq, B_inv)"
   ]
  },
  {
   "cell_type": "code",
   "execution_count": 54,
   "metadata": {},
   "outputs": [
    {
     "data": {
      "text/plain": [
       "array([1.783, 1.783, 1.827])"
      ]
     },
     "execution_count": 54,
     "metadata": {},
     "output_type": "execute_result"
    }
   ],
   "source": [
    "q"
   ]
  },
  {
   "cell_type": "code",
   "execution_count": 55,
   "metadata": {},
   "outputs": [
    {
     "data": {
      "text/plain": [
       "array([[ 0.000e+00, -8.277e-15,  3.897e-02],\n",
       "       [ 0.000e+00, -7.469e-01,  6.155e-01],\n",
       "       [ 0.000e+00,  7.469e-01,  6.155e-01]])"
      ]
     },
     "execution_count": 55,
     "metadata": {},
     "output_type": "execute_result"
    }
   ],
   "source": [
    "a.coords"
   ]
  },
  {
   "cell_type": "code",
   "execution_count": 56,
   "metadata": {},
   "outputs": [
    {
     "data": {
      "text/plain": [
       "array([[ 0.000e+00, -3.442e-14, -8.163e-01],\n",
       "       [ 0.000e+00, -1.998e+00,  4.082e-01],\n",
       "       [ 0.000e+00,  1.998e+00,  4.082e-01]])"
      ]
     },
     "execution_count": 56,
     "metadata": {},
     "output_type": "execute_result"
    }
   ],
   "source": [
    "(B.T@q).reshape(3,3)"
   ]
  },
  {
   "cell_type": "code",
   "execution_count": 57,
   "metadata": {},
   "outputs": [
    {
     "data": {
      "text/plain": [
       "0.9435171386555323"
      ]
     },
     "execution_count": 57,
     "metadata": {},
     "output_type": "execute_result"
    }
   ],
   "source": [
    "b=a.coords\n",
    "norm(b[1]-b[0]) #is angstrom"
   ]
  },
  {
   "cell_type": "code",
   "execution_count": 58,
   "metadata": {},
   "outputs": [],
   "source": [
    "B = s.coords.B_matrix(s.geom)\n",
    "B_inv = B.T.dot(Math.pinv(np.dot(B, B.T)))\n",
    "g_ic=np.dot(B_inv.T, (g0).reshape(-1))"
   ]
  },
  {
   "cell_type": "code",
   "execution_count": 59,
   "metadata": {},
   "outputs": [
    {
     "data": {
      "text/plain": [
       "array([[ 0.   ,  0.   ,  0.   ],\n",
       "       [ 0.759, -0.759,  0.   ],\n",
       "       [-0.651, -0.651,  0.824],\n",
       "       [ 0.   ,  0.   ,  0.   ],\n",
       "       [-0.759,  0.   , -0.353],\n",
       "       [ 0.651,  0.   , -0.412],\n",
       "       [ 0.   ,  0.   ,  0.   ],\n",
       "       [ 0.   ,  0.759,  0.353],\n",
       "       [ 0.   ,  0.651, -0.412]])"
      ]
     },
     "execution_count": 59,
     "metadata": {},
     "output_type": "execute_result"
    }
   ],
   "source": [
    "B.T"
   ]
  },
  {
   "cell_type": "code",
   "execution_count": 60,
   "metadata": {},
   "outputs": [
    {
     "data": {
      "text/plain": [
       "array([[ 0.000e+00,  0.000e+00,  0.000e+00],\n",
       "       [ 7.593e-01, -7.593e-01,  4.994e-17],\n",
       "       [-6.508e-01, -6.508e-01,  8.235e-01],\n",
       "       [ 0.000e+00,  0.000e+00,  0.000e+00],\n",
       "       [-7.593e-01,  3.331e-16, -3.529e-01],\n",
       "       [ 6.508e-01, -1.943e-16, -4.118e-01],\n",
       "       [ 0.000e+00,  0.000e+00,  0.000e+00],\n",
       "       [ 1.110e-16,  7.593e-01,  3.529e-01],\n",
       "       [-8.327e-17,  6.508e-01, -4.118e-01]])"
      ]
     },
     "execution_count": 60,
     "metadata": {},
     "output_type": "execute_result"
    }
   ],
   "source": [
    "B_inv@np.dot(B, B.T)"
   ]
  },
  {
   "cell_type": "code",
   "execution_count": 61,
   "metadata": {},
   "outputs": [
    {
     "data": {
      "text/plain": [
       "(array([ 0.031,  0.031, -0.02 ]), array([ 0.031,  0.031, -0.02 ]))"
      ]
     },
     "execution_count": 61,
     "metadata": {},
     "output_type": "execute_result"
    }
   ],
   "source": [
    "B_inv.T@B.T@g_ic,g_ic"
   ]
  },
  {
   "cell_type": "code",
   "execution_count": null,
   "metadata": {},
   "outputs": [],
   "source": []
  },
  {
   "cell_type": "code",
   "execution_count": 62,
   "metadata": {},
   "outputs": [
    {
     "data": {
      "text/plain": [
       "(array([ 0.031,  0.031, -0.02 ]), array([[-5.608e-17, -3.731e-16, -5.735e-02],\n",
       "        [-1.943e-16, -1.664e-02,  2.867e-02],\n",
       "        [ 2.504e-16,  1.664e-02,  2.867e-02]]))"
      ]
     },
     "execution_count": 62,
     "metadata": {},
     "output_type": "execute_result"
    }
   ],
   "source": [
    "g_ic,g0"
   ]
  },
  {
   "cell_type": "code",
   "execution_count": 63,
   "metadata": {},
   "outputs": [
    {
     "data": {
      "text/plain": [
       "True"
      ]
     },
     "execution_count": 63,
     "metadata": {},
     "output_type": "execute_result"
    }
   ],
   "source": [
    "np.allclose(B.T@g_ic,g0.flatten())"
   ]
  },
  {
   "cell_type": "code",
   "execution_count": 64,
   "metadata": {},
   "outputs": [
    {
     "data": {
      "text/plain": [
       "array([1.844e+00, 1.844e+00, 1.110e-16])"
      ]
     },
     "execution_count": 64,
     "metadata": {},
     "output_type": "execute_result"
    }
   ],
   "source": [
    "B@h2occords.flatten()   # problems with angles"
   ]
  },
  {
   "cell_type": "code",
   "execution_count": 65,
   "metadata": {},
   "outputs": [
    {
     "data": {
      "text/plain": [
       "Point(q=array([1.844, 1.844, 1.724]), E=None, g=None)"
      ]
     },
     "execution_count": 65,
     "metadata": {},
     "output_type": "execute_result"
    }
   ],
   "source": [
    "s.future"
   ]
  },
  {
   "cell_type": "code",
   "execution_count": 66,
   "metadata": {},
   "outputs": [
    {
     "data": {
      "text/plain": [
       "array([[ 0.   ,  0.759, -0.651,  0.   , -0.759,  0.651,  0.   ,  0.   ,\n",
       "         0.   ],\n",
       "       [ 0.   , -0.759, -0.651,  0.   ,  0.   ,  0.   ,  0.   ,  0.759,\n",
       "         0.651],\n",
       "       [ 0.   ,  0.   ,  0.824,  0.   , -0.353, -0.412,  0.   ,  0.353,\n",
       "        -0.412]])"
      ]
     },
     "execution_count": 66,
     "metadata": {},
     "output_type": "execute_result"
    }
   ],
   "source": [
    "B"
   ]
  },
  {
   "cell_type": "code",
   "execution_count": 67,
   "metadata": {},
   "outputs": [
    {
     "data": {
      "text/plain": [
       "array([[ 0. ,  0. ,  0. ],\n",
       "       [ 0. , -1.4,  1.2],\n",
       "       [ 0. ,  1.4,  1.2]])"
      ]
     },
     "execution_count": 67,
     "metadata": {},
     "output_type": "execute_result"
    }
   ],
   "source": [
    "h2occords"
   ]
  },
  {
   "cell_type": "code",
   "execution_count": 68,
   "metadata": {},
   "outputs": [
    {
     "data": {
      "text/plain": [
       "(-1.3006802721088437, 1.000372)"
      ]
     },
     "execution_count": 68,
     "metadata": {},
     "output_type": "execute_result"
    }
   ],
   "source": [
    "-0.956/ 0.294*.4,0.956**2+ 0.294**2"
   ]
  },
  {
   "cell_type": "markdown",
   "metadata": {},
   "source": [
    "$$B_{\\mu i}=\\frac{\\partial q_\\mu}{\\partial x_i}$$"
   ]
  },
  {
   "cell_type": "code",
   "execution_count": 69,
   "metadata": {},
   "outputs": [
    {
     "data": {
      "text/plain": [
       "array([ 0.031,  0.031, -0.02 ])"
      ]
     },
     "execution_count": 69,
     "metadata": {},
     "output_type": "execute_result"
    }
   ],
   "source": [
    "g_ic=np.dot(B_inv.T, (g0).reshape(-1))\n",
    "g_ic"
   ]
  },
  {
   "cell_type": "code",
   "execution_count": 70,
   "metadata": {},
   "outputs": [],
   "source": [
    "h_ic=B_inv.T@h0@B_inv"
   ]
  },
  {
   "cell_type": "code",
   "execution_count": 138,
   "metadata": {},
   "outputs": [
    {
     "name": "stdout",
     "output_type": "stream",
     "text": [
      "converged SCF energy = -76.0561022205584\n",
      "converged SCF energy = -76.0562176330778\n"
     ]
    },
    {
     "data": {
      "text/plain": [
       "0.4964046993069026"
      ]
     },
     "execution_count": 138,
     "metadata": {},
     "output_type": "execute_result"
    }
   ],
   "source": [
    "h2o1=gto.M(atom=\"O 0 0 0; H 0 -1.4014 1.2012; H 0 1.4 1.2\",unit=\"Bohr\",basis=\"def2-TZVP\")\n",
    "h2o2=gto.M(atom=\"O 0 0 0; H 0 -1.3986 1.1988; H 0 1.4 1.2\",unit=\"Bohr\",basis=\"def2-TZVP\")\n",
    "E1=scf.RHF(h2o1).scf()\n",
    "E2=scf.RHF(h2o2).scf()\n",
    "(E2+E1-2*E0)/(.0014**2+.0012**2)"
   ]
  },
  {
   "cell_type": "code",
   "execution_count": 72,
   "metadata": {},
   "outputs": [
    {
     "data": {
      "text/plain": [
       "(array([[ 0.501, -0.004,  0.037],\n",
       "        [-0.004,  0.501,  0.037],\n",
       "        [ 0.037,  0.037,  0.214]]), array([[ 0.501, -0.004,  0.037],\n",
       "        [-0.004,  0.501,  0.037],\n",
       "        [ 0.037,  0.037,  0.214]]))"
      ]
     },
     "execution_count": 72,
     "metadata": {},
     "output_type": "execute_result"
    }
   ],
   "source": [
    "B_inv.T@B.T@h_ic@B@B_inv,h_ic"
   ]
  },
  {
   "cell_type": "code",
   "execution_count": 73,
   "metadata": {},
   "outputs": [
    {
     "data": {
      "text/plain": [
       "array([[ 1.000e+00, -3.331e-16,  1.110e-16],\n",
       "       [-4.510e-17,  1.000e+00, -1.110e-16],\n",
       "       [-2.776e-17,  6.939e-17,  1.000e+00]])"
      ]
     },
     "execution_count": 73,
     "metadata": {},
     "output_type": "execute_result"
    }
   ],
   "source": [
    "B@B_inv"
   ]
  },
  {
   "cell_type": "code",
   "execution_count": 274,
   "metadata": {},
   "outputs": [
    {
     "data": {
      "text/plain": [
       "(1.4325922553846953, 0.09040974238592206)"
      ]
     },
     "execution_count": 274,
     "metadata": {},
     "output_type": "execute_result"
    }
   ],
   "source": [
    "norm(h0),norm(h0-B.T@h_ic@B) #in realtà la traasformazione non è invertibile, ma ci si può avvicinare intorno al minimo."
   ]
  },
  {
   "cell_type": "code",
   "execution_count": 271,
   "metadata": {},
   "outputs": [],
   "source": [
    "dq_pr=-np.linalg.inv(h_ic)@g_ic"
   ]
  },
  {
   "cell_type": "code",
   "execution_count": 272,
   "metadata": {},
   "outputs": [],
   "source": [
    "np.set_printoptions(precision=3)"
   ]
  },
  {
   "cell_type": "code",
   "execution_count": 276,
   "metadata": {},
   "outputs": [
    {
     "data": {
      "text/plain": [
       "array([1.772, 1.772, 1.858])"
      ]
     },
     "execution_count": 276,
     "metadata": {},
     "output_type": "execute_result"
    }
   ],
   "source": [
    "s.future.q+dq_pr"
   ]
  },
  {
   "cell_type": "code",
   "execution_count": 245,
   "metadata": {},
   "outputs": [
    {
     "name": "stdout",
     "output_type": "stream",
     "text": [
      "[-0.07  -0.07   0.128] -0.006975212719315234 [0.179 0.495 0.504]\n",
      "Pure RFO step was performed:\n"
     ]
    },
    {
     "data": {
      "text/plain": [
       "array([1.774, 1.774, 1.852])"
      ]
     },
     "execution_count": 245,
     "metadata": {},
     "output_type": "execute_result"
    }
   ],
   "source": [
    "s.future.q+quadratic_step(g_ic, h_ic, s.weights, s.trust)[0]"
   ]
  },
  {
   "cell_type": "code",
   "execution_count": 246,
   "metadata": {},
   "outputs": [
    {
     "data": {
      "text/plain": [
       "array([1.772, 1.772, 1.858])"
      ]
     },
     "execution_count": 246,
     "metadata": {},
     "output_type": "execute_result"
    }
   ],
   "source": [
    "pred_q=(s.future.q-np.linalg.inv(h_ic)@g_ic)\n",
    "pred_q"
   ]
  },
  {
   "cell_type": "code",
   "execution_count": 247,
   "metadata": {},
   "outputs": [],
   "source": [
    "qqq,gn=s.coords.update_geom(s.geom,q0,-np.linalg.inv(h_ic)@g_ic,B_inv)"
   ]
  },
  {
   "cell_type": "code",
   "execution_count": 248,
   "metadata": {},
   "outputs": [],
   "source": [
    "gn=gn.coords*ang2bohr"
   ]
  },
  {
   "cell_type": "code",
   "execution_count": 249,
   "metadata": {},
   "outputs": [
    {
     "data": {
      "text/plain": [
       "(1.7724385353302758, 1.858)"
      ]
     },
     "execution_count": 249,
     "metadata": {},
     "output_type": "execute_result"
    }
   ],
   "source": [
    "gn-=gn[0]\n",
    "norm(gn[2]),anglecenter(gn)"
   ]
  },
  {
   "cell_type": "code",
   "execution_count": 250,
   "metadata": {},
   "outputs": [],
   "source": [
    "coords_new = h2occords+B_inv.dot(dq_pr).reshape(-1, 3)\n",
    "coords_new-=coords_new[0]"
   ]
  },
  {
   "cell_type": "code",
   "execution_count": 251,
   "metadata": {},
   "outputs": [
    {
     "data": {
      "text/plain": [
       "(1.7767002080583343, 1.863)"
      ]
     },
     "execution_count": 251,
     "metadata": {},
     "output_type": "execute_result"
    }
   ],
   "source": [
    "norm(coords_new[2]),anglecenter(coords_new)"
   ]
  },
  {
   "cell_type": "code",
   "execution_count": 252,
   "metadata": {},
   "outputs": [
    {
     "data": {
      "text/plain": [
       "array([[-2.793e-15, -2.483e-02,  9.698e-02],\n",
       "       [ 1.545e-14, -1.442e+00,  1.167e+00],\n",
       "       [-2.379e-14,  1.392e+00,  1.167e+00]])"
      ]
     },
     "execution_count": 252,
     "metadata": {},
     "output_type": "execute_result"
    }
   ],
   "source": [
    "h2occords-(np.linalg.inv(h0)@g0.flatten()).reshape(3,3)"
   ]
  },
  {
   "cell_type": "code",
   "execution_count": 253,
   "metadata": {},
   "outputs": [],
   "source": [
    "dxcc=-(np.linalg.inv(h0)@g0.flatten()).reshape(3,3)"
   ]
  },
  {
   "cell_type": "code",
   "execution_count": 254,
   "metadata": {},
   "outputs": [],
   "source": [
    "dxcc-=dxcc[0]"
   ]
  },
  {
   "cell_type": "code",
   "execution_count": 255,
   "metadata": {},
   "outputs": [
    {
     "data": {
      "text/plain": [
       "(1.7754409637512851, 1.848)"
      ]
     },
     "execution_count": 255,
     "metadata": {},
     "output_type": "execute_result"
    }
   ],
   "source": [
    "norm((h2occords+dxcc)[1]),anglecenter(h2occords+dxcc)"
   ]
  },
  {
   "cell_type": "code",
   "execution_count": 256,
   "metadata": {},
   "outputs": [
    {
     "data": {
      "text/plain": [
       "(array([1.844, 1.844, 1.724]), array([1.772, 1.772, 1.858]))"
      ]
     },
     "execution_count": 256,
     "metadata": {},
     "output_type": "execute_result"
    }
   ],
   "source": [
    "q0,q0+dq_pr"
   ]
  },
  {
   "cell_type": "code",
   "execution_count": 257,
   "metadata": {},
   "outputs": [
    {
     "data": {
      "text/plain": [
       "(array([[0.496, 0.001, 0.032],\n",
       "        [0.001, 0.496, 0.032],\n",
       "        [0.032, 0.032, 0.185]]),\n",
       " array([ 0.031,  0.031, -0.02 ]),\n",
       " array([-0.071, -0.071,  0.133]))"
      ]
     },
     "execution_count": 257,
     "metadata": {},
     "output_type": "execute_result"
    }
   ],
   "source": [
    "h_ic,g_ic,dq_pr"
   ]
  },
  {
   "cell_type": "code",
   "execution_count": 258,
   "metadata": {},
   "outputs": [
    {
     "data": {
      "text/plain": [
       "(-0.06304673043868449, -0.07147069552881277)"
      ]
     },
     "execution_count": 258,
     "metadata": {},
     "output_type": "execute_result"
    }
   ],
   "source": [
    "-g_ic[0]/h_ic[0,0],dq_pr[0]"
   ]
  },
  {
   "cell_type": "code",
   "execution_count": 260,
   "metadata": {},
   "outputs": [],
   "source": [
    "app=APP(mf,sites=[1])\n",
    "app.build_all()"
   ]
  },
  {
   "cell_type": "code",
   "execution_count": 261,
   "metadata": {},
   "outputs": [
    {
     "data": {
      "text/plain": [
       "0.6890273872543986"
      ]
     },
     "execution_count": 261,
     "metadata": {},
     "output_type": "execute_result"
    }
   ],
   "source": [
    "app.APDFT3(np.asarray([-1]))-app.mf.e_tot"
   ]
  },
  {
   "cell_type": "code",
   "execution_count": 262,
   "metadata": {},
   "outputs": [
    {
     "data": {
      "text/plain": [
       "(-0.05943921716876921, -0.07147069552881277, -0.06304673043868449)"
      ]
     },
     "execution_count": 262,
     "metadata": {},
     "output_type": "execute_result"
    }
   ],
   "source": [
    "mpa(g_ic[0],h_ic[0,0],s.future.q[0],.674)[0]-s.future.q[0],dq_pr[0],-g_ic[0]/h_ic[0,0]"
   ]
  },
  {
   "cell_type": "code",
   "execution_count": 270,
   "metadata": {},
   "outputs": [
    {
     "data": {
      "text/plain": [
       "(array([0.004, 0.004, 0.   ]), array([-0.068, -0.068,  0.133]))"
      ]
     },
     "execution_count": 270,
     "metadata": {},
     "output_type": "execute_result"
    }
   ],
   "source": [
    "ddq_mb=np.asarray([mpa(g_ic[0],h_ic[0,0],s.future.q[0],.67)[0]+g_ic[0]/h_ic[0,0]-s.future.q[0],\\\n",
    "                mpa(g_ic[0],h_ic[0,0],s.future.q[0],.67)[0]+g_ic[0]/h_ic[0,0]-s.future.q[0],0])\n",
    "dq_mb0=dq_pr+ddq_mb\n",
    "ddq_mb"
   ]
  },
  {
   "cell_type": "code",
   "execution_count": 277,
   "metadata": {},
   "outputs": [
    {
     "data": {
      "text/plain": [
       "(1.784469674289808, 1.77604570919968, 1.7724381959297646)"
      ]
     },
     "execution_count": 277,
     "metadata": {},
     "output_type": "execute_result"
    }
   ],
   "source": [
    "mpa(g_ic[0],h_ic[0,0],s.future.q[0],.674)[0],\\\n",
    "mpa(g_ic[0],h_ic[0,0],s.future.q[0],.674)[0]+g_ic[0]/h_ic[0,0]+dq_pr[0],s.future.q[0]+dq_pr[0]"
   ]
  },
  {
   "cell_type": "code",
   "execution_count": 269,
   "metadata": {},
   "outputs": [
    {
     "data": {
      "text/plain": [
       "(0.06304673043868449, -0.07147069552881277, -0.008423965090128285)"
      ]
     },
     "execution_count": 269,
     "metadata": {},
     "output_type": "execute_result"
    }
   ],
   "source": [
    "g_ic[0]/h_ic[0,0],dq_pr[0],g_ic[0]/h_ic[0,0]+dq_pr[0]"
   ]
  },
  {
   "cell_type": "code",
   "execution_count": 233,
   "metadata": {},
   "outputs": [
    {
     "data": {
      "text/plain": [
       "-0.07147069552881277"
      ]
     },
     "execution_count": 233,
     "metadata": {},
     "output_type": "execute_result"
    }
   ],
   "source": [
    "#dq_pr=-np.linalg.inv(h_ic)@g_ic\n",
    "h_ic_inv=np.linalg.inv(h_ic)\n",
    "(-h_ic_inv@g_ic)[0]"
   ]
  },
  {
   "cell_type": "code",
   "execution_count": 232,
   "metadata": {},
   "outputs": [
    {
     "data": {
      "text/plain": [
       "(array([ 2.023,  0.041, -0.36 ]),\n",
       " 0.07187326463857507,\n",
       " 0.0633266979455222,\n",
       " 0.008546566693052867)"
      ]
     },
     "execution_count": 232,
     "metadata": {},
     "output_type": "execute_result"
    }
   ],
   "source": [
    "h_ic_inv[:,0],h_ic_inv[:,0].dot(g_ic),h_ic_inv[0,0]*g_ic[0],h_ic_inv[1:,0].dot(g_ic[1:])"
   ]
  },
  {
   "cell_type": "code",
   "execution_count": 103,
   "metadata": {},
   "outputs": [
    {
     "data": {
      "text/plain": [
       "(-0.020438207901431665, -0.020171759719946218)"
      ]
     },
     "execution_count": 103,
     "metadata": {},
     "output_type": "execute_result"
    }
   ],
   "source": [
    "(-h_ic@dq_mb0)[2],g_ic[2]"
   ]
  },
  {
   "cell_type": "code",
   "execution_count": 104,
   "metadata": {},
   "outputs": [
    {
     "data": {
      "text/plain": [
       "(array([0.037, 0.037, 0.214]), -0.0002664481814854472)"
      ]
     },
     "execution_count": 104,
     "metadata": {},
     "output_type": "execute_result"
    }
   ],
   "source": [
    "h_ic[:,2],(-h_ic@dq_mb0)[2]-g_ic[2]"
   ]
  },
  {
   "cell_type": "code",
   "execution_count": 105,
   "metadata": {},
   "outputs": [
    {
     "data": {
      "text/plain": [
       "array([ 0.   ,  0.   , -0.001])"
      ]
     },
     "execution_count": 105,
     "metadata": {},
     "output_type": "execute_result"
    }
   ],
   "source": [
    "ddq_ma=np.asarray([0,0,((-h_ic@dq_mb0)[2]-g_ic[2])/h_ic[2,2]])\n",
    "ddq_ma"
   ]
  },
  {
   "cell_type": "code",
   "execution_count": 106,
   "metadata": {},
   "outputs": [
    {
     "data": {
      "text/plain": [
       "(-0.020171759719946215, -0.020171759719946218)"
      ]
     },
     "execution_count": 106,
     "metadata": {},
     "output_type": "execute_result"
    }
   ],
   "source": [
    "(-h_ic@(dq_mb0+ddq_ma))[2],g_ic[2]"
   ]
  },
  {
   "cell_type": "code",
   "execution_count": 107,
   "metadata": {},
   "outputs": [
    {
     "data": {
      "text/plain": [
       "array([1.776, 1.776, 1.842])"
      ]
     },
     "execution_count": 107,
     "metadata": {},
     "output_type": "execute_result"
    }
   ],
   "source": [
    "s.future.q+(dq_mb0+ddq_ma)"
   ]
  },
  {
   "cell_type": "code",
   "execution_count": 108,
   "metadata": {},
   "outputs": [
    {
     "data": {
      "text/plain": [
       "1.8185534082643486"
      ]
     },
     "execution_count": 108,
     "metadata": {},
     "output_type": "execute_result"
    }
   ],
   "source": [
    "mpa(g_ic[2],h_ic[2,2],s.future.q[2],10000)[0]"
   ]
  },
  {
   "cell_type": "code",
   "execution_count": 109,
   "metadata": {},
   "outputs": [
    {
     "data": {
      "text/plain": [
       "-0.09416976554063622"
      ]
     },
     "execution_count": 109,
     "metadata": {},
     "output_type": "execute_result"
    }
   ],
   "source": [
    "g_ic[2]/h_ic[2,2]"
   ]
  },
  {
   "cell_type": "code",
   "execution_count": 110,
   "metadata": {},
   "outputs": [
    {
     "data": {
      "text/plain": [
       "array([1.844, 1.844, 1.724])"
      ]
     },
     "execution_count": 110,
     "metadata": {},
     "output_type": "execute_result"
    }
   ],
   "source": [
    "s.future.q"
   ]
  },
  {
   "cell_type": "code",
   "execution_count": 113,
   "metadata": {},
   "outputs": [
    {
     "data": {
      "text/plain": [
       "array([-0.037,  0.006,  0.031])"
      ]
     },
     "execution_count": 113,
     "metadata": {},
     "output_type": "execute_result"
    }
   ],
   "source": [
    "g0@np.asarray([0,1.2,1])/norm(np.asarray([0,1.2,1]))"
   ]
  },
  {
   "cell_type": "code",
   "execution_count": 115,
   "metadata": {},
   "outputs": [
    {
     "data": {
      "text/plain": [
       "array([[ 2.   , -0.153, -0.536],\n",
       "       [-0.153,  2.   , -0.536],\n",
       "       [-0.536, -0.536,  1.266]])"
      ]
     },
     "execution_count": 115,
     "metadata": {},
     "output_type": "execute_result"
    }
   ],
   "source": [
    "B@B.T"
   ]
  },
  {
   "cell_type": "code",
   "execution_count": 116,
   "metadata": {},
   "outputs": [
    {
     "data": {
      "text/plain": [
       "(array([[ 4.779e-02,  1.875e-16, -8.111e-17, -2.389e-02, -1.144e-16,\n",
       "         -1.504e-16, -2.389e-02, -7.309e-17,  2.316e-16],\n",
       "        [ 1.875e-16,  5.973e-01,  2.661e-15, -1.035e-16, -2.987e-01,\n",
       "          2.355e-01, -8.399e-17, -2.987e-01, -2.355e-01],\n",
       "        [-8.111e-17,  2.151e-15,  4.865e-01, -4.588e-17,  1.773e-01,\n",
       "         -2.433e-01,  1.270e-16, -1.773e-01, -2.433e-01],\n",
       "        [-2.389e-02, -1.035e-16, -4.588e-17,  1.789e-02,  5.144e-17,\n",
       "          1.003e-16,  6.004e-03,  5.208e-17, -5.446e-17],\n",
       "        [-1.144e-16, -2.987e-01,  1.773e-01,  5.144e-17,  3.394e-01,\n",
       "         -2.064e-01,  6.298e-17, -4.070e-02,  2.911e-02],\n",
       "        [-1.504e-16,  2.355e-01, -2.433e-01,  1.003e-16, -2.064e-01,\n",
       "          2.285e-01,  5.010e-17, -2.911e-02,  1.475e-02],\n",
       "        [-2.389e-02, -8.399e-17,  1.270e-16,  6.004e-03,  6.298e-17,\n",
       "          5.010e-17,  1.789e-02,  2.101e-17, -1.771e-16],\n",
       "        [-7.309e-17, -2.987e-01, -1.773e-01,  5.208e-17, -4.070e-02,\n",
       "         -2.911e-02,  2.101e-17,  3.394e-01,  2.064e-01],\n",
       "        [ 2.316e-16, -2.355e-01, -2.433e-01, -5.446e-17,  2.911e-02,\n",
       "          1.475e-02, -1.771e-16,  2.064e-01,  2.285e-01]]),\n",
       " array([[ 0.000e+00,  0.000e+00,  0.000e+00,  0.000e+00,  0.000e+00,\n",
       "          0.000e+00,  0.000e+00,  0.000e+00,  0.000e+00],\n",
       "        [ 0.000e+00,  5.816e-01,  6.500e-12,  0.000e+00, -2.908e-01,\n",
       "          2.493e-01,  0.000e+00, -2.908e-01, -2.493e-01],\n",
       "        [ 0.000e+00,  6.500e-12,  4.865e-01,  0.000e+00,  1.773e-01,\n",
       "         -2.433e-01,  0.000e+00, -1.773e-01, -2.433e-01],\n",
       "        [ 0.000e+00,  0.000e+00,  0.000e+00,  0.000e+00,  0.000e+00,\n",
       "          0.000e+00,  0.000e+00,  0.000e+00,  0.000e+00],\n",
       "        [ 0.000e+00, -2.908e-01,  1.773e-01,  0.000e+00,  3.354e-01,\n",
       "         -2.133e-01,  0.000e+00, -4.463e-02,  3.599e-02],\n",
       "        [ 0.000e+00,  2.493e-01, -2.433e-01,  0.000e+00, -2.133e-01,\n",
       "          2.285e-01,  0.000e+00, -3.599e-02,  1.480e-02],\n",
       "        [ 0.000e+00,  0.000e+00,  0.000e+00,  0.000e+00,  0.000e+00,\n",
       "          0.000e+00,  0.000e+00,  0.000e+00,  0.000e+00],\n",
       "        [ 0.000e+00, -2.908e-01, -1.773e-01,  0.000e+00, -4.463e-02,\n",
       "         -3.599e-02,  0.000e+00,  3.354e-01,  2.133e-01],\n",
       "        [ 0.000e+00, -2.493e-01, -2.433e-01,  0.000e+00,  3.599e-02,\n",
       "          1.480e-02,  0.000e+00,  2.133e-01,  2.285e-01]]))"
      ]
     },
     "execution_count": 116,
     "metadata": {},
     "output_type": "execute_result"
    }
   ],
   "source": [
    "h0,B.T@h_ic@B"
   ]
  },
  {
   "cell_type": "markdown",
   "metadata": {},
   "source": [
    "# Understand the building process for $B_{ij}=\\frac{\\partial q_i}{\\partial x_j}$"
   ]
  },
  {
   "cell_type": "code",
   "execution_count": 117,
   "metadata": {},
   "outputs": [],
   "source": [
    "# start from B matrix construction  \n",
    "def B_matrix(self, geom):\n",
    "        geom = geom.supercell()\n",
    "        B = np.zeros((len(self), len(geom), 3))\n",
    "        for i, coord in enumerate(self):   # i=index, internal coordinate\n",
    "            _, grads = coord.eval(geom.coords, grad=True)\n",
    "            idx = [k % len(geom) for k in coord.idx] #list with atom ideces\n",
    "            for j, grad in zip(idx, grads): # j is an atom index \n",
    "                B[i, j] += grad    # is built at first a matrix of 3n vectors \n",
    "        return B.reshape(len(self), 3 * len(geom)) # in the end is reshaped to N.IC x 3 N.atm "
   ]
  },
  {
   "cell_type": "code",
   "execution_count": 118,
   "metadata": {},
   "outputs": [
    {
     "name": "stdout",
     "output_type": "stream",
     "text": [
      "(0, array([ 0.   ,  0.759, -0.651])) (2, array([-0.   , -0.759,  0.651]))\n"
     ]
    }
   ],
   "source": [
    "idxl=[k % len(s.geom) for k in s.coords._coords[1].idx]\n",
    "print(*zip(idxl,s.coords._coords[0].eval(s.geom.coords, grad=True)[1]))"
   ]
  },
  {
   "cell_type": "code",
   "execution_count": 119,
   "metadata": {},
   "outputs": [
    {
     "data": {
      "text/plain": [
       "(0, 2)"
      ]
     },
     "execution_count": 119,
     "metadata": {},
     "output_type": "execute_result"
    }
   ],
   "source": [
    "s.coords._coords[1].idx"
   ]
  },
  {
   "cell_type": "code",
   "execution_count": 120,
   "metadata": {},
   "outputs": [
    {
     "name": "stdout",
     "output_type": "stream",
     "text": [
      "(0, Bond(0, 1, weak=0)) (1, Bond(0, 2, weak=0)) (2, Angle(1, 0, 2, weak=0))\n"
     ]
    }
   ],
   "source": [
    "print(*enumerate(s.coords))"
   ]
  },
  {
   "cell_type": "code",
   "execution_count": 121,
   "metadata": {},
   "outputs": [
    {
     "data": {
      "text/plain": [
       "(1.8439088914585773,\n",
       " [array([ 0.   ,  0.759, -0.651]), array([-0.   , -0.759,  0.651])])"
      ]
     },
     "execution_count": 121,
     "metadata": {},
     "output_type": "execute_result"
    }
   ],
   "source": [
    "s.coords._coords[0].eval(s.geom.coords, grad=True)"
   ]
  },
  {
   "cell_type": "code",
   "execution_count": 122,
   "metadata": {},
   "outputs": [
    {
     "name": "stdout",
     "output_type": "stream",
     "text": [
      "    def eval(self, coords, grad=False):\n",
      "        v = (coords[self.i] - coords[self.j]) * angstrom\n",
      "        r = norm(v)\n",
      "        if not grad:\n",
      "            return r\n",
      "        return r, [v / r, -v / r]\n",
      "\n"
     ]
    }
   ],
   "source": [
    "print(inspect.getsource(s.coords._coords[0].eval)) # angstrom=ang2bohr\n",
    "# the bond gradient is difference between the two coordinates, over the norm"
   ]
  },
  {
   "cell_type": "markdown",
   "metadata": {},
   "source": [
    " # Trying to obtain the tensor $B'_{ijk}= \\frac {\\partial^2 q_i}{\\partial x_j\\partial x_k}$"
   ]
  },
  {
   "cell_type": "code",
   "execution_count": 154,
   "metadata": {},
   "outputs": [],
   "source": [
    "def bond_2deriv(bond,coords):\n",
    "    v = (coords[bond.i] - coords[bond.j]) * ang2bohr\n",
    "    r = norm(v)\n",
    "    fd=np.hstack((v / r,-v / r))\n",
    "    bp=np.einsum(\"i,j->ij\",fd,fd)\n",
    "    bp-=np.eye(6)\n",
    "    bp[0,3]+=1\n",
    "    bp[3,0]+=1\n",
    "    bp[1,4]+=1\n",
    "    bp[4,1]+=1\n",
    "    bp[2,5]+=1\n",
    "    bp[5,2]+=1\n",
    "    bp/=-r\n",
    "    return  bp"
   ]
  },
  {
   "cell_type": "code",
   "execution_count": 155,
   "metadata": {},
   "outputs": [],
   "source": [
    "Bp=bond_2deriv(s.coords._coords[0],s.geom.coords),bond_2deriv(s.coords._coords[1],s.geom.coords)"
   ]
  },
  {
   "cell_type": "code",
   "execution_count": 156,
   "metadata": {},
   "outputs": [
    {
     "data": {
      "text/plain": [
       "(Bond(0, 2, weak=0), Bond(0, 1, weak=0))"
      ]
     },
     "execution_count": 156,
     "metadata": {},
     "output_type": "execute_result"
    }
   ],
   "source": [
    "s.coords._coords[1],s.coords._coords[0]"
   ]
  },
  {
   "cell_type": "code",
   "execution_count": 157,
   "metadata": {},
   "outputs": [
    {
     "data": {
      "text/plain": [
       "(array([[ 0.54233, -0.     , -0.     , -0.54233, -0.     , -0.     ],\n",
       "        [-0.     ,  0.22969,  0.26797, -0.     , -0.22969, -0.26797],\n",
       "        [-0.     ,  0.26797,  0.31264, -0.     , -0.26797, -0.31264],\n",
       "        [-0.54233, -0.     , -0.     ,  0.54233, -0.     , -0.     ],\n",
       "        [-0.     , -0.22969, -0.26797, -0.     ,  0.22969,  0.26797],\n",
       "        [-0.     , -0.26797, -0.31264, -0.     ,  0.26797,  0.31264]]),\n",
       " array([[ 0.54233, -0.     , -0.     , -0.54233, -0.     , -0.     ],\n",
       "        [-0.     ,  0.22969, -0.26797, -0.     , -0.22969,  0.26797],\n",
       "        [-0.     , -0.26797,  0.31264, -0.     ,  0.26797, -0.31264],\n",
       "        [-0.54233, -0.     , -0.     ,  0.54233, -0.     , -0.     ],\n",
       "        [-0.     , -0.22969,  0.26797, -0.     ,  0.22969, -0.26797],\n",
       "        [-0.     ,  0.26797, -0.31264, -0.     , -0.26797,  0.31264]]))"
      ]
     },
     "execution_count": 157,
     "metadata": {},
     "output_type": "execute_result"
    }
   ],
   "source": [
    "Bp"
   ]
  },
  {
   "cell_type": "code",
   "execution_count": 158,
   "metadata": {},
   "outputs": [
    {
     "data": {
      "text/plain": [
       "Bond(0, 1, weak=0)"
      ]
     },
     "execution_count": 158,
     "metadata": {},
     "output_type": "execute_result"
    }
   ],
   "source": [
    "s.coords._coords[0]"
   ]
  },
  {
   "cell_type": "code",
   "execution_count": 159,
   "metadata": {},
   "outputs": [],
   "source": [
    "v=np.asarray([1,2,3])"
   ]
  },
  {
   "cell_type": "code",
   "execution_count": 160,
   "metadata": {},
   "outputs": [
    {
     "data": {
      "text/plain": [
       "array([[1, 2, 3],\n",
       "       [2, 4, 6],\n",
       "       [3, 6, 9]])"
      ]
     },
     "execution_count": 160,
     "metadata": {},
     "output_type": "execute_result"
    }
   ],
   "source": [
    "np.einsum(\"i,j->ij\",v,v)"
   ]
  },
  {
   "cell_type": "code",
   "execution_count": 161,
   "metadata": {},
   "outputs": [
    {
     "data": {
      "text/plain": [
       "True"
      ]
     },
     "execution_count": 161,
     "metadata": {},
     "output_type": "execute_result"
    }
   ],
   "source": [
    "s.coords._coords[0].__class__==coords.Bond"
   ]
  },
  {
   "cell_type": "markdown",
   "metadata": {},
   "source": [
    "$$B^T H_qB + B'^Tg_q = H_x $$\n",
    "$$ H_q = B_{inv}^T(H_x - B'^Tg_q)B_{inv}$$"
   ]
  },
  {
   "cell_type": "code",
   "execution_count": 162,
   "metadata": {},
   "outputs": [
    {
     "data": {
      "text/plain": [
       "(array([[ 0.50091, -0.00357,  0.03732],\n",
       "        [-0.00357,  0.50091,  0.03732],\n",
       "        [ 0.03732,  0.03732,  0.21421]]),\n",
       " array([[ 0.50091, -0.00357,  0.03732],\n",
       "        [-0.00357,  0.50091,  0.03732],\n",
       "        [ 0.03732,  0.03732,  0.21421]]))"
      ]
     },
     "execution_count": 162,
     "metadata": {},
     "output_type": "execute_result"
    }
   ],
   "source": [
    "B_inv.T@h0@B_inv,h_ic"
   ]
  },
  {
   "cell_type": "code",
   "execution_count": 168,
   "metadata": {},
   "outputs": [],
   "source": [
    "BpG=np.zeros((9,9))\n",
    "BpG[:6,:6]+=Bp[0]*g_ic[0]\n",
    "BpG[:3,:3]+=Bp[1][:3,:3]*g_ic[1]\n",
    "BpG[6:,6:]+=Bp[1][3:,3:]*g_ic[1]\n",
    "BpG[6:,:3]+=Bp[1][3:,:3]*g_ic[1]\n",
    "BpG[:3,6:]+=Bp[1][:3,3:]*g_ic[1]"
   ]
  },
  {
   "cell_type": "code",
   "execution_count": 169,
   "metadata": {},
   "outputs": [
    {
     "data": {
      "text/plain": [
       "array([ 0.0313 ,  0.0313 , -0.02017])"
      ]
     },
     "execution_count": 169,
     "metadata": {},
     "output_type": "execute_result"
    }
   ],
   "source": [
    "g_ic"
   ]
  },
  {
   "cell_type": "code",
   "execution_count": 170,
   "metadata": {},
   "outputs": [
    {
     "data": {
      "text/plain": [
       "array([[ 3.39458e-02,  0.00000e+00,  0.00000e+00, -1.69729e-02,\n",
       "         0.00000e+00,  0.00000e+00, -1.69729e-02,  0.00000e+00,\n",
       "         0.00000e+00],\n",
       "       [ 0.00000e+00,  1.43770e-02,  6.93889e-16,  0.00000e+00,\n",
       "        -7.18851e-03, -8.38660e-03,  0.00000e+00, -7.18851e-03,\n",
       "         8.38660e-03],\n",
       "       [ 0.00000e+00,  6.93889e-16,  1.95687e-02,  0.00000e+00,\n",
       "        -8.38660e-03, -9.78437e-03,  0.00000e+00,  8.38660e-03,\n",
       "        -9.78437e-03],\n",
       "       [-1.69729e-02,  0.00000e+00,  0.00000e+00,  1.69729e-02,\n",
       "         0.00000e+00,  0.00000e+00,  0.00000e+00,  0.00000e+00,\n",
       "         0.00000e+00],\n",
       "       [ 0.00000e+00, -7.18851e-03, -8.38660e-03,  0.00000e+00,\n",
       "         7.18851e-03,  8.38660e-03,  0.00000e+00,  0.00000e+00,\n",
       "         0.00000e+00],\n",
       "       [ 0.00000e+00, -8.38660e-03, -9.78437e-03,  0.00000e+00,\n",
       "         8.38660e-03,  9.78437e-03,  0.00000e+00,  0.00000e+00,\n",
       "         0.00000e+00],\n",
       "       [-1.69729e-02,  0.00000e+00,  0.00000e+00,  0.00000e+00,\n",
       "         0.00000e+00,  0.00000e+00,  1.69729e-02,  0.00000e+00,\n",
       "         0.00000e+00],\n",
       "       [ 0.00000e+00, -7.18851e-03,  8.38660e-03,  0.00000e+00,\n",
       "         0.00000e+00,  0.00000e+00,  0.00000e+00,  7.18851e-03,\n",
       "        -8.38660e-03],\n",
       "       [ 0.00000e+00,  8.38660e-03, -9.78437e-03,  0.00000e+00,\n",
       "         0.00000e+00,  0.00000e+00,  0.00000e+00, -8.38660e-03,\n",
       "         9.78437e-03]])"
      ]
     },
     "execution_count": 170,
     "metadata": {},
     "output_type": "execute_result"
    }
   ],
   "source": [
    "BpG"
   ]
  },
  {
   "cell_type": "code",
   "execution_count": 186,
   "metadata": {},
   "outputs": [],
   "source": [
    "np.set_printoptions(precision=3)"
   ]
  },
  {
   "cell_type": "code",
   "execution_count": 174,
   "metadata": {},
   "outputs": [
    {
     "data": {
      "text/plain": [
       "(array([[ 0.49913, -0.00178,  0.03732],\n",
       "        [-0.00178,  0.49913,  0.03732],\n",
       "        [ 0.03732,  0.03732,  0.18535]]),\n",
       " array([[ 0.50091, -0.00357,  0.03732],\n",
       "        [-0.00357,  0.50091,  0.03732],\n",
       "        [ 0.03732,  0.03732,  0.21421]]))"
      ]
     },
     "execution_count": 174,
     "metadata": {},
     "output_type": "execute_result"
    }
   ],
   "source": [
    "B_inv.T@(h0-BpG)@B_inv,h_ic"
   ]
  },
  {
   "cell_type": "markdown",
   "metadata": {},
   "source": [
    "# Get B' for angles !!!\n"
   ]
  },
  {
   "cell_type": "code",
   "execution_count": 204,
   "metadata": {},
   "outputs": [],
   "source": [
    "geom0=s.geom.copy()"
   ]
  },
  {
   "cell_type": "code",
   "execution_count": 176,
   "metadata": {},
   "outputs": [
    {
     "data": {
      "text/plain": [
       "array([[ 0.     ,  0.75926, -0.65079,  0.     , -0.75926,  0.65079,\n",
       "         0.     ,  0.     ,  0.     ],\n",
       "       [ 0.     , -0.75926, -0.65079,  0.     ,  0.     ,  0.     ,\n",
       "         0.     ,  0.75926,  0.65079],\n",
       "       [ 0.     ,  0.     ,  0.82353,  0.     , -0.35294, -0.41176,\n",
       "         0.     ,  0.35294, -0.41176]])"
      ]
     },
     "execution_count": 176,
     "metadata": {},
     "output_type": "execute_result"
    }
   ],
   "source": [
    "s.coords.B_matrix(s.geom)"
   ]
  },
  {
   "cell_type": "code",
   "execution_count": 207,
   "metadata": {},
   "outputs": [
    {
     "data": {
      "text/plain": [
       "(array([[ 0.   ,  0.   ,  0.   ],\n",
       "        [ 0.   , -0.741,  0.635],\n",
       "        [ 0.   ,  0.741,  0.635]]),\n",
       " array([ 0.   ,  0.   ,  0.   ,  0.   , -0.741,  0.635,  0.   ,  0.741,\n",
       "         0.635]))"
      ]
     },
     "execution_count": 207,
     "metadata": {},
     "output_type": "execute_result"
    }
   ],
   "source": [
    "geom0.coords,geom0.coords.flatten()#.reshape(3,3)\n"
   ]
  },
  {
   "cell_type": "code",
   "execution_count": 201,
   "metadata": {},
   "outputs": [
    {
     "data": {
      "text/plain": [
       "array([[nan, nan, nan, nan, nan, nan,  0.,  0.,  0.],\n",
       "       [nan, nan, nan,  0.,  0.,  0., nan, nan, nan],\n",
       "       [nan, nan, nan, nan, nan, nan, nan, nan, nan]])"
      ]
     },
     "execution_count": 201,
     "metadata": {},
     "output_type": "execute_result"
    }
   ],
   "source": [
    "s.coords.B_matrix(geom0)"
   ]
  },
  {
   "cell_type": "code",
   "execution_count": 181,
   "metadata": {},
   "outputs": [
    {
     "data": {
      "text/plain": [
       "array([[ 0.     ,  0.     ,  0.     ],\n",
       "       [ 0.     , -0.74085,  0.63601],\n",
       "       [ 0.     ,  0.74085,  0.63501]])"
      ]
     },
     "execution_count": 181,
     "metadata": {},
     "output_type": "execute_result"
    }
   ],
   "source": [
    "geom0.coords"
   ]
  },
  {
   "cell_type": "code",
   "execution_count": 222,
   "metadata": {},
   "outputs": [],
   "source": [
    "bms=[]\n",
    "for i in range(geom0.coords.flatten().shape[0]):\n",
    "    a=geom0.coords.flatten()\n",
    "    geom1=geom0.copy()\n",
    "    a[i]+=.001*bohr2ang\n",
    "    a=a.reshape(3,3)\n",
    "    geom1.coords=a\n",
    "    bms.append((s.coords.B_matrix(geom1)-B)*1000)"
   ]
  },
  {
   "cell_type": "code",
   "execution_count": 224,
   "metadata": {},
   "outputs": [],
   "source": [
    "bms_arr=np.asarray(bms)"
   ]
  },
  {
   "cell_type": "code",
   "execution_count": 228,
   "metadata": {},
   "outputs": [],
   "source": [
    "BpG2=np.einsum('ijk,j->ik',bms,g_ic)"
   ]
  },
  {
   "cell_type": "code",
   "execution_count": 230,
   "metadata": {},
   "outputs": [],
   "source": [
    "h_ic=B_inv.T@(h0-BpG2)@B_inv"
   ]
  },
  {
   "cell_type": "code",
   "execution_count": null,
   "metadata": {},
   "outputs": [],
   "source": []
  }
 ],
 "metadata": {
  "kernelspec": {
   "display_name": "Python 3",
   "language": "python",
   "name": "python3"
  },
  "language_info": {
   "codemirror_mode": {
    "name": "ipython",
    "version": 3
   },
   "file_extension": ".py",
   "mimetype": "text/x-python",
   "name": "python",
   "nbconvert_exporter": "python",
   "pygments_lexer": "ipython3",
   "version": "3.7.3"
  }
 },
 "nbformat": 4,
 "nbformat_minor": 2
}
