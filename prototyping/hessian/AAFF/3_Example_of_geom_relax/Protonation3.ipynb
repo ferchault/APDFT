{
 "cells": [
  {
   "cell_type": "code",
   "execution_count": 1,
   "metadata": {},
   "outputs": [],
   "source": [
    "import sys\n",
    "sys.path.append(\"/home/administrator/Documenti/APDFT/prototyping/hessian/AAFF/Libs/\")\n",
    "from AP_class import APDFT_perturbator as AP\n",
    "from aaff import aaff,alc_deriv_grad_nuc,alc_differential_grad_nuc\n",
    "from FcMole import FcM\n",
    "from alch_deriv import alch_deriv\n",
    "from pyscf import gto,scf\n",
    "import numpy as np\n",
    "import ipyvolume as ipv\n",
    "from numpy.linalg import norm as norm\n",
    "from scipy.optimize import  minimize\n",
    "from scipy.spatial.transform import Rotation as R\n",
    "import matplotlib.pyplot as plt\n",
    "from mpl_toolkits import mplot3d\n",
    "from pyscf.grad import rhf as grhf\n",
    "from pyscf.hessian import rhf as hrhf\n",
    "import basis_set_exchange as bse\n",
    "from FDcoeffs import *\n",
    "from pyscf.geomopt.berny_solver import optimize\n",
    "ang2bohr=1.8897261246\n",
    "bohr2ang=.5291772109"
   ]
  },
  {
   "cell_type": "code",
   "execution_count": 2,
   "metadata": {},
   "outputs": [],
   "source": [
    "%load_ext autoreload\n",
    "%autoreload 2\n",
    "from AP_class import APDFT_perturbator as AP\n",
    "from ABSE import absec\n",
    "from Morse import Morse_interpolator"
   ]
  },
  {
   "cell_type": "code",
   "execution_count": 3,
   "metadata": {},
   "outputs": [],
   "source": [
    "from berny import Berny, geomlib, coords,Geometry,Math\n",
    "import berny"
   ]
  },
  {
   "cell_type": "code",
   "execution_count": 4,
   "metadata": {},
   "outputs": [],
   "source": [
    "def anglecenter(coords):\n",
    "    return np.around(np.arccos(coords[1].dot(coords[2])/norm(coords[1])/norm(coords[2]))*180/np.pi,decimals=3)"
   ]
  },
  {
   "cell_type": "code",
   "execution_count": 75,
   "metadata": {},
   "outputs": [],
   "source": [
    "def build_h_ic(s,g_ic,h0,B_inv):\n",
    "    geom0=s.geom.copy()\n",
    "    B=s.coords.B_matrix(geom0)\n",
    "    bms=[]\n",
    "    for i in range(geom0.coords.flatten().shape[0]):\n",
    "        a=geom0.coords.flatten()\n",
    "        geom1=geom0.copy()\n",
    "        a[i]+=.001*bohr2ang\n",
    "        a=a.reshape(geom0.coords.shape)\n",
    "        geom1.coords=a\n",
    "        bms.append((s.coords.B_matrix(geom1)-B)*1000)\n",
    "    bms_arr=np.asarray(bms)\n",
    "    BpG2=np.einsum('ijk,j->ik',bms,g_ic)\n",
    "    h_ic=B_inv.T@(h0-BpG2)@B_inv\n",
    "    return h_ic\n",
    "\n",
    "\n",
    "ebde=100/627.5 # empirical bond dissociation energy\n",
    "ch4coords,nh3optg,oh2optg,hfoptg=np.load(\"optgeoms.npy\")\n",
    "def mpa_pb_with_energy(coords,atoml,g,h,e,gic=False,ghost=[]):\n",
    "    g=np.asarray(g)\n",
    "    if not len(h.shape)==2:\n",
    "        h=h.swapaxes(1,2)\n",
    "        h=h.reshape(g.shape[0]*3,g.shape[0]*3)\n",
    "    geom0=Geometry(atoml,coords*bohr2ang)\n",
    "    bernyobj=Berny(geom0)\n",
    "    s=bernyobj._state\n",
    "    B = s.coords.B_matrix(geom0)\n",
    "    q0=s.coords.eval_geom(geom0)\n",
    "    B_inv = B.T.dot(Math.pinv(np.dot(B, B.T)))\n",
    "    if not gic:\n",
    "        g_ic=np.dot(B_inv.T, (g).reshape(-1))\n",
    "    else:\n",
    "        g_ic=g\n",
    "    print(g_ic)\n",
    "    h_ic=build_h_ic(s,g_ic,h,B_inv)\n",
    "    bnr=0\n",
    "    dde_mb=0\n",
    "    ddq_mb=np.zeros_like(q0)\n",
    "    for i in range(len(s.coords._coords)):\n",
    "        if s.coords._coords[i].__class__ is berny.coords.Bond:\n",
    "            bnr+=1\n",
    "            if s.coords._coords[i].i not in ghost and s.coords._coords[i].j not in ghost:\n",
    "                MorseInt=Morse_interpolator(g_ic[i],h_ic[i,i],q0[i],ebde,e)\n",
    "                ddq_mb[i]+=MorseInt.re+g_ic[i]/h_ic[i,i]-q0[i]\n",
    "                dde_mb+=MorseInt.e_min-e+1/2*h_ic[i,i]*(MorseInt.re-q0[i])**2\n",
    "    dq_NR=-Math.pinv(h_ic)@g_ic\n",
    "    ddq_mb_old=np.linalg.solve(h_ic[bnr:,bnr:],-h_ic[bnr:,:]@(ddq_mb))\n",
    "    ddq_mb[bnr:]=-Math.pinv(h_ic[bnr:,bnr:]) @(h_ic[bnr:,:]@(ddq_mb))\n",
    "    print(ddq_mb,ddq_mb_old)\n",
    "    dq_tot=dq_NR+ddq_mb\n",
    "    en_MB=(e-1/2*np.einsum(\"i,ij,j\",dq_tot,h_ic,dq_tot)+dde_mb)\n",
    "    print (s.coords._coords)\n",
    "    #return q0,q0+dq_tot,en_MB\n",
    "    return q0,dq_NR,q0+dq_NR,q0+dq_tot,en_MB"
   ]
  },
  {
   "cell_type": "code",
   "execution_count": 6,
   "metadata": {},
   "outputs": [
    {
     "name": "stdout",
     "output_type": "stream",
     "text": [
      "converged SCF energy = -100.065540168732\n"
     ]
    },
    {
     "data": {
      "text/plain": [
       "-100.06554016873244"
      ]
     },
     "execution_count": 6,
     "metadata": {},
     "output_type": "execute_result"
    }
   ],
   "source": [
    "HF=gto.M(atom=\"F 0 0 0;H 0 0 1.695741\",unit=\"bohr\",\n",
    "            basis={\"H\":\"pc-2\",'F':bse.get_basis(\"pcX-2\",fmt=\"nwchem\",elements=[9])})\n",
    "mfhf = scf.RHF(HF)\n",
    "mfhf.scf()"
   ]
  },
  {
   "cell_type": "code",
   "execution_count": 7,
   "metadata": {},
   "outputs": [],
   "source": [
    "dm=mfhf.make_rdm1()"
   ]
  },
  {
   "cell_type": "code",
   "execution_count": 8,
   "metadata": {},
   "outputs": [],
   "source": [
    "def Vne(coords,mol=HF,dm=dm):\n",
    "    mol.set_rinv_orig_(coords)\n",
    "    dV=mol.intor('int1e_rinv')\n",
    "    return -np.einsum('ij,ij',dV,dm)"
   ]
  },
  {
   "cell_type": "code",
   "execution_count": 9,
   "metadata": {},
   "outputs": [],
   "source": [
    "dL=[-1,0,0,0] #-1 charge central atom\n",
    "def Vnn(coords,mol=HF):\n",
    "    Vnn=0\n",
    "    for i in range (mol.natm):\n",
    "        #Vnn+= (mol.atom_charge(i))/np.linalg.norm(coords-mol.atom_coord(i))        \n",
    "        Vnn+= (mol.atom_charge(i)+dL[i])/np.linalg.norm(coords-mol.atom_coord(i))\n",
    "    return Vnn"
   ]
  },
  {
   "cell_type": "code",
   "execution_count": 10,
   "metadata": {},
   "outputs": [],
   "source": [
    "def Vtot(coords,mol=HF,dm=dm):\n",
    "    return Vnn(coords,mol)+Vne(coords,mol,dm)"
   ]
  },
  {
   "cell_type": "code",
   "execution_count": 11,
   "metadata": {},
   "outputs": [],
   "source": [
    "def euler2coords(teta,phi,r):\n",
    "    return np.asarray([np.cos(phi)*np.sin(teta),np.sin(teta)*np.sin(phi),np.cos(teta)])*r\n",
    "def Vtot_fl(angles,r,mol=HF,dm=dm):\n",
    "    teta,phi=angles\n",
    "    coords=euler2coords(teta,phi,1.695741)\n",
    "    return Vtot(coords,mol=HF,dm=dm)"
   ]
  },
  {
   "cell_type": "code",
   "execution_count": 12,
   "metadata": {},
   "outputs": [],
   "source": [
    "prot_angles=minimize(Vtot_fl,(1.4,0),args=(1.695741)).x"
   ]
  },
  {
   "cell_type": "code",
   "execution_count": 13,
   "metadata": {},
   "outputs": [
    {
     "data": {
      "text/plain": [
       "array([ 2.08705644e+00, -1.33294520e-07])"
      ]
     },
     "execution_count": 13,
     "metadata": {},
     "output_type": "execute_result"
    }
   ],
   "source": [
    "prot_angles"
   ]
  },
  {
   "cell_type": "code",
   "execution_count": 14,
   "metadata": {},
   "outputs": [
    {
     "data": {
      "text/plain": [
       "array([ 1.47473742e+00, -1.96574417e-07, -8.37070537e-01])"
      ]
     },
     "execution_count": 14,
     "metadata": {},
     "output_type": "execute_result"
    }
   ],
   "source": [
    "prot_site=euler2coords(*prot_angles,1.695741)\n",
    "prot_site"
   ]
  },
  {
   "cell_type": "code",
   "execution_count": 15,
   "metadata": {},
   "outputs": [
    {
     "data": {
      "text/plain": [
       "(1.5510757001436768, 118.422)"
      ]
     },
     "execution_count": 15,
     "metadata": {},
     "output_type": "execute_result"
    }
   ],
   "source": [
    "prot_site=minimize(Vtot,[0,.5,-1.3]).x\n",
    "norm(prot_site),anglecenter(np.vstack([HF.atom_coords(),prot_site])) #*180/np.pi"
   ]
  },
  {
   "cell_type": "markdown",
   "metadata": {},
   "source": [
    "# How to develop the basis functions or do none.\n"
   ]
  },
  {
   "cell_type": "code",
   "execution_count": 16,
   "metadata": {},
   "outputs": [],
   "source": [
    "pHF=FcM(fcs=[0,0,-1],atom=\"F 0 0 0;H 0 0 1.695741; H {} {} {}\".format(prot_site[0],prot_site[1],prot_site[2]),unit=\"bohr\",\n",
    "          basis={\"H\":\"pc-2\",'F':bse.get_basis(\"pcX-2\",fmt=\"nwchem\",elements=[9])},charge=1)\n",
    "pHF.charge=0"
   ]
  },
  {
   "cell_type": "code",
   "execution_count": 17,
   "metadata": {},
   "outputs": [
    {
     "name": "stdout",
     "output_type": "stream",
     "text": [
      "converged SCF energy = -100.065874806345\n"
     ]
    },
    {
     "data": {
      "text/plain": [
       "-100.06587480634477"
      ]
     },
     "execution_count": 17,
     "metadata": {},
     "output_type": "execute_result"
    }
   ],
   "source": [
    "pHFmf=scf.RHF(pHF)\n",
    "pHFmf.scf(dm0=pHFmf.init_guess_by_1e())"
   ]
  },
  {
   "cell_type": "code",
   "execution_count": 18,
   "metadata": {},
   "outputs": [
    {
     "data": {
      "text/plain": [
       "-75.96255971334608"
      ]
     },
     "execution_count": 18,
     "metadata": {},
     "output_type": "execute_result"
    }
   ],
   "source": [
    "afHF=aaff(pHFmf,[-1,0,1])+alc_deriv_grad_nuc(pHF,[-1,0,1])\n",
    "apHF=AP(pHFmf,sites=[0,2])\n",
    "apHF.build_all()\n",
    "apHF.APDFT3([-1,1])"
   ]
  },
  {
   "cell_type": "code",
   "execution_count": 19,
   "metadata": {},
   "outputs": [
    {
     "name": "stdout",
     "output_type": "stream",
     "text": [
      "converged SCF energy = -102.756154138897\n"
     ]
    },
    {
     "data": {
      "text/plain": [
       "-102.7561541388971"
      ]
     },
     "execution_count": 19,
     "metadata": {},
     "output_type": "execute_result"
    }
   ],
   "source": [
    "pHFm=FcM(fcs=[.1,0,-1.1],atom=\"F 0 0 0;H 0 0 1.695741; H {} {} {}\".format(prot_site[0],prot_site[1],prot_site[2]),unit=\"bohr\",\n",
    "          basis={\"H\":\"pc-2\",'F':bse.get_basis(\"pcX-2\",fmt=\"nwchem\",elements=[9])},charge=1)\n",
    "pHFmfm=scf.RHF(pHFm)\n",
    "pHFmfm.scf(dm0=pHFmfm.init_guess_by_1e())"
   ]
  },
  {
   "cell_type": "code",
   "execution_count": 20,
   "metadata": {},
   "outputs": [
    {
     "data": {
      "text/plain": [
       "-78.1262277056546"
      ]
     },
     "execution_count": 20,
     "metadata": {},
     "output_type": "execute_result"
    }
   ],
   "source": [
    "afHFm=aaff(pHFmfm,[-1,0,1])+alc_deriv_grad_nuc(pHFm,[-1,0,1])\n",
    "apHFm=AP(pHFmfm,sites=[0,2])\n",
    "apHFm.build_all()\n",
    "apHFm.APDFT3([-1,1])"
   ]
  },
  {
   "cell_type": "code",
   "execution_count": 21,
   "metadata": {},
   "outputs": [
    {
     "name": "stdout",
     "output_type": "stream",
     "text": [
      "converged SCF energy = -97.4269980240937\n"
     ]
    },
    {
     "data": {
      "text/plain": [
       "-97.4269980240937"
      ]
     },
     "execution_count": 21,
     "metadata": {},
     "output_type": "execute_result"
    }
   ],
   "source": [
    "pHFp=FcM(fcs=[-.1,0,-.9],atom=\"F 0 0 0;H 0 0 1.695741; H {} {} {}\".format(prot_site[0],prot_site[1],prot_site[2]),unit=\"bohr\",\n",
    "          basis={\"H\":\"pc-2\",'F':bse.get_basis(\"pcX-2\",fmt=\"nwchem\",elements=[9])},charge=1)\n",
    "pHFmfp=scf.RHF(pHFp)\n",
    "pHFmfp.scf(dm0=pHFmfp.init_guess_by_1e())"
   ]
  },
  {
   "cell_type": "code",
   "execution_count": 22,
   "metadata": {},
   "outputs": [],
   "source": [
    "afHFp=aaff(pHFmfp,[-1,0,1])+alc_deriv_grad_nuc(pHFp,[-1,0,1])\n",
    "apHFp=AP(pHFmfp,sites=[0,2])\n",
    "apHFp.build_all()"
   ]
  },
  {
   "cell_type": "code",
   "execution_count": 23,
   "metadata": {},
   "outputs": [],
   "source": [
    "HFh0=pHFmf.Hessian().hess()\n",
    "HFhm=pHFmfm.Hessian().hess()\n",
    "HFhp=pHFmfp.Hessian().hess()"
   ]
  },
  {
   "cell_type": "code",
   "execution_count": 24,
   "metadata": {},
   "outputs": [],
   "source": [
    "HFht=HFh0+(HFhp-HFhm)/.2+(HFhp+HFhm-2*HFh0)/2/.01"
   ]
  },
  {
   "cell_type": "code",
   "execution_count": 25,
   "metadata": {},
   "outputs": [],
   "source": [
    "HFgt=afHF+(afHFp-afHFm)/.2/2+(afHFp+afHFm-2*afHF)/6/.01"
   ]
  },
  {
   "cell_type": "code",
   "execution_count": 26,
   "metadata": {},
   "outputs": [],
   "source": [
    "HFet=apHF.APDFT3([-1,1])+absec(\"F\",\"O\")+(apHFp.third_deriv([-1,1])-apHFm.third_deriv([-1,1]))/.2/24+\\\n",
    "       (apHFp.third_deriv([-1,1])+apHFm.third_deriv([-1,1])-2*apHF.third_deriv([-1,1]))/.01/120                                  "
   ]
  },
  {
   "cell_type": "code",
   "execution_count": 27,
   "metadata": {},
   "outputs": [
    {
     "name": "stdout",
     "output_type": "stream",
     "text": [
      "[-0.04837561 -0.17835542  0.02442416]\n",
      "[ 0.00815086  0.0489941  -0.00733526] [-0.00733526]\n",
      "[Bond(0, 1, weak=0), Bond(0, 2, weak=0), Angle(1, 0, 2, weak=0)]\n"
     ]
    },
    {
     "data": {
      "text/plain": [
       "(array([1.695741  , 1.5510757 , 2.06684846]),\n",
       " array([ 0.06841579,  0.12829248, -0.18505165]),\n",
       " array([1.76415679, 1.67936819, 1.88179681]),\n",
       " array([1.77230765, 1.72836228, 1.87446155]),\n",
       " -76.00198556036152)"
      ]
     },
     "execution_count": 27,
     "metadata": {},
     "output_type": "execute_result"
    }
   ],
   "source": [
    "mpa_pb_with_energy(pHF.atom_coords(),['O','H','H'],HFgt,HFht,HFet)\n"
   ]
  },
  {
   "cell_type": "code",
   "execution_count": 28,
   "metadata": {},
   "outputs": [
    {
     "data": {
      "text/plain": [
       "(107.39875572807337, -75.96255971334608, -75.98380436718725)"
      ]
     },
     "execution_count": 28,
     "metadata": {},
     "output_type": "execute_result"
    }
   ],
   "source": [
    "1.8744619*180/np.pi,apHF.APDFT3([-1,1]),HFet"
   ]
  },
  {
   "cell_type": "markdown",
   "metadata": {},
   "source": [
    "# H$_2$O"
   ]
  },
  {
   "cell_type": "code",
   "execution_count": 29,
   "metadata": {},
   "outputs": [],
   "source": [
    "oh2lst=[]\n",
    "for x in range(3):\n",
    "    oh2lst.append(\"OHH\"[x])\n",
    "    oh2lst.extend(oh2optg[x].tolist())  \n",
    "oh2srt=((\"{} \"*4+\";\")*3)[:-1].format(*oh2lst)"
   ]
  },
  {
   "cell_type": "code",
   "execution_count": 30,
   "metadata": {},
   "outputs": [
    {
     "name": "stdout",
     "output_type": "stream",
     "text": [
      "converged SCF energy = -76.0633193328125\n"
     ]
    }
   ],
   "source": [
    "OH2=gto.M(atom=oh2srt,unit=\"bohr\",basis={\"H\":\"pc-2\",'O':bse.get_basis(\"pcX-2\",fmt=\"nwchem\",elements=[8])})\n",
    "mfoh2 = scf.RHF(OH2)\n",
    "mfoh2.scf()\n",
    "dmoh2=mfoh2.make_rdm1()"
   ]
  },
  {
   "cell_type": "code",
   "execution_count": 31,
   "metadata": {},
   "outputs": [],
   "source": [
    "ps_h2o=minimize(Vtot,np.array([1.5,0,0]),args=(OH2,dmoh2)).x"
   ]
  },
  {
   "cell_type": "code",
   "execution_count": 32,
   "metadata": {},
   "outputs": [
    {
     "name": "stdout",
     "output_type": "stream",
     "text": [
      "converged SCF energy = -76.0638566271091\n"
     ]
    },
    {
     "data": {
      "text/plain": [
       "-76.06385662710909"
      ]
     },
     "execution_count": 32,
     "metadata": {},
     "output_type": "execute_result"
    }
   ],
   "source": [
    "pH2O=FcM(fcs=[0,0,0,-1],atom=oh2srt+\"; H {} {} {}\".format(*ps_h2o),\\\n",
    "         unit=\"bohr\",basis={\"H\":\"pc-2\",'O':bse.get_basis(\"pcX-2\",fmt=\"nwchem\",elements=[8])},charge=1)\n",
    "pH2Omf=scf.RHF(pH2O)\n",
    "pH2Omf.scf(pH2Omf.init_guess_by_1e())"
   ]
  },
  {
   "cell_type": "code",
   "execution_count": 33,
   "metadata": {},
   "outputs": [
    {
     "name": "stdout",
     "output_type": "stream",
     "text": [
      "converged SCF energy = -73.8541068480512\n"
     ]
    },
    {
     "data": {
      "text/plain": [
       "-73.85410684805119"
      ]
     },
     "execution_count": 33,
     "metadata": {},
     "output_type": "execute_result"
    }
   ],
   "source": [
    "pH2Op=FcM(fcs=[-.1,0,0,-.9],atom=oh2srt+\"; H {} {} {}\".format(*ps_h2o),\\\n",
    "         unit=\"bohr\",basis={\"H\":\"pc-2\",'O':bse.get_basis(\"pcX-2\",fmt=\"nwchem\",elements=[8])},charge=1)\n",
    "pH2Omfp=scf.RHF(pH2Op)\n",
    "pH2Omfp.scf(pH2Omfp.init_guess_by_1e())"
   ]
  },
  {
   "cell_type": "code",
   "execution_count": 34,
   "metadata": {},
   "outputs": [
    {
     "name": "stdout",
     "output_type": "stream",
     "text": [
      "converged SCF energy = -78.3219845318812\n"
     ]
    },
    {
     "data": {
      "text/plain": [
       "-78.32198453188123"
      ]
     },
     "execution_count": 34,
     "metadata": {},
     "output_type": "execute_result"
    }
   ],
   "source": [
    "pH2Om=FcM(fcs=[.1,0,0,-1.1],atom=oh2srt+\"; H {} {} {}\".format(*ps_h2o),\\\n",
    "         unit=\"bohr\",basis={\"H\":\"pc-2\",'O':bse.get_basis(\"pcX-2\",fmt=\"nwchem\",elements=[8])},charge=1)\n",
    "pH2Omfm=scf.RHF(pH2Om)\n",
    "pH2Omfm.scf(pH2Omfm.init_guess_by_1e())"
   ]
  },
  {
   "cell_type": "code",
   "execution_count": 35,
   "metadata": {},
   "outputs": [],
   "source": [
    "afph2o=aaff(pH2Omf,[-1,0,0,1])+alc_deriv_grad_nuc(pH2O,[-1,0,0,1])\n",
    "afph2op=aaff(pH2Omfp,[-1,0,0,1])+alc_deriv_grad_nuc(pH2Op,[-1,0,0,1])\n",
    "afph2om=aaff(pH2Omfm,[-1,0,0,1])+alc_deriv_grad_nuc(pH2Om,[-1,0,0,1])"
   ]
  },
  {
   "cell_type": "code",
   "execution_count": 36,
   "metadata": {},
   "outputs": [],
   "source": [
    "afph2ot=afph2o+(afph2op-afph2om)/.2/2+(afph2op+afph2om-2*afph2o)/6/.01"
   ]
  },
  {
   "cell_type": "code",
   "execution_count": 37,
   "metadata": {},
   "outputs": [],
   "source": [
    "pH2Oh=pH2Omf.Hessian().hess()\n",
    "pH2Ohp=pH2Omfp.Hessian().hess()\n",
    "pH2Ohm=pH2Omfm.Hessian().hess()"
   ]
  },
  {
   "cell_type": "code",
   "execution_count": 38,
   "metadata": {},
   "outputs": [],
   "source": [
    "pH2Oht=pH2Oh+(pH2Ohp-pH2Ohm)/.2+(pH2Ohp+pH2Ohm-2*pH2Oh)/2/.01"
   ]
  },
  {
   "cell_type": "code",
   "execution_count": 39,
   "metadata": {},
   "outputs": [],
   "source": [
    "apH2O=AP(pH2Omf,sites=[0,3])\n",
    "apH2O.build_all()\n",
    "apH2Op=AP(pH2Omfp,sites=[0,3])\n",
    "apH2Op.build_all()\n",
    "apH2Om=AP(pH2Omfm,sites=[0,3])\n",
    "apH2Om.build_all()"
   ]
  },
  {
   "cell_type": "code",
   "execution_count": 40,
   "metadata": {},
   "outputs": [],
   "source": [
    "pH2Oet=apH2O.APDFT3([-1,1])+absec(\"O\",\"N\")+(apH2Op.third_deriv([-1,1])-apH2Om.third_deriv([-1,1]))/.2/24+\\\n",
    "       (apH2Op.third_deriv([-1,1])+apH2Om.third_deriv([-1,1])-2*apH2O.third_deriv([-1,1]))/.01/120                   "
   ]
  },
  {
   "cell_type": "code",
   "execution_count": 41,
   "metadata": {},
   "outputs": [
    {
     "name": "stdout",
     "output_type": "stream",
     "text": [
      "[-0.0607401  -0.06073964 -0.18325647 -0.01672616  0.01325029  0.01325343]\n",
      "[ 0.01569569  0.01569553  0.06125341 -0.00859096 -0.01680766 -0.01680616] [-0.00859055 -0.0168064  -0.01680769]\n",
      "[Bond(0, 1, weak=0), Bond(0, 2, weak=0), Bond(0, 3, weak=0), Angle(1, 0, 2, weak=0), Angle(1, 0, 3, weak=0), Angle(2, 0, 3, weak=0)]\n"
     ]
    },
    {
     "data": {
      "text/plain": [
       "(array([1.77561   , 1.77561   , 1.61807455, 1.85690619, 2.07368803,\n",
       "        2.07370923]),\n",
       " array([ 0.08872801,  0.08872053,  0.15143116,  0.06121351, -0.15000984,\n",
       "        -0.15003251]),\n",
       " array([1.86433801, 1.86433053, 1.76950571, 1.9181197 , 1.92367819,\n",
       "        1.92367672]),\n",
       " array([1.88003371, 1.88002606, 1.83075913, 1.90952874, 1.90687052,\n",
       "        1.90687056]),\n",
       " -56.16235471988964)"
      ]
     },
     "execution_count": 41,
     "metadata": {},
     "output_type": "execute_result"
    }
   ],
   "source": [
    "mpa_pb_with_energy(pH2O.atom_coords(),['N','H','H','H'],afph2ot,pH2Oht,pH2Oet)"
   ]
  },
  {
   "cell_type": "code",
   "execution_count": 82,
   "metadata": {},
   "outputs": [
    {
     "name": "stdout",
     "output_type": "stream",
     "text": [
      "[-0.0607401  -0.06073964 -0.18325647 -0.01672616  0.01325029  0.01325343]\n",
      "[ 0.01569569  0.01569553  0.06125341 -0.00859096 -0.01680766 -0.01680616] [-0.00859055 -0.0168064  -0.01680769]\n",
      "[Bond(0, 1, weak=0), Bond(0, 2, weak=0), Bond(0, 3, weak=0), Angle(1, 0, 2, weak=0), Angle(1, 0, 3, weak=0), Angle(2, 0, 3, weak=0)]\n"
     ]
    },
    {
     "data": {
      "text/plain": [
       "(array([1.77561   , 1.77561   , 1.61807455, 1.85690619, 2.07368803,\n",
       "        2.07370923]),\n",
       " array([ 0.08872792,  0.08873024,  0.15143087,  0.06117837, -0.15001641,\n",
       "        -0.15003032]),\n",
       " array([1.86433792, 1.86434024, 1.76950542, 1.91808456, 1.92367162,\n",
       "        1.92367892]),\n",
       " array([1.88003362, 1.88003577, 1.83075883, 1.90949359, 1.90686396,\n",
       "        1.90687275]),\n",
       " -56.1623547968167)"
      ]
     },
     "execution_count": 82,
     "metadata": {},
     "output_type": "execute_result"
    }
   ],
   "source": [
    "mpa_pb_with_energy(pH2O.atom_coords(),['N','H','H','H'],afph2ot,pH2Oht,pH2Oet)"
   ]
  },
  {
   "cell_type": "code",
   "execution_count": 43,
   "metadata": {},
   "outputs": [
    {
     "data": {
      "text/plain": [
       "(109.40709827776404, 109.25531430938256)"
      ]
     },
     "execution_count": 43,
     "metadata": {},
     "output_type": "execute_result"
    }
   ],
   "source": [
    "1.90951409*180/np.pi,1.90686496*180/np.pi"
   ]
  },
  {
   "cell_type": "markdown",
   "metadata": {},
   "source": [
    "#     NH$_3$"
   ]
  },
  {
   "cell_type": "code",
   "execution_count": 44,
   "metadata": {},
   "outputs": [
    {
     "name": "stdout",
     "output_type": "stream",
     "text": [
      "converged SCF energy = -56.2221836146943\n"
     ]
    },
    {
     "data": {
      "text/plain": [
       "-56.22218361469434"
      ]
     },
     "execution_count": 44,
     "metadata": {},
     "output_type": "execute_result"
    }
   ],
   "source": [
    "ch4optg,nh3optg,oh2optg,fhoptg=np.load(\"optgeoms.npy\")\n",
    "nh3lst=[]\n",
    "for x in range(4):\n",
    "    nh3lst.append(\"NHHH\"[x])\n",
    "    nh3lst.extend(nh3optg[x].tolist())\n",
    "nh3srt=((\"{} \"*4+\";\")*4)[:-1].format(*nh3lst)\n",
    "NH3=gto.M(atom=nh3srt,unit=\"bohr\",basis={\"H\":\"pc-2\",'N':bse.get_basis(\"pcX-2\",fmt=\"nwchem\",elements=[7])})\n",
    "mf3 = scf.RHF(NH3)\n",
    "mf3.scf()"
   ]
  },
  {
   "cell_type": "code",
   "execution_count": 45,
   "metadata": {},
   "outputs": [],
   "source": [
    "nh3dm=mf3.make_rdm1()\n",
    "ps_nh3=minimize(Vtot,np.array([0,-1.5,.3]),args=(NH3,nh3dm)).x"
   ]
  },
  {
   "cell_type": "code",
   "execution_count": 46,
   "metadata": {},
   "outputs": [
    {
     "data": {
      "text/plain": [
       "array([ 6.80657852e-07, -1.69932458e+00, -2.79748075e-01])"
      ]
     },
     "execution_count": 46,
     "metadata": {},
     "output_type": "execute_result"
    }
   ],
   "source": [
    "ps_nh3"
   ]
  },
  {
   "cell_type": "code",
   "execution_count": 47,
   "metadata": {},
   "outputs": [
    {
     "name": "stdout",
     "output_type": "stream",
     "text": [
      "converged SCF energy = -56.2226234868909\n",
      "converged SCF energy = -58.0803722521554\n",
      "converged SCF energy = -54.409898250772\n"
     ]
    },
    {
     "data": {
      "text/plain": [
       "-54.40989825077203"
      ]
     },
     "execution_count": 47,
     "metadata": {},
     "output_type": "execute_result"
    }
   ],
   "source": [
    "pNH3=FcM(fcs=[0,0,0,0,-1],atom=nh3srt+\"; H {} {} {} \".format(*ps_nh3),unit=\"bohr\",\\\n",
    "         basis={\"H\":\"pc-2\",'N':bse.get_basis(\"pcX-2\",fmt=\"nwchem\",elements=[7])},charge=1)\n",
    "pNH3p=FcM(fcs=[-.1,0,0,0,-.9],atom=nh3srt+\"; H {} {} {} \".format(*ps_nh3),unit=\"bohr\",\\\n",
    "         basis={\"H\":\"pc-2\",'N':bse.get_basis(\"pcX-2\",fmt=\"nwchem\",elements=[7])},charge=1)\n",
    "pNH3m=FcM(fcs=[.1,0,0,0,-1.1],atom=nh3srt+\"; H {} {} {} \".format(*ps_nh3),unit=\"bohr\",\\\n",
    "         basis={\"H\":\"pc-2\",'N':bse.get_basis(\"pcX-2\",fmt=\"nwchem\",elements=[7])},charge=1)\n",
    "pNH3mf=scf.RHF(pNH3)\n",
    "pNH3mf.scf(dm0=pNH3mf.init_guess_by_1e())\n",
    "pNH3mfm=scf.RHF(pNH3m)\n",
    "pNH3mfm.scf(dm0=pNH3mfm.init_guess_by_1e())\n",
    "pNH3mfp=scf.RHF(pNH3p)\n",
    "pNH3mfp.scf(dm0=pNH3mfp.init_guess_by_1e())"
   ]
  },
  {
   "cell_type": "code",
   "execution_count": 48,
   "metadata": {},
   "outputs": [],
   "source": [
    "NH3h=pNH3mf.Hessian().hess()\n",
    "NH3hp=pNH3mfp.Hessian().hess()\n",
    "NH3hm=pNH3mfm.Hessian().hess()"
   ]
  },
  {
   "cell_type": "code",
   "execution_count": 49,
   "metadata": {},
   "outputs": [],
   "source": [
    "NH3ht=NH3h+(NH3hp-NH3hm)/.2+(NH3hp+NH3hm-2*NH3h)/.01/2"
   ]
  },
  {
   "cell_type": "code",
   "execution_count": 52,
   "metadata": {},
   "outputs": [],
   "source": [
    "apNH3=AP(pNH3mf,sites=[0,4])\n",
    "apNH3.build_all()\n",
    "apNH3p=AP(pNH3mfp,sites=[0,4])\n",
    "apNH3p.build_all()\n",
    "apNH3m=AP(pNH3mfm,sites=[0,4])\n",
    "apNH3m.build_all()"
   ]
  },
  {
   "cell_type": "code",
   "execution_count": 53,
   "metadata": {},
   "outputs": [],
   "source": [
    "NH3et=apNH3.APDFT3([-1,1])+absec(\"N\",\"C\")+(apNH3p.third_deriv([-1,1])-apNH3m.third_deriv([-1,1]))/.2/24+\\\n",
    "    (apNH3p.third_deriv([-1,1])+apNH3m.third_deriv([-1,1])-2*apNH3.third_deriv([-1,1]))/120/.01"
   ]
  },
  {
   "cell_type": "code",
   "execution_count": 63,
   "metadata": {},
   "outputs": [],
   "source": [
    "afpnh3=aaff(pNH3mf,[-1,0,0,0,1])+alc_deriv_grad_nuc(pNH3,[-1,0,0,0,1])\n",
    "afpnh3p=aaff(pNH3mfp,[-1,0,0,0,1])+alc_deriv_grad_nuc(pNH3p,[-1,0,0,0,1])\n",
    "afpnh3m=aaff(pNH3mfm,[-1,0,0,0,1])+alc_deriv_grad_nuc(pNH3m,[-1,0,0,0,1])"
   ]
  },
  {
   "cell_type": "code",
   "execution_count": 64,
   "metadata": {},
   "outputs": [],
   "source": [
    "NH3gt=afpnh3+(afpnh3p-afpnh3m)/.2/2+(afpnh3p+afpnh3m-2*afpnh3)/.01/6"
   ]
  },
  {
   "cell_type": "code",
   "execution_count": 76,
   "metadata": {},
   "outputs": [
    {
     "name": "stdout",
     "output_type": "stream",
     "text": [
      "[-0.07550262 -0.07550305 -0.07550303 -0.17569327 -0.00169501 -0.00169501\n",
      "  0.00162279 -0.00169611  0.00162227  0.00162239]\n",
      "[ 0.03394816  0.03394844  0.03394813  0.0796015   0.003842    0.00383304\n",
      " -0.0036746   0.00383521 -0.00367245 -0.0036683 ] [0.60161229 0.60160324 0.6209231  0.60163641 0.62098485 0.62098885]\n",
      "[Bond(0, 1, weak=0), Bond(0, 2, weak=0), Bond(0, 3, weak=0), Bond(0, 4, weak=0), Angle(1, 0, 2, weak=0), Angle(1, 0, 3, weak=0), Angle(1, 0, 4, weak=0), Angle(2, 0, 3, weak=0), Angle(2, 0, 4, weak=0), Angle(3, 0, 4, weak=0)]\n"
     ]
    },
    {
     "data": {
      "text/plain": [
       "(array([1.88552   , 1.88552   , 1.88552   , 1.72219714, 1.88833539,\n",
       "        1.88833539, 1.93239388, 1.88846925, 1.93239252, 1.93239321]),\n",
       " array([ 0.12831285,  0.12831338,  0.12831156,  0.17569451,  0.01661676,\n",
       "         0.01662388, -0.01591484,  0.01664629, -0.0159162 , -0.01591095]),\n",
       " array([2.01383285, 2.01383338, 2.01383156, 1.89789165, 1.90495214,\n",
       "        1.90495926, 1.91647904, 1.90511554, 1.91647632, 1.91648226]),\n",
       " array([2.04778101, 2.04778182, 2.04777969, 1.97749315, 1.90879415,\n",
       "        1.9087923 , 1.91280443, 1.90895074, 1.91280387, 1.91281396]),\n",
       " -40.16255242436402)"
      ]
     },
     "execution_count": 76,
     "metadata": {},
     "output_type": "execute_result"
    }
   ],
   "source": [
    "mpa_pb_with_energy(pNH3.atom_coords(),['C','H','H','H','H'],NH3gt,NH3ht,NH3et)"
   ]
  },
  {
   "cell_type": "code",
   "execution_count": 79,
   "metadata": {},
   "outputs": [
    {
     "data": {
      "text/plain": [
       "(109.36584875426138, 109.5956208729271)"
      ]
     },
     "execution_count": 79,
     "metadata": {},
     "output_type": "execute_result"
    }
   ],
   "source": [
    "1.90879415*180/np.pi,1.91280443*180/np.pi"
   ]
  },
  {
   "cell_type": "code",
   "execution_count": 80,
   "metadata": {},
   "outputs": [
    {
     "name": "stdout",
     "output_type": "stream",
     "text": [
      "[-0.07550262 -0.07550305 -0.07550303 -0.17569327 -0.00169501 -0.00169501\n",
      "  0.00162279 -0.00169611  0.00162227  0.00162239]\n",
      "[ 0.03394816  0.03394844  0.03394813  0.0796015   0.003842    0.00383304\n",
      " -0.0036746   0.00383521 -0.00367245 -0.0036683 ] [-0.6416898  -0.64169949 -0.67817682 -0.64173083 -0.67824031 -0.67823664]\n",
      "[Bond(0, 1, weak=0), Bond(0, 2, weak=0), Bond(0, 3, weak=0), Bond(0, 4, weak=0), Angle(1, 0, 2, weak=0), Angle(1, 0, 3, weak=0), Angle(1, 0, 4, weak=0), Angle(2, 0, 3, weak=0), Angle(2, 0, 4, weak=0), Angle(3, 0, 4, weak=0)]\n"
     ]
    },
    {
     "data": {
      "text/plain": [
       "(array([1.88552   , 1.88552   , 1.88552   , 1.72219714, 1.88833539,\n",
       "        1.88833539, 1.93239388, 1.88846925, 1.93239252, 1.93239321]),\n",
       " array([ 0.12831285,  0.12831338,  0.12831156,  0.17569451,  0.01661676,\n",
       "         0.01662388, -0.01591484,  0.01664629, -0.0159162 , -0.01591095]),\n",
       " array([2.01383285, 2.01383338, 2.01383156, 1.89789165, 1.90495214,\n",
       "        1.90495926, 1.91647904, 1.90511554, 1.91647632, 1.91648226]),\n",
       " array([2.04778101, 2.04778182, 2.04777969, 1.97749315, 1.90879415,\n",
       "        1.9087923 , 1.91280443, 1.90895074, 1.91280387, 1.91281396]),\n",
       " -40.16255242436399)"
      ]
     },
     "execution_count": 80,
     "metadata": {},
     "output_type": "execute_result"
    }
   ],
   "source": [
    "afpnh3=aaff(pNH3mf,[-1,0,0,0,1])+alc_deriv_grad_nuc(pNH3,[-1,0,0,0,1])\n",
    "afpnh3p=aaff(pNH3mfp,[-1,0,0,0,1])+alc_deriv_grad_nuc(pNH3p,[-1,0,0,0,1])\n",
    "afpnh3m=aaff(pNH3mfm,[-1,0,0,0,1])+alc_deriv_grad_nuc(pNH3m,[-1,0,0,0,1])\n",
    "NH3gt=afpnh3+(afpnh3p-afpnh3m)/.2/2+(afpnh3p+afpnh3m-2*afpnh3)/.01/6\n",
    "mpa_pb_with_energy(pNH3.atom_coords(),['C','H','H','H','H'],NH3gt,NH3ht,NH3et)"
   ]
  },
  {
   "cell_type": "code",
   "execution_count": 81,
   "metadata": {},
   "outputs": [
    {
     "name": "stdout",
     "output_type": "stream",
     "text": [
      "[-0.07550262 -0.07550305 -0.07550303 -0.17569327 -0.00169501 -0.00169501\n",
      "  0.00162279 -0.00169611  0.00162227  0.00162239]\n",
      "[ 0.03394816  0.03394844  0.03394813  0.0796015   0.003842    0.00383304\n",
      " -0.0036746   0.00383521 -0.00367245 -0.0036683 ] [-0.71119377 -0.7112035  -0.75080004 -0.71123844 -0.75087053 -0.75086689]\n",
      "[Bond(0, 1, weak=0), Bond(0, 2, weak=0), Bond(0, 3, weak=0), Bond(0, 4, weak=0), Angle(1, 0, 2, weak=0), Angle(1, 0, 3, weak=0), Angle(1, 0, 4, weak=0), Angle(2, 0, 3, weak=0), Angle(2, 0, 4, weak=0), Angle(3, 0, 4, weak=0)]\n"
     ]
    },
    {
     "data": {
      "text/plain": [
       "(array([1.88552   , 1.88552   , 1.88552   , 1.72219714, 1.88833539,\n",
       "        1.88833539, 1.93239388, 1.88846925, 1.93239252, 1.93239321]),\n",
       " array([ 0.12831285,  0.12831338,  0.12831156,  0.17569451,  0.01661676,\n",
       "         0.01662388, -0.01591484,  0.01664629, -0.0159162 , -0.01591095]),\n",
       " array([2.01383285, 2.01383338, 2.01383156, 1.89789165, 1.90495214,\n",
       "        1.90495926, 1.91647904, 1.90511554, 1.91647632, 1.91648226]),\n",
       " array([2.04778101, 2.04778182, 2.04777969, 1.97749315, 1.90879415,\n",
       "        1.9087923 , 1.91280443, 1.90895074, 1.91280387, 1.91281396]),\n",
       " -40.16255242436401)"
      ]
     },
     "execution_count": 81,
     "metadata": {},
     "output_type": "execute_result"
    }
   ],
   "source": [
    "afpnh3=aaff(pNH3mf,[-1,0,0,0,1])+alc_deriv_grad_nuc(pNH3,[-1,0,0,0,1])\n",
    "afpnh3p=aaff(pNH3mfp,[-1,0,0,0,1])+alc_deriv_grad_nuc(pNH3p,[-1,0,0,0,1])\n",
    "afpnh3m=aaff(pNH3mfm,[-1,0,0,0,1])+alc_deriv_grad_nuc(pNH3m,[-1,0,0,0,1])\n",
    "NH3gt=afpnh3+(afpnh3p-afpnh3m)/.2/2+(afpnh3p+afpnh3m-2*afpnh3)/.01/6\n",
    "mpa_pb_with_energy(pNH3.atom_coords(),['C','H','H','H','H'],NH3gt,NH3ht,NH3et)"
   ]
  },
  {
   "cell_type": "code",
   "execution_count": 73,
   "metadata": {},
   "outputs": [
    {
     "name": "stdout",
     "output_type": "stream",
     "text": [
      "[-0.07550262 -0.07550305 -0.07550303 -0.17569327 -0.00169501 -0.00169501\n",
      "  0.00162279 -0.00169611  0.00162227  0.00162239]\n",
      "[ 0.03394816  0.03394844  0.03394813  0.0796015   0.003842    0.00383304\n",
      " -0.0036746   0.00383521 -0.00367245 -0.0036683 ] [0.60161229 0.60160324 0.6209231  0.60163641 0.62098485 0.62098885]\n",
      "[Bond(0, 1, weak=0), Bond(0, 2, weak=0), Bond(0, 3, weak=0), Bond(0, 4, weak=0), Angle(1, 0, 2, weak=0), Angle(1, 0, 3, weak=0), Angle(1, 0, 4, weak=0), Angle(2, 0, 3, weak=0), Angle(2, 0, 4, weak=0), Angle(3, 0, 4, weak=0)]\n"
     ]
    },
    {
     "data": {
      "text/plain": [
       "(array([1.88552   , 1.88552   , 1.88552   , 1.72219714, 1.88833539,\n",
       "        1.88833539, 1.93239388, 1.88846925, 1.93239252, 1.93239321]),\n",
       " array([0.12830657, 0.1283093 , 0.12831708, 0.17569631, 1.13749466,\n",
       "        1.1374734 , 1.15523182, 1.13755178, 1.15534986, 1.15535355]),\n",
       " array([2.01382657, 2.0138293 , 2.01383708, 1.89789345, 3.02583005,\n",
       "        3.02580878, 3.0876257 , 3.02602103, 3.08774238, 3.08774675]),\n",
       " array([2.04777473, 2.04777774, 2.04778521, 1.97749495, 3.02967205,\n",
       "        3.02964182, 3.0839511 , 3.02985623, 3.08406993, 3.08407846]),\n",
       " -40.1625524711306)"
      ]
     },
     "execution_count": 73,
     "metadata": {},
     "output_type": "execute_result"
    }
   ],
   "source": [
    "afpnh3=aaff(pNH3mf,[-1,0,0,0,1])+alc_deriv_grad_nuc(pNH3,[-1,0,0,0,1])\n",
    "afpnh3p=aaff(pNH3mfp,[-1,0,0,0,1])+alc_deriv_grad_nuc(pNH3p,[-1,0,0,0,1])\n",
    "afpnh3m=aaff(pNH3mfm,[-1,0,0,0,1])+alc_deriv_grad_nuc(pNH3m,[-1,0,0,0,1])\n",
    "NH3gt=afpnh3+(afpnh3p-afpnh3m)/.2/2+(afpnh3p+afpnh3m-2*afpnh3)/.01/6\n",
    "mpa_pb_with_energy(pNH3.atom_coords(),['C','H','H','H','H'],NH3gt,NH3ht,NH3et)"
   ]
  },
  {
   "cell_type": "code",
   "execution_count": null,
   "metadata": {},
   "outputs": [],
   "source": []
  }
 ],
 "metadata": {
  "kernelspec": {
   "display_name": "Python 3",
   "language": "python",
   "name": "python3"
  },
  "language_info": {
   "codemirror_mode": {
    "name": "ipython",
    "version": 3
   },
   "file_extension": ".py",
   "mimetype": "text/x-python",
   "name": "python",
   "nbconvert_exporter": "python",
   "pygments_lexer": "ipython3",
   "version": "3.7.3"
  }
 },
 "nbformat": 4,
 "nbformat_minor": 2
}
