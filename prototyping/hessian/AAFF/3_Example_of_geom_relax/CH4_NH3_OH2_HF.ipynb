{
 "cells": [
  {
   "cell_type": "code",
   "execution_count": 1,
   "metadata": {},
   "outputs": [],
   "source": [
    "from pyscf import gto,scf\n",
    "import numpy as np \n",
    "from numpy.linalg import norm as norm\n",
    "from scipy.spatial.transform import Rotation as R\n",
    "import matplotlib.pyplot as plt\n",
    "from pyscf.grad import rhf as grhf\n",
    "from pyscf.hessian import rhf as hrhf\n",
    "import basis_set_exchange as bse\n",
    "from pyscf.geomopt.berny_solver import optimize\n",
    "from berny import Berny, geomlib,Geometry,Math\n",
    "import berny.coords\n",
    "import sys\n",
    "sys.path.append(\"/home/administrator/Documenti/APDFT/prototyping/hessian/AAFF/Libs/\")\n",
    "from aaff import aaff,alc_deriv_grad_nuc,alc_differential_grad_nuc\n",
    "from FcMole import FcM,FcM_like\n",
    "from alch_deriv import alch_deriv\n",
    "from Morse import mpa, Morse_interpolator\n",
    "from AP_class import APDFT_perturbator as AP\n",
    "from FDcoeffs import *\n",
    "from ABSE import absec\n",
    "ang2bohr=1.8897261246\n",
    "bohr2ang=.5291772109"
   ]
  },
  {
   "cell_type": "code",
   "execution_count": 2,
   "metadata": {},
   "outputs": [],
   "source": [
    "%load_ext autoreload\n",
    "%autoreload 2\n",
    "from AP_class import APDFT_perturbator as AP\n"
   ]
  },
  {
   "cell_type": "code",
   "execution_count": 3,
   "metadata": {},
   "outputs": [
    {
     "data": {
      "text/plain": [
       "-0.0004869952092718677"
      ]
     },
     "execution_count": 3,
     "metadata": {},
     "output_type": "execute_result"
    }
   ],
   "source": [
    "absec(\"C\",\"N\")"
   ]
  },
  {
   "cell_type": "code",
   "execution_count": 4,
   "metadata": {},
   "outputs": [],
   "source": [
    "def anglecenter(coords):\n",
    "    return np.around(np.arccos(coords[1].dot(coords[2])/norm(coords[1])/norm(coords[2]))*180/np.pi,decimals=3)"
   ]
  },
  {
   "cell_type": "code",
   "execution_count": 5,
   "metadata": {},
   "outputs": [],
   "source": [
    "def nr_step(ic,g,h):\n",
    "    ncoords=ic.shape[0]*ic.shape[1]\n",
    "    p1cds=ic-np.linalg.solve((np.swapaxes(h,1,2)).reshape(ncoords,ncoords),g.reshape(-1)).reshape(ic.shape[0],ic.shape[1])\n",
    "    p1cds-=p1cds[0]\n",
    "    print (norm(p1cds[1]))\n",
    "    if p1cds.shape[0]>2:\n",
    "        print (anglecenter(p1cds),anglecenter(p1cds)*np.pi/180)\n",
    "    return(p1cds)"
   ]
  },
  {
   "cell_type": "code",
   "execution_count": 6,
   "metadata": {},
   "outputs": [],
   "source": [
    "def build_h_ic(s,g_ic,h0,B_inv):\n",
    "    geom0=s.geom.copy()\n",
    "    B=s.coords.B_matrix(geom0)\n",
    "    bms=[]\n",
    "    for i in range(geom0.coords.flatten().shape[0]):\n",
    "        a=geom0.coords.flatten()\n",
    "        geom1=geom0.copy()\n",
    "        a[i]+=.001*bohr2ang\n",
    "        a=a.reshape(geom0.coords.shape)\n",
    "        geom1.coords=a\n",
    "        bms.append((s.coords.B_matrix(geom1)-B)*1000)\n",
    "    bms_arr=np.asarray(bms)\n",
    "    BpG2=np.einsum('ijk,j->ik',bms,g_ic)\n",
    "    h_ic=B_inv.T@(h0-BpG2)@B_inv\n",
    "    return h_ic\n",
    "\n",
    "tbbde={\"CH\":105/627.5,\"HC\":105/627.5,\"NH\":110/627.5,\"HN\":110/627.5,\\\n",
    "       \"OH\":119/627.5,\"HO\":119/627.5,\"FH\":136/627.5,\"HF\":136/627.5}\n",
    "\n",
    "ebde=100/627.5 # empirical bond dissociation energy\n",
    "\n",
    "def mpa_pb(coords,atoml,g,h,gic=False,ghost=[]):\n",
    "    g=np.asarray(g)\n",
    "    if not len(h.shape)==2:\n",
    "        h=h.swapaxes(1,2)\n",
    "        h=h.reshape(g.shape[0]*3,g.shape[0]*3)\n",
    "    geom0=Geometry(atoml,coords*bohr2ang)\n",
    "    bernyobj=Berny(geom0)\n",
    "    s=bernyobj._state\n",
    "    B = s.coords.B_matrix(geom0)\n",
    "    q0=s.coords.eval_geom(geom0)\n",
    "    B_inv = B.T.dot(Math.pinv(np.dot(B, B.T)))\n",
    "    if not gic:\n",
    "        g_ic=np.dot(B_inv.T, (g).reshape(-1))\n",
    "    else:\n",
    "        g_ic=g\n",
    "    h_ic=build_h_ic(s,g_ic,h,B_inv)\n",
    "\n",
    "    bnr=0\n",
    "    ddq_mb=np.zeros_like(q0)\n",
    "    for i in range(len(s.coords._coords)):\n",
    "        if s.coords._coords[i].__class__ is berny.coords.Bond:\n",
    "            bnr+=1\n",
    "            if s.coords._coords[i].i not in ghost and s.coords._coords[i].j not in ghost:\n",
    "                ddq_mb[i]+=mpa(g_ic[i],h_ic[i,i],q0[i],ebde)[0]+g_ic[i]/h_ic[i,i]-q0[i]\n",
    "    dq_NR=-np.linalg.solve(h_ic,g_ic)\n",
    "    ddq_mb[bnr:]=np.linalg.solve(h_ic[bnr:,bnr:],-h_ic[bnr:,:]@(ddq_mb))\n",
    "    return q0,dq_NR,q0+dq_NR,q0+dq_NR+ddq_mb"
   ]
  },
  {
   "cell_type": "code",
   "execution_count": 185,
   "metadata": {},
   "outputs": [],
   "source": [
    "# include energy prediction \n",
    "def mpa_pb_with_energy(coords,atoml,g,h,e,gic=False,ghost=[]):\n",
    "    g=np.asarray(g)\n",
    "    if not len(h.shape)==2:\n",
    "        h=h.swapaxes(1,2)\n",
    "        h=h.reshape(g.shape[0]*3,g.shape[0]*3)\n",
    "    geom0=Geometry(atoml,coords*bohr2ang)\n",
    "    bernyobj=Berny(geom0)\n",
    "    s=bernyobj._state\n",
    "    B = s.coords.B_matrix(geom0)\n",
    "    q0=s.coords.eval_geom(geom0)\n",
    "    B_inv = B.T.dot(Math.pinv(np.dot(B, B.T)))\n",
    "    if not gic:\n",
    "        g_ic=np.dot(B_inv.T, (g).reshape(-1))\n",
    "    else:\n",
    "        g_ic=g\n",
    "    h_ic=build_h_ic(s,g_ic,h,B_inv)\n",
    "    bnr=0\n",
    "    dde_mb=0\n",
    "    ddq_mb=np.zeros_like(q0)\n",
    "    for i in range(len(s.coords._coords)):\n",
    "        if s.coords._coords[i].__class__ is berny.coords.Bond:\n",
    "            bnr+=1\n",
    "            if s.coords._coords[i].i not in ghost and s.coords._coords[i].j not in ghost:\n",
    "                MorseInt=Morse_interpolator(g_ic[i],h_ic[i,i],q0[i],ebde,e)\n",
    "                ddq_mb[i]+=MorseInt.re+g_ic[i]/h_ic[i,i]-q0[i]\n",
    "                dde_mb+=MorseInt.e_min-e+1/2*h_ic[i,i]*(MorseInt.re-q0[i])**2\n",
    "    dq_NR=-np.linalg.solve(h_ic,g_ic)\n",
    "    ddq_mb[bnr:]=np.linalg.solve(h_ic[bnr:,bnr:],-h_ic[bnr:,:]@(ddq_mb))\n",
    "    dq_tot=dq_NR+ddq_mb\n",
    "    en_MB=(e-1/2*np.einsum(\"i,ij,j\",dq_tot,h_ic,dq_tot)+dde_mb)\n",
    "    print (s.coords._coords)\n",
    "    return q0,q0+dq_tot,en_MB\n",
    "    return q0,dq_NR,q0+dq_NR,q0+dq_tot,en_MB"
   ]
  },
  {
   "cell_type": "code",
   "execution_count": 8,
   "metadata": {},
   "outputs": [
    {
     "data": {
      "text/plain": [
       "array([1, 2, 3, 1, 2, 3])"
      ]
     },
     "execution_count": 8,
     "metadata": {},
     "output_type": "execute_result"
    }
   ],
   "source": [
    "a=np.array([1,2,3])\n",
    "b=np.array([1,2,3])\n",
    "np.hstack([a,b])"
   ]
  },
  {
   "cell_type": "markdown",
   "metadata": {},
   "source": [
    "La procedura è:\n",
    "<ol>\n",
    "<li> Calculate predicted Hessian and gradient </li>\n",
    "<li> Bust the Ghost atom problem, the series converges slowly, problem to move ghost \"too flexible\" </li>\n",
    "<li> Force to zero the gradient on the ghost </li>\n",
    "<li> To maintain zero sum forces (are all internal) sum force on the ghot to the atom which is bounded </li>   \n",
    "<li> reduce by one the number of atoms excluding the ghost </li>\n",
    "<li> transform gradient and hessian to the IC uing pyberny </li>\n",
    "<li> Take Newton ralphson step and the morse potential interpolation in the internal coordinaates  </li>\n",
    "<li> Use a correction to the monodimentional contribution   </li>\n",
    "<li> Update the other coordinantes to the new bond lengths  </li>\n",
    "<ol/>"
   ]
  },
  {
   "cell_type": "code",
   "execution_count": 167,
   "metadata": {},
   "outputs": [],
   "source": [
    "#LOad optimized geometries\n",
    "ch4coords,nh3optg,oh2optg,hfoptg=np.load(\"optgeoms.npy\")\n",
    "ch4en,nh3en,h2oen,hfen=np.load(\"minim_en.npy\")\n",
    "af_3ch4,ah_2ch4,af_3,ah_2,AF_3,AH_2,ep_h20_hf,ep_nh3_h20,ep_ch4_nh3=np.load(\"ch4_nh3_data.npy\")"
   ]
  },
  {
   "cell_type": "code",
   "execution_count": 166,
   "metadata": {},
   "outputs": [],
   "source": [
    "#np.save(\"minim_en\",[ch4en,nh3en,h2oen,hfen])"
   ]
  },
  {
   "cell_type": "code",
   "execution_count": 190,
   "metadata": {},
   "outputs": [
    {
     "name": "stdout",
     "output_type": "stream",
     "text": [
      "[Bond(0, 1, weak=0), Bond(0, 2, weak=0), Bond(0, 3, weak=0), Angle(1, 0, 2, weak=0), Angle(1, 0, 3, weak=0), Angle(2, 0, 3, weak=0)]\n"
     ]
    },
    {
     "data": {
      "text/plain": [
       "(-40.2151804034983,\n",
       " (array([2.04385424, 2.04385424, 2.04385424, 1.91063324, 1.91063324,\n",
       "         1.91063324]),\n",
       "  array([1.8785112 , 1.87851289, 1.87851545, 1.91817704, 1.91817788,\n",
       "         1.91817798]),\n",
       "  -56.22820874197485),\n",
       " -56.2221836146943)"
      ]
     },
     "execution_count": 190,
     "metadata": {},
     "output_type": "execute_result"
    }
   ],
   "source": [
    "ch4en,mpa_pb_with_energy(ch4coords[:4],[\"N\",\"H\",\"H\",\"H\"],af_3ch4[:4],ah_2ch4[:4,:4,:,:],ep_ch4_nh3[-1]),nh3en"
   ]
  },
  {
   "cell_type": "code",
   "execution_count": 189,
   "metadata": {},
   "outputs": [
    {
     "data": {
      "text/plain": [
       "(109.4712208494061, 109.90349687935168)"
      ]
     },
     "execution_count": 189,
     "metadata": {},
     "output_type": "execute_result"
    }
   ],
   "source": [
    "1.91063324*180/np.pi,1.91817788*180/np.pi #CH4 angle and prediction of NH3"
   ]
  },
  {
   "cell_type": "code",
   "execution_count": 176,
   "metadata": {},
   "outputs": [
    {
     "name": "stdout",
     "output_type": "stream",
     "text": [
      "[Bond(0, 1, weak=0), Bond(0, 2, weak=0), Angle(1, 0, 2, weak=0)]\n"
     ]
    },
    {
     "data": {
      "text/plain": [
       "((array([1.88552   , 1.88552   , 1.88833539]),\n",
       "  array([1.7774034 , 1.7774046 , 1.86818723]),\n",
       "  -76.07005350225101),\n",
       " -76.0633193328123)"
      ]
     },
     "execution_count": 176,
     "metadata": {},
     "output_type": "execute_result"
    }
   ],
   "source": [
    "mpa_pb_with_energy(nh3optg[:3],[\"O\",\"H\",\"H\"],af_3[:3],ah_2[:3,:3,:,:],ep_nh3_h20[-1]),h2oen"
   ]
  },
  {
   "cell_type": "code",
   "execution_count": 187,
   "metadata": {},
   "outputs": [
    {
     "data": {
      "text/plain": [
       "(108.19364815219032, 107.03924361923602)"
      ]
     },
     "execution_count": 187,
     "metadata": {},
     "output_type": "execute_result"
    }
   ],
   "source": [
    "1.88833539*180/np.pi,1.86818723*180/np.pi #NH3 angle and prediction of H2O"
   ]
  },
  {
   "cell_type": "code",
   "execution_count": 180,
   "metadata": {},
   "outputs": [
    {
     "name": "stdout",
     "output_type": "stream",
     "text": [
      "[Bond(0, 1, weak=0), Bond(0, 2, weak=0), Angle(1, 0, 2, weak=0)]\n"
     ]
    },
    {
     "data": {
      "text/plain": [
       "((array([1.77561   , 1.77561   , 1.85690619]),\n",
       "  array([1.67662373, 1.76892016, 1.87113658]),\n",
       "  -100.07300463312764),\n",
       " -100.06554016873194)"
      ]
     },
     "execution_count": 180,
     "metadata": {},
     "output_type": "execute_result"
    }
   ],
   "source": [
    "mpa_pb_with_energy(oh2optg,[\"F\",\"H\",\"H\"],AF_3,AH_2,ep_h20_hf[-1],ghost=[1,2]),hfen"
   ]
  },
  {
   "cell_type": "code",
   "execution_count": 188,
   "metadata": {},
   "outputs": [
    {
     "data": {
      "text/plain": [
       "106.39288763871774"
      ]
     },
     "execution_count": 188,
     "metadata": {},
     "output_type": "execute_result"
    }
   ],
   "source": [
    "1.85690619*180/np.pi #H2O angle"
   ]
  },
  {
   "cell_type": "code",
   "execution_count": 181,
   "metadata": {},
   "outputs": [
    {
     "name": "stdout",
     "output_type": "stream",
     "text": [
      "[Bond(0, 1, weak=0)]\n"
     ]
    },
    {
     "data": {
      "text/plain": [
       "((array([1.77561]), array([1.69305788]), -100.07271407813809),\n",
       " -100.06554016873194)"
      ]
     },
     "execution_count": 181,
     "metadata": {},
     "output_type": "execute_result"
    }
   ],
   "source": [
    "mpa_pb_with_energy(oh2optg[:2],[\"F\",\"H\"],AF_3[:2],AH_2[:2,:2,:,:],ep_h20_hf[-1]),hfen"
   ]
  },
  {
   "cell_type": "code",
   "execution_count": 158,
   "metadata": {},
   "outputs": [
    {
     "data": {
      "text/plain": [
       "array([[0.        , 0.        , 0.        ],\n",
       "       [0.        , 0.        , 1.69574139]])"
      ]
     },
     "execution_count": 158,
     "metadata": {},
     "output_type": "execute_result"
    }
   ],
   "source": [
    "hfoptg"
   ]
  },
  {
   "cell_type": "code",
   "execution_count": null,
   "metadata": {},
   "outputs": [],
   "source": []
  },
  {
   "cell_type": "markdown",
   "metadata": {},
   "source": [
    "## CH$_4$ -> NH$_3$"
   ]
  },
  {
   "cell_type": "code",
   "execution_count": 10,
   "metadata": {},
   "outputs": [],
   "source": [
    "l=3.3376\n",
    "x=-(1/24)**.5*l\n",
    "z=(2/3)**.5*l+x\n",
    "ch4str=\"C 0 0 0; H 0 0  {}; H  0  {} {}; H {} {} {}; H {} {} {}\".format(z,l/3**.5,x,l/2,-l*3**.5/6,x,-l/2,-l*3**.5/6,x)"
   ]
  },
  {
   "cell_type": "code",
   "execution_count": 11,
   "metadata": {},
   "outputs": [
    {
     "name": "stdout",
     "output_type": "stream",
     "text": [
      "converged SCF energy = -40.2151804034983\n",
      "--------------- RHF gradients ---------------\n",
      "         x                y                z\n",
      "0 C     0.0000000000     0.0000000000     0.0000000000\n",
      "1 H     0.0000000000     0.0000000000    -0.0000007926\n",
      "2 H     0.0000000000    -0.0000007473     0.0000002642\n",
      "3 H    -0.0000006472     0.0000003736     0.0000002642\n",
      "4 H     0.0000006472     0.0000003736     0.0000002642\n",
      "----------------------------------------------\n"
     ]
    }
   ],
   "source": [
    "CH4=gto.M(atom=ch4str,unit=\"bohr\",basis={\"H\":\"pc-2\",'C':bse.get_basis(\"pcX-2\",fmt=\"nwchem\",elements=[6])})\n",
    "mf = scf.RHF(CH4)\n",
    "mf.scf()\n",
    "g0_ch4=mf.Gradients().grad()\n",
    "h0_ch4=mf.Hessian().hess()\n",
    "ch4coords=CH4.atom_coords()"
   ]
  },
  {
   "cell_type": "code",
   "execution_count": 159,
   "metadata": {},
   "outputs": [],
   "source": [
    "ch4en=-40.2151804034983"
   ]
  },
  {
   "cell_type": "code",
   "execution_count": 12,
   "metadata": {},
   "outputs": [],
   "source": [
    "af_1ch4=aaff(mf,[1,0,0,0,-1])+alc_deriv_grad_nuc(CH4,[1,0,0,0,-1])"
   ]
  },
  {
   "cell_type": "code",
   "execution_count": 13,
   "metadata": {},
   "outputs": [
    {
     "name": "stdout",
     "output_type": "stream",
     "text": [
      "converged SCF energy = -41.6026363391302\n"
     ]
    }
   ],
   "source": [
    "dl=.1\n",
    "CH4_p=FcM(fcs=[dl,0,0,0,-dl],atom=ch4str,unit=\"bohr\",\\\n",
    "          basis={\"H\":\"pc-2\",'C':bse.get_basis(\"pcX-2\",fmt=\"nwchem\",elements=[6])})\n",
    "mf_p = scf.RHF(CH4_p)\n",
    "mf_p.scf(dm0=mf_p.init_guess_by_1e())\n",
    "h0_pch4=mf_p.Hessian().hess()\n",
    "af_pch4=aaff(mf_p,[1,0,0,0,-1])+alc_deriv_grad_nuc(CH4_p,[1,0,0,0,-1])"
   ]
  },
  {
   "cell_type": "code",
   "execution_count": 14,
   "metadata": {},
   "outputs": [
    {
     "name": "stdout",
     "output_type": "stream",
     "text": [
      "converged SCF energy = -38.8771643174896\n"
     ]
    }
   ],
   "source": [
    "dl=.1\n",
    "CH4_m=FcM(fcs=[-dl,0,0,0,dl],atom=ch4str,unit=\"bohr\",\\\n",
    "          basis={\"H\":\"pc-2\",'C':bse.get_basis(\"pcX-2\",fmt=\"nwchem\",elements=[6])})\n",
    "mf_m = scf.RHF(CH4_m)\n",
    "mf_m.scf(dm0=mf_m.init_guess_by_1e())\n",
    "h0_mch4=mf_m.Hessian().hess()\n",
    "af_mch4=aaff(mf_m,[1,0,0,0,-1])+alc_deriv_grad_nuc(CH4_m,[1,0,0,0,-1])"
   ]
  },
  {
   "cell_type": "code",
   "execution_count": 15,
   "metadata": {},
   "outputs": [],
   "source": [
    "af_2ch4=af_1ch4+(af_pch4-af_mch4)/2/dl/2\n",
    "af_3ch4=af_1ch4+(af_pch4-af_mch4)/2/dl/2+(af_pch4-2*af_1ch4+af_mch4)/6/dl**2\n",
    "ah_1ch4=h0_ch4+(h0_pch4-h0_mch4)/2/dl\n",
    "ah_2ch4=h0_ch4+(h0_pch4-h0_mch4)/2/dl+(h0_pch4-2*h0_ch4+h0_mch4)/2/dl**2\n",
    "\n",
    "# Clear ghost atom gradient\n",
    "#af_1ch4[0]+=af_1ch4[4]\n",
    "#af_1ch4[4]-=af_1ch4[4]\n",
    "#af_2ch4[0]+=af_2ch4[4]\n",
    "#af_2ch4[4]-=af_2ch4[4]\n",
    "af_3ch4[0]+=af_3ch4[4]\n",
    "af_3ch4[4]-=af_3ch4[4]"
   ]
  },
  {
   "cell_type": "code",
   "execution_count": 17,
   "metadata": {},
   "outputs": [
    {
     "data": {
      "text/plain": [
       "109.90344875089689"
      ]
     },
     "execution_count": 17,
     "metadata": {},
     "output_type": "execute_result"
    }
   ],
   "source": [
    "1.91817704*180/np.pi"
   ]
  },
  {
   "cell_type": "code",
   "execution_count": 18,
   "metadata": {},
   "outputs": [
    {
     "data": {
      "text/plain": [
       "(1.8855199999999999, 108.194)"
      ]
     },
     "execution_count": 18,
     "metadata": {},
     "output_type": "execute_result"
    }
   ],
   "source": [
    "norm(nh3optg[1]),anglecenter(nh3optg)"
   ]
  },
  {
   "cell_type": "code",
   "execution_count": 19,
   "metadata": {},
   "outputs": [],
   "source": [
    "#ap=AP(mf,sites=[0,4])\n",
    "#ap_p=AP(mf_p,sites=[0,4])\n",
    "#ap_m=AP(mf_m,sites=[0,4])\n",
    "#ap.build_all()\n",
    "#ap_p.build_all()\n",
    "#ap_m.build_all()\n",
    "#ep_ch4_nh3=[]\n",
    "#ep_ch4_nh3.append(ap.APDFT1(np.asarray([1,-1]))+absec(\"C\",\"N\"))\n",
    "#ep_ch4_nh3.append(ap.APDFT2(np.asarray([1,-1]))+absec(\"C\",\"N\"))\n",
    "#ep_ch4_nh3.append(ap.APDFT3(np.asarray([1,-1]))+absec(\"C\",\"N\"))\n",
    "#ep_ch4_nh3.append(ep_ch4_nh3[2]+(ap_p.third_deriv([1,-1])-ap_m.third_deriv([1,-1]))/2/dl/24 )\n",
    "#ep_ch4_nh3.append(ep_ch4_nh3[3]+(ap_p.third_deriv([1,-1])+ap_m.third_deriv([1,-1])-\\\n",
    "#                                 2*ap.third_deriv([1,-1]))/dl**2/120 )\n",
    "#"
   ]
  },
  {
   "cell_type": "code",
   "execution_count": 22,
   "metadata": {},
   "outputs": [
    {
     "data": {
      "text/plain": [
       "[-53.84414407442253,\n",
       " -56.31635197834341,\n",
       " -56.20440216525058,\n",
       " -56.18281786296406,\n",
       " -56.21032241738459]"
      ]
     },
     "execution_count": 22,
     "metadata": {},
     "output_type": "execute_result"
    }
   ],
   "source": [
    "ep_ch4_nh3"
   ]
  },
  {
   "cell_type": "code",
   "execution_count": 50,
   "metadata": {},
   "outputs": [
    {
     "name": "stdout",
     "output_type": "stream",
     "text": [
      "-0.006135258381257643\n"
     ]
    },
    {
     "data": {
      "text/plain": [
       "(array([2.04385424, 2.04385424, 2.04385424, 1.91063324, 1.91063324,\n",
       "        1.91063324]),\n",
       " array([-0.23292565, -0.2329242 , -0.23292189,  0.06801187,  0.06801505,\n",
       "         0.06801704]),\n",
       " array([1.81092859, 1.81093004, 1.81093235, 1.97864511, 1.97864829,\n",
       "        1.97865028]),\n",
       " array([1.8785112 , 1.87851289, 1.87851545, 1.91817704, 1.91817788,\n",
       "        1.91817798]),\n",
       " -56.22820874197485,\n",
       " -56.2220734835936)"
      ]
     },
     "execution_count": 50,
     "metadata": {},
     "output_type": "execute_result"
    }
   ],
   "source": [
    "mpa_pb_with_energy(ch4coords[:4],[\"N\",\"H\",\"H\",\"H\"],af_3ch4[:4],ah_2ch4[:4,:4,:,:],ep_ch4_nh3[4],solve_ic=True)"
   ]
  },
  {
   "cell_type": "markdown",
   "metadata": {},
   "source": [
    "# NH$_3$-> H$_2$O"
   ]
  },
  {
   "cell_type": "code",
   "execution_count": 24,
   "metadata": {},
   "outputs": [
    {
     "name": "stdout",
     "output_type": "stream",
     "text": [
      "0.0\n",
      "1.8855199999999999\n",
      "1.88552\n",
      "1.8855199999999999\n"
     ]
    }
   ],
   "source": [
    "nh3lst=[]\n",
    "for x in range(4):\n",
    "    nh3lst.append(\"NHHH\"[x])\n",
    "    nh3lst.extend(nh3optg[x].tolist())\n",
    "    print(norm(nh3optg[x]))"
   ]
  },
  {
   "cell_type": "code",
   "execution_count": 52,
   "metadata": {},
   "outputs": [
    {
     "name": "stdout",
     "output_type": "stream",
     "text": [
      "converged SCF energy = -56.2221836146943\n",
      "--------------- RHF gradients ---------------\n",
      "         x                y                z\n",
      "0 N    -0.0000000000    -0.0000438944    -0.0000198535\n",
      "1 H     0.0000000000     0.0000230403    -0.0000251260\n",
      "2 H    -0.0000153601     0.0000104270     0.0000224897\n",
      "3 H     0.0000153601     0.0000104270     0.0000224897\n",
      "----------------------------------------------\n"
     ]
    }
   ],
   "source": [
    "nh3srt=((\"{} \"*4+\";\")*4)[:-1].format(*nh3lst)\n",
    "NH3=gto.M(atom=nh3srt,unit=\"bohr\",basis={\"H\":\"pc-2\",'N':bse.get_basis(\"pcX-2\",fmt=\"nwchem\",elements=[7])})\n",
    "mf = scf.RHF(NH3)\n",
    "mf.scf()\n",
    "\n",
    "g0=mf.Gradients().grad()\n",
    "h0=mf.Hessian().hess()\n",
    "NH3coords=NH3.atom_coords()"
   ]
  },
  {
   "cell_type": "code",
   "execution_count": 160,
   "metadata": {},
   "outputs": [],
   "source": [
    "nh3en=-56.2221836146943"
   ]
  },
  {
   "cell_type": "code",
   "execution_count": 53,
   "metadata": {},
   "outputs": [],
   "source": [
    "af_1=aaff(mf,[1,0,0,-1])+alc_deriv_grad_nuc(NH3,[1,0,0,-1])"
   ]
  },
  {
   "cell_type": "code",
   "execution_count": 62,
   "metadata": {},
   "outputs": [
    {
     "name": "stdout",
     "output_type": "stream",
     "text": [
      "converged SCF energy = -57.9799514221169\n"
     ]
    }
   ],
   "source": [
    "dl=.1\n",
    "NH3_p=FcM(fcs=[dl,0,0,-dl],atom=nh3srt,unit=\"bohr\",basis={\"H\":\"pc-2\",'N':bse.get_basis(\"pcX-2\",fmt=\"nwchem\",elements=[7])})\n",
    "mf_p = scf.RHF(NH3_p)\n",
    "mf_p.scf(dm0=mf_p.init_guess_by_1e())\n",
    "h0_p=mf_p.Hessian().hess()\n",
    "af_p=aaff(mf_p,[1,0,0,-1])+alc_deriv_grad_nuc(NH3_p,[1,0,0,-1])"
   ]
  },
  {
   "cell_type": "code",
   "execution_count": 63,
   "metadata": {},
   "outputs": [
    {
     "name": "stdout",
     "output_type": "stream",
     "text": [
      "converged SCF energy = -54.5169417377182\n"
     ]
    }
   ],
   "source": [
    "NH3_m=FcM(fcs=[-dl,0,0,dl],atom=nh3srt,unit=\"bohr\",basis={\"H\":\"pc-2\",'N':bse.get_basis(\"pcX-2\",fmt=\"nwchem\",elements=[7])})\n",
    "mf_m = scf.RHF(NH3_m)\n",
    "mf_m.scf(dm0=mf_m.init_guess_by_1e())\n",
    "h0_m=mf_m.Hessian().hess()\n",
    "af_m=aaff(mf_m,[1,0,0,-1])+alc_deriv_grad_nuc(NH3_m,[1,0,0,-1])"
   ]
  },
  {
   "cell_type": "code",
   "execution_count": 64,
   "metadata": {},
   "outputs": [],
   "source": [
    "af_2=af_1+(af_p-af_m)/2/dl/2\n",
    "af_3=af_1+(af_p-af_m)/2/dl/2+(af_p-2*af_1+af_m)/6/dl**2\n",
    "ah_1=h0+(h0_p-h0_m)/2/dl\n",
    "ah_2=h0+(h0_p-h0_m)/2/dl+(h0_p-2*h0+h0_m)/2/dl**2\n",
    "\n",
    "# Clear ghost atom gradient\n",
    "#af_1[0]+=af_1[3]\n",
    "#af_1[3]-=af_1[3]\n",
    "#af_2[0]+=af_2[3]\n",
    "#af_2[3]-=af_2[3]\n",
    "af_3[0]+=af_3[3]\n",
    "af_3[3]-=af_3[3]"
   ]
  },
  {
   "cell_type": "code",
   "execution_count": 65,
   "metadata": {},
   "outputs": [
    {
     "data": {
      "text/plain": [
       "(array([1.88552   , 1.88552   , 1.88833539]),\n",
       " array([-0.14172546, -0.141723  , -0.00573316]),\n",
       " array([1.74379454, 1.743797  , 1.88260223]),\n",
       " array([1.7774034 , 1.7774046 , 1.86818723]))"
      ]
     },
     "execution_count": 65,
     "metadata": {},
     "output_type": "execute_result"
    }
   ],
   "source": [
    "mpa_pb(NH3coords[:3],[\"O\",\"H\",\"H\"],af_3[:3],ah_2[:3,:3,::],solve_ic=True)"
   ]
  },
  {
   "cell_type": "code",
   "execution_count": 66,
   "metadata": {},
   "outputs": [
    {
     "data": {
      "text/plain": [
       "107.03924361923602"
      ]
     },
     "execution_count": 66,
     "metadata": {},
     "output_type": "execute_result"
    }
   ],
   "source": [
    "1.86818723*180/np.pi"
   ]
  },
  {
   "cell_type": "code",
   "execution_count": 67,
   "metadata": {},
   "outputs": [
    {
     "data": {
      "text/plain": [
       "(1.77561, 106.393)"
      ]
     },
     "execution_count": 67,
     "metadata": {},
     "output_type": "execute_result"
    }
   ],
   "source": [
    "norm(oh2optg[1]),anglecenter(oh2optg)"
   ]
  },
  {
   "cell_type": "code",
   "execution_count": 69,
   "metadata": {},
   "outputs": [],
   "source": [
    "ap=AP(mf,sites=[0,3])\n",
    "ap_p=AP(mf_p,sites=[0,3])\n",
    "ap_m=AP(mf_m,sites=[0,3])\n",
    "ap.build_all()\n",
    "ap_p.build_all()\n",
    "ap_m.build_all()"
   ]
  },
  {
   "cell_type": "code",
   "execution_count": 72,
   "metadata": {},
   "outputs": [],
   "source": [
    "ep_nh3_h20=[]\n",
    "ep_nh3_h20.append(ap.APDFT1(np.asarray([1,-1]))+absec(\"N\",\"O\"))\n",
    "ep_nh3_h20.append(ap.APDFT2(np.asarray([1,-1]))+absec(\"N\",\"O\"))\n",
    "ep_nh3_h20.append(ap.APDFT3(np.asarray([1,-1]))+absec(\"N\",\"O\"))\n",
    "ep_nh3_h20.append(ep_nh3_h20[2]+(ap_p.third_deriv([1,-1])-ap_m.third_deriv([1,-1]))/2/dl/24 )\n",
    "ep_nh3_h20.append(ep_nh3_h20[3]+(ap_p.third_deriv([1,-1])+ap_m.third_deriv([1,-1])-\\\n",
    "                                 2*ap.third_deriv([1,-1]))/dl**2/120 )"
   ]
  },
  {
   "cell_type": "code",
   "execution_count": 73,
   "metadata": {},
   "outputs": [
    {
     "data": {
      "text/plain": [
       "[-73.53896972665096,\n",
       " -76.1653617587322,\n",
       " -76.04808577434461,\n",
       " -76.03837042976484,\n",
       " -76.06316452518669]"
      ]
     },
     "execution_count": 73,
     "metadata": {},
     "output_type": "execute_result"
    }
   ],
   "source": [
    "ep_nh3_h20"
   ]
  },
  {
   "cell_type": "code",
   "execution_count": 74,
   "metadata": {},
   "outputs": [
    {
     "name": "stdout",
     "output_type": "stream",
     "text": [
      "-0.0020020640225670763\n"
     ]
    },
    {
     "data": {
      "text/plain": [
       "(array([1.88552   , 1.88552   , 1.88833539]),\n",
       " array([-0.14172546, -0.141723  , -0.00573316]),\n",
       " array([1.74379454, 1.743797  , 1.88260223]),\n",
       " array([1.7774034 , 1.7774046 , 1.86818723]),\n",
       " -76.07005350225101,\n",
       " -76.06805143822845)"
      ]
     },
     "execution_count": 74,
     "metadata": {},
     "output_type": "execute_result"
    }
   ],
   "source": [
    "mpa_pb_with_energy(NH3coords[:3],[\"O\",\"H\",\"H\"],af_3[:3],ah_2[:3,:3,::],ep_nh3_h20[4],solve_ic=True)"
   ]
  },
  {
   "cell_type": "markdown",
   "metadata": {},
   "source": [
    "# H$_2$O -> HF"
   ]
  },
  {
   "cell_type": "code",
   "execution_count": 98,
   "metadata": {},
   "outputs": [],
   "source": [
    "oh2lst=[]\n",
    "for x in range(3):\n",
    "    oh2lst.append(\"OHH\"[x])\n",
    "    oh2lst.extend(oh2optg[x].tolist())  \n",
    "oh2srt=((\"{} \"*4+\";\")*3)[:-1].format(*oh2lst)"
   ]
  },
  {
   "cell_type": "code",
   "execution_count": 99,
   "metadata": {},
   "outputs": [
    {
     "name": "stdout",
     "output_type": "stream",
     "text": [
      "converged SCF energy = -76.0633193328123\n",
      "--------------- RHF gradients ---------------\n",
      "         x                y                z\n",
      "0 O    -0.0000132540    -0.0000106032    -0.0000170848\n",
      "1 H     0.0000054323     0.0000043459     0.0000100623\n",
      "2 H     0.0000078216     0.0000062573     0.0000070225\n",
      "----------------------------------------------\n"
     ]
    }
   ],
   "source": [
    "OH2=gto.M(atom=oh2srt,unit=\"bohr\",basis={\"H\":\"pc-2\",'O':bse.get_basis(\"pcX-2\",fmt=\"nwchem\",elements=[8])})\n",
    "mf = scf.RHF(OH2)\n",
    "mf.scf()\n",
    "G0=mf.Gradients().grad()\n",
    "H0=mf.Hessian().hess()\n",
    "OH2coords=OH2.atom_coords()\n",
    "AF_1=aaff(mf,[1,0,-1])+alc_deriv_grad_nuc(OH2,[1,0,-1])"
   ]
  },
  {
   "cell_type": "code",
   "execution_count": 161,
   "metadata": {},
   "outputs": [],
   "source": [
    "h2oen=-76.0633193328123"
   ]
  },
  {
   "cell_type": "code",
   "execution_count": 100,
   "metadata": {},
   "outputs": [
    {
     "name": "stdout",
     "output_type": "stream",
     "text": [
      "converged SCF energy = -78.224168134286\n"
     ]
    }
   ],
   "source": [
    "OH2p=FcM(fcs=[dl,0,-dl],atom=oh2srt,unit=\"bohr\",basis={\"H\":\"pc-2\",'O':bse.get_basis(\"pcX-2\",fmt=\"nwchem\",elements=[8])})\n",
    "mf_p = scf.RHF(OH2p)\n",
    "mf_p.scf(dm0=mf_p.init_guess_by_1e())\n",
    "AF_1p=aaff(mf_p,[1,0,-1])+alc_deriv_grad_nuc(OH2p,[1,0,-1])\n",
    "H0p=mf_p.Hessian().hess()"
   ]
  },
  {
   "cell_type": "code",
   "execution_count": 104,
   "metadata": {},
   "outputs": [
    {
     "name": "stdout",
     "output_type": "stream",
     "text": [
      "converged SCF energy = -73.958053309612\n"
     ]
    }
   ],
   "source": [
    "OH2m=FcM(fcs=[-dl,0,dl],atom=oh2srt,unit=\"bohr\",basis={\"H\":\"pc-2\",'O':bse.get_basis(\"pcX-2\",fmt=\"nwchem\",elements=[8])})\n",
    "mf_m = scf.RHF(OH2m)\n",
    "mf_m.scf(dm0=mf_m.init_guess_by_1e())\n",
    "AF_1m=aaff(mf_m,[1,0,-1])+alc_deriv_grad_nuc(OH2m,[1,0,-1])\n",
    "H0m=mf_m.Hessian().hess()"
   ]
  },
  {
   "cell_type": "code",
   "execution_count": 105,
   "metadata": {},
   "outputs": [],
   "source": [
    "AF_2=AF_1+(AF_1p-AF_1m)/dl/2/2\n",
    "AF_3=AF_1+(AF_1p-AF_1m)/2/dl/2+(AF_1p-2*AF_1+AF_1m)/6/dl**2\n",
    "AH_1=H0+(H0p-H0m)/2/dl\n",
    "AH_2=H0+(H0p-H0m)/2/dl+(H0p-2*H0+H0m)/2/dl**2\n",
    "AF_2[0]+=AF_2[2]\n",
    "AF_2[2]-=AF_2[2]\n",
    "AF_3[0]+=AF_3[2]\n",
    "AF_3[2]-=AF_3[2]"
   ]
  },
  {
   "cell_type": "code",
   "execution_count": 106,
   "metadata": {},
   "outputs": [
    {
     "data": {
      "text/plain": [
       "(array([1.77561]),\n",
       " array([-0.10171737]),\n",
       " array([1.67389263]),\n",
       " array([1.69305788]))"
      ]
     },
     "execution_count": 106,
     "metadata": {},
     "output_type": "execute_result"
    }
   ],
   "source": [
    "mpa_pb(OH2coords[:2],[\"F\",\"H\"],AF_3[:2],AH_2[:2,:2,:,:],solve_ic=True)"
   ]
  },
  {
   "cell_type": "code",
   "execution_count": 107,
   "metadata": {},
   "outputs": [
    {
     "data": {
      "text/plain": [
       "(1.77561, 1.77561)"
      ]
     },
     "execution_count": 107,
     "metadata": {},
     "output_type": "execute_result"
    }
   ],
   "source": [
    "norm(OH2coords[1]),norm(OH2coords[2])"
   ]
  },
  {
   "cell_type": "code",
   "execution_count": 108,
   "metadata": {},
   "outputs": [
    {
     "data": {
      "text/plain": [
       "array([[0.        , 0.        , 0.        ],\n",
       "       [0.        , 0.        , 1.69574139]])"
      ]
     },
     "execution_count": 108,
     "metadata": {},
     "output_type": "execute_result"
    }
   ],
   "source": [
    "fhoptg"
   ]
  },
  {
   "cell_type": "code",
   "execution_count": 109,
   "metadata": {},
   "outputs": [],
   "source": [
    "ap=AP(mf,sites=[0,2])\n",
    "ap_p=AP(mf_p,sites=[0,2])\n",
    "ap_m=AP(mf_m,sites=[0,2])\n",
    "ap.build_all()\n",
    "ap_p.build_all()\n",
    "ap_m.build_all()"
   ]
  },
  {
   "cell_type": "code",
   "execution_count": 110,
   "metadata": {},
   "outputs": [],
   "source": [
    "ep_h20_hf=[]\n",
    "ep_h20_hf.append(ap.APDFT1(np.asarray([1,-1]))+absec(\"O\",\"F\"))\n",
    "ep_h20_hf.append(ap.APDFT2(np.asarray([1,-1]))+absec(\"O\",\"F\"))\n",
    "ep_h20_hf.append(ap.APDFT3(np.asarray([1,-1]))+absec(\"O\",\"F\"))\n",
    "ep_h20_hf.append(ep_h20_hf[2]+(ap_p.third_deriv([1,-1])-ap_m.third_deriv([1,-1]))/2/dl/24 )\n",
    "ep_h20_hf.append(ep_h20_hf[3]+(ap_p.third_deriv([1,-1])+ap_m.third_deriv([1,-1])-\\\n",
    "                                 2*ap.third_deriv([1,-1]))/dl**2/120 )"
   ]
  },
  {
   "cell_type": "code",
   "execution_count": 111,
   "metadata": {},
   "outputs": [
    {
     "data": {
      "text/plain": [
       "[-97.39593192349187,\n",
       " -100.17510873725631,\n",
       " -100.05087063272529,\n",
       " -100.04687699517902,\n",
       " -100.07046394855858]"
      ]
     },
     "execution_count": 111,
     "metadata": {},
     "output_type": "execute_result"
    }
   ],
   "source": [
    "ep_h20_hf"
   ]
  },
  {
   "cell_type": "code",
   "execution_count": 116,
   "metadata": {},
   "outputs": [
    {
     "name": "stdout",
     "output_type": "stream",
     "text": [
      "-0.0005370324164710833\n"
     ]
    },
    {
     "data": {
      "text/plain": [
       "(array([1.77561]),\n",
       " array([-0.10171737]),\n",
       " array([1.67389263]),\n",
       " array([1.69305788]),\n",
       " -100.07271407813809)"
      ]
     },
     "execution_count": 116,
     "metadata": {},
     "output_type": "execute_result"
    }
   ],
   "source": [
    "mpa_pb_with_energy(OH2coords[:2],[\"F\",\"H\"],AF_3[:2],AH_2[:2,:2,:,:],ep_h20_hf[-1],solve_ic=True)"
   ]
  },
  {
   "cell_type": "code",
   "execution_count": 93,
   "metadata": {},
   "outputs": [
    {
     "name": "stdout",
     "output_type": "stream",
     "text": [
      "converged SCF energy = -100.065540168732\n"
     ]
    },
    {
     "data": {
      "text/plain": [
       "-100.06554016873194"
      ]
     },
     "execution_count": 93,
     "metadata": {},
     "output_type": "execute_result"
    }
   ],
   "source": [
    "HF=gto.M(atom=\"F 0 0 0;H 0 0 1.69574139 \",unit=\"bohr\",basis={\"H\":\"pc-2\",'F':bse.get_basis(\"pcX-2\",fmt=\"nwchem\",elements=[9])})\n",
    "mf_hf = scf.RHF(HF)\n",
    "mf_hf.scf()"
   ]
  },
  {
   "cell_type": "code",
   "execution_count": 162,
   "metadata": {},
   "outputs": [],
   "source": [
    "hfen=-100.06554016873194"
   ]
  },
  {
   "cell_type": "code",
   "execution_count": 118,
   "metadata": {},
   "outputs": [
    {
     "name": "stdout",
     "output_type": "stream",
     "text": [
      "converged SCF energy = -100.06345246538\n",
      "--------------- RHF gradients ---------------\n",
      "         x                y                z\n",
      "0 F     0.0000000000    -0.0000000000    -0.0497183403\n",
      "1 H    -0.0000000000     0.0000000000     0.0497183403\n",
      "----------------------------------------------\n"
     ]
    }
   ],
   "source": [
    "HFT=gto.M(atom=\"F 0 0 0;H 0 0 1.7756 \",unit=\"bohr\",basis={\"H\":\"pc-2\",'F':bse.get_basis(\"pcX-2\",fmt=\"nwchem\",elements=[9])})\n",
    "mf_hfT = scf.RHF(HFT)\n",
    "eThf=mf_hfT.scf()\n",
    "gThf=mf_hfT.Gradients().grad()\n",
    "hThf=mf_hfT.Hessian().hess()"
   ]
  },
  {
   "cell_type": "code",
   "execution_count": 119,
   "metadata": {},
   "outputs": [
    {
     "name": "stdout",
     "output_type": "stream",
     "text": [
      "-0.0004602492088642792\n"
     ]
    },
    {
     "data": {
      "text/plain": [
       "(array([1.77561]),\n",
       " array([-0.09459553]),\n",
       " array([1.68101447]),\n",
       " array([1.697896]),\n",
       " -100.0654828908125)"
      ]
     },
     "execution_count": 119,
     "metadata": {},
     "output_type": "execute_result"
    }
   ],
   "source": [
    "mpa_pb_with_energy(OH2coords[:2],[\"F\",\"H\"],gThf,hThf,eThf,solve_ic=True)"
   ]
  },
  {
   "cell_type": "code",
   "execution_count": 126,
   "metadata": {},
   "outputs": [
    {
     "data": {
      "text/plain": [
       "array([array([[-0.04143357, -0.02392168, -0.01691518],\n",
       "       [-0.00402351, -0.00232298,  0.06388629],\n",
       "       [-0.00402351,  0.05945825, -0.02348555],\n",
       "       [ 0.0494806 , -0.03321359, -0.02348555],\n",
       "       [ 0.        ,  0.        ,  0.        ]]),\n",
       "       array([[[[ 2.31884181e-01, -1.12388160e-01, -7.94704297e-02],\n",
       "         [-1.12388160e-01,  3.61658850e-01, -4.58822740e-02],\n",
       "         [-7.94704297e-02, -4.58822740e-02,  3.94102517e-01]],\n",
       "\n",
       "        [[-4.47490142e-02,  2.55038728e-02,  1.46859529e-02],\n",
       "         [ 2.55038728e-02, -7.41983498e-02,  8.47893885e-03],\n",
       "         [-3.48931037e-02, -2.01455428e-02, -2.75705150e-01]],\n",
       "\n",
       "        [[-4.47490141e-02,  2.23473401e-02,  1.91499642e-02],\n",
       "         [-2.43962427e-02, -2.56981965e-01,  4.44782240e-02],\n",
       "         [ 3.56763164e-02,  7.31027057e-02, -9.29215343e-02]],\n",
       "\n",
       "        [[-2.04810928e-01,  6.80155464e-02,  4.80942541e-02],\n",
       "         [ 1.14759129e-01, -9.69200510e-02, -5.65475654e-03],\n",
       "         [ 8.11469585e-02, -5.65475653e-03, -9.29215343e-02]],\n",
       "\n",
       "        [[ 6.24247750e-02, -3.47859974e-03, -2.45974147e-03],\n",
       "         [-3.47859974e-03,  6.64415159e-02, -1.42013240e-03],\n",
       "         [-2.45974147e-03, -1.42013240e-03,  6.74457011e-02]]],\n",
       "\n",
       "\n",
       "       [[[-4.47490142e-02,  2.55038728e-02, -3.48931037e-02],\n",
       "         [ 2.55038728e-02, -7.41983498e-02, -2.01455428e-02],\n",
       "         [ 1.46859529e-02,  8.47893885e-03, -2.75705150e-01]],\n",
       "\n",
       "        [[ 4.96476338e-02, -2.08234350e-02, -8.43008529e-03],\n",
       "         [-2.08234350e-02,  7.36924655e-02, -4.86711201e-03],\n",
       "         [-8.43008525e-03, -4.86711198e-03,  2.94533443e-01]],\n",
       "\n",
       "        [[-4.16749599e-03, -3.41112913e-03,  8.20283280e-04],\n",
       "         [-3.63672544e-04,  1.51866690e-03,  3.75875924e-02],\n",
       "         [-3.48947114e-03, -5.12189665e-03, -9.95968815e-03]],\n",
       "\n",
       "        [[-1.53741090e-03, -1.88215288e-03,  3.29619516e-02],\n",
       "         [-4.92960947e-03, -1.11141819e-03, -1.80834101e-02],\n",
       "         [-6.18042819e-03, -4.61022328e-04, -9.95968816e-03]],\n",
       "\n",
       "        [[ 8.06284844e-04,  6.12844238e-04,  9.54095425e-03],\n",
       "         [ 6.12844241e-04,  9.86332720e-05,  5.50847250e-03],\n",
       "         [ 3.41403174e-03,  1.97109214e-03,  1.09108744e-03]]],\n",
       "\n",
       "\n",
       "       [[[-4.47490141e-02, -2.43962427e-02,  3.56763164e-02],\n",
       "         [ 2.23473401e-02, -2.56981965e-01,  7.31027057e-02],\n",
       "         [ 1.91499642e-02,  4.44782240e-02, -9.29215343e-02]],\n",
       "\n",
       "        [[-4.16749599e-03, -3.63672544e-04, -3.48947114e-03],\n",
       "         [-3.41112913e-03,  1.51866690e-03, -5.12189665e-03],\n",
       "         [ 8.20283280e-04,  3.75875924e-02, -9.95968815e-03]],\n",
       "\n",
       "        [[ 4.96476338e-02, -1.48891056e-02, -1.68224944e-02],\n",
       "         [-1.48891056e-02,  2.66936385e-01, -7.31891550e-02],\n",
       "         [-1.68224944e-02, -7.31891551e-02,  1.01289523e-01]],\n",
       "\n",
       "        [[-1.53741090e-03,  3.04494417e-02, -1.27618279e-02],\n",
       "         [-7.47016674e-03, -1.48044999e-02,  4.38021313e-03],\n",
       "         [-2.58753765e-03, -1.32421746e-02,  3.73339354e-03]],\n",
       "\n",
       "        [[ 8.06284842e-04,  9.19957935e-03, -2.60252300e-03],\n",
       "         [ 3.42306140e-03,  3.33141514e-03,  8.28131149e-04],\n",
       "         [-5.60215489e-04,  4.36551151e-03, -2.14169443e-03]]],\n",
       "\n",
       "\n",
       "       [[[-2.04810928e-01,  1.14759129e-01,  8.11469585e-02],\n",
       "         [ 6.80155464e-02, -9.69200510e-02, -5.65475653e-03],\n",
       "         [ 4.80942541e-02, -5.65475654e-03, -9.29215343e-02]],\n",
       "\n",
       "        [[-1.53741090e-03, -4.92960947e-03, -6.18042819e-03],\n",
       "         [-1.88215288e-03, -1.11141819e-03, -4.61022328e-04],\n",
       "         [ 3.29619516e-02, -1.80834101e-02, -9.95968816e-03]],\n",
       "\n",
       "        [[-1.53741090e-03, -7.47016674e-03, -2.58753765e-03],\n",
       "         [ 3.04494417e-02, -1.48044999e-02, -1.32421746e-02],\n",
       "         [-1.27618279e-02,  4.38021313e-03,  3.73339354e-03]],\n",
       "\n",
       "        [[ 1.99719854e-01, -1.01533342e-01, -7.17949148e-02],\n",
       "         [-1.01533342e-01,  1.16864165e-01,  2.20258701e-02],\n",
       "         [-7.17949148e-02,  2.20258701e-02,  1.01289523e-01]],\n",
       "\n",
       "        [[ 8.16589634e-03, -8.26012284e-04, -5.84078889e-04],\n",
       "         [ 4.95050566e-03, -4.02819636e-03, -2.66791661e-03],\n",
       "         [ 3.50053612e-03, -2.66791660e-03, -2.14169443e-03]]],\n",
       "\n",
       "\n",
       "       [[[ 6.24247750e-02, -3.47859974e-03, -2.45974147e-03],\n",
       "         [-3.47859974e-03,  6.64415159e-02, -1.42013240e-03],\n",
       "         [-2.45974147e-03, -1.42013240e-03,  6.74457011e-02]],\n",
       "\n",
       "        [[ 8.06284844e-04,  6.12844241e-04,  3.41403174e-03],\n",
       "         [ 6.12844238e-04,  9.86332720e-05,  1.97109214e-03],\n",
       "         [ 9.54095425e-03,  5.50847250e-03,  1.09108744e-03]],\n",
       "\n",
       "        [[ 8.06284842e-04,  3.42306140e-03, -5.60215489e-04],\n",
       "         [ 9.19957935e-03,  3.33141514e-03,  4.36551151e-03],\n",
       "         [-2.60252300e-03,  8.28131149e-04, -2.14169443e-03]],\n",
       "\n",
       "        [[ 8.16589634e-03,  4.95050566e-03,  3.50053612e-03],\n",
       "         [-8.26012284e-04, -4.02819636e-03, -2.66791660e-03],\n",
       "         [-5.84078889e-04, -2.66791661e-03, -2.14169443e-03]],\n",
       "\n",
       "        [[-7.22032410e-02, -5.50781156e-03, -3.89461089e-03],\n",
       "         [-5.50781156e-03, -6.58433680e-02, -2.24855464e-03],\n",
       "         [-3.89461089e-03, -2.24855464e-03, -6.42533997e-02]]]]),\n",
       "       array([[-0.04278023, -0.02863691, -0.02974726],\n",
       "       [-0.00334453,  0.00735601,  0.05715425],\n",
       "       [ 0.04612476,  0.0212809 , -0.02740699],\n",
       "       [ 0.        ,  0.        ,  0.        ]]),\n",
       "       array([[[[ 2.33473003e-01,  1.89211922e-01, -1.10179122e-01],\n",
       "         [ 1.89211922e-01,  7.38140409e-02,  4.46727403e-02],\n",
       "         [-1.10179122e-01,  4.46727403e-02,  4.17891369e-01]],\n",
       "\n",
       "        [[-5.66882021e-02, -2.48843732e-02,  2.12623550e-02],\n",
       "         [-3.38700610e-02, -5.53538263e-02, -6.14604171e-02],\n",
       "         [-3.65721513e-02, -8.54109459e-02, -3.92589075e-01]],\n",
       "\n",
       "        [[-2.86711975e-01, -1.42874221e-01,  8.00522623e-02],\n",
       "         [-1.40448397e-01, -1.00328266e-01,  2.66300294e-02],\n",
       "         [ 1.36808384e-01,  5.44185536e-02, -1.17595759e-01]],\n",
       "\n",
       "        [[ 1.09927174e-01, -2.14533283e-02,  8.86450495e-03],\n",
       "         [-1.48934649e-02,  8.18680506e-02, -9.84235260e-03],\n",
       "         [ 9.94288976e-03, -1.36803480e-02,  9.22934656e-02]]],\n",
       "\n",
       "\n",
       "       [[[-5.66882021e-02, -3.38700610e-02, -3.65721513e-02],\n",
       "         [-2.48843732e-02, -5.53538263e-02, -8.54109459e-02],\n",
       "         [ 2.12623550e-02, -6.14604171e-02, -3.92589075e-01]],\n",
       "\n",
       "        [[ 5.48509632e-02,  2.32825870e-02, -1.31840860e-02],\n",
       "         [ 2.32825870e-02,  5.33272458e-02,  6.89488756e-02],\n",
       "         [-1.31840861e-02,  6.89488757e-02,  4.03685058e-01]],\n",
       "\n",
       "        [[ 3.87344001e-04,  9.82845023e-03,  3.85533524e-02],\n",
       "         [ 4.39694450e-04,  2.12689397e-03,  2.19206960e-02],\n",
       "         [-8.88053953e-03, -7.46767124e-03, -1.36514395e-02]],\n",
       "\n",
       "        [[ 1.44989561e-03,  7.59023722e-04,  1.12028849e-02],\n",
       "         [ 1.16209171e-03, -1.00313338e-04, -5.45862583e-03],\n",
       "         [ 8.02270525e-04, -2.07877218e-05,  2.55545613e-03]]],\n",
       "\n",
       "\n",
       "       [[[-2.86711975e-01, -1.40448397e-01,  1.36808384e-01],\n",
       "         [-1.42874221e-01, -1.00328266e-01,  5.44185536e-02],\n",
       "         [ 8.00522623e-02,  2.66300294e-02, -1.17595759e-01]],\n",
       "\n",
       "        [[ 3.87344001e-04,  4.39694450e-04, -8.88053953e-03],\n",
       "         [ 9.82845023e-03,  2.12689397e-03, -7.46767124e-03],\n",
       "         [ 3.85533524e-02,  2.19206960e-02, -1.36514395e-02]],\n",
       "\n",
       "        [[ 2.78443964e-01,  1.37768219e-01, -1.25147092e-01],\n",
       "         [ 1.37768219e-01,  1.00046547e-01, -5.07011300e-02],\n",
       "         [-1.25147092e-01, -5.07011301e-02,  1.33373495e-01]],\n",
       "\n",
       "        [[ 7.88066669e-03,  2.24048231e-03, -2.78075240e-03],\n",
       "         [-4.72244900e-03, -1.84517563e-03,  3.75024762e-03],\n",
       "         [ 6.54147718e-03,  2.15040483e-03, -2.12629698e-03]]],\n",
       "\n",
       "\n",
       "       [[[ 1.09927174e-01, -1.48934649e-02,  9.94288976e-03],\n",
       "         [-2.14533283e-02,  8.18680506e-02, -1.36803480e-02],\n",
       "         [ 8.86450495e-03, -9.84235260e-03,  9.22934656e-02]],\n",
       "\n",
       "        [[ 1.44989561e-03,  1.16209171e-03,  8.02270525e-04],\n",
       "         [ 7.59023722e-04, -1.00313338e-04, -2.07877218e-05],\n",
       "         [ 1.12028849e-02, -5.45862583e-03,  2.55545613e-03]],\n",
       "\n",
       "        [[ 7.88066669e-03, -4.72244900e-03,  6.54147718e-03],\n",
       "         [ 2.24048231e-03, -1.84517563e-03,  2.15040483e-03],\n",
       "         [-2.78075240e-03,  3.75024762e-03, -2.12629698e-03]],\n",
       "\n",
       "        [[-1.19257736e-01,  1.84538222e-02, -1.72866375e-02],\n",
       "         [ 1.84538223e-02, -7.99225616e-02,  1.15507309e-02],\n",
       "         [-1.72866375e-02,  1.15507308e-02, -9.27226248e-02]]]]),\n",
       "       array([[ 0.00802964,  0.00642371, -0.05017572],\n",
       "       [-0.00802964, -0.00642371,  0.05017572],\n",
       "       [ 0.        ,  0.        ,  0.        ]]),\n",
       "       array([[[[-1.28826079e-01, -5.38530779e-02, -4.93283846e-02],\n",
       "         [-5.38530779e-02, -1.04592193e-01, -3.94627088e-02],\n",
       "         [-4.93283846e-02, -3.94627088e-02,  4.16687380e-01]],\n",
       "\n",
       "        [[-2.97777681e-02,  2.21418691e-04,  5.32148508e-02],\n",
       "         [ 2.21418665e-04, -2.98774069e-02,  4.25718818e-02],\n",
       "         [ 6.30852412e-02,  5.04681940e-02, -5.19388215e-01]],\n",
       "\n",
       "        [[ 1.58603847e-01,  5.36316592e-02, -3.88646617e-03],\n",
       "         [ 5.36316592e-02,  1.34469600e-01, -3.10917295e-03],\n",
       "         [-1.37568565e-02, -1.10054852e-02,  1.02700835e-01]]],\n",
       "\n",
       "\n",
       "       [[[-2.97777681e-02,  2.21418665e-04,  6.30852412e-02],\n",
       "         [ 2.21418691e-04, -2.98774069e-02,  5.04681940e-02],\n",
       "         [ 5.32148508e-02,  4.25718818e-02, -5.19388215e-01]],\n",
       "\n",
       "        [[ 2.97597840e-02, -1.44970998e-04, -5.47959757e-02],\n",
       "         [-1.44970998e-04,  2.98250212e-02, -4.38367817e-02],\n",
       "         [-5.47959760e-02, -4.38367819e-02,  5.17832385e-01]],\n",
       "\n",
       "        [[ 1.79823569e-05, -7.64491557e-05, -8.28926527e-03],\n",
       "         [-7.64491816e-05,  5.23845024e-05, -6.63141219e-03],\n",
       "         [ 1.58112535e-03,  1.26490027e-03,  1.55583264e-03]]],\n",
       "\n",
       "\n",
       "       [[[ 1.58603847e-01,  5.36316592e-02, -1.37568565e-02],\n",
       "         [ 5.36316592e-02,  1.34469600e-01, -1.10054852e-02],\n",
       "         [-3.88646617e-03, -3.10917295e-03,  1.02700835e-01]],\n",
       "\n",
       "        [[ 1.79823569e-05, -7.64491816e-05,  1.58112535e-03],\n",
       "         [-7.64491557e-05,  5.23845024e-05,  1.26490027e-03],\n",
       "         [-8.28926527e-03, -6.63141219e-03,  1.55583264e-03]],\n",
       "\n",
       "        [[-1.58621830e-01, -5.35552100e-02,  1.21757312e-02],\n",
       "         [-5.35552100e-02, -1.34521985e-01,  9.74058492e-03],\n",
       "         [ 1.21757314e-02,  9.74058514e-03, -1.04256668e-01]]]]),\n",
       "       list([-97.39593192349187, -100.17510873725631, -100.05087063272529, -100.04687699517902, -100.07046394855858]),\n",
       "       list([-73.53896972665096, -76.1653617587322, -76.04808577434461, -76.03837042976484, -76.06316452518669]),\n",
       "       list([-53.84414407442253, -56.31635197834341, -56.20440216525058, -56.18281786296406, -56.21032241738459])],\n",
       "      dtype=object)"
      ]
     },
     "execution_count": 126,
     "metadata": {},
     "output_type": "execute_result"
    }
   ],
   "source": [
    "np.save(\"ch4_nh3_data\",np.asarray([af_3ch4,ah_2ch4,af_3,ah_2,AF_3,AH_2,ep_h20_hf,ep_nh3_h20,ep_ch4_nh3]))"
   ]
  },
  {
   "cell_type": "code",
   "execution_count": 127,
   "metadata": {},
   "outputs": [],
   "source": [
    "#np.save(\"ch4_nh3_data\",[af_3ch4,ah_2ch4,af_3,ah_2,AF_3,AH_2,ep_h20_hf,ep_nh3_h20,ep_ch4_nh3])"
   ]
  },
  {
   "cell_type": "code",
   "execution_count": 128,
   "metadata": {},
   "outputs": [],
   "source": []
  },
  {
   "cell_type": "code",
   "execution_count": 129,
   "metadata": {},
   "outputs": [
    {
     "data": {
      "text/plain": [
       "[-53.84414407442253,\n",
       " -56.31635197834341,\n",
       " -56.20440216525058,\n",
       " -56.18281786296406,\n",
       " -56.21032241738459]"
      ]
     },
     "execution_count": 129,
     "metadata": {},
     "output_type": "execute_result"
    }
   ],
   "source": []
  }
 ],
 "metadata": {
  "kernelspec": {
   "display_name": "Python 3",
   "language": "python",
   "name": "python3"
  },
  "language_info": {
   "codemirror_mode": {
    "name": "ipython",
    "version": 3
   },
   "file_extension": ".py",
   "mimetype": "text/x-python",
   "name": "python",
   "nbconvert_exporter": "python",
   "pygments_lexer": "ipython3",
   "version": "3.7.3"
  }
 },
 "nbformat": 4,
 "nbformat_minor": 2
}
