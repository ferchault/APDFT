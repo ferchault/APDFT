{
 "cells": [
  {
   "cell_type": "code",
   "execution_count": 1,
   "metadata": {},
   "outputs": [],
   "source": [
    "import sys\n",
    "sys.path.append(\"../../Libs/\")\n",
    "from AP_class import APDFT_perturbator as AP\n",
    "from aaff import aaff,alc_deriv_grad_nuc,alc_differential_grad_nuc\n",
    "from FcMole import FcM\n",
    "from alch_deriv import alch_deriv\n",
    "from pyscf import gto,scf\n",
    "import numpy as np\n",
    "from numpy.linalg import norm as norm\n",
    "from scipy.optimize import  minimize\n",
    "from scipy.spatial.transform import Rotation as R\n",
    "import matplotlib.pyplot as plt\n",
    "from mpl_toolkits import mplot3d\n",
    "from pyscf.grad import rhf as grhf\n",
    "from pyscf.hessian import rhf as hrhf\n",
    "import basis_set_exchange as bse\n",
    "from FDcoeffs import *\n",
    "from pyscf.geomopt.berny_solver import optimize\n",
    "ang2bohr=1.8897261246\n",
    "bohr2ang=.5291772109"
   ]
  },
  {
   "cell_type": "code",
   "execution_count": 2,
   "metadata": {},
   "outputs": [],
   "source": [
    "%load_ext autoreload\n",
    "%autoreload 2\n",
    "from AP_class import APDFT_perturbator as AP\n",
    "from ABSE import absec\n",
    "from Morse import Morse_interpolator"
   ]
  },
  {
   "cell_type": "code",
   "execution_count": 3,
   "metadata": {},
   "outputs": [],
   "source": [
    "from berny import Berny, geomlib, coords,Geometry,Math\n",
    "import berny"
   ]
  },
  {
   "cell_type": "code",
   "execution_count": 4,
   "metadata": {},
   "outputs": [],
   "source": [
    "def anglecenter(coords):\n",
    "    return np.around(np.arccos(coords[1].dot(coords[2])/norm(coords[1])/norm(coords[2]))*180/np.pi,decimals=3)"
   ]
  },
  {
   "cell_type": "code",
   "execution_count": 5,
   "metadata": {},
   "outputs": [],
   "source": [
    "def build_h_ic(s,g_ic,h0,B_inv):\n",
    "    geom0=s.geom.copy()\n",
    "    B=s.coords.B_matrix(geom0)\n",
    "    bms=[]\n",
    "    for i in range(geom0.coords.flatten().shape[0]):\n",
    "        a=geom0.coords.flatten()\n",
    "        geom1=geom0.copy()\n",
    "        a[i]+=.001*bohr2ang\n",
    "        a=a.reshape(geom0.coords.shape)\n",
    "        geom1.coords=a\n",
    "        bms.append((s.coords.B_matrix(geom1)-B)*1000)\n",
    "    bms_arr=np.asarray(bms)\n",
    "    BpG2=np.einsum('ijk,j->ik',bms,g_ic)\n",
    "    h_ic=B_inv.T@(h0-BpG2)@B_inv\n",
    "    return h_ic\n",
    "\n",
    "\n",
    "ebde=100/627.5 # empirical bond dissociation energy\n",
    "ch4coords,nh3optg,oh2optg,hfoptg=np.load(\"optgeoms.npy\",allow_pickle=True)\n",
    "def mpa_pb_with_energy(coords,atoml,g,h,e,gic=False,ghost=[]):\n",
    "    g=np.asarray(g)\n",
    "    if not len(h.shape)==2:\n",
    "        h=h.swapaxes(1,2)\n",
    "        h=h.reshape(g.shape[0]*3,g.shape[0]*3)\n",
    "    geom0=Geometry(atoml,coords*bohr2ang)\n",
    "    bernyobj=Berny(geom0)\n",
    "    s=bernyobj._state\n",
    "    B = s.coords.B_matrix(geom0)\n",
    "    q0=s.coords.eval_geom(geom0)\n",
    "    B_inv = B.T.dot(Math.pinv(np.dot(B, B.T)))\n",
    "    if not gic:\n",
    "        g_ic=np.dot(B_inv.T, (g).reshape(-1))\n",
    "    else:\n",
    "        g_ic=g\n",
    "    h_ic=build_h_ic(s,g_ic,h,B_inv)\n",
    "    bnr=0\n",
    "    dde_mb=0\n",
    "    ddq_mb=np.zeros_like(q0)\n",
    "    for i in range(len(s.coords._coords)):\n",
    "        if s.coords._coords[i].__class__ is berny.coords.Bond:\n",
    "            bnr+=1\n",
    "            if s.coords._coords[i].i not in ghost and s.coords._coords[i].j not in ghost:\n",
    "                MorseInt=Morse_interpolator(g_ic[i],h_ic[i,i],q0[i],ebde,e)\n",
    "                ddq_mb[i]+=MorseInt.re+g_ic[i]/h_ic[i,i]-q0[i]\n",
    "                dde_mb+=MorseInt.e_min-e+1/2*h_ic[i,i]*(MorseInt.re-q0[i])**2\n",
    "    dq_NR=-Math.pinv(h_ic)@g_ic\n",
    "    ddq_mb_old=np.linalg.solve(h_ic[bnr:,bnr:],-h_ic[bnr:,:]@(ddq_mb))\n",
    "    ddq_mb[bnr:]=-Math.pinv(h_ic[bnr:,bnr:]) @(h_ic[bnr:,:]@(ddq_mb))\n",
    "    dq_tot=dq_NR+ddq_mb\n",
    "    en_MB=(e-1/2*np.einsum(\"i,ij,j\",dq_tot,h_ic,dq_tot)+dde_mb)\n",
    "    print (s.coords._coords)\n",
    "    return q0,q0+dq_tot,en_MB"
   ]
  },
  {
   "cell_type": "code",
   "execution_count": 6,
   "metadata": {},
   "outputs": [
    {
     "name": "stdout",
     "output_type": "stream",
     "text": [
      "converged SCF energy = -100.065540168732\n"
     ]
    },
    {
     "data": {
      "text/plain": [
       "-100.0655401687325"
      ]
     },
     "execution_count": 6,
     "metadata": {},
     "output_type": "execute_result"
    }
   ],
   "source": [
    "HF=gto.M(atom=\"F 0 0 0;H 0 0 1.695741\",unit=\"bohr\",\n",
    "            basis={\"H\":\"pc-2\",'F':bse.get_basis(\"pcX-2\",fmt=\"nwchem\",elements=[9])})\n",
    "mfhf = scf.RHF(HF)\n",
    "mfhf.scf()"
   ]
  },
  {
   "cell_type": "code",
   "execution_count": 7,
   "metadata": {},
   "outputs": [],
   "source": [
    "dm=mfhf.make_rdm1()"
   ]
  },
  {
   "cell_type": "code",
   "execution_count": 8,
   "metadata": {},
   "outputs": [],
   "source": [
    "def Vne(coords,mol=HF,dm=dm):\n",
    "    mol.set_rinv_orig_(coords)\n",
    "    dV=mol.intor('int1e_rinv')\n",
    "    return -np.einsum('ij,ij',dV,dm)"
   ]
  },
  {
   "cell_type": "code",
   "execution_count": 9,
   "metadata": {},
   "outputs": [],
   "source": [
    "dL=[-1,0,0,0] #-1 charge central atom\n",
    "def Vnn(coords,mol=HF):\n",
    "    Vnn=0\n",
    "    for i in range (mol.natm):\n",
    "        #Vnn+= (mol.atom_charge(i))/np.linalg.norm(coords-mol.atom_coord(i))        \n",
    "        Vnn+= (mol.atom_charge(i)+dL[i])/np.linalg.norm(coords-mol.atom_coord(i))\n",
    "    return Vnn"
   ]
  },
  {
   "cell_type": "code",
   "execution_count": 10,
   "metadata": {},
   "outputs": [],
   "source": [
    "def Vtot(coords,mol=HF,dm=dm):\n",
    "    return Vnn(coords,mol)+Vne(coords,mol,dm)"
   ]
  },
  {
   "cell_type": "code",
   "execution_count": 11,
   "metadata": {},
   "outputs": [],
   "source": [
    "def euler2coords(teta,phi,r):\n",
    "    return np.asarray([np.cos(phi)*np.sin(teta),np.sin(teta)*np.sin(phi),np.cos(teta)])*r\n",
    "def Vtot_fl(angles,r,mol=HF,dm=dm):\n",
    "    teta,phi=angles\n",
    "    coords=euler2coords(teta,phi,1.695741)\n",
    "    return Vtot(coords,mol=HF,dm=dm)"
   ]
  },
  {
   "cell_type": "code",
   "execution_count": 12,
   "metadata": {},
   "outputs": [
    {
     "data": {
      "text/plain": [
       "(1.5510758818441097, 118.422)"
      ]
     },
     "execution_count": 12,
     "metadata": {},
     "output_type": "execute_result"
    }
   ],
   "source": [
    "prot_site=minimize(Vtot,[0,.5,-1.3]).x\n",
    "norm(prot_site),anglecenter(np.vstack([HF.atom_coords(),prot_site])) "
   ]
  },
  {
   "cell_type": "code",
   "execution_count": 13,
   "metadata": {},
   "outputs": [],
   "source": [
    "pHF=FcM(fcs=[0,0,-1],atom=\"F 0 0 0;H 0 0 1.695741; H {} {} {}\".format(prot_site[0],prot_site[1],prot_site[2]),unit=\"bohr\",\n",
    "          basis={\"H\":\"pc-2\",'F':bse.get_basis(\"pcX-2\",fmt=\"nwchem\",elements=[9])},charge=1)\n",
    "pHF.charge=0"
   ]
  },
  {
   "cell_type": "code",
   "execution_count": 14,
   "metadata": {},
   "outputs": [
    {
     "name": "stdout",
     "output_type": "stream",
     "text": [
      "converged SCF energy = -100.065874806313\n"
     ]
    },
    {
     "data": {
      "text/plain": [
       "-100.06587480631325"
      ]
     },
     "execution_count": 14,
     "metadata": {},
     "output_type": "execute_result"
    }
   ],
   "source": [
    "pHFmf=scf.RHF(pHF)\n",
    "pHFmf.scf(dm0=pHFmf.init_guess_by_1e())"
   ]
  },
  {
   "cell_type": "code",
   "execution_count": 15,
   "metadata": {},
   "outputs": [
    {
     "data": {
      "text/plain": [
       "-76.01756091477334"
      ]
     },
     "execution_count": 15,
     "metadata": {},
     "output_type": "execute_result"
    }
   ],
   "source": [
    "afHF=aaff(pHFmf,[-1,0,1])+alc_deriv_grad_nuc(pHF,[-1,0,1])\n",
    "apHF=AP(pHFmf,sites=[0,2])\n",
    "apHF.build_all()\n",
    "apHF.APDFT3([-1,1])"
   ]
  },
  {
   "cell_type": "code",
   "execution_count": 16,
   "metadata": {},
   "outputs": [
    {
     "name": "stdout",
     "output_type": "stream",
     "text": [
      "converged SCF energy = -102.756154130817\n"
     ]
    },
    {
     "data": {
      "text/plain": [
       "-102.75615413081657"
      ]
     },
     "execution_count": 16,
     "metadata": {},
     "output_type": "execute_result"
    }
   ],
   "source": [
    "pHFm=FcM(fcs=[.1,0,-1.1],atom=\"F 0 0 0;H 0 0 1.695741; H {} {} {}\".format(prot_site[0],prot_site[1],prot_site[2]),unit=\"bohr\",\n",
    "          basis={\"H\":\"pc-2\",'F':bse.get_basis(\"pcX-2\",fmt=\"nwchem\",elements=[9])},charge=1)\n",
    "pHFmfm=scf.RHF(pHFm)\n",
    "pHFmfm.scf(dm0=pHFmfm.init_guess_by_1e())"
   ]
  },
  {
   "cell_type": "code",
   "execution_count": 17,
   "metadata": {},
   "outputs": [
    {
     "data": {
      "text/plain": [
       "-78.18122890422204"
      ]
     },
     "execution_count": 17,
     "metadata": {},
     "output_type": "execute_result"
    }
   ],
   "source": [
    "afHFm=aaff(pHFmfm,[-1,0,1])+alc_deriv_grad_nuc(pHFm,[-1,0,1])\n",
    "apHFm=AP(pHFmfm,sites=[0,2])\n",
    "apHFm.build_all()\n",
    "apHFm.APDFT3([-1,1])"
   ]
  },
  {
   "cell_type": "code",
   "execution_count": 18,
   "metadata": {},
   "outputs": [
    {
     "name": "stdout",
     "output_type": "stream",
     "text": [
      "converged SCF energy = -97.4269980312757\n"
     ]
    },
    {
     "data": {
      "text/plain": [
       "-97.42699803127572"
      ]
     },
     "execution_count": 18,
     "metadata": {},
     "output_type": "execute_result"
    }
   ],
   "source": [
    "pHFp=FcM(fcs=[-.1,0,-.9],atom=\"F 0 0 0;H 0 0 1.695741; H {} {} {}\".format(prot_site[0],prot_site[1],prot_site[2]),unit=\"bohr\",\n",
    "          basis={\"H\":\"pc-2\",'F':bse.get_basis(\"pcX-2\",fmt=\"nwchem\",elements=[9])},charge=1)\n",
    "pHFmfp=scf.RHF(pHFp)\n",
    "pHFmfp.scf(dm0=pHFmfp.init_guess_by_1e())"
   ]
  },
  {
   "cell_type": "code",
   "execution_count": 19,
   "metadata": {},
   "outputs": [],
   "source": [
    "afHFp=aaff(pHFmfp,[-1,0,1])+alc_deriv_grad_nuc(pHFp,[-1,0,1])\n",
    "apHFp=AP(pHFmfp,sites=[0,2])\n",
    "apHFp.build_all()"
   ]
  },
  {
   "cell_type": "code",
   "execution_count": 20,
   "metadata": {},
   "outputs": [],
   "source": [
    "HFh0=pHFmf.Hessian().hess()\n",
    "HFhm=pHFmfm.Hessian().hess()\n",
    "HFhp=pHFmfp.Hessian().hess()"
   ]
  },
  {
   "cell_type": "code",
   "execution_count": 21,
   "metadata": {},
   "outputs": [],
   "source": [
    "HFht=HFh0+(HFhp-HFhm)/.2+(HFhp+HFhm-2*HFh0)/2/.01"
   ]
  },
  {
   "cell_type": "code",
   "execution_count": 22,
   "metadata": {},
   "outputs": [],
   "source": [
    "HFgt=afHF+(afHFp-afHFm)/.2/2+(afHFp+afHFm-2*afHF)/6/.01"
   ]
  },
  {
   "cell_type": "code",
   "execution_count": 23,
   "metadata": {},
   "outputs": [],
   "source": [
    "HFet=apHF.APDFT3([-1,1])+absec(\"F\",\"O\")+(apHFp.third_deriv([-1,1])-apHFm.third_deriv([-1,1]))/.2/24+\\\n",
    "       (apHFp.third_deriv([-1,1])+apHFm.third_deriv([-1,1])-2*apHF.third_deriv([-1,1]))/.01/120                                  "
   ]
  },
  {
   "cell_type": "code",
   "execution_count": 24,
   "metadata": {},
   "outputs": [
    {
     "name": "stdout",
     "output_type": "stream",
     "text": [
      "[Bond(0, 1, weak=0), Bond(0, 2, weak=0), Angle(1, 0, 2, weak=0)]\n"
     ]
    },
    {
     "data": {
      "text/plain": [
       "(array([1.695741  , 1.55107588, 2.06684813]),\n",
       " array([1.77230706, 1.72836202, 1.87445854]),\n",
       " -76.05698670461706)"
      ]
     },
     "execution_count": 24,
     "metadata": {},
     "output_type": "execute_result"
    }
   ],
   "source": [
    "mpa_pb_with_energy(pHF.atom_coords(),['O','H','H'],HFgt,HFht,HFet)\n"
   ]
  },
  {
   "cell_type": "code",
   "execution_count": 25,
   "metadata": {},
   "outputs": [
    {
     "data": {
      "text/plain": [
       "(107.39875572807337, -76.01756091477334, -76.03880557464734)"
      ]
     },
     "execution_count": 25,
     "metadata": {},
     "output_type": "execute_result"
    }
   ],
   "source": [
    "1.8744619*180/np.pi,apHF.APDFT3([-1,1]),HFet"
   ]
  },
  {
   "cell_type": "code",
   "execution_count": 26,
   "metadata": {},
   "outputs": [
    {
     "data": {
      "text/plain": [
       "(-0.0029667638878976277, -0.003269512295844379, -0.004133047217614205)"
      ]
     },
     "execution_count": 26,
     "metadata": {},
     "output_type": "execute_result"
    }
   ],
   "source": [
    "absec(\"F\",\"O\"),absec(\"O\",\"N\"),absec(\"N\",\"C\")"
   ]
  },
  {
   "cell_type": "markdown",
   "metadata": {},
   "source": [
    "# H$_2$O"
   ]
  },
  {
   "cell_type": "code",
   "execution_count": 26,
   "metadata": {},
   "outputs": [],
   "source": [
    "oh2lst=[]\n",
    "for x in range(3):\n",
    "    oh2lst.append(\"OHH\"[x])\n",
    "    oh2lst.extend(oh2optg[x].tolist())  \n",
    "oh2srt=((\"{} \"*4+\";\")*3)[:-1].format(*oh2lst)"
   ]
  },
  {
   "cell_type": "code",
   "execution_count": 27,
   "metadata": {},
   "outputs": [
    {
     "name": "stdout",
     "output_type": "stream",
     "text": [
      "converged SCF energy = -76.0633193336666\n"
     ]
    }
   ],
   "source": [
    "OH2=gto.M(atom=oh2srt,unit=\"bohr\",basis={\"H\":\"pc-2\",'O':bse.get_basis(\"pcX-2\",fmt=\"nwchem\",elements=[8])})\n",
    "mfoh2 = scf.RHF(OH2)\n",
    "mfoh2.scf()\n",
    "dmoh2=mfoh2.make_rdm1()"
   ]
  },
  {
   "cell_type": "code",
   "execution_count": 55,
   "metadata": {},
   "outputs": [],
   "source": [
    "ps_h2o=minimize(Vtot,np.array([0,0,1.5]),args=(OH2,dmoh2)).x"
   ]
  },
  {
   "cell_type": "code",
   "execution_count": 54,
   "metadata": {},
   "outputs": [
    {
     "data": {
      "text/plain": [
       "array([[ 0.        ,  0.        ,  0.        ],\n",
       "       [ 1.73352672, -0.38419879,  0.        ],\n",
       "       [-0.12082414,  1.77147401,  0.        ]])"
      ]
     },
     "execution_count": 54,
     "metadata": {},
     "output_type": "execute_result"
    }
   ],
   "source": [
    "OH2.atom_coords()"
   ]
  },
  {
   "cell_type": "code",
   "execution_count": 56,
   "metadata": {},
   "outputs": [
    {
     "name": "stdout",
     "output_type": "stream",
     "text": [
      "converged SCF energy = -76.0638566148365\n"
     ]
    },
    {
     "data": {
      "text/plain": [
       "-76.0638566148365"
      ]
     },
     "execution_count": 56,
     "metadata": {},
     "output_type": "execute_result"
    }
   ],
   "source": [
    "pH2O=FcM(fcs=[0,0,0,-1],atom=oh2srt+\"; H {} {} {}\".format(*ps_h2o),\\\n",
    "         unit=\"bohr\",basis={\"H\":\"pc-2\",'O':bse.get_basis(\"pcX-2\",fmt=\"nwchem\",elements=[8])},charge=1)\n",
    "pH2Omf=scf.RHF(pH2O)\n",
    "pH2Omf.scf(pH2Omf.init_guess_by_1e())"
   ]
  },
  {
   "cell_type": "code",
   "execution_count": 57,
   "metadata": {},
   "outputs": [
    {
     "name": "stdout",
     "output_type": "stream",
     "text": [
      "converged SCF energy = -73.8541070148404\n"
     ]
    },
    {
     "data": {
      "text/plain": [
       "-73.85410701484035"
      ]
     },
     "execution_count": 57,
     "metadata": {},
     "output_type": "execute_result"
    }
   ],
   "source": [
    "pH2Op=FcM(fcs=[-.1,0,0,-.9],atom=oh2srt+\"; H {} {} {}\".format(*ps_h2o),\\\n",
    "         unit=\"bohr\",basis={\"H\":\"pc-2\",'O':bse.get_basis(\"pcX-2\",fmt=\"nwchem\",elements=[8])},charge=1)\n",
    "pH2Omfp=scf.RHF(pH2Op)\n",
    "pH2Omfp.scf(pH2Omfp.init_guess_by_1e())"
   ]
  },
  {
   "cell_type": "code",
   "execution_count": 58,
   "metadata": {},
   "outputs": [
    {
     "name": "stdout",
     "output_type": "stream",
     "text": [
      "converged SCF energy = -78.3219843321534\n"
     ]
    },
    {
     "data": {
      "text/plain": [
       "-78.32198433215336"
      ]
     },
     "execution_count": 58,
     "metadata": {},
     "output_type": "execute_result"
    }
   ],
   "source": [
    "pH2Om=FcM(fcs=[.1,0,0,-1.1],atom=oh2srt+\"; H {} {} {}\".format(*ps_h2o),\\\n",
    "         unit=\"bohr\",basis={\"H\":\"pc-2\",'O':bse.get_basis(\"pcX-2\",fmt=\"nwchem\",elements=[8])},charge=1)\n",
    "pH2Omfm=scf.RHF(pH2Om)\n",
    "pH2Omfm.scf(pH2Omfm.init_guess_by_1e())"
   ]
  },
  {
   "cell_type": "code",
   "execution_count": 59,
   "metadata": {},
   "outputs": [],
   "source": [
    "afph2o=aaff(pH2Omf,[-1,0,0,1])+alc_deriv_grad_nuc(pH2O,[-1,0,0,1])\n",
    "afph2op=aaff(pH2Omfp,[-1,0,0,1])+alc_deriv_grad_nuc(pH2Op,[-1,0,0,1])\n",
    "afph2om=aaff(pH2Omfm,[-1,0,0,1])+alc_deriv_grad_nuc(pH2Om,[-1,0,0,1])"
   ]
  },
  {
   "cell_type": "code",
   "execution_count": 60,
   "metadata": {},
   "outputs": [],
   "source": [
    "afph2ot=afph2o+(afph2op-afph2om)/.2/2+(afph2op+afph2om-2*afph2o)/6/.01"
   ]
  },
  {
   "cell_type": "code",
   "execution_count": 61,
   "metadata": {},
   "outputs": [],
   "source": [
    "pH2Oh=pH2Omf.Hessian().hess()\n",
    "pH2Ohp=pH2Omfp.Hessian().hess()\n",
    "pH2Ohm=pH2Omfm.Hessian().hess()"
   ]
  },
  {
   "cell_type": "code",
   "execution_count": 62,
   "metadata": {},
   "outputs": [],
   "source": [
    "pH2Oht=pH2Oh+(pH2Ohp-pH2Ohm)/.2+(pH2Ohp+pH2Ohm-2*pH2Oh)/2/.01"
   ]
  },
  {
   "cell_type": "code",
   "execution_count": 63,
   "metadata": {},
   "outputs": [],
   "source": [
    "apH2O=AP(pH2Omf,sites=[0,3])\n",
    "apH2O.build_all()\n",
    "apH2Op=AP(pH2Omfp,sites=[0,3])\n",
    "apH2Op.build_all()\n",
    "apH2Om=AP(pH2Omfm,sites=[0,3])\n",
    "apH2Om.build_all()"
   ]
  },
  {
   "cell_type": "code",
   "execution_count": 64,
   "metadata": {},
   "outputs": [],
   "source": [
    "pH2Oet=apH2O.APDFT3([-1,1])+absec(\"O\",\"N\")+(apH2Op.third_deriv([-1,1])-apH2Om.third_deriv([-1,1]))/.2/24+\\\n",
    "       (apH2Op.third_deriv([-1,1])+apH2Om.third_deriv([-1,1])-2*apH2O.third_deriv([-1,1]))/.01/120                   "
   ]
  },
  {
   "cell_type": "code",
   "execution_count": 65,
   "metadata": {},
   "outputs": [
    {
     "name": "stdout",
     "output_type": "stream",
     "text": [
      "[Bond(0, 1, weak=0), Bond(0, 2, weak=0), Bond(0, 3, weak=0), Angle(1, 0, 2, weak=0), Angle(1, 0, 3, weak=0), Angle(2, 0, 3, weak=0)]\n"
     ]
    },
    {
     "data": {
      "text/plain": [
       "(array([1.77559105, 1.77558966, 1.61808131, 1.8569993 , 2.07365537,\n",
       "        2.07365448]),\n",
       " array([1.88000882, 1.88000705, 1.83075698, 1.90961436, 1.90690986,\n",
       "        1.90690844]),\n",
       " -56.217184647461266)"
      ]
     },
     "execution_count": 65,
     "metadata": {},
     "output_type": "execute_result"
    }
   ],
   "source": [
    "mpa_pb_with_energy(pH2O.atom_coords(),['N','H','H','H'],afph2ot,pH2Oht,pH2Oet)"
   ]
  },
  {
   "cell_type": "code",
   "execution_count": 68,
   "metadata": {},
   "outputs": [
    {
     "data": {
      "text/plain": [
       "(109.4128433255758, 109.2578868898827)"
      ]
     },
     "execution_count": 68,
     "metadata": {},
     "output_type": "execute_result"
    }
   ],
   "source": [
    "1.90961436*180/np.pi,1.90690986*180/np.pi"
   ]
  },
  {
   "cell_type": "code",
   "execution_count": 41,
   "metadata": {},
   "outputs": [
    {
     "data": {
      "text/plain": [
       "(109.40709827776404, 109.25531430938256)"
      ]
     },
     "execution_count": 41,
     "metadata": {},
     "output_type": "execute_result"
    }
   ],
   "source": [
    "1.90951409*180/np.pi,1.90686496*180/np.pi"
   ]
  },
  {
   "cell_type": "markdown",
   "metadata": {},
   "source": [
    "#     NH$_3$"
   ]
  },
  {
   "cell_type": "code",
   "execution_count": 42,
   "metadata": {},
   "outputs": [
    {
     "name": "stdout",
     "output_type": "stream",
     "text": [
      "converged SCF energy = -56.2221836357521\n"
     ]
    },
    {
     "data": {
      "text/plain": [
       "-56.22218363575205"
      ]
     },
     "execution_count": 42,
     "metadata": {},
     "output_type": "execute_result"
    }
   ],
   "source": [
    "ch4optg,nh3optg,oh2optg,fhoptg=np.load(\"optgeoms.npy\",allow_pickle=True)\n",
    "nh3lst=[]\n",
    "for x in range(4):\n",
    "    nh3lst.append(\"NHHH\"[x])\n",
    "    nh3lst.extend(nh3optg[x].tolist())\n",
    "nh3srt=((\"{} \"*4+\";\")*4)[:-1].format(*nh3lst)\n",
    "NH3=gto.M(atom=nh3srt,unit=\"bohr\",basis={\"H\":\"pc-2\",'N':bse.get_basis(\"pcX-2\",fmt=\"nwchem\",elements=[7])})\n",
    "mf3 = scf.RHF(NH3)\n",
    "mf3.scf()"
   ]
  },
  {
   "cell_type": "code",
   "execution_count": 43,
   "metadata": {},
   "outputs": [],
   "source": [
    "nh3dm=mf3.make_rdm1()\n",
    "ps_nh3=minimize(Vtot,np.array([0,-1.5,.3]),args=(NH3,nh3dm)).x"
   ]
  },
  {
   "cell_type": "code",
   "execution_count": 44,
   "metadata": {},
   "outputs": [
    {
     "data": {
      "text/plain": [
       "array([-0.83061461, -0.09801929, -1.50548167])"
      ]
     },
     "execution_count": 44,
     "metadata": {},
     "output_type": "execute_result"
    }
   ],
   "source": [
    "ps_nh3"
   ]
  },
  {
   "cell_type": "code",
   "execution_count": 45,
   "metadata": {},
   "outputs": [
    {
     "name": "stdout",
     "output_type": "stream",
     "text": [
      "converged SCF energy = -56.2226233985117\n",
      "converged SCF energy = -58.0803727321716\n",
      "converged SCF energy = -54.4098977434469\n"
     ]
    },
    {
     "data": {
      "text/plain": [
       "-54.40989774344688"
      ]
     },
     "execution_count": 45,
     "metadata": {},
     "output_type": "execute_result"
    }
   ],
   "source": [
    "pNH3=FcM(fcs=[0,0,0,0,-1],atom=nh3srt+\"; H {} {} {} \".format(*ps_nh3),unit=\"bohr\",\\\n",
    "         basis={\"H\":\"pc-2\",'N':bse.get_basis(\"pcX-2\",fmt=\"nwchem\",elements=[7])},charge=1)\n",
    "pNH3p=FcM(fcs=[-.1,0,0,0,-.9],atom=nh3srt+\"; H {} {} {} \".format(*ps_nh3),unit=\"bohr\",\\\n",
    "         basis={\"H\":\"pc-2\",'N':bse.get_basis(\"pcX-2\",fmt=\"nwchem\",elements=[7])},charge=1)\n",
    "pNH3m=FcM(fcs=[.1,0,0,0,-1.1],atom=nh3srt+\"; H {} {} {} \".format(*ps_nh3),unit=\"bohr\",\\\n",
    "         basis={\"H\":\"pc-2\",'N':bse.get_basis(\"pcX-2\",fmt=\"nwchem\",elements=[7])},charge=1)\n",
    "pNH3mf=scf.RHF(pNH3)\n",
    "pNH3mf.scf(dm0=pNH3mf.init_guess_by_1e())\n",
    "pNH3mfm=scf.RHF(pNH3m)\n",
    "pNH3mfm.scf(dm0=pNH3mfm.init_guess_by_1e())\n",
    "pNH3mfp=scf.RHF(pNH3p)\n",
    "pNH3mfp.scf(dm0=pNH3mfp.init_guess_by_1e())"
   ]
  },
  {
   "cell_type": "code",
   "execution_count": 46,
   "metadata": {},
   "outputs": [],
   "source": [
    "NH3h=pNH3mf.Hessian().hess()\n",
    "NH3hp=pNH3mfp.Hessian().hess()\n",
    "NH3hm=pNH3mfm.Hessian().hess()"
   ]
  },
  {
   "cell_type": "code",
   "execution_count": 47,
   "metadata": {},
   "outputs": [],
   "source": [
    "NH3ht=NH3h+(NH3hp-NH3hm)/.2+(NH3hp+NH3hm-2*NH3h)/.01/2"
   ]
  },
  {
   "cell_type": "code",
   "execution_count": 48,
   "metadata": {},
   "outputs": [],
   "source": [
    "apNH3=AP(pNH3mf,sites=[0,4])\n",
    "apNH3.build_all()\n",
    "apNH3p=AP(pNH3mfp,sites=[0,4])\n",
    "apNH3p.build_all()\n",
    "apNH3m=AP(pNH3mfm,sites=[0,4])\n",
    "apNH3m.build_all()"
   ]
  },
  {
   "cell_type": "code",
   "execution_count": 49,
   "metadata": {},
   "outputs": [],
   "source": [
    "NH3et=apNH3.APDFT3([-1,1])+absec(\"N\",\"C\")+(apNH3p.third_deriv([-1,1])-apNH3m.third_deriv([-1,1]))/.2/24+\\\n",
    "    (apNH3p.third_deriv([-1,1])+apNH3m.third_deriv([-1,1])-2*apNH3.third_deriv([-1,1]))/120/.01"
   ]
  },
  {
   "cell_type": "code",
   "execution_count": 50,
   "metadata": {},
   "outputs": [],
   "source": [
    "afpnh3=aaff(pNH3mf,[-1,0,0,0,1])+alc_deriv_grad_nuc(pNH3,[-1,0,0,0,1])\n",
    "afpnh3p=aaff(pNH3mfp,[-1,0,0,0,1])+alc_deriv_grad_nuc(pNH3p,[-1,0,0,0,1])\n",
    "afpnh3m=aaff(pNH3mfm,[-1,0,0,0,1])+alc_deriv_grad_nuc(pNH3m,[-1,0,0,0,1])"
   ]
  },
  {
   "cell_type": "code",
   "execution_count": 51,
   "metadata": {},
   "outputs": [],
   "source": [
    "NH3gt=afpnh3+(afpnh3p-afpnh3m)/.2/2+(afpnh3p+afpnh3m-2*afpnh3)/.01/6"
   ]
  },
  {
   "cell_type": "code",
   "execution_count": 52,
   "metadata": {},
   "outputs": [
    {
     "name": "stdout",
     "output_type": "stream",
     "text": [
      "[Bond(0, 1, weak=0), Bond(0, 2, weak=0), Bond(0, 3, weak=0), Bond(0, 4, weak=0), Angle(1, 0, 2, weak=0), Angle(1, 0, 3, weak=0), Angle(1, 0, 4, weak=0), Angle(2, 0, 3, weak=0), Angle(2, 0, 4, weak=0), Angle(3, 0, 4, weak=0)]\n"
     ]
    },
    {
     "data": {
      "text/plain": [
       "(array([1.88552043, 1.8855208 , 1.88552075, 1.7222089 , 1.88869543,\n",
       "        1.88869544, 1.93209454, 1.88868181, 1.93212302, 1.93206923]),\n",
       " array([2.04782166, 2.04782373, 2.04782299, 1.97750663, 1.9090081 ,\n",
       "        1.90900516, 1.91265353, 1.90898015, 1.91264891, 1.91264958]),\n",
       " -40.21285874630084)"
      ]
     },
     "execution_count": 52,
     "metadata": {},
     "output_type": "execute_result"
    }
   ],
   "source": [
    "mpa_pb_with_energy(pNH3.atom_coords(),['C','H','H','H','H'],NH3gt,NH3ht,NH3et)"
   ]
  },
  {
   "cell_type": "code",
   "execution_count": 53,
   "metadata": {},
   "outputs": [
    {
     "data": {
      "text/plain": [
       "(109.37810661333042, 109.58696691838946)"
      ]
     },
     "execution_count": 53,
     "metadata": {},
     "output_type": "execute_result"
    }
   ],
   "source": [
    "1.90900809*180/np.pi,1.91265339*180/np.pi"
   ]
  },
  {
   "cell_type": "code",
   "execution_count": null,
   "metadata": {},
   "outputs": [],
   "source": []
  }
 ],
 "metadata": {
  "kernelspec": {
   "display_name": "Python 3",
   "language": "python",
   "name": "python3"
  },
  "language_info": {
   "codemirror_mode": {
    "name": "ipython",
    "version": 3
   },
   "file_extension": ".py",
   "mimetype": "text/x-python",
   "name": "python",
   "nbconvert_exporter": "python",
   "pygments_lexer": "ipython3",
   "version": "3.7.3"
  }
 },
 "nbformat": 4,
 "nbformat_minor": 2
}
