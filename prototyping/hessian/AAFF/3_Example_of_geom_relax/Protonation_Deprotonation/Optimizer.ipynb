{
 "cells": [
  {
   "cell_type": "code",
   "execution_count": 3,
   "id": "64911324",
   "metadata": {},
   "outputs": [],
   "source": [
    "from pyscf import scf,gto\n",
    "from pyscf.geomopt.berny_solver import optimize\n",
    "import basis_set_exchange as bse\n",
    "import numpy as np"
   ]
  },
  {
   "cell_type": "code",
   "execution_count": 4,
   "id": "bf3d5af6",
   "metadata": {},
   "outputs": [],
   "source": [
    "pcxbs={\"H\":\"pc-2\",'C':bse.get_basis(\"pcX-2\",fmt=\"nwchem\",elements=[6]),'N':bse.get_basis(\"pcX-2\",fmt=\"nwchem\",elements=[7])\\\n",
    "      ,'O':bse.get_basis(\"pcX-2\",fmt=\"nwchem\",elements=[8]),'F':bse.get_basis(\"pcX-2\",fmt=\"nwchem\",elements=[9])}"
   ]
  },
  {
   "cell_type": "code",
   "execution_count": 5,
   "id": "91c3f64a",
   "metadata": {},
   "outputs": [],
   "source": [
    "CH4=gto.M(atom=\"C 0 0 0; H 2.04 0 -.1; H .5 1.5 -.1; H .5 -1.5 -.1; H 0 0 2.04\",unit=\"Bohr\",basis=pcxbs,verbose=0)\n",
    "NH3=gto.M(atom=\"N 0 0 0; H 2 0 0; H .5 1.5 0; H .5 -1.5 .2\",unit=\"Bohr\",basis=pcxbs,verbose=0)\n",
    "H2O=gto.M(atom=\"O 0 0 0; H 2 0 0; H .5 1.5 0\",unit=\"Bohr\",basis=pcxbs,verbose=0)\n",
    "HF=gto.M(atom=\"F 0 0 0; H 2 0 0\",unit=\"Bohr\",basis=pcxbs,verbose=0)"
   ]
  },
  {
   "cell_type": "code",
   "execution_count": 6,
   "id": "ad028517",
   "metadata": {},
   "outputs": [],
   "source": [
    "CH4scf=scf.RHF(CH4)\n",
    "NH3scf=scf.RHF(NH3)\n",
    "H2Oscf=scf.RHF(H2O)\n",
    "HFscf=scf.RHF(HF)"
   ]
  },
  {
   "cell_type": "code",
   "execution_count": 37,
   "id": "cb40f62c",
   "metadata": {},
   "outputs": [],
   "source": [
    " conv_params = {  \n",
    "            'gradientmax': 0.45e-5,  # Eh/[Bohr|rad]\n",
    "            'gradientrms': 0.15e-5,  # Eh/[Bohr|rad]\n",
    "            'stepmax': 1.8e-4,       # [Bohr|rad]\n",
    "            'steprms': 1.2e-4,       # [Bohr|rad]\n",
    "        }"
   ]
  },
  {
   "cell_type": "code",
   "execution_count": 38,
   "id": "99a31f49",
   "metadata": {},
   "outputs": [],
   "source": [
    "CH4opt=optimize(CH4scf,**conv_params)\n",
    "NH3opt=optimize(NH3scf,**conv_params)\n",
    "H2Oopt=optimize(H2Oscf,**conv_params)\n",
    "HFopt=optimize(HFscf,**conv_params)"
   ]
  },
  {
   "cell_type": "code",
   "execution_count": 39,
   "id": "bf664f43",
   "metadata": {},
   "outputs": [],
   "source": [
    "optgs=((CH4opt.atom_coords()-CH4opt.atom_coords()[0],NH3opt.atom_coords()-NH3opt.atom_coords()[0],H2Oopt.atom_coords()-H2Oopt.atom_coords()[0],HFopt.atom_coords()-HFopt.atom_coords()[0]))"
   ]
  },
  {
   "cell_type": "code",
   "execution_count": 40,
   "id": "d5d0f7c3",
   "metadata": {},
   "outputs": [],
   "source": [
    "np.save(\"optgeoms\",optgs)"
   ]
  },
  {
   "cell_type": "code",
   "execution_count": 41,
   "id": "7d992314",
   "metadata": {},
   "outputs": [
    {
     "data": {
      "text/plain": [
       "array([array([[ 0.00000000e+00,  0.00000000e+00,  0.00000000e+00],\n",
       "              [ 2.04365216e+00, -4.12864839e-12,  2.88325321e-02],\n",
       "              [-6.67626958e-01,  1.66880131e+00, -9.72999663e-01],\n",
       "              [-6.67626958e-01, -1.66880131e+00, -9.72999663e-01],\n",
       "              [-7.08402540e-01,  2.18753828e-11,  1.91716013e+00]]),\n",
       "       array([[ 0.        ,  0.        ,  0.        ],\n",
       "              [ 1.86654855, -0.01597262, -0.26632433],\n",
       "              [-0.45212441,  1.58915037,  0.90850058],\n",
       "              [-0.45006859, -1.45943576,  1.10574591]]),\n",
       "       array([[ 0.        ,  0.        ,  0.        ],\n",
       "              [ 1.73352672, -0.38419879,  0.        ],\n",
       "              [-0.12082414,  1.77147401,  0.        ]]),\n",
       "       array([[0.        , 0.        , 0.        ],\n",
       "              [1.69573887, 0.        , 0.        ]])], dtype=object)"
      ]
     },
     "execution_count": 41,
     "metadata": {},
     "output_type": "execute_result"
    }
   ],
   "source": [
    "np.load(\"optgeoms.npy\",allow_pickle=True)"
   ]
  },
  {
   "cell_type": "code",
   "execution_count": 42,
   "id": "688d2347",
   "metadata": {},
   "outputs": [
    {
     "name": "stdout",
     "output_type": "stream",
     "text": [
      "0.0\n",
      "2.043855535391837\n",
      "2.0438571177507976\n",
      "2.0438571177510663\n",
      "2.0438534958418515\n",
      "0.0\n",
      "1.8855204253782516\n",
      "1.8855208041268563\n",
      "1.885520752933187\n",
      "0.0\n",
      "1.775591054614095\n",
      "1.775589655593952\n",
      "0.0\n",
      "1.6957388734575747\n"
     ]
    }
   ],
   "source": [
    "for j in optgs:\n",
    "    for i in j:\n",
    "        print(np.linalg.norm(i))"
   ]
  },
  {
   "cell_type": "code",
   "execution_count": null,
   "id": "bda1cbc3",
   "metadata": {},
   "outputs": [],
   "source": []
  }
 ],
 "metadata": {
  "kernelspec": {
   "display_name": "Python 3",
   "language": "python",
   "name": "python3"
  },
  "language_info": {
   "codemirror_mode": {
    "name": "ipython",
    "version": 3
   },
   "file_extension": ".py",
   "mimetype": "text/x-python",
   "name": "python",
   "nbconvert_exporter": "python",
   "pygments_lexer": "ipython3",
   "version": "3.8.8"
  }
 },
 "nbformat": 4,
 "nbformat_minor": 5
}
