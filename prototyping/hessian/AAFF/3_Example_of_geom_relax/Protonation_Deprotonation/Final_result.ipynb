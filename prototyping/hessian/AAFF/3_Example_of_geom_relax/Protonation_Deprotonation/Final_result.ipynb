{
 "cells": [
  {
   "cell_type": "code",
   "execution_count": 1,
   "metadata": {},
   "outputs": [],
   "source": [
    "from pyscf import gto,scf\n",
    "import numpy as np \n",
    "from numpy.linalg import norm as norm\n",
    "from scipy.spatial.transform import Rotation as R\n",
    "import matplotlib.pyplot as plt\n",
    "from pyscf.grad import rhf as grhf\n",
    "from pyscf.hessian import rhf as hrhf\n",
    "import basis_set_exchange as bse\n",
    "import copy\n",
    "from berny import Berny, geomlib,Geometry,Math\n",
    "import berny.coords\n",
    "import sys\n",
    "sys.path.append(\"../../Libs/\")\n",
    "from aaff import aaff,alc_deriv_grad_nuc,alc_differential_grad_nuc\n",
    "from FcMole import FcM,FcM_like\n",
    "from alch_deriv_NEW import alch_deriv\n",
    "from Morse import mpa, Morse_interpolator\n",
    "from AP_class import APDFT_perturbator as AP\n",
    "from FDcoeffs import *\n",
    "from ABSE import absec\n",
    "ang2bohr=1.8897261246\n",
    "bohr2ang=.5291772109\n",
    "%load_ext autoreload\n",
    "%autoreload 2\n",
    "from AP_class import APDFT_perturbator as AP"
   ]
  },
  {
   "cell_type": "code",
   "execution_count": 2,
   "metadata": {},
   "outputs": [
    {
     "name": "stdout",
     "output_type": "stream",
     "text": [
      "The autoreload extension is already loaded. To reload it, use:\n",
      "  %reload_ext autoreload\n"
     ]
    }
   ],
   "source": [
    "%load_ext autoreload\n",
    "%autoreload 2\n",
    "from AP_class import APDFT_perturbator as AP"
   ]
  },
  {
   "cell_type": "code",
   "execution_count": 3,
   "metadata": {},
   "outputs": [],
   "source": [
    "def nr_step(ic,g,h):\n",
    "    ncoords=ic.shape[0]*ic.shape[1]\n",
    "    p1cds=ic-np.linalg.solve((np.swapaxes(h,1,2)).reshape(ncoords,ncoords),g.reshape(-1)).reshape(ic.shape[0],ic.shape[1])\n",
    "    p1cds-=p1cds[0]\n",
    "    print (norm(p1cds[1]))\n",
    "    if p1cds.shape[0]>2:\n",
    "        print (anglecenter(p1cds),anglecenter(p1cds)*np.pi/180)\n",
    "    return(p1cds)"
   ]
  },
  {
   "cell_type": "code",
   "execution_count": 4,
   "metadata": {},
   "outputs": [],
   "source": [
    "def build_h_ic(s,g_ic,h0,B_inv):\n",
    "    geom0=s.geom.copy()\n",
    "    B=s.coords.B_matrix(geom0)\n",
    "    bms=[]\n",
    "    for i in range(geom0.coords.flatten().shape[0]):\n",
    "        a=geom0.coords.flatten()\n",
    "        geom1=geom0.copy()\n",
    "        a[i]+=.001*bohr2ang\n",
    "        a=a.reshape(geom0.coords.shape)\n",
    "        geom1.coords=a\n",
    "        bms.append((s.coords.B_matrix(geom1)-B)*1000)\n",
    "    bms_arr=np.asarray(bms)\n",
    "    BpG2=np.einsum('ijk,j->ik',bms,g_ic)\n",
    "    h_ic=B_inv.T@(h0-BpG2)@B_inv\n",
    "    return h_ic\n",
    "\n",
    "ebde=100/627.5 # empirical bond dissociation energy\n",
    "def mpa_pb_with_energy(coords,atoml,g,h,e,ghost=[]):\n",
    "    g=np.asarray(g)\n",
    "    if not len(h.shape)==2:\n",
    "        h=h.swapaxes(1,2)\n",
    "        h=h.reshape(g.shape[0]*3,g.shape[0]*3)\n",
    "    geom0=Geometry(atoml,coords*bohr2ang)\n",
    "    bernyobj=Berny(geom0)\n",
    "    s=bernyobj._state\n",
    "    B = s.coords.B_matrix(geom0)\n",
    "    q0=s.coords.eval_geom(geom0)\n",
    "    B_inv = B.T.dot(Math.pinv(np.dot(B, B.T)))\n",
    "    g_ic=np.dot(B_inv.T, (g).reshape(-1))\n",
    "\n",
    "    h_ic=build_h_ic(s,g_ic,h,B_inv)\n",
    "    bnr=0\n",
    "    dde_mb=0\n",
    "    ddq_mb=np.zeros_like(q0)\n",
    "    for i in range(len(s.coords._coords)):\n",
    "        if s.coords._coords[i].__class__ is berny.coords.Bond:\n",
    "            bnr+=1\n",
    "            if s.coords._coords[i].i not in ghost and s.coords._coords[i].j not in ghost:\n",
    "                MorseInt=Morse_interpolator(g_ic[i],h_ic[i,i],q0[i],ebde,e)\n",
    "                ddq_mb[i]+=MorseInt.re+g_ic[i]/h_ic[i,i]-q0[i]\n",
    "                dde_mb+=MorseInt.e_min-e+1/2*h_ic[i,i]*(MorseInt.re-q0[i])**2\n",
    "    dq_NR=-np.linalg.solve(h_ic,g_ic)\n",
    "    ddq_mb[bnr:]=np.linalg.solve(h_ic[bnr:,bnr:],-h_ic[bnr:,:]@(ddq_mb))\n",
    "    dq_tot=dq_NR+ddq_mb\n",
    "    en_MB=(e-1/2*np.einsum(\"i,ij,j\",dq_tot,h_ic,dq_tot)+dde_mb)\n",
    "    #print (s.coords._coords)\n",
    "    return q0,q0+dq_tot,en_MB\n",
    "    return q0,dq_NR,q0+dq_NR,q0+dq_tot,en_MB"
   ]
  },
  {
   "cell_type": "code",
   "execution_count": 5,
   "metadata": {},
   "outputs": [],
   "source": [
    "ch4optg,nh3optg,oh2optg,hfoptg=np.load(\"optgeoms.npy\")\n",
    "ch4str=(\"C {} {} {}\"+\"; H {} {} {}\"*4)\n",
    "ch4str=ch4str.format(*ch4optg.flatten().tolist())\n",
    "nh3str=(\"N {} {} {}\"+\"; H {} {} {}\"*3)\n",
    "nh3str=nh3str.format(*nh3optg.flatten().tolist())\n",
    "oh2str=(\"O {} {} {}\"+\"; H {} {} {}\"*2)\n",
    "oh2str=oh2str.format(*oh2optg.flatten().tolist())\n",
    "hfstr=(\"F {} {} {} ; H {} {} {}\")\n",
    "hfstr=hfstr.format(*hfoptg.flatten().tolist())"
   ]
  },
  {
   "cell_type": "code",
   "execution_count": 6,
   "metadata": {},
   "outputs": [],
   "source": [
    "pcxbs={\"H\":\"pc-2\",'C':bse.get_basis(\"pcX-2\",fmt=\"nwchem\",elements=[6]),'N':bse.get_basis(\"pcX-2\",fmt=\"nwchem\",elements=[7])\\\n",
    "      ,'O':bse.get_basis(\"pcX-2\",fmt=\"nwchem\",elements=[8]),'F':bse.get_basis(\"pcX-2\",fmt=\"nwchem\",elements=[9])}"
   ]
  },
  {
   "cell_type": "code",
   "execution_count": 74,
   "metadata": {},
   "outputs": [],
   "source": [
    "CH4=gto.M(atom=ch4str,unit=\"Bohr\",basis=pcxbs,verbose=0)\n",
    "NH3=gto.M(atom=nh3str,unit=\"Bohr\",basis=pcxbs,verbose=0)\n",
    "H2O=gto.M(atom=oh2str,unit=\"Bohr\",basis=pcxbs,verbose=0)\n",
    "HF=gto.M(atom=hfstr,unit=\"Bohr\",basis=pcxbs,verbose=0)"
   ]
  },
  {
   "cell_type": "code",
   "execution_count": 8,
   "metadata": {},
   "outputs": [
    {
     "name": "stdout",
     "output_type": "stream",
     "text": [
      "converged SCF energy = -56.2221836146944\n"
     ]
    },
    {
     "data": {
      "text/plain": [
       "-56.22218361469438"
      ]
     },
     "execution_count": 8,
     "metadata": {},
     "output_type": "execute_result"
    }
   ],
   "source": [
    "CH4scf=scf.RHF(CH4)\n",
    "NH3scf=scf.RHF(NH3)\n",
    "H2Oscf=scf.RHF(H2O)\n",
    "HFscf=scf.RHF(HF)\n",
    "NH3scf.scf()"
   ]
  },
  {
   "cell_type": "code",
   "execution_count": 9,
   "metadata": {},
   "outputs": [
    {
     "name": "stderr",
     "output_type": "stream",
     "text": [
      "/home/administrator/anaconda3/lib/python3.7/site-packages/pyscf/gto/mole.py:1072: UserWarning: Function mol.dumps drops attribute with_rinv_at_nucleus because it is not JSON-serializable\n",
      "  warnings.warn(msg)\n"
     ]
    },
    {
     "name": "stdout",
     "output_type": "stream",
     "text": [
      "converged SCF energy = -57.9799514221169\n"
     ]
    },
    {
     "data": {
      "text/plain": [
       "-57.97995142211693"
      ]
     },
     "execution_count": 9,
     "metadata": {},
     "output_type": "execute_result"
    }
   ],
   "source": [
    "phf=scf.RHF(FcM_like(NH3,fcs=[[0,NH3.natm-1],[.1,-.1]]))\n",
    "phf.scf(dm0=phf.init_guess_by_1e())"
   ]
  },
  {
   "cell_type": "code",
   "execution_count": 17,
   "metadata": {},
   "outputs": [
    {
     "data": {
      "text/plain": [
       "array([[-1.64642139,  0.50096783, -0.88077792],\n",
       "       [-0.0701682 ,  0.08371881,  0.24616194],\n",
       "       [ 0.16350338,  0.14946154, -0.15315822],\n",
       "       [ 1.5530862 , -0.73414818,  0.7877742 ]])"
      ]
     },
     "execution_count": 17,
     "metadata": {},
     "output_type": "execute_result"
    }
   ],
   "source": [
    "def dzlist(n):\n",
    "    l=np.zeros(n)\n",
    "    l[0]=1\n",
    "    l[-1]=-1\n",
    "    return l.tolist()\n",
    "aaff(NH3scf,dzlist(NH3.natm))"
   ]
  },
  {
   "cell_type": "code",
   "execution_count": 34,
   "metadata": {},
   "outputs": [],
   "source": [
    "apnh3=AP(NH3scf,sites=[0,3])\n",
    "apnh3.build_all()"
   ]
  },
  {
   "cell_type": "code",
   "execution_count": 35,
   "metadata": {},
   "outputs": [
    {
     "data": {
      "text/plain": [
       "-76.04751832745292"
      ]
     },
     "execution_count": 35,
     "metadata": {},
     "output_type": "execute_result"
    }
   ],
   "source": [
    "apnh3.APDFT3([1,-1])"
   ]
  },
  {
   "cell_type": "code",
   "execution_count": 48,
   "metadata": {},
   "outputs": [
    {
     "data": {
      "text/plain": [
       "0.7036559063261678"
      ]
     },
     "execution_count": 48,
     "metadata": {},
     "output_type": "execute_result"
    }
   ],
   "source": [
    "apnh3.third_deriv([1,-1])"
   ]
  },
  {
   "cell_type": "code",
   "execution_count": 72,
   "metadata": {},
   "outputs": [],
   "source": [
    "def e_g_h_predict(mol):\n",
    "    mf=scf.RHF(mol)\n",
    "    phf=scf.RHF(FcM_like(mol,fcs=[[0,mol.natm-1],[.1,-.1]]))\n",
    "    mhf=scf.RHF(FcM_like(mol,fcs=[[0,mol.natm-1],[-.1,.1]]))\n",
    "    mf.scf()\n",
    "    #phf.scf(dm0=phf.init_guess_by_1e())\n",
    "    #mhf.scf(dm0=mhf.init_guess_by_1e())\n",
    "    g0=mf.Gradients().grad()"
   ]
  },
  {
   "cell_type": "code",
   "execution_count": 73,
   "metadata": {},
   "outputs": [],
   "source": [
    "e_g_h_predict(NH3)"
   ]
  },
  {
   "cell_type": "code",
   "execution_count": 61,
   "metadata": {},
   "outputs": [
    {
     "data": {
      "text/plain": [
       "<bound method class_as_method.<locals>.fn of <pyscf.scf.hf.RHF object at 0x7feecb3626a0>>"
      ]
     },
     "execution_count": 61,
     "metadata": {},
     "output_type": "execute_result"
    }
   ],
   "source": [
    "phf.Gradients()"
   ]
  },
  {
   "cell_type": "code",
   "execution_count": null,
   "metadata": {},
   "outputs": [],
   "source": []
  }
 ],
 "metadata": {
  "kernelspec": {
   "display_name": "Python 3",
   "language": "python",
   "name": "python3"
  },
  "language_info": {
   "codemirror_mode": {
    "name": "ipython",
    "version": 3
   },
   "file_extension": ".py",
   "mimetype": "text/x-python",
   "name": "python",
   "nbconvert_exporter": "python",
   "pygments_lexer": "ipython3",
   "version": "3.7.3"
  }
 },
 "nbformat": 4,
 "nbformat_minor": 2
}
