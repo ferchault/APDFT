{
 "cells": [
  {
   "cell_type": "code",
   "execution_count": 113,
   "metadata": {},
   "outputs": [
    {
     "name": "stdout",
     "output_type": "stream",
     "text": [
      "The autoreload extension is already loaded. To reload it, use:\n",
      "  %reload_ext autoreload\n"
     ]
    }
   ],
   "source": [
    "from pyscf import gto,scf\n",
    "import numpy as np \n",
    "from numpy.linalg import norm as norm\n",
    "from scipy.spatial.transform import Rotation as R\n",
    "import matplotlib.pyplot as plt\n",
    "from pyscf.grad import rhf as grhf\n",
    "from pyscf.hessian import rhf as hrhf\n",
    "import basis_set_exchange as bse\n",
    "import copy\n",
    "from berny import Berny, geomlib,Geometry,Math\n",
    "import berny.coords\n",
    "import sys\n",
    "sys.path.append(\"../../Libs/\")\n",
    "from aaff import aaff,alc_deriv_grad_nuc,alc_differential_grad_nuc\n",
    "from FcMole import FcM,FcM_like\n",
    "from alch_deriv_NEW import alch_deriv\n",
    "from Morse import mpa, Morse_interpolator\n",
    "from AP_class import APDFT_perturbator as AP\n",
    "from FDcoeffs import *\n",
    "from ABSE import absec\n",
    "ang2bohr=1.8897261246\n",
    "bohr2ang=.5291772109\n",
    "%load_ext autoreload\n",
    "%autoreload 2\n",
    "from AP_class import APDFT_perturbator as AP"
   ]
  },
  {
   "cell_type": "code",
   "execution_count": 114,
   "metadata": {},
   "outputs": [
    {
     "name": "stdout",
     "output_type": "stream",
     "text": [
      "The autoreload extension is already loaded. To reload it, use:\n",
      "  %reload_ext autoreload\n"
     ]
    }
   ],
   "source": [
    "%load_ext autoreload\n",
    "%autoreload 2\n",
    "from AP_class import APDFT_perturbator as AP"
   ]
  },
  {
   "cell_type": "code",
   "execution_count": 115,
   "metadata": {},
   "outputs": [],
   "source": [
    "def nr_step(ic,g,h):\n",
    "    ncoords=ic.shape[0]*ic.shape[1]\n",
    "    p1cds=ic-np.linalg.solve((np.swapaxes(h,1,2)).reshape(ncoords,ncoords),g.reshape(-1)).reshape(ic.shape[0],ic.shape[1])\n",
    "    p1cds-=p1cds[0]\n",
    "    print (norm(p1cds[1]))\n",
    "    if p1cds.shape[0]>2:\n",
    "        print (anglecenter(p1cds),anglecenter(p1cds)*np.pi/180)\n",
    "    return(p1cds)\n",
    "def anglecenter(coords):\n",
    "    return np.around(np.arccos(coords[1].dot(coords[2])/norm(coords[1])/norm(coords[2]))*180/np.pi,decimals=3)"
   ]
  },
  {
   "cell_type": "code",
   "execution_count": 162,
   "metadata": {},
   "outputs": [],
   "source": [
    "def build_h_ic(s,g_ic,h0,B_inv):\n",
    "    geom0=s.geom.copy()\n",
    "    B=s.coords.B_matrix(geom0)\n",
    "    bms=[]\n",
    "    for i in range(geom0.coords.flatten().shape[0]):\n",
    "        a=geom0.coords.flatten()\n",
    "        geom1=geom0.copy()\n",
    "        a[i]+=.001*bohr2ang\n",
    "        a=a.reshape(geom0.coords.shape)\n",
    "        geom1.coords=a\n",
    "        bms.append((s.coords.B_matrix(geom1)-B)*1000)\n",
    "    bms_arr=np.asarray(bms)\n",
    "    BpG2=np.einsum('ijk,j->ik',bms,g_ic)\n",
    "    h_ic=B_inv.T@(h0-BpG2)@B_inv\n",
    "    return h_ic\n",
    "\n",
    "ebde=100/627.5 # empirical bond dissociation energy\n",
    "def mpa_pb_with_energy(coords,atoml,g,h,e,ghost=[]):\n",
    "    g=np.asarray(g)\n",
    "    if not len(h.shape)==2:\n",
    "        h=h.swapaxes(1,2)\n",
    "        h=h.reshape(g.shape[0]*3,g.shape[0]*3)\n",
    "    geom0=Geometry(atoml,coords*bohr2ang)\n",
    "    bernyobj=Berny(geom0)\n",
    "    s=bernyobj._state\n",
    "    B = s.coords.B_matrix(geom0)\n",
    "    q0=s.coords.eval_geom(geom0)\n",
    "    B_inv = B.T.dot(Math.pinv(np.dot(B, B.T)))\n",
    "    g_ic=np.dot(B_inv.T, (g).reshape(-1))\n",
    "\n",
    "    h_ic=build_h_ic(s,g_ic,h,B_inv)\n",
    "    bnr=0\n",
    "    dde_mb=0\n",
    "    ddq_mb=np.zeros_like(q0)\n",
    "    for i in range(len(s.coords._coords)):\n",
    "        if s.coords._coords[i].__class__ is berny.coords.Bond:\n",
    "            bnr+=1\n",
    "            if s.coords._coords[i].i not in ghost and s.coords._coords[i].j not in ghost:\n",
    "                MorseInt=Morse_interpolator(g_ic[i],h_ic[i,i],q0[i],ebde,e)\n",
    "                ddq_mb[i]+=MorseInt.re+g_ic[i]/h_ic[i,i]-q0[i]\n",
    "                dde_mb+=MorseInt.e_min-e+1/2*h_ic[i,i]*(MorseInt.re-q0[i])**2\n",
    "    dq_NR=-np.linalg.solve(h_ic,g_ic)\n",
    "    ddq_mb[bnr:]=np.linalg.solve(h_ic[bnr:,bnr:],-h_ic[bnr:,:]@(ddq_mb))\n",
    "    dq_tot=dq_NR+ddq_mb\n",
    "    en_MB=(e-1/2*np.einsum(\"i,ij,j\",dq_tot,h_ic,dq_tot)+dde_mb)\n",
    "    # only for deprot\n",
    "    q0[g.shape[0]-1:]*=180/np.pi\n",
    "    dq_tot[g.shape[0]-1:]*=180/np.pi\n",
    "    return q0,q0+dq_tot,en_MB\n",
    "    "
   ]
  },
  {
   "cell_type": "code",
   "execution_count": 157,
   "metadata": {},
   "outputs": [
    {
     "name": "stdout",
     "output_type": "stream",
     "text": [
      "109.471 2.043855535391837\n",
      "108.214 1.8855204253782516\n",
      "106.398 1.775591054614095\n"
     ]
    }
   ],
   "source": [
    "optgs=np.load(\"optgeoms.npy\",allow_pickle=True)\n",
    "ch4optg,nh3optg,oh2optg,hfoptg=np.load(\"optgeoms.npy\",allow_pickle=True)\n",
    "for i in [ch4optg,nh3optg,oh2optg]:\n",
    "    print(anglecenter(i),norm(i[1]))\n",
    "ch4str=(\"C {} {} {}\"+\"; H {} {} {}\"*4)\n",
    "ch4str=ch4str.format(*ch4optg.flatten().tolist())\n",
    "nh3str=(\"N {} {} {}\"+\"; H {} {} {}\"*3)\n",
    "nh3str=nh3str.format(*nh3optg.flatten().tolist())\n",
    "oh2str=(\"O {} {} {}\"+\"; H {} {} {}\"*2)\n",
    "oh2str=oh2str.format(*oh2optg.flatten().tolist())\n",
    "hfstr=(\"F {} {} {} ; H {} {} {}\")\n",
    "hfstr=hfstr.format(*hfoptg.flatten().tolist())"
   ]
  },
  {
   "cell_type": "code",
   "execution_count": 149,
   "metadata": {
    "scrolled": false
   },
   "outputs": [
    {
     "name": "stdout",
     "output_type": "stream",
     "text": [
      "0.0\n",
      "2.043855535391837\n",
      "2.0438571177507976\n",
      "2.0438571177510663\n",
      "2.0438534958418515\n"
     ]
    }
   ],
   "source": [
    "for i in ch4optg:\n",
    "    print(norm(i))"
   ]
  },
  {
   "cell_type": "code",
   "execution_count": 150,
   "metadata": {},
   "outputs": [],
   "source": [
    "pcxbs={\"H\":\"pc-2\",'C':bse.get_basis(\"pcX-2\",fmt=\"nwchem\",elements=[6]),'N':bse.get_basis(\"pcX-2\",fmt=\"nwchem\",elements=[7])\\\n",
    "      ,'O':bse.get_basis(\"pcX-2\",fmt=\"nwchem\",elements=[8]),'F':bse.get_basis(\"pcX-2\",fmt=\"nwchem\",elements=[9])}"
   ]
  },
  {
   "cell_type": "code",
   "execution_count": 151,
   "metadata": {},
   "outputs": [],
   "source": [
    "CH4=gto.M(atom=ch4str,unit=\"Bohr\",basis=pcxbs,verbose=0)\n",
    "NH3=gto.M(atom=nh3str,unit=\"Bohr\",basis=pcxbs,verbose=0)\n",
    "H2O=gto.M(atom=oh2str,unit=\"Bohr\",basis=pcxbs,verbose=0)\n",
    "HF=gto.M(atom=hfstr,unit=\"Bohr\",basis=pcxbs,verbose=0)"
   ]
  },
  {
   "cell_type": "code",
   "execution_count": 156,
   "metadata": {},
   "outputs": [
    {
     "data": {
      "text/plain": [
       "[-40.21518040349943,\n",
       " -56.22218363575204,\n",
       " -76.06331933366663,\n",
       " -100.06554016873311]"
      ]
     },
     "execution_count": 156,
     "metadata": {},
     "output_type": "execute_result"
    }
   ],
   "source": [
    "CH4scf=scf.RHF(CH4)\n",
    "NH3scf=scf.RHF(NH3)\n",
    "H2Oscf=scf.RHF(H2O)\n",
    "HFscf=scf.RHF(HF)\n",
    "[CH4scf.scf(),NH3scf.scf(),H2Oscf.scf(),HFscf.scf()]"
   ]
  },
  {
   "cell_type": "code",
   "execution_count": 161,
   "metadata": {},
   "outputs": [
    {
     "data": {
      "text/plain": [
       "([2.043855535391837,\n",
       "  1.8855204253782516,\n",
       "  1.775591054614095,\n",
       "  1.6957388734575747],\n",
       " [109.471, 108.214, 106.398])"
      ]
     },
     "execution_count": 161,
     "metadata": {},
     "output_type": "execute_result"
    }
   ],
   "source": [
    "[norm(i[1]) for i in optgs],[anglecenter(i) for i in optgs[:-1]]"
   ]
  },
  {
   "cell_type": "code",
   "execution_count": 153,
   "metadata": {},
   "outputs": [
    {
     "data": {
      "text/plain": [
       "-76.0566737693386"
      ]
     },
     "execution_count": 153,
     "metadata": {},
     "output_type": "execute_result"
    }
   ],
   "source": [
    "phf=scf.RHF(FcM_like(NH3,fcs=[[0,NH3.natm-1],[1,-1]]))\n",
    "phf.scf(dm0=phf.init_guess_by_1e())"
   ]
  },
  {
   "cell_type": "code",
   "execution_count": 154,
   "metadata": {},
   "outputs": [
    {
     "data": {
      "text/plain": [
       "array([[-6.62394403e-01, -1.59408708e+00,  8.70661696e-01],\n",
       "       [ 2.60037227e-01, -7.00695605e-02,  1.22957382e-03],\n",
       "       [-9.47212099e-02,  1.75514410e-01,  1.80977849e-01],\n",
       "       [ 4.97078387e-01,  1.48864223e+00, -1.05286912e+00]])"
      ]
     },
     "execution_count": 154,
     "metadata": {},
     "output_type": "execute_result"
    }
   ],
   "source": [
    "def dzlist(n):\n",
    "    l=np.zeros(n)\n",
    "    l[0]=1\n",
    "    l[-1]=-1\n",
    "    return l.tolist()\n",
    "aaff(NH3scf,dzlist(NH3.natm))"
   ]
  },
  {
   "cell_type": "code",
   "execution_count": 155,
   "metadata": {},
   "outputs": [],
   "source": [
    "apnh3=AP(NH3scf,sites=[0,3])\n",
    "apnh3.build_all()"
   ]
  },
  {
   "cell_type": "code",
   "execution_count": 125,
   "metadata": {},
   "outputs": [
    {
     "data": {
      "text/plain": [
       "-76.04751220000706"
      ]
     },
     "execution_count": 125,
     "metadata": {},
     "output_type": "execute_result"
    }
   ],
   "source": [
    "apnh3.APDFT3([1,-1])"
   ]
  },
  {
   "cell_type": "code",
   "execution_count": 126,
   "metadata": {},
   "outputs": [
    {
     "data": {
      "text/plain": [
       "0.7036652791070789"
      ]
     },
     "execution_count": 126,
     "metadata": {},
     "output_type": "execute_result"
    }
   ],
   "source": [
    "apnh3.third_deriv([1,-1])"
   ]
  },
  {
   "cell_type": "code",
   "execution_count": 127,
   "metadata": {},
   "outputs": [],
   "source": [
    "def e_g_h_predict(mol):\n",
    "    ds=mol.natm-1\n",
    "    hf=scf.RHF(mol)\n",
    "    hfp=scf.RHF(FcM_like(mol,fcs=[[0,ds],[.1,-.1]]))\n",
    "    hfm=scf.RHF(FcM_like(mol,fcs=[[0,ds],[-.1,.1]]))\n",
    "    hf.scf()\n",
    "    hfp.scf(dm0=hfp.init_guess_by_1e())\n",
    "    hfm.scf(dm0=hfm.init_guess_by_1e())\n",
    "    # energy prediction \n",
    "    ap0=AP(hf,sites=[0,ds])\n",
    "    ap0.build_all()\n",
    "    app=AP(hfp,sites=[0,ds])\n",
    "    app.build_all()    \n",
    "    apm=AP(hfm,sites=[0,ds])\n",
    "    apm.build_all()\n",
    "    E_p=ap0.APDFT3([1,-1])+(app.third_deriv([1,-1])-apm.third_deriv([1,-1]))/.2/24 \\\n",
    "                +(app.third_deriv([1,-1])+apm.third_deriv([1,-1])-2*ap0.third_deriv([1,-1])) /.01/120\n",
    "    \n",
    "    #gradient prediction\n",
    "    g0=hf.Gradients().grad()\n",
    "    af0=aaff(hf,dzlist(mol.natm))\n",
    "    afp=aaff(hfp,dzlist(mol.natm))\n",
    "    afm=aaff(hfm,dzlist(mol.natm))\n",
    "    G_p=g0+af0+(afp-afm)/.2/2+(afp+afm-2*af0)/.01/6+alc_differential_grad_nuc(mol, dzlist(mol.natm))\n",
    "    G_p[0]+=G_p[-1]  # clearing ghost atom component\n",
    "    G_p=G_p[:-1]\n",
    "    \n",
    "    #Hessian prediction\n",
    "    H0=hf.Hessian().hess()\n",
    "    Hp=hfp.Hessian().hess()\n",
    "    Hm=hfm.Hessian().hess()\n",
    "    H_pred=H0+(Hp-Hm)/.2+(Hp+Hm-2*H0)/.01/2\n",
    "    H_pred=H_pred[:-1,:-1,:,:]\n",
    "    return mol.atom_coords()[:-1],[mol.atom_pure_symbol(x) for x in range(ds)] ,G_p,H_pred,E_p"
   ]
  },
  {
   "cell_type": "code",
   "execution_count": 128,
   "metadata": {},
   "outputs": [
    {
     "data": {
      "text/plain": [
       "['N', 'H', 'H', 'H']"
      ]
     },
     "execution_count": 128,
     "metadata": {},
     "output_type": "execute_result"
    }
   ],
   "source": [
    "[NH3.atom_pure_symbol(x) for x in range(NH3.natm)]"
   ]
  },
  {
   "cell_type": "code",
   "execution_count": 163,
   "metadata": {},
   "outputs": [
    {
     "data": {
      "text/plain": [
       "(array([  2.04385554,   2.04385712,   2.04385712, 109.47124618,\n",
       "        109.47124618, 109.47111993]),\n",
       " array([  1.87851895,   1.87852176,   1.87852775, 109.90195441,\n",
       "        109.90195652, 109.90184832]),\n",
       " -56.22772108399102)"
      ]
     },
     "execution_count": 163,
     "metadata": {},
     "output_type": "execute_result"
    }
   ],
   "source": [
    "mpa_pb_with_energy(*e_g_h_predict(CH4))"
   ]
  },
  {
   "cell_type": "code",
   "execution_count": 141,
   "metadata": {},
   "outputs": [
    {
     "data": {
      "text/plain": [
       "-56.228208079204336"
      ]
     },
     "execution_count": 141,
     "metadata": {},
     "output_type": "execute_result"
    }
   ],
   "source": [
    "-56.227721083995064+absec(\"C\",\"N\")"
   ]
  },
  {
   "cell_type": "code",
   "execution_count": 164,
   "metadata": {},
   "outputs": [
    {
     "data": {
      "text/plain": [
       "(array([  1.88552043,   1.8855208 , 108.21427696]),\n",
       " array([  1.77743108,   1.7774306 , 107.04721616]),\n",
       " -76.06948141614552)"
      ]
     },
     "execution_count": 164,
     "metadata": {},
     "output_type": "execute_result"
    }
   ],
   "source": [
    "mpa_pb_with_energy(*e_g_h_predict(NH3))"
   ]
  },
  {
   "cell_type": "code",
   "execution_count": 140,
   "metadata": {},
   "outputs": [
    {
     "data": {
      "text/plain": [
       "-76.07004886303703"
      ]
     },
     "execution_count": 140,
     "metadata": {},
     "output_type": "execute_result"
    }
   ],
   "source": [
    "-76.06948141614544+absec(\"N\",\"O\")"
   ]
  },
  {
   "cell_type": "code",
   "execution_count": 143,
   "metadata": {},
   "outputs": [
    {
     "data": {
      "text/plain": [
       "(array([1.77559105]), array([1.69304669]), -100.07191544872327)"
      ]
     },
     "execution_count": 143,
     "metadata": {},
     "output_type": "execute_result"
    }
   ],
   "source": [
    "mpa_pb_with_energy(*e_g_h_predict(H2O))"
   ]
  },
  {
   "cell_type": "code",
   "execution_count": 138,
   "metadata": {},
   "outputs": [
    {
     "data": {
      "text/plain": [
       "-100.07271455687518"
      ]
     },
     "execution_count": 138,
     "metadata": {},
     "output_type": "execute_result"
    }
   ],
   "source": [
    "-100.07191544872308+absec(\"O\",\"F\")"
   ]
  },
  {
   "cell_type": "code",
   "execution_count": null,
   "metadata": {},
   "outputs": [],
   "source": []
  }
 ],
 "metadata": {
  "kernelspec": {
   "display_name": "Python 3",
   "language": "python",
   "name": "python3"
  },
  "language_info": {
   "codemirror_mode": {
    "name": "ipython",
    "version": 3
   },
   "file_extension": ".py",
   "mimetype": "text/x-python",
   "name": "python",
   "nbconvert_exporter": "python",
   "pygments_lexer": "ipython3",
   "version": "3.7.3"
  }
 },
 "nbformat": 4,
 "nbformat_minor": 2
}
