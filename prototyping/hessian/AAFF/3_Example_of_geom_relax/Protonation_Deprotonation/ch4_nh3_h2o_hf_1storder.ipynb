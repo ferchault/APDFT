{
 "cells": [
  {
   "cell_type": "code",
   "execution_count": 41,
   "metadata": {},
   "outputs": [],
   "source": [
    "from aaff import aaff,alc_deriv_grad_nuc,alc_differential_grad_nuc\n",
    "from berny import Berny, geomlib, coords,Geometry,Math\n",
    "from FcMole import FcM,FcM_like\n",
    "from AP_class import APDFT_perturbator\n",
    "from alch_deriv import alch_deriv\n",
    "from pyscf import gto,scf\n",
    "import numpy as np \n",
    "from numpy import dot,log\n",
    "from numpy.linalg import norm as norm\n",
    "import matplotlib.pyplot as plt\n",
    "from pyscf.grad import rhf as grhf\n",
    "from pyscf.hessian import rhf as hrhf\n",
    "from pyscf.geomopt.berny_solver import to_berny_geom as tbg\n",
    "import basis_set_exchange as bse\n",
    "from FDcoeffs import *\n",
    "from pyscf.geomopt.berny_solver import optimize\n",
    "ang2bohr=1.8897261246\n",
    "bohr2ang=.5291772109\n",
    "np.set_printoptions(precision=3)"
   ]
  },
  {
   "cell_type": "code",
   "execution_count": 2,
   "metadata": {},
   "outputs": [],
   "source": [
    "import ipyvolume as ipv\n",
    "from mpl_toolkits.mplot3d import Axes3D"
   ]
  },
  {
   "cell_type": "code",
   "execution_count": 25,
   "metadata": {},
   "outputs": [],
   "source": [
    "def anglecenter(coords):\n",
    "    return np.around(np.arccos(coords[1].dot(coords[2])/norm(coords[1])/norm(coords[2]))*180/np.pi,decimals=3)"
   ]
  },
  {
   "cell_type": "code",
   "execution_count": 3,
   "metadata": {},
   "outputs": [],
   "source": [
    "l=3.3376\n",
    "x=-(1/24)**.5*l\n",
    "z=(2/3)**.5*l+x\n",
    "ch4str=\"C 0 0 0; H 0 0  {}; H  0  {} {}; H {} {} {}; H {} {} {}\".format(z,l/3**.5,x,l/2,-l*3**.5/6,x,-l/2,-l*3**.5/6,x)"
   ]
  },
  {
   "cell_type": "code",
   "execution_count": 4,
   "metadata": {},
   "outputs": [
    {
     "name": "stdout",
     "output_type": "stream",
     "text": [
      "converged SCF energy = -40.2151804034983\n"
     ]
    },
    {
     "data": {
      "text/plain": [
       "-40.215180403498316"
      ]
     },
     "execution_count": 4,
     "metadata": {},
     "output_type": "execute_result"
    }
   ],
   "source": [
    "CH4=gto.M(atom=ch4str,unit=\"bohr\",basis={\"H\":\"pc-2\",'C':bse.get_basis(\"pcX-2\",fmt=\"nwchem\",elements=[6])})\n",
    "mf = scf.RHF(CH4)\n",
    "mf.scf()"
   ]
  },
  {
   "cell_type": "code",
   "execution_count": 5,
   "metadata": {},
   "outputs": [
    {
     "name": "stdout",
     "output_type": "stream",
     "text": [
      "--------------- RHF gradients ---------------\n",
      "         x                y                z\n",
      "0 C     0.0000000000     0.0000000000    -0.0000000000\n",
      "1 H     0.0000000000     0.0000000000    -0.0000007926\n",
      "2 H     0.0000000000    -0.0000007473     0.0000002642\n",
      "3 H    -0.0000006472     0.0000003736     0.0000002642\n",
      "4 H     0.0000006472     0.0000003736     0.0000002642\n",
      "----------------------------------------------\n"
     ]
    }
   ],
   "source": [
    "g0=mf.Gradients().grad()"
   ]
  },
  {
   "cell_type": "code",
   "execution_count": 6,
   "metadata": {},
   "outputs": [],
   "source": [
    "h0=mf.Hessian().hess()"
   ]
  },
  {
   "cell_type": "code",
   "execution_count": 7,
   "metadata": {},
   "outputs": [],
   "source": [
    "ch4coords=CH4.atom_coords()"
   ]
  },
  {
   "cell_type": "code",
   "execution_count": 8,
   "metadata": {},
   "outputs": [],
   "source": [
    "afC=aaff(mf,[1,0,0,0,0])+alc_deriv_grad_nuc(CH4,[1,0,0,0,0])\n",
    "afH1=aaff(mf,[0,0,0,0,-1])+alc_deriv_grad_nuc(CH4,[0,0,0,0,-1])\n",
    "afH2=aaff(mf,[0,0,0,-1,0])+alc_deriv_grad_nuc(CH4,[0,0,0,-1,0])\n",
    "afH3=aaff(mf,[0,0,-1,0,0])+alc_deriv_grad_nuc(CH4,[0,0,-1,0,0])"
   ]
  },
  {
   "cell_type": "code",
   "execution_count": 9,
   "metadata": {},
   "outputs": [
    {
     "data": {
      "text/plain": [
       "array([[-0.02541652, -0.01467424, -0.01037625],\n",
       "       [-0.01250345, -0.00721887, -0.01100032],\n",
       "       [-0.01250345, -0.01277749, -0.00313924],\n",
       "       [-0.01731736, -0.00443956, -0.00313924],\n",
       "       [ 0.06774078,  0.03911016,  0.02765506]])"
      ]
     },
     "execution_count": 9,
     "metadata": {},
     "output_type": "execute_result"
    }
   ],
   "source": [
    "afH1"
   ]
  },
  {
   "cell_type": "code",
   "execution_count": 10,
   "metadata": {},
   "outputs": [
    {
     "name": "stdout",
     "output_type": "stream",
     "text": [
      "0.03112875636394686\n",
      "0.06943666146071746\n",
      "0.06943666146069727\n",
      "0.06943666146071918\n",
      "0.0040457755480539925\n"
     ]
    }
   ],
   "source": [
    "for i in (afH1+afC):\n",
    "    print(norm(i))"
   ]
  },
  {
   "cell_type": "code",
   "execution_count": 11,
   "metadata": {},
   "outputs": [
    {
     "name": "stdout",
     "output_type": "stream",
     "text": [
      "1.0345685841811765\n",
      "0.37597489317648214\n",
      "0.375974893176569\n",
      "0.37597489317647736\n",
      "0.37597489317651916\n"
     ]
    }
   ],
   "source": [
    "for i in range(5):\n",
    "    print(norm(h0[i,i]))"
   ]
  },
  {
   "cell_type": "code",
   "execution_count": 12,
   "metadata": {},
   "outputs": [
    {
     "data": {
      "text/plain": [
       "0.006824285336527222"
      ]
     },
     "execution_count": 12,
     "metadata": {},
     "output_type": "execute_result"
    }
   ],
   "source": [
    ".37597489317647576*.01815090704294456"
   ]
  },
  {
   "cell_type": "code",
   "execution_count": 13,
   "metadata": {},
   "outputs": [
    {
     "data": {
      "text/plain": [
       "array([[-0.02541652, -0.01467424, -0.01037625],\n",
       "       [-0.01250345, -0.00721887, -0.01100032],\n",
       "       [-0.01250345, -0.01277749, -0.00313924],\n",
       "       [-0.01731736, -0.00443956, -0.00313924],\n",
       "       [ 0.06774078,  0.03911016,  0.02765506]])"
      ]
     },
     "execution_count": 13,
     "metadata": {},
     "output_type": "execute_result"
    }
   ],
   "source": [
    "afH1"
   ]
  },
  {
   "cell_type": "code",
   "execution_count": 14,
   "metadata": {},
   "outputs": [
    {
     "name": "stdout",
     "output_type": "stream",
     "text": [
      "0.031128756363930567\n",
      "0.018150907042928623\n",
      "0.018150907042942047\n",
      "0.018150907042941075\n",
      "0.0829651766432179\n"
     ]
    }
   ],
   "source": [
    "for i in afH1:\n",
    "    print(norm(i))"
   ]
  },
  {
   "cell_type": "code",
   "execution_count": 80,
   "metadata": {},
   "outputs": [
    {
     "data": {
      "text/plain": [
       "{'geom': <Geometry 'CH4'>,\n",
       " 'params': {'gradientmax': 0.00045,\n",
       "  'gradientrms': 0.00015,\n",
       "  'stepmax': 0.0018,\n",
       "  'steprms': 0.0012,\n",
       "  'trust': 0.3,\n",
       "  'dihedral': True,\n",
       "  'superweakdih': False},\n",
       " 'trust': 0.3,\n",
       " 'coords': <InternalCoords \"bonds: 4, angles: 6, dihedrals: 0\">,\n",
       " 'H': array([[0.478, 0.   , 0.   , 0.   , 0.   , 0.   , 0.   , 0.   , 0.   ,\n",
       "         0.   ],\n",
       "        [0.   , 0.478, 0.   , 0.   , 0.   , 0.   , 0.   , 0.   , 0.   ,\n",
       "         0.   ],\n",
       "        [0.   , 0.   , 0.478, 0.   , 0.   , 0.   , 0.   , 0.   , 0.   ,\n",
       "         0.   ],\n",
       "        [0.   , 0.   , 0.   , 0.478, 0.   , 0.   , 0.   , 0.   , 0.   ,\n",
       "         0.   ],\n",
       "        [0.   , 0.   , 0.   , 0.   , 0.169, 0.   , 0.   , 0.   , 0.   ,\n",
       "         0.   ],\n",
       "        [0.   , 0.   , 0.   , 0.   , 0.   , 0.169, 0.   , 0.   , 0.   ,\n",
       "         0.   ],\n",
       "        [0.   , 0.   , 0.   , 0.   , 0.   , 0.   , 0.169, 0.   , 0.   ,\n",
       "         0.   ],\n",
       "        [0.   , 0.   , 0.   , 0.   , 0.   , 0.   , 0.   , 0.169, 0.   ,\n",
       "         0.   ],\n",
       "        [0.   , 0.   , 0.   , 0.   , 0.   , 0.   , 0.   , 0.   , 0.169,\n",
       "         0.   ],\n",
       "        [0.   , 0.   , 0.   , 0.   , 0.   , 0.   , 0.   , 0.   , 0.   ,\n",
       "         0.169]]),\n",
       " 'weights': array([1.061, 1.061, 1.061, 1.061, 1.008, 1.008, 1.008, 1.008, 1.008,\n",
       "        1.008]),\n",
       " 'future': Point(q=array([2.044, 2.044, 2.044, 2.044, 1.911, 1.911, 1.911, 1.911, 1.911,\n",
       "        1.911]), E=None, g=None),\n",
       " 'first': True}"
      ]
     },
     "execution_count": 80,
     "metadata": {},
     "output_type": "execute_result"
    }
   ],
   "source": [
    "bch4=Berny(tbg(CH4))\n",
    "s=bch4._state\n",
    "vars(s)"
   ]
  },
  {
   "cell_type": "code",
   "execution_count": 81,
   "metadata": {},
   "outputs": [],
   "source": [
    "Q=s.future.q"
   ]
  },
  {
   "cell_type": "code",
   "execution_count": 82,
   "metadata": {},
   "outputs": [],
   "source": [
    "#come trasforma g in coordinate interne???\n",
    "B = s.coords.B_matrix(s.geom)\n",
    "B_inv = B.T.dot(Math.pinv(np.dot(B, B.T), log=log))\n",
    "g_ic=dot(B_inv.T, (afH1+afC).reshape(-1))"
   ]
  },
  {
   "cell_type": "code",
   "execution_count": 83,
   "metadata": {},
   "outputs": [
    {
     "data": {
      "text/plain": [
       "array([ 0.068,  0.068,  0.068, -0.004,  0.015,  0.015, -0.015,  0.015,\n",
       "       -0.015, -0.015])"
      ]
     },
     "execution_count": 83,
     "metadata": {},
     "output_type": "execute_result"
    }
   ],
   "source": [
    "g_ic"
   ]
  },
  {
   "cell_type": "code",
   "execution_count": 84,
   "metadata": {},
   "outputs": [
    {
     "data": {
      "text/plain": [
       "array([0.369, 0.369, 0.369, 0.369, 0.12 , 0.12 , 0.12 , 0.12 , 0.12 ,\n",
       "       0.12 ])"
      ]
     },
     "execution_count": 84,
     "metadata": {},
     "output_type": "execute_result"
    }
   ],
   "source": [
    "h_ic.diagonal()"
   ]
  },
  {
   "cell_type": "code",
   "execution_count": 85,
   "metadata": {},
   "outputs": [
    {
     "data": {
      "text/plain": [
       "array([-0.184, -0.184, -0.184,  0.011, -0.123, -0.123,  0.123, -0.123,\n",
       "        0.123,  0.123])"
      ]
     },
     "execution_count": 85,
     "metadata": {},
     "output_type": "execute_result"
    }
   ],
   "source": [
    "-g_ic/h_ic.diagonal()"
   ]
  },
  {
   "cell_type": "code",
   "execution_count": 86,
   "metadata": {},
   "outputs": [],
   "source": [
    "s.H=h_ic"
   ]
  },
  {
   "cell_type": "code",
   "execution_count": 87,
   "metadata": {},
   "outputs": [],
   "source": [
    "bch4.send((1.,afH1+afC))"
   ]
  },
  {
   "cell_type": "code",
   "execution_count": 88,
   "metadata": {},
   "outputs": [
    {
     "data": {
      "text/plain": [
       "array([-0.149, -0.149, -0.149,  0.004, -0.062, -0.062,  0.062, -0.062,\n",
       "        0.062,  0.062])"
      ]
     },
     "execution_count": 88,
     "metadata": {},
     "output_type": "execute_result"
    }
   ],
   "source": [
    "bch4._state.predicted.q-bch4._state.previous.q"
   ]
  },
  {
   "cell_type": "code",
   "execution_count": 78,
   "metadata": {},
   "outputs": [
    {
     "data": {
      "text/plain": [
       "array([-0.149, -0.149, -0.149,  0.004, -0.062, -0.062,  0.062, -0.062,\n",
       "        0.062,  0.062])"
      ]
     },
     "execution_count": 78,
     "metadata": {},
     "output_type": "execute_result"
    }
   ],
   "source": [
    "bch4._state.predicted.q-bch4._state.previous.q"
   ]
  },
  {
   "cell_type": "code",
   "execution_count": 77,
   "metadata": {},
   "outputs": [
    {
     "data": {
      "text/plain": [
       "105.88260054017614"
      ]
     },
     "execution_count": 77,
     "metadata": {},
     "output_type": "execute_result"
    }
   ],
   "source": [
    "1.848*180/np.pi"
   ]
  },
  {
   "cell_type": "code",
   "execution_count": 43,
   "metadata": {
    "scrolled": true
   },
   "outputs": [
    {
     "data": {
      "text/plain": [
       "array([[ 0.   ,  0.   , -1.   ,  0.   ,  0.   ,  1.   ,  0.   ,  0.   ,\n",
       "         0.   ,  0.   ,  0.   ,  0.   ,  0.   ,  0.   ,  0.   ],\n",
       "       [ 0.   , -0.943,  0.333,  0.   ,  0.   ,  0.   ,  0.   ,  0.943,\n",
       "        -0.333,  0.   ,  0.   ,  0.   ,  0.   ,  0.   ,  0.   ],\n",
       "       [-0.816,  0.471,  0.333,  0.   ,  0.   ,  0.   ,  0.   ,  0.   ,\n",
       "         0.   ,  0.816, -0.471, -0.333,  0.   ,  0.   ,  0.   ],\n",
       "       [ 0.816,  0.471,  0.333,  0.   ,  0.   ,  0.   ,  0.   ,  0.   ,\n",
       "         0.   ,  0.   ,  0.   ,  0.   , -0.816, -0.471, -0.333],\n",
       "       [ 0.   ,  0.652,  0.461,  0.   , -0.489,  0.   ,  0.   , -0.163,\n",
       "        -0.461,  0.   ,  0.   ,  0.   ,  0.   ,  0.   ,  0.   ],\n",
       "       [ 0.565, -0.326,  0.461, -0.424,  0.245,  0.   ,  0.   ,  0.   ,\n",
       "         0.   , -0.141,  0.082, -0.461,  0.   ,  0.   ,  0.   ],\n",
       "       [-0.565, -0.326,  0.461,  0.424,  0.245,  0.   ,  0.   ,  0.   ,\n",
       "         0.   ,  0.   ,  0.   ,  0.   ,  0.141,  0.082, -0.461],\n",
       "       [ 0.565,  0.326, -0.461,  0.   ,  0.   ,  0.   , -0.424,  0.082,\n",
       "         0.231, -0.141, -0.408,  0.231,  0.   ,  0.   ,  0.   ],\n",
       "       [-0.565,  0.326, -0.461,  0.   ,  0.   ,  0.   ,  0.424,  0.082,\n",
       "         0.231,  0.   ,  0.   ,  0.   ,  0.141, -0.408,  0.231],\n",
       "       [ 0.   , -0.652, -0.461,  0.   ,  0.   ,  0.   ,  0.   ,  0.   ,\n",
       "         0.   ,  0.282,  0.326,  0.231, -0.282,  0.326,  0.231]])"
      ]
     },
     "execution_count": 43,
     "metadata": {},
     "output_type": "execute_result"
    }
   ],
   "source": [
    "B"
   ]
  },
  {
   "cell_type": "code",
   "execution_count": 48,
   "metadata": {},
   "outputs": [],
   "source": [
    "#come posso trasformare H in coordinate interne??\n",
    "h_ic=dot(B_inv.T,(np.swapaxes(h0,1,2)).reshape(15,15)).dot(B_inv)"
   ]
  },
  {
   "cell_type": "code",
   "execution_count": 27,
   "metadata": {},
   "outputs": [
    {
     "data": {
      "text/plain": [
       "1.9106293854507124"
      ]
     },
     "execution_count": 27,
     "metadata": {},
     "output_type": "execute_result"
    }
   ],
   "source": [
    "anglecenter(CH4.atom_coords())/180*np.pi"
   ]
  },
  {
   "cell_type": "code",
   "execution_count": 51,
   "metadata": {},
   "outputs": [
    {
     "data": {
      "text/plain": [
       "array([2.044, 2.044, 2.044, 2.044, 1.911, 1.911, 1.911, 1.911, 1.911,\n",
       "       1.911])"
      ]
     },
     "execution_count": 51,
     "metadata": {},
     "output_type": "execute_result"
    }
   ],
   "source": [
    "Q"
   ]
  },
  {
   "cell_type": "code",
   "execution_count": 57,
   "metadata": {},
   "outputs": [
    {
     "data": {
      "text/plain": [
       "array([-0.031, -0.024, -0.031, -0.21 , -0.125, -0.188, -0.25 ,  0.   ,\n",
       "       -0.25 , -0.312])"
      ]
     },
     "execution_count": 57,
     "metadata": {},
     "output_type": "execute_result"
    }
   ],
   "source": [
    "np.linalg.inv(h_ic).dot(g_ic)"
   ]
  },
  {
   "cell_type": "code",
   "execution_count": 94,
   "metadata": {},
   "outputs": [
    {
     "data": {
      "text/plain": [
       "array([0.369, 0.369, 0.369, 0.369, 0.12 , 0.12 , 0.12 , 0.12 , 0.12 ,\n",
       "       0.12 ])"
      ]
     },
     "execution_count": 94,
     "metadata": {},
     "output_type": "execute_result"
    }
   ],
   "source": [
    "h_ic.diagonal()"
   ]
  },
  {
   "cell_type": "code",
   "execution_count": 93,
   "metadata": {},
   "outputs": [
    {
     "data": {
      "text/plain": [
       "(array([ 3.784e-01,  8.944e-01,  8.944e-01,  8.944e-01,  1.359e-01,\n",
       "         1.359e-01,  1.359e-01,  1.060e-01,  1.060e-01,  4.535e-12,\n",
       "        -1.041e-11, -4.951e-11, -4.021e-07, -4.021e-07, -4.021e-07]),\n",
       " array([[-7.332e-13,  9.353e-03,  8.024e-01, -1.582e-02, -3.751e-01,\n",
       "         -1.117e-01,  5.184e-02,  5.053e-11,  3.906e-11, -1.791e-01,\n",
       "          4.078e-01,  3.997e-02,  5.510e-06, -2.280e-05,  6.131e-06],\n",
       "        [-1.104e-12, -8.021e-01,  8.825e-03, -2.684e-02, -6.551e-02,\n",
       "          4.027e-02, -3.872e-01, -5.341e-11, -4.136e-11, -4.090e-01,\n",
       "         -1.805e-01,  9.814e-03,  9.999e-06,  1.013e-05,  1.115e-05],\n",
       "        [-4.894e-12,  2.665e-02, -1.611e-02, -8.020e-01, -1.043e-01,\n",
       "          3.765e-01,  5.680e-02,  9.705e-13,  1.013e-12, -2.508e-02,\n",
       "          3.263e-02, -4.453e-01, -2.736e-06,  2.176e-06, -3.053e-06],\n",
       "        [ 2.379e-12, -5.197e-04, -4.458e-02,  8.788e-04,  3.952e-01,\n",
       "          1.177e-01, -5.461e-02,  2.969e-01, -3.915e-01, -1.791e-01,\n",
       "          4.079e-01,  3.997e-02, -4.524e-01,  3.360e-01,  2.426e-01],\n",
       "        [ 4.408e-12,  4.456e-02, -4.903e-04,  1.491e-03,  6.902e-02,\n",
       "         -4.243e-02,  4.080e-01,  4.023e-01,  3.110e-01, -4.091e-01,\n",
       "         -1.805e-01,  9.819e-03, -3.852e-01, -1.960e-01, -4.296e-01],\n",
       "        [-5.000e-01, -1.703e-02,  1.029e-02,  5.124e-01, -1.416e-01,\n",
       "          5.110e-01,  7.709e-02,  1.108e-12,  1.159e-12, -2.508e-02,\n",
       "          3.263e-02, -4.453e-01, -2.736e-06,  2.176e-06, -3.053e-06],\n",
       "        [ 2.361e-12, -5.197e-04, -4.458e-02,  8.788e-04,  3.952e-01,\n",
       "          1.177e-01, -5.461e-02, -2.969e-01,  3.915e-01, -1.791e-01,\n",
       "          4.079e-01,  3.997e-02,  2.906e-01,  3.338e-01, -4.229e-01],\n",
       "        [-4.714e-01,  4.653e-01, -8.019e-03, -1.316e-01,  7.665e-03,\n",
       "         -2.414e-01, -4.648e-01,  1.341e-01,  1.037e-01, -4.090e-01,\n",
       "         -1.805e-01,  9.813e-03,  1.284e-01,  6.534e-02,  1.432e-01],\n",
       "        [ 1.667e-01, -1.502e-01,  3.557e-03,  9.162e-02,  1.316e-01,\n",
       "         -3.263e-01,  2.487e-01,  3.793e-01,  2.932e-01, -2.506e-02,\n",
       "          3.264e-02, -4.453e-01,  3.632e-01,  1.848e-01,  4.050e-01],\n",
       "        [-4.082e-01, -1.800e-01, -3.572e-01, -1.263e-01, -7.841e-02,\n",
       "         -3.463e-01,  3.507e-01, -2.323e-01, -1.795e-01, -1.790e-01,\n",
       "          4.078e-01,  3.996e-02,  8.091e-02, -3.350e-01,  9.013e-02],\n",
       "        [ 2.357e-01,  1.482e-01,  1.800e-01,  7.493e-02,  3.425e-01,\n",
       "          2.255e-01,  1.739e-01, -4.396e-01,  1.872e-02, -4.090e-01,\n",
       "         -1.806e-01,  9.808e-03,  7.374e-03, -3.208e-01,  4.394e-01],\n",
       "        [ 1.667e-01,  7.180e-02,  1.285e-01,  9.649e-02,  3.032e-01,\n",
       "         -2.073e-01, -2.253e-01,  5.281e-02, -4.663e-01, -2.509e-02,\n",
       "          3.261e-02, -4.453e-01,  1.878e-01, -3.668e-01, -4.006e-01],\n",
       "        [ 4.082e-01,  1.717e-01, -3.560e-01,  1.404e-01, -3.369e-01,\n",
       "          2.225e-01, -2.933e-01,  2.323e-01,  1.795e-01, -1.790e-01,\n",
       "          4.078e-01,  3.996e-02,  8.091e-02, -3.350e-01,  9.013e-02],\n",
       "        [ 2.357e-01,  1.440e-01, -1.803e-01,  8.203e-02, -3.536e-01,\n",
       "          1.809e-02,  2.701e-01, -9.675e-02, -4.334e-01, -4.090e-01,\n",
       "         -1.805e-01,  9.818e-03,  2.495e-01,  4.515e-01, -1.530e-01],\n",
       "        [ 1.667e-01,  6.883e-02, -1.263e-01,  1.015e-01, -1.890e-01,\n",
       "         -3.539e-01, -1.573e-01, -4.321e-01,  1.731e-01, -2.510e-02,\n",
       "          3.264e-02, -4.453e-01, -5.510e-01,  1.820e-01, -4.396e-03]]))"
      ]
     },
     "execution_count": 93,
     "metadata": {},
     "output_type": "execute_result"
    }
   ],
   "source": [
    "np.linalg.eig((np.swapaxes(h0,1,2)).reshape(15,15))"
   ]
  },
  {
   "cell_type": "code",
   "execution_count": 33,
   "metadata": {},
   "outputs": [],
   "source": [
    "nh3str=\"\"\"N  -0.000000  -0.128885  -0.043079;   H   0.000000   0.067780   0.935168;   \n",
    "   H   0.808204   0.295141  -0.446045;  \n",
    "   H  -0.808204   0.295141  -0.446045;\n",
    "   \"\"\""
   ]
  },
  {
   "cell_type": "code",
   "execution_count": 34,
   "metadata": {},
   "outputs": [
    {
     "name": "stdout",
     "output_type": "stream",
     "text": [
      "converged SCF energy = -56.2221835947891\n"
     ]
    },
    {
     "data": {
      "text/plain": [
       "-56.222183594789115"
      ]
     },
     "execution_count": 34,
     "metadata": {},
     "output_type": "execute_result"
    }
   ],
   "source": [
    "#NH3=gto.M(atom=\"N 0 0 0;H 0 0 1.8; H 0.9 0.5 -.9; H -0.9 0.5 -.9\",unit=\"bohr\",\n",
    "NH3=gto.M(atom=nh3str,\n",
    "            basis={\"H\":\"pc-2\",'N':bse.get_basis(\"pcX-2\",fmt=\"nwchem\",elements=[7])})\n",
    "mfnh3 = scf.RHF(NH3)\n",
    "mfnh3.scf()"
   ]
  },
  {
   "cell_type": "code",
   "execution_count": 35,
   "metadata": {},
   "outputs": [
    {
     "name": "stdout",
     "output_type": "stream",
     "text": [
      "\n",
      "Geometry optimization cycle 1\n",
      "Cartesian coordinates (Angstrom)\n",
      " Atom        New coordinates             dX        dY        dZ\n",
      "   N   0.000000  -0.128885  -0.043079    0.000000  0.000000  0.000000\n",
      "   H   0.000000   0.067780   0.935168    0.000000  0.000000  0.000000\n",
      "   H   0.808204   0.295141  -0.446045    0.000000  0.000000  0.000000\n",
      "   H  -0.808204   0.295141  -0.446045    0.000000  0.000000  0.000000\n",
      "converged SCF energy = -56.2221835947893\n",
      "--------------- SCF_Scanner gradients ---------------\n",
      "         x                y                z\n",
      "0 N     0.0000000000     0.0000180200    -0.0001418131\n",
      "1 H     0.0000000000     0.0000355141     0.0000167946\n",
      "2 H    -0.0000802407    -0.0000267671     0.0000625092\n",
      "3 H     0.0000802407    -0.0000267671     0.0000625092\n",
      "----------------------------------------------\n",
      "cycle 1: E = -56.2221835948  dE = -56.2222  norm(grad) = 0.000210009\n"
     ]
    }
   ],
   "source": [
    "nh3_eq=optimize(mfnh3)"
   ]
  },
  {
   "cell_type": "code",
   "execution_count": 36,
   "metadata": {},
   "outputs": [],
   "source": [
    "nh3optg=nh3_eq.atom_coords()"
   ]
  },
  {
   "cell_type": "code",
   "execution_count": 37,
   "metadata": {},
   "outputs": [
    {
     "data": {
      "text/plain": [
       "1.8856061076490165"
      ]
     },
     "execution_count": 37,
     "metadata": {},
     "output_type": "execute_result"
    }
   ],
   "source": [
    "norm(nh3optg[1]-nh3optg[0])"
   ]
  },
  {
   "cell_type": "code",
   "execution_count": 42,
   "metadata": {},
   "outputs": [
    {
     "name": "stdout",
     "output_type": "stream",
     "text": [
      "converged SCF energy = -76.0633193327809\n"
     ]
    },
    {
     "data": {
      "text/plain": [
       "-76.06331933278094"
      ]
     },
     "execution_count": 42,
     "metadata": {},
     "output_type": "execute_result"
    }
   ],
   "source": [
    "OH2=gto.M(atom=\"O 0 0 0;H -0.20216112 -0.1617289 1.75663003; H 1.37299943  1.09839954 -0.24739346\",unit=\"bohr\",\n",
    "            basis={\"H\":\"pc-2\",'O':bse.get_basis(\"pcX-2\",fmt=\"nwchem\",elements=[8])})\n",
    "mfoh2 = scf.RHF(OH2)\n",
    "mfoh2.scf()"
   ]
  },
  {
   "cell_type": "code",
   "execution_count": 43,
   "metadata": {},
   "outputs": [
    {
     "name": "stdout",
     "output_type": "stream",
     "text": [
      "\n",
      "Geometry optimization cycle 1\n",
      "Cartesian coordinates (Angstrom)\n",
      " Atom        New coordinates             dX        dY        dZ\n",
      "   O   0.000000   0.000000   0.000000    0.000000  0.000000  0.000000\n",
      "   H  -0.106979  -0.085583   0.929569    0.000000  0.000000  0.000000\n",
      "   H   0.726560   0.581248  -0.130915    0.000000  0.000000  0.000000\n",
      "converged SCF energy = -76.063319332781\n",
      "--------------- SCF_Scanner gradients ---------------\n",
      "         x                y                z\n",
      "0 O    -0.0000165554    -0.0000132444    -0.0000136389\n",
      "1 H     0.0000057728     0.0000046183     0.0000071441\n",
      "2 H     0.0000107826     0.0000086261     0.0000064949\n",
      "----------------------------------------------\n",
      "cycle 1: E = -76.0633193328  dE = -76.0633  norm(grad) = 3.121e-05\n"
     ]
    }
   ],
   "source": [
    "oh2_eq=optimize(mfoh2)"
   ]
  },
  {
   "cell_type": "code",
   "execution_count": 41,
   "metadata": {},
   "outputs": [
    {
     "data": {
      "text/plain": [
       "array([[ 0.        ,  0.        ,  0.        ],\n",
       "       [-0.20216112, -0.1617289 ,  1.75663003],\n",
       "       [ 1.37299943,  1.09839954, -0.24739346]])"
      ]
     },
     "execution_count": 41,
     "metadata": {},
     "output_type": "execute_result"
    }
   ],
   "source": [
    "oh2optg=oh2_eq.atom_coords()\n",
    "oh2optg-oh2optg[0]"
   ]
  },
  {
   "cell_type": "code",
   "execution_count": 48,
   "metadata": {},
   "outputs": [
    {
     "name": "stdout",
     "output_type": "stream",
     "text": [
      "converged SCF energy = -100.065540168732\n",
      "\n",
      "Geometry optimization cycle 1\n",
      "Cartesian coordinates (Angstrom)\n",
      " Atom        New coordinates             dX        dY        dZ\n",
      "   F   0.000000   0.000000   0.000000    0.000000  0.000000  0.000000\n",
      "   H   0.000000   0.000000   0.897348    0.000000  0.000000  0.000000\n",
      "converged SCF energy = -100.065540168732\n",
      "--------------- SCF_Scanner gradients ---------------\n",
      "         x                y                z\n",
      "0 F     0.0000000000    -0.0000000000    -0.0000012767\n",
      "1 H    -0.0000000000     0.0000000000     0.0000012767\n",
      "----------------------------------------------\n",
      "cycle 1: E = -100.065540169  dE = -100.066  norm(grad) = 1.80549e-06\n"
     ]
    }
   ],
   "source": [
    "FH=gto.M(atom=\"F 0 0 0;H 0 0 1.69574139\",unit=\"bohr\",\n",
    "            basis={\"H\":\"pc-2\",'F':bse.get_basis(\"pcX-2\",fmt=\"nwchem\",elements=[9])})\n",
    "mffh = scf.RHF(FH)\n",
    "mffh.scf()\n",
    "fh_eq=optimize(mffh)"
   ]
  },
  {
   "cell_type": "code",
   "execution_count": 49,
   "metadata": {},
   "outputs": [
    {
     "data": {
      "text/plain": [
       "array([[0.        , 0.        , 0.        ],\n",
       "       [0.        , 0.        , 1.69574139]])"
      ]
     },
     "execution_count": 49,
     "metadata": {},
     "output_type": "execute_result"
    }
   ],
   "source": [
    "fhoptg=fh_eq.atom_coords()\n",
    "fhoptg-fhoptg[0]"
   ]
  },
  {
   "cell_type": "code",
   "execution_count": 50,
   "metadata": {},
   "outputs": [],
   "source": [
    "#ch4coords,h0,afC,afH1,nh3optg,oh2optg,fhoptg"
   ]
  },
  {
   "cell_type": "code",
   "execution_count": 51,
   "metadata": {},
   "outputs": [],
   "source": [
    "#getting inverse of the hessian matrix\n",
    "H1=np.linalg.inv((np.swapaxes(h0,1,2)).reshape(15,15))\n",
    "h1=H1.reshape(5,3,5,3)"
   ]
  },
  {
   "cell_type": "code",
   "execution_count": 52,
   "metadata": {},
   "outputs": [],
   "source": [
    "nh3predictg=(ch4coords-np.einsum('ijkl,kl->ij',h1,  afC+afH1))[:4]\n",
    "oh2predictg=(ch4coords-np.einsum('ijkl,kl->ij',h1,  2*afC+afH1+afH2))[:3]\n",
    "fhpredictg=(ch4coords-np.einsum('ijkl,kl->ij',h1,  3*afC+afH1+afH2+afH3))[:2]"
   ]
  },
  {
   "cell_type": "code",
   "execution_count": 53,
   "metadata": {},
   "outputs": [],
   "source": [
    "#place non H atom in the origin\n",
    "nh3predictg-=nh3predictg[0]\n",
    "oh2predictg-=oh2predictg[0]\n",
    "fhpredictg-=fhpredictg[0]\n",
    "nh3optg-=nh3optg[0]\n",
    "oh2optg-=oh2optg[0]\n",
    "fhoptg-=fhoptg[0]"
   ]
  },
  {
   "cell_type": "code",
   "execution_count": 54,
   "metadata": {},
   "outputs": [
    {
     "name": "stdout",
     "output_type": "stream",
     "text": [
      "2.043854241378284\n",
      "1.8771027614531632 1.8856061076490165\n",
      "1.7017431434979045 1.7756053637844758\n",
      "1.514804488221807 1.69574139\n"
     ]
    }
   ],
   "source": [
    "#bond lengths\n",
    "print(norm(ch4coords[1]))\n",
    "print(norm(nh3predictg[1]),norm(nh3optg[1]))\n",
    "print(norm(oh2predictg[1]),norm(oh2optg[1]))\n",
    "print(norm(fhpredictg[1]),norm(fhoptg[1]))"
   ]
  },
  {
   "cell_type": "code",
   "execution_count": 56,
   "metadata": {},
   "outputs": [
    {
     "name": "stdout",
     "output_type": "stream",
     "text": [
      "109.471\n",
      "103.102 108.193\n",
      "96.677 106.393\n"
     ]
    }
   ],
   "source": [
    "#angles\n",
    "print(anglecenter(ch4coords))\n",
    "print(anglecenter(nh3predictg),anglecenter(nh3optg))\n",
    "print(anglecenter(oh2predictg),anglecenter(oh2optg))"
   ]
  },
  {
   "cell_type": "code",
   "execution_count": 58,
   "metadata": {},
   "outputs": [
    {
     "data": {
      "application/vnd.jupyter.widget-view+json": {
       "model_id": "a57613509efb4976b12b75db80ff1f36",
       "version_major": 2,
       "version_minor": 0
      },
      "text/plain": [
       "VBox(children=(Figure(camera=PerspectiveCamera(fov=46.0, position=(0.0, 0.0, 2.0), projectionMatrix=(1.0, 0.0,…"
      ]
     },
     "metadata": {},
     "output_type": "display_data"
    }
   ],
   "source": [
    "ipv.figure()\n",
    "ipv.scatter(ch4coords[:,0],ch4coords[:,1],ch4coords[:,2],color=\"black\",marker='sphere',size=12)\n",
    "ipv.scatter(nh3predictg[:,0],nh3predictg[:,1],nh3predictg[:,2],color=\"blue\",marker='sphere',size=12)\n",
    "ipv.scatter(oh2predictg[:,0],oh2predictg[:,1],oh2predictg[:,2],color=\"green\",marker='sphere',size=12)\n",
    "ipv.scatter(fhpredictg[:,0],fhpredictg[:,1],fhpredictg[:,2],color=\"yellow\",marker='sphere',size=12)\n",
    "ipv.scatter(np.asarray([0.]),np.asarray([0.]),np.asarray([0.]),color=\"red\",marker='sphere',size=12)\n",
    "ipv.show()"
   ]
  },
  {
   "cell_type": "code",
   "execution_count": 166,
   "metadata": {},
   "outputs": [
    {
     "data": {
      "application/vnd.jupyter.widget-view+json": {
       "model_id": "18187cc90cc648cfbadd228bee8d6c27",
       "version_major": 2,
       "version_minor": 0
      },
      "text/plain": [
       "VBox(children=(Figure(camera=PerspectiveCamera(fov=46.0, position=(0.0, 0.0, 2.0), projectionMatrix=(1.0, 0.0,…"
      ]
     },
     "metadata": {},
     "output_type": "display_data"
    }
   ],
   "source": [
    "ipv.figure()\n",
    "ipv.scatter(ch4coords[:,0],ch4coords[:,1],ch4coords[:,2],color=\"black\",marker='sphere',size=12)\n",
    "ipv.scatter(nh3optg[:,0],nh3optg[:,1],nh3optg[:,2],color=\"blue\",marker='sphere',size=12)\n",
    "ipv.scatter(oh2optg[:,0],oh2optg[:,1],oh2optg[:,2],color=\"green\",marker='sphere',size=12)\n",
    "ipv.scatter(fhoptg[:,0],fhoptg[:,1],fhoptg[:,2],color=\"yellow\",marker='sphere',size=12)\n",
    "ipv.show()"
   ]
  },
  {
   "cell_type": "code",
   "execution_count": null,
   "metadata": {},
   "outputs": [],
   "source": []
  }
 ],
 "metadata": {
  "kernelspec": {
   "display_name": "Python 3",
   "language": "python",
   "name": "python3"
  },
  "language_info": {
   "codemirror_mode": {
    "name": "ipython",
    "version": 3
   },
   "file_extension": ".py",
   "mimetype": "text/x-python",
   "name": "python",
   "nbconvert_exporter": "python",
   "pygments_lexer": "ipython3",
   "version": "3.7.3"
  }
 },
 "nbformat": 4,
 "nbformat_minor": 2
}
