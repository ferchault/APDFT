{
 "cells": [
  {
   "cell_type": "code",
   "execution_count": 1,
   "metadata": {},
   "outputs": [],
   "source": [
    "from aaff import aaff,alc_deriv_grad_nuc,alc_differential_grad_nuc\n",
    "from FcMole import FcM\n",
    "from alch_deriv import alch_deriv\n",
    "from pyscf import gto,scf\n",
    "import numpy as np \n",
    "from numpy.linalg import norm as norm\n",
    "from scipy.spatial.transform import Rotation as R\n",
    "import matplotlib.pyplot as plt\n",
    "from pyscf.grad import rhf as grhf\n",
    "from pyscf.hessian import rhf as hrhf\n",
    "import basis_set_exchange as bse\n",
    "from FDcoeffs import *\n",
    "from pyscf.geomopt.berny_solver import optimize\n",
    "ang2bohr=1.8897261246\n",
    "bohr2ang=.5291772109"
   ]
  },
  {
   "cell_type": "code",
   "execution_count": 3,
   "metadata": {},
   "outputs": [],
   "source": [
    "l=3.3376\n",
    "x=-(1/24)**.5*l\n",
    "z=(2/3)**.5*l+x\n",
    "ch4str=\"C 0 0 0; H 0 0  {}; H  0  {} {}; H {} {} {}; H {} {} {}\".format(z,l/3**.5,x,l/2,-l*3**.5/6,x,-l/2,-l*3**.5/6,x)"
   ]
  },
  {
   "cell_type": "code",
   "execution_count": 4,
   "metadata": {},
   "outputs": [
    {
     "name": "stdout",
     "output_type": "stream",
     "text": [
      "converged SCF energy = -40.2151804034984\n"
     ]
    },
    {
     "data": {
      "text/plain": [
       "-40.215180403498415"
      ]
     },
     "execution_count": 4,
     "metadata": {},
     "output_type": "execute_result"
    }
   ],
   "source": [
    "CH4=gto.M(atom=ch4str,unit=\"bohr\",basis={\"H\":\"pc-2\",'C':bse.get_basis(\"pcX-2\",fmt=\"nwchem\",elements=[6])})\n",
    "mf = scf.RHF(CH4)\n",
    "mf.scf()"
   ]
  },
  {
   "cell_type": "code",
   "execution_count": 5,
   "metadata": {},
   "outputs": [
    {
     "name": "stdout",
     "output_type": "stream",
     "text": [
      "--------------- RHF gradients ---------------\n",
      "         x                y                z\n",
      "0 C     0.0000000000    -0.0000000000    -0.0000000000\n",
      "1 H     0.0000000000    -0.0000000000    -0.0000007926\n",
      "2 H     0.0000000000    -0.0000007473     0.0000002642\n",
      "3 H    -0.0000006472     0.0000003736     0.0000002642\n",
      "4 H     0.0000006472     0.0000003736     0.0000002642\n",
      "----------------------------------------------\n"
     ]
    }
   ],
   "source": [
    "g0=mf.Gradients().grad()"
   ]
  },
  {
   "cell_type": "code",
   "execution_count": 6,
   "metadata": {},
   "outputs": [],
   "source": [
    "h0=mf.Hessian().hess()"
   ]
  },
  {
   "cell_type": "code",
   "execution_count": 7,
   "metadata": {},
   "outputs": [],
   "source": [
    "ch4coords=CH4.atom_coords()"
   ]
  },
  {
   "cell_type": "code",
   "execution_count": 8,
   "metadata": {},
   "outputs": [],
   "source": [
    "afC=aaff(mf,[1,0,0,0,0])+alc_deriv_grad_nuc(CH4,[1,0,0,0,0])\n",
    "afH1=aaff(mf,[0,0,0,0,-1])+alc_deriv_grad_nuc(CH4,[0,0,0,0,-1])\n",
    "afH2=aaff(mf,[0,0,0,-1,0])+alc_deriv_grad_nuc(CH4,[0,0,0,-1,0])\n",
    "afH3=aaff(mf,[0,0,-1,0,0])+alc_deriv_grad_nuc(CH4,[0,0,-1,0,0])"
   ]
  },
  {
   "cell_type": "code",
   "execution_count": 9,
   "metadata": {},
   "outputs": [
    {
     "data": {
      "text/plain": [
       "array([[ 0.        , -1.35417611,  0.47877356],\n",
       "       [ 0.        , -0.05182876,  0.07329693],\n",
       "       [ 0.        ,  1.56149114, -0.55207049],\n",
       "       [ 0.04488502, -0.07774314,  0.        ],\n",
       "       [-0.04488502, -0.07774314,  0.        ]])"
      ]
     },
     "execution_count": 9,
     "metadata": {},
     "output_type": "execute_result"
    }
   ],
   "source": [
    "alc_deriv_grad_nuc(CH4,[0,0,-1,0,0])"
   ]
  },
  {
   "cell_type": "code",
   "execution_count": 10,
   "metadata": {},
   "outputs": [
    {
     "name": "stdout",
     "output_type": "stream",
     "text": [
      "0.031128756363954634\n",
      "0.06943666146069344\n",
      "0.06943666146068825\n",
      "0.06943666146072108\n",
      "0.004045775548047937\n"
     ]
    }
   ],
   "source": [
    "for i in (afH1+afC):\n",
    "    print(norm(i))"
   ]
  },
  {
   "cell_type": "code",
   "execution_count": 11,
   "metadata": {},
   "outputs": [
    {
     "name": "stdout",
     "output_type": "stream",
     "text": [
      "1.034568584181829\n",
      "0.375974893176426\n",
      "0.3759748931765666\n",
      "0.3759748931765299\n",
      "0.37597489317655686\n"
     ]
    }
   ],
   "source": [
    "for i in range(5):\n",
    "    print(norm(h0[i,i]))"
   ]
  },
  {
   "cell_type": "code",
   "execution_count": 12,
   "metadata": {},
   "outputs": [
    {
     "data": {
      "text/plain": [
       "0.006824285336527222"
      ]
     },
     "execution_count": 12,
     "metadata": {},
     "output_type": "execute_result"
    }
   ],
   "source": [
    ".37597489317647576*.01815090704294456"
   ]
  },
  {
   "cell_type": "code",
   "execution_count": 13,
   "metadata": {},
   "outputs": [
    {
     "data": {
      "text/plain": [
       "array([[-0.02541652, -0.01467424, -0.01037625],\n",
       "       [-0.01250345, -0.00721887, -0.01100032],\n",
       "       [-0.01250345, -0.01277749, -0.00313924],\n",
       "       [-0.01731736, -0.00443956, -0.00313924],\n",
       "       [ 0.06774078,  0.03911016,  0.02765506]])"
      ]
     },
     "execution_count": 13,
     "metadata": {},
     "output_type": "execute_result"
    }
   ],
   "source": [
    "afH1"
   ]
  },
  {
   "cell_type": "code",
   "execution_count": 14,
   "metadata": {},
   "outputs": [
    {
     "name": "stdout",
     "output_type": "stream",
     "text": [
      "0.031128756363946408\n",
      "0.018150907042911068\n",
      "0.018150907042930556\n",
      "0.018150907042960622\n",
      "0.08296517664323332\n"
     ]
    }
   ],
   "source": [
    "for i in afH1:\n",
    "    print(norm(i))"
   ]
  },
  {
   "cell_type": "code",
   "execution_count": 15,
   "metadata": {},
   "outputs": [],
   "source": [
    "nh3str=\"\"\"N  -0.000000  -0.128885  -0.043079;   H   0.000000   0.067780   0.935168;   \n",
    "   H   0.808204   0.295141  -0.446045;  \n",
    "   H  -0.808204   0.295141  -0.446045;\n",
    "   \"\"\""
   ]
  },
  {
   "cell_type": "code",
   "execution_count": 16,
   "metadata": {},
   "outputs": [
    {
     "name": "stdout",
     "output_type": "stream",
     "text": [
      "converged SCF energy = -56.2221835947892\n"
     ]
    },
    {
     "data": {
      "text/plain": [
       "-56.22218359478923"
      ]
     },
     "execution_count": 16,
     "metadata": {},
     "output_type": "execute_result"
    }
   ],
   "source": [
    "#NH3=gto.M(atom=\"N 0 0 0;H 0 0 1.8; H 0.9 0.5 -.9; H -0.9 0.5 -.9\",unit=\"bohr\",\n",
    "NH3=gto.M(atom=nh3str,\n",
    "            basis={\"H\":\"pc-2\",'N':bse.get_basis(\"pcX-2\",fmt=\"nwchem\",elements=[7])})\n",
    "mfnh3 = scf.RHF(NH3)\n",
    "mfnh3.scf()"
   ]
  },
  {
   "cell_type": "code",
   "execution_count": 17,
   "metadata": {},
   "outputs": [
    {
     "name": "stdout",
     "output_type": "stream",
     "text": [
      "\n",
      "Geometry optimization cycle 1\n",
      "Cartesian coordinates (Angstrom)\n",
      " Atom        New coordinates             dX        dY        dZ\n",
      "   N   0.000000  -0.128885  -0.043079    0.000000  0.000000  0.000000\n",
      "   H   0.000000   0.067780   0.935168    0.000000  0.000000  0.000000\n",
      "   H   0.808204   0.295141  -0.446045    0.000000  0.000000  0.000000\n",
      "   H  -0.808204   0.295141  -0.446045    0.000000  0.000000  0.000000\n",
      "converged SCF energy = -56.2221835947894\n",
      "--------------- SCF_Scanner gradients ---------------\n",
      "         x                y                z\n",
      "0 N     0.0000000000     0.0000180200    -0.0001418131\n",
      "1 H     0.0000000000     0.0000355141     0.0000167946\n",
      "2 H    -0.0000802407    -0.0000267671     0.0000625092\n",
      "3 H     0.0000802407    -0.0000267671     0.0000625092\n",
      "----------------------------------------------\n",
      "cycle 1: E = -56.2221835948  dE = -56.2222  norm(grad) = 0.000210009\n"
     ]
    }
   ],
   "source": [
    "nh3_eq=optimize(mfnh3)"
   ]
  },
  {
   "cell_type": "code",
   "execution_count": 18,
   "metadata": {},
   "outputs": [],
   "source": [
    "nh3optg=nh3_eq.atom_coords()"
   ]
  },
  {
   "cell_type": "code",
   "execution_count": 19,
   "metadata": {},
   "outputs": [
    {
     "name": "stdout",
     "output_type": "stream",
     "text": [
      "converged SCF energy = -56.2217786977168\n"
     ]
    },
    {
     "data": {
      "text/plain": [
       "-56.221778697716815"
      ]
     },
     "execution_count": 19,
     "metadata": {},
     "output_type": "execute_result"
    }
   ],
   "source": [
    "NH3bs=gto.M(atom=nh3str,\n",
    "            basis={\"H\":\"pc-2\",'N':bse.get_basis(\"pcX-2\",fmt=\"nwchem\",elements=[6])})\n",
    "mfnh3bs = scf.RHF(NH3bs)\n",
    "mfnh3bs.scf()"
   ]
  },
  {
   "cell_type": "code",
   "execution_count": 20,
   "metadata": {},
   "outputs": [
    {
     "name": "stdout",
     "output_type": "stream",
     "text": [
      "\n",
      "Geometry optimization cycle 1\n",
      "Cartesian coordinates (Angstrom)\n",
      " Atom        New coordinates             dX        dY        dZ\n",
      "   N   0.000000  -0.128885  -0.043079    0.000000  0.000000  0.000000\n",
      "   H   0.000000   0.067780   0.935168    0.000000  0.000000  0.000000\n",
      "   H   0.808204   0.295141  -0.446045    0.000000  0.000000  0.000000\n",
      "   H  -0.808204   0.295141  -0.446045    0.000000  0.000000  0.000000\n",
      "converged SCF energy = -56.2221835947892\n",
      "--------------- SCF_Scanner gradients ---------------\n",
      "         x                y                z\n",
      "0 N    -0.0000000000     0.0000180215    -0.0001418129\n",
      "1 H     0.0000000000     0.0000355138     0.0000167934\n",
      "2 H    -0.0000802417    -0.0000267677     0.0000625097\n",
      "3 H     0.0000802417    -0.0000267677     0.0000625097\n",
      "----------------------------------------------\n",
      "cycle 1: E = -56.2221835948  dE = -56.2222  norm(grad) = 0.00021001\n"
     ]
    }
   ],
   "source": [
    "nh3_eqbs=optimize(mfnh3)"
   ]
  },
  {
   "cell_type": "code",
   "execution_count": 21,
   "metadata": {},
   "outputs": [
    {
     "data": {
      "text/plain": [
       "1.8856061076490165"
      ]
     },
     "execution_count": 21,
     "metadata": {},
     "output_type": "execute_result"
    }
   ],
   "source": [
    "norm(nh3optg[1]-nh3optg[0])"
   ]
  },
  {
   "cell_type": "code",
   "execution_count": 22,
   "metadata": {},
   "outputs": [
    {
     "name": "stdout",
     "output_type": "stream",
     "text": [
      "converged SCF energy = -76.0633193329877\n"
     ]
    },
    {
     "data": {
      "text/plain": [
       "-76.06331933298767"
      ]
     },
     "execution_count": 22,
     "metadata": {},
     "output_type": "execute_result"
    }
   ],
   "source": [
    "OH2=gto.M(atom=\"O 0 0 0;H 0 -0.15229 1.76907; H 0   1.7401 -0.35319\",unit=\"bohr\",\n",
    "            basis={\"H\":\"pc-2\",'O':bse.get_basis(\"pcX-2\",fmt=\"nwchem\",elements=[8])})\n",
    "mfoh2 = scf.RHF(OH2)\n",
    "mfoh2.scf()"
   ]
  },
  {
   "cell_type": "code",
   "execution_count": 23,
   "metadata": {
    "scrolled": true
   },
   "outputs": [
    {
     "name": "stdout",
     "output_type": "stream",
     "text": [
      "\n",
      "Geometry optimization cycle 1\n",
      "Cartesian coordinates (Angstrom)\n",
      " Atom        New coordinates             dX        dY        dZ\n",
      "   O   0.000000   0.000000   0.000000    0.000000  0.000000  0.000000\n",
      "   H   0.000000  -0.080588   0.936152    0.000000  0.000000  0.000000\n",
      "   H   0.000000   0.920821  -0.186900    0.000000  0.000000  0.000000\n",
      "converged SCF energy = -76.063319332988\n",
      "--------------- SCF_Scanner gradients ---------------\n",
      "         x                y                z\n",
      "0 O    -0.0000000000     0.0000002303    -0.0000207451\n",
      "1 H     0.0000000000     0.0000064495     0.0000117997\n",
      "2 H     0.0000000000    -0.0000066798     0.0000089454\n",
      "----------------------------------------------\n",
      "cycle 1: E = -76.063319333  dE = -76.0633  norm(grad) = 2.71272e-05\n"
     ]
    }
   ],
   "source": [
    "oh2_eq=optimize(mfoh2)"
   ]
  },
  {
   "cell_type": "code",
   "execution_count": 24,
   "metadata": {},
   "outputs": [],
   "source": [
    "oh2optg=oh2_eq.atom_coords()"
   ]
  },
  {
   "cell_type": "code",
   "execution_count": 25,
   "metadata": {},
   "outputs": [
    {
     "data": {
      "text/plain": [
       "array([[ 0.     ,  0.     ,  0.     ],\n",
       "       [ 0.     , -0.15229,  1.76907],\n",
       "       [ 0.     ,  1.7401 , -0.35319]])"
      ]
     },
     "execution_count": 25,
     "metadata": {},
     "output_type": "execute_result"
    }
   ],
   "source": [
    "oh2optg"
   ]
  },
  {
   "cell_type": "code",
   "execution_count": 26,
   "metadata": {},
   "outputs": [
    {
     "name": "stdout",
     "output_type": "stream",
     "text": [
      "converged SCF energy = -100.065540168732\n",
      "\n",
      "Geometry optimization cycle 1\n",
      "Cartesian coordinates (Angstrom)\n",
      " Atom        New coordinates             dX        dY        dZ\n",
      "   F   0.000000   0.000000   0.000000    0.000000  0.000000  0.000000\n",
      "   H   0.000000   0.000000   0.897347    0.000000  0.000000  0.000000\n",
      "converged SCF energy = -100.065540168733\n",
      "--------------- SCF_Scanner gradients ---------------\n",
      "         x                y                z\n",
      "0 F    -0.0000000000     0.0000000000    -0.0000009944\n",
      "1 H     0.0000000000    -0.0000000000     0.0000009944\n",
      "----------------------------------------------\n",
      "cycle 1: E = -100.065540169  dE = -100.066  norm(grad) = 1.40635e-06\n"
     ]
    }
   ],
   "source": [
    "FH=gto.M(atom=\"F 0 0 0;H 0 0 1.695741\",unit=\"bohr\",\n",
    "            basis={\"H\":\"pc-2\",'F':bse.get_basis(\"pcX-2\",fmt=\"nwchem\",elements=[9])})\n",
    "mffh = scf.RHF(FH)\n",
    "mffh.scf()\n",
    "fh_eq=optimize(mffh)"
   ]
  },
  {
   "cell_type": "code",
   "execution_count": 27,
   "metadata": {},
   "outputs": [],
   "source": [
    "fhoptg=fh_eq.atom_coords()"
   ]
  },
  {
   "cell_type": "code",
   "execution_count": 28,
   "metadata": {},
   "outputs": [],
   "source": [
    "#ch4coords,h0,afC,afH1,nh3optg,oh2optg,fhoptg"
   ]
  },
  {
   "cell_type": "code",
   "execution_count": 29,
   "metadata": {},
   "outputs": [],
   "source": [
    "#getting inverse of the hessian matrix\n",
    "H1=np.linalg.inv((np.swapaxes(h0,1,2)).reshape(15,15))\n",
    "h1=H1.reshape(5,3,5,3)\n",
    "def invhess(h):\n",
    "    H=np.linalg.inv((np.swapaxes(h,1,2)).reshape(h.shape[0]*h.shape[2],h.shape[0]*h.shape[2]))\n",
    "    h1=H.reshape(h.shape[0],h.shape[2],h.shape[1],h.shape[3])\n",
    "    return h1"
   ]
  },
  {
   "cell_type": "code",
   "execution_count": 30,
   "metadata": {},
   "outputs": [],
   "source": [
    "nh3predictg=(ch4coords-np.einsum('ijkl,kl->ij',h1,  afC+afH1))[:4]\n",
    "oh2predictg=(ch4coords-np.einsum('ijkl,kl->ij',h1,  2*afC+afH1+afH2))[:3]\n",
    "fhpredictg=(ch4coords- np.einsum('ijkl,kl->ij',h1,  3*afC+afH1+afH2+afH3))[:2]"
   ]
  },
  {
   "cell_type": "code",
   "execution_count": 31,
   "metadata": {},
   "outputs": [],
   "source": [
    "#place non H atom in the origin\n",
    "nh3predictg-=nh3predictg[0]\n",
    "oh2predictg-=oh2predictg[0]\n",
    "fhpredictg-=fhpredictg[0]\n",
    "nh3optg-=nh3optg[0]\n",
    "oh2optg-=oh2optg[0]\n",
    "fhoptg-=fhoptg[0]"
   ]
  },
  {
   "cell_type": "code",
   "execution_count": 32,
   "metadata": {},
   "outputs": [
    {
     "name": "stdout",
     "output_type": "stream",
     "text": [
      "2.043854241378284\n",
      "1.8771027192181162 1.8856061076490165\n",
      "1.7017431491183759 1.7756128263222248\n",
      "1.5148049054776223 1.695741\n"
     ]
    }
   ],
   "source": [
    "#bond lengths\n",
    "print(norm(ch4coords[1]))\n",
    "print(norm(nh3predictg[1]),norm(nh3optg[1]))\n",
    "print(norm(oh2predictg[1]),norm(oh2optg[1]))\n",
    "print(norm(fhpredictg[1]),norm(fhoptg[1]))"
   ]
  },
  {
   "cell_type": "code",
   "execution_count": 33,
   "metadata": {},
   "outputs": [],
   "source": [
    "def anglecenter(coords):\n",
    "    return np.around(np.arccos(coords[1].dot(coords[2])/norm(coords[1])/norm(coords[2]))*180/np.pi,decimals=3)"
   ]
  },
  {
   "cell_type": "code",
   "execution_count": 34,
   "metadata": {},
   "outputs": [
    {
     "name": "stdout",
     "output_type": "stream",
     "text": [
      "109.471\n",
      "103.102 108.193\n",
      "96.677 106.394\n"
     ]
    }
   ],
   "source": [
    "#angles  \n",
    "print(anglecenter(ch4coords))\n",
    "print(anglecenter(nh3predictg),anglecenter(nh3optg))\n",
    "print(anglecenter(oh2predictg),anglecenter(oh2optg))"
   ]
  },
  {
   "cell_type": "code",
   "execution_count": 35,
   "metadata": {},
   "outputs": [
    {
     "data": {
      "text/plain": [
       "array([[ 0.     ,  0.     ,  0.     ],\n",
       "       [ 0.     , -0.15229,  1.76907],\n",
       "       [ 0.     ,  1.7401 , -0.35319]])"
      ]
     },
     "execution_count": 35,
     "metadata": {},
     "output_type": "execute_result"
    }
   ],
   "source": [
    "oh2optg"
   ]
  },
  {
   "cell_type": "code",
   "execution_count": 36,
   "metadata": {},
   "outputs": [],
   "source": [
    "\"\"\"ipv.figure()\n",
    "ipv.scatter(ch4coords[:,0],ch4coords[:,1],ch4coords[:,2],color=\"black\",marker='sphere',size=12)\n",
    "ipv.scatter(nh3predictg[:,0],nh3predictg[:,1],nh3predictg[:,2],color=\"blue\",marker='sphere',size=12)\n",
    "ipv.scatter(oh2predictg[:,0],oh2predictg[:,1],oh2predictg[:,2],color=\"green\",marker='sphere',size=12)\n",
    "ipv.scatter(fhpredictg[:,0],fhpredictg[:,1],fhpredictg[:,2],color=\"yellow\",marker='sphere',size=12)\n",
    "ipv.scatter(np.asarray([0.]),np.asarray([0.]),np.asarray([0.]),color=\"red\",marker='sphere',size=12)\n",
    "ipv.show()\"\"\"\n",
    "pass"
   ]
  },
  {
   "cell_type": "code",
   "execution_count": 37,
   "metadata": {},
   "outputs": [],
   "source": [
    "#ipv.figure()\n",
    "#ipv.scatter(ch4coords[:,0],ch4coords[:,1],ch4coords[:,2],color=\"black\",marker='sphere',size=12)\n",
    "#ipv.scatter(nh3optg[:,0],nh3optg[:,1],nh3optg[:,2],color=\"blue\",marker='sphere',size=12)\n",
    "#ipv.scatter(oh2optg[:,0],oh2optg[:,1],oh2optg[:,2],color=\"green\",marker='sphere',size=12)\n",
    "#ipv.scatter(fhoptg[:,0],fhoptg[:,1],fhoptg[:,2],color=\"yellow\",marker='sphere',size=12)\n",
    "#ipv.show()"
   ]
  },
  {
   "cell_type": "code",
   "execution_count": 38,
   "metadata": {},
   "outputs": [
    {
     "data": {
      "text/plain": [
       "1.9106332362490186"
      ]
     },
     "execution_count": 38,
     "metadata": {},
     "output_type": "execute_result"
    }
   ],
   "source": [
    "np.arccos(ch4coords[1].dot(ch4coords[2])/norm(ch4coords[1])/norm(ch4coords[2]))"
   ]
  },
  {
   "cell_type": "markdown",
   "metadata": {},
   "source": [
    "## Rotations "
   ]
  },
  {
   "cell_type": "code",
   "execution_count": 39,
   "metadata": {},
   "outputs": [],
   "source": [
    "rv=np.asarray([0,0,1])*np.pi*2/3\n",
    "r = R.from_rotvec(rv)"
   ]
  },
  {
   "cell_type": "code",
   "execution_count": 40,
   "metadata": {},
   "outputs": [],
   "source": [
    "np.set_printoptions(precision=5,suppress=True)"
   ]
  },
  {
   "cell_type": "code",
   "execution_count": 41,
   "metadata": {},
   "outputs": [
    {
     "data": {
      "text/plain": [
       "(array([[ 0.     ,  0.     ,  0.     ],\n",
       "        [ 0.     ,  0.     ,  2.04385],\n",
       "        [ 0.     ,  1.92696, -0.68128],\n",
       "        [ 1.6688 , -0.96348, -0.68128],\n",
       "        [-1.6688 , -0.96348, -0.68128]]),\n",
       " array([[ 0.     ,  0.     ,  0.     ],\n",
       "        [ 0.     ,  0.     ,  2.04385],\n",
       "        [-1.6688 , -0.96348, -0.68128],\n",
       "        [ 0.     ,  1.92696, -0.68128],\n",
       "        [ 1.6688 , -0.96348, -0.68128]]),\n",
       " array([[ 0.     ,  0.     ,  0.     ],\n",
       "        [ 0.     ,  0.     ,  2.04385],\n",
       "        [ 1.6688 , -0.96348, -0.68128],\n",
       "        [-1.6688 , -0.96348, -0.68128],\n",
       "        [ 0.     ,  1.92696, -0.68128]]),\n",
       " array([[ 0.     ,  0.     ,  0.     ],\n",
       "        [ 0.     ,  0.     ,  2.04385],\n",
       "        [ 0.     ,  1.92696, -0.68128],\n",
       "        [ 1.6688 , -0.96348, -0.68128],\n",
       "        [-1.6688 , -0.96348, -0.68128]]))"
      ]
     },
     "execution_count": 41,
     "metadata": {},
     "output_type": "execute_result"
    }
   ],
   "source": [
    "ch4coords,r.apply(ch4coords),r.apply(r.apply(ch4coords)),r.apply(r.apply(r.apply(ch4coords)))"
   ]
  },
  {
   "cell_type": "code",
   "execution_count": 42,
   "metadata": {},
   "outputs": [
    {
     "data": {
      "text/plain": [
       "array([[ 0.     ,  0.     ,  0.     ],\n",
       "       [ 0.     ,  0.     ,  2.04385],\n",
       "       [ 0.     ,  1.92696, -0.68128],\n",
       "       [ 1.6688 , -0.96348, -0.68128],\n",
       "       [-1.6688 , -0.96348, -0.68128]])"
      ]
     },
     "execution_count": 42,
     "metadata": {},
     "output_type": "execute_result"
    }
   ],
   "source": [
    "ch4coords"
   ]
  },
  {
   "cell_type": "code",
   "execution_count": 43,
   "metadata": {},
   "outputs": [
    {
     "data": {
      "text/plain": [
       "array([[-0.02542, -0.01467, -0.01038],\n",
       "       [-0.0125 , -0.00722, -0.011  ],\n",
       "       [-0.0125 , -0.01278, -0.00314],\n",
       "       [-0.01732, -0.00444, -0.00314],\n",
       "       [ 0.06774,  0.03911,  0.02766]])"
      ]
     },
     "execution_count": 43,
     "metadata": {},
     "output_type": "execute_result"
    }
   ],
   "source": [
    "afH1"
   ]
  },
  {
   "cell_type": "code",
   "execution_count": 44,
   "metadata": {},
   "outputs": [
    {
     "data": {
      "text/plain": [
       "array([[ 0.02542, -0.01467, -0.01038],\n",
       "       [ 0.0125 , -0.00722, -0.011  ],\n",
       "       [ 0.0125 , -0.01278, -0.00314],\n",
       "       [-0.06774,  0.03911,  0.02766],\n",
       "       [ 0.01732, -0.00444, -0.00314]])"
      ]
     },
     "execution_count": 44,
     "metadata": {},
     "output_type": "execute_result"
    }
   ],
   "source": [
    "afH2"
   ]
  },
  {
   "cell_type": "code",
   "execution_count": 45,
   "metadata": {},
   "outputs": [
    {
     "data": {
      "text/plain": [
       "array([[ 0.02542, -0.01467, -0.01038],\n",
       "       [ 0.0125 , -0.00722, -0.011  ],\n",
       "       [ 0.01732, -0.00444, -0.00314],\n",
       "       [ 0.0125 , -0.01278, -0.00314],\n",
       "       [-0.06774,  0.03911,  0.02766]])"
      ]
     },
     "execution_count": 45,
     "metadata": {},
     "output_type": "execute_result"
    }
   ],
   "source": [
    "r.apply(afH1)"
   ]
  },
  {
   "cell_type": "code",
   "execution_count": 46,
   "metadata": {},
   "outputs": [
    {
     "data": {
      "text/plain": [
       "array([[ 0.02542, -0.01467, -0.01038],\n",
       "       [ 0.0125 , -0.00722, -0.011  ],\n",
       "       [ 0.0125 , -0.01278, -0.00314],\n",
       "       [-0.06774,  0.03911,  0.02766],\n",
       "       [ 0.01732, -0.00444, -0.00314]])"
      ]
     },
     "execution_count": 46,
     "metadata": {},
     "output_type": "execute_result"
    }
   ],
   "source": [
    "b=r.apply(afH1)\n",
    "b[[2,3,4]]=b[[3,4,2]]\n",
    "b #=afH2"
   ]
  },
  {
   "cell_type": "code",
   "execution_count": 47,
   "metadata": {},
   "outputs": [
    {
     "data": {
      "text/plain": [
       "array([[-0.     ,  0.02935, -0.01038],\n",
       "       [-0.     ,  0.01444, -0.011  ],\n",
       "       [ 0.     , -0.07822,  0.02766],\n",
       "       [-0.00481,  0.01722, -0.00314],\n",
       "       [ 0.00481,  0.01722, -0.00314]])"
      ]
     },
     "execution_count": 47,
     "metadata": {},
     "output_type": "execute_result"
    }
   ],
   "source": [
    "afH3"
   ]
  },
  {
   "cell_type": "code",
   "execution_count": 48,
   "metadata": {},
   "outputs": [],
   "source": [
    "c=r.apply(r.apply(afH1))"
   ]
  },
  {
   "cell_type": "code",
   "execution_count": 49,
   "metadata": {},
   "outputs": [],
   "source": [
    "#r.apply(r.apply(r.apply(afH1)))"
   ]
  },
  {
   "cell_type": "markdown",
   "metadata": {},
   "source": [
    "## First derivative \n",
    "$$ APDFT1(g)=  \\sum_I\\frac{\\partial g}{\\partial \\lambda_I} =\\sum_I F_I $$\n",
    "all derivative are equal and can be computed analytically , $F$ is the alchemical force. \n",
    "## Second derivative \n",
    "$$ APDFT2(g)= \\sum_I (\\frac{\\partial F_I}{\\partial \\lambda_I} \n",
    "+2 \\frac{\\partial }{\\partial \\lambda_I}\\sum_{J\\ne I} F_J )\n",
    "$$\n",
    "\n",
    "## Third derivative \n",
    "$$ APDFT3(g)= \\sum_K \\sum_I (\\frac{\\partial F_I}{\\partial \\lambda_I} \n",
    "+2 \\frac{\\partial }{\\partial \\lambda_I}\\sum_{J\\ne I} F_J )\n",
    "$$ "
   ]
  },
  {
   "cell_type": "code",
   "execution_count": 50,
   "metadata": {},
   "outputs": [],
   "source": [
    "#p , m , pp, mm\n",
    "dl=.05"
   ]
  },
  {
   "cell_type": "code",
   "execution_count": 51,
   "metadata": {},
   "outputs": [
    {
     "name": "stdout",
     "output_type": "stream",
     "text": [
      "converged SCF energy = -40.9027706457901\n"
     ]
    },
    {
     "data": {
      "text/plain": [
       "-40.90277064579013"
      ]
     },
     "execution_count": 51,
     "metadata": {},
     "output_type": "execute_result"
    }
   ],
   "source": [
    "CH4_p=FcM(fcs=[dl,0,0,0,-dl],atom=ch4str,unit=\"bohr\",basis={\"H\":\"pc-2\",'C':bse.get_basis(\"pcX-2\",fmt=\"nwchem\",elements=[6])})\n",
    "mf_p = scf.RHF(CH4_p)\n",
    "mf_p.scf(dm0=mf_p.init_guess_by_1e())"
   ]
  },
  {
   "cell_type": "code",
   "execution_count": 52,
   "metadata": {},
   "outputs": [
    {
     "name": "stdout",
     "output_type": "stream",
     "text": [
      "converged SCF energy = -39.5399509316286\n"
     ]
    },
    {
     "data": {
      "text/plain": [
       "-39.53995093162855"
      ]
     },
     "execution_count": 52,
     "metadata": {},
     "output_type": "execute_result"
    }
   ],
   "source": [
    "CH4_m=FcM(fcs=[-dl,0,0,0,dl],atom=ch4str,unit=\"bohr\",basis={\"H\":\"pc-2\",'C':bse.get_basis(\"pcX-2\",fmt=\"nwchem\",elements=[6])})\n",
    "mf_m = scf.RHF(CH4_m)\n",
    "mf_m.scf(dm0=mf_m.init_guess_by_1e())"
   ]
  },
  {
   "cell_type": "code",
   "execution_count": 53,
   "metadata": {},
   "outputs": [],
   "source": [
    "af_p1=aaff(mf_p,[1,0,0,0,-1])+alc_deriv_grad_nuc(CH4_p,[1,0,0,0,-1])\n",
    "af_m1=aaff(mf_m,[1,0,0,0,-1])+alc_deriv_grad_nuc(CH4_m,[1,0,0,0,-1])\n",
    "af_1=afH1+afC"
   ]
  },
  {
   "cell_type": "code",
   "execution_count": 54,
   "metadata": {},
   "outputs": [
    {
     "data": {
      "text/plain": [
       "(array([[ 0.19546,  0.11285,  0.0798 ],\n",
       "        [ 0.     ,  0.     ,  0.     ],\n",
       "        [ 0.     ,  0.     ,  0.     ],\n",
       "        [ 0.     ,  0.     ,  0.     ],\n",
       "        [-0.19546, -0.11285, -0.0798 ]]),\n",
       " array([[ 0.19546,  0.11285,  0.0798 ],\n",
       "        [ 0.     ,  0.     ,  0.     ],\n",
       "        [ 0.     ,  0.     ,  0.     ],\n",
       "        [ 0.     ,  0.     ,  0.     ],\n",
       "        [-0.19546, -0.11285, -0.0798 ]]))"
      ]
     },
     "execution_count": 54,
     "metadata": {},
     "output_type": "execute_result"
    }
   ],
   "source": [
    "(alc_deriv_grad_nuc(CH4_p,[1,0,0,0,-1])-alc_deriv_grad_nuc(CH4_m,[1,0,0,0,-1]))/(2*dl)/2,\\\n",
    "alc_differential_grad_nuc(CH4,[1,0,0,0,-1])-alc_deriv_grad_nuc(CH4,[1,0,0,0,-1])"
   ]
  },
  {
   "cell_type": "code",
   "execution_count": 55,
   "metadata": {},
   "outputs": [],
   "source": [
    "g_nh3_2=af_1+(af_p1-af_m1)/(2*dl)/2\n",
    "#g_nh3_2=aaff(mf,[1,0,0,0,-1])+(aaff(mf_p,[1,0,0,0,-1])-aaff(mf_m,[1,0,0,0,-1]))/.8+alc_differential_grad_nuc(CH4,[1,0,0,0,-1])\n",
    "g_nh3_3=g_nh3_2+(af_p1-2*af_1+af_m1)/dl**2/6"
   ]
  },
  {
   "cell_type": "code",
   "execution_count": 56,
   "metadata": {},
   "outputs": [],
   "source": [
    "nh3predictg=(ch4coords-np.einsum('ijkl,kl->ij',h1,  afC+afH1))[:4]\n",
    "nh3predictg2=(ch4coords-np.einsum('ijkl,kl->ij',h1, g_nh3_2))[:4]\n",
    "nh3predictg3=(ch4coords-np.einsum('ijkl,kl->ij',h1, g_nh3_3))[:4]\n",
    "nh3predictg-=nh3predictg[0]\n",
    "nh3predictg2-=nh3predictg2[0]\n",
    "nh3predictg3-=nh3predictg3[0]"
   ]
  },
  {
   "cell_type": "code",
   "execution_count": 57,
   "metadata": {},
   "outputs": [
    {
     "data": {
      "text/plain": [
       "(1.8853495071094928,\n",
       " 1.8771041371463273,\n",
       " 1.8673665951584084,\n",
       " 1.8742428039116006)"
      ]
     },
     "execution_count": 57,
     "metadata": {},
     "output_type": "execute_result"
    }
   ],
   "source": [
    "norm(nh3optg[3]),norm(nh3predictg[3]),norm(nh3predictg2[3]),norm(nh3predictg3[3])"
   ]
  },
  {
   "cell_type": "code",
   "execution_count": 58,
   "metadata": {},
   "outputs": [
    {
     "data": {
      "text/plain": [
       "(108.193, 103.102, 108.451, 108.342)"
      ]
     },
     "execution_count": 58,
     "metadata": {},
     "output_type": "execute_result"
    }
   ],
   "source": [
    "anglecenter(nh3optg),anglecenter(nh3predictg),anglecenter(nh3predictg2),anglecenter(nh3predictg3)"
   ]
  },
  {
   "cell_type": "code",
   "execution_count": 59,
   "metadata": {},
   "outputs": [
    {
     "name": "stdout",
     "output_type": "stream",
     "text": [
      "converged SCF energy = -56.2053208898247\n"
     ]
    },
    {
     "data": {
      "text/plain": [
       "-56.20532088982467"
      ]
     },
     "execution_count": 59,
     "metadata": {},
     "output_type": "execute_result"
    }
   ],
   "source": [
    "Tm=FcM(fcs=[1,0,0,0,-1],atom=ch4str,unit=\"bohr\",basis={\"H\":\"pc-2\",'C':bse.get_basis(\"pcX-2\",fmt=\"nwchem\",elements=[6])})\n",
    "Tmf = scf.RHF(Tm)\n",
    "Tmf.scf(dm0=Tmf.init_guess_by_1e())"
   ]
  },
  {
   "cell_type": "code",
   "execution_count": 60,
   "metadata": {
    "scrolled": true
   },
   "outputs": [
    {
     "name": "stdout",
     "output_type": "stream",
     "text": [
      "\n",
      "Geometry optimization cycle 1\n",
      "Cartesian coordinates (Angstrom)\n",
      " Atom        New coordinates             dX        dY        dZ\n",
      "   C   0.000000   0.000000   0.000000    0.000000  0.000000  0.000000\n",
      "   H   0.000000   0.000000   1.081561    0.000000  0.000000  0.000000\n",
      "   H   0.000000   1.019706  -0.360520    0.000000  0.000000  0.000000\n",
      "   H   0.883091  -0.509853  -0.360520    0.000000  0.000000  0.000000\n",
      "   H  -0.883091  -0.509853  -0.360520    0.000000  0.000000  0.000000\n",
      "converged SCF energy = -56.2053208898294\n",
      "--------------- SCF_Scanner gradients ---------------\n",
      "         x                y                z\n",
      "0 C    -0.0379250204    -0.0218960208    -0.0154828248\n",
      "1 H    -0.0052085176    -0.0030071391     0.0634324802\n",
      "2 H    -0.0052085176     0.0588023362    -0.0239793180\n",
      "3 H     0.0483200581    -0.0339118767    -0.0239793180\n",
      "4 H     0.0000219976     0.0000127003     0.0000089805\n",
      "----------------------------------------------\n",
      "cycle 1: E = -56.2053208898  dE = -56.2053  norm(grad) = 0.119737\n",
      "\n",
      "Geometry optimization cycle 2\n",
      "Cartesian coordinates (Angstrom)\n",
      " Atom        New coordinates             dX        dY        dZ\n",
      "   C  -0.003614  -0.002087  -0.001475   -0.003614 -0.002087 -0.001475\n",
      "   H   0.023764   0.013720   1.012829    0.023764  0.013720 -0.068732\n",
      "   H   0.023764   0.959478  -0.324674    0.023764 -0.060228  0.035846\n",
      "   H   0.842814  -0.459159  -0.324674   -0.040277  0.050694  0.035846\n",
      "   H  -0.886728  -0.511953  -0.362005   -0.003637 -0.002100 -0.001485\n",
      "\n",
      "WARN: Large deviations found between the input molecule and the molecule from chkfile\n",
      "Initial guess density matrix may have large error.\n",
      "\n",
      "converged SCF energy = -56.2213564274397\n",
      "--------------- SCF_Scanner gradients ---------------\n",
      "         x                y                z\n",
      "0 C    -0.0122084121    -0.0070485300    -0.0049840634\n",
      "1 H     0.0001029805     0.0000594558     0.0145975235\n",
      "2 H     0.0001029805     0.0137824957    -0.0048097857\n",
      "3 H     0.0119874817    -0.0068020641    -0.0048097857\n",
      "4 H     0.0000149695     0.0000086426     0.0000061113\n",
      "----------------------------------------------\n",
      "cycle 2: E = -56.2213564274  dE = -0.0160355  norm(grad) = 0.0293747\n",
      "\n",
      "Geometry optimization cycle 3\n",
      "Cartesian coordinates (Angstrom)\n",
      " Atom        New coordinates             dX        dY        dZ\n",
      "   C  -0.000562  -0.000324  -0.000229    0.003052  0.001762  0.001246\n",
      "   H   0.027238   0.015726   0.994032    0.003474  0.002006 -0.018797\n",
      "   H   0.027238   0.942424  -0.316517    0.003474 -0.017054  0.008157\n",
      "   H   0.829782  -0.447623  -0.316517   -0.013032  0.011536  0.008157\n",
      "   H  -0.883697  -0.510203  -0.360768    0.003031  0.001750  0.001237\n",
      "\n",
      "WARN: Large deviations found between the input molecule and the molecule from chkfile\n",
      "Initial guess density matrix may have large error.\n",
      "\n",
      "converged SCF energy = -56.2219802095324\n",
      "--------------- SCF_Scanner gradients ---------------\n",
      "         x                y                z\n",
      "0 C     0.0011723388     0.0006768501     0.0004786053\n",
      "1 H     0.0007741993     0.0004469842    -0.0039802245\n",
      "2 H     0.0007741993    -0.0036035969     0.0017481622\n",
      "3 H    -0.0027337069     0.0024722747     0.0017481622\n",
      "4 H     0.0000129696     0.0000074880     0.0000052948\n",
      "----------------------------------------------\n",
      "cycle 3: E = -56.2219802095  dE = -0.000623782  norm(grad) = 0.00721013\n",
      "\n",
      "Geometry optimization cycle 4\n",
      "Cartesian coordinates (Angstrom)\n",
      " Atom        New coordinates             dX        dY        dZ\n",
      "   C   0.000529   0.000306   0.000216    0.001091  0.000630  0.000446\n",
      "   H   0.025016   0.014443   0.998630   -0.002222 -0.001283  0.004598\n",
      "   H   0.025016   0.946332  -0.319260   -0.002222  0.003908 -0.002743\n",
      "   H   0.832055  -0.451501  -0.319260    0.002273 -0.003879 -0.002743\n",
      "   H  -0.882616  -0.509579  -0.360327    0.001081  0.000624  0.000441\n",
      "\n",
      "WARN: Large deviations found between the input molecule and the molecule from chkfile\n",
      "Initial guess density matrix may have large error.\n",
      "\n",
      "converged SCF energy = -56.222039103332\n",
      "--------------- SCF_Scanner gradients ---------------\n",
      "         x                y                z\n",
      "0 C    -0.0012132972    -0.0007004975    -0.0004953265\n",
      "1 H     0.0003881441     0.0002240951     0.0002013280\n",
      "2 H     0.0003881441     0.0002645122     0.0001441696\n",
      "3 H     0.0004231463     0.0002038866     0.0001441696\n",
      "4 H     0.0000138626     0.0000080036     0.0000056594\n",
      "----------------------------------------------\n",
      "cycle 4: E = -56.2220391033  dE = -5.88938e-05  norm(grad) = 0.0017125\n",
      "\n",
      "Geometry optimization cycle 5\n",
      "Cartesian coordinates (Angstrom)\n",
      " Atom        New coordinates             dX        dY        dZ\n",
      "   C   0.001789   0.001033   0.000730    0.001259  0.000727  0.000514\n",
      "   H   0.023945   0.013825   0.999062   -0.001071 -0.000618  0.000432\n",
      "   H   0.023945   0.946533  -0.319987   -0.001071  0.000202 -0.000727\n",
      "   H   0.831694  -0.452529  -0.319987   -0.000361 -0.001028 -0.000727\n",
      "   H  -0.881374  -0.508861  -0.359819    0.001242  0.000717  0.000507\n",
      "converged SCF energy = -56.2220444958225\n",
      "--------------- SCF_Scanner gradients ---------------\n",
      "         x                y                z\n",
      "0 C    -0.0007701352    -0.0004446377    -0.0003144064\n",
      "1 H     0.0002132197     0.0001231025     0.0002294915\n",
      "2 H     0.0002132197     0.0002574009     0.0000395649\n",
      "3 H     0.0003295255     0.0000559533     0.0000395649\n",
      "4 H     0.0000141702     0.0000081811     0.0000057849\n",
      "----------------------------------------------\n",
      "cycle 5: E = -56.2220444958  dE = -5.39249e-06  norm(grad) = 0.00110897\n",
      "\n",
      "Geometry optimization cycle 6\n",
      "Cartesian coordinates (Angstrom)\n",
      " Atom        New coordinates             dX        dY        dZ\n",
      "   C   0.003457   0.001996   0.001411    0.001668  0.000963  0.000681\n",
      "   H   0.022615   0.013057   0.999368   -0.001331 -0.000768  0.000306\n",
      "   H   0.022615   0.946565  -0.320813   -0.001331  0.000032 -0.000826\n",
      "   H   0.831057  -0.453698  -0.320813   -0.000637 -0.001168 -0.000826\n",
      "   H  -0.879744  -0.507920  -0.359154    0.001630  0.000941  0.000666\n",
      "converged SCF energy = -56.2220471852948\n",
      "--------------- SCF_Scanner gradients ---------------\n",
      "         x                y                z\n",
      "0 C    -0.0000313058    -0.0000180744    -0.0000127805\n",
      "1 H     0.0000019804     0.0000011434     0.0000140801\n",
      "2 H     0.0000019804     0.0000136560    -0.0000036154\n",
      "3 H     0.0000128166    -0.0000051129    -0.0000036154\n",
      "4 H     0.0000145284     0.0000083880     0.0000059312\n",
      "----------------------------------------------\n",
      "cycle 6: E = -56.2220471853  dE = -2.68947e-06  norm(grad) = 4.89604e-05\n"
     ]
    },
    {
     "name": "stderr",
     "output_type": "stream",
     "text": [
      "/home/administrator/anaconda3/lib/python3.7/site-packages/berny/Math.py:19: RuntimeWarning: divide by zero encountered in true_divide\n",
      "  gaps = D[:-1] / D[1:]\n"
     ]
    }
   ],
   "source": [
    "Tgeom_eq=optimize(Tmf)"
   ]
  },
  {
   "cell_type": "code",
   "execution_count": 61,
   "metadata": {},
   "outputs": [
    {
     "data": {
      "text/plain": [
       "(1.8863278671756294, 108.172)"
      ]
     },
     "execution_count": 61,
     "metadata": {},
     "output_type": "execute_result"
    }
   ],
   "source": [
    "Tgeom_eqcrds=Tgeom_eq.atom_coords()\n",
    "Tgeom_eqcrds-=Tgeom_eqcrds[0]\n",
    "norm(Tgeom_eqcrds[1]),anglecenter(Tgeom_eqcrds)"
   ]
  },
  {
   "cell_type": "code",
   "execution_count": 62,
   "metadata": {},
   "outputs": [
    {
     "name": "stdout",
     "output_type": "stream",
     "text": [
      "--------------- RHF gradients ---------------\n",
      "         x                y                z\n",
      "0 C    -0.0379252172    -0.0218961344    -0.0154829051\n",
      "1 H    -0.0052084464    -0.0030070979     0.0634324768\n",
      "2 H    -0.0052084464     0.0588023467    -0.0239792781\n",
      "3 H     0.0483201028    -0.0339118203    -0.0239792781\n",
      "4 H     0.0000220072     0.0000127059     0.0000089844\n",
      "----------------------------------------------\n"
     ]
    }
   ],
   "source": [
    "Tg=Tmf.Gradients().grad()\n",
    "Th=Tmf.Hessian().hess()"
   ]
  },
  {
   "cell_type": "code",
   "execution_count": 63,
   "metadata": {},
   "outputs": [],
   "source": [
    "Tcoords=Tm.atom_coords()\n",
    "Targg=(ch4coords-np.einsum('ijkl,kl->ij',invhess(Th), Tg ))[:4]"
   ]
  },
  {
   "cell_type": "code",
   "execution_count": 64,
   "metadata": {},
   "outputs": [],
   "source": [
    "Targg-=Targg[0]"
   ]
  },
  {
   "cell_type": "code",
   "execution_count": 65,
   "metadata": {},
   "outputs": [
    {
     "data": {
      "text/plain": [
       "(1.8305452430146139, 109.12)"
      ]
     },
     "execution_count": 65,
     "metadata": {},
     "output_type": "execute_result"
    }
   ],
   "source": [
    "norm(Targg[1]),anglecenter(Targg)"
   ]
  },
  {
   "cell_type": "code",
   "execution_count": 66,
   "metadata": {},
   "outputs": [
    {
     "data": {
      "text/plain": [
       "(array([[ 0.     ,  0.     ,  0.     ],\n",
       "        [ 0.01291,  0.00746,  0.0783 ],\n",
       "        [ 0.01291,  0.0763 , -0.01907],\n",
       "        [ 0.07254, -0.02697, -0.01907],\n",
       "        [ 0.02872,  0.01658,  0.01172]]), array([[0.     , 0.     , 0.     ],\n",
       "        [0.11377, 0.06569, 0.11445],\n",
       "        [0.11377, 0.1298 , 0.02378],\n",
       "        [0.1693 , 0.03363, 0.02378],\n",
       "        [0.19945, 0.11515, 0.08142]]))"
      ]
     },
     "execution_count": 66,
     "metadata": {},
     "output_type": "execute_result"
    }
   ],
   "source": [
    "af_1-af_1[0],g_nh3_2-g_nh3_2[0]"
   ]
  },
  {
   "cell_type": "code",
   "execution_count": 67,
   "metadata": {
    "scrolled": true
   },
   "outputs": [
    {
     "data": {
      "text/plain": [
       "array([[-0.03793, -0.0219 , -0.01548],\n",
       "       [-0.00521, -0.00301,  0.06343],\n",
       "       [-0.00521,  0.0588 , -0.02398],\n",
       "       [ 0.04832, -0.03391, -0.02398],\n",
       "       [ 0.00002,  0.00001,  0.00001]])"
      ]
     },
     "execution_count": 67,
     "metadata": {},
     "output_type": "execute_result"
    }
   ],
   "source": [
    "Tg"
   ]
  },
  {
   "cell_type": "code",
   "execution_count": 68,
   "metadata": {},
   "outputs": [
    {
     "data": {
      "text/plain": [
       "(array([[-0.02542, -0.01467, -0.01038],\n",
       "        [-0.0125 , -0.00722,  0.06792],\n",
       "        [-0.0125 ,  0.06163, -0.02945],\n",
       "        [ 0.04712, -0.04164, -0.02945],\n",
       "        [ 0.0033 ,  0.00191,  0.00135]]),\n",
       " array([[-0.11926, -0.06885, -0.04869],\n",
       "        [-0.00549, -0.00317,  0.06576],\n",
       "        [-0.00549,  0.06095, -0.02491],\n",
       "        [ 0.05004, -0.03522, -0.02491],\n",
       "        [ 0.08019,  0.0463 ,  0.03274]]),\n",
       " array([[-0.06037, -0.03485, -0.02465],\n",
       "        [-0.004  , -0.00231,  0.0639 ],\n",
       "        [-0.004  ,  0.05947, -0.02347],\n",
       "        [ 0.04951, -0.0332 , -0.02347],\n",
       "        [ 0.01886,  0.01089,  0.0077 ]]))"
      ]
     },
     "execution_count": 68,
     "metadata": {},
     "output_type": "execute_result"
    }
   ],
   "source": [
    "af_1,g_nh3_2,g_nh3_3"
   ]
  },
  {
   "cell_type": "markdown",
   "metadata": {},
   "source": [
    "Look at https://en.wikipedia.org/wiki/Bond-dissociation_energy for approximate BDE "
   ]
  },
  {
   "cell_type": "code",
   "execution_count": 69,
   "metadata": {},
   "outputs": [],
   "source": [
    "def mpa(g,h,R0,De):\n",
    "    Z=g**2/(2*De)/h\n",
    "    print(np.roots([1,-2,1-2*Z,+Z]))\n",
    "    t,a=0,0\n",
    "    for i in range(2):\n",
    "        t=float(np.roots([1,-2,1-2*Z,+Z])[i])\n",
    "        a=g/(2*De)/(t*(1-t))\n",
    "        if a>0 and t>0:\n",
    "            break\n",
    "    dX=np.log(t)/a\n",
    "    print(t,a)\n",
    "    return R0+dX"
   ]
  },
  {
   "cell_type": "code",
   "execution_count": 70,
   "metadata": {},
   "outputs": [
    {
     "name": "stdout",
     "output_type": "stream",
     "text": [
      "[ 1.17715  0.85011 -0.02726]\n",
      "0.8501073052675587 1.2445073406328915\n"
     ]
    },
    {
     "data": {
      "text/plain": [
       "1.9133667057308597"
      ]
     },
     "execution_count": 70,
     "metadata": {},
     "output_type": "execute_result"
    }
   ],
   "source": [
    "mpa(Tg[1,2],h0[1,1,2,2],norm(ch4coords[1]),.2)"
   ]
  },
  {
   "cell_type": "code",
   "execution_count": 71,
   "metadata": {},
   "outputs": [
    {
     "data": {
      "text/plain": [
       "1.8312577565319843"
      ]
     },
     "execution_count": 71,
     "metadata": {},
     "output_type": "execute_result"
    }
   ],
   "source": [
    "norm(ch4coords[1])-Tg[1,2]/Th[1,1,2,2]"
   ]
  },
  {
   "cell_type": "code",
   "execution_count": 72,
   "metadata": {},
   "outputs": [
    {
     "data": {
      "text/plain": [
       "2.043854241378284"
      ]
     },
     "execution_count": 72,
     "metadata": {},
     "output_type": "execute_result"
    }
   ],
   "source": [
    "norm(ch4coords[1])"
   ]
  },
  {
   "cell_type": "code",
   "execution_count": 73,
   "metadata": {},
   "outputs": [],
   "source": [
    "from berny import Berny, geomlib, coords,Geometry"
   ]
  },
  {
   "cell_type": "code",
   "execution_count": 74,
   "metadata": {},
   "outputs": [],
   "source": [
    "pbg=Geometry(['N','H','H','H'],ch4coords[:4]*bohr2ang)"
   ]
  },
  {
   "cell_type": "code",
   "execution_count": 75,
   "metadata": {},
   "outputs": [
    {
     "data": {
      "text/plain": [
       "Point(q=array([1.91607, 1.91607, 1.91607, 1.84605, 1.84605, 1.84605]), E=-56.219490717390556, g=None)"
      ]
     },
     "execution_count": 75,
     "metadata": {},
     "output_type": "execute_result"
    }
   ],
   "source": [
    "b=Berny(pbg,debug=True)\n",
    "b.send((Tmf.e_tot,Tg[:4]))['predicted']"
   ]
  },
  {
   "cell_type": "code",
   "execution_count": 76,
   "metadata": {},
   "outputs": [
    {
     "data": {
      "text/plain": [
       "105.77087377012562"
      ]
     },
     "execution_count": 76,
     "metadata": {},
     "output_type": "execute_result"
    }
   ],
   "source": [
    "1.84605*180/np.pi"
   ]
  },
  {
   "cell_type": "code",
   "execution_count": 77,
   "metadata": {},
   "outputs": [
    {
     "data": {
      "text/plain": [
       "Point(q=array([1.9173 , 1.9173 , 1.9173 , 1.79238, 1.79238, 1.79238]), E=-56.226300014472, g=None)"
      ]
     },
     "execution_count": 77,
     "metadata": {},
     "output_type": "execute_result"
    }
   ],
   "source": [
    "b=Berny(pbg,debug=True)\n",
    "b.send((Tmf.e_tot,af_1[:4]))['predicted']"
   ]
  },
  {
   "cell_type": "code",
   "execution_count": 78,
   "metadata": {},
   "outputs": [
    {
     "data": {
      "text/plain": [
       "102.69580928365849"
      ]
     },
     "execution_count": 78,
     "metadata": {},
     "output_type": "execute_result"
    }
   ],
   "source": [
    "1.79238*180/np.pi"
   ]
  },
  {
   "cell_type": "code",
   "execution_count": 79,
   "metadata": {},
   "outputs": [
    {
     "data": {
      "text/plain": [
       "Point(q=array([1.91114, 1.91114, 1.91114, 1.91955, 1.91955, 1.91955]), E=-56.219143201658994, g=None)"
      ]
     },
     "execution_count": 79,
     "metadata": {},
     "output_type": "execute_result"
    }
   ],
   "source": [
    "b=Berny(pbg,debug=True)\n",
    "b.send((Tmf.e_tot,g_nh3_3[:4]))['predicted']"
   ]
  },
  {
   "cell_type": "code",
   "execution_count": 80,
   "metadata": {},
   "outputs": [
    {
     "data": {
      "text/plain": [
       "109.98211356433717"
      ]
     },
     "execution_count": 80,
     "metadata": {},
     "output_type": "execute_result"
    }
   ],
   "source": [
    "1.91955*180/np.pi"
   ]
  },
  {
   "cell_type": "code",
   "execution_count": 81,
   "metadata": {},
   "outputs": [],
   "source": [
    "pbg2=Geometry(['O','H','H'],ch4coords[:3]*bohr2ang)"
   ]
  },
  {
   "cell_type": "code",
   "execution_count": 82,
   "metadata": {},
   "outputs": [
    {
     "data": {
      "text/plain": [
       "(1.88342732347918, 98.22512188533129)"
      ]
     },
     "execution_count": 82,
     "metadata": {},
     "output_type": "execute_result"
    }
   ],
   "source": [
    "b2=Berny(pbg2,debug=True)\n",
    "q=b2.send((Tmf.e_tot,(2*afC+afH1+afH2)[:3]))['predicted'].q\n",
    "q[0],q[2]*180/np.pi"
   ]
  },
  {
   "cell_type": "code",
   "execution_count": 83,
   "metadata": {},
   "outputs": [
    {
     "data": {
      "text/plain": [
       "Point(q=array([1.80025]), E=-56.22047454179093, g=None)"
      ]
     },
     "execution_count": 83,
     "metadata": {},
     "output_type": "execute_result"
    }
   ],
   "source": [
    "pbg3=Geometry(['F','H'],ch4coords[:2]*bohr2ang)\n",
    "b3=Berny(pbg3,debug=True)\n",
    "b3.send((Tmf.e_tot,(3*afC+afH1+afH2+afH3)[:2]))['predicted']"
   ]
  },
  {
   "cell_type": "code",
   "execution_count": null,
   "metadata": {},
   "outputs": [],
   "source": []
  }
 ],
 "metadata": {
  "kernelspec": {
   "display_name": "Python 3",
   "language": "python",
   "name": "python3"
  },
  "language_info": {
   "codemirror_mode": {
    "name": "ipython",
    "version": 3
   },
   "file_extension": ".py",
   "mimetype": "text/x-python",
   "name": "python",
   "nbconvert_exporter": "python",
   "pygments_lexer": "ipython3",
   "version": "3.7.3"
  }
 },
 "nbformat": 4,
 "nbformat_minor": 2
}
