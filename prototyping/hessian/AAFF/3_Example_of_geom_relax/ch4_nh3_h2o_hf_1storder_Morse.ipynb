{
 "cells": [
  {
   "cell_type": "code",
   "execution_count": 1,
   "metadata": {},
   "outputs": [],
   "source": [
    "from aaff import aaff,alc_deriv_grad_nuc,alc_differential_grad_nuc\n",
    "from berny import Berny, geomlib, coords,Geometry,Math\n",
    "from FcMole import FcM,FcM_like\n",
    "from AP_class import APDFT_perturbator\n",
    "from alch_deriv import alch_deriv\n",
    "from pyscf import gto,scf\n",
    "import numpy as np \n",
    "from numpy import dot,log\n",
    "from numpy.linalg import norm as norm\n",
    "import matplotlib.pyplot as plt\n",
    "from pyscf.grad import rhf as grhf\n",
    "from pyscf.hessian import rhf as hrhf\n",
    "from pyscf.geomopt.berny_solver import to_berny_geom as tbg\n",
    "import basis_set_exchange as bse\n",
    "from FDcoeffs import *\n",
    "from pyscf.geomopt.berny_solver import optimize\n",
    "ang2bohr=1.8897261246\n",
    "bohr2ang=.5291772109\n",
    "np.set_printoptions(precision=3)"
   ]
  },
  {
   "cell_type": "code",
   "execution_count": 2,
   "metadata": {},
   "outputs": [],
   "source": [
    "import ipyvolume as ipv\n",
    "from mpl_toolkits.mplot3d import Axes3D"
   ]
  },
  {
   "cell_type": "code",
   "execution_count": 3,
   "metadata": {},
   "outputs": [],
   "source": [
    "import berny.coords\n",
    "import sys\n",
    "sys.path.append(\"/home/administrator/Documenti/APDFT/prototyping/hessian/AAFF/Libs/\")\n",
    "from Morse import mpa\n",
    "from AP_class import APDFT_perturbator as APP"
   ]
  },
  {
   "cell_type": "code",
   "execution_count": 4,
   "metadata": {},
   "outputs": [],
   "source": [
    "def anglecenter(coords):\n",
    "    return np.around(np.arccos(coords[1].dot(coords[2])/norm(coords[1])/norm(coords[2])),decimals=3)\n",
    "def cnorm(c):\n",
    "    return norm(c[1]-c[0])"
   ]
  },
  {
   "cell_type": "code",
   "execution_count": 5,
   "metadata": {},
   "outputs": [],
   "source": [
    "def build_h_ic(s,g_ic,h0,B_inv):\n",
    "    geom0=s.geom.copy()\n",
    "    B=s.coords.B_matrix(geom0)\n",
    "    bms=[]\n",
    "    for i in range(geom0.coords.flatten().shape[0]):\n",
    "        a=geom0.coords.flatten()\n",
    "        geom1=geom0.copy()\n",
    "        a[i]+=.001*bohr2ang\n",
    "        a=a.reshape(geom0.coords.shape)\n",
    "        geom1.coords=a\n",
    "        bms.append((s.coords.B_matrix(geom1)-B)*1000)\n",
    "    bms_arr=np.asarray(bms)\n",
    "    BpG2=np.einsum('ijk,j->ik',bms,g_ic)\n",
    "    h_ic=B_inv.T@(h0-BpG2)@B_inv\n",
    "    return h_ic"
   ]
  },
  {
   "cell_type": "code",
   "execution_count": 69,
   "metadata": {},
   "outputs": [],
   "source": [
    "tbbde={\"CH\":105/627.5,\"HC\":105/627.5,\"NH\":110/627.5,\"HN\":110/627.5,\\\n",
    "       \"OH\":119/627.5,\"HO\":119/627.5,\"FH\":136/627.5,\"HF\":136/627.5}\n",
    "def mpa_pb(coords,atoml,g,h,gic=False,solve_ic=False):\n",
    "    g=np.asarray(g)\n",
    "    if not len(h.shape)==2:\n",
    "        h=h.swapaxes(1,2)\n",
    "        h=h.reshape(g.shape[0]*3,g.shape[0]*3)\n",
    "    geom0=Geometry(atoml,coords*bohr2ang)\n",
    "    bernyobj=Berny(geom0)\n",
    "    s=bernyobj._state\n",
    "    B = s.coords.B_matrix(geom0)\n",
    "    q0=s.coords.eval_geom(geom0)\n",
    "    B_inv = B.T.dot(Math.pinv(np.dot(B, B.T)))\n",
    "    if not gic:\n",
    "        g_ic=np.dot(B_inv.T, (g).reshape(-1))\n",
    "    else:\n",
    "        g_ic=g\n",
    "   # print(g_ic)\n",
    "    h_ic=build_h_ic(s,g_ic,h,B_inv)\n",
    "  #  print (s.coords._coords)\n",
    "    ddq_mb=np.zeros_like(q0)\n",
    "    for i in range(len(s.coords._coords)):\n",
    "        if s.coords._coords[i].__class__ is berny.coords.Bond:\n",
    "            bondatoms=atoml[s.coords._coords[i].i]+atoml[s.coords._coords[i].j]\n",
    "            ddq_mb[i]+=mpa(g_ic[i],h_ic[i,i],q0[i],tbbde[bondatoms])[0]+g_ic[i]/h_ic[i,i]-q0[i]\n",
    "    if not solve_ic:    return ddq_mb[0]\n",
    "    else: \n",
    "        dq_NR=-np.linalg.solve(h_ic,g_ic)\n",
    "        return q0,q0+dq_NR,q0+dq_NR+ddq_mb\n",
    "    #ddq_mb=np.asarray([mpa(g_ic[0],h_ic[0,0],q0[0],tbde)[0]+g_ic[0]/h_ic[0,0]"
   ]
  },
  {
   "cell_type": "code",
   "execution_count": 7,
   "metadata": {},
   "outputs": [],
   "source": [
    "l=3.3376\n",
    "x=-(1/24)**.5*l\n",
    "z=(2/3)**.5*l+x\n",
    "ch4str=\"C 0 0 0; H 0 0  {}; H  0  {} {}; H {} {} {}; H {} {} {}\".format(z,l/3**.5,x,l/2,-l*3**.5/6,x,-l/2,-l*3**.5/6,x)"
   ]
  },
  {
   "cell_type": "code",
   "execution_count": 8,
   "metadata": {},
   "outputs": [
    {
     "name": "stdout",
     "output_type": "stream",
     "text": [
      "converged SCF energy = -40.2151804034984\n"
     ]
    },
    {
     "data": {
      "text/plain": [
       "-40.21518040349835"
      ]
     },
     "execution_count": 8,
     "metadata": {},
     "output_type": "execute_result"
    }
   ],
   "source": [
    "CH4=gto.M(atom=ch4str,unit=\"bohr\",basis={\"H\":\"pc-2\",'C':bse.get_basis(\"pcX-2\",fmt=\"nwchem\",elements=[6])})\n",
    "mf = scf.RHF(CH4)\n",
    "mf.scf()"
   ]
  },
  {
   "cell_type": "code",
   "execution_count": 9,
   "metadata": {},
   "outputs": [
    {
     "name": "stdout",
     "output_type": "stream",
     "text": [
      "--------------- RHF gradients ---------------\n",
      "         x                y                z\n",
      "0 C     0.0000000000     0.0000000000    -0.0000000000\n",
      "1 H     0.0000000000     0.0000000000    -0.0000007926\n",
      "2 H     0.0000000000    -0.0000007473     0.0000002642\n",
      "3 H    -0.0000006472     0.0000003736     0.0000002642\n",
      "4 H     0.0000006472     0.0000003736     0.0000002642\n",
      "----------------------------------------------\n"
     ]
    }
   ],
   "source": [
    "g0=mf.Gradients().grad()"
   ]
  },
  {
   "cell_type": "code",
   "execution_count": 10,
   "metadata": {},
   "outputs": [],
   "source": [
    "h0=mf.Hessian().hess()"
   ]
  },
  {
   "cell_type": "code",
   "execution_count": 11,
   "metadata": {},
   "outputs": [],
   "source": [
    "ch4coords=CH4.atom_coords()"
   ]
  },
  {
   "cell_type": "code",
   "execution_count": 12,
   "metadata": {},
   "outputs": [],
   "source": [
    "afC=aaff(mf,[1,0,0,0,0])+alc_deriv_grad_nuc(CH4,[1,0,0,0,0])\n",
    "afH1=aaff(mf,[0,0,0,0,-1])+alc_deriv_grad_nuc(CH4,[0,0,0,0,-1])\n",
    "afH2=aaff(mf,[0,0,0,-1,0])+alc_deriv_grad_nuc(CH4,[0,0,0,-1,0])\n",
    "afH3=aaff(mf,[0,0,-1,0,0])+alc_deriv_grad_nuc(CH4,[0,0,-1,0,0])"
   ]
  },
  {
   "cell_type": "code",
   "execution_count": 28,
   "metadata": {},
   "outputs": [
    {
     "data": {
      "text/plain": [
       "array([[0.   , 0.   , 0.   ],\n",
       "       [0.   , 0.   , 1.696]])"
      ]
     },
     "execution_count": 28,
     "metadata": {},
     "output_type": "execute_result"
    }
   ],
   "source": [
    "nh3optg,oh2optg,fhoptg=np.load(\"optgeoms.npy\")"
   ]
  },
  {
   "cell_type": "code",
   "execution_count": 30,
   "metadata": {},
   "outputs": [],
   "source": [
    "#getting inverse of the hessian matrix\n",
    "H1=np.linalg.inv((np.swapaxes(h0,1,2)).reshape(15,15))\n",
    "h1=H1.reshape(5,3,5,3)"
   ]
  },
  {
   "cell_type": "code",
   "execution_count": 31,
   "metadata": {},
   "outputs": [],
   "source": [
    "nh3predictg=(ch4coords-np.einsum('ijkl,kl->ij',h1,  afC+afH1))[:4]\n",
    "oh2predictg=(ch4coords-np.einsum('ijkl,kl->ij',h1,  2*afC+afH1+afH2))[:3]\n",
    "fhpredictg=(ch4coords-np.einsum('ijkl,kl->ij',h1,  3*afC+afH1+afH2+afH3))[:2]"
   ]
  },
  {
   "cell_type": "code",
   "execution_count": 32,
   "metadata": {},
   "outputs": [],
   "source": [
    "#place non H atom in the origin\n",
    "nh3predictg-=nh3predictg[0]\n",
    "oh2predictg-=oh2predictg[0]\n",
    "fhpredictg-=fhpredictg[0]"
   ]
  },
  {
   "cell_type": "code",
   "execution_count": 71,
   "metadata": {},
   "outputs": [
    {
     "name": "stdout",
     "output_type": "stream",
     "text": [
      "2.043854241378284\n",
      "1.877102610434938 1.9276049907831783 1.8856061076490165\n",
      "1.7017425238100001 1.8819527137059242 1.7756053665813991\n",
      "1.5148043094330303 1.8608835940133732 1.69574139\n"
     ]
    }
   ],
   "source": [
    "#bond lengths\n",
    "print(norm(ch4coords[1]))\n",
    "print(norm(nh3predictg[1]),norm(nh3predictg[1])+mpa_pb(ch4coords,[\"N\",\"H\",\"H\",\"H\",\"H\"],(afC+afH1),(np.swapaxes(h0,1,2)).reshape(15,15))\\\n",
    "      ,norm(nh3optg[1]))\n",
    "print(norm(oh2predictg[1]),norm(oh2predictg[1])+mpa_pb(ch4coords,[\"O\",\"H\",\"H\",\"H\",\"H\"],(2*afC+afH1+afH2),(np.swapaxes(h0,1,2)).reshape(15,15))\\\n",
    "      ,norm(oh2optg[1]))\n",
    "print(norm(fhpredictg[1]),norm(fhpredictg[1])+mpa_pb(ch4coords,[\"F\",\"H\",\"H\",\"H\",\"H\"],(3*afC+afH1+afH2+afH3),(np.swapaxes(h0,1,2)).reshape(15,15))\\\n",
    "      ,norm(fhoptg[1]))"
   ]
  },
  {
   "cell_type": "code",
   "execution_count": 72,
   "metadata": {},
   "outputs": [
    {
     "data": {
      "text/plain": [
       "(array([2.044, 2.044, 2.044, 2.044, 1.911, 1.911, 1.911, 1.911, 1.911,\n",
       "        1.911]),\n",
       " array([1.875, 1.875, 1.875, 2.038, 2.135, 2.135, 2.411, 2.135, 2.411,\n",
       "        2.411]),\n",
       " array([1.926, 1.926, 1.926, 2.038, 2.135, 2.135, 2.411, 2.135, 2.411,\n",
       "        2.411]))"
      ]
     },
     "execution_count": 72,
     "metadata": {},
     "output_type": "execute_result"
    }
   ],
   "source": [
    "mpa_pb(ch4coords,[\"N\",\"H\",\"H\",\"H\",\"H\"],(afC+afH1),(np.swapaxes(h0,1,2)).reshape(15,15),solve_ic=True)"
   ]
  },
  {
   "cell_type": "code",
   "execution_count": 48,
   "metadata": {},
   "outputs": [
    {
     "name": "stdout",
     "output_type": "stream",
     "text": [
      "s\n",
      "converged SCF energy = -56.2053208898248\n",
      "--------------- RHF gradients ---------------\n",
      "         x                y                z\n",
      "0 C    -0.0379252172    -0.0218961344    -0.0154829051\n",
      "1 H    -0.0052084464    -0.0030070979     0.0634324768\n",
      "2 H    -0.0052084464     0.0588023467    -0.0239792781\n",
      "3 H     0.0483201028    -0.0339118203    -0.0239792781\n",
      "4 H     0.0000220072     0.0000127059     0.0000089844\n",
      "----------------------------------------------\n"
     ]
    }
   ],
   "source": [
    "mfp1=scf.RHF(FcM_like(CH4,fcs=[1,0,0,0,-1]))\n",
    "mfp1.scf(dm0=mfp1.init_guess_by_1e())\n",
    "gp1=mfp1.Gradients().grad()\n",
    "hp1=mfp1.Hessian().hess()"
   ]
  },
  {
   "cell_type": "code",
   "execution_count": 49,
   "metadata": {},
   "outputs": [
    {
     "name": "stdout",
     "output_type": "stream",
     "text": [
      "s\n",
      "converged SCF energy = -76.0272830766302\n",
      "--------------- RHF gradients ---------------\n",
      "         x                y                z\n",
      "0 C    -0.0000000000    -0.0866717430    -0.0612861772\n",
      "1 H     0.0000000000    -0.0101452050     0.1063794599\n",
      "2 H     0.0000000000     0.0969137816    -0.0450248110\n",
      "3 H     0.0000567099    -0.0000484168    -0.0000342358\n",
      "4 H    -0.0000567099    -0.0000484168    -0.0000342358\n",
      "----------------------------------------------\n"
     ]
    }
   ],
   "source": [
    "mfp2=scf.RHF(FcM_like(CH4,fcs=[2,0,0,-1,-1]))\n",
    "mfp2.scf(dm0=mfp2.init_guess_by_1e())\n",
    "gp2=mfp2.Gradients().grad()\n",
    "hp2=mfp2.Hessian().hess()"
   ]
  },
  {
   "cell_type": "code",
   "execution_count": 50,
   "metadata": {},
   "outputs": [
    {
     "name": "stdout",
     "output_type": "stream",
     "text": [
      "s\n",
      "converged SCF energy = -100.027837815927\n",
      "--------------- RHF gradients ---------------\n",
      "         x                y                z\n",
      "0 C    -0.0000000351    -0.0000002003    -0.1356407882\n",
      "1 H     0.0000000354     0.0000002023     0.1358085065\n",
      "2 H    -0.0000000002     0.0002073815    -0.0000559045\n",
      "3 H     0.0001795974    -0.0001036918    -0.0000559066\n",
      "4 H    -0.0001795975    -0.0001036916    -0.0000559071\n",
      "----------------------------------------------\n"
     ]
    }
   ],
   "source": [
    "mfp3=scf.RHF(FcM_like(CH4,fcs=[3,0,-1,-1,-1]))\n",
    "mfp3.scf(dm0=mfp3.init_guess_by_1e())\n",
    "gp3=mfp3.Gradients().grad()\n",
    "hp3=mfp3.Hessian().hess()"
   ]
  },
  {
   "cell_type": "code",
   "execution_count": 51,
   "metadata": {},
   "outputs": [],
   "source": [
    "p1cds=ch4coords-np.linalg.solve((np.swapaxes(hp1,1,2)).reshape(15,15),gp1.reshape(-1)).reshape(5,3)\n",
    "p1cds-=p1cds[0]\n",
    "p2cds=ch4coords-np.linalg.solve((np.swapaxes(hp2,1,2)).reshape(15,15),gp2.reshape(-1)).reshape(5,3)\n",
    "p2cds-=p2cds[0]\n",
    "p3cds=ch4coords-np.linalg.solve((np.swapaxes(hp3,1,2)).reshape(15,15),gp3.reshape(-1)).reshape(5,3)\n",
    "p3cds-=p3cds[0]"
   ]
  },
  {
   "cell_type": "code",
   "execution_count": 70,
   "metadata": {},
   "outputs": [
    {
     "data": {
      "text/plain": [
       "(1.8909383423668487, 1.7953046892110192, 1.7377378345683856)"
      ]
     },
     "execution_count": 70,
     "metadata": {},
     "output_type": "execute_result"
    }
   ],
   "source": [
    "norm(p1cds[1])+mpa_pb(ch4coords,[\"N\",\"H\",\"H\",\"H\",\"H\"],gp1,(np.swapaxes(hp1,1,2)).reshape(15,15)),\\\n",
    "norm(p2cds[1])+mpa_pb(ch4coords,[\"O\",\"H\",\"H\",\"H\",\"H\"],gp2,(np.swapaxes(hp2,1,2)).reshape(15,15)),\\\n",
    "norm(p3cds[1])+mpa_pb(ch4coords,[\"F\",\"H\",\"H\",\"H\",\"H\"],gp3,(np.swapaxes(hp3,1,2)).reshape(15,15))"
   ]
  },
  {
   "cell_type": "code",
   "execution_count": 53,
   "metadata": {},
   "outputs": [
    {
     "name": "stdout",
     "output_type": "stream",
     "text": [
      "[0.063 0.063 0.063 0.012 0.012 0.012]\n",
      "[Bond(0, 1, weak=0), Bond(0, 2, weak=0), Bond(0, 3, weak=0), Angle(1, 0, 2, weak=0), Angle(1, 0, 3, weak=0), Angle(2, 0, 3, weak=0)]\n"
     ]
    },
    {
     "data": {
      "text/plain": [
       "(array([2.044, 2.044, 2.044, 1.911, 1.911, 1.911]),\n",
       " array([1.83 , 1.83 , 1.83 , 1.911, 1.911, 1.911]),\n",
       " array([1.89 , 1.89 , 1.89 , 1.911, 1.911, 1.911]))"
      ]
     },
     "execution_count": 53,
     "metadata": {},
     "output_type": "execute_result"
    }
   ],
   "source": [
    "mpa_pb(ch4coords[:4],[\"N\",\"H\",\"H\",\"H\"],gp1[:4],(np.swapaxes(hp1,1,2)).reshape(15,15)[:12,:12],solve_ic=True)"
   ]
  },
  {
   "cell_type": "code",
   "execution_count": 54,
   "metadata": {},
   "outputs": [
    {
     "name": "stdout",
     "output_type": "stream",
     "text": [
      "1.8856061076490165 1.7756053665813991 1.69574139\n"
     ]
    }
   ],
   "source": [
    "print(norm(nh3optg[1]),norm(oh2optg[1]),norm(fhoptg[1]))"
   ]
  },
  {
   "cell_type": "code",
   "execution_count": 55,
   "metadata": {},
   "outputs": [
    {
     "data": {
      "text/plain": [
       "(1.905, 1.861)"
      ]
     },
     "execution_count": 55,
     "metadata": {},
     "output_type": "execute_result"
    }
   ],
   "source": [
    "anglecenter(p1cds),anglecenter(p2cds)"
   ]
  },
  {
   "cell_type": "code",
   "execution_count": 56,
   "metadata": {},
   "outputs": [
    {
     "data": {
      "text/plain": [
       "(1.911, 1.888, 1.857)"
      ]
     },
     "execution_count": 56,
     "metadata": {},
     "output_type": "execute_result"
    }
   ],
   "source": [
    "anglecenter(ch4coords),anglecenter(nh3optg),anglecenter(oh2optg)"
   ]
  },
  {
   "cell_type": "code",
   "execution_count": 57,
   "metadata": {},
   "outputs": [
    {
     "data": {
      "text/plain": [
       "(109.14845997242182, 106.62744567384621)"
      ]
     },
     "execution_count": 57,
     "metadata": {},
     "output_type": "execute_result"
    }
   ],
   "source": [
    "anglecenter(p1cds)*180/np.pi,anglecenter(p2cds)*180/np.pi"
   ]
  },
  {
   "cell_type": "code",
   "execution_count": 58,
   "metadata": {},
   "outputs": [
    {
     "data": {
      "text/plain": [
       "(109.49223464950032, 108.17443172069942, 106.39826255579388)"
      ]
     },
     "execution_count": 58,
     "metadata": {},
     "output_type": "execute_result"
    }
   ],
   "source": [
    "anglecenter(ch4coords)*180/np.pi,anglecenter(nh3optg)*180/np.pi,anglecenter(oh2optg)*180/np.pi"
   ]
  },
  {
   "cell_type": "code",
   "execution_count": null,
   "metadata": {},
   "outputs": [],
   "source": []
  }
 ],
 "metadata": {
  "kernelspec": {
   "display_name": "Python 3",
   "language": "python",
   "name": "python3"
  },
  "language_info": {
   "codemirror_mode": {
    "name": "ipython",
    "version": 3
   },
   "file_extension": ".py",
   "mimetype": "text/x-python",
   "name": "python",
   "nbconvert_exporter": "python",
   "pygments_lexer": "ipython3",
   "version": "3.7.3"
  }
 },
 "nbformat": 4,
 "nbformat_minor": 2
}
