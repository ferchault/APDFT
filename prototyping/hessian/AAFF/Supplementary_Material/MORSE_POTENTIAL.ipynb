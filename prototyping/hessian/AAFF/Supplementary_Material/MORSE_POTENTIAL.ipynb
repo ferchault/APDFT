{
 "cells": [
  {
   "cell_type": "code",
   "execution_count": 1,
   "metadata": {},
   "outputs": [
    {
     "ename": "ModuleNotFoundError",
     "evalue": "No module named 'AP_class'",
     "output_type": "error",
     "traceback": [
      "\u001b[0;31m---------------------------------------------------------------------------\u001b[0m",
      "\u001b[0;31mModuleNotFoundError\u001b[0m                       Traceback (most recent call last)",
      "\u001b[0;32m<ipython-input-1-5ed9e151d1bd>\u001b[0m in \u001b[0;36m<module>\u001b[0;34m\u001b[0m\n\u001b[1;32m      6\u001b[0m \u001b[0mget_ipython\u001b[0m\u001b[0;34m(\u001b[0m\u001b[0;34m)\u001b[0m\u001b[0;34m.\u001b[0m\u001b[0mrun_line_magic\u001b[0m\u001b[0;34m(\u001b[0m\u001b[0;34m'load_ext'\u001b[0m\u001b[0;34m,\u001b[0m \u001b[0;34m'autoreload'\u001b[0m\u001b[0;34m)\u001b[0m\u001b[0;34m\u001b[0m\u001b[0;34m\u001b[0m\u001b[0m\n\u001b[1;32m      7\u001b[0m \u001b[0mget_ipython\u001b[0m\u001b[0;34m(\u001b[0m\u001b[0;34m)\u001b[0m\u001b[0;34m.\u001b[0m\u001b[0mrun_line_magic\u001b[0m\u001b[0;34m(\u001b[0m\u001b[0;34m'autoreload'\u001b[0m\u001b[0;34m,\u001b[0m \u001b[0;34m'2'\u001b[0m\u001b[0;34m)\u001b[0m\u001b[0;34m\u001b[0m\u001b[0;34m\u001b[0m\u001b[0m\n\u001b[0;32m----> 8\u001b[0;31m \u001b[0;32mfrom\u001b[0m \u001b[0mAP_class\u001b[0m \u001b[0;32mimport\u001b[0m \u001b[0mAPDFT_perturbator\u001b[0m \u001b[0;32mas\u001b[0m \u001b[0mAP\u001b[0m\u001b[0;34m\u001b[0m\u001b[0;34m\u001b[0m\u001b[0m\n\u001b[0m",
      "\u001b[0;31mModuleNotFoundError\u001b[0m: No module named 'AP_class'"
     ]
    }
   ],
   "source": [
    "import numpy as np\n",
    "from pyscf import gto,scf\n",
    "from pyscf.grad import rhf as grhf\n",
    "from pyscf.hessian import rhf as hrhf\n",
    "from matplotlib import pyplot as plt\n",
    "%load_ext autoreload\n",
    "%autoreload 2\n",
    "from AP_class import APDFT_perturbator as AP"
   ]
  },
  {
   "cell_type": "markdown",
   "metadata": {},
   "source": [
    "### Morse potential\n",
    "The Morse potential is the best fit for the binding potential of a diatomic molecule. <br>\n",
    "It's parameters are: $D_e$ , the positive Dissociation Energy, $r_e$ the distance of equilibrium, and $a$ a parameter that gives the width of the energy hole.<br>\n",
    "$a$ is correlated to the second derivative $k$ in the minum bt the relationship:\n",
    "$ a = \\sqrt{k_e/2D_e} $ and at reverse $ k_e = 2D_e a^2 $ <br>\n",
    "If we assume the energy in the minimum to be zero we use the following expression:\n",
    "$$ V_{Morse}(r)= D_e (1-e^{-a(r-r_e)})^2\n",
    "$$\n",
    "If other wise we chose to fit the total elettrostatic plus kinetic energy of the system, than we can express the potential as :\n",
    "$$  V_{Morse}(r)= D_e (e^{-a2(r-r_e)}-2e^{-a(r-r_e)})+V(r=\\infty)\n",
    "$$\n",
    "Such expression can be usefull because the V at infinite can be estimate accuratly from QM calculation for separated atoms (as long as the method chosen is size-consistent) , once for all. <br>\n",
    "what we are left with is an expression of the potential in terms of only three parameters. <br>\n",
    "If a method posses analytical first and second derivative we can fit with one single scf the whole potential energy curve of the biatomic dissociation. <br>\n",
    "Such a scf can also come from an alchemycal perturbed density functional calculation... <br>\n",
    "If this thing will in future be implemented, would be usefull the expression for the first and second derivatives of the Morse potential: \n",
    "$$  V_{Morse}(r)= D_e (e^{-2a(r-r_e)}-2e^{-a(r-r_e)})+D_e\n",
    "$$ <br>\n",
    "$$ \\frac{dV_{Morse}}{dr}= -2a D_e(e^{-2a(r-r_e)}-e^{-a(r-r_e)}) \n",
    "$$ <br>\n",
    "$$ \\frac{dV_{Morse}^2}{dr^2}= -2a^2 D_e(e^{-a(r-r_e)}-2e^{-2a(r-r_e)})\n",
    "$$ \n",
    "if $t=e^{-a(r-r_e)}$"
   ]
  },
  {
   "cell_type": "markdown",
   "metadata": {},
   "source": [
    "$$ \\frac{dV_{Morse}}{dr}= 2D_e a (t-t^2) \n",
    "$$ <br>\n",
    "$$ \\frac{dV_{Morse}^2}{dr^2}= 2 D_e a^2 (2t^2-t)\n",
    "$$ "
   ]
  },
  {
   "cell_type": "markdown",
   "metadata": {},
   "source": [
    "$$ \\tilde g = \\frac{g}{2D_e} $$<br>\n",
    "$$\\tilde h = \\frac{h}{2D_e}$$"
   ]
  },
  {
   "cell_type": "markdown",
   "metadata": {},
   "source": [
    "$$ \\tilde{g}= a t(1-t) \n",
    "$$ <br>\n",
    "$$  \\tilde h = a^2 t(2t-1)\n",
    "$$ <br>\n",
    "$$ \\frac{\\tilde g ^2}{\\tilde h} =Z= \\frac{ t(1-t)^2}{2t-1}\n",
    "$$"
   ]
  },
  {
   "cell_type": "markdown",
   "metadata": {},
   "source": [
    "$$ t^3 -2t^2+t =Z(2t-1) $$ <br>$$\n",
    "t^3-2t^2+(1-2Z)t-Z=0\n",
    "$$\n",
    "To be solved for t>0"
   ]
  },
  {
   "cell_type": "code",
   "execution_count": 2,
   "metadata": {},
   "outputs": [],
   "source": [
    "def MorseV(r,D,a,re):\n",
    "    return D*(np.exp(-2*a*(r-re))-2*np.exp(-a*(r-re)))+D"
   ]
  },
  {
   "cell_type": "code",
   "execution_count": 3,
   "metadata": {},
   "outputs": [
    {
     "data": {
      "text/plain": [
       "array([ 2.91433544e-16+1.j,  2.91433544e-16-1.j, -5.00000000e-01+0.j])"
      ]
     },
     "execution_count": 3,
     "metadata": {},
     "output_type": "execute_result"
    }
   ],
   "source": [
    "np.roots([2,1,2,1])"
   ]
  },
  {
   "cell_type": "markdown",
   "metadata": {},
   "source": [
    "## Minima for N2, CO"
   ]
  },
  {
   "cell_type": "code",
   "execution_count": 4,
   "metadata": {},
   "outputs": [
    {
     "name": "stdout",
     "output_type": "stream",
     "text": [
      "converged SCF energy = -107.500654261793\n",
      "--------------- RHF gradients ---------------\n",
      "         x                y                z\n",
      "0 N    -0.0000000000    -0.0000000000    -0.0000601570\n",
      "1 N     0.0000000000     0.0000000000     0.0000601570\n",
      "----------------------------------------------\n"
     ]
    },
    {
     "data": {
      "text/plain": [
       "6.015699931261054e-05"
      ]
     },
     "execution_count": 4,
     "metadata": {},
     "output_type": "execute_result"
    }
   ],
   "source": [
    "mol=gto.M(atom=\"N 0 0 0;N 0 0 2.1427\", unit=\"Bohr\")\n",
    "mf=scf.RHF(mol)\n",
    "mf.scf()\n",
    "mf.Gradients().grad()[1,2]"
   ]
  },
  {
   "cell_type": "code",
   "execution_count": 5,
   "metadata": {},
   "outputs": [
    {
     "name": "stdout",
     "output_type": "stream",
     "text": [
      "converged SCF energy = -111.225449512559\n",
      "--------------- RHF gradients ---------------\n",
      "         x                y                z\n",
      "0 C    -0.0000000000     0.0000000000     0.0000706232\n",
      "1 O     0.0000000000    -0.0000000000    -0.0000706232\n",
      "----------------------------------------------\n"
     ]
    },
    {
     "data": {
      "text/plain": [
       "-7.06232109166649e-05"
      ]
     },
     "execution_count": 5,
     "metadata": {},
     "output_type": "execute_result"
    }
   ],
   "source": [
    "mol=gto.M(atom=\"C 0 0 0;O 0 0 2.1646\", unit=\"Bohr\")\n",
    "mf=scf.RHF(mol)\n",
    "mf.scf()\n",
    "mf.Gradients().grad()[1,2]"
   ]
  },
  {
   "cell_type": "code",
   "execution_count": 6,
   "metadata": {},
   "outputs": [
    {
     "name": "stdout",
     "output_type": "stream",
     "text": [
      "converged SCF energy = -111.199724042755  <S^2> = 3.1974423e-14  2S+1 = 1\n",
      "--------------- UHF gradients ---------------\n",
      "         x                y                z\n",
      "0 C     0.0000000000    -0.0000000000     0.3426279340\n",
      "1 O    -0.0000000000     0.0000000000    -0.3426279340\n",
      "----------------------------------------------\n"
     ]
    }
   ],
   "source": [
    "R0=2\n",
    "mol=gto.M(atom=\"C 0 0 0;O 0 0 {}\".format(R0), unit=\"Bohr\")\n",
    "mf=scf.UHF(mol)\n",
    "e_co=mf.scf()\n",
    "g=mf.Gradients().grad()[1,2]\n",
    "h=mf.Hessian().hess()[1,1,2,2]"
   ]
  },
  {
   "cell_type": "code",
   "execution_count": 7,
   "metadata": {},
   "outputs": [
    {
     "name": "stdout",
     "output_type": "stream",
     "text": [
      "converged SCF energy = -37.0895866394329  <S^2> = 0  2S+1 = 1\n",
      "converged SCF energy = -73.6618168979007  <S^2> = 0  2S+1 = 1\n"
     ]
    }
   ],
   "source": [
    "ec=scf.UHF(gto.M(atom=\"C 0 0 0\")).scf()\n",
    "eo=scf.UHF(gto.M(atom=\"O 0 0 0\")).scf()"
   ]
  },
  {
   "cell_type": "code",
   "execution_count": 8,
   "metadata": {},
   "outputs": [],
   "source": [
    "bde=ec+eo-e_co"
   ]
  },
  {
   "cell_type": "code",
   "execution_count": 9,
   "metadata": {},
   "outputs": [
    {
     "data": {
      "text/plain": [
       "(-0.3426279339989051, 2.676410340314373, 0.44832050542096624)"
      ]
     },
     "execution_count": 9,
     "metadata": {},
     "output_type": "execute_result"
    }
   ],
   "source": [
    "g,h,bde"
   ]
  },
  {
   "cell_type": "code",
   "execution_count": 10,
   "metadata": {},
   "outputs": [],
   "source": [
    "De=227/627\n",
    "Z=g**2/(2*De)/h"
   ]
  },
  {
   "cell_type": "markdown",
   "metadata": {},
   "source": [
    "$$ t^3 -2t^2+t =Z(2t-1) $$ <br>$$\n",
    "t^3-2t^2+(1-2Z)t+Z=0\n",
    "$$\n",
    "To be solved for t>0"
   ]
  },
  {
   "cell_type": "code",
   "execution_count": 11,
   "metadata": {},
   "outputs": [
    {
     "data": {
      "text/plain": [
       "array([ 1.27110217,  0.78927797, -0.06038014])"
      ]
     },
     "execution_count": 11,
     "metadata": {},
     "output_type": "execute_result"
    }
   ],
   "source": [
    "np.roots([1,-2,1-2*Z,+Z])"
   ]
  },
  {
   "cell_type": "code",
   "execution_count": 12,
   "metadata": {},
   "outputs": [
    {
     "data": {
      "text/plain": [
       "1.2711021690091002"
      ]
     },
     "execution_count": 12,
     "metadata": {},
     "output_type": "execute_result"
    }
   ],
   "source": [
    "t=float(np.roots([1,-2,1-2*Z,+Z])[0])\n",
    "t"
   ]
  },
  {
   "cell_type": "markdown",
   "metadata": {},
   "source": [
    "$$ a=\\frac{\\tilde g}{t(1-t)}$$"
   ]
  },
  {
   "cell_type": "code",
   "execution_count": 13,
   "metadata": {},
   "outputs": [
    {
     "data": {
      "text/plain": [
       "1.3731595556085587"
      ]
     },
     "execution_count": 13,
     "metadata": {},
     "output_type": "execute_result"
    }
   ],
   "source": [
    "a=g/(2*De)/(t*(1-t))\n",
    "a"
   ]
  },
  {
   "cell_type": "markdown",
   "metadata": {},
   "source": [
    "$$ t=e^{-a(r-r_e)}\n",
    "$$"
   ]
  },
  {
   "cell_type": "code",
   "execution_count": 14,
   "metadata": {},
   "outputs": [],
   "source": [
    "dX=np.log(t)/a"
   ]
  },
  {
   "cell_type": "code",
   "execution_count": 15,
   "metadata": {},
   "outputs": [
    {
     "data": {
      "text/plain": [
       "2.1746951930971434"
      ]
     },
     "execution_count": 15,
     "metadata": {},
     "output_type": "execute_result"
    }
   ],
   "source": [
    "R0+dX"
   ]
  },
  {
   "cell_type": "code",
   "execution_count": 16,
   "metadata": {},
   "outputs": [
    {
     "data": {
      "text/plain": [
       "2.1280177141890206"
      ]
     },
     "execution_count": 16,
     "metadata": {},
     "output_type": "execute_result"
    }
   ],
   "source": [
    "R0-g/h"
   ]
  },
  {
   "cell_type": "code",
   "execution_count": 17,
   "metadata": {},
   "outputs": [],
   "source": [
    "def mpa(g_,h_,R0_,De_): # Morse Potential Approximation\n",
    "    Z=g_**2/(2*De_)/h_\n",
    "    for i in range(3):\n",
    "        t=float(np.roots([1,-2,1-2*Z,+Z])[i])\n",
    "        print(np.roots([1,-2,1-2*Z,+Z]))\n",
    "        a=g_/(2*De_)/(t*(1-t))\n",
    "        print(a)\n",
    "        dX=np.log(t)/a\n",
    "        if a>0 and t>0:\n",
    "            return R0_+dX,a\n",
    "    return -1"
   ]
  },
  {
   "cell_type": "code",
   "execution_count": 18,
   "metadata": {},
   "outputs": [],
   "source": [
    "def Morse(r,r_e,a,De):\n",
    "    return De*((np.exp(a*(r_e-r))-1)**2-(np.exp(a*(r_e-R0))-1)**2)+e_co"
   ]
  },
  {
   "cell_type": "code",
   "execution_count": 19,
   "metadata": {},
   "outputs": [
    {
     "name": "stdout",
     "output_type": "stream",
     "text": [
      "[ 1.24174841  0.80706426 -0.04881266]\n",
      "1.2729370733189376\n"
     ]
    },
    {
     "data": {
      "text/plain": [
       "(2.1700951264917565, 1.2729370733189376)"
      ]
     },
     "execution_count": 19,
     "metadata": {},
     "output_type": "execute_result"
    }
   ],
   "source": [
    "mpa(g,h,R0,bde)"
   ]
  },
  {
   "cell_type": "code",
   "execution_count": 20,
   "metadata": {},
   "outputs": [],
   "source": [
    "scan_r=np.linspace(1.7,2.6,40)\n",
    "scan_e=[]\n",
    "for r in scan_r:\n",
    "    scan_e.append(scf.UHF(gto.M(atom=\"C 0 0 0;O 0 0 {}\".format(r), unit=\"Bohr\",verbose=0)).scf())"
   ]
  },
  {
   "cell_type": "code",
   "execution_count": 21,
   "metadata": {},
   "outputs": [
    {
     "name": "stdout",
     "output_type": "stream",
     "text": [
      "[ 1.24174841  0.80706426 -0.04881266]\n",
      "1.2729370733189376\n"
     ]
    },
    {
     "data": {
      "text/plain": [
       "[<matplotlib.lines.Line2D at 0x7f3d05fac198>]"
      ]
     },
     "execution_count": 21,
     "metadata": {},
     "output_type": "execute_result"
    },
    {
     "data": {
      "image/png": "[encoded data removed]",
      "text/plain": [
       "<Figure size 432x288 with 1 Axes>"
      ]
     },
     "metadata": {
      "needs_background": "light"
     },
     "output_type": "display_data"
    }
   ],
   "source": [
    "plt.plot(Morse(scan_r[3:],*mpa(g,h,R0,bde),bde))"
   ]
  },
  {
   "cell_type": "code",
   "execution_count": 22,
   "metadata": {},
   "outputs": [
    {
     "name": "stdout",
     "output_type": "stream",
     "text": [
      "[ 1.35108497  0.7459863  -0.09707127]\n",
      "1.611162170158716\n",
      "[ 1.24174841  0.80706426 -0.04881266]\n",
      "1.2729370733189376\n",
      "[ 1.07226014  0.93263161 -0.00489175]\n",
      "0.4931797367167313\n"
     ]
    },
    {
     "data": {
      "text/plain": [
       "(-111.29972404275455, -110.99972404275455)"
      ]
     },
     "execution_count": 22,
     "metadata": {},
     "output_type": "execute_result"
    },
    {
     "data": {
      "image/png": "[encoded data removed]",
      "text/plain": [
       "<Figure size 1152x864 with 1 Axes>"
      ]
     },
     "metadata": {
      "needs_background": "light"
     },
     "output_type": "display_data"
    }
   ],
   "source": [
    "plt.figure(figsize=(16,12))\n",
    "plt.scatter(R0,e_co,marker=\"x\",color=\"red\")\n",
    "plt.plot(scan_r[3:],scan_e[3:],label=\"energy scan\")\n",
    "plt.plot(scan_r[3:],e_co+h*(scan_r[3:]-R0)**2+g*(scan_r[3:]-R0),ls=\":\")\n",
    "plt.plot(scan_r[3:],Morse(scan_r[3:], *mpa(g,h,R0,.5*bde) ,.5*bde ),ls=\":\" )\n",
    "plt.plot(scan_r[3:],Morse(scan_r[3:], *mpa(g,h,R0,bde) ,bde ),ls=\":\" )\n",
    "plt.plot(scan_r[3:],Morse(scan_r[3:], *mpa(g,h,R0,10*bde) ,10*bde ),ls=\":\" )\n",
    "plt.ylim(e_co-.1,e_co+.2)"
   ]
  },
  {
   "cell_type": "code",
   "execution_count": 23,
   "metadata": {},
   "outputs": [
    {
     "name": "stdout",
     "output_type": "stream",
     "text": [
      "converged SCF energy = -111.203285221628  <S^2> = 6.750156e-14  2S+1 = 1\n",
      "--------------- UHF gradients ---------------\n",
      "         x                y                z\n",
      "0 C     0.0000000000     0.0000000000    -0.2161158496\n",
      "1 O    -0.0000000000    -0.0000000000     0.2161158496\n",
      "----------------------------------------------\n"
     ]
    }
   ],
   "source": [
    "R02=2.35\n",
    "mol=gto.M(atom=\"C 0 0 0;O 0 0 {}\".format(R02), unit=\"Bohr\")\n",
    "mf=scf.UHF(mol)\n",
    "e_co2=mf.scf()\n",
    "g2=mf.Gradients().grad()[1,2]\n",
    "h2=mf.Hessian().hess()[1,1,2,2]"
   ]
  },
  {
   "cell_type": "code",
   "execution_count": 24,
   "metadata": {},
   "outputs": [],
   "source": [
    "def Morse2(r,r_e,a,De):\n",
    "    return De*((np.exp(a*(r_e-r))-1)**2-(np.exp(a*(r_e-R02))-1)**2)+e_co2"
   ]
  },
  {
   "cell_type": "code",
   "execution_count": 25,
   "metadata": {},
   "outputs": [
    {
     "data": {
      "text/plain": [
       "0.45188168429406517"
      ]
     },
     "execution_count": 25,
     "metadata": {},
     "output_type": "execute_result"
    }
   ],
   "source": [
    "bde2=ec+eo-e_co2\n",
    "bde2"
   ]
  },
  {
   "cell_type": "code",
   "execution_count": 26,
   "metadata": {},
   "outputs": [
    {
     "name": "stdout",
     "output_type": "stream",
     "text": [
      "[ 1.40158914  0.72224508 -0.12383422]\n",
      "-0.8496874367650316\n",
      "[ 1.40158914  0.72224508 -0.12383422]\n",
      "2.3840509049224843\n",
      "[ 1.27611576  0.78634573 -0.06246149]\n",
      "-0.6786574286487846\n",
      "[ 1.27611576  0.78634573 -0.06246149]\n",
      "1.423333838645541\n",
      "[ 1.08211855  0.92414902 -0.00626757]\n",
      "-0.26910127455331784\n",
      "[ 1.08211855  0.92414902 -0.00626757]\n",
      "0.3411368710327548\n"
     ]
    },
    {
     "data": {
      "text/plain": [
       "<matplotlib.legend.Legend at 0x7f3d05fee198>"
      ]
     },
     "execution_count": 26,
     "metadata": {},
     "output_type": "execute_result"
    },
    {
     "data": {
      "image/png": "[encoded data removed]",
      "text/plain": [
       "<Figure size 1152x864 with 1 Axes>"
      ]
     },
     "metadata": {
      "needs_background": "light"
     },
     "output_type": "display_data"
    }
   ],
   "source": [
    "plt.figure(figsize=(16,12))\n",
    "plt.scatter(R02,e_co2,marker=\"o\",color=\"black\")\n",
    "plt.plot(scan_r[3:],scan_e[3:],label=\"energy scan\")\n",
    "plt.plot(scan_r[3:],e_co2+h2*(scan_r[3:]-R02)**2+g2*(scan_r[3:]-R02),ls=\":\",label=\"quadratic\")\n",
    "plt.plot(scan_r[3:],Morse2(scan_r[3:], *mpa(g2,h2,R02,.5*bde2) ,.5*bde2),ls=\":\" ,label=\"0.5*BDE\")\n",
    "plt.plot(scan_r[3:],Morse2(scan_r[3:], *mpa(g2,h2,R02,bde2) ,bde2 ) ,ls=\":\",label=\"BDE\")\n",
    "plt.plot(scan_r[3:],Morse2(scan_r[3:], *mpa(g2,h2,R02,bde2*10) ,bde2*10 ) ,ls=\":\",label=\"10*BDE\")\n",
    "plt.ylim(e_co2-.1,e_co2+.2)\n",
    "plt.legend()"
   ]
  },
  {
   "cell_type": "code",
   "execution_count": 27,
   "metadata": {},
   "outputs": [],
   "source": [
    "def Morse_dE(r,r_e,a,De):\n",
    "    return De*((np.exp(a*(r_e-r))-1)**2)"
   ]
  },
  {
   "cell_type": "code",
   "execution_count": 28,
   "metadata": {},
   "outputs": [
    {
     "name": "stdout",
     "output_type": "stream",
     "text": [
      "[ 1.27611576  0.78634573 -0.06246149]\n",
      "-0.6786574286487846\n",
      "[ 1.27611576  0.78634573 -0.06246149]\n",
      "1.423333838645541\n"
     ]
    }
   ],
   "source": [
    "x=Morse_dE(R02, *mpa(g2,h2,R02,bde2) ,bde2 )"
   ]
  },
  {
   "cell_type": "code",
   "execution_count": 29,
   "metadata": {},
   "outputs": [
    {
     "name": "stdout",
     "output_type": "stream",
     "text": [
      "[ 1.26957292  0.79017841 -0.05975133]\n",
      "-0.6682091161208495\n",
      "[ 1.26957292  0.79017841 -0.05975133]\n",
      "1.3793388895866596\n"
     ]
    },
    {
     "data": {
      "text/plain": [
       "0.02080226633189857"
      ]
     },
     "execution_count": 29,
     "metadata": {},
     "output_type": "execute_result"
    }
   ],
   "source": [
    "x=Morse_dE(R02, *mpa(g2,h2,R02,bde2+x) ,bde2+x )\n",
    "x"
   ]
  },
  {
   "cell_type": "code",
   "execution_count": 30,
   "metadata": {},
   "outputs": [
    {
     "data": {
      "text/plain": [
       "0.47268395062596374"
      ]
     },
     "execution_count": 30,
     "metadata": {},
     "output_type": "execute_result"
    }
   ],
   "source": [
    "bde2+x"
   ]
  },
  {
   "cell_type": "markdown",
   "metadata": {},
   "source": [
    "## Morse potential for CH$_4$"
   ]
  },
  {
   "cell_type": "code",
   "execution_count": 31,
   "metadata": {},
   "outputs": [],
   "source": [
    "l=3.3376\n",
    "x=-(1/24)**.5*l\n",
    "z=(2/3)**.5*l+x\n",
    "ch4str=\"C 0 0 0; H 0 0  {}; H  0  {} {}; H {} {} {}; H {} {} {}\".format(z,l/3**.5,x,l/2,-l*3**.5/6,x,-l/2,-l*3**.5/6,x)"
   ]
  },
  {
   "cell_type": "code",
   "execution_count": 32,
   "metadata": {},
   "outputs": [
    {
     "data": {
      "text/plain": [
       "2.043854241378284"
      ]
     },
     "execution_count": 32,
     "metadata": {},
     "output_type": "execute_result"
    }
   ],
   "source": [
    "z"
   ]
  },
  {
   "cell_type": "code",
   "execution_count": 33,
   "metadata": {},
   "outputs": [
    {
     "name": "stdout",
     "output_type": "stream",
     "text": [
      "converged SCF energy = -40.1805533589015\n",
      "--------------- RHF gradients ---------------\n",
      "         x                y                z\n",
      "0 C     0.0000000000     0.0000000000    -0.0000000000\n",
      "1 H     0.0000000000    -0.0000000000    -0.0003981547\n",
      "2 H    -0.0000000000    -0.0003753838     0.0001327182\n",
      "3 H    -0.0003250919     0.0001876919     0.0001327182\n",
      "4 H     0.0003250919     0.0001876919     0.0001327182\n",
      "----------------------------------------------\n"
     ]
    },
    {
     "data": {
      "text/plain": [
       "array([[ 1.77375475e-16,  1.29258583e-15, -5.55111512e-17],\n",
       "       [ 1.57426155e-16, -2.33537148e-16, -3.98154654e-04],\n",
       "       [-2.49366500e-16, -3.75383808e-04,  1.32718218e-04],\n",
       "       [-3.25091914e-04,  1.87691904e-04,  1.32718218e-04],\n",
       "       [ 3.25091914e-04,  1.87691904e-04,  1.32718218e-04]])"
      ]
     },
     "execution_count": 33,
     "metadata": {},
     "output_type": "execute_result"
    }
   ],
   "source": [
    "CH4=gto.M(atom=ch4str,unit=\"bohr\",basis=\"6-31G\")\n",
    "mf = scf.RHF(CH4)\n",
    "mf.scf()\n",
    "mf.Gradients().grad()"
   ]
  },
  {
   "cell_type": "code",
   "execution_count": 48,
   "metadata": {},
   "outputs": [],
   "source": [
    "scanX=np.linspace(1.6,3,43)\n",
    "ch4scan=[]\n",
    "for i in scanX:\n",
    "    ch4str=\"C 0 0 0; H 0 0  {}; H  0  {} {}; H {} {} {}; H {} {} {}\".format(i,l/3**.5,x,l/2,-l*3**.5/6,x,-l/2,-l*3**.5/6,x)\n",
    "    ch4scan.append(scf.RHF(gto.M(atom=ch4str,unit=\"bohr\",basis=\"6-31G\",verbose=0)).scf())"
   ]
  },
  {
   "cell_type": "code",
   "execution_count": 50,
   "metadata": {
    "scrolled": true
   },
   "outputs": [
    {
     "data": {
      "text/plain": [
       "[<matplotlib.lines.Line2D at 0x7f3d05ba0048>]"
      ]
     },
     "execution_count": 50,
     "metadata": {},
     "output_type": "execute_result"
    },
    {
     "data": {
      "image/png": "[encoded data removed]",
      "text/plain": [
       "<Figure size 432x288 with 1 Axes>"
      ]
     },
     "metadata": {
      "needs_background": "light"
     },
     "output_type": "display_data"
    }
   ],
   "source": [
    "plt.plot(scanX,ch4scan)"
   ]
  },
  {
   "cell_type": "markdown",
   "metadata": {},
   "source": [
    "# $D_e$ from APDFT"
   ]
  },
  {
   "cell_type": "code",
   "execution_count": 36,
   "metadata": {},
   "outputs": [],
   "source": [
    "apch4=AP(mf,sites=[1])"
   ]
  },
  {
   "cell_type": "code",
   "execution_count": 37,
   "metadata": {},
   "outputs": [
    {
     "data": {
      "text/plain": [
       "array([-1.11830467])"
      ]
     },
     "execution_count": 37,
     "metadata": {},
     "output_type": "execute_result"
    }
   ],
   "source": [
    "apch4.build_gradient(1)"
   ]
  },
  {
   "cell_type": "code",
   "execution_count": 38,
   "metadata": {},
   "outputs": [
    {
     "data": {
      "text/plain": [
       "array([[-1.07044075]])"
      ]
     },
     "execution_count": 38,
     "metadata": {},
     "output_type": "execute_result"
    }
   ],
   "source": [
    "apch4.build_hessian(1)"
   ]
  },
  {
   "cell_type": "code",
   "execution_count": 39,
   "metadata": {},
   "outputs": [
    {
     "data": {
      "text/plain": [
       "array([[[0.92687035]]])"
      ]
     },
     "execution_count": 39,
     "metadata": {},
     "output_type": "execute_result"
    }
   ],
   "source": [
    "apch4.build_cubic_hessian(1)"
   ]
  },
  {
   "cell_type": "code",
   "execution_count": 40,
   "metadata": {},
   "outputs": [
    {
     "data": {
      "text/plain": [
       "-39.442990672885195"
      ]
     },
     "execution_count": 40,
     "metadata": {},
     "output_type": "execute_result"
    }
   ],
   "source": [
    "apch4.APDFT3(np.asarray([-1]))#-mf.e_tot"
   ]
  },
  {
   "cell_type": "code",
   "execution_count": 67,
   "metadata": {},
   "outputs": [
    {
     "data": {
      "text/plain": [
       "-39.31804765936593"
      ]
     },
     "execution_count": 67,
     "metadata": {},
     "output_type": "execute_result"
    }
   ],
   "source": [
    "i=50\n",
    "ch4str=\"C 0 0 0; H 0 0  {}; H  0  {} {}; H {} {} {}; H {} {} {}\".format(i,l/3**.5,x,l/2,-l*3**.5/6,x,-l/2,-l*3**.5/6,x)\n",
    "scf.UHF(gto.M(atom=ch4str,unit=\"bohr\",basis=\"6-31G\",verbose=0)).scf()"
   ]
  },
  {
   "cell_type": "code",
   "execution_count": 75,
   "metadata": {},
   "outputs": [
    {
     "data": {
      "text/plain": [
       "0.7375626860162612"
      ]
     },
     "execution_count": 75,
     "metadata": {},
     "output_type": "execute_result"
    }
   ],
   "source": [
    "De=apch4.APDFT3(np.asarray([-1]))-mf.e_tot\n",
    "De"
   ]
  },
  {
   "cell_type": "code",
   "execution_count": 76,
   "metadata": {},
   "outputs": [],
   "source": [
    "i=1.8\n",
    "ch4str=\"C 0 0 0; H 0 0  {}; H  0  {} {}; H {} {} {}; H {} {} {}\".format(i,l/3**.5,x,l/2,-l*3**.5/6,x,-l/2,-l*3**.5/6,x)\n",
    "mf0=scf.RHF(gto.M(atom=ch4str,unit=\"bohr\",basis=\"6-31G\",verbose=0))\n",
    "e0=mf0.scf()\n",
    "g=mf0.Gradients().grad()[1,2]\n",
    "h=mf0.Hessian().hess()[1,1,2,2]"
   ]
  },
  {
   "cell_type": "code",
   "execution_count": 77,
   "metadata": {},
   "outputs": [],
   "source": [
    "def Morse3(r,r_e,a,De):\n",
    "    return De*((np.exp(a*(r_e-r))-1)**2-(np.exp(a*(r_e-i))-1)**2)+e0"
   ]
  },
  {
   "cell_type": "code",
   "execution_count": 81,
   "metadata": {},
   "outputs": [
    {
     "name": "stdout",
     "output_type": "stream",
     "text": [
      "[ 1.13461455  0.88158049 -0.01619504]\n",
      "0.6087708635622913\n"
     ]
    },
    {
     "data": {
      "text/plain": [
       "(2.0074557022840374, 0.6087708635622913)"
      ]
     },
     "execution_count": 81,
     "metadata": {},
     "output_type": "execute_result"
    }
   ],
   "source": [
    "mpa(g,h,i,De)"
   ]
  },
  {
   "cell_type": "code",
   "execution_count": 88,
   "metadata": {},
   "outputs": [
    {
     "data": {
      "text/plain": [
       "(-40.17914682521128, 2.0074557022840374)"
      ]
     },
     "execution_count": 88,
     "metadata": {},
     "output_type": "execute_result"
    }
   ],
   "source": [
    "e0-Morse_dE(1.8,r_e,a,De),r_e"
   ]
  },
  {
   "cell_type": "code",
   "execution_count": 102,
   "metadata": {},
   "outputs": [],
   "source": [
    "from scipy.interpolate import interp1d as i1d"
   ]
  },
  {
   "cell_type": "code",
   "execution_count": 110,
   "metadata": {},
   "outputs": [],
   "source": [
    "intf=i1d(scanX,ch4scan)\n",
    "intX=np.linspace(1.6,3,4201)\n",
    "intE=intf(intX)"
   ]
  },
  {
   "cell_type": "code",
   "execution_count": 126,
   "metadata": {},
   "outputs": [
    {
     "name": "stdout",
     "output_type": "stream",
     "text": [
      "[ 1.13461455  0.88158049 -0.01619504]\n",
      "0.6087708635622913\n",
      "[ 1.13461455  0.88158049 -0.01619504]\n",
      "0.6087708635622913\n"
     ]
    },
    {
     "data": {
      "image/png": "[encoded data removed]",
      "text/plain": [
       "<Figure size 432x288 with 1 Axes>"
      ]
     },
     "metadata": {
      "needs_background": "light"
     },
     "output_type": "display_data"
    }
   ],
   "source": [
    "scanXm=np.linspace(1.4,6,201)\n",
    "plt.scatter(1.8,e0,marker='|',s=150)\n",
    "r_e,a=mpa(g,h,i,De)\n",
    "plt.scatter(r_e,e0-Morse_dE(1.8,r_e,a,De),marker='|',s=150)\n",
    "plt.scatter(intX[np.asarray(intE).argmin()],min(intE),marker='|',s=150)\n",
    "plt.plot(scanXm, e0+h*(scanXm-i)**2+g*(scanXm-i),ls=\":\" )\n",
    "plt.plot(scanXm,Morse3(scanXm, *mpa(g,h,i,De) ,De),ls=\":\" )\n",
    "plt.plot(intX,intE)\n",
    "plt.ylim(e0-.02,e0+.02)\n",
    "plt.xlim(1.7,2.4)\n",
    "plt.axhline(min(intE),ls=\":\")\n",
    "plt.savefig(\"CH_stretching.png\")"
   ]
  },
  {
   "cell_type": "code",
   "execution_count": 91,
   "metadata": {},
   "outputs": [
    {
     "name": "stdout",
     "output_type": "stream",
     "text": [
      "[ 1.13461455  0.88158049 -0.01619504]\n",
      "0.6087708635622913\n"
     ]
    },
    {
     "data": {
      "text/plain": [
       "[<matplotlib.lines.Line2D at 0x7f3cf7fba710>]"
      ]
     },
     "execution_count": 91,
     "metadata": {},
     "output_type": "execute_result"
    },
    {
     "data": {
      "image/png": "[encoded data removed]",
      "text/plain": [
       "<Figure size 432x288 with 1 Axes>"
      ]
     },
     "metadata": {
      "needs_background": "light"
     },
     "output_type": "display_data"
    }
   ],
   "source": [
    "plt.plot(scanX,ch4scan)\n",
    "plt.plot(scanXm,Morse3(scanXm, *mpa(g,h,i,De) ,De),ls=\":\" )"
   ]
  },
  {
   "cell_type": "code",
   "execution_count": null,
   "metadata": {},
   "outputs": [],
   "source": []
  }
 ],
 "metadata": {
  "kernelspec": {
   "display_name": "Python 3",
   "language": "python",
   "name": "python3"
  },
  "language_info": {
   "codemirror_mode": {
    "name": "ipython",
    "version": 3
   },
   "file_extension": ".py",
   "mimetype": "text/x-python",
   "name": "python",
   "nbconvert_exporter": "python",
   "pygments_lexer": "ipython3",
   "version": "3.7.3"
  }
 },
 "nbformat": 4,
 "nbformat_minor": 2
}
