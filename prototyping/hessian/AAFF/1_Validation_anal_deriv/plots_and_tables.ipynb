{
 "cells": [
  {
   "cell_type": "code",
   "execution_count": 14,
   "metadata": {},
   "outputs": [],
   "source": [
    "import numpy as np\n",
    "from matplotlib import pyplot as plt\n",
    "import pandas as pd\n",
    "import sys\n",
    "sys.path.append('../Libs/')\n",
    "from FDcoeffs import *"
   ]
  },
  {
   "cell_type": "markdown",
   "metadata": {},
   "source": [
    "7 points stencill, dl=0.1, prediction up to apdft7 grad apdft6 hessian. predicting gradients, hessians of the targets with their basis set, but at the geometry of the reference minimum."
   ]
  },
  {
   "cell_type": "code",
   "execution_count": 15,
   "metadata": {},
   "outputs": [
    {
     "ename": "FileNotFoundError",
     "evalue": "[Errno 2] No such file or directory: 'BF_hess_9pfd.npy'",
     "output_type": "error",
     "traceback": [
      "\u001b[0;31m---------------------------------------------------------------------------\u001b[0m",
      "\u001b[0;31mFileNotFoundError\u001b[0m                         Traceback (most recent call last)",
      "\u001b[0;32m<ipython-input-15-ce0a89911ff8>\u001b[0m in \u001b[0;36m<module>\u001b[0;34m\u001b[0m\n\u001b[0;32m----> 1\u001b[0;31m \u001b[0mbf_h\u001b[0m\u001b[0;34m=\u001b[0m\u001b[0mnp\u001b[0m\u001b[0;34m.\u001b[0m\u001b[0mload\u001b[0m\u001b[0;34m(\u001b[0m\u001b[0;34m\"BF_hess_9pfd.npy\"\u001b[0m\u001b[0;34m)\u001b[0m\u001b[0;34m\u001b[0m\u001b[0;34m\u001b[0m\u001b[0m\n\u001b[0m\u001b[1;32m      2\u001b[0m \u001b[0mco_h\u001b[0m\u001b[0;34m=\u001b[0m\u001b[0mnp\u001b[0m\u001b[0;34m.\u001b[0m\u001b[0mload\u001b[0m\u001b[0;34m(\u001b[0m\u001b[0;34m\"CO_hess_9pfd.npy\"\u001b[0m\u001b[0;34m)\u001b[0m\u001b[0;34m\u001b[0m\u001b[0;34m\u001b[0m\u001b[0m\n\u001b[1;32m      3\u001b[0m \u001b[0mnn_h\u001b[0m\u001b[0;34m=\u001b[0m\u001b[0mnp\u001b[0m\u001b[0;34m.\u001b[0m\u001b[0mload\u001b[0m\u001b[0;34m(\u001b[0m\u001b[0;34m\"NN_hess_9pfd.npy\"\u001b[0m\u001b[0;34m)\u001b[0m\u001b[0;34m\u001b[0m\u001b[0;34m\u001b[0m\u001b[0m\n\u001b[1;32m      4\u001b[0m \u001b[0mch4_h\u001b[0m\u001b[0;34m=\u001b[0m\u001b[0mnp\u001b[0m\u001b[0;34m.\u001b[0m\u001b[0mload\u001b[0m\u001b[0;34m(\u001b[0m\u001b[0;34m\"Ch4_hess_9pfd.npy\"\u001b[0m\u001b[0;34m)\u001b[0m\u001b[0;34m\u001b[0m\u001b[0;34m\u001b[0m\u001b[0m\n\u001b[1;32m      5\u001b[0m \u001b[0mbf_g\u001b[0m\u001b[0;34m=\u001b[0m\u001b[0mnp\u001b[0m\u001b[0;34m.\u001b[0m\u001b[0mload\u001b[0m\u001b[0;34m(\u001b[0m\u001b[0;34m\"BF_grads_9pfd.npy\"\u001b[0m\u001b[0;34m)\u001b[0m\u001b[0;34m\u001b[0m\u001b[0;34m\u001b[0m\u001b[0m\n",
      "\u001b[0;32m~/anaconda3/lib/python3.8/site-packages/numpy/lib/npyio.py\u001b[0m in \u001b[0;36mload\u001b[0;34m(file, mmap_mode, allow_pickle, fix_imports, encoding)\u001b[0m\n\u001b[1;32m    415\u001b[0m             \u001b[0mown_fid\u001b[0m \u001b[0;34m=\u001b[0m \u001b[0;32mFalse\u001b[0m\u001b[0;34m\u001b[0m\u001b[0;34m\u001b[0m\u001b[0m\n\u001b[1;32m    416\u001b[0m         \u001b[0;32melse\u001b[0m\u001b[0;34m:\u001b[0m\u001b[0;34m\u001b[0m\u001b[0;34m\u001b[0m\u001b[0m\n\u001b[0;32m--> 417\u001b[0;31m             \u001b[0mfid\u001b[0m \u001b[0;34m=\u001b[0m \u001b[0mstack\u001b[0m\u001b[0;34m.\u001b[0m\u001b[0menter_context\u001b[0m\u001b[0;34m(\u001b[0m\u001b[0mopen\u001b[0m\u001b[0;34m(\u001b[0m\u001b[0mos_fspath\u001b[0m\u001b[0;34m(\u001b[0m\u001b[0mfile\u001b[0m\u001b[0;34m)\u001b[0m\u001b[0;34m,\u001b[0m \u001b[0;34m\"rb\"\u001b[0m\u001b[0;34m)\u001b[0m\u001b[0;34m)\u001b[0m\u001b[0;34m\u001b[0m\u001b[0;34m\u001b[0m\u001b[0m\n\u001b[0m\u001b[1;32m    418\u001b[0m             \u001b[0mown_fid\u001b[0m \u001b[0;34m=\u001b[0m \u001b[0;32mTrue\u001b[0m\u001b[0;34m\u001b[0m\u001b[0;34m\u001b[0m\u001b[0m\n\u001b[1;32m    419\u001b[0m \u001b[0;34m\u001b[0m\u001b[0m\n",
      "\u001b[0;31mFileNotFoundError\u001b[0m: [Errno 2] No such file or directory: 'BF_hess_9pfd.npy'"
     ]
    }
   ],
   "source": [
    "bf_h=np.load(\"BF_hess_9pfd.npy\")\n",
    "co_h=np.load(\"CO_hess_9pfd.npy\")\n",
    "nn_h=np.load(\"NN_hess_9pfd.npy\")\n",
    "ch4_h=np.load(\"Ch4_hess_9pfd.npy\")\n",
    "bf_g=np.load(\"BF_grads_9pfd.npy\")\n",
    "co_g=np.load(\"CO_grads_9pfd.npy\")\n",
    "nn_g=np.load(\"NN_grads_9pfd.npy\")\n",
    "ch4_g=np.load(\"Ch4_grads_9pfd.npy\")\n",
    "bf_ad=np.load(\"BF_aderivs_9pfd.npy\")\n",
    "co_ad=np.load(\"CO_aderivs_9pfd.npy\")\n",
    "nn_ad=np.load(\"NN_aderivs_9pfd.npy\")\n",
    "ch4_ad=np.load(\"Ch4_aderivs_9pfd.npy\")\n",
    "dl=.1"
   ]
  },
  {
   "cell_type": "code",
   "execution_count": null,
   "metadata": {},
   "outputs": [],
   "source": [
    "tgs=pd.read_pickle(\"target_grad_hessian\")"
   ]
  },
  {
   "cell_type": "code",
   "execution_count": null,
   "metadata": {},
   "outputs": [],
   "source": [
    "tgs"
   ]
  },
  {
   "cell_type": "code",
   "execution_count": null,
   "metadata": {},
   "outputs": [],
   "source": [
    "(.119420-.120964)/.119420"
   ]
  },
  {
   "cell_type": "code",
   "execution_count": null,
   "metadata": {},
   "outputs": [],
   "source": [
    "alt=pd.read_pickle(\"alch_transf_mol\")\n",
    "alt # this are gradients with basis set of the reference."
   ]
  },
  {
   "cell_type": "code",
   "execution_count": null,
   "metadata": {},
   "outputs": [],
   "source": [
    "print(\"2 order finite diff. accuracy:: \",np.dot(fd1_2,co_g)/dl)\n",
    "print(\"4 order finite diff. accuracy:: \",np.dot(fd1_4,co_g)/dl)\n",
    "print(\"6 order finite diff. accuracy:: \",np.dot(fd1_6,co_g)/dl)\n",
    "print(\"Analytical derivative        :: \",co_ad[4])"
   ]
  },
  {
   "cell_type": "code",
   "execution_count": null,
   "metadata": {},
   "outputs": [],
   "source": [
    "print(\"2 order finite diff. accuracy:: \",np.dot(fd1_2,bf_g)/dl)\n",
    "print(\"4 order finite diff. accuracy:: \",np.dot(fd1_4,bf_g)/dl)\n",
    "print(\"6 order finite diff. accuracy:: \",np.dot(fd1_6,bf_g)/dl)\n",
    "print(\"Analytical derivative        :: \",bf_ad[4])"
   ]
  },
  {
   "cell_type": "code",
   "execution_count": null,
   "metadata": {},
   "outputs": [],
   "source": [
    "print(\"2 order finite diff. accuracy:: \",np.dot(fd1_2,ch4_g)/dl)\n",
    "print(\"4 order finite diff. accuracy:: \",np.dot(fd1_4,ch4_g)/dl)\n",
    "print(\"6 order finite diff. accuracy:: \",np.dot(fd1_6,ch4_g)/dl)\n",
    "print(\"Analytical derivative        :: \",ch4_ad[4])"
   ]
  },
  {
   "cell_type": "code",
   "execution_count": null,
   "metadata": {},
   "outputs": [],
   "source": [
    "tgs[\"molecule\"]"
   ]
  },
  {
   "cell_type": "code",
   "execution_count": null,
   "metadata": {},
   "outputs": [],
   "source": [
    "float(tgs[tgs.molecule==\"BFatCO\"].gradient)"
   ]
  },
  {
   "cell_type": "code",
   "execution_count": null,
   "metadata": {
    "scrolled": true
   },
   "outputs": [],
   "source": [
    "aaff_predict=[]\n",
    "tg=float(tgs[tgs.molecule==\"BFatCO\"].gradient)\n",
    "aaff_predict.append(co_g[4])\n",
    "aaff_predict.append(aaff_predict[0]-co_ad[4])\n",
    "aaff_predict.append(aaff_predict[1]+np.sum(fd1_6*co_ad)/dl/2)\n",
    "aaff_predict.append(aaff_predict[2]-np.sum(fd2_6*co_ad)/dl**2/6)\n",
    "aaff_predict.append(aaff_predict[3]+np.sum(fd3_4*co_ad)/dl**3/24 )\n",
    "aaff_predict.append(aaff_predict[4]-np.sum(fd4_4*co_ad)/dl**4/120)\n",
    "aaff_predict.append(aaff_predict[5]+np.sum(fd5_2*co_ad)/dl**5/720)\n",
    "aaff_predict.append(aaff_predict[6]-np.sum(fd6_2*co_ad)/dl**6/5040)\n",
    "re_co_bf=(np.asarray(aaff_predict)-tg)/tg\n",
    "np.asarray(aaff_predict),tg,re_co_bf"
   ]
  },
  {
   "cell_type": "code",
   "execution_count": null,
   "metadata": {},
   "outputs": [],
   "source": [
    "aaff_predict=[]\n",
    "tg=float(tgs[tgs.molecule==\"BFatCO\"].gradient)\n",
    "aaff_predict.append(co_g[4])\n",
    "aaff_predict.append(aaff_predict[0]-co_ad[4])\n",
    "aaff_predict.append(aaff_predict[1]+np.sum(fd1_6*co_ad)/dl/2)\n",
    "aaff_predict.append(aaff_predict[2]-np.sum(fd2_6*co_ad)/dl**2/6)\n",
    "aaff_predict.append(aaff_predict[3]+np.sum(fd3_4*co_ad)/dl**3/24 )\n",
    "aaff_predict.append(aaff_predict[4]-np.sum(fd4_4*co_ad)/dl**4/120)\n",
    "aaff_predict.append(aaff_predict[5]+np.sum(fd5_2*co_ad)/dl**5/720)\n",
    "aaff_predict.append(aaff_predict[6]-np.sum(fd6_2*co_ad)/dl**6/5040)\n",
    "re_co_bf=(np.asarray(aaff_predict)-tg)/tg\n",
    "np.asarray(aaff_predict),tg,re_co_bf"
   ]
  },
  {
   "cell_type": "code",
   "execution_count": null,
   "metadata": {},
   "outputs": [],
   "source": [
    "aaff_predict=[]\n",
    "tg=float(tgs[tgs.molecule==\"NNatCO\"].gradient)\n",
    "aaff_predict.append(co_g[4])\n",
    "aaff_predict.append(aaff_predict[0]+co_ad[4])\n",
    "aaff_predict.append(aaff_predict[1]+np.sum(fd1_6*co_ad)/dl/2)\n",
    "aaff_predict.append(aaff_predict[2]+np.sum(fd2_6*co_ad)/dl**2/6)\n",
    "aaff_predict.append(aaff_predict[3]+np.sum(fd3_4*co_ad)/dl**3/24 )\n",
    "aaff_predict.append(aaff_predict[4]+np.sum(fd4_4*co_ad)/dl**4/120)\n",
    "aaff_predict.append(aaff_predict[5]+np.sum(fd5_2*co_ad)/dl**5/720)\n",
    "aaff_predict.append(aaff_predict[6]+np.sum(fd6_2*co_ad)/dl**6/5040)\n",
    "re_co_nn=(np.asarray(aaff_predict)-tg)/tg\n",
    "np.asarray(aaff_predict),tg,re_co_nn"
   ]
  },
  {
   "cell_type": "code",
   "execution_count": null,
   "metadata": {},
   "outputs": [],
   "source": [
    "aaff_predict=[]\n",
    "tg=float(tgs[tgs.molecule==\"COatBF\"].gradient)\n",
    "aaff_predict.append(bf_g[4])\n",
    "aaff_predict.append(aaff_predict[0]+bf_ad[4])\n",
    "aaff_predict.append(aaff_predict[1]+np.sum(fd1_6*bf_ad)/dl/2)\n",
    "aaff_predict.append(aaff_predict[2]+np.sum(fd2_6*bf_ad)/dl**2/6)\n",
    "aaff_predict.append(aaff_predict[3]+np.sum(fd3_4*bf_ad)/dl**3/24 )\n",
    "aaff_predict.append(aaff_predict[4]+np.sum(fd4_4*bf_ad)/dl**4/120)\n",
    "aaff_predict.append(aaff_predict[5]+np.sum(fd5_2*bf_ad)/dl**5/720)\n",
    "aaff_predict.append(aaff_predict[6]+np.sum(fd6_2*bf_ad)/dl**6/5040)\n",
    "re_bf_co=(np.asarray(aaff_predict)-tg)/tg\n",
    "np.asarray(aaff_predict),tg,re_bf_co"
   ]
  },
  {
   "cell_type": "code",
   "execution_count": null,
   "metadata": {},
   "outputs": [],
   "source": [
    "aaff_predict=[]\n",
    "tg=float(tgs[tgs.molecule==\"COatNN\"].gradient)\n",
    "aaff_predict.append(nn_g[4])\n",
    "aaff_predict.append(aaff_predict[0]+nn_ad[4])\n",
    "aaff_predict.append(aaff_predict[1]+np.dot(fd1_6,nn_ad)/dl/2)\n",
    "aaff_predict.append(aaff_predict[2]+np.dot(fd2_6,nn_ad)/dl**2/6)\n",
    "aaff_predict.append(aaff_predict[3]+np.dot(fd3_4,nn_ad)/dl**3/24 )\n",
    "aaff_predict.append(aaff_predict[4]+np.dot(fd4_4,nn_ad)/dl**4/120)\n",
    "aaff_predict.append(aaff_predict[5]+np.dot(fd5_2,nn_ad)/dl**5/720)\n",
    "aaff_predict.append(aaff_predict[6]+np.dot(fd6_2,nn_ad)/dl**6/5040)\n",
    "re_nn_co=(np.asarray(aaff_predict)-tg)/tg\n",
    "np.asarray(aaff_predict),re_nn_co,tg,(np.asarray(aaff_predict)+.120964)/.120964"
   ]
  },
  {
   "cell_type": "code",
   "execution_count": null,
   "metadata": {},
   "outputs": [],
   "source": [
    "aaff_predict=[]    # CH4->NH4\n",
    "tg=float(tgs[tgs.molecule==\"NH4\"].gradient)\n",
    "aaff_predict.append(ch4_g[4])\n",
    "aaff_predict.append(aaff_predict[0]+ch4_ad[4])\n",
    "aaff_predict.append(aaff_predict[1]+np.sum(fd1_6*ch4_ad)/dl/2)\n",
    "aaff_predict.append(aaff_predict[2]+np.sum(fd2_6*ch4_ad)/dl**2/6)\n",
    "aaff_predict.append(aaff_predict[3]+np.sum(fd3_4*ch4_ad)/dl**3/24 )\n",
    "aaff_predict.append(aaff_predict[4]+np.sum(fd4_4*ch4_ad)/dl**4/120)\n",
    "aaff_predict.append(aaff_predict[5]+np.sum(fd5_2*ch4_ad)/dl**5/720)\n",
    "aaff_predict.append(aaff_predict[6]+np.sum(fd6_2*ch4_ad)/dl**6/5040)\n",
    "re_ch4_nh4=(np.asarray(aaff_predict)-tg)/tg\n",
    "np.asarray(aaff_predict),re_ch4_nh4,tg"
   ]
  },
  {
   "cell_type": "code",
   "execution_count": null,
   "metadata": {},
   "outputs": [],
   "source": [
    "aaff_predict=[]    # CH4->BH4\n",
    "tg=float(tgs[tgs.molecule==\"BH4\"].gradient)\n",
    "aaff_predict.append(ch4_g[4])\n",
    "aaff_predict.append(aaff_predict[0]-ch4_ad[4])\n",
    "aaff_predict.append(aaff_predict[1]+np.sum(fd1_6*ch4_ad)/dl/2)\n",
    "aaff_predict.append(aaff_predict[2]-np.sum(fd2_6*ch4_ad)/dl**2/6)\n",
    "aaff_predict.append(aaff_predict[3]+np.sum(fd3_4*ch4_ad)/dl**3/24 )\n",
    "aaff_predict.append(aaff_predict[4]-np.sum(fd4_4*ch4_ad)/dl**4/120)\n",
    "aaff_predict.append(aaff_predict[5]+np.sum(fd5_2*ch4_ad)/dl**5/720)\n",
    "aaff_predict.append(aaff_predict[6]-np.sum(fd6_2*ch4_ad)/dl**6/5040)\n",
    "re_ch4_bh4=(np.asarray(aaff_predict)-tg)/tg\n",
    "np.asarray(aaff_predict),re_ch4_bh4,tg"
   ]
  },
  {
   "cell_type": "code",
   "execution_count": null,
   "metadata": {},
   "outputs": [],
   "source": []
  },
  {
   "cell_type": "code",
   "execution_count": null,
   "metadata": {},
   "outputs": [],
   "source": []
  },
  {
   "cell_type": "markdown",
   "metadata": {},
   "source": [
    "# Taylor expansion of the Hessian"
   ]
  },
  {
   "cell_type": "code",
   "execution_count": null,
   "metadata": {},
   "outputs": [],
   "source": [
    "aaff_predict=[]\n",
    "th=float(tgs[tgs.molecule==\"COatBF\"].hessian)\n",
    "aaff_predict.append(bf_h[4])\n",
    "aaff_predict.append(aaff_predict[0]+np.sum(fd1_6*bf_h)/dl)\n",
    "aaff_predict.append(aaff_predict[1]+np.sum(fd2_6*bf_h)/dl**2/2)\n",
    "aaff_predict.append(aaff_predict[2]+np.sum(fd3_4*bf_h)/dl**3/6)\n",
    "aaff_predict.append(aaff_predict[3]+np.sum(fd4_4*bf_h)/dl**4/24 )\n",
    "aaff_predict.append(aaff_predict[4]+np.sum(fd5_2*bf_h)/dl**5/120)\n",
    "aaff_predict.append(aaff_predict[5]+np.sum(fd6_2*bf_h)/dl**6/720)\n",
    "Hre_bf_co=((np.asarray(aaff_predict)-th)/th)\n",
    "np.asarray(aaff_predict),Hre_bf_co,th"
   ]
  },
  {
   "cell_type": "code",
   "execution_count": null,
   "metadata": {},
   "outputs": [],
   "source": [
    "aaff_predict=[]\n",
    "th=float(tgs[tgs.molecule==\"BFatCO\"].hessian)\n",
    "aaff_predict.append(co_h[4])\n",
    "aaff_predict.append(aaff_predict[0]-np.sum(fd1_6*co_h)/dl)\n",
    "aaff_predict.append(aaff_predict[1]+np.sum(fd2_6*co_h)/dl**2/2)\n",
    "aaff_predict.append(aaff_predict[2]-np.sum(fd3_4*co_h)/dl**3/6)\n",
    "aaff_predict.append(aaff_predict[3]+np.sum(fd4_4*co_h)/dl**4/24 )\n",
    "aaff_predict.append(aaff_predict[4]-np.sum(fd5_2*co_h)/dl**5/120)\n",
    "aaff_predict.append(aaff_predict[5]+np.sum(fd6_2*co_h)/dl**6/720)\n",
    "Hre_co_bf=((np.asarray(aaff_predict)-th)/th)\n",
    "np.asarray(aaff_predict),Hre_co_bf,th"
   ]
  },
  {
   "cell_type": "code",
   "execution_count": null,
   "metadata": {},
   "outputs": [],
   "source": [
    "aaff_predict=[]\n",
    "th=float(tgs[tgs.molecule==\"NNatCO\"].hessian)\n",
    "aaff_predict.append(co_h[4])\n",
    "aaff_predict.append(aaff_predict[0]+np.sum(fd1_6*co_h)/dl)\n",
    "aaff_predict.append(aaff_predict[1]+np.sum(fd2_6*co_h)/dl**2/2)\n",
    "aaff_predict.append(aaff_predict[2]+np.sum(fd3_4*co_h)/dl**3/6)\n",
    "aaff_predict.append(aaff_predict[3]+np.sum(fd4_4*co_h)/dl**4/24 )\n",
    "aaff_predict.append(aaff_predict[4]+np.sum(fd5_2*co_h)/dl**5/120)\n",
    "aaff_predict.append(aaff_predict[5]+np.sum(fd6_2*co_h)/dl**6/720)\n",
    "Hre_co_nn=((np.asarray(aaff_predict)-th)/th)\n",
    "np.asarray(aaff_predict),Hre_co_nn,th"
   ]
  },
  {
   "cell_type": "code",
   "execution_count": null,
   "metadata": {},
   "outputs": [],
   "source": [
    "aaff_predict=[]\n",
    "th=float(tgs[tgs.molecule==\"COatNN\"].hessian)\n",
    "aaff_predict.append(nn_h[4])\n",
    "aaff_predict.append(aaff_predict[0]+np.sum(fd1_6*nn_h)/dl)\n",
    "aaff_predict.append(aaff_predict[1]+np.sum(fd2_6*nn_h)/dl**2/2)\n",
    "aaff_predict.append(aaff_predict[2]+np.sum(fd3_4*nn_h)/dl**3/6)\n",
    "aaff_predict.append(aaff_predict[3]+np.sum(fd4_4*nn_h)/dl**4/24 )\n",
    "aaff_predict.append(aaff_predict[4]+np.sum(fd5_2*nn_h)/dl**5/120)\n",
    "aaff_predict.append(aaff_predict[5]+np.sum(fd6_2*nn_h)/dl**6/720)\n",
    "Hre_nn_co=((np.asarray(aaff_predict)-th)/th)\n",
    "np.asarray(aaff_predict),Hre_nn_co,th"
   ]
  },
  {
   "cell_type": "code",
   "execution_count": null,
   "metadata": {},
   "outputs": [],
   "source": [
    "aaff_predict=[]  #CH4->NH4\n",
    "th=float(tgs[tgs.molecule==\"NH4\"].hessian)\n",
    "aaff_predict.append(ch4_h[4])\n",
    "aaff_predict.append(aaff_predict[0]+np.sum(fd1_6*ch4_h)/dl)\n",
    "aaff_predict.append(aaff_predict[1]+np.sum(fd2_6*ch4_h)/dl**2/2)\n",
    "aaff_predict.append(aaff_predict[2]+np.sum(fd3_4*ch4_h)/dl**3/6)\n",
    "aaff_predict.append(aaff_predict[3]+np.sum(fd4_4*ch4_h)/dl**4/24 )\n",
    "aaff_predict.append(aaff_predict[4]+np.sum(fd5_2*ch4_h)/dl**5/120)\n",
    "aaff_predict.append(aaff_predict[5]+np.sum(fd6_2*ch4_h)/dl**6/720)\n",
    "Hre_ch4_nh4=((np.asarray(aaff_predict)-th)/th)\n",
    "np.asarray(aaff_predict),Hre_ch4_nh4,th"
   ]
  },
  {
   "cell_type": "code",
   "execution_count": null,
   "metadata": {},
   "outputs": [],
   "source": [
    "aaff_predict=[]   #CH4->BH4\n",
    "th=float(tgs[tgs.molecule==\"BH4\"].hessian)\n",
    "aaff_predict.append(ch4_h[4])\n",
    "aaff_predict.append(aaff_predict[0]-np.sum(fd1_6*ch4_h)/dl)\n",
    "aaff_predict.append(aaff_predict[1]+np.sum(fd2_6*ch4_h)/dl**2/2)\n",
    "aaff_predict.append(aaff_predict[2]-np.sum(fd3_4*ch4_h)/dl**3/6)\n",
    "aaff_predict.append(aaff_predict[3]+np.sum(fd4_4*ch4_h)/dl**4/24 )\n",
    "aaff_predict.append(aaff_predict[4]-np.sum(fd5_2*ch4_h)/dl**5/120)\n",
    "aaff_predict.append(aaff_predict[5]+np.sum(fd6_2*ch4_h)/dl**6/720)\n",
    "Hre_ch4_bh4=((np.asarray(aaff_predict)-th)/th)\n",
    "np.asarray(aaff_predict),Hre_ch4_bh4,th"
   ]
  },
  {
   "cell_type": "code",
   "execution_count": null,
   "metadata": {},
   "outputs": [],
   "source": [
    "import matplotlib.ticker as mtick\n",
    "\n"
   ]
  },
  {
   "cell_type": "code",
   "execution_count": null,
   "metadata": {},
   "outputs": [],
   "source": [
    "pr=8\n",
    "plt.figure(figsize=(12,8))\n",
    "plt.plot(range(1,pr),100*abs(re_co_bf[1:pr]),label=\"CO$\\longrightarrow$BF\",lw=3)\n",
    "plt.plot(range(1,pr),100*abs(re_bf_co[1:pr]),label=\"BF$\\longrightarrow$CO\",lw=3)\n",
    "plt.plot(range(1,pr),100*abs(re_nn_co[1:pr]),label=\"NN$\\longrightarrow$CO\",lw=3)\n",
    "plt.plot(range(1,pr),100*abs(re_co_nn[1:pr]),label=\"CO$\\longrightarrow$NN\",lw=3)\n",
    "plt.plot(range(1,pr),100*abs(re_ch4_nh4[1:pr]),label=\"CH$_4\\longrightarrow$NH$_4^+$\",lw=3)\n",
    "plt.plot(range(1,pr),100*abs(re_ch4_bh4[1:pr]),label=\"CH$_4\\longrightarrow$BH$_4^-$\",lw=3)\n",
    "plt.axhline(5,ls='-.',lw=1.5,color='black')\n",
    "\n",
    "\n",
    "plt.legend(fontsize=25)\n",
    "\n",
    "plt.xlim(1,7)\n",
    "plt.ylim(0,101)\n",
    "#plt.title(\"Percent error in Gradient predictions\",size=35,pad=20)\n",
    "plt.xlabel(\"APDFT order\",size=35,labelpad=10)\n",
    "plt.ylabel(\"$ \\\\vert \\\\frac{G^\\\\mathrm{T}-G^{\\\\mathrm{APDFT}}}{G^\\\\mathrm{T}}  \\\\vert$\",size=35)\n",
    "\n",
    "\n",
    "plt.axes().yaxis.set_major_formatter(mtick.PercentFormatter())\n",
    "plt.tick_params(length=10,width=2.)\n",
    "plt.yticks([5,20,40,60,80,100],size=30)\n",
    "plt.xticks(size=30)\n",
    "\n",
    "plt.savefig(\"error_gradients.png\",bbox_inches='tight')"
   ]
  },
  {
   "cell_type": "code",
   "execution_count": null,
   "metadata": {},
   "outputs": [],
   "source": [
    "pr=8\n",
    "fig=plt.figure(figsize=(12,8))\n",
    "plt.plot(range(1,pr),100*abs(re_co_bf[1:pr]),label=\"CO$\\longrightarrow$BF\",lw=3)\n",
    "plt.plot(range(1,pr),100*abs(re_bf_co[1:pr]),label=\"BF$\\longrightarrow$CO\",lw=3)\n",
    "plt.plot(range(1,pr),100*abs(re_nn_co[1:pr]),label=\"NN$\\longrightarrow$CO\",lw=3)\n",
    "plt.plot(range(1,pr),100*abs(re_co_nn[1:pr]),label=\"CO$\\longrightarrow$NN\",lw=3)\n",
    "plt.plot(range(1,pr),100*abs(re_ch4_nh4[1:pr]),label=\"CH$_4\\longrightarrow$NH$_4^+$\",lw=3)\n",
    "plt.plot(range(1,pr),100*abs(re_ch4_bh4[1:pr]),label=\"CH$_4\\longrightarrow$BH$_4^-$\",lw=3)\n",
    "plt.axhline(5,ls='-.',lw=1.5,color='black')\n",
    "plt.legend(fontsize=25,ncol=2,loc=(.15,.7))\n",
    "\n",
    "plt.xlim(1,7)\n",
    "plt.ylim(0,101)\n",
    "#plt.title(\"Percent error in Gradient predictions\",size=35,pad=20)\n",
    "plt.xlabel(\"APDFT order\",size=35,labelpad=10)\n",
    "plt.ylabel(\"$ \\\\vert \\\\frac{G^\\\\mathrm{T}-G^{\\\\mathrm{APDFT}}}{G^\\\\mathrm{T}}  \\\\vert$\",size=35)\n",
    "\n",
    "\n",
    "plt.axes().yaxis.set_major_formatter(mtick.PercentFormatter())\n",
    "plt.tick_params(length=10,width=2.)\n",
    "plt.yticks([5,20,40,60,80,100],size=30)\n",
    "plt.xticks(size=30)\n",
    "\n",
    "###################################\n",
    "#axs2=fig.add_axes((0.5,0.5,.3,.2))\n",
    "#axs2.plot(range(4,pr),100*abs(re_co_bf[4:pr]),label=\"CO$\\longrightarrow$BF\",lw=3)\n",
    "#axs2.tick_params(length=10,width=2.)\n",
    "##axs2.yscale(\"log\")\n",
    "#axs2.yaxis.set_ticks([.01,.1,1,5])\n",
    "#axs2.xaxis.set_ticks([4,5,6,7])\n",
    "#axs2.xaxis.set_lim(4,7)\n",
    "plt.savefig(\"error_gradients.png\",bbox_inches='tight')"
   ]
  },
  {
   "cell_type": "code",
   "execution_count": null,
   "metadata": {},
   "outputs": [],
   "source": [
    "pr=8\n",
    "#plt.yscale(\"log\")\n",
    "plt.plot(range(4,pr),100*abs(re_co_bf[4:pr]),label=\"CO$\\longrightarrow$BF\",lw=3)\n",
    "plt.plot(range(4,pr),100*abs(re_bf_co[4:pr]),label=\"BF$\\longrightarrow$CO\",lw=3)\n",
    "plt.plot(range(4,pr),100*abs(re_nn_co[4:pr]),label=\"NN$\\longrightarrow$CO\",lw=3)\n",
    "plt.plot(range(4,pr),100*abs(re_co_nn[4:pr]),label=\"CO$\\longrightarrow$NN\",lw=3)\n",
    "plt.plot(range(4,pr),100*abs(re_ch4_nh4[4:pr]),label=\"CH$_4\\longrightarrow$NH$_4^+$\",lw=3)\n",
    "plt.plot(range(4,pr),100*abs(re_ch4_bh4[4:pr]),label=\"CH$_4\\longrightarrow$BH$_4^-$\",lw=3)\n",
    "plt.axes().yaxis.set_major_formatter(mtick.PercentFormatter())\n",
    "plt.tick_params(length=15,width=3.)\n",
    "plt.yticks([.5,1,1.5],size=30)\n",
    "plt.xticks([4,5,6,7],size=30)\n",
    "plt.xlim(4,7)\n",
    "plt.ylim(0,1.5)\n",
    "plt.savefig(\"subplot.png\",bbox_inches=\"tight\")"
   ]
  },
  {
   "cell_type": "code",
   "execution_count": null,
   "metadata": {},
   "outputs": [],
   "source": [
    "pr=7\n",
    "plt.figure(figsize=(12,8))\n",
    "plt.plot(range(pr),100*abs(Hre_co_bf[:pr]),label=\"CO$\\longrightarrow$BF\",lw=3)\n",
    "plt.plot(range(pr),100*abs(Hre_bf_co[:pr]),label=\"BF$\\longrightarrow$CO\",lw=3)\n",
    "plt.plot(range(pr),100*abs(Hre_nn_co[:pr]),label=\"NN$\\longrightarrow$CO\",lw=3)\n",
    "plt.plot(range(pr),100*abs(Hre_co_nn[:pr]),label=\"CO$\\longrightarrow$NN\",lw=3)\n",
    "plt.plot(range(pr),100*abs(Hre_ch4_nh4[:pr]),label=\"CH$_4\\longrightarrow$NH$_4^+$\",lw=3)\n",
    "plt.plot(range(pr),100*abs(Hre_ch4_bh4[:pr]),label=\"CH$_4\\longrightarrow$BH$_4^-$\",lw=3)\n",
    "plt.axhline(2,lw=1.5,ls=\"-.\",color='black')\n",
    "plt.legend(fontsize=25,ncol=2,loc=(.15,.7))\n",
    "plt.xlim(0,6)\n",
    "plt.ylim(0,23)\n",
    "plt.title(\"Percent error in Hessian predictions\",size=35,pad=20)\n",
    "plt.xlabel(\"APDFT order\",size=35,labelpad=10)\n",
    "plt.ylabel(\"$ \\\\vert \\\\frac{H^\\\\mathrm{T}-H^{\\\\mathrm{APDFT}}}{H^\\\\mathrm{T}}  \\\\vert$\",size=35)\n",
    "\n",
    "plt.axes().yaxis.set_major_formatter(mtick.PercentFormatter())\n",
    "plt.tick_params(length=10,width=2.)\n",
    "plt.yticks([2 , 5., 10., 15., 20.],size=25)\n",
    "plt.xticks(size=30)\n",
    "plt.savefig(\"error_hessian.png\",bbox_inches='tight')"
   ]
  },
  {
   "cell_type": "code",
   "execution_count": null,
   "metadata": {},
   "outputs": [],
   "source": [
    "pr=7\n",
    "plt.plot(range(2,pr),100*abs(Hre_co_bf[2:pr]),label=\"CO$\\longrightarrow$BF\",lw=3)\n",
    "plt.plot(range(2,pr),100*abs(Hre_bf_co[2:pr]),label=\"BF$\\longrightarrow$CO\",lw=3)\n",
    "plt.plot(range(2,pr),100*abs(Hre_nn_co[2:pr]),label=\"NN$\\longrightarrow$CO\",lw=3)\n",
    "plt.plot(range(2,pr),100*abs(Hre_co_nn[2:pr]),label=\"CO$\\longrightarrow$NN\",lw=3)\n",
    "plt.plot(range(2,pr),100*abs(Hre_ch4_nh4[2:pr]),label=\"CH$_4\\longrightarrow$NH$_4^+$\",lw=3)\n",
    "plt.plot(range(2,pr),100*abs(Hre_ch4_bh4[2:pr]),label=\"CH$_4\\longrightarrow$BH$_4^-$\",lw=3)\n",
    "plt.axes().yaxis.set_major_formatter(mtick.PercentFormatter())\n",
    "plt.tick_params(length=15,width=3.)\n",
    "plt.yticks([.5,1,1.5,2],size=30)\n",
    "plt.xticks([2,3,4,5,6],size=30)\n",
    "plt.xlim(2,pr-1)\n",
    "plt.ylim(0,2)\n",
    "plt.savefig(\"subplot_hess.png\",bbox_inches=\"tight\")"
   ]
  },
  {
   "cell_type": "code",
   "execution_count": null,
   "metadata": {},
   "outputs": [],
   "source": []
  }
 ],
 "metadata": {
  "kernelspec": {
   "display_name": "Python 3",
   "language": "python",
   "name": "python3"
  },
  "language_info": {
   "codemirror_mode": {
    "name": "ipython",
    "version": 3
   },
   "file_extension": ".py",
   "mimetype": "text/x-python",
   "name": "python",
   "nbconvert_exporter": "python",
   "pygments_lexer": "ipython3",
   "version": "3.8.8"
  }
 },
 "nbformat": 4,
 "nbformat_minor": 2
}
