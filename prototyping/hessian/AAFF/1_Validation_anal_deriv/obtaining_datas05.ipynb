{
 "cells": [
  {
   "cell_type": "code",
   "execution_count": 32,
   "metadata": {},
   "outputs": [],
   "source": [
    "from pyscf import gto,scf\n",
    "import pandas as pd\n",
    "from pyscf.hessian import rhf as hrhf\n",
    "import numpy as np \n",
    "import matplotlib.pyplot as plt\n",
    "from pyscf.grad import rhf as grhf\n",
    "import basis_set_exchange as bse\n",
    "import sys\n",
    "dl=.05"
   ]
  },
  {
   "cell_type": "code",
   "execution_count": 35,
   "metadata": {},
   "outputs": [],
   "source": [
    "sys.path.append('/home/administrator/Documenti/APDFT/prototyping/hessian/AAFF/Libs/')\n",
    "from FDcoeffs import *\n",
    "from aaff import aaff,alc_deriv_grad_nuc,alc_differential_grad_nuc\n",
    "from FcMole import FcM\n"
   ]
  },
  {
   "cell_type": "code",
   "execution_count": 2,
   "metadata": {
    "scrolled": true
   },
   "outputs": [
    {
     "name": "stdout",
     "output_type": "stream",
     "text": [
      "converged SCF energy = -112.786616218695\n",
      "converged SCF energy = -114.455410086041\n",
      "--------------- RHF gradients ---------------\n",
      "         x                y                z\n",
      "0 C     0.0000000000     0.0000000000     0.0478011505\n",
      "1 O    -0.0000000000    -0.0000000000    -0.0478011505\n",
      "----------------------------------------------\n",
      "converged SCF energy = -114.009968272003\n",
      "--------------- RHF gradients ---------------\n",
      "         x                y                z\n",
      "0 C    -0.0000000000    -0.0000000000     0.0353465051\n",
      "1 O     0.0000000000     0.0000000000    -0.0353465051\n",
      "----------------------------------------------\n",
      "converged SCF energy = -113.583344282025\n",
      "--------------- RHF gradients ---------------\n",
      "         x                y                z\n",
      "0 C    -0.0000000000     0.0000000000     0.0232101674\n",
      "1 O     0.0000000000    -0.0000000000    -0.0232101674\n",
      "----------------------------------------------\n",
      "converged SCF energy = -113.175554897645\n",
      "--------------- RHF gradients ---------------\n",
      "         x                y                z\n",
      "0 C    -0.0000000000    -0.0000000000     0.0114185678\n",
      "1 O     0.0000000000     0.0000000000    -0.0114185678\n",
      "----------------------------------------------\n",
      "converged SCF energy = -112.786616218698\n",
      "--------------- RHF gradients ---------------\n",
      "         x                y                z\n",
      "0 C     0.0000000000    -0.0000000000    -0.0000026825\n",
      "1 O    -0.0000000000     0.0000000000     0.0000026825\n",
      "----------------------------------------------\n",
      "converged SCF energy = -112.416543641524\n",
      "--------------- RHF gradients ---------------\n",
      "         x                y                z\n",
      "0 C    -0.0000000000    -0.0000000000    -0.0110288774\n",
      "1 O     0.0000000000     0.0000000000     0.0110288774\n",
      "----------------------------------------------\n",
      "converged SCF energy = -112.065351840267\n",
      "--------------- RHF gradients ---------------\n",
      "         x                y                z\n",
      "0 C     0.0000000000    -0.0000000000    -0.0216374158\n",
      "1 O    -0.0000000000     0.0000000000     0.0216374158\n",
      "----------------------------------------------\n",
      "converged SCF energy = -111.733054751198\n",
      "--------------- RHF gradients ---------------\n",
      "         x                y                z\n",
      "0 C     0.0000000000    -0.0000000000    -0.0318032682\n",
      "1 O    -0.0000000000     0.0000000000     0.0318032682\n",
      "----------------------------------------------\n",
      "converged SCF energy = -111.419665559842\n",
      "--------------- RHF gradients ---------------\n",
      "         x                y                z\n",
      "0 C     0.0000000000    -0.0000000000    -0.0415061657\n",
      "1 O    -0.0000000000     0.0000000000     0.0415061657\n",
      "----------------------------------------------\n"
     ]
    }
   ],
   "source": [
    "mol=gto.M(atom=\"C 0 0 0; O 0 0 2.08272\",unit=\"Bohrs\",basis=bse.get_basis(\"pcX-2\",fmt=\"nwchem\",elements=[5,6,7,8,9]))\n",
    "hfCO=scf.RHF(mol)\n",
    "hfCO.scf()\n",
    "co_gs=[]\n",
    "co_ge=[]\n",
    "co_hs=[]\n",
    "co_amds=[]\n",
    "for i in range(-3,4):\n",
    "    fm=FcM(fcs=[i*dl,-i*dl],atom=\"C 0 0 0; O 0 0 2.08272\",unit=\"Bohrs\",basis=bse.get_basis(\"pcX-2\",fmt=\"nwchem\",elements=[5,6,7,8,9]))\n",
    "    mf=scf.RHF(fm)\n",
    "    mf.scf(dm0=mf.init_guess_by_1e())\n",
    "    g=mf.Gradients()\n",
    "    grad=g.grad()\n",
    "    h=mf.Hessian()\n",
    "    co_hs.append(h.hess())\n",
    "    co_gs.append(grad)\n",
    "    co_ge.append(grad-g.grad_nuc())\n",
    "    co_amds.append(aaff(mf,[1,-1])) "
   ]
  },
  {
   "cell_type": "code",
   "execution_count": 3,
   "metadata": {},
   "outputs": [],
   "source": [
    "co_gs=np.asarray(co_gs)\n",
    "co_ge=np.asarray(co_ge)\n",
    "co_hs=np.asarray(co_hs)\n",
    "co_amds=np.asarray(co_amds)"
   ]
  },
  {
   "cell_type": "code",
   "execution_count": 4,
   "metadata": {},
   "outputs": [],
   "source": [
    "np.save(\"CO_grads_9pfd05\",co_gs),np.save(\"CO_g_elec_9pfd05\",co_ge),np.save(\"CO_hess_9pfd05\",co_hs)\n",
    "np.save(\"CO_aderivs_9pfd05\",co_amds)"
   ]
  },
  {
   "cell_type": "code",
   "execution_count": 29,
   "metadata": {},
   "outputs": [],
   "source": [
    "bf_gs=[]\n",
    "bf_ge=[]\n",
    "bf_hs=[]\n",
    "bf_amds=[]\n",
    "for i in range(-4,5):\n",
    "    fm=FcM(fcs=[i*dl,-i*dl],atom=\"B 0 0 0; F 0 0 2.35348\",unit=\"Bohrs\",basis=bse.get_basis(\"pcX-2\",fmt=\"nwchem\",elements=[5,6,7,8,9]))\n",
    "    mf=scf.RHF(fm)\n",
    "    mf.scf(dm0=mf.init_guess_by_1e(),max_cycle=100)\n",
    "    g=mf.Gradients()\n",
    "    h=mf.Hessian()\n",
    "    bf_hs.append(h.hess())\n",
    "    grad=g.grad()\n",
    "    bf_gs.append(grad)\n",
    "    bf_ge.append(grad-g.grad_nuc())\n",
    "    bf_amds.append(aaff(mf,[1,-1])) "
   ]
  },
  {
   "cell_type": "code",
   "execution_count": 30,
   "metadata": {},
   "outputs": [],
   "source": [
    "bf_gs=np.asarray(bf_gs)\n",
    "bf_ge=np.asarray(bf_ge)\n",
    "bf_hs=np.asarray(bf_hs)\n",
    "bf_amds=np.asarray(bf_amds)"
   ]
  },
  {
   "cell_type": "code",
   "execution_count": 31,
   "metadata": {},
   "outputs": [],
   "source": [
    "np.save(\"BF_grads_9pfd05\",bf_gs),np.save(\"BF_g_elec_9pfd05\",bf_ge),np.save(\"BF_hess_9pfd05\",bf_hs)\n",
    "np.save(\"BF_aderivs_9pfd05\",bf_amds)"
   ]
  },
  {
   "cell_type": "code",
   "execution_count": 8,
   "metadata": {},
   "outputs": [
    {
     "name": "stdout",
     "output_type": "stream",
     "text": [
      "converged SCF energy = -109.140771563211\n",
      "--------------- RHF gradients ---------------\n",
      "         x                y                z\n",
      "0 N    -0.0000000000     0.0000000000     0.0051581192\n",
      "1 N     0.0000000000    -0.0000000000    -0.0051581192\n",
      "----------------------------------------------\n",
      "converged SCF energy = -109.074401460629\n",
      "--------------- RHF gradients ---------------\n",
      "         x                y                z\n",
      "0 N     0.0000000000     0.0000000000     0.0029083743\n",
      "1 N    -0.0000000000    -0.0000000000    -0.0029083743\n",
      "----------------------------------------------\n",
      "converged SCF energy = -109.026992412467\n",
      "--------------- RHF gradients ---------------\n",
      "         x                y                z\n",
      "0 N     0.0000000000    -0.0000000000     0.0012984282\n",
      "1 N    -0.0000000000     0.0000000000    -0.0012984282\n",
      "----------------------------------------------\n",
      "converged SCF energy = -108.998546251108\n",
      "--------------- RHF gradients ---------------\n",
      "         x                y                z\n",
      "0 N    -0.0000000000    -0.0000000000     0.0003313406\n",
      "1 N     0.0000000000     0.0000000000    -0.0003313406\n",
      "----------------------------------------------\n",
      "converged SCF energy = -108.989064075281\n",
      "--------------- RHF gradients ---------------\n",
      "         x                y                z\n",
      "0 N    -0.0000000000    -0.0000000000     0.0000088373\n",
      "1 N     0.0000000000     0.0000000000    -0.0000088373\n",
      "----------------------------------------------\n",
      "converged SCF energy = -108.998546251108\n",
      "--------------- RHF gradients ---------------\n",
      "         x                y                z\n",
      "0 N    -0.0000000000     0.0000000000     0.0003313406\n",
      "1 N     0.0000000000    -0.0000000000    -0.0003313406\n",
      "----------------------------------------------\n",
      "converged SCF energy = -109.026992412467\n",
      "--------------- RHF gradients ---------------\n",
      "         x                y                z\n",
      "0 N     0.0000000000    -0.0000000000     0.0012984282\n",
      "1 N    -0.0000000000     0.0000000000    -0.0012984282\n",
      "----------------------------------------------\n",
      "converged SCF energy = -109.074401460629\n",
      "--------------- RHF gradients ---------------\n",
      "         x                y                z\n",
      "0 N     0.0000000000    -0.0000000000     0.0029083743\n",
      "1 N    -0.0000000000     0.0000000000    -0.0029083743\n",
      "----------------------------------------------\n",
      "converged SCF energy = -109.140771563211\n",
      "--------------- RHF gradients ---------------\n",
      "         x                y                z\n",
      "0 N     0.0000000000     0.0000000000     0.0051581192\n",
      "1 N    -0.0000000000    -0.0000000000    -0.0051581192\n",
      "----------------------------------------------\n"
     ]
    }
   ],
   "source": [
    "nn_gs=[]\n",
    "nn_ge=[]\n",
    "nn_hs=[]\n",
    "nn_amds=[]\n",
    "for i in range(-4,5):\n",
    "    fm=FcM(fcs=[i*dl,-i*dl],atom=\"N 0 0 0; N 0 0 2.01388999\",unit=\"Bohrs\",basis=bse.get_basis(\"pcX-2\",fmt=\"nwchem\",elements=[5,6,7,8,9]))\n",
    "    mf=scf.RHF(fm)\n",
    "    mf.scf(dm0=mf.init_guess_by_1e(),max_cycle=100)\n",
    "    g=mf.Gradients()\n",
    "    h=mf.Hessian()\n",
    "    nn_hs.append(h.hess())\n",
    "    grad=g.grad()\n",
    "    nn_gs.append(grad)\n",
    "    nn_ge.append(grad-g.grad_nuc())\n",
    "    nn_amds.append(aaff(mf,[1,-1])) "
   ]
  },
  {
   "cell_type": "code",
   "execution_count": 9,
   "metadata": {},
   "outputs": [],
   "source": [
    "nn_gs=np.asarray(nn_gs)\n",
    "nn_ge=np.asarray(nn_ge)\n",
    "nn_hs=np.asarray(nn_hs)\n",
    "nn_amds=np.asarray(nn_amds)"
   ]
  },
  {
   "cell_type": "code",
   "execution_count": 10,
   "metadata": {},
   "outputs": [],
   "source": [
    "np.save(\"NN_grads_9pfd05\",nn_gs),np.save(\"NN_g_elec_9pfd05\",nn_ge),np.save(\"NN_hess_9pfd05\",nn_hs)\n",
    "np.save(\"NN_aderivs_9pfd05\",nn_amds)"
   ]
  },
  {
   "cell_type": "code",
   "execution_count": 11,
   "metadata": {},
   "outputs": [],
   "source": [
    "#forward difference "
   ]
  },
  {
   "cell_type": "code",
   "execution_count": 12,
   "metadata": {
    "scrolled": false
   },
   "outputs": [
    {
     "name": "stdout",
     "output_type": "stream",
     "text": [
      "1 order finite diff. accuracy::  0.6700685509031246\n",
      "2 order finite diff. accuracy::  0.685545890303203\n",
      "4 order finite diff. accuracy::  0.6856247354246925\n",
      "6 order finite diff. accuracy::  0.6856236241690072\n",
      "8 order finite diff. accuracy::  0.6856228663812248\n",
      "Analytical derivative        ::  0.6856271189688079\n"
     ]
    }
   ],
   "source": [
    "#CO\n",
    "print(\"1 order finite diff. accuracy:: \",(co_ge[5]-co_ge[4])[1,2]/dl)\n",
    "print(\"2 order finite diff. accuracy:: \",np.einsum('i,ijk->jk',fd1_2,co_ge)[1,2]/dl)\n",
    "print(\"4 order finite diff. accuracy:: \",np.einsum('i,ijk->jk',fd1_4,(np.asarray(co_ge)))[1,2]/dl)\n",
    "print(\"6 order finite diff. accuracy:: \",np.einsum('i,ijk->jk',fd1_6,(np.asarray(co_ge)))[1,2]/dl)\n",
    "print(\"8 order finite diff. accuracy:: \",np.einsum('i,ijk->jk',fd1_8,(np.asarray(co_ge)))[1,2]/dl)\n",
    "print(\"Analytical derivative        :: \",co_amds[4][1,2])"
   ]
  },
  {
   "cell_type": "code",
   "execution_count": 13,
   "metadata": {},
   "outputs": [
    {
     "name": "stdout",
     "output_type": "stream",
     "text": [
      "2 order finite diff. accuracy::  0.7464579561250417\n",
      "4 order finite diff. accuracy::  0.746544692271276\n",
      "Analytical derivative        ::  0.7465449527320537\n"
     ]
    }
   ],
   "source": [
    "print(\"2 order finite diff. accuracy:: \",np.einsum('i,ijk->jk',fd1_2[3:6],co_ge[1:4])[1,2]/dl)\n",
    "print(\"4 order finite diff. accuracy:: \",np.einsum('i,ijk->jk',fd1_4[2:7],co_ge[0:5])[1,2]/dl)\n",
    "print(\"Analytical derivative        :: \",co_amds[2][1,2])"
   ]
  },
  {
   "cell_type": "code",
   "execution_count": 14,
   "metadata": {},
   "outputs": [
    {
     "name": "stdout",
     "output_type": "stream",
     "text": [
      "1 order finite diff. accuracy::  0.9810823794452261\n",
      "2 order finite diff. accuracy::  0.9888801153535276\n",
      "4 order finite diff. accuracy::  0.9889460928123128\n",
      "6 order finite diff. accuracy::  0.9889460653916854\n",
      "Analytical derivative        ::  0.9889466777046925\n"
     ]
    }
   ],
   "source": [
    "#BF\n",
    "print(\"1 order finite diff. accuracy:: \",(bf_ge[5]-bf_ge[4])[1,2]/dl)\n",
    "print(\"2 order finite diff. accuracy:: \",np.einsum('i,ijk->jk',fd1_2,bf_ge)[1,2]/dl)\n",
    "print(\"4 order finite diff. accuracy:: \",np.einsum('i,ijk->jk',fd1_4,(np.asarray(bf_ge)))[1,2]/dl)\n",
    "print(\"6 order finite diff. accuracy:: \",np.einsum('i,ijk->jk',fd1_6,(np.asarray(bf_ge)))[1,2]/dl)\n",
    "#print(\"8 order finite diff. accuracy:: \",np.einsum('i,ijk->jk',fd1_8,(np.asarray(bf_ge)))[1,2]/dl)\n",
    "print(\"Analytical derivative        :: \",bf_amds[4][1,2])"
   ]
  },
  {
   "cell_type": "code",
   "execution_count": 15,
   "metadata": {},
   "outputs": [
    {
     "name": "stdout",
     "output_type": "stream",
     "text": [
      "2 order finite diff. accuracy::  -0.7511293118177774\n",
      "4 order finite diff. accuracy::  -0.751157463054941\n",
      "6 order finite diff. accuracy::  -0.7511533836459415\n",
      "8 order finite diff. accuracy::  -0.7511514603544668\n",
      "Analytical derivative        ::  -0.7511666250161164\n"
     ]
    }
   ],
   "source": [
    "# N2 for second derivative\n",
    "print(\"2 order finite diff. accuracy:: \",np.einsum('i,ijk->jk',fd2_2,nn_ge)[1,2]/dl**2)\n",
    "print(\"4 order finite diff. accuracy:: \",np.einsum('i,ijk->jk',fd2_4,(np.asarray(nn_ge)))[1,2]/dl**2)\n",
    "print(\"6 order finite diff. accuracy:: \",np.einsum('i,ijk->jk',fd2_6,(np.asarray(nn_ge)))[1,2]/dl**2)\n",
    "print(\"8 order finite diff. accuracy:: \",np.einsum('i,ijk->jk',fd2_8,(np.asarray(nn_ge)))[1,2]/dl**2)\n",
    "print(\"Analytical derivative        :: \",np.einsum('i,ijk->jk',fd1_2,nn_amds)[1,2]/dl)"
   ]
  },
  {
   "cell_type": "code",
   "execution_count": 16,
   "metadata": {},
   "outputs": [
    {
     "name": "stdout",
     "output_type": "stream",
     "text": [
      "[[-6.04025896e-11 -4.41387859e-11  6.19206575e-01]\n",
      " [ 6.04025896e-11  4.41387859e-11 -6.19206575e-01]]\n",
      "[[-6.09328830e-12  2.61361812e-12  6.19124095e-01]\n",
      " [ 6.09328830e-12 -2.61361812e-12 -6.19124095e-01]]\n"
     ]
    }
   ],
   "source": [
    "print(np.einsum('i,ijk->jk',fd2_8,(np.asarray(co_ge)))/dl**2)\n",
    "print(np.einsum('i,ijk->jk',fd1_8,(np.asarray(co_amds)))/dl)"
   ]
  },
  {
   "cell_type": "code",
   "execution_count": 17,
   "metadata": {},
   "outputs": [
    {
     "name": "stdout",
     "output_type": "stream",
     "text": [
      "[[ 5.88340717e-10 -5.74523746e-11  1.83419085e-01]\n",
      " [-5.88340717e-10  5.74523746e-11 -1.83419084e-01]]\n",
      "[[ 3.23564412e-10  1.26685687e-10  1.93884778e-01]\n",
      " [-3.23564412e-10 -1.26685687e-10 -1.93884778e-01]]\n"
     ]
    }
   ],
   "source": [
    "print(np.einsum('i,ijk->jk',fd3_6,(np.asarray(co_ge)))/dl**3)\n",
    "print(np.einsum('i,ijk->jk',fd2_8,(np.asarray(co_amds)))/dl**2)"
   ]
  },
  {
   "cell_type": "code",
   "execution_count": 18,
   "metadata": {
    "scrolled": true
   },
   "outputs": [
    {
     "name": "stdout",
     "output_type": "stream",
     "text": [
      "[[ 9.48815921e-08  1.06390053e-07 -6.03058890e-01]\n",
      " [-9.48815921e-08 -1.06390053e-07  6.03058886e-01]]\n",
      "[[ 5.55711782e-09 -1.81747266e-09 -1.57793547e-01]\n",
      " [-5.55711782e-09  1.81747266e-09  1.57793547e-01]]\n"
     ]
    }
   ],
   "source": [
    "print(np.einsum('i,ijk->jk',fd4_6,(np.asarray(co_ge)))/dl**4)\n",
    "print(np.einsum('i,ijk->jk',fd3_6,(np.asarray(co_amds)))/dl**3)"
   ]
  },
  {
   "cell_type": "code",
   "execution_count": 19,
   "metadata": {},
   "outputs": [],
   "source": [
    "#with dl=.1  the 4th derivatives are:   only McL expansion of aaff is consistent to obtain APDFT4_g1 derivs\n",
    "#[[-5.43974711e-09 -4.46784523e-09 -8.97038551e-02]\n",
    "# [ 5.43974711e-09  4.46784523e-09  8.97038538e-02]]\n",
    "#[[ 1.04025962e-09  1.59691820e-09 -1.55567761e-01]\n",
    "# [-2.70775954e-08  7.58253933e-09  1.56759171e-01]]"
   ]
  },
  {
   "cell_type": "code",
   "execution_count": 20,
   "metadata": {},
   "outputs": [
    {
     "name": "stdout",
     "output_type": "stream",
     "text": [
      "converged SCF energy = -124.125858218425\n"
     ]
    }
   ],
   "source": [
    "BF_CO=FcM(fcs=[-1,1],atom=\"C 0 0 0; O 0 0 2.08272\",unit=\"Bohrs\",basis=bse.get_basis(\"pcX-2\",fmt=\"nwchem\",elements=[5,6,7,8,9]))\n",
    "hfBF_CO=scf.RHF(BF_CO)\n",
    "hfBF_CO.scf(dm0=hfBF_CO.init_guess_by_1e())\n",
    "geBF_CO=hfBF_CO.Gradients().grad_elec()\n",
    "gBF_CO=geBF_CO+hfBF_CO.Gradients().grad_nuc()\n",
    "hBF_CO=hfBF_CO.Hessian().hess()"
   ]
  },
  {
   "cell_type": "code",
   "execution_count": 21,
   "metadata": {},
   "outputs": [
    {
     "name": "stdout",
     "output_type": "stream",
     "text": [
      "converged SCF energy = -108.984680830552\n"
     ]
    }
   ],
   "source": [
    "NN_CO=FcM(fcs=[1,-1],atom=\"C 0 0 0; O 0 0 2.08272\",unit=\"Bohrs\",basis=bse.get_basis(\"pcX-2\",fmt=\"nwchem\",elements=[5,6,7,8,9]))\n",
    "hfNN_CO=scf.RHF(NN_CO)\n",
    "hfNN_CO.scf(dm0=hfNN_CO.init_guess_by_1e())\n",
    "geNN_CO=hfNN_CO.Gradients().grad_elec()\n",
    "gNN_CO=geNN_CO+hfNN_CO.Gradients().grad_nuc()\n",
    "hNN_CO=hfNN_CO.Hessian().hess()"
   ]
  },
  {
   "cell_type": "code",
   "execution_count": 22,
   "metadata": {},
   "outputs": [],
   "source": [
    "CO_NN=FcM(fcs=[-1,1],atom=\"N 0 0 0; N 0 0 2.01388999\",unit=\"Bohrs\",\\\n",
    "          basis=bse.get_basis(\"pcX-2\",fmt=\"nwchem\",elements=[5,6,7,8,9]),verbose=0)\n",
    "hfCO_NN=scf.RHF(CO_NN)\n",
    "hfCO_NN.scf(dm0=hfCO_NN.init_guess_by_1e())\n",
    "geCO_NN=hfCO_NN.Gradients().grad_elec()\n",
    "gCO_NN=geCO_NN+hfCO_NN.Gradients().grad_nuc()\n",
    "hCO_NN=hfCO_NN.Hessian().hess()"
   ]
  },
  {
   "cell_type": "code",
   "execution_count": 23,
   "metadata": {},
   "outputs": [
    {
     "name": "stdout",
     "output_type": "stream",
     "text": [
      "converged SCF energy = -112.744089343143\n"
     ]
    }
   ],
   "source": [
    "co_bf=FcM(fcs=[1,-1],atom=\"B 0 0 0; F 0 0 2.35348\",unit=\"Bohrs\",basis=bse.get_basis(\"pcX-2\",fmt=\"nwchem\",elements=[5,6,7,8,9]))\n",
    "hfco_bf=scf.RHF(co_bf)\n",
    "hfco_bf.scf(dm0=hfco_bf.init_guess_by_1e())\n",
    "geco_bf=hfco_bf.Gradients().grad_elec()\n",
    "gco_bf=geco_bf+hfCO_NN.Gradients().grad_nuc()\n",
    "hco_bf=hfco_bf.Hessian().hess()"
   ]
  },
  {
   "cell_type": "code",
   "execution_count": 24,
   "metadata": {},
   "outputs": [
    {
     "data": {
      "text/plain": [
       "(2, 2, 3, 3)"
      ]
     },
     "execution_count": 24,
     "metadata": {},
     "output_type": "execute_result"
    }
   ],
   "source": [
    "hco_bf.shape"
   ]
  },
  {
   "cell_type": "code",
   "execution_count": 25,
   "metadata": {},
   "outputs": [],
   "source": [
    "CO=gto.M(atom=\"C 0 0 0; O 0 0 2.08272\",unit=\"Bohrs\",\\\n",
    "       basis=bse.get_basis(\"pcX-2\",fmt=\"nwchem\",elements=[5,6,7,8,9]))\n",
    "NN=gto.M(atom=\"N 0 0 0; N 0 0 2.01388999\",unit=\"Bohrs\",\\\n",
    "          basis=bse.get_basis(\"pcX-2\",fmt=\"nwchem\",elements=[5,6,7,8,9]),verbose=0)\n",
    "BF=gto.M(atom=\"B 0 0 0; F 0 0 2.35348\",unit=\"Bohrs\",basis=bse.get_basis(\"pcX-2\",fmt=\"nwchem\",elements=[5,6,7,8,9]))"
   ]
  },
  {
   "cell_type": "code",
   "execution_count": 26,
   "metadata": {},
   "outputs": [],
   "source": [
    "and1CO,and2CO=alc_deriv_grad_nuc(CO,[1,-1]),alc_differential_grad_nuc(CO,[1,-1])-alc_deriv_grad_nuc(CO,[1,-1])\n",
    "and1NN,and2NN=alc_deriv_grad_nuc(NN,[-1,1]),alc_differential_grad_nuc(NN,[-1,1])-alc_deriv_grad_nuc(NN,[-1,1])\n",
    "and1BF,and2BF=alc_deriv_grad_nuc(BF,[1,-1]),alc_differential_grad_nuc(BF,[1,-1])-alc_deriv_grad_nuc(BF,[1,-1])"
   ]
  },
  {
   "cell_type": "code",
   "execution_count": 27,
   "metadata": {},
   "outputs": [],
   "source": [
    "q=[]\n",
    "q.append({\"alchemy\":\"CO@BF\",\"ge\":geco_bf[1,2], \"grad\":gco_bf[1,2],\"hess\":hco_bf[1,1,2,2],\"and1\":and1BF[1,2] ,\"and2\": and2BF[1,2]})\n",
    "q.append({\"alchemy\":\"CO@NN\",\"ge\":geCO_NN[1,2], \"grad\":gCO_NN[1,2],\"hess\":hCO_NN[1,1,2,2],\"and1\":and1NN[1,2] ,\"and2\":  and2NN[1,2]})\n",
    "q.append({\"alchemy\":\"BF@CO\",\"ge\":geBF_CO[1,2], \"grad\":gBF_CO[1,2],\"hess\":hBF_CO[1,1,2,2],\"and1\":-and1CO[1,2],\"and2\": and2CO[1,2] })\n",
    "q.append({\"alchemy\":\"NN@CO\",\"ge\":geNN_CO[1,2], \"grad\":gNN_CO[1,2],\"hess\":hNN_CO[1,1,2,2],\"and1\":and1CO[1,2] ,\"and2\": and2CO[1,2] })\n",
    "pd.DataFrame(q).to_pickle(\"alch_transf_mol\")"
   ]
  },
  {
   "cell_type": "code",
   "execution_count": 28,
   "metadata": {},
   "outputs": [
    {
     "ename": "NameError",
     "evalue": "name 'hfBF' is not defined",
     "output_type": "error",
     "traceback": [
      "\u001b[0;31m---------------------------------------------------------------------------\u001b[0m",
      "\u001b[0;31mNameError\u001b[0m                                 Traceback (most recent call last)",
      "\u001b[0;32m<ipython-input-28-3179c8e55352>\u001b[0m in \u001b[0;36m<module>\u001b[0;34m\u001b[0m\n\u001b[1;32m      2\u001b[0m     \u001b[0;34m+\u001b[0m\u001b[0mnp\u001b[0m\u001b[0;34m.\u001b[0m\u001b[0meinsum\u001b[0m\u001b[0;34m(\u001b[0m\u001b[0;34m'i,ijk->jk'\u001b[0m\u001b[0;34m,\u001b[0m\u001b[0mfd2_8\u001b[0m\u001b[0;34m,\u001b[0m\u001b[0;34m(\u001b[0m\u001b[0mnp\u001b[0m\u001b[0;34m.\u001b[0m\u001b[0masarray\u001b[0m\u001b[0;34m(\u001b[0m\u001b[0mamds\u001b[0m\u001b[0;34m)\u001b[0m\u001b[0;34m)\u001b[0m\u001b[0;34m)\u001b[0m\u001b[0;34m/\u001b[0m\u001b[0mdl\u001b[0m\u001b[0;34m**\u001b[0m\u001b[0;36m2\u001b[0m\u001b[0;34m/\u001b[0m\u001b[0;36m6\u001b[0m\u001b[0;34m+\u001b[0m\u001b[0mnp\u001b[0m\u001b[0;34m.\u001b[0m\u001b[0meinsum\u001b[0m\u001b[0;34m(\u001b[0m\u001b[0;34m'i,ijk->jk'\u001b[0m\u001b[0;34m,\u001b[0m\u001b[0mfd3_6\u001b[0m\u001b[0;34m,\u001b[0m\u001b[0;34m(\u001b[0m\u001b[0mnp\u001b[0m\u001b[0;34m.\u001b[0m\u001b[0masarray\u001b[0m\u001b[0;34m(\u001b[0m\u001b[0mamds\u001b[0m\u001b[0;34m)\u001b[0m\u001b[0;34m)\u001b[0m\u001b[0;34m)\u001b[0m\u001b[0;34m/\u001b[0m\u001b[0mdl\u001b[0m\u001b[0;34m**\u001b[0m\u001b[0;36m3\u001b[0m\u001b[0;34m/\u001b[0m\u001b[0;36m24\u001b[0m\u001b[0;31m \u001b[0m\u001b[0;31m\\\u001b[0m\u001b[0;34m\u001b[0m\u001b[0;34m\u001b[0m\u001b[0m\n\u001b[1;32m      3\u001b[0m   \u001b[0;34m+\u001b[0m\u001b[0mnp\u001b[0m\u001b[0;34m.\u001b[0m\u001b[0meinsum\u001b[0m\u001b[0;34m(\u001b[0m\u001b[0;34m'i,ijk->jk'\u001b[0m\u001b[0;34m,\u001b[0m\u001b[0mfd4_6\u001b[0m\u001b[0;34m,\u001b[0m\u001b[0;34m(\u001b[0m\u001b[0mnp\u001b[0m\u001b[0;34m.\u001b[0m\u001b[0masarray\u001b[0m\u001b[0;34m(\u001b[0m\u001b[0mamds\u001b[0m\u001b[0;34m)\u001b[0m\u001b[0;34m)\u001b[0m\u001b[0;34m)\u001b[0m\u001b[0;34m/\u001b[0m\u001b[0mdl\u001b[0m\u001b[0;34m**\u001b[0m\u001b[0;36m4\u001b[0m\u001b[0;34m/\u001b[0m\u001b[0;36m120\u001b[0m\u001b[0;34m+\u001b[0m\u001b[0mnp\u001b[0m\u001b[0;34m.\u001b[0m\u001b[0meinsum\u001b[0m\u001b[0;34m(\u001b[0m\u001b[0;34m'i,ijk->jk'\u001b[0m\u001b[0;34m,\u001b[0m\u001b[0mfd5_4\u001b[0m\u001b[0;34m,\u001b[0m\u001b[0;34m(\u001b[0m\u001b[0mnp\u001b[0m\u001b[0;34m.\u001b[0m\u001b[0masarray\u001b[0m\u001b[0;34m(\u001b[0m\u001b[0mamds\u001b[0m\u001b[0;34m)\u001b[0m\u001b[0;34m)\u001b[0m\u001b[0;34m)\u001b[0m\u001b[0;34m/\u001b[0m\u001b[0mdl\u001b[0m\u001b[0;34m**\u001b[0m\u001b[0;36m5\u001b[0m\u001b[0;34m/\u001b[0m\u001b[0;36m720\u001b[0m\u001b[0;31m \u001b[0m\u001b[0;31m\\\u001b[0m\u001b[0;34m\u001b[0m\u001b[0;34m\u001b[0m\u001b[0m\n\u001b[0;32m----> 4\u001b[0;31m  \u001b[0;34m+\u001b[0m\u001b[0mnp\u001b[0m\u001b[0;34m.\u001b[0m\u001b[0meinsum\u001b[0m\u001b[0;34m(\u001b[0m\u001b[0;34m'i,ijk->jk'\u001b[0m\u001b[0;34m,\u001b[0m\u001b[0mfd6_2\u001b[0m\u001b[0;34m,\u001b[0m\u001b[0;34m(\u001b[0m\u001b[0mnp\u001b[0m\u001b[0;34m.\u001b[0m\u001b[0masarray\u001b[0m\u001b[0;34m(\u001b[0m\u001b[0mamds\u001b[0m\u001b[0;34m)\u001b[0m\u001b[0;34m)\u001b[0m\u001b[0;34m)\u001b[0m\u001b[0;34m/\u001b[0m\u001b[0mdl\u001b[0m\u001b[0;34m**\u001b[0m\u001b[0;36m6\u001b[0m\u001b[0;34m/\u001b[0m\u001b[0;36m5040\u001b[0m\u001b[0;34m\u001b[0m\u001b[0;34m\u001b[0m\u001b[0m\n\u001b[0m",
      "\u001b[0;31mNameError\u001b[0m: name 'hfBF' is not defined"
     ]
    }
   ],
   "source": [
    "hfBF.Gradients().grad_nuc()+ge[4]+amds[4]+np.einsum('i,ijk->jk',fd1_8,(np.asarray(amds)))/dl/2  \\\n",
    "    +np.einsum('i,ijk->jk',fd2_8,(np.asarray(amds)))/dl**2/6+np.einsum('i,ijk->jk',fd3_6,(np.asarray(amds)))/dl**3/24 \\\n",
    "  +np.einsum('i,ijk->jk',fd4_6,(np.asarray(amds)))/dl**4/120+np.einsum('i,ijk->jk',fd5_4,(np.asarray(amds)))/dl**5/720 \\\n",
    " +np.einsum('i,ijk->jk',fd6_2,(np.asarray(amds)))/dl**6/5040"
   ]
  },
  {
   "cell_type": "code",
   "execution_count": null,
   "metadata": {},
   "outputs": [],
   "source": [
    "#hfBF.Gradients().grad_nuc()+ge[4]+amds[4]/2,amds[4]"
   ]
  },
  {
   "cell_type": "code",
   "execution_count": null,
   "metadata": {},
   "outputs": [],
   "source": [
    "(hfBF.Gradients().grad_nuc()-hfCO.Gradients().grad_nuc())/(-2)"
   ]
  },
  {
   "cell_type": "code",
   "execution_count": null,
   "metadata": {},
   "outputs": [],
   "source": [
    "amds=co_amds"
   ]
  },
  {
   "cell_type": "code",
   "execution_count": null,
   "metadata": {},
   "outputs": [],
   "source": [
    "aaff_predict=[]\n",
    "aaff_predict.append((hfCO.Gradients().grad_nuc()+ge[4])[1,2])\n",
    "aaff_predict.append(aaff_predict[0]+alc_deriv_grad_nuc(mol,[-1,1])[1,2]+amds[4][1,2])\n",
    "aaff_predict.append(aaff_predict[1]+alc_differential_grad_nuc(mol,[-1,1])[1,2]\\\n",
    "                    -alc_deriv_grad_nuc(mol,[-1,1])[1,2]+np.einsum('i,ijk->jk',fd1_8,(np.asarray(amds)))[1,2]/dl/2)\n",
    "aaff_predict.append(aaff_predict[2]+np.einsum('i,ijk->jk',fd2_8,(np.asarray(amds)))[1,2]/dl**2/6)\n",
    "aaff_predict.append(aaff_predict[3]+np.einsum('i,ijk->jk',fd3_6,(np.asarray(amds)))[1,2]/dl**3/24 )\n",
    "aaff_predict.append(aaff_predict[4]+np.einsum('i,ijk->jk',fd4_4,(np.asarray(amds)))[1,2]/dl**4/120)\n",
    "aaff_predict.append(aaff_predict[5]+np.einsum('i,ijk->jk',fd5_4,(np.asarray(amds)))[1,2]/dl**5/720)\n",
    "aaff_predict.append(aaff_predict[6]+np.einsum('i,ijk->jk',fd6_2,(np.asarray(amds)))[1,2]/dl**6/5040)\n",
    "np.asarray(aaff_predict),np.asarray(aaff_predict)-(hfBF.Gradients().grad_nuc()+gBF)[1,2]"
   ]
  },
  {
   "cell_type": "code",
   "execution_count": null,
   "metadata": {},
   "outputs": [],
   "source": [
    "plt.plot(range(1,8),abs(np.asarray(aaff_predict)-(hfBF.Gradients().grad_nuc()+gBF)[1,2])[1:]/(hfBF.Gradients().grad_nuc()+ge[4])[1,2])\n",
    "plt.scatter(range(1,8),abs(np.asarray(aaff_predict)-(hfBF.Gradients().grad_nuc()+gBF)[1,2])[1:]/(hfBF.Gradients().grad_nuc()+ge[4])[1,2])\n",
    "plt.yscale(\"log\")\n",
    "plt.axhline(0,ls='--',color='black')"
   ]
  },
  {
   "cell_type": "code",
   "execution_count": null,
   "metadata": {},
   "outputs": [],
   "source": [
    "fd_predict=[]\n",
    "fd_predict.append((hfBF.Gradients().grad_nuc()+ge[4])[1,2])\n",
    "fd_predict.append(fd_predict[0]+np.einsum('i,ijk->jk',fd1_8,(np.asarray(ge)))[1,2]/dl)\n",
    "fd_predict.append(fd_predict[1]+np.einsum('i,ijk->jk',fd2_8,(np.asarray(ge)))[1,2]/dl**2/2)\n",
    "fd_predict.append(fd_predict[2]+np.einsum('i,ijk->jk',fd3_6,(np.asarray(ge)))[1,2]/dl**3/6)\n",
    "fd_predict.append(fd_predict[3]+np.einsum('i,ijk->jk',fd4_4,(np.asarray(ge)))[1,2]/dl**4/24 )\n",
    "fd_predict.append(fd_predict[4]+np.einsum('i,ijk->jk',fd5_4,(np.asarray(ge)))[1,2]/dl**5/120)\n",
    "fd_predict.append(fd_predict[5]+np.einsum('i,ijk->jk',fd6_2,(np.asarray(ge)))[1,2]/dl**6/720)\n",
    "np.asarray(fd_predict),np.asarray(fd_predict)-(hfBF.Gradients().grad_nuc()+gBF)[1,2]"
   ]
  },
  {
   "cell_type": "code",
   "execution_count": null,
   "metadata": {},
   "outputs": [],
   "source": [
    "plt.plot(range(1,7),abs(np.asarray(fd_predict)-(hfBF.Gradients().grad_nuc()+gBF)[1,2])[1:]/(hfBF.Gradients().grad_nuc()+ge[4])[1,2])\n",
    "plt.scatter(range(1,7),abs(np.asarray(fd_predict)-(hfBF.Gradients().grad_nuc()+gBF)[1,2])[1:]/(hfBF.Gradients().grad_nuc()+ge[4])[1,2])\n",
    "plt.yscale(\"log\")"
   ]
  },
  {
   "cell_type": "code",
   "execution_count": null,
   "metadata": {},
   "outputs": [],
   "source": []
  }
 ],
 "metadata": {
  "kernelspec": {
   "display_name": "Python 3",
   "language": "python",
   "name": "python3"
  },
  "language_info": {
   "codemirror_mode": {
    "name": "ipython",
    "version": 3
   },
   "file_extension": ".py",
   "mimetype": "text/x-python",
   "name": "python",
   "nbconvert_exporter": "python",
   "pygments_lexer": "ipython3",
   "version": "3.7.3"
  }
 },
 "nbformat": 4,
 "nbformat_minor": 2
}
