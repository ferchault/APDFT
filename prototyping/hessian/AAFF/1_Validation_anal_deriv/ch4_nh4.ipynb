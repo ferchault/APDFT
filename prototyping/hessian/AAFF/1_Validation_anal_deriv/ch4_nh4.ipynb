{
 "cells": [
  {
   "cell_type": "code",
   "execution_count": 1,
   "metadata": {},
   "outputs": [],
   "source": [
    "from pyscf import gto,scf\n",
    "import pandas as pd\n",
    "from pyscf.hessian import rhf as hrhf\n",
    "import numpy as np \n",
    "import matplotlib.pyplot as plt\n",
    "from pyscf.grad import rhf as grhf\n",
    "import basis_set_exchange as bse\n",
    "import sys\n",
    "dl=.05\n",
    "sys.path.append('/home/administrator/Documenti/APDFT/prototyping/hessian/AAFF/Libs/')\n",
    "from FDcoeffs import *\n",
    "from aaff import aaff,alc_deriv_grad_nuc,alc_differential_grad_nuc\n",
    "from FcMole import FcM"
   ]
  },
  {
   "cell_type": "code",
   "execution_count": 2,
   "metadata": {},
   "outputs": [],
   "source": [
    "l=3.3376\n",
    "x=-(1/24)**.5*l\n",
    "z=(2/3)**.5*l+x"
   ]
  },
  {
   "cell_type": "code",
   "execution_count": 3,
   "metadata": {},
   "outputs": [],
   "source": [
    "ch4str=\"C 0 0 0; H 0 0  {}; H  0  {} {}; H {} {} {}; H {} {} {}\".format(z,l/3**.5,x,l/2,-l*3**.5/6,x,-l/2,-l*3**.5/6,x)"
   ]
  },
  {
   "cell_type": "code",
   "execution_count": 8,
   "metadata": {},
   "outputs": [
    {
     "name": "stdout",
     "output_type": "stream",
     "text": [
      "converged SCF energy = -40.2151804034984\n"
     ]
    },
    {
     "data": {
      "text/plain": [
       "-40.2151804034984"
      ]
     },
     "execution_count": 8,
     "metadata": {},
     "output_type": "execute_result"
    }
   ],
   "source": [
    "CH4=gto.M(atom=ch4str,unit=\"bohr\",basis={\"H\":\"pc-2\",'C':bse.get_basis(\"pcX-2\",fmt=\"nwchem\",elements=[6])})\n",
    "mf = scf.RHF(CH4)\n",
    "mf.scf()"
   ]
  },
  {
   "cell_type": "code",
   "execution_count": 9,
   "metadata": {},
   "outputs": [],
   "source": [
    "#ad1n,adn2=alc_deriv_grad_nuc(CH4,[1,0,0,0,0]),alc_differential_grad_nuc(CH4,[1,0,0,0,0])"
   ]
  },
  {
   "cell_type": "code",
   "execution_count": 27,
   "metadata": {},
   "outputs": [
    {
     "name": "stdout",
     "output_type": "stream",
     "text": [
      "(5, 5)\n",
      "(5, 5)\n",
      "(5, 5)\n",
      "(5, 5)\n",
      "(5, 5)\n",
      "(5, 5)\n",
      "(5, 5)\n",
      "(5, 5)\n",
      "(5, 5)\n"
     ]
    }
   ],
   "source": [
    "dl=.1\n",
    "gs=[]\n",
    "ge=[]\n",
    "hs=[]\n",
    "amds=[]\n",
    "for i in range(-4,5):\n",
    "    fm=FcM(fcs=[i*dl,0, 0, 0, 0],atom=ch4str,unit=\"Bohrs\",\\\n",
    "           basis={\"H\":\"pc-2\",'C':bse.get_basis(\"pcX-2\",fmt=\"nwchem\",elements=[6])},verbose=0,charge=i*dl)\n",
    "    mf=scf.RHF(fm)\n",
    "    mf.scf(dm0=mf.init_guess_by_1e(),max_cycle=100)\n",
    "    print(mf.mol.nelec)\n",
    "    g=mf.Gradients()\n",
    "    hs.append(mf.Hessian().hess()[1,1,2,2])\n",
    "    gs.append(g.grad()[1,2])\n",
    "    amds.append((aaff(mf,[1,0,0,0,0])+alc_deriv_grad_nuc(fm,[1,0,0,0,0]))[1,2])"
   ]
  },
  {
   "cell_type": "code",
   "execution_count": 28,
   "metadata": {},
   "outputs": [],
   "source": [
    "ch4_gs=np.asarray(gs)\n",
    "ch4_hs=np.asarray(hs)\n",
    "ch4_amds=np.asarray(amds)"
   ]
  },
  {
   "cell_type": "code",
   "execution_count": 29,
   "metadata": {},
   "outputs": [],
   "source": [
    "np.save(\"Ch4_grads_9pfd\",ch4_gs),np.save(\"Ch4_hess_9pfd\",ch4_hs)\n",
    "np.save(\"Ch4_aderivs_9pfd\",ch4_amds)"
   ]
  },
  {
   "cell_type": "code",
   "execution_count": 33,
   "metadata": {},
   "outputs": [
    {
     "name": "stdout",
     "output_type": "stream",
     "text": [
      "2 order finite diff. accuracy::  0.07884730081702318\n",
      "4 order finite diff. accuracy::  0.07891979106868469\n",
      "6 order finite diff. accuracy::  0.07891988016489244\n",
      "8 order finite diff. accuracy::  0.07891990991545973\n",
      "Analytical derivative        ::  0.07891936579471134\n"
     ]
    }
   ],
   "source": [
    "print(\"2 order finite diff. accuracy:: \",np.dot(fd1_2,gs)/dl)\n",
    "print(\"4 order finite diff. accuracy:: \",np.dot(fd1_4,gs)/dl)\n",
    "print(\"6 order finite diff. accuracy:: \",np.dot(fd1_6,gs)/dl)\n",
    "#print(\"8 order finite diff. accuracy:: \",np.dot(fd1_8,gs)/dl)\n",
    "print(\"Analytical derivative        :: \",amds[4])"
   ]
  },
  {
   "cell_type": "code",
   "execution_count": null,
   "metadata": {},
   "outputs": [],
   "source": [
    "2 order finite diff. accuracy::  0.078847\n",
    "4 order finite diff. accuracy::  0.078920\n",
    "6 order finite diff. accuracy::  0.078920\n",
    "Analytical derivative        ::  0.078919"
   ]
  },
  {
   "cell_type": "code",
   "execution_count": 14,
   "metadata": {},
   "outputs": [],
   "source": [
    "NH4=FcM(fcs=[1,0,0,0,0],atom=ch4str,unit=\"bohr\",\\\n",
    "          basis={\"H\":\"pc-2\",'C':bse.get_basis(\"pcX-2\",fmt=\"nwchem\",elements=[6])})\n",
    "NH4.nelectron=10"
   ]
  },
  {
   "cell_type": "code",
   "execution_count": 15,
   "metadata": {},
   "outputs": [
    {
     "name": "stdout",
     "output_type": "stream",
     "text": [
      "converged SCF energy = -56.5506646111419\n"
     ]
    },
    {
     "data": {
      "text/plain": [
       "-56.55066461114188"
      ]
     },
     "execution_count": 15,
     "metadata": {},
     "output_type": "execute_result"
    }
   ],
   "source": [
    "hfnh4=scf.RHF(NH4)\n",
    "hfnh4.scf(dm0=hfnh4.init_guess_by_1e())"
   ]
  },
  {
   "cell_type": "code",
   "execution_count": 16,
   "metadata": {},
   "outputs": [
    {
     "data": {
      "text/plain": [
       "(5, 5)"
      ]
     },
     "execution_count": 16,
     "metadata": {},
     "output_type": "execute_result"
    }
   ],
   "source": [
    "NH4.nelec"
   ]
  },
  {
   "cell_type": "code",
   "execution_count": 17,
   "metadata": {},
   "outputs": [
    {
     "name": "stdout",
     "output_type": "stream",
     "text": [
      "--------------- RHF gradients ---------------\n",
      "         x                y                z\n",
      "0 C     0.0000000000    -0.0000000000    -0.0000000000\n",
      "1 H     0.0000000000    -0.0000000000     0.0534595930\n",
      "2 H     0.0000000000     0.0504021876    -0.0178198643\n",
      "3 H     0.0436495749    -0.0252010938    -0.0178198643\n",
      "4 H    -0.0436495749    -0.0252010938    -0.0178198643\n",
      "----------------------------------------------\n"
     ]
    }
   ],
   "source": [
    "gnh4,gnh4n=hfnh4.Gradients().grad()[1,2],hfnh4.Gradients().grad_nuc()[1,2]"
   ]
  },
  {
   "cell_type": "code",
   "execution_count": 18,
   "metadata": {},
   "outputs": [
    {
     "data": {
      "text/plain": [
       "-1.8955982396089313"
      ]
     },
     "execution_count": 18,
     "metadata": {},
     "output_type": "execute_result"
    }
   ],
   "source": [
    "gnh4n"
   ]
  },
  {
   "cell_type": "code",
   "execution_count": 20,
   "metadata": {},
   "outputs": [
    {
     "data": {
      "text/plain": [
       "array([[ 0.00000000e+00, -4.44089210e-16, -6.66133815e-16],\n",
       "       [ 0.00000000e+00, -6.93889390e-18, -1.70408882e+00],\n",
       "       [ 0.00000000e+00, -1.60663034e+00,  5.68029606e-01],\n",
       "       [-1.39138269e+00,  8.03315172e-01,  5.68029606e-01],\n",
       "       [ 1.39138269e+00,  8.03315172e-01,  5.68029606e-01]])"
      ]
     },
     "execution_count": 20,
     "metadata": {},
     "output_type": "execute_result"
    }
   ],
   "source": [
    "mf.Gradients().grad_nuc()"
   ]
  },
  {
   "cell_type": "code",
   "execution_count": 21,
   "metadata": {},
   "outputs": [
    {
     "data": {
      "text/plain": [
       "0.23938677763795033"
      ]
     },
     "execution_count": 21,
     "metadata": {},
     "output_type": "execute_result"
    }
   ],
   "source": [
    "1/2.043854241378284**2"
   ]
  },
  {
   "cell_type": "code",
   "execution_count": 22,
   "metadata": {},
   "outputs": [],
   "source": [
    "hnh4=hfnh4.Hessian().hess()"
   ]
  },
  {
   "cell_type": "code",
   "execution_count": 23,
   "metadata": {},
   "outputs": [
    {
     "data": {
      "text/plain": [
       "(0.05345959300969616, -1.8955982396089313, 0.3036046690171408)"
      ]
     },
     "execution_count": 23,
     "metadata": {},
     "output_type": "execute_result"
    }
   ],
   "source": [
    "gnh4,gnh4n,hnh4[1,1,2,2]"
   ]
  },
  {
   "cell_type": "code",
   "execution_count": 24,
   "metadata": {},
   "outputs": [
    {
     "name": "stdout",
     "output_type": "stream",
     "text": [
      "converged SCF energy = -26.9391542012826\n"
     ]
    },
    {
     "data": {
      "text/plain": [
       "-26.93915420128262"
      ]
     },
     "execution_count": 24,
     "metadata": {},
     "output_type": "execute_result"
    }
   ],
   "source": [
    "BH4=FcM(fcs=[-1,0,0,0,0],atom=ch4str,unit=\"bohr\",\\\n",
    "          basis={\"H\":\"pc-2\",'C':bse.get_basis(\"pcX-2\",fmt=\"nwchem\",elements=[6])})\n",
    "BH4.nelectron=10\n",
    "hfbh4=scf.RHF(BH4)\n",
    "hfbh4.scf(dm0=hfbh4.init_guess_by_1e())"
   ]
  },
  {
   "cell_type": "code",
   "execution_count": 25,
   "metadata": {},
   "outputs": [
    {
     "name": "stdout",
     "output_type": "stream",
     "text": [
      "--------------- RHF gradients ---------------\n",
      "         x                y                z\n",
      "0 C     0.0000000000    -0.0000000000     0.0000000000\n",
      "1 H     0.0000000000    -0.0000000000    -0.0900956221\n",
      "2 H     0.0000000000    -0.0849429671     0.0300318740\n",
      "3 H    -0.0735627674     0.0424714836     0.0300318740\n",
      "4 H     0.0735627674     0.0424714836     0.0300318740\n",
      "----------------------------------------------\n"
     ]
    }
   ],
   "source": [
    "gbh4,gbh4n=hfbh4.Gradients().grad()[1,2],hfbh4.Gradients().grad_nuc()[1,2]"
   ]
  },
  {
   "cell_type": "code",
   "execution_count": 26,
   "metadata": {},
   "outputs": [],
   "source": [
    "hbh4=hfbh4.Hessian().hess()"
   ]
  },
  {
   "cell_type": "code",
   "execution_count": 27,
   "metadata": {},
   "outputs": [
    {
     "data": {
      "text/plain": [
       "(-0.0900956220918725, -1.4168246843330305, 0.40295756361548374)"
      ]
     },
     "execution_count": 27,
     "metadata": {},
     "output_type": "execute_result"
    }
   ],
   "source": [
    "gbh4,gbh4n,hbh4[1,1,2,2]"
   ]
  },
  {
   "cell_type": "code",
   "execution_count": 28,
   "metadata": {},
   "outputs": [
    {
     "data": {
      "text/plain": [
       "10"
      ]
     },
     "execution_count": 28,
     "metadata": {},
     "output_type": "execute_result"
    }
   ],
   "source": [
    "BH4.nelectron"
   ]
  },
  {
   "cell_type": "code",
   "execution_count": 29,
   "metadata": {},
   "outputs": [
    {
     "data": {
      "text/plain": [
       "(array([[ 0.00000000e+00, -1.11022302e-16, -5.55111512e-17],\n",
       "        [ 0.00000000e+00,  0.00000000e+00, -2.39386778e-01],\n",
       "        [ 0.00000000e+00, -2.25696018e-01,  7.97955925e-02],\n",
       "        [-1.95458485e-01,  1.12848009e-01,  7.97955925e-02],\n",
       "        [ 1.95458485e-01,  1.12848009e-01,  7.97955925e-02]]),\n",
       " array([[ 0.00000000e+00, -1.11022302e-16, -5.55111512e-17],\n",
       "        [ 0.00000000e+00,  0.00000000e+00, -2.39386778e-01],\n",
       "        [ 0.00000000e+00, -2.25696018e-01,  7.97955925e-02],\n",
       "        [-1.95458485e-01,  1.12848009e-01,  7.97955925e-02],\n",
       "        [ 1.95458485e-01,  1.12848009e-01,  7.97955925e-02]]),\n",
       " array([[ 0.00000000e+00,  1.11022302e-16,  5.55111512e-17],\n",
       "        [ 0.00000000e+00,  0.00000000e+00,  2.39386778e-01],\n",
       "        [ 0.00000000e+00,  2.25696018e-01, -7.97955925e-02],\n",
       "        [ 1.95458485e-01, -1.12848009e-01, -7.97955925e-02],\n",
       "        [-1.95458485e-01, -1.12848009e-01, -7.97955925e-02]]),\n",
       " array([[ 0.00000000e+00,  1.11022302e-16,  5.55111512e-17],\n",
       "        [ 0.00000000e+00,  0.00000000e+00,  2.39386778e-01],\n",
       "        [ 0.00000000e+00,  2.25696018e-01, -7.97955925e-02],\n",
       "        [ 1.95458485e-01, -1.12848009e-01, -7.97955925e-02],\n",
       "        [-1.95458485e-01, -1.12848009e-01, -7.97955925e-02]]))"
      ]
     },
     "execution_count": 29,
     "metadata": {},
     "output_type": "execute_result"
    }
   ],
   "source": [
    "alc_deriv_grad_nuc(CH4,[1,0,0,0,0]),alc_differential_grad_nuc(CH4,[1,0,0,0,0]),\\\n",
    "alc_deriv_grad_nuc(CH4,[-1,0,0,0,0]),alc_differential_grad_nuc(CH4,[-1,0,0,0,0])"
   ]
  },
  {
   "cell_type": "code",
   "execution_count": 30,
   "metadata": {},
   "outputs": [
    {
     "data": {
      "text/plain": [
       "0.4892716808052049"
      ]
     },
     "execution_count": 30,
     "metadata": {},
     "output_type": "execute_result"
    }
   ],
   "source": [
    "1/z"
   ]
  },
  {
   "cell_type": "code",
   "execution_count": null,
   "metadata": {},
   "outputs": [],
   "source": []
  }
 ],
 "metadata": {
  "kernelspec": {
   "display_name": "Python 3",
   "language": "python",
   "name": "python3"
  },
  "language_info": {
   "codemirror_mode": {
    "name": "ipython",
    "version": 3
   },
   "file_extension": ".py",
   "mimetype": "text/x-python",
   "name": "python",
   "nbconvert_exporter": "python",
   "pygments_lexer": "ipython3",
   "version": "3.7.3"
  }
 },
 "nbformat": 4,
 "nbformat_minor": 2
}
