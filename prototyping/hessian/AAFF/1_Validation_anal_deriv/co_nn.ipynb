{
 "cells": [
  {
   "cell_type": "code",
   "execution_count": 1,
   "metadata": {},
   "outputs": [],
   "source": [
    "from aaff import aaff\n",
    "from FcMole import FcM\n",
    "from alch_deriv import alch_deriv\n",
    "from pyscf import gto,scf\n",
    "import numpy as np \n",
    "import matplotlib.pyplot as plt\n",
    "from pyscf.grad import rhf as grhf\n",
    "import basis_set_exchange as bse"
   ]
  },
  {
   "cell_type": "code",
   "execution_count": 2,
   "metadata": {},
   "outputs": [],
   "source": [
    "mol=gto.M(atom=\"C 0 0 0; O 0 0 2.08272\",unit=\"Bohrs\",basis=bse.get_basis(\"pcX-2\",fmt=\"nwchem\",elements=[5,6,7,8,9]))"
   ]
  },
  {
   "cell_type": "code",
   "execution_count": 3,
   "metadata": {},
   "outputs": [
    {
     "name": "stdout",
     "output_type": "stream",
     "text": [
      "converged SCF energy = -112.786616218695\n"
     ]
    },
    {
     "data": {
      "text/plain": [
       "-112.78661621869524"
      ]
     },
     "execution_count": 3,
     "metadata": {},
     "output_type": "execute_result"
    }
   ],
   "source": [
    "hfCO=scf.RHF(mol)\n",
    "hfCO.scf()"
   ]
  },
  {
   "cell_type": "code",
   "execution_count": 4,
   "metadata": {},
   "outputs": [],
   "source": [
    "U,dP,e1=alch_deriv(hfCO,[[0,1],[1,-1]])"
   ]
  },
  {
   "cell_type": "code",
   "execution_count": 5,
   "metadata": {},
   "outputs": [
    {
     "name": "stdout",
     "output_type": "stream",
     "text": [
      "--------------- RHF gradients ---------------\n",
      "         x                y                z\n",
      "0 C     0.0000000000     0.0000000000    -0.0000019315\n",
      "1 O    -0.0000000000    -0.0000000000     0.0000019315\n",
      "----------------------------------------------\n"
     ]
    },
    {
     "data": {
      "text/plain": [
       "array([[ 5.89707777e-15,  9.17133257e-15, -1.93146142e-06],\n",
       "       [-5.89707777e-15, -9.17133257e-15,  1.93146284e-06]])"
      ]
     },
     "execution_count": 5,
     "metadata": {},
     "output_type": "execute_result"
    }
   ],
   "source": [
    "hfCO.Gradients().grad()"
   ]
  },
  {
   "cell_type": "code",
   "execution_count": 6,
   "metadata": {},
   "outputs": [
    {
     "data": {
      "text/plain": [
       "array([[ 5.89707777e-15,  9.17133257e-15, -1.10657165e+01],\n",
       "       [-5.89707777e-15, -9.17133257e-15,  1.10657165e+01]])"
      ]
     },
     "execution_count": 6,
     "metadata": {},
     "output_type": "execute_result"
    }
   ],
   "source": [
    "hfCO.Gradients().grad_elec()"
   ]
  },
  {
   "cell_type": "code",
   "execution_count": 7,
   "metadata": {},
   "outputs": [],
   "source": [
    "from FDcoeffs import *"
   ]
  },
  {
   "cell_type": "code",
   "execution_count": 8,
   "metadata": {},
   "outputs": [],
   "source": [
    "dl=.5\n",
    "gs=[]\n",
    "ge=[]\n",
    "amds=[]\n",
    "for i in range(-4,5):\n",
    "    fm=FcM(fcs=[i*dl,-i*dl],atom=\"C 0 0 0; O 0 0 2.08272\",unit=\"Bohrs\",basis=bse.get_basis(\"pcX-2\",fmt=\"nwchem\",elements=[5,6,7,8,9]),verbose=0)\n",
    "    mf=scf.RHF(fm)\n",
    "    mf.scf(dm0=mf.init_guess_by_1e(),max_cycle=100)\n",
    "    g=mf.Gradients()\n",
    "    gs.append(g.grad())\n",
    "    ge.append(g.grad_elec())\n",
    "    amds.append(aaff(mf,[1,-1]))"
   ]
  },
  {
   "cell_type": "code",
   "execution_count": 9,
   "metadata": {},
   "outputs": [
    {
     "data": {
      "text/plain": [
       "array([[ 1.67047064e-14, -4.31135987e-14, -1.10657172e+01],\n",
       "       [-1.67047064e-14,  4.31135987e-14,  1.10657172e+01]])"
      ]
     },
     "execution_count": 9,
     "metadata": {},
     "output_type": "execute_result"
    }
   ],
   "source": [
    "ge[4]"
   ]
  },
  {
   "cell_type": "code",
   "execution_count": 10,
   "metadata": {},
   "outputs": [
    {
     "data": {
      "text/plain": [
       "array([[-4.07737714e-14,  8.82114389e-14, -5.23677703e-01],\n",
       "       [ 4.07737714e-14, -8.82114389e-14,  5.23677703e-01]])"
      ]
     },
     "execution_count": 10,
     "metadata": {},
     "output_type": "execute_result"
    }
   ],
   "source": [
    "#forward difference \n",
    "(ge[5]-ge[4])/dl"
   ]
  },
  {
   "cell_type": "code",
   "execution_count": 11,
   "metadata": {},
   "outputs": [
    {
     "name": "stdout",
     "output_type": "stream",
     "text": [
      "2 order finite diff. accuracy:: \n",
      " [[ 6.07205910e-15  8.39515081e-15 -6.77666144e-01]\n",
      " [-6.07205910e-15 -8.39515081e-15  6.77666144e-01]]\n",
      "4 order finite diff. accuracy:: \n",
      " [[ 2.22176703e-14  1.62430185e-14 -6.85183479e-01]\n",
      " [-2.22176703e-14 -1.62430185e-14  6.85183479e-01]]\n",
      "6 order finite diff. accuracy:: \n",
      " [[ 3.51218306e-14  2.17886678e-14 -6.85575233e-01]\n",
      " [-3.51218306e-14 -2.17886678e-14  6.85575233e-01]]\n",
      "8 order finite diff. accuracy:: \n",
      " [[ 4.48960021e-14  2.57104508e-14 -6.85618026e-01]\n",
      " [-4.48960021e-14 -2.57104508e-14  6.85618026e-01]]\n"
     ]
    }
   ],
   "source": [
    "print(\"2 order finite diff. accuracy:: \\n\",np.einsum('i,ijk->jk',fd1_2,(np.asarray(ge)))/dl)\n",
    "print(\"4 order finite diff. accuracy:: \\n\",np.einsum('i,ijk->jk',fd1_4,(np.asarray(ge)))/dl)\n",
    "print(\"6 order finite diff. accuracy:: \\n\",np.einsum('i,ijk->jk',fd1_6,(np.asarray(ge)))/dl)\n",
    "print(\"8 order finite diff. accuracy:: \\n\",np.einsum('i,ijk->jk',fd1_8,(np.asarray(ge)))/dl)"
   ]
  },
  {
   "cell_type": "code",
   "execution_count": 12,
   "metadata": {},
   "outputs": [
    {
     "data": {
      "text/plain": [
       "array([[ 1.54851247e-14,  3.11951868e-16, -6.85627204e-01],\n",
       "       [-1.54851247e-14, -3.11951868e-16,  6.85627204e-01]])"
      ]
     },
     "execution_count": 12,
     "metadata": {},
     "output_type": "execute_result"
    }
   ],
   "source": [
    "aaff(hfCO,[1,-1])"
   ]
  },
  {
   "cell_type": "code",
   "execution_count": 13,
   "metadata": {},
   "outputs": [
    {
     "name": "stdout",
     "output_type": "stream",
     "text": [
      "[[-3.44687667e-13  4.26577662e-13  6.19053615e-01]\n",
      " [ 3.44687667e-13 -4.26577662e-13 -6.19053615e-01]]\n",
      "[[-1.80896260e-14  2.67977413e-14  6.18863830e-01]\n",
      " [ 1.80896260e-14 -2.67977413e-14 -6.18863830e-01]]\n"
     ]
    }
   ],
   "source": [
    "print(np.einsum('i,ijk->jk',fd2_8,(np.asarray(ge)))/dl**2)\n",
    "print(np.einsum('i,ijk->jk',fd1_8,(np.asarray(amds)))/dl)"
   ]
  },
  {
   "cell_type": "code",
   "execution_count": 14,
   "metadata": {},
   "outputs": [
    {
     "name": "stdout",
     "output_type": "stream",
     "text": [
      "[[-1.09390908e-12 -4.82829883e-13  1.93566569e-01]\n",
      " [ 1.09390908e-12  4.82829883e-13 -1.93566569e-01]]\n",
      "[[ 9.21753491e-13 -1.48760154e-12  1.93908091e-01]\n",
      " [-9.21753491e-13  1.48760154e-12 -1.93908091e-01]]\n"
     ]
    }
   ],
   "source": [
    "print(np.einsum('i,ijk->jk',fd3_6,(np.asarray(ge)))/dl**3)\n",
    "print(np.einsum('i,ijk->jk',fd2_6,(np.asarray(amds)))/dl**2)"
   ]
  },
  {
   "cell_type": "code",
   "execution_count": 15,
   "metadata": {
    "scrolled": true
   },
   "outputs": [
    {
     "name": "stdout",
     "output_type": "stream",
     "text": [
      "[[ 3.82829434e-12 -3.22350906e-12 -1.36370530e-01]\n",
      " [-3.82829434e-12  3.22350906e-12  1.36370530e-01]]\n",
      "[[ 4.61756975e-13 -2.13963162e-13 -1.47621861e-01]\n",
      " [-4.61756975e-13  2.13963162e-13  1.47621861e-01]]\n"
     ]
    }
   ],
   "source": [
    "print(np.einsum('i,ijk->jk',fd4_2,(np.asarray(ge)))/dl**4)\n",
    "print(np.einsum('i,ijk->jk',fd3_6,(np.asarray(amds)))/dl**3)"
   ]
  },
  {
   "cell_type": "code",
   "execution_count": 16,
   "metadata": {},
   "outputs": [
    {
     "name": "stdout",
     "output_type": "stream",
     "text": [
      "[[-1.36389136e-10  6.88164685e-11  4.21289969e-01]\n",
      " [ 1.36389136e-10 -6.88164685e-11 -4.21289969e-01]]\n",
      "[[-7.57277783e-12  9.48011963e-13  3.43309838e-01]\n",
      " [ 7.57277783e-12 -9.48011963e-13 -3.43309838e-01]]\n"
     ]
    }
   ],
   "source": [
    "print(np.einsum('i,ijk->jk',fd6_4,(np.asarray(ge)))/dl**6)\n",
    "print(np.einsum('i,ijk->jk',fd5_4,(np.asarray(amds)))/dl**5)\n",
    "#print(np.einsum('i,ijk->jk',fd6_4,(np.asarray(amds)))/dl**6)"
   ]
  },
  {
   "cell_type": "code",
   "execution_count": 17,
   "metadata": {},
   "outputs": [],
   "source": [
    "#with dl=.1  the 4th derivatives are:   only McL expansion of aaff is consistent to obtain APDFT4_g1 derivs\n",
    "#[[-5.43974711e-09 -4.46784523e-09 -8.97038551e-02]\n",
    "# [ 5.43974711e-09  4.46784523e-09  8.97038538e-02]]\n",
    "#[[ 1.04025962e-09  1.59691820e-09 -1.55567761e-01]\n",
    "# [-2.70775954e-08  7.58253933e-09  1.56759171e-01]]"
   ]
  },
  {
   "cell_type": "code",
   "execution_count": 18,
   "metadata": {},
   "outputs": [
    {
     "name": "stdout",
     "output_type": "stream",
     "text": [
      "converged SCF energy = -108.984680830552\n"
     ]
    }
   ],
   "source": [
    "NN=FcM(fcs=[1,-1],atom=\"C 0 0 0; O 0 0 2.08272\",unit=\"Bohrs\",basis=bse.get_basis(\"pcX-2\",fmt=\"nwchem\",elements=[5,6,7,8,9]))\n",
    "hfNN=scf.RHF(NN)\n",
    "hfNN.scf(dm0=hfNN.init_guess_by_1e())\n",
    "gNN=hfNN.Gradients().grad_elec()"
   ]
  },
  {
   "cell_type": "code",
   "execution_count": 19,
   "metadata": {},
   "outputs": [
    {
     "data": {
      "text/plain": [
       "(array([[-1.55566798e-15, -2.70308700e-15, -1.14171161e+01],\n",
       "        [ 1.55566798e-15,  2.70308700e-15,  1.14171161e+01]]),\n",
       " array([[-1.55566798e-15, -2.70308700e-15, -1.20865800e-01],\n",
       "        [ 1.55566798e-15,  2.70308700e-15,  1.20865800e-01]]))"
      ]
     },
     "execution_count": 19,
     "metadata": {},
     "output_type": "execute_result"
    }
   ],
   "source": [
    "gNN,hfNN.Gradients().grad_nuc()+gNN"
   ]
  },
  {
   "cell_type": "code",
   "execution_count": 20,
   "metadata": {},
   "outputs": [
    {
     "data": {
      "text/plain": [
       "array([[-3.63735127e-14,  5.79486194e-14, -1.24588144e-01],\n",
       "       [ 3.63735127e-14, -5.79486194e-14,  1.24588144e-01]])"
      ]
     },
     "execution_count": 20,
     "metadata": {},
     "output_type": "execute_result"
    }
   ],
   "source": [
    "hfNN.Gradients().grad_nuc()+ge[4]+amds[4]+np.einsum('i,ijk->jk',fd1_2,(np.asarray(amds)))/dl/2  \\\n",
    "    +np.einsum('i,ijk->jk',fd2_2,(np.asarray(amds)))/dl**2/6+np.einsum('i,ijk->jk',fd3_6,(np.asarray(amds)))/dl**3/24 \\\n",
    "  +np.einsum('i,ijk->jk',fd4_4,(np.asarray(amds)))/dl**4/120+np.einsum('i,ijk->jk',fd5_4,(np.asarray(amds)))/dl**5/720 \\\n",
    " +np.einsum('i,ijk->jk',fd6_2,(np.asarray(amds)))/dl**6/5040"
   ]
  },
  {
   "cell_type": "code",
   "execution_count": 21,
   "metadata": {},
   "outputs": [
    {
     "data": {
      "text/plain": [
       "(array([[-2.72881205e-14,  2.75448411e-14, -1.12280522e-01],\n",
       "        [ 2.72881205e-14, -2.75448411e-14,  1.12280522e-01]]),\n",
       " array([[-8.79856538e-14,  1.41316880e-13, -6.85627119e-01],\n",
       "        [ 8.79856538e-14, -1.41316880e-13,  6.85627119e-01]]))"
      ]
     },
     "execution_count": 21,
     "metadata": {},
     "output_type": "execute_result"
    }
   ],
   "source": [
    "hfNN.Gradients().grad_nuc()+ge[4]+amds[4]/2,amds[4]"
   ]
  },
  {
   "cell_type": "code",
   "execution_count": 22,
   "metadata": {},
   "outputs": [
    {
     "data": {
      "text/plain": [
       "array([[-0.        , -0.        , -0.11526786],\n",
       "       [-0.        , -0.        ,  0.11526786]])"
      ]
     },
     "execution_count": 22,
     "metadata": {},
     "output_type": "execute_result"
    }
   ],
   "source": [
    "(hfNN.Gradients().grad_nuc()-hfCO.Gradients().grad_nuc())/(-2)"
   ]
  },
  {
   "cell_type": "code",
   "execution_count": 23,
   "metadata": {},
   "outputs": [],
   "source": [
    "aaff_predict=[]\n",
    "aaff_predict.append((hfNN.Gradients().grad_nuc()+ge[4])[1,2])\n",
    "aaff_predict.append(aaff_predict[0]+amds[4][1,2])\n",
    "aaff_predict.append(aaff_predict[1]+np.einsum('i,ijk->jk',fd1_8,(np.asarray(amds)))[1,2]/dl/2)\n",
    "aaff_predict.append(aaff_predict[2]+np.einsum('i,ijk->jk',fd2_6,(np.asarray(amds)))[1,2]/dl**2/6)\n",
    "aaff_predict.append(aaff_predict[3]+np.einsum('i,ijk->jk',fd3_6,(np.asarray(amds)))[1,2]/dl**3/24 )\n",
    "aaff_predict.append(aaff_predict[4]+np.einsum('i,ijk->jk',fd4_4,(np.asarray(amds)))[1,2]/dl**4/120)\n",
    "aaff_predict.append(aaff_predict[5]+np.einsum('i,ijk->jk',fd5_4,(np.asarray(amds)))[1,2]/dl**5/720)\n"
   ]
  },
  {
   "cell_type": "code",
   "execution_count": 24,
   "metadata": {},
   "outputs": [
    {
     "data": {
      "text/plain": [
       "[-0.2305330369892573,\n",
       " 0.45509408197938095,\n",
       " 0.14566216699844475,\n",
       " 0.1133441518935063,\n",
       " 0.11949506276031703,\n",
       " 0.12139314501291774,\n",
       " 0.1209163257931425]"
      ]
     },
     "execution_count": 24,
     "metadata": {},
     "output_type": "execute_result"
    }
   ],
   "source": [
    "aaff_predict"
   ]
  },
  {
   "cell_type": "code",
   "execution_count": 25,
   "metadata": {},
   "outputs": [
    {
     "data": {
      "text/plain": [
       "[-0.2305330369892573,\n",
       " 0.45508498892408167,\n",
       " 0.14558856794507785,\n",
       " 0.11332747303076171,\n",
       " 0.11950464531179984,\n",
       " 0.12133793045596934,\n",
       " 0.12094187695191691]"
      ]
     },
     "execution_count": 25,
     "metadata": {},
     "output_type": "execute_result"
    }
   ],
   "source": [
    "fd_predict=[]\n",
    "fd_predict.append((hfNN.Gradients().grad_nuc()+ge[4])[1,2])\n",
    "fd_predict.append(fd_predict[0]+np.einsum('i,ijk->jk',fd1_8,(np.asarray(ge)))[1,2]/dl)\n",
    "fd_predict.append(fd_predict[1]+np.einsum('i,ijk->jk',fd2_6,(np.asarray(ge)))[1,2]/dl**2/2)\n",
    "fd_predict.append(fd_predict[2]+np.einsum('i,ijk->jk',fd3_6,(np.asarray(ge)))[1,2]/dl**3/6)\n",
    "fd_predict.append(fd_predict[3]+np.einsum('i,ijk->jk',fd4_4,(np.asarray(ge)))[1,2]/dl**4/24 )\n",
    "fd_predict.append(fd_predict[4]+np.einsum('i,ijk->jk',fd5_4,(np.asarray(ge)))[1,2]/dl**5/120)\n",
    "fd_predict.append(fd_predict[5]+np.einsum('i,ijk->jk',fd6_2,(np.asarray(ge)))[1,2]/dl**6/720)\n",
    "fd_predict"
   ]
  },
  {
   "cell_type": "code",
   "execution_count": 26,
   "metadata": {},
   "outputs": [],
   "source": [
    "# trget 1.20865800e-01"
   ]
  }
 ],
 "metadata": {
  "kernelspec": {
   "display_name": "Python 3",
   "language": "python",
   "name": "python3"
  },
  "language_info": {
   "codemirror_mode": {
    "name": "ipython",
    "version": 3
   },
   "file_extension": ".py",
   "mimetype": "text/x-python",
   "name": "python",
   "nbconvert_exporter": "python",
   "pygments_lexer": "ipython3",
   "version": "3.7.3"
  }
 },
 "nbformat": 4,
 "nbformat_minor": 2
}
