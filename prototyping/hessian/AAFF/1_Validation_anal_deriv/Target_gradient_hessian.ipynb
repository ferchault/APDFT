{
 "cells": [
  {
   "cell_type": "code",
   "execution_count": 4,
   "metadata": {},
   "outputs": [],
   "source": [
    "from pyscf import gto,scf\n",
    "import pandas as pd\n",
    "from pyscf.hessian import rhf as hrhf\n",
    "import numpy as np \n",
    "import matplotlib.pyplot as plt\n",
    "from pyscf.grad import rhf as grhf\n",
    "import basis_set_exchange as bse\n",
    "import sys\n",
    "dl=.05\n",
    "sys.path.append('/home/administrator/Documenti/APDFT/prototyping/hessian/AAFF/Libs/')\n",
    "from FDcoeffs import *\n",
    "from aaff import aaff,alc_deriv_grad_nuc,alc_differential_grad_nuc\n",
    "from FcMole import FcM"
   ]
  },
  {
   "cell_type": "code",
   "execution_count": 5,
   "metadata": {},
   "outputs": [],
   "source": [
    "#Doing []=\"at the geom of\"\n",
    "#NH4[CH4] , BH4[CH4]\n",
    "# BF[CO],CO[BF],NN[CO],CO[NN]"
   ]
  },
  {
   "cell_type": "code",
   "execution_count": 6,
   "metadata": {},
   "outputs": [],
   "source": [
    "l=3.3376\n",
    "x=-(1/24)**.5*l\n",
    "z=(2/3)**.5*l+x\n",
    "nh4str=\"N 0 0 0; H 0 0  {}; H  0  {} {}; H {} {} {}; H {} {} {}\".format(z,l/3**.5,x,l/2,-l*3**.5/6,x,-l/2,-l*3**.5/6,x)\n",
    "bh4str=\"B 0 0 0; H 0 0  {}; H  0  {} {}; H {} {} {}; H {} {} {}\".format(z,l/3**.5,x,l/2,-l*3**.5/6,x,-l/2,-l*3**.5/6,x)"
   ]
  },
  {
   "cell_type": "code",
   "execution_count": 19,
   "metadata": {},
   "outputs": [],
   "source": [
    "BH4=gto.M(atom=bh4str,unit=\"bohr\",basis={\"H\":\"pc-2\",'B':bse.get_basis(\"pcX-2\",fmt=\"nwchem\",elements=[5])},charge=-1)\n",
    "NH4=gto.M(atom=nh4str,unit=\"bohr\",basis={\"H\":\"pc-2\",'N':bse.get_basis(\"pcX-2\",fmt=\"nwchem\",elements=[7])},charge=1)"
   ]
  },
  {
   "cell_type": "code",
   "execution_count": 12,
   "metadata": {},
   "outputs": [],
   "source": [
    "BFatCO=gto.M(atom=\"B 0 0 0; F 0 0 2.08272\",unit=\"Bohrs\",basis=bse.get_basis(\"pcX-2\",fmt=\"nwchem\",elements=[5,6,7,8,9]))\n",
    "NNatCO=gto.M(atom=\"N 0 0 0; N 0 0 2.08272\",unit=\"Bohrs\",basis=bse.get_basis(\"pcX-2\",fmt=\"nwchem\",elements=[5,6,7,8,9]))"
   ]
  },
  {
   "cell_type": "code",
   "execution_count": 13,
   "metadata": {},
   "outputs": [],
   "source": [
    "COatBF=gto.M(atom=\"C 0 0 0; O 0 0 2.35348\",unit=\"Bohrs\",basis=bse.get_basis(\"pcX-2\",fmt=\"nwchem\",elements=[5,6,7,8,9]))\n",
    "COatNN=gto.M(atom=\"C 0 0 0; O 0 0 2.01388999\",unit=\"Bohrs\",basis=bse.get_basis(\"pcX-2\",fmt=\"nwchem\",elements=[5,6,7,8,9]))"
   ]
  },
  {
   "cell_type": "code",
   "execution_count": 27,
   "metadata": {},
   "outputs": [],
   "source": [
    "q=[]"
   ]
  },
  {
   "cell_type": "code",
   "execution_count": 28,
   "metadata": {},
   "outputs": [
    {
     "name": "stdout",
     "output_type": "stream",
     "text": [
      "converged SCF energy = -26.9401976192551\n",
      "--------------- RHF gradients ---------------\n",
      "         x                y                z\n",
      "0 B    -0.0000000000     0.0000000000    -0.0000000000\n",
      "1 H     0.0000000000    -0.0000000000    -0.0903647176\n",
      "2 H    -0.0000000000    -0.0851966728     0.0301215725\n",
      "3 H    -0.0737824829     0.0425983364     0.0301215725\n",
      "4 H     0.0737824829     0.0425983364     0.0301215725\n",
      "----------------------------------------------\n",
      "converged SCF energy = -56.5511714490662\n",
      "--------------- RHF gradients ---------------\n",
      "         x                y                z\n",
      "0 N     0.0000000000     0.0000000000    -0.0000000000\n",
      "1 H     0.0000000000     0.0000000000     0.0536377667\n",
      "2 H     0.0000000000     0.0505701714    -0.0178792556\n",
      "3 H     0.0437950531    -0.0252850857    -0.0178792556\n",
      "4 H    -0.0437950531    -0.0252850857    -0.0178792556\n",
      "----------------------------------------------\n",
      "converged SCF energy = -124.131780705027\n",
      "--------------- RHF gradients ---------------\n",
      "         x                y                z\n",
      "0 B    -0.0000000000    -0.0000000000     0.2675482830\n",
      "1 F     0.0000000000     0.0000000000    -0.2675482830\n",
      "----------------------------------------------\n",
      "converged SCF energy = -108.984748721572\n",
      "--------------- RHF gradients ---------------\n",
      "         x                y                z\n",
      "0 N    -0.0000000000     0.0000000000    -0.1203989721\n",
      "1 N     0.0000000000    -0.0000000000     0.1203989721\n",
      "----------------------------------------------\n",
      "converged SCF energy = -112.745354634816\n",
      "--------------- RHF gradients ---------------\n",
      "         x                y                z\n",
      "0 C     0.0000000000    -0.0000000000    -0.2599559115\n",
      "1 O    -0.0000000000     0.0000000000     0.2599559115\n",
      "----------------------------------------------\n",
      "converged SCF energy = -112.782672579072\n",
      "--------------- RHF gradients ---------------\n",
      "         x                y                z\n",
      "0 C    -0.0000000000     0.0000000000     0.1194201743\n",
      "1 O     0.0000000000    -0.0000000000    -0.1194201743\n",
      "----------------------------------------------\n"
     ]
    }
   ],
   "source": [
    "for x in [\"BH4\",\"NH4\",\"BFatCO\",\"NNatCO\",\"COatBF\",\"COatNN\"]:\n",
    "    exec(\"mf=scf.RHF({})\".format(x))\n",
    "    mf.scf()\n",
    "    g=mf.Gradients().grad()\n",
    "    h=mf.Hessian().hess()\n",
    "    q.append({\"molecule\":x,\"gradient\":g[1,2],\"hessian\":h[1,1,2,2]})\n",
    "q2=q"
   ]
  },
  {
   "cell_type": "code",
   "execution_count": 29,
   "metadata": {},
   "outputs": [
    {
     "data": {
      "text/plain": [
       "[{'molecule': 'BH4',\n",
       "  'gradient': -0.09036471758108888,\n",
       "  'hessian': 0.4033736521752618},\n",
       " {'molecule': 'NH4',\n",
       "  'gradient': 0.05363776666594178,\n",
       "  'hessian': 0.3031051665449356},\n",
       " {'molecule': 'BFatCO',\n",
       "  'gradient': -0.26754828296754773,\n",
       "  'hessian': 1.5143654274925282},\n",
       " {'molecule': 'NNatCO',\n",
       "  'gradient': 0.12039897206164873,\n",
       "  'hessian': 1.5389424031892336},\n",
       " {'molecule': 'COatBF',\n",
       "  'gradient': 0.2599559115472605,\n",
       "  'hessian': 0.5270850155450217},\n",
       " {'molecule': 'COatNN',\n",
       "  'gradient': -0.11942017426455642,\n",
       "  'hessian': 1.9530809144415002}]"
      ]
     },
     "execution_count": 29,
     "metadata": {},
     "output_type": "execute_result"
    }
   ],
   "source": [
    "q2"
   ]
  },
  {
   "cell_type": "code",
   "execution_count": 30,
   "metadata": {},
   "outputs": [
    {
     "data": {
      "text/html": [
       "<div>\n",
       "<style scoped>\n",
       "    .dataframe tbody tr th:only-of-type {\n",
       "        vertical-align: middle;\n",
       "    }\n",
       "\n",
       "    .dataframe tbody tr th {\n",
       "        vertical-align: top;\n",
       "    }\n",
       "\n",
       "    .dataframe thead th {\n",
       "        text-align: right;\n",
       "    }\n",
       "</style>\n",
       "<table border=\"1\" class=\"dataframe\">\n",
       "  <thead>\n",
       "    <tr style=\"text-align: right;\">\n",
       "      <th></th>\n",
       "      <th>gradient</th>\n",
       "      <th>hessian</th>\n",
       "      <th>molecule</th>\n",
       "    </tr>\n",
       "  </thead>\n",
       "  <tbody>\n",
       "    <tr>\n",
       "      <th>0</th>\n",
       "      <td>-0.090365</td>\n",
       "      <td>0.403374</td>\n",
       "      <td>BH4</td>\n",
       "    </tr>\n",
       "    <tr>\n",
       "      <th>1</th>\n",
       "      <td>0.053638</td>\n",
       "      <td>0.303105</td>\n",
       "      <td>NH4</td>\n",
       "    </tr>\n",
       "    <tr>\n",
       "      <th>2</th>\n",
       "      <td>-0.267548</td>\n",
       "      <td>1.514365</td>\n",
       "      <td>BFatCO</td>\n",
       "    </tr>\n",
       "    <tr>\n",
       "      <th>3</th>\n",
       "      <td>0.120399</td>\n",
       "      <td>1.538942</td>\n",
       "      <td>NNatCO</td>\n",
       "    </tr>\n",
       "    <tr>\n",
       "      <th>4</th>\n",
       "      <td>0.259956</td>\n",
       "      <td>0.527085</td>\n",
       "      <td>COatBF</td>\n",
       "    </tr>\n",
       "    <tr>\n",
       "      <th>5</th>\n",
       "      <td>-0.119420</td>\n",
       "      <td>1.953081</td>\n",
       "      <td>COatNN</td>\n",
       "    </tr>\n",
       "  </tbody>\n",
       "</table>\n",
       "</div>"
      ],
      "text/plain": [
       "   gradient   hessian molecule\n",
       "0 -0.090365  0.403374      BH4\n",
       "1  0.053638  0.303105      NH4\n",
       "2 -0.267548  1.514365   BFatCO\n",
       "3  0.120399  1.538942   NNatCO\n",
       "4  0.259956  0.527085   COatBF\n",
       "5 -0.119420  1.953081   COatNN"
      ]
     },
     "execution_count": 30,
     "metadata": {},
     "output_type": "execute_result"
    }
   ],
   "source": [
    "df=pd.DataFrame(q2)\n",
    "df"
   ]
  },
  {
   "cell_type": "code",
   "execution_count": 31,
   "metadata": {},
   "outputs": [],
   "source": [
    "df.to_pickle(\"target_grad_hessian\")"
   ]
  },
  {
   "cell_type": "code",
   "execution_count": null,
   "metadata": {},
   "outputs": [],
   "source": []
  }
 ],
 "metadata": {
  "kernelspec": {
   "display_name": "Python 3",
   "language": "python",
   "name": "python3"
  },
  "language_info": {
   "codemirror_mode": {
    "name": "ipython",
    "version": 3
   },
   "file_extension": ".py",
   "mimetype": "text/x-python",
   "name": "python",
   "nbconvert_exporter": "python",
   "pygments_lexer": "ipython3",
   "version": "3.7.3"
  }
 },
 "nbformat": 4,
 "nbformat_minor": 2
}
