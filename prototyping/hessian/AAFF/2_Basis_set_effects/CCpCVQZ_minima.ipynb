{
 "cells": [
  {
   "cell_type": "code",
   "execution_count": 1,
   "metadata": {},
   "outputs": [],
   "source": [
    "from pyscf import gto,scf\n",
    "import pyscf\n",
    "#from alch_deriv import alch_deriv\n",
    "import matplotlib.pyplot as plt\n",
    "from scipy.interpolate import InterpolatedUnivariateSpline as spl\n",
    "import numpy as np\n",
    "from FcMole import FcM\n",
    "#from aaff import aaff\n",
    "ang2bohr=1.8897261246\n",
    "bohr2ang=.5291772109"
   ]
  },
  {
   "cell_type": "code",
   "execution_count": 2,
   "metadata": {},
   "outputs": [
    {
     "data": {
      "text/plain": [
       "168"
      ]
     },
     "execution_count": 2,
     "metadata": {},
     "output_type": "execute_result"
    }
   ],
   "source": [
    "CO=gto.M(atom=\"C 0 0 0; O 0 0 2.05\",unit='Bohrs',basis=\"ccpcvqz\",verbose=0)\n",
    "hfCO=scf.RHF(CO)\n",
    "CO.nao"
   ]
  },
  {
   "cell_type": "code",
   "execution_count": 5,
   "metadata": {},
   "outputs": [],
   "source": [
    "def optimizer2at(a1,a2,fcs=None):\n",
    "    d1=np.linspace(1.9,2.4,9)\n",
    "    es=[]\n",
    "    for d in d1:\n",
    "        if fcs==None:\n",
    "            mol=gto.M(atom=\"{} 0 0 0; {} 0 0 {} \".format(a1,a2,d),unit='Bohrs',basis=\"ccpcvqz\",verbose=0)\n",
    "            mf=scf.RHF(mol)\n",
    "            es.append(mf.scf())\n",
    "        else:\n",
    "            mol=FcM(fcs=fcs,atom=\"{} 0 0 0; {} 0 0 {} \".format(a1,a2,d),unit='Bohrs',basis=\"ccpcvqz\",verbose=0)\n",
    "            mf=scf.RHF(mol)\n",
    "            es.append(mf.scf(dm0=mf.init_guess_by_1e()))\n",
    "    dspl=np.linspace(1.9,2.4,501)\n",
    "    bspline=spl(d1,es)\n",
    "    bspline(dspl)\n",
    "    dminspline=1.9+.001*(bspline(dspl).argmin())\n",
    "    d2=np.linspace(dminspline-.03,dminspline+.03,7)\n",
    "    es=[]\n",
    "    for d in d2:\n",
    "        if fcs==None:\n",
    "            mol=gto.M(atom=\"{} 0 0 0; {} 0 0 {} \".format(a1,a2,d),unit='Bohrs',basis=\"ccpcvqz\",verbose=0)\n",
    "            mf=scf.RHF(mol)\n",
    "            es.append(mf.scf())\n",
    "        else:\n",
    "            mol=FcM(fcs=fcs,atom=\"{} 0 0 0; {} 0 0 {} \".format(a1,a2,d),unit='Bohrs',basis=\"ccpcvqz\",verbose=0)\n",
    "            mf=scf.RHF(mol)\n",
    "            es.append(mf.scf(dm0=mf.init_guess_by_1e()))\n",
    "    dspl=np.linspace(dminspline-.03,dminspline+.03,6001)\n",
    "    bspline=spl(d2,es)\n",
    "    #plt.plot(dspl,bspline(dspl))\n",
    "    COmin=dspl[bspline(dspl).argmin()]\n",
    "    return COmin,bspline(dspl).min()"
   ]
  },
  {
   "cell_type": "code",
   "execution_count": 6,
   "metadata": {},
   "outputs": [
    {
     "data": {
      "text/plain": [
       "(2.08223, -112.7908878155832)"
      ]
     },
     "execution_count": 6,
     "metadata": {},
     "output_type": "execute_result"
    }
   ],
   "source": [
    "optimizer2at(\"C\",\"O\")"
   ]
  },
  {
   "cell_type": "code",
   "execution_count": 7,
   "metadata": {},
   "outputs": [
    {
     "data": {
      "text/plain": [
       "(2.0135599999999996, -108.99470994380845)"
      ]
     },
     "execution_count": 7,
     "metadata": {},
     "output_type": "execute_result"
    }
   ],
   "source": [
    "optimizer2at(\"N\",\"N\")"
   ]
  },
  {
   "cell_type": "code",
   "execution_count": 8,
   "metadata": {},
   "outputs": [
    {
     "data": {
      "text/plain": [
       "(2.35268, -124.16650682107094)"
      ]
     },
     "execution_count": 8,
     "metadata": {},
     "output_type": "execute_result"
    }
   ],
   "source": [
    "optimizer2at(\"B\",\"F\")"
   ]
  },
  {
   "cell_type": "markdown",
   "metadata": {},
   "source": [
    "# GAUGE THE ERROR DUE TO BASIS SET"
   ]
  },
  {
   "cell_type": "code",
   "execution_count": 9,
   "metadata": {},
   "outputs": [
    {
     "data": {
      "text/plain": [
       "(2.08294, -112.78861511021681)"
      ]
     },
     "execution_count": 9,
     "metadata": {},
     "output_type": "execute_result"
    }
   ],
   "source": [
    "#CO@NN\n",
    "optimizer2at(\"N\",\"N\",fcs=[-1,1.])"
   ]
  },
  {
   "cell_type": "code",
   "execution_count": 10,
   "metadata": {},
   "outputs": [
    {
     "data": {
      "text/plain": [
       "(2.0827199999999997, -112.78948019264848)"
      ]
     },
     "execution_count": 10,
     "metadata": {},
     "output_type": "execute_result"
    }
   ],
   "source": [
    "#CO@BF\n",
    "optimizer2at(\"B\",\"F\",fcs=[1.,-1.])"
   ]
  },
  {
   "cell_type": "code",
   "execution_count": 11,
   "metadata": {},
   "outputs": [
    {
     "data": {
      "text/plain": [
       "(2.35364, -124.16403171591564)"
      ]
     },
     "execution_count": 11,
     "metadata": {},
     "output_type": "execute_result"
    }
   ],
   "source": [
    "#BF@CO\n",
    "optimizer2at(\"C\",\"O\",fcs=[-1,1])"
   ]
  },
  {
   "cell_type": "code",
   "execution_count": 12,
   "metadata": {},
   "outputs": [
    {
     "data": {
      "text/plain": [
       "(2.0133199999999998, -108.99387602029779)"
      ]
     },
     "execution_count": 12,
     "metadata": {},
     "output_type": "execute_result"
    }
   ],
   "source": [
    "#NN@CO\n",
    "optimizer2at(\"C\",\"O\",fcs=[1,-1])"
   ]
  },
  {
   "cell_type": "code",
   "execution_count": null,
   "metadata": {},
   "outputs": [],
   "source": []
  },
  {
   "cell_type": "code",
   "execution_count": null,
   "metadata": {},
   "outputs": [],
   "source": []
  }
 ],
 "metadata": {
  "kernelspec": {
   "display_name": "Python 3",
   "language": "python",
   "name": "python3"
  },
  "language_info": {
   "codemirror_mode": {
    "name": "ipython",
    "version": 3
   },
   "file_extension": ".py",
   "mimetype": "text/x-python",
   "name": "python",
   "nbconvert_exporter": "python",
   "pygments_lexer": "ipython3",
   "version": "3.7.3"
  }
 },
 "nbformat": 4,
 "nbformat_minor": 4
}
