{
 "cells": [
  {
   "cell_type": "code",
   "execution_count": 4,
   "metadata": {},
   "outputs": [],
   "source": [
    "from pyscf import gto,scf\n",
    "import pyscf\n",
    "import matplotlib.pyplot as plt\n",
    "import basis_set_exchange as bse\n",
    "\n",
    "from scipy.interpolate import InterpolatedUnivariateSpline as spl\n",
    "import numpy as np\n",
    "from FcMole import FcM\n",
    "ang2bohr=1.8897261246\n",
    "bohr2ang=.5291772109"
   ]
  },
  {
   "cell_type": "code",
   "execution_count": 5,
   "metadata": {},
   "outputs": [
    {
     "data": {
      "text/plain": [
       "168"
      ]
     },
     "execution_count": 5,
     "metadata": {},
     "output_type": "execute_result"
    }
   ],
   "source": [
    "CO=gto.M(atom=\"C 0 0 0; O 0 0 2.05\",unit='Bohrs',\n",
    "                      basis=bse.get_basis(\"pcX-3\",fmt=\"nwchem\",elements=[5,6,7,8,9]))\n",
    "mf=scf.RHF(CO)\n",
    "CO.nao"
   ]
  },
  {
   "cell_type": "code",
   "execution_count": 6,
   "metadata": {},
   "outputs": [],
   "source": [
    "def optimizer2at(a1,a2,fcs=None):\n",
    "    d1=np.linspace(1.9,2.4,9)\n",
    "    es=[]\n",
    "    for d in d1:\n",
    "        if fcs==None:\n",
    "            mol=gto.M(atom=\"{} 0 0 0; {} 0 0 {} \".format(a1,a2,d),unit='Bohrs',\n",
    "                      basis=bse.get_basis(\"pcX-3\",fmt=\"nwchem\",elements=[5,6,7,8,9]),verbose=0)\n",
    "            mf=scf.RHF(mol)\n",
    "            es.append(mf.scf())\n",
    "        else:\n",
    "            mol=FcM(fcs=fcs,atom=\"{} 0 0 0; {} 0 0 {} \".format(a1,a2,d),unit='Bohrs',\n",
    "                      basis=bse.get_basis(\"pcX-3\",fmt=\"nwchem\",elements=[5,6,7,8,9]),verbose=0)\n",
    "            mf=scf.RHF(mol)\n",
    "            es.append(mf.scf(dm0=mf.init_guess_by_1e()))\n",
    "    dspl=np.linspace(1.9,2.4,501)\n",
    "    bspline=spl(d1,es)\n",
    "    bspline(dspl)\n",
    "    dminspline=1.9+.001*(bspline(dspl).argmin())\n",
    "    d2=np.linspace(dminspline-.03,dminspline+.03,7)\n",
    "    es=[]\n",
    "    for d in d2:\n",
    "        if fcs==None:\n",
    "            mol=gto.M(atom=\"{} 0 0 0; {} 0 0 {} \".format(a1,a2,d),unit='Bohrs',\n",
    "                      basis=bse.get_basis(\"pcX-3\",fmt=\"nwchem\",elements=[5,6,7,8,9]),verbose=0)\n",
    "            mf=scf.RHF(mol)\n",
    "            es.append(mf.scf())\n",
    "        else:\n",
    "            mol=FcM(fcs=fcs,atom=\"{} 0 0 0; {} 0 0 {} \".format(a1,a2,d),unit='Bohrs',\n",
    "                      basis=bse.get_basis(\"pcX-3\",fmt=\"nwchem\",elements=[5,6,7,8,9]),verbose=0)\n",
    "            mf=scf.RHF(mol)\n",
    "            es.append(mf.scf(dm0=mf.init_guess_by_1e()))\n",
    "    dspl=np.linspace(dminspline-.03,dminspline+.03,6001)\n",
    "    bspline=spl(d2,es)\n",
    "    #plt.plot(dspl,bspline(dspl))\n",
    "    COmin=dspl[bspline(dspl).argmin()]\n",
    "    return COmin,bspline(dspl).min()"
   ]
  },
  {
   "cell_type": "code",
   "execution_count": 7,
   "metadata": {},
   "outputs": [
    {
     "data": {
      "text/plain": [
       "(2.0821799999999997, -112.7924907112811)"
      ]
     },
     "execution_count": 7,
     "metadata": {},
     "output_type": "execute_result"
    }
   ],
   "source": [
    "optimizer2at(\"C\",\"O\")"
   ]
  },
  {
   "cell_type": "code",
   "execution_count": 8,
   "metadata": {},
   "outputs": [
    {
     "data": {
      "text/plain": [
       "(2.01335, -108.99635414735519)"
      ]
     },
     "execution_count": 8,
     "metadata": {},
     "output_type": "execute_result"
    }
   ],
   "source": [
    "optimizer2at(\"N\",\"N\")"
   ]
  },
  {
   "cell_type": "code",
   "execution_count": 9,
   "metadata": {},
   "outputs": [
    {
     "data": {
      "text/plain": [
       "(2.35193, -124.16889487546402)"
      ]
     },
     "execution_count": 9,
     "metadata": {},
     "output_type": "execute_result"
    }
   ],
   "source": [
    "optimizer2at(\"B\",\"F\")"
   ]
  },
  {
   "cell_type": "code",
   "execution_count": 10,
   "metadata": {},
   "outputs": [
    {
     "data": {
      "text/plain": [
       "(2.0822399999999996, -112.79228687491637)"
      ]
     },
     "execution_count": 10,
     "metadata": {},
     "output_type": "execute_result"
    }
   ],
   "source": [
    "#CO@NN\n",
    "optimizer2at(\"N\",\"N\",fcs=[-1,1.])"
   ]
  },
  {
   "cell_type": "code",
   "execution_count": 11,
   "metadata": {},
   "outputs": [
    {
     "data": {
      "text/plain": [
       "(2.0823, -112.79239330808514)"
      ]
     },
     "execution_count": 11,
     "metadata": {},
     "output_type": "execute_result"
    }
   ],
   "source": [
    "#CO@BF\n",
    "optimizer2at(\"B\",\"F\",fcs=[1.,-1.])"
   ]
  },
  {
   "cell_type": "code",
   "execution_count": 12,
   "metadata": {},
   "outputs": [
    {
     "data": {
      "text/plain": [
       "(2.35201, -124.16873379958503)"
      ]
     },
     "execution_count": 12,
     "metadata": {},
     "output_type": "execute_result"
    }
   ],
   "source": [
    "#BF@CO\n",
    "optimizer2at(\"C\",\"O\",fcs=[-1,1])"
   ]
  },
  {
   "cell_type": "code",
   "execution_count": 13,
   "metadata": {},
   "outputs": [
    {
     "data": {
      "text/plain": [
       "(2.01342, -108.99633460349818)"
      ]
     },
     "execution_count": 13,
     "metadata": {},
     "output_type": "execute_result"
    }
   ],
   "source": [
    "#NN@CO\n",
    "optimizer2at(\"C\",\"O\",fcs=[1,-1])"
   ]
  },
  {
   "cell_type": "code",
   "execution_count": 14,
   "metadata": {},
   "outputs": [],
   "source": [
    "import pandas as pd"
   ]
  },
  {
   "cell_type": "code",
   "execution_count": 16,
   "metadata": {},
   "outputs": [],
   "source": [
    "q=[]\n",
    "l={\"basis set\":\"pcX-3\"\n",
    "    ,\"nAO\":168\n",
    "    ,\"COm\":2.0821799999999997\n",
    "    ,\"COe\":-112.7924907112811\n",
    "    ,\"NNm\":2.01335\n",
    "    ,\"NNe\":-108.99635414735519\n",
    "    ,\"BFm\":2.35193 \n",
    "    ,\"BFe\":-124.16889487546402\n",
    "    ,\"CO@NNm\":2.0822399999999996\n",
    "    ,\"CO@NNe\": -112.79228687491637\n",
    "    ,\"CO@BFm\":2.0823\n",
    "    ,\"CO@BFe\":-112.79239330808514\n",
    "    ,\"BF@COm\":2.35201\n",
    "    ,\"BF@COe\":-124.16873379958503\n",
    "    ,\"NN@COm\":2.01342\n",
    "    ,\"NN@COe\":-108.99633460349818\n",
    "}\n",
    "q.append(l)"
   ]
  },
  {
   "cell_type": "code",
   "execution_count": 18,
   "metadata": {},
   "outputs": [],
   "source": [
    "df=pd.DataFrame(q)"
   ]
  },
  {
   "cell_type": "code",
   "execution_count": 22,
   "metadata": {},
   "outputs": [],
   "source": [
    "(pd.read_pickle(\"pcX2\").append(df)).to_pickle(\"pcX23\")"
   ]
  },
  {
   "cell_type": "code",
   "execution_count": null,
   "metadata": {},
   "outputs": [],
   "source": []
  }
 ],
 "metadata": {
  "kernelspec": {
   "display_name": "Python 3",
   "language": "python",
   "name": "python3"
  },
  "language_info": {
   "codemirror_mode": {
    "name": "ipython",
    "version": 3
   },
   "file_extension": ".py",
   "mimetype": "text/x-python",
   "name": "python",
   "nbconvert_exporter": "python",
   "pygments_lexer": "ipython3",
   "version": "3.7.3"
  }
 },
 "nbformat": 4,
 "nbformat_minor": 4
}
