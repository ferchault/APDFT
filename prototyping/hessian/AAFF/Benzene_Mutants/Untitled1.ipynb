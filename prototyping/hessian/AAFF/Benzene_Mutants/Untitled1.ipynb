{
 "cells": [
  {
   "cell_type": "code",
   "execution_count": 1,
   "metadata": {},
   "outputs": [],
   "source": [
    "import sys\n",
    "sys.path.append(\"/home/administrator/Documenti/APDFT/prototyping/hessian/AAFF/Libs/\")\n",
    "from aaff import aaff,alc_deriv_grad_nuc,alc_differential_grad_nuc\n",
    "from FcMole import FcM\n",
    "from alch_deriv import alch_deriv\n",
    "from pyscf import gto,scf\n",
    "import numpy as np \n",
    "from numpy.linalg import norm as norm\n",
    "from scipy.spatial.transform import Rotation as R\n",
    "import matplotlib.pyplot as plt\n",
    "from pyscf.grad import rhf as grhf\n",
    "from pyscf.hessian import rhf as hrhf\n",
    "import basis_set_exchange as bse\n",
    "from FDcoeffs import *\n",
    "from pyscf.geomopt.berny_solver import optimize\n",
    "ang2bohr=1.8897261246\n",
    "bohr2ang=.5291772109"
   ]
  },
  {
   "cell_type": "code",
   "execution_count": 2,
   "metadata": {},
   "outputs": [],
   "source": [
    "benz_atom=\"\"\" \n",
    "C         6.95191249e-13  2.61173060e+00 -1.67580194e-08 ;\n",
    "H         2.83052087e-13  4.63941350e+00 -1.15976219e-08 ;\n",
    "C         2.26182505e+00  1.30586530e+00 -2.37508246e-08 ; \n",
    "H         4.01784995e+00  2.31970675e+00 -9.84687205e-09 ; \n",
    "C         2.26182505e+00 -1.30586530e+00  8.26065094e-09 ; \n",
    "H         4.01784995e+00 -2.31970675e+00  5.83890508e-08 ; \n",
    "C        -8.45954456e-13 -2.61173060e+00 -1.55922267e-08 ; \n",
    "H         1.49445304e-12 -4.63941350e+00 -3.26774154e-08 ; \n",
    "C        -2.26182505e+00 -1.30586530e+00 -8.28266973e-09 ; \n",
    "H        -4.01784995e+00 -2.31970675e+00  1.87236306e-09 ; \n",
    "C        -2.26182505e+00  1.30586530e+00  1.68546675e-08 ; \n",
    "H        -4.01784995e+00  2.31970675e+00  3.31289175e-08 ; \n",
    "\"\"\"\n",
    "Benz = gto.M(atom=benz_atom, basis={\"H\":\"pc-2\",'C':bse.get_basis(\"pcX-2\",fmt=\"nwchem\",elements=[6])},unit='bohr')"
   ]
  },
  {
   "cell_type": "code",
   "execution_count": 5,
   "metadata": {},
   "outputs": [
    {
     "name": "stdout",
     "output_type": "stream",
     "text": [
      "converged SCF energy = -230.788695455662\n"
     ]
    },
    {
     "data": {
      "text/plain": [
       "-230.7886954556617"
      ]
     },
     "execution_count": 5,
     "metadata": {},
     "output_type": "execute_result"
    }
   ],
   "source": [
    "dm0=np.load(\"./benz_dm.npy\")\n",
    "BenzHF=scf.RHF(Benz)\n",
    "BenzHF.scf(dm0=dm0)"
   ]
  },
  {
   "cell_type": "code",
   "execution_count": 4,
   "metadata": {},
   "outputs": [],
   "source": [
    "dm0=np.load(\"./benz_dm.npy\")"
   ]
  },
  {
   "cell_type": "code",
   "execution_count": 7,
   "metadata": {},
   "outputs": [],
   "source": [
    "h0=BenzHF.Hessian().hess()"
   ]
  },
  {
   "cell_type": "code",
   "execution_count": 9,
   "metadata": {},
   "outputs": [],
   "source": [
    "np.save(\"benz_hessian\",h0)"
   ]
  },
  {
   "cell_type": "code",
   "execution_count": 11,
   "metadata": {},
   "outputs": [
    {
     "data": {
      "text/plain": [
       "(12, 12, 3, 3)"
      ]
     },
     "execution_count": 11,
     "metadata": {},
     "output_type": "execute_result"
    }
   ],
   "source": [
    "h0.shape"
   ]
  },
  {
   "cell_type": "code",
   "execution_count": null,
   "metadata": {},
   "outputs": [],
   "source": []
  }
 ],
 "metadata": {
  "kernelspec": {
   "display_name": "Python 3",
   "language": "python",
   "name": "python3"
  },
  "language_info": {
   "codemirror_mode": {
    "name": "ipython",
    "version": 3
   },
   "file_extension": ".py",
   "mimetype": "text/x-python",
   "name": "python",
   "nbconvert_exporter": "python",
   "pygments_lexer": "ipython3",
   "version": "3.7.3"
  }
 },
 "nbformat": 4,
 "nbformat_minor": 2
}
