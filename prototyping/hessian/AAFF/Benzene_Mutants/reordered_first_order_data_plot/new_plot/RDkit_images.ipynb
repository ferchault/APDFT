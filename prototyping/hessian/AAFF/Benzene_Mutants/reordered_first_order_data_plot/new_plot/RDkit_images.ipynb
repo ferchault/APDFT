{
 "cells": [
  {
   "cell_type": "code",
   "execution_count": 1,
   "metadata": {},
   "outputs": [],
   "source": [
    "from rdkit import Chem\n",
    "from rdkit.Chem import AllChem\n",
    "from rdkit.Chem import Draw\n",
    "import inspect\n",
    "from rdkit.Chem.Draw import rdMolDraw2D"
   ]
  },
  {
   "cell_type": "code",
   "execution_count": 2,
   "metadata": {},
   "outputs": [],
   "source": [
    "import sys \n",
    "sys.path.append(\"/home/administrator/Documenti/xyz2mol/\")\n",
    "from xyz2mol import xyz2rdkitmol"
   ]
  },
  {
   "cell_type": "code",
   "execution_count": 6,
   "metadata": {},
   "outputs": [],
   "source": [
    "import matplotlib.pyplot as plt\n",
    "from PIL import Image\n",
    "from matplotlib.offsetbox import (TextArea, DrawingArea, OffsetImage,\n",
    "                                  AnnotationBbox)"
   ]
  },
  {
   "cell_type": "code",
   "execution_count": 3,
   "metadata": {},
   "outputs": [],
   "source": [
    "def drawMyMol(fname, myFontSize):\n",
    "    d = rdMolDraw2D.MolDraw2DCairo(350, 300)\n",
    "    d.SetFontSize(myFontSize)\n",
    "    d.DrawMolecule(mol)\n",
    "    d.FinishDrawing()\n",
    "    d.WriteDrawingText(fname)\n"
   ]
  },
  {
   "cell_type": "code",
   "execution_count": 4,
   "metadata": {},
   "outputs": [],
   "source": [
    "mols=[]\n",
    "for i in range(1,18):\n",
    "    m=xyz2rdkitmol(\"../new_NR_H0/{}_NR.xyz\".format(i))[0]\n",
    "    mols.append(m)"
   ]
  },
  {
   "cell_type": "code",
   "execution_count": 5,
   "metadata": {},
   "outputs": [],
   "source": [
    "d = rdMolDraw2D.MolDraw2DCairo(400, 400 ,350,350 )\n",
    "d.SetFontSize(1.7)\n",
    "d.DrawMolecule(mols[2])\n",
    "d.FinishDrawing()\n",
    "d.WriteDrawingText(\"prova.svg\".format(i))"
   ]
  },
  {
   "cell_type": "code",
   "execution_count": 13,
   "metadata": {},
   "outputs": [
    {
     "data": {
      "text/plain": [
       "<rdkit.Chem.Draw.rdMolDraw2D.MolDraw2DCairo at 0x7f6cd1200c00>"
      ]
     },
     "execution_count": 13,
     "metadata": {},
     "output_type": "execute_result"
    }
   ],
   "source": [
    "d"
   ]
  },
  {
   "cell_type": "code",
   "execution_count": 41,
   "metadata": {},
   "outputs": [],
   "source": [
    "for i in range(1,18):\n",
    "    d = rdMolDraw2D.MolDraw2DCairo(400, 400 ,350,350 )\n",
    "    d.SetFontSize(1.7)\n",
    "    d.DrawMolecule(mols[i-1])\n",
    "    d.FinishDrawing()\n",
    "    d.WriteDrawingText(\"Mutants/{}.png\".format(i))\n",
    "    d.WriteDrawingText(\"Mutants/{}.svg\".format(i))"
   ]
  },
  {
   "cell_type": "code",
   "execution_count": 22,
   "metadata": {},
   "outputs": [],
   "source": []
  },
  {
   "cell_type": "code",
   "execution_count": 44,
   "metadata": {},
   "outputs": [
    {
     "data": {
      "text/plain": [
       "[]"
      ]
     },
     "execution_count": 44,
     "metadata": {},
     "output_type": "execute_result"
    },
    {
     "data": {
      "image/png": "[encoded data removed]",
      "text/plain": [
       "<Figure size 576x576 with 1 Axes>"
      ]
     },
     "metadata": {},
     "output_type": "display_data"
    }
   ],
   "source": [
    "pi=plt.imread(\"./Mutants/{}.png\".format(1))\n",
    "#pi=plt.imread(\"./prova.svg\")\n",
    "\n",
    "fig,ax=plt.subplots(figsize=(8,8))\n",
    "osi=OffsetImage(pi,zoom=1)\n",
    "ab=AnnotationBbox(osi,[0.5,0.5],frameon=False)\n",
    "ab.set_zorder(0)\n",
    "ax.add_artist(ab)\n",
    "ax.text(0.5,0.5,\"sccisisc\",fontsize=30)\n",
    "\n",
    "#ax.set_frame_on(False)\n",
    "ax.set_xticks([])\n",
    "ax.set_yticks([])\n"
   ]
  },
  {
   "cell_type": "code",
   "execution_count": null,
   "metadata": {},
   "outputs": [],
   "source": []
  }
 ],
 "metadata": {
  "kernelspec": {
   "display_name": "Python 3",
   "language": "python",
   "name": "python3"
  },
  "language_info": {
   "codemirror_mode": {
    "name": "ipython",
    "version": 3
   },
   "file_extension": ".py",
   "mimetype": "text/x-python",
   "name": "python",
   "nbconvert_exporter": "python",
   "pygments_lexer": "ipython3",
   "version": "3.7.3"
  }
 },
 "nbformat": 4,
 "nbformat_minor": 2
}
