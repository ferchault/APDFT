{
 "cells": [
  {
   "cell_type": "code",
   "execution_count": 1,
   "metadata": {},
   "outputs": [],
   "source": [
    "import numpy as np\n",
    "import matplotlib.pyplot as plt\n",
    "import pandas as pd"
   ]
  },
  {
   "cell_type": "code",
   "execution_count": 2,
   "metadata": {},
   "outputs": [],
   "source": [
    "opt_energies=[-234.225388964,-234.163941787,-234.189525875,\n",
    "              -237.719380207, -237.64112247, -237.628278566,-237.557890334,-237.634046402,-237.636576717,\n",
    "              -237.55868026,-237.574300059,-237.654843015,-237.474780398,-237.620766414,\n",
    "              -240.907922617,-241.254421041,-241.094582218]"
   ]
  },
  {
   "cell_type": "code",
   "execution_count": 3,
   "metadata": {},
   "outputs": [],
   "source": [
    "vertical_energies=[-234.195808181066, -234.11935890563043, -234.13764309314936, -237.69765436970562,\\\n",
    "                   -237.50709491657352, -237.5092799718759, -237.3918572680007, -237.5919570312754,\n",
    "                   -237.57731640810312, -237.46207875907294, -237.47453432792912, -237.63948928161244,\n",
    "                   -237.33369217990366, -237.56635253182685, -240.6826398175219, -241.29423402091734, \n",
    "                   -240.91530016989898]"
   ]
  },
  {
   "cell_type": "code",
   "execution_count": 4,
   "metadata": {},
   "outputs": [],
   "source": [
    "relaxed_energies=[-234.22576850554515, -234.16676169638782, -234.18648477149603, -237.74157144002226,\n",
    " -237.58301914417692, -237.5852041994793, -237.50554420342903, -237.65043879277619, -237.6357981696039,\n",
    " -237.55832322773583, -237.570778796592, -237.70228770550727, -237.46626046890563, -237.62339540584637,\n",
    " -240.8640497842316, -241.33610425820535, -241.0211847222992]"
   ]
  },
  {
   "cell_type": "code",
   "execution_count": 5,
   "metadata": {},
   "outputs": [],
   "source": [
    "apdft2_en=[-234.1958081810586, -234.11935890563154, -234.13764309315025, -237.69765436971124, -237.5081874437176,\n",
    "           -237.50818744474554, -237.39185726800991, -237.58463671943753, -237.5846367199536, -237.46830654376794,\n",
    " -237.46830654324776, -237.63948928161614, -237.33369217990997, -237.56635253181224, -240.68263981753205, -241.2942340209282,\n",
    " -240.91530016990546]"
   ]
  },
  {
   "cell_type": "code",
   "execution_count": 6,
   "metadata": {},
   "outputs": [],
   "source": [
    "init_error=[0.0997748966980053,0.13267514530940733,0.13792607095981138,0.11329744471049445,\n",
    "0.19074626248199716,0.1333933260382115,0.21797151979231477,0.1263673603393579,0.13952669074949425,\n",
    "0.1735515397965274,0.21983715405042517,0.15876304297141458,0.23568516763602565,0.12933844027698838,\n",
    "0.27815672340721415,0.09826235174611667,0.19389952637849392]"
   ]
  },
  {
   "cell_type": "code",
   "execution_count": 7,
   "metadata": {},
   "outputs": [],
   "source": [
    "pred_error=[0.04802596960271668,0.06469408456292522,0.0689631285185073,0.06508065523817615,0.13132735437837767,\n",
    "0.08640737419107673,0.15292434639534394,0.0751909422405848,0.08390932797615708,0.10920925530150775,0.15117381124015,\n",
    "0.09472227859300529,0.1646378658721037,0.07993302928665302,0.21313394253172607,0.06365959365202832,0.14159151060309572]\n",
    "pred_NR=[0.04022603342277081,0.031185680708323917,0.042190865091795406,0.05145613760749568,0.07929233449486393,\n",
    "0.08154447769207128,0.09177090723147249,0.04323117655932086,0.04612952822585601,0.07534621475279421,0.0697110475836823,\n",
    "         0.05646410895937868,0.07996004470325203,0.04242737086128657,0.12965531657203785,0.05523962110355713,0.0997313524367603]"
   ]
  },
  {
   "cell_type": "code",
   "execution_count": 8,
   "metadata": {},
   "outputs": [],
   "source": [
    "opt_energies=np.asarray(opt_energies)\n",
    "vertical_energies=np.asarray(vertical_energies)\n",
    "relaxed_energies=np.asarray(relaxed_energies)"
   ]
  },
  {
   "cell_type": "code",
   "execution_count": 9,
   "metadata": {},
   "outputs": [],
   "source": [
    "init_error=np.asarray(init_error)\n",
    "pred_error=np.asarray(pred_error)\n",
    "pred_NR=np.asarray(pred_NR)"
   ]
  },
  {
   "cell_type": "code",
   "execution_count": 10,
   "metadata": {},
   "outputs": [
    {
     "data": {
      "text/plain": [
       "<matplotlib.legend.Legend at 0x7f08e58d5898>"
      ]
     },
     "execution_count": 10,
     "metadata": {},
     "output_type": "execute_result"
    },
    {
     "data": {
      "image/png": "[encoded data removed]",
      "text/plain": [
       "<Figure size 432x288 with 1 Axes>"
      ]
     },
     "metadata": {
      "needs_background": "light"
     },
     "output_type": "display_data"
    }
   ],
   "source": [
    "plt.plot(np.linspace(1,17,17),vertical_energies-opt_energies,label=\"error vertical\")\n",
    "plt.plot(np.linspace(1,17,17),relaxed_energies-opt_energies,label=\"error after relaxation\")\n",
    "plt.axhline(0,color=\"black\")\n",
    "plt.legend()\n",
    "#plt.savefig(\"energies_vert_relaxed.png\")"
   ]
  },
  {
   "cell_type": "code",
   "execution_count": 11,
   "metadata": {},
   "outputs": [],
   "source": [
    "q={\"apdft2_vertical\":apdft2_en,\"apdft3_vertical\":vertical_energies,\"apdft3_relax\":relaxed_energies,\"opt\":opt_energies}"
   ]
  },
  {
   "cell_type": "code",
   "execution_count": 12,
   "metadata": {},
   "outputs": [],
   "source": [
    "df=pd.DataFrame(q)"
   ]
  },
  {
   "cell_type": "code",
   "execution_count": 13,
   "metadata": {},
   "outputs": [
    {
     "data": {
      "text/html": [
       "<div>\n",
       "<style scoped>\n",
       "    .dataframe tbody tr th:only-of-type {\n",
       "        vertical-align: middle;\n",
       "    }\n",
       "\n",
       "    .dataframe tbody tr th {\n",
       "        vertical-align: top;\n",
       "    }\n",
       "\n",
       "    .dataframe thead th {\n",
       "        text-align: right;\n",
       "    }\n",
       "</style>\n",
       "<table border=\"1\" class=\"dataframe\">\n",
       "  <thead>\n",
       "    <tr style=\"text-align: right;\">\n",
       "      <th></th>\n",
       "      <th>apdft2_vertical</th>\n",
       "      <th>apdft3_vertical</th>\n",
       "      <th>apdft3_relax</th>\n",
       "      <th>opt</th>\n",
       "    </tr>\n",
       "  </thead>\n",
       "  <tbody>\n",
       "    <tr>\n",
       "      <th>15</th>\n",
       "      <td>-241.294234</td>\n",
       "      <td>-241.294234</td>\n",
       "      <td>-241.336104</td>\n",
       "      <td>-241.254421</td>\n",
       "    </tr>\n",
       "    <tr>\n",
       "      <th>16</th>\n",
       "      <td>-240.915300</td>\n",
       "      <td>-240.915300</td>\n",
       "      <td>-241.021185</td>\n",
       "      <td>-241.094582</td>\n",
       "    </tr>\n",
       "    <tr>\n",
       "      <th>14</th>\n",
       "      <td>-240.682640</td>\n",
       "      <td>-240.682640</td>\n",
       "      <td>-240.864050</td>\n",
       "      <td>-240.907923</td>\n",
       "    </tr>\n",
       "    <tr>\n",
       "      <th>3</th>\n",
       "      <td>-237.697654</td>\n",
       "      <td>-237.697654</td>\n",
       "      <td>-237.741571</td>\n",
       "      <td>-237.719380</td>\n",
       "    </tr>\n",
       "    <tr>\n",
       "      <th>11</th>\n",
       "      <td>-237.639489</td>\n",
       "      <td>-237.639489</td>\n",
       "      <td>-237.702288</td>\n",
       "      <td>-237.654843</td>\n",
       "    </tr>\n",
       "    <tr>\n",
       "      <th>4</th>\n",
       "      <td>-237.508187</td>\n",
       "      <td>-237.507095</td>\n",
       "      <td>-237.583019</td>\n",
       "      <td>-237.641122</td>\n",
       "    </tr>\n",
       "    <tr>\n",
       "      <th>8</th>\n",
       "      <td>-237.584637</td>\n",
       "      <td>-237.577316</td>\n",
       "      <td>-237.635798</td>\n",
       "      <td>-237.636577</td>\n",
       "    </tr>\n",
       "    <tr>\n",
       "      <th>7</th>\n",
       "      <td>-237.584637</td>\n",
       "      <td>-237.591957</td>\n",
       "      <td>-237.650439</td>\n",
       "      <td>-237.634046</td>\n",
       "    </tr>\n",
       "    <tr>\n",
       "      <th>5</th>\n",
       "      <td>-237.508187</td>\n",
       "      <td>-237.509280</td>\n",
       "      <td>-237.585204</td>\n",
       "      <td>-237.628279</td>\n",
       "    </tr>\n",
       "    <tr>\n",
       "      <th>13</th>\n",
       "      <td>-237.566353</td>\n",
       "      <td>-237.566353</td>\n",
       "      <td>-237.623395</td>\n",
       "      <td>-237.620766</td>\n",
       "    </tr>\n",
       "    <tr>\n",
       "      <th>10</th>\n",
       "      <td>-237.468307</td>\n",
       "      <td>-237.474534</td>\n",
       "      <td>-237.570779</td>\n",
       "      <td>-237.574300</td>\n",
       "    </tr>\n",
       "    <tr>\n",
       "      <th>9</th>\n",
       "      <td>-237.468307</td>\n",
       "      <td>-237.462079</td>\n",
       "      <td>-237.558323</td>\n",
       "      <td>-237.558680</td>\n",
       "    </tr>\n",
       "    <tr>\n",
       "      <th>6</th>\n",
       "      <td>-237.391857</td>\n",
       "      <td>-237.391857</td>\n",
       "      <td>-237.505544</td>\n",
       "      <td>-237.557890</td>\n",
       "    </tr>\n",
       "    <tr>\n",
       "      <th>12</th>\n",
       "      <td>-237.333692</td>\n",
       "      <td>-237.333692</td>\n",
       "      <td>-237.466260</td>\n",
       "      <td>-237.474780</td>\n",
       "    </tr>\n",
       "    <tr>\n",
       "      <th>0</th>\n",
       "      <td>-234.195808</td>\n",
       "      <td>-234.195808</td>\n",
       "      <td>-234.225769</td>\n",
       "      <td>-234.225389</td>\n",
       "    </tr>\n",
       "    <tr>\n",
       "      <th>2</th>\n",
       "      <td>-234.137643</td>\n",
       "      <td>-234.137643</td>\n",
       "      <td>-234.186485</td>\n",
       "      <td>-234.189526</td>\n",
       "    </tr>\n",
       "    <tr>\n",
       "      <th>1</th>\n",
       "      <td>-234.119359</td>\n",
       "      <td>-234.119359</td>\n",
       "      <td>-234.166762</td>\n",
       "      <td>-234.163942</td>\n",
       "    </tr>\n",
       "  </tbody>\n",
       "</table>\n",
       "</div>"
      ],
      "text/plain": [
       "    apdft2_vertical  apdft3_vertical  apdft3_relax         opt\n",
       "15      -241.294234      -241.294234   -241.336104 -241.254421\n",
       "16      -240.915300      -240.915300   -241.021185 -241.094582\n",
       "14      -240.682640      -240.682640   -240.864050 -240.907923\n",
       "3       -237.697654      -237.697654   -237.741571 -237.719380\n",
       "11      -237.639489      -237.639489   -237.702288 -237.654843\n",
       "4       -237.508187      -237.507095   -237.583019 -237.641122\n",
       "8       -237.584637      -237.577316   -237.635798 -237.636577\n",
       "7       -237.584637      -237.591957   -237.650439 -237.634046\n",
       "5       -237.508187      -237.509280   -237.585204 -237.628279\n",
       "13      -237.566353      -237.566353   -237.623395 -237.620766\n",
       "10      -237.468307      -237.474534   -237.570779 -237.574300\n",
       "9       -237.468307      -237.462079   -237.558323 -237.558680\n",
       "6       -237.391857      -237.391857   -237.505544 -237.557890\n",
       "12      -237.333692      -237.333692   -237.466260 -237.474780\n",
       "0       -234.195808      -234.195808   -234.225769 -234.225389\n",
       "2       -234.137643      -234.137643   -234.186485 -234.189526\n",
       "1       -234.119359      -234.119359   -234.166762 -234.163942"
      ]
     },
     "execution_count": 13,
     "metadata": {},
     "output_type": "execute_result"
    }
   ],
   "source": [
    "df.sort_values(\"opt\")"
   ]
  },
  {
   "cell_type": "code",
   "execution_count": 14,
   "metadata": {},
   "outputs": [
    {
     "data": {
      "text/plain": [
       "Int64Index([15, 16, 14, 3, 11, 7, 8, 13, 5, 4, 10, 9, 6, 12, 0, 2, 1], dtype='int64')"
      ]
     },
     "execution_count": 14,
     "metadata": {},
     "output_type": "execute_result"
    }
   ],
   "source": [
    "df.sort_values(\"apdft3_relax\").index"
   ]
  },
  {
   "cell_type": "code",
   "execution_count": 15,
   "metadata": {},
   "outputs": [
    {
     "data": {
      "text/plain": [
       "Int64Index([15, 16, 14, 3, 11, 7, 8, 13, 5, 4, 10, 9, 6, 12, 0, 2, 1], dtype='int64')"
      ]
     },
     "execution_count": 15,
     "metadata": {},
     "output_type": "execute_result"
    }
   ],
   "source": [
    "df.sort_values(\"apdft3_vertical\").index"
   ]
  },
  {
   "cell_type": "code",
   "execution_count": 16,
   "metadata": {},
   "outputs": [
    {
     "data": {
      "text/plain": [
       "Int64Index([15, 16, 14, 3, 11, 4, 8, 7, 5, 13, 10, 9, 6, 12, 0, 2, 1], dtype='int64')"
      ]
     },
     "execution_count": 16,
     "metadata": {},
     "output_type": "execute_result"
    }
   ],
   "source": [
    "df.sort_values(\"opt\").index"
   ]
  },
  {
   "cell_type": "code",
   "execution_count": 17,
   "metadata": {},
   "outputs": [],
   "source": [
    "dfs=df.sort_values(\"opt\",ascending=False)"
   ]
  },
  {
   "cell_type": "code",
   "execution_count": 18,
   "metadata": {},
   "outputs": [
    {
     "data": {
      "text/html": [
       "<div>\n",
       "<style scoped>\n",
       "    .dataframe tbody tr th:only-of-type {\n",
       "        vertical-align: middle;\n",
       "    }\n",
       "\n",
       "    .dataframe tbody tr th {\n",
       "        vertical-align: top;\n",
       "    }\n",
       "\n",
       "    .dataframe thead th {\n",
       "        text-align: right;\n",
       "    }\n",
       "</style>\n",
       "<table border=\"1\" class=\"dataframe\">\n",
       "  <thead>\n",
       "    <tr style=\"text-align: right;\">\n",
       "      <th></th>\n",
       "      <th>apdft2_vertical</th>\n",
       "      <th>apdft3_vertical</th>\n",
       "      <th>apdft3_relax</th>\n",
       "      <th>opt</th>\n",
       "    </tr>\n",
       "  </thead>\n",
       "  <tbody>\n",
       "    <tr>\n",
       "      <th>1</th>\n",
       "      <td>-234.119359</td>\n",
       "      <td>-234.119359</td>\n",
       "      <td>-234.166762</td>\n",
       "      <td>-234.163942</td>\n",
       "    </tr>\n",
       "    <tr>\n",
       "      <th>2</th>\n",
       "      <td>-234.137643</td>\n",
       "      <td>-234.137643</td>\n",
       "      <td>-234.186485</td>\n",
       "      <td>-234.189526</td>\n",
       "    </tr>\n",
       "    <tr>\n",
       "      <th>0</th>\n",
       "      <td>-234.195808</td>\n",
       "      <td>-234.195808</td>\n",
       "      <td>-234.225769</td>\n",
       "      <td>-234.225389</td>\n",
       "    </tr>\n",
       "    <tr>\n",
       "      <th>12</th>\n",
       "      <td>-237.333692</td>\n",
       "      <td>-237.333692</td>\n",
       "      <td>-237.466260</td>\n",
       "      <td>-237.474780</td>\n",
       "    </tr>\n",
       "    <tr>\n",
       "      <th>6</th>\n",
       "      <td>-237.391857</td>\n",
       "      <td>-237.391857</td>\n",
       "      <td>-237.505544</td>\n",
       "      <td>-237.557890</td>\n",
       "    </tr>\n",
       "    <tr>\n",
       "      <th>9</th>\n",
       "      <td>-237.468307</td>\n",
       "      <td>-237.462079</td>\n",
       "      <td>-237.558323</td>\n",
       "      <td>-237.558680</td>\n",
       "    </tr>\n",
       "    <tr>\n",
       "      <th>10</th>\n",
       "      <td>-237.468307</td>\n",
       "      <td>-237.474534</td>\n",
       "      <td>-237.570779</td>\n",
       "      <td>-237.574300</td>\n",
       "    </tr>\n",
       "    <tr>\n",
       "      <th>13</th>\n",
       "      <td>-237.566353</td>\n",
       "      <td>-237.566353</td>\n",
       "      <td>-237.623395</td>\n",
       "      <td>-237.620766</td>\n",
       "    </tr>\n",
       "    <tr>\n",
       "      <th>5</th>\n",
       "      <td>-237.508187</td>\n",
       "      <td>-237.509280</td>\n",
       "      <td>-237.585204</td>\n",
       "      <td>-237.628279</td>\n",
       "    </tr>\n",
       "    <tr>\n",
       "      <th>7</th>\n",
       "      <td>-237.584637</td>\n",
       "      <td>-237.591957</td>\n",
       "      <td>-237.650439</td>\n",
       "      <td>-237.634046</td>\n",
       "    </tr>\n",
       "    <tr>\n",
       "      <th>8</th>\n",
       "      <td>-237.584637</td>\n",
       "      <td>-237.577316</td>\n",
       "      <td>-237.635798</td>\n",
       "      <td>-237.636577</td>\n",
       "    </tr>\n",
       "    <tr>\n",
       "      <th>4</th>\n",
       "      <td>-237.508187</td>\n",
       "      <td>-237.507095</td>\n",
       "      <td>-237.583019</td>\n",
       "      <td>-237.641122</td>\n",
       "    </tr>\n",
       "    <tr>\n",
       "      <th>11</th>\n",
       "      <td>-237.639489</td>\n",
       "      <td>-237.639489</td>\n",
       "      <td>-237.702288</td>\n",
       "      <td>-237.654843</td>\n",
       "    </tr>\n",
       "    <tr>\n",
       "      <th>3</th>\n",
       "      <td>-237.697654</td>\n",
       "      <td>-237.697654</td>\n",
       "      <td>-237.741571</td>\n",
       "      <td>-237.719380</td>\n",
       "    </tr>\n",
       "    <tr>\n",
       "      <th>14</th>\n",
       "      <td>-240.682640</td>\n",
       "      <td>-240.682640</td>\n",
       "      <td>-240.864050</td>\n",
       "      <td>-240.907923</td>\n",
       "    </tr>\n",
       "    <tr>\n",
       "      <th>16</th>\n",
       "      <td>-240.915300</td>\n",
       "      <td>-240.915300</td>\n",
       "      <td>-241.021185</td>\n",
       "      <td>-241.094582</td>\n",
       "    </tr>\n",
       "    <tr>\n",
       "      <th>15</th>\n",
       "      <td>-241.294234</td>\n",
       "      <td>-241.294234</td>\n",
       "      <td>-241.336104</td>\n",
       "      <td>-241.254421</td>\n",
       "    </tr>\n",
       "  </tbody>\n",
       "</table>\n",
       "</div>"
      ],
      "text/plain": [
       "    apdft2_vertical  apdft3_vertical  apdft3_relax         opt\n",
       "1       -234.119359      -234.119359   -234.166762 -234.163942\n",
       "2       -234.137643      -234.137643   -234.186485 -234.189526\n",
       "0       -234.195808      -234.195808   -234.225769 -234.225389\n",
       "12      -237.333692      -237.333692   -237.466260 -237.474780\n",
       "6       -237.391857      -237.391857   -237.505544 -237.557890\n",
       "9       -237.468307      -237.462079   -237.558323 -237.558680\n",
       "10      -237.468307      -237.474534   -237.570779 -237.574300\n",
       "13      -237.566353      -237.566353   -237.623395 -237.620766\n",
       "5       -237.508187      -237.509280   -237.585204 -237.628279\n",
       "7       -237.584637      -237.591957   -237.650439 -237.634046\n",
       "8       -237.584637      -237.577316   -237.635798 -237.636577\n",
       "4       -237.508187      -237.507095   -237.583019 -237.641122\n",
       "11      -237.639489      -237.639489   -237.702288 -237.654843\n",
       "3       -237.697654      -237.697654   -237.741571 -237.719380\n",
       "14      -240.682640      -240.682640   -240.864050 -240.907923\n",
       "16      -240.915300      -240.915300   -241.021185 -241.094582\n",
       "15      -241.294234      -241.294234   -241.336104 -241.254421"
      ]
     },
     "execution_count": 18,
     "metadata": {},
     "output_type": "execute_result"
    }
   ],
   "source": [
    "dfs"
   ]
  },
  {
   "cell_type": "code",
   "execution_count": 19,
   "metadata": {},
   "outputs": [
    {
     "data": {
      "text/plain": [
       "[<matplotlib.lines.Line2D at 0x7f08e5772898>]"
      ]
     },
     "execution_count": 19,
     "metadata": {},
     "output_type": "execute_result"
    },
    {
     "data": {
      "image/png": "[encoded data removed]",
      "text/plain": [
       "<Figure size 432x288 with 1 Axes>"
      ]
     },
     "metadata": {
      "needs_background": "light"
     },
     "output_type": "display_data"
    }
   ],
   "source": [
    "#Three BN doping\n",
    "plt.plot(np.arange(3),dfs.apdft3_relax[:3])\n",
    "plt.plot(np.arange(3),dfs.apdft3_vertical[:3])\n",
    "plt.plot(np.arange(3),dfs.opt[:3])"
   ]
  },
  {
   "cell_type": "code",
   "execution_count": 20,
   "metadata": {},
   "outputs": [
    {
     "data": {
      "text/plain": [
       "[<matplotlib.lines.Line2D at 0x7f08e56e1ba8>]"
      ]
     },
     "execution_count": 20,
     "metadata": {},
     "output_type": "execute_result"
    },
    {
     "data": {
      "image/png": "[encoded data removed]",
      "text/plain": [
       "<Figure size 432x288 with 1 Axes>"
      ]
     },
     "metadata": {
      "needs_background": "light"
     },
     "output_type": "display_data"
    }
   ],
   "source": [
    "#two BN substitution\n",
    "plt.plot(np.arange(11),dfs.apdft3_relax[3:-3])\n",
    "plt.plot(np.arange(11),dfs.apdft3_vertical[3:-3])\n",
    "plt.plot(np.arange(11),dfs.opt[3:-3])"
   ]
  },
  {
   "cell_type": "code",
   "execution_count": 21,
   "metadata": {},
   "outputs": [
    {
     "data": {
      "text/plain": [
       "[<matplotlib.lines.Line2D at 0x7f08e56ccb38>]"
      ]
     },
     "execution_count": 21,
     "metadata": {},
     "output_type": "execute_result"
    },
    {
     "data": {
      "image/png": "[encoded data removed]",
      "text/plain": [
       "<Figure size 432x288 with 1 Axes>"
      ]
     },
     "metadata": {
      "needs_background": "light"
     },
     "output_type": "display_data"
    }
   ],
   "source": [
    "#3 BN substitution\n",
    "plt.plot(np.arange(3),dfs.apdft3_relax[-3:])\n",
    "plt.plot(np.arange(3),dfs.apdft3_vertical[-3:])\n",
    "plt.plot(np.arange(3),dfs.opt[-3:])"
   ]
  },
  {
   "cell_type": "code",
   "execution_count": 22,
   "metadata": {},
   "outputs": [],
   "source": [
    "from PIL import Image\n",
    "from matplotlib.offsetbox import (TextArea, DrawingArea, OffsetImage,\n",
    "                                  AnnotationBbox)\n",
    "imgs=[0]\n",
    "for i in range(1,18):\n",
    "    img = Image.open('./new_plot/Mutants//{}.png'.format(i))\n",
    "    imgs.append(img)"
   ]
  },
  {
   "cell_type": "code",
   "execution_count": 23,
   "metadata": {},
   "outputs": [],
   "source": [
    "from matplotlib._png import read_png\n",
    "imgs=[0]\n",
    "for i in range(1,18):\n",
    "    img =read_png('./new_plot/Mutants//{}.png'.format(i))\n",
    "    imgs.append(img)"
   ]
  },
  {
   "cell_type": "code",
   "execution_count": null,
   "metadata": {},
   "outputs": [],
   "source": []
  },
  {
   "cell_type": "code",
   "execution_count": 24,
   "metadata": {},
   "outputs": [],
   "source": [
    "#print(dir(plt.axes()))\n",
    "#print(help(plt.axes().add_image))\n"
   ]
  },
  {
   "cell_type": "code",
   "execution_count": 29,
   "metadata": {},
   "outputs": [
    {
     "data": {
      "text/plain": [
       "'\\n#two BN substitution pt1\\naxs[1].set_xlim(3.8,8.2)\\naxs[1].plot(np.arange(4,9),dfs.opt[3:8],lw=2.5,color=\"black\")\\naxs[1].plot(np.arange(4,9),dfs.apdft3_vertical[3:8],ls=\"--\")\\naxs[1].scatter(np.arange(4,9),dfs.apdft3_vertical[3:8])\\naxs[1].plot(np.arange(4,9),dfs.apdft3_relax[3:8],lw=2,ls=\"--\")\\naxs[1].scatter(np.arange(4,9),dfs.apdft3_relax[3:8])\\n\\n#two BN substitution pt2\\n\\naxs[2].set_xlim(8.8,14.2)\\naxs[2].plot(np.arange(9,15),dfs.opt[8:-3],lw=2.5,color=\"black\")\\naxs[2].plot(np.arange(9,15),dfs.apdft3_vertical[8:-3],ls=\"--\")\\naxs[2].scatter(np.arange(9,15),dfs.apdft3_vertical[8:-3])\\naxs[2].plot(np.arange(9,15),dfs.apdft3_relax[8:-3],lw=2,ls=\"--\")\\naxs[2].scatter(np.arange(9,15),dfs.apdft3_relax[8:-3])\\n\\n#three BN subs\\naxs[3].set_xlim(14.95,17.05)\\naxs[3].plot(np.arange(15,18),dfs.apdft3_vertical[14:17],ls=\"--\",label=\"Vertical APDFT3\")\\naxs[3].scatter(np.arange(15,18),dfs.apdft3_vertical[14:17],label=None)\\naxs[3].plot(np.arange(15,18),dfs.apdft3_relax[14:17],lw=2,ls=\"--\",label=\"Relaxed APDFT3\")\\naxs[3].scatter(np.arange(15,18),dfs.apdft3_relax[14:17],label=None)\\naxs[3].plot(np.arange(15,18),dfs.opt[14:17],lw=2.5,color=\"black\",label=\"Target Energy\")\\n\\n#xticks\\naxs[3].set_xticks([])\\n\\n#yticks \\naxs[0].set_yticks([-234.225,-234.200,-234.175,-234.150,-234.125])\\naxs[0].set_yticklabels([\"-234.225\",\"-234.200\",\"-234.175\",\"-234.150\",\"-234.125\"],fontsize=16)\\naxs[1].set_yticklabels([np.around(x,decimals=2) for x in axs[1].get_yticks()],fontsize=16)\\naxs[2].set_yticklabels([np.around(x,decimals=2) for x in axs[2].get_yticks()],fontsize=16)\\naxs[3].set_yticklabels([np.around(x,decimals=2) for x in axs[3].get_yticks()],fontsize=16)\\n\\n#axs[2].legend(loc=(-.25,3.5),fontsize=15,ncol=3)\\naxs[2].legend(loc=(-.05,-.7),fontsize=18,ncol=2,labelspacing=.1,columnspacing=1)\\n\\naxs[1].set_ylabel(\"$E$ [Ha]\",fontsize=30,labelpad=15)\\nplt.savefig(\"energy_plot2.png\",bbox_inches=\"tight\")\\n\\n'"
      ]
     },
     "execution_count": 29,
     "metadata": {},
     "output_type": "execute_result"
    },
    {
     "data": {
      "image/png": "[encoded data removed]",
      "text/plain": [
       "<Figure size 504x720 with 4 Axes>"
      ]
     },
     "metadata": {
      "needs_background": "light"
     },
     "output_type": "display_data"
    }
   ],
   "source": [
    "fig,axs=plt.subplots(4,1,figsize=(7,10),gridspec_kw={\"hspace\":0})\n",
    "axs[0].set_title(\"Energy predictions of \\n benzene B-N mutants\",fontsize=25)\n",
    "axs[0].set_xlim(.95,3.05)\n",
    "axs[0].plot(np.arange(1,4),dfs.opt[:3],lw=2.5,color=\"black\")\n",
    "axs[0].plot(np.arange(1,4),dfs.apdft3_vertical[:3],ls=\"--\")\n",
    "axs[0].scatter(np.arange(1,4),dfs.apdft3_vertical[:3])\n",
    "axs[0].plot(np.arange(1,4),dfs.apdft3_relax[:3],lw=2,ls=\"--\")\n",
    "axs[0].scatter(np.arange(1,4),dfs.apdft3_relax[:3])\n",
    "\n",
    "\n",
    "\n",
    "osi=OffsetImage(imgs[1],zoom=0.5)\n",
    "ab=AnnotationBbox(osi,[0.5,0.5],frameon=False)\n",
    "\n",
    "axs[0].add_artist(ab)\n",
    "\n",
    "\n",
    "\"\"\"\n",
    "#two BN substitution pt1\n",
    "axs[1].set_xlim(3.8,8.2)\n",
    "axs[1].plot(np.arange(4,9),dfs.opt[3:8],lw=2.5,color=\"black\")\n",
    "axs[1].plot(np.arange(4,9),dfs.apdft3_vertical[3:8],ls=\"--\")\n",
    "axs[1].scatter(np.arange(4,9),dfs.apdft3_vertical[3:8])\n",
    "axs[1].plot(np.arange(4,9),dfs.apdft3_relax[3:8],lw=2,ls=\"--\")\n",
    "axs[1].scatter(np.arange(4,9),dfs.apdft3_relax[3:8])\n",
    "\n",
    "#two BN substitution pt2\n",
    "\n",
    "axs[2].set_xlim(8.8,14.2)\n",
    "axs[2].plot(np.arange(9,15),dfs.opt[8:-3],lw=2.5,color=\"black\")\n",
    "axs[2].plot(np.arange(9,15),dfs.apdft3_vertical[8:-3],ls=\"--\")\n",
    "axs[2].scatter(np.arange(9,15),dfs.apdft3_vertical[8:-3])\n",
    "axs[2].plot(np.arange(9,15),dfs.apdft3_relax[8:-3],lw=2,ls=\"--\")\n",
    "axs[2].scatter(np.arange(9,15),dfs.apdft3_relax[8:-3])\n",
    "\n",
    "#three BN subs\n",
    "axs[3].set_xlim(14.95,17.05)\n",
    "axs[3].plot(np.arange(15,18),dfs.apdft3_vertical[14:17],ls=\"--\",label=\"Vertical APDFT3\")\n",
    "axs[3].scatter(np.arange(15,18),dfs.apdft3_vertical[14:17],label=None)\n",
    "axs[3].plot(np.arange(15,18),dfs.apdft3_relax[14:17],lw=2,ls=\"--\",label=\"Relaxed APDFT3\")\n",
    "axs[3].scatter(np.arange(15,18),dfs.apdft3_relax[14:17],label=None)\n",
    "axs[3].plot(np.arange(15,18),dfs.opt[14:17],lw=2.5,color=\"black\",label=\"Target Energy\")\n",
    "\n",
    "#xticks\n",
    "axs[3].set_xticks([])\n",
    "\n",
    "#yticks \n",
    "axs[0].set_yticks([-234.225,-234.200,-234.175,-234.150,-234.125])\n",
    "axs[0].set_yticklabels([\"-234.225\",\"-234.200\",\"-234.175\",\"-234.150\",\"-234.125\"],fontsize=16)\n",
    "axs[1].set_yticklabels([np.around(x,decimals=2) for x in axs[1].get_yticks()],fontsize=16)\n",
    "axs[2].set_yticklabels([np.around(x,decimals=2) for x in axs[2].get_yticks()],fontsize=16)\n",
    "axs[3].set_yticklabels([np.around(x,decimals=2) for x in axs[3].get_yticks()],fontsize=16)\n",
    "\n",
    "#axs[2].legend(loc=(-.25,3.5),fontsize=15,ncol=3)\n",
    "axs[2].legend(loc=(-.05,-.7),fontsize=18,ncol=2,labelspacing=.1,columnspacing=1)\n",
    "\n",
    "axs[1].set_ylabel(\"$E$ [Ha]\",fontsize=30,labelpad=15)\n",
    "plt.savefig(\"energy_plot2.png\",bbox_inches=\"tight\")\n",
    "\n",
    "\"\"\""
   ]
  },
  {
   "cell_type": "code",
   "execution_count": 27,
   "metadata": {},
   "outputs": [
    {
     "data": {
      "text/plain": [
       "array([ 2,  3,  1, 13,  7, 10, 11, 14,  6,  8,  9,  5, 12,  4, 15, 17, 16])"
      ]
     },
     "execution_count": 27,
     "metadata": {},
     "output_type": "execute_result"
    }
   ],
   "source": [
    "np.asarray(dfs.index)+1"
   ]
  },
  {
   "cell_type": "code",
   "execution_count": 28,
   "metadata": {},
   "outputs": [
    {
     "data": {
      "text/plain": [
       "array([ 2,  3,  1, 13,  7, 10, 11,  5,  6, 14,  9,  8, 12,  4, 15, 17, 16])"
      ]
     },
     "execution_count": 28,
     "metadata": {},
     "output_type": "execute_result"
    }
   ],
   "source": [
    "np.asarray(dfs.sort_values(\"apdft3_vertical\",ascending=False).index)+1"
   ]
  },
  {
   "cell_type": "code",
   "execution_count": 29,
   "metadata": {},
   "outputs": [
    {
     "data": {
      "text/plain": [
       "array([ 2,  3,  1, 13,  7, 10, 11,  5,  6, 14,  9,  8, 12,  4, 15, 17, 16])"
      ]
     },
     "execution_count": 29,
     "metadata": {},
     "output_type": "execute_result"
    }
   ],
   "source": [
    "np.asarray(dfs.sort_values(\"apdft3_relax\",ascending=False).index)+1"
   ]
  },
  {
   "cell_type": "code",
   "execution_count": 30,
   "metadata": {},
   "outputs": [],
   "source": [
    "new_idxs=np.asarray(dfs.index)+1"
   ]
  },
  {
   "cell_type": "code",
   "execution_count": 31,
   "metadata": {},
   "outputs": [],
   "source": [
    "np.save(\"new_idxs\",new_idxs)"
   ]
  },
  {
   "cell_type": "code",
   "execution_count": 32,
   "metadata": {},
   "outputs": [],
   "source": [
    "import sys"
   ]
  },
  {
   "cell_type": "code",
   "execution_count": 33,
   "metadata": {},
   "outputs": [],
   "source": [
    "#for i in range(17):\n",
    "#    with open(\"NR_H0/{}_NR.xyz\".format(new_idxs[i]),\"r\") as fxyz: \n",
    "#        with open(\"new_NR_H0/{}_NR.xyz\".format(i+1),\"w\") as nfxyz:\n",
    "#            nfxyz.write(fxyz.read())"
   ]
  },
  {
   "cell_type": "code",
   "execution_count": 34,
   "metadata": {},
   "outputs": [],
   "source": [
    "#for i in range(17):\n",
    "#    with open(\"BG/{}_bg.xyz\".format(new_idxs[i]),\"r\") as fxyz: \n",
    "#        with open(\"new_BG/{}_bg.xyz\".format(i+1),\"w\") as nfxyz:\n",
    "#            nfxyz.write(fxyz.read())"
   ]
  },
  {
   "cell_type": "code",
   "execution_count": 35,
   "metadata": {},
   "outputs": [],
   "source": [
    "#for i in range(17):\n",
    "#    with open(\"opt/{}_opt.xyz\".format(new_idxs[i]),\"r\") as fxyz: \n",
    "#        with open(\"new_opt/{}_opt.xyz\".format(i+1),\"w\") as nfxyz:\n",
    "#            nfxyz.write(fxyz.read())"
   ]
  },
  {
   "cell_type": "code",
   "execution_count": 36,
   "metadata": {},
   "outputs": [],
   "source": [
    "#for i in range(17):\n",
    "#    with open(\"plot/{}_opt.xyz\".format(new_idxs[i]),\"r\") as fxyz: \n",
    "#        with open(\"new_plot/{}_opt.xyz\".format(i+1),\"w\") as nfxyz:\n",
    "#            nfxyz.write(fxyz.read())"
   ]
  },
  {
   "cell_type": "code",
   "execution_count": null,
   "metadata": {},
   "outputs": [],
   "source": []
  }
 ],
 "metadata": {
  "kernelspec": {
   "display_name": "Python 3",
   "language": "python",
   "name": "python3"
  },
  "language_info": {
   "codemirror_mode": {
    "name": "ipython",
    "version": 3
   },
   "file_extension": ".py",
   "mimetype": "text/x-python",
   "name": "python",
   "nbconvert_exporter": "python",
   "pygments_lexer": "ipython3",
   "version": "3.7.3"
  }
 },
 "nbformat": 4,
 "nbformat_minor": 2
}
