{
 "cells": [
  {
   "cell_type": "code",
   "execution_count": 1,
   "metadata": {},
   "outputs": [],
   "source": [
    "import inspect\n",
    "import sys\n",
    "sys.path.append(\"/home/administrator/Documenti/APDFT/prototyping/hessian/AAFF/Libs/\")\n",
    "from aaff import aaff,alc_deriv_grad_nuc,alc_differential_grad_nuc\n",
    "from FcMole import FcM\n",
    "from pyscf import gto,scf\n",
    "import numpy as np \n",
    "from numpy.linalg import norm as norm\n",
    "from scipy.spatial.transform import Rotation as R\n",
    "import matplotlib.pyplot as plt\n",
    "from pyscf.grad import rhf as grhf\n",
    "from pyscf.hessian import rhf as hrhf\n",
    "import basis_set_exchange as bse\n",
    "from FDcoeffs import *\n",
    "from pyscf.geomopt.berny_solver import optimize\n",
    "ang2bohr=1.8897261246\n",
    "bohr2ang=.5291772109\n",
    "%load_ext autoreload\n",
    "%autoreload 2\n",
    "from AP_class import alch_deriv,first_deriv_nuc_nuc,second_deriv_nuc_nuc\n",
    "from AP_symmetry import benz_Symm"
   ]
  },
  {
   "cell_type": "code",
   "execution_count": 18,
   "metadata": {},
   "outputs": [],
   "source": [
    "benz_atom=\"\"\" \n",
    "C         6.95191249e-13  2.61173060e+00 -1.67580194e-08 ;\n",
    "H         2.83052087e-13  4.63941350e+00 -1.15976219e-08 ;\n",
    "C         2.26182505e+00  1.30586530e+00 -2.37508246e-08 ; \n",
    "H         4.01784995e+00  2.31970675e+00 -9.84687205e-09 ; \n",
    "C         2.26182505e+00 -1.30586530e+00  8.26065094e-09 ; \n",
    "H         4.01784995e+00 -2.31970675e+00  5.83890508e-08 ; \n",
    "C        -8.45954456e-13 -2.61173060e+00 -1.55922267e-08 ; \n",
    "H         1.49445304e-12 -4.63941350e+00 -3.26774154e-08 ; \n",
    "C        -2.26182505e+00 -1.30586530e+00 -8.28266973e-09 ; \n",
    "H        -4.01784995e+00 -2.31970675e+00  1.87236306e-09 ; \n",
    "C        -2.26182505e+00  1.30586530e+00  1.68546675e-08 ; \n",
    "H        -4.01784995e+00  2.31970675e+00  3.31289175e-08 ; \n",
    "\"\"\"\n",
    "Benz = gto.M(atom=benz_atom,unit='bohr',basis={\"H\":\"sto-3g\",\"C\":\"cc-pvtz\"},symmetry = 'D6v') #basis={\"H\":\"pc-2\",'C':bse.get_basis(\"pcX-2\",fmt=\"nwchem\",elements=[6])})"
   ]
  },
  {
   "cell_type": "code",
   "execution_count": 19,
   "metadata": {},
   "outputs": [
    {
     "name": "stdout",
     "output_type": "stream",
     "text": [
      "converged SCF energy = -230.743864823778\n"
     ]
    },
    {
     "data": {
      "text/plain": [
       "-230.74386482377844"
      ]
     },
     "execution_count": 19,
     "metadata": {},
     "output_type": "execute_result"
    }
   ],
   "source": [
    "BenzHF=scf.RHF(Benz)\n",
    "BenzHF.scf()"
   ]
  },
  {
   "cell_type": "code",
   "execution_count": 4,
   "metadata": {},
   "outputs": [],
   "source": [
    "from AP_symmetry import rotate_grad,rotate_matrix"
   ]
  },
  {
   "cell_type": "code",
   "execution_count": 5,
   "metadata": {},
   "outputs": [],
   "source": [
    "from scipy.spatial.transform import Rotation as R"
   ]
  },
  {
   "cell_type": "code",
   "execution_count": 6,
   "metadata": {},
   "outputs": [],
   "source": [
    "import itertools\n",
    "%autoreload 2\n",
    "from AP_class import DeltaV,parse_charge,alchemy_cphf_deriv,make_dP\n",
    "from AP_class import APDFT_perturbator as AP\n",
    "from pyscf.symm.basis import _ao_rotation_matrices as aorm"
   ]
  },
  {
   "cell_type": "code",
   "execution_count": 35,
   "metadata": {},
   "outputs": [],
   "source": [
    "bs=benz_Symm(BenzHF)"
   ]
  },
  {
   "cell_type": "code",
   "execution_count": 34,
   "metadata": {},
   "outputs": [],
   "source": [
    "ap=AP(BenzHF,sites=[0,2,4],symm=bs)"
   ]
  },
  {
   "cell_type": "code",
   "execution_count": 36,
   "metadata": {},
   "outputs": [
    {
     "data": {
      "text/plain": [
       "array([[-3.82887830e-01,  1.04108126e-01, -1.95614373e-01, ...,\n",
       "         3.81849016e-10, -7.08003163e-04, -1.91077231e-03],\n",
       "       [ 1.04108126e-01, -3.82217390e-01, -2.12023178e-01, ...,\n",
       "         6.24123064e-10, -1.27862450e-02, -1.82845297e-02],\n",
       "       [-1.95614373e-01, -2.12023178e-01, -3.82887628e-01, ...,\n",
       "         1.13243010e-09, -8.95651133e-03, -9.00532695e-03],\n",
       "       ...,\n",
       "       [ 3.81849016e-10,  6.24123064e-10,  1.13243010e-09, ...,\n",
       "        -2.21225764e-01,  1.36152004e-10, -2.16730513e-10],\n",
       "       [-7.08003163e-04, -1.27862450e-02, -8.95651133e-03, ...,\n",
       "         1.36152004e-10, -2.26778349e-01, -1.62982574e-03],\n",
       "       [-1.91077231e-03, -1.82845297e-02, -9.00532695e-03, ...,\n",
       "        -2.16730513e-10, -1.62982574e-03, -1.57208230e-01]])"
      ]
     },
     "execution_count": 36,
     "metadata": {},
     "output_type": "execute_result"
    }
   ],
   "source": [
    "ap.dV(2)"
   ]
  },
  {
   "cell_type": "code",
   "execution_count": 11,
   "metadata": {},
   "outputs": [],
   "source": [
    "dV=DeltaV(Benz,[[0],[1]])"
   ]
  },
  {
   "cell_type": "code",
   "execution_count": 13,
   "metadata": {},
   "outputs": [
    {
     "data": {
      "text/plain": [
       "array([[1., 0., 0.],\n",
       "       [0., 1., 0.],\n",
       "       [0., 0., 1.]])"
      ]
     },
     "execution_count": 13,
     "metadata": {},
     "output_type": "execute_result"
    }
   ],
   "source": [
    "np.eye(3)"
   ]
  },
  {
   "cell_type": "code",
   "execution_count": 24,
   "metadata": {},
   "outputs": [],
   "source": [
    "ang=np.pi/3\n",
    "rm_p=np.asarray([[np.cos(ang),-np.sin(ang),0],\\\n",
    "                 [np.sin(ang),np.cos(ang),0],\\\n",
    "                [0,0,1]])\n",
    "s_rm,p_rm,d_rm,f_rm=aorm(Benz,rm_p)"
   ]
  },
  {
   "cell_type": "code",
   "execution_count": 23,
   "metadata": {},
   "outputs": [
    {
     "data": {
      "text/plain": [
       "['0 C 1s    ',\n",
       " '0 C 2s    ',\n",
       " '0 C 3s    ',\n",
       " '0 C 4s    ',\n",
       " '0 C 2px   ',\n",
       " '0 C 2py   ',\n",
       " '0 C 2pz   ',\n",
       " '0 C 3px   ',\n",
       " '0 C 3py   ',\n",
       " '0 C 3pz   ',\n",
       " '0 C 4px   ',\n",
       " '0 C 4py   ',\n",
       " '0 C 4pz   ',\n",
       " '0 C 3dxy  ',\n",
       " '0 C 3dyz  ',\n",
       " '0 C 3dz^2 ',\n",
       " '0 C 3dxz  ',\n",
       " '0 C 3dx2-y2',\n",
       " '0 C 4dxy  ',\n",
       " '0 C 4dyz  ',\n",
       " '0 C 4dz^2 ',\n",
       " '0 C 4dxz  ',\n",
       " '0 C 4dx2-y2',\n",
       " '0 C 4fy^3 ',\n",
       " '0 C 4fxyz ',\n",
       " '0 C 4fyz^2',\n",
       " '0 C 4fz^3 ',\n",
       " '0 C 4fxz^2',\n",
       " '0 C 4fzx^2',\n",
       " '0 C 4fx^3 ',\n",
       " '1 H 1s    ',\n",
       " '2 C 1s    ',\n",
       " '2 C 2s    ',\n",
       " '2 C 3s    ',\n",
       " '2 C 4s    ',\n",
       " '2 C 2px   ',\n",
       " '2 C 2py   ',\n",
       " '2 C 2pz   ',\n",
       " '2 C 3px   ',\n",
       " '2 C 3py   ',\n",
       " '2 C 3pz   ',\n",
       " '2 C 4px   ',\n",
       " '2 C 4py   ',\n",
       " '2 C 4pz   ',\n",
       " '2 C 3dxy  ',\n",
       " '2 C 3dyz  ',\n",
       " '2 C 3dz^2 ',\n",
       " '2 C 3dxz  ',\n",
       " '2 C 3dx2-y2',\n",
       " '2 C 4dxy  ',\n",
       " '2 C 4dyz  ',\n",
       " '2 C 4dz^2 ',\n",
       " '2 C 4dxz  ',\n",
       " '2 C 4dx2-y2',\n",
       " '2 C 4fy^3 ',\n",
       " '2 C 4fxyz ',\n",
       " '2 C 4fyz^2',\n",
       " '2 C 4fz^3 ',\n",
       " '2 C 4fxz^2',\n",
       " '2 C 4fzx^2',\n",
       " '2 C 4fx^3 ',\n",
       " '3 H 1s    ',\n",
       " '4 C 1s    ',\n",
       " '4 C 2s    ',\n",
       " '4 C 3s    ',\n",
       " '4 C 4s    ',\n",
       " '4 C 2px   ',\n",
       " '4 C 2py   ',\n",
       " '4 C 2pz   ',\n",
       " '4 C 3px   ',\n",
       " '4 C 3py   ',\n",
       " '4 C 3pz   ',\n",
       " '4 C 4px   ',\n",
       " '4 C 4py   ',\n",
       " '4 C 4pz   ',\n",
       " '4 C 3dxy  ',\n",
       " '4 C 3dyz  ',\n",
       " '4 C 3dz^2 ',\n",
       " '4 C 3dxz  ',\n",
       " '4 C 3dx2-y2',\n",
       " '4 C 4dxy  ',\n",
       " '4 C 4dyz  ',\n",
       " '4 C 4dz^2 ',\n",
       " '4 C 4dxz  ',\n",
       " '4 C 4dx2-y2',\n",
       " '4 C 4fy^3 ',\n",
       " '4 C 4fxyz ',\n",
       " '4 C 4fyz^2',\n",
       " '4 C 4fz^3 ',\n",
       " '4 C 4fxz^2',\n",
       " '4 C 4fzx^2',\n",
       " '4 C 4fx^3 ',\n",
       " '5 H 1s    ',\n",
       " '6 C 1s    ',\n",
       " '6 C 2s    ',\n",
       " '6 C 3s    ',\n",
       " '6 C 4s    ',\n",
       " '6 C 2px   ',\n",
       " '6 C 2py   ',\n",
       " '6 C 2pz   ',\n",
       " '6 C 3px   ',\n",
       " '6 C 3py   ',\n",
       " '6 C 3pz   ',\n",
       " '6 C 4px   ',\n",
       " '6 C 4py   ',\n",
       " '6 C 4pz   ',\n",
       " '6 C 3dxy  ',\n",
       " '6 C 3dyz  ',\n",
       " '6 C 3dz^2 ',\n",
       " '6 C 3dxz  ',\n",
       " '6 C 3dx2-y2',\n",
       " '6 C 4dxy  ',\n",
       " '6 C 4dyz  ',\n",
       " '6 C 4dz^2 ',\n",
       " '6 C 4dxz  ',\n",
       " '6 C 4dx2-y2',\n",
       " '6 C 4fy^3 ',\n",
       " '6 C 4fxyz ',\n",
       " '6 C 4fyz^2',\n",
       " '6 C 4fz^3 ',\n",
       " '6 C 4fxz^2',\n",
       " '6 C 4fzx^2',\n",
       " '6 C 4fx^3 ',\n",
       " '7 H 1s    ',\n",
       " '8 C 1s    ',\n",
       " '8 C 2s    ',\n",
       " '8 C 3s    ',\n",
       " '8 C 4s    ',\n",
       " '8 C 2px   ',\n",
       " '8 C 2py   ',\n",
       " '8 C 2pz   ',\n",
       " '8 C 3px   ',\n",
       " '8 C 3py   ',\n",
       " '8 C 3pz   ',\n",
       " '8 C 4px   ',\n",
       " '8 C 4py   ',\n",
       " '8 C 4pz   ',\n",
       " '8 C 3dxy  ',\n",
       " '8 C 3dyz  ',\n",
       " '8 C 3dz^2 ',\n",
       " '8 C 3dxz  ',\n",
       " '8 C 3dx2-y2',\n",
       " '8 C 4dxy  ',\n",
       " '8 C 4dyz  ',\n",
       " '8 C 4dz^2 ',\n",
       " '8 C 4dxz  ',\n",
       " '8 C 4dx2-y2',\n",
       " '8 C 4fy^3 ',\n",
       " '8 C 4fxyz ',\n",
       " '8 C 4fyz^2',\n",
       " '8 C 4fz^3 ',\n",
       " '8 C 4fxz^2',\n",
       " '8 C 4fzx^2',\n",
       " '8 C 4fx^3 ',\n",
       " '9 H 1s    ',\n",
       " '10 C 1s    ',\n",
       " '10 C 2s    ',\n",
       " '10 C 3s    ',\n",
       " '10 C 4s    ',\n",
       " '10 C 2px   ',\n",
       " '10 C 2py   ',\n",
       " '10 C 2pz   ',\n",
       " '10 C 3px   ',\n",
       " '10 C 3py   ',\n",
       " '10 C 3pz   ',\n",
       " '10 C 4px   ',\n",
       " '10 C 4py   ',\n",
       " '10 C 4pz   ',\n",
       " '10 C 3dxy  ',\n",
       " '10 C 3dyz  ',\n",
       " '10 C 3dz^2 ',\n",
       " '10 C 3dxz  ',\n",
       " '10 C 3dx2-y2',\n",
       " '10 C 4dxy  ',\n",
       " '10 C 4dyz  ',\n",
       " '10 C 4dz^2 ',\n",
       " '10 C 4dxz  ',\n",
       " '10 C 4dx2-y2',\n",
       " '10 C 4fy^3 ',\n",
       " '10 C 4fxyz ',\n",
       " '10 C 4fyz^2',\n",
       " '10 C 4fz^3 ',\n",
       " '10 C 4fxz^2',\n",
       " '10 C 4fzx^2',\n",
       " '10 C 4fx^3 ',\n",
       " '11 H 1s    ']"
      ]
     },
     "execution_count": 23,
     "metadata": {},
     "output_type": "execute_result"
    }
   ],
   "source": [
    "Benz.ao_labels()"
   ]
  },
  {
   "cell_type": "code",
   "execution_count": 29,
   "metadata": {},
   "outputs": [],
   "source": [
    "p_idxs=[i for i,elem in enumerate(Benz.ao_labels()) if  \"px\" in elem]\n",
    "d_idxs=[i for i,elem in enumerate(Benz.ao_labels()) if  \"dxy\" in elem]\n",
    "f_idxs=[i for i,elem in enumerate(Benz.ao_labels()) if  \"fy^3\" in elem]"
   ]
  },
  {
   "cell_type": "code",
   "execution_count": null,
   "metadata": {},
   "outputs": [],
   "source": [
    "ang=np.pi/3\n",
    "rm_p=np.asarray([[np.cos(ang),-np.sin(ang),0],\\\n",
    "                 [np.sin(ang),np.cos(ang),0],\\\n",
    "                [0,0,1]])\n",
    "s_rm,p_rm,d_rm,f_rm=aorm(Benz,rm_p)"
   ]
  },
  {
   "cell_type": "code",
   "execution_count": 31,
   "metadata": {},
   "outputs": [],
   "source": [
    "rm=np.eye(Benz.nao)\n",
    "for i in p_idxs:\n",
    "    rm[i:i+3,i:i+3]=p_rm\n",
    "for i in d_idxs:\n",
    "    rm[i:i+5,i:i+5]=d_rm\n",
    "for i in f_idxs:\n",
    "    rm[i:i+7,i:i+7]=f_rm"
   ]
  },
  {
   "cell_type": "code",
   "execution_count": 37,
   "metadata": {},
   "outputs": [
    {
     "data": {
      "text/plain": [
       "True"
      ]
     },
     "execution_count": 37,
     "metadata": {},
     "output_type": "execute_result"
    }
   ],
   "source": [
    "np.allclose(ap.dV(0),rotate_matrix(rm.T@ap.dV(2)@rm,Benz,0,ref_site=2),atol=1e-3)"
   ]
  },
  {
   "cell_type": "code",
   "execution_count": 38,
   "metadata": {},
   "outputs": [],
   "source": [
    "dm0=BenzHF.make_rdm1()"
   ]
  },
  {
   "cell_type": "code",
   "execution_count": 41,
   "metadata": {},
   "outputs": [
    {
     "data": {
      "text/plain": [
       "True"
      ]
     },
     "execution_count": 41,
     "metadata": {},
     "output_type": "execute_result"
    }
   ],
   "source": [
    "np.allclose(dm0,rotate_matrix(rm.T@dm0@rm,Benz,0,ref_site=2),atol=1e-4)"
   ]
  },
  {
   "cell_type": "code",
   "execution_count": null,
   "metadata": {},
   "outputs": [],
   "source": []
  },
  {
   "cell_type": "code",
   "execution_count": 131,
   "metadata": {},
   "outputs": [],
   "source": [
    "pt=Benz.aoslice_by_atom()[0,-2]\n",
    "rpt=Benz.aoslice_by_atom()[2,-2]"
   ]
  },
  {
   "cell_type": "code",
   "execution_count": null,
   "metadata": {
    "scrolled": true
   },
   "outputs": [],
   "source": [
    "BenzHF.make_rdm1()[pt:pt+5,pt:pt+5],BenzHF.make_rdm1()[rpt:rpt+5,rpt:rpt+5]"
   ]
  },
  {
   "cell_type": "code",
   "execution_count": null,
   "metadata": {},
   "outputs": [],
   "source": [
    "np.cos(np.pi/3)*0.0191,np.sin(np.pi/3)*0.0191"
   ]
  },
  {
   "cell_type": "code",
   "execution_count": null,
   "metadata": {},
   "outputs": [],
   "source": [
    "np.array((0,0,1))"
   ]
  },
  {
   "cell_type": "code",
   "execution_count": null,
   "metadata": {},
   "outputs": [],
   "source": [
    "coords=Benz.atom_coords()"
   ]
  },
  {
   "cell_type": "code",
   "execution_count": null,
   "metadata": {},
   "outputs": [],
   "source": [
    "#symm.Dmatrix.get_euler_angles(coords[0],coords[2])"
   ]
  },
  {
   "cell_type": "code",
   "execution_count": null,
   "metadata": {},
   "outputs": [],
   "source": [
    "#symm.geom.detect_symm(Benz.atom_and_coords())"
   ]
  },
  {
   "cell_type": "code",
   "execution_count": null,
   "metadata": {},
   "outputs": [],
   "source": [
    "AP.mo1(2).shape"
   ]
  },
  {
   "cell_type": "code",
   "execution_count": null,
   "metadata": {},
   "outputs": [],
   "source": [
    "bsym=benz_Symm(Benz)"
   ]
  },
  {
   "cell_type": "code",
   "execution_count": null,
   "metadata": {},
   "outputs": [],
   "source": [
    "bsym.eqs"
   ]
  },
  {
   "cell_type": "code",
   "execution_count": null,
   "metadata": {},
   "outputs": [],
   "source": [
    "coords=Benz.atom_coords()"
   ]
  },
  {
   "cell_type": "code",
   "execution_count": null,
   "metadata": {},
   "outputs": [],
   "source": [
    "coords[::]"
   ]
  },
  {
   "cell_type": "code",
   "execution_count": null,
   "metadata": {},
   "outputs": [],
   "source": [
    "rotate_grad(bsym.eqs[4]['op'].apply(coords),4,ref_site=0)"
   ]
  },
  {
   "cell_type": "code",
   "execution_count": null,
   "metadata": {},
   "outputs": [],
   "source": [
    "rotate_grad(bsym.eqs[6]['op'].apply(AP.af(0)),6)"
   ]
  },
  {
   "cell_type": "code",
   "execution_count": null,
   "metadata": {},
   "outputs": [],
   "source": [
    "AP.af(6)"
   ]
  },
  {
   "cell_type": "code",
   "execution_count": null,
   "metadata": {},
   "outputs": [],
   "source": [
    "np.allclose(rotate_grad(bsym.eqs[6]['op'].apply(AP.af(0)),6),AP.af(6))"
   ]
  }
 ],
 "metadata": {
  "kernelspec": {
   "display_name": "Python 3",
   "language": "python",
   "name": "python3"
  },
  "language_info": {
   "codemirror_mode": {
    "name": "ipython",
    "version": 3
   },
   "file_extension": ".py",
   "mimetype": "text/x-python",
   "name": "python",
   "nbconvert_exporter": "python",
   "pygments_lexer": "ipython3",
   "version": "3.7.3"
  }
 },
 "nbformat": 4,
 "nbformat_minor": 2
}
