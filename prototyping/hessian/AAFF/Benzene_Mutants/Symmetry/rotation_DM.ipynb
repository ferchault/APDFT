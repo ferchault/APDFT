{
 "cells": [
  {
   "cell_type": "code",
   "execution_count": 1,
   "metadata": {},
   "outputs": [],
   "source": [
    "import inspect\n",
    "import sys\n",
    "sys.path.append(\"/home/administrator/Documenti/APDFT/prototyping/hessian/AAFF/Libs/\")\n",
    "from aaff import aaff,alc_deriv_grad_nuc,alc_differential_grad_nuc\n",
    "from FcMole import FcM\n",
    "from pyscf import gto,scf\n",
    "import numpy as np \n",
    "from numpy.linalg import norm as norm\n",
    "from scipy.spatial.transform import Rotation as R\n",
    "import matplotlib.pyplot as plt\n",
    "from pyscf.grad import rhf as grhf\n",
    "from pyscf.hessian import rhf as hrhf\n",
    "import basis_set_exchange as bse\n",
    "from FDcoeffs import *\n",
    "from pyscf.geomopt.berny_solver import optimize\n",
    "ang2bohr=1.8897261246\n",
    "bohr2ang=.5291772109\n",
    "%load_ext autoreload\n",
    "%autoreload 2\n",
    "from AP_class import alch_deriv,first_deriv_nuc_nuc,second_deriv_nuc_nuc\n",
    "from AP_symmetry import benz_Symm"
   ]
  },
  {
   "cell_type": "code",
   "execution_count": 2,
   "metadata": {},
   "outputs": [],
   "source": [
    "benz_atom=\"\"\" \n",
    "C         6.95191249e-13  2.61173060e+00 -1.67580194e-08 ;\n",
    "H         2.83052087e-13  4.63941350e+00 -1.15976219e-08 ;\n",
    "C         2.26182505e+00  1.30586530e+00 -2.37508246e-08 ; \n",
    "H         4.01784995e+00  2.31970675e+00 -9.84687205e-09 ; \n",
    "C         2.26182505e+00 -1.30586530e+00  8.26065094e-09 ; \n",
    "H         4.01784995e+00 -2.31970675e+00  5.83890508e-08 ; \n",
    "C        -8.45954456e-13 -2.61173060e+00 -1.55922267e-08 ; \n",
    "H         1.49445304e-12 -4.63941350e+00 -3.26774154e-08 ; \n",
    "C        -2.26182505e+00 -1.30586530e+00 -8.28266973e-09 ; \n",
    "H        -4.01784995e+00 -2.31970675e+00  1.87236306e-09 ; \n",
    "C        -2.26182505e+00  1.30586530e+00  1.68546675e-08 ; \n",
    "H        -4.01784995e+00  2.31970675e+00  3.31289175e-08 ; \n",
    "\"\"\"\n",
    "Benz = gto.M(atom=benz_atom,unit='bohr',basis={\"H\":\"sto-3g\",\"C\":\"cc-pvtz\"},symmetry = 'D6v') #basis={\"H\":\"pc-2\",'C':bse.get_basis(\"pcX-2\",fmt=\"nwchem\",elements=[6])})"
   ]
  },
  {
   "cell_type": "code",
   "execution_count": 3,
   "metadata": {},
   "outputs": [
    {
     "name": "stdout",
     "output_type": "stream",
     "text": [
      "converged SCF energy = -230.743864823779\n"
     ]
    },
    {
     "data": {
      "text/plain": [
       "-230.7438648237786"
      ]
     },
     "execution_count": 3,
     "metadata": {},
     "output_type": "execute_result"
    }
   ],
   "source": [
    "BenzHF=scf.RHF(Benz)\n",
    "BenzHF.scf()"
   ]
  },
  {
   "cell_type": "code",
   "execution_count": 4,
   "metadata": {},
   "outputs": [],
   "source": [
    "C=BenzHF.mo_coeff\n",
    "S=BenzHF.get_ovlp()"
   ]
  },
  {
   "cell_type": "code",
   "execution_count": 5,
   "metadata": {},
   "outputs": [],
   "source": [
    "O=np.diag(BenzHF.mo_occ)"
   ]
  },
  {
   "cell_type": "code",
   "execution_count": 6,
   "metadata": {},
   "outputs": [
    {
     "data": {
      "text/plain": [
       "array([[ 1.00000000e+00,  6.97616335e-17, -2.95843197e-17, ...,\n",
       "         4.29344060e-15,  1.09991009e-13,  1.43982049e-15],\n",
       "       [-2.60494819e-16,  1.00000000e+00,  1.12867479e-15, ...,\n",
       "        -1.40517806e-13, -3.03576608e-16, -1.86675328e-12],\n",
       "       [ 6.62684697e-17,  1.47864339e-15,  1.00000000e+00, ...,\n",
       "        -1.86482774e-17, -5.34641775e-14,  3.42911463e-15],\n",
       "       ...,\n",
       "       [ 3.06272111e-15, -1.40284234e-13,  3.89072038e-16, ...,\n",
       "         1.00000000e+00,  3.08916683e-13, -9.76536289e-14],\n",
       "       [ 1.10079772e-13,  3.60568903e-16, -5.41120682e-14, ...,\n",
       "         2.97660497e-13,  1.00000000e+00,  6.71783592e-14],\n",
       "       [ 1.10623826e-16, -1.86655093e-12,  2.01339033e-15, ...,\n",
       "        -5.59263465e-14,  3.64941367e-14,  1.00000000e+00]])"
      ]
     },
     "execution_count": 6,
     "metadata": {},
     "output_type": "execute_result"
    }
   ],
   "source": [
    "C.T@S@C"
   ]
  },
  {
   "cell_type": "code",
   "execution_count": 7,
   "metadata": {},
   "outputs": [],
   "source": [
    "from AP_symmetry import rotate_grad,rotate_matrix"
   ]
  },
  {
   "cell_type": "code",
   "execution_count": 8,
   "metadata": {},
   "outputs": [],
   "source": [
    "from scipy.spatial.transform import Rotation as R"
   ]
  },
  {
   "cell_type": "code",
   "execution_count": 9,
   "metadata": {},
   "outputs": [],
   "source": [
    "import itertools\n",
    "%autoreload 2\n",
    "from AP_class import DeltaV,parse_charge,alchemy_cphf_deriv,make_dP\n",
    "from AP_class import APDFT_perturbator as AP\n",
    "from pyscf.symm.basis import _ao_rotation_matrices as aorm"
   ]
  },
  {
   "cell_type": "code",
   "execution_count": 146,
   "metadata": {},
   "outputs": [],
   "source": [
    "bs=benz_Symm(Benz)"
   ]
  },
  {
   "cell_type": "code",
   "execution_count": 195,
   "metadata": {},
   "outputs": [],
   "source": [
    "ap=AP(BenzHF,sites=[0,2,4,6],symm=bs)\n",
    "ap.build_all()"
   ]
  },
  {
   "cell_type": "code",
   "execution_count": 200,
   "metadata": {},
   "outputs": [
    {
     "data": {
      "text/plain": [
       "-262.7307913112914"
      ]
     },
     "execution_count": 200,
     "metadata": {},
     "output_type": "execute_result"
    }
   ],
   "source": [
    "ap.APDFT3([1,0,1,0])"
   ]
  },
  {
   "cell_type": "code",
   "execution_count": 201,
   "metadata": {},
   "outputs": [
    {
     "data": {
      "text/plain": [
       "-262.7307913112914"
      ]
     },
     "execution_count": 201,
     "metadata": {},
     "output_type": "execute_result"
    }
   ],
   "source": [
    "ap.APDFT3([0,1,0,1])"
   ]
  },
  {
   "cell_type": "code",
   "execution_count": 202,
   "metadata": {},
   "outputs": [
    {
     "data": {
      "text/plain": [
       "array([[-2.77779377,  0.28468546,  0.20763277,  0.22598709],\n",
       "       [ 0.28468546, -2.77779377,  0.28468546,  0.20763277],\n",
       "       [ 0.20763277,  0.28468546, -2.77779377,  0.28468546],\n",
       "       [ 0.22598709,  0.20763277,  0.28468546, -2.77779377]])"
      ]
     },
     "execution_count": 202,
     "metadata": {},
     "output_type": "execute_result"
    }
   ],
   "source": [
    "ap.hessian"
   ]
  },
  {
   "cell_type": "code",
   "execution_count": 203,
   "metadata": {},
   "outputs": [
    {
     "data": {
      "text/plain": [
       "array([[0.        , 0.38288788, 0.22106042],\n",
       "       [0.38288788, 0.        , 0.38288788],\n",
       "       [0.22106042, 0.38288788, 0.        ]])"
      ]
     },
     "execution_count": 203,
     "metadata": {},
     "output_type": "execute_result"
    }
   ],
   "source": [
    "ap.hessian_nuc_nuc(0,2,4)"
   ]
  },
  {
   "cell_type": "code",
   "execution_count": 204,
   "metadata": {},
   "outputs": [],
   "source": [
    "dV=DeltaV(Benz,[[0],[1]])"
   ]
  },
  {
   "cell_type": "code",
   "execution_count": 205,
   "metadata": {},
   "outputs": [
    {
     "data": {
      "text/plain": [
       "(array([[-0.5      , -0.8660254,  0.       ],\n",
       "        [ 0.8660254, -0.5      ,  0.       ],\n",
       "        [ 0.       ,  0.       ,  1.       ]]),\n",
       " array([[ 0.5      , -0.8660254,  0.       ],\n",
       "        [ 0.8660254,  0.5      ,  0.       ],\n",
       "        [ 0.       ,  0.       ,  1.       ]]))"
      ]
     },
     "execution_count": 205,
     "metadata": {},
     "output_type": "execute_result"
    }
   ],
   "source": [
    "axis=np.asarray([0,0,1])\n",
    "R.from_rotvec(axis*np.pi/3*(2)).as_dcm(),rm_p"
   ]
  },
  {
   "cell_type": "code",
   "execution_count": 206,
   "metadata": {},
   "outputs": [],
   "source": [
    "p_idxs=[i for i,elem in enumerate(Benz.ao_labels()) if  \"px\" in elem]\n",
    "d_idxs=[i for i,elem in enumerate(Benz.ao_labels()) if  \"dxy\" in elem]\n",
    "f_idxs=[i for i,elem in enumerate(Benz.ao_labels()) if  \"fy^3\" in elem]"
   ]
  },
  {
   "cell_type": "code",
   "execution_count": 207,
   "metadata": {},
   "outputs": [],
   "source": [
    "ang=np.pi/3\n",
    "rm_p=np.asarray([[np.cos(ang),-np.sin(ang),0],\\\n",
    "                 [np.sin(ang),np.cos(ang),0],\\\n",
    "                [0,0,1]])\n",
    "s_rm,p_rm,d_rm,f_rm=aorm(Benz,rm_p)"
   ]
  },
  {
   "cell_type": "code",
   "execution_count": 208,
   "metadata": {},
   "outputs": [],
   "source": [
    "rm=np.eye(Benz.nao)\n",
    "for i in p_idxs:\n",
    "    rm[i:i+3,i:i+3]=p_rm\n",
    "for i in d_idxs:\n",
    "    rm[i:i+5,i:i+5]=d_rm\n",
    "for i in f_idxs:\n",
    "    rm[i:i+7,i:i+7]=f_rm"
   ]
  },
  {
   "cell_type": "code",
   "execution_count": 209,
   "metadata": {},
   "outputs": [
    {
     "data": {
      "text/plain": [
       "True"
      ]
     },
     "execution_count": 209,
     "metadata": {},
     "output_type": "execute_result"
    }
   ],
   "source": [
    "np.allclose(bs.make_RM(2,0),rm.T)"
   ]
  },
  {
   "cell_type": "code",
   "execution_count": 210,
   "metadata": {},
   "outputs": [
    {
     "data": {
      "text/plain": [
       "True"
      ]
     },
     "execution_count": 210,
     "metadata": {},
     "output_type": "execute_result"
    }
   ],
   "source": [
    "np.allclose(ap.dV(0),rotate_matrix(rm.T@ap.dV(2)@rm,Benz,0,ref_site=2),atol=1e-3)"
   ]
  },
  {
   "cell_type": "code",
   "execution_count": 211,
   "metadata": {},
   "outputs": [],
   "source": [
    "dm0=BenzHF.make_rdm1()"
   ]
  },
  {
   "cell_type": "code",
   "execution_count": 212,
   "metadata": {},
   "outputs": [
    {
     "data": {
      "text/plain": [
       "True"
      ]
     },
     "execution_count": 212,
     "metadata": {},
     "output_type": "execute_result"
    }
   ],
   "source": [
    "np.allclose(dm0,rotate_matrix(rm@dm0@rm.T,Benz,2,ref_site=0),atol=1e-4)"
   ]
  },
  {
   "cell_type": "code",
   "execution_count": 213,
   "metadata": {},
   "outputs": [
    {
     "data": {
      "text/plain": [
       "(186, 21)"
      ]
     },
     "execution_count": 213,
     "metadata": {},
     "output_type": "execute_result"
    }
   ],
   "source": [
    "ap.mo1(0).shape"
   ]
  },
  {
   "cell_type": "code",
   "execution_count": 214,
   "metadata": {},
   "outputs": [],
   "source": [
    "#symm.Dmatrix.get_euler_angles(coords[0],coords[2])"
   ]
  },
  {
   "cell_type": "code",
   "execution_count": 215,
   "metadata": {},
   "outputs": [],
   "source": [
    "#symm.geom.detect_symm(Benz.atom_and_coords())"
   ]
  },
  {
   "cell_type": "code",
   "execution_count": 216,
   "metadata": {},
   "outputs": [
    {
     "data": {
      "text/plain": [
       "True"
      ]
     },
     "execution_count": 216,
     "metadata": {},
     "output_type": "execute_result"
    }
   ],
   "source": [
    "np.allclose(ap.e1(0),(C.T@S@rotate_matrix(rm.T@(C[:,:21]@ap.e1(2)@C.T[:21,:])@rm,Benz,0,ref_site=2)@S@C)[:21,:21],atol=1e-3)"
   ]
  },
  {
   "cell_type": "code",
   "execution_count": 217,
   "metadata": {},
   "outputs": [
    {
     "data": {
      "text/plain": [
       "True"
      ]
     },
     "execution_count": 217,
     "metadata": {},
     "output_type": "execute_result"
    }
   ],
   "source": [
    "np.allclose(ap.mo1(0),(C.T@S@rotate_matrix(rm.T@(C@ap.mo1(2)@C.T[:21,:])@rm,Benz,0,ref_site=2)@S@C)[:,:21],atol=1e-3)"
   ]
  },
  {
   "cell_type": "code",
   "execution_count": 218,
   "metadata": {},
   "outputs": [
    {
     "data": {
      "text/plain": [
       "True"
      ]
     },
     "execution_count": 218,
     "metadata": {},
     "output_type": "execute_result"
    }
   ],
   "source": [
    "np.allclose(ap.mo1(2),(C.T@S@rotate_matrix(rm@(C@ap.mo1(0)@C.T[:21,:])@rm.T,Benz,2,ref_site=0)@S@C)[:,:21],atol=1e-3)"
   ]
  },
  {
   "cell_type": "code",
   "execution_count": 219,
   "metadata": {},
   "outputs": [
    {
     "data": {
      "text/plain": [
       "True"
      ]
     },
     "execution_count": 219,
     "metadata": {},
     "output_type": "execute_result"
    }
   ],
   "source": [
    "np.allclose(ap.mo1(2),bs.rotate_mo1e1(ap.mo1(0),ap.e1(0),2,0,C,S)[0],atol=1e-6)"
   ]
  },
  {
   "cell_type": "code",
   "execution_count": null,
   "metadata": {},
   "outputs": [],
   "source": []
  }
 ],
 "metadata": {
  "kernelspec": {
   "display_name": "Python 3",
   "language": "python",
   "name": "python3"
  },
  "language_info": {
   "codemirror_mode": {
    "name": "ipython",
    "version": 3
   },
   "file_extension": ".py",
   "mimetype": "text/x-python",
   "name": "python",
   "nbconvert_exporter": "python",
   "pygments_lexer": "ipython3",
   "version": "3.7.3"
  }
 },
 "nbformat": 4,
 "nbformat_minor": 2
}
