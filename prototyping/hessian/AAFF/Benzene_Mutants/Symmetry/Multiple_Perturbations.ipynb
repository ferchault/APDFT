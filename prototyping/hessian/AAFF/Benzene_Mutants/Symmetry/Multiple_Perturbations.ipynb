{
 "cells": [
  {
   "cell_type": "code",
   "execution_count": 1,
   "metadata": {},
   "outputs": [],
   "source": [
    "import inspect\n",
    "import sys\n",
    "sys.path.append(\"/home/administrator/Documenti/APDFT/prototyping/hessian/AAFF/Libs/\")\n",
    "from aaff import aaff,alc_deriv_grad_nuc,alc_differential_grad_nuc\n",
    "from FcMole import FcM\n",
    "from pyscf import gto,scf\n",
    "import numpy as np \n",
    "from numpy.linalg import norm as norm\n",
    "from scipy.spatial.transform import Rotation as R\n",
    "import matplotlib.pyplot as plt\n",
    "from pyscf.grad import rhf as grhf\n",
    "from pyscf.hessian import rhf as hrhf\n",
    "import basis_set_exchange as bse\n",
    "from FDcoeffs import *\n",
    "from pyscf.geomopt.berny_solver import optimize\n",
    "ang2bohr=1.8897261246\n",
    "bohr2ang=.5291772109\n",
    "%load_ext autoreload\n",
    "%autoreload 2\n",
    "from AP_class import alch_deriv,first_deriv_nuc_nuc,second_deriv_nuc_nuc\n",
    "from AP_symmetry import benz_Symm"
   ]
  },
  {
   "cell_type": "code",
   "execution_count": 2,
   "metadata": {},
   "outputs": [],
   "source": [
    "benz_atom=\"\"\" \n",
    "C         6.95191249e-13  2.61173060e+00 -1.67580194e-08 ;\n",
    "H         2.83052087e-13  4.63941350e+00 -1.15976219e-08 ;\n",
    "C         2.26182505e+00  1.30586530e+00 -2.37508246e-08 ; \n",
    "H         4.01784995e+00  2.31970675e+00 -9.84687205e-09 ; \n",
    "C         2.26182505e+00 -1.30586530e+00  8.26065094e-09 ; \n",
    "H         4.01784995e+00 -2.31970675e+00  5.83890508e-08 ; \n",
    "C        -8.45954456e-13 -2.61173060e+00 -1.55922267e-08 ; \n",
    "H         1.49445304e-12 -4.63941350e+00 -3.26774154e-08 ; \n",
    "C        -2.26182505e+00 -1.30586530e+00 -8.28266973e-09 ; \n",
    "H        -4.01784995e+00 -2.31970675e+00  1.87236306e-09 ; \n",
    "C        -2.26182505e+00  1.30586530e+00  1.68546675e-08 ; \n",
    "H        -4.01784995e+00  2.31970675e+00  3.31289175e-08 ; \n",
    "\"\"\"\n",
    "Benz = gto.M(atom=benz_atom,unit='bohr',basis='sto-3g',symmetry = 'D6v') #basis={\"H\":\"pc-2\",'C':bse.get_basis(\"pcX-2\",fmt=\"nwchem\",elements=[6])})"
   ]
  },
  {
   "cell_type": "code",
   "execution_count": 3,
   "metadata": {},
   "outputs": [],
   "source": [
    "BenzHF=scf.RHF(Benz)"
   ]
  },
  {
   "cell_type": "code",
   "execution_count": 4,
   "metadata": {},
   "outputs": [
    {
     "name": "stdout",
     "output_type": "stream",
     "text": [
      "converged SCF energy = -227.890711338274\n",
      "CPU times: user 1.25 s, sys: 39.1 ms, total: 1.29 s\n",
      "Wall time: 466 ms\n"
     ]
    },
    {
     "data": {
      "text/plain": [
       "-227.8907113382736"
      ]
     },
     "execution_count": 4,
     "metadata": {},
     "output_type": "execute_result"
    }
   ],
   "source": [
    "%time BenzHF.scf()"
   ]
  },
  {
   "cell_type": "code",
   "execution_count": 5,
   "metadata": {
    "scrolled": true
   },
   "outputs": [
    {
     "name": "stdout",
     "output_type": "stream",
     "text": [
      "CPU times: user 279 ms, sys: 23.4 ms, total: 302 ms\n",
      "Wall time: 97.8 ms\n"
     ]
    },
    {
     "data": {
      "text/plain": [
       "(-14.55480844327413, -1.079627074618507, 0.2602164525966672)"
      ]
     },
     "execution_count": 5,
     "metadata": {},
     "output_type": "execute_result"
    }
   ],
   "source": [
    "%time d1,d2,d3= alch_deriv(BenzHF,[[0],[1]])\n",
    "d1,d2,d3"
   ]
  },
  {
   "cell_type": "code",
   "execution_count": 6,
   "metadata": {},
   "outputs": [
    {
     "name": "stdout",
     "output_type": "stream",
     "text": [
      "converged SCF energy = -227.890711338273\n"
     ]
    }
   ],
   "source": [
    "dl=1e-3\n",
    "fdhf1=scf.RHF(FcM(fcs=[[0,3],[dl,dl]],atom=benz_atom,unit='bohr',basis='sto-3g',verbose=1))\n",
    "e1=fdhf1.scf()\n",
    "fdhf2=scf.RHF(FcM(fcs=[[0,3],[-dl,-dl]],atom=benz_atom,unit='bohr',basis='sto-3g',verbose=1))\n",
    "e2=fdhf2.scf()\n",
    "e0=BenzHF.scf()"
   ]
  },
  {
   "cell_type": "code",
   "execution_count": 7,
   "metadata": {},
   "outputs": [],
   "source": [
    "fdhf3=scf.RHF(FcM(fcs=[[0,3],[2*dl,2*dl]],atom=benz_atom,unit='bohr',basis='sto-3g',verbose=1))\n",
    "e3=fdhf3.scf()\n",
    "fdhf4=scf.RHF(FcM(fcs=[[0,3],[-2*dl,-2*dl]],atom=benz_atom,unit='bohr',basis='sto-3g',verbose=1))\n",
    "e4=fdhf4.scf()"
   ]
  },
  {
   "cell_type": "code",
   "execution_count": 8,
   "metadata": {},
   "outputs": [
    {
     "data": {
      "text/plain": [
       "(-15.697750917723852, -1.2082362559340254, 0.18114576505467994)"
      ]
     },
     "execution_count": 8,
     "metadata": {},
     "output_type": "execute_result"
    }
   ],
   "source": [
    "(e1-e2)/2/dl,(e1+e2-2*e0)/dl**2,(e3/2-e1+e2-e4/2)/dl**3"
   ]
  },
  {
   "cell_type": "code",
   "execution_count": 9,
   "metadata": {},
   "outputs": [
    {
     "name": "stdout",
     "output_type": "stream",
     "text": [
      "CPU times: user 319 ms, sys: 43.7 ms, total: 362 ms\n",
      "Wall time: 122 ms\n"
     ]
    },
    {
     "data": {
      "text/plain": [
       "(-15.69775094105993, -1.2082383098489955, 0.180764323767294)"
      ]
     },
     "execution_count": 9,
     "metadata": {},
     "output_type": "execute_result"
    }
   ],
   "source": [
    "%time d1,d2,d3= alch_deriv(BenzHF,[[0,3],[1,1]])\n",
    "d1,d2,d3"
   ]
  },
  {
   "cell_type": "code",
   "execution_count": 10,
   "metadata": {},
   "outputs": [
    {
     "name": "stdout",
     "output_type": "stream",
     "text": [
      "CPU times: user 11.2 s, sys: 131 ms, total: 11.3 s\n",
      "Wall time: 8.57 s\n"
     ]
    }
   ],
   "source": [
    "%time af1= aaff(BenzHF,[1,0,0,0,0,0,0,0,0,0,0,0,0])"
   ]
  },
  {
   "cell_type": "code",
   "execution_count": 11,
   "metadata": {},
   "outputs": [
    {
     "data": {
      "text/plain": [
       "'D6v'"
      ]
     },
     "execution_count": 11,
     "metadata": {},
     "output_type": "execute_result"
    }
   ],
   "source": [
    "Benz.symmetry"
   ]
  },
  {
   "cell_type": "code",
   "execution_count": 12,
   "metadata": {},
   "outputs": [],
   "source": [
    "from AP_symmetry import rotate_grad,rotate_matrix"
   ]
  },
  {
   "cell_type": "code",
   "execution_count": 13,
   "metadata": {},
   "outputs": [
    {
     "data": {
      "text/plain": [
       "array([[ 2.96057623e-12, -8.58254608e+00,  7.79752832e-08],\n",
       "       [ 2.76043077e-13, -2.54741647e+00, -1.14081458e-09],\n",
       "       [-7.43270294e+00, -4.29127305e+00,  1.21872018e-07],\n",
       "       [-2.20612738e+00, -1.27370824e+00, -7.74666156e-09],\n",
       "       [-7.43270294e+00,  4.29127305e+00, -9.64438761e-08],\n",
       "       [-2.20612738e+00,  1.27370824e+00, -5.62362280e-08],\n",
       "       [-2.33539577e-12,  8.58254608e+00,  6.95524577e-08],\n",
       "       [-1.72069303e-12,  2.54741647e+00,  2.13607535e-08],\n",
       "       [ 7.43270294e+00,  4.29127305e+00,  4.55789859e-08],\n",
       "       [ 2.20612738e+00,  1.27370824e+00, -8.18970519e-09],\n",
       "       [ 7.43270294e+00, -4.29127305e+00, -1.42698422e-07],\n",
       "       [ 2.20612738e+00, -1.27370824e+00, -2.38837909e-08]])"
      ]
     },
     "execution_count": 13,
     "metadata": {},
     "output_type": "execute_result"
    }
   ],
   "source": [
    "g=BenzHF.Gradients().grad_nuc()\n",
    "g"
   ]
  },
  {
   "cell_type": "code",
   "execution_count": 14,
   "metadata": {},
   "outputs": [
    {
     "data": {
      "text/plain": [
       "array([[ 7.43270294e+00, -4.29127305e+00, -1.42698422e-07],\n",
       "       [ 2.20612738e+00, -1.27370824e+00, -2.38837909e-08],\n",
       "       [ 2.96057623e-12, -8.58254608e+00,  7.79752832e-08],\n",
       "       [ 2.76043077e-13, -2.54741647e+00, -1.14081458e-09],\n",
       "       [-7.43270294e+00, -4.29127305e+00,  1.21872018e-07],\n",
       "       [-2.20612738e+00, -1.27370824e+00, -7.74666156e-09],\n",
       "       [-7.43270294e+00,  4.29127305e+00, -9.64438761e-08],\n",
       "       [-2.20612738e+00,  1.27370824e+00, -5.62362280e-08],\n",
       "       [-2.33539577e-12,  8.58254608e+00,  6.95524577e-08],\n",
       "       [-1.72069303e-12,  2.54741647e+00,  2.13607535e-08],\n",
       "       [ 7.43270294e+00,  4.29127305e+00,  4.55789859e-08],\n",
       "       [ 2.20612738e+00,  1.27370824e+00, -8.18970519e-09]])"
      ]
     },
     "execution_count": 14,
     "metadata": {},
     "output_type": "execute_result"
    }
   ],
   "source": [
    "rotate_grad(g,2)"
   ]
  },
  {
   "cell_type": "code",
   "execution_count": 15,
   "metadata": {},
   "outputs": [],
   "source": [
    "from scipy.spatial.transform import Rotation as R"
   ]
  },
  {
   "cell_type": "code",
   "execution_count": 16,
   "metadata": {},
   "outputs": [],
   "source": [
    "rv=-np.asarray([0,0,1])*np.pi*2/3\n",
    "r = R.from_rotvec(rv)"
   ]
  },
  {
   "cell_type": "code",
   "execution_count": 17,
   "metadata": {},
   "outputs": [
    {
     "data": {
      "text/plain": [
       "True"
      ]
     },
     "execution_count": 17,
     "metadata": {},
     "output_type": "execute_result"
    }
   ],
   "source": [
    "np.allclose(rotate_grad(r.apply(g),4),g,atol=1e-6)"
   ]
  },
  {
   "cell_type": "code",
   "execution_count": 18,
   "metadata": {},
   "outputs": [],
   "source": [
    "np.set_printoptions(precision=3,suppress=True)"
   ]
  },
  {
   "cell_type": "markdown",
   "metadata": {},
   "source": [
    "## Symmetry operations for Benzene $D_{6h}$ axis \n",
    "I need to <br>\n",
    "1) dP (i) -> rotate dP (0/1) <br>\n",
    "2) af(i) = rotate af (0/1)<br>\n",
    "3) dV(i) =rotate dV(0/1)<br>"
   ]
  },
  {
   "cell_type": "code",
   "execution_count": 19,
   "metadata": {},
   "outputs": [],
   "source": [
    "import itertools\n",
    "%autoreload 2\n",
    "from AP_class import DeltaV,parse_charge,alchemy_cphf_deriv,make_dP\n",
    "from AP_class import APDFT_perturbator as AP"
   ]
  },
  {
   "cell_type": "code",
   "execution_count": 20,
   "metadata": {},
   "outputs": [],
   "source": [
    "bs=benz_Symm(BenzHF)"
   ]
  },
  {
   "cell_type": "code",
   "execution_count": 21,
   "metadata": {},
   "outputs": [],
   "source": [
    "ap=AP(BenzHF,sites=[1,2,0],symm=bs)"
   ]
  },
  {
   "cell_type": "code",
   "execution_count": 22,
   "metadata": {},
   "outputs": [
    {
     "name": "stdout",
     "output_type": "stream",
     "text": [
      "No AF found for atom 1. Calculating it from code\n"
     ]
    },
    {
     "data": {
      "text/plain": [
       "(array([[-0.   ,  0.206,  0.   ],\n",
       "        [ 0.   , -0.115, -0.   ],\n",
       "        [-0.021, -0.035, -0.   ],\n",
       "        [-0.001, -0.004, -0.   ],\n",
       "        [ 0.005, -0.   , -0.   ],\n",
       "        [-0.001, -0.005, -0.   ],\n",
       "        [-0.   , -0.006,  0.   ],\n",
       "        [-0.   ,  0.003, -0.   ],\n",
       "        [-0.005, -0.   , -0.   ],\n",
       "        [ 0.001, -0.005, -0.   ],\n",
       "        [ 0.021, -0.035, -0.   ],\n",
       "        [ 0.001, -0.004, -0.   ]]), array([[-0.003,  0.005, -0.   ],\n",
       "        [ 0.005,  0.001, -0.   ],\n",
       "        [ 0.005,  0.003,  0.   ],\n",
       "        [-0.003, -0.002, -0.   ],\n",
       "        [ 0.003, -0.005, -0.   ],\n",
       "        [ 0.004,  0.003, -0.   ],\n",
       "        [ 0.02 ,  0.035, -0.   ],\n",
       "        [ 0.003,  0.003, -0.   ],\n",
       "        [-0.179, -0.103,  0.   ],\n",
       "        [ 0.1  ,  0.058, -0.   ],\n",
       "        [ 0.04 , -0.   , -0.   ],\n",
       "        [ 0.004,  0.001, -0.   ]]))"
      ]
     },
     "execution_count": 22,
     "metadata": {},
     "output_type": "execute_result"
    }
   ],
   "source": [
    "ap.af(1),ap.af(9)"
   ]
  },
  {
   "cell_type": "code",
   "execution_count": 28,
   "metadata": {},
   "outputs": [],
   "source": [
    "ap.sites=[0,2,4,6,8,10]"
   ]
  },
  {
   "cell_type": "code",
   "execution_count": 29,
   "metadata": {},
   "outputs": [],
   "source": [
    "ap.perturb()"
   ]
  },
  {
   "cell_type": "code",
   "execution_count": 30,
   "metadata": {},
   "outputs": [
    {
     "data": {
      "text/plain": [
       "array([[-0.383, -0.095, -0.009, ..., -0.012,  0.   , -0.002],\n",
       "       [-0.095, -0.38 , -0.102, ..., -0.052,  0.   , -0.024],\n",
       "       [-0.009, -0.102, -0.412, ...,  0.055, -0.   ,  0.027],\n",
       "       ...,\n",
       "       [-0.012, -0.052,  0.055, ..., -0.216, -0.   , -0.043],\n",
       "       [ 0.   ,  0.   , -0.   , ..., -0.   , -0.216, -0.   ],\n",
       "       [-0.002, -0.024,  0.027, ..., -0.043, -0.   , -0.157]])"
      ]
     },
     "execution_count": 30,
     "metadata": {},
     "output_type": "execute_result"
    }
   ],
   "source": [
    "ap.dV(2)"
   ]
  },
  {
   "cell_type": "code",
   "execution_count": 31,
   "metadata": {},
   "outputs": [],
   "source": [
    "dV=DeltaV(Benz,[[0],[1]])"
   ]
  },
  {
   "cell_type": "code",
   "execution_count": 32,
   "metadata": {},
   "outputs": [
    {
     "data": {
      "text/plain": [
       "-242.9419639100907"
      ]
     },
     "execution_count": 32,
     "metadata": {},
     "output_type": "execute_result"
    }
   ],
   "source": [
    "ap.build_all()\n",
    "ap.APDFT3([1,0,0,0,0,0])"
   ]
  },
  {
   "cell_type": "code",
   "execution_count": 33,
   "metadata": {},
   "outputs": [
    {
     "data": {
      "text/plain": [
       "-242.94196390984146"
      ]
     },
     "execution_count": 33,
     "metadata": {},
     "output_type": "execute_result"
    }
   ],
   "source": [
    "ap.APDFT3([0,0,1,0,0,0])"
   ]
  },
  {
   "cell_type": "code",
   "execution_count": 54,
   "metadata": {
    "scrolled": false
   },
   "outputs": [
    {
     "data": {
      "text/plain": [
       "array([[ 0.   ,  0.   ,  0.   , -0.066,  0.   ,  0.118,  0.   ,  0.   ,\n",
       "         0.   ,  0.306, -0.   ,  0.026, -0.001, -0.021,  0.072,  0.042,\n",
       "        -0.   , -0.002, -0.   , -0.013,  0.023, -0.012, -0.   , -0.001,\n",
       "        -0.001, -0.026,  0.002, -0.039, -0.   , -0.003, -0.013, -0.095,\n",
       "        -0.111, -0.079,  0.   , -0.017],\n",
       "       [-0.011, -0.118, -0.066,  0.   ,  0.   ,  0.037, -0.186, -0.306,\n",
       "         0.306,  0.   , -0.   , -0.082, -0.002, -0.053,  0.042, -0.072,\n",
       "         0.   , -0.007, -0.   , -0.01 , -0.012, -0.023,  0.   , -0.001,\n",
       "        -0.   , -0.003, -0.039, -0.002,  0.   ,  0.   ,  0.007,  0.034,\n",
       "        -0.079,  0.111,  0.   ,  0.021],\n",
       "       [ 0.   ,  0.   ,  0.   ,  0.   ,  0.   , -0.   ,  0.   ,  0.   ,\n",
       "        -0.   , -0.   ,  0.   ,  0.   ,  0.   ,  0.   , -0.   ,  0.   ,\n",
       "         0.   ,  0.   ,  0.   ,  0.   , -0.   ,  0.   ,  0.   , -0.   ,\n",
       "         0.   ,  0.   , -0.   ,  0.   , -0.   ,  0.   ,  0.   ,  0.   ,\n",
       "         0.   ,  0.   , -0.   ,  0.   ]])"
      ]
     },
     "execution_count": 54,
     "metadata": {},
     "output_type": "execute_result"
    }
   ],
   "source": [
    "(rotate_matrix(dV,Benz,2,ref_site=0)-ap.dV(2))[2:5]"
   ]
  },
  {
   "cell_type": "code",
   "execution_count": 62,
   "metadata": {},
   "outputs": [],
   "source": [
    "p_idxs=[i for i,elem in enumerate(Benz.ao_labels()) if  \"px\" in elem]"
   ]
  },
  {
   "cell_type": "code",
   "execution_count": 146,
   "metadata": {},
   "outputs": [],
   "source": []
  },
  {
   "cell_type": "code",
   "execution_count": 236,
   "metadata": {},
   "outputs": [],
   "source": [
    "ang=np.pi/3*2\n",
    "rm_p=np.asarray([[np.cos(ang),-np.sin(ang)],\\\n",
    "                 [np.sin(ang),np.cos(ang)]])"
   ]
  },
  {
   "cell_type": "code",
   "execution_count": 237,
   "metadata": {},
   "outputs": [],
   "source": [
    "rm=np.eye(Benz.nao)\n",
    "for i in p_idxs:\n",
    "    rm[i:i+2,i:i+2]=rm_p"
   ]
  },
  {
   "cell_type": "code",
   "execution_count": 238,
   "metadata": {},
   "outputs": [
    {
     "data": {
      "text/plain": [
       "True"
      ]
     },
     "execution_count": 238,
     "metadata": {},
     "output_type": "execute_result"
    }
   ],
   "source": [
    "np.allclose(ap.dV(0),rotate_matrix(rm@ap.dV(4)@rm.T,Benz,0,ref_site=4),atol=1e-3)"
   ]
  },
  {
   "cell_type": "code",
   "execution_count": 239,
   "metadata": {},
   "outputs": [],
   "source": [
    "dm0=BenzHF.make_rdm1()"
   ]
  },
  {
   "cell_type": "code",
   "execution_count": 240,
   "metadata": {},
   "outputs": [
    {
     "data": {
      "text/plain": [
       "True"
      ]
     },
     "execution_count": 240,
     "metadata": {},
     "output_type": "execute_result"
    }
   ],
   "source": [
    "np.allclose(dm0,rotate_matrix(rm@dm0@rm.T,Benz,0,ref_site=4),atol=1e-3)"
   ]
  },
  {
   "cell_type": "code",
   "execution_count": 176,
   "metadata": {},
   "outputs": [],
   "source": [
    "np.set_printoptions(precision=4)"
   ]
  },
  {
   "cell_type": "code",
   "execution_count": 131,
   "metadata": {},
   "outputs": [],
   "source": [
    "pt=Benz.aoslice_by_atom()[0,-2]\n",
    "rpt=Benz.aoslice_by_atom()[2,-2]"
   ]
  },
  {
   "cell_type": "code",
   "execution_count": null,
   "metadata": {
    "scrolled": true
   },
   "outputs": [],
   "source": [
    "BenzHF.make_rdm1()[pt:pt+5,pt:pt+5],BenzHF.make_rdm1()[rpt:rpt+5,rpt:rpt+5]"
   ]
  },
  {
   "cell_type": "code",
   "execution_count": null,
   "metadata": {},
   "outputs": [],
   "source": [
    "np.cos(np.pi/3)*0.0191,np.sin(np.pi/3)*0.0191"
   ]
  },
  {
   "cell_type": "code",
   "execution_count": null,
   "metadata": {},
   "outputs": [],
   "source": [
    "np.array((0,0,1))"
   ]
  },
  {
   "cell_type": "code",
   "execution_count": null,
   "metadata": {},
   "outputs": [],
   "source": [
    "coords=Benz.atom_coords()"
   ]
  },
  {
   "cell_type": "code",
   "execution_count": null,
   "metadata": {},
   "outputs": [],
   "source": [
    "#symm.Dmatrix.get_euler_angles(coords[0],coords[2])"
   ]
  },
  {
   "cell_type": "code",
   "execution_count": null,
   "metadata": {},
   "outputs": [],
   "source": [
    "#symm.geom.detect_symm(Benz.atom_and_coords())"
   ]
  },
  {
   "cell_type": "code",
   "execution_count": null,
   "metadata": {},
   "outputs": [],
   "source": [
    "AP.mo1(2).shape"
   ]
  },
  {
   "cell_type": "code",
   "execution_count": null,
   "metadata": {},
   "outputs": [],
   "source": [
    "bsym=benz_Symm(Benz)"
   ]
  },
  {
   "cell_type": "code",
   "execution_count": null,
   "metadata": {},
   "outputs": [],
   "source": [
    "bsym.eqs"
   ]
  },
  {
   "cell_type": "code",
   "execution_count": null,
   "metadata": {},
   "outputs": [],
   "source": [
    "coords=Benz.atom_coords()"
   ]
  },
  {
   "cell_type": "code",
   "execution_count": null,
   "metadata": {},
   "outputs": [],
   "source": [
    "coords[::]"
   ]
  },
  {
   "cell_type": "code",
   "execution_count": null,
   "metadata": {},
   "outputs": [],
   "source": [
    "rotate_grad(bsym.eqs[4]['op'].apply(coords),4,ref_site=0)"
   ]
  },
  {
   "cell_type": "code",
   "execution_count": null,
   "metadata": {},
   "outputs": [],
   "source": [
    "rotate_grad(bsym.eqs[6]['op'].apply(AP.af(0)),6)"
   ]
  },
  {
   "cell_type": "code",
   "execution_count": null,
   "metadata": {},
   "outputs": [],
   "source": [
    "AP.af(6)"
   ]
  },
  {
   "cell_type": "code",
   "execution_count": null,
   "metadata": {},
   "outputs": [],
   "source": [
    "np.allclose(rotate_grad(bsym.eqs[6]['op'].apply(AP.af(0)),6),AP.af(6))"
   ]
  }
 ],
 "metadata": {
  "kernelspec": {
   "display_name": "Python 3",
   "language": "python",
   "name": "python3"
  },
  "language_info": {
   "codemirror_mode": {
    "name": "ipython",
    "version": 3
   },
   "file_extension": ".py",
   "mimetype": "text/x-python",
   "name": "python",
   "nbconvert_exporter": "python",
   "pygments_lexer": "ipython3",
   "version": "3.7.3"
  }
 },
 "nbformat": 4,
 "nbformat_minor": 2
}
