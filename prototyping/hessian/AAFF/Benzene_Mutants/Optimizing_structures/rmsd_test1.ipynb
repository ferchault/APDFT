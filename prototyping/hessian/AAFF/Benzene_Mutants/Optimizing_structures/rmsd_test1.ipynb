{
 "cells": [
  {
   "cell_type": "code",
   "execution_count": 1,
   "metadata": {},
   "outputs": [],
   "source": [
    "import rmsd\n",
    "import numpy as np\n",
    "from pyscf import gto,scf\n",
    "import basis_set_exchange as bse\n",
    "ang2bohr=1.8897261246"
   ]
  },
  {
   "cell_type": "code",
   "execution_count": 2,
   "metadata": {},
   "outputs": [],
   "source": [
    "e,c=np.load(\"1_orto.npy\")"
   ]
  },
  {
   "cell_type": "code",
   "execution_count": 3,
   "metadata": {},
   "outputs": [
    {
     "data": {
      "text/plain": [
       "array([[-5.26626102e-02,  2.59620260e+00,  9.30291040e-09],\n",
       "       [-2.11387750e-01,  4.46341090e+00, -2.83286897e-06],\n",
       "       [ 2.36186961e+00,  1.41594758e+00, -2.69449620e-07],\n",
       "       [ 4.18822780e+00,  2.72718330e+00, -2.68260529e-06],\n",
       "       [ 2.31262987e+00, -1.45956882e+00,  2.14646581e-06],\n",
       "       [ 3.99124129e+00, -2.60163127e+00,  1.15261934e-06],\n",
       "       [ 4.46213543e-02, -2.63116206e+00,  2.16949011e-06],\n",
       "       [-7.36085205e-02, -4.66116929e+00, -2.02079657e-06],\n",
       "       [-2.28282778e+00, -1.25528027e+00,  3.03387820e-07],\n",
       "       [-4.05298417e+00, -2.23538430e+00, -5.32308455e-06],\n",
       "       [-2.25529876e+00,  1.28021243e+00,  5.68341309e-06],\n",
       "       [-3.96982032e+00,  2.36123921e+00,  1.66412591e-06]])"
      ]
     },
     "execution_count": 3,
     "metadata": {},
     "output_type": "execute_result"
    }
   ],
   "source": [
    "c"
   ]
  },
  {
   "cell_type": "code",
   "execution_count": 12,
   "metadata": {},
   "outputs": [],
   "source": [
    "pcx2bs={\"H\":\"pc-2\",'B':bse.get_basis(\"pcX-2\",fmt=\"nwchem\",elements=[5]),\\\n",
    "        'C':bse.get_basis(\"pcX-2\",fmt=\"nwchem\",elements=[6]),\\\n",
    "       'N':bse.get_basis(\"pcX-2\",fmt=\"nwchem\",elements=[7])}\n",
    "benz_atom=\"\"\" \n",
    "N         6.95191249e-13  2.61173060e+00 -1.67580194e-08 ;\n",
    "H         2.83052087e-13  4.63941350e+00 -1.15976219e-08 ;\n",
    "B         2.26182505e+00  1.30586530e+00 -2.37508246e-08 ; \n",
    "H         4.01784995e+00  2.31970675e+00 -9.84687205e-09 ; \n",
    "C         2.26182505e+00 -1.30586530e+00  8.26065094e-09 ; \n",
    "H         4.01784995e+00 -2.31970675e+00  5.83890508e-08 ; \n",
    "C        -8.45954456e-13 -2.61173060e+00 -1.55922267e-08 ; \n",
    "H         1.49445304e-12 -4.63941350e+00 -3.26774154e-08 ; \n",
    "C        -2.26182505e+00 -1.30586530e+00 -8.28266973e-09 ; \n",
    "H        -4.01784995e+00 -2.31970675e+00  1.87236306e-09 ; \n",
    "C        -2.26182505e+00  1.30586530e+00  1.68546675e-08 ; \n",
    "H        -4.01784995e+00  2.31970675e+00  3.31289175e-08 ; \n",
    "\"\"\"\n",
    "mol_orto = gto.M(atom=benz_atom, basis=pcx2bs,unit='bohr')"
   ]
  },
  {
   "cell_type": "code",
   "execution_count": 15,
   "metadata": {},
   "outputs": [
    {
     "data": {
      "text/plain": [
       "'12\\nXYZ from PySCF\\nN           0.00000        1.38207       -0.00000\\nH           0.00000        2.45507       -0.00000\\nB           1.19691        0.69103       -0.00000\\nH           2.12615        1.22754       -0.00000\\nC           1.19691       -0.69103        0.00000\\nH           2.12615       -1.22754        0.00000\\nC          -0.00000       -1.38207       -0.00000\\nH           0.00000       -2.45507       -0.00000\\nC          -1.19691       -0.69103       -0.00000\\nH          -2.12615       -1.22754        0.00000\\nC          -1.19691        0.69103        0.00000\\nH          -2.12615        1.22754        0.00000'"
      ]
     },
     "execution_count": 15,
     "metadata": {},
     "output_type": "execute_result"
    }
   ],
   "source": [
    "mol_orto.tofile(\"1.xyz\")"
   ]
  },
  {
   "cell_type": "code",
   "execution_count": 51,
   "metadata": {},
   "outputs": [],
   "source": [
    "chargeslist=mol_orto.atom_charges()"
   ]
  },
  {
   "cell_type": "code",
   "execution_count": 52,
   "metadata": {},
   "outputs": [],
   "source": [
    "import inspect"
   ]
  },
  {
   "cell_type": "code",
   "execution_count": 86,
   "metadata": {},
   "outputs": [],
   "source": [
    "#def printxyz(coords,al,fn):\n",
    "#    atomnumber={1:\"H\",5:\"B\",6:\"C\",7:\"N\"}\n",
    "#    assert len(al)==len(coords)\n",
    "#    with open(fn,\"w\")as xyzf:\n",
    "#        xyzf.write(str(len(al))+\" \\n\" )\n",
    "#        xyzf.write(\"molecule \\n\" )\n",
    "#        for i in range(len(coords)):\n",
    "#            xyzf.write(atomnumber[al[i]]+\"    \"+str(coords[i])[1:-1]+\"\\n\")\n",
    "#    return"
   ]
  },
  {
   "cell_type": "code",
   "execution_count": 87,
   "metadata": {},
   "outputs": [],
   "source": [
    "printxyz(c/ang2bohr,chargeslist,\"2.xyz\")"
   ]
  },
  {
   "cell_type": "code",
   "execution_count": 88,
   "metadata": {},
   "outputs": [],
   "source": [
    "printxyz(c/ang2bohr,chargeslist,\"3.xyz\")"
   ]
  },
  {
   "cell_type": "code",
   "execution_count": 7,
   "metadata": {},
   "outputs": [
    {
     "name": "stdout",
     "output_type": "stream",
     "text": [
      "2.9334100458972874e-16\n"
     ]
    }
   ],
   "source": [
    "rmsd.main(args=[\"1_orto.xyz\",\"1_orto.xyz\"])"
   ]
  },
  {
   "cell_type": "code",
   "execution_count": 92,
   "metadata": {},
   "outputs": [
    {
     "data": {
      "text/plain": [
       "'12\\nXYZ from PySCF\\nN           0.00000        1.38207       -0.00000\\nH           0.00000        2.45507       -0.00000\\nB           1.19691        0.69103       -0.00000\\nH           2.12615        1.22754       -0.00000\\nC           1.19691       -0.69103        0.00000\\nH           2.12615       -1.22754        0.00000\\nC          -0.00000       -1.38207       -0.00000\\nH           0.00000       -2.45507       -0.00000\\nC          -1.19691       -0.69103       -0.00000\\nH          -2.12615       -1.22754        0.00000\\nC          -1.19691        0.69103        0.00000\\nH          -2.12615        1.22754        0.00000'"
      ]
     },
     "execution_count": 92,
     "metadata": {},
     "output_type": "execute_result"
    }
   ],
   "source": [
    "mol_orto.tofile(\"1.xyz\")"
   ]
  },
  {
   "cell_type": "code",
   "execution_count": null,
   "metadata": {},
   "outputs": [],
   "source": [
    "mol_orto."
   ]
  }
 ],
 "metadata": {
  "kernelspec": {
   "display_name": "Python 3",
   "language": "python",
   "name": "python3"
  },
  "language_info": {
   "codemirror_mode": {
    "name": "ipython",
    "version": 3
   },
   "file_extension": ".py",
   "mimetype": "text/x-python",
   "name": "python",
   "nbconvert_exporter": "python",
   "pygments_lexer": "ipython3",
   "version": "3.7.3"
  }
 },
 "nbformat": 4,
 "nbformat_minor": 2
}
