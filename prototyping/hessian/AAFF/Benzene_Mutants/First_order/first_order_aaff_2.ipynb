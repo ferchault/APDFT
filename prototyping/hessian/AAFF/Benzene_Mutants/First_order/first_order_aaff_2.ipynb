{
 "cells": [
  {
   "cell_type": "code",
   "execution_count": 1,
   "metadata": {},
   "outputs": [],
   "source": [
    "import sys\n",
    "sys.path.append(\"/home/administrator/Documenti/APDFT/prototyping/hessian/AAFF/Libs/\")\n",
    "from aaff import aaff,alc_deriv_grad_nuc,alc_differential_grad_nuc\n",
    "from FcMole import FcM\n",
    "from alch_deriv import alch_deriv\n",
    "from pyscf import gto,scf\n",
    "import numpy as np \n",
    "from numpy.linalg import norm as norm\n",
    "import basis_set_exchange as bse\n",
    "from FDcoeffs import *\n",
    "from pyscf.geomopt.berny_solver import optimize\n",
    "ang2bohr=1.8897261246\n",
    "bohr2ang=.5291772109\n",
    "%load_ext autoreload\n",
    "%autoreload 2\n",
    "from AP_class import alch_deriv,first_deriv_nuc_nuc,second_deriv_nuc_nuc\n",
    "from AP_class import APDFT_perturbator as AP\n",
    "from AP_symmetry import benz_Symm"
   ]
  },
  {
   "cell_type": "code",
   "execution_count": 2,
   "metadata": {},
   "outputs": [],
   "source": [
    "benz_atom=\"\"\" \n",
    "C         6.95191249e-13  2.61173060e+00 -1.67580194e-08 ;\n",
    "H         2.83052087e-13  4.63941350e+00 -1.15976219e-08 ;\n",
    "C         2.26182505e+00  1.30586530e+00 -2.37508246e-08 ; \n",
    "H         4.01784995e+00  2.31970675e+00 -9.84687205e-09 ; \n",
    "C         2.26182505e+00 -1.30586530e+00  8.26065094e-09 ; \n",
    "H         4.01784995e+00 -2.31970675e+00  5.83890508e-08 ; \n",
    "C        -8.45954456e-13 -2.61173060e+00 -1.55922267e-08 ; \n",
    "H         1.49445304e-12 -4.63941350e+00 -3.26774154e-08 ; \n",
    "C        -2.26182505e+00 -1.30586530e+00 -8.28266973e-09 ; \n",
    "H        -4.01784995e+00 -2.31970675e+00  1.87236306e-09 ; \n",
    "C        -2.26182505e+00  1.30586530e+00  1.68546675e-08 ; \n",
    "H        -4.01784995e+00  2.31970675e+00  3.31289175e-08 ; \n",
    "\"\"\"\n",
    "Benz = gto.M(atom=benz_atom, basis={\"H\":\"pc-2\",'C':bse.get_basis(\"pcX-2\",fmt=\"nwchem\",elements=[6])},unit='bohr')"
   ]
  },
  {
   "cell_type": "code",
   "execution_count": 3,
   "metadata": {},
   "outputs": [
    {
     "name": "stdout",
     "output_type": "stream",
     "text": [
      "converged SCF energy = -230.788695455662\n"
     ]
    },
    {
     "data": {
      "text/plain": [
       "-230.7886954556618"
      ]
     },
     "execution_count": 3,
     "metadata": {},
     "output_type": "execute_result"
    }
   ],
   "source": [
    "benz_dm0=np.load(\"benz_dm.npy\")\n",
    "BenzHF=scf.RHF(Benz)\n",
    "BenzHF.scf(dm0=benz_dm0)"
   ]
  },
  {
   "cell_type": "code",
   "execution_count": 4,
   "metadata": {},
   "outputs": [],
   "source": [
    "apbz=AP(BenzHF,sites=[0,2,4,6,8,10],symm=benz_Symm(Benz))"
   ]
  },
  {
   "cell_type": "code",
   "execution_count": 5,
   "metadata": {},
   "outputs": [],
   "source": [
    "apbz.build_all()"
   ]
  },
  {
   "cell_type": "code",
   "execution_count": 6,
   "metadata": {},
   "outputs": [
    {
     "data": {
      "text/plain": [
       "1.0248868420603685e-10"
      ]
     },
     "execution_count": 6,
     "metadata": {},
     "output_type": "execute_result"
    }
   ],
   "source": [
    "apbz.APDFT3([1,2,0,0,0,1])-apbz.APDFT3([2,1,1,0,0,0])"
   ]
  },
  {
   "cell_type": "code",
   "execution_count": 7,
   "metadata": {},
   "outputs": [
    {
     "name": "stdout",
     "output_type": "stream",
     "text": [
      "No AF found for atom 0. Calculating it from code\n"
     ]
    },
    {
     "data": {
      "text/plain": [
       "array([[-4.01172460e-13,  2.15252224e-02, -8.55259302e-10],\n",
       "       [-4.24207902e-14,  7.83866964e-02,  6.30010539e-11],\n",
       "       [ 6.76028944e-02, -3.29035758e-02, -9.91005130e-10],\n",
       "       [ 9.50152738e-03, -5.77177984e-03,  3.70380648e-10],\n",
       "       [ 2.91178600e-03,  9.40043921e-04, -1.87862576e-10],\n",
       "       [ 1.70413431e-03, -5.34737950e-03,  2.06309676e-10],\n",
       "       [ 1.28098468e-14, -1.13075776e-02,  1.81689004e-10],\n",
       "       [ 5.88496131e-14, -2.43895882e-03,  2.29305228e-11],\n",
       "       [-2.91178600e-03,  9.40043921e-04,  5.60654075e-12],\n",
       "       [-1.70413431e-03, -5.34737950e-03, -9.19167489e-11],\n",
       "       [-6.76028944e-02, -3.29035758e-02,  1.20204543e-09],\n",
       "       [-9.50152738e-03, -5.77177984e-03,  7.40808812e-11]])"
      ]
     },
     "execution_count": 7,
     "metadata": {},
     "output_type": "execute_result"
    }
   ],
   "source": [
    "apbz.af(0)"
   ]
  },
  {
   "cell_type": "code",
   "execution_count": 8,
   "metadata": {},
   "outputs": [
    {
     "data": {
      "text/plain": [
       "array([[-6.22967797e-02,  4.20940361e-02,  1.20204543e-09],\n",
       "       [-9.74927165e-03,  5.34267417e-03,  7.40808812e-11],\n",
       "       [ 1.86413894e-02,  1.07626112e-02, -8.55259302e-10],\n",
       "       [ 6.78848704e-02,  3.91933482e-02,  6.30010539e-11],\n",
       "       [ 5.30611472e-03, -7.49976118e-02, -9.91005130e-10],\n",
       "       [-2.47744274e-04, -1.11144540e-02,  3.70380648e-10],\n",
       "       [ 2.26999491e-03, -2.05165868e-03, -1.87862576e-10],\n",
       "       [-3.77889933e-03, -4.14951335e-03,  2.06309676e-10],\n",
       "       [-9.79264947e-03, -5.65378881e-03,  1.81689004e-10],\n",
       "       [-2.11220030e-03, -1.21947941e-03,  2.29305228e-11],\n",
       "       [-6.41791082e-04,  2.99170260e-03,  5.60654075e-12],\n",
       "       [-5.48303364e-03, -1.19786615e-03, -9.19167489e-11]])"
      ]
     },
     "execution_count": 8,
     "metadata": {},
     "output_type": "execute_result"
    }
   ],
   "source": [
    "apbz.af(2)"
   ]
  },
  {
   "cell_type": "code",
   "execution_count": 9,
   "metadata": {},
   "outputs": [],
   "source": [
    "from berny import Berny, geomlib, coords,Geometry"
   ]
  },
  {
   "cell_type": "code",
   "execution_count": 10,
   "metadata": {},
   "outputs": [],
   "source": [
    "mut_list2=[\"NBNBCC\",\"NBBNCC\",\"BNNBCC\",\"BBNNCC\",\"NBNCBC\",\"BNBCNC\",\"BNNCBC\",\"NBBCNC\"]#4-11\n",
    "mut_list3=[\"NBCBNC\",\"NNCBBC\",\"NBCNBC\",\"NNNBBB\",\"NBNBNB\",\"NNBBNB\"] #12-17"
   ]
  },
  {
   "cell_type": "code",
   "execution_count": 11,
   "metadata": {},
   "outputs": [],
   "source": [
    "charge2symbol={1:\"H\",2:\"He\",3:\"Li\",4:\"Be\",5:\"B\",6:\"C\",7:\"N\",8:\"O\",9:\"F\",10:\"Ne\"}\n",
    "symbol2charge={\"H\":1,\"He\":2,\"Li\":3,\"Be\":4,\"B\":5,\"C\":6,\"N\":7,\"O\":8,\"F\":9,\"Ne\":10}\n",
    "af_array=np.asarray([apbz.af(0),apbz.af(2),apbz.af(4),apbz.af(6),apbz.af(8),apbz.af(10)])"
   ]
  },
  {
   "cell_type": "code",
   "execution_count": 12,
   "metadata": {},
   "outputs": [
    {
     "data": {
      "text/plain": [
       "array([[ 0.00000000e+00,  0.00000000e+00,  0.00000000e+00],\n",
       "       [ 0.00000000e+00, -6.07153217e-18,  0.00000000e+00],\n",
       "       [-3.46944695e-18,  0.00000000e+00,  0.00000000e+00],\n",
       "       [ 0.00000000e+00,  0.00000000e+00,  0.00000000e+00],\n",
       "       [ 0.00000000e+00,  0.00000000e+00,  0.00000000e+00],\n",
       "       [ 0.00000000e+00,  6.93889390e-18,  0.00000000e+00],\n",
       "       [ 0.00000000e+00,  0.00000000e+00,  0.00000000e+00],\n",
       "       [ 0.00000000e+00,  0.00000000e+00,  0.00000000e+00],\n",
       "       [ 1.08420217e-19,  0.00000000e+00,  0.00000000e+00],\n",
       "       [ 0.00000000e+00,  4.33680869e-19,  0.00000000e+00],\n",
       "       [ 0.00000000e+00,  8.67361738e-19, -1.03397577e-25],\n",
       "       [ 4.33680869e-19,  4.33680869e-19,  6.46234854e-27]])"
      ]
     },
     "execution_count": 12,
     "metadata": {},
     "output_type": "execute_result"
    }
   ],
   "source": [
    "np.einsum(\"ijk,i->jk\",af_array,[1,0,1,0,0,0])-apbz.af(0)-apbz.af(4)"
   ]
  },
  {
   "cell_type": "code",
   "execution_count": 13,
   "metadata": {},
   "outputs": [
    {
     "data": {
      "text/plain": [
       "[1, -1, -1, 1, 0, 0]"
      ]
     },
     "execution_count": 13,
     "metadata": {},
     "output_type": "execute_result"
    }
   ],
   "source": [
    "[symbol2charge[x]-6 for x in mut_list2[1]]"
   ]
  },
  {
   "cell_type": "code",
   "execution_count": 14,
   "metadata": {},
   "outputs": [
    {
     "data": {
      "text/plain": [
       "array([0., 0., 0.])"
      ]
     },
     "execution_count": 14,
     "metadata": {},
     "output_type": "execute_result"
    }
   ],
   "source": [
    "sum(apbz.af(2)-apbz.af(2))"
   ]
  },
  {
   "cell_type": "code",
   "execution_count": 15,
   "metadata": {},
   "outputs": [],
   "source": [
    "for idx,mut in enumerate(mut_list2):\n",
    "    targmol_refgeom=apbz.targ_mol(np.asarray([apbz.sites,[symbol2charge[x]-6 for x in mut]]))\n",
    "    pbg=Geometry([charge2symbol[x] for x in targmol_refgeom.atom_charges()],targmol_refgeom.atom_coords()*bohr2ang)\n",
    "    pbg.dump(open(\"./pred_geoms/{}_bg.xyz\".format(idx+4),\"w\"),\"xyz\")\n",
    "    bernyobj=Berny(pbg)\n",
    "    bernyobj.send((apbz.APDFT3([symbol2charge[x]-6 for x in mut]),\\\n",
    "                   np.einsum(\"ijk,i->jk\",af_array,[symbol2charge[x]-6 for x in mut]))) \n",
    "    bernyobj._state.geom.dump(open(\"./pred_geoms/{}_p.xyz\".format(idx+4),\"w\"),\"xyz\")\n"
   ]
  },
  {
   "cell_type": "code",
   "execution_count": 16,
   "metadata": {},
   "outputs": [],
   "source": [
    "for idx,mut in enumerate(mut_list3):\n",
    "    targmol_refgeom=apbz.targ_mol(np.asarray([apbz.sites,[symbol2charge[x]-6 for x in mut]]))\n",
    "    pbg=Geometry([charge2symbol[x] for x in targmol_refgeom.atom_charges()],targmol_refgeom.atom_coords()*bohr2ang)\n",
    "    pbg.dump(open(\"./pred_geoms/{}_bg.xyz\".format(idx+12),\"w\"),\"xyz\")\n",
    "    bernyobj=Berny(pbg)\n",
    "    bernyobj.send((apbz.APDFT3([symbol2charge[x]-6 for x in mut]),\\\n",
    "                   np.einsum(\"ijk,i->jk\",af_array,[symbol2charge[x]-6 for x in mut]))) \n",
    "    bernyobj._state.geom.dump(open(\"./pred_geoms/{}_p.xyz\".format(idx+12),\"w\"),\"xyz\")\n"
   ]
  },
  {
   "cell_type": "code",
   "execution_count": 40,
   "metadata": {},
   "outputs": [],
   "source": [
    "import rmsd "
   ]
  },
  {
   "cell_type": "code",
   "execution_count": 41,
   "metadata": {},
   "outputs": [
    {
     "name": "stdout",
     "output_type": "stream",
     "text": [
      "0.062475342481590444\n"
     ]
    }
   ],
   "source": [
    "rmsd.main(args=[\"./pred_geoms/4_bg.xyz\",\"./pred_geoms/4_p.xyz\"])"
   ]
  },
  {
   "cell_type": "code",
   "execution_count": null,
   "metadata": {},
   "outputs": [],
   "source": []
  }
 ],
 "metadata": {
  "kernelspec": {
   "display_name": "Python 3",
   "language": "python",
   "name": "python3"
  },
  "language_info": {
   "codemirror_mode": {
    "name": "ipython",
    "version": 3
   },
   "file_extension": ".py",
   "mimetype": "text/x-python",
   "name": "python",
   "nbconvert_exporter": "python",
   "pygments_lexer": "ipython3",
   "version": "3.7.3"
  }
 },
 "nbformat": 4,
 "nbformat_minor": 2
}
