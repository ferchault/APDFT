{
 "cells": [
  {
   "cell_type": "code",
   "execution_count": 1,
   "metadata": {},
   "outputs": [],
   "source": [
    "import sys\n",
    "sys.path.append(\"/home/administrator/Documenti/APDFT/prototyping/hessian/AAFF/Libs/\")\n",
    "from ABSE import absec\n",
    "from aaff import aaff,alc_deriv_grad_nuc,alc_differential_grad_nuc\n",
    "from FcMole import FcM\n",
    "from alch_deriv import alch_deriv\n",
    "from pyscf import gto,scf\n",
    "import numpy as np \n",
    "from numpy.linalg import norm as norm\n",
    "import basis_set_exchange as bse\n",
    "from FDcoeffs import *\n",
    "from pyscf.geomopt.berny_solver import optimize\n",
    "ang2bohr=1.8897261246\n",
    "bohr2ang=.5291772109\n",
    "%load_ext autoreload\n",
    "%autoreload 2\n",
    "from AP_class import alch_deriv,first_deriv_nuc_nuc,second_deriv_nuc_nuc\n",
    "from AP_class import APDFT_perturbator as AP\n",
    "from AP_symmetry import benz_Symm"
   ]
  },
  {
   "cell_type": "code",
   "execution_count": 2,
   "metadata": {},
   "outputs": [],
   "source": [
    "benz_atom=\"\"\" \n",
    "C         6.95191249e-13  2.61173060e+00 -1.67580194e-08 ;\n",
    "H         2.83052087e-13  4.63941350e+00 -1.15976219e-08 ;\n",
    "C         2.26182505e+00  1.30586530e+00 -2.37508246e-08 ; \n",
    "H         4.01784995e+00  2.31970675e+00 -9.84687205e-09 ; \n",
    "C         2.26182505e+00 -1.30586530e+00  8.26065094e-09 ; \n",
    "H         4.01784995e+00 -2.31970675e+00  5.83890508e-08 ; \n",
    "C        -8.45954456e-13 -2.61173060e+00 -1.55922267e-08 ; \n",
    "H         1.49445304e-12 -4.63941350e+00 -3.26774154e-08 ; \n",
    "C        -2.26182505e+00 -1.30586530e+00 -8.28266973e-09 ; \n",
    "H        -4.01784995e+00 -2.31970675e+00  1.87236306e-09 ; \n",
    "C        -2.26182505e+00  1.30586530e+00  1.68546675e-08 ; \n",
    "H        -4.01784995e+00  2.31970675e+00  3.31289175e-08 ; \n",
    "\"\"\"\n",
    "Benz = gto.M(atom=benz_atom, basis={\"H\":\"pc-2\",'C':bse.get_basis(\"pcX-2\",fmt=\"nwchem\",elements=[6])},unit='bohr')"
   ]
  },
  {
   "cell_type": "code",
   "execution_count": 3,
   "metadata": {},
   "outputs": [],
   "source": [
    "benz_coords=Benz.atom_coords()"
   ]
  },
  {
   "cell_type": "code",
   "execution_count": 4,
   "metadata": {},
   "outputs": [
    {
     "name": "stdout",
     "output_type": "stream",
     "text": [
      "converged SCF energy = -230.788695455662\n"
     ]
    },
    {
     "data": {
      "text/plain": [
       "-230.78869545566204"
      ]
     },
     "execution_count": 4,
     "metadata": {},
     "output_type": "execute_result"
    }
   ],
   "source": [
    "benz_dm0=np.load(\"benz_dm.npy\")\n",
    "BenzHF=scf.RHF(Benz)\n",
    "BenzHF.scf(dm0=benz_dm0)"
   ]
  },
  {
   "cell_type": "code",
   "execution_count": 5,
   "metadata": {},
   "outputs": [],
   "source": [
    "apbz=AP(BenzHF,sites=[0,2,4,6,8,10],symm=benz_Symm(Benz))"
   ]
  },
  {
   "cell_type": "code",
   "execution_count": 6,
   "metadata": {},
   "outputs": [],
   "source": [
    "apbz.build_all()"
   ]
  },
  {
   "cell_type": "code",
   "execution_count": 7,
   "metadata": {},
   "outputs": [
    {
     "name": "stdout",
     "output_type": "stream",
     "text": [
      "No AF found for atom 0. Calculating it from code\n"
     ]
    },
    {
     "data": {
      "text/plain": [
       "array([[ 2.88913309e-13,  2.15252224e-02, -8.55158152e-10],\n",
       "       [-1.05824131e-13,  7.83866964e-02,  6.27286882e-11],\n",
       "       [ 6.76028944e-02, -3.29035758e-02, -9.90825538e-10],\n",
       "       [ 9.50152738e-03, -5.77177984e-03,  3.70296269e-10],\n",
       "       [ 2.91178600e-03,  9.40043921e-04, -1.87817581e-10],\n",
       "       [ 1.70413431e-03, -5.34737950e-03,  2.06336919e-10],\n",
       "       [-3.49314680e-14, -1.13075776e-02,  1.81584627e-10],\n",
       "       [-3.56329804e-14, -2.43895882e-03,  2.29537636e-11],\n",
       "       [-2.91178600e-03,  9.40043921e-04,  5.66206790e-12],\n",
       "       [-1.70413431e-03, -5.34737950e-03, -9.18822380e-11],\n",
       "       [-6.76028944e-02, -3.29035758e-02,  1.20210660e-09],\n",
       "       [-9.50152738e-03, -5.77177984e-03,  7.40145691e-11]])"
      ]
     },
     "execution_count": 7,
     "metadata": {},
     "output_type": "execute_result"
    }
   ],
   "source": [
    "apbz.af(0)"
   ]
  },
  {
   "cell_type": "code",
   "execution_count": 8,
   "metadata": {},
   "outputs": [
    {
     "data": {
      "text/plain": [
       "array([[-6.22967797e-02,  4.20940361e-02,  1.20210660e-09],\n",
       "       [-9.74927165e-03,  5.34267417e-03,  7.40145691e-11],\n",
       "       [ 1.86413894e-02,  1.07626112e-02, -8.55158152e-10],\n",
       "       [ 6.78848704e-02,  3.91933482e-02,  6.27286882e-11],\n",
       "       [ 5.30611472e-03, -7.49976118e-02, -9.90825538e-10],\n",
       "       [-2.47744275e-04, -1.11144540e-02,  3.70296269e-10],\n",
       "       [ 2.26999491e-03, -2.05165868e-03, -1.87817581e-10],\n",
       "       [-3.77889933e-03, -4.14951335e-03,  2.06336919e-10],\n",
       "       [-9.79264947e-03, -5.65378881e-03,  1.81584627e-10],\n",
       "       [-2.11220030e-03, -1.21947941e-03,  2.29537636e-11],\n",
       "       [-6.41791082e-04,  2.99170260e-03,  5.66206790e-12],\n",
       "       [-5.48303364e-03, -1.19786615e-03, -9.18822380e-11]])"
      ]
     },
     "execution_count": 8,
     "metadata": {},
     "output_type": "execute_result"
    }
   ],
   "source": [
    "apbz.af(2)"
   ]
  },
  {
   "cell_type": "code",
   "execution_count": 10,
   "metadata": {},
   "outputs": [],
   "source": [
    "mut_list1=[\"NBCCCC\",\"NCBCCC\",\"NCCBCC\"]\n",
    "mut_list2=[\"NBNBCC\",\"NBBNCC\",\"BNNBCC\",\"BBNNCC\",\"NBNCBC\",\"BNBCNC\",\"BNNCBC\",\"NBBCNC\"]#4-11\n",
    "mut_list3=[\"NBCBNC\",\"NNCBBC\",\"NBCNBC\",\"NNNBBB\",\"NBNBNB\",\"NNBBNB\"] #12-17"
   ]
  },
  {
   "cell_type": "code",
   "execution_count": 19,
   "metadata": {},
   "outputs": [],
   "source": [
    "charge2symbol={1:\"H\",2:\"He\",3:\"Li\",4:\"Be\",5:\"B\",6:\"C\",7:\"N\",8:\"O\",9:\"F\",10:\"Ne\"}\n",
    "symbol2charge={\"H\":1,\"He\":2,\"Li\":3,\"Be\":4,\"B\":5,\"C\":6,\"N\":7,\"O\":8,\"F\":9,\"Ne\":10}\n",
    "af_array=np.asarray([apbz.af(0),apbz.af(2),apbz.af(4),apbz.af(6),apbz.af(8),apbz.af(10)])"
   ]
  },
  {
   "cell_type": "code",
   "execution_count": 11,
   "metadata": {},
   "outputs": [
    {
     "data": {
      "text/plain": [
       "array([[ 0.00000000e+00, -1.73472348e-18,  0.00000000e+00],\n",
       "       [ 0.00000000e+00,  3.46944695e-18,  0.00000000e+00],\n",
       "       [ 3.46944695e-18,  0.00000000e+00,  0.00000000e+00],\n",
       "       [-8.67361738e-19,  0.00000000e+00,  0.00000000e+00],\n",
       "       [ 0.00000000e+00,  0.00000000e+00,  0.00000000e+00],\n",
       "       [ 0.00000000e+00,  6.93889390e-18,  0.00000000e+00],\n",
       "       [ 0.00000000e+00,  0.00000000e+00,  0.00000000e+00],\n",
       "       [ 0.00000000e+00,  0.00000000e+00,  0.00000000e+00],\n",
       "       [-2.16840434e-19,  0.00000000e+00,  0.00000000e+00],\n",
       "       [ 0.00000000e+00,  2.16840434e-19,  0.00000000e+00],\n",
       "       [-3.46944695e-18,  1.73472348e-18,  0.00000000e+00],\n",
       "       [ 0.00000000e+00, -4.33680869e-19,  6.46234854e-27]])"
      ]
     },
     "execution_count": 11,
     "metadata": {},
     "output_type": "execute_result"
    }
   ],
   "source": [
    "np.einsum(\"ijk,i->jk\",af_array,[1,0,1,0,0,0])-apbz.af(0)-apbz.af(4)"
   ]
  },
  {
   "cell_type": "code",
   "execution_count": 12,
   "metadata": {},
   "outputs": [
    {
     "data": {
      "text/plain": [
       "[1, 0, -1, 0, 0, 0]"
      ]
     },
     "execution_count": 12,
     "metadata": {},
     "output_type": "execute_result"
    }
   ],
   "source": [
    "[symbol2charge[x]-6 for x in mut_list1[1]]"
   ]
  },
  {
   "cell_type": "code",
   "execution_count": 22,
   "metadata": {},
   "outputs": [],
   "source": [
    "h0=np.load(\"benz_hessian.npy\")"
   ]
  },
  {
   "cell_type": "code",
   "execution_count": 14,
   "metadata": {},
   "outputs": [
    {
     "data": {
      "text/plain": [
       "array([[-6.22967797e-02,  4.20940361e-02,  1.20198227e-09],\n",
       "       [-9.74927165e-03,  5.34267417e-03,  7.40341603e-11],\n",
       "       [ 1.86413894e-02,  1.07626112e-02, -8.55096555e-10],\n",
       "       [ 6.78848704e-02,  3.91933482e-02,  6.27789755e-11],\n",
       "       [ 5.30611472e-03, -7.49976118e-02, -9.90937821e-10],\n",
       "       [-2.47744275e-04, -1.11144540e-02,  3.70405108e-10],\n",
       "       [ 2.26999491e-03, -2.05165868e-03, -1.87821128e-10],\n",
       "       [-3.77889933e-03, -4.14951335e-03,  2.06298232e-10],\n",
       "       [-9.79264947e-03, -5.65378881e-03,  1.81718379e-10],\n",
       "       [-2.11220030e-03, -1.21947941e-03,  2.29272695e-11],\n",
       "       [-6.41791083e-04,  2.99170260e-03,  5.62097330e-12],\n",
       "       [-5.48303364e-03, -1.19786615e-03, -9.19098632e-11]])"
      ]
     },
     "execution_count": 14,
     "metadata": {},
     "output_type": "execute_result"
    }
   ],
   "source": [
    "apbz.af(2)"
   ]
  },
  {
   "cell_type": "code",
   "execution_count": 29,
   "metadata": {},
   "outputs": [],
   "source": [
    "def nr_step(ic,g,h):\n",
    "    ncoords=ic.shape[0]*ic.shape[1]\n",
    "    p1cds=ic-np.linalg.solve((np.swapaxes(h,1,2)).reshape(ncoords,ncoords),g.reshape(-1)).reshape(ic.shape[0],ic.shape[1])\n",
    "    #print (norm(p1cds[1]))\n",
    "    return(p1cds)\n"
   ]
  },
  {
   "cell_type": "code",
   "execution_count": 18,
   "metadata": {},
   "outputs": [],
   "source": [
    "def nr_DE(g,h):\n",
    "    ncoords=g.shape[0]*g.shape[1]\n",
    "    dr=-np.linalg.solve((np.swapaxes(h,1,2)).reshape(ncoords,ncoords),g.reshape(-1))\n",
    "    de=0.5*dr.dot(g.reshape(-1))\n",
    "    return de"
   ]
  },
  {
   "cell_type": "code",
   "execution_count": 134,
   "metadata": {},
   "outputs": [
    {
     "data": {
      "text/plain": [
       "array([[-1.05642564e-04,  2.61033716e+00,  7.01967017e-09],\n",
       "       [-1.05639450e-04,  4.63608640e+00,  3.16127630e-08],\n",
       "       [ 2.26070478e+00,  1.30610979e+00,  2.51980223e-08],\n",
       "       [ 4.01568640e+00,  2.32154012e+00,  7.79425750e-08],\n",
       "       [ 2.26166064e+00, -1.30548441e+00,  3.21071720e-08],\n",
       "       [ 4.01795471e+00, -2.31862494e+00,  1.01677126e-07],\n",
       "       [-1.05650593e-04, -2.61128185e+00, -4.19816836e-08],\n",
       "       [-1.05653705e-04, -4.63891611e+00, -7.85356232e-08],\n",
       "       [-2.26187194e+00, -1.30548440e+00, -5.98070619e-08],\n",
       "       [-4.01816601e+00, -2.31862493e+00, -8.85774198e-08],\n",
       "       [-2.26091607e+00,  1.30610980e+00, -9.62641729e-09],\n",
       "       [-4.01589769e+00,  2.32154013e+00, -1.28607448e-08]])"
      ]
     },
     "execution_count": 134,
     "metadata": {},
     "output_type": "execute_result"
    }
   ],
   "source": [
    "nr_step(benz_coords,apbz.af(0)/100,h0)"
   ]
  },
  {
   "cell_type": "code",
   "execution_count": 135,
   "metadata": {},
   "outputs": [
    {
     "data": {
      "text/plain": [
       "array([[ 6.95191249e-13,  2.61173060e+00, -1.67580194e-08],\n",
       "       [ 2.83052087e-13,  4.63941350e+00, -1.15976219e-08],\n",
       "       [ 2.26182505e+00,  1.30586530e+00, -2.37508246e-08],\n",
       "       [ 4.01784995e+00,  2.31970675e+00, -9.84687205e-09],\n",
       "       [ 2.26182505e+00, -1.30586530e+00,  8.26065094e-09],\n",
       "       [ 4.01784995e+00, -2.31970675e+00,  5.83890508e-08],\n",
       "       [-8.45954456e-13, -2.61173060e+00, -1.55922267e-08],\n",
       "       [ 1.49445304e-12, -4.63941350e+00, -3.26774154e-08],\n",
       "       [-2.26182505e+00, -1.30586530e+00, -8.28266973e-09],\n",
       "       [-4.01784995e+00, -2.31970675e+00,  1.87236306e-09],\n",
       "       [-2.26182505e+00,  1.30586530e+00,  1.68546675e-08],\n",
       "       [-4.01784995e+00,  2.31970675e+00,  3.31289175e-08]])"
      ]
     },
     "execution_count": 135,
     "metadata": {},
     "output_type": "execute_result"
    }
   ],
   "source": [
    "benz_coords"
   ]
  },
  {
   "cell_type": "code",
   "execution_count": 32,
   "metadata": {},
   "outputs": [],
   "source": [
    "atomstr=\"{} {};H {} ;\"*6"
   ]
  },
  {
   "cell_type": "code",
   "execution_count": 33,
   "metadata": {},
   "outputs": [
    {
     "data": {
      "text/plain": [
       "'{} {};H {} ;{} {};H {} ;{} {};H {} ;{} {};H {} ;{} {};H {} ;{} {};H {} ;'"
      ]
     },
     "execution_count": 33,
     "metadata": {},
     "output_type": "execute_result"
    }
   ],
   "source": [
    "atomstr"
   ]
  },
  {
   "cell_type": "code",
   "execution_count": 82,
   "metadata": {},
   "outputs": [
    {
     "data": {
      "text/plain": [
       "'N -1.05642669e-02  2.47238668e+00  2.36101094e-06;H -1.05639555e-02  4.30670354e+00  4.30944087e-06 ;B 2.14979822e+00 1.33031459e+00 4.87113387e-06;H 3.80149502e+00 2.50304332e+00 8.76909784e-06 ;B  2.24538437e+00 -1.26777618e+00  2.39291275e-06;H  4.02832593e+00 -2.21152580e+00  4.38719657e-06 ;N -1.05650697e-02 -2.56685557e+00 -2.65453791e-06;H -1.05653811e-02 -4.58967459e+00 -4.61849820e-06 ;C -2.26651411e+00 -1.26777549e+00 -5.16072189e-06;H -4.04945598e+00 -2.21152457e+00 -9.04310592e-06 ;C -2.17092716e+00  1.33031528e+00 -2.63125381e-06;H -3.82262365e+00  2.50304456e+00 -4.56583731e-06 ;'"
      ]
     },
     "execution_count": 82,
     "metadata": {},
     "output_type": "execute_result"
    }
   ],
   "source": [
    "mut=mut_list2[1]\n",
    "lstfrmt=[]\n",
    "for i in range(6):\n",
    "    lstfrmt.append(mut[i])\n",
    "    lstfrmt.append(str(pg1[2*i])[1:-1])\n",
    "    lstfrmt.append(str(pg1[2*i+1])[1:-1])\n",
    "atomstr.format(*lstfrmt)"
   ]
  },
  {
   "cell_type": "code",
   "execution_count": 91,
   "metadata": {},
   "outputs": [
    {
     "data": {
      "text/plain": [
       "array([[-1.05642669e-02,  2.47238668e+00,  2.36101094e-06],\n",
       "       [-1.05639555e-02,  4.30670354e+00,  4.30944087e-06],\n",
       "       [ 2.14979822e+00,  1.33031459e+00,  4.87113387e-06],\n",
       "       [ 3.80149502e+00,  2.50304332e+00,  8.76909784e-06],\n",
       "       [ 2.24538437e+00, -1.26777618e+00,  2.39291275e-06],\n",
       "       [ 4.02832593e+00, -2.21152580e+00,  4.38719657e-06],\n",
       "       [-1.05650697e-02, -2.56685557e+00, -2.65453791e-06],\n",
       "       [-1.05653811e-02, -4.58967459e+00, -4.61849820e-06],\n",
       "       [-2.26651411e+00, -1.26777549e+00, -5.16072189e-06],\n",
       "       [-4.04945598e+00, -2.21152457e+00, -9.04310592e-06],\n",
       "       [-2.17092716e+00,  1.33031528e+00, -2.63125381e-06],\n",
       "       [-3.82262365e+00,  2.50304456e+00, -4.56583731e-06]])"
      ]
     },
     "execution_count": 91,
     "metadata": {},
     "output_type": "execute_result"
    }
   ],
   "source": [
    "molpg1=gto.M(atom=atomstr.format(*lstfrmt),unit=\"Bohr\")\n",
    "molpg1.atom_coords()"
   ]
  },
  {
   "cell_type": "code",
   "execution_count": 137,
   "metadata": {},
   "outputs": [
    {
     "name": "stdout",
     "output_type": "stream",
     "text": [
      "[1, -1, 0, 0, 0, 0]\n",
      "[1, 0, -1, 0, 0, 0]\n",
      "[1, 0, 0, -1, 0, 0]\n"
     ]
    }
   ],
   "source": [
    "for idx,mut in enumerate(mut_list1):\n",
    "    print([symbol2charge[x]-6 for x in mut])\n",
    "    af=np.einsum(\"ijk,i->jk\",af_array,[symbol2charge[x]-6 for x in mut])\n",
    "    pg=nr_step(benz_coords,af,h0)\n",
    "    lstfrmt=[]\n",
    "    for i in range(6):\n",
    "        lstfrmt.append(mut[i])\n",
    "        lstfrmt.append(str(pg[2*i])[1:-1])\n",
    "        lstfrmt.append(str(pg[2*i+1])[1:-1])\n",
    "    atomstr.format(*lstfrmt)\n",
    "    molp=gto.M(atom=atomstr.format(*lstfrmt),unit=\"Bohr\")\n",
    "    molp.tofile(\"./NR_H0/{}_NR.xyz\".format(idx+1))\n"
   ]
  },
  {
   "cell_type": "code",
   "execution_count": 139,
   "metadata": {},
   "outputs": [],
   "source": [
    "for idx,mut in enumerate(mut_list2):\n",
    "    af=np.einsum(\"ijk,i->jk\",af_array,[symbol2charge[x]-6 for x in mut])\n",
    "    pg=nr_step(benz_coords,af,h0)\n",
    "    lstfrmt=[]\n",
    "    for i in range(6):\n",
    "        lstfrmt.append(mut[i])\n",
    "        lstfrmt.append(str(pg[2*i])[1:-1])\n",
    "        lstfrmt.append(str(pg[2*i+1])[1:-1])\n",
    "    atomstr.format(*lstfrmt)\n",
    "    molp=gto.M(atom=atomstr.format(*lstfrmt),unit=\"Bohr\")\n",
    "    molp.tofile(\"./NR_H0/{}_NR.xyz\".format(idx+4))\n",
    "    \n",
    "for idx,mut in enumerate(mut_list3):\n",
    "    af=np.einsum(\"ijk,i->jk\",af_array,[symbol2charge[x]-6 for x in mut])\n",
    "    pg=nr_step(benz_coords,af,h0)\n",
    "    lstfrmt=[]\n",
    "    for i in range(6):\n",
    "        lstfrmt.append(mut[i])\n",
    "        lstfrmt.append(str(pg[2*i])[1:-1])\n",
    "        lstfrmt.append(str(pg[2*i+1])[1:-1])\n",
    "    atomstr.format(*lstfrmt)\n",
    "    molp=gto.M(atom=atomstr.format(*lstfrmt),unit=\"Bohr\")\n",
    "    molp.tofile(\"./NR_H0/{}_NR.xyz\".format(idx+12))\n"
   ]
  },
  {
   "cell_type": "code",
   "execution_count": 140,
   "metadata": {},
   "outputs": [],
   "source": [
    "import rmsd "
   ]
  },
  {
   "cell_type": "code",
   "execution_count": 141,
   "metadata": {},
   "outputs": [
    {
     "name": "stdout",
     "output_type": "stream",
     "text": [
      "4\n",
      "0.06508065523817591\n",
      "5\n",
      "0.13132735437837767\n",
      "6\n",
      "0.08640737419107673\n",
      "7\n",
      "0.15292434639534427\n",
      "8\n",
      "0.07519094224058497\n",
      "9\n",
      "0.08390932797615752\n",
      "10\n",
      "0.10920925530150724\n",
      "11\n",
      "0.15117381124015006\n",
      "12\n",
      "0.09472227859300518\n",
      "13\n",
      "0.16463786587210355\n",
      "14\n",
      "0.07993302928665275\n",
      "15\n",
      "0.2131339425317265\n",
      "16\n",
      "0.0636595936520292\n",
      "17\n",
      "0.14159151060309583\n"
     ]
    }
   ],
   "source": [
    "for i in range(4,18):\n",
    "    print(i)\n",
    "    rmsd.main(args=[\"./opt/{}_opt.xyz\".format(i),\"./pred_geoms/{}_p.xyz\".format(i)])"
   ]
  },
  {
   "cell_type": "code",
   "execution_count": 145,
   "metadata": {},
   "outputs": [
    {
     "name": "stdout",
     "output_type": "stream",
     "text": [
      "1\n",
      "0.04022603342277137\n",
      "2\n",
      "0.03118568070832377\n",
      "3\n",
      "0.04219086509179594\n"
     ]
    }
   ],
   "source": [
    "for i in range(1,4):\n",
    "    print(i)\n",
    "    rmsd.main(args=[\"./opt/{}_opt.xyz\".format(i),\"./NR_H0/{}_NR.xyz\".format(i)])"
   ]
  },
  {
   "cell_type": "code",
   "execution_count": 142,
   "metadata": {},
   "outputs": [
    {
     "name": "stdout",
     "output_type": "stream",
     "text": [
      "4\n",
      "0.05145613760749521\n",
      "0.06508065523817591\n",
      "0.1132974447104944\n",
      "0.09922193837826412\n",
      "5\n",
      "0.0792923344948646\n",
      "0.13132735437837767\n",
      "0.1907462624819973\n",
      "0.1528530765891545\n",
      "6\n",
      "0.08154447769207164\n",
      "0.08640737419107673\n",
      "0.13339332603821155\n",
      "0.1528541985851898\n",
      "7\n",
      "0.09177090723147235\n",
      "0.15292434639534427\n",
      "0.2179715197923148\n",
      "0.20315574185906582\n",
      "8\n",
      "0.0432311765593216\n",
      "0.07519094224058497\n",
      "0.1263673603393583\n",
      "0.12453102269853579\n",
      "9\n",
      "0.04612952822585621\n",
      "0.08390932797615752\n",
      "0.13952669074949411\n",
      "0.12452905341430467\n",
      "10\n",
      "0.07534621475279375\n",
      "0.10920925530150724\n",
      "0.1735515397965274\n",
      "0.18279908950357465\n",
      "11\n",
      "0.06971104758368292\n",
      "0.15117381124015006\n",
      "0.2198371540504253\n",
      "0.18279935546300094\n",
      "12\n",
      "0.05646410895937914\n",
      "0.09472227859300518\n",
      "0.15876304297141489\n",
      "0.13710983969022963\n",
      "13\n",
      "0.07996004470325228\n",
      "0.16463786587210355\n",
      "0.23568516763602587\n",
      "0.2241110367116062\n",
      "14\n",
      "0.04242737086128693\n",
      "0.07993302928665275\n",
      "0.12933844027698854\n",
      "0.12004335936462215\n",
      "15\n",
      "0.12965531657203813\n",
      "0.2131339425317265\n",
      "0.27815672340721465\n",
      "0.2597740706839199\n",
      "16\n",
      "0.05523962110355735\n",
      "0.0636595936520292\n",
      "0.09826235174611699\n",
      "0.06802822940704896\n",
      "17\n",
      "0.09973135243675965\n",
      "0.14159151060309583\n",
      "0.19389952637849364\n",
      "0.17795318407130595\n"
     ]
    }
   ],
   "source": [
    "for i in range(4,18):\n",
    "    print(i)\n",
    "    rmsd.main(args=[\"./opt/{}_opt.xyz\".format(i),\"./NR_H0/{}_NR.xyz\".format(i)])\n",
    "    rmsd.main(args=[\"./opt/{}_opt.xyz\".format(i),\"./pred_geoms/{}_p.xyz\".format(i)])\n",
    "    rmsd.main(args=[\"./opt/{}_opt.xyz\".format(i),\"./pred_geoms/{}_bg.xyz\".format(i)])\n",
    "    rmsd.main(args=[\"./NR_H0/{}_NR.xyz\".format(i),\"./pred_geoms/{}_bg.xyz\".format(i)])"
   ]
  },
  {
   "cell_type": "code",
   "execution_count": 143,
   "metadata": {},
   "outputs": [
    {
     "name": "stdout",
     "output_type": "stream",
     "text": [
      "4\n",
      "0.03827002468384104\n",
      "5\n",
      "0.08672385592944967\n",
      "6\n",
      "0.08708471482329563\n",
      "7\n",
      "0.12750185569257078\n",
      "8\n",
      "0.06454451498357285\n",
      "9\n",
      "0.06470099925973614\n",
      "10\n",
      "0.10867539332270756\n",
      "11\n",
      "0.10834467204514125\n",
      "12\n",
      "0.06447342744158287\n",
      "13\n",
      "0.1458997833420189\n",
      "14\n",
      "0.06483952191219988\n",
      "15\n",
      "0.1824334699148727\n",
      "16\n",
      "0.021104609553829725\n",
      "17\n",
      "0.11329044454932372\n"
     ]
    }
   ],
   "source": [
    "for i in range(4,18):\n",
    "    print(i)\n",
    "    rmsd.main(args=[\"./pred_geoms/{}_p.xyz\".format(i),\"./NR_H0/{}_NR.xyz\".format(i)])"
   ]
  },
  {
   "cell_type": "markdown",
   "metadata": {},
   "source": [
    "# Energies"
   ]
  },
  {
   "cell_type": "code",
   "execution_count": 25,
   "metadata": {},
   "outputs": [],
   "source": [
    "ve=[]\n",
    "for m in mut_list1:\n",
    "    ve.append(apbz.APDFT3([symbol2charge[x]-6 for x in m])+absec(\"CCCCCC\",m))\n",
    "for m in mut_list2:\n",
    "    ve.append(apbz.APDFT3([symbol2charge[x]-6 for x in m])+absec(\"CCCCCC\",m))\n",
    "for m in mut_list3:\n",
    "    ve.append(apbz.APDFT3([symbol2charge[x]-6 for x in m])+absec(\"CCCCCC\",m))"
   ]
  },
  {
   "cell_type": "code",
   "execution_count": 20,
   "metadata": {},
   "outputs": [
    {
     "data": {
      "text/plain": [
       "[-234.19061699804783,\n",
       " -234.11416772261225,\n",
       " -234.13245191013118,\n",
       " -237.68727200366925,\n",
       " -237.49671255053715,\n",
       " -237.49889760583955,\n",
       " -237.38147490196437,\n",
       " -237.58157466523903,\n",
       " -237.56693404206675,\n",
       " -237.4516963930366,\n",
       " -237.46415196189278,\n",
       " -237.62910691557607,\n",
       " -237.32330981386733,\n",
       " -237.5559701657905,\n",
       " -240.66706626846738,\n",
       " -241.27866047186282,\n",
       " -240.89972662084446]"
      ]
     },
     "execution_count": 20,
     "metadata": {},
     "output_type": "execute_result"
    }
   ],
   "source": [
    "ve"
   ]
  },
  {
   "cell_type": "code",
   "execution_count": 26,
   "metadata": {},
   "outputs": [
    {
     "data": {
      "text/plain": [
       "[-234.195808181066,\n",
       " -234.11935890563043,\n",
       " -234.13764309314936,\n",
       " -237.69765436970562,\n",
       " -237.50709491657352,\n",
       " -237.5092799718759,\n",
       " -237.3918572680007,\n",
       " -237.5919570312754,\n",
       " -237.57731640810312,\n",
       " -237.46207875907294,\n",
       " -237.47453432792912,\n",
       " -237.63948928161244,\n",
       " -237.33369217990366,\n",
       " -237.56635253182685,\n",
       " -240.6826398175219,\n",
       " -241.29423402091734,\n",
       " -240.91530016989898]"
      ]
     },
     "execution_count": 26,
     "metadata": {},
     "output_type": "execute_result"
    }
   ],
   "source": [
    "ve"
   ]
  },
  {
   "cell_type": "code",
   "execution_count": 23,
   "metadata": {},
   "outputs": [],
   "source": [
    "der=[]\n",
    "for m in mut_list1:\n",
    "    af=np.einsum(\"ijk,i->jk\",af_array,[symbol2charge[x]-6 for x in m])\n",
    "    der.append(nr_DE(af,h0))\n",
    "for m in mut_list2:\n",
    "    af=np.einsum(\"ijk,i->jk\",af_array,[symbol2charge[x]-6 for x in m])\n",
    "    der.append(nr_DE(af,h0))\n",
    "for m in mut_list3:\n",
    "    af=np.einsum(\"ijk,i->jk\",af_array,[symbol2charge[x]-6 for x in m])\n",
    "    der.append(nr_DE(af,h0))"
   ]
  },
  {
   "cell_type": "code",
   "execution_count": 24,
   "metadata": {},
   "outputs": [
    {
     "data": {
      "text/plain": [
       "[-0.02996032447921387,\n",
       " -0.04740279075758845,\n",
       " -0.04884167834669828,\n",
       " -0.04391707031649379,\n",
       " -0.07592422760387703,\n",
       " -0.07592422760387703,\n",
       " -0.11368693542868308,\n",
       " -0.05848176150115905,\n",
       " -0.05848176150115905,\n",
       " -0.0962444686631195,\n",
       " -0.0962444686631195,\n",
       " -0.06279842389464045,\n",
       " -0.13256828900228648,\n",
       " -0.057042874020063264,\n",
       " -0.1814099667100488,\n",
       " -0.041870237287339934,\n",
       " -0.10588455240080201]"
      ]
     },
     "execution_count": 24,
     "metadata": {},
     "output_type": "execute_result"
    }
   ],
   "source": [
    "der"
   ]
  },
  {
   "cell_type": "code",
   "execution_count": 40,
   "metadata": {},
   "outputs": [],
   "source": [
    "re=[]\n",
    "for i in range(len(ve)):\n",
    "    re.append(ve[i]+der[i])"
   ]
  },
  {
   "cell_type": "code",
   "execution_count": 41,
   "metadata": {},
   "outputs": [
    {
     "data": {
      "text/plain": [
       "[-234.22576850554515,\n",
       " -234.16676169638782,\n",
       " -234.18648477149603,\n",
       " -237.74157144002226,\n",
       " -237.58301914417692,\n",
       " -237.5852041994793,\n",
       " -237.50554420342903,\n",
       " -237.65043879277619,\n",
       " -237.6357981696039,\n",
       " -237.55832322773583,\n",
       " -237.570778796592,\n",
       " -237.70228770550727,\n",
       " -237.46626046890563,\n",
       " -237.62339540584637,\n",
       " -240.8640497842316,\n",
       " -241.33610425820535,\n",
       " -241.0211847222992]"
      ]
     },
     "execution_count": 41,
     "metadata": {},
     "output_type": "execute_result"
    }
   ],
   "source": [
    "re"
   ]
  },
  {
   "cell_type": "code",
   "execution_count": 13,
   "metadata": {},
   "outputs": [],
   "source": [
    "ve2=[]\n",
    "for m in mut_list1:\n",
    "    ve2.append(apbz.APDFT2([symbol2charge[x]-6 for x in m])+absec(\"CCCCCC\",m))\n",
    "for m in mut_list2:\n",
    "    ve2.append(apbz.APDFT2([symbol2charge[x]-6 for x in m])+absec(\"CCCCCC\",m))\n",
    "for m in mut_list3:\n",
    "    ve2.append(apbz.APDFT2([symbol2charge[x]-6 for x in m])+absec(\"CCCCCC\",m))"
   ]
  },
  {
   "cell_type": "code",
   "execution_count": 14,
   "metadata": {},
   "outputs": [
    {
     "data": {
      "text/plain": [
       "[-234.1958081810586,\n",
       " -234.11935890563154,\n",
       " -234.13764309315025,\n",
       " -237.69765436971124,\n",
       " -237.5081874437176,\n",
       " -237.50818744474554,\n",
       " -237.39185726800991,\n",
       " -237.58463671943753,\n",
       " -237.5846367199536,\n",
       " -237.46830654376794,\n",
       " -237.46830654324776,\n",
       " -237.63948928161614,\n",
       " -237.33369217990997,\n",
       " -237.56635253181224,\n",
       " -240.68263981753205,\n",
       " -241.2942340209282,\n",
       " -240.91530016990546]"
      ]
     },
     "execution_count": 14,
     "metadata": {},
     "output_type": "execute_result"
    }
   ],
   "source": [
    "ve2"
   ]
  },
  {
   "cell_type": "code",
   "execution_count": 25,
   "metadata": {},
   "outputs": [],
   "source": [
    "re2=[]\n",
    "for i in range(len(ve2)):\n",
    "    re2.append(ve2[i]+der[i])"
   ]
  },
  {
   "cell_type": "code",
   "execution_count": 26,
   "metadata": {},
   "outputs": [
    {
     "data": {
      "text/plain": [
       "[-234.22576850553781,\n",
       " -234.16676169638913,\n",
       " -234.18648477149694,\n",
       " -237.74157144002774,\n",
       " -237.58411167132147,\n",
       " -237.58411167234942,\n",
       " -237.5055442034386,\n",
       " -237.64311848093868,\n",
       " -237.64311848145476,\n",
       " -237.56455101243105,\n",
       " -237.56455101191088,\n",
       " -237.70228770551077,\n",
       " -237.46626046891225,\n",
       " -237.6233954058323,\n",
       " -240.8640497842421,\n",
       " -241.33610425821553,\n",
       " -241.02118472230626]"
      ]
     },
     "execution_count": 26,
     "metadata": {},
     "output_type": "execute_result"
    }
   ],
   "source": [
    "re2"
   ]
  },
  {
   "cell_type": "code",
   "execution_count": 27,
   "metadata": {},
   "outputs": [
    {
     "data": {
      "text/plain": [
       "array([0.02996032, 0.04740279, 0.04884168, 0.04391707, 0.07592423,\n",
       "       0.07592423, 0.11368694, 0.05848176, 0.05848176, 0.09624447,\n",
       "       0.09624447, 0.06279842, 0.13256829, 0.05704287, 0.18140997,\n",
       "       0.04187024, 0.10588455])"
      ]
     },
     "execution_count": 27,
     "metadata": {},
     "output_type": "execute_result"
    }
   ],
   "source": [
    "np.asarray(ve2)-np.asarray(re2)"
   ]
  },
  {
   "cell_type": "code",
   "execution_count": 34,
   "metadata": {},
   "outputs": [],
   "source": [
    "ve2.sort(),re2.sort()"
   ]
  },
  {
   "cell_type": "code",
   "execution_count": 37,
   "metadata": {},
   "outputs": [
    {
     "data": {
      "text/plain": [
       "[-241.2942340209282,\n",
       " -240.91530016990546,\n",
       " -240.68263981753205,\n",
       " -237.69765436971124,\n",
       " -237.63948928161614,\n",
       " -237.5846367199536,\n",
       " -237.58463671943753,\n",
       " -237.56635253181224,\n",
       " -237.50818744474554,\n",
       " -237.5081874437176,\n",
       " -237.46830654376794,\n",
       " -237.46830654324776,\n",
       " -237.39185726800991,\n",
       " -237.33369217990997,\n",
       " -234.1958081810586,\n",
       " -234.13764309315025,\n",
       " -234.11935890563154]"
      ]
     },
     "execution_count": 37,
     "metadata": {},
     "output_type": "execute_result"
    }
   ],
   "source": [
    "ve2"
   ]
  },
  {
   "cell_type": "code",
   "execution_count": 38,
   "metadata": {},
   "outputs": [
    {
     "data": {
      "text/plain": [
       "[-234.22576850553781,\n",
       " -234.16676169638913,\n",
       " -234.18648477149694,\n",
       " -237.74157144002774,\n",
       " -237.58411167132147,\n",
       " -237.58411167234942,\n",
       " -237.5055442034386,\n",
       " -237.64311848093868,\n",
       " -237.64311848145476,\n",
       " -237.56455101243105,\n",
       " -237.56455101191088,\n",
       " -237.70228770551077,\n",
       " -237.46626046891225,\n",
       " -237.6233954058323,\n",
       " -240.8640497842421,\n",
       " -241.33610425821553,\n",
       " -241.02118472230626]"
      ]
     },
     "execution_count": 38,
     "metadata": {},
     "output_type": "execute_result"
    }
   ],
   "source": [
    "re2"
   ]
  }
 ],
 "metadata": {
  "kernelspec": {
   "display_name": "Python 3",
   "language": "python",
   "name": "python3"
  },
  "language_info": {
   "codemirror_mode": {
    "name": "ipython",
    "version": 3
   },
   "file_extension": ".py",
   "mimetype": "text/x-python",
   "name": "python",
   "nbconvert_exporter": "python",
   "pygments_lexer": "ipython3",
   "version": "3.7.3"
  }
 },
 "nbformat": 4,
 "nbformat_minor": 2
}
