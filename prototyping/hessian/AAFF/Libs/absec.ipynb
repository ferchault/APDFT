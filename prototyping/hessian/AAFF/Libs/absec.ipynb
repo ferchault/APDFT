{
 "cells": [
  {
   "cell_type": "code",
   "execution_count": 1,
   "metadata": {},
   "outputs": [],
   "source": [
    "import pyscf\n",
    "from pyscf.gto import M\n",
    "from pyscf.scf import RHF,UHF\n",
    "from FcMole import FcM\n",
    "import pandas as pd\n",
    "import numpy as np\n",
    "import basis_set_exchange as bse\n",
    "import re\n",
    "import sys"
   ]
  },
  {
   "cell_type": "code",
   "execution_count": 38,
   "metadata": {},
   "outputs": [],
   "source": [
    "atoms=\"G,H,He,Li,Be,B,C,N,O,F,Ne,Na,Mg,Al\"\n",
    "atoms=atoms.split(',')\n",
    "def abse_atom(ref,targ,bs=\"pcX-2\"):\n",
    "    spin=(atoms.index(targ))%2\n",
    "    T=M(atom='{} 0 0 0'.format(targ),spin=spin,\\\n",
    "             basis=bse.get_basis(bs,fmt=\"nwchem\",elements=[atoms.index(targ)]))\n",
    "    TatR=M( atom='{} 0 0 0'.format(targ),spin=spin,\\\n",
    "             basis=bse.get_basis(bs,fmt=\"nwchem\",elements=[atoms.index(ref)]))\n",
    "    eT=RHF(T).kernel()\n",
    "    mf=RHF(TatR)\n",
    "    eTatR=mf.scf(dm0=mf.init_guess_by_1e())\n",
    "    return eTatR-eT"
   ]
  },
  {
   "cell_type": "code",
   "execution_count": 39,
   "metadata": {},
   "outputs": [],
   "source": [
    "def abse_corr(ref,targ,bs=\"pcX-2\"):\n",
    "    reflist= re.sub( r\"([A-Z])\", r\" \\1\", ref).split()\n",
    "    targlist= re.sub( r\"([A-Z])\", r\" \\1\", targ).split()\n",
    "    if len(reflist) != len(targlist):\n",
    "        print(reflist,targlist,\"reference and target lengths do not match!\", sys.exc_info()[0])\n",
    "        raise \n",
    "    bsae=0\n",
    "    for i in range(len(reflist)):\n",
    "        bsae+=abse_atom(reflist[i],targlist[i],bs)\n",
    "    return (bsae)\n",
    "   # return  (delta_bs(atoms_mol[ref][0],atoms_mol[targ][0],bs)+\n",
    "#delta_bs(atoms_mol[ref][1],atoms_mol[targ][1],bs))"
   ]
  },
  {
   "cell_type": "code",
   "execution_count": 40,
   "metadata": {},
   "outputs": [
    {
     "name": "stdout",
     "output_type": "stream",
     "text": [
      "converged SCF energy = -24.528185922659\n",
      "converged SCF energy = -24.5234817348501\n"
     ]
    },
    {
     "data": {
      "text/plain": [
       "0.004704187808897586"
      ]
     },
     "execution_count": 40,
     "metadata": {},
     "output_type": "execute_result"
    }
   ],
   "source": [
    "abse_corr(\"C\",\"B\")"
   ]
  },
  {
   "cell_type": "code",
   "execution_count": null,
   "metadata": {},
   "outputs": [],
   "source": []
  },
  {
   "cell_type": "code",
   "execution_count": 43,
   "metadata": {},
   "outputs": [],
   "source": [
    "ref=\"C\"\n",
    "targ=\"N\"\n",
    "spin=(atoms.index(targ))%2\n",
    "molep2=M(atom='{} 0 0 0'.format(targ),\\\n",
    "             basis=bse.get_basis(\"pcX-2\",fmt=\"nwchem\",elements=[8]),spin=spin)"
   ]
  },
  {
   "cell_type": "code",
   "execution_count": 44,
   "metadata": {},
   "outputs": [
    {
     "name": "stdout",
     "output_type": "stream",
     "text": [
      "converged SCF energy = -54.258387229355\n"
     ]
    },
    {
     "data": {
      "text/plain": [
       "-54.258387229355044"
      ]
     },
     "execution_count": 44,
     "metadata": {},
     "output_type": "execute_result"
    }
   ],
   "source": [
    "RHF(molep2).scf()"
   ]
  },
  {
   "cell_type": "code",
   "execution_count": 46,
   "metadata": {
    "scrolled": true
   },
   "outputs": [
    {
     "name": "stdout",
     "output_type": "stream",
     "text": [
      "converged SCF energy = -74.6877238559482\n",
      "converged SCF energy = -74.6871564090566\n"
     ]
    },
    {
     "data": {
      "text/plain": [
       "0.0005674468915941588"
      ]
     },
     "execution_count": 46,
     "metadata": {},
     "output_type": "execute_result"
    }
   ],
   "source": [
    "abse_corr(\"N\",\"O\",\"pcX-2\")"
   ]
  },
  {
   "cell_type": "code",
   "execution_count": 47,
   "metadata": {},
   "outputs": [
    {
     "name": "stdout",
     "output_type": "stream",
     "text": [
      "converged SCF energy = -14.5723584679195\n",
      "converged SCF energy = -14.5717610382801\n",
      "converged SCF energy = -24.528185922659\n",
      "converged SCF energy = -24.5208288489264\n",
      "converged SCF energy = -37.6029290136078\n",
      "converged SCF energy = -37.5838822376632\n",
      "converged SCF energy = -54.2616567416513\n",
      "converged SCF energy = -54.218716860902\n",
      "converged SCF energy = -74.6877238559481\n",
      "converged SCF energy = -74.5860701426948\n",
      "converged SCF energy = -99.4065434956605\n",
      "converged SCF energy = -99.1713799914758\n",
      "converged SCF energy = -128.540597898726\n",
      "converged SCF energy = -128.037490222955\n",
      "converged SCF energy = -7.43231751927277\n",
      "converged SCF energy = -7.42646284299342\n",
      "converged SCF energy = -24.5281859226591\n",
      "converged SCF energy = -24.4970358700805\n",
      "converged SCF energy = -37.6029290136078\n",
      "converged SCF energy = -37.5662691452007\n",
      "converged SCF energy = -54.2616567416514\n",
      "converged SCF energy = -54.2309611586183\n",
      "converged SCF energy = -74.6877238559482\n",
      "converged SCF energy = -74.643710432492\n",
      "converged SCF energy = -99.4065434956605\n",
      "converged SCF energy = -99.3250508428892\n",
      "converged SCF energy = -128.540597898726\n",
      "converged SCF energy = -128.375580263077\n",
      "converged SCF energy = -7.43231751927277\n",
      "converged SCF energy = -7.35005415929025\n",
      "converged SCF energy = -14.5723584679195\n",
      "converged SCF energy = -14.281719468804\n",
      "converged SCF energy = -37.6029290136078\n",
      "converged SCF energy = -37.6025006982265\n",
      "converged SCF energy = -54.2616567416514\n",
      "converged SCF energy = -54.2581728055591\n",
      "converged SCF energy = -74.6877238559481\n",
      "converged SCF energy = -74.677111498002\n",
      "converged SCF energy = -99.4065434956605\n",
      "converged SCF energy = -99.3822157419595\n",
      "converged SCF energy = -128.540597898726\n",
      "converged SCF energy = -128.490830037079\n",
      "converged SCF energy = -7.43231751927277\n",
      "converged SCF energy = -7.32955181053218\n",
      "converged SCF energy = -14.5723584679195\n",
      "converged SCF energy = -14.2665665074829\n",
      "converged SCF energy = -24.528185922659\n",
      "converged SCF energy = -24.5234817348501\n",
      "converged SCF energy = -54.2616567416513\n",
      "converged SCF energy = -54.261169746442\n",
      "converged SCF energy = -74.6877238559481\n",
      "converged SCF energy = -74.6844669606883\n",
      "converged SCF energy = -99.4065434956606\n",
      "converged SCF energy = -99.396756672598\n",
      "converged SCF energy = -128.540597898726\n",
      "converged SCF energy = -128.518126390344\n",
      "converged SCF energy = -7.43231751927277\n",
      "converged SCF energy = -7.30420929933775\n",
      "converged SCF energy = -14.5723584679195\n",
      "converged SCF energy = -14.2438693770643\n",
      "converged SCF energy = -24.5281859226591\n",
      "converged SCF energy = -24.5050889562737\n",
      "converged SCF energy = -37.6029290136079\n",
      "converged SCF energy = -37.5987959663903\n",
      "converged SCF energy = -74.6877238559482\n",
      "converged SCF energy = -74.6871564090566\n",
      "converged SCF energy = -99.4065434956606\n",
      "converged SCF energy = -99.4030510920551\n",
      "converged SCF energy = -128.540597898726\n",
      "converged SCF energy = -128.530531424094\n",
      "converged SCF energy = -7.43231751927277\n",
      "converged SCF energy = -7.27408862406268\n",
      "converged SCF energy = -14.5723584679195\n",
      "converged SCF energy = -14.2133439738318\n",
      "converged SCF energy = -24.5281859226591\n",
      "converged SCF energy = -24.0075638286823\n",
      "converged SCF energy = -37.6029290136079\n",
      "converged SCF energy = -37.5840464663297\n",
      "converged SCF energy = -54.2616567416514\n",
      "converged SCF energy = -54.2583872293556\n",
      "converged SCF energy = -99.4065434956606\n",
      "converged SCF energy = -99.4057443875085\n",
      "converged SCF energy = -128.540597898726\n",
      "converged SCF energy = -128.536562598744\n",
      "converged SCF energy = -7.43231751927277\n",
      "converged SCF energy = -7.22878145537756\n",
      "converged SCF energy = -14.5723584679195\n",
      "converged SCF energy = -14.1608985389515\n",
      "converged SCF energy = -24.528185922659\n",
      "converged SCF energy = -23.9761606937051\n",
      "converged SCF energy = -37.6029290136078\n",
      "converged SCF energy = -37.5478804595918\n",
      "converged SCF energy = -54.2616567416514\n",
      "converged SCF energy = -54.2458704225325\n",
      "converged SCF energy = -74.6877238559482\n",
      "converged SCF energy = -74.6847570920603\n",
      "converged SCF energy = -128.540597898726\n",
      "converged SCF energy = -128.53969597997\n",
      "converged SCF energy = -7.43231751927277\n",
      "converged SCF energy = -7.16984239563023\n",
      "converged SCF energy = -14.5723584679195\n",
      "converged SCF energy = -14.0841918919392\n",
      "converged SCF energy = -24.5281859226591\n",
      "converged SCF energy = -23.9217351073766\n",
      "converged SCF energy = -37.6029290136078\n",
      "converged SCF energy = -36.7984133180277\n",
      "converged SCF energy = -54.2616567416514\n",
      "converged SCF energy = -54.2144101046148\n",
      "converged SCF energy = -74.6877238559481\n",
      "converged SCF energy = -74.6726319779506\n",
      "converged SCF energy = -99.4065434956607\n",
      "converged SCF energy = -99.4035513101126\n"
     ]
    }
   ],
   "source": [
    "d={}\n",
    "for i in \"Li,Be,B,C,N,O,F,Ne\".split(','):\n",
    "    for j in \"Li,Be,B,C,N,O,F,Ne\".split(','):\n",
    "        if i==j: continue\n",
    "        d[(i,j)]=abse_atom(i,j)"
   ]
  },
  {
   "cell_type": "code",
   "execution_count": 51,
   "metadata": {},
   "outputs": [
    {
     "data": {
      "text/plain": [
       "{('Li', 'Be'): 0.000597429639372038,\n",
       " ('Li', 'B'): 0.007357073732691788,\n",
       " ('Li', 'C'): 0.01904677594460935,\n",
       " ('Li', 'N'): 0.042939880749266024,\n",
       " ('Li', 'O'): 0.10165371325324202,\n",
       " ('Li', 'F'): 0.23516350418471177,\n",
       " ('Li', 'Ne'): 0.5031076757715311,\n",
       " ('Be', 'Li'): 0.005854676279352766,\n",
       " ('Be', 'B'): 0.031150052578613696,\n",
       " ('Be', 'C'): 0.036659868407134866,\n",
       " ('Be', 'N'): 0.030695583033050866,\n",
       " ('Be', 'O'): 0.04401342345613557,\n",
       " ('Be', 'F'): 0.08149265277130269,\n",
       " ('Be', 'Ne'): 0.16501763564878047,\n",
       " ('B', 'Li'): 0.08226335998251866,\n",
       " ('B', 'Be'): 0.29063899911544944,\n",
       " ('B', 'C'): 0.0004283153812849605,\n",
       " ('B', 'N'): 0.0034839360923086815,\n",
       " ('B', 'O'): 0.010612357946030215,\n",
       " ('B', 'F'): 0.02432775370101581,\n",
       " ('B', 'Ne'): 0.049767861647552536,\n",
       " ('C', 'Li'): 0.10276570874058866,\n",
       " ('C', 'Be'): 0.3057919604366326,\n",
       " ('C', 'B'): 0.004704187808904692,\n",
       " ('C', 'N'): 0.0004869952092718677,\n",
       " ('C', 'O'): 0.003256895259795556,\n",
       " ('C', 'F'): 0.009786823062597705,\n",
       " ('C', 'Ne'): 0.02247150838257994,\n",
       " ('N', 'Li'): 0.1281082199350223,\n",
       " ('N', 'Be'): 0.32848909085522315,\n",
       " ('N', 'B'): 0.023096966385320883,\n",
       " ('N', 'C'): 0.004133047217614205,\n",
       " ('N', 'O'): 0.0005674468915941588,\n",
       " ('N', 'F'): 0.0034924036055485885,\n",
       " ('N', 'Ne'): 0.010066474631855726,\n",
       " ('O', 'Li'): 0.15822889521008587,\n",
       " ('O', 'Be'): 0.3590144940877078,\n",
       " ('O', 'B'): 0.5206220939767476,\n",
       " ('O', 'C'): 0.01888254727820282,\n",
       " ('O', 'N'): 0.003269512295844379,\n",
       " ('O', 'F'): 0.0007991081521083743,\n",
       " ('O', 'Ne'): 0.00403529998192198,\n",
       " ('F', 'Li'): 0.20353606389520706,\n",
       " ('F', 'Be'): 0.4114599289680232,\n",
       " ('F', 'B'): 0.552025228953962,\n",
       " ('F', 'C'): 0.05504855401603237,\n",
       " ('F', 'N'): 0.015786319118880954,\n",
       " ('F', 'O'): 0.0029667638878976277,\n",
       " ('F', 'Ne'): 0.000901918755943143,\n",
       " ('Ne', 'Li'): 0.2624751236425453,\n",
       " ('Ne', 'Be'): 0.48816657598033864,\n",
       " ('Ne', 'B'): 0.6064508152824715,\n",
       " ('Ne', 'C'): 0.8045156955800863,\n",
       " ('Ne', 'N'): 0.04724663703657228,\n",
       " ('Ne', 'O'): 0.015091877997491565,\n",
       " ('Ne', 'F'): 0.0029921855481092052}"
      ]
     },
     "execution_count": 51,
     "metadata": {},
     "output_type": "execute_result"
    }
   ],
   "source": [
    "d"
   ]
  },
  {
   "cell_type": "code",
   "execution_count": 54,
   "metadata": {},
   "outputs": [
    {
     "name": "stdout",
     "output_type": "stream",
     "text": [
      "The autoreload extension is already loaded. To reload it, use:\n",
      "  %reload_ext autoreload\n"
     ]
    }
   ],
   "source": [
    "%load_ext autoreload\n",
    "%autoreload 2\n",
    "from ABSE import absec"
   ]
  },
  {
   "cell_type": "code",
   "execution_count": 55,
   "metadata": {},
   "outputs": [
    {
     "data": {
      "text/plain": [
       "0.003256895259795556"
      ]
     },
     "execution_count": 55,
     "metadata": {},
     "output_type": "execute_result"
    }
   ],
   "source": [
    "absec(\"C\",\"O\")"
   ]
  },
  {
   "cell_type": "code",
   "execution_count": 56,
   "metadata": {},
   "outputs": [
    {
     "data": {
      "text/plain": [
       "0.003256895259795556"
      ]
     },
     "execution_count": 56,
     "metadata": {},
     "output_type": "execute_result"
    }
   ],
   "source": [
    "d[(\"C\",\"O\")]"
   ]
  },
  {
   "cell_type": "code",
   "execution_count": null,
   "metadata": {},
   "outputs": [],
   "source": []
  }
 ],
 "metadata": {
  "kernelspec": {
   "display_name": "Python 3",
   "language": "python",
   "name": "python3"
  },
  "language_info": {
   "codemirror_mode": {
    "name": "ipython",
    "version": 3
   },
   "file_extension": ".py",
   "mimetype": "text/x-python",
   "name": "python",
   "nbconvert_exporter": "python",
   "pygments_lexer": "ipython3",
   "version": "3.7.3"
  }
 },
 "nbformat": 4,
 "nbformat_minor": 2
}
