{
 "cells": [
  {
   "cell_type": "code",
   "execution_count": 14,
   "metadata": {},
   "outputs": [],
   "source": [
    "from pyscf import gto,scf,prop\n",
    "from pyscf.geomopt.berny_solver  import optimize"
   ]
  },
  {
   "cell_type": "code",
   "execution_count": 4,
   "metadata": {},
   "outputs": [],
   "source": [
    "h2=gto.M(atom=\"H 0 0 0; H 0 0 2\")"
   ]
  },
  {
   "cell_type": "code",
   "execution_count": 5,
   "metadata": {},
   "outputs": [
    {
     "name": "stdout",
     "output_type": "stream",
     "text": [
      "converged SCF energy = -0.783792654277353\n"
     ]
    },
    {
     "data": {
      "text/plain": [
       "-0.783792654277353"
      ]
     },
     "execution_count": 5,
     "metadata": {},
     "output_type": "execute_result"
    }
   ],
   "source": [
    "mf=scf.RHF(h2)\n",
    "mf.scf()"
   ]
  },
  {
   "cell_type": "code",
   "execution_count": 15,
   "metadata": {},
   "outputs": [
    {
     "name": "stdout",
     "output_type": "stream",
     "text": [
      "\n",
      "Geometry optimization cycle 1\n",
      "Cartesian coordinates (Angstrom)\n",
      " Atom        New coordinates             dX        dY        dZ\n",
      "   H   0.000000   0.000000   0.000000    0.000000  0.000000  0.000000\n",
      "   H   0.000000   0.000000   2.000000    0.000000  0.000000  0.000000\n",
      "converged SCF energy = -0.783792654277353\n",
      "--------------- SCF_Scanner gradients ---------------\n",
      "         x                y                z\n",
      "0 H     0.0000000000     0.0000000000    -0.1088294356\n",
      "1 H     0.0000000000     0.0000000000     0.1088294356\n",
      "----------------------------------------------\n",
      "cycle 1: E = -0.783792654277  dE = -0.783793  norm(grad) = 0.153908\n",
      "\n",
      "Geometry optimization cycle 2\n",
      "Cartesian coordinates (Angstrom)\n",
      " Atom        New coordinates             dX        dY        dZ\n",
      "   H   0.000000   0.000000   0.079377    0.000000  0.000000  0.079377\n",
      "   H   0.000000   0.000000   1.920623    0.000000  0.000000 -0.079377\n",
      "\n",
      "WARN: Large deviations found between the input molecule and the molecule from chkfile\n",
      "Initial guess density matrix may have large error.\n",
      "\n",
      "converged SCF energy = -0.818908233098904\n",
      "--------------- SCF_Scanner gradients ---------------\n",
      "         x                y                z\n",
      "0 H     0.0000000000     0.0000000000    -0.1253577102\n",
      "1 H     0.0000000000     0.0000000000     0.1253577102\n",
      "----------------------------------------------\n",
      "cycle 2: E = -0.818908233099  dE = -0.0351156  norm(grad) = 0.177283\n",
      "\n",
      "Geometry optimization cycle 3\n",
      "Cartesian coordinates (Angstrom)\n",
      " Atom        New coordinates             dX        dY        dZ\n",
      "   H   0.000000   0.000000   0.238130    0.000000  0.000000  0.158753\n",
      "   H   0.000000   0.000000   1.761870    0.000000  0.000000 -0.158753\n",
      "\n",
      "WARN: Large deviations found between the input molecule and the molecule from chkfile\n",
      "Initial guess density matrix may have large error.\n",
      "\n",
      "converged SCF energy = -0.903809800967459\n",
      "--------------- SCF_Scanner gradients ---------------\n",
      "         x                y                z\n",
      "0 H     0.0000000000     0.0000000000    -0.1564887272\n",
      "1 H     0.0000000000     0.0000000000     0.1564887272\n",
      "----------------------------------------------\n",
      "cycle 3: E = -0.903809800967  dE = -0.0849016  norm(grad) = 0.221308\n",
      "\n",
      "Geometry optimization cycle 4\n",
      "Cartesian coordinates (Angstrom)\n",
      " Atom        New coordinates             dX        dY        dZ\n",
      "   H   0.000000   0.000000   0.550193    0.000000  0.000000  0.312063\n",
      "   H   0.000000   0.000000   1.449807    0.000000  0.000000 -0.312063\n",
      "\n",
      "WARN: Large deviations found between the input molecule and the molecule from chkfile\n",
      "Initial guess density matrix may have large error.\n",
      "\n",
      "converged SCF energy = -1.09200277129776\n",
      "--------------- SCF_Scanner gradients ---------------\n",
      "         x                y                z\n",
      "0 H     0.0000000000     0.0000000000    -0.1217743306\n",
      "1 H     0.0000000000     0.0000000000     0.1217743306\n",
      "----------------------------------------------\n",
      "cycle 4: E = -1.0920027713  dE = -0.188193  norm(grad) = 0.172215\n",
      "\n",
      "Geometry optimization cycle 5\n",
      "Cartesian coordinates (Angstrom)\n",
      " Atom        New coordinates             dX        dY        dZ\n",
      "   H   0.000000   0.000000   0.784730    0.000000  0.000000  0.234538\n",
      "   H   0.000000   0.000000   1.215270    0.000000  0.000000 -0.234538\n",
      "\n",
      "WARN: Large deviations found between the input molecule and the molecule from chkfile\n",
      "Initial guess density matrix may have large error.\n",
      "\n",
      "converged SCF energy = -0.95902036140658\n",
      "--------------- SCF_Scanner gradients ---------------\n",
      "         x                y                z\n",
      "0 H     0.0000000000     0.0000000000     0.8366791563\n",
      "1 H     0.0000000000     0.0000000000    -0.8366791563\n",
      "----------------------------------------------\n",
      "cycle 5: E = -0.959020361407  dE = 0.132982  norm(grad) = 1.18324\n",
      "\n",
      "Geometry optimization cycle 6\n",
      "Cartesian coordinates (Angstrom)\n",
      " Atom        New coordinates             dX        dY        dZ\n",
      "   H   0.000000   0.000000   0.593720    0.000000  0.000000 -0.191011\n",
      "   H   0.000000   0.000000   1.406280    0.000000  0.000000  0.191011\n",
      "\n",
      "WARN: Large deviations found between the input molecule and the molecule from chkfile\n",
      "Initial guess density matrix may have large error.\n",
      "\n",
      "converged SCF energy = -1.10900631316502\n",
      "--------------- SCF_Scanner gradients ---------------\n",
      "         x                y                z\n",
      "0 H     0.0000000000     0.0000000000    -0.0815065354\n",
      "1 H     0.0000000000     0.0000000000     0.0815065354\n",
      "----------------------------------------------\n",
      "cycle 6: E = -1.10900631317  dE = -0.149986  norm(grad) = 0.115268\n",
      "\n",
      "Geometry optimization cycle 7\n",
      "Cartesian coordinates (Angstrom)\n",
      " Atom        New coordinates             dX        dY        dZ\n",
      "   H   0.000000   0.000000   0.673761    0.000000  0.000000  0.080041\n",
      "   H   0.000000   0.000000   1.326239    0.000000  0.000000 -0.080041\n",
      "\n",
      "WARN: Large deviations found between the input molecule and the molecule from chkfile\n",
      "Initial guess density matrix may have large error.\n",
      "\n",
      "converged SCF energy = -1.11337055848468\n",
      "--------------- SCF_Scanner gradients ---------------\n",
      "         x                y                z\n",
      "0 H     0.0000000000     0.0000000000     0.0779370636\n",
      "1 H     0.0000000000     0.0000000000    -0.0779370636\n",
      "----------------------------------------------\n",
      "cycle 7: E = -1.11337055848  dE = -0.00436425  norm(grad) = 0.11022\n",
      "\n",
      "Geometry optimization cycle 8\n",
      "Cartesian coordinates (Angstrom)\n",
      " Atom        New coordinates             dX        dY        dZ\n",
      "   H   0.000000   0.000000   0.634647    0.000000  0.000000 -0.039114\n",
      "   H   0.000000   0.000000   1.365353    0.000000  0.000000  0.039114\n",
      "\n",
      "WARN: Large deviations found between the input molecule and the molecule from chkfile\n",
      "Initial guess density matrix may have large error.\n",
      "\n",
      "converged SCF energy = -1.11716932094256\n",
      "--------------- SCF_Scanner gradients ---------------\n",
      "         x                y                z\n",
      "0 H     0.0000000000     0.0000000000    -0.0189273980\n",
      "1 H     0.0000000000     0.0000000000     0.0189273980\n",
      "----------------------------------------------\n",
      "cycle 8: E = -1.11716932094  dE = -0.00379876  norm(grad) = 0.0267674\n",
      "\n",
      "Geometry optimization cycle 9\n",
      "Cartesian coordinates (Angstrom)\n",
      " Atom        New coordinates             dX        dY        dZ\n",
      "   H   0.000000   0.000000   0.642290    0.000000  0.000000  0.007643\n",
      "   H   0.000000   0.000000   1.357710    0.000000  0.000000 -0.007643\n",
      "\n",
      "WARN: Large deviations found between the input molecule and the molecule from chkfile\n",
      "Initial guess density matrix may have large error.\n",
      "\n",
      "converged SCF energy = -1.11749554193522\n",
      "--------------- SCF_Scanner gradients ---------------\n",
      "         x                y                z\n",
      "0 H     0.0000000000     0.0000000000    -0.0034206430\n",
      "1 H     0.0000000000     0.0000000000     0.0034206430\n",
      "----------------------------------------------\n",
      "cycle 9: E = -1.11749554194  dE = -0.000326221  norm(grad) = 0.00483752\n",
      "\n",
      "Geometry optimization cycle 10\n",
      "Cartesian coordinates (Angstrom)\n",
      " Atom        New coordinates             dX        dY        dZ\n",
      "   H   0.000000   0.000000   0.643976    0.000000  0.000000  0.001686\n",
      "   H   0.000000   0.000000   1.356024    0.000000  0.000000 -0.001686\n",
      "converged SCF energy = -1.11750585122832\n",
      "--------------- SCF_Scanner gradients ---------------\n",
      "         x                y                z\n",
      "0 H     0.0000000000     0.0000000000     0.0001971280\n",
      "1 H     0.0000000000     0.0000000000    -0.0001971280\n",
      "----------------------------------------------\n",
      "cycle 10: E = -1.11750585123  dE = -1.03093e-05  norm(grad) = 0.000278781\n",
      "\n",
      "Geometry optimization cycle 11\n",
      "Cartesian coordinates (Angstrom)\n",
      " Atom        New coordinates             dX        dY        dZ\n",
      "   H   0.000000   0.000000   0.643884    0.000000  0.000000 -0.000092\n",
      "   H   0.000000   0.000000   1.356116    0.000000  0.000000  0.000092\n",
      "converged SCF energy = -1.11750588511297\n",
      "--------------- SCF_Scanner gradients ---------------\n",
      "         x                y                z\n",
      "0 H     0.0000000000     0.0000000000    -0.0000019051\n",
      "1 H     0.0000000000     0.0000000000     0.0000019051\n",
      "----------------------------------------------\n",
      "cycle 11: E = -1.11750588511  dE = -3.38846e-08  norm(grad) = 2.69426e-06\n"
     ]
    }
   ],
   "source": [
    "mol_eq=optimize(mf)"
   ]
  },
  {
   "cell_type": "code",
   "execution_count": 22,
   "metadata": {},
   "outputs": [
    {
     "name": "stdout",
     "output_type": "stream",
     "text": [
      "converged SCF energy = -1.11750588511297\n"
     ]
    },
    {
     "data": {
      "text/plain": [
       "-1.1175058851129651"
      ]
     },
     "execution_count": 22,
     "metadata": {},
     "output_type": "execute_result"
    }
   ],
   "source": [
    "mf2=scf.RHF(mol_eq)\n",
    "mf2.scf()"
   ]
  },
  {
   "cell_type": "code",
   "execution_count": 23,
   "metadata": {},
   "outputs": [],
   "source": [
    "fo=prop.freq.rhf.Frequency(mf2)"
   ]
  },
  {
   "cell_type": "code",
   "execution_count": 24,
   "metadata": {},
   "outputs": [
    {
     "name": "stdout",
     "output_type": "stream",
     "text": [
      "Freq [-3.49633723e-04 -2.30672145e-07  8.21968652e-05  8.61472604e+00\n",
      "  8.61472604e+00  5.48073903e+03]\n"
     ]
    },
    {
     "data": {
      "text/plain": [
       "(array([-3.49633723e-04, -2.30672145e-07,  8.21968652e-05,  8.61472604e+00,\n",
       "         8.61472604e+00,  5.48073903e+03]),\n",
       " array([[[-1.72915710e-10,  8.04103488e-03,  7.07061059e-01],\n",
       "         [-1.72915711e-10,  8.04103488e-03,  7.07061059e-01]],\n",
       " \n",
       "        [[-7.07106781e-01,  2.19838549e-07, -2.67303550e-09],\n",
       "         [-7.07106781e-01,  2.19838549e-07, -2.67303550e-09]],\n",
       " \n",
       "        [[-2.19854731e-07, -7.07061059e-01,  8.04103488e-03],\n",
       "         [-2.19854731e-07, -7.07061059e-01,  8.04103488e-03]],\n",
       " \n",
       "        [[-5.63050506e-17, -7.07106781e-01,  0.00000000e+00],\n",
       "         [ 0.00000000e+00,  7.07106781e-01, -5.59646773e-19]],\n",
       " \n",
       "        [[ 7.07106781e-01,  0.00000000e+00,  0.00000000e+00],\n",
       "         [-7.07106781e-01,  0.00000000e+00,  0.00000000e+00]],\n",
       " \n",
       "        [[-1.33937961e-20,  0.00000000e+00, -7.07106781e-01],\n",
       "         [-1.03920903e-20,  1.11022302e-16,  7.07106781e-01]]]))"
      ]
     },
     "execution_count": 24,
     "metadata": {},
     "output_type": "execute_result"
    }
   ],
   "source": [
    "fo.kernel()"
   ]
  },
  {
   "cell_type": "code",
   "execution_count": null,
   "metadata": {},
   "outputs": [],
   "source": []
  }
 ],
 "metadata": {
  "kernelspec": {
   "display_name": "Python 3",
   "language": "python",
   "name": "python3"
  },
  "language_info": {
   "codemirror_mode": {
    "name": "ipython",
    "version": 3
   },
   "file_extension": ".py",
   "mimetype": "text/x-python",
   "name": "python",
   "nbconvert_exporter": "python",
   "pygments_lexer": "ipython3",
   "version": "3.7.3"
  }
 },
 "nbformat": 4,
 "nbformat_minor": 2
}
