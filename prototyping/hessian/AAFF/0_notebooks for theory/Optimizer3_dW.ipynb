{
 "cells": [
  {
   "cell_type": "code",
   "execution_count": 1,
   "metadata": {},
   "outputs": [],
   "source": [
    "import pyscf.qmmm\n",
    "from pyscf import gto, scf\n",
    "import numpy as np\n",
    "#import matplotlib.pyplot as plt\n",
    "# from pyscf.geomopt.berny_solver import optimize\n",
    "from pyscf.grad import rhf as grhf\n",
    "#from pyscf.hessian import rhf as hrhf\n",
    "from pyscf import lib\n",
    "import inspect\n",
    "from functools import reduce\n",
    "from pyscf.scf import cphf\n",
    "angstrom = 1 / 0.52917721067\n",
    "from pyscf.scf._response_functions import _gen_rhf_response \n",
    "def DeltaV(mol,dL):\n",
    "    mol.set_rinv_orig_(mol.atom_coords()[0])\n",
    "    dV=mol.intor('int1e_rinv')*dL[0]\n",
    "    mol.set_rinv_orig_(mol.atom_coords()[1])\n",
    "    dV+=mol.intor('int1e_rinv')*dL[1]\n",
    "    return -dV.reshape((1,dV.shape[0],dV.shape[1]))\n",
    "\n",
    "def fc(calc,deltaZ):\n",
    "    mf = pyscf.qmmm.mm_charge(calc, calc.mol.atom_coords(), deltaZ)  # now is add_mm_charge\n",
    "    class NoSelfQMMM(mf.__class__):\n",
    "        def energy_nuc(self):\n",
    "            q = self.mol.atom_charges().astype(np.float).copy()\n",
    "            q1 =q+ np.asarray(deltaZ) \n",
    "            return self.mol.energy_nuc(q1)\n",
    "    return(NoSelfQMMM(mf,mf.mm_mol))"
   ]
  },
  {
   "cell_type": "code",
   "execution_count": 2,
   "metadata": {},
   "outputs": [],
   "source": [
    "import time\n",
    "from functools import reduce\n",
    "import numpy\n",
    "from pyscf import lib\n",
    "from pyscf.lib import logger\n",
    "from pyscf.scf import cphf\n",
    "from pyscf.prop.nmr import rhf as rhf_nmr\n",
    "\n",
    "def polarizability(polobj, with_cphf=True):\n",
    "    mf = polobj._scf\n",
    "    mol = mf.mol\n",
    "    mo_energy = mf.mo_energy\n",
    "    mo_coeff = mf.mo_coeff\n",
    "    mo_occ = mf.mo_occ\n",
    "    occidx = mo_occ > 0\n",
    "    orbo = mo_coeff[:, occidx]\n",
    "    orbv = mo_coeff[:,~occidx]\n",
    "\n",
    "    charges = mol.atom_charges()\n",
    "    coords  = mol.atom_coords()\n",
    "    charge_center = numpy.einsum('i,ix->x', charges, coords) / charges.sum()\n",
    "    int_r=DeltaV(mol,[.0001,-.0001])    ########   .001 as finite difference intervall  \n",
    "    h1 = lib.einsum('xpq,pi,qj->xij', int_r, mo_coeff.conj(), orbo) #going to molecular orbitals?\n",
    "    print(h1.shape, \"shape (1, n ao, nocc)\" )\n",
    "    #print(mo_energy, mo_occ,h1)\n",
    "    s1 = numpy.zeros_like(h1)\n",
    "    vind = polobj.gen_vind(mf, mo_coeff, mo_occ)\n",
    "    if with_cphf:\n",
    "        mo1 = cphf.solve(vind, mo_energy, mo_occ, h1, s1, polobj.max_cycle_cphf, polobj.conv_tol)[0]\n",
    "    else:\n",
    "        mo1 = rhf_nmr._solve_mo1_uncoupled(mo_energy, mo_occ, h1, s1)[0]\n",
    "    #e2 = numpy.einsum('xpi,ypi->xy', h1, mo1)\n",
    "    # *-1 from the definition of dipole moment. *2 for double occupancy\n",
    "    #e2 = (e2 + e2.T) * -2\n",
    "    #return e2\n",
    "    return mo1"
   ]
  },
  {
   "cell_type": "code",
   "execution_count": 3,
   "metadata": {},
   "outputs": [
    {
     "name": "stdout",
     "output_type": "stream",
     "text": [
      "converged SCF energy = -111.199724042754\n"
     ]
    }
   ],
   "source": [
    "mol = gto.M(atom='C 0 0 0; O 0 0 2.0', unit=\"Bohr\",basis=\"sto-3g\")\n",
    "mf = scf.RHF(mol)\n",
    "e=mf.scf()"
   ]
  },
  {
   "cell_type": "code",
   "execution_count": 4,
   "metadata": {},
   "outputs": [
    {
     "name": "stdout",
     "output_type": "stream",
     "text": [
      "--------------- RHF gradients ---------------\n",
      "         x                y                z\n",
      "0 C     0.0000000000    -0.0000000000     0.3426279915\n",
      "1 O    -0.0000000000     0.0000000000    -0.3426279915\n",
      "----------------------------------------------\n"
     ]
    },
    {
     "data": {
      "text/plain": [
       "array([[ 2.50345005e-16, -2.80542611e-16,  3.42627991e-01],\n",
       "       [-2.50345005e-16,  2.80542611e-16, -3.42627991e-01]])"
      ]
     },
     "execution_count": 4,
     "metadata": {},
     "output_type": "execute_result"
    }
   ],
   "source": [
    "g = mf.Gradients()\n",
    "g.kernel()"
   ]
  },
  {
   "cell_type": "code",
   "execution_count": 5,
   "metadata": {},
   "outputs": [
    {
     "data": {
      "text/plain": [
       "6"
      ]
     },
     "execution_count": 5,
     "metadata": {},
     "output_type": "execute_result"
    }
   ],
   "source": [
    "mol.atom_charge(0)"
   ]
  },
  {
   "cell_type": "code",
   "execution_count": 6,
   "metadata": {},
   "outputs": [
    {
     "name": "stdout",
     "output_type": "stream",
     "text": [
      "converged SCF energy = -111.198995727549\n"
     ]
    },
    {
     "name": "stderr",
     "output_type": "stream",
     "text": [
      "/home/administrator/anaconda3/lib/python3.7/site-packages/ipykernel_launcher.py:25: DeprecationWarning: `np.float` is a deprecated alias for the builtin `float`. To silence this warning, use `float` by itself. Doing this will not modify any behavior and is safe. If you specifically wanted the numpy scalar type, use `np.float64` here.\n",
      "Deprecated in NumPy 1.20; for more details and guidance: https://numpy.org/devdocs/release/1.20.0-notes.html#deprecations\n"
     ]
    },
    {
     "data": {
      "text/plain": [
       "-111.19899572754903"
      ]
     },
     "execution_count": 6,
     "metadata": {},
     "output_type": "execute_result"
    }
   ],
   "source": [
    "mf1=fc(mf,[.0001,-.0001])\n",
    "mf1.scf()"
   ]
  },
  {
   "cell_type": "code",
   "execution_count": 7,
   "metadata": {},
   "outputs": [],
   "source": [
    "C1=mf1.mo_coeff\n"
   ]
  },
  {
   "cell_type": "code",
   "execution_count": 8,
   "metadata": {},
   "outputs": [
    {
     "name": "stdout",
     "output_type": "stream",
     "text": [
      "converged SCF energy = -111.198995727549\n"
     ]
    },
    {
     "name": "stderr",
     "output_type": "stream",
     "text": [
      "/home/administrator/anaconda3/lib/python3.7/site-packages/ipykernel_launcher.py:25: DeprecationWarning: `np.float` is a deprecated alias for the builtin `float`. To silence this warning, use `float` by itself. Doing this will not modify any behavior and is safe. If you specifically wanted the numpy scalar type, use `np.float64` here.\n",
      "Deprecated in NumPy 1.20; for more details and guidance: https://numpy.org/devdocs/release/1.20.0-notes.html#deprecations\n"
     ]
    },
    {
     "data": {
      "text/plain": [
       "-111.19899572754903"
      ]
     },
     "execution_count": 8,
     "metadata": {},
     "output_type": "execute_result"
    }
   ],
   "source": [
    "mf2=fc(mf,[.0001,-.0001])\n",
    "mf2.scf()"
   ]
  },
  {
   "cell_type": "code",
   "execution_count": 9,
   "metadata": {},
   "outputs": [],
   "source": [
    "e=mf.mo_energy\n",
    "e1=mf1.mo_energy\n",
    "e2=mf2.mo_energy"
   ]
  },
  {
   "cell_type": "code",
   "execution_count": 10,
   "metadata": {},
   "outputs": [
    {
     "data": {
      "text/plain": [
       "(array([-20.46076589, -11.10193184,  -1.52172836,  -0.71090808,\n",
       "         -0.5989603 ,  -0.5989603 ,  -0.45135035,   0.34504015,\n",
       "          0.34504015,   1.17302526]),\n",
       " array([-20.46017744, -11.10237896,  -1.52171628,  -0.71090629,\n",
       "         -0.59895416,  -0.59895416,  -0.45136514,   0.34503314,\n",
       "          0.34503314,   1.17302357]),\n",
       " array([-20.46017744, -11.10237896,  -1.52171628,  -0.71090629,\n",
       "         -0.59895416,  -0.59895416,  -0.45136514,   0.34503314,\n",
       "          0.34503314,   1.17302357]))"
      ]
     },
     "execution_count": 10,
     "metadata": {},
     "output_type": "execute_result"
    }
   ],
   "source": [
    "e,e1,e2"
   ]
  },
  {
   "cell_type": "code",
   "execution_count": 11,
   "metadata": {},
   "outputs": [
    {
     "data": {
      "text/plain": [
       "(array([ 0.58844667, -0.44711917,  0.01208183,  0.00179161,  0.00614406,\n",
       "         0.00614406, -0.01479785, -0.00701284, -0.00701284, -0.00169259]),\n",
       " array([ 5.88446669, -4.47119171,  0.12081825,  0.0179161 ,  0.0614406 ,\n",
       "         0.0614406 , -0.14797845, -0.07012837, -0.07012837, -0.01692594]))"
      ]
     },
     "execution_count": 11,
     "metadata": {},
     "output_type": "execute_result"
    }
   ],
   "source": [
    "(e1-e)/.001,(e2-e)/.0001"
   ]
  },
  {
   "cell_type": "markdown",
   "metadata": {},
   "source": [
    "## Obtaining derivatives of W\n",
    "$$W=  \\sum_i ^{mo.occ.} \\epsilon_i C_{\\mu i} C_{\\nu i}^\\dagger \n",
    "$$\n",
    "\n",
    "$$ \\frac{\\partial W}{\\partial Z_I}= \\sum_i ^{mo.occ.} \\left( \\epsilon_i (CU)_{\\mu i} C_{\\nu i}^\\dagger + \n",
    "\\epsilon_i C_{\\mu i} (CU)^\\dagger_{\\nu i}   +\\frac{\\partial \\epsilon_i}{\\partial Z_I} C_{\\mu i} C_{\\nu i}^\\dagger \\right)$$"
   ]
  },
  {
   "cell_type": "code",
   "execution_count": 12,
   "metadata": {},
   "outputs": [],
   "source": [
    "g1=mf1.Gradients()"
   ]
  },
  {
   "cell_type": "code",
   "execution_count": 13,
   "metadata": {},
   "outputs": [],
   "source": [
    "W1=g1.make_rdm1e()\n",
    "W=g.make_rdm1e()\n",
    "dW=W1-W"
   ]
  },
  {
   "cell_type": "code",
   "execution_count": 14,
   "metadata": {},
   "outputs": [
    {
     "data": {
      "text/plain": [
       "True"
      ]
     },
     "execution_count": 14,
     "metadata": {},
     "output_type": "execute_result"
    }
   ],
   "source": [
    "o=mf.mo_occ\n",
    "e=mf.mo_energy\n",
    "C=mf.mo_coeff\n",
    "S=mf.get_ovlp()\n",
    "np.allclose(C@np.diag(o*e)@C.T,g.make_rdm1e())"
   ]
  },
  {
   "cell_type": "code",
   "execution_count": 15,
   "metadata": {},
   "outputs": [
    {
     "name": "stdout",
     "output_type": "stream",
     "text": [
      "(1, 10, 7) shape (1, n ao, nocc)\n"
     ]
    }
   ],
   "source": [
    "plo=mf.Polarizability()\n",
    "pa=polarizability(plo)\n",
    "nao=mol.nao\n",
    "nocc=mol.nelectron//2 #RHF\n",
    "U=np.zeros((nao,nao))\n",
    "U[:,:nocc]=pa[0,:,:nocc]\n",
    "U=U.T-U\n",
    "O=np.diag(mf.mo_occ)\n",
    "dP_app=C@(U@O-O@U)@C.T"
   ]
  },
  {
   "cell_type": "code",
   "execution_count": 16,
   "metadata": {},
   "outputs": [
    {
     "data": {
      "text/plain": [
       "True"
      ]
     },
     "execution_count": 16,
     "metadata": {},
     "output_type": "execute_result"
    }
   ],
   "source": [
    "np.allclose(C1@np.diag(o*e1)@C1.T,g1.make_rdm1e())"
   ]
  },
  {
   "cell_type": "code",
   "execution_count": 17,
   "metadata": {},
   "outputs": [
    {
     "name": "stdout",
     "output_type": "stream",
     "text": [
      "[[ 1.40205359e-07  2.31233600e-06 -2.72598827e-06  4.07647120e-07\n",
      "  -2.13179024e-17  4.31853803e-16  1.26063071e-05  2.52717002e-17\n",
      "   3.15600175e-16  4.78066596e-06]\n",
      " [-3.24642228e-06 -9.69584425e-06  3.43116823e-05 -3.51273010e-05\n",
      "   4.84972394e-16 -1.37695219e-15 -2.71781175e-05  1.20306580e-16\n",
      "  -2.21430501e-15 -1.20774775e-06]\n",
      " [-1.08957851e-16  8.98556133e-19 -8.72664263e-17 -5.35966501e-16\n",
      "   1.25383939e-04  4.03004510e-02 -2.17861293e-16  3.18272948e-04\n",
      "  -2.33245864e-02  1.34392885e-16]\n",
      " [-4.50946495e-16  1.75136845e-18  2.35480287e-16 -2.15691800e-15\n",
      "  -4.03004510e-02  1.25383939e-04 -4.30422476e-16  2.33245864e-02\n",
      "   3.18272948e-04  1.69134328e-15]\n",
      " [-2.71612381e-06 -2.29727940e-06  1.57660300e-05  1.80328266e-05\n",
      "   5.06265669e-17 -1.91200893e-15 -1.26890885e-05  2.96041965e-16\n",
      "  -1.65589831e-15 -6.33976081e-06]\n",
      " [-1.66748285e-06 -1.12028994e-07  6.79405399e-07 -9.03341683e-06\n",
      "  -1.97766971e-18 -4.59381088e-16 -3.92214704e-06  6.89359421e-17\n",
      "  -1.87139875e-17  4.90498150e-06]\n",
      " [ 8.27303053e-06  3.33763927e-06 -3.38566947e-05  2.64159441e-05\n",
      "  -2.36095188e-16  3.02326924e-15  2.74112504e-05 -4.39673746e-16\n",
      "   1.99578347e-15 -6.38471765e-06]\n",
      " [-2.92518040e-18 -1.87941219e-19 -5.40376611e-18 -3.68867734e-16\n",
      "   1.40288458e-04  7.04950140e-02 -4.76979845e-16 -2.71872996e-04\n",
      "   1.71944291e-02 -4.64274886e-17]\n",
      " [-8.23317984e-18 -1.93472578e-19  8.19164369e-17 -2.63138688e-15\n",
      "  -7.04950140e-02  1.40288458e-04 -1.41944954e-15 -1.71944291e-02\n",
      "  -2.71872996e-04 -5.32972321e-16]\n",
      " [-2.13036109e-06 -8.48099168e-07  2.10120588e-06 -2.84186899e-05\n",
      "   8.73255786e-16  2.35739033e-15  2.35287347e-05  2.82245597e-16\n",
      "  -1.40826442e-15  1.03802196e-05]]\n",
      "[[-2.96512886e-07 -3.31959457e-07  1.64664555e-06 -7.63837471e-07\n",
      "   3.02561905e-21 -1.72586533e-23 -7.01427134e-07 -5.64644651e-21\n",
      "  -4.39414062e-22 -4.78092412e-06]\n",
      " [ 2.92051457e-06  3.26964688e-06 -1.62186959e-05  7.52344524e-06\n",
      "  -1.78497324e-20 -1.04024749e-21  6.90873234e-06  1.39188320e-20\n",
      "   2.49626404e-21  1.20813257e-06]\n",
      " [-5.50621434e-22  1.05800543e-21 -1.77013619e-21 -1.83350393e-20\n",
      "  -3.17841204e-05  1.51624112e-06 -7.08697988e-20  1.49744959e-05\n",
      "   3.99006173e-07  2.31657356e-21]\n",
      " [-4.23380040e-21 -5.99995379e-22  1.27191508e-20  4.11209892e-21\n",
      "  -1.51624112e-06 -3.17841204e-05  3.11990391e-20 -3.99006173e-07\n",
      "   1.49744959e-05 -3.25892203e-21]\n",
      " [ 3.41568907e-06  3.82401691e-06 -1.89685828e-05  8.79904863e-06\n",
      "  -5.70284082e-21 -8.57185888e-21  8.08011088e-06 -1.66921613e-20\n",
      "   8.88555849e-21  6.33956795e-06]\n",
      " [ 3.44325246e-07  3.85487536e-07 -1.91216525e-06  8.87005380e-07\n",
      "  -7.35555939e-22  4.36604393e-21  8.14531449e-07 -2.91015171e-22\n",
      "   5.13163190e-21 -4.90477689e-06]\n",
      " [-3.29849221e-06 -3.69280978e-06  1.83177453e-05 -8.49714150e-06\n",
      "   8.48762900e-21  1.93233218e-21 -7.80287147e-06  7.30990907e-21\n",
      "  -1.09809458e-20  6.38419326e-06]\n",
      " [ 2.11157626e-22 -9.97977142e-22  2.38644189e-21  1.30145962e-20\n",
      "   2.34307304e-05 -1.11774800e-06  5.17833476e-20  2.61951972e-05\n",
      "   6.97989796e-07 -2.59263954e-21]\n",
      " [ 2.73807562e-21  1.35072378e-23 -7.24933964e-21 -4.01803764e-21\n",
      "   1.11774800e-06  2.34307304e-05 -2.39054672e-20 -6.97989796e-07\n",
      "   2.61951972e-05  2.13846232e-21]\n",
      " [ 2.60324012e-06  2.91444392e-06 -1.44567537e-05  6.70612457e-06\n",
      "  -1.12560950e-20 -1.61710742e-21  6.15819192e-06 -7.85727955e-23\n",
      "  -3.17735260e-21 -1.03810216e-05]]\n"
     ]
    },
    {
     "data": {
      "text/plain": [
       "(None, None)"
      ]
     },
     "execution_count": 17,
     "metadata": {},
     "output_type": "execute_result"
    }
   ],
   "source": [
    "print(C1-C),print(C@U) #are different ! Orbital Mixing !!!! "
   ]
  },
  {
   "cell_type": "code",
   "execution_count": 18,
   "metadata": {},
   "outputs": [],
   "source": [
    "dC=C@U"
   ]
  },
  {
   "cell_type": "code",
   "execution_count": 19,
   "metadata": {},
   "outputs": [
    {
     "name": "stdout",
     "output_type": "stream",
     "text": [
      "0.0011438938703716604 46.338602110654726\n",
      "0.0\n"
     ]
    }
   ],
   "source": [
    "print(np.linalg.norm((C+dC)@np.diag(o*e1)@(C+dC).T-W1),np.linalg.norm(W1))\n",
    "print(np.linalg.norm((C1)@np.diag(o*e1)@(C1).T-W1))"
   ]
  },
  {
   "cell_type": "code",
   "execution_count": 20,
   "metadata": {},
   "outputs": [
    {
     "name": "stdout",
     "output_type": "stream",
     "text": [
      "0.0011438977659259995\n",
      "0.001747326543856332\n"
     ]
    }
   ],
   "source": [
    "print(np.linalg.norm(dW-C@np.diag(o*(e1 -e))@C.T-dC@np.diag(o*e)@C.T-C@np.diag(o*e)@(dC).T))\n",
    "print(np.linalg.norm(dW))"
   ]
  },
  {
   "cell_type": "code",
   "execution_count": 21,
   "metadata": {},
   "outputs": [
    {
     "name": "stdout",
     "output_type": "stream",
     "text": [
      "0.0015202689475889118 0.001747326543856332\n"
     ]
    }
   ],
   "source": [
    "print(np.linalg.norm((C+dC)@np.diag(o*e1)@(C+dC).T-W),np.linalg.norm(dW))"
   ]
  },
  {
   "cell_type": "code",
   "execution_count": 22,
   "metadata": {},
   "outputs": [],
   "source": [
    "F=mf.get_fock()"
   ]
  },
  {
   "cell_type": "code",
   "execution_count": 23,
   "metadata": {},
   "outputs": [
    {
     "name": "stdout",
     "output_type": "stream",
     "text": [
      "[-20.46017744 -11.10237896  -1.52171628  -0.71090629  -0.59895416\n",
      "  -0.59895416  -0.45136514   0.34503314   0.34503314   1.17302357]\n"
     ]
    },
    {
     "data": {
      "text/plain": [
       "array([-20.46017704+0.00000000e+00j, -11.1023791 +0.00000000e+00j,\n",
       "        -1.52171615+0.00000000e+00j,  -0.71090614+0.00000000e+00j,\n",
       "        -0.59895404+0.00000000e+00j,  -0.59895404+0.00000000e+00j,\n",
       "        -0.4513652 +0.00000000e+00j,   0.34503314-1.34143225e-16j,\n",
       "         0.34503314+1.34143225e-16j,   1.17302361+0.00000000e+00j])"
      ]
     },
     "execution_count": 23,
     "metadata": {},
     "output_type": "execute_result"
    }
   ],
   "source": [
    "F1=mf1.get_fock()\n",
    "print(mf1.mo_energy)\n",
    "np.sort(np.linalg.eig(np.linalg.inv(S)@F1)[0])"
   ]
  },
  {
   "cell_type": "code",
   "execution_count": 24,
   "metadata": {},
   "outputs": [],
   "source": [
    "S1=mf1.get_ovlp()\n",
    "np.allclose(S,S1)\n",
    "dV=DeltaV(mol,[.0001,-.0001])"
   ]
  },
  {
   "cell_type": "code",
   "execution_count": 25,
   "metadata": {},
   "outputs": [
    {
     "data": {
      "text/plain": [
       "0.0001701633132641137"
      ]
     },
     "execution_count": 25,
     "metadata": {},
     "output_type": "execute_result"
    }
   ],
   "source": [
    "np.linalg.norm(F+dV-F1)"
   ]
  },
  {
   "cell_type": "code",
   "execution_count": 26,
   "metadata": {},
   "outputs": [
    {
     "data": {
      "text/plain": [
       "0.000899137263275962"
      ]
     },
     "execution_count": 26,
     "metadata": {},
     "output_type": "execute_result"
    }
   ],
   "source": [
    "np.linalg.norm(dV)"
   ]
  },
  {
   "cell_type": "code",
   "execution_count": 27,
   "metadata": {},
   "outputs": [
    {
     "data": {
      "text/plain": [
       "0.0007564728019632337"
      ]
     },
     "execution_count": 27,
     "metadata": {},
     "output_type": "execute_result"
    }
   ],
   "source": [
    "np.linalg.norm(F-F1)"
   ]
  },
  {
   "cell_type": "code",
   "execution_count": 28,
   "metadata": {},
   "outputs": [],
   "source": [
    "g_ijkl=mf.mol.intor('int2e_sph')"
   ]
  },
  {
   "cell_type": "code",
   "execution_count": 29,
   "metadata": {
    "scrolled": true
   },
   "outputs": [],
   "source": [
    "dF2el=np.einsum('ijkl,kl->ij',g_ijkl,dP_app)*2-np.einsum('ijkl,jl->ik',g_ijkl,dP_app)"
   ]
  },
  {
   "cell_type": "code",
   "execution_count": 30,
   "metadata": {},
   "outputs": [
    {
     "data": {
      "text/plain": [
       "1.8888237620809944e-09"
      ]
     },
     "execution_count": 30,
     "metadata": {},
     "output_type": "execute_result"
    }
   ],
   "source": [
    "np.linalg.norm(F1-F-dV+dF2el/2)"
   ]
  },
  {
   "cell_type": "code",
   "execution_count": 31,
   "metadata": {},
   "outputs": [
    {
     "data": {
      "text/plain": [
       "True"
      ]
     },
     "execution_count": 31,
     "metadata": {},
     "output_type": "execute_result"
    }
   ],
   "source": [
    "np.allclose(np.sort(np.linalg.eig(np.linalg.inv(S)@(F+dV-dF2el/2))[0]),e1)"
   ]
  },
  {
   "cell_type": "code",
   "execution_count": 32,
   "metadata": {},
   "outputs": [],
   "source": [
    "#dP_app=C@(U@O-O@U)@C.T\n",
    "#dF2el=np.einsum('ijkl,kl->ij',g_ijkl,dP_app)*2-np.einsum('ijkl,jl->ik',g_ijkl,dP_app)\n",
    "#e1_app=np.sort(np.linalg.eig(np.linalg.inv(S)@(F+dV-dF2el/2))"
   ]
  },
  {
   "cell_type": "code",
   "execution_count": null,
   "metadata": {},
   "outputs": [],
   "source": []
  }
 ],
 "metadata": {
  "kernelspec": {
   "display_name": "Python 3",
   "language": "python",
   "name": "python3"
  },
  "language_info": {
   "codemirror_mode": {
    "name": "ipython",
    "version": 3
   },
   "file_extension": ".py",
   "mimetype": "text/x-python",
   "name": "python",
   "nbconvert_exporter": "python",
   "pygments_lexer": "ipython3",
   "version": "3.7.3"
  }
 },
 "nbformat": 4,
 "nbformat_minor": 4
}
