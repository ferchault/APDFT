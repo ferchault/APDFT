{
 "cells": [
  {
   "cell_type": "code",
   "execution_count": 1,
   "metadata": {},
   "outputs": [],
   "source": [
    "from pyscf import gto, scf\n",
    "import numpy as np\n",
    "#import matplotlib.pyplot as plt\n",
    "# from pyscf.geomopt.berny_solver import optimize\n",
    "from pyscf.grad import rhf as grhf\n",
    "#from pyscf.hessian import rhf as hrhf\n",
    "from pyscf import lib\n",
    "import inspect\n",
    "from functools import reduce\n",
    "from pyscf.scf import cphf\n",
    "angstrom = 1 / 0.52917721067\n",
    "from pyscf.scf._response_functions import _gen_rhf_response \n",
    "def DeltaV(mol,dL):\n",
    "    mol.set_rinv_orig_(mol.atom_coords()[0])\n",
    "    dV=mol.intor('int1e_rinv')*dL[0]\n",
    "    mol.set_rinv_orig_(mol.atom_coords()[1])\n",
    "    dV+=mol.intor('int1e_rinv')*dL[1]\n",
    "    return -dV"
   ]
  },
  {
   "cell_type": "code",
   "execution_count": 2,
   "metadata": {},
   "outputs": [],
   "source": [
    "import matplotlib.pyplot as plt\n"
   ]
  },
  {
   "cell_type": "code",
   "execution_count": 3,
   "metadata": {},
   "outputs": [
    {
     "data": {
      "text/plain": [
       "[<matplotlib.lines.Line2D at 0x7f8fc6cdcda0>]"
      ]
     },
     "execution_count": 3,
     "metadata": {},
     "output_type": "execute_result"
    },
    {
     "data": {
      "image/png": "[encoded data removed]",
      "text/plain": [
       "<Figure size 432x288 with 1 Axes>"
      ]
     },
     "metadata": {
      "needs_background": "light"
     },
     "output_type": "display_data"
    }
   ],
   "source": [
    "plt.plot([0,1],[0,5])"
   ]
  },
  {
   "cell_type": "code",
   "execution_count": 4,
   "metadata": {},
   "outputs": [
    {
     "name": "stdout",
     "output_type": "stream",
     "text": [
      "converged SCF energy = -108.485919016289\n"
     ]
    }
   ],
   "source": [
    "mol = gto.M(atom='C 0 0 0; O 0 0 1.2', unit=\"Bohr\",basis=\"sto-3g\")\n",
    "mf = scf.RHF(mol)\n",
    "e=mf.scf()"
   ]
  },
  {
   "cell_type": "code",
   "execution_count": 5,
   "metadata": {},
   "outputs": [
    {
     "name": "stdout",
     "output_type": "stream",
     "text": [
      "--------------- RHF gradients ---------------\n",
      "         x                y                z\n",
      "0 C     0.0000000000    -0.0000000000    10.3428116554\n",
      "1 O    -0.0000000000     0.0000000000   -10.3428116554\n",
      "----------------------------------------------\n"
     ]
    },
    {
     "data": {
      "text/plain": [
       "array([[ 5.90650032e-16, -8.08191869e-17,  1.03428117e+01],\n",
       "       [-5.90650032e-16,  8.08191869e-17, -1.03428117e+01]])"
      ]
     },
     "execution_count": 5,
     "metadata": {},
     "output_type": "execute_result"
    }
   ],
   "source": [
    "g = mf.Gradients()\n",
    "g.kernel()"
   ]
  },
  {
   "cell_type": "code",
   "execution_count": 6,
   "metadata": {},
   "outputs": [
    {
     "data": {
      "text/plain": [
       "\"class GradientsBasics(lib.StreamObject):\\n    '''\\n    Basic nuclear gradient functions for non-relativistic methods\\n    '''\\n    def __init__(self, method):\\n        self.verbose = method.verbose\\n        self.stdout = method.stdout\\n        self.mol = method.mol\\n        self.base = method\\n        self.max_memory = self.mol.max_memory\\n        self.atmlst = None\\n        self.de = None\\n        self._keys = set(self.__dict__.keys())\\n\""
      ]
     },
     "execution_count": 6,
     "metadata": {},
     "output_type": "execute_result"
    }
   ],
   "source": [
    "\"\"\"class GradientsBasics(lib.StreamObject):\n",
    "    '''\n",
    "    Basic nuclear gradient functions for non-relativistic methods\n",
    "    '''\n",
    "    def __init__(self, method):\n",
    "        self.verbose = method.verbose\n",
    "        self.stdout = method.stdout\n",
    "        self.mol = method.mol\n",
    "        self.base = method\n",
    "        self.max_memory = self.mol.max_memory\n",
    "        self.atmlst = None\n",
    "        self.de = None\n",
    "        self._keys = set(self.__dict__.keys())\n",
    "\"\"\""
   ]
  },
  {
   "cell_type": "markdown",
   "metadata": {},
   "source": [
    "The formula for the gradient is stated in Pople's article (Eq.21) as: \n",
    "$$ \\frac{\\partial E}{\\partial x}= \\sum_{\\mu\\nu}P_{\\mu\\nu}\\frac{\\partial H_{\\mu\\nu}}{\\partial x}+\\frac{1}{2}\\sum_{\\mu\\nu\\lambda\\sigma}\n",
    "P_{\\mu\\nu}P_{\\lambda\\sigma}\\frac{\\partial}{\\partial x}(\\mu \\lambda | | \\nu\\sigma)+\\frac{\\partial V_{nuc}}{\\partial x} \n",
    "-\\sum_{\\mu\\nu}W_{\\mu\\nu}\\frac{\\partial S_{\\mu\\nu}}{\\partial x}\n",
    "$$\n",
    "$W$ is an energy weighted density matrix:\n",
    "$$ W_{\\mu\\nu}= \\sum_i ^{mo.occ.} \\epsilon_i c_{\\mu i} c_{\\nu i}^\\dagger\n",
    "$$"
   ]
  },
  {
   "cell_type": "markdown",
   "metadata": {},
   "source": [
    " In order to evaluate the mixed derivative $\\frac {\\partial^2 E}{\\partial Z \\partial x } $we need to :<br>\n",
    " 1)Build the gradient from scratch and understand each individual piece <br>\n",
    " 2)Derive the expression with respect to $Z$. Will require the $\\frac{\\partial P}{\\partial Z} $ that can be obtained analytically through CPHF once for all normal modes. Might be non trivial $\\frac {\\partial^2 H}{\\partial Z \\partial x}$ element. $\\partial_Z \\partial_x V_{nuc}$ is classical mechanics. $\\partial_Z W$ is also easy through the $U$ matrix response of CPHF. $\\partial_Z \\partial_x(\\mu \\lambda | | \\nu\\sigma)=0$ as well as $\\partial_Z S=0$"
   ]
  },
  {
   "cell_type": "markdown",
   "metadata": {},
   "source": [
    "# Let's start inspecting the explicit gradient expression from PySCF"
   ]
  },
  {
   "cell_type": "code",
   "execution_count": 24,
   "metadata": {
    "scrolled": true
   },
   "outputs": [
    {
     "name": "stdout",
     "output_type": "stream",
     "text": [
      "    def kernel(self, mo_energy=None, mo_coeff=None, mo_occ=None, atmlst=None):\n",
      "        cput0 = (time.clock(), time.time())\n",
      "        if mo_energy is None: mo_energy = self.base.mo_energy\n",
      "        if mo_coeff is None: mo_coeff = self.base.mo_coeff\n",
      "        if mo_occ is None: mo_occ = self.base.mo_occ\n",
      "        if atmlst is None:\n",
      "            atmlst = self.atmlst\n",
      "        else:\n",
      "            self.atmlst = atmlst\n",
      "\n",
      "        if self.verbose >= logger.WARN:\n",
      "            self.check_sanity()\n",
      "        if self.verbose >= logger.INFO:\n",
      "            self.dump_flags()\n",
      "\n",
      "        de = self.grad_elec(mo_energy, mo_coeff, mo_occ, atmlst)\n",
      "        self.de = de + self.grad_nuc(atmlst=atmlst)\n",
      "        if self.mol.symmetry:\n",
      "            self.de = self.symmetrize(self.de, atmlst)\n",
      "        logger.timer(self, 'SCF gradients', *cput0)\n",
      "        self._finalize()\n",
      "        return self.de\n",
      "\n",
      "def grad_elec(mf_grad, mo_energy=None, mo_coeff=None, mo_occ=None, atmlst=None):\n",
      "    '''\n",
      "    Electronic part of RHF/RKS gradients\n",
      "\n",
      "    Args:\n",
      "        mf_grad : grad.rhf.Gradients or grad.rks.Gradients object\n",
      "    '''\n",
      "    mf = mf_grad.base\n",
      "    mol = mf_grad.mol\n",
      "    if mo_energy is None: mo_energy = mf.mo_energy\n",
      "    if mo_occ is None:    mo_occ = mf.mo_occ\n",
      "    if mo_coeff is None:  mo_coeff = mf.mo_coeff\n",
      "    log = logger.Logger(mf_grad.stdout, mf_grad.verbose)\n",
      "\n",
      "    hcore_deriv = mf_grad.hcore_generator(mol)\n",
      "    s1 = mf_grad.get_ovlp(mol)\n",
      "    dm0 = mf.make_rdm1(mo_coeff, mo_occ)\n",
      "\n",
      "    t0 = (time.clock(), time.time())\n",
      "    log.debug('Computing Gradients of NR-HF Coulomb repulsion')\n",
      "    vhf = mf_grad.get_veff(mol, dm0)\n",
      "    log.timer('gradients of 2e part', *t0)\n",
      "\n",
      "    dme0 = mf_grad.make_rdm1e(mo_energy, mo_coeff, mo_occ)\n",
      "\n",
      "    if atmlst is None:\n",
      "        atmlst = range(mol.natm)\n",
      "    aoslices = mol.aoslice_by_atom()\n",
      "    de = numpy.zeros((len(atmlst),3))\n",
      "    for k, ia in enumerate(atmlst):\n",
      "        p0, p1 = aoslices [ia,2:]\n",
      "        h1ao = hcore_deriv(ia)\n",
      "        de[k] += numpy.einsum('xij,ij->x', h1ao, dm0)\n",
      "# nabla was applied on bra in vhf, *2 for the contributions of nabla|ket>\n",
      "        de[k] += numpy.einsum('xij,ij->x', vhf[:,p0:p1], dm0[p0:p1]) * 2\n",
      "        de[k] -= numpy.einsum('xij,ij->x', s1[:,p0:p1], dme0[p0:p1]) * 2\n",
      "\n",
      "        de[k] += mf_grad.extra_force(ia, locals())\n",
      "\n",
      "    if log.verbose >= logger.DEBUG:\n",
      "        log.debug('gradients of electronic part')\n",
      "        _write(log, mol, de, atmlst)\n",
      "    return de\n",
      "\n",
      "def make_rdm1e(mo_energy, mo_coeff, mo_occ):\n",
      "    '''Energy weighted density matrix'''\n",
      "    mo0 = mo_coeff[:,mo_occ>0]\n",
      "    mo0e = mo0 * (mo_energy[mo_occ>0] * mo_occ[mo_occ>0])\n",
      "    return numpy.dot(mo0e, mo0.T.conj())\n",
      "\n"
     ]
    }
   ],
   "source": [
    "print(inspect.getsource(g.kernel))\n",
    "print(inspect.getsource(g.grad_elec))\n",
    "print(inspect.getsource(grhf.make_rdm1e))"
   ]
  },
  {
   "cell_type": "code",
   "execution_count": 25,
   "metadata": {},
   "outputs": [
    {
     "data": {
      "text/plain": [
       "array([2., 2., 2., 2., 2., 2., 2., 0., 0., 0.])"
      ]
     },
     "execution_count": 25,
     "metadata": {},
     "output_type": "execute_result"
    }
   ],
   "source": [
    "mf.mo_occ"
   ]
  },
  {
   "cell_type": "code",
   "execution_count": 8,
   "metadata": {},
   "outputs": [],
   "source": [
    "\"\"\"\n",
    "This is the important code ----------------------------------------------------------------\n",
    "\n",
    "hcore_deriv = mf_grad.hcore_generator(mol)                  dH/dx as a function of (at_idx)\n",
    "s1 = mf_grad.get_ovlp(mol)%autocall                         dS/dx   \n",
    "dm0 = mf.make_rdm1(mo_coeff, mo_occ)                          P\n",
    "\n",
    "vhf = mf_grad.get_veff(mol, dm0)                           P ( d/dx(ml) || ns )\n",
    "\n",
    "dme0 = mf_grad.make_rdm1e(mo_energy, mo_coeff, mo_occ)        W\n",
    "\n",
    "atmlst = range(mol.natm)\n",
    "aoslices = mol.aoslice_by_atom()\n",
    "de = numpy.zeros((len(atmlst),3))\n",
    "for k, ia in enumerate(atmlst):\n",
    "    p0, p1 = aoslices [ia,2:]\n",
    "    h1ao = hcore_deriv(ia) \n",
    "    de[k] += numpy.einsum('xij,ij->x', h1ao, dm0)                                    P*dH/dx\n",
    "# nabla was applied on bra in vhf, *2 for the contributions of nabla|ket>\n",
    "    de[k] += numpy.einsum('xij,ij->x', vhf[:,p0:p1], dm0[p0:p1]) * 2        #   P (Pd/dx(ml||ns))    -as construction on dm0\n",
    "    de[k] -= numpy.einsum('xij,ij->x', s1[:,p0:p1], dme0[p0:p1]) * 2        W dS/dx\n",
    "\n",
    "    de[k] += mf_grad.extra_force(ia, locals())   # grid reponce for DFT only\n",
    "\n",
    "return de\n",
    "\"\"\" \n",
    "pass"
   ]
  },
  {
   "cell_type": "code",
   "execution_count": 9,
   "metadata": {},
   "outputs": [],
   "source": [
    "#print(inspect.getsource(g.extra_force))"
   ]
  },
  {
   "cell_type": "markdown",
   "metadata": {},
   "source": [
    " Think how to get $\\frac{\\partial^2 H^{(1)}_{ij}}{\\partial Z \\partial x}$"
   ]
  },
  {
   "cell_type": "code",
   "execution_count": 10,
   "metadata": {},
   "outputs": [],
   "source": [
    "#print(inspect.getsource(g.hcore_generator))"
   ]
  },
  {
   "cell_type": "code",
   "execution_count": 11,
   "metadata": {},
   "outputs": [
    {
     "name": "stdout",
     "output_type": "stream",
     "text": [
      "None\n"
     ]
    }
   ],
   "source": [
    "print(getattr(g.base, 'with_x2c', None))"
   ]
  },
  {
   "cell_type": "code",
   "execution_count": 12,
   "metadata": {},
   "outputs": [
    {
     "name": "stdout",
     "output_type": "stream",
     "text": [
      "converged SCF energy = -1.11687114045084\n"
     ]
    }
   ],
   "source": [
    "molh2=gto.M(atom=\"H 0 0 0; H 0 0 1.3\",unit=\"Bohr\")\n",
    "mfh2=scf.RHF(molh2)\n",
    "mfh2.scf()\n",
    "h1 = mfh2.get_hcore(molh2)"
   ]
  },
  {
   "cell_type": "code",
   "execution_count": 13,
   "metadata": {},
   "outputs": [],
   "source": [
    "\"\"\"\n",
    "Idealy the mixed derivative can be obtained just dividing by Z_I , or omitting to multiply by Z_I \n",
    "\n",
    "def hcore_generator(mf, mol=None):\n",
    "    if mol is None: mol = mf.mol\n",
    "    with_x2c = getattr(mf.base, 'with_x2c', None)\n",
    "    if with_x2c:                                                 # standard molecules has not x2c\n",
    "        hcore_deriv = with_x2c.hcore_deriv_generator(deriv=1)\n",
    "    else:\n",
    "        with_ecp = mol.has_ecp()\n",
    "        if with_ecp:\n",
    "            ecp_atoms = set(mol._ecpbas[:,gto.ATOM_OF])\n",
    "        else:\n",
    "            ecp_atoms = ()\n",
    "        aoslices = mol.aoslice_by_atom()\n",
    "        h1 = mf.get_hcore(mol)\n",
    "        def hcore_deriv(atm_id):\n",
    "            shl0, shl1, p0, p1 = aoslices[atm_id]\n",
    "            with mol.with_rinv_at_nucleus(atm_id):\n",
    "                vrinv = mol.intor('int1e_iprinv', comp=3) # <\\nabla|1/r**2|>\n",
    "                vrinv *= -mol.atom_charge(atm_id)        <--------------------------------  we shall act here\n",
    "                if with_ecp and atm_id in ecp_atoms:\n",
    "                    vrinv += mol.intor('ECPscalar_iprinv', comp=3)\n",
    "            vrinv[:,p0:p1] += h1[:,p0:p1]\n",
    "            return vrinv + vrinv.transpose(0,2,1)\n",
    "    return hcore_deriv\n",
    "\"\"\"\n",
    "pass"
   ]
  },
  {
   "cell_type": "code",
   "execution_count": null,
   "metadata": {},
   "outputs": [],
   "source": []
  },
  {
   "cell_type": "code",
   "execution_count": 14,
   "metadata": {},
   "outputs": [
    {
     "name": "stdout",
     "output_type": "stream",
     "text": [
      "--------------- RHF gradients ---------------\n",
      "         x                y                z\n",
      "0 H     0.0000000000     0.0000000000     0.0283400377\n",
      "1 H     0.0000000000     0.0000000000    -0.0283400377\n",
      "----------------------------------------------\n"
     ]
    },
    {
     "data": {
      "text/plain": [
       "array([[[-0.        , -0.        ],\n",
       "        [-0.        , -0.        ]],\n",
       "\n",
       "       [[-0.        , -0.        ],\n",
       "        [-0.        , -0.        ]],\n",
       "\n",
       "       [[-0.18425078, -0.41623511],\n",
       "        [ 0.41623511,  0.18425078]]])"
      ]
     },
     "execution_count": 14,
     "metadata": {},
     "output_type": "execute_result"
    }
   ],
   "source": [
    "g_h2=mfh2.Gradients()\n",
    "g_h2.run()\n",
    "g_h2.hcore_generator()(0)\n",
    "h1=g_h2.get_hcore()\n",
    "g_h2.get_hcore()"
   ]
  },
  {
   "cell_type": "code",
   "execution_count": 15,
   "metadata": {},
   "outputs": [
    {
     "name": "stdout",
     "output_type": "stream",
     "text": [
      "\n",
      "WARN: Found fractional number of electrons 1.500000. Round it to 2\n",
      "\n",
      "\n",
      "WARN: Found fractional number of electrons 1.500000. Round it to 2\n",
      "\n",
      "\n",
      "WARN: Found fractional number of electrons 1.500000. Round it to 2\n",
      "\n",
      "\n",
      "\n",
      "******** <class 'pyscf.scf.atom_hf.AtomSphericAverageRHF'> ********\n",
      "method = AtomSphericAverageRHF-RHF\n",
      "initial guess = minao\n",
      "damping factor = 0\n",
      "level_shift factor = 0\n",
      "DIIS = <class 'pyscf.scf.diis.CDIIS'>\n",
      "diis_start_cycle = 1\n",
      "diis_space = 8\n",
      "SCF conv_tol = 1e-09\n",
      "SCF conv_tol_grad = None\n",
      "SCF max_cycles = 50\n",
      "direct_scf = True\n",
      "direct_scf_tol = 1e-13\n",
      "chkfile to save SCF result = /home/administrator/Documenti/APDFT/prototyping/hessian/AAFF/0_notebooks for theory/tmpj1p7kbyv\n",
      "max_memory 4000 MB (current use 143 MB)\n",
      "\n",
      "WARN: Found fractional number of electrons 1.500000. Round it to 2\n",
      "\n",
      "Set gradient conv threshold to 3.16228e-05\n"
     ]
    },
    {
     "ename": "RuntimeError",
     "evalue": "Core configuration for %d core electrons is not available.",
     "output_type": "error",
     "traceback": [
      "\u001b[0;31m---------------------------------------------------------------------------\u001b[0m",
      "\u001b[0;31mRuntimeError\u001b[0m                              Traceback (most recent call last)",
      "\u001b[0;32m<ipython-input-15-6716ee74c3a8>\u001b[0m in \u001b[0;36m<module>\u001b[0;34m\u001b[0m\n\u001b[1;32m      2\u001b[0m \u001b[0mfm\u001b[0m\u001b[0;34m=\u001b[0m\u001b[0mFcM\u001b[0m\u001b[0;34m(\u001b[0m\u001b[0mfcs\u001b[0m\u001b[0;34m=\u001b[0m\u001b[0;34m[\u001b[0m\u001b[0;36m0.5\u001b[0m\u001b[0;34m,\u001b[0m\u001b[0;34m-\u001b[0m\u001b[0;36m0.5\u001b[0m\u001b[0;34m]\u001b[0m\u001b[0;34m,\u001b[0m\u001b[0matom\u001b[0m\u001b[0;34m=\u001b[0m\u001b[0;34m\"H 0 0 0; H 0 0 1.3\"\u001b[0m\u001b[0;34m,\u001b[0m\u001b[0munit\u001b[0m\u001b[0;34m=\u001b[0m\u001b[0;34m\"Bohr\"\u001b[0m\u001b[0;34m)\u001b[0m\u001b[0;34m\u001b[0m\u001b[0;34m\u001b[0m\u001b[0m\n\u001b[1;32m      3\u001b[0m \u001b[0mfmf\u001b[0m\u001b[0;34m=\u001b[0m\u001b[0mscf\u001b[0m\u001b[0;34m.\u001b[0m\u001b[0mRHF\u001b[0m\u001b[0;34m(\u001b[0m\u001b[0mfm\u001b[0m\u001b[0;34m)\u001b[0m\u001b[0;34m\u001b[0m\u001b[0;34m\u001b[0m\u001b[0m\n\u001b[0;32m----> 4\u001b[0;31m \u001b[0mfmf\u001b[0m\u001b[0;34m.\u001b[0m\u001b[0mkernel\u001b[0m\u001b[0;34m(\u001b[0m\u001b[0mdm0\u001b[0m\u001b[0;34m=\u001b[0m\u001b[0mfmf\u001b[0m\u001b[0;34m.\u001b[0m\u001b[0minit_guess_by_atom\u001b[0m\u001b[0;34m(\u001b[0m\u001b[0;34m)\u001b[0m\u001b[0;34m)\u001b[0m\u001b[0;34m\u001b[0m\u001b[0;34m\u001b[0m\u001b[0m\n\u001b[0m\u001b[1;32m      5\u001b[0m \u001b[0mg_fm\u001b[0m\u001b[0;34m=\u001b[0m\u001b[0mfmf\u001b[0m\u001b[0;34m.\u001b[0m\u001b[0mGradients\u001b[0m\u001b[0;34m(\u001b[0m\u001b[0;34m)\u001b[0m\u001b[0;34m\u001b[0m\u001b[0;34m\u001b[0m\u001b[0m\n\u001b[1;32m      6\u001b[0m \u001b[0mg_fm\u001b[0m\u001b[0;34m.\u001b[0m\u001b[0mkernel\u001b[0m\u001b[0;34m(\u001b[0m\u001b[0;34m)\u001b[0m\u001b[0;34m\u001b[0m\u001b[0;34m\u001b[0m\u001b[0m\n",
      "\u001b[0;32m~/anaconda3/lib/python3.7/site-packages/pyscf/scf/hf.py\u001b[0m in \u001b[0;36minit_guess_by_atom\u001b[0;34m(self, mol)\u001b[0m\n\u001b[1;32m   1525\u001b[0m         \u001b[0;32mif\u001b[0m \u001b[0mmol\u001b[0m \u001b[0;32mis\u001b[0m \u001b[0;32mNone\u001b[0m\u001b[0;34m:\u001b[0m \u001b[0mmol\u001b[0m \u001b[0;34m=\u001b[0m \u001b[0mself\u001b[0m\u001b[0;34m.\u001b[0m\u001b[0mmol\u001b[0m\u001b[0;34m\u001b[0m\u001b[0;34m\u001b[0m\u001b[0m\n\u001b[1;32m   1526\u001b[0m         \u001b[0mlogger\u001b[0m\u001b[0;34m.\u001b[0m\u001b[0minfo\u001b[0m\u001b[0;34m(\u001b[0m\u001b[0mself\u001b[0m\u001b[0;34m,\u001b[0m \u001b[0;34m'Initial guess from superposition of atomic densities.'\u001b[0m\u001b[0;34m)\u001b[0m\u001b[0;34m\u001b[0m\u001b[0;34m\u001b[0m\u001b[0m\n\u001b[0;32m-> 1527\u001b[0;31m         \u001b[0;32mreturn\u001b[0m \u001b[0minit_guess_by_atom\u001b[0m\u001b[0;34m(\u001b[0m\u001b[0mmol\u001b[0m\u001b[0;34m)\u001b[0m\u001b[0;34m\u001b[0m\u001b[0;34m\u001b[0m\u001b[0m\n\u001b[0m\u001b[1;32m   1528\u001b[0m \u001b[0;34m\u001b[0m\u001b[0m\n\u001b[1;32m   1529\u001b[0m     \u001b[0;34m@\u001b[0m\u001b[0mlib\u001b[0m\u001b[0;34m.\u001b[0m\u001b[0mwith_doc\u001b[0m\u001b[0;34m(\u001b[0m\u001b[0minit_guess_by_huckel\u001b[0m\u001b[0;34m.\u001b[0m\u001b[0m__doc__\u001b[0m\u001b[0;34m)\u001b[0m\u001b[0;34m\u001b[0m\u001b[0;34m\u001b[0m\u001b[0m\n",
      "\u001b[0;32m~/anaconda3/lib/python3.7/site-packages/pyscf/scf/hf.py\u001b[0m in \u001b[0;36minit_guess_by_atom\u001b[0;34m(mol)\u001b[0m\n\u001b[1;32m    464\u001b[0m     '''\n\u001b[1;32m    465\u001b[0m     \u001b[0;32mfrom\u001b[0m \u001b[0mpyscf\u001b[0m\u001b[0;34m.\u001b[0m\u001b[0mscf\u001b[0m \u001b[0;32mimport\u001b[0m \u001b[0matom_hf\u001b[0m\u001b[0;34m\u001b[0m\u001b[0;34m\u001b[0m\u001b[0m\n\u001b[0;32m--> 466\u001b[0;31m     \u001b[0matm_scf\u001b[0m \u001b[0;34m=\u001b[0m \u001b[0matom_hf\u001b[0m\u001b[0;34m.\u001b[0m\u001b[0mget_atm_nrhf\u001b[0m\u001b[0;34m(\u001b[0m\u001b[0mmol\u001b[0m\u001b[0;34m)\u001b[0m\u001b[0;34m\u001b[0m\u001b[0;34m\u001b[0m\u001b[0m\n\u001b[0m\u001b[1;32m    467\u001b[0m     \u001b[0maoslice\u001b[0m \u001b[0;34m=\u001b[0m \u001b[0mmol\u001b[0m\u001b[0;34m.\u001b[0m\u001b[0maoslice_by_atom\u001b[0m\u001b[0;34m(\u001b[0m\u001b[0;34m)\u001b[0m\u001b[0;34m\u001b[0m\u001b[0;34m\u001b[0m\u001b[0m\n\u001b[1;32m    468\u001b[0m     \u001b[0matm_dms\u001b[0m \u001b[0;34m=\u001b[0m \u001b[0;34m[\u001b[0m\u001b[0;34m]\u001b[0m\u001b[0;34m\u001b[0m\u001b[0;34m\u001b[0m\u001b[0m\n",
      "\u001b[0;32m~/anaconda3/lib/python3.7/site-packages/pyscf/scf/atom_hf.py\u001b[0m in \u001b[0;36mget_atm_nrhf\u001b[0;34m(mol, atomic_configuration)\u001b[0m\n\u001b[1;32m     64\u001b[0m \u001b[0;34m\u001b[0m\u001b[0m\n\u001b[1;32m     65\u001b[0m             \u001b[0matm_hf\u001b[0m\u001b[0;34m.\u001b[0m\u001b[0mverbose\u001b[0m \u001b[0;34m=\u001b[0m \u001b[0;36m4\u001b[0m\u001b[0;34m\u001b[0m\u001b[0;34m\u001b[0m\u001b[0m\n\u001b[0;32m---> 66\u001b[0;31m             \u001b[0matm_hf\u001b[0m\u001b[0;34m.\u001b[0m\u001b[0mrun\u001b[0m\u001b[0;34m(\u001b[0m\u001b[0;34m)\u001b[0m\u001b[0;34m\u001b[0m\u001b[0;34m\u001b[0m\u001b[0m\n\u001b[0m\u001b[1;32m     67\u001b[0m             atm_scf_result[element] = (atm_hf.e_tot, atm_hf.mo_energy,\n\u001b[1;32m     68\u001b[0m                                        atm_hf.mo_coeff, atm_hf.mo_occ)\n",
      "\u001b[0;32m~/anaconda3/lib/python3.7/site-packages/pyscf/lib/misc.py\u001b[0m in \u001b[0;36mrun\u001b[0;34m(self, *args, **kwargs)\u001b[0m\n\u001b[1;32m    477\u001b[0m         '''\n\u001b[1;32m    478\u001b[0m         \u001b[0mself\u001b[0m\u001b[0;34m.\u001b[0m\u001b[0mset\u001b[0m\u001b[0;34m(\u001b[0m\u001b[0;34m**\u001b[0m\u001b[0mkwargs\u001b[0m\u001b[0;34m)\u001b[0m\u001b[0;34m\u001b[0m\u001b[0;34m\u001b[0m\u001b[0m\n\u001b[0;32m--> 479\u001b[0;31m         \u001b[0mself\u001b[0m\u001b[0;34m.\u001b[0m\u001b[0mkernel\u001b[0m\u001b[0;34m(\u001b[0m\u001b[0;34m*\u001b[0m\u001b[0margs\u001b[0m\u001b[0;34m)\u001b[0m\u001b[0;34m\u001b[0m\u001b[0;34m\u001b[0m\u001b[0m\n\u001b[0m\u001b[1;32m    480\u001b[0m         \u001b[0;32mreturn\u001b[0m \u001b[0mself\u001b[0m\u001b[0;34m\u001b[0m\u001b[0;34m\u001b[0m\u001b[0m\n\u001b[1;32m    481\u001b[0m \u001b[0;34m\u001b[0m\u001b[0m\n",
      "\u001b[0;32m~/anaconda3/lib/python3.7/site-packages/pyscf/lib/misc.py\u001b[0m in \u001b[0;36maliased_fn\u001b[0;34m(self, *args, **kwargs)\u001b[0m\n\u001b[1;32m    596\u001b[0m     \u001b[0mfname\u001b[0m \u001b[0;34m=\u001b[0m \u001b[0mfn\u001b[0m\u001b[0;34m.\u001b[0m\u001b[0m__name__\u001b[0m\u001b[0;34m\u001b[0m\u001b[0;34m\u001b[0m\u001b[0m\n\u001b[1;32m    597\u001b[0m     \u001b[0;32mdef\u001b[0m \u001b[0maliased_fn\u001b[0m\u001b[0;34m(\u001b[0m\u001b[0mself\u001b[0m\u001b[0;34m,\u001b[0m \u001b[0;34m*\u001b[0m\u001b[0margs\u001b[0m\u001b[0;34m,\u001b[0m \u001b[0;34m**\u001b[0m\u001b[0mkwargs\u001b[0m\u001b[0;34m)\u001b[0m\u001b[0;34m:\u001b[0m\u001b[0;34m\u001b[0m\u001b[0;34m\u001b[0m\u001b[0m\n\u001b[0;32m--> 598\u001b[0;31m         \u001b[0;32mreturn\u001b[0m \u001b[0mgetattr\u001b[0m\u001b[0;34m(\u001b[0m\u001b[0mself\u001b[0m\u001b[0;34m,\u001b[0m \u001b[0mfname\u001b[0m\u001b[0;34m)\u001b[0m\u001b[0;34m(\u001b[0m\u001b[0;34m*\u001b[0m\u001b[0margs\u001b[0m\u001b[0;34m,\u001b[0m \u001b[0;34m**\u001b[0m\u001b[0mkwargs\u001b[0m\u001b[0;34m)\u001b[0m\u001b[0;34m\u001b[0m\u001b[0;34m\u001b[0m\u001b[0m\n\u001b[0m\u001b[1;32m    599\u001b[0m \u001b[0;34m\u001b[0m\u001b[0m\n\u001b[1;32m    600\u001b[0m     \u001b[0;32mif\u001b[0m \u001b[0malias_name\u001b[0m \u001b[0;32mis\u001b[0m \u001b[0;32mnot\u001b[0m \u001b[0;32mNone\u001b[0m\u001b[0;34m:\u001b[0m\u001b[0;34m\u001b[0m\u001b[0;34m\u001b[0m\u001b[0m\n",
      "\u001b[0;32m~/anaconda3/lib/python3.7/site-packages/pyscf/scf/atom_hf.py\u001b[0m in \u001b[0;36mscf\u001b[0;34m(self, *args, **kwargs)\u001b[0m\n\u001b[1;32m    153\u001b[0m     \u001b[0;32mdef\u001b[0m \u001b[0mscf\u001b[0m\u001b[0;34m(\u001b[0m\u001b[0mself\u001b[0m\u001b[0;34m,\u001b[0m \u001b[0;34m*\u001b[0m\u001b[0margs\u001b[0m\u001b[0;34m,\u001b[0m \u001b[0;34m**\u001b[0m\u001b[0mkwargs\u001b[0m\u001b[0;34m)\u001b[0m\u001b[0;34m:\u001b[0m\u001b[0;34m\u001b[0m\u001b[0;34m\u001b[0m\u001b[0m\n\u001b[1;32m    154\u001b[0m         \u001b[0mkwargs\u001b[0m\u001b[0;34m[\u001b[0m\u001b[0;34m'dump_chk'\u001b[0m\u001b[0;34m]\u001b[0m \u001b[0;34m=\u001b[0m \u001b[0;32mFalse\u001b[0m\u001b[0;34m\u001b[0m\u001b[0;34m\u001b[0m\u001b[0m\n\u001b[0;32m--> 155\u001b[0;31m         \u001b[0;32mreturn\u001b[0m \u001b[0mhf\u001b[0m\u001b[0;34m.\u001b[0m\u001b[0mRHF\u001b[0m\u001b[0;34m.\u001b[0m\u001b[0mscf\u001b[0m\u001b[0;34m(\u001b[0m\u001b[0mself\u001b[0m\u001b[0;34m,\u001b[0m \u001b[0;34m*\u001b[0m\u001b[0margs\u001b[0m\u001b[0;34m,\u001b[0m \u001b[0;34m**\u001b[0m\u001b[0mkwargs\u001b[0m\u001b[0;34m)\u001b[0m\u001b[0;34m\u001b[0m\u001b[0;34m\u001b[0m\u001b[0m\n\u001b[0m\u001b[1;32m    156\u001b[0m \u001b[0;34m\u001b[0m\u001b[0m\n\u001b[1;32m    157\u001b[0m \u001b[0;34m\u001b[0m\u001b[0m\n",
      "\u001b[0;32m~/anaconda3/lib/python3.7/site-packages/pyscf/scf/hf.py\u001b[0m in \u001b[0;36mscf\u001b[0;34m(self, dm0, **kwargs)\u001b[0m\n\u001b[1;32m   1642\u001b[0m                     kernel(self, self.conv_tol, self.conv_tol_grad,\n\u001b[1;32m   1643\u001b[0m                            \u001b[0mdm0\u001b[0m\u001b[0;34m=\u001b[0m\u001b[0mdm0\u001b[0m\u001b[0;34m,\u001b[0m \u001b[0mcallback\u001b[0m\u001b[0;34m=\u001b[0m\u001b[0mself\u001b[0m\u001b[0;34m.\u001b[0m\u001b[0mcallback\u001b[0m\u001b[0;34m,\u001b[0m\u001b[0;34m\u001b[0m\u001b[0;34m\u001b[0m\u001b[0m\n\u001b[0;32m-> 1644\u001b[0;31m                            conv_check=self.conv_check, **kwargs)\n\u001b[0m\u001b[1;32m   1645\u001b[0m         \u001b[0;32melse\u001b[0m\u001b[0;34m:\u001b[0m\u001b[0;34m\u001b[0m\u001b[0;34m\u001b[0m\u001b[0m\n\u001b[1;32m   1646\u001b[0m             \u001b[0;31m# Avoid to update SCF orbitals in the non-SCF initialization\u001b[0m\u001b[0;34m\u001b[0m\u001b[0;34m\u001b[0m\u001b[0;34m\u001b[0m\u001b[0m\n",
      "\u001b[0;32m~/anaconda3/lib/python3.7/site-packages/pyscf/scf/hf.py\u001b[0m in \u001b[0;36mkernel\u001b[0;34m(mf, conv_tol, conv_tol_grad, dump_chk, dm0, callback, conv_check, **kwargs)\u001b[0m\n\u001b[1;32m    120\u001b[0m     \u001b[0mmol\u001b[0m \u001b[0;34m=\u001b[0m \u001b[0mmf\u001b[0m\u001b[0;34m.\u001b[0m\u001b[0mmol\u001b[0m\u001b[0;34m\u001b[0m\u001b[0;34m\u001b[0m\u001b[0m\n\u001b[1;32m    121\u001b[0m     \u001b[0;32mif\u001b[0m \u001b[0mdm0\u001b[0m \u001b[0;32mis\u001b[0m \u001b[0;32mNone\u001b[0m\u001b[0;34m:\u001b[0m\u001b[0;34m\u001b[0m\u001b[0;34m\u001b[0m\u001b[0m\n\u001b[0;32m--> 122\u001b[0;31m         \u001b[0mdm\u001b[0m \u001b[0;34m=\u001b[0m \u001b[0mmf\u001b[0m\u001b[0;34m.\u001b[0m\u001b[0mget_init_guess\u001b[0m\u001b[0;34m(\u001b[0m\u001b[0mmol\u001b[0m\u001b[0;34m,\u001b[0m \u001b[0mmf\u001b[0m\u001b[0;34m.\u001b[0m\u001b[0minit_guess\u001b[0m\u001b[0;34m)\u001b[0m\u001b[0;34m\u001b[0m\u001b[0;34m\u001b[0m\u001b[0m\n\u001b[0m\u001b[1;32m    123\u001b[0m     \u001b[0;32melse\u001b[0m\u001b[0;34m:\u001b[0m\u001b[0;34m\u001b[0m\u001b[0;34m\u001b[0m\u001b[0m\n\u001b[1;32m    124\u001b[0m         \u001b[0mdm\u001b[0m \u001b[0;34m=\u001b[0m \u001b[0mdm0\u001b[0m\u001b[0;34m\u001b[0m\u001b[0;34m\u001b[0m\u001b[0m\n",
      "\u001b[0;32m~/anaconda3/lib/python3.7/site-packages/pyscf/scf/hf.py\u001b[0m in \u001b[0;36mget_init_guess\u001b[0;34m(self, mol, key)\u001b[0m\n\u001b[1;32m   1584\u001b[0m                 \u001b[0mdm\u001b[0m \u001b[0;34m=\u001b[0m \u001b[0mself\u001b[0m\u001b[0;34m.\u001b[0m\u001b[0minit_guess_by_minao\u001b[0m\u001b[0;34m(\u001b[0m\u001b[0mmol\u001b[0m\u001b[0;34m)\u001b[0m\u001b[0;34m\u001b[0m\u001b[0;34m\u001b[0m\u001b[0m\n\u001b[1;32m   1585\u001b[0m         \u001b[0;32melse\u001b[0m\u001b[0;34m:\u001b[0m\u001b[0;34m\u001b[0m\u001b[0;34m\u001b[0m\u001b[0m\n\u001b[0;32m-> 1586\u001b[0;31m             \u001b[0mdm\u001b[0m \u001b[0;34m=\u001b[0m \u001b[0mself\u001b[0m\u001b[0;34m.\u001b[0m\u001b[0minit_guess_by_minao\u001b[0m\u001b[0;34m(\u001b[0m\u001b[0mmol\u001b[0m\u001b[0;34m)\u001b[0m\u001b[0;34m\u001b[0m\u001b[0;34m\u001b[0m\u001b[0m\n\u001b[0m\u001b[1;32m   1587\u001b[0m         \u001b[0;32mif\u001b[0m \u001b[0mself\u001b[0m\u001b[0;34m.\u001b[0m\u001b[0mverbose\u001b[0m \u001b[0;34m>=\u001b[0m \u001b[0mlogger\u001b[0m\u001b[0;34m.\u001b[0m\u001b[0mDEBUG1\u001b[0m\u001b[0;34m:\u001b[0m\u001b[0;34m\u001b[0m\u001b[0;34m\u001b[0m\u001b[0m\n\u001b[1;32m   1588\u001b[0m             \u001b[0ms\u001b[0m \u001b[0;34m=\u001b[0m \u001b[0mself\u001b[0m\u001b[0;34m.\u001b[0m\u001b[0mget_ovlp\u001b[0m\u001b[0;34m(\u001b[0m\u001b[0;34m)\u001b[0m\u001b[0;34m\u001b[0m\u001b[0;34m\u001b[0m\u001b[0m\n",
      "\u001b[0;32m~/anaconda3/lib/python3.7/site-packages/pyscf/scf/hf.py\u001b[0m in \u001b[0;36minit_guess_by_minao\u001b[0;34m(self, mol)\u001b[0m\n\u001b[1;32m   1519\u001b[0m     \u001b[0;32mdef\u001b[0m \u001b[0minit_guess_by_minao\u001b[0m\u001b[0;34m(\u001b[0m\u001b[0mself\u001b[0m\u001b[0;34m,\u001b[0m \u001b[0mmol\u001b[0m\u001b[0;34m=\u001b[0m\u001b[0;32mNone\u001b[0m\u001b[0;34m)\u001b[0m\u001b[0;34m:\u001b[0m\u001b[0;34m\u001b[0m\u001b[0;34m\u001b[0m\u001b[0m\n\u001b[1;32m   1520\u001b[0m         \u001b[0;32mif\u001b[0m \u001b[0mmol\u001b[0m \u001b[0;32mis\u001b[0m \u001b[0;32mNone\u001b[0m\u001b[0;34m:\u001b[0m \u001b[0mmol\u001b[0m \u001b[0;34m=\u001b[0m \u001b[0mself\u001b[0m\u001b[0;34m.\u001b[0m\u001b[0mmol\u001b[0m\u001b[0;34m\u001b[0m\u001b[0;34m\u001b[0m\u001b[0m\n\u001b[0;32m-> 1521\u001b[0;31m         \u001b[0;32mreturn\u001b[0m \u001b[0minit_guess_by_minao\u001b[0m\u001b[0;34m(\u001b[0m\u001b[0mmol\u001b[0m\u001b[0;34m)\u001b[0m\u001b[0;34m\u001b[0m\u001b[0;34m\u001b[0m\u001b[0m\n\u001b[0m\u001b[1;32m   1522\u001b[0m \u001b[0;34m\u001b[0m\u001b[0m\n\u001b[1;32m   1523\u001b[0m     \u001b[0;34m@\u001b[0m\u001b[0mlib\u001b[0m\u001b[0;34m.\u001b[0m\u001b[0mwith_doc\u001b[0m\u001b[0;34m(\u001b[0m\u001b[0minit_guess_by_atom\u001b[0m\u001b[0;34m.\u001b[0m\u001b[0m__doc__\u001b[0m\u001b[0;34m)\u001b[0m\u001b[0;34m\u001b[0m\u001b[0;34m\u001b[0m\u001b[0m\n",
      "\u001b[0;32m~/anaconda3/lib/python3.7/site-packages/pyscf/scf/hf.py\u001b[0m in \u001b[0;36minit_guess_by_minao\u001b[0;34m(mol)\u001b[0m\n\u001b[1;32m    423\u001b[0m     \u001b[0moccdic\u001b[0m \u001b[0;34m=\u001b[0m \u001b[0;34m{\u001b[0m\u001b[0;34m}\u001b[0m\u001b[0;34m\u001b[0m\u001b[0;34m\u001b[0m\u001b[0m\n\u001b[1;32m    424\u001b[0m     \u001b[0;32mfor\u001b[0m \u001b[0msymb\u001b[0m\u001b[0;34m,\u001b[0m \u001b[0mnelec_ecp\u001b[0m \u001b[0;32min\u001b[0m \u001b[0mnelec_ecp_dic\u001b[0m\u001b[0;34m.\u001b[0m\u001b[0mitems\u001b[0m\u001b[0;34m(\u001b[0m\u001b[0;34m)\u001b[0m\u001b[0;34m:\u001b[0m\u001b[0;34m\u001b[0m\u001b[0;34m\u001b[0m\u001b[0m\n\u001b[0;32m--> 425\u001b[0;31m         \u001b[0mocc_add\u001b[0m\u001b[0;34m,\u001b[0m \u001b[0mbasis_add\u001b[0m \u001b[0;34m=\u001b[0m \u001b[0mminao_basis\u001b[0m\u001b[0;34m(\u001b[0m\u001b[0msymb\u001b[0m\u001b[0;34m,\u001b[0m \u001b[0mnelec_ecp\u001b[0m\u001b[0;34m)\u001b[0m\u001b[0;34m\u001b[0m\u001b[0;34m\u001b[0m\u001b[0m\n\u001b[0m\u001b[1;32m    426\u001b[0m         \u001b[0moccdic\u001b[0m\u001b[0;34m[\u001b[0m\u001b[0msymb\u001b[0m\u001b[0;34m]\u001b[0m \u001b[0;34m=\u001b[0m \u001b[0mocc_add\u001b[0m\u001b[0;34m\u001b[0m\u001b[0;34m\u001b[0m\u001b[0m\n\u001b[1;32m    427\u001b[0m         \u001b[0mbasis\u001b[0m\u001b[0;34m[\u001b[0m\u001b[0msymb\u001b[0m\u001b[0;34m]\u001b[0m \u001b[0;34m=\u001b[0m \u001b[0mbasis_add\u001b[0m\u001b[0;34m\u001b[0m\u001b[0;34m\u001b[0m\u001b[0m\n",
      "\u001b[0;32m~/anaconda3/lib/python3.7/site-packages/pyscf/scf/hf.py\u001b[0m in \u001b[0;36mminao_basis\u001b[0;34m(symb, nelec_ecp)\u001b[0m\n\u001b[1;32m    358\u001b[0m         \u001b[0mbasis_add\u001b[0m \u001b[0;34m=\u001b[0m \u001b[0mgto\u001b[0m\u001b[0;34m.\u001b[0m\u001b[0mbasis\u001b[0m\u001b[0;34m.\u001b[0m\u001b[0mload\u001b[0m\u001b[0;34m(\u001b[0m\u001b[0;34m'ano'\u001b[0m\u001b[0;34m,\u001b[0m \u001b[0mstdsymb\u001b[0m\u001b[0;34m)\u001b[0m\u001b[0;34m\u001b[0m\u001b[0;34m\u001b[0m\u001b[0m\n\u001b[1;32m    359\u001b[0m \u001b[0;31m# coreshl defines the core shells to be removed in the initial guess\u001b[0m\u001b[0;34m\u001b[0m\u001b[0;34m\u001b[0m\u001b[0;34m\u001b[0m\u001b[0m\n\u001b[0;32m--> 360\u001b[0;31m         \u001b[0mcoreshl\u001b[0m \u001b[0;34m=\u001b[0m \u001b[0mgto\u001b[0m\u001b[0;34m.\u001b[0m\u001b[0mecp\u001b[0m\u001b[0;34m.\u001b[0m\u001b[0mcore_configuration\u001b[0m\u001b[0;34m(\u001b[0m\u001b[0mnelec_ecp\u001b[0m\u001b[0;34m)\u001b[0m\u001b[0;34m\u001b[0m\u001b[0;34m\u001b[0m\u001b[0m\n\u001b[0m\u001b[1;32m    361\u001b[0m         \u001b[0;31m#coreshl = (0,0,0,0)  # it keeps all core electrons in the initial guess\u001b[0m\u001b[0;34m\u001b[0m\u001b[0;34m\u001b[0m\u001b[0;34m\u001b[0m\u001b[0m\n\u001b[1;32m    362\u001b[0m         \u001b[0;32mfor\u001b[0m \u001b[0ml\u001b[0m \u001b[0;32min\u001b[0m \u001b[0mrange\u001b[0m\u001b[0;34m(\u001b[0m\u001b[0;36m4\u001b[0m\u001b[0;34m)\u001b[0m\u001b[0;34m:\u001b[0m\u001b[0;34m\u001b[0m\u001b[0;34m\u001b[0m\u001b[0m\n",
      "\u001b[0;32m~/anaconda3/lib/python3.7/site-packages/pyscf/gto/ecp.py\u001b[0m in \u001b[0;36mcore_configuration\u001b[0;34m(nelec_core)\u001b[0m\n\u001b[1;32m    128\u001b[0m     }\n\u001b[1;32m    129\u001b[0m     \u001b[0;32mif\u001b[0m \u001b[0mnelec_core\u001b[0m \u001b[0;32mnot\u001b[0m \u001b[0;32min\u001b[0m \u001b[0mconf_dic\u001b[0m\u001b[0;34m:\u001b[0m\u001b[0;34m\u001b[0m\u001b[0;34m\u001b[0m\u001b[0m\n\u001b[0;32m--> 130\u001b[0;31m         \u001b[0;32mraise\u001b[0m \u001b[0mRuntimeError\u001b[0m\u001b[0;34m(\u001b[0m\u001b[0;34m'Core configuration for %d core electrons is not available.'\u001b[0m\u001b[0;34m)\u001b[0m\u001b[0;34m\u001b[0m\u001b[0;34m\u001b[0m\u001b[0m\n\u001b[0m\u001b[1;32m    131\u001b[0m     \u001b[0mcoreshell\u001b[0m \u001b[0;34m=\u001b[0m \u001b[0;34m[\u001b[0m\u001b[0mint\u001b[0m\u001b[0;34m(\u001b[0m\u001b[0mx\u001b[0m\u001b[0;34m)\u001b[0m \u001b[0;32mfor\u001b[0m \u001b[0mx\u001b[0m \u001b[0;32min\u001b[0m \u001b[0mconf_dic\u001b[0m\u001b[0;34m[\u001b[0m\u001b[0mnelec_core\u001b[0m\u001b[0;34m]\u001b[0m\u001b[0;34m[\u001b[0m\u001b[0;34m:\u001b[0m\u001b[0;34m:\u001b[0m\u001b[0;36m2\u001b[0m\u001b[0;34m]\u001b[0m\u001b[0;34m]\u001b[0m\u001b[0;34m\u001b[0m\u001b[0;34m\u001b[0m\u001b[0m\n\u001b[1;32m    132\u001b[0m     \u001b[0;32mreturn\u001b[0m \u001b[0mcoreshell\u001b[0m\u001b[0;34m\u001b[0m\u001b[0;34m\u001b[0m\u001b[0m\n",
      "\u001b[0;31mRuntimeError\u001b[0m: Core configuration for %d core electrons is not available."
     ]
    }
   ],
   "source": [
    "from FcMole import FcM\n",
    "fm=FcM(fcs=[0.5,-0.5],atom=\"H 0 0 0; H 0 0 1.3\",unit=\"Bohr\")\n",
    "fmf=scf.RHF(fm)\n",
    "fmf.kernel(dm0=fmf.init_guess_by_atom())\n",
    "g_fm=fmf.Gradients()\n",
    "g_fm.kernel()"
   ]
  },
  {
   "cell_type": "code",
   "execution_count": 16,
   "metadata": {},
   "outputs": [
    {
     "data": {
      "text/plain": [
       "array([[[-0.        , -0.        ],\n",
       "        [-0.        , -0.        ]],\n",
       "\n",
       "       [[-0.        , -0.        ],\n",
       "        [-0.        , -0.        ]],\n",
       "\n",
       "       [[-0.36850155, -0.6402839 ],\n",
       "        [-0.6402839 , -0.36850155]]])"
      ]
     },
     "execution_count": 16,
     "metadata": {},
     "output_type": "execute_result"
    }
   ],
   "source": [
    "g_h2.hcore_generator()(0)"
   ]
  },
  {
   "cell_type": "code",
   "execution_count": 17,
   "metadata": {},
   "outputs": [
    {
     "data": {
      "text/plain": [
       "array([[[-0.        , -0.        ],\n",
       "        [-0.        , -0.        ]],\n",
       "\n",
       "       [[-0.        , -0.        ],\n",
       "        [-0.        , -0.        ]],\n",
       "\n",
       "       [[-0.36850155, -0.6402839 ],\n",
       "        [-0.6402839 , -0.36850155]]])"
      ]
     },
     "execution_count": 17,
     "metadata": {},
     "output_type": "execute_result"
    }
   ],
   "source": [
    "atm_id=0\n",
    "with molh2.with_rinv_at_nucleus(atm_id):\n",
    "    vrinv = -molh2.intor('int1e_iprinv', comp=3)\n",
    "shl0, shl1, p0, p1 = molh2.aoslice_by_atom()[atm_id]\n",
    "vrinv[:,p0:p1] += h1[:,p0:p1]   \n",
    "vrinv += vrinv.transpose(0,2,1)\n",
    "vrinv"
   ]
  },
  {
   "cell_type": "code",
   "execution_count": 18,
   "metadata": {},
   "outputs": [
    {
     "data": {
      "text/plain": [
       "array([[[-0.00000000e+00, -0.00000000e+00],\n",
       "        [-0.00000000e+00, -0.00000000e+00]],\n",
       "\n",
       "       [[-0.00000000e+00, -0.00000000e+00],\n",
       "        [-0.00000000e+00, -0.00000000e+00]],\n",
       "\n",
       "       [[ 1.84250777e-01,  4.90251756e-01],\n",
       "        [-2.66202967e-01, -6.23839931e-17]]])"
      ]
     },
     "execution_count": 18,
     "metadata": {},
     "output_type": "execute_result"
    }
   ],
   "source": [
    "with fm.with_rinv_at_nucleus(1):\n",
    "    vrinv = -fm.intor('int1e_iprinv', comp=3)\n",
    "vrinv"
   ]
  },
  {
   "cell_type": "code",
   "execution_count": 19,
   "metadata": {},
   "outputs": [
    {
     "data": {
      "text/plain": [
       "array([[[-0.        , -0.        ],\n",
       "        [-0.        , -0.        ]],\n",
       "\n",
       "       [[-0.        , -0.        ],\n",
       "        [-0.        , -0.        ]],\n",
       "\n",
       "       [[-0.18425078, -0.41623511],\n",
       "        [ 0.41623511,  0.18425078]]])"
      ]
     },
     "execution_count": 19,
     "metadata": {},
     "output_type": "execute_result"
    }
   ],
   "source": [
    "g_h2.get_hcore()"
   ]
  },
  {
   "cell_type": "code",
   "execution_count": 20,
   "metadata": {},
   "outputs": [
    {
     "data": {
      "text/plain": [
       "\"def get_hcore(mol):\\n    '''Part of the nuclear gradients of core Hamiltonian'''\\n    h = mol.intor('int1e_ipkin', comp=3)\\n    if mol._pseudo:\\n        NotImplementedError('Nuclear gradients for GTH PP')\\n    else:\\n        h+= mol.intor('int1e_ipnuc', comp=3) <--------  work on this\\n    if mol.has_ecp():\\n        h += mol.intor('ECPscalar_ipnuc', comp=3)\\n    return -h\\n    \\n    def intor(self, intor, comp=None, hermi=0, aosym='s1', out=None, shls_slice=None):\\n    .....\\n        return moleintor.getints(intor, self._atm, bas, self._env,  < ------ cambio environment atm \\n                                 shls_slice, comp, hermi, aosym, out=out)\\n    \""
      ]
     },
     "execution_count": 20,
     "metadata": {},
     "output_type": "execute_result"
    }
   ],
   "source": [
    "\"\"\"def get_hcore(mol):\n",
    "    '''Part of the nuclear gradients of core Hamiltonian'''\n",
    "    h = mol.intor('int1e_ipkin', comp=3)\n",
    "    if mol._pseudo:\n",
    "        NotImplementedError('Nuclear gradients for GTH PP')\n",
    "    else:\n",
    "        h+= mol.intor('int1e_ipnuc', comp=3) <--------  work on this\n",
    "    if mol.has_ecp():\n",
    "        h += mol.intor('ECPscalar_ipnuc', comp=3)\n",
    "    return -h\n",
    "    \n",
    "    def intor(self, intor, comp=None, hermi=0, aosym='s1', out=None, shls_slice=None):\n",
    "    .....\n",
    "        return moleintor.getints(intor, self._atm, bas, self._env,  < ------ cambio environment atm \n",
    "                                 shls_slice, comp, hermi, aosym, out=out)\n",
    "    \"\"\""
   ]
  },
  {
   "cell_type": "code",
   "execution_count": 21,
   "metadata": {},
   "outputs": [
    {
     "data": {
      "text/plain": [
       "True"
      ]
     },
     "execution_count": 21,
     "metadata": {},
     "output_type": "execute_result"
    }
   ],
   "source": [
    "np.allclose(molh2.intor('int1e_ipkin', comp=3),fm.intor('int1e_ipkin', comp=3)) #buono,così non entra nelle derivate alchemiche"
   ]
  },
  {
   "cell_type": "code",
   "execution_count": 22,
   "metadata": {},
   "outputs": [
    {
     "ename": "NameError",
     "evalue": "name 'g_fm' is not defined",
     "output_type": "error",
     "traceback": [
      "\u001b[0;31m---------------------------------------------------------------------------\u001b[0m",
      "\u001b[0;31mNameError\u001b[0m                                 Traceback (most recent call last)",
      "\u001b[0;32m<ipython-input-22-6cdfc29f0494>\u001b[0m in \u001b[0;36m<module>\u001b[0;34m\u001b[0m\n\u001b[1;32m      1\u001b[0m \u001b[0;31m#we can see here that [0,0] element for the f.c.m. is half and the [1,1] element is 1.5 time bigger\u001b[0m\u001b[0;34m\u001b[0m\u001b[0;34m\u001b[0m\u001b[0;34m\u001b[0m\u001b[0m\n\u001b[0;32m----> 2\u001b[0;31m np.allclose(g_h2.get_hcore()- g_fm.get_hcore(),\\\n\u001b[0m\u001b[1;32m      3\u001b[0m             -(molh2.intor('int1e_ipnuc', comp=3)-fm.intor('int1e_ipnuc', comp=3)))   # attento al meno\n",
      "\u001b[0;31mNameError\u001b[0m: name 'g_fm' is not defined"
     ]
    }
   ],
   "source": [
    "#we can see here that [0,0] element for the f.c.m. is half and the [1,1] element is 1.5 time bigger \n",
    "np.allclose(g_h2.get_hcore()- g_fm.get_hcore(),\\\n",
    "            -(molh2.intor('int1e_ipnuc', comp=3)-fm.intor('int1e_ipnuc', comp=3)))   # attento al meno"
   ]
  },
  {
   "cell_type": "code",
   "execution_count": 72,
   "metadata": {},
   "outputs": [
    {
     "data": {
      "text/plain": [
       "(array([[[ 0.        ,  0.        ],\n",
       "         [ 0.        ,  0.        ]],\n",
       " \n",
       "        [[ 0.        ,  0.        ],\n",
       "         [ 0.        ,  0.        ]],\n",
       " \n",
       "        [[ 0.18425078,  0.75645472],\n",
       "         [-0.75645472, -0.18425078]]]),\n",
       " array([[[ 0.        ,  0.        ],\n",
       "         [ 0.        ,  0.        ]],\n",
       " \n",
       "        [[ 0.        ,  0.        ],\n",
       "         [ 0.        ,  0.        ]],\n",
       " \n",
       "        [[ 0.09212539,  0.64443033],\n",
       "         [-0.86847912, -0.27637616]]]))"
      ]
     },
     "execution_count": 72,
     "metadata": {},
     "output_type": "execute_result"
    }
   ],
   "source": [
    "molh2.intor('int1e_ipnuc', comp=3),fm.intor('int1e_ipnuc', comp=3)"
   ]
  },
  {
   "cell_type": "code",
   "execution_count": 43,
   "metadata": {},
   "outputs": [
    {
     "data": {
      "text/plain": [
       "(array([137.03599968,   0.        ,   0.        ,   0.        ,\n",
       "          0.        ,   0.        ,   0.        ,   0.        ,\n",
       "          0.        ,   0.        ,   0.        ,   0.        ,\n",
       "          0.        ,   0.        ,   0.        ,   0.        ,\n",
       "          0.        ,   1.        ,   0.        ,   0.        ,\n",
       "          0.        ,   0.        ,   0.        ,   1.5       ,\n",
       "          0.        ,   0.        ,   1.3       ,   0.5       ,\n",
       "          3.42525091,   0.62391373,   0.1688554 ,   0.98170675,\n",
       "          0.94946401,   0.29590645]),\n",
       " array([137.03599968,   0.        ,   0.        ,   0.        ,\n",
       "          0.        ,   0.        ,   0.        ,   0.        ,\n",
       "          0.        ,   0.        ,   0.        ,   0.        ,\n",
       "          0.        ,   0.        ,   0.        ,   0.        ,\n",
       "          0.        ,   0.        ,   0.        ,   0.        ,\n",
       "          0.        ,   0.        ,   0.        ,   0.        ,\n",
       "          0.        ,   0.        ,   1.3       ,   0.        ,\n",
       "          3.42525091,   0.62391373,   0.1688554 ,   0.98170675,\n",
       "          0.94946401,   0.29590645]))"
      ]
     },
     "execution_count": 43,
     "metadata": {},
     "output_type": "execute_result"
    }
   ],
   "source": [
    "fm._env,molh2._env"
   ]
  },
  {
   "cell_type": "code",
   "execution_count": 44,
   "metadata": {},
   "outputs": [
    {
     "data": {
      "text/plain": [
       "(array([[ 1, 20,  1, 23,  0,  0],\n",
       "        [ 1, 24,  1, 27,  0,  0]], dtype=int32),\n",
       " array([[ 1, 20,  3, 23,  0,  0],\n",
       "        [ 1, 24,  3, 27,  0,  0]], dtype=int32))"
      ]
     },
     "execution_count": 44,
     "metadata": {},
     "output_type": "execute_result"
    }
   ],
   "source": [
    "molh2._atm,fm._atm"
   ]
  },
  {
   "cell_type": "code",
   "execution_count": 46,
   "metadata": {},
   "outputs": [
    {
     "data": {
      "text/plain": [
       "(array([[ 0,  0,  3,  1,  0, 28, 31,  0],\n",
       "        [ 1,  0,  3,  1,  0, 28, 31,  0]], dtype=int32),\n",
       " array([[ 0,  0,  3,  1,  0, 28, 31,  0],\n",
       "        [ 1,  0,  3,  1,  0, 28, 31,  0]], dtype=int32))"
      ]
     },
     "execution_count": 46,
     "metadata": {},
     "output_type": "execute_result"
    }
   ],
   "source": [
    "molh2._bas,fm._bas"
   ]
  },
  {
   "cell_type": "code",
   "execution_count": 73,
   "metadata": {},
   "outputs": [
    {
     "data": {
      "text/plain": [
       "array([[[ 0.        ,  0.        ],\n",
       "        [ 0.        ,  0.        ]],\n",
       "\n",
       "       [[ 0.        ,  0.        ],\n",
       "        [ 0.        ,  0.        ]],\n",
       "\n",
       "       [[ 0.18425078,  0.75645472],\n",
       "        [-0.75645472, -0.18425078]]])"
      ]
     },
     "execution_count": 73,
     "metadata": {},
     "output_type": "execute_result"
    }
   ],
   "source": [
    "#getints(intor, self._atm, bas, self._env,  , shls_slice, comp, hermi, aosym, out=out)\n",
    "gto.moleintor.getints('int1e_ipnuc_sph',molh2._atm,molh2._bas,molh2._env, None,3,0,'s1').astype('float')"
   ]
  },
  {
   "cell_type": "code",
   "execution_count": 70,
   "metadata": {},
   "outputs": [
    {
     "data": {
      "text/plain": [
       "'int1e_ipnuc_sph'"
      ]
     },
     "execution_count": 70,
     "metadata": {},
     "output_type": "execute_result"
    }
   ],
   "source": [
    "molh2.intor('int1e_ipnuc', comp=3)\n",
    "molh2._add_suffix('int1e_ipnuc')"
   ]
  },
  {
   "cell_type": "code",
   "execution_count": null,
   "metadata": {},
   "outputs": [],
   "source": [
    "np.allclose(g_h2.get_hcore()- g_fm.get_hcore(),\\\n",
    "            -(molh2.intor('int1e_ipnuc', comp=3)-fm.intor('int1e_ipnuc', comp=3)))"
   ]
  },
  {
   "cell_type": "code",
   "execution_count": 74,
   "metadata": {},
   "outputs": [],
   "source": [
    "#costruiamo ora un ambiente con le cariche frazionarie differenza delle due molecole, e un atm con parametri cariche frazionarie\n",
    "NUC_FRAC_CHARGE=gto.mole.NUC_FRAC_CHARGE\n",
    "NUC_MOD_OF=gto.mole.NUC_MOD_OF\n",
    "PTR_FRAC_CHARGE=gto.mole.PTR_FRAC_CHARGE\n",
    "denv=molh2._env.copy()\n",
    "datm=molh2._atm.copy()\n",
    "fcs=[.5,-.5]\n",
    "datm[:,NUC_MOD_OF] = NUC_FRAC_CHARGE\n",
    "for i in range (molh2.natm):\n",
    "    denv[datm[i,PTR_FRAC_CHARGE]]=fcs[i]"
   ]
  },
  {
   "cell_type": "code",
   "execution_count": 75,
   "metadata": {},
   "outputs": [
    {
     "data": {
      "text/plain": [
       "array([[[ 0.        ,  0.        ],\n",
       "        [ 0.        ,  0.        ]],\n",
       "\n",
       "       [[ 0.        ,  0.        ],\n",
       "        [ 0.        ,  0.        ]],\n",
       "\n",
       "       [[-0.09212539, -0.11202439],\n",
       "        [-0.11202439, -0.09212539]]])"
      ]
     },
     "execution_count": 75,
     "metadata": {},
     "output_type": "execute_result"
    }
   ],
   "source": [
    "gto.moleintor.getints('int1e_ipnuc_sph',datm,molh2._bas,denv, None,3,0,'s1').astype('float')"
   ]
  },
  {
   "cell_type": "code",
   "execution_count": 76,
   "metadata": {},
   "outputs": [
    {
     "data": {
      "text/plain": [
       "array([[[ 0.        ,  0.        ],\n",
       "        [ 0.        ,  0.        ]],\n",
       "\n",
       "       [[ 0.        ,  0.        ],\n",
       "        [ 0.        ,  0.        ]],\n",
       "\n",
       "       [[-0.09212539, -0.11202439],\n",
       "        [-0.11202439, -0.09212539]]])"
      ]
     },
     "execution_count": 76,
     "metadata": {},
     "output_type": "execute_result"
    }
   ],
   "source": [
    "g_h2.get_hcore()- g_fm.get_hcore()"
   ]
  },
  {
   "cell_type": "code",
   "execution_count": null,
   "metadata": {},
   "outputs": [],
   "source": []
  },
  {
   "cell_type": "code",
   "execution_count": null,
   "metadata": {},
   "outputs": [],
   "source": []
  },
  {
   "cell_type": "code",
   "execution_count": null,
   "metadata": {},
   "outputs": [],
   "source": []
  },
  {
   "cell_type": "code",
   "execution_count": null,
   "metadata": {},
   "outputs": [],
   "source": []
  },
  {
   "cell_type": "code",
   "execution_count": 23,
   "metadata": {},
   "outputs": [],
   "source": [
    "#print(g.hcore_generator()(1)),g.hcore_generator()(1).shape \n",
    "# hcore_generator() returns a function which can take as arguments the atm_idx and returns the dH/dX for X=x,y,z displacements\n",
    "# to get the mixed derivative dive by atom charge(at_idx)"
   ]
  },
  {
   "cell_type": "code",
   "execution_count": 24,
   "metadata": {},
   "outputs": [
    {
     "data": {
      "text/plain": [
       "array([[ 3.03286501e-16, -4.74250743e-17, -2.29905217e+01],\n",
       "       [-3.03286501e-16,  4.74250743e-17,  2.29905217e+01]])"
      ]
     },
     "execution_count": 24,
     "metadata": {},
     "output_type": "execute_result"
    }
   ],
   "source": [
    "g.grad_elec()"
   ]
  },
  {
   "cell_type": "code",
   "execution_count": 25,
   "metadata": {},
   "outputs": [
    {
     "data": {
      "text/plain": [
       "array([[  0.        ,   0.        ,  33.33333333],\n",
       "       [  0.        ,   0.        , -33.33333333]])"
      ]
     },
     "execution_count": 25,
     "metadata": {},
     "output_type": "execute_result"
    }
   ],
   "source": [
    "g.grad_nuc()  "
   ]
  },
  {
   "cell_type": "code",
   "execution_count": 26,
   "metadata": {},
   "outputs": [
    {
     "name": "stdout",
     "output_type": "stream",
     "text": [
      "--------------- RHF gradients ---------------\n",
      "         x                y                z\n",
      "0 C     0.0000000000    -0.0000000000    10.3428116554\n",
      "1 O    -0.0000000000     0.0000000000   -10.3428116554\n",
      "----------------------------------------------\n"
     ]
    },
    {
     "data": {
      "text/plain": [
       "(array([[ 3.03286501e-16, -4.74250743e-17,  1.03428117e+01],\n",
       "        [-3.03286501e-16,  4.74250743e-17, -1.03428117e+01]]),\n",
       " array([[ 3.03286501e-16, -4.74250743e-17,  1.03428117e+01],\n",
       "        [-3.03286501e-16,  4.74250743e-17, -1.03428117e+01]]))"
      ]
     },
     "execution_count": 26,
     "metadata": {},
     "output_type": "execute_result"
    }
   ],
   "source": [
    "g.grad_elec()+g.grad_nuc(),g.grad()"
   ]
  },
  {
   "cell_type": "code",
   "execution_count": 28,
   "metadata": {},
   "outputs": [],
   "source": [
    "o=mf.mo_occ\n",
    "e=mf.mo_energy\n",
    "C=mf.mo_coeff"
   ]
  },
  {
   "cell_type": "code",
   "execution_count": 29,
   "metadata": {},
   "outputs": [
    {
     "data": {
      "text/plain": [
       "(array([-20.9670401 , -11.56776992,  -1.78979963,  -1.02216171,\n",
       "         -1.02216171,  -0.7551287 ,  -0.50659282,   0.62851477,\n",
       "          0.62851477,   1.7271854 ]),\n",
       " array([-41.9340802 , -23.13553984,  -3.57959927,  -2.04432341,\n",
       "         -2.04432341,  -1.5102574 ,  -1.01318565,   0.        ,\n",
       "          0.        ,   0.        ]))"
      ]
     },
     "execution_count": 29,
     "metadata": {},
     "output_type": "execute_result"
    }
   ],
   "source": [
    "e,o*e"
   ]
  },
  {
   "cell_type": "code",
   "execution_count": 30,
   "metadata": {},
   "outputs": [
    {
     "data": {
      "text/plain": [
       "True"
      ]
     },
     "execution_count": 30,
     "metadata": {},
     "output_type": "execute_result"
    }
   ],
   "source": [
    "np.allclose(C@np.diag(o*e)@C.T,g.make_rdm1e())"
   ]
  },
  {
   "cell_type": "code",
   "execution_count": null,
   "metadata": {},
   "outputs": [],
   "source": []
  }
 ],
 "metadata": {
  "kernelspec": {
   "display_name": "Python 3",
   "language": "python",
   "name": "python3"
  },
  "language_info": {
   "codemirror_mode": {
    "name": "ipython",
    "version": 3
   },
   "file_extension": ".py",
   "mimetype": "text/x-python",
   "name": "python",
   "nbconvert_exporter": "python",
   "pygments_lexer": "ipython3",
   "version": "3.7.3"
  }
 },
 "nbformat": 4,
 "nbformat_minor": 4
}
