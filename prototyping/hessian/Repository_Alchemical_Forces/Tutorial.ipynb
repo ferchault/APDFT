{
 "cells": [
  {
   "cell_type": "markdown",
   "metadata": {},
   "source": [
    "This is the tutorial for the evaluation of CPHF alchemical derivatives using PySCF (version 1.7.6)  "
   ]
  },
  {
   "cell_type": "code",
   "execution_count": 1,
   "metadata": {},
   "outputs": [
    {
     "data": {
      "text/plain": [
       "'1.7.6'"
      ]
     },
     "execution_count": 1,
     "metadata": {},
     "output_type": "execute_result"
    }
   ],
   "source": [
    "from pyscf import gto,scf\n",
    "import numpy as np\n",
    "import pyscf\n",
    "pyscf.__version__"
   ]
  },
  {
   "cell_type": "markdown",
   "metadata": {},
   "source": [
    "## Fractional charge molecules"
   ]
  },
  {
   "cell_type": "code",
   "execution_count": 2,
   "metadata": {},
   "outputs": [],
   "source": [
    "from FcMole import FcM, FcM_like"
   ]
  },
  {
   "cell_type": "code",
   "execution_count": 3,
   "metadata": {},
   "outputs": [],
   "source": [
    "mol_NN=gto.M(atom= \"N 0 0 0; N 0 0 2.1\",unit=\"Bohr\", basis=\"sto-3g\") "
   ]
  },
  {
   "cell_type": "markdown",
   "metadata": {},
   "source": [
    "The FcM_like function creates a copy of a givem PySCF molecule object with modified nuclear cherges "
   ]
  },
  {
   "cell_type": "code",
   "execution_count": 4,
   "metadata": {},
   "outputs": [],
   "source": [
    "fmol=FcM_like(mol_NN,fcs=[.2,-.1])"
   ]
  },
  {
   "cell_type": "markdown",
   "metadata": {},
   "source": [
    "Only nuclear charges are modified, the number of electrons stays the same"
   ]
  },
  {
   "cell_type": "code",
   "execution_count": 5,
   "metadata": {},
   "outputs": [
    {
     "data": {
      "text/plain": [
       "(array([7.2, 6.9]), (7, 7))"
      ]
     },
     "execution_count": 5,
     "metadata": {},
     "output_type": "execute_result"
    }
   ],
   "source": [
    "fmol.atom_charges(),fmol.nelec"
   ]
  },
  {
   "cell_type": "markdown",
   "metadata": {},
   "source": [
    "The same result can be achieved using the FcM constructor"
   ]
  },
  {
   "cell_type": "code",
   "execution_count": 6,
   "metadata": {},
   "outputs": [],
   "source": [
    "fmol1=FcM(fcs=[.2,-.1],atom= \"N 0 0 0; N 0 0 2.1\",unit=\"Bohr\", basis=\"sto-3g\")"
   ]
  },
  {
   "cell_type": "markdown",
   "metadata": {},
   "source": [
    "The number of electron matches the atom string"
   ]
  },
  {
   "cell_type": "code",
   "execution_count": 7,
   "metadata": {},
   "outputs": [
    {
     "data": {
      "text/plain": [
       "(array([7.2, 6.9]), (7, 7))"
      ]
     },
     "execution_count": 7,
     "metadata": {},
     "output_type": "execute_result"
    }
   ],
   "source": [
    "fmol1.atom_charges(),fmol1.nelec"
   ]
  },
  {
   "cell_type": "markdown",
   "metadata": {},
   "source": [
    "If only some atoms have modified nuclear charges is possible to pass as a fcs parameter a double list [[idxs],[fcs]]"
   ]
  },
  {
   "cell_type": "code",
   "execution_count": 8,
   "metadata": {},
   "outputs": [],
   "source": [
    "fmol2=FcM(fcs=[[0,1],[.2,-.1]],atom= \"N 0 0 0; N 0 0 2.1\",unit=\"Bohr\", basis=\"sto-3g\")"
   ]
  },
  {
   "cell_type": "code",
   "execution_count": 9,
   "metadata": {},
   "outputs": [
    {
     "data": {
      "text/plain": [
       "(array([7.2, 6.9]), (7, 7))"
      ]
     },
     "execution_count": 9,
     "metadata": {},
     "output_type": "execute_result"
    }
   ],
   "source": [
    "fmol2.atom_charges(),fmol2.nelec"
   ]
  },
  {
   "cell_type": "markdown",
   "metadata": {},
   "source": [
    "For scf calculations using fractional charges molecules the initial density matrix guess needs to be evaluated from the eigenfunction of the monoelectronic Hamiltonian (there is no single atom density \"SAD\" matrix guess for atoms with fractional charge)"
   ]
  },
  {
   "cell_type": "code",
   "execution_count": 10,
   "metadata": {},
   "outputs": [],
   "source": [
    "mf=scf.RHF(fmol)\n",
    "mf1=scf.RHF(fmol1)\n",
    "mf2=scf.RHF(fmol2)"
   ]
  },
  {
   "cell_type": "code",
   "execution_count": 11,
   "metadata": {},
   "outputs": [
    {
     "name": "stdout",
     "output_type": "stream",
     "text": [
      "converged SCF energy = -108.621905368439\n"
     ]
    },
    {
     "name": "stderr",
     "output_type": "stream",
     "text": [
      "/home/giorgio/anaconda3/lib/python3.8/site-packages/pyscf/gto/mole.py:1089: UserWarning: Function mol.dumps drops attribute with_rinv_at_nucleus because it is not JSON-serializable\n",
      "  warnings.warn(msg)\n"
     ]
    },
    {
     "name": "stdout",
     "output_type": "stream",
     "text": [
      "converged SCF energy = -108.621905368439\n",
      "converged SCF energy = -108.621905368439\n"
     ]
    },
    {
     "data": {
      "text/plain": [
       "-108.62190536843865"
      ]
     },
     "execution_count": 11,
     "metadata": {},
     "output_type": "execute_result"
    }
   ],
   "source": [
    "mf.scf(dm0=mf.init_guess_by_1e())\n",
    "mf1.scf(dm0=mf1.init_guess_by_1e())\n",
    "mf2.scf(dm0=mf2.init_guess_by_1e())"
   ]
  },
  {
   "cell_type": "markdown",
   "metadata": {},
   "source": [
    "## Using the Alchemical Perturbator (AP) class\n",
    "We created an Alchemical perturbator object to access easily all the CPHF methods for alchemical derivative and alchemical forces derivatives, this allow us to save the derivatives and also to exploit the symmetry of the system"
   ]
  },
  {
   "cell_type": "code",
   "execution_count": 12,
   "metadata": {},
   "outputs": [],
   "source": [
    "%load_ext autoreload\n",
    "%autoreload 2\n",
    "from AP_class import APDFT_perturbator as AP"
   ]
  },
  {
   "cell_type": "markdown",
   "metadata": {},
   "source": [
    "The alchemical perturbator is instantiated from a converged RHF object, and for some given perturbation sites."
   ]
  },
  {
   "cell_type": "code",
   "execution_count": 13,
   "metadata": {},
   "outputs": [
    {
     "name": "stdout",
     "output_type": "stream",
     "text": [
      "converged SCF energy = -107.49885049543\n"
     ]
    }
   ],
   "source": [
    "mf_nn=scf.RHF(mol_NN)\n",
    "mf_nn.scf()\n",
    "ap_nn=AP(mf_nn,sites=[0,1])"
   ]
  },
  {
   "cell_type": "markdown",
   "metadata": {},
   "source": [
    "Alchemical gradient $ \\partial E/\\partial Z_i $, hessian $\\partial^2E/\\partial Z_i\\partial Z_j$ and cubic hessian $\\partial^3E/\\partial Z_i\\partial Z_j\\partial Z_k$can be obtained from their buid functions \n"
   ]
  },
  {
   "cell_type": "code",
   "execution_count": 14,
   "metadata": {},
   "outputs": [
    {
     "data": {
      "text/plain": [
       "array([-17.96252176, -17.96252176])"
      ]
     },
     "execution_count": 14,
     "metadata": {},
     "output_type": "execute_result"
    }
   ],
   "source": [
    "#build the alchemical gradient dE/dZ_i\n",
    "ap_nn.build_gradient()"
   ]
  },
  {
   "cell_type": "code",
   "execution_count": 15,
   "metadata": {},
   "outputs": [
    {
     "data": {
      "text/plain": [
       "array([[-0.56261427,  0.95186321],\n",
       "       [ 0.95186321, -0.56261427]])"
      ]
     },
     "execution_count": 15,
     "metadata": {},
     "output_type": "execute_result"
    }
   ],
   "source": [
    "#build the alchemical hessian d**2E/dZ_i/dZ_j\n",
    "ap_nn.build_hessian()"
   ]
  },
  {
   "cell_type": "code",
   "execution_count": 16,
   "metadata": {},
   "outputs": [
    {
     "data": {
      "text/plain": [
       "array([[[0.05028813, 0.00297524],\n",
       "        [0.00297524, 0.00297524]],\n",
       "\n",
       "       [[0.00297524, 0.00297524],\n",
       "        [0.00297524, 0.05028813]]])"
      ]
     },
     "execution_count": 16,
     "metadata": {},
     "output_type": "execute_result"
    }
   ],
   "source": [
    "ap_nn.build_cubic_hessian()"
   ]
  },
  {
   "cell_type": "markdown",
   "metadata": {},
   "source": [
    "Are saved inside the class and can be accessed in a later moment"
   ]
  },
  {
   "cell_type": "code",
   "execution_count": 17,
   "metadata": {},
   "outputs": [
    {
     "data": {
      "text/plain": [
       "(array([-17.96252176, -17.96252176]),\n",
       " array([[-0.56261427,  0.95186321],\n",
       "        [ 0.95186321, -0.56261427]]),\n",
       " array([[[0.05028813, 0.00297524],\n",
       "         [0.00297524, 0.00297524]],\n",
       " \n",
       "        [[0.00297524, 0.00297524],\n",
       "         [0.00297524, 0.05028813]]]))"
      ]
     },
     "execution_count": 17,
     "metadata": {},
     "output_type": "execute_result"
    }
   ],
   "source": [
    "ap_nn.gradient,ap_nn.hessian,ap_nn.cubic_hessian"
   ]
  },
  {
   "cell_type": "markdown",
   "metadata": {},
   "source": [
    "Alchemical perturbations for isolelectronic transmutations can be calculated from the derivatives up to order 3"
   ]
  },
  {
   "cell_type": "code",
   "execution_count": 18,
   "metadata": {},
   "outputs": [
    {
     "data": {
      "text/plain": [
       "-89.5363287381293"
      ]
     },
     "execution_count": 18,
     "metadata": {},
     "output_type": "execute_result"
    }
   ],
   "source": [
    "ap_nn.APDFT1(np.asarray([-1,0])) # to CN-"
   ]
  },
  {
   "cell_type": "code",
   "execution_count": 19,
   "metadata": {},
   "outputs": [
    {
     "data": {
      "text/plain": [
       "-109.01332797130449"
      ]
     },
     "execution_count": 19,
     "metadata": {},
     "output_type": "execute_result"
    }
   ],
   "source": [
    "ap_nn.APDFT2(np.asarray([-1,1])) # to CO"
   ]
  },
  {
   "cell_type": "code",
   "execution_count": 20,
   "metadata": {},
   "outputs": [
    {
     "data": {
      "text/plain": [
       "-125.7342980336738"
      ]
     },
     "execution_count": 20,
     "metadata": {},
     "output_type": "execute_result"
    }
   ],
   "source": [
    "ap_nn.APDFT3(np.asarray([0,1]))  # to NO+"
   ]
  },
  {
   "cell_type": "code",
   "execution_count": 21,
   "metadata": {},
   "outputs": [
    {
     "data": {
      "text/plain": [
       "-143.42389401003228"
      ]
     },
     "execution_count": 21,
     "metadata": {},
     "output_type": "execute_result"
    }
   ],
   "source": [
    "ap_nn.APDFT1(np.asarray([1,1])) # to OO++"
   ]
  },
  {
   "cell_type": "markdown",
   "metadata": {},
   "source": [
    "## Alchemical forces\n",
    "Alchemical forces are calculated resusing the density matrix derivatives already evaluated. The function af(i) gives the alchemical force of the atom $i$ : $\\partial \\mathbf{g}/ \\partial Z_i$\n"
   ]
  },
  {
   "cell_type": "code",
   "execution_count": 22,
   "metadata": {},
   "outputs": [
    {
     "data": {
      "text/plain": [
       "(array([[ 1.72329790e-16, -1.03691022e-16,  1.62250798e-01],\n",
       "        [-1.72329790e-16,  1.03691022e-16, -1.62250798e-01]]),\n",
       " array([[ 2.05947847e-16,  6.25709471e-17,  1.62250798e-01],\n",
       "        [-2.05947847e-16, -6.25709471e-17, -1.62250798e-01]]))"
      ]
     },
     "execution_count": 22,
     "metadata": {},
     "output_type": "execute_result"
    }
   ],
   "source": [
    "ap_nn.af(0),ap_nn.af(1)"
   ]
  },
  {
   "cell_type": "markdown",
   "metadata": {},
   "source": [
    "## Basis set effects \n",
    "The class also include methods to calculate the energy of the target molecules, with its basis set and with the basis set of the reference,"
   ]
  },
  {
   "cell_type": "code",
   "execution_count": 23,
   "metadata": {},
   "outputs": [
    {
     "name": "stdout",
     "output_type": "stream",
     "text": [
      "converged SCF energy = -111.221914650137\n",
      "converged SCF energy = -108.996149557208\n"
     ]
    },
    {
     "data": {
      "text/plain": [
       "(-111.22191465013728, -108.99614955720804)"
      ]
     },
     "execution_count": 23,
     "metadata": {},
     "output_type": "execute_result"
    }
   ],
   "source": [
    "ap_nn.target_energy([-1,1]),ap_nn.target_energy_ref_bs([-1,1])"
   ]
  },
  {
   "cell_type": "markdown",
   "metadata": {},
   "source": [
    "The APDFT3 predictions approximate the energy of the molecule with the reference basis set "
   ]
  },
  {
   "cell_type": "code",
   "execution_count": 24,
   "metadata": {},
   "outputs": [
    {
     "data": {
      "text/plain": [
       "-109.01332797130449"
      ]
     },
     "execution_count": 24,
     "metadata": {},
     "output_type": "execute_result"
    }
   ],
   "source": [
    "ap_nn.APDFT3([-1,1])"
   ]
  },
  {
   "cell_type": "markdown",
   "metadata": {},
   "source": [
    "But we can correct it using the single atom basis set correction [1]"
   ]
  },
  {
   "cell_type": "code",
   "execution_count": 25,
   "metadata": {},
   "outputs": [
    {
     "data": {
      "text/plain": [
       "-111.47291530309317"
      ]
     },
     "execution_count": 25,
     "metadata": {},
     "output_type": "execute_result"
    }
   ],
   "source": [
    "ap_nn.APDFT3([-1,1])+ap_nn.ap_bsec([-1,1])"
   ]
  },
  {
   "cell_type": "markdown",
   "metadata": {},
   "source": [
    "[1] Giorgio Domenichini, Guido Falk von Rudorff, and O. Anatole von Lilienfeld : \"Effects of perturbation order and basis set on alchemical predictions\", J. Chem. Phys. 153, 144118 (2020)"
   ]
  }
 ],
 "metadata": {
  "kernelspec": {
   "display_name": "Python 3",
   "language": "python",
   "name": "python3"
  },
  "language_info": {
   "codemirror_mode": {
    "name": "ipython",
    "version": 3
   },
   "file_extension": ".py",
   "mimetype": "text/x-python",
   "name": "python",
   "nbconvert_exporter": "python",
   "pygments_lexer": "ipython3",
   "version": "3.8.8"
  }
 },
 "nbformat": 4,
 "nbformat_minor": 2
}
