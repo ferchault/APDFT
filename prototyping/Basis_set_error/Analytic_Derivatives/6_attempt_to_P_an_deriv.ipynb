{
 "cells": [
  {
   "cell_type": "code",
   "execution_count": 30,
   "id": "cf0d6810",
   "metadata": {},
   "outputs": [],
   "source": [
    "import basis_set_exchange as bse\n",
    "import scipy as sp\n",
    "import matplotlib.pyplot as plt\n",
    "from pyscf import gto,scf\n",
    "import copy\n",
    "import numpy as np\n",
    "import scipy\n",
    "from scipy.interpolate import interp1d\n",
    "from pyscf.data.elements import _symbol\n",
    "from pyscf.grad import RHF as g\n",
    "import inspect\n",
    "import sys\n",
    "sys.path.append(\"../Libs\")\n",
    "from FcMole import FcM,FcM_like\n",
    "from FDcoeffs import get_coeffs\n",
    "from ao_scf import ao_RHF\n",
    "from numpy.linalg import norm"
   ]
  },
  {
   "cell_type": "code",
   "execution_count": 7,
   "id": "344203a2",
   "metadata": {},
   "outputs": [
    {
     "name": "stdout",
     "output_type": "stream",
     "text": [
      "converged SCF energy = -107.491645836044\n"
     ]
    }
   ],
   "source": [
    "nn=gto.M(atom=\"N 0 0 0; N 0 0 2.05\",unit=\"Bohr\",basis=bse.get_basis(\"sto-3g\",fmt=\"nwchem\",elements=[6,7,8]))\n",
    "mf=scf.RHF(nn)\n",
    "e_nn=mf.scf()"
   ]
  },
  {
   "cell_type": "code",
   "execution_count": 8,
   "id": "ff378b71",
   "metadata": {},
   "outputs": [],
   "source": [
    "S_nn=mf.get_ovlp()\n",
    "h1_nn=mf.get_hcore()\n",
    "P_nn=mf.make_rdm1()\n",
    "g_ijkl=nn.intor('int2e', aosym='s8')\n",
    "C=mf.mo_coeff\n",
    "O=mf.mo_occ\n",
    "e=mf.mo_energy"
   ]
  },
  {
   "cell_type": "code",
   "execution_count": 9,
   "id": "f0d3450a",
   "metadata": {},
   "outputs": [],
   "source": [
    "cn=gto.M(atom=\"C 0 0 0; N 0 0 2.05\",unit=\"Bohr\",basis=bse.get_basis(\"sto-3g\",fmt=\"nwchem\",elements=[6,7,8]),charge=-1)\n",
    "on=gto.M(atom=\"O 0 0 0; N 0 0 2.05\",unit=\"Bohr\",basis=bse.get_basis(\"sto-3g\",fmt=\"nwchem\",elements=[6,7,8]),charge=1)"
   ]
  },
  {
   "cell_type": "code",
   "execution_count": 10,
   "id": "578eed2a",
   "metadata": {},
   "outputs": [
    {
     "name": "stdout",
     "output_type": "stream",
     "text": [
      "converged SCF energy = -127.196060151265\n",
      "converged SCF energy = -90.9175998689459\n"
     ]
    }
   ],
   "source": [
    "mf_on=scf.RHF(on)\n",
    "mf_cn=scf.RHF(cn)\n",
    "e_on=mf_on.scf()\n",
    "e_cn=mf_cn.scf()\n",
    "S_on=mf_on.get_ovlp()\n",
    "S_cn=mf_cn.get_ovlp()"
   ]
  },
  {
   "cell_type": "code",
   "execution_count": 11,
   "id": "5230ce9a",
   "metadata": {},
   "outputs": [],
   "source": [
    "dS=(S_on-S_cn)/2\n",
    "dh1=(mf_on.get_hcore()-mf_cn.get_hcore())/2\n",
    "dG=(on.intor('int2e', aosym='s8')-cn.intor('int2e', aosym='s8'))/2\n",
    "dVnn=(8*7-7*7)/2.05\n",
    "d2S=(mf_on.get_ovlp()+mf_cn.get_ovlp()-2*mf.get_ovlp())\n",
    "d2h1=(mf_on.get_hcore()+mf_cn.get_hcore()-2*mf.get_hcore())\n",
    "d2G=(on.intor('int2e', aosym='s8')+cn.intor('int2e', aosym='s8')-2*nn.intor('int2e', aosym='s8'))"
   ]
  },
  {
   "cell_type": "code",
   "execution_count": 12,
   "id": "33fc13aa",
   "metadata": {},
   "outputs": [],
   "source": [
    "def E(l):\n",
    "    return ao_RHF(FcM_like(nn,fcs=[l,0]),S_ao=S_nn+dS*l+d2S*l**2/2,hcore=h1_nn+dh1*l+d2h1*l**2/2,\\\n",
    "                  eri=g_ijkl+dG*l+d2G*l**2/2).scf()\n",
    "def P(l):\n",
    "    mf=ao_RHF(FcM_like(nn,fcs=[l,0]),S_ao=S_nn+dS*l+d2S*l**2/2,hcore=h1_nn+dh1*l+d2h1*l**2/2,\\\n",
    "                  eri=g_ijkl+dG*l+d2G*l**2/2)\n",
    "    mf.scf()\n",
    "    return mf.make_rdm1()"
   ]
  },
  {
   "cell_type": "code",
   "execution_count": 15,
   "id": "15dc2dcb",
   "metadata": {},
   "outputs": [
    {
     "name": "stdout",
     "output_type": "stream",
     "text": [
      "converged SCF energy = -109.316158807033\n",
      "converged SCF energy = -105.698562338292\n",
      "converged SCF energy = -109.316158807033\n",
      "converged SCF energy = -105.698562338292\n"
     ]
    }
   ],
   "source": [
    "P_nn=mf.make_rdm1()\n",
    "P_on=mf_on.make_rdm1()\n",
    "P_cn=mf_cn.make_rdm1()\n",
    "S_on=mf_on.get_ovlp()\n",
    "dP_fd=(P(.1)-P(-.1))/.2\n",
    "dP_fd2=(P(.1)+P(-.1)-2*P_nn)/.1**2"
   ]
  },
  {
   "cell_type": "markdown",
   "id": "603b0321",
   "metadata": {},
   "source": [
    "# CPHF calc"
   ]
  },
  {
   "cell_type": "code",
   "execution_count": 20,
   "id": "8d89b3b0",
   "metadata": {},
   "outputs": [],
   "source": [
    "from pyscf.scf import cphf\n",
    "import pyscf.qmmm\n",
    "from pyscf import gto, scf\n",
    "import numpy as np\n",
    "from pyscf import lib\n",
    "from functools import reduce\n",
    "from pyscf.scf import cphf\n",
    "from pyscf import lib\n",
    "from pyscf.prop.nmr import rhf as rhf_nmr\n",
    "from alch_deriv_NEW import DeltaV\n",
    "def make_dP(mf,mo1):\n",
    "    mol=mf.mol\n",
    "    nao=mol.nao\n",
    "    nocc=mf.mol.nelec[0]\n",
    "    C=mf.mo_coeff\n",
    "    dP=np.zeros_like(C)\n",
    "    dP[:,:]=2*np.einsum('ij,jk,lk->il',C,mo1,C[:,:nocc])\n",
    "    return dP+dP.T\n",
    "\n",
    "def make_U(mo1):\n",
    "    U=np.zeros((mo1.shape[0],mo1.shape[0]))\n",
    "    U[:,:mo1.shape[1]]=mo1\n",
    "    U=U-U.T\n",
    "    return U"
   ]
  },
  {
   "cell_type": "code",
   "execution_count": 65,
   "id": "a2615523",
   "metadata": {},
   "outputs": [],
   "source": [
    "def alchemy_pol_deriv(polobj,int_r, with_cphf=True):\n",
    "    mf = polobj._scf\n",
    "    mol = mf.mol\n",
    "    mo_energy = mf.mo_energy\n",
    "    mo_coeff = mf.mo_coeff\n",
    "    mo_occ = mf.mo_occ\n",
    "    occidx = mo_occ > 0\n",
    "    orbo = mo_coeff[:, occidx]\n",
    "    orbv = mo_coeff[:,~occidx]\n",
    "    charges = mol.atom_charges()\n",
    "    coords  = mol.atom_coords()\n",
    "    charge_center = np.einsum('i,ix->x', charges, coords)/ charges.sum()\n",
    "    h1 = lib.einsum('xpq,pi,qj->xij', int_r, mo_coeff.conj(), orbo) #going to molecular orbitals?\n",
    "    s1 = np.zeros_like(h1)\n",
    "    vind = polobj.gen_vind(mf, mo_coeff, mo_occ)\n",
    "    if with_cphf:\n",
    "        mo1,e1 = cphf.solve(vind, mo_energy, mo_occ, h1, s1, polobj.max_cycle_cphf, polobj.conv_tol)\n",
    "    else:\n",
    "        mo1 = rhf_nmr._solve_mo1_uncoupled(mo_energy, mo_occ, h1, s1)[0]\n",
    "        return mo1\n",
    "    return mo1,e1"
   ]
  },
  {
   "cell_type": "code",
   "execution_count": 100,
   "id": "d7515b84",
   "metadata": {},
   "outputs": [],
   "source": [
    "def alchemy_pol_deriv2(polobj,int_r, with_cphf=True):\n",
    "    mf = polobj._scf\n",
    "    mol = mf.mol\n",
    "    mo_energy = mf.mo_energy\n",
    "    mo_coeff = mf.mo_coeff\n",
    "    mo_occ = mf.mo_occ\n",
    "    occidx = mo_occ > 0\n",
    "    orbo = mo_coeff[:, occidx]\n",
    "    orbv = mo_coeff[:,~occidx]\n",
    "    charges = mol.atom_charges()\n",
    "    coords  = mol.atom_coords()\n",
    "    charge_center = np.einsum('i,ix->x', charges, coords) / charges.sum()\n",
    "    h1 = lib.einsum('xpq,pi,qj->xij', int_r, mo_coeff.conj(), orbo) #going to molecular orbitals?\n",
    "    s1 = lib.einsum('xpq,pi,qj->xij', [dS], mo_coeff.conj(), orbo) # np.asarray([dS[:, occidx]])\n",
    "    vind = polobj.gen_vind(mf, mo_coeff, mo_occ)\n",
    "    mo1,e1 = cphf.solve(vind, mo_energy, mo_occ, h1,s1, polobj.max_cycle_cphf, polobj.conv_tol)\n",
    "    return mo1,e1"
   ]
  },
  {
   "cell_type": "code",
   "execution_count": 48,
   "id": "9c0630a3",
   "metadata": {},
   "outputs": [],
   "source": [
    "mol=nn\n",
    "dL=[[0],[1]]\n",
    "polobj=mf.Polarizability()\n",
    "int_r=DeltaV(mol,dL)    \n",
    "mo1,e1=alchemy_pol_deriv(polobj,int_r)\n",
    "mo1,e1=alchemy_pol_deriv(polobj,[dh1])\n",
    "nao=mol.nao\n",
    "nocc=mol.nelectron//2 #RHF\n",
    "U=np.zeros((nao,nao))\n",
    "U[:,:nocc]=mo1[0,:,:nocc]\n",
    "U=U-U.T\n",
    "O=np.diag(mf.mo_occ)\n",
    "C=mf.mo_coeff\n",
    "dP=C@(U@O-O@U)@C.T    "
   ]
  },
  {
   "cell_type": "code",
   "execution_count": 67,
   "id": "40a86b7d",
   "metadata": {},
   "outputs": [
    {
     "data": {
      "text/plain": [
       "(0.17042041102800312, 7.274404627782336, 0.6139641971704994)"
      ]
     },
     "execution_count": 67,
     "metadata": {},
     "output_type": "execute_result"
    }
   ],
   "source": [
    "norm(P_nn+dP_fd-P_on),norm(P_nn+dP-P_on),norm(P_nn-P_on)"
   ]
  },
  {
   "cell_type": "code",
   "execution_count": 68,
   "id": "e490a80e",
   "metadata": {},
   "outputs": [
    {
     "data": {
      "text/plain": [
       "(8.063571172490876, 7.149418874588267, 2.081439058143301)"
      ]
     },
     "execution_count": 68,
     "metadata": {},
     "output_type": "execute_result"
    },
    {
     "data": {
      "image/png": "[encoded data removed]",
      "text/plain": [
       "<Figure size 288x288 with 1 Axes>"
      ]
     },
     "metadata": {
      "needs_background": "light"
     },
     "output_type": "display_data"
    },
    {
     "data": {
      "image/png": "[encoded data removed]",
      "text/plain": [
       "<Figure size 288x288 with 1 Axes>"
      ]
     },
     "metadata": {
      "needs_background": "light"
     },
     "output_type": "display_data"
    }
   ],
   "source": [
    "plt.matshow(dh1),plt.matshow(int_r[0])\n",
    "norm(dh1),norm(int_r),norm(dh1-int_r)"
   ]
  },
  {
   "cell_type": "code",
   "execution_count": 125,
   "id": "ba6e6198",
   "metadata": {},
   "outputs": [
    {
     "data": {
      "text/plain": [
       "(array([-6.92681786, -1.80247531, -1.46949462, -1.46949462, -1.34586125,\n",
       "        -0.48780488, -0.48061857, -0.44273505, -0.44273505, -0.55544402]),\n",
       " array([-6.59799482, -0.9806245 , -0.97277427, -0.97277427, -0.97277427,\n",
       "        -0.48780488, -0.48061857, -0.44273505, -0.44273505, -0.55544402]))"
      ]
     },
     "execution_count": 125,
     "metadata": {},
     "output_type": "execute_result"
    }
   ],
   "source": [
    "dh1.diagonal(),int_r[0].diagonal()"
   ]
  },
  {
   "cell_type": "code",
   "execution_count": 69,
   "id": "d7dbb131",
   "metadata": {},
   "outputs": [
    {
     "data": {
      "text/plain": [
       "(1, 10, 10)"
      ]
     },
     "execution_count": 69,
     "metadata": {},
     "output_type": "execute_result"
    }
   ],
   "source": [
    "int_r.shape"
   ]
  },
  {
   "cell_type": "code",
   "execution_count": 130,
   "id": "94c6e1a6",
   "metadata": {},
   "outputs": [
    {
     "data": {
      "image/png": "[encoded data removed]",
      "text/plain": [
       "<Figure size 288x288 with 1 Axes>"
      ]
     },
     "metadata": {
      "needs_background": "light"
     },
     "output_type": "display_data"
    },
    {
     "data": {
      "image/png": "[encoded data removed]",
      "text/plain": [
       "<Figure size 288x288 with 1 Axes>"
      ]
     },
     "metadata": {
      "needs_background": "light"
     },
     "output_type": "display_data"
    }
   ],
   "source": [
    "mo1,e1=alchemy_pol_deriv(polobj,int_r)\n",
    "plt.matshow(make_dP(mf,mo1[0]))\n",
    "dP2=make_dP(mf,mo1[0])\n",
    "mo1,e1=alchemy_pol_deriv2(polobj,int_r)\n",
    "plt.matshow(make_dP(mf,mo1[0]))\n",
    "dP3=make_dP(mf,mo1[0])\n",
    "norm(P_nn+dP2-P_on),norm(P_nn+dP3-P_on),norm(P_nn-P_on)"
   ]
  },
  {
   "cell_type": "code",
   "execution_count": 134,
   "id": "c1d69be8",
   "metadata": {},
   "outputs": [
    {
     "data": {
      "text/plain": [
       "(7.274404627781862, 6.681706078537978, 0.6139641971704994)"
      ]
     },
     "execution_count": 134,
     "metadata": {},
     "output_type": "execute_result"
    },
    {
     "data": {
      "image/png": "[encoded data removed]",
      "text/plain": [
       "<Figure size 288x288 with 1 Axes>"
      ]
     },
     "metadata": {
      "needs_background": "light"
     },
     "output_type": "display_data"
    },
    {
     "data": {
      "image/png": "[encoded data removed]",
      "text/plain": [
       "<Figure size 288x288 with 1 Axes>"
      ]
     },
     "metadata": {
      "needs_background": "light"
     },
     "output_type": "display_data"
    }
   ],
   "source": [
    "mo1,e1=alchemy_pol_deriv(polobj,[dh1])\n",
    "plt.matshow(make_dP(mf,mo1[0]))\n",
    "dP2=make_dP(mf,mo1[0])\n",
    "mo1,e1=alchemy_pol_deriv2(polobj,[dh1])\n",
    "plt.matshow(make_dP(mf,mo1[0]))\n",
    "dP3=make_dP(mf,mo1[0])\n",
    "norm(P_nn+dP2-P_on),norm(P_nn+dP3-P_on),norm(P_nn-P_on)"
   ]
  },
  {
   "cell_type": "code",
   "execution_count": 119,
   "id": "f782271a",
   "metadata": {},
   "outputs": [
    {
     "data": {
      "text/plain": [
       "<matplotlib.image.AxesImage at 0x7ff4342002e0>"
      ]
     },
     "execution_count": 119,
     "metadata": {},
     "output_type": "execute_result"
    },
    {
     "data": {
      "image/png": "[encoded data removed]",
      "text/plain": [
       "<Figure size 288x288 with 1 Axes>"
      ]
     },
     "metadata": {
      "needs_background": "light"
     },
     "output_type": "display_data"
    }
   ],
   "source": [
    "plt.matshow(P_on-P_nn)"
   ]
  },
  {
   "cell_type": "code",
   "execution_count": 120,
   "id": "a67a4683",
   "metadata": {},
   "outputs": [
    {
     "data": {
      "text/plain": [
       "<matplotlib.image.AxesImage at 0x7ff4341cdca0>"
      ]
     },
     "execution_count": 120,
     "metadata": {},
     "output_type": "execute_result"
    },
    {
     "data": {
      "image/png": "[encoded data removed]",
      "text/plain": [
       "<Figure size 288x288 with 1 Axes>"
      ]
     },
     "metadata": {
      "needs_background": "light"
     },
     "output_type": "display_data"
    }
   ],
   "source": [
    "plt.matshow(make_dP(mf,mo1[0])-(P_on-P_nn))"
   ]
  },
  {
   "cell_type": "code",
   "execution_count": null,
   "id": "10bd6287",
   "metadata": {},
   "outputs": [],
   "source": []
  }
 ],
 "metadata": {
  "kernelspec": {
   "display_name": "Python 3",
   "language": "python",
   "name": "python3"
  },
  "language_info": {
   "codemirror_mode": {
    "name": "ipython",
    "version": 3
   },
   "file_extension": ".py",
   "mimetype": "text/x-python",
   "name": "python",
   "nbconvert_exporter": "python",
   "pygments_lexer": "ipython3",
   "version": "3.8.8"
  }
 },
 "nbformat": 4,
 "nbformat_minor": 5
}
