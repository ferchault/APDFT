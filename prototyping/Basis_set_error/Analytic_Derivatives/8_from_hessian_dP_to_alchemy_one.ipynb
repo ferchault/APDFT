{
 "cells": [
  {
   "cell_type": "code",
   "execution_count": 1,
   "id": "5a53e1ff",
   "metadata": {},
   "outputs": [],
   "source": [
    "import basis_set_exchange as bse\n",
    "import scipy as sp\n",
    "import matplotlib.pyplot as plt\n",
    "from pyscf import gto,scf\n",
    "import copy\n",
    "import numpy as np\n",
    "import scipy\n",
    "from scipy.interpolate import interp1d\n",
    "from pyscf.data.elements import _symbol\n",
    "from pyscf.grad import RHF as g\n",
    "import inspect\n",
    "import sys\n",
    "sys.path.append(\"../Libs\")\n",
    "from FcMole import FcM,FcM_like\n",
    "from FDcoeffs import get_coeffs\n",
    "from ao_scf import ao_RHF\n",
    "from numpy.linalg import norm"
   ]
  },
  {
   "cell_type": "code",
   "execution_count": 2,
   "id": "a3f944e9",
   "metadata": {},
   "outputs": [],
   "source": [
    "from functools import reduce\n",
    "import ctypes\n",
    "\n",
    "import numpy\n",
    "from pyscf import lib\n",
    "from pyscf import gto\n",
    "from pyscf.lib import logger\n",
    "from pyscf.scf import _vhf\n",
    "from pyscf.scf import cphf\n",
    "\n",
    "# import _response_functions to load gen_response methods in SCF class\n",
    "from pyscf.scf import _response_functions  # noqa\n",
    "# import pyscf.grad.rhf to activate nuc_grad_method method\n",
    "from pyscf.grad import rhf  # noqa"
   ]
  },
  {
   "cell_type": "code",
   "execution_count": 201,
   "id": "f34da51a",
   "metadata": {},
   "outputs": [],
   "source": [
    "def make_dP(mf,mo1):\n",
    "    mol=mf.mol\n",
    "    nao=mol.nao\n",
    "    nocc=mf.mol.nelec[0]\n",
    "    C=mf.mo_coeff\n",
    "    dP=np.zeros_like(C)\n",
    "    dP[:,:]=2*np.einsum('ij,jk,lk->il',C,mo1,C[:,:nocc])\n",
    "    return dP+dP.T\n",
    "\n",
    "def make_U(mo1):\n",
    "    U=np.zeros((mo1.shape[0],mo1.shape[0]))\n",
    "    U[:,:mo1.shape[1]]=mo1\n",
    "    U=U-U.T\n",
    "    return U"
   ]
  },
  {
   "cell_type": "code",
   "execution_count": 202,
   "id": "e1783705",
   "metadata": {},
   "outputs": [
    {
     "name": "stdout",
     "output_type": "stream",
     "text": [
      "converged SCF energy = -108.867942022953\n",
      "converged SCF energy = -108.867568454253\n",
      "converged SCF energy = -108.866574610557\n"
     ]
    }
   ],
   "source": [
    "nn=gto.M(atom=\"N 0 0 0; N 0 0 2.05\",unit=\"Bohr\",basis=bse.get_basis(\"6-31g\",fmt=\"nwchem\",elements=[6,7,8]))\n",
    "mf_nn=scf.RHF(nn)\n",
    "e_nn=mf_nn.scf()\n",
    "P_nn=mf_nn.make_rdm1()\n",
    "########\n",
    "nn_p=gto.M(atom=\"N 0 0 0; N 0 0 2.08\",unit=\"Bohr\",basis=bse.get_basis(\"6-31g\",fmt=\"nwchem\",elements=[6,7,8]))\n",
    "mf_nn_p=scf.RHF(nn_p)\n",
    "e_nn_p=mf_nn_p.scf()\n",
    "P_nn_p=mf_nn_p.make_rdm1()\n",
    "########\n",
    "nn_m=gto.M(atom=\"N 0 0 0; N 0 0 2.02\",unit=\"Bohr\",basis=bse.get_basis(\"6-31g\",fmt=\"nwchem\",elements=[6,7,8]))\n",
    "mf_nn_m=scf.RHF(nn_m)\n",
    "e_nn_m=mf_nn_m.scf()\n",
    "P_nn_m=mf_nn_m.make_rdm1()"
   ]
  },
  {
   "cell_type": "code",
   "execution_count": 203,
   "id": "955edf67",
   "metadata": {},
   "outputs": [],
   "source": [
    "import pyscf.hessian # needed to use hessian"
   ]
  },
  {
   "cell_type": "code",
   "execution_count": 219,
   "id": "981ba2da",
   "metadata": {},
   "outputs": [],
   "source": [
    "h_nn=mf_nn.Hessian()\n",
    "mf=mf_nn"
   ]
  },
  {
   "cell_type": "code",
   "execution_count": 220,
   "id": "f0184073",
   "metadata": {},
   "outputs": [
    {
     "data": {
      "text/plain": [
       "(array([[[[-7.57126845e-03,  3.48967139e-16,  5.68341176e-17],\n",
       "          [ 2.98703262e-16, -7.57126845e-03,  4.85158779e-17],\n",
       "          [ 5.68341215e-17,  4.85158612e-17,  1.93288205e+00]],\n",
       " \n",
       "         [[ 7.57126845e-03, -2.98703262e-16, -5.68341215e-17],\n",
       "          [-3.48967139e-16,  7.57126845e-03, -4.85158612e-17],\n",
       "          [-5.68341176e-17, -4.85158779e-17, -1.93288205e+00]]],\n",
       " \n",
       " \n",
       "        [[[ 7.57126845e-03, -3.48967139e-16, -5.68341176e-17],\n",
       "          [-2.98703262e-16,  7.57126845e-03, -4.85158779e-17],\n",
       "          [-5.68341215e-17, -4.85158612e-17, -1.93288205e+00]],\n",
       " \n",
       "         [[-7.57126845e-03,  3.48979654e-16,  5.68341176e-17],\n",
       "          [ 3.08270999e-16, -7.57126845e-03,  4.85158779e-17],\n",
       "          [ 5.68341215e-17,  4.85158612e-17,  1.93288205e+00]]]]),\n",
       " 1.932882050736053)"
      ]
     },
     "execution_count": 220,
     "metadata": {},
     "output_type": "execute_result"
    }
   ],
   "source": [
    "h_nn.hess(),h_nn.hess()[1,1,2,2]"
   ]
  },
  {
   "cell_type": "code",
   "execution_count": 221,
   "id": "5f19c5c3",
   "metadata": {},
   "outputs": [
    {
     "data": {
      "text/plain": [
       "1.9344234402435885"
      ]
     },
     "execution_count": 221,
     "metadata": {},
     "output_type": "execute_result"
    }
   ],
   "source": [
    "(e_nn_p+e_nn_m-2*e_nn)/.03**2"
   ]
  },
  {
   "cell_type": "code",
   "execution_count": 314,
   "id": "1d204234",
   "metadata": {},
   "outputs": [],
   "source": [
    "dP_fd=(P_nn_p-P_nn_m)/.06\n",
    "dh1=(mf_nn_p.get_hcore()-mf_nn_m.get_hcore())/.06\n",
    "dS=(mf_nn_p.get_ovlp()-mf_nn_m.get_ovlp())/.06\n",
    "dG4d=(nn_p.intor('int2e')-nn_m.intor('int2e'))/.06"
   ]
  },
  {
   "cell_type": "code",
   "execution_count": 310,
   "id": "496a6741",
   "metadata": {},
   "outputs": [
    {
     "data": {
      "text/plain": [
       "True"
      ]
     },
     "execution_count": 310,
     "metadata": {},
     "output_type": "execute_result"
    }
   ],
   "source": [
    "np.allclose(h_nn.base.nuc_grad_method().hcore_generator(nn)(1)[2],dh1,atol=1e-2)"
   ]
  },
  {
   "cell_type": "code",
   "execution_count": 307,
   "id": "5f9eaae0",
   "metadata": {},
   "outputs": [
    {
     "data": {
      "text/plain": [
       "True"
      ]
     },
     "execution_count": 307,
     "metadata": {},
     "output_type": "execute_result"
    }
   ],
   "source": [
    "h_nn.make_h1(mf_nn.mo_coeff,mf_nn.mo_occ)[1][1].shape # list (natm,(xyz))\n",
    "# make_h1 is made by two part one is hcore_generator the other is \n",
    "hessobj=h_nn\n",
    "log = logger.new_logger(hessobj, 1)\n",
    "max_memory=4000\n",
    "mol = hessobj.mol\n",
    "if atmlst is None:\n",
    "    atmlst = range(mol.natm)\n",
    "\n",
    "nao, nmo = mo_coeff.shape\n",
    "mocc = mo_coeff[:,mo_occ>0]\n",
    "dm0 = numpy.dot(mocc, mocc.T) * 2\n",
    "hcore_deriv = hessobj.base.nuc_grad_method().hcore_generator(mol)\n",
    "\n",
    "aoslices = mol.aoslice_by_atom()\n",
    "h1ao = [None] * mol.natm\n",
    "for i0, ia in enumerate(atmlst):\n",
    "    shl0, shl1, p0, p1 = aoslices[ia]\n",
    "    shls_slice = (shl0, shl1) + (0, mol.nbas)*3\n",
    "    vj1, vj2, vk1, vk2 = pyscf.hessian.rhf._get_jk(mol, 'int2e_ip1', 3, 's2kl',\n",
    "                                 ['ji->s2kl', -dm0[:,p0:p1],  # vj1\n",
    "                                  'lk->s1ij', -dm0         ,  # vj2\n",
    "                                  'li->s1kj', -dm0[:,p0:p1],  # vk1\n",
    "                                  'jk->s1il', -dm0         ], # vk2\n",
    "                                 shls_slice=shls_slice)\n",
    "    vhf = vj1 - vk1*.5\n",
    "    vhf[:,p0:p1] += vj2 - vk2*.5\n",
    "    h1 = vhf + vhf.transpose(0,2,1)\n",
    "    h1 += hcore_deriv(ia)\n",
    "np.allclose(h1,h_nn.make_h1(mf_nn.mo_coeff,mf_nn.mo_occ)[1],atol=1e-3)"
   ]
  },
  {
   "cell_type": "code",
   "execution_count": 226,
   "id": "3dcad347",
   "metadata": {},
   "outputs": [
    {
     "data": {
      "text/plain": [
       "((3, 10, 10), (3, 18, 18))"
      ]
     },
     "execution_count": 226,
     "metadata": {},
     "output_type": "execute_result"
    }
   ],
   "source": [
    "h1.shape,h_nn.make_h1(mf_nn.mo_coeff,mf_nn.mo_occ)[0].shape"
   ]
  },
  {
   "cell_type": "code",
   "execution_count": 315,
   "id": "75e0a4a5",
   "metadata": {},
   "outputs": [
    {
     "data": {
      "text/plain": [
       "-14.208912749682233"
      ]
     },
     "execution_count": 315,
     "metadata": {},
     "output_type": "execute_result"
    }
   ],
   "source": [
    "# This is a part of the gradient \n",
    "0.5*np.einsum(\"ij,kl,ijkl\",P_nn,P_nn,dG4d),-np.einsum(\"ik,jl,ijkl\",P_nn,P_nn,dG4d)/4"
   ]
  },
  {
   "cell_type": "code",
   "execution_count": 326,
   "id": "a9ded314",
   "metadata": {},
   "outputs": [
    {
     "data": {
      "text/plain": [
       "(array([[-2.05796760e+00, -4.13168917e-01, -3.21666247e-01,\n",
       "          1.44136161e-18, -7.13490912e-17, -5.54688441e-02,\n",
       "          1.96812989e-17, -8.73220965e-17,  2.25745403e-02,\n",
       "          1.92823475e-03, -7.69270706e-01, -7.58803854e-01,\n",
       "          7.92019406e-18, -7.01170560e-17,  1.42033073e+00,\n",
       "          9.56379214e-18, -7.21903565e-17,  7.38910318e-01],\n",
       "        [-4.13168917e-01, -1.60182021e+00, -1.14197023e+00,\n",
       "          4.57608195e-17, -1.35961872e-16, -3.26823919e-01,\n",
       "          7.91175681e-17, -1.94081652e-16, -1.28021381e-01,\n",
       "         -7.69270706e-01, -3.42559020e+00, -2.65547498e+00,\n",
       "          9.92451939e-17, -1.84436407e-16,  3.86969860e+00,\n",
       "          7.63687824e-17, -1.85252373e-16,  1.57654358e+00],\n",
       "        [-3.21666247e-01, -1.14197023e+00, -1.10150896e+00,\n",
       "          6.24287190e-17, -1.45073792e-16, -2.59476156e-01,\n",
       "          5.33355851e-17, -1.23758724e-16, -9.42574788e-02,\n",
       "         -7.58803854e-01, -2.65547498e+00, -2.51793216e+00,\n",
       "          5.46449224e-17, -1.30664883e-16,  1.11042484e+00,\n",
       "          4.53410777e-17, -1.29641376e-16,  4.16093401e-01],\n",
       "        [ 1.44136161e-18,  4.57608195e-17,  6.24287190e-17,\n",
       "         -1.52706344e+00, -2.66868985e-17,  1.59293154e-17,\n",
       "         -5.88569793e-01, -4.43787127e-17,  1.29173358e-18,\n",
       "          3.70602502e-17, -3.00060055e-17, -1.75066273e-17,\n",
       "         -2.16399680e+00,  3.24406437e-17, -3.59530067e-17,\n",
       "         -1.58299897e+00,  1.62044519e-17, -8.28423057e-17],\n",
       "        [-7.13490912e-17, -1.35961872e-16, -1.45073792e-16,\n",
       "         -2.66868985e-17, -1.52706344e+00,  8.02164105e-17,\n",
       "         -5.24686819e-17, -5.88569793e-01,  2.01403851e-16,\n",
       "          7.99480372e-17,  2.03331418e-16,  1.27480287e-16,\n",
       "         -5.91580026e-19, -2.16399680e+00,  3.58947843e-17,\n",
       "          2.12099519e-17, -1.58299897e+00,  2.00250927e-16],\n",
       "        [-5.54688441e-02, -3.26823919e-01, -2.59476156e-01,\n",
       "          1.59293154e-17,  8.02164105e-17, -1.70660292e+00,\n",
       "          1.96129340e-17,  6.08130518e-17, -7.84201121e-01,\n",
       "         -1.42033073e+00, -3.86969860e+00, -1.11042484e+00,\n",
       "          7.70519408e-18,  9.31097726e-17,  2.93542934e+00,\n",
       "         -1.19478693e-17,  9.52850642e-17, -1.69519302e+00],\n",
       "        [ 1.96812989e-17,  7.91175681e-17,  5.33355851e-17,\n",
       "         -5.88569793e-01, -5.24686819e-17,  1.96129340e-17,\n",
       "         -7.28908005e-01, -5.97147469e-17, -1.39303123e-17,\n",
       "          4.04616409e-18, -1.78592155e-17, -2.16561354e-17,\n",
       "         -1.58299897e+00, -8.43857211e-18, -6.86116912e-17,\n",
       "         -1.99203378e+00, -1.28152484e-17, -7.35450382e-17],\n",
       "        [-8.73220965e-17, -1.94081652e-16, -1.23758724e-16,\n",
       "         -4.43787127e-17, -5.88569793e-01,  6.08130518e-17,\n",
       "         -5.97147469e-17, -7.28908005e-01,  1.62201827e-16,\n",
       "          7.53336916e-17,  1.90478783e-16,  1.32185913e-16,\n",
       "         -1.27553463e-17, -1.58299897e+00,  6.77048793e-17,\n",
       "          5.42233493e-18, -1.99203378e+00,  1.91578635e-16],\n",
       "        [ 2.25745403e-02, -1.28021381e-01, -9.42574788e-02,\n",
       "          1.29173358e-18,  2.01403851e-16, -7.84201121e-01,\n",
       "         -1.39303123e-17,  1.62201827e-16, -7.54700011e-01,\n",
       "         -7.38910318e-01, -1.57654358e+00, -4.16093401e-01,\n",
       "         -5.20922267e-17,  2.26290621e-16, -1.69519302e+00,\n",
       "         -5.01941984e-17,  2.11357384e-16, -3.51308224e+00],\n",
       "        [ 1.92823475e-03, -7.69270706e-01, -7.58803854e-01,\n",
       "          3.70602502e-17,  7.99480372e-17, -1.42033073e+00,\n",
       "          4.04616409e-18,  7.53336916e-17, -7.38910318e-01,\n",
       "         -2.05796760e+00, -4.13168917e-01, -3.21666247e-01,\n",
       "          6.44657311e-17,  8.11666832e-17,  5.54688441e-02,\n",
       "          2.94094000e-17,  9.27972956e-17, -2.25745403e-02],\n",
       "        [-7.69270706e-01, -3.42559020e+00, -2.65547498e+00,\n",
       "         -3.00060055e-17,  2.03331418e-16, -3.86969860e+00,\n",
       "         -1.78592155e-17,  1.90478783e-16, -1.57654358e+00,\n",
       "         -4.13168917e-01, -1.60182021e+00, -1.14197023e+00,\n",
       "          1.76667096e-17,  1.63838855e-16,  3.26823919e-01,\n",
       "         -1.99960998e-17,  2.09694957e-16,  1.28021381e-01],\n",
       "        [-7.58803854e-01, -2.65547498e+00, -2.51793216e+00,\n",
       "         -1.75066273e-17,  1.27480287e-16, -1.11042484e+00,\n",
       "         -2.16561354e-17,  1.32185913e-16, -4.16093401e-01,\n",
       "         -3.21666247e-01, -1.14197023e+00, -1.10150896e+00,\n",
       "         -2.01124257e-17,  1.56974993e-16,  2.59476156e-01,\n",
       "         -2.60052552e-17,  1.27339282e-16,  9.42574788e-02],\n",
       "        [ 7.92019406e-18,  9.92451939e-17,  5.46449224e-17,\n",
       "         -2.16399680e+00, -5.91580026e-19,  7.70519408e-18,\n",
       "         -1.58299897e+00, -1.27553463e-17, -5.20922267e-17,\n",
       "          6.44657311e-17,  1.76667096e-17, -2.01124257e-17,\n",
       "         -1.52706344e+00,  4.59532398e-17, -6.47971540e-17,\n",
       "         -5.88569793e-01,  4.51457204e-17, -4.82001639e-17],\n",
       "        [-7.01170560e-17, -1.84436407e-16, -1.30664883e-16,\n",
       "          3.24406437e-17, -2.16399680e+00,  9.31097726e-17,\n",
       "         -8.43857211e-18, -1.58299897e+00,  2.26290621e-16,\n",
       "          8.11666832e-17,  1.63838855e-16,  1.56974993e-16,\n",
       "          4.59532398e-17, -1.52706344e+00,  4.20249751e-17,\n",
       "          6.07466050e-17, -5.88569793e-01,  1.85087377e-16],\n",
       "        [ 1.42033073e+00,  3.86969860e+00,  1.11042484e+00,\n",
       "         -3.59530067e-17,  3.58947843e-17,  2.93542934e+00,\n",
       "         -6.86116912e-17,  6.77048793e-17, -1.69519302e+00,\n",
       "          5.54688441e-02,  3.26823919e-01,  2.59476156e-01,\n",
       "         -6.47971540e-17,  4.20249751e-17, -1.70660292e+00,\n",
       "         -4.54605060e-17,  3.89203243e-17, -7.84201121e-01],\n",
       "        [ 9.56379214e-18,  7.63687824e-17,  4.53410777e-17,\n",
       "         -1.58299897e+00,  2.12099519e-17, -1.19478693e-17,\n",
       "         -1.99203378e+00,  5.42233493e-18, -5.01941984e-17,\n",
       "          2.94094000e-17, -1.99960998e-17, -2.60052552e-17,\n",
       "         -5.88569793e-01,  6.07466050e-17, -4.54605060e-17,\n",
       "         -7.28908005e-01,  5.22404740e-17, -3.60637783e-17],\n",
       "        [-7.21903565e-17, -1.85252373e-16, -1.29641376e-16,\n",
       "          1.62044519e-17, -1.58299897e+00,  9.52850642e-17,\n",
       "         -1.28152484e-17, -1.99203378e+00,  2.11357384e-16,\n",
       "          9.27972956e-17,  2.09694957e-16,  1.27339282e-16,\n",
       "          4.51457204e-17, -5.88569793e-01,  3.89203243e-17,\n",
       "          5.22404740e-17, -7.28908005e-01,  1.52489978e-16],\n",
       "        [ 7.38910318e-01,  1.57654358e+00,  4.16093401e-01,\n",
       "         -8.28423057e-17,  2.00250927e-16, -1.69519302e+00,\n",
       "         -7.35450382e-17,  1.91578635e-16, -3.51308224e+00,\n",
       "         -2.25745403e-02,  1.28021381e-01,  9.42574788e-02,\n",
       "         -4.82001639e-17,  1.85087377e-16, -7.84201121e-01,\n",
       "         -3.60637783e-17,  1.52489978e-16, -7.54700011e-01]]),\n",
       " array([[-2.05791823e+00, -4.13122741e-01, -3.21640065e-01,\n",
       "          1.43747425e-18, -7.13431735e-17, -5.54458108e-02,\n",
       "          1.96780907e-17, -8.73051404e-17,  2.25745342e-02,\n",
       "          1.92674048e-03, -7.69872000e-01, -7.58788041e-01,\n",
       "          7.91323718e-18, -7.01124025e-17,  1.42088438e+00,\n",
       "          9.55966588e-18, -7.21738268e-17,  7.38679257e-01],\n",
       "        [-4.13122741e-01, -1.60167323e+00, -1.14183032e+00,\n",
       "          4.57864482e-17, -1.35965795e-16, -3.26821083e-01,\n",
       "          7.91121719e-17, -1.94044785e-16, -1.27980603e-01,\n",
       "         -7.69872000e-01, -3.42566703e+00, -2.65527261e+00,\n",
       "          9.92306542e-17, -1.84417059e-16,  3.86872774e+00,\n",
       "          7.63568328e-17, -1.85210921e-16,  1.57588731e+00],\n",
       "        [-3.21640065e-01, -1.14183032e+00, -1.10132169e+00,\n",
       "          6.24298242e-17, -1.45071640e-16, -2.59419144e-01,\n",
       "          5.33242466e-17, -1.23737748e-16, -9.41720020e-02,\n",
       "         -7.58788041e-01, -2.65527261e+00, -2.51766643e+00,\n",
       "          5.46360646e-17, -1.30655911e-16,  1.11007369e+00,\n",
       "          4.53309454e-17, -1.29620767e-16,  4.15759735e-01],\n",
       "        [ 1.43747425e-18,  4.57864482e-17,  6.24298242e-17,\n",
       "         -1.52689612e+00, -2.70906267e-17,  1.59548366e-17,\n",
       "         -5.88472789e-01, -4.45595103e-17,  1.27071292e-18,\n",
       "          3.70802115e-17, -2.99886445e-17, -1.75021642e-17,\n",
       "         -2.16460090e+00,  3.23327956e-17, -3.59719954e-17,\n",
       "         -1.58286977e+00,  1.60773035e-17, -8.28509653e-17],\n",
       "        [-7.13431735e-17, -1.35965795e-16, -1.45071640e-16,\n",
       "         -2.67743054e-17, -1.52689612e+00,  8.02575217e-17,\n",
       "         -5.24365636e-17, -5.88472789e-01,  2.01453562e-16,\n",
       "          7.99537201e-17,  2.03311872e-16,  1.27462068e-16,\n",
       "         -5.66590555e-19, -2.16460090e+00,  3.59704791e-17,\n",
       "          2.12449096e-17, -1.58286977e+00,  2.00320165e-16],\n",
       "        [-5.54458108e-02, -3.26821083e-01, -2.59419144e-01,\n",
       "          1.59548366e-17,  8.02575217e-17, -1.70658816e+00,\n",
       "          1.96077735e-17,  6.08550425e-17, -7.84093767e-01,\n",
       "         -1.42088438e+00, -3.86872774e+00, -1.11007369e+00,\n",
       "          7.67551211e-18,  9.31744988e-17,  2.93305960e+00,\n",
       "         -1.19548708e-17,  9.53257963e-17, -1.69534753e+00],\n",
       "        [ 1.96780907e-17,  7.91121719e-17,  5.33242466e-17,\n",
       "         -5.88472789e-01, -5.27477880e-17,  1.96077735e-17,\n",
       "         -7.28770166e-01, -5.98168615e-17, -1.39467219e-17,\n",
       "          4.06433646e-18, -1.78499179e-17, -2.16557675e-17,\n",
       "         -1.58286977e+00, -8.54557734e-18, -6.86054241e-17,\n",
       "         -1.99182350e+00, -1.29043835e-17, -7.35418323e-17],\n",
       "        [-8.73051404e-17, -1.94044785e-16, -1.23737748e-16,\n",
       "         -4.44482475e-17, -5.88472789e-01,  6.08550425e-17,\n",
       "         -5.96792581e-17, -7.28770166e-01,  1.62229251e-16,\n",
       "          7.53231689e-17,  1.90438426e-16,  1.32159666e-16,\n",
       "         -1.27367174e-17, -1.58286977e+00,  6.77494312e-17,\n",
       "          5.45857019e-18, -1.99182350e+00,  1.91600671e-16],\n",
       "        [ 2.25745342e-02, -1.27980603e-01, -9.41720020e-02,\n",
       "          1.27071292e-18,  2.01453562e-16, -7.84093767e-01,\n",
       "         -1.39467219e-17,  1.62229251e-16, -7.54526942e-01,\n",
       "         -7.38679257e-01, -1.57588731e+00, -4.15759735e-01,\n",
       "         -5.21123607e-17,  2.26349947e-16, -1.69534753e+00,\n",
       "         -5.02029267e-17,  2.11372676e-16, -3.51278494e+00],\n",
       "        [ 1.92674048e-03, -7.69872000e-01, -7.58788041e-01,\n",
       "          3.70802115e-17,  7.99537201e-17, -1.42088438e+00,\n",
       "          4.06433646e-18,  7.53231689e-17, -7.38679257e-01,\n",
       "         -2.05791823e+00, -4.13122741e-01, -3.21640065e-01,\n",
       "          6.44992803e-17,  8.11692493e-17,  5.54458108e-02,\n",
       "          2.94241282e-17,  9.27860742e-17, -2.25745342e-02],\n",
       "        [-7.69872000e-01, -3.42566703e+00, -2.65527261e+00,\n",
       "         -2.99886445e-17,  2.03311872e-16, -3.86872774e+00,\n",
       "         -1.78499179e-17,  1.90438426e-16, -1.57588731e+00,\n",
       "         -4.13122741e-01, -1.60167323e+00, -1.14183032e+00,\n",
       "          1.76510456e-17,  1.63839125e-16,  3.26821083e-01,\n",
       "         -1.99931371e-17,  2.09658277e-16,  1.27980603e-01],\n",
       "        [-7.58788041e-01, -2.65527261e+00, -2.51766643e+00,\n",
       "         -1.75021642e-17,  1.27462068e-16, -1.11007369e+00,\n",
       "         -2.16557675e-17,  1.32159666e-16, -4.15759735e-01,\n",
       "         -3.21640065e-01, -1.14183032e+00, -1.10132169e+00,\n",
       "         -2.01177933e-17,  1.56963593e-16,  2.59419144e-01,\n",
       "         -2.60039921e-17,  1.27313517e-16,  9.41720020e-02],\n",
       "        [ 7.91323718e-18,  9.92306542e-17,  5.46360646e-17,\n",
       "         -2.16460090e+00, -9.97473712e-19,  7.67551211e-18,\n",
       "         -1.58286977e+00, -1.29156203e-17, -5.21123607e-17,\n",
       "          6.44992803e-17,  1.76510456e-17, -2.01177933e-17,\n",
       "         -1.52689612e+00,  4.55811535e-17, -6.47717300e-17,\n",
       "         -5.88472789e-01,  4.48760314e-17, -4.82097985e-17],\n",
       "        [-7.01124025e-17, -1.84417059e-16, -1.30655911e-16,\n",
       "          3.23314518e-17, -2.16460090e+00,  9.31744988e-17,\n",
       "         -8.42937367e-18, -1.58286977e+00,  2.26349947e-16,\n",
       "          8.11692493e-17,  1.63839125e-16,  1.56963593e-16,\n",
       "          4.59466673e-17, -1.52689612e+00,  4.20707592e-17,\n",
       "          6.07772014e-17, -5.88472789e-01,  1.85143799e-16],\n",
       "        [ 1.42088438e+00,  3.86872774e+00,  1.11007369e+00,\n",
       "         -3.59719954e-17,  3.59704791e-17,  2.93305960e+00,\n",
       "         -6.86054241e-17,  6.77494312e-17, -1.69534753e+00,\n",
       "          5.54458108e-02,  3.26821083e-01,  2.59419144e-01,\n",
       "         -6.47717300e-17,  4.20707592e-17, -1.70658816e+00,\n",
       "         -4.54507974e-17,  3.89648086e-17, -7.84093767e-01],\n",
       "        [ 9.55966588e-18,  7.63568328e-17,  4.53309454e-17,\n",
       "         -1.58286977e+00,  2.10370949e-17, -1.19548708e-17,\n",
       "         -1.99182350e+00,  5.36269468e-18, -5.02029267e-17,\n",
       "          2.94241282e-17, -1.99931371e-17, -2.60039921e-17,\n",
       "         -5.88472789e-01,  6.05885024e-17, -4.54507974e-17,\n",
       "         -7.28770166e-01,  5.21341502e-17, -3.60707099e-17],\n",
       "        [-7.21738268e-17, -1.85210921e-16, -1.29620767e-16,\n",
       "          1.61516883e-17, -1.58286977e+00,  9.53257963e-17,\n",
       "         -1.28042760e-17, -1.99182350e+00,  2.11372676e-16,\n",
       "          9.27860742e-17,  2.09658277e-16,  1.27313517e-16,\n",
       "          4.51469615e-17, -5.88472789e-01,  3.89648086e-17,\n",
       "          5.22597398e-17, -7.28770166e-01,  1.52519826e-16],\n",
       "        [ 7.38679257e-01,  1.57588731e+00,  4.15759735e-01,\n",
       "         -8.28509653e-17,  2.00320165e-16, -1.69534753e+00,\n",
       "         -7.35418323e-17,  1.91600671e-16, -3.51278494e+00,\n",
       "         -2.25745342e-02,  1.27980603e-01,  9.41720020e-02,\n",
       "         -4.82097985e-17,  1.85143799e-16, -7.84093767e-01,\n",
       "         -3.60707099e-17,  1.52519826e-16, -7.54526942e-01]]))"
      ]
     },
     "execution_count": 326,
     "metadata": {},
     "output_type": "execute_result"
    }
   ],
   "source": [
    "(vhf + vhf.transpose(0,2,1))[2],np.einsum(\"kl,ijkl->ij\",P_nn,dG4d)-np.einsum(\"jl,ijkl->ik\",P_nn,dG4d)/2"
   ]
  },
  {
   "cell_type": "code",
   "execution_count": 327,
   "id": "826a430b",
   "metadata": {},
   "outputs": [
    {
     "data": {
      "text/plain": [
       "0.004851558528060643"
      ]
     },
     "execution_count": 327,
     "metadata": {},
     "output_type": "execute_result"
    }
   ],
   "source": [
    "norm((vhf + vhf.transpose(0,2,1))[2]-(np.einsum(\"kl,ijkl->ij\",P_nn,dG4d)-np.einsum(\"jl,ijkl->ik\",P_nn,dG4d)/2))"
   ]
  },
  {
   "cell_type": "code",
   "execution_count": 329,
   "id": "279efc46",
   "metadata": {},
   "outputs": [
    {
     "data": {
      "text/plain": [
       "0.002307252076946342"
      ]
     },
     "execution_count": 329,
     "metadata": {},
     "output_type": "execute_result"
    }
   ],
   "source": [
    "# qui h1ao e' la somma del contributo di h monoelectr + V eff (da operatori bielettronici)\n",
    "norm(h1[2]-(dh1+np.einsum(\"kl,ijkl->ij\",P_nn,dG4d)-np.einsum(\"jl,ijkl->ik\",P_nn,dG4d)/2))"
   ]
  },
  {
   "cell_type": "code",
   "execution_count": null,
   "id": "16903646",
   "metadata": {},
   "outputs": [],
   "source": []
  },
  {
   "cell_type": "code",
   "execution_count": 227,
   "id": "3cb5956e",
   "metadata": {},
   "outputs": [],
   "source": [
    "max_memory=4000\n",
    "verbose=None\n",
    "mo_energy = mf.mo_energy\n",
    "mo_occ = mf.mo_occ\n",
    "mo_coeff = mf.mo_coeff\n",
    "atmlst = range(mol.natm)\n",
    "h1ao=h_nn.make_h1(mf.mo_coeff,mf.mo_occ)\n",
    "mo1, mo_e1 = hessobj.solve_mo1(mo_energy, mo_coeff, mo_occ, h1ao,None, atmlst, max_memory, log)\n",
    "#mo1_2, mo_e1 = pyscf.hessian.rhf.solve_mo1(mf,mo_energy, mo_coeff, mo_occ, h1ao,None, atmlst, max_memory, log)"
   ]
  },
  {
   "cell_type": "code",
   "execution_count": 228,
   "id": "78d31f36",
   "metadata": {},
   "outputs": [
    {
     "data": {
      "text/plain": [
       "(3, 18, 7)"
      ]
     },
     "execution_count": 228,
     "metadata": {},
     "output_type": "execute_result"
    }
   ],
   "source": [
    "mo1[0].shape"
   ]
  },
  {
   "cell_type": "code",
   "execution_count": 229,
   "id": "3135df9e",
   "metadata": {},
   "outputs": [
    {
     "data": {
      "text/plain": [
       "array([[-5.21050149e-02,  5.80501801e-02,  2.04235571e-03,\n",
       "        -1.04838383e-02, -5.00197522e-03, -1.12998021e-01,\n",
       "        -4.54665242e-03, -2.69610260e-02, -4.65588836e-02,\n",
       "         4.52392094e-02, -7.06352553e-02,  1.03070219e-01,\n",
       "        -5.52462967e-03, -9.54603403e-02,  6.43076143e-02,\n",
       "         3.85768021e-03,  1.09728737e-01, -1.08895664e-01],\n",
       "       [ 5.80501801e-02, -1.33976597e-01,  2.57372107e-01,\n",
       "         8.67682172e-02, -5.07593876e-02, -1.27041247e-01,\n",
       "         7.09112375e-02, -8.23111538e-02,  5.69584336e-02,\n",
       "        -2.33323945e-02, -2.06561025e-02, -2.78415607e-01,\n",
       "         2.37208375e-02,  6.36052654e-02,  8.62519234e-02,\n",
       "        -2.62133694e-02, -2.05284646e-01,  2.03810020e-01],\n",
       "       [ 2.04235571e-03,  2.57372107e-01, -7.68748244e-01,\n",
       "         9.50689798e-02,  4.13631256e-01,  9.48232429e-01,\n",
       "         4.18218645e-02,  2.08071519e-01,  7.67476740e-02,\n",
       "        -1.39831617e-01,  3.02957785e-01,  2.55546179e-01,\n",
       "         1.00129456e-01,  5.45244097e-01, -7.71483031e-01,\n",
       "         4.82959682e-02, -1.58197208e-03, -3.85965288e-01],\n",
       "       [-1.04838383e-02,  8.67682172e-02,  9.50689798e-02,\n",
       "        -2.72595675e-01,  6.53485619e-02,  1.19463137e-02,\n",
       "         8.27357613e-02,  3.28903946e-02,  5.52242181e-03,\n",
       "         3.03491731e-02, -3.22879334e-02, -1.03952777e-01,\n",
       "        -1.04085951e-01,  6.48358990e-02, -8.33650661e-02,\n",
       "        -1.80455337e-01,  3.36911099e-02, -1.72053451e-02],\n",
       "       [-5.00197522e-03, -5.07593876e-02,  4.13631256e-01,\n",
       "         6.53485619e-02,  9.78167722e-02,  8.07532394e-02,\n",
       "         5.02551940e-02,  1.02235430e-01,  5.09149423e-02,\n",
       "         4.70637859e-02, -2.44974169e-02, -2.58497624e-01,\n",
       "         3.75184332e-02,  3.62904151e-15,  7.64109637e-02,\n",
       "         7.78236591e-03, -4.70472055e-02,  8.86515350e-02],\n",
       "       [-1.12998021e-01, -1.27041247e-01,  9.48232429e-01,\n",
       "         1.19463137e-02,  8.07532394e-02,  1.19392901e-02,\n",
       "         5.93476653e-02,  1.54859940e-03,  3.73663756e-01,\n",
       "         9.25925474e-02,  2.74939942e-01, -9.44224362e-01,\n",
       "        -1.00495898e-01,  1.08689690e-01, -1.62576848e-01,\n",
       "        -1.12217458e-01,  5.66941769e-02,  5.36488497e-01],\n",
       "       [-4.54665242e-03,  7.09112375e-02,  4.18218645e-02,\n",
       "         8.27357613e-02,  5.02551940e-02,  5.93476653e-02,\n",
       "         1.80132141e-01,  2.61088798e-02,  1.70569124e-02,\n",
       "         9.00620641e-03,  3.94159171e-03, -6.95472004e-02,\n",
       "         1.77808950e-01,  4.99659496e-02, -9.93497896e-02,\n",
       "         3.16397206e-02,  2.65606434e-02, -2.36935350e-02],\n",
       "       [-2.69610260e-02, -8.23111538e-02,  2.08071519e-01,\n",
       "         3.28903946e-02,  1.02235430e-01,  1.54859940e-03,\n",
       "         2.61088798e-02,  8.42252645e-02,  2.01553514e-02,\n",
       "        -2.78310485e-02, -4.58555933e-02, -1.33561408e-01,\n",
       "         1.71886357e-02,  4.70472055e-02,  1.00518999e-01,\n",
       "         2.14570969e-03, -3.20576898e-15,  6.05540648e-02],\n",
       "       [-4.65588836e-02,  5.69584336e-02,  7.67476740e-02,\n",
       "         5.52242181e-03,  5.09149423e-02,  3.73663756e-01,\n",
       "         1.70569124e-02,  2.01553514e-02,  1.73980802e-01,\n",
       "        -1.89734833e-02,  3.29072927e-01, -1.50767570e-01,\n",
       "        -2.52334784e-02,  6.97051896e-02, -3.12927487e-01,\n",
       "        -2.99753090e-02,  1.78557142e-02,  8.76260608e-02],\n",
       "       [ 4.52392094e-02, -2.33323945e-02, -1.39831617e-01,\n",
       "         3.03491731e-02,  4.70637859e-02,  9.25925474e-02,\n",
       "         9.00620641e-03, -2.78310485e-02, -1.89734833e-02,\n",
       "        -7.62252561e-02, -1.25456958e-02,  1.10530002e-02,\n",
       "         4.16212088e-02,  3.27942176e-02, -6.92949064e-02,\n",
       "         2.63128143e-02, -1.54767148e-02, -3.14935021e-02],\n",
       "       [-7.06352553e-02, -2.06561025e-02,  3.02957785e-01,\n",
       "        -3.22879334e-02, -2.44974169e-02,  2.74939942e-01,\n",
       "         3.94159171e-03, -4.58555933e-02,  3.29072927e-01,\n",
       "        -1.25456958e-02,  2.72912656e-01, -4.03895700e-01,\n",
       "        -6.91044076e-02, -1.17136562e-01, -2.95361756e-01,\n",
       "        -5.12778120e-02,  1.30906050e-01,  8.19255483e-02],\n",
       "       [ 1.03070219e-01, -2.78415607e-01,  2.55546179e-01,\n",
       "        -1.03952777e-01, -2.58497624e-01, -9.44224362e-01,\n",
       "        -6.95472004e-02, -1.33561408e-01, -1.50767570e-01,\n",
       "         1.10530002e-02, -4.03895700e-01,  2.47263466e-01,\n",
       "        -5.59887093e-02, -4.73246079e-01,  8.80628192e-01,\n",
       "         5.54062815e-03,  1.59171388e-01,  3.54576452e-02],\n",
       "       [-5.52462967e-03,  2.37208375e-02,  1.00129456e-01,\n",
       "        -1.04085951e-01,  3.75184332e-02, -1.00495898e-01,\n",
       "         1.77808950e-01,  1.71886357e-02, -2.52334784e-02,\n",
       "         4.16212088e-02, -6.91044076e-02, -5.59887093e-02,\n",
       "         6.44237727e-02,  3.70057703e-02,  4.45339453e-02,\n",
       "        -8.53821482e-02,  1.79893510e-02,  1.62301398e-02],\n",
       "       [-9.54603403e-02,  6.36052654e-02,  5.45244097e-01,\n",
       "         6.48358990e-02,  3.62904151e-15,  1.08689690e-01,\n",
       "         4.99659496e-02,  4.70472055e-02,  6.97051896e-02,\n",
       "         3.27942176e-02, -1.17136562e-01, -4.73246079e-01,\n",
       "         3.70057703e-02, -9.78167722e-02, -7.57962300e-02,\n",
       "         7.49312148e-03, -1.02235430e-01,  4.95839038e-02],\n",
       "       [ 6.43076143e-02,  8.62519234e-02, -7.71483031e-01,\n",
       "        -8.33650661e-02,  7.64109637e-02, -1.62576848e-01,\n",
       "        -9.93497896e-02,  1.00518999e-01, -3.12927487e-01,\n",
       "        -6.92949064e-02, -2.95361756e-01,  8.80628192e-01,\n",
       "         4.45339453e-02, -7.57962300e-02,  2.74341492e-01,\n",
       "         9.69298693e-02,  2.25568573e-01, -5.18505613e-01],\n",
       "       [ 3.85768021e-03, -2.62133694e-02,  4.82959682e-02,\n",
       "        -1.80455337e-01,  7.78236591e-03, -1.12217458e-01,\n",
       "         3.16397206e-02,  2.14570969e-03, -2.99753090e-02,\n",
       "         2.63128143e-02, -5.12778120e-02,  5.54062815e-03,\n",
       "        -8.53821482e-02,  7.49312148e-03,  9.69298693e-02,\n",
       "        -1.16852700e-01,  2.59747327e-03,  2.76113037e-02],\n",
       "       [ 1.09728737e-01, -2.05284646e-01, -1.58197208e-03,\n",
       "         3.36911099e-02, -4.70472055e-02,  5.66941769e-02,\n",
       "         2.65606434e-02, -3.20576898e-15,  1.78557142e-02,\n",
       "        -1.54767148e-02,  1.30906050e-01,  1.59171388e-01,\n",
       "         1.79893510e-02, -1.02235430e-01,  2.25568573e-01,\n",
       "         2.59747327e-03, -8.42252645e-02,  9.21180867e-02],\n",
       "       [-1.08895664e-01,  2.03810020e-01, -3.85965288e-01,\n",
       "        -1.72053451e-02,  8.86515350e-02,  5.36488497e-01,\n",
       "        -2.36935350e-02,  6.05540648e-02,  8.76260608e-02,\n",
       "        -3.14935021e-02,  8.19255483e-02,  3.54576452e-02,\n",
       "         1.62301398e-02,  4.95839038e-02, -5.18505613e-01,\n",
       "         2.76113037e-02,  9.21180867e-02, -3.19593831e-01]])"
      ]
     },
     "execution_count": 229,
     "metadata": {},
     "output_type": "execute_result"
    }
   ],
   "source": [
    "make_dP(mf,mo1[1][2])"
   ]
  },
  {
   "cell_type": "code",
   "execution_count": 331,
   "id": "8c93db00",
   "metadata": {},
   "outputs": [],
   "source": [
    "mocc = mo_coeff[:,mo_occ>0]\n",
    "dm1 = numpy.einsum('pi,qi->pq', mo1[1][2], mocc)*4"
   ]
  },
  {
   "cell_type": "code",
   "execution_count": 332,
   "id": "407fd592",
   "metadata": {},
   "outputs": [],
   "source": [
    "dP_fd=(P_nn_p-P_nn_m)/.06\n",
    "#norm(dP_fd),plt.matshow(dP_fd)"
   ]
  },
  {
   "cell_type": "code",
   "execution_count": 333,
   "id": "fff04f73",
   "metadata": {},
   "outputs": [
    {
     "data": {
      "text/plain": [
       "(1.7647587448547888, 1.3674730458599675, 1.1155023965494903)"
      ]
     },
     "execution_count": 333,
     "metadata": {},
     "output_type": "execute_result"
    },
    {
     "data": {
      "image/png": "[encoded data removed]",
      "text/plain": [
       "<Figure size 288x288 with 1 Axes>"
      ]
     },
     "metadata": {
      "needs_background": "light"
     },
     "output_type": "display_data"
    },
    {
     "data": {
      "image/png": "[encoded data removed]",
      "text/plain": [
       "<Figure size 288x288 with 1 Axes>"
      ]
     },
     "metadata": {
      "needs_background": "light"
     },
     "output_type": "display_data"
    }
   ],
   "source": [
    "plt.matshow(dm1),plt.matshow(dP_fd)\n",
    "norm(dm1),norm(dP_fd),norm(dm1-dP_fd)"
   ]
  },
  {
   "cell_type": "code",
   "execution_count": 233,
   "id": "dffc351e",
   "metadata": {},
   "outputs": [
    {
     "data": {
      "text/plain": [
       "(0.9439260934103638, 0.9442867994630623)"
      ]
     },
     "execution_count": 233,
     "metadata": {},
     "output_type": "execute_result"
    }
   ],
   "source": [
    "numpy.einsum('pq,pq', h1ao[1][2], dm1),numpy.einsum('pq,pq', h1ao[1][2], dP_fd)"
   ]
  },
  {
   "cell_type": "markdown",
   "id": "f42406fb",
   "metadata": {},
   "source": [
    "# Comments:\n",
    "Unfortunatly the density deriv. analytical differs from the one by finite difference, though they give the same integration results with h1ao, that means that they can be used to evalaute derivatives, and probabily the density matrix is degenerate (which is possible given the high symmetry of the system) :(\n"
   ]
  },
  {
   "cell_type": "markdown",
   "id": "bdc61b5a",
   "metadata": {},
   "source": [
    "Solve_mo1\n",
    "    atmlst = range(mol.natm)\n",
    "    nao, nmo = mo_coeff.shape\n",
    "    mocc = mo_coeff[:,mo_occ>0]\n",
    "    nocc = mocc.shape[1]\n",
    "\n",
    "    fx = gen_vind(mf, mo_coeff, mo_occ)\n",
    "    s1a = -mol.intor('int1e_ipovlp', comp=3)\n",
    "\n",
    "    def _ao2mo(mat):\n",
    "        return numpy.asarray([reduce(numpy.dot, (mo_coeff.T, x, mocc)) for x in mat])\n",
    "\n",
    "    mem_now = lib.current_memory()[0]\n",
    "    max_memory = max(2000, max_memory*.9-mem_now)\n",
    "    blksize = max(2, int(max_memory*1e6/8 / (nmo*nocc*3*6)))\n",
    "    mo1s = [None] * mol.natm\n",
    "    e1s = [None] * mol.natm\n",
    "    aoslices = mol.aoslice_by_atom()\n",
    "    for ia0, ia1 in lib.prange(0, len(atmlst), blksize):   #solo per non andare fuori memoria\n",
    "        s1vo = []\n",
    "        h1vo = []\n",
    "        for i0 in range(ia0, ia1):\n",
    "            ia = atmlst[i0]\n",
    "            shl0, shl1, p0, p1 = aoslices[ia]\n",
    "            s1ao = numpy.zeros((3,nao,nao))\n",
    "            s1ao[:,p0:p1] += s1a[:,p0:p1]\n",
    "            s1ao[:,:,p0:p1] += s1a[:,p0:p1].transpose(0,2,1)\n",
    "            s1vo.append(_ao2mo(s1ao))\n",
    "            h1ao = h1ao_or_chkfile[ia]\n",
    "            h1vo.append(_ao2mo(h1ao))\n",
    "\n",
    "        h1vo = numpy.vstack(h1vo)\n",
    "        s1vo = numpy.vstack(s1vo)\n",
    "        mo1, e1 = cphf.solve(fx, mo_energy, mo_occ, h1vo, s1vo)\n",
    "        mo1 = numpy.einsum('pq,xqi->xpi', mo_coeff, mo1).reshape(-1,3,nao,nocc)\n",
    "        e1 = e1.reshape(-1,3,nocc,nocc)\n",
    "\n",
    "        for k in range(ia1-ia0):\n",
    "            ia = atmlst[k+ia0]\n",
    "            if isinstance(h1ao_or_chkfile, str):\n",
    "                key = 'scf_mo1/%d' % ia\n",
    "                lib.chkfile.save(h1ao_or_chkfile, key, mo1[k])\n",
    "            else:\n",
    "                mo1s[ia] = mo1[k]\n",
    "            e1s[ia] = e1[k].reshape(3,nocc,nocc)\n",
    "        mo1 = e1 = None\n",
    "    else:\n",
    "        return mo1s, e1s\n"
   ]
  },
  {
   "cell_type": "code",
   "execution_count": 259,
   "id": "4ed22bae",
   "metadata": {},
   "outputs": [
    {
     "data": {
      "text/plain": [
       "(3.679462980639679, 4.0843755922826634, 1.7730414978044151)"
      ]
     },
     "execution_count": 259,
     "metadata": {},
     "output_type": "execute_result"
    }
   ],
   "source": [
    "mol=nn\n",
    "s1a = -mol.intor('int1e_ipovlp', comp=3)\n",
    "norm(s1a[2]),norm(s1a[2]-dS),norm(dS) #s1a=!dS"
   ]
  },
  {
   "cell_type": "code",
   "execution_count": 263,
   "id": "b7908a35",
   "metadata": {},
   "outputs": [],
   "source": [
    "atmlst = range(mol.natm)\n",
    "nao, nmo = mo_coeff.shape\n",
    "mocc = mo_coeff[:,mo_occ>0]\n",
    "nocc = mocc.shape[1]"
   ]
  },
  {
   "cell_type": "code",
   "execution_count": 283,
   "id": "0432a347",
   "metadata": {},
   "outputs": [],
   "source": [
    "mem_now = lib.current_memory()[0]\n",
    "max_memory = max(2000, max_memory*.9-mem_now)\n",
    "ia0, ia1=0,2\n",
    "s1vo = []\n",
    "h1vo = []\n",
    "for i0 in range(ia0, ia1):   # sei nel range di memoria i0 e' l'atomo rispetto al quale derivi\n",
    "    ia = atmlst[i0]\n",
    "    shl0, shl1, p0, p1 = aoslices[ia]\n",
    "    s1ao = numpy.zeros((3,nao,nao))\n",
    "    s1ao[:,p0:p1] += s1a[:,p0:p1]\n",
    "    s1ao[:,:,p0:p1] += s1a[:,p0:p1].transpose(0,2,1)"
   ]
  },
  {
   "cell_type": "code",
   "execution_count": 284,
   "id": "e7804420",
   "metadata": {},
   "outputs": [
    {
     "data": {
      "text/plain": [
       "(3, 18, 18)"
      ]
     },
     "execution_count": 284,
     "metadata": {},
     "output_type": "execute_result"
    }
   ],
   "source": [
    "s1ao.shape"
   ]
  },
  {
   "cell_type": "code",
   "execution_count": 286,
   "id": "4bbe6bb5",
   "metadata": {},
   "outputs": [
    {
     "name": "stdout",
     "output_type": "stream",
     "text": [
      "0.0004380782435757148\n"
     ]
    }
   ],
   "source": [
    "print(norm(s1ao[2]-dS))"
   ]
  },
  {
   "cell_type": "code",
   "execution_count": 294,
   "id": "190b6cc2",
   "metadata": {},
   "outputs": [
    {
     "data": {
      "text/plain": [
       "array([0, 5, 0, 9])"
      ]
     },
     "execution_count": 294,
     "metadata": {},
     "output_type": "execute_result"
    }
   ],
   "source": [
    "aoslices[0]"
   ]
  },
  {
   "cell_type": "code",
   "execution_count": 295,
   "id": "6b1d926a",
   "metadata": {},
   "outputs": [
    {
     "data": {
      "text/plain": [
       "1.7730414978044151"
      ]
     },
     "execution_count": 295,
     "metadata": {},
     "output_type": "execute_result"
    }
   ],
   "source": [
    "norm(s1a[2]+s1a[2].T-dS)"
   ]
  },
  {
   "cell_type": "code",
   "execution_count": 297,
   "id": "8f2306d1",
   "metadata": {},
   "outputs": [
    {
     "data": {
      "text/plain": [
       "(3, 18, 18)"
      ]
     },
     "execution_count": 297,
     "metadata": {},
     "output_type": "execute_result"
    }
   ],
   "source": [
    "s1a.shape"
   ]
  },
  {
   "cell_type": "code",
   "execution_count": 305,
   "id": "65b6f328",
   "metadata": {},
   "outputs": [
    {
     "name": "stdout",
     "output_type": "stream",
     "text": [
      "0.00043807824357569537\n",
      "1.7730414978044151\n"
     ]
    },
    {
     "data": {
      "text/plain": [
       "(None, None)"
      ]
     },
     "execution_count": 305,
     "metadata": {},
     "output_type": "execute_result"
    }
   ],
   "source": [
    "print(norm(dS-(s1a + s1a.transpose(0,2,1))[2])),print(norm(dS))"
   ]
  },
  {
   "cell_type": "code",
   "execution_count": null,
   "id": "27ebd08f",
   "metadata": {},
   "outputs": [],
   "source": []
  }
 ],
 "metadata": {
  "kernelspec": {
   "display_name": "Python 3",
   "language": "python",
   "name": "python3"
  },
  "language_info": {
   "codemirror_mode": {
    "name": "ipython",
    "version": 3
   },
   "file_extension": ".py",
   "mimetype": "text/x-python",
   "name": "python",
   "nbconvert_exporter": "python",
   "pygments_lexer": "ipython3",
   "version": "3.8.8"
  }
 },
 "nbformat": 4,
 "nbformat_minor": 5
}
