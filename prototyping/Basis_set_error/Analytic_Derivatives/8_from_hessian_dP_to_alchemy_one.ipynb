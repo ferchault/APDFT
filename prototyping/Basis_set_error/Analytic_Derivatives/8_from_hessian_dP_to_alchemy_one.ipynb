{
 "cells": [
  {
   "cell_type": "code",
   "execution_count": 1,
   "id": "5a53e1ff",
   "metadata": {},
   "outputs": [],
   "source": [
    "import basis_set_exchange as bse\n",
    "import scipy as sp\n",
    "import matplotlib.pyplot as plt\n",
    "from pyscf import gto,scf\n",
    "import copy\n",
    "import numpy as np\n",
    "import scipy\n",
    "from scipy.interpolate import interp1d\n",
    "from pyscf.data.elements import _symbol\n",
    "from pyscf.grad import RHF as g\n",
    "import inspect\n",
    "import sys\n",
    "sys.path.append(\"../Libs\")\n",
    "from FcMole import FcM,FcM_like\n",
    "from FDcoeffs import get_coeffs\n",
    "from ao_scf import ao_RHF\n",
    "from numpy.linalg import norm"
   ]
  },
  {
   "cell_type": "code",
   "execution_count": 161,
   "id": "a3f944e9",
   "metadata": {},
   "outputs": [],
   "source": [
    "from functools import reduce\n",
    "import ctypes\n",
    "import numpy\n",
    "from pyscf import lib\n",
    "from pyscf import gto\n",
    "from pyscf.lib import logger\n",
    "from pyscf.scf import _vhf\n",
    "from pyscf.scf import cphf\n",
    "\n",
    "# import _response_functions to load gen_response methods in SCF class\n",
    "from pyscf.scf import _response_functions  # noqa\n",
    "# import pyscf.grad.rhf to activate nuc_grad_method method\n",
    "from pyscf.grad import rhf  # noqa"
   ]
  },
  {
   "cell_type": "code",
   "execution_count": 4,
   "id": "f34da51a",
   "metadata": {},
   "outputs": [],
   "source": [
    "def make_dP(mf,mo1):\n",
    "    mol=mf.mol\n",
    "    nao=mol.nao\n",
    "    nocc=mf.mol.nelec[0]\n",
    "    C=mf.mo_coeff\n",
    "    dP=np.zeros_like(C)\n",
    "    dP[:,:]=2*np.einsum('ij,jk,lk->il',C,mo1,C[:,:nocc])\n",
    "    return dP+dP.T\n",
    "\n",
    "def make_U(mo1):\n",
    "    U=np.zeros((mo1.shape[0],mo1.shape[0]))\n",
    "    U[:,:mo1.shape[1]]=mo1\n",
    "    U=U-U.T\n",
    "    return U"
   ]
  },
  {
   "cell_type": "code",
   "execution_count": 48,
   "id": "874fa3c8",
   "metadata": {},
   "outputs": [],
   "source": [
    "import inspect\n",
    "import sys\n",
    "sys.path.append(\"../Libs\")\n",
    "from FcMole import FcM\n",
    "from FDcoeffs import get_coeffs\n",
    "from ao_scf import ao_RHF"
   ]
  },
  {
   "cell_type": "code",
   "execution_count": 139,
   "id": "e1783705",
   "metadata": {},
   "outputs": [
    {
     "name": "stdout",
     "output_type": "stream",
     "text": [
      "converged SCF energy = -108.867942022953\n",
      "converged SCF energy = -128.797709060453\n",
      "converged SCF energy = -92.2174104946117\n"
     ]
    }
   ],
   "source": [
    "nn=gto.M(atom=\"N 0 0 0; N 0 0 2.05\",unit=\"Bohr\",basis=bse.get_basis(\"6-31g\",fmt=\"nwchem\",elements=[6,7,8]))\n",
    "mf_nn=scf.RHF(nn)\n",
    "e_nn=mf_nn.scf()\n",
    "mf=mf_nn\n",
    "P_nn=mf_nn.make_rdm1()\n",
    "S_nn=mf_nn.get_ovlp()\n",
    "h1_nn=mf_nn.get_hcore()\n",
    "G_nn=nn.intor('int2e', aosym='s8')\n",
    "########\n",
    "on=gto.M(atom=\"O 0 0 0; N 0 0 2.05\",unit=\"Bohr\",basis=bse.get_basis(\"6-31g\",fmt=\"nwchem\",elements=[6,7,8]),\\\n",
    "           charge=1) # ON\n",
    "mf_on=scf.RHF(on)\n",
    "e_on=mf_on.scf()\n",
    "P_on=mf_on.make_rdm1()\n",
    "S_on=mf_on.get_ovlp()\n",
    "h1_on=mf_on.get_hcore()\n",
    "G_on=on.intor('int2e', aosym='s8')\n",
    "\n",
    "########\n",
    "cn=gto.M(atom=\"C 0 0 0; N 0 0 2.05\",unit=\"Bohr\",basis=bse.get_basis(\"6-31g\",fmt=\"nwchem\",elements=[6,7,8]),\\\n",
    "           charge=-1)# CN\n",
    "mf_cn=scf.RHF(cn)\n",
    "e_cn=mf_cn.scf()\n",
    "P_cn=mf_cn.make_rdm1()\n",
    "S_cn=mf_cn.get_ovlp()\n",
    "h1_cn=mf_cn.get_hcore()\n",
    "G_cn=cn.intor('int2e', aosym='s8')\n"
   ]
  },
  {
   "cell_type": "code",
   "execution_count": 64,
   "id": "1d204234",
   "metadata": {},
   "outputs": [],
   "source": [
    "dS=(S_on-S_cn)/2\n",
    "dh1=(h1_on-h1_cn)/2\n",
    "dG=(G_on-G_cn)/2\n",
    "dVnn=(8*7-7*7)/2.05\n",
    "d2S=(mf_on.get_ovlp()+mf_cn.get_ovlp()-2*mf.get_ovlp())\n",
    "d2h1=(mf_on.get_hcore()+mf_cn.get_hcore()-2*mf.get_hcore())\n",
    "d2G=(G_on+G_cn-2*G_nn)\n",
    "dG4d=(on.intor('int2e')-cn.intor('int2e'))/2"
   ]
  },
  {
   "cell_type": "code",
   "execution_count": 83,
   "id": "f6cdbc88",
   "metadata": {},
   "outputs": [
    {
     "name": "stdout",
     "output_type": "stream",
     "text": [
      "converged SCF energy = -109.78516197393\n",
      "converged SCF energy = -107.959073811474\n"
     ]
    }
   ],
   "source": [
    "def E(l):\n",
    "    return ao_RHF(FcM_like(nn,fcs=[l,0]),S_ao=S_nn+dS*l+d2S*l**2/2,hcore=h1_nn+dh1*l+d2h1*l**2/2,\\\n",
    "                  eri=G_nn+dG*l+d2G*l**2/2).scf()\n",
    "def P(l):\n",
    "    mf=ao_RHF(FcM_like(nn,fcs=[l,0]),S_ao=S_nn+dS*l+d2S*l**2/2,hcore=h1_nn+dh1*l+d2h1*l**2/2,\\\n",
    "                  eri=G_nn+dG*l+d2G*l**2/2)\n",
    "    mf.scf()\n",
    "    return mf.make_rdm1()\n",
    "dP_fd=(P(.05)-P(-.05))/.1"
   ]
  },
  {
   "cell_type": "code",
   "execution_count": 9,
   "id": "955edf67",
   "metadata": {},
   "outputs": [],
   "source": [
    "import pyscf.hessian # needed to use hessian"
   ]
  },
  {
   "cell_type": "code",
   "execution_count": 84,
   "id": "75e0a4a5",
   "metadata": {},
   "outputs": [
    {
     "data": {
      "text/plain": [
       "1.8049740222041737"
      ]
     },
     "execution_count": 84,
     "metadata": {},
     "output_type": "execute_result"
    }
   ],
   "source": [
    "# This is a part of the gradient \n",
    "0.5*np.einsum(\"ij,kl,ijkl\",P_nn,P_nn,dG4d)-np.einsum(\"ik,jl,ijkl\",P_nn,P_nn,dG4d)/4"
   ]
  },
  {
   "cell_type": "code",
   "execution_count": 70,
   "id": "826a430b",
   "metadata": {},
   "outputs": [
    {
     "data": {
      "text/plain": [
       "array([[ 1.16938752e+00,  2.69419668e-01,  7.42084859e-02,\n",
       "         6.71411476e-18,  9.40318006e-18, -1.21628314e-02,\n",
       "         8.78841208e-18,  1.02727691e-17,  6.27375160e-04,\n",
       "         2.46108218e-04, -4.72027652e-02, -1.02305100e-01,\n",
       "         7.27887758e-18,  8.41816511e-18,  9.06439338e-02,\n",
       "         7.35799303e-18,  8.69061357e-18,  1.77648682e-01],\n",
       "       [ 2.69419668e-01,  7.20219137e-01,  2.95356262e-01,\n",
       "         2.18257440e-17,  1.91056283e-17, -6.61554194e-02,\n",
       "         1.95651621e-17,  2.05520074e-17, -4.73085020e-02,\n",
       "        -1.63113113e-01, -4.04435445e-01, -3.72215508e-01,\n",
       "         2.01403867e-17,  2.38595150e-17,  1.93451833e-01,\n",
       "         1.68761787e-17,  2.01823064e-17,  1.73626547e-01],\n",
       "       [ 7.42084859e-02,  2.95356262e-01,  4.60796373e-01,\n",
       "         1.01897571e-17,  4.99410443e-18, -6.33435929e-02,\n",
       "         4.17688623e-18,  1.71549987e-18,  1.46610595e-02,\n",
       "        -2.51506192e-02, -2.47381340e-02, -6.18243371e-02,\n",
       "         7.91029201e-18,  1.19489014e-17, -3.28168553e-01,\n",
       "         3.68570367e-18,  5.03035431e-18, -3.90771365e-01],\n",
       "       [ 6.71411476e-18,  2.18257440e-17,  1.01897571e-17,\n",
       "         8.61937615e-01, -2.45838487e-17,  1.21678054e-17,\n",
       "         8.97220309e-02, -1.47282116e-17,  1.86684956e-18,\n",
       "        -1.08358995e-18,  2.89324083e-18, -3.53826921e-18,\n",
       "        -2.78375066e-01, -2.21884767e-17, -1.78671600e-17,\n",
       "        -4.13448713e-01, -1.55150798e-17, -1.68471896e-17],\n",
       "       [ 9.40318006e-18,  1.91056283e-17,  4.99410443e-18,\n",
       "        -2.45000052e-17,  8.61937615e-01,  3.54216438e-18,\n",
       "        -1.40616024e-17,  8.97220309e-02,  4.93207355e-18,\n",
       "         4.06698841e-18,  8.75568110e-18, -1.09860656e-18,\n",
       "        -2.06869076e-17, -2.78375066e-01, -2.54332448e-17,\n",
       "        -1.42500188e-17, -4.13448713e-01, -1.93559887e-17],\n",
       "       [-1.21628314e-02, -6.61554194e-02, -6.33435929e-02,\n",
       "         1.21678054e-17,  3.54216438e-18,  7.82821605e-01,\n",
       "         1.91087210e-17, -2.38078642e-18,  3.50462912e-02,\n",
       "        -2.78416432e-01, -6.26083168e-01, -4.95830148e-01,\n",
       "         1.70546271e-17,  1.21724829e-17,  2.15516710e-01,\n",
       "         1.62435323e-17,  1.03344123e-17,  7.42638914e-02],\n",
       "       [ 8.78841208e-18,  1.95651621e-17,  4.17688623e-18,\n",
       "         8.97220309e-02, -1.40314833e-17,  1.91087210e-17,\n",
       "         4.24667344e-01, -3.92411585e-18,  5.54957765e-18,\n",
       "         2.35363069e-19, -6.84776625e-19, -9.67252776e-18,\n",
       "         1.05868680e-01, -3.09385646e-18, -1.95077592e-17,\n",
       "        -5.03596464e-02, -1.96871325e-18, -1.50695049e-17],\n",
       "       [ 1.02727691e-17,  2.05520074e-17,  1.71549987e-18,\n",
       "        -1.46974876e-17,  8.97220309e-02, -2.38078642e-18,\n",
       "        -3.91638452e-18,  4.24667344e-01,  4.98329371e-19,\n",
       "         3.11688590e-18,  1.05950214e-17, -1.55556021e-18,\n",
       "        -1.66472037e-18,  1.05868680e-01, -1.83456354e-17,\n",
       "        -2.01930169e-19, -5.03596464e-02, -1.40503976e-17],\n",
       "       [ 6.27375160e-04, -4.73085020e-02,  1.46610595e-02,\n",
       "         1.86684956e-18,  4.93207355e-18,  3.50462912e-02,\n",
       "         5.54957765e-18,  4.98329371e-19,  4.45777032e-01,\n",
       "         1.01198213e-01,  2.42164843e-01, -3.81369334e-02,\n",
       "         4.57985489e-18,  7.71703460e-18, -6.11577656e-01,\n",
       "         4.16896496e-18,  3.63458015e-18, -4.25820779e-01],\n",
       "       [ 2.46108218e-04, -1.63113113e-01, -2.51506192e-02,\n",
       "        -1.08358995e-18,  4.06698841e-18, -2.78416432e-01,\n",
       "         2.35363069e-19,  3.11688590e-18,  1.01198213e-01,\n",
       "        -8.33757968e-02, -1.13729408e-02, -8.88878617e-03,\n",
       "        -7.54318150e-19,  3.23959621e-18, -1.01394483e-02,\n",
       "        -2.43007911e-18,  2.68486680e-18, -5.68714172e-03],\n",
       "       [-4.72027652e-02, -4.04435445e-01, -2.47381340e-02,\n",
       "         2.89324083e-18,  8.75568110e-18, -6.26083168e-01,\n",
       "        -6.84776625e-19,  1.05950214e-17,  2.42164843e-01,\n",
       "        -1.13729408e-02, -2.59142746e-02, -1.25068607e-02,\n",
       "         2.26880238e-19,  8.43595261e-18, -5.47436943e-02,\n",
       "        -3.16543463e-18,  4.29222327e-18, -3.94336119e-02],\n",
       "       [-1.02305100e-01, -3.72215508e-01, -6.18243371e-02,\n",
       "        -3.53826921e-18, -1.09860656e-18, -4.95830148e-01,\n",
       "        -9.67252776e-18, -1.55556021e-18, -3.81369334e-02,\n",
       "        -8.88878617e-03, -1.25068607e-02, -1.21959767e-02,\n",
       "        -9.93608555e-18, -4.12166145e-18, -5.38917293e-02,\n",
       "        -9.05305851e-18, -4.92379506e-18, -5.75572129e-02],\n",
       "       [ 7.27887758e-18,  2.01403867e-17,  7.91029201e-18,\n",
       "        -2.78375066e-01, -2.06740399e-17,  1.70546271e-17,\n",
       "         1.05868680e-01, -1.68491536e-18,  4.57985489e-18,\n",
       "        -7.54318150e-19,  2.26880238e-19, -9.93608555e-18,\n",
       "        -5.14204675e-02, -9.54953058e-18, -2.21367570e-17,\n",
       "        -1.08088113e-02, -1.05005795e-17, -2.00881322e-17],\n",
       "       [ 8.41816511e-18,  2.38595150e-17,  1.19489014e-17,\n",
       "        -2.21765362e-17, -2.78375066e-01,  1.21724829e-17,\n",
       "        -3.04017000e-18,  1.05868680e-01,  7.71703460e-18,\n",
       "         3.23959621e-18,  8.43595261e-18, -4.12166145e-18,\n",
       "        -9.44515411e-18, -5.14204675e-02, -2.56150897e-17,\n",
       "        -9.62352349e-18, -1.08088113e-02, -2.47617379e-17],\n",
       "       [ 9.06439338e-02,  1.93451833e-01, -3.28168553e-01,\n",
       "        -1.78671600e-17, -2.54332448e-17,  2.15516710e-01,\n",
       "        -1.95077592e-17, -1.83456354e-17, -6.11577656e-01,\n",
       "        -1.01394483e-02, -5.47436943e-02, -5.38917293e-02,\n",
       "        -2.21367570e-17, -2.56150897e-17, -2.26028747e-02,\n",
       "        -1.92023218e-17, -2.71888057e-17,  6.80976486e-04],\n",
       "       [ 7.35799303e-18,  1.68761787e-17,  3.68570367e-18,\n",
       "        -4.13448713e-01, -1.42385160e-17,  1.62435323e-17,\n",
       "        -5.03596464e-02, -2.33763168e-19,  4.16896496e-18,\n",
       "        -2.43007911e-18, -3.16543463e-18, -9.05305851e-18,\n",
       "        -1.08088113e-02, -9.72267632e-18, -1.92023218e-17,\n",
       "        -2.39610836e-02, -7.73350548e-18, -1.36378654e-17],\n",
       "       [ 8.69061357e-18,  2.01823064e-17,  5.03035431e-18,\n",
       "        -1.54743939e-17, -4.13448713e-01,  1.03344123e-17,\n",
       "        -1.91123126e-18, -5.03596464e-02,  3.63458015e-18,\n",
       "         2.68486680e-18,  4.29222327e-18, -4.92379506e-18,\n",
       "        -1.03973974e-17, -1.08088113e-02, -2.71888057e-17,\n",
       "        -7.63170701e-18, -2.39610836e-02, -1.96581022e-17],\n",
       "       [ 1.77648682e-01,  1.73626547e-01, -3.90771365e-01,\n",
       "        -1.68471896e-17, -1.93559887e-17,  7.42638914e-02,\n",
       "        -1.50695049e-17, -1.40503976e-17, -4.25820779e-01,\n",
       "        -5.68714172e-03, -3.94336119e-02, -5.75572129e-02,\n",
       "        -2.00881322e-17, -2.47617379e-17,  6.80976486e-04,\n",
       "        -1.36378654e-17, -1.96581022e-17,  9.77644295e-03]])"
      ]
     },
     "execution_count": 70,
     "metadata": {},
     "output_type": "execute_result"
    }
   ],
   "source": [
    "(np.einsum(\"kl,ijkl->ij\",P_nn,dG4d)-np.einsum(\"jl,ijkl->ik\",P_nn,dG4d)/2)"
   ]
  },
  {
   "cell_type": "code",
   "execution_count": 127,
   "id": "279efc46",
   "metadata": {},
   "outputs": [],
   "source": [
    "# qui h1ao e' la somma del contributo di h monoelectr + V eff (da operatori bielettronici)\n",
    "h1_ao=dh1+np.einsum(\"kl,ijkl->ij\",P_nn,dG4d)-np.einsum(\"jl,ijkl->ik\",P_nn,dG4d)/2"
   ]
  },
  {
   "cell_type": "code",
   "execution_count": 134,
   "id": "dffc351e",
   "metadata": {},
   "outputs": [
    {
     "data": {
      "text/plain": [
       "-0.7066089954695508"
      ]
     },
     "execution_count": 134,
     "metadata": {},
     "output_type": "execute_result"
    }
   ],
   "source": [
    "numpy.einsum('pq,pq', h1_ao, dP_fd)"
   ]
  },
  {
   "cell_type": "code",
   "execution_count": 133,
   "id": "3cb5956e",
   "metadata": {},
   "outputs": [],
   "source": [
    "mol=nn\n",
    "max_memory=4000\n",
    "verbose=None\n",
    "mo_energy = mf.mo_energy\n",
    "mo_occ = mf.mo_occ\n",
    "mo_coeff = mf.mo_coeff\n",
    "mocc = mo_coeff[:,mo_occ>0]\n",
    "atmlst = range(mol.natm)\n",
    "log = logger.new_logger(h_nn, 1)\n",
    "#mo1, mo_e1 = pyscf.hessian.rhf.solve_mo1(mf,mo_energy, mo_coeff, mo_occ, h1_ao,None, atmlst, max_memory, log)\n",
    "#mo1_2, mo_e1 = pyscf.hessian.rhf.solve_mo1(mf,mo_energy, mo_coeff, mo_occ, h1ao,None, atmlst, max_memory, log)"
   ]
  },
  {
   "cell_type": "markdown",
   "id": "bdc61b5a",
   "metadata": {},
   "source": [
    "Solve_mo1\n",
    "    atmlst = range(mol.natm)\n",
    "    nao, nmo = mo_coeff.shape\n",
    "    mocc = mo_coeff[:,mo_occ>0]\n",
    "    nocc = mocc.shape[1]\n",
    "\n",
    "    fx = gen_vind(mf, mo_coeff, mo_occ)\n",
    "    s1a = -mol.intor('int1e_ipovlp', comp=3)\n",
    "\n",
    "    def _ao2mo(mat):\n",
    "        return numpy.asarray([reduce(numpy.dot, (mo_coeff.T, x, mocc)) for x in mat])\n",
    "\n",
    "    mem_now = lib.current_memory()[0]\n",
    "    max_memory = max(2000, max_memory*.9-mem_now)\n",
    "    blksize = max(2, int(max_memory*1e6/8 / (nmo*nocc*3*6)))\n",
    "    mo1s = [None] * mol.natm\n",
    "    e1s = [None] * mol.natm\n",
    "    aoslices = mol.aoslice_by_atom()\n",
    "    for ia0, ia1 in lib.prange(0, len(atmlst), blksize):   #solo per non andare fuori memoria\n",
    "        s1vo = []\n",
    "        h1vo = []\n",
    "        for i0 in range(ia0, ia1):\n",
    "            ia = atmlst[i0]\n",
    "            shl0, shl1, p0, p1 = aoslices[ia]\n",
    "            s1ao = numpy.zeros((3,nao,nao))\n",
    "            s1ao[:,p0:p1] += s1a[:,p0:p1]\n",
    "            s1ao[:,:,p0:p1] += s1a[:,p0:p1].transpose(0,2,1)\n",
    "            s1vo.append(_ao2mo(s1ao))\n",
    "            h1ao = h1ao_or_chkfile[ia]\n",
    "            h1vo.append(_ao2mo(h1ao))\n",
    "\n",
    "        h1vo = numpy.vstack(h1vo)\n",
    "        s1vo = numpy.vstack(s1vo)\n",
    "        mo1, e1 = cphf.solve(fx, mo_energy, mo_occ, h1vo, s1vo)\n",
    "        mo1 = numpy.einsum('pq,xqi->xpi', mo_coeff, mo1).reshape(-1,3,nao,nocc)\n",
    "        e1 = e1.reshape(-1,3,nocc,nocc)\n",
    "\n",
    "        for k in range(ia1-ia0):\n",
    "            ia = atmlst[k+ia0]\n",
    "            mo1s[ia] = mo1[k]\n",
    "            e1s[ia] = e1[k].reshape(3,nocc,nocc)\n",
    "        mo1 = e1 = None\n",
    "    else:\n",
    "        return mo1s, e1s\n"
   ]
  },
  {
   "cell_type": "code",
   "execution_count": 141,
   "id": "8cdd67c3",
   "metadata": {},
   "outputs": [],
   "source": [
    "def _ao2mo(mat):\n",
    "    return np.asarray([reduce(numpy.dot, (mo_coeff.T, x, mocc)) for x in mat])\n",
    "h1vo=_ao2mo(h1_ao)\n",
    "s1vo=_ao2mo(dS)"
   ]
  },
  {
   "cell_type": "code",
   "execution_count": 163,
   "id": "d968fff8",
   "metadata": {},
   "outputs": [],
   "source": [
    "def gen_vind(mf, mo_coeff, mo_occ):\n",
    "    nao, nmo = mo_coeff.shape\n",
    "    mocc = mo_coeff[:,mo_occ>0]\n",
    "    nocc = mocc.shape[1]\n",
    "    vresp = mf.gen_response(mo_coeff, mo_occ, hermi=1)\n",
    "    def fx(mo1):\n",
    "        mo1 = mo1.reshape(-1,nmo,nocc)\n",
    "        nset = len(mo1)\n",
    "        dm1 = numpy.empty((nset,nao,nao))\n",
    "        for i, x in enumerate(mo1):\n",
    "            dm = reduce(numpy.dot, (mo_coeff, x*2, mocc.T)) # *2 for double occupancy\n",
    "            dm1[i] = dm + dm.T\n",
    "        v1 = vresp(dm1)\n",
    "        v1vo = numpy.empty_like(mo1)\n",
    "        for i, x in enumerate(v1):\n",
    "            v1vo[i] = reduce(numpy.dot, (mo_coeff.T, x, mocc))\n",
    "        return v1vo\n",
    "    return fx"
   ]
  },
  {
   "cell_type": "code",
   "execution_count": 165,
   "id": "4ed22bae",
   "metadata": {},
   "outputs": [],
   "source": [
    "fx = gen_vind(mf, mo_coeff, mo_occ)"
   ]
  },
  {
   "cell_type": "code",
   "execution_count": 185,
   "id": "b7908a35",
   "metadata": {},
   "outputs": [],
   "source": [
    "mo1, e1 = cphf.solve(fx, mo_energy, mo_occ, h1vo, s1vo)\n",
    "mo1 = numpy.einsum('pq,qi->pi', mo_coeff, mo1).reshape(nao,nocc)\n",
    "dm1 = numpy.einsum('pi,qi->pq', mo1, mocc)*4"
   ]
  },
  {
   "cell_type": "code",
   "execution_count": 188,
   "id": "a6207ee7",
   "metadata": {},
   "outputs": [
    {
     "data": {
      "text/plain": [
       "array([[-2.40558754e-01,  1.07636705e+00, -3.09961397e+00,\n",
       "         3.36931804e-01, -2.98018597e-01,  4.53974894e-01,\n",
       "         1.51772437e-01,  9.23010901e-01, -1.47264570e+00,\n",
       "         6.01935034e-01, -4.04216536e-01,  3.40049952e+00,\n",
       "         3.45772779e-01, -7.64354232e-01,  1.85032880e-01,\n",
       "         2.71501805e-01,  1.91307337e-01, -1.39041115e+00],\n",
       "       [ 1.07636705e+00, -2.62323461e+00,  4.79775323e-01,\n",
       "        -7.66982154e-01, -6.03760094e-01,  1.27345129e+00,\n",
       "        -2.78897648e-01, -1.18823593e+00,  2.27897429e+00,\n",
       "        -2.74750592e+00,  1.49591475e+00, -2.22507256e+00,\n",
       "        -7.45662249e-01, -3.06187557e-01, -4.78559610e-01,\n",
       "        -5.68375793e-01, -4.90586041e-01,  9.74557910e-01],\n",
       "       [-3.09961397e+00,  4.79775323e-01,  1.28091885e+01,\n",
       "         9.53734998e-01,  1.80442636e+00, -4.67023197e+00,\n",
       "         6.98424564e-01, -6.19127942e-01,  2.23577504e+00,\n",
       "         9.86240622e+00, -8.49176462e-01, -9.22001511e+00,\n",
       "         9.62700152e-01,  2.43259786e+00,  5.31110248e-01,\n",
       "         4.37225628e-01,  6.79925308e-01,  3.29600959e+00],\n",
       "       [ 3.36931804e-01, -7.66982154e-01,  9.53734998e-01,\n",
       "         4.61436200e-01,  3.61056263e-03, -2.23176436e-01,\n",
       "        -5.18988825e-02, -1.06203432e-01,  6.13144574e-01,\n",
       "         1.42852334e+00,  9.09140239e-02, -1.09841747e+00,\n",
       "        -3.81915194e-02,  2.52929650e-01, -2.33523601e-01,\n",
       "         3.34029353e-01, -3.30272125e-01,  6.25209951e-01],\n",
       "       [-2.98018597e-01, -6.03760094e-01,  1.80442636e+00,\n",
       "         3.61056263e-03,  4.97573045e-01, -4.87207733e-01,\n",
       "         3.04398678e-01, -4.31532224e-01,  7.82950881e-01,\n",
       "         1.57437225e+00,  2.86245184e-01, -1.54516155e+00,\n",
       "        -1.14457710e-02,  6.86659986e-01,  6.97796162e-02,\n",
       "         1.22501068e-01,  1.42609354e-01,  7.87013698e-01],\n",
       "       [ 4.53974894e-01,  1.27345129e+00, -4.67023197e+00,\n",
       "        -2.23176436e-01, -4.87207733e-01,  4.65775028e-01,\n",
       "        -9.70047324e-02,  7.09615935e-01, -1.84213401e+00,\n",
       "        -1.52333818e+00, -2.58527702e-01,  4.19125051e+00,\n",
       "        -2.30684942e-01, -8.90995436e-01,  3.20666510e-01,\n",
       "        -2.57259438e-01, -6.30591219e-02, -1.56571471e+00],\n",
       "       [ 1.51772437e-01, -2.78897648e-01,  6.98424564e-01,\n",
       "        -5.18988825e-02,  3.04398678e-01, -9.70047324e-02,\n",
       "        -2.05447835e-01,  1.10672440e-01,  3.62877877e-01,\n",
       "        -1.82600936e+00, -1.68921835e-01, -9.16552042e-01,\n",
       "        -3.33788848e-01,  4.45064510e-01, -3.35540100e-01,\n",
       "         1.22928806e-02, -1.57471198e-02,  2.80328536e-01],\n",
       "       [ 9.23010901e-01, -1.18823593e+00, -6.19127942e-01,\n",
       "        -1.06203432e-01, -4.31532224e-01,  7.09615935e-01,\n",
       "         1.10672440e-01, -6.45329246e-01,  7.44822967e-01,\n",
       "        -2.58442488e+00,  4.30991091e-01, -3.83335685e-01,\n",
       "        -1.14698215e-01, -3.24849369e-01, -1.98976890e-01,\n",
       "         8.04580642e-03, -3.21398561e-01,  2.21743997e-01],\n",
       "       [-1.47264570e+00,  2.27897429e+00,  2.23577504e+00,\n",
       "         6.13144574e-01,  7.82950881e-01, -1.84213401e+00,\n",
       "         3.62877877e-01,  7.44822967e-01, -1.08418885e+00,\n",
       "         3.78014160e+00, -1.14929238e+00, -5.30954052e-01,\n",
       "         6.03032596e-01,  6.66610426e-01,  1.99345262e-01,\n",
       "         2.88763730e-01,  4.97684772e-01, -1.36852442e-01],\n",
       "       [ 6.01935034e-01, -2.74750592e+00,  9.86240622e+00,\n",
       "         1.42852334e+00,  1.57437225e+00, -1.52333818e+00,\n",
       "        -1.82600936e+00, -2.58442488e+00,  3.78014160e+00,\n",
       "        -4.54152892e-01,  1.11825211e+00, -1.06191249e+01,\n",
       "        -3.78670851e-01,  3.21760367e+00, -3.00152948e-01,\n",
       "         7.48719569e-01, -1.06048953e+00,  5.51005967e+00],\n",
       "       [-4.04216536e-01,  1.49591475e+00, -8.49176462e-01,\n",
       "         9.09140239e-02,  2.86245184e-01, -2.58527702e-01,\n",
       "        -1.68921835e-01,  4.30991091e-01, -1.14929238e+00,\n",
       "         1.11825211e+00, -6.59051299e-01,  1.12234656e+00,\n",
       "         4.72625600e-02,  1.46344331e-01, -2.54559416e-01,\n",
       "         1.66064181e-01,  2.09848591e-01, -7.12314951e-01],\n",
       "       [ 3.40049952e+00, -2.22507256e+00, -9.22001511e+00,\n",
       "        -1.09841747e+00, -1.54516155e+00,  4.19125051e+00,\n",
       "        -9.16552042e-01, -3.83335685e-01, -5.30954052e-01,\n",
       "        -1.06191249e+01,  1.12234656e+00,  5.70905716e+00,\n",
       "        -1.08451134e+00, -1.76933616e+00, -5.64292466e-01,\n",
       "        -2.98729721e-01, -7.40057631e-01, -1.83428784e+00],\n",
       "       [ 3.45772779e-01, -7.45662249e-01,  9.62700152e-01,\n",
       "        -3.81915194e-02, -1.14457710e-02, -2.30684942e-01,\n",
       "        -3.33788848e-01, -1.14698215e-01,  6.03032596e-01,\n",
       "        -3.78670851e-01,  4.72625600e-02, -1.08451134e+00,\n",
       "        -5.37819239e-01,  2.37873316e-01, -2.31553634e-01,\n",
       "         5.21393876e-02, -3.38766909e-01,  6.16271023e-01],\n",
       "       [-7.64354232e-01, -3.06187557e-01,  2.43259786e+00,\n",
       "         2.52929650e-01,  6.86659986e-01, -8.90995436e-01,\n",
       "         4.45064510e-01, -3.24849369e-01,  6.66610426e-01,\n",
       "         3.21760367e+00,  1.46344331e-01, -1.76933616e+00,\n",
       "         2.37873316e-01,  8.75746927e-01,  1.75497479e-01,\n",
       "         2.63166900e-01,  2.49292209e-01,  8.73936123e-01],\n",
       "       [ 1.85032880e-01, -4.78559610e-01,  5.31110248e-01,\n",
       "        -2.33523601e-01,  6.97796162e-02,  3.20666510e-01,\n",
       "        -3.35540100e-01, -1.98976890e-01,  1.99345262e-01,\n",
       "        -3.00152948e-01, -2.54559416e-01, -5.64292466e-01,\n",
       "        -2.31553634e-01,  1.75497479e-01, -2.43352924e-01,\n",
       "         1.50766668e-01, -1.27569701e-02,  1.64444500e-01],\n",
       "       [ 2.71501805e-01, -5.68375793e-01,  4.37225628e-01,\n",
       "         3.34029353e-01,  1.22501068e-01, -2.57259438e-01,\n",
       "         1.22928806e-02,  8.04580642e-03,  2.88763730e-01,\n",
       "         7.48719569e-01,  1.66064181e-01, -2.98729721e-01,\n",
       "         5.21393876e-02,  2.63166900e-01,  1.50766668e-01,\n",
       "         2.30033596e-01, -1.18373753e-01,  4.34125136e-01],\n",
       "       [ 1.91307337e-01, -4.90586041e-01,  6.79925308e-01,\n",
       "        -3.30272125e-01,  1.42609354e-01, -6.30591219e-02,\n",
       "        -1.57471198e-02, -3.21398561e-01,  4.97684772e-01,\n",
       "        -1.06048953e+00,  2.09848591e-01, -7.40057631e-01,\n",
       "        -3.38766909e-01,  2.49292209e-01, -1.27569701e-02,\n",
       "        -1.18373753e-01,  2.53212423e-03,  3.92101501e-01],\n",
       "       [-1.39041115e+00,  9.74557910e-01,  3.29600959e+00,\n",
       "         6.25209951e-01,  7.87013698e-01, -1.56571471e+00,\n",
       "         2.80328536e-01,  2.21743997e-01, -1.36852442e-01,\n",
       "         5.51005967e+00, -7.12314951e-01, -1.83428784e+00,\n",
       "         6.16271023e-01,  8.73936123e-01,  1.64444500e-01,\n",
       "         4.34125136e-01,  3.92101501e-01,  5.53447397e-01]])"
      ]
     },
     "execution_count": 188,
     "metadata": {},
     "output_type": "execute_result"
    }
   ],
   "source": [
    "make_dP(mf,mo1)"
   ]
  },
  {
   "cell_type": "code",
   "execution_count": 186,
   "id": "d5b45380",
   "metadata": {},
   "outputs": [
    {
     "data": {
      "text/plain": [
       "(-0.7066089954695508, 0.4353498064720487)"
      ]
     },
     "execution_count": 186,
     "metadata": {},
     "output_type": "execute_result"
    }
   ],
   "source": [
    "numpy.einsum('pq,pq', h1_ao, dP_fd),numpy.einsum('pq,pq', h1_ao, dm1)"
   ]
  },
  {
   "cell_type": "code",
   "execution_count": null,
   "id": "5992d95f",
   "metadata": {},
   "outputs": [],
   "source": []
  }
 ],
 "metadata": {
  "kernelspec": {
   "display_name": "Python 3",
   "language": "python",
   "name": "python3"
  },
  "language_info": {
   "codemirror_mode": {
    "name": "ipython",
    "version": 3
   },
   "file_extension": ".py",
   "mimetype": "text/x-python",
   "name": "python",
   "nbconvert_exporter": "python",
   "pygments_lexer": "ipython3",
   "version": "3.8.8"
  }
 },
 "nbformat": 4,
 "nbformat_minor": 5
}
