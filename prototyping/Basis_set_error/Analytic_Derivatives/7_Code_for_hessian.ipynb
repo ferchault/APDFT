{
 "cells": [
  {
   "cell_type": "code",
   "execution_count": 1,
   "id": "5a53e1ff",
   "metadata": {},
   "outputs": [],
   "source": [
    "import basis_set_exchange as bse\n",
    "import scipy as sp\n",
    "import matplotlib.pyplot as plt\n",
    "from pyscf import gto,scf\n",
    "import copy\n",
    "import numpy as np\n",
    "import scipy\n",
    "from scipy.interpolate import interp1d\n",
    "from pyscf.data.elements import _symbol\n",
    "from pyscf.grad import RHF as g\n",
    "import inspect\n",
    "import sys\n",
    "sys.path.append(\"../Libs\")\n",
    "from FcMole import FcM,FcM_like\n",
    "from FDcoeffs import get_coeffs\n",
    "from ao_scf import ao_RHF\n",
    "from numpy.linalg import norm"
   ]
  },
  {
   "cell_type": "code",
   "execution_count": 2,
   "id": "a3f944e9",
   "metadata": {},
   "outputs": [],
   "source": [
    "from functools import reduce\n",
    "import ctypes\n",
    "\n",
    "import numpy\n",
    "from pyscf import lib\n",
    "from pyscf import gto\n",
    "from pyscf.lib import logger\n",
    "from pyscf.scf import _vhf\n",
    "from pyscf.scf import cphf\n",
    "\n",
    "# import _response_functions to load gen_response methods in SCF class\n",
    "from pyscf.scf import _response_functions  # noqa\n",
    "# import pyscf.grad.rhf to activate nuc_grad_method method\n",
    "from pyscf.grad import rhf  # noqa"
   ]
  },
  {
   "cell_type": "code",
   "execution_count": 3,
   "id": "f34da51a",
   "metadata": {},
   "outputs": [],
   "source": [
    "def make_dP(mf,mo1):\n",
    "    mol=mf.mol\n",
    "    nao=mol.nao\n",
    "    nocc=mf.mol.nelec[0]\n",
    "    C=mf.mo_coeff\n",
    "    dP=np.zeros_like(C)\n",
    "    dP[:,:]=2*np.einsum('ij,jk,lk->il',C,mo1,C[:,:nocc])\n",
    "    return dP+dP.T\n",
    "\n",
    "def make_U(mo1):\n",
    "    U=np.zeros((mo1.shape[0],mo1.shape[0]))\n",
    "    U[:,:mo1.shape[1]]=mo1\n",
    "    U=U-U.T\n",
    "    return U"
   ]
  },
  {
   "cell_type": "code",
   "execution_count": 4,
   "id": "e1783705",
   "metadata": {},
   "outputs": [
    {
     "name": "stdout",
     "output_type": "stream",
     "text": [
      "converged SCF energy = -108.867942022953\n",
      "converged SCF energy = -108.867568454253\n",
      "converged SCF energy = -108.866574610557\n"
     ]
    }
   ],
   "source": [
    "nn=gto.M(atom=\"N 0 0 0; N 0 0 2.05\",unit=\"Bohr\",basis=bse.get_basis(\"6-31g\",fmt=\"nwchem\",elements=[6,7,8]))\n",
    "mf_nn=scf.RHF(nn)\n",
    "e_nn=mf_nn.scf()\n",
    "P_nn=mf_nn.make_rdm1()\n",
    "########\n",
    "nn_p=gto.M(atom=\"N 0 0 0; N 0 0 2.08\",unit=\"Bohr\",basis=bse.get_basis(\"6-31g\",fmt=\"nwchem\",elements=[6,7,8]))\n",
    "mf_nn_p=scf.RHF(nn_p)\n",
    "e_nn_p=mf_nn_p.scf()\n",
    "P_nn_p=mf_nn_p.make_rdm1()\n",
    "########\n",
    "nn_m=gto.M(atom=\"N 0 0 0; N 0 0 2.02\",unit=\"Bohr\",basis=bse.get_basis(\"6-31g\",fmt=\"nwchem\",elements=[6,7,8]))\n",
    "mf_nn_m=scf.RHF(nn_m)\n",
    "e_nn_m=mf_nn_m.scf()\n",
    "P_nn_m=mf_nn_m.make_rdm1()"
   ]
  },
  {
   "cell_type": "code",
   "execution_count": 5,
   "id": "955edf67",
   "metadata": {},
   "outputs": [],
   "source": [
    "import pyscf.hessian # needed to use hessian"
   ]
  },
  {
   "cell_type": "code",
   "execution_count": 6,
   "id": "981ba2da",
   "metadata": {},
   "outputs": [],
   "source": [
    "h_nn=mf_nn.Hessian()\n",
    "mf=mf_nn"
   ]
  },
  {
   "cell_type": "code",
   "execution_count": 7,
   "id": "f0184073",
   "metadata": {},
   "outputs": [
    {
     "data": {
      "text/plain": [
       "(array([[[[-7.57126845e-03, -4.05712870e-16,  3.28496673e-17],\n",
       "          [-3.50959275e-16, -7.57126845e-03,  9.85147828e-17],\n",
       "          [ 3.28496850e-17,  9.85147801e-17,  1.93288205e+00]],\n",
       " \n",
       "         [[ 7.57126845e-03,  3.47489828e-16, -3.28496850e-17],\n",
       "          [ 4.05712870e-16,  7.57126845e-03, -9.85147801e-17],\n",
       "          [-3.28496673e-17, -9.85147828e-17, -1.93288205e+00]]],\n",
       " \n",
       " \n",
       "        [[[ 7.57126845e-03,  4.05712870e-16, -3.28496673e-17],\n",
       "          [ 3.47489828e-16,  7.57126845e-03, -9.85147828e-17],\n",
       "          [-3.28496850e-17, -9.85147801e-17, -1.93288205e+00]],\n",
       " \n",
       "         [[-7.57126845e-03, -4.57237690e-16,  3.28496673e-17],\n",
       "          [-4.22955283e-16, -7.57126845e-03,  9.85147828e-17],\n",
       "          [ 3.28496851e-17,  9.85147801e-17,  1.93288205e+00]]]]),\n",
       " 1.9328820507357864)"
      ]
     },
     "execution_count": 7,
     "metadata": {},
     "output_type": "execute_result"
    }
   ],
   "source": [
    "h_nn.hess(),h_nn.hess()[1,1,2,2]"
   ]
  },
  {
   "cell_type": "code",
   "execution_count": 8,
   "id": "5f19c5c3",
   "metadata": {},
   "outputs": [
    {
     "data": {
      "text/plain": [
       "1.9344234398330526"
      ]
     },
     "execution_count": 8,
     "metadata": {},
     "output_type": "execute_result"
    }
   ],
   "source": [
    "(e_nn_p+e_nn_m-2*e_nn)/.03**2"
   ]
  },
  {
   "cell_type": "code",
   "execution_count": 9,
   "id": "1d204234",
   "metadata": {},
   "outputs": [],
   "source": [
    "dP_fd=(P_nn_p-P_nn_m)/.06\n",
    "dh1=(mf_nn_p.get_hcore()-mf_nn_m.get_hcore())/.06\n",
    "dS=(mf_nn_p.get_ovlp()-mf_nn_m.get_ovlp())/.06\n",
    "dG4d=(nn_p.intor('int2e')-nn_m.intor('int2e'))/.06"
   ]
  },
  {
   "cell_type": "code",
   "execution_count": 10,
   "id": "496a6741",
   "metadata": {},
   "outputs": [
    {
     "data": {
      "text/plain": [
       "True"
      ]
     },
     "execution_count": 10,
     "metadata": {},
     "output_type": "execute_result"
    }
   ],
   "source": [
    "np.allclose(h_nn.base.nuc_grad_method().hcore_generator(nn)(1)[2],dh1,atol=1e-2)"
   ]
  },
  {
   "cell_type": "code",
   "execution_count": 15,
   "id": "5f9eaae0",
   "metadata": {},
   "outputs": [
    {
     "data": {
      "text/plain": [
       "True"
      ]
     },
     "execution_count": 15,
     "metadata": {},
     "output_type": "execute_result"
    }
   ],
   "source": [
    "h_nn.make_h1(mf_nn.mo_coeff,mf_nn.mo_occ)[1][1].shape # list (natm,(xyz))\n",
    "# make_h1 is made by two part one is hcore_generator the other is \n",
    "hessobj=h_nn\n",
    "log = logger.new_logger(hessobj, 1)\n",
    "max_memory=4000\n",
    "mol = hessobj.mol\n",
    "atmlst = range(mol.natm)\n",
    "mo_coeff=mf.mo_coeff\n",
    "mo_occ=mf.mo_occ\n",
    "nao, nmo = mo_coeff.shape\n",
    "mocc = mo_coeff[:,mo_occ>0]\n",
    "dm0 = numpy.dot(mocc, mocc.T) * 2\n",
    "hcore_deriv = hessobj.base.nuc_grad_method().hcore_generator(mol)\n",
    "\n",
    "aoslices = mol.aoslice_by_atom()\n",
    "h1ao = [None] * mol.natm\n",
    "for i0, ia in enumerate(atmlst):\n",
    "    shl0, shl1, p0, p1 = aoslices[ia]\n",
    "    shls_slice = (shl0, shl1) + (0, mol.nbas)*3\n",
    "    vj1, vj2, vk1, vk2 = pyscf.hessian.rhf._get_jk(mol, 'int2e_ip1', 3, 's2kl',\n",
    "                                 ['ji->s2kl', -dm0[:,p0:p1],  # vj1\n",
    "                                  'lk->s1ij', -dm0         ,  # vj2\n",
    "                                  'li->s1kj', -dm0[:,p0:p1],  # vk1\n",
    "                                  'jk->s1il', -dm0         ], # vk2\n",
    "                                 shls_slice=shls_slice)\n",
    "    vhf = vj1 - vk1*.5\n",
    "    vhf[:,p0:p1] += vj2 - vk2*.5\n",
    "    h1 = vhf + vhf.transpose(0,2,1)\n",
    "    h1 += hcore_deriv(ia)\n",
    "np.allclose(h1,h_nn.make_h1(mf_nn.mo_coeff,mf_nn.mo_occ)[1],atol=1e-3)"
   ]
  },
  {
   "cell_type": "code",
   "execution_count": 16,
   "id": "3dcad347",
   "metadata": {},
   "outputs": [
    {
     "data": {
      "text/plain": [
       "((3, 18, 18), (3, 18, 18))"
      ]
     },
     "execution_count": 16,
     "metadata": {},
     "output_type": "execute_result"
    }
   ],
   "source": [
    "h1.shape,h_nn.make_h1(mf_nn.mo_coeff,mf_nn.mo_occ)[0].shape"
   ]
  },
  {
   "cell_type": "code",
   "execution_count": 17,
   "id": "75e0a4a5",
   "metadata": {},
   "outputs": [
    {
     "data": {
      "text/plain": [
       "(-15.387308354055394, 1.1783956043743202)"
      ]
     },
     "execution_count": 17,
     "metadata": {},
     "output_type": "execute_result"
    }
   ],
   "source": [
    "# This is a part of the gradient \n",
    "0.5*np.einsum(\"ij,kl,ijkl\",P_nn,P_nn,dG4d),-np.einsum(\"ik,jl,ijkl\",P_nn,P_nn,dG4d)/4"
   ]
  },
  {
   "cell_type": "code",
   "execution_count": 18,
   "id": "a9ded314",
   "metadata": {},
   "outputs": [
    {
     "data": {
      "text/plain": [
       "(array([[-2.05796760e+00, -4.13168917e-01, -3.21666247e-01,\n",
       "          5.77134452e-17,  1.10805905e-18, -5.54688441e-02,\n",
       "          6.94019915e-17, -2.40415728e-18,  2.25745403e-02,\n",
       "          1.92823475e-03, -7.69270706e-01, -7.58803854e-01,\n",
       "          4.90480821e-17,  1.56762622e-20,  1.42033073e+00,\n",
       "          5.35024376e-17, -1.83113514e-18,  7.38910318e-01],\n",
       "        [-4.13168917e-01, -1.60182021e+00, -1.14197023e+00,\n",
       "          1.40237265e-16, -6.77536681e-18, -3.26823919e-01,\n",
       "          1.74197337e-16, -1.80937482e-17, -1.28021381e-01,\n",
       "         -7.69270706e-01, -3.42559020e+00, -2.65547498e+00,\n",
       "          1.39936069e-16, -1.33396355e-17,  3.86969860e+00,\n",
       "          1.40565891e-16, -1.25822820e-17,  1.57654358e+00],\n",
       "        [-3.21666247e-01, -1.14197023e+00, -1.10150896e+00,\n",
       "          1.38235925e-16, -1.98214205e-17, -2.59476156e-01,\n",
       "          1.10673992e-16, -2.62287923e-17, -9.42574788e-02,\n",
       "         -7.58803854e-01, -2.65547498e+00, -2.51793216e+00,\n",
       "          1.05775360e-16, -3.74173653e-17,  1.11042484e+00,\n",
       "          1.02872498e-16, -2.84357646e-17,  4.16093401e-01],\n",
       "        [ 5.77134452e-17,  1.40237265e-16,  1.38235925e-16,\n",
       "         -1.52706344e+00,  8.17254970e-18, -9.97139645e-17,\n",
       "         -5.88569793e-01,  1.00057902e-17, -2.04137451e-16,\n",
       "         -4.66363501e-17, -1.59832423e-16, -1.12428629e-16,\n",
       "         -2.16399680e+00,  2.65863955e-17, -5.15876753e-17,\n",
       "         -1.58299897e+00,  4.07011223e-17, -1.69771921e-16],\n",
       "        [ 1.10805905e-18, -6.77536681e-18, -1.98214205e-17,\n",
       "          8.17254970e-18, -1.52706344e+00,  3.26121950e-17,\n",
       "          3.85966194e-19, -5.88569793e-01,  2.42459947e-17,\n",
       "         -3.76630523e-18,  2.14254612e-17, -4.96772450e-18,\n",
       "          3.87755768e-17, -2.16399680e+00,  2.17695060e-17,\n",
       "          6.46631045e-17, -1.58299897e+00,  7.29950586e-17],\n",
       "        [-5.54688441e-02, -3.26823919e-01, -2.59476156e-01,\n",
       "         -9.97139645e-17,  3.26121950e-17, -1.70660292e+00,\n",
       "         -9.44771711e-17,  2.21936266e-17, -7.84201121e-01,\n",
       "         -1.42033073e+00, -3.86969860e+00, -1.11042484e+00,\n",
       "         -9.52091225e-17,  7.60627024e-18,  2.93542934e+00,\n",
       "         -9.45367951e-17,  7.06660559e-18, -1.69519302e+00],\n",
       "        [ 6.94019915e-17,  1.74197337e-16,  1.10673992e-16,\n",
       "         -5.88569793e-01,  3.85966194e-19, -9.44771711e-17,\n",
       "         -7.28908005e-01,  4.31549447e-18, -1.65245862e-16,\n",
       "         -5.90619384e-17, -1.56526428e-16, -1.08595984e-16,\n",
       "         -1.58299897e+00,  1.51123953e-17, -6.06030215e-17,\n",
       "         -1.99203378e+00,  2.44231332e-17, -1.66796019e-16],\n",
       "        [-2.40415728e-18, -1.80937482e-17, -2.62287923e-17,\n",
       "          1.00057902e-17, -5.88569793e-01,  2.21936266e-17,\n",
       "          4.31549447e-18, -7.28908005e-01,  1.80387058e-17,\n",
       "         -9.53877164e-19,  7.98139425e-18, -9.56475124e-18,\n",
       "          3.48796749e-17, -1.58299897e+00,  2.43822593e-17,\n",
       "          5.54572353e-17, -1.99203378e+00,  5.90040387e-17],\n",
       "        [ 2.25745403e-02, -1.28021381e-01, -9.42574788e-02,\n",
       "         -2.04137451e-16,  2.42459947e-17, -7.84201121e-01,\n",
       "         -1.65245862e-16,  1.80387058e-17, -7.54700011e-01,\n",
       "         -7.38910318e-01, -1.57654358e+00, -4.16093401e-01,\n",
       "         -1.76589095e-16,  2.52630269e-18, -1.69519302e+00,\n",
       "         -1.74920075e-16,  1.30535216e-17, -3.51308224e+00],\n",
       "        [ 1.92823475e-03, -7.69270706e-01, -7.58803854e-01,\n",
       "         -4.66363501e-17, -3.76630523e-18, -1.42033073e+00,\n",
       "         -5.90619384e-17, -9.53877164e-19, -7.38910318e-01,\n",
       "         -2.05796760e+00, -4.13168917e-01, -3.21666247e-01,\n",
       "         -4.36309565e-17, -5.55494233e-18,  5.54688441e-02,\n",
       "         -6.08914331e-17,  1.97681604e-18, -2.25745403e-02],\n",
       "        [-7.69270706e-01, -3.42559020e+00, -2.65547498e+00,\n",
       "         -1.59832423e-16,  2.14254612e-17, -3.86969860e+00,\n",
       "         -1.56526428e-16,  7.98139425e-18, -1.57654358e+00,\n",
       "         -4.13168917e-01, -1.60182021e+00, -1.14197023e+00,\n",
       "         -1.24503449e-16,  1.59855274e-17,  3.26823919e-01,\n",
       "         -1.63112847e-16,  2.56300025e-17,  1.28021381e-01],\n",
       "        [-7.58803854e-01, -2.65547498e+00, -2.51793216e+00,\n",
       "         -1.12428629e-16, -4.96772450e-18, -1.11042484e+00,\n",
       "         -1.08595984e-16, -9.56475124e-18, -4.16093401e-01,\n",
       "         -3.21666247e-01, -1.14197023e+00, -1.10150896e+00,\n",
       "         -1.13006753e-16,  5.09795978e-18,  2.59476156e-01,\n",
       "         -9.77842296e-17,  5.28565676e-18,  9.42574788e-02],\n",
       "        [ 4.90480821e-17,  1.39936069e-16,  1.05775360e-16,\n",
       "         -2.16399680e+00,  3.87755768e-17, -9.52091225e-17,\n",
       "         -1.58299897e+00,  3.48796749e-17, -1.76589095e-16,\n",
       "         -4.36309565e-17, -1.24503449e-16, -1.13006753e-16,\n",
       "         -1.52706344e+00,  3.95332158e-17, -6.72000112e-17,\n",
       "         -5.88569793e-01,  5.33887006e-17, -1.88648902e-16],\n",
       "        [ 1.56762622e-20, -1.33396355e-17, -3.74173653e-17,\n",
       "          2.65863955e-17, -2.16399680e+00,  7.60627024e-18,\n",
       "          1.51123953e-17, -1.58299897e+00,  2.52630269e-18,\n",
       "         -5.55494233e-18,  1.59855274e-17,  5.09795978e-18,\n",
       "          3.95332158e-17, -1.52706344e+00,  4.73195290e-17,\n",
       "          6.64456402e-17, -5.88569793e-01,  8.43947141e-17],\n",
       "        [ 1.42033073e+00,  3.86969860e+00,  1.11042484e+00,\n",
       "         -5.15876753e-17,  2.17695060e-17,  2.93542934e+00,\n",
       "         -6.06030215e-17,  2.43822593e-17, -1.69519302e+00,\n",
       "          5.54688441e-02,  3.26823919e-01,  2.59476156e-01,\n",
       "         -6.72000112e-17,  4.73195290e-17, -1.70660292e+00,\n",
       "         -5.85622363e-17,  4.49217825e-17, -7.84201121e-01],\n",
       "        [ 5.35024376e-17,  1.40565891e-16,  1.02872498e-16,\n",
       "         -1.58299897e+00,  6.46631045e-17, -9.45367951e-17,\n",
       "         -1.99203378e+00,  5.54572353e-17, -1.74920075e-16,\n",
       "         -6.08914331e-17, -1.63112847e-16, -9.77842296e-17,\n",
       "         -5.88569793e-01,  6.64456402e-17, -5.85622363e-17,\n",
       "         -7.28908005e-01,  6.85498644e-17, -1.45924946e-16],\n",
       "        [-1.83113514e-18, -1.25822820e-17, -2.84357646e-17,\n",
       "          4.07011223e-17, -1.58299897e+00,  7.06660559e-18,\n",
       "          2.44231332e-17, -1.99203378e+00,  1.30535216e-17,\n",
       "          1.97681604e-18,  2.56300025e-17,  5.28565676e-18,\n",
       "          5.33887006e-17, -5.88569793e-01,  4.49217825e-17,\n",
       "          6.85498644e-17, -7.28908005e-01,  6.86021860e-17],\n",
       "        [ 7.38910318e-01,  1.57654358e+00,  4.16093401e-01,\n",
       "         -1.69771921e-16,  7.29950586e-17, -1.69519302e+00,\n",
       "         -1.66796019e-16,  5.90040387e-17, -3.51308224e+00,\n",
       "         -2.25745403e-02,  1.28021381e-01,  9.42574788e-02,\n",
       "         -1.88648902e-16,  8.43947141e-17, -7.84201121e-01,\n",
       "         -1.45924946e-16,  6.86021860e-17, -7.54700011e-01]]),\n",
       " array([[-2.05791823e+00, -4.13122741e-01, -3.21640065e-01,\n",
       "          5.77021077e-17,  1.11368116e-18, -5.54458108e-02,\n",
       "          6.93834651e-17, -2.40120898e-18,  2.25745342e-02,\n",
       "          1.92674048e-03, -7.69872000e-01, -7.58788041e-01,\n",
       "          4.90388945e-17,  1.90763994e-20,  1.42088438e+00,\n",
       "          5.34851426e-17, -1.82857545e-18,  7.38679257e-01],\n",
       "        [-4.13122741e-01, -1.60167323e+00, -1.14183032e+00,\n",
       "          1.40233879e-16, -6.77840104e-18, -3.26821083e-01,\n",
       "          1.74164363e-16, -1.80948073e-17, -1.27980603e-01,\n",
       "         -7.69872000e-01, -3.42566703e+00, -2.65527261e+00,\n",
       "          1.39928256e-16, -1.33465990e-17,  3.86872774e+00,\n",
       "          1.40535333e-16, -1.25840139e-17,  1.57588731e+00],\n",
       "        [-3.21640065e-01, -1.14183032e+00, -1.10132169e+00,\n",
       "          1.38229260e-16, -1.98249773e-17, -2.59419144e-01,\n",
       "          1.10654039e-16, -2.62258784e-17, -9.41720020e-02,\n",
       "         -7.58788041e-01, -2.65527261e+00, -2.51766643e+00,\n",
       "          1.05764819e-16, -3.74130472e-17,  1.11007369e+00,\n",
       "          1.02853411e-16, -2.84306207e-17,  4.15759735e-01],\n",
       "        [ 5.77021077e-17,  1.40233879e-16,  1.38229260e-16,\n",
       "         -1.52689612e+00,  8.09601710e-18, -9.97499199e-17,\n",
       "         -5.88472789e-01,  1.02014297e-17, -2.04177120e-16,\n",
       "         -4.66346889e-17, -1.59819861e-16, -1.12413386e-16,\n",
       "         -2.16460090e+00,  2.67091079e-17, -5.16380702e-17,\n",
       "         -1.58286977e+00,  4.09102890e-17, -1.69831551e-16],\n",
       "        [ 1.11368116e-18, -6.77840104e-18, -1.98249773e-17,\n",
       "          7.52024846e-18, -1.52689612e+00,  3.26033109e-17,\n",
       "          2.89591629e-20, -5.88472789e-01,  2.42461409e-17,\n",
       "         -3.77290960e-18,  2.14127060e-17, -4.97465522e-18,\n",
       "          3.85717523e-17, -2.16460090e+00,  2.17734081e-17,\n",
       "          6.43961804e-17, -1.58286977e+00,  7.29968964e-17],\n",
       "        [-5.54458108e-02, -3.26821083e-01, -2.59419144e-01,\n",
       "         -9.97499199e-17,  3.26033109e-17, -1.70658816e+00,\n",
       "         -9.45004391e-17,  2.21863156e-17, -7.84093767e-01,\n",
       "         -1.42088438e+00, -3.86872774e+00, -1.11007369e+00,\n",
       "         -9.52428254e-17,  7.60317187e-18,  2.93305960e+00,\n",
       "         -9.45585321e-17,  7.06217946e-18, -1.69534753e+00],\n",
       "        [ 6.93834651e-17,  1.74164363e-16,  1.10654039e-16,\n",
       "         -5.88472789e-01,  4.51460407e-19, -9.45004391e-17,\n",
       "         -7.28770166e-01,  4.55475763e-18, -1.65263378e-16,\n",
       "         -5.90489569e-17, -1.56492842e-16, -1.08574673e-16,\n",
       "         -1.58286977e+00,  1.53092874e-17, -6.06373159e-17,\n",
       "         -1.99182350e+00,  2.47131562e-17, -1.66812610e-16],\n",
       "        [-2.40120898e-18, -1.80948073e-17, -2.62258784e-17,\n",
       "          9.54503935e-18, -5.88472789e-01,  2.21863156e-17,\n",
       "          4.06390124e-18, -7.28770166e-01,  1.80405577e-17,\n",
       "         -9.59328136e-19,  7.97503797e-18, -9.56652604e-18,\n",
       "          3.46637440e-17, -1.58286977e+00,  2.43797912e-17,\n",
       "          5.52153764e-17, -1.99182350e+00,  5.90005983e-17],\n",
       "        [ 2.25745342e-02, -1.27980603e-01, -9.41720020e-02,\n",
       "         -2.04177120e-16,  2.42461409e-17, -7.84093767e-01,\n",
       "         -1.65263378e-16,  1.80405577e-17, -7.54526942e-01,\n",
       "         -7.38679257e-01, -1.57588731e+00, -4.15759735e-01,\n",
       "         -1.76642817e-16,  2.54434178e-18, -1.69534753e+00,\n",
       "         -1.74934899e-16,  1.30588456e-17, -3.51278494e+00],\n",
       "        [ 1.92674048e-03, -7.69872000e-01, -7.58788041e-01,\n",
       "         -4.66346889e-17, -3.77290960e-18, -1.42088438e+00,\n",
       "         -5.90489569e-17, -9.59328136e-19, -7.38679257e-01,\n",
       "         -2.05791823e+00, -4.13122741e-01, -3.21640065e-01,\n",
       "         -4.36200520e-17, -5.56163073e-18,  5.54458108e-02,\n",
       "         -6.08779052e-17,  1.97129408e-18, -2.25745342e-02],\n",
       "        [-7.69872000e-01, -3.42566703e+00, -2.65527261e+00,\n",
       "         -1.59819861e-16,  2.14127060e-17, -3.86872774e+00,\n",
       "         -1.56492842e-16,  7.97503797e-18, -1.57588731e+00,\n",
       "         -4.13122741e-01, -1.60167323e+00, -1.14183032e+00,\n",
       "         -1.24498858e-16,  1.59845057e-17,  3.26821083e-01,\n",
       "         -1.63081585e-16,  2.56217713e-17,  1.27980603e-01],\n",
       "        [-7.58788041e-01, -2.65527261e+00, -2.51766643e+00,\n",
       "         -1.12413386e-16, -4.97465522e-18, -1.11007369e+00,\n",
       "         -1.08574673e-16, -9.56652604e-18, -4.15759735e-01,\n",
       "         -3.21640065e-01, -1.14183032e+00, -1.10132169e+00,\n",
       "         -1.13001534e-16,  5.09634481e-18,  2.59419144e-01,\n",
       "         -9.77657088e-17,  5.28232566e-18,  9.41720020e-02],\n",
       "        [ 4.90388945e-17,  1.39928256e-16,  1.05764819e-16,\n",
       "         -2.16460090e+00,  3.85575392e-17, -9.52428254e-17,\n",
       "         -1.58286977e+00,  3.49440464e-17, -1.76642817e-16,\n",
       "         -4.36200520e-17, -1.24498858e-16, -1.13001534e-16,\n",
       "         -1.52689612e+00,  3.95386593e-17, -6.72422989e-17,\n",
       "         -5.88472789e-01,  5.35523268e-17, -1.88687615e-16],\n",
       "        [ 1.90763994e-20, -1.33465990e-17, -3.74130472e-17,\n",
       "          2.59088532e-17, -2.16460090e+00,  7.60317187e-18,\n",
       "          1.47983851e-17, -1.58286977e+00,  2.54434178e-18,\n",
       "         -5.56163073e-18,  1.59845057e-17,  5.09634481e-18,\n",
       "          3.88720356e-17, -1.52689612e+00,  4.73198307e-17,\n",
       "          6.59196562e-17, -5.88472789e-01,  8.43979091e-17],\n",
       "        [ 1.42088438e+00,  3.86872774e+00,  1.11007369e+00,\n",
       "         -5.16380702e-17,  2.17734081e-17,  2.93305960e+00,\n",
       "         -6.06373159e-17,  2.43797912e-17, -1.69534753e+00,\n",
       "          5.54458108e-02,  3.26821083e-01,  2.59419144e-01,\n",
       "         -6.72422989e-17,  4.73198307e-17, -1.70658816e+00,\n",
       "         -5.85958558e-17,  4.49188359e-17, -7.84093767e-01],\n",
       "        [ 5.34851426e-17,  1.40535333e-16,  1.02853411e-16,\n",
       "         -1.58286977e+00,  6.46670713e-17, -9.45585321e-17,\n",
       "         -1.99182350e+00,  5.55441711e-17, -1.74934899e-16,\n",
       "         -6.08779052e-17, -1.63081585e-16, -9.77657088e-17,\n",
       "         -5.88472789e-01,  6.66145202e-17, -5.85958558e-17,\n",
       "         -7.28770166e-01,  6.87758926e-17, -1.45945737e-16],\n",
       "        [-1.82857545e-18, -1.25840139e-17, -2.84306207e-17,\n",
       "          4.04138137e-17, -1.58286977e+00,  7.06217946e-18,\n",
       "          2.42895279e-17, -1.99182350e+00,  1.30588456e-17,\n",
       "          1.97129408e-18,  2.56217713e-17,  5.28232566e-18,\n",
       "          5.30997003e-17, -5.88472789e-01,  4.49188359e-17,\n",
       "          6.83072248e-17, -7.28770166e-01,  6.85994809e-17],\n",
       "        [ 7.38679257e-01,  1.57588731e+00,  4.15759735e-01,\n",
       "         -1.69831551e-16,  7.29968964e-17, -1.69534753e+00,\n",
       "         -1.66812610e-16,  5.90005983e-17, -3.51278494e+00,\n",
       "         -2.25745342e-02,  1.27980603e-01,  9.41720020e-02,\n",
       "         -1.88687615e-16,  8.43979091e-17, -7.84093767e-01,\n",
       "         -1.45945737e-16,  6.85994809e-17, -7.54526942e-01]]))"
      ]
     },
     "execution_count": 18,
     "metadata": {},
     "output_type": "execute_result"
    }
   ],
   "source": [
    "(vhf + vhf.transpose(0,2,1))[2],np.einsum(\"kl,ijkl->ij\",P_nn,dG4d)-np.einsum(\"jl,ijkl->ik\",P_nn,dG4d)/2"
   ]
  },
  {
   "cell_type": "code",
   "execution_count": 19,
   "id": "826a430b",
   "metadata": {},
   "outputs": [
    {
     "data": {
      "text/plain": [
       "0.004851558528061258"
      ]
     },
     "execution_count": 19,
     "metadata": {},
     "output_type": "execute_result"
    }
   ],
   "source": [
    "norm((vhf + vhf.transpose(0,2,1))[2]-(np.einsum(\"kl,ijkl->ij\",P_nn,dG4d)-np.einsum(\"jl,ijkl->ik\",P_nn,dG4d)/2))"
   ]
  },
  {
   "cell_type": "code",
   "execution_count": 20,
   "id": "279efc46",
   "metadata": {},
   "outputs": [
    {
     "data": {
      "text/plain": [
       "0.0023072520769462416"
      ]
     },
     "execution_count": 20,
     "metadata": {},
     "output_type": "execute_result"
    }
   ],
   "source": [
    "# qui h1ao e' la somma del contributo di h monoelectr + V eff (da operatori bielettronici)\n",
    "norm(h1[2]-(dh1+np.einsum(\"kl,ijkl->ij\",P_nn,dG4d)-np.einsum(\"jl,ijkl->ik\",P_nn,dG4d)/2))"
   ]
  },
  {
   "cell_type": "code",
   "execution_count": null,
   "id": "16903646",
   "metadata": {},
   "outputs": [],
   "source": []
  },
  {
   "cell_type": "code",
   "execution_count": 21,
   "id": "3cb5956e",
   "metadata": {},
   "outputs": [],
   "source": [
    "max_memory=4000\n",
    "verbose=None\n",
    "mo_energy = mf.mo_energy\n",
    "mo_occ = mf.mo_occ\n",
    "mo_coeff = mf.mo_coeff\n",
    "atmlst = range(mol.natm)\n",
    "h1ao=h_nn.make_h1(mf.mo_coeff,mf.mo_occ)\n",
    "mo1, mo_e1 = hessobj.solve_mo1(mo_energy, mo_coeff, mo_occ, h1ao,None, atmlst, max_memory, log)\n",
    "#mo1_2, mo_e1 = pyscf.hessian.rhf.solve_mo1(mf,mo_energy, mo_coeff, mo_occ, h1ao,None, atmlst, max_memory, log)"
   ]
  },
  {
   "cell_type": "code",
   "execution_count": 22,
   "id": "78d31f36",
   "metadata": {},
   "outputs": [
    {
     "data": {
      "text/plain": [
       "(3, 18, 7)"
      ]
     },
     "execution_count": 22,
     "metadata": {},
     "output_type": "execute_result"
    }
   ],
   "source": [
    "mo1[0].shape"
   ]
  },
  {
   "cell_type": "code",
   "execution_count": 23,
   "id": "3135df9e",
   "metadata": {},
   "outputs": [
    {
     "data": {
      "text/plain": [
       "array([[-5.21050149e-02,  5.80501801e-02,  2.04235571e-03,\n",
       "        -1.29015386e-02, -1.27842340e-03, -1.12998021e-01,\n",
       "        -3.28993118e-02, -6.90300273e-03, -4.65588836e-02,\n",
       "         4.52392094e-02, -7.06352553e-02,  1.03070219e-01,\n",
       "        -1.00250571e-01,  4.13630699e-03,  6.43076143e-02,\n",
       "         1.08536141e-01,  6.66820879e-04, -1.08895664e-01],\n",
       "       [ 5.80501801e-02, -1.33976597e-01,  2.57372107e-01,\n",
       "         6.79623828e-02, -4.64078666e-02, -1.27041247e-01,\n",
       "         2.75465843e-03,  1.20883384e-02,  5.69584336e-02,\n",
       "        -2.33323945e-02, -2.06561025e-02, -2.78415607e-01,\n",
       "         1.44667701e-01, -1.09509096e-01,  8.62519234e-02,\n",
       "        -1.77692889e-01, -8.34619807e-02,  2.03810020e-01],\n",
       "       [ 2.04235571e-03,  2.57372107e-01, -7.68748244e-01,\n",
       "         5.40207258e-02,  3.98083299e-01,  9.48232429e-01,\n",
       "         3.81356913e-03,  2.31432924e-01,  7.67476740e-02,\n",
       "        -1.39831617e-01,  3.02957785e-01,  2.55546179e-01,\n",
       "         1.88402032e-01,  4.02368138e-01, -7.71483031e-01,\n",
       "        -2.01615431e-01,  2.39008937e-01, -3.85965288e-01],\n",
       "       [-1.29015386e-02,  6.79623828e-02,  5.40207258e-02,\n",
       "         8.84274707e-02, -5.43374835e-02,  3.78139559e-02,\n",
       "         5.35739356e-02,  2.05889108e-01,  1.14547251e-02,\n",
       "         3.13354220e-02, -6.28952152e-03, -7.12628736e-02,\n",
       "         8.88530305e-02,  1.14172483e-01, -8.26971895e-02,\n",
       "         5.29092644e-02, -5.73023689e-02, -1.86116050e-02],\n",
       "       [-1.27842340e-03, -4.64078666e-02,  3.98083299e-01,\n",
       "        -5.43374835e-02, -3.03274287e-02,  1.10493862e-01,\n",
       "         1.60315607e-02, -3.16974035e-02,  5.91323380e-02,\n",
       "         2.04364166e-02, -1.32325762e-02, -2.60760553e-01,\n",
       "        -1.51409024e-01,  2.58647270e-15,  5.13263750e-02,\n",
       "        -1.32113743e-01,  1.45866679e-02,  8.09196176e-02],\n",
       "       [-1.12998021e-01, -1.27041247e-01,  9.48232429e-01,\n",
       "         3.78139559e-02,  1.10493862e-01,  1.19392901e-02,\n",
       "         9.46828939e-03,  1.17384078e-01,  3.73663756e-01,\n",
       "         9.25925474e-02,  2.74939942e-01, -9.44224362e-01,\n",
       "        -1.09547220e-03, -1.06922962e-03, -1.62576848e-01,\n",
       "        -3.74026583e-02, -5.29090359e-02,  5.36488497e-01],\n",
       "       [-3.28993118e-02,  2.75465843e-03,  3.81356913e-03,\n",
       "         5.35739356e-02,  1.60315607e-02,  9.46828939e-03,\n",
       "         3.23044515e-02,  1.42504441e-01,  6.69266740e-03,\n",
       "        -3.99471289e-02, -2.51272783e-02, -4.17696131e-02,\n",
       "         5.38140365e-02,  1.11104886e-01, -2.58918331e-02,\n",
       "         3.19294440e-02, -5.98819291e-03, -9.54323919e-03],\n",
       "       [-6.90300273e-03,  1.20883384e-02,  2.31432924e-01,\n",
       "         2.05889108e-01, -3.16974035e-02,  1.17384078e-01,\n",
       "         1.42504441e-01, -2.61134736e-02,  4.88756045e-02,\n",
       "         8.65030264e-03,  5.59172959e-03, -1.82106060e-01,\n",
       "         1.51121343e-01, -1.45866679e-02, -4.11131650e-02,\n",
       "         5.89208592e-02, -2.67147415e-16,  2.76306016e-02],\n",
       "       [-4.65588836e-02,  5.69584336e-02,  7.67476740e-02,\n",
       "         1.14547251e-02,  5.91323380e-02,  3.73663756e-01,\n",
       "         6.69266740e-03,  4.88756045e-02,  1.73980802e-01,\n",
       "        -1.89734833e-02,  3.29072927e-01, -1.50767570e-01,\n",
       "         1.19407345e-02,  2.85551377e-02, -3.12927487e-01,\n",
       "        -2.35419462e-02,  2.28857377e-03,  8.76260608e-02],\n",
       "       [ 4.52392094e-02, -2.33323945e-02, -1.39831617e-01,\n",
       "         3.13354220e-02,  2.04364166e-02,  9.25925474e-02,\n",
       "        -3.99471289e-02,  8.65030264e-03, -1.89734833e-02,\n",
       "        -7.62252561e-02, -1.25456958e-02,  1.10530002e-02,\n",
       "         2.37876883e-02,  3.16838588e-02, -6.92949064e-02,\n",
       "        -1.73342478e-02,  2.57293395e-02, -3.14935021e-02],\n",
       "       [-7.06352553e-02, -2.06561025e-02,  3.02957785e-01,\n",
       "        -6.28952152e-03, -1.32325762e-02,  2.74939942e-01,\n",
       "        -2.51272783e-02,  5.59172959e-03,  3.29072927e-01,\n",
       "        -1.25456958e-02,  2.72912656e-01, -4.03895700e-01,\n",
       "        -1.20631918e-01, -4.91973290e-02, -2.95361756e-01,\n",
       "         1.18512500e-01, -5.00991664e-02,  8.19255483e-02],\n",
       "       [ 1.03070219e-01, -2.78415607e-01,  2.55546179e-01,\n",
       "        -7.12628736e-02, -2.60760553e-01, -9.44224362e-01,\n",
       "        -4.17696131e-02, -1.82106060e-01, -1.50767570e-01,\n",
       "         1.10530002e-02, -4.03895700e-01,  2.47263466e-01,\n",
       "        -2.57130842e-01, -2.12047842e-01,  8.80628192e-01,\n",
       "         2.95039902e-01, -1.09330328e-01,  3.54576452e-02],\n",
       "       [-1.00250571e-01,  1.44667701e-01,  1.88402032e-01,\n",
       "         8.88530305e-02, -1.51409024e-01, -1.09547220e-03,\n",
       "         5.38140365e-02,  1.51121343e-01,  1.19407345e-02,\n",
       "         2.37876883e-02, -1.20631918e-01, -2.57130842e-01,\n",
       "         8.92785904e-02,  1.71009420e-02, -1.58652099e-01,\n",
       "         5.31493652e-02, -1.12070134e-01, -3.77465939e-02],\n",
       "       [ 4.13630699e-03, -1.09509096e-01,  4.02368138e-01,\n",
       "         1.14172483e-01,  2.58647270e-15, -1.06922962e-03,\n",
       "         1.11104886e-01, -1.45866679e-02,  2.85551377e-02,\n",
       "         3.16838588e-02, -4.91973290e-02, -2.12047842e-01,\n",
       "         1.71009420e-02,  3.03274287e-02,  1.78892578e-01,\n",
       "        -3.70404178e-02,  3.16974035e-02,  1.14264097e-01],\n",
       "       [ 6.43076143e-02,  8.62519234e-02, -7.71483031e-01,\n",
       "        -8.26971895e-02,  5.13263750e-02, -1.62576848e-01,\n",
       "        -2.58918331e-02, -4.11131650e-02, -3.12927487e-01,\n",
       "        -6.92949064e-02, -2.95361756e-01,  8.80628192e-01,\n",
       "        -1.58652099e-01,  1.78892578e-01,  2.74341492e-01,\n",
       "         2.15530343e-01,  1.52668996e-01, -5.18505613e-01],\n",
       "       [ 1.08536141e-01, -1.77692889e-01, -2.01615431e-01,\n",
       "         5.29092644e-02, -1.32113743e-01, -3.74026583e-02,\n",
       "         3.19294440e-02,  5.89208592e-02, -2.35419462e-02,\n",
       "        -1.73342478e-02,  1.18512500e-01,  2.95039902e-01,\n",
       "         5.31493652e-02, -3.70404178e-02,  2.15530343e-01,\n",
       "         3.15544365e-02, -8.95717751e-02,  5.24410279e-02],\n",
       "       [ 6.66820879e-04, -8.34619807e-02,  2.39008937e-01,\n",
       "        -5.73023689e-02,  1.45866679e-02, -5.29090359e-02,\n",
       "        -5.98819291e-03, -2.67147415e-16,  2.28857377e-03,\n",
       "         2.57293395e-02, -5.00991664e-02, -1.09330328e-01,\n",
       "        -1.12070134e-01,  3.16974035e-02,  1.52668996e-01,\n",
       "        -8.95717751e-02,  2.61134736e-02,  7.82888450e-02],\n",
       "       [-1.08895664e-01,  2.03810020e-01, -3.85965288e-01,\n",
       "        -1.86116050e-02,  8.09196176e-02,  5.36488497e-01,\n",
       "        -9.54323919e-03,  2.76306016e-02,  8.76260608e-02,\n",
       "        -3.14935021e-02,  8.19255483e-02,  3.54576452e-02,\n",
       "        -3.77465939e-02,  1.14264097e-01, -5.18505613e-01,\n",
       "         5.24410279e-02,  7.82888450e-02, -3.19593831e-01]])"
      ]
     },
     "execution_count": 23,
     "metadata": {},
     "output_type": "execute_result"
    }
   ],
   "source": [
    "make_dP(mf,mo1[1][2])"
   ]
  },
  {
   "cell_type": "code",
   "execution_count": 24,
   "id": "8c93db00",
   "metadata": {},
   "outputs": [],
   "source": [
    "mocc = mo_coeff[:,mo_occ>0]\n",
    "dm1 = numpy.einsum('pi,qi->pq', mo1[1][2], mocc)*4"
   ]
  },
  {
   "cell_type": "code",
   "execution_count": 25,
   "id": "407fd592",
   "metadata": {},
   "outputs": [],
   "source": [
    "dP_fd=(P_nn_p-P_nn_m)/.06\n",
    "#norm(dP_fd),plt.matshow(dP_fd)"
   ]
  },
  {
   "cell_type": "code",
   "execution_count": 26,
   "id": "fff04f73",
   "metadata": {},
   "outputs": [
    {
     "data": {
      "text/plain": [
       "(1.7647587448552653, 1.3674730458627484, 1.1155023965496331)"
      ]
     },
     "execution_count": 26,
     "metadata": {},
     "output_type": "execute_result"
    },
    {
     "data": {
      "image/png": "[encoded data removed]",
      "text/plain": [
       "<Figure size 288x288 with 1 Axes>"
      ]
     },
     "metadata": {
      "needs_background": "light"
     },
     "output_type": "display_data"
    },
    {
     "data": {
      "image/png": "[encoded data removed]",
      "text/plain": [
       "<Figure size 288x288 with 1 Axes>"
      ]
     },
     "metadata": {
      "needs_background": "light"
     },
     "output_type": "display_data"
    }
   ],
   "source": [
    "plt.matshow(dm1),plt.matshow(dP_fd)\n",
    "norm(dm1),norm(dP_fd),norm(dm1-dP_fd)"
   ]
  },
  {
   "cell_type": "code",
   "execution_count": 27,
   "id": "dffc351e",
   "metadata": {},
   "outputs": [
    {
     "data": {
      "text/plain": [
       "(0.9439260934106989, 0.9442867994662494)"
      ]
     },
     "execution_count": 27,
     "metadata": {},
     "output_type": "execute_result"
    }
   ],
   "source": [
    "numpy.einsum('pq,pq', h1ao[1][2], dm1),numpy.einsum('pq,pq', h1ao[1][2], dP_fd)"
   ]
  },
  {
   "cell_type": "markdown",
   "id": "f42406fb",
   "metadata": {},
   "source": [
    "# Comments:\n",
    "Unfortunatly the density deriv. analytical differs from the one by finite difference, though they give the same integration results with h1ao, that means that they can be used to evalaute derivatives, and probabily the density matrix is degenerate (which is possible given the high symmetry of the system) :(\n"
   ]
  },
  {
   "cell_type": "code",
   "execution_count": 28,
   "id": "3808eb78",
   "metadata": {},
   "outputs": [],
   "source": [
    "def solve_mo1(mf, mo_energy, mo_coeff, mo_occ, h1ao_or_chkfile,\n",
    "              fx=None, atmlst=None, max_memory=4000, verbose=None):\n",
    "    '''Solve the first order equation\n",
    "\n",
    "    Kwargs:\n",
    "        fx : function(dm_mo) => v1_mo\n",
    "            A function to generate the induced potential.\n",
    "            See also the function gen_vind.\n",
    "    '''\n",
    "    mol = mf.mol\n",
    "    if atmlst is None: atmlst = range(mol.natm)\n",
    "\n",
    "    nao, nmo = mo_coeff.shape\n",
    "    mocc = mo_coeff[:,mo_occ>0]\n",
    "    nocc = mocc.shape[1]\n",
    "\n",
    "    if fx is None:\n",
    "        fx = gen_vind(mf, mo_coeff, mo_occ)\n",
    "    s1a = -mol.intor('int1e_ipovlp', comp=3)\n",
    "\n",
    "    def _ao2mo(mat):\n",
    "        return numpy.asarray([reduce(numpy.dot, (mo_coeff.T, x, mocc)) for x in mat])\n",
    "\n",
    "    mem_now = lib.current_memory()[0]\n",
    "    max_memory = max(2000, max_memory*.9-mem_now)\n",
    "    blksize = max(2, int(max_memory*1e6/8 / (nmo*nocc*3*6)))\n",
    "    mo1s = [None] * mol.natm\n",
    "    e1s = [None] * mol.natm\n",
    "    aoslices = mol.aoslice_by_atom()\n",
    "    for ia0, ia1 in lib.prange(0, len(atmlst), blksize):\n",
    "        s1vo = []\n",
    "        h1vo = []\n",
    "        for i0 in range(ia0, ia1):\n",
    "            ia = atmlst[i0]\n",
    "            shl0, shl1, p0, p1 = aoslices[ia]\n",
    "            s1ao = numpy.zeros((3,nao,nao))\n",
    "            s1ao[:,p0:p1] += s1a[:,p0:p1]\n",
    "            s1ao[:,:,p0:p1] += s1a[:,p0:p1].transpose(0,2,1)\n",
    "            s1vo.append(_ao2mo(s1ao))\n",
    "            if isinstance(h1ao_or_chkfile, str):\n",
    "                key = 'scf_f1ao/%d' % ia\n",
    "                h1ao = lib.chkfile.load(h1ao_or_chkfile, key)\n",
    "            else:\n",
    "                h1ao = h1ao_or_chkfile[ia]\n",
    "            h1vo.append(_ao2mo(h1ao))\n",
    "\n",
    "        h1vo = numpy.vstack(h1vo)\n",
    "        s1vo = numpy.vstack(s1vo)\n",
    "        mo1, e1 = cphf.solve(fx, mo_energy, mo_occ, h1vo, s1vo)\n",
    "        mo1 = numpy.einsum('pq,xqi->xpi', mo_coeff, mo1).reshape(-1,3,nao,nocc)\n",
    "        e1 = e1.reshape(-1,3,nocc,nocc)\n",
    "\n",
    "        for k in range(ia1-ia0):\n",
    "            ia = atmlst[k+ia0]\n",
    "            if isinstance(h1ao_or_chkfile, str):\n",
    "                key = 'scf_mo1/%d' % ia\n",
    "                lib.chkfile.save(h1ao_or_chkfile, key, mo1[k])\n",
    "            else:\n",
    "                mo1s[ia] = mo1[k]\n",
    "            e1s[ia] = e1[k].reshape(3,nocc,nocc)\n",
    "        mo1 = e1 = None\n",
    "\n",
    "    if isinstance(h1ao_or_chkfile, str):\n",
    "        return h1ao_or_chkfile, e1s\n",
    "    else:\n",
    "        return mo1s, e1s"
   ]
  },
  {
   "cell_type": "code",
   "execution_count": 29,
   "id": "4ed22bae",
   "metadata": {},
   "outputs": [
    {
     "data": {
      "text/plain": [
       "(3.679462980639679, 4.0843755922826634, 1.7730414978044151)"
      ]
     },
     "execution_count": 29,
     "metadata": {},
     "output_type": "execute_result"
    }
   ],
   "source": [
    "mol=nn\n",
    "s1a = -mol.intor('int1e_ipovlp', comp=3)\n",
    "norm(s1a[2]),norm(s1a[2]-dS),norm(dS) #s1a=!dS"
   ]
  },
  {
   "cell_type": "code",
   "execution_count": 30,
   "id": "b7908a35",
   "metadata": {},
   "outputs": [],
   "source": [
    "atmlst = range(mol.natm)\n",
    "nao, nmo = mo_coeff.shape\n",
    "mocc = mo_coeff[:,mo_occ>0]\n",
    "nocc = mocc.shape[1]"
   ]
  },
  {
   "cell_type": "code",
   "execution_count": 31,
   "id": "0432a347",
   "metadata": {},
   "outputs": [],
   "source": [
    "mem_now = lib.current_memory()[0]\n",
    "max_memory = max(2000, max_memory*.9-mem_now)\n",
    "ia0, ia1=0,2\n",
    "s1vo = []\n",
    "h1vo = []\n",
    "for i0 in range(ia0, ia1):   # sei nel range di memoria i0 e' l'atomo rispetto al quale derivi\n",
    "    ia = atmlst[i0]\n",
    "    shl0, shl1, p0, p1 = aoslices[ia]\n",
    "    s1ao = numpy.zeros((3,nao,nao))\n",
    "    s1ao[:,p0:p1] += s1a[:,p0:p1]\n",
    "    s1ao[:,:,p0:p1] += s1a[:,p0:p1].transpose(0,2,1)"
   ]
  },
  {
   "cell_type": "code",
   "execution_count": 32,
   "id": "e7804420",
   "metadata": {},
   "outputs": [
    {
     "data": {
      "text/plain": [
       "(3, 18, 18)"
      ]
     },
     "execution_count": 32,
     "metadata": {},
     "output_type": "execute_result"
    }
   ],
   "source": [
    "s1ao.shape"
   ]
  },
  {
   "cell_type": "code",
   "execution_count": 33,
   "id": "4bbe6bb5",
   "metadata": {},
   "outputs": [
    {
     "name": "stdout",
     "output_type": "stream",
     "text": [
      "0.0004380782435757148\n"
     ]
    }
   ],
   "source": [
    "print(norm(s1ao[2]-dS))"
   ]
  },
  {
   "cell_type": "code",
   "execution_count": 34,
   "id": "190b6cc2",
   "metadata": {},
   "outputs": [
    {
     "data": {
      "text/plain": [
       "array([0, 5, 0, 9])"
      ]
     },
     "execution_count": 34,
     "metadata": {},
     "output_type": "execute_result"
    }
   ],
   "source": [
    "aoslices[0]"
   ]
  },
  {
   "cell_type": "code",
   "execution_count": 35,
   "id": "6b1d926a",
   "metadata": {},
   "outputs": [
    {
     "data": {
      "text/plain": [
       "1.7730414978044151"
      ]
     },
     "execution_count": 35,
     "metadata": {},
     "output_type": "execute_result"
    }
   ],
   "source": [
    "norm(s1a[2]+s1a[2].T-dS)"
   ]
  },
  {
   "cell_type": "code",
   "execution_count": 36,
   "id": "8f2306d1",
   "metadata": {},
   "outputs": [
    {
     "data": {
      "text/plain": [
       "(3, 18, 18)"
      ]
     },
     "execution_count": 36,
     "metadata": {},
     "output_type": "execute_result"
    }
   ],
   "source": [
    "s1a.shape"
   ]
  },
  {
   "cell_type": "code",
   "execution_count": 37,
   "id": "65b6f328",
   "metadata": {},
   "outputs": [
    {
     "name": "stdout",
     "output_type": "stream",
     "text": [
      "1.7730414978044151\n",
      "1.7730414978044151\n"
     ]
    },
    {
     "data": {
      "text/plain": [
       "(None, None)"
      ]
     },
     "execution_count": 37,
     "metadata": {},
     "output_type": "execute_result"
    }
   ],
   "source": [
    "print(norm(dS-(s1a + s1a.transpose(0,2,1))[2])),print(norm(dS))"
   ]
  },
  {
   "cell_type": "code",
   "execution_count": null,
   "id": "27ebd08f",
   "metadata": {},
   "outputs": [],
   "source": []
  },
  {
   "cell_type": "code",
   "execution_count": null,
   "id": "a88838d4",
   "metadata": {},
   "outputs": [],
   "source": []
  }
 ],
 "metadata": {
  "kernelspec": {
   "display_name": "Python 3",
   "language": "python",
   "name": "python3"
  },
  "language_info": {
   "codemirror_mode": {
    "name": "ipython",
    "version": 3
   },
   "file_extension": ".py",
   "mimetype": "text/x-python",
   "name": "python",
   "nbconvert_exporter": "python",
   "pygments_lexer": "ipython3",
   "version": "3.8.8"
  }
 },
 "nbformat": 4,
 "nbformat_minor": 5
}
