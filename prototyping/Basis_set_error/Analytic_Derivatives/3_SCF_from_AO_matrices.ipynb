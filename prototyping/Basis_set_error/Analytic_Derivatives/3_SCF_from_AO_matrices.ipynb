{
 "cells": [
  {
   "cell_type": "code",
   "execution_count": 1,
   "metadata": {},
   "outputs": [],
   "source": [
    "import basis_set_exchange as bse\n",
    "import scipy as sp\n",
    "import matplotlib.pyplot as plt\n",
    "from pyscf import gto,scf\n",
    "import copy\n",
    "import numpy as np\n",
    "import scipy\n",
    "from scipy.interpolate import interp1d\n",
    "from pyscf.data.elements import _symbol\n",
    "from pyscf.grad import RHF as g"
   ]
  },
  {
   "cell_type": "code",
   "execution_count": 77,
   "metadata": {},
   "outputs": [],
   "source": [
    "import inspect\n",
    "import sys\n",
    "sys.path.append(\"../Libs\")\n",
    "from FcMole import FcM,FcM_like\n",
    "from FDcoeffs import get_coeffs"
   ]
  },
  {
   "cell_type": "code",
   "execution_count": 192,
   "metadata": {},
   "outputs": [],
   "source": [
    "#5pts finite difference coefficients\n",
    "fd1=np.asarray([1/12,-2/3 ,0,2/3,-1/12])\n",
    "fd2=np.asarray([-1/12,4/3,-5/2,4/3,-1/12])\n",
    "fd3=np.asarray([-1/2,1,0,-1,1/2])\n",
    "fd4=np.asarray([1,-4,6,-4,1])\n",
    "fds=[fd1,fd2,fd3,fd4]\n",
    "fds5=get_coeffs(5)\n",
    "fds7=get_coeffs(7)"
   ]
  },
  {
   "cell_type": "code",
   "execution_count": 3,
   "metadata": {},
   "outputs": [],
   "source": [
    "def pcX(z,ref=None):\n",
    "    if z <1.e-10: raise Exception(\"non implemented Zero charge atom\")\n",
    "    if z%1 <1.e-10:\n",
    "        return gto.basis.load(bse.get_basis(\"pcX-1\",fmt=\"nwchem\",elements=[int(z)]),_symbol(int(z)))\n",
    "    elif ref:\n",
    "        rb=pcX(ref)\n",
    "        rbm=pcX(ref-1)\n",
    "        rbp=pcX(ref+1)\n",
    "        fb=copy.deepcopy(rb)\n",
    "        for i in range(len(fb)):  # ref+a(z-zr) +b(z-zr)^2\n",
    "            a=(rbp[i][1][0]-rbm[i][1][0])/2\n",
    "            b=(rbp[i][1][0]+rbm[i][1][0]-2*rb[i][1][0])\n",
    "            fb[i][1][0]+=a*(z-ref)+b*(z-ref)**2\n",
    "\n",
    "        return fb\n",
    "    else: raise Exception(\"can't get the fractional charge basis set, frac val and no ref\")"
   ]
  },
  {
   "cell_type": "markdown",
   "metadata": {},
   "source": [
    "The formula for the gradient is stated in Pople's article (Eq.21) as: \n",
    "$$ \\frac{\\partial E}{\\partial Z}= \\sum_{\\mu\\nu}P_{\\mu\\nu}\\frac{\\partial H_{\\mu\\nu}}{\\partial Z}+\\frac{1}{2}\\sum_{\\mu\\nu\\lambda\\sigma}\n",
    "P_{\\mu\\nu}P_{\\lambda\\sigma}\\frac{\\partial}{\\partial Z}(\\mu \\lambda | | \\nu\\sigma)+\\frac{\\partial V_{nuc}}{\\partial Z} \n",
    "-\\sum_{\\mu\\nu}W_{\\mu\\nu}\\frac{\\partial S_{\\mu\\nu}}{\\partial Z}\n",
    "$$\n",
    "$W$ is an energy weighted density matrix:\n",
    "$$ W_{\\mu\\nu}= \\sum_i ^{mo.occ.} \\epsilon_i c_{\\mu i} c_{\\nu i}^\\dagger\n",
    "$$"
   ]
  },
  {
   "cell_type": "code",
   "execution_count": 61,
   "metadata": {},
   "outputs": [
    {
     "name": "stdout",
     "output_type": "stream",
     "text": [
      "converged SCF energy = -108.916591616523\n"
     ]
    }
   ],
   "source": [
    "nn=gto.M(atom=\"N 0 0 0; N 0 0 2.05\",unit=\"Bohr\",basis=bse.get_basis(\"pcX-1\",fmt=\"nwchem\",elements=[6,7,8]))\n",
    "mf=scf.RHF(nn)\n",
    "e_nn=mf.scf()"
   ]
  },
  {
   "cell_type": "code",
   "execution_count": 81,
   "metadata": {},
   "outputs": [],
   "source": [
    "S_nn=mf.get_ovlp()\n",
    "h1_nn=mf.get_hcore()\n",
    "P=mf.make_rdm1()\n",
    "g_ijkl=nn.intor('int2e', aosym='s8')\n",
    "\n",
    "C=mf.mo_coeff\n",
    "O=mf.mo_occ\n",
    "e=mf.mo_energy"
   ]
  },
  {
   "cell_type": "code",
   "execution_count": 82,
   "metadata": {},
   "outputs": [
    {
     "name": "stdout",
     "output_type": "stream",
     "text": [
      "The autoreload extension is already loaded. To reload it, use:\n",
      "  %reload_ext autoreload\n"
     ]
    }
   ],
   "source": [
    "%load_ext autoreload\n",
    "%autoreload 2\n",
    "from ao_scf import ao_RHF"
   ]
  },
  {
   "cell_type": "code",
   "execution_count": 64,
   "metadata": {},
   "outputs": [],
   "source": [
    "nn2=gto.M(atom=\"C 0 0 0; O 0 0 2.05\",unit=\"Bohr\",basis=bse.get_basis(\"pcX-1\",fmt=\"nwchem\",elements=[6,7,8]))\n",
    "aor=ao_RHF(nn2,S_ao=S_nn,hcore=h1_nn,eri=g_ijkl)"
   ]
  },
  {
   "cell_type": "code",
   "execution_count": 69,
   "metadata": {},
   "outputs": [
    {
     "name": "stdout",
     "output_type": "stream",
     "text": [
      "converged SCF energy = -109.404396494572\n"
     ]
    },
    {
     "data": {
      "text/plain": [
       "-108.91659161652348"
      ]
     },
     "execution_count": 69,
     "metadata": {},
     "output_type": "execute_result"
    }
   ],
   "source": [
    "aor.scf()+1/2.05"
   ]
  },
  {
   "cell_type": "code",
   "execution_count": 70,
   "metadata": {},
   "outputs": [],
   "source": [
    "cn=gto.M(atom=\"C 0 0 0; N 0 0 2.05\",unit=\"Bohr\",basis=bse.get_basis(\"pcX-1\",fmt=\"nwchem\",elements=[6,7,8]),charge=-1)\n",
    "on=gto.M(atom=\"O 0 0 0; N 0 0 2.05\",unit=\"Bohr\",basis=bse.get_basis(\"pcX-1\",fmt=\"nwchem\",elements=[6,7,8]),charge=1)"
   ]
  },
  {
   "cell_type": "code",
   "execution_count": 74,
   "metadata": {},
   "outputs": [
    {
     "name": "stdout",
     "output_type": "stream",
     "text": [
      "converged SCF energy = -128.874363294639\n",
      "converged SCF energy = -92.2576688695164\n"
     ]
    }
   ],
   "source": [
    "mf_on=scf.RHF(on)\n",
    "mf_cn=scf.RHF(cn)\n",
    "e_on=mf_on.scf()\n",
    "e_cn=mf_cn.scf()"
   ]
  },
  {
   "cell_type": "code",
   "execution_count": 166,
   "metadata": {},
   "outputs": [],
   "source": [
    "dS=(mf_on.get_ovlp()-mf_cn.get_ovlp())/2\n",
    "dh1=(mf_on.get_hcore()-mf_cn.get_hcore())/2\n",
    "dG=(on.intor('int2e', aosym='s8')-cn.intor('int2e', aosym='s8'))/2\n",
    "dVnn=(8*7-7*7)/2.05\n",
    "d2S=(mf_on.get_ovlp()+mf_cn.get_ovlp()-2*mf.get_ovlp())\n",
    "d2h1=(mf_on.get_hcore()+mf_cn.get_hcore()-2*mf.get_hcore())\n",
    "d2G=(on.intor('int2e', aosym='s8')+cn.intor('int2e', aosym='s8')-2*nn.intor('int2e', aosym='s8'))"
   ]
  },
  {
   "cell_type": "code",
   "execution_count": 167,
   "metadata": {},
   "outputs": [],
   "source": [
    "#dS=mf_on.get_ovlp()-mf.get_ovlp()\n",
    "#dh1=mf_on.get_hcore()-mf.get_hcore()\n",
    "#dG=on.intor('int2e', aosym='s8')-nn.intor('int2e', aosym='s8')\n",
    "#dVnn=(8*7-7*7)/2.05"
   ]
  },
  {
   "cell_type": "code",
   "execution_count": 168,
   "metadata": {},
   "outputs": [
    {
     "name": "stdout",
     "output_type": "stream",
     "text": [
      "converged SCF energy = -108.916591616524\n"
     ]
    },
    {
     "name": "stderr",
     "output_type": "stream",
     "text": [
      "/home/giorgio/anaconda3/lib/python3.8/site-packages/pyscf/gto/mole.py:1089: UserWarning: Function mol.dumps drops attribute with_rinv_at_nucleus because it is not JSON-serializable\n",
      "  warnings.warn(msg)\n"
     ]
    },
    {
     "data": {
      "text/plain": [
       "-108.91659161652353"
      ]
     },
     "execution_count": 168,
     "metadata": {},
     "output_type": "execute_result"
    }
   ],
   "source": [
    "scf.RHF(FcM_like(nn)).scf()"
   ]
  },
  {
   "cell_type": "code",
   "execution_count": 169,
   "metadata": {},
   "outputs": [
    {
     "name": "stdout",
     "output_type": "stream",
     "text": [
      "converged SCF energy = -108.916591616523\n"
     ]
    },
    {
     "data": {
      "text/plain": [
       "-108.9165916165233"
      ]
     },
     "execution_count": 169,
     "metadata": {},
     "output_type": "execute_result"
    }
   ],
   "source": [
    "ao_RHF(FcM_like(nn),S_ao=S,hcore=mf.get_hcore(),eri=g_ijkl).scf()"
   ]
  },
  {
   "cell_type": "code",
   "execution_count": 210,
   "metadata": {},
   "outputs": [],
   "source": [
    "def E(l):\n",
    "    return ao_RHF(FcM_like(nn,fcs=[l,0]),S_ao=S_nn+dS*l+d2S*l**2/2,hcore=h1_nn+dh1*l+d2h1*l**2/2,\\\n",
    "                  eri=g_ijkl+dG*l+d2G*l**2/2).scf()"
   ]
  },
  {
   "cell_type": "code",
   "execution_count": 211,
   "metadata": {},
   "outputs": [
    {
     "name": "stdout",
     "output_type": "stream",
     "text": [
      "converged SCF energy = -92.2576688695189\n",
      "converged SCF energy = -128.874363294645\n"
     ]
    },
    {
     "data": {
      "text/plain": [
       "(-92.25766886951891,\n",
       " -92.25766886951638,\n",
       " -128.87436329464455,\n",
       " -128.87436329463884)"
      ]
     },
     "execution_count": 211,
     "metadata": {},
     "output_type": "execute_result"
    }
   ],
   "source": [
    "E(-1),e_cn,E(1),e_on"
   ]
  },
  {
   "cell_type": "code",
   "execution_count": 212,
   "metadata": {},
   "outputs": [
    {
     "name": "stdout",
     "output_type": "stream",
     "text": [
      "converged SCF energy = -92.2576688695191\n",
      "converged SCF energy = -98.5486485068492\n",
      "converged SCF energy = -105.332742468032\n",
      "converged SCF energy = -112.63286271375\n",
      "converged SCF energy = -120.473254647981\n",
      "converged SCF energy = -128.874363294645\n"
     ]
    },
    {
     "data": {
      "text/plain": [
       "[<matplotlib.lines.Line2D at 0x7fe73c552250>]"
      ]
     },
     "execution_count": 212,
     "metadata": {},
     "output_type": "execute_result"
    },
    {
     "data": {
      "image/png": "[encoded data removed]",
      "text/plain": [
       "<Figure size 432x288 with 1 Axes>"
      ]
     },
     "metadata": {
      "needs_background": "light"
     },
     "output_type": "display_data"
    }
   ],
   "source": [
    "linsp=np.linspace(-1,1,6)\n",
    "a=[]\n",
    "for i in linsp:\n",
    "    a.append(E(i))\n",
    "plt.plot(linsp,a)"
   ]
  },
  {
   "cell_type": "code",
   "execution_count": 213,
   "metadata": {},
   "outputs": [
    {
     "name": "stdout",
     "output_type": "stream",
     "text": [
      "converged SCF energy = -108.916591616523\n",
      "converged SCF energy = -109.833121453482\n",
      "converged SCF energy = -108.008341537208\n"
     ]
    },
    {
     "name": "stderr",
     "output_type": "stream",
     "text": [
      "/home/giorgio/anaconda3/lib/python3.8/site-packages/pyscf/gto/mole.py:1089: UserWarning: Function mol.dumps drops attribute with_rinv_at_nucleus because it is not JSON-serializable\n",
      "  warnings.warn(msg)\n"
     ]
    },
    {
     "name": "stdout",
     "output_type": "stream",
     "text": [
      "converged SCF energy = -108.916591616523\n",
      "converged SCF energy = -109.833121453482\n",
      "converged SCF energy = -108.008341537207\n"
     ]
    },
    {
     "data": {
      "text/plain": [
       "(-127.16439077926529,\n",
       " -128.87436329463884,\n",
       " -90.6687924537787,\n",
       " -92.25766886951638)"
      ]
     },
     "execution_count": 213,
     "metadata": {},
     "output_type": "execute_result"
    }
   ],
   "source": [
    "E(0)+(E(.05)-E(-.05))/.1,e_on,E(0)-(E(.05)-E(-.05))/.1,e_cn"
   ]
  },
  {
   "cell_type": "code",
   "execution_count": 215,
   "metadata": {},
   "outputs": [
    {
     "name": "stdout",
     "output_type": "stream",
     "text": [
      "converged SCF energy = -103.589417576057\n",
      "converged SCF energy = -105.332742468032\n",
      "converged SCF energy = -107.108319457298\n",
      "converged SCF energy = -110.757980039887\n",
      "converged SCF energy = -112.63286271375\n",
      "converged SCF energy = -114.5415628409\n",
      "converged SCF energy = -128.874363294644\n"
     ]
    },
    {
     "data": {
      "text/plain": [
       "(array([-108.91659162, -127.16422316, -128.82022124, -128.88749472,\n",
       "        -128.86887663, -128.85520784, -128.86833783]),\n",
       " -128.8743632946443)"
      ]
     },
     "execution_count": 215,
     "metadata": {},
     "output_type": "execute_result"
    }
   ],
   "source": [
    "dl=.1\n",
    "Es=np.asarray([E(-3*dl),E(-2*dl),E(-dl),e_nn,E(dl),E(2*dl),E(3*dl)])\n",
    "apdft=[e_nn]\n",
    "inc=[]\n",
    "for i in range(6):\n",
    "    inc.append(np.einsum('i,i',fds7[i+1],Es)/dl**(i+1)/np.math.factorial(i+1))\n",
    "    apdft.append(apdft[i]+inc[-1])\n",
    "apdft=np.asarray(apdft)\n",
    "apdft,E(1)"
   ]
  },
  {
   "cell_type": "code",
   "execution_count": 234,
   "metadata": {},
   "outputs": [
    {
     "name": "stdout",
     "output_type": "stream",
     "text": [
      "converged SCF energy = -109.833121453482\n",
      "converged SCF energy = -108.008341537207\n"
     ]
    },
    {
     "data": {
      "text/plain": [
       "-18.247799162745935"
      ]
     },
     "execution_count": 234,
     "metadata": {},
     "output_type": "execute_result"
    }
   ],
   "source": [
    "(E(.05)-E(-.05))/.1"
   ]
  },
  {
   "cell_type": "code",
   "execution_count": 235,
   "metadata": {},
   "outputs": [],
   "source": [
    "#from np.grad.rhf   , makes w\n",
    "def make_rdm1e(mo_energy, mo_coeff, mo_occ):\n",
    "    '''Energy weighted density matrix'''\n",
    "    mo0 = mo_coeff[:,mo_occ>0]\n",
    "    mo0e = mo0 * (mo_energy[mo_occ>0] * mo_occ[mo_occ>0])\n",
    "    return np.dot(mo0e, mo0.T.conj())"
   ]
  },
  {
   "cell_type": "code",
   "execution_count": 236,
   "metadata": {},
   "outputs": [],
   "source": [
    "W=make_rdm1e(e,C,O)"
   ]
  },
  {
   "cell_type": "markdown",
   "metadata": {},
   "source": [
    "$$ \\frac{\\partial E}{\\partial Z}= \\sum_{\\mu\\nu}P_{\\mu\\nu}\\frac{\\partial H_{\\mu\\nu}}{\\partial Z}+\\frac{1}{2}\\sum_{\\mu\\nu\\lambda\\sigma}\n",
    "P_{\\mu\\nu}P_{\\lambda\\sigma}\\frac{\\partial}{\\partial Z}(\\mu \\lambda | | \\nu\\sigma)+\\frac{\\partial V_{nuc}}{\\partial Z} \n",
    "-\\sum_{\\mu\\nu}W_{\\mu\\nu}\\frac{\\partial S_{\\mu\\nu}}{\\partial Z}\n",
    "$$\n",
    "$W$ is an energy weighted density matrix:\n",
    "$$ W_{\\mu\\nu}= \\sum_i ^{mo.occ.} \\epsilon_i c_{\\mu i} c_{\\nu i}^\\dagger\n",
    "$$"
   ]
  },
  {
   "cell_type": "code",
   "execution_count": 245,
   "metadata": {},
   "outputs": [
    {
     "data": {
      "text/plain": [
       "(-23.649717805620437,\n",
       " 1.4792337860100195,\n",
       " 3.414634146341464,\n",
       " -0.0666750859237004,\n",
       " -18.822524959192656)"
      ]
     },
     "execution_count": 245,
     "metadata": {},
     "output_type": "execute_result"
    }
   ],
   "source": [
    "dG4d=(on.intor('int2e')-cn.intor('int2e'))/2\n",
    "np.einsum(\"ij,ij\",P,dh1),0.5*np.einsum(\"ik,jl,ijkl\",P,P,dG4d) ,dVnn,-np.einsum(\"ij,ij\",W,dS),\\\n",
    "np.einsum(\"ij,ij\",P,dh1)+0.5*np.einsum(\"ik,jl,ijkl\",P,P,dG4d) +dVnn-np.einsum(\"ij,ij\",W,dS)"
   ]
  },
  {
   "cell_type": "code",
   "execution_count": 238,
   "metadata": {},
   "outputs": [
    {
     "data": {
      "text/plain": [
       "(-108.91659161652339, -18.822524959192656, -127.73911657571605)"
      ]
     },
     "execution_count": 238,
     "metadata": {},
     "output_type": "execute_result"
    }
   ],
   "source": [
    "e_nn,np.einsum(\"ij,ij\",P,dh1)+0.5*np.einsum(\"ik,jl,ijkl\",P,P,dG4d) +dVnn-np.einsum(\"ij,ij\",W,dS),\\\n",
    "e_nn+np.einsum(\"ij,ij\",P,dh1)+0.5*np.einsum(\"ik,jl,ijkl\",P,P,dG4d) +dVnn-np.einsum(\"ij,ij\",W,dS)"
   ]
  },
  {
   "cell_type": "code",
   "execution_count": 222,
   "metadata": {},
   "outputs": [
    {
     "data": {
      "text/plain": [
       "(-108.91659161652339, -17.974739570118693, -126.42460558517618)"
      ]
     },
     "execution_count": 222,
     "metadata": {},
     "output_type": "execute_result"
    }
   ],
   "source": [
    "e_nn,np.einsum(\"ij,ij\",P,dh1)+0.5*np.einsum(\"ij,kl,ijkl\",P,P,dG4d) +dVnn-np.einsum(\"ij,ij\",W,dS)*8,\\\n",
    "e_nn+np.einsum(\"ij,ij\",P,dh1)+0.5*np.einsum(\"ij,kl,ijkl\",P,P,dG4d) +dVnn-np.einsum(\"ij,ij\",W,dS)"
   ]
  },
  {
   "cell_type": "code",
   "execution_count": 232,
   "metadata": {},
   "outputs": [
    {
     "data": {
      "text/plain": [
       "-91.4085776478706"
      ]
     },
     "execution_count": 232,
     "metadata": {},
     "output_type": "execute_result"
    }
   ],
   "source": [
    "e_nn-np.einsum(\"ij,ij\",P,dh1)-0.5*np.einsum(\"ij,kl,ijkl\",P,P,dG4d) -dVnn+np.einsum(\"ij,ij\",W,dS)"
   ]
  },
  {
   "cell_type": "code",
   "execution_count": 224,
   "metadata": {
    "scrolled": true
   },
   "outputs": [
    {
     "data": {
      "text/plain": [
       "(-128.87436329463884, -92.25766886951638)"
      ]
     },
     "execution_count": 224,
     "metadata": {},
     "output_type": "execute_result"
    }
   ],
   "source": [
    "e_on,e_cn"
   ]
  },
  {
   "cell_type": "code",
   "execution_count": null,
   "metadata": {},
   "outputs": [],
   "source": [
    "########################################################### Finish"
   ]
  },
  {
   "cell_type": "code",
   "execution_count": 225,
   "metadata": {},
   "outputs": [],
   "source": [
    "def E_cn(l):\n",
    "    mol_l=FcM(fcs=[l,0],atom=\"N1 0 0 0; N2 0 0 2.05\",unit=\"Bohrs\",basis={\"N1\":pcX(7+l,ref=7),\"N2\":pcX(7)},verbose=1)\n",
    "    mf_l=scf.RHF(mol_l)\n",
    "    #mf_l.conv_tol=1e-12\n",
    "    #mf_l.conv_tol_grad=1e-12\n",
    "    e=mf_l.scf(dm0=mf_l.init_guess_by_1e())\n",
    "    return e\n",
    "def P_cn(l):\n",
    "    mol_l=FcM(fcs=[l,0],atom=\"N1 0 0 0; N2 0 0 2.05\",unit=\"Bohrs\",basis={\"N1\":pcX(7+l,ref=7),\"N2\":pcX(7)},verbose=1)\n",
    "    mf_l=scf.RHF(mol_l)\n",
    "    #mf_l.conv_tol=1e-12\n",
    "    #mf_l.conv_tol_grad=1e-12\n",
    "    e=mf_l.scf(dm0=mf_l.init_guess_by_1e())\n",
    "    p=mf_l.make_rdm1()\n",
    "    return p"
   ]
  },
  {
   "cell_type": "code",
   "execution_count": 226,
   "metadata": {},
   "outputs": [
    {
     "name": "stdout",
     "output_type": "stream",
     "text": [
      "converged SCF energy = -128.874363294644\n"
     ]
    },
    {
     "data": {
      "text/plain": [
       "(-128.87436329464583, -128.87436329464418)"
      ]
     },
     "execution_count": 226,
     "metadata": {},
     "output_type": "execute_result"
    }
   ],
   "source": [
    "E_cn(1),E(1)"
   ]
  },
  {
   "cell_type": "markdown",
   "metadata": {},
   "source": [
    "For the second alchemical derivative we need at first the response matrix"
   ]
  },
  {
   "cell_type": "code",
   "execution_count": 197,
   "metadata": {},
   "outputs": [],
   "source": [
    "#The old code for nbs derivs\n",
    "def alchemy_pol_deriv(polobj,dL, with_cphf=True):\n",
    "    mf = polobj._scf\n",
    "    mol = mf.mol\n",
    "    mo_energy = mf.mo_energy\n",
    "    mo_coeff = mf.mo_coeff\n",
    "    mo_occ = mf.mo_occ\n",
    "    occidx = mo_occ > 0\n",
    "    orbo = mo_coeff[:, occidx]\n",
    "    orbv = mo_coeff[:,~occidx]\n",
    "\n",
    "    charges = mol.atom_charges()\n",
    "    coords  = mol.atom_coords()\n",
    "    charge_center = np.einsum('i,ix->x', charges, coords) / charges.sum()\n",
    "    \n",
    "    int_r=DeltaV(mol,dL)    ########   .001 as finite difference intervall  \n",
    "    h1 = lib.einsum('xpq,pi,qj->xij', int_r, mo_coeff.conj(), orbo) #going to molecular orbitals?\n",
    "    s1 = np.zeros_like(h1)\n",
    "    vind = polobj.gen_vind(mf, mo_coeff, mo_occ)\n",
    "    if with_cphf:\n",
    "        mo1,e1 = cphf.solve(vind, mo_energy, mo_occ, h1, s1, polobj.max_cycle_cphf, polobj.conv_tol)\n",
    "    else:\n",
    "        mo1 = rhf_nmr._solve_mo1_uncoupled(mo_energy, mo_occ, h1, s1)[0]\n",
    "    return mo1,e1[0]"
   ]
  },
  {
   "cell_type": "code",
   "execution_count": 198,
   "metadata": {},
   "outputs": [],
   "source": [
    "#attempt to o this for luck\n",
    "from pyscf.scf import cphf\n",
    "vind = mf.Polarizability().gen_vind(mf, C, O)\n",
    "mo1,e1 = cphf.solve(vind, e, O, -dh1[:,:7], dS[:,:7], 20 ,1e-5)"
   ]
  },
  {
   "cell_type": "code",
   "execution_count": 199,
   "metadata": {},
   "outputs": [
    {
     "data": {
      "text/plain": [
       "((48, 7), (7, 7))"
      ]
     },
     "execution_count": 199,
     "metadata": {},
     "output_type": "execute_result"
    }
   ],
   "source": [
    "mo1.shape,e1.shape"
   ]
  },
  {
   "cell_type": "code",
   "execution_count": 246,
   "metadata": {},
   "outputs": [],
   "source": [
    "def make_dP(mf,mo1):\n",
    "    mol=mf.mol\n",
    "    nao=mol.nao\n",
    "    nocc=mf.mol.nelec[0]\n",
    "    C=mf.mo_coeff\n",
    "    dP=np.zeros_like(C)\n",
    "    dP[:,:]=2*np.einsum('ij,jk,lk->il',C,mo1,C[:,:nocc])\n",
    "    return dP+dP.T\n",
    "\n",
    "def make_U(mo1):\n",
    "    U=np.zeros((mo1.shape[0],mo1.shape[0]))\n",
    "    U[:,:mo1.shape[1]]=mo1\n",
    "    U=U-U.T\n",
    "    return U"
   ]
  },
  {
   "cell_type": "code",
   "execution_count": 247,
   "metadata": {},
   "outputs": [
    {
     "data": {
      "text/plain": [
       "<matplotlib.image.AxesImage at 0x7fe6e47d9850>"
      ]
     },
     "execution_count": 247,
     "metadata": {},
     "output_type": "execute_result"
    },
    {
     "data": {
      "image/png": "[encoded data removed]",
      "text/plain": [
       "<Figure size 288x288 with 1 Axes>"
      ]
     },
     "metadata": {
      "needs_background": "light"
     },
     "output_type": "display_data"
    },
    {
     "data": {
      "image/png": "[encoded data removed]",
      "text/plain": [
       "<Figure size 288x288 with 1 Axes>"
      ]
     },
     "metadata": {
      "needs_background": "light"
     },
     "output_type": "display_data"
    }
   ],
   "source": [
    "dP=make_dP(mf,mo1)\n",
    "plt.matshow(dP)\n",
    "plt.matshow(P)"
   ]
  },
  {
   "cell_type": "code",
   "execution_count": 248,
   "metadata": {},
   "outputs": [
    {
     "data": {
      "text/plain": [
       "array([[ 4.34475739e-05,  3.24702608e-04,  1.48414963e-03, ...,\n",
       "        -1.03623503e-04,  6.07770309e-09, -5.32105084e-10],\n",
       "       [ 3.24702608e-04,  2.42666496e-03,  1.10918411e-02, ...,\n",
       "        -7.73017248e-04,  1.51608733e-07, -4.21244423e-09],\n",
       "       [ 1.48414963e-03,  1.10918411e-02,  5.07064903e-02, ...,\n",
       "        -3.66308416e-03,  7.43845139e-07, -1.89475051e-08],\n",
       "       ...,\n",
       "       [-1.03623503e-04, -7.73017248e-04, -3.66308416e-03, ...,\n",
       "         3.80426340e-03,  3.43315708e-06, -6.70777360e-08],\n",
       "       [ 6.07770309e-09,  1.51608733e-07,  7.43845139e-07, ...,\n",
       "         3.43315708e-06,  4.37659595e-03, -1.53341786e-06],\n",
       "       [-5.32105084e-10, -4.21244423e-09, -1.89475051e-08, ...,\n",
       "        -6.70777360e-08, -1.53341786e-06, -6.55052511e-20]])"
      ]
     },
     "execution_count": 248,
     "metadata": {},
     "output_type": "execute_result"
    }
   ],
   "source": [
    "P+dP*.001"
   ]
  },
  {
   "cell_type": "code",
   "execution_count": 249,
   "metadata": {},
   "outputs": [
    {
     "data": {
      "text/plain": [
       "1.8526613104384053"
      ]
     },
     "execution_count": 249,
     "metadata": {},
     "output_type": "execute_result"
    }
   ],
   "source": [
    "from numpy.linalg import norm\n",
    "norm(P_cn(-1)-(P+dP))"
   ]
  },
  {
   "cell_type": "code",
   "execution_count": 250,
   "metadata": {},
   "outputs": [
    {
     "data": {
      "text/plain": [
       "array([[-1.08420217e-19, -6.50521303e-19, -3.90312782e-18, ...,\n",
       "         1.89735380e-19, -2.63657223e-20, -5.89816045e-34],\n",
       "       [-5.42101086e-19, -5.20417043e-18, -2.77555756e-17, ...,\n",
       "         6.50521303e-19, -1.97735593e-19, -4.26112000e-33],\n",
       "       [-2.16840434e-18, -2.77555756e-17, -1.11022302e-16, ...,\n",
       "         3.46944695e-18, -9.16971604e-19, -1.82963345e-32],\n",
       "       ...,\n",
       "       [ 8.13151629e-20,  6.50521303e-19,  5.20417043e-18, ...,\n",
       "         6.93889390e-18,  1.92597824e-19,  1.23259516e-32],\n",
       "       [-2.63657223e-20, -1.97735593e-19, -9.16971604e-19, ...,\n",
       "         1.92597824e-19, -6.93889390e-18, -4.93038066e-32],\n",
       "       [-5.50695593e-34, -4.38149062e-33, -2.04148574e-32, ...,\n",
       "         6.16297582e-33, -4.93038066e-32, -1.75162308e-45]])"
      ]
     },
     "execution_count": 250,
     "metadata": {},
     "output_type": "execute_result"
    }
   ],
   "source": [
    "P@S@P-2*P"
   ]
  },
  {
   "cell_type": "code",
   "execution_count": 251,
   "metadata": {},
   "outputs": [
    {
     "data": {
      "text/plain": [
       "0.7681821538176071"
      ]
     },
     "execution_count": 251,
     "metadata": {},
     "output_type": "execute_result"
    }
   ],
   "source": [
    "norm((P+dP)@S@(P+dP)-2*(P+dP))"
   ]
  },
  {
   "cell_type": "code",
   "execution_count": 252,
   "metadata": {},
   "outputs": [
    {
     "data": {
      "text/plain": [
       "1.2481929404653678"
      ]
     },
     "execution_count": 252,
     "metadata": {},
     "output_type": "execute_result"
    }
   ],
   "source": [
    "norm(P_cn(-1)-(P))"
   ]
  },
  {
   "cell_type": "code",
   "execution_count": 207,
   "metadata": {},
   "outputs": [
    {
     "data": {
      "text/plain": [
       "\"\\ndef solve_mo1(mf, mo_energy, mo_coeff, mo_occ, h1ao_or_chkfile,\\n              fx=None, atmlst=None, max_memory=4000, verbose=None):\\n    '''Solve the first order equation\\n\\n    Kwargs:\\n        fx : function(dm_mo) => v1_mo\\n            A function to generate the induced potential.\\n            See also the function gen_vind.\\n    '''\\n    mol = mf.mol\\n    if atmlst is None: atmlst = range(mol.natm)\\n\\n    nao, nmo = mo_coeff.shape\\n    mocc = mo_coeff[:,mo_occ>0]\\n    nocc = mocc.shape[1]\\n\\n    if fx is None:\\n        fx = gen_vind(mf, mo_coeff, mo_occ)\\n    s1a = -mol.intor('int1e_ipovlp', comp=3)\\n\\n    def _ao2mo(mat):\\n        return numpy.asarray([reduce(numpy.dot, (mo_coeff.T, x, mocc)) for x in mat])\\n\\n    mem_now = lib.current_memory()[0]\\n    max_memory = max(2000, max_memory*.9-mem_now)\\n    blksize = max(2, int(max_memory*1e6/8 / (nmo*nocc*3*6)))\\n    mo1s = [None] * mol.natm\\n    e1s = [None] * mol.natm\\n    aoslices = mol.aoslice_by_atom()\\n    for ia0, ia1 in lib.prange(0, len(atmlst), blksize):\\n        s1vo = []\\n        h1vo = []\\n        for i0 in range(ia0, ia1):\\n            ia = atmlst[i0]\\n            shl0, shl1, p0, p1 = aoslices[ia]\\n            s1ao = numpy.zeros((3,nao,nao))\\n            s1ao[:,p0:p1] += s1a[:,p0:p1]\\n            s1ao[:,:,p0:p1] += s1a[:,p0:p1].transpose(0,2,1)\\n            s1vo.append(_ao2mo(s1ao))\\n            if isinstance(h1ao_or_chkfile, str):\\n                key = 'scf_f1ao/%d' % ia\\n                h1ao = lib.chkfile.load(h1ao_or_chkfile, key)\\n            else:\\n                h1ao = h1ao_or_chkfile[ia]\\n            h1vo.append(_ao2mo(h1ao))\\n\\n        h1vo = numpy.vstack(h1vo)\\n        s1vo = numpy.vstack(s1vo)\\n        mo1, e1 = cphf.solve(fx, mo_energy, mo_occ, h1vo, s1vo)\\n        mo1 = numpy.einsum('pq,xqi->xpi', mo_coeff, mo1).reshape(-1,3,nao,nocc)\\n        e1 = e1.reshape(-1,3,nocc,nocc)\\n\\n        for k in range(ia1-ia0):\\n            ia = atmlst[k+ia0]\\n            if isinstance(h1ao_or_chkfile, str):\\n                key = 'scf_mo1/%d' % ia\\n                lib.chkfile.save(h1ao_or_chkfile, key, mo1[k])\\n            else:\\n                mo1s[ia] = mo1[k]\\n            e1s[ia] = e1[k].reshape(3,nocc,nocc)\\n        mo1 = e1 = None\\n\\n    if isinstance(h1ao_or_chkfile, str):\\n        return h1ao_or_chkfile, e1s\\n    else:\\n        return mo1s, e1s\\n\\n\""
      ]
     },
     "execution_count": 207,
     "metadata": {},
     "output_type": "execute_result"
    }
   ],
   "source": [
    "# FOR HESSIAN CALCULATIONS \n",
    "# if mo1 is None or mo_e1 is None:\n",
    "#         mo1, mo_e1 = hessobj.solve_mo1(mo_energy, mo_coeff, mo_occ, h1ao,\n",
    "#                                        None, atmlst, max_memory, log)\n",
    "\"\"\"\n",
    "def solve_mo1(mf, mo_energy, mo_coeff, mo_occ, h1ao_or_chkfile,\n",
    "              fx=None, atmlst=None, max_memory=4000, verbose=None):\n",
    "    '''Solve the first order equation\n",
    "\n",
    "    Kwargs:\n",
    "        fx : function(dm_mo) => v1_mo\n",
    "            A function to generate the induced potential.\n",
    "            See also the function gen_vind.\n",
    "    '''\n",
    "    mol = mf.mol\n",
    "    if atmlst is None: atmlst = range(mol.natm)\n",
    "\n",
    "    nao, nmo = mo_coeff.shape\n",
    "    mocc = mo_coeff[:,mo_occ>0]\n",
    "    nocc = mocc.shape[1]\n",
    "\n",
    "    if fx is None:\n",
    "        fx = gen_vind(mf, mo_coeff, mo_occ)\n",
    "    s1a = -mol.intor('int1e_ipovlp', comp=3)\n",
    "\n",
    "    def _ao2mo(mat):\n",
    "        return numpy.asarray([reduce(numpy.dot, (mo_coeff.T, x, mocc)) for x in mat])\n",
    "\n",
    "    mem_now = lib.current_memory()[0]\n",
    "    max_memory = max(2000, max_memory*.9-mem_now)\n",
    "    blksize = max(2, int(max_memory*1e6/8 / (nmo*nocc*3*6)))\n",
    "    mo1s = [None] * mol.natm\n",
    "    e1s = [None] * mol.natm\n",
    "    aoslices = mol.aoslice_by_atom()\n",
    "    for ia0, ia1 in lib.prange(0, len(atmlst), blksize):\n",
    "        s1vo = []\n",
    "        h1vo = []\n",
    "        for i0 in range(ia0, ia1):\n",
    "            ia = atmlst[i0]\n",
    "            shl0, shl1, p0, p1 = aoslices[ia]\n",
    "            s1ao = numpy.zeros((3,nao,nao))\n",
    "            s1ao[:,p0:p1] += s1a[:,p0:p1]\n",
    "            s1ao[:,:,p0:p1] += s1a[:,p0:p1].transpose(0,2,1)\n",
    "            s1vo.append(_ao2mo(s1ao))\n",
    "            if isinstance(h1ao_or_chkfile, str):\n",
    "                key = 'scf_f1ao/%d' % ia\n",
    "                h1ao = lib.chkfile.load(h1ao_or_chkfile, key)\n",
    "            else:\n",
    "                h1ao = h1ao_or_chkfile[ia]\n",
    "            h1vo.append(_ao2mo(h1ao))\n",
    "\n",
    "        h1vo = numpy.vstack(h1vo)\n",
    "        s1vo = numpy.vstack(s1vo)\n",
    "        mo1, e1 = cphf.solve(fx, mo_energy, mo_occ, h1vo, s1vo)\n",
    "        mo1 = numpy.einsum('pq,xqi->xpi', mo_coeff, mo1).reshape(-1,3,nao,nocc)\n",
    "        e1 = e1.reshape(-1,3,nocc,nocc)\n",
    "\n",
    "        for k in range(ia1-ia0):\n",
    "            ia = atmlst[k+ia0]\n",
    "            if isinstance(h1ao_or_chkfile, str):\n",
    "                key = 'scf_mo1/%d' % ia\n",
    "                lib.chkfile.save(h1ao_or_chkfile, key, mo1[k])\n",
    "            else:\n",
    "                mo1s[ia] = mo1[k]\n",
    "            e1s[ia] = e1[k].reshape(3,nocc,nocc)\n",
    "        mo1 = e1 = None\n",
    "\n",
    "    if isinstance(h1ao_or_chkfile, str):\n",
    "        return h1ao_or_chkfile, e1s\n",
    "    else:\n",
    "        return mo1s, e1s\n",
    "\n",
    "\"\"\""
   ]
  },
  {
   "cell_type": "code",
   "execution_count": null,
   "metadata": {},
   "outputs": [],
   "source": []
  }
 ],
 "metadata": {
  "kernelspec": {
   "display_name": "Python 3",
   "language": "python",
   "name": "python3"
  },
  "language_info": {
   "codemirror_mode": {
    "name": "ipython",
    "version": 3
   },
   "file_extension": ".py",
   "mimetype": "text/x-python",
   "name": "python",
   "nbconvert_exporter": "python",
   "pygments_lexer": "ipython3",
   "version": "3.8.8"
  }
 },
 "nbformat": 4,
 "nbformat_minor": 2
}
