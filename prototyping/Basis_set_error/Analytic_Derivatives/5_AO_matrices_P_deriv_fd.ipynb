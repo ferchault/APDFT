{
 "cells": [
  {
   "cell_type": "code",
   "execution_count": 1,
   "metadata": {},
   "outputs": [],
   "source": [
    "import basis_set_exchange as bse\n",
    "import scipy as sp\n",
    "import matplotlib.pyplot as plt\n",
    "from pyscf import gto,scf\n",
    "import copy\n",
    "import numpy as np\n",
    "import scipy\n",
    "from scipy.interpolate import interp1d\n",
    "from pyscf.data.elements import _symbol\n",
    "from pyscf.grad import RHF as g"
   ]
  },
  {
   "cell_type": "code",
   "execution_count": 2,
   "metadata": {},
   "outputs": [],
   "source": [
    "import inspect\n",
    "import sys\n",
    "sys.path.append(\"../Libs\")\n",
    "from FcMole import FcM,FcM_like\n",
    "from FDcoeffs import get_coeffs"
   ]
  },
  {
   "cell_type": "code",
   "execution_count": 136,
   "metadata": {},
   "outputs": [],
   "source": [
    "#5pts finite difference coefficients\n",
    "fd1=np.asarray([1/12,-2/3 ,0,2/3,-1/12])\n",
    "fd2=np.asarray([-1/12,4/3,-5/2,4/3,-1/12])\n",
    "fd3=np.asarray([-1/2,1,0,-1,1/2])\n",
    "fd4=np.asarray([1,-4,6,-4,1])\n",
    "fds=[fd1,fd2,fd3,fd4]\n",
    "fds5=get_coeffs(5)\n",
    "fds7=get_coeffs(7)"
   ]
  },
  {
   "cell_type": "markdown",
   "metadata": {},
   "source": [
    "The formula for the gradient is stated in Pople's article (Eq.21) as: \n",
    "$$ \\frac{\\partial E}{\\partial Z}= \\sum_{\\mu\\nu}P_{\\mu\\nu}\\frac{\\partial H_{\\mu\\nu}}{\\partial Z}+\\frac{1}{2}\\sum_{\\mu\\nu\\lambda\\sigma}\n",
    "P_{\\mu\\nu}P_{\\lambda\\sigma}\\frac{\\partial}{\\partial Z}(\\mu \\lambda | | \\nu\\sigma)+\\frac{\\partial V_{nuc}}{\\partial Z} \n",
    "-\\sum_{\\mu\\nu}W_{\\mu\\nu}\\frac{\\partial S_{\\mu\\nu}}{\\partial Z}\n",
    "$$\n",
    "$W$ is an energy weighted density matrix:\n",
    "$$ W_{\\mu\\nu}= \\sum_i ^{mo.occ.} \\epsilon_i c_{\\mu i} c_{\\nu i}^\\dagger\n",
    "$$"
   ]
  },
  {
   "cell_type": "code",
   "execution_count": 315,
   "metadata": {},
   "outputs": [
    {
     "name": "stdout",
     "output_type": "stream",
     "text": [
      "converged SCF energy = -107.491645836044\n"
     ]
    }
   ],
   "source": [
    "nn=gto.M(atom=\"N 0 0 0; N 0 0 2.05\",unit=\"Bohr\",basis=bse.get_basis(\"sto-3g\",fmt=\"nwchem\",elements=[6,7,8]))\n",
    "mf=scf.RHF(nn)\n",
    "e_nn=mf.scf()"
   ]
  },
  {
   "cell_type": "code",
   "execution_count": 316,
   "metadata": {},
   "outputs": [],
   "source": [
    "S_nn=mf.get_ovlp()\n",
    "h1_nn=mf.get_hcore()\n",
    "P_nn=mf.make_rdm1()\n",
    "g_ijkl=nn.intor('int2e', aosym='s8')\n",
    "\n",
    "C=mf.mo_coeff\n",
    "O=mf.mo_occ\n",
    "e=mf.mo_energy"
   ]
  },
  {
   "cell_type": "code",
   "execution_count": 317,
   "metadata": {},
   "outputs": [
    {
     "name": "stdout",
     "output_type": "stream",
     "text": [
      "The autoreload extension is already loaded. To reload it, use:\n",
      "  %reload_ext autoreload\n"
     ]
    }
   ],
   "source": [
    "%load_ext autoreload\n",
    "%autoreload 2\n",
    "from ao_scf import ao_RHF"
   ]
  },
  {
   "cell_type": "code",
   "execution_count": 318,
   "metadata": {},
   "outputs": [],
   "source": [
    "nn2=gto.M(atom=\"C 0 0 0; O 0 0 2.05\",unit=\"Bohr\",basis=bse.get_basis(\"sto-3g\",fmt=\"nwchem\",elements=[6,7,8]))\n",
    "aor=ao_RHF(nn2,S_ao=S_nn,hcore=h1_nn,eri=g_ijkl)"
   ]
  },
  {
   "cell_type": "code",
   "execution_count": 319,
   "metadata": {},
   "outputs": [
    {
     "name": "stdout",
     "output_type": "stream",
     "text": [
      "converged SCF energy = -107.979450714093\n"
     ]
    },
    {
     "data": {
      "text/plain": [
       "-107.491645836044"
      ]
     },
     "execution_count": 319,
     "metadata": {},
     "output_type": "execute_result"
    }
   ],
   "source": [
    "aor.scf()+1/2.05"
   ]
  },
  {
   "cell_type": "code",
   "execution_count": 320,
   "metadata": {},
   "outputs": [],
   "source": [
    "cn=gto.M(atom=\"C 0 0 0; N 0 0 2.05\",unit=\"Bohr\",basis=bse.get_basis(\"sto-3g\",fmt=\"nwchem\",elements=[6,7,8]),charge=-1)\n",
    "on=gto.M(atom=\"O 0 0 0; N 0 0 2.05\",unit=\"Bohr\",basis=bse.get_basis(\"sto-3g\",fmt=\"nwchem\",elements=[6,7,8]),charge=1)"
   ]
  },
  {
   "cell_type": "code",
   "execution_count": 321,
   "metadata": {},
   "outputs": [
    {
     "name": "stdout",
     "output_type": "stream",
     "text": [
      "converged SCF energy = -127.196060151265\n",
      "converged SCF energy = -90.9175998689458\n"
     ]
    }
   ],
   "source": [
    "mf_on=scf.RHF(on)\n",
    "mf_cn=scf.RHF(cn)\n",
    "e_on=mf_on.scf()\n",
    "e_cn=mf_cn.scf()\n",
    "S_on=mf_on.get_ovlp()\n",
    "S_cn=mf_cn.get_ovlp()"
   ]
  },
  {
   "cell_type": "code",
   "execution_count": 322,
   "metadata": {},
   "outputs": [],
   "source": [
    "dS=(S_on-S_cn)/2\n",
    "dh1=(mf_on.get_hcore()-mf_cn.get_hcore())/2\n",
    "dG=(on.intor('int2e', aosym='s8')-cn.intor('int2e', aosym='s8'))/2\n",
    "dVnn=(8*7-7*7)/2.05\n",
    "d2S=(mf_on.get_ovlp()+mf_cn.get_ovlp()-2*mf.get_ovlp())\n",
    "d2h1=(mf_on.get_hcore()+mf_cn.get_hcore()-2*mf.get_hcore())\n",
    "d2G=(on.intor('int2e', aosym='s8')+cn.intor('int2e', aosym='s8')-2*nn.intor('int2e', aosym='s8'))"
   ]
  },
  {
   "cell_type": "code",
   "execution_count": 323,
   "metadata": {},
   "outputs": [],
   "source": [
    "def E(l):\n",
    "    return ao_RHF(FcM_like(nn,fcs=[l,0]),S_ao=S_nn+dS*l+d2S*l**2/2,hcore=h1_nn+dh1*l+d2h1*l**2/2,\\\n",
    "                  eri=g_ijkl+dG*l+d2G*l**2/2).scf()\n",
    "def P(l):\n",
    "    mf=ao_RHF(FcM_like(nn,fcs=[l,0]),S_ao=S_nn+dS*l+d2S*l**2/2,hcore=h1_nn+dh1*l+d2h1*l**2/2,\\\n",
    "                  eri=g_ijkl+dG*l+d2G*l**2/2)\n",
    "    mf.scf()\n",
    "    return mf.make_rdm1()"
   ]
  },
  {
   "cell_type": "code",
   "execution_count": 324,
   "metadata": {},
   "outputs": [
    {
     "data": {
      "text/plain": [
       "1.1785910965908685e-16"
      ]
     },
     "execution_count": 324,
     "metadata": {},
     "output_type": "execute_result"
    }
   ],
   "source": [
    "norm(S_on-S_nn-dS-d2S/2)"
   ]
  },
  {
   "cell_type": "code",
   "execution_count": 325,
   "metadata": {},
   "outputs": [
    {
     "name": "stdout",
     "output_type": "stream",
     "text": [
      "converged SCF energy = -108.39995410385\n",
      "converged SCF energy = -106.591195211803\n"
     ]
    },
    {
     "data": {
      "text/plain": [
       "-18.08758892047109"
      ]
     },
     "execution_count": 325,
     "metadata": {},
     "output_type": "execute_result"
    }
   ],
   "source": [
    "(E(.05)-E(-.05))/.1"
   ]
  },
  {
   "cell_type": "code",
   "execution_count": 326,
   "metadata": {},
   "outputs": [],
   "source": [
    "#from np.grad.rhf   , makes w\n",
    "def make_rdm1e(mo_energy, mo_coeff, mo_occ):\n",
    "    '''Energy weighted density matrix'''\n",
    "    mo0 = mo_coeff[:,mo_occ>0]\n",
    "    mo0e = mo0 * (mo_energy[mo_occ>0] * mo_occ[mo_occ>0])\n",
    "    return np.dot(mo0e, mo0.T)"
   ]
  },
  {
   "cell_type": "code",
   "execution_count": 327,
   "metadata": {},
   "outputs": [],
   "source": [
    "W=make_rdm1e(e,C,O)"
   ]
  },
  {
   "cell_type": "markdown",
   "metadata": {},
   "source": [
    "$$ \\frac{\\partial E}{\\partial Z}= \\sum_{\\mu\\nu}P_{\\mu\\nu}\\frac{\\partial H_{\\mu\\nu}}{\\partial Z}+\\frac{1}{2}\\sum_{\\mu\\nu\\lambda\\sigma}\n",
    "P_{\\mu\\nu}P_{\\lambda\\sigma}\\frac{\\partial}{\\partial Z}(\\mu \\lambda | | \\nu\\sigma)+\\frac{\\partial V_{nuc}}{\\partial Z} \n",
    "-\\sum_{\\mu\\nu}W_{\\mu\\nu}\\frac{\\partial S_{\\mu\\nu}}{\\partial Z}\n",
    "$$\n",
    "$W$ is an energy weighted density matrix:\n",
    "$$ W_{\\mu\\nu}= \\sum_i ^{mo.occ.} \\epsilon_i c_{\\mu i} c_{\\nu i}^\\dagger\n",
    "$$"
   ]
  },
  {
   "cell_type": "code",
   "execution_count": 328,
   "metadata": {},
   "outputs": [
    {
     "data": {
      "text/plain": [
       "(-23.9084404311711,\n",
       " 3.288363658726061,\n",
       " -0.816882664159562,\n",
       " 3.414634146341464,\n",
       " -0.06513246820968588,\n",
       " -18.087457758472823)"
      ]
     },
     "execution_count": 328,
     "metadata": {},
     "output_type": "execute_result"
    }
   ],
   "source": [
    "dG4d=(on.intor('int2e')-cn.intor('int2e'))/2   # move to J-k/2\n",
    "np.einsum(\"ij,ij\",P_nn,dh1),0.5*np.einsum(\"ij,kl,ijkl\",P_nn,P_nn,dG4d),-np.einsum(\"ik,jl,ijkl\",P_nn,P_nn,dG4d)/4 ,dVnn,-np.einsum(\"ij,ij\",W,dS),\\\n",
    "np.einsum(\"ij,ij\",P_nn,dh1)+0.5*np.einsum(\"ij,kl,ijkl\",P_nn,P_nn,dG4d)-np.einsum(\"ik,jl,ijkl\",P_nn,P_nn,dG4d)/4 +dVnn-np.einsum(\"ij,ij\",W,dS)"
   ]
  },
  {
   "cell_type": "code",
   "execution_count": 329,
   "metadata": {},
   "outputs": [
    {
     "data": {
      "text/plain": [
       "-18.087457758472823"
      ]
     },
     "execution_count": 329,
     "metadata": {},
     "output_type": "execute_result"
    }
   ],
   "source": [
    "# This works  forgot to K-J/2\n",
    "np.einsum(\"ij,ij\",P_nn,dh1)+0.5*np.einsum(\"ij,kl,ijkl\",P_nn,P_nn,dG4d)-np.einsum(\"ik,jl,ijkl\",P_nn,P_nn,dG4d)/4 +dVnn-np.einsum(\"ij,ij\",W,dS)"
   ]
  },
  {
   "cell_type": "code",
   "execution_count": 330,
   "metadata": {},
   "outputs": [
    {
     "data": {
      "text/plain": [
       "(-107.49164583604406, -18.087457758472823, -125.57910359451685)"
      ]
     },
     "execution_count": 330,
     "metadata": {},
     "output_type": "execute_result"
    }
   ],
   "source": [
    "e_nn,np.einsum(\"ij,ij\",P_nn,dh1)+0.5*np.einsum(\"ij,kl,ijkl\",P_nn,P_nn,dG4d)-np.einsum(\"ik,jl,ijkl\",P_nn,P_nn,dG4d)/4 +dVnn-np.einsum(\"ij,ij\",W,dS),\\\n",
    "e_nn+np.einsum(\"ij,ij\",P_nn,dh1)+0.5*np.einsum(\"ij,kl,ijkl\",P_nn,P_nn,dG4d)-np.einsum(\"ik,jl,ijkl\",P_nn,P_nn,dG4d)/4 +dVnn-np.einsum(\"ij,ij\",W,dS)"
   ]
  },
  {
   "cell_type": "code",
   "execution_count": 331,
   "metadata": {},
   "outputs": [
    {
     "data": {
      "text/plain": [
       "-89.40418807757123"
      ]
     },
     "execution_count": 331,
     "metadata": {},
     "output_type": "execute_result"
    }
   ],
   "source": [
    "e_nn-np.einsum(\"ij,ij\",P_nn,dh1)-0.5*np.einsum(\"ij,kl,ijkl\",P_nn,P_nn,dG4d)+np.einsum(\"ik,jl,ijkl\",P_nn,P_nn,dG4d)/4 -dVnn+np.einsum(\"ij,ij\",W,dS)"
   ]
  },
  {
   "cell_type": "code",
   "execution_count": 332,
   "metadata": {
    "scrolled": true
   },
   "outputs": [
    {
     "data": {
      "text/plain": [
       "(-127.19606015126459, -90.91759986894584)"
      ]
     },
     "execution_count": 332,
     "metadata": {},
     "output_type": "execute_result"
    }
   ],
   "source": [
    "e_on,e_cn"
   ]
  },
  {
   "cell_type": "code",
   "execution_count": 333,
   "metadata": {},
   "outputs": [],
   "source": [
    "########################################################### Finish"
   ]
  },
  {
   "cell_type": "markdown",
   "metadata": {},
   "source": [
    "For the second alchemical derivative we need at first the response matrix"
   ]
  },
  {
   "cell_type": "code",
   "execution_count": 386,
   "metadata": {},
   "outputs": [
    {
     "name": "stdout",
     "output_type": "stream",
     "text": [
      "converged SCF energy = -109.316158807033\n",
      "converged SCF energy = -105.698562338292\n"
     ]
    }
   ],
   "source": [
    "# For confrontation\n",
    "P_nn=mf.make_rdm1()\n",
    "P_on=mf_on.make_rdm1()\n",
    "P_cn=mf_cn.make_rdm1()\n",
    "S_on=mf_on.get_ovlp()\n",
    "dP_fd=(P(.1)-P(-.1))/.2"
   ]
  },
  {
   "cell_type": "code",
   "execution_count": 345,
   "metadata": {},
   "outputs": [
    {
     "data": {
      "text/plain": [
       "(0.17042041102717045,\n",
       " 0.6139641971704983,\n",
       " 5.167107809446383,\n",
       " 5.314531725458018,\n",
       " 0.6676065119825879,\n",
       " 5.264820523937844)"
      ]
     },
     "execution_count": 345,
     "metadata": {},
     "output_type": "execute_result"
    }
   ],
   "source": [
    "norm((P_nn+dP_fd)-P_on),norm(P_nn-P_on),norm(P_nn),norm(P_nn+dP_fd),norm(dP_fd),norm(P_on)"
   ]
  },
  {
   "cell_type": "code",
   "execution_count": 346,
   "metadata": {},
   "outputs": [
    {
     "name": "stdout",
     "output_type": "stream",
     "text": [
      "converged SCF energy = -127.196060151268\n"
     ]
    },
    {
     "data": {
      "text/plain": [
       "(0.17042059647664487,\n",
       " 0.6139611818598424,\n",
       " 5.167107809446383,\n",
       " 5.314531725458018,\n",
       " 0.6676065119825879,\n",
       " 5.264820260323712)"
      ]
     },
     "execution_count": 346,
     "metadata": {},
     "output_type": "execute_result"
    }
   ],
   "source": [
    "dl=1\n",
    "P_1=P(dl)\n",
    "norm((P_nn+dP_fd*dl)-P_1),norm(P_nn-P_1),norm(P_nn),norm(P_nn+dP_fd*dl),norm(dP_fd),norm(P_1)"
   ]
  },
  {
   "cell_type": "code",
   "execution_count": 347,
   "metadata": {},
   "outputs": [
    {
     "data": {
      "text/plain": [
       "(13.999999999999995, 13.98395154431946)"
      ]
     },
     "execution_count": 347,
     "metadata": {},
     "output_type": "execute_result"
    }
   ],
   "source": [
    "np.einsum(\"ij,ij\",S_on,P_on),np.einsum(\"ij,ij\",S_on,P_nn+dP_fd)"
   ]
  },
  {
   "cell_type": "code",
   "execution_count": 348,
   "metadata": {},
   "outputs": [
    {
     "data": {
      "text/plain": [
       "<matplotlib.image.AxesImage at 0x7f5c1066d310>"
      ]
     },
     "execution_count": 348,
     "metadata": {},
     "output_type": "execute_result"
    },
    {
     "data": {
      "image/png": "[encoded data removed]",
      "text/plain": [
       "<Figure size 288x288 with 1 Axes>"
      ]
     },
     "metadata": {
      "needs_background": "light"
     },
     "output_type": "display_data"
    }
   ],
   "source": [
    "plt.matshow(dP_fd)"
   ]
  },
  {
   "cell_type": "code",
   "execution_count": 349,
   "metadata": {},
   "outputs": [
    {
     "data": {
      "text/plain": [
       "<matplotlib.image.AxesImage at 0x7f5c086c4d30>"
      ]
     },
     "execution_count": 349,
     "metadata": {},
     "output_type": "execute_result"
    },
    {
     "data": {
      "image/png": "[encoded data removed]",
      "text/plain": [
       "<Figure size 288x288 with 1 Axes>"
      ]
     },
     "metadata": {
      "needs_background": "light"
     },
     "output_type": "display_data"
    },
    {
     "data": {
      "image/png": "[encoded data removed]",
      "text/plain": [
       "<Figure size 288x288 with 1 Axes>"
      ]
     },
     "metadata": {
      "needs_background": "light"
     },
     "output_type": "display_data"
    },
    {
     "data": {
      "image/png": "[encoded data removed]",
      "text/plain": [
       "<Figure size 288x288 with 1 Axes>"
      ]
     },
     "metadata": {
      "needs_background": "light"
     },
     "output_type": "display_data"
    },
    {
     "data": {
      "image/png": "[encoded data removed]",
      "text/plain": [
       "<Figure size 288x288 with 1 Axes>"
      ]
     },
     "metadata": {
      "needs_background": "light"
     },
     "output_type": "display_data"
    },
    {
     "data": {
      "image/png": "[encoded data removed]",
      "text/plain": [
       "<Figure size 288x288 with 1 Axes>"
      ]
     },
     "metadata": {
      "needs_background": "light"
     },
     "output_type": "display_data"
    }
   ],
   "source": [
    "plt.matshow(P_on)\n",
    "plt.matshow(P_nn)\n",
    "plt.matshow(dP_fd)\n",
    "plt.matshow(P_nn+dP_fd)\n",
    "plt.matshow(P_on-dP_fd-P_nn)"
   ]
  },
  {
   "cell_type": "code",
   "execution_count": 350,
   "metadata": {},
   "outputs": [
    {
     "name": "stdout",
     "output_type": "stream",
     "text": [
      "converged SCF energy = -108.39995410385\n",
      "converged SCF energy = -106.591195211803\n"
     ]
    }
   ],
   "source": [
    "#second order term\n",
    "dP_fd2=(P(.05)+P(-.05)-2*P_nn)/.05**2"
   ]
  },
  {
   "cell_type": "code",
   "execution_count": 351,
   "metadata": {},
   "outputs": [
    {
     "data": {
      "text/plain": [
       "(0.13558187464874855, 0.17042041102717045)"
      ]
     },
     "execution_count": 351,
     "metadata": {},
     "output_type": "execute_result"
    }
   ],
   "source": [
    "norm((P_nn+dP_fd+dP_fd2/2)-P_on),norm((P_nn+dP_fd)-P_on)"
   ]
  },
  {
   "cell_type": "code",
   "execution_count": 361,
   "metadata": {},
   "outputs": [
    {
     "name": "stdout",
     "output_type": "stream",
     "text": [
      "converged SCF energy = -98.8338269134044\n"
     ]
    },
    {
     "data": {
      "text/plain": [
       "(0.036233824446497795, 0.01581799957091298)"
      ]
     },
     "execution_count": 361,
     "metadata": {},
     "output_type": "execute_result"
    }
   ],
   "source": [
    "dl=-.5\n",
    "P_1=P(dl)\n",
    "norm((P_nn+dP_fd*dl)-P_1),norm((P_nn+dP_fd*dl+dP_fd2*dl**2/2)-P_1)"
   ]
  },
  {
   "cell_type": "code",
   "execution_count": 356,
   "metadata": {},
   "outputs": [],
   "source": [
    "#for i in np.linspace(-1,1,11):\n",
    "#    P_i=P(i)\n",
    "#    print(\"********\\n\",np.around(i,decimals=2),norm(P_i-P_on),norm(P_i-P_nn),\"********\\n\")"
   ]
  },
  {
   "cell_type": "code",
   "execution_count": 357,
   "metadata": {},
   "outputs": [
    {
     "data": {
      "text/plain": [
       "(14.0, 14.079330592447716)"
      ]
     },
     "execution_count": 357,
     "metadata": {},
     "output_type": "execute_result"
    }
   ],
   "source": [
    "np.einsum(\"ij,ij\",P_nn,S_nn),np.einsum(\"ij,ij\",P_nn+dP_fd,S_nn)"
   ]
  },
  {
   "cell_type": "code",
   "execution_count": 358,
   "metadata": {},
   "outputs": [
    {
     "data": {
      "text/plain": [
       "(13.999999999999995, 13.98395154431946)"
      ]
     },
     "execution_count": 358,
     "metadata": {},
     "output_type": "execute_result"
    }
   ],
   "source": [
    "np.einsum(\"ij,ij\",P_on,S_on),np.einsum(\"ij,ij\",P_nn+dP_fd,S_on)"
   ]
  },
  {
   "cell_type": "code",
   "execution_count": 359,
   "metadata": {},
   "outputs": [
    {
     "data": {
      "text/plain": [
       "(14.101250590877395, 13.888393736546732)"
      ]
     },
     "execution_count": 359,
     "metadata": {},
     "output_type": "execute_result"
    }
   ],
   "source": [
    "np.einsum(\"ij,ij\",P_on,S_nn),np.einsum(\"ij,ij\",P_nn,S_on)"
   ]
  },
  {
   "cell_type": "code",
   "execution_count": null,
   "metadata": {},
   "outputs": [],
   "source": []
  },
  {
   "cell_type": "code",
   "execution_count": null,
   "metadata": {},
   "outputs": [],
   "source": []
  },
  {
   "cell_type": "markdown",
   "metadata": {},
   "source": [
    "# On Analytical derivatives"
   ]
  },
  {
   "cell_type": "code",
   "execution_count": 454,
   "metadata": {},
   "outputs": [],
   "source": [
    "\n",
    "def make_dP(mf,mo1):\n",
    "    mol=mf.mol\n",
    "    nao=mol.nao\n",
    "    nocc=mf.mol.nelec[0]\n",
    "    C=mf.mo_coeff\n",
    "    dP=np.zeros_like(C)\n",
    "    dP[:,:]=2*np.einsum('ij,jk,lk->il',C,mo1,C[:,:nocc])\n",
    "    return dP+dP.T\n",
    "\n",
    "def make_U(mo1):\n",
    "    U=np.zeros((mo1.shape[0],mo1.shape[0]))\n",
    "    U[:,:mo1.shape[1]]=mo1\n",
    "    U=U-U.T\n",
    "    return U"
   ]
  },
  {
   "cell_type": "code",
   "execution_count": 474,
   "metadata": {},
   "outputs": [],
   "source": [
    "#The old code for nbs derivs\n",
    "def alchemy_pol_deriv(polobj,dL, with_cphf=True):\n",
    "    mf = polobj._scf\n",
    "    mol = mf.mol\n",
    "    mo_energy = mf.mo_energy\n",
    "    mo_coeff = mf.mo_coeff\n",
    "    mo_occ = mf.mo_occ\n",
    "    occidx = mo_occ > 0\n",
    "    orbo = mo_coeff[:, occidx]\n",
    "    orbv = mo_coeff[:,~occidx]\n",
    "    charges = mol.atom_charges()\n",
    "    coords  = mol.atom_coords()\n",
    "    charge_center = np.einsum('i,ix->x', charges, coords) / charges.sum()\n",
    "    int_r=DeltaV(mol,dL)    ########   .001 as finite difference intervall  \n",
    "    h1 = lib.einsum('xpq,pi,qj->xij', int_r, mo_coeff.conj(), orbo) #going to molecular orbitals?\n",
    "    s1 = np.zeros_like(h1)\n",
    "    vind = polobj.gen_vind(mf, mo_coeff, mo_occ)\n",
    "    if with_cphf:\n",
    "        mo1,e1 = cphf.solve(vind, mo_energy, mo_occ, h1, s1, polobj.max_cycle_cphf, polobj.conv_tol)\n",
    "    else:\n",
    "        mo1 = rhf_nmr._solve_mo1_uncoupled(mo_energy, mo_occ, h1, s1)[0]\n",
    "    return mo1,e1[0]"
   ]
  },
  {
   "cell_type": "code",
   "execution_count": 513,
   "metadata": {},
   "outputs": [],
   "source": [
    "#attempt to o this for luck\n",
    "\n",
    "\n",
    "\n",
    "\n",
    "\n",
    "\n",
    "\n",
    "C=mf.mo_coeff\n",
    "vind = mf.Polarizability().gen_vind(mf, C, O)\n",
    "occidx = O > 0\n",
    "orbo = C[:, occidx]\n",
    "dh1_mo = lib.einsum('pq,pi,qj->ij', dh1, C.conj(), orbo) #going to molecular orbitals?\n",
    "dS1_mo = lib.einsum('pq,pi,qj->ij', dS, C.conj(), orbo) #going to molecular orbitals?\n",
    "dS1_mo =  np.zeros_like(dS1_mo)\n",
    "mo1,e1 = cphf.solve(vind, e, O, -dh1[:,:7], dS1_mo[:,:7], 40 ,1e-8)"
   ]
  },
  {
   "cell_type": "code",
   "execution_count": 514,
   "metadata": {},
   "outputs": [
    {
     "data": {
      "text/plain": [
       "<matplotlib.image.AxesImage at 0x7f5c00475580>"
      ]
     },
     "execution_count": 514,
     "metadata": {},
     "output_type": "execute_result"
    },
    {
     "data": {
      "image/png": "[encoded data removed]",
      "text/plain": [
       "<Figure size 288x288 with 1 Axes>"
      ]
     },
     "metadata": {
      "needs_background": "light"
     },
     "output_type": "display_data"
    },
    {
     "data": {
      "image/png": "[encoded data removed]",
      "text/plain": [
       "<Figure size 288x288 with 1 Axes>"
      ]
     },
     "metadata": {
      "needs_background": "light"
     },
     "output_type": "display_data"
    }
   ],
   "source": [
    "dP=make_dP(mf,mo1)\n",
    "plt.matshow(dP)\n",
    "plt.matshow(dP_fd)"
   ]
  },
  {
   "cell_type": "code",
   "execution_count": 501,
   "metadata": {},
   "outputs": [
    {
     "data": {
      "text/plain": [
       "(8.638848705580328, 8.49916436182672)"
      ]
     },
     "execution_count": 501,
     "metadata": {},
     "output_type": "execute_result"
    }
   ],
   "source": [
    "norm(P_nn+dP),norm(P_nn+dP-P_on)"
   ]
  },
  {
   "cell_type": "code",
   "execution_count": 483,
   "metadata": {},
   "outputs": [],
   "source": [
    "import numpy\n",
    "def solve_mo1(mf, mo_energy, mo_coeff, mo_occ, h1ao_or_chkfile,\n",
    "              fx=None, atmlst=None, max_memory=4000, verbose=None):\n",
    "    '''Solve the first order equation\n",
    "    Kwargs:\n",
    "        fx : function(dm_mo) => v1_mo\n",
    "            A function to generate the induced potential.\n",
    "            See also the function gen_vind.\n",
    "    '''\n",
    "    mol = mf.mol\n",
    "    nao, nmo = mo_coeff.shape\n",
    "    mocc = mo_coeff[:,mo_occ>0]\n",
    "    nocc = mocc.shape[1]\n",
    "    if fx is None:\n",
    "        fx = mf.gen_vind(mf, mo_coeff, mo_occ)\n",
    "    s1a = -mol.intor('int1e_ipovlp', comp=3)\n",
    "    def _ao2mo(mat):\n",
    "        return numpy.asarray([reduce(numpy.dot, (mo_coeff.T, x, mocc)) for x in mat])\n",
    "    mem_now = lib.current_memory()[0]\n",
    "    max_memory = max(2000, max_memory*.9-mem_now)\n",
    "    blksize = max(2, int(max_memory*1e6/8 / (nmo*nocc*3*6)))\n",
    "    mo1s = [None] * mol.natm\n",
    "    e1s = [None] * mol.natm\n",
    "    aoslices = mol.aoslice_by_atom()\n",
    "    for ia0, ia1 in lib.prange(0, len(atmlst), blksize):\n",
    "        s1vo = []\n",
    "        h1vo = []\n",
    "        for i0 in range(ia0, ia1):\n",
    "            ia = atmlst[i0]\n",
    "            shl0, shl1, p0, p1 = aoslices[ia]\n",
    "            s1ao = numpy.zeros((3,nao,nao))\n",
    "            s1ao[:,p0:p1] += s1a[:,p0:p1]\n",
    "            s1ao[:,:,p0:p1] += s1a[:,p0:p1].transpose(0,2,1)\n",
    "            s1vo.append(_ao2mo(s1ao))\n",
    "            if isinstance(h1ao_or_chkfile, str):\n",
    "                key = 'scf_f1ao/%d' % ia\n",
    "                h1ao = lib.chkfile.load(h1ao_or_chkfile, key)\n",
    "            else:\n",
    "                h1ao = h1ao_or_chkfile[ia]\n",
    "            h1vo.append(_ao2mo(h1ao)) \n",
    "        h1vo = numpy.vstack(h1vo)\n",
    "        s1vo = numpy.vstack(s1vo)\n",
    "        mo1, e1 = cphf.solve(fx, mo_energy, mo_occ, h1vo, s1vo)\n",
    "        mo1 = numpy.einsum('pq,xqi->xpi', mo_coeff, mo1).reshape(-1,3,nao,nocc)\n",
    "        e1 = e1.reshape(-1,3,nocc,nocc)\n",
    "\n",
    "        for k in range(ia1-ia0):\n",
    "            ia = atmlst[k+ia0]\n",
    "            if isinstance(h1ao_or_chkfile, str):\n",
    "                key = 'scf_mo1/%d' % ia\n",
    "                lib.chkfile.save(h1ao_or_chkfile, key, mo1[k])\n",
    "            else:\n",
    "                mo1s[ia] = mo1[k]\n",
    "            e1s[ia] = e1[k].reshape(3,nocc,nocc)\n",
    "        mo1 = e1 = None\n",
    "    return mo1s, e1s"
   ]
  },
  {
   "cell_type": "code",
   "execution_count": 512,
   "metadata": {},
   "outputs": [
    {
     "ename": "TypeError",
     "evalue": "solve_mo1() missing 1 required positional argument: 'h1ao_or_chkfile'",
     "output_type": "error",
     "traceback": [
      "\u001b[0;31m---------------------------------------------------------------------------\u001b[0m",
      "\u001b[0;31mTypeError\u001b[0m                                 Traceback (most recent call last)",
      "\u001b[0;32m<ipython-input-512-fc33c194427d>\u001b[0m in \u001b[0;36m<module>\u001b[0;34m\u001b[0m\n\u001b[0;32m----> 1\u001b[0;31m \u001b[0mmo1\u001b[0m\u001b[0;34m,\u001b[0m \u001b[0mmo_e1\u001b[0m \u001b[0;34m=\u001b[0m \u001b[0msolve_mo1\u001b[0m\u001b[0;34m(\u001b[0m\u001b[0mmf\u001b[0m\u001b[0;34m,\u001b[0m \u001b[0mmf\u001b[0m\u001b[0;34m.\u001b[0m\u001b[0mmo_energy\u001b[0m\u001b[0;34m,\u001b[0m \u001b[0mmf\u001b[0m\u001b[0;34m.\u001b[0m\u001b[0mmo_coeff\u001b[0m\u001b[0;34m,\u001b[0m \u001b[0mmf\u001b[0m\u001b[0;34m.\u001b[0m\u001b[0mmo_occ\u001b[0m\u001b[0;34m,\u001b[0m\u001b[0mfx\u001b[0m\u001b[0;34m=\u001b[0m\u001b[0mvind\u001b[0m\u001b[0;34m,\u001b[0m\u001b[0matmlst\u001b[0m\u001b[0;34m=\u001b[0m\u001b[0;34m[\u001b[0m\u001b[0;36m0\u001b[0m\u001b[0;34m]\u001b[0m\u001b[0;34m)\u001b[0m\u001b[0;34m\u001b[0m\u001b[0;34m\u001b[0m\u001b[0m\n\u001b[0m",
      "\u001b[0;31mTypeError\u001b[0m: solve_mo1() missing 1 required positional argument: 'h1ao_or_chkfile'"
     ]
    }
   ],
   "source": [
    "mo1, mo_e1 = solve_mo1(mf, mf.mo_energy, mf.mo_coeff, mf.mo_occ,fx=vind,atmlst=[0])"
   ]
  },
  {
   "cell_type": "code",
   "execution_count": null,
   "metadata": {},
   "outputs": [],
   "source": []
  }
 ],
 "metadata": {
  "kernelspec": {
   "display_name": "Python 3",
   "language": "python",
   "name": "python3"
  },
  "language_info": {
   "codemirror_mode": {
    "name": "ipython",
    "version": 3
   },
   "file_extension": ".py",
   "mimetype": "text/x-python",
   "name": "python",
   "nbconvert_exporter": "python",
   "pygments_lexer": "ipython3",
   "version": "3.8.8"
  }
 },
 "nbformat": 4,
 "nbformat_minor": 2
}
