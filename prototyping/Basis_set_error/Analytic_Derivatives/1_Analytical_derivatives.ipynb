{
 "cells": [
  {
   "cell_type": "code",
   "execution_count": 1,
   "metadata": {},
   "outputs": [],
   "source": [
    "import basis_set_exchange as bse\n",
    "import scipy as sp\n",
    "import matplotlib.pyplot as plt\n",
    "from pyscf import gto,scf\n",
    "import copy\n",
    "import numpy as np\n",
    "import scipy\n",
    "from scipy.interpolate import interp1d\n",
    "from pyscf.data.elements import _symbol\n",
    "from pyscf.grad import RHF as g"
   ]
  },
  {
   "cell_type": "code",
   "execution_count": 2,
   "metadata": {},
   "outputs": [],
   "source": [
    "import inspect\n",
    "import sys\n",
    "sys.path.append(\"../Libs\")\n",
    "from FcMole import FcM\n",
    "from FDcoeffs import get_coeffs"
   ]
  },
  {
   "cell_type": "code",
   "execution_count": 3,
   "metadata": {},
   "outputs": [],
   "source": [
    "fd1=np.asarray([1/12,-2/3 ,0,2/3,-1/12])\n",
    "fd2=np.asarray([-1/12,4/3,-5/2,4/3,-1/12])\n",
    "fd3=np.asarray([-1/2,1,0,-1,1/2])\n",
    "fd4=np.asarray([1,-4,6,-4,1])\n",
    "fds=[fd1,fd2,fd3,fd4]\n",
    "fds5=get_coeffs(5)\n",
    "fds7=get_coeffs(7)"
   ]
  },
  {
   "cell_type": "code",
   "execution_count": 4,
   "metadata": {},
   "outputs": [],
   "source": [
    "def pcX(z,ref=None):\n",
    "    if z <1.e-10: raise Exception(\"non implemented Zero charge atom\")\n",
    "    if z%1 <1.e-10:\n",
    "        return gto.basis.load(bse.get_basis(\"pcX-1\",fmt=\"nwchem\",elements=[int(z)]),_symbol(int(z)))\n",
    "    elif ref:\n",
    "        rb=pcX(ref)\n",
    "        rbm=pcX(ref-1)\n",
    "        rbp=pcX(ref+1)\n",
    "        fb=copy.deepcopy(rb)\n",
    "        for i in range(len(fb)):  # ref+a(z-zr) +b(z-zr)^2\n",
    "            a=(rbp[i][1][0]-rbm[i][1][0])/2\n",
    "            b=(rbp[i][1][0]+rbm[i][1][0]-2*rb[i][1][0])\n",
    "            fb[i][1][0]+=a*(z-ref)+b*(z-ref)**2\n",
    "\n",
    "        return fb\n",
    "    else: raise Exception(\"can't get the fractional charge basis set, frac val and no ref\")"
   ]
  },
  {
   "cell_type": "markdown",
   "metadata": {},
   "source": [
    "The formula for the gradient is stated in Pople's article (Eq.21) as: \n",
    "$$ \\frac{\\partial E}{\\partial Z}= \\sum_{\\mu\\nu}P_{\\mu\\nu}\\frac{\\partial H_{\\mu\\nu}}{\\partial Z}+\\frac{1}{2}\\sum_{\\mu\\nu\\lambda\\sigma}\n",
    "P_{\\mu\\nu}P_{\\lambda\\sigma}\\frac{\\partial}{\\partial Z}(\\mu \\lambda | | \\nu\\sigma)+\\frac{\\partial V_{nuc}}{\\partial Z} \n",
    "-\\sum_{\\mu\\nu}W_{\\mu\\nu}\\frac{\\partial S_{\\mu\\nu}}{\\partial Z}\n",
    "$$\n",
    "$W$ is an energy weighted density matrix:\n",
    "$$ W_{\\mu\\nu}= \\sum_i ^{mo.occ.} \\epsilon_i c_{\\mu i} c_{\\nu i}^\\dagger\n",
    "$$"
   ]
  },
  {
   "cell_type": "code",
   "execution_count": 13,
   "metadata": {
    "scrolled": true
   },
   "outputs": [
    {
     "name": "stdout",
     "output_type": "stream",
     "text": [
      "    def kernel(self, mo_energy=None, mo_coeff=None, mo_occ=None, atmlst=None):\n",
      "        cput0 = (time.clock(), time.time())\n",
      "        if mo_energy is None: mo_energy = self.base.mo_energy\n",
      "        if mo_coeff is None: mo_coeff = self.base.mo_coeff\n",
      "        if mo_occ is None: mo_occ = self.base.mo_occ\n",
      "        if atmlst is None:\n",
      "            atmlst = self.atmlst\n",
      "        else:\n",
      "            self.atmlst = atmlst\n",
      "\n",
      "        if self.verbose >= logger.WARN:\n",
      "            self.check_sanity()\n",
      "        if self.verbose >= logger.INFO:\n",
      "            self.dump_flags()\n",
      "\n",
      "        de = self.grad_elec(mo_energy, mo_coeff, mo_occ, atmlst)\n",
      "        self.de = de + self.grad_nuc(atmlst=atmlst)\n",
      "        if self.mol.symmetry:\n",
      "            self.de = self.symmetrize(self.de, atmlst)\n",
      "        logger.timer(self, 'SCF gradients', *cput0)\n",
      "        self._finalize()\n",
      "        return self.de\n",
      "\n",
      "def grad_elec(mf_grad, mo_energy=None, mo_coeff=None, mo_occ=None, atmlst=None):\n",
      "    '''\n",
      "    Electronic part of RHF/RKS gradients\n",
      "\n",
      "    Args:\n",
      "        mf_grad : grad.rhf.Gradients or grad.rks.Gradients object\n",
      "    '''\n",
      "    mf = mf_grad.base\n",
      "    mol = mf_grad.mol\n",
      "    if mo_energy is None: mo_energy = mf.mo_energy\n",
      "    if mo_occ is None:    mo_occ = mf.mo_occ\n",
      "    if mo_coeff is None:  mo_coeff = mf.mo_coeff\n",
      "    log = logger.Logger(mf_grad.stdout, mf_grad.verbose)\n",
      "\n",
      "    hcore_deriv = mf_grad.hcore_generator(mol)\n",
      "    s1 = mf_grad.get_ovlp(mol)\n",
      "    dm0 = mf.make_rdm1(mo_coeff, mo_occ)\n",
      "\n",
      "    t0 = (time.clock(), time.time())\n",
      "    log.debug('Computing Gradients of NR-HF Coulomb repulsion')\n",
      "    vhf = mf_grad.get_veff(mol, dm0)\n",
      "    log.timer('gradients of 2e part', *t0)\n",
      "\n",
      "    dme0 = mf_grad.make_rdm1e(mo_energy, mo_coeff, mo_occ)\n",
      "\n",
      "    if atmlst is None:\n",
      "        atmlst = range(mol.natm)\n",
      "    aoslices = mol.aoslice_by_atom()\n",
      "    de = numpy.zeros((len(atmlst),3))\n",
      "    for k, ia in enumerate(atmlst):\n",
      "        p0, p1 = aoslices [ia,2:]\n",
      "        h1ao = hcore_deriv(ia)\n",
      "        de[k] += numpy.einsum('xij,ij->x', h1ao, dm0)\n",
      "# nabla was applied on bra in vhf, *2 for the contributions of nabla|ket>\n",
      "        de[k] += numpy.einsum('xij,ij->x', vhf[:,p0:p1], dm0[p0:p1]) * 2\n",
      "        de[k] -= numpy.einsum('xij,ij->x', s1[:,p0:p1], dme0[p0:p1]) * 2\n",
      "\n",
      "        de[k] += mf_grad.extra_force(ia, locals())\n",
      "\n",
      "    if log.verbose >= logger.DEBUG:\n",
      "        log.debug('gradients of electronic part')\n",
      "        _write(log, mol, de, atmlst)\n",
      "    return de\n",
      "\n",
      "def hcore_generator(mf, mol=None):\n",
      "    if mol is None: mol = mf.mol\n",
      "    with_x2c = getattr(mf.base, 'with_x2c', None)\n",
      "    if with_x2c:\n",
      "        hcore_deriv = with_x2c.hcore_deriv_generator(deriv=1)\n",
      "    else:\n",
      "        with_ecp = mol.has_ecp()\n",
      "        if with_ecp:\n",
      "            ecp_atoms = set(mol._ecpbas[:,gto.ATOM_OF])\n",
      "        else:\n",
      "            ecp_atoms = ()\n",
      "        aoslices = mol.aoslice_by_atom()\n",
      "        h1 = mf.get_hcore(mol)\n",
      "        def hcore_deriv(atm_id):\n",
      "            shl0, shl1, p0, p1 = aoslices[atm_id]\n",
      "            with mol.with_rinv_at_nucleus(atm_id):\n",
      "                vrinv = mol.intor('int1e_iprinv', comp=3) # <\\nabla|1/r|>\n",
      "                vrinv *= -mol.atom_charge(atm_id)\n",
      "                if with_ecp and atm_id in ecp_atoms:\n",
      "                    vrinv += mol.intor('ECPscalar_iprinv', comp=3)\n",
      "            vrinv[:,p0:p1] += h1[:,p0:p1]\n",
      "            return vrinv + vrinv.transpose(0,2,1)\n",
      "    return hcore_deriv\n",
      "\n"
     ]
    }
   ],
   "source": [
    "print(inspect.getsource(g.kernel))\n",
    "print(inspect.getsource(g.grad_elec))\n",
    "print(inspect.getsource(g.hcore_generator))"
   ]
  },
  {
   "cell_type": "code",
   "execution_count": 60,
   "metadata": {},
   "outputs": [
    {
     "name": "stdout",
     "output_type": "stream",
     "text": [
      "converged SCF energy = -108.916591616523\n"
     ]
    }
   ],
   "source": [
    "nn=gto.M(atom=\"N 0 0 0; N 0 0 2.05\",unit=\"Bohr\",basis=bse.get_basis(\"pcX-1\",fmt=\"nwchem\",elements=[6,7,8]))\n",
    "mf=scf.RHF(nn)\n",
    "e_nn=mf.scf()"
   ]
  },
  {
   "cell_type": "code",
   "execution_count": 40,
   "metadata": {},
   "outputs": [],
   "source": [
    "S=mf.get_ovlp()\n",
    "h1=mf.get_hcore()\n",
    "P=mf.make_rdm1()\n",
    "C=mf.mo_coeff\n",
    "O=mf.mo_occ\n",
    "e=mf.mo_energy"
   ]
  },
  {
   "cell_type": "code",
   "execution_count": 18,
   "metadata": {},
   "outputs": [],
   "source": [
    "g_ijkl=nn.intor(\"int2e_sph\")"
   ]
  },
  {
   "cell_type": "code",
   "execution_count": 46,
   "metadata": {},
   "outputs": [],
   "source": [
    "cn=gto.M(atom=\"C 0 0 0; N 0 0 2.05\",unit=\"Bohr\",basis=bse.get_basis(\"pcX-1\",fmt=\"nwchem\",elements=[6,7,8]),charge=-1)\n",
    "on=gto.M(atom=\"O 0 0 0; N 0 0 2.05\",unit=\"Bohr\",basis=bse.get_basis(\"pcX-1\",fmt=\"nwchem\",elements=[6,7,8]),charge=1)"
   ]
  },
  {
   "cell_type": "code",
   "execution_count": 64,
   "metadata": {},
   "outputs": [
    {
     "name": "stdout",
     "output_type": "stream",
     "text": [
      "converged SCF energy = -128.874363294639\n",
      "converged SCF energy = -92.2576688695164\n"
     ]
    }
   ],
   "source": [
    "mf_on=scf.RHF(on)\n",
    "mf_cn=scf.RHF(cn)\n",
    "e_on=mf_on.scf()\n",
    "e_cn=mf_cn.scf()"
   ]
  },
  {
   "cell_type": "code",
   "execution_count": 75,
   "metadata": {},
   "outputs": [
    {
     "name": "stdout",
     "output_type": "stream",
     "text": [
      "converged SCF energy = -128.874363294639\n",
      "converged SCF energy = -92.2576688695166\n",
      "converged SCF energy = -128.874363294639\n",
      "converged SCF energy = -92.2576688695165\n"
     ]
    }
   ],
   "source": [
    "dS=(on.get_ovlp()-cn.get_ovlp())/2\n",
    "dh1=(on.get_hcore()-cn.get_hcore())/2\n",
    "dG=(on.intor(\"int2e_sph\")-cn.intor(\"int2e_sph\"))/2\n",
    "dVnn=(8*7-7*7)/2.05"
   ]
  },
  {
   "cell_type": "code",
   "execution_count": 76,
   "metadata": {},
   "outputs": [
    {
     "name": "stdout",
     "output_type": "stream",
     "text": [
      "    def make_rdm1e(self, mo_energy=None, mo_coeff=None, mo_occ=None):\n",
      "        if mo_energy is None: mo_energy = self.base.mo_energy\n",
      "        if mo_coeff is None: mo_coeff = self.base.mo_coeff\n",
      "        if mo_occ is None: mo_occ = self.base.mo_occ\n",
      "        return make_rdm1e(mo_energy, mo_coeff, mo_occ)\n",
      "\n"
     ]
    }
   ],
   "source": [
    "print(inspect.getsource(mf.Gradients().make_rdm1e))"
   ]
  },
  {
   "cell_type": "code",
   "execution_count": 77,
   "metadata": {},
   "outputs": [],
   "source": [
    "#from np.grad.rhf   , makes w\n",
    "def make_rdm1e(mo_energy, mo_coeff, mo_occ):\n",
    "    '''Energy weighted density matrix'''\n",
    "    mo0 = mo_coeff[:,mo_occ>0]\n",
    "    mo0e = mo0 * (mo_energy[mo_occ>0] * mo_occ[mo_occ>0])\n",
    "    return np.dot(mo0e, mo0.T.conj())"
   ]
  },
  {
   "cell_type": "code",
   "execution_count": 78,
   "metadata": {},
   "outputs": [],
   "source": [
    "W=make_rdm1e(e,C,O)"
   ]
  },
  {
   "cell_type": "markdown",
   "metadata": {},
   "source": [
    "$$ \\frac{\\partial E}{\\partial Z}= \\sum_{\\mu\\nu}P_{\\mu\\nu}\\frac{\\partial H_{\\mu\\nu}}{\\partial Z}+\\frac{1}{2}\\sum_{\\mu\\nu\\lambda\\sigma}\n",
    "P_{\\mu\\nu}P_{\\lambda\\sigma}\\frac{\\partial}{\\partial Z}(\\mu \\lambda | | \\nu\\sigma)+\\frac{\\partial V_{nuc}}{\\partial Z} \n",
    "-\\sum_{\\mu\\nu}W_{\\mu\\nu}\\frac{\\partial S_{\\mu\\nu}}{\\partial Z}\n",
    "$$\n",
    "$W$ is an energy weighted density matrix:\n",
    "$$ W_{\\mu\\nu}= \\sum_i ^{mo.occ.} \\epsilon_i c_{\\mu i} c_{\\nu i}^\\dagger\n",
    "$$"
   ]
  },
  {
   "cell_type": "code",
   "execution_count": 79,
   "metadata": {},
   "outputs": [
    {
     "data": {
      "text/plain": [
       "(-23.649717805619975,\n",
       " 2.793744776549456,\n",
       " 3.414634146341464,\n",
       " -0.06667508592367628)"
      ]
     },
     "execution_count": 79,
     "metadata": {},
     "output_type": "execute_result"
    }
   ],
   "source": [
    "np.einsum(\"ij,ij\",P,dh1),0.5*np.einsum(\"ij,kl,ijkl\",P,P,dG) ,dVnn,-np.einsum(\"ij,ij\",W,dS)"
   ]
  },
  {
   "cell_type": "code",
   "execution_count": 80,
   "metadata": {},
   "outputs": [
    {
     "data": {
      "text/plain": [
       "(-108.91659161652322, -17.508013968652733, -126.42460558517595)"
      ]
     },
     "execution_count": 80,
     "metadata": {},
     "output_type": "execute_result"
    }
   ],
   "source": [
    "e_nn,np.einsum(\"ij,ij\",P,dh1)+0.5*np.einsum(\"ij,kl,ijkl\",P,P,dG) +dVnn-np.einsum(\"ij,ij\",W,dS),\\\n",
    "e_nn+np.einsum(\"ij,ij\",P,dh1)+0.5*np.einsum(\"ij,kl,ijkl\",P,P,dG) +dVnn-np.einsum(\"ij,ij\",W,dS)"
   ]
  },
  {
   "cell_type": "code",
   "execution_count": 81,
   "metadata": {},
   "outputs": [
    {
     "data": {
      "text/plain": [
       "-91.4085776478705"
      ]
     },
     "execution_count": 81,
     "metadata": {},
     "output_type": "execute_result"
    }
   ],
   "source": [
    "e_nn-np.einsum(\"ij,ij\",P,dh1)-0.5*np.einsum(\"ij,kl,ijkl\",P,P,dG) -dVnn+np.einsum(\"ij,ij\",W,dS)"
   ]
  },
  {
   "cell_type": "code",
   "execution_count": 82,
   "metadata": {},
   "outputs": [
    {
     "data": {
      "text/plain": [
       "(-128.87436329463884, -92.25766886951644)"
      ]
     },
     "execution_count": 82,
     "metadata": {},
     "output_type": "execute_result"
    }
   ],
   "source": [
    "e_on,e_cn"
   ]
  },
  {
   "cell_type": "code",
   "execution_count": 69,
   "metadata": {},
   "outputs": [],
   "source": [
    "def E_cn(l):\n",
    "    mol_l=FcM(fcs=[l,0],atom=\"N1 0 0 0; N2 0 0 2.05\",unit=\"Bohrs\",basis={\"N1\":pcX(7+l,ref=7),\"N2\":pcX(7)},verbose=1)\n",
    "    mf_l=scf.RHF(mol_l)\n",
    "    #mf_l.conv_tol=1e-12\n",
    "    #mf_l.conv_tol_grad=1e-12\n",
    "    e=mf_l.scf(dm0=mf_l.init_guess_by_1e())\n",
    "    return e"
   ]
  },
  {
   "cell_type": "code",
   "execution_count": null,
   "metadata": {},
   "outputs": [],
   "source": []
  }
 ],
 "metadata": {
  "kernelspec": {
   "display_name": "Python 3",
   "language": "python",
   "name": "python3"
  },
  "language_info": {
   "codemirror_mode": {
    "name": "ipython",
    "version": 3
   },
   "file_extension": ".py",
   "mimetype": "text/x-python",
   "name": "python",
   "nbconvert_exporter": "python",
   "pygments_lexer": "ipython3",
   "version": "3.7.3"
  }
 },
 "nbformat": 4,
 "nbformat_minor": 2
}
