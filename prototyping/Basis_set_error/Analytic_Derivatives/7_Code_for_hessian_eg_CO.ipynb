{
 "cells": [
  {
   "cell_type": "code",
   "execution_count": 1,
   "metadata": {},
   "outputs": [],
   "source": [
    "import basis_set_exchange as bse\n",
    "import scipy as sp\n",
    "import matplotlib.pyplot as plt\n",
    "from pyscf import gto,scf\n",
    "import copy\n",
    "import numpy as np\n",
    "import scipy\n",
    "from scipy.interpolate import interp1d\n",
    "from pyscf.data.elements import _symbol\n",
    "from pyscf.grad import RHF as g\n",
    "import inspect\n",
    "import sys\n",
    "sys.path.append(\"../Libs\")\n",
    "from FcMole import FcM,FcM_like\n",
    "from FDcoeffs import get_coeffs\n",
    "from ao_scf import ao_RHF\n",
    "from numpy.linalg import norm"
   ]
  },
  {
   "cell_type": "code",
   "execution_count": 2,
   "metadata": {},
   "outputs": [],
   "source": [
    "from functools import reduce\n",
    "import ctypes\n",
    "\n",
    "import numpy\n",
    "from pyscf import lib\n",
    "from pyscf import gto\n",
    "from pyscf.lib import logger\n",
    "from pyscf.scf import _vhf\n",
    "from pyscf.scf import cphf\n",
    "\n",
    "# import _response_functions to load gen_response methods in SCF class\n",
    "from pyscf.scf import _response_functions  # noqa\n",
    "# import pyscf.grad.rhf to activate nuc_grad_method method\n",
    "from pyscf.grad import rhf  # noqa"
   ]
  },
  {
   "cell_type": "code",
   "execution_count": 3,
   "metadata": {},
   "outputs": [],
   "source": [
    "def make_dP(mf,mo1):\n",
    "    mol=mf.mol\n",
    "    nao=mol.nao\n",
    "    nocc=mf.mol.nelec[0]\n",
    "    C=mf.mo_coeff\n",
    "    dP=np.zeros_like(C)\n",
    "    dP[:,:]=2*np.einsum('ij,jk,lk->il',C,mo1,C[:,:nocc])\n",
    "    return dP+dP.T\n",
    "\n",
    "def make_U(mo1):\n",
    "    U=np.zeros((mo1.shape[0],mo1.shape[0]))\n",
    "    U[:,:mo1.shape[1]]=mo1\n",
    "    U=U-U.T\n",
    "    return U"
   ]
  },
  {
   "cell_type": "code",
   "execution_count": 4,
   "metadata": {},
   "outputs": [
    {
     "name": "stdout",
     "output_type": "stream",
     "text": [
      "converged SCF energy = -112.661562568708\n",
      "converged SCF energy = -112.664890518986\n",
      "converged SCF energy = -112.65657514208\n"
     ]
    }
   ],
   "source": [
    "nn=gto.M(atom=\"C 0 0 0; O 0 0 2.05\",unit=\"Bohr\",basis=bse.get_basis(\"6-31g\",fmt=\"nwchem\",elements=[6,7,8]))\n",
    "mol=nn\n",
    "mf_nn=scf.RHF(nn)\n",
    "e_nn=mf_nn.scf()\n",
    "P_nn=mf_nn.make_rdm1()\n",
    "########\n",
    "nn_p=gto.M(atom=\"C 0 0 0; O 0 0 2.08\",unit=\"Bohr\",basis=bse.get_basis(\"6-31g\",fmt=\"nwchem\",elements=[6,7,8]))\n",
    "mf_nn_p=scf.RHF(nn_p)\n",
    "e_nn_p=mf_nn_p.scf()\n",
    "P_nn_p=mf_nn_p.make_rdm1()\n",
    "########\n",
    "nn_m=gto.M(atom=\"C 0 0 0; O 0 0 2.02\",unit=\"Bohr\",basis=bse.get_basis(\"6-31g\",fmt=\"nwchem\",elements=[6,7,8]))\n",
    "mf_nn_m=scf.RHF(nn_m)\n",
    "e_nn_m=mf_nn_m.scf()\n",
    "P_nn_m=mf_nn_m.make_rdm1()"
   ]
  },
  {
   "cell_type": "code",
   "execution_count": 5,
   "metadata": {},
   "outputs": [],
   "source": [
    "import pyscf.hessian # needed to use hessian"
   ]
  },
  {
   "cell_type": "code",
   "execution_count": 6,
   "metadata": {},
   "outputs": [],
   "source": [
    "h_nn=mf_nn.Hessian()\n",
    "mf=mf_nn"
   ]
  },
  {
   "cell_type": "code",
   "execution_count": 7,
   "metadata": {},
   "outputs": [
    {
     "data": {
      "text/plain": [
       "(array([[[[-6.71352251e-02,  6.09324707e-17, -4.12430722e-16],\n",
       "          [ 4.32745276e-17, -6.71352251e-02,  5.73382385e-18],\n",
       "          [-4.12430723e-16,  5.73382306e-18,  1.84234812e+00]],\n",
       " \n",
       "         [[ 6.71352251e-02, -4.28408467e-17,  4.12430723e-16],\n",
       "          [-6.09324707e-17,  6.71352251e-02, -5.73382305e-18],\n",
       "          [ 4.12430722e-16, -5.73382387e-18, -1.84234812e+00]]],\n",
       " \n",
       " \n",
       "        [[[ 6.71352251e-02, -6.09324707e-17,  4.12430722e-16],\n",
       "          [-4.28408467e-17,  6.71352251e-02, -5.73382387e-18],\n",
       "          [ 4.12430723e-16, -5.73382305e-18, -1.84234812e+00]],\n",
       " \n",
       "         [[-6.71352251e-02,  3.67115815e-17, -4.12430722e-16],\n",
       "          [ 1.34956007e-17, -6.71352251e-02,  5.73382385e-18],\n",
       "          [-4.12430723e-16,  5.73382306e-18,  1.84234812e+00]]]]),\n",
       " 1.8423481215616988)"
      ]
     },
     "execution_count": 7,
     "metadata": {},
     "output_type": "execute_result"
    }
   ],
   "source": [
    "h_nn.hess(),h_nn.hess()[1,1,2,2]"
   ]
  },
  {
   "cell_type": "code",
   "execution_count": 8,
   "metadata": {},
   "outputs": [
    {
     "data": {
      "text/plain": [
       "1.8438626120895505"
      ]
     },
     "execution_count": 8,
     "metadata": {},
     "output_type": "execute_result"
    }
   ],
   "source": [
    "(e_nn_p+e_nn_m-2*e_nn)/.03**2"
   ]
  },
  {
   "cell_type": "code",
   "execution_count": 9,
   "metadata": {},
   "outputs": [],
   "source": [
    "dP_fd=(P_nn_p-P_nn_m)/.06\n",
    "dh1=(mf_nn_p.get_hcore()-mf_nn_m.get_hcore())/.06\n",
    "dS=(mf_nn_p.get_ovlp()-mf_nn_m.get_ovlp())/.06\n",
    "dG4d=(nn_p.intor('int2e')-nn_m.intor('int2e'))/.06"
   ]
  },
  {
   "cell_type": "code",
   "execution_count": 10,
   "metadata": {},
   "outputs": [
    {
     "data": {
      "text/plain": [
       "True"
      ]
     },
     "execution_count": 10,
     "metadata": {},
     "output_type": "execute_result"
    }
   ],
   "source": [
    "np.allclose(h_nn.base.nuc_grad_method().hcore_generator(nn)(1)[2],dh1,atol=1e-2)"
   ]
  },
  {
   "cell_type": "code",
   "execution_count": 11,
   "metadata": {},
   "outputs": [],
   "source": [
    "max_memory=4000\n",
    "verbose=None\n",
    "mo_energy = mf.mo_energy\n",
    "mo_occ = mf.mo_occ\n",
    "mo_coeff = mf.mo_coeff\n",
    "atmlst = range(mol.natm)\n",
    "h1ao=h_nn.make_h1(mf.mo_coeff,mf.mo_occ)"
   ]
  },
  {
   "cell_type": "code",
   "execution_count": 12,
   "metadata": {},
   "outputs": [
    {
     "data": {
      "text/plain": [
       "True"
      ]
     },
     "execution_count": 12,
     "metadata": {},
     "output_type": "execute_result"
    }
   ],
   "source": [
    "h_nn.make_h1(mf_nn.mo_coeff,mf_nn.mo_occ)[1][1].shape # list (natm,(xyz))\n",
    "# make_h1 is made by two part one is hcore_generator the other is \n",
    "hessobj=h_nn\n",
    "log = logger.new_logger(hessobj, 1)\n",
    "max_memory=4000\n",
    "mol = hessobj.mol\n",
    "\n",
    "\n",
    "nao, nmo = mo_coeff.shape\n",
    "mocc = mo_coeff[:,mo_occ>0]\n",
    "dm0 = numpy.dot(mocc, mocc.T) * 2\n",
    "hcore_deriv = hessobj.base.nuc_grad_method().hcore_generator(mol)\n",
    "\n",
    "aoslices = mol.aoslice_by_atom()\n",
    "for i0, ia in enumerate(atmlst):\n",
    "    shl0, shl1, p0, p1 = aoslices[ia]\n",
    "    shls_slice = (shl0, shl1) + (0, mol.nbas)*3\n",
    "    vj1, vj2, vk1, vk2 = pyscf.hessian.rhf._get_jk(mol, 'int2e_ip1', 3, 's2kl',\n",
    "                                 ['ji->s2kl', -dm0[:,p0:p1],  # vj1\n",
    "                                  'lk->s1ij', -dm0         ,  # vj2\n",
    "                                  'li->s1kj', -dm0[:,p0:p1],  # vk1\n",
    "                                  'jk->s1il', -dm0         ], # vk2\n",
    "                                 shls_slice=shls_slice)\n",
    "    vhf = vj1 - vk1*.5\n",
    "    vhf[:,p0:p1] += vj2 - vk2*.5\n",
    "    h1 = vhf + vhf.transpose(0,2,1)\n",
    "    h1 += hcore_deriv(ia)\n",
    "np.allclose(h1,h_nn.make_h1(mf_nn.mo_coeff,mf_nn.mo_occ)[1],atol=1e-3)"
   ]
  },
  {
   "cell_type": "code",
   "execution_count": 13,
   "metadata": {},
   "outputs": [],
   "source": [
    "mo1, mo_e1 = hessobj.solve_mo1(mo_energy, mo_coeff, mo_occ, h1ao,None, atmlst, max_memory, log)\n",
    "#mo1_2, mo_e1 = pyscf.hessian.rhf.solve_mo1(mf,mo_energy, mo_coeff, mo_occ, h1ao,None, atmlst, max_memory, log)"
   ]
  },
  {
   "cell_type": "code",
   "execution_count": 14,
   "metadata": {},
   "outputs": [
    {
     "data": {
      "text/plain": [
       "((3, 18, 18), (3, 18, 18))"
      ]
     },
     "execution_count": 14,
     "metadata": {},
     "output_type": "execute_result"
    }
   ],
   "source": [
    "h1.shape,h_nn.make_h1(mf_nn.mo_coeff,mf_nn.mo_occ)[0].shape"
   ]
  },
  {
   "cell_type": "code",
   "execution_count": 15,
   "metadata": {},
   "outputs": [
    {
     "data": {
      "text/plain": [
       "(-14.582677594780632, 1.083973879124878)"
      ]
     },
     "execution_count": 15,
     "metadata": {},
     "output_type": "execute_result"
    }
   ],
   "source": [
    "# This is a part of the gradient \n",
    "0.5*np.einsum(\"ij,kl,ijkl\",P_nn,P_nn,dG4d),-np.einsum(\"ik,jl,ijkl\",P_nn,P_nn,dG4d)/4"
   ]
  },
  {
   "cell_type": "code",
   "execution_count": 16,
   "metadata": {},
   "outputs": [
    {
     "data": {
      "text/plain": [
       "(array([[-2.25886440e+00, -4.43578149e-01, -3.81206685e-01,\n",
       "          1.37602240e-17,  1.62448804e-17, -7.78176444e-02,\n",
       "          1.49008716e-17,  1.94017347e-17,  1.85488843e-02,\n",
       "          1.43988242e-03, -6.04133963e-01, -1.00073423e+00,\n",
       "          2.60651826e-17,  3.31721221e-17,  1.21451190e+00,\n",
       "          2.08115887e-17,  2.76572927e-17,  1.26079028e+00],\n",
       "        [-4.43578149e-01, -1.65096804e+00, -1.20701346e+00,\n",
       "         -1.47780140e-17,  2.23087902e-17, -4.13793733e-01,\n",
       "          1.50607206e-17,  3.88826617e-17, -1.55433137e-01,\n",
       "         -9.42380354e-01, -3.40364493e+00, -3.14300940e+00,\n",
       "          7.69394023e-17,  8.76453911e-17,  2.76665668e+00,\n",
       "          7.72476524e-17,  8.47240737e-17,  1.80546105e+00],\n",
       "        [-3.81206685e-01, -1.20701346e+00, -1.08570768e+00,\n",
       "         -1.71355139e-17,  1.60150471e-17, -2.92775945e-01,\n",
       "          1.48892283e-17,  2.91571622e-17, -4.79902070e-02,\n",
       "         -5.70209421e-01, -2.11496536e+00, -2.41150261e+00,\n",
       "          5.08666623e-17,  4.75182754e-17,  5.86998790e-01,\n",
       "          5.41919439e-17,  5.98543784e-17,  3.33466215e-01],\n",
       "        [ 1.37602240e-17, -1.47780140e-17, -1.71355139e-17,\n",
       "         -1.55425149e+00, -6.23735490e-18,  1.68430824e-17,\n",
       "         -6.41556286e-01, -9.82197871e-19,  6.15199547e-18,\n",
       "         -6.84671180e-18, -2.05973287e-17,  1.01599883e-18,\n",
       "         -2.07527592e+00, -7.32468636e-18,  6.02175818e-18,\n",
       "         -2.25160878e+00, -5.26038512e-18, -6.61223010e-17],\n",
       "        [ 1.62448804e-17,  2.23087902e-17,  1.60150471e-17,\n",
       "         -6.23735490e-18, -1.55425149e+00,  2.39159664e-17,\n",
       "         -1.77936908e-17, -6.41556286e-01,  6.33552175e-18,\n",
       "         -1.48673559e-17, -3.66440552e-17, -6.98457242e-18,\n",
       "         -9.47769580e-18, -2.07527592e+00, -7.23016255e-19,\n",
       "         -2.09078837e-17, -2.25160878e+00, -8.23364427e-17],\n",
       "        [-7.78176444e-02, -4.13793733e-01, -2.92775945e-01,\n",
       "          1.68430824e-17,  2.39159664e-17, -1.81825218e+00,\n",
       "          3.00901040e-17,  2.42922856e-17, -8.07402327e-01,\n",
       "         -1.49020899e+00, -4.36888199e+00, -1.79092811e+00,\n",
       "          8.14120167e-18, -2.11410246e-17,  2.36446292e+00,\n",
       "          2.19431408e-18, -2.74208178e-17, -2.09479375e+00],\n",
       "        [ 1.49008716e-17,  1.50607206e-17,  1.48892283e-17,\n",
       "         -6.41556286e-01, -1.77936908e-17,  3.00901040e-17,\n",
       "         -6.94846282e-01, -8.94525297e-18,  7.15220053e-18,\n",
       "         -9.43711349e-18, -1.56028823e-17, -3.20450926e-18,\n",
       "         -1.03016735e+00, -1.82851971e-17, -1.37146619e-17,\n",
       "         -1.86242304e+00, -1.55984214e-17, -6.09745876e-17],\n",
       "        [ 1.94017347e-17,  3.88826617e-17,  2.91571622e-17,\n",
       "         -9.82197871e-19, -6.41556286e-01,  2.42922856e-17,\n",
       "         -8.94525297e-18, -6.94846282e-01,  1.10690256e-18,\n",
       "         -1.44838766e-17, -3.20677021e-17, -1.14017099e-17,\n",
       "         -1.77001587e-18, -1.03016735e+00, -1.43304851e-17,\n",
       "         -1.06226882e-17, -1.86242304e+00, -7.03595292e-17],\n",
       "        [ 1.85488843e-02, -1.55433137e-01, -4.79902070e-02,\n",
       "          6.15199547e-18,  6.33552175e-18, -8.07402327e-01,\n",
       "          7.15220053e-18,  1.10690256e-18, -6.12044378e-01,\n",
       "         -3.83009571e-01, -1.00084498e+00, -3.21995378e-01,\n",
       "         -4.27598373e-17, -7.26846268e-17, -1.32893236e+00,\n",
       "         -3.00023224e-17, -4.60779367e-17, -3.31828852e+00],\n",
       "        [ 1.43988242e-03, -9.42380354e-01, -5.70209421e-01,\n",
       "         -6.84671180e-18, -1.48673559e-17, -1.49020899e+00,\n",
       "         -9.43711349e-18, -1.44838766e-17, -3.83009571e-01,\n",
       "         -1.74954834e+00, -3.73506348e-01, -2.65413901e-01,\n",
       "         -4.64581518e-18, -1.53051409e-17,  3.27798246e-02,\n",
       "         -1.37793682e-17, -2.19324198e-17, -2.20876229e-02],\n",
       "        [-6.04133963e-01, -3.40364493e+00, -2.11496536e+00,\n",
       "         -2.05973287e-17, -3.66440552e-17, -4.36888199e+00,\n",
       "         -1.56028823e-17, -3.20677021e-17, -1.00084498e+00,\n",
       "         -3.73506348e-01, -1.40340778e+00, -9.98360519e-01,\n",
       "         -6.38910791e-17, -4.78177318e-17,  2.37597227e-01,\n",
       "         -8.11645495e-17, -5.92916937e-17,  1.04893297e-01],\n",
       "        [-1.00073423e+00, -3.14300940e+00, -2.41150261e+00,\n",
       "          1.01599883e-18, -6.98457242e-18, -1.79092811e+00,\n",
       "         -3.20450926e-18, -1.14017099e-17, -3.21995378e-01,\n",
       "         -2.65413901e-01, -9.98360519e-01, -1.02954494e+00,\n",
       "         -7.00760006e-17, -5.48083465e-17,  2.08681975e-01,\n",
       "         -3.91099041e-17, -2.66628499e-17,  1.32123821e-01],\n",
       "        [ 2.60651826e-17,  7.69394023e-17,  5.08666623e-17,\n",
       "         -2.07527592e+00, -9.47769580e-18,  8.14120167e-18,\n",
       "         -1.03016735e+00, -1.77001587e-18, -4.27598373e-17,\n",
       "         -4.64581518e-18, -6.38910791e-17, -7.00760006e-17,\n",
       "         -1.37931908e+00, -9.91579297e-18, -6.25149003e-19,\n",
       "         -5.34506321e-01, -1.17299007e-17, -6.71228654e-17],\n",
       "        [ 3.31721221e-17,  8.76453911e-17,  4.75182754e-17,\n",
       "         -7.32468636e-18, -2.07527592e+00, -2.11410246e-17,\n",
       "         -1.82851971e-17, -1.03016735e+00, -7.26846268e-17,\n",
       "         -1.53051409e-17, -4.78177318e-17, -5.48083465e-17,\n",
       "         -9.91579297e-18, -1.37931908e+00,  1.41349565e-17,\n",
       "         -2.05293149e-17, -5.34506321e-01, -5.81585237e-17],\n",
       "        [ 1.21451190e+00,  2.76665668e+00,  5.86998790e-01,\n",
       "          6.02175818e-18, -7.23016255e-19,  2.36446292e+00,\n",
       "         -1.37146619e-17, -1.43304851e-17, -1.32893236e+00,\n",
       "          3.27798246e-02,  2.37597227e-01,  2.08681975e-01,\n",
       "         -6.25149003e-19,  1.41349565e-17, -1.48771756e+00,\n",
       "         -1.32946258e-17,  1.71687921e-17, -6.96969833e-01],\n",
       "        [ 2.08115887e-17,  7.72476524e-17,  5.41919439e-17,\n",
       "         -2.25160878e+00, -2.09078837e-17,  2.19431408e-18,\n",
       "         -1.86242304e+00, -1.06226882e-17, -3.00023224e-17,\n",
       "         -1.37793682e-17, -8.11645495e-17, -3.91099041e-17,\n",
       "         -5.34506321e-01, -2.05293149e-17, -1.32946258e-17,\n",
       "         -7.31711759e-01, -2.01980593e-17, -8.09055900e-17],\n",
       "        [ 2.76572927e-17,  8.47240737e-17,  5.98543784e-17,\n",
       "         -5.26038512e-18, -2.25160878e+00, -2.74208178e-17,\n",
       "         -1.55984214e-17, -1.86242304e+00, -4.60779367e-17,\n",
       "         -2.19324198e-17, -5.92916937e-17, -2.66628499e-17,\n",
       "         -1.17299007e-17, -5.34506321e-01,  1.71687921e-17,\n",
       "         -2.01980593e-17, -7.31711759e-01, -6.17084448e-17],\n",
       "        [ 1.26079028e+00,  1.80546105e+00,  3.33466215e-01,\n",
       "         -6.61223010e-17, -8.23364427e-17, -2.09479375e+00,\n",
       "         -6.09745876e-17, -7.03595292e-17, -3.31828852e+00,\n",
       "         -2.20876229e-02,  1.04893297e-01,  1.32123821e-01,\n",
       "         -6.71228654e-17, -5.81585237e-17, -6.96969833e-01,\n",
       "         -8.09055900e-17, -6.17084448e-17, -8.10518293e-01]]),\n",
       " array([[-2.25887640e+00, -4.43527228e-01, -3.81180233e-01,\n",
       "          1.37737955e-17,  1.62516562e-17, -7.77825638e-02,\n",
       "          1.49087784e-17,  1.94029810e-17,  1.85518307e-02,\n",
       "          1.42966703e-03, -6.04945211e-01, -1.00075400e+00,\n",
       "          2.60776559e-17,  3.31765110e-17,  1.21551884e+00,\n",
       "          2.08213375e-17,  2.76581812e-17,  1.26042867e+00],\n",
       "        [-4.43527228e-01, -1.65079753e+00, -1.20684978e+00,\n",
       "         -1.47613482e-17,  2.23212395e-17, -4.13722571e-01,\n",
       "          1.50596083e-17,  3.88773174e-17, -1.55356046e-01,\n",
       "         -9.42628657e-01, -3.40354303e+00, -3.14271621e+00,\n",
       "          7.69387235e-17,  8.76357532e-17,  2.76558437e+00,\n",
       "          7.72372657e-17,  8.47116222e-17,  1.80470509e+00],\n",
       "        [-3.81180233e-01, -1.20684978e+00, -1.08553067e+00,\n",
       "         -1.71265970e-17,  1.60170136e-17, -2.92673939e-01,\n",
       "          1.48881433e-17,  2.91522721e-17, -4.79119337e-02,\n",
       "         -5.70180694e-01, -2.11479939e+00, -2.41123861e+00,\n",
       "          5.08689170e-17,  4.75193636e-17,  5.86822986e-01,\n",
       "          5.41874748e-17,  5.98480109e-17,  3.33188056e-01],\n",
       "        [ 1.37737955e-17, -1.47613482e-17, -1.71265970e-17,\n",
       "         -1.55407946e+00, -6.23831959e-18,  1.68462384e-17,\n",
       "         -6.41452522e-01, -9.81962846e-19,  6.14271394e-18,\n",
       "         -6.85120690e-18, -2.05879960e-17,  1.02566047e-18,\n",
       "         -2.07578330e+00, -7.32726322e-18,  5.99719747e-18,\n",
       "         -2.25142491e+00, -5.26102369e-18, -6.61334298e-17],\n",
       "        [ 1.62516562e-17,  2.23212395e-17,  1.60170136e-17,\n",
       "         -6.23831959e-18, -1.55407946e+00,  2.39053290e-17,\n",
       "         -1.77949014e-17, -6.41452522e-01,  6.31484192e-18,\n",
       "         -1.48711900e-17, -3.66360586e-17, -6.97893805e-18,\n",
       "         -9.47451379e-18, -2.07578330e+00, -7.51424407e-19,\n",
       "         -2.09085248e-17, -2.25142491e+00, -8.23497522e-17],\n",
       "        [-7.77825638e-02, -4.13722571e-01, -2.92673939e-01,\n",
       "          1.68462384e-17,  2.39053290e-17, -1.81814840e+00,\n",
       "          3.00742566e-17,  2.42742930e-17, -8.07262285e-01,\n",
       "         -1.49039567e+00, -4.36801270e+00, -1.79032579e+00,\n",
       "          8.11083388e-18, -2.11773639e-17,  2.36253172e+00,\n",
       "          2.17454420e-18, -2.74372542e-17, -2.09511007e+00],\n",
       "        [ 1.49087784e-17,  1.50596083e-17,  1.48881433e-17,\n",
       "         -6.41452522e-01, -1.77949014e-17,  3.00742566e-17,\n",
       "         -6.94721790e-01, -8.94463640e-18,  7.14303381e-18,\n",
       "         -9.43685907e-18, -1.55941076e-17, -3.19835485e-18,\n",
       "         -1.03007453e+00, -1.82870603e-17, -1.37276602e-17,\n",
       "         -1.86221842e+00, -1.55976903e-17, -6.09737709e-17],\n",
       "        [ 1.94029810e-17,  3.88773174e-17,  2.91522721e-17,\n",
       "         -9.81962846e-19, -6.41452522e-01,  2.42742930e-17,\n",
       "         -8.94463640e-18, -6.94721790e-01,  1.09614959e-18,\n",
       "         -1.44832332e-17, -3.20565494e-17, -1.13961446e-17,\n",
       "         -1.76708268e-18, -1.03007453e+00, -1.43457948e-17,\n",
       "         -1.06215987e-17, -1.86221842e+00, -7.03588436e-17],\n",
       "        [ 1.85518307e-02, -1.55356046e-01, -4.79119337e-02,\n",
       "          6.14271394e-18,  6.31484192e-18, -8.07262285e-01,\n",
       "          7.14303381e-18,  1.09614959e-18, -6.11910366e-01,\n",
       "         -3.82871488e-01, -1.00038208e+00, -3.21672340e-01,\n",
       "         -4.27746892e-17, -7.26940696e-17, -1.32894667e+00,\n",
       "         -3.00067068e-17, -4.60823234e-17, -3.31798227e+00],\n",
       "        [ 1.42966703e-03, -9.42628657e-01, -5.70180694e-01,\n",
       "         -6.85120690e-18, -1.48711900e-17, -1.49039567e+00,\n",
       "         -9.43685907e-18, -1.44832332e-17, -3.82871488e-01,\n",
       "         -1.74945215e+00, -3.73466939e-01, -2.65389819e-01,\n",
       "         -4.64503445e-18, -1.53069416e-17,  3.27750464e-02,\n",
       "         -1.37785179e-17, -2.19319638e-17, -2.20842124e-02],\n",
       "        [-6.04945211e-01, -3.40354303e+00, -2.11479939e+00,\n",
       "         -2.05879960e-17, -3.66360586e-17, -4.36801270e+00,\n",
       "         -1.55941076e-17, -3.20565494e-17, -1.00038208e+00,\n",
       "         -3.73466939e-01, -1.40327899e+00, -9.98242944e-01,\n",
       "         -6.38859734e-17, -4.78181538e-17,  2.37633402e-01,\n",
       "         -8.11484944e-17, -5.92801322e-17,  1.04879120e-01],\n",
       "        [-1.00075400e+00, -3.14271621e+00, -2.41123861e+00,\n",
       "          1.02566047e-18, -6.97893805e-18, -1.79032579e+00,\n",
       "         -3.19835485e-18, -1.13961446e-17, -3.21672340e-01,\n",
       "         -2.65389819e-01, -9.98242944e-01, -1.02936038e+00,\n",
       "         -7.00609113e-17, -5.47968561e-17,  2.08665230e-01,\n",
       "         -3.90955639e-17, -2.66516338e-17,  1.32039966e-01],\n",
       "        [ 2.60776559e-17,  7.69387235e-17,  5.08689170e-17,\n",
       "         -2.07578330e+00, -9.47451379e-18,  8.11083388e-18,\n",
       "         -1.03007453e+00, -1.76708268e-18, -4.27746892e-17,\n",
       "         -4.64503445e-18, -6.38859734e-17, -7.00609113e-17,\n",
       "         -1.37916200e+00, -9.91439605e-18, -6.47604060e-19,\n",
       "         -5.34420216e-01, -1.17264207e-17, -6.71448300e-17],\n",
       "        [ 3.31765110e-17,  8.76357532e-17,  4.75193636e-17,\n",
       "         -7.32726322e-18, -2.07578330e+00, -2.11773639e-17,\n",
       "         -1.82870603e-17, -1.03007453e+00, -7.26940696e-17,\n",
       "         -1.53069416e-17, -4.78181538e-17, -5.47968561e-17,\n",
       "         -9.91439605e-18, -1.37916200e+00,  1.41236145e-17,\n",
       "         -2.05309912e-17, -5.34420216e-01, -5.81772440e-17],\n",
       "        [ 1.21551884e+00,  2.76558437e+00,  5.86822986e-01,\n",
       "          5.99719747e-18, -7.51424407e-19,  2.36253172e+00,\n",
       "         -1.37276602e-17, -1.43457948e-17, -1.32894667e+00,\n",
       "          3.27750464e-02,  2.37633402e-01,  2.08665230e-01,\n",
       "         -6.47604060e-19,  1.41236145e-17, -1.48771319e+00,\n",
       "         -1.33132328e-17,  1.71490158e-17, -6.96890652e-01],\n",
       "        [ 2.08213375e-17,  7.72372657e-17,  5.41874748e-17,\n",
       "         -2.25142491e+00, -2.09085248e-17,  2.17454420e-18,\n",
       "         -1.86221842e+00, -1.06215987e-17, -3.00067068e-17,\n",
       "         -1.37785179e-17, -8.11484944e-17, -3.90955639e-17,\n",
       "         -5.34420216e-01, -2.05309912e-17, -1.33132328e-17,\n",
       "         -7.31566418e-01, -2.01968192e-17, -8.09096819e-17],\n",
       "        [ 2.76581812e-17,  8.47116222e-17,  5.98480109e-17,\n",
       "         -5.26102369e-18, -2.25142491e+00, -2.74372542e-17,\n",
       "         -1.55976903e-17, -1.86221842e+00, -4.60823234e-17,\n",
       "         -2.19319638e-17, -5.92801322e-17, -2.66516338e-17,\n",
       "         -1.17264207e-17, -5.34420216e-01,  1.71490158e-17,\n",
       "         -2.01968192e-17, -7.31566418e-01, -6.17170712e-17],\n",
       "        [ 1.26042867e+00,  1.80470509e+00,  3.33188056e-01,\n",
       "         -6.61334298e-17, -8.23497522e-17, -2.09511007e+00,\n",
       "         -6.09737709e-17, -7.03588436e-17, -3.31798227e+00,\n",
       "         -2.20842124e-02,  1.04879120e-01,  1.32039966e-01,\n",
       "         -6.71448300e-17, -5.81772440e-17, -6.96890652e-01,\n",
       "         -8.09096819e-17, -6.17170712e-17, -8.10317009e-01]]))"
      ]
     },
     "execution_count": 16,
     "metadata": {},
     "output_type": "execute_result"
    }
   ],
   "source": [
    "(vhf + vhf.transpose(0,2,1))[2],np.einsum(\"kl,ijkl->ij\",P_nn,dG4d)-np.einsum(\"jl,ijkl->ik\",P_nn,dG4d)/2"
   ]
  },
  {
   "cell_type": "code",
   "execution_count": 17,
   "metadata": {},
   "outputs": [
    {
     "data": {
      "text/plain": [
       "0.00454282497095656"
      ]
     },
     "execution_count": 17,
     "metadata": {},
     "output_type": "execute_result"
    }
   ],
   "source": [
    "norm((vhf + vhf.transpose(0,2,1))[2]-(np.einsum(\"kl,ijkl->ij\",P_nn,dG4d)-np.einsum(\"jl,ijkl->ik\",P_nn,dG4d)/2))"
   ]
  },
  {
   "cell_type": "code",
   "execution_count": 18,
   "metadata": {},
   "outputs": [
    {
     "data": {
      "text/plain": [
       "0.002295777059785446"
      ]
     },
     "execution_count": 18,
     "metadata": {},
     "output_type": "execute_result"
    }
   ],
   "source": [
    "# qui h1ao e' la somma del contributo di h monoelectr + V eff (da operatori bielettronici)\n",
    "norm(h1[2]-(dh1+np.einsum(\"kl,ijkl->ij\",P_nn,dG4d)-np.einsum(\"jl,ijkl->ik\",P_nn,dG4d)/2))"
   ]
  },
  {
   "cell_type": "code",
   "execution_count": 19,
   "metadata": {},
   "outputs": [
    {
     "data": {
      "text/plain": [
       "(3, 18, 7)"
      ]
     },
     "execution_count": 19,
     "metadata": {},
     "output_type": "execute_result"
    }
   ],
   "source": [
    "mo1[0].shape"
   ]
  },
  {
   "cell_type": "code",
   "execution_count": 20,
   "metadata": {},
   "outputs": [
    {
     "data": {
      "text/plain": [
       "array([[-6.15463406e-02,  7.61909067e-02,  2.61671086e-01,\n",
       "         3.72175113e-02, -9.93721991e-03, -1.31428982e-01,\n",
       "        -3.08738198e-02, -1.26085105e-02,  1.66612656e-02,\n",
       "         3.78076173e-02, -2.59853468e-02, -1.31082650e-01,\n",
       "         4.09909639e-02, -1.01573233e-02,  6.61553464e-02,\n",
       "        -1.05960398e-01,  4.54465387e-03,  6.29344758e-02],\n",
       "       [ 7.61909067e-02, -6.29240862e-03,  1.29652283e-01,\n",
       "        -5.23717038e-02,  2.16632780e-01,  7.01619302e-02,\n",
       "         1.23614330e-01, -1.62889884e-01,  1.47615093e-01,\n",
       "         7.46162762e-03,  1.54612332e-01, -4.01198739e-01,\n",
       "         6.55560481e-02,  5.91530225e-02, -5.69233697e-02,\n",
       "         1.61336554e-01,  2.56918017e-02,  1.11921921e-01],\n",
       "       [ 2.61671086e-01,  1.29652283e-01, -1.01370991e+00,\n",
       "         1.82249654e-01, -6.01454415e-02,  6.83615592e-01,\n",
       "        -4.78571365e-02,  8.07059659e-02, -2.74614619e-01,\n",
       "        -1.43869775e-01, -1.50009186e-04,  1.14528308e+00,\n",
       "         1.68945346e-01, -2.63485800e-02, -6.70683401e-01,\n",
       "         9.80079288e-02, -2.29610243e-02, -5.91804132e-01],\n",
       "       [ 3.72175113e-02, -5.23717038e-02,  1.82249654e-01,\n",
       "         1.00600238e-03,  4.07290954e-02, -2.77194473e-01,\n",
       "        -2.25729593e-03, -2.80924782e-02, -1.11189834e-02,\n",
       "         5.56978163e-02, -1.31817240e-01, -6.49328106e-02,\n",
       "        -3.08138895e-03, -5.17487302e-03,  2.74860786e-01,\n",
       "         5.97875369e-03,  1.26239319e-01,  1.05070760e-01],\n",
       "       [-9.93721991e-03,  2.16632780e-01, -6.01454415e-02,\n",
       "         4.07290954e-02, -7.06650739e-02,  2.99540836e-01,\n",
       "         6.11942494e-02, -4.04472838e-02, -2.98480724e-02,\n",
       "        -5.48167876e-02,  1.49379339e-01,  9.97711640e-03,\n",
       "        -1.57047485e-02, -9.77780678e-02, -2.55291574e-01,\n",
       "        -3.20035027e-02, -5.76011540e-02, -1.45514306e-01],\n",
       "       [-1.31428982e-01,  7.01619302e-02,  6.83615592e-01,\n",
       "        -2.77194473e-01,  2.99540836e-01,  8.31667320e-02,\n",
       "         1.62054357e-01, -2.34854361e-01,  4.57671134e-01,\n",
       "         1.23019953e-02,  5.92111302e-01, -1.32300218e+00,\n",
       "        -1.75611213e-01,  1.27873957e-01, -7.46502637e-02,\n",
       "         2.29359847e-02,  7.63096314e-02,  4.52738015e-01],\n",
       "       [-3.08738198e-02,  1.23614330e-01, -4.78571365e-02,\n",
       "        -2.25729593e-03,  6.11942494e-02,  1.62054357e-01,\n",
       "        -1.66144028e-03,  6.55674989e-03, -5.86937473e-03,\n",
       "        -5.26706213e-03,  6.58208069e-02, -5.76986890e-03,\n",
       "        -5.79330163e-03,  8.43503814e-02, -2.31225333e-01,\n",
       "        -1.10761351e-03,  1.00443260e-01, -8.91324958e-02],\n",
       "       [-1.26085105e-02, -1.62889884e-01,  8.07059659e-02,\n",
       "        -2.80924782e-02, -4.04472838e-02, -2.34854361e-01,\n",
       "         6.55674989e-03, -1.93993193e-02,  9.42903353e-03,\n",
       "         6.81687436e-02, -1.94544381e-01, -1.13624509e-01,\n",
       "        -8.19312763e-02, -6.31033178e-02,  3.26907587e-01,\n",
       "        -6.18612050e-02, -3.94276234e-02,  9.71708539e-02],\n",
       "       [ 1.66612656e-02,  1.47615093e-01, -2.74614619e-01,\n",
       "        -1.11189834e-02, -2.98480724e-02,  4.57671134e-01,\n",
       "        -5.86937473e-03,  9.42903353e-03,  3.03657035e-02,\n",
       "        -9.33007226e-02,  3.13354831e-01,  1.25146678e-01,\n",
       "        -2.15289972e-02, -2.47238405e-02, -4.54303842e-01,\n",
       "        -1.58241519e-02, -1.55516377e-02, -1.52526574e-01],\n",
       "       [ 3.78076173e-02,  7.46162762e-03, -1.43869775e-01,\n",
       "         5.56978163e-02, -5.48167876e-02,  1.23019953e-02,\n",
       "        -5.26706213e-03,  6.81687436e-02, -9.33007226e-02,\n",
       "        -2.50316589e-02, -9.82282319e-02,  2.66602019e-01,\n",
       "         6.51439373e-02, -7.19500550e-03, -2.26624571e-02,\n",
       "         1.90532114e-02, -5.47065622e-03, -1.02725268e-01],\n",
       "       [-2.59853468e-02,  1.54612332e-01, -1.50009186e-04,\n",
       "        -1.31817240e-01,  1.49379339e-01,  5.92111302e-01,\n",
       "         6.58208069e-02, -1.94544381e-01,  3.13354831e-01,\n",
       "        -9.82282319e-02,  6.37225337e-01, -5.89419481e-01,\n",
       "        -4.54418848e-02,  2.95618891e-02, -5.60640287e-01,\n",
       "        -1.19174998e-01,  3.45188290e-02,  6.22470019e-02],\n",
       "       [-1.31082650e-01, -4.01198739e-01,  1.14528308e+00,\n",
       "        -6.49328106e-02,  9.97711640e-03, -1.32300218e+00,\n",
       "        -5.76986890e-03, -1.13624509e-01,  1.25146678e-01,\n",
       "         2.66602019e-01, -5.89419481e-01, -8.88106529e-01,\n",
       "        -2.99466429e-02, -4.06376992e-02,  1.35153072e+00,\n",
       "        -1.94706088e-01, -3.12974899e-03,  6.81703539e-01],\n",
       "       [ 4.09909639e-02,  6.55560481e-02,  1.68945346e-01,\n",
       "        -3.08138895e-03, -1.57047485e-02, -1.75611213e-01,\n",
       "        -5.79330163e-03, -8.19312763e-02, -2.15289972e-02,\n",
       "         6.51439373e-02, -4.54418848e-02, -2.99466429e-02,\n",
       "        -1.45682420e-02, -1.73251269e-01,  1.24383676e-01,\n",
       "         4.93844596e-03,  1.21057368e-01,  5.06565109e-02],\n",
       "       [-1.01573233e-02,  5.91530225e-02, -2.63485800e-02,\n",
       "        -5.17487302e-03, -9.77780678e-02,  1.27873957e-01,\n",
       "         8.43503814e-02, -6.31033178e-02, -2.47238405e-02,\n",
       "        -7.19500550e-03,  2.95618891e-02, -4.06376992e-02,\n",
       "        -1.73251269e-01, -1.21717245e-01,  1.08678232e-01,\n",
       "        -1.54502433e-01, -6.74171962e-02, -5.61362049e-02],\n",
       "       [ 6.61553464e-02, -5.69233697e-02, -6.70683401e-01,\n",
       "         2.74860786e-01, -2.55291574e-01, -7.46502637e-02,\n",
       "        -2.31225333e-01,  3.26907587e-01, -4.54303842e-01,\n",
       "        -2.26624571e-02, -5.60640287e-01,  1.35153072e+00,\n",
       "         1.24383676e-01,  1.08678232e-01,  7.15562992e-02,\n",
       "        -1.97367386e-01,  9.88955982e-02, -4.49552469e-01],\n",
       "       [-1.05960398e-01,  1.61336554e-01,  9.80079288e-02,\n",
       "         5.97875369e-03, -3.20035027e-02,  2.29359847e-02,\n",
       "        -1.10761351e-03, -6.18612050e-02, -1.58241519e-02,\n",
       "         1.90532114e-02, -1.19174998e-01, -1.94706088e-01,\n",
       "         4.93844596e-03, -1.54502433e-01, -1.97367386e-01,\n",
       "         1.30122304e-02,  5.43862292e-02, -8.64113191e-02],\n",
       "       [ 4.54465387e-03,  2.56918017e-02, -2.29610243e-02,\n",
       "         1.26239319e-01, -5.76011540e-02,  7.63096314e-02,\n",
       "         1.00443260e-01, -3.94276234e-02, -1.55516377e-02,\n",
       "        -5.47065622e-03,  3.45188290e-02, -3.12974899e-03,\n",
       "         1.21057368e-01, -6.74171962e-02,  9.88955982e-02,\n",
       "         5.43862292e-02, -3.58369304e-02, -2.57736343e-02],\n",
       "       [ 6.29344758e-02,  1.11921921e-01, -5.91804132e-01,\n",
       "         1.05070760e-01, -1.45514306e-01,  4.52738015e-01,\n",
       "        -8.91324958e-02,  9.71708539e-02, -1.52526574e-01,\n",
       "        -1.02725268e-01,  6.22470019e-02,  6.81703539e-01,\n",
       "         5.06565109e-02, -5.61362049e-02, -4.49552469e-01,\n",
       "        -8.64113191e-02, -2.57736343e-02, -3.56102111e-01]])"
      ]
     },
     "execution_count": 20,
     "metadata": {},
     "output_type": "execute_result"
    }
   ],
   "source": [
    "make_dP(mf,mo1[1][2])"
   ]
  },
  {
   "cell_type": "code",
   "execution_count": 21,
   "metadata": {},
   "outputs": [],
   "source": [
    "mocc = mo_coeff[:,mo_occ>0]\n",
    "dm1 = numpy.einsum('pi,qi->pq', mo1[1][2], mocc)*4"
   ]
  },
  {
   "cell_type": "code",
   "execution_count": 22,
   "metadata": {},
   "outputs": [],
   "source": [
    "dP_fd=(P_nn_p-P_nn_m)/.06\n",
    "#norm(dP_fd),plt.matshow(dP_fd)"
   ]
  },
  {
   "cell_type": "code",
   "execution_count": 23,
   "metadata": {},
   "outputs": [
    {
     "data": {
      "text/plain": [
       "(2.1302248952422804, 1.4845730879295296, 1.5273510945178521)"
      ]
     },
     "execution_count": 23,
     "metadata": {},
     "output_type": "execute_result"
    },
    {
     "data": {
      "image/png": "[encoded data removed]",
      "text/plain": [
       "<Figure size 288x288 with 1 Axes>"
      ]
     },
     "metadata": {
      "needs_background": "light"
     },
     "output_type": "display_data"
    },
    {
     "data": {
      "image/png": "[encoded data removed]",
      "text/plain": [
       "<Figure size 288x288 with 1 Axes>"
      ]
     },
     "metadata": {
      "needs_background": "light"
     },
     "output_type": "display_data"
    }
   ],
   "source": [
    "plt.matshow(dm1),plt.matshow(dP_fd)\n",
    "norm(dm1),norm(dP_fd),norm(dm1-dP_fd)"
   ]
  },
  {
   "cell_type": "code",
   "execution_count": 24,
   "metadata": {},
   "outputs": [],
   "source": [
    "h1ao=h1[2]"
   ]
  },
  {
   "cell_type": "code",
   "execution_count": 25,
   "metadata": {},
   "outputs": [
    {
     "data": {
      "text/plain": [
       "(0.5881628203832137, 0.5884961311877769)"
      ]
     },
     "execution_count": 25,
     "metadata": {},
     "output_type": "execute_result"
    }
   ],
   "source": [
    "numpy.einsum('pq,pq', h1ao, dm1),numpy.einsum('pq,pq', h1ao, dP_fd)"
   ]
  },
  {
   "cell_type": "markdown",
   "metadata": {},
   "source": [
    "# Comments:\n",
    "Unfortunatly the density deriv. analytical differs from the one by finite difference, though they give the same integration results with h1ao, that means that they can be used to evalaute derivatives, and probabily the density matrix is degenerate (which is possible given the high symmetry of the system) :(\n"
   ]
  },
  {
   "cell_type": "code",
   "execution_count": 26,
   "metadata": {},
   "outputs": [],
   "source": [
    "def gen_vind(mf, mo_coeff, mo_occ):\n",
    "    nao, nmo = mo_coeff.shape\n",
    "    mocc = mo_coeff[:,mo_occ>0]\n",
    "    nocc = mocc.shape[1]\n",
    "    vresp = mf.gen_response(mo_coeff, mo_occ, hermi=1)\n",
    "    def fx(mo1):\n",
    "        mo1 = mo1.reshape(-1,nmo,nocc)\n",
    "        nset = len(mo1)\n",
    "        dm1 = numpy.empty((nset,nao,nao))\n",
    "        for i, x in enumerate(mo1):\n",
    "            dm = reduce(numpy.dot, (mo_coeff, x*2, mocc.T)) # *2 for double occupancy\n",
    "            dm1[i] = dm + dm.T\n",
    "        v1 = vresp(dm1)\n",
    "        v1vo = numpy.empty_like(mo1)\n",
    "        for i, x in enumerate(v1):\n",
    "            v1vo[i] = reduce(numpy.dot, (mo_coeff.T, x, mocc))\n",
    "        return v1vo\n",
    "    return fx\n",
    "fx = gen_vind(mf, mo_coeff, mo_occ)"
   ]
  },
  {
   "cell_type": "code",
   "execution_count": 27,
   "metadata": {},
   "outputs": [],
   "source": [
    "def _ao2mo(mat):\n",
    "        #return numpy.asarray([reduce(numpy.dot, (mo_coeff.T, x, mocc)) for x in mat])\n",
    "        return numpy.asarray([ (mo_coeff.T@ x@ mocc) for x in mat])"
   ]
  },
  {
   "cell_type": "code",
   "execution_count": 28,
   "metadata": {},
   "outputs": [],
   "source": [
    "def solve_mo1(mf, mo_energy, mo_coeff, mo_occ, h1ao_or_chkfile,\n",
    "              fx=None, atmlst=None, max_memory=4000, verbose=None):\n",
    "    '''Solve the first order equation\n",
    "\n",
    "    Kwargs:\n",
    "        fx : function(dm_mo) => v1_mo\n",
    "            A function to generate the induced potential.\n",
    "            See also the function gen_vind.\n",
    "    '''\n",
    "    mol = mf.mol\n",
    "    atmlst = range(mol.natm)\n",
    "\n",
    "    nao, nmo = mo_coeff.shape\n",
    "    mocc = mo_coeff[:,mo_occ>0]\n",
    "    nocc = mocc.shape[1]\n",
    "\n",
    "    fx = gen_vind(mf, mo_coeff, mo_occ)\n",
    "    s1a = -mol.intor('int1e_ipovlp', comp=3)\n",
    "\n",
    "    def _ao2mo(mat):\n",
    "        return numpy.asarray([reduce(numpy.dot, (mo_coeff.T, x, mocc)) for x in mat])\n",
    "\n",
    "    mem_now = lib.current_memory()[0]\n",
    "    max_memory = max(2000, max_memory*.9-mem_now)\n",
    "    blksize = max(2, int(max_memory*1e6/8 / (nmo*nocc*3*6)))\n",
    "    mo1s = [None] * mol.natm    # s = solution\n",
    "    e1s = [None] * mol.natm     # s = solution\n",
    "    aoslices = mol.aoslice_by_atom()\n",
    "    for ia0, ia1 in lib.prange(0, len(atmlst), blksize):\n",
    "        s1vo = []\n",
    "        h1vo = []\n",
    "        for i0 in range(ia0, ia1):\n",
    "            ia = atmlst[i0]\n",
    "            shl0, shl1, p0, p1 = aoslices[ia]\n",
    "            s1ao = numpy.zeros((3,nao,nao))\n",
    "            s1ao[:,p0:p1] += s1a[:,p0:p1]\n",
    "            s1ao[:,:,p0:p1] += s1a[:,p0:p1].transpose(0,2,1)\n",
    "            s1vo.append(_ao2mo(s1ao))\n",
    "            h1ao = h1ao_or_chkfile[ia]\n",
    "            h1vo.append(_ao2mo(h1ao))\n",
    "        h1vo = numpy.vstack(h1vo)\n",
    "        s1vo = numpy.vstack(s1vo)\n",
    "        return (h1vo, s1vo)\n",
    "        mo1, e1 = cphf.solve(fx, mo_energy, mo_occ, h1vo, s1vo)\n",
    "        mo1 = numpy.einsum('pq,xqi->xpi', mo_coeff, mo1).reshape(-1,3,nao,nocc)\n",
    "        e1 = e1.reshape(-1,3,nocc,nocc)\n",
    "\n",
    "        for k in range(ia1-ia0):\n",
    "            ia = atmlst[k+ia0]\n",
    "            mo1s[ia] = mo1[k]\n",
    "            e1s[ia] = e1[k].reshape(3,nocc,nocc)\n",
    "        mo1 = e1 = None\n",
    "\n",
    "    return mo1s, e1s"
   ]
  },
  {
   "cell_type": "code",
   "execution_count": null,
   "metadata": {},
   "outputs": [],
   "source": []
  },
  {
   "cell_type": "code",
   "execution_count": 29,
   "metadata": {},
   "outputs": [],
   "source": [
    "atmlst = range(mol.natm)\n",
    "nao, nmo = mo_coeff.shape\n",
    "mocc = mo_coeff[:,mo_occ>0]\n",
    "nocc = mocc.shape[1]"
   ]
  },
  {
   "cell_type": "code",
   "execution_count": 30,
   "metadata": {},
   "outputs": [],
   "source": [
    "mol=nn\n",
    "s1a = -mol.intor('int1e_ipovlp', comp=3)\n",
    "mem_now = lib.current_memory()[0]\n",
    "max_memory = max(2000, max_memory*.9-mem_now)\n",
    "ia0, ia1=0,2\n",
    "s1vo = []\n",
    "h1vo = []\n",
    "for i0 in range(ia0, ia1):   # sei nel range di memoria i0 e' l'atomo rispetto al quale derivi\n",
    "    ia = atmlst[i0]\n",
    "    shl0, shl1, p0, p1 = aoslices[ia]\n",
    "    s1ao = numpy.zeros((3,nao,nao))\n",
    "    s1ao[:,p0:p1] += s1a[:,p0:p1]\n",
    "    s1ao[:,:,p0:p1] += s1a[:,p0:p1].transpose(0,2,1)"
   ]
  },
  {
   "cell_type": "code",
   "execution_count": 31,
   "metadata": {},
   "outputs": [
    {
     "name": "stdout",
     "output_type": "stream",
     "text": [
      "0.0003968137125041214\n",
      "0.00039348010339596896\n"
     ]
    },
    {
     "data": {
      "text/plain": [
       "(None, None)"
      ]
     },
     "execution_count": 31,
     "metadata": {},
     "output_type": "execute_result"
    }
   ],
   "source": [
    "print(norm(s1ao[2]-dS)),print(norm(_ao2mo(s1ao[2])-_ao2mo(dS)))"
   ]
  },
  {
   "cell_type": "code",
   "execution_count": 32,
   "metadata": {},
   "outputs": [
    {
     "data": {
      "text/plain": [
       "(3, 18, 18)"
      ]
     },
     "execution_count": 32,
     "metadata": {},
     "output_type": "execute_result"
    }
   ],
   "source": [
    "s1ao.shape"
   ]
  },
  {
   "cell_type": "code",
   "execution_count": 33,
   "metadata": {},
   "outputs": [],
   "source": [
    "dS_vo =mo_coeff.T@ dS@ mocc\n",
    "dh1_vo=mo_coeff.T@ h1[2]@ mocc "
   ]
  },
  {
   "cell_type": "code",
   "execution_count": 34,
   "metadata": {},
   "outputs": [
    {
     "data": {
      "text/plain": [
       "(3, 18, 18)"
      ]
     },
     "execution_count": 34,
     "metadata": {},
     "output_type": "execute_result"
    }
   ],
   "source": [
    "h1.shape"
   ]
  },
  {
   "cell_type": "code",
   "execution_count": 35,
   "metadata": {},
   "outputs": [],
   "source": [
    "mo1, e1 = cphf.solve(fx, mo_energy, mo_occ, dh1_vo, dS_vo)\n",
    "mo1 = numpy.einsum('pq,qi->pi', mo_coeff, mo1).reshape(nao,nocc)\n",
    "dm1 = numpy.einsum('pi,qi->pq', mo1, mocc)*4\n",
    "\n",
    "h1vo_out, s1vo_out = solve_mo1(mf,mo_energy, mo_coeff, mo_occ, h_nn.make_h1(mf.mo_coeff,mf.mo_occ),None, atmlst, max_memory, log)\n",
    "#dm2 = numpy.einsum('pi,qi->pq', mo1[1][2], mocc)*4\n",
    "h1ao=h1[2]"
   ]
  },
  {
   "cell_type": "code",
   "execution_count": 36,
   "metadata": {},
   "outputs": [
    {
     "ename": "NameError",
     "evalue": "name 'dS_vo_out' is not defined",
     "output_type": "error",
     "traceback": [
      "\u001b[0;31m---------------------------------------------------------------------------\u001b[0m",
      "\u001b[0;31mNameError\u001b[0m                                 Traceback (most recent call last)",
      "\u001b[0;32m<ipython-input-36-8f29ec41d0c3>\u001b[0m in \u001b[0;36m<module>\u001b[0;34m\u001b[0m\n\u001b[0;32m----> 1\u001b[0;31m \u001b[0mnorm\u001b[0m\u001b[0;34m(\u001b[0m\u001b[0mdS_vo_out\u001b[0m\u001b[0;34m[\u001b[0m\u001b[0;36m3\u001b[0m\u001b[0;34m:\u001b[0m\u001b[0;34m]\u001b[0m\u001b[0;34m-\u001b[0m\u001b[0;34m(\u001b[0m\u001b[0m_ao2mo\u001b[0m\u001b[0;34m(\u001b[0m\u001b[0ms1ao\u001b[0m\u001b[0;34m)\u001b[0m\u001b[0;34m)\u001b[0m\u001b[0;34m)\u001b[0m\u001b[0;34m,\u001b[0m\u001b[0mnorm\u001b[0m\u001b[0;34m(\u001b[0m\u001b[0mdS_vo_out\u001b[0m\u001b[0;34m[\u001b[0m\u001b[0;34m-\u001b[0m\u001b[0;36m1\u001b[0m\u001b[0;34m]\u001b[0m\u001b[0;34m-\u001b[0m\u001b[0m_ao2mo\u001b[0m\u001b[0;34m(\u001b[0m\u001b[0ms1ao\u001b[0m\u001b[0;34m)\u001b[0m\u001b[0;34m[\u001b[0m\u001b[0;36m2\u001b[0m\u001b[0;34m]\u001b[0m\u001b[0;34m)\u001b[0m\u001b[0;34m\u001b[0m\u001b[0;34m\u001b[0m\u001b[0m\n\u001b[0m",
      "\u001b[0;31mNameError\u001b[0m: name 'dS_vo_out' is not defined"
     ]
    }
   ],
   "source": [
    "norm(dS_vo_out[3:]-(_ao2mo(s1ao))),norm(dS_vo_out[-1]-_ao2mo(s1ao)[2])"
   ]
  },
  {
   "cell_type": "code",
   "execution_count": null,
   "metadata": {},
   "outputs": [],
   "source": [
    "norm(_ao2mo(s1ao)[2]-_ao2mo(s1ao[2])),norm(_ao2mo(s1ao)[2]-_ao2mo(dS))"
   ]
  },
  {
   "cell_type": "code",
   "execution_count": null,
   "metadata": {},
   "outputs": [],
   "source": [
    "norm(_ao2mo(s1ao)[2]-mo_coeff.T@ dS@ mocc) "
   ]
  },
  {
   "cell_type": "code",
   "execution_count": null,
   "metadata": {},
   "outputs": [],
   "source": [
    "numpy.einsum('pq,pq', h1ao, dm1),numpy.einsum('pq,pq', h1ao, dP_fd)"
   ]
  },
  {
   "cell_type": "code",
   "execution_count": null,
   "metadata": {},
   "outputs": [],
   "source": []
  }
 ],
 "metadata": {
  "kernelspec": {
   "display_name": "Python 3",
   "language": "python",
   "name": "python3"
  }
 },
 "nbformat": 4,
 "nbformat_minor": 5
}
