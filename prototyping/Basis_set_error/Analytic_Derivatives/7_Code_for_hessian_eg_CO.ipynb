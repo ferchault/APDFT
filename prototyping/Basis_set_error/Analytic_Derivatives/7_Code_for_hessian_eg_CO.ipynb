{
 "cells": [
  {
   "cell_type": "code",
   "execution_count": 1,
   "id": "253998aa",
   "metadata": {},
   "outputs": [],
   "source": [
    "import basis_set_exchange as bse\n",
    "import scipy as sp\n",
    "import matplotlib.pyplot as plt\n",
    "from pyscf import gto,scf\n",
    "import copy\n",
    "import numpy as np\n",
    "import scipy\n",
    "from scipy.interpolate import interp1d\n",
    "from pyscf.data.elements import _symbol\n",
    "from pyscf.grad import RHF as g\n",
    "import inspect\n",
    "import sys\n",
    "sys.path.append(\"../Libs\")\n",
    "from FcMole import FcM,FcM_like\n",
    "from FDcoeffs import get_coeffs\n",
    "from ao_scf import ao_RHF\n",
    "from numpy.linalg import norm"
   ]
  },
  {
   "cell_type": "code",
   "execution_count": 2,
   "id": "214da27a",
   "metadata": {},
   "outputs": [],
   "source": [
    "from functools import reduce\n",
    "import ctypes\n",
    "\n",
    "import numpy\n",
    "from pyscf import lib\n",
    "from pyscf import gto\n",
    "from pyscf.lib import logger\n",
    "from pyscf.scf import _vhf\n",
    "from pyscf.scf import cphf\n",
    "\n",
    "# import _response_functions to load gen_response methods in SCF class\n",
    "from pyscf.scf import _response_functions  # noqa\n",
    "# import pyscf.grad.rhf to activate nuc_grad_method method\n",
    "from pyscf.grad import rhf  # noqa"
   ]
  },
  {
   "cell_type": "code",
   "execution_count": 3,
   "id": "052b46a9",
   "metadata": {},
   "outputs": [],
   "source": [
    "def make_dP(mf,mo1):\n",
    "    mol=mf.mol\n",
    "    nao=mol.nao\n",
    "    nocc=mf.mol.nelec[0]\n",
    "    C=mf.mo_coeff\n",
    "    dP=np.zeros_like(C)\n",
    "    dP[:,:]=2*np.einsum('ij,jk,lk->il',C,mo1,C[:,:nocc])\n",
    "    return dP+dP.T\n",
    "\n",
    "def make_U(mo1):\n",
    "    U=np.zeros((mo1.shape[0],mo1.shape[0]))\n",
    "    U[:,:mo1.shape[1]]=mo1\n",
    "    U=U-U.T\n",
    "    return U"
   ]
  },
  {
   "cell_type": "code",
   "execution_count": 4,
   "id": "4e61daa1",
   "metadata": {},
   "outputs": [
    {
     "name": "stdout",
     "output_type": "stream",
     "text": [
      "converged SCF energy = -112.661562568708\n",
      "converged SCF energy = -112.664890518986\n",
      "converged SCF energy = -112.65657514208\n"
     ]
    }
   ],
   "source": [
    "nn=gto.M(atom=\"C 0 0 0; O 0 0 2.05\",unit=\"Bohr\",basis=bse.get_basis(\"6-31g\",fmt=\"nwchem\",elements=[6,7,8]))\n",
    "mol=nn\n",
    "mf_nn=scf.RHF(nn)\n",
    "e_nn=mf_nn.scf()\n",
    "P_nn=mf_nn.make_rdm1()\n",
    "########\n",
    "nn_p=gto.M(atom=\"C 0 0 0; O 0 0 2.08\",unit=\"Bohr\",basis=bse.get_basis(\"6-31g\",fmt=\"nwchem\",elements=[6,7,8]))\n",
    "mf_nn_p=scf.RHF(nn_p)\n",
    "e_nn_p=mf_nn_p.scf()\n",
    "P_nn_p=mf_nn_p.make_rdm1()\n",
    "########\n",
    "nn_m=gto.M(atom=\"C 0 0 0; O 0 0 2.02\",unit=\"Bohr\",basis=bse.get_basis(\"6-31g\",fmt=\"nwchem\",elements=[6,7,8]))\n",
    "mf_nn_m=scf.RHF(nn_m)\n",
    "e_nn_m=mf_nn_m.scf()\n",
    "P_nn_m=mf_nn_m.make_rdm1()"
   ]
  },
  {
   "cell_type": "code",
   "execution_count": 5,
   "id": "b8b9a67f",
   "metadata": {},
   "outputs": [],
   "source": [
    "import pyscf.hessian # needed to use hessian"
   ]
  },
  {
   "cell_type": "code",
   "execution_count": 6,
   "id": "d39b3c02",
   "metadata": {},
   "outputs": [],
   "source": [
    "h_nn=mf_nn.Hessian()\n",
    "mf=mf_nn"
   ]
  },
  {
   "cell_type": "code",
   "execution_count": 7,
   "id": "88fb1e19",
   "metadata": {},
   "outputs": [
    {
     "data": {
      "text/plain": [
       "(array([[[[-6.71352251e-02, -1.98346407e-16, -3.16652150e-16],\n",
       "          [-2.07507895e-16, -6.71352251e-02, -3.42912388e-17],\n",
       "          [-3.16652150e-16, -3.42912368e-17,  1.84234812e+00]],\n",
       " \n",
       "         [[ 6.71352251e-02,  2.07507895e-16,  3.16652150e-16],\n",
       "          [ 1.98346407e-16,  6.71352251e-02,  3.42912368e-17],\n",
       "          [ 3.16652150e-16,  3.42912388e-17, -1.84234812e+00]]],\n",
       " \n",
       " \n",
       "        [[[ 6.71352251e-02,  1.98346407e-16,  3.16652150e-16],\n",
       "          [ 2.07507895e-16,  6.71352251e-02,  3.42912388e-17],\n",
       "          [ 3.16652150e-16,  3.42912368e-17, -1.84234812e+00]],\n",
       " \n",
       "         [[-6.71352251e-02, -1.93738057e-16, -3.16652150e-16],\n",
       "          [-1.66566382e-16, -6.71352251e-02, -3.42912388e-17],\n",
       "          [-3.16652150e-16, -3.42912368e-17,  1.84234812e+00]]]]),\n",
       " 1.842348121559617)"
      ]
     },
     "execution_count": 7,
     "metadata": {},
     "output_type": "execute_result"
    }
   ],
   "source": [
    "h_nn.hess(),h_nn.hess()[1,1,2,2]"
   ]
  },
  {
   "cell_type": "code",
   "execution_count": 8,
   "id": "80c932c9",
   "metadata": {},
   "outputs": [
    {
     "data": {
      "text/plain": [
       "1.8438626119948114"
      ]
     },
     "execution_count": 8,
     "metadata": {},
     "output_type": "execute_result"
    }
   ],
   "source": [
    "(e_nn_p+e_nn_m-2*e_nn)/.03**2"
   ]
  },
  {
   "cell_type": "code",
   "execution_count": 9,
   "id": "621e2aea",
   "metadata": {},
   "outputs": [],
   "source": [
    "dP_fd=(P_nn_p-P_nn_m)/.06\n",
    "dh1=(mf_nn_p.get_hcore()-mf_nn_m.get_hcore())/.06\n",
    "dS=(mf_nn_p.get_ovlp()-mf_nn_m.get_ovlp())/.06\n",
    "dG4d=(nn_p.intor('int2e')-nn_m.intor('int2e'))/.06"
   ]
  },
  {
   "cell_type": "code",
   "execution_count": 10,
   "id": "be754ad2",
   "metadata": {},
   "outputs": [
    {
     "data": {
      "text/plain": [
       "True"
      ]
     },
     "execution_count": 10,
     "metadata": {},
     "output_type": "execute_result"
    }
   ],
   "source": [
    "np.allclose(h_nn.base.nuc_grad_method().hcore_generator(nn)(1)[2],dh1,atol=1e-2)"
   ]
  },
  {
   "cell_type": "code",
   "execution_count": 11,
   "id": "3f305610",
   "metadata": {},
   "outputs": [],
   "source": [
    "max_memory=4000\n",
    "verbose=None\n",
    "mo_energy = mf.mo_energy\n",
    "mo_occ = mf.mo_occ\n",
    "mo_coeff = mf.mo_coeff\n",
    "atmlst = range(mol.natm)\n",
    "h1ao=h_nn.make_h1(mf.mo_coeff,mf.mo_occ)"
   ]
  },
  {
   "cell_type": "code",
   "execution_count": 12,
   "id": "db74a892",
   "metadata": {},
   "outputs": [
    {
     "data": {
      "text/plain": [
       "True"
      ]
     },
     "execution_count": 12,
     "metadata": {},
     "output_type": "execute_result"
    }
   ],
   "source": [
    "h_nn.make_h1(mf_nn.mo_coeff,mf_nn.mo_occ)[1][1].shape # list (natm,(xyz))\n",
    "# make_h1 is made by two part one is hcore_generator the other is \n",
    "hessobj=h_nn\n",
    "log = logger.new_logger(hessobj, 1)\n",
    "max_memory=4000\n",
    "mol = hessobj.mol\n",
    "\n",
    "\n",
    "nao, nmo = mo_coeff.shape\n",
    "mocc = mo_coeff[:,mo_occ>0]\n",
    "dm0 = numpy.dot(mocc, mocc.T) * 2\n",
    "hcore_deriv = hessobj.base.nuc_grad_method().hcore_generator(mol)\n",
    "\n",
    "aoslices = mol.aoslice_by_atom()\n",
    "for i0, ia in enumerate(atmlst):\n",
    "    shl0, shl1, p0, p1 = aoslices[ia]\n",
    "    shls_slice = (shl0, shl1) + (0, mol.nbas)*3\n",
    "    vj1, vj2, vk1, vk2 = pyscf.hessian.rhf._get_jk(mol, 'int2e_ip1', 3, 's2kl',\n",
    "                                 ['ji->s2kl', -dm0[:,p0:p1],  # vj1\n",
    "                                  'lk->s1ij', -dm0         ,  # vj2\n",
    "                                  'li->s1kj', -dm0[:,p0:p1],  # vk1\n",
    "                                  'jk->s1il', -dm0         ], # vk2\n",
    "                                 shls_slice=shls_slice)\n",
    "    vhf = vj1 - vk1*.5\n",
    "    vhf[:,p0:p1] += vj2 - vk2*.5\n",
    "    h1 = vhf + vhf.transpose(0,2,1)\n",
    "    h1 += hcore_deriv(ia)\n",
    "np.allclose(h1,h_nn.make_h1(mf_nn.mo_coeff,mf_nn.mo_occ)[1],atol=1e-3)"
   ]
  },
  {
   "cell_type": "code",
   "execution_count": 13,
   "id": "236d0baf",
   "metadata": {},
   "outputs": [],
   "source": [
    "mo1, mo_e1 = hessobj.solve_mo1(mo_energy, mo_coeff, mo_occ, h1ao,None, atmlst, max_memory, log)\n",
    "#mo1_2, mo_e1 = pyscf.hessian.rhf.solve_mo1(mf,mo_energy, mo_coeff, mo_occ, h1ao,None, atmlst, max_memory, log)"
   ]
  },
  {
   "cell_type": "code",
   "execution_count": 14,
   "id": "f3bf08e8",
   "metadata": {},
   "outputs": [
    {
     "data": {
      "text/plain": [
       "((3, 18, 18), (3, 18, 18))"
      ]
     },
     "execution_count": 14,
     "metadata": {},
     "output_type": "execute_result"
    }
   ],
   "source": [
    "h1.shape,h_nn.make_h1(mf_nn.mo_coeff,mf_nn.mo_occ)[0].shape"
   ]
  },
  {
   "cell_type": "code",
   "execution_count": 15,
   "id": "1f90754f",
   "metadata": {},
   "outputs": [
    {
     "data": {
      "text/plain": [
       "(-14.582677594780817, 1.083973879124896)"
      ]
     },
     "execution_count": 15,
     "metadata": {},
     "output_type": "execute_result"
    }
   ],
   "source": [
    "# This is a part of the gradient \n",
    "0.5*np.einsum(\"ij,kl,ijkl\",P_nn,P_nn,dG4d),-np.einsum(\"ik,jl,ijkl\",P_nn,P_nn,dG4d)/4"
   ]
  },
  {
   "cell_type": "code",
   "execution_count": 16,
   "id": "bb6b81b2",
   "metadata": {},
   "outputs": [
    {
     "data": {
      "text/plain": [
       "(array([[-2.25886440e+00, -4.43578149e-01, -3.81206685e-01,\n",
       "         -4.05704923e-17, -2.85704893e-17, -7.78176444e-02,\n",
       "         -1.80180532e-17, -3.54648222e-17,  1.85488843e-02,\n",
       "          1.43988242e-03, -6.04133963e-01, -1.00073423e+00,\n",
       "         -9.23067980e-18, -4.66477748e-17,  1.21451190e+00,\n",
       "         -1.07093959e-17, -4.31483211e-17,  1.26079028e+00],\n",
       "        [-4.43578149e-01, -1.65096804e+00, -1.20701346e+00,\n",
       "          1.43996545e-17, -6.55259282e-17, -4.13793733e-01,\n",
       "          1.61177992e-17, -7.62276305e-17, -1.55433137e-01,\n",
       "         -9.42380354e-01, -3.40364493e+00, -3.14300940e+00,\n",
       "          1.54233138e-17, -1.16726650e-16,  2.76665668e+00,\n",
       "         -3.44120352e-17, -9.56659522e-17,  1.80546105e+00],\n",
       "        [-3.81206685e-01, -1.20701346e+00, -1.08570768e+00,\n",
       "          1.94401561e-17, -5.47037644e-17, -2.92775945e-01,\n",
       "          5.58611741e-18, -4.21723626e-17, -4.79902070e-02,\n",
       "         -5.70209421e-01, -2.11496536e+00, -2.41150261e+00,\n",
       "          8.27103703e-19, -7.34781769e-17,  5.86998790e-01,\n",
       "         -3.51837732e-17, -6.54578250e-17,  3.33466215e-01],\n",
       "        [-4.05704923e-17,  1.43996545e-17,  1.94401561e-17,\n",
       "         -1.55425149e+00, -2.31947698e-18, -1.93287033e-17,\n",
       "         -6.41556286e-01, -4.79089678e-18,  2.64230314e-17,\n",
       "          7.34429011e-17,  3.18811733e-17,  1.81857957e-17,\n",
       "         -2.07527592e+00, -1.58382859e-17, -3.76569073e-17,\n",
       "         -2.25160878e+00,  7.47404503e-19, -1.17031973e-17],\n",
       "        [-2.85704893e-17, -6.55259282e-17, -5.47037644e-17,\n",
       "         -2.31947698e-18, -1.55425149e+00, -3.90797364e-17,\n",
       "          8.79013811e-18, -6.41556286e-01,  8.97166513e-18,\n",
       "          1.15188144e-17, -4.81316655e-18,  7.94665901e-18,\n",
       "         -1.75541384e-19, -2.07527592e+00,  5.45187808e-17,\n",
       "          9.06466310e-18, -2.25160878e+00,  5.91521239e-17],\n",
       "        [-7.78176444e-02, -4.13793733e-01, -2.92775945e-01,\n",
       "         -1.93287033e-17, -3.90797364e-17, -1.81825218e+00,\n",
       "         -1.55007825e-17, -2.54121869e-17, -8.07402327e-01,\n",
       "         -1.49020899e+00, -4.36888199e+00, -1.79092811e+00,\n",
       "          4.20035704e-17, -3.89577506e-17,  2.36446292e+00,\n",
       "          4.12142252e-18, -2.47999245e-17, -2.09479375e+00],\n",
       "        [-1.80180532e-17,  1.61177992e-17,  5.58611741e-18,\n",
       "         -6.41556286e-01,  8.79013811e-18, -1.55007825e-17,\n",
       "         -6.94846282e-01,  3.64731802e-18,  1.12808528e-17,\n",
       "          4.00646386e-17,  3.85734442e-17,  2.00582070e-17,\n",
       "         -1.03016735e+00,  6.83336916e-18, -3.54573279e-17,\n",
       "         -1.86242304e+00,  1.58996234e-17, -2.12682580e-18],\n",
       "        [-3.54648222e-17, -7.62276305e-17, -4.21723626e-17,\n",
       "         -4.79089678e-18, -6.41556286e-01, -2.54121869e-17,\n",
       "          3.64731802e-18, -6.94846282e-01,  1.47884903e-17,\n",
       "          9.86273120e-18,  1.18156353e-17,  1.91858280e-17,\n",
       "         -3.88353900e-18, -1.03016735e+00,  4.79600673e-17,\n",
       "          4.08506246e-18, -1.86242304e+00,  6.21123144e-17],\n",
       "        [ 1.85488843e-02, -1.55433137e-01, -4.79902070e-02,\n",
       "          2.64230314e-17,  8.97166513e-18, -8.07402327e-01,\n",
       "          1.12808528e-17,  1.47884903e-17, -6.12044378e-01,\n",
       "         -3.83009571e-01, -1.00084498e+00, -3.21995378e-01,\n",
       "          4.55644461e-17,  4.12448826e-17, -1.32893236e+00,\n",
       "          2.12379797e-17,  3.22486219e-17, -3.31828852e+00],\n",
       "        [ 1.43988242e-03, -9.42380354e-01, -5.70209421e-01,\n",
       "          7.34429011e-17,  1.15188144e-17, -1.49020899e+00,\n",
       "          4.00646386e-17,  9.86273120e-18, -3.83009571e-01,\n",
       "         -1.74954834e+00, -3.73506348e-01, -2.65413901e-01,\n",
       "          1.23776336e-16,  1.19410972e-17,  3.27798246e-02,\n",
       "          1.03653238e-16,  1.53612245e-17, -2.20876229e-02],\n",
       "        [-6.04133963e-01, -3.40364493e+00, -2.11496536e+00,\n",
       "          3.18811733e-17, -4.81316655e-18, -4.36888199e+00,\n",
       "          3.85734442e-17,  1.18156353e-17, -1.00084498e+00,\n",
       "         -3.73506348e-01, -1.40340778e+00, -9.98360519e-01,\n",
       "          1.18810812e-16,  7.10039385e-19,  2.37597227e-01,\n",
       "          7.43625331e-17,  1.31940352e-17,  1.04893297e-01],\n",
       "        [-1.00073423e+00, -3.14300940e+00, -2.41150261e+00,\n",
       "          1.81857957e-17,  7.94665901e-18, -1.79092811e+00,\n",
       "          2.00582070e-17,  1.91858280e-17, -3.21995378e-01,\n",
       "         -2.65413901e-01, -9.98360519e-01, -1.02954494e+00,\n",
       "          7.85508011e-17,  2.67230704e-17,  2.08681975e-01,\n",
       "          1.87969198e-17,  2.31554474e-17,  1.32123821e-01],\n",
       "        [-9.23067980e-18,  1.54233138e-17,  8.27103703e-19,\n",
       "         -2.07527592e+00, -1.75541384e-19,  4.20035704e-17,\n",
       "         -1.03016735e+00, -3.88353900e-18,  4.55644461e-17,\n",
       "          1.23776336e-16,  1.18810812e-16,  7.85508011e-17,\n",
       "         -1.37931908e+00,  1.19177131e-17, -1.05562688e-16,\n",
       "         -5.34506321e-01,  2.34728176e-17, -2.96885016e-17],\n",
       "        [-4.66477748e-17, -1.16726650e-16, -7.34781769e-17,\n",
       "         -1.58382859e-17, -2.07527592e+00, -3.89577506e-17,\n",
       "          6.83336916e-18, -1.03016735e+00,  4.12448826e-17,\n",
       "          1.19410972e-17,  7.10039385e-19,  2.67230704e-17,\n",
       "          1.19177131e-17, -1.37931908e+00,  7.62390472e-17,\n",
       "          1.84060848e-17, -5.34506321e-01,  1.26904542e-16],\n",
       "        [ 1.21451190e+00,  2.76665668e+00,  5.86998790e-01,\n",
       "         -3.76569073e-17,  5.45187808e-17,  2.36446292e+00,\n",
       "         -3.54573279e-17,  4.79600673e-17, -1.32893236e+00,\n",
       "          3.27798246e-02,  2.37597227e-01,  2.08681975e-01,\n",
       "         -1.05562688e-16,  7.62390472e-17, -1.48771756e+00,\n",
       "         -5.27294157e-17,  5.47161313e-17, -6.96969833e-01],\n",
       "        [-1.07093959e-17, -3.44120352e-17, -3.51837732e-17,\n",
       "         -2.25160878e+00,  9.06466310e-18,  4.12142252e-18,\n",
       "         -1.86242304e+00,  4.08506246e-18,  2.12379797e-17,\n",
       "          1.03653238e-16,  7.43625331e-17,  1.87969198e-17,\n",
       "         -5.34506321e-01,  1.84060848e-17, -5.27294157e-17,\n",
       "         -7.31711759e-01,  2.71733841e-17,  2.01843345e-17],\n",
       "        [-4.31483211e-17, -9.56659522e-17, -6.54578250e-17,\n",
       "          7.47404503e-19, -2.25160878e+00, -2.47999245e-17,\n",
       "          1.58996234e-17, -1.86242304e+00,  3.22486219e-17,\n",
       "          1.53612245e-17,  1.31940352e-17,  2.31554474e-17,\n",
       "          2.34728176e-17, -5.34506321e-01,  5.47161313e-17,\n",
       "          2.71733841e-17, -7.31711759e-01,  8.22362282e-17],\n",
       "        [ 1.26079028e+00,  1.80546105e+00,  3.33466215e-01,\n",
       "         -1.17031973e-17,  5.91521239e-17, -2.09479375e+00,\n",
       "         -2.12682580e-18,  6.21123144e-17, -3.31828852e+00,\n",
       "         -2.20876229e-02,  1.04893297e-01,  1.32123821e-01,\n",
       "         -2.96885016e-17,  1.26904542e-16, -6.96969833e-01,\n",
       "          2.01843345e-17,  8.22362282e-17, -8.10518293e-01]]),\n",
       " array([[-2.25887640e+00, -4.43527228e-01, -3.81180233e-01,\n",
       "         -4.05950903e-17, -2.85733980e-17, -7.77825638e-02,\n",
       "         -1.80294579e-17, -3.54622618e-17,  1.85518307e-02,\n",
       "          1.42966703e-03, -6.04945211e-01, -1.00075400e+00,\n",
       "         -9.24763140e-18, -4.66510487e-17,  1.21551884e+00,\n",
       "         -1.07269804e-17, -4.31450718e-17,  1.26042867e+00],\n",
       "        [-4.43527228e-01, -1.65079753e+00, -1.20684978e+00,\n",
       "          1.44152286e-17, -6.55288613e-17, -4.13722571e-01,\n",
       "          1.61227947e-17, -7.62152543e-17, -1.55356046e-01,\n",
       "         -9.42628657e-01, -3.40354303e+00, -3.14271621e+00,\n",
       "          1.54040258e-17, -1.16703031e-16,  2.76558437e+00,\n",
       "         -3.44080483e-17, -9.56457239e-17,  1.80470509e+00],\n",
       "        [-3.81180233e-01, -1.20684978e+00, -1.08553067e+00,\n",
       "          1.94414692e-17, -5.47019582e-17, -2.92673939e-01,\n",
       "          5.58279520e-18, -4.21627140e-17, -4.79119337e-02,\n",
       "         -5.70180694e-01, -2.11479939e+00, -2.41123861e+00,\n",
       "          8.07959890e-19, -7.34671367e-17,  5.86822986e-01,\n",
       "         -3.51870386e-17, -6.54432313e-17,  3.33188056e-01],\n",
       "        [-4.05950903e-17,  1.44152286e-17,  1.94414692e-17,\n",
       "         -1.55407946e+00, -3.01553145e-18, -1.92968603e-17,\n",
       "         -6.41452522e-01, -5.04814844e-18,  2.64255110e-17,\n",
       "          7.34677312e-17,  3.19031237e-17,  1.81859268e-17,\n",
       "         -2.07578330e+00, -1.60741231e-17, -3.76381189e-17,\n",
       "         -2.25142491e+00,  4.33161631e-19, -1.16848533e-17],\n",
       "        [-2.85733980e-17, -6.55288613e-17, -5.47019582e-17,\n",
       "         -2.18066084e-18, -1.55407946e+00, -3.90503376e-17,\n",
       "          8.90573644e-18, -6.41452522e-01,  8.99870140e-18,\n",
       "          1.15122085e-17, -4.81384667e-18,  7.95162007e-18,\n",
       "         -1.25611758e-19, -2.07578330e+00,  5.45133632e-17,\n",
       "          9.17287166e-18, -2.25142491e+00,  5.91659281e-17],\n",
       "        [-7.77825638e-02, -4.13722571e-01, -2.92673939e-01,\n",
       "         -1.92968603e-17, -3.90503376e-17, -1.81814840e+00,\n",
       "         -1.54806489e-17, -2.53866957e-17, -8.07262285e-01,\n",
       "         -1.49039567e+00, -4.36801270e+00, -1.79032579e+00,\n",
       "          4.19966575e-17, -3.89052035e-17,  2.36253172e+00,\n",
       "          4.13817339e-18, -2.47694122e-17, -2.09511007e+00],\n",
       "        [-1.80294579e-17,  1.61227947e-17,  5.58279520e-18,\n",
       "         -6.41452522e-01,  8.28952436e-18, -1.54806489e-17,\n",
       "         -6.94721790e-01,  3.44508027e-18,  1.12808751e-17,\n",
       "          4.00744032e-17,  3.85713882e-17,  2.00500546e-17,\n",
       "         -1.03007453e+00,  6.55497848e-18, -3.54276127e-17,\n",
       "         -1.86221842e+00,  1.55607185e-17, -2.11579197e-18],\n",
       "        [-3.54622618e-17, -7.62152543e-17, -4.21627140e-17,\n",
       "         -4.72255128e-18, -6.41452522e-01, -2.53866957e-17,\n",
       "          3.72184924e-18, -6.94721790e-01,  1.48011919e-17,\n",
       "          9.85622498e-18,  1.18093460e-17,  1.91856460e-17,\n",
       "         -3.84690288e-18, -1.03007453e+00,  4.79529244e-17,\n",
       "          4.16483873e-18, -1.86221842e+00,  6.21126297e-17],\n",
       "        [ 1.85518307e-02, -1.55356046e-01, -4.79119337e-02,\n",
       "          2.64255110e-17,  8.99870140e-18, -8.07262285e-01,\n",
       "          1.12808751e-17,  1.48011919e-17, -6.11910366e-01,\n",
       "         -3.82871488e-01, -1.00038208e+00, -3.21672340e-01,\n",
       "          4.55634916e-17,  4.12621326e-17, -1.32894667e+00,\n",
       "          2.12386761e-17,  3.22607523e-17, -3.31798227e+00],\n",
       "        [ 1.42966703e-03, -9.42628657e-01, -5.70180694e-01,\n",
       "          7.34677312e-17,  1.15122085e-17, -1.49039567e+00,\n",
       "          4.00744032e-17,  9.85622498e-18, -3.82871488e-01,\n",
       "         -1.74945215e+00, -3.73466939e-01, -2.65389819e-01,\n",
       "          1.23805504e-16,  1.19371256e-17,  3.27750464e-02,\n",
       "          1.03658652e-16,  1.53547092e-17, -2.20842124e-02],\n",
       "        [-6.04945211e-01, -3.40354303e+00, -2.11479939e+00,\n",
       "          3.19031237e-17, -4.81384667e-18, -4.36801270e+00,\n",
       "          3.85713882e-17,  1.18093460e-17, -1.00038208e+00,\n",
       "         -3.73466939e-01, -1.40327899e+00, -9.98242944e-01,\n",
       "          1.18785091e-16,  7.11962465e-19,  2.37633402e-01,\n",
       "          7.43469012e-17,  1.31901655e-17,  1.04879120e-01],\n",
       "        [-1.00075400e+00, -3.14271621e+00, -2.41123861e+00,\n",
       "          1.81859268e-17,  7.95162007e-18, -1.79032579e+00,\n",
       "          2.00500546e-17,  1.91856460e-17, -3.21672340e-01,\n",
       "         -2.65389819e-01, -9.98242944e-01, -1.02936038e+00,\n",
       "          7.85238590e-17,  2.67229946e-17,  2.08665230e-01,\n",
       "          1.87840610e-17,  2.31542669e-17,  1.32039966e-01],\n",
       "        [-9.24763140e-18,  1.54040258e-17,  8.07959890e-19,\n",
       "         -2.07578330e+00, -6.80674528e-19,  4.19966575e-17,\n",
       "         -1.03007453e+00, -4.04543126e-18,  4.55634916e-17,\n",
       "          1.23805504e-16,  1.18785091e-16,  7.85238590e-17,\n",
       "         -1.37916200e+00,  1.14178697e-17, -1.05484745e-16,\n",
       "         -5.34420216e-01,  2.30333637e-17, -2.96510775e-17],\n",
       "        [-4.66510487e-17, -1.16703031e-16, -7.34671367e-17,\n",
       "         -1.57150680e-17, -2.07578330e+00, -3.89052035e-17,\n",
       "          6.92256939e-18, -1.03007453e+00,  4.12621326e-17,\n",
       "          1.19371256e-17,  7.11962465e-19,  2.67229946e-17,\n",
       "          1.20803461e-17, -1.37916200e+00,  7.62197022e-17,\n",
       "          1.85924263e-17, -5.34420216e-01,  1.26897197e-16],\n",
       "        [ 1.21551884e+00,  2.76558437e+00,  5.86822986e-01,\n",
       "         -3.76381189e-17,  5.45133632e-17,  2.36253172e+00,\n",
       "         -3.54276127e-17,  4.79529244e-17, -1.32894667e+00,\n",
       "          3.27750464e-02,  2.37633402e-01,  2.08665230e-01,\n",
       "         -1.05484745e-16,  7.62197022e-17, -1.48771319e+00,\n",
       "         -5.26811277e-17,  5.47040452e-17, -6.96890652e-01],\n",
       "        [-1.07269804e-17, -3.44080483e-17, -3.51870386e-17,\n",
       "         -2.25142491e+00,  8.69796800e-18,  4.13817339e-18,\n",
       "         -1.86221842e+00,  3.95796728e-18,  2.12386761e-17,\n",
       "          1.03658652e-16,  7.43469012e-17,  1.87840610e-17,\n",
       "         -5.34420216e-01,  1.79663309e-17, -5.26811277e-17,\n",
       "         -7.31566418e-01,  2.67356790e-17,  2.01932876e-17],\n",
       "        [-4.31450718e-17, -9.56457239e-17, -6.54432313e-17,\n",
       "          8.13216833e-19, -2.25142491e+00, -2.47694122e-17,\n",
       "          1.59585217e-17, -1.86221842e+00,  3.22607523e-17,\n",
       "          1.53547092e-17,  1.31901655e-17,  2.31542669e-17,\n",
       "          2.35388640e-17, -5.34420216e-01,  5.47040452e-17,\n",
       "          2.72789892e-17, -7.31566418e-01,  8.22367315e-17],\n",
       "        [ 1.26042867e+00,  1.80470509e+00,  3.33188056e-01,\n",
       "         -1.16848533e-17,  5.91659281e-17, -2.09511007e+00,\n",
       "         -2.11579197e-18,  6.21126297e-17, -3.31798227e+00,\n",
       "         -2.20842124e-02,  1.04879120e-01,  1.32039966e-01,\n",
       "         -2.96510775e-17,  1.26897197e-16, -6.96890652e-01,\n",
       "          2.01932876e-17,  8.22367315e-17, -8.10317009e-01]]))"
      ]
     },
     "execution_count": 16,
     "metadata": {},
     "output_type": "execute_result"
    }
   ],
   "source": [
    "(vhf + vhf.transpose(0,2,1))[2],np.einsum(\"kl,ijkl->ij\",P_nn,dG4d)-np.einsum(\"jl,ijkl->ik\",P_nn,dG4d)/2"
   ]
  },
  {
   "cell_type": "code",
   "execution_count": 17,
   "id": "96cede60",
   "metadata": {},
   "outputs": [
    {
     "data": {
      "text/plain": [
       "0.004542824970955631"
      ]
     },
     "execution_count": 17,
     "metadata": {},
     "output_type": "execute_result"
    }
   ],
   "source": [
    "norm((vhf + vhf.transpose(0,2,1))[2]-(np.einsum(\"kl,ijkl->ij\",P_nn,dG4d)-np.einsum(\"jl,ijkl->ik\",P_nn,dG4d)/2))"
   ]
  },
  {
   "cell_type": "code",
   "execution_count": 18,
   "id": "fe0ccc13",
   "metadata": {},
   "outputs": [
    {
     "data": {
      "text/plain": [
       "0.0022957770597849202"
      ]
     },
     "execution_count": 18,
     "metadata": {},
     "output_type": "execute_result"
    }
   ],
   "source": [
    "# qui h1ao e' la somma del contributo di h monoelectr + V eff (da operatori bielettronici)\n",
    "norm(h1[2]-(dh1+np.einsum(\"kl,ijkl->ij\",P_nn,dG4d)-np.einsum(\"jl,ijkl->ik\",P_nn,dG4d)/2))"
   ]
  },
  {
   "cell_type": "code",
   "execution_count": 19,
   "id": "f10abce7",
   "metadata": {},
   "outputs": [
    {
     "data": {
      "text/plain": [
       "(3, 18, 7)"
      ]
     },
     "execution_count": 19,
     "metadata": {},
     "output_type": "execute_result"
    }
   ],
   "source": [
    "mo1[0].shape"
   ]
  },
  {
   "cell_type": "code",
   "execution_count": 20,
   "id": "5edf33d0",
   "metadata": {},
   "outputs": [
    {
     "data": {
      "text/plain": [
       "array([[-6.15463406e-02,  7.61909067e-02,  2.61671086e-01,\n",
       "         3.55139327e-02, -2.79617390e-02, -1.31428982e-01,\n",
       "        -7.52775682e-02,  6.32240206e-02,  1.66612656e-02,\n",
       "         3.78076173e-02, -2.59853468e-02, -1.31082650e-01,\n",
       "        -3.01865526e-02,  6.45650629e-02,  6.61553464e-02,\n",
       "        -1.54014894e-02, -9.07218359e-02,  6.29344758e-02],\n",
       "       [ 7.61909067e-02, -6.29240862e-03,  1.29652283e-01,\n",
       "         1.87876793e-03,  2.66587433e-01,  7.01619302e-02,\n",
       "         9.44143725e-02, -2.38307673e-01,  1.47615093e-01,\n",
       "         7.46162762e-03,  1.54612332e-01, -4.01198739e-01,\n",
       "         1.07959962e-01,  3.03064032e-02, -5.69233697e-02,\n",
       "         6.77390301e-02,  1.33052947e-01,  1.11921921e-01],\n",
       "       [ 2.61671086e-01,  1.29652283e-01, -1.01370991e+00,\n",
       "         1.40676569e-01, -6.17864663e-02,  6.83615592e-01,\n",
       "        -1.98424250e-02,  9.78246868e-02, -2.74614619e-01,\n",
       "        -1.43869775e-01, -1.50009186e-04,  1.14528308e+00,\n",
       "         1.12395467e-01,  6.13583186e-02, -6.70683401e-01,\n",
       "         6.62369433e-02,  3.42985278e-02, -5.91804132e-01],\n",
       "       [ 3.55139327e-02,  1.87876793e-03,  1.40676569e-01,\n",
       "         1.62782232e-02, -1.28086117e-02, -1.80763775e-01,\n",
       "        -3.65255271e-02, -5.22968468e-03, -1.36944693e-02,\n",
       "         2.74782497e-02, -6.46520353e-02, -2.96390437e-02,\n",
       "        -4.98602570e-02, -2.49425372e-02,  1.64737943e-01,\n",
       "         9.67428003e-02, -1.39659759e-02,  6.52098145e-02],\n",
       "       [-2.79617390e-02,  2.66587433e-01, -6.17864663e-02,\n",
       "        -1.28086117e-02,  8.84724538e-02,  3.51977415e-01,\n",
       "         7.77465605e-03,  7.87464084e-02, -3.35858408e-02,\n",
       "        -4.82761868e-02,  1.52266606e-01, -1.74545064e-02,\n",
       "        -4.64587034e-02,  6.89518878e-02, -3.46791603e-01,\n",
       "        -3.64415836e-02,  2.37387973e-02, -1.81440581e-01],\n",
       "       [-1.31428982e-01,  7.01619302e-02,  6.83615592e-01,\n",
       "        -1.80763775e-01,  3.51977415e-01,  8.31667320e-02,\n",
       "         1.07441106e-01, -3.32398382e-01,  4.57671134e-01,\n",
       "         1.23019953e-02,  5.92111302e-01, -1.32300218e+00,\n",
       "        -7.12877801e-02,  4.92434628e-03, -7.46502637e-02,\n",
       "        -4.30716683e-02,  1.30235651e-01,  4.52738015e-01],\n",
       "       [-7.52775682e-02,  9.44143725e-02, -1.98424250e-02,\n",
       "        -3.65255271e-02,  7.77465605e-03,  1.07441106e-01,\n",
       "        -2.68839283e-02,  2.36805686e-03, -1.08875996e-03,\n",
       "         1.06918210e-02, -3.68423683e-02, -9.93005824e-02,\n",
       "        -9.37419822e-02,  1.36165583e-02, -2.01834751e-01,\n",
       "        -1.79224029e-02,  9.95247384e-03, -8.54563290e-02],\n",
       "       [ 6.32240206e-02, -2.38307673e-01,  9.78246868e-02,\n",
       "        -5.22968468e-03,  7.87464084e-02, -3.32398382e-01,\n",
       "         2.36805686e-03,  4.35104212e-02,  9.64545181e-03,\n",
       "         7.60004126e-02, -1.44832988e-01, -7.87341559e-03,\n",
       "        -1.74350523e-02,  1.11932276e-01,  5.11358306e-01,\n",
       "        -1.34910856e-02,  6.68778261e-02,  1.75861301e-01],\n",
       "       [ 1.66612656e-02,  1.47615093e-01, -2.74614619e-01,\n",
       "        -1.36944693e-02, -3.35858408e-02,  4.57671134e-01,\n",
       "        -1.08875996e-03,  9.64545181e-03,  3.03657035e-02,\n",
       "        -9.33007226e-02,  3.13354831e-01,  1.25146678e-01,\n",
       "        -1.66029866e-02, -3.35835460e-02, -4.54303842e-01,\n",
       "        -1.04393214e-02, -2.38104992e-02, -1.52526574e-01],\n",
       "       [ 3.78076173e-02,  7.46162762e-03, -1.43869775e-01,\n",
       "         2.74782497e-02, -4.82761868e-02,  1.23019953e-02,\n",
       "         1.06918210e-02,  7.60004126e-02, -9.33007226e-02,\n",
       "        -2.50316589e-02, -9.82282319e-02,  2.66602019e-01,\n",
       "         2.80296315e-02,  4.55389315e-02, -2.26624571e-02,\n",
       "         1.56772467e-02,  9.69041863e-03, -1.02725268e-01],\n",
       "       [-2.59853468e-02,  1.54612332e-01, -1.50009186e-04,\n",
       "        -6.46520353e-02,  1.52266606e-01,  5.92111302e-01,\n",
       "        -3.68423683e-02, -1.44832988e-01,  3.13354831e-01,\n",
       "        -9.82282319e-02,  6.37225337e-01, -5.89419481e-01,\n",
       "        -4.92510859e-02,  9.39047261e-03, -5.60640287e-01,\n",
       "        -1.81752475e-02, -9.48878235e-02,  6.22470019e-02],\n",
       "       [-1.31082650e-01, -4.01198739e-01,  1.14528308e+00,\n",
       "        -2.96390437e-02, -1.74545064e-02, -1.32300218e+00,\n",
       "        -9.93005824e-02, -7.87341559e-03,  1.25146678e-01,\n",
       "         2.66602019e-01, -5.89419481e-01, -8.88106529e-01,\n",
       "        -7.16951639e-02, -2.76705953e-02,  1.35153072e+00,\n",
       "        -3.05091054e-02, -2.02461071e-01,  6.81703539e-01],\n",
       "       [-3.01865526e-02,  1.07959962e-01,  1.12395467e-01,\n",
       "        -4.98602570e-02, -4.64587034e-02, -7.12877801e-02,\n",
       "        -9.37419822e-02, -1.74350523e-02, -1.66029866e-02,\n",
       "         2.80296315e-02, -4.92510859e-02, -7.16951639e-02,\n",
       "        -2.35730153e-01, -8.75726446e-02, -2.08668506e-02,\n",
       "         7.99094787e-02, -5.34630622e-02, -1.09105743e-02],\n",
       "       [ 6.45650629e-02,  3.03064032e-02,  6.13583186e-02,\n",
       "        -2.49425372e-02,  6.89518878e-02,  4.92434628e-03,\n",
       "         1.36165583e-02,  1.11932276e-01, -3.35835460e-02,\n",
       "         4.55389315e-02,  9.39047261e-03, -2.76705953e-02,\n",
       "        -8.75726446e-02, -4.24408609e-02,  2.52395124e-01,\n",
       "        -6.83418093e-02, -6.85248905e-02,  4.64932587e-03],\n",
       "       [ 6.61553464e-02, -5.69233697e-02, -6.70683401e-01,\n",
       "         1.64737943e-01, -3.46791603e-01, -7.46502637e-02,\n",
       "        -2.01834751e-01,  5.11358306e-01, -4.54303842e-01,\n",
       "        -2.26624571e-02, -5.60640287e-01,  1.35153072e+00,\n",
       "        -2.08668506e-02,  2.52395124e-01,  7.15562992e-02,\n",
       "        -8.45596196e-03, -1.00940411e-01, -4.49552469e-01],\n",
       "       [-1.54014894e-02,  6.77390301e-02,  6.62369433e-02,\n",
       "         9.67428003e-02, -3.64415836e-02, -4.30716683e-02,\n",
       "        -1.79224029e-02, -1.34910856e-02, -1.04393214e-02,\n",
       "         1.56772467e-02, -1.81752475e-02, -3.05091054e-02,\n",
       "         7.99094787e-02, -6.83418093e-02, -8.45596196e-03,\n",
       "         2.10552177e-01, -4.22737285e-02, -4.29922725e-03],\n",
       "       [-9.07218359e-02,  1.33052947e-01,  3.42985278e-02,\n",
       "        -1.39659759e-02,  2.37387973e-02,  1.30235651e-01,\n",
       "         9.95247384e-03,  6.68778261e-02, -2.38104992e-02,\n",
       "         9.69041863e-03, -9.48878235e-02, -2.02461071e-01,\n",
       "        -5.34630622e-02, -6.85248905e-02, -1.00940411e-01,\n",
       "        -4.22737285e-02, -7.23742586e-02, -1.13184542e-01],\n",
       "       [ 6.29344758e-02,  1.11921921e-01, -5.91804132e-01,\n",
       "         6.52098145e-02, -1.81440581e-01,  4.52738015e-01,\n",
       "        -8.54563290e-02,  1.75861301e-01, -1.52526574e-01,\n",
       "        -1.02725268e-01,  6.22470019e-02,  6.81703539e-01,\n",
       "        -1.09105743e-02,  4.64932587e-03, -4.49552469e-01,\n",
       "        -4.29922725e-03, -1.13184542e-01, -3.56102111e-01]])"
      ]
     },
     "execution_count": 20,
     "metadata": {},
     "output_type": "execute_result"
    }
   ],
   "source": [
    "make_dP(mf,mo1[1][2])"
   ]
  },
  {
   "cell_type": "code",
   "execution_count": 21,
   "id": "934ee3f5",
   "metadata": {},
   "outputs": [],
   "source": [
    "mocc = mo_coeff[:,mo_occ>0]\n",
    "dm1 = numpy.einsum('pi,qi->pq', mo1[1][2], mocc)*4"
   ]
  },
  {
   "cell_type": "code",
   "execution_count": 22,
   "id": "70f3eb73",
   "metadata": {},
   "outputs": [],
   "source": [
    "dP_fd=(P_nn_p-P_nn_m)/.06\n",
    "#norm(dP_fd),plt.matshow(dP_fd)"
   ]
  },
  {
   "cell_type": "code",
   "execution_count": 23,
   "id": "fa058c93",
   "metadata": {},
   "outputs": [
    {
     "data": {
      "text/plain": [
       "(2.1302248952421143, 1.4845730879273642, 1.527351094517731)"
      ]
     },
     "execution_count": 23,
     "metadata": {},
     "output_type": "execute_result"
    },
    {
     "data": {
      "image/png": "[encoded data removed]",
      "text/plain": [
       "<Figure size 288x288 with 1 Axes>"
      ]
     },
     "metadata": {
      "needs_background": "light"
     },
     "output_type": "display_data"
    },
    {
     "data": {
      "image/png": "[encoded data removed]",
      "text/plain": [
       "<Figure size 288x288 with 1 Axes>"
      ]
     },
     "metadata": {
      "needs_background": "light"
     },
     "output_type": "display_data"
    }
   ],
   "source": [
    "plt.matshow(dm1),plt.matshow(dP_fd)\n",
    "norm(dm1),norm(dP_fd),norm(dm1-dP_fd)"
   ]
  },
  {
   "cell_type": "code",
   "execution_count": 24,
   "id": "de6c6a9c",
   "metadata": {},
   "outputs": [],
   "source": [
    "h1ao=h1[2]"
   ]
  },
  {
   "cell_type": "code",
   "execution_count": 25,
   "id": "a01495b6",
   "metadata": {},
   "outputs": [
    {
     "data": {
      "text/plain": [
       "(0.5881628203832311, 0.5884961311900713)"
      ]
     },
     "execution_count": 25,
     "metadata": {},
     "output_type": "execute_result"
    }
   ],
   "source": [
    "numpy.einsum('pq,pq', h1ao, dm1),numpy.einsum('pq,pq', h1ao, dP_fd)"
   ]
  },
  {
   "cell_type": "markdown",
   "id": "9cd96437",
   "metadata": {},
   "source": [
    "# Comments:\n",
    "Unfortunatly the density deriv. analytical differs from the one by finite difference, though they give the same integration results with h1ao, that means that they can be used to evalaute derivatives, and probabily the density matrix is degenerate (which is possible given the high symmetry of the system) :(\n"
   ]
  },
  {
   "cell_type": "code",
   "execution_count": 26,
   "id": "23045c1f",
   "metadata": {},
   "outputs": [],
   "source": [
    "def gen_vind(mf, mo_coeff, mo_occ):\n",
    "    nao, nmo = mo_coeff.shape\n",
    "    mocc = mo_coeff[:,mo_occ>0]\n",
    "    nocc = mocc.shape[1]\n",
    "    vresp = mf.gen_response(mo_coeff, mo_occ, hermi=1)\n",
    "    def fx(mo1):\n",
    "        mo1 = mo1.reshape(-1,nmo,nocc)\n",
    "        nset = len(mo1)\n",
    "        dm1 = numpy.empty((nset,nao,nao))\n",
    "        for i, x in enumerate(mo1):\n",
    "            dm = reduce(numpy.dot, (mo_coeff, x*2, mocc.T)) # *2 for double occupancy\n",
    "            dm1[i] = dm + dm.T\n",
    "        v1 = vresp(dm1)\n",
    "        v1vo = numpy.empty_like(mo1)\n",
    "        for i, x in enumerate(v1):\n",
    "            v1vo[i] = reduce(numpy.dot, (mo_coeff.T, x, mocc))\n",
    "        return v1vo\n",
    "    return fx\n",
    "fx = gen_vind(mf, mo_coeff, mo_occ)"
   ]
  },
  {
   "cell_type": "code",
   "execution_count": 27,
   "id": "8206b9dc",
   "metadata": {},
   "outputs": [],
   "source": [
    "def _ao2mo(mat):\n",
    "        #return numpy.asarray([reduce(numpy.dot, (mo_coeff.T, x, mocc)) for x in mat])\n",
    "        return numpy.asarray([ (mo_coeff.T@ x@ mocc) for x in mat])"
   ]
  },
  {
   "cell_type": "code",
   "execution_count": 28,
   "id": "2c432c5a",
   "metadata": {},
   "outputs": [],
   "source": [
    "def solve_mo1(mf, mo_energy, mo_coeff, mo_occ, h1ao_or_chkfile,\n",
    "              fx=None, atmlst=None, max_memory=4000, verbose=None):\n",
    "    '''Solve the first order equation\n",
    "\n",
    "    Kwargs:\n",
    "        fx : function(dm_mo) => v1_mo\n",
    "            A function to generate the induced potential.\n",
    "            See also the function gen_vind.\n",
    "    '''\n",
    "    mol = mf.mol\n",
    "    atmlst = range(mol.natm)\n",
    "\n",
    "    nao, nmo = mo_coeff.shape\n",
    "    mocc = mo_coeff[:,mo_occ>0]\n",
    "    nocc = mocc.shape[1]\n",
    "\n",
    "    fx = gen_vind(mf, mo_coeff, mo_occ)\n",
    "    s1a = -mol.intor('int1e_ipovlp', comp=3)\n",
    "\n",
    "    def _ao2mo(mat):\n",
    "        return numpy.asarray([reduce(numpy.dot, (mo_coeff.T, x, mocc)) for x in mat])\n",
    "\n",
    "    mem_now = lib.current_memory()[0]\n",
    "    max_memory = max(2000, max_memory*.9-mem_now)\n",
    "    blksize = max(2, int(max_memory*1e6/8 / (nmo*nocc*3*6)))\n",
    "    mo1s = [None] * mol.natm    # s = solution\n",
    "    e1s = [None] * mol.natm     # s = solution\n",
    "    aoslices = mol.aoslice_by_atom()\n",
    "    for ia0, ia1 in lib.prange(0, len(atmlst), blksize):\n",
    "        s1vo = []\n",
    "        h1vo = []\n",
    "        for i0 in range(ia0, ia1):\n",
    "            ia = atmlst[i0]\n",
    "            shl0, shl1, p0, p1 = aoslices[ia]\n",
    "            s1ao = numpy.zeros((3,nao,nao))\n",
    "            s1ao[:,p0:p1] += s1a[:,p0:p1]\n",
    "            s1ao[:,:,p0:p1] += s1a[:,p0:p1].transpose(0,2,1)\n",
    "            s1vo.append(_ao2mo(s1ao))\n",
    "            h1ao = h1ao_or_chkfile[ia]\n",
    "            h1vo.append(_ao2mo(h1ao))\n",
    "        h1vo = numpy.vstack(h1vo)\n",
    "        s1vo = numpy.vstack(s1vo)\n",
    "        return (h1vo, s1vo)\n",
    "        mo1, e1 = cphf.solve(fx, mo_energy, mo_occ, h1vo, s1vo)\n",
    "        mo1 = numpy.einsum('pq,xqi->xpi', mo_coeff, mo1).reshape(-1,3,nao,nocc)\n",
    "        e1 = e1.reshape(-1,3,nocc,nocc)\n",
    "\n",
    "        for k in range(ia1-ia0):\n",
    "            ia = atmlst[k+ia0]\n",
    "            mo1s[ia] = mo1[k]\n",
    "            e1s[ia] = e1[k].reshape(3,nocc,nocc)\n",
    "        mo1 = e1 = None\n",
    "\n",
    "    return mo1s, e1s"
   ]
  },
  {
   "cell_type": "code",
   "execution_count": null,
   "id": "87eb0f68",
   "metadata": {},
   "outputs": [],
   "source": []
  },
  {
   "cell_type": "code",
   "execution_count": 29,
   "id": "f8e0f438",
   "metadata": {},
   "outputs": [],
   "source": [
    "atmlst = range(mol.natm)\n",
    "nao, nmo = mo_coeff.shape\n",
    "mocc = mo_coeff[:,mo_occ>0]\n",
    "nocc = mocc.shape[1]"
   ]
  },
  {
   "cell_type": "code",
   "execution_count": 30,
   "id": "065785ed",
   "metadata": {},
   "outputs": [],
   "source": [
    "mol=nn\n",
    "s1a = -mol.intor('int1e_ipovlp', comp=3)\n",
    "mem_now = lib.current_memory()[0]\n",
    "max_memory = max(2000, max_memory*.9-mem_now)\n",
    "ia0, ia1=0,2\n",
    "s1vo = []\n",
    "h1vo = []\n",
    "for i0 in range(ia0, ia1):   # sei nel range di memoria i0 e' l'atomo rispetto al quale derivi\n",
    "    ia = atmlst[i0]\n",
    "    shl0, shl1, p0, p1 = aoslices[ia]\n",
    "    s1ao = numpy.zeros((3,nao,nao))\n",
    "    s1ao[:,p0:p1] += s1a[:,p0:p1]\n",
    "    s1ao[:,:,p0:p1] += s1a[:,p0:p1].transpose(0,2,1)"
   ]
  },
  {
   "cell_type": "code",
   "execution_count": 31,
   "id": "5809946d",
   "metadata": {},
   "outputs": [
    {
     "name": "stdout",
     "output_type": "stream",
     "text": [
      "0.0003968137125041214\n",
      "0.0003935848291133876\n"
     ]
    },
    {
     "data": {
      "text/plain": [
       "(None, None)"
      ]
     },
     "execution_count": 31,
     "metadata": {},
     "output_type": "execute_result"
    }
   ],
   "source": [
    "print(norm(s1ao[2]-dS)),print(norm(_ao2mo(s1ao[2])-_ao2mo(dS)))"
   ]
  },
  {
   "cell_type": "code",
   "execution_count": 32,
   "id": "9aac78d1",
   "metadata": {},
   "outputs": [
    {
     "data": {
      "text/plain": [
       "(3, 18, 18)"
      ]
     },
     "execution_count": 32,
     "metadata": {},
     "output_type": "execute_result"
    }
   ],
   "source": [
    "s1ao.shape"
   ]
  },
  {
   "cell_type": "code",
   "execution_count": 33,
   "id": "59f1852a",
   "metadata": {},
   "outputs": [],
   "source": [
    "dS_vo =mo_coeff.T@ dS@ mocc\n",
    "dh1_vo=mo_coeff.T@ h1[2]@ mocc "
   ]
  },
  {
   "cell_type": "code",
   "execution_count": 34,
   "id": "dcd75908",
   "metadata": {},
   "outputs": [
    {
     "data": {
      "text/plain": [
       "(3, 18, 18)"
      ]
     },
     "execution_count": 34,
     "metadata": {},
     "output_type": "execute_result"
    }
   ],
   "source": [
    "h1.shape"
   ]
  },
  {
   "cell_type": "code",
   "execution_count": 35,
   "id": "7ac81204",
   "metadata": {},
   "outputs": [],
   "source": [
    "mo1, e1 = cphf.solve(fx, mo_energy, mo_occ, dh1_vo, dS_vo)\n",
    "mo1 = numpy.einsum('pq,qi->pi', mo_coeff, mo1).reshape(nao,nocc)\n",
    "dm1 = numpy.einsum('pi,qi->pq', mo1, mocc)*4\n",
    "\n",
    "h1vo_out, s1vo_out = solve_mo1(mf,mo_energy, mo_coeff, mo_occ, h_nn.make_h1(mf.mo_coeff,mf.mo_occ),None, atmlst, max_memory, log)\n",
    "#dm2 = numpy.einsum('pi,qi->pq', mo1[1][2], mocc)*4\n",
    "h1ao=h1[2]"
   ]
  },
  {
   "cell_type": "code",
   "execution_count": 37,
   "id": "827055ae",
   "metadata": {},
   "outputs": [
    {
     "ename": "NameError",
     "evalue": "name 's1_vo_out' is not defined",
     "output_type": "error",
     "traceback": [
      "\u001b[0;31m---------------------------------------------------------------------------\u001b[0m",
      "\u001b[0;31mNameError\u001b[0m                                 Traceback (most recent call last)",
      "\u001b[0;32m<ipython-input-37-18967e35aa4e>\u001b[0m in \u001b[0;36m<module>\u001b[0;34m\u001b[0m\n\u001b[0;32m----> 1\u001b[0;31m \u001b[0mnorm\u001b[0m\u001b[0;34m(\u001b[0m\u001b[0ms1_vo_out\u001b[0m\u001b[0;34m[\u001b[0m\u001b[0;36m3\u001b[0m\u001b[0;34m:\u001b[0m\u001b[0;34m]\u001b[0m\u001b[0;34m-\u001b[0m\u001b[0;34m(\u001b[0m\u001b[0m_ao2mo\u001b[0m\u001b[0;34m(\u001b[0m\u001b[0ms1ao\u001b[0m\u001b[0;34m)\u001b[0m\u001b[0;34m)\u001b[0m\u001b[0;34m)\u001b[0m\u001b[0;34m,\u001b[0m\u001b[0mnorm\u001b[0m\u001b[0;34m(\u001b[0m\u001b[0mdS_vo_out\u001b[0m\u001b[0;34m[\u001b[0m\u001b[0;34m-\u001b[0m\u001b[0;36m1\u001b[0m\u001b[0;34m]\u001b[0m\u001b[0;34m-\u001b[0m\u001b[0m_ao2mo\u001b[0m\u001b[0;34m(\u001b[0m\u001b[0ms1ao\u001b[0m\u001b[0;34m)\u001b[0m\u001b[0;34m[\u001b[0m\u001b[0;36m2\u001b[0m\u001b[0;34m]\u001b[0m\u001b[0;34m)\u001b[0m\u001b[0;34m\u001b[0m\u001b[0;34m\u001b[0m\u001b[0m\n\u001b[0m",
      "\u001b[0;31mNameError\u001b[0m: name 's1_vo_out' is not defined"
     ]
    }
   ],
   "source": [
    "norm(s1vo_out[3:]-(_ao2mo(s1ao))),norm(dS_vo_out[-1]-_ao2mo(s1ao)[2])"
   ]
  },
  {
   "cell_type": "code",
   "execution_count": null,
   "id": "770bfb5c",
   "metadata": {},
   "outputs": [],
   "source": [
    "norm(_ao2mo(s1ao)[2]-_ao2mo(s1ao[2])),norm(_ao2mo(s1ao)[2]-_ao2mo(dS))"
   ]
  },
  {
   "cell_type": "code",
   "execution_count": null,
   "id": "76315698",
   "metadata": {},
   "outputs": [],
   "source": [
    "norm(_ao2mo(s1ao)[2]-mo_coeff.T@ dS@ mocc) "
   ]
  },
  {
   "cell_type": "code",
   "execution_count": null,
   "id": "6b0f03ce",
   "metadata": {},
   "outputs": [],
   "source": [
    "numpy.einsum('pq,pq', h1ao, dm1),numpy.einsum('pq,pq', h1ao, dP_fd)"
   ]
  },
  {
   "cell_type": "code",
   "execution_count": null,
   "id": "5bce1950",
   "metadata": {},
   "outputs": [],
   "source": []
  }
 ],
 "metadata": {
  "kernelspec": {
   "display_name": "Python 3",
   "language": "python",
   "name": "python3"
  },
  "language_info": {
   "codemirror_mode": {
    "name": "ipython",
    "version": 3
   },
   "file_extension": ".py",
   "mimetype": "text/x-python",
   "name": "python",
   "nbconvert_exporter": "python",
   "pygments_lexer": "ipython3",
   "version": "3.8.8"
  }
 },
 "nbformat": 4,
 "nbformat_minor": 5
}
