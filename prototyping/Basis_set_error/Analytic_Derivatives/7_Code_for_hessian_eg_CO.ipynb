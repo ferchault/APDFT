{
 "cells": [
  {
   "cell_type": "code",
   "execution_count": 1,
   "id": "5a53e1ff",
   "metadata": {},
   "outputs": [],
   "source": [
    "import basis_set_exchange as bse\n",
    "import scipy as sp\n",
    "import matplotlib.pyplot as plt\n",
    "from pyscf import gto,scf\n",
    "import copy\n",
    "import numpy as np\n",
    "import scipy\n",
    "from scipy.interpolate import interp1d\n",
    "from pyscf.data.elements import _symbol\n",
    "from pyscf.grad import RHF as g\n",
    "import inspect\n",
    "import sys\n",
    "sys.path.append(\"../Libs\")\n",
    "from FcMole import FcM,FcM_like\n",
    "from FDcoeffs import get_coeffs\n",
    "from ao_scf import ao_RHF\n",
    "from numpy.linalg import norm"
   ]
  },
  {
   "cell_type": "code",
   "execution_count": 2,
   "id": "a3f944e9",
   "metadata": {},
   "outputs": [],
   "source": [
    "from functools import reduce\n",
    "import ctypes\n",
    "\n",
    "import numpy\n",
    "from pyscf import lib\n",
    "from pyscf import gto\n",
    "from pyscf.lib import logger\n",
    "from pyscf.scf import _vhf\n",
    "from pyscf.scf import cphf\n",
    "\n",
    "# import _response_functions to load gen_response methods in SCF class\n",
    "from pyscf.scf import _response_functions  # noqa\n",
    "# import pyscf.grad.rhf to activate nuc_grad_method method\n",
    "from pyscf.grad import rhf  # noqa"
   ]
  },
  {
   "cell_type": "code",
   "execution_count": 3,
   "id": "f34da51a",
   "metadata": {},
   "outputs": [],
   "source": [
    "def make_dP(mf,mo1):\n",
    "    mol=mf.mol\n",
    "    nao=mol.nao\n",
    "    nocc=mf.mol.nelec[0]\n",
    "    C=mf.mo_coeff\n",
    "    dP=np.zeros_like(C)\n",
    "    dP[:,:]=2*np.einsum('ij,jk,lk->il',C,mo1,C[:,:nocc])\n",
    "    return dP+dP.T\n",
    "\n",
    "def make_U(mo1):\n",
    "    U=np.zeros((mo1.shape[0],mo1.shape[0]))\n",
    "    U[:,:mo1.shape[1]]=mo1\n",
    "    U=U-U.T\n",
    "    return U"
   ]
  },
  {
   "cell_type": "code",
   "execution_count": 4,
   "id": "e1783705",
   "metadata": {},
   "outputs": [
    {
     "name": "stdout",
     "output_type": "stream",
     "text": [
      "converged SCF energy = -112.661562568708\n",
      "converged SCF energy = -112.664890518986\n",
      "converged SCF energy = -112.65657514208\n"
     ]
    }
   ],
   "source": [
    "nn=gto.M(atom=\"C 0 0 0; O 0 0 2.05\",unit=\"Bohr\",basis=bse.get_basis(\"6-31g\",fmt=\"nwchem\",elements=[6,7,8]))\n",
    "mol=nn\n",
    "mf_nn=scf.RHF(nn)\n",
    "e_nn=mf_nn.scf()\n",
    "P_nn=mf_nn.make_rdm1()\n",
    "########\n",
    "nn_p=gto.M(atom=\"C 0 0 0; O 0 0 2.08\",unit=\"Bohr\",basis=bse.get_basis(\"6-31g\",fmt=\"nwchem\",elements=[6,7,8]))\n",
    "mf_nn_p=scf.RHF(nn_p)\n",
    "e_nn_p=mf_nn_p.scf()\n",
    "P_nn_p=mf_nn_p.make_rdm1()\n",
    "########\n",
    "nn_m=gto.M(atom=\"C 0 0 0; O 0 0 2.02\",unit=\"Bohr\",basis=bse.get_basis(\"6-31g\",fmt=\"nwchem\",elements=[6,7,8]))\n",
    "mf_nn_m=scf.RHF(nn_m)\n",
    "e_nn_m=mf_nn_m.scf()\n",
    "P_nn_m=mf_nn_m.make_rdm1()"
   ]
  },
  {
   "cell_type": "code",
   "execution_count": 5,
   "id": "955edf67",
   "metadata": {},
   "outputs": [],
   "source": [
    "import pyscf.hessian # needed to use hessian"
   ]
  },
  {
   "cell_type": "code",
   "execution_count": 6,
   "id": "981ba2da",
   "metadata": {},
   "outputs": [],
   "source": [
    "h_nn=mf_nn.Hessian()\n",
    "mf=mf_nn"
   ]
  },
  {
   "cell_type": "code",
   "execution_count": 7,
   "id": "f0184073",
   "metadata": {},
   "outputs": [
    {
     "data": {
      "text/plain": [
       "(array([[[[-6.71352251e-02, -8.20765439e-17,  3.29899130e-16],\n",
       "          [-6.62896055e-17, -6.71352251e-02, -3.88304719e-17],\n",
       "          [ 3.29899129e-16, -3.88304715e-17,  1.84234812e+00]],\n",
       " \n",
       "         [[ 6.71352251e-02,  6.62896055e-17, -3.29899129e-16],\n",
       "          [ 8.29439056e-17,  6.71352251e-02,  3.88304715e-17],\n",
       "          [-3.29899130e-16,  3.88304719e-17, -1.84234812e+00]]],\n",
       " \n",
       " \n",
       "        [[[ 6.71352251e-02,  8.29439056e-17, -3.29899130e-16],\n",
       "          [ 6.62896055e-17,  6.71352251e-02,  3.88304719e-17],\n",
       "          [-3.29899129e-16,  3.88304715e-17, -1.84234812e+00]],\n",
       " \n",
       "         [[-6.71352251e-02, -8.43090801e-17,  3.29899130e-16],\n",
       "          [-1.00698534e-16, -6.71352251e-02, -3.88304719e-17],\n",
       "          [ 3.29899129e-16, -3.88304715e-17,  1.84234812e+00]]]]),\n",
       " 1.8423481215606259)"
      ]
     },
     "execution_count": 7,
     "metadata": {},
     "output_type": "execute_result"
    }
   ],
   "source": [
    "h_nn.hess(),h_nn.hess()[1,1,2,2]"
   ]
  },
  {
   "cell_type": "code",
   "execution_count": 8,
   "id": "5f19c5c3",
   "metadata": {},
   "outputs": [
    {
     "data": {
      "text/plain": [
       "1.8438626120579709"
      ]
     },
     "execution_count": 8,
     "metadata": {},
     "output_type": "execute_result"
    }
   ],
   "source": [
    "(e_nn_p+e_nn_m-2*e_nn)/.03**2"
   ]
  },
  {
   "cell_type": "code",
   "execution_count": 9,
   "id": "1d204234",
   "metadata": {},
   "outputs": [],
   "source": [
    "dP_fd=(P_nn_p-P_nn_m)/.06\n",
    "dh1=(mf_nn_p.get_hcore()-mf_nn_m.get_hcore())/.06\n",
    "dS=(mf_nn_p.get_ovlp()-mf_nn_m.get_ovlp())/.06\n",
    "dG4d=(nn_p.intor('int2e')-nn_m.intor('int2e'))/.06"
   ]
  },
  {
   "cell_type": "code",
   "execution_count": 10,
   "id": "496a6741",
   "metadata": {},
   "outputs": [
    {
     "data": {
      "text/plain": [
       "True"
      ]
     },
     "execution_count": 10,
     "metadata": {},
     "output_type": "execute_result"
    }
   ],
   "source": [
    "np.allclose(h_nn.base.nuc_grad_method().hcore_generator(nn)(1)[2],dh1,atol=1e-2)"
   ]
  },
  {
   "cell_type": "code",
   "execution_count": 11,
   "id": "2191b712",
   "metadata": {},
   "outputs": [],
   "source": [
    "max_memory=4000\n",
    "verbose=None\n",
    "mo_energy = mf.mo_energy\n",
    "mo_occ = mf.mo_occ\n",
    "mo_coeff = mf.mo_coeff\n",
    "atmlst = range(mol.natm)\n",
    "h1ao=h_nn.make_h1(mf.mo_coeff,mf.mo_occ)"
   ]
  },
  {
   "cell_type": "code",
   "execution_count": 12,
   "id": "5f9eaae0",
   "metadata": {},
   "outputs": [
    {
     "data": {
      "text/plain": [
       "True"
      ]
     },
     "execution_count": 12,
     "metadata": {},
     "output_type": "execute_result"
    }
   ],
   "source": [
    "h_nn.make_h1(mf_nn.mo_coeff,mf_nn.mo_occ)[1][1].shape # list (natm,(xyz))\n",
    "# make_h1 is made by two part one is hcore_generator the other is \n",
    "hessobj=h_nn\n",
    "log = logger.new_logger(hessobj, 1)\n",
    "max_memory=4000\n",
    "mol = hessobj.mol\n",
    "\n",
    "\n",
    "nao, nmo = mo_coeff.shape\n",
    "mocc = mo_coeff[:,mo_occ>0]\n",
    "dm0 = numpy.dot(mocc, mocc.T) * 2\n",
    "hcore_deriv = hessobj.base.nuc_grad_method().hcore_generator(mol)\n",
    "\n",
    "aoslices = mol.aoslice_by_atom()\n",
    "for i0, ia in enumerate(atmlst):\n",
    "    shl0, shl1, p0, p1 = aoslices[ia]\n",
    "    shls_slice = (shl0, shl1) + (0, mol.nbas)*3\n",
    "    vj1, vj2, vk1, vk2 = pyscf.hessian.rhf._get_jk(mol, 'int2e_ip1', 3, 's2kl',\n",
    "                                 ['ji->s2kl', -dm0[:,p0:p1],  # vj1\n",
    "                                  'lk->s1ij', -dm0         ,  # vj2\n",
    "                                  'li->s1kj', -dm0[:,p0:p1],  # vk1\n",
    "                                  'jk->s1il', -dm0         ], # vk2\n",
    "                                 shls_slice=shls_slice)\n",
    "    vhf = vj1 - vk1*.5\n",
    "    vhf[:,p0:p1] += vj2 - vk2*.5\n",
    "    h1 = vhf + vhf.transpose(0,2,1)\n",
    "    h1 += hcore_deriv(ia)\n",
    "np.allclose(h1,h_nn.make_h1(mf_nn.mo_coeff,mf_nn.mo_occ)[1],atol=1e-3)"
   ]
  },
  {
   "cell_type": "code",
   "execution_count": 13,
   "id": "e372144e",
   "metadata": {},
   "outputs": [],
   "source": [
    "mo1, mo_e1 = hessobj.solve_mo1(mo_energy, mo_coeff, mo_occ, h1ao,None, atmlst, max_memory, log)\n",
    "#mo1_2, mo_e1 = pyscf.hessian.rhf.solve_mo1(mf,mo_energy, mo_coeff, mo_occ, h1ao,None, atmlst, max_memory, log)"
   ]
  },
  {
   "cell_type": "code",
   "execution_count": 14,
   "id": "3dcad347",
   "metadata": {},
   "outputs": [
    {
     "data": {
      "text/plain": [
       "((3, 18, 18), (3, 18, 18))"
      ]
     },
     "execution_count": 14,
     "metadata": {},
     "output_type": "execute_result"
    }
   ],
   "source": [
    "h1.shape,h_nn.make_h1(mf_nn.mo_coeff,mf_nn.mo_occ)[0].shape"
   ]
  },
  {
   "cell_type": "code",
   "execution_count": 15,
   "id": "75e0a4a5",
   "metadata": {},
   "outputs": [
    {
     "data": {
      "text/plain": [
       "(-14.582677594780849, 1.0839738791248992)"
      ]
     },
     "execution_count": 15,
     "metadata": {},
     "output_type": "execute_result"
    }
   ],
   "source": [
    "# This is a part of the gradient \n",
    "0.5*np.einsum(\"ij,kl,ijkl\",P_nn,P_nn,dG4d),-np.einsum(\"ik,jl,ijkl\",P_nn,P_nn,dG4d)/4"
   ]
  },
  {
   "cell_type": "code",
   "execution_count": 16,
   "id": "a9ded314",
   "metadata": {},
   "outputs": [
    {
     "data": {
      "text/plain": [
       "(array([[-2.25886440e+00, -4.43578149e-01, -3.81206685e-01,\n",
       "          3.51457422e-17, -6.36695127e-18, -7.78176444e-02,\n",
       "          1.97832336e-17, -5.39763374e-18,  1.85488843e-02,\n",
       "          1.43988242e-03, -6.04133963e-01, -1.00073423e+00,\n",
       "          1.15415231e-17, -1.80352601e-18,  1.21451190e+00,\n",
       "          1.50078457e-17, -3.52501592e-18,  1.26079028e+00],\n",
       "        [-4.43578149e-01, -1.65096804e+00, -1.20701346e+00,\n",
       "          3.32174633e-17,  1.04042450e-17, -4.13793733e-01,\n",
       "          1.47640427e-17, -3.64609977e-18, -1.55433137e-01,\n",
       "         -9.42380354e-01, -3.40364493e+00, -3.14300940e+00,\n",
       "         -1.58971964e-18, -1.40918597e-17,  2.76665668e+00,\n",
       "          1.93141851e-17, -1.87369041e-17,  1.80546105e+00],\n",
       "        [-3.81206685e-01, -1.20701346e+00, -1.08570768e+00,\n",
       "          1.78405125e-17,  1.49939675e-17, -2.92775945e-01,\n",
       "          3.81978934e-18, -2.71295331e-18, -4.79902070e-02,\n",
       "         -5.70209421e-01, -2.11496536e+00, -2.41150261e+00,\n",
       "          1.21902860e-18, -1.46207796e-17,  5.86998790e-01,\n",
       "          1.57393684e-17, -1.08249897e-17,  3.33466215e-01],\n",
       "        [ 3.51457422e-17,  3.32174633e-17,  1.78405125e-17,\n",
       "         -1.55425149e+00, -1.19641635e-17, -2.03242000e-18,\n",
       "         -6.41556286e-01, -1.27225196e-17, -5.28975895e-17,\n",
       "         -4.89534205e-17, -4.47579834e-18, -2.53795582e-17,\n",
       "         -2.07527592e+00,  3.30916619e-19,  3.00899455e-18,\n",
       "         -2.25160878e+00, -1.69240197e-17,  1.52070436e-17],\n",
       "        [-6.36695127e-18,  1.04042450e-17,  1.49939675e-17,\n",
       "         -1.19641635e-17, -1.55425149e+00,  1.70279332e-17,\n",
       "         -1.49934061e-17, -6.41556286e-01,  1.02105563e-17,\n",
       "         -4.90501262e-18,  9.57289828e-18, -1.52930934e-18,\n",
       "          3.22416575e-18, -2.07527592e+00,  2.28320030e-18,\n",
       "         -1.08189876e-17, -2.25160878e+00,  3.28237105e-18],\n",
       "        [-7.78176444e-02, -4.13793733e-01, -2.92775945e-01,\n",
       "         -2.03242000e-18,  1.70279332e-17, -1.81825218e+00,\n",
       "         -1.23398643e-17,  8.81582990e-20, -8.07402327e-01,\n",
       "         -1.49020899e+00, -4.36888199e+00, -1.79092811e+00,\n",
       "         -1.55900519e-17, -1.95842493e-18,  2.36446292e+00,\n",
       "          6.24557279e-18, -1.32054470e-17, -2.09479375e+00],\n",
       "        [ 1.97832336e-17,  1.47640427e-17,  3.81978934e-18,\n",
       "         -6.41556286e-01, -1.49934061e-17, -1.23398643e-17,\n",
       "         -6.94846282e-01, -1.35506234e-17, -3.47906248e-17,\n",
       "         -2.75385134e-17, -2.51693750e-17, -2.51418571e-17,\n",
       "         -1.03016735e+00, -1.01027209e-17,  1.91845061e-17,\n",
       "         -1.86242304e+00, -1.98134856e-17,  2.57373025e-18],\n",
       "        [-5.39763374e-18, -3.64609977e-18, -2.71295331e-18,\n",
       "         -1.27225196e-17, -6.41556286e-01,  8.81582990e-20,\n",
       "         -1.35506234e-17, -6.94846282e-01, -1.06855737e-18,\n",
       "         -7.99050376e-20,  6.28086560e-18,  4.38620071e-19,\n",
       "         -2.34794061e-19, -1.03016735e+00,  7.27696742e-19,\n",
       "         -7.54598747e-18, -1.86242304e+00,  3.57940232e-18],\n",
       "        [ 1.85488843e-02, -1.55433137e-01, -4.79902070e-02,\n",
       "         -5.28975895e-17,  1.02105563e-17, -8.07402327e-01,\n",
       "         -3.47906248e-17, -1.06855737e-18, -6.12044378e-01,\n",
       "         -3.83009571e-01, -1.00084498e+00, -3.21995378e-01,\n",
       "         -3.03406503e-17, -5.66396287e-18, -1.32893236e+00,\n",
       "         -2.12032146e-17, -5.56902734e-18, -3.31828852e+00],\n",
       "        [ 1.43988242e-03, -9.42380354e-01, -5.70209421e-01,\n",
       "         -4.89534205e-17, -4.90501262e-18, -1.49020899e+00,\n",
       "         -2.75385134e-17, -7.99050376e-20, -3.83009571e-01,\n",
       "         -1.74954834e+00, -3.73506348e-01, -2.65413901e-01,\n",
       "         -8.02087528e-17,  3.84394627e-18,  3.27798246e-02,\n",
       "         -6.60617280e-17,  6.07848479e-18, -2.20876229e-02],\n",
       "        [-6.04133963e-01, -3.40364493e+00, -2.11496536e+00,\n",
       "         -4.47579834e-18,  9.57289828e-18, -4.36888199e+00,\n",
       "         -2.51693750e-17,  6.28086560e-18, -1.00084498e+00,\n",
       "         -3.73506348e-01, -1.40340778e+00, -9.98360519e-01,\n",
       "         -5.42263560e-17,  4.04159498e-17,  2.37597227e-01,\n",
       "         -2.98232260e-17,  4.19026425e-17,  1.04893297e-01],\n",
       "        [-1.00073423e+00, -3.14300940e+00, -2.41150261e+00,\n",
       "         -2.53795582e-17, -1.52930934e-18, -1.79092811e+00,\n",
       "         -2.51418571e-17,  4.38620071e-19, -3.21995378e-01,\n",
       "         -2.65413901e-01, -9.98360519e-01, -1.02954494e+00,\n",
       "         -3.34025447e-17,  2.69438358e-17,  2.08681975e-01,\n",
       "         -1.28473521e-17,  1.66634578e-17,  1.32123821e-01],\n",
       "        [ 1.15415231e-17, -1.58971964e-18,  1.21902860e-18,\n",
       "         -2.07527592e+00,  3.22416575e-18, -1.55900519e-17,\n",
       "         -1.03016735e+00, -2.34794061e-19, -3.03406503e-17,\n",
       "         -8.02087528e-17, -5.42263560e-17, -3.34025447e-17,\n",
       "         -1.37931908e+00,  5.58199448e-19,  3.17721389e-17,\n",
       "         -5.34506321e-01, -9.67430468e-18, -1.83740890e-17],\n",
       "        [-1.80352601e-18, -1.40918597e-17, -1.46207796e-17,\n",
       "          3.30916619e-19, -2.07527592e+00, -1.95842493e-18,\n",
       "         -1.01027209e-17, -1.03016735e+00, -5.66396287e-18,\n",
       "          3.84394627e-18,  4.04159498e-17,  2.69438358e-17,\n",
       "          5.58199448e-19, -1.37931908e+00,  5.60315349e-18,\n",
       "         -6.11600068e-19, -5.34506321e-01,  2.79880469e-17],\n",
       "        [ 1.21451190e+00,  2.76665668e+00,  5.86998790e-01,\n",
       "          3.00899455e-18,  2.28320030e-18,  2.36446292e+00,\n",
       "          1.91845061e-17,  7.27696742e-19, -1.32893236e+00,\n",
       "          3.27798246e-02,  2.37597227e-01,  2.08681975e-01,\n",
       "          3.17721389e-17,  5.60315349e-18, -1.48771756e+00,\n",
       "          9.15534017e-18,  2.10114705e-17, -6.96969833e-01],\n",
       "        [ 1.50078457e-17,  1.93141851e-17,  1.57393684e-17,\n",
       "         -2.25160878e+00, -1.08189876e-17,  6.24557279e-18,\n",
       "         -1.86242304e+00, -7.54598747e-18, -2.12032146e-17,\n",
       "         -6.60617280e-17, -2.98232260e-17, -1.28473521e-17,\n",
       "         -5.34506321e-01, -6.11600068e-19,  9.15534017e-18,\n",
       "         -7.31711759e-01, -1.09117594e-17, -2.06097098e-17],\n",
       "        [-3.52501592e-18, -1.87369041e-17, -1.08249897e-17,\n",
       "         -1.69240197e-17, -2.25160878e+00, -1.32054470e-17,\n",
       "         -1.98134856e-17, -1.86242304e+00, -5.56902734e-18,\n",
       "          6.07848479e-18,  4.19026425e-17,  1.66634578e-17,\n",
       "         -9.67430468e-18, -5.34506321e-01,  2.10114705e-17,\n",
       "         -1.09117594e-17, -7.31711759e-01,  3.15986574e-17],\n",
       "        [ 1.26079028e+00,  1.80546105e+00,  3.33466215e-01,\n",
       "          1.52070436e-17,  3.28237105e-18, -2.09479375e+00,\n",
       "          2.57373025e-18,  3.57940232e-18, -3.31828852e+00,\n",
       "         -2.20876229e-02,  1.04893297e-01,  1.32123821e-01,\n",
       "         -1.83740890e-17,  2.79880469e-17, -6.96969833e-01,\n",
       "         -2.06097098e-17,  3.15986574e-17, -8.10518293e-01]]),\n",
       " array([[-2.25887640e+00, -4.43527228e-01, -3.81180233e-01,\n",
       "          3.51559009e-17, -6.37428316e-18, -7.77825638e-02,\n",
       "          1.97850598e-17, -5.40267130e-18,  1.85518307e-02,\n",
       "          1.42966703e-03, -6.04945211e-01, -1.00075400e+00,\n",
       "          1.15485809e-17, -1.80985940e-18,  1.21551884e+00,\n",
       "          1.50129250e-17, -3.53206874e-18,  1.26042867e+00],\n",
       "        [-4.43527228e-01, -1.65079753e+00, -1.20684978e+00,\n",
       "          3.31979126e-17,  1.04022284e-17, -4.13722571e-01,\n",
       "          1.47559671e-17, -3.64512311e-18, -1.55356046e-01,\n",
       "         -9.42628657e-01, -3.40354303e+00, -3.14271621e+00,\n",
       "         -1.58122631e-18, -1.40973745e-17,  2.76558437e+00,\n",
       "          1.93097415e-17, -1.87336214e-17,  1.80470509e+00],\n",
       "        [-3.81180233e-01, -1.20684978e+00, -1.08553067e+00,\n",
       "          1.78341129e-17,  1.49879506e-17, -2.92673939e-01,\n",
       "          3.81824674e-18, -2.71458412e-18, -4.79119337e-02,\n",
       "         -5.70180694e-01, -2.11479939e+00, -2.41123861e+00,\n",
       "          1.22354306e-18, -1.46219801e-17,  5.86822986e-01,\n",
       "          1.57372625e-17, -1.08247299e-17,  3.33188056e-01],\n",
       "        [ 3.51559009e-17,  3.31979126e-17,  1.78341129e-17,\n",
       "         -1.55407946e+00, -1.19877369e-17, -2.06813099e-18,\n",
       "         -6.41452522e-01, -1.27644374e-17, -5.29047978e-17,\n",
       "         -4.89662371e-17, -4.49513790e-18, -2.53852180e-17,\n",
       "         -2.07578330e+00,  3.07008143e-19,  3.01220078e-18,\n",
       "         -2.25142491e+00, -1.69722082e-17,  1.51899315e-17],\n",
       "        [-6.37428316e-18,  1.04022284e-17,  1.49879506e-17,\n",
       "         -1.18978731e-17, -1.55407946e+00,  1.70307924e-17,\n",
       "         -1.49667829e-17, -6.41452522e-01,  1.02058864e-17,\n",
       "         -4.90266376e-18,  9.57338294e-18, -1.53500734e-18,\n",
       "          3.24739498e-18, -2.07578330e+00,  2.28927986e-18,\n",
       "         -1.07907588e-17, -2.25142491e+00,  3.28854532e-18],\n",
       "        [-7.77825638e-02, -4.13722571e-01, -2.92673939e-01,\n",
       "         -2.06813099e-18,  1.70307924e-17, -1.81814840e+00,\n",
       "         -1.23522943e-17,  9.49537843e-20, -8.07262285e-01,\n",
       "         -1.49039567e+00, -4.36801270e+00, -1.79032579e+00,\n",
       "         -1.55841735e-17, -1.95297980e-18,  2.36253172e+00,\n",
       "          6.23295059e-18, -1.31941095e-17, -2.09511007e+00],\n",
       "        [ 1.97850598e-17,  1.47559671e-17,  3.81824674e-18,\n",
       "         -6.41452522e-01, -1.50332065e-17, -1.23522943e-17,\n",
       "         -6.94721790e-01, -1.35885530e-17, -3.47898366e-17,\n",
       "         -2.75427984e-17, -2.51700391e-17, -2.51381335e-17,\n",
       "         -1.03007453e+00, -1.01369804e-17,  1.91714921e-17,\n",
       "         -1.86221842e+00, -1.98681507e-17,  2.56422200e-18],\n",
       "        [-5.40267130e-18, -3.64512311e-18, -2.71458412e-18,\n",
       "         -1.26892892e-17, -6.41452522e-01,  9.49537843e-20,\n",
       "         -1.35357509e-17, -6.94721790e-01, -1.06784218e-18,\n",
       "         -7.88296706e-20,  6.27925203e-18,  4.35535807e-19,\n",
       "         -2.19733994e-19, -1.03007453e+00,  7.33349445e-19,\n",
       "         -7.52713202e-18, -1.86221842e+00,  3.58146687e-18],\n",
       "        [ 1.85518307e-02, -1.55356046e-01, -4.79119337e-02,\n",
       "         -5.29047978e-17,  1.02058864e-17, -8.07262285e-01,\n",
       "         -3.47898366e-17, -1.06784218e-18, -6.11910366e-01,\n",
       "         -3.82871488e-01, -1.00038208e+00, -3.21672340e-01,\n",
       "         -3.03436403e-17, -5.65609820e-18, -1.32894667e+00,\n",
       "         -2.12078895e-17, -5.56672913e-18, -3.31798227e+00],\n",
       "        [ 1.42966703e-03, -9.42628657e-01, -5.70180694e-01,\n",
       "         -4.89662371e-17, -4.90266376e-18, -1.49039567e+00,\n",
       "         -2.75427984e-17, -7.88296706e-20, -3.82871488e-01,\n",
       "         -1.74945215e+00, -3.73466939e-01, -2.65389819e-01,\n",
       "         -8.02253268e-17,  3.84318331e-18,  3.27750464e-02,\n",
       "         -6.60631589e-17,  6.07808729e-18, -2.20842124e-02],\n",
       "        [-6.04945211e-01, -3.40354303e+00, -2.11479939e+00,\n",
       "         -4.49513790e-18,  9.57338294e-18, -4.36801270e+00,\n",
       "         -2.51700391e-17,  6.27925203e-18, -1.00038208e+00,\n",
       "         -3.73466939e-01, -1.40327899e+00, -9.98242944e-01,\n",
       "         -5.42093415e-17,  4.04095575e-17,  2.37633402e-01,\n",
       "         -2.98171060e-17,  4.18941717e-17,  1.04879120e-01],\n",
       "        [-1.00075400e+00, -3.14271621e+00, -2.41123861e+00,\n",
       "         -2.53852180e-17, -1.53500734e-18, -1.79032579e+00,\n",
       "         -2.51381335e-17,  4.35535807e-19, -3.21672340e-01,\n",
       "         -2.65389819e-01, -9.98242944e-01, -1.02936038e+00,\n",
       "         -3.33932328e-17,  2.69373745e-17,  2.08665230e-01,\n",
       "         -1.28451231e-17,  1.66581485e-17,  1.32039966e-01],\n",
       "        [ 1.15485809e-17, -1.58122631e-18,  1.22354306e-18,\n",
       "         -2.07578330e+00,  3.26731977e-18, -1.55841735e-17,\n",
       "         -1.03007453e+00, -2.34557574e-19, -3.03436403e-17,\n",
       "         -8.02253268e-17, -5.42093415e-17, -3.33932328e-17,\n",
       "         -1.37916200e+00,  5.89955741e-19,  3.17309409e-17,\n",
       "         -5.34420216e-01, -9.66638414e-18, -1.83843600e-17],\n",
       "        [-1.80985940e-18, -1.40973745e-17, -1.46219801e-17,\n",
       "          4.05351663e-19, -2.07578330e+00, -1.95297980e-18,\n",
       "         -1.00758854e-17, -1.03007453e+00, -5.65609820e-18,\n",
       "          3.84318331e-18,  4.04095575e-17,  2.69373745e-17,\n",
       "          6.31073491e-19, -1.37916200e+00,  5.62480026e-18,\n",
       "         -5.44920735e-19, -5.34420216e-01,  2.79971413e-17],\n",
       "        [ 1.21551884e+00,  2.76558437e+00,  5.86822986e-01,\n",
       "          3.01220078e-18,  2.28927986e-18,  2.36253172e+00,\n",
       "          1.91714921e-17,  7.33349445e-19, -1.32894667e+00,\n",
       "          3.27750464e-02,  2.37633402e-01,  2.08665230e-01,\n",
       "          3.17309409e-17,  5.62480026e-18, -1.48771319e+00,\n",
       "          9.13466905e-18,  2.10206016e-17, -6.96890652e-01],\n",
       "        [ 1.50129250e-17,  1.93097415e-17,  1.57372625e-17,\n",
       "         -2.25142491e+00, -1.08309048e-17,  6.23295059e-18,\n",
       "         -1.86221842e+00, -7.56129240e-18, -2.12078895e-17,\n",
       "         -6.60631589e-17, -2.98171060e-17, -1.28451231e-17,\n",
       "         -5.34420216e-01, -6.43671967e-19,  9.13466905e-18,\n",
       "         -7.31566418e-01, -1.09604507e-17, -2.06130000e-17],\n",
       "        [-3.53206874e-18, -1.87336214e-17, -1.08247299e-17,\n",
       "         -1.68910476e-17, -2.25142491e+00, -1.31941095e-17,\n",
       "         -1.97992181e-17, -1.86221842e+00, -5.56672913e-18,\n",
       "          6.07808729e-18,  4.18941717e-17,  1.66581485e-17,\n",
       "         -9.64271732e-18, -5.34420216e-01,  2.10206016e-17,\n",
       "         -1.08804510e-17, -7.31566418e-01,  3.15974520e-17],\n",
       "        [ 1.26042867e+00,  1.80470509e+00,  3.33188056e-01,\n",
       "          1.51899315e-17,  3.28854532e-18, -2.09511007e+00,\n",
       "          2.56422200e-18,  3.58146687e-18, -3.31798227e+00,\n",
       "         -2.20842124e-02,  1.04879120e-01,  1.32039966e-01,\n",
       "         -1.83843600e-17,  2.79971413e-17, -6.96890652e-01,\n",
       "         -2.06130000e-17,  3.15974520e-17, -8.10317009e-01]]))"
      ]
     },
     "execution_count": 16,
     "metadata": {},
     "output_type": "execute_result"
    }
   ],
   "source": [
    "(vhf + vhf.transpose(0,2,1))[2],np.einsum(\"kl,ijkl->ij\",P_nn,dG4d)-np.einsum(\"jl,ijkl->ik\",P_nn,dG4d)/2"
   ]
  },
  {
   "cell_type": "code",
   "execution_count": 17,
   "id": "826a430b",
   "metadata": {},
   "outputs": [
    {
     "data": {
      "text/plain": [
       "0.004542824970956296"
      ]
     },
     "execution_count": 17,
     "metadata": {},
     "output_type": "execute_result"
    }
   ],
   "source": [
    "norm((vhf + vhf.transpose(0,2,1))[2]-(np.einsum(\"kl,ijkl->ij\",P_nn,dG4d)-np.einsum(\"jl,ijkl->ik\",P_nn,dG4d)/2))"
   ]
  },
  {
   "cell_type": "code",
   "execution_count": 18,
   "id": "279efc46",
   "metadata": {},
   "outputs": [
    {
     "data": {
      "text/plain": [
       "0.002295777059786632"
      ]
     },
     "execution_count": 18,
     "metadata": {},
     "output_type": "execute_result"
    }
   ],
   "source": [
    "# qui h1ao e' la somma del contributo di h monoelectr + V eff (da operatori bielettronici)\n",
    "norm(h1[2]-(dh1+np.einsum(\"kl,ijkl->ij\",P_nn,dG4d)-np.einsum(\"jl,ijkl->ik\",P_nn,dG4d)/2))"
   ]
  },
  {
   "cell_type": "code",
   "execution_count": 19,
   "id": "78d31f36",
   "metadata": {},
   "outputs": [
    {
     "data": {
      "text/plain": [
       "(3, 18, 7)"
      ]
     },
     "execution_count": 19,
     "metadata": {},
     "output_type": "execute_result"
    }
   ],
   "source": [
    "mo1[0].shape"
   ]
  },
  {
   "cell_type": "code",
   "execution_count": 20,
   "id": "3135df9e",
   "metadata": {},
   "outputs": [
    {
     "data": {
      "text/plain": [
       "array([[-6.15463406e-02,  7.61909067e-02,  2.61671086e-01,\n",
       "         4.31705130e-02, -3.14735156e-02, -1.31428982e-01,\n",
       "        -8.72286086e-02,  4.56533165e-02,  1.66612656e-02,\n",
       "         3.78076173e-02, -2.59853468e-02, -1.31082650e-01,\n",
       "        -6.90073378e-02,  6.16717785e-02,  6.61553464e-02,\n",
       "         1.96299784e-02, -7.08313528e-02,  6.29344758e-02],\n",
       "       [ 7.61909067e-02, -6.29240862e-03,  1.29652283e-01,\n",
       "        -1.55214619e-02,  2.71267615e-01,  7.01619302e-02,\n",
       "         1.06595491e-01, -2.21340002e-01,  1.47615093e-01,\n",
       "         7.46162762e-03,  1.54612332e-01, -4.01198739e-01,\n",
       "         1.31121108e-01,  3.51584583e-02, -5.69233697e-02,\n",
       "         3.03217806e-02,  1.16951230e-01,  1.11921921e-01],\n",
       "       [ 2.61671086e-01,  1.29652283e-01, -1.01370991e+00,\n",
       "         1.19322194e-01, -4.20814050e-02,  6.83615592e-01,\n",
       "        -4.74559177e-02,  1.23274774e-01, -2.74614619e-01,\n",
       "        -1.43869775e-01, -1.50009186e-04,  1.14528308e+00,\n",
       "         9.76183581e-02,  5.38504968e-02, -6.70683401e-01,\n",
       "         6.85712379e-02,  2.10296023e-02, -5.91804132e-01],\n",
       "       [ 4.31705130e-02, -1.55214619e-02,  1.19322194e-01,\n",
       "         1.41021426e-02,  1.66404511e-02, -1.76738858e-01,\n",
       "        -3.16427773e-02, -1.53513630e-02, -1.10262686e-02,\n",
       "         1.84362142e-02, -3.77667394e-02,  6.80560655e-03,\n",
       "        -4.31949142e-02, -9.43252884e-03,  1.86222553e-01,\n",
       "         8.38101769e-02,  5.86649243e-02,  7.48098072e-02],\n",
       "       [-3.14735156e-02,  2.71267615e-01, -4.20814050e-02,\n",
       "         1.66404511e-02,  2.77152492e-03,  3.36795380e-01,\n",
       "         5.56735017e-02, -2.32881937e-05, -3.50382730e-02,\n",
       "        -3.97075117e-02,  1.25340251e-01, -4.66512089e-02,\n",
       "        -6.47620021e-02,  6.89689335e-03, -3.47020365e-01,\n",
       "        -6.58684188e-02,  5.02972710e-03, -1.82764241e-01],\n",
       "       [-1.31428982e-01,  7.01619302e-02,  6.83615592e-01,\n",
       "        -1.76738858e-01,  3.36795380e-01,  8.31667320e-02,\n",
       "         1.48331106e-01, -3.40255281e-01,  4.57671134e-01,\n",
       "         1.23019953e-02,  5.92111302e-01, -1.32300218e+00,\n",
       "        -3.06728620e-02,  1.74769030e-02, -7.46502637e-02,\n",
       "        -8.46058823e-02,  1.26436221e-01,  4.52738015e-01],\n",
       "       [-8.72286086e-02,  1.06595491e-01, -4.74559177e-02,\n",
       "        -3.16427773e-02,  5.56735017e-02,  1.48331106e-01,\n",
       "        -2.32900720e-02,  1.18426351e-02,  1.92478462e-04,\n",
       "        -5.02658830e-03, -1.03456047e-02, -8.23399571e-02,\n",
       "        -8.12105096e-02,  8.78440403e-02, -2.41798671e-01,\n",
       "        -1.55265276e-02,  8.06273892e-02, -1.00588790e-01],\n",
       "       [ 4.56533165e-02, -2.21340002e-01,  1.23274774e-01,\n",
       "        -1.53513630e-02, -2.32881937e-05, -3.40255281e-01,\n",
       "         1.18426351e-02, -3.40017057e-04,  7.76904483e-03,\n",
       "         8.71704088e-02, -1.92841226e-01, -6.72368725e-02,\n",
       "        -6.04840099e-02,  5.89220982e-04,  4.83945109e-01,\n",
       "        -4.80212670e-02,  5.43319561e-04,  1.62188528e-01],\n",
       "       [ 1.66612656e-02,  1.47615093e-01, -2.74614619e-01,\n",
       "        -1.10262686e-02, -3.50382730e-02,  4.57671134e-01,\n",
       "         1.92478462e-04,  7.76904483e-03,  3.03657035e-02,\n",
       "        -9.33007226e-02,  3.13354831e-01,  1.25146678e-01,\n",
       "        -1.48763482e-02, -3.35536614e-02, -4.54303842e-01,\n",
       "        -8.99961510e-03, -2.29271427e-02, -1.52526574e-01],\n",
       "       [ 3.78076173e-02,  7.46162762e-03, -1.43869775e-01,\n",
       "         1.84362142e-02, -3.97075117e-02,  1.23019953e-02,\n",
       "        -5.02658830e-03,  8.71704088e-02, -9.33007226e-02,\n",
       "        -2.50316589e-02, -9.82282319e-02,  2.66602019e-01,\n",
       "         1.59536625e-02,  4.12583458e-02, -2.26624571e-02,\n",
       "         2.17749406e-02,  5.59927016e-03, -1.02725268e-01],\n",
       "       [-2.59853468e-02,  1.54612332e-01, -1.50009186e-04,\n",
       "        -3.77667394e-02,  1.25340251e-01,  5.92111302e-01,\n",
       "        -1.03456047e-02, -1.92841226e-01,  3.13354831e-01,\n",
       "        -9.82282319e-02,  6.37225337e-01, -5.89419481e-01,\n",
       "        -7.21029682e-02,  1.97407843e-02, -5.60640287e-01,\n",
       "        -1.42990818e-04, -5.93637709e-02,  6.22470019e-02],\n",
       "       [-1.31082650e-01, -4.01198739e-01,  1.14528308e+00,\n",
       "         6.80560655e-03, -4.66512089e-02, -1.32300218e+00,\n",
       "        -8.23399571e-02, -6.72368725e-02,  1.25146678e-01,\n",
       "         2.66602019e-01, -5.89419481e-01, -8.88106529e-01,\n",
       "        -1.14691108e-01, -2.04135457e-02,  1.35153072e+00,\n",
       "         1.29309679e-02, -1.55248349e-01,  6.81703539e-01],\n",
       "       [-6.90073378e-02,  1.31121108e-01,  9.76183581e-02,\n",
       "        -4.31949142e-02, -6.47620021e-02, -3.06728620e-02,\n",
       "        -8.12105096e-02, -6.04840099e-02, -1.48763482e-02,\n",
       "         1.59536625e-02, -7.21029682e-02, -1.14691108e-01,\n",
       "        -2.04217635e-01, -1.90424169e-01, -9.27387137e-02,\n",
       "         6.92271417e-02, -8.32532064e-03, -4.24772728e-02],\n",
       "       [ 6.16717785e-02,  3.51584583e-02,  5.38504968e-02,\n",
       "        -9.43252884e-03,  6.89689335e-03,  1.74769030e-02,\n",
       "         8.78440403e-02,  5.89220982e-04, -3.35536614e-02,\n",
       "         4.12583458e-02,  1.97407843e-02, -2.04135457e-02,\n",
       "        -1.90424169e-01,  1.59317115e-02,  2.40387578e-01,\n",
       "        -1.68180966e-01,  1.14024609e-02,  3.79627152e-04],\n",
       "       [ 6.61553464e-02, -5.69233697e-02, -6.70683401e-01,\n",
       "         1.86222553e-01, -3.47020365e-01, -7.46502637e-02,\n",
       "        -2.41798671e-01,  4.83945109e-01, -4.54303842e-01,\n",
       "        -2.26624571e-02, -5.60640287e-01,  1.35153072e+00,\n",
       "        -9.27387137e-02,  2.40387578e-01,  7.15562992e-02,\n",
       "         7.24551908e-02, -6.77052113e-02, -4.49552469e-01],\n",
       "       [ 1.96299784e-02,  3.03217806e-02,  6.85712379e-02,\n",
       "         8.38101769e-02, -6.58684188e-02, -8.46058823e-02,\n",
       "        -1.55265276e-02, -4.80212670e-02, -8.99961510e-03,\n",
       "         2.17749406e-02, -1.42990818e-04,  1.29309679e-02,\n",
       "         6.92271417e-02, -1.68180966e-01,  7.24551908e-02,\n",
       "         1.82405462e-01, -3.31620051e-02,  2.95489315e-02],\n",
       "       [-7.08313528e-02,  1.16951230e-01,  2.10296023e-02,\n",
       "         5.86649243e-02,  5.02972710e-03,  1.26436221e-01,\n",
       "         8.06273892e-02,  5.43319561e-04, -2.29271427e-02,\n",
       "         5.59927016e-03, -5.93637709e-02, -1.55248349e-01,\n",
       "        -8.32532064e-03,  1.14024609e-02, -6.77052113e-02,\n",
       "        -3.31620051e-02,  8.11996329e-03, -9.75717424e-02],\n",
       "       [ 6.29344758e-02,  1.11921921e-01, -5.91804132e-01,\n",
       "         7.48098072e-02, -1.82764241e-01,  4.52738015e-01,\n",
       "        -1.00588790e-01,  1.62188528e-01, -1.52526574e-01,\n",
       "        -1.02725268e-01,  6.22470019e-02,  6.81703539e-01,\n",
       "        -4.24772728e-02,  3.79627152e-04, -4.49552469e-01,\n",
       "         2.95489315e-02, -9.75717424e-02, -3.56102111e-01]])"
      ]
     },
     "execution_count": 20,
     "metadata": {},
     "output_type": "execute_result"
    }
   ],
   "source": [
    "make_dP(mf,mo1[1][2])"
   ]
  },
  {
   "cell_type": "code",
   "execution_count": 21,
   "id": "8c93db00",
   "metadata": {},
   "outputs": [],
   "source": [
    "mocc = mo_coeff[:,mo_occ>0]\n",
    "dm1 = numpy.einsum('pi,qi->pq', mo1[1][2], mocc)*4"
   ]
  },
  {
   "cell_type": "code",
   "execution_count": 22,
   "id": "407fd592",
   "metadata": {},
   "outputs": [],
   "source": [
    "dP_fd=(P_nn_p-P_nn_m)/.06\n",
    "#norm(dP_fd),plt.matshow(dP_fd)"
   ]
  },
  {
   "cell_type": "code",
   "execution_count": 23,
   "id": "fff04f73",
   "metadata": {},
   "outputs": [
    {
     "data": {
      "text/plain": [
       "(2.130224895242002, 1.4845730879288441, 1.5273510945176367)"
      ]
     },
     "execution_count": 23,
     "metadata": {},
     "output_type": "execute_result"
    },
    {
     "data": {
      "image/png": "[encoded data removed]",
      "text/plain": [
       "<Figure size 288x288 with 1 Axes>"
      ]
     },
     "metadata": {
      "needs_background": "light"
     },
     "output_type": "display_data"
    },
    {
     "data": {
      "image/png": "[encoded data removed]",
      "text/plain": [
       "<Figure size 288x288 with 1 Axes>"
      ]
     },
     "metadata": {
      "needs_background": "light"
     },
     "output_type": "display_data"
    }
   ],
   "source": [
    "plt.matshow(dm1),plt.matshow(dP_fd)\n",
    "norm(dm1),norm(dP_fd),norm(dm1-dP_fd)"
   ]
  },
  {
   "cell_type": "code",
   "execution_count": 24,
   "id": "2ffa30e4",
   "metadata": {},
   "outputs": [],
   "source": [
    "h1ao=h1[2]"
   ]
  },
  {
   "cell_type": "code",
   "execution_count": 25,
   "id": "dffc351e",
   "metadata": {},
   "outputs": [
    {
     "data": {
      "text/plain": [
       "(0.5881628203830618, 0.5884961311888581)"
      ]
     },
     "execution_count": 25,
     "metadata": {},
     "output_type": "execute_result"
    }
   ],
   "source": [
    "numpy.einsum('pq,pq', h1ao, dm1),numpy.einsum('pq,pq', h1ao, dP_fd)"
   ]
  },
  {
   "cell_type": "markdown",
   "id": "f42406fb",
   "metadata": {},
   "source": [
    "# Comments:\n",
    "Unfortunatly the density deriv. analytical differs from the one by finite difference, though they give the same integration results with h1ao, that means that they can be used to evalaute derivatives, and probabily the density matrix is degenerate (which is possible given the high symmetry of the system) :(\n"
   ]
  },
  {
   "cell_type": "code",
   "execution_count": 37,
   "id": "14eb82d4",
   "metadata": {},
   "outputs": [],
   "source": [
    "def gen_vind(mf, mo_coeff, mo_occ):\n",
    "    nao, nmo = mo_coeff.shape\n",
    "    mocc = mo_coeff[:,mo_occ>0]\n",
    "    nocc = mocc.shape[1]\n",
    "    vresp = mf.gen_response(mo_coeff, mo_occ, hermi=1)\n",
    "    def fx(mo1):\n",
    "        mo1 = mo1.reshape(-1,nmo,nocc)\n",
    "        nset = len(mo1)\n",
    "        dm1 = numpy.empty((nset,nao,nao))\n",
    "        for i, x in enumerate(mo1):\n",
    "            dm = reduce(numpy.dot, (mo_coeff, x*2, mocc.T)) # *2 for double occupancy\n",
    "            dm1[i] = dm + dm.T\n",
    "        v1 = vresp(dm1)\n",
    "        v1vo = numpy.empty_like(mo1)\n",
    "        for i, x in enumerate(v1):\n",
    "            v1vo[i] = reduce(numpy.dot, (mo_coeff.T, x, mocc))\n",
    "        return v1vo\n",
    "    return fx\n",
    "fx = gen_vind(mf, mo_coeff, mo_occ)"
   ]
  },
  {
   "cell_type": "code",
   "execution_count": 27,
   "id": "4a9c4f98",
   "metadata": {},
   "outputs": [],
   "source": [
    "def _ao2mo(mat):\n",
    "        return numpy.asarray([reduce(numpy.dot, (mo_coeff.T, x, mocc)) for x in mat])"
   ]
  },
  {
   "cell_type": "code",
   "execution_count": 72,
   "id": "da4987e3",
   "metadata": {},
   "outputs": [],
   "source": [
    "def solve_mo1(mf, mo_energy, mo_coeff, mo_occ, h1ao_or_chkfile,\n",
    "              fx=None, atmlst=None, max_memory=4000, verbose=None):\n",
    "    '''Solve the first order equation\n",
    "\n",
    "    Kwargs:\n",
    "        fx : function(dm_mo) => v1_mo\n",
    "            A function to generate the induced potential.\n",
    "            See also the function gen_vind.\n",
    "    '''\n",
    "    mol = mf.mol\n",
    "    atmlst = range(mol.natm)\n",
    "\n",
    "    nao, nmo = mo_coeff.shape\n",
    "    mocc = mo_coeff[:,mo_occ>0]\n",
    "    nocc = mocc.shape[1]\n",
    "\n",
    "    fx = gen_vind(mf, mo_coeff, mo_occ)\n",
    "    s1a = -mol.intor('int1e_ipovlp', comp=3)\n",
    "\n",
    "    def _ao2mo(mat):\n",
    "        return numpy.asarray([reduce(numpy.dot, (mo_coeff.T, x, mocc)) for x in mat])\n",
    "\n",
    "    mem_now = lib.current_memory()[0]\n",
    "    max_memory = max(2000, max_memory*.9-mem_now)\n",
    "    blksize = max(2, int(max_memory*1e6/8 / (nmo*nocc*3*6)))\n",
    "    mo1s = [None] * mol.natm    # s = solution\n",
    "    e1s = [None] * mol.natm     # s = solution\n",
    "    aoslices = mol.aoslice_by_atom()\n",
    "    for ia0, ia1 in lib.prange(0, len(atmlst), blksize):\n",
    "        s1vo = []\n",
    "        h1vo = []\n",
    "        for i0 in range(ia0, ia1):\n",
    "            ia = atmlst[i0]\n",
    "            shl0, shl1, p0, p1 = aoslices[ia]\n",
    "            s1ao = numpy.zeros((3,nao,nao))\n",
    "            s1ao[:,p0:p1] += s1a[:,p0:p1]\n",
    "            s1ao[:,:,p0:p1] += s1a[:,p0:p1].transpose(0,2,1)\n",
    "            s1vo.append(_ao2mo(s1ao))\n",
    "            h1ao = h1ao_or_chkfile[ia]\n",
    "            h1vo.append(_ao2mo(h1ao))\n",
    "        h1vo = numpy.vstack(h1vo)\n",
    "        s1vo = numpy.vstack(s1vo)\n",
    "        return (mo_energy, mo_occ, h1vo, s1o)\n",
    "        mo1, e1 = cphf.solve(fx, mo_energy, mo_occ, h1vo, s1vo)\n",
    "        mo1 = numpy.einsum('pq,xqi->xpi', mo_coeff, mo1).reshape(-1,3,nao,nocc)\n",
    "        e1 = e1.reshape(-1,3,nocc,nocc)\n",
    "\n",
    "        for k in range(ia1-ia0):\n",
    "            ia = atmlst[k+ia0]\n",
    "            mo1s[ia] = mo1[k]\n",
    "            e1s[ia] = e1[k].reshape(3,nocc,nocc)\n",
    "        mo1 = e1 = None\n",
    "\n",
    "    return mo1s, e1s"
   ]
  },
  {
   "cell_type": "code",
   "execution_count": 39,
   "id": "4ed22bae",
   "metadata": {},
   "outputs": [
    {
     "data": {
      "text/plain": [
       "(3.7107760459963344, 4.095506981065465, 1.7330085309702807)"
      ]
     },
     "execution_count": 39,
     "metadata": {},
     "output_type": "execute_result"
    }
   ],
   "source": []
  },
  {
   "cell_type": "code",
   "execution_count": 40,
   "id": "b7908a35",
   "metadata": {},
   "outputs": [],
   "source": [
    "atmlst = range(mol.natm)\n",
    "nao, nmo = mo_coeff.shape\n",
    "mocc = mo_coeff[:,mo_occ>0]\n",
    "nocc = mocc.shape[1]"
   ]
  },
  {
   "cell_type": "code",
   "execution_count": 75,
   "id": "0432a347",
   "metadata": {},
   "outputs": [],
   "source": [
    "mol=nn\n",
    "s1a = -mol.intor('int1e_ipovlp', comp=3)\n",
    "mem_now = lib.current_memory()[0]\n",
    "max_memory = max(2000, max_memory*.9-mem_now)\n",
    "ia0, ia1=0,2\n",
    "s1vo = []\n",
    "h1vo = []\n",
    "for i0 in range(ia0, ia1):   # sei nel range di memoria i0 e' l'atomo rispetto al quale derivi\n",
    "    ia = atmlst[i0]\n",
    "    shl0, shl1, p0, p1 = aoslices[ia]\n",
    "    s1ao = numpy.zeros((3,nao,nao))\n",
    "    s1ao[:,p0:p1] += s1a[:,p0:p1]\n",
    "    s1ao[:,:,p0:p1] += s1a[:,p0:p1].transpose(0,2,1)"
   ]
  },
  {
   "cell_type": "code",
   "execution_count": 76,
   "id": "4bbe6bb5",
   "metadata": {},
   "outputs": [
    {
     "name": "stdout",
     "output_type": "stream",
     "text": [
      "0.0003968137125041214\n"
     ]
    }
   ],
   "source": [
    "print(norm(s1ao[2]-dS))"
   ]
  },
  {
   "cell_type": "code",
   "execution_count": null,
   "id": "9db3a49f",
   "metadata": {},
   "outputs": [],
   "source": []
  },
  {
   "cell_type": "code",
   "execution_count": 71,
   "id": "190b6cc2",
   "metadata": {},
   "outputs": [],
   "source": [
    "dS_vo =_ao2mo(dS)\n",
    "dh1_vo=_ao2mo(h1[2])"
   ]
  },
  {
   "cell_type": "code",
   "execution_count": null,
   "id": "cfcee80d",
   "metadata": {},
   "outputs": [],
   "source": []
  },
  {
   "cell_type": "code",
   "execution_count": 50,
   "id": "2ddcdc32",
   "metadata": {},
   "outputs": [],
   "source": [
    "mo1, e1 = cphf.solve(fx, mo_energy, mo_occ, dh1_vo, dS_vo)\n",
    "dm1 = numpy.einsum('pi,qi->pq', mo1, mocc)*4\n",
    "\n",
    "#mo1, mo_e1 = solve_mo1(mf,mo_energy, mo_coeff, mo_occ, h_nn.make_h1(mf.mo_coeff,mf.mo_occ),None, atmlst, max_memory, log)\n",
    "#dm1 = numpy.einsum('pi,qi->pq', mo1[1][2], mocc)*4\n",
    "\n",
    "h1ao=h1[2]"
   ]
  },
  {
   "cell_type": "code",
   "execution_count": 53,
   "id": "310517ee",
   "metadata": {},
   "outputs": [],
   "source": [
    "mo_energy_out, mo_occ_out, dh1_vo_out, dS_vo_out=solve_mo1(mf,mo_energy, mo_coeff, mo_occ, h_nn.make_h1(mf.mo_coeff,mf.mo_occ),None, atmlst, max_memory, log)"
   ]
  },
  {
   "cell_type": "code",
   "execution_count": 77,
   "id": "3b06d872",
   "metadata": {},
   "outputs": [
    {
     "ename": "ValueError",
     "evalue": "operands could not be broadcast together with shapes (6,18,7) (54,7) ",
     "output_type": "error",
     "traceback": [
      "\u001b[0;31m---------------------------------------------------------------------------\u001b[0m",
      "\u001b[0;31mValueError\u001b[0m                                Traceback (most recent call last)",
      "\u001b[0;32m<ipython-input-77-17b389775f56>\u001b[0m in \u001b[0;36m<module>\u001b[0;34m\u001b[0m\n\u001b[0;32m----> 1\u001b[0;31m \u001b[0mnorm\u001b[0m\u001b[0;34m(\u001b[0m\u001b[0mdS_vo_out\u001b[0m\u001b[0;34m-\u001b[0m\u001b[0mnp\u001b[0m\u001b[0;34m.\u001b[0m\u001b[0mvstack\u001b[0m\u001b[0;34m(\u001b[0m\u001b[0m_ao2mo\u001b[0m\u001b[0;34m(\u001b[0m\u001b[0ms1ao\u001b[0m\u001b[0;34m)\u001b[0m\u001b[0;34m)\u001b[0m\u001b[0;34m)\u001b[0m\u001b[0;34m\u001b[0m\u001b[0;34m\u001b[0m\u001b[0m\n\u001b[0m",
      "\u001b[0;31mValueError\u001b[0m: operands could not be broadcast together with shapes (6,18,7) (54,7) "
     ]
    }
   ],
   "source": [
    "norm(dS_vo_out-np.vstack(_ao2mo(s1ao)))"
   ]
  },
  {
   "cell_type": "code",
   "execution_count": 67,
   "id": "b4eb4097",
   "metadata": {},
   "outputs": [
    {
     "ename": "ValueError",
     "evalue": "operands could not be broadcast together with shapes (18,7) (3,18,18) ",
     "output_type": "error",
     "traceback": [
      "\u001b[0;31m---------------------------------------------------------------------------\u001b[0m",
      "\u001b[0;31mValueError\u001b[0m                                Traceback (most recent call last)",
      "\u001b[0;32m<ipython-input-67-d10594cc40ee>\u001b[0m in \u001b[0;36m<module>\u001b[0;34m\u001b[0m\n\u001b[0;32m----> 1\u001b[0;31m \u001b[0mnorm\u001b[0m\u001b[0;34m(\u001b[0m\u001b[0mdS_vo_out\u001b[0m\u001b[0;34m[\u001b[0m\u001b[0;36m1\u001b[0m\u001b[0;34m]\u001b[0m\u001b[0;34m-\u001b[0m\u001b[0ms1ao\u001b[0m\u001b[0;34m)\u001b[0m\u001b[0;34m\u001b[0m\u001b[0;34m\u001b[0m\u001b[0m\n\u001b[0m",
      "\u001b[0;31mValueError\u001b[0m: operands could not be broadcast together with shapes (18,7) (3,18,18) "
     ]
    }
   ],
   "source": [
    "norm(dS_vo_out[1]-s1ao)"
   ]
  },
  {
   "cell_type": "code",
   "execution_count": null,
   "id": "2dc97711",
   "metadata": {},
   "outputs": [],
   "source": []
  },
  {
   "cell_type": "code",
   "execution_count": null,
   "id": "51ca3495",
   "metadata": {},
   "outputs": [],
   "source": []
  },
  {
   "cell_type": "code",
   "execution_count": null,
   "id": "c5d2b4ec",
   "metadata": {},
   "outputs": [],
   "source": []
  },
  {
   "cell_type": "code",
   "execution_count": 51,
   "id": "09fb2fbb",
   "metadata": {},
   "outputs": [
    {
     "data": {
      "text/plain": [
       "(-6.762066413926836, 0.5884961311888581)"
      ]
     },
     "execution_count": 51,
     "metadata": {},
     "output_type": "execute_result"
    }
   ],
   "source": [
    "numpy.einsum('pq,pq', h1ao, dm1),numpy.einsum('pq,pq', h1ao, dP_fd)"
   ]
  },
  {
   "cell_type": "code",
   "execution_count": null,
   "id": "cbc40cd7",
   "metadata": {},
   "outputs": [],
   "source": []
  }
 ],
 "metadata": {
  "kernelspec": {
   "display_name": "Python 3",
   "language": "python",
   "name": "python3"
  },
  "language_info": {
   "codemirror_mode": {
    "name": "ipython",
    "version": 3
   },
   "file_extension": ".py",
   "mimetype": "text/x-python",
   "name": "python",
   "nbconvert_exporter": "python",
   "pygments_lexer": "ipython3",
   "version": "3.8.8"
  }
 },
 "nbformat": 4,
 "nbformat_minor": 5
}
