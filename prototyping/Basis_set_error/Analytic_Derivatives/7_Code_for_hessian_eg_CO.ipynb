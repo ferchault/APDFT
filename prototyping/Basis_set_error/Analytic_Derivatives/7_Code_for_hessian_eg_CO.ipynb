{
 "cells": [
  {
   "cell_type": "code",
   "execution_count": 1,
   "id": "5a53e1ff",
   "metadata": {},
   "outputs": [],
   "source": [
    "import basis_set_exchange as bse\n",
    "import scipy as sp\n",
    "import matplotlib.pyplot as plt\n",
    "from pyscf import gto,scf\n",
    "import copy\n",
    "import numpy as np\n",
    "import scipy\n",
    "from scipy.interpolate import interp1d\n",
    "from pyscf.data.elements import _symbol\n",
    "from pyscf.grad import RHF as g\n",
    "import inspect\n",
    "import sys\n",
    "sys.path.append(\"../Libs\")\n",
    "from FcMole import FcM,FcM_like\n",
    "from FDcoeffs import get_coeffs\n",
    "from ao_scf import ao_RHF\n",
    "from numpy.linalg import norm"
   ]
  },
  {
   "cell_type": "code",
   "execution_count": 2,
   "id": "a3f944e9",
   "metadata": {},
   "outputs": [],
   "source": [
    "from functools import reduce\n",
    "import ctypes\n",
    "\n",
    "import numpy\n",
    "from pyscf import lib\n",
    "from pyscf import gto\n",
    "from pyscf.lib import logger\n",
    "from pyscf.scf import _vhf\n",
    "from pyscf.scf import cphf\n",
    "\n",
    "# import _response_functions to load gen_response methods in SCF class\n",
    "from pyscf.scf import _response_functions  # noqa\n",
    "# import pyscf.grad.rhf to activate nuc_grad_method method\n",
    "from pyscf.grad import rhf  # noqa"
   ]
  },
  {
   "cell_type": "code",
   "execution_count": 3,
   "id": "f34da51a",
   "metadata": {},
   "outputs": [],
   "source": [
    "def make_dP(mf,mo1):\n",
    "    mol=mf.mol\n",
    "    nao=mol.nao\n",
    "    nocc=mf.mol.nelec[0]\n",
    "    C=mf.mo_coeff\n",
    "    dP=np.zeros_like(C)\n",
    "    dP[:,:]=2*np.einsum('ij,jk,lk->il',C,mo1,C[:,:nocc])\n",
    "    return dP+dP.T\n",
    "\n",
    "def make_U(mo1):\n",
    "    U=np.zeros((mo1.shape[0],mo1.shape[0]))\n",
    "    U[:,:mo1.shape[1]]=mo1\n",
    "    U=U-U.T\n",
    "    return U"
   ]
  },
  {
   "cell_type": "code",
   "execution_count": 4,
   "id": "e1783705",
   "metadata": {},
   "outputs": [
    {
     "name": "stdout",
     "output_type": "stream",
     "text": [
      "converged SCF energy = -112.661562568708\n",
      "converged SCF energy = -112.664890518986\n",
      "converged SCF energy = -112.65657514208\n"
     ]
    }
   ],
   "source": [
    "nn=gto.M(atom=\"C 0 0 0; O 0 0 2.05\",unit=\"Bohr\",basis=bse.get_basis(\"6-31g\",fmt=\"nwchem\",elements=[6,7,8]))\n",
    "mf_nn=scf.RHF(nn)\n",
    "e_nn=mf_nn.scf()\n",
    "P_nn=mf_nn.make_rdm1()\n",
    "########\n",
    "nn_p=gto.M(atom=\"C 0 0 0; O 0 0 2.08\",unit=\"Bohr\",basis=bse.get_basis(\"6-31g\",fmt=\"nwchem\",elements=[6,7,8]))\n",
    "mf_nn_p=scf.RHF(nn_p)\n",
    "e_nn_p=mf_nn_p.scf()\n",
    "P_nn_p=mf_nn_p.make_rdm1()\n",
    "########\n",
    "nn_m=gto.M(atom=\"C 0 0 0; O 0 0 2.02\",unit=\"Bohr\",basis=bse.get_basis(\"6-31g\",fmt=\"nwchem\",elements=[6,7,8]))\n",
    "mf_nn_m=scf.RHF(nn_m)\n",
    "e_nn_m=mf_nn_m.scf()\n",
    "P_nn_m=mf_nn_m.make_rdm1()"
   ]
  },
  {
   "cell_type": "code",
   "execution_count": 5,
   "id": "955edf67",
   "metadata": {},
   "outputs": [],
   "source": [
    "import pyscf.hessian # needed to use hessian"
   ]
  },
  {
   "cell_type": "code",
   "execution_count": 6,
   "id": "981ba2da",
   "metadata": {},
   "outputs": [],
   "source": [
    "h_nn=mf_nn.Hessian()\n",
    "mf=mf_nn"
   ]
  },
  {
   "cell_type": "code",
   "execution_count": 7,
   "id": "f0184073",
   "metadata": {},
   "outputs": [
    {
     "data": {
      "text/plain": [
       "(array([[[[-6.71352251e-02, -3.62613829e-16, -2.81101463e-16],\n",
       "          [-3.61354120e-16, -6.71352251e-02,  1.54597964e-16],\n",
       "          [-2.81101461e-16,  1.54597964e-16,  1.84234812e+00]],\n",
       " \n",
       "         [[ 6.71352251e-02,  3.64823567e-16,  2.81101461e-16],\n",
       "          [ 3.55674935e-16,  6.71352251e-02, -1.54597964e-16],\n",
       "          [ 2.81101463e-16, -1.54597964e-16, -1.84234812e+00]]],\n",
       " \n",
       " \n",
       "        [[[ 6.71352251e-02,  3.55674935e-16,  2.81101463e-16],\n",
       "          [ 3.64823567e-16,  6.71352251e-02, -1.54597964e-16],\n",
       "          [ 2.81101461e-16, -1.54597964e-16, -1.84234812e+00]],\n",
       " \n",
       "         [[-6.71352251e-02, -3.55951181e-16, -2.81101463e-16],\n",
       "          [-3.68004433e-16, -6.71352251e-02,  1.54597964e-16],\n",
       "          [-2.81101461e-16,  1.54597964e-16,  1.84234812e+00]]]]),\n",
       " 1.8423481215624502)"
      ]
     },
     "execution_count": 7,
     "metadata": {},
     "output_type": "execute_result"
    }
   ],
   "source": [
    "h_nn.hess(),h_nn.hess()[1,1,2,2]"
   ]
  },
  {
   "cell_type": "code",
   "execution_count": 8,
   "id": "5f19c5c3",
   "metadata": {},
   "outputs": [
    {
     "data": {
      "text/plain": [
       "1.8438626120263912"
      ]
     },
     "execution_count": 8,
     "metadata": {},
     "output_type": "execute_result"
    }
   ],
   "source": [
    "(e_nn_p+e_nn_m-2*e_nn)/.03**2"
   ]
  },
  {
   "cell_type": "code",
   "execution_count": 9,
   "id": "1d204234",
   "metadata": {},
   "outputs": [],
   "source": [
    "dP_fd=(P_nn_p-P_nn_m)/.06\n",
    "dh1=(mf_nn_p.get_hcore()-mf_nn_m.get_hcore())/.06\n",
    "dS=(mf_nn_p.get_ovlp()-mf_nn_m.get_ovlp())/.06\n",
    "dG4d=(nn_p.intor('int2e')-nn_m.intor('int2e'))/.06"
   ]
  },
  {
   "cell_type": "code",
   "execution_count": 10,
   "id": "496a6741",
   "metadata": {},
   "outputs": [
    {
     "data": {
      "text/plain": [
       "True"
      ]
     },
     "execution_count": 10,
     "metadata": {},
     "output_type": "execute_result"
    }
   ],
   "source": [
    "np.allclose(h_nn.base.nuc_grad_method().hcore_generator(nn)(1)[2],dh1,atol=1e-2)"
   ]
  },
  {
   "cell_type": "code",
   "execution_count": 13,
   "id": "2191b712",
   "metadata": {},
   "outputs": [],
   "source": [
    "max_memory=4000\n",
    "verbose=None\n",
    "mo_energy = mf.mo_energy\n",
    "mo_occ = mf.mo_occ\n",
    "mo_coeff = mf.mo_coeff\n",
    "atmlst = range(mol.natm)\n",
    "h1ao=h_nn.make_h1(mf.mo_coeff,mf.mo_occ)\n",
    "mo1, mo_e1 = hessobj.solve_mo1(mo_energy, mo_coeff, mo_occ, h1ao,None, atmlst, max_memory, log)\n",
    "#mo1_2, mo_e1 = pyscf.hessian.rhf.solve_mo1(mf,mo_energy, mo_coeff, mo_occ, h1ao,None, atmlst, max_memory, log)"
   ]
  },
  {
   "cell_type": "code",
   "execution_count": 14,
   "id": "5f9eaae0",
   "metadata": {},
   "outputs": [
    {
     "data": {
      "text/plain": [
       "True"
      ]
     },
     "execution_count": 14,
     "metadata": {},
     "output_type": "execute_result"
    }
   ],
   "source": [
    "h_nn.make_h1(mf_nn.mo_coeff,mf_nn.mo_occ)[1][1].shape # list (natm,(xyz))\n",
    "# make_h1 is made by two part one is hcore_generator the other is \n",
    "hessobj=h_nn\n",
    "log = logger.new_logger(hessobj, 1)\n",
    "max_memory=4000\n",
    "mol = hessobj.mol\n",
    "if atmlst is None:\n",
    "    atmlst = range(mol.natm)\n",
    "\n",
    "nao, nmo = mo_coeff.shape\n",
    "mocc = mo_coeff[:,mo_occ>0]\n",
    "dm0 = numpy.dot(mocc, mocc.T) * 2\n",
    "hcore_deriv = hessobj.base.nuc_grad_method().hcore_generator(mol)\n",
    "\n",
    "aoslices = mol.aoslice_by_atom()\n",
    "h1ao = [None] * mol.natm\n",
    "for i0, ia in enumerate(atmlst):\n",
    "    shl0, shl1, p0, p1 = aoslices[ia]\n",
    "    shls_slice = (shl0, shl1) + (0, mol.nbas)*3\n",
    "    vj1, vj2, vk1, vk2 = pyscf.hessian.rhf._get_jk(mol, 'int2e_ip1', 3, 's2kl',\n",
    "                                 ['ji->s2kl', -dm0[:,p0:p1],  # vj1\n",
    "                                  'lk->s1ij', -dm0         ,  # vj2\n",
    "                                  'li->s1kj', -dm0[:,p0:p1],  # vk1\n",
    "                                  'jk->s1il', -dm0         ], # vk2\n",
    "                                 shls_slice=shls_slice)\n",
    "    vhf = vj1 - vk1*.5\n",
    "    vhf[:,p0:p1] += vj2 - vk2*.5\n",
    "    h1 = vhf + vhf.transpose(0,2,1)\n",
    "    h1 += hcore_deriv(ia)\n",
    "np.allclose(h1,h_nn.make_h1(mf_nn.mo_coeff,mf_nn.mo_occ)[1],atol=1e-3)"
   ]
  },
  {
   "cell_type": "code",
   "execution_count": 15,
   "id": "3dcad347",
   "metadata": {},
   "outputs": [
    {
     "data": {
      "text/plain": [
       "((3, 18, 18), (3, 18, 18))"
      ]
     },
     "execution_count": 15,
     "metadata": {},
     "output_type": "execute_result"
    }
   ],
   "source": [
    "h1.shape,h_nn.make_h1(mf_nn.mo_coeff,mf_nn.mo_occ)[0].shape"
   ]
  },
  {
   "cell_type": "code",
   "execution_count": 16,
   "id": "75e0a4a5",
   "metadata": {},
   "outputs": [
    {
     "data": {
      "text/plain": [
       "(-14.58267759478131, 1.0839738791249454)"
      ]
     },
     "execution_count": 16,
     "metadata": {},
     "output_type": "execute_result"
    }
   ],
   "source": [
    "# This is a part of the gradient \n",
    "0.5*np.einsum(\"ij,kl,ijkl\",P_nn,P_nn,dG4d),-np.einsum(\"ik,jl,ijkl\",P_nn,P_nn,dG4d)/4"
   ]
  },
  {
   "cell_type": "code",
   "execution_count": 17,
   "id": "a9ded314",
   "metadata": {},
   "outputs": [
    {
     "data": {
      "text/plain": [
       "(array([[-2.25886440e+00, -4.43578149e-01, -3.81206685e-01,\n",
       "         -8.63127802e-17, -2.73201557e-18, -7.78176444e-02,\n",
       "         -5.13976248e-17, -8.13416441e-18,  1.85488843e-02,\n",
       "          1.43988242e-03, -6.04133963e-01, -1.00073423e+00,\n",
       "         -5.55532904e-17, -1.90436899e-17,  1.21451190e+00,\n",
       "         -5.22836736e-17, -1.51776157e-17,  1.26079028e+00],\n",
       "        [-4.43578149e-01, -1.65096804e+00, -1.20701346e+00,\n",
       "         -2.19024902e-17, -1.96932159e-17, -4.13793733e-01,\n",
       "         -2.74046502e-17, -2.74826651e-17, -1.55433137e-01,\n",
       "         -9.42380354e-01, -3.40364493e+00, -3.14300940e+00,\n",
       "         -8.32017587e-17, -5.55745794e-17,  2.76665668e+00,\n",
       "         -1.50954177e-16, -5.36332232e-17,  1.80546105e+00],\n",
       "        [-3.81206685e-01, -1.20701346e+00, -1.08570768e+00,\n",
       "          9.53819821e-18, -2.15947497e-17, -2.92775945e-01,\n",
       "         -2.73454659e-17, -2.39644836e-17, -4.79902070e-02,\n",
       "         -5.70209421e-01, -2.11496536e+00, -2.41150261e+00,\n",
       "         -5.07862859e-17, -2.87165068e-17,  5.86998790e-01,\n",
       "         -1.16594617e-16, -4.05719531e-17,  3.33466215e-01],\n",
       "        [-8.63127802e-17, -2.19024902e-17,  9.53819821e-18,\n",
       "         -1.55425149e+00, -6.52680647e-17, -2.02092029e-17,\n",
       "         -6.41556286e-01, -5.81715705e-17,  5.22748025e-17,\n",
       "          1.12877856e-16,  1.20127740e-16,  5.46205186e-17,\n",
       "         -2.07527592e+00, -9.25887975e-17, -4.46941961e-17,\n",
       "         -2.25160878e+00, -8.07034425e-17,  6.75804008e-17],\n",
       "        [-2.73201557e-18, -1.96932159e-17, -2.15947497e-17,\n",
       "         -6.52680647e-17, -1.55425149e+00, -1.58902687e-17,\n",
       "         -2.75134954e-17, -6.41556286e-01, -2.26218221e-17,\n",
       "          8.88261121e-18,  2.92407999e-17, -1.46000788e-18,\n",
       "         -5.86048755e-17, -2.07527592e+00, -3.87939659e-17,\n",
       "         -4.15544669e-17, -2.25160878e+00,  6.20195354e-17],\n",
       "        [-7.78176444e-02, -4.13793733e-01, -2.92775945e-01,\n",
       "         -2.02092029e-17, -1.58902687e-17, -1.81825218e+00,\n",
       "         -2.60206358e-17, -1.27366354e-17, -8.07402327e-01,\n",
       "         -1.49020899e+00, -4.36888199e+00, -1.79092811e+00,\n",
       "          1.00938278e-16,  3.12511652e-17,  2.36446292e+00,\n",
       "          5.27114631e-17,  3.64874300e-17, -2.09479375e+00],\n",
       "        [-5.13976248e-17, -2.74046502e-17, -2.73454659e-17,\n",
       "         -6.41556286e-01, -2.75134954e-17, -2.60206358e-17,\n",
       "         -6.94846282e-01, -2.51789659e-17,  1.45518602e-17,\n",
       "          7.59212233e-17,  1.19998773e-16,  4.34087601e-17,\n",
       "         -1.03016735e+00, -3.85384386e-17, -4.30892977e-17,\n",
       "         -1.86242304e+00, -3.44118617e-17,  8.80895562e-17],\n",
       "        [-8.13416441e-18, -2.74826651e-17, -2.39644836e-17,\n",
       "         -5.81715705e-17, -6.41556286e-01, -1.27366354e-17,\n",
       "         -2.51789659e-17, -6.94846282e-01, -6.36015651e-18,\n",
       "          9.02167562e-18,  2.47429355e-17,  5.94743168e-18,\n",
       "         -4.72115096e-17, -1.03016735e+00, -1.15022166e-17,\n",
       "         -3.11665865e-17, -1.86242304e+00,  4.72040262e-17],\n",
       "        [ 1.85488843e-02, -1.55433137e-01, -4.79902070e-02,\n",
       "          5.22748025e-17, -2.26218221e-17, -8.07402327e-01,\n",
       "          1.45518602e-17, -6.36015651e-18, -6.12044378e-01,\n",
       "         -3.83009571e-01, -1.00084498e+00, -3.21995378e-01,\n",
       "          1.46292475e-16,  5.10810728e-17, -1.32893236e+00,\n",
       "          8.13290109e-17,  2.91433078e-17, -3.31828852e+00],\n",
       "        [ 1.43988242e-03, -9.42380354e-01, -5.70209421e-01,\n",
       "          1.12877856e-16,  8.88261121e-18, -1.49020899e+00,\n",
       "          7.59212233e-17,  9.02167562e-18, -3.83009571e-01,\n",
       "         -1.74954834e+00, -3.73506348e-01, -2.65413901e-01,\n",
       "          1.86054921e-16,  8.90795032e-18,  3.27798246e-02,\n",
       "          1.70602780e-16,  1.50680601e-17, -2.20876229e-02],\n",
       "        [-6.04133963e-01, -3.40364493e+00, -2.11496536e+00,\n",
       "          1.20127740e-16,  2.92407999e-17, -4.36888199e+00,\n",
       "          1.19998773e-16,  2.47429355e-17, -1.00084498e+00,\n",
       "         -3.73506348e-01, -1.40340778e+00, -9.98360519e-01,\n",
       "          2.66625879e-16,  1.90012066e-17,  2.37597227e-01,\n",
       "          2.27338875e-16,  3.45751211e-17,  1.04893297e-01],\n",
       "        [-1.00073423e+00, -3.14300940e+00, -2.41150261e+00,\n",
       "          5.46205186e-17, -1.46000788e-18, -1.79092811e+00,\n",
       "          4.34087601e-17,  5.94743168e-18, -3.21995378e-01,\n",
       "         -2.65413901e-01, -9.98360519e-01, -1.02954494e+00,\n",
       "          1.98897443e-16,  2.54809795e-17,  2.08681975e-01,\n",
       "          7.40967960e-17,  8.66000530e-18,  1.32123821e-01],\n",
       "        [-5.55532904e-17, -8.32017587e-17, -5.07862859e-17,\n",
       "         -2.07527592e+00, -5.86048755e-17,  1.00938278e-16,\n",
       "         -1.03016735e+00, -4.72115096e-17,  1.46292475e-16,\n",
       "          1.86054921e-16,  2.66625879e-16,  1.98897443e-16,\n",
       "         -1.37931908e+00, -4.28303851e-17, -1.69812768e-16,\n",
       "         -5.34506321e-01, -4.87950861e-17,  4.30701189e-17],\n",
       "        [-1.90436899e-17, -5.55745794e-17, -2.87165068e-17,\n",
       "         -9.25887975e-17, -2.07527592e+00,  3.12511652e-17,\n",
       "         -3.85384386e-17, -1.03016735e+00,  5.10810728e-17,\n",
       "          8.90795032e-18,  1.90012066e-17,  2.54809795e-17,\n",
       "         -4.28303851e-17, -1.37931908e+00, -4.61349102e-17,\n",
       "         -2.90926878e-17, -5.34506321e-01,  1.21416287e-17],\n",
       "        [ 1.21451190e+00,  2.76665668e+00,  5.86998790e-01,\n",
       "         -4.46941961e-17, -3.87939659e-17,  2.36446292e+00,\n",
       "         -4.30892977e-17, -1.15022166e-17, -1.32893236e+00,\n",
       "          3.27798246e-02,  2.37597227e-01,  2.08681975e-01,\n",
       "         -1.69812768e-16, -4.61349102e-17, -1.48771756e+00,\n",
       "         -9.40750634e-17, -4.97707737e-17, -6.96969833e-01],\n",
       "        [-5.22836736e-17, -1.50954177e-16, -1.16594617e-16,\n",
       "         -2.25160878e+00, -4.15544669e-17,  5.27114631e-17,\n",
       "         -1.86242304e+00, -3.11665865e-17,  8.13290109e-17,\n",
       "          1.70602780e-16,  2.27338875e-16,  7.40967960e-17,\n",
       "         -5.34506321e-01, -2.90926878e-17, -9.40750634e-17,\n",
       "         -7.31711759e-01, -3.26318847e-17,  1.17856968e-16],\n",
       "        [-1.51776157e-17, -5.36332232e-17, -4.05719531e-17,\n",
       "         -8.07034425e-17, -2.25160878e+00,  3.64874300e-17,\n",
       "         -3.44118617e-17, -1.86242304e+00,  2.91433078e-17,\n",
       "          1.50680601e-17,  3.45751211e-17,  8.66000530e-18,\n",
       "         -4.87950861e-17, -5.34506321e-01, -4.97707737e-17,\n",
       "         -3.26318847e-17, -7.31711759e-01,  2.06254082e-17],\n",
       "        [ 1.26079028e+00,  1.80546105e+00,  3.33466215e-01,\n",
       "          6.75804008e-17,  6.20195354e-17, -2.09479375e+00,\n",
       "          8.80895562e-17,  4.72040262e-17, -3.31828852e+00,\n",
       "         -2.20876229e-02,  1.04893297e-01,  1.32123821e-01,\n",
       "          4.30701189e-17,  1.21416287e-17, -6.96969833e-01,\n",
       "          1.17856968e-16,  2.06254082e-17, -8.10518293e-01]]),\n",
       " array([[-2.25887640e+00, -4.43527228e-01, -3.81180233e-01,\n",
       "         -8.63590442e-17, -2.73097985e-18, -7.77825638e-02,\n",
       "         -5.14144673e-17, -8.13225915e-18,  1.85518307e-02,\n",
       "          1.42966703e-03, -6.04945211e-01, -1.00075400e+00,\n",
       "         -5.55858836e-17, -1.90418385e-17,  1.21551884e+00,\n",
       "         -5.23100023e-17, -1.51739773e-17,  1.26042867e+00],\n",
       "        [-4.43527228e-01, -1.65079753e+00, -1.20684978e+00,\n",
       "         -2.18923385e-17, -1.97077213e-17, -4.13722571e-01,\n",
       "         -2.73899342e-17, -2.74818794e-17, -1.55356046e-01,\n",
       "         -9.42628657e-01, -3.40354303e+00, -3.14271621e+00,\n",
       "         -8.32198437e-17, -5.55734683e-17,  2.76558437e+00,\n",
       "         -1.50932377e-16, -5.36301377e-17,  1.80470509e+00],\n",
       "        [-3.81180233e-01, -1.20684978e+00, -1.08553067e+00,\n",
       "          9.53441805e-18, -2.15944291e-17, -2.92673939e-01,\n",
       "         -2.73456701e-17, -2.39598884e-17, -4.79119337e-02,\n",
       "         -5.70180694e-01, -2.11479939e+00, -2.41123861e+00,\n",
       "         -5.08099812e-17, -2.87201887e-17,  5.86822986e-01,\n",
       "         -1.16592483e-16, -4.05683346e-17,  3.33188056e-01],\n",
       "        [-8.63590442e-17, -2.18923385e-17,  9.53441805e-18,\n",
       "         -1.55407946e+00, -6.52342631e-17, -2.01361818e-17,\n",
       "         -6.41452522e-01, -5.82757055e-17,  5.23009211e-17,\n",
       "          1.12921496e-16,  1.20151360e-16,  5.46093636e-17,\n",
       "         -2.07578330e+00, -9.26271572e-17, -4.46220644e-17,\n",
       "         -2.25142491e+00, -8.08113423e-17,  6.76345022e-17],\n",
       "        [-2.73097985e-18, -1.97077213e-17, -2.15944291e-17,\n",
       "         -6.56042944e-17, -1.55407946e+00, -1.58946430e-17,\n",
       "         -2.76966754e-17, -6.41452522e-01, -2.26049152e-17,\n",
       "          8.88721941e-18,  2.92298733e-17, -1.46497208e-18,\n",
       "         -5.87287963e-17, -2.07578330e+00, -3.87625770e-17,\n",
       "         -4.17249831e-17, -2.25142491e+00,  6.20267101e-17],\n",
       "        [-7.77825638e-02, -4.13722571e-01, -2.92673939e-01,\n",
       "         -2.01361818e-17, -1.58946430e-17, -1.81814840e+00,\n",
       "         -2.59681855e-17, -1.27317404e-17, -8.07262285e-01,\n",
       "         -1.49039567e+00, -4.36801270e+00, -1.79032579e+00,\n",
       "          1.00967663e-16,  3.12673699e-17,  2.36253172e+00,\n",
       "          5.27612358e-17,  3.64876068e-17, -2.09511007e+00],\n",
       "        [-5.14144673e-17, -2.73899342e-17, -2.73456701e-17,\n",
       "         -6.41452522e-01, -2.75578637e-17, -2.59681855e-17,\n",
       "         -6.94721790e-01, -2.52676404e-17,  1.45646069e-17,\n",
       "          7.59362643e-17,  1.19978326e-16,  4.33867431e-17,\n",
       "         -1.03007453e+00, -3.85899171e-17, -4.30146182e-17,\n",
       "         -1.86221842e+00, -3.45304283e-17,  8.81073656e-17],\n",
       "        [-8.13225915e-18, -2.74818794e-17, -2.39598884e-17,\n",
       "         -5.83396271e-17, -6.41452522e-01, -1.27317404e-17,\n",
       "         -2.52605964e-17, -6.94721790e-01, -6.35162956e-18,\n",
       "          9.02267587e-18,  2.47339864e-17,  5.94407634e-18,\n",
       "         -4.73065720e-17, -1.03007453e+00, -1.14847583e-17,\n",
       "         -3.12732749e-17, -1.86221842e+00,  4.72031366e-17],\n",
       "        [ 1.85518307e-02, -1.55356046e-01, -4.79119337e-02,\n",
       "          5.23009211e-17, -2.26049152e-17, -8.07262285e-01,\n",
       "          1.45646069e-17, -6.35162956e-18, -6.11910366e-01,\n",
       "         -3.82871488e-01, -1.00038208e+00, -3.21672340e-01,\n",
       "          1.46307823e-16,  5.10847673e-17, -1.32894667e+00,\n",
       "          8.13377494e-17,  2.91469352e-17, -3.31798227e+00],\n",
       "        [ 1.42966703e-03, -9.42628657e-01, -5.70180694e-01,\n",
       "          1.12921496e-16,  8.88721941e-18, -1.49039567e+00,\n",
       "          7.59362643e-17,  9.02267587e-18, -3.82871488e-01,\n",
       "         -1.74945215e+00, -3.73466939e-01, -2.65389819e-01,\n",
       "          1.86095630e-16,  8.91188764e-18,  3.27750464e-02,\n",
       "          1.70611183e-16,  1.50698559e-17, -2.20842124e-02],\n",
       "        [-6.04945211e-01, -3.40354303e+00, -2.11479939e+00,\n",
       "          1.20151360e-16,  2.92298733e-17, -4.36801270e+00,\n",
       "          1.19978326e-16,  2.47339864e-17, -1.00038208e+00,\n",
       "         -3.73466939e-01, -1.40327899e+00, -9.98242944e-01,\n",
       "          2.66585062e-16,  1.90059030e-17,  2.37633402e-01,\n",
       "          2.27295391e-16,  3.45691194e-17,  1.04879120e-01],\n",
       "        [-1.00075400e+00, -3.14271621e+00, -2.41123861e+00,\n",
       "          5.46093636e-17, -1.46497208e-18, -1.79032579e+00,\n",
       "          4.33867431e-17,  5.94407634e-18, -3.21672340e-01,\n",
       "         -2.65389819e-01, -9.98242944e-01, -1.02936038e+00,\n",
       "          1.98847888e-16,  2.54737077e-17,  2.08665230e-01,\n",
       "          7.40630236e-17,  8.65373787e-18,  1.32039966e-01],\n",
       "        [-5.55858836e-17, -8.32198437e-17, -5.08099812e-17,\n",
       "         -2.07578330e+00, -5.84252536e-17,  1.00967663e-16,\n",
       "         -1.03007453e+00, -4.71981471e-17,  1.46307823e-16,\n",
       "          1.86095630e-16,  2.66585062e-16,  1.98847888e-16,\n",
       "         -1.37916200e+00, -4.26293379e-17, -1.69660883e-16,\n",
       "         -5.34420216e-01, -4.87117356e-17,  4.31481763e-17],\n",
       "        [-1.90418385e-17, -5.55734683e-17, -2.87201887e-17,\n",
       "         -9.29785684e-17, -2.07578330e+00,  3.12673699e-17,\n",
       "         -3.87164395e-17, -1.03007453e+00,  5.10847673e-17,\n",
       "          8.91188764e-18,  1.90059030e-17,  2.54737077e-17,\n",
       "         -4.32510871e-17, -1.37916200e+00, -4.61304778e-17,\n",
       "         -2.95178765e-17, -5.34420216e-01,  1.21572307e-17],\n",
       "        [ 1.21551884e+00,  2.76558437e+00,  5.86822986e-01,\n",
       "         -4.46220644e-17, -3.87625770e-17,  2.36253172e+00,\n",
       "         -4.30146182e-17, -1.14847583e-17, -1.32894667e+00,\n",
       "          3.27750464e-02,  2.37633402e-01,  2.08665230e-01,\n",
       "         -1.69660883e-16, -4.61304778e-17, -1.48771319e+00,\n",
       "         -9.39662626e-17, -4.97494869e-17, -6.96890652e-01],\n",
       "        [-5.23100023e-17, -1.50932377e-16, -1.16592483e-16,\n",
       "         -2.25142491e+00, -4.15375810e-17,  5.27612358e-17,\n",
       "         -1.86221842e+00, -3.11855848e-17,  8.13377494e-17,\n",
       "          1.70611183e-16,  2.27295391e-16,  7.40630236e-17,\n",
       "         -5.34420216e-01, -2.91018189e-17, -9.39662626e-17,\n",
       "         -7.31566418e-01, -3.27055995e-17,  1.17880649e-16],\n",
       "        [-1.51739773e-17, -5.36301377e-17, -4.05683346e-17,\n",
       "         -8.08564229e-17, -2.25142491e+00,  3.64876068e-17,\n",
       "         -3.44715736e-17, -1.86221842e+00,  2.91469352e-17,\n",
       "          1.50698559e-17,  3.45691194e-17,  8.65373787e-18,\n",
       "         -4.89785964e-17, -5.34420216e-01, -4.97494869e-17,\n",
       "         -3.28097972e-17, -7.31566418e-01,  2.06358563e-17],\n",
       "        [ 1.26042867e+00,  1.80470509e+00,  3.33188056e-01,\n",
       "          6.76345022e-17,  6.20267101e-17, -2.09511007e+00,\n",
       "          8.81073656e-17,  4.72031366e-17, -3.31798227e+00,\n",
       "         -2.20842124e-02,  1.04879120e-01,  1.32039966e-01,\n",
       "          4.31481763e-17,  1.21572307e-17, -6.96890652e-01,\n",
       "          1.17880649e-16,  2.06358563e-17, -8.10317009e-01]]))"
      ]
     },
     "execution_count": 17,
     "metadata": {},
     "output_type": "execute_result"
    }
   ],
   "source": [
    "(vhf + vhf.transpose(0,2,1))[2],np.einsum(\"kl,ijkl->ij\",P_nn,dG4d)-np.einsum(\"jl,ijkl->ik\",P_nn,dG4d)/2"
   ]
  },
  {
   "cell_type": "code",
   "execution_count": 18,
   "id": "826a430b",
   "metadata": {},
   "outputs": [
    {
     "data": {
      "text/plain": [
       "0.004542824970956132"
      ]
     },
     "execution_count": 18,
     "metadata": {},
     "output_type": "execute_result"
    }
   ],
   "source": [
    "norm((vhf + vhf.transpose(0,2,1))[2]-(np.einsum(\"kl,ijkl->ij\",P_nn,dG4d)-np.einsum(\"jl,ijkl->ik\",P_nn,dG4d)/2))"
   ]
  },
  {
   "cell_type": "code",
   "execution_count": 19,
   "id": "279efc46",
   "metadata": {},
   "outputs": [
    {
     "data": {
      "text/plain": [
       "0.002295777059784737"
      ]
     },
     "execution_count": 19,
     "metadata": {},
     "output_type": "execute_result"
    }
   ],
   "source": [
    "# qui h1ao e' la somma del contributo di h monoelectr + V eff (da operatori bielettronici)\n",
    "norm(h1[2]-(dh1+np.einsum(\"kl,ijkl->ij\",P_nn,dG4d)-np.einsum(\"jl,ijkl->ik\",P_nn,dG4d)/2))"
   ]
  },
  {
   "cell_type": "code",
   "execution_count": null,
   "id": "16903646",
   "metadata": {},
   "outputs": [],
   "source": []
  },
  {
   "cell_type": "code",
   "execution_count": null,
   "id": "3cb5956e",
   "metadata": {},
   "outputs": [],
   "source": []
  },
  {
   "cell_type": "code",
   "execution_count": 20,
   "id": "78d31f36",
   "metadata": {},
   "outputs": [
    {
     "data": {
      "text/plain": [
       "(3, 18, 7)"
      ]
     },
     "execution_count": 20,
     "metadata": {},
     "output_type": "execute_result"
    }
   ],
   "source": [
    "mo1[0].shape"
   ]
  },
  {
   "cell_type": "code",
   "execution_count": 21,
   "id": "3135df9e",
   "metadata": {},
   "outputs": [
    {
     "data": {
      "text/plain": [
       "array([[-6.15463406e-02,  7.61909067e-02,  2.61671086e-01,\n",
       "        -5.01890665e-02,  5.65269371e-02, -1.31428982e-01,\n",
       "         4.63538809e-02, -6.00941655e-02,  1.66612656e-02,\n",
       "         3.78076173e-02, -2.59853468e-02, -1.31082650e-01,\n",
       "         4.02567797e-02, -3.17010640e-03,  6.61553464e-02,\n",
       "        -1.02894694e-01, -4.24642417e-03,  6.29344758e-02],\n",
       "       [ 7.61909067e-02, -6.29240862e-03,  1.29652283e-01,\n",
       "         2.98749513e-01, -3.07391070e-02,  7.01619302e-02,\n",
       "        -2.18482396e-01,  7.72918523e-02,  1.47615093e-01,\n",
       "         7.46162762e-03,  1.54612332e-01, -4.01198739e-01,\n",
       "         7.37006941e-02,  6.13450459e-02, -5.69233697e-02,\n",
       "         1.58138526e-01,  4.29358442e-02,  1.11921921e-01],\n",
       "       [ 2.61671086e-01,  1.29652283e-01, -1.01370991e+00,\n",
       "         9.86706225e-03,  7.22381358e-02,  6.83615592e-01,\n",
       "         1.42897889e-01, -6.04954854e-02, -2.74614619e-01,\n",
       "        -1.43869775e-01, -1.50009186e-04,  1.14528308e+00,\n",
       "         1.51220346e-01,  1.86459597e-02, -6.70683401e-01,\n",
       "         8.44505802e-02,  1.12005816e-02, -5.91804132e-01],\n",
       "       [-5.01890665e-02,  2.98749513e-01,  9.86706225e-03,\n",
       "        -1.14301087e-04,  1.70344290e-02,  2.53460817e-01,\n",
       "         2.56471938e-04, -3.62744735e-02, -2.82324018e-02,\n",
       "        -3.23834925e-02,  9.82821155e-02, -5.08609915e-02,\n",
       "         3.50104646e-04, -4.84966857e-02, -4.38667440e-01,\n",
       "        -6.79300628e-04,  9.76729141e-02, -1.66141550e-01],\n",
       "       [ 5.65269371e-02, -3.07391070e-02,  7.22381358e-02,\n",
       "         1.70344290e-02,  2.80576502e-02, -8.58865897e-02,\n",
       "         6.50158381e-03,  5.95825631e-02, -1.90944292e-02,\n",
       "         1.29517942e-02, -1.65945895e-02, -2.00910664e-03,\n",
       "         2.97499059e-02, -4.39690395e-02,  2.57959519e-01,\n",
       "         1.94768031e-02, -5.20421351e-02,  5.00940088e-02],\n",
       "       [-1.31428982e-01,  7.01619302e-02,  6.83615592e-01,\n",
       "         2.53460817e-01, -8.58865897e-02,  8.31667320e-02,\n",
       "        -3.77600770e-01,  1.50961342e-01,  4.57671134e-01,\n",
       "         1.23019953e-02,  5.92111302e-01, -1.32300218e+00,\n",
       "        -1.49390547e-01,  8.36195484e-02, -7.46502637e-02,\n",
       "         3.33608101e-02,  5.91103965e-02,  4.52738015e-01],\n",
       "       [ 4.63538809e-02, -2.18482396e-01,  1.42897889e-01,\n",
       "         2.56471938e-04,  6.50158381e-03, -3.77600770e-01,\n",
       "         1.88771354e-04, -1.21730219e-02,  1.00947026e-02,\n",
       "         9.07768670e-02, -1.98265702e-01, -5.99791902e-02,\n",
       "         6.58229731e-04, -1.53512338e-02,  4.68791999e-01,\n",
       "         1.25846053e-04,  3.42198382e-02,  1.74754261e-01],\n",
       "       [-6.00941655e-02,  7.72918523e-02, -6.04954854e-02,\n",
       "        -3.62744735e-02,  5.95825631e-02,  1.50961342e-01,\n",
       "        -1.21730219e-02,  3.74685837e-02, -1.92273491e-03,\n",
       "        -1.98954228e-03,  9.49985870e-03, -5.59385598e-02,\n",
       "        -6.65323480e-02,  7.60428324e-02, -1.62888997e-01,\n",
       "        -4.43532965e-02,  4.27760568e-02, -8.61527708e-02],\n",
       "       [ 1.66612656e-02,  1.47615093e-01, -2.74614619e-01,\n",
       "        -2.82324018e-02, -1.90944292e-02,  4.57671134e-01,\n",
       "         1.00947026e-02, -1.92273491e-03,  3.03657035e-02,\n",
       "        -9.33007226e-02,  3.13354831e-01,  1.25146678e-01,\n",
       "        -2.11156510e-02, -2.86883217e-02, -4.54303842e-01,\n",
       "        -1.48763498e-02, -1.90313185e-02, -1.52526574e-01],\n",
       "       [ 3.78076173e-02,  7.46162762e-03, -1.43869775e-01,\n",
       "        -3.23834925e-02,  1.29517942e-02,  1.23019953e-02,\n",
       "         9.07768670e-02, -1.98954228e-03, -9.33007226e-02,\n",
       "        -2.50316589e-02, -9.82282319e-02,  2.66602019e-01,\n",
       "         5.66169647e-02,  1.53894570e-02, -2.26624571e-02,\n",
       "         1.27771188e-02,  1.00296403e-02, -1.02725268e-01],\n",
       "       [-2.59853468e-02,  1.54612332e-01, -1.50009186e-04,\n",
       "         9.82821155e-02, -1.65945895e-02,  5.92111302e-01,\n",
       "        -1.98265702e-01,  9.49985870e-03,  3.13354831e-01,\n",
       "        -9.82282319e-02,  6.37225337e-01, -5.89419481e-01,\n",
       "        -2.21656378e-02, -1.10957545e-02, -5.60640287e-01,\n",
       "        -9.99001945e-02, -8.00609514e-03,  6.22470019e-02],\n",
       "       [-1.31082650e-01, -4.01198739e-01,  1.14528308e+00,\n",
       "        -5.08609915e-02, -2.00910664e-03, -1.32300218e+00,\n",
       "        -5.99791902e-02, -5.59385598e-02,  1.25146678e-01,\n",
       "         2.66602019e-01, -5.89419481e-01, -8.88106529e-01,\n",
       "        -1.21489516e-02, -7.86098324e-02,  1.35153072e+00,\n",
       "        -1.73761058e-01, -5.45548137e-02,  6.81703539e-01],\n",
       "       [ 4.02567797e-02,  7.37006941e-02,  1.51220346e-01,\n",
       "         3.50104646e-04,  2.97499059e-02, -1.49390547e-01,\n",
       "         6.58229731e-04, -6.65323480e-02, -2.11156510e-02,\n",
       "         5.66169647e-02, -2.21656378e-02, -1.21489516e-02,\n",
       "         1.65523058e-03, -9.07059707e-02,  1.01644924e-01,\n",
       "        -5.61101797e-04,  1.76401155e-01,  4.27059949e-02],\n",
       "       [-3.17010640e-03,  6.13450459e-02,  1.86459597e-02,\n",
       "        -4.84966857e-02, -4.39690395e-02,  8.36195484e-02,\n",
       "        -1.53512338e-02,  7.60428324e-02, -2.86883217e-02,\n",
       "         1.53894570e-02, -1.10957545e-02, -7.86098324e-02,\n",
       "        -9.07059707e-02, -2.53366693e-01,  1.34825210e-01,\n",
       "        -6.08868208e-02, -2.10045341e-01, -4.66494871e-02],\n",
       "       [ 6.61553464e-02, -5.69233697e-02, -6.70683401e-01,\n",
       "        -4.38667440e-01,  2.57959519e-01, -7.46502637e-02,\n",
       "         4.68791999e-01, -1.62888997e-01, -4.54303842e-01,\n",
       "        -2.26624571e-02, -5.60640287e-01,  1.35153072e+00,\n",
       "         1.01644924e-01,  1.34825210e-01,  7.15562992e-02,\n",
       "        -1.96826579e-01,  8.40269831e-02, -4.49552469e-01],\n",
       "       [-1.02894694e-01,  1.58138526e-01,  8.44505802e-02,\n",
       "        -6.79300628e-04,  1.94768031e-02,  3.33608101e-02,\n",
       "         1.25846053e-04, -4.43532965e-02, -1.48763498e-02,\n",
       "         1.27771188e-02, -9.99001945e-02, -1.73761058e-01,\n",
       "        -5.61101797e-04, -6.08868208e-02, -1.96826579e-01,\n",
       "        -1.47843794e-03,  1.16942853e-01, -8.52781935e-02],\n",
       "       [-4.24642417e-03,  4.29358442e-02,  1.12005816e-02,\n",
       "         9.76729141e-02, -5.20421351e-02,  5.91103965e-02,\n",
       "         3.42198382e-02,  4.27760568e-02, -1.90313185e-02,\n",
       "         1.00296403e-02, -8.00609514e-03, -5.45548137e-02,\n",
       "         1.76401155e-01, -2.10045341e-01,  8.40269831e-02,\n",
       "         1.16942853e-01, -1.67319924e-01, -3.33899728e-02],\n",
       "       [ 6.29344758e-02,  1.11921921e-01, -5.91804132e-01,\n",
       "        -1.66141550e-01,  5.00940088e-02,  4.52738015e-01,\n",
       "         1.74754261e-01, -8.61527708e-02, -1.52526574e-01,\n",
       "        -1.02725268e-01,  6.22470019e-02,  6.81703539e-01,\n",
       "         4.27059949e-02, -4.66494871e-02, -4.49552469e-01,\n",
       "        -8.52781935e-02, -3.33899728e-02, -3.56102111e-01]])"
      ]
     },
     "execution_count": 21,
     "metadata": {},
     "output_type": "execute_result"
    }
   ],
   "source": [
    "make_dP(mf,mo1[1][2])"
   ]
  },
  {
   "cell_type": "code",
   "execution_count": 22,
   "id": "8c93db00",
   "metadata": {},
   "outputs": [],
   "source": [
    "mocc = mo_coeff[:,mo_occ>0]\n",
    "dm1 = numpy.einsum('pi,qi->pq', mo1[1][2], mocc)*4"
   ]
  },
  {
   "cell_type": "code",
   "execution_count": 23,
   "id": "407fd592",
   "metadata": {},
   "outputs": [],
   "source": [
    "dP_fd=(P_nn_p-P_nn_m)/.06\n",
    "#norm(dP_fd),plt.matshow(dP_fd)"
   ]
  },
  {
   "cell_type": "code",
   "execution_count": 24,
   "id": "fff04f73",
   "metadata": {},
   "outputs": [
    {
     "data": {
      "text/plain": [
       "(2.1302248952420735, 1.484573087928625, 1.527351094517675)"
      ]
     },
     "execution_count": 24,
     "metadata": {},
     "output_type": "execute_result"
    },
    {
     "data": {
      "image/png": "[encoded data removed]",
      "text/plain": [
       "<Figure size 288x288 with 1 Axes>"
      ]
     },
     "metadata": {
      "needs_background": "light"
     },
     "output_type": "display_data"
    },
    {
     "data": {
      "image/png": "[encoded data removed]",
      "text/plain": [
       "<Figure size 288x288 with 1 Axes>"
      ]
     },
     "metadata": {
      "needs_background": "light"
     },
     "output_type": "display_data"
    }
   ],
   "source": [
    "plt.matshow(dm1),plt.matshow(dP_fd)\n",
    "norm(dm1),norm(dP_fd),norm(dm1-dP_fd)"
   ]
  },
  {
   "cell_type": "code",
   "execution_count": 29,
   "id": "2ffa30e4",
   "metadata": {},
   "outputs": [],
   "source": [
    "h1ao=h1[2]"
   ]
  },
  {
   "cell_type": "code",
   "execution_count": 30,
   "id": "dffc351e",
   "metadata": {},
   "outputs": [
    {
     "data": {
      "text/plain": [
       "(0.5881628203825866, 0.5884961311891569)"
      ]
     },
     "execution_count": 30,
     "metadata": {},
     "output_type": "execute_result"
    }
   ],
   "source": [
    "numpy.einsum('pq,pq', h1ao, dm1),numpy.einsum('pq,pq', h1ao, dP_fd)"
   ]
  },
  {
   "cell_type": "markdown",
   "id": "f42406fb",
   "metadata": {},
   "source": [
    "# Comments:\n",
    "Unfortunatly the density deriv. analytical differs from the one by finite difference, though they give the same integration results with h1ao, that means that they can be used to evalaute derivatives, and probabily the density matrix is degenerate (which is possible given the high symmetry of the system) :(\n"
   ]
  },
  {
   "cell_type": "markdown",
   "id": "bdc61b5a",
   "metadata": {},
   "source": [
    "Solve_mo1\n",
    "    atmlst = range(mol.natm)\n",
    "    nao, nmo = mo_coeff.shape\n",
    "    mocc = mo_coeff[:,mo_occ>0]\n",
    "    nocc = mocc.shape[1]\n",
    "\n",
    "    fx = gen_vind(mf, mo_coeff, mo_occ)\n",
    "    s1a = -mol.intor('int1e_ipovlp', comp=3)\n",
    "\n",
    "    def _ao2mo(mat):\n",
    "        return numpy.asarray([reduce(numpy.dot, (mo_coeff.T, x, mocc)) for x in mat])\n",
    "\n",
    "    mem_now = lib.current_memory()[0]\n",
    "    max_memory = max(2000, max_memory*.9-mem_now)\n",
    "    blksize = max(2, int(max_memory*1e6/8 / (nmo*nocc*3*6)))\n",
    "    mo1s = [None] * mol.natm\n",
    "    e1s = [None] * mol.natm\n",
    "    aoslices = mol.aoslice_by_atom()\n",
    "    for ia0, ia1 in lib.prange(0, len(atmlst), blksize):   #solo per non andare fuori memoria\n",
    "        s1vo = []\n",
    "        h1vo = []\n",
    "        for i0 in range(ia0, ia1):\n",
    "            ia = atmlst[i0]\n",
    "            shl0, shl1, p0, p1 = aoslices[ia]\n",
    "            s1ao = numpy.zeros((3,nao,nao))\n",
    "            s1ao[:,p0:p1] += s1a[:,p0:p1]\n",
    "            s1ao[:,:,p0:p1] += s1a[:,p0:p1].transpose(0,2,1)\n",
    "            s1vo.append(_ao2mo(s1ao))\n",
    "            h1ao = h1ao_or_chkfile[ia]\n",
    "            h1vo.append(_ao2mo(h1ao))\n",
    "\n",
    "        h1vo = numpy.vstack(h1vo)\n",
    "        s1vo = numpy.vstack(s1vo)\n",
    "        mo1, e1 = cphf.solve(fx, mo_energy, mo_occ, h1vo, s1vo)\n",
    "        mo1 = numpy.einsum('pq,xqi->xpi', mo_coeff, mo1).reshape(-1,3,nao,nocc)\n",
    "        e1 = e1.reshape(-1,3,nocc,nocc)\n",
    "\n",
    "        for k in range(ia1-ia0):\n",
    "            ia = atmlst[k+ia0]\n",
    "            if isinstance(h1ao_or_chkfile, str):\n",
    "                key = 'scf_mo1/%d' % ia\n",
    "                lib.chkfile.save(h1ao_or_chkfile, key, mo1[k])\n",
    "            else:\n",
    "                mo1s[ia] = mo1[k]\n",
    "            e1s[ia] = e1[k].reshape(3,nocc,nocc)\n",
    "        mo1 = e1 = None\n",
    "    else:\n",
    "        return mo1s, e1s\n"
   ]
  },
  {
   "cell_type": "code",
   "execution_count": 31,
   "id": "4ed22bae",
   "metadata": {},
   "outputs": [
    {
     "data": {
      "text/plain": [
       "(3.7107760459963344, 4.095506981065465, 1.7330085309702807)"
      ]
     },
     "execution_count": 31,
     "metadata": {},
     "output_type": "execute_result"
    }
   ],
   "source": [
    "mol=nn\n",
    "s1a = -mol.intor('int1e_ipovlp', comp=3)\n",
    "norm(s1a[2]),norm(s1a[2]-dS),norm(dS) #s1a=!dS"
   ]
  },
  {
   "cell_type": "code",
   "execution_count": 32,
   "id": "b7908a35",
   "metadata": {},
   "outputs": [],
   "source": [
    "atmlst = range(mol.natm)\n",
    "nao, nmo = mo_coeff.shape\n",
    "mocc = mo_coeff[:,mo_occ>0]\n",
    "nocc = mocc.shape[1]"
   ]
  },
  {
   "cell_type": "code",
   "execution_count": 33,
   "id": "0432a347",
   "metadata": {},
   "outputs": [],
   "source": [
    "mem_now = lib.current_memory()[0]\n",
    "max_memory = max(2000, max_memory*.9-mem_now)\n",
    "ia0, ia1=0,2\n",
    "s1vo = []\n",
    "h1vo = []\n",
    "for i0 in range(ia0, ia1):   # sei nel range di memoria i0 e' l'atomo rispetto al quale derivi\n",
    "    ia = atmlst[i0]\n",
    "    shl0, shl1, p0, p1 = aoslices[ia]\n",
    "    s1ao = numpy.zeros((3,nao,nao))\n",
    "    s1ao[:,p0:p1] += s1a[:,p0:p1]\n",
    "    s1ao[:,:,p0:p1] += s1a[:,p0:p1].transpose(0,2,1)"
   ]
  },
  {
   "cell_type": "code",
   "execution_count": 34,
   "id": "e7804420",
   "metadata": {},
   "outputs": [
    {
     "data": {
      "text/plain": [
       "(3, 18, 18)"
      ]
     },
     "execution_count": 34,
     "metadata": {},
     "output_type": "execute_result"
    }
   ],
   "source": [
    "s1ao.shape"
   ]
  },
  {
   "cell_type": "code",
   "execution_count": 35,
   "id": "4bbe6bb5",
   "metadata": {},
   "outputs": [
    {
     "name": "stdout",
     "output_type": "stream",
     "text": [
      "0.0003968137125041214\n"
     ]
    }
   ],
   "source": [
    "print(norm(s1ao[2]-dS))"
   ]
  },
  {
   "cell_type": "code",
   "execution_count": 36,
   "id": "190b6cc2",
   "metadata": {},
   "outputs": [
    {
     "data": {
      "text/plain": [
       "array([0, 5, 0, 9])"
      ]
     },
     "execution_count": 36,
     "metadata": {},
     "output_type": "execute_result"
    }
   ],
   "source": [
    "aoslices[0]"
   ]
  },
  {
   "cell_type": "code",
   "execution_count": 37,
   "id": "6b1d926a",
   "metadata": {},
   "outputs": [
    {
     "data": {
      "text/plain": [
       "1.7330085309702805"
      ]
     },
     "execution_count": 37,
     "metadata": {},
     "output_type": "execute_result"
    }
   ],
   "source": [
    "norm(s1a[2]+s1a[2].T-dS)"
   ]
  },
  {
   "cell_type": "code",
   "execution_count": 38,
   "id": "8f2306d1",
   "metadata": {},
   "outputs": [
    {
     "data": {
      "text/plain": [
       "(3, 18, 18)"
      ]
     },
     "execution_count": 38,
     "metadata": {},
     "output_type": "execute_result"
    }
   ],
   "source": [
    "s1a.shape"
   ]
  },
  {
   "cell_type": "code",
   "execution_count": 39,
   "id": "65b6f328",
   "metadata": {},
   "outputs": [
    {
     "name": "stdout",
     "output_type": "stream",
     "text": [
      "1.7330085309702805\n",
      "1.7330085309702807\n"
     ]
    },
    {
     "data": {
      "text/plain": [
       "(None, None)"
      ]
     },
     "execution_count": 39,
     "metadata": {},
     "output_type": "execute_result"
    }
   ],
   "source": [
    "print(norm(dS-(s1a + s1a.transpose(0,2,1))[2])),print(norm(dS))"
   ]
  },
  {
   "cell_type": "code",
   "execution_count": null,
   "id": "27ebd08f",
   "metadata": {},
   "outputs": [],
   "source": []
  },
  {
   "cell_type": "code",
   "execution_count": null,
   "id": "f16becec",
   "metadata": {},
   "outputs": [],
   "source": []
  }
 ],
 "metadata": {
  "kernelspec": {
   "display_name": "Python 3",
   "language": "python",
   "name": "python3"
  },
  "language_info": {
   "codemirror_mode": {
    "name": "ipython",
    "version": 3
   },
   "file_extension": ".py",
   "mimetype": "text/x-python",
   "name": "python",
   "nbconvert_exporter": "python",
   "pygments_lexer": "ipython3",
   "version": "3.8.8"
  }
 },
 "nbformat": 4,
 "nbformat_minor": 5
}
