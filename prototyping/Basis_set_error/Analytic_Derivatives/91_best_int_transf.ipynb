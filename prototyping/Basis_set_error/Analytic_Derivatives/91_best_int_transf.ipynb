{
 "cells": [
  {
   "cell_type": "code",
   "execution_count": 1,
   "id": "5a53e1ff",
   "metadata": {},
   "outputs": [],
   "source": [
    "import basis_set_exchange as bse\n",
    "import scipy as sp\n",
    "import matplotlib.pyplot as plt\n",
    "from pyscf import gto,scf\n",
    "import copy\n",
    "import numpy as np\n",
    "import scipy\n",
    "from scipy.interpolate import interp1d\n",
    "from pyscf.data.elements import _symbol\n",
    "from pyscf.grad import RHF as g\n",
    "import inspect\n",
    "import sys\n",
    "sys.path.append(\"../Libs\")\n",
    "from FcMole import FcM,FcM_like\n",
    "from FDcoeffs import get_coeffs\n",
    "from ao_scf import ao_RHF\n",
    "from numpy.linalg import norm"
   ]
  },
  {
   "cell_type": "code",
   "execution_count": 2,
   "id": "a3f944e9",
   "metadata": {},
   "outputs": [],
   "source": [
    "from functools import reduce\n",
    "import ctypes\n",
    "import numpy\n",
    "from pyscf import lib\n",
    "from pyscf import gto\n",
    "from pyscf.lib import logger\n",
    "from pyscf.scf import _vhf\n",
    "from pyscf.scf import cphf\n",
    "\n",
    "# import _response_functions to load gen_response methods in SCF class\n",
    "from pyscf.scf import _response_functions  # noqa\n",
    "# import pyscf.grad.rhf to activate nuc_grad_method method\n",
    "from pyscf.grad import rhf  # noqa"
   ]
  },
  {
   "cell_type": "code",
   "execution_count": 3,
   "id": "f34da51a",
   "metadata": {},
   "outputs": [],
   "source": [
    "def make_dP(mf,mo1):\n",
    "    mol=mf.mol\n",
    "    nao=mol.nao\n",
    "    nocc=mf.mol.nelec[0]\n",
    "    C=mf.mo_coeff\n",
    "    dP=np.zeros_like(C)\n",
    "    dP[:,:]=2*np.einsum('ij,jk,lk->il',C,mo1,C[:,:nocc])\n",
    "    return dP+dP.T\n",
    "\n",
    "def make_U(mo1):\n",
    "    U=np.zeros((mo1.shape[0],mo1.shape[0]))\n",
    "    U[:,:mo1.shape[1]]=mo1\n",
    "    U=U-U.T\n",
    "    return U"
   ]
  },
  {
   "cell_type": "code",
   "execution_count": 4,
   "id": "874fa3c8",
   "metadata": {},
   "outputs": [],
   "source": [
    "import inspect\n",
    "import sys\n",
    "sys.path.append(\"../Libs\")\n",
    "from FcMole import FcM\n",
    "from FDcoeffs import get_coeffs\n",
    "from ao_scf import ao_RHF"
   ]
  },
  {
   "cell_type": "code",
   "execution_count": 54,
   "id": "e1783705",
   "metadata": {},
   "outputs": [
    {
     "name": "stdout",
     "output_type": "stream",
     "text": [
      "converged SCF energy = -108.867942022953\n",
      "converged SCF energy = -128.797709060453\n",
      "converged SCF energy = -92.2174104946118\n"
     ]
    }
   ],
   "source": [
    "nn=gto.M(atom=\"N 0 0 0; N 0 0 2.05\",unit=\"Bohr\",basis=bse.get_basis(\"6-31g\",fmt=\"nwchem\",elements=[6,7,8]))\n",
    "mf_nn=scf.RHF(nn)\n",
    "e_nn=mf_nn.scf()\n",
    "mf=mf_nn\n",
    "P_nn=mf_nn.make_rdm1()\n",
    "S_nn=mf_nn.get_ovlp()\n",
    "h1_nn=mf_nn.get_hcore()\n",
    "G_nn=nn.intor('int2e', aosym='s8')\n",
    "########\n",
    "on=gto.M(atom=\"O 0 0 0; N 0 0 2.05\",unit=\"Bohr\",basis=bse.get_basis(\"6-31g\",fmt=\"nwchem\",elements=[6,7,8]),\\\n",
    "           charge=1) # ON\n",
    "mf_on=scf.RHF(on)\n",
    "e_on=mf_on.scf()\n",
    "P_on=mf_on.make_rdm1()\n",
    "S_on=mf_on.get_ovlp()\n",
    "h1_on=mf_on.get_hcore()\n",
    "G_on=on.intor('int2e', aosym='s8')\n",
    "\n",
    "########\n",
    "cn=gto.M(atom=\"C 0 0 0; N 0 0 2.05\",unit=\"Bohr\",basis=bse.get_basis(\"6-31g\",fmt=\"nwchem\",elements=[6,7,8]),\\\n",
    "           charge=-1)# CN\n",
    "mf_cn=scf.RHF(cn)\n",
    "e_cn=mf_cn.scf()\n",
    "P_cn=mf_cn.make_rdm1()\n",
    "S_cn=mf_cn.get_ovlp()\n",
    "h1_cn=mf_cn.get_hcore()\n",
    "G_cn=cn.intor('int2e', aosym='s8')\n"
   ]
  },
  {
   "cell_type": "code",
   "execution_count": 6,
   "id": "1d204234",
   "metadata": {},
   "outputs": [],
   "source": [
    "dS=(S_on-S_cn)/2\n",
    "dh1=(h1_on-h1_cn)/2\n",
    "dG=(G_on-G_cn)/2\n",
    "dVnn=(8*7-7*7)/2.05\n",
    "d2S=(mf_on.get_ovlp()+mf_cn.get_ovlp()-2*mf.get_ovlp())\n",
    "d2h1=(mf_on.get_hcore()+mf_cn.get_hcore()-2*mf.get_hcore())\n",
    "d2G=(G_on+G_cn-2*G_nn)\n",
    "dG4d=(on.intor('int2e')-cn.intor('int2e'))/2"
   ]
  },
  {
   "cell_type": "code",
   "execution_count": 7,
   "id": "89f1612f",
   "metadata": {},
   "outputs": [],
   "source": [
    "def S(l):\n",
    "    return S_nn+dS*l+d2S*l**2/2\n",
    "def h1(l):\n",
    "    return h1_nn+dh1*l+d2h1*l**2/2\n",
    "def eri(l):\n",
    "    return G_nn+dG*l+d2G*l**2/2"
   ]
  },
  {
   "cell_type": "code",
   "execution_count": 8,
   "id": "5b8a2af0",
   "metadata": {},
   "outputs": [],
   "source": [
    "#new definition\n",
    "def S(l):\n",
    "    return S_nn*(1-l)+S_on*l\n",
    "def h1(l):\n",
    "    return h1_nn*(1-l)+h1_on*l\n",
    "def eri(l):\n",
    "    return G_nn*(1-l)+G_on*l"
   ]
  },
  {
   "cell_type": "code",
   "execution_count": 84,
   "id": "f6cdbc88",
   "metadata": {},
   "outputs": [
    {
     "name": "stdout",
     "output_type": "stream",
     "text": [
      "converged SCF energy = -109.851667743544\n",
      "converged SCF energy = -107.889646292597\n",
      "converged SCF energy = -109.851667743543\n",
      "converged SCF energy = -107.889646292597\n"
     ]
    }
   ],
   "source": [
    "def aorhf(l):\n",
    "    return ao_RHF(FcM_like(nn,fcs=[l,0]),S_ao=S(l),hcore=h1(l),eri=eri(l))\n",
    "def E(l):\n",
    "    return ao_RHF(FcM_like(nn,fcs=[l,0]),S_ao=S(l),hcore=h1(l),eri=eri(l)).scf()\n",
    "def P(l):\n",
    "    mf=ao_RHF(FcM_like(nn,fcs=[l,0]),S_ao=S(l),hcore=h1(l),eri=eri(l))\n",
    "    mf.scf()\n",
    "    return mf.make_rdm1()\n",
    "dP_fd=(P(.05)-P(-.05))/.1\n",
    "dE_fd=(E(.05)-E(-.05))/.1"
   ]
  },
  {
   "cell_type": "code",
   "execution_count": 85,
   "id": "5992d95f",
   "metadata": {},
   "outputs": [
    {
     "name": "stdout",
     "output_type": "stream",
     "text": [
      "converged SCF energy = -110.839252852605\n",
      "14.0\n",
      "converged SCF energy = -114.808775730675\n",
      "14.0\n",
      "converged SCF energy = -118.789834387748\n",
      "14.000000000000007\n",
      "converged SCF energy = -122.779687295848\n",
      "13.999999999999998\n",
      "converged SCF energy = -126.785557967216\n",
      "14.000000000000002\n"
     ]
    }
   ],
   "source": [
    "ps=[]\n",
    "es=[]\n",
    "ls=np.linspace(.1,.9,5)\n",
    "for i in ls:\n",
    "    ps.append(P(i))\n",
    "    print(np.einsum(\"ij,ij\",S(i),ps[-1]))"
   ]
  },
  {
   "cell_type": "code",
   "execution_count": 89,
   "id": "66ba2c66",
   "metadata": {},
   "outputs": [
    {
     "data": {
      "text/plain": [
       "[<matplotlib.lines.Line2D at 0x7f363c04e460>]"
      ]
     },
     "execution_count": 89,
     "metadata": {},
     "output_type": "execute_result"
    },
    {
     "data": {
      "image/png": "[encoded data removed]",
      "text/plain": [
       "<Figure size 432x288 with 1 Axes>"
      ]
     },
     "metadata": {
      "needs_background": "light"
     },
     "output_type": "display_data"
    }
   ],
   "source": [
    "plt.plot([norm(P_nn-ps[x])for x in range(5)])"
   ]
  },
  {
   "cell_type": "code",
   "execution_count": 90,
   "id": "e4963719",
   "metadata": {},
   "outputs": [
    {
     "name": "stdout",
     "output_type": "stream",
     "text": [
      "converged SCF energy = -106.918713211598\n",
      "converged SCF energy = -109.605319586464\n",
      "converged SCF energy = -112.325331264259\n",
      "converged SCF energy = -115.057377911261\n",
      "converged SCF energy = -117.793908855166\n",
      "converged SCF energy = -120.533991238139\n",
      "converged SCF energy = -123.279353884185\n",
      "converged SCF energy = -126.032787363335\n",
      "converged SCF energy = -128.797709060448\n"
     ]
    },
    {
     "data": {
      "text/plain": [
       "[<matplotlib.lines.Line2D at 0x7f363c260490>]"
      ]
     },
     "execution_count": 90,
     "metadata": {},
     "output_type": "execute_result"
    },
    {
     "data": {
      "image/png": "[encoded data removed]",
      "text/plain": [
       "<Figure size 432x288 with 1 Axes>"
      ]
     },
     "metadata": {
      "needs_background": "light"
     },
     "output_type": "display_data"
    }
   ],
   "source": [
    "plt.plot([E(l) for l in np.linspace(-.1,1,9)])"
   ]
  },
  {
   "cell_type": "code",
   "execution_count": 91,
   "id": "050ee181",
   "metadata": {},
   "outputs": [
    {
     "name": "stdout",
     "output_type": "stream",
     "text": [
      "converged SCF energy = -109.851667743544\n",
      "converged SCF energy = -107.889646292597\n"
     ]
    }
   ],
   "source": [
    "dE_fd=(E(.05)-E(-.05))/.1"
   ]
  },
  {
   "cell_type": "code",
   "execution_count": 92,
   "id": "d7cd84c6",
   "metadata": {},
   "outputs": [
    {
     "data": {
      "text/plain": [
       "(-128.4881565324188, -128.79770906045297)"
      ]
     },
     "execution_count": 92,
     "metadata": {},
     "output_type": "execute_result"
    }
   ],
   "source": [
    "e_nn+dE_fd,e_on"
   ]
  },
  {
   "cell_type": "code",
   "execution_count": 93,
   "id": "f0758b3f",
   "metadata": {},
   "outputs": [
    {
     "name": "stdout",
     "output_type": "stream",
     "text": [
      "13.99513641707933\n",
      "0.1\n",
      "13.983998755608447\n",
      "0.30000000000000004\n",
      "13.98089297757673\n",
      "0.5\n",
      "13.986236648852532\n",
      "0.7000000000000001\n",
      "13.995366170597654\n",
      "0.9\n"
     ]
    }
   ],
   "source": [
    "np.einsum(\"ij,ij\",P_nn,S_nn)\n",
    "\n",
    "for i in range(5):\n",
    "    print(np.einsum(\"ij,ij\",ps[i],S_nn+dS*(.1+.2*i) +d2S*(.1+.2*i)**2/2))\n",
    "    print((.1+.2*i))\n"
   ]
  },
  {
   "cell_type": "code",
   "execution_count": 94,
   "id": "6dc69ea0",
   "metadata": {},
   "outputs": [
    {
     "data": {
      "text/plain": [
       "array([0.1, 0.3, 0.5, 0.7, 0.9])"
      ]
     },
     "execution_count": 94,
     "metadata": {},
     "output_type": "execute_result"
    }
   ],
   "source": [
    "ls"
   ]
  },
  {
   "cell_type": "code",
   "execution_count": 95,
   "id": "11aa9c7d",
   "metadata": {},
   "outputs": [
    {
     "name": "stdout",
     "output_type": "stream",
     "text": [
      "converged SCF energy = -128.797709060448\n",
      "14.000000000000005\n",
      "converged SCF energy = -128.797709060448\n",
      "13.999999999999998\n"
     ]
    }
   ],
   "source": [
    "print(np.einsum(\"ij,ij\",P(1),S_on ))\n",
    "print(np.einsum(\"ij,ij\",P(1),S_nn+dS+d2S/2))"
   ]
  },
  {
   "cell_type": "code",
   "execution_count": 96,
   "id": "bc077cc3",
   "metadata": {},
   "outputs": [
    {
     "data": {
      "text/plain": [
       "13.37211312799859"
      ]
     },
     "execution_count": 96,
     "metadata": {},
     "output_type": "execute_result"
    }
   ],
   "source": [
    "norm(P_nn-P_on+dP_fd)"
   ]
  },
  {
   "cell_type": "code",
   "execution_count": 97,
   "id": "e8dd2fc4",
   "metadata": {},
   "outputs": [
    {
     "name": "stdout",
     "output_type": "stream",
     "text": [
      "4.814400330696583\n",
      "5.741086059494605\n",
      "5.632591390301266\n",
      "5.046072875826661\n",
      "4.50176833658981\n"
     ]
    },
    {
     "data": {
      "text/plain": [
       "(4.252847014306553, 4.3179897277972605)"
      ]
     },
     "execution_count": 97,
     "metadata": {},
     "output_type": "execute_result"
    }
   ],
   "source": [
    "for p in ps:\n",
    "    print(norm(p))\n",
    "norm(P_nn),norm(P_on)"
   ]
  },
  {
   "cell_type": "code",
   "execution_count": 98,
   "id": "5a8c902b",
   "metadata": {},
   "outputs": [],
   "source": [
    "def e_p(p,h1,g):\n",
    "    e1e=np.einsum(\"ij,ij\",h1,p)   # monoelect operator \n",
    "    \n",
    "    e2eK=np.einsum(\"ijkl,ij,kl\",g,p,p)/2  # Coulomb repulsion\n",
    "    e2eX=-1/4*np.einsum(\"ijkl,ik,jl\",g,p,p)  # Exchange energy \n",
    "    print(e1e,e2eK+e2eX)\n",
    "    return e1e+e2eK+e2eX"
   ]
  },
  {
   "cell_type": "code",
   "execution_count": 99,
   "id": "28902b7f",
   "metadata": {},
   "outputs": [
    {
     "name": "stdout",
     "output_type": "stream",
     "text": [
      "-172.51273861155624 59.82780400974686\n"
     ]
    },
    {
     "data": {
      "text/plain": [
       "(-92.19712972376058, -92.21741049461178)"
      ]
     },
     "execution_count": 99,
     "metadata": {},
     "output_type": "execute_result"
    }
   ],
   "source": [
    "e_p(P_nn,h1_cn,cn.intor('int2e'))+mf_cn.energy_nuc(),e_cn"
   ]
  },
  {
   "cell_type": "code",
   "execution_count": 100,
   "id": "9bec4bbc",
   "metadata": {},
   "outputs": [
    {
     "data": {
      "text/plain": [
       "(-112.70521537266058, 56.90826669217236)"
      ]
     },
     "execution_count": 100,
     "metadata": {},
     "output_type": "execute_result"
    }
   ],
   "source": [
    "mf_cn.energy_elec()  # total ee, 2e contribs"
   ]
  },
  {
   "cell_type": "code",
   "execution_count": 101,
   "id": "bd7966b4",
   "metadata": {},
   "outputs": [
    {
     "name": "stdout",
     "output_type": "stream",
     "text": [
      "-219.0867022631 63.43775205415585\n"
     ]
    },
    {
     "data": {
      "text/plain": [
       "-128.33187703821247"
      ]
     },
     "execution_count": 101,
     "metadata": {},
     "output_type": "execute_result"
    }
   ],
   "source": [
    "e_p(P_nn,h1_on,on.intor('int2e'))+on.energy_nuc()"
   ]
  },
  {
   "cell_type": "code",
   "execution_count": 102,
   "id": "72128a89",
   "metadata": {},
   "outputs": [
    {
     "data": {
      "text/plain": [
       "(-128.79770906045297, -128.79770906045297)"
      ]
     },
     "execution_count": 102,
     "metadata": {},
     "output_type": "execute_result"
    }
   ],
   "source": [
    "mf_on.energy_elec()[0]+on.energy_nuc(),mf_on.e_tot"
   ]
  },
  {
   "cell_type": "code",
   "execution_count": 103,
   "id": "29c54fbd",
   "metadata": {},
   "outputs": [
    {
     "data": {
      "text/plain": [
       "13.84313650323664"
      ]
     },
     "execution_count": 103,
     "metadata": {},
     "output_type": "execute_result"
    }
   ],
   "source": [
    "np.einsum(\"ij,ij\",S_on,P_nn)"
   ]
  },
  {
   "cell_type": "code",
   "execution_count": 104,
   "id": "fcaa0e8c",
   "metadata": {},
   "outputs": [
    {
     "name": "stdout",
     "output_type": "stream",
     "text": [
      "converged SCF energy = -37.5882039823797\n",
      "converged SCF energy = -54.3820511123246\n",
      "converged SCF energy = -74.6558129569296\n"
     ]
    }
   ],
   "source": [
    "c=gto.M(atom=\"C 0 0 0\",basis=bse.get_basis(\"6-31g\",fmt=\"nwchem\",elements=[6,7,8]))\n",
    "n=gto.M(atom=\"N 0 0 0\",basis=bse.get_basis(\"6-31g\",fmt=\"nwchem\",elements=[6,7,8]),spin=3)\n",
    "o=gto.M(atom=\"O 0 0 0\",basis=bse.get_basis(\"6-31g\",fmt=\"nwchem\",elements=[6,7,8]))\n",
    "mf_c=scf.RHF(c)\n",
    "mf_c.scf()\n",
    "P_c=mf_c.make_rdm1()\n",
    "mf_n=scf.RHF(n)\n",
    "mf_n.scf()\n",
    "P_n=mf_n.make_rdm1()\n",
    "mf_o=scf.RHF(o)\n",
    "mf_o.scf()\n",
    "P_o=mf_o.make_rdm1()"
   ]
  },
  {
   "cell_type": "code",
   "execution_count": 105,
   "id": "b3499c1d",
   "metadata": {},
   "outputs": [],
   "source": [
    "P_nn_copy=copy.deepcopy(P_nn)"
   ]
  },
  {
   "cell_type": "code",
   "execution_count": 106,
   "id": "96023627",
   "metadata": {},
   "outputs": [
    {
     "data": {
      "text/plain": [
       "(2.0838392175423768, 2.0838392175423768)"
      ]
     },
     "execution_count": 106,
     "metadata": {},
     "output_type": "execute_result"
    }
   ],
   "source": [
    "P_nn_copy[0,0],P_nn[0,0]"
   ]
  },
  {
   "cell_type": "code",
   "execution_count": 107,
   "id": "21ea7baa",
   "metadata": {},
   "outputs": [
    {
     "data": {
      "text/plain": [
       "(0.7959704688805782, 0.7839644175899312)"
      ]
     },
     "execution_count": 107,
     "metadata": {},
     "output_type": "execute_result"
    }
   ],
   "source": [
    "P_nn_copy=copy.deepcopy(P_nn)\n",
    "P_nn_copy[:4,:4]+=(P_o-P_n[0]-P_n[1])[:4,:4]\n",
    "norm(P_nn-P_on),norm(P_nn_copy-P_on)"
   ]
  },
  {
   "cell_type": "code",
   "execution_count": 108,
   "id": "e57e4df8",
   "metadata": {},
   "outputs": [
    {
     "data": {
      "text/plain": [
       "(2, 9, 9)"
      ]
     },
     "execution_count": 108,
     "metadata": {},
     "output_type": "execute_result"
    }
   ],
   "source": [
    "P_n.shape"
   ]
  },
  {
   "cell_type": "code",
   "execution_count": 110,
   "id": "eff28461",
   "metadata": {},
   "outputs": [
    {
     "data": {
      "text/plain": [
       "array([[ 2.0838, -0.1783, -0.2857, -0.    , -0.    ,  0.0432,  0.    ,\n",
       "        -0.    ,  0.0137],\n",
       "       [-0.1783,  0.504 ,  0.5628,  0.    , -0.    , -0.0392, -0.    ,\n",
       "        -0.    , -0.0396],\n",
       "       [-0.2857,  0.5628,  0.9357, -0.    ,  0.    , -0.4676, -0.    ,\n",
       "         0.    , -0.1519],\n",
       "       [-0.    ,  0.    , -0.    ,  0.3955, -0.    , -0.    ,  0.2231,\n",
       "        -0.    , -0.    ],\n",
       "       [-0.    , -0.    ,  0.    , -0.    ,  0.3955, -0.    , -0.    ,\n",
       "         0.2231,  0.    ],\n",
       "       [ 0.0432, -0.0392, -0.4676, -0.    , -0.    ,  0.6396, -0.    ,\n",
       "        -0.    ,  0.1867],\n",
       "       [ 0.    , -0.    , -0.    ,  0.2231, -0.    , -0.    ,  0.1259,\n",
       "        -0.    , -0.    ],\n",
       "       [-0.    , -0.    ,  0.    , -0.    ,  0.2231, -0.    , -0.    ,\n",
       "         0.1259,  0.    ],\n",
       "       [ 0.0137, -0.0396, -0.1519, -0.    ,  0.    ,  0.1867, -0.    ,\n",
       "         0.    ,  0.0651]])"
      ]
     },
     "execution_count": 110,
     "metadata": {},
     "output_type": "execute_result"
    }
   ],
   "source": [
    "np.around(P_nn[:9,:9],decimals=4)"
   ]
  },
  {
   "cell_type": "code",
   "execution_count": 119,
   "id": "1de82010",
   "metadata": {},
   "outputs": [
    {
     "data": {
      "text/plain": [
       "(7.573377798290602, 0.2358410660797989, 5.954940069549796, 13.999999999999996)"
      ]
     },
     "execution_count": 119,
     "metadata": {},
     "output_type": "execute_result"
    }
   ],
   "source": [
    "np.einsum(\"ij,ij\",S_on[:9,:9],P_on[:9,:9]),np.einsum(\"ij,ij\",S_on[:9,9:],P_on[:9,9:]),\\\n",
    "np.einsum(\"ij,ij\",S_on[9:,9:],P_on[9:,9:]),(np.einsum(\"ij,ij\",S_on[:9,:9],P_on[:9,:9])+2*np.einsum(\"ij,ij\",S_on[:9,9:],P_on[:9,9:])+\\\n",
    "np.einsum(\"ij,ij\",S_on[9:,9:],P_on[9:,9:]))\n",
    "\n",
    "\n"
   ]
  },
  {
   "cell_type": "code",
   "execution_count": null,
   "id": "d5597961",
   "metadata": {},
   "outputs": [],
   "source": []
  }
 ],
 "metadata": {
  "kernelspec": {
   "display_name": "Python 3",
   "language": "python",
   "name": "python3"
  },
  "language_info": {
   "codemirror_mode": {
    "name": "ipython",
    "version": 3
   },
   "file_extension": ".py",
   "mimetype": "text/x-python",
   "name": "python",
   "nbconvert_exporter": "python",
   "pygments_lexer": "ipython3",
   "version": "3.8.8"
  }
 },
 "nbformat": 4,
 "nbformat_minor": 5
}
