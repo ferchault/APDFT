{
 "cells": [
  {
   "cell_type": "code",
   "execution_count": 52,
   "metadata": {},
   "outputs": [],
   "source": [
    "import basis_set_exchange as bse\n",
    "import scipy as sp\n",
    "import matplotlib.pyplot as plt\n",
    "from pyscf import gto,scf\n",
    "import copy\n",
    "import numpy as np\n",
    "import scipy\n",
    "from scipy.interpolate import interp1d\n",
    "from pyscf.data.elements import _symbol\n",
    "from pyscf.grad import RHF as g\n",
    "from numpy.linalg import norm"
   ]
  },
  {
   "cell_type": "code",
   "execution_count": 19,
   "metadata": {},
   "outputs": [],
   "source": [
    "import inspect\n",
    "import sys\n",
    "sys.path.append(\"../Libs\")\n",
    "from FcMole import FcM\n",
    "from FDcoeffs import get_coeffs"
   ]
  },
  {
   "cell_type": "code",
   "execution_count": 20,
   "metadata": {},
   "outputs": [],
   "source": [
    "fd1=np.asarray([1/12,-2/3 ,0,2/3,-1/12])\n",
    "fd2=np.asarray([-1/12,4/3,-5/2,4/3,-1/12])\n",
    "fd3=np.asarray([-1/2,1,0,-1,1/2])\n",
    "fd4=np.asarray([1,-4,6,-4,1])\n",
    "fds=[fd1,fd2,fd3,fd4]\n",
    "fds5=get_coeffs(5)\n",
    "fds7=get_coeffs(7)"
   ]
  },
  {
   "cell_type": "code",
   "execution_count": 97,
   "metadata": {},
   "outputs": [],
   "source": [
    "def pcX(z,ref=None):\n",
    "    if z <1.e-10: raise Exception(\"non implemented Zero charge atom\")\n",
    "    if z%1 <1.e-10:\n",
    "        return gto.basis.load(bse.get_basis(\"sto-3g\",fmt=\"nwchem\",elements=[int(z)]),_symbol(int(z)))\n",
    "    elif ref:\n",
    "        rb=pcX(ref)\n",
    "        rbm=pcX(ref-1)\n",
    "        rbp=pcX(ref+1)\n",
    "        fb=copy.deepcopy(rb)\n",
    "        for i in range(len(fb)):  # ref+a(z-zr) +b(z-zr)^2\n",
    "            a=(rbp[i][1][0]-rbm[i][1][0])/2\n",
    "            b=(rbp[i][1][0]+rbm[i][1][0]-2*rb[i][1][0])\n",
    "            fb[i][1][0]+=a*(z-ref)+b*(z-ref)**2\n",
    "\n",
    "        return fb\n",
    "    else: raise Exception(\"can't get the fractional charge basis set, frac val and no ref\")"
   ]
  },
  {
   "cell_type": "markdown",
   "metadata": {},
   "source": [
    "The formula for the gradient is stated in Pople's article (Eq.21) as: \n",
    "$$ \\frac{\\partial E}{\\partial Z}= \\sum_{\\mu\\nu}P_{\\mu\\nu}\\frac{\\partial H_{\\mu\\nu}}{\\partial Z}+\\frac{1}{2}\\sum_{\\mu\\nu\\lambda\\sigma}\n",
    "P_{\\mu\\nu}P_{\\lambda\\sigma}\\frac{\\partial}{\\partial Z}(\\mu \\lambda | | \\nu\\sigma)+\\frac{\\partial V_{nuc}}{\\partial Z} \n",
    "-\\sum_{\\mu\\nu}W_{\\mu\\nu}\\frac{\\partial S_{\\mu\\nu}}{\\partial Z}\n",
    "$$\n",
    "$W$ is an energy weighted density matrix:\n",
    "$$ W_{\\mu\\nu}= \\sum_i ^{mo.occ.} \\epsilon_i c_{\\mu i} c_{\\nu i}^\\dagger\n",
    "$$"
   ]
  },
  {
   "cell_type": "code",
   "execution_count": 80,
   "metadata": {},
   "outputs": [
    {
     "name": "stdout",
     "output_type": "stream",
     "text": [
      "converged SCF energy = -107.491645836044\n"
     ]
    }
   ],
   "source": [
    "nn=gto.M(atom=\"N 0 0 0; N 0 0 2.05\",unit=\"Bohr\",basis=bse.get_basis(\"sto-3g\",fmt=\"nwchem\",elements=[6,7,8]))\n",
    "mf=scf.RHF(nn)\n",
    "e_nn=mf.scf()"
   ]
  },
  {
   "cell_type": "code",
   "execution_count": 81,
   "metadata": {},
   "outputs": [
    {
     "data": {
      "text/plain": [
       "['0 N 1s    ',\n",
       " '0 N 2s    ',\n",
       " '0 N 2px   ',\n",
       " '0 N 2py   ',\n",
       " '0 N 2pz   ',\n",
       " '1 N 1s    ',\n",
       " '1 N 2s    ',\n",
       " '1 N 2px   ',\n",
       " '1 N 2py   ',\n",
       " '1 N 2pz   ']"
      ]
     },
     "execution_count": 81,
     "metadata": {},
     "output_type": "execute_result"
    }
   ],
   "source": [
    "S=mf.get_ovlp()\n",
    "h1=mf.get_hcore()\n",
    "P=mf.make_rdm1()\n",
    "C=mf.mo_coeff\n",
    "O=mf.mo_occ\n",
    "e=mf.mo_energy\n",
    "nn.ao_labels()"
   ]
  },
  {
   "cell_type": "code",
   "execution_count": 82,
   "metadata": {},
   "outputs": [],
   "source": [
    "g_ijkl=nn.intor(\"int2e_sph\")"
   ]
  },
  {
   "cell_type": "code",
   "execution_count": 83,
   "metadata": {},
   "outputs": [],
   "source": [
    "cn=gto.M(atom=\"C 0 0 0; N 0 0 2.05\",unit=\"Bohr\",basis=bse.get_basis(\"sto-3g\",fmt=\"nwchem\",elements=[6,7,8]),charge=-1)\n",
    "on=gto.M(atom=\"O 0 0 0; N 0 0 2.05\",unit=\"Bohr\",basis=bse.get_basis(\"sto-3g\",fmt=\"nwchem\",elements=[6,7,8]),charge=1)"
   ]
  },
  {
   "cell_type": "code",
   "execution_count": 84,
   "metadata": {},
   "outputs": [
    {
     "name": "stdout",
     "output_type": "stream",
     "text": [
      "converged SCF energy = -127.196060151265\n",
      "converged SCF energy = -90.9175998689459\n"
     ]
    }
   ],
   "source": [
    "mf_on=scf.RHF(on)\n",
    "mf_cn=scf.RHF(cn)\n",
    "e_on=mf_on.scf()\n",
    "e_cn=mf_cn.scf()"
   ]
  },
  {
   "cell_type": "code",
   "execution_count": 132,
   "metadata": {},
   "outputs": [],
   "source": [
    "S_T=mf_on.get_ovlp()\n",
    "dS=(mf_on.get_ovlp()-mf.get_ovlp())\n",
    "dh1=(mf_on.get_hcore()-mf.get_hcore())\n",
    "dG=(on.intor(\"int2e_sph\")-nn.intor(\"int2e_sph\"))\n",
    "dVnn=(8*7-7*7)/2.05"
   ]
  },
  {
   "cell_type": "code",
   "execution_count": null,
   "metadata": {},
   "outputs": [],
   "source": []
  },
  {
   "cell_type": "code",
   "execution_count": 133,
   "metadata": {},
   "outputs": [],
   "source": [
    "def E_cn(l):\n",
    "    mol_l=FcM(fcs=[l,0],atom=\"N1 0 0 0; N2 0 0 2.05\",unit=\"Bohrs\",basis={\"N1\":pcX(7+l,ref=7),\"N2\":pcX(7)},verbose=1)\n",
    "    mf_l=scf.RHF(mol_l)\n",
    "    #mf_l.conv_tol=1e-12\n",
    "    #mf_l.conv_tol_grad=1e-12\n",
    "    e=mf_l.scf(dm0=mf_l.init_guess_by_1e())\n",
    "    return e\n",
    "def P_cn(l):\n",
    "    mol_l=FcM(fcs=[l,0],atom=\"N1 0 0 0; N2 0 0 2.05\",unit=\"Bohrs\",basis={\"N1\":pcX(7+l,ref=7),\"N2\":pcX(7)},verbose=1)\n",
    "    mf_l=scf.RHF(mol_l)\n",
    "    #mf_l.conv_tol=1e-12\n",
    "    #mf_l.conv_tol_grad=1e-12\n",
    "    e=mf_l.scf(dm0=mf_l.init_guess_by_1e())\n",
    "    p=mf_l.make_rdm1()\n",
    "    return p"
   ]
  },
  {
   "cell_type": "markdown",
   "metadata": {},
   "source": [
    "For the second alchemical derivative we need at first the response matrix"
   ]
  },
  {
   "cell_type": "code",
   "execution_count": 134,
   "metadata": {},
   "outputs": [],
   "source": [
    "#The old code for nbs derivs\n",
    "def alchemy_pol_deriv(polobj,dL, with_cphf=True):\n",
    "    mf = polobj._scf\n",
    "    mol = mf.mol\n",
    "    mo_energy = mf.mo_energy\n",
    "    mo_coeff = mf.mo_coeff\n",
    "    mo_occ = mf.mo_occ\n",
    "    occidx = mo_occ > 0\n",
    "    orbo = mo_coeff[:, occidx]\n",
    "    orbv = mo_coeff[:,~occidx]\n",
    "\n",
    "    charges = mol.atom_charges()\n",
    "    coords  = mol.atom_coords()\n",
    "    charge_center = np.einsum('i,ix->x', charges, coords) / charges.sum()\n",
    "    \n",
    "    int_r=DeltaV(mol,dL)    ########   .001 as finite difference intervall  \n",
    "    h1 = lib.einsum('xpq,pi,qj->xij', int_r, mo_coeff.conj(), orbo) #going to molecular orbitals?\n",
    "    s1 = np.zeros_like(h1)\n",
    "    vind = polobj.gen_vind(mf, mo_coeff, mo_occ)\n",
    "    if with_cphf:\n",
    "        mo1,e1 = cphf.solve(vind, mo_energy, mo_occ, h1, s1, polobj.max_cycle_cphf, polobj.conv_tol)\n",
    "    else:\n",
    "        mo1 = rhf_nmr._solve_mo1_uncoupled(mo_energy, mo_occ, h1, s1)[0]\n",
    "    return mo1,e1[0]"
   ]
  },
  {
   "cell_type": "code",
   "execution_count": 143,
   "metadata": {},
   "outputs": [],
   "source": [
    "#attempt to o this for luck\n",
    "from pyscf.scf import cphf\n",
    "vind = gen_vind(mf, C,  mf.mo_occ)\n",
    "#dh1_mo=(C.T@dh1@C)[:,:7]\n",
    "mo_coeff = mf.mo_coeff\n",
    "mo_occ = mf.mo_occ\n",
    "occidx = mo_occ > 0\n",
    "orbo = mo_coeff[:, occidx]\n",
    "dh1_mo= np.einsum('pq,pi,qj->ij', dh1, C.T, orbo) #going to molecular orbitals\n",
    "dS_mo=np.einsum('pq,pi,qj->ij', dS, C.T, orbo)\n",
    "dS_mo=np.zeros_like(dh1_mo)\n",
    "mo1,e1 = cphf.solve(vind, e,  mf.mo_occ,dh1_mo, dS_mo, 20 ,1e-5)\n",
    "nao=nn.nao\n",
    "nocc=nn.nelec[0]\n",
    "mo1=np.einsum('pq,qi->pi', mo_coeff, mo1).reshape(nao,nocc)"
   ]
  },
  {
   "cell_type": "code",
   "execution_count": 138,
   "metadata": {},
   "outputs": [],
   "source": [
    "def make_dP(mf,mo1):\n",
    "    mol=mf.mol\n",
    "    nao=mol.nao\n",
    "    nocc=mf.mol.nelec[0]\n",
    "    C=mf.mo_coeff\n",
    "    dP=np.zeros_like(C)\n",
    "    dP[:,:]=np.einsum('ij,jk,lk->il',C,mo1,C[:,:nocc])\n",
    "    return dP+dP.T"
   ]
  },
  {
   "cell_type": "code",
   "execution_count": 159,
   "metadata": {},
   "outputs": [
    {
     "data": {
      "text/plain": [
       "(array([-9.28946011e-02,  1.92298355e+00, -1.54055382e-03,  2.32267239e-01,\n",
       "        -5.62857440e-01,  2.84139526e-02,  6.17571267e-01,  2.61938017e-05,\n",
       "         2.30700492e-01, -1.23338314e+00]),\n",
       " array([-7.42004467, -2.01708233, -1.61650771, -1.61650771, -1.47911251,\n",
       "        -0.48780488, -0.48061857, -0.44273505, -0.44273505, -0.55544402]))"
      ]
     },
     "execution_count": 159,
     "metadata": {},
     "output_type": "execute_result"
    },
    {
     "data": {
      "image/png": "[encoded data removed]",
      "text/plain": [
       "<Figure size 288x288 with 1 Axes>"
      ]
     },
     "metadata": {
      "needs_background": "light"
     },
     "output_type": "display_data"
    },
    {
     "data": {
      "image/png": "[encoded data removed]",
      "text/plain": [
       "<Figure size 288x288 with 1 Axes>"
      ]
     },
     "metadata": {
      "needs_background": "light"
     },
     "output_type": "display_data"
    },
    {
     "data": {
      "image/png": "[encoded data removed]",
      "text/plain": [
       "<Figure size 1152x144 with 1 Axes>"
      ]
     },
     "metadata": {
      "needs_background": "light"
     },
     "output_type": "display_data"
    },
    {
     "data": {
      "image/png": "[encoded data removed]",
      "text/plain": [
       "<Figure size 1152x144 with 1 Axes>"
      ]
     },
     "metadata": {
      "needs_background": "light"
     },
     "output_type": "display_data"
    },
    {
     "data": {
      "image/png": "[encoded data removed]",
      "text/plain": [
       "<Figure size 1152x144 with 1 Axes>"
      ]
     },
     "metadata": {
      "needs_background": "light"
     },
     "output_type": "display_data"
    },
    {
     "data": {
      "image/png": "[encoded data removed]",
      "text/plain": [
       "<Figure size 1152x164.571 with 1 Axes>"
      ]
     },
     "metadata": {
      "needs_background": "light"
     },
     "output_type": "display_data"
    }
   ],
   "source": [
    "dP=make_dP(mf,mo1)\n",
    "plt.matshow(P)\n",
    "plt.matshow((P+dP))\n",
    "plt.matshow([P.diagonal()])\n",
    "plt.matshow([dP.diagonal()])\n",
    "plt.matshow([dh1.diagonal()])\n",
    "plt.matshow([dh1_mo.diagonal()])\n",
    "\n",
    "dP.diagonal(),dh1.diagonal()"
   ]
  },
  {
   "cell_type": "code",
   "execution_count": 141,
   "metadata": {},
   "outputs": [],
   "source": [
    "nao=nn.nao\n",
    "nocc=nn.nelec[0]\n",
    "U=np.zeros((nao,nao))\n",
    "U[:,:nocc]=mo1[:,:nocc]\n",
    "U=U-U.T\n",
    "O=np.diag(mf.mo_occ)\n",
    "C=mf.mo_coeff\n",
    "dP=C@(U@O-O@U)@C.T"
   ]
  },
  {
   "cell_type": "code",
   "execution_count": 145,
   "metadata": {},
   "outputs": [
    {
     "data": {
      "text/plain": [
       "(5.167107809446375, 4.594798756144595)"
      ]
     },
     "execution_count": 145,
     "metadata": {},
     "output_type": "execute_result"
    }
   ],
   "source": [
    "norm(P),norm(dP)"
   ]
  },
  {
   "cell_type": "code",
   "execution_count": 155,
   "metadata": {},
   "outputs": [
    {
     "data": {
      "text/plain": [
       "(4.793141161091937, 0.5801656711188032, 7.248181911761305)"
      ]
     },
     "execution_count": 155,
     "metadata": {},
     "output_type": "execute_result"
    }
   ],
   "source": [
    "norm(P_cn(-1)-(P+dP)),norm(P_cn(-1)-(P)),norm(P_cn(-1)+(dP))"
   ]
  },
  {
   "cell_type": "code",
   "execution_count": 150,
   "metadata": {},
   "outputs": [
    {
     "data": {
      "text/plain": [
       "13.912396811577844"
      ]
     },
     "execution_count": 150,
     "metadata": {},
     "output_type": "execute_result"
    }
   ],
   "source": [
    "np.einsum(\"ij,ij\",P+dP,S+dS)"
   ]
  },
  {
   "cell_type": "code",
   "execution_count": 152,
   "metadata": {},
   "outputs": [
    {
     "data": {
      "text/plain": [
       "6.490047466109698"
      ]
     },
     "execution_count": 152,
     "metadata": {},
     "output_type": "execute_result"
    }
   ],
   "source": [
    "norm(P_cn(-1)-(dP))"
   ]
  },
  {
   "cell_type": "code",
   "execution_count": null,
   "metadata": {},
   "outputs": [],
   "source": [
    "# FOR HESSIAN CALCULATIONS \n",
    "# if mo1 is None or mo_e1 is None:\n",
    "#         mo1, mo_e1 = hessobj.solve_mo1(mo_energy, mo_coeff, mo_occ, h1ao,\n",
    "#                                        None, atmlst, max_memory, log)\n",
    "\"\"\"\n",
    "def solve_mo1(mf, mo_energy, mo_coeff, mo_occ, h1ao_or_chkfile,\n",
    "              fx=None, atmlst=None, max_memory=4000, verbose=None):\n",
    "    '''Solve the first order equation\n",
    "\n",
    "    Kwargs:\n",
    "        fx : function(dm_mo) => v1_mo\n",
    "            A function to generate the induced potential.\n",
    "            See also the function gen_vind.\n",
    "    '''\n",
    "    mol = mf.mol\n",
    "    if atmlst is None: atmlst = range(mol.natm)\n",
    "\n",
    "    nao, nmo = mo_coeff.shape\n",
    "    mocc = mo_coeff[:,mo_occ>0]\n",
    "    nocc = mocc.shape[1]\n",
    "\n",
    "    if fx is None:\n",
    "        fx = gen_vind(mf, mo_coeff, mo_occ)\n",
    "    s1a = -mol.intor('int1e_ipovlp', comp=3)\n",
    "\n",
    "    def _ao2mo(mat):\n",
    "        return numpy.asarray([reduce(numpy.dot, (mo_coeff.T, x, mocc)) for x in mat])\n",
    "\n",
    "    mem_now = lib.current_memory()[0]\n",
    "    max_memory = max(2000, max_memory*.9-mem_now)\n",
    "    blksize = max(2, int(max_memory*1e6/8 / (nmo*nocc*3*6)))\n",
    "    mo1s = [None] * mol.natm\n",
    "    e1s = [None] * mol.natm\n",
    "    aoslices = mol.aoslice_by_atom()\n",
    "    for ia0, ia1 in lib.prange(0, len(atmlst), blksize):\n",
    "        s1vo = []\n",
    "        h1vo = []\n",
    "        for i0 in range(ia0, ia1):\n",
    "            ia = atmlst[i0]\n",
    "            shl0, shl1, p0, p1 = aoslices[ia]\n",
    "            s1ao = numpy.zeros((3,nao,nao))\n",
    "            s1ao[:,p0:p1] += s1a[:,p0:p1]\n",
    "            s1ao[:,:,p0:p1] += s1a[:,p0:p1].transpose(0,2,1)\n",
    "            s1vo.append(_ao2mo(s1ao))\n",
    "            if isinstance(h1ao_or_chkfile, str):\n",
    "                key = 'scf_f1ao/%d' % ia\n",
    "                h1ao = lib.chkfile.load(h1ao_or_chkfile, key)\n",
    "            else:\n",
    "                h1ao = h1ao_or_chkfile[ia]\n",
    "            h1vo.append(_ao2mo(h1ao))\n",
    "\n",
    "        h1vo = numpy.vstack(h1vo)\n",
    "        s1vo = numpy.vstack(s1vo)\n",
    "        mo1, e1 = cphf.solve(fx, mo_energy, mo_occ, h1vo, s1vo)\n",
    "        mo1 = numpy.einsum('pq,xqi->xpi', mo_coeff, mo1).reshape(-1,3,nao,nocc)\n",
    "        e1 = e1.reshape(-1,3,nocc,nocc)\n",
    "\n",
    "        for k in range(ia1-ia0):\n",
    "            ia = atmlst[k+ia0]\n",
    "            if isinstance(h1ao_or_chkfile, str):\n",
    "                key = 'scf_mo1/%d' % ia\n",
    "                lib.chkfile.save(h1ao_or_chkfile, key, mo1[k])\n",
    "            else:\n",
    "                mo1s[ia] = mo1[k]\n",
    "            e1s[ia] = e1[k].reshape(3,nocc,nocc)\n",
    "        mo1 = e1 = None\n",
    "    return mo1s, e1s\n",
    "\n",
    "\"\"\"\n",
    "pass"
   ]
  },
  {
   "cell_type": "code",
   "execution_count": 32,
   "metadata": {},
   "outputs": [],
   "source": [
    "from functools import reduce\n",
    "import ctypes\n",
    "import time\n",
    "import numpy\n",
    "from pyscf import lib\n",
    "from pyscf import gto\n",
    "from pyscf.lib import logger\n",
    "from pyscf.scf import _vhf\n",
    "def gen_vind(mf, mo_coeff, mo_occ):\n",
    "    nao, nmo = mo_coeff.shape\n",
    "    mocc = mo_coeff[:,mo_occ>0]\n",
    "    nocc = mocc.shape[1]\n",
    "    vresp = mf.gen_response(mo_coeff, mo_occ, hermi=1)\n",
    "    def fx(mo1):\n",
    "        mo1 = mo1.reshape(-1,nmo,nocc)\n",
    "        nset = len(mo1)\n",
    "        dm1 = numpy.empty((nset,nao,nao))\n",
    "        for i, x in enumerate(mo1):\n",
    "            dm = reduce(numpy.dot, (mo_coeff, x*2, mocc.T)) # *2 for double occupancy\n",
    "            dm1[i] = dm + dm.T\n",
    "        v1 = vresp(dm1)\n",
    "        v1vo = numpy.empty_like(mo1)\n",
    "        for i, x in enumerate(v1):\n",
    "            v1vo[i] = reduce(numpy.dot, (mo_coeff.T, x, mocc))\n",
    "        return v1vo\n",
    "    return fx\n"
   ]
  },
  {
   "cell_type": "code",
   "execution_count": null,
   "metadata": {},
   "outputs": [],
   "source": [
    "vind=gen_vind(mf,C,O)"
   ]
  },
  {
   "cell_type": "code",
   "execution_count": null,
   "metadata": {},
   "outputs": [],
   "source": []
  },
  {
   "cell_type": "code",
   "execution_count": null,
   "metadata": {},
   "outputs": [],
   "source": []
  }
 ],
 "metadata": {
  "kernelspec": {
   "display_name": "Python 3",
   "language": "python",
   "name": "python3"
  },
  "language_info": {
   "codemirror_mode": {
    "name": "ipython",
    "version": 3
   },
   "file_extension": ".py",
   "mimetype": "text/x-python",
   "name": "python",
   "nbconvert_exporter": "python",
   "pygments_lexer": "ipython3",
   "version": "3.7.3"
  }
 },
 "nbformat": 4,
 "nbformat_minor": 2
}
