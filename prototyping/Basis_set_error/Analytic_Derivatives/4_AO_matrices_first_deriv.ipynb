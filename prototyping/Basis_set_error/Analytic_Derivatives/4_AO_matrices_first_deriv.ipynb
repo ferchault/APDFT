{
 "cells": [
  {
   "cell_type": "code",
   "execution_count": 1,
   "metadata": {},
   "outputs": [],
   "source": [
    "import basis_set_exchange as bse\n",
    "import scipy as sp\n",
    "import matplotlib.pyplot as plt\n",
    "from pyscf import gto,scf\n",
    "import copy\n",
    "import numpy as np\n",
    "import scipy\n",
    "from scipy.interpolate import interp1d\n",
    "from pyscf.data.elements import _symbol\n",
    "from pyscf.grad import RHF as g"
   ]
  },
  {
   "cell_type": "code",
   "execution_count": 2,
   "metadata": {},
   "outputs": [],
   "source": [
    "import inspect\n",
    "import sys\n",
    "sys.path.append(\"../Libs\")\n",
    "from FcMole import FcM,FcM_like\n",
    "from FDcoeffs import get_coeffs"
   ]
  },
  {
   "cell_type": "code",
   "execution_count": 3,
   "metadata": {},
   "outputs": [],
   "source": [
    "#5pts finite difference coefficients\n",
    "fd1=np.asarray([1/12,-2/3 ,0,2/3,-1/12])\n",
    "fd2=np.asarray([-1/12,4/3,-5/2,4/3,-1/12])\n",
    "fd3=np.asarray([-1/2,1,0,-1,1/2])\n",
    "fd4=np.asarray([1,-4,6,-4,1])\n",
    "fds=[fd1,fd2,fd3,fd4]\n",
    "fds5=get_coeffs(5)\n",
    "fds7=get_coeffs(7)"
   ]
  },
  {
   "cell_type": "markdown",
   "metadata": {},
   "source": [
    "The formula for the gradient is stated in Pople's article (Eq.21) as: \n",
    "$$ \\frac{\\partial E}{\\partial Z}= \\sum_{\\mu\\nu}P_{\\mu\\nu}\\frac{\\partial H_{\\mu\\nu}}{\\partial Z}+\\frac{1}{2}\\sum_{\\mu\\nu\\lambda\\sigma}\n",
    "P_{\\mu\\nu}P_{\\lambda\\sigma}\\frac{\\partial}{\\partial Z}(\\mu \\lambda | | \\nu\\sigma)+\\frac{\\partial V_{nuc}}{\\partial Z} \n",
    "-\\sum_{\\mu\\nu}W_{\\mu\\nu}\\frac{\\partial S_{\\mu\\nu}}{\\partial Z}\n",
    "$$\n",
    "$W$ is an energy weighted density matrix:\n",
    "$$ W_{\\mu\\nu}= \\sum_i ^{mo.occ.} \\epsilon_i c_{\\mu i} c_{\\nu i}^\\dagger\n",
    "$$"
   ]
  },
  {
   "cell_type": "code",
   "execution_count": 4,
   "metadata": {},
   "outputs": [
    {
     "name": "stdout",
     "output_type": "stream",
     "text": [
      "converged SCF energy = -108.916591616523\n"
     ]
    }
   ],
   "source": [
    "nn=gto.M(atom=\"N 0 0 0; N 0 0 2.05\",unit=\"Bohr\",basis=bse.get_basis(\"pcX-1\",fmt=\"nwchem\",elements=[6,7,8]))\n",
    "mf=scf.RHF(nn)\n",
    "e_nn=mf.scf()"
   ]
  },
  {
   "cell_type": "code",
   "execution_count": 5,
   "metadata": {},
   "outputs": [],
   "source": [
    "S_nn=mf.get_ovlp()\n",
    "h1_nn=mf.get_hcore()\n",
    "P=mf.make_rdm1()\n",
    "g_ijkl=nn.intor('int2e', aosym='s8')\n",
    "\n",
    "C=mf.mo_coeff\n",
    "O=mf.mo_occ\n",
    "e=mf.mo_energy"
   ]
  },
  {
   "cell_type": "code",
   "execution_count": 6,
   "metadata": {},
   "outputs": [],
   "source": [
    "%load_ext autoreload\n",
    "%autoreload 2\n",
    "from ao_scf import ao_RHF"
   ]
  },
  {
   "cell_type": "code",
   "execution_count": 7,
   "metadata": {},
   "outputs": [],
   "source": [
    "nn2=gto.M(atom=\"C 0 0 0; O 0 0 2.05\",unit=\"Bohr\",basis=bse.get_basis(\"pcX-1\",fmt=\"nwchem\",elements=[6,7,8]))\n",
    "aor=ao_RHF(nn2,S_ao=S_nn,hcore=h1_nn,eri=g_ijkl)"
   ]
  },
  {
   "cell_type": "code",
   "execution_count": 8,
   "metadata": {},
   "outputs": [
    {
     "name": "stdout",
     "output_type": "stream",
     "text": [
      "converged SCF energy = -109.404396494572\n"
     ]
    },
    {
     "name": "stderr",
     "output_type": "stream",
     "text": [
      "<class 'ao_scf.ao_RHF'> does not have attributes  S_ao hcore\n"
     ]
    },
    {
     "data": {
      "text/plain": [
       "-108.91659161652339"
      ]
     },
     "execution_count": 8,
     "metadata": {},
     "output_type": "execute_result"
    }
   ],
   "source": [
    "aor.scf()+1/2.05"
   ]
  },
  {
   "cell_type": "code",
   "execution_count": 9,
   "metadata": {},
   "outputs": [],
   "source": [
    "cn=gto.M(atom=\"C 0 0 0; N 0 0 2.05\",unit=\"Bohr\",basis=bse.get_basis(\"pcX-1\",fmt=\"nwchem\",elements=[6,7,8]),charge=-1)\n",
    "on=gto.M(atom=\"O 0 0 0; N 0 0 2.05\",unit=\"Bohr\",basis=bse.get_basis(\"pcX-1\",fmt=\"nwchem\",elements=[6,7,8]),charge=1)"
   ]
  },
  {
   "cell_type": "code",
   "execution_count": 10,
   "metadata": {},
   "outputs": [
    {
     "name": "stdout",
     "output_type": "stream",
     "text": [
      "converged SCF energy = -128.874363294639\n",
      "converged SCF energy = -92.2576688695164\n"
     ]
    }
   ],
   "source": [
    "mf_on=scf.RHF(on)\n",
    "mf_cn=scf.RHF(cn)\n",
    "e_on=mf_on.scf()\n",
    "e_cn=mf_cn.scf()"
   ]
  },
  {
   "cell_type": "code",
   "execution_count": 11,
   "metadata": {},
   "outputs": [],
   "source": [
    "dS=(mf_on.get_ovlp()-mf_cn.get_ovlp())/2\n",
    "dh1=(mf_on.get_hcore()-mf_cn.get_hcore())/2\n",
    "dG=(on.intor('int2e', aosym='s8')-cn.intor('int2e', aosym='s8'))/2\n",
    "dVnn=(8*7-7*7)/2.05\n",
    "d2S=(mf_on.get_ovlp()+mf_cn.get_ovlp()-2*mf.get_ovlp())\n",
    "d2h1=(mf_on.get_hcore()+mf_cn.get_hcore()-2*mf.get_hcore())\n",
    "d2G=(on.intor('int2e', aosym='s8')+cn.intor('int2e', aosym='s8')-2*nn.intor('int2e', aosym='s8'))"
   ]
  },
  {
   "cell_type": "code",
   "execution_count": 12,
   "metadata": {},
   "outputs": [],
   "source": [
    "def E(l):\n",
    "    return ao_RHF(FcM_like(nn,fcs=[l,0]),S_ao=S_nn+dS*l+d2S*l**2/2,hcore=h1_nn+dh1*l+d2h1*l**2/2,\\\n",
    "                  eri=g_ijkl+dG*l+d2G*l**2/2).scf()"
   ]
  },
  {
   "cell_type": "code",
   "execution_count": 13,
   "metadata": {},
   "outputs": [
    {
     "name": "stdout",
     "output_type": "stream",
     "text": [
      "converged SCF energy = -109.833121453482\n",
      "converged SCF energy = -108.008341537207\n"
     ]
    },
    {
     "name": "stderr",
     "output_type": "stream",
     "text": [
      "/home/giorgio/anaconda3/lib/python3.8/site-packages/pyscf/gto/mole.py:1089: UserWarning: Function mol.dumps drops attribute with_rinv_at_nucleus because it is not JSON-serializable\n",
      "  warnings.warn(msg)\n"
     ]
    },
    {
     "data": {
      "text/plain": [
       "-18.24779916274423"
      ]
     },
     "execution_count": 13,
     "metadata": {},
     "output_type": "execute_result"
    }
   ],
   "source": [
    "(E(.05)-E(-.05))/.1"
   ]
  },
  {
   "cell_type": "code",
   "execution_count": 14,
   "metadata": {},
   "outputs": [],
   "source": [
    "#from np.grad.rhf   , makes w\n",
    "def make_rdm1e(mo_energy, mo_coeff, mo_occ):\n",
    "    '''Energy weighted density matrix'''\n",
    "    mo0 = mo_coeff[:,mo_occ>0]\n",
    "    mo0e = mo0 * (mo_energy[mo_occ>0] * mo_occ[mo_occ>0])\n",
    "    return np.dot(mo0e, mo0.T)"
   ]
  },
  {
   "cell_type": "code",
   "execution_count": 15,
   "metadata": {},
   "outputs": [
    {
     "data": {
      "text/plain": [
       "array([[-6.52101832e-04, -4.87216027e-03, -2.22175783e-02, ...,\n",
       "         7.79296386e-04,  7.93184710e-18, -1.11448461e-20],\n",
       "       [-4.87216027e-03, -3.64022865e-02, -1.65997922e-01, ...,\n",
       "         5.82717436e-03,  6.19703942e-17, -7.19081949e-20],\n",
       "       [-2.22175783e-02, -1.65997922e-01, -7.56979799e-01, ...,\n",
       "         2.67049499e-02,  2.67142311e-16, -4.61034276e-19],\n",
       "       ...,\n",
       "       [ 7.79296386e-04,  5.82717436e-03,  2.67049499e-02, ...,\n",
       "        -5.31885889e-03,  5.99341002e-16,  3.45247765e-18],\n",
       "       [ 7.93184710e-18,  6.19703942e-17,  2.67142311e-16, ...,\n",
       "         5.99341002e-16, -2.69365867e-03, -8.17699411e-17],\n",
       "       [-1.11448461e-20, -7.19081949e-20, -4.61034276e-19, ...,\n",
       "         3.45247765e-18, -8.17699411e-17, -3.27887387e-30]])"
      ]
     },
     "execution_count": 15,
     "metadata": {},
     "output_type": "execute_result"
    }
   ],
   "source": [
    "W=make_rdm1e(e,C,O)\n",
    "W"
   ]
  },
  {
   "cell_type": "markdown",
   "metadata": {},
   "source": [
    "$$ \\frac{\\partial E}{\\partial Z}= \\sum_{\\mu\\nu}P_{\\mu\\nu}\\frac{\\partial H_{\\mu\\nu}}{\\partial Z}+\\frac{1}{2}\\sum_{\\mu\\nu\\lambda\\sigma}\n",
    "P_{\\mu\\nu}P_{\\lambda\\sigma}\\frac{\\partial}{\\partial Z}(\\mu \\lambda | | \\nu\\sigma)+\\frac{\\partial V_{nuc}}{\\partial Z} \n",
    "-\\sum_{\\mu\\nu}W_{\\mu\\nu}\\frac{\\partial S_{\\mu\\nu}}{\\partial Z}\n",
    "$$\n",
    "$W$ is an energy weighted density matrix:\n",
    "$$ W_{\\mu\\nu}= \\sum_i ^{mo.occ.} \\epsilon_i c_{\\mu i} c_{\\nu i}^\\dagger\n",
    "$$"
   ]
  },
  {
   "cell_type": "code",
   "execution_count": 16,
   "metadata": {},
   "outputs": [
    {
     "data": {
      "text/plain": [
       "(-23.649717805620195,\n",
       " 2.793744776549673,\n",
       " 3.414634146341464,\n",
       " -0.06667508592368465,\n",
       " -17.508013968652744)"
      ]
     },
     "execution_count": 16,
     "metadata": {},
     "output_type": "execute_result"
    }
   ],
   "source": [
    "dG4d=(on.intor('int2e')-cn.intor('int2e'))/2   # move to J-k/2\n",
    "np.einsum(\"ij,ij\",P,dh1),0.5*np.einsum(\"ij,kl,ijkl\",P,P,dG4d) ,dVnn,-np.einsum(\"ij,ij\",W,dS),\\\n",
    "np.einsum(\"ij,ij\",P,dh1)+0.5*np.einsum(\"ij,kl,ijkl\",P,P,dG4d) +dVnn-np.einsum(\"ij,ij\",W,dS)"
   ]
  },
  {
   "cell_type": "code",
   "execution_count": 17,
   "metadata": {},
   "outputs": [
    {
     "data": {
      "text/plain": [
       "-18.247630861657747"
      ]
     },
     "execution_count": 17,
     "metadata": {},
     "output_type": "execute_result"
    }
   ],
   "source": [
    "# This works  forgot to K-J/2\n",
    "np.einsum(\"ij,ij\",P,dh1)+0.5*np.einsum(\"ij,kl,ijkl\",P,P,dG4d)-np.einsum(\"ik,jl,ijkl\",P,P,dG4d)/4 +dVnn-np.einsum(\"ij,ij\",W,dS)"
   ]
  },
  {
   "cell_type": "code",
   "execution_count": null,
   "metadata": {},
   "outputs": [],
   "source": []
  },
  {
   "cell_type": "code",
   "execution_count": 18,
   "metadata": {},
   "outputs": [
    {
     "data": {
      "text/plain": [
       "(-108.91659161652328, -17.974739570118537, -126.424605585176)"
      ]
     },
     "execution_count": 18,
     "metadata": {},
     "output_type": "execute_result"
    }
   ],
   "source": [
    "e_nn,np.einsum(\"ij,ij\",P,dh1)+0.5*np.einsum(\"ij,kl,ijkl\",P,P,dG4d) +dVnn-np.einsum(\"ij,ij\",W,dS)*8,\\\n",
    "e_nn+np.einsum(\"ij,ij\",P,dh1)+0.5*np.einsum(\"ij,kl,ijkl\",P,P,dG4d) +dVnn-np.einsum(\"ij,ij\",W,dS)"
   ]
  },
  {
   "cell_type": "code",
   "execution_count": 19,
   "metadata": {},
   "outputs": [
    {
     "data": {
      "text/plain": [
       "-91.40857764787053"
      ]
     },
     "execution_count": 19,
     "metadata": {},
     "output_type": "execute_result"
    }
   ],
   "source": [
    "e_nn-np.einsum(\"ij,ij\",P,dh1)-0.5*np.einsum(\"ij,kl,ijkl\",P,P,dG4d) -dVnn+np.einsum(\"ij,ij\",W,dS)"
   ]
  },
  {
   "cell_type": "code",
   "execution_count": 20,
   "metadata": {
    "scrolled": true
   },
   "outputs": [
    {
     "data": {
      "text/plain": [
       "(-128.87436329463887, -92.25766886951644)"
      ]
     },
     "execution_count": 20,
     "metadata": {},
     "output_type": "execute_result"
    }
   ],
   "source": [
    "e_on,e_cn"
   ]
  },
  {
   "cell_type": "code",
   "execution_count": 21,
   "metadata": {},
   "outputs": [],
   "source": [
    "########################################################### Finish"
   ]
  },
  {
   "cell_type": "code",
   "execution_count": 22,
   "metadata": {},
   "outputs": [],
   "source": [
    "def E_cn(l):\n",
    "    mol_l=FcM(fcs=[l,0],atom=\"N1 0 0 0; N2 0 0 2.05\",unit=\"Bohrs\",basis={\"N1\":pcX(7+l,ref=7),\"N2\":pcX(7)},verbose=1)\n",
    "    mf_l=scf.RHF(mol_l)\n",
    "    #mf_l.conv_tol=1e-12\n",
    "    #mf_l.conv_tol_grad=1e-12\n",
    "    e=mf_l.scf(dm0=mf_l.init_guess_by_1e())\n",
    "    return e\n",
    "def P_cn(l):\n",
    "    mol_l=FcM(fcs=[l,0],atom=\"N1 0 0 0; N2 0 0 2.05\",unit=\"Bohrs\",basis={\"N1\":pcX(7+l,ref=7),\"N2\":pcX(7)},verbose=1)\n",
    "    mf_l=scf.RHF(mol_l)\n",
    "    #mf_l.conv_tol=1e-12\n",
    "    #mf_l.conv_tol_grad=1e-12\n",
    "    e=mf_l.scf(dm0=mf_l.init_guess_by_1e())\n",
    "    p=mf_l.make_rdm1()\n",
    "    return p"
   ]
  },
  {
   "cell_type": "code",
   "execution_count": 1,
   "metadata": {},
   "outputs": [
    {
     "ename": "NameError",
     "evalue": "name 'E_cn' is not defined",
     "output_type": "error",
     "traceback": [
      "\u001b[0;31m---------------------------------------------------------------------------\u001b[0m",
      "\u001b[0;31mNameError\u001b[0m                                 Traceback (most recent call last)",
      "\u001b[0;32m<ipython-input-1-b9ebeef0a615>\u001b[0m in \u001b[0;36m<module>\u001b[0;34m\u001b[0m\n\u001b[0;32m----> 1\u001b[0;31m \u001b[0mE_cn\u001b[0m\u001b[0;34m(\u001b[0m\u001b[0;36m1\u001b[0m\u001b[0;34m)\u001b[0m\u001b[0;34m,\u001b[0m\u001b[0mE\u001b[0m\u001b[0;34m(\u001b[0m\u001b[0;36m1\u001b[0m\u001b[0;34m)\u001b[0m\u001b[0;34m\u001b[0m\u001b[0;34m\u001b[0m\u001b[0m\n\u001b[0m",
      "\u001b[0;31mNameError\u001b[0m: name 'E_cn' is not defined"
     ]
    }
   ],
   "source": [
    "E_cn(1),E(1)"
   ]
  },
  {
   "cell_type": "markdown",
   "metadata": {},
   "source": [
    "For the second alchemical derivative we need at first the response matrix"
   ]
  },
  {
   "cell_type": "code",
   "execution_count": null,
   "metadata": {},
   "outputs": [],
   "source": [
    "#The old code for nbs derivs\n",
    "def alchemy_pol_deriv(polobj,dL, with_cphf=True):\n",
    "    mf = polobj._scf\n",
    "    mol = mf.mol\n",
    "    mo_energy = mf.mo_energy\n",
    "    mo_coeff = mf.mo_coeff\n",
    "    mo_occ = mf.mo_occ\n",
    "    occidx = mo_occ > 0\n",
    "    orbo = mo_coeff[:, occidx]\n",
    "    orbv = mo_coeff[:,~occidx]\n",
    "\n",
    "    charges = mol.atom_charges()\n",
    "    coords  = mol.atom_coords()\n",
    "    charge_center = np.einsum('i,ix->x', charges, coords) / charges.sum()\n",
    "    \n",
    "    int_r=DeltaV(mol,dL)    ########   .001 as finite difference intervall  \n",
    "    h1 = lib.einsum('xpq,pi,qj->xij', int_r, mo_coeff.conj(), orbo) #going to molecular orbitals?\n",
    "    s1 = np.zeros_like(h1)\n",
    "    vind = polobj.gen_vind(mf, mo_coeff, mo_occ)\n",
    "    if with_cphf:\n",
    "        mo1,e1 = cphf.solve(vind, mo_energy, mo_occ, h1, s1, polobj.max_cycle_cphf, polobj.conv_tol)\n",
    "    else:\n",
    "        mo1 = rhf_nmr._solve_mo1_uncoupled(mo_energy, mo_occ, h1, s1)[0]\n",
    "    return mo1,e1[0]"
   ]
  },
  {
   "cell_type": "code",
   "execution_count": null,
   "metadata": {},
   "outputs": [],
   "source": [
    "#attempt to o this for luck\n",
    "from pyscf.scf import cphf\n",
    "vind = mf.Polarizability().gen_vind(mf, C, O)\n",
    "mo1,e1 = cphf.solve(vind, e, O, -dh1[:,:7], dS[:,:7], 20 ,1e-5)"
   ]
  },
  {
   "cell_type": "code",
   "execution_count": null,
   "metadata": {},
   "outputs": [],
   "source": [
    "mo1.shape,e1.shape"
   ]
  },
  {
   "cell_type": "code",
   "execution_count": null,
   "metadata": {},
   "outputs": [],
   "source": [
    "def make_dP(mf,mo1):\n",
    "    mol=mf.mol\n",
    "    nao=mol.nao\n",
    "    nocc=mf.mol.nelec[0]\n",
    "    C=mf.mo_coeff\n",
    "    dP=np.zeros_like(C)\n",
    "    dP[:,:]=2*np.einsum('ij,jk,lk->il',C,mo1,C[:,:nocc])\n",
    "    return dP+dP.T\n",
    "\n",
    "def make_U(mo1):\n",
    "    U=np.zeros((mo1.shape[0],mo1.shape[0]))\n",
    "    U[:,:mo1.shape[1]]=mo1\n",
    "    U=U-U.T\n",
    "    return U"
   ]
  },
  {
   "cell_type": "code",
   "execution_count": null,
   "metadata": {},
   "outputs": [],
   "source": [
    "dP=make_dP(mf,mo1)\n",
    "plt.matshow(dP)\n",
    "plt.matshow(P)"
   ]
  },
  {
   "cell_type": "code",
   "execution_count": null,
   "metadata": {},
   "outputs": [],
   "source": [
    "P+dP*.001"
   ]
  },
  {
   "cell_type": "code",
   "execution_count": null,
   "metadata": {},
   "outputs": [],
   "source": [
    "from numpy.linalg import norm\n",
    "norm(P_cn(-1)-(P+dP))"
   ]
  },
  {
   "cell_type": "code",
   "execution_count": null,
   "metadata": {},
   "outputs": [],
   "source": [
    "P@S@P-2*P"
   ]
  },
  {
   "cell_type": "code",
   "execution_count": null,
   "metadata": {},
   "outputs": [],
   "source": [
    "norm((P+dP)@S@(P+dP)-2*(P+dP))"
   ]
  },
  {
   "cell_type": "code",
   "execution_count": null,
   "metadata": {},
   "outputs": [],
   "source": [
    "norm(P_cn(-1)-(P))"
   ]
  },
  {
   "cell_type": "code",
   "execution_count": null,
   "metadata": {},
   "outputs": [],
   "source": [
    "# FOR HESSIAN CALCULATIONS \n",
    "# if mo1 is None or mo_e1 is None:\n",
    "#         mo1, mo_e1 = hessobj.solve_mo1(mo_energy, mo_coeff, mo_occ, h1ao,\n",
    "#                                        None, atmlst, max_memory, log)\n",
    "\"\"\"\n",
    "def solve_mo1(mf, mo_energy, mo_coeff, mo_occ, h1ao_or_chkfile,\n",
    "              fx=None, atmlst=None, max_memory=4000, verbose=None):\n",
    "    '''Solve the first order equation\n",
    "\n",
    "    Kwargs:\n",
    "        fx : function(dm_mo) => v1_mo\n",
    "            A function to generate the induced potential.\n",
    "            See also the function gen_vind.\n",
    "    '''\n",
    "    mol = mf.mol\n",
    "    if atmlst is None: atmlst = range(mol.natm)\n",
    "\n",
    "    nao, nmo = mo_coeff.shape\n",
    "    mocc = mo_coeff[:,mo_occ>0]\n",
    "    nocc = mocc.shape[1]\n",
    "\n",
    "    if fx is None:\n",
    "        fx = gen_vind(mf, mo_coeff, mo_occ)\n",
    "    s1a = -mol.intor('int1e_ipovlp', comp=3)\n",
    "\n",
    "    def _ao2mo(mat):\n",
    "        return numpy.asarray([reduce(numpy.dot, (mo_coeff.T, x, mocc)) for x in mat])\n",
    "\n",
    "    mem_now = lib.current_memory()[0]\n",
    "    max_memory = max(2000, max_memory*.9-mem_now)\n",
    "    blksize = max(2, int(max_memory*1e6/8 / (nmo*nocc*3*6)))\n",
    "    mo1s = [None] * mol.natm\n",
    "    e1s = [None] * mol.natm\n",
    "    aoslices = mol.aoslice_by_atom()\n",
    "    for ia0, ia1 in lib.prange(0, len(atmlst), blksize):\n",
    "        s1vo = []\n",
    "        h1vo = []\n",
    "        for i0 in range(ia0, ia1):\n",
    "            ia = atmlst[i0]\n",
    "            shl0, shl1, p0, p1 = aoslices[ia]\n",
    "            s1ao = numpy.zeros((3,nao,nao))\n",
    "            s1ao[:,p0:p1] += s1a[:,p0:p1]\n",
    "            s1ao[:,:,p0:p1] += s1a[:,p0:p1].transpose(0,2,1)\n",
    "            s1vo.append(_ao2mo(s1ao))\n",
    "            if isinstance(h1ao_or_chkfile, str):\n",
    "                key = 'scf_f1ao/%d' % ia\n",
    "                h1ao = lib.chkfile.load(h1ao_or_chkfile, key)\n",
    "            else:\n",
    "                h1ao = h1ao_or_chkfile[ia]\n",
    "            h1vo.append(_ao2mo(h1ao))\n",
    "\n",
    "        h1vo = numpy.vstack(h1vo)\n",
    "        s1vo = numpy.vstack(s1vo)\n",
    "        mo1, e1 = cphf.solve(fx, mo_energy, mo_occ, h1vo, s1vo)\n",
    "        mo1 = numpy.einsum('pq,xqi->xpi', mo_coeff, mo1).reshape(-1,3,nao,nocc)\n",
    "        e1 = e1.reshape(-1,3,nocc,nocc)\n",
    "\n",
    "        for k in range(ia1-ia0):\n",
    "            ia = atmlst[k+ia0]\n",
    "            if isinstance(h1ao_or_chkfile, str):\n",
    "                key = 'scf_mo1/%d' % ia\n",
    "                lib.chkfile.save(h1ao_or_chkfile, key, mo1[k])\n",
    "            else:\n",
    "                mo1s[ia] = mo1[k]\n",
    "            e1s[ia] = e1[k].reshape(3,nocc,nocc)\n",
    "        mo1 = e1 = None\n",
    "\n",
    "    if isinstance(h1ao_or_chkfile, str):\n",
    "        return h1ao_or_chkfile, e1s\n",
    "    else:\n",
    "        return mo1s, e1s\n",
    "\n",
    "\"\"\""
   ]
  },
  {
   "cell_type": "code",
   "execution_count": null,
   "metadata": {},
   "outputs": [],
   "source": []
  }
 ],
 "metadata": {
  "kernelspec": {
   "display_name": "Python 3",
   "language": "python",
   "name": "python3"
  },
  "language_info": {
   "codemirror_mode": {
    "name": "ipython",
    "version": 3
   },
   "file_extension": ".py",
   "mimetype": "text/x-python",
   "name": "python",
   "nbconvert_exporter": "python",
   "pygments_lexer": "ipython3",
   "version": "3.8.8"
  }
 },
 "nbformat": 4,
 "nbformat_minor": 2
}
