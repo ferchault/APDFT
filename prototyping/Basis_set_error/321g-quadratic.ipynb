{
 "cells": [
  {
   "cell_type": "code",
   "execution_count": 1,
   "metadata": {},
   "outputs": [],
   "source": [
    "import basis_set_exchange as bse\n",
    "import scipy as sp\n",
    "import matplotlib.pyplot as plt\n",
    "from pyscf import gto,scf\n",
    "import copy\n",
    "import numpy as np\n",
    "import scipy\n",
    "from scipy.interpolate import interp1d\n",
    "from pyscf.data.elements import _symbol\n",
    "from numpy.linalg import norm"
   ]
  },
  {
   "cell_type": "code",
   "execution_count": 2,
   "metadata": {},
   "outputs": [],
   "source": [
    "import sys\n",
    "sys.path.append(\"./Libs\")\n",
    "from FcMole import FcM\n",
    "from FDcoeffs import get_coeffs"
   ]
  },
  {
   "cell_type": "code",
   "execution_count": 3,
   "metadata": {},
   "outputs": [
    {
     "data": {
      "text/plain": [
       "([[0,\n",
       "   [242.766, 0.05986570051],\n",
       "   [36.4851, 0.352955003],\n",
       "   [7.81449, 0.706513006]],\n",
       "  [0, [5.42522, -0.4133000774], [1.14915, 1.224417267]],\n",
       "  [0, [0.283205, 1.0]],\n",
       "  [1, [5.42522, 0.2379720162], [1.14915, 0.8589530586]],\n",
       "  [1, [0.283205, 1.0]]],\n",
       " '*******************',\n",
       " [[0,\n",
       "   [172.256, 0.06176690738],\n",
       "   [25.9109, 0.3587940429],\n",
       "   [5.53335, 0.7007130837]],\n",
       "  [0, [3.66498, -0.3958951621], [0.770545, 1.215834356]],\n",
       "  [0, [0.195857, 1.0]],\n",
       "  [1, [3.66498, 0.2364599466], [0.770545, 0.8606188057]],\n",
       "  [1, [0.195857, 1.0]]])"
      ]
     },
     "execution_count": 3,
     "metadata": {},
     "output_type": "execute_result"
    }
   ],
   "source": [
    "n_321g=gto.basis.load(bse.get_basis(\"3-21G\",fmt=\"nwchem\",elements=[\"N\"]),\"N\")\n",
    "c_321g=gto.basis.load(bse.get_basis(\"3-21G\",fmt=\"nwchem\",elements=[\"C\"]),\"C\")\n",
    "n_321g,\"*******************\",c_321g"
   ]
  },
  {
   "cell_type": "markdown",
   "metadata": {},
   "source": [
    "Per gli orbitali \"s\" vale la formula $<g_ig_j>=c_i^2+c_j^2+c_ic_j*(2\\sqrt{a_ia_j}/(a_i+a_j))^{3/2}$"
   ]
  },
  {
   "cell_type": "code",
   "execution_count": 4,
   "metadata": {},
   "outputs": [
    {
     "data": {
      "text/plain": [
       "1.0000000003075527"
      ]
     },
     "execution_count": 4,
     "metadata": {},
     "output_type": "execute_result"
    }
   ],
   "source": [
    "0.4133000774**2+ 1.224417267**2 -2*0.4133000774*1.224417267*(2*(5.42522*1.14915)**.5/(5.42522+1.14915))**(3/2)"
   ]
  },
  {
   "cell_type": "code",
   "execution_count": 5,
   "metadata": {},
   "outputs": [
    {
     "data": {
      "text/plain": [
       "1.000000000624618"
      ]
     },
     "execution_count": 5,
     "metadata": {},
     "output_type": "execute_result"
    }
   ],
   "source": [
    "1.215834356**2+0.3958951621**2 -2*1.215834356*0.3958951621*(2*(3.66498*0.770545)**.5/(3.66498+0.770545))**(3/2)"
   ]
  },
  {
   "cell_type": "markdown",
   "metadata": {},
   "source": [
    "Per gli orbitali \"p\" vale la formula $<g_ig_j>=c_i^2+c_j^2+c_ic_j*(2\\sqrt{a_ia_j}/(a_i+a_j))^{5/2}$"
   ]
  },
  {
   "cell_type": "code",
   "execution_count": 6,
   "metadata": {},
   "outputs": [
    {
     "data": {
      "text/plain": [
       "0.999999999942027"
      ]
     },
     "execution_count": 6,
     "metadata": {},
     "output_type": "execute_result"
    }
   ],
   "source": [
    "0.2364599466**2+0.8606188057**2 +2*0.2364599466*0.8606188057*(2*(3.66498*0.770545)**.5/(3.66498+0.770545))**(5/2)"
   ]
  },
  {
   "cell_type": "code",
   "execution_count": null,
   "metadata": {},
   "outputs": [],
   "source": []
  },
  {
   "cell_type": "code",
   "execution_count": 7,
   "metadata": {},
   "outputs": [],
   "source": [
    "c_321=gto.basis.load(bse.get_basis(\"3-21g\",fmt=\"nwchem\",elements=[\"C\"]),\"C\")\n",
    "o_321=gto.basis.load(bse.get_basis(\"3-21g\",fmt=\"nwchem\",elements=[\"O\"]),\"O\")\n",
    "f_321=gto.basis.load(bse.get_basis(\"3-21g\",fmt=\"nwchem\",elements=[\"F\"]),\"F\")"
   ]
  },
  {
   "cell_type": "code",
   "execution_count": 8,
   "metadata": {},
   "outputs": [
    {
     "data": {
      "text/plain": [
       "[[0,\n",
       "  [413.801, 0.05854830293],\n",
       "  [62.2446, 0.3493080175],\n",
       "  [13.434, 0.7096320355]],\n",
       " [0, [9.77759, -0.4073262777], [2.08617, 1.223137831]],\n",
       " [0, [0.482383, 1.0]],\n",
       " [1, [9.77759, 0.2466800032], [2.08617, 0.852321011]],\n",
       " [1, [0.482383, 1.0]]]"
      ]
     },
     "execution_count": 8,
     "metadata": {},
     "output_type": "execute_result"
    }
   ],
   "source": [
    "f_321"
   ]
  },
  {
   "cell_type": "code",
   "execution_count": 43,
   "metadata": {},
   "outputs": [],
   "source": [
    "def g321(z,ref=None):\n",
    "    if z <1.e-10: raise Exception(\"non implemented Zero charge atom\")\n",
    "    if z%1 <1.e-10:\n",
    "        return gto.basis.load(bse.get_basis(\"3-21g\",fmt=\"nwchem\",elements=[int(z)]),_symbol(int(z)))\n",
    "    elif ref:\n",
    "        rb=g321(ref)\n",
    "        rbm=g321(ref-1)\n",
    "        rbp=g321(ref+1)\n",
    "        fb=copy.deepcopy(rb)\n",
    "        for i in range(len(fb)):  \n",
    "            for j in range(1,len(fb[i])):\n",
    "                a=(rbp[i][j][0]-rbm[i][j][0])/2\n",
    "                b=(rbp[i][j][0]+rbm[i][j][0]-2*rb[i][j][0])\n",
    "                fb[i][j][0]+=a*(z-ref)+b*(z-ref)**2\n",
    "                a=(rbp[i][j][1]-rbm[i][j][1])/2\n",
    "                b=(rbp[i][j][1]+rbm[i][j][1]-2*rb[i][j][1])\n",
    "                fb[i][j][1]+=a*(z-ref)+b*(z-ref)**2\n",
    "        return fb\n",
    "    else: raise Exception(\"can't get the fractional charge basis set, frac val and no ref\")"
   ]
  },
  {
   "cell_type": "code",
   "execution_count": 44,
   "metadata": {},
   "outputs": [
    {
     "data": {
      "text/plain": [
       "([[0,\n",
       "   [172.256, 0.06176690738],\n",
       "   [25.9109, 0.3587940429],\n",
       "   [5.53335, 0.7007130837]],\n",
       "  [0, [3.66498, -0.3958951621], [0.770545, 1.215834356]],\n",
       "  [0, [0.195857, 1.0]],\n",
       "  [1, [3.66498, 0.2364599466], [0.770545, 0.8606188057]],\n",
       "  [1, [0.195857, 1.0]]],\n",
       " [[0,\n",
       "   [207.511, 0.060816303945],\n",
       "   [31.198, 0.35587452295],\n",
       "   [6.673920000000001, 0.70361304485]],\n",
       "  [0, [4.545100000000001, -0.40459761974999997], [0.9598475, 1.2201258115]],\n",
       "  [0, [0.239531, 1.0]],\n",
       "  [1, [4.545100000000001, 0.2372159814], [0.9598475, 0.8597859321500001]],\n",
       "  [1, [0.239531, 1.0]]],\n",
       " [[0,\n",
       "   [242.766, 0.05986570051],\n",
       "   [36.4851, 0.352955003],\n",
       "   [7.81449, 0.706513006]],\n",
       "  [0, [5.42522, -0.4133000774], [1.14915, 1.224417267]],\n",
       "  [0, [0.283205, 1.0]],\n",
       "  [1, [5.42522, 0.2379720162], [1.14915, 0.8589530586]],\n",
       "  [1, [0.283205, 1.0]]])"
      ]
     },
     "execution_count": 44,
     "metadata": {},
     "output_type": "execute_result"
    }
   ],
   "source": [
    "g321(6,ref=6),g321(6.5,ref=6),g321(7,ref=6)"
   ]
  },
  {
   "cell_type": "code",
   "execution_count": 45,
   "metadata": {},
   "outputs": [],
   "source": [
    "def E(l,zbs=True):\n",
    "    if zbs:\n",
    "        mol_l=FcM(fcs=[-l,l],atom=\"N1 0 0 0; N2 0 0 2.05\",unit=\"Bohrs\",basis={\"N1\":g321(7-l,ref=7),\"N2\":g321(7+l,ref=7)},verbose=1)\n",
    "    else:\n",
    "         mol_l=FcM(fcs=[-l,l],atom=\"N1 0 0 0; N2 0 0 2.05\",unit=\"Bohrs\",basis={\"N1\":g321(7,ref=7),\"N2\":g321(7,ref=7)},verbose=1)       \n",
    "    mf_l=scf.RHF(mol_l)\n",
    "    #mf_l.conv_tol=1e-12\n",
    "    #mf_l.conv_tol_grad=1e-12\n",
    "    e=mf_l.scf(dm0=mf_l.init_guess_by_1e())\n",
    "    return e"
   ]
  },
  {
   "cell_type": "code",
   "execution_count": 46,
   "metadata": {},
   "outputs": [
    {
     "data": {
      "image/png": "[encoded data removed]",
      "text/plain": [
       "<Figure size 432x288 with 1 Axes>"
      ]
     },
     "metadata": {
      "needs_background": "light"
     },
     "output_type": "display_data"
    }
   ],
   "source": [
    "for i in np.linspace(0,1,11):\n",
    "    plt.scatter(i,E(i),color=\"blue\")"
   ]
  },
  {
   "cell_type": "code",
   "execution_count": 47,
   "metadata": {},
   "outputs": [],
   "source": [
    "eT_R=E(-1,zbs=False)"
   ]
  },
  {
   "cell_type": "code",
   "execution_count": 48,
   "metadata": {},
   "outputs": [
    {
     "name": "stdout",
     "output_type": "stream",
     "text": [
      "converged SCF energy = -112.087946327174\n",
      "converged SCF energy = -108.300940981306\n"
     ]
    }
   ],
   "source": [
    "e_co=scf.RHF(gto.M(atom=\"C 0 0 0; O 0 0 2.05\",unit=\"Bohrs\",basis=bse.get_basis(\"3-21g\"\\\n",
    "                                                       ,fmt=\"nwchem\",elements=[\"C\",\"N\",\"O\"]))).scf()\n",
    "e_nn=scf.RHF(gto.M(atom=\"N 0 0 0; N 0 0 2.05\",unit=\"Bohrs\",basis=bse.get_basis(\"3-21g\"\\\n",
    "                                                       ,fmt=\"nwchem\",elements=[\"C\",\"N\",\"O\"]))).scf()"
   ]
  },
  {
   "cell_type": "code",
   "execution_count": 49,
   "metadata": {},
   "outputs": [],
   "source": [
    "#5pts finite difference coefficients\n",
    "fd1=np.asarray([1/12,-2/3 ,0,2/3,-1/12])\n",
    "fd2=np.asarray([-1/12,4/3,-5/2,4/3,-1/12])\n",
    "fd3=np.asarray([-1/2,1,0,-1,1/2])\n",
    "fd4=np.asarray([1,-4,6,-4,1])\n",
    "fds=[fd1,fd2,fd3,fd4]\n",
    "fds5=get_coeffs(5)\n",
    "fds7=get_coeffs(7)"
   ]
  },
  {
   "cell_type": "code",
   "execution_count": 50,
   "metadata": {},
   "outputs": [
    {
     "data": {
      "text/plain": [
       "([-108.30094098130604,\n",
       "  -108.30094098130553,\n",
       "  -112.13054159958025,\n",
       "  -112.13054159959061,\n",
       "  -112.01279939214008,\n",
       "  -112.01279939209863,\n",
       "  -112.15540439871678],\n",
       " -112.08794632717384,\n",
       " [5.084821452783217e-13,\n",
       "  -3.829600618274719,\n",
       "  -1.0362081563168126e-11,\n",
       "  0.11774220745053297,\n",
       "  4.1448326252672496e-11,\n",
       "  -0.14260500661814976])"
      ]
     },
     "execution_count": 50,
     "metadata": {},
     "output_type": "execute_result"
    }
   ],
   "source": [
    "dl=.1\n",
    "Es=np.asarray([E(-3*dl),E(-2*dl),E(-dl),e_nn,E(dl),E(2*dl),E(3*dl)])\n",
    "apdft=[e_nn]\n",
    "inc=[]\n",
    "for i in range(6):\n",
    "    inc.append(fds7[i+1].dot(np.asarray(Es))/dl**(i+1)/np.math.factorial(i+1))\n",
    "    apdft.append(apdft[i]+inc[-1] )\n",
    "apdft,e_co,inc"
   ]
  },
  {
   "cell_type": "code",
   "execution_count": 52,
   "metadata": {},
   "outputs": [
    {
     "data": {
      "text/plain": [
       "([-108.30094098130604,\n",
       "  -108.30094098130712,\n",
       "  -112.13048455757138,\n",
       "  -112.13048455754769,\n",
       "  -112.0198726005909],\n",
       " -112.08794632717384,\n",
       " [-1.0835776720341528e-12,\n",
       "  -3.8295435762642596,\n",
       "  2.368475785867e-11,\n",
       "  0.11061195695679277])"
      ]
     },
     "execution_count": 52,
     "metadata": {},
     "output_type": "execute_result"
    }
   ],
   "source": [
    "dl=.1\n",
    "Es=np.asarray([E(-2*dl),E(-dl),e_nn,E(dl),E(2*dl)])\n",
    "apdft=[e_nn]\n",
    "inc=[]\n",
    "for i in range(4):\n",
    "    inc.append(fds5[i+1].dot(np.asarray(Es))/dl**(i+1)/np.math.factorial(i+1))\n",
    "    apdft.append(apdft[i]+fds5[i+1].dot(np.asarray(Es))/dl**(i+1)/np.math.factorial(i+1) )\n",
    "apdft,e_co,inc"
   ]
  },
  {
   "cell_type": "code",
   "execution_count": 53,
   "metadata": {},
   "outputs": [
    {
     "data": {
      "text/plain": [
       "([-108.30094098130604,\n",
       "  -108.30094098130526,\n",
       "  -110.22324647198678,\n",
       "  -110.22324647219757,\n",
       "  -110.24579661902592,\n",
       "  -110.2457966097415,\n",
       "  -110.2481796563904],\n",
       " -110.24815024580921,\n",
       " -112.08794632717384,\n",
       " [7.771561172376096e-13,\n",
       "  -1.9223054906815302,\n",
       "  -2.10794344942163e-10,\n",
       "  -0.022550146828355835,\n",
       "  9.284425080598641e-09,\n",
       "  -0.0023830466489016535])"
      ]
     },
     "execution_count": 53,
     "metadata": {},
     "output_type": "execute_result"
    }
   ],
   "source": [
    "dl=.05\n",
    "Es=np.asarray([E(-3*dl,zbs=False),E(-2*dl,zbs=False),E(-dl,zbs=False),e_nn,E(dl,zbs=False),E(2*dl,zbs=False),E(3*dl,zbs=False)])\n",
    "apdft=[e_nn]\n",
    "inc=[]\n",
    "for i in range(6):\n",
    "    inc.append(fds7[i+1].dot(np.asarray(Es))/dl**(i+1)/np.math.factorial(i+1))\n",
    "    apdft.append(apdft[i]+fds7[i+1].dot(np.asarray(Es))/dl**(i+1)/np.math.factorial(i+1) )\n",
    "apdft,eT_R,e_co,inc"
   ]
  },
  {
   "cell_type": "code",
   "execution_count": 56,
   "metadata": {},
   "outputs": [],
   "source": [
    "def E_cn(l):\n",
    "    mol_l=FcM(fcs=[-l,0],atom=\"N1 0 0 0; N2 0 0 2.05\",unit=\"Bohrs\",basis={\"N1\":g321(7-l,ref=7),\"N2\":g321(7)},verbose=1)\n",
    "    mf_l=scf.RHF(mol_l)\n",
    "    #mf_l.conv_tol=1e-12\n",
    "    #mf_l.conv_tol_grad=1e-12\n",
    "    e=mf_l.scf(dm0=mf_l.init_guess_by_1e())\n",
    "    return e"
   ]
  },
  {
   "cell_type": "code",
   "execution_count": 57,
   "metadata": {},
   "outputs": [
    {
     "name": "stdout",
     "output_type": "stream",
     "text": [
      "converged SCF energy = -91.7315947659029\n"
     ]
    }
   ],
   "source": [
    "mf_cn=scf.RHF(gto.M(atom=\"C 0 0 0; N 0 0 2.05\",unit=\"Bohrs\",basis=bse.get_basis(\"3-21g\"\\\n",
    "                                                       ,fmt=\"nwchem\",elements=[\"C\",\"N\",\"O\"]),charge=-1))\n",
    "e_cn=mf_cn.scf()"
   ]
  },
  {
   "cell_type": "code",
   "execution_count": 58,
   "metadata": {},
   "outputs": [
    {
     "data": {
      "text/plain": [
       "(array([-108.30094098,  -90.14371677,  -91.7765573 ,  -91.73488619,\n",
       "         -91.72561179,  -91.72293386,  -91.72391797]),\n",
       " -91.73159476590291,\n",
       " array([-1.65693462e+01,  1.58787799e+00, -4.49625366e-02, -3.29142410e-03,\n",
       "         5.98297472e-03,  8.66090550e-03,  7.67679674e-03]))"
      ]
     },
     "execution_count": 58,
     "metadata": {},
     "output_type": "execute_result"
    }
   ],
   "source": [
    "dl=.1\n",
    "Es=np.asarray([E_cn(-3*dl),E_cn(-2*dl),E_cn(-dl),e_nn,E_cn(dl),E_cn(2*dl),E_cn(3*dl)])\n",
    "apdft=[e_nn]\n",
    "inc=[]\n",
    "for i in range(6):\n",
    "    inc.append(np.einsum('i,i',fds7[i+1],Es)/dl**(i+1)/np.math.factorial(i+1))\n",
    "    apdft.append(apdft[i]+inc[-1] )\n",
    "apdft=np.asarray(apdft)\n",
    "apdft,e_cn,apdft-e_cn"
   ]
  },
  {
   "cell_type": "code",
   "execution_count": 22,
   "metadata": {},
   "outputs": [],
   "source": [
    "#check if basis are orthonormal"
   ]
  },
  {
   "cell_type": "code",
   "execution_count": 24,
   "metadata": {},
   "outputs": [],
   "source": [
    "def S(l,zbs=True):\n",
    "    if zbs:\n",
    "        mol_l=FcM(fcs=[-l,l],atom=\"N1 0 0 0; N2 0 0 2.05\",unit=\"Bohrs\",basis={\"N1\":g321(7-l,ref=7),\"N2\":g321(7+l,ref=7)},verbose=1)\n",
    "    else:\n",
    "         mol_l=FcM(fcs=[-l,l],atom=\"N1 0 0 0; N2 0 0 2.05\",unit=\"Bohrs\",basis={\"N1\":g321(7,ref=7),\"N2\":g321(7,ref=7)},verbose=1)       \n",
    "    mf_l=scf.RHF(mol_l)\n",
    "    #mf_l.conv_tol=1e-12\n",
    "    #mf_l.conv_tol_grad=1e-12\n",
    "    #e=mf_l.scf(dm0=mf_l.init_guess_by_1e())\n",
    "    return mf_l.get_ovlp()"
   ]
  },
  {
   "cell_type": "code",
   "execution_count": 54,
   "metadata": {},
   "outputs": [
    {
     "name": "stdout",
     "output_type": "stream",
     "text": [
      "[1. 1. 1. 1. 1. 1. 1. 1. 1. 1. 1. 1. 1. 1. 1. 1. 1. 1.]\n",
      "[1. 1. 1. 1. 1. 1. 1. 1. 1. 1. 1. 1. 1. 1. 1. 1. 1. 1.]\n",
      "[1. 1. 1. 1. 1. 1. 1. 1. 1. 1. 1. 1. 1. 1. 1. 1. 1. 1.]\n",
      "[1. 1. 1. 1. 1. 1. 1. 1. 1. 1. 1. 1. 1. 1. 1. 1. 1. 1.]\n",
      "[1. 1. 1. 1. 1. 1. 1. 1. 1. 1. 1. 1. 1. 1. 1. 1. 1. 1.]\n",
      "[1. 1. 1. 1. 1. 1. 1. 1. 1. 1. 1. 1. 1. 1. 1. 1. 1. 1.]\n",
      "[1. 1. 1. 1. 1. 1. 1. 1. 1. 1. 1. 1. 1. 1. 1. 1. 1. 1.]\n"
     ]
    }
   ],
   "source": [
    "for i in np.linspace(0,1,7):\n",
    "    print(S(i).diagonal())  #automatic normalization"
   ]
  },
  {
   "cell_type": "code",
   "execution_count": 55,
   "metadata": {},
   "outputs": [
    {
     "data": {
      "text/plain": [
       "(<matplotlib.image.AxesImage at 0x7f7e3cdeb278>,\n",
       " <matplotlib.image.AxesImage at 0x7f7e3cbaf2e8>)"
      ]
     },
     "execution_count": 55,
     "metadata": {},
     "output_type": "execute_result"
    },
    {
     "data": {
      "image/png": "[encoded data removed]",
      "text/plain": [
       "<Figure size 288x288 with 1 Axes>"
      ]
     },
     "metadata": {
      "needs_background": "light"
     },
     "output_type": "display_data"
    },
    {
     "data": {
      "image/png": "[encoded data removed]",
      "text/plain": [
       "<Figure size 288x288 with 1 Axes>"
      ]
     },
     "metadata": {
      "needs_background": "light"
     },
     "output_type": "display_data"
    }
   ],
   "source": [
    "plt.matshow(S(0)),plt.matshow(S(.5))"
   ]
  },
  {
   "cell_type": "code",
   "execution_count": null,
   "metadata": {},
   "outputs": [],
   "source": []
  }
 ],
 "metadata": {
  "kernelspec": {
   "display_name": "Python 3",
   "language": "python",
   "name": "python3"
  },
  "language_info": {
   "codemirror_mode": {
    "name": "ipython",
    "version": 3
   },
   "file_extension": ".py",
   "mimetype": "text/x-python",
   "name": "python",
   "nbconvert_exporter": "python",
   "pygments_lexer": "ipython3",
   "version": "3.7.3"
  }
 },
 "nbformat": 4,
 "nbformat_minor": 4
}
