{
 "cells": [
  {
   "cell_type": "code",
   "execution_count": 1,
   "metadata": {},
   "outputs": [],
   "source": [
    "import basis_set_exchange as bse\n",
    "import scipy as sp\n",
    "import matplotlib.pyplot as plt\n",
    "from pyscf import gto,scf\n",
    "import copy\n",
    "import numpy as np\n",
    "import scipy\n",
    "from scipy.interpolate import interp1d\n",
    "from pyscf.data.elements import _symbol"
   ]
  },
  {
   "cell_type": "code",
   "execution_count": 2,
   "metadata": {},
   "outputs": [],
   "source": [
    "import sys\n",
    "sys.path.append(\"./Libs\")\n",
    "from FcMole import FcM\n",
    "from FDcoeffs import get_coeffs"
   ]
  },
  {
   "cell_type": "code",
   "execution_count": 264,
   "metadata": {},
   "outputs": [],
   "source": [
    "def pcX(z,ref=None):\n",
    "    if z <1.e-10: raise Exception(\"non implemented Zero charge atom\")\n",
    "    if z%1 <1.e-10:\n",
    "        return gto.basis.load(bse.get_basis(\"pcX-1\",fmt=\"nwchem\",elements=[int(z)]),_symbol(int(z)))\n",
    "    elif ref:\n",
    "        rb=pcX(ref)\n",
    "        rbm=pcX(ref-1)\n",
    "        rbp=pcX(ref+1)\n",
    "        fb=copy.deepcopy(rb)\n",
    "        for i in range(len(fb)):  # ref+a(z-zr) +b(z-zr)^2\n",
    "            a=(rbp[i][1][0]-rbm[i][1][0])/2\n",
    "            b=(rbp[i][1][0]+rbm[i][1][0]-2*rb[i][1][0])/2\n",
    "            fb[i][1][0]+=a*(z-ref)+b*abs(z-ref)**2\n",
    "        return fb\n",
    "    else: raise Exception(\"can't get the fractional charge basis set, frac val and no ref\")"
   ]
  },
  {
   "cell_type": "code",
   "execution_count": 283,
   "metadata": {},
   "outputs": [
    {
     "data": {
      "text/plain": [
       "([[0, [2610.67, 1.0]],\n",
       "  [0, [392.872, 1.0]],\n",
       "  [0, [89.2838, 1.0]],\n",
       "  [0, [24.7795, 1.0]],\n",
       "  [0, [7.56349, 1.0]],\n",
       "  [0, [1.22156, 1.0]],\n",
       "  [0, [0.350296, 1.0]],\n",
       "  [1, [19.3002, 1.0]],\n",
       "  [1, [4.19491, 1.0]],\n",
       "  [1, [1.12806, 1.0]],\n",
       "  [1, [0.276081, 1.0]],\n",
       "  [2, [1.04881, 1.0]]],\n",
       " [[0, [2610.024744295, 1.0]],\n",
       "  [0, [392.77493140949997, 1.0]],\n",
       "  [0, [89.26173639224999, 1.0]],\n",
       "  [0, [24.773336426949996, 1.0]],\n",
       "  [0, [7.561576329709999, 1.0]],\n",
       "  [0, [1.2212333587775, 1.0]],\n",
       "  [0, [0.35020437761549994, 1.0]],\n",
       "  [1, [19.29567272795, 1.0]],\n",
       "  [1, [4.193888839135, 1.0]],\n",
       "  [1, [1.1277921717185, 1.0]],\n",
       "  [1, [0.2760230082635, 1.0]],\n",
       "  [2, [1.0487098869859999, 1.0]]])"
      ]
     },
     "execution_count": 283,
     "metadata": {},
     "output_type": "execute_result"
    }
   ],
   "source": [
    "pcX(8,ref=7),pcX(7.999,ref=7)"
   ]
  },
  {
   "cell_type": "code",
   "execution_count": 266,
   "metadata": {},
   "outputs": [
    {
     "data": {
      "image/png": "[encoded data removed]",
      "text/plain": [
       "<Figure size 432x288 with 1 Axes>"
      ]
     },
     "metadata": {
      "needs_background": "light"
     },
     "output_type": "display_data"
    }
   ],
   "source": [
    "x=np.linspace(6.01,8.01,21)\n",
    "a=[]\n",
    "for i in x:\n",
    "    plt.scatter(i,pcX(i,ref=7)[0][1][0],color=\"blue\")\n",
    "    a.append(pcX(i,ref=7)[1][1][0])"
   ]
  },
  {
   "cell_type": "code",
   "execution_count": 267,
   "metadata": {},
   "outputs": [],
   "source": [
    "def E(l,zbs=True):\n",
    "    if zbs:\n",
    "        mol_l=FcM(fcs=[-l,l],atom=\"N1 0 0 0; N2 0 0 2.05\",unit=\"Bohrs\",basis={\"N1\":pcX(7-l,ref=7),\"N2\":pcX(7+l,ref=7)},verbose=1)\n",
    "    else:\n",
    "         mol_l=FcM(fcs=[-l,l],atom=\"N1 0 0 0; N2 0 0 2.05\",unit=\"Bohrs\",basis={\"N1\":pcX(7,ref=7),\"N2\":pcX(7,ref=7)},verbose=1)       \n",
    "    mf_l=scf.RHF(mol_l)\n",
    "    #mf_l.conv_tol=1e-12\n",
    "    #mf_l.conv_tol_grad=1e-12\n",
    "    e=mf_l.scf(dm0=mf_l.init_guess_by_1e())\n",
    "    return e"
   ]
  },
  {
   "cell_type": "code",
   "execution_count": 268,
   "metadata": {},
   "outputs": [
    {
     "data": {
      "text/plain": [
       "[<matplotlib.lines.Line2D at 0x7f5950ede128>]"
      ]
     },
     "execution_count": 268,
     "metadata": {},
     "output_type": "execute_result"
    },
    {
     "data": {
      "image/png": "[encoded data removed]",
      "text/plain": [
       "<Figure size 432x288 with 1 Axes>"
      ]
     },
     "metadata": {
      "needs_background": "light"
     },
     "output_type": "display_data"
    }
   ],
   "source": [
    "a=[]\n",
    "for i in np.linspace(0,1,6):\n",
    "    a.append(E(i))\n",
    "plt.plot(a)"
   ]
  },
  {
   "cell_type": "code",
   "execution_count": 269,
   "metadata": {},
   "outputs": [],
   "source": [
    "eT_R=E(-1,zbs=False)"
   ]
  },
  {
   "cell_type": "code",
   "execution_count": 270,
   "metadata": {},
   "outputs": [
    {
     "data": {
      "text/plain": [
       "(3.641128406052162e-05, -3.641128406052162e-05)"
      ]
     },
     "execution_count": 270,
     "metadata": {},
     "output_type": "execute_result"
    }
   ],
   "source": [
    ".0002**1.2,-.0002**1.2"
   ]
  },
  {
   "cell_type": "code",
   "execution_count": 271,
   "metadata": {},
   "outputs": [
    {
     "name": "stdout",
     "output_type": "stream",
     "text": [
      "converged SCF energy = -112.716141826715\n",
      "converged SCF energy = -108.916591616523\n"
     ]
    }
   ],
   "source": [
    "e_co=scf.RHF(gto.M(atom=\"C 0 0 0; O 0 0 2.05\",unit=\"Bohrs\",basis=bse.get_basis(\"pcX-1\"\\\n",
    "                                                       ,fmt=\"nwchem\",elements=[\"C\",\"N\",\"O\"]))).scf()\n",
    "e_nn=scf.RHF(gto.M(atom=\"N 0 0 0; N 0 0 2.05\",unit=\"Bohrs\",basis=bse.get_basis(\"pcX-1\"\\\n",
    "                                                       ,fmt=\"nwchem\",elements=[\"C\",\"N\",\"O\"]))).scf()"
   ]
  },
  {
   "cell_type": "code",
   "execution_count": 272,
   "metadata": {},
   "outputs": [],
   "source": [
    "#5pts finite difference coefficients\n",
    "fd1=np.asarray([1/12,-2/3 ,0,2/3,-1/12])\n",
    "fd2=np.asarray([-1/12,4/3,-5/2,4/3,-1/12])\n",
    "fd3=np.asarray([-1/2,1,0,-1,1/2])\n",
    "fd4=np.asarray([1,-4,6,-4,1])\n",
    "fds=[fd1,fd2,fd3,fd4]\n",
    "fds5=get_coeffs(5)\n",
    "fds7=get_coeffs(7)"
   ]
  },
  {
   "cell_type": "code",
   "execution_count": 305,
   "metadata": {},
   "outputs": [
    {
     "data": {
      "text/plain": [
       "([-108.91659161652345,\n",
       "  -108.91659161652134,\n",
       "  -112.73562901338047,\n",
       "  -112.73562901379496,\n",
       "  -112.69171344946622,\n",
       "  -112.69171343601327,\n",
       "  -112.75309686168409],\n",
       " -112.71614182671497,\n",
       " [2.1094237467877974e-12,\n",
       "  -3.8190373968591365,\n",
       "  -4.14483262526725e-10,\n",
       "  0.04391556432873736,\n",
       "  1.345294246372456e-08,\n",
       "  -0.0613834256708085])"
      ]
     },
     "execution_count": 305,
     "metadata": {},
     "output_type": "execute_result"
    }
   ],
   "source": [
    "dl=.05\n",
    "Es=np.asarray([E(-3*dl),E(-2*dl),E(-dl),e_nn,E(dl),E(2*dl),E(3*dl)])\n",
    "apdft=[e_nn]\n",
    "inc=[]\n",
    "for i in range(6):\n",
    "    inc.append(fds7[i+1].dot(np.asarray(Es))/dl**(i+1)/np.math.factorial(i+1))\n",
    "    apdft.append(apdft[i]+inc[-1] )\n",
    "apdft,e_co,inc"
   ]
  },
  {
   "cell_type": "code",
   "execution_count": 284,
   "metadata": {},
   "outputs": [
    {
     "data": {
      "text/plain": [
       "([-108.91659161652345,\n",
       "  -108.91659161653304,\n",
       "  -112.73562906493122,\n",
       "  -112.73562905308884,\n",
       "  -112.6917215976396],\n",
       " -112.71614182671497,\n",
       " [-9.592326932761353e-12,\n",
       "  -3.819037448398177,\n",
       "  1.1842378929335e-08,\n",
       "  0.04390745544924357])"
      ]
     },
     "execution_count": 284,
     "metadata": {},
     "output_type": "execute_result"
    }
   ],
   "source": [
    "dl=.01\n",
    "Es=np.asarray([E(-2*dl),E(-dl),e_nn,E(dl),E(2*dl)])\n",
    "apdft=[e_nn]\n",
    "inc=[]\n",
    "for i in range(4):\n",
    "    inc.append(fds5[i+1].dot(np.asarray(Es))/dl**(i+1)/np.math.factorial(i+1))\n",
    "    apdft.append(apdft[i]+fds5[i+1].dot(np.asarray(Es))/dl**(i+1)/np.math.factorial(i+1) )\n",
    "apdft,e_co,inc"
   ]
  },
  {
   "cell_type": "code",
   "execution_count": 304,
   "metadata": {},
   "outputs": [
    {
     "data": {
      "text/plain": [
       "([-108.91659161652345,\n",
       "  -108.91659161652306,\n",
       "  -112.67476193797233,\n",
       "  -112.67476193818312,\n",
       "  -112.66823245189813,\n",
       "  -112.66823244261371,\n",
       "  -112.66815066767134],\n",
       " -112.66818034312838,\n",
       " -112.71614182671497,\n",
       " [3.863576125695545e-13,\n",
       "  -3.7581703214492714,\n",
       "  -2.10794344942163e-10,\n",
       "  0.006529486284989615,\n",
       "  9.284425080598641e-09,\n",
       "  8.177494237315838e-05])"
      ]
     },
     "execution_count": 304,
     "metadata": {},
     "output_type": "execute_result"
    }
   ],
   "source": [
    "dl=.05\n",
    "Es=np.asarray([E(-3*dl,zbs=False),E(-2*dl,zbs=False),E(-dl,zbs=False),e_nn,E(dl,zbs=False),E(2*dl,zbs=False),E(3*dl,zbs=False)])\n",
    "apdft_old=[e_nn]\n",
    "inc_old=[]\n",
    "for i in range(6):\n",
    "    inc_old.append(fds7[i+1].dot(np.asarray(Es))/dl**(i+1)/np.math.factorial(i+1))\n",
    "    apdft_old.append(apdft_old[i]+fds7[i+1].dot(np.asarray(Es))/dl**(i+1)/np.math.factorial(i+1) )\n",
    "apdft_old,eT_R,e_co,inc_old"
   ]
  },
  {
   "cell_type": "code",
   "execution_count": 315,
   "metadata": {},
   "outputs": [
    {
     "data": {
      "text/plain": [
       "<matplotlib.lines.Line2D at 0x7f5950687ba8>"
      ]
     },
     "execution_count": 315,
     "metadata": {},
     "output_type": "execute_result"
    },
    {
     "data": {
      "image/png": "[encoded data removed]",
      "text/plain": [
       "<Figure size 432x288 with 1 Axes>"
      ]
     },
     "metadata": {
      "needs_background": "light"
     },
     "output_type": "display_data"
    }
   ],
   "source": [
    "plt.plot(apdft[2:])\n",
    "plt.plot(apdft_old[2:])\n",
    "plt.axhline(e_co,color=\"C0\",ls=\"--\")\n",
    "plt.axhline(eT_R,color=\"C1\",ls=\"--\")"
   ]
  },
  {
   "cell_type": "code",
   "execution_count": 300,
   "metadata": {},
   "outputs": [
    {
     "data": {
      "image/png": "[encoded data removed]",
      "text/plain": [
       "<Figure size 432x288 with 1 Axes>"
      ]
     },
     "metadata": {
      "needs_background": "light"
     },
     "output_type": "display_data"
    }
   ],
   "source": [
    "ple=[]\n",
    "ple0=[]\n",
    "x=np.linspace(-1,1,21)\n",
    "for i in x:\n",
    "    ple.append(E(i))\n",
    "    ple0.append(E(i,zbs=False))\n",
    "plt.plot(ple)\n",
    "plt.plot(ple0)\n",
    "ple=np.array(ple)\n",
    "ple0=np.array(ple0)\n",
    "#plt.axhline(e_co)"
   ]
  },
  {
   "cell_type": "code",
   "execution_count": 301,
   "metadata": {},
   "outputs": [
    {
     "data": {
      "text/plain": [
       "array([-8.01088061e-03,  1.89197563e-11,  2.73258157e-02, -4.53081238e-11,\n",
       "       -3.98680300e-02,  3.58311782e-11,  3.31789297e-02, -1.01953822e-11,\n",
       "       -6.05843300e-02,  6.76758598e-13, -3.17282051e-06])"
      ]
     },
     "execution_count": 301,
     "metadata": {},
     "output_type": "execute_result"
    }
   ],
   "source": [
    "scipy.polyfit(x,ple-ple0,10)"
   ]
  },
  {
   "cell_type": "code",
   "execution_count": 303,
   "metadata": {},
   "outputs": [
    {
     "data": {
      "image/png": "[encoded data removed]",
      "text/plain": [
       "<Figure size 432x288 with 1 Axes>"
      ]
     },
     "metadata": {
      "needs_background": "light"
     },
     "output_type": "display_data"
    },
    {
     "data": {
      "text/plain": [
       "[<matplotlib.lines.Line2D at 0x7f5950ace4e0>]"
      ]
     },
     "execution_count": 303,
     "metadata": {},
     "output_type": "execute_result"
    },
    {
     "data": {
      "image/png": "[encoded data removed]",
      "text/plain": [
       "<Figure size 432x288 with 1 Axes>"
      ]
     },
     "metadata": {
      "needs_background": "light"
     },
     "output_type": "display_data"
    }
   ],
   "source": [
    "plt.plot(scipy.polyfit(x,ple0,10)[:-3]) #this converges\n",
    "plt.show()\n",
    "plt.plot(scipy.polyfit(x,ple,20)[:-3]) #this doesn't"
   ]
  },
  {
   "cell_type": "code",
   "execution_count": 299,
   "metadata": {},
   "outputs": [
    {
     "data": {
      "text/plain": [
       "array([ 1.22895471e+14,  9.01969433e+10, -4.71684989e+12, -5.95712680e+09,\n",
       "        7.49129551e+10,  1.44495816e+08, -6.40246121e+08, -1.77208548e+06,\n",
       "        3.20717584e+06,  1.22806264e+04, -9.61243564e+03, -4.99029739e+01,\n",
       "        1.69520656e+01,  1.18166128e-01, -8.10252185e-02, -1.55290546e-04,\n",
       "        4.39538596e-02,  9.93511655e-08, -3.81903746e+00, -1.98389443e-11,\n",
       "       -1.08916592e+02])"
      ]
     },
     "execution_count": 299,
     "metadata": {},
     "output_type": "execute_result"
    }
   ],
   "source": [
    "scipy.polyfit(x,ple,20)"
   ]
  },
  {
   "cell_type": "code",
   "execution_count": 294,
   "metadata": {},
   "outputs": [
    {
     "data": {
      "text/plain": [
       "array([ 2.73218362e-02,  3.08326034e-07, -1.21617306e-01, -1.15532548e-06,\n",
       "        2.41006288e-01,  1.77594172e-06, -2.89544171e-01, -1.45060278e-06,\n",
       "        2.47539475e-01,  6.81315427e-07, -1.71388236e-01, -1.85700199e-07,\n",
       "        1.07187970e-01,  2.80541980e-08, -6.49646218e-02, -2.05779271e-09,\n",
       "        4.39460036e-02,  4.85839141e-11, -3.81903745e+00,  2.29182590e-13,\n",
       "       -1.08916592e+02])"
      ]
     },
     "execution_count": 294,
     "metadata": {},
     "output_type": "execute_result"
    }
   ],
   "source": [
    "scipy.polyfit(x,ple,20)"
   ]
  },
  {
   "cell_type": "code",
   "execution_count": 194,
   "metadata": {},
   "outputs": [
    {
     "data": {
      "text/plain": [
       "array([-3.79955021, -3.07933012, -2.43444893, -1.86499486, -1.37105646,\n",
       "       -0.95273048, -0.61013132, -0.34339863, -0.15269508, -0.03818604,\n",
       "        0.        , -0.03818604, -0.15269508, -0.34339863, -0.61013132,\n",
       "       -0.95273048, -1.37105646, -1.86499486, -2.43444893, -3.07933012,\n",
       "       -3.79955021])"
      ]
     },
     "execution_count": 194,
     "metadata": {},
     "output_type": "execute_result"
    }
   ],
   "source": [
    "ple-e_nn"
   ]
  },
  {
   "cell_type": "code",
   "execution_count": 195,
   "metadata": {},
   "outputs": [
    {
     "data": {
      "text/plain": [
       "array([-3.65738512, -2.34107217, -1.31700406, -0.585383  , -0.14635292,\n",
       "        0.        , -0.14635292, -0.585383  , -1.31700406, -2.34107217,\n",
       "       -3.65738512])"
      ]
     },
     "execution_count": 195,
     "metadata": {},
     "output_type": "execute_result"
    }
   ],
   "source": [
    "-(7+np.linspace(-1,1,11))**(2.4)/2-(7-np.linspace(-1,1,11))**(2.4)/2+7**(2.4)"
   ]
  },
  {
   "cell_type": "code",
   "execution_count": 197,
   "metadata": {},
   "outputs": [
    {
     "data": {
      "text/plain": [
       "array([-0.14216509, -0.11661714, -0.09337676, -0.07250136, -0.0540524 ,\n",
       "       -0.03810318, -0.02474832, -0.01411128, -0.00634216, -0.00159737,\n",
       "        0.        , -0.00159737, -0.00634216, -0.01411128, -0.02474832,\n",
       "       -0.03810318, -0.0540524 , -0.07250136, -0.09337676, -0.11661714,\n",
       "       -0.14216509])"
      ]
     },
     "execution_count": 197,
     "metadata": {},
     "output_type": "execute_result"
    }
   ],
   "source": [
    "delta_en=ple-e_nn+(7+x)**(2.4)/2+(7-x)**(2.4)/2-7**(2.4)\n",
    "delta_en"
   ]
  },
  {
   "cell_type": "code",
   "execution_count": 198,
   "metadata": {},
   "outputs": [
    {
     "data": {
      "text/plain": [
       "array([-8.01100911e-03, -2.26598695e-12,  2.72959035e-02,  3.57382592e-12,\n",
       "       -3.97900578e-02, -1.99141903e-12,  3.82149107e-02,  6.79545065e-13,\n",
       "       -1.59871850e-01, -1.31017536e-13, -3.17293469e-06])"
      ]
     },
     "execution_count": 198,
     "metadata": {},
     "output_type": "execute_result"
    }
   ],
   "source": [
    "scipy.polyfit(x,delta_en,10)"
   ]
  },
  {
   "cell_type": "code",
   "execution_count": 199,
   "metadata": {},
   "outputs": [
    {
     "data": {
      "text/plain": [
       "array([-8.01100889e-03, -2.96368549e-12,  2.72959290e-02,  5.46190026e-12,\n",
       "       -3.97858316e-02, -3.45133477e-12,  3.97083323e-02,  1.04312063e-12,\n",
       "       -3.81875464e+00, -1.52582720e-13, -1.08916595e+02])"
      ]
     },
     "execution_count": 199,
     "metadata": {},
     "output_type": "execute_result"
    }
   ],
   "source": [
    "scipy.polyfit(x,ple,10)"
   ]
  },
  {
   "cell_type": "code",
   "execution_count": 203,
   "metadata": {},
   "outputs": [
    {
     "data": {
      "text/plain": [
       "(-112.70856699788524, -112.71614182671563)"
      ]
     },
     "execution_count": 203,
     "metadata": {},
     "output_type": "execute_result"
    }
   ],
   "source": [
    "E(.999),E(1)"
   ]
  },
  {
   "cell_type": "code",
   "execution_count": 87,
   "metadata": {},
   "outputs": [
    {
     "data": {
      "text/plain": [
       "[<matplotlib.lines.Line2D at 0x7f5952de5e80>]"
      ]
     },
     "execution_count": 87,
     "metadata": {},
     "output_type": "execute_result"
    },
    {
     "data": {
      "image/png": "[encoded data removed]",
      "text/plain": [
       "<Figure size 432x288 with 1 Axes>"
      ]
     },
     "metadata": {
      "needs_background": "light"
     },
     "output_type": "display_data"
    }
   ],
   "source": [
    "plt.plot(delta_en[:5])"
   ]
  },
  {
   "cell_type": "code",
   "execution_count": 88,
   "metadata": {},
   "outputs": [],
   "source": [
    "rat_en=ple/((7+np.linspace(-1,1,11))**(2.4)/2+(7-np.linspace(-1,1,11))**(2.4)/2)"
   ]
  },
  {
   "cell_type": "code",
   "execution_count": 91,
   "metadata": {},
   "outputs": [
    {
     "data": {
      "text/plain": [
       "[<matplotlib.lines.Line2D at 0x7f59536e0c50>]"
      ]
     },
     "execution_count": 91,
     "metadata": {},
     "output_type": "execute_result"
    },
    {
     "data": {
      "image/png": "[encoded data removed]",
      "text/plain": [
       "<Figure size 432x288 with 1 Axes>"
      ]
     },
     "metadata": {
      "needs_background": "light"
     },
     "output_type": "display_data"
    }
   ],
   "source": [
    "plt.plot(rat_en)"
   ]
  },
  {
   "cell_type": "code",
   "execution_count": 90,
   "metadata": {},
   "outputs": [
    {
     "data": {
      "text/plain": [
       "array([-1.44749043e-04,  7.01783467e-13,  4.05604935e-04, -1.49329390e-12,\n",
       "       -4.83360656e-04,  1.02961911e-12,  4.11172786e-04, -2.56355637e-13,\n",
       "       -7.93838822e-04,  1.67459233e-14, -1.02060748e+00])"
      ]
     },
     "execution_count": 90,
     "metadata": {},
     "output_type": "execute_result"
    }
   ],
   "source": [
    "scipy.polyfit(np.linspace(-1,1,21),rat_en,10)"
   ]
  },
  {
   "cell_type": "code",
   "execution_count": 161,
   "metadata": {},
   "outputs": [],
   "source": [
    "def func(l,a,b):\n",
    "    return (-(7+l)**(2.4)/2-(7-l)**(2.4)/2+7**(2.4))*a+\\\n",
    "            (-(7+l)**(2.3)/2-(7-l)**(2.3)/2+7**(2.3))*b+e_nn"
   ]
  },
  {
   "cell_type": "code",
   "execution_count": 162,
   "metadata": {},
   "outputs": [
    {
     "data": {
      "text/plain": [
       "(-112.57397673610315, -112.716141826715)"
      ]
     },
     "execution_count": 162,
     "metadata": {},
     "output_type": "execute_result"
    }
   ],
   "source": [
    "func(1,1,.0),e_co\n"
   ]
  },
  {
   "cell_type": "code",
   "execution_count": 172,
   "metadata": {},
   "outputs": [
    {
     "data": {
      "text/plain": [
       "(array([0.6852106 , 0.48888935]), array([[inf, inf],\n",
       "        [inf, inf]]))"
      ]
     },
     "execution_count": 172,
     "metadata": {},
     "output_type": "execute_result"
    }
   ],
   "source": [
    "scipy.optimize.curve_fit(func, np.linspace(-1,1,11)[4:7], ple[4:7],p0=[.5,.5])\n"
   ]
  },
  {
   "cell_type": "code",
   "execution_count": 173,
   "metadata": {},
   "outputs": [
    {
     "data": {
      "text/plain": [
       "(-112.7325327222326, -112.716141826715)"
      ]
     },
     "execution_count": 173,
     "metadata": {},
     "output_type": "execute_result"
    }
   ],
   "source": [
    "func(-1, 0.6852106 , 0.48888935 ),e_co"
   ]
  },
  {
   "cell_type": "code",
   "execution_count": 167,
   "metadata": {},
   "outputs": [
    {
     "data": {
      "text/plain": [
       "[<matplotlib.lines.Line2D at 0x7f59514f29b0>]"
      ]
     },
     "execution_count": 167,
     "metadata": {},
     "output_type": "execute_result"
    },
    {
     "data": {
      "image/png": "[encoded data removed]",
      "text/plain": [
       "<Figure size 432x288 with 1 Axes>"
      ]
     },
     "metadata": {
      "needs_background": "light"
     },
     "output_type": "display_data"
    }
   ],
   "source": [
    "plt.plot(func(np.linspace(-1,1,11),66.15529149, -88.8886787  ))\n",
    "plt.plot(ple)"
   ]
  },
  {
   "cell_type": "markdown",
   "metadata": {},
   "source": [
    "Very unpleasent results, the inclusion of a z^2.4 term does't improve quality of the prediction because is absorbed by the taylor series also rational serie doesn't converge better than the standard.\n",
    "Only idea is trying predict the density matrix :("
   ]
  },
  {
   "cell_type": "code",
   "execution_count": null,
   "metadata": {},
   "outputs": [],
   "source": []
  }
 ],
 "metadata": {
  "kernelspec": {
   "display_name": "Python 3",
   "language": "python",
   "name": "python3"
  },
  "language_info": {
   "codemirror_mode": {
    "name": "ipython",
    "version": 3
   },
   "file_extension": ".py",
   "mimetype": "text/x-python",
   "name": "python",
   "nbconvert_exporter": "python",
   "pygments_lexer": "ipython3",
   "version": "3.7.3"
  }
 },
 "nbformat": 4,
 "nbformat_minor": 4
}
