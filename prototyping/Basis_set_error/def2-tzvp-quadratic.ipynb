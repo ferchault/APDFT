{
 "cells": [
  {
   "cell_type": "code",
   "execution_count": 1,
   "metadata": {},
   "outputs": [],
   "source": [
    "import basis_set_exchange as bse\n",
    "import scipy as sp\n",
    "import matplotlib.pyplot as plt\n",
    "from pyscf import gto,scf\n",
    "import copy\n",
    "import numpy as np\n",
    "import scipy\n",
    "from scipy.interpolate import interp1d\n",
    "from pyscf.data.elements import _symbol\n",
    "from numpy.linalg import norm"
   ]
  },
  {
   "cell_type": "code",
   "execution_count": 2,
   "metadata": {},
   "outputs": [],
   "source": [
    "import sys\n",
    "sys.path.append(\"./Libs\")\n",
    "from FcMole import FcM\n",
    "from FDcoeffs import get_coeffs"
   ]
  },
  {
   "cell_type": "code",
   "execution_count": 5,
   "metadata": {},
   "outputs": [
    {
     "data": {
      "text/plain": [
       "([[0,\n",
       "   [19730.800647, 0.00021887984991],\n",
       "   [2957.8958745, 0.0016960708803],\n",
       "   [673.22133595, 0.0087954603538],\n",
       "   [190.68249494, 0.035359382605],\n",
       "   [62.295441898, 0.11095789217],\n",
       "   [22.654161182, 0.24982972552]],\n",
       "  [0, [8.9791477428, 0.40623896148], [3.686300237, 0.24338217176]],\n",
       "  [0, [0.84660076805, 1.0]],\n",
       "  [0, [0.33647133771, 1.0]],\n",
       "  [0, [0.13647653675, 1.0]],\n",
       "  [1,\n",
       "   [49.20038051, 0.0055552416751],\n",
       "   [11.346790537, 0.038052379723],\n",
       "   [3.4273972411, 0.14953671029],\n",
       "   [1.1785525134, 0.3494930523]],\n",
       "  [1, [0.41642204972, 0.45843153697]],\n",
       "  [1, [0.14260826011, 0.24428771672]],\n",
       "  [2, [1.654, 1.0]],\n",
       "  [2, [0.469, 1.0]],\n",
       "  [3, [1.093, 1.0]]],\n",
       " '*******************',\n",
       " [[0,\n",
       "   [13575.349682, 0.00022245814352],\n",
       "   [2035.233368, 0.0017232738252],\n",
       "   [463.22562359, 0.0089255715314],\n",
       "   [131.20019598, 0.035727984502],\n",
       "   [42.853015891, 0.11076259931],\n",
       "   [15.584185766, 0.24295627626]],\n",
       "  [0, [6.2067138508, 0.41440263448], [2.5764896527, 0.23744968655]],\n",
       "  [0, [0.57696339419, 1.0]],\n",
       "  [0, [0.22972831358, 1.0]],\n",
       "  [0, [0.095164440028, 1.0]],\n",
       "  [1,\n",
       "   [34.697232244, 0.0053333657805],\n",
       "   [7.9582622826, 0.035864109092],\n",
       "   [2.3780826883, 0.14215873329],\n",
       "   [0.81433208183, 0.34270471845]],\n",
       "  [1, [0.28887547253, 0.46445822433]],\n",
       "  [1, [0.10056823671, 0.24955789874]],\n",
       "  [2, [1.097, 1.0]],\n",
       "  [2, [0.318, 1.0]],\n",
       "  [3, [0.761, 1.0]]])"
      ]
     },
     "execution_count": 5,
     "metadata": {},
     "output_type": "execute_result"
    }
   ],
   "source": [
    "n_321g=gto.basis.load(bse.get_basis(\"def2-tzvp\",fmt=\"nwchem\",elements=[\"N\"]),\"N\")\n",
    "c_321g=gto.basis.load(bse.get_basis(\"def2-tzvp\",fmt=\"nwchem\",elements=[\"C\"]),\"C\")\n",
    "n_321g,\"*******************\",c_321g"
   ]
  },
  {
   "cell_type": "code",
   "execution_count": 8,
   "metadata": {},
   "outputs": [],
   "source": [
    "def g321(z,ref=None):\n",
    "    if z <1.e-10: raise Exception(\"non implemented Zero charge atom\")\n",
    "    if z%1 <1.e-10:\n",
    "        return gto.basis.load(bse.get_basis(\"def2-tzvp\",fmt=\"nwchem\",elements=[int(z)]),_symbol(int(z)))\n",
    "    elif ref:\n",
    "        rb=g321(ref)\n",
    "        rbm=g321(ref-1)\n",
    "        rbp=g321(ref+1)\n",
    "        fb=copy.deepcopy(rb)\n",
    "        for i in range(len(fb)):  \n",
    "            for j in range(1,len(fb[i])):\n",
    "                for k in range(len(fb[i][j])):\n",
    "                    a=(rbp[i][j][k]-rbm[i][j][k])/2\n",
    "                    b=(rbp[i][j][k]+rbm[i][j][k]-2*rb[i][j][k])\n",
    "                    fb[i][j][k]+=a*(z-ref)+b*(z-ref)**2\n",
    "        return fb\n",
    "    else: raise Exception(\"can't get the fractional charge basis set, frac val and no ref\")"
   ]
  },
  {
   "cell_type": "code",
   "execution_count": 9,
   "metadata": {},
   "outputs": [
    {
     "data": {
      "text/plain": [
       "([[0,\n",
       "   [13575.349682, 0.00022245814352],\n",
       "   [2035.233368, 0.0017232738252],\n",
       "   [463.22562359, 0.0089255715314],\n",
       "   [131.20019598, 0.035727984502],\n",
       "   [42.853015891, 0.11076259931],\n",
       "   [15.584185766, 0.24295627626]],\n",
       "  [0, [6.2067138508, 0.41440263448], [2.5764896527, 0.23744968655]],\n",
       "  [0, [0.57696339419, 1.0]],\n",
       "  [0, [0.22972831358, 1.0]],\n",
       "  [0, [0.095164440028, 1.0]],\n",
       "  [1,\n",
       "   [34.697232244, 0.0053333657805],\n",
       "   [7.9582622826, 0.035864109092],\n",
       "   [2.3780826883, 0.14215873329],\n",
       "   [0.81433208183, 0.34270471845]],\n",
       "  [1, [0.28887547253, 0.46445822433]],\n",
       "  [1, [0.10056823671, 0.24955789874]],\n",
       "  [2, [1.097, 1.0]],\n",
       "  [2, [0.318, 1.0]],\n",
       "  [3, [0.761, 1.0]]],\n",
       " '**********',\n",
       " [[0,\n",
       "   [16653.0751645, 0.000220668996715],\n",
       "   [2496.56462125, 0.00170967235275],\n",
       "   [568.22347977, 0.008860515942600001],\n",
       "   [160.94134545999998, 0.0355436835535],\n",
       "   [52.574228894499996, 0.11086024574],\n",
       "   [19.119173474, 0.24639300089]],\n",
       "  [0,\n",
       "   [7.5929307968, 0.41032079798],\n",
       "   [3.1313949448500003, 0.24041592915499999]],\n",
       "  [0, [0.71178208112, 1.0]],\n",
       "  [0, [0.28309982564499997, 1.0]],\n",
       "  [0, [0.115820488389, 1.0]],\n",
       "  [1,\n",
       "   [41.948806377000004, 0.0054443037278],\n",
       "   [9.6525264098, 0.0369582444075],\n",
       "   [2.9027399647000003, 0.14584772179000002],\n",
       "   [0.996442297615, 0.346098885375]],\n",
       "  [1, [0.352648761125, 0.46144488065]],\n",
       "  [1, [0.12158824840999999, 0.24692280773]],\n",
       "  [2, [1.3755, 1.0]],\n",
       "  [2, [0.39349999999999996, 1.0]],\n",
       "  [3, [0.927, 1.0]]],\n",
       " '**********',\n",
       " [[0,\n",
       "   [19730.800647, 0.00021887984991],\n",
       "   [2957.8958745, 0.0016960708803],\n",
       "   [673.22133595, 0.0087954603538],\n",
       "   [190.68249494, 0.035359382605],\n",
       "   [62.295441898, 0.11095789217],\n",
       "   [22.654161182, 0.24982972552]],\n",
       "  [0, [8.9791477428, 0.40623896148], [3.686300237, 0.24338217176]],\n",
       "  [0, [0.84660076805, 1.0]],\n",
       "  [0, [0.33647133771, 1.0]],\n",
       "  [0, [0.13647653675, 1.0]],\n",
       "  [1,\n",
       "   [49.20038051, 0.0055552416751],\n",
       "   [11.346790537, 0.038052379723],\n",
       "   [3.4273972411, 0.14953671029],\n",
       "   [1.1785525134, 0.3494930523]],\n",
       "  [1, [0.41642204972, 0.45843153697]],\n",
       "  [1, [0.14260826011, 0.24428771672]],\n",
       "  [2, [1.654, 1.0]],\n",
       "  [2, [0.469, 1.0]],\n",
       "  [3, [1.093, 1.0]]])"
      ]
     },
     "execution_count": 9,
     "metadata": {},
     "output_type": "execute_result"
    }
   ],
   "source": [
    "g321(6,ref=6),\"**********\",g321(6.5,ref=6),\"**********\",g321(7,ref=6)"
   ]
  },
  {
   "cell_type": "code",
   "execution_count": 10,
   "metadata": {},
   "outputs": [],
   "source": [
    "def E(l,zbs=True):\n",
    "    if zbs:\n",
    "        mol_l=FcM(fcs=[-l,l],atom=\"N1 0 0 0; N2 0 0 2.05\",unit=\"Bohrs\",basis={\"N1\":g321(7-l,ref=7),\"N2\":g321(7+l,ref=7)},verbose=1)\n",
    "    else:\n",
    "         mol_l=FcM(fcs=[-l,l],atom=\"N1 0 0 0; N2 0 0 2.05\",unit=\"Bohrs\",basis={\"N1\":g321(7,ref=7),\"N2\":g321(7,ref=7)},verbose=1)       \n",
    "    mf_l=scf.RHF(mol_l)\n",
    "    #mf_l.conv_tol=1e-12\n",
    "    #mf_l.conv_tol_grad=1e-12\n",
    "    e=mf_l.scf(dm0=mf_l.init_guess_by_1e())\n",
    "    return e"
   ]
  },
  {
   "cell_type": "code",
   "execution_count": 11,
   "metadata": {},
   "outputs": [
    {
     "data": {
      "image/png": "[encoded data removed]",
      "text/plain": [
       "<Figure size 432x288 with 1 Axes>"
      ]
     },
     "metadata": {
      "needs_background": "light"
     },
     "output_type": "display_data"
    }
   ],
   "source": [
    "for i in np.linspace(0,1,11):\n",
    "    plt.scatter(i,E(i),color=\"blue\")"
   ]
  },
  {
   "cell_type": "code",
   "execution_count": 12,
   "metadata": {},
   "outputs": [],
   "source": [
    "eT_R=E(-1,zbs=False)"
   ]
  },
  {
   "cell_type": "code",
   "execution_count": 13,
   "metadata": {},
   "outputs": [
    {
     "name": "stdout",
     "output_type": "stream",
     "text": [
      "converged SCF energy = -112.786211595028\n",
      "converged SCF energy = -108.990225181121\n"
     ]
    }
   ],
   "source": [
    "e_co=scf.RHF(gto.M(atom=\"C 0 0 0; O 0 0 2.05\",unit=\"Bohrs\",basis=bse.get_basis(\"def2-tzvp\"\\\n",
    "                                                       ,fmt=\"nwchem\",elements=[\"C\",\"N\",\"O\"]))).scf()\n",
    "e_nn=scf.RHF(gto.M(atom=\"N 0 0 0; N 0 0 2.05\",unit=\"Bohrs\",basis=bse.get_basis(\"def2-tzvp\"\\\n",
    "                                                       ,fmt=\"nwchem\",elements=[\"C\",\"N\",\"O\"]))).scf()"
   ]
  },
  {
   "cell_type": "code",
   "execution_count": 14,
   "metadata": {},
   "outputs": [],
   "source": [
    "#5pts finite difference coefficients\n",
    "fd1=np.asarray([1/12,-2/3 ,0,2/3,-1/12])\n",
    "fd2=np.asarray([-1/12,4/3,-5/2,4/3,-1/12])\n",
    "fd3=np.asarray([-1/2,1,0,-1,1/2])\n",
    "fd4=np.asarray([1,-4,6,-4,1])\n",
    "fds=[fd1,fd2,fd3,fd4]\n",
    "fds5=get_coeffs(5)\n",
    "fds7=get_coeffs(7)"
   ]
  },
  {
   "cell_type": "code",
   "execution_count": 15,
   "metadata": {},
   "outputs": [
    {
     "data": {
      "text/plain": [
       "([-108.99022518112065,\n",
       "  -108.99022518112204,\n",
       "  -112.79279157628936,\n",
       "  -112.79279157621683,\n",
       "  -112.77318868979161,\n",
       "  -112.77318869048439,\n",
       "  -112.83264328736469],\n",
       " -112.78621159502818,\n",
       " [-1.3944401189291966e-12,\n",
       "  -3.8025663951673163,\n",
       "  7.253457094217687e-11,\n",
       "  0.019602886425218454,\n",
       "  -6.927791673660975e-10,\n",
       "  -0.05945459688029408])"
      ]
     },
     "execution_count": 15,
     "metadata": {},
     "output_type": "execute_result"
    }
   ],
   "source": [
    "dl=.1\n",
    "Es=np.asarray([E(-3*dl),E(-2*dl),E(-dl),e_nn,E(dl),E(2*dl),E(3*dl)])\n",
    "apdft=[e_nn]\n",
    "inc=[]\n",
    "for i in range(6):\n",
    "    inc.append(fds7[i+1].dot(np.asarray(Es))/dl**(i+1)/np.math.factorial(i+1))\n",
    "    apdft.append(apdft[i]+inc[-1] )\n",
    "apdft,e_co,inc"
   ]
  },
  {
   "cell_type": "code",
   "execution_count": 16,
   "metadata": {},
   "outputs": [
    {
     "data": {
      "text/plain": [
       "([-108.99022518112065,\n",
       "  -108.9902251811204,\n",
       "  -112.79276779446073,\n",
       "  -112.79276779444889,\n",
       "  -112.77613763757657],\n",
       " -112.78621159502818,\n",
       " [2.4868995751603507e-13,\n",
       "  -3.802542613340342,\n",
       "  1.1842378929335e-11,\n",
       "  0.0166301568723289])"
      ]
     },
     "execution_count": 16,
     "metadata": {},
     "output_type": "execute_result"
    }
   ],
   "source": [
    "dl=.1\n",
    "Es=np.asarray([E(-2*dl),E(-dl),e_nn,E(dl),E(2*dl)])\n",
    "apdft=[e_nn]\n",
    "inc=[]\n",
    "for i in range(4):\n",
    "    inc.append(fds5[i+1].dot(np.asarray(Es))/dl**(i+1)/np.math.factorial(i+1))\n",
    "    apdft.append(apdft[i]+fds5[i+1].dot(np.asarray(Es))/dl**(i+1)/np.math.factorial(i+1) )\n",
    "apdft,e_co,inc"
   ]
  },
  {
   "cell_type": "code",
   "execution_count": 17,
   "metadata": {},
   "outputs": [
    {
     "data": {
      "text/plain": [
       "([-108.99022518112065,\n",
       "  -108.99022518112037,\n",
       "  -112.70692857778245,\n",
       "  -112.70692857790797,\n",
       "  -112.69258651692914,\n",
       "  -112.6925865121922,\n",
       "  -112.69292358482373],\n",
       " -112.6929256381206,\n",
       " -112.78621159502818,\n",
       " [2.7977620220553945e-13,\n",
       "  -3.716703396662079,\n",
       "  -1.25529216650951e-10,\n",
       "  0.014342060978833613,\n",
       "  4.736951571734e-09,\n",
       "  -0.00033707263153499086])"
      ]
     },
     "execution_count": 17,
     "metadata": {},
     "output_type": "execute_result"
    }
   ],
   "source": [
    "dl=.05\n",
    "Es=np.asarray([E(-3*dl,zbs=False),E(-2*dl,zbs=False),E(-dl,zbs=False),e_nn,E(dl,zbs=False),E(2*dl,zbs=False),E(3*dl,zbs=False)])\n",
    "apdft=[e_nn]\n",
    "inc=[]\n",
    "for i in range(6):\n",
    "    inc.append(fds7[i+1].dot(np.asarray(Es))/dl**(i+1)/np.math.factorial(i+1))\n",
    "    apdft.append(apdft[i]+fds7[i+1].dot(np.asarray(Es))/dl**(i+1)/np.math.factorial(i+1) )\n",
    "apdft,eT_R,e_co,inc"
   ]
  },
  {
   "cell_type": "code",
   "execution_count": 18,
   "metadata": {},
   "outputs": [],
   "source": [
    "def E_cn(l,zbs=True):\n",
    "    if zbs:\n",
    "        mol_l=FcM(fcs=[-l,0],atom=\"N1 0 0 0; N2 0 0 2.05\",unit=\"Bohrs\",basis={\"N1\":g321(7-l,ref=7),\"N2\":g321(7)},verbose=1)\n",
    "    elif not zbs:\n",
    "        mol_l=FcM(fcs=[-l,0],atom=\"N1 0 0 0; N2 0 0 2.05\",unit=\"Bohrs\",basis={\"N1\":g321(7,ref=7),\"N2\":g321(7)},verbose=1)\n",
    "    mf_l=scf.RHF(mol_l)\n",
    "    #mf_l.conv_tol=1e-12\n",
    "    #mf_l.conv_tol_grad=1e-12\n",
    "    e=mf_l.scf(dm0=mf_l.init_guess_by_1e())\n",
    "    return e"
   ]
  },
  {
   "cell_type": "code",
   "execution_count": 26,
   "metadata": {},
   "outputs": [
    {
     "name": "stdout",
     "output_type": "stream",
     "text": [
      "converged SCF energy = -92.3311381205634\n"
     ]
    }
   ],
   "source": [
    "mf_cn=scf.RHF(gto.M(atom=\"C 0 0 0; N 0 0 2.05\",unit=\"Bohrs\",basis=bse.get_basis(\"def2-tzvp\"\\\n",
    "                                                       ,fmt=\"nwchem\",elements=[\"C\",\"N\",\"O\"]),charge=-1))\n",
    "e_cn=mf_cn.scf()"
   ]
  },
  {
   "cell_type": "code",
   "execution_count": 27,
   "metadata": {},
   "outputs": [
    {
     "data": {
      "text/plain": [
       "(array([-108.99022518,  -90.71384198,  -92.36873439,  -92.32823196,\n",
       "         -92.32992828,  -92.32966556,  -92.33027783]),\n",
       " -92.33113812056337,\n",
       " array([-1.66590871e+01,  1.61729614e+00, -3.75962660e-02,  2.90615936e-03,\n",
       "         1.20983821e-03,  1.47255809e-03,  8.60294548e-04]),\n",
       " [18.276383197856383,\n",
       "  -1.6548924032765864,\n",
       "  0.04050242533656007,\n",
       "  -0.0016963211516933063,\n",
       "  0.0002627198843659546,\n",
       "  -0.0006122635435682845])"
      ]
     },
     "execution_count": 27,
     "metadata": {},
     "output_type": "execute_result"
    }
   ],
   "source": [
    "dl=.1\n",
    "Es=np.asarray([E_cn(-3*dl),E_cn(-2*dl),E_cn(-dl),e_nn,E_cn(dl),E_cn(2*dl),E_cn(3*dl)])\n",
    "apdft=[e_nn]\n",
    "inc=[]\n",
    "for i in range(6):\n",
    "    inc.append(np.einsum('i,i',fds7[i+1],Es)/dl**(i+1)/np.math.factorial(i+1))\n",
    "    apdft.append(apdft[i]+inc[-1] )\n",
    "apdft=np.asarray(apdft)\n",
    "apdft,e_cn,apdft-e_cn,inc"
   ]
  },
  {
   "cell_type": "code",
   "execution_count": 28,
   "metadata": {},
   "outputs": [
    {
     "data": {
      "text/plain": [
       "(array([-108.99022518,  -90.71483653,  -92.32627163,  -92.2914705 ,\n",
       "         -92.28796925,  -92.28913923,  -92.28907515]),\n",
       " -92.28904306800459,\n",
       " -92.33113812056337,\n",
       " array([-1.67011821e+01,  1.57420654e+00, -3.72285657e-02, -2.42742810e-03,\n",
       "         1.07382148e-03, -9.61590163e-05, -3.20785617e-05]),\n",
       " array([-1.66590871e+01,  1.61630159e+00,  4.86648683e-03,  3.96676245e-02,\n",
       "         4.31688740e-02,  4.19988935e-02,  4.20629740e-02]),\n",
       " [18.275388649232564,\n",
       "  -1.6114351018422954,\n",
       "  0.0348011376220351,\n",
       "  0.003501249585073177,\n",
       "  -0.0011699804976691057,\n",
       "  6.408045452291033e-05])"
      ]
     },
     "execution_count": 28,
     "metadata": {},
     "output_type": "execute_result"
    }
   ],
   "source": [
    "dl=.1\n",
    "Es=np.asarray([E_cn(-3*dl,zbs=False),E_cn(-2*dl,zbs=False),E_cn(-dl,zbs=False),e_nn,E_cn(dl,zbs=False),E_cn(2*dl,zbs=False),E_cn(3*dl,zbs=False)])\n",
    "apdft=[e_nn]\n",
    "inc=[]\n",
    "for i in range(6):\n",
    "    inc.append(np.einsum('i,i',fds7[i+1],Es)/dl**(i+1)/np.math.factorial(i+1))\n",
    "    apdft.append(apdft[i]+inc[-1] )\n",
    "apdft=np.asarray(apdft)\n",
    "apdft,E_cn(1,zbs=False),e_cn,apdft-E_cn(1,zbs=False),apdft-e_cn,inc"
   ]
  },
  {
   "cell_type": "code",
   "execution_count": 29,
   "metadata": {},
   "outputs": [],
   "source": [
    "#check if basis are orthonormal\n",
    "#They are"
   ]
  },
  {
   "cell_type": "code",
   "execution_count": null,
   "metadata": {},
   "outputs": [],
   "source": []
  },
  {
   "cell_type": "code",
   "execution_count": null,
   "metadata": {},
   "outputs": [],
   "source": []
  }
 ],
 "metadata": {
  "kernelspec": {
   "display_name": "Python 3",
   "language": "python",
   "name": "python3"
  },
  "language_info": {
   "codemirror_mode": {
    "name": "ipython",
    "version": 3
   },
   "file_extension": ".py",
   "mimetype": "text/x-python",
   "name": "python",
   "nbconvert_exporter": "python",
   "pygments_lexer": "ipython3",
   "version": "3.7.3"
  }
 },
 "nbformat": 4,
 "nbformat_minor": 4
}
