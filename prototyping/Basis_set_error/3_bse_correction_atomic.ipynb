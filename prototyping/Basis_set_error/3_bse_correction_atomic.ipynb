{
 "cells": [
  {
   "cell_type": "code",
   "execution_count": 1,
   "metadata": {},
   "outputs": [],
   "source": [
    "import basis_set_exchange as bse\n",
    "import scipy as sp\n",
    "import matplotlib.pyplot as plt\n",
    "from pyscf import gto,scf\n",
    "import copy\n",
    "import numpy as np\n",
    "import scipy\n",
    "from scipy.interpolate import interp1d\n",
    "from pyscf.data.elements import _symbol\n",
    "from numpy.linalg import norm"
   ]
  },
  {
   "cell_type": "code",
   "execution_count": 2,
   "metadata": {},
   "outputs": [],
   "source": [
    "import sys\n",
    "sys.path.append(\"./Libs\")\n",
    "from FcMole import FcM\n",
    "from FDcoeffs import get_coeffs"
   ]
  },
  {
   "cell_type": "code",
   "execution_count": 3,
   "metadata": {},
   "outputs": [],
   "source": [
    "#5pts finite difference coefficients\n",
    "fd1=np.asarray([1/12,-2/3 ,0,2/3,-1/12])\n",
    "fd2=np.asarray([-1/12,4/3,-5/2,4/3,-1/12])\n",
    "fd3=np.asarray([-1/2,1,0,-1,1/2])\n",
    "fd4=np.asarray([1,-4,6,-4,1])\n",
    "fds=[fd1,fd2,fd3,fd4]\n",
    "fds5=get_coeffs(5)\n",
    "fds7=get_coeffs(7)"
   ]
  },
  {
   "cell_type": "code",
   "execution_count": 4,
   "metadata": {},
   "outputs": [],
   "source": [
    "def pcX(z,ref=None):\n",
    "    if z <1.e-10: raise Exception(\"non implemented Zero charge atom\")\n",
    "    if z%1 <1.e-10:\n",
    "        return gto.basis.load(bse.get_basis(\"pcX-1\",fmt=\"nwchem\",elements=[int(z)]),_symbol(int(z)))\n",
    "    elif ref:\n",
    "        rb=pcX(ref)\n",
    "        rbm=pcX(ref-1)\n",
    "        rbp=pcX(ref+1)\n",
    "        fb=copy.deepcopy(rb)\n",
    "        for i in range(len(fb)):  # ref+a(z-zr) +b(z-zr)^2\n",
    "            a=(rbp[i][1][0]-rbm[i][1][0])/2\n",
    "            b=(rbp[i][1][0]+rbm[i][1][0]-2*rb[i][1][0])\n",
    "            fb[i][1][0]+=a*(z-ref)+b*(z-ref)**2/2\n",
    "        return fb\n",
    "    else: raise Exception(\"can't get the fractional charge basis set, frac val and no ref\")"
   ]
  },
  {
   "cell_type": "code",
   "execution_count": 106,
   "metadata": {},
   "outputs": [
    {
     "name": "stdout",
     "output_type": "stream",
     "text": [
      "converged SCF energy = -112.713535796845\n",
      "converged SCF energy = -108.917299271881\n",
      "converged SCF energy = -92.2504473781489\n",
      "converged SCF energy = -128.87963857573\n"
     ]
    }
   ],
   "source": [
    "mf_co=scf.RHF(gto.M(atom=\"C 0 0 0; O 0 0 2.02\",unit=\"Bohrs\",basis=bse.get_basis(\"pcX-1\"\\\n",
    "                                                       ,fmt=\"nwchem\",elements=[\"C\",\"N\",\"O\"])))\n",
    "e_co=mf_co.scf()\n",
    "p_co=mf_co.make_rdm1()\n",
    "mf_nn=scf.RHF(gto.M(atom=\"N 0 0 0; N 0 0 2.02\",unit=\"Bohrs\",basis=bse.get_basis(\"pcX-1\"\\\n",
    "                                                       ,fmt=\"nwchem\",elements=[\"C\",\"N\",\"O\"])))\n",
    "e_nn=mf_nn.scf()\n",
    "p_nn=mf_nn.make_rdm1()\n",
    "#Cyanide ion\n",
    "mf_cn=scf.RHF(gto.M(atom=\"C 0 0 0; N 0 0 2.02\",unit=\"Bohrs\",basis=bse.get_basis(\"pcX-1\"\\\n",
    "                                                       ,fmt=\"nwchem\",elements=[\"C\",\"N\",\"O\"]),charge=-1))\n",
    "e_cn=mf_cn.scf()\n",
    "p_cn=mf_cn.make_rdm1()\n",
    "#Nitronium\n",
    "mf_on=scf.RHF(gto.M(atom=\"O 0 0 0; N 0 0 2.02\",unit=\"Bohrs\",basis=bse.get_basis(\"pcX-1\"\\\n",
    "                                                       ,fmt=\"nwchem\",elements=[\"C\",\"N\",\"O\"]),charge=+1))\n",
    "e_on=mf_on.scf()\n",
    "p_on=mf_on.make_rdm1()"
   ]
  },
  {
   "cell_type": "code",
   "execution_count": 80,
   "metadata": {},
   "outputs": [],
   "source": [
    "def E(l,zbs=True):\n",
    "    if zbs:\n",
    "        mol_l=FcM(fcs=[-l,l],atom=\"N1 0 0 0; N2 0 0 2.02\",unit=\"Bohrs\",basis={\"N1\":pcX(7-l,ref=7),\"N2\":pcX(7+l,ref=7)},verbose=1)\n",
    "    else:\n",
    "         mol_l=FcM(fcs=[-l,l],atom=\"N1 0 0 0; N2 0 0 2.02\",unit=\"Bohrs\",basis={\"N1\":pcX(7,ref=7),\"N2\":pcX(7,ref=7)},verbose=1)       \n",
    "    mf_l=scf.RHF(mol_l)\n",
    "    #mf_l.conv_tol=1e-12\n",
    "    #mf_l.conv_tol_grad=1e-12\n",
    "    e=mf_l.scf(dm0=p_nn)\n",
    "    return e"
   ]
  },
  {
   "cell_type": "code",
   "execution_count": 97,
   "metadata": {},
   "outputs": [],
   "source": [
    "def E_cn(l):\n",
    "    mol_l=FcM(fcs=[-l,0],atom=\"N1 0 0 0; N2 0 0 2.02\",unit=\"Bohrs\",basis={\"N1\":pcX(7-l,ref=7),\"N2\":pcX(7)},verbose=1)\n",
    "    #mol_l=FcM(fcs=[-l,0],atom=\"N1 0 0 0; N2 0 0 2.02\",unit=\"Bohrs\",basis={\"N1\":pcX(7),\"N2\":pcX(7)},verbose=1)\n",
    "    mf_l=scf.RHF(mol_l)\n",
    "    #mf_l.conv_tol=1e-12\n",
    "    #mf_l.conv_tol_grad=1e-12\n",
    "    e=mf_l.scf(dm0=p_nn)\n",
    "    return e"
   ]
  },
  {
   "cell_type": "code",
   "execution_count": 103,
   "metadata": {},
   "outputs": [],
   "source": [
    "def E_on(l):\n",
    "    mol_l=FcM(fcs=[l,0],atom=\"N1 0 0 0; N2 0 0 2.02\",unit=\"Bohrs\",basis={\"N1\":pcX(7+l,ref=7),\"N2\":pcX(7)},verbose=1)\n",
    "    #mol_l=FcM(fcs=[-l,0],atom=\"N1 0 0 0; N2 0 0 2.02\",unit=\"Bohrs\",basis={\"N1\":pcX(7),\"N2\":pcX(7)},verbose=1)\n",
    "    mf_l=scf.RHF(mol_l)\n",
    "    #mf_l.conv_tol=1e-12\n",
    "    #mf_l.conv_tol_grad=1e-12\n",
    "    e=mf_l.scf(dm0=p_nn)\n",
    "    return e"
   ]
  },
  {
   "cell_type": "code",
   "execution_count": 81,
   "metadata": {},
   "outputs": [],
   "source": [
    "def n_sap(zp):\n",
    "    dl=.1\n",
    "    Es_nc=np.asarray([E_nc(-3*dl),E_nc(-2*dl),E_nc(-dl),E_nc(0),E_nc(dl),E_nc(2*dl),E_nc(3*dl)])\n",
    "    sap=[Es_nc[3]]\n",
    "    inc=[]\n",
    "    for i in range(6):\n",
    "        inc.append(np.einsum('i,i',fds7[i+1],Es_nc)/dl**(i+1)/np.math.factorial(i+1)*zp**(i+1))\n",
    "        sap.append(sap[i]+inc[-1])\n",
    "    return sap"
   ]
  },
  {
   "cell_type": "code",
   "execution_count": 98,
   "metadata": {},
   "outputs": [
    {
     "data": {
      "text/plain": [
       "(array([-108.91729927, -108.91729927, -112.73395605, -112.73395605,\n",
       "        -112.68614669, -112.68614669, -112.74706077]), -112.71353579684612)"
      ]
     },
     "execution_count": 98,
     "metadata": {},
     "output_type": "execute_result"
    }
   ],
   "source": [
    "dl=.1\n",
    "Es=np.asarray([E(-3*dl),E(-2*dl),E(-dl),e_nn,E(dl),E(2*dl),E(3*dl)])\n",
    "apdft=[e_nn]\n",
    "inc=[]\n",
    "for i in range(6):\n",
    "    inc.append(np.einsum('i,i',fds7[i+1],Es)/dl**(i+1)/np.math.factorial(i+1))\n",
    "    apdft.append(apdft[i]+inc[-1] )\n",
    "apdft=np.asarray(apdft)\n",
    "apdft,E(1)"
   ]
  },
  {
   "cell_type": "code",
   "execution_count": 101,
   "metadata": {},
   "outputs": [
    {
     "data": {
      "text/plain": [
       "(array([-108.91729927,  -90.64332088,  -92.29055663,  -92.25104275,\n",
       "         -92.25130948,  -92.2492709 ,  -92.24924551]),\n",
       " -92.25044737814876,\n",
       " array([-1.66668519e+01,  1.60712649e+00, -4.01092503e-02, -5.95369490e-04,\n",
       "        -8.62097025e-04,  1.17647453e-03,  1.20187090e-03]))"
      ]
     },
     "execution_count": 101,
     "metadata": {},
     "output_type": "execute_result"
    }
   ],
   "source": [
    "dl=.05\n",
    "Es=np.asarray([E_cn(-3*dl),E_cn(-2*dl),E_cn(-dl),e_nn,E_cn(dl),E_cn(2*dl),E_cn(3*dl)])\n",
    "apdft=[e_nn]\n",
    "inc=[]\n",
    "for i in range(6):\n",
    "    inc.append(np.einsum('i,i',fds7[i+1],Es)/dl**(i+1)/np.math.factorial(i+1))\n",
    "    apdft.append(apdft[i]+inc[-1] )\n",
    "apdft=np.asarray(apdft)\n",
    "apdft,e_cn,apdft-e_cn"
   ]
  },
  {
   "cell_type": "code",
   "execution_count": 107,
   "metadata": {},
   "outputs": [
    {
     "data": {
      "text/plain": [
       "(array([-108.91729927, -127.19127766, -128.83851341, -128.87802729,\n",
       "        -128.87829401, -128.88033259, -128.88030738]),\n",
       " -128.87963857572998,\n",
       " array([ 1.99623393e+01,  1.68836092e+00,  4.11251705e-02,  1.61129009e-03,\n",
       "         1.34456907e-03, -6.94012523e-04, -6.68799309e-04]))"
      ]
     },
     "execution_count": 107,
     "metadata": {},
     "output_type": "execute_result"
    }
   ],
   "source": [
    "dl=.05\n",
    "Es=np.asarray([E_on(-3*dl),E_on(-2*dl),E_on(-dl),e_nn,E_on(dl),E_on(2*dl),E_on(3*dl)])\n",
    "apdft=[e_nn]\n",
    "inc=[]\n",
    "for i in range(6):\n",
    "    inc.append(np.einsum('i,i',fds7[i+1],Es)/dl**(i+1)/np.math.factorial(i+1))\n",
    "    apdft.append(apdft[i]+inc[-1] )\n",
    "apdft=np.asarray(apdft)\n",
    "apdft,e_on,apdft-e_on"
   ]
  },
  {
   "cell_type": "code",
   "execution_count": 89,
   "metadata": {},
   "outputs": [
    {
     "data": {
      "text/plain": [
       "(-92.25044737814876, -92.25044737815016)"
      ]
     },
     "execution_count": 89,
     "metadata": {},
     "output_type": "execute_result"
    }
   ],
   "source": [
    "e_cn,E_cn(1)"
   ]
  },
  {
   "cell_type": "code",
   "execution_count": 93,
   "metadata": {},
   "outputs": [
    {
     "data": {
      "text/plain": [
       "[<matplotlib.lines.Line2D at 0x7f996e5dc588>]"
      ]
     },
     "execution_count": 93,
     "metadata": {},
     "output_type": "execute_result"
    },
    {
     "data": {
      "image/png": "[encoded data removed]",
      "text/plain": [
       "<Figure size 432x288 with 1 Axes>"
      ]
     },
     "metadata": {
      "needs_background": "light"
     },
     "output_type": "display_data"
    }
   ],
   "source": [
    "lins=np.linspace(0,1,10)\n",
    "a=[]\n",
    "for i in lins:\n",
    "    a.append(E_cn(i))\n",
    "plt.plot(lins,a)"
   ]
  },
  {
   "cell_type": "code",
   "execution_count": 83,
   "metadata": {},
   "outputs": [
    {
     "data": {
      "text/plain": [
       "array([ 3.82537808e+00,  3.82537808e+00, -1.16846894e-03, -1.16846900e-03,\n",
       "        1.23999678e-03,  1.23999738e-03,  3.37404317e-03])"
      ]
     },
     "execution_count": 83,
     "metadata": {},
     "output_type": "execute_result"
    }
   ],
   "source": [
    "apdft-np.array([-108.91659162, -108.91659162, -108.90670185, -108.90670185,\\\n",
    "        -108.86130095, -108.86130095, -108.92434908])-108.89005609416202+112.71614182671563"
   ]
  },
  {
   "cell_type": "code",
   "execution_count": 84,
   "metadata": {},
   "outputs": [
    {
     "data": {
      "text/plain": [
       "(array([-108.91729927, -108.91729927, -112.73395605, -112.73395605,\n",
       "        -112.68614669, -112.68614669, -112.74706077]), -112.71353579684597)"
      ]
     },
     "execution_count": 84,
     "metadata": {},
     "output_type": "execute_result"
    }
   ],
   "source": [
    "dl=.1\n",
    "Es=np.asarray([E(-3*dl),E(-2*dl),E(-dl),e_nn,E(dl),E(2*dl),E(3*dl)])\n",
    "apdft=[e_nn]\n",
    "inc=[]\n",
    "for i in range(6):\n",
    "    inc.append(np.einsum('i,i',fds7[i+1],Es)/dl**(i+1)/np.math.factorial(i+1))\n",
    "    apdft.append(apdft[i]+inc[-1] )\n",
    "apdft=np.asarray(apdft)\n",
    "apdft,E(1)"
   ]
  },
  {
   "cell_type": "code",
   "execution_count": 64,
   "metadata": {},
   "outputs": [
    {
     "data": {
      "text/plain": [
       "array([-2.93330350e+00, -2.93330350e+00,  8.44934877e-02,  8.44934877e-02,\n",
       "       -9.73410990e-03, -9.73411008e-03, -7.70103470e-04])"
      ]
     },
     "execution_count": 64,
     "metadata": {},
     "output_type": "execute_result"
    }
   ],
   "source": [
    "n_c=np.asarray(n_c)\n",
    "n_o=np.asarray(n_o)\n",
    "-(n_o+n_c)+E_nc(1)+E_nc(-1)"
   ]
  },
  {
   "cell_type": "code",
   "execution_count": 65,
   "metadata": {},
   "outputs": [
    {
     "data": {
      "text/plain": [
       "(array([-108.91659162, -108.91659162, -112.73562595, -112.73562595,\n",
       "        -112.69210862, -112.69210862, -112.74427294]),\n",
       " array([-111.84989512, -111.84989512, -112.65113247, -112.65113247,\n",
       "        -112.70184273, -112.70184273, -112.74504305]),\n",
       " -112.71614182671492)"
      ]
     },
     "execution_count": 65,
     "metadata": {},
     "output_type": "execute_result"
    }
   ],
   "source": [
    "apdft,apdft-n_o-n_c+E_nc(1)+E_nc(-1),e_co"
   ]
  },
  {
   "cell_type": "markdown",
   "metadata": {},
   "source": [
    "Very important conclusion: the problem is due to transmutations on adjacent atoms, the serie for lonly atoms converges pretty well. The serie NN->CN- or NN->NO+ converges nice and smooth. <br> this might be a point for discussion.\n",
    "Do they converge also for density???"
   ]
  },
  {
   "cell_type": "code",
   "execution_count": 132,
   "metadata": {},
   "outputs": [],
   "source": [
    "def P_cn(l):\n",
    "    mol_l=FcM(fcs=[-l,0],atom=\"N1 0 0 0; N2 0 0 2.02\",unit=\"Bohrs\",basis={\"N1\":pcX(7-l,ref=7),\"N2\":pcX(7)},verbose=1)\n",
    "    #mol_l=FcM(fcs=[-l,0],atom=\"N1 0 0 0; N2 0 0 2.02\",unit=\"Bohrs\",basis={\"N1\":pcX(7),\"N2\":pcX(7)},verbose=1)\n",
    "    mf_l=scf.RHF(mol_l)\n",
    "    mf_l.conv_tol=1e-12\n",
    "    mf_l.conv_tol_grad=1e-12\n",
    "    e=mf_l.scf(dm0=p_nn)\n",
    "    return mf_l.make_rdm1()"
   ]
  },
  {
   "cell_type": "code",
   "execution_count": 134,
   "metadata": {},
   "outputs": [],
   "source": [
    "def P_on(l):\n",
    "    mol_l=FcM(fcs=[l,0],atom=\"N1 0 0 0; N2 0 0 2.02\",unit=\"Bohrs\",basis={\"N1\":pcX(7+l,ref=7),\"N2\":pcX(7)},verbose=1)\n",
    "    mf_l=scf.RHF(mol_l)\n",
    "    mf_l.conv_tol=1e-12\n",
    "    mf_l.conv_tol_grad=1e-12\n",
    "    e=mf_l.scf(dm0=p_nn)\n",
    "    return mf_l.make_rdm1()"
   ]
  },
  {
   "cell_type": "code",
   "execution_count": 133,
   "metadata": {},
   "outputs": [
    {
     "name": "stdout",
     "output_type": "stream",
     "text": [
      "2.9151404666850684 3.066925242901826 1.2966486321548536\n",
      "2.994131162933564 3.066925242901826 0.6421395797870044\n",
      "3.175491064814114 3.066925242901826 0.5900823287061094\n",
      "3.208430204500736 3.066925242901826 0.41207263417631784\n",
      "3.1266426349815286 3.066925242901826 0.40019687232758455\n",
      "3.021652339549074 3.066925242901826 0.2115770296119452\n",
      "3.041140250555965 3.066925242901826 0.20011232330050735\n"
     ]
    }
   ],
   "source": [
    "dl=.1\n",
    "Ps=np.asarray([P_cn(-3*dl),P_cn(-2*dl),P_cn(-dl),p_nn,P_cn(dl),P_cn(2*dl),P_cn(3*dl)])\n",
    "apdft=[p_nn]\n",
    "inc=[]\n",
    "for i in range(6):\n",
    "    inc.append(np.einsum('i,ijk->jk',fds7[i+1],Ps)/dl**(i+1)/np.math.factorial(i+1))\n",
    "    apdft.append(apdft[i]+inc[-1] )\n",
    "apdft=np.asarray(apdft)\n",
    "for i in apdft:\n",
    "    print(norm(i),norm(p_cn),norm(i-p_cn))"
   ]
  },
  {
   "cell_type": "code",
   "execution_count": 135,
   "metadata": {},
   "outputs": [
    {
     "name": "stdout",
     "output_type": "stream",
     "text": [
      "2.9151404666850684 3.066925242901826 0.7088556109449528\n",
      "3.272195121313862 3.066925242901826 0.6319305949707837\n",
      "3.0989433843879812 3.066925242901826 0.36921035170896577\n",
      "2.920507866312658 3.066925242901826 0.38174865475493713\n",
      "3.040292192175051 3.066925242901826 0.23510360387154525\n",
      "3.1071474058134867 3.066925242901826 0.24410413922244206\n",
      "3.0246264002004244 3.066925242901826 0.10681855065868026\n"
     ]
    }
   ],
   "source": [
    "dl=.1\n",
    "Ps=np.asarray([P_on(-3*dl),P_on(-2*dl),P_on(-dl),p_nn,P_on(dl),P_on(2*dl),P_on(3*dl)])\n",
    "apdft=[p_nn]\n",
    "inc=[]\n",
    "for i in range(6):\n",
    "    inc.append(np.einsum('i,ijk->jk',fds7[i+1],Ps)/dl**(i+1)/np.math.factorial(i+1))\n",
    "    apdft.append(apdft[i]+inc[-1] )\n",
    "apdft=np.asarray(apdft)\n",
    "for i in apdft:\n",
    "    print(norm(i),norm(p_cn),norm(i-p_on))"
   ]
  },
  {
   "cell_type": "code",
   "execution_count": 136,
   "metadata": {},
   "outputs": [
    {
     "data": {
      "text/plain": [
       "3.0561559753901215e-06"
      ]
     },
     "execution_count": 136,
     "metadata": {},
     "output_type": "execute_result"
    }
   ],
   "source": [
    "norm(P_on(1)-p_on)"
   ]
  },
  {
   "cell_type": "markdown",
   "metadata": {},
   "source": [
    "There is also some convergence for density, though is a bit slower "
   ]
  },
  {
   "cell_type": "code",
   "execution_count": null,
   "metadata": {},
   "outputs": [],
   "source": []
  }
 ],
 "metadata": {
  "kernelspec": {
   "display_name": "Python 3",
   "language": "python",
   "name": "python3"
  },
  "language_info": {
   "codemirror_mode": {
    "name": "ipython",
    "version": 3
   },
   "file_extension": ".py",
   "mimetype": "text/x-python",
   "name": "python",
   "nbconvert_exporter": "python",
   "pygments_lexer": "ipython3",
   "version": "3.8.8"
  }
 },
 "nbformat": 4,
 "nbformat_minor": 4
}
