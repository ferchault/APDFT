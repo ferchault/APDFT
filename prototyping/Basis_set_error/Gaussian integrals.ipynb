{
 "cells": [
  {
   "cell_type": "code",
   "execution_count": 1,
   "metadata": {},
   "outputs": [],
   "source": [
    "import numpy as np\n",
    "from scipy.special import factorial2 as fact2\n",
    "import basis_set_exchange"
   ]
  },
  {
   "cell_type": "markdown",
   "metadata": {},
   "source": [
    "https://joshuagoings.com/2017/04/28/integrals/"
   ]
  },
  {
   "cell_type": "code",
   "execution_count": 2,
   "metadata": {},
   "outputs": [
    {
     "name": "stdout",
     "output_type": "stream",
     "text": [
      "No Python documentation found for 'C     0\\nS    6   1.00\\n      0.3047524880D+04       0.1834737132D-02\\n      0.4573695180D+03       0.1403732281D-01\\n      0.1039486850D+03       0.6884262226D-01\\n      0.2921015530D+02       0.2321844432D+00\\n      0.9286662960D+01       0.4679413484D+00\\n      0.3163926960D+01       0.3623119853D+00\\nSP   3   1.00\\n      0.7868272350D+01      -0.1193324198D+00       0.6899906659D-01\\n      0.1881288540D+01      -0.1608541517D+00       0.3164239610D+00\\n      0.5442492580D+00       0.1143456438D+01       0.7443082909D+00\\nSP   1   1.00\\n      0.1687144782D+00       0.1000000000D+01       0.1000000000D+01\\nD    1   1.00\\n      0.8000000000D+00       1.0000000\\n****'.\n",
      "Use help() to get the interactive help utility.\n",
      "Use help(str) for help on the str class.\n",
      "\n"
     ]
    }
   ],
   "source": [
    "bs_dict = basis_set_exchange.get_basis('6-31G*',elements=[6], fmt='gaussian94', header=False)\n",
    "help(bs_dict)"
   ]
  },
  {
   "cell_type": "code",
   "execution_count": 3,
   "metadata": {},
   "outputs": [],
   "source": [
    "def E(i,j,t,Qx,a,b):\n",
    "    ''' Recursive definition of Hermite Gaussian coefficients.\n",
    "        Returns a float.\n",
    "        a: orbital exponent on Gaussian 'a' (e.g. alpha in the text)\n",
    "        b: orbital exponent on Gaussian 'b' (e.g. beta in the text)\n",
    "        i,j: orbital angular momentum number on Gaussian 'a' and 'b'\n",
    "        t: number nodes in Hermite (depends on type of integral, \n",
    "           e.g. always zero for overlap integrals)\n",
    "        Qx: distance between origins of Gaussian 'a' and 'b'\n",
    "    '''\n",
    "    p = a + b\n",
    "    q = a*b/p\n",
    "    if (t < 0) or (t > (i + j)):\n",
    "        # out of bounds for t  \n",
    "        return 0.0\n",
    "    elif i == j == t == 0:\n",
    "        # base case\n",
    "        return np.exp(-q*Qx*Qx) # K_AB\n",
    "    elif j == 0:\n",
    "        # decrement index i\n",
    "        return (1/(2*p))*E(i-1,j,t-1,Qx,a,b) - \\\n",
    "               (q*Qx/a)*E(i-1,j,t,Qx,a,b)    + \\\n",
    "               (t+1)*E(i-1,j,t+1,Qx,a,b)\n",
    "    else:\n",
    "        # decrement index j\n",
    "        return (1/(2*p))*E(i,j-1,t-1,Qx,a,b) + \\\n",
    "               (q*Qx/b)*E(i,j-1,t,Qx,a,b)    + \\\n",
    "               (t+1)*E(i,j-1,t+1,Qx,a,b)"
   ]
  },
  {
   "cell_type": "code",
   "execution_count": 4,
   "metadata": {},
   "outputs": [],
   "source": [
    "def overlap(a,lmn1,A,b,lmn2,B):\n",
    "    ''' Evaluates overlap integral between two Gaussians\n",
    "        Returns a float.\n",
    "        a:    orbital exponent on Gaussian 'a' (e.g. alpha in the text)\n",
    "        b:    orbital exponent on Gaussian 'b' (e.g. beta in the text)\n",
    "        lmn1: int tuple containing orbital angular momentum (e.g. (1,0,0))\n",
    "              for Gaussian 'a'\n",
    "        lmn2: int tuple containing orbital angular momentum for Gaussian 'b'\n",
    "        A:    list containing origin of Gaussian 'a', e.g. [1.0, 2.0, 0.0]\n",
    "        B:    list containing origin of Gaussian 'b'\n",
    "    '''\n",
    "    l1,m1,n1 = lmn1 # shell angular momentum on Gaussian 'a'\n",
    "    l2,m2,n2 = lmn2 # shell angular momentum on Gaussian 'b'\n",
    "    S1 = E(l1,l2,0,A[0]-B[0],a,b) # X\n",
    "    S2 = E(m1,m2,0,A[1]-B[1],a,b) # Y\n",
    "    S3 = E(n1,n2,0,A[2]-B[2],a,b) # Z\n",
    "    return S1*S2*S3*np.power(np.pi/(a+b),1.5) "
   ]
  },
  {
   "cell_type": "code",
   "execution_count": 5,
   "metadata": {},
   "outputs": [],
   "source": [
    "def S(a,b):\n",
    "    '''Evaluates overlap between two contracted Gaussians\n",
    "       Returns float.\n",
    "       Arguments:\n",
    "       a: contracted Gaussian 'a', BasisFunction object\n",
    "       b: contracted Gaussian 'b', BasisFunction object\n",
    "    '''\n",
    "    s = 0.0\n",
    "    for ia, ca in enumerate(a.coefs):\n",
    "        for ib, cb in enumerate(b.coefs):\n",
    "            s += a.norm[ia]*b.norm[ib]*ca*cb*\\\n",
    "                     overlap(a.exps[ia],a.shell,a.origin,\n",
    "                     b.exps[ib],b.shell,b.origin)\n",
    "    return s"
   ]
  },
  {
   "cell_type": "code",
   "execution_count": 6,
   "metadata": {},
   "outputs": [],
   "source": [
    "class BasisFunction(object):\n",
    "    ''' A class that contains all our basis function data\n",
    "        Attributes:\n",
    "        origin: array/list containing the coordinates of the Gaussian origin\n",
    "        shell:  tuple of angular momentum\n",
    "        exps:   list of primitive Gaussian exponents\n",
    "        coefs:  list of primitive Gaussian coefficients\n",
    "        norm:   list of normalization factors for Gaussian primitives\n",
    "    '''\n",
    "    def __init__(self,origin=[0.0,0.0,0.0],shell=(0,0,0),exps=[],coefs=[]):\n",
    "        self.origin = np.asarray(origin)\n",
    "        self.shell = shell\n",
    "        self.exps  = exps\n",
    "        self.coefs = coefs\n",
    "        self.comp_norm()\n",
    "        self.normalize()\n",
    "    def comp_norm(self):\n",
    "        #norm are prefactoprs for normalize each gaussian individually\n",
    "        l,m,n = self.shell\n",
    "        self.norm = np.sqrt(np.power(2,2*(l+m+n)+1.5)*\n",
    "                        np.power(self.exps,l+m+n+1.5)/\n",
    "                        fact2(2*l-1)/fact2(2*m-1)/\n",
    "                        fact2(2*n-1)/np.power(np.pi,1.5))\n",
    "        \n",
    "    def normalize(self):\n",
    "        ''' Routine to normalize the basis functions, in case they\n",
    "            do not integrate to unity.\n",
    "        '''\n",
    "        l,m,n = self.shell\n",
    "        L = l+m+n\n",
    "        # self.norm is a list of length equal to number primitives\n",
    "        # normalize primitives first (PGBFs)\n",
    "        self.comp_norm()\n",
    "        # now normalize the contracted basis functions (CGBFs)\n",
    "        # Eq. 1.44 of Valeev integral whitepaper\n",
    "        prefactor = np.power(np.pi,1.5)*\\\n",
    "            fact2(2*l - 1)*fact2(2*m - 1)*fact2(2*n - 1)/np.power(2.0,L)\n",
    "        N = 0.0\n",
    "        num_exps = len(self.exps)\n",
    "        for ia in range(num_exps):\n",
    "            for ib in range(num_exps):\n",
    "                N+=self.norm[ia]*self.norm[ib]*self.coefs[ia]*self.coefs[ib]/np.power(self.exps[ia] + self.exps[ib],L+1.5)\n",
    "        print(N)\n",
    "        N *= prefactor\n",
    "        print(N)\n",
    "\n",
    "        N = np.power(N,-0.5)\n",
    "        for ia in range(num_exps):\n",
    "            self.coefs[ia] *= N"
   ]
  },
  {
   "cell_type": "code",
   "execution_count": 19,
   "metadata": {},
   "outputs": [
    {
     "name": "stdout",
     "output_type": "stream",
     "text": [
      "0.3182745799749572\n",
      "0.8861286271772032\n"
     ]
    }
   ],
   "source": [
    "myOrigin = [1.0, 2.0, 3.0]\n",
    "myShell  = (1,0,0) #p-orbitals would be (1,0,0) or (0,1,0) or (0,0,1), etc.\n",
    "myExps   = [3.42525091, 0.62391373, 0.16885540] \n",
    "myCoefs  = [0.15432897, 0.53532814, 0.44463454]\n",
    "a = BasisFunction(origin=myOrigin,shell=myShell,exps=myExps,coefs=myCoefs)"
   ]
  },
  {
   "cell_type": "code",
   "execution_count": 10,
   "metadata": {},
   "outputs": [
    {
     "data": {
      "text/plain": [
       "array([1.79444183, 0.50032649, 0.18773546])"
      ]
     },
     "execution_count": 10,
     "metadata": {},
     "output_type": "execute_result"
    }
   ],
   "source": [
    "a.norm"
   ]
  },
  {
   "cell_type": "code",
   "execution_count": 13,
   "metadata": {},
   "outputs": [
    {
     "name": "stdout",
     "output_type": "stream",
     "text": [
      "0.17958707656790368\n",
      "0.9999997463222177\n"
     ]
    },
    {
     "data": {
      "text/plain": [
       "array([395.69911167,  95.1173704 ,  31.30416489,  12.27023135,\n",
       "         4.88757467,   1.12032525])"
      ]
     },
     "execution_count": 13,
     "metadata": {},
     "output_type": "execute_result"
    }
   ],
   "source": [
    "myExps=[4563.240,682.0240,154.9730,44.45530,13.02900,1.827730]\n",
    "myCoefs=[0.00196665, 0.0152306,0.0761269,0.2608010, 0.6164620,0.2210060]\n",
    "myShell  = (0,0,0)\n",
    "a = BasisFunction(origin=myOrigin,shell=myShell,exps=myExps,coefs=myCoefs)\n",
    "a.norm"
   ]
  },
  {
   "cell_type": "code",
   "execution_count": 14,
   "metadata": {},
   "outputs": [
    {
     "data": {
      "text/plain": [
       "1.0000000000000002"
      ]
     },
     "execution_count": 14,
     "metadata": {},
     "output_type": "execute_result"
    }
   ],
   "source": [
    "Saa=0\n",
    "for i in range(len(myCoefs)):\n",
    "    for j in range(len(myCoefs)):\n",
    "        Saa+=a.norm[i]*a.norm[j]*myCoefs[i]*myCoefs[j]*(np.pi/(myExps[i]+myExps[j]))**1.5\n",
    "Saa"
   ]
  },
  {
   "cell_type": "code",
   "execution_count": 17,
   "metadata": {},
   "outputs": [
    {
     "data": {
      "text/plain": [
       "array([395.69911167,  95.1173704 ,  31.30416489,  12.27023135,\n",
       "         4.88757467,   1.12032525])"
      ]
     },
     "execution_count": 17,
     "metadata": {},
     "output_type": "execute_result"
    }
   ],
   "source": [
    "a.norm"
   ]
  }
 ],
 "metadata": {
  "kernelspec": {
   "display_name": "Python 3",
   "language": "python",
   "name": "python3"
  },
  "language_info": {
   "codemirror_mode": {
    "name": "ipython",
    "version": 3
   },
   "file_extension": ".py",
   "mimetype": "text/x-python",
   "name": "python",
   "nbconvert_exporter": "python",
   "pygments_lexer": "ipython3",
   "version": "3.7.3"
  }
 },
 "nbformat": 4,
 "nbformat_minor": 2
}
