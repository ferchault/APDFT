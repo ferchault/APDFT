{
 "cells": [
  {
   "cell_type": "code",
   "execution_count": 1,
   "metadata": {},
   "outputs": [],
   "source": [
    "import basis_set_exchange as bse\n",
    "import scipy as sp\n",
    "import matplotlib.pyplot as plt\n",
    "from pyscf import gto,scf\n",
    "import copy\n",
    "import numpy as np\n",
    "import scipy\n",
    "from scipy.interpolate import interp1d\n",
    "from pyscf.data.elements import _symbol\n",
    "from numpy.linalg import norm"
   ]
  },
  {
   "cell_type": "code",
   "execution_count": 2,
   "metadata": {},
   "outputs": [],
   "source": [
    "import sys\n",
    "sys.path.append(\"./Libs\")\n",
    "from FcMole import FcM\n",
    "from FDcoeffs import get_coeffs"
   ]
  },
  {
   "cell_type": "code",
   "execution_count": 3,
   "metadata": {},
   "outputs": [
    {
     "data": {
      "text/plain": [
       "([[0,\n",
       "   [90726.88921, 3.9257887368e-05],\n",
       "   [13590.528801, 0.00030513316455],\n",
       "   [3092.9883781, 0.0016000560446],\n",
       "   [875.99876362, 0.0066982937306],\n",
       "   [285.74469982, 0.023690078765],\n",
       "   [103.11913417, 0.071455405268],\n",
       "   [40.128556777, 0.17632774876],\n",
       "   [16.528095704, 0.32677592815]],\n",
       "  [0, [69.390960983, 0.080052094386], [20.428200596, 0.78268063538]],\n",
       "  [0, [7.1292587972, 1.0]],\n",
       "  [0, [3.1324304893, 1.0]],\n",
       "  [0, [0.98755778723, 1.0]],\n",
       "  [0, [0.38765721307, 1.0]],\n",
       "  [0, [0.14909883075, 1.0]],\n",
       "  [1,\n",
       "   [150.0574267, -0.00086216165986],\n",
       "   [35.491599483, -0.0068571273236],\n",
       "   [11.247864223, -0.031795688855],\n",
       "   [4.0900305195, -0.10537396822],\n",
       "   [1.6220573146, -0.24519708041]],\n",
       "  [1, [0.6644226153, 1.0]],\n",
       "  [1, [0.2709977007, 1.0]],\n",
       "  [1, [0.10688749984, 1.0]],\n",
       "  [2, [2.837, 1.0]],\n",
       "  [2, [0.968, 1.0]],\n",
       "  [2, [0.335, 1.0]],\n",
       "  [3, [2.027, 1.0]],\n",
       "  [3, [0.685, 1.0]],\n",
       "  [4, [1.427, 1.0]]],\n",
       " '*******************',\n",
       " [[0,\n",
       "   [67025.071029, 3.8736308501e-05],\n",
       "   [10039.986538, 0.00030107917575],\n",
       "   [2284.9316911, 0.0015787918095],\n",
       "   [647.1412213, 0.0066087087195],\n",
       "   [211.09472335, 0.02336712325],\n",
       "   [76.177643862, 0.070420716898],\n",
       "   [29.633839163, 0.17360344953],\n",
       "   [12.187785081, 0.32292305648]],\n",
       "  [0, [53.026006299, 0.074897404492], [15.258502776, 0.76136220983]],\n",
       "  [0, [5.2403957464, 1.0]],\n",
       "  [0, [2.2905022379, 1.0]],\n",
       "  [0, [0.69673283006, 1.0]],\n",
       "  [0, [0.27599337363, 1.0]],\n",
       "  [0, [0.10739884389, 1.0]],\n",
       "  [1,\n",
       "   [105.12555082, 0.00084647553844],\n",
       "   [24.884461066, 0.0066274038534],\n",
       "   [7.8637230826, 0.030120390419],\n",
       "   [2.8407001835, 0.099951435476],\n",
       "   [1.1227137335, 0.23826299282]],\n",
       "  [1, [0.46050725555, 1.0]],\n",
       "  [1, [0.18937530913, 1.0]],\n",
       "  [1, [0.075983791611, 1.0]],\n",
       "  [2, [1.848, 1.0]],\n",
       "  [2, [0.649, 1.0]],\n",
       "  [2, [0.228, 1.0]],\n",
       "  [3, [1.419, 1.0]],\n",
       "  [3, [0.485, 1.0]],\n",
       "  [4, [1.011, 1.0]]])"
      ]
     },
     "execution_count": 3,
     "metadata": {},
     "output_type": "execute_result"
    }
   ],
   "source": [
    "n_321g=gto.basis.load(bse.get_basis(\"def2-qzvpp\",fmt=\"nwchem\",elements=[\"N\"]),\"N\")\n",
    "c_321g=gto.basis.load(bse.get_basis(\"def2-qzvpp\",fmt=\"nwchem\",elements=[\"C\"]),\"C\")\n",
    "n_321g,\"*******************\",c_321g"
   ]
  },
  {
   "cell_type": "code",
   "execution_count": 19,
   "metadata": {},
   "outputs": [],
   "source": [
    "def g321(z,ref=None):\n",
    "    if z <1.e-10: raise Exception(\"non implemented Zero charge atom\")\n",
    "    if z%1 <1.e-10:\n",
    "        return gto.basis.load(bse.get_basis(\"def2-qzvpp\",fmt=\"nwchem\",elements=[int(z)]),_symbol(int(z)))\n",
    "    elif ref:\n",
    "        rb=g321(ref)\n",
    "        rbm=g321(ref-1)\n",
    "        rbp=g321(ref+1)\n",
    "        fb=copy.deepcopy(rb)\n",
    "        for i in range(len(fb)):  \n",
    "            for j in range(1,len(fb[i])):\n",
    "                for k in range(len(fb[i][j])):\n",
    "                    a=(rbp[i][j][k]-rbm[i][j][k])/2\n",
    "                    b=(rbp[i][j][k]+rbm[i][j][k]-2*rb[i][j][k])\n",
    "                    fb[i][j][k]+=a*(z-ref)+b*(z-ref)**2\n",
    "        return fb\n",
    "    else: raise Exception(\"can't get the fractional charge basis set, frac val and no ref\")"
   ]
  },
  {
   "cell_type": "code",
   "execution_count": 25,
   "metadata": {},
   "outputs": [
    {
     "data": {
      "text/plain": [
       "([[0,\n",
       "   [90726.88921, 3.9257887368e-05],\n",
       "   [13590.528801, 0.00030513316455],\n",
       "   [3092.9883781, 0.0016000560446],\n",
       "   [875.99876362, 0.0066982937306],\n",
       "   [285.74469982, 0.023690078765],\n",
       "   [103.11913417, 0.071455405268],\n",
       "   [40.128556777, 0.17632774876],\n",
       "   [16.528095704, 0.32677592815]],\n",
       "  [0, [69.390960983, 0.080052094386], [20.428200596, 0.78268063538]],\n",
       "  [0, [7.1292587972, 1.0]],\n",
       "  [0, [3.1324304893, 1.0]],\n",
       "  [0, [0.98755778723, 1.0]],\n",
       "  [0, [0.38765721307, 1.0]],\n",
       "  [0, [0.14909883075, 1.0]],\n",
       "  [1,\n",
       "   [150.0574267, -0.00086216165986],\n",
       "   [35.491599483, -0.0068571273236],\n",
       "   [11.247864223, -0.031795688855],\n",
       "   [4.0900305195, -0.10537396822],\n",
       "   [1.6220573146, -0.24519708041]],\n",
       "  [1, [0.6644226153, 1.0]],\n",
       "  [1, [0.2709977007, 1.0]],\n",
       "  [1, [0.10688749984, 1.0]],\n",
       "  [2, [2.837, 1.0]],\n",
       "  [2, [0.968, 1.0]],\n",
       "  [2, [0.335, 1.0]],\n",
       "  [3, [2.027, 1.0]],\n",
       "  [3, [0.685, 1.0]],\n",
       "  [4, [1.427, 1.0]]],\n",
       " '**********',\n",
       " [[0,\n",
       "   [49721.04221386392, 4.001202726420036e-05],\n",
       "   [7602.107252395985, 0.00030704102504751905],\n",
       "   [1758.9493662692907, 0.0015957737614149799],\n",
       "   [504.03985694136645, 0.006639939274194403],\n",
       "   [165.65923000891502, 0.02337763809280909],\n",
       "   [60.0616773395612, 0.07010833303289163],\n",
       "   [23.431884812035793, 0.17177294652484285],\n",
       "   [9.650762221018597, 0.31901112950606336]],\n",
       "  [0,\n",
       "   [48.91974608492346, 0.10318682842675156],\n",
       "   [12.601868294462799, 1.1469967856610768]],\n",
       "  [0, [4.1536839712781894, 1.0]],\n",
       "  [0, [1.8140331542842625, 1.0]],\n",
       "  [0, [0.5486270021590401, 1.0]],\n",
       "  [0, [0.22312108985233572, 1.0]],\n",
       "  [0, [0.08665791234074294, 1.0]],\n",
       "  [1,\n",
       "   [49.266662641152024, 0.01760775758559677],\n",
       "   [11.817452352688889, 0.1397104944246055],\n",
       "   [3.6875260559088616, 0.6468423105053643],\n",
       "   [1.3158817501232747, 2.132336380156896],\n",
       "   [0.5033578311604205, 4.888078969743455]],\n",
       "  [1, [0.18297871466976862, 1.0]],\n",
       "  [1, [0.05981357709896412, 1.0]],\n",
       "  [1, [0.018254813345972065, 1.0]],\n",
       "  [2, [0.7176698999999993, 1.0]],\n",
       "  [2, [0.37173630000000035, 1.0]],\n",
       "  [2, [0.1280002, 1.0]],\n",
       "  [3, [0.9089980999999989, 1.0]],\n",
       "  [3, [0.20990739999999902, 1.0]],\n",
       "  [4, [0.6080553000000002, 1.0]]],\n",
       " '**********',\n",
       " [[0,\n",
       "   [46447.667056, 3.8388681014e-05],\n",
       "   [6957.6889042, 0.00029836770197],\n",
       "   [1583.4428403, 0.0015645478806],\n",
       "   [448.46601009, 0.0065476770742],\n",
       "   [146.28639262, 0.023139008388],\n",
       "   [52.784386084, 0.069615799357],\n",
       "   [20.51939617, 0.17119636876],\n",
       "   [8.4185659258, 0.31913191837]],\n",
       "  [0, [36.510018312, 0.078990617244], [10.541854005, 0.78926384265]],\n",
       "  [0, [3.6004091387, 1.0]],\n",
       "  [0, [1.5617023749, 1.0]],\n",
       "  [0, [0.44997370775, 1.0]],\n",
       "  [0, [0.18075230237, 1.0]],\n",
       "  [0, [0.071596696319, 1.0]],\n",
       "  [1,\n",
       "   [72.24046276, 0.00086539170411],\n",
       "   [16.807707208, 0.0068762067365],\n",
       "   [5.2259410747, 0.030976687148],\n",
       "   [1.8508350671, 0.10432357913],\n",
       "   [0.72206782663, 0.26164137577]],\n",
       "  [1, [0.29491018056, 1.0]],\n",
       "  [1, [0.12201141839, 1.0]],\n",
       "  [1, [0.049865393625, 1.0]],\n",
       "  [2, [1.11, 1.0]],\n",
       "  [2, [0.402, 1.0]],\n",
       "  [2, [0.145, 1.0]],\n",
       "  [3, [0.882, 1.0]],\n",
       "  [3, [0.311, 1.0]],\n",
       "  [4, [0.673, 1.0]]])"
      ]
     },
     "execution_count": 25,
     "metadata": {},
     "output_type": "execute_result"
    }
   ],
   "source": [
    "g321(7,ref=7),\"**********\",g321(5.01,ref=7),\"**********\",g321(5)"
   ]
  },
  {
   "cell_type": "code",
   "execution_count": 6,
   "metadata": {},
   "outputs": [],
   "source": [
    "def E(l,zbs=True):\n",
    "    if zbs:\n",
    "        mol_l=FcM(fcs=[-l,l],atom=\"N1 0 0 0; N2 0 0 2.05\",unit=\"Bohrs\",basis={\"N1\":g321(7-l,ref=7),\"N2\":g321(7+l,ref=7)},verbose=1)\n",
    "    else:\n",
    "         mol_l=FcM(fcs=[-l,l],atom=\"N1 0 0 0; N2 0 0 2.05\",unit=\"Bohrs\",basis={\"N1\":g321(7,ref=7),\"N2\":g321(7,ref=7)},verbose=1)       \n",
    "    mf_l=scf.RHF(mol_l)\n",
    "    #mf_l.conv_tol=1e-12\n",
    "    #mf_l.conv_tol_grad=1e-12\n",
    "    e=mf_l.scf(dm0=mf_l.init_guess_by_1e())\n",
    "    return e"
   ]
  },
  {
   "cell_type": "code",
   "execution_count": 28,
   "metadata": {},
   "outputs": [
    {
     "data": {
      "text/plain": [
       "<matplotlib.collections.PathCollection at 0x7f6c6c8f4438>"
      ]
     },
     "execution_count": 28,
     "metadata": {},
     "output_type": "execute_result"
    },
    {
     "data": {
      "image/png": "[encoded data removed]",
      "text/plain": [
       "<Figure size 432x288 with 1 Axes>"
      ]
     },
     "metadata": {
      "needs_background": "light"
     },
     "output_type": "display_data"
    }
   ],
   "source": [
    "for i in np.linspace(0,1,11):\n",
    "    plt.scatter(i,E(i),color=\"blue\")\n",
    "plt.scatter(.98,E(.98),color=\"red\")"
   ]
  },
  {
   "cell_type": "code",
   "execution_count": 9,
   "metadata": {},
   "outputs": [],
   "source": [
    "eT_R=E(-1,zbs=False)"
   ]
  },
  {
   "cell_type": "code",
   "execution_count": 15,
   "metadata": {},
   "outputs": [
    {
     "name": "stdout",
     "output_type": "stream",
     "text": [
      "converged SCF energy = -112.79122561259\n",
      "converged SCF energy = -108.994466673864\n"
     ]
    }
   ],
   "source": [
    "e_co=scf.RHF(gto.M(atom=\"C 0 0 0; O 0 0 2.05\",unit=\"Bohrs\",basis=bse.get_basis(\"def2-qzvpp\"\\\n",
    "                                                       ,fmt=\"nwchem\",elements=[\"C\",\"N\",\"O\"]))).scf()\n",
    "e_nn=scf.RHF(gto.M(atom=\"N 0 0 0; N 0 0 2.05\",unit=\"Bohrs\",basis=bse.get_basis(\"def2-qzvpp\"\\\n",
    "                                                       ,fmt=\"nwchem\",elements=[\"C\",\"N\",\"O\"]))).scf()"
   ]
  },
  {
   "cell_type": "code",
   "execution_count": 32,
   "metadata": {},
   "outputs": [
    {
     "data": {
      "text/plain": [
       "-112.79098429048736"
      ]
     },
     "execution_count": 32,
     "metadata": {},
     "output_type": "execute_result"
    }
   ],
   "source": [
    "E(.99999)"
   ]
  },
  {
   "cell_type": "code",
   "execution_count": 29,
   "metadata": {},
   "outputs": [
    {
     "data": {
      "text/plain": [
       "-112.79122561259258"
      ]
     },
     "execution_count": 29,
     "metadata": {},
     "output_type": "execute_result"
    }
   ],
   "source": [
    "E(1)"
   ]
  },
  {
   "cell_type": "code",
   "execution_count": 16,
   "metadata": {},
   "outputs": [],
   "source": [
    "#5pts finite difference coefficients\n",
    "fd1=np.asarray([1/12,-2/3 ,0,2/3,-1/12])\n",
    "fd2=np.asarray([-1/12,4/3,-5/2,4/3,-1/12])\n",
    "fd3=np.asarray([-1/2,1,0,-1,1/2])\n",
    "fd4=np.asarray([1,-4,6,-4,1])\n",
    "fds=[fd1,fd2,fd3,fd4]\n",
    "fds5=get_coeffs(5)\n",
    "fds7=get_coeffs(7)"
   ]
  },
  {
   "cell_type": "code",
   "execution_count": 35,
   "metadata": {},
   "outputs": [
    {
     "data": {
      "text/plain": [
       "([-108.9944666738644,\n",
       "  -108.99446667386576,\n",
       "  -112.79262509136882,\n",
       "  -112.79262509135606,\n",
       "  -112.7092364371839,\n",
       "  -112.70923643720926,\n",
       "  -112.95547126384676],\n",
       " -112.7912256125902,\n",
       " [-1.3655743202889425e-12,\n",
       "  -3.7981584175030636,\n",
       "  1.2767564783189299e-11,\n",
       "  0.08338865417215992,\n",
       "  -2.5350092395607736e-11,\n",
       "  -0.2462348266374986])"
      ]
     },
     "execution_count": 35,
     "metadata": {},
     "output_type": "execute_result"
    }
   ],
   "source": [
    "dl=.2\n",
    "Es=np.asarray([E(-3*dl),E(-2*dl),E(-dl),e_nn,E(dl),E(2*dl),E(3*dl)])\n",
    "apdft=[e_nn]\n",
    "inc=[]\n",
    "for i in range(6):\n",
    "    inc.append(fds7[i+1].dot(np.asarray(Es))/dl**(i+1)/np.math.factorial(i+1))\n",
    "    apdft.append(apdft[i]+inc[-1] )\n",
    "apdft,e_co,inc"
   ]
  },
  {
   "cell_type": "code",
   "execution_count": 36,
   "metadata": {},
   "outputs": [
    {
     "data": {
      "text/plain": [
       "([-108.9944666738644,\n",
       "  -108.99446667386297,\n",
       "  -112.79370591348635,\n",
       "  -112.79370591353371,\n",
       "  -112.6931460994106],\n",
       " -112.7912256125902,\n",
       " [1.4210854715202004e-12,\n",
       "  -3.7992392396233745,\n",
       "  -4.736951571734e-11,\n",
       "  0.10055981412312082])"
      ]
     },
     "execution_count": 36,
     "metadata": {},
     "output_type": "execute_result"
    }
   ],
   "source": [
    "dl=.1\n",
    "Es=np.asarray([E(-2*dl),E(-dl),e_nn,E(dl),E(2*dl)])\n",
    "apdft=[e_nn]\n",
    "inc=[]\n",
    "for i in range(4):\n",
    "    inc.append(fds5[i+1].dot(np.asarray(Es))/dl**(i+1)/np.math.factorial(i+1))\n",
    "    apdft.append(apdft[i]+fds5[i+1].dot(np.asarray(Es))/dl**(i+1)/np.math.factorial(i+1) )\n",
    "apdft,e_co,inc"
   ]
  },
  {
   "cell_type": "code",
   "execution_count": 14,
   "metadata": {},
   "outputs": [
    {
     "data": {
      "text/plain": [
       "([-108.99446667386448,\n",
       "  -108.99446667386263,\n",
       "  -112.78864567624966,\n",
       "  -112.7886456765694,\n",
       "  -112.78083089677723,\n",
       "  -112.78083088559802,\n",
       "  -112.78087038924775],\n",
       " -112.78087807862228,\n",
       " -112.79122561259028,\n",
       " [1.84297022087776e-12,\n",
       "  -3.7941790023870317,\n",
       "  -3.1974423109204503e-10,\n",
       "  0.007814779792170155,\n",
       "  1.1179205709292239e-08,\n",
       "  -3.950364973408997e-05])"
      ]
     },
     "execution_count": 14,
     "metadata": {},
     "output_type": "execute_result"
    }
   ],
   "source": [
    "dl=.05\n",
    "Es=np.asarray([E(-3*dl,zbs=False),E(-2*dl,zbs=False),E(-dl,zbs=False),e_nn,E(dl,zbs=False),E(2*dl,zbs=False),E(3*dl,zbs=False)])\n",
    "apdft=[e_nn]\n",
    "inc=[]\n",
    "for i in range(6):\n",
    "    inc.append(fds7[i+1].dot(np.asarray(Es))/dl**(i+1)/np.math.factorial(i+1))\n",
    "    apdft.append(apdft[i]+fds7[i+1].dot(np.asarray(Es))/dl**(i+1)/np.math.factorial(i+1) )\n",
    "apdft,eT_R,e_co,inc"
   ]
  },
  {
   "cell_type": "code",
   "execution_count": 18,
   "metadata": {},
   "outputs": [],
   "source": [
    "def E_cn(l,zbs=True):\n",
    "    if zbs:\n",
    "        mol_l=FcM(fcs=[-l,0],atom=\"N1 0 0 0; N2 0 0 2.05\",unit=\"Bohrs\",basis={\"N1\":g321(7-l,ref=7),\"N2\":g321(7)},verbose=1)\n",
    "    elif not zbs:\n",
    "        mol_l=FcM(fcs=[-l,0],atom=\"N1 0 0 0; N2 0 0 2.05\",unit=\"Bohrs\",basis={\"N1\":g321(7,ref=7),\"N2\":g321(7)},verbose=1)\n",
    "    mf_l=scf.RHF(mol_l)\n",
    "    #mf_l.conv_tol=1e-12\n",
    "    #mf_l.conv_tol_grad=1e-12\n",
    "    e=mf_l.scf(dm0=mf_l.init_guess_by_1e())\n",
    "    return e"
   ]
  },
  {
   "cell_type": "code",
   "execution_count": 26,
   "metadata": {},
   "outputs": [
    {
     "name": "stdout",
     "output_type": "stream",
     "text": [
      "converged SCF energy = -92.3311381205634\n"
     ]
    }
   ],
   "source": [
    "mf_cn=scf.RHF(gto.M(atom=\"C 0 0 0; N 0 0 2.05\",unit=\"Bohrs\",basis=bse.get_basis(\"def2-qzvpp\"\\\n",
    "                                                       ,fmt=\"nwchem\",elements=[\"C\",\"N\",\"O\"]),charge=-1))\n",
    "e_cn=mf_cn.scf()"
   ]
  },
  {
   "cell_type": "code",
   "execution_count": 27,
   "metadata": {},
   "outputs": [
    {
     "data": {
      "text/plain": [
       "(array([-108.99022518,  -90.71384198,  -92.36873439,  -92.32823196,\n",
       "         -92.32992828,  -92.32966556,  -92.33027783]),\n",
       " -92.33113812056337,\n",
       " array([-1.66590871e+01,  1.61729614e+00, -3.75962660e-02,  2.90615936e-03,\n",
       "         1.20983821e-03,  1.47255809e-03,  8.60294548e-04]),\n",
       " [18.276383197856383,\n",
       "  -1.6548924032765864,\n",
       "  0.04050242533656007,\n",
       "  -0.0016963211516933063,\n",
       "  0.0002627198843659546,\n",
       "  -0.0006122635435682845])"
      ]
     },
     "execution_count": 27,
     "metadata": {},
     "output_type": "execute_result"
    }
   ],
   "source": [
    "dl=.1\n",
    "Es=np.asarray([E_cn(-3*dl),E_cn(-2*dl),E_cn(-dl),e_nn,E_cn(dl),E_cn(2*dl),E_cn(3*dl)])\n",
    "apdft=[e_nn]\n",
    "inc=[]\n",
    "for i in range(6):\n",
    "    inc.append(np.einsum('i,i',fds7[i+1],Es)/dl**(i+1)/np.math.factorial(i+1))\n",
    "    apdft.append(apdft[i]+inc[-1] )\n",
    "apdft=np.asarray(apdft)\n",
    "apdft,e_cn,apdft-e_cn,inc"
   ]
  },
  {
   "cell_type": "code",
   "execution_count": 28,
   "metadata": {},
   "outputs": [
    {
     "data": {
      "text/plain": [
       "(array([-108.99022518,  -90.71483653,  -92.32627163,  -92.2914705 ,\n",
       "         -92.28796925,  -92.28913923,  -92.28907515]),\n",
       " -92.28904306800459,\n",
       " -92.33113812056337,\n",
       " array([-1.67011821e+01,  1.57420654e+00, -3.72285657e-02, -2.42742810e-03,\n",
       "         1.07382148e-03, -9.61590163e-05, -3.20785617e-05]),\n",
       " array([-1.66590871e+01,  1.61630159e+00,  4.86648683e-03,  3.96676245e-02,\n",
       "         4.31688740e-02,  4.19988935e-02,  4.20629740e-02]),\n",
       " [18.275388649232564,\n",
       "  -1.6114351018422954,\n",
       "  0.0348011376220351,\n",
       "  0.003501249585073177,\n",
       "  -0.0011699804976691057,\n",
       "  6.408045452291033e-05])"
      ]
     },
     "execution_count": 28,
     "metadata": {},
     "output_type": "execute_result"
    }
   ],
   "source": [
    "dl=.1\n",
    "Es=np.asarray([E_cn(-3*dl,zbs=False),E_cn(-2*dl,zbs=False),E_cn(-dl,zbs=False),e_nn,E_cn(dl,zbs=False),E_cn(2*dl,zbs=False),E_cn(3*dl,zbs=False)])\n",
    "apdft=[e_nn]\n",
    "inc=[]\n",
    "for i in range(6):\n",
    "    inc.append(np.einsum('i,i',fds7[i+1],Es)/dl**(i+1)/np.math.factorial(i+1))\n",
    "    apdft.append(apdft[i]+inc[-1] )\n",
    "apdft=np.asarray(apdft)\n",
    "apdft,E_cn(1,zbs=False),e_cn,apdft-E_cn(1,zbs=False),apdft-e_cn,inc"
   ]
  },
  {
   "cell_type": "code",
   "execution_count": 29,
   "metadata": {},
   "outputs": [],
   "source": [
    "#check if basis are orthonormal\n",
    "#They are"
   ]
  },
  {
   "cell_type": "code",
   "execution_count": 37,
   "metadata": {},
   "outputs": [],
   "source": [
    "# check bsec if works better?"
   ]
  },
  {
   "cell_type": "code",
   "execution_count": null,
   "metadata": {},
   "outputs": [],
   "source": []
  }
 ],
 "metadata": {
  "kernelspec": {
   "display_name": "Python 3",
   "language": "python",
   "name": "python3"
  },
  "language_info": {
   "codemirror_mode": {
    "name": "ipython",
    "version": 3
   },
   "file_extension": ".py",
   "mimetype": "text/x-python",
   "name": "python",
   "nbconvert_exporter": "python",
   "pygments_lexer": "ipython3",
   "version": "3.7.3"
  }
 },
 "nbformat": 4,
 "nbformat_minor": 4
}
