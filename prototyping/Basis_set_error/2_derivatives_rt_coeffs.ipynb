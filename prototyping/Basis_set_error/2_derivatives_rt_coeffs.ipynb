{
 "cells": [
  {
   "cell_type": "code",
   "execution_count": 1,
   "metadata": {},
   "outputs": [],
   "source": [
    "import basis_set_exchange as bse\n",
    "import scipy as sp\n",
    "import matplotlib.pyplot as plt\n",
    "from pyscf import gto,scf\n",
    "import copy\n",
    "import numpy as np\n",
    "import scipy\n",
    "from scipy.interpolate import interp1d\n",
    "from pyscf.data.elements import _symbol\n",
    "from numpy.linalg import norm"
   ]
  },
  {
   "cell_type": "code",
   "execution_count": 2,
   "metadata": {},
   "outputs": [],
   "source": [
    "import sys\n",
    "sys.path.append(\"./Libs\")\n",
    "from FcMole import FcM\n",
    "from FDcoeffs import get_coeffs"
   ]
  },
  {
   "cell_type": "code",
   "execution_count": 13,
   "metadata": {},
   "outputs": [],
   "source": [
    "#5pts finite difference coefficients\n",
    "fd1=np.asarray([1/12,-2/3 ,0,2/3,-1/12])\n",
    "fd2=np.asarray([-1/12,4/3,-5/2,4/3,-1/12])\n",
    "fd3=np.asarray([-1/2,1,0,-1,1/2])\n",
    "fd4=np.asarray([1,-4,6,-4,1])\n",
    "fds=[fd1,fd2,fd3,fd4]\n",
    "fds5=get_coeffs(5)\n",
    "fds7=get_coeffs(7)"
   ]
  },
  {
   "cell_type": "code",
   "execution_count": 3,
   "metadata": {},
   "outputs": [],
   "source": [
    "def sto(z,ref=None):\n",
    "    if z <1.e-10: raise Exception(\"non implemented Zero charge atom\")\n",
    "    if z%1 <1.e-10:\n",
    "        return gto.basis.load(bse.get_basis(\"sto-3G\",fmt=\"nwchem\",elements=[int(z)]),_symbol(int(z)))\n",
    "    elif ref:\n",
    "        rb=sto(ref)\n",
    "        rbm=sto(ref-1)\n",
    "        rbp=sto(ref+1)\n",
    "        fb=copy.deepcopy(rb)\n",
    "        for i in range(len(fb)):\n",
    "            for j in range(1,len(fb[i])):  # ref+a(z-zr) +b(z-zr)^2\n",
    "                a=(rbp[i][j][0]-rbm[i][j][0])/2\n",
    "                b=(rbp[i][j][0]+rbm[i][j][0]-2*rb[i][j][0])\n",
    "                fb[i][j][0]+=a*(z-ref)+b*(z-ref)**2/2\n",
    "        return fb\n",
    "    else: raise Exception(\"can't get the fractional charge basis set, frac val and no ref\")"
   ]
  },
  {
   "cell_type": "code",
   "execution_count": 165,
   "metadata": {},
   "outputs": [],
   "source": [
    "def pcX(z,ref=None):\n",
    "    if z <1.e-10: raise Exception(\"non implemented Zero charge atom\")\n",
    "    if z%1 <1.e-10:\n",
    "        return gto.basis.load(bse.get_basis(\"pcX-1\",fmt=\"nwchem\",elements=[int(z)]),_symbol(int(z)))\n",
    "    elif ref:\n",
    "        rb=pcX(ref)\n",
    "        rbm=pcX(ref-1)\n",
    "        rbp=pcX(ref+1)\n",
    "        fb=copy.deepcopy(rb)\n",
    "        for i in range(len(fb)):  # ref+a(z-zr) +b(z-zr)^2\n",
    "            a=(rbp[i][1][0]-rbm[i][1][0])/2\n",
    "            b=(rbp[i][1][0]+rbm[i][1][0]-2*rb[i][1][0])\n",
    "            fb[i][1][0]+=a*(z-ref)+b*(z-ref)**2/2\n",
    "        return fb\n",
    "    else: raise Exception(\"can't get the fractional charge basis set, frac val and no ref\")"
   ]
  },
  {
   "cell_type": "code",
   "execution_count": 306,
   "metadata": {},
   "outputs": [],
   "source": [
    "def pcX_tbo(z,c1=1,c2=2,ref=None):\n",
    "    #c1=1\n",
    "    #c2=1.9755\n",
    "    if z <1.e-10: raise Exception(\"non implemented Zero charge atom\")\n",
    "    if z%1 <1.e-10:\n",
    "        return gto.basis.load(bse.get_basis(\"pcX-1\",fmt=\"nwchem\",elements=[int(z)]),_symbol(int(z)))\n",
    "    elif ref:\n",
    "        rb=pcX(ref)\n",
    "        rbm=pcX(ref-1)\n",
    "        rbp=pcX(ref+1)\n",
    "        fb=copy.deepcopy(rb)\n",
    "        for i in range(len(fb)):  # ref+a(z-zr) +b(z-zr)^2\n",
    "            a=(rbp[i][1][0]-rbm[i][1][0])/2\n",
    "            b=(rbp[i][1][0]+rbm[i][1][0]-2*rb[i][1][0])/2\n",
    "            fb[i][1][0]+=a*np.sign(z-ref)*abs(z-ref)**c1+b*abs(z-ref)**c2\n",
    "            #fb[i][1][0]+=a*(z-ref)+b*(z-ref)**2/2\n",
    "        return fb\n",
    "    else: raise Exception(\"can't get the fractional charge basis set, frac val and no ref\")"
   ]
  },
  {
   "cell_type": "code",
   "execution_count": 302,
   "metadata": {},
   "outputs": [],
   "source": [
    "def E_nc(l,c1=.918,c2=1.9 ):\n",
    "    mol_l=gto.M(atom=\"N1 0 0 0\",unit=\"Bohrs\",basis={\"N1\":pcX_tbo(7-l,c1,c2,ref=7)},verbose=1,spin=3)  \n",
    "    mf_l=scf.RHF(mol_l)\n",
    "    mf_l.conv_tol=1e-12\n",
    "    mf_l.conv_tol_grad=1e-12\n",
    "    e=mf_l.scf(dm0=mf_l.init_guess_by_1e())\n",
    "    return e"
   ]
  },
  {
   "cell_type": "code",
   "execution_count": 303,
   "metadata": {},
   "outputs": [
    {
     "data": {
      "text/plain": [
       "[<matplotlib.lines.Line2D at 0x7fec66dd3160>]"
      ]
     },
     "execution_count": 303,
     "metadata": {},
     "output_type": "execute_result"
    },
    {
     "data": {
      "image/png": "[encoded data removed]",
      "text/plain": [
       "<Figure size 432x288 with 1 Axes>"
      ]
     },
     "metadata": {
      "needs_background": "light"
     },
     "output_type": "display_data"
    }
   ],
   "source": [
    "ls=np.linspace(-1,1,11)\n",
    "for i in ls:\n",
    "    plt.scatter(i,E_nc(i))\n",
    "a=(E_nc(1)-E_nc(-1))/2\n",
    "b=(E_nc(1)+E_nc(-1)-2*E_nc(0))\n",
    "plt.plot(ls,E_nc(0)+a*(ls)+b*(ls)**2/2)"
   ]
  },
  {
   "cell_type": "code",
   "execution_count": 293,
   "metadata": {},
   "outputs": [],
   "source": [
    "e_n=E_nc(0,1,2)\n",
    "def fun(x):\n",
    "    c1,c2=x[0],1.9\n",
    "    return abs(E_nc(.5,c1,c2)-e_n-a*(.5)-b*(.5)**2/2)+abs(E_nc(-.5,c1,c2)-e_n-a*(-.5)-b*(.5)**2/2)+\\\n",
    "            +abs(E_nc(-.2,c1,c2)-e_n-a*(-.2)-b*(.2)**2/2)+abs(E_nc(.2,c1,c2)-e_n-a*(.2)-b*(.2)**2/2)"
   ]
  },
  {
   "cell_type": "code",
   "execution_count": 294,
   "metadata": {},
   "outputs": [
    {
     "data": {
      "text/plain": [
       "0.0033120181052943565"
      ]
     },
     "execution_count": 294,
     "metadata": {},
     "output_type": "execute_result"
    }
   ],
   "source": [
    "fun([1])"
   ]
  },
  {
   "cell_type": "code",
   "execution_count": 301,
   "metadata": {},
   "outputs": [
    {
     "data": {
      "text/plain": [
       "(0.0017060540236475668, 0.0017160550174939709, 0.0017261126010741628)"
      ]
     },
     "execution_count": 301,
     "metadata": {},
     "output_type": "execute_result"
    }
   ],
   "source": [
    "fun([.918 ]),fun([.92 ]),fun([.922 ])"
   ]
  },
  {
   "cell_type": "code",
   "execution_count": 109,
   "metadata": {},
   "outputs": [
    {
     "name": "stdout",
     "output_type": "stream",
     "text": [
      "converged SCF energy = -112.716141826715\n",
      "converged SCF energy = -108.916591616523\n"
     ]
    }
   ],
   "source": [
    "mf_co=scf.RHF(gto.M(atom=\"C 0 0 0; O 0 0 2.05\",unit=\"Bohrs\",basis=bse.get_basis(\"pcX-1\"\\\n",
    "                                                       ,fmt=\"nwchem\",elements=[\"C\",\"N\",\"O\"])))\n",
    "e_co=mf_co.scf()\n",
    "p_co=mf_co.make_rdm1()\n",
    "mf_nn=scf.RHF(gto.M(atom=\"N 0 0 0; N 0 0 2.05\",unit=\"Bohrs\",basis=bse.get_basis(\"pcX-1\"\\\n",
    "                                                       ,fmt=\"nwchem\",elements=[\"C\",\"N\",\"O\"])))\n",
    "e_nn=mf_nn.scf()\n",
    "p_nn=mf_nn.make_rdm1()"
   ]
  },
  {
   "cell_type": "code",
   "execution_count": 265,
   "metadata": {},
   "outputs": [],
   "source": [
    "def E(l,zbs=True):\n",
    "    if zbs:\n",
    "        mol_l=FcM(fcs=[-l,l],atom=\"N1 0 0 0; N2 0 0 2.05\",unit=\"Bohrs\",basis={\"N1\":pcX_tbo(7-l,ref=7),\"N2\":pcX_tbo(7+l,ref=7)},verbose=1)\n",
    "    else:\n",
    "         mol_l=FcM(fcs=[-l,l],atom=\"N1 0 0 0; N2 0 0 2.05\",unit=\"Bohrs\",basis={\"N1\":pcX(7,ref=7),\"N2\":pcX(7,ref=7)},verbose=1)       \n",
    "    mf_l=scf.RHF(mol_l)\n",
    "    #mf_l.conv_tol=1e-12\n",
    "    #mf_l.conv_tol_grad=1e-12\n",
    "    e=mf_l.scf(dm0=p_nn)\n",
    "    return e"
   ]
  },
  {
   "cell_type": "code",
   "execution_count": 307,
   "metadata": {},
   "outputs": [
    {
     "data": {
      "text/plain": [
       "([-108.91659161652328,\n",
       "  -108.91659161652234,\n",
       "  -112.73562595297656,\n",
       "  -112.7356259530189,\n",
       "  -112.6921086226752,\n",
       "  -112.69210862232586,\n",
       "  -112.74427294309004],\n",
       " -112.71614182671495)"
      ]
     },
     "execution_count": 307,
     "metadata": {},
     "output_type": "execute_result"
    }
   ],
   "source": [
    "dl=.1\n",
    "Es=np.asarray([E(-3*dl),E(-2*dl),E(-dl),e_nn,E(dl),E(2*dl),E(3*dl)])\n",
    "apdft=[e_nn]\n",
    "inc=[]\n",
    "for i in range(6):\n",
    "    inc.append(np.einsum('i,i',fds7[i+1],Es)/dl**(i+1)/np.math.factorial(i+1))\n",
    "    apdft.append(apdft[i]+inc[-1] )\n",
    "apdft,e_co"
   ]
  },
  {
   "cell_type": "code",
   "execution_count": 259,
   "metadata": {},
   "outputs": [
    {
     "data": {
      "text/plain": [
       "([-108.91659161652328,\n",
       "  -108.91659161652346,\n",
       "  -112.74897154578501,\n",
       "  -112.74897154578235,\n",
       "  -112.49915371456818,\n",
       "  -112.4991537145741,\n",
       "  -113.74205620975029],\n",
       " -112.71614182671495)"
      ]
     },
     "execution_count": 259,
     "metadata": {},
     "output_type": "execute_result"
    }
   ],
   "source": [
    "apdft=[e_nn]\n",
    "inc=[]\n",
    "for i in range(6):\n",
    "    inc.append(np.einsum('i,i',fds7[i+1],Es)/dl**(i+1)/np.math.factorial(i+1))\n",
    "    apdft.append(apdft[i]+inc[-1] )\n",
    "apdft,e_co"
   ]
  },
  {
   "cell_type": "code",
   "execution_count": 308,
   "metadata": {},
   "outputs": [
    {
     "data": {
      "text/plain": [
       "([-108.91659161652328,\n",
       "  -108.91659161652323,\n",
       "  -112.67476193932389,\n",
       "  -112.67476193932596,\n",
       "  -112.66823228260249,\n",
       "  -112.66823228260841,\n",
       "  -112.66815462295193],\n",
       " -112.71614182671495)"
      ]
     },
     "execution_count": 308,
     "metadata": {},
     "output_type": "execute_result"
    }
   ],
   "source": [
    "apdft=[e_nn]\n",
    "inc=[]\n",
    "for i in range(6):\n",
    "    inc.append(np.einsum('i,i',fds7[i+1],Es_nb)/dl**(i+1)/np.math.factorial(i+1))\n",
    "    apdft.append(apdft[i]+inc[-1] )\n",
    "apdft,e_co"
   ]
  },
  {
   "cell_type": "code",
   "execution_count": 139,
   "metadata": {},
   "outputs": [
    {
     "data": {
      "text/plain": [
       "([-108.91659161652328,\n",
       "  -108.91659161652119,\n",
       "  -108.90670184736065,\n",
       "  -108.90670184744059,\n",
       "  -108.86130094703698,\n",
       "  -108.86130094645671,\n",
       "  -108.92434908561063],\n",
       " -108.89005609416202,\n",
       " -112.71614182671495)"
      ]
     },
     "execution_count": 139,
     "metadata": {},
     "output_type": "execute_result"
    }
   ],
   "source": [
    "dl=.1\n",
    "Es=np.asarray([E(-3*dl),E(-2*dl),E(-dl),e_nn,E(dl),E(2*dl),E(3*dl)])\n",
    "Es_nc=np.asarray([E_nc(-3*dl),E_nc(-2*dl),E_nc(-dl),e_nn,E_nc(dl),E_nc(2*dl),E_nc(3*dl)])\n",
    "#Es-=Es_nc\n",
    "apdft=[e_nn]\n",
    "inc=[]\n",
    "for i in range(6):\n",
    "    inc.append(np.einsum('i,i',fds7[i+1],Es_nc)/dl**(i+1)/np.math.factorial(i+1))\n",
    "    apdft.append(apdft[i]+inc[-1] )\n",
    "apdft,E_nc(1),e_co"
   ]
  },
  {
   "cell_type": "code",
   "execution_count": 116,
   "metadata": {},
   "outputs": [
    {
     "data": {
      "text/plain": [
       "(-74.18226647198351, -74.17894157926371)"
      ]
     },
     "execution_count": 116,
     "metadata": {},
     "output_type": "execute_result"
    }
   ],
   "source": [
    "e_nn\n",
    "(apdft+E_nc(1)-e_nn)[-1] -9.17807153e-03,(apdft+E_nc(1)-e_nn)[-1] -9.17807153e-03+3.32489272e-03"
   ]
  },
  {
   "cell_type": "code",
   "execution_count": 120,
   "metadata": {},
   "outputs": [
    {
     "data": {
      "text/plain": [
       "[<matplotlib.lines.Line2D at 0x7fec679f52b0>]"
      ]
     },
     "execution_count": 120,
     "metadata": {},
     "output_type": "execute_result"
    },
    {
     "data": {
      "image/png": "[encoded data removed]",
      "text/plain": [
       "<Figure size 432x288 with 1 Axes>"
      ]
     },
     "metadata": {
      "needs_background": "light"
     },
     "output_type": "display_data"
    }
   ],
   "source": [
    "ple=[]\n",
    "ple2=[]\n",
    "ls=np.linspace(0,.8,10)\n",
    "po=8\n",
    "for i in ls:\n",
    "    ple.append(E_nc(i))\n",
    "    ple2.append(E(i))\n",
    "plt.plot(scipy.polyfit(ls,ple,po)[1:-2],color=\"red\")\n",
    "plt.plot(scipy.polyfit(ls,ple2,po)[1:-4])"
   ]
  },
  {
   "cell_type": "markdown",
   "metadata": {},
   "source": [
    "The parabolic coefficients are good enough ."
   ]
  },
  {
   "cell_type": "code",
   "execution_count": null,
   "metadata": {},
   "outputs": [],
   "source": []
  },
  {
   "cell_type": "code",
   "execution_count": null,
   "metadata": {},
   "outputs": [],
   "source": []
  }
 ],
 "metadata": {
  "kernelspec": {
   "display_name": "Python 3",
   "language": "python",
   "name": "python3"
  },
  "language_info": {
   "codemirror_mode": {
    "name": "ipython",
    "version": 3
   },
   "file_extension": ".py",
   "mimetype": "text/x-python",
   "name": "python",
   "nbconvert_exporter": "python",
   "pygments_lexer": "ipython3",
   "version": "3.7.3"
  }
 },
 "nbformat": 4,
 "nbformat_minor": 4
}
