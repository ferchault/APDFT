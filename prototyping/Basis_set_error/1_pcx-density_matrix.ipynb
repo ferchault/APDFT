{
 "cells": [
  {
   "cell_type": "code",
   "execution_count": 30,
   "metadata": {},
   "outputs": [],
   "source": [
    "import basis_set_exchange as bse\n",
    "import scipy as sp\n",
    "import matplotlib.pyplot as plt\n",
    "from pyscf import gto,scf\n",
    "import copy\n",
    "import numpy as np\n",
    "import scipy\n",
    "from scipy.interpolate import interp1d\n",
    "from pyscf.data.elements import _symbol\n",
    "from numpy.linalg import norm"
   ]
  },
  {
   "cell_type": "code",
   "execution_count": 2,
   "metadata": {},
   "outputs": [],
   "source": [
    "import sys\n",
    "sys.path.append(\"./Libs\")\n",
    "from FcMole import FcM\n",
    "from FDcoeffs import get_coeffs"
   ]
  },
  {
   "cell_type": "markdown",
   "metadata": {},
   "source": [
    "https://pubs.acs.org/doi/abs/10.1021/ed078p391"
   ]
  },
  {
   "cell_type": "code",
   "execution_count": 3,
   "metadata": {},
   "outputs": [
    {
     "name": "stdout",
     "output_type": "stream",
     "text": [
      "#----------------------------------------------------------------------\n",
      "# Basis Set Exchange\n",
      "# Version v0.8.13\n",
      "# https://www.basissetexchange.org\n",
      "#----------------------------------------------------------------------\n",
      "#   Basis set: pcX-1\n",
      "# Description: Jensen pcX basis set optimized for core-spectroscopy\n",
      "#        Role: orbital\n",
      "#     Version: 1  (Data from Frank Jensen)\n",
      "#----------------------------------------------------------------------\n",
      "\n",
      "\n",
      "BASIS \"ao basis\" PRINT\n",
      "#BASIS SET: (7s,4p,1d) -> [7s,4p,1d]\n",
      "C    S\n",
      "      0.147726E+04           1.0000000\n",
      "C    S\n",
      "      0.222361E+03           1.0000000\n",
      "C    S\n",
      "      0.505229E+02           1.0000000\n",
      "C    S\n",
      "      0.139594E+02           1.0000000\n",
      "C    S\n",
      "      0.421475E+01           1.0000000\n",
      "C    S\n",
      "      0.653345E+00           1.0000000\n",
      "C    S\n",
      "      0.191501E+00           1.0000000\n",
      "C    P\n",
      "      0.109571E+02           1.0000000\n",
      "C    P\n",
      "      0.232904E+01           1.0000000\n",
      "C    P\n",
      "      0.633257E+00           1.0000000\n",
      "C    P\n",
      "      0.163150E+00           1.0000000\n",
      "C    D\n",
      "      0.848528E+00           1.0000000\n",
      "#BASIS SET: (7s,4p,1d) -> [7s,4p,1d]\n",
      "N    S\n",
      "      0.200467E+04           1.0000000\n",
      "N    S\n",
      "      0.301707E+03           1.0000000\n",
      "N    S\n",
      "      0.685611E+02           1.0000000\n",
      "N    S\n",
      "      0.189925E+02           1.0000000\n",
      "N    S\n",
      "      0.576941E+01           1.0000000\n",
      "N    S\n",
      "      0.916175E+00           1.0000000\n",
      "N    S\n",
      "      0.264783E+00           1.0000000\n",
      "N    P\n",
      "      0.149507E+02           1.0000000\n",
      "N    P\n",
      "      0.321784E+01           1.0000000\n",
      "N    P\n",
      "      0.870440E+00           1.0000000\n",
      "N    P\n",
      "      0.218852E+00           1.0000000\n",
      "N    D\n",
      "      0.948683E+00           1.0000000\n",
      "#BASIS SET: (7s,4p,1d) -> [7s,4p,1d]\n",
      "O    S\n",
      "      0.261067E+04           1.0000000\n",
      "O    S\n",
      "      0.392872E+03           1.0000000\n",
      "O    S\n",
      "      0.892838E+02           1.0000000\n",
      "O    S\n",
      "      0.247795E+02           1.0000000\n",
      "O    S\n",
      "      0.756349E+01           1.0000000\n",
      "O    S\n",
      "      0.122156E+01           1.0000000\n",
      "O    S\n",
      "      0.350296E+00           1.0000000\n",
      "O    P\n",
      "      0.193002E+02           1.0000000\n",
      "O    P\n",
      "      0.419491E+01           1.0000000\n",
      "O    P\n",
      "      0.112806E+01           1.0000000\n",
      "O    P\n",
      "      0.276081E+00           1.0000000\n",
      "O    D\n",
      "      0.104881E+01           1.0000000\n",
      "#BASIS SET: (7s,4p,1d) -> [7s,4p,1d]\n",
      "F    S\n",
      "      0.329748E+04           1.0000000\n",
      "F    S\n",
      "      0.496191E+03           1.0000000\n",
      "F    S\n",
      "      0.112776E+03           1.0000000\n",
      "F    S\n",
      "      0.313488E+02           1.0000000\n",
      "F    S\n",
      "      0.960099E+01           1.0000000\n",
      "F    S\n",
      "      0.157305E+01           1.0000000\n",
      "F    S\n",
      "      0.447708E+00           1.0000000\n",
      "F    P\n",
      "      0.245323E+02           1.0000000\n",
      "F    P\n",
      "      0.537133E+01           1.0000000\n",
      "F    P\n",
      "      0.144087E+01           1.0000000\n",
      "F    P\n",
      "      0.348285E+00           1.0000000\n",
      "F    D\n",
      "      0.114891E+01           1.0000000\n",
      "END\n",
      "\n"
     ]
    }
   ],
   "source": [
    "print(bse.get_basis(\"pcX-1\",fmt=\"nwchem\",elements=[\"C\",7,8,9]))"
   ]
  },
  {
   "cell_type": "code",
   "execution_count": 4,
   "metadata": {},
   "outputs": [
    {
     "data": {
      "text/plain": [
       "[[0, [2004.67, 1.0]],\n",
       " [0, [301.707, 1.0]],\n",
       " [0, [68.5611, 1.0]],\n",
       " [0, [18.9925, 1.0]],\n",
       " [0, [5.76941, 1.0]],\n",
       " [0, [0.916175, 1.0]],\n",
       " [0, [0.264783, 1.0]],\n",
       " [1, [14.9507, 1.0]],\n",
       " [1, [3.21784, 1.0]],\n",
       " [1, [0.87044, 1.0]],\n",
       " [1, [0.218852, 1.0]],\n",
       " [2, [0.948683, 1.0]]]"
      ]
     },
     "execution_count": 4,
     "metadata": {},
     "output_type": "execute_result"
    }
   ],
   "source": [
    "n_pcx1=gto.basis.load(bse.get_basis(\"pcX-1\",fmt=\"nwchem\",elements=[\"N\"]),\"N\")\n",
    "n_pcx1"
   ]
  },
  {
   "cell_type": "code",
   "execution_count": 5,
   "metadata": {},
   "outputs": [],
   "source": [
    "c_pcx1=gto.basis.load(bse.get_basis(\"pcX-1\",fmt=\"nwchem\",elements=[\"C\"]),\"C\")\n",
    "o_pcx1=gto.basis.load(bse.get_basis(\"pcX-1\",fmt=\"nwchem\",elements=[\"O\"]),\"O\")\n",
    "f_pcx1=gto.basis.load(bse.get_basis(\"pcX-1\",fmt=\"nwchem\",elements=[\"F\"]),\"F\")"
   ]
  },
  {
   "cell_type": "code",
   "execution_count": 6,
   "metadata": {},
   "outputs": [],
   "source": [
    "#n_pcx1,m_pcx1,c_pcx1"
   ]
  },
  {
   "cell_type": "code",
   "execution_count": 7,
   "metadata": {},
   "outputs": [],
   "source": [
    "m1=gto.M(atom=\"N 0 0 0; N 0 0 2.01\",unit=\"Bohrs\",basis={\"N\":n_pcx1})\n",
    "m2=gto.M(atom=\"N1 0 0 0; N2 0 0 2.01\",unit=\"Bohrs\",basis={\"N1\":c_pcx1,\"N2\":o_pcx1})"
   ]
  },
  {
   "cell_type": "code",
   "execution_count": 8,
   "metadata": {},
   "outputs": [
    {
     "name": "stdout",
     "output_type": "stream",
     "text": [
      "converged SCF energy = -108.917141764211\n",
      "converged SCF energy = -108.891229528654\n"
     ]
    },
    {
     "data": {
      "text/plain": [
       "-108.89122952865374"
      ]
     },
     "execution_count": 8,
     "metadata": {},
     "output_type": "execute_result"
    }
   ],
   "source": [
    "mf1=scf.RHF(m1)\n",
    "mf1.scf()\n",
    "mf2=scf.RHF(m2)\n",
    "mf2.scf()"
   ]
  },
  {
   "cell_type": "code",
   "execution_count": 133,
   "metadata": {},
   "outputs": [],
   "source": [
    "def sto(z,ref=None):\n",
    "    if z <1.e-10: raise Exception(\"non implemented Zero charge atom\")\n",
    "    if z%1 <1.e-10:\n",
    "        return gto.basis.load(bse.get_basis(\"sto-3G\",fmt=\"nwchem\",elements=[int(z)]),_symbol(int(z)))\n",
    "    elif ref:\n",
    "        rb=sto(ref)\n",
    "        rbm=sto(ref-1)\n",
    "        rbp=sto(ref+1)\n",
    "        fb=copy.deepcopy(rb)\n",
    "        for i in range(len(fb)):\n",
    "            for j in range(1,len(fb[i])):  # ref+a(z-zr) +b(z-zr)^2\n",
    "                a=(rbp[i][j][0]-rbm[i][j][0])/2\n",
    "                b=(rbp[i][j][0]+rbm[i][j][0]-2*rb[i][j][0])\n",
    "                fb[i][j][0]+=a*(z-ref)+b*(z-ref)**2/2\n",
    "        return fb\n",
    "    else: raise Exception(\"can't get the fractional charge basis set, frac val and no ref\")"
   ]
  },
  {
   "cell_type": "code",
   "execution_count": 186,
   "metadata": {},
   "outputs": [],
   "source": [
    "def pcX(z,ref=None):\n",
    "    if z <1.e-10: raise Exception(\"non implemented Zero charge atom\")\n",
    "    if z%1 <1.e-10:\n",
    "        return gto.basis.load(bse.get_basis(\"pcX-1\",fmt=\"nwchem\",elements=[int(z)]),_symbol(int(z)))\n",
    "    elif ref:\n",
    "        rb=pcX(ref)\n",
    "        rbm=pcX(ref-1)\n",
    "        rbp=pcX(ref+1)\n",
    "        fb=copy.deepcopy(rb)\n",
    "        for i in range(len(fb)):  # ref+a(z-zr) +b(z-zr)^2\n",
    "            a=(rbp[i][1][0]-rbm[i][1][0])/2\n",
    "            b=(rbp[i][1][0]+rbm[i][1][0]-2*rb[i][1][0])\n",
    "            #fb[i][1][0]+=a*np.sign(z-ref)*abs(z-ref)*3            \n",
    "            fb[i][1][0]+=a*(z-ref)+b*(z-ref)**2/2\n",
    "        return fb\n",
    "    else: raise Exception(\"can't get the fractional charge basis set, frac val and no ref\")"
   ]
  },
  {
   "cell_type": "code",
   "execution_count": 179,
   "metadata": {},
   "outputs": [
    {
     "name": "stdout",
     "output_type": "stream",
     "text": [
      "0.9650411894373281 122.81720916209498\n",
      "4.574926965259624 5.168827460351586\n",
      "10.399776215235999 9.588200728792538\n",
      "40.84188093932736 43.57382089120653\n",
      "120.96252464495062 122.81720916209498\n"
     ]
    }
   ],
   "source": [
    "dl=.1\n",
    "zt=1\n",
    "Ps=np.asarray([P(-2*dl),P(-dl),p_nn,P(dl),P(2*dl)])\n",
    "apdft=[p_nn]\n",
    "inc=[]\n",
    "for i in range(4):\n",
    "    inc.append(np.einsum('i,ijk->jk',fds5[i+1],Ps)/dl**(i+1)/np.math.factorial(i+1)*zt**(i+1))\n",
    "    apdft.append(apdft[i]+inc[-1] )\n",
    "pT=P(zt)\n",
    "for i in range(len(apdft)):\n",
    "    print (norm(apdft[i]-pT),norm(inc[i-1]))"
   ]
  },
  {
   "cell_type": "code",
   "execution_count": 156,
   "metadata": {},
   "outputs": [
    {
     "data": {
      "text/plain": [
       "([[0, [1999.0080675, 1.0]],\n",
       "  [0, [300.85521415, 1.0]],\n",
       "  [0, [68.367460415, 1.0]],\n",
       "  [0, [18.938435116, 1.0]],\n",
       "  [0, [5.7526783205, 1.0]],\n",
       "  [0, [0.9133328402, 1.0]],\n",
       "  [0, [0.26398968605, 1.0]],\n",
       "  [1, [14.909147825000002, 1.0]],\n",
       "  [1, [3.2085476345000004, 1.0]],\n",
       "  [1, [0.8679777731, 1.0]],\n",
       "  [1, [0.21829052995, 1.0]],\n",
       "  [2, [0.9476816579, 1.0]]],\n",
       " [[0, [2004.67, 1.0]],\n",
       "  [0, [301.707, 1.0]],\n",
       "  [0, [68.5611, 1.0]],\n",
       "  [0, [18.9925, 1.0]],\n",
       "  [0, [5.76941, 1.0]],\n",
       "  [0, [0.916175, 1.0]],\n",
       "  [0, [0.264783, 1.0]],\n",
       "  [1, [14.9507, 1.0]],\n",
       "  [1, [3.21784, 1.0]],\n",
       "  [1, [0.87044, 1.0]],\n",
       "  [1, [0.218852, 1.0]],\n",
       "  [2, [0.948683, 1.0]]])"
      ]
     },
     "execution_count": 156,
     "metadata": {},
     "output_type": "execute_result"
    }
   ],
   "source": [
    "pcX(6.99,ref=6),pcX(7,ref=6)"
   ]
  },
  {
   "cell_type": "code",
   "execution_count": 84,
   "metadata": {},
   "outputs": [
    {
     "data": {
      "image/png": "[encoded data removed]",
      "text/plain": [
       "<Figure size 432x288 with 1 Axes>"
      ]
     },
     "metadata": {
      "needs_background": "light"
     },
     "output_type": "display_data"
    }
   ],
   "source": [
    "x=np.linspace(7.9,8.1,20)\n",
    "for i in x:\n",
    "    plt.scatter(i,pcX(i,ref=8)[1][1][0],color=\"blue\")"
   ]
  },
  {
   "cell_type": "code",
   "execution_count": 88,
   "metadata": {},
   "outputs": [
    {
     "name": "stdout",
     "output_type": "stream",
     "text": [
      "converged SCF energy = -112.716141826715\n",
      "converged SCF energy = -108.916591616523\n"
     ]
    }
   ],
   "source": [
    "mf_co=scf.RHF(gto.M(atom=\"C 0 0 0; O 0 0 2.05\",unit=\"Bohrs\",basis=bse.get_basis(\"pcX-1\"\\\n",
    "                                                       ,fmt=\"nwchem\",elements=[\"C\",\"N\",\"O\"])))\n",
    "mf_co.scf()\n",
    "p_co=mf_co.make_rdm1()\n",
    "mf_nn=scf.RHF(gto.M(atom=\"N 0 0 0; N 0 0 2.05\",unit=\"Bohrs\",basis=bse.get_basis(\"pcX-1\"\\\n",
    "                                                       ,fmt=\"nwchem\",elements=[\"C\",\"N\",\"O\"])))\n",
    "mf_nn.scf()\n",
    "p_nn=mf_nn.make_rdm1()"
   ]
  },
  {
   "cell_type": "code",
   "execution_count": 85,
   "metadata": {},
   "outputs": [],
   "source": [
    "def E(l,zbs=True):\n",
    "    if zbs:\n",
    "        mol_l=FcM(fcs=[-l,l],atom=\"N1 0 0 0; N2 0 0 2.05\",unit=\"Bohrs\",basis={\"N1\":pcX(7-l,ref=7),\"N2\":pcX(7+l,ref=7)},verbose=1)\n",
    "    else:\n",
    "         mol_l=FcM(fcs=[-l,l],atom=\"N1 0 0 0; N2 0 0 2.05\",unit=\"Bohrs\",basis={\"N1\":pcX(7,ref=7),\"N2\":pcX(7,ref=7)},verbose=1)       \n",
    "    mf_l=scf.RHF(mol_l)\n",
    "    #mf_l.conv_tol=1e-12\n",
    "    #mf_l.conv_tol_grad=1e-12\n",
    "    e=mf_l.scf(dm0=p_nn)\n",
    "    return e"
   ]
  },
  {
   "cell_type": "code",
   "execution_count": 184,
   "metadata": {},
   "outputs": [],
   "source": [
    "def E_nc(l,zbs=True):\n",
    "    mol_l=gto.M(atom=\"N1 0 0 0; N2 0 0 2.05\",unit=\"Bohrs\",basis={\"N1\":pcX(7-l,ref=7),\"N2\":pcX(7+l,ref=7)},verbose=1)       \n",
    "    mf_l=scf.RHF(mol_l)\n",
    "    #mf_l.conv_tol=1e-12\n",
    "    #mf_l.conv_tol_grad=1e-12\n",
    "    e=mf_l.scf(dm0=p_nn)\n",
    "    return e"
   ]
  },
  {
   "cell_type": "code",
   "execution_count": 191,
   "metadata": {},
   "outputs": [
    {
     "data": {
      "text/plain": [
       "[<matplotlib.lines.Line2D at 0x7f9036ab34a8>]"
      ]
     },
     "execution_count": 191,
     "metadata": {},
     "output_type": "execute_result"
    },
    {
     "data": {
      "image/png": "[encoded data removed]",
      "text/plain": [
       "<Figure size 432x288 with 1 Axes>"
      ]
     },
     "metadata": {
      "needs_background": "light"
     },
     "output_type": "display_data"
    }
   ],
   "source": []
  },
  {
   "cell_type": "code",
   "execution_count": 192,
   "metadata": {},
   "outputs": [
    {
     "name": "stdout",
     "output_type": "stream",
     "text": [
      "[-7.50338295e-04 -1.28786063e-02  6.70613110e-02 -1.22800987e-01\n",
      "  9.58058691e-02 -1.09588949e-02  1.11100386e-02 -5.28704132e-05\n",
      " -1.08916592e+02]\n",
      "[-9.25823591e-04 -9.28322473e-03  5.29369618e-02 -9.98958116e-02\n",
      "  8.46626485e-02 -8.96749479e-03 -3.81803408e+00 -4.33875566e-05\n",
      " -1.08916592e+02]\n"
     ]
    }
   ],
   "source": [
    "print(scipy.polyfit(np.linspace(0,1,10),a,8))\n",
    "print(scipy.polyfit(np.linspace(0,1,10),b,8))"
   ]
  },
  {
   "cell_type": "code",
   "execution_count": 142,
   "metadata": {},
   "outputs": [
    {
     "data": {
      "text/plain": [
       "(48, 48)"
      ]
     },
     "execution_count": 142,
     "metadata": {},
     "output_type": "execute_result"
    }
   ],
   "source": [
    "def P(l,zbs=True):\n",
    "    if zbs:\n",
    "        mol_l=FcM(fcs=[-l,l],atom=\"N1 0 0 0; N2 0 0 2.05\",unit=\"Bohrs\",basis={\"N1\":pcX(7-l,ref=7),\"N2\":pcX(7+l,ref=7)},verbose=1)\n",
    "    else:\n",
    "         mol_l=FcM(fcs=[-l,l],atom=\"N1 0 0 0; N2 0 0 2.05\",unit=\"Bohrs\",basis={\"N1\":pcX(7,ref=7),\"N2\":pcX(7,ref=7)},verbose=1)       \n",
    "    mf_l=scf.RHF(mol_l)\n",
    "    mf_l.conv_tol=1e-12\n",
    "    mf_l.conv_tol_grad=1e-12\n",
    "    e=mf_l.scf(dm0=mf_l.init_guess_by_1e())\n",
    "    return mf_l.make_rdm1()\n",
    "P(0.5).shape"
   ]
  },
  {
   "cell_type": "code",
   "execution_count": 119,
   "metadata": {},
   "outputs": [],
   "source": [
    "eT_R=E(-1,zbs=False)\n",
    "p_co_nn=P(1,zbs=False)"
   ]
  },
  {
   "cell_type": "code",
   "execution_count": 120,
   "metadata": {},
   "outputs": [],
   "source": [
    "#5pts finite difference coefficients\n",
    "fd1=np.asarray([1/12,-2/3 ,0,2/3,-1/12])\n",
    "fd2=np.asarray([-1/12,4/3,-5/2,4/3,-1/12])\n",
    "fd3=np.asarray([-1/2,1,0,-1,1/2])\n",
    "fd4=np.asarray([1,-4,6,-4,1])\n",
    "fds=[fd1,fd2,fd3,fd4]\n",
    "fds5=get_coeffs(5)\n",
    "fds7=get_coeffs(7)"
   ]
  },
  {
   "cell_type": "code",
   "execution_count": 143,
   "metadata": {},
   "outputs": [
    {
     "name": "stdout",
     "output_type": "stream",
     "text": [
      "0.9650411894370384\n",
      "1.0362398716483971\n",
      "1.3275182527882015\n",
      "1.369120117676861\n",
      "1.6444489592192824\n",
      "1.2791717458291731\n",
      "0.13963271481357975\n"
     ]
    }
   ],
   "source": [
    "dl=.3\n",
    "Ps=np.asarray([P(-3*dl),P(-2*dl),P(-dl),p_nn,P(dl),P(2*dl),P(3*dl)])\n",
    "apdft=[p_nn]\n",
    "inc=[]\n",
    "for i in range(6):\n",
    "    inc.append(np.einsum('i,ijk->jk',fds7[i+1],Ps)/dl**(i+1)/np.math.factorial(i+1))\n",
    "    apdft.append(apdft[i]+inc[-1] )\n",
    "for i in range(len(apdft)):\n",
    "    print (norm(apdft[i]-P(1)))"
   ]
  },
  {
   "cell_type": "code",
   "execution_count": 154,
   "metadata": {},
   "outputs": [
    {
     "name": "stdout",
     "output_type": "stream",
     "text": [
      "0.6118138270624611 0.08532562319735701\n",
      "0.19766558694046893 0.7296785901819043\n",
      "0.15864057827796216 0.201172431006975\n",
      "0.07277136847471434 0.17029847817731433\n",
      "0.0321780945813325 0.08532562319735701\n"
     ]
    }
   ],
   "source": [
    "dl=.1\n",
    "zt=.4\n",
    "Ps=np.asarray([P(-2*dl),P(-dl),p_nn,P(dl),P(2*dl)])\n",
    "apdft=[p_nn]\n",
    "inc=[]\n",
    "for i in range(4):\n",
    "    inc.append(np.einsum('i,ijk->jk',fds5[i+1],Ps)/dl**(i+1)/np.math.factorial(i+1)*zt**(i+1))\n",
    "    apdft.append(apdft[i]+inc[-1] )\n",
    "for i in range(len(apdft)):\n",
    "    print (norm(apdft[i]-P(zt)),norm(inc[i-1]))"
   ]
  },
  {
   "cell_type": "code",
   "execution_count": 155,
   "metadata": {},
   "outputs": [
    {
     "name": "stdout",
     "output_type": "stream",
     "text": [
      "0.6118138270624792 0.0853256231969168\n",
      "0.19766558694024813 0.7296785901819134\n",
      "0.15864057827742423 0.20117243100709462\n",
      "0.07277136847414147 0.17029847817657845\n",
      "0.03217809458007389 0.0853256231969168\n"
     ]
    }
   ],
   "source": [
    "dl=.1\n",
    "zt=.4\n",
    "Ps=np.asarray([P(-2*dl),P(-dl),p_nn,P(dl),P(2*dl)])\n",
    "apdft=[p_nn]\n",
    "inc=[]\n",
    "for i in range(4):\n",
    "    inc.append(np.einsum('i,ijk->jk',fds5[i+1],Ps)/dl**(i+1)/np.math.factorial(i+1)*zt**(i+1))\n",
    "    apdft.append(apdft[i]+inc[-1] )\n",
    "pT=P(zt)\n",
    "for i in range(len(apdft)):\n",
    "    print (norm(apdft[i]-pT),norm(inc[i-1]))"
   ]
  },
  {
   "cell_type": "code",
   "execution_count": 125,
   "metadata": {},
   "outputs": [
    {
     "name": "stdout",
     "output_type": "stream",
     "text": [
      "2.921781555698277 1.4072832721876174\n",
      "3.2383524682303553 0.493792853822984\n",
      "3.122894466872578 0.12076365468397218\n",
      "3.0916927283164006 0.03144584683536064\n",
      "3.0893377372349087 0.00872844830116007\n",
      "3.088367144499512 0.0027459879653724314\n",
      "3.0888398989796846 8.840767518070873e-05\n"
     ]
    }
   ],
   "source": [
    "dl=.3\n",
    "Ps=np.asarray([P(-3*dl,zbs=False),P(-2*dl,zbs=False),P(-dl,zbs=False),p_nn,P(dl,zbs=False),P(2*dl,zbs=False),P(3*dl,zbs=False)])\n",
    "apdft=[p_nn]\n",
    "inc=[]\n",
    "for i in range(6):\n",
    "    inc.append(np.einsum('i,ijk->jk',fds7[i+1],Ps)/dl**(i+1)/np.math.factorial(i+1))\n",
    "    apdft.append(apdft[i]+inc[-1] )\n",
    "for i in range(len(apdft)):\n",
    "    print (norm(apdft[i]),norm(apdft[i]-p_co_nn))"
   ]
  },
  {
   "cell_type": "code",
   "execution_count": 94,
   "metadata": {},
   "outputs": [
    {
     "data": {
      "text/plain": [
       "6.574730312539663e-05"
      ]
     },
     "execution_count": 94,
     "metadata": {},
     "output_type": "execute_result"
    }
   ],
   "source": [
    "norm(P(.9999)-p_co)"
   ]
  },
  {
   "cell_type": "code",
   "execution_count": null,
   "metadata": {},
   "outputs": [],
   "source": [
    "dl=.1\n",
    "zt=.4\n",
    "Es=np.asarray([P(-2*dl),P(-dl),p_nn,P(dl),P(2*dl)])\n",
    "apdft=[p_nn]\n",
    "inc=[]\n",
    "for i in range(4):\n",
    "    inc.append(np.einsum('i,ijk->jk',fds5[i+1],Ps)/dl**(i+1)/np.math.factorial(i+1)*zt**(i+1))\n",
    "    apdft.append(apdft[i]+inc[-1] )\n",
    "pT=P(zt)\n",
    "for i in range(len(apdft)):\n",
    "    print (norm(apdft[i]-pT),norm(inc[i-1]))"
   ]
  },
  {
   "cell_type": "markdown",
   "metadata": {},
   "source": [
    "Conclusions: the series is even harder to converge for density matrices, the radius of convergence is around .5 whereas to get the  <br>\n",
    "the issue is contained in the derivatives with respect to the orbital coefficients. <br>\n",
    "Better not to include this in a future article\n"
   ]
  },
  {
   "cell_type": "code",
   "execution_count": null,
   "metadata": {},
   "outputs": [],
   "source": []
  }
 ],
 "metadata": {
  "kernelspec": {
   "display_name": "Python 3",
   "language": "python",
   "name": "python3"
  },
  "language_info": {
   "codemirror_mode": {
    "name": "ipython",
    "version": 3
   },
   "file_extension": ".py",
   "mimetype": "text/x-python",
   "name": "python",
   "nbconvert_exporter": "python",
   "pygments_lexer": "ipython3",
   "version": "3.7.3"
  }
 },
 "nbformat": 4,
 "nbformat_minor": 4
}
