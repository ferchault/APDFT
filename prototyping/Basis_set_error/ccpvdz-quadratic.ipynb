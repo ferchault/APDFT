{
 "cells": [
  {
   "cell_type": "code",
   "execution_count": 2,
   "metadata": {},
   "outputs": [],
   "source": [
    "import basis_set_exchange as bse\n",
    "import scipy as sp\n",
    "import matplotlib.pyplot as plt\n",
    "from pyscf import gto,scf\n",
    "import copy\n",
    "import numpy as np\n",
    "import scipy\n",
    "from scipy.interpolate import interp1d\n",
    "from pyscf.data.elements import _symbol\n",
    "from numpy.linalg import norm"
   ]
  },
  {
   "cell_type": "code",
   "execution_count": 3,
   "metadata": {},
   "outputs": [],
   "source": [
    "import sys\n",
    "sys.path.append(\"./Libs\")\n",
    "from FcMole import FcM\n",
    "from FDcoeffs import get_coeffs"
   ]
  },
  {
   "cell_type": "code",
   "execution_count": 4,
   "metadata": {},
   "outputs": [
    {
     "data": {
      "text/plain": [
       "([[0,\n",
       "   [9046.0, 0.0007, -0.000153, 0.0],\n",
       "   [1357.0, 0.005389, -0.001208, 0.0],\n",
       "   [309.3, 0.027406, -0.005992, 0.0],\n",
       "   [87.73, 0.103207, -0.024544, 0.0],\n",
       "   [28.56, 0.278723, -0.067459, 0.0],\n",
       "   [10.21, 0.44854, -0.158078, 0.0],\n",
       "   [3.838, 0.278238, -0.121831, 0.0],\n",
       "   [0.7466, 0.01544, 0.549003, 0.0],\n",
       "   [0.2248, -0.002864, 0.578815, 1.0]],\n",
       "  [1,\n",
       "   [13.55, 0.039919, 0.0],\n",
       "   [2.917, 0.217169, 0.0],\n",
       "   [0.7973, 0.510319, 0.0],\n",
       "   [0.2185, 0.462214, 1.0]],\n",
       "  [2, [0.817, 1.0]]],\n",
       " '*******************',\n",
       " [[0,\n",
       "   [6665.0, 0.000692, -0.000146, 0.0],\n",
       "   [1000.0, 0.005329, -0.001154, 0.0],\n",
       "   [228.0, 0.027077, -0.005725, 0.0],\n",
       "   [64.71, 0.101718, -0.023312, 0.0],\n",
       "   [21.06, 0.27474, -0.063955, 0.0],\n",
       "   [7.495, 0.448564, -0.149981, 0.0],\n",
       "   [2.797, 0.285074, -0.127262, 0.0],\n",
       "   [0.5215, 0.015204, 0.544529, 0.0],\n",
       "   [0.1596, -0.003191, 0.580496, 1.0]],\n",
       "  [1,\n",
       "   [9.439, 0.038109, 0.0],\n",
       "   [2.002, 0.20948, 0.0],\n",
       "   [0.5456, 0.508557, 0.0],\n",
       "   [0.1517, 0.468842, 1.0]],\n",
       "  [2, [0.55, 1.0]]])"
      ]
     },
     "execution_count": 4,
     "metadata": {},
     "output_type": "execute_result"
    }
   ],
   "source": [
    "n_321g=gto.basis.load(bse.get_basis(\"cc-pvdz\",fmt=\"nwchem\",elements=[\"N\"]),\"N\")\n",
    "c_321g=gto.basis.load(bse.get_basis(\"cc-pvdz\",fmt=\"nwchem\",elements=[\"C\"]),\"C\")\n",
    "n_321g,\"*******************\",c_321g"
   ]
  },
  {
   "cell_type": "code",
   "execution_count": 5,
   "metadata": {},
   "outputs": [],
   "source": [
    "c_321=gto.basis.load(bse.get_basis(\"cc-pvdz\",fmt=\"nwchem\",elements=[\"C\"]),\"C\")\n",
    "o_321=gto.basis.load(bse.get_basis(\"cc-pvdz\",fmt=\"nwchem\",elements=[\"O\"]),\"O\")\n",
    "f_321=gto.basis.load(bse.get_basis(\"cc-pvdz\",fmt=\"nwchem\",elements=[\"F\"]),\"F\")"
   ]
  },
  {
   "cell_type": "code",
   "execution_count": 9,
   "metadata": {},
   "outputs": [],
   "source": [
    "def g321(z,ref=None):\n",
    "    if z <1.e-10: raise Exception(\"non implemented Zero charge atom\")\n",
    "    if z%1 <1.e-10:\n",
    "        return gto.basis.load(bse.get_basis(\"cc-pvdz\",fmt=\"nwchem\",elements=[int(z)]),_symbol(int(z)))\n",
    "    elif ref:\n",
    "        rb=g321(ref)\n",
    "        rbm=g321(ref-1)\n",
    "        rbp=g321(ref+1)\n",
    "        fb=copy.deepcopy(rb)\n",
    "        for i in range(len(fb)):  \n",
    "            for j in range(1,len(fb[i])):\n",
    "                for k in range(len(fb[i][j])):\n",
    "                    a=(rbp[i][j][k]-rbm[i][j][k])/2\n",
    "                    b=(rbp[i][j][k]+rbm[i][j][k]-2*rb[i][j][k])\n",
    "                    fb[i][j][k]+=a*(z-ref)+b*(z-ref)**2\n",
    "        return fb\n",
    "    else: raise Exception(\"can't get the fractional charge basis set, frac val and no ref\")"
   ]
  },
  {
   "cell_type": "code",
   "execution_count": 10,
   "metadata": {},
   "outputs": [
    {
     "data": {
      "text/plain": [
       "([[0,\n",
       "   [6665.0, 0.000692, -0.000146, 0.0],\n",
       "   [1000.0, 0.005329, -0.001154, 0.0],\n",
       "   [228.0, 0.027077, -0.005725, 0.0],\n",
       "   [64.71, 0.101718, -0.023312, 0.0],\n",
       "   [21.06, 0.27474, -0.063955, 0.0],\n",
       "   [7.495, 0.448564, -0.149981, 0.0],\n",
       "   [2.797, 0.285074, -0.127262, 0.0],\n",
       "   [0.5215, 0.015204, 0.544529, 0.0],\n",
       "   [0.1596, -0.003191, 0.580496, 1.0]],\n",
       "  [1,\n",
       "   [9.439, 0.038109, 0.0],\n",
       "   [2.002, 0.20948, 0.0],\n",
       "   [0.5456, 0.508557, 0.0],\n",
       "   [0.1517, 0.468842, 1.0]],\n",
       "  [2, [0.55, 1.0]]],\n",
       " '**********',\n",
       " [[0,\n",
       "   [7855.5, 0.000696, -0.0001495, 0.0],\n",
       "   [1178.5, 0.005359, -0.0011810000000000002, 0.0],\n",
       "   [268.65, 0.027241500000000002, -0.0058585, 0.0],\n",
       "   [76.22, 0.1024625, -0.023927999999999998, 0.0],\n",
       "   [24.81, 0.2767315, -0.065707, 0.0],\n",
       "   [8.852500000000001, 0.448552, -0.1540295, 0.0],\n",
       "   [3.3175, 0.281656, -0.1245465, 0.0],\n",
       "   [0.63405, 0.015322, 0.546766, 0.0],\n",
       "   [0.19219999999999998, -0.0030275, 0.5796555, 1.0]],\n",
       "  [1,\n",
       "   [11.4945, 0.039014, 0.0],\n",
       "   [2.4595, 0.2133245, 0.0],\n",
       "   [0.67145, 0.5094380000000001, 0.0],\n",
       "   [0.1851, 0.465528, 1.0]],\n",
       "  [2, [0.6835, 1.0]]],\n",
       " '**********',\n",
       " [[0,\n",
       "   [9046.0, 0.0007, -0.000153, 0.0],\n",
       "   [1357.0, 0.005389, -0.001208, 0.0],\n",
       "   [309.3, 0.027406, -0.005992, 0.0],\n",
       "   [87.73, 0.103207, -0.024544, 0.0],\n",
       "   [28.56, 0.278723, -0.067459, 0.0],\n",
       "   [10.21, 0.44854, -0.158078, 0.0],\n",
       "   [3.838, 0.278238, -0.121831, 0.0],\n",
       "   [0.7466, 0.01544, 0.549003, 0.0],\n",
       "   [0.2248, -0.002864, 0.578815, 1.0]],\n",
       "  [1,\n",
       "   [13.55, 0.039919, 0.0],\n",
       "   [2.917, 0.217169, 0.0],\n",
       "   [0.7973, 0.510319, 0.0],\n",
       "   [0.2185, 0.462214, 1.0]],\n",
       "  [2, [0.817, 1.0]]])"
      ]
     },
     "execution_count": 10,
     "metadata": {},
     "output_type": "execute_result"
    }
   ],
   "source": [
    "g321(6,ref=6),\"**********\",g321(6.5,ref=6),\"**********\",g321(7,ref=6)"
   ]
  },
  {
   "cell_type": "code",
   "execution_count": 11,
   "metadata": {},
   "outputs": [],
   "source": [
    "def E(l,zbs=True):\n",
    "    if zbs:\n",
    "        mol_l=FcM(fcs=[-l,l],atom=\"N1 0 0 0; N2 0 0 2.05\",unit=\"Bohrs\",basis={\"N1\":g321(7-l,ref=7),\"N2\":g321(7+l,ref=7)},verbose=1)\n",
    "    else:\n",
    "         mol_l=FcM(fcs=[-l,l],atom=\"N1 0 0 0; N2 0 0 2.05\",unit=\"Bohrs\",basis={\"N1\":g321(7,ref=7),\"N2\":g321(7,ref=7)},verbose=1)       \n",
    "    mf_l=scf.RHF(mol_l)\n",
    "    #mf_l.conv_tol=1e-12\n",
    "    #mf_l.conv_tol_grad=1e-12\n",
    "    e=mf_l.scf(dm0=mf_l.init_guess_by_1e())\n",
    "    return e"
   ]
  },
  {
   "cell_type": "code",
   "execution_count": 12,
   "metadata": {},
   "outputs": [
    {
     "data": {
      "image/png": "[encoded data removed]",
      "text/plain": [
       "<Figure size 432x288 with 1 Axes>"
      ]
     },
     "metadata": {
      "needs_background": "light"
     },
     "output_type": "display_data"
    }
   ],
   "source": [
    "for i in np.linspace(0,1,11):\n",
    "    plt.scatter(i,E(i),color=\"blue\")"
   ]
  },
  {
   "cell_type": "code",
   "execution_count": 23,
   "metadata": {},
   "outputs": [],
   "source": [
    "eT_R=E(-1,zbs=False)"
   ]
  },
  {
   "cell_type": "code",
   "execution_count": 17,
   "metadata": {},
   "outputs": [
    {
     "name": "stdout",
     "output_type": "stream",
     "text": [
      "converged SCF energy = -112.748289228782\n",
      "converged SCF energy = -108.955359061672\n"
     ]
    }
   ],
   "source": [
    "e_co=scf.RHF(gto.M(atom=\"C 0 0 0; O 0 0 2.05\",unit=\"Bohrs\",basis=bse.get_basis(\"cc-pvdz\"\\\n",
    "                                                       ,fmt=\"nwchem\",elements=[\"C\",\"N\",\"O\"]))).scf()\n",
    "e_nn=scf.RHF(gto.M(atom=\"N 0 0 0; N 0 0 2.05\",unit=\"Bohrs\",basis=bse.get_basis(\"cc-pvdz\"\\\n",
    "                                                       ,fmt=\"nwchem\",elements=[\"C\",\"N\",\"O\"]))).scf()"
   ]
  },
  {
   "cell_type": "code",
   "execution_count": 18,
   "metadata": {},
   "outputs": [],
   "source": [
    "#5pts finite difference coefficients\n",
    "fd1=np.asarray([1/12,-2/3 ,0,2/3,-1/12])\n",
    "fd2=np.asarray([-1/12,4/3,-5/2,4/3,-1/12])\n",
    "fd3=np.asarray([-1/2,1,0,-1,1/2])\n",
    "fd4=np.asarray([1,-4,6,-4,1])\n",
    "fds=[fd1,fd2,fd3,fd4]\n",
    "fds5=get_coeffs(5)\n",
    "fds7=get_coeffs(7)"
   ]
  },
  {
   "cell_type": "code",
   "execution_count": 19,
   "metadata": {},
   "outputs": [
    {
     "data": {
      "text/plain": [
       "([-108.95535906167157,\n",
       "  -108.95535906167221,\n",
       "  -112.75991750859562,\n",
       "  -112.75991750858526,\n",
       "  -112.72811970622223,\n",
       "  -112.72811970626368,\n",
       "  -112.7694708317504],\n",
       " -112.74828922878179,\n",
       " [-6.372680161348399e-13,\n",
       "  -3.804558446923411,\n",
       "  1.0362081563168126e-11,\n",
       "  0.03179780236302794,\n",
       "  -4.1448326252672496e-11,\n",
       "  -0.041351125486717884])"
      ]
     },
     "execution_count": 19,
     "metadata": {},
     "output_type": "execute_result"
    }
   ],
   "source": [
    "dl=.1\n",
    "Es=np.asarray([E(-3*dl),E(-2*dl),E(-dl),e_nn,E(dl),E(2*dl),E(3*dl)])\n",
    "apdft=[e_nn]\n",
    "inc=[]\n",
    "for i in range(6):\n",
    "    inc.append(fds7[i+1].dot(np.asarray(Es))/dl**(i+1)/np.math.factorial(i+1))\n",
    "    apdft.append(apdft[i]+inc[-1] )\n",
    "apdft,e_co,inc"
   ]
  },
  {
   "cell_type": "code",
   "execution_count": 21,
   "metadata": {},
   "outputs": [
    {
     "data": {
      "text/plain": [
       "([-108.95535906167157,\n",
       "  -108.95535906167174,\n",
       "  -112.75990096814846,\n",
       "  -112.75990096813898,\n",
       "  -112.7301707220044],\n",
       " -112.74828922878179,\n",
       " [-1.7763568394002505e-13,\n",
       "  -3.8045419064767207,\n",
       "  9.473903143468e-12,\n",
       "  0.029730246134581265])"
      ]
     },
     "execution_count": 21,
     "metadata": {},
     "output_type": "execute_result"
    }
   ],
   "source": [
    "dl=.1\n",
    "Es=np.asarray([E(-2*dl),E(-dl),e_nn,E(dl),E(2*dl)])\n",
    "apdft=[e_nn]\n",
    "inc=[]\n",
    "for i in range(4):\n",
    "    inc.append(fds5[i+1].dot(np.asarray(Es))/dl**(i+1)/np.math.factorial(i+1))\n",
    "    apdft.append(apdft[i]+fds5[i+1].dot(np.asarray(Es))/dl**(i+1)/np.math.factorial(i+1) )\n",
    "apdft,e_co,inc"
   ]
  },
  {
   "cell_type": "code",
   "execution_count": 24,
   "metadata": {},
   "outputs": [
    {
     "data": {
      "text/plain": [
       "([-108.95535906167157,\n",
       "  -108.95535906167049,\n",
       "  -110.88090069274052,\n",
       "  -110.88090069292289,\n",
       "  -110.90530494896112,\n",
       "  -110.90530494270834,\n",
       "  -110.90801357330223],\n",
       " -110.90792079509428,\n",
       " -112.74828922878179,\n",
       " [1.0791367799356522e-12,\n",
       "  -1.9255416310700375,\n",
       "  -1.82372635511759e-10,\n",
       "  -0.024404256038224045,\n",
       "  6.25277607468888e-09,\n",
       "  -0.0027086305938913324])"
      ]
     },
     "execution_count": 24,
     "metadata": {},
     "output_type": "execute_result"
    }
   ],
   "source": [
    "dl=.05\n",
    "Es=np.asarray([E(-3*dl,zbs=False),E(-2*dl,zbs=False),E(-dl,zbs=False),e_nn,E(dl,zbs=False),E(2*dl,zbs=False),E(3*dl,zbs=False)])\n",
    "apdft=[e_nn]\n",
    "inc=[]\n",
    "for i in range(6):\n",
    "    inc.append(fds7[i+1].dot(np.asarray(Es))/dl**(i+1)/np.math.factorial(i+1))\n",
    "    apdft.append(apdft[i]+fds7[i+1].dot(np.asarray(Es))/dl**(i+1)/np.math.factorial(i+1) )\n",
    "apdft,eT_R,e_co,inc"
   ]
  },
  {
   "cell_type": "code",
   "execution_count": 25,
   "metadata": {},
   "outputs": [],
   "source": [
    "def E_cn(l):\n",
    "    mol_l=FcM(fcs=[-l,0],atom=\"N1 0 0 0; N2 0 0 2.05\",unit=\"Bohrs\",basis={\"N1\":g321(7-l,ref=7),\"N2\":g321(7)},verbose=1)\n",
    "    mf_l=scf.RHF(mol_l)\n",
    "    #mf_l.conv_tol=1e-12\n",
    "    #mf_l.conv_tol_grad=1e-12\n",
    "    e=mf_l.scf(dm0=mf_l.init_guess_by_1e())\n",
    "    return e"
   ]
  },
  {
   "cell_type": "code",
   "execution_count": 26,
   "metadata": {},
   "outputs": [
    {
     "name": "stdout",
     "output_type": "stream",
     "text": [
      "converged SCF energy = -92.2819551432902\n"
     ]
    }
   ],
   "source": [
    "mf_cn=scf.RHF(gto.M(atom=\"C 0 0 0; N 0 0 2.05\",unit=\"Bohrs\",basis=bse.get_basis(\"cc-pvdz\"\\\n",
    "                                                       ,fmt=\"nwchem\",elements=[\"C\",\"N\",\"O\"]),charge=-1))\n",
    "e_cn=mf_cn.scf()"
   ]
  },
  {
   "cell_type": "code",
   "execution_count": 27,
   "metadata": {},
   "outputs": [
    {
     "data": {
      "text/plain": [
       "(array([-108.95535906,  -90.67672751,  -92.32090709,  -92.28111238,\n",
       "         -92.27861695,  -92.27742712,  -92.27777971]),\n",
       " -92.28195514329022,\n",
       " array([-1.66734039e+01,  1.60522763e+00, -3.89519501e-02,  8.42766564e-04,\n",
       "         3.33819709e-03,  4.52802757e-03,  4.17542958e-03]))"
      ]
     },
     "execution_count": 27,
     "metadata": {},
     "output_type": "execute_result"
    }
   ],
   "source": [
    "dl=.1\n",
    "Es=np.asarray([E_cn(-3*dl),E_cn(-2*dl),E_cn(-dl),e_nn,E_cn(dl),E_cn(2*dl),E_cn(3*dl)])\n",
    "apdft=[e_nn]\n",
    "inc=[]\n",
    "for i in range(6):\n",
    "    inc.append(np.einsum('i,i',fds7[i+1],Es)/dl**(i+1)/np.math.factorial(i+1))\n",
    "    apdft.append(apdft[i]+inc[-1] )\n",
    "apdft=np.asarray(apdft)\n",
    "apdft,e_cn,apdft-e_cn"
   ]
  },
  {
   "cell_type": "code",
   "execution_count": 26,
   "metadata": {},
   "outputs": [],
   "source": [
    "#check if basis are orthonormal"
   ]
  },
  {
   "cell_type": "code",
   "execution_count": 28,
   "metadata": {},
   "outputs": [],
   "source": [
    "def S(l,zbs=True):\n",
    "    if zbs:\n",
    "        mol_l=FcM(fcs=[-l,l],atom=\"N1 0 0 0; N2 0 0 2.05\",unit=\"Bohrs\",basis={\"N1\":g321(7-l,ref=7),\"N2\":g321(7+l,ref=7)},verbose=1)\n",
    "    else:\n",
    "         mol_l=FcM(fcs=[-l,l],atom=\"N1 0 0 0; N2 0 0 2.05\",unit=\"Bohrs\",basis={\"N1\":g321(7,ref=7),\"N2\":g321(7,ref=7)},verbose=1)       \n",
    "    mf_l=scf.RHF(mol_l)\n",
    "    #mf_l.conv_tol=1e-12\n",
    "    #mf_l.conv_tol_grad=1e-12\n",
    "    #e=mf_l.scf(dm0=mf_l.init_guess_by_1e())\n",
    "    return mf_l.get_ovlp()"
   ]
  },
  {
   "cell_type": "code",
   "execution_count": 29,
   "metadata": {},
   "outputs": [
    {
     "name": "stdout",
     "output_type": "stream",
     "text": [
      "[1. 1. 1. 1. 1. 1. 1. 1. 1. 1. 1. 1. 1. 1. 1. 1. 1. 1. 1. 1. 1. 1. 1. 1.\n",
      " 1. 1. 1. 1.]\n",
      "[1. 1. 1. 1. 1. 1. 1. 1. 1. 1. 1. 1. 1. 1. 1. 1. 1. 1. 1. 1. 1. 1. 1. 1.\n",
      " 1. 1. 1. 1.]\n",
      "[1. 1. 1. 1. 1. 1. 1. 1. 1. 1. 1. 1. 1. 1. 1. 1. 1. 1. 1. 1. 1. 1. 1. 1.\n",
      " 1. 1. 1. 1.]\n",
      "[1. 1. 1. 1. 1. 1. 1. 1. 1. 1. 1. 1. 1. 1. 1. 1. 1. 1. 1. 1. 1. 1. 1. 1.\n",
      " 1. 1. 1. 1.]\n",
      "[1. 1. 1. 1. 1. 1. 1. 1. 1. 1. 1. 1. 1. 1. 1. 1. 1. 1. 1. 1. 1. 1. 1. 1.\n",
      " 1. 1. 1. 1.]\n",
      "[1. 1. 1. 1. 1. 1. 1. 1. 1. 1. 1. 1. 1. 1. 1. 1. 1. 1. 1. 1. 1. 1. 1. 1.\n",
      " 1. 1. 1. 1.]\n",
      "[1. 1. 1. 1. 1. 1. 1. 1. 1. 1. 1. 1. 1. 1. 1. 1. 1. 1. 1. 1. 1. 1. 1. 1.\n",
      " 1. 1. 1. 1.]\n"
     ]
    }
   ],
   "source": [
    "for i in np.linspace(0,1,7):\n",
    "    print(S(i).diagonal())  #automatic normalization"
   ]
  },
  {
   "cell_type": "code",
   "execution_count": 30,
   "metadata": {},
   "outputs": [
    {
     "data": {
      "text/plain": [
       "(<matplotlib.image.AxesImage at 0x7fca966e85f8>,\n",
       " <matplotlib.image.AxesImage at 0x7fca965b6240>)"
      ]
     },
     "execution_count": 30,
     "metadata": {},
     "output_type": "execute_result"
    },
    {
     "data": {
      "image/png": "[encoded data removed]",
      "text/plain": [
       "<Figure size 288x288 with 1 Axes>"
      ]
     },
     "metadata": {
      "needs_background": "light"
     },
     "output_type": "display_data"
    },
    {
     "data": {
      "image/png": "[encoded data removed]",
      "text/plain": [
       "<Figure size 288x288 with 1 Axes>"
      ]
     },
     "metadata": {
      "needs_background": "light"
     },
     "output_type": "display_data"
    }
   ],
   "source": [
    "plt.matshow(S(0)),plt.matshow(S(.5))"
   ]
  },
  {
   "cell_type": "code",
   "execution_count": null,
   "metadata": {},
   "outputs": [],
   "source": []
  },
  {
   "cell_type": "code",
   "execution_count": null,
   "metadata": {},
   "outputs": [],
   "source": []
  }
 ],
 "metadata": {
  "kernelspec": {
   "display_name": "Python 3",
   "language": "python",
   "name": "python3"
  },
  "language_info": {
   "codemirror_mode": {
    "name": "ipython",
    "version": 3
   },
   "file_extension": ".py",
   "mimetype": "text/x-python",
   "name": "python",
   "nbconvert_exporter": "python",
   "pygments_lexer": "ipython3",
   "version": "3.7.3"
  }
 },
 "nbformat": 4,
 "nbformat_minor": 4
}
