{
 "cells": [
  {
   "cell_type": "code",
   "execution_count": 169,
   "metadata": {},
   "outputs": [],
   "source": [
    "import basis_set_exchange as bse\n",
    "import scipy as sp\n",
    "import matplotlib.pyplot as plt\n",
    "from pyscf import gto,scf\n",
    "import copy\n",
    "import numpy as np\n",
    "import scipy\n",
    "from scipy.interpolate import interp1d\n",
    "from pyscf.data.elements import _symbol"
   ]
  },
  {
   "cell_type": "code",
   "execution_count": 6,
   "metadata": {},
   "outputs": [],
   "source": [
    "import sys\n",
    "sys.path.append(\"./Libs\")\n",
    "from FcMole import FcM\n",
    "from FDcoeffs import get_coeffs"
   ]
  },
  {
   "cell_type": "markdown",
   "metadata": {},
   "source": [
    "https://pubs.acs.org/doi/abs/10.1021/ed078p391"
   ]
  },
  {
   "cell_type": "code",
   "execution_count": 7,
   "metadata": {},
   "outputs": [
    {
     "name": "stdout",
     "output_type": "stream",
     "text": [
      "#----------------------------------------------------------------------\n",
      "# Basis Set Exchange\n",
      "# Version v0.8.13\n",
      "# https://www.basissetexchange.org\n",
      "#----------------------------------------------------------------------\n",
      "#   Basis set: pcX-1\n",
      "# Description: Jensen pcX basis set optimized for core-spectroscopy\n",
      "#        Role: orbital\n",
      "#     Version: 1  (Data from Frank Jensen)\n",
      "#----------------------------------------------------------------------\n",
      "\n",
      "\n",
      "BASIS \"ao basis\" PRINT\n",
      "#BASIS SET: (7s,4p,1d) -> [7s,4p,1d]\n",
      "C    S\n",
      "      0.147726E+04           1.0000000\n",
      "C    S\n",
      "      0.222361E+03           1.0000000\n",
      "C    S\n",
      "      0.505229E+02           1.0000000\n",
      "C    S\n",
      "      0.139594E+02           1.0000000\n",
      "C    S\n",
      "      0.421475E+01           1.0000000\n",
      "C    S\n",
      "      0.653345E+00           1.0000000\n",
      "C    S\n",
      "      0.191501E+00           1.0000000\n",
      "C    P\n",
      "      0.109571E+02           1.0000000\n",
      "C    P\n",
      "      0.232904E+01           1.0000000\n",
      "C    P\n",
      "      0.633257E+00           1.0000000\n",
      "C    P\n",
      "      0.163150E+00           1.0000000\n",
      "C    D\n",
      "      0.848528E+00           1.0000000\n",
      "#BASIS SET: (7s,4p,1d) -> [7s,4p,1d]\n",
      "N    S\n",
      "      0.200467E+04           1.0000000\n",
      "N    S\n",
      "      0.301707E+03           1.0000000\n",
      "N    S\n",
      "      0.685611E+02           1.0000000\n",
      "N    S\n",
      "      0.189925E+02           1.0000000\n",
      "N    S\n",
      "      0.576941E+01           1.0000000\n",
      "N    S\n",
      "      0.916175E+00           1.0000000\n",
      "N    S\n",
      "      0.264783E+00           1.0000000\n",
      "N    P\n",
      "      0.149507E+02           1.0000000\n",
      "N    P\n",
      "      0.321784E+01           1.0000000\n",
      "N    P\n",
      "      0.870440E+00           1.0000000\n",
      "N    P\n",
      "      0.218852E+00           1.0000000\n",
      "N    D\n",
      "      0.948683E+00           1.0000000\n",
      "#BASIS SET: (7s,4p,1d) -> [7s,4p,1d]\n",
      "O    S\n",
      "      0.261067E+04           1.0000000\n",
      "O    S\n",
      "      0.392872E+03           1.0000000\n",
      "O    S\n",
      "      0.892838E+02           1.0000000\n",
      "O    S\n",
      "      0.247795E+02           1.0000000\n",
      "O    S\n",
      "      0.756349E+01           1.0000000\n",
      "O    S\n",
      "      0.122156E+01           1.0000000\n",
      "O    S\n",
      "      0.350296E+00           1.0000000\n",
      "O    P\n",
      "      0.193002E+02           1.0000000\n",
      "O    P\n",
      "      0.419491E+01           1.0000000\n",
      "O    P\n",
      "      0.112806E+01           1.0000000\n",
      "O    P\n",
      "      0.276081E+00           1.0000000\n",
      "O    D\n",
      "      0.104881E+01           1.0000000\n",
      "#BASIS SET: (7s,4p,1d) -> [7s,4p,1d]\n",
      "F    S\n",
      "      0.329748E+04           1.0000000\n",
      "F    S\n",
      "      0.496191E+03           1.0000000\n",
      "F    S\n",
      "      0.112776E+03           1.0000000\n",
      "F    S\n",
      "      0.313488E+02           1.0000000\n",
      "F    S\n",
      "      0.960099E+01           1.0000000\n",
      "F    S\n",
      "      0.157305E+01           1.0000000\n",
      "F    S\n",
      "      0.447708E+00           1.0000000\n",
      "F    P\n",
      "      0.245323E+02           1.0000000\n",
      "F    P\n",
      "      0.537133E+01           1.0000000\n",
      "F    P\n",
      "      0.144087E+01           1.0000000\n",
      "F    P\n",
      "      0.348285E+00           1.0000000\n",
      "F    D\n",
      "      0.114891E+01           1.0000000\n",
      "END\n",
      "\n"
     ]
    }
   ],
   "source": [
    "print(bse.get_basis(\"pcX-1\",fmt=\"nwchem\",elements=[\"C\",7,8,9]))"
   ]
  },
  {
   "cell_type": "code",
   "execution_count": 8,
   "metadata": {},
   "outputs": [
    {
     "data": {
      "text/plain": [
       "[[0, [2004.67, 1.0]],\n",
       " [0, [301.707, 1.0]],\n",
       " [0, [68.5611, 1.0]],\n",
       " [0, [18.9925, 1.0]],\n",
       " [0, [5.76941, 1.0]],\n",
       " [0, [0.916175, 1.0]],\n",
       " [0, [0.264783, 1.0]],\n",
       " [1, [14.9507, 1.0]],\n",
       " [1, [3.21784, 1.0]],\n",
       " [1, [0.87044, 1.0]],\n",
       " [1, [0.218852, 1.0]],\n",
       " [2, [0.948683, 1.0]]]"
      ]
     },
     "execution_count": 8,
     "metadata": {},
     "output_type": "execute_result"
    }
   ],
   "source": [
    "n_pcx1=gto.basis.load(bse.get_basis(\"pcX-1\",fmt=\"nwchem\",elements=[\"N\"]),\"N\")\n",
    "n_pcx1"
   ]
  },
  {
   "cell_type": "code",
   "execution_count": 9,
   "metadata": {},
   "outputs": [],
   "source": [
    "c_pcx1=gto.basis.load(bse.get_basis(\"pcX-1\",fmt=\"nwchem\",elements=[\"C\"]),\"C\")\n",
    "o_pcx1=gto.basis.load(bse.get_basis(\"pcX-1\",fmt=\"nwchem\",elements=[\"O\"]),\"O\")\n",
    "f_pcx1=gto.basis.load(bse.get_basis(\"pcX-1\",fmt=\"nwchem\",elements=[\"F\"]),\"F\")"
   ]
  },
  {
   "cell_type": "code",
   "execution_count": 10,
   "metadata": {},
   "outputs": [],
   "source": [
    "#n_pcx1,m_pcx1,c_pcx1"
   ]
  },
  {
   "cell_type": "code",
   "execution_count": 11,
   "metadata": {},
   "outputs": [],
   "source": [
    "m1=gto.M(atom=\"N 0 0 0; N 0 0 2.01\",unit=\"Bohrs\",basis={\"N\":n_pcx1})\n",
    "m2=gto.M(atom=\"N1 0 0 0; N2 0 0 2.01\",unit=\"Bohrs\",basis={\"N1\":c_pcx1,\"N2\":o_pcx1})"
   ]
  },
  {
   "cell_type": "code",
   "execution_count": 12,
   "metadata": {},
   "outputs": [
    {
     "name": "stdout",
     "output_type": "stream",
     "text": [
      "converged SCF energy = -108.917141764211\n",
      "converged SCF energy = -108.891229528654\n"
     ]
    },
    {
     "data": {
      "text/plain": [
       "-108.89122952865371"
      ]
     },
     "execution_count": 12,
     "metadata": {},
     "output_type": "execute_result"
    }
   ],
   "source": [
    "mf1=scf.RHF(m1)\n",
    "mf1.scf()\n",
    "mf2=scf.RHF(m2)\n",
    "mf2.scf()"
   ]
  },
  {
   "cell_type": "code",
   "execution_count": 224,
   "metadata": {},
   "outputs": [
    {
     "data": {
      "text/plain": [
       "24.37810945273632"
      ]
     },
     "execution_count": 224,
     "metadata": {},
     "output_type": "execute_result"
    }
   ],
   "source": []
  },
  {
   "cell_type": "code",
   "execution_count": 214,
   "metadata": {},
   "outputs": [],
   "source": [
    "def pcX(z,ref=None):\n",
    "    if z <1.e-10: raise Exception(\"non implemented Zero charge atom\")\n",
    "    if z%1 <1.e-10:\n",
    "        return gto.basis.load(bse.get_basis(\"pcX-1\",fmt=\"nwchem\",elements=[int(z)]),_symbol(int(z)))\n",
    "    elif ref:\n",
    "        rb=pcX(ref)\n",
    "        rbm=pcX(ref-1)\n",
    "        rbp=pcX(ref+1)\n",
    "        fb=copy.deepcopy(rb)\n",
    "        for i in range(len(fb)):  # ref+a(z-zr) +b(z-zr)^2\n",
    "            a=(rbp[i][1][0]-rbm[i][1][0])/2\n",
    "            b=(rbp[i][1][0]+rbm[i][1][0]-2*rb[i][1][0])\n",
    "            fb[i][1][0]+=a*(z-ref)+b*(z-ref)**2\n",
    "            #if z>ref:\n",
    "            #    fb[i][1][0]+=(rbp[i][1][0]-rb[i][1][0])*(z-ref)\n",
    "            #elif z<ref:\n",
    "            #    fb[i][1][0]+=(rbm[i][1][0]-rb[i][1][0])*(ref-z)\n",
    "       # zs=np.array([ref-1,ref,ref+1])\n",
    "       # zm=np.vstack([zs**2,zs,zs**0]).T\n",
    "       # zm_inv=np.linalg.inv(zm)\n",
    "       # fb=copy.deepcopy(rb)\n",
    "       # for i in range(len(fb)):\n",
    "       #     a,b,c=zm_inv@np.array([rbm[i][1][0],rb[i][1][0],rbp[i][1][0]])\n",
    "       #     fb[i][1][0]=a*z**2+b*z+c\n",
    "       #     print (a,b,c, a*6**2+b*6+c)\n",
    "\n",
    "        return fb\n",
    "    else: raise Exception(\"can't get the fractional charge basis set, frac val and no ref\")"
   ]
  },
  {
   "cell_type": "code",
   "execution_count": 185,
   "metadata": {},
   "outputs": [
    {
     "data": {
      "text/plain": [
       "([[0, [1526.8669999999997, 1.0]],\n",
       "  [0, [229.82427999999996, 1.0]],\n",
       "  [0, [52.219587999999995, 1.0]],\n",
       "  [0, [14.432537199999999, 1.0]],\n",
       "  [0, [4.3606396, 1.0]],\n",
       "  [0, [0.6778998399999998, 1.0]],\n",
       "  [0, [0.19834036, 1.0]],\n",
       "  [1, [11.343399999999999, 1.0]],\n",
       "  [1, [2.4146523999999996, 1.0]],\n",
       "  [1, [0.6562448199999998, 1.0]],\n",
       "  [1, [0.16868423999999996, 1.0]],\n",
       "  [2, [0.8585451799999999, 1.0]]],\n",
       " [[0, [1477.26, 1.0]],\n",
       "  [0, [222.361, 1.0]],\n",
       "  [0, [50.5229, 1.0]],\n",
       "  [0, [13.9594, 1.0]],\n",
       "  [0, [4.21475, 1.0]],\n",
       "  [0, [0.653345, 1.0]],\n",
       "  [0, [0.191501, 1.0]],\n",
       "  [1, [10.9571, 1.0]],\n",
       "  [1, [2.32904, 1.0]],\n",
       "  [1, [0.633257, 1.0]],\n",
       "  [1, [0.16315, 1.0]],\n",
       "  [2, [0.848528, 1.0]]])"
      ]
     },
     "execution_count": 185,
     "metadata": {},
     "output_type": "execute_result"
    }
   ],
   "source": [
    "pcX(6.1,ref=6),pcX(6,ref=6)"
   ]
  },
  {
   "cell_type": "code",
   "execution_count": 209,
   "metadata": {},
   "outputs": [
    {
     "data": {
      "image/png": "[encoded data removed]",
      "text/plain": [
       "<Figure size 432x288 with 1 Axes>"
      ]
     },
     "metadata": {
      "needs_background": "light"
     },
     "output_type": "display_data"
    }
   ],
   "source": [
    "x=np.linspace(7.9,8.1,20)\n",
    "for i in x:\n",
    "    plt.scatter(i,pcX(i,ref=8)[1][1][0],color=\"blue\")"
   ]
  },
  {
   "cell_type": "code",
   "execution_count": 244,
   "metadata": {},
   "outputs": [],
   "source": [
    "def E(l,zbs=True):\n",
    "    if zbs:\n",
    "        mol_l=FcM(fcs=[-l,l],atom=\"N1 0 0 0; N2 0 0 2.05\",unit=\"Bohrs\",basis={\"N1\":pcX(7-l,ref=7),\"N2\":pcX(7+l,ref=7)},verbose=1)\n",
    "    else:\n",
    "         mol_l=FcM(fcs=[-l,l],atom=\"N1 0 0 0; N2 0 0 2.05\",unit=\"Bohrs\",basis={\"N1\":pcX(7,ref=7),\"N2\":pcX(7,ref=7)},verbose=1)       \n",
    "    mf_l=scf.RHF(mol_l)\n",
    "    #mf_l.conv_tol=1e-12\n",
    "    #mf_l.conv_tol_grad=1e-12\n",
    "    e=mf_l.scf(dm0=mf_l.init_guess_by_1e())\n",
    "    return e"
   ]
  },
  {
   "cell_type": "code",
   "execution_count": 246,
   "metadata": {},
   "outputs": [
    {
     "data": {
      "text/plain": [
       "(-108.91659161652319, -108.95474861926033)"
      ]
     },
     "execution_count": 246,
     "metadata": {},
     "output_type": "execute_result"
    }
   ],
   "source": [
    "#help(scf)\n",
    "E(0),E(.1)"
   ]
  },
  {
   "cell_type": "code",
   "execution_count": 229,
   "metadata": {},
   "outputs": [],
   "source": [
    "eT_R=E(-1,zbs=False)"
   ]
  },
  {
   "cell_type": "code",
   "execution_count": 230,
   "metadata": {},
   "outputs": [
    {
     "name": "stdout",
     "output_type": "stream",
     "text": [
      "converged SCF energy = -112.716141826715\n",
      "converged SCF energy = -108.916591616523\n"
     ]
    }
   ],
   "source": [
    "e_co=scf.RHF(gto.M(atom=\"C 0 0 0; O 0 0 2.05\",unit=\"Bohrs\",basis=bse.get_basis(\"pcX-1\"\\\n",
    "                                                       ,fmt=\"nwchem\",elements=[\"C\",\"N\",\"O\"]))).scf()\n",
    "e_nn=scf.RHF(gto.M(atom=\"N 0 0 0; N 0 0 2.05\",unit=\"Bohrs\",basis=bse.get_basis(\"pcX-1\"\\\n",
    "                                                       ,fmt=\"nwchem\",elements=[\"C\",\"N\",\"O\"]))).scf()"
   ]
  },
  {
   "cell_type": "code",
   "execution_count": 231,
   "metadata": {},
   "outputs": [],
   "source": [
    "#5pts finite difference coefficients\n",
    "fd1=np.asarray([1/12,-2/3 ,0,2/3,-1/12])\n",
    "fd2=np.asarray([-1/12,4/3,-5/2,4/3,-1/12])\n",
    "fd3=np.asarray([-1/2,1,0,-1,1/2])\n",
    "fd4=np.asarray([1,-4,6,-4,1])\n",
    "fds=[fd1,fd2,fd3,fd4]\n",
    "fds5=get_coeffs(5)\n",
    "fds7=get_coeffs(7)"
   ]
  },
  {
   "cell_type": "code",
   "execution_count": 243,
   "metadata": {},
   "outputs": [
    {
     "data": {
      "text/plain": [
       "([-108.91659161652333,\n",
       "  -108.91659161652335,\n",
       "  72203.17895244727,\n",
       "  72203.17895244727,\n",
       "  -8192092.060926618,\n",
       "  -8192092.060926618,\n",
       "  227930629.07847518],\n",
       " -112.71614182671497,\n",
       " [-1.2212453270876722e-14,\n",
       "  72312.09554406379,\n",
       "  1.7763568394002499e-12,\n",
       "  -8264295.239879065,\n",
       "  4.736951571734e-11,\n",
       "  236122721.1394018])"
      ]
     },
     "execution_count": 243,
     "metadata": {},
     "output_type": "execute_result"
    }
   ],
   "source": [
    "dl=.05\n",
    "Es=np.asarray([E(-3*dl),E(-2*dl),E(-dl),e_nn,E(dl),E(2*dl),E(3*dl)])\n",
    "apdft=[e_nn]\n",
    "inc=[]\n",
    "for i in range(6):\n",
    "    inc.append(fds7[i+1].dot(np.asarray(Es))/dl**(i+1)/np.math.factorial(i+1))\n",
    "    apdft.append(apdft[i]+inc[-1] )\n",
    "apdft,e_co,inc"
   ]
  },
  {
   "cell_type": "code",
   "execution_count": 233,
   "metadata": {},
   "outputs": [
    {
     "data": {
      "text/plain": [
       "([-108.91659161652333,\n",
       "  -108.91659161652332,\n",
       "  66300.1109239622,\n",
       "  66300.1109239622,\n",
       "  -5246461.114712581],\n",
       " -112.71614182671497,\n",
       " [1.3322676295501878e-14, 66409.02751557872, 0.0, -5312761.225636543])"
      ]
     },
     "execution_count": 233,
     "metadata": {},
     "output_type": "execute_result"
    }
   ],
   "source": [
    "dl=.05\n",
    "Es=np.asarray([E(-2*dl),E(-dl),e_nn,E(dl),E(2*dl)])\n",
    "apdft=[e_nn]\n",
    "inc=[]\n",
    "for i in range(4):\n",
    "    inc.append(fds5[i+1].dot(np.asarray(Es))/dl**(i+1)/np.math.factorial(i+1))\n",
    "    apdft.append(apdft[i]+fds5[i+1].dot(np.asarray(Es))/dl**(i+1)/np.math.factorial(i+1) )\n",
    "apdft,e_co,inc"
   ]
  },
  {
   "cell_type": "code",
   "execution_count": 234,
   "metadata": {},
   "outputs": [
    {
     "data": {
      "text/plain": [
       "([-108.91659161652333,\n",
       "  -108.91659161652335,\n",
       "  72203.17895244727,\n",
       "  72203.17895244727,\n",
       "  -8192092.060926618,\n",
       "  -8192092.060926618,\n",
       "  227930629.07847518],\n",
       " 23.414634146341466,\n",
       " -112.71614182671497,\n",
       " [-1.2212453270876722e-14,\n",
       "  72312.09554406379,\n",
       "  1.7763568394002499e-12,\n",
       "  -8264295.239879065,\n",
       "  4.736951571734e-11,\n",
       "  236122721.1394018])"
      ]
     },
     "execution_count": 234,
     "metadata": {},
     "output_type": "execute_result"
    }
   ],
   "source": [
    "dl=.05\n",
    "Es=np.asarray([E(-3*dl,zbs=False),E(-2*dl,zbs=False),E(-dl,zbs=False),e_nn,E(dl,zbs=False),E(2*dl,zbs=False),E(3*dl,zbs=False)])\n",
    "apdft=[e_nn]\n",
    "inc=[]\n",
    "for i in range(6):\n",
    "    inc.append(fds7[i+1].dot(np.asarray(Es))/dl**(i+1)/np.math.factorial(i+1))\n",
    "    apdft.append(apdft[i]+fds7[i+1].dot(np.asarray(Es))/dl**(i+1)/np.math.factorial(i+1) )\n",
    "apdft,eT_R,e_co,inc"
   ]
  },
  {
   "cell_type": "code",
   "execution_count": 44,
   "metadata": {},
   "outputs": [
    {
     "data": {
      "text/plain": [
       "[2.3314683517128287e-12,\n",
       " -3.797558466036665,\n",
       " -2.0605739337042903e-10,\n",
       " 0.005169998900100835,\n",
       " 5.1159076974727205e-09,\n",
       " 7.163660282256182e-05]"
      ]
     },
     "execution_count": 44,
     "metadata": {},
     "output_type": "execute_result"
    }
   ],
   "source": [
    "inc"
   ]
  },
  {
   "cell_type": "code",
   "execution_count": 215,
   "metadata": {},
   "outputs": [
    {
     "data": {
      "image/png": "[encoded data removed]",
      "text/plain": [
       "<Figure size 432x288 with 1 Axes>"
      ]
     },
     "metadata": {
      "needs_background": "light"
     },
     "output_type": "display_data"
    }
   ],
   "source": [
    "ple=[]\n",
    "ple0=[]\n",
    "for i in np.linspace(-1,1,11):\n",
    "    ple.append(E(i))\n",
    "    ple0.append(E(i,zbs=False))\n",
    "plt.plot(ple)\n",
    "plt.plot(ple0)\n",
    "ple=np.array(ple)\n",
    "ple0=np.array(ple0)\n",
    "#plt.axhline(e_co)"
   ]
  },
  {
   "cell_type": "code",
   "execution_count": 216,
   "metadata": {},
   "outputs": [
    {
     "data": {
      "text/plain": [
       "[<matplotlib.lines.Line2D at 0x7f6fbd4ead30>]"
      ]
     },
     "execution_count": 216,
     "metadata": {},
     "output_type": "execute_result"
    },
    {
     "data": {
      "image/png": "[encoded data removed]",
      "text/plain": [
       "<Figure size 432x288 with 1 Axes>"
      ]
     },
     "metadata": {
      "needs_background": "light"
     },
     "output_type": "display_data"
    }
   ],
   "source": [
    "plt.plot(np.array(ple)-np.array(ple0))"
   ]
  },
  {
   "cell_type": "code",
   "execution_count": 217,
   "metadata": {},
   "outputs": [
    {
     "data": {
      "text/plain": [
       "array([-3.05141194e-02, -3.48776512e-11,  6.18055593e-02,  6.16785304e-11,\n",
       "       -5.79743974e-02, -3.04075641e-11,  3.66649170e-02,  3.01456198e-12,\n",
       "       -5.79434430e-02,  5.63714150e-13,  8.52936382e-14])"
      ]
     },
     "execution_count": 217,
     "metadata": {},
     "output_type": "execute_result"
    }
   ],
   "source": [
    "scipy.polyfit(np.linspace(-1,1,11),ple-ple0,10)"
   ]
  },
  {
   "cell_type": "code",
   "execution_count": 213,
   "metadata": {},
   "outputs": [
    {
     "data": {
      "text/plain": [
       "array([ 2.05255939e-01, -1.14725258e-11, -4.49372089e-01,  2.81323521e-11,\n",
       "        3.26619609e-01, -2.35342415e-11, -7.90565292e-02,  7.68433144e-12,\n",
       "       -3.80299714e+00, -7.46513325e-13, -1.08916592e+02])"
      ]
     },
     "execution_count": 213,
     "metadata": {},
     "output_type": "execute_result"
    }
   ],
   "source": [
    "scipy.polyfit(np.linspace(-1,1,11),ple,10)"
   ]
  },
  {
   "cell_type": "code",
   "execution_count": 201,
   "metadata": {},
   "outputs": [
    {
     "data": {
      "text/plain": [
       "array([-2.12205346e-03, -2.35923730e-11,  2.57663730e-02,  4.80104836e-11,\n",
       "       -4.37157372e-02, -3.06363212e-11,  4.24117327e-02,  6.57975531e-12,\n",
       "       -3.82189053e+00, -3.03628560e-13, -1.08916592e+02])"
      ]
     },
     "execution_count": 201,
     "metadata": {},
     "output_type": "execute_result"
    }
   ],
   "source": [
    "scipy.polyfit(np.linspace(-1,1,11),ple,10)"
   ]
  },
  {
   "cell_type": "code",
   "execution_count": 202,
   "metadata": {},
   "outputs": [
    {
     "data": {
      "text/plain": [
       "array([-3.76737339e-07,  2.36023318e-12, -2.93603540e-05, -4.34915388e-12,\n",
       "        8.18304717e-05,  2.48861888e-12,  6.52950134e-03, -3.55726480e-13,\n",
       "       -3.75817032e+00, -1.11866664e-13, -1.08916592e+02])"
      ]
     },
     "execution_count": 202,
     "metadata": {},
     "output_type": "execute_result"
    }
   ],
   "source": [
    "scipy.polyfit(np.linspace(-1,1,11),ple0,10)"
   ]
  },
  {
   "cell_type": "code",
   "execution_count": 190,
   "metadata": {},
   "outputs": [
    {
     "data": {
      "text/plain": [
       "[-2.1316282072803006e-12,\n",
       " -3.8161321307811127,\n",
       " 1.51582450295488e-10,\n",
       " 0.043185685664563295]"
      ]
     },
     "execution_count": 190,
     "metadata": {},
     "output_type": "execute_result"
    }
   ],
   "source": [
    "inc"
   ]
  },
  {
   "cell_type": "markdown",
   "metadata": {},
   "source": [
    "Conclusions: the basis set prolonngation works, though the series is harder to converge (at least in NN->CO case), therefore accuracy can't go that much below 50 mHa till 8th order !!! <br>\n",
    "Rieses the need for a better series expression other than McLaurin (polinomial) which is too much generic  "
   ]
  },
  {
   "cell_type": "code",
   "execution_count": null,
   "metadata": {},
   "outputs": [],
   "source": []
  }
 ],
 "metadata": {
  "kernelspec": {
   "display_name": "Python 3",
   "language": "python",
   "name": "python3"
  },
  "language_info": {
   "codemirror_mode": {
    "name": "ipython",
    "version": 3
   },
   "file_extension": ".py",
   "mimetype": "text/x-python",
   "name": "python",
   "nbconvert_exporter": "python",
   "pygments_lexer": "ipython3",
   "version": "3.7.3"
  }
 },
 "nbformat": 4,
 "nbformat_minor": 4
}
