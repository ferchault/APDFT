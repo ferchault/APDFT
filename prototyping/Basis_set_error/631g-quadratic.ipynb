{
 "cells": [
  {
   "cell_type": "code",
   "execution_count": 1,
   "metadata": {},
   "outputs": [],
   "source": [
    "import basis_set_exchange as bse\n",
    "import scipy as sp\n",
    "import matplotlib.pyplot as plt\n",
    "from pyscf import gto,scf\n",
    "import copy\n",
    "import numpy as np\n",
    "import scipy\n",
    "from scipy.interpolate import interp1d\n",
    "from pyscf.data.elements import _symbol\n",
    "from numpy.linalg import norm"
   ]
  },
  {
   "cell_type": "code",
   "execution_count": 2,
   "metadata": {},
   "outputs": [],
   "source": [
    "import sys\n",
    "sys.path.append(\"./Libs\")\n",
    "from FcMole import FcM\n",
    "from FDcoeffs import get_coeffs"
   ]
  },
  {
   "cell_type": "code",
   "execution_count": 3,
   "metadata": {},
   "outputs": [
    {
     "data": {
      "text/plain": [
       "([[0,\n",
       "   [4173.51146, 0.00183477216],\n",
       "   [627.457911, 0.013994627],\n",
       "   [142.902093, 0.06858655181],\n",
       "   [40.2343293, 0.232240873],\n",
       "   [12.8202129, 0.4690699481],\n",
       "   [4.39043701, 0.3604551991]],\n",
       "  [0,\n",
       "   [11.62636186, -0.1149611817],\n",
       "   [2.716279807, -0.1691174786],\n",
       "   [0.7722183966, 1.145851947]],\n",
       "  [0, [0.2120314975, 1.0]],\n",
       "  [1,\n",
       "   [11.62636186, 0.06757974388],\n",
       "   [2.716279807, 0.3239072959],\n",
       "   [0.7722183966, 0.7408951398]],\n",
       "  [1, [0.2120314975, 1.0]]],\n",
       " '*******************',\n",
       " [[0,\n",
       "   [3047.52488, 0.001834737132],\n",
       "   [457.369518, 0.01403732281],\n",
       "   [103.948685, 0.06884262226],\n",
       "   [29.2101553, 0.2321844432],\n",
       "   [9.28666296, 0.4679413484],\n",
       "   [3.16392696, 0.3623119853]],\n",
       "  [0,\n",
       "   [7.86827235, -0.1193324198],\n",
       "   [1.88128854, -0.1608541517],\n",
       "   [0.544249258, 1.143456438]],\n",
       "  [0, [0.1687144782, 1.0]],\n",
       "  [1,\n",
       "   [7.86827235, 0.06899906659],\n",
       "   [1.88128854, 0.316423961],\n",
       "   [0.544249258, 0.7443082909]],\n",
       "  [1, [0.1687144782, 1.0]]])"
      ]
     },
     "execution_count": 3,
     "metadata": {},
     "output_type": "execute_result"
    }
   ],
   "source": [
    "n_321g=gto.basis.load(bse.get_basis(\"6-31G\",fmt=\"nwchem\",elements=[\"N\"]),\"N\")\n",
    "c_321g=gto.basis.load(bse.get_basis(\"6-31G\",fmt=\"nwchem\",elements=[\"C\"]),\"C\")\n",
    "n_321g,\"*******************\",c_321g"
   ]
  },
  {
   "cell_type": "markdown",
   "metadata": {},
   "source": [
    "Per gli orbitali \"s\" vale la formula $<g_ig_j>=c_i^2+c_j^2+c_ic_j*(2\\sqrt{a_ia_j}/(a_i+a_j))^{3/2}$"
   ]
  },
  {
   "cell_type": "code",
   "execution_count": 4,
   "metadata": {},
   "outputs": [
    {
     "data": {
      "text/plain": [
       "1.0000000003075527"
      ]
     },
     "execution_count": 4,
     "metadata": {},
     "output_type": "execute_result"
    }
   ],
   "source": [
    "0.4133000774**2+ 1.224417267**2 -2*0.4133000774*1.224417267*(2*(5.42522*1.14915)**.5/(5.42522+1.14915))**(3/2)"
   ]
  },
  {
   "cell_type": "code",
   "execution_count": 5,
   "metadata": {},
   "outputs": [
    {
     "data": {
      "text/plain": [
       "1.000000000624618"
      ]
     },
     "execution_count": 5,
     "metadata": {},
     "output_type": "execute_result"
    }
   ],
   "source": [
    "1.215834356**2+0.3958951621**2 -2*1.215834356*0.3958951621*(2*(3.66498*0.770545)**.5/(3.66498+0.770545))**(3/2)"
   ]
  },
  {
   "cell_type": "markdown",
   "metadata": {},
   "source": [
    "Per gli orbitali \"p\" vale la formula $<g_ig_j>=c_i^2+c_j^2+c_ic_j*(2\\sqrt{a_ia_j}/(a_i+a_j))^{5/2}$"
   ]
  },
  {
   "cell_type": "code",
   "execution_count": 6,
   "metadata": {},
   "outputs": [
    {
     "data": {
      "text/plain": [
       "0.999999999942027"
      ]
     },
     "execution_count": 6,
     "metadata": {},
     "output_type": "execute_result"
    }
   ],
   "source": [
    "0.2364599466**2+0.8606188057**2 +2*0.2364599466*0.8606188057*(2*(3.66498*0.770545)**.5/(3.66498+0.770545))**(5/2)"
   ]
  },
  {
   "cell_type": "code",
   "execution_count": null,
   "metadata": {},
   "outputs": [],
   "source": []
  },
  {
   "cell_type": "code",
   "execution_count": 7,
   "metadata": {},
   "outputs": [],
   "source": [
    "c_321=gto.basis.load(bse.get_basis(\"6-31G\",fmt=\"nwchem\",elements=[\"C\"]),\"C\")\n",
    "o_321=gto.basis.load(bse.get_basis(\"6-31G\",fmt=\"nwchem\",elements=[\"O\"]),\"O\")\n",
    "f_321=gto.basis.load(bse.get_basis(\"6-31G\",fmt=\"nwchem\",elements=[\"F\"]),\"F\")"
   ]
  },
  {
   "cell_type": "code",
   "execution_count": 8,
   "metadata": {},
   "outputs": [
    {
     "data": {
      "text/plain": [
       "[[0,\n",
       "  [7001.71309, 0.001819616901],\n",
       "  [1051.36609, 0.01391607961],\n",
       "  [239.28569, 0.06840532453],\n",
       "  [67.3974453, 0.2331857601],\n",
       "  [21.5199573, 0.4712674392],\n",
       "  [7.4031013, 0.3566185462]],\n",
       " [0,\n",
       "  [20.8479528, -0.1085069751],\n",
       "  [4.80830834, -0.1464516581],\n",
       "  [1.34406986, 1.128688581]],\n",
       " [0, [0.358151393, 1.0]],\n",
       " [1,\n",
       "  [20.8479528, 0.07162872424],\n",
       "  [4.80830834, 0.3459121027],\n",
       "  [1.34406986, 0.7224699564]],\n",
       " [1, [0.358151393, 1.0]]]"
      ]
     },
     "execution_count": 8,
     "metadata": {},
     "output_type": "execute_result"
    }
   ],
   "source": [
    "f_321"
   ]
  },
  {
   "cell_type": "code",
   "execution_count": 9,
   "metadata": {},
   "outputs": [],
   "source": [
    "def g321(z,ref=None):\n",
    "    if z <1.e-10: raise Exception(\"non implemented Zero charge atom\")\n",
    "    if z%1 <1.e-10:\n",
    "        return gto.basis.load(bse.get_basis(\"6-31G\",fmt=\"nwchem\",elements=[int(z)]),_symbol(int(z)))\n",
    "    elif ref:\n",
    "        rb=g321(ref)\n",
    "        rbm=g321(ref-1)\n",
    "        rbp=g321(ref+1)\n",
    "        fb=copy.deepcopy(rb)\n",
    "        for i in range(len(fb)):  \n",
    "            for j in range(1,len(fb[i])):\n",
    "                a=(rbp[i][j][0]-rbm[i][j][0])/2\n",
    "                b=(rbp[i][j][0]+rbm[i][j][0]-2*rb[i][j][0])\n",
    "                fb[i][j][0]+=a*(z-ref)+b*(z-ref)**2\n",
    "                a=(rbp[i][j][1]-rbm[i][j][1])/2\n",
    "                b=(rbp[i][j][1]+rbm[i][j][1]-2*rb[i][j][1])\n",
    "                fb[i][j][1]+=a*(z-ref)+b*(z-ref)**2\n",
    "        return fb\n",
    "    else: raise Exception(\"can't get the fractional charge basis set, frac val and no ref\")"
   ]
  },
  {
   "cell_type": "code",
   "execution_count": 10,
   "metadata": {},
   "outputs": [
    {
     "data": {
      "text/plain": [
       "([[0,\n",
       "   [3047.52488, 0.001834737132],\n",
       "   [457.369518, 0.01403732281],\n",
       "   [103.948685, 0.06884262226],\n",
       "   [29.2101553, 0.2321844432],\n",
       "   [9.28666296, 0.4679413484],\n",
       "   [3.16392696, 0.3623119853]],\n",
       "  [0,\n",
       "   [7.86827235, -0.1193324198],\n",
       "   [1.88128854, -0.1608541517],\n",
       "   [0.544249258, 1.143456438]],\n",
       "  [0, [0.1687144782, 1.0]],\n",
       "  [1,\n",
       "   [7.86827235, 0.06899906659],\n",
       "   [1.88128854, 0.316423961],\n",
       "   [0.544249258, 0.7443082909]],\n",
       "  [1, [0.1687144782, 1.0]]],\n",
       " [[0,\n",
       "   [3610.51817, 0.001834754646],\n",
       "   [542.4137145, 0.014015974905],\n",
       "   [123.425389, 0.068714587035],\n",
       "   [34.7222423, 0.2322126581],\n",
       "   [11.05343793, 0.46850564825],\n",
       "   [3.7771819850000004, 0.3613835922]],\n",
       "  [0,\n",
       "   [9.747317104999999, -0.11714680075],\n",
       "   [2.2987841734999996, -0.16498581515],\n",
       "   [0.6582338273, 1.1446541925]],\n",
       "  [0, [0.19037298785, 1.0]],\n",
       "  [1,\n",
       "   [9.747317104999999, 0.068289405235],\n",
       "   [2.2987841734999996, 0.32016562844999996],\n",
       "   [0.6582338273, 0.74260171535]],\n",
       "  [1, [0.19037298785, 1.0]]],\n",
       " [[0,\n",
       "   [4173.51146, 0.00183477216],\n",
       "   [627.457911, 0.013994627],\n",
       "   [142.902093, 0.06858655181],\n",
       "   [40.2343293, 0.232240873],\n",
       "   [12.8202129, 0.4690699481],\n",
       "   [4.39043701, 0.3604551991]],\n",
       "  [0,\n",
       "   [11.62636186, -0.1149611817],\n",
       "   [2.716279807, -0.1691174786],\n",
       "   [0.7722183966, 1.145851947]],\n",
       "  [0, [0.2120314975, 1.0]],\n",
       "  [1,\n",
       "   [11.62636186, 0.06757974388],\n",
       "   [2.716279807, 0.3239072959],\n",
       "   [0.7722183966, 0.7408951398]],\n",
       "  [1, [0.2120314975, 1.0]]])"
      ]
     },
     "execution_count": 10,
     "metadata": {},
     "output_type": "execute_result"
    }
   ],
   "source": [
    "g321(6,ref=6),g321(6.5,ref=6),g321(7,ref=6)"
   ]
  },
  {
   "cell_type": "code",
   "execution_count": 11,
   "metadata": {},
   "outputs": [],
   "source": [
    "def E(l,zbs=True):\n",
    "    if zbs:\n",
    "        mol_l=FcM(fcs=[-l,l],atom=\"N1 0 0 0; N2 0 0 2.05\",unit=\"Bohrs\",basis={\"N1\":g321(7-l,ref=7),\"N2\":g321(7+l,ref=7)},verbose=1)\n",
    "    else:\n",
    "         mol_l=FcM(fcs=[-l,l],atom=\"N1 0 0 0; N2 0 0 2.05\",unit=\"Bohrs\",basis={\"N1\":g321(7,ref=7),\"N2\":g321(7,ref=7)},verbose=1)       \n",
    "    mf_l=scf.RHF(mol_l)\n",
    "    #mf_l.conv_tol=1e-12\n",
    "    #mf_l.conv_tol_grad=1e-12\n",
    "    e=mf_l.scf(dm0=mf_l.init_guess_by_1e())\n",
    "    return e"
   ]
  },
  {
   "cell_type": "code",
   "execution_count": 12,
   "metadata": {},
   "outputs": [
    {
     "data": {
      "image/png": "[encoded data removed]",
      "text/plain": [
       "<Figure size 432x288 with 1 Axes>"
      ]
     },
     "metadata": {
      "needs_background": "light"
     },
     "output_type": "display_data"
    }
   ],
   "source": [
    "for i in np.linspace(0,1,11):\n",
    "    plt.scatter(i,E(i),color=\"blue\")"
   ]
  },
  {
   "cell_type": "code",
   "execution_count": 13,
   "metadata": {},
   "outputs": [],
   "source": [
    "eT_R=E(-1,zbs=False)"
   ]
  },
  {
   "cell_type": "code",
   "execution_count": 14,
   "metadata": {},
   "outputs": [
    {
     "name": "stdout",
     "output_type": "stream",
     "text": [
      "converged SCF energy = -112.661562568708\n",
      "converged SCF energy = -108.867942022953\n"
     ]
    }
   ],
   "source": [
    "e_co=scf.RHF(gto.M(atom=\"C 0 0 0; O 0 0 2.05\",unit=\"Bohrs\",basis=bse.get_basis(\"6-31G\"\\\n",
    "                                                       ,fmt=\"nwchem\",elements=[\"C\",\"N\",\"O\"]))).scf()\n",
    "e_nn=scf.RHF(gto.M(atom=\"N 0 0 0; N 0 0 2.05\",unit=\"Bohrs\",basis=bse.get_basis(\"6-31G\"\\\n",
    "                                                       ,fmt=\"nwchem\",elements=[\"C\",\"N\",\"O\"]))).scf()"
   ]
  },
  {
   "cell_type": "code",
   "execution_count": 15,
   "metadata": {},
   "outputs": [],
   "source": [
    "#5pts finite difference coefficients\n",
    "fd1=np.asarray([1/12,-2/3 ,0,2/3,-1/12])\n",
    "fd2=np.asarray([-1/12,4/3,-5/2,4/3,-1/12])\n",
    "fd3=np.asarray([-1/2,1,0,-1,1/2])\n",
    "fd4=np.asarray([1,-4,6,-4,1])\n",
    "fds=[fd1,fd2,fd3,fd4]\n",
    "fds5=get_coeffs(5)\n",
    "fds7=get_coeffs(7)"
   ]
  },
  {
   "cell_type": "code",
   "execution_count": 31,
   "metadata": {},
   "outputs": [
    {
     "data": {
      "text/plain": [
       "([-108.86794202295306,\n",
       "  -108.86794202295178,\n",
       "  -112.67309394419593,\n",
       "  -112.67309394425602,\n",
       "  -112.64355278556049,\n",
       "  -112.64355278504534,\n",
       "  -112.66227068411803],\n",
       " -112.66156256870833,\n",
       " [1.2723155862204294e-12,\n",
       "  -3.8051519212441534,\n",
       "  -6.010007306637512e-11,\n",
       "  0.029541158695541483,\n",
       "  5.151434834260725e-10,\n",
       "  -0.018717899072681923])"
      ]
     },
     "execution_count": 31,
     "metadata": {},
     "output_type": "execute_result"
    }
   ],
   "source": [
    "dl=.1\n",
    "Es=np.asarray([E(-3*dl),E(-2*dl),E(-dl),e_nn,E(dl),E(2*dl),E(3*dl)])\n",
    "apdft=[e_nn]\n",
    "inc=[]\n",
    "for i in range(6):\n",
    "    inc.append(fds7[i+1].dot(np.asarray(Es))/dl**(i+1)/np.math.factorial(i+1))\n",
    "    apdft.append(apdft[i]+inc[-1] )\n",
    "apdft,e_co,inc"
   ]
  },
  {
   "cell_type": "code",
   "execution_count": 17,
   "metadata": {},
   "outputs": [
    {
     "data": {
      "text/plain": [
       "([-108.86794202295306,\n",
       "  -108.86794202295356,\n",
       "  -112.67308645703551,\n",
       "  -112.67308645702603,\n",
       "  -112.64448119344004],\n",
       " -112.66156256870833,\n",
       " [-4.973799150320701e-13,\n",
       "  -3.805144434081952,\n",
       "  9.473903143468e-12,\n",
       "  0.02860526358598273])"
      ]
     },
     "execution_count": 17,
     "metadata": {},
     "output_type": "execute_result"
    }
   ],
   "source": [
    "dl=.1\n",
    "Es=np.asarray([E(-2*dl),E(-dl),e_nn,E(dl),E(2*dl)])\n",
    "apdft=[e_nn]\n",
    "inc=[]\n",
    "for i in range(4):\n",
    "    inc.append(fds5[i+1].dot(np.asarray(Es))/dl**(i+1)/np.math.factorial(i+1))\n",
    "    apdft.append(apdft[i]+fds5[i+1].dot(np.asarray(Es))/dl**(i+1)/np.math.factorial(i+1) )\n",
    "apdft,e_co,inc"
   ]
  },
  {
   "cell_type": "code",
   "execution_count": 18,
   "metadata": {},
   "outputs": [
    {
     "data": {
      "text/plain": [
       "([-108.86794202295306,\n",
       "  -108.86794202295361,\n",
       "  -110.77224891304294,\n",
       "  -110.77224891322058,\n",
       "  -110.7967124657554,\n",
       "  -110.79671245760785,\n",
       "  -110.79950872559539],\n",
       " -110.79939201680024,\n",
       " -112.66156256870833,\n",
       " [-5.551115123125783e-13,\n",
       "  -1.9043068900893352,\n",
       "  -1.7763568394002502e-10,\n",
       "  -0.02446355253482579,\n",
       "  8.147556703382481e-09,\n",
       "  -0.002796267987529668])"
      ]
     },
     "execution_count": 18,
     "metadata": {},
     "output_type": "execute_result"
    }
   ],
   "source": [
    "dl=.05\n",
    "Es=np.asarray([E(-3*dl,zbs=False),E(-2*dl,zbs=False),E(-dl,zbs=False),e_nn,E(dl,zbs=False),E(2*dl,zbs=False),E(3*dl,zbs=False)])\n",
    "apdft=[e_nn]\n",
    "inc=[]\n",
    "for i in range(6):\n",
    "    inc.append(fds7[i+1].dot(np.asarray(Es))/dl**(i+1)/np.math.factorial(i+1))\n",
    "    apdft.append(apdft[i]+fds7[i+1].dot(np.asarray(Es))/dl**(i+1)/np.math.factorial(i+1) )\n",
    "apdft,eT_R,e_co,inc"
   ]
  },
  {
   "cell_type": "code",
   "execution_count": 23,
   "metadata": {},
   "outputs": [],
   "source": [
    "def E_cn(l):\n",
    "    mol_l=FcM(fcs=[-l,0],atom=\"N1 0 0 0; N2 0 0 2.05\",unit=\"Bohrs\",basis={\"N1\":g321(7-l,ref=7),\"N2\":g321(7)},verbose=1)\n",
    "    mf_l=scf.RHF(mol_l)\n",
    "    #mf_l.conv_tol=1e-12\n",
    "    #mf_l.conv_tol_grad=1e-12\n",
    "    e=mf_l.scf(dm0=mf_l.init_guess_by_1e())\n",
    "    return e"
   ]
  },
  {
   "cell_type": "code",
   "execution_count": 22,
   "metadata": {},
   "outputs": [
    {
     "name": "stdout",
     "output_type": "stream",
     "text": [
      "converged SCF energy = -92.2174104946118\n"
     ]
    }
   ],
   "source": [
    "mf_cn=scf.RHF(gto.M(atom=\"C 0 0 0; N 0 0 2.05\",unit=\"Bohrs\",basis=bse.get_basis(\"6-31G\"\\\n",
    "                                                       ,fmt=\"nwchem\",elements=[\"C\",\"N\",\"O\"]),charge=-1))\n",
    "e_cn=mf_cn.scf()"
   ]
  },
  {
   "cell_type": "code",
   "execution_count": 25,
   "metadata": {},
   "outputs": [
    {
     "data": {
      "text/plain": [
       "(array([-108.86794202,  -90.62570208,  -92.26553671,  -92.21458159,\n",
       "         -92.20807365,  -92.20731339,  -92.20740681]),\n",
       " -92.21741049461178,\n",
       " array([-1.66505315e+01,  1.59170842e+00, -4.81262194e-02,  2.82890285e-03,\n",
       "         9.33684609e-03,  1.00971002e-02,  1.00036799e-02]))"
      ]
     },
     "execution_count": 25,
     "metadata": {},
     "output_type": "execute_result"
    }
   ],
   "source": [
    "dl=.1\n",
    "Es=np.asarray([E_cn(-3*dl),E_cn(-2*dl),E_cn(-dl),e_nn,E_cn(dl),E_cn(2*dl),E_cn(3*dl)])\n",
    "apdft=[e_nn]\n",
    "inc=[]\n",
    "for i in range(6):\n",
    "    inc.append(np.einsum('i,i',fds7[i+1],Es)/dl**(i+1)/np.math.factorial(i+1))\n",
    "    apdft.append(apdft[i]+inc[-1] )\n",
    "apdft=np.asarray(apdft)\n",
    "apdft,e_cn,apdft-e_cn"
   ]
  },
  {
   "cell_type": "code",
   "execution_count": 26,
   "metadata": {},
   "outputs": [],
   "source": [
    "#check if basis are orthonormal"
   ]
  },
  {
   "cell_type": "code",
   "execution_count": 27,
   "metadata": {},
   "outputs": [],
   "source": [
    "def S(l,zbs=True):\n",
    "    if zbs:\n",
    "        mol_l=FcM(fcs=[-l,l],atom=\"N1 0 0 0; N2 0 0 2.05\",unit=\"Bohrs\",basis={\"N1\":g321(7-l,ref=7),\"N2\":g321(7+l,ref=7)},verbose=1)\n",
    "    else:\n",
    "         mol_l=FcM(fcs=[-l,l],atom=\"N1 0 0 0; N2 0 0 2.05\",unit=\"Bohrs\",basis={\"N1\":g321(7,ref=7),\"N2\":g321(7,ref=7)},verbose=1)       \n",
    "    mf_l=scf.RHF(mol_l)\n",
    "    #mf_l.conv_tol=1e-12\n",
    "    #mf_l.conv_tol_grad=1e-12\n",
    "    #e=mf_l.scf(dm0=mf_l.init_guess_by_1e())\n",
    "    return mf_l.get_ovlp()"
   ]
  },
  {
   "cell_type": "code",
   "execution_count": 28,
   "metadata": {},
   "outputs": [
    {
     "name": "stdout",
     "output_type": "stream",
     "text": [
      "[1. 1. 1. 1. 1. 1. 1. 1. 1. 1. 1. 1. 1. 1. 1. 1. 1. 1.]\n",
      "[1. 1. 1. 1. 1. 1. 1. 1. 1. 1. 1. 1. 1. 1. 1. 1. 1. 1.]\n",
      "[1. 1. 1. 1. 1. 1. 1. 1. 1. 1. 1. 1. 1. 1. 1. 1. 1. 1.]\n",
      "[1. 1. 1. 1. 1. 1. 1. 1. 1. 1. 1. 1. 1. 1. 1. 1. 1. 1.]\n",
      "[1. 1. 1. 1. 1. 1. 1. 1. 1. 1. 1. 1. 1. 1. 1. 1. 1. 1.]\n",
      "[1. 1. 1. 1. 1. 1. 1. 1. 1. 1. 1. 1. 1. 1. 1. 1. 1. 1.]\n",
      "[1. 1. 1. 1. 1. 1. 1. 1. 1. 1. 1. 1. 1. 1. 1. 1. 1. 1.]\n"
     ]
    }
   ],
   "source": [
    "for i in np.linspace(0,1,7):\n",
    "    print(S(i).diagonal())  #automatic normalization"
   ]
  },
  {
   "cell_type": "code",
   "execution_count": 55,
   "metadata": {},
   "outputs": [
    {
     "data": {
      "text/plain": [
       "(<matplotlib.image.AxesImage at 0x7f7e3cdeb278>,\n",
       " <matplotlib.image.AxesImage at 0x7f7e3cbaf2e8>)"
      ]
     },
     "execution_count": 55,
     "metadata": {},
     "output_type": "execute_result"
    },
    {
     "data": {
      "image/png": "[encoded data removed]",
      "text/plain": [
       "<Figure size 288x288 with 1 Axes>"
      ]
     },
     "metadata": {
      "needs_background": "light"
     },
     "output_type": "display_data"
    },
    {
     "data": {
      "image/png": "[encoded data removed]",
      "text/plain": [
       "<Figure size 288x288 with 1 Axes>"
      ]
     },
     "metadata": {
      "needs_background": "light"
     },
     "output_type": "display_data"
    }
   ],
   "source": [
    "plt.matshow(S(0)),plt.matshow(S(.5))"
   ]
  },
  {
   "cell_type": "code",
   "execution_count": null,
   "metadata": {},
   "outputs": [],
   "source": []
  }
 ],
 "metadata": {
  "kernelspec": {
   "display_name": "Python 3",
   "language": "python",
   "name": "python3"
  },
  "language_info": {
   "codemirror_mode": {
    "name": "ipython",
    "version": 3
   },
   "file_extension": ".py",
   "mimetype": "text/x-python",
   "name": "python",
   "nbconvert_exporter": "python",
   "pygments_lexer": "ipython3",
   "version": "3.7.3"
  }
 },
 "nbformat": 4,
 "nbformat_minor": 4
}
