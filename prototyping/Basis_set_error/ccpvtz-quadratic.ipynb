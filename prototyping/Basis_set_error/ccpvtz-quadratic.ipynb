{
 "cells": [
  {
   "cell_type": "code",
   "execution_count": 1,
   "metadata": {},
   "outputs": [],
   "source": [
    "import basis_set_exchange as bse\n",
    "import scipy as sp\n",
    "import matplotlib.pyplot as plt\n",
    "from pyscf import gto,scf\n",
    "import copy\n",
    "import numpy as np\n",
    "import scipy\n",
    "from scipy.interpolate import interp1d\n",
    "from pyscf.data.elements import _symbol\n",
    "from numpy.linalg import norm"
   ]
  },
  {
   "cell_type": "code",
   "execution_count": 2,
   "metadata": {},
   "outputs": [],
   "source": [
    "import sys\n",
    "sys.path.append(\"./Libs\")\n",
    "from FcMole import FcM\n",
    "from FDcoeffs import get_coeffs"
   ]
  },
  {
   "cell_type": "code",
   "execution_count": 4,
   "metadata": {},
   "outputs": [
    {
     "data": {
      "text/plain": [
       "([[0,\n",
       "   [11420.0, 0.000523, -0.000115, 0.0, 0.0],\n",
       "   [1712.0, 0.004045, -0.000895, 0.0, 0.0],\n",
       "   [389.3, 0.020775, -0.004624, 0.0, 0.0],\n",
       "   [110.0, 0.080727, -0.018528, 0.0, 0.0],\n",
       "   [35.57, 0.233074, -0.057339, 0.0, 0.0],\n",
       "   [12.54, 0.433501, -0.132076, 0.0, 0.0],\n",
       "   [4.644, 0.347472, -0.17251, 0.0, 0.0],\n",
       "   [1.293, 0.041262, 0.151814, 1.0, 0.0],\n",
       "   [0.5118, -0.008508, 0.599944, 0.0, 0.0],\n",
       "   [0.1787, 0.002384, 0.387462, 0.0, 1.0]],\n",
       "  [1,\n",
       "   [26.63, 0.01467, 0.0, 0.0],\n",
       "   [5.948, 0.091764, 0.0, 0.0],\n",
       "   [1.742, 0.298683, 0.0, 0.0],\n",
       "   [0.555, 0.498487, 1.0, 0.0],\n",
       "   [0.1725, 0.337023, 0.0, 1.0]],\n",
       "  [2, [1.654, 1.0, 0.0], [0.469, 0.0, 1.0]],\n",
       "  [3, [1.093, 1.0]]],\n",
       " '*******************',\n",
       " [[0,\n",
       "   [8236.0, 0.000531, -0.000113, 0.0, 0.0],\n",
       "   [1235.0, 0.004108, -0.000878, 0.0, 0.0],\n",
       "   [280.8, 0.021087, -0.00454, 0.0, 0.0],\n",
       "   [79.27, 0.081853, -0.018133, 0.0, 0.0],\n",
       "   [25.59, 0.234817, -0.05576, 0.0, 0.0],\n",
       "   [8.997, 0.434401, -0.126895, 0.0, 0.0],\n",
       "   [3.319, 0.346129, -0.170352, 0.0, 0.0],\n",
       "   [0.9059, 0.039378, 0.140382, 1.0, 0.0],\n",
       "   [0.3643, -0.008983, 0.598684, 0.0, 0.0],\n",
       "   [0.1285, 0.002385, 0.395389, 0.0, 1.0]],\n",
       "  [1,\n",
       "   [18.71, 0.014031, 0.0, 0.0],\n",
       "   [4.133, 0.086866, 0.0, 0.0],\n",
       "   [1.2, 0.290216, 0.0, 0.0],\n",
       "   [0.3827, 0.501008, 1.0, 0.0],\n",
       "   [0.1209, 0.343406, 0.0, 1.0]],\n",
       "  [2, [1.097, 1.0, 0.0], [0.318, 0.0, 1.0]],\n",
       "  [3, [0.761, 1.0]]])"
      ]
     },
     "execution_count": 4,
     "metadata": {},
     "output_type": "execute_result"
    }
   ],
   "source": [
    "n_321g=gto.basis.load(bse.get_basis(\"cc-pvtz\",fmt=\"nwchem\",elements=[\"N\"]),\"N\")\n",
    "c_321g=gto.basis.load(bse.get_basis(\"cc-pvtz\",fmt=\"nwchem\",elements=[\"C\"]),\"C\")\n",
    "n_321g,\"*******************\",c_321g"
   ]
  },
  {
   "cell_type": "code",
   "execution_count": 5,
   "metadata": {},
   "outputs": [],
   "source": [
    "def g321(z,ref=None):\n",
    "    if z <1.e-10: raise Exception(\"non implemented Zero charge atom\")\n",
    "    if z%1 <1.e-10:\n",
    "        return gto.basis.load(bse.get_basis(\"cc-pvtz\",fmt=\"nwchem\",elements=[int(z)]),_symbol(int(z)))\n",
    "    elif ref:\n",
    "        rb=g321(ref)\n",
    "        rbm=g321(ref-1)\n",
    "        rbp=g321(ref+1)\n",
    "        fb=copy.deepcopy(rb)\n",
    "        for i in range(len(fb)):  \n",
    "            for j in range(1,len(fb[i])):\n",
    "                for k in range(len(fb[i][j])):\n",
    "                    a=(rbp[i][j][k]-rbm[i][j][k])/2\n",
    "                    b=(rbp[i][j][k]+rbm[i][j][k]-2*rb[i][j][k])\n",
    "                    fb[i][j][k]+=a*(z-ref)+b*(z-ref)**2\n",
    "        return fb\n",
    "    else: raise Exception(\"can't get the fractional charge basis set, frac val and no ref\")"
   ]
  },
  {
   "cell_type": "code",
   "execution_count": 6,
   "metadata": {},
   "outputs": [
    {
     "data": {
      "text/plain": [
       "([[0,\n",
       "   [8236.0, 0.000531, -0.000113, 0.0, 0.0],\n",
       "   [1235.0, 0.004108, -0.000878, 0.0, 0.0],\n",
       "   [280.8, 0.021087, -0.00454, 0.0, 0.0],\n",
       "   [79.27, 0.081853, -0.018133, 0.0, 0.0],\n",
       "   [25.59, 0.234817, -0.05576, 0.0, 0.0],\n",
       "   [8.997, 0.434401, -0.126895, 0.0, 0.0],\n",
       "   [3.319, 0.346129, -0.170352, 0.0, 0.0],\n",
       "   [0.9059, 0.039378, 0.140382, 1.0, 0.0],\n",
       "   [0.3643, -0.008983, 0.598684, 0.0, 0.0],\n",
       "   [0.1285, 0.002385, 0.395389, 0.0, 1.0]],\n",
       "  [1,\n",
       "   [18.71, 0.014031, 0.0, 0.0],\n",
       "   [4.133, 0.086866, 0.0, 0.0],\n",
       "   [1.2, 0.290216, 0.0, 0.0],\n",
       "   [0.3827, 0.501008, 1.0, 0.0],\n",
       "   [0.1209, 0.343406, 0.0, 1.0]],\n",
       "  [2, [1.097, 1.0, 0.0], [0.318, 0.0, 1.0]],\n",
       "  [3, [0.761, 1.0]]],\n",
       " '**********',\n",
       " [[0,\n",
       "   [9828.0, 0.000527, -0.00011399999999999999, 0.0, 0.0],\n",
       "   [1473.5, 0.0040765, -0.0008864999999999999, 0.0, 0.0],\n",
       "   [335.05, 0.020930999999999998, -0.004581999999999999, 0.0, 0.0],\n",
       "   [94.63499999999999, 0.08128999999999999, -0.0183305, 0.0, 0.0],\n",
       "   [30.58, 0.2339455, -0.056549499999999996, 0.0, 0.0],\n",
       "   [10.7685, 0.433951, -0.1294855, 0.0, 0.0],\n",
       "   [3.9815, 0.3468005, -0.171431, 0.0, 0.0],\n",
       "   [1.09945, 0.04032, 0.146098, 1.0, 0.0],\n",
       "   [0.43805000000000005, -0.0087455, 0.599314, 0.0, 0.0],\n",
       "   [0.1536, 0.0023845, 0.3914255, 0.0, 1.0]],\n",
       "  [1,\n",
       "   [22.67, 0.0143505, 0.0, 0.0],\n",
       "   [5.0405, 0.08931499999999999, 0.0, 0.0],\n",
       "   [1.471, 0.2944495, 0.0, 0.0],\n",
       "   [0.46885000000000004, 0.4997475, 1.0, 0.0],\n",
       "   [0.1467, 0.34021450000000003, 0.0, 1.0]],\n",
       "  [2, [1.3755, 1.0, 0.0], [0.39349999999999996, 0.0, 1.0]],\n",
       "  [3, [0.927, 1.0]]],\n",
       " '**********',\n",
       " [[0,\n",
       "   [11420.0, 0.000523, -0.000115, 0.0, 0.0],\n",
       "   [1712.0, 0.004045, -0.000895, 0.0, 0.0],\n",
       "   [389.3, 0.020775, -0.004624, 0.0, 0.0],\n",
       "   [110.0, 0.080727, -0.018528, 0.0, 0.0],\n",
       "   [35.57, 0.233074, -0.057339, 0.0, 0.0],\n",
       "   [12.54, 0.433501, -0.132076, 0.0, 0.0],\n",
       "   [4.644, 0.347472, -0.17251, 0.0, 0.0],\n",
       "   [1.293, 0.041262, 0.151814, 1.0, 0.0],\n",
       "   [0.5118, -0.008508, 0.599944, 0.0, 0.0],\n",
       "   [0.1787, 0.002384, 0.387462, 0.0, 1.0]],\n",
       "  [1,\n",
       "   [26.63, 0.01467, 0.0, 0.0],\n",
       "   [5.948, 0.091764, 0.0, 0.0],\n",
       "   [1.742, 0.298683, 0.0, 0.0],\n",
       "   [0.555, 0.498487, 1.0, 0.0],\n",
       "   [0.1725, 0.337023, 0.0, 1.0]],\n",
       "  [2, [1.654, 1.0, 0.0], [0.469, 0.0, 1.0]],\n",
       "  [3, [1.093, 1.0]]])"
      ]
     },
     "execution_count": 6,
     "metadata": {},
     "output_type": "execute_result"
    }
   ],
   "source": [
    "g321(6,ref=6),\"**********\",g321(6.5,ref=6),\"**********\",g321(7,ref=6)"
   ]
  },
  {
   "cell_type": "code",
   "execution_count": 7,
   "metadata": {},
   "outputs": [],
   "source": [
    "def E(l,zbs=True):\n",
    "    if zbs:\n",
    "        mol_l=FcM(fcs=[-l,l],atom=\"N1 0 0 0; N2 0 0 2.05\",unit=\"Bohrs\",basis={\"N1\":g321(7-l,ref=7),\"N2\":g321(7+l,ref=7)},verbose=1)\n",
    "    else:\n",
    "         mol_l=FcM(fcs=[-l,l],atom=\"N1 0 0 0; N2 0 0 2.05\",unit=\"Bohrs\",basis={\"N1\":g321(7,ref=7),\"N2\":g321(7,ref=7)},verbose=1)       \n",
    "    mf_l=scf.RHF(mol_l)\n",
    "    #mf_l.conv_tol=1e-12\n",
    "    #mf_l.conv_tol_grad=1e-12\n",
    "    e=mf_l.scf(dm0=mf_l.init_guess_by_1e())\n",
    "    return e"
   ]
  },
  {
   "cell_type": "code",
   "execution_count": 8,
   "metadata": {},
   "outputs": [
    {
     "data": {
      "image/png": "[encoded data removed]",
      "text/plain": [
       "<Figure size 432x288 with 1 Axes>"
      ]
     },
     "metadata": {
      "needs_background": "light"
     },
     "output_type": "display_data"
    }
   ],
   "source": [
    "for i in np.linspace(0,1,11):\n",
    "    plt.scatter(i,E(i),color=\"blue\")"
   ]
  },
  {
   "cell_type": "code",
   "execution_count": 14,
   "metadata": {},
   "outputs": [],
   "source": [
    "eT_R=E(-1,zbs=False)"
   ]
  },
  {
   "cell_type": "code",
   "execution_count": 9,
   "metadata": {},
   "outputs": [
    {
     "name": "stdout",
     "output_type": "stream",
     "text": [
      "converged SCF energy = -112.780713469478\n",
      "converged SCF energy = -108.985493724474\n"
     ]
    }
   ],
   "source": [
    "e_co=scf.RHF(gto.M(atom=\"C 0 0 0; O 0 0 2.05\",unit=\"Bohrs\",basis=bse.get_basis(\"cc-pvtz\"\\\n",
    "                                                       ,fmt=\"nwchem\",elements=[\"C\",\"N\",\"O\"]))).scf()\n",
    "e_nn=scf.RHF(gto.M(atom=\"N 0 0 0; N 0 0 2.05\",unit=\"Bohrs\",basis=bse.get_basis(\"cc-pvtz\"\\\n",
    "                                                       ,fmt=\"nwchem\",elements=[\"C\",\"N\",\"O\"]))).scf()"
   ]
  },
  {
   "cell_type": "code",
   "execution_count": 10,
   "metadata": {},
   "outputs": [],
   "source": [
    "#5pts finite difference coefficients\n",
    "fd1=np.asarray([1/12,-2/3 ,0,2/3,-1/12])\n",
    "fd2=np.asarray([-1/12,4/3,-5/2,4/3,-1/12])\n",
    "fd3=np.asarray([-1/2,1,0,-1,1/2])\n",
    "fd4=np.asarray([1,-4,6,-4,1])\n",
    "fds=[fd1,fd2,fd3,fd4]\n",
    "fds5=get_coeffs(5)\n",
    "fds7=get_coeffs(7)"
   ]
  },
  {
   "cell_type": "code",
   "execution_count": 11,
   "metadata": {},
   "outputs": [
    {
     "data": {
      "text/plain": [
       "([-108.9854937244738,\n",
       "  -108.98549372447441,\n",
       "  -112.78766495130144,\n",
       "  -112.7876649512893,\n",
       "  -112.76364336604243,\n",
       "  -112.76364336609572,\n",
       "  -112.81834762485809],\n",
       " -112.7807134694777,\n",
       " [-6.150635556423367e-13,\n",
       "  -3.8021712268270216,\n",
       "  1.2138438402568376e-11,\n",
       "  0.024021585246873176,\n",
       "  -5.32907051820075e-11,\n",
       "  -0.05470425876236755])"
      ]
     },
     "execution_count": 11,
     "metadata": {},
     "output_type": "execute_result"
    }
   ],
   "source": [
    "dl=.1\n",
    "Es=np.asarray([E(-3*dl),E(-2*dl),E(-dl),e_nn,E(dl),E(2*dl),E(3*dl)])\n",
    "apdft=[e_nn]\n",
    "inc=[]\n",
    "for i in range(6):\n",
    "    inc.append(fds7[i+1].dot(np.asarray(Es))/dl**(i+1)/np.math.factorial(i+1))\n",
    "    apdft.append(apdft[i]+inc[-1] )\n",
    "apdft,e_co,inc"
   ]
  },
  {
   "cell_type": "code",
   "execution_count": 12,
   "metadata": {},
   "outputs": [
    {
     "data": {
      "text/plain": [
       "([-108.9854937244738,\n",
       "  -108.98549372447252,\n",
       "  -112.78764306956272,\n",
       "  -112.78764306960535,\n",
       "  -112.76635669813099],\n",
       " -112.7807134694777,\n",
       " [1.2789769243681803e-12,\n",
       "  -3.802149345090199,\n",
       "  -4.2632564145606005e-11,\n",
       "  0.021286371474360518])"
      ]
     },
     "execution_count": 12,
     "metadata": {},
     "output_type": "execute_result"
    }
   ],
   "source": [
    "dl=.1\n",
    "Es=np.asarray([E(-2*dl),E(-dl),e_nn,E(dl),E(2*dl)])\n",
    "apdft=[e_nn]\n",
    "inc=[]\n",
    "for i in range(4):\n",
    "    inc.append(fds5[i+1].dot(np.asarray(Es))/dl**(i+1)/np.math.factorial(i+1))\n",
    "    apdft.append(apdft[i]+fds5[i+1].dot(np.asarray(Es))/dl**(i+1)/np.math.factorial(i+1) )\n",
    "apdft,e_co,inc"
   ]
  },
  {
   "cell_type": "code",
   "execution_count": 15,
   "metadata": {},
   "outputs": [
    {
     "data": {
      "text/plain": [
       "([-108.9854937244738,\n",
       "  -108.9854937244772,\n",
       "  -112.31293739539062,\n",
       "  -112.31293739497613,\n",
       "  -112.30383088046477,\n",
       "  -112.30383089391772,\n",
       "  -112.30318180649687],\n",
       " -112.30323169606025,\n",
       " -112.7807134694777,\n",
       " [-3.397282455352979e-12,\n",
       "  -3.327443670913421,\n",
       "  4.14483262526725e-10,\n",
       "  0.009106514511358908,\n",
       "  -1.345294246372456e-08,\n",
       "  0.0006490874208490517])"
      ]
     },
     "execution_count": 15,
     "metadata": {},
     "output_type": "execute_result"
    }
   ],
   "source": [
    "dl=.05\n",
    "Es=np.asarray([E(-3*dl,zbs=False),E(-2*dl,zbs=False),E(-dl,zbs=False),e_nn,E(dl,zbs=False),E(2*dl,zbs=False),E(3*dl,zbs=False)])\n",
    "apdft=[e_nn]\n",
    "inc=[]\n",
    "for i in range(6):\n",
    "    inc.append(fds7[i+1].dot(np.asarray(Es))/dl**(i+1)/np.math.factorial(i+1))\n",
    "    apdft.append(apdft[i]+fds7[i+1].dot(np.asarray(Es))/dl**(i+1)/np.math.factorial(i+1) )\n",
    "apdft,eT_R,e_co,inc"
   ]
  },
  {
   "cell_type": "code",
   "execution_count": 25,
   "metadata": {},
   "outputs": [],
   "source": [
    "def E_cn(l,zbs=True):\n",
    "    if zbs:\n",
    "        mol_l=FcM(fcs=[-l,0],atom=\"N1 0 0 0; N2 0 0 2.05\",unit=\"Bohrs\",basis={\"N1\":g321(7-l,ref=7),\"N2\":g321(7)},verbose=1)\n",
    "    elif not zbs:\n",
    "        mol_l=FcM(fcs=[-l,0],atom=\"N1 0 0 0; N2 0 0 2.05\",unit=\"Bohrs\",basis={\"N1\":g321(7,ref=7),\"N2\":g321(7)},verbose=1)\n",
    "    mf_l=scf.RHF(mol_l)\n",
    "    #mf_l.conv_tol=1e-12\n",
    "    #mf_l.conv_tol_grad=1e-12\n",
    "    e=mf_l.scf(dm0=mf_l.init_guess_by_1e())\n",
    "    return e"
   ]
  },
  {
   "cell_type": "code",
   "execution_count": 26,
   "metadata": {},
   "outputs": [
    {
     "name": "stdout",
     "output_type": "stream",
     "text": [
      "converged SCF energy = -92.3220582208861\n"
     ]
    }
   ],
   "source": [
    "mf_cn=scf.RHF(gto.M(atom=\"C 0 0 0; N 0 0 2.05\",unit=\"Bohrs\",basis=bse.get_basis(\"cc-pvtz\"\\\n",
    "                                                       ,fmt=\"nwchem\",elements=[\"C\",\"N\",\"O\"]),charge=-1))\n",
    "e_cn=mf_cn.scf()"
   ]
  },
  {
   "cell_type": "code",
   "execution_count": 32,
   "metadata": {},
   "outputs": [
    {
     "data": {
      "text/plain": [
       "(array([-108.98549372,  -90.70791575,  -92.35983148,  -92.31978224,\n",
       "         -92.32078066,  -92.3184192 ,  -92.3174632 ]),\n",
       " -92.32205822088608,\n",
       " array([-1.66634355e+01,  1.61414247e+00, -3.77732604e-02,  2.27598547e-03,\n",
       "         1.27756490e-03,  3.63902503e-03,  4.59501985e-03]),\n",
       " [18.277577970673757,\n",
       "  -1.651915727449049,\n",
       "  0.04004924583493144,\n",
       "  -0.000998420569923534,\n",
       "  0.0023614601237416837,\n",
       "  0.000955994828978469])"
      ]
     },
     "execution_count": 32,
     "metadata": {},
     "output_type": "execute_result"
    }
   ],
   "source": [
    "dl=.1\n",
    "Es=np.asarray([E_cn(-3*dl),E_cn(-2*dl),E_cn(-dl),e_nn,E_cn(dl),E_cn(2*dl),E_cn(3*dl)])\n",
    "apdft=[e_nn]\n",
    "inc=[]\n",
    "for i in range(6):\n",
    "    inc.append(np.einsum('i,i',fds7[i+1],Es)/dl**(i+1)/np.math.factorial(i+1))\n",
    "    apdft.append(apdft[i]+inc[-1] )\n",
    "apdft=np.asarray(apdft)\n",
    "apdft,e_cn,apdft-e_cn,inc"
   ]
  },
  {
   "cell_type": "code",
   "execution_count": 31,
   "metadata": {},
   "outputs": [
    {
     "data": {
      "text/plain": [
       "(array([-108.98549372,  -90.70787059,  -92.11865025,  -92.16250308,\n",
       "         -92.16130771,  -92.15958433,  -92.15917483]),\n",
       " -92.15921844912398,\n",
       " -92.32205822088608,\n",
       " array([-1.68262753e+01,  1.45134786e+00,  4.05681949e-02, -3.28462702e-03,\n",
       "        -2.08926441e-03, -3.65879314e-04,  4.36170440e-05]),\n",
       " array([-16.6634355 ,   1.61418763,   0.20340797,   0.15955514,\n",
       "          0.16075051,   0.16247389,   0.16288339]),\n",
       " [18.27762313181324,\n",
       "  -1.4107796615851596,\n",
       "  -0.04385282189645067,\n",
       "  0.0011953626074164463,\n",
       "  0.0017233850968523252,\n",
       "  0.00040949635781038914])"
      ]
     },
     "execution_count": 31,
     "metadata": {},
     "output_type": "execute_result"
    }
   ],
   "source": [
    "dl=.1\n",
    "Es=np.asarray([E_cn(-3*dl,zbs=False),E_cn(-2*dl,zbs=False),E_cn(-dl,zbs=False),e_nn,E_cn(dl,zbs=False),E_cn(2*dl,zbs=False),E_cn(3*dl,zbs=False)])\n",
    "apdft=[e_nn]\n",
    "inc=[]\n",
    "for i in range(6):\n",
    "    inc.append(np.einsum('i,i',fds7[i+1],Es)/dl**(i+1)/np.math.factorial(i+1))\n",
    "    apdft.append(apdft[i]+inc[-1] )\n",
    "apdft=np.asarray(apdft)\n",
    "apdft,E_cn(1,zbs=False),e_cn,apdft-E_cn(1,zbs=False),apdft-e_cn,inc"
   ]
  },
  {
   "cell_type": "code",
   "execution_count": 26,
   "metadata": {},
   "outputs": [],
   "source": [
    "#check if basis are orthonormal"
   ]
  },
  {
   "cell_type": "code",
   "execution_count": 19,
   "metadata": {},
   "outputs": [],
   "source": [
    "def S(l,zbs=True):\n",
    "    if zbs:\n",
    "        mol_l=FcM(fcs=[-l,l],atom=\"N1 0 0 0; N2 0 0 2.05\",unit=\"Bohrs\",basis={\"N1\":g321(7-l,ref=7),\"N2\":g321(7+l,ref=7)},verbose=1)\n",
    "    else:\n",
    "         mol_l=FcM(fcs=[-l,l],atom=\"N1 0 0 0; N2 0 0 2.05\",unit=\"Bohrs\",basis={\"N1\":g321(7,ref=7),\"N2\":g321(7,ref=7)},verbose=1)       \n",
    "    mf_l=scf.RHF(mol_l)\n",
    "    #mf_l.conv_tol=1e-12\n",
    "    #mf_l.conv_tol_grad=1e-12\n",
    "    #e=mf_l.scf(dm0=mf_l.init_guess_by_1e())\n",
    "    return mf_l.get_ovlp()"
   ]
  },
  {
   "cell_type": "code",
   "execution_count": 20,
   "metadata": {},
   "outputs": [
    {
     "name": "stdout",
     "output_type": "stream",
     "text": [
      "[1. 1. 1. 1. 1. 1. 1. 1. 1. 1. 1. 1. 1. 1. 1. 1. 1. 1. 1. 1. 1. 1. 1. 1.\n",
      " 1. 1. 1. 1. 1. 1. 1. 1. 1. 1. 1. 1. 1. 1. 1. 1. 1. 1. 1. 1. 1. 1. 1. 1.\n",
      " 1. 1. 1. 1. 1. 1. 1. 1. 1. 1. 1. 1.]\n",
      "[1. 1. 1. 1. 1. 1. 1. 1. 1. 1. 1. 1. 1. 1. 1. 1. 1. 1. 1. 1. 1. 1. 1. 1.\n",
      " 1. 1. 1. 1. 1. 1. 1. 1. 1. 1. 1. 1. 1. 1. 1. 1. 1. 1. 1. 1. 1. 1. 1. 1.\n",
      " 1. 1. 1. 1. 1. 1. 1. 1. 1. 1. 1. 1.]\n",
      "[1. 1. 1. 1. 1. 1. 1. 1. 1. 1. 1. 1. 1. 1. 1. 1. 1. 1. 1. 1. 1. 1. 1. 1.\n",
      " 1. 1. 1. 1. 1. 1. 1. 1. 1. 1. 1. 1. 1. 1. 1. 1. 1. 1. 1. 1. 1. 1. 1. 1.\n",
      " 1. 1. 1. 1. 1. 1. 1. 1. 1. 1. 1. 1.]\n",
      "[1. 1. 1. 1. 1. 1. 1. 1. 1. 1. 1. 1. 1. 1. 1. 1. 1. 1. 1. 1. 1. 1. 1. 1.\n",
      " 1. 1. 1. 1. 1. 1. 1. 1. 1. 1. 1. 1. 1. 1. 1. 1. 1. 1. 1. 1. 1. 1. 1. 1.\n",
      " 1. 1. 1. 1. 1. 1. 1. 1. 1. 1. 1. 1.]\n",
      "[1. 1. 1. 1. 1. 1. 1. 1. 1. 1. 1. 1. 1. 1. 1. 1. 1. 1. 1. 1. 1. 1. 1. 1.\n",
      " 1. 1. 1. 1. 1. 1. 1. 1. 1. 1. 1. 1. 1. 1. 1. 1. 1. 1. 1. 1. 1. 1. 1. 1.\n",
      " 1. 1. 1. 1. 1. 1. 1. 1. 1. 1. 1. 1.]\n",
      "[1. 1. 1. 1. 1. 1. 1. 1. 1. 1. 1. 1. 1. 1. 1. 1. 1. 1. 1. 1. 1. 1. 1. 1.\n",
      " 1. 1. 1. 1. 1. 1. 1. 1. 1. 1. 1. 1. 1. 1. 1. 1. 1. 1. 1. 1. 1. 1. 1. 1.\n",
      " 1. 1. 1. 1. 1. 1. 1. 1. 1. 1. 1. 1.]\n",
      "[1. 1. 1. 1. 1. 1. 1. 1. 1. 1. 1. 1. 1. 1. 1. 1. 1. 1. 1. 1. 1. 1. 1. 1.\n",
      " 1. 1. 1. 1. 1. 1. 1. 1. 1. 1. 1. 1. 1. 1. 1. 1. 1. 1. 1. 1. 1. 1. 1. 1.\n",
      " 1. 1. 1. 1. 1. 1. 1. 1. 1. 1. 1. 1.]\n"
     ]
    }
   ],
   "source": [
    "for i in np.linspace(0,1,7):\n",
    "    print(S(i).diagonal())  #automatic normalization"
   ]
  },
  {
   "cell_type": "code",
   "execution_count": 21,
   "metadata": {},
   "outputs": [
    {
     "data": {
      "text/plain": [
       "(<matplotlib.image.AxesImage at 0x7f891e47a2b0>,\n",
       " <matplotlib.image.AxesImage at 0x7f891e2e3748>)"
      ]
     },
     "execution_count": 21,
     "metadata": {},
     "output_type": "execute_result"
    },
    {
     "data": {
      "image/png": "[encoded data removed]",
      "text/plain": [
       "<Figure size 288x288 with 1 Axes>"
      ]
     },
     "metadata": {
      "needs_background": "light"
     },
     "output_type": "display_data"
    },
    {
     "data": {
      "image/png": "[encoded data removed]",
      "text/plain": [
       "<Figure size 288x288 with 1 Axes>"
      ]
     },
     "metadata": {
      "needs_background": "light"
     },
     "output_type": "display_data"
    }
   ],
   "source": [
    "plt.matshow(S(0)),plt.matshow(S(.5))"
   ]
  },
  {
   "cell_type": "code",
   "execution_count": null,
   "metadata": {},
   "outputs": [],
   "source": []
  },
  {
   "cell_type": "code",
   "execution_count": null,
   "metadata": {},
   "outputs": [],
   "source": []
  }
 ],
 "metadata": {
  "kernelspec": {
   "display_name": "Python 3",
   "language": "python",
   "name": "python3"
  },
  "language_info": {
   "codemirror_mode": {
    "name": "ipython",
    "version": 3
   },
   "file_extension": ".py",
   "mimetype": "text/x-python",
   "name": "python",
   "nbconvert_exporter": "python",
   "pygments_lexer": "ipython3",
   "version": "3.7.3"
  }
 },
 "nbformat": 4,
 "nbformat_minor": 4
}
