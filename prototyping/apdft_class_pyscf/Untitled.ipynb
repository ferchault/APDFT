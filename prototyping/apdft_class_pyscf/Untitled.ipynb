{
 "cells": [
  {
   "cell_type": "code",
   "execution_count": 44,
   "id": "da702d93",
   "metadata": {},
   "outputs": [
    {
     "name": "stdout",
     "output_type": "stream",
     "text": [
      "The autoreload extension is already loaded. To reload it, use:\n",
      "  %reload_ext autoreload\n"
     ]
    }
   ],
   "source": [
    "from pyscf import gto,scf\n",
    "import numpy as np\n",
    "#molecule with fractional charges \n",
    "%load_ext autoreload\n",
    "%autoreload 2\n",
    "from FcMole import FcM, FcM_like\n",
    "from AP_class import APDFT_perturbator as AP"
   ]
  },
  {
   "cell_type": "code",
   "execution_count": 45,
   "id": "88f7a05f",
   "metadata": {},
   "outputs": [],
   "source": [
    "hcn=gto.M(atom= \"N 0 0 0; C 0 0 2.1; H 0 0 3.4\",unit=\"Bohr\", basis=\"sto-3g\" )"
   ]
  },
  {
   "cell_type": "code",
   "execution_count": 46,
   "id": "0261d1e0",
   "metadata": {},
   "outputs": [
    {
     "name": "stdout",
     "output_type": "stream",
     "text": [
      "converged SCF energy = -91.3851073699862\n"
     ]
    }
   ],
   "source": [
    "mf_hcn=scf.RHF(hcn)\n",
    "mf_hcn.scf()\n",
    "ap_hcn=AP(mf_hcn,sites=[0,1,2])"
   ]
  },
  {
   "cell_type": "code",
   "execution_count": 47,
   "id": "d72e899e",
   "metadata": {},
   "outputs": [
    {
     "data": {
      "text/plain": [
       "(array([[[-0.06736416, -0.01498935, -0.00057113],\n",
       "         [-0.01498935,  0.0071365 , -0.00846982],\n",
       "         [-0.00057113, -0.00846982,  0.01068536]],\n",
       " \n",
       "        [[-0.01498935,  0.0071365 , -0.00846982],\n",
       "         [ 0.0071365 , -0.17087998,  0.0521149 ],\n",
       "         [-0.00846982,  0.0521149 ,  0.01418075]],\n",
       " \n",
       "        [[-0.00057113, -0.00846982,  0.01068536],\n",
       "         [-0.00846982,  0.0521149 ,  0.01418075],\n",
       "         [ 0.01068536,  0.01418075, -0.03847488]]]),\n",
       " array([[[ 0.06736416,  0.01498935,  0.00057113],\n",
       "         [ 0.01498935, -0.0071365 ,  0.00846982],\n",
       "         [ 0.00057113,  0.00846982, -0.01068536]],\n",
       " \n",
       "        [[ 0.01498935, -0.0071365 ,  0.00846982],\n",
       "         [-0.0071365 ,  0.17087998, -0.0521149 ],\n",
       "         [ 0.00846982, -0.0521149 , -0.01418075]],\n",
       " \n",
       "        [[ 0.00057113,  0.00846982, -0.01068536],\n",
       "         [ 0.00846982, -0.0521149 , -0.01418075],\n",
       "         [-0.01068536, -0.01418075,  0.03847488]]]))"
      ]
     },
     "execution_count": 47,
     "metadata": {},
     "output_type": "execute_result"
    }
   ],
   "source": [
    "h=ap_hcn.build_hessian(0,1,2)\n",
    "ch2=ap_hcn.build_cubic_hessian2(0,1,2)\n",
    "ch,ch2"
   ]
  },
  {
   "cell_type": "code",
   "execution_count": 23,
   "id": "db91924a",
   "metadata": {},
   "outputs": [
    {
     "data": {
      "text/plain": [
       "-0.12186684902439789"
      ]
     },
     "execution_count": 23,
     "metadata": {},
     "output_type": "execute_result"
    }
   ],
   "source": [
    "sum(sum(sum(ch)))"
   ]
  },
  {
   "cell_type": "code",
   "execution_count": 9,
   "id": "5d4c82d3",
   "metadata": {},
   "outputs": [],
   "source": [
    "# check FD scheme third deriv"
   ]
  },
  {
   "cell_type": "code",
   "execution_count": 16,
   "id": "7573211e",
   "metadata": {},
   "outputs": [],
   "source": [
    "def E(dz):\n",
    "    fm=FcM_like(hcn,fcs=dz)\n",
    "    mf=scf.RHF(fm)\n",
    "    return mf.scf(dm0=mf.init_guess_by_1e())"
   ]
  },
  {
   "cell_type": "code",
   "execution_count": 30,
   "id": "93463465",
   "metadata": {},
   "outputs": [],
   "source": [
    "def H(dz):\n",
    "    fm=FcM_like(hcn,fcs=dz)\n",
    "    mf=scf.RHF(fm)\n",
    "    mf.scf(dm0=mf.init_guess_by_1e())\n",
    "    ap=AP(mf,sites=[0,1,2])\n",
    "    return ap.build_hessian(0,1,2)"
   ]
  },
  {
   "cell_type": "code",
   "execution_count": 17,
   "id": "d1897472",
   "metadata": {},
   "outputs": [
    {
     "name": "stdout",
     "output_type": "stream",
     "text": [
      "converged SCF energy = -91.3851073699861\n"
     ]
    },
    {
     "data": {
      "text/plain": [
       "-91.38510736998606"
      ]
     },
     "execution_count": 17,
     "metadata": {},
     "output_type": "execute_result"
    }
   ],
   "source": [
    "E([0,0,0])\n",
    "#−1/2 \t1 \t0 \t−1 \t1/2"
   ]
  },
  {
   "cell_type": "code",
   "execution_count": 19,
   "id": "aaca50da",
   "metadata": {},
   "outputs": [
    {
     "name": "stdout",
     "output_type": "stream",
     "text": [
      "converged SCF energy = -94.6893153011456\n",
      "converged SCF energy = -93.0406779452095\n",
      "converged SCF energy = -89.7226178829943\n",
      "converged SCF energy = -88.0532257235797\n"
     ]
    },
    {
     "data": {
      "text/plain": [
       "0.1221874577481685"
      ]
     },
     "execution_count": 19,
     "metadata": {},
     "output_type": "execute_result"
    }
   ],
   "source": [
    "(1/2*E([0.1,0.1,0.1])-E([0.05,0.05,0.05])+E([-0.05,-0.05,-0.05])-1/2*E([-0.1,-0.1,-0.1]))/.05**3"
   ]
  },
  {
   "cell_type": "code",
   "execution_count": 25,
   "id": "abf39c74",
   "metadata": {},
   "outputs": [
    {
     "name": "stdout",
     "output_type": "stream",
     "text": [
      "converged SCF energy = -93.1910718986852\n",
      "converged SCF energy = -92.2872454018672\n",
      "converged SCF energy = -90.4846658949383\n",
      "converged SCF energy = -89.5859297811048\n"
     ]
    },
    {
     "data": {
      "text/plain": [
       "0.06758510915005898"
      ]
     },
     "execution_count": 25,
     "metadata": {},
     "output_type": "execute_result"
    }
   ],
   "source": [
    "(1/2*E([0.1,0.,0.])-E([0.05,0.,0.])+E([-0.05,-0.,-0.])-1/2*E([-0.1,-0.,-0.]))/.05**3"
   ]
  },
  {
   "cell_type": "code",
   "execution_count": 26,
   "id": "12f8027e",
   "metadata": {},
   "outputs": [
    {
     "name": "stdout",
     "output_type": "stream",
     "text": [
      "converged SCF energy = -92.8356540066697\n",
      "converged SCF energy = -92.1096806157203\n",
      "converged SCF energy = -90.6619546436914\n",
      "converged SCF energy = -89.9402449006837\n"
     ]
    },
    {
     "data": {
      "text/plain": [
       "0.17135228756615103"
      ]
     },
     "execution_count": 26,
     "metadata": {},
     "output_type": "execute_result"
    }
   ],
   "source": [
    "(1/2*E([0.,0.1,0.])-E([0.,0.05,0.])+E([-0.,-0.05,-0.])-1/2*E([-0.,-0.1,-0.]))/.05**3"
   ]
  },
  {
   "cell_type": "code",
   "execution_count": 36,
   "id": "19003e93",
   "metadata": {},
   "outputs": [
    {
     "name": "stdout",
     "output_type": "stream",
     "text": [
      "converged SCF energy = -92.2872454018672\n",
      "converged SCF energy = -90.4846658949384\n"
     ]
    },
    {
     "data": {
      "text/plain": [
       "array([[ 0.06751124,  0.01498405,  0.00056537],\n",
       "       [ 0.01498405, -0.00714033,  0.00846957],\n",
       "       [ 0.00056537,  0.00846957, -0.01068789]])"
      ]
     },
     "execution_count": 36,
     "metadata": {},
     "output_type": "execute_result"
    }
   ],
   "source": [
    "(H([0.05,0,0])-H([-0.05,0,0]))/.1"
   ]
  },
  {
   "cell_type": "code",
   "execution_count": 38,
   "id": "72574ddf",
   "metadata": {},
   "outputs": [
    {
     "name": "stdout",
     "output_type": "stream",
     "text": [
      "converged SCF energy = -92.1096806157204\n",
      "converged SCF energy = -90.6619546436914\n"
     ]
    },
    {
     "data": {
      "text/plain": [
       "array([[ 0.01498673, -0.0071517 ,  0.00847199],\n",
       "       [-0.0071517 ,  0.17119461, -0.0521323 ],\n",
       "       [ 0.00847199, -0.0521323 , -0.01419098]])"
      ]
     },
     "execution_count": 38,
     "metadata": {},
     "output_type": "execute_result"
    }
   ],
   "source": [
    "(H([0,0.05,0])-H([0,-0.05,0]))/.1"
   ]
  },
  {
   "cell_type": "code",
   "execution_count": 39,
   "id": "1fc82bb5",
   "metadata": {},
   "outputs": [
    {
     "name": "stdout",
     "output_type": "stream",
     "text": [
      "converged SCF energy = -91.4195458735324\n",
      "converged SCF energy = -91.3517977452635\n"
     ]
    },
    {
     "data": {
      "text/plain": [
       "array([[ 0.00057596,  0.00846519, -0.01068783],\n",
       "       [ 0.00846519, -0.05211516, -0.01416793],\n",
       "       [-0.01068783, -0.01416793,  0.03845216]])"
      ]
     },
     "execution_count": 39,
     "metadata": {},
     "output_type": "execute_result"
    }
   ],
   "source": [
    "(H([0,0,0.05])-H([0,0,-0.05]))/.1"
   ]
  },
  {
   "cell_type": "code",
   "execution_count": 37,
   "id": "c071b884",
   "metadata": {},
   "outputs": [
    {
     "data": {
      "text/plain": [
       "array([[[-0.06736416, -0.01498935, -0.00057113],\n",
       "        [-0.01498935,  0.0071365 , -0.00846982],\n",
       "        [-0.00057113, -0.00846982,  0.01068536]],\n",
       "\n",
       "       [[-0.01498935,  0.0071365 , -0.00846982],\n",
       "        [ 0.0071365 , -0.17087998,  0.0521149 ],\n",
       "        [-0.00846982,  0.0521149 ,  0.01418075]],\n",
       "\n",
       "       [[-0.00057113, -0.00846982,  0.01068536],\n",
       "        [-0.00846982,  0.0521149 ,  0.01418075],\n",
       "        [ 0.01068536,  0.01418075, -0.03847488]]])"
      ]
     },
     "execution_count": 37,
     "metadata": {},
     "output_type": "execute_result"
    }
   ],
   "source": [
    "ch"
   ]
  },
  {
   "cell_type": "code",
   "execution_count": null,
   "id": "a724c396",
   "metadata": {},
   "outputs": [],
   "source": []
  }
 ],
 "metadata": {
  "kernelspec": {
   "display_name": "Python 3",
   "language": "python",
   "name": "python3"
  },
  "language_info": {
   "codemirror_mode": {
    "name": "ipython",
    "version": 3
   },
   "file_extension": ".py",
   "mimetype": "text/x-python",
   "name": "python",
   "nbconvert_exporter": "python",
   "pygments_lexer": "ipython3",
   "version": "3.8.8"
  }
 },
 "nbformat": 4,
 "nbformat_minor": 5
}
