{
 "cells": [
  {
   "cell_type": "code",
   "execution_count": 1,
   "metadata": {},
   "outputs": [],
   "source": [
    "from pyscf import gto,scf\n",
    "import numpy as np"
   ]
  },
  {
   "cell_type": "markdown",
   "metadata": {},
   "source": [
    "## Fractional charge molecules"
   ]
  },
  {
   "cell_type": "code",
   "execution_count": 2,
   "metadata": {},
   "outputs": [],
   "source": [
    "mol_NN=gto.M(atom= \"N 0 0 0; N 0 0 2.1\",unit=\"Bohr\", basis=\"sto-3g\")"
   ]
  },
  {
   "cell_type": "code",
   "execution_count": 3,
   "metadata": {},
   "outputs": [],
   "source": [
    "#molecule with fractional charges \n",
    "%load_ext autoreload\n",
    "%autoreload 2\n",
    "from FcMole import FcM, FcM_like"
   ]
  },
  {
   "cell_type": "code",
   "execution_count": 4,
   "metadata": {},
   "outputs": [],
   "source": [
    "#first method using FcM\n",
    "fmol1=FcM(fcs=[1,1],atom= \"N 0 0 0; N 0 0 2.1\",unit=\"Bohr\", basis=\"sto-3g\") #fcs is a list with fcs for every atom"
   ]
  },
  {
   "cell_type": "code",
   "execution_count": 5,
   "metadata": {},
   "outputs": [
    {
     "data": {
      "text/plain": [
       "(2, (7, 7), array([8., 8.]))"
      ]
     },
     "execution_count": 5,
     "metadata": {},
     "output_type": "execute_result"
    }
   ],
   "source": [
    "fmol1.charge,fmol1.nelec,fmol1.atom_charges()"
   ]
  },
  {
   "cell_type": "code",
   "execution_count": 10,
   "metadata": {},
   "outputs": [],
   "source": [
    "#second method using FcM_like fcs can also be parsed via a doble list [[idx_n,..],[fc_n,..]]\n",
    "fmol2=FcM_like(mol_NN,fcs=[[0],[.3]])"
   ]
  },
  {
   "cell_type": "code",
   "execution_count": 11,
   "metadata": {},
   "outputs": [
    {
     "data": {
      "text/plain": [
       "(0.3, (7, 7), array([7.3, 7. ]))"
      ]
     },
     "execution_count": 11,
     "metadata": {},
     "output_type": "execute_result"
    }
   ],
   "source": [
    "fmol2.charge,fmol2.nelec,fmol2.atom_charges()"
   ]
  },
  {
   "cell_type": "code",
   "execution_count": 12,
   "metadata": {},
   "outputs": [],
   "source": [
    "# you can also add charge to the initial molecule, the fcs don't affect the number of electrons\n",
    "fmol3=FcM(fcs=[[0,1],[1,1]],atom= \"N 0 0 0; N 0 0 2.1\",unit=\"Bohr\", basis=\"sto-3g\",spin=1,charge=-1)"
   ]
  },
  {
   "cell_type": "code",
   "execution_count": 13,
   "metadata": {},
   "outputs": [
    {
     "data": {
      "text/plain": [
       "(1, (8, 7), array([8., 8.]))"
      ]
     },
     "execution_count": 13,
     "metadata": {},
     "output_type": "execute_result"
    }
   ],
   "source": [
    "fmol3.charge,fmol3.nelec,fmol3.atom_charges()"
   ]
  },
  {
   "cell_type": "code",
   "execution_count": 14,
   "metadata": {},
   "outputs": [
    {
     "name": "stdout",
     "output_type": "stream",
     "text": [
      "converged SCF energy = -142.479644654161\n",
      "converged SCF energy = -112.220627534812\n",
      "converged SCF energy = -143.609288387384\n"
     ]
    },
    {
     "name": "stderr",
     "output_type": "stream",
     "text": [
      "/home/giorgio/anaconda3/lib/python3.8/site-packages/pyscf/gto/mole.py:1089: UserWarning: Function mol.dumps drops attribute with_rinv_at_nucleus because it is not JSON-serializable\n",
      "  warnings.warn(msg)\n"
     ]
    },
    {
     "data": {
      "text/plain": [
       "-143.60928838738437"
      ]
     },
     "execution_count": 14,
     "metadata": {},
     "output_type": "execute_result"
    }
   ],
   "source": [
    "mf1,mf2,mf3=scf.RHF(fmol1),scf.RHF(fmol2),scf.RHF(fmol3)\n",
    "mf1.scf(dm0=mf1.init_guess_by_1e())\n",
    "mf2.scf(dm0=mf2.init_guess_by_1e())\n",
    "mf3.scf(dm0=mf3.init_guess_by_1e())"
   ]
  },
  {
   "cell_type": "code",
   "execution_count": 15,
   "metadata": {},
   "outputs": [
    {
     "data": {
      "text/plain": [
       "(array([2., 2., 2., 2., 2., 2., 2., 0., 0., 0.]),\n",
       " 14.0,\n",
       " array([2., 2., 2., 2., 2., 2., 2., 0., 0., 0.]),\n",
       " 14.0)"
      ]
     },
     "execution_count": 15,
     "metadata": {},
     "output_type": "execute_result"
    }
   ],
   "source": [
    "mf1.mo_occ,sum(mf1.mo_occ),mf2.mo_occ,sum(mf2.mo_occ) #checking occupations"
   ]
  },
  {
   "cell_type": "code",
   "execution_count": 16,
   "metadata": {},
   "outputs": [
    {
     "data": {
      "text/plain": [
       "(NPArrayWithTag([2., 2., 2., 2., 2., 2., 2., 0., 1., 0.]), 15.0)"
      ]
     },
     "execution_count": 16,
     "metadata": {},
     "output_type": "execute_result"
    }
   ],
   "source": [
    "mf3.mo_occ,sum(mf3.mo_occ)"
   ]
  },
  {
   "cell_type": "markdown",
   "metadata": {},
   "source": [
    "## Using the AP_class"
   ]
  },
  {
   "cell_type": "code",
   "execution_count": 17,
   "metadata": {},
   "outputs": [],
   "source": [
    "from AP_class import APDFT_perturbator as AP"
   ]
  },
  {
   "cell_type": "code",
   "execution_count": 18,
   "metadata": {},
   "outputs": [
    {
     "name": "stdout",
     "output_type": "stream",
     "text": [
      "converged SCF energy = -107.49885049543\n"
     ]
    }
   ],
   "source": [
    "mf_nn=scf.RHF(mol_NN)\n",
    "#need to run the scf first\n",
    "mf_nn.scf()\n",
    "ap_nn=AP(mf_nn,sites=[0,1])"
   ]
  },
  {
   "cell_type": "code",
   "execution_count": 19,
   "metadata": {},
   "outputs": [
    {
     "data": {
      "text/plain": [
       "array([-17.96252176, -17.96252176])"
      ]
     },
     "execution_count": 19,
     "metadata": {},
     "output_type": "execute_result"
    }
   ],
   "source": [
    "#build the alchemical gradient dE/dZ_i\n",
    "ap_nn.build_gradient(0,1)"
   ]
  },
  {
   "cell_type": "code",
   "execution_count": 20,
   "metadata": {},
   "outputs": [
    {
     "data": {
      "text/plain": [
       "array([[-0.56261427,  0.95186321],\n",
       "       [ 0.95186321, -0.56261427]])"
      ]
     },
     "execution_count": 20,
     "metadata": {},
     "output_type": "execute_result"
    }
   ],
   "source": [
    "#build the alchemical hessian d**2E/dZ_i/dZ_j\n",
    "ap_nn.build_hessian(0,1)"
   ]
  },
  {
   "cell_type": "code",
   "execution_count": 21,
   "metadata": {},
   "outputs": [
    {
     "data": {
      "text/plain": [
       "array([[[-0.05028813, -0.00297524],\n",
       "        [-0.00297524, -0.00297524]],\n",
       "\n",
       "       [[-0.00297524, -0.00297524],\n",
       "        [-0.00297524, -0.05028813]]])"
      ]
     },
     "execution_count": 21,
     "metadata": {},
     "output_type": "execute_result"
    }
   ],
   "source": [
    "ap_nn.build_cubic_hessian(0,1)"
   ]
  },
  {
   "cell_type": "code",
   "execution_count": 22,
   "metadata": {},
   "outputs": [
    {
     "data": {
      "text/plain": [
       "(array([-17.96252176, -17.96252176]),\n",
       " array([[-0.56261427,  0.95186321],\n",
       "        [ 0.95186321, -0.56261427]]),\n",
       " array([[[-0.05028813, -0.00297524],\n",
       "         [-0.00297524, -0.00297524]],\n",
       " \n",
       "        [[-0.00297524, -0.00297524],\n",
       "         [-0.00297524, -0.05028813]]]))"
      ]
     },
     "execution_count": 22,
     "metadata": {},
     "output_type": "execute_result"
    }
   ],
   "source": [
    "#you can retreve the derivatives calling them \n",
    "ap_nn.gradient,ap_nn.hessian,ap_nn.cubic_hessian"
   ]
  },
  {
   "cell_type": "code",
   "execution_count": 23,
   "metadata": {},
   "outputs": [],
   "source": [
    "#after building hessian and gradient you can call APDFTn predictions of a numpy array that \n",
    "# constitutes the perturbation"
   ]
  },
  {
   "cell_type": "code",
   "execution_count": 24,
   "metadata": {},
   "outputs": [
    {
     "data": {
      "text/plain": [
       "-109.01332797130449"
      ]
     },
     "execution_count": 24,
     "metadata": {},
     "output_type": "execute_result"
    }
   ],
   "source": [
    "ap_nn.APDFT3(np.asarray([-1,1])) # to CO"
   ]
  },
  {
   "cell_type": "code",
   "execution_count": 25,
   "metadata": {},
   "outputs": [
    {
     "data": {
      "text/plain": [
       "-109.0133279713044"
      ]
     },
     "execution_count": 25,
     "metadata": {},
     "output_type": "execute_result"
    }
   ],
   "source": [
    "ap_nn.APDFT3(np.asarray([1,-1])) # to OC"
   ]
  },
  {
   "cell_type": "code",
   "execution_count": 26,
   "metadata": {},
   "outputs": [
    {
     "data": {
      "text/plain": [
       "-109.01332797130449"
      ]
     },
     "execution_count": 26,
     "metadata": {},
     "output_type": "execute_result"
    }
   ],
   "source": [
    "ap_nn.APDFT2(np.asarray([-1,1]))  # due to symmetry APDFT2 has the same energy as APDFT3"
   ]
  },
  {
   "cell_type": "code",
   "execution_count": 27,
   "metadata": {},
   "outputs": [
    {
     "data": {
      "text/plain": [
       "-143.42389401003226"
      ]
     },
     "execution_count": 27,
     "metadata": {},
     "output_type": "execute_result"
    }
   ],
   "source": [
    "ap_nn.APDFT1(np.asarray([1,1])) # going to OO++"
   ]
  },
  {
   "cell_type": "markdown",
   "metadata": {},
   "source": [
    "etc.etc.\n"
   ]
  },
  {
   "cell_type": "markdown",
   "metadata": {},
   "source": [
    "##  Things to be improved \n",
    "1) handling of sites <br>\n",
    "2) use symmetry to reduce the number of calculation required is trick because the AO coefficients needs to be rotated <br> \n",
    "3) Mixing with finite difference to get higher order ? <br>\n",
    "4) DFT implementation \n"
   ]
  },
  {
   "cell_type": "code",
   "execution_count": 28,
   "metadata": {},
   "outputs": [],
   "source": [
    "import inspect"
   ]
  },
  {
   "cell_type": "code",
   "execution_count": 34,
   "metadata": {},
   "outputs": [],
   "source": [
    "import  pyscf.prop.polarizability.rhf as prhf"
   ]
  },
  {
   "cell_type": "code",
   "execution_count": 36,
   "metadata": {
    "scrolled": true
   },
   "outputs": [
    {
     "data": {
      "text/plain": [
       "['Polarizability',\n",
       " '__FIXME_cphf_with_freq',\n",
       " '__builtins__',\n",
       " '__cached__',\n",
       " '__doc__',\n",
       " '__file__',\n",
       " '__loader__',\n",
       " '__name__',\n",
       " '__package__',\n",
       " '__spec__',\n",
       " '_response_functions',\n",
       " 'cphf',\n",
       " 'cphf_with_freq',\n",
       " 'dipole',\n",
       " 'hyper_polarizability',\n",
       " 'lib',\n",
       " 'logger',\n",
       " 'numpy',\n",
       " 'polarizability',\n",
       " 'polarizability_with_freq',\n",
       " 'reduce',\n",
       " 'scf',\n",
       " 'time']"
      ]
     },
     "execution_count": 36,
     "metadata": {},
     "output_type": "execute_result"
    }
   ],
   "source": [
    "dir(prhf)"
   ]
  },
  {
   "cell_type": "code",
   "execution_count": 40,
   "metadata": {},
   "outputs": [
    {
     "name": "stdout",
     "output_type": "stream",
     "text": [
      "def hyper_polarizability(polobj, with_cphf=True):\n",
      "    from pyscf.prop.nmr import rhf as rhf_nmr\n",
      "    log = logger.new_logger(polobj)\n",
      "    mf = polobj._scf\n",
      "    mol = mf.mol\n",
      "    mo_energy = mf.mo_energy\n",
      "    mo_coeff = mf.mo_coeff\n",
      "    mo_occ = mf.mo_occ\n",
      "    occidx = mo_occ > 0\n",
      "    orbo = mo_coeff[:, occidx]\n",
      "    #orbv = mo_coeff[:,~occidx]\n",
      "\n",
      "    charges = mol.atom_charges()\n",
      "    coords  = mol.atom_coords()\n",
      "    charge_center = numpy.einsum('i,ix->x', charges, coords) / charges.sum()\n",
      "    with mol.with_common_orig(charge_center):\n",
      "        int_r = mol.intor_symmetric('int1e_r', comp=3)\n",
      "\n",
      "    h1 = lib.einsum('xpq,pi,qj->xij', int_r, mo_coeff.conj(), orbo)\n",
      "    s1 = numpy.zeros_like(h1)\n",
      "    vind = polobj.gen_vind(mf, mo_coeff, mo_occ)\n",
      "    if with_cphf:\n",
      "        mo1, e1 = cphf.solve(vind, mo_energy, mo_occ, h1, s1,\n",
      "                             polobj.max_cycle_cphf, polobj.conv_tol, verbose=log)\n",
      "    else:\n",
      "        mo1, e1 = rhf_nmr._solve_mo1_uncoupled(mo_energy, mo_occ, h1, s1)\n",
      "    mo1 = lib.einsum('xqi,pq->xpi', mo1, mo_coeff)\n",
      "\n",
      "    dm1 = lib.einsum('xpi,qi->xpq', mo1, orbo) * 2\n",
      "    dm1 = dm1 + dm1.transpose(0,2,1)\n",
      "    vresp = mf.gen_response(hermi=1)\n",
      "    h1ao = int_r + vresp(dm1)\n",
      "    # *2 for double occupancy\n",
      "    e3  = lib.einsum('xpq,ypi,zqi->xyz', h1ao, mo1, mo1) * 2\n",
      "    e3 -= lib.einsum('pq,xpi,yqj,zij->xyz', mf.get_ovlp(), mo1, mo1, e1) * 2\n",
      "    e3 = (e3 + e3.transpose(1,2,0) + e3.transpose(2,0,1) +\n",
      "          e3.transpose(0,2,1) + e3.transpose(1,0,2) + e3.transpose(2,1,0))\n",
      "    e3 = -e3\n",
      "    log.debug('Static hyper polarizability tensor\\n%s', e3)\n",
      "    return e3\n",
      "\n"
     ]
    }
   ],
   "source": [
    "print(inspect.getsource(prhf.hyper_polarizability))"
   ]
  },
  {
   "cell_type": "code",
   "execution_count": null,
   "metadata": {},
   "outputs": [],
   "source": []
  }
 ],
 "metadata": {
  "kernelspec": {
   "display_name": "Python 3",
   "language": "python",
   "name": "python3"
  },
  "language_info": {
   "codemirror_mode": {
    "name": "ipython",
    "version": 3
   },
   "file_extension": ".py",
   "mimetype": "text/x-python",
   "name": "python",
   "nbconvert_exporter": "python",
   "pygments_lexer": "ipython3",
   "version": "3.8.8"
  }
 },
 "nbformat": 4,
 "nbformat_minor": 2
}
